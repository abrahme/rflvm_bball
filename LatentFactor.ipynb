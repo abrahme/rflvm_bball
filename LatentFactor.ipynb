{
 "cells": [
  {
   "cell_type": "code",
   "execution_count": 2,
   "metadata": {},
   "outputs": [
    {
     "data": {
      "text/html": [
       "        <script type=\"text/javascript\">\n",
       "        window.PlotlyConfig = {MathJaxConfig: 'local'};\n",
       "        if (window.MathJax && window.MathJax.Hub && window.MathJax.Hub.Config) {window.MathJax.Hub.Config({SVG: {font: \"STIX-Web\"}});}\n",
       "        if (typeof require !== 'undefined') {\n",
       "        require.undef(\"plotly\");\n",
       "        requirejs.config({\n",
       "            paths: {\n",
       "                'plotly': ['https://cdn.plot.ly/plotly-2.20.0.min']\n",
       "            }\n",
       "        });\n",
       "        require(['plotly'], function(Plotly) {\n",
       "            window._Plotly = Plotly;\n",
       "        });\n",
       "        }\n",
       "        </script>\n",
       "        "
      ]
     },
     "metadata": {},
     "output_type": "display_data"
    }
   ],
   "source": [
    "import numpy as np\n",
    "import pickle\n",
    "import matplotlib.pyplot as plt\n",
    "from plotly.offline import init_notebook_mode\n",
    "init_notebook_mode(connected = True)"
   ]
  },
  {
   "cell_type": "code",
   "execution_count": 3,
   "metadata": {},
   "outputs": [],
   "source": [
    "import os\n",
    "experiment_result = {}\n",
    "for file in os.listdir(\"experiments\"):\n",
    "    if file.endswith(\".pickle\"):\n",
    "        with open(f\"experiments/{file}\",\"rb\") as f:\n",
    "            data = pickle.load(f)\n",
    "        f.close()\n",
    "        experiment_result[file.split(\".\")[0]] = data"
   ]
  },
  {
   "cell_type": "code",
   "execution_count": 10,
   "metadata": {},
   "outputs": [
    {
     "data": {
      "text/plain": [
       "(1000, 2332, 2)"
      ]
     },
     "execution_count": 10,
     "metadata": {},
     "output_type": "execute_result"
    }
   ],
   "source": [
    "experiment_result[\"binomial_ftm_rflvm\"][\"X\"].shape"
   ]
  },
  {
   "cell_type": "code",
   "execution_count": 4,
   "metadata": {},
   "outputs": [],
   "source": [
    "import numpy as np\n",
    "from scipy.linalg import svd \n",
    "from typing import Tuple\n",
    "\n",
    "def varimax(Phi, gamma = 1.0, q = 20, tol = 1e-6):\n",
    "\n",
    "    p,k = Phi.shape\n",
    "    R = np.eye(k)\n",
    "    d=0\n",
    "    for i in range(q):\n",
    "        d_old = d\n",
    "        Lambda = np.dot(Phi, R)\n",
    "        u,s,vh = svd(np.dot(Phi.T,np.asarray(Lambda)**3 - (gamma/p) * np.dot(Lambda, np.diag(np.diag(np.dot(Lambda.T,Lambda))))))\n",
    "        R = np.dot(u,vh)\n",
    "        d = np.sum(s)\n",
    "        if d_old!=0 and d/d_old < 1 + tol: break\n",
    "    return np.dot(Phi, R)\n",
    "\n",
    "\n",
    "def rotate_factors(player_factor_tensor:np.ndarray, use_varimax:bool = True)->Tuple[np.ndarray, np.ndarray]:\n",
    "    \"\"\"\n",
    "\n",
    "    Args:\n",
    "        player_factor_tensor (np.ndarray): sample x num factors x num players \n",
    "        varimax (bool): whether to apply varimax rotation or not\n",
    "\n",
    "    Returns:\n",
    "        np.ndarray: sample x num factors x num players  rotated tensor\n",
    "    \"\"\"\n",
    "\n",
    "    n_samples, n_factors, _ = player_factor_tensor.shape\n",
    "    output_tensor = np.zeros_like(player_factor_tensor)\n",
    "    rotations = [np.eye(n_factors)]\n",
    "    output_tensor[0,:,:] = player_factor_tensor[0,:,:] if not use_varimax else varimax(player_factor_tensor[0,:,:])\n",
    "    for i in range(1,n_samples):\n",
    "        U, _, V =  svd(output_tensor[0,:,:].dot(player_factor_tensor[i,:,:].T), full_matrices=False)\n",
    "        rotation = U.dot(V)\n",
    "        rotations.append(rotation)\n",
    "        output_tensor[i,:,:] = rotation.dot(player_factor_tensor[i,:,:])\n",
    "    print(len(rotations))\n",
    "    return output_tensor, np.stack(rotations,axis = 0)\n",
    "\n",
    "\n"
   ]
  },
  {
   "cell_type": "code",
   "execution_count": 5,
   "metadata": {},
   "outputs": [
    {
     "name": "stdout",
     "output_type": "stream",
     "text": [
      "1000\n",
      "1000\n",
      "1000\n",
      "1000\n",
      "1000\n",
      "1000\n",
      "1000\n",
      "1000\n",
      "1000\n",
      "1000\n",
      "1000\n"
     ]
    }
   ],
   "source": [
    "rotated_experiment_results = {}\n",
    "# for model in experiment_result:\n",
    "#     print(model, experiment_result[model][\"X\"])\n",
    "#     rotated_experiment_results[model] = rotate_factors(np.swapaxes(experiment_result[model][\"X\"], axis1 = 1, axis2=2))\n",
    "\n",
    "rotated_experiment_results[\"poisson_ast_rflvm\"] = rotate_factors(np.swapaxes(experiment_result[\"poisson_ast_rflvm\"][\"X\"],1,2))\n",
    "rotated_experiment_results[\"poisson_stl_rflvm\"] = rotate_factors(np.swapaxes(experiment_result[\"poisson_stl_rflvm\"][\"X\"],1,2))\n",
    "rotated_experiment_results[\"poisson_blk_rflvm\"] = rotate_factors(np.swapaxes(experiment_result[\"poisson_blk_rflvm\"][\"X\"],1,2))\n",
    "rotated_experiment_results[\"poisson_dreb_rflvm\"] = rotate_factors(np.swapaxes(experiment_result[\"poisson_dreb_rflvm\"][\"X\"],1,2))\n",
    "rotated_experiment_results[\"poisson_oreb_rflvm\"] = rotate_factors(np.swapaxes(experiment_result[\"poisson_oreb_rflvm\"][\"X\"],1,2))\n",
    "rotated_experiment_results[\"gaussian_bpm_rflvm\"] = rotate_factors(np.swapaxes(experiment_result[\"gaussian_bpm_rflvm\"][\"X\"],1,2))\n",
    "rotated_experiment_results[\"gaussian_dbpm_rflvm\"] = rotate_factors(np.swapaxes(experiment_result[\"gaussian_dbpm_rflvm\"][\"X\"],1,2))\n",
    "rotated_experiment_results[\"gaussian_obpm_rflvm\"] = rotate_factors(np.swapaxes(experiment_result[\"gaussian_obpm_rflvm\"][\"X\"],1,2))\n",
    "rotated_experiment_results[\"binomial_ftm_rflvm\"] = rotate_factors(np.swapaxes(experiment_result[\"binomial_ftm_rflvm\"][\"X\"],1,2))\n",
    "rotated_experiment_results[\"binomial_fg2m_rflvm\"] = rotate_factors(np.swapaxes(experiment_result[\"binomial_fg2m_rflvm\"][\"X\"],1,2))\n",
    "rotated_experiment_results[\"binomial_fg3m_rflvm\"] = rotate_factors(np.swapaxes(experiment_result[\"binomial_fg3m_rflvm\"][\"X\"],1,2))"
   ]
  },
  {
   "cell_type": "code",
   "execution_count": 6,
   "metadata": {},
   "outputs": [],
   "source": [
    "rotated_means_results = {model : rotated_experiment_results[model][0].mean(axis=0).T for model in  rotated_experiment_results}"
   ]
  },
  {
   "cell_type": "code",
   "execution_count": null,
   "metadata": {},
   "outputs": [],
   "source": []
  },
  {
   "cell_type": "code",
   "execution_count": 7,
   "metadata": {},
   "outputs": [],
   "source": [
    "import pandas as pd\n",
    "df = pd.read_csv(\"datasets/player_data.csv\")"
   ]
  },
  {
   "cell_type": "code",
   "execution_count": 8,
   "metadata": {},
   "outputs": [],
   "source": [
    "df = df.sort_values(by=[\"id\",\"year\"])\n"
   ]
  },
  {
   "cell_type": "code",
   "execution_count": 9,
   "metadata": {},
   "outputs": [],
   "source": [
    "import plotly.express as px\n",
    "\n",
    "\n",
    "def plot_scatter(dataframe, rotated_means_dict, metric, model, offset = \"minutes\"):\n",
    "    key_name = f\"{model}_{metric}_rflvm\"\n",
    "    df_size_vals = dataframe[[offset,\"id\"]].groupby(\"id\").mean().reset_index()\n",
    "    df_names = dataframe[[\"id\",\"name\"]].drop_duplicates()[\"name\"].values\n",
    "    data = pd.DataFrame(rotated_means_dict[key_name], columns=[\"x\",\"y\"])\n",
    "    data[\"names\"] = df_names\n",
    "    data[offset] = df_size_vals[offset]\n",
    "    if model == \"binomial\":\n",
    "        df_color_vals = dataframe[[metric,offset, \"id\"]].groupby(\"id\").sum().reset_index()\n",
    "        data[f\"{metric}_pct\"] = df_color_vals[metric]/df_color_vals[offset]\n",
    "        fig = px.scatter(data_frame= data,   \n",
    "                   x = \"x\", y = \"y\", hover_data = [f\"{metric}_pct\",offset,\"names\"], title = metric, size = offset,\n",
    "                         color = f\"{metric}_pct\", range_color = [.1,.5])\n",
    "    elif model == \"poisson\":\n",
    "        df_color_vals = dataframe[[metric,offset,\"id\"]].groupby(\"id\").sum().reset_index()\n",
    "        data[f\"{metric}_rate\"] = df_color_vals[metric]/df_color_vals[offset]\n",
    "        fig = px.scatter(data_frame = data, x = \"x\", y = \"y\", hover_data = [f\"{metric}_rate\",offset,\"names\"], \n",
    "                         title = metric, size = offset,\n",
    "                         color = f\"{metric}_rate\", range_color = [0,.2])\n",
    "    elif model == \"gaussian\":\n",
    "        df_color_vals = dataframe[[metric, \"id\"]].groupby(\"id\").mean().reset_index()\n",
    "        data[\"hover\"] = df_color_vals[metric]\n",
    "        fig = px.scatter(data_frame = data, x = \"x\", y = \"y\", color = \"hover\",\n",
    "                    size = offset, hover_data = [\"hover\",offset,\"names\"], title = metric )\n",
    "    \n",
    "    fig.show()\n",
    "    \n",
    "\n",
    "    \n"
   ]
  },
  {
   "cell_type": "code",
   "execution_count": 10,
   "metadata": {},
   "outputs": [
    {
     "data": {
      "application/vnd.plotly.v1+json": {
       "config": {
        "plotlyServerURL": "https://plot.ly"
       },
       "data": [
        {
         "customdata": [
          [
           0.4712041884816754,
           191,
           "Byron Scott"
          ],
          [
           0.4431818181818182,
           226.28571428571428,
           "Grant Long"
          ],
          [
           0.41040462427745666,
           173,
           "Dan Schayes"
          ],
          [
           0.37037037037037035,
           54,
           "Sedale Threatt"
          ],
          [
           0.2857142857142857,
           7,
           "Chris King"
          ],
          [
           0.45989800649049606,
           179.75,
           "Eric Piatkowski"
          ],
          [
           0.4840961986035687,
           644.5,
           "Clyde Drexler"
          ],
          [
           0.424190800681431,
           195.66666666666666,
           "Greg Anthony"
          ],
          [
           0.49054878048780487,
           820,
           "Rik Smits"
          ],
          [
           0.44542772861356933,
           169.5,
           "Dennis Rodman"
          ],
          [
           0.4588555858310627,
           367,
           "Luc Longley"
          ],
          [
           0.44287396937573614,
           169.8,
           "Doug West"
          ],
          [
           0.4521497919556172,
           144.2,
           "Jim McIlvaine"
          ],
          [
           0.7017543859649122,
           19,
           "Lorenzo Williams"
          ],
          [
           0.4606741573033708,
           89,
           "Clifford Rozier"
          ],
          [
           0.44680851063829785,
           94,
           "Eric Riley"
          ],
          [
           0.38028169014084506,
           71,
           "Sarunas Marciulionis"
          ],
          [
           0.46551724137931033,
           29,
           "Greg Graham"
          ],
          [
           0.3333333333333333,
           7.5,
           "Brad Lohaus"
          ],
          [
           0.4899860270144388,
           306.7142857142857,
           "Monty Williams"
          ],
          [
           0.4305459571527298,
           180.875,
           "Chris Whitney"
          ],
          [
           0.4325505188421628,
           305.1666666666667,
           "George McCloud"
          ],
          [
           0.42587601078167114,
           371,
           "Wayman Tisdale"
          ],
          [
           0.5822784810126582,
           210.66666666666666,
           "Gheorghe Muresan"
          ],
          [
           0.4609375,
           384,
           "Mahmoud Abdul-Rauf"
          ],
          [
           0.3469387755102041,
           24.5,
           "Micheal Williams"
          ],
          [
           0.5194697597348799,
           241.4,
           "Mario Elie"
          ],
          [
           0.43911917098445596,
           154.4,
           "Dickey Simpkins"
          ],
          [
           0.46833013435700577,
           130.25,
           "Marty Conlon"
          ],
          [
           0.4950159284760045,
           884.6363636363636,
           "Gary Payton"
          ],
          [
           0.4565838645856232,
           413.54545454545456,
           "Doug Christie"
          ],
          [
           0.4318181818181818,
           278.6666666666667,
           "Carl Herrera"
          ],
          [
           0.5236818588025023,
           223.8,
           "Michael Smith"
          ],
          [
           0.44285714285714284,
           210,
           "Sam Perkins"
          ],
          [
           0.4648318042813456,
           218,
           "Greg Minor"
          ],
          [
           0.48004314994606256,
           185.4,
           "Tom Hammonds"
          ],
          [
           0.49668141592920356,
           129.14285714285714,
           "Steve Kerr"
          ],
          [
           0.4099616858237548,
           174,
           "Pooh Richardson"
          ],
          [
           0.44185475956820414,
           452.8888888888889,
           "Kenny Anderson"
          ],
          [
           0.4776579352850539,
           216.33333333333334,
           "Hot Rod Williams"
          ],
          [
           0.48547094188376755,
           399.2,
           "Cedric Ceballos"
          ],
          [
           0.4291390728476821,
           107.85714285714286,
           "Doug Overton"
          ],
          [
           0.15789473684210525,
           19,
           "LaSalle Thompson"
          ],
          [
           0.375,
           56,
           "Ken Norman"
          ],
          [
           0.4675324675324675,
           38.5,
           "Jeff Grayer"
          ],
          [
           0.4304635761589404,
           151,
           "Bill Wennington"
          ],
          [
           0.44229995979091274,
           829,
           "Latrell Sprewell"
          ],
          [
           0.4676470588235294,
           56.666666666666664,
           "Brent Price"
          ],
          [
           0.5145929339477726,
           350.53846153846155,
           "Dikembe Mutombo"
          ],
          [
           0.8333333333333334,
           6,
           "Steve Scheffler"
          ],
          [
           0.42675635276532137,
           535.2,
           "Nick Van Exel"
          ],
          [
           0.4533799533799534,
           214.5,
           "Hubert Davis"
          ],
          [
           0.4984447900466563,
           183.71428571428572,
           "Mark Bryant"
          ],
          [
           0.4908685968819599,
           449,
           "Detlef Schrempf"
          ],
          [
           0.4558645707376058,
           275.6666666666667,
           "Nick Anderson"
          ],
          [
           0.40236686390532544,
           42.25,
           "Tim Legler"
          ],
          [
           0.41223103057757643,
           220.75,
           "Todd Day"
          ],
          [
           0.47619047619047616,
           15.75,
           "Benoit Benjamin"
          ],
          [
           0.4818897637795276,
           105.83333333333333,
           "Dan Majerle"
          ],
          [
           0.4781931464174455,
           321,
           "Dale Ellis"
          ],
          [
           0.4570963806425376,
           204.91666666666666,
           "Robert Horry"
          ],
          [
           0.4565613608748481,
           470.2857142857143,
           "LaPhonso Ellis"
          ],
          [
           0.44537815126050423,
           59.5,
           "Dontonio Wingfield"
          ],
          [
           0.6521739130434783,
           23,
           "David Wood"
          ],
          [
           0.4671338811019816,
           459.77777777777777,
           "Steven Smith"
          ],
          [
           0.46635674088573525,
           681.1666666666666,
           "Patrick Ewing"
          ],
          [
           0.4,
           15,
           "Fred Roberts"
          ],
          [
           0.41543901001767825,
           212.125,
           "Robert Pack"
          ],
          [
           0.49081364829396323,
           592.6666666666666,
           "Vlade Divac"
          ],
          [
           0.4381720430107527,
           186,
           "David Benoit"
          ],
          [
           0.4408284023668639,
           338,
           "Dino Radja"
          ],
          [
           0.44819783416841763,
           562.4545454545455,
           "David Wesley"
          ],
          [
           0.5,
           345.3333333333333,
           "Kevin Johnson"
          ],
          [
           0.46755812186597784,
           548.4166666666666,
           "P.J. Brown"
          ],
          [
           0.41313050440352284,
           249.8,
           "Vernon Maxwell"
          ],
          [
           0.30275229357798167,
           54.5,
           "Anthony Avent"
          ],
          [
           0.4084507042253521,
           106.5,
           "Donald Royal"
          ],
          [
           0.4098639455782313,
           196,
           "Terry Dehere"
          ],
          [
           0.45223633351739373,
           226.375,
           "Tracy Murray"
          ],
          [
           0.4618320610687023,
           87.33333333333333,
           "Jud Buechler"
          ],
          [
           0.4593644014571034,
           723.7272727272727,
           "Jalen Rose"
          ],
          [
           0.4444444444444444,
           45,
           "Adrian Caldwell"
          ],
          [
           0.47132429614181437,
           239.75,
           "Antoine Carr"
          ],
          [
           0.46,
           350,
           "Derek Harper"
          ],
          [
           0.375,
           8,
           "Tim Breaux"
          ],
          [
           0.4316446911866759,
           205.85714285714286,
           "Chris Childs"
          ],
          [
           0.4975926817525277,
           692.3333333333334,
           "Hakeem Olajuwon"
          ],
          [
           0.45891203703703703,
           345.6,
           "Ron Harper"
          ],
          [
           0.45188639253921153,
           337,
           "Chris Mills"
          ],
          [
           0.39325842696629215,
           89,
           "Joe Kleine"
          ],
          [
           0.4342105263157895,
           76,
           "Keith Askins"
          ],
          [
           0.4117647058823529,
           42.5,
           "Alton Lister"
          ],
          [
           0.47674418604651164,
           17.2,
           "Antonio Harvey"
          ],
          [
           0.467984934086629,
           212.4,
           "Muggsy Bogues"
          ],
          [
           0.47470962907455977,
           444.8333333333333,
           "Olden Polynice"
          ],
          [
           0.42592592592592593,
           234,
           "Bryant Stith"
          ],
          [
           0.4355083459787557,
           94.14285714285714,
           "John Crotty"
          ],
          [
           0.40384615384615385,
           104,
           "Kenny Smith"
          ],
          [
           0.45454545454545453,
           382.8,
           "Billy Owens"
          ],
          [
           0.5045751633986928,
           510,
           "Bison Dele"
          ],
          [
           0.45857418111753373,
           389.25,
           "Bobby Phills"
          ],
          [
           0.47976495903335264,
           1006.9166666666666,
           "Chris Webber"
          ],
          [
           0.4571215510812826,
           335.25,
           "Terry Cummings"
          ],
          [
           0.4599406528189911,
           67.4,
           "Duane Causwell"
          ],
          [
           0.4090909090909091,
           280.5,
           "Dennis Scott"
          ],
          [
           0.49940659862330883,
           702.1666666666666,
           "Anthony Mason"
          ],
          [
           0.5272727272727272,
           55,
           "Anthony Bowie"
          ],
          [
           0.42507645259938837,
           109,
           "Lee Mayberry"
          ],
          [
           0.41863699582753827,
           143.8,
           "Scott Burrell"
          ],
          [
           0.4673495518565941,
           223.14285714285714,
           "Danny Ferry"
          ],
          [
           0.47619047619047616,
           42,
           "Reggie Williams"
          ],
          [
           0.4141689373297003,
           104.85714285714286,
           "Chris Dudley"
          ],
          [
           0.45,
           32,
           "Gary Grant"
          ],
          [
           0.41836734693877553,
           49,
           "Nate McMillan"
          ],
          [
           0.4984907287623976,
           579.75,
           "Jeff Hornacek"
          ],
          [
           0.478089348544621,
           781.5833333333334,
           "Sam Cassell"
          ],
          [
           0.4629080118694362,
           280.8333333333333,
           "Dell Curry"
          ],
          [
           0.4608793686583991,
           739.1666666666666,
           "Terrell Brandon"
          ],
          [
           0.4444444444444444,
           63,
           "Eric Mobley"
          ],
          [
           0.3194444444444444,
           36,
           "Yinka Dare"
          ],
          [
           0.441418725836275,
           594.9,
           "Antonio Davis"
          ],
          [
           0.3955892487939352,
           207.28571428571428,
           "Brian Shaw"
          ],
          [
           0.46940985381700057,
           307.8333333333333,
           "Vinny Del Negro"
          ],
          [
           0.4761186525892408,
           442,
           "Clar. Weatherspoon"
          ],
          [
           0.4597156398104265,
           52.75,
           "Bill Curley"
          ],
          [
           0.46595503800743976,
           515.25,
           "Eddie Jones"
          ],
          [
           0.4393063583815029,
           43.25,
           "Antonio Lang"
          ],
          [
           0.4888663967611336,
           197.6,
           "Adam Keefe"
          ],
          [
           0.42616033755274263,
           177.75,
           "Khalid Reeves"
          ],
          [
           0.35374149659863946,
           147,
           "Kevin Edwards"
          ],
          [
           0.49335989375830014,
           376.5,
           "Tyrone Hill"
          ],
          [
           0.3905660377358491,
           144.54545454545453,
           "Darrick Martin"
          ],
          [
           0.42021276595744683,
           94,
           "Brooks Thompson"
          ],
          [
           0.45714285714285713,
           35,
           "Darrin Hancock"
          ],
          [
           0.45603715170278636,
           293.6363636363636,
           "Aaron McKie"
          ],
          [
           0.41812400635930047,
           104.83333333333333,
           "Dee Brown"
          ],
          [
           0.49258160237388726,
           168.5,
           "Greg Anderson"
          ],
          [
           0.4517766497461929,
           328.3333333333333,
           "Joe Dumars"
          ],
          [
           0.452081316553727,
           344.3333333333333,
           "George Lynch"
          ],
          [
           0.43349753694581283,
           243.6,
           "Sean Elliott"
          ],
          [
           0.5026870607689128,
           1209.5,
           "Karl Malone"
          ],
          [
           0.4965185838972247,
           637.3125,
           "Grant Hill"
          ],
          [
           0.4839537869062901,
           467.4,
           "Brian Grant"
          ],
          [
           0.4879032258064516,
           82.66666666666667,
           "Michael Cage"
          ],
          [
           0.4090121317157712,
           192.33333333333334,
           "Harvey Grant"
          ],
          [
           0.4712790400816952,
           489.625,
           "Horace Grant"
          ],
          [
           0.45707070707070707,
           396,
           "Johnny Newman"
          ],
          [
           0.4441747572815534,
           137.33333333333334,
           "Duane Ferrell"
          ],
          [
           0.45896437328717726,
           770.3333333333334,
           "Allan Houston"
          ],
          [
           0.4384581690757775,
           228.3,
           "Stacey Augmon"
          ],
          [
           0.6,
           7.5,
           "Charles Jones"
          ],
          [
           0.4685714285714286,
           87.5,
           "Felton Spencer"
          ],
          [
           0.4624756335282651,
           228,
           "Scott Williams"
          ],
          [
           0.413472706155633,
           246,
           "Lindsey Hunter"
          ],
          [
           0.42424242424242425,
           33,
           "Eric Leckner"
          ],
          [
           0.46918604651162793,
           430,
           "Armen Gilliam"
          ],
          [
           0.4573643410852713,
           129,
           "Ledell Eackles"
          ],
          [
           0.5348837209302325,
           43,
           "Ed Pinckney"
          ],
          [
           0.5137614678899083,
           36.333333333333336,
           "Anthony Miller"
          ],
          [
           0.40963855421686746,
           83,
           "Charles Smith"
          ],
          [
           0.4920040830214359,
           367.375,
           "Rick Fox"
          ],
          [
           0.5382671480144404,
           503.6363636363636,
           "Alonzo Mourning"
          ],
          [
           0.4802983219390926,
           893.8888888888889,
           "Glenn Robinson"
          ],
          [
           0.44432432432432434,
           462.5,
           "Mookie Blaylock"
          ],
          [
           0.5343674779352768,
           534.1428571428571,
           "John Stockton"
          ],
          [
           0.48951048951048953,
           143,
           "Robert Parish"
          ],
          [
           0,
           5,
           "Derrick Alston"
          ],
          [
           0.40540540540540543,
           148,
           "Bobby Hurley"
          ],
          [
           0.38461538461538464,
           78,
           "Richard Manning"
          ],
          [
           0.4279544562230075,
           424.5,
           "John Starks"
          ],
          [
           0.45161290322580644,
           31,
           "Jamie Watson"
          ],
          [
           0.42949234488315874,
           177.28571428571428,
           "Greg Foster"
          ],
          [
           0.4371238517579981,
           350.77777777777777,
           "Anthony Peeler"
          ],
          [
           0.42,
           66.66666666666667,
           "Rick Mahorn"
          ],
          [
           0.5118964310706788,
           408.2857142857143,
           "Danny Manning"
          ],
          [
           0.39655172413793105,
           174,
           "Kevin Gamble"
          ],
          [
           0.4666666666666667,
           45,
           "Willie Anderson"
          ],
          [
           0.4585674157303371,
           474.6666666666667,
           "Tom Gugliotta"
          ],
          [
           0.39690721649484534,
           64.66666666666667,
           "Joe Wolf"
          ],
          [
           0.4709141274238227,
           206.28571428571428,
           "Dana Barros"
          ],
          [
           0.4725201072386059,
           248.66666666666666,
           "Terry Porter"
          ],
          [
           0.46153846153846156,
           70.2,
           "Mitchell Butler"
          ],
          [
           0.4517593643586833,
           330.375,
           "Mark Jackson"
          ],
          [
           0.5,
           22,
           "Stacey King"
          ],
          [
           0.46466003762429453,
           310.0833333333333,
           "Darrell Armstrong"
          ],
          [
           0.43457943925233644,
           107,
           "Vincent Askew"
          ],
          [
           0.4834905660377358,
           141.33333333333334,
           "Chris Morris"
          ],
          [
           0.45374149659863944,
           400.90909090909093,
           "Anfernee Hardaway"
          ],
          [
           0.4625585023400936,
           213.66666666666666,
           "Chucky Brown"
          ],
          [
           0.45399789188375245,
           603.7272727272727,
           "Clifford Robinson"
          ],
          [
           0.4937853107344633,
           491.6666666666667,
           "Christian Laettner"
          ],
          [
           0.444794952681388,
           396.25,
           "Rex Chapman"
          ],
          [
           0.44108761329305135,
           165.5,
           "Derrick McKey"
          ],
          [
           0.32,
           25,
           "Dwayne Schintzius"
          ],
          [
           0.4553686934023286,
           171.77777777777777,
           "Charlie Ward"
          ],
          [
           0.4727540500736377,
           135.8,
           "Terry Mills"
          ],
          [
           0.4566860465116279,
           573.3333333333334,
           "Isaiah Rider"
          ],
          [
           0.4336677814938685,
           149.5,
           "Eric Montross"
          ],
          [
           0.39215686274509803,
           153,
           "Craig Ehlo"
          ],
          [
           0.43727598566308246,
           93,
           "Tony Smith"
          ],
          [
           0.43256578947368424,
           152,
           "James Robinson"
          ],
          [
           0.42838780756518546,
           605.1111111111111,
           "Kendall Gill"
          ],
          [
           0.47882050081909666,
           427.3,
           "Calbert Cheaney"
          ],
          [
           0.4630053394355454,
           218.5,
           "Elliot Perry"
          ],
          [
           0.4747120681021532,
           399.4,
           "Toni Kukoc"
          ],
          [
           0.4880239520958084,
           334,
           "Sasha Danilovic"
          ],
          [
           0.4473428070858478,
           570.7777777777778,
           "Rod Strickland"
          ],
          [
           0.4883167459974037,
           513.5555555555555,
           "Reggie Miller"
          ],
          [
           0.4261025029797378,
           209.75,
           "Sean Rooks"
          ],
          [
           0.43475409836065576,
           305,
           "Derek Strong"
          ],
          [
           0.42424242424242425,
           99,
           "Kevin Duckworth"
          ],
          [
           0.5833093938523413,
           928.2666666666667,
           "Shaquille O'Neal"
          ],
          [
           0.40384615384615385,
           208,
           "Sharone Wright"
          ],
          [
           0.36363636363636365,
           29.333333333333332,
           "Willie Burton"
          ],
          [
           0.4521072796934866,
           435,
           "Sam Mitchell"
          ],
          [
           0.45121951219512196,
           41,
           "Scott Brooks"
          ],
          [
           0.4587221823402728,
           464.3333333333333,
           "Jayson Williams"
          ],
          [
           0.4741285403050109,
           459,
           "Avery Johnson"
          ],
          [
           0.47738366417181904,
           512.1666666666666,
           "Chris Gatling"
          ],
          [
           0.5053763440860215,
           124,
           "Terry Davis"
          ],
          [
           0.5026490066225165,
           302,
           "Sherman Douglas"
          ],
          [
           0.45039491427470624,
           741.5714285714286,
           "Shawn Kemp"
          ],
          [
           0.439622641509434,
           132.5,
           "Pete Chilcutt"
          ],
          [
           0.5274261603375527,
           237,
           "Buck Williams"
          ],
          [
           0.4342105263157895,
           38,
           "Tony Dumas"
          ],
          [
           0.5683615819209039,
           147.5,
           "Carlos Rogers"
          ],
          [
           0.465970409051349,
           675.8823529411765,
           "Juwan Howard"
          ],
          [
           0.42857142857142855,
           7,
           "Robert Werdann"
          ],
          [
           0.48484848484848486,
           148.5,
           "Zan Tabak"
          ],
          [
           0.44767829371250834,
           500.1111111111111,
           "Lamond Murray"
          ],
          [
           0.49264705882352944,
           34,
           "Pervis Ellison"
          ],
          [
           0.47954329210275926,
           350.3333333333333,
           "Wesley Person"
          ],
          [
           0.4393939393939394,
           322.6666666666667,
           "Lucious Harris"
          ],
          [
           0.5751680226388397,
           235.58333333333334,
           "Bo Outlaw"
          ],
          [
           0.4869291859695566,
           604.4,
           "Vin Baker"
          ],
          [
           0.41843971631205673,
           94,
           "Chuck Person"
          ],
          [
           0.4141048824593128,
           138.25,
           "Andrew Lang"
          ],
          [
           0.4322446143154969,
           287.8,
           "Howard Eisley"
          ],
          [
           0.4442970822281167,
           188.5,
           "Popeye Jones"
          ],
          [
           0.46272855133614627,
           177.75,
           "J.R. Reid"
          ],
          [
           0.4319894724249312,
           491.70588235294116,
           "Jason Kidd"
          ],
          [
           0.47480482611781405,
           140.9,
           "Jon Barry"
          ],
          [
           0.43512014787430686,
           676.25,
           "Jamal Mashburn"
          ],
          [
           0.5,
           68,
           "Melvin Booker"
          ],
          [
           0.40425531914893614,
           47,
           "Donnie Boyce"
          ],
          [
           0.4342948717948718,
           104,
           "Matt Bullard"
          ],
          [
           0.47339010111761576,
           341.6363636363636,
           "Alan Henderson"
          ],
          [
           0.4180327868852459,
           61,
           "Reggie Jordan"
          ],
          [
           0.4430379746835443,
           79,
           "Thomas Hamilton"
          ],
          [
           0.43110838946723823,
           296.90909090909093,
           "Eric Williams"
          ],
          [
           0.38461538461538464,
           71.5,
           "George Zidek"
          ],
          [
           0.48530004027386225,
           354.7142857142857,
           "Jason Caffey"
          ],
          [
           0.4049904030710173,
           390.75,
           "John Amaechi"
          ],
          [
           0.25925925925925924,
           27,
           "Donny Marshall"
          ],
          [
           0.45152809727242854,
           338.1111111111111,
           "Bob Sura"
          ],
          [
           0.4230769230769231,
           130,
           "Loren Meyer"
          ],
          [
           0.48206419131529266,
           198.625,
           "Cherokee Parks"
          ],
          [
           0.5,
           658.8571428571429,
           "Antonio McDyess"
          ],
          [
           0.46485700436257876,
           229.22222222222223,
           "Michael Curry"
          ],
          [
           0.49265402843601896,
           281.3333333333333,
           "Theo Ratliff"
          ],
          [
           0.5236004390779363,
           130.14285714285714,
           "Don Reid"
          ],
          [
           0.2972972972972973,
           37,
           "Lou Roe"
          ],
          [
           0.5074211502782932,
           239.55555555555554,
           "Andrew DeClercq"
          ],
          [
           0.4572109654350417,
           559.3333333333334,
           "Joe Smith"
          ],
          [
           0.41743119266055045,
           130.8,
           "Sam Mack"
          ],
          [
           0.44521497919556174,
           120.16666666666667,
           "Eldridge Recasner"
          ],
          [
           0.4488210075026795,
           414.6666666666667,
           "Travis Best"
          ],
          [
           0.4559055118110236,
           141.11111111111111,
           "Fred Hoiberg"
          ],
          [
           0.47198641765704585,
           196.33333333333334,
           "Eddie Johnson"
          ],
          [
           0.5242376856919468,
           196.76923076923077,
           "Brent Barry"
          ],
          [
           0.375,
           8,
           "Keith Tower"
          ],
          [
           0.4,
           15,
           "Frankie King"
          ],
          [
           0.43660322108345534,
           341.5,
           "Voshon Lenard"
          ],
          [
           0.48558152248189146,
           430.4117647058824,
           "Kurt Thomas"
          ],
          [
           0.4819672131147541,
           101.66666666666667,
           "Shawn Respert"
          ],
          [
           0.3700787401574803,
           127,
           "Jerome Allen"
          ],
          [
           0.47990255785627284,
           205.25,
           "Mark Davis"
          ],
          [
           0.5038630510528708,
           990.15,
           "Kevin Garnett"
          ],
          [
           0.3588516746411483,
           209,
           "Ed O'Bannon"
          ],
          [
           0.45491803278688525,
           81.33333333333333,
           "David Vaughn"
          ],
          [
           0.4399302908179937,
           540.0588235294117,
           "Jerry Stackhouse"
          ],
          [
           0.5704225352112676,
           47.333333333333336,
           "Mario Bennett"
          ],
          [
           0.4444444444444444,
           221.4,
           "Chris Carr"
          ],
          [
           0.4640767386091127,
           744.6428571428571,
           "Michael Finley"
          ],
          [
           0.358974358974359,
           19.5,
           "John Coker"
          ],
          [
           0.4444444444444444,
           108,
           "Rumeal Robinson"
          ],
          [
           0.5089571337172105,
           521,
           "Arvydas Sabonis"
          ],
          [
           0.5041800643086817,
           388.75,
           "Gary Trent"
          ],
          [
           0.42857142857142855,
           21,
           "Randolph Childress"
          ],
          [
           0.415625,
           213.33333333333334,
           "Tyus Edney"
          ],
          [
           0.49276185069543005,
           640.5454545454545,
           "Corliss Williamson"
          ],
          [
           0.41733333333333333,
           125,
           "Cory Alexander"
          ],
          [
           0,
           2,
           "Dell Demps"
          ],
          [
           0.4360502234517983,
           391.5833333333333,
           "Eric Snow"
          ],
          [
           0.3333333333333333,
           6,
           "Jimmy King"
          ],
          [
           0.45454545454545453,
           11,
           "Martin Lewis"
          ],
          [
           0.4881091617933723,
           256.5,
           "Greg Ostertag"
          ],
          [
           0.28205128205128205,
           39,
           "Ashraf Amaya"
          ],
          [
           0,
           5,
           "Cuonzo Martin"
          ],
          [
           0.42628205128205127,
           156,
           "Lawrence Moten"
          ],
          [
           0.4827586206896552,
           661.2,
           "Bryant Reeves"
          ],
          [
           0,
           1,
           "Bob McCann"
          ],
          [
           0.5078427378284783,
           654.5333333333333,
           "Rasheed Wallace"
          ],
          [
           0.4027093596059113,
           232,
           "Randy Brown"
          ],
          [
           0.43453070683661643,
           517.8,
           "Jim Jackson"
          ],
          [
           0.42850452700593195,
           533.8333333333334,
           "Damon Stoudamire"
          ],
          [
           0.42786069651741293,
           241.2,
           "Jerome Kersey"
          ],
          [
           0.4747179272879231,
           398.8333333333333,
           "Matt Geiger"
          ],
          [
           0.46947259028319044,
           427.6666666666667,
           "Shawn Bradley"
          ],
          [
           0.4675984752223634,
           262.3333333333333,
           "Tony Massenburg"
          ],
          [
           0.5026075619295959,
           657.4285714285714,
           "David Robinson"
          ],
          [
           0.4819277108433735,
           265.6,
           "Hersey Hawkins"
          ],
          [
           0.45394736842105265,
           60.8,
           "David Wingate"
          ],
          [
           0.3850574712643678,
           174,
           "Acie Earl"
          ],
          [
           0.4992248062015504,
           161.25,
           "B.J. Armstrong"
          ],
          [
           0.5036764705882353,
           68,
           "Mark West"
          ],
          [
           0,
           1,
           "Elmore Spencer"
          ],
          [
           0.4896142433234421,
           84.25,
           "Rex Walters"
          ],
          [
           0.46286276438760454,
           508.25,
           "Glen Rice"
          ],
          [
           0.5292242295430393,
           188.2,
           "Will Perdue"
          ],
          [
           0.45334350368675314,
           655.5,
           "Mitch Richmond"
          ],
          [
           0.4716981132075472,
           53,
           "Frank Brickowski"
          ],
          [
           0.429042904290429,
           151.5,
           "Eric Murdock"
          ],
          [
           0.41460674157303373,
           296.6666666666667,
           "Gerald Wilkins"
          ],
          [
           0.5252747252747253,
           455,
           "Charles Barkley"
          ],
          [
           0.4634838099740014,
           423.1,
           "Kevin Willis"
          ],
          [
           0.4336500153233221,
           407.875,
           "Charles Oakley"
          ],
          [
           0.45454545454545453,
           11,
           "Spud Webb"
          ],
          [
           0.46912366912366915,
           1526.25,
           "Michael Jordan"
          ],
          [
           0.4605263157894737,
           266,
           "Ricky Pierce"
          ],
          [
           0.44030365769496205,
           289.8,
           "Tyrone Corbin"
          ],
          [
           0.4405487804878049,
           468.57142857142856,
           "Tim Hardaway"
          ],
          [
           0.4472934472934473,
           351,
           "Blue Edwards"
          ],
          [
           0.4809384164222874,
           341,
           "Mark Price"
          ],
          [
           0.3333333333333333,
           3,
           "Matt Fish"
          ],
          [
           0.5137821961138725,
           442.6,
           "Otis Thorpe"
          ],
          [
           0.43112614789753506,
           258.625,
           "Bimbo Coles"
          ],
          [
           0.5325144508670521,
           276.8,
           "Chris Mullin"
          ],
          [
           0.515822031881989,
           382.09090909090907,
           "Dale Davis"
          ],
          [
           0.44919786096256686,
           62.333333333333336,
           "Haywoode Workman"
          ],
          [
           0.4450163781001404,
           534.25,
           "Malik Sealy"
          ],
          [
           0.5157142857142857,
           210,
           "Ervin Johnson"
          ],
          [
           0.4019607843137255,
           102,
           "Rafael Addison"
          ],
          [
           0.49523809523809526,
           546,
           "Larry Johnson"
          ],
          [
           0.4697508896797153,
           140.5,
           "Stanley Roberts"
          ],
          [
           0.47953216374269003,
           494,
           "Rodney Rogers"
          ],
          [
           0.4784982935153584,
           183.125,
           "Corie Blount"
          ],
          [
           0.3333333333333333,
           27,
           "Jack Haley"
          ],
          [
           0.4779270633397313,
           312.6,
           "Loy Vaught"
          ],
          [
           0.4626865671641791,
           388.6,
           "A.C. Green"
          ],
          [
           0.45535026943802925,
           577.3333333333334,
           "Elden Campbell"
          ],
          [
           0.4718180297708647,
           459.9230769230769,
           "Donyell Marshall"
          ],
          [
           0.42165605095541403,
           112.14285714285714,
           "Anthony Goldwire"
          ],
          [
           0,
           3,
           "Sean Higgins"
          ],
          [
           0.36231884057971014,
           69,
           "John Salley"
          ],
          [
           0.5238095238095238,
           42,
           "Tracy Moore"
          ],
          [
           0.4386973180076628,
           104.4,
           "Don MacLean"
          ],
          [
           0.5169491525423728,
           188.8,
           "Oliver Miller"
          ],
          [
           0.4505807063285139,
           468.77777777777777,
           "Derrick Coleman"
          ],
          [
           0.4621026894865526,
           286.3,
           "Bryon Russell"
          ],
          [
           0.4963465553235908,
           479,
           "Scottie Pippen"
          ],
          [
           0.4756828780812791,
           500.3333333333333,
           "Rony Seikaly"
          ],
          [
           0.5,
           10,
           "Pete Myers"
          ],
          [
           0.375,
           8,
           "Earl Cureton"
          ],
          [
           0.5,
           4,
           "Ennis Whatley"
          ],
          [
           0.4483447315862737,
           1180.2142857142858,
           "Allen Iverson"
          ],
          [
           0.46927024658905997,
           469.94117647058823,
           "Marcus Camby"
          ],
          [
           0.4801309448031281,
           916.4166666666666,
           "Shareef Abdur-Rahim"
          ],
          [
           0.464966913195796,
           790.4615384615385,
           "Stephon Marbury"
          ],
          [
           0.4853374978309908,
           640.3333333333334,
           "Ray Allen"
          ],
          [
           0.44988992055135446,
           870.5833333333334,
           "Antoine Walker"
          ],
          [
           0.4606782106782107,
           426.46153846153845,
           "Lorenzen Wright"
          ],
          [
           0.4634363191820405,
           562.375,
           "Kerry Kittles"
          ],
          [
           0.4635235732009926,
           201.5,
           "Samaki Walker"
          ],
          [
           0.4986556730596881,
           348.6875,
           "Erick Dampier"
          ],
          [
           0.4222520107238606,
           149.2,
           "Todd Fuller"
          ],
          [
           0.47922761849034523,
           310.72727272727275,
           "Vitaly Potapenko"
          ],
          [
           0.5178152574556015,
           497.3888888888889,
           "Steve Nash"
          ],
          [
           0.4358097606465651,
           321.7,
           "Tony Delk"
          ],
          [
           0.46484055600981194,
           349.42857142857144,
           "John Wallace"
          ],
          [
           0.4332425068119891,
           146.8,
           "Walter McCarty"
          ],
          [
           0.38235294117647056,
           34,
           "Dontae' Jones"
          ],
          [
           0.4831649831649832,
           198,
           "Roy Rogers"
          ],
          [
           0.41282565130260523,
           332.6666666666667,
           "Derek Fisher"
          ],
          [
           0.5062211162460007,
           312.55555555555554,
           "Jerome Williams"
          ],
          [
           0.3962962962962963,
           90,
           "Brian Evans"
          ],
          [
           0.4744186046511628,
           107.5,
           "Priest Lauderdale"
          ],
          [
           0.4470899470899471,
           162,
           "Travis Knight"
          ],
          [
           0.506516290726817,
           332.5,
           "Othella Harrington"
          ],
          [
           0.429042904290429,
           75.75,
           "Mark Hendrickson"
          ],
          [
           0.45375722543352603,
           377.45454545454544,
           "Jeff McInnis"
          ],
          [
           0.47893870436719277,
           1032.7,
           "Kobe Bryant"
          ],
          [
           0.48450837812203607,
           486.61538461538464,
           "Peja Stojakovic"
          ],
          [
           0.4693504117108875,
           607.2222222222222,
           "Jermaine O'Neal"
          ],
          [
           0.47774854135682415,
           672.3846153846154,
           "Zydrunas Ilgauskas"
          ],
          [
           0.3137254901960784,
           51,
           "Efthimios Rentzias"
          ],
          [
           0.45,
           130,
           "Martin Muursepp"
          ],
          [
           0.430239704978488,
           180.77777777777777,
           "Moochie Norris"
          ],
          [
           0.5454545454545454,
           55,
           "Steve Hamer"
          ],
          [
           0.41935483870967744,
           15.5,
           "Jason Sasser"
          ],
          [
           0.41411042944785276,
           59.27272727272727,
           "Randy Livingston"
          ],
          [
           0.3559322033898305,
           14.75,
           "Ben Davis"
          ],
          [
           0.44173913043478263,
           309.61538461538464,
           "Malik Rose"
          ],
          [
           0.4222222222222222,
           22.5,
           "Marcus Brown"
          ],
          [
           0.42534504391468003,
           159.4,
           "Jamie Feick"
          ],
          [
           0.3781094527363184,
           100.5,
           "Chris Robinson"
          ],
          [
           0.45493562231759654,
           38.833333333333336,
           "Mark Pope"
          ],
          [
           0.2777777777777778,
           18,
           "Jeff Nordgaard"
          ],
          [
           0.4976428992339422,
           339.4,
           "Shandon Anderson"
          ],
          [
           0.3493975903614458,
           83,
           "Reggie Geary"
          ],
          [
           0.475,
           13.333333333333334,
           "Drew Barry"
          ],
          [
           0.43437645959831855,
           305.85714285714283,
           "Walt Williams"
          ],
          [
           0.4166666666666667,
           32,
           "Herb Williams"
          ],
          [
           0.42634315424610053,
           96.16666666666667,
           "Emanual Davis"
          ],
          [
           0.4782608695652174,
           23,
           "Horacio Llamas"
          ],
          [
           0.2727272727272727,
           11,
           "Evric Gray"
          ],
          [
           0.5226190476190476,
           105,
           "Darvin Ham"
          ],
          [
           0.4642857142857143,
           42,
           "Shawnelle Scott"
          ],
          [
           0.4605263157894737,
           25.333333333333332,
           "Litterial Green"
          ],
          [
           0.48024316109422494,
           109.66666666666667,
           "Stojko Vrankovic"
          ],
          [
           0.3790322580645161,
           124,
           "Juaquin Hawkins"
          ],
          [
           0.38235294117647056,
           34,
           "Nate Driggers"
          ],
          [
           0.38207547169811323,
           53,
           "Amal McCaskill"
          ],
          [
           0.23684210526315788,
           19,
           "Shane Heal"
          ],
          [
           0.4800531914893617,
           250.66666666666666,
           "Dean Garrett"
          ],
          [
           0.5271317829457365,
           64.5,
           "Ben Handlogten"
          ],
          [
           0.3333333333333333,
           3,
           "Ed Stokes"
          ],
          [
           0.3333333333333333,
           9,
           "Aleksandar Djordjevic"
          ],
          [
           0.25925925925925924,
           13.5,
           "William Cunningham"
          ],
          [
           0.46236559139784944,
           46.5,
           "Carl Thomas"
          ],
          [
           0.47058823529411764,
           17,
           "Brent Scott"
          ],
          [
           0.4130724766562917,
           249.88888888888889,
           "Erick Strickland"
          ],
          [
           0.4520547945205479,
           73,
           "Greg Dreiling"
          ],
          [
           0.36507936507936506,
           31.5,
           "Devin Gray"
          ],
          [
           0.48327939590075514,
           154.5,
           "Reggie Slater"
          ],
          [
           0.45336481700118064,
           141.16666666666666,
           "Matt Maloney"
          ],
          [
           null,
           0,
           "Michael McDonald"
          ],
          [
           0.4228571428571429,
           175,
           "Ray Owes"
          ],
          [
           0.389937106918239,
           79.5,
           "Henry James"
          ],
          [
           0.7,
           3.3333333333333335,
           "Ira Bowman"
          ],
          [
           0.4126984126984127,
           21,
           "Joe Stephens"
          ],
          [
           0.44691929418571014,
           314.27272727272725,
           "Chucky Atkins"
          ],
          [
           0.2826086956521739,
           23,
           "Kevin Salvadori"
          ],
          [
           0.4,
           10,
           "Gaylon Nickerson"
          ],
          [
           0.4013605442176871,
           73.5,
           "Ivano Newbill"
          ],
          [
           0.5,
           2,
           "Matt Steigenga"
          ],
          [
           0.42948717948717946,
           156,
           "Tony Farmer"
          ],
          [
           0,
           4,
           "James Scott"
          ],
          [
           0.4899267399267399,
           156,
           "Mark Strickland"
          ],
          [
           0.4770949720670391,
           335.625,
           "Ben Wallace"
          ],
          [
           0.4255079006772009,
           147.66666666666666,
           "Jaren Jackson"
          ],
          [
           0.21428571428571427,
           7,
           "Tim Kempton"
          ],
          [
           0.3,
           10,
           "Elmer Bennett"
          ],
          [
           0.38461538461538464,
           13,
           "Dexter Boney"
          ],
          [
           0.4498186215235792,
           413.5,
           "Dominique Wilkins"
          ],
          [
           0.4790697674418605,
           215,
           "Larry Stewart"
          ],
          [
           0.35,
           10,
           "Donald Whiteside"
          ],
          [
           0.5426356589147286,
           64.5,
           "Stephen Howard"
          ],
          [
           0.5161290322580645,
           31,
           "Ruben Nembhard"
          ],
          [
           0.6666666666666666,
           3,
           "Jimmy Carruth"
          ],
          [
           0.45595854922279794,
           96.5,
           "Corey Beck"
          ],
          [
           0.4512937595129376,
           438,
           "Ike Austin"
          ],
          [
           0.45,
           120,
           "Brett Szabo"
          ],
          [
           0,
           3,
           "Chris Jent"
          ],
          [
           0.43661971830985913,
           17.75,
           "Michael Hawkins"
          ],
          [
           0.43103448275862066,
           58,
           "Mark Bradtke"
          ],
          [
           0.3972222222222222,
           180,
           "Xavier McDaniel"
          ],
          [
           0.36231884057971014,
           34.5,
           "Lloyd Daniels"
          ],
          [
           0.40963855421686746,
           83,
           "John Long"
          ],
          [
           0.49681933842239184,
           262,
           "Aaron Williams"
          ],
          [
           0.36363636363636365,
           3.6666666666666665,
           "Jimmy Oliver"
          ],
          [
           0.36666666666666664,
           30,
           "Joe Courtney"
          ],
          [
           0.3939393939393939,
           99,
           "Dragan Tarlac"
          ],
          [
           0.5269978401727862,
           185.2,
           "Zeljko Rebraca"
          ],
          [
           0.5097545626179988,
           227,
           "Lawrence Funderburke"
          ],
          [
           0.23333333333333334,
           15,
           "Tom Chambers"
          ],
          [
           0.5,
           2,
           "Larry Krystkowiak"
          ],
          [
           0.42067935796939154,
           206.07692307692307,
           "Bruce Bowen"
          ],
          [
           0.4166666666666667,
           12,
           "Stevin Smith"
          ],
          [
           0.4166666666666667,
           12,
           "Mike Brown"
          ],
          [
           0.3584905660377358,
           106,
           "Lionel Simmons"
          ],
          [
           0.50852920757711,
           1061.3684210526317,
           "Tim Duncan"
          ],
          [
           0.4661892071952032,
           667.1111111111111,
           "Keith Van Horn"
          ],
          [
           0.43480861244019137,
           393.4117647058824,
           "Chauncey Billups"
          ],
          [
           0.4831858407079646,
           304.2307692307692,
           "Antonio Daniels"
          ],
          [
           0.4940876420125203,
           308.07142857142856,
           "Tony Battie"
          ],
          [
           0.43681466834441846,
           695.375,
           "Ron Mercer"
          ],
          [
           0.4697910784867307,
           408.6923076923077,
           "Tim Thomas"
          ],
          [
           0.4768451519536903,
           230.33333333333334,
           "Adonal Foyle"
          ],
          [
           0.4607449856733524,
           814.3333333333334,
           "Tracy McGrady"
          ],
          [
           0.4734337827121332,
           252.2,
           "Danny Fortson"
          ],
          [
           0.4254545454545455,
           275,
           "Tariq Abdul-Wahad"
          ],
          [
           0.4430538172715895,
           199.75,
           "Austin Croshere"
          ],
          [
           0.4399801587301587,
           366.54545454545456,
           "Derek Anderson"
          ],
          [
           0.4683760683760684,
           585,
           "Maurice Taylor"
          ],
          [
           0.5093054925102134,
           220.3,
           "Kelvin Cato"
          ],
          [
           0.41921305985768104,
           398.1666666666667,
           "Brevin Knight"
          ],
          [
           0.4044943820224719,
           59.333333333333336,
           "Johnny Taylor"
          ],
          [
           0.42411347517730497,
           235,
           "Chris Anstey"
          ],
          [
           0.4942396313364055,
           157.8181818181818,
           "Scot Pollard"
          ],
          [
           0.4482758620689655,
           14.5,
           "Paul Grant"
          ],
          [
           0.46916299559471364,
           252.22222222222223,
           "Anthony Parker"
          ],
          [
           0.33783783783783783,
           148,
           "Ed Gray"
          ],
          [
           0.4439192092823378,
           387.8333333333333,
           "Bobby Jackson"
          ],
          [
           0.3536231884057971,
           115,
           "Rodrick Rhodes"
          ],
          [
           0.504524886877828,
           88.4,
           "John Thomas"
          ],
          [
           0.4726890756302521,
           95.2,
           "Charles Smith"
          ],
          [
           0.4369108049311095,
           229.83333333333334,
           "Jacque Vaughn"
          ],
          [
           0.3424657534246575,
           73,
           "Keith Booth"
          ],
          [
           0.4132231404958678,
           60.5,
           "Charles O'Bannon"
          ],
          [
           0.4375,
           16,
           "James Cotton"
          ],
          [
           0.5714285714285714,
           38.5,
           "Marko Milic"
          ],
          [
           0.42727272727272725,
           110,
           "Bubba Wells"
          ],
          [
           0.46153846153846156,
           26,
           "Kebu Stewart"
          ],
          [
           0.34285714285714286,
           35,
           "James Collins"
          ],
          [
           0.4480936202340506,
           378.42857142857144,
           "Marc Jackson"
          ],
          [
           0.4088050314465409,
           79.5,
           "Jerald Honeycutt"
          ],
          [
           0.43058161350844276,
           246,
           "Anthony Johnson"
          ],
          [
           0.6,
           15,
           "Jason Lawson"
          ],
          [
           0.4561164784324398,
           524.9285714285714,
           "Stephen Jackson"
          ],
          [
           0.4429874572405929,
           350.8,
           "Cedric Henderson"
          ],
          [
           0.3392857142857143,
           56,
           "God Shammgod"
          ],
          [
           0.43080357142857145,
           224,
           "Eric Washington"
          ],
          [
           0.4430919050517346,
           365.1111111111111,
           "Alvin Williams"
          ],
          [
           0.4334541688244433,
           482.75,
           "Predrag Drobnjak"
          ],
          [
           0.45256087321578503,
           170.14285714285714,
           "Chris Crawford"
          ],
          [
           0.3795180722891566,
           83,
           "DeJuan Wheat"
          ],
          [
           0.5074206755373593,
           434.22222222222223,
           "Mark Blount"
          ],
          [
           0.15,
           20,
           "Jamal Robinson"
          ],
          [
           0.45539033457249073,
           179.33333333333334,
           "Adrian Griffin"
          ],
          [
           0.5032119914346895,
           155.66666666666666,
           "Gerard King"
          ],
          [
           0.4116198916789759,
           156.23076923076923,
           "Kevin Ollie"
          ],
          [
           0.42857142857142855,
           5.25,
           "Etdrick Bohannon"
          ],
          [
           0.44244604316546765,
           69.5,
           "Michael Stewart"
          ],
          [
           0.475177304964539,
           141,
           "Keith Closs"
          ],
          [
           0.36,
           25,
           "Nate Huffman"
          ],
          [
           0,
           2,
           "Derek Grimm"
          ],
          [
           0.4732824427480916,
           65.5,
           "Travis Williams"
          ],
          [
           0.2,
           5,
           "Shea Seals"
          ],
          [
           0.2978723404255319,
           15.666666666666666,
           "Brandon Williams"
          ],
          [
           0.3333333333333333,
           9,
           "Alvin Sims"
          ],
          [
           0.4888888888888889,
           90,
           "Charles Shackleford"
          ],
          [
           0.38421733505821476,
           85.88888888888889,
           "Rick Brunson"
          ],
          [
           0.44966442953020136,
           149,
           "Kornel David"
          ],
          [
           0.40672782874617736,
           65.4,
           "Rusty LaRue"
          ],
          [
           0.42852292020373517,
           267.72727272727275,
           "Troy Hudson"
          ],
          [
           0.45625,
           106.66666666666667,
           "Art Long"
          ],
          [
           0.3023255813953488,
           43,
           "Chris Garner"
          ],
          [
           0.5530336097773898,
           176.23076923076923,
           "Mikki Moore"
          ],
          [
           0.3684210526315789,
           19,
           "Gerald Madkins"
          ],
          [
           0.55,
           10,
           "Steve Henson"
          ],
          [
           0.5794392523364486,
           107,
           "Harold Ellis"
          ],
          [
           0.3684210526315789,
           19,
           "Brian Oliver"
          ],
          [
           0.5,
           6,
           "Reggie Hanson"
          ],
          [
           0.3132530120481928,
           27.666666666666668,
           "Larry Robinson"
          ],
          [
           0.4351423704064249,
           456.55555555555554,
           "Michael Olowokandi"
          ],
          [
           0.462736241530964,
           600.9285714285714,
           "Mike Bibby"
          ],
          [
           0.5046162723600692,
           346.6,
           "Raef LaFrentz"
          ],
          [
           0.47704810015374477,
           853.6875,
           "Antawn Jamison"
          ],
          [
           0.46160437677147187,
           689.5909090909091,
           "Vince Carter"
          ],
          [
           0.47828571428571426,
           250,
           "Robert Traylor"
          ],
          [
           0.4666666666666667,
           326.25,
           "Jason Williams"
          ],
          [
           0.4283049040511727,
           577.2307692307693,
           "Larry Hughes"
          ],
          [
           0.4959511984452602,
           882.0952380952381,
           "Dirk Nowitzki"
          ],
          [
           0.4780570005128581,
           718.3684210526316,
           "Paul Pierce"
          ],
          [
           0.4773397199705232,
           542.8,
           "Bonzi Wells"
          ],
          [
           0.43992932862190814,
           283,
           "Michael Doleac"
          ],
          [
           0.5034188034188034,
           390,
           "Keon Clark"
          ],
          [
           0.4418604651162791,
           421.4,
           "Michael Dickerson"
          ],
          [
           0.4932541824069077,
           505.3636363636364,
           "Matt Harpring"
          ],
          [
           0.38872832369942195,
           115.33333333333333,
           "Bryce Drew"
          ],
          [
           0.5029365700861393,
           425.6666666666667,
           "Rasho Nesterovic"
          ],
          [
           0.4375,
           32,
           "Mirsad Turkcan"
          ],
          [
           0.4335378323108384,
           195.6,
           "Pat Garrity"
          ],
          [
           0.4258312020460358,
           260.6666666666667,
           "Roshown McLeod"
          ],
          [
           0.4655679811653914,
           566.3333333333334,
           "Ricky Davis"
          ],
          [
           0.4939908827186075,
           172.35714285714286,
           "Brian Skinner"
          ],
          [
           0.4556564245810056,
           260.3636363636364,
           "Tyronn Lue"
          ],
          [
           0.4454303460514641,
           281.75,
           "Felipe Lopez"
          ],
          [
           0.4743559718969555,
           533.75,
           "Al Harrington"
          ],
          [
           0.5285714285714286,
           70,
           "Sam Jacobson"
          ],
          [
           0.4289772727272727,
           176,
           "Vladimir Stepania"
          ],
          [
           0.42276422764227645,
           153.75,
           "Corey Benjamin"
          ],
          [
           0.48712228756844456,
           273.94444444444446,
           "Nazr Mohammed"
          ],
          [
           0.4473684210526316,
           85.5,
           "Ansu Sesay"
          ],
          [
           0.5302969502407705,
           498.4,
           "Ruben Patterson"
          ],
          [
           0.4910873440285205,
           490.875,
           "Rashard Lewis"
          ],
          [
           0.5385427666314678,
           118.375,
           "Jelani McCoy"
          ],
          [
           0.4268292682926829,
           140.57142857142858,
           "Shammond Williams"
          ],
          [
           0.37373737373737376,
           28.285714285714285,
           "Bruno Sundov"
          ],
          [
           0.48616305160807777,
           148.55555555555554,
           "Jerome James"
          ],
          [
           0.125,
           8,
           "Casey Shaw"
          ],
          [
           0.3333333333333333,
           9,
           "DeMarco Johnson"
          ],
          [
           0.4065995525727069,
           325.09090909090907,
           "Rafer Alston"
          ],
          [
           0.6666666666666666,
           6,
           "Korleone Young"
          ],
          [
           0.4547244094488189,
           646.5454545454545,
           "Cuttino Mobley"
          ],
          [
           0.3333333333333333,
           3,
           "Miles Simon"
          ],
          [
           0.5104022191400832,
           206,
           "Jahidi White"
          ],
          [
           0.4593128390596745,
           50.27272727272727,
           "Sean Marks"
          ],
          [
           0.4218009478672986,
           105.5,
           "Toby Bailey"
          ],
          [
           0.4791666666666667,
           48,
           "Andrae Patterson"
          ],
          [
           null,
           0,
           "Tyson Wheeler"
          ],
          [
           0.3563218390804598,
           43.5,
           "Ryan Stack"
          ],
          [
           0.3548387096774194,
           186,
           "Cory Carr"
          ],
          [
           0.40425531914893614,
           58.75,
           "Derrick Dial"
          ],
          [
           0.49633802816901407,
           177.5,
           "Greg Buckner"
          ],
          [
           0.42616033755274263,
           59.25,
           "Tremaine Fowlkes"
          ],
          [
           0.47153024911032027,
           112.4,
           "Ryan Bowen"
          ],
          [
           0.3626373626373626,
           91,
           "J.R. Henderson"
          ],
          [
           0.475,
           20,
           "Torraye Braggs"
          ],
          [
           0.6280487804878049,
           41,
           "Maceo Baston"
          ],
          [
           0.4376899696048632,
           119.63636363636364,
           "Damon Jones"
          ],
          [
           0,
           1,
           "Jonathan Kerner"
          ],
          [
           0.49436319317489336,
           468.85714285714283,
           "Brad Miller"
          ],
          [
           1,
           2,
           "Adonis Jordan"
          ],
          [
           0.6666666666666666,
           3,
           "Kelly McCarty"
          ],
          [
           0.25,
           4,
           "Makhtar N'diaye"
          ],
          [
           0.5,
           2,
           "Peter Aluma"
          ],
          [
           0.2222222222222222,
           9,
           "Ike Fontaine"
          ],
          [
           0.32142857142857145,
           28,
           "Marlon Garnett"
          ],
          [
           0.4361127774445111,
           416.75,
           "Tyrone Nesby"
          ],
          [
           0.3,
           10,
           "Fred Vinson"
          ],
          [
           0.3333333333333333,
           9,
           "Andrew Gaze"
          ],
          [
           0.4508670520231214,
           173,
           "Thurl Bailey"
          ],
          [
           0.40625,
           32,
           "Jeff Sheppard"
          ],
          [
           0.4319503683598294,
           198.3846153846154,
           "Anthony Carter"
          ],
          [
           0.17647058823529413,
           17,
           "Mark Macon"
          ],
          [
           0,
           1,
           "Mark Baker"
          ],
          [
           0.42857142857142855,
           7,
           "Negele Knight"
          ],
          [
           0.43653250773993807,
           298.15384615384613,
           "Earl Boykins"
          ],
          [
           0.32,
           12.5,
           "Steve Goodrich"
          ],
          [
           null,
           0,
           "Trevor Winter"
          ],
          [
           0.32413793103448274,
           72.5,
           "Charles Jones"
          ],
          [
           0.379746835443038,
           79,
           "Gerald Brown"
          ],
          [
           0.44554455445544555,
           50.5,
           "Randell Jackson"
          ],
          [
           0.5011394712853237,
           774.3529411764706,
           "Elton Brand"
          ],
          [
           0.4508582713048762,
           731.4444444444445,
           "Steve Francis"
          ],
          [
           0.4563655030800821,
           599.3846153846154,
           "Baron Davis"
          ],
          [
           0.5016329986694085,
           590.5,
           "Lamar Odom"
          ],
          [
           0.44155844155844154,
           115.5,
           "Jonathan Bender"
          ],
          [
           0.5045296167247387,
           574,
           "Wally Szczerbiak"
          ],
          [
           0.46257866984180984,
           839.8571428571429,
           "Richard Hamilton"
          ],
          [
           0.47822527832351014,
           718.5882352941177,
           "Andre Miller"
          ],
          [
           0.5130270014211274,
           791.625,
           "Shawn Marion"
          ],
          [
           0.4837597911227154,
           503.94736842105266,
           "Jason Terry"
          ],
          [
           0.42948717948717946,
           104,
           "Trajan Langdon"
          ],
          [
           0.3076923076923077,
           13,
           "Aleksandar Radojevic"
          ],
          [
           0.47784558238259484,
           538.4285714285714,
           "Corey Maggette"
          ],
          [
           0.375968992248062,
           86,
           "William Avery"
          ],
          [
           0.44659206510681587,
           462.5882352941176,
           "Metta World Peace"
          ],
          [
           0.4107142857142857,
           130.66666666666666,
           "Cal Bowdler"
          ],
          [
           0.4673495518565941,
           260.3333333333333,
           "James Posey"
          ],
          [
           0.41226215644820297,
           118.25,
           "Quincy Lewis"
          ],
          [
           0.43646723646723645,
           292.5,
           "Dion Glover"
          ],
          [
           0.5039559683522532,
           223.6153846153846,
           "Jeff Foster"
          ],
          [
           0.4762912785774767,
           429.45454545454544,
           "Kenny Thomas"
          ],
          [
           0.42147587511825924,
           192.1818181818182,
           "Devean George"
          ],
          [
           0.5097212032281732,
           419.38461538461536,
           "Andrei Kirilenko"
          ],
          [
           0.32894736842105265,
           25.333333333333332,
           "Tim James"
          ],
          [
           0.4043179587831207,
           339.6666666666667,
           "Vonteego Cummings"
          ],
          [
           0.4738276990185387,
           229.25,
           "Jumaine Jones"
          ],
          [
           0.4329388560157791,
           126.75,
           "Scott Padgett"
          ],
          [
           0.39285714285714285,
           14,
           "Leon Smith"
          ],
          [
           0.3611111111111111,
           36,
           "John Celestand"
          ],
          [
           0.40887480190174325,
           70.11111111111111,
           "Michael Ruffin"
          ],
          [
           0.3469387755102041,
           49,
           "Chris Herren"
          ],
          [
           0.4633431085043988,
           85.25,
           "Evan Eschmeyer"
          ],
          [
           0.4527938342967245,
           103.8,
           "Calvin Booth"
          ],
          [
           0.43465045592705165,
           65.8,
           "Wang Zhi-zhi"
          ],
          [
           0.4241645244215938,
           97.25,
           "Obinna Ekezie"
          ],
          [
           0.4691358024691358,
           81,
           "Laron Profit"
          ],
          [
           0.19047619047619047,
           21,
           "A.J. Bramlett"
          ],
          [
           0.4653546535465355,
           406.5,
           "Gordan Giricek"
          ],
          [
           0.4810126582278481,
           166.77777777777777,
           "Francisco Elson"
          ],
          [
           0.4751803139584217,
           392.8333333333333,
           "Lee Nailon"
          ],
          [
           0.5,
           4,
           "Ryan Robertson"
          ],
          [
           0.5414680648236415,
           262.25,
           "Todd MacCulloch"
          ],
          [
           0.40625,
           16,
           "Lari Ketner"
          ],
          [
           0.4333593141075604,
           256.6,
           "Rodney Buford"
          ],
          [
           0.3333333333333333,
           39,
           "Tim Young"
          ],
          [
           0.49766392782342517,
           387.9375,
           "Manu Ginobili"
          ],
          [
           0.4603174603174603,
           31.5,
           "Harold Jamison"
          ],
          [
           0.16666666666666666,
           6,
           "Wayne Turner"
          ],
          [
           0.5118253486961795,
           329.8,
           "Eddie Robinson"
          ],
          [
           null,
           0,
           "Andy Panko"
          ],
          [
           0.4523942093541203,
           299.3333333333333,
           "Raja Bell"
          ],
          [
           0.4666666666666667,
           60,
           "Lazaro Borrell"
          ],
          [
           null,
           0,
           "Jason Miskiri"
          ],
          [
           0.4634308510638298,
           188,
           "Ira Newble"
          ],
          [
           0.4354497354497355,
           270,
           "Milt Palacio"
          ],
          [
           0.49295774647887325,
           71,
           "Rick Hughes"
          ],
          [
           0,
           3,
           "Derek Hood"
          ],
          [
           0.41935483870967744,
           15.5,
           "Jamel Thomas"
          ],
          [
           0.4236453201970443,
           40.6,
           "Jermaine Jackson"
          ],
          [
           0.44,
           66.66666666666667,
           "Zendon Hamilton"
          ],
          [
           0.3950617283950617,
           81,
           "Dedric Willoughby"
          ],
          [
           0.4915472964253452,
           516.6,
           "Kenyon Martin"
          ],
          [
           0.47580645161290325,
           399.55555555555554,
           "Stromile Swift"
          ],
          [
           0.48190575370997135,
           548.7142857142857,
           "Darius Miles"
          ],
          [
           0.4460016488046167,
           404.3333333333333,
           "Marcus Fizer"
          ],
          [
           0.501550547860244,
           284.52941176470586,
           "Mike Miller"
          ],
          [
           0.4692526017029328,
           151,
           "DerMarr Johnson"
          ],
          [
           0.459896983075791,
           339.75,
           "Chris Mihm"
          ],
          [
           0.44914750198255354,
           504.4,
           "Jamal Crawford"
          ],
          [
           0.5527452190006169,
           124.6923076923077,
           "Joel Przybilla"
          ],
          [
           0.44300097434231894,
           236.84615384615384,
           "Keyon Dooling"
          ],
          [
           0.49375,
           64,
           "Jerome Moiso"
          ],
          [
           0.5132641291810842,
           192.66666666666666,
           "Etan Thomas"
          ],
          [
           0.42907058001397624,
           477,
           "Courtney Alexander"
          ],
          [
           0.3989169675090253,
           92.33333333333333,
           "Mateen Cleaves"
          ],
          [
           0.4578146611341632,
           144.6,
           "Jason Collier"
          ],
          [
           0.45006910850034554,
           385.8666666666667,
           "Hedo Turkoglu"
          ],
          [
           0.45613755771373987,
           628.1,
           "Desmond Mason"
          ],
          [
           0.4313773631230052,
           313.3076923076923,
           "Quentin Richardson"
          ],
          [
           0.48050177256613036,
           305.5833333333333,
           "Jamaal Magloire"
          ],
          [
           0.42761341222879684,
           362.14285714285717,
           "Speedy Claxton"
          ],
          [
           0.4496765847347995,
           351.3636363636364,
           "Morris Peterson"
          ],
          [
           0.4635897435897436,
           195,
           "Donnell Harvey"
          ],
          [
           0.43304258594150846,
           299.84615384615387,
           "DeShawn Stevenson"
          ],
          [
           0.36329588014981273,
           89,
           "Dalibor Bagaric"
          ],
          [
           0.4902789518174134,
           169,
           "Jake Tsakalidis"
          ],
          [
           0.4292929292929293,
           39.6,
           "Mamadou N'diaye"
          ],
          [
           0.4985207100591716,
           253.5,
           "Primoz Brezec"
          ],
          [
           0.37333333333333335,
           37.5,
           "Erick Barkley"
          ],
          [
           0.46454767726161367,
           90.88888888888889,
           "Mark Madsen"
          ],
          [
           0.5086006508600651,
           179.25,
           "Eduardo Najera"
          ],
          [
           0.4282319391634981,
           300.57142857142856,
           "Marko Jaric"
          ],
          [
           0.40049751243781095,
           100.5,
           "Dan Langhi"
          ],
          [
           0.3765182186234818,
           82.33333333333333,
           "A.J. Guyton"
          ],
          [
           0.4876632801161103,
           153.11111111111111,
           "Jake Voskuhl"
          ],
          [
           0.3832599118942731,
           227,
           "Khalid El-Amin"
          ],
          [
           0.3902439024390244,
           41,
           "Mike Smith"
          ],
          [
           0.3888888888888889,
           36,
           "Soumaila Samake"
          ],
          [
           0.4230124119423012,
           271,
           "Eddie House"
          ],
          [
           0.36363636363636365,
           44,
           "Lavor Postell"
          ],
          [
           0.4511627906976744,
           322.5,
           "Hanno Mottola"
          ],
          [
           0.49504950495049505,
           33.666666666666664,
           "Olumide Oyedeji"
          ],
          [
           0.47520288548241657,
           554.5,
           "Michael Redd"
          ],
          [
           0.4317948717948718,
           81.25,
           "Brian Cardinal"
          ],
          [
           0.42033898305084744,
           73.75,
           "Jabari Smith"
          ],
          [
           0.4330708661417323,
           141.11111111111111,
           "Jason Hart"
          ],
          [
           0.45454545454545453,
           3.6666666666666665,
           "Kaniel Dickens"
          ],
          [
           0.3695652173913043,
           46,
           "Igor Rakocevic"
          ],
          [
           0.16666666666666666,
           6,
           "Ernest Brown"
          ],
          [
           0.5,
           18,
           "Dan McClintock"
          ],
          [
           0.3931818181818182,
           440,
           "Chris Porter"
          ],
          [
           0.46932515337423314,
           81.5,
           "Daniel Santiago"
          ],
          [
           0.3181818181818182,
           22,
           "Ruben Garces"
          ],
          [
           0.4530046224961479,
           185.42857142857142,
           "Slava Medvedenko"
          ],
          [
           0.5245098039215687,
           204,
           "Paul McPherson"
          ],
          [
           0.3375,
           40,
           "Ruben Wolkowyski"
          ],
          [
           0.3879598662207358,
           42.714285714285715,
           "Eddie Gill"
          ],
          [
           0,
           1,
           "Terrance Roberson"
          ],
          [
           0.2,
           5,
           "Garth Joseph"
          ],
          [
           0.4410387398893146,
           234.9,
           "Malik Allen"
          ],
          [
           0.4423076923076923,
           104,
           "David Vanterpool"
          ],
          [
           0.4470588235294118,
           42.5,
           "Mike Penberthy"
          ],
          [
           0.4610011641443539,
           122.71428571428571,
           "Ime Udoka"
          ],
          [
           0.28125,
           16,
           "Pepe Sanchez"
          ],
          [
           0.2631578947368421,
           19,
           "Sean Colson"
          ],
          [
           0.4926924326079896,
           256.5833333333333,
           "Kwame Brown"
          ],
          [
           0.5976818410885268,
           313.3157894736842,
           "Tyson Chandler"
          ],
          [
           0.5117758971331102,
           846.8333333333334,
           "Pau Gasol"
          ],
          [
           0.5443786982248521,
           430.1818181818182,
           "Eddy Curry"
          ],
          [
           0.4737347085632046,
           641.3846153846154,
           "Jason Richardson"
          ],
          [
           0.4858345021037868,
           274.2307692307692,
           "Shane Battier"
          ],
          [
           0.4083388484447386,
           302.2,
           "Eddie Griffin"
          ],
          [
           0.4286934244235696,
           97.58333333333333,
           "DeSagana Diop"
          ],
          [
           0.4515021459227468,
           291.25,
           "Rodney White"
          ],
          [
           0.47174685179205683,
           728.7058823529412,
           "Joe Johnson"
          ],
          [
           0.47147147147147145,
           83.25,
           "Kedrick Brown"
          ],
          [
           0.4511681348142474,
           217.58333333333334,
           "Vladimir Radmanovic"
          ],
          [
           0.49297971918876754,
           490.1764705882353,
           "Richard Jefferson"
          ],
          [
           0.4635006221484861,
           401.8333333333333,
           "Troy Murphy"
          ],
          [
           0.5602134146341463,
           164,
           "Steven Hunter"
          ],
          [
           0.26,
           25,
           "Kirk Haston"
          ],
          [
           0.48758465011286684,
           88.6,
           "Michael Bradley"
          ],
          [
           0.41409090909090907,
           169.23076923076923,
           "Jason Collins"
          ],
          [
           0.4810235958790296,
           885,
           "Zach Randolph"
          ],
          [
           0.5281602002503129,
           307.3076923076923,
           "Brendan Haywood"
          ],
          [
           0.2682926829268293,
           20.5,
           "Joseph Forte"
          ],
          [
           0.3050847457627119,
           88.5,
           "Jeryl Sasser"
          ],
          [
           0.3584905660377358,
           70.66666666666667,
           "Brandon Armstrong"
          ],
          [
           0.4501915708812261,
           261,
           "Raul Lopez"
          ],
          [
           0.502342866375828,
           442.07142857142856,
           "Gerald Wallace"
          ],
          [
           0.5220219290094777,
           413.9230769230769,
           "Samuel Dalembert"
          ],
          [
           0.4316957210776545,
           286.8181818181818,
           "Jamaal Tinsley"
          ],
          [
           0.510156744218739,
           790.3888888888889,
           "Tony Parker"
          ],
          [
           0.43902439024390244,
           164,
           "Will Solomon"
          ],
          [
           0.5072463768115942,
           46,
           "Alton Ford"
          ],
          [
           0.4376130198915009,
           276.5,
           "Mike James"
          ],
          [
           0.48712967459932005,
           228.77777777777777,
           "Maurice Evans"
          ],
          [
           0.6666666666666666,
           3,
           "Ratko Varda"
          ],
          [
           0.43209876543209874,
           81,
           "Antonis Fotsis"
          ],
          [
           0.4570889657340459,
           353.44444444444446,
           "Trenton Hassell"
          ],
          [
           0.4578208903516369,
           524.8181818181819,
           "Gilbert Arenas"
          ],
          [
           0.3695652173913043,
           23,
           "Omar Cook"
          ],
          [
           0.4651741293532338,
           134,
           "Terence Morris"
          ],
          [
           0.41456016177957533,
           89.9090909090909,
           "Brian Scalabrine"
          ],
          [
           0.3181818181818182,
           29.333333333333332,
           "Jeff Trepagnier"
          ],
          [
           0.34210526315789475,
           28.5,
           "Damone Brown"
          ],
          [
           0.48398009950248755,
           502.5,
           "Mehmet Okur"
          ],
          [
           0.44871794871794873,
           276,
           "Earl Watson"
          ],
          [
           0.43548387096774194,
           15.5,
           "Jamison Brewer"
          ],
          [
           0.4516750096264921,
           259.7,
           "Bobby Simmons"
          ],
          [
           0.47586206896551725,
           72.5,
           "Sean Lampley"
          ],
          [
           0.4233128834355828,
           81.5,
           "Loren Woods"
          ],
          [
           0.40540540540540543,
           37,
           "Ken Johnson"
          ],
          [
           0.3684210526315789,
           12.666666666666666,
           "Ruben Boumtje-Boumtje"
          ],
          [
           0.4561872909698997,
           149.5,
           "Jarron Collins"
          ],
          [
           0.3547400611620795,
           163.5,
           "Kenny Satterfield"
          ],
          [
           0.4,
           20,
           "Alvin Jones"
          ],
          [
           0.44934445768772346,
           239.71428571428572,
           "Charlie Bell"
          ],
          [
           0.4518156424581006,
           318.22222222222223,
           "Carlos Arroyo"
          ],
          [
           0.40540540540540543,
           12.333333333333334,
           "Paul Shirley"
          ],
          [
           0.3793103448275862,
           29,
           "Joe Crispin"
          ],
          [
           0.5555555555555556,
           18,
           "Tang Hamilton"
          ],
          [
           0.3673469387755102,
           49,
           "Victor Alexander"
          ],
          [
           0.4495798319327731,
           119,
           "Oscar Torres"
          ],
          [
           0.375,
           28,
           "Dean Oliver"
          ],
          [
           0.3900226757369615,
           110.25,
           "Tierre Brown"
          ],
          [
           0.54050736497545,
           162.93333333333334,
           "Chris Andersen"
          ],
          [
           0.4216589861751152,
           62,
           "Mike Wilks"
          ],
          [
           0.6666666666666666,
           3,
           "Geno Carlisle"
          ],
          [
           0.3333333333333333,
           18,
           "Norman Richardson"
          ],
          [
           0.3971631205673759,
           47,
           "Mengke Bateer"
          ],
          [
           0.524941724941725,
           804.375,
           "Yao Ming"
          ],
          [
           0.4306418219461698,
           483,
           "Jay Williams"
          ],
          [
           0.4813391877058178,
           364.4,
           "Mike Dunleavy"
          ],
          [
           0.4714507260679543,
           506.64285714285717,
           "Drew Gooden"
          ],
          [
           0.33182844243792325,
           110.75,
           "Nikoloz Tskitishvili"
          ],
          [
           0.38529411764705884,
           170,
           "Dajuan Wagner"
          ],
          [
           0.5507399577167019,
           445.1764705882353,
           "Nene"
          ],
          [
           0.5434557682359027,
           351.45454545454544,
           "Chris Wilcox"
          ],
          [
           0.5404337437970961,
           777.2857142857143,
           "Amar'e Stoudemire"
          ],
          [
           0.4557291666666667,
           603.4285714285714,
           "Caron Butler"
          ],
          [
           0.44745484400656815,
           221.45454545454547,
           "Jared Jeffries"
          ],
          [
           0.4608593290170689,
           188.77777777777777,
           "Melvin Ely"
          ],
          [
           0.44360902255639095,
           66.5,
           "Marcus Haislip"
          ],
          [
           0.4449760765550239,
           238.85714285714286,
           "Fred Jones"
          ],
          [
           0.4332988624612203,
           161.16666666666666,
           "Bostjan Nachbar"
          ],
          [
           0.4252136752136752,
           234,
           "Jiri Welsch"
          ],
          [
           0.4415530772408096,
           345.85714285714283,
           "Juan Dixon"
          ],
          [
           0.42290748898678415,
           113.5,
           "Curtis Borchardt"
          ],
          [
           0.3482142857142857,
           74.66666666666667,
           "Ryan Humphrey"
          ],
          [
           0.42485549132947975,
           197.71428571428572,
           "Kareem Rush"
          ],
          [
           0.47036328871892924,
           130.75,
           "Qyntel Woods"
          ],
          [
           0.43344155844155846,
           154,
           "Casey Jacobsen"
          ],
          [
           0.4704641350210971,
           609.4285714285714,
           "Tayshaun Prince"
          ],
          [
           0.4949698189134809,
           497,
           "Nenad Krstic"
          ],
          [
           0.3756906077348066,
           60.333333333333336,
           "Frank Williams"
          ],
          [
           0.4568395754055678,
           384.0769230769231,
           "John Salmons"
          ],
          [
           0.3941176470588235,
           85,
           "Chris Jefferies"
          ],
          [
           0.4324596774193548,
           165.33333333333334,
           "Dan Dickau"
          ],
          [
           0.2830188679245283,
           26.5,
           "Robert Archibald"
          ],
          [
           0.434971098265896,
           138.4,
           "Roger Mason Jr."
          ],
          [
           0.42,
           350,
           "Vincent Yarbrough"
          ],
          [
           0.501434034416826,
           209.2,
           "Dan Gadzuric"
          ],
          [
           0.5216382618006603,
           862.0769230769231,
           "Carlos Boozer"
          ],
          [
           0.4666666666666667,
           180,
           "David Andersen"
          ],
          [
           0.3333333333333333,
           9,
           "Tito Maddox"
          ],
          [
           0.4550898203592814,
           334,
           "Juan Carlos Navarro"
          ],
          [
           0.46987951807228917,
           83,
           "Mario Kasun"
          ],
          [
           0.45047241694605306,
           410.125,
           "Flip Murray"
          ],
          [
           0.4685714285714286,
           131.25,
           "Lonny Baxter"
          ],
          [
           0.5224182817471796,
           246.92857142857142,
           "Matt Barnes"
          ],
          [
           0.4953271028037383,
           21.4,
           "Jamal Sampson"
          ],
          [
           0.6666666666666666,
           3,
           "Chris Owens"
          ],
          [
           0.5012131715771231,
           360.625,
           "Darius Songaila"
          ],
          [
           0.43651295009475677,
           243.53846153846155,
           "Rasual Butler"
          ],
          [
           0.39215686274509803,
           51,
           "Tamar Slay"
          ],
          [
           0.49881467019941433,
           717.1,
           "Luis Scola"
          ],
          [
           1,
           1,
           "Randy Holcomb"
          ],
          [
           0.3225806451612903,
           31,
           "Corsley Edwards"
          ],
          [
           0.35877862595419846,
           131,
           "J.R. Bremer"
          ],
          [
           0.373134328358209,
           67,
           "Predrag Savovic"
          ],
          [
           0.38081805359661497,
           236.33333333333334,
           "Junior Harrington"
          ],
          [
           0.20833333333333334,
           12,
           "Cezary Trybanski"
          ],
          [
           0.4107142857142857,
           183.27272727272728,
           "Jannero Pargo"
          ],
          [
           null,
           0,
           "Guy Rucker"
          ],
          [
           0.2916666666666667,
           24,
           "Maurice Carter"
          ],
          [
           0.42035398230088494,
           150.66666666666666,
           "Pat Burke"
          ],
          [
           0.47947327652982186,
           258.2,
           "Smush Parker"
          ],
          [
           0.4637305699481865,
           386,
           "Mike Batiste"
          ],
          [
           0.42864149092692494,
           254.875,
           "Devin Brown"
          ],
          [
           0,
           1,
           "Maurice Baker"
          ],
          [
           0.2608695652173913,
           23,
           "Adam Harrington"
          ],
          [
           0.5,
           41.5,
           "Richie Frahm"
          ],
          [
           0.4670608108108108,
           182.15384615384616,
           "Reggie Evans"
          ],
          [
           0.23333333333333334,
           30,
           "Antoine Rigaudeau"
          ],
          [
           0.5498842243028289,
           1103.6666666666667,
           "LeBron James"
          ],
          [
           0.46070878274268107,
           259.6,
           "Darko Milicic"
          ],
          [
           0.471107544141252,
           969.1111111111111,
           "Carmelo Anthony"
          ],
          [
           0.5058692485648187,
           897.7692307692307,
           "Chris Bosh"
          ],
          [
           0.5021279298735946,
           983.9375,
           "Dwyane Wade"
          ],
          [
           0.4902128875553651,
           538.3846153846154,
           "Chris Kaman"
          ],
          [
           0.43166666666666664,
           415.38461538461536,
           "Kirk Hinrich"
          ],
          [
           0.44978858350951373,
           473,
           "T.J. Ford"
          ],
          [
           0.4853700516351119,
           290.5,
           "Michael Sweetney"
          ],
          [
           0.4442970822281167,
           323.14285714285717,
           "Jarvis Hayes"
          ],
          [
           0.49502878074306644,
           191.1,
           "Mickael Pietrus"
          ],
          [
           0.5415430267062314,
           288.85714285714283,
           "Nick Collison"
          ],
          [
           0.46211552888222057,
           166.625,
           "Marcus Banks"
          ],
          [
           0.4579840124780659,
           427.4166666666667,
           "Luke Ridnour"
          ],
          [
           0.3360655737704918,
           40.666666666666664,
           "Reece Gaines"
          ],
          [
           0.2857142857142857,
           14,
           "Troy Bell"
          ],
          [
           0.45652173913043476,
           153.33333333333334,
           "Zarko Cabarkapa"
          ],
          [
           0.4994692144373673,
           753.6,
           "David West"
          ],
          [
           0.43270868824531517,
           176.1,
           "Sasha Pavlovic"
          ],
          [
           0.4540182270091135,
           185.69230769230768,
           "Dahntay Jones"
          ],
          [
           0.5287392823118451,
           449.85714285714283,
           "Boris Diaw"
          ],
          [
           0.44692737430167595,
           119.33333333333333,
           "Zoran Planinic"
          ],
          [
           0.44691224268689056,
           335.6363636363636,
           "Travis Outlaw"
          ],
          [
           0.4674302075876879,
           155.22222222222223,
           "Brian Cook"
          ],
          [
           0.4379481522338665,
           226.625,
           "Carlos Delfino"
          ],
          [
           0.5,
           17,
           "Ndudi Ebi"
          ],
          [
           0.53198127925117,
           228.92857142857142,
           "Kendrick Perkins"
          ],
          [
           0.4976303317535545,
           346.64285714285717,
           "Leandro Barbosa"
          ],
          [
           0.4709664848012471,
           513.2,
           "Josh Howard"
          ],
          [
           0.4125560538116592,
           74.33333333333333,
           "Maciej Lampe"
          ],
          [
           0.44574036511156184,
           219.11111111111111,
           "Jason Kapono"
          ],
          [
           0.45901639344262296,
           189.1,
           "Luke Walton"
          ],
          [
           0.37,
           100,
           "Travis Hansen"
          ],
          [
           0.42036124794745483,
           187.3846153846154,
           "Steve Blake"
          ],
          [
           0,
           1,
           "Slavko Vranes"
          ],
          [
           0.6666666666666666,
           3,
           "Derrick Zimmerman"
          ],
          [
           0.45367717287488063,
           349,
           "Willie Green"
          ],
          [
           0.4717800289435601,
           345.5,
           "Zaza Pachulia"
          ],
          [
           0.4416331224841863,
           158.0909090909091,
           "Keith Bogans"
          ],
          [
           0.5159891598915989,
           153.75,
           "Matt Bonner"
          ],
          [
           0.45951825951825953,
           495,
           "Mo Williams"
          ],
          [
           0.4444444444444444,
           9,
           "James Lang"
          ],
          [
           0.4024390243902439,
           76.14285714285714,
           "James Jones"
          ],
          [
           0.4639348863317429,
           209.58823529411765,
           "Kyle Korver"
          ],
          [
           0.4838709677419355,
           93,
           "Brandon Hunter"
          ],
          [
           0.47058823529411764,
           17,
           "Andreas Glyniadakis"
          ],
          [
           0.3333333333333333,
           3,
           "Jerome Beasley"
          ],
          [
           0.32903225806451614,
           77.5,
           "Theron Smith"
          ],
          [
           0.47767601602747567,
           349.4,
           "Marquis Daniels"
          ],
          [
           0.4940119760479042,
           296.8888888888889,
           "Udonis Haslem"
          ],
          [
           0.4281437125748503,
           238.57142857142858,
           "Quinton Ross"
          ],
          [
           0.2,
           2.5,
           "Kirk Penney"
          ],
          [
           null,
           0,
           "Alex Scales"
          ],
          [
           0.3384615384615385,
           32.5,
           "Britton Johnsen"
          ],
          [
           0.42857142857142855,
           82.83333333333333,
           "Ronald Dupree"
          ],
          [
           0,
           5,
           "Yuta Tabuse"
          ],
          [
           0.5,
           28,
           "Desmond Penigar"
          ],
          [
           0.4125,
           20,
           "Josh Davis"
          ],
          [
           0.44136460554371004,
           78.16666666666667,
           "Linton Johnson"
          ],
          [
           0.375,
           8,
           "Hiram Fuller"
          ],
          [
           0.42875,
           160,
           "Matt Carroll"
          ],
          [
           0.34146341463414637,
           20.5,
           "Alex Garcia"
          ],
          [
           0.4666666666666667,
           30,
           "Melvin Sanders"
          ],
          [
           0,
           1,
           "Brandin Knight"
          ],
          [
           0.3757725587144623,
           202.25,
           "Keith McLeod"
          ],
          [
           0.4399641577060932,
           159.42857142857142,
           "Josh Powell"
          ],
          [
           0.48314606741573035,
           89,
           "Lynn Greer"
          ],
          [
           0.5,
           4,
           "Desmond Ferguson"
          ],
          [
           0.5895465026902382,
           688.7647058823529,
           "Dwight Howard"
          ],
          [
           0.5121909633418584,
           586.5,
           "Emeka Okafor"
          ],
          [
           0.4472532814778804,
           561,
           "Ben Gordon"
          ],
          [
           0.49148642429820527,
           310.42857142857144,
           "Shaun Livingston"
          ],
          [
           0.4813202756619514,
           367.6,
           "Devin Harris"
          ],
          [
           0.5480176211453744,
           283.75,
           "Josh Childress"
          ],
          [
           0.4821563342318059,
           618.3333333333334,
           "Luol Deng"
          ],
          [
           0.4068241469816273,
           127,
           "Rafael Araujo"
          ],
          [
           0.5189017111022682,
           443.47058823529414,
           "Andre Iguodala"
          ],
          [
           0.3561643835616438,
           36.5,
           "Luke Jackson"
          ],
          [
           0.5949314499376818,
           240.7,
           "Andris Biedrins"
          ],
          [
           0.5058823529411764,
           85,
           "Robert Swift"
          ],
          [
           0.4187943262411348,
           282,
           "Sebastian Telfair"
          ],
          [
           0.47068403908794787,
           330.61538461538464,
           "Kris Humphries"
          ],
          [
           0.5011402508551881,
           877,
           "Al Jefferson"
          ],
          [
           0.4754491017964072,
           208.75,
           "Kirk Snyder"
          ],
          [
           0.4797807425793774,
           743.7692307692307,
           "Josh Smith"
          ],
          [
           0.46340079440136184,
           330.4375,
           "JR Smith"
          ],
          [
           0.46910239061795217,
           201.54545454545453,
           "Dorell Wright"
          ],
          [
           0.47445124145376033,
           397,
           "Jameer Nelson"
          ],
          [
           0,
           1,
           "Pavel Podkolzin"
          ],
          [
           0.45664739884393063,
           129.75,
           "Viktor Khryapa"
          ],
          [
           0.37735849056603776,
           53,
           "Sergei Monia"
          ],
          [
           0.47870261821023835,
           319.875,
           "Delonte West"
          ],
          [
           0.4923046172296622,
           357.35714285714283,
           "Tony Allen"
          ],
          [
           0.4643102264927934,
           485.6666666666667,
           "Kevin Martin"
          ],
          [
           0.41500765696784075,
           130.6,
           "Sasha Vujacic"
          ],
          [
           0.49585876198779427,
           352.9230769230769,
           "Beno Udrih"
          ],
          [
           0.5297450424929179,
           176.5,
           "David Harrison"
          ],
          [
           0.5152552038779584,
           250.5,
           "Anderson Varejao"
          ],
          [
           0.4122137404580153,
           131,
           "Jackson Vroman"
          ],
          [
           0.5,
           10,
           "Peter John Ramos"
          ],
          [
           0.39473684210526316,
           76,
           "Lionel Chalmers"
          ],
          [
           0.4473684210526316,
           57,
           "Donta Smith"
          ],
          [
           0.5,
           6,
           "Andre Emmett"
          ],
          [
           0.40106951871657753,
           93.5,
           "Antonio Burks"
          ],
          [
           0.42513863216266173,
           108.2,
           "Royal Ivey"
          ],
          [
           0.4261501210653753,
           183.55555555555554,
           "Chris Duhon"
          ],
          [
           0.40749414519906324,
           142.33333333333334,
           "Justin Reed"
          ],
          [
           0.48403846153846153,
           305.88235294117646,
           "Trevor Ariza"
          ],
          [
           0.4339622641509434,
           159,
           "Bernard Robinson"
          ],
          [
           0.5185185185185185,
           27,
           "Ha Ha"
          ],
          [
           0.41578947368421054,
           63.333333333333336,
           "Pape Sow"
          ],
          [
           0.4186046511627907,
           43,
           "Vassilis Spanoulis"
          ],
          [
           0.34285714285714286,
           52.5,
           "Matt Freije"
          ],
          [
           0.47368421052631576,
           19,
           "Luis Flores"
          ],
          [
           0.47244094488188976,
           54.42857142857143,
           "DJ Mbenga"
          ],
          [
           0.4166666666666667,
           36,
           "Horace Jenkins"
          ],
          [
           0.3333333333333333,
           3,
           "Tony Bobbitt"
          ],
          [
           0.4631542699724518,
           363,
           "Andres Nocioni"
          ],
          [
           0.36507936507936506,
           63,
           "Gerald Fitch"
          ],
          [
           0.5189873417721519,
           52.666666666666664,
           "Andre Brown"
          ],
          [
           0.44680851063829785,
           47,
           "John Edwards"
          ],
          [
           0.4444444444444444,
           4.5,
           "Desmon Farmer"
          ],
          [
           0,
           1,
           "Ibrahim Kutluay"
          ],
          [
           0.5641025641025641,
           19.5,
           "James Thomas"
          ],
          [
           0.3125,
           16,
           "Erik Daniels"
          ],
          [
           0.43548387096774194,
           41.333333333333336,
           "Awvee Storey"
          ],
          [
           0.37668161434977576,
           83.625,
           "Earl Barron"
          ],
          [
           0.4186046511627907,
           43,
           "Andre Barrett"
          ],
          [
           0.45019762845849803,
           253,
           "Damien Wilkins"
          ],
          [
           0.5393700787401575,
           84.66666666666667,
           "Jackie Butler"
          ],
          [
           0.43548387096774194,
           62,
           "Kasib Powell"
          ],
          [
           0.40816326530612246,
           16.333333333333332,
           "Billy Thomas"
          ],
          [
           0.3424657534246575,
           36.5,
           "Jared Reiner"
          ],
          [
           0.3333333333333333,
           27,
           "Mark Jones"
          ],
          [
           0.5365107913669065,
           397.14285714285717,
           "Andrew Bogut"
          ],
          [
           0.4821010371361659,
           398.53333333333336,
           "Marvin Williams"
          ],
          [
           0.5090742438130156,
           681.875,
           "Chris Paul"
          ],
          [
           0.4450041981528128,
           510.42857142857144,
           "Raymond Felton"
          ],
          [
           0.45413533834586467,
           199.5,
           "Martell Webster"
          ],
          [
           0.4844844844844845,
           363.27272727272725,
           "Charlie Villanueva"
          ],
          [
           0.4765763484426437,
           303.7692307692308,
           "Channing Frye"
          ],
          [
           0.5094142259414226,
           159.33333333333334,
           "Ike Diogu"
          ],
          [
           0.48200312989045385,
           639,
           "Deron Williams"
          ],
          [
           0.5574629036950829,
           429.625,
           "Andrew Bynum"
          ],
          [
           0.29411764705882354,
           17,
           "Yaroslav Korolev"
          ],
          [
           0.4618705035971223,
           173.75,
           "Sean May"
          ],
          [
           0.4670614359733531,
           337.75,
           "Rashad McCants"
          ],
          [
           0.4671385237613751,
           164.83333333333334,
           "Antoine Wright"
          ],
          [
           0.5031328320802005,
           266,
           "Joey Graham"
          ],
          [
           0.4626093874303898,
           502.8,
           "Danny Granger"
          ],
          [
           0.46907574704656013,
           239.83333333333334,
           "Gerald Green"
          ],
          [
           0.49900483366505544,
           439.625,
           "Hakim Warrick"
          ],
          [
           0.44,
           12.5,
           "Julius Hodge"
          ],
          [
           0.46316085489313835,
           323.27272727272725,
           "Nate Robinson"
          ],
          [
           0.46964529331514326,
           451.0769230769231,
           "Jarrett Jack"
          ],
          [
           0.483759842519685,
           203.2,
           "Francisco Garcia"
          ],
          [
           0.4541139240506329,
           210.66666666666666,
           "Luther Head"
          ],
          [
           0.4635887672536887,
           262.625,
           "Johan Petro"
          ],
          [
           0.49609652235628104,
           281.8,
           "Jason Maxiell"
          ],
          [
           0.5011376564277589,
           251.14285714285714,
           "Linas Kleiza"
          ],
          [
           0.5412885662431942,
           183.66666666666666,
           "Ian Mahinmi"
          ],
          [
           0.46853146853146854,
           71.5,
           "Wayne Simien"
          ],
          [
           0.5372539831302718,
           711.3333333333334,
           "David Lee"
          ],
          [
           0.43525741029641185,
           213.66666666666666,
           "Salim Stoudamire"
          ],
          [
           0.42857142857142855,
           147,
           "Daniel Ewing"
          ],
          [
           0.5024669429642786,
           422.25,
           "Brandon Bass"
          ],
          [
           0.46273731935392465,
           235.26666666666668,
           "CJ Miles"
          ],
          [
           0.48296679603277276,
           356.7692307692308,
           "Ersan Ilyasova"
          ],
          [
           0.535,
           160,
           "Ronny Turiaf"
          ],
          [
           0.44224422442244227,
           60.6,
           "Travis Diener"
          ],
          [
           0.46905537459283386,
           102.33333333333333,
           "Von Wafer"
          ],
          [
           0.4822516684398878,
           861.5833333333334,
           "Monta Ellis"
          ],
          [
           0.4392857142857143,
           140,
           "Roko Ukic"
          ],
          [
           0.6052631578947368,
           38,
           "Chris Taft"
          ],
          [
           0,
           3,
           "Mile Ilic"
          ],
          [
           0,
           1,
           "Martynas Andriuskevicius"
          ],
          [
           0.4559302174196068,
           480.0625,
           "Lou Williams"
          ],
          [
           0.44594594594594594,
           37,
           "Bracey Wright"
          ],
          [
           0.5188679245283019,
           141.33333333333334,
           "Mickael Gelabale"
          ],
          [
           0.47774044519109615,
           529.1111111111111,
           "Andray Blatche"
          ],
          [
           0.4728211357424841,
           411.625,
           "Ryan Gomes"
          ],
          [
           0.40350877192982454,
           57,
           "Robert Whaley"
          ],
          [
           0.42028985507246375,
           69,
           "Orien Greene"
          ],
          [
           0.48148148148148145,
           13.5,
           "Dijon Thompson"
          ],
          [
           0.4596774193548387,
           124,
           "Lawrence Roberts"
          ],
          [
           0.5880518234165067,
           297.7142857142857,
           "Amir Johnson"
          ],
          [
           0.5527000650618087,
           512.3333333333334,
           "Marcin Gortat"
          ],
          [
           0.3880597014925373,
           33.5,
           "Alex Acker"
          ],
          [
           0.5416666666666666,
           24,
           "Uros Slokar"
          ],
          [
           0.5788206979542719,
           138.5,
           "Fabricio Oberto"
          ],
          [
           0.3793103448275862,
           29,
           "Arvydas Macijauskas"
          ],
          [
           0.42150170648464164,
           97.66666666666667,
           "Ronnie Price"
          ],
          [
           0.43636363636363634,
           192.5,
           "Sarunas Jasikevicius"
          ],
          [
           0.5066985645933014,
           298.57142857142856,
           "Jose Calderon"
          ],
          [
           0.4214876033057851,
           121,
           "Donell Taylor"
          ],
          [
           0.4555160142348754,
           35.125,
           "Shavlik Randolph"
          ],
          [
           null,
           0,
           "Deng Gai"
          ],
          [
           0.3984375,
           64,
           "Rawle Marshall"
          ],
          [
           0.4567350579839429,
           140.125,
           "Alan Anderson"
          ],
          [
           0.4666666666666667,
           30,
           "Eddie Basden"
          ],
          [
           0.49321266968325794,
           132.6,
           "James Singleton"
          ],
          [
           1,
           1,
           "Matt Walsh"
          ],
          [
           0.45871559633027525,
           36.333333333333336,
           "Anthony Roberson"
          ],
          [
           0.46938775510204084,
           24.5,
           "Luke Schenscher"
          ],
          [
           0.46531531531531534,
           277.5,
           "Will Bynum"
          ],
          [
           0.515625,
           12.8,
           "Dwayne Jones"
          ],
          [
           0.35294117647058826,
           34,
           "Kevin Burleson"
          ],
          [
           0.23076923076923078,
           26,
           "Devin Green"
          ],
          [
           0.4807692307692308,
           112.66666666666667,
           "Stephen Graham"
          ],
          [
           0.4421052631578947,
           47.5,
           "Esteban Batista"
          ],
          [
           0.6666666666666666,
           3,
           "Sharrod Ford"
          ],
          [
           0.41,
           66.66666666666667,
           "Jawad Williams"
          ],
          [
           0.1875,
           5.333333333333333,
           "Will Conroy"
          ],
          [
           0.6086956521739131,
           23,
           "Anthony Grundy"
          ],
          [
           0.3333333333333333,
           18,
           "Aaron Miles"
          ],
          [
           0.22727272727272727,
           22,
           "Noel Felix"
          ],
          [
           0,
           2,
           "Roger Powell"
          ],
          [
           0.47974068071312803,
           246.8,
           "Kelenna Azubuike"
          ],
          [
           0.500956937799043,
           190,
           "Chuck Hayes"
          ],
          [
           0.4230769230769231,
           52,
           "Boniface Ndong"
          ],
          [
           0.25,
           4,
           "Keith Langford"
          ],
          [
           0.4092827004219409,
           88.875,
           "John Lucas III"
          ],
          [
           0.368,
           62.5,
           "Andre Owens"
          ],
          [
           0.5300970873786408,
           206,
           "Jamario Moon"
          ],
          [
           0.46992864424057085,
           490.5,
           "Andrea Bargnani"
          ],
          [
           0.49815873015873013,
           1050,
           "LaMarcus Aldridge"
          ],
          [
           0.39110604332953247,
           292.3333333333333,
           "Adam Morrison"
          ],
          [
           0.4404485692188708,
           323.25,
           "Tyrus Thomas"
          ],
          [
           0.46408839779005523,
           211.16666666666666,
           "Shelden Williams"
          ],
          [
           0.4847094801223242,
           654,
           "Brandon Roy"
          ],
          [
           0.4286096972944013,
           339.3636363636364,
           "Randy Foye"
          ],
          [
           0.48333181942047415,
           733.9333333333333,
           "Rudy Gay"
          ],
          [
           0.5031847133757962,
           39.25,
           "Patrick O'Bryant"
          ],
          [
           0.4268292682926829,
           27.333333333333332,
           "Mouhamed Sene"
          ],
          [
           0.48197565543071164,
           284.8,
           "JJ Redick"
          ],
          [
           0.5029154518950437,
           114.33333333333333,
           "Hilton Armstrong"
          ],
          [
           0.501788268955651,
           199.71428571428572,
           "Thabo Sefolosha"
          ],
          [
           0.5202558635394456,
           351.75,
           "Ronnie Brewer"
          ],
          [
           0.4093567251461988,
           57,
           "Cedric Simmons"
          ],
          [
           0.4712301587301587,
           201.6,
           "Rodney Carney"
          ],
          [
           0.46875,
           114.28571428571429,
           "Shawne Williams"
          ],
          [
           0.444015444015444,
           86.33333333333333,
           "Oleksiy Pecherov"
          ],
          [
           0.43626062322946174,
           117.66666666666667,
           "Quincy Douby"
          ],
          [
           0.54337899543379,
           109.5,
           "Renaldo Balkman"
          ],
          [
           0.48268029528676887,
           469.6,
           "Rajon Rondo"
          ],
          [
           0.42097902097902096,
           178.75,
           "Marcus Williams"
          ],
          [
           0.5441458733205374,
           260.5,
           "Josh Boone"
          ],
          [
           0.4714261197871975,
           388.46666666666664,
           "Kyle Lowry"
          ],
          [
           0.45575877409787446,
           224.77777777777777,
           "Shannon Brown"
          ],
          [
           0.46328578975171686,
           189.3,
           "Jordan Farmar"
          ],
          [
           0.4509990485252141,
           210.2,
           "Sergio Rodriguez"
          ],
          [
           0.36551724137931035,
           36.25,
           "Maurice Ager"
          ],
          [
           0.39631336405529954,
           162.75,
           "Mardy Collins"
          ],
          [
           0.4613686534216336,
           151,
           "Joel Freeland"
          ],
          [
           0.48214285714285715,
           37.333333333333336,
           "James White"
          ],
          [
           0.4631578947368421,
           34.54545454545455,
           "Steve Novak"
          ],
          [
           0.4716981132075472,
           79.5,
           "Solomon Jones"
          ],
          [
           0.4036697247706422,
           54.5,
           "Paul Davis"
          ],
          [
           0.47322212467076386,
           227.8,
           "P.J. Tucker"
          ],
          [
           0.5596330275229358,
           363.3333333333333,
           "Craig Smith"
          ],
          [
           0.49122807017543857,
           85.5,
           "Bobby Jones"
          ],
          [
           0.3,
           10,
           "Kosta Perovic"
          ],
          [
           0.3870967741935484,
           124,
           "David Noel"
          ],
          [
           0.5135135135135135,
           18.5,
           "James Augustine"
          ],
          [
           0.39690301548492257,
           175.28571428571428,
           "Daniel Gibson"
          ],
          [
           0.5,
           8,
           "Marcus Vinicius"
          ],
          [
           0.5170068027210885,
           147,
           "Alexander Johnson"
          ],
          [
           0.3894736842105263,
           47.5,
           "Dee Brown"
          ],
          [
           0.5139093782929399,
           632.6666666666666,
           "Paul Millsap"
          ],
          [
           0.5174234424498416,
           189.4,
           "Leon Powe"
          ],
          [
           0.5841836734693877,
           117.6,
           "Ryan Hollins"
          ],
          [
           0.2727272727272727,
           16.5,
           "Cheikh Samb"
          ],
          [
           0.3333333333333333,
           3,
           "Guillermo Diaz"
          ],
          [
           0.5374149659863946,
           73.5,
           "Hassan Adams"
          ],
          [
           0.3611111111111111,
           36,
           "Damir Markota"
          ],
          [
           0.32,
           25,
           "Will Blalock"
          ],
          [
           0.4158790170132325,
           88.16666666666667,
           "Chris Quinn"
          ],
          [
           0.36363636363636365,
           143,
           "Allan Ray"
          ],
          [
           0.4747252747252747,
           136.5,
           "Lou Amundson"
          ],
          [
           0.47941176470588237,
           113.33333333333333,
           "Tarence Kinsey"
          ],
          [
           0.4579710144927536,
           172.5,
           "Jorge Garbajosa"
          ],
          [
           0.4366812227074236,
           229,
           "Pooh Jeter"
          ],
          [
           0.5775862068965517,
           58,
           "Justin Williams"
          ],
          [
           0.4475806451612903,
           62,
           "Yakhouba Diawara"
          ],
          [
           0.4155844155844156,
           38.5,
           "Pops Mensah-Bonsu"
          ],
          [
           0.3783783783783784,
           37,
           "Robert Hite"
          ],
          [
           0.46222732491389207,
           311.07142857142856,
           "J.J. Barea"
          ],
          [
           0.4722222222222222,
           36,
           "Darius Washington"
          ],
          [
           0.4166666666666667,
           12,
           "Ivan McFarlin"
          ],
          [
           0.518324607329843,
           127.33333333333333,
           "Walter Herrmann"
          ],
          [
           0.25,
           4,
           "Mike Hall"
          ],
          [
           0.44,
           25,
           "Kevinn Pinkney"
          ],
          [
           0.4794520547945205,
           36.5,
           "Mike Harris"
          ],
          [
           0,
           3,
           "Chris McCray"
          ],
          [
           0.34615384615384615,
           26,
           "Cedric Bozeman"
          ],
          [
           0.25,
           8,
           "Steven Smith"
          ],
          [
           0.2,
           10,
           "Renaldo Major"
          ],
          [
           0.5,
           20,
           "Dontell Jefferson"
          ],
          [
           0.3,
           20,
           "Jeremy Richardson"
          ],
          [
           0.25,
           4,
           "Lance Allred"
          ],
          [
           0.35365853658536583,
           82,
           "Walker Russell"
          ],
          [
           0.4262295081967213,
           30.5,
           "Randolph Morris"
          ],
          [
           0.5742753623188406,
           184,
           "Greg Oden"
          ],
          [
           0.5335363344580693,
           934.6923076923077,
           "Kevin Durant"
          ],
          [
           0.5428905792861323,
           610.3571428571429,
           "Al Horford"
          ],
          [
           0.4687760199833472,
           514.7142857142857,
           "Mike Conley"
          ],
          [
           0.48862843588670296,
           551.3076923076923,
           "Jeff Green"
          ],
          [
           0.41298265249020705,
           357.4,
           "Yi Jianlian"
          ],
          [
           0.4803964757709251,
           349.2307692307692,
           "Corey Brewer"
          ],
          [
           0.6101776284205472,
           208.3,
           "Brandan Wright"
          ],
          [
           0.49319877139096097,
           350.61538461538464,
           "Joakim Noah"
          ],
          [
           0.48236107908692644,
           433.7,
           "Spencer Hawes"
          ],
          [
           0.4521072796934866,
           130.5,
           "Acie Law"
          ],
          [
           0.5267786561264822,
           722.8571428571429,
           "Thaddeus Young"
          ],
          [
           0.5190735694822888,
           183.5,
           "Julian Wright"
          ],
          [
           0.46688382193268185,
           690.75,
           "Al Thornton"
          ],
          [
           0.44175491679273826,
           594.9,
           "Rodney Stuckey"
          ],
          [
           0.44634263715110684,
           346.3333333333333,
           "Nick Young"
          ],
          [
           0.5123042505592841,
           111.75,
           "Sean Williams"
          ],
          [
           0.46473585411638507,
           286.84615384615387,
           "Marco Belinelli"
          ],
          [
           0.4656652360515021,
           233,
           "Javaris Crittenton"
          ],
          [
           0.47876447876447875,
           282.54545454545456,
           "Jason Smith"
          ],
          [
           0.38349514563106796,
           137.33333333333334,
           "Daequan Cook"
          ],
          [
           0.5169491525423728,
           210.71428571428572,
           "Jared Dudley"
          ],
          [
           0.4968892575694733,
           401.8333333333333,
           "Wilson Chandler"
          ],
          [
           0.4631728045325779,
           176.5,
           "Rudy Fernandez"
          ],
          [
           0.4044943820224719,
           29.666666666666668,
           "Morris Almond"
          ],
          [
           0.4420245398773006,
           326,
           "Aaron Brooks"
          ],
          [
           0.48125564588979225,
           402.54545454545456,
           "Arron Afflalo"
          ],
          [
           0.5583941605839416,
           274,
           "Tiago Splitter"
          ],
          [
           0.4527027027027027,
           49.333333333333336,
           "Alando Tucker"
          ],
          [
           0.5369700103412617,
           429.77777777777777,
           "Carl Landry"
          ],
          [
           0.35,
           40,
           "Gabe Pruitt"
          ],
          [
           0.3181818181818182,
           11,
           "Marcus Williams"
          ],
          [
           0.575,
           80,
           "Nick Fazekas"
          ],
          [
           0.45106861642294716,
           444.5,
           "Glen Davis"
          ],
          [
           0.425,
           80,
           "Jermareo Davidson"
          ],
          [
           0.5143266475644699,
           126.9090909090909,
           "Josh McRoberts"
          ],
          [
           0.5,
           50,
           "Kyrylo Fesenko"
          ],
          [
           0.6,
           5,
           "Sun Sun"
          ],
          [
           0.4827586206896552,
           58,
           "Chris Richard"
          ],
          [
           0.6,
           5,
           "Derrick Byars"
          ],
          [
           0.4507042253521127,
           71,
           "Stephane Lasme"
          ],
          [
           0.4226125137211855,
           151.83333333333334,
           "Dominic McGuire"
          ],
          [
           0.49804525530150456,
           649.3076923076923,
           "Marc Gasol"
          ],
          [
           0.5110336817653891,
           123,
           "Aaron Gray"
          ],
          [
           null,
           0,
           "JamesOn Curry"
          ],
          [
           0.35714285714285715,
           14,
           "Taurean Green"
          ],
          [
           0.35294117647058826,
           8.5,
           "Demetris Nichols"
          ],
          [
           0.4503175578774841,
           443.72727272727275,
           "Ramon Sessions"
          ],
          [
           0.34328358208955223,
           67,
           "DJ Strawberry"
          ],
          [
           0.5128865979381443,
           77.6,
           "Joel Anthony"
          ],
          [
           0.39215686274509803,
           25.5,
           "Mustafa Shakur"
          ],
          [
           0.4117647058823529,
           17,
           "Coby Karl"
          ],
          [
           0.41379310344827586,
           14.5,
           "Darryl Watkins"
          ],
          [
           0.4439252336448598,
           235.4,
           "C.J. Watson"
          ],
          [
           0.493431855500821,
           93.6923076923077,
           "Anthony Tolliver"
          ],
          [
           0.3877551020408163,
           16.333333333333332,
           "Trey Johnson"
          ],
          [
           0.42857142857142855,
           3.5,
           "Courtney Sims"
          ],
          [
           0.46956521739130436,
           28.75,
           "Mario West"
          ],
          [
           0.4583333333333333,
           12,
           "Thomas Gardner"
          ],
          [
           0.5277777777777778,
           306,
           "Ivan Johnson"
          ],
          [
           0.2727272727272727,
           5.5,
           "Andre Ingram"
          ],
          [
           0.5833333333333334,
           12,
           "Eric Dawson"
          ],
          [
           0.35,
           20,
           "Carldell Johnson"
          ],
          [
           0.23333333333333334,
           10,
           "Blake Ahearn"
          ],
          [
           0.42731277533039647,
           227,
           "Mike Taylor"
          ],
          [
           0.4814942330865898,
           528.0909090909091,
           "Michael Beasley"
          ],
          [
           0.45868544600938965,
           532.5,
           "O.J. Mayo"
          ],
          [
           0.4856975381008206,
           710.8333333333334,
           "Derrick Rose"
          ],
          [
           0.46959624938772654,
           1099.3076923076924,
           "Russell Westbrook"
          ],
          [
           0.4798206278026906,
           497.46153846153845,
           "Kevin Love"
          ],
          [
           0.46547884187082406,
           336.75,
           "Danilo Gallinari"
          ],
          [
           0.4783795130142737,
           366.46153846153845,
           "Eric Gordon"
          ],
          [
           0.4264705882352941,
           102,
           "Joe Alexander"
          ],
          [
           0.43732376313765703,
           300.0769230769231,
           "D.J. Augustin"
          ],
          [
           0.5260884014622799,
           694.3846153846154,
           "Brook Lopez"
          ],
          [
           0.43602573266619016,
           254.36363636363637,
           "Jerryd Bayless"
          ],
          [
           0.49988131972466177,
           526.625,
           "Jason Thompson"
          ],
          [
           0.44714926329276106,
           173.44444444444446,
           "Brandon Rush"
          ],
          [
           0.46562721474131824,
           235.16666666666666,
           "Anthony Randolph"
          ],
          [
           0.5427669822288657,
           463.15384615384613,
           "Robin Lopez"
          ],
          [
           0.4754818248353257,
           409.9,
           "Marreese Speights"
          ],
          [
           0.4657290368524123,
           624.1111111111111,
           "Roy Hibbert"
          ],
          [
           0.5758414015675426,
           333.6923076923077,
           "JaVale McGee"
          ],
          [
           0.5078066914498142,
           504.375,
           "JJ Hickson"
          ],
          [
           0.5100725221595488,
           177.28571428571428,
           "Alexis Ajinca"
          ],
          [
           0.4700854700854701,
           253.5,
           "Ryan Anderson"
          ],
          [
           0.483983286908078,
           359,
           "Courtney Lee"
          ],
          [
           0.5346776657500764,
           297.54545454545456,
           "Kosta Koufos"
          ],
          [
           0.549182678520218,
           581.1666666666666,
           "Serge Ibaka"
          ],
          [
           0.5053475935828877,
           316.46153846153845,
           "Nicolas Batum"
          ],
          [
           0.5008003658815459,
           336.38461538461536,
           "George Hill"
          ],
          [
           0.46003016591251883,
           294.6666666666667,
           "Darrell Arthur"
          ],
          [
           0.4671857619577308,
           224.75,
           "Donte Greene"
          ],
          [
           0.5073099415204678,
           114,
           "DJ White"
          ],
          [
           0.5660377358490566,
           26.5,
           "J.R. Giddens"
          ],
          [
           0.5179345683878597,
           422.8333333333333,
           "Nikola Pekovic"
          ],
          [
           0.4444444444444444,
           9,
           "Walter Sharpe"
          ],
          [
           0.5358490566037736,
           66.25,
           "Joey Dorsey"
          ],
          [
           0.4746784565916399,
           276.44444444444446,
           "Mario Chalmers"
          ],
          [
           0.6752202221371122,
           401.6923076923077,
           "DeAndre Jordan"
          ],
          [
           0.5278706800445931,
           224.25,
           "Omer Asik"
          ],
          [
           0.4784719974101651,
           257.4166666666667,
           "Luc Mbah a Moute"
          ],
          [
           0.4972972972972973,
           61.666666666666664,
           "Kyle Weaver"
          ],
          [
           0.486815415821501,
           246.5,
           "Sonny Weems"
          ],
          [
           0.4648956356736243,
           175.66666666666666,
           "Chris Douglas-Roberts"
          ],
          [
           0.43859649122807015,
           57,
           "Nathan Jawai"
          ],
          [
           0.35,
           60,
           "Sean Singletary"
          ],
          [
           0,
           3,
           "Patrick Ewing"
          ],
          [
           0.5060882800608828,
           505.38461538461536,
           "Goran Dragic"
          ],
          [
           0.56,
           70,
           "Henry Walker"
          ],
          [
           0.5486725663716814,
           56.5,
           "Malik Hairston"
          ],
          [
           0.46303501945525294,
           85.66666666666667,
           "Darnell Jackson"
          ],
          [
           0.5294117647058824,
           17,
           "Sasha Kaun"
          ],
          [
           0.3333333333333333,
           6,
           "Joe Crawford"
          ],
          [
           0.5459459459459459,
           92.5,
           "Semih Erden"
          ],
          [
           0.47032337290216947,
           271.44444444444446,
           "Anthony Morrow"
          ],
          [
           0.42475728155339804,
           103,
           "Bobby Brown"
          ],
          [
           0.46875,
           16,
           "Othello Hunter"
          ],
          [
           1,
           1,
           "Steven Hill"
          ],
          [
           0.47101449275362317,
           55.2,
           "Hamed Haddadi"
          ],
          [
           0.3870967741935484,
           93,
           "Rob Kurz"
          ],
          [
           0.47058823529411764,
           51,
           "DeMarcus Nelson"
          ],
          [
           0.4787234042553192,
           31.333333333333332,
           "Othyus Jeffers"
          ],
          [
           0.5,
           4,
           "Oliver Lafayette"
          ],
          [
           0.5117370892018779,
           213,
           "Chris Hunter"
          ],
          [
           0.4665012406947891,
           201.5,
           "Gary Forbes"
          ],
          [
           1,
           1,
           "Trey Gilder"
          ],
          [
           0.4140625,
           73.14285714285714,
           "Cartier Martin"
          ],
          [
           0.509469696969697,
           132,
           "Greg Stiemsma"
          ],
          [
           0.5205659756498848,
           828.8181818181819,
           "Blake Griffin"
          ],
          [
           0.5669781931464174,
           64.2,
           "Hasheem Thabeet"
          ],
          [
           0.5129239692346489,
           660.9166666666666,
           "James Harden"
          ],
          [
           0.4681181959564541,
           643,
           "Tyreke Evans"
          ],
          [
           0.41875923190546527,
           406.2,
           "Ricky Rubio"
          ],
          [
           0.4203883495145631,
           343.3333333333333,
           "Jonny Flynn"
          ],
          [
           0.5192421551213736,
           563,
           "Stephen Curry"
          ],
          [
           0.49944669863519,
           338.875,
           "Jordan Hill"
          ],
          [
           0.4786945419725503,
           1044.3333333333333,
           "DeMar DeRozan"
          ],
          [
           0.4124915749269827,
           494.55555555555554,
           "Brandon Jennings"
          ],
          [
           0.4316628701594533,
           219.5,
           "Terrence Williams"
          ],
          [
           0.45987583352494826,
           543.625,
           "Gerald Henderson"
          ],
          [
           0.4423617619493908,
           304.85714285714283,
           "Tyler Hansbrough"
          ],
          [
           0.424,
           145.83333333333334,
           "Earl Clark"
          ],
          [
           0.43314285714285716,
           145.83333333333334,
           "Austin Daye"
          ],
          [
           0.5341521869382864,
           278.1666666666667,
           "James Johnson"
          ],
          [
           0.49332477535301666,
           649.1666666666666,
           "Jrue Holiday"
          ],
          [
           0.4928136419001218,
           513.125,
           "Ty Lawson"
          ],
          [
           0.47199601130131297,
           501.4166666666667,
           "Jeff Teague"
          ],
          [
           0.40869565217391307,
           161,
           "Eric Maynor"
          ],
          [
           0.49464989675239346,
           532.7,
           "Darren Collison"
          ],
          [
           0.5016380016380017,
           244.2,
           "Omri Casspi"
          ],
          [
           0.4381139489194499,
           203.6,
           "Byron Mullens"
          ],
          [
           0.5,
           186.5,
           "Rodrigue Beaubois"
          ],
          [
           0.524303305249514,
           514.3333333333334,
           "Taj Gibson"
          ],
          [
           0.4854122621564482,
           215,
           "DeMarre Carroll"
          ],
          [
           0.44776785714285716,
           186.66666666666666,
           "Wayne Ellington"
          ],
          [
           0.4478951000690131,
           181.125,
           "Toney Douglas"
          ],
          [
           0.4641350210970464,
           118.5,
           "Christian Eyenga"
          ],
          [
           0.4888888888888889,
           45,
           "Victor Claver"
          ],
          [
           0.5544747081712063,
           85.66666666666667,
           "Jeff Ayres"
          ],
          [
           0.4838709677419355,
           124,
           "Jermaine Taylor"
          ],
          [
           0.49381148841637573,
           315.1,
           "Dante Cunningham"
          ],
          [
           0.3915343915343915,
           47.25,
           "DaJuan Summers"
          ],
          [
           0.46837763519706693,
           272.75,
           "Sam Young"
          ],
          [
           0.5258255715495342,
           337.42857142857144,
           "DeJuan Blair"
          ],
          [
           0.4896265560165975,
           80.33333333333333,
           "Jon Brockman"
          ],
          [
           0.5066603235014272,
           233.55555555555554,
           "Jonas Jerebko"
          ],
          [
           0.5278637770897833,
           215.33333333333334,
           "Derrick Brown"
          ],
          [
           0.4706504494976203,
           189.1,
           "Jodie Meeks"
          ],
          [
           0.45667752442996745,
           170.55555555555554,
           "Patrick Beverley"
          ],
          [
           0.47052845528455284,
           369,
           "Marcus Thornton"
          ],
          [
           0.486198243412798,
           227.71428571428572,
           "Chase Budinger"
          ],
          [
           0.47577092511013214,
           227,
           "Nick Calathes"
          ],
          [
           0.46101029916625796,
           169.91666666666666,
           "Danny Green"
          ],
          [
           0.5,
           8,
           "Taylor Griffin"
          ],
          [
           0.4389920424403183,
           125.66666666666667,
           "AJ Price"
          ],
          [
           0.46332046332046334,
           129.5,
           "Nando De Colo"
          ],
          [
           0.48350253807106597,
           197,
           "Patty Mills"
          ],
          [
           0.4407894736842105,
           38,
           "Lester Hudson"
          ],
          [
           0.4630459126539754,
           162.36363636363637,
           "Garrett Temple"
          ],
          [
           0.4666666666666667,
           15,
           "Marcus Landry"
          ],
          [
           0.2222222222222222,
           9,
           "Jerel McNeal"
          ],
          [
           0.3333333333333333,
           3,
           "Antonio Anderson"
          ],
          [
           0.5483870967741935,
           31,
           "Garret Siler"
          ],
          [
           0.44,
           12.5,
           "Larry Owens"
          ],
          [
           0.4688878000979912,
           340.1666666666667,
           "Wesley Matthews"
          ],
          [
           0.46919976971790445,
           217.125,
           "Alonzo Gee"
          ],
          [
           0.41935483870967744,
           31,
           "Dionte Christmas"
          ],
          [
           0.5208333333333334,
           109.71428571428571,
           "Reggie Williams"
          ],
          [
           0.35714285714285715,
           14,
           "Cedric Jackson"
          ],
          [
           0.423728813559322,
           59,
           "Mickell Gladness"
          ],
          [
           0.4423076923076923,
           104,
           "Sundiata Gaines"
          ],
          [
           0.3333333333333333,
           3,
           "Shane Edwards"
          ],
          [
           0.41739130434782606,
           115,
           "Zabian Dowdell"
          ],
          [
           0.3968253968253968,
           31.5,
           "Terrel Harris"
          ],
          [
           0.45663426335058704,
           792.1,
           "John Wall"
          ],
          [
           0.4577022534170669,
           541.4,
           "Evan Turner"
          ],
          [
           0.5438915523226979,
           549.9090909090909,
           "Derrick Favors"
          ],
          [
           0.4603174603174603,
           245,
           "Wesley Johnson"
          ],
          [
           0.47711643348351906,
           843.4,
           "DeMarcus Cousins"
          ],
          [
           0.4548641542506573,
           163,
           "Ekpe Udoh"
          ],
          [
           0.5149645171243443,
           720.2222222222222,
           "Greg Monroe"
          ],
          [
           0.4672430994346525,
           273.3636363636364,
           "Al-Farouq Aminu"
          ],
          [
           0.4905221745350501,
           508.3636363636364,
           "Gordon Hayward"
          ],
          [
           0.47323209081147416,
           592.6363636363636,
           "Paul George"
          ],
          [
           0.5272727272727272,
           103.125,
           "Cole Aldrich"
          ],
          [
           0.4186939820742638,
           156.2,
           "Xavier Henry"
          ],
          [
           0.5669240669240669,
           282.54545454545456,
           "Ed Davis"
          ],
          [
           0.5012116316639742,
           225.0909090909091,
           "Patrick Patterson"
          ],
          [
           0.481294964028777,
           231.66666666666666,
           "Larry Sanders"
          ],
          [
           0.4169381107491857,
           76.75,
           "Luke Babbitt"
          ],
          [
           0.4906966681090437,
           330.14285714285717,
           "Kevin Seraphin"
          ],
          [
           0.5055461552923481,
           483.54545454545456,
           "Eric Bledsoe"
          ],
          [
           0.47099218565001183,
           383.90909090909093,
           "Avery Bradley"
          ],
          [
           0.49473684210526314,
           133,
           "James Anderson"
          ],
          [
           0.2857142857142857,
           17.5,
           "Craig Brackins"
          ],
          [
           0.4894366197183099,
           71,
           "Elliot Williams"
          ],
          [
           0.5342763873775843,
           344.625,
           "Trevor Booker"
          ],
          [
           0.4326241134751773,
           35.25,
           "Damion James"
          ],
          [
           0.3932038834951456,
           68.66666666666667,
           "Dominique Jones"
          ],
          [
           0.47493403693931396,
           108.28571428571429,
           "Quincy Pondexter"
          ],
          [
           0.45763523216850166,
           348.1666666666667,
           "Jordan Crawford"
          ],
          [
           0.45630609352857815,
           302.42857142857144,
           "Greivis Vasquez"
          ],
          [
           0.49019607843137253,
           34,
           "Daniel Orton"
          ],
          [
           0.3951612903225806,
           41.333333333333336,
           "Lazar Hayward"
          ],
          [
           0.4782608695652174,
           23,
           "Tibor Pleiss"
          ],
          [
           0.44954128440366975,
           27.25,
           "Dexter Pittman"
          ],
          [
           0.5829193281286965,
           469.6666666666667,
           "Hassan Whiteside"
          ],
          [
           0.46511627906976744,
           64.5,
           "Armon Johnson"
          ],
          [
           0.5369928400954654,
           209.5,
           "Nemanja Bjelica"
          ],
          [
           0.2857142857142857,
           7,
           "Darington Hobson"
          ],
          [
           0.6666666666666666,
           3,
           "Andy Rautins"
          ],
          [
           0.5198156682027649,
           217,
           "Landry Fields"
          ],
          [
           0.49396735273243436,
           313.1111111111111,
           "Lance Stephenson"
          ],
          [
           0.582089552238806,
           33.5,
           "Jarvis Varnado"
          ],
          [
           0.4180790960451977,
           59,
           "Devin Ebanks"
          ],
          [
           0.5275590551181102,
           63.5,
           "Jerome Jordan"
          ],
          [
           null,
           0,
           "Gani Lawal"
          ],
          [
           0.3137254901960784,
           25.5,
           "Solomon Alabi"
          ],
          [
           0.44021739130434784,
           92,
           "Luke Harangody"
          ],
          [
           0.4,
           5,
           "Pape Sy"
          ],
          [
           0.4,
           20,
           "Willie Warren"
          ],
          [
           0.5830618892508144,
           87.71428571428571,
           "Jeremy Evans"
          ],
          [
           0.4666666666666667,
           5,
           "Hamady Ndiaye"
          ],
          [
           0.48484848484848486,
           66,
           "Derrick Caracter"
          ],
          [
           0.8,
           5,
           "Ryan Reid"
          ],
          [
           0.3974358974358974,
           117,
           "Ben Uzoh"
          ],
          [
           0.44884910485933505,
           156.4,
           "Donald Sloan"
          ],
          [
           0.543468568880963,
           280.375,
           "Timofey Mozgov"
          ],
          [
           0.4482948294829483,
           259.7142857142857,
           "Gary Neal"
          ],
          [
           0.47299077733860345,
           337.3333333333333,
           "Jeremy Lin"
          ],
          [
           0.3333333333333333,
           15,
           "Sherron Collins"
          ],
          [
           0.44886363636363635,
           176,
           "Samardo Samuels"
          ],
          [
           0.45274353396180805,
           376.09090909090907,
           "Ish Smith"
          ],
          [
           0.4756756756756757,
           111,
           "Jeff Adrien"
          ],
          [
           0.45,
           40,
           "Jerome Dyson"
          ],
          [
           0.35555555555555557,
           60,
           "Elijah Millsap"
          ],
          [
           0.6666666666666666,
           3,
           "Marcus Cousin"
          ],
          [
           0.39037433155080214,
           93.5,
           "Manny Harris"
          ],
          [
           0.5620437956204379,
           45.666666666666664,
           "Chris Johnson"
          ],
          [
           0.5,
           8,
           "Justin Dentmon"
          ],
          [
           0.4277329420396185,
           151.44444444444446,
           "Lance Thomas"
          ],
          [
           0.25,
           8,
           "Jerry Smith"
          ],
          [
           0.38095238095238093,
           21,
           "Luke Zeller"
          ],
          [
           0.6521739130434783,
           7.666666666666667,
           "Arinze Onuaku"
          ],
          [
           0.42105263157894735,
           19,
           "Courtney Fortson"
          ],
          [
           0.5054393305439331,
           717,
           "Kyrie Irving"
          ],
          [
           0.48427672955974843,
           318,
           "Derrick Williams"
          ],
          [
           0.5548892220556388,
           600.3,
           "Enes Freedom"
          ],
          [
           0.5200415368639668,
           481.5,
           "Tristan Thompson"
          ],
          [
           0.5768872320596459,
           596.1111111111111,
           "Jonas Valanciunas"
          ],
          [
           0.5228628230616302,
           167.66666666666666,
           "Jan Vesely"
          ],
          [
           0.5272448196469686,
           260.6,
           "Bismack Biyombo"
          ],
          [
           0.4445407279029463,
           432.75,
           "Brandon Knight"
          ],
          [
           0.4550056242969629,
           711.2,
           "Kemba Walker"
          ],
          [
           0.4338138925294889,
           127.16666666666667,
           "Jimmer Fredette"
          ],
          [
           0.4906001446131598,
           691.5,
           "Klay Thompson"
          ],
          [
           0.44222495390288874,
           325.4,
           "Alec Burks"
          ],
          [
           0.4831804281345566,
           490.5,
           "Markieff Morris"
          ],
          [
           0.47382716049382717,
           405,
           "Marcus Morris Sr."
          ],
          [
           0.5354263166924,
           582.9,
           "Kawhi Leonard"
          ],
          [
           0.5164964189268522,
           851.7,
           "Nikola Vucevic"
          ],
          [
           0.4380952380952381,
           168,
           "Iman Shumpert"
          ],
          [
           0.3995433789954338,
           146,
           "Chris Singleton"
          ],
          [
           0.5162044250545341,
           641.8,
           "Tobias Harris"
          ],
          [
           0.5285961871750433,
           192.33333333333334,
           "Donatas Motiejunas"
          ],
          [
           0.4072398190045249,
           110.5,
           "Nolan Smith"
          ],
          [
           0.549949545913219,
           495.5,
           "Kenneth Faried"
          ],
          [
           0.5021865889212828,
           274.4,
           "Nikola Mirotic"
          ],
          [
           0.4684723726977248,
           461.5,
           "Reggie Jackson"
          ],
          [
           0.4777251184834123,
           211,
           "MarShon Brooks"
          ],
          [
           0.45054945054945056,
           91,
           "Jordan Hamilton"
          ],
          [
           0.4462809917355372,
           121,
           "JaJuan Johnson"
          ],
          [
           0.4360655737704918,
           305,
           "Norris Cole"
          ],
          [
           0.4800129996750081,
           307.7,
           "Cory Joseph"
          ],
          [
           0.4920788878111865,
           618.6,
           "Jimmy Butler"
          ],
          [
           0.5093644458090267,
           465.2857142857143,
           "Bojan Bogdanovic"
          ],
          [
           0.4166666666666667,
           8,
           "Justin Harper"
          ],
          [
           0.4575273338940286,
           198.16666666666666,
           "Kyle Singler"
          ],
          [
           0.47004357298474947,
           229.5,
           "Shelvin Mack"
          ],
          [
           0.3333333333333333,
           15,
           "Tyler Honeycutt"
          ],
          [
           0.506578947368421,
           152,
           "Jordan Williams"
          ],
          [
           0.4166666666666667,
           48,
           "Trey Thompkins"
          ],
          [
           0.5211420310805926,
           307.44444444444446,
           "Chandler Parsons"
          ],
          [
           0.4511494252873563,
           116,
           "Jeremy Tyler"
          ],
          [
           0.5200974421437271,
           205.25,
           "Jon Leuer"
          ],
          [
           0.4160839160839161,
           71.5,
           "Darius Morris"
          ],
          [
           0.5209205020920502,
           95.6,
           "Davis Bertans"
          ],
          [
           0.4117647058823529,
           34,
           "Malcolm Lee"
          ],
          [
           0.44871794871794873,
           195,
           "Charles Jenkins"
          ],
          [
           0.496551724137931,
           48.333333333333336,
           "Josh Harrellson"
          ],
          [
           0.42857142857142855,
           37.333333333333336,
           "Andrew Goudelock"
          ],
          [
           0.35714285714285715,
           14,
           "Travis Leslie"
          ],
          [
           0,
           1,
           "Keith Benson"
          ],
          [
           0.3835616438356164,
           36.5,
           "Josh Selby"
          ],
          [
           0.4738955823293173,
           290.5,
           "Lavoy Allen"
          ],
          [
           0.5428571428571428,
           35,
           "Vernon Macklin"
          ],
          [
           0.4321608040201005,
           39.8,
           "DeAndre Liggins"
          ],
          [
           0.48894436519258205,
           280.4,
           "E'Twaun Moore"
          ],
          [
           0.48175519630484986,
           433,
           "Isaiah Thomas"
          ],
          [
           0.3076923076923077,
           13,
           "Edwin Ubiles"
          ],
          [
           0.4131455399061033,
           71,
           "Dwight Buycks"
          ],
          [
           0.34415584415584416,
           77,
           "Cory Higgins"
          ],
          [
           0.375,
           8,
           "D.J. Kennedy"
          ],
          [
           0.23076923076923078,
           13,
           "Mychel Thompson"
          ],
          [
           0.3333333333333333,
           3,
           "Dennis Horner"
          ],
          [
           0.5569620253164557,
           39.5,
           "Chris Wright"
          ],
          [
           0.3333333333333333,
           6,
           "Jeff Foote"
          ],
          [
           0.3,
           5,
           "Xavier Silas"
          ],
          [
           0.5806451612903226,
           7.75,
           "Julyan Stone"
          ],
          [
           0.40264026402640263,
           101,
           "Jeremy Pargo"
          ],
          [
           0.5,
           14.5,
           "Malcolm Thomas"
          ],
          [
           0.4777777777777778,
           180,
           "Brad Wanamaker"
          ],
          [
           0.6183206106870229,
           78.6,
           "Greg Smith"
          ],
          [
           0.5368620037807184,
           176.33333333333334,
           "Gustavo Ayon"
          ],
          [
           0.5,
           2,
           "Josh Akognon"
          ],
          [
           0.5343131712832109,
           982.7777777777778,
           "Anthony Davis"
          ],
          [
           0.48088531187122735,
           372.75,
           "Michael Kidd-Gilchrist"
          ],
          [
           0.49834413246940246,
           771.6666666666666,
           "Bradley Beal"
          ],
          [
           0.443768115942029,
           431.25,
           "Dion Waiters"
          ],
          [
           0.47232472324723246,
           271,
           "Thomas Robinson"
          ],
          [
           0.4877773067684047,
           786.3333333333334,
           "Damian Lillard"
          ],
          [
           0.47624039133473095,
           318,
           "Terrence Ross"
          ],
          [
           0.5439689793657388,
           802.3333333333334,
           "Andre Drummond"
          ],
          [
           0.4844165716457621,
           584.6666666666666,
           "Harrison Barnes"
          ],
          [
           0.46388101983002833,
           313.77777777777777,
           "Austin Rivers"
          ],
          [
           0.5491731940818103,
           127.66666666666667,
           "Meyers Leonard"
          ],
          [
           0.49776555517359916,
           323.22222222222223,
           "Jeremy Lamb"
          ],
          [
           0.4221218961625282,
           110.75,
           "Kendall Marshall"
          ],
          [
           0.5493994575745835,
           322.625,
           "John Henson"
          ],
          [
           0.5479930191972077,
           254.66666666666666,
           "Maurice Harkless"
          ],
          [
           0,
           1,
           "Royce White"
          ],
          [
           0.5117830146731881,
           281.125,
           "Tyler Zeller"
          ],
          [
           0.5389728096676737,
           275.8333333333333,
           "Terrence Jones"
          ],
          [
           0.4983948635634029,
           249.2,
           "Andrew Nicholson"
          ],
          [
           0.5022954361328652,
           411.44444444444446,
           "Evan Fournier"
          ],
          [
           0.4757729580064605,
           433.4,
           "Jared Sullinger"
          ],
          [
           0.5,
           6,
           "Fab Melo"
          ],
          [
           0.5025906735751295,
           64.33333333333333,
           "John Jenkins"
          ],
          [
           0.36936936936936937,
           27.75,
           "Jared Cunningham"
          ],
          [
           0.4766990291262136,
           257.5,
           "Tony Wroten"
          ],
          [
           0.5416364952932657,
           197.28571428571428,
           "Miles Plumlee"
          ],
          [
           0.5465116279069767,
           86,
           "Arnett Moultrie"
          ],
          [
           0.4662756598240469,
           113.66666666666667,
           "Perry Jones III"
          ],
          [
           0.3694581280788177,
           67.66666666666667,
           "Marquis Teague"
          ],
          [
           0.5130597014925373,
           178.66666666666666,
           "Festus Ezeli"
          ],
          [
           0.5279456193353474,
           264.8,
           "Tomas Satoransky"
          ],
          [
           0.5066666666666667,
           50,
           "Bernard James"
          ],
          [
           0.5122897800776197,
           257.6666666666667,
           "Jae Crowder"
          ],
          [
           0.508706043018095,
           325.44444444444446,
           "Draymond Green"
          ],
          [
           0.3977272727272727,
           58.666666666666664,
           "Orlando Johnson"
          ],
          [
           0.5056890012642224,
           113,
           "Quincy Acy"
          ],
          [
           0.38341968911917096,
           64.33333333333333,
           "Quincy Miller"
          ],
          [
           0.4945226917057903,
           568,
           "Khris Middleton"
          ],
          [
           0.47835051546391755,
           377.22222222222223,
           "Will Barton"
          ],
          [
           0.35294117647058826,
           76.5,
           "Tyshawn Taylor"
          ],
          [
           0.37244897959183676,
           98,
           "Doron Lamb"
          ],
          [
           0.5213533000554631,
           200.33333333333334,
           "Mike Scott"
          ],
          [
           0.45161290322580644,
           62,
           "Kim English"
          ],
          [
           0.5602240896358543,
           119,
           "Justin Hamilton"
          ],
          [
           0.5,
           67,
           "Darius Miller"
          ],
          [
           0.2608695652173913,
           23,
           "Kevin Murphy"
          ],
          [
           0.416,
           62.5,
           "Kostas Papanikolaou"
          ],
          [
           0.5385794583546244,
           244.625,
           "Kyle O'Quinn"
          ],
          [
           0.18181818181818182,
           11,
           "Kris Joseph"
          ],
          [
           0.547945205479452,
           73,
           "Furkan Aldemir"
          ],
          [
           0.5116279069767442,
           21.5,
           "Tornike Shengelia"
          ],
          [
           0,
           3.5,
           "Darius Johnson-Odom"
          ],
          [
           0.4688995215311005,
           104.5,
           "Robbie Hummel"
          ],
          [
           0.4368131868131868,
           182,
           "Robert Sacre"
          ],
          [
           0.52,
           12.5,
           "Ognjen Kuzmic"
          ],
          [
           0.44379391100702575,
           213.5,
           "Hollis Thompson"
          ],
          [
           0.6721311475409836,
           30.5,
           "Viacheslav Kravtsov"
          ],
          [
           0.4678787878787879,
           137.5,
           "Mirza Teletovic"
          ],
          [
           0.48623853211009177,
           109,
           "Chris Copeland"
          ],
          [
           0.5219123505976095,
           62.75,
           "Pablo Prigioni"
          ],
          [
           0.4174041297935103,
           226,
           "Alexey Shved"
          ],
          [
           0.4579263711495116,
           295.77777777777777,
           "Kent Bazemore"
          ],
          [
           0.3389830508474576,
           29.5,
           "Maalik Wayns"
          ],
          [
           null,
           0,
           "Chris Smith"
          ],
          [
           0.438984438984439,
           244.2,
           "Brian Roberts"
          ],
          [
           0.4789915966386555,
           208.25,
           "Henry Sims"
          ],
          [
           0.40186915887850466,
           107,
           "Kevin Jones"
          ],
          [
           0.6,
           5,
           "Scott Machado"
          ],
          [
           0.4090909090909091,
           22,
           "Ben Hansbrough"
          ],
          [
           0.75,
           4,
           "Tony Mitchell"
          ],
          [
           0.5947467166979362,
           177.66666666666666,
           "Willie Reed"
          ],
          [
           0.5080645161290323,
           62,
           "Chris Johnson"
          ],
          [
           0.3842364532019704,
           101.5,
           "Diante Garrett"
          ],
          [
           0.46994535519125685,
           183,
           "DeQuan Jones"
          ],
          [
           0.4492753623188406,
           189.75,
           "Justin Holiday"
          ],
          [
           0.5,
           2,
           "Chris Wright"
          ],
          [
           0.5169727323316639,
           256.7142857142857,
           "JaMychal Green"
          ],
          [
           0.3870967741935484,
           10.333333333333334,
           "James Nunnally"
          ],
          [
           0.5617977528089888,
           29.666666666666668,
           "Jorge Gutierrez"
          ],
          [
           0.4344262295081967,
           61,
           "Toure' Murry"
          ],
          [
           0.3333333333333333,
           3,
           "Tim Ohlbrecht"
          ],
          [
           0.2857142857142857,
           14,
           "Glen Rice Jr."
          ],
          [
           0.5185524507558406,
           242.55555555555554,
           "Aron Baynes"
          ],
          [
           0.5505804311774462,
           344.57142857142856,
           "Nerlens Noel"
          ],
          [
           0.5247524752475248,
           353.5,
           "Alex Len"
          ],
          [
           0.4713622291021672,
           184.57142857142858,
           "Allen Crabbe"
          ],
          [
           0.6002604166666666,
           109.71428571428571,
           "Andre Roberson"
          ],
          [
           0.4274353876739563,
           125.75,
           "Anthony Bennett"
          ],
          [
           0.4842105263157895,
           166.25,
           "Archie Goodwin"
          ],
          [
           0.4755125284738041,
           219.5,
           "Ben McLemore"
          ],
          [
           0.547945205479452,
           73,
           "Brandon Paul"
          ],
          [
           0.5555555555555556,
           9,
           "Carrick Felix"
          ],
          [
           0.4859778597785978,
           677.5,
           "CJ McCollum"
          ],
          [
           0.5329787234042553,
           352.5,
           "Cody Zeller"
          ],
          [
           0.4739720478023091,
           617.125,
           "Dennis Schroder"
          ],
          [
           0.5805609915198956,
           191.625,
           "Dewayne Dedmon"
          ],
          [
           0.4444444444444444,
           4.5,
           "DJ Stephens"
          ],
          [
           0.4146341463414634,
           61.5,
           "Erick Green"
          ],
          [
           0.5213137665967854,
           357.75,
           "Gorgui Dieng"
          ],
          [
           0.40387722132471726,
           103.16666666666667,
           "Isaiah Canaan"
          ],
          [
           0.39285714285714285,
           14,
           "Jamaal Franklin"
          ],
          [
           0.2222222222222222,
           9,
           "James Southerland"
          ],
          [
           0.5369565217391304,
           92,
           "Jeff Withey"
          ],
          [
           0.5614737685222266,
           312.125,
           "Kelly Olynyk"
          ],
          [
           0.47687296416938113,
           383.75,
           "Kentavious Caldwell-Pope"
          ],
          [
           0.4525862068965517,
           46.4,
           "Lorenzo Brown"
          ],
          [
           0.5849896173242362,
           421.375,
           "Mason Plumlee"
          ],
          [
           0.4362304362304362,
           375.375,
           "Michael Carter-Williams"
          ],
          [
           0.5490196078431373,
           114.75,
           "Mike Muscala"
          ],
          [
           0.4516971279373368,
           127.66666666666667,
           "Nate Wolters"
          ],
          [
           0.5253190613421161,
           303.625,
           "Otto Porter Jr."
          ],
          [
           0.34375,
           32,
           "Peyton Siva"
          ],
          [
           0.4303977272727273,
           234.66666666666666,
           "Ray McCallum"
          ],
          [
           0.49671772428884026,
           114.25,
           "Reggie Bullock"
          ],
          [
           0.32051282051282054,
           39,
           "Ricky Ledo"
          ],
          [
           0.4869203329369798,
           210.25,
           "Robert Covington"
          ],
          [
           0.6464807436918991,
           470.625,
           "Rudy Gobert"
          ],
          [
           0.5099875156054932,
           320.4,
           "Shabazz Muhammad"
          ],
          [
           0.4543524416135881,
           235.5,
           "Shane Larkin"
          ],
          [
           0.5923212932558727,
           494.875,
           "Steven Adams"
          ],
          [
           0.4933862433862434,
           378,
           "Tim Hardaway Jr."
          ],
          [
           0.36363636363636365,
           11,
           "Tony Mitchell"
          ],
          [
           0.4834162520729685,
           150.75,
           "Tony Snell"
          ],
          [
           0.44871794871794873,
           341.25,
           "Trey Burke"
          ],
          [
           0.38461538461538464,
           8.666666666666666,
           "Vander Blue"
          ],
          [
           0.47956284153005463,
           571.875,
           "Victor Oladipo"
          ],
          [
           0.5767240173450833,
           893.625,
           "Giannis Antetokounmpo"
          ],
          [
           0.48872180451127817,
           44.333333333333336,
           "Sergey Karasev"
          ],
          [
           0.35714285714285715,
           28,
           "Pierre Jackson"
          ],
          [
           0.5454545454545454,
           11,
           "Grant Jerrett"
          ],
          [
           0.6811023622047244,
           63.5,
           "Lucas Nogueira"
          ],
          [
           0.3,
           10,
           "Erik Murphy"
          ],
          [
           0.3924050632911392,
           105.33333333333333,
           "Phil Pressey"
          ],
          [
           0.5344352617079889,
           155.57142857142858,
           "James Ennis III"
          ],
          [
           0.23809523809523808,
           21,
           "Nemanja Nedovic"
          ],
          [
           0.44329896907216493,
           64.66666666666667,
           "Alex Abrines"
          ],
          [
           0.5555555555555556,
           9,
           "Adonis Thomas"
          ],
          [
           0.40664961636828645,
           146.625,
           "Matthew Dellavedova"
          ],
          [
           0.44651162790697674,
           134.375,
           "Solomon Hill"
          ],
          [
           0.4936034115138593,
           156.33333333333334,
           "Raul Neto"
          ],
          [
           0.4157303370786517,
           133.5,
           "Ryan Kelly"
          ],
          [
           0.520048602673147,
           205.75,
           "Joffrey Lauvergne"
          ],
          [
           0.3373493975903614,
           41.5,
           "Gal Mekel"
          ],
          [
           0.48598130841121495,
           53.5,
           "Gigi Datome"
          ],
          [
           0.5,
           123,
           "Pero Antic"
          ],
          [
           0.5298507462686567,
           67,
           "Miroslav Raduljica"
          ],
          [
           0.513978494623656,
           155,
           "Ian Clark"
          ],
          [
           0,
           1,
           "Elias Harris"
          ],
          [
           0.5036378334680679,
           176.71428571428572,
           "Seth Curry"
          ],
          [
           0.4479638009049774,
           110.5,
           "Brandon Davies"
          ],
          [
           0,
           0.5,
           "Kalin Lucas"
          ],
          [
           0.375,
           8,
           "Patrick Christopher"
          ],
          [
           0.6666666666666666,
           3,
           "Chris Babb"
          ],
          [
           0.425531914893617,
           23.5,
           "Larry Drew II"
          ],
          [
           0.41568627450980394,
           72.85714285714286,
           "Troy Daniels"
          ],
          [
           0.4892638036809816,
           130.4,
           "Rodney McGruder"
          ],
          [
           null,
           0,
           "Trey McKinney-Jones"
          ],
          [
           0.486712224753227,
           329.25,
           "Jonathon Simmons"
          ],
          [
           0.5838926174496645,
           49.666666666666664,
           "Thanasis Antetokounmpo"
          ],
          [
           0.532258064516129,
           31,
           "Norvel Pelle"
          ],
          [
           null,
           0,
           "Reggie Hearn"
          ],
          [
           0.3142857142857143,
           17.5,
           "Josh Magette"
          ],
          [
           0.5579710144927537,
           69,
           "C.J. Williams"
          ],
          [
           0.4139194139194139,
           136.5,
           "PJ Hairston"
          ],
          [
           0.3,
           10,
           "Will Cherry"
          ],
          [
           0.5238095238095238,
           21,
           "Casper Ware"
          ],
          [
           0,
           1.5,
           "Scotty Hopson"
          ],
          [
           0.3870967741935484,
           15.5,
           "Russ Smith"
          ],
          [
           0.44777562862669246,
           172.33333333333334,
           "Shabazz Napier"
          ],
          [
           0.44693877551020406,
           122.5,
           "Jordan McRae"
          ],
          [
           0.49823232323232325,
           565.7142857142857,
           "Zach LaVine"
          ],
          [
           0.45765765765765765,
           138.75,
           "Tyler Ennis"
          ],
          [
           0.4269340974212034,
           116.33333333333333,
           "Markel Brown"
          ],
          [
           0.4764751754613985,
           549.5714285714286,
           "Elfrid Payton"
          ],
          [
           0.40625,
           160,
           "Semaj Christon"
          ],
          [
           0.5029280862028578,
           609.8571428571429,
           "Jordan Clarkson"
          ],
          [
           0.3770491803278688,
           30.5,
           "Devyn Marble"
          ],
          [
           0.4792626728110599,
           144.66666666666666,
           "KJ McDaniels"
          ],
          [
           0.3888888888888889,
           54,
           "Nick Johnson"
          ],
          [
           0.3974358974358974,
           26,
           "C.J. Wilcox"
          ],
          [
           0.4351851851851852,
           108,
           "Jabari Brown"
          ],
          [
           0.512154233025985,
           340.85714285714283,
           "Gary Harris"
          ],
          [
           0.4793702497285559,
           263.14285714285717,
           "Spencer Dinwiddie"
          ],
          [
           0.43617021276595747,
           169.2,
           "Nik Stauskas"
          ],
          [
           0.4631915866483768,
           312.42857142857144,
           "Rodney Hood"
          ],
          [
           0.4090909090909091,
           33,
           "Jordan Adams"
          ],
          [
           0.546916890080429,
           186.5,
           "Khem Birch"
          ],
          [
           0.4,
           77.5,
           "Cleanthony Early"
          ],
          [
           0.501010101010101,
           141.42857142857142,
           "Glenn Robinson III"
          ],
          [
           0.5342465753424658,
           18.25,
           "James Young"
          ],
          [
           0.5128581925055107,
           388.85714285714283,
           "Jerami Grant"
          ],
          [
           0.5453915453915454,
           206.14285714285714,
           "Joe Harris"
          ],
          [
           0.5351063829787234,
           268.57142857142856,
           "Doug McDermott"
          ],
          [
           0.47398843930635837,
           86.5,
           "Cory Jefferson"
          ],
          [
           0.4743243243243243,
           185,
           "Sean Kilpatrick"
          ],
          [
           0.5110091743119266,
           467.14285714285717,
           "Aaron Gordon"
          ],
          [
           0.5364389825664475,
           499.85714285714283,
           "T.J. Warren"
          ],
          [
           0.45,
           20,
           "Lamar Patterson"
          ],
          [
           0.4382845188284519,
           273.14285714285717,
           "Marcus Smart"
          ],
          [
           0.5262563523433089,
           253,
           "Kyle Anderson"
          ],
          [
           0.6291739894551845,
           243.85714285714286,
           "Dwight Powell"
          ],
          [
           0.4297297297297297,
           92.5,
           "Adreian Payne"
          ],
          [
           0.5009140767824497,
           156.28571428571428,
           "Noah Vonleh"
          ],
          [
           0.5124698310539019,
           710.2857142857143,
           "Julius Randle"
          ],
          [
           0.25,
           4,
           "Alex Kirk"
          ],
          [
           0.30612244897959184,
           24.5,
           "Cameron Bairstow"
          ],
          [
           0.40625,
           120,
           "Johnny O'Bryant III"
          ],
          [
           0.5446808510638298,
           58.75,
           "James Michael McAdoo"
          ],
          [
           0.5813953488372093,
           14.333333333333334,
           "Jarnell Stokes"
          ],
          [
           0.4,
           5,
           "Keith Appling"
          ],
          [
           0.4774912253929498,
           936.1428571428571,
           "Andrew Wiggins"
          ],
          [
           0.5316586373021335,
           415.14285714285717,
           "Jabari Parker"
          ],
          [
           0.527418891759977,
           696.6,
           "Joel Embiid"
          ],
          [
           0.4642857142857143,
           28,
           "Bryce Cotton"
          ],
          [
           0.5439560439560439,
           91,
           "Mitch McGary"
          ],
          [
           0.4851063829787234,
           117.5,
           "Dante Exum"
          ],
          [
           null,
           0,
           "Andre Dawkins"
          ],
          [
           0.5395408163265306,
           130.66666666666666,
           "JaKarr Sampson"
          ],
          [
           0.5333333333333333,
           33.75,
           "Eric Moreland"
          ],
          [
           0.4,
           26.666666666666668,
           "Josh Huestis"
          ],
          [
           0.5111111111111111,
           22.5,
           "Shayne Whittington"
          ],
          [
           0.6111111111111112,
           18,
           "Jamil Wilson"
          ],
          [
           0.5025510204081632,
           392,
           "Dario Saric"
          ],
          [
           null,
           0,
           "Jerrelle Benimon"
          ],
          [
           0.6265094882116159,
           496.85714285714283,
           "Clint Capela"
          ],
          [
           0.4936284372904091,
           372.75,
           "Bogdan Bogdanovic"
          ],
          [
           0.5009101941747572,
           470.85714285714283,
           "Jusuf Nurkic"
          ],
          [
           0.4166666666666667,
           24,
           "Damien Inglis"
          ],
          [
           0.4975124378109453,
           28.714285714285715,
           "Bruno Caboclo"
          ],
          [
           0.5827217446005452,
           794.8333333333334,
           "Nikola Jokic"
          ],
          [
           0.4803687265278252,
           585.8,
           "Kristaps Porzingis"
          ],
          [
           0.625,
           12,
           "Edy Tavares"
          ],
          [
           0.5348837209302325,
           43,
           "Damjan Rudez"
          ],
          [
           0.4747058823529412,
           242.85714285714286,
           "Tyler Johnson"
          ],
          [
           0.5,
           2,
           "Sim Bhullar"
          ],
          [
           0.4489795918367347,
           24.5,
           "Jack Cooley"
          ],
          [
           0.44079718640093785,
           121.85714285714286,
           "Tim Frazier"
          ],
          [
           0.5573979591836735,
           196,
           "Tarik Black"
          ],
          [
           0,
           1,
           "David Wear"
          ],
          [
           0.39705882352941174,
           102,
           "Travis Wear"
          ],
          [
           0.42977893368010406,
           219.71428571428572,
           "Langston Galloway"
          ],
          [
           0.5,
           16,
           "Zoran Dragic"
          ],
          [
           0.5224887556221889,
           190.57142857142858,
           "Joe Ingles"
          ],
          [
           0.25,
           2,
           "David Stockton"
          ],
          [
           0.2608695652173913,
           11.5,
           "John Holland"
          ],
          [
           0.3333333333333333,
           7,
           "Jarell Eddie"
          ],
          [
           0.5,
           16,
           "Drew Gordon"
          ],
          [
           0.41379310344827586,
           29,
           "Xavier Munford"
          ],
          [
           0.5555555555555556,
           9,
           "Omari Johnson"
          ],
          [
           0,
           1,
           "Greg Whittington"
          ],
          [
           0.5270382695507487,
           400.6666666666667,
           "T.J. McConnell"
          ],
          [
           0.5460030165912518,
           331.5,
           "Jahlil Okafor"
          ],
          [
           0.43117593436645396,
           438.8,
           "Emmanuel Mudiay"
          ],
          [
           0.47553516819571867,
           218,
           "Tyus Jones"
          ],
          [
           0.5,
           10,
           "Cliff Alexander"
          ],
          [
           0.5219047619047619,
           105,
           "Justin Anderson"
          ],
          [
           0.379746835443038,
           26.333333333333332,
           "Anthony Brown"
          ],
          [
           0.6255424674519529,
           537.6666666666666,
           "Montrezl Harrell"
          ],
          [
           0.42196531791907516,
           173,
           "Andrew Harrison"
          ],
          [
           0.32432432432432434,
           12.333333333333334,
           "Aaron Harrison"
          ],
          [
           0.5,
           242,
           "Delon Wright"
          ],
          [
           0.5227272727272727,
           11,
           "RJ Hunter"
          ],
          [
           0.5700787401574803,
           158.75,
           "Sam Dekker"
          ],
          [
           0.4687298517085751,
           517,
           "D'Angelo Russell"
          ],
          [
           0.5694084843656642,
           836.8333333333334,
           "Karl-Anthony Towns"
          ],
          [
           0.625751503006012,
           332.6666666666667,
           "Richaun Holmes"
          ],
          [
           0.44349939246658565,
           274.3333333333333,
           "Justise Winslow"
          ],
          [
           0.5491391678622669,
           464.6666666666667,
           "Willie Cauley-Stein"
          ],
          [
           0.5063904803878361,
           378.1666666666667,
           "Kelly Oubre Jr."
          ],
          [
           0.48002316155182395,
           287.8333333333333,
           "Frank Kaminsky"
          ],
          [
           0.5022375915378356,
           819.3333333333334,
           "Devin Booker"
          ],
          [
           0.4645962732919255,
           134.16666666666666,
           "Cameron Payne"
          ],
          [
           0.5305277681959296,
           483.1666666666667,
           "Myles Turner"
          ],
          [
           0.4989247311827957,
           232.5,
           "Trey Lyles"
          ],
          [
           0.43245341614906835,
           214.66666666666666,
           "Stanley Johnson"
          ],
          [
           0.4640088593576966,
           180.6,
           "Jerian Grant"
          ],
          [
           0.4994073488739629,
           421.8333333333333,
           "Bobby Portis"
          ],
          [
           0.5910652920962199,
           145.5,
           "Kevon Looney"
          ],
          [
           0.36619718309859156,
           71,
           "Rashad Vaughn"
          ],
          [
           0.5960125918153201,
           190.6,
           "Christian Wood"
          ],
          [
           0.49586776859504134,
           40.333333333333336,
           "Jordan Mickey"
          ],
          [
           0.4666666666666667,
           22.5,
           "Rakeem Christmas"
          ],
          [
           0.5641025641025641,
           39,
           "Dakari Johnson"
          ],
          [
           0.4729064039408867,
           338.3333333333333,
           "Rondae Hollis-Jefferson"
          ],
          [
           0.44030202925908446,
           353.1666666666667,
           "Terry Rozier"
          ],
          [
           0.5285215366705471,
           286.3333333333333,
           "Norman Powell"
          ],
          [
           0.4,
           5,
           "Branden Dawson"
          ],
          [
           0.44656488549618323,
           65.5,
           "Chasson Randle"
          ],
          [
           0.4569343065693431,
           171.25,
           "Jarell Martin"
          ],
          [
           0.5,
           119.6,
           "Quinn Cook"
          ],
          [
           0.4701492537313433,
           44.666666666666664,
           "Chris McCullough"
          ],
          [
           0.5641421947449768,
           107.83333333333333,
           "Pat Connaughton"
          ],
          [
           0.5555555555555556,
           246.6,
           "Willy Hernangomez"
          ],
          [
           0.4757155247181266,
           384.3333333333333,
           "Josh Richardson"
          ],
          [
           0.41954022988505746,
           58,
           "Darrun Hilliard"
          ],
          [
           0.4383561643835616,
           97.33333333333333,
           "Joe Young"
          ],
          [
           0.437125748502994,
           83.5,
           "Treveon Graham"
          ],
          [
           0.5752599890530925,
           304.5,
           "Larry Nance Jr."
          ],
          [
           0.6,
           5,
           "Vincent Hunter"
          ],
          [
           0.4843492586490939,
           242.8,
           "Mario Hezonja"
          ],
          [
           0.509375,
           80,
           "Alan Williams"
          ],
          [
           0.43243243243243246,
           37,
           "Bryce Dejean-Jones"
          ],
          [
           0.5385964912280702,
           142.5,
           "Royce O'Neale"
          ],
          [
           0.4924039320822163,
           279.75,
           "Cedi Osman"
          ],
          [
           0.36363636363636365,
           5.5,
           "Luis Montero"
          ],
          [
           0.5824324324324325,
           123.33333333333333,
           "Cristiano Felicio"
          ],
          [
           0.5830039525691699,
           168.66666666666666,
           "Boban Marjanovic"
          ],
          [
           0,
           5,
           "Duje Dukan"
          ],
          [
           0.4318181818181818,
           14.666666666666666,
           "Axel Toupane"
          ],
          [
           0.4810126582278481,
           79,
           "Maurice Ndour"
          ],
          [
           0.6335697399527187,
           105.75,
           "Salah Mejri"
          ],
          [
           0.5263157894736842,
           6.333333333333333,
           "Malcolm Miller"
          ],
          [
           0,
           2,
           "Coty Clarke"
          ],
          [
           0,
           1,
           "JJ O'Brien"
          ],
          [
           0.46788990825688076,
           109,
           "Marcelo Huertas"
          ],
          [
           null,
           0,
           "Jordan Sibert"
          ],
          [
           1,
           1,
           "Jacob Pullen"
          ],
          [
           0.45901639344262296,
           30.5,
           "Jonathan Gibson"
          ],
          [
           0.4145785876993166,
           219.5,
           "Malcolm Delaney"
          ],
          [
           0.4329896907216495,
           48.5,
           "Walt Lemon Jr."
          ],
          [
           0.3333333333333333,
           27,
           "Alex Stepheson"
          ],
          [
           0.45689655172413796,
           38.666666666666664,
           "Briante Weber"
          ],
          [
           0.4583333333333333,
           24,
           "Julian Washburn"
          ],
          [
           0.5640456563094484,
           788.5,
           "Ben Simmons"
          ],
          [
           0.5177111716621253,
           91.75,
           "Dragan Bender"
          ],
          [
           0.5536167512690355,
           630.4,
           "Domantas Sabonis"
          ],
          [
           0.38345864661654133,
           44.333333333333336,
           "Wade Baldwin IV"
          ],
          [
           0.505940594059406,
           202,
           "Malik Beasley"
          ],
          [
           0.5310880829015544,
           231.6,
           "Marquese Chriss"
          ],
          [
           0.6006006006006006,
           111,
           "Deyonta Davis"
          ],
          [
           0.45358649789029537,
           284.4,
           "Kris Dunn"
          ],
          [
           0.4,
           36,
           "Henry Ellenson"
          ],
          [
           0.46979298690325305,
           473.4,
           "Buddy Hield"
          ],
          [
           0.4944237918215613,
           645.6,
           "Brandon Ingram"
          ],
          [
           0.6086956521739131,
           7.666666666666667,
           "Demetrius Jackson"
          ],
          [
           0.4583333333333333,
           24,
           "Brice Johnson"
          ],
          [
           0.6860158311345647,
           75.8,
           "Damian Jones"
          ],
          [
           0.5069885641677255,
           196.75,
           "Skal Labissiere"
          ],
          [
           0.485837734037446,
           416.6,
           "Caris LeVert"
          ],
          [
           0.5094991364421416,
           115.8,
           "Thon Maker"
          ],
          [
           0.4738445911630269,
           492.25,
           "Dejounte Murray"
          ],
          [
           0.4969826056088037,
           563.4,
           "Jamal Murray"
          ],
          [
           0.6318273769386379,
           296.6,
           "Jakob Poeltl"
          ],
          [
           0.4520547945205479,
           292,
           "Taurean Prince"
          ],
          [
           0.35714285714285715,
           7,
           "Zhou Qi"
          ],
          [
           0.23076923076923078,
           13,
           "Diamond Stone"
          ],
          [
           0.43905635648754915,
           254.33333333333334,
           "Tyler Ulis"
          ],
          [
           0.44397163120567373,
           176.25,
           "Denzel Valentine"
          ],
          [
           0.3225806451612903,
           31,
           "Stephen Zimmerman"
          ],
          [
           0.4329268292682927,
           54.666666666666664,
           "Ron Baker"
          ],
          [
           0.5270588235294118,
           510,
           "Jaylen Brown"
          ],
          [
           0.5265901981230449,
           191.8,
           "DeAndre' Bembry"
          ],
          [
           0.6470588235294118,
           8.5,
           "Joel Bolomboy"
          ],
          [
           0.5058139534883721,
           481.6,
           "Malcolm Brogdon"
          ],
          [
           0.601823708206687,
           164.5,
           "Cheick Diallo"
          ],
          [
           0.3850267379679144,
           93.5,
           "Kay Felder"
          ],
          [
           0.16666666666666666,
           6,
           "Michael Gbinije"
          ],
          [
           0.4186046511627907,
           21.5,
           "Daniel Hamilton"
          ],
          [
           0.375,
           32,
           "AJ Hammons"
          ],
          [
           0.5854126679462572,
           104.2,
           "Jake Layman"
          ],
          [
           0.5076142131979695,
           78.8,
           "Patrick McCaw"
          ],
          [
           0.501577287066246,
           63.4,
           "Georges Niang"
          ],
          [
           0.5833333333333334,
           6,
           "Chinanu Onuaku"
          ],
          [
           0.3333333333333333,
           6,
           "Marcus Paige"
          ],
          [
           0.5306122448979592,
           29.4,
           "Gary Payton II"
          ],
          [
           0.4148936170212766,
           31.333333333333332,
           "Malachi Richardson"
          ],
          [
           0.46502057613168724,
           162,
           "Wayne Selden"
          ],
          [
           0.5452891960712987,
           549.8,
           "Pascal Siakam"
          ],
          [
           0.4473684210526316,
           19,
           "Jarrod Uthoff"
          ],
          [
           0.4519906323185012,
           213.5,
           "Isaiah Whitehead"
          ],
          [
           0.5434782608695652,
           76.66666666666667,
           "Troy Williams"
          ],
          [
           0,
           1,
           "Kyle Wiltjer"
          ],
          [
           0.46835443037974683,
           118.5,
           "Furkan Korkmaz"
          ],
          [
           0.46781789638932497,
           127.4,
           "Timothe Luwawu-Cabarrot"
          ],
          [
           0.5808510638297872,
           156.66666666666666,
           "Ante Zizic"
          ],
          [
           0,
           2,
           "Ben Bentil"
          ],
          [
           0.4666666666666667,
           186,
           "Yogi Ferrell"
          ],
          [
           0.5069582504970179,
           125.75,
           "Damion Lee"
          ],
          [
           0.5111111111111111,
           45,
           "Sheldon Mac"
          ],
          [
           0.5277777777777778,
           36,
           "Alex Poythress"
          ],
          [
           0.5294117647058824,
           8.5,
           "Tim Quarterman"
          ],
          [
           0.45714285714285713,
           157.5,
           "Isaiah Taylor"
          ],
          [
           0.4631336405529954,
           144.66666666666666,
           "Tyrone Wallace"
          ],
          [
           0.4,
           5,
           "James Webb III"
          ],
          [
           0.527027027027027,
           103.6,
           "Juancho Hernangomez"
          ],
          [
           0.547945205479452,
           36.5,
           "Guerschon Yabusele"
          ],
          [
           0.5908488063660478,
           301.6,
           "Ivica Zubac"
          ],
          [
           0.5545134818288394,
           170.6,
           "Dorian Finney-Smith"
          ],
          [
           0.4258373205741627,
           292.6,
           "Fred VanVleet"
          ],
          [
           0.5211267605633803,
           71,
           "Georgios Papagiannis"
          ],
          [
           0.4024390243902439,
           123,
           "Paul Zipser"
          ],
          [
           0.4914004914004914,
           101.75,
           "Abdel Nader"
          ],
          [
           0.6,
           90,
           "Shawn Long"
          ],
          [
           0.4444444444444444,
           27,
           "Daniel Ochefu"
          ],
          [
           0.5151515151515151,
           16.5,
           "Marshall Plumlee"
          ],
          [
           0.5123152709359606,
           101.5,
           "Mindaugas Kuzminskas"
          ],
          [
           0.5,
           23,
           "Nicolas Brussino"
          ],
          [
           0.5072886297376094,
           85.75,
           "Ryan Arcidiacono"
          ],
          [
           0.47548566142460685,
           216.2,
           "Bryn Forbes"
          ],
          [
           0.41379310344827586,
           19.333333333333332,
           "Okaro White"
          ],
          [
           0.5,
           4,
           "Matt Costello"
          ],
          [
           0.4146341463414634,
           82,
           "Kyle Collinsworth"
          ],
          [
           0.25,
           4,
           "Mike Tobey"
          ],
          [
           0.5438202247191011,
           89,
           "Danuel House Jr."
          ],
          [
           0.5833333333333334,
           12,
           "Jameel Warney"
          ],
          [
           0,
           2,
           "Patricio Garino"
          ],
          [
           0.47368421052631576,
           19,
           "Marcus Georges-Hunt"
          ],
          [
           0.5,
           20,
           "Nicolas Laprovittola"
          ],
          [
           0.42105263157894735,
           38,
           "Jalen Jones"
          ],
          [
           0.6107470511140236,
           152.6,
           "Derrick Jones Jr."
          ],
          [
           0.4790322580645161,
           155,
           "Shaquille Harrison"
          ],
          [
           0.4635514018691589,
           133.75,
           "Alex Caruso"
          ],
          [
           0.3,
           15,
           "Josh Gray"
          ],
          [
           0.43137254901960786,
           51,
           "Myke Henry"
          ],
          [
           0.5360576923076923,
           166.4,
           "David Nwaba"
          ],
          [
           0.5820433436532507,
           80.75,
           "Alfonzo McKinnie"
          ],
          [
           0.4,
           10,
           "Jordan Loyd"
          ],
          [
           0.5714285714285714,
           14,
           "Mitchell Creek"
          ],
          [
           0.4774590163934426,
           244,
           "Markelle Fultz"
          ],
          [
           0.45454545454545453,
           258.5,
           "Lonzo Ball"
          ],
          [
           0.4668094218415418,
           467,
           "Josh Jackson"
          ],
          [
           0.49863667348329926,
           733.5,
           "De'Aaron Fox"
          ],
          [
           0.48933975240715266,
           727,
           "Jayson Tatum"
          ],
          [
           0.4730473047304731,
           227.25,
           "Malik Monk"
          ],
          [
           0.4970674486803519,
           227.33333333333334,
           "Jonathan Isaac"
          ],
          [
           0.44055433989788473,
           342.75,
           "Dennis Smith Jr."
          ],
          [
           0.3894165535956581,
           184.25,
           "Frank Ntilikina"
          ],
          [
           0.5087842586085735,
           355.75,
           "Lauri Markkanen"
          ],
          [
           0.48464780252859724,
           830.5,
           "Donovan Mitchell"
          ],
          [
           0.4850574712643678,
           217.5,
           "Luke Kennard"
          ],
          [
           0.503968253968254,
           168,
           "Zach Collins"
          ],
          [
           0.614963503649635,
           548,
           "John Collins"
          ],
          [
           0.5264550264550265,
           189,
           "Justin Jackson"
          ],
          [
           0.5306122448979592,
           12.25,
           "Justin Patton"
          ],
          [
           0.5786694825765576,
           236.75,
           "OG Anunoby"
          ],
          [
           0.5233082706766917,
           221.66666666666666,
           "Harry Giles III"
          ],
          [
           0.6305418719211823,
           456.75,
           "Jarrett Allen"
          ],
          [
           0.3333333333333333,
           6,
           "Ike Anigbogu"
          ],
          [
           0.5661888701517707,
           593,
           "Bam Adebayo"
          ],
          [
           0.569672131147541,
           61,
           "Terrance Ferguson"
          ],
          [
           0.49818181818181817,
           68.75,
           "D.J. Wilson"
          ],
          [
           0.5877862595419847,
           87.33333333333333,
           "Isaiah Hartenstein"
          ],
          [
           0.36666666666666664,
           105,
           "Jawun Evans"
          ],
          [
           0.5398230088495575,
           56.5,
           "Anzejs Pasecniks"
          ],
          [
           0.5672645739910314,
           111.5,
           "Jordan Bell"
          ],
          [
           0.6527093596059114,
           101.5,
           "Tony Bradley"
          ],
          [
           0.5702005730659025,
           174.5,
           "Ivan Rabb"
          ],
          [
           0.5286343612334802,
           510.75,
           "Kyle Kuzma"
          ],
          [
           0.625,
           4,
           "Tyler Lydon"
          ],
          [
           0.4810606060606061,
           66,
           "Semi Ojeleye"
          ],
          [
           0.5129265770423992,
           241.75,
           "Derrick White"
          ],
          [
           0.49506578947368424,
           202.66666666666666,
           "Frank Jackson"
          ],
          [
           0.4755244755244755,
           47.666666666666664,
           "Caleb Swanigan"
          ],
          [
           0.5552367288378766,
           174.25,
           "Josh Hart"
          ],
          [
           0.5751633986928104,
           51,
           "Johnathan Motley"
          ],
          [
           0.4374384236453202,
           253.75,
           "Dwayne Bacon"
          ],
          [
           0.625,
           16,
           "Alec Peters"
          ],
          [
           0.5482866043613707,
           80.25,
           "Edmond Sumner"
          ],
          [
           0.459412780656304,
           144.75,
           "Wes Iwundu"
          ],
          [
           0.4330357142857143,
           112,
           "Frank Mason III"
          ],
          [
           0.684931506849315,
           36.5,
           "Jonah Bolden"
          ],
          [
           0.4364406779661017,
           59,
           "Sindarius Thornwell"
          ],
          [
           0.45750262329485836,
           476.5,
           "Dillon Brooks"
          ],
          [
           0.42857142857142855,
           157.5,
           "Tyler Dorsey"
          ],
          [
           0.5522388059701493,
           67,
           "Jaron Blossomgame"
          ],
          [
           0.6646115906288532,
           202.75,
           "Thomas Bryant"
          ],
          [
           0.75,
           20,
           "Cameron Oliver"
          ],
          [
           0.5199645075421473,
           281.75,
           "Monte Morris"
          ],
          [
           0.6060606060606061,
           16.5,
           "Devin Robinson"
          ],
          [
           0.49014084507042255,
           177.5,
           "Damyean Dotson"
          ],
          [
           0.46,
           75,
           "Kobi Simmons"
          ],
          [
           0.48554913294797686,
           129.75,
           "Sterling Brown"
          ],
          [
           0.6041666666666666,
           24,
           "Vlatko Cancar"
          ],
          [
           0.16666666666666666,
           6,
           "Charles Cooke"
          ],
          [
           0.3333333333333333,
           9,
           "Nigel Williams-Goss"
          ],
          [
           0.30434782608695654,
           23,
           "Davon Reed"
          ],
          [
           0.5369649805447471,
           64.25,
           "Luke Kornet"
          ],
          [
           0.49295774647887325,
           35.5,
           "Isaiah Hicks"
          ],
          [
           0.4722222222222222,
           48,
           "Kadeem Allen"
          ],
          [
           0.631578947368421,
           19,
           "Jabari Bird"
          ],
          [
           0.5926605504587156,
           136.25,
           "Chris Boucher"
          ],
          [
           0.6666666666666666,
           3,
           "Eric Mika"
          ],
          [
           0,
           2,
           "Jacob Wiley"
          ],
          [
           0.4225352112676056,
           142,
           "Mike James"
          ],
          [
           0.49645390070921985,
           70.5,
           "Milos Teodosic"
          ],
          [
           0.5441176470588235,
           34,
           "Tyler Cavanaugh"
          ],
          [
           0.6286836935166994,
           254.5,
           "Daniel Theis"
          ],
          [
           0.586490939044481,
           151.75,
           "Maxi Kleber"
          ],
          [
           0.42424242424242425,
           198,
           "Antonio Blakeney"
          ],
          [
           0.5801980198019802,
           126.25,
           "Torrey Craig"
          ],
          [
           1,
           1,
           "Matt Williams Jr."
          ],
          [
           0.391304347826087,
           11.5,
           "Derrick Walton Jr."
          ],
          [
           0,
           3,
           "Gian Clavell"
          ],
          [
           0.5714285714285714,
           7,
           "Mangok Mathiang"
          ],
          [
           0.375,
           24,
           "Milton Doyle"
          ],
          [
           0.32142857142857145,
           14,
           "Antonius Cleveland"
          ],
          [
           null,
           0,
           "Ben Moore"
          ],
          [
           0.4117647058823529,
           17,
           "Nigel Hayes"
          ],
          [
           0.46,
           50,
           "Jamel Artis"
          ],
          [
           0.39285714285714285,
           28,
           "Xavier Rathan-Mayes"
          ],
          [
           0.4,
           5,
           "Troy Caupain"
          ],
          [
           0.2,
           10,
           "London Perrantes"
          ],
          [
           0.2916666666666667,
           24,
           "Andrew White III"
          ],
          [
           0.5714285714285714,
           4.666666666666667,
           "Naz Mitrou-Long"
          ],
          [
           0.4230769230769231,
           104,
           "Isaiah Briscoe"
          ],
          [
           0.5,
           15,
           "Amile Jefferson"
          ],
          [
           0.4827586206896552,
           14.5,
           "Jaylen Morris"
          ],
          [
           0.6666666666666666,
           33,
           "Mychal Mulder"
          ],
          [
           0,
           1,
           "Erik McCree"
          ],
          [
           0.625,
           8,
           "Amida Brimah"
          ],
          [
           0.38461538461538464,
           6.5,
           "Dusty Hannahs"
          ],
          [
           0.5789473684210527,
           19,
           "Billy Garrett"
          ],
          [
           0.4,
           55,
           "Rodney Purvis"
          ],
          [
           1,
           2,
           "Tahjere McCall"
          ],
          [
           0.4375,
           16,
           "Paul Watson"
          ],
          [
           0.4,
           5,
           "Aaron Jackson"
          ],
          [
           0.37037037037037035,
           27,
           "Rawle Alkins"
          ],
          [
           0.48936170212765956,
           109.66666666666667,
           "Grayson Allen"
          ],
          [
           0.375,
           5.333333333333333,
           "Kostas Antetokounmpo"
          ],
          [
           0.4444444444444444,
           9,
           "Udoka Azubuike"
          ],
          [
           0.5364995602462621,
           379,
           "Marvin Bagley III"
          ],
          [
           0.5514018691588785,
           178.33333333333334,
           "Mo Bamba"
          ],
          [
           0.5092250922509225,
           90.33333333333333,
           "Keita Bates-Diop"
          ],
          [
           0.36363636363636365,
           5.5,
           "Brian Bowen II"
          ],
          [
           0.6073825503355704,
           298,
           "Mikal Bridges"
          ],
          [
           0.5374087591240876,
           365.3333333333333,
           "Miles Bridges"
          ],
          [
           0.5170940170940171,
           312,
           "Bruce Brown"
          ],
          [
           0.47947214076246336,
           227.33333333333334,
           "Troy Brown Jr."
          ],
          [
           0.5430954587581094,
           359.6666666666667,
           "Jalen Brunson"
          ],
          [
           0.39285714285714285,
           84,
           "Jevon Carter"
          ],
          [
           0.534466477809254,
           353,
           "Wendell Carter Jr."
          ],
          [
           0.4986979166666667,
           256,
           "Hamidou Diallo"
          ],
          [
           0.5329768270944741,
           187,
           "Donte DiVincenzo"
          ],
          [
           0.5,
           2,
           "Trevon Duval"
          ],
          [
           0.3458646616541353,
           66.5,
           "Jacob Evans"
          ],
          [
           0.5686274509803921,
           102,
           "Bruno Fernando"
          ],
          [
           0.42424242424242425,
           16.5,
           "Melvin Frazier Jr."
          ],
          [
           0.5167050691244239,
           578.6666666666666,
           "Shai Gilgeous-Alexander"
          ],
          [
           0.3954887218045113,
           221.66666666666666,
           "Devonte' Graham"
          ],
          [
           0.15384615384615385,
           13,
           "Devon Hall"
          ],
          [
           0.5714285714285714,
           7,
           "Kevin Hervey"
          ],
          [
           0.42544459644322846,
           243.66666666666666,
           "Aaron Holiday"
          ],
          [
           0.4756756756756757,
           308.3333333333333,
           "Kevin Huerter"
          ],
          [
           0.48010610079575594,
           125.66666666666667,
           "Chandler Hutchison"
          ],
          [
           0.5473801560758083,
           299,
           "Jaren Jackson Jr."
          ],
          [
           0.5257731958762887,
           32.333333333333336,
           "Alize Johnson"
          ],
          [
           null,
           0,
           "George King"
          ],
          [
           0.3883374689826303,
           268.6666666666667,
           "Kevin Knox II"
          ],
          [
           0.4606741573033708,
           89,
           "Caleb Martin"
          ],
          [
           0.5307692307692308,
           130,
           "Cody Martin"
          ],
          [
           0.3333333333333333,
           3,
           "Yante Maten"
          ],
          [
           0.4586092715231788,
           201.33333333333334,
           "De'Anthony Melton"
          ],
          [
           0.5084033613445378,
           79.33333333333333,
           "Chimezie Metu"
          ],
          [
           0.5007704160246533,
           216.33333333333334,
           "Shake Milton"
          ],
          [
           0.47107438016528924,
           121,
           "Svi Mykhailiuk"
          ],
          [
           0,
           1,
           "Malik Newman"
          ],
          [
           0.49487554904831627,
           227.66666666666666,
           "Josh Okogie"
          ],
          [
           0.7142857142857143,
           7,
           "Jontay Porter"
          ],
          [
           0.6050670640834576,
           335.5,
           "Michael Porter Jr."
          ],
          [
           0.4144486692015209,
           87.66666666666667,
           "Jerome Robinson"
          ],
          [
           0.7054455445544554,
           269.3333333333333,
           "Mitchell Robinson"
          ],
          [
           0.48140975987606505,
           860.6666666666666,
           "Collin Sexton"
          ],
          [
           0.46701846965699206,
           126.33333333333333,
           "Landry Shamet"
          ],
          [
           0.4427645788336933,
           154.33333333333334,
           "Anfernee Simons"
          ],
          [
           0.4230769230769231,
           13,
           "Zhaire Smith"
          ],
          [
           0.4584717607973422,
           150.5,
           "Omari Spellman"
          ],
          [
           0.4605263157894737,
           25.333333333333332,
           "Khyri Thomas"
          ],
          [
           0.44802867383512546,
           186,
           "Gary Trent Jr."
          ],
          [
           0.48291571753986334,
           219.5,
           "Allonzo Trier"
          ],
          [
           0.609375,
           85.33333333333333,
           "Jarred Vanderbilt"
          ],
          [
           0.5789473684210527,
           139.33333333333334,
           "Moritz Wagner"
          ],
          [
           0.4512987012987013,
           205.33333333333334,
           "Lonnie Walker IV"
          ],
          [
           0.49271523178807947,
           377.5,
           "P.J. Washington"
          ],
          [
           0.5310492505353319,
           155.66666666666666,
           "Kenrich Williams"
          ],
          [
           0.4889400921658986,
           723.3333333333334,
           "Trae Young"
          ],
          [
           0.5948275862068966,
           696,
           "Deandre Ayton"
          ],
          [
           0.5495660118775697,
           729.6666666666666,
           "Luka Doncic"
          ],
          [
           0.42718446601941745,
           34.333333333333336,
           "Theo Pinson"
          ],
          [
           0.574468085106383,
           23.5,
           "Ray Spalding"
          ],
          [
           0.47,
           50,
           "Carsen Edwards"
          ],
          [
           0.6666666666666666,
           3,
           "Shamorie Ponds"
          ],
          [
           0.4444444444444444,
           18,
           "Bonzie Colson"
          ],
          [
           0.5605381165919282,
           111.5,
           "Goga Bitadze"
          ],
          [
           0.5319148936170213,
           47,
           "Oshae Brissett"
          ],
          [
           null,
           0,
           "Vincent Edwards"
          ],
          [
           null,
           0,
           "Donte Grantham"
          ],
          [
           0.5274151436031331,
           191.5,
           "Terence Davis"
          ],
          [
           0.7240506329113924,
           131.66666666666666,
           "Robert Williams III"
          ],
          [
           0.5,
           53,
           "Dzanan Musa"
          ],
          [
           0.4552238805970149,
           134,
           "Elie Okobo"
          ],
          [
           0.5098039215686274,
           484.5,
           "Rui Hachimura"
          ],
          [
           0.38461538461538464,
           13,
           "Deng Adel"
          ],
          [
           0.4719626168224299,
           214,
           "Ky Bowman"
          ],
          [
           0.5371900826446281,
           121,
           "Rodions Kurucs"
          ],
          [
           0.5180180180180181,
           74,
           "Isaac Bonga"
          ],
          [
           0.672566371681416,
           56.5,
           "Tyler Cook"
          ],
          [
           0.625,
           8,
           "Elijah Bryant"
          ],
          [
           0,
           1,
           "Tyler Davis"
          ],
          [
           0.46153846153846156,
           13,
           "Marcus Derrickson"
          ],
          [
           0.5483870967741935,
           31,
           "Brandon Sampson"
          ],
          [
           0.5153374233128835,
           81.5,
           "Kelan Martin"
          ],
          [
           0.559322033898305,
           19.666666666666668,
           "Gary Clark"
          ],
          [
           0.2,
           5,
           "Angel Delgado"
          ],
          [
           0.4642857142857143,
           28,
           "Wenyen Gabriel"
          ],
          [
           0.6666666666666666,
           6,
           "Thomas Welsh"
          ],
          [
           0.3333333333333333,
           21,
           "Jaylen Adams"
          ],
          [
           0.6,
           2.5,
           "J.P. Macura"
          ],
          [
           0.36363636363636365,
           22,
           "Jared Terrell"
          ],
          [
           0.4566929133858268,
           63.5,
           "Deonte Burton"
          ],
          [
           0.6428571428571429,
           65.33333333333333,
           "Duncan Robinson"
          ],
          [
           0.29411764705882354,
           8.5,
           "Daryl Macon"
          ],
          [
           0.5354239256678281,
           430.5,
           "Kendrick Nunn"
          ],
          [
           0.4503311258278146,
           50.333333333333336,
           "Yuta Watanabe"
          ],
          [
           0.6,
           70,
           "Johnathan Williams"
          ],
          [
           0.16666666666666666,
           3,
           "Joe Chealey"
          ],
          [
           0.5714285714285714,
           7,
           "Emanuel Terry"
          ],
          [
           0.5121951219512195,
           20.5,
           "Ryan Broekhoff"
          ],
          [
           0.5,
           6,
           "DeVaughn Akoon-Purcell"
          ],
          [
           null,
           0,
           "Zach Lofton"
          ],
          [
           0.49603174603174605,
           126,
           "Jordan McLaughlin"
          ],
          [
           0.44166666666666665,
           80,
           "Brandon Goodwin"
          ],
          [
           0.35294117647058826,
           17,
           "BJ Johnson"
          ],
          [
           0.39316239316239315,
           39,
           "Chris Chiozza"
          ],
          [
           0.43478260869565216,
           23,
           "Jemerrio Jones"
          ],
          [
           0.46808510638297873,
           47,
           "Gabe Vincent"
          ],
          [
           0.5796610169491525,
           98.33333333333333,
           "Drew Eubanks"
          ],
          [
           0.45454545454545453,
           16.5,
           "Cameron Reynolds"
          ],
          [
           0.6687898089171974,
           78.5,
           "Juan Toscano-Anderson"
          ],
          [
           0.6,
           5,
           "Haywood Highsmith"
          ],
          [
           0.5454545454545454,
           22,
           "Alen Smailagic"
          ],
          [
           0.3,
           10,
           "Isaac Humphries"
          ],
          [
           0.15384615384615385,
           13,
           "Dairis Bertans"
          ],
          [
           0.75,
           8,
           "Zylan Cheatham"
          ],
          [
           0.5714285714285714,
           35,
           "Chris Clemons"
          ],
          [
           0.47560975609756095,
           41,
           "Amir Coffey"
          ],
          [
           0.46875,
           32,
           "Mamadi Diakite"
          ],
          [
           0.5625,
           32,
           "CJ Elleby"
          ],
          [
           0.7441860465116279,
           21.5,
           "Tacko Fall"
          ],
          [
           0.6153846153846154,
           13,
           "Robert Franks"
          ],
          [
           0.2,
           2.5,
           "Jared Harper"
          ],
          [
           0.3333333333333333,
           12,
           "Dewan Hernandez"
          ],
          [
           0.6,
           37.5,
           "DaQuan Jeffries"
          ],
          [
           0.5345911949685535,
           159,
           "Terance Mann"
          ],
          [
           0.49122807017543857,
           57,
           "Reggie Perry"
          ],
          [
           0.35714285714285715,
           7,
           "Justin Robinson"
          ],
          [
           0.16666666666666666,
           6,
           "Marial Shayok"
          ],
          [
           0.9024390243902439,
           20.5,
           "Max Strus"
          ],
          [
           0.5,
           10,
           "Justin Wright-Foreman"
          ],
          [
           0.49056603773584906,
           26.5,
           "Bol Bol"
          ],
          [
           0.6137879911045219,
           674.5,
           "Zion Williamson"
          ],
          [
           0.4465261514441842,
           640.5,
           "RJ Barrett"
          ],
          [
           0.4376417233560091,
           220.5,
           "Cam Reddish"
          ],
          [
           0.5047489823609227,
           737,
           "Ja Morant"
          ],
          [
           0.4906015037593985,
           266,
           "De'Andre Hunter"
          ],
          [
           0.4525462962962963,
           432,
           "Coby White"
          ],
          [
           0.47516198704103674,
           231.5,
           "Jarrett Culver"
          ],
          [
           0.6110444177671068,
           416.5,
           "Brandon Clarke"
          ],
          [
           0.47540983606557374,
           152.5,
           "Sekou Doumbouya"
          ],
          [
           0.46006389776357826,
           469.5,
           "Darius Garland"
          ],
          [
           0.6564299424184261,
           260.5,
           "Jaxson Hayes"
          ],
          [
           0.45161290322580644,
           186,
           "Nickeil Alexander-Walker"
          ],
          [
           0.4816326530612245,
           367.5,
           "Tyler Herro"
          ],
          [
           0.5380710659898477,
           295.5,
           "Keldon Johnson"
          ],
          [
           0.4148936170212766,
           47,
           "Romeo Langford"
          ],
          [
           0.5642458100558659,
           89.5,
           "Nassir Little"
          ],
          [
           0.46994535519125685,
           183,
           "Chuma Okeke"
          ],
          [
           0.54,
           25,
           "KZ Okpala"
          ],
          [
           0.509594882729211,
           234.5,
           "Kevin Porter Jr."
          ],
          [
           0.4586206896551724,
           290,
           "Darius Bazley"
          ],
          [
           0.5,
           16,
           "Jordan Bone"
          ],
          [
           0.4264705882352941,
           34,
           "Ignas Brazdeikis"
          ],
          [
           0.539568345323741,
           139,
           "Moses Brown"
          ],
          [
           0.6353591160220995,
           90.5,
           "Nic Claxton"
          ],
          [
           0.4449648711943794,
           213.5,
           "Luguentz Dort"
          ],
          [
           0.7142857142857143,
           14,
           "Devon Dotson"
          ],
          [
           0.6908077994428969,
           179.5,
           "Daniel Gafford"
          ],
          [
           0.4090909090909091,
           22,
           "Kyle Guy"
          ],
          [
           0.5566037735849056,
           53,
           "Jaylen Hoard"
          ],
          [
           0.5253333333333333,
           187.5,
           "Talen Horton-Tucker"
          ],
          [
           0.44505494505494503,
           91,
           "Ty Jerome"
          ],
          [
           0.5551601423487544,
           140.5,
           "Cameron Johnson"
          ],
          [
           0.49019607843137253,
           25.5,
           "Mfiondu Kabengele"
          ],
          [
           0.5151515151515151,
           16.5,
           "Louis King"
          ],
          [
           0.35714285714285715,
           7,
           "Jalen Lecque"
          ],
          [
           0.5422222222222223,
           112.5,
           "Jalen McDaniels"
          ],
          [
           0,
           4,
           "Zach Norvell Jr."
          ],
          [
           0.5094339622641509,
           106,
           "Jaylen Nowell"
          ],
          [
           0.4657534246575342,
           73,
           "Jordan Nwora"
          ],
          [
           0.4166666666666667,
           12,
           "Miye Oni"
          ],
          [
           0.5443708609271524,
           377.5,
           "Eric Paschall"
          ],
          [
           0.46206896551724136,
           217.5,
           "Jordan Poole"
          ],
          [
           0.5623869801084991,
           276.5,
           "Naz Reid"
          ],
          [
           0.5451713395638629,
           160.5,
           "Isaiah Roby"
          ],
          [
           0.5285714285714286,
           35,
           "Luka Samanic"
          ],
          [
           0.5161290322580645,
           31,
           "Admiral Schofield"
          ],
          [
           0.5528846153846154,
           104,
           "Matisse Thybulle"
          ],
          [
           0.375,
           24,
           "Killian Tillie"
          ],
          [
           0.4084507042253521,
           35.5,
           "Tremont Waters"
          ],
          [
           0.4634146341463415,
           20.5,
           "Quinndary Weatherspoon"
          ],
          [
           0.5278969957081545,
           116.5,
           "Grant Williams"
          ],
          [
           0.5849056603773585,
           53,
           "Dylan Windler"
          ],
          [
           0.3333333333333333,
           12,
           "Deividas Sirvydis"
          ],
          [
           0.5454545454545454,
           11,
           "Adam Mokoka"
          ],
          [
           0.2,
           5,
           "Didi Louzada"
          ],
          [
           0.5,
           64,
           "Justin James"
          ],
          [
           0.5128205128205128,
           19.5,
           "Jarrell Brantley"
          ],
          [
           0.3333333333333333,
           1.5,
           "Marques Bolden"
          ],
          [
           0.5142857142857142,
           35,
           "Armoni Brooks"
          ],
          [
           0.5714285714285714,
           17.5,
           "Devontae Cacok"
          ],
          [
           0.6146788990825688,
           54.5,
           "John Konchar"
          ],
          [
           0.45454545454545453,
           11,
           "Vic Law"
          ],
          [
           0.44642857142857145,
           28,
           "Jeremiah Martin"
          ],
          [
           0.5306122448979592,
           24.5,
           "Garrison Mathews"
          ],
          [
           0.42857142857142855,
           7,
           "Josh Reaves"
          ],
          [
           0.6486486486486487,
           18.5,
           "Rayjon Tucker"
          ],
          [
           0.5887850467289719,
           53.5,
           "Dean Wade"
          ],
          [
           0.5,
           2,
           "Kyle Alexander"
          ],
          [
           0.6333333333333333,
           45,
           "Chris Silva"
          ],
          [
           0.4222222222222222,
           22.5,
           "Vincent Poirier"
          ],
          [
           null,
           0,
           "William Howard"
          ],
          [
           0.5202312138728323,
           86.5,
           "Nicolo Melli"
          ],
          [
           0.5,
           74,
           "Marko Guduric"
          ],
          [
           0,
           2,
           "Stanton Kidd"
          ],
          [
           0.7017543859649122,
           28.5,
           "Donta Hall"
          ],
          [
           0.5,
           49,
           "Matt Thomas"
          ],
          [
           0.3333333333333333,
           3,
           "Tariq Owens"
          ],
          [
           0.5878787878787879,
           82.5,
           "Javonte Green"
          ],
          [
           0.5,
           22,
           "Dakota Mathias"
          ],
          [
           0.6285714285714286,
           17.5,
           "Juwan Morgan"
          ],
          [
           0.5,
           2,
           "Matt Mooney"
          ],
          [
           0.25,
           12,
           "Keljin Blevins"
          ],
          [
           0.4166666666666667,
           12,
           "Devin Cannady"
          ],
          [
           0.4833574529667149,
           691,
           "Anthony Edwards"
          ],
          [
           0.48905109489051096,
           411,
           "LaMelo Ball"
          ],
          [
           0.5424242424242425,
           330,
           "James Wiseman"
          ],
          [
           0.3953488372093023,
           129,
           "Killian Hayes"
          ],
          [
           0.5347222222222222,
           144,
           "Deni Avdija"
          ],
          [
           0.6290322580645161,
           124,
           "Obi Toppin"
          ],
          [
           0.6575342465753424,
           146,
           "Onyeka Okongwu"
          ],
          [
           0.5294117647058824,
           323,
           "Tyrese Haliburton"
          ],
          [
           0.46405228758169936,
           153,
           "Devin Vassell"
          ],
          [
           0.5014492753623189,
           345,
           "Isaac Okoro"
          ],
          [
           0.5153846153846153,
           390,
           "Patrick Williams"
          ],
          [
           0.5462555066079295,
           227,
           "Precious Achiuwa"
          ],
          [
           0.5428571428571428,
           70,
           "Aaron Nesmith"
          ],
          [
           0.4236842105263158,
           380,
           "Cole Anthony"
          ],
          [
           0.5862068965517241,
           29,
           "Vernon Carey Jr."
          ],
          [
           0.4019933554817276,
           301,
           "Theo Maledon"
          ],
          [
           0.5122699386503068,
           326,
           "Tyrese Maxey"
          ],
          [
           0.5555555555555556,
           9,
           "Tyrell Terry"
          ],
          [
           0.45021645021645024,
           231,
           "Saddiq Bey"
          ],
          [
           0.4823008849557522,
           226,
           "R.J. Hampton"
          ],
          [
           0.5588235294117647,
           68,
           "Josh Green"
          ],
          [
           0.5443786982248521,
           169,
           "Jaden McDaniels"
          ],
          [
           0.4147465437788018,
           217,
           "Kira Lewis Jr."
          ],
          [
           0.3148148148148148,
           54,
           "Nico Mannion"
          ],
          [
           0.5263157894736842,
           19,
           "Jahmi'us Ramsey"
          ],
          [
           0.44680851063829785,
           47,
           "Daniel Oturu"
          ],
          [
           0.5454545454545454,
           33,
           "Jalen Smith"
          ],
          [
           0.3333333333333333,
           18,
           "Tyler Bey"
          ],
          [
           0.2857142857142857,
           7,
           "Elijah Hughes"
          ],
          [
           0.5924855491329479,
           346,
           "Isaiah Stewart"
          ],
          [
           0.5777777777777777,
           45,
           "Zeke Nnaji"
          ],
          [
           0.4007220216606498,
           277,
           "Immanuel Quickley"
          ],
          [
           0.5833333333333334,
           72,
           "Paul Reed"
          ],
          [
           0.40298507462686567,
           201,
           "Aleksej Pokusevski"
          ],
          [
           0.3333333333333333,
           27,
           "Isaiah Joe"
          ],
          [
           0.3333333333333333,
           30,
           "Cassius Stanley"
          ],
          [
           0.4657534246575342,
           73,
           "Tre Jones"
          ],
          [
           0.42441860465116277,
           172,
           "Malachi Flynn"
          ],
          [
           0.4823529411764706,
           170,
           "Payton Pritchard"
          ],
          [
           0.75,
           8,
           "Grant Riller"
          ],
          [
           null,
           0,
           "Ashton Hagans"
          ],
          [
           0.5225225225225225,
           111,
           "Lamar Stevens"
          ],
          [
           0.4444444444444444,
           27,
           "Jay Scrubb"
          ],
          [
           0.4782608695652174,
           23,
           "Nate Hinton"
          ],
          [
           0.5,
           8,
           "Nick Richards"
          ],
          [
           0.5365853658536586,
           41,
           "Markus Howard"
          ],
          [
           0.18181818181818182,
           11,
           "Karim Mane"
          ],
          [
           0.375,
           16,
           "Cassius Winston"
          ],
          [
           0.5131578947368421,
           228,
           "Desmond Bane"
          ],
          [
           0.5,
           14,
           "Robert Woodard II"
          ],
          [
           0.5172413793103449,
           58,
           "Skylar Mays"
          ],
          [
           0.41935483870967744,
           62,
           "Josh Hall"
          ],
          [
           0.49122807017543857,
           57,
           "Mason Jones"
          ],
          [
           0.5277777777777778,
           36,
           "Jalen Harris"
          ],
          [
           0.42063492063492064,
           126,
           "Naji Marshall"
          ],
          [
           0.5720720720720721,
           222,
           "Kenyon Martin Jr."
          ],
          [
           0.4626865671641791,
           67,
           "Nathan Knight"
          ],
          [
           0.3333333333333333,
           3,
           "Ty-Shon Alexander"
          ],
          [
           0.6,
           45,
           "Trent Forrest"
          ],
          [
           0.48936170212765956,
           47,
           "Anthony Lamb"
          ],
          [
           0,
           1,
           "Malik Fitts"
          ],
          [
           0.48663101604278075,
           187,
           "Saben Lee"
          ],
          [
           0.44,
           25,
           "Sam Merrill"
          ],
          [
           0.7272727272727273,
           11,
           "Sean McDermott"
          ],
          [
           0.5953488372093023,
           430,
           "Jae'Sean Tate"
          ],
          [
           0.6388888888888888,
           36,
           "Anthony Gill"
          ],
          [
           null,
           0,
           "Will Magnay"
          ],
          [
           0.4444444444444444,
           99,
           "Facundo Campazzo"
          ],
          [
           null,
           0,
           "Nate Darling"
          ],
          [
           0.46938775510204084,
           49,
           "Brodric Thomas"
          ],
          [
           0.5238095238095238,
           84,
           "Freddie Gillespie"
          ],
          [
           0.5769230769230769,
           52,
           "Gabriel Deck"
          ]
         ],
         "hovertemplate": "x=%{x}<br>y=%{y}<br>fg2a=%{customdata[1]}<br>fg2m_pct=%{marker.color}<br>names=%{customdata[2]}<extra></extra>",
         "legendgroup": "",
         "marker": {
          "color": [
           0.4712041884816754,
           0.4431818181818182,
           0.41040462427745666,
           0.37037037037037035,
           0.2857142857142857,
           0.45989800649049606,
           0.4840961986035687,
           0.424190800681431,
           0.49054878048780487,
           0.44542772861356933,
           0.4588555858310627,
           0.44287396937573614,
           0.4521497919556172,
           0.7017543859649122,
           0.4606741573033708,
           0.44680851063829785,
           0.38028169014084506,
           0.46551724137931033,
           0.3333333333333333,
           0.4899860270144388,
           0.4305459571527298,
           0.4325505188421628,
           0.42587601078167114,
           0.5822784810126582,
           0.4609375,
           0.3469387755102041,
           0.5194697597348799,
           0.43911917098445596,
           0.46833013435700577,
           0.4950159284760045,
           0.4565838645856232,
           0.4318181818181818,
           0.5236818588025023,
           0.44285714285714284,
           0.4648318042813456,
           0.48004314994606256,
           0.49668141592920356,
           0.4099616858237548,
           0.44185475956820414,
           0.4776579352850539,
           0.48547094188376755,
           0.4291390728476821,
           0.15789473684210525,
           0.375,
           0.4675324675324675,
           0.4304635761589404,
           0.44229995979091274,
           0.4676470588235294,
           0.5145929339477726,
           0.8333333333333334,
           0.42675635276532137,
           0.4533799533799534,
           0.4984447900466563,
           0.4908685968819599,
           0.4558645707376058,
           0.40236686390532544,
           0.41223103057757643,
           0.47619047619047616,
           0.4818897637795276,
           0.4781931464174455,
           0.4570963806425376,
           0.4565613608748481,
           0.44537815126050423,
           0.6521739130434783,
           0.4671338811019816,
           0.46635674088573525,
           0.4,
           0.41543901001767825,
           0.49081364829396323,
           0.4381720430107527,
           0.4408284023668639,
           0.44819783416841763,
           0.5,
           0.46755812186597784,
           0.41313050440352284,
           0.30275229357798167,
           0.4084507042253521,
           0.4098639455782313,
           0.45223633351739373,
           0.4618320610687023,
           0.4593644014571034,
           0.4444444444444444,
           0.47132429614181437,
           0.46,
           0.375,
           0.4316446911866759,
           0.4975926817525277,
           0.45891203703703703,
           0.45188639253921153,
           0.39325842696629215,
           0.4342105263157895,
           0.4117647058823529,
           0.47674418604651164,
           0.467984934086629,
           0.47470962907455977,
           0.42592592592592593,
           0.4355083459787557,
           0.40384615384615385,
           0.45454545454545453,
           0.5045751633986928,
           0.45857418111753373,
           0.47976495903335264,
           0.4571215510812826,
           0.4599406528189911,
           0.4090909090909091,
           0.49940659862330883,
           0.5272727272727272,
           0.42507645259938837,
           0.41863699582753827,
           0.4673495518565941,
           0.47619047619047616,
           0.4141689373297003,
           0.45,
           0.41836734693877553,
           0.4984907287623976,
           0.478089348544621,
           0.4629080118694362,
           0.4608793686583991,
           0.4444444444444444,
           0.3194444444444444,
           0.441418725836275,
           0.3955892487939352,
           0.46940985381700057,
           0.4761186525892408,
           0.4597156398104265,
           0.46595503800743976,
           0.4393063583815029,
           0.4888663967611336,
           0.42616033755274263,
           0.35374149659863946,
           0.49335989375830014,
           0.3905660377358491,
           0.42021276595744683,
           0.45714285714285713,
           0.45603715170278636,
           0.41812400635930047,
           0.49258160237388726,
           0.4517766497461929,
           0.452081316553727,
           0.43349753694581283,
           0.5026870607689128,
           0.4965185838972247,
           0.4839537869062901,
           0.4879032258064516,
           0.4090121317157712,
           0.4712790400816952,
           0.45707070707070707,
           0.4441747572815534,
           0.45896437328717726,
           0.4384581690757775,
           0.6,
           0.4685714285714286,
           0.4624756335282651,
           0.413472706155633,
           0.42424242424242425,
           0.46918604651162793,
           0.4573643410852713,
           0.5348837209302325,
           0.5137614678899083,
           0.40963855421686746,
           0.4920040830214359,
           0.5382671480144404,
           0.4802983219390926,
           0.44432432432432434,
           0.5343674779352768,
           0.48951048951048953,
           0,
           0.40540540540540543,
           0.38461538461538464,
           0.4279544562230075,
           0.45161290322580644,
           0.42949234488315874,
           0.4371238517579981,
           0.42,
           0.5118964310706788,
           0.39655172413793105,
           0.4666666666666667,
           0.4585674157303371,
           0.39690721649484534,
           0.4709141274238227,
           0.4725201072386059,
           0.46153846153846156,
           0.4517593643586833,
           0.5,
           0.46466003762429453,
           0.43457943925233644,
           0.4834905660377358,
           0.45374149659863944,
           0.4625585023400936,
           0.45399789188375245,
           0.4937853107344633,
           0.444794952681388,
           0.44108761329305135,
           0.32,
           0.4553686934023286,
           0.4727540500736377,
           0.4566860465116279,
           0.4336677814938685,
           0.39215686274509803,
           0.43727598566308246,
           0.43256578947368424,
           0.42838780756518546,
           0.47882050081909666,
           0.4630053394355454,
           0.4747120681021532,
           0.4880239520958084,
           0.4473428070858478,
           0.4883167459974037,
           0.4261025029797378,
           0.43475409836065576,
           0.42424242424242425,
           0.5833093938523413,
           0.40384615384615385,
           0.36363636363636365,
           0.4521072796934866,
           0.45121951219512196,
           0.4587221823402728,
           0.4741285403050109,
           0.47738366417181904,
           0.5053763440860215,
           0.5026490066225165,
           0.45039491427470624,
           0.439622641509434,
           0.5274261603375527,
           0.4342105263157895,
           0.5683615819209039,
           0.465970409051349,
           0.42857142857142855,
           0.48484848484848486,
           0.44767829371250834,
           0.49264705882352944,
           0.47954329210275926,
           0.4393939393939394,
           0.5751680226388397,
           0.4869291859695566,
           0.41843971631205673,
           0.4141048824593128,
           0.4322446143154969,
           0.4442970822281167,
           0.46272855133614627,
           0.4319894724249312,
           0.47480482611781405,
           0.43512014787430686,
           0.5,
           0.40425531914893614,
           0.4342948717948718,
           0.47339010111761576,
           0.4180327868852459,
           0.4430379746835443,
           0.43110838946723823,
           0.38461538461538464,
           0.48530004027386225,
           0.4049904030710173,
           0.25925925925925924,
           0.45152809727242854,
           0.4230769230769231,
           0.48206419131529266,
           0.5,
           0.46485700436257876,
           0.49265402843601896,
           0.5236004390779363,
           0.2972972972972973,
           0.5074211502782932,
           0.4572109654350417,
           0.41743119266055045,
           0.44521497919556174,
           0.4488210075026795,
           0.4559055118110236,
           0.47198641765704585,
           0.5242376856919468,
           0.375,
           0.4,
           0.43660322108345534,
           0.48558152248189146,
           0.4819672131147541,
           0.3700787401574803,
           0.47990255785627284,
           0.5038630510528708,
           0.3588516746411483,
           0.45491803278688525,
           0.4399302908179937,
           0.5704225352112676,
           0.4444444444444444,
           0.4640767386091127,
           0.358974358974359,
           0.4444444444444444,
           0.5089571337172105,
           0.5041800643086817,
           0.42857142857142855,
           0.415625,
           0.49276185069543005,
           0.41733333333333333,
           0,
           0.4360502234517983,
           0.3333333333333333,
           0.45454545454545453,
           0.4881091617933723,
           0.28205128205128205,
           0,
           0.42628205128205127,
           0.4827586206896552,
           0,
           0.5078427378284783,
           0.4027093596059113,
           0.43453070683661643,
           0.42850452700593195,
           0.42786069651741293,
           0.4747179272879231,
           0.46947259028319044,
           0.4675984752223634,
           0.5026075619295959,
           0.4819277108433735,
           0.45394736842105265,
           0.3850574712643678,
           0.4992248062015504,
           0.5036764705882353,
           0,
           0.4896142433234421,
           0.46286276438760454,
           0.5292242295430393,
           0.45334350368675314,
           0.4716981132075472,
           0.429042904290429,
           0.41460674157303373,
           0.5252747252747253,
           0.4634838099740014,
           0.4336500153233221,
           0.45454545454545453,
           0.46912366912366915,
           0.4605263157894737,
           0.44030365769496205,
           0.4405487804878049,
           0.4472934472934473,
           0.4809384164222874,
           0.3333333333333333,
           0.5137821961138725,
           0.43112614789753506,
           0.5325144508670521,
           0.515822031881989,
           0.44919786096256686,
           0.4450163781001404,
           0.5157142857142857,
           0.4019607843137255,
           0.49523809523809526,
           0.4697508896797153,
           0.47953216374269003,
           0.4784982935153584,
           0.3333333333333333,
           0.4779270633397313,
           0.4626865671641791,
           0.45535026943802925,
           0.4718180297708647,
           0.42165605095541403,
           0,
           0.36231884057971014,
           0.5238095238095238,
           0.4386973180076628,
           0.5169491525423728,
           0.4505807063285139,
           0.4621026894865526,
           0.4963465553235908,
           0.4756828780812791,
           0.5,
           0.375,
           0.5,
           0.4483447315862737,
           0.46927024658905997,
           0.4801309448031281,
           0.464966913195796,
           0.4853374978309908,
           0.44988992055135446,
           0.4606782106782107,
           0.4634363191820405,
           0.4635235732009926,
           0.4986556730596881,
           0.4222520107238606,
           0.47922761849034523,
           0.5178152574556015,
           0.4358097606465651,
           0.46484055600981194,
           0.4332425068119891,
           0.38235294117647056,
           0.4831649831649832,
           0.41282565130260523,
           0.5062211162460007,
           0.3962962962962963,
           0.4744186046511628,
           0.4470899470899471,
           0.506516290726817,
           0.429042904290429,
           0.45375722543352603,
           0.47893870436719277,
           0.48450837812203607,
           0.4693504117108875,
           0.47774854135682415,
           0.3137254901960784,
           0.45,
           0.430239704978488,
           0.5454545454545454,
           0.41935483870967744,
           0.41411042944785276,
           0.3559322033898305,
           0.44173913043478263,
           0.4222222222222222,
           0.42534504391468003,
           0.3781094527363184,
           0.45493562231759654,
           0.2777777777777778,
           0.4976428992339422,
           0.3493975903614458,
           0.475,
           0.43437645959831855,
           0.4166666666666667,
           0.42634315424610053,
           0.4782608695652174,
           0.2727272727272727,
           0.5226190476190476,
           0.4642857142857143,
           0.4605263157894737,
           0.48024316109422494,
           0.3790322580645161,
           0.38235294117647056,
           0.38207547169811323,
           0.23684210526315788,
           0.4800531914893617,
           0.5271317829457365,
           0.3333333333333333,
           0.3333333333333333,
           0.25925925925925924,
           0.46236559139784944,
           0.47058823529411764,
           0.4130724766562917,
           0.4520547945205479,
           0.36507936507936506,
           0.48327939590075514,
           0.45336481700118064,
           null,
           0.4228571428571429,
           0.389937106918239,
           0.7,
           0.4126984126984127,
           0.44691929418571014,
           0.2826086956521739,
           0.4,
           0.4013605442176871,
           0.5,
           0.42948717948717946,
           0,
           0.4899267399267399,
           0.4770949720670391,
           0.4255079006772009,
           0.21428571428571427,
           0.3,
           0.38461538461538464,
           0.4498186215235792,
           0.4790697674418605,
           0.35,
           0.5426356589147286,
           0.5161290322580645,
           0.6666666666666666,
           0.45595854922279794,
           0.4512937595129376,
           0.45,
           0,
           0.43661971830985913,
           0.43103448275862066,
           0.3972222222222222,
           0.36231884057971014,
           0.40963855421686746,
           0.49681933842239184,
           0.36363636363636365,
           0.36666666666666664,
           0.3939393939393939,
           0.5269978401727862,
           0.5097545626179988,
           0.23333333333333334,
           0.5,
           0.42067935796939154,
           0.4166666666666667,
           0.4166666666666667,
           0.3584905660377358,
           0.50852920757711,
           0.4661892071952032,
           0.43480861244019137,
           0.4831858407079646,
           0.4940876420125203,
           0.43681466834441846,
           0.4697910784867307,
           0.4768451519536903,
           0.4607449856733524,
           0.4734337827121332,
           0.4254545454545455,
           0.4430538172715895,
           0.4399801587301587,
           0.4683760683760684,
           0.5093054925102134,
           0.41921305985768104,
           0.4044943820224719,
           0.42411347517730497,
           0.4942396313364055,
           0.4482758620689655,
           0.46916299559471364,
           0.33783783783783783,
           0.4439192092823378,
           0.3536231884057971,
           0.504524886877828,
           0.4726890756302521,
           0.4369108049311095,
           0.3424657534246575,
           0.4132231404958678,
           0.4375,
           0.5714285714285714,
           0.42727272727272725,
           0.46153846153846156,
           0.34285714285714286,
           0.4480936202340506,
           0.4088050314465409,
           0.43058161350844276,
           0.6,
           0.4561164784324398,
           0.4429874572405929,
           0.3392857142857143,
           0.43080357142857145,
           0.4430919050517346,
           0.4334541688244433,
           0.45256087321578503,
           0.3795180722891566,
           0.5074206755373593,
           0.15,
           0.45539033457249073,
           0.5032119914346895,
           0.4116198916789759,
           0.42857142857142855,
           0.44244604316546765,
           0.475177304964539,
           0.36,
           0,
           0.4732824427480916,
           0.2,
           0.2978723404255319,
           0.3333333333333333,
           0.4888888888888889,
           0.38421733505821476,
           0.44966442953020136,
           0.40672782874617736,
           0.42852292020373517,
           0.45625,
           0.3023255813953488,
           0.5530336097773898,
           0.3684210526315789,
           0.55,
           0.5794392523364486,
           0.3684210526315789,
           0.5,
           0.3132530120481928,
           0.4351423704064249,
           0.462736241530964,
           0.5046162723600692,
           0.47704810015374477,
           0.46160437677147187,
           0.47828571428571426,
           0.4666666666666667,
           0.4283049040511727,
           0.4959511984452602,
           0.4780570005128581,
           0.4773397199705232,
           0.43992932862190814,
           0.5034188034188034,
           0.4418604651162791,
           0.4932541824069077,
           0.38872832369942195,
           0.5029365700861393,
           0.4375,
           0.4335378323108384,
           0.4258312020460358,
           0.4655679811653914,
           0.4939908827186075,
           0.4556564245810056,
           0.4454303460514641,
           0.4743559718969555,
           0.5285714285714286,
           0.4289772727272727,
           0.42276422764227645,
           0.48712228756844456,
           0.4473684210526316,
           0.5302969502407705,
           0.4910873440285205,
           0.5385427666314678,
           0.4268292682926829,
           0.37373737373737376,
           0.48616305160807777,
           0.125,
           0.3333333333333333,
           0.4065995525727069,
           0.6666666666666666,
           0.4547244094488189,
           0.3333333333333333,
           0.5104022191400832,
           0.4593128390596745,
           0.4218009478672986,
           0.4791666666666667,
           null,
           0.3563218390804598,
           0.3548387096774194,
           0.40425531914893614,
           0.49633802816901407,
           0.42616033755274263,
           0.47153024911032027,
           0.3626373626373626,
           0.475,
           0.6280487804878049,
           0.4376899696048632,
           0,
           0.49436319317489336,
           1,
           0.6666666666666666,
           0.25,
           0.5,
           0.2222222222222222,
           0.32142857142857145,
           0.4361127774445111,
           0.3,
           0.3333333333333333,
           0.4508670520231214,
           0.40625,
           0.4319503683598294,
           0.17647058823529413,
           0,
           0.42857142857142855,
           0.43653250773993807,
           0.32,
           null,
           0.32413793103448274,
           0.379746835443038,
           0.44554455445544555,
           0.5011394712853237,
           0.4508582713048762,
           0.4563655030800821,
           0.5016329986694085,
           0.44155844155844154,
           0.5045296167247387,
           0.46257866984180984,
           0.47822527832351014,
           0.5130270014211274,
           0.4837597911227154,
           0.42948717948717946,
           0.3076923076923077,
           0.47784558238259484,
           0.375968992248062,
           0.44659206510681587,
           0.4107142857142857,
           0.4673495518565941,
           0.41226215644820297,
           0.43646723646723645,
           0.5039559683522532,
           0.4762912785774767,
           0.42147587511825924,
           0.5097212032281732,
           0.32894736842105265,
           0.4043179587831207,
           0.4738276990185387,
           0.4329388560157791,
           0.39285714285714285,
           0.3611111111111111,
           0.40887480190174325,
           0.3469387755102041,
           0.4633431085043988,
           0.4527938342967245,
           0.43465045592705165,
           0.4241645244215938,
           0.4691358024691358,
           0.19047619047619047,
           0.4653546535465355,
           0.4810126582278481,
           0.4751803139584217,
           0.5,
           0.5414680648236415,
           0.40625,
           0.4333593141075604,
           0.3333333333333333,
           0.49766392782342517,
           0.4603174603174603,
           0.16666666666666666,
           0.5118253486961795,
           null,
           0.4523942093541203,
           0.4666666666666667,
           null,
           0.4634308510638298,
           0.4354497354497355,
           0.49295774647887325,
           0,
           0.41935483870967744,
           0.4236453201970443,
           0.44,
           0.3950617283950617,
           0.4915472964253452,
           0.47580645161290325,
           0.48190575370997135,
           0.4460016488046167,
           0.501550547860244,
           0.4692526017029328,
           0.459896983075791,
           0.44914750198255354,
           0.5527452190006169,
           0.44300097434231894,
           0.49375,
           0.5132641291810842,
           0.42907058001397624,
           0.3989169675090253,
           0.4578146611341632,
           0.45006910850034554,
           0.45613755771373987,
           0.4313773631230052,
           0.48050177256613036,
           0.42761341222879684,
           0.4496765847347995,
           0.4635897435897436,
           0.43304258594150846,
           0.36329588014981273,
           0.4902789518174134,
           0.4292929292929293,
           0.4985207100591716,
           0.37333333333333335,
           0.46454767726161367,
           0.5086006508600651,
           0.4282319391634981,
           0.40049751243781095,
           0.3765182186234818,
           0.4876632801161103,
           0.3832599118942731,
           0.3902439024390244,
           0.3888888888888889,
           0.4230124119423012,
           0.36363636363636365,
           0.4511627906976744,
           0.49504950495049505,
           0.47520288548241657,
           0.4317948717948718,
           0.42033898305084744,
           0.4330708661417323,
           0.45454545454545453,
           0.3695652173913043,
           0.16666666666666666,
           0.5,
           0.3931818181818182,
           0.46932515337423314,
           0.3181818181818182,
           0.4530046224961479,
           0.5245098039215687,
           0.3375,
           0.3879598662207358,
           0,
           0.2,
           0.4410387398893146,
           0.4423076923076923,
           0.4470588235294118,
           0.4610011641443539,
           0.28125,
           0.2631578947368421,
           0.4926924326079896,
           0.5976818410885268,
           0.5117758971331102,
           0.5443786982248521,
           0.4737347085632046,
           0.4858345021037868,
           0.4083388484447386,
           0.4286934244235696,
           0.4515021459227468,
           0.47174685179205683,
           0.47147147147147145,
           0.4511681348142474,
           0.49297971918876754,
           0.4635006221484861,
           0.5602134146341463,
           0.26,
           0.48758465011286684,
           0.41409090909090907,
           0.4810235958790296,
           0.5281602002503129,
           0.2682926829268293,
           0.3050847457627119,
           0.3584905660377358,
           0.4501915708812261,
           0.502342866375828,
           0.5220219290094777,
           0.4316957210776545,
           0.510156744218739,
           0.43902439024390244,
           0.5072463768115942,
           0.4376130198915009,
           0.48712967459932005,
           0.6666666666666666,
           0.43209876543209874,
           0.4570889657340459,
           0.4578208903516369,
           0.3695652173913043,
           0.4651741293532338,
           0.41456016177957533,
           0.3181818181818182,
           0.34210526315789475,
           0.48398009950248755,
           0.44871794871794873,
           0.43548387096774194,
           0.4516750096264921,
           0.47586206896551725,
           0.4233128834355828,
           0.40540540540540543,
           0.3684210526315789,
           0.4561872909698997,
           0.3547400611620795,
           0.4,
           0.44934445768772346,
           0.4518156424581006,
           0.40540540540540543,
           0.3793103448275862,
           0.5555555555555556,
           0.3673469387755102,
           0.4495798319327731,
           0.375,
           0.3900226757369615,
           0.54050736497545,
           0.4216589861751152,
           0.6666666666666666,
           0.3333333333333333,
           0.3971631205673759,
           0.524941724941725,
           0.4306418219461698,
           0.4813391877058178,
           0.4714507260679543,
           0.33182844243792325,
           0.38529411764705884,
           0.5507399577167019,
           0.5434557682359027,
           0.5404337437970961,
           0.4557291666666667,
           0.44745484400656815,
           0.4608593290170689,
           0.44360902255639095,
           0.4449760765550239,
           0.4332988624612203,
           0.4252136752136752,
           0.4415530772408096,
           0.42290748898678415,
           0.3482142857142857,
           0.42485549132947975,
           0.47036328871892924,
           0.43344155844155846,
           0.4704641350210971,
           0.4949698189134809,
           0.3756906077348066,
           0.4568395754055678,
           0.3941176470588235,
           0.4324596774193548,
           0.2830188679245283,
           0.434971098265896,
           0.42,
           0.501434034416826,
           0.5216382618006603,
           0.4666666666666667,
           0.3333333333333333,
           0.4550898203592814,
           0.46987951807228917,
           0.45047241694605306,
           0.4685714285714286,
           0.5224182817471796,
           0.4953271028037383,
           0.6666666666666666,
           0.5012131715771231,
           0.43651295009475677,
           0.39215686274509803,
           0.49881467019941433,
           1,
           0.3225806451612903,
           0.35877862595419846,
           0.373134328358209,
           0.38081805359661497,
           0.20833333333333334,
           0.4107142857142857,
           null,
           0.2916666666666667,
           0.42035398230088494,
           0.47947327652982186,
           0.4637305699481865,
           0.42864149092692494,
           0,
           0.2608695652173913,
           0.5,
           0.4670608108108108,
           0.23333333333333334,
           0.5498842243028289,
           0.46070878274268107,
           0.471107544141252,
           0.5058692485648187,
           0.5021279298735946,
           0.4902128875553651,
           0.43166666666666664,
           0.44978858350951373,
           0.4853700516351119,
           0.4442970822281167,
           0.49502878074306644,
           0.5415430267062314,
           0.46211552888222057,
           0.4579840124780659,
           0.3360655737704918,
           0.2857142857142857,
           0.45652173913043476,
           0.4994692144373673,
           0.43270868824531517,
           0.4540182270091135,
           0.5287392823118451,
           0.44692737430167595,
           0.44691224268689056,
           0.4674302075876879,
           0.4379481522338665,
           0.5,
           0.53198127925117,
           0.4976303317535545,
           0.4709664848012471,
           0.4125560538116592,
           0.44574036511156184,
           0.45901639344262296,
           0.37,
           0.42036124794745483,
           0,
           0.6666666666666666,
           0.45367717287488063,
           0.4717800289435601,
           0.4416331224841863,
           0.5159891598915989,
           0.45951825951825953,
           0.4444444444444444,
           0.4024390243902439,
           0.4639348863317429,
           0.4838709677419355,
           0.47058823529411764,
           0.3333333333333333,
           0.32903225806451614,
           0.47767601602747567,
           0.4940119760479042,
           0.4281437125748503,
           0.2,
           null,
           0.3384615384615385,
           0.42857142857142855,
           0,
           0.5,
           0.4125,
           0.44136460554371004,
           0.375,
           0.42875,
           0.34146341463414637,
           0.4666666666666667,
           0,
           0.3757725587144623,
           0.4399641577060932,
           0.48314606741573035,
           0.5,
           0.5895465026902382,
           0.5121909633418584,
           0.4472532814778804,
           0.49148642429820527,
           0.4813202756619514,
           0.5480176211453744,
           0.4821563342318059,
           0.4068241469816273,
           0.5189017111022682,
           0.3561643835616438,
           0.5949314499376818,
           0.5058823529411764,
           0.4187943262411348,
           0.47068403908794787,
           0.5011402508551881,
           0.4754491017964072,
           0.4797807425793774,
           0.46340079440136184,
           0.46910239061795217,
           0.47445124145376033,
           0,
           0.45664739884393063,
           0.37735849056603776,
           0.47870261821023835,
           0.4923046172296622,
           0.4643102264927934,
           0.41500765696784075,
           0.49585876198779427,
           0.5297450424929179,
           0.5152552038779584,
           0.4122137404580153,
           0.5,
           0.39473684210526316,
           0.4473684210526316,
           0.5,
           0.40106951871657753,
           0.42513863216266173,
           0.4261501210653753,
           0.40749414519906324,
           0.48403846153846153,
           0.4339622641509434,
           0.5185185185185185,
           0.41578947368421054,
           0.4186046511627907,
           0.34285714285714286,
           0.47368421052631576,
           0.47244094488188976,
           0.4166666666666667,
           0.3333333333333333,
           0.4631542699724518,
           0.36507936507936506,
           0.5189873417721519,
           0.44680851063829785,
           0.4444444444444444,
           0,
           0.5641025641025641,
           0.3125,
           0.43548387096774194,
           0.37668161434977576,
           0.4186046511627907,
           0.45019762845849803,
           0.5393700787401575,
           0.43548387096774194,
           0.40816326530612246,
           0.3424657534246575,
           0.3333333333333333,
           0.5365107913669065,
           0.4821010371361659,
           0.5090742438130156,
           0.4450041981528128,
           0.45413533834586467,
           0.4844844844844845,
           0.4765763484426437,
           0.5094142259414226,
           0.48200312989045385,
           0.5574629036950829,
           0.29411764705882354,
           0.4618705035971223,
           0.4670614359733531,
           0.4671385237613751,
           0.5031328320802005,
           0.4626093874303898,
           0.46907574704656013,
           0.49900483366505544,
           0.44,
           0.46316085489313835,
           0.46964529331514326,
           0.483759842519685,
           0.4541139240506329,
           0.4635887672536887,
           0.49609652235628104,
           0.5011376564277589,
           0.5412885662431942,
           0.46853146853146854,
           0.5372539831302718,
           0.43525741029641185,
           0.42857142857142855,
           0.5024669429642786,
           0.46273731935392465,
           0.48296679603277276,
           0.535,
           0.44224422442244227,
           0.46905537459283386,
           0.4822516684398878,
           0.4392857142857143,
           0.6052631578947368,
           0,
           0,
           0.4559302174196068,
           0.44594594594594594,
           0.5188679245283019,
           0.47774044519109615,
           0.4728211357424841,
           0.40350877192982454,
           0.42028985507246375,
           0.48148148148148145,
           0.4596774193548387,
           0.5880518234165067,
           0.5527000650618087,
           0.3880597014925373,
           0.5416666666666666,
           0.5788206979542719,
           0.3793103448275862,
           0.42150170648464164,
           0.43636363636363634,
           0.5066985645933014,
           0.4214876033057851,
           0.4555160142348754,
           null,
           0.3984375,
           0.4567350579839429,
           0.4666666666666667,
           0.49321266968325794,
           1,
           0.45871559633027525,
           0.46938775510204084,
           0.46531531531531534,
           0.515625,
           0.35294117647058826,
           0.23076923076923078,
           0.4807692307692308,
           0.4421052631578947,
           0.6666666666666666,
           0.41,
           0.1875,
           0.6086956521739131,
           0.3333333333333333,
           0.22727272727272727,
           0,
           0.47974068071312803,
           0.500956937799043,
           0.4230769230769231,
           0.25,
           0.4092827004219409,
           0.368,
           0.5300970873786408,
           0.46992864424057085,
           0.49815873015873013,
           0.39110604332953247,
           0.4404485692188708,
           0.46408839779005523,
           0.4847094801223242,
           0.4286096972944013,
           0.48333181942047415,
           0.5031847133757962,
           0.4268292682926829,
           0.48197565543071164,
           0.5029154518950437,
           0.501788268955651,
           0.5202558635394456,
           0.4093567251461988,
           0.4712301587301587,
           0.46875,
           0.444015444015444,
           0.43626062322946174,
           0.54337899543379,
           0.48268029528676887,
           0.42097902097902096,
           0.5441458733205374,
           0.4714261197871975,
           0.45575877409787446,
           0.46328578975171686,
           0.4509990485252141,
           0.36551724137931035,
           0.39631336405529954,
           0.4613686534216336,
           0.48214285714285715,
           0.4631578947368421,
           0.4716981132075472,
           0.4036697247706422,
           0.47322212467076386,
           0.5596330275229358,
           0.49122807017543857,
           0.3,
           0.3870967741935484,
           0.5135135135135135,
           0.39690301548492257,
           0.5,
           0.5170068027210885,
           0.3894736842105263,
           0.5139093782929399,
           0.5174234424498416,
           0.5841836734693877,
           0.2727272727272727,
           0.3333333333333333,
           0.5374149659863946,
           0.3611111111111111,
           0.32,
           0.4158790170132325,
           0.36363636363636365,
           0.4747252747252747,
           0.47941176470588237,
           0.4579710144927536,
           0.4366812227074236,
           0.5775862068965517,
           0.4475806451612903,
           0.4155844155844156,
           0.3783783783783784,
           0.46222732491389207,
           0.4722222222222222,
           0.4166666666666667,
           0.518324607329843,
           0.25,
           0.44,
           0.4794520547945205,
           0,
           0.34615384615384615,
           0.25,
           0.2,
           0.5,
           0.3,
           0.25,
           0.35365853658536583,
           0.4262295081967213,
           0.5742753623188406,
           0.5335363344580693,
           0.5428905792861323,
           0.4687760199833472,
           0.48862843588670296,
           0.41298265249020705,
           0.4803964757709251,
           0.6101776284205472,
           0.49319877139096097,
           0.48236107908692644,
           0.4521072796934866,
           0.5267786561264822,
           0.5190735694822888,
           0.46688382193268185,
           0.44175491679273826,
           0.44634263715110684,
           0.5123042505592841,
           0.46473585411638507,
           0.4656652360515021,
           0.47876447876447875,
           0.38349514563106796,
           0.5169491525423728,
           0.4968892575694733,
           0.4631728045325779,
           0.4044943820224719,
           0.4420245398773006,
           0.48125564588979225,
           0.5583941605839416,
           0.4527027027027027,
           0.5369700103412617,
           0.35,
           0.3181818181818182,
           0.575,
           0.45106861642294716,
           0.425,
           0.5143266475644699,
           0.5,
           0.6,
           0.4827586206896552,
           0.6,
           0.4507042253521127,
           0.4226125137211855,
           0.49804525530150456,
           0.5110336817653891,
           null,
           0.35714285714285715,
           0.35294117647058826,
           0.4503175578774841,
           0.34328358208955223,
           0.5128865979381443,
           0.39215686274509803,
           0.4117647058823529,
           0.41379310344827586,
           0.4439252336448598,
           0.493431855500821,
           0.3877551020408163,
           0.42857142857142855,
           0.46956521739130436,
           0.4583333333333333,
           0.5277777777777778,
           0.2727272727272727,
           0.5833333333333334,
           0.35,
           0.23333333333333334,
           0.42731277533039647,
           0.4814942330865898,
           0.45868544600938965,
           0.4856975381008206,
           0.46959624938772654,
           0.4798206278026906,
           0.46547884187082406,
           0.4783795130142737,
           0.4264705882352941,
           0.43732376313765703,
           0.5260884014622799,
           0.43602573266619016,
           0.49988131972466177,
           0.44714926329276106,
           0.46562721474131824,
           0.5427669822288657,
           0.4754818248353257,
           0.4657290368524123,
           0.5758414015675426,
           0.5078066914498142,
           0.5100725221595488,
           0.4700854700854701,
           0.483983286908078,
           0.5346776657500764,
           0.549182678520218,
           0.5053475935828877,
           0.5008003658815459,
           0.46003016591251883,
           0.4671857619577308,
           0.5073099415204678,
           0.5660377358490566,
           0.5179345683878597,
           0.4444444444444444,
           0.5358490566037736,
           0.4746784565916399,
           0.6752202221371122,
           0.5278706800445931,
           0.4784719974101651,
           0.4972972972972973,
           0.486815415821501,
           0.4648956356736243,
           0.43859649122807015,
           0.35,
           0,
           0.5060882800608828,
           0.56,
           0.5486725663716814,
           0.46303501945525294,
           0.5294117647058824,
           0.3333333333333333,
           0.5459459459459459,
           0.47032337290216947,
           0.42475728155339804,
           0.46875,
           1,
           0.47101449275362317,
           0.3870967741935484,
           0.47058823529411764,
           0.4787234042553192,
           0.5,
           0.5117370892018779,
           0.4665012406947891,
           1,
           0.4140625,
           0.509469696969697,
           0.5205659756498848,
           0.5669781931464174,
           0.5129239692346489,
           0.4681181959564541,
           0.41875923190546527,
           0.4203883495145631,
           0.5192421551213736,
           0.49944669863519,
           0.4786945419725503,
           0.4124915749269827,
           0.4316628701594533,
           0.45987583352494826,
           0.4423617619493908,
           0.424,
           0.43314285714285716,
           0.5341521869382864,
           0.49332477535301666,
           0.4928136419001218,
           0.47199601130131297,
           0.40869565217391307,
           0.49464989675239346,
           0.5016380016380017,
           0.4381139489194499,
           0.5,
           0.524303305249514,
           0.4854122621564482,
           0.44776785714285716,
           0.4478951000690131,
           0.4641350210970464,
           0.4888888888888889,
           0.5544747081712063,
           0.4838709677419355,
           0.49381148841637573,
           0.3915343915343915,
           0.46837763519706693,
           0.5258255715495342,
           0.4896265560165975,
           0.5066603235014272,
           0.5278637770897833,
           0.4706504494976203,
           0.45667752442996745,
           0.47052845528455284,
           0.486198243412798,
           0.47577092511013214,
           0.46101029916625796,
           0.5,
           0.4389920424403183,
           0.46332046332046334,
           0.48350253807106597,
           0.4407894736842105,
           0.4630459126539754,
           0.4666666666666667,
           0.2222222222222222,
           0.3333333333333333,
           0.5483870967741935,
           0.44,
           0.4688878000979912,
           0.46919976971790445,
           0.41935483870967744,
           0.5208333333333334,
           0.35714285714285715,
           0.423728813559322,
           0.4423076923076923,
           0.3333333333333333,
           0.41739130434782606,
           0.3968253968253968,
           0.45663426335058704,
           0.4577022534170669,
           0.5438915523226979,
           0.4603174603174603,
           0.47711643348351906,
           0.4548641542506573,
           0.5149645171243443,
           0.4672430994346525,
           0.4905221745350501,
           0.47323209081147416,
           0.5272727272727272,
           0.4186939820742638,
           0.5669240669240669,
           0.5012116316639742,
           0.481294964028777,
           0.4169381107491857,
           0.4906966681090437,
           0.5055461552923481,
           0.47099218565001183,
           0.49473684210526314,
           0.2857142857142857,
           0.4894366197183099,
           0.5342763873775843,
           0.4326241134751773,
           0.3932038834951456,
           0.47493403693931396,
           0.45763523216850166,
           0.45630609352857815,
           0.49019607843137253,
           0.3951612903225806,
           0.4782608695652174,
           0.44954128440366975,
           0.5829193281286965,
           0.46511627906976744,
           0.5369928400954654,
           0.2857142857142857,
           0.6666666666666666,
           0.5198156682027649,
           0.49396735273243436,
           0.582089552238806,
           0.4180790960451977,
           0.5275590551181102,
           null,
           0.3137254901960784,
           0.44021739130434784,
           0.4,
           0.4,
           0.5830618892508144,
           0.4666666666666667,
           0.48484848484848486,
           0.8,
           0.3974358974358974,
           0.44884910485933505,
           0.543468568880963,
           0.4482948294829483,
           0.47299077733860345,
           0.3333333333333333,
           0.44886363636363635,
           0.45274353396180805,
           0.4756756756756757,
           0.45,
           0.35555555555555557,
           0.6666666666666666,
           0.39037433155080214,
           0.5620437956204379,
           0.5,
           0.4277329420396185,
           0.25,
           0.38095238095238093,
           0.6521739130434783,
           0.42105263157894735,
           0.5054393305439331,
           0.48427672955974843,
           0.5548892220556388,
           0.5200415368639668,
           0.5768872320596459,
           0.5228628230616302,
           0.5272448196469686,
           0.4445407279029463,
           0.4550056242969629,
           0.4338138925294889,
           0.4906001446131598,
           0.44222495390288874,
           0.4831804281345566,
           0.47382716049382717,
           0.5354263166924,
           0.5164964189268522,
           0.4380952380952381,
           0.3995433789954338,
           0.5162044250545341,
           0.5285961871750433,
           0.4072398190045249,
           0.549949545913219,
           0.5021865889212828,
           0.4684723726977248,
           0.4777251184834123,
           0.45054945054945056,
           0.4462809917355372,
           0.4360655737704918,
           0.4800129996750081,
           0.4920788878111865,
           0.5093644458090267,
           0.4166666666666667,
           0.4575273338940286,
           0.47004357298474947,
           0.3333333333333333,
           0.506578947368421,
           0.4166666666666667,
           0.5211420310805926,
           0.4511494252873563,
           0.5200974421437271,
           0.4160839160839161,
           0.5209205020920502,
           0.4117647058823529,
           0.44871794871794873,
           0.496551724137931,
           0.42857142857142855,
           0.35714285714285715,
           0,
           0.3835616438356164,
           0.4738955823293173,
           0.5428571428571428,
           0.4321608040201005,
           0.48894436519258205,
           0.48175519630484986,
           0.3076923076923077,
           0.4131455399061033,
           0.34415584415584416,
           0.375,
           0.23076923076923078,
           0.3333333333333333,
           0.5569620253164557,
           0.3333333333333333,
           0.3,
           0.5806451612903226,
           0.40264026402640263,
           0.5,
           0.4777777777777778,
           0.6183206106870229,
           0.5368620037807184,
           0.5,
           0.5343131712832109,
           0.48088531187122735,
           0.49834413246940246,
           0.443768115942029,
           0.47232472324723246,
           0.4877773067684047,
           0.47624039133473095,
           0.5439689793657388,
           0.4844165716457621,
           0.46388101983002833,
           0.5491731940818103,
           0.49776555517359916,
           0.4221218961625282,
           0.5493994575745835,
           0.5479930191972077,
           0,
           0.5117830146731881,
           0.5389728096676737,
           0.4983948635634029,
           0.5022954361328652,
           0.4757729580064605,
           0.5,
           0.5025906735751295,
           0.36936936936936937,
           0.4766990291262136,
           0.5416364952932657,
           0.5465116279069767,
           0.4662756598240469,
           0.3694581280788177,
           0.5130597014925373,
           0.5279456193353474,
           0.5066666666666667,
           0.5122897800776197,
           0.508706043018095,
           0.3977272727272727,
           0.5056890012642224,
           0.38341968911917096,
           0.4945226917057903,
           0.47835051546391755,
           0.35294117647058826,
           0.37244897959183676,
           0.5213533000554631,
           0.45161290322580644,
           0.5602240896358543,
           0.5,
           0.2608695652173913,
           0.416,
           0.5385794583546244,
           0.18181818181818182,
           0.547945205479452,
           0.5116279069767442,
           0,
           0.4688995215311005,
           0.4368131868131868,
           0.52,
           0.44379391100702575,
           0.6721311475409836,
           0.4678787878787879,
           0.48623853211009177,
           0.5219123505976095,
           0.4174041297935103,
           0.4579263711495116,
           0.3389830508474576,
           null,
           0.438984438984439,
           0.4789915966386555,
           0.40186915887850466,
           0.6,
           0.4090909090909091,
           0.75,
           0.5947467166979362,
           0.5080645161290323,
           0.3842364532019704,
           0.46994535519125685,
           0.4492753623188406,
           0.5,
           0.5169727323316639,
           0.3870967741935484,
           0.5617977528089888,
           0.4344262295081967,
           0.3333333333333333,
           0.2857142857142857,
           0.5185524507558406,
           0.5505804311774462,
           0.5247524752475248,
           0.4713622291021672,
           0.6002604166666666,
           0.4274353876739563,
           0.4842105263157895,
           0.4755125284738041,
           0.547945205479452,
           0.5555555555555556,
           0.4859778597785978,
           0.5329787234042553,
           0.4739720478023091,
           0.5805609915198956,
           0.4444444444444444,
           0.4146341463414634,
           0.5213137665967854,
           0.40387722132471726,
           0.39285714285714285,
           0.2222222222222222,
           0.5369565217391304,
           0.5614737685222266,
           0.47687296416938113,
           0.4525862068965517,
           0.5849896173242362,
           0.4362304362304362,
           0.5490196078431373,
           0.4516971279373368,
           0.5253190613421161,
           0.34375,
           0.4303977272727273,
           0.49671772428884026,
           0.32051282051282054,
           0.4869203329369798,
           0.6464807436918991,
           0.5099875156054932,
           0.4543524416135881,
           0.5923212932558727,
           0.4933862433862434,
           0.36363636363636365,
           0.4834162520729685,
           0.44871794871794873,
           0.38461538461538464,
           0.47956284153005463,
           0.5767240173450833,
           0.48872180451127817,
           0.35714285714285715,
           0.5454545454545454,
           0.6811023622047244,
           0.3,
           0.3924050632911392,
           0.5344352617079889,
           0.23809523809523808,
           0.44329896907216493,
           0.5555555555555556,
           0.40664961636828645,
           0.44651162790697674,
           0.4936034115138593,
           0.4157303370786517,
           0.520048602673147,
           0.3373493975903614,
           0.48598130841121495,
           0.5,
           0.5298507462686567,
           0.513978494623656,
           0,
           0.5036378334680679,
           0.4479638009049774,
           0,
           0.375,
           0.6666666666666666,
           0.425531914893617,
           0.41568627450980394,
           0.4892638036809816,
           null,
           0.486712224753227,
           0.5838926174496645,
           0.532258064516129,
           null,
           0.3142857142857143,
           0.5579710144927537,
           0.4139194139194139,
           0.3,
           0.5238095238095238,
           0,
           0.3870967741935484,
           0.44777562862669246,
           0.44693877551020406,
           0.49823232323232325,
           0.45765765765765765,
           0.4269340974212034,
           0.4764751754613985,
           0.40625,
           0.5029280862028578,
           0.3770491803278688,
           0.4792626728110599,
           0.3888888888888889,
           0.3974358974358974,
           0.4351851851851852,
           0.512154233025985,
           0.4793702497285559,
           0.43617021276595747,
           0.4631915866483768,
           0.4090909090909091,
           0.546916890080429,
           0.4,
           0.501010101010101,
           0.5342465753424658,
           0.5128581925055107,
           0.5453915453915454,
           0.5351063829787234,
           0.47398843930635837,
           0.4743243243243243,
           0.5110091743119266,
           0.5364389825664475,
           0.45,
           0.4382845188284519,
           0.5262563523433089,
           0.6291739894551845,
           0.4297297297297297,
           0.5009140767824497,
           0.5124698310539019,
           0.25,
           0.30612244897959184,
           0.40625,
           0.5446808510638298,
           0.5813953488372093,
           0.4,
           0.4774912253929498,
           0.5316586373021335,
           0.527418891759977,
           0.4642857142857143,
           0.5439560439560439,
           0.4851063829787234,
           null,
           0.5395408163265306,
           0.5333333333333333,
           0.4,
           0.5111111111111111,
           0.6111111111111112,
           0.5025510204081632,
           null,
           0.6265094882116159,
           0.4936284372904091,
           0.5009101941747572,
           0.4166666666666667,
           0.4975124378109453,
           0.5827217446005452,
           0.4803687265278252,
           0.625,
           0.5348837209302325,
           0.4747058823529412,
           0.5,
           0.4489795918367347,
           0.44079718640093785,
           0.5573979591836735,
           0,
           0.39705882352941174,
           0.42977893368010406,
           0.5,
           0.5224887556221889,
           0.25,
           0.2608695652173913,
           0.3333333333333333,
           0.5,
           0.41379310344827586,
           0.5555555555555556,
           0,
           0.5270382695507487,
           0.5460030165912518,
           0.43117593436645396,
           0.47553516819571867,
           0.5,
           0.5219047619047619,
           0.379746835443038,
           0.6255424674519529,
           0.42196531791907516,
           0.32432432432432434,
           0.5,
           0.5227272727272727,
           0.5700787401574803,
           0.4687298517085751,
           0.5694084843656642,
           0.625751503006012,
           0.44349939246658565,
           0.5491391678622669,
           0.5063904803878361,
           0.48002316155182395,
           0.5022375915378356,
           0.4645962732919255,
           0.5305277681959296,
           0.4989247311827957,
           0.43245341614906835,
           0.4640088593576966,
           0.4994073488739629,
           0.5910652920962199,
           0.36619718309859156,
           0.5960125918153201,
           0.49586776859504134,
           0.4666666666666667,
           0.5641025641025641,
           0.4729064039408867,
           0.44030202925908446,
           0.5285215366705471,
           0.4,
           0.44656488549618323,
           0.4569343065693431,
           0.5,
           0.4701492537313433,
           0.5641421947449768,
           0.5555555555555556,
           0.4757155247181266,
           0.41954022988505746,
           0.4383561643835616,
           0.437125748502994,
           0.5752599890530925,
           0.6,
           0.4843492586490939,
           0.509375,
           0.43243243243243246,
           0.5385964912280702,
           0.4924039320822163,
           0.36363636363636365,
           0.5824324324324325,
           0.5830039525691699,
           0,
           0.4318181818181818,
           0.4810126582278481,
           0.6335697399527187,
           0.5263157894736842,
           0,
           0,
           0.46788990825688076,
           null,
           1,
           0.45901639344262296,
           0.4145785876993166,
           0.4329896907216495,
           0.3333333333333333,
           0.45689655172413796,
           0.4583333333333333,
           0.5640456563094484,
           0.5177111716621253,
           0.5536167512690355,
           0.38345864661654133,
           0.505940594059406,
           0.5310880829015544,
           0.6006006006006006,
           0.45358649789029537,
           0.4,
           0.46979298690325305,
           0.4944237918215613,
           0.6086956521739131,
           0.4583333333333333,
           0.6860158311345647,
           0.5069885641677255,
           0.485837734037446,
           0.5094991364421416,
           0.4738445911630269,
           0.4969826056088037,
           0.6318273769386379,
           0.4520547945205479,
           0.35714285714285715,
           0.23076923076923078,
           0.43905635648754915,
           0.44397163120567373,
           0.3225806451612903,
           0.4329268292682927,
           0.5270588235294118,
           0.5265901981230449,
           0.6470588235294118,
           0.5058139534883721,
           0.601823708206687,
           0.3850267379679144,
           0.16666666666666666,
           0.4186046511627907,
           0.375,
           0.5854126679462572,
           0.5076142131979695,
           0.501577287066246,
           0.5833333333333334,
           0.3333333333333333,
           0.5306122448979592,
           0.4148936170212766,
           0.46502057613168724,
           0.5452891960712987,
           0.4473684210526316,
           0.4519906323185012,
           0.5434782608695652,
           0,
           0.46835443037974683,
           0.46781789638932497,
           0.5808510638297872,
           0,
           0.4666666666666667,
           0.5069582504970179,
           0.5111111111111111,
           0.5277777777777778,
           0.5294117647058824,
           0.45714285714285713,
           0.4631336405529954,
           0.4,
           0.527027027027027,
           0.547945205479452,
           0.5908488063660478,
           0.5545134818288394,
           0.4258373205741627,
           0.5211267605633803,
           0.4024390243902439,
           0.4914004914004914,
           0.6,
           0.4444444444444444,
           0.5151515151515151,
           0.5123152709359606,
           0.5,
           0.5072886297376094,
           0.47548566142460685,
           0.41379310344827586,
           0.5,
           0.4146341463414634,
           0.25,
           0.5438202247191011,
           0.5833333333333334,
           0,
           0.47368421052631576,
           0.5,
           0.42105263157894735,
           0.6107470511140236,
           0.4790322580645161,
           0.4635514018691589,
           0.3,
           0.43137254901960786,
           0.5360576923076923,
           0.5820433436532507,
           0.4,
           0.5714285714285714,
           0.4774590163934426,
           0.45454545454545453,
           0.4668094218415418,
           0.49863667348329926,
           0.48933975240715266,
           0.4730473047304731,
           0.4970674486803519,
           0.44055433989788473,
           0.3894165535956581,
           0.5087842586085735,
           0.48464780252859724,
           0.4850574712643678,
           0.503968253968254,
           0.614963503649635,
           0.5264550264550265,
           0.5306122448979592,
           0.5786694825765576,
           0.5233082706766917,
           0.6305418719211823,
           0.3333333333333333,
           0.5661888701517707,
           0.569672131147541,
           0.49818181818181817,
           0.5877862595419847,
           0.36666666666666664,
           0.5398230088495575,
           0.5672645739910314,
           0.6527093596059114,
           0.5702005730659025,
           0.5286343612334802,
           0.625,
           0.4810606060606061,
           0.5129265770423992,
           0.49506578947368424,
           0.4755244755244755,
           0.5552367288378766,
           0.5751633986928104,
           0.4374384236453202,
           0.625,
           0.5482866043613707,
           0.459412780656304,
           0.4330357142857143,
           0.684931506849315,
           0.4364406779661017,
           0.45750262329485836,
           0.42857142857142855,
           0.5522388059701493,
           0.6646115906288532,
           0.75,
           0.5199645075421473,
           0.6060606060606061,
           0.49014084507042255,
           0.46,
           0.48554913294797686,
           0.6041666666666666,
           0.16666666666666666,
           0.3333333333333333,
           0.30434782608695654,
           0.5369649805447471,
           0.49295774647887325,
           0.4722222222222222,
           0.631578947368421,
           0.5926605504587156,
           0.6666666666666666,
           0,
           0.4225352112676056,
           0.49645390070921985,
           0.5441176470588235,
           0.6286836935166994,
           0.586490939044481,
           0.42424242424242425,
           0.5801980198019802,
           1,
           0.391304347826087,
           0,
           0.5714285714285714,
           0.375,
           0.32142857142857145,
           null,
           0.4117647058823529,
           0.46,
           0.39285714285714285,
           0.4,
           0.2,
           0.2916666666666667,
           0.5714285714285714,
           0.4230769230769231,
           0.5,
           0.4827586206896552,
           0.6666666666666666,
           0,
           0.625,
           0.38461538461538464,
           0.5789473684210527,
           0.4,
           1,
           0.4375,
           0.4,
           0.37037037037037035,
           0.48936170212765956,
           0.375,
           0.4444444444444444,
           0.5364995602462621,
           0.5514018691588785,
           0.5092250922509225,
           0.36363636363636365,
           0.6073825503355704,
           0.5374087591240876,
           0.5170940170940171,
           0.47947214076246336,
           0.5430954587581094,
           0.39285714285714285,
           0.534466477809254,
           0.4986979166666667,
           0.5329768270944741,
           0.5,
           0.3458646616541353,
           0.5686274509803921,
           0.42424242424242425,
           0.5167050691244239,
           0.3954887218045113,
           0.15384615384615385,
           0.5714285714285714,
           0.42544459644322846,
           0.4756756756756757,
           0.48010610079575594,
           0.5473801560758083,
           0.5257731958762887,
           null,
           0.3883374689826303,
           0.4606741573033708,
           0.5307692307692308,
           0.3333333333333333,
           0.4586092715231788,
           0.5084033613445378,
           0.5007704160246533,
           0.47107438016528924,
           0,
           0.49487554904831627,
           0.7142857142857143,
           0.6050670640834576,
           0.4144486692015209,
           0.7054455445544554,
           0.48140975987606505,
           0.46701846965699206,
           0.4427645788336933,
           0.4230769230769231,
           0.4584717607973422,
           0.4605263157894737,
           0.44802867383512546,
           0.48291571753986334,
           0.609375,
           0.5789473684210527,
           0.4512987012987013,
           0.49271523178807947,
           0.5310492505353319,
           0.4889400921658986,
           0.5948275862068966,
           0.5495660118775697,
           0.42718446601941745,
           0.574468085106383,
           0.47,
           0.6666666666666666,
           0.4444444444444444,
           0.5605381165919282,
           0.5319148936170213,
           null,
           null,
           0.5274151436031331,
           0.7240506329113924,
           0.5,
           0.4552238805970149,
           0.5098039215686274,
           0.38461538461538464,
           0.4719626168224299,
           0.5371900826446281,
           0.5180180180180181,
           0.672566371681416,
           0.625,
           0,
           0.46153846153846156,
           0.5483870967741935,
           0.5153374233128835,
           0.559322033898305,
           0.2,
           0.4642857142857143,
           0.6666666666666666,
           0.3333333333333333,
           0.6,
           0.36363636363636365,
           0.4566929133858268,
           0.6428571428571429,
           0.29411764705882354,
           0.5354239256678281,
           0.4503311258278146,
           0.6,
           0.16666666666666666,
           0.5714285714285714,
           0.5121951219512195,
           0.5,
           null,
           0.49603174603174605,
           0.44166666666666665,
           0.35294117647058826,
           0.39316239316239315,
           0.43478260869565216,
           0.46808510638297873,
           0.5796610169491525,
           0.45454545454545453,
           0.6687898089171974,
           0.6,
           0.5454545454545454,
           0.3,
           0.15384615384615385,
           0.75,
           0.5714285714285714,
           0.47560975609756095,
           0.46875,
           0.5625,
           0.7441860465116279,
           0.6153846153846154,
           0.2,
           0.3333333333333333,
           0.6,
           0.5345911949685535,
           0.49122807017543857,
           0.35714285714285715,
           0.16666666666666666,
           0.9024390243902439,
           0.5,
           0.49056603773584906,
           0.6137879911045219,
           0.4465261514441842,
           0.4376417233560091,
           0.5047489823609227,
           0.4906015037593985,
           0.4525462962962963,
           0.47516198704103674,
           0.6110444177671068,
           0.47540983606557374,
           0.46006389776357826,
           0.6564299424184261,
           0.45161290322580644,
           0.4816326530612245,
           0.5380710659898477,
           0.4148936170212766,
           0.5642458100558659,
           0.46994535519125685,
           0.54,
           0.509594882729211,
           0.4586206896551724,
           0.5,
           0.4264705882352941,
           0.539568345323741,
           0.6353591160220995,
           0.4449648711943794,
           0.7142857142857143,
           0.6908077994428969,
           0.4090909090909091,
           0.5566037735849056,
           0.5253333333333333,
           0.44505494505494503,
           0.5551601423487544,
           0.49019607843137253,
           0.5151515151515151,
           0.35714285714285715,
           0.5422222222222223,
           0,
           0.5094339622641509,
           0.4657534246575342,
           0.4166666666666667,
           0.5443708609271524,
           0.46206896551724136,
           0.5623869801084991,
           0.5451713395638629,
           0.5285714285714286,
           0.5161290322580645,
           0.5528846153846154,
           0.375,
           0.4084507042253521,
           0.4634146341463415,
           0.5278969957081545,
           0.5849056603773585,
           0.3333333333333333,
           0.5454545454545454,
           0.2,
           0.5,
           0.5128205128205128,
           0.3333333333333333,
           0.5142857142857142,
           0.5714285714285714,
           0.6146788990825688,
           0.45454545454545453,
           0.44642857142857145,
           0.5306122448979592,
           0.42857142857142855,
           0.6486486486486487,
           0.5887850467289719,
           0.5,
           0.6333333333333333,
           0.4222222222222222,
           null,
           0.5202312138728323,
           0.5,
           0,
           0.7017543859649122,
           0.5,
           0.3333333333333333,
           0.5878787878787879,
           0.5,
           0.6285714285714286,
           0.5,
           0.25,
           0.4166666666666667,
           0.4833574529667149,
           0.48905109489051096,
           0.5424242424242425,
           0.3953488372093023,
           0.5347222222222222,
           0.6290322580645161,
           0.6575342465753424,
           0.5294117647058824,
           0.46405228758169936,
           0.5014492753623189,
           0.5153846153846153,
           0.5462555066079295,
           0.5428571428571428,
           0.4236842105263158,
           0.5862068965517241,
           0.4019933554817276,
           0.5122699386503068,
           0.5555555555555556,
           0.45021645021645024,
           0.4823008849557522,
           0.5588235294117647,
           0.5443786982248521,
           0.4147465437788018,
           0.3148148148148148,
           0.5263157894736842,
           0.44680851063829785,
           0.5454545454545454,
           0.3333333333333333,
           0.2857142857142857,
           0.5924855491329479,
           0.5777777777777777,
           0.4007220216606498,
           0.5833333333333334,
           0.40298507462686567,
           0.3333333333333333,
           0.3333333333333333,
           0.4657534246575342,
           0.42441860465116277,
           0.4823529411764706,
           0.75,
           null,
           0.5225225225225225,
           0.4444444444444444,
           0.4782608695652174,
           0.5,
           0.5365853658536586,
           0.18181818181818182,
           0.375,
           0.5131578947368421,
           0.5,
           0.5172413793103449,
           0.41935483870967744,
           0.49122807017543857,
           0.5277777777777778,
           0.42063492063492064,
           0.5720720720720721,
           0.4626865671641791,
           0.3333333333333333,
           0.6,
           0.48936170212765956,
           0,
           0.48663101604278075,
           0.44,
           0.7272727272727273,
           0.5953488372093023,
           0.6388888888888888,
           null,
           0.4444444444444444,
           null,
           0.46938775510204084,
           0.5238095238095238,
           0.5769230769230769
          ],
          "coloraxis": "coloraxis",
          "size": [
           191,
           226.28571428571428,
           173,
           54,
           7,
           179.75,
           644.5,
           195.66666666666666,
           820,
           169.5,
           367,
           169.8,
           144.2,
           19,
           89,
           94,
           71,
           29,
           7.5,
           306.7142857142857,
           180.875,
           305.1666666666667,
           371,
           210.66666666666666,
           384,
           24.5,
           241.4,
           154.4,
           130.25,
           884.6363636363636,
           413.54545454545456,
           278.6666666666667,
           223.8,
           210,
           218,
           185.4,
           129.14285714285714,
           174,
           452.8888888888889,
           216.33333333333334,
           399.2,
           107.85714285714286,
           19,
           56,
           38.5,
           151,
           829,
           56.666666666666664,
           350.53846153846155,
           6,
           535.2,
           214.5,
           183.71428571428572,
           449,
           275.6666666666667,
           42.25,
           220.75,
           15.75,
           105.83333333333333,
           321,
           204.91666666666666,
           470.2857142857143,
           59.5,
           23,
           459.77777777777777,
           681.1666666666666,
           15,
           212.125,
           592.6666666666666,
           186,
           338,
           562.4545454545455,
           345.3333333333333,
           548.4166666666666,
           249.8,
           54.5,
           106.5,
           196,
           226.375,
           87.33333333333333,
           723.7272727272727,
           45,
           239.75,
           350,
           8,
           205.85714285714286,
           692.3333333333334,
           345.6,
           337,
           89,
           76,
           42.5,
           17.2,
           212.4,
           444.8333333333333,
           234,
           94.14285714285714,
           104,
           382.8,
           510,
           389.25,
           1006.9166666666666,
           335.25,
           67.4,
           280.5,
           702.1666666666666,
           55,
           109,
           143.8,
           223.14285714285714,
           42,
           104.85714285714286,
           32,
           49,
           579.75,
           781.5833333333334,
           280.8333333333333,
           739.1666666666666,
           63,
           36,
           594.9,
           207.28571428571428,
           307.8333333333333,
           442,
           52.75,
           515.25,
           43.25,
           197.6,
           177.75,
           147,
           376.5,
           144.54545454545453,
           94,
           35,
           293.6363636363636,
           104.83333333333333,
           168.5,
           328.3333333333333,
           344.3333333333333,
           243.6,
           1209.5,
           637.3125,
           467.4,
           82.66666666666667,
           192.33333333333334,
           489.625,
           396,
           137.33333333333334,
           770.3333333333334,
           228.3,
           7.5,
           87.5,
           228,
           246,
           33,
           430,
           129,
           43,
           36.333333333333336,
           83,
           367.375,
           503.6363636363636,
           893.8888888888889,
           462.5,
           534.1428571428571,
           143,
           5,
           148,
           78,
           424.5,
           31,
           177.28571428571428,
           350.77777777777777,
           66.66666666666667,
           408.2857142857143,
           174,
           45,
           474.6666666666667,
           64.66666666666667,
           206.28571428571428,
           248.66666666666666,
           70.2,
           330.375,
           22,
           310.0833333333333,
           107,
           141.33333333333334,
           400.90909090909093,
           213.66666666666666,
           603.7272727272727,
           491.6666666666667,
           396.25,
           165.5,
           25,
           171.77777777777777,
           135.8,
           573.3333333333334,
           149.5,
           153,
           93,
           152,
           605.1111111111111,
           427.3,
           218.5,
           399.4,
           334,
           570.7777777777778,
           513.5555555555555,
           209.75,
           305,
           99,
           928.2666666666667,
           208,
           29.333333333333332,
           435,
           41,
           464.3333333333333,
           459,
           512.1666666666666,
           124,
           302,
           741.5714285714286,
           132.5,
           237,
           38,
           147.5,
           675.8823529411765,
           7,
           148.5,
           500.1111111111111,
           34,
           350.3333333333333,
           322.6666666666667,
           235.58333333333334,
           604.4,
           94,
           138.25,
           287.8,
           188.5,
           177.75,
           491.70588235294116,
           140.9,
           676.25,
           68,
           47,
           104,
           341.6363636363636,
           61,
           79,
           296.90909090909093,
           71.5,
           354.7142857142857,
           390.75,
           27,
           338.1111111111111,
           130,
           198.625,
           658.8571428571429,
           229.22222222222223,
           281.3333333333333,
           130.14285714285714,
           37,
           239.55555555555554,
           559.3333333333334,
           130.8,
           120.16666666666667,
           414.6666666666667,
           141.11111111111111,
           196.33333333333334,
           196.76923076923077,
           8,
           15,
           341.5,
           430.4117647058824,
           101.66666666666667,
           127,
           205.25,
           990.15,
           209,
           81.33333333333333,
           540.0588235294117,
           47.333333333333336,
           221.4,
           744.6428571428571,
           19.5,
           108,
           521,
           388.75,
           21,
           213.33333333333334,
           640.5454545454545,
           125,
           2,
           391.5833333333333,
           6,
           11,
           256.5,
           39,
           5,
           156,
           661.2,
           1,
           654.5333333333333,
           232,
           517.8,
           533.8333333333334,
           241.2,
           398.8333333333333,
           427.6666666666667,
           262.3333333333333,
           657.4285714285714,
           265.6,
           60.8,
           174,
           161.25,
           68,
           1,
           84.25,
           508.25,
           188.2,
           655.5,
           53,
           151.5,
           296.6666666666667,
           455,
           423.1,
           407.875,
           11,
           1526.25,
           266,
           289.8,
           468.57142857142856,
           351,
           341,
           3,
           442.6,
           258.625,
           276.8,
           382.09090909090907,
           62.333333333333336,
           534.25,
           210,
           102,
           546,
           140.5,
           494,
           183.125,
           27,
           312.6,
           388.6,
           577.3333333333334,
           459.9230769230769,
           112.14285714285714,
           3,
           69,
           42,
           104.4,
           188.8,
           468.77777777777777,
           286.3,
           479,
           500.3333333333333,
           10,
           8,
           4,
           1180.2142857142858,
           469.94117647058823,
           916.4166666666666,
           790.4615384615385,
           640.3333333333334,
           870.5833333333334,
           426.46153846153845,
           562.375,
           201.5,
           348.6875,
           149.2,
           310.72727272727275,
           497.3888888888889,
           321.7,
           349.42857142857144,
           146.8,
           34,
           198,
           332.6666666666667,
           312.55555555555554,
           90,
           107.5,
           162,
           332.5,
           75.75,
           377.45454545454544,
           1032.7,
           486.61538461538464,
           607.2222222222222,
           672.3846153846154,
           51,
           130,
           180.77777777777777,
           55,
           15.5,
           59.27272727272727,
           14.75,
           309.61538461538464,
           22.5,
           159.4,
           100.5,
           38.833333333333336,
           18,
           339.4,
           83,
           13.333333333333334,
           305.85714285714283,
           32,
           96.16666666666667,
           23,
           11,
           105,
           42,
           25.333333333333332,
           109.66666666666667,
           124,
           34,
           53,
           19,
           250.66666666666666,
           64.5,
           3,
           9,
           13.5,
           46.5,
           17,
           249.88888888888889,
           73,
           31.5,
           154.5,
           141.16666666666666,
           0,
           175,
           79.5,
           3.3333333333333335,
           21,
           314.27272727272725,
           23,
           10,
           73.5,
           2,
           156,
           4,
           156,
           335.625,
           147.66666666666666,
           7,
           10,
           13,
           413.5,
           215,
           10,
           64.5,
           31,
           3,
           96.5,
           438,
           120,
           3,
           17.75,
           58,
           180,
           34.5,
           83,
           262,
           3.6666666666666665,
           30,
           99,
           185.2,
           227,
           15,
           2,
           206.07692307692307,
           12,
           12,
           106,
           1061.3684210526317,
           667.1111111111111,
           393.4117647058824,
           304.2307692307692,
           308.07142857142856,
           695.375,
           408.6923076923077,
           230.33333333333334,
           814.3333333333334,
           252.2,
           275,
           199.75,
           366.54545454545456,
           585,
           220.3,
           398.1666666666667,
           59.333333333333336,
           235,
           157.8181818181818,
           14.5,
           252.22222222222223,
           148,
           387.8333333333333,
           115,
           88.4,
           95.2,
           229.83333333333334,
           73,
           60.5,
           16,
           38.5,
           110,
           26,
           35,
           378.42857142857144,
           79.5,
           246,
           15,
           524.9285714285714,
           350.8,
           56,
           224,
           365.1111111111111,
           482.75,
           170.14285714285714,
           83,
           434.22222222222223,
           20,
           179.33333333333334,
           155.66666666666666,
           156.23076923076923,
           5.25,
           69.5,
           141,
           25,
           2,
           65.5,
           5,
           15.666666666666666,
           9,
           90,
           85.88888888888889,
           149,
           65.4,
           267.72727272727275,
           106.66666666666667,
           43,
           176.23076923076923,
           19,
           10,
           107,
           19,
           6,
           27.666666666666668,
           456.55555555555554,
           600.9285714285714,
           346.6,
           853.6875,
           689.5909090909091,
           250,
           326.25,
           577.2307692307693,
           882.0952380952381,
           718.3684210526316,
           542.8,
           283,
           390,
           421.4,
           505.3636363636364,
           115.33333333333333,
           425.6666666666667,
           32,
           195.6,
           260.6666666666667,
           566.3333333333334,
           172.35714285714286,
           260.3636363636364,
           281.75,
           533.75,
           70,
           176,
           153.75,
           273.94444444444446,
           85.5,
           498.4,
           490.875,
           118.375,
           140.57142857142858,
           28.285714285714285,
           148.55555555555554,
           8,
           9,
           325.09090909090907,
           6,
           646.5454545454545,
           3,
           206,
           50.27272727272727,
           105.5,
           48,
           0,
           43.5,
           186,
           58.75,
           177.5,
           59.25,
           112.4,
           91,
           20,
           41,
           119.63636363636364,
           1,
           468.85714285714283,
           2,
           3,
           4,
           2,
           9,
           28,
           416.75,
           10,
           9,
           173,
           32,
           198.3846153846154,
           17,
           1,
           7,
           298.15384615384613,
           12.5,
           0,
           72.5,
           79,
           50.5,
           774.3529411764706,
           731.4444444444445,
           599.3846153846154,
           590.5,
           115.5,
           574,
           839.8571428571429,
           718.5882352941177,
           791.625,
           503.94736842105266,
           104,
           13,
           538.4285714285714,
           86,
           462.5882352941176,
           130.66666666666666,
           260.3333333333333,
           118.25,
           292.5,
           223.6153846153846,
           429.45454545454544,
           192.1818181818182,
           419.38461538461536,
           25.333333333333332,
           339.6666666666667,
           229.25,
           126.75,
           14,
           36,
           70.11111111111111,
           49,
           85.25,
           103.8,
           65.8,
           97.25,
           81,
           21,
           406.5,
           166.77777777777777,
           392.8333333333333,
           4,
           262.25,
           16,
           256.6,
           39,
           387.9375,
           31.5,
           6,
           329.8,
           0,
           299.3333333333333,
           60,
           0,
           188,
           270,
           71,
           3,
           15.5,
           40.6,
           66.66666666666667,
           81,
           516.6,
           399.55555555555554,
           548.7142857142857,
           404.3333333333333,
           284.52941176470586,
           151,
           339.75,
           504.4,
           124.6923076923077,
           236.84615384615384,
           64,
           192.66666666666666,
           477,
           92.33333333333333,
           144.6,
           385.8666666666667,
           628.1,
           313.3076923076923,
           305.5833333333333,
           362.14285714285717,
           351.3636363636364,
           195,
           299.84615384615387,
           89,
           169,
           39.6,
           253.5,
           37.5,
           90.88888888888889,
           179.25,
           300.57142857142856,
           100.5,
           82.33333333333333,
           153.11111111111111,
           227,
           41,
           36,
           271,
           44,
           322.5,
           33.666666666666664,
           554.5,
           81.25,
           73.75,
           141.11111111111111,
           3.6666666666666665,
           46,
           6,
           18,
           440,
           81.5,
           22,
           185.42857142857142,
           204,
           40,
           42.714285714285715,
           1,
           5,
           234.9,
           104,
           42.5,
           122.71428571428571,
           16,
           19,
           256.5833333333333,
           313.3157894736842,
           846.8333333333334,
           430.1818181818182,
           641.3846153846154,
           274.2307692307692,
           302.2,
           97.58333333333333,
           291.25,
           728.7058823529412,
           83.25,
           217.58333333333334,
           490.1764705882353,
           401.8333333333333,
           164,
           25,
           88.6,
           169.23076923076923,
           885,
           307.3076923076923,
           20.5,
           88.5,
           70.66666666666667,
           261,
           442.07142857142856,
           413.9230769230769,
           286.8181818181818,
           790.3888888888889,
           164,
           46,
           276.5,
           228.77777777777777,
           3,
           81,
           353.44444444444446,
           524.8181818181819,
           23,
           134,
           89.9090909090909,
           29.333333333333332,
           28.5,
           502.5,
           276,
           15.5,
           259.7,
           72.5,
           81.5,
           37,
           12.666666666666666,
           149.5,
           163.5,
           20,
           239.71428571428572,
           318.22222222222223,
           12.333333333333334,
           29,
           18,
           49,
           119,
           28,
           110.25,
           162.93333333333334,
           62,
           3,
           18,
           47,
           804.375,
           483,
           364.4,
           506.64285714285717,
           110.75,
           170,
           445.1764705882353,
           351.45454545454544,
           777.2857142857143,
           603.4285714285714,
           221.45454545454547,
           188.77777777777777,
           66.5,
           238.85714285714286,
           161.16666666666666,
           234,
           345.85714285714283,
           113.5,
           74.66666666666667,
           197.71428571428572,
           130.75,
           154,
           609.4285714285714,
           497,
           60.333333333333336,
           384.0769230769231,
           85,
           165.33333333333334,
           26.5,
           138.4,
           350,
           209.2,
           862.0769230769231,
           180,
           9,
           334,
           83,
           410.125,
           131.25,
           246.92857142857142,
           21.4,
           3,
           360.625,
           243.53846153846155,
           51,
           717.1,
           1,
           31,
           131,
           67,
           236.33333333333334,
           12,
           183.27272727272728,
           0,
           24,
           150.66666666666666,
           258.2,
           386,
           254.875,
           1,
           23,
           41.5,
           182.15384615384616,
           30,
           1103.6666666666667,
           259.6,
           969.1111111111111,
           897.7692307692307,
           983.9375,
           538.3846153846154,
           415.38461538461536,
           473,
           290.5,
           323.14285714285717,
           191.1,
           288.85714285714283,
           166.625,
           427.4166666666667,
           40.666666666666664,
           14,
           153.33333333333334,
           753.6,
           176.1,
           185.69230769230768,
           449.85714285714283,
           119.33333333333333,
           335.6363636363636,
           155.22222222222223,
           226.625,
           17,
           228.92857142857142,
           346.64285714285717,
           513.2,
           74.33333333333333,
           219.11111111111111,
           189.1,
           100,
           187.3846153846154,
           1,
           3,
           349,
           345.5,
           158.0909090909091,
           153.75,
           495,
           9,
           76.14285714285714,
           209.58823529411765,
           93,
           17,
           3,
           77.5,
           349.4,
           296.8888888888889,
           238.57142857142858,
           2.5,
           0,
           32.5,
           82.83333333333333,
           5,
           28,
           20,
           78.16666666666667,
           8,
           160,
           20.5,
           30,
           1,
           202.25,
           159.42857142857142,
           89,
           4,
           688.7647058823529,
           586.5,
           561,
           310.42857142857144,
           367.6,
           283.75,
           618.3333333333334,
           127,
           443.47058823529414,
           36.5,
           240.7,
           85,
           282,
           330.61538461538464,
           877,
           208.75,
           743.7692307692307,
           330.4375,
           201.54545454545453,
           397,
           1,
           129.75,
           53,
           319.875,
           357.35714285714283,
           485.6666666666667,
           130.6,
           352.9230769230769,
           176.5,
           250.5,
           131,
           10,
           76,
           57,
           6,
           93.5,
           108.2,
           183.55555555555554,
           142.33333333333334,
           305.88235294117646,
           159,
           27,
           63.333333333333336,
           43,
           52.5,
           19,
           54.42857142857143,
           36,
           3,
           363,
           63,
           52.666666666666664,
           47,
           4.5,
           1,
           19.5,
           16,
           41.333333333333336,
           83.625,
           43,
           253,
           84.66666666666667,
           62,
           16.333333333333332,
           36.5,
           27,
           397.14285714285717,
           398.53333333333336,
           681.875,
           510.42857142857144,
           199.5,
           363.27272727272725,
           303.7692307692308,
           159.33333333333334,
           639,
           429.625,
           17,
           173.75,
           337.75,
           164.83333333333334,
           266,
           502.8,
           239.83333333333334,
           439.625,
           12.5,
           323.27272727272725,
           451.0769230769231,
           203.2,
           210.66666666666666,
           262.625,
           281.8,
           251.14285714285714,
           183.66666666666666,
           71.5,
           711.3333333333334,
           213.66666666666666,
           147,
           422.25,
           235.26666666666668,
           356.7692307692308,
           160,
           60.6,
           102.33333333333333,
           861.5833333333334,
           140,
           38,
           3,
           1,
           480.0625,
           37,
           141.33333333333334,
           529.1111111111111,
           411.625,
           57,
           69,
           13.5,
           124,
           297.7142857142857,
           512.3333333333334,
           33.5,
           24,
           138.5,
           29,
           97.66666666666667,
           192.5,
           298.57142857142856,
           121,
           35.125,
           0,
           64,
           140.125,
           30,
           132.6,
           1,
           36.333333333333336,
           24.5,
           277.5,
           12.8,
           34,
           26,
           112.66666666666667,
           47.5,
           3,
           66.66666666666667,
           5.333333333333333,
           23,
           18,
           22,
           2,
           246.8,
           190,
           52,
           4,
           88.875,
           62.5,
           206,
           490.5,
           1050,
           292.3333333333333,
           323.25,
           211.16666666666666,
           654,
           339.3636363636364,
           733.9333333333333,
           39.25,
           27.333333333333332,
           284.8,
           114.33333333333333,
           199.71428571428572,
           351.75,
           57,
           201.6,
           114.28571428571429,
           86.33333333333333,
           117.66666666666667,
           109.5,
           469.6,
           178.75,
           260.5,
           388.46666666666664,
           224.77777777777777,
           189.3,
           210.2,
           36.25,
           162.75,
           151,
           37.333333333333336,
           34.54545454545455,
           79.5,
           54.5,
           227.8,
           363.3333333333333,
           85.5,
           10,
           124,
           18.5,
           175.28571428571428,
           8,
           147,
           47.5,
           632.6666666666666,
           189.4,
           117.6,
           16.5,
           3,
           73.5,
           36,
           25,
           88.16666666666667,
           143,
           136.5,
           113.33333333333333,
           172.5,
           229,
           58,
           62,
           38.5,
           37,
           311.07142857142856,
           36,
           12,
           127.33333333333333,
           4,
           25,
           36.5,
           3,
           26,
           8,
           10,
           20,
           20,
           4,
           82,
           30.5,
           184,
           934.6923076923077,
           610.3571428571429,
           514.7142857142857,
           551.3076923076923,
           357.4,
           349.2307692307692,
           208.3,
           350.61538461538464,
           433.7,
           130.5,
           722.8571428571429,
           183.5,
           690.75,
           594.9,
           346.3333333333333,
           111.75,
           286.84615384615387,
           233,
           282.54545454545456,
           137.33333333333334,
           210.71428571428572,
           401.8333333333333,
           176.5,
           29.666666666666668,
           326,
           402.54545454545456,
           274,
           49.333333333333336,
           429.77777777777777,
           40,
           11,
           80,
           444.5,
           80,
           126.9090909090909,
           50,
           5,
           58,
           5,
           71,
           151.83333333333334,
           649.3076923076923,
           123,
           0,
           14,
           8.5,
           443.72727272727275,
           67,
           77.6,
           25.5,
           17,
           14.5,
           235.4,
           93.6923076923077,
           16.333333333333332,
           3.5,
           28.75,
           12,
           306,
           5.5,
           12,
           20,
           10,
           227,
           528.0909090909091,
           532.5,
           710.8333333333334,
           1099.3076923076924,
           497.46153846153845,
           336.75,
           366.46153846153845,
           102,
           300.0769230769231,
           694.3846153846154,
           254.36363636363637,
           526.625,
           173.44444444444446,
           235.16666666666666,
           463.15384615384613,
           409.9,
           624.1111111111111,
           333.6923076923077,
           504.375,
           177.28571428571428,
           253.5,
           359,
           297.54545454545456,
           581.1666666666666,
           316.46153846153845,
           336.38461538461536,
           294.6666666666667,
           224.75,
           114,
           26.5,
           422.8333333333333,
           9,
           66.25,
           276.44444444444446,
           401.6923076923077,
           224.25,
           257.4166666666667,
           61.666666666666664,
           246.5,
           175.66666666666666,
           57,
           60,
           3,
           505.38461538461536,
           70,
           56.5,
           85.66666666666667,
           17,
           6,
           92.5,
           271.44444444444446,
           103,
           16,
           1,
           55.2,
           93,
           51,
           31.333333333333332,
           4,
           213,
           201.5,
           1,
           73.14285714285714,
           132,
           828.8181818181819,
           64.2,
           660.9166666666666,
           643,
           406.2,
           343.3333333333333,
           563,
           338.875,
           1044.3333333333333,
           494.55555555555554,
           219.5,
           543.625,
           304.85714285714283,
           145.83333333333334,
           145.83333333333334,
           278.1666666666667,
           649.1666666666666,
           513.125,
           501.4166666666667,
           161,
           532.7,
           244.2,
           203.6,
           186.5,
           514.3333333333334,
           215,
           186.66666666666666,
           181.125,
           118.5,
           45,
           85.66666666666667,
           124,
           315.1,
           47.25,
           272.75,
           337.42857142857144,
           80.33333333333333,
           233.55555555555554,
           215.33333333333334,
           189.1,
           170.55555555555554,
           369,
           227.71428571428572,
           227,
           169.91666666666666,
           8,
           125.66666666666667,
           129.5,
           197,
           38,
           162.36363636363637,
           15,
           9,
           3,
           31,
           12.5,
           340.1666666666667,
           217.125,
           31,
           109.71428571428571,
           14,
           59,
           104,
           3,
           115,
           31.5,
           792.1,
           541.4,
           549.9090909090909,
           245,
           843.4,
           163,
           720.2222222222222,
           273.3636363636364,
           508.3636363636364,
           592.6363636363636,
           103.125,
           156.2,
           282.54545454545456,
           225.0909090909091,
           231.66666666666666,
           76.75,
           330.14285714285717,
           483.54545454545456,
           383.90909090909093,
           133,
           17.5,
           71,
           344.625,
           35.25,
           68.66666666666667,
           108.28571428571429,
           348.1666666666667,
           302.42857142857144,
           34,
           41.333333333333336,
           23,
           27.25,
           469.6666666666667,
           64.5,
           209.5,
           7,
           3,
           217,
           313.1111111111111,
           33.5,
           59,
           63.5,
           0,
           25.5,
           92,
           5,
           20,
           87.71428571428571,
           5,
           66,
           5,
           117,
           156.4,
           280.375,
           259.7142857142857,
           337.3333333333333,
           15,
           176,
           376.09090909090907,
           111,
           40,
           60,
           3,
           93.5,
           45.666666666666664,
           8,
           151.44444444444446,
           8,
           21,
           7.666666666666667,
           19,
           717,
           318,
           600.3,
           481.5,
           596.1111111111111,
           167.66666666666666,
           260.6,
           432.75,
           711.2,
           127.16666666666667,
           691.5,
           325.4,
           490.5,
           405,
           582.9,
           851.7,
           168,
           146,
           641.8,
           192.33333333333334,
           110.5,
           495.5,
           274.4,
           461.5,
           211,
           91,
           121,
           305,
           307.7,
           618.6,
           465.2857142857143,
           8,
           198.16666666666666,
           229.5,
           15,
           152,
           48,
           307.44444444444446,
           116,
           205.25,
           71.5,
           95.6,
           34,
           195,
           48.333333333333336,
           37.333333333333336,
           14,
           1,
           36.5,
           290.5,
           35,
           39.8,
           280.4,
           433,
           13,
           71,
           77,
           8,
           13,
           3,
           39.5,
           6,
           5,
           7.75,
           101,
           14.5,
           180,
           78.6,
           176.33333333333334,
           2,
           982.7777777777778,
           372.75,
           771.6666666666666,
           431.25,
           271,
           786.3333333333334,
           318,
           802.3333333333334,
           584.6666666666666,
           313.77777777777777,
           127.66666666666667,
           323.22222222222223,
           110.75,
           322.625,
           254.66666666666666,
           1,
           281.125,
           275.8333333333333,
           249.2,
           411.44444444444446,
           433.4,
           6,
           64.33333333333333,
           27.75,
           257.5,
           197.28571428571428,
           86,
           113.66666666666667,
           67.66666666666667,
           178.66666666666666,
           264.8,
           50,
           257.6666666666667,
           325.44444444444446,
           58.666666666666664,
           113,
           64.33333333333333,
           568,
           377.22222222222223,
           76.5,
           98,
           200.33333333333334,
           62,
           119,
           67,
           23,
           62.5,
           244.625,
           11,
           73,
           21.5,
           3.5,
           104.5,
           182,
           12.5,
           213.5,
           30.5,
           137.5,
           109,
           62.75,
           226,
           295.77777777777777,
           29.5,
           0,
           244.2,
           208.25,
           107,
           5,
           22,
           4,
           177.66666666666666,
           62,
           101.5,
           183,
           189.75,
           2,
           256.7142857142857,
           10.333333333333334,
           29.666666666666668,
           61,
           3,
           14,
           242.55555555555554,
           344.57142857142856,
           353.5,
           184.57142857142858,
           109.71428571428571,
           125.75,
           166.25,
           219.5,
           73,
           9,
           677.5,
           352.5,
           617.125,
           191.625,
           4.5,
           61.5,
           357.75,
           103.16666666666667,
           14,
           9,
           92,
           312.125,
           383.75,
           46.4,
           421.375,
           375.375,
           114.75,
           127.66666666666667,
           303.625,
           32,
           234.66666666666666,
           114.25,
           39,
           210.25,
           470.625,
           320.4,
           235.5,
           494.875,
           378,
           11,
           150.75,
           341.25,
           8.666666666666666,
           571.875,
           893.625,
           44.333333333333336,
           28,
           11,
           63.5,
           10,
           105.33333333333333,
           155.57142857142858,
           21,
           64.66666666666667,
           9,
           146.625,
           134.375,
           156.33333333333334,
           133.5,
           205.75,
           41.5,
           53.5,
           123,
           67,
           155,
           1,
           176.71428571428572,
           110.5,
           0.5,
           8,
           3,
           23.5,
           72.85714285714286,
           130.4,
           0,
           329.25,
           49.666666666666664,
           31,
           0,
           17.5,
           69,
           136.5,
           10,
           21,
           1.5,
           15.5,
           172.33333333333334,
           122.5,
           565.7142857142857,
           138.75,
           116.33333333333333,
           549.5714285714286,
           160,
           609.8571428571429,
           30.5,
           144.66666666666666,
           54,
           26,
           108,
           340.85714285714283,
           263.14285714285717,
           169.2,
           312.42857142857144,
           33,
           186.5,
           77.5,
           141.42857142857142,
           18.25,
           388.85714285714283,
           206.14285714285714,
           268.57142857142856,
           86.5,
           185,
           467.14285714285717,
           499.85714285714283,
           20,
           273.14285714285717,
           253,
           243.85714285714286,
           92.5,
           156.28571428571428,
           710.2857142857143,
           4,
           24.5,
           120,
           58.75,
           14.333333333333334,
           5,
           936.1428571428571,
           415.14285714285717,
           696.6,
           28,
           91,
           117.5,
           0,
           130.66666666666666,
           33.75,
           26.666666666666668,
           22.5,
           18,
           392,
           0,
           496.85714285714283,
           372.75,
           470.85714285714283,
           24,
           28.714285714285715,
           794.8333333333334,
           585.8,
           12,
           43,
           242.85714285714286,
           2,
           24.5,
           121.85714285714286,
           196,
           1,
           102,
           219.71428571428572,
           16,
           190.57142857142858,
           2,
           11.5,
           7,
           16,
           29,
           9,
           1,
           400.6666666666667,
           331.5,
           438.8,
           218,
           10,
           105,
           26.333333333333332,
           537.6666666666666,
           173,
           12.333333333333334,
           242,
           11,
           158.75,
           517,
           836.8333333333334,
           332.6666666666667,
           274.3333333333333,
           464.6666666666667,
           378.1666666666667,
           287.8333333333333,
           819.3333333333334,
           134.16666666666666,
           483.1666666666667,
           232.5,
           214.66666666666666,
           180.6,
           421.8333333333333,
           145.5,
           71,
           190.6,
           40.333333333333336,
           22.5,
           39,
           338.3333333333333,
           353.1666666666667,
           286.3333333333333,
           5,
           65.5,
           171.25,
           119.6,
           44.666666666666664,
           107.83333333333333,
           246.6,
           384.3333333333333,
           58,
           97.33333333333333,
           83.5,
           304.5,
           5,
           242.8,
           80,
           37,
           142.5,
           279.75,
           5.5,
           123.33333333333333,
           168.66666666666666,
           5,
           14.666666666666666,
           79,
           105.75,
           6.333333333333333,
           2,
           1,
           109,
           0,
           1,
           30.5,
           219.5,
           48.5,
           27,
           38.666666666666664,
           24,
           788.5,
           91.75,
           630.4,
           44.333333333333336,
           202,
           231.6,
           111,
           284.4,
           36,
           473.4,
           645.6,
           7.666666666666667,
           24,
           75.8,
           196.75,
           416.6,
           115.8,
           492.25,
           563.4,
           296.6,
           292,
           7,
           13,
           254.33333333333334,
           176.25,
           31,
           54.666666666666664,
           510,
           191.8,
           8.5,
           481.6,
           164.5,
           93.5,
           6,
           21.5,
           32,
           104.2,
           78.8,
           63.4,
           6,
           6,
           29.4,
           31.333333333333332,
           162,
           549.8,
           19,
           213.5,
           76.66666666666667,
           1,
           118.5,
           127.4,
           156.66666666666666,
           2,
           186,
           125.75,
           45,
           36,
           8.5,
           157.5,
           144.66666666666666,
           5,
           103.6,
           36.5,
           301.6,
           170.6,
           292.6,
           71,
           123,
           101.75,
           90,
           27,
           16.5,
           101.5,
           23,
           85.75,
           216.2,
           19.333333333333332,
           4,
           82,
           4,
           89,
           12,
           2,
           19,
           20,
           38,
           152.6,
           155,
           133.75,
           15,
           51,
           166.4,
           80.75,
           10,
           14,
           244,
           258.5,
           467,
           733.5,
           727,
           227.25,
           227.33333333333334,
           342.75,
           184.25,
           355.75,
           830.5,
           217.5,
           168,
           548,
           189,
           12.25,
           236.75,
           221.66666666666666,
           456.75,
           6,
           593,
           61,
           68.75,
           87.33333333333333,
           105,
           56.5,
           111.5,
           101.5,
           174.5,
           510.75,
           4,
           66,
           241.75,
           202.66666666666666,
           47.666666666666664,
           174.25,
           51,
           253.75,
           16,
           80.25,
           144.75,
           112,
           36.5,
           59,
           476.5,
           157.5,
           67,
           202.75,
           20,
           281.75,
           16.5,
           177.5,
           75,
           129.75,
           24,
           6,
           9,
           23,
           64.25,
           35.5,
           48,
           19,
           136.25,
           3,
           2,
           142,
           70.5,
           34,
           254.5,
           151.75,
           198,
           126.25,
           1,
           11.5,
           3,
           7,
           24,
           14,
           0,
           17,
           50,
           28,
           5,
           10,
           24,
           4.666666666666667,
           104,
           15,
           14.5,
           33,
           1,
           8,
           6.5,
           19,
           55,
           2,
           16,
           5,
           27,
           109.66666666666667,
           5.333333333333333,
           9,
           379,
           178.33333333333334,
           90.33333333333333,
           5.5,
           298,
           365.3333333333333,
           312,
           227.33333333333334,
           359.6666666666667,
           84,
           353,
           256,
           187,
           2,
           66.5,
           102,
           16.5,
           578.6666666666666,
           221.66666666666666,
           13,
           7,
           243.66666666666666,
           308.3333333333333,
           125.66666666666667,
           299,
           32.333333333333336,
           0,
           268.6666666666667,
           89,
           130,
           3,
           201.33333333333334,
           79.33333333333333,
           216.33333333333334,
           121,
           1,
           227.66666666666666,
           7,
           335.5,
           87.66666666666667,
           269.3333333333333,
           860.6666666666666,
           126.33333333333333,
           154.33333333333334,
           13,
           150.5,
           25.333333333333332,
           186,
           219.5,
           85.33333333333333,
           139.33333333333334,
           205.33333333333334,
           377.5,
           155.66666666666666,
           723.3333333333334,
           696,
           729.6666666666666,
           34.333333333333336,
           23.5,
           50,
           3,
           18,
           111.5,
           47,
           0,
           0,
           191.5,
           131.66666666666666,
           53,
           134,
           484.5,
           13,
           214,
           121,
           74,
           56.5,
           8,
           1,
           13,
           31,
           81.5,
           19.666666666666668,
           5,
           28,
           6,
           21,
           2.5,
           22,
           63.5,
           65.33333333333333,
           8.5,
           430.5,
           50.333333333333336,
           70,
           3,
           7,
           20.5,
           6,
           0,
           126,
           80,
           17,
           39,
           23,
           47,
           98.33333333333333,
           16.5,
           78.5,
           5,
           22,
           10,
           13,
           8,
           35,
           41,
           32,
           32,
           21.5,
           13,
           2.5,
           12,
           37.5,
           159,
           57,
           7,
           6,
           20.5,
           10,
           26.5,
           674.5,
           640.5,
           220.5,
           737,
           266,
           432,
           231.5,
           416.5,
           152.5,
           469.5,
           260.5,
           186,
           367.5,
           295.5,
           47,
           89.5,
           183,
           25,
           234.5,
           290,
           16,
           34,
           139,
           90.5,
           213.5,
           14,
           179.5,
           22,
           53,
           187.5,
           91,
           140.5,
           25.5,
           16.5,
           7,
           112.5,
           4,
           106,
           73,
           12,
           377.5,
           217.5,
           276.5,
           160.5,
           35,
           31,
           104,
           24,
           35.5,
           20.5,
           116.5,
           53,
           12,
           11,
           5,
           64,
           19.5,
           1.5,
           35,
           17.5,
           54.5,
           11,
           28,
           24.5,
           7,
           18.5,
           53.5,
           2,
           45,
           22.5,
           0,
           86.5,
           74,
           2,
           28.5,
           49,
           3,
           82.5,
           22,
           17.5,
           2,
           12,
           12,
           691,
           411,
           330,
           129,
           144,
           124,
           146,
           323,
           153,
           345,
           390,
           227,
           70,
           380,
           29,
           301,
           326,
           9,
           231,
           226,
           68,
           169,
           217,
           54,
           19,
           47,
           33,
           18,
           7,
           346,
           45,
           277,
           72,
           201,
           27,
           30,
           73,
           172,
           170,
           8,
           0,
           111,
           27,
           23,
           8,
           41,
           11,
           16,
           228,
           14,
           58,
           62,
           57,
           36,
           126,
           222,
           67,
           3,
           45,
           47,
           1,
           187,
           25,
           11,
           430,
           36,
           0,
           99,
           0,
           49,
           84,
           52
          ],
          "sizemode": "area",
          "sizeref": 3.815625,
          "symbol": "circle"
         },
         "mode": "markers",
         "name": "",
         "showlegend": false,
         "type": "scattergl",
         "x": [
          -0.027767833055048284,
          -0.5332497867044153,
          -0.020163927773651925,
          -0.08190854709428351,
          -0.43003434579232064,
          -0.8846847233871169,
          0.3435193911804016,
          -0.9327441950848288,
          2.4811721291522995,
          -0.033399199866752854,
          0.17950266826838232,
          -0.8700663425203906,
          -0.5366178300274781,
          -1.1435058228067039,
          0.38819242076402377,
          -0.5865178962058072,
          -0.2553728075764085,
          -0.3547363015625441,
          -0.5526219940531918,
          -0.3899326545898273,
          -1.055660508393597,
          -0.3006054096516639,
          0.038910319416181886,
          -0.8756559108631602,
          -0.01972208362863184,
          -0.6577609364464534,
          0.06748741109859098,
          -0.10433802577332009,
          -0.951724667328606,
          6.424801219603814,
          1.1875806310045962,
          -0.1519024418360529,
          -0.37126749376686013,
          -0.0023601579582255834,
          -0.09426217487505109,
          -0.6568322104305372,
          -0.5958650856417601,
          -0.5907814814406624,
          0.6660235736333991,
          -0.0027399897437542903,
          0.4042688542977284,
          -1.8716144080963695,
          -0.09505700621809282,
          -0.2688514240798891,
          -0.6087884312574832,
          -0.2166043340365586,
          3.868116697439637,
          -1.8695961844171483,
          2.024617135822441,
          -0.4220191917018889,
          1.5899260024359572,
          -0.9403614978260243,
          -0.12514084351506854,
          0.45211426053342585,
          -0.03911296657033765,
          -1.2713216110878365,
          -0.8586958079315556,
          -0.780501810502223,
          -0.7293873278754067,
          0.10868684024081134,
          -0.9683484305811224,
          0.5060059799123299,
          0.6572117535910964,
          -0.2823300405833709,
          1.6160048727884566,
          0.8827335662175264,
          -0.061600949900469236,
          -1.18549711917805,
          2.8802462992392392,
          -0.3439829332329062,
          -0.03729179536185871,
          2.499231536800625,
          0.3620858840851601,
          2.504549768746651,
          -0.17183898523748747,
          -0.8129556129090914,
          -0.610579987661818,
          -0.21273873561844123,
          -1.4899571776760703,
          -1.6875831205311984,
          4.489933696542136,
          -0.7410122869639212,
          0.07052164284008626,
          0.09800594537127348,
          -0.3111298415987135,
          -0.6647601138358441,
          1.0620929733788411,
          0.15442297443555883,
          -0.13184227321538308,
          -0.13223428654804487,
          -1.0264257931009024,
          -0.018839378099752484,
          -1.5685657285831593,
          -0.11382467277008622,
          1.0317888354420126,
          -0.9615949685620949,
          -1.9193630856905661,
          -0.2764875797587975,
          0.020993557060213296,
          0.7561513015905806,
          0.0359603277663928,
          3.0220623930690333,
          0.07847373288535198,
          -1.656378044235377,
          -0.5257922113855162,
          2.375998574974614,
          -0.14013234451227816,
          -0.6573841591685912,
          -1.1554722287167822,
          -0.17654980236450363,
          -0.2710978601638065,
          -0.713242978379674,
          -1.0651541351198643,
          -0.473481864213235,
          0.7863251820640708,
          4.909072219085777,
          0.17180714444858722,
          2.084412443484274,
          -0.04817621392496404,
          0.5384985194373466,
          2.357062804737628,
          -0.6484894986961791,
          0.39816975016052536,
          0.898761322528751,
          -0.4968798793938049,
          1.9037953708957551,
          0.04485977981496305,
          -0.8114402274195899,
          -0.2870349322200064,
          -0.5047271537472244,
          0.9872516755233934,
          -2.1196141534783774,
          -0.32662993223113773,
          0.1970706036721514,
          0.20102343043537155,
          -1.5940309396200556,
          -0.20237414113717625,
          0.1531046649492818,
          0.22603602416441818,
          -0.6583581248015273,
          3.035411353923216,
          -0.003651760788212383,
          1.7165395245057182,
          -0.10253509287087076,
          -0.4040014144463934,
          1.5416087969138517,
          0.40525138115866716,
          -0.48830543095716356,
          3.406142099359468,
          -0.7505686613857019,
          -0.009120342979947493,
          -1.3848844200368824,
          -0.6470124759398693,
          -0.472808401762873,
          -0.43294764483659304,
          0.5671329593372915,
          -0.23235740338181868,
          -0.2030858394243095,
          -1.082588175598681,
          -0.2972547215832557,
          0.4894437804471085,
          2.5664586807145957,
          2.0453728447209447,
          0.9978911612434573,
          0.4827152976713502,
          -0.00001040400421519127,
          0.3733753388956555,
          0.14791295920186506,
          -0.04749454274193774,
          0.5754071588723126,
          0.2477560568020122,
          -1.151732299489558,
          0.20970749309822115,
          -0.017030366275934627,
          1.5593286322705797,
          -0.20639847610124815,
          -0.41209560539547235,
          1.5219359810421322,
          -0.5796345675629055,
          -0.4757248090365317,
          -0.003192944159252428,
          -1.164414241276388,
          0.3728154454107369,
          -0.4418842331685171,
          0.6352053806598353,
          -0.5904089907025295,
          -0.47263341961878685,
          0.6956224076137701,
          -0.7156003080903754,
          2.5477610183254846,
          1.915984980055622,
          0.31665690131070545,
          -0.7005937048669238,
          -0.8748237869251673,
          -1.3878416234213793,
          -1.0403953625192777,
          0.054786986836623426,
          -1.2748460127060752,
          -0.050970996214730405,
          -0.8890194688392046,
          -0.9173014775889101,
          2.545372933529634,
          -0.016174370513912475,
          -0.9001475156829962,
          1.3785728717581012,
          -0.002163409070357155,
          2.648547127841394,
          1.5002320931588649,
          -1.1474676874511789,
          -0.3242727040875167,
          -0.22167626631771792,
          7.970318741724279,
          0.17558558146921097,
          -1.2707606258140935,
          0.6027556727290364,
          -0.6135311280564631,
          0.3472369214206077,
          1.371451661482306,
          1.3879705943691405,
          -0.5786396658131047,
          0.2594842548905291,
          3.0042093068294307,
          -1.115344621308827,
          0.0140890548718641,
          0.5132242575122463,
          -1.0471454596365202,
          2.1455410821870857,
          -0.05669710371285724,
          -0.679744933480305,
          -0.7195004567190626,
          -1.2911773891728788,
          -0.07806619108709956,
          0.014613868494418421,
          -0.4286498520795978,
          1.0125154881951508,
          -0.3477938152883902,
          -0.8151452266935901,
          -0.6380754868071566,
          -1.538173912240684,
          -0.6968263028099675,
          1.8000483467071788,
          -1.624567370984337,
          2.34685867268659,
          0.28744284835034134,
          0.3620482066324487,
          -1.3793301379597842,
          -0.30848393146263897,
          -1.3308372789467198,
          0.2849154221578345,
          -0.8697817474396429,
          0.6247367414779692,
          -0.7975106406752982,
          0.13258965808246306,
          -0.879774797751323,
          0.135229989248376,
          0.054848417936377035,
          -1.2419006374584127,
          -2.004644686014832,
          -0.5012765987812442,
          -0.9301285806609135,
          -0.38167825666735344,
          0.3455736507780592,
          -1.0367057054918392,
          -1.377752555241131,
          -1.152222666466944,
          -1.1605088072858207,
          0.2767100935454524,
          -0.8023090180955217,
          0.0006412470208948918,
          -0.44923948727980534,
          -0.05669710371285724,
          0.3582107817406057,
          0.17886173041694506,
          4.204978143525621,
          0.30604798208307826,
          0.25458630784771985,
          -0.025163081336657452,
          2.05765126809334,
          0.18381837445745405,
          0.7301540674911513,
          -0.6465630218181059,
          0.33181228315389333,
          0.2753403914211936,
          1.376861017285727,
          -0.7255948086880203,
          -0.3316663104082887,
          1.0929487269408567,
          -1.0946692344774458,
          0.3506285031630693,
          -0.1382684657935297,
          0.25453623692420674,
          -0.3661650863241411,
          -0.05771961048740682,
          1.3795303554515985,
          0.41617747987300285,
          0.2983172160651356,
          -0.6796728068861976,
          0.2037679680584917,
          0.21850216970841083,
          0.2592936849460468,
          -1.7751134701830278,
          -0.24678865112216194,
          1.098336839245382,
          -0.7892348943189338,
          1.42898648959272,
          -0.6486178231392814,
          -0.008805890756251433,
          0.5368786095785515,
          -0.9502725519657103,
          -0.14912488300719404,
          1.7138189230303287,
          -0.016741597317512243,
          -0.4143459288104862,
          -0.03488362585585782,
          -0.7540640315227027,
          -0.06605780345215655,
          -0.31660217061864987,
          -1.042255487003898,
          2.3582020593281148,
          -0.10246769047810861,
          2.080608105688,
          -0.02867856348731436,
          -1.038288296044546,
          0.10850618053827858,
          0.6074459138014912,
          0.6807372235389697,
          0.7068398513153351,
          -0.17034142818635345,
          2.303549992150666,
          0.017570851205113105,
          0.12469995864295012,
          1.4649273904611873,
          0.15490899393920152,
          0.11271825355528088,
          -0.3147780609453377,
          0.5382977763206145,
          -0.34292326779843285,
          0.4410284158101278,
          1.7078144589630064,
          -0.65257894592703,
          0.41310367418479266,
          0.12885380408684338,
          -0.22392270240162732,
          1.2515135602989782,
          -0.8560603678272528,
          0.7990727166930746,
          -1.162700981297709,
          -0.3924284900879991,
          -0.16822611735911697,
          0.34443507786465244,
          2.683643159570622,
          0.9108485493338374,
          -1.2874176847088645,
          -0.4353777818526009,
          -0.07804135323434007,
          -0.3284054343199487,
          -1.5661082195505092,
          -0.6673319274899183,
          1.6775783000274926,
          -0.08193112761085154,
          1.5871157666921156,
          0.8149898575741615,
          -0.17034142818635345,
          -0.008057062161961235,
          -0.17411756364561146,
          2.6337460662329675,
          0.41936864754251507,
          -3.4551470017519703,
          -3.397745067145581,
          1.229202038269551,
          -2.883963957741162,
          -0.40470155648841705,
          -0.9877129661614968,
          -0.8698753787435805,
          0.5911385337910158,
          0.553240344426445,
          -2.30385891358142,
          4.218973844612506,
          -0.3633856335699503,
          -1.4776107774541951,
          -1.0911813797369097,
          0.3416886585529797,
          -0.046346431805476256,
          1.1996604855435142,
          0.600002486532095,
          0.7520535206927915,
          0.5059477104300337,
          -0.4570982441449276,
          0.2936776523747937,
          1.0258868792730456,
          1.4891707418574902,
          2.851145118179588,
          -1.6436629482859364,
          -1.1624594627517286,
          4.229311811047905,
          -0.2874164158456122,
          0.4519054256224814,
          -0.262881759005602,
          0.32702338277092563,
          0.6088778358160643,
          -0.8986044002654721,
          0.19563658830563388,
          0.6851784807934331,
          0.5494818100209315,
          0.6802411147421648,
          0.574824823417025,
          -1.2001520808275554,
          0.3607382079331123,
          -0.41927989962968815,
          0.6401371675401979,
          0.5114588013616622,
          -0.6410333025975016,
          -0.02083833647845925,
          -1.4532229953792006,
          0.7304678617665704,
          -0.3111298415987135,
          -0.8297184530666043,
          -0.18587843133063622,
          -0.7970799145766372,
          -0.272379753085702,
          -0.3098070344360484,
          0.38115265601146436,
          -0.7607078930208199,
          -0.296762881317275,
          0.05561583669141801,
          -0.6740718413170016,
          -0.0573787748958931,
          -0.42736262776216966,
          0.7756023903981129,
          -0.6558884466868812,
          0.20778638669028682,
          -0.7362265891298314,
          -0.13509749723325892,
          0.06391540383665319,
          -1.1553186365871153,
          -1.1380524394043623,
          -0.4421037495825927,
          0.18634580064996625,
          -0.5451392434135788,
          -0.803237094811014,
          0.3005571116375621,
          -0.5795610969345457,
          -0.3684076443345774,
          -0.30930573192538624,
          -0.3260302736524549,
          -0.0573787748958931,
          -0.5247505087185448,
          0.3733753388956555,
          -1.1638195420931725,
          1.8506521194320524,
          -1.03850476485446,
          -0.4190060925200548,
          -0.05669710371285724,
          -0.056015432529825465,
          0.06245625262795328,
          -0.1844643968737176,
          -0.7452599092224343,
          -0.3385970970455743,
          0.33293651981551303,
          -0.31295395127202646,
          -0.31911258966209594,
          0.48106727704114055,
          -0.30703069088085505,
          -0.31660217061864987,
          -0.4818541968414735,
          -0.37956992610957346,
          -0.15812026126132933,
          -0.8401651073463313,
          -0.000554449483635942,
          0.4018751457551822,
          -1.1861100200949708,
          -0.2965369642121875,
          -0.2454618933593612,
          -0.6292533741958791,
          -0.5618572387532407,
          -0.0506016134180947,
          -0.31378014575815283,
          -0.8711769459342451,
          0.21180480532207888,
          -0.23728803988349886,
          -0.34705233790359763,
          2.4544018769677227,
          -1.3249081949825692,
          1.671930737089033,
          -0.09803292385190845,
          -0.458003201786729,
          -3.546924987214268,
          -1.3804458980783942,
          -0.6227756273281249,
          -4.657218208498279,
          -1.455927389428268,
          -0.8636288668082187,
          -1.1141602501469399,
          -0.9868095486800778,
          -2.381119741812129,
          -0.4419862338073827,
          -0.3011536932945731,
          0.8293204812224346,
          0.3903535024932448,
          -1.1274399878261272,
          -0.22606100921462208,
          1.6286675836748181,
          0.510611302640301,
          0.0739827266950088,
          0.24006734241343755,
          -0.1046214069710754,
          -0.1334702611019765,
          -0.023695143137720535,
          0.6682363615282081,
          0.6530341669488591,
          0.7585076556684359,
          0.41807994257546865,
          0.27289410953037374,
          0.34304622458553846,
          0.34304622458553846,
          0.14950749562623555,
          0.5915826951049477,
          -0.501226178578729,
          0.39388895559747317,
          2.1447575667889733,
          -0.6477099973743167,
          0.2711294717169202,
          0.20503386688037142,
          0.4170066652893766,
          0.2656712850569538,
          0.20881442567950664,
          0.49323527755337426,
          2.1508314299490334,
          -0.3111298415987135,
          -1.3876230753928955,
          -0.3357075080458723,
          -1.138322771046269,
          0.22358979598525924,
          -0.340794003685703,
          0.5886614845396081,
          -0.30018518355881835,
          0.422545629665998,
          -0.7213754586747746,
          0.3737954189413409,
          0.44945622727364887,
          0.3657930603181367,
          -0.21718339414989393,
          -1.869573620864686,
          -0.7608721500013083,
          -0.34282446510442843,
          -0.628792809975446,
          -0.9540766593274453,
          0.5347611379263421,
          0.1073530798960402,
          -0.4245942790101596,
          -0.8803334624927135,
          -0.20350737087312193,
          -0.41667575564161263,
          -0.42736262776216966,
          -0.8454359620963813,
          -1.3207802904068235,
          -1.9453265591545619,
          -1.8489501586931782,
          2.844382257188136,
          2.2053821638914544,
          0.4619897728275047,
          -0.3917379099735138,
          -2.0233391661397717,
          4.470547401279468,
          1.0394484918793703,
          0.01896598760661796,
          -1.2955667303382834,
          -0.42370528317416095,
          -1.3585866198867305,
          1.6480638239607688,
          -0.735998567636171,
          0.9428859502749566,
          0.3779685811149714,
          -1.5730742804899926,
          0.30261196930062156,
          -2.3375737085718638,
          -0.3072588057753248,
          0.34666789353994304,
          -0.17638788660052993,
          -2.0024512461632997,
          0.7426004646267238,
          0.7003012485128274,
          0.6773129063749075,
          0.4366845575467427,
          -0.4390889854455249,
          1.3551338703774964,
          -2.1618250421994203,
          -0.24555225790749263,
          -0.027275725345736353,
          1.5604304962054663,
          -0.9847672002159646,
          0.41936155476949727,
          0.3657930603181367,
          1.3363714173888552,
          0.16052402250745595,
          1.324738357946624,
          0.41936155476949727,
          -0.6868468238094009,
          -1.2753054662113108,
          0.5493106301965536,
          0.6514234694345169,
          0.422545629665998,
          0.7083776747379465,
          0.21239668649681812,
          0.04227099824496176,
          -0.9303322927469596,
          -0.5674567020322675,
          -1.4495113998776592,
          0.2881773912390354,
          -0.7220161066114376,
          -1.0324672977098779,
          -0.6353393361820708,
          0.3733753388956555,
          2.101833018507857,
          -0.4371010437047708,
          0.41617747987300285,
          0.2171626968311487,
          0.2171626968311487,
          -0.057037939304370934,
          0.39388895559747317,
          -0.32334470624039596,
          -0.42736262776216966,
          -0.2410882843789588,
          -0.011894863223679046,
          0.34051879839304516,
          -1.853448102933192,
          -0.42736262776216966,
          -0.4353777818526009,
          -0.37772739615304535,
          1.4164032598445688,
          0.5740340056944734,
          0.21850216970841083,
          0.6639989634338563,
          0.32702338277092563,
          0.6526375982190465,
          -2.0089687741988724,
          -2.0843470879686166,
          -0.06347714457460128,
          0.1535855334890432,
          0.7480882625343541,
          -1.6824108408391762,
          0.05296447469214296,
          3.5795148157094623,
          0.5998909548086122,
          1.1742015306750255,
          0.7222334801013207,
          -0.010918152076068232,
          0.25636423148826815,
          0.6786547642309341,
          -0.3615945069827914,
          0.7240718797808479,
          -1.4318554171668478,
          0.5962068736578366,
          -0.14333506265394622,
          0.14961718421918951,
          -1.4003812142496537,
          -0.8870506512454004,
          -1.2043588391639786,
          0.953894006513574,
          -0.09030765430033472,
          -0.11198871424875922,
          -0.681892330151586,
          0.7079688621388404,
          0.3416886585529797,
          -1.2832419483336135,
          0.5213884111569089,
          0.018208342609197233,
          -1.2534231547914867,
          0.43063251568410016,
          0.16778909736936934,
          0.016238204319820718,
          0.40980933008000486,
          -0.3383094375410561,
          -1.1384881171175494,
          0.27791100940624097,
          0.41617747987300285,
          0.15516413366477716,
          0.7642342882189845,
          0.04717053761831127,
          0.38115265601146436,
          1.6858887942875802,
          0.5892908717990443,
          0.41936155476949727,
          -0.3867656236433579,
          0.422545629665998,
          0.8760799868309846,
          -0.26552709976582584,
          0.3733753388956555,
          -0.9970095805062961,
          0.5622711383227091,
          -0.0457903647843565,
          0.422545629665998,
          -0.36247454800735757,
          -0.2402546337805621,
          -1.294067589375846,
          0.17563903763588634,
          -0.11561114936640943,
          -1.580868466700858,
          -2.0707629906058918,
          -1.423722749678056,
          -2.217645813990039,
          0.26484850946656807,
          -1.1715106660703993,
          1.3386875159550582,
          -0.4004199851214279,
          -0.4222677419351529,
          1.0001428246289823,
          -0.8559622816445566,
          -0.4764886793649411,
          -0.3089644899285814,
          0.7607714234072009,
          0.3887605391741657,
          0.3935429441819225,
          -2.1032101838193307,
          -2.1863797080034866,
          -0.4783192035979577,
          -1.3807373212384868,
          0.4828916086909237,
          -2.930175642780329,
          0.6696024511762004,
          0.3006557531149096,
          -0.8652486126164927,
          -0.03711894050056823,
          0.7124050725249892,
          -1.8842064301434984,
          -0.7592661961471936,
          -0.3939674686945026,
          0.62249759457449,
          0.902207073565043,
          -0.6778805331640365,
          0.1390747134541519,
          0.33293651981551303,
          0.6764119186950593,
          -0.6479958381200238,
          1.034555301715775,
          0.055972643544686965,
          0.46029601247099217,
          -1.338293805151414,
          -1.2871376766607494,
          0.4409936980404859,
          -0.5551109768328539,
          -0.2756010876417356,
          0.33040909362299303,
          0.3737954189413409,
          0.39388895559747317,
          -0.086401479958561,
          -0.17415155433581775,
          -0.3038334029054514,
          -0.11503195124580826,
          0.09018570217744756,
          -0.7010337745780756,
          -0.3681514920070197,
          0.3733753388956555,
          -0.31477806094533767,
          -1.1505481451159243,
          -0.23269312564616132,
          -0.35988675454665864,
          -1.3151714670916819,
          0.6123911253059083,
          0.21180480532207888,
          -1.317630721839847,
          0.23792688350202687,
          2.0315214612814176,
          -4.545681217573554,
          -2.065195207469853,
          -1.6682233559491153,
          0.36330726592401846,
          -0.5730796334309248,
          0.008831003369744309,
          0.7674855122568409,
          0.9219109467210741,
          -1.5869848939055242,
          -1.4618111615737233,
          -1.6122998015651475,
          -0.11363929926064921,
          0.7632172651573702,
          0.7935627786906192,
          -2.1391039534413347,
          2.1077151696935097,
          -0.15092182211196628,
          0.45240651901237866,
          0.6286021021543124,
          0.8964481863077796,
          0.07195936993124787,
          -0.9569102432798517,
          -0.1573518150088405,
          -0.8143376069597393,
          0.17177785058231973,
          -0.03606667826618584,
          0.760914210587523,
          0.5475136787947961,
          -0.12129341991436964,
          0.37111985557563776,
          0.12668040143967044,
          -0.9337263524039165,
          -3.8208912304145652,
          0.748446919448125,
          0.013276398213575895,
          -1.5740420636840038,
          1.0920506241142227,
          1.3064873789294327,
          0.3860395381871735,
          -0.3457713320158331,
          1.4067630331479375,
          -1.8777664494090234,
          0.5847562338548937,
          0.05323391567771194,
          0.3354639460080198,
          0.9716906917382582,
          -1.5760631816029298,
          0.30376481817490164,
          0.3970730304939892,
          -0.23444624346314533,
          -0.07995938226460324,
          -0.14329070711590333,
          0.34703978528436913,
          0.39070488070098264,
          -0.275590732331626,
          0.03258173757255654,
          0.7329952879590835,
          1.0482005525580615,
          -0.4952081632509625,
          -0.3009177600955835,
          -0.4371010437047708,
          0.36041760211285406,
          -0.7842468459287392,
          -2.2601049004265774,
          -0.09590507698402181,
          -0.7003934930610733,
          -2.694878366222469,
          0.7525736695112349,
          0.7718766393973177,
          2.178813244665638,
          -2.0513553956215165,
          -0.3332886694476037,
          -0.328284213267956,
          -1.2495291827496684,
          -0.9224587657162276,
          0.4428565413079495,
          -0.04324452640056238,
          0.9661300865069494,
          0.2820977061948197,
          -0.026647973624884733,
          0.5388417825929107,
          0.8441952298547852,
          -0.6324819068084843,
          0.8766191786313885,
          0.40533395592927735,
          1.7648012251966196,
          -1.0056008390542712,
          0.9593703386109231,
          2.2493886766535427,
          0.6146687511632885,
          -0.3991519970944177,
          0.7543065577103554,
          -0.6469516821854016,
          0.02255580910464209,
          -1.0979950208952534,
          2.40437648725286,
          -0.4464379286441859,
          0.30220117954345765,
          -0.03933750027475732,
          0.4315648183608631,
          0.31566995287664873,
          -0.07859597839032127,
          0.5137427730577945,
          1.1992187296153414,
          0.41617747987300285,
          0.35630226261621956,
          -0.6041083031859772,
          1.0048429618082675,
          5.07328562829609,
          -0.0573787748958931,
          0.2051074409357496,
          0.535309378858186,
          -0.04919872069950922,
          0.12913650588260275,
          0.7800005940791347,
          -0.061249491384273894,
          0.21850216970841083,
          -0.3038334029054514,
          -0.5296259161110889,
          0.15532287645034334,
          -0.021263475322250577,
          -0.019375247326378398,
          0.21850216970841083,
          0.36041760211285406,
          -1.1568434172929811,
          -1.051155503509951,
          -0.3673438252408038,
          1.721911450255228,
          -0.7126313506961919,
          -1.4012473173474873,
          -2.4936218116818507,
          3.576459839589092,
          -0.049381306029028925,
          -0.8664899229058824,
          -2.222547534353953,
          -0.07109188050863756,
          -0.4062703291681027,
          -0.9783939162640046,
          0.09935155716130505,
          -1.0367123489434509,
          -0.06825152777720413,
          0.903480112780799,
          0.40980933008000486,
          0.5825868070611252,
          6.3116668110728895,
          -0.5309020844534887,
          -0.22180361715617086,
          -0.33788927222509507,
          0.6842800786574388,
          -1.9194491291281282,
          -1.5118986550626858,
          0.026433752463870332,
          0.18695589229392687,
          -1.6852996944721697,
          -1.1129581407767983,
          -0.6731880309384383,
          0.18567314444778862,
          -0.821528587549349,
          -0.8655533893931977,
          0.1689416732495663,
          -0.9963521913963461,
          0.3080271247609237,
          0.3683204865106428,
          0.017305348087756176,
          -0.35317963000409147,
          -2.1491155096711423,
          -1.7025584899897088,
          -0.8389664454481575,
          0.40980933008000486,
          -1.9938384399353197,
          -0.8787250526522498,
          0.5336502299241553,
          0.20778638669028682,
          0.41936155476949727,
          0.6604557457037575,
          -0.6927065943340197,
          -0.6598614674172343,
          -0.988318761070953,
          0.7933935423691273,
          -0.31660217061864987,
          0.5434018522603448,
          -0.36254239302367425,
          0.3733753388956555,
          0.3390130951872804,
          0.5773055223259631,
          -0.022875668500959928,
          0.36844429220995334,
          -0.9138567216460107,
          0.7598803531625312,
          0.19974954942667994,
          0.422545629665998,
          0.12110300499894701,
          -0.2150405779003782,
          -0.23816545466609876,
          -0.057037939304370934,
          -1.5772323293655766,
          -0.8091221143193635,
          -2.899226200419719,
          0.7587429950748968,
          -1.587254686633117,
          -2.584548969853869,
          -2.6565588605545627,
          0.2828114321542791,
          -1.9653102443484276,
          0.8809927467220037,
          -1.0349180127254844,
          0.7290144088250383,
          -0.5869213673598025,
          0.026529516605852548,
          0.4898739981665712,
          0.47122227765521113,
          -2.4051934450371832,
          -1.1282914933171346,
          -0.3860463107755749,
          -0.9844354836535056,
          0.4729180661158509,
          0.7015586858848838,
          0.3229597149931049,
          -0.7828356717633266,
          0.9068460202266384,
          -0.2785609434001354,
          0.10653938028315268,
          0.703571916822769,
          0.4396659744015555,
          -0.1334506789978672,
          0.4691137460431792,
          0.03434549113299819,
          0.297552553120381,
          0.5759204772258882,
          -0.05357105415638473,
          0.46171820992802054,
          -1.7778876869616185,
          -0.8696541186933584,
          0.6123193828232713,
          -0.6617587891105331,
          0.24961041402638076,
          0.1782277308569502,
          0.8032174088157132,
          0.3278816674304877,
          0.5504009293503979,
          0.39388895559747317,
          -0.8554679229912446,
          -0.4299687820593031,
          0.2171626968311487,
          -0.3301755719738664,
          0.34931190704643533,
          -0.1969607745003931,
          0.6825459327323495,
          -0.10029430986871804,
          -0.47465172371885456,
          0.5481536655212882,
          0.3630931654785661,
          -1.081016188052687,
          -1.2181935177560712,
          1.1818757823190928,
          -0.40295791030242145,
          0.34873098649771217,
          -0.04851704951648334,
          -1.1717002925691984,
          0.6851792946580961,
          -0.41133231958133254,
          -3.027760783672593,
          -1.7679893468658068,
          -0.4876124706278941,
          -1.925448290090716,
          0.15132475092291536,
          -3.0661133245635432,
          -1.6703785818813208,
          -0.30166704324854754,
          -1.7399801961325307,
          -2.0867591265992402,
          0.035197042307772514,
          0.5426403166320799,
          -0.20654280757673404,
          0.5345666371990594,
          -0.4173926926300329,
          -1.7931763369657774,
          -0.015866147173376345,
          -0.8401161723542203,
          0.7665343457655579,
          -1.4868943718873835,
          0.1748565735653926,
          -1.1195901071114862,
          -0.4470337073371586,
          -0.02790285714442178,
          -0.4578217819958493,
          -0.6908830168485762,
          0.26501539745664127,
          0.615177262694091,
          2.744666350669417,
          0.2719264080215104,
          0.43596153982413166,
          0.6750541159760408,
          -1.5096263028973922,
          -0.9135585048366457,
          -1.245739080623024,
          0.484438550165951,
          0.8219890945157659,
          -0.43274624633920417,
          0.29407157339309337,
          0.13978115798204274,
          0.3764709823070522,
          0.0357030579504065,
          0.7344423300043089,
          0.6072082403980438,
          0.0227734946820509,
          -1.8332516435276824,
          -1.4379348482946506,
          0.34931190704643533,
          0.22797555737014538,
          0.7611832190341365,
          0.4946614085357297,
          -0.6154603418330924,
          4.5381900726089395,
          0.36311301309394683,
          0.38115265601146436,
          -0.5891321453817029,
          -0.05397041898073156,
          -1.1258461586356336,
          -0.43538071774627984,
          0.17193713511848135,
          0.5059477104300337,
          -0.051746403053434635,
          0.422545629665998,
          0.6519193125518423,
          -0.3826424872748522,
          0.3390130951872804,
          -0.31597863905786355,
          0.41936155476949727,
          0.8960944769798291,
          0.7272837868700488,
          0.12120407631409294,
          1.2539287103051309,
          -0.053629583389217986,
          0.4034411802869953,
          0.47324843074635353,
          0.6825748583673095,
          0.3683204865106428,
          -0.09138034400932894,
          -0.4124062264219034,
          -0.052947912206184417,
          0.36041760211285406,
          0.3607382079331123,
          0.3733753388956555,
          -0.5506004508228083,
          -1.0150074499396577,
          -0.3870739849263395,
          0.37084791270313205,
          -0.9678570667787045,
          -0.09011693715169604,
          -0.8058471796951582,
          -1.9569728531100479,
          3.2072415130797314,
          0.09381528397764358,
          -1.1111637368393077,
          -0.20099116581120058,
          -3.2180374717062765,
          -1.2285211491262735,
          -1.2982642090762637,
          1.0840727225153326,
          0.7923227342844062,
          1.5008350610041161,
          0.152210054148585,
          -1.0302842436679747,
          -2.129299561481016,
          0.954507663755938,
          0.19930391841228964,
          0.3273493584939325,
          0.8613220174542198,
          0.7187369956280983,
          0.11772295511176151,
          -2.134328317817047,
          0.8047486768475149,
          -0.07411396438829498,
          0.9676588493270194,
          -0.1406444000080231,
          -1.1839490869042895,
          0.28774058317002665,
          0.9749855289142667,
          0.7467622181535816,
          -0.07228058190706638,
          -0.0915140832247944,
          -1.5840273838775583,
          -0.26780883830019037,
          1.1518379355608037,
          -0.12241350391430093,
          -1.309062820151386,
          0.5560379228231567,
          0.36844429220995334,
          0.2480439407535764,
          0.7390277004702981,
          0.7582193112437406,
          0.775578058924236,
          0.35199715523683445,
          0.6524799855769813,
          1.0002471603845733,
          -0.12297087443486375,
          -0.5434641888019567,
          0.7712041867171198,
          0.3737954189413409,
          0.5390693640053756,
          0.28278136215187005,
          0.3970730304939892,
          -0.15083026142839479,
          0.2373416872907918,
          -0.9226345885347639,
          0.7332197645161087,
          -0.4872837673151118,
          -0.13419120328714534,
          0.6131432165708767,
          0.0534599133141934,
          0.1857167245564695,
          0.3779685811149714,
          0.6451773132308998,
          0.33098640509019495,
          0.3607382079331123,
          -0.7737772865458565,
          0.3737954189413409,
          0.3875208058044677,
          -0.4482301320585695,
          0.3764709823070522,
          0.39388895559747317,
          0.41617747987300285,
          0.3683204865106428,
          0.2051074409357496,
          1.1208403038944268,
          -0.0573787748958931,
          -0.3578979589785558,
          1.341870936507585,
          0.005316843553988347,
          -2.1335719267517663,
          0.41858198766191906,
          -0.7714466363019966,
          -0.656013354878956,
          0.04494219743641254,
          -0.5417668203758301,
          -0.4506479494264294,
          -0.8081091766270245,
          -1.817836004060176,
          0.5532040936581915,
          -0.702919245988715,
          0.4170640396401176,
          -0.7484814220004548,
          -1.7904742113674017,
          -1.6521690825035371,
          0.8411758071412131,
          0.3073889990539625,
          0.12633020712038062,
          -0.07948719124740608,
          1.2996586813682085,
          -1.0162994909761565,
          -0.9628632144397892,
          0.34311937093287015,
          0.6458203922440531,
          -0.7015131372575196,
          1.1429683463092315,
          0.005298445605709681,
          0.8594962954878728,
          0.5068214646142697,
          0.6176517307203778,
          0.6694370716407881,
          0.2533950674849774,
          -0.11417698815934854,
          0.59056690356735,
          -0.7532087033515277,
          1.3516249313803472,
          0.4129934049764918,
          0.4904086354587967,
          -0.3111298415987135,
          0.17563903763588634,
          0.4068526287983518,
          3.352054995931432,
          -0.46363004715740247,
          0.3733753388956555,
          0.2983172160651356,
          0.7787864652946372,
          -1.5279994239090209,
          0.31493302489600605,
          -1.912425238841553,
          -0.4862806805096745,
          0.306086117769356,
          0.10279185227803946,
          -1.047529646012037,
          -1.708669478683813,
          0.017395626682795307,
          0.5878590899722536,
          0.8436344246584576,
          0.7670428572963669,
          -0.04490573484896243,
          -0.5560759247124658,
          -0.3038334029054514,
          -0.41667575564161263,
          0.46704664280710806,
          0.11369036470522381,
          -2.046440367324174,
          -2.0339968265121424,
          -0.7922767069135728,
          1.5750187416557477,
          -2.085541188814416,
          -0.10205947944396203,
          -1.0407387971865818,
          0.565734087626596,
          -0.7501037186463856,
          -1.1142644719857262,
          -1.1121550095095523,
          -1.7770542296754162,
          -1.9080468157779082,
          0.6854024424061167,
          1.0644697035334518,
          -0.8393473389775976,
          -1.3204534215591106,
          -1.0346764164700737,
          -2.192355889066042,
          0.46447085107987823,
          -0.9895427213244965,
          0.013457509722014397,
          -0.3736041692001392,
          -1.09760938190528,
          -0.6517379755242856,
          -0.41971166759265943,
          -1.0450078230344961,
          0.31514390842898926,
          0.3592227315129731,
          0.7187848853784116,
          0.47539492060364025,
          0.36576872884424966,
          -0.237081517031482,
          0.11591395384884537,
          1.0946339829770277,
          -0.5993030771513893,
          -1.4998329367742613,
          0.9245863866096641,
          -0.49061440349685714,
          -0.756730873925313,
          0.6403213786787271,
          0.35568005683944076,
          -0.05771961048740682,
          3.169926045184527,
          0.7061685440526608,
          0.5362191374316697,
          0.7772719646416945,
          -0.4478419587231194,
          0.37111985557563776,
          0.38293764245509776,
          -1.1178827229840105,
          -0.2611990544944727,
          0.7568491153643454,
          0.41936155476949727,
          0.5642033827236853,
          0.3079189333919055,
          0.3461278321499389,
          0.08676451721014171,
          0.21582322395387485,
          0.07249962608638912,
          0.048427261203848736,
          0.2171626968311487,
          -0.8978532607010581,
          -0.8065212210849122,
          -4.289389843781693,
          0.9639297681175656,
          0.7028013767231771,
          -2.8463485649627587,
          0.2970476518488061,
          0.2541826655461294,
          -0.165219357159013,
          0.46492522909937134,
          1.2402128743978658,
          -2.336898721317863,
          0.42571403429057875,
          -0.39135437538915374,
          -0.7847956728120933,
          0.3777028113503746,
          0.7775974233041768,
          0.35231135241261496,
          0.3387574434515563,
          -0.9337204273787006,
          -0.18632320391413565,
          0.5613001359839846,
          -0.48896407413999626,
          -0.36530720619381324,
          0.39883807187515447,
          0.49336922514325054,
          2.2534968361744805,
          0.1739532991803021,
          -1.1611001651566453,
          -1.0598843540158962,
          0.46721220762785903,
          0.39258390117652825,
          0.08470010489360144,
          0.46636387730080275,
          -1.0833849059602083,
          1.187983957901977,
          -0.5198661630561401,
          -0.7890993417406807,
          0.8344889778355493,
          -1.306284126799735,
          0.25545380521706607,
          -0.7913163059487911,
          -0.952766468972064,
          -1.654130608786666,
          0.10342582710941728,
          0.15643310933965499,
          -0.3016233212027235,
          0.40980933008000486,
          -0.15657530524211644,
          0.0773400035130265,
          0.2735226888011959,
          -0.5583755966652965,
          -0.5371420391070982,
          0.35568335554808583,
          -0.31295395127202646,
          0.37084791270313205,
          0.33040909362299303,
          -0.8496259189246096,
          -0.9372847028610366,
          -0.5692935345227131,
          -0.29288874486555666,
          -1.0765058900649143,
          0.40662525518348636,
          0.18501534777675316,
          0.7331907592079616,
          -0.0573787748958931,
          -0.04135950209465375,
          0.5334436670523082,
          -2.936382204335753,
          -1.1561763831856784,
          -2.389100882069886,
          -0.9302903521037745,
          -4.5331084679228075,
          -0.6586029207777548,
          -4.023407394361818,
          -1.301674155656015,
          -1.4634937432042499,
          0.04437539788180524,
          0.31165778977167036,
          0.7595983851170635,
          -1.6440668688898767,
          -2.2626681050244146,
          -0.5301360209908222,
          0.7545514972048718,
          -0.7599598075733222,
          1.1034190674323692,
          -1.5307957088762432,
          0.6976719872336871,
          0.7680201118205968,
          0.5650166433179507,
          0.3775466938903443,
          0.7780612132239514,
          0.9472103451389976,
          -0.06553206574375126,
          -1.4593573179716262,
          -0.6449985860539519,
          0.975057713953374,
          0.42674211808895357,
          -0.05397041898073156,
          1.2380095569952307,
          2.983517813077164,
          0.5540411518142335,
          -0.6200266492008771,
          0.3683204865106428,
          0.3683204865106428,
          -0.1718883512851982,
          -0.7243745942023504,
          0.5360742064449504,
          0.913836891022118,
          -0.12130497184165143,
          0.3764709823070522,
          0.749596948221408,
          0.5498305786168204,
          0.37111985557563776,
          0.292491270847657,
          -0.45067193700733416,
          0.270637962235327,
          0.2908529546047327,
          0.21314427819935722,
          0.5323913153850153,
          0.04550346059802959,
          0.6624436637227962,
          -0.7162077637730945,
          -0.6128077862411111,
          0.40662525518348636,
          0.48814874027401906,
          2.218208728036651,
          0.04085841705952887,
          0.3278816674304877,
          -1.0697206419487932,
          0.3683204865106428,
          0.4215339640710449,
          -0.07350089114360218,
          -0.3715950963739204,
          -0.664302790301014,
          0.3683204865106428,
          0.20778638669028682,
          -0.7821259752270692,
          0.3970730304939892,
          -2.650294509414967,
          -0.5589025678780201,
          -2.756960828871799,
          -1.5927190712607118,
          -1.4276333640147176,
          0.44394209561894027,
          -0.09665310117761826,
          -2.037155253507472,
          -0.937070082701442,
          0.08564324749791635,
          -1.008887780958906,
          -0.2588271764605626,
          -1.0688377755704652,
          0.7379855708759322,
          -0.592256314957428,
          -0.10836451774741651,
          -0.9777000611373091,
          0.6636113508706021,
          -1.3802398054077478,
          -0.49876966321815386,
          0.5329935812201575,
          -2.0631531570391877,
          -0.02781307152471339,
          -1.2080268579269546,
          -0.7639622359785838,
          1.1827082041970611,
          0.2319905605594075,
          -0.47007626748094045,
          -0.24111657186997923,
          2.270129820198357,
          1.2166213236550696,
          -0.011107413338945714,
          -1.2035071607607915,
          0.34879080484357267,
          0.6628775447967683,
          0.15849453084572968,
          0.26918748997775893,
          -2.038868963540736,
          0.5753051961845967,
          0.15690497280745203,
          1.1628633445739036,
          -0.20151629620772563,
          0.9609049987616376,
          0.3063844694973749,
          0.9820774204489775,
          0.366548679469431,
          0.2983172160651356,
          0.422545629665998,
          0.4380983740471765,
          -0.16764648537964177,
          0.19305218504035412,
          0.213166758816381,
          0.37655898407857047,
          -1.63459073159704,
          0.21314427819935722,
          0.27735594235418076,
          0.6546691959370738,
          0.36844429220995334,
          0.4129934049764918,
          0.41936155476949727,
          0.5396851463322643,
          0.3683204865106428,
          -0.10885866340072027,
          0.532268315784605,
          -0.09916219523778351,
          0.9421646002038223,
          -0.5753549396433298,
          1.0732349552923024,
          -0.4708201051075677,
          -0.0573787748958931,
          -5.924239394639816,
          -0.7637176863427408,
          -2.2355073343161065,
          -2.006294866171138,
          0.1832698366723485,
          -0.00216445727125321,
          -0.05437858794307007,
          -4.283750688480322,
          -1.64773584395001,
          -0.7787159770924752,
          0.1699148214778546,
          -0.31498947315033654,
          0.9940583007335574,
          -1.2463665541879358,
          -0.3563685744211764,
          0.3764709823070522,
          -1.664047824338924,
          -0.7415033196349735,
          -0.547849794315665,
          -0.721018151851284,
          -0.8603224044640405,
          0.36844429220995334,
          1.0057179215755625,
          1.3731425040522747,
          0.22541147276170675,
          -0.7426613754556484,
          0.539377471104619,
          0.6802366647056062,
          0.5197709579561482,
          0.28851115681301276,
          0.0736303638535754,
          -1.03783039067833,
          -0.43096975501935353,
          -0.4951092035104543,
          0.5577200037430065,
          -0.13793919796049212,
          0.7046819180750938,
          0.1837547728930529,
          0.46520550589465165,
          0.6402978673628235,
          0.5229267361928677,
          -1.0552649185845486,
          0.3026074055053968,
          0.570099379647392,
          0.005642537603474338,
          0.36041760211285406,
          0.4770826930069923,
          -0.42240402200493427,
          0.3683204865106428,
          0.29518263380589393,
          0.6322379476614934,
          0.7959209685616679,
          0.4190308005984605,
          0.3797605549182409,
          0.7597811845390466,
          0.3994765180551817,
          0.11930663900334872,
          -1.3415588258751903,
          -1.1743011056062773,
          -0.15113280124843204,
          0.12021265156385241,
          0.3863898744106221,
          0.6449248906582766,
          -0.05771961048740682,
          -0.7674844330031351,
          0.3359929233033746,
          0.28563040911638565,
          -0.06615539855588282,
          0.2064469138130123,
          0.30220117954345765,
          -0.05681624597065565,
          1.097576388073236,
          0.47195523107914983,
          0.14637253285708743,
          -0.18588098009281165,
          0.41936155476949727,
          -0.26064243979059054,
          -0.5035140933779798,
          -0.1668449736442704,
          0.46029982703155803,
          0.37084791270313205,
          0.7717616667976219,
          -0.2148861384421186,
          -0.39121410950520114,
          -0.8343152909869377,
          0.044263289731289374,
          -0.30177702203555784,
          0.8766552529322723,
          0.412603096443357,
          -0.00529511603637154,
          -0.04408618682677618,
          0.40662525518348636,
          0.46238160386745053,
          -0.46152800882335177,
          -2.059230596823617,
          -0.08498529214047672,
          -0.02660899166717855,
          0.636159743655996,
          -0.12107259545907907,
          0.6084104848473882,
          0.7695854149503943,
          0.41617747987300285,
          0.24903080704949618,
          -0.5388324862293605,
          -1.0315725991143652,
          0.12125789649440191,
          -0.07371432381488227,
          -2.077121991393615,
          -0.18377654999288298,
          0.2712707075611409,
          -1.2243067038453486,
          0.3875208058044677,
          0.28015775469139315,
          0.5513500890675102,
          0.6198097678051584,
          -0.11160740749692678,
          -0.07730626287037347,
          -0.4479405125123363,
          0.18750323673494626,
          -2.258317567898224,
          -0.14293053065415237,
          0.3632656341256333,
          -0.22554825996158134,
          -0.7917561981115864,
          0.8790478968609371,
          -2.609863432873273,
          -5.69477782259218,
          0.7160242006917255,
          0.2051074409357496,
          0.29637523432597773,
          0.9878935457895033,
          0.4129934049764918,
          0.8200651065464797,
          -0.38100177179056577,
          0.3630931654785661,
          0.7886178372831891,
          0.15943229279559276,
          -0.8078818676404148,
          -0.474141636356315,
          0.18663770995350407,
          0.7796680936879186,
          0.27099999624428606,
          0.12831824406390194,
          -0.31951647830226876,
          -0.4018164227002914,
          -0.3456726318630643,
          0.8073261548433558,
          0.3733753388956555,
          0.6156382706519895,
          0.5102357968211941,
          -0.2168756121441817,
          -0.05669710371285724,
          0.41617747987300285,
          0.02363078789011731,
          0.5232269383030448,
          -0.798152577154611,
          -0.31660217061864987,
          0.04520369171083388,
          -0.15185270672992016,
          -0.3512080139316524,
          -0.05771961048740682,
          -0.8873305516197711,
          -0.6101225561687049,
          0.4585395868388567,
          0.4129934049764918,
          0.3455736507780592,
          -0.06872841068693829,
          0.761651962027564,
          0.4175779265577393,
          0.07210474367881625,
          -1.8496212185321292,
          0.6670983023749292,
          0.3257408436387885,
          -1.5919363793706067,
          0.20909263638254363,
          -1.3375713619901433,
          0.7308680046615493,
          0.6161734292365375,
          0.3202841516274062,
          0.4903442014281243,
          0.250719504119285,
          -0.8531937968656159,
          0.21824736796980224,
          0.7862851045224287,
          -0.8055271696580638,
          0.441740859840928,
          -0.08459335440430882,
          0.6037615146104449,
          0.7890292562941873,
          0.8438778145673455,
          -0.5824325896174538,
          0.9301549848798316,
          0.2861120612073242,
          0.3953201406554972,
          -0.048403067170750554,
          -1.68861695844962,
          -1.9828173659231938,
          0.5487597437693768,
          0.2368108822126427,
          0.3957557247849723,
          0.2604403295737565,
          0.5338447550392632,
          0.676913042693783,
          -3.0645677568608773,
          0.41936155476949727,
          0.5682215554993307,
          0.9928590798688771,
          1.034935732803725,
          1.0550513552180707,
          0.41617747987300285,
          -3.7334671227871272,
          -1.0928332024802212,
          -2.0835596001098184,
          0.7274179183417026,
          0.528542211930181,
          1.0246161838544807,
          0.422545629665998,
          0.33006094164841737,
          0.43697620236822776,
          0.5354751413860139,
          0.7259704894620704,
          -0.2965369642121875,
          -0.8502498740126012,
          0.422545629665998,
          -2.41458668725267,
          -0.19030567122547254,
          -1.8995634354467774,
          0.15397364423627186,
          1.6307218945550508,
          -4.144402871171642,
          -1.2754044055069909,
          0.750786439930105,
          -1.1729243734165335,
          -0.5652108208304181,
          0.3737954189413409,
          0.3406002077997811,
          -0.8765571025919356,
          0.138380851118165,
          0.3733753388956555,
          -0.1131360663896549,
          -0.667959522205613,
          0.20778638669028682,
          -0.9140703475618652,
          0.3616419442820948,
          -0.8939991973906328,
          0.5188418213995766,
          0.35315592935559076,
          0.5664746038775781,
          -0.4295969848879853,
          -0.31660217061864987,
          -0.11556558250993529,
          -0.2481054438007624,
          -0.3160273218235102,
          0.21103409579746038,
          0.15943229279559276,
          0.6083411574906022,
          0.9261240271189133,
          -0.6116190826153184,
          0.519932537558129,
          1.0713190242906216,
          0.5730243311835265,
          1.3326208928356778,
          0.4668226311041749,
          -1.178242787530503,
          -4.168330319726619,
          0.19812186673992468,
          0.33834399378868335,
          -1.5623870673846885,
          -0.8025157547589276,
          -0.4599969614764661,
          -3.5012571151914553,
          1.0618201483872365,
          -1.0555364340256332,
          0.2679360325060348,
          0.8170149427757706,
          -0.14578885607266992,
          -0.8931569260474311,
          0.47575704924362616,
          0.4469821595337352,
          0.3498494999660206,
          0.9335636611646619,
          0.5613726715509905,
          0.31760858826170724,
          -0.7928306289526428,
          0.27015642968001696,
          0.4470652549184049,
          0.37111985557563776,
          0.21758920559445247,
          0.5908966487221756,
          0.2664962645170981,
          0.740931124050874,
          0.3503131452245326,
          0.02177463012143939,
          -0.22265343589213804,
          0.9600186074605715,
          0.7221042853595906,
          0.7669057391700483,
          -0.46882424367356307,
          0.4129934049764918,
          0.24122594454219168,
          0.5694283388426156,
          0.3716004313219655,
          0.039701167967448624,
          -0.01878447162976772,
          0.7391440677399039,
          -0.31108041567355793,
          -0.882127786709866,
          0.3733753388956555,
          0.3130026742677544,
          0.2773331435802991,
          -0.8942141688873059,
          0.5215446366428976,
          0.422545629665998,
          0.422545629665998,
          -0.3409513429648944,
          -0.05771961048740682,
          -0.43960239664367595,
          -0.8327642427502453,
          -0.384051633924716,
          0.16501580325198253,
          -0.41959157313231477,
          0.8890957679398153,
          -0.2965369642121875,
          -3.0223143783326676,
          0.6041534264211268,
          -2.7206046453565245,
          0.7725376436141967,
          0.308245589856401,
          0.43844319689515343,
          0.4703950248481921,
          -0.3219638053895348,
          1.497403385818713,
          -0.1641059205627964,
          -1.874524824872403,
          1.132771817603235,
          0.7299839873116134,
          1.092010879447455,
          0.4824577964726204,
          -0.33229539913722933,
          0.8462986072942821,
          -1.043717167013017,
          -1.369894612224454,
          -0.4753685654193953,
          -0.14914502753931147,
          0.7851302836137625,
          0.03488851785996137,
          0.33030381435124423,
          0.08411851770647495,
          0.15397364423627188,
          0.7997974650120178,
          -1.6305298593997206,
          0.42358953614933936,
          0.7628660908120944,
          0.2949985702557864,
          0.2979803734144426,
          0.5322045341974033,
          0.37084791270313205,
          0.7432287984284147,
          0.34304622458553846,
          0.8165723913655623,
          1.2107008080086012,
          0.6609821473525123,
          0.46357545407819306,
          0.3683204865106428,
          -0.18916935004306668,
          1.016859886471767,
          0.5545316990766399,
          -1.135234591131715,
          0.3247963878901321,
          0.28548743773462165,
          0.8220501841199781,
          0.3733753388956555,
          0.6850364791935086,
          1.029534607853454,
          0.3917114648360184,
          0.3080271247609237,
          -0.19398462029794086,
          -0.2899393159884892,
          0.31524453646792844,
          0.8947100726937138,
          0.7744280301509493,
          0.3410183384074362,
          0.4561889962744827,
          0.3683204865106428,
          1.0807290740752045,
          0.6787727775442199,
          -0.6514247166939241,
          0.3864925927942476,
          0.3489265681290792,
          0.1657381161367959,
          0.5117613314135849,
          0.16698926716451243,
          0.23689432450014858,
          0.3843367309079771,
          0.5500992166466699,
          -0.5689985141764876,
          0.7226872459421008,
          0.6232827828194442,
          0.23566338297580774,
          0.4770635294421752,
          0.3683204865106428,
          -0.04613120037587046,
          0.3737954189413409,
          0.6141146131201531,
          0.35568335554808583,
          0.422545629665998,
          0.7422117753668196,
          -0.29836107388550764,
          0.5300071234876544,
          0.2895450390367449,
          -0.06796802749888828,
          0.6243665143659829,
          0.2957771544596867,
          0.18903376640855607,
          -0.28428425262555834,
          -0.38559808617606345,
          0.21314427819935722,
          -0.054992925755276326,
          0.08002254631395785,
          0.21408271737856904,
          -0.44568646330125317,
          -2.1066124798023873,
          -1.3996200530916183,
          0.20274730091788762,
          0.13325294622186515,
          0.2628306075483524,
          0.5965593087571797,
          -0.20623518139198918,
          -2.7016469342742666,
          0.4177344450191507,
          0.40580630819674257,
          -1.7379188328064954,
          0.34361413197907437,
          1.1952507968715702,
          -0.04036772075649576,
          0.29743173266997736,
          -0.9040065170766695,
          0.1995079458513951,
          -2.0734219907099485,
          0.7317070244302836,
          1.1073417864486528,
          0.49813888744222606,
          0.5327647682731691,
          0.4377045108610153,
          0.29799783667526414,
          0.5069155296174094,
          0.15958537437064038,
          -1.3909325204995078,
          0.6711202902394792,
          0.7462348051267026,
          0.19711352548892583,
          0.3311866220473922,
          0.7163498012448125,
          0.4391077085576363,
          0.9185917967178313,
          0.4813151548546808,
          0.3497153486500782,
          1.0703079675848255,
          0.3943980399282139,
          0.4324545817318942,
          0.6393438185524931,
          0.6735145872798565,
          -0.5106515119970947,
          0.37611492980964045,
          0.1689416732495663,
          0.017935811939365873,
          0.3354639460080198,
          -0.09587195277466366,
          0.7358436255737966,
          0.3261750400533915,
          0.3975887159972344,
          0.7562534262373178,
          0.7092209976284899,
          0.41936155476949727,
          0.21448375107662446,
          0.7600331902608674,
          1.0491530694681992,
          0.6871049420000402,
          -0.12195880484208668,
          0.3843367309079771,
          0.09272620029094583,
          0.21582322395387485,
          0.422545629665998,
          -0.5458014121479589,
          -0.6543271939895571,
          0.6794234947990221,
          0.1873274075807247,
          -0.6625683442314189,
          0.26287956343933344,
          -0.9194304307280851,
          0.37084791270313205,
          0.7269513482969321,
          0.3733753388956555,
          0.21314427819935722,
          0.3506285031630693,
          0.6197695333828445,
          0.3764709823070522,
          0.4002571053904786,
          0.18769429353128225,
          0.3875208058044677,
          0.41617747987300285,
          0.41617747987300285,
          0.35568335554808583,
          0.5301633489736349,
          0.25874619421637157,
          0.1490920084059338,
          0.7600331902608674,
          0.15897624055986784,
          0.3733753388956555,
          -0.056015432529825465,
          0.15744581177223882,
          0.3455736507780592,
          0.3524959819429458,
          0.3683204865106428,
          0.15547240668953763,
          -0.38032328888109806,
          0.2886073073693497,
          0.6629297354423417,
          1.08946482194738,
          0.30025919780430294,
          -0.06849639632995332,
          0.2818361408313935,
          0.6644746674971669,
          0.6759965984847836,
          -0.3365220849974595,
          -0.2927104276748999,
          -0.17419121695672082,
          0.17913165332363779,
          -0.4290728909036161,
          0.7949038997030354,
          -0.1493844340985283,
          0.022195937461528228,
          0.3147030215641202,
          0.16379921164304795,
          0.5716923350174504,
          0.4460237560479085,
          0.7579991441376696,
          -0.8044491150191742,
          0.41016469349312545,
          0.3683204865106428,
          0.40980933008000486,
          0.281307189477605,
          -0.01600825128370272,
          0.6581284499515594,
          0.14456620060888598,
          1.0371389651952163,
          0.21850216970841083,
          0.3237605138850915,
          0.4618455263091026,
          0.32268556615907146,
          0.3737954189413409,
          0.3094735623581203,
          0.757574720986,
          0.29811039333591194,
          0.6096166011779243,
          0.3764709823070522,
          0.2550820375620625,
          0.2983172160651356,
          -0.3042142630754128,
          0.8258357561392874,
          -0.17015152043587856,
          -1.537632796965251,
          0.6580353224869722,
          0.2587683300948871,
          0.19514670326187145,
          0.3548837704348504,
          1.082154388052617,
          0.2595412338200119,
          0.14190984903084244,
          0.2249574482750989,
          0.45838156018683096,
          0.20443216349704507,
          -0.17729960894131686,
          0.41724270650284634,
          -1.1547977296676217,
          -1.442279762624497,
          -0.9143612659718195,
          0.8958679059630076,
          0.6756550611549618,
          0.5719510981579068,
          0.30414316128261154,
          0.3970730304939892,
          0.282885974413292,
          0.5580557550484946,
          0.3764709823070522,
          0.422545629665998,
          0.20922719361406814,
          0.2736584079701306,
          0.14929405536358822,
          0.41309799844331624,
          -0.46924000310905856,
          0.2983172160651356,
          0.1062390823716292,
          0.5894709930847017,
          0.3727190044798054,
          0.5610950120852737,
          0.21180480532207888,
          0.3080271247609237,
          0.36041760211285406,
          0.27501343519523114,
          0.4247159344125515,
          0.49438648954872255,
          0.37084791270313205,
          0.7238583376260508,
          0.36576872884424966,
          0.7125365712561254,
          0.7863687438721793,
          0.3970730304939892,
          0.13854331180937177,
          0.4651007395300124,
          0.7800005940791347,
          -0.33923916303985696,
          0.49988361352204336,
          0.5409350026313079,
          0.7927368936651459,
          0.36576872884424966,
          -0.824612389535404,
          0.21448375107662446,
          -0.05771961048740683,
          0.4419070696663754,
          0.8056629394407375,
          0.761651962027564,
          0.9195446930890088,
          0.39070488070098264,
          0.6834009186832707,
          0.6025558110859826,
          0.5988204819845727,
          -0.21393902112575508,
          0.36844429220995334,
          0.18833616414308169,
          0.30220117954345765,
          -0.43003434579232064,
          0.3582107817406057,
          0.3229597149931049,
          0.6834823870331372,
          0.3354639460080198,
          0.14523980654136082,
          0.5359468900638725,
          0.35315592935559076,
          0.7963410486073266,
          0.40980933008000486,
          0.6633609145925149,
          0.34655905471526544,
          0.13432250942272211,
          0.7841132605521686,
          0.37084791270313205,
          0.7010929020308158,
          0.3630931654785661,
          0.43092906117064783,
          -0.5360340670480277,
          -0.23604585210130133,
          0.20864835400654946,
          -0.6428688132550561,
          0.055437047284383444,
          -0.07945359167304465,
          0.18512341597728546,
          -0.6698040596158424,
          0.09478703738151684,
          -0.21722394042405738,
          -0.030880133882004227,
          0.2731497062108687,
          -0.08360465734288808,
          -0.11062204584475685,
          0.4167365749164317,
          0.13216033217456188,
          0.14637253285708743,
          0.4230353152404501,
          0.048759372504686455,
          -0.0274696615734324,
          0.749596948221408,
          0.6105746775954413,
          0.18502181335125367,
          0.2716967188222826,
          0.1515556492042314,
          0.28860730736934964,
          0.08991506526971806,
          0.7427202868976311,
          0.3710949239149104,
          -0.006274590448054627,
          0.5533108220956503,
          0.35567707325066045,
          0.721957297214501,
          0.4433053846593253,
          0.198416216139523,
          0.4227637513390327,
          0.3764709823070522,
          0.27678807072343986,
          0.2855018278733433,
          0.7697184206620187,
          -0.4273694823818719,
          0.16165317508338148,
          -0.07322111690640068,
          0.2162745180709725,
          0.40276524582156026,
          0.3336619684558814,
          0.4613246446003407,
          0.3523909120157658,
          0.7117635552825151,
          0.7452732760880018,
          0.4016194555591647,
          0.29502512692787364,
          0.16052402250745595,
          0.6567928364388309,
          0.3060851430217696,
          0.6170928259372274,
          0.7407759037835396,
          0.6818225437022769,
          0.3283108417244937,
          0.7434024985995143,
          0.6141070882876645,
          0.3607382079331123,
          0.7202589883730711,
          0.7269246440364754,
          0.36844429220995334,
          0.7312435104806937,
          0.6320965775056184,
          0.41936155476949727,
          0.6203385377969391,
          -0.3633960826218627,
          -0.05771961048740682,
          -0.6625105536741391,
          0.2798605697728115,
          -0.31660217061864987,
          0.6792812890750256,
          0.13379548301694935,
          0.37084791270313205,
          -0.27747994321167135,
          0.2037679680584917,
          0.7350691026196506,
          0.3737954189413409,
          0.21448375107662446,
          0.3607382079331123,
          -0.05498240545245022,
          -0.01887112810939637,
          -0.012897834112800762,
          0.0218558764128444,
          0.08082775354138876,
          0.16777703978266714,
          0.06008488901597353,
          -0.021794839373821956,
          0.08737813181257313,
          -0.023978298797549237,
          -0.01887112810939637,
          0.06722138910528527,
          0.2342318186729098,
          -0.010877542255182357,
          0.031087330771219217,
          0.0028499409691319583,
          -0.017427920526365655,
          0.15943229279559276,
          0.10606102388845502,
          0.0061081013309113065,
          0.12340521230407912,
          0.06445180786342862,
          0.011266855237061538,
          0.031087330771219217,
          0.032987924315590514,
          0.2672455082386053,
          0.14523980654136082,
          0.36041760211285406,
          0.37111985557563776,
          -0.019957181563322688,
          0.13650596884645141,
          0.092467151714346,
          0.22646389171627487,
          0.013710475508395919,
          0.2905492891085043,
          0.28860730736934964,
          0.2419997456295388,
          0.18115485661115444,
          0.16145148815276902,
          0.4034411802869953,
          0.3080271247609237,
          0.23786928566884186,
          0.15179018481254417,
          0.286665325630182,
          0.40980933008000486,
          0.2653035264994511,
          0.1627074819311845,
          0.36041760211285406,
          0.06343006852047864,
          0.29443325258682346,
          0.32702338277092563,
          0.13650596884645141,
          0.3015552080675187,
          0.32563527835879386,
          0.25378966015135507,
          0.026241267948192003,
          0.3238393078744169,
          0.3737954189413409,
          0.3042307714332197,
          0.34931190704643533,
          0.422545629665998,
          0.131306786497512,
          0.3455736507780592,
          0.35315592935559076,
          -0.12440288687176072,
          -0.38457263198739783,
          0.3764709823070522,
          -0.31782218852647187,
          0.3764709823070522,
          0.31524453646792844,
          0.2824463342198857,
          0.17831798339042756
         ],
         "xaxis": "x",
         "y": [
          -0.007760084832357609,
          -0.16002883497059248,
          -0.004061494559631939,
          -0.02289041686558207,
          -0.17970714261163284,
          -0.4317407701750304,
          0.08821121309912933,
          -0.2941401322833542,
          0.7386517702849267,
          -0.007459553576625282,
          0.11523781669350609,
          -0.24425947440889254,
          -0.7432545866120713,
          -0.5946695144289801,
          -0.3790521393169046,
          -0.37627573655377605,
          -0.07722203898908267,
          -0.47288646305651233,
          -0.15663940049195474,
          -0.09479532752432088,
          -0.8101182807529324,
          -0.10587242845943612,
          0.011766069502662119,
          -0.17580349229752448,
          0.0819247781825595,
          -0.20036200913254165,
          0.017013959995820657,
          -0.6948293042552679,
          -0.2804580604345051,
          2.181104315087577,
          0.6720269957647499,
          -0.042221852983343154,
          -0.3524033770909755,
          0.0007572775679079144,
          -0.31126432855977576,
          -0.18175728202734695,
          -0.15981011799078343,
          -0.18235550940897868,
          0.5425114899190701,
          -0.005178263404622902,
          0.1787869437783919,
          -0.7954363299685467,
          -0.026564926073243098,
          -0.0812978302177121,
          -0.1853546371187225,
          -0.057219627411396405,
          1.6666434172130151,
          -0.6836626834620594,
          0.5957910925620892,
          -0.1763576881941652,
          0.9149773252248798,
          -0.4098970229775271,
          -0.03957944003093604,
          0.11834432070978905,
          0.009446968196538539,
          -0.38424228608571226,
          -0.2733669425297489,
          -0.21308157943461287,
          -0.20573904965089748,
          0.03216972208054128,
          -0.45394093059721785,
          0.5360284394400111,
          -0.30879665120470134,
          -0.08537362144633717,
          0.815465557957828,
          0.2137314629515451,
          -0.018061056592373337,
          -0.39567181763536385,
          1.012390226482998,
          -0.12437048206118688,
          -0.015583876155264341,
          1.2061392434560216,
          0.12808302955554943,
          0.9289043783190368,
          -0.04251730440461793,
          -0.30102889547574496,
          -0.19058679561043787,
          -0.4049371731920077,
          -0.3974591529699715,
          -0.621326187859436,
          2.2298711194349146,
          -0.23134162984686327,
          0.021380142276396945,
          0.028007126265260623,
          -0.25459741687244486,
          -0.1994483237868622,
          0.26143062222094304,
          0.03669392925138491,
          0.1439480395134968,
          -0.035915656261630284,
          -0.3475469736711587,
          -0.0028377446607982483,
          -0.7577001203089018,
          -0.029165021881374095,
          0.3000525939532649,
          -0.4626631728245771,
          -0.8139492458744438,
          -0.08478210202113803,
          0.14770714130510115,
          0.31580689796327865,
          0.0845202053526343,
          5.153087397847627,
          0.022166358792756257,
          -0.6253279260207316,
          -0.16780912324712624,
          0.6875624984413031,
          -0.03286243742617811,
          -0.5445972725827156,
          -0.6757853894861979,
          -0.048212162909754865,
          -0.08197712875581237,
          -0.19517297040743514,
          -0.29911787212721413,
          -0.13312076207356116,
          0.2012722493578697,
          1.661197315770929,
          0.056541550544083455,
          1.295074149869238,
          -0.21224693437005684,
          -0.48099369829751093,
          0.785050606279108,
          -0.1923415479344745,
          0.1325150824109852,
          0.6932772911261736,
          -0.8734980675429395,
          1.3230266998071318,
          -0.9039076257047642,
          -0.42549911270366664,
          -0.5320797922510958,
          -0.15233876836349736,
          0.4275288772953496,
          -0.741413198045192,
          -0.3948658731230632,
          -0.2392738176252775,
          -0.10422208678748483,
          -0.5661495371422551,
          -0.053450654949402744,
          0.03758162505171837,
          0.10018801231423341,
          -0.23661831700237457,
          0.7687142594906748,
          2.686285845684823,
          0.8779864362382565,
          -0.0283468929330889,
          -0.11700731558161798,
          0.45066077684841804,
          0.10078954936977977,
          -0.13710860890536367,
          2.099074682391389,
          -0.2714968345676669,
          -0.00047105376905880316,
          -0.41117080593125327,
          -0.22599070283512127,
          0.059327109435121775,
          -0.13777385805768425,
          0.15846713101888701,
          -0.07125003262739373,
          -0.052593363101691354,
          -1.1054641658946527,
          -0.09115013467701873,
          0.34655330621710245,
          1.6644650750236738,
          3.4528576401051176,
          0.34328759593630015,
          0.1145511235806372,
          -0.00000634792358313841,
          -0.25500048085685545,
          -0.3354036732436669,
          -0.20924373824775536,
          0.1681312271580102,
          -0.461185015225075,
          -0.36915351215537645,
          0.11263959508442993,
          -0.0029093359666904077,
          0.47796372812170723,
          -0.06328999180754959,
          -0.13113826145278865,
          0.968735933419536,
          -0.15570534094736788,
          -0.16538371343010158,
          -0.0017933106060904033,
          -0.749200853105828,
          0.1139069531410345,
          -0.1406176851740683,
          0.11791785165848136,
          -0.18398751163681762,
          -0.13679874242286658,
          0.609320575297919,
          -0.2668699405426078,
          0.7263820604188114,
          0.9692772915308685,
          0.11963872943789153,
          -0.1965252170599367,
          -0.3696411681515714,
          -0.624304934116102,
          -0.3190613294325546,
          0.9103550677865635,
          -0.8000201504929241,
          -0.01424451284755624,
          -0.358635678111124,
          -0.5172450114760246,
          1.0658591203627135,
          0.6880338031249822,
          -0.29365398390102787,
          0.5030881840833329,
          -0.009531196114473,
          0.7989770124498925,
          0.42901019083789815,
          -0.5402237455589697,
          -0.022861084931053863,
          -0.06703256091750681,
          6.186823851069636,
          -0.23100406619283617,
          -0.5299442989353335,
          0.15139788486416686,
          -0.18700944945821577,
          0.17709486619570447,
          0.38769421331986326,
          0.4605611102177833,
          -0.16787265077790195,
          0.09427562333111374,
          1.4737444463045495,
          -0.43997385219470136,
          0.004628859253002413,
          -0.46373238435194525,
          -0.6388810826759163,
          4.11116474374129,
          -0.24978688589886983,
          -0.47558013766378393,
          1.1266987304384741,
          -0.43395196186229973,
          0.18131229425851023,
          -0.2992798922328849,
          0.2085930333953574,
          2.1786334885427614,
          -0.08929227733247017,
          -0.24122025717321752,
          -0.29327773700914045,
          -0.582432448983456,
          -0.219226006779827,
          1.6641049035354023,
          -0.7328146159629892,
          1.3044789329815216,
          -0.19631201344201352,
          -0.17264970668787755,
          -0.44090366206052317,
          0.4515929917359728,
          -0.4542217551075022,
          -0.194585882047453,
          -0.17831901526320024,
          -0.3717417637695141,
          0.17268726122851707,
          0.08654593783496672,
          -0.8030876558885086,
          -0.12277169112089427,
          -0.3207649075386325,
          -0.6023531592398317,
          3.086251498637462,
          -0.19742351613897507,
          0.41972737078515204,
          -0.9197012063740386,
          -0.23601303551674535,
          -0.3474713022800091,
          1.973533289086745,
          -0.666409912186274,
          -0.3546898896219343,
          0.35262136380246245,
          -1.1426740040862808,
          0.0012758535100922076,
          -0.4265849174387523,
          -0.24978688589886983,
          -0.2446436924895268,
          -0.060414488617928676,
          0.9821856229623531,
          -0.5327475221358725,
          -0.17387230531280348,
          -0.3559217453572018,
          7.635203036139169,
          -0.1255406262652911,
          -0.5380313283515854,
          2.7596796853419154,
          -0.6349701440918762,
          -0.4018387464475619,
          3.8307131495409936,
          -0.42049436260190476,
          -0.1055438174053395,
          0.2983213718829295,
          0.410416978342194,
          -0.2394652983058661,
          -0.29386136050213696,
          2.453478921258128,
          -0.8555338585596416,
          -0.25429168008232905,
          0.2900424005018449,
          -0.1984623000856867,
          -0.1229841047421387,
          -0.3703648324114307,
          -0.24740544108856283,
          -0.2652950127078038,
          -0.2910194381946392,
          1.2906666120072445,
          -0.06391112829253641,
          3.563883894225898,
          -0.2572205307773604,
          0.9623003069228864,
          1.4261337802720633,
          -0.004514421496919092,
          0.29683574180130046,
          0.7141952539814802,
          -0.025158696429341668,
          0.465337027272359,
          0.008946036199158965,
          -0.10884286718383723,
          -0.15368460998510972,
          -0.24461340525951886,
          -0.01530108902016936,
          -0.2590754213788336,
          -0.7024889201619426,
          0.8368581433605032,
          -0.013397775675544853,
          0.6036977347153571,
          -0.007296459821782935,
          -0.42335884693514636,
          0.026976772710341147,
          0.15239292805778465,
          0.17516146374108724,
          0.18118756626540142,
          -0.0399467699219837,
          0.5622638621863596,
          0.004786134072466526,
          0.03365689439789779,
          0.44823798038428325,
          0.05534167042265179,
          0.03019743573814525,
          -0.25758275321004465,
          0.1358386242425626,
          -0.1386665772086214,
          0.10978247803120329,
          0.7594096517963916,
          -0.18221766267331282,
          0.33974917066363575,
          0.0777967749024578,
          -0.06771185945561328,
          0.685661079837953,
          -0.5418615701980171,
          0.9434103212821099,
          -0.41885998246924355,
          -0.09746090049795386,
          0.11952671737282729,
          0.08661165078345585,
          0.9935474232359714,
          1.4676235151056305,
          -0.5581292264970223,
          -0.18194011222329093,
          -0.021809678863330025,
          -0.10070218366083253,
          -0.6416431764021394,
          -0.37356678438350516,
          0.5585936036694004,
          0.038851413857394095,
          0.46242219925290673,
          0.26026631795399635,
          -0.0399467699219837,
          -0.0005087012509194483,
          -0.04083231148395857,
          6.3593148439694405,
          1.240318419243074,
          4.367293610508059,
          3.691708681352127,
          3.222079206535449,
          3.5407053828030297,
          0.9617867628200455,
          1.1986612412217916,
          -0.7873604463436092,
          0.6187624759603554,
          -0.6860022533716216,
          0.07552010325294677,
          1.4337446208941902,
          -0.10656460471854447,
          0.12386596403593503,
          -1.2038016590538247,
          -0.15623202872143435,
          -0.2737318752234453,
          -0.23872628906482113,
          -0.043005750494580136,
          -0.5388277446344706,
          -0.2906135882254599,
          -0.9039160451828333,
          0.4679320817703395,
          -0.6966617051688422,
          0.2829714320347121,
          7.414035918677626,
          1.7922156899442852,
          3.790909579240806,
          2.2158894009918986,
          -0.23519273067803284,
          -0.21073474945763515,
          -0.8873438053746363,
          -0.15594744037164499,
          -0.4465153622486071,
          -1.8595121919287683,
          -0.9996521089292729,
          -0.0747583015715251,
          -0.41257501999379276,
          -0.6155375896564893,
          -0.2685632534639067,
          -1.01642132295062,
          -0.24636982388408382,
          0.28318100450115485,
          -0.3592923454189815,
          -0.7437865572214425,
          -0.174241970783112,
          -0.003197070892943822,
          -0.5603050810454161,
          -0.4216408191705933,
          -0.25459741687244486,
          -1.0652017020159188,
          -0.8367338850607686,
          -0.6994423204638816,
          -0.07062977466054636,
          -0.1294653263494804,
          -0.18176003376944697,
          -0.6818699395878574,
          -0.30771698976566497,
          0.03510205303671053,
          -0.2113325899034293,
          -0.25279008202117403,
          -0.17859065780581415,
          -0.4452476110650268,
          -0.4386173999525151,
          -0.2522844151665502,
          -0.6330281080641956,
          -0.031681715343544754,
          -0.47787682854725233,
          -0.5276176772861476,
          -0.7728236904413437,
          -0.23858650168128545,
          -0.1272667576598456,
          -0.1659422919697927,
          -0.7422009839748583,
          -0.7396259468876749,
          0.1452261785228794,
          -0.4938552565585252,
          -0.2531047487036419,
          -0.42494248380786703,
          -0.25279008202117403,
          -0.2565781415297345,
          -0.25500048085685545,
          -0.6728375086043056,
          0.3336430326105996,
          -0.3197058363150036,
          -0.10425136302907233,
          -0.24978688589886983,
          -0.24678368977656825,
          0.016751147575195687,
          -0.0995483869485366,
          -0.48735602943827466,
          -0.40832667631929853,
          -0.22738237854398596,
          -0.256090085041234,
          -0.3813782802497463,
          0.42537836396365847,
          -0.1656927327922697,
          -0.2590754213788336,
          -0.9563079840057384,
          -0.20483938645488486,
          -0.03693578820330467,
          -0.3067584676820981,
          0.000024359088006116858,
          -0.13159376305392811,
          -0.6737741461679517,
          -0.24265607152204846,
          -0.20086136279565436,
          -0.1808238114727477,
          -0.14480948174656244,
          -0.012275275107769129,
          -0.09488380097981153,
          -0.9314174637409671,
          -0.25716338924452303,
          -0.06145074455539578,
          -0.18729088653716802,
          7.292465416760344,
          2.0684019623960643,
          0.5892332204709423,
          0.0171322972932702,
          0.2681282233647017,
          1.5761228202981292,
          0.7406669242369184,
          -0.48631687938896506,
          4.23402140121284,
          -0.5488269166937317,
          -0.3496581237927899,
          -0.7792218203175734,
          0.36329945073116204,
          1.53820714413025,
          -0.4979531258703451,
          0.18283628366033403,
          -0.60040525831538,
          -0.24013953041447944,
          -0.951226328996452,
          -0.4026600484965542,
          -0.40205394549086154,
          -0.23920258148613704,
          0.3406332480946823,
          -0.5651968239341311,
          -0.6493695813448783,
          -0.7174910907948897,
          -0.7195763469158848,
          -0.3706084740039412,
          -0.3053860988533653,
          -0.3547375840814098,
          -0.16828941598316544,
          -0.1301348469738498,
          -0.23428690412219938,
          -0.23428690412219938,
          -0.008314837244725511,
          -0.3569733723954547,
          -0.7396640100922245,
          -0.18783358515717047,
          1.6223778886115774,
          -0.03382931715951027,
          -0.11177569899631558,
          -0.15597193446446173,
          0.22598295008472338,
          0.21734396380082877,
          -0.8394505740560749,
          -0.4166393575044554,
          0.48082559061693914,
          -0.25459741687244486,
          -0.70925091888937,
          -0.41397352449736624,
          -1.0286847006294644,
          -1.020166072260164,
          -1.5004453773250799,
          -0.26572050115362533,
          -0.2456414078596259,
          -0.2014990757795391,
          -0.3382341669625075,
          -0.17091236471030913,
          -0.6153138577110447,
          -0.2498220866731802,
          -0.0656739638412972,
          -1.3404333449144057,
          -0.39854681593188473,
          -0.9634227261331803,
          -0.3741062259873489,
          -0.4129469867976208,
          -0.4028026005862016,
          -0.9404616213114759,
          -0.2291373094179011,
          -0.32087237306038485,
          -0.166529994913265,
          -0.17412471858250714,
          -0.17859065780581412,
          -0.24221725977805575,
          0.7206404034598505,
          2.42025235466279,
          0.508898381387285,
          4.892771090183908,
          4.977454600801264,
          -0.3358884020916567,
          0.21928948952098154,
          1.7404514854596302,
          6.122185699889758,
          4.481874804406238,
          1.5697685797993006,
          -0.4056455675984602,
          0.38846612452733476,
          0.30514460203545796,
          1.3719304254921787,
          -1.0332844725929364,
          1.0039427352672337,
          -0.18024164592252956,
          -0.8448002645815489,
          -0.17393752973392146,
          2.303972209130915,
          -0.7855208868333607,
          -0.38045304587212286,
          -0.23154000393650448,
          2.579572375690357,
          -0.531715475508634,
          -0.7211864140967317,
          -0.3745050031021434,
          0.2679240118305903,
          -0.7877055703086665,
          1.371275200176654,
          2.3048317051328615,
          -0.9585583664806562,
          -0.9557837090371334,
          -0.7793816323857877,
          -0.7336486390272354,
          -0.19998068793262347,
          -0.2498220866731802,
          -0.5279760828854011,
          -0.06097793288922505,
          2.0551498415335576,
          -0.19998068793262347,
          -0.4803284650185281,
          -1.4232399850840327,
          -0.30972939959267165,
          -0.386030485034753,
          -0.2014990757795391,
          -0.40589789307195645,
          -0.10128547788217744,
          -0.8641996815446632,
          -0.8300764096713938,
          -0.8638077719959578,
          -1.0937579857695434,
          -0.13176480207330613,
          -0.46972957853215064,
          -0.4539077185170073,
          -1.395471139115852,
          -0.25500048085685545,
          1.5171332517682354,
          -0.2358867324631716,
          -0.1984623000856867,
          -0.2636686880151544,
          -0.2636686880151544,
          -0.25128848396002074,
          -0.18783358515717047,
          0.19612936796979777,
          -0.17859065780581415,
          -0.06243489805025452,
          -0.0030263158625628236,
          -0.2325607727276413,
          -0.707766576104648,
          -0.17859065780581412,
          -0.18194011222329093,
          -0.11582626121854402,
          -0.28643196898193346,
          -0.5066860558120124,
          -0.2652950127078038,
          -0.37952625204483903,
          -0.15594744037164499,
          -0.38817210352454296,
          4.894400370902393,
          2.418554005119249,
          2.021067494143714,
          2.346745758077253,
          -0.898810279129365,
          2.017052042706571,
          4.445506673753501,
          3.550590723161523,
          4.952229584351707,
          2.659622329622393,
          -0.4962388554888523,
          -0.42894949411264827,
          1.9735284799907264,
          -0.2903098763787852,
          1.535080279962621,
          -0.3861665256775838,
          -0.13534951387209004,
          -0.60021525841199,
          -0.12352621679115562,
          -0.47466135479360017,
          1.1295278232383519,
          -0.9544820856406363,
          1.0365988612425598,
          -0.6801790357279347,
          -0.06208828339989526,
          -0.42942465293561044,
          -1.1500459193244656,
          -0.31896179062266533,
          -0.15623202872143435,
          -1.4153294186987235,
          -0.4629045132744515,
          -0.7764654938424111,
          -1.326209712104893,
          -1.0009988197728883,
          -0.7259904340733,
          -0.6532814137620715,
          -0.19542552439182176,
          0.2610325173832758,
          -0.45014480287237946,
          0.134767789891647,
          -0.1984623000856867,
          -0.14827460354377406,
          -0.3577311045009605,
          -0.2681931212523166,
          -0.18176003376944697,
          0.677625595594694,
          -0.42038623032038924,
          -0.19998068793262347,
          0.09612352699862742,
          -0.2014990757795391,
          -0.21792549897419095,
          -0.21728071265244842,
          -0.25500048085685545,
          -0.5554611553499048,
          -0.3136399753594548,
          -0.20173574794199725,
          -0.2014990757795391,
          -0.49389097612794586,
          -1.0165186146696354,
          -1.1015701487885774,
          -0.2132526225427471,
          2.5360504812960625,
          0.4860816614010467,
          0.6950270785589758,
          0.2051106202699371,
          0.4476047637287419,
          -0.8422724784723323,
          0.06733642251598046,
          1.8367487501561661,
          -1.187036990995338,
          -0.6030912006819321,
          -0.8892014723329219,
          -0.5281427174435026,
          0.2745646732094966,
          -1.1356126496394918,
          -0.7278533908581125,
          0.8199295491535529,
          1.993869368683711,
          -0.21975225622973307,
          0.35209568546946707,
          0.03182862497531489,
          0.40030506844608255,
          -0.290164317879999,
          -0.062271634646471646,
          -0.2872793747225424,
          -0.7672231737597041,
          -1.0789893208644716,
          -0.24423198106222435,
          -0.3325950746808246,
          -1.1162856788268336,
          -0.6492515719189493,
          -0.3149197571729087,
          -0.7139498220355752,
          -0.5024715651553201,
          -0.9731249272503041,
          -0.057334871088007416,
          -0.22738237854398596,
          -0.38785438897069785,
          -0.5020450119743438,
          -0.557390114658317,
          -0.034758783667972054,
          -0.18899993237069507,
          2.2895969012600146,
          -1.5575327090054156,
          -0.7781906676361883,
          -1.0579206626974194,
          -0.6940297480684565,
          -0.22565624714943724,
          -0.17091236471030913,
          -0.18783358515717047,
          0.039505784463626396,
          -0.775102399172915,
          -0.24862674419723377,
          -0.6355479254666423,
          -0.0412360634752095,
          -0.4014658597704751,
          -1.3176169943595426,
          -0.25500048085685545,
          -0.25758275321004465,
          -0.5375112486168094,
          -0.19041268561406013,
          -0.4563153050297286,
          -0.7285708013718042,
          -0.4531285978649749,
          -0.25716338924452303,
          -0.5151202484889799,
          1.029038838966022,
          5.319074987802003,
          1.06460753783501,
          2.8444410266184605,
          0.1456976548536018,
          -0.2518208634014683,
          -1.5938211405801077,
          -0.01770326447373332,
          4.019513100877066,
          -0.40967671281518864,
          -0.707459493512042,
          2.6076702284020414,
          0.7396130220755827,
          -0.5452209320240506,
          -0.3571410514719352,
          -0.8215327710610667,
          -0.8471575989100597,
          5.006770102930903,
          0.42090371845196234,
          -0.18120317499337169,
          -0.29252693763162874,
          -0.4033759679693076,
          -0.09199190134578362,
          1.8170370725157825,
          1.30378360576818,
          -0.045217055362903956,
          5.208756526820401,
          -0.17782057864888154,
          -0.32672014763278356,
          -0.04106517752899394,
          -0.4295371535656694,
          -0.16968900337790857,
          -0.04812182561030629,
          0.12343503750624572,
          1.3914958571967528,
          -0.34988739402610575,
          -0.416467199417601,
          -1.5014161579058374,
          -0.586523660185739,
          -0.8348148378564019,
          1.3671264711743043,
          -0.17674950644163884,
          -0.7170547827289535,
          -0.14553184481623221,
          -0.3490301290791382,
          -1.0953473930698,
          -0.22910850993854137,
          -0.7004292026414735,
          -1.0155549217256647,
          -0.12222280460479727,
          -0.18935197300410478,
          -0.37087800242781754,
          -0.07608380263602522,
          -0.7561827927134412,
          -0.158678751386242,
          -0.18631519731024881,
          -0.08333572583202296,
          -0.3466924903592888,
          -0.42336695056512386,
          -0.6350504808919591,
          -0.7660780876494097,
          -1.3483750359330713,
          -0.2358867324631716,
          -0.1647955580482736,
          -0.6684977552033513,
          3.2526617986184365,
          0.03953777857235953,
          0.8598990101076662,
          1.9418347899098871,
          -0.32350285467520207,
          -0.3418147153384478,
          1.6333069362639612,
          0.7295877292990822,
          4.798502234076507,
          2.671585803704018,
          -0.6728682673412616,
          -0.6097995944388213,
          -0.6501049545482639,
          -0.5395395281937297,
          -0.7579020998953095,
          -0.3204695089742138,
          -0.0661701205631524,
          -0.29536130080692324,
          -0.5986192262154478,
          -0.6741637543218645,
          -0.42307858411036686,
          -0.422262307786633,
          2.476837171768266,
          0.7826252818593248,
          -0.525646757988568,
          0.36888403226397565,
          -0.28871932740578643,
          -0.8355760085369289,
          -0.3526291432054434,
          -1.001717764538133,
          -0.009298846463032345,
          -0.4484634562279597,
          4.532114570253898,
          -0.15350575292955493,
          -0.12458530556297574,
          -0.03218985972129629,
          -0.3887512525482309,
          0.2633750583214332,
          -0.6303940007180916,
          -0.4774913952690123,
          -0.5356212040118011,
          -0.1984623000856867,
          0.21184528320075124,
          -0.4862091369158198,
          -0.5446876813041963,
          1.961729116131781,
          -0.25279008202117403,
          -0.24903176578122554,
          -0.2515582002274941,
          -0.21675172855351318,
          -0.3080478271902587,
          -0.44890761740175184,
          -0.7946148826290093,
          -0.2652950127078038,
          -0.24862674419723377,
          -0.16656552625058552,
          -0.16189990082802772,
          0.025817107277957826,
          -0.5900444701766688,
          -0.2652950127078038,
          -0.1647955580482736,
          -0.7882142018339574,
          -0.9268054656098105,
          -0.11264224489060744,
          8.004960666364681,
          -0.186106475452305,
          5.929303776887959,
          4.711801272912917,
          5.915293863815816,
          1.99023479021147,
          0.829275874909409,
          0.7067383834644662,
          -0.0066511351041357285,
          -0.1803550775802604,
          -0.7449575372210344,
          0.6207754639739747,
          -0.8939259724919313,
          0.7578901564327155,
          -0.6561923804265913,
          -0.19542552439182176,
          -0.3190207234603777,
          3.4685711145626166,
          -1.0701352994947766,
          -0.7478944897359414,
          1.6727001141025786,
          -0.30784917072927037,
          0.16512893145134724,
          -0.9336709040595704,
          -0.6036074650178616,
          -0.07632582751391093,
          -0.051316643359739796,
          0.5992424693775593,
          1.4839654997203318,
          -0.07412403601876333,
          -0.6507116980779809,
          -0.7874545864254642,
          -0.20512099907946066,
          -0.903545033436361,
          -0.12698710679422168,
          -0.25154821806773814,
          0.23109769677979322,
          0.14820033880922162,
          -0.9335092830392907,
          -0.7417649231012182,
          1.4255927815964262,
          -0.19542552439182176,
          -1.584173185995004,
          -0.572418612852015,
          -0.31215813915060225,
          -0.2522844151665502,
          -0.19998068793262347,
          -0.3705442909903891,
          0.2853925769645872,
          1.2167694902823964,
          -0.5444068132151264,
          -0.4547734252418494,
          -0.2590754213788336,
          -0.482919443095837,
          -1.0475444347068024,
          -0.25500048085685545,
          -0.15500866738902924,
          -0.7892423711628761,
          -1.1563657389354312,
          -0.16846564204550293,
          -1.048050828462639,
          -0.4325414606602809,
          -0.2425264670106033,
          -0.2014990757795391,
          -0.5562570926929469,
          -0.8425600465129566,
          -0.19489069012044682,
          -0.25128848396002074,
          4.94365669838528,
          2.1922826987299184,
          1.5676723769132725,
          -0.06015061617665665,
          0.9257637363899776,
          0.07343967680913341,
          2.623584315284044,
          -0.5183889626934549,
          2.3700558111155323,
          -0.8923391720230617,
          -0.3575385564966577,
          -0.33972295585087864,
          -0.5509037402487477,
          0.2534766091109858,
          5.4019766185338485,
          -0.24686341137681994,
          3.5028159583154688,
          0.43861788188227263,
          -0.5991150921735614,
          0.9171763942709843,
          -0.189623892235562,
          -0.5419193834561294,
          -0.1476684993945847,
          0.007865855814768315,
          0.14150882897524356,
          1.2627033544757158,
          -1.0146427523567925,
          0.5482053325543957,
          -0.3413794286303615,
          -0.011227378578082405,
          -0.2871123369297382,
          -0.018396316033806297,
          -0.20321653902023268,
          -0.2527963199198354,
          -0.3471631763778966,
          -0.3958259740679255,
          -1.3248812273501107,
          -0.9345764886786151,
          -0.42855612798200143,
          0.18561923273791955,
          -0.4370141471028419,
          -0.07284111777605723,
          -0.5905077108754674,
          -0.22393011575486615,
          -0.41072894700338713,
          -0.18783358515717047,
          -1.3652722030934374,
          -0.1368259156855567,
          -0.2636686880151544,
          0.2417585744507102,
          -0.1665761553001577,
          -0.6503014845235908,
          -0.38628721708899777,
          -0.5179987918398551,
          -0.1510450512674602,
          -0.4833186699034382,
          -0.16601891938068658,
          -0.5912033855592849,
          -1.1865436672161478,
          -0.7928132813219685,
          -0.2964292521353003,
          -0.14683459399614635,
          -0.2137485324312085,
          -0.4067241941932563,
          -0.38901062265718633,
          -0.17189174897085993,
          1.4321057432162345,
          0.49557358165646986,
          3.3735731196842793,
          1.613175250742477,
          -0.7848429436032713,
          0.399164877734805,
          0.2578689515071279,
          -0.6885045231329444,
          2.5283518868070716,
          0.9927151846348482,
          -0.01905634140526176,
          -0.4166562095039732,
          0.09199313201959075,
          -0.5816130804742926,
          -0.23017056480698644,
          1.3657955924664538,
          -0.47750558761456363,
          0.8513022079810785,
          -0.3584076680786498,
          0.06830279328290545,
          1.0858022868995225,
          -0.5419433479528167,
          -0.5720661811635982,
          -0.48125871302548223,
          -0.11554360411032599,
          -0.22596526051917348,
          -0.7847733765513597,
          -0.28901435392030356,
          3.6370509059972305,
          -0.26914166434202885,
          -0.20444492169834202,
          1.1435315427811763,
          -0.388001460439263,
          0.6127238175408524,
          -0.774425736789671,
          -1.0196950043478015,
          -0.6494678428052268,
          4.181770086313428,
          -0.30907920575535136,
          -0.05309838326666306,
          -0.1721357260427148,
          -0.019123463248365995,
          1.1021498323362204,
          -0.2650933226973795,
          -0.3158905048128632,
          1.533756753234771,
          0.6455181696390772,
          -0.1665761553001577,
          -0.7797301589821729,
          -0.3559609454138344,
          -0.2638754486097033,
          0.9763454635798476,
          1.5105076204634147,
          -0.41669883691458137,
          -0.18176003376944697,
          -0.16662130513868337,
          -0.23777410140965702,
          -1.5975829929931562,
          -0.15957328054267772,
          0.41277660570760855,
          -0.2906135882254599,
          -1.4383109986196234,
          -0.2014990757795391,
          -0.3732449571094875,
          -0.6280645559330834,
          -0.15500866738902924,
          -0.6957440408721809,
          -0.19998068793262347,
          -0.563722797591177,
          -0.4201224313236316,
          -0.25246921982988885,
          -1.0936699465051483,
          -0.23627250334850286,
          -0.19238874869796488,
          -0.9913487122357434,
          -0.31989341374499614,
          -0.25154821806773814,
          -0.6554069302458244,
          -0.660642948996751,
          -0.23326930722618522,
          -0.1647955580482736,
          -0.24636982388408382,
          -0.25500048085685545,
          -0.24512570998506708,
          -0.6960083827397822,
          -0.2088890402820524,
          -0.25327434946228583,
          -0.9639058559825076,
          -0.4524999417492578,
          -0.22492964011885633,
          1.1835746777035905,
          6.492766159078821,
          -0.2378053088820304,
          -0.17332635093706453,
          -0.574151327096816,
          1.569079376163338,
          0.06153543673708125,
          3.7786141848700634,
          -0.4791035933771492,
          -0.3381480092847256,
          -0.4242797522066071,
          -0.7988940121089325,
          -0.6638403968361148,
          0.33445939023238147,
          -0.4349931743977294,
          -0.44587123773326914,
          -0.9515396969144888,
          -0.4488985526739749,
          -0.39960768944127173,
          -0.8821265886451916,
          1.5339752658919317,
          -0.41506623978054497,
          -0.026108379283769967,
          0.6361080277191221,
          -0.5329924129313757,
          -0.8065098897303746,
          -0.21135081052736746,
          -0.8044020737639934,
          -0.5002645022059944,
          -0.4582547867948922,
          -0.5955899883748782,
          -1.83345368994455,
          -1.3732056220325555,
          -0.7582771325801858,
          -0.2026323546949255,
          0.4551843434675696,
          -0.3202297484940653,
          -0.16846564204550293,
          -0.11341438208719522,
          -0.34508045924511244,
          -0.7043345554986091,
          -0.36266780510491214,
          -0.21303224749798572,
          -0.37634136691691994,
          3.346406813372582,
          -0.44192434429273786,
          -1.1333319802323931,
          -0.4415876047282844,
          -0.17091236471030913,
          -0.32847958139086525,
          -0.11657930145881633,
          -0.18935197300410478,
          -1.0591778217333438,
          -0.10852093675757465,
          -1.09358488336772,
          -0.4133255593164838,
          -0.1569176490376952,
          -0.10980860449888061,
          -0.28783424786221495,
          -0.8513022346556206,
          -0.8790188176548545,
          -0.18024164592252956,
          -0.074151338197456,
          -0.15133858339180115,
          -0.24636982388408382,
          -0.4046174638937983,
          -0.17091236471030913,
          -0.18479680946331997,
          -0.8243211739617059,
          -0.1721357260427148,
          -0.18783358515717047,
          -0.1984623000856867,
          -0.25154821806773814,
          -0.24903176578122554,
          -0.5999373795678803,
          -0.25279008202117403,
          -0.14956205285434093,
          -0.6788014640791026,
          -0.2418032414243228,
          4.955429074338257,
          3.1397649196819453,
          1.6400729727039687,
          1.9676819200365985,
          -0.09214406204307772,
          0.5404876633497304,
          -0.2549640685543966,
          0.7653816988606554,
          0.5577954966774883,
          -0.6068348735647309,
          3.7819612833602685,
          -0.18348317945217965,
          1.0319267863998745,
          1.5929696756725011,
          0.3235755512649427,
          -0.5432629235610761,
          -0.22884379449079692,
          -0.04985168314525778,
          -0.20003734522380037,
          -0.7999220103072214,
          -0.2968633400174193,
          0.7268068378477271,
          -0.4572140468530175,
          -0.574233547887564,
          0.07703634319646505,
          0.6301164159377717,
          0.029518492040909287,
          -0.6091948779727892,
          0.9438678299362125,
          -0.26951908567144256,
          -0.2926731081200362,
          -0.11586110475201472,
          0.5387192717341116,
          -0.34971754273555844,
          -1.127441996664661,
          -0.8322646129520852,
          -0.19694391223875649,
          -0.3801453163733875,
          -0.25459741687244486,
          -0.2132526225427471,
          -0.8244060151729083,
          2.5873416417597905,
          -0.9882515559987693,
          -0.25500048085685545,
          -0.12298410474213871,
          -0.44676599891193775,
          0.8777184770400421,
          -0.1439984153973668,
          -1.18523985358598,
          -0.40619983108257324,
          -0.4871471214160397,
          -0.44253388074213,
          -0.5684394001156183,
          -1.3814901892649236,
          -0.7399086582949477,
          -0.5154165194866857,
          -0.8902317157107539,
          -0.3587026945931822,
          -0.041802279530714956,
          -0.15743633219612693,
          -0.2486267441972338,
          -0.17412471858250714,
          -0.7049977024429541,
          -0.05421545462735199,
          0.9950190385600423,
          0.8322342214288131,
          2.180214962804321,
          5.545841556639603,
          1.420693687850022,
          0.13769476627884095,
          0.23373791655089698,
          -0.2669073393883609,
          -0.3261952204150833,
          3.250915856224617,
          -0.5583478679114322,
          1.2812572767190522,
          -0.8688235579986603,
          -0.368035687778749,
          1.7588288920290638,
          0.558467855188925,
          1.8687216132659057,
          0.5551304998152944,
          1.186835082641457,
          -0.470130058206615,
          -0.3128472339930733,
          0.46260022632802095,
          0.3750686479690393,
          2.6372127703836727,
          0.3154553466523603,
          0.4093336460740686,
          -0.28288165395164794,
          -0.14018395300315942,
          -0.8465563726731408,
          -0.40513110189501667,
          0.5148412874156787,
          -0.16724228071309089,
          -0.7404366090540733,
          -0.34954465344207086,
          2.103908068092738,
          -0.37085050100722156,
          -0.25874205638557857,
          -0.5115942871522148,
          -0.051126934053358386,
          -0.640702209669262,
          -0.2980104359902849,
          -0.1696129309940128,
          -0.25429168008232905,
          1.5617173443986987,
          -0.7572725588767495,
          -0.23342069235549373,
          -0.5314571405946568,
          -0.14251356991832073,
          -0.16968900337790857,
          -0.3498486840886413,
          -0.2836775551454919,
          -0.4031786757307292,
          -0.3541042757780764,
          -0.19998068793262347,
          -1.0308840233544605,
          -0.14683711329007038,
          -0.1650577674532287,
          -0.6853290239043756,
          -0.2620423633224794,
          -0.08802562120809408,
          -0.22418996098540464,
          -0.2636686880151544,
          -1.3097796908210837,
          -0.5440285544232561,
          4.176463929126531,
          -0.8856175590109862,
          3.0270190993131725,
          1.6529130877079883,
          0.18130785244131287,
          -0.12336417454010479,
          2.152752965381856,
          0.16145155695386107,
          5.210831735067668,
          0.38968721209525203,
          -0.36734181058846765,
          1.188584036564906,
          -0.19901670995797857,
          -0.8358608080696807,
          -0.8028062776693512,
          -0.055514323770108655,
          2.341097430628747,
          1.1841673440658087,
          1.5617086671282967,
          -0.678518268188516,
          1.4223634335006299,
          -0.5294777409573642,
          -0.21744560014097306,
          -0.27943645399162026,
          1.4810921445240748,
          -0.7134358456988883,
          -0.9061154459594063,
          -0.8452928444019918,
          -0.20894298308119266,
          -0.6627333954331739,
          -1.0199783889021374,
          -0.25767353119486663,
          0.1336949371929311,
          -0.7858293782232314,
          -0.19195448883600885,
          0.0014876183540452432,
          -0.4625758218258105,
          -0.4693931677361882,
          -0.0875416060239605,
          -0.8208176994867531,
          -0.8948318659125989,
          0.22164505803239862,
          -0.513032821673785,
          -0.15673313561731145,
          -1.081603712307222,
          -0.19542552439182176,
          -0.9603629431521786,
          -0.3301651547204293,
          -0.8825202429387903,
          -0.8291762113504161,
          -1.1010610113877564,
          -0.24291756109497428,
          -0.256090085041234,
          -0.25327434946228583,
          -0.22565624714943724,
          -0.40614468281143035,
          0.3841405410674813,
          -0.556856538239645,
          -0.23967073518444085,
          -0.9794971628320119,
          -0.19390713654490352,
          -0.22463689539136225,
          -0.4974141828124298,
          -0.25279008202117403,
          -0.18221497314700555,
          -0.4775414355083957,
          2.7164020041171013,
          1.461777269423385,
          2.102773319843454,
          -0.4591413535662154,
          3.2597724591493873,
          -0.7489515124663828,
          2.568108470687026,
          -0.3387409103582703,
          1.4945616869633611,
          1.8588471839956668,
          -1.1724392043811012,
          -0.3426966084005145,
          0.1738362452466978,
          -0.526680513239162,
          -0.3350697822055357,
          -1.3996920623984543,
          0.12408211974599859,
          1.3156284201463275,
          0.6544071295108821,
          -0.4939984531080977,
          -0.440069216881362,
          -0.7221943411937333,
          0.23117715833469132,
          -0.8807975042162579,
          -0.5016742399237969,
          -0.9536984628040469,
          0.14801595004401255,
          -0.15345418104236602,
          -0.4404452208649967,
          -0.6913540622977038,
          -0.23777410140965702,
          -0.8189933432114178,
          1.4307274803528849,
          -0.24305435069414705,
          -0.3605991251791018,
          -0.25154821806773814,
          -0.25154821806773814,
          -0.3313222337269407,
          0.20509022637725835,
          -0.45656941044530513,
          -0.4128151502747658,
          -0.4087397641611162,
          -0.1721357260427148,
          -0.3502256758149486,
          -0.32977075717783344,
          -0.16968900337790857,
          -0.12058230351089567,
          -1.0806743234956835,
          -0.7679883848588802,
          -0.13298816340569986,
          -0.2587897139371763,
          -0.24953626990013725,
          -0.743932047188455,
          -0.12145533078923201,
          -0.3020436675787818,
          0.14571881926451571,
          -0.19390713654490352,
          -0.2966599215065619,
          0.09565185428327544,
          -0.8739493856703634,
          -0.22393011575486613,
          -0.5858752914406598,
          -0.25154821806773814,
          -0.654506196954279,
          -0.6623451586096365,
          -0.501354316971941,
          -1.1003295160642832,
          -0.25154821806773814,
          -0.2522844151665502,
          -0.6736606279860565,
          -0.18935197300410478,
          2.500590349822935,
          -0.08347343340995562,
          2.4378425986725465,
          1.1407228326889187,
          2.3051902268379703,
          -0.2020835462738479,
          -0.18298109773545687,
          0.3117209554777056,
          2.369942364147475,
          -0.8387928094784252,
          2.1427436534427193,
          -0.22904873222850683,
          1.3507004767653634,
          0.520365442981316,
          2.2410518736481166,
          3.9750572360095777,
          -1.1108574831164635,
          -0.3804199346548375,
          2.5759029566585196,
          -0.4122653008812567,
          -0.3123658826982372,
          1.4778807405984613,
          -0.15760242439006414,
          1.068061643905791,
          -0.3033370113811525,
          -0.7439991147835381,
          -0.10607421409275573,
          -0.2256139455953337,
          0.12331342554889545,
          1.9479647433445788,
          0.5799363359188303,
          -0.6724612936706176,
          -0.5759852732576823,
          -0.5227154555695214,
          -0.2898485459667967,
          -0.06534087519216839,
          -0.11097509858589943,
          0.29991540524819466,
          -0.24465777849352593,
          -0.5646094370029391,
          -0.5934149961304191,
          -0.8865819276868417,
          -0.5116201170944951,
          -0.14538529595399033,
          -0.5265961655864528,
          -0.6428981187876514,
          -0.1229841047421387,
          -0.2014990757795391,
          -0.17608248800880666,
          -0.1389621506968137,
          -0.23439484354731316,
          -1.0235665688027498,
          -0.22073627704210028,
          1.0146418516412234,
          -0.2587897139371763,
          -0.6332888408744357,
          -0.3073215186320941,
          -0.16846564204550293,
          -0.19694391223875649,
          -0.19998068793262347,
          -0.3977183494621796,
          -0.25154821806773814,
          -0.4008671379406501,
          -0.8754485289989135,
          -0.4033899628716339,
          -0.9306688791970428,
          -0.21594175292472914,
          -0.6989530052498834,
          -0.3342104033806369,
          -0.25279008202117403,
          4.079316626493534,
          0.15812355009625723,
          2.878354120554213,
          0.30944541158636907,
          -0.15146255494008531,
          2.856611047136258,
          -0.07013954320839799,
          3.1611028072470506,
          1.6783027303935947,
          -0.08310366945581088,
          -1.0775292054602177,
          0.24982453377997188,
          -0.5189693966543325,
          0.2875140056574572,
          -0.2539567165307803,
          -0.1721357260427148,
          -0.031111495751871814,
          -0.005452467510588333,
          -0.25585049469763965,
          0.8311358705573241,
          0.3164412534244911,
          -0.16846564204550293,
          -1.0339338810755156,
          -0.6927289249248854,
          -0.11645139862998057,
          -0.5113238778580144,
          -0.2539184123436629,
          -0.30518856836457986,
          -0.31222505353435054,
          -0.29742463361081267,
          -0.21996517835302662,
          -0.57224407396749,
          -0.23464121863903833,
          0.19797272419972642,
          -0.5990125401482396,
          -1.0136047472924443,
          -0.30152217146507126,
          1.6454492820981121,
          0.3018115338685027,
          -0.2993125474656621,
          -0.22926445798281528,
          -0.5505403284104695,
          -0.2066688018093457,
          -0.3935308857684536,
          -0.9924922060316269,
          -0.1647955580482736,
          -0.4319339548744066,
          -0.25638754976268785,
          -0.25154821806773814,
          -0.14076356190235334,
          -0.27601373182190403,
          -0.45649955663638436,
          -0.35742243911781074,
          -0.45045202758992203,
          -0.4350985662453077,
          -0.31914993159061045,
          -0.45390519344320046,
          -0.6246957570679327,
          -0.4367388950929501,
          -0.04157778530119426,
          -0.3099929639479316,
          -0.2930884665715629,
          -0.2826880637066187,
          -0.25429168008232905,
          -0.26971924619299287,
          -0.23650969143785378,
          -0.1362083983615669,
          -0.4030024898996099,
          -0.25065809047388493,
          -0.12458530556297574,
          -0.29389069617746233,
          -0.6921681205693525,
          -0.39214468041270395,
          -0.06692665145575016,
          -0.813548221218072,
          -0.19998068793262347,
          -0.2778661719511965,
          -0.574154432991414,
          -0.7008918045723558,
          -0.4290101430570783,
          -0.25327434946228583,
          -0.44393696676572253,
          -0.35607340117401226,
          0.12316008095312336,
          0.4784932499951904,
          -0.5751900668476984,
          -0.8405338334695948,
          -0.39692556254543737,
          -0.1823557467336205,
          -0.6834335706006378,
          -0.1942277576362179,
          -0.19390713654490352,
          2.1220592918905767,
          0.3579677526014521,
          1.7586114219426034,
          -0.5427483893106131,
          -0.4341805293109938,
          -0.37823080225249045,
          0.37981862593229254,
          -1.011259005583523,
          -0.3601778271657723,
          -0.1984623000856867,
          -0.8451078904416921,
          0.1922146999858472,
          0.2862957903581662,
          -1.052887198547309,
          1.0147910707696084,
          0.057876619596669086,
          -1.07219550612267,
          -0.41010620437906076,
          0.21889509966059642,
          -0.18479680946331997,
          -0.1871014359760188,
          -1.1854739010226163,
          -0.26980708229274886,
          -0.6399792257591449,
          1.8527119804348746,
          0.187472178665027,
          -0.18388179768280533,
          1.763685663400187,
          0.3661593308028486,
          -0.24809595527862996,
          -0.9636037247959692,
          -0.13641269577575663,
          -0.5526267907044152,
          1.2953195917987455,
          3.9738488642021395,
          -0.3047752322625052,
          -0.24903176578122554,
          -0.12218350433172606,
          -0.6063156749226027,
          -0.19694391223875649,
          -0.44970518314775426,
          -0.8050493320501587,
          -0.16601891938068658,
          -0.5831541118459564,
          -0.060563219751195295,
          -1.0958804925348469,
          -1.1026447330119447,
          -0.7859605434538135,
          -0.5781871586873931,
          -0.27763958702038893,
          -0.47442378129021473,
          -0.43550724959004855,
          -0.12240438135555122,
          -0.4067804287964108,
          -0.6623585459298933,
          -0.25500048085685545,
          -0.7473094628615728,
          -0.23865578373141258,
          -0.4472351249310899,
          -0.24978688589886983,
          -0.1984623000856867,
          -0.48048712724763337,
          -1.3197722674807504,
          -0.7238366195006675,
          -0.2590754213788336,
          -0.05635727799975196,
          -0.5777887227043393,
          -0.46388580458195694,
          -0.25429168008232905,
          -0.37639059119685425,
          -0.384439876779481,
          -0.2132679826710718,
          -0.19694391223875649,
          -0.23601303551674535,
          -0.49358698253813943,
          -0.4370324411875059,
          -0.7830934342581676,
          -0.6949631994985815,
          1.174535888035878,
          -0.29128474770107254,
          -0.4660790615734074,
          0.849115182722696,
          -0.1428019402108309,
          1.6009997952270216,
          -0.34166214648810755,
          -0.2838823990848361,
          -0.1464451380621731,
          -0.723896481015027,
          -0.11463774341960906,
          0.27631942227620826,
          -0.16787104043878648,
          -0.5231035875946985,
          -0.09626320297540956,
          -0.17765486296398625,
          -0.42346864566844095,
          -0.3606975617457529,
          -0.8048805549945119,
          -0.36319182842093417,
          0.5902665545010105,
          -0.5546793028561399,
          -0.2016201143485082,
          -0.3796509795282798,
          -0.5013091558959757,
          0.8381254597910835,
          1.302623589990577,
          -0.48942474186648627,
          -0.2635903931702806,
          -0.12489474464025076,
          -0.05575380259843814,
          -0.7234470776835558,
          -0.5248052380747114,
          2.314251582562943,
          -0.19998068793262347,
          -0.49560120306909045,
          -0.5049785086913814,
          -0.6941926744710146,
          -0.47862082815359663,
          -0.1984623000856867,
          1.9641846960049436,
          0.35668779938793316,
          1.7250648595122389,
          -0.3406473011216025,
          -0.24927673825426083,
          -0.6870850491005576,
          -0.2014990757795391,
          -0.8020050507878002,
          -0.8610790676933447,
          -0.725812595830679,
          -0.4205379184188906,
          -0.24265607152204846,
          0.32168348229371413,
          -0.2014990757795391,
          1.8005341591441688,
          0.09484158385088792,
          0.9174075752293003,
          -0.058489654061047315,
          -0.9507148035292864,
          2.5597236178738147,
          0.6837399269633333,
          -0.43289276474195604,
          -0.48471819017923046,
          -0.36822782906344254,
          -0.17091236471030913,
          -0.4226044904445331,
          -1.050407197770239,
          -0.28586923223765626,
          -0.25500048085685545,
          -0.37612696508283977,
          -0.6434805430896102,
          -0.2522844151665502,
          -0.47180661575404714,
          -0.4542723680149457,
          -0.326286254655807,
          -0.762703867288903,
          -0.24119142970042426,
          -0.4302448433153207,
          -0.23183707863600578,
          -0.2590754213788336,
          0.46411896270467257,
          -0.040408242969358424,
          0.14645524928885734,
          -0.09246042787527065,
          -0.060563219751195295,
          -0.731379281912014,
          -0.6739577549124263,
          1.7528415902699683,
          -0.3156551272523171,
          -0.48383682932635363,
          -0.38420387733538924,
          -0.8629759777724401,
          -0.2271726821515025,
          0.5453608567284216,
          2.019211521796458,
          0.49596651285047855,
          -0.20070085674137658,
          0.9794773861392554,
          0.5176032009595598,
          -0.14419576703848214,
          1.7860904669178403,
          -0.7595239682144345,
          0.45299709105179004,
          -0.2847084313542163,
          -0.43242932183063765,
          -0.5676495957971595,
          0.5175095686428274,
          -0.23940662227700893,
          -0.1831595256806074,
          -0.001641683254426697,
          -0.41968633501064084,
          -0.4859430616150447,
          -0.14522177672977843,
          0.13112226891466855,
          0.14563979746751476,
          -0.022961463387273257,
          -0.16968900337790857,
          -0.7988871983502291,
          -0.3288057125722952,
          -0.7535693042823334,
          -0.31609736219221146,
          -0.9205868242081842,
          -0.14592493277614083,
          0.3144170112087512,
          -0.5264901270943817,
          -0.5171417839220342,
          -0.740868275550889,
          0.1624243827527768,
          -0.19694391223875649,
          -0.14424559895585007,
          -0.6992991811709439,
          -0.17720487022866893,
          -0.5439165929336763,
          -0.03175038077328117,
          -0.4222427615699602,
          -0.7826728783268841,
          -0.4198516118285477,
          -0.25500048085685545,
          -0.6659112247491417,
          -0.18940748786378978,
          -0.30964629972133884,
          -0.7583237997369667,
          -0.2014990757795391,
          -0.2014990757795391,
          -0.09411743452796562,
          -0.25429168008232905,
          -0.23723661707222732,
          -0.303071928397229,
          -0.23499168060245862,
          -0.45577121443271934,
          -0.22643754019978318,
          -0.6347151156280159,
          -0.24265607152204846,
          1.462692329244012,
          -0.2634033994281082,
          1.4115474929893332,
          -0.33028118995989414,
          -0.1277734220146567,
          -0.19697983579143546,
          -0.2045594169024695,
          -0.1466183617494836,
          -0.7528373592330038,
          0.44726939226685297,
          0.8447640492137092,
          -0.6067214445653973,
          -0.3408203222188499,
          -0.6029550286087217,
          -0.22336764086594674,
          0.40869100034383193,
          -0.38324837958597,
          0.616466289320605,
          0.6032253441974382,
          0.34246226350942843,
          -0.1280176226346873,
          -0.3672229686457078,
          -0.018687174919629585,
          -0.1597058925446958,
          -0.4645730364183013,
          -0.05848965406104732,
          -0.6117955297463605,
          0.8777967417524147,
          -0.34038800288755255,
          -0.4391740596773005,
          0.5793949302342599,
          -0.12419314264377848,
          -0.23429266761313858,
          -0.25327434946228583,
          -0.34718890012108167,
          -0.23428690412219938,
          -0.651322595093808,
          -0.7761842987875188,
          -0.9904851666022668,
          -0.18594912572458777,
          -0.25154821806773814,
          -1.152085529296423,
          -0.4610710085779117,
          -0.2614982663193455,
          1.2228730776026193,
          -0.43004532160719283,
          -0.13065584320092513,
          -0.4488309536829356,
          -0.25500048085685545,
          -0.2953024003660951,
          -0.633131454813073,
          -0.17526346295154435,
          -0.12698710679422168,
          -0.5299313442584176,
          -0.637359370853717,
          -0.21529945878210338,
          -0.6304462150182681,
          -0.36232952331606577,
          -0.15528197837888819,
          -0.39691400092593043,
          -0.25154821806773814,
          -0.6305723245988643,
          -0.31702965914838444,
          0.3083873041907622,
          -0.50024386681226,
          -0.1667699044134844,
          -0.06615136340210917,
          -0.23954086327499458,
          -0.7202699773364025,
          -0.16178938555093383,
          -0.18327842161638738,
          -0.4910510665591544,
          -0.34242443350497065,
          -0.42157663615701596,
          -0.6863831764250274,
          -0.4138601042724066,
          -0.7334594402833362,
          -0.25154821806773814,
          -0.20323734600314153,
          -0.17091236471030913,
          -0.8575811755225685,
          -0.24291756109497428,
          -0.2014990757795391,
          -0.3465988470920386,
          -0.2441487396908379,
          -0.46665619616925,
          -0.12203870091295621,
          -0.5560368306764903,
          -0.5811903109962337,
          -0.4939815117216148,
          -0.22951586946933916,
          -0.5829838724450507,
          -0.7397062413119814,
          -0.2587897139371763,
          -0.2422788955931084,
          -0.04518295331230628,
          -0.09134668649651498,
          0.18381550132282634,
          0.9478332615060432,
          0.6087149000410769,
          -0.0908186097794246,
          -0.0529833284434421,
          -0.14302213168212446,
          -0.2589817768037657,
          0.08207002281292451,
          1.3189002929039273,
          -0.2204282582854188,
          -0.1787090727737152,
          0.773602416110933,
          -0.3035809847009108,
          -0.5272049391631205,
          0.028103556262058422,
          -0.13630707677340165,
          0.38786371632042,
          -0.08117853091806174,
          0.955848051744885,
          -0.3193170871004575,
          -0.5618450495321603,
          -0.2065191211540224,
          -0.23620831846891815,
          -0.41500147849686403,
          -0.5681389992213381,
          -0.20622749952658215,
          -0.06349071598797743,
          0.7187243090267403,
          -0.29300602617491295,
          -0.7722154988049295,
          -0.16185579224559174,
          -0.14432745284419815,
          -0.30435689181914366,
          -0.3041230256713564,
          -0.5044457507394247,
          -0.1989023495381442,
          -0.15990211271864635,
          -0.60502825053617,
          -0.547783885575068,
          -0.6679602270306279,
          -0.37974919009941,
          -0.8164864624293349,
          0.45017032738031854,
          -0.1644078393453472,
          -0.20512099907946066,
          -0.011458161994478123,
          -0.22910850993854137,
          0.04974634281589876,
          -0.34356207139819817,
          -0.4082588436568973,
          -0.16100868571151766,
          -0.5090846888599885,
          -0.33107668683391145,
          -0.19998068793262347,
          -0.2604160386298268,
          -0.35562266362498385,
          -0.6768632398606268,
          -0.40252500780337314,
          -0.6759301047145252,
          -0.18327842161638738,
          -0.5631914845255115,
          -0.2620423633224794,
          -0.2014990757795391,
          -0.243528985713811,
          -0.20396692671403435,
          -0.39990371920472206,
          -0.07541955878746595,
          -0.42927040679793405,
          -0.10966304402826405,
          -0.47528017694922586,
          -0.25327434946228583,
          -0.412103794410723,
          -0.25500048085685545,
          -0.2587897139371763,
          -0.2394652983058661,
          -0.4526968504820553,
          -0.1721357260427148,
          -0.19087036085104087,
          -0.22788954477667206,
          -0.18479680946331997,
          -0.1984623000856867,
          -0.1984623000856867,
          -0.24291756109497428,
          -0.7620754826317289,
          -0.1183078274168224,
          -0.4958154555577849,
          -0.35562266362498385,
          -0.45226911178437806,
          -0.25500048085685545,
          -0.24678368977656825,
          -0.5117045225898575,
          -0.23601303551674535,
          -0.16809454314709357,
          -0.25154821806773814,
          -0.4978159601449664,
          -0.11662226530052812,
          -0.11898110269006237,
          -0.4577456813129934,
          -0.4923966610784836,
          -0.12378470515256292,
          0.03747750130697333,
          -0.1186605394676081,
          -0.49584755118148693,
          -0.2954976702732717,
          0.20300395812007224,
          0.1267053142385034,
          0.12175485065018696,
          -0.07789694558659459,
          0.2531523224658033,
          -0.5592705740031272,
          0.062090681253491035,
          0.00033348328180713804,
          -0.15755334604357799,
          -0.06222207230331824,
          -0.24876686445410418,
          -0.19864348863282866,
          -0.35444255756691856,
          0.3357880000228913,
          -0.2834176437198539,
          -0.25154821806773814,
          -0.19542552439182176,
          -0.15331072077907026,
          0.01127215371343833,
          -0.37155920659935743,
          -0.0577443355995245,
          -0.5439805836719217,
          -0.2652950127078038,
          -0.12819593762059087,
          -0.3852401548344858,
          -0.28877641014323285,
          -0.17091236471030913,
          -0.131456622563244,
          -0.33761557678027515,
          -0.09348649031141539,
          -0.2682263254528912,
          -0.1721357260427148,
          -0.11277580129687219,
          -0.1229841047421387,
          0.14133466549543378,
          -0.3732518566090141,
          0.06525089266578238,
          0.6595506966043757,
          -0.29813198875798397,
          -0.110055679625414,
          -0.07935267373232271,
          -0.1531280587523041,
          -0.5742539246154897,
          -0.10032633276196248,
          -0.12795353956329344,
          -0.09167966652846384,
          -0.20374681579141654,
          -0.0774867603483187,
          0.07902509501607444,
          -0.38659862872493217,
          0.4936740972813273,
          0.616265622581828,
          0.37471336955186857,
          -0.6486452608048194,
          -0.3054343966195049,
          -0.249234546809665,
          -0.125385905973392,
          -0.18935197300410478,
          -0.11347385182150485,
          -0.24218237543652513,
          -0.1721357260427148,
          -0.2014990757795391,
          -0.09789824076736768,
          -0.11108502903852409,
          -0.061934721935082475,
          -0.18157981943260867,
          0.20840541423614017,
          -0.1229841047421387,
          -0.048576231469648054,
          -0.25909650086082064,
          -0.15584167945553007,
          -0.2605975375717826,
          -0.25716338924452303,
          -0.12698710679422168,
          -0.1647955580482736,
          -0.1133768998171475,
          -0.3790931110941775,
          -0.7211427381557445,
          -0.25327434946228583,
          -0.33858211551992745,
          -0.16724228071309089,
          -0.4095063781837321,
          -0.4519443930956044,
          -0.18935197300410478,
          -0.42937583945566915,
          -0.5769790398047832,
          -0.44890761740175184,
          0.2557891590512359,
          -0.6680628525763184,
          -0.3250078500894374,
          -0.4549811687894719,
          -0.16724228071309089,
          -0.3926458367208598,
          -0.2604160386298268,
          -0.25429168008232905,
          -0.25278225807933896,
          -0.5448455642105463,
          -0.4370324411875059,
          -0.6441890458288401,
          -0.18631519731024881,
          -0.3809652623712702,
          -0.2641355119491705,
          -0.44369446024622794,
          -0.3564494159978045,
          -0.16846564204550293,
          -0.07638495619399921,
          -0.12458530556297574,
          -0.17970714261163284,
          -0.2446436924895268,
          -0.1476684993945847,
          -0.319433126538891,
          -0.22910850993854137,
          -0.05517194895680695,
          -0.46715522967871986,
          -0.24119142970042426,
          -0.372411440489851,
          -0.19542552439182176,
          -0.3097327464282653,
          -0.16928952599091135,
          -0.0510248175765151,
          -0.36663291561665723,
          -0.25327434946228583,
          -0.3930481821331319,
          -0.16601891938068658,
          -0.1726671542886122,
          0.2066883557948472,
          0.09378970008130989,
          -0.08527335843548721,
          0.25668443870052376,
          -0.02808013427156873,
          0.032190806853819025,
          -0.07677731461539046,
          0.36538733469021584,
          -0.03886100016294216,
          0.08870521239660323,
          0.013485565261072174,
          -0.11558169693612316,
          0.03436201310425349,
          0.04953154738133985,
          -0.1672758834942284,
          -0.05360769019971816,
          -0.06692665145575016,
          -0.16916534297148744,
          -0.018458540151274985,
          0.008087885197235675,
          -0.3502256758149487,
          -0.26575915880709006,
          -0.07107737976267622,
          -0.10758791411974687,
          -0.05911950151012425,
          -0.11898110269006237,
          -0.03546874906719045,
          -0.34689387360655477,
          -0.14817677710680827,
          -0.002754597449041923,
          -0.25772602256951255,
          -0.20176510741965595,
          -0.3371502382216137,
          -0.17755723434803763,
          -0.08076381778003104,
          -0.19547212084537766,
          -0.1721357260427148,
          -0.10933324426879056,
          -0.13054144074089355,
          -0.35992605592557353,
          0.19456450964292624,
          -0.06459072607384955,
          0.033122500881600195,
          -0.08503459966577669,
          -0.1607734515949301,
          -0.1525619447242124,
          -0.2155416842386298,
          -0.16112547405105213,
          -0.33255181940654216,
          -0.4245340343303652,
          -0.17528332703631344,
          -0.20149040762566836,
          -0.06097793288922505,
          -0.286979062380002,
          -0.12618650638380574,
          -0.3514284796231688,
          -0.4234311335786767,
          -0.29789947150454354,
          -0.15011522205939698,
          -0.42260015938819095,
          -0.3447958806061161,
          -0.24636982388408382,
          -0.41729339917741126,
          -0.4126588581161123,
          -0.16846564204550293,
          -0.3422089442428375,
          -0.34920748361285436,
          -0.19998068793262347,
          -0.3680817574327956,
          -0.48486352797630256,
          -0.25429168008232905,
          -0.23637800694150005,
          -0.19113361925833466,
          -0.2590754213788336,
          -0.3173246856629124,
          -0.44276549537450755,
          -0.25327434946228583,
          -0.3680960749005489,
          -0.24740544108856283,
          -0.34377058736407584,
          -0.17091236471030913,
          -0.2604160386298268,
          -0.24636982388408382,
          0.029449970684226095,
          0.010107854776936076,
          0.006908407032873538,
          -0.011706561659856677,
          -0.030703873813058506,
          -0.07671354211499837,
          -0.0228243241904952,
          0.0082791611617296,
          -0.033192152641238135,
          0.009108587437788768,
          0.010107854776936077,
          -0.02771265590260651,
          -0.09656429119840573,
          0.004132029781432846,
          -0.01665116271886272,
          -0.0015265006560197811,
          0.0066203086096113225,
          -0.060563219751195295,
          -0.04372466411092961,
          -0.0032716539709631625,
          -0.04687768619621766,
          -0.024483176742614958,
          -0.006034813386290116,
          -0.01665116271886272,
          -0.01766916881924585,
          -0.11017449817548532,
          -0.05517194895680695,
          -0.1647955580482736,
          -0.16968900337790857,
          0.010689572548584372,
          -0.05185424385257191,
          -0.038120461238017316,
          -0.0933618895567367,
          -0.007343678372497793,
          -0.11978170310048306,
          -0.11898110269006237,
          -0.09976669284006688,
          -0.08283034877703278,
          -0.07699127233129896,
          -0.19238874869796488,
          -0.12698710679422168,
          -0.11343258065761289,
          -0.05766022778498647,
          -0.11818050227964645,
          -0.19542552439182176,
          -0.10937389776506318,
          -0.06180735916528204,
          -0.1647955580482736,
          -0.029002450151142365,
          -0.12138290392131135,
          -0.15594744037164499,
          -0.05185424385257191,
          -0.13788160873532893,
          -0.14889186072699012,
          -0.12102451989226128,
          -0.009968216911575858,
          -0.1544290525247206,
          -0.17091236471030913,
          -0.1391049700677335,
          -0.1665761553001577,
          -0.2014990757795391,
          -0.05413246944634409,
          -0.23601303551674535,
          -0.24119142970042426,
          0.15104410861261838,
          -0.20753915567299588,
          -0.1721357260427148,
          -0.13281478076695738,
          -0.1721357260427148,
          -0.21529945878210338,
          -0.13469001051462823,
          -0.21650527192807142
         ],
         "yaxis": "y"
        }
       ],
       "layout": {
        "coloraxis": {
         "cmax": 0.5,
         "cmin": 0.1,
         "colorbar": {
          "title": {
           "text": "fg2m_pct"
          }
         },
         "colorscale": [
          [
           0,
           "#0d0887"
          ],
          [
           0.1111111111111111,
           "#46039f"
          ],
          [
           0.2222222222222222,
           "#7201a8"
          ],
          [
           0.3333333333333333,
           "#9c179e"
          ],
          [
           0.4444444444444444,
           "#bd3786"
          ],
          [
           0.5555555555555556,
           "#d8576b"
          ],
          [
           0.6666666666666666,
           "#ed7953"
          ],
          [
           0.7777777777777778,
           "#fb9f3a"
          ],
          [
           0.8888888888888888,
           "#fdca26"
          ],
          [
           1,
           "#f0f921"
          ]
         ]
        },
        "legend": {
         "itemsizing": "constant",
         "tracegroupgap": 0
        },
        "template": {
         "data": {
          "bar": [
           {
            "error_x": {
             "color": "#2a3f5f"
            },
            "error_y": {
             "color": "#2a3f5f"
            },
            "marker": {
             "line": {
              "color": "#E5ECF6",
              "width": 0.5
             },
             "pattern": {
              "fillmode": "overlay",
              "size": 10,
              "solidity": 0.2
             }
            },
            "type": "bar"
           }
          ],
          "barpolar": [
           {
            "marker": {
             "line": {
              "color": "#E5ECF6",
              "width": 0.5
             },
             "pattern": {
              "fillmode": "overlay",
              "size": 10,
              "solidity": 0.2
             }
            },
            "type": "barpolar"
           }
          ],
          "carpet": [
           {
            "aaxis": {
             "endlinecolor": "#2a3f5f",
             "gridcolor": "white",
             "linecolor": "white",
             "minorgridcolor": "white",
             "startlinecolor": "#2a3f5f"
            },
            "baxis": {
             "endlinecolor": "#2a3f5f",
             "gridcolor": "white",
             "linecolor": "white",
             "minorgridcolor": "white",
             "startlinecolor": "#2a3f5f"
            },
            "type": "carpet"
           }
          ],
          "choropleth": [
           {
            "colorbar": {
             "outlinewidth": 0,
             "ticks": ""
            },
            "type": "choropleth"
           }
          ],
          "contour": [
           {
            "colorbar": {
             "outlinewidth": 0,
             "ticks": ""
            },
            "colorscale": [
             [
              0,
              "#0d0887"
             ],
             [
              0.1111111111111111,
              "#46039f"
             ],
             [
              0.2222222222222222,
              "#7201a8"
             ],
             [
              0.3333333333333333,
              "#9c179e"
             ],
             [
              0.4444444444444444,
              "#bd3786"
             ],
             [
              0.5555555555555556,
              "#d8576b"
             ],
             [
              0.6666666666666666,
              "#ed7953"
             ],
             [
              0.7777777777777778,
              "#fb9f3a"
             ],
             [
              0.8888888888888888,
              "#fdca26"
             ],
             [
              1,
              "#f0f921"
             ]
            ],
            "type": "contour"
           }
          ],
          "contourcarpet": [
           {
            "colorbar": {
             "outlinewidth": 0,
             "ticks": ""
            },
            "type": "contourcarpet"
           }
          ],
          "heatmap": [
           {
            "colorbar": {
             "outlinewidth": 0,
             "ticks": ""
            },
            "colorscale": [
             [
              0,
              "#0d0887"
             ],
             [
              0.1111111111111111,
              "#46039f"
             ],
             [
              0.2222222222222222,
              "#7201a8"
             ],
             [
              0.3333333333333333,
              "#9c179e"
             ],
             [
              0.4444444444444444,
              "#bd3786"
             ],
             [
              0.5555555555555556,
              "#d8576b"
             ],
             [
              0.6666666666666666,
              "#ed7953"
             ],
             [
              0.7777777777777778,
              "#fb9f3a"
             ],
             [
              0.8888888888888888,
              "#fdca26"
             ],
             [
              1,
              "#f0f921"
             ]
            ],
            "type": "heatmap"
           }
          ],
          "heatmapgl": [
           {
            "colorbar": {
             "outlinewidth": 0,
             "ticks": ""
            },
            "colorscale": [
             [
              0,
              "#0d0887"
             ],
             [
              0.1111111111111111,
              "#46039f"
             ],
             [
              0.2222222222222222,
              "#7201a8"
             ],
             [
              0.3333333333333333,
              "#9c179e"
             ],
             [
              0.4444444444444444,
              "#bd3786"
             ],
             [
              0.5555555555555556,
              "#d8576b"
             ],
             [
              0.6666666666666666,
              "#ed7953"
             ],
             [
              0.7777777777777778,
              "#fb9f3a"
             ],
             [
              0.8888888888888888,
              "#fdca26"
             ],
             [
              1,
              "#f0f921"
             ]
            ],
            "type": "heatmapgl"
           }
          ],
          "histogram": [
           {
            "marker": {
             "pattern": {
              "fillmode": "overlay",
              "size": 10,
              "solidity": 0.2
             }
            },
            "type": "histogram"
           }
          ],
          "histogram2d": [
           {
            "colorbar": {
             "outlinewidth": 0,
             "ticks": ""
            },
            "colorscale": [
             [
              0,
              "#0d0887"
             ],
             [
              0.1111111111111111,
              "#46039f"
             ],
             [
              0.2222222222222222,
              "#7201a8"
             ],
             [
              0.3333333333333333,
              "#9c179e"
             ],
             [
              0.4444444444444444,
              "#bd3786"
             ],
             [
              0.5555555555555556,
              "#d8576b"
             ],
             [
              0.6666666666666666,
              "#ed7953"
             ],
             [
              0.7777777777777778,
              "#fb9f3a"
             ],
             [
              0.8888888888888888,
              "#fdca26"
             ],
             [
              1,
              "#f0f921"
             ]
            ],
            "type": "histogram2d"
           }
          ],
          "histogram2dcontour": [
           {
            "colorbar": {
             "outlinewidth": 0,
             "ticks": ""
            },
            "colorscale": [
             [
              0,
              "#0d0887"
             ],
             [
              0.1111111111111111,
              "#46039f"
             ],
             [
              0.2222222222222222,
              "#7201a8"
             ],
             [
              0.3333333333333333,
              "#9c179e"
             ],
             [
              0.4444444444444444,
              "#bd3786"
             ],
             [
              0.5555555555555556,
              "#d8576b"
             ],
             [
              0.6666666666666666,
              "#ed7953"
             ],
             [
              0.7777777777777778,
              "#fb9f3a"
             ],
             [
              0.8888888888888888,
              "#fdca26"
             ],
             [
              1,
              "#f0f921"
             ]
            ],
            "type": "histogram2dcontour"
           }
          ],
          "mesh3d": [
           {
            "colorbar": {
             "outlinewidth": 0,
             "ticks": ""
            },
            "type": "mesh3d"
           }
          ],
          "parcoords": [
           {
            "line": {
             "colorbar": {
              "outlinewidth": 0,
              "ticks": ""
             }
            },
            "type": "parcoords"
           }
          ],
          "pie": [
           {
            "automargin": true,
            "type": "pie"
           }
          ],
          "scatter": [
           {
            "fillpattern": {
             "fillmode": "overlay",
             "size": 10,
             "solidity": 0.2
            },
            "type": "scatter"
           }
          ],
          "scatter3d": [
           {
            "line": {
             "colorbar": {
              "outlinewidth": 0,
              "ticks": ""
             }
            },
            "marker": {
             "colorbar": {
              "outlinewidth": 0,
              "ticks": ""
             }
            },
            "type": "scatter3d"
           }
          ],
          "scattercarpet": [
           {
            "marker": {
             "colorbar": {
              "outlinewidth": 0,
              "ticks": ""
             }
            },
            "type": "scattercarpet"
           }
          ],
          "scattergeo": [
           {
            "marker": {
             "colorbar": {
              "outlinewidth": 0,
              "ticks": ""
             }
            },
            "type": "scattergeo"
           }
          ],
          "scattergl": [
           {
            "marker": {
             "colorbar": {
              "outlinewidth": 0,
              "ticks": ""
             }
            },
            "type": "scattergl"
           }
          ],
          "scattermapbox": [
           {
            "marker": {
             "colorbar": {
              "outlinewidth": 0,
              "ticks": ""
             }
            },
            "type": "scattermapbox"
           }
          ],
          "scatterpolar": [
           {
            "marker": {
             "colorbar": {
              "outlinewidth": 0,
              "ticks": ""
             }
            },
            "type": "scatterpolar"
           }
          ],
          "scatterpolargl": [
           {
            "marker": {
             "colorbar": {
              "outlinewidth": 0,
              "ticks": ""
             }
            },
            "type": "scatterpolargl"
           }
          ],
          "scatterternary": [
           {
            "marker": {
             "colorbar": {
              "outlinewidth": 0,
              "ticks": ""
             }
            },
            "type": "scatterternary"
           }
          ],
          "surface": [
           {
            "colorbar": {
             "outlinewidth": 0,
             "ticks": ""
            },
            "colorscale": [
             [
              0,
              "#0d0887"
             ],
             [
              0.1111111111111111,
              "#46039f"
             ],
             [
              0.2222222222222222,
              "#7201a8"
             ],
             [
              0.3333333333333333,
              "#9c179e"
             ],
             [
              0.4444444444444444,
              "#bd3786"
             ],
             [
              0.5555555555555556,
              "#d8576b"
             ],
             [
              0.6666666666666666,
              "#ed7953"
             ],
             [
              0.7777777777777778,
              "#fb9f3a"
             ],
             [
              0.8888888888888888,
              "#fdca26"
             ],
             [
              1,
              "#f0f921"
             ]
            ],
            "type": "surface"
           }
          ],
          "table": [
           {
            "cells": {
             "fill": {
              "color": "#EBF0F8"
             },
             "line": {
              "color": "white"
             }
            },
            "header": {
             "fill": {
              "color": "#C8D4E3"
             },
             "line": {
              "color": "white"
             }
            },
            "type": "table"
           }
          ]
         },
         "layout": {
          "annotationdefaults": {
           "arrowcolor": "#2a3f5f",
           "arrowhead": 0,
           "arrowwidth": 1
          },
          "autotypenumbers": "strict",
          "coloraxis": {
           "colorbar": {
            "outlinewidth": 0,
            "ticks": ""
           }
          },
          "colorscale": {
           "diverging": [
            [
             0,
             "#8e0152"
            ],
            [
             0.1,
             "#c51b7d"
            ],
            [
             0.2,
             "#de77ae"
            ],
            [
             0.3,
             "#f1b6da"
            ],
            [
             0.4,
             "#fde0ef"
            ],
            [
             0.5,
             "#f7f7f7"
            ],
            [
             0.6,
             "#e6f5d0"
            ],
            [
             0.7,
             "#b8e186"
            ],
            [
             0.8,
             "#7fbc41"
            ],
            [
             0.9,
             "#4d9221"
            ],
            [
             1,
             "#276419"
            ]
           ],
           "sequential": [
            [
             0,
             "#0d0887"
            ],
            [
             0.1111111111111111,
             "#46039f"
            ],
            [
             0.2222222222222222,
             "#7201a8"
            ],
            [
             0.3333333333333333,
             "#9c179e"
            ],
            [
             0.4444444444444444,
             "#bd3786"
            ],
            [
             0.5555555555555556,
             "#d8576b"
            ],
            [
             0.6666666666666666,
             "#ed7953"
            ],
            [
             0.7777777777777778,
             "#fb9f3a"
            ],
            [
             0.8888888888888888,
             "#fdca26"
            ],
            [
             1,
             "#f0f921"
            ]
           ],
           "sequentialminus": [
            [
             0,
             "#0d0887"
            ],
            [
             0.1111111111111111,
             "#46039f"
            ],
            [
             0.2222222222222222,
             "#7201a8"
            ],
            [
             0.3333333333333333,
             "#9c179e"
            ],
            [
             0.4444444444444444,
             "#bd3786"
            ],
            [
             0.5555555555555556,
             "#d8576b"
            ],
            [
             0.6666666666666666,
             "#ed7953"
            ],
            [
             0.7777777777777778,
             "#fb9f3a"
            ],
            [
             0.8888888888888888,
             "#fdca26"
            ],
            [
             1,
             "#f0f921"
            ]
           ]
          },
          "colorway": [
           "#636efa",
           "#EF553B",
           "#00cc96",
           "#ab63fa",
           "#FFA15A",
           "#19d3f3",
           "#FF6692",
           "#B6E880",
           "#FF97FF",
           "#FECB52"
          ],
          "font": {
           "color": "#2a3f5f"
          },
          "geo": {
           "bgcolor": "white",
           "lakecolor": "white",
           "landcolor": "#E5ECF6",
           "showlakes": true,
           "showland": true,
           "subunitcolor": "white"
          },
          "hoverlabel": {
           "align": "left"
          },
          "hovermode": "closest",
          "mapbox": {
           "style": "light"
          },
          "paper_bgcolor": "white",
          "plot_bgcolor": "#E5ECF6",
          "polar": {
           "angularaxis": {
            "gridcolor": "white",
            "linecolor": "white",
            "ticks": ""
           },
           "bgcolor": "#E5ECF6",
           "radialaxis": {
            "gridcolor": "white",
            "linecolor": "white",
            "ticks": ""
           }
          },
          "scene": {
           "xaxis": {
            "backgroundcolor": "#E5ECF6",
            "gridcolor": "white",
            "gridwidth": 2,
            "linecolor": "white",
            "showbackground": true,
            "ticks": "",
            "zerolinecolor": "white"
           },
           "yaxis": {
            "backgroundcolor": "#E5ECF6",
            "gridcolor": "white",
            "gridwidth": 2,
            "linecolor": "white",
            "showbackground": true,
            "ticks": "",
            "zerolinecolor": "white"
           },
           "zaxis": {
            "backgroundcolor": "#E5ECF6",
            "gridcolor": "white",
            "gridwidth": 2,
            "linecolor": "white",
            "showbackground": true,
            "ticks": "",
            "zerolinecolor": "white"
           }
          },
          "shapedefaults": {
           "line": {
            "color": "#2a3f5f"
           }
          },
          "ternary": {
           "aaxis": {
            "gridcolor": "white",
            "linecolor": "white",
            "ticks": ""
           },
           "baxis": {
            "gridcolor": "white",
            "linecolor": "white",
            "ticks": ""
           },
           "bgcolor": "#E5ECF6",
           "caxis": {
            "gridcolor": "white",
            "linecolor": "white",
            "ticks": ""
           }
          },
          "title": {
           "x": 0.05
          },
          "xaxis": {
           "automargin": true,
           "gridcolor": "white",
           "linecolor": "white",
           "ticks": "",
           "title": {
            "standoff": 15
           },
           "zerolinecolor": "white",
           "zerolinewidth": 2
          },
          "yaxis": {
           "automargin": true,
           "gridcolor": "white",
           "linecolor": "white",
           "ticks": "",
           "title": {
            "standoff": 15
           },
           "zerolinecolor": "white",
           "zerolinewidth": 2
          }
         }
        },
        "title": {
         "text": "fg2m"
        },
        "xaxis": {
         "anchor": "y",
         "domain": [
          0,
          1
         ],
         "title": {
          "text": "x"
         }
        },
        "yaxis": {
         "anchor": "x",
         "domain": [
          0,
          1
         ],
         "title": {
          "text": "y"
         }
        }
       }
      },
      "text/html": [
       "<div>                            <div id=\"6182ed18-6961-4b56-a573-b33fca37ec73\" class=\"plotly-graph-div\" style=\"height:525px; width:100%;\"></div>            <script type=\"text/javascript\">                require([\"plotly\"], function(Plotly) {                    window.PLOTLYENV=window.PLOTLYENV || {};                                    if (document.getElementById(\"6182ed18-6961-4b56-a573-b33fca37ec73\")) {                    Plotly.newPlot(                        \"6182ed18-6961-4b56-a573-b33fca37ec73\",                        [{\"customdata\":[[0.4712041884816754,191.0,\"Byron Scott\"],[0.4431818181818182,226.28571428571428,\"Grant Long\"],[0.41040462427745666,173.0,\"Dan Schayes\"],[0.37037037037037035,54.0,\"Sedale Threatt\"],[0.2857142857142857,7.0,\"Chris King\"],[0.45989800649049606,179.75,\"Eric Piatkowski\"],[0.4840961986035687,644.5,\"Clyde Drexler\"],[0.424190800681431,195.66666666666666,\"Greg Anthony\"],[0.49054878048780487,820.0,\"Rik Smits\"],[0.44542772861356933,169.5,\"Dennis Rodman\"],[0.4588555858310627,367.0,\"Luc Longley\"],[0.44287396937573614,169.8,\"Doug West\"],[0.4521497919556172,144.2,\"Jim McIlvaine\"],[0.7017543859649122,19.0,\"Lorenzo Williams\"],[0.4606741573033708,89.0,\"Clifford Rozier\"],[0.44680851063829785,94.0,\"Eric Riley\"],[0.38028169014084506,71.0,\"Sarunas Marciulionis\"],[0.46551724137931033,29.0,\"Greg Graham\"],[0.3333333333333333,7.5,\"Brad Lohaus\"],[0.4899860270144388,306.7142857142857,\"Monty Williams\"],[0.4305459571527298,180.875,\"Chris Whitney\"],[0.4325505188421628,305.1666666666667,\"George McCloud\"],[0.42587601078167114,371.0,\"Wayman Tisdale\"],[0.5822784810126582,210.66666666666666,\"Gheorghe Muresan\"],[0.4609375,384.0,\"Mahmoud Abdul-Rauf\"],[0.3469387755102041,24.5,\"Micheal Williams\"],[0.5194697597348799,241.4,\"Mario Elie\"],[0.43911917098445596,154.4,\"Dickey Simpkins\"],[0.46833013435700577,130.25,\"Marty Conlon\"],[0.4950159284760045,884.6363636363636,\"Gary Payton\"],[0.4565838645856232,413.54545454545456,\"Doug Christie\"],[0.4318181818181818,278.6666666666667,\"Carl Herrera\"],[0.5236818588025023,223.8,\"Michael Smith\"],[0.44285714285714284,210.0,\"Sam Perkins\"],[0.4648318042813456,218.0,\"Greg Minor\"],[0.48004314994606256,185.4,\"Tom Hammonds\"],[0.49668141592920356,129.14285714285714,\"Steve Kerr\"],[0.4099616858237548,174.0,\"Pooh Richardson\"],[0.44185475956820414,452.8888888888889,\"Kenny Anderson\"],[0.4776579352850539,216.33333333333334,\"Hot Rod Williams\"],[0.48547094188376755,399.2,\"Cedric Ceballos\"],[0.4291390728476821,107.85714285714286,\"Doug Overton\"],[0.15789473684210525,19.0,\"LaSalle Thompson\"],[0.375,56.0,\"Ken Norman\"],[0.4675324675324675,38.5,\"Jeff Grayer\"],[0.4304635761589404,151.0,\"Bill Wennington\"],[0.44229995979091274,829.0,\"Latrell Sprewell\"],[0.4676470588235294,56.666666666666664,\"Brent Price\"],[0.5145929339477726,350.53846153846155,\"Dikembe Mutombo\"],[0.8333333333333334,6.0,\"Steve Scheffler\"],[0.42675635276532137,535.2,\"Nick Van Exel\"],[0.4533799533799534,214.5,\"Hubert Davis\"],[0.4984447900466563,183.71428571428572,\"Mark Bryant\"],[0.4908685968819599,449.0,\"Detlef Schrempf\"],[0.4558645707376058,275.6666666666667,\"Nick Anderson\"],[0.40236686390532544,42.25,\"Tim Legler\"],[0.41223103057757643,220.75,\"Todd Day\"],[0.47619047619047616,15.75,\"Benoit Benjamin\"],[0.4818897637795276,105.83333333333333,\"Dan Majerle\"],[0.4781931464174455,321.0,\"Dale Ellis\"],[0.4570963806425376,204.91666666666666,\"Robert Horry\"],[0.4565613608748481,470.2857142857143,\"LaPhonso Ellis\"],[0.44537815126050423,59.5,\"Dontonio Wingfield\"],[0.6521739130434783,23.0,\"David Wood\"],[0.4671338811019816,459.77777777777777,\"Steven Smith\"],[0.46635674088573525,681.1666666666666,\"Patrick Ewing\"],[0.4,15.0,\"Fred Roberts\"],[0.41543901001767825,212.125,\"Robert Pack\"],[0.49081364829396323,592.6666666666666,\"Vlade Divac\"],[0.4381720430107527,186.0,\"David Benoit\"],[0.4408284023668639,338.0,\"Dino Radja\"],[0.44819783416841763,562.4545454545455,\"David Wesley\"],[0.5,345.3333333333333,\"Kevin Johnson\"],[0.46755812186597784,548.4166666666666,\"P.J. Brown\"],[0.41313050440352284,249.8,\"Vernon Maxwell\"],[0.30275229357798167,54.5,\"Anthony Avent\"],[0.4084507042253521,106.5,\"Donald Royal\"],[0.4098639455782313,196.0,\"Terry Dehere\"],[0.45223633351739373,226.375,\"Tracy Murray\"],[0.4618320610687023,87.33333333333333,\"Jud Buechler\"],[0.4593644014571034,723.7272727272727,\"Jalen Rose\"],[0.4444444444444444,45.0,\"Adrian Caldwell\"],[0.47132429614181437,239.75,\"Antoine Carr\"],[0.46,350.0,\"Derek Harper\"],[0.375,8.0,\"Tim Breaux\"],[0.4316446911866759,205.85714285714286,\"Chris Childs\"],[0.4975926817525277,692.3333333333334,\"Hakeem Olajuwon\"],[0.45891203703703703,345.6,\"Ron Harper\"],[0.45188639253921153,337.0,\"Chris Mills\"],[0.39325842696629215,89.0,\"Joe Kleine\"],[0.4342105263157895,76.0,\"Keith Askins\"],[0.4117647058823529,42.5,\"Alton Lister\"],[0.47674418604651164,17.2,\"Antonio Harvey\"],[0.467984934086629,212.4,\"Muggsy Bogues\"],[0.47470962907455977,444.8333333333333,\"Olden Polynice\"],[0.42592592592592593,234.0,\"Bryant Stith\"],[0.4355083459787557,94.14285714285714,\"John Crotty\"],[0.40384615384615385,104.0,\"Kenny Smith\"],[0.45454545454545453,382.8,\"Billy Owens\"],[0.5045751633986928,510.0,\"Bison Dele\"],[0.45857418111753373,389.25,\"Bobby Phills\"],[0.47976495903335264,1006.9166666666666,\"Chris Webber\"],[0.4571215510812826,335.25,\"Terry Cummings\"],[0.4599406528189911,67.4,\"Duane Causwell\"],[0.4090909090909091,280.5,\"Dennis Scott\"],[0.49940659862330883,702.1666666666666,\"Anthony Mason\"],[0.5272727272727272,55.0,\"Anthony Bowie\"],[0.42507645259938837,109.0,\"Lee Mayberry\"],[0.41863699582753827,143.8,\"Scott Burrell\"],[0.4673495518565941,223.14285714285714,\"Danny Ferry\"],[0.47619047619047616,42.0,\"Reggie Williams\"],[0.4141689373297003,104.85714285714286,\"Chris Dudley\"],[0.45,32.0,\"Gary Grant\"],[0.41836734693877553,49.0,\"Nate McMillan\"],[0.4984907287623976,579.75,\"Jeff Hornacek\"],[0.478089348544621,781.5833333333334,\"Sam Cassell\"],[0.4629080118694362,280.8333333333333,\"Dell Curry\"],[0.4608793686583991,739.1666666666666,\"Terrell Brandon\"],[0.4444444444444444,63.0,\"Eric Mobley\"],[0.3194444444444444,36.0,\"Yinka Dare\"],[0.441418725836275,594.9,\"Antonio Davis\"],[0.3955892487939352,207.28571428571428,\"Brian Shaw\"],[0.46940985381700057,307.8333333333333,\"Vinny Del Negro\"],[0.4761186525892408,442.0,\"Clar. Weatherspoon\"],[0.4597156398104265,52.75,\"Bill Curley\"],[0.46595503800743976,515.25,\"Eddie Jones\"],[0.4393063583815029,43.25,\"Antonio Lang\"],[0.4888663967611336,197.6,\"Adam Keefe\"],[0.42616033755274263,177.75,\"Khalid Reeves\"],[0.35374149659863946,147.0,\"Kevin Edwards\"],[0.49335989375830014,376.5,\"Tyrone Hill\"],[0.3905660377358491,144.54545454545453,\"Darrick Martin\"],[0.42021276595744683,94.0,\"Brooks Thompson\"],[0.45714285714285713,35.0,\"Darrin Hancock\"],[0.45603715170278636,293.6363636363636,\"Aaron McKie\"],[0.41812400635930047,104.83333333333333,\"Dee Brown\"],[0.49258160237388726,168.5,\"Greg Anderson\"],[0.4517766497461929,328.3333333333333,\"Joe Dumars\"],[0.452081316553727,344.3333333333333,\"George Lynch\"],[0.43349753694581283,243.6,\"Sean Elliott\"],[0.5026870607689128,1209.5,\"Karl Malone\"],[0.4965185838972247,637.3125,\"Grant Hill\"],[0.4839537869062901,467.4,\"Brian Grant\"],[0.4879032258064516,82.66666666666667,\"Michael Cage\"],[0.4090121317157712,192.33333333333334,\"Harvey Grant\"],[0.4712790400816952,489.625,\"Horace Grant\"],[0.45707070707070707,396.0,\"Johnny Newman\"],[0.4441747572815534,137.33333333333334,\"Duane Ferrell\"],[0.45896437328717726,770.3333333333334,\"Allan Houston\"],[0.4384581690757775,228.3,\"Stacey Augmon\"],[0.6,7.5,\"Charles Jones\"],[0.4685714285714286,87.5,\"Felton Spencer\"],[0.4624756335282651,228.0,\"Scott Williams\"],[0.413472706155633,246.0,\"Lindsey Hunter\"],[0.42424242424242425,33.0,\"Eric Leckner\"],[0.46918604651162793,430.0,\"Armen Gilliam\"],[0.4573643410852713,129.0,\"Ledell Eackles\"],[0.5348837209302325,43.0,\"Ed Pinckney\"],[0.5137614678899083,36.333333333333336,\"Anthony Miller\"],[0.40963855421686746,83.0,\"Charles Smith\"],[0.4920040830214359,367.375,\"Rick Fox\"],[0.5382671480144404,503.6363636363636,\"Alonzo Mourning\"],[0.4802983219390926,893.8888888888889,\"Glenn Robinson\"],[0.44432432432432434,462.5,\"Mookie Blaylock\"],[0.5343674779352768,534.1428571428571,\"John Stockton\"],[0.48951048951048953,143.0,\"Robert Parish\"],[0.0,5.0,\"Derrick Alston\"],[0.40540540540540543,148.0,\"Bobby Hurley\"],[0.38461538461538464,78.0,\"Richard Manning\"],[0.4279544562230075,424.5,\"John Starks\"],[0.45161290322580644,31.0,\"Jamie Watson\"],[0.42949234488315874,177.28571428571428,\"Greg Foster\"],[0.4371238517579981,350.77777777777777,\"Anthony Peeler\"],[0.42,66.66666666666667,\"Rick Mahorn\"],[0.5118964310706788,408.2857142857143,\"Danny Manning\"],[0.39655172413793105,174.0,\"Kevin Gamble\"],[0.4666666666666667,45.0,\"Willie Anderson\"],[0.4585674157303371,474.6666666666667,\"Tom Gugliotta\"],[0.39690721649484534,64.66666666666667,\"Joe Wolf\"],[0.4709141274238227,206.28571428571428,\"Dana Barros\"],[0.4725201072386059,248.66666666666666,\"Terry Porter\"],[0.46153846153846156,70.2,\"Mitchell Butler\"],[0.4517593643586833,330.375,\"Mark Jackson\"],[0.5,22.0,\"Stacey King\"],[0.46466003762429453,310.0833333333333,\"Darrell Armstrong\"],[0.43457943925233644,107.0,\"Vincent Askew\"],[0.4834905660377358,141.33333333333334,\"Chris Morris\"],[0.45374149659863944,400.90909090909093,\"Anfernee Hardaway\"],[0.4625585023400936,213.66666666666666,\"Chucky Brown\"],[0.45399789188375245,603.7272727272727,\"Clifford Robinson\"],[0.4937853107344633,491.6666666666667,\"Christian Laettner\"],[0.444794952681388,396.25,\"Rex Chapman\"],[0.44108761329305135,165.5,\"Derrick McKey\"],[0.32,25.0,\"Dwayne Schintzius\"],[0.4553686934023286,171.77777777777777,\"Charlie Ward\"],[0.4727540500736377,135.8,\"Terry Mills\"],[0.4566860465116279,573.3333333333334,\"Isaiah Rider\"],[0.4336677814938685,149.5,\"Eric Montross\"],[0.39215686274509803,153.0,\"Craig Ehlo\"],[0.43727598566308246,93.0,\"Tony Smith\"],[0.43256578947368424,152.0,\"James Robinson\"],[0.42838780756518546,605.1111111111111,\"Kendall Gill\"],[0.47882050081909666,427.3,\"Calbert Cheaney\"],[0.4630053394355454,218.5,\"Elliot Perry\"],[0.4747120681021532,399.4,\"Toni Kukoc\"],[0.4880239520958084,334.0,\"Sasha Danilovic\"],[0.4473428070858478,570.7777777777778,\"Rod Strickland\"],[0.4883167459974037,513.5555555555555,\"Reggie Miller\"],[0.4261025029797378,209.75,\"Sean Rooks\"],[0.43475409836065576,305.0,\"Derek Strong\"],[0.42424242424242425,99.0,\"Kevin Duckworth\"],[0.5833093938523413,928.2666666666667,\"Shaquille O'Neal\"],[0.40384615384615385,208.0,\"Sharone Wright\"],[0.36363636363636365,29.333333333333332,\"Willie Burton\"],[0.4521072796934866,435.0,\"Sam Mitchell\"],[0.45121951219512196,41.0,\"Scott Brooks\"],[0.4587221823402728,464.3333333333333,\"Jayson Williams\"],[0.4741285403050109,459.0,\"Avery Johnson\"],[0.47738366417181904,512.1666666666666,\"Chris Gatling\"],[0.5053763440860215,124.0,\"Terry Davis\"],[0.5026490066225165,302.0,\"Sherman Douglas\"],[0.45039491427470624,741.5714285714286,\"Shawn Kemp\"],[0.439622641509434,132.5,\"Pete Chilcutt\"],[0.5274261603375527,237.0,\"Buck Williams\"],[0.4342105263157895,38.0,\"Tony Dumas\"],[0.5683615819209039,147.5,\"Carlos Rogers\"],[0.465970409051349,675.8823529411765,\"Juwan Howard\"],[0.42857142857142855,7.0,\"Robert Werdann\"],[0.48484848484848486,148.5,\"Zan Tabak\"],[0.44767829371250834,500.1111111111111,\"Lamond Murray\"],[0.49264705882352944,34.0,\"Pervis Ellison\"],[0.47954329210275926,350.3333333333333,\"Wesley Person\"],[0.4393939393939394,322.6666666666667,\"Lucious Harris\"],[0.5751680226388397,235.58333333333334,\"Bo Outlaw\"],[0.4869291859695566,604.4,\"Vin Baker\"],[0.41843971631205673,94.0,\"Chuck Person\"],[0.4141048824593128,138.25,\"Andrew Lang\"],[0.4322446143154969,287.8,\"Howard Eisley\"],[0.4442970822281167,188.5,\"Popeye Jones\"],[0.46272855133614627,177.75,\"J.R. Reid\"],[0.4319894724249312,491.70588235294116,\"Jason Kidd\"],[0.47480482611781405,140.9,\"Jon Barry\"],[0.43512014787430686,676.25,\"Jamal Mashburn\"],[0.5,68.0,\"Melvin Booker\"],[0.40425531914893614,47.0,\"Donnie Boyce\"],[0.4342948717948718,104.0,\"Matt Bullard\"],[0.47339010111761576,341.6363636363636,\"Alan Henderson\"],[0.4180327868852459,61.0,\"Reggie Jordan\"],[0.4430379746835443,79.0,\"Thomas Hamilton\"],[0.43110838946723823,296.90909090909093,\"Eric Williams\"],[0.38461538461538464,71.5,\"George Zidek\"],[0.48530004027386225,354.7142857142857,\"Jason Caffey\"],[0.4049904030710173,390.75,\"John Amaechi\"],[0.25925925925925924,27.0,\"Donny Marshall\"],[0.45152809727242854,338.1111111111111,\"Bob Sura\"],[0.4230769230769231,130.0,\"Loren Meyer\"],[0.48206419131529266,198.625,\"Cherokee Parks\"],[0.5,658.8571428571429,\"Antonio McDyess\"],[0.46485700436257876,229.22222222222223,\"Michael Curry\"],[0.49265402843601896,281.3333333333333,\"Theo Ratliff\"],[0.5236004390779363,130.14285714285714,\"Don Reid\"],[0.2972972972972973,37.0,\"Lou Roe\"],[0.5074211502782932,239.55555555555554,\"Andrew DeClercq\"],[0.4572109654350417,559.3333333333334,\"Joe Smith\"],[0.41743119266055045,130.8,\"Sam Mack\"],[0.44521497919556174,120.16666666666667,\"Eldridge Recasner\"],[0.4488210075026795,414.6666666666667,\"Travis Best\"],[0.4559055118110236,141.11111111111111,\"Fred Hoiberg\"],[0.47198641765704585,196.33333333333334,\"Eddie Johnson\"],[0.5242376856919468,196.76923076923077,\"Brent Barry\"],[0.375,8.0,\"Keith Tower\"],[0.4,15.0,\"Frankie King\"],[0.43660322108345534,341.5,\"Voshon Lenard\"],[0.48558152248189146,430.4117647058824,\"Kurt Thomas\"],[0.4819672131147541,101.66666666666667,\"Shawn Respert\"],[0.3700787401574803,127.0,\"Jerome Allen\"],[0.47990255785627284,205.25,\"Mark Davis\"],[0.5038630510528708,990.15,\"Kevin Garnett\"],[0.3588516746411483,209.0,\"Ed O'Bannon\"],[0.45491803278688525,81.33333333333333,\"David Vaughn\"],[0.4399302908179937,540.0588235294117,\"Jerry Stackhouse\"],[0.5704225352112676,47.333333333333336,\"Mario Bennett\"],[0.4444444444444444,221.4,\"Chris Carr\"],[0.4640767386091127,744.6428571428571,\"Michael Finley\"],[0.358974358974359,19.5,\"John Coker\"],[0.4444444444444444,108.0,\"Rumeal Robinson\"],[0.5089571337172105,521.0,\"Arvydas Sabonis\"],[0.5041800643086817,388.75,\"Gary Trent\"],[0.42857142857142855,21.0,\"Randolph Childress\"],[0.415625,213.33333333333334,\"Tyus Edney\"],[0.49276185069543005,640.5454545454545,\"Corliss Williamson\"],[0.41733333333333333,125.0,\"Cory Alexander\"],[0.0,2.0,\"Dell Demps\"],[0.4360502234517983,391.5833333333333,\"Eric Snow\"],[0.3333333333333333,6.0,\"Jimmy King\"],[0.45454545454545453,11.0,\"Martin Lewis\"],[0.4881091617933723,256.5,\"Greg Ostertag\"],[0.28205128205128205,39.0,\"Ashraf Amaya\"],[0.0,5.0,\"Cuonzo Martin\"],[0.42628205128205127,156.0,\"Lawrence Moten\"],[0.4827586206896552,661.2,\"Bryant Reeves\"],[0.0,1.0,\"Bob McCann\"],[0.5078427378284783,654.5333333333333,\"Rasheed Wallace\"],[0.4027093596059113,232.0,\"Randy Brown\"],[0.43453070683661643,517.8,\"Jim Jackson\"],[0.42850452700593195,533.8333333333334,\"Damon Stoudamire\"],[0.42786069651741293,241.2,\"Jerome Kersey\"],[0.4747179272879231,398.8333333333333,\"Matt Geiger\"],[0.46947259028319044,427.6666666666667,\"Shawn Bradley\"],[0.4675984752223634,262.3333333333333,\"Tony Massenburg\"],[0.5026075619295959,657.4285714285714,\"David Robinson\"],[0.4819277108433735,265.6,\"Hersey Hawkins\"],[0.45394736842105265,60.8,\"David Wingate\"],[0.3850574712643678,174.0,\"Acie Earl\"],[0.4992248062015504,161.25,\"B.J. Armstrong\"],[0.5036764705882353,68.0,\"Mark West\"],[0.0,1.0,\"Elmore Spencer\"],[0.4896142433234421,84.25,\"Rex Walters\"],[0.46286276438760454,508.25,\"Glen Rice\"],[0.5292242295430393,188.2,\"Will Perdue\"],[0.45334350368675314,655.5,\"Mitch Richmond\"],[0.4716981132075472,53.0,\"Frank Brickowski\"],[0.429042904290429,151.5,\"Eric Murdock\"],[0.41460674157303373,296.6666666666667,\"Gerald Wilkins\"],[0.5252747252747253,455.0,\"Charles Barkley\"],[0.4634838099740014,423.1,\"Kevin Willis\"],[0.4336500153233221,407.875,\"Charles Oakley\"],[0.45454545454545453,11.0,\"Spud Webb\"],[0.46912366912366915,1526.25,\"Michael Jordan\"],[0.4605263157894737,266.0,\"Ricky Pierce\"],[0.44030365769496205,289.8,\"Tyrone Corbin\"],[0.4405487804878049,468.57142857142856,\"Tim Hardaway\"],[0.4472934472934473,351.0,\"Blue Edwards\"],[0.4809384164222874,341.0,\"Mark Price\"],[0.3333333333333333,3.0,\"Matt Fish\"],[0.5137821961138725,442.6,\"Otis Thorpe\"],[0.43112614789753506,258.625,\"Bimbo Coles\"],[0.5325144508670521,276.8,\"Chris Mullin\"],[0.515822031881989,382.09090909090907,\"Dale Davis\"],[0.44919786096256686,62.333333333333336,\"Haywoode Workman\"],[0.4450163781001404,534.25,\"Malik Sealy\"],[0.5157142857142857,210.0,\"Ervin Johnson\"],[0.4019607843137255,102.0,\"Rafael Addison\"],[0.49523809523809526,546.0,\"Larry Johnson\"],[0.4697508896797153,140.5,\"Stanley Roberts\"],[0.47953216374269003,494.0,\"Rodney Rogers\"],[0.4784982935153584,183.125,\"Corie Blount\"],[0.3333333333333333,27.0,\"Jack Haley\"],[0.4779270633397313,312.6,\"Loy Vaught\"],[0.4626865671641791,388.6,\"A.C. Green\"],[0.45535026943802925,577.3333333333334,\"Elden Campbell\"],[0.4718180297708647,459.9230769230769,\"Donyell Marshall\"],[0.42165605095541403,112.14285714285714,\"Anthony Goldwire\"],[0.0,3.0,\"Sean Higgins\"],[0.36231884057971014,69.0,\"John Salley\"],[0.5238095238095238,42.0,\"Tracy Moore\"],[0.4386973180076628,104.4,\"Don MacLean\"],[0.5169491525423728,188.8,\"Oliver Miller\"],[0.4505807063285139,468.77777777777777,\"Derrick Coleman\"],[0.4621026894865526,286.3,\"Bryon Russell\"],[0.4963465553235908,479.0,\"Scottie Pippen\"],[0.4756828780812791,500.3333333333333,\"Rony Seikaly\"],[0.5,10.0,\"Pete Myers\"],[0.375,8.0,\"Earl Cureton\"],[0.5,4.0,\"Ennis Whatley\"],[0.4483447315862737,1180.2142857142858,\"Allen Iverson\"],[0.46927024658905997,469.94117647058823,\"Marcus Camby\"],[0.4801309448031281,916.4166666666666,\"Shareef Abdur-Rahim\"],[0.464966913195796,790.4615384615385,\"Stephon Marbury\"],[0.4853374978309908,640.3333333333334,\"Ray Allen\"],[0.44988992055135446,870.5833333333334,\"Antoine Walker\"],[0.4606782106782107,426.46153846153845,\"Lorenzen Wright\"],[0.4634363191820405,562.375,\"Kerry Kittles\"],[0.4635235732009926,201.5,\"Samaki Walker\"],[0.4986556730596881,348.6875,\"Erick Dampier\"],[0.4222520107238606,149.2,\"Todd Fuller\"],[0.47922761849034523,310.72727272727275,\"Vitaly Potapenko\"],[0.5178152574556015,497.3888888888889,\"Steve Nash\"],[0.4358097606465651,321.7,\"Tony Delk\"],[0.46484055600981194,349.42857142857144,\"John Wallace\"],[0.4332425068119891,146.8,\"Walter McCarty\"],[0.38235294117647056,34.0,\"Dontae' Jones\"],[0.4831649831649832,198.0,\"Roy Rogers\"],[0.41282565130260523,332.6666666666667,\"Derek Fisher\"],[0.5062211162460007,312.55555555555554,\"Jerome Williams\"],[0.3962962962962963,90.0,\"Brian Evans\"],[0.4744186046511628,107.5,\"Priest Lauderdale\"],[0.4470899470899471,162.0,\"Travis Knight\"],[0.506516290726817,332.5,\"Othella Harrington\"],[0.429042904290429,75.75,\"Mark Hendrickson\"],[0.45375722543352603,377.45454545454544,\"Jeff McInnis\"],[0.47893870436719277,1032.7,\"Kobe Bryant\"],[0.48450837812203607,486.61538461538464,\"Peja Stojakovic\"],[0.4693504117108875,607.2222222222222,\"Jermaine O'Neal\"],[0.47774854135682415,672.3846153846154,\"Zydrunas Ilgauskas\"],[0.3137254901960784,51.0,\"Efthimios Rentzias\"],[0.45,130.0,\"Martin Muursepp\"],[0.430239704978488,180.77777777777777,\"Moochie Norris\"],[0.5454545454545454,55.0,\"Steve Hamer\"],[0.41935483870967744,15.5,\"Jason Sasser\"],[0.41411042944785276,59.27272727272727,\"Randy Livingston\"],[0.3559322033898305,14.75,\"Ben Davis\"],[0.44173913043478263,309.61538461538464,\"Malik Rose\"],[0.4222222222222222,22.5,\"Marcus Brown\"],[0.42534504391468003,159.4,\"Jamie Feick\"],[0.3781094527363184,100.5,\"Chris Robinson\"],[0.45493562231759654,38.833333333333336,\"Mark Pope\"],[0.2777777777777778,18.0,\"Jeff Nordgaard\"],[0.4976428992339422,339.4,\"Shandon Anderson\"],[0.3493975903614458,83.0,\"Reggie Geary\"],[0.475,13.333333333333334,\"Drew Barry\"],[0.43437645959831855,305.85714285714283,\"Walt Williams\"],[0.4166666666666667,32.0,\"Herb Williams\"],[0.42634315424610053,96.16666666666667,\"Emanual Davis\"],[0.4782608695652174,23.0,\"Horacio Llamas\"],[0.2727272727272727,11.0,\"Evric Gray\"],[0.5226190476190476,105.0,\"Darvin Ham\"],[0.4642857142857143,42.0,\"Shawnelle Scott\"],[0.4605263157894737,25.333333333333332,\"Litterial Green\"],[0.48024316109422494,109.66666666666667,\"Stojko Vrankovic\"],[0.3790322580645161,124.0,\"Juaquin Hawkins\"],[0.38235294117647056,34.0,\"Nate Driggers\"],[0.38207547169811323,53.0,\"Amal McCaskill\"],[0.23684210526315788,19.0,\"Shane Heal\"],[0.4800531914893617,250.66666666666666,\"Dean Garrett\"],[0.5271317829457365,64.5,\"Ben Handlogten\"],[0.3333333333333333,3.0,\"Ed Stokes\"],[0.3333333333333333,9.0,\"Aleksandar Djordjevic\"],[0.25925925925925924,13.5,\"William Cunningham\"],[0.46236559139784944,46.5,\"Carl Thomas\"],[0.47058823529411764,17.0,\"Brent Scott\"],[0.4130724766562917,249.88888888888889,\"Erick Strickland\"],[0.4520547945205479,73.0,\"Greg Dreiling\"],[0.36507936507936506,31.5,\"Devin Gray\"],[0.48327939590075514,154.5,\"Reggie Slater\"],[0.45336481700118064,141.16666666666666,\"Matt Maloney\"],[null,0.0,\"Michael McDonald\"],[0.4228571428571429,175.0,\"Ray Owes\"],[0.389937106918239,79.5,\"Henry James\"],[0.7,3.3333333333333335,\"Ira Bowman\"],[0.4126984126984127,21.0,\"Joe Stephens\"],[0.44691929418571014,314.27272727272725,\"Chucky Atkins\"],[0.2826086956521739,23.0,\"Kevin Salvadori\"],[0.4,10.0,\"Gaylon Nickerson\"],[0.4013605442176871,73.5,\"Ivano Newbill\"],[0.5,2.0,\"Matt Steigenga\"],[0.42948717948717946,156.0,\"Tony Farmer\"],[0.0,4.0,\"James Scott\"],[0.4899267399267399,156.0,\"Mark Strickland\"],[0.4770949720670391,335.625,\"Ben Wallace\"],[0.4255079006772009,147.66666666666666,\"Jaren Jackson\"],[0.21428571428571427,7.0,\"Tim Kempton\"],[0.3,10.0,\"Elmer Bennett\"],[0.38461538461538464,13.0,\"Dexter Boney\"],[0.4498186215235792,413.5,\"Dominique Wilkins\"],[0.4790697674418605,215.0,\"Larry Stewart\"],[0.35,10.0,\"Donald Whiteside\"],[0.5426356589147286,64.5,\"Stephen Howard\"],[0.5161290322580645,31.0,\"Ruben Nembhard\"],[0.6666666666666666,3.0,\"Jimmy Carruth\"],[0.45595854922279794,96.5,\"Corey Beck\"],[0.4512937595129376,438.0,\"Ike Austin\"],[0.45,120.0,\"Brett Szabo\"],[0.0,3.0,\"Chris Jent\"],[0.43661971830985913,17.75,\"Michael Hawkins\"],[0.43103448275862066,58.0,\"Mark Bradtke\"],[0.3972222222222222,180.0,\"Xavier McDaniel\"],[0.36231884057971014,34.5,\"Lloyd Daniels\"],[0.40963855421686746,83.0,\"John Long\"],[0.49681933842239184,262.0,\"Aaron Williams\"],[0.36363636363636365,3.6666666666666665,\"Jimmy Oliver\"],[0.36666666666666664,30.0,\"Joe Courtney\"],[0.3939393939393939,99.0,\"Dragan Tarlac\"],[0.5269978401727862,185.2,\"Zeljko Rebraca\"],[0.5097545626179988,227.0,\"Lawrence Funderburke\"],[0.23333333333333334,15.0,\"Tom Chambers\"],[0.5,2.0,\"Larry Krystkowiak\"],[0.42067935796939154,206.07692307692307,\"Bruce Bowen\"],[0.4166666666666667,12.0,\"Stevin Smith\"],[0.4166666666666667,12.0,\"Mike Brown\"],[0.3584905660377358,106.0,\"Lionel Simmons\"],[0.50852920757711,1061.3684210526317,\"Tim Duncan\"],[0.4661892071952032,667.1111111111111,\"Keith Van Horn\"],[0.43480861244019137,393.4117647058824,\"Chauncey Billups\"],[0.4831858407079646,304.2307692307692,\"Antonio Daniels\"],[0.4940876420125203,308.07142857142856,\"Tony Battie\"],[0.43681466834441846,695.375,\"Ron Mercer\"],[0.4697910784867307,408.6923076923077,\"Tim Thomas\"],[0.4768451519536903,230.33333333333334,\"Adonal Foyle\"],[0.4607449856733524,814.3333333333334,\"Tracy McGrady\"],[0.4734337827121332,252.2,\"Danny Fortson\"],[0.4254545454545455,275.0,\"Tariq Abdul-Wahad\"],[0.4430538172715895,199.75,\"Austin Croshere\"],[0.4399801587301587,366.54545454545456,\"Derek Anderson\"],[0.4683760683760684,585.0,\"Maurice Taylor\"],[0.5093054925102134,220.3,\"Kelvin Cato\"],[0.41921305985768104,398.1666666666667,\"Brevin Knight\"],[0.4044943820224719,59.333333333333336,\"Johnny Taylor\"],[0.42411347517730497,235.0,\"Chris Anstey\"],[0.4942396313364055,157.8181818181818,\"Scot Pollard\"],[0.4482758620689655,14.5,\"Paul Grant\"],[0.46916299559471364,252.22222222222223,\"Anthony Parker\"],[0.33783783783783783,148.0,\"Ed Gray\"],[0.4439192092823378,387.8333333333333,\"Bobby Jackson\"],[0.3536231884057971,115.0,\"Rodrick Rhodes\"],[0.504524886877828,88.4,\"John Thomas\"],[0.4726890756302521,95.2,\"Charles Smith\"],[0.4369108049311095,229.83333333333334,\"Jacque Vaughn\"],[0.3424657534246575,73.0,\"Keith Booth\"],[0.4132231404958678,60.5,\"Charles O'Bannon\"],[0.4375,16.0,\"James Cotton\"],[0.5714285714285714,38.5,\"Marko Milic\"],[0.42727272727272725,110.0,\"Bubba Wells\"],[0.46153846153846156,26.0,\"Kebu Stewart\"],[0.34285714285714286,35.0,\"James Collins\"],[0.4480936202340506,378.42857142857144,\"Marc Jackson\"],[0.4088050314465409,79.5,\"Jerald Honeycutt\"],[0.43058161350844276,246.0,\"Anthony Johnson\"],[0.6,15.0,\"Jason Lawson\"],[0.4561164784324398,524.9285714285714,\"Stephen Jackson\"],[0.4429874572405929,350.8,\"Cedric Henderson\"],[0.3392857142857143,56.0,\"God Shammgod\"],[0.43080357142857145,224.0,\"Eric Washington\"],[0.4430919050517346,365.1111111111111,\"Alvin Williams\"],[0.4334541688244433,482.75,\"Predrag Drobnjak\"],[0.45256087321578503,170.14285714285714,\"Chris Crawford\"],[0.3795180722891566,83.0,\"DeJuan Wheat\"],[0.5074206755373593,434.22222222222223,\"Mark Blount\"],[0.15,20.0,\"Jamal Robinson\"],[0.45539033457249073,179.33333333333334,\"Adrian Griffin\"],[0.5032119914346895,155.66666666666666,\"Gerard King\"],[0.4116198916789759,156.23076923076923,\"Kevin Ollie\"],[0.42857142857142855,5.25,\"Etdrick Bohannon\"],[0.44244604316546765,69.5,\"Michael Stewart\"],[0.475177304964539,141.0,\"Keith Closs\"],[0.36,25.0,\"Nate Huffman\"],[0.0,2.0,\"Derek Grimm\"],[0.4732824427480916,65.5,\"Travis Williams\"],[0.2,5.0,\"Shea Seals\"],[0.2978723404255319,15.666666666666666,\"Brandon Williams\"],[0.3333333333333333,9.0,\"Alvin Sims\"],[0.4888888888888889,90.0,\"Charles Shackleford\"],[0.38421733505821476,85.88888888888889,\"Rick Brunson\"],[0.44966442953020136,149.0,\"Kornel David\"],[0.40672782874617736,65.4,\"Rusty LaRue\"],[0.42852292020373517,267.72727272727275,\"Troy Hudson\"],[0.45625,106.66666666666667,\"Art Long\"],[0.3023255813953488,43.0,\"Chris Garner\"],[0.5530336097773898,176.23076923076923,\"Mikki Moore\"],[0.3684210526315789,19.0,\"Gerald Madkins\"],[0.55,10.0,\"Steve Henson\"],[0.5794392523364486,107.0,\"Harold Ellis\"],[0.3684210526315789,19.0,\"Brian Oliver\"],[0.5,6.0,\"Reggie Hanson\"],[0.3132530120481928,27.666666666666668,\"Larry Robinson\"],[0.4351423704064249,456.55555555555554,\"Michael Olowokandi\"],[0.462736241530964,600.9285714285714,\"Mike Bibby\"],[0.5046162723600692,346.6,\"Raef LaFrentz\"],[0.47704810015374477,853.6875,\"Antawn Jamison\"],[0.46160437677147187,689.5909090909091,\"Vince Carter\"],[0.47828571428571426,250.0,\"Robert Traylor\"],[0.4666666666666667,326.25,\"Jason Williams\"],[0.4283049040511727,577.2307692307693,\"Larry Hughes\"],[0.4959511984452602,882.0952380952381,\"Dirk Nowitzki\"],[0.4780570005128581,718.3684210526316,\"Paul Pierce\"],[0.4773397199705232,542.8,\"Bonzi Wells\"],[0.43992932862190814,283.0,\"Michael Doleac\"],[0.5034188034188034,390.0,\"Keon Clark\"],[0.4418604651162791,421.4,\"Michael Dickerson\"],[0.4932541824069077,505.3636363636364,\"Matt Harpring\"],[0.38872832369942195,115.33333333333333,\"Bryce Drew\"],[0.5029365700861393,425.6666666666667,\"Rasho Nesterovic\"],[0.4375,32.0,\"Mirsad Turkcan\"],[0.4335378323108384,195.6,\"Pat Garrity\"],[0.4258312020460358,260.6666666666667,\"Roshown McLeod\"],[0.4655679811653914,566.3333333333334,\"Ricky Davis\"],[0.4939908827186075,172.35714285714286,\"Brian Skinner\"],[0.4556564245810056,260.3636363636364,\"Tyronn Lue\"],[0.4454303460514641,281.75,\"Felipe Lopez\"],[0.4743559718969555,533.75,\"Al Harrington\"],[0.5285714285714286,70.0,\"Sam Jacobson\"],[0.4289772727272727,176.0,\"Vladimir Stepania\"],[0.42276422764227645,153.75,\"Corey Benjamin\"],[0.48712228756844456,273.94444444444446,\"Nazr Mohammed\"],[0.4473684210526316,85.5,\"Ansu Sesay\"],[0.5302969502407705,498.4,\"Ruben Patterson\"],[0.4910873440285205,490.875,\"Rashard Lewis\"],[0.5385427666314678,118.375,\"Jelani McCoy\"],[0.4268292682926829,140.57142857142858,\"Shammond Williams\"],[0.37373737373737376,28.285714285714285,\"Bruno Sundov\"],[0.48616305160807777,148.55555555555554,\"Jerome James\"],[0.125,8.0,\"Casey Shaw\"],[0.3333333333333333,9.0,\"DeMarco Johnson\"],[0.4065995525727069,325.09090909090907,\"Rafer Alston\"],[0.6666666666666666,6.0,\"Korleone Young\"],[0.4547244094488189,646.5454545454545,\"Cuttino Mobley\"],[0.3333333333333333,3.0,\"Miles Simon\"],[0.5104022191400832,206.0,\"Jahidi White\"],[0.4593128390596745,50.27272727272727,\"Sean Marks\"],[0.4218009478672986,105.5,\"Toby Bailey\"],[0.4791666666666667,48.0,\"Andrae Patterson\"],[null,0.0,\"Tyson Wheeler\"],[0.3563218390804598,43.5,\"Ryan Stack\"],[0.3548387096774194,186.0,\"Cory Carr\"],[0.40425531914893614,58.75,\"Derrick Dial\"],[0.49633802816901407,177.5,\"Greg Buckner\"],[0.42616033755274263,59.25,\"Tremaine Fowlkes\"],[0.47153024911032027,112.4,\"Ryan Bowen\"],[0.3626373626373626,91.0,\"J.R. Henderson\"],[0.475,20.0,\"Torraye Braggs\"],[0.6280487804878049,41.0,\"Maceo Baston\"],[0.4376899696048632,119.63636363636364,\"Damon Jones\"],[0.0,1.0,\"Jonathan Kerner\"],[0.49436319317489336,468.85714285714283,\"Brad Miller\"],[1.0,2.0,\"Adonis Jordan\"],[0.6666666666666666,3.0,\"Kelly McCarty\"],[0.25,4.0,\"Makhtar N'diaye\"],[0.5,2.0,\"Peter Aluma\"],[0.2222222222222222,9.0,\"Ike Fontaine\"],[0.32142857142857145,28.0,\"Marlon Garnett\"],[0.4361127774445111,416.75,\"Tyrone Nesby\"],[0.3,10.0,\"Fred Vinson\"],[0.3333333333333333,9.0,\"Andrew Gaze\"],[0.4508670520231214,173.0,\"Thurl Bailey\"],[0.40625,32.0,\"Jeff Sheppard\"],[0.4319503683598294,198.3846153846154,\"Anthony Carter\"],[0.17647058823529413,17.0,\"Mark Macon\"],[0.0,1.0,\"Mark Baker\"],[0.42857142857142855,7.0,\"Negele Knight\"],[0.43653250773993807,298.15384615384613,\"Earl Boykins\"],[0.32,12.5,\"Steve Goodrich\"],[null,0.0,\"Trevor Winter\"],[0.32413793103448274,72.5,\"Charles Jones\"],[0.379746835443038,79.0,\"Gerald Brown\"],[0.44554455445544555,50.5,\"Randell Jackson\"],[0.5011394712853237,774.3529411764706,\"Elton Brand\"],[0.4508582713048762,731.4444444444445,\"Steve Francis\"],[0.4563655030800821,599.3846153846154,\"Baron Davis\"],[0.5016329986694085,590.5,\"Lamar Odom\"],[0.44155844155844154,115.5,\"Jonathan Bender\"],[0.5045296167247387,574.0,\"Wally Szczerbiak\"],[0.46257866984180984,839.8571428571429,\"Richard Hamilton\"],[0.47822527832351014,718.5882352941177,\"Andre Miller\"],[0.5130270014211274,791.625,\"Shawn Marion\"],[0.4837597911227154,503.94736842105266,\"Jason Terry\"],[0.42948717948717946,104.0,\"Trajan Langdon\"],[0.3076923076923077,13.0,\"Aleksandar Radojevic\"],[0.47784558238259484,538.4285714285714,\"Corey Maggette\"],[0.375968992248062,86.0,\"William Avery\"],[0.44659206510681587,462.5882352941176,\"Metta World Peace\"],[0.4107142857142857,130.66666666666666,\"Cal Bowdler\"],[0.4673495518565941,260.3333333333333,\"James Posey\"],[0.41226215644820297,118.25,\"Quincy Lewis\"],[0.43646723646723645,292.5,\"Dion Glover\"],[0.5039559683522532,223.6153846153846,\"Jeff Foster\"],[0.4762912785774767,429.45454545454544,\"Kenny Thomas\"],[0.42147587511825924,192.1818181818182,\"Devean George\"],[0.5097212032281732,419.38461538461536,\"Andrei Kirilenko\"],[0.32894736842105265,25.333333333333332,\"Tim James\"],[0.4043179587831207,339.6666666666667,\"Vonteego Cummings\"],[0.4738276990185387,229.25,\"Jumaine Jones\"],[0.4329388560157791,126.75,\"Scott Padgett\"],[0.39285714285714285,14.0,\"Leon Smith\"],[0.3611111111111111,36.0,\"John Celestand\"],[0.40887480190174325,70.11111111111111,\"Michael Ruffin\"],[0.3469387755102041,49.0,\"Chris Herren\"],[0.4633431085043988,85.25,\"Evan Eschmeyer\"],[0.4527938342967245,103.8,\"Calvin Booth\"],[0.43465045592705165,65.8,\"Wang Zhi-zhi\"],[0.4241645244215938,97.25,\"Obinna Ekezie\"],[0.4691358024691358,81.0,\"Laron Profit\"],[0.19047619047619047,21.0,\"A.J. Bramlett\"],[0.4653546535465355,406.5,\"Gordan Giricek\"],[0.4810126582278481,166.77777777777777,\"Francisco Elson\"],[0.4751803139584217,392.8333333333333,\"Lee Nailon\"],[0.5,4.0,\"Ryan Robertson\"],[0.5414680648236415,262.25,\"Todd MacCulloch\"],[0.40625,16.0,\"Lari Ketner\"],[0.4333593141075604,256.6,\"Rodney Buford\"],[0.3333333333333333,39.0,\"Tim Young\"],[0.49766392782342517,387.9375,\"Manu Ginobili\"],[0.4603174603174603,31.5,\"Harold Jamison\"],[0.16666666666666666,6.0,\"Wayne Turner\"],[0.5118253486961795,329.8,\"Eddie Robinson\"],[null,0.0,\"Andy Panko\"],[0.4523942093541203,299.3333333333333,\"Raja Bell\"],[0.4666666666666667,60.0,\"Lazaro Borrell\"],[null,0.0,\"Jason Miskiri\"],[0.4634308510638298,188.0,\"Ira Newble\"],[0.4354497354497355,270.0,\"Milt Palacio\"],[0.49295774647887325,71.0,\"Rick Hughes\"],[0.0,3.0,\"Derek Hood\"],[0.41935483870967744,15.5,\"Jamel Thomas\"],[0.4236453201970443,40.6,\"Jermaine Jackson\"],[0.44,66.66666666666667,\"Zendon Hamilton\"],[0.3950617283950617,81.0,\"Dedric Willoughby\"],[0.4915472964253452,516.6,\"Kenyon Martin\"],[0.47580645161290325,399.55555555555554,\"Stromile Swift\"],[0.48190575370997135,548.7142857142857,\"Darius Miles\"],[0.4460016488046167,404.3333333333333,\"Marcus Fizer\"],[0.501550547860244,284.52941176470586,\"Mike Miller\"],[0.4692526017029328,151.0,\"DerMarr Johnson\"],[0.459896983075791,339.75,\"Chris Mihm\"],[0.44914750198255354,504.4,\"Jamal Crawford\"],[0.5527452190006169,124.6923076923077,\"Joel Przybilla\"],[0.44300097434231894,236.84615384615384,\"Keyon Dooling\"],[0.49375,64.0,\"Jerome Moiso\"],[0.5132641291810842,192.66666666666666,\"Etan Thomas\"],[0.42907058001397624,477.0,\"Courtney Alexander\"],[0.3989169675090253,92.33333333333333,\"Mateen Cleaves\"],[0.4578146611341632,144.6,\"Jason Collier\"],[0.45006910850034554,385.8666666666667,\"Hedo Turkoglu\"],[0.45613755771373987,628.1,\"Desmond Mason\"],[0.4313773631230052,313.3076923076923,\"Quentin Richardson\"],[0.48050177256613036,305.5833333333333,\"Jamaal Magloire\"],[0.42761341222879684,362.14285714285717,\"Speedy Claxton\"],[0.4496765847347995,351.3636363636364,\"Morris Peterson\"],[0.4635897435897436,195.0,\"Donnell Harvey\"],[0.43304258594150846,299.84615384615387,\"DeShawn Stevenson\"],[0.36329588014981273,89.0,\"Dalibor Bagaric\"],[0.4902789518174134,169.0,\"Jake Tsakalidis\"],[0.4292929292929293,39.6,\"Mamadou N'diaye\"],[0.4985207100591716,253.5,\"Primoz Brezec\"],[0.37333333333333335,37.5,\"Erick Barkley\"],[0.46454767726161367,90.88888888888889,\"Mark Madsen\"],[0.5086006508600651,179.25,\"Eduardo Najera\"],[0.4282319391634981,300.57142857142856,\"Marko Jaric\"],[0.40049751243781095,100.5,\"Dan Langhi\"],[0.3765182186234818,82.33333333333333,\"A.J. Guyton\"],[0.4876632801161103,153.11111111111111,\"Jake Voskuhl\"],[0.3832599118942731,227.0,\"Khalid El-Amin\"],[0.3902439024390244,41.0,\"Mike Smith\"],[0.3888888888888889,36.0,\"Soumaila Samake\"],[0.4230124119423012,271.0,\"Eddie House\"],[0.36363636363636365,44.0,\"Lavor Postell\"],[0.4511627906976744,322.5,\"Hanno Mottola\"],[0.49504950495049505,33.666666666666664,\"Olumide Oyedeji\"],[0.47520288548241657,554.5,\"Michael Redd\"],[0.4317948717948718,81.25,\"Brian Cardinal\"],[0.42033898305084744,73.75,\"Jabari Smith\"],[0.4330708661417323,141.11111111111111,\"Jason Hart\"],[0.45454545454545453,3.6666666666666665,\"Kaniel Dickens\"],[0.3695652173913043,46.0,\"Igor Rakocevic\"],[0.16666666666666666,6.0,\"Ernest Brown\"],[0.5,18.0,\"Dan McClintock\"],[0.3931818181818182,440.0,\"Chris Porter\"],[0.46932515337423314,81.5,\"Daniel Santiago\"],[0.3181818181818182,22.0,\"Ruben Garces\"],[0.4530046224961479,185.42857142857142,\"Slava Medvedenko\"],[0.5245098039215687,204.0,\"Paul McPherson\"],[0.3375,40.0,\"Ruben Wolkowyski\"],[0.3879598662207358,42.714285714285715,\"Eddie Gill\"],[0.0,1.0,\"Terrance Roberson\"],[0.2,5.0,\"Garth Joseph\"],[0.4410387398893146,234.9,\"Malik Allen\"],[0.4423076923076923,104.0,\"David Vanterpool\"],[0.4470588235294118,42.5,\"Mike Penberthy\"],[0.4610011641443539,122.71428571428571,\"Ime Udoka\"],[0.28125,16.0,\"Pepe Sanchez\"],[0.2631578947368421,19.0,\"Sean Colson\"],[0.4926924326079896,256.5833333333333,\"Kwame Brown\"],[0.5976818410885268,313.3157894736842,\"Tyson Chandler\"],[0.5117758971331102,846.8333333333334,\"Pau Gasol\"],[0.5443786982248521,430.1818181818182,\"Eddy Curry\"],[0.4737347085632046,641.3846153846154,\"Jason Richardson\"],[0.4858345021037868,274.2307692307692,\"Shane Battier\"],[0.4083388484447386,302.2,\"Eddie Griffin\"],[0.4286934244235696,97.58333333333333,\"DeSagana Diop\"],[0.4515021459227468,291.25,\"Rodney White\"],[0.47174685179205683,728.7058823529412,\"Joe Johnson\"],[0.47147147147147145,83.25,\"Kedrick Brown\"],[0.4511681348142474,217.58333333333334,\"Vladimir Radmanovic\"],[0.49297971918876754,490.1764705882353,\"Richard Jefferson\"],[0.4635006221484861,401.8333333333333,\"Troy Murphy\"],[0.5602134146341463,164.0,\"Steven Hunter\"],[0.26,25.0,\"Kirk Haston\"],[0.48758465011286684,88.6,\"Michael Bradley\"],[0.41409090909090907,169.23076923076923,\"Jason Collins\"],[0.4810235958790296,885.0,\"Zach Randolph\"],[0.5281602002503129,307.3076923076923,\"Brendan Haywood\"],[0.2682926829268293,20.5,\"Joseph Forte\"],[0.3050847457627119,88.5,\"Jeryl Sasser\"],[0.3584905660377358,70.66666666666667,\"Brandon Armstrong\"],[0.4501915708812261,261.0,\"Raul Lopez\"],[0.502342866375828,442.07142857142856,\"Gerald Wallace\"],[0.5220219290094777,413.9230769230769,\"Samuel Dalembert\"],[0.4316957210776545,286.8181818181818,\"Jamaal Tinsley\"],[0.510156744218739,790.3888888888889,\"Tony Parker\"],[0.43902439024390244,164.0,\"Will Solomon\"],[0.5072463768115942,46.0,\"Alton Ford\"],[0.4376130198915009,276.5,\"Mike James\"],[0.48712967459932005,228.77777777777777,\"Maurice Evans\"],[0.6666666666666666,3.0,\"Ratko Varda\"],[0.43209876543209874,81.0,\"Antonis Fotsis\"],[0.4570889657340459,353.44444444444446,\"Trenton Hassell\"],[0.4578208903516369,524.8181818181819,\"Gilbert Arenas\"],[0.3695652173913043,23.0,\"Omar Cook\"],[0.4651741293532338,134.0,\"Terence Morris\"],[0.41456016177957533,89.9090909090909,\"Brian Scalabrine\"],[0.3181818181818182,29.333333333333332,\"Jeff Trepagnier\"],[0.34210526315789475,28.5,\"Damone Brown\"],[0.48398009950248755,502.5,\"Mehmet Okur\"],[0.44871794871794873,276.0,\"Earl Watson\"],[0.43548387096774194,15.5,\"Jamison Brewer\"],[0.4516750096264921,259.7,\"Bobby Simmons\"],[0.47586206896551725,72.5,\"Sean Lampley\"],[0.4233128834355828,81.5,\"Loren Woods\"],[0.40540540540540543,37.0,\"Ken Johnson\"],[0.3684210526315789,12.666666666666666,\"Ruben Boumtje-Boumtje\"],[0.4561872909698997,149.5,\"Jarron Collins\"],[0.3547400611620795,163.5,\"Kenny Satterfield\"],[0.4,20.0,\"Alvin Jones\"],[0.44934445768772346,239.71428571428572,\"Charlie Bell\"],[0.4518156424581006,318.22222222222223,\"Carlos Arroyo\"],[0.40540540540540543,12.333333333333334,\"Paul Shirley\"],[0.3793103448275862,29.0,\"Joe Crispin\"],[0.5555555555555556,18.0,\"Tang Hamilton\"],[0.3673469387755102,49.0,\"Victor Alexander\"],[0.4495798319327731,119.0,\"Oscar Torres\"],[0.375,28.0,\"Dean Oliver\"],[0.3900226757369615,110.25,\"Tierre Brown\"],[0.54050736497545,162.93333333333334,\"Chris Andersen\"],[0.4216589861751152,62.0,\"Mike Wilks\"],[0.6666666666666666,3.0,\"Geno Carlisle\"],[0.3333333333333333,18.0,\"Norman Richardson\"],[0.3971631205673759,47.0,\"Mengke Bateer\"],[0.524941724941725,804.375,\"Yao Ming\"],[0.4306418219461698,483.0,\"Jay Williams\"],[0.4813391877058178,364.4,\"Mike Dunleavy\"],[0.4714507260679543,506.64285714285717,\"Drew Gooden\"],[0.33182844243792325,110.75,\"Nikoloz Tskitishvili\"],[0.38529411764705884,170.0,\"Dajuan Wagner\"],[0.5507399577167019,445.1764705882353,\"Nene\"],[0.5434557682359027,351.45454545454544,\"Chris Wilcox\"],[0.5404337437970961,777.2857142857143,\"Amar'e Stoudemire\"],[0.4557291666666667,603.4285714285714,\"Caron Butler\"],[0.44745484400656815,221.45454545454547,\"Jared Jeffries\"],[0.4608593290170689,188.77777777777777,\"Melvin Ely\"],[0.44360902255639095,66.5,\"Marcus Haislip\"],[0.4449760765550239,238.85714285714286,\"Fred Jones\"],[0.4332988624612203,161.16666666666666,\"Bostjan Nachbar\"],[0.4252136752136752,234.0,\"Jiri Welsch\"],[0.4415530772408096,345.85714285714283,\"Juan Dixon\"],[0.42290748898678415,113.5,\"Curtis Borchardt\"],[0.3482142857142857,74.66666666666667,\"Ryan Humphrey\"],[0.42485549132947975,197.71428571428572,\"Kareem Rush\"],[0.47036328871892924,130.75,\"Qyntel Woods\"],[0.43344155844155846,154.0,\"Casey Jacobsen\"],[0.4704641350210971,609.4285714285714,\"Tayshaun Prince\"],[0.4949698189134809,497.0,\"Nenad Krstic\"],[0.3756906077348066,60.333333333333336,\"Frank Williams\"],[0.4568395754055678,384.0769230769231,\"John Salmons\"],[0.3941176470588235,85.0,\"Chris Jefferies\"],[0.4324596774193548,165.33333333333334,\"Dan Dickau\"],[0.2830188679245283,26.5,\"Robert Archibald\"],[0.434971098265896,138.4,\"Roger Mason Jr.\"],[0.42,350.0,\"Vincent Yarbrough\"],[0.501434034416826,209.2,\"Dan Gadzuric\"],[0.5216382618006603,862.0769230769231,\"Carlos Boozer\"],[0.4666666666666667,180.0,\"David Andersen\"],[0.3333333333333333,9.0,\"Tito Maddox\"],[0.4550898203592814,334.0,\"Juan Carlos Navarro\"],[0.46987951807228917,83.0,\"Mario Kasun\"],[0.45047241694605306,410.125,\"Flip Murray\"],[0.4685714285714286,131.25,\"Lonny Baxter\"],[0.5224182817471796,246.92857142857142,\"Matt Barnes\"],[0.4953271028037383,21.4,\"Jamal Sampson\"],[0.6666666666666666,3.0,\"Chris Owens\"],[0.5012131715771231,360.625,\"Darius Songaila\"],[0.43651295009475677,243.53846153846155,\"Rasual Butler\"],[0.39215686274509803,51.0,\"Tamar Slay\"],[0.49881467019941433,717.1,\"Luis Scola\"],[1.0,1.0,\"Randy Holcomb\"],[0.3225806451612903,31.0,\"Corsley Edwards\"],[0.35877862595419846,131.0,\"J.R. Bremer\"],[0.373134328358209,67.0,\"Predrag Savovic\"],[0.38081805359661497,236.33333333333334,\"Junior Harrington\"],[0.20833333333333334,12.0,\"Cezary Trybanski\"],[0.4107142857142857,183.27272727272728,\"Jannero Pargo\"],[null,0.0,\"Guy Rucker\"],[0.2916666666666667,24.0,\"Maurice Carter\"],[0.42035398230088494,150.66666666666666,\"Pat Burke\"],[0.47947327652982186,258.2,\"Smush Parker\"],[0.4637305699481865,386.0,\"Mike Batiste\"],[0.42864149092692494,254.875,\"Devin Brown\"],[0.0,1.0,\"Maurice Baker\"],[0.2608695652173913,23.0,\"Adam Harrington\"],[0.5,41.5,\"Richie Frahm\"],[0.4670608108108108,182.15384615384616,\"Reggie Evans\"],[0.23333333333333334,30.0,\"Antoine Rigaudeau\"],[0.5498842243028289,1103.6666666666667,\"LeBron James\"],[0.46070878274268107,259.6,\"Darko Milicic\"],[0.471107544141252,969.1111111111111,\"Carmelo Anthony\"],[0.5058692485648187,897.7692307692307,\"Chris Bosh\"],[0.5021279298735946,983.9375,\"Dwyane Wade\"],[0.4902128875553651,538.3846153846154,\"Chris Kaman\"],[0.43166666666666664,415.38461538461536,\"Kirk Hinrich\"],[0.44978858350951373,473.0,\"T.J. Ford\"],[0.4853700516351119,290.5,\"Michael Sweetney\"],[0.4442970822281167,323.14285714285717,\"Jarvis Hayes\"],[0.49502878074306644,191.1,\"Mickael Pietrus\"],[0.5415430267062314,288.85714285714283,\"Nick Collison\"],[0.46211552888222057,166.625,\"Marcus Banks\"],[0.4579840124780659,427.4166666666667,\"Luke Ridnour\"],[0.3360655737704918,40.666666666666664,\"Reece Gaines\"],[0.2857142857142857,14.0,\"Troy Bell\"],[0.45652173913043476,153.33333333333334,\"Zarko Cabarkapa\"],[0.4994692144373673,753.6,\"David West\"],[0.43270868824531517,176.1,\"Sasha Pavlovic\"],[0.4540182270091135,185.69230769230768,\"Dahntay Jones\"],[0.5287392823118451,449.85714285714283,\"Boris Diaw\"],[0.44692737430167595,119.33333333333333,\"Zoran Planinic\"],[0.44691224268689056,335.6363636363636,\"Travis Outlaw\"],[0.4674302075876879,155.22222222222223,\"Brian Cook\"],[0.4379481522338665,226.625,\"Carlos Delfino\"],[0.5,17.0,\"Ndudi Ebi\"],[0.53198127925117,228.92857142857142,\"Kendrick Perkins\"],[0.4976303317535545,346.64285714285717,\"Leandro Barbosa\"],[0.4709664848012471,513.2,\"Josh Howard\"],[0.4125560538116592,74.33333333333333,\"Maciej Lampe\"],[0.44574036511156184,219.11111111111111,\"Jason Kapono\"],[0.45901639344262296,189.1,\"Luke Walton\"],[0.37,100.0,\"Travis Hansen\"],[0.42036124794745483,187.3846153846154,\"Steve Blake\"],[0.0,1.0,\"Slavko Vranes\"],[0.6666666666666666,3.0,\"Derrick Zimmerman\"],[0.45367717287488063,349.0,\"Willie Green\"],[0.4717800289435601,345.5,\"Zaza Pachulia\"],[0.4416331224841863,158.0909090909091,\"Keith Bogans\"],[0.5159891598915989,153.75,\"Matt Bonner\"],[0.45951825951825953,495.0,\"Mo Williams\"],[0.4444444444444444,9.0,\"James Lang\"],[0.4024390243902439,76.14285714285714,\"James Jones\"],[0.4639348863317429,209.58823529411765,\"Kyle Korver\"],[0.4838709677419355,93.0,\"Brandon Hunter\"],[0.47058823529411764,17.0,\"Andreas Glyniadakis\"],[0.3333333333333333,3.0,\"Jerome Beasley\"],[0.32903225806451614,77.5,\"Theron Smith\"],[0.47767601602747567,349.4,\"Marquis Daniels\"],[0.4940119760479042,296.8888888888889,\"Udonis Haslem\"],[0.4281437125748503,238.57142857142858,\"Quinton Ross\"],[0.2,2.5,\"Kirk Penney\"],[null,0.0,\"Alex Scales\"],[0.3384615384615385,32.5,\"Britton Johnsen\"],[0.42857142857142855,82.83333333333333,\"Ronald Dupree\"],[0.0,5.0,\"Yuta Tabuse\"],[0.5,28.0,\"Desmond Penigar\"],[0.4125,20.0,\"Josh Davis\"],[0.44136460554371004,78.16666666666667,\"Linton Johnson\"],[0.375,8.0,\"Hiram Fuller\"],[0.42875,160.0,\"Matt Carroll\"],[0.34146341463414637,20.5,\"Alex Garcia\"],[0.4666666666666667,30.0,\"Melvin Sanders\"],[0.0,1.0,\"Brandin Knight\"],[0.3757725587144623,202.25,\"Keith McLeod\"],[0.4399641577060932,159.42857142857142,\"Josh Powell\"],[0.48314606741573035,89.0,\"Lynn Greer\"],[0.5,4.0,\"Desmond Ferguson\"],[0.5895465026902382,688.7647058823529,\"Dwight Howard\"],[0.5121909633418584,586.5,\"Emeka Okafor\"],[0.4472532814778804,561.0,\"Ben Gordon\"],[0.49148642429820527,310.42857142857144,\"Shaun Livingston\"],[0.4813202756619514,367.6,\"Devin Harris\"],[0.5480176211453744,283.75,\"Josh Childress\"],[0.4821563342318059,618.3333333333334,\"Luol Deng\"],[0.4068241469816273,127.0,\"Rafael Araujo\"],[0.5189017111022682,443.47058823529414,\"Andre Iguodala\"],[0.3561643835616438,36.5,\"Luke Jackson\"],[0.5949314499376818,240.7,\"Andris Biedrins\"],[0.5058823529411764,85.0,\"Robert Swift\"],[0.4187943262411348,282.0,\"Sebastian Telfair\"],[0.47068403908794787,330.61538461538464,\"Kris Humphries\"],[0.5011402508551881,877.0,\"Al Jefferson\"],[0.4754491017964072,208.75,\"Kirk Snyder\"],[0.4797807425793774,743.7692307692307,\"Josh Smith\"],[0.46340079440136184,330.4375,\"JR Smith\"],[0.46910239061795217,201.54545454545453,\"Dorell Wright\"],[0.47445124145376033,397.0,\"Jameer Nelson\"],[0.0,1.0,\"Pavel Podkolzin\"],[0.45664739884393063,129.75,\"Viktor Khryapa\"],[0.37735849056603776,53.0,\"Sergei Monia\"],[0.47870261821023835,319.875,\"Delonte West\"],[0.4923046172296622,357.35714285714283,\"Tony Allen\"],[0.4643102264927934,485.6666666666667,\"Kevin Martin\"],[0.41500765696784075,130.6,\"Sasha Vujacic\"],[0.49585876198779427,352.9230769230769,\"Beno Udrih\"],[0.5297450424929179,176.5,\"David Harrison\"],[0.5152552038779584,250.5,\"Anderson Varejao\"],[0.4122137404580153,131.0,\"Jackson Vroman\"],[0.5,10.0,\"Peter John Ramos\"],[0.39473684210526316,76.0,\"Lionel Chalmers\"],[0.4473684210526316,57.0,\"Donta Smith\"],[0.5,6.0,\"Andre Emmett\"],[0.40106951871657753,93.5,\"Antonio Burks\"],[0.42513863216266173,108.2,\"Royal Ivey\"],[0.4261501210653753,183.55555555555554,\"Chris Duhon\"],[0.40749414519906324,142.33333333333334,\"Justin Reed\"],[0.48403846153846153,305.88235294117646,\"Trevor Ariza\"],[0.4339622641509434,159.0,\"Bernard Robinson\"],[0.5185185185185185,27.0,\"Ha Ha\"],[0.41578947368421054,63.333333333333336,\"Pape Sow\"],[0.4186046511627907,43.0,\"Vassilis Spanoulis\"],[0.34285714285714286,52.5,\"Matt Freije\"],[0.47368421052631576,19.0,\"Luis Flores\"],[0.47244094488188976,54.42857142857143,\"DJ Mbenga\"],[0.4166666666666667,36.0,\"Horace Jenkins\"],[0.3333333333333333,3.0,\"Tony Bobbitt\"],[0.4631542699724518,363.0,\"Andres Nocioni\"],[0.36507936507936506,63.0,\"Gerald Fitch\"],[0.5189873417721519,52.666666666666664,\"Andre Brown\"],[0.44680851063829785,47.0,\"John Edwards\"],[0.4444444444444444,4.5,\"Desmon Farmer\"],[0.0,1.0,\"Ibrahim Kutluay\"],[0.5641025641025641,19.5,\"James Thomas\"],[0.3125,16.0,\"Erik Daniels\"],[0.43548387096774194,41.333333333333336,\"Awvee Storey\"],[0.37668161434977576,83.625,\"Earl Barron\"],[0.4186046511627907,43.0,\"Andre Barrett\"],[0.45019762845849803,253.0,\"Damien Wilkins\"],[0.5393700787401575,84.66666666666667,\"Jackie Butler\"],[0.43548387096774194,62.0,\"Kasib Powell\"],[0.40816326530612246,16.333333333333332,\"Billy Thomas\"],[0.3424657534246575,36.5,\"Jared Reiner\"],[0.3333333333333333,27.0,\"Mark Jones\"],[0.5365107913669065,397.14285714285717,\"Andrew Bogut\"],[0.4821010371361659,398.53333333333336,\"Marvin Williams\"],[0.5090742438130156,681.875,\"Chris Paul\"],[0.4450041981528128,510.42857142857144,\"Raymond Felton\"],[0.45413533834586467,199.5,\"Martell Webster\"],[0.4844844844844845,363.27272727272725,\"Charlie Villanueva\"],[0.4765763484426437,303.7692307692308,\"Channing Frye\"],[0.5094142259414226,159.33333333333334,\"Ike Diogu\"],[0.48200312989045385,639.0,\"Deron Williams\"],[0.5574629036950829,429.625,\"Andrew Bynum\"],[0.29411764705882354,17.0,\"Yaroslav Korolev\"],[0.4618705035971223,173.75,\"Sean May\"],[0.4670614359733531,337.75,\"Rashad McCants\"],[0.4671385237613751,164.83333333333334,\"Antoine Wright\"],[0.5031328320802005,266.0,\"Joey Graham\"],[0.4626093874303898,502.8,\"Danny Granger\"],[0.46907574704656013,239.83333333333334,\"Gerald Green\"],[0.49900483366505544,439.625,\"Hakim Warrick\"],[0.44,12.5,\"Julius Hodge\"],[0.46316085489313835,323.27272727272725,\"Nate Robinson\"],[0.46964529331514326,451.0769230769231,\"Jarrett Jack\"],[0.483759842519685,203.2,\"Francisco Garcia\"],[0.4541139240506329,210.66666666666666,\"Luther Head\"],[0.4635887672536887,262.625,\"Johan Petro\"],[0.49609652235628104,281.8,\"Jason Maxiell\"],[0.5011376564277589,251.14285714285714,\"Linas Kleiza\"],[0.5412885662431942,183.66666666666666,\"Ian Mahinmi\"],[0.46853146853146854,71.5,\"Wayne Simien\"],[0.5372539831302718,711.3333333333334,\"David Lee\"],[0.43525741029641185,213.66666666666666,\"Salim Stoudamire\"],[0.42857142857142855,147.0,\"Daniel Ewing\"],[0.5024669429642786,422.25,\"Brandon Bass\"],[0.46273731935392465,235.26666666666668,\"CJ Miles\"],[0.48296679603277276,356.7692307692308,\"Ersan Ilyasova\"],[0.535,160.0,\"Ronny Turiaf\"],[0.44224422442244227,60.6,\"Travis Diener\"],[0.46905537459283386,102.33333333333333,\"Von Wafer\"],[0.4822516684398878,861.5833333333334,\"Monta Ellis\"],[0.4392857142857143,140.0,\"Roko Ukic\"],[0.6052631578947368,38.0,\"Chris Taft\"],[0.0,3.0,\"Mile Ilic\"],[0.0,1.0,\"Martynas Andriuskevicius\"],[0.4559302174196068,480.0625,\"Lou Williams\"],[0.44594594594594594,37.0,\"Bracey Wright\"],[0.5188679245283019,141.33333333333334,\"Mickael Gelabale\"],[0.47774044519109615,529.1111111111111,\"Andray Blatche\"],[0.4728211357424841,411.625,\"Ryan Gomes\"],[0.40350877192982454,57.0,\"Robert Whaley\"],[0.42028985507246375,69.0,\"Orien Greene\"],[0.48148148148148145,13.5,\"Dijon Thompson\"],[0.4596774193548387,124.0,\"Lawrence Roberts\"],[0.5880518234165067,297.7142857142857,\"Amir Johnson\"],[0.5527000650618087,512.3333333333334,\"Marcin Gortat\"],[0.3880597014925373,33.5,\"Alex Acker\"],[0.5416666666666666,24.0,\"Uros Slokar\"],[0.5788206979542719,138.5,\"Fabricio Oberto\"],[0.3793103448275862,29.0,\"Arvydas Macijauskas\"],[0.42150170648464164,97.66666666666667,\"Ronnie Price\"],[0.43636363636363634,192.5,\"Sarunas Jasikevicius\"],[0.5066985645933014,298.57142857142856,\"Jose Calderon\"],[0.4214876033057851,121.0,\"Donell Taylor\"],[0.4555160142348754,35.125,\"Shavlik Randolph\"],[null,0.0,\"Deng Gai\"],[0.3984375,64.0,\"Rawle Marshall\"],[0.4567350579839429,140.125,\"Alan Anderson\"],[0.4666666666666667,30.0,\"Eddie Basden\"],[0.49321266968325794,132.6,\"James Singleton\"],[1.0,1.0,\"Matt Walsh\"],[0.45871559633027525,36.333333333333336,\"Anthony Roberson\"],[0.46938775510204084,24.5,\"Luke Schenscher\"],[0.46531531531531534,277.5,\"Will Bynum\"],[0.515625,12.8,\"Dwayne Jones\"],[0.35294117647058826,34.0,\"Kevin Burleson\"],[0.23076923076923078,26.0,\"Devin Green\"],[0.4807692307692308,112.66666666666667,\"Stephen Graham\"],[0.4421052631578947,47.5,\"Esteban Batista\"],[0.6666666666666666,3.0,\"Sharrod Ford\"],[0.41,66.66666666666667,\"Jawad Williams\"],[0.1875,5.333333333333333,\"Will Conroy\"],[0.6086956521739131,23.0,\"Anthony Grundy\"],[0.3333333333333333,18.0,\"Aaron Miles\"],[0.22727272727272727,22.0,\"Noel Felix\"],[0.0,2.0,\"Roger Powell\"],[0.47974068071312803,246.8,\"Kelenna Azubuike\"],[0.500956937799043,190.0,\"Chuck Hayes\"],[0.4230769230769231,52.0,\"Boniface Ndong\"],[0.25,4.0,\"Keith Langford\"],[0.4092827004219409,88.875,\"John Lucas III\"],[0.368,62.5,\"Andre Owens\"],[0.5300970873786408,206.0,\"Jamario Moon\"],[0.46992864424057085,490.5,\"Andrea Bargnani\"],[0.49815873015873013,1050.0,\"LaMarcus Aldridge\"],[0.39110604332953247,292.3333333333333,\"Adam Morrison\"],[0.4404485692188708,323.25,\"Tyrus Thomas\"],[0.46408839779005523,211.16666666666666,\"Shelden Williams\"],[0.4847094801223242,654.0,\"Brandon Roy\"],[0.4286096972944013,339.3636363636364,\"Randy Foye\"],[0.48333181942047415,733.9333333333333,\"Rudy Gay\"],[0.5031847133757962,39.25,\"Patrick O'Bryant\"],[0.4268292682926829,27.333333333333332,\"Mouhamed Sene\"],[0.48197565543071164,284.8,\"JJ Redick\"],[0.5029154518950437,114.33333333333333,\"Hilton Armstrong\"],[0.501788268955651,199.71428571428572,\"Thabo Sefolosha\"],[0.5202558635394456,351.75,\"Ronnie Brewer\"],[0.4093567251461988,57.0,\"Cedric Simmons\"],[0.4712301587301587,201.6,\"Rodney Carney\"],[0.46875,114.28571428571429,\"Shawne Williams\"],[0.444015444015444,86.33333333333333,\"Oleksiy Pecherov\"],[0.43626062322946174,117.66666666666667,\"Quincy Douby\"],[0.54337899543379,109.5,\"Renaldo Balkman\"],[0.48268029528676887,469.6,\"Rajon Rondo\"],[0.42097902097902096,178.75,\"Marcus Williams\"],[0.5441458733205374,260.5,\"Josh Boone\"],[0.4714261197871975,388.46666666666664,\"Kyle Lowry\"],[0.45575877409787446,224.77777777777777,\"Shannon Brown\"],[0.46328578975171686,189.3,\"Jordan Farmar\"],[0.4509990485252141,210.2,\"Sergio Rodriguez\"],[0.36551724137931035,36.25,\"Maurice Ager\"],[0.39631336405529954,162.75,\"Mardy Collins\"],[0.4613686534216336,151.0,\"Joel Freeland\"],[0.48214285714285715,37.333333333333336,\"James White\"],[0.4631578947368421,34.54545454545455,\"Steve Novak\"],[0.4716981132075472,79.5,\"Solomon Jones\"],[0.4036697247706422,54.5,\"Paul Davis\"],[0.47322212467076386,227.8,\"P.J. Tucker\"],[0.5596330275229358,363.3333333333333,\"Craig Smith\"],[0.49122807017543857,85.5,\"Bobby Jones\"],[0.3,10.0,\"Kosta Perovic\"],[0.3870967741935484,124.0,\"David Noel\"],[0.5135135135135135,18.5,\"James Augustine\"],[0.39690301548492257,175.28571428571428,\"Daniel Gibson\"],[0.5,8.0,\"Marcus Vinicius\"],[0.5170068027210885,147.0,\"Alexander Johnson\"],[0.3894736842105263,47.5,\"Dee Brown\"],[0.5139093782929399,632.6666666666666,\"Paul Millsap\"],[0.5174234424498416,189.4,\"Leon Powe\"],[0.5841836734693877,117.6,\"Ryan Hollins\"],[0.2727272727272727,16.5,\"Cheikh Samb\"],[0.3333333333333333,3.0,\"Guillermo Diaz\"],[0.5374149659863946,73.5,\"Hassan Adams\"],[0.3611111111111111,36.0,\"Damir Markota\"],[0.32,25.0,\"Will Blalock\"],[0.4158790170132325,88.16666666666667,\"Chris Quinn\"],[0.36363636363636365,143.0,\"Allan Ray\"],[0.4747252747252747,136.5,\"Lou Amundson\"],[0.47941176470588237,113.33333333333333,\"Tarence Kinsey\"],[0.4579710144927536,172.5,\"Jorge Garbajosa\"],[0.4366812227074236,229.0,\"Pooh Jeter\"],[0.5775862068965517,58.0,\"Justin Williams\"],[0.4475806451612903,62.0,\"Yakhouba Diawara\"],[0.4155844155844156,38.5,\"Pops Mensah-Bonsu\"],[0.3783783783783784,37.0,\"Robert Hite\"],[0.46222732491389207,311.07142857142856,\"J.J. Barea\"],[0.4722222222222222,36.0,\"Darius Washington\"],[0.4166666666666667,12.0,\"Ivan McFarlin\"],[0.518324607329843,127.33333333333333,\"Walter Herrmann\"],[0.25,4.0,\"Mike Hall\"],[0.44,25.0,\"Kevinn Pinkney\"],[0.4794520547945205,36.5,\"Mike Harris\"],[0.0,3.0,\"Chris McCray\"],[0.34615384615384615,26.0,\"Cedric Bozeman\"],[0.25,8.0,\"Steven Smith\"],[0.2,10.0,\"Renaldo Major\"],[0.5,20.0,\"Dontell Jefferson\"],[0.3,20.0,\"Jeremy Richardson\"],[0.25,4.0,\"Lance Allred\"],[0.35365853658536583,82.0,\"Walker Russell\"],[0.4262295081967213,30.5,\"Randolph Morris\"],[0.5742753623188406,184.0,\"Greg Oden\"],[0.5335363344580693,934.6923076923077,\"Kevin Durant\"],[0.5428905792861323,610.3571428571429,\"Al Horford\"],[0.4687760199833472,514.7142857142857,\"Mike Conley\"],[0.48862843588670296,551.3076923076923,\"Jeff Green\"],[0.41298265249020705,357.4,\"Yi Jianlian\"],[0.4803964757709251,349.2307692307692,\"Corey Brewer\"],[0.6101776284205472,208.3,\"Brandan Wright\"],[0.49319877139096097,350.61538461538464,\"Joakim Noah\"],[0.48236107908692644,433.7,\"Spencer Hawes\"],[0.4521072796934866,130.5,\"Acie Law\"],[0.5267786561264822,722.8571428571429,\"Thaddeus Young\"],[0.5190735694822888,183.5,\"Julian Wright\"],[0.46688382193268185,690.75,\"Al Thornton\"],[0.44175491679273826,594.9,\"Rodney Stuckey\"],[0.44634263715110684,346.3333333333333,\"Nick Young\"],[0.5123042505592841,111.75,\"Sean Williams\"],[0.46473585411638507,286.84615384615387,\"Marco Belinelli\"],[0.4656652360515021,233.0,\"Javaris Crittenton\"],[0.47876447876447875,282.54545454545456,\"Jason Smith\"],[0.38349514563106796,137.33333333333334,\"Daequan Cook\"],[0.5169491525423728,210.71428571428572,\"Jared Dudley\"],[0.4968892575694733,401.8333333333333,\"Wilson Chandler\"],[0.4631728045325779,176.5,\"Rudy Fernandez\"],[0.4044943820224719,29.666666666666668,\"Morris Almond\"],[0.4420245398773006,326.0,\"Aaron Brooks\"],[0.48125564588979225,402.54545454545456,\"Arron Afflalo\"],[0.5583941605839416,274.0,\"Tiago Splitter\"],[0.4527027027027027,49.333333333333336,\"Alando Tucker\"],[0.5369700103412617,429.77777777777777,\"Carl Landry\"],[0.35,40.0,\"Gabe Pruitt\"],[0.3181818181818182,11.0,\"Marcus Williams\"],[0.575,80.0,\"Nick Fazekas\"],[0.45106861642294716,444.5,\"Glen Davis\"],[0.425,80.0,\"Jermareo Davidson\"],[0.5143266475644699,126.9090909090909,\"Josh McRoberts\"],[0.5,50.0,\"Kyrylo Fesenko\"],[0.6,5.0,\"Sun Sun\"],[0.4827586206896552,58.0,\"Chris Richard\"],[0.6,5.0,\"Derrick Byars\"],[0.4507042253521127,71.0,\"Stephane Lasme\"],[0.4226125137211855,151.83333333333334,\"Dominic McGuire\"],[0.49804525530150456,649.3076923076923,\"Marc Gasol\"],[0.5110336817653891,123.0,\"Aaron Gray\"],[null,0.0,\"JamesOn Curry\"],[0.35714285714285715,14.0,\"Taurean Green\"],[0.35294117647058826,8.5,\"Demetris Nichols\"],[0.4503175578774841,443.72727272727275,\"Ramon Sessions\"],[0.34328358208955223,67.0,\"DJ Strawberry\"],[0.5128865979381443,77.6,\"Joel Anthony\"],[0.39215686274509803,25.5,\"Mustafa Shakur\"],[0.4117647058823529,17.0,\"Coby Karl\"],[0.41379310344827586,14.5,\"Darryl Watkins\"],[0.4439252336448598,235.4,\"C.J. Watson\"],[0.493431855500821,93.6923076923077,\"Anthony Tolliver\"],[0.3877551020408163,16.333333333333332,\"Trey Johnson\"],[0.42857142857142855,3.5,\"Courtney Sims\"],[0.46956521739130436,28.75,\"Mario West\"],[0.4583333333333333,12.0,\"Thomas Gardner\"],[0.5277777777777778,306.0,\"Ivan Johnson\"],[0.2727272727272727,5.5,\"Andre Ingram\"],[0.5833333333333334,12.0,\"Eric Dawson\"],[0.35,20.0,\"Carldell Johnson\"],[0.23333333333333334,10.0,\"Blake Ahearn\"],[0.42731277533039647,227.0,\"Mike Taylor\"],[0.4814942330865898,528.0909090909091,\"Michael Beasley\"],[0.45868544600938965,532.5,\"O.J. Mayo\"],[0.4856975381008206,710.8333333333334,\"Derrick Rose\"],[0.46959624938772654,1099.3076923076924,\"Russell Westbrook\"],[0.4798206278026906,497.46153846153845,\"Kevin Love\"],[0.46547884187082406,336.75,\"Danilo Gallinari\"],[0.4783795130142737,366.46153846153845,\"Eric Gordon\"],[0.4264705882352941,102.0,\"Joe Alexander\"],[0.43732376313765703,300.0769230769231,\"D.J. Augustin\"],[0.5260884014622799,694.3846153846154,\"Brook Lopez\"],[0.43602573266619016,254.36363636363637,\"Jerryd Bayless\"],[0.49988131972466177,526.625,\"Jason Thompson\"],[0.44714926329276106,173.44444444444446,\"Brandon Rush\"],[0.46562721474131824,235.16666666666666,\"Anthony Randolph\"],[0.5427669822288657,463.15384615384613,\"Robin Lopez\"],[0.4754818248353257,409.9,\"Marreese Speights\"],[0.4657290368524123,624.1111111111111,\"Roy Hibbert\"],[0.5758414015675426,333.6923076923077,\"JaVale McGee\"],[0.5078066914498142,504.375,\"JJ Hickson\"],[0.5100725221595488,177.28571428571428,\"Alexis Ajinca\"],[0.4700854700854701,253.5,\"Ryan Anderson\"],[0.483983286908078,359.0,\"Courtney Lee\"],[0.5346776657500764,297.54545454545456,\"Kosta Koufos\"],[0.549182678520218,581.1666666666666,\"Serge Ibaka\"],[0.5053475935828877,316.46153846153845,\"Nicolas Batum\"],[0.5008003658815459,336.38461538461536,\"George Hill\"],[0.46003016591251883,294.6666666666667,\"Darrell Arthur\"],[0.4671857619577308,224.75,\"Donte Greene\"],[0.5073099415204678,114.0,\"DJ White\"],[0.5660377358490566,26.5,\"J.R. Giddens\"],[0.5179345683878597,422.8333333333333,\"Nikola Pekovic\"],[0.4444444444444444,9.0,\"Walter Sharpe\"],[0.5358490566037736,66.25,\"Joey Dorsey\"],[0.4746784565916399,276.44444444444446,\"Mario Chalmers\"],[0.6752202221371122,401.6923076923077,\"DeAndre Jordan\"],[0.5278706800445931,224.25,\"Omer Asik\"],[0.4784719974101651,257.4166666666667,\"Luc Mbah a Moute\"],[0.4972972972972973,61.666666666666664,\"Kyle Weaver\"],[0.486815415821501,246.5,\"Sonny Weems\"],[0.4648956356736243,175.66666666666666,\"Chris Douglas-Roberts\"],[0.43859649122807015,57.0,\"Nathan Jawai\"],[0.35,60.0,\"Sean Singletary\"],[0.0,3.0,\"Patrick Ewing\"],[0.5060882800608828,505.38461538461536,\"Goran Dragic\"],[0.56,70.0,\"Henry Walker\"],[0.5486725663716814,56.5,\"Malik Hairston\"],[0.46303501945525294,85.66666666666667,\"Darnell Jackson\"],[0.5294117647058824,17.0,\"Sasha Kaun\"],[0.3333333333333333,6.0,\"Joe Crawford\"],[0.5459459459459459,92.5,\"Semih Erden\"],[0.47032337290216947,271.44444444444446,\"Anthony Morrow\"],[0.42475728155339804,103.0,\"Bobby Brown\"],[0.46875,16.0,\"Othello Hunter\"],[1.0,1.0,\"Steven Hill\"],[0.47101449275362317,55.2,\"Hamed Haddadi\"],[0.3870967741935484,93.0,\"Rob Kurz\"],[0.47058823529411764,51.0,\"DeMarcus Nelson\"],[0.4787234042553192,31.333333333333332,\"Othyus Jeffers\"],[0.5,4.0,\"Oliver Lafayette\"],[0.5117370892018779,213.0,\"Chris Hunter\"],[0.4665012406947891,201.5,\"Gary Forbes\"],[1.0,1.0,\"Trey Gilder\"],[0.4140625,73.14285714285714,\"Cartier Martin\"],[0.509469696969697,132.0,\"Greg Stiemsma\"],[0.5205659756498848,828.8181818181819,\"Blake Griffin\"],[0.5669781931464174,64.2,\"Hasheem Thabeet\"],[0.5129239692346489,660.9166666666666,\"James Harden\"],[0.4681181959564541,643.0,\"Tyreke Evans\"],[0.41875923190546527,406.2,\"Ricky Rubio\"],[0.4203883495145631,343.3333333333333,\"Jonny Flynn\"],[0.5192421551213736,563.0,\"Stephen Curry\"],[0.49944669863519,338.875,\"Jordan Hill\"],[0.4786945419725503,1044.3333333333333,\"DeMar DeRozan\"],[0.4124915749269827,494.55555555555554,\"Brandon Jennings\"],[0.4316628701594533,219.5,\"Terrence Williams\"],[0.45987583352494826,543.625,\"Gerald Henderson\"],[0.4423617619493908,304.85714285714283,\"Tyler Hansbrough\"],[0.424,145.83333333333334,\"Earl Clark\"],[0.43314285714285716,145.83333333333334,\"Austin Daye\"],[0.5341521869382864,278.1666666666667,\"James Johnson\"],[0.49332477535301666,649.1666666666666,\"Jrue Holiday\"],[0.4928136419001218,513.125,\"Ty Lawson\"],[0.47199601130131297,501.4166666666667,\"Jeff Teague\"],[0.40869565217391307,161.0,\"Eric Maynor\"],[0.49464989675239346,532.7,\"Darren Collison\"],[0.5016380016380017,244.2,\"Omri Casspi\"],[0.4381139489194499,203.6,\"Byron Mullens\"],[0.5,186.5,\"Rodrigue Beaubois\"],[0.524303305249514,514.3333333333334,\"Taj Gibson\"],[0.4854122621564482,215.0,\"DeMarre Carroll\"],[0.44776785714285716,186.66666666666666,\"Wayne Ellington\"],[0.4478951000690131,181.125,\"Toney Douglas\"],[0.4641350210970464,118.5,\"Christian Eyenga\"],[0.4888888888888889,45.0,\"Victor Claver\"],[0.5544747081712063,85.66666666666667,\"Jeff Ayres\"],[0.4838709677419355,124.0,\"Jermaine Taylor\"],[0.49381148841637573,315.1,\"Dante Cunningham\"],[0.3915343915343915,47.25,\"DaJuan Summers\"],[0.46837763519706693,272.75,\"Sam Young\"],[0.5258255715495342,337.42857142857144,\"DeJuan Blair\"],[0.4896265560165975,80.33333333333333,\"Jon Brockman\"],[0.5066603235014272,233.55555555555554,\"Jonas Jerebko\"],[0.5278637770897833,215.33333333333334,\"Derrick Brown\"],[0.4706504494976203,189.1,\"Jodie Meeks\"],[0.45667752442996745,170.55555555555554,\"Patrick Beverley\"],[0.47052845528455284,369.0,\"Marcus Thornton\"],[0.486198243412798,227.71428571428572,\"Chase Budinger\"],[0.47577092511013214,227.0,\"Nick Calathes\"],[0.46101029916625796,169.91666666666666,\"Danny Green\"],[0.5,8.0,\"Taylor Griffin\"],[0.4389920424403183,125.66666666666667,\"AJ Price\"],[0.46332046332046334,129.5,\"Nando De Colo\"],[0.48350253807106597,197.0,\"Patty Mills\"],[0.4407894736842105,38.0,\"Lester Hudson\"],[0.4630459126539754,162.36363636363637,\"Garrett Temple\"],[0.4666666666666667,15.0,\"Marcus Landry\"],[0.2222222222222222,9.0,\"Jerel McNeal\"],[0.3333333333333333,3.0,\"Antonio Anderson\"],[0.5483870967741935,31.0,\"Garret Siler\"],[0.44,12.5,\"Larry Owens\"],[0.4688878000979912,340.1666666666667,\"Wesley Matthews\"],[0.46919976971790445,217.125,\"Alonzo Gee\"],[0.41935483870967744,31.0,\"Dionte Christmas\"],[0.5208333333333334,109.71428571428571,\"Reggie Williams\"],[0.35714285714285715,14.0,\"Cedric Jackson\"],[0.423728813559322,59.0,\"Mickell Gladness\"],[0.4423076923076923,104.0,\"Sundiata Gaines\"],[0.3333333333333333,3.0,\"Shane Edwards\"],[0.41739130434782606,115.0,\"Zabian Dowdell\"],[0.3968253968253968,31.5,\"Terrel Harris\"],[0.45663426335058704,792.1,\"John Wall\"],[0.4577022534170669,541.4,\"Evan Turner\"],[0.5438915523226979,549.9090909090909,\"Derrick Favors\"],[0.4603174603174603,245.0,\"Wesley Johnson\"],[0.47711643348351906,843.4,\"DeMarcus Cousins\"],[0.4548641542506573,163.0,\"Ekpe Udoh\"],[0.5149645171243443,720.2222222222222,\"Greg Monroe\"],[0.4672430994346525,273.3636363636364,\"Al-Farouq Aminu\"],[0.4905221745350501,508.3636363636364,\"Gordon Hayward\"],[0.47323209081147416,592.6363636363636,\"Paul George\"],[0.5272727272727272,103.125,\"Cole Aldrich\"],[0.4186939820742638,156.2,\"Xavier Henry\"],[0.5669240669240669,282.54545454545456,\"Ed Davis\"],[0.5012116316639742,225.0909090909091,\"Patrick Patterson\"],[0.481294964028777,231.66666666666666,\"Larry Sanders\"],[0.4169381107491857,76.75,\"Luke Babbitt\"],[0.4906966681090437,330.14285714285717,\"Kevin Seraphin\"],[0.5055461552923481,483.54545454545456,\"Eric Bledsoe\"],[0.47099218565001183,383.90909090909093,\"Avery Bradley\"],[0.49473684210526314,133.0,\"James Anderson\"],[0.2857142857142857,17.5,\"Craig Brackins\"],[0.4894366197183099,71.0,\"Elliot Williams\"],[0.5342763873775843,344.625,\"Trevor Booker\"],[0.4326241134751773,35.25,\"Damion James\"],[0.3932038834951456,68.66666666666667,\"Dominique Jones\"],[0.47493403693931396,108.28571428571429,\"Quincy Pondexter\"],[0.45763523216850166,348.1666666666667,\"Jordan Crawford\"],[0.45630609352857815,302.42857142857144,\"Greivis Vasquez\"],[0.49019607843137253,34.0,\"Daniel Orton\"],[0.3951612903225806,41.333333333333336,\"Lazar Hayward\"],[0.4782608695652174,23.0,\"Tibor Pleiss\"],[0.44954128440366975,27.25,\"Dexter Pittman\"],[0.5829193281286965,469.6666666666667,\"Hassan Whiteside\"],[0.46511627906976744,64.5,\"Armon Johnson\"],[0.5369928400954654,209.5,\"Nemanja Bjelica\"],[0.2857142857142857,7.0,\"Darington Hobson\"],[0.6666666666666666,3.0,\"Andy Rautins\"],[0.5198156682027649,217.0,\"Landry Fields\"],[0.49396735273243436,313.1111111111111,\"Lance Stephenson\"],[0.582089552238806,33.5,\"Jarvis Varnado\"],[0.4180790960451977,59.0,\"Devin Ebanks\"],[0.5275590551181102,63.5,\"Jerome Jordan\"],[null,0.0,\"Gani Lawal\"],[0.3137254901960784,25.5,\"Solomon Alabi\"],[0.44021739130434784,92.0,\"Luke Harangody\"],[0.4,5.0,\"Pape Sy\"],[0.4,20.0,\"Willie Warren\"],[0.5830618892508144,87.71428571428571,\"Jeremy Evans\"],[0.4666666666666667,5.0,\"Hamady Ndiaye\"],[0.48484848484848486,66.0,\"Derrick Caracter\"],[0.8,5.0,\"Ryan Reid\"],[0.3974358974358974,117.0,\"Ben Uzoh\"],[0.44884910485933505,156.4,\"Donald Sloan\"],[0.543468568880963,280.375,\"Timofey Mozgov\"],[0.4482948294829483,259.7142857142857,\"Gary Neal\"],[0.47299077733860345,337.3333333333333,\"Jeremy Lin\"],[0.3333333333333333,15.0,\"Sherron Collins\"],[0.44886363636363635,176.0,\"Samardo Samuels\"],[0.45274353396180805,376.09090909090907,\"Ish Smith\"],[0.4756756756756757,111.0,\"Jeff Adrien\"],[0.45,40.0,\"Jerome Dyson\"],[0.35555555555555557,60.0,\"Elijah Millsap\"],[0.6666666666666666,3.0,\"Marcus Cousin\"],[0.39037433155080214,93.5,\"Manny Harris\"],[0.5620437956204379,45.666666666666664,\"Chris Johnson\"],[0.5,8.0,\"Justin Dentmon\"],[0.4277329420396185,151.44444444444446,\"Lance Thomas\"],[0.25,8.0,\"Jerry Smith\"],[0.38095238095238093,21.0,\"Luke Zeller\"],[0.6521739130434783,7.666666666666667,\"Arinze Onuaku\"],[0.42105263157894735,19.0,\"Courtney Fortson\"],[0.5054393305439331,717.0,\"Kyrie Irving\"],[0.48427672955974843,318.0,\"Derrick Williams\"],[0.5548892220556388,600.3,\"Enes Freedom\"],[0.5200415368639668,481.5,\"Tristan Thompson\"],[0.5768872320596459,596.1111111111111,\"Jonas Valanciunas\"],[0.5228628230616302,167.66666666666666,\"Jan Vesely\"],[0.5272448196469686,260.6,\"Bismack Biyombo\"],[0.4445407279029463,432.75,\"Brandon Knight\"],[0.4550056242969629,711.2,\"Kemba Walker\"],[0.4338138925294889,127.16666666666667,\"Jimmer Fredette\"],[0.4906001446131598,691.5,\"Klay Thompson\"],[0.44222495390288874,325.4,\"Alec Burks\"],[0.4831804281345566,490.5,\"Markieff Morris\"],[0.47382716049382717,405.0,\"Marcus Morris Sr.\"],[0.5354263166924,582.9,\"Kawhi Leonard\"],[0.5164964189268522,851.7,\"Nikola Vucevic\"],[0.4380952380952381,168.0,\"Iman Shumpert\"],[0.3995433789954338,146.0,\"Chris Singleton\"],[0.5162044250545341,641.8,\"Tobias Harris\"],[0.5285961871750433,192.33333333333334,\"Donatas Motiejunas\"],[0.4072398190045249,110.5,\"Nolan Smith\"],[0.549949545913219,495.5,\"Kenneth Faried\"],[0.5021865889212828,274.4,\"Nikola Mirotic\"],[0.4684723726977248,461.5,\"Reggie Jackson\"],[0.4777251184834123,211.0,\"MarShon Brooks\"],[0.45054945054945056,91.0,\"Jordan Hamilton\"],[0.4462809917355372,121.0,\"JaJuan Johnson\"],[0.4360655737704918,305.0,\"Norris Cole\"],[0.4800129996750081,307.7,\"Cory Joseph\"],[0.4920788878111865,618.6,\"Jimmy Butler\"],[0.5093644458090267,465.2857142857143,\"Bojan Bogdanovic\"],[0.4166666666666667,8.0,\"Justin Harper\"],[0.4575273338940286,198.16666666666666,\"Kyle Singler\"],[0.47004357298474947,229.5,\"Shelvin Mack\"],[0.3333333333333333,15.0,\"Tyler Honeycutt\"],[0.506578947368421,152.0,\"Jordan Williams\"],[0.4166666666666667,48.0,\"Trey Thompkins\"],[0.5211420310805926,307.44444444444446,\"Chandler Parsons\"],[0.4511494252873563,116.0,\"Jeremy Tyler\"],[0.5200974421437271,205.25,\"Jon Leuer\"],[0.4160839160839161,71.5,\"Darius Morris\"],[0.5209205020920502,95.6,\"Davis Bertans\"],[0.4117647058823529,34.0,\"Malcolm Lee\"],[0.44871794871794873,195.0,\"Charles Jenkins\"],[0.496551724137931,48.333333333333336,\"Josh Harrellson\"],[0.42857142857142855,37.333333333333336,\"Andrew Goudelock\"],[0.35714285714285715,14.0,\"Travis Leslie\"],[0.0,1.0,\"Keith Benson\"],[0.3835616438356164,36.5,\"Josh Selby\"],[0.4738955823293173,290.5,\"Lavoy Allen\"],[0.5428571428571428,35.0,\"Vernon Macklin\"],[0.4321608040201005,39.8,\"DeAndre Liggins\"],[0.48894436519258205,280.4,\"E'Twaun Moore\"],[0.48175519630484986,433.0,\"Isaiah Thomas\"],[0.3076923076923077,13.0,\"Edwin Ubiles\"],[0.4131455399061033,71.0,\"Dwight Buycks\"],[0.34415584415584416,77.0,\"Cory Higgins\"],[0.375,8.0,\"D.J. Kennedy\"],[0.23076923076923078,13.0,\"Mychel Thompson\"],[0.3333333333333333,3.0,\"Dennis Horner\"],[0.5569620253164557,39.5,\"Chris Wright\"],[0.3333333333333333,6.0,\"Jeff Foote\"],[0.3,5.0,\"Xavier Silas\"],[0.5806451612903226,7.75,\"Julyan Stone\"],[0.40264026402640263,101.0,\"Jeremy Pargo\"],[0.5,14.5,\"Malcolm Thomas\"],[0.4777777777777778,180.0,\"Brad Wanamaker\"],[0.6183206106870229,78.6,\"Greg Smith\"],[0.5368620037807184,176.33333333333334,\"Gustavo Ayon\"],[0.5,2.0,\"Josh Akognon\"],[0.5343131712832109,982.7777777777778,\"Anthony Davis\"],[0.48088531187122735,372.75,\"Michael Kidd-Gilchrist\"],[0.49834413246940246,771.6666666666666,\"Bradley Beal\"],[0.443768115942029,431.25,\"Dion Waiters\"],[0.47232472324723246,271.0,\"Thomas Robinson\"],[0.4877773067684047,786.3333333333334,\"Damian Lillard\"],[0.47624039133473095,318.0,\"Terrence Ross\"],[0.5439689793657388,802.3333333333334,\"Andre Drummond\"],[0.4844165716457621,584.6666666666666,\"Harrison Barnes\"],[0.46388101983002833,313.77777777777777,\"Austin Rivers\"],[0.5491731940818103,127.66666666666667,\"Meyers Leonard\"],[0.49776555517359916,323.22222222222223,\"Jeremy Lamb\"],[0.4221218961625282,110.75,\"Kendall Marshall\"],[0.5493994575745835,322.625,\"John Henson\"],[0.5479930191972077,254.66666666666666,\"Maurice Harkless\"],[0.0,1.0,\"Royce White\"],[0.5117830146731881,281.125,\"Tyler Zeller\"],[0.5389728096676737,275.8333333333333,\"Terrence Jones\"],[0.4983948635634029,249.2,\"Andrew Nicholson\"],[0.5022954361328652,411.44444444444446,\"Evan Fournier\"],[0.4757729580064605,433.4,\"Jared Sullinger\"],[0.5,6.0,\"Fab Melo\"],[0.5025906735751295,64.33333333333333,\"John Jenkins\"],[0.36936936936936937,27.75,\"Jared Cunningham\"],[0.4766990291262136,257.5,\"Tony Wroten\"],[0.5416364952932657,197.28571428571428,\"Miles Plumlee\"],[0.5465116279069767,86.0,\"Arnett Moultrie\"],[0.4662756598240469,113.66666666666667,\"Perry Jones III\"],[0.3694581280788177,67.66666666666667,\"Marquis Teague\"],[0.5130597014925373,178.66666666666666,\"Festus Ezeli\"],[0.5279456193353474,264.8,\"Tomas Satoransky\"],[0.5066666666666667,50.0,\"Bernard James\"],[0.5122897800776197,257.6666666666667,\"Jae Crowder\"],[0.508706043018095,325.44444444444446,\"Draymond Green\"],[0.3977272727272727,58.666666666666664,\"Orlando Johnson\"],[0.5056890012642224,113.0,\"Quincy Acy\"],[0.38341968911917096,64.33333333333333,\"Quincy Miller\"],[0.4945226917057903,568.0,\"Khris Middleton\"],[0.47835051546391755,377.22222222222223,\"Will Barton\"],[0.35294117647058826,76.5,\"Tyshawn Taylor\"],[0.37244897959183676,98.0,\"Doron Lamb\"],[0.5213533000554631,200.33333333333334,\"Mike Scott\"],[0.45161290322580644,62.0,\"Kim English\"],[0.5602240896358543,119.0,\"Justin Hamilton\"],[0.5,67.0,\"Darius Miller\"],[0.2608695652173913,23.0,\"Kevin Murphy\"],[0.416,62.5,\"Kostas Papanikolaou\"],[0.5385794583546244,244.625,\"Kyle O'Quinn\"],[0.18181818181818182,11.0,\"Kris Joseph\"],[0.547945205479452,73.0,\"Furkan Aldemir\"],[0.5116279069767442,21.5,\"Tornike Shengelia\"],[0.0,3.5,\"Darius Johnson-Odom\"],[0.4688995215311005,104.5,\"Robbie Hummel\"],[0.4368131868131868,182.0,\"Robert Sacre\"],[0.52,12.5,\"Ognjen Kuzmic\"],[0.44379391100702575,213.5,\"Hollis Thompson\"],[0.6721311475409836,30.5,\"Viacheslav Kravtsov\"],[0.4678787878787879,137.5,\"Mirza Teletovic\"],[0.48623853211009177,109.0,\"Chris Copeland\"],[0.5219123505976095,62.75,\"Pablo Prigioni\"],[0.4174041297935103,226.0,\"Alexey Shved\"],[0.4579263711495116,295.77777777777777,\"Kent Bazemore\"],[0.3389830508474576,29.5,\"Maalik Wayns\"],[null,0.0,\"Chris Smith\"],[0.438984438984439,244.2,\"Brian Roberts\"],[0.4789915966386555,208.25,\"Henry Sims\"],[0.40186915887850466,107.0,\"Kevin Jones\"],[0.6,5.0,\"Scott Machado\"],[0.4090909090909091,22.0,\"Ben Hansbrough\"],[0.75,4.0,\"Tony Mitchell\"],[0.5947467166979362,177.66666666666666,\"Willie Reed\"],[0.5080645161290323,62.0,\"Chris Johnson\"],[0.3842364532019704,101.5,\"Diante Garrett\"],[0.46994535519125685,183.0,\"DeQuan Jones\"],[0.4492753623188406,189.75,\"Justin Holiday\"],[0.5,2.0,\"Chris Wright\"],[0.5169727323316639,256.7142857142857,\"JaMychal Green\"],[0.3870967741935484,10.333333333333334,\"James Nunnally\"],[0.5617977528089888,29.666666666666668,\"Jorge Gutierrez\"],[0.4344262295081967,61.0,\"Toure' Murry\"],[0.3333333333333333,3.0,\"Tim Ohlbrecht\"],[0.2857142857142857,14.0,\"Glen Rice Jr.\"],[0.5185524507558406,242.55555555555554,\"Aron Baynes\"],[0.5505804311774462,344.57142857142856,\"Nerlens Noel\"],[0.5247524752475248,353.5,\"Alex Len\"],[0.4713622291021672,184.57142857142858,\"Allen Crabbe\"],[0.6002604166666666,109.71428571428571,\"Andre Roberson\"],[0.4274353876739563,125.75,\"Anthony Bennett\"],[0.4842105263157895,166.25,\"Archie Goodwin\"],[0.4755125284738041,219.5,\"Ben McLemore\"],[0.547945205479452,73.0,\"Brandon Paul\"],[0.5555555555555556,9.0,\"Carrick Felix\"],[0.4859778597785978,677.5,\"CJ McCollum\"],[0.5329787234042553,352.5,\"Cody Zeller\"],[0.4739720478023091,617.125,\"Dennis Schroder\"],[0.5805609915198956,191.625,\"Dewayne Dedmon\"],[0.4444444444444444,4.5,\"DJ Stephens\"],[0.4146341463414634,61.5,\"Erick Green\"],[0.5213137665967854,357.75,\"Gorgui Dieng\"],[0.40387722132471726,103.16666666666667,\"Isaiah Canaan\"],[0.39285714285714285,14.0,\"Jamaal Franklin\"],[0.2222222222222222,9.0,\"James Southerland\"],[0.5369565217391304,92.0,\"Jeff Withey\"],[0.5614737685222266,312.125,\"Kelly Olynyk\"],[0.47687296416938113,383.75,\"Kentavious Caldwell-Pope\"],[0.4525862068965517,46.4,\"Lorenzo Brown\"],[0.5849896173242362,421.375,\"Mason Plumlee\"],[0.4362304362304362,375.375,\"Michael Carter-Williams\"],[0.5490196078431373,114.75,\"Mike Muscala\"],[0.4516971279373368,127.66666666666667,\"Nate Wolters\"],[0.5253190613421161,303.625,\"Otto Porter Jr.\"],[0.34375,32.0,\"Peyton Siva\"],[0.4303977272727273,234.66666666666666,\"Ray McCallum\"],[0.49671772428884026,114.25,\"Reggie Bullock\"],[0.32051282051282054,39.0,\"Ricky Ledo\"],[0.4869203329369798,210.25,\"Robert Covington\"],[0.6464807436918991,470.625,\"Rudy Gobert\"],[0.5099875156054932,320.4,\"Shabazz Muhammad\"],[0.4543524416135881,235.5,\"Shane Larkin\"],[0.5923212932558727,494.875,\"Steven Adams\"],[0.4933862433862434,378.0,\"Tim Hardaway Jr.\"],[0.36363636363636365,11.0,\"Tony Mitchell\"],[0.4834162520729685,150.75,\"Tony Snell\"],[0.44871794871794873,341.25,\"Trey Burke\"],[0.38461538461538464,8.666666666666666,\"Vander Blue\"],[0.47956284153005463,571.875,\"Victor Oladipo\"],[0.5767240173450833,893.625,\"Giannis Antetokounmpo\"],[0.48872180451127817,44.333333333333336,\"Sergey Karasev\"],[0.35714285714285715,28.0,\"Pierre Jackson\"],[0.5454545454545454,11.0,\"Grant Jerrett\"],[0.6811023622047244,63.5,\"Lucas Nogueira\"],[0.3,10.0,\"Erik Murphy\"],[0.3924050632911392,105.33333333333333,\"Phil Pressey\"],[0.5344352617079889,155.57142857142858,\"James Ennis III\"],[0.23809523809523808,21.0,\"Nemanja Nedovic\"],[0.44329896907216493,64.66666666666667,\"Alex Abrines\"],[0.5555555555555556,9.0,\"Adonis Thomas\"],[0.40664961636828645,146.625,\"Matthew Dellavedova\"],[0.44651162790697674,134.375,\"Solomon Hill\"],[0.4936034115138593,156.33333333333334,\"Raul Neto\"],[0.4157303370786517,133.5,\"Ryan Kelly\"],[0.520048602673147,205.75,\"Joffrey Lauvergne\"],[0.3373493975903614,41.5,\"Gal Mekel\"],[0.48598130841121495,53.5,\"Gigi Datome\"],[0.5,123.0,\"Pero Antic\"],[0.5298507462686567,67.0,\"Miroslav Raduljica\"],[0.513978494623656,155.0,\"Ian Clark\"],[0.0,1.0,\"Elias Harris\"],[0.5036378334680679,176.71428571428572,\"Seth Curry\"],[0.4479638009049774,110.5,\"Brandon Davies\"],[0.0,0.5,\"Kalin Lucas\"],[0.375,8.0,\"Patrick Christopher\"],[0.6666666666666666,3.0,\"Chris Babb\"],[0.425531914893617,23.5,\"Larry Drew II\"],[0.41568627450980394,72.85714285714286,\"Troy Daniels\"],[0.4892638036809816,130.4,\"Rodney McGruder\"],[null,0.0,\"Trey McKinney-Jones\"],[0.486712224753227,329.25,\"Jonathon Simmons\"],[0.5838926174496645,49.666666666666664,\"Thanasis Antetokounmpo\"],[0.532258064516129,31.0,\"Norvel Pelle\"],[null,0.0,\"Reggie Hearn\"],[0.3142857142857143,17.5,\"Josh Magette\"],[0.5579710144927537,69.0,\"C.J. Williams\"],[0.4139194139194139,136.5,\"PJ Hairston\"],[0.3,10.0,\"Will Cherry\"],[0.5238095238095238,21.0,\"Casper Ware\"],[0.0,1.5,\"Scotty Hopson\"],[0.3870967741935484,15.5,\"Russ Smith\"],[0.44777562862669246,172.33333333333334,\"Shabazz Napier\"],[0.44693877551020406,122.5,\"Jordan McRae\"],[0.49823232323232325,565.7142857142857,\"Zach LaVine\"],[0.45765765765765765,138.75,\"Tyler Ennis\"],[0.4269340974212034,116.33333333333333,\"Markel Brown\"],[0.4764751754613985,549.5714285714286,\"Elfrid Payton\"],[0.40625,160.0,\"Semaj Christon\"],[0.5029280862028578,609.8571428571429,\"Jordan Clarkson\"],[0.3770491803278688,30.5,\"Devyn Marble\"],[0.4792626728110599,144.66666666666666,\"KJ McDaniels\"],[0.3888888888888889,54.0,\"Nick Johnson\"],[0.3974358974358974,26.0,\"C.J. Wilcox\"],[0.4351851851851852,108.0,\"Jabari Brown\"],[0.512154233025985,340.85714285714283,\"Gary Harris\"],[0.4793702497285559,263.14285714285717,\"Spencer Dinwiddie\"],[0.43617021276595747,169.2,\"Nik Stauskas\"],[0.4631915866483768,312.42857142857144,\"Rodney Hood\"],[0.4090909090909091,33.0,\"Jordan Adams\"],[0.546916890080429,186.5,\"Khem Birch\"],[0.4,77.5,\"Cleanthony Early\"],[0.501010101010101,141.42857142857142,\"Glenn Robinson III\"],[0.5342465753424658,18.25,\"James Young\"],[0.5128581925055107,388.85714285714283,\"Jerami Grant\"],[0.5453915453915454,206.14285714285714,\"Joe Harris\"],[0.5351063829787234,268.57142857142856,\"Doug McDermott\"],[0.47398843930635837,86.5,\"Cory Jefferson\"],[0.4743243243243243,185.0,\"Sean Kilpatrick\"],[0.5110091743119266,467.14285714285717,\"Aaron Gordon\"],[0.5364389825664475,499.85714285714283,\"T.J. Warren\"],[0.45,20.0,\"Lamar Patterson\"],[0.4382845188284519,273.14285714285717,\"Marcus Smart\"],[0.5262563523433089,253.0,\"Kyle Anderson\"],[0.6291739894551845,243.85714285714286,\"Dwight Powell\"],[0.4297297297297297,92.5,\"Adreian Payne\"],[0.5009140767824497,156.28571428571428,\"Noah Vonleh\"],[0.5124698310539019,710.2857142857143,\"Julius Randle\"],[0.25,4.0,\"Alex Kirk\"],[0.30612244897959184,24.5,\"Cameron Bairstow\"],[0.40625,120.0,\"Johnny O'Bryant III\"],[0.5446808510638298,58.75,\"James Michael McAdoo\"],[0.5813953488372093,14.333333333333334,\"Jarnell Stokes\"],[0.4,5.0,\"Keith Appling\"],[0.4774912253929498,936.1428571428571,\"Andrew Wiggins\"],[0.5316586373021335,415.14285714285717,\"Jabari Parker\"],[0.527418891759977,696.6,\"Joel Embiid\"],[0.4642857142857143,28.0,\"Bryce Cotton\"],[0.5439560439560439,91.0,\"Mitch McGary\"],[0.4851063829787234,117.5,\"Dante Exum\"],[null,0.0,\"Andre Dawkins\"],[0.5395408163265306,130.66666666666666,\"JaKarr Sampson\"],[0.5333333333333333,33.75,\"Eric Moreland\"],[0.4,26.666666666666668,\"Josh Huestis\"],[0.5111111111111111,22.5,\"Shayne Whittington\"],[0.6111111111111112,18.0,\"Jamil Wilson\"],[0.5025510204081632,392.0,\"Dario Saric\"],[null,0.0,\"Jerrelle Benimon\"],[0.6265094882116159,496.85714285714283,\"Clint Capela\"],[0.4936284372904091,372.75,\"Bogdan Bogdanovic\"],[0.5009101941747572,470.85714285714283,\"Jusuf Nurkic\"],[0.4166666666666667,24.0,\"Damien Inglis\"],[0.4975124378109453,28.714285714285715,\"Bruno Caboclo\"],[0.5827217446005452,794.8333333333334,\"Nikola Jokic\"],[0.4803687265278252,585.8,\"Kristaps Porzingis\"],[0.625,12.0,\"Edy Tavares\"],[0.5348837209302325,43.0,\"Damjan Rudez\"],[0.4747058823529412,242.85714285714286,\"Tyler Johnson\"],[0.5,2.0,\"Sim Bhullar\"],[0.4489795918367347,24.5,\"Jack Cooley\"],[0.44079718640093785,121.85714285714286,\"Tim Frazier\"],[0.5573979591836735,196.0,\"Tarik Black\"],[0.0,1.0,\"David Wear\"],[0.39705882352941174,102.0,\"Travis Wear\"],[0.42977893368010406,219.71428571428572,\"Langston Galloway\"],[0.5,16.0,\"Zoran Dragic\"],[0.5224887556221889,190.57142857142858,\"Joe Ingles\"],[0.25,2.0,\"David Stockton\"],[0.2608695652173913,11.5,\"John Holland\"],[0.3333333333333333,7.0,\"Jarell Eddie\"],[0.5,16.0,\"Drew Gordon\"],[0.41379310344827586,29.0,\"Xavier Munford\"],[0.5555555555555556,9.0,\"Omari Johnson\"],[0.0,1.0,\"Greg Whittington\"],[0.5270382695507487,400.6666666666667,\"T.J. McConnell\"],[0.5460030165912518,331.5,\"Jahlil Okafor\"],[0.43117593436645396,438.8,\"Emmanuel Mudiay\"],[0.47553516819571867,218.0,\"Tyus Jones\"],[0.5,10.0,\"Cliff Alexander\"],[0.5219047619047619,105.0,\"Justin Anderson\"],[0.379746835443038,26.333333333333332,\"Anthony Brown\"],[0.6255424674519529,537.6666666666666,\"Montrezl Harrell\"],[0.42196531791907516,173.0,\"Andrew Harrison\"],[0.32432432432432434,12.333333333333334,\"Aaron Harrison\"],[0.5,242.0,\"Delon Wright\"],[0.5227272727272727,11.0,\"RJ Hunter\"],[0.5700787401574803,158.75,\"Sam Dekker\"],[0.4687298517085751,517.0,\"D'Angelo Russell\"],[0.5694084843656642,836.8333333333334,\"Karl-Anthony Towns\"],[0.625751503006012,332.6666666666667,\"Richaun Holmes\"],[0.44349939246658565,274.3333333333333,\"Justise Winslow\"],[0.5491391678622669,464.6666666666667,\"Willie Cauley-Stein\"],[0.5063904803878361,378.1666666666667,\"Kelly Oubre Jr.\"],[0.48002316155182395,287.8333333333333,\"Frank Kaminsky\"],[0.5022375915378356,819.3333333333334,\"Devin Booker\"],[0.4645962732919255,134.16666666666666,\"Cameron Payne\"],[0.5305277681959296,483.1666666666667,\"Myles Turner\"],[0.4989247311827957,232.5,\"Trey Lyles\"],[0.43245341614906835,214.66666666666666,\"Stanley Johnson\"],[0.4640088593576966,180.6,\"Jerian Grant\"],[0.4994073488739629,421.8333333333333,\"Bobby Portis\"],[0.5910652920962199,145.5,\"Kevon Looney\"],[0.36619718309859156,71.0,\"Rashad Vaughn\"],[0.5960125918153201,190.6,\"Christian Wood\"],[0.49586776859504134,40.333333333333336,\"Jordan Mickey\"],[0.4666666666666667,22.5,\"Rakeem Christmas\"],[0.5641025641025641,39.0,\"Dakari Johnson\"],[0.4729064039408867,338.3333333333333,\"Rondae Hollis-Jefferson\"],[0.44030202925908446,353.1666666666667,\"Terry Rozier\"],[0.5285215366705471,286.3333333333333,\"Norman Powell\"],[0.4,5.0,\"Branden Dawson\"],[0.44656488549618323,65.5,\"Chasson Randle\"],[0.4569343065693431,171.25,\"Jarell Martin\"],[0.5,119.6,\"Quinn Cook\"],[0.4701492537313433,44.666666666666664,\"Chris McCullough\"],[0.5641421947449768,107.83333333333333,\"Pat Connaughton\"],[0.5555555555555556,246.6,\"Willy Hernangomez\"],[0.4757155247181266,384.3333333333333,\"Josh Richardson\"],[0.41954022988505746,58.0,\"Darrun Hilliard\"],[0.4383561643835616,97.33333333333333,\"Joe Young\"],[0.437125748502994,83.5,\"Treveon Graham\"],[0.5752599890530925,304.5,\"Larry Nance Jr.\"],[0.6,5.0,\"Vincent Hunter\"],[0.4843492586490939,242.8,\"Mario Hezonja\"],[0.509375,80.0,\"Alan Williams\"],[0.43243243243243246,37.0,\"Bryce Dejean-Jones\"],[0.5385964912280702,142.5,\"Royce O'Neale\"],[0.4924039320822163,279.75,\"Cedi Osman\"],[0.36363636363636365,5.5,\"Luis Montero\"],[0.5824324324324325,123.33333333333333,\"Cristiano Felicio\"],[0.5830039525691699,168.66666666666666,\"Boban Marjanovic\"],[0.0,5.0,\"Duje Dukan\"],[0.4318181818181818,14.666666666666666,\"Axel Toupane\"],[0.4810126582278481,79.0,\"Maurice Ndour\"],[0.6335697399527187,105.75,\"Salah Mejri\"],[0.5263157894736842,6.333333333333333,\"Malcolm Miller\"],[0.0,2.0,\"Coty Clarke\"],[0.0,1.0,\"JJ O'Brien\"],[0.46788990825688076,109.0,\"Marcelo Huertas\"],[null,0.0,\"Jordan Sibert\"],[1.0,1.0,\"Jacob Pullen\"],[0.45901639344262296,30.5,\"Jonathan Gibson\"],[0.4145785876993166,219.5,\"Malcolm Delaney\"],[0.4329896907216495,48.5,\"Walt Lemon Jr.\"],[0.3333333333333333,27.0,\"Alex Stepheson\"],[0.45689655172413796,38.666666666666664,\"Briante Weber\"],[0.4583333333333333,24.0,\"Julian Washburn\"],[0.5640456563094484,788.5,\"Ben Simmons\"],[0.5177111716621253,91.75,\"Dragan Bender\"],[0.5536167512690355,630.4,\"Domantas Sabonis\"],[0.38345864661654133,44.333333333333336,\"Wade Baldwin IV\"],[0.505940594059406,202.0,\"Malik Beasley\"],[0.5310880829015544,231.6,\"Marquese Chriss\"],[0.6006006006006006,111.0,\"Deyonta Davis\"],[0.45358649789029537,284.4,\"Kris Dunn\"],[0.4,36.0,\"Henry Ellenson\"],[0.46979298690325305,473.4,\"Buddy Hield\"],[0.4944237918215613,645.6,\"Brandon Ingram\"],[0.6086956521739131,7.666666666666667,\"Demetrius Jackson\"],[0.4583333333333333,24.0,\"Brice Johnson\"],[0.6860158311345647,75.8,\"Damian Jones\"],[0.5069885641677255,196.75,\"Skal Labissiere\"],[0.485837734037446,416.6,\"Caris LeVert\"],[0.5094991364421416,115.8,\"Thon Maker\"],[0.4738445911630269,492.25,\"Dejounte Murray\"],[0.4969826056088037,563.4,\"Jamal Murray\"],[0.6318273769386379,296.6,\"Jakob Poeltl\"],[0.4520547945205479,292.0,\"Taurean Prince\"],[0.35714285714285715,7.0,\"Zhou Qi\"],[0.23076923076923078,13.0,\"Diamond Stone\"],[0.43905635648754915,254.33333333333334,\"Tyler Ulis\"],[0.44397163120567373,176.25,\"Denzel Valentine\"],[0.3225806451612903,31.0,\"Stephen Zimmerman\"],[0.4329268292682927,54.666666666666664,\"Ron Baker\"],[0.5270588235294118,510.0,\"Jaylen Brown\"],[0.5265901981230449,191.8,\"DeAndre' Bembry\"],[0.6470588235294118,8.5,\"Joel Bolomboy\"],[0.5058139534883721,481.6,\"Malcolm Brogdon\"],[0.601823708206687,164.5,\"Cheick Diallo\"],[0.3850267379679144,93.5,\"Kay Felder\"],[0.16666666666666666,6.0,\"Michael Gbinije\"],[0.4186046511627907,21.5,\"Daniel Hamilton\"],[0.375,32.0,\"AJ Hammons\"],[0.5854126679462572,104.2,\"Jake Layman\"],[0.5076142131979695,78.8,\"Patrick McCaw\"],[0.501577287066246,63.4,\"Georges Niang\"],[0.5833333333333334,6.0,\"Chinanu Onuaku\"],[0.3333333333333333,6.0,\"Marcus Paige\"],[0.5306122448979592,29.4,\"Gary Payton II\"],[0.4148936170212766,31.333333333333332,\"Malachi Richardson\"],[0.46502057613168724,162.0,\"Wayne Selden\"],[0.5452891960712987,549.8,\"Pascal Siakam\"],[0.4473684210526316,19.0,\"Jarrod Uthoff\"],[0.4519906323185012,213.5,\"Isaiah Whitehead\"],[0.5434782608695652,76.66666666666667,\"Troy Williams\"],[0.0,1.0,\"Kyle Wiltjer\"],[0.46835443037974683,118.5,\"Furkan Korkmaz\"],[0.46781789638932497,127.4,\"Timothe Luwawu-Cabarrot\"],[0.5808510638297872,156.66666666666666,\"Ante Zizic\"],[0.0,2.0,\"Ben Bentil\"],[0.4666666666666667,186.0,\"Yogi Ferrell\"],[0.5069582504970179,125.75,\"Damion Lee\"],[0.5111111111111111,45.0,\"Sheldon Mac\"],[0.5277777777777778,36.0,\"Alex Poythress\"],[0.5294117647058824,8.5,\"Tim Quarterman\"],[0.45714285714285713,157.5,\"Isaiah Taylor\"],[0.4631336405529954,144.66666666666666,\"Tyrone Wallace\"],[0.4,5.0,\"James Webb III\"],[0.527027027027027,103.6,\"Juancho Hernangomez\"],[0.547945205479452,36.5,\"Guerschon Yabusele\"],[0.5908488063660478,301.6,\"Ivica Zubac\"],[0.5545134818288394,170.6,\"Dorian Finney-Smith\"],[0.4258373205741627,292.6,\"Fred VanVleet\"],[0.5211267605633803,71.0,\"Georgios Papagiannis\"],[0.4024390243902439,123.0,\"Paul Zipser\"],[0.4914004914004914,101.75,\"Abdel Nader\"],[0.6,90.0,\"Shawn Long\"],[0.4444444444444444,27.0,\"Daniel Ochefu\"],[0.5151515151515151,16.5,\"Marshall Plumlee\"],[0.5123152709359606,101.5,\"Mindaugas Kuzminskas\"],[0.5,23.0,\"Nicolas Brussino\"],[0.5072886297376094,85.75,\"Ryan Arcidiacono\"],[0.47548566142460685,216.2,\"Bryn Forbes\"],[0.41379310344827586,19.333333333333332,\"Okaro White\"],[0.5,4.0,\"Matt Costello\"],[0.4146341463414634,82.0,\"Kyle Collinsworth\"],[0.25,4.0,\"Mike Tobey\"],[0.5438202247191011,89.0,\"Danuel House Jr.\"],[0.5833333333333334,12.0,\"Jameel Warney\"],[0.0,2.0,\"Patricio Garino\"],[0.47368421052631576,19.0,\"Marcus Georges-Hunt\"],[0.5,20.0,\"Nicolas Laprovittola\"],[0.42105263157894735,38.0,\"Jalen Jones\"],[0.6107470511140236,152.6,\"Derrick Jones Jr.\"],[0.4790322580645161,155.0,\"Shaquille Harrison\"],[0.4635514018691589,133.75,\"Alex Caruso\"],[0.3,15.0,\"Josh Gray\"],[0.43137254901960786,51.0,\"Myke Henry\"],[0.5360576923076923,166.4,\"David Nwaba\"],[0.5820433436532507,80.75,\"Alfonzo McKinnie\"],[0.4,10.0,\"Jordan Loyd\"],[0.5714285714285714,14.0,\"Mitchell Creek\"],[0.4774590163934426,244.0,\"Markelle Fultz\"],[0.45454545454545453,258.5,\"Lonzo Ball\"],[0.4668094218415418,467.0,\"Josh Jackson\"],[0.49863667348329926,733.5,\"De'Aaron Fox\"],[0.48933975240715266,727.0,\"Jayson Tatum\"],[0.4730473047304731,227.25,\"Malik Monk\"],[0.4970674486803519,227.33333333333334,\"Jonathan Isaac\"],[0.44055433989788473,342.75,\"Dennis Smith Jr.\"],[0.3894165535956581,184.25,\"Frank Ntilikina\"],[0.5087842586085735,355.75,\"Lauri Markkanen\"],[0.48464780252859724,830.5,\"Donovan Mitchell\"],[0.4850574712643678,217.5,\"Luke Kennard\"],[0.503968253968254,168.0,\"Zach Collins\"],[0.614963503649635,548.0,\"John Collins\"],[0.5264550264550265,189.0,\"Justin Jackson\"],[0.5306122448979592,12.25,\"Justin Patton\"],[0.5786694825765576,236.75,\"OG Anunoby\"],[0.5233082706766917,221.66666666666666,\"Harry Giles III\"],[0.6305418719211823,456.75,\"Jarrett Allen\"],[0.3333333333333333,6.0,\"Ike Anigbogu\"],[0.5661888701517707,593.0,\"Bam Adebayo\"],[0.569672131147541,61.0,\"Terrance Ferguson\"],[0.49818181818181817,68.75,\"D.J. Wilson\"],[0.5877862595419847,87.33333333333333,\"Isaiah Hartenstein\"],[0.36666666666666664,105.0,\"Jawun Evans\"],[0.5398230088495575,56.5,\"Anzejs Pasecniks\"],[0.5672645739910314,111.5,\"Jordan Bell\"],[0.6527093596059114,101.5,\"Tony Bradley\"],[0.5702005730659025,174.5,\"Ivan Rabb\"],[0.5286343612334802,510.75,\"Kyle Kuzma\"],[0.625,4.0,\"Tyler Lydon\"],[0.4810606060606061,66.0,\"Semi Ojeleye\"],[0.5129265770423992,241.75,\"Derrick White\"],[0.49506578947368424,202.66666666666666,\"Frank Jackson\"],[0.4755244755244755,47.666666666666664,\"Caleb Swanigan\"],[0.5552367288378766,174.25,\"Josh Hart\"],[0.5751633986928104,51.0,\"Johnathan Motley\"],[0.4374384236453202,253.75,\"Dwayne Bacon\"],[0.625,16.0,\"Alec Peters\"],[0.5482866043613707,80.25,\"Edmond Sumner\"],[0.459412780656304,144.75,\"Wes Iwundu\"],[0.4330357142857143,112.0,\"Frank Mason III\"],[0.684931506849315,36.5,\"Jonah Bolden\"],[0.4364406779661017,59.0,\"Sindarius Thornwell\"],[0.45750262329485836,476.5,\"Dillon Brooks\"],[0.42857142857142855,157.5,\"Tyler Dorsey\"],[0.5522388059701493,67.0,\"Jaron Blossomgame\"],[0.6646115906288532,202.75,\"Thomas Bryant\"],[0.75,20.0,\"Cameron Oliver\"],[0.5199645075421473,281.75,\"Monte Morris\"],[0.6060606060606061,16.5,\"Devin Robinson\"],[0.49014084507042255,177.5,\"Damyean Dotson\"],[0.46,75.0,\"Kobi Simmons\"],[0.48554913294797686,129.75,\"Sterling Brown\"],[0.6041666666666666,24.0,\"Vlatko Cancar\"],[0.16666666666666666,6.0,\"Charles Cooke\"],[0.3333333333333333,9.0,\"Nigel Williams-Goss\"],[0.30434782608695654,23.0,\"Davon Reed\"],[0.5369649805447471,64.25,\"Luke Kornet\"],[0.49295774647887325,35.5,\"Isaiah Hicks\"],[0.4722222222222222,48.0,\"Kadeem Allen\"],[0.631578947368421,19.0,\"Jabari Bird\"],[0.5926605504587156,136.25,\"Chris Boucher\"],[0.6666666666666666,3.0,\"Eric Mika\"],[0.0,2.0,\"Jacob Wiley\"],[0.4225352112676056,142.0,\"Mike James\"],[0.49645390070921985,70.5,\"Milos Teodosic\"],[0.5441176470588235,34.0,\"Tyler Cavanaugh\"],[0.6286836935166994,254.5,\"Daniel Theis\"],[0.586490939044481,151.75,\"Maxi Kleber\"],[0.42424242424242425,198.0,\"Antonio Blakeney\"],[0.5801980198019802,126.25,\"Torrey Craig\"],[1.0,1.0,\"Matt Williams Jr.\"],[0.391304347826087,11.5,\"Derrick Walton Jr.\"],[0.0,3.0,\"Gian Clavell\"],[0.5714285714285714,7.0,\"Mangok Mathiang\"],[0.375,24.0,\"Milton Doyle\"],[0.32142857142857145,14.0,\"Antonius Cleveland\"],[null,0.0,\"Ben Moore\"],[0.4117647058823529,17.0,\"Nigel Hayes\"],[0.46,50.0,\"Jamel Artis\"],[0.39285714285714285,28.0,\"Xavier Rathan-Mayes\"],[0.4,5.0,\"Troy Caupain\"],[0.2,10.0,\"London Perrantes\"],[0.2916666666666667,24.0,\"Andrew White III\"],[0.5714285714285714,4.666666666666667,\"Naz Mitrou-Long\"],[0.4230769230769231,104.0,\"Isaiah Briscoe\"],[0.5,15.0,\"Amile Jefferson\"],[0.4827586206896552,14.5,\"Jaylen Morris\"],[0.6666666666666666,33.0,\"Mychal Mulder\"],[0.0,1.0,\"Erik McCree\"],[0.625,8.0,\"Amida Brimah\"],[0.38461538461538464,6.5,\"Dusty Hannahs\"],[0.5789473684210527,19.0,\"Billy Garrett\"],[0.4,55.0,\"Rodney Purvis\"],[1.0,2.0,\"Tahjere McCall\"],[0.4375,16.0,\"Paul Watson\"],[0.4,5.0,\"Aaron Jackson\"],[0.37037037037037035,27.0,\"Rawle Alkins\"],[0.48936170212765956,109.66666666666667,\"Grayson Allen\"],[0.375,5.333333333333333,\"Kostas Antetokounmpo\"],[0.4444444444444444,9.0,\"Udoka Azubuike\"],[0.5364995602462621,379.0,\"Marvin Bagley III\"],[0.5514018691588785,178.33333333333334,\"Mo Bamba\"],[0.5092250922509225,90.33333333333333,\"Keita Bates-Diop\"],[0.36363636363636365,5.5,\"Brian Bowen II\"],[0.6073825503355704,298.0,\"Mikal Bridges\"],[0.5374087591240876,365.3333333333333,\"Miles Bridges\"],[0.5170940170940171,312.0,\"Bruce Brown\"],[0.47947214076246336,227.33333333333334,\"Troy Brown Jr.\"],[0.5430954587581094,359.6666666666667,\"Jalen Brunson\"],[0.39285714285714285,84.0,\"Jevon Carter\"],[0.534466477809254,353.0,\"Wendell Carter Jr.\"],[0.4986979166666667,256.0,\"Hamidou Diallo\"],[0.5329768270944741,187.0,\"Donte DiVincenzo\"],[0.5,2.0,\"Trevon Duval\"],[0.3458646616541353,66.5,\"Jacob Evans\"],[0.5686274509803921,102.0,\"Bruno Fernando\"],[0.42424242424242425,16.5,\"Melvin Frazier Jr.\"],[0.5167050691244239,578.6666666666666,\"Shai Gilgeous-Alexander\"],[0.3954887218045113,221.66666666666666,\"Devonte' Graham\"],[0.15384615384615385,13.0,\"Devon Hall\"],[0.5714285714285714,7.0,\"Kevin Hervey\"],[0.42544459644322846,243.66666666666666,\"Aaron Holiday\"],[0.4756756756756757,308.3333333333333,\"Kevin Huerter\"],[0.48010610079575594,125.66666666666667,\"Chandler Hutchison\"],[0.5473801560758083,299.0,\"Jaren Jackson Jr.\"],[0.5257731958762887,32.333333333333336,\"Alize Johnson\"],[null,0.0,\"George King\"],[0.3883374689826303,268.6666666666667,\"Kevin Knox II\"],[0.4606741573033708,89.0,\"Caleb Martin\"],[0.5307692307692308,130.0,\"Cody Martin\"],[0.3333333333333333,3.0,\"Yante Maten\"],[0.4586092715231788,201.33333333333334,\"De'Anthony Melton\"],[0.5084033613445378,79.33333333333333,\"Chimezie Metu\"],[0.5007704160246533,216.33333333333334,\"Shake Milton\"],[0.47107438016528924,121.0,\"Svi Mykhailiuk\"],[0.0,1.0,\"Malik Newman\"],[0.49487554904831627,227.66666666666666,\"Josh Okogie\"],[0.7142857142857143,7.0,\"Jontay Porter\"],[0.6050670640834576,335.5,\"Michael Porter Jr.\"],[0.4144486692015209,87.66666666666667,\"Jerome Robinson\"],[0.7054455445544554,269.3333333333333,\"Mitchell Robinson\"],[0.48140975987606505,860.6666666666666,\"Collin Sexton\"],[0.46701846965699206,126.33333333333333,\"Landry Shamet\"],[0.4427645788336933,154.33333333333334,\"Anfernee Simons\"],[0.4230769230769231,13.0,\"Zhaire Smith\"],[0.4584717607973422,150.5,\"Omari Spellman\"],[0.4605263157894737,25.333333333333332,\"Khyri Thomas\"],[0.44802867383512546,186.0,\"Gary Trent Jr.\"],[0.48291571753986334,219.5,\"Allonzo Trier\"],[0.609375,85.33333333333333,\"Jarred Vanderbilt\"],[0.5789473684210527,139.33333333333334,\"Moritz Wagner\"],[0.4512987012987013,205.33333333333334,\"Lonnie Walker IV\"],[0.49271523178807947,377.5,\"P.J. Washington\"],[0.5310492505353319,155.66666666666666,\"Kenrich Williams\"],[0.4889400921658986,723.3333333333334,\"Trae Young\"],[0.5948275862068966,696.0,\"Deandre Ayton\"],[0.5495660118775697,729.6666666666666,\"Luka Doncic\"],[0.42718446601941745,34.333333333333336,\"Theo Pinson\"],[0.574468085106383,23.5,\"Ray Spalding\"],[0.47,50.0,\"Carsen Edwards\"],[0.6666666666666666,3.0,\"Shamorie Ponds\"],[0.4444444444444444,18.0,\"Bonzie Colson\"],[0.5605381165919282,111.5,\"Goga Bitadze\"],[0.5319148936170213,47.0,\"Oshae Brissett\"],[null,0.0,\"Vincent Edwards\"],[null,0.0,\"Donte Grantham\"],[0.5274151436031331,191.5,\"Terence Davis\"],[0.7240506329113924,131.66666666666666,\"Robert Williams III\"],[0.5,53.0,\"Dzanan Musa\"],[0.4552238805970149,134.0,\"Elie Okobo\"],[0.5098039215686274,484.5,\"Rui Hachimura\"],[0.38461538461538464,13.0,\"Deng Adel\"],[0.4719626168224299,214.0,\"Ky Bowman\"],[0.5371900826446281,121.0,\"Rodions Kurucs\"],[0.5180180180180181,74.0,\"Isaac Bonga\"],[0.672566371681416,56.5,\"Tyler Cook\"],[0.625,8.0,\"Elijah Bryant\"],[0.0,1.0,\"Tyler Davis\"],[0.46153846153846156,13.0,\"Marcus Derrickson\"],[0.5483870967741935,31.0,\"Brandon Sampson\"],[0.5153374233128835,81.5,\"Kelan Martin\"],[0.559322033898305,19.666666666666668,\"Gary Clark\"],[0.2,5.0,\"Angel Delgado\"],[0.4642857142857143,28.0,\"Wenyen Gabriel\"],[0.6666666666666666,6.0,\"Thomas Welsh\"],[0.3333333333333333,21.0,\"Jaylen Adams\"],[0.6,2.5,\"J.P. Macura\"],[0.36363636363636365,22.0,\"Jared Terrell\"],[0.4566929133858268,63.5,\"Deonte Burton\"],[0.6428571428571429,65.33333333333333,\"Duncan Robinson\"],[0.29411764705882354,8.5,\"Daryl Macon\"],[0.5354239256678281,430.5,\"Kendrick Nunn\"],[0.4503311258278146,50.333333333333336,\"Yuta Watanabe\"],[0.6,70.0,\"Johnathan Williams\"],[0.16666666666666666,3.0,\"Joe Chealey\"],[0.5714285714285714,7.0,\"Emanuel Terry\"],[0.5121951219512195,20.5,\"Ryan Broekhoff\"],[0.5,6.0,\"DeVaughn Akoon-Purcell\"],[null,0.0,\"Zach Lofton\"],[0.49603174603174605,126.0,\"Jordan McLaughlin\"],[0.44166666666666665,80.0,\"Brandon Goodwin\"],[0.35294117647058826,17.0,\"BJ Johnson\"],[0.39316239316239315,39.0,\"Chris Chiozza\"],[0.43478260869565216,23.0,\"Jemerrio Jones\"],[0.46808510638297873,47.0,\"Gabe Vincent\"],[0.5796610169491525,98.33333333333333,\"Drew Eubanks\"],[0.45454545454545453,16.5,\"Cameron Reynolds\"],[0.6687898089171974,78.5,\"Juan Toscano-Anderson\"],[0.6,5.0,\"Haywood Highsmith\"],[0.5454545454545454,22.0,\"Alen Smailagic\"],[0.3,10.0,\"Isaac Humphries\"],[0.15384615384615385,13.0,\"Dairis Bertans\"],[0.75,8.0,\"Zylan Cheatham\"],[0.5714285714285714,35.0,\"Chris Clemons\"],[0.47560975609756095,41.0,\"Amir Coffey\"],[0.46875,32.0,\"Mamadi Diakite\"],[0.5625,32.0,\"CJ Elleby\"],[0.7441860465116279,21.5,\"Tacko Fall\"],[0.6153846153846154,13.0,\"Robert Franks\"],[0.2,2.5,\"Jared Harper\"],[0.3333333333333333,12.0,\"Dewan Hernandez\"],[0.6,37.5,\"DaQuan Jeffries\"],[0.5345911949685535,159.0,\"Terance Mann\"],[0.49122807017543857,57.0,\"Reggie Perry\"],[0.35714285714285715,7.0,\"Justin Robinson\"],[0.16666666666666666,6.0,\"Marial Shayok\"],[0.9024390243902439,20.5,\"Max Strus\"],[0.5,10.0,\"Justin Wright-Foreman\"],[0.49056603773584906,26.5,\"Bol Bol\"],[0.6137879911045219,674.5,\"Zion Williamson\"],[0.4465261514441842,640.5,\"RJ Barrett\"],[0.4376417233560091,220.5,\"Cam Reddish\"],[0.5047489823609227,737.0,\"Ja Morant\"],[0.4906015037593985,266.0,\"De'Andre Hunter\"],[0.4525462962962963,432.0,\"Coby White\"],[0.47516198704103674,231.5,\"Jarrett Culver\"],[0.6110444177671068,416.5,\"Brandon Clarke\"],[0.47540983606557374,152.5,\"Sekou Doumbouya\"],[0.46006389776357826,469.5,\"Darius Garland\"],[0.6564299424184261,260.5,\"Jaxson Hayes\"],[0.45161290322580644,186.0,\"Nickeil Alexander-Walker\"],[0.4816326530612245,367.5,\"Tyler Herro\"],[0.5380710659898477,295.5,\"Keldon Johnson\"],[0.4148936170212766,47.0,\"Romeo Langford\"],[0.5642458100558659,89.5,\"Nassir Little\"],[0.46994535519125685,183.0,\"Chuma Okeke\"],[0.54,25.0,\"KZ Okpala\"],[0.509594882729211,234.5,\"Kevin Porter Jr.\"],[0.4586206896551724,290.0,\"Darius Bazley\"],[0.5,16.0,\"Jordan Bone\"],[0.4264705882352941,34.0,\"Ignas Brazdeikis\"],[0.539568345323741,139.0,\"Moses Brown\"],[0.6353591160220995,90.5,\"Nic Claxton\"],[0.4449648711943794,213.5,\"Luguentz Dort\"],[0.7142857142857143,14.0,\"Devon Dotson\"],[0.6908077994428969,179.5,\"Daniel Gafford\"],[0.4090909090909091,22.0,\"Kyle Guy\"],[0.5566037735849056,53.0,\"Jaylen Hoard\"],[0.5253333333333333,187.5,\"Talen Horton-Tucker\"],[0.44505494505494503,91.0,\"Ty Jerome\"],[0.5551601423487544,140.5,\"Cameron Johnson\"],[0.49019607843137253,25.5,\"Mfiondu Kabengele\"],[0.5151515151515151,16.5,\"Louis King\"],[0.35714285714285715,7.0,\"Jalen Lecque\"],[0.5422222222222223,112.5,\"Jalen McDaniels\"],[0.0,4.0,\"Zach Norvell Jr.\"],[0.5094339622641509,106.0,\"Jaylen Nowell\"],[0.4657534246575342,73.0,\"Jordan Nwora\"],[0.4166666666666667,12.0,\"Miye Oni\"],[0.5443708609271524,377.5,\"Eric Paschall\"],[0.46206896551724136,217.5,\"Jordan Poole\"],[0.5623869801084991,276.5,\"Naz Reid\"],[0.5451713395638629,160.5,\"Isaiah Roby\"],[0.5285714285714286,35.0,\"Luka Samanic\"],[0.5161290322580645,31.0,\"Admiral Schofield\"],[0.5528846153846154,104.0,\"Matisse Thybulle\"],[0.375,24.0,\"Killian Tillie\"],[0.4084507042253521,35.5,\"Tremont Waters\"],[0.4634146341463415,20.5,\"Quinndary Weatherspoon\"],[0.5278969957081545,116.5,\"Grant Williams\"],[0.5849056603773585,53.0,\"Dylan Windler\"],[0.3333333333333333,12.0,\"Deividas Sirvydis\"],[0.5454545454545454,11.0,\"Adam Mokoka\"],[0.2,5.0,\"Didi Louzada\"],[0.5,64.0,\"Justin James\"],[0.5128205128205128,19.5,\"Jarrell Brantley\"],[0.3333333333333333,1.5,\"Marques Bolden\"],[0.5142857142857142,35.0,\"Armoni Brooks\"],[0.5714285714285714,17.5,\"Devontae Cacok\"],[0.6146788990825688,54.5,\"John Konchar\"],[0.45454545454545453,11.0,\"Vic Law\"],[0.44642857142857145,28.0,\"Jeremiah Martin\"],[0.5306122448979592,24.5,\"Garrison Mathews\"],[0.42857142857142855,7.0,\"Josh Reaves\"],[0.6486486486486487,18.5,\"Rayjon Tucker\"],[0.5887850467289719,53.5,\"Dean Wade\"],[0.5,2.0,\"Kyle Alexander\"],[0.6333333333333333,45.0,\"Chris Silva\"],[0.4222222222222222,22.5,\"Vincent Poirier\"],[null,0.0,\"William Howard\"],[0.5202312138728323,86.5,\"Nicolo Melli\"],[0.5,74.0,\"Marko Guduric\"],[0.0,2.0,\"Stanton Kidd\"],[0.7017543859649122,28.5,\"Donta Hall\"],[0.5,49.0,\"Matt Thomas\"],[0.3333333333333333,3.0,\"Tariq Owens\"],[0.5878787878787879,82.5,\"Javonte Green\"],[0.5,22.0,\"Dakota Mathias\"],[0.6285714285714286,17.5,\"Juwan Morgan\"],[0.5,2.0,\"Matt Mooney\"],[0.25,12.0,\"Keljin Blevins\"],[0.4166666666666667,12.0,\"Devin Cannady\"],[0.4833574529667149,691.0,\"Anthony Edwards\"],[0.48905109489051096,411.0,\"LaMelo Ball\"],[0.5424242424242425,330.0,\"James Wiseman\"],[0.3953488372093023,129.0,\"Killian Hayes\"],[0.5347222222222222,144.0,\"Deni Avdija\"],[0.6290322580645161,124.0,\"Obi Toppin\"],[0.6575342465753424,146.0,\"Onyeka Okongwu\"],[0.5294117647058824,323.0,\"Tyrese Haliburton\"],[0.46405228758169936,153.0,\"Devin Vassell\"],[0.5014492753623189,345.0,\"Isaac Okoro\"],[0.5153846153846153,390.0,\"Patrick Williams\"],[0.5462555066079295,227.0,\"Precious Achiuwa\"],[0.5428571428571428,70.0,\"Aaron Nesmith\"],[0.4236842105263158,380.0,\"Cole Anthony\"],[0.5862068965517241,29.0,\"Vernon Carey Jr.\"],[0.4019933554817276,301.0,\"Theo Maledon\"],[0.5122699386503068,326.0,\"Tyrese Maxey\"],[0.5555555555555556,9.0,\"Tyrell Terry\"],[0.45021645021645024,231.0,\"Saddiq Bey\"],[0.4823008849557522,226.0,\"R.J. Hampton\"],[0.5588235294117647,68.0,\"Josh Green\"],[0.5443786982248521,169.0,\"Jaden McDaniels\"],[0.4147465437788018,217.0,\"Kira Lewis Jr.\"],[0.3148148148148148,54.0,\"Nico Mannion\"],[0.5263157894736842,19.0,\"Jahmi'us Ramsey\"],[0.44680851063829785,47.0,\"Daniel Oturu\"],[0.5454545454545454,33.0,\"Jalen Smith\"],[0.3333333333333333,18.0,\"Tyler Bey\"],[0.2857142857142857,7.0,\"Elijah Hughes\"],[0.5924855491329479,346.0,\"Isaiah Stewart\"],[0.5777777777777777,45.0,\"Zeke Nnaji\"],[0.4007220216606498,277.0,\"Immanuel Quickley\"],[0.5833333333333334,72.0,\"Paul Reed\"],[0.40298507462686567,201.0,\"Aleksej Pokusevski\"],[0.3333333333333333,27.0,\"Isaiah Joe\"],[0.3333333333333333,30.0,\"Cassius Stanley\"],[0.4657534246575342,73.0,\"Tre Jones\"],[0.42441860465116277,172.0,\"Malachi Flynn\"],[0.4823529411764706,170.0,\"Payton Pritchard\"],[0.75,8.0,\"Grant Riller\"],[null,0.0,\"Ashton Hagans\"],[0.5225225225225225,111.0,\"Lamar Stevens\"],[0.4444444444444444,27.0,\"Jay Scrubb\"],[0.4782608695652174,23.0,\"Nate Hinton\"],[0.5,8.0,\"Nick Richards\"],[0.5365853658536586,41.0,\"Markus Howard\"],[0.18181818181818182,11.0,\"Karim Mane\"],[0.375,16.0,\"Cassius Winston\"],[0.5131578947368421,228.0,\"Desmond Bane\"],[0.5,14.0,\"Robert Woodard II\"],[0.5172413793103449,58.0,\"Skylar Mays\"],[0.41935483870967744,62.0,\"Josh Hall\"],[0.49122807017543857,57.0,\"Mason Jones\"],[0.5277777777777778,36.0,\"Jalen Harris\"],[0.42063492063492064,126.0,\"Naji Marshall\"],[0.5720720720720721,222.0,\"Kenyon Martin Jr.\"],[0.4626865671641791,67.0,\"Nathan Knight\"],[0.3333333333333333,3.0,\"Ty-Shon Alexander\"],[0.6,45.0,\"Trent Forrest\"],[0.48936170212765956,47.0,\"Anthony Lamb\"],[0.0,1.0,\"Malik Fitts\"],[0.48663101604278075,187.0,\"Saben Lee\"],[0.44,25.0,\"Sam Merrill\"],[0.7272727272727273,11.0,\"Sean McDermott\"],[0.5953488372093023,430.0,\"Jae'Sean Tate\"],[0.6388888888888888,36.0,\"Anthony Gill\"],[null,0.0,\"Will Magnay\"],[0.4444444444444444,99.0,\"Facundo Campazzo\"],[null,0.0,\"Nate Darling\"],[0.46938775510204084,49.0,\"Brodric Thomas\"],[0.5238095238095238,84.0,\"Freddie Gillespie\"],[0.5769230769230769,52.0,\"Gabriel Deck\"]],\"hovertemplate\":\"x=%{x}<br>y=%{y}<br>fg2a=%{customdata[1]}<br>fg2m_pct=%{marker.color}<br>names=%{customdata[2]}<extra></extra>\",\"legendgroup\":\"\",\"marker\":{\"color\":[0.4712041884816754,0.4431818181818182,0.41040462427745666,0.37037037037037035,0.2857142857142857,0.45989800649049606,0.4840961986035687,0.424190800681431,0.49054878048780487,0.44542772861356933,0.4588555858310627,0.44287396937573614,0.4521497919556172,0.7017543859649122,0.4606741573033708,0.44680851063829785,0.38028169014084506,0.46551724137931033,0.3333333333333333,0.4899860270144388,0.4305459571527298,0.4325505188421628,0.42587601078167114,0.5822784810126582,0.4609375,0.3469387755102041,0.5194697597348799,0.43911917098445596,0.46833013435700577,0.4950159284760045,0.4565838645856232,0.4318181818181818,0.5236818588025023,0.44285714285714284,0.4648318042813456,0.48004314994606256,0.49668141592920356,0.4099616858237548,0.44185475956820414,0.4776579352850539,0.48547094188376755,0.4291390728476821,0.15789473684210525,0.375,0.4675324675324675,0.4304635761589404,0.44229995979091274,0.4676470588235294,0.5145929339477726,0.8333333333333334,0.42675635276532137,0.4533799533799534,0.4984447900466563,0.4908685968819599,0.4558645707376058,0.40236686390532544,0.41223103057757643,0.47619047619047616,0.4818897637795276,0.4781931464174455,0.4570963806425376,0.4565613608748481,0.44537815126050423,0.6521739130434783,0.4671338811019816,0.46635674088573525,0.4,0.41543901001767825,0.49081364829396323,0.4381720430107527,0.4408284023668639,0.44819783416841763,0.5,0.46755812186597784,0.41313050440352284,0.30275229357798167,0.4084507042253521,0.4098639455782313,0.45223633351739373,0.4618320610687023,0.4593644014571034,0.4444444444444444,0.47132429614181437,0.46,0.375,0.4316446911866759,0.4975926817525277,0.45891203703703703,0.45188639253921153,0.39325842696629215,0.4342105263157895,0.4117647058823529,0.47674418604651164,0.467984934086629,0.47470962907455977,0.42592592592592593,0.4355083459787557,0.40384615384615385,0.45454545454545453,0.5045751633986928,0.45857418111753373,0.47976495903335264,0.4571215510812826,0.4599406528189911,0.4090909090909091,0.49940659862330883,0.5272727272727272,0.42507645259938837,0.41863699582753827,0.4673495518565941,0.47619047619047616,0.4141689373297003,0.45,0.41836734693877553,0.4984907287623976,0.478089348544621,0.4629080118694362,0.4608793686583991,0.4444444444444444,0.3194444444444444,0.441418725836275,0.3955892487939352,0.46940985381700057,0.4761186525892408,0.4597156398104265,0.46595503800743976,0.4393063583815029,0.4888663967611336,0.42616033755274263,0.35374149659863946,0.49335989375830014,0.3905660377358491,0.42021276595744683,0.45714285714285713,0.45603715170278636,0.41812400635930047,0.49258160237388726,0.4517766497461929,0.452081316553727,0.43349753694581283,0.5026870607689128,0.4965185838972247,0.4839537869062901,0.4879032258064516,0.4090121317157712,0.4712790400816952,0.45707070707070707,0.4441747572815534,0.45896437328717726,0.4384581690757775,0.6,0.4685714285714286,0.4624756335282651,0.413472706155633,0.42424242424242425,0.46918604651162793,0.4573643410852713,0.5348837209302325,0.5137614678899083,0.40963855421686746,0.4920040830214359,0.5382671480144404,0.4802983219390926,0.44432432432432434,0.5343674779352768,0.48951048951048953,0.0,0.40540540540540543,0.38461538461538464,0.4279544562230075,0.45161290322580644,0.42949234488315874,0.4371238517579981,0.42,0.5118964310706788,0.39655172413793105,0.4666666666666667,0.4585674157303371,0.39690721649484534,0.4709141274238227,0.4725201072386059,0.46153846153846156,0.4517593643586833,0.5,0.46466003762429453,0.43457943925233644,0.4834905660377358,0.45374149659863944,0.4625585023400936,0.45399789188375245,0.4937853107344633,0.444794952681388,0.44108761329305135,0.32,0.4553686934023286,0.4727540500736377,0.4566860465116279,0.4336677814938685,0.39215686274509803,0.43727598566308246,0.43256578947368424,0.42838780756518546,0.47882050081909666,0.4630053394355454,0.4747120681021532,0.4880239520958084,0.4473428070858478,0.4883167459974037,0.4261025029797378,0.43475409836065576,0.42424242424242425,0.5833093938523413,0.40384615384615385,0.36363636363636365,0.4521072796934866,0.45121951219512196,0.4587221823402728,0.4741285403050109,0.47738366417181904,0.5053763440860215,0.5026490066225165,0.45039491427470624,0.439622641509434,0.5274261603375527,0.4342105263157895,0.5683615819209039,0.465970409051349,0.42857142857142855,0.48484848484848486,0.44767829371250834,0.49264705882352944,0.47954329210275926,0.4393939393939394,0.5751680226388397,0.4869291859695566,0.41843971631205673,0.4141048824593128,0.4322446143154969,0.4442970822281167,0.46272855133614627,0.4319894724249312,0.47480482611781405,0.43512014787430686,0.5,0.40425531914893614,0.4342948717948718,0.47339010111761576,0.4180327868852459,0.4430379746835443,0.43110838946723823,0.38461538461538464,0.48530004027386225,0.4049904030710173,0.25925925925925924,0.45152809727242854,0.4230769230769231,0.48206419131529266,0.5,0.46485700436257876,0.49265402843601896,0.5236004390779363,0.2972972972972973,0.5074211502782932,0.4572109654350417,0.41743119266055045,0.44521497919556174,0.4488210075026795,0.4559055118110236,0.47198641765704585,0.5242376856919468,0.375,0.4,0.43660322108345534,0.48558152248189146,0.4819672131147541,0.3700787401574803,0.47990255785627284,0.5038630510528708,0.3588516746411483,0.45491803278688525,0.4399302908179937,0.5704225352112676,0.4444444444444444,0.4640767386091127,0.358974358974359,0.4444444444444444,0.5089571337172105,0.5041800643086817,0.42857142857142855,0.415625,0.49276185069543005,0.41733333333333333,0.0,0.4360502234517983,0.3333333333333333,0.45454545454545453,0.4881091617933723,0.28205128205128205,0.0,0.42628205128205127,0.4827586206896552,0.0,0.5078427378284783,0.4027093596059113,0.43453070683661643,0.42850452700593195,0.42786069651741293,0.4747179272879231,0.46947259028319044,0.4675984752223634,0.5026075619295959,0.4819277108433735,0.45394736842105265,0.3850574712643678,0.4992248062015504,0.5036764705882353,0.0,0.4896142433234421,0.46286276438760454,0.5292242295430393,0.45334350368675314,0.4716981132075472,0.429042904290429,0.41460674157303373,0.5252747252747253,0.4634838099740014,0.4336500153233221,0.45454545454545453,0.46912366912366915,0.4605263157894737,0.44030365769496205,0.4405487804878049,0.4472934472934473,0.4809384164222874,0.3333333333333333,0.5137821961138725,0.43112614789753506,0.5325144508670521,0.515822031881989,0.44919786096256686,0.4450163781001404,0.5157142857142857,0.4019607843137255,0.49523809523809526,0.4697508896797153,0.47953216374269003,0.4784982935153584,0.3333333333333333,0.4779270633397313,0.4626865671641791,0.45535026943802925,0.4718180297708647,0.42165605095541403,0.0,0.36231884057971014,0.5238095238095238,0.4386973180076628,0.5169491525423728,0.4505807063285139,0.4621026894865526,0.4963465553235908,0.4756828780812791,0.5,0.375,0.5,0.4483447315862737,0.46927024658905997,0.4801309448031281,0.464966913195796,0.4853374978309908,0.44988992055135446,0.4606782106782107,0.4634363191820405,0.4635235732009926,0.4986556730596881,0.4222520107238606,0.47922761849034523,0.5178152574556015,0.4358097606465651,0.46484055600981194,0.4332425068119891,0.38235294117647056,0.4831649831649832,0.41282565130260523,0.5062211162460007,0.3962962962962963,0.4744186046511628,0.4470899470899471,0.506516290726817,0.429042904290429,0.45375722543352603,0.47893870436719277,0.48450837812203607,0.4693504117108875,0.47774854135682415,0.3137254901960784,0.45,0.430239704978488,0.5454545454545454,0.41935483870967744,0.41411042944785276,0.3559322033898305,0.44173913043478263,0.4222222222222222,0.42534504391468003,0.3781094527363184,0.45493562231759654,0.2777777777777778,0.4976428992339422,0.3493975903614458,0.475,0.43437645959831855,0.4166666666666667,0.42634315424610053,0.4782608695652174,0.2727272727272727,0.5226190476190476,0.4642857142857143,0.4605263157894737,0.48024316109422494,0.3790322580645161,0.38235294117647056,0.38207547169811323,0.23684210526315788,0.4800531914893617,0.5271317829457365,0.3333333333333333,0.3333333333333333,0.25925925925925924,0.46236559139784944,0.47058823529411764,0.4130724766562917,0.4520547945205479,0.36507936507936506,0.48327939590075514,0.45336481700118064,null,0.4228571428571429,0.389937106918239,0.7,0.4126984126984127,0.44691929418571014,0.2826086956521739,0.4,0.4013605442176871,0.5,0.42948717948717946,0.0,0.4899267399267399,0.4770949720670391,0.4255079006772009,0.21428571428571427,0.3,0.38461538461538464,0.4498186215235792,0.4790697674418605,0.35,0.5426356589147286,0.5161290322580645,0.6666666666666666,0.45595854922279794,0.4512937595129376,0.45,0.0,0.43661971830985913,0.43103448275862066,0.3972222222222222,0.36231884057971014,0.40963855421686746,0.49681933842239184,0.36363636363636365,0.36666666666666664,0.3939393939393939,0.5269978401727862,0.5097545626179988,0.23333333333333334,0.5,0.42067935796939154,0.4166666666666667,0.4166666666666667,0.3584905660377358,0.50852920757711,0.4661892071952032,0.43480861244019137,0.4831858407079646,0.4940876420125203,0.43681466834441846,0.4697910784867307,0.4768451519536903,0.4607449856733524,0.4734337827121332,0.4254545454545455,0.4430538172715895,0.4399801587301587,0.4683760683760684,0.5093054925102134,0.41921305985768104,0.4044943820224719,0.42411347517730497,0.4942396313364055,0.4482758620689655,0.46916299559471364,0.33783783783783783,0.4439192092823378,0.3536231884057971,0.504524886877828,0.4726890756302521,0.4369108049311095,0.3424657534246575,0.4132231404958678,0.4375,0.5714285714285714,0.42727272727272725,0.46153846153846156,0.34285714285714286,0.4480936202340506,0.4088050314465409,0.43058161350844276,0.6,0.4561164784324398,0.4429874572405929,0.3392857142857143,0.43080357142857145,0.4430919050517346,0.4334541688244433,0.45256087321578503,0.3795180722891566,0.5074206755373593,0.15,0.45539033457249073,0.5032119914346895,0.4116198916789759,0.42857142857142855,0.44244604316546765,0.475177304964539,0.36,0.0,0.4732824427480916,0.2,0.2978723404255319,0.3333333333333333,0.4888888888888889,0.38421733505821476,0.44966442953020136,0.40672782874617736,0.42852292020373517,0.45625,0.3023255813953488,0.5530336097773898,0.3684210526315789,0.55,0.5794392523364486,0.3684210526315789,0.5,0.3132530120481928,0.4351423704064249,0.462736241530964,0.5046162723600692,0.47704810015374477,0.46160437677147187,0.47828571428571426,0.4666666666666667,0.4283049040511727,0.4959511984452602,0.4780570005128581,0.4773397199705232,0.43992932862190814,0.5034188034188034,0.4418604651162791,0.4932541824069077,0.38872832369942195,0.5029365700861393,0.4375,0.4335378323108384,0.4258312020460358,0.4655679811653914,0.4939908827186075,0.4556564245810056,0.4454303460514641,0.4743559718969555,0.5285714285714286,0.4289772727272727,0.42276422764227645,0.48712228756844456,0.4473684210526316,0.5302969502407705,0.4910873440285205,0.5385427666314678,0.4268292682926829,0.37373737373737376,0.48616305160807777,0.125,0.3333333333333333,0.4065995525727069,0.6666666666666666,0.4547244094488189,0.3333333333333333,0.5104022191400832,0.4593128390596745,0.4218009478672986,0.4791666666666667,null,0.3563218390804598,0.3548387096774194,0.40425531914893614,0.49633802816901407,0.42616033755274263,0.47153024911032027,0.3626373626373626,0.475,0.6280487804878049,0.4376899696048632,0.0,0.49436319317489336,1.0,0.6666666666666666,0.25,0.5,0.2222222222222222,0.32142857142857145,0.4361127774445111,0.3,0.3333333333333333,0.4508670520231214,0.40625,0.4319503683598294,0.17647058823529413,0.0,0.42857142857142855,0.43653250773993807,0.32,null,0.32413793103448274,0.379746835443038,0.44554455445544555,0.5011394712853237,0.4508582713048762,0.4563655030800821,0.5016329986694085,0.44155844155844154,0.5045296167247387,0.46257866984180984,0.47822527832351014,0.5130270014211274,0.4837597911227154,0.42948717948717946,0.3076923076923077,0.47784558238259484,0.375968992248062,0.44659206510681587,0.4107142857142857,0.4673495518565941,0.41226215644820297,0.43646723646723645,0.5039559683522532,0.4762912785774767,0.42147587511825924,0.5097212032281732,0.32894736842105265,0.4043179587831207,0.4738276990185387,0.4329388560157791,0.39285714285714285,0.3611111111111111,0.40887480190174325,0.3469387755102041,0.4633431085043988,0.4527938342967245,0.43465045592705165,0.4241645244215938,0.4691358024691358,0.19047619047619047,0.4653546535465355,0.4810126582278481,0.4751803139584217,0.5,0.5414680648236415,0.40625,0.4333593141075604,0.3333333333333333,0.49766392782342517,0.4603174603174603,0.16666666666666666,0.5118253486961795,null,0.4523942093541203,0.4666666666666667,null,0.4634308510638298,0.4354497354497355,0.49295774647887325,0.0,0.41935483870967744,0.4236453201970443,0.44,0.3950617283950617,0.4915472964253452,0.47580645161290325,0.48190575370997135,0.4460016488046167,0.501550547860244,0.4692526017029328,0.459896983075791,0.44914750198255354,0.5527452190006169,0.44300097434231894,0.49375,0.5132641291810842,0.42907058001397624,0.3989169675090253,0.4578146611341632,0.45006910850034554,0.45613755771373987,0.4313773631230052,0.48050177256613036,0.42761341222879684,0.4496765847347995,0.4635897435897436,0.43304258594150846,0.36329588014981273,0.4902789518174134,0.4292929292929293,0.4985207100591716,0.37333333333333335,0.46454767726161367,0.5086006508600651,0.4282319391634981,0.40049751243781095,0.3765182186234818,0.4876632801161103,0.3832599118942731,0.3902439024390244,0.3888888888888889,0.4230124119423012,0.36363636363636365,0.4511627906976744,0.49504950495049505,0.47520288548241657,0.4317948717948718,0.42033898305084744,0.4330708661417323,0.45454545454545453,0.3695652173913043,0.16666666666666666,0.5,0.3931818181818182,0.46932515337423314,0.3181818181818182,0.4530046224961479,0.5245098039215687,0.3375,0.3879598662207358,0.0,0.2,0.4410387398893146,0.4423076923076923,0.4470588235294118,0.4610011641443539,0.28125,0.2631578947368421,0.4926924326079896,0.5976818410885268,0.5117758971331102,0.5443786982248521,0.4737347085632046,0.4858345021037868,0.4083388484447386,0.4286934244235696,0.4515021459227468,0.47174685179205683,0.47147147147147145,0.4511681348142474,0.49297971918876754,0.4635006221484861,0.5602134146341463,0.26,0.48758465011286684,0.41409090909090907,0.4810235958790296,0.5281602002503129,0.2682926829268293,0.3050847457627119,0.3584905660377358,0.4501915708812261,0.502342866375828,0.5220219290094777,0.4316957210776545,0.510156744218739,0.43902439024390244,0.5072463768115942,0.4376130198915009,0.48712967459932005,0.6666666666666666,0.43209876543209874,0.4570889657340459,0.4578208903516369,0.3695652173913043,0.4651741293532338,0.41456016177957533,0.3181818181818182,0.34210526315789475,0.48398009950248755,0.44871794871794873,0.43548387096774194,0.4516750096264921,0.47586206896551725,0.4233128834355828,0.40540540540540543,0.3684210526315789,0.4561872909698997,0.3547400611620795,0.4,0.44934445768772346,0.4518156424581006,0.40540540540540543,0.3793103448275862,0.5555555555555556,0.3673469387755102,0.4495798319327731,0.375,0.3900226757369615,0.54050736497545,0.4216589861751152,0.6666666666666666,0.3333333333333333,0.3971631205673759,0.524941724941725,0.4306418219461698,0.4813391877058178,0.4714507260679543,0.33182844243792325,0.38529411764705884,0.5507399577167019,0.5434557682359027,0.5404337437970961,0.4557291666666667,0.44745484400656815,0.4608593290170689,0.44360902255639095,0.4449760765550239,0.4332988624612203,0.4252136752136752,0.4415530772408096,0.42290748898678415,0.3482142857142857,0.42485549132947975,0.47036328871892924,0.43344155844155846,0.4704641350210971,0.4949698189134809,0.3756906077348066,0.4568395754055678,0.3941176470588235,0.4324596774193548,0.2830188679245283,0.434971098265896,0.42,0.501434034416826,0.5216382618006603,0.4666666666666667,0.3333333333333333,0.4550898203592814,0.46987951807228917,0.45047241694605306,0.4685714285714286,0.5224182817471796,0.4953271028037383,0.6666666666666666,0.5012131715771231,0.43651295009475677,0.39215686274509803,0.49881467019941433,1.0,0.3225806451612903,0.35877862595419846,0.373134328358209,0.38081805359661497,0.20833333333333334,0.4107142857142857,null,0.2916666666666667,0.42035398230088494,0.47947327652982186,0.4637305699481865,0.42864149092692494,0.0,0.2608695652173913,0.5,0.4670608108108108,0.23333333333333334,0.5498842243028289,0.46070878274268107,0.471107544141252,0.5058692485648187,0.5021279298735946,0.4902128875553651,0.43166666666666664,0.44978858350951373,0.4853700516351119,0.4442970822281167,0.49502878074306644,0.5415430267062314,0.46211552888222057,0.4579840124780659,0.3360655737704918,0.2857142857142857,0.45652173913043476,0.4994692144373673,0.43270868824531517,0.4540182270091135,0.5287392823118451,0.44692737430167595,0.44691224268689056,0.4674302075876879,0.4379481522338665,0.5,0.53198127925117,0.4976303317535545,0.4709664848012471,0.4125560538116592,0.44574036511156184,0.45901639344262296,0.37,0.42036124794745483,0.0,0.6666666666666666,0.45367717287488063,0.4717800289435601,0.4416331224841863,0.5159891598915989,0.45951825951825953,0.4444444444444444,0.4024390243902439,0.4639348863317429,0.4838709677419355,0.47058823529411764,0.3333333333333333,0.32903225806451614,0.47767601602747567,0.4940119760479042,0.4281437125748503,0.2,null,0.3384615384615385,0.42857142857142855,0.0,0.5,0.4125,0.44136460554371004,0.375,0.42875,0.34146341463414637,0.4666666666666667,0.0,0.3757725587144623,0.4399641577060932,0.48314606741573035,0.5,0.5895465026902382,0.5121909633418584,0.4472532814778804,0.49148642429820527,0.4813202756619514,0.5480176211453744,0.4821563342318059,0.4068241469816273,0.5189017111022682,0.3561643835616438,0.5949314499376818,0.5058823529411764,0.4187943262411348,0.47068403908794787,0.5011402508551881,0.4754491017964072,0.4797807425793774,0.46340079440136184,0.46910239061795217,0.47445124145376033,0.0,0.45664739884393063,0.37735849056603776,0.47870261821023835,0.4923046172296622,0.4643102264927934,0.41500765696784075,0.49585876198779427,0.5297450424929179,0.5152552038779584,0.4122137404580153,0.5,0.39473684210526316,0.4473684210526316,0.5,0.40106951871657753,0.42513863216266173,0.4261501210653753,0.40749414519906324,0.48403846153846153,0.4339622641509434,0.5185185185185185,0.41578947368421054,0.4186046511627907,0.34285714285714286,0.47368421052631576,0.47244094488188976,0.4166666666666667,0.3333333333333333,0.4631542699724518,0.36507936507936506,0.5189873417721519,0.44680851063829785,0.4444444444444444,0.0,0.5641025641025641,0.3125,0.43548387096774194,0.37668161434977576,0.4186046511627907,0.45019762845849803,0.5393700787401575,0.43548387096774194,0.40816326530612246,0.3424657534246575,0.3333333333333333,0.5365107913669065,0.4821010371361659,0.5090742438130156,0.4450041981528128,0.45413533834586467,0.4844844844844845,0.4765763484426437,0.5094142259414226,0.48200312989045385,0.5574629036950829,0.29411764705882354,0.4618705035971223,0.4670614359733531,0.4671385237613751,0.5031328320802005,0.4626093874303898,0.46907574704656013,0.49900483366505544,0.44,0.46316085489313835,0.46964529331514326,0.483759842519685,0.4541139240506329,0.4635887672536887,0.49609652235628104,0.5011376564277589,0.5412885662431942,0.46853146853146854,0.5372539831302718,0.43525741029641185,0.42857142857142855,0.5024669429642786,0.46273731935392465,0.48296679603277276,0.535,0.44224422442244227,0.46905537459283386,0.4822516684398878,0.4392857142857143,0.6052631578947368,0.0,0.0,0.4559302174196068,0.44594594594594594,0.5188679245283019,0.47774044519109615,0.4728211357424841,0.40350877192982454,0.42028985507246375,0.48148148148148145,0.4596774193548387,0.5880518234165067,0.5527000650618087,0.3880597014925373,0.5416666666666666,0.5788206979542719,0.3793103448275862,0.42150170648464164,0.43636363636363634,0.5066985645933014,0.4214876033057851,0.4555160142348754,null,0.3984375,0.4567350579839429,0.4666666666666667,0.49321266968325794,1.0,0.45871559633027525,0.46938775510204084,0.46531531531531534,0.515625,0.35294117647058826,0.23076923076923078,0.4807692307692308,0.4421052631578947,0.6666666666666666,0.41,0.1875,0.6086956521739131,0.3333333333333333,0.22727272727272727,0.0,0.47974068071312803,0.500956937799043,0.4230769230769231,0.25,0.4092827004219409,0.368,0.5300970873786408,0.46992864424057085,0.49815873015873013,0.39110604332953247,0.4404485692188708,0.46408839779005523,0.4847094801223242,0.4286096972944013,0.48333181942047415,0.5031847133757962,0.4268292682926829,0.48197565543071164,0.5029154518950437,0.501788268955651,0.5202558635394456,0.4093567251461988,0.4712301587301587,0.46875,0.444015444015444,0.43626062322946174,0.54337899543379,0.48268029528676887,0.42097902097902096,0.5441458733205374,0.4714261197871975,0.45575877409787446,0.46328578975171686,0.4509990485252141,0.36551724137931035,0.39631336405529954,0.4613686534216336,0.48214285714285715,0.4631578947368421,0.4716981132075472,0.4036697247706422,0.47322212467076386,0.5596330275229358,0.49122807017543857,0.3,0.3870967741935484,0.5135135135135135,0.39690301548492257,0.5,0.5170068027210885,0.3894736842105263,0.5139093782929399,0.5174234424498416,0.5841836734693877,0.2727272727272727,0.3333333333333333,0.5374149659863946,0.3611111111111111,0.32,0.4158790170132325,0.36363636363636365,0.4747252747252747,0.47941176470588237,0.4579710144927536,0.4366812227074236,0.5775862068965517,0.4475806451612903,0.4155844155844156,0.3783783783783784,0.46222732491389207,0.4722222222222222,0.4166666666666667,0.518324607329843,0.25,0.44,0.4794520547945205,0.0,0.34615384615384615,0.25,0.2,0.5,0.3,0.25,0.35365853658536583,0.4262295081967213,0.5742753623188406,0.5335363344580693,0.5428905792861323,0.4687760199833472,0.48862843588670296,0.41298265249020705,0.4803964757709251,0.6101776284205472,0.49319877139096097,0.48236107908692644,0.4521072796934866,0.5267786561264822,0.5190735694822888,0.46688382193268185,0.44175491679273826,0.44634263715110684,0.5123042505592841,0.46473585411638507,0.4656652360515021,0.47876447876447875,0.38349514563106796,0.5169491525423728,0.4968892575694733,0.4631728045325779,0.4044943820224719,0.4420245398773006,0.48125564588979225,0.5583941605839416,0.4527027027027027,0.5369700103412617,0.35,0.3181818181818182,0.575,0.45106861642294716,0.425,0.5143266475644699,0.5,0.6,0.4827586206896552,0.6,0.4507042253521127,0.4226125137211855,0.49804525530150456,0.5110336817653891,null,0.35714285714285715,0.35294117647058826,0.4503175578774841,0.34328358208955223,0.5128865979381443,0.39215686274509803,0.4117647058823529,0.41379310344827586,0.4439252336448598,0.493431855500821,0.3877551020408163,0.42857142857142855,0.46956521739130436,0.4583333333333333,0.5277777777777778,0.2727272727272727,0.5833333333333334,0.35,0.23333333333333334,0.42731277533039647,0.4814942330865898,0.45868544600938965,0.4856975381008206,0.46959624938772654,0.4798206278026906,0.46547884187082406,0.4783795130142737,0.4264705882352941,0.43732376313765703,0.5260884014622799,0.43602573266619016,0.49988131972466177,0.44714926329276106,0.46562721474131824,0.5427669822288657,0.4754818248353257,0.4657290368524123,0.5758414015675426,0.5078066914498142,0.5100725221595488,0.4700854700854701,0.483983286908078,0.5346776657500764,0.549182678520218,0.5053475935828877,0.5008003658815459,0.46003016591251883,0.4671857619577308,0.5073099415204678,0.5660377358490566,0.5179345683878597,0.4444444444444444,0.5358490566037736,0.4746784565916399,0.6752202221371122,0.5278706800445931,0.4784719974101651,0.4972972972972973,0.486815415821501,0.4648956356736243,0.43859649122807015,0.35,0.0,0.5060882800608828,0.56,0.5486725663716814,0.46303501945525294,0.5294117647058824,0.3333333333333333,0.5459459459459459,0.47032337290216947,0.42475728155339804,0.46875,1.0,0.47101449275362317,0.3870967741935484,0.47058823529411764,0.4787234042553192,0.5,0.5117370892018779,0.4665012406947891,1.0,0.4140625,0.509469696969697,0.5205659756498848,0.5669781931464174,0.5129239692346489,0.4681181959564541,0.41875923190546527,0.4203883495145631,0.5192421551213736,0.49944669863519,0.4786945419725503,0.4124915749269827,0.4316628701594533,0.45987583352494826,0.4423617619493908,0.424,0.43314285714285716,0.5341521869382864,0.49332477535301666,0.4928136419001218,0.47199601130131297,0.40869565217391307,0.49464989675239346,0.5016380016380017,0.4381139489194499,0.5,0.524303305249514,0.4854122621564482,0.44776785714285716,0.4478951000690131,0.4641350210970464,0.4888888888888889,0.5544747081712063,0.4838709677419355,0.49381148841637573,0.3915343915343915,0.46837763519706693,0.5258255715495342,0.4896265560165975,0.5066603235014272,0.5278637770897833,0.4706504494976203,0.45667752442996745,0.47052845528455284,0.486198243412798,0.47577092511013214,0.46101029916625796,0.5,0.4389920424403183,0.46332046332046334,0.48350253807106597,0.4407894736842105,0.4630459126539754,0.4666666666666667,0.2222222222222222,0.3333333333333333,0.5483870967741935,0.44,0.4688878000979912,0.46919976971790445,0.41935483870967744,0.5208333333333334,0.35714285714285715,0.423728813559322,0.4423076923076923,0.3333333333333333,0.41739130434782606,0.3968253968253968,0.45663426335058704,0.4577022534170669,0.5438915523226979,0.4603174603174603,0.47711643348351906,0.4548641542506573,0.5149645171243443,0.4672430994346525,0.4905221745350501,0.47323209081147416,0.5272727272727272,0.4186939820742638,0.5669240669240669,0.5012116316639742,0.481294964028777,0.4169381107491857,0.4906966681090437,0.5055461552923481,0.47099218565001183,0.49473684210526314,0.2857142857142857,0.4894366197183099,0.5342763873775843,0.4326241134751773,0.3932038834951456,0.47493403693931396,0.45763523216850166,0.45630609352857815,0.49019607843137253,0.3951612903225806,0.4782608695652174,0.44954128440366975,0.5829193281286965,0.46511627906976744,0.5369928400954654,0.2857142857142857,0.6666666666666666,0.5198156682027649,0.49396735273243436,0.582089552238806,0.4180790960451977,0.5275590551181102,null,0.3137254901960784,0.44021739130434784,0.4,0.4,0.5830618892508144,0.4666666666666667,0.48484848484848486,0.8,0.3974358974358974,0.44884910485933505,0.543468568880963,0.4482948294829483,0.47299077733860345,0.3333333333333333,0.44886363636363635,0.45274353396180805,0.4756756756756757,0.45,0.35555555555555557,0.6666666666666666,0.39037433155080214,0.5620437956204379,0.5,0.4277329420396185,0.25,0.38095238095238093,0.6521739130434783,0.42105263157894735,0.5054393305439331,0.48427672955974843,0.5548892220556388,0.5200415368639668,0.5768872320596459,0.5228628230616302,0.5272448196469686,0.4445407279029463,0.4550056242969629,0.4338138925294889,0.4906001446131598,0.44222495390288874,0.4831804281345566,0.47382716049382717,0.5354263166924,0.5164964189268522,0.4380952380952381,0.3995433789954338,0.5162044250545341,0.5285961871750433,0.4072398190045249,0.549949545913219,0.5021865889212828,0.4684723726977248,0.4777251184834123,0.45054945054945056,0.4462809917355372,0.4360655737704918,0.4800129996750081,0.4920788878111865,0.5093644458090267,0.4166666666666667,0.4575273338940286,0.47004357298474947,0.3333333333333333,0.506578947368421,0.4166666666666667,0.5211420310805926,0.4511494252873563,0.5200974421437271,0.4160839160839161,0.5209205020920502,0.4117647058823529,0.44871794871794873,0.496551724137931,0.42857142857142855,0.35714285714285715,0.0,0.3835616438356164,0.4738955823293173,0.5428571428571428,0.4321608040201005,0.48894436519258205,0.48175519630484986,0.3076923076923077,0.4131455399061033,0.34415584415584416,0.375,0.23076923076923078,0.3333333333333333,0.5569620253164557,0.3333333333333333,0.3,0.5806451612903226,0.40264026402640263,0.5,0.4777777777777778,0.6183206106870229,0.5368620037807184,0.5,0.5343131712832109,0.48088531187122735,0.49834413246940246,0.443768115942029,0.47232472324723246,0.4877773067684047,0.47624039133473095,0.5439689793657388,0.4844165716457621,0.46388101983002833,0.5491731940818103,0.49776555517359916,0.4221218961625282,0.5493994575745835,0.5479930191972077,0.0,0.5117830146731881,0.5389728096676737,0.4983948635634029,0.5022954361328652,0.4757729580064605,0.5,0.5025906735751295,0.36936936936936937,0.4766990291262136,0.5416364952932657,0.5465116279069767,0.4662756598240469,0.3694581280788177,0.5130597014925373,0.5279456193353474,0.5066666666666667,0.5122897800776197,0.508706043018095,0.3977272727272727,0.5056890012642224,0.38341968911917096,0.4945226917057903,0.47835051546391755,0.35294117647058826,0.37244897959183676,0.5213533000554631,0.45161290322580644,0.5602240896358543,0.5,0.2608695652173913,0.416,0.5385794583546244,0.18181818181818182,0.547945205479452,0.5116279069767442,0.0,0.4688995215311005,0.4368131868131868,0.52,0.44379391100702575,0.6721311475409836,0.4678787878787879,0.48623853211009177,0.5219123505976095,0.4174041297935103,0.4579263711495116,0.3389830508474576,null,0.438984438984439,0.4789915966386555,0.40186915887850466,0.6,0.4090909090909091,0.75,0.5947467166979362,0.5080645161290323,0.3842364532019704,0.46994535519125685,0.4492753623188406,0.5,0.5169727323316639,0.3870967741935484,0.5617977528089888,0.4344262295081967,0.3333333333333333,0.2857142857142857,0.5185524507558406,0.5505804311774462,0.5247524752475248,0.4713622291021672,0.6002604166666666,0.4274353876739563,0.4842105263157895,0.4755125284738041,0.547945205479452,0.5555555555555556,0.4859778597785978,0.5329787234042553,0.4739720478023091,0.5805609915198956,0.4444444444444444,0.4146341463414634,0.5213137665967854,0.40387722132471726,0.39285714285714285,0.2222222222222222,0.5369565217391304,0.5614737685222266,0.47687296416938113,0.4525862068965517,0.5849896173242362,0.4362304362304362,0.5490196078431373,0.4516971279373368,0.5253190613421161,0.34375,0.4303977272727273,0.49671772428884026,0.32051282051282054,0.4869203329369798,0.6464807436918991,0.5099875156054932,0.4543524416135881,0.5923212932558727,0.4933862433862434,0.36363636363636365,0.4834162520729685,0.44871794871794873,0.38461538461538464,0.47956284153005463,0.5767240173450833,0.48872180451127817,0.35714285714285715,0.5454545454545454,0.6811023622047244,0.3,0.3924050632911392,0.5344352617079889,0.23809523809523808,0.44329896907216493,0.5555555555555556,0.40664961636828645,0.44651162790697674,0.4936034115138593,0.4157303370786517,0.520048602673147,0.3373493975903614,0.48598130841121495,0.5,0.5298507462686567,0.513978494623656,0.0,0.5036378334680679,0.4479638009049774,0.0,0.375,0.6666666666666666,0.425531914893617,0.41568627450980394,0.4892638036809816,null,0.486712224753227,0.5838926174496645,0.532258064516129,null,0.3142857142857143,0.5579710144927537,0.4139194139194139,0.3,0.5238095238095238,0.0,0.3870967741935484,0.44777562862669246,0.44693877551020406,0.49823232323232325,0.45765765765765765,0.4269340974212034,0.4764751754613985,0.40625,0.5029280862028578,0.3770491803278688,0.4792626728110599,0.3888888888888889,0.3974358974358974,0.4351851851851852,0.512154233025985,0.4793702497285559,0.43617021276595747,0.4631915866483768,0.4090909090909091,0.546916890080429,0.4,0.501010101010101,0.5342465753424658,0.5128581925055107,0.5453915453915454,0.5351063829787234,0.47398843930635837,0.4743243243243243,0.5110091743119266,0.5364389825664475,0.45,0.4382845188284519,0.5262563523433089,0.6291739894551845,0.4297297297297297,0.5009140767824497,0.5124698310539019,0.25,0.30612244897959184,0.40625,0.5446808510638298,0.5813953488372093,0.4,0.4774912253929498,0.5316586373021335,0.527418891759977,0.4642857142857143,0.5439560439560439,0.4851063829787234,null,0.5395408163265306,0.5333333333333333,0.4,0.5111111111111111,0.6111111111111112,0.5025510204081632,null,0.6265094882116159,0.4936284372904091,0.5009101941747572,0.4166666666666667,0.4975124378109453,0.5827217446005452,0.4803687265278252,0.625,0.5348837209302325,0.4747058823529412,0.5,0.4489795918367347,0.44079718640093785,0.5573979591836735,0.0,0.39705882352941174,0.42977893368010406,0.5,0.5224887556221889,0.25,0.2608695652173913,0.3333333333333333,0.5,0.41379310344827586,0.5555555555555556,0.0,0.5270382695507487,0.5460030165912518,0.43117593436645396,0.47553516819571867,0.5,0.5219047619047619,0.379746835443038,0.6255424674519529,0.42196531791907516,0.32432432432432434,0.5,0.5227272727272727,0.5700787401574803,0.4687298517085751,0.5694084843656642,0.625751503006012,0.44349939246658565,0.5491391678622669,0.5063904803878361,0.48002316155182395,0.5022375915378356,0.4645962732919255,0.5305277681959296,0.4989247311827957,0.43245341614906835,0.4640088593576966,0.4994073488739629,0.5910652920962199,0.36619718309859156,0.5960125918153201,0.49586776859504134,0.4666666666666667,0.5641025641025641,0.4729064039408867,0.44030202925908446,0.5285215366705471,0.4,0.44656488549618323,0.4569343065693431,0.5,0.4701492537313433,0.5641421947449768,0.5555555555555556,0.4757155247181266,0.41954022988505746,0.4383561643835616,0.437125748502994,0.5752599890530925,0.6,0.4843492586490939,0.509375,0.43243243243243246,0.5385964912280702,0.4924039320822163,0.36363636363636365,0.5824324324324325,0.5830039525691699,0.0,0.4318181818181818,0.4810126582278481,0.6335697399527187,0.5263157894736842,0.0,0.0,0.46788990825688076,null,1.0,0.45901639344262296,0.4145785876993166,0.4329896907216495,0.3333333333333333,0.45689655172413796,0.4583333333333333,0.5640456563094484,0.5177111716621253,0.5536167512690355,0.38345864661654133,0.505940594059406,0.5310880829015544,0.6006006006006006,0.45358649789029537,0.4,0.46979298690325305,0.4944237918215613,0.6086956521739131,0.4583333333333333,0.6860158311345647,0.5069885641677255,0.485837734037446,0.5094991364421416,0.4738445911630269,0.4969826056088037,0.6318273769386379,0.4520547945205479,0.35714285714285715,0.23076923076923078,0.43905635648754915,0.44397163120567373,0.3225806451612903,0.4329268292682927,0.5270588235294118,0.5265901981230449,0.6470588235294118,0.5058139534883721,0.601823708206687,0.3850267379679144,0.16666666666666666,0.4186046511627907,0.375,0.5854126679462572,0.5076142131979695,0.501577287066246,0.5833333333333334,0.3333333333333333,0.5306122448979592,0.4148936170212766,0.46502057613168724,0.5452891960712987,0.4473684210526316,0.4519906323185012,0.5434782608695652,0.0,0.46835443037974683,0.46781789638932497,0.5808510638297872,0.0,0.4666666666666667,0.5069582504970179,0.5111111111111111,0.5277777777777778,0.5294117647058824,0.45714285714285713,0.4631336405529954,0.4,0.527027027027027,0.547945205479452,0.5908488063660478,0.5545134818288394,0.4258373205741627,0.5211267605633803,0.4024390243902439,0.4914004914004914,0.6,0.4444444444444444,0.5151515151515151,0.5123152709359606,0.5,0.5072886297376094,0.47548566142460685,0.41379310344827586,0.5,0.4146341463414634,0.25,0.5438202247191011,0.5833333333333334,0.0,0.47368421052631576,0.5,0.42105263157894735,0.6107470511140236,0.4790322580645161,0.4635514018691589,0.3,0.43137254901960786,0.5360576923076923,0.5820433436532507,0.4,0.5714285714285714,0.4774590163934426,0.45454545454545453,0.4668094218415418,0.49863667348329926,0.48933975240715266,0.4730473047304731,0.4970674486803519,0.44055433989788473,0.3894165535956581,0.5087842586085735,0.48464780252859724,0.4850574712643678,0.503968253968254,0.614963503649635,0.5264550264550265,0.5306122448979592,0.5786694825765576,0.5233082706766917,0.6305418719211823,0.3333333333333333,0.5661888701517707,0.569672131147541,0.49818181818181817,0.5877862595419847,0.36666666666666664,0.5398230088495575,0.5672645739910314,0.6527093596059114,0.5702005730659025,0.5286343612334802,0.625,0.4810606060606061,0.5129265770423992,0.49506578947368424,0.4755244755244755,0.5552367288378766,0.5751633986928104,0.4374384236453202,0.625,0.5482866043613707,0.459412780656304,0.4330357142857143,0.684931506849315,0.4364406779661017,0.45750262329485836,0.42857142857142855,0.5522388059701493,0.6646115906288532,0.75,0.5199645075421473,0.6060606060606061,0.49014084507042255,0.46,0.48554913294797686,0.6041666666666666,0.16666666666666666,0.3333333333333333,0.30434782608695654,0.5369649805447471,0.49295774647887325,0.4722222222222222,0.631578947368421,0.5926605504587156,0.6666666666666666,0.0,0.4225352112676056,0.49645390070921985,0.5441176470588235,0.6286836935166994,0.586490939044481,0.42424242424242425,0.5801980198019802,1.0,0.391304347826087,0.0,0.5714285714285714,0.375,0.32142857142857145,null,0.4117647058823529,0.46,0.39285714285714285,0.4,0.2,0.2916666666666667,0.5714285714285714,0.4230769230769231,0.5,0.4827586206896552,0.6666666666666666,0.0,0.625,0.38461538461538464,0.5789473684210527,0.4,1.0,0.4375,0.4,0.37037037037037035,0.48936170212765956,0.375,0.4444444444444444,0.5364995602462621,0.5514018691588785,0.5092250922509225,0.36363636363636365,0.6073825503355704,0.5374087591240876,0.5170940170940171,0.47947214076246336,0.5430954587581094,0.39285714285714285,0.534466477809254,0.4986979166666667,0.5329768270944741,0.5,0.3458646616541353,0.5686274509803921,0.42424242424242425,0.5167050691244239,0.3954887218045113,0.15384615384615385,0.5714285714285714,0.42544459644322846,0.4756756756756757,0.48010610079575594,0.5473801560758083,0.5257731958762887,null,0.3883374689826303,0.4606741573033708,0.5307692307692308,0.3333333333333333,0.4586092715231788,0.5084033613445378,0.5007704160246533,0.47107438016528924,0.0,0.49487554904831627,0.7142857142857143,0.6050670640834576,0.4144486692015209,0.7054455445544554,0.48140975987606505,0.46701846965699206,0.4427645788336933,0.4230769230769231,0.4584717607973422,0.4605263157894737,0.44802867383512546,0.48291571753986334,0.609375,0.5789473684210527,0.4512987012987013,0.49271523178807947,0.5310492505353319,0.4889400921658986,0.5948275862068966,0.5495660118775697,0.42718446601941745,0.574468085106383,0.47,0.6666666666666666,0.4444444444444444,0.5605381165919282,0.5319148936170213,null,null,0.5274151436031331,0.7240506329113924,0.5,0.4552238805970149,0.5098039215686274,0.38461538461538464,0.4719626168224299,0.5371900826446281,0.5180180180180181,0.672566371681416,0.625,0.0,0.46153846153846156,0.5483870967741935,0.5153374233128835,0.559322033898305,0.2,0.4642857142857143,0.6666666666666666,0.3333333333333333,0.6,0.36363636363636365,0.4566929133858268,0.6428571428571429,0.29411764705882354,0.5354239256678281,0.4503311258278146,0.6,0.16666666666666666,0.5714285714285714,0.5121951219512195,0.5,null,0.49603174603174605,0.44166666666666665,0.35294117647058826,0.39316239316239315,0.43478260869565216,0.46808510638297873,0.5796610169491525,0.45454545454545453,0.6687898089171974,0.6,0.5454545454545454,0.3,0.15384615384615385,0.75,0.5714285714285714,0.47560975609756095,0.46875,0.5625,0.7441860465116279,0.6153846153846154,0.2,0.3333333333333333,0.6,0.5345911949685535,0.49122807017543857,0.35714285714285715,0.16666666666666666,0.9024390243902439,0.5,0.49056603773584906,0.6137879911045219,0.4465261514441842,0.4376417233560091,0.5047489823609227,0.4906015037593985,0.4525462962962963,0.47516198704103674,0.6110444177671068,0.47540983606557374,0.46006389776357826,0.6564299424184261,0.45161290322580644,0.4816326530612245,0.5380710659898477,0.4148936170212766,0.5642458100558659,0.46994535519125685,0.54,0.509594882729211,0.4586206896551724,0.5,0.4264705882352941,0.539568345323741,0.6353591160220995,0.4449648711943794,0.7142857142857143,0.6908077994428969,0.4090909090909091,0.5566037735849056,0.5253333333333333,0.44505494505494503,0.5551601423487544,0.49019607843137253,0.5151515151515151,0.35714285714285715,0.5422222222222223,0.0,0.5094339622641509,0.4657534246575342,0.4166666666666667,0.5443708609271524,0.46206896551724136,0.5623869801084991,0.5451713395638629,0.5285714285714286,0.5161290322580645,0.5528846153846154,0.375,0.4084507042253521,0.4634146341463415,0.5278969957081545,0.5849056603773585,0.3333333333333333,0.5454545454545454,0.2,0.5,0.5128205128205128,0.3333333333333333,0.5142857142857142,0.5714285714285714,0.6146788990825688,0.45454545454545453,0.44642857142857145,0.5306122448979592,0.42857142857142855,0.6486486486486487,0.5887850467289719,0.5,0.6333333333333333,0.4222222222222222,null,0.5202312138728323,0.5,0.0,0.7017543859649122,0.5,0.3333333333333333,0.5878787878787879,0.5,0.6285714285714286,0.5,0.25,0.4166666666666667,0.4833574529667149,0.48905109489051096,0.5424242424242425,0.3953488372093023,0.5347222222222222,0.6290322580645161,0.6575342465753424,0.5294117647058824,0.46405228758169936,0.5014492753623189,0.5153846153846153,0.5462555066079295,0.5428571428571428,0.4236842105263158,0.5862068965517241,0.4019933554817276,0.5122699386503068,0.5555555555555556,0.45021645021645024,0.4823008849557522,0.5588235294117647,0.5443786982248521,0.4147465437788018,0.3148148148148148,0.5263157894736842,0.44680851063829785,0.5454545454545454,0.3333333333333333,0.2857142857142857,0.5924855491329479,0.5777777777777777,0.4007220216606498,0.5833333333333334,0.40298507462686567,0.3333333333333333,0.3333333333333333,0.4657534246575342,0.42441860465116277,0.4823529411764706,0.75,null,0.5225225225225225,0.4444444444444444,0.4782608695652174,0.5,0.5365853658536586,0.18181818181818182,0.375,0.5131578947368421,0.5,0.5172413793103449,0.41935483870967744,0.49122807017543857,0.5277777777777778,0.42063492063492064,0.5720720720720721,0.4626865671641791,0.3333333333333333,0.6,0.48936170212765956,0.0,0.48663101604278075,0.44,0.7272727272727273,0.5953488372093023,0.6388888888888888,null,0.4444444444444444,null,0.46938775510204084,0.5238095238095238,0.5769230769230769],\"coloraxis\":\"coloraxis\",\"size\":[191.0,226.28571428571428,173.0,54.0,7.0,179.75,644.5,195.66666666666666,820.0,169.5,367.0,169.8,144.2,19.0,89.0,94.0,71.0,29.0,7.5,306.7142857142857,180.875,305.1666666666667,371.0,210.66666666666666,384.0,24.5,241.4,154.4,130.25,884.6363636363636,413.54545454545456,278.6666666666667,223.8,210.0,218.0,185.4,129.14285714285714,174.0,452.8888888888889,216.33333333333334,399.2,107.85714285714286,19.0,56.0,38.5,151.0,829.0,56.666666666666664,350.53846153846155,6.0,535.2,214.5,183.71428571428572,449.0,275.6666666666667,42.25,220.75,15.75,105.83333333333333,321.0,204.91666666666666,470.2857142857143,59.5,23.0,459.77777777777777,681.1666666666666,15.0,212.125,592.6666666666666,186.0,338.0,562.4545454545455,345.3333333333333,548.4166666666666,249.8,54.5,106.5,196.0,226.375,87.33333333333333,723.7272727272727,45.0,239.75,350.0,8.0,205.85714285714286,692.3333333333334,345.6,337.0,89.0,76.0,42.5,17.2,212.4,444.8333333333333,234.0,94.14285714285714,104.0,382.8,510.0,389.25,1006.9166666666666,335.25,67.4,280.5,702.1666666666666,55.0,109.0,143.8,223.14285714285714,42.0,104.85714285714286,32.0,49.0,579.75,781.5833333333334,280.8333333333333,739.1666666666666,63.0,36.0,594.9,207.28571428571428,307.8333333333333,442.0,52.75,515.25,43.25,197.6,177.75,147.0,376.5,144.54545454545453,94.0,35.0,293.6363636363636,104.83333333333333,168.5,328.3333333333333,344.3333333333333,243.6,1209.5,637.3125,467.4,82.66666666666667,192.33333333333334,489.625,396.0,137.33333333333334,770.3333333333334,228.3,7.5,87.5,228.0,246.0,33.0,430.0,129.0,43.0,36.333333333333336,83.0,367.375,503.6363636363636,893.8888888888889,462.5,534.1428571428571,143.0,5.0,148.0,78.0,424.5,31.0,177.28571428571428,350.77777777777777,66.66666666666667,408.2857142857143,174.0,45.0,474.6666666666667,64.66666666666667,206.28571428571428,248.66666666666666,70.2,330.375,22.0,310.0833333333333,107.0,141.33333333333334,400.90909090909093,213.66666666666666,603.7272727272727,491.6666666666667,396.25,165.5,25.0,171.77777777777777,135.8,573.3333333333334,149.5,153.0,93.0,152.0,605.1111111111111,427.3,218.5,399.4,334.0,570.7777777777778,513.5555555555555,209.75,305.0,99.0,928.2666666666667,208.0,29.333333333333332,435.0,41.0,464.3333333333333,459.0,512.1666666666666,124.0,302.0,741.5714285714286,132.5,237.0,38.0,147.5,675.8823529411765,7.0,148.5,500.1111111111111,34.0,350.3333333333333,322.6666666666667,235.58333333333334,604.4,94.0,138.25,287.8,188.5,177.75,491.70588235294116,140.9,676.25,68.0,47.0,104.0,341.6363636363636,61.0,79.0,296.90909090909093,71.5,354.7142857142857,390.75,27.0,338.1111111111111,130.0,198.625,658.8571428571429,229.22222222222223,281.3333333333333,130.14285714285714,37.0,239.55555555555554,559.3333333333334,130.8,120.16666666666667,414.6666666666667,141.11111111111111,196.33333333333334,196.76923076923077,8.0,15.0,341.5,430.4117647058824,101.66666666666667,127.0,205.25,990.15,209.0,81.33333333333333,540.0588235294117,47.333333333333336,221.4,744.6428571428571,19.5,108.0,521.0,388.75,21.0,213.33333333333334,640.5454545454545,125.0,2.0,391.5833333333333,6.0,11.0,256.5,39.0,5.0,156.0,661.2,1.0,654.5333333333333,232.0,517.8,533.8333333333334,241.2,398.8333333333333,427.6666666666667,262.3333333333333,657.4285714285714,265.6,60.8,174.0,161.25,68.0,1.0,84.25,508.25,188.2,655.5,53.0,151.5,296.6666666666667,455.0,423.1,407.875,11.0,1526.25,266.0,289.8,468.57142857142856,351.0,341.0,3.0,442.6,258.625,276.8,382.09090909090907,62.333333333333336,534.25,210.0,102.0,546.0,140.5,494.0,183.125,27.0,312.6,388.6,577.3333333333334,459.9230769230769,112.14285714285714,3.0,69.0,42.0,104.4,188.8,468.77777777777777,286.3,479.0,500.3333333333333,10.0,8.0,4.0,1180.2142857142858,469.94117647058823,916.4166666666666,790.4615384615385,640.3333333333334,870.5833333333334,426.46153846153845,562.375,201.5,348.6875,149.2,310.72727272727275,497.3888888888889,321.7,349.42857142857144,146.8,34.0,198.0,332.6666666666667,312.55555555555554,90.0,107.5,162.0,332.5,75.75,377.45454545454544,1032.7,486.61538461538464,607.2222222222222,672.3846153846154,51.0,130.0,180.77777777777777,55.0,15.5,59.27272727272727,14.75,309.61538461538464,22.5,159.4,100.5,38.833333333333336,18.0,339.4,83.0,13.333333333333334,305.85714285714283,32.0,96.16666666666667,23.0,11.0,105.0,42.0,25.333333333333332,109.66666666666667,124.0,34.0,53.0,19.0,250.66666666666666,64.5,3.0,9.0,13.5,46.5,17.0,249.88888888888889,73.0,31.5,154.5,141.16666666666666,0.0,175.0,79.5,3.3333333333333335,21.0,314.27272727272725,23.0,10.0,73.5,2.0,156.0,4.0,156.0,335.625,147.66666666666666,7.0,10.0,13.0,413.5,215.0,10.0,64.5,31.0,3.0,96.5,438.0,120.0,3.0,17.75,58.0,180.0,34.5,83.0,262.0,3.6666666666666665,30.0,99.0,185.2,227.0,15.0,2.0,206.07692307692307,12.0,12.0,106.0,1061.3684210526317,667.1111111111111,393.4117647058824,304.2307692307692,308.07142857142856,695.375,408.6923076923077,230.33333333333334,814.3333333333334,252.2,275.0,199.75,366.54545454545456,585.0,220.3,398.1666666666667,59.333333333333336,235.0,157.8181818181818,14.5,252.22222222222223,148.0,387.8333333333333,115.0,88.4,95.2,229.83333333333334,73.0,60.5,16.0,38.5,110.0,26.0,35.0,378.42857142857144,79.5,246.0,15.0,524.9285714285714,350.8,56.0,224.0,365.1111111111111,482.75,170.14285714285714,83.0,434.22222222222223,20.0,179.33333333333334,155.66666666666666,156.23076923076923,5.25,69.5,141.0,25.0,2.0,65.5,5.0,15.666666666666666,9.0,90.0,85.88888888888889,149.0,65.4,267.72727272727275,106.66666666666667,43.0,176.23076923076923,19.0,10.0,107.0,19.0,6.0,27.666666666666668,456.55555555555554,600.9285714285714,346.6,853.6875,689.5909090909091,250.0,326.25,577.2307692307693,882.0952380952381,718.3684210526316,542.8,283.0,390.0,421.4,505.3636363636364,115.33333333333333,425.6666666666667,32.0,195.6,260.6666666666667,566.3333333333334,172.35714285714286,260.3636363636364,281.75,533.75,70.0,176.0,153.75,273.94444444444446,85.5,498.4,490.875,118.375,140.57142857142858,28.285714285714285,148.55555555555554,8.0,9.0,325.09090909090907,6.0,646.5454545454545,3.0,206.0,50.27272727272727,105.5,48.0,0.0,43.5,186.0,58.75,177.5,59.25,112.4,91.0,20.0,41.0,119.63636363636364,1.0,468.85714285714283,2.0,3.0,4.0,2.0,9.0,28.0,416.75,10.0,9.0,173.0,32.0,198.3846153846154,17.0,1.0,7.0,298.15384615384613,12.5,0.0,72.5,79.0,50.5,774.3529411764706,731.4444444444445,599.3846153846154,590.5,115.5,574.0,839.8571428571429,718.5882352941177,791.625,503.94736842105266,104.0,13.0,538.4285714285714,86.0,462.5882352941176,130.66666666666666,260.3333333333333,118.25,292.5,223.6153846153846,429.45454545454544,192.1818181818182,419.38461538461536,25.333333333333332,339.6666666666667,229.25,126.75,14.0,36.0,70.11111111111111,49.0,85.25,103.8,65.8,97.25,81.0,21.0,406.5,166.77777777777777,392.8333333333333,4.0,262.25,16.0,256.6,39.0,387.9375,31.5,6.0,329.8,0.0,299.3333333333333,60.0,0.0,188.0,270.0,71.0,3.0,15.5,40.6,66.66666666666667,81.0,516.6,399.55555555555554,548.7142857142857,404.3333333333333,284.52941176470586,151.0,339.75,504.4,124.6923076923077,236.84615384615384,64.0,192.66666666666666,477.0,92.33333333333333,144.6,385.8666666666667,628.1,313.3076923076923,305.5833333333333,362.14285714285717,351.3636363636364,195.0,299.84615384615387,89.0,169.0,39.6,253.5,37.5,90.88888888888889,179.25,300.57142857142856,100.5,82.33333333333333,153.11111111111111,227.0,41.0,36.0,271.0,44.0,322.5,33.666666666666664,554.5,81.25,73.75,141.11111111111111,3.6666666666666665,46.0,6.0,18.0,440.0,81.5,22.0,185.42857142857142,204.0,40.0,42.714285714285715,1.0,5.0,234.9,104.0,42.5,122.71428571428571,16.0,19.0,256.5833333333333,313.3157894736842,846.8333333333334,430.1818181818182,641.3846153846154,274.2307692307692,302.2,97.58333333333333,291.25,728.7058823529412,83.25,217.58333333333334,490.1764705882353,401.8333333333333,164.0,25.0,88.6,169.23076923076923,885.0,307.3076923076923,20.5,88.5,70.66666666666667,261.0,442.07142857142856,413.9230769230769,286.8181818181818,790.3888888888889,164.0,46.0,276.5,228.77777777777777,3.0,81.0,353.44444444444446,524.8181818181819,23.0,134.0,89.9090909090909,29.333333333333332,28.5,502.5,276.0,15.5,259.7,72.5,81.5,37.0,12.666666666666666,149.5,163.5,20.0,239.71428571428572,318.22222222222223,12.333333333333334,29.0,18.0,49.0,119.0,28.0,110.25,162.93333333333334,62.0,3.0,18.0,47.0,804.375,483.0,364.4,506.64285714285717,110.75,170.0,445.1764705882353,351.45454545454544,777.2857142857143,603.4285714285714,221.45454545454547,188.77777777777777,66.5,238.85714285714286,161.16666666666666,234.0,345.85714285714283,113.5,74.66666666666667,197.71428571428572,130.75,154.0,609.4285714285714,497.0,60.333333333333336,384.0769230769231,85.0,165.33333333333334,26.5,138.4,350.0,209.2,862.0769230769231,180.0,9.0,334.0,83.0,410.125,131.25,246.92857142857142,21.4,3.0,360.625,243.53846153846155,51.0,717.1,1.0,31.0,131.0,67.0,236.33333333333334,12.0,183.27272727272728,0.0,24.0,150.66666666666666,258.2,386.0,254.875,1.0,23.0,41.5,182.15384615384616,30.0,1103.6666666666667,259.6,969.1111111111111,897.7692307692307,983.9375,538.3846153846154,415.38461538461536,473.0,290.5,323.14285714285717,191.1,288.85714285714283,166.625,427.4166666666667,40.666666666666664,14.0,153.33333333333334,753.6,176.1,185.69230769230768,449.85714285714283,119.33333333333333,335.6363636363636,155.22222222222223,226.625,17.0,228.92857142857142,346.64285714285717,513.2,74.33333333333333,219.11111111111111,189.1,100.0,187.3846153846154,1.0,3.0,349.0,345.5,158.0909090909091,153.75,495.0,9.0,76.14285714285714,209.58823529411765,93.0,17.0,3.0,77.5,349.4,296.8888888888889,238.57142857142858,2.5,0.0,32.5,82.83333333333333,5.0,28.0,20.0,78.16666666666667,8.0,160.0,20.5,30.0,1.0,202.25,159.42857142857142,89.0,4.0,688.7647058823529,586.5,561.0,310.42857142857144,367.6,283.75,618.3333333333334,127.0,443.47058823529414,36.5,240.7,85.0,282.0,330.61538461538464,877.0,208.75,743.7692307692307,330.4375,201.54545454545453,397.0,1.0,129.75,53.0,319.875,357.35714285714283,485.6666666666667,130.6,352.9230769230769,176.5,250.5,131.0,10.0,76.0,57.0,6.0,93.5,108.2,183.55555555555554,142.33333333333334,305.88235294117646,159.0,27.0,63.333333333333336,43.0,52.5,19.0,54.42857142857143,36.0,3.0,363.0,63.0,52.666666666666664,47.0,4.5,1.0,19.5,16.0,41.333333333333336,83.625,43.0,253.0,84.66666666666667,62.0,16.333333333333332,36.5,27.0,397.14285714285717,398.53333333333336,681.875,510.42857142857144,199.5,363.27272727272725,303.7692307692308,159.33333333333334,639.0,429.625,17.0,173.75,337.75,164.83333333333334,266.0,502.8,239.83333333333334,439.625,12.5,323.27272727272725,451.0769230769231,203.2,210.66666666666666,262.625,281.8,251.14285714285714,183.66666666666666,71.5,711.3333333333334,213.66666666666666,147.0,422.25,235.26666666666668,356.7692307692308,160.0,60.6,102.33333333333333,861.5833333333334,140.0,38.0,3.0,1.0,480.0625,37.0,141.33333333333334,529.1111111111111,411.625,57.0,69.0,13.5,124.0,297.7142857142857,512.3333333333334,33.5,24.0,138.5,29.0,97.66666666666667,192.5,298.57142857142856,121.0,35.125,0.0,64.0,140.125,30.0,132.6,1.0,36.333333333333336,24.5,277.5,12.8,34.0,26.0,112.66666666666667,47.5,3.0,66.66666666666667,5.333333333333333,23.0,18.0,22.0,2.0,246.8,190.0,52.0,4.0,88.875,62.5,206.0,490.5,1050.0,292.3333333333333,323.25,211.16666666666666,654.0,339.3636363636364,733.9333333333333,39.25,27.333333333333332,284.8,114.33333333333333,199.71428571428572,351.75,57.0,201.6,114.28571428571429,86.33333333333333,117.66666666666667,109.5,469.6,178.75,260.5,388.46666666666664,224.77777777777777,189.3,210.2,36.25,162.75,151.0,37.333333333333336,34.54545454545455,79.5,54.5,227.8,363.3333333333333,85.5,10.0,124.0,18.5,175.28571428571428,8.0,147.0,47.5,632.6666666666666,189.4,117.6,16.5,3.0,73.5,36.0,25.0,88.16666666666667,143.0,136.5,113.33333333333333,172.5,229.0,58.0,62.0,38.5,37.0,311.07142857142856,36.0,12.0,127.33333333333333,4.0,25.0,36.5,3.0,26.0,8.0,10.0,20.0,20.0,4.0,82.0,30.5,184.0,934.6923076923077,610.3571428571429,514.7142857142857,551.3076923076923,357.4,349.2307692307692,208.3,350.61538461538464,433.7,130.5,722.8571428571429,183.5,690.75,594.9,346.3333333333333,111.75,286.84615384615387,233.0,282.54545454545456,137.33333333333334,210.71428571428572,401.8333333333333,176.5,29.666666666666668,326.0,402.54545454545456,274.0,49.333333333333336,429.77777777777777,40.0,11.0,80.0,444.5,80.0,126.9090909090909,50.0,5.0,58.0,5.0,71.0,151.83333333333334,649.3076923076923,123.0,0.0,14.0,8.5,443.72727272727275,67.0,77.6,25.5,17.0,14.5,235.4,93.6923076923077,16.333333333333332,3.5,28.75,12.0,306.0,5.5,12.0,20.0,10.0,227.0,528.0909090909091,532.5,710.8333333333334,1099.3076923076924,497.46153846153845,336.75,366.46153846153845,102.0,300.0769230769231,694.3846153846154,254.36363636363637,526.625,173.44444444444446,235.16666666666666,463.15384615384613,409.9,624.1111111111111,333.6923076923077,504.375,177.28571428571428,253.5,359.0,297.54545454545456,581.1666666666666,316.46153846153845,336.38461538461536,294.6666666666667,224.75,114.0,26.5,422.8333333333333,9.0,66.25,276.44444444444446,401.6923076923077,224.25,257.4166666666667,61.666666666666664,246.5,175.66666666666666,57.0,60.0,3.0,505.38461538461536,70.0,56.5,85.66666666666667,17.0,6.0,92.5,271.44444444444446,103.0,16.0,1.0,55.2,93.0,51.0,31.333333333333332,4.0,213.0,201.5,1.0,73.14285714285714,132.0,828.8181818181819,64.2,660.9166666666666,643.0,406.2,343.3333333333333,563.0,338.875,1044.3333333333333,494.55555555555554,219.5,543.625,304.85714285714283,145.83333333333334,145.83333333333334,278.1666666666667,649.1666666666666,513.125,501.4166666666667,161.0,532.7,244.2,203.6,186.5,514.3333333333334,215.0,186.66666666666666,181.125,118.5,45.0,85.66666666666667,124.0,315.1,47.25,272.75,337.42857142857144,80.33333333333333,233.55555555555554,215.33333333333334,189.1,170.55555555555554,369.0,227.71428571428572,227.0,169.91666666666666,8.0,125.66666666666667,129.5,197.0,38.0,162.36363636363637,15.0,9.0,3.0,31.0,12.5,340.1666666666667,217.125,31.0,109.71428571428571,14.0,59.0,104.0,3.0,115.0,31.5,792.1,541.4,549.9090909090909,245.0,843.4,163.0,720.2222222222222,273.3636363636364,508.3636363636364,592.6363636363636,103.125,156.2,282.54545454545456,225.0909090909091,231.66666666666666,76.75,330.14285714285717,483.54545454545456,383.90909090909093,133.0,17.5,71.0,344.625,35.25,68.66666666666667,108.28571428571429,348.1666666666667,302.42857142857144,34.0,41.333333333333336,23.0,27.25,469.6666666666667,64.5,209.5,7.0,3.0,217.0,313.1111111111111,33.5,59.0,63.5,0.0,25.5,92.0,5.0,20.0,87.71428571428571,5.0,66.0,5.0,117.0,156.4,280.375,259.7142857142857,337.3333333333333,15.0,176.0,376.09090909090907,111.0,40.0,60.0,3.0,93.5,45.666666666666664,8.0,151.44444444444446,8.0,21.0,7.666666666666667,19.0,717.0,318.0,600.3,481.5,596.1111111111111,167.66666666666666,260.6,432.75,711.2,127.16666666666667,691.5,325.4,490.5,405.0,582.9,851.7,168.0,146.0,641.8,192.33333333333334,110.5,495.5,274.4,461.5,211.0,91.0,121.0,305.0,307.7,618.6,465.2857142857143,8.0,198.16666666666666,229.5,15.0,152.0,48.0,307.44444444444446,116.0,205.25,71.5,95.6,34.0,195.0,48.333333333333336,37.333333333333336,14.0,1.0,36.5,290.5,35.0,39.8,280.4,433.0,13.0,71.0,77.0,8.0,13.0,3.0,39.5,6.0,5.0,7.75,101.0,14.5,180.0,78.6,176.33333333333334,2.0,982.7777777777778,372.75,771.6666666666666,431.25,271.0,786.3333333333334,318.0,802.3333333333334,584.6666666666666,313.77777777777777,127.66666666666667,323.22222222222223,110.75,322.625,254.66666666666666,1.0,281.125,275.8333333333333,249.2,411.44444444444446,433.4,6.0,64.33333333333333,27.75,257.5,197.28571428571428,86.0,113.66666666666667,67.66666666666667,178.66666666666666,264.8,50.0,257.6666666666667,325.44444444444446,58.666666666666664,113.0,64.33333333333333,568.0,377.22222222222223,76.5,98.0,200.33333333333334,62.0,119.0,67.0,23.0,62.5,244.625,11.0,73.0,21.5,3.5,104.5,182.0,12.5,213.5,30.5,137.5,109.0,62.75,226.0,295.77777777777777,29.5,0.0,244.2,208.25,107.0,5.0,22.0,4.0,177.66666666666666,62.0,101.5,183.0,189.75,2.0,256.7142857142857,10.333333333333334,29.666666666666668,61.0,3.0,14.0,242.55555555555554,344.57142857142856,353.5,184.57142857142858,109.71428571428571,125.75,166.25,219.5,73.0,9.0,677.5,352.5,617.125,191.625,4.5,61.5,357.75,103.16666666666667,14.0,9.0,92.0,312.125,383.75,46.4,421.375,375.375,114.75,127.66666666666667,303.625,32.0,234.66666666666666,114.25,39.0,210.25,470.625,320.4,235.5,494.875,378.0,11.0,150.75,341.25,8.666666666666666,571.875,893.625,44.333333333333336,28.0,11.0,63.5,10.0,105.33333333333333,155.57142857142858,21.0,64.66666666666667,9.0,146.625,134.375,156.33333333333334,133.5,205.75,41.5,53.5,123.0,67.0,155.0,1.0,176.71428571428572,110.5,0.5,8.0,3.0,23.5,72.85714285714286,130.4,0.0,329.25,49.666666666666664,31.0,0.0,17.5,69.0,136.5,10.0,21.0,1.5,15.5,172.33333333333334,122.5,565.7142857142857,138.75,116.33333333333333,549.5714285714286,160.0,609.8571428571429,30.5,144.66666666666666,54.0,26.0,108.0,340.85714285714283,263.14285714285717,169.2,312.42857142857144,33.0,186.5,77.5,141.42857142857142,18.25,388.85714285714283,206.14285714285714,268.57142857142856,86.5,185.0,467.14285714285717,499.85714285714283,20.0,273.14285714285717,253.0,243.85714285714286,92.5,156.28571428571428,710.2857142857143,4.0,24.5,120.0,58.75,14.333333333333334,5.0,936.1428571428571,415.14285714285717,696.6,28.0,91.0,117.5,0.0,130.66666666666666,33.75,26.666666666666668,22.5,18.0,392.0,0.0,496.85714285714283,372.75,470.85714285714283,24.0,28.714285714285715,794.8333333333334,585.8,12.0,43.0,242.85714285714286,2.0,24.5,121.85714285714286,196.0,1.0,102.0,219.71428571428572,16.0,190.57142857142858,2.0,11.5,7.0,16.0,29.0,9.0,1.0,400.6666666666667,331.5,438.8,218.0,10.0,105.0,26.333333333333332,537.6666666666666,173.0,12.333333333333334,242.0,11.0,158.75,517.0,836.8333333333334,332.6666666666667,274.3333333333333,464.6666666666667,378.1666666666667,287.8333333333333,819.3333333333334,134.16666666666666,483.1666666666667,232.5,214.66666666666666,180.6,421.8333333333333,145.5,71.0,190.6,40.333333333333336,22.5,39.0,338.3333333333333,353.1666666666667,286.3333333333333,5.0,65.5,171.25,119.6,44.666666666666664,107.83333333333333,246.6,384.3333333333333,58.0,97.33333333333333,83.5,304.5,5.0,242.8,80.0,37.0,142.5,279.75,5.5,123.33333333333333,168.66666666666666,5.0,14.666666666666666,79.0,105.75,6.333333333333333,2.0,1.0,109.0,0.0,1.0,30.5,219.5,48.5,27.0,38.666666666666664,24.0,788.5,91.75,630.4,44.333333333333336,202.0,231.6,111.0,284.4,36.0,473.4,645.6,7.666666666666667,24.0,75.8,196.75,416.6,115.8,492.25,563.4,296.6,292.0,7.0,13.0,254.33333333333334,176.25,31.0,54.666666666666664,510.0,191.8,8.5,481.6,164.5,93.5,6.0,21.5,32.0,104.2,78.8,63.4,6.0,6.0,29.4,31.333333333333332,162.0,549.8,19.0,213.5,76.66666666666667,1.0,118.5,127.4,156.66666666666666,2.0,186.0,125.75,45.0,36.0,8.5,157.5,144.66666666666666,5.0,103.6,36.5,301.6,170.6,292.6,71.0,123.0,101.75,90.0,27.0,16.5,101.5,23.0,85.75,216.2,19.333333333333332,4.0,82.0,4.0,89.0,12.0,2.0,19.0,20.0,38.0,152.6,155.0,133.75,15.0,51.0,166.4,80.75,10.0,14.0,244.0,258.5,467.0,733.5,727.0,227.25,227.33333333333334,342.75,184.25,355.75,830.5,217.5,168.0,548.0,189.0,12.25,236.75,221.66666666666666,456.75,6.0,593.0,61.0,68.75,87.33333333333333,105.0,56.5,111.5,101.5,174.5,510.75,4.0,66.0,241.75,202.66666666666666,47.666666666666664,174.25,51.0,253.75,16.0,80.25,144.75,112.0,36.5,59.0,476.5,157.5,67.0,202.75,20.0,281.75,16.5,177.5,75.0,129.75,24.0,6.0,9.0,23.0,64.25,35.5,48.0,19.0,136.25,3.0,2.0,142.0,70.5,34.0,254.5,151.75,198.0,126.25,1.0,11.5,3.0,7.0,24.0,14.0,0.0,17.0,50.0,28.0,5.0,10.0,24.0,4.666666666666667,104.0,15.0,14.5,33.0,1.0,8.0,6.5,19.0,55.0,2.0,16.0,5.0,27.0,109.66666666666667,5.333333333333333,9.0,379.0,178.33333333333334,90.33333333333333,5.5,298.0,365.3333333333333,312.0,227.33333333333334,359.6666666666667,84.0,353.0,256.0,187.0,2.0,66.5,102.0,16.5,578.6666666666666,221.66666666666666,13.0,7.0,243.66666666666666,308.3333333333333,125.66666666666667,299.0,32.333333333333336,0.0,268.6666666666667,89.0,130.0,3.0,201.33333333333334,79.33333333333333,216.33333333333334,121.0,1.0,227.66666666666666,7.0,335.5,87.66666666666667,269.3333333333333,860.6666666666666,126.33333333333333,154.33333333333334,13.0,150.5,25.333333333333332,186.0,219.5,85.33333333333333,139.33333333333334,205.33333333333334,377.5,155.66666666666666,723.3333333333334,696.0,729.6666666666666,34.333333333333336,23.5,50.0,3.0,18.0,111.5,47.0,0.0,0.0,191.5,131.66666666666666,53.0,134.0,484.5,13.0,214.0,121.0,74.0,56.5,8.0,1.0,13.0,31.0,81.5,19.666666666666668,5.0,28.0,6.0,21.0,2.5,22.0,63.5,65.33333333333333,8.5,430.5,50.333333333333336,70.0,3.0,7.0,20.5,6.0,0.0,126.0,80.0,17.0,39.0,23.0,47.0,98.33333333333333,16.5,78.5,5.0,22.0,10.0,13.0,8.0,35.0,41.0,32.0,32.0,21.5,13.0,2.5,12.0,37.5,159.0,57.0,7.0,6.0,20.5,10.0,26.5,674.5,640.5,220.5,737.0,266.0,432.0,231.5,416.5,152.5,469.5,260.5,186.0,367.5,295.5,47.0,89.5,183.0,25.0,234.5,290.0,16.0,34.0,139.0,90.5,213.5,14.0,179.5,22.0,53.0,187.5,91.0,140.5,25.5,16.5,7.0,112.5,4.0,106.0,73.0,12.0,377.5,217.5,276.5,160.5,35.0,31.0,104.0,24.0,35.5,20.5,116.5,53.0,12.0,11.0,5.0,64.0,19.5,1.5,35.0,17.5,54.5,11.0,28.0,24.5,7.0,18.5,53.5,2.0,45.0,22.5,0.0,86.5,74.0,2.0,28.5,49.0,3.0,82.5,22.0,17.5,2.0,12.0,12.0,691.0,411.0,330.0,129.0,144.0,124.0,146.0,323.0,153.0,345.0,390.0,227.0,70.0,380.0,29.0,301.0,326.0,9.0,231.0,226.0,68.0,169.0,217.0,54.0,19.0,47.0,33.0,18.0,7.0,346.0,45.0,277.0,72.0,201.0,27.0,30.0,73.0,172.0,170.0,8.0,0.0,111.0,27.0,23.0,8.0,41.0,11.0,16.0,228.0,14.0,58.0,62.0,57.0,36.0,126.0,222.0,67.0,3.0,45.0,47.0,1.0,187.0,25.0,11.0,430.0,36.0,0.0,99.0,0.0,49.0,84.0,52.0],\"sizemode\":\"area\",\"sizeref\":3.815625,\"symbol\":\"circle\"},\"mode\":\"markers\",\"name\":\"\",\"showlegend\":false,\"x\":[-0.027767833055048284,-0.5332497867044153,-0.020163927773651925,-0.08190854709428351,-0.43003434579232064,-0.8846847233871169,0.3435193911804016,-0.9327441950848288,2.4811721291522995,-0.033399199866752854,0.17950266826838232,-0.8700663425203906,-0.5366178300274781,-1.1435058228067039,0.38819242076402377,-0.5865178962058072,-0.2553728075764085,-0.3547363015625441,-0.5526219940531918,-0.3899326545898273,-1.055660508393597,-0.3006054096516639,0.038910319416181886,-0.8756559108631602,-0.01972208362863184,-0.6577609364464534,0.06748741109859098,-0.10433802577332009,-0.951724667328606,6.424801219603814,1.1875806310045962,-0.1519024418360529,-0.37126749376686013,-0.0023601579582255834,-0.09426217487505109,-0.6568322104305372,-0.5958650856417601,-0.5907814814406624,0.6660235736333991,-0.0027399897437542903,0.4042688542977284,-1.8716144080963695,-0.09505700621809282,-0.2688514240798891,-0.6087884312574832,-0.2166043340365586,3.868116697439637,-1.8695961844171483,2.024617135822441,-0.4220191917018889,1.5899260024359572,-0.9403614978260243,-0.12514084351506854,0.45211426053342585,-0.03911296657033765,-1.2713216110878365,-0.8586958079315556,-0.780501810502223,-0.7293873278754067,0.10868684024081134,-0.9683484305811224,0.5060059799123299,0.6572117535910964,-0.2823300405833709,1.6160048727884566,0.8827335662175264,-0.061600949900469236,-1.18549711917805,2.8802462992392392,-0.3439829332329062,-0.03729179536185871,2.499231536800625,0.3620858840851601,2.504549768746651,-0.17183898523748747,-0.8129556129090914,-0.610579987661818,-0.21273873561844123,-1.4899571776760703,-1.6875831205311984,4.489933696542136,-0.7410122869639212,0.07052164284008626,0.09800594537127348,-0.3111298415987135,-0.6647601138358441,1.0620929733788411,0.15442297443555883,-0.13184227321538308,-0.13223428654804487,-1.0264257931009024,-0.018839378099752484,-1.5685657285831593,-0.11382467277008622,1.0317888354420126,-0.9615949685620949,-1.9193630856905661,-0.2764875797587975,0.020993557060213296,0.7561513015905806,0.0359603277663928,3.0220623930690333,0.07847373288535198,-1.656378044235377,-0.5257922113855162,2.375998574974614,-0.14013234451227816,-0.6573841591685912,-1.1554722287167822,-0.17654980236450363,-0.2710978601638065,-0.713242978379674,-1.0651541351198643,-0.473481864213235,0.7863251820640708,4.909072219085777,0.17180714444858722,2.084412443484274,-0.04817621392496404,0.5384985194373466,2.357062804737628,-0.6484894986961791,0.39816975016052536,0.898761322528751,-0.4968798793938049,1.9037953708957551,0.04485977981496305,-0.8114402274195899,-0.2870349322200064,-0.5047271537472244,0.9872516755233934,-2.1196141534783774,-0.32662993223113773,0.1970706036721514,0.20102343043537155,-1.5940309396200556,-0.20237414113717625,0.1531046649492818,0.22603602416441818,-0.6583581248015273,3.035411353923216,-0.003651760788212383,1.7165395245057182,-0.10253509287087076,-0.4040014144463934,1.5416087969138517,0.40525138115866716,-0.48830543095716356,3.406142099359468,-0.7505686613857019,-0.009120342979947493,-1.3848844200368824,-0.6470124759398693,-0.472808401762873,-0.43294764483659304,0.5671329593372915,-0.23235740338181868,-0.2030858394243095,-1.082588175598681,-0.2972547215832557,0.4894437804471085,2.5664586807145957,2.0453728447209447,0.9978911612434573,0.4827152976713502,-1.040400421519127e-05,0.3733753388956555,0.14791295920186506,-0.04749454274193774,0.5754071588723126,0.2477560568020122,-1.151732299489558,0.20970749309822115,-0.017030366275934627,1.5593286322705797,-0.20639847610124815,-0.41209560539547235,1.5219359810421322,-0.5796345675629055,-0.4757248090365317,-0.003192944159252428,-1.164414241276388,0.3728154454107369,-0.4418842331685171,0.6352053806598353,-0.5904089907025295,-0.47263341961878685,0.6956224076137701,-0.7156003080903754,2.5477610183254846,1.915984980055622,0.31665690131070545,-0.7005937048669238,-0.8748237869251673,-1.3878416234213793,-1.0403953625192777,0.054786986836623426,-1.2748460127060752,-0.050970996214730405,-0.8890194688392046,-0.9173014775889101,2.545372933529634,-0.016174370513912475,-0.9001475156829962,1.3785728717581012,-0.002163409070357155,2.648547127841394,1.5002320931588649,-1.1474676874511789,-0.3242727040875167,-0.22167626631771792,7.970318741724279,0.17558558146921097,-1.2707606258140935,0.6027556727290364,-0.6135311280564631,0.3472369214206077,1.371451661482306,1.3879705943691405,-0.5786396658131047,0.2594842548905291,3.0042093068294307,-1.115344621308827,0.0140890548718641,0.5132242575122463,-1.0471454596365202,2.1455410821870857,-0.05669710371285724,-0.679744933480305,-0.7195004567190626,-1.2911773891728788,-0.07806619108709956,0.014613868494418421,-0.4286498520795978,1.0125154881951508,-0.3477938152883902,-0.8151452266935901,-0.6380754868071566,-1.538173912240684,-0.6968263028099675,1.8000483467071788,-1.624567370984337,2.34685867268659,0.28744284835034134,0.3620482066324487,-1.3793301379597842,-0.30848393146263897,-1.3308372789467198,0.2849154221578345,-0.8697817474396429,0.6247367414779692,-0.7975106406752982,0.13258965808246306,-0.879774797751323,0.135229989248376,0.054848417936377035,-1.2419006374584127,-2.004644686014832,-0.5012765987812442,-0.9301285806609135,-0.38167825666735344,0.3455736507780592,-1.0367057054918392,-1.377752555241131,-1.152222666466944,-1.1605088072858207,0.2767100935454524,-0.8023090180955217,0.0006412470208948918,-0.44923948727980534,-0.05669710371285724,0.3582107817406057,0.17886173041694506,4.204978143525621,0.30604798208307826,0.25458630784771985,-0.025163081336657452,2.05765126809334,0.18381837445745405,0.7301540674911513,-0.6465630218181059,0.33181228315389333,0.2753403914211936,1.376861017285727,-0.7255948086880203,-0.3316663104082887,1.0929487269408567,-1.0946692344774458,0.3506285031630693,-0.1382684657935297,0.25453623692420674,-0.3661650863241411,-0.05771961048740682,1.3795303554515985,0.41617747987300285,0.2983172160651356,-0.6796728068861976,0.2037679680584917,0.21850216970841083,0.2592936849460468,-1.7751134701830278,-0.24678865112216194,1.098336839245382,-0.7892348943189338,1.42898648959272,-0.6486178231392814,-0.008805890756251433,0.5368786095785515,-0.9502725519657103,-0.14912488300719404,1.7138189230303287,-0.016741597317512243,-0.4143459288104862,-0.03488362585585782,-0.7540640315227027,-0.06605780345215655,-0.31660217061864987,-1.042255487003898,2.3582020593281148,-0.10246769047810861,2.080608105688,-0.02867856348731436,-1.038288296044546,0.10850618053827858,0.6074459138014912,0.6807372235389697,0.7068398513153351,-0.17034142818635345,2.303549992150666,0.017570851205113105,0.12469995864295012,1.4649273904611873,0.15490899393920152,0.11271825355528088,-0.3147780609453377,0.5382977763206145,-0.34292326779843285,0.4410284158101278,1.7078144589630064,-0.65257894592703,0.41310367418479266,0.12885380408684338,-0.22392270240162732,1.2515135602989782,-0.8560603678272528,0.7990727166930746,-1.162700981297709,-0.3924284900879991,-0.16822611735911697,0.34443507786465244,2.683643159570622,0.9108485493338374,-1.2874176847088645,-0.4353777818526009,-0.07804135323434007,-0.3284054343199487,-1.5661082195505092,-0.6673319274899183,1.6775783000274926,-0.08193112761085154,1.5871157666921156,0.8149898575741615,-0.17034142818635345,-0.008057062161961235,-0.17411756364561146,2.6337460662329675,0.41936864754251507,-3.4551470017519703,-3.397745067145581,1.229202038269551,-2.883963957741162,-0.40470155648841705,-0.9877129661614968,-0.8698753787435805,0.5911385337910158,0.553240344426445,-2.30385891358142,4.218973844612506,-0.3633856335699503,-1.4776107774541951,-1.0911813797369097,0.3416886585529797,-0.046346431805476256,1.1996604855435142,0.600002486532095,0.7520535206927915,0.5059477104300337,-0.4570982441449276,0.2936776523747937,1.0258868792730456,1.4891707418574902,2.851145118179588,-1.6436629482859364,-1.1624594627517286,4.229311811047905,-0.2874164158456122,0.4519054256224814,-0.262881759005602,0.32702338277092563,0.6088778358160643,-0.8986044002654721,0.19563658830563388,0.6851784807934331,0.5494818100209315,0.6802411147421648,0.574824823417025,-1.2001520808275554,0.3607382079331123,-0.41927989962968815,0.6401371675401979,0.5114588013616622,-0.6410333025975016,-0.02083833647845925,-1.4532229953792006,0.7304678617665704,-0.3111298415987135,-0.8297184530666043,-0.18587843133063622,-0.7970799145766372,-0.272379753085702,-0.3098070344360484,0.38115265601146436,-0.7607078930208199,-0.296762881317275,0.05561583669141801,-0.6740718413170016,-0.0573787748958931,-0.42736262776216966,0.7756023903981129,-0.6558884466868812,0.20778638669028682,-0.7362265891298314,-0.13509749723325892,0.06391540383665319,-1.1553186365871153,-1.1380524394043623,-0.4421037495825927,0.18634580064996625,-0.5451392434135788,-0.803237094811014,0.3005571116375621,-0.5795610969345457,-0.3684076443345774,-0.30930573192538624,-0.3260302736524549,-0.0573787748958931,-0.5247505087185448,0.3733753388956555,-1.1638195420931725,1.8506521194320524,-1.03850476485446,-0.4190060925200548,-0.05669710371285724,-0.056015432529825465,0.06245625262795328,-0.1844643968737176,-0.7452599092224343,-0.3385970970455743,0.33293651981551303,-0.31295395127202646,-0.31911258966209594,0.48106727704114055,-0.30703069088085505,-0.31660217061864987,-0.4818541968414735,-0.37956992610957346,-0.15812026126132933,-0.8401651073463313,-0.000554449483635942,0.4018751457551822,-1.1861100200949708,-0.2965369642121875,-0.2454618933593612,-0.6292533741958791,-0.5618572387532407,-0.0506016134180947,-0.31378014575815283,-0.8711769459342451,0.21180480532207888,-0.23728803988349886,-0.34705233790359763,2.4544018769677227,-1.3249081949825692,1.671930737089033,-0.09803292385190845,-0.458003201786729,-3.546924987214268,-1.3804458980783942,-0.6227756273281249,-4.657218208498279,-1.455927389428268,-0.8636288668082187,-1.1141602501469399,-0.9868095486800778,-2.381119741812129,-0.4419862338073827,-0.3011536932945731,0.8293204812224346,0.3903535024932448,-1.1274399878261272,-0.22606100921462208,1.6286675836748181,0.510611302640301,0.0739827266950088,0.24006734241343755,-0.1046214069710754,-0.1334702611019765,-0.023695143137720535,0.6682363615282081,0.6530341669488591,0.7585076556684359,0.41807994257546865,0.27289410953037374,0.34304622458553846,0.34304622458553846,0.14950749562623555,0.5915826951049477,-0.501226178578729,0.39388895559747317,2.1447575667889733,-0.6477099973743167,0.2711294717169202,0.20503386688037142,0.4170066652893766,0.2656712850569538,0.20881442567950664,0.49323527755337426,2.1508314299490334,-0.3111298415987135,-1.3876230753928955,-0.3357075080458723,-1.138322771046269,0.22358979598525924,-0.340794003685703,0.5886614845396081,-0.30018518355881835,0.422545629665998,-0.7213754586747746,0.3737954189413409,0.44945622727364887,0.3657930603181367,-0.21718339414989393,-1.869573620864686,-0.7608721500013083,-0.34282446510442843,-0.628792809975446,-0.9540766593274453,0.5347611379263421,0.1073530798960402,-0.4245942790101596,-0.8803334624927135,-0.20350737087312193,-0.41667575564161263,-0.42736262776216966,-0.8454359620963813,-1.3207802904068235,-1.9453265591545619,-1.8489501586931782,2.844382257188136,2.2053821638914544,0.4619897728275047,-0.3917379099735138,-2.0233391661397717,4.470547401279468,1.0394484918793703,0.01896598760661796,-1.2955667303382834,-0.42370528317416095,-1.3585866198867305,1.6480638239607688,-0.735998567636171,0.9428859502749566,0.3779685811149714,-1.5730742804899926,0.30261196930062156,-2.3375737085718638,-0.3072588057753248,0.34666789353994304,-0.17638788660052993,-2.0024512461632997,0.7426004646267238,0.7003012485128274,0.6773129063749075,0.4366845575467427,-0.4390889854455249,1.3551338703774964,-2.1618250421994203,-0.24555225790749263,-0.027275725345736353,1.5604304962054663,-0.9847672002159646,0.41936155476949727,0.3657930603181367,1.3363714173888552,0.16052402250745595,1.324738357946624,0.41936155476949727,-0.6868468238094009,-1.2753054662113108,0.5493106301965536,0.6514234694345169,0.422545629665998,0.7083776747379465,0.21239668649681812,0.04227099824496176,-0.9303322927469596,-0.5674567020322675,-1.4495113998776592,0.2881773912390354,-0.7220161066114376,-1.0324672977098779,-0.6353393361820708,0.3733753388956555,2.101833018507857,-0.4371010437047708,0.41617747987300285,0.2171626968311487,0.2171626968311487,-0.057037939304370934,0.39388895559747317,-0.32334470624039596,-0.42736262776216966,-0.2410882843789588,-0.011894863223679046,0.34051879839304516,-1.853448102933192,-0.42736262776216966,-0.4353777818526009,-0.37772739615304535,1.4164032598445688,0.5740340056944734,0.21850216970841083,0.6639989634338563,0.32702338277092563,0.6526375982190465,-2.0089687741988724,-2.0843470879686166,-0.06347714457460128,0.1535855334890432,0.7480882625343541,-1.6824108408391762,0.05296447469214296,3.5795148157094623,0.5998909548086122,1.1742015306750255,0.7222334801013207,-0.010918152076068232,0.25636423148826815,0.6786547642309341,-0.3615945069827914,0.7240718797808479,-1.4318554171668478,0.5962068736578366,-0.14333506265394622,0.14961718421918951,-1.4003812142496537,-0.8870506512454004,-1.2043588391639786,0.953894006513574,-0.09030765430033472,-0.11198871424875922,-0.681892330151586,0.7079688621388404,0.3416886585529797,-1.2832419483336135,0.5213884111569089,0.018208342609197233,-1.2534231547914867,0.43063251568410016,0.16778909736936934,0.016238204319820718,0.40980933008000486,-0.3383094375410561,-1.1384881171175494,0.27791100940624097,0.41617747987300285,0.15516413366477716,0.7642342882189845,0.04717053761831127,0.38115265601146436,1.6858887942875802,0.5892908717990443,0.41936155476949727,-0.3867656236433579,0.422545629665998,0.8760799868309846,-0.26552709976582584,0.3733753388956555,-0.9970095805062961,0.5622711383227091,-0.0457903647843565,0.422545629665998,-0.36247454800735757,-0.2402546337805621,-1.294067589375846,0.17563903763588634,-0.11561114936640943,-1.580868466700858,-2.0707629906058918,-1.423722749678056,-2.217645813990039,0.26484850946656807,-1.1715106660703993,1.3386875159550582,-0.4004199851214279,-0.4222677419351529,1.0001428246289823,-0.8559622816445566,-0.4764886793649411,-0.3089644899285814,0.7607714234072009,0.3887605391741657,0.3935429441819225,-2.1032101838193307,-2.1863797080034866,-0.4783192035979577,-1.3807373212384868,0.4828916086909237,-2.930175642780329,0.6696024511762004,0.3006557531149096,-0.8652486126164927,-0.03711894050056823,0.7124050725249892,-1.8842064301434984,-0.7592661961471936,-0.3939674686945026,0.62249759457449,0.902207073565043,-0.6778805331640365,0.1390747134541519,0.33293651981551303,0.6764119186950593,-0.6479958381200238,1.034555301715775,0.055972643544686965,0.46029601247099217,-1.338293805151414,-1.2871376766607494,0.4409936980404859,-0.5551109768328539,-0.2756010876417356,0.33040909362299303,0.3737954189413409,0.39388895559747317,-0.086401479958561,-0.17415155433581775,-0.3038334029054514,-0.11503195124580826,0.09018570217744756,-0.7010337745780756,-0.3681514920070197,0.3733753388956555,-0.31477806094533767,-1.1505481451159243,-0.23269312564616132,-0.35988675454665864,-1.3151714670916819,0.6123911253059083,0.21180480532207888,-1.317630721839847,0.23792688350202687,2.0315214612814176,-4.545681217573554,-2.065195207469853,-1.6682233559491153,0.36330726592401846,-0.5730796334309248,0.008831003369744309,0.7674855122568409,0.9219109467210741,-1.5869848939055242,-1.4618111615737233,-1.6122998015651475,-0.11363929926064921,0.7632172651573702,0.7935627786906192,-2.1391039534413347,2.1077151696935097,-0.15092182211196628,0.45240651901237866,0.6286021021543124,0.8964481863077796,0.07195936993124787,-0.9569102432798517,-0.1573518150088405,-0.8143376069597393,0.17177785058231973,-0.03606667826618584,0.760914210587523,0.5475136787947961,-0.12129341991436964,0.37111985557563776,0.12668040143967044,-0.9337263524039165,-3.8208912304145652,0.748446919448125,0.013276398213575895,-1.5740420636840038,1.0920506241142227,1.3064873789294327,0.3860395381871735,-0.3457713320158331,1.4067630331479375,-1.8777664494090234,0.5847562338548937,0.05323391567771194,0.3354639460080198,0.9716906917382582,-1.5760631816029298,0.30376481817490164,0.3970730304939892,-0.23444624346314533,-0.07995938226460324,-0.14329070711590333,0.34703978528436913,0.39070488070098264,-0.275590732331626,0.03258173757255654,0.7329952879590835,1.0482005525580615,-0.4952081632509625,-0.3009177600955835,-0.4371010437047708,0.36041760211285406,-0.7842468459287392,-2.2601049004265774,-0.09590507698402181,-0.7003934930610733,-2.694878366222469,0.7525736695112349,0.7718766393973177,2.178813244665638,-2.0513553956215165,-0.3332886694476037,-0.328284213267956,-1.2495291827496684,-0.9224587657162276,0.4428565413079495,-0.04324452640056238,0.9661300865069494,0.2820977061948197,-0.026647973624884733,0.5388417825929107,0.8441952298547852,-0.6324819068084843,0.8766191786313885,0.40533395592927735,1.7648012251966196,-1.0056008390542712,0.9593703386109231,2.2493886766535427,0.6146687511632885,-0.3991519970944177,0.7543065577103554,-0.6469516821854016,0.02255580910464209,-1.0979950208952534,2.40437648725286,-0.4464379286441859,0.30220117954345765,-0.03933750027475732,0.4315648183608631,0.31566995287664873,-0.07859597839032127,0.5137427730577945,1.1992187296153414,0.41617747987300285,0.35630226261621956,-0.6041083031859772,1.0048429618082675,5.07328562829609,-0.0573787748958931,0.2051074409357496,0.535309378858186,-0.04919872069950922,0.12913650588260275,0.7800005940791347,-0.061249491384273894,0.21850216970841083,-0.3038334029054514,-0.5296259161110889,0.15532287645034334,-0.021263475322250577,-0.019375247326378398,0.21850216970841083,0.36041760211285406,-1.1568434172929811,-1.051155503509951,-0.3673438252408038,1.721911450255228,-0.7126313506961919,-1.4012473173474873,-2.4936218116818507,3.576459839589092,-0.049381306029028925,-0.8664899229058824,-2.222547534353953,-0.07109188050863756,-0.4062703291681027,-0.9783939162640046,0.09935155716130505,-1.0367123489434509,-0.06825152777720413,0.903480112780799,0.40980933008000486,0.5825868070611252,6.3116668110728895,-0.5309020844534887,-0.22180361715617086,-0.33788927222509507,0.6842800786574388,-1.9194491291281282,-1.5118986550626858,0.026433752463870332,0.18695589229392687,-1.6852996944721697,-1.1129581407767983,-0.6731880309384383,0.18567314444778862,-0.821528587549349,-0.8655533893931977,0.1689416732495663,-0.9963521913963461,0.3080271247609237,0.3683204865106428,0.017305348087756176,-0.35317963000409147,-2.1491155096711423,-1.7025584899897088,-0.8389664454481575,0.40980933008000486,-1.9938384399353197,-0.8787250526522498,0.5336502299241553,0.20778638669028682,0.41936155476949727,0.6604557457037575,-0.6927065943340197,-0.6598614674172343,-0.988318761070953,0.7933935423691273,-0.31660217061864987,0.5434018522603448,-0.36254239302367425,0.3733753388956555,0.3390130951872804,0.5773055223259631,-0.022875668500959928,0.36844429220995334,-0.9138567216460107,0.7598803531625312,0.19974954942667994,0.422545629665998,0.12110300499894701,-0.2150405779003782,-0.23816545466609876,-0.057037939304370934,-1.5772323293655766,-0.8091221143193635,-2.899226200419719,0.7587429950748968,-1.587254686633117,-2.584548969853869,-2.6565588605545627,0.2828114321542791,-1.9653102443484276,0.8809927467220037,-1.0349180127254844,0.7290144088250383,-0.5869213673598025,0.026529516605852548,0.4898739981665712,0.47122227765521113,-2.4051934450371832,-1.1282914933171346,-0.3860463107755749,-0.9844354836535056,0.4729180661158509,0.7015586858848838,0.3229597149931049,-0.7828356717633266,0.9068460202266384,-0.2785609434001354,0.10653938028315268,0.703571916822769,0.4396659744015555,-0.1334506789978672,0.4691137460431792,0.03434549113299819,0.297552553120381,0.5759204772258882,-0.05357105415638473,0.46171820992802054,-1.7778876869616185,-0.8696541186933584,0.6123193828232713,-0.6617587891105331,0.24961041402638076,0.1782277308569502,0.8032174088157132,0.3278816674304877,0.5504009293503979,0.39388895559747317,-0.8554679229912446,-0.4299687820593031,0.2171626968311487,-0.3301755719738664,0.34931190704643533,-0.1969607745003931,0.6825459327323495,-0.10029430986871804,-0.47465172371885456,0.5481536655212882,0.3630931654785661,-1.081016188052687,-1.2181935177560712,1.1818757823190928,-0.40295791030242145,0.34873098649771217,-0.04851704951648334,-1.1717002925691984,0.6851792946580961,-0.41133231958133254,-3.027760783672593,-1.7679893468658068,-0.4876124706278941,-1.925448290090716,0.15132475092291536,-3.0661133245635432,-1.6703785818813208,-0.30166704324854754,-1.7399801961325307,-2.0867591265992402,0.035197042307772514,0.5426403166320799,-0.20654280757673404,0.5345666371990594,-0.4173926926300329,-1.7931763369657774,-0.015866147173376345,-0.8401161723542203,0.7665343457655579,-1.4868943718873835,0.1748565735653926,-1.1195901071114862,-0.4470337073371586,-0.02790285714442178,-0.4578217819958493,-0.6908830168485762,0.26501539745664127,0.615177262694091,2.744666350669417,0.2719264080215104,0.43596153982413166,0.6750541159760408,-1.5096263028973922,-0.9135585048366457,-1.245739080623024,0.484438550165951,0.8219890945157659,-0.43274624633920417,0.29407157339309337,0.13978115798204274,0.3764709823070522,0.0357030579504065,0.7344423300043089,0.6072082403980438,0.0227734946820509,-1.8332516435276824,-1.4379348482946506,0.34931190704643533,0.22797555737014538,0.7611832190341365,0.4946614085357297,-0.6154603418330924,4.5381900726089395,0.36311301309394683,0.38115265601146436,-0.5891321453817029,-0.05397041898073156,-1.1258461586356336,-0.43538071774627984,0.17193713511848135,0.5059477104300337,-0.051746403053434635,0.422545629665998,0.6519193125518423,-0.3826424872748522,0.3390130951872804,-0.31597863905786355,0.41936155476949727,0.8960944769798291,0.7272837868700488,0.12120407631409294,1.2539287103051309,-0.053629583389217986,0.4034411802869953,0.47324843074635353,0.6825748583673095,0.3683204865106428,-0.09138034400932894,-0.4124062264219034,-0.052947912206184417,0.36041760211285406,0.3607382079331123,0.3733753388956555,-0.5506004508228083,-1.0150074499396577,-0.3870739849263395,0.37084791270313205,-0.9678570667787045,-0.09011693715169604,-0.8058471796951582,-1.9569728531100479,3.2072415130797314,0.09381528397764358,-1.1111637368393077,-0.20099116581120058,-3.2180374717062765,-1.2285211491262735,-1.2982642090762637,1.0840727225153326,0.7923227342844062,1.5008350610041161,0.152210054148585,-1.0302842436679747,-2.129299561481016,0.954507663755938,0.19930391841228964,0.3273493584939325,0.8613220174542198,0.7187369956280983,0.11772295511176151,-2.134328317817047,0.8047486768475149,-0.07411396438829498,0.9676588493270194,-0.1406444000080231,-1.1839490869042895,0.28774058317002665,0.9749855289142667,0.7467622181535816,-0.07228058190706638,-0.0915140832247944,-1.5840273838775583,-0.26780883830019037,1.1518379355608037,-0.12241350391430093,-1.309062820151386,0.5560379228231567,0.36844429220995334,0.2480439407535764,0.7390277004702981,0.7582193112437406,0.775578058924236,0.35199715523683445,0.6524799855769813,1.0002471603845733,-0.12297087443486375,-0.5434641888019567,0.7712041867171198,0.3737954189413409,0.5390693640053756,0.28278136215187005,0.3970730304939892,-0.15083026142839479,0.2373416872907918,-0.9226345885347639,0.7332197645161087,-0.4872837673151118,-0.13419120328714534,0.6131432165708767,0.0534599133141934,0.1857167245564695,0.3779685811149714,0.6451773132308998,0.33098640509019495,0.3607382079331123,-0.7737772865458565,0.3737954189413409,0.3875208058044677,-0.4482301320585695,0.3764709823070522,0.39388895559747317,0.41617747987300285,0.3683204865106428,0.2051074409357496,1.1208403038944268,-0.0573787748958931,-0.3578979589785558,1.341870936507585,0.005316843553988347,-2.1335719267517663,0.41858198766191906,-0.7714466363019966,-0.656013354878956,0.04494219743641254,-0.5417668203758301,-0.4506479494264294,-0.8081091766270245,-1.817836004060176,0.5532040936581915,-0.702919245988715,0.4170640396401176,-0.7484814220004548,-1.7904742113674017,-1.6521690825035371,0.8411758071412131,0.3073889990539625,0.12633020712038062,-0.07948719124740608,1.2996586813682085,-1.0162994909761565,-0.9628632144397892,0.34311937093287015,0.6458203922440531,-0.7015131372575196,1.1429683463092315,0.005298445605709681,0.8594962954878728,0.5068214646142697,0.6176517307203778,0.6694370716407881,0.2533950674849774,-0.11417698815934854,0.59056690356735,-0.7532087033515277,1.3516249313803472,0.4129934049764918,0.4904086354587967,-0.3111298415987135,0.17563903763588634,0.4068526287983518,3.352054995931432,-0.46363004715740247,0.3733753388956555,0.2983172160651356,0.7787864652946372,-1.5279994239090209,0.31493302489600605,-1.912425238841553,-0.4862806805096745,0.306086117769356,0.10279185227803946,-1.047529646012037,-1.708669478683813,0.017395626682795307,0.5878590899722536,0.8436344246584576,0.7670428572963669,-0.04490573484896243,-0.5560759247124658,-0.3038334029054514,-0.41667575564161263,0.46704664280710806,0.11369036470522381,-2.046440367324174,-2.0339968265121424,-0.7922767069135728,1.5750187416557477,-2.085541188814416,-0.10205947944396203,-1.0407387971865818,0.565734087626596,-0.7501037186463856,-1.1142644719857262,-1.1121550095095523,-1.7770542296754162,-1.9080468157779082,0.6854024424061167,1.0644697035334518,-0.8393473389775976,-1.3204534215591106,-1.0346764164700737,-2.192355889066042,0.46447085107987823,-0.9895427213244965,0.013457509722014397,-0.3736041692001392,-1.09760938190528,-0.6517379755242856,-0.41971166759265943,-1.0450078230344961,0.31514390842898926,0.3592227315129731,0.7187848853784116,0.47539492060364025,0.36576872884424966,-0.237081517031482,0.11591395384884537,1.0946339829770277,-0.5993030771513893,-1.4998329367742613,0.9245863866096641,-0.49061440349685714,-0.756730873925313,0.6403213786787271,0.35568005683944076,-0.05771961048740682,3.169926045184527,0.7061685440526608,0.5362191374316697,0.7772719646416945,-0.4478419587231194,0.37111985557563776,0.38293764245509776,-1.1178827229840105,-0.2611990544944727,0.7568491153643454,0.41936155476949727,0.5642033827236853,0.3079189333919055,0.3461278321499389,0.08676451721014171,0.21582322395387485,0.07249962608638912,0.048427261203848736,0.2171626968311487,-0.8978532607010581,-0.8065212210849122,-4.289389843781693,0.9639297681175656,0.7028013767231771,-2.8463485649627587,0.2970476518488061,0.2541826655461294,-0.165219357159013,0.46492522909937134,1.2402128743978658,-2.336898721317863,0.42571403429057875,-0.39135437538915374,-0.7847956728120933,0.3777028113503746,0.7775974233041768,0.35231135241261496,0.3387574434515563,-0.9337204273787006,-0.18632320391413565,0.5613001359839846,-0.48896407413999626,-0.36530720619381324,0.39883807187515447,0.49336922514325054,2.2534968361744805,0.1739532991803021,-1.1611001651566453,-1.0598843540158962,0.46721220762785903,0.39258390117652825,0.08470010489360144,0.46636387730080275,-1.0833849059602083,1.187983957901977,-0.5198661630561401,-0.7890993417406807,0.8344889778355493,-1.306284126799735,0.25545380521706607,-0.7913163059487911,-0.952766468972064,-1.654130608786666,0.10342582710941728,0.15643310933965499,-0.3016233212027235,0.40980933008000486,-0.15657530524211644,0.0773400035130265,0.2735226888011959,-0.5583755966652965,-0.5371420391070982,0.35568335554808583,-0.31295395127202646,0.37084791270313205,0.33040909362299303,-0.8496259189246096,-0.9372847028610366,-0.5692935345227131,-0.29288874486555666,-1.0765058900649143,0.40662525518348636,0.18501534777675316,0.7331907592079616,-0.0573787748958931,-0.04135950209465375,0.5334436670523082,-2.936382204335753,-1.1561763831856784,-2.389100882069886,-0.9302903521037745,-4.5331084679228075,-0.6586029207777548,-4.023407394361818,-1.301674155656015,-1.4634937432042499,0.04437539788180524,0.31165778977167036,0.7595983851170635,-1.6440668688898767,-2.2626681050244146,-0.5301360209908222,0.7545514972048718,-0.7599598075733222,1.1034190674323692,-1.5307957088762432,0.6976719872336871,0.7680201118205968,0.5650166433179507,0.3775466938903443,0.7780612132239514,0.9472103451389976,-0.06553206574375126,-1.4593573179716262,-0.6449985860539519,0.975057713953374,0.42674211808895357,-0.05397041898073156,1.2380095569952307,2.983517813077164,0.5540411518142335,-0.6200266492008771,0.3683204865106428,0.3683204865106428,-0.1718883512851982,-0.7243745942023504,0.5360742064449504,0.913836891022118,-0.12130497184165143,0.3764709823070522,0.749596948221408,0.5498305786168204,0.37111985557563776,0.292491270847657,-0.45067193700733416,0.270637962235327,0.2908529546047327,0.21314427819935722,0.5323913153850153,0.04550346059802959,0.6624436637227962,-0.7162077637730945,-0.6128077862411111,0.40662525518348636,0.48814874027401906,2.218208728036651,0.04085841705952887,0.3278816674304877,-1.0697206419487932,0.3683204865106428,0.4215339640710449,-0.07350089114360218,-0.3715950963739204,-0.664302790301014,0.3683204865106428,0.20778638669028682,-0.7821259752270692,0.3970730304939892,-2.650294509414967,-0.5589025678780201,-2.756960828871799,-1.5927190712607118,-1.4276333640147176,0.44394209561894027,-0.09665310117761826,-2.037155253507472,-0.937070082701442,0.08564324749791635,-1.008887780958906,-0.2588271764605626,-1.0688377755704652,0.7379855708759322,-0.592256314957428,-0.10836451774741651,-0.9777000611373091,0.6636113508706021,-1.3802398054077478,-0.49876966321815386,0.5329935812201575,-2.0631531570391877,-0.02781307152471339,-1.2080268579269546,-0.7639622359785838,1.1827082041970611,0.2319905605594075,-0.47007626748094045,-0.24111657186997923,2.270129820198357,1.2166213236550696,-0.011107413338945714,-1.2035071607607915,0.34879080484357267,0.6628775447967683,0.15849453084572968,0.26918748997775893,-2.038868963540736,0.5753051961845967,0.15690497280745203,1.1628633445739036,-0.20151629620772563,0.9609049987616376,0.3063844694973749,0.9820774204489775,0.366548679469431,0.2983172160651356,0.422545629665998,0.4380983740471765,-0.16764648537964177,0.19305218504035412,0.213166758816381,0.37655898407857047,-1.63459073159704,0.21314427819935722,0.27735594235418076,0.6546691959370738,0.36844429220995334,0.4129934049764918,0.41936155476949727,0.5396851463322643,0.3683204865106428,-0.10885866340072027,0.532268315784605,-0.09916219523778351,0.9421646002038223,-0.5753549396433298,1.0732349552923024,-0.4708201051075677,-0.0573787748958931,-5.924239394639816,-0.7637176863427408,-2.2355073343161065,-2.006294866171138,0.1832698366723485,-0.00216445727125321,-0.05437858794307007,-4.283750688480322,-1.64773584395001,-0.7787159770924752,0.1699148214778546,-0.31498947315033654,0.9940583007335574,-1.2463665541879358,-0.3563685744211764,0.3764709823070522,-1.664047824338924,-0.7415033196349735,-0.547849794315665,-0.721018151851284,-0.8603224044640405,0.36844429220995334,1.0057179215755625,1.3731425040522747,0.22541147276170675,-0.7426613754556484,0.539377471104619,0.6802366647056062,0.5197709579561482,0.28851115681301276,0.0736303638535754,-1.03783039067833,-0.43096975501935353,-0.4951092035104543,0.5577200037430065,-0.13793919796049212,0.7046819180750938,0.1837547728930529,0.46520550589465165,0.6402978673628235,0.5229267361928677,-1.0552649185845486,0.3026074055053968,0.570099379647392,0.005642537603474338,0.36041760211285406,0.4770826930069923,-0.42240402200493427,0.3683204865106428,0.29518263380589393,0.6322379476614934,0.7959209685616679,0.4190308005984605,0.3797605549182409,0.7597811845390466,0.3994765180551817,0.11930663900334872,-1.3415588258751903,-1.1743011056062773,-0.15113280124843204,0.12021265156385241,0.3863898744106221,0.6449248906582766,-0.05771961048740682,-0.7674844330031351,0.3359929233033746,0.28563040911638565,-0.06615539855588282,0.2064469138130123,0.30220117954345765,-0.05681624597065565,1.097576388073236,0.47195523107914983,0.14637253285708743,-0.18588098009281165,0.41936155476949727,-0.26064243979059054,-0.5035140933779798,-0.1668449736442704,0.46029982703155803,0.37084791270313205,0.7717616667976219,-0.2148861384421186,-0.39121410950520114,-0.8343152909869377,0.044263289731289374,-0.30177702203555784,0.8766552529322723,0.412603096443357,-0.00529511603637154,-0.04408618682677618,0.40662525518348636,0.46238160386745053,-0.46152800882335177,-2.059230596823617,-0.08498529214047672,-0.02660899166717855,0.636159743655996,-0.12107259545907907,0.6084104848473882,0.7695854149503943,0.41617747987300285,0.24903080704949618,-0.5388324862293605,-1.0315725991143652,0.12125789649440191,-0.07371432381488227,-2.077121991393615,-0.18377654999288298,0.2712707075611409,-1.2243067038453486,0.3875208058044677,0.28015775469139315,0.5513500890675102,0.6198097678051584,-0.11160740749692678,-0.07730626287037347,-0.4479405125123363,0.18750323673494626,-2.258317567898224,-0.14293053065415237,0.3632656341256333,-0.22554825996158134,-0.7917561981115864,0.8790478968609371,-2.609863432873273,-5.69477782259218,0.7160242006917255,0.2051074409357496,0.29637523432597773,0.9878935457895033,0.4129934049764918,0.8200651065464797,-0.38100177179056577,0.3630931654785661,0.7886178372831891,0.15943229279559276,-0.8078818676404148,-0.474141636356315,0.18663770995350407,0.7796680936879186,0.27099999624428606,0.12831824406390194,-0.31951647830226876,-0.4018164227002914,-0.3456726318630643,0.8073261548433558,0.3733753388956555,0.6156382706519895,0.5102357968211941,-0.2168756121441817,-0.05669710371285724,0.41617747987300285,0.02363078789011731,0.5232269383030448,-0.798152577154611,-0.31660217061864987,0.04520369171083388,-0.15185270672992016,-0.3512080139316524,-0.05771961048740682,-0.8873305516197711,-0.6101225561687049,0.4585395868388567,0.4129934049764918,0.3455736507780592,-0.06872841068693829,0.761651962027564,0.4175779265577393,0.07210474367881625,-1.8496212185321292,0.6670983023749292,0.3257408436387885,-1.5919363793706067,0.20909263638254363,-1.3375713619901433,0.7308680046615493,0.6161734292365375,0.3202841516274062,0.4903442014281243,0.250719504119285,-0.8531937968656159,0.21824736796980224,0.7862851045224287,-0.8055271696580638,0.441740859840928,-0.08459335440430882,0.6037615146104449,0.7890292562941873,0.8438778145673455,-0.5824325896174538,0.9301549848798316,0.2861120612073242,0.3953201406554972,-0.048403067170750554,-1.68861695844962,-1.9828173659231938,0.5487597437693768,0.2368108822126427,0.3957557247849723,0.2604403295737565,0.5338447550392632,0.676913042693783,-3.0645677568608773,0.41936155476949727,0.5682215554993307,0.9928590798688771,1.034935732803725,1.0550513552180707,0.41617747987300285,-3.7334671227871272,-1.0928332024802212,-2.0835596001098184,0.7274179183417026,0.528542211930181,1.0246161838544807,0.422545629665998,0.33006094164841737,0.43697620236822776,0.5354751413860139,0.7259704894620704,-0.2965369642121875,-0.8502498740126012,0.422545629665998,-2.41458668725267,-0.19030567122547254,-1.8995634354467774,0.15397364423627186,1.6307218945550508,-4.144402871171642,-1.2754044055069909,0.750786439930105,-1.1729243734165335,-0.5652108208304181,0.3737954189413409,0.3406002077997811,-0.8765571025919356,0.138380851118165,0.3733753388956555,-0.1131360663896549,-0.667959522205613,0.20778638669028682,-0.9140703475618652,0.3616419442820948,-0.8939991973906328,0.5188418213995766,0.35315592935559076,0.5664746038775781,-0.4295969848879853,-0.31660217061864987,-0.11556558250993529,-0.2481054438007624,-0.3160273218235102,0.21103409579746038,0.15943229279559276,0.6083411574906022,0.9261240271189133,-0.6116190826153184,0.519932537558129,1.0713190242906216,0.5730243311835265,1.3326208928356778,0.4668226311041749,-1.178242787530503,-4.168330319726619,0.19812186673992468,0.33834399378868335,-1.5623870673846885,-0.8025157547589276,-0.4599969614764661,-3.5012571151914553,1.0618201483872365,-1.0555364340256332,0.2679360325060348,0.8170149427757706,-0.14578885607266992,-0.8931569260474311,0.47575704924362616,0.4469821595337352,0.3498494999660206,0.9335636611646619,0.5613726715509905,0.31760858826170724,-0.7928306289526428,0.27015642968001696,0.4470652549184049,0.37111985557563776,0.21758920559445247,0.5908966487221756,0.2664962645170981,0.740931124050874,0.3503131452245326,0.02177463012143939,-0.22265343589213804,0.9600186074605715,0.7221042853595906,0.7669057391700483,-0.46882424367356307,0.4129934049764918,0.24122594454219168,0.5694283388426156,0.3716004313219655,0.039701167967448624,-0.01878447162976772,0.7391440677399039,-0.31108041567355793,-0.882127786709866,0.3733753388956555,0.3130026742677544,0.2773331435802991,-0.8942141688873059,0.5215446366428976,0.422545629665998,0.422545629665998,-0.3409513429648944,-0.05771961048740682,-0.43960239664367595,-0.8327642427502453,-0.384051633924716,0.16501580325198253,-0.41959157313231477,0.8890957679398153,-0.2965369642121875,-3.0223143783326676,0.6041534264211268,-2.7206046453565245,0.7725376436141967,0.308245589856401,0.43844319689515343,0.4703950248481921,-0.3219638053895348,1.497403385818713,-0.1641059205627964,-1.874524824872403,1.132771817603235,0.7299839873116134,1.092010879447455,0.4824577964726204,-0.33229539913722933,0.8462986072942821,-1.043717167013017,-1.369894612224454,-0.4753685654193953,-0.14914502753931147,0.7851302836137625,0.03488851785996137,0.33030381435124423,0.08411851770647495,0.15397364423627188,0.7997974650120178,-1.6305298593997206,0.42358953614933936,0.7628660908120944,0.2949985702557864,0.2979803734144426,0.5322045341974033,0.37084791270313205,0.7432287984284147,0.34304622458553846,0.8165723913655623,1.2107008080086012,0.6609821473525123,0.46357545407819306,0.3683204865106428,-0.18916935004306668,1.016859886471767,0.5545316990766399,-1.135234591131715,0.3247963878901321,0.28548743773462165,0.8220501841199781,0.3733753388956555,0.6850364791935086,1.029534607853454,0.3917114648360184,0.3080271247609237,-0.19398462029794086,-0.2899393159884892,0.31524453646792844,0.8947100726937138,0.7744280301509493,0.3410183384074362,0.4561889962744827,0.3683204865106428,1.0807290740752045,0.6787727775442199,-0.6514247166939241,0.3864925927942476,0.3489265681290792,0.1657381161367959,0.5117613314135849,0.16698926716451243,0.23689432450014858,0.3843367309079771,0.5500992166466699,-0.5689985141764876,0.7226872459421008,0.6232827828194442,0.23566338297580774,0.4770635294421752,0.3683204865106428,-0.04613120037587046,0.3737954189413409,0.6141146131201531,0.35568335554808583,0.422545629665998,0.7422117753668196,-0.29836107388550764,0.5300071234876544,0.2895450390367449,-0.06796802749888828,0.6243665143659829,0.2957771544596867,0.18903376640855607,-0.28428425262555834,-0.38559808617606345,0.21314427819935722,-0.054992925755276326,0.08002254631395785,0.21408271737856904,-0.44568646330125317,-2.1066124798023873,-1.3996200530916183,0.20274730091788762,0.13325294622186515,0.2628306075483524,0.5965593087571797,-0.20623518139198918,-2.7016469342742666,0.4177344450191507,0.40580630819674257,-1.7379188328064954,0.34361413197907437,1.1952507968715702,-0.04036772075649576,0.29743173266997736,-0.9040065170766695,0.1995079458513951,-2.0734219907099485,0.7317070244302836,1.1073417864486528,0.49813888744222606,0.5327647682731691,0.4377045108610153,0.29799783667526414,0.5069155296174094,0.15958537437064038,-1.3909325204995078,0.6711202902394792,0.7462348051267026,0.19711352548892583,0.3311866220473922,0.7163498012448125,0.4391077085576363,0.9185917967178313,0.4813151548546808,0.3497153486500782,1.0703079675848255,0.3943980399282139,0.4324545817318942,0.6393438185524931,0.6735145872798565,-0.5106515119970947,0.37611492980964045,0.1689416732495663,0.017935811939365873,0.3354639460080198,-0.09587195277466366,0.7358436255737966,0.3261750400533915,0.3975887159972344,0.7562534262373178,0.7092209976284899,0.41936155476949727,0.21448375107662446,0.7600331902608674,1.0491530694681992,0.6871049420000402,-0.12195880484208668,0.3843367309079771,0.09272620029094583,0.21582322395387485,0.422545629665998,-0.5458014121479589,-0.6543271939895571,0.6794234947990221,0.1873274075807247,-0.6625683442314189,0.26287956343933344,-0.9194304307280851,0.37084791270313205,0.7269513482969321,0.3733753388956555,0.21314427819935722,0.3506285031630693,0.6197695333828445,0.3764709823070522,0.4002571053904786,0.18769429353128225,0.3875208058044677,0.41617747987300285,0.41617747987300285,0.35568335554808583,0.5301633489736349,0.25874619421637157,0.1490920084059338,0.7600331902608674,0.15897624055986784,0.3733753388956555,-0.056015432529825465,0.15744581177223882,0.3455736507780592,0.3524959819429458,0.3683204865106428,0.15547240668953763,-0.38032328888109806,0.2886073073693497,0.6629297354423417,1.08946482194738,0.30025919780430294,-0.06849639632995332,0.2818361408313935,0.6644746674971669,0.6759965984847836,-0.3365220849974595,-0.2927104276748999,-0.17419121695672082,0.17913165332363779,-0.4290728909036161,0.7949038997030354,-0.1493844340985283,0.022195937461528228,0.3147030215641202,0.16379921164304795,0.5716923350174504,0.4460237560479085,0.7579991441376696,-0.8044491150191742,0.41016469349312545,0.3683204865106428,0.40980933008000486,0.281307189477605,-0.01600825128370272,0.6581284499515594,0.14456620060888598,1.0371389651952163,0.21850216970841083,0.3237605138850915,0.4618455263091026,0.32268556615907146,0.3737954189413409,0.3094735623581203,0.757574720986,0.29811039333591194,0.6096166011779243,0.3764709823070522,0.2550820375620625,0.2983172160651356,-0.3042142630754128,0.8258357561392874,-0.17015152043587856,-1.537632796965251,0.6580353224869722,0.2587683300948871,0.19514670326187145,0.3548837704348504,1.082154388052617,0.2595412338200119,0.14190984903084244,0.2249574482750989,0.45838156018683096,0.20443216349704507,-0.17729960894131686,0.41724270650284634,-1.1547977296676217,-1.442279762624497,-0.9143612659718195,0.8958679059630076,0.6756550611549618,0.5719510981579068,0.30414316128261154,0.3970730304939892,0.282885974413292,0.5580557550484946,0.3764709823070522,0.422545629665998,0.20922719361406814,0.2736584079701306,0.14929405536358822,0.41309799844331624,-0.46924000310905856,0.2983172160651356,0.1062390823716292,0.5894709930847017,0.3727190044798054,0.5610950120852737,0.21180480532207888,0.3080271247609237,0.36041760211285406,0.27501343519523114,0.4247159344125515,0.49438648954872255,0.37084791270313205,0.7238583376260508,0.36576872884424966,0.7125365712561254,0.7863687438721793,0.3970730304939892,0.13854331180937177,0.4651007395300124,0.7800005940791347,-0.33923916303985696,0.49988361352204336,0.5409350026313079,0.7927368936651459,0.36576872884424966,-0.824612389535404,0.21448375107662446,-0.05771961048740683,0.4419070696663754,0.8056629394407375,0.761651962027564,0.9195446930890088,0.39070488070098264,0.6834009186832707,0.6025558110859826,0.5988204819845727,-0.21393902112575508,0.36844429220995334,0.18833616414308169,0.30220117954345765,-0.43003434579232064,0.3582107817406057,0.3229597149931049,0.6834823870331372,0.3354639460080198,0.14523980654136082,0.5359468900638725,0.35315592935559076,0.7963410486073266,0.40980933008000486,0.6633609145925149,0.34655905471526544,0.13432250942272211,0.7841132605521686,0.37084791270313205,0.7010929020308158,0.3630931654785661,0.43092906117064783,-0.5360340670480277,-0.23604585210130133,0.20864835400654946,-0.6428688132550561,0.055437047284383444,-0.07945359167304465,0.18512341597728546,-0.6698040596158424,0.09478703738151684,-0.21722394042405738,-0.030880133882004227,0.2731497062108687,-0.08360465734288808,-0.11062204584475685,0.4167365749164317,0.13216033217456188,0.14637253285708743,0.4230353152404501,0.048759372504686455,-0.0274696615734324,0.749596948221408,0.6105746775954413,0.18502181335125367,0.2716967188222826,0.1515556492042314,0.28860730736934964,0.08991506526971806,0.7427202868976311,0.3710949239149104,-0.006274590448054627,0.5533108220956503,0.35567707325066045,0.721957297214501,0.4433053846593253,0.198416216139523,0.4227637513390327,0.3764709823070522,0.27678807072343986,0.2855018278733433,0.7697184206620187,-0.4273694823818719,0.16165317508338148,-0.07322111690640068,0.2162745180709725,0.40276524582156026,0.3336619684558814,0.4613246446003407,0.3523909120157658,0.7117635552825151,0.7452732760880018,0.4016194555591647,0.29502512692787364,0.16052402250745595,0.6567928364388309,0.3060851430217696,0.6170928259372274,0.7407759037835396,0.6818225437022769,0.3283108417244937,0.7434024985995143,0.6141070882876645,0.3607382079331123,0.7202589883730711,0.7269246440364754,0.36844429220995334,0.7312435104806937,0.6320965775056184,0.41936155476949727,0.6203385377969391,-0.3633960826218627,-0.05771961048740682,-0.6625105536741391,0.2798605697728115,-0.31660217061864987,0.6792812890750256,0.13379548301694935,0.37084791270313205,-0.27747994321167135,0.2037679680584917,0.7350691026196506,0.3737954189413409,0.21448375107662446,0.3607382079331123,-0.05498240545245022,-0.01887112810939637,-0.012897834112800762,0.0218558764128444,0.08082775354138876,0.16777703978266714,0.06008488901597353,-0.021794839373821956,0.08737813181257313,-0.023978298797549237,-0.01887112810939637,0.06722138910528527,0.2342318186729098,-0.010877542255182357,0.031087330771219217,0.0028499409691319583,-0.017427920526365655,0.15943229279559276,0.10606102388845502,0.0061081013309113065,0.12340521230407912,0.06445180786342862,0.011266855237061538,0.031087330771219217,0.032987924315590514,0.2672455082386053,0.14523980654136082,0.36041760211285406,0.37111985557563776,-0.019957181563322688,0.13650596884645141,0.092467151714346,0.22646389171627487,0.013710475508395919,0.2905492891085043,0.28860730736934964,0.2419997456295388,0.18115485661115444,0.16145148815276902,0.4034411802869953,0.3080271247609237,0.23786928566884186,0.15179018481254417,0.286665325630182,0.40980933008000486,0.2653035264994511,0.1627074819311845,0.36041760211285406,0.06343006852047864,0.29443325258682346,0.32702338277092563,0.13650596884645141,0.3015552080675187,0.32563527835879386,0.25378966015135507,0.026241267948192003,0.3238393078744169,0.3737954189413409,0.3042307714332197,0.34931190704643533,0.422545629665998,0.131306786497512,0.3455736507780592,0.35315592935559076,-0.12440288687176072,-0.38457263198739783,0.3764709823070522,-0.31782218852647187,0.3764709823070522,0.31524453646792844,0.2824463342198857,0.17831798339042756],\"xaxis\":\"x\",\"y\":[-0.007760084832357609,-0.16002883497059248,-0.004061494559631939,-0.02289041686558207,-0.17970714261163284,-0.4317407701750304,0.08821121309912933,-0.2941401322833542,0.7386517702849267,-0.007459553576625282,0.11523781669350609,-0.24425947440889254,-0.7432545866120713,-0.5946695144289801,-0.3790521393169046,-0.37627573655377605,-0.07722203898908267,-0.47288646305651233,-0.15663940049195474,-0.09479532752432088,-0.8101182807529324,-0.10587242845943612,0.011766069502662119,-0.17580349229752448,0.0819247781825595,-0.20036200913254165,0.017013959995820657,-0.6948293042552679,-0.2804580604345051,2.181104315087577,0.6720269957647499,-0.042221852983343154,-0.3524033770909755,0.0007572775679079144,-0.31126432855977576,-0.18175728202734695,-0.15981011799078343,-0.18235550940897868,0.5425114899190701,-0.005178263404622902,0.1787869437783919,-0.7954363299685467,-0.026564926073243098,-0.0812978302177121,-0.1853546371187225,-0.057219627411396405,1.6666434172130151,-0.6836626834620594,0.5957910925620892,-0.1763576881941652,0.9149773252248798,-0.4098970229775271,-0.03957944003093604,0.11834432070978905,0.009446968196538539,-0.38424228608571226,-0.2733669425297489,-0.21308157943461287,-0.20573904965089748,0.03216972208054128,-0.45394093059721785,0.5360284394400111,-0.30879665120470134,-0.08537362144633717,0.815465557957828,0.2137314629515451,-0.018061056592373337,-0.39567181763536385,1.012390226482998,-0.12437048206118688,-0.015583876155264341,1.2061392434560216,0.12808302955554943,0.9289043783190368,-0.04251730440461793,-0.30102889547574496,-0.19058679561043787,-0.4049371731920077,-0.3974591529699715,-0.621326187859436,2.2298711194349146,-0.23134162984686327,0.021380142276396945,0.028007126265260623,-0.25459741687244486,-0.1994483237868622,0.26143062222094304,0.03669392925138491,0.1439480395134968,-0.035915656261630284,-0.3475469736711587,-0.0028377446607982483,-0.7577001203089018,-0.029165021881374095,0.3000525939532649,-0.4626631728245771,-0.8139492458744438,-0.08478210202113803,0.14770714130510115,0.31580689796327865,0.0845202053526343,5.153087397847627,0.022166358792756257,-0.6253279260207316,-0.16780912324712624,0.6875624984413031,-0.03286243742617811,-0.5445972725827156,-0.6757853894861979,-0.048212162909754865,-0.08197712875581237,-0.19517297040743514,-0.29911787212721413,-0.13312076207356116,0.2012722493578697,1.661197315770929,0.056541550544083455,1.295074149869238,-0.21224693437005684,-0.48099369829751093,0.785050606279108,-0.1923415479344745,0.1325150824109852,0.6932772911261736,-0.8734980675429395,1.3230266998071318,-0.9039076257047642,-0.42549911270366664,-0.5320797922510958,-0.15233876836349736,0.4275288772953496,-0.741413198045192,-0.3948658731230632,-0.2392738176252775,-0.10422208678748483,-0.5661495371422551,-0.053450654949402744,0.03758162505171837,0.10018801231423341,-0.23661831700237457,0.7687142594906748,2.686285845684823,0.8779864362382565,-0.0283468929330889,-0.11700731558161798,0.45066077684841804,0.10078954936977977,-0.13710860890536367,2.099074682391389,-0.2714968345676669,-0.00047105376905880316,-0.41117080593125327,-0.22599070283512127,0.059327109435121775,-0.13777385805768425,0.15846713101888701,-0.07125003262739373,-0.052593363101691354,-1.1054641658946527,-0.09115013467701873,0.34655330621710245,1.6644650750236738,3.4528576401051176,0.34328759593630015,0.1145511235806372,-6.34792358313841e-06,-0.25500048085685545,-0.3354036732436669,-0.20924373824775536,0.1681312271580102,-0.461185015225075,-0.36915351215537645,0.11263959508442993,-0.0029093359666904077,0.47796372812170723,-0.06328999180754959,-0.13113826145278865,0.968735933419536,-0.15570534094736788,-0.16538371343010158,-0.0017933106060904033,-0.749200853105828,0.1139069531410345,-0.1406176851740683,0.11791785165848136,-0.18398751163681762,-0.13679874242286658,0.609320575297919,-0.2668699405426078,0.7263820604188114,0.9692772915308685,0.11963872943789153,-0.1965252170599367,-0.3696411681515714,-0.624304934116102,-0.3190613294325546,0.9103550677865635,-0.8000201504929241,-0.01424451284755624,-0.358635678111124,-0.5172450114760246,1.0658591203627135,0.6880338031249822,-0.29365398390102787,0.5030881840833329,-0.009531196114473,0.7989770124498925,0.42901019083789815,-0.5402237455589697,-0.022861084931053863,-0.06703256091750681,6.186823851069636,-0.23100406619283617,-0.5299442989353335,0.15139788486416686,-0.18700944945821577,0.17709486619570447,0.38769421331986326,0.4605611102177833,-0.16787265077790195,0.09427562333111374,1.4737444463045495,-0.43997385219470136,0.004628859253002413,-0.46373238435194525,-0.6388810826759163,4.11116474374129,-0.24978688589886983,-0.47558013766378393,1.1266987304384741,-0.43395196186229973,0.18131229425851023,-0.2992798922328849,0.2085930333953574,2.1786334885427614,-0.08929227733247017,-0.24122025717321752,-0.29327773700914045,-0.582432448983456,-0.219226006779827,1.6641049035354023,-0.7328146159629892,1.3044789329815216,-0.19631201344201352,-0.17264970668787755,-0.44090366206052317,0.4515929917359728,-0.4542217551075022,-0.194585882047453,-0.17831901526320024,-0.3717417637695141,0.17268726122851707,0.08654593783496672,-0.8030876558885086,-0.12277169112089427,-0.3207649075386325,-0.6023531592398317,3.086251498637462,-0.19742351613897507,0.41972737078515204,-0.9197012063740386,-0.23601303551674535,-0.3474713022800091,1.973533289086745,-0.666409912186274,-0.3546898896219343,0.35262136380246245,-1.1426740040862808,0.0012758535100922076,-0.4265849174387523,-0.24978688589886983,-0.2446436924895268,-0.060414488617928676,0.9821856229623531,-0.5327475221358725,-0.17387230531280348,-0.3559217453572018,7.635203036139169,-0.1255406262652911,-0.5380313283515854,2.7596796853419154,-0.6349701440918762,-0.4018387464475619,3.8307131495409936,-0.42049436260190476,-0.1055438174053395,0.2983213718829295,0.410416978342194,-0.2394652983058661,-0.29386136050213696,2.453478921258128,-0.8555338585596416,-0.25429168008232905,0.2900424005018449,-0.1984623000856867,-0.1229841047421387,-0.3703648324114307,-0.24740544108856283,-0.2652950127078038,-0.2910194381946392,1.2906666120072445,-0.06391112829253641,3.563883894225898,-0.2572205307773604,0.9623003069228864,1.4261337802720633,-0.004514421496919092,0.29683574180130046,0.7141952539814802,-0.025158696429341668,0.465337027272359,0.008946036199158965,-0.10884286718383723,-0.15368460998510972,-0.24461340525951886,-0.01530108902016936,-0.2590754213788336,-0.7024889201619426,0.8368581433605032,-0.013397775675544853,0.6036977347153571,-0.007296459821782935,-0.42335884693514636,0.026976772710341147,0.15239292805778465,0.17516146374108724,0.18118756626540142,-0.0399467699219837,0.5622638621863596,0.004786134072466526,0.03365689439789779,0.44823798038428325,0.05534167042265179,0.03019743573814525,-0.25758275321004465,0.1358386242425626,-0.1386665772086214,0.10978247803120329,0.7594096517963916,-0.18221766267331282,0.33974917066363575,0.0777967749024578,-0.06771185945561328,0.685661079837953,-0.5418615701980171,0.9434103212821099,-0.41885998246924355,-0.09746090049795386,0.11952671737282729,0.08661165078345585,0.9935474232359714,1.4676235151056305,-0.5581292264970223,-0.18194011222329093,-0.021809678863330025,-0.10070218366083253,-0.6416431764021394,-0.37356678438350516,0.5585936036694004,0.038851413857394095,0.46242219925290673,0.26026631795399635,-0.0399467699219837,-0.0005087012509194483,-0.04083231148395857,6.3593148439694405,1.240318419243074,4.367293610508059,3.691708681352127,3.222079206535449,3.5407053828030297,0.9617867628200455,1.1986612412217916,-0.7873604463436092,0.6187624759603554,-0.6860022533716216,0.07552010325294677,1.4337446208941902,-0.10656460471854447,0.12386596403593503,-1.2038016590538247,-0.15623202872143435,-0.2737318752234453,-0.23872628906482113,-0.043005750494580136,-0.5388277446344706,-0.2906135882254599,-0.9039160451828333,0.4679320817703395,-0.6966617051688422,0.2829714320347121,7.414035918677626,1.7922156899442852,3.790909579240806,2.2158894009918986,-0.23519273067803284,-0.21073474945763515,-0.8873438053746363,-0.15594744037164499,-0.4465153622486071,-1.8595121919287683,-0.9996521089292729,-0.0747583015715251,-0.41257501999379276,-0.6155375896564893,-0.2685632534639067,-1.01642132295062,-0.24636982388408382,0.28318100450115485,-0.3592923454189815,-0.7437865572214425,-0.174241970783112,-0.003197070892943822,-0.5603050810454161,-0.4216408191705933,-0.25459741687244486,-1.0652017020159188,-0.8367338850607686,-0.6994423204638816,-0.07062977466054636,-0.1294653263494804,-0.18176003376944697,-0.6818699395878574,-0.30771698976566497,0.03510205303671053,-0.2113325899034293,-0.25279008202117403,-0.17859065780581415,-0.4452476110650268,-0.4386173999525151,-0.2522844151665502,-0.6330281080641956,-0.031681715343544754,-0.47787682854725233,-0.5276176772861476,-0.7728236904413437,-0.23858650168128545,-0.1272667576598456,-0.1659422919697927,-0.7422009839748583,-0.7396259468876749,0.1452261785228794,-0.4938552565585252,-0.2531047487036419,-0.42494248380786703,-0.25279008202117403,-0.2565781415297345,-0.25500048085685545,-0.6728375086043056,0.3336430326105996,-0.3197058363150036,-0.10425136302907233,-0.24978688589886983,-0.24678368977656825,0.016751147575195687,-0.0995483869485366,-0.48735602943827466,-0.40832667631929853,-0.22738237854398596,-0.256090085041234,-0.3813782802497463,0.42537836396365847,-0.1656927327922697,-0.2590754213788336,-0.9563079840057384,-0.20483938645488486,-0.03693578820330467,-0.3067584676820981,2.4359088006116858e-05,-0.13159376305392811,-0.6737741461679517,-0.24265607152204846,-0.20086136279565436,-0.1808238114727477,-0.14480948174656244,-0.012275275107769129,-0.09488380097981153,-0.9314174637409671,-0.25716338924452303,-0.06145074455539578,-0.18729088653716802,7.292465416760344,2.0684019623960643,0.5892332204709423,0.0171322972932702,0.2681282233647017,1.5761228202981292,0.7406669242369184,-0.48631687938896506,4.23402140121284,-0.5488269166937317,-0.3496581237927899,-0.7792218203175734,0.36329945073116204,1.53820714413025,-0.4979531258703451,0.18283628366033403,-0.60040525831538,-0.24013953041447944,-0.951226328996452,-0.4026600484965542,-0.40205394549086154,-0.23920258148613704,0.3406332480946823,-0.5651968239341311,-0.6493695813448783,-0.7174910907948897,-0.7195763469158848,-0.3706084740039412,-0.3053860988533653,-0.3547375840814098,-0.16828941598316544,-0.1301348469738498,-0.23428690412219938,-0.23428690412219938,-0.008314837244725511,-0.3569733723954547,-0.7396640100922245,-0.18783358515717047,1.6223778886115774,-0.03382931715951027,-0.11177569899631558,-0.15597193446446173,0.22598295008472338,0.21734396380082877,-0.8394505740560749,-0.4166393575044554,0.48082559061693914,-0.25459741687244486,-0.70925091888937,-0.41397352449736624,-1.0286847006294644,-1.020166072260164,-1.5004453773250799,-0.26572050115362533,-0.2456414078596259,-0.2014990757795391,-0.3382341669625075,-0.17091236471030913,-0.6153138577110447,-0.2498220866731802,-0.0656739638412972,-1.3404333449144057,-0.39854681593188473,-0.9634227261331803,-0.3741062259873489,-0.4129469867976208,-0.4028026005862016,-0.9404616213114759,-0.2291373094179011,-0.32087237306038485,-0.166529994913265,-0.17412471858250714,-0.17859065780581412,-0.24221725977805575,0.7206404034598505,2.42025235466279,0.508898381387285,4.892771090183908,4.977454600801264,-0.3358884020916567,0.21928948952098154,1.7404514854596302,6.122185699889758,4.481874804406238,1.5697685797993006,-0.4056455675984602,0.38846612452733476,0.30514460203545796,1.3719304254921787,-1.0332844725929364,1.0039427352672337,-0.18024164592252956,-0.8448002645815489,-0.17393752973392146,2.303972209130915,-0.7855208868333607,-0.38045304587212286,-0.23154000393650448,2.579572375690357,-0.531715475508634,-0.7211864140967317,-0.3745050031021434,0.2679240118305903,-0.7877055703086665,1.371275200176654,2.3048317051328615,-0.9585583664806562,-0.9557837090371334,-0.7793816323857877,-0.7336486390272354,-0.19998068793262347,-0.2498220866731802,-0.5279760828854011,-0.06097793288922505,2.0551498415335576,-0.19998068793262347,-0.4803284650185281,-1.4232399850840327,-0.30972939959267165,-0.386030485034753,-0.2014990757795391,-0.40589789307195645,-0.10128547788217744,-0.8641996815446632,-0.8300764096713938,-0.8638077719959578,-1.0937579857695434,-0.13176480207330613,-0.46972957853215064,-0.4539077185170073,-1.395471139115852,-0.25500048085685545,1.5171332517682354,-0.2358867324631716,-0.1984623000856867,-0.2636686880151544,-0.2636686880151544,-0.25128848396002074,-0.18783358515717047,0.19612936796979777,-0.17859065780581415,-0.06243489805025452,-0.0030263158625628236,-0.2325607727276413,-0.707766576104648,-0.17859065780581412,-0.18194011222329093,-0.11582626121854402,-0.28643196898193346,-0.5066860558120124,-0.2652950127078038,-0.37952625204483903,-0.15594744037164499,-0.38817210352454296,4.894400370902393,2.418554005119249,2.021067494143714,2.346745758077253,-0.898810279129365,2.017052042706571,4.445506673753501,3.550590723161523,4.952229584351707,2.659622329622393,-0.4962388554888523,-0.42894949411264827,1.9735284799907264,-0.2903098763787852,1.535080279962621,-0.3861665256775838,-0.13534951387209004,-0.60021525841199,-0.12352621679115562,-0.47466135479360017,1.1295278232383519,-0.9544820856406363,1.0365988612425598,-0.6801790357279347,-0.06208828339989526,-0.42942465293561044,-1.1500459193244656,-0.31896179062266533,-0.15623202872143435,-1.4153294186987235,-0.4629045132744515,-0.7764654938424111,-1.326209712104893,-1.0009988197728883,-0.7259904340733,-0.6532814137620715,-0.19542552439182176,0.2610325173832758,-0.45014480287237946,0.134767789891647,-0.1984623000856867,-0.14827460354377406,-0.3577311045009605,-0.2681931212523166,-0.18176003376944697,0.677625595594694,-0.42038623032038924,-0.19998068793262347,0.09612352699862742,-0.2014990757795391,-0.21792549897419095,-0.21728071265244842,-0.25500048085685545,-0.5554611553499048,-0.3136399753594548,-0.20173574794199725,-0.2014990757795391,-0.49389097612794586,-1.0165186146696354,-1.1015701487885774,-0.2132526225427471,2.5360504812960625,0.4860816614010467,0.6950270785589758,0.2051106202699371,0.4476047637287419,-0.8422724784723323,0.06733642251598046,1.8367487501561661,-1.187036990995338,-0.6030912006819321,-0.8892014723329219,-0.5281427174435026,0.2745646732094966,-1.1356126496394918,-0.7278533908581125,0.8199295491535529,1.993869368683711,-0.21975225622973307,0.35209568546946707,0.03182862497531489,0.40030506844608255,-0.290164317879999,-0.062271634646471646,-0.2872793747225424,-0.7672231737597041,-1.0789893208644716,-0.24423198106222435,-0.3325950746808246,-1.1162856788268336,-0.6492515719189493,-0.3149197571729087,-0.7139498220355752,-0.5024715651553201,-0.9731249272503041,-0.057334871088007416,-0.22738237854398596,-0.38785438897069785,-0.5020450119743438,-0.557390114658317,-0.034758783667972054,-0.18899993237069507,2.2895969012600146,-1.5575327090054156,-0.7781906676361883,-1.0579206626974194,-0.6940297480684565,-0.22565624714943724,-0.17091236471030913,-0.18783358515717047,0.039505784463626396,-0.775102399172915,-0.24862674419723377,-0.6355479254666423,-0.0412360634752095,-0.4014658597704751,-1.3176169943595426,-0.25500048085685545,-0.25758275321004465,-0.5375112486168094,-0.19041268561406013,-0.4563153050297286,-0.7285708013718042,-0.4531285978649749,-0.25716338924452303,-0.5151202484889799,1.029038838966022,5.319074987802003,1.06460753783501,2.8444410266184605,0.1456976548536018,-0.2518208634014683,-1.5938211405801077,-0.01770326447373332,4.019513100877066,-0.40967671281518864,-0.707459493512042,2.6076702284020414,0.7396130220755827,-0.5452209320240506,-0.3571410514719352,-0.8215327710610667,-0.8471575989100597,5.006770102930903,0.42090371845196234,-0.18120317499337169,-0.29252693763162874,-0.4033759679693076,-0.09199190134578362,1.8170370725157825,1.30378360576818,-0.045217055362903956,5.208756526820401,-0.17782057864888154,-0.32672014763278356,-0.04106517752899394,-0.4295371535656694,-0.16968900337790857,-0.04812182561030629,0.12343503750624572,1.3914958571967528,-0.34988739402610575,-0.416467199417601,-1.5014161579058374,-0.586523660185739,-0.8348148378564019,1.3671264711743043,-0.17674950644163884,-0.7170547827289535,-0.14553184481623221,-0.3490301290791382,-1.0953473930698,-0.22910850993854137,-0.7004292026414735,-1.0155549217256647,-0.12222280460479727,-0.18935197300410478,-0.37087800242781754,-0.07608380263602522,-0.7561827927134412,-0.158678751386242,-0.18631519731024881,-0.08333572583202296,-0.3466924903592888,-0.42336695056512386,-0.6350504808919591,-0.7660780876494097,-1.3483750359330713,-0.2358867324631716,-0.1647955580482736,-0.6684977552033513,3.2526617986184365,0.03953777857235953,0.8598990101076662,1.9418347899098871,-0.32350285467520207,-0.3418147153384478,1.6333069362639612,0.7295877292990822,4.798502234076507,2.671585803704018,-0.6728682673412616,-0.6097995944388213,-0.6501049545482639,-0.5395395281937297,-0.7579020998953095,-0.3204695089742138,-0.0661701205631524,-0.29536130080692324,-0.5986192262154478,-0.6741637543218645,-0.42307858411036686,-0.422262307786633,2.476837171768266,0.7826252818593248,-0.525646757988568,0.36888403226397565,-0.28871932740578643,-0.8355760085369289,-0.3526291432054434,-1.001717764538133,-0.009298846463032345,-0.4484634562279597,4.532114570253898,-0.15350575292955493,-0.12458530556297574,-0.03218985972129629,-0.3887512525482309,0.2633750583214332,-0.6303940007180916,-0.4774913952690123,-0.5356212040118011,-0.1984623000856867,0.21184528320075124,-0.4862091369158198,-0.5446876813041963,1.961729116131781,-0.25279008202117403,-0.24903176578122554,-0.2515582002274941,-0.21675172855351318,-0.3080478271902587,-0.44890761740175184,-0.7946148826290093,-0.2652950127078038,-0.24862674419723377,-0.16656552625058552,-0.16189990082802772,0.025817107277957826,-0.5900444701766688,-0.2652950127078038,-0.1647955580482736,-0.7882142018339574,-0.9268054656098105,-0.11264224489060744,8.004960666364681,-0.186106475452305,5.929303776887959,4.711801272912917,5.915293863815816,1.99023479021147,0.829275874909409,0.7067383834644662,-0.0066511351041357285,-0.1803550775802604,-0.7449575372210344,0.6207754639739747,-0.8939259724919313,0.7578901564327155,-0.6561923804265913,-0.19542552439182176,-0.3190207234603777,3.4685711145626166,-1.0701352994947766,-0.7478944897359414,1.6727001141025786,-0.30784917072927037,0.16512893145134724,-0.9336709040595704,-0.6036074650178616,-0.07632582751391093,-0.051316643359739796,0.5992424693775593,1.4839654997203318,-0.07412403601876333,-0.6507116980779809,-0.7874545864254642,-0.20512099907946066,-0.903545033436361,-0.12698710679422168,-0.25154821806773814,0.23109769677979322,0.14820033880922162,-0.9335092830392907,-0.7417649231012182,1.4255927815964262,-0.19542552439182176,-1.584173185995004,-0.572418612852015,-0.31215813915060225,-0.2522844151665502,-0.19998068793262347,-0.3705442909903891,0.2853925769645872,1.2167694902823964,-0.5444068132151264,-0.4547734252418494,-0.2590754213788336,-0.482919443095837,-1.0475444347068024,-0.25500048085685545,-0.15500866738902924,-0.7892423711628761,-1.1563657389354312,-0.16846564204550293,-1.048050828462639,-0.4325414606602809,-0.2425264670106033,-0.2014990757795391,-0.5562570926929469,-0.8425600465129566,-0.19489069012044682,-0.25128848396002074,4.94365669838528,2.1922826987299184,1.5676723769132725,-0.06015061617665665,0.9257637363899776,0.07343967680913341,2.623584315284044,-0.5183889626934549,2.3700558111155323,-0.8923391720230617,-0.3575385564966577,-0.33972295585087864,-0.5509037402487477,0.2534766091109858,5.4019766185338485,-0.24686341137681994,3.5028159583154688,0.43861788188227263,-0.5991150921735614,0.9171763942709843,-0.189623892235562,-0.5419193834561294,-0.1476684993945847,0.007865855814768315,0.14150882897524356,1.2627033544757158,-1.0146427523567925,0.5482053325543957,-0.3413794286303615,-0.011227378578082405,-0.2871123369297382,-0.018396316033806297,-0.20321653902023268,-0.2527963199198354,-0.3471631763778966,-0.3958259740679255,-1.3248812273501107,-0.9345764886786151,-0.42855612798200143,0.18561923273791955,-0.4370141471028419,-0.07284111777605723,-0.5905077108754674,-0.22393011575486615,-0.41072894700338713,-0.18783358515717047,-1.3652722030934374,-0.1368259156855567,-0.2636686880151544,0.2417585744507102,-0.1665761553001577,-0.6503014845235908,-0.38628721708899777,-0.5179987918398551,-0.1510450512674602,-0.4833186699034382,-0.16601891938068658,-0.5912033855592849,-1.1865436672161478,-0.7928132813219685,-0.2964292521353003,-0.14683459399614635,-0.2137485324312085,-0.4067241941932563,-0.38901062265718633,-0.17189174897085993,1.4321057432162345,0.49557358165646986,3.3735731196842793,1.613175250742477,-0.7848429436032713,0.399164877734805,0.2578689515071279,-0.6885045231329444,2.5283518868070716,0.9927151846348482,-0.01905634140526176,-0.4166562095039732,0.09199313201959075,-0.5816130804742926,-0.23017056480698644,1.3657955924664538,-0.47750558761456363,0.8513022079810785,-0.3584076680786498,0.06830279328290545,1.0858022868995225,-0.5419433479528167,-0.5720661811635982,-0.48125871302548223,-0.11554360411032599,-0.22596526051917348,-0.7847733765513597,-0.28901435392030356,3.6370509059972305,-0.26914166434202885,-0.20444492169834202,1.1435315427811763,-0.388001460439263,0.6127238175408524,-0.774425736789671,-1.0196950043478015,-0.6494678428052268,4.181770086313428,-0.30907920575535136,-0.05309838326666306,-0.1721357260427148,-0.019123463248365995,1.1021498323362204,-0.2650933226973795,-0.3158905048128632,1.533756753234771,0.6455181696390772,-0.1665761553001577,-0.7797301589821729,-0.3559609454138344,-0.2638754486097033,0.9763454635798476,1.5105076204634147,-0.41669883691458137,-0.18176003376944697,-0.16662130513868337,-0.23777410140965702,-1.5975829929931562,-0.15957328054267772,0.41277660570760855,-0.2906135882254599,-1.4383109986196234,-0.2014990757795391,-0.3732449571094875,-0.6280645559330834,-0.15500866738902924,-0.6957440408721809,-0.19998068793262347,-0.563722797591177,-0.4201224313236316,-0.25246921982988885,-1.0936699465051483,-0.23627250334850286,-0.19238874869796488,-0.9913487122357434,-0.31989341374499614,-0.25154821806773814,-0.6554069302458244,-0.660642948996751,-0.23326930722618522,-0.1647955580482736,-0.24636982388408382,-0.25500048085685545,-0.24512570998506708,-0.6960083827397822,-0.2088890402820524,-0.25327434946228583,-0.9639058559825076,-0.4524999417492578,-0.22492964011885633,1.1835746777035905,6.492766159078821,-0.2378053088820304,-0.17332635093706453,-0.574151327096816,1.569079376163338,0.06153543673708125,3.7786141848700634,-0.4791035933771492,-0.3381480092847256,-0.4242797522066071,-0.7988940121089325,-0.6638403968361148,0.33445939023238147,-0.4349931743977294,-0.44587123773326914,-0.9515396969144888,-0.4488985526739749,-0.39960768944127173,-0.8821265886451916,1.5339752658919317,-0.41506623978054497,-0.026108379283769967,0.6361080277191221,-0.5329924129313757,-0.8065098897303746,-0.21135081052736746,-0.8044020737639934,-0.5002645022059944,-0.4582547867948922,-0.5955899883748782,-1.83345368994455,-1.3732056220325555,-0.7582771325801858,-0.2026323546949255,0.4551843434675696,-0.3202297484940653,-0.16846564204550293,-0.11341438208719522,-0.34508045924511244,-0.7043345554986091,-0.36266780510491214,-0.21303224749798572,-0.37634136691691994,3.346406813372582,-0.44192434429273786,-1.1333319802323931,-0.4415876047282844,-0.17091236471030913,-0.32847958139086525,-0.11657930145881633,-0.18935197300410478,-1.0591778217333438,-0.10852093675757465,-1.09358488336772,-0.4133255593164838,-0.1569176490376952,-0.10980860449888061,-0.28783424786221495,-0.8513022346556206,-0.8790188176548545,-0.18024164592252956,-0.074151338197456,-0.15133858339180115,-0.24636982388408382,-0.4046174638937983,-0.17091236471030913,-0.18479680946331997,-0.8243211739617059,-0.1721357260427148,-0.18783358515717047,-0.1984623000856867,-0.25154821806773814,-0.24903176578122554,-0.5999373795678803,-0.25279008202117403,-0.14956205285434093,-0.6788014640791026,-0.2418032414243228,4.955429074338257,3.1397649196819453,1.6400729727039687,1.9676819200365985,-0.09214406204307772,0.5404876633497304,-0.2549640685543966,0.7653816988606554,0.5577954966774883,-0.6068348735647309,3.7819612833602685,-0.18348317945217965,1.0319267863998745,1.5929696756725011,0.3235755512649427,-0.5432629235610761,-0.22884379449079692,-0.04985168314525778,-0.20003734522380037,-0.7999220103072214,-0.2968633400174193,0.7268068378477271,-0.4572140468530175,-0.574233547887564,0.07703634319646505,0.6301164159377717,0.029518492040909287,-0.6091948779727892,0.9438678299362125,-0.26951908567144256,-0.2926731081200362,-0.11586110475201472,0.5387192717341116,-0.34971754273555844,-1.127441996664661,-0.8322646129520852,-0.19694391223875649,-0.3801453163733875,-0.25459741687244486,-0.2132526225427471,-0.8244060151729083,2.5873416417597905,-0.9882515559987693,-0.25500048085685545,-0.12298410474213871,-0.44676599891193775,0.8777184770400421,-0.1439984153973668,-1.18523985358598,-0.40619983108257324,-0.4871471214160397,-0.44253388074213,-0.5684394001156183,-1.3814901892649236,-0.7399086582949477,-0.5154165194866857,-0.8902317157107539,-0.3587026945931822,-0.041802279530714956,-0.15743633219612693,-0.2486267441972338,-0.17412471858250714,-0.7049977024429541,-0.05421545462735199,0.9950190385600423,0.8322342214288131,2.180214962804321,5.545841556639603,1.420693687850022,0.13769476627884095,0.23373791655089698,-0.2669073393883609,-0.3261952204150833,3.250915856224617,-0.5583478679114322,1.2812572767190522,-0.8688235579986603,-0.368035687778749,1.7588288920290638,0.558467855188925,1.8687216132659057,0.5551304998152944,1.186835082641457,-0.470130058206615,-0.3128472339930733,0.46260022632802095,0.3750686479690393,2.6372127703836727,0.3154553466523603,0.4093336460740686,-0.28288165395164794,-0.14018395300315942,-0.8465563726731408,-0.40513110189501667,0.5148412874156787,-0.16724228071309089,-0.7404366090540733,-0.34954465344207086,2.103908068092738,-0.37085050100722156,-0.25874205638557857,-0.5115942871522148,-0.051126934053358386,-0.640702209669262,-0.2980104359902849,-0.1696129309940128,-0.25429168008232905,1.5617173443986987,-0.7572725588767495,-0.23342069235549373,-0.5314571405946568,-0.14251356991832073,-0.16968900337790857,-0.3498486840886413,-0.2836775551454919,-0.4031786757307292,-0.3541042757780764,-0.19998068793262347,-1.0308840233544605,-0.14683711329007038,-0.1650577674532287,-0.6853290239043756,-0.2620423633224794,-0.08802562120809408,-0.22418996098540464,-0.2636686880151544,-1.3097796908210837,-0.5440285544232561,4.176463929126531,-0.8856175590109862,3.0270190993131725,1.6529130877079883,0.18130785244131287,-0.12336417454010479,2.152752965381856,0.16145155695386107,5.210831735067668,0.38968721209525203,-0.36734181058846765,1.188584036564906,-0.19901670995797857,-0.8358608080696807,-0.8028062776693512,-0.055514323770108655,2.341097430628747,1.1841673440658087,1.5617086671282967,-0.678518268188516,1.4223634335006299,-0.5294777409573642,-0.21744560014097306,-0.27943645399162026,1.4810921445240748,-0.7134358456988883,-0.9061154459594063,-0.8452928444019918,-0.20894298308119266,-0.6627333954331739,-1.0199783889021374,-0.25767353119486663,0.1336949371929311,-0.7858293782232314,-0.19195448883600885,0.0014876183540452432,-0.4625758218258105,-0.4693931677361882,-0.0875416060239605,-0.8208176994867531,-0.8948318659125989,0.22164505803239862,-0.513032821673785,-0.15673313561731145,-1.081603712307222,-0.19542552439182176,-0.9603629431521786,-0.3301651547204293,-0.8825202429387903,-0.8291762113504161,-1.1010610113877564,-0.24291756109497428,-0.256090085041234,-0.25327434946228583,-0.22565624714943724,-0.40614468281143035,0.3841405410674813,-0.556856538239645,-0.23967073518444085,-0.9794971628320119,-0.19390713654490352,-0.22463689539136225,-0.4974141828124298,-0.25279008202117403,-0.18221497314700555,-0.4775414355083957,2.7164020041171013,1.461777269423385,2.102773319843454,-0.4591413535662154,3.2597724591493873,-0.7489515124663828,2.568108470687026,-0.3387409103582703,1.4945616869633611,1.8588471839956668,-1.1724392043811012,-0.3426966084005145,0.1738362452466978,-0.526680513239162,-0.3350697822055357,-1.3996920623984543,0.12408211974599859,1.3156284201463275,0.6544071295108821,-0.4939984531080977,-0.440069216881362,-0.7221943411937333,0.23117715833469132,-0.8807975042162579,-0.5016742399237969,-0.9536984628040469,0.14801595004401255,-0.15345418104236602,-0.4404452208649967,-0.6913540622977038,-0.23777410140965702,-0.8189933432114178,1.4307274803528849,-0.24305435069414705,-0.3605991251791018,-0.25154821806773814,-0.25154821806773814,-0.3313222337269407,0.20509022637725835,-0.45656941044530513,-0.4128151502747658,-0.4087397641611162,-0.1721357260427148,-0.3502256758149486,-0.32977075717783344,-0.16968900337790857,-0.12058230351089567,-1.0806743234956835,-0.7679883848588802,-0.13298816340569986,-0.2587897139371763,-0.24953626990013725,-0.743932047188455,-0.12145533078923201,-0.3020436675787818,0.14571881926451571,-0.19390713654490352,-0.2966599215065619,0.09565185428327544,-0.8739493856703634,-0.22393011575486613,-0.5858752914406598,-0.25154821806773814,-0.654506196954279,-0.6623451586096365,-0.501354316971941,-1.1003295160642832,-0.25154821806773814,-0.2522844151665502,-0.6736606279860565,-0.18935197300410478,2.500590349822935,-0.08347343340995562,2.4378425986725465,1.1407228326889187,2.3051902268379703,-0.2020835462738479,-0.18298109773545687,0.3117209554777056,2.369942364147475,-0.8387928094784252,2.1427436534427193,-0.22904873222850683,1.3507004767653634,0.520365442981316,2.2410518736481166,3.9750572360095777,-1.1108574831164635,-0.3804199346548375,2.5759029566585196,-0.4122653008812567,-0.3123658826982372,1.4778807405984613,-0.15760242439006414,1.068061643905791,-0.3033370113811525,-0.7439991147835381,-0.10607421409275573,-0.2256139455953337,0.12331342554889545,1.9479647433445788,0.5799363359188303,-0.6724612936706176,-0.5759852732576823,-0.5227154555695214,-0.2898485459667967,-0.06534087519216839,-0.11097509858589943,0.29991540524819466,-0.24465777849352593,-0.5646094370029391,-0.5934149961304191,-0.8865819276868417,-0.5116201170944951,-0.14538529595399033,-0.5265961655864528,-0.6428981187876514,-0.1229841047421387,-0.2014990757795391,-0.17608248800880666,-0.1389621506968137,-0.23439484354731316,-1.0235665688027498,-0.22073627704210028,1.0146418516412234,-0.2587897139371763,-0.6332888408744357,-0.3073215186320941,-0.16846564204550293,-0.19694391223875649,-0.19998068793262347,-0.3977183494621796,-0.25154821806773814,-0.4008671379406501,-0.8754485289989135,-0.4033899628716339,-0.9306688791970428,-0.21594175292472914,-0.6989530052498834,-0.3342104033806369,-0.25279008202117403,4.079316626493534,0.15812355009625723,2.878354120554213,0.30944541158636907,-0.15146255494008531,2.856611047136258,-0.07013954320839799,3.1611028072470506,1.6783027303935947,-0.08310366945581088,-1.0775292054602177,0.24982453377997188,-0.5189693966543325,0.2875140056574572,-0.2539567165307803,-0.1721357260427148,-0.031111495751871814,-0.005452467510588333,-0.25585049469763965,0.8311358705573241,0.3164412534244911,-0.16846564204550293,-1.0339338810755156,-0.6927289249248854,-0.11645139862998057,-0.5113238778580144,-0.2539184123436629,-0.30518856836457986,-0.31222505353435054,-0.29742463361081267,-0.21996517835302662,-0.57224407396749,-0.23464121863903833,0.19797272419972642,-0.5990125401482396,-1.0136047472924443,-0.30152217146507126,1.6454492820981121,0.3018115338685027,-0.2993125474656621,-0.22926445798281528,-0.5505403284104695,-0.2066688018093457,-0.3935308857684536,-0.9924922060316269,-0.1647955580482736,-0.4319339548744066,-0.25638754976268785,-0.25154821806773814,-0.14076356190235334,-0.27601373182190403,-0.45649955663638436,-0.35742243911781074,-0.45045202758992203,-0.4350985662453077,-0.31914993159061045,-0.45390519344320046,-0.6246957570679327,-0.4367388950929501,-0.04157778530119426,-0.3099929639479316,-0.2930884665715629,-0.2826880637066187,-0.25429168008232905,-0.26971924619299287,-0.23650969143785378,-0.1362083983615669,-0.4030024898996099,-0.25065809047388493,-0.12458530556297574,-0.29389069617746233,-0.6921681205693525,-0.39214468041270395,-0.06692665145575016,-0.813548221218072,-0.19998068793262347,-0.2778661719511965,-0.574154432991414,-0.7008918045723558,-0.4290101430570783,-0.25327434946228583,-0.44393696676572253,-0.35607340117401226,0.12316008095312336,0.4784932499951904,-0.5751900668476984,-0.8405338334695948,-0.39692556254543737,-0.1823557467336205,-0.6834335706006378,-0.1942277576362179,-0.19390713654490352,2.1220592918905767,0.3579677526014521,1.7586114219426034,-0.5427483893106131,-0.4341805293109938,-0.37823080225249045,0.37981862593229254,-1.011259005583523,-0.3601778271657723,-0.1984623000856867,-0.8451078904416921,0.1922146999858472,0.2862957903581662,-1.052887198547309,1.0147910707696084,0.057876619596669086,-1.07219550612267,-0.41010620437906076,0.21889509966059642,-0.18479680946331997,-0.1871014359760188,-1.1854739010226163,-0.26980708229274886,-0.6399792257591449,1.8527119804348746,0.187472178665027,-0.18388179768280533,1.763685663400187,0.3661593308028486,-0.24809595527862996,-0.9636037247959692,-0.13641269577575663,-0.5526267907044152,1.2953195917987455,3.9738488642021395,-0.3047752322625052,-0.24903176578122554,-0.12218350433172606,-0.6063156749226027,-0.19694391223875649,-0.44970518314775426,-0.8050493320501587,-0.16601891938068658,-0.5831541118459564,-0.060563219751195295,-1.0958804925348469,-1.1026447330119447,-0.7859605434538135,-0.5781871586873931,-0.27763958702038893,-0.47442378129021473,-0.43550724959004855,-0.12240438135555122,-0.4067804287964108,-0.6623585459298933,-0.25500048085685545,-0.7473094628615728,-0.23865578373141258,-0.4472351249310899,-0.24978688589886983,-0.1984623000856867,-0.48048712724763337,-1.3197722674807504,-0.7238366195006675,-0.2590754213788336,-0.05635727799975196,-0.5777887227043393,-0.46388580458195694,-0.25429168008232905,-0.37639059119685425,-0.384439876779481,-0.2132679826710718,-0.19694391223875649,-0.23601303551674535,-0.49358698253813943,-0.4370324411875059,-0.7830934342581676,-0.6949631994985815,1.174535888035878,-0.29128474770107254,-0.4660790615734074,0.849115182722696,-0.1428019402108309,1.6009997952270216,-0.34166214648810755,-0.2838823990848361,-0.1464451380621731,-0.723896481015027,-0.11463774341960906,0.27631942227620826,-0.16787104043878648,-0.5231035875946985,-0.09626320297540956,-0.17765486296398625,-0.42346864566844095,-0.3606975617457529,-0.8048805549945119,-0.36319182842093417,0.5902665545010105,-0.5546793028561399,-0.2016201143485082,-0.3796509795282798,-0.5013091558959757,0.8381254597910835,1.302623589990577,-0.48942474186648627,-0.2635903931702806,-0.12489474464025076,-0.05575380259843814,-0.7234470776835558,-0.5248052380747114,2.314251582562943,-0.19998068793262347,-0.49560120306909045,-0.5049785086913814,-0.6941926744710146,-0.47862082815359663,-0.1984623000856867,1.9641846960049436,0.35668779938793316,1.7250648595122389,-0.3406473011216025,-0.24927673825426083,-0.6870850491005576,-0.2014990757795391,-0.8020050507878002,-0.8610790676933447,-0.725812595830679,-0.4205379184188906,-0.24265607152204846,0.32168348229371413,-0.2014990757795391,1.8005341591441688,0.09484158385088792,0.9174075752293003,-0.058489654061047315,-0.9507148035292864,2.5597236178738147,0.6837399269633333,-0.43289276474195604,-0.48471819017923046,-0.36822782906344254,-0.17091236471030913,-0.4226044904445331,-1.050407197770239,-0.28586923223765626,-0.25500048085685545,-0.37612696508283977,-0.6434805430896102,-0.2522844151665502,-0.47180661575404714,-0.4542723680149457,-0.326286254655807,-0.762703867288903,-0.24119142970042426,-0.4302448433153207,-0.23183707863600578,-0.2590754213788336,0.46411896270467257,-0.040408242969358424,0.14645524928885734,-0.09246042787527065,-0.060563219751195295,-0.731379281912014,-0.6739577549124263,1.7528415902699683,-0.3156551272523171,-0.48383682932635363,-0.38420387733538924,-0.8629759777724401,-0.2271726821515025,0.5453608567284216,2.019211521796458,0.49596651285047855,-0.20070085674137658,0.9794773861392554,0.5176032009595598,-0.14419576703848214,1.7860904669178403,-0.7595239682144345,0.45299709105179004,-0.2847084313542163,-0.43242932183063765,-0.5676495957971595,0.5175095686428274,-0.23940662227700893,-0.1831595256806074,-0.001641683254426697,-0.41968633501064084,-0.4859430616150447,-0.14522177672977843,0.13112226891466855,0.14563979746751476,-0.022961463387273257,-0.16968900337790857,-0.7988871983502291,-0.3288057125722952,-0.7535693042823334,-0.31609736219221146,-0.9205868242081842,-0.14592493277614083,0.3144170112087512,-0.5264901270943817,-0.5171417839220342,-0.740868275550889,0.1624243827527768,-0.19694391223875649,-0.14424559895585007,-0.6992991811709439,-0.17720487022866893,-0.5439165929336763,-0.03175038077328117,-0.4222427615699602,-0.7826728783268841,-0.4198516118285477,-0.25500048085685545,-0.6659112247491417,-0.18940748786378978,-0.30964629972133884,-0.7583237997369667,-0.2014990757795391,-0.2014990757795391,-0.09411743452796562,-0.25429168008232905,-0.23723661707222732,-0.303071928397229,-0.23499168060245862,-0.45577121443271934,-0.22643754019978318,-0.6347151156280159,-0.24265607152204846,1.462692329244012,-0.2634033994281082,1.4115474929893332,-0.33028118995989414,-0.1277734220146567,-0.19697983579143546,-0.2045594169024695,-0.1466183617494836,-0.7528373592330038,0.44726939226685297,0.8447640492137092,-0.6067214445653973,-0.3408203222188499,-0.6029550286087217,-0.22336764086594674,0.40869100034383193,-0.38324837958597,0.616466289320605,0.6032253441974382,0.34246226350942843,-0.1280176226346873,-0.3672229686457078,-0.018687174919629585,-0.1597058925446958,-0.4645730364183013,-0.05848965406104732,-0.6117955297463605,0.8777967417524147,-0.34038800288755255,-0.4391740596773005,0.5793949302342599,-0.12419314264377848,-0.23429266761313858,-0.25327434946228583,-0.34718890012108167,-0.23428690412219938,-0.651322595093808,-0.7761842987875188,-0.9904851666022668,-0.18594912572458777,-0.25154821806773814,-1.152085529296423,-0.4610710085779117,-0.2614982663193455,1.2228730776026193,-0.43004532160719283,-0.13065584320092513,-0.4488309536829356,-0.25500048085685545,-0.2953024003660951,-0.633131454813073,-0.17526346295154435,-0.12698710679422168,-0.5299313442584176,-0.637359370853717,-0.21529945878210338,-0.6304462150182681,-0.36232952331606577,-0.15528197837888819,-0.39691400092593043,-0.25154821806773814,-0.6305723245988643,-0.31702965914838444,0.3083873041907622,-0.50024386681226,-0.1667699044134844,-0.06615136340210917,-0.23954086327499458,-0.7202699773364025,-0.16178938555093383,-0.18327842161638738,-0.4910510665591544,-0.34242443350497065,-0.42157663615701596,-0.6863831764250274,-0.4138601042724066,-0.7334594402833362,-0.25154821806773814,-0.20323734600314153,-0.17091236471030913,-0.8575811755225685,-0.24291756109497428,-0.2014990757795391,-0.3465988470920386,-0.2441487396908379,-0.46665619616925,-0.12203870091295621,-0.5560368306764903,-0.5811903109962337,-0.4939815117216148,-0.22951586946933916,-0.5829838724450507,-0.7397062413119814,-0.2587897139371763,-0.2422788955931084,-0.04518295331230628,-0.09134668649651498,0.18381550132282634,0.9478332615060432,0.6087149000410769,-0.0908186097794246,-0.0529833284434421,-0.14302213168212446,-0.2589817768037657,0.08207002281292451,1.3189002929039273,-0.2204282582854188,-0.1787090727737152,0.773602416110933,-0.3035809847009108,-0.5272049391631205,0.028103556262058422,-0.13630707677340165,0.38786371632042,-0.08117853091806174,0.955848051744885,-0.3193170871004575,-0.5618450495321603,-0.2065191211540224,-0.23620831846891815,-0.41500147849686403,-0.5681389992213381,-0.20622749952658215,-0.06349071598797743,0.7187243090267403,-0.29300602617491295,-0.7722154988049295,-0.16185579224559174,-0.14432745284419815,-0.30435689181914366,-0.3041230256713564,-0.5044457507394247,-0.1989023495381442,-0.15990211271864635,-0.60502825053617,-0.547783885575068,-0.6679602270306279,-0.37974919009941,-0.8164864624293349,0.45017032738031854,-0.1644078393453472,-0.20512099907946066,-0.011458161994478123,-0.22910850993854137,0.04974634281589876,-0.34356207139819817,-0.4082588436568973,-0.16100868571151766,-0.5090846888599885,-0.33107668683391145,-0.19998068793262347,-0.2604160386298268,-0.35562266362498385,-0.6768632398606268,-0.40252500780337314,-0.6759301047145252,-0.18327842161638738,-0.5631914845255115,-0.2620423633224794,-0.2014990757795391,-0.243528985713811,-0.20396692671403435,-0.39990371920472206,-0.07541955878746595,-0.42927040679793405,-0.10966304402826405,-0.47528017694922586,-0.25327434946228583,-0.412103794410723,-0.25500048085685545,-0.2587897139371763,-0.2394652983058661,-0.4526968504820553,-0.1721357260427148,-0.19087036085104087,-0.22788954477667206,-0.18479680946331997,-0.1984623000856867,-0.1984623000856867,-0.24291756109497428,-0.7620754826317289,-0.1183078274168224,-0.4958154555577849,-0.35562266362498385,-0.45226911178437806,-0.25500048085685545,-0.24678368977656825,-0.5117045225898575,-0.23601303551674535,-0.16809454314709357,-0.25154821806773814,-0.4978159601449664,-0.11662226530052812,-0.11898110269006237,-0.4577456813129934,-0.4923966610784836,-0.12378470515256292,0.03747750130697333,-0.1186605394676081,-0.49584755118148693,-0.2954976702732717,0.20300395812007224,0.1267053142385034,0.12175485065018696,-0.07789694558659459,0.2531523224658033,-0.5592705740031272,0.062090681253491035,0.00033348328180713804,-0.15755334604357799,-0.06222207230331824,-0.24876686445410418,-0.19864348863282866,-0.35444255756691856,0.3357880000228913,-0.2834176437198539,-0.25154821806773814,-0.19542552439182176,-0.15331072077907026,0.01127215371343833,-0.37155920659935743,-0.0577443355995245,-0.5439805836719217,-0.2652950127078038,-0.12819593762059087,-0.3852401548344858,-0.28877641014323285,-0.17091236471030913,-0.131456622563244,-0.33761557678027515,-0.09348649031141539,-0.2682263254528912,-0.1721357260427148,-0.11277580129687219,-0.1229841047421387,0.14133466549543378,-0.3732518566090141,0.06525089266578238,0.6595506966043757,-0.29813198875798397,-0.110055679625414,-0.07935267373232271,-0.1531280587523041,-0.5742539246154897,-0.10032633276196248,-0.12795353956329344,-0.09167966652846384,-0.20374681579141654,-0.0774867603483187,0.07902509501607444,-0.38659862872493217,0.4936740972813273,0.616265622581828,0.37471336955186857,-0.6486452608048194,-0.3054343966195049,-0.249234546809665,-0.125385905973392,-0.18935197300410478,-0.11347385182150485,-0.24218237543652513,-0.1721357260427148,-0.2014990757795391,-0.09789824076736768,-0.11108502903852409,-0.061934721935082475,-0.18157981943260867,0.20840541423614017,-0.1229841047421387,-0.048576231469648054,-0.25909650086082064,-0.15584167945553007,-0.2605975375717826,-0.25716338924452303,-0.12698710679422168,-0.1647955580482736,-0.1133768998171475,-0.3790931110941775,-0.7211427381557445,-0.25327434946228583,-0.33858211551992745,-0.16724228071309089,-0.4095063781837321,-0.4519443930956044,-0.18935197300410478,-0.42937583945566915,-0.5769790398047832,-0.44890761740175184,0.2557891590512359,-0.6680628525763184,-0.3250078500894374,-0.4549811687894719,-0.16724228071309089,-0.3926458367208598,-0.2604160386298268,-0.25429168008232905,-0.25278225807933896,-0.5448455642105463,-0.4370324411875059,-0.6441890458288401,-0.18631519731024881,-0.3809652623712702,-0.2641355119491705,-0.44369446024622794,-0.3564494159978045,-0.16846564204550293,-0.07638495619399921,-0.12458530556297574,-0.17970714261163284,-0.2446436924895268,-0.1476684993945847,-0.319433126538891,-0.22910850993854137,-0.05517194895680695,-0.46715522967871986,-0.24119142970042426,-0.372411440489851,-0.19542552439182176,-0.3097327464282653,-0.16928952599091135,-0.0510248175765151,-0.36663291561665723,-0.25327434946228583,-0.3930481821331319,-0.16601891938068658,-0.1726671542886122,0.2066883557948472,0.09378970008130989,-0.08527335843548721,0.25668443870052376,-0.02808013427156873,0.032190806853819025,-0.07677731461539046,0.36538733469021584,-0.03886100016294216,0.08870521239660323,0.013485565261072174,-0.11558169693612316,0.03436201310425349,0.04953154738133985,-0.1672758834942284,-0.05360769019971816,-0.06692665145575016,-0.16916534297148744,-0.018458540151274985,0.008087885197235675,-0.3502256758149487,-0.26575915880709006,-0.07107737976267622,-0.10758791411974687,-0.05911950151012425,-0.11898110269006237,-0.03546874906719045,-0.34689387360655477,-0.14817677710680827,-0.002754597449041923,-0.25772602256951255,-0.20176510741965595,-0.3371502382216137,-0.17755723434803763,-0.08076381778003104,-0.19547212084537766,-0.1721357260427148,-0.10933324426879056,-0.13054144074089355,-0.35992605592557353,0.19456450964292624,-0.06459072607384955,0.033122500881600195,-0.08503459966577669,-0.1607734515949301,-0.1525619447242124,-0.2155416842386298,-0.16112547405105213,-0.33255181940654216,-0.4245340343303652,-0.17528332703631344,-0.20149040762566836,-0.06097793288922505,-0.286979062380002,-0.12618650638380574,-0.3514284796231688,-0.4234311335786767,-0.29789947150454354,-0.15011522205939698,-0.42260015938819095,-0.3447958806061161,-0.24636982388408382,-0.41729339917741126,-0.4126588581161123,-0.16846564204550293,-0.3422089442428375,-0.34920748361285436,-0.19998068793262347,-0.3680817574327956,-0.48486352797630256,-0.25429168008232905,-0.23637800694150005,-0.19113361925833466,-0.2590754213788336,-0.3173246856629124,-0.44276549537450755,-0.25327434946228583,-0.3680960749005489,-0.24740544108856283,-0.34377058736407584,-0.17091236471030913,-0.2604160386298268,-0.24636982388408382,0.029449970684226095,0.010107854776936076,0.006908407032873538,-0.011706561659856677,-0.030703873813058506,-0.07671354211499837,-0.0228243241904952,0.0082791611617296,-0.033192152641238135,0.009108587437788768,0.010107854776936077,-0.02771265590260651,-0.09656429119840573,0.004132029781432846,-0.01665116271886272,-0.0015265006560197811,0.0066203086096113225,-0.060563219751195295,-0.04372466411092961,-0.0032716539709631625,-0.04687768619621766,-0.024483176742614958,-0.006034813386290116,-0.01665116271886272,-0.01766916881924585,-0.11017449817548532,-0.05517194895680695,-0.1647955580482736,-0.16968900337790857,0.010689572548584372,-0.05185424385257191,-0.038120461238017316,-0.0933618895567367,-0.007343678372497793,-0.11978170310048306,-0.11898110269006237,-0.09976669284006688,-0.08283034877703278,-0.07699127233129896,-0.19238874869796488,-0.12698710679422168,-0.11343258065761289,-0.05766022778498647,-0.11818050227964645,-0.19542552439182176,-0.10937389776506318,-0.06180735916528204,-0.1647955580482736,-0.029002450151142365,-0.12138290392131135,-0.15594744037164499,-0.05185424385257191,-0.13788160873532893,-0.14889186072699012,-0.12102451989226128,-0.009968216911575858,-0.1544290525247206,-0.17091236471030913,-0.1391049700677335,-0.1665761553001577,-0.2014990757795391,-0.05413246944634409,-0.23601303551674535,-0.24119142970042426,0.15104410861261838,-0.20753915567299588,-0.1721357260427148,-0.13281478076695738,-0.1721357260427148,-0.21529945878210338,-0.13469001051462823,-0.21650527192807142],\"yaxis\":\"y\",\"type\":\"scattergl\"}],                        {\"template\":{\"data\":{\"histogram2dcontour\":[{\"type\":\"histogram2dcontour\",\"colorbar\":{\"outlinewidth\":0,\"ticks\":\"\"},\"colorscale\":[[0.0,\"#0d0887\"],[0.1111111111111111,\"#46039f\"],[0.2222222222222222,\"#7201a8\"],[0.3333333333333333,\"#9c179e\"],[0.4444444444444444,\"#bd3786\"],[0.5555555555555556,\"#d8576b\"],[0.6666666666666666,\"#ed7953\"],[0.7777777777777778,\"#fb9f3a\"],[0.8888888888888888,\"#fdca26\"],[1.0,\"#f0f921\"]]}],\"choropleth\":[{\"type\":\"choropleth\",\"colorbar\":{\"outlinewidth\":0,\"ticks\":\"\"}}],\"histogram2d\":[{\"type\":\"histogram2d\",\"colorbar\":{\"outlinewidth\":0,\"ticks\":\"\"},\"colorscale\":[[0.0,\"#0d0887\"],[0.1111111111111111,\"#46039f\"],[0.2222222222222222,\"#7201a8\"],[0.3333333333333333,\"#9c179e\"],[0.4444444444444444,\"#bd3786\"],[0.5555555555555556,\"#d8576b\"],[0.6666666666666666,\"#ed7953\"],[0.7777777777777778,\"#fb9f3a\"],[0.8888888888888888,\"#fdca26\"],[1.0,\"#f0f921\"]]}],\"heatmap\":[{\"type\":\"heatmap\",\"colorbar\":{\"outlinewidth\":0,\"ticks\":\"\"},\"colorscale\":[[0.0,\"#0d0887\"],[0.1111111111111111,\"#46039f\"],[0.2222222222222222,\"#7201a8\"],[0.3333333333333333,\"#9c179e\"],[0.4444444444444444,\"#bd3786\"],[0.5555555555555556,\"#d8576b\"],[0.6666666666666666,\"#ed7953\"],[0.7777777777777778,\"#fb9f3a\"],[0.8888888888888888,\"#fdca26\"],[1.0,\"#f0f921\"]]}],\"heatmapgl\":[{\"type\":\"heatmapgl\",\"colorbar\":{\"outlinewidth\":0,\"ticks\":\"\"},\"colorscale\":[[0.0,\"#0d0887\"],[0.1111111111111111,\"#46039f\"],[0.2222222222222222,\"#7201a8\"],[0.3333333333333333,\"#9c179e\"],[0.4444444444444444,\"#bd3786\"],[0.5555555555555556,\"#d8576b\"],[0.6666666666666666,\"#ed7953\"],[0.7777777777777778,\"#fb9f3a\"],[0.8888888888888888,\"#fdca26\"],[1.0,\"#f0f921\"]]}],\"contourcarpet\":[{\"type\":\"contourcarpet\",\"colorbar\":{\"outlinewidth\":0,\"ticks\":\"\"}}],\"contour\":[{\"type\":\"contour\",\"colorbar\":{\"outlinewidth\":0,\"ticks\":\"\"},\"colorscale\":[[0.0,\"#0d0887\"],[0.1111111111111111,\"#46039f\"],[0.2222222222222222,\"#7201a8\"],[0.3333333333333333,\"#9c179e\"],[0.4444444444444444,\"#bd3786\"],[0.5555555555555556,\"#d8576b\"],[0.6666666666666666,\"#ed7953\"],[0.7777777777777778,\"#fb9f3a\"],[0.8888888888888888,\"#fdca26\"],[1.0,\"#f0f921\"]]}],\"surface\":[{\"type\":\"surface\",\"colorbar\":{\"outlinewidth\":0,\"ticks\":\"\"},\"colorscale\":[[0.0,\"#0d0887\"],[0.1111111111111111,\"#46039f\"],[0.2222222222222222,\"#7201a8\"],[0.3333333333333333,\"#9c179e\"],[0.4444444444444444,\"#bd3786\"],[0.5555555555555556,\"#d8576b\"],[0.6666666666666666,\"#ed7953\"],[0.7777777777777778,\"#fb9f3a\"],[0.8888888888888888,\"#fdca26\"],[1.0,\"#f0f921\"]]}],\"mesh3d\":[{\"type\":\"mesh3d\",\"colorbar\":{\"outlinewidth\":0,\"ticks\":\"\"}}],\"scatter\":[{\"fillpattern\":{\"fillmode\":\"overlay\",\"size\":10,\"solidity\":0.2},\"type\":\"scatter\"}],\"parcoords\":[{\"type\":\"parcoords\",\"line\":{\"colorbar\":{\"outlinewidth\":0,\"ticks\":\"\"}}}],\"scatterpolargl\":[{\"type\":\"scatterpolargl\",\"marker\":{\"colorbar\":{\"outlinewidth\":0,\"ticks\":\"\"}}}],\"bar\":[{\"error_x\":{\"color\":\"#2a3f5f\"},\"error_y\":{\"color\":\"#2a3f5f\"},\"marker\":{\"line\":{\"color\":\"#E5ECF6\",\"width\":0.5},\"pattern\":{\"fillmode\":\"overlay\",\"size\":10,\"solidity\":0.2}},\"type\":\"bar\"}],\"scattergeo\":[{\"type\":\"scattergeo\",\"marker\":{\"colorbar\":{\"outlinewidth\":0,\"ticks\":\"\"}}}],\"scatterpolar\":[{\"type\":\"scatterpolar\",\"marker\":{\"colorbar\":{\"outlinewidth\":0,\"ticks\":\"\"}}}],\"histogram\":[{\"marker\":{\"pattern\":{\"fillmode\":\"overlay\",\"size\":10,\"solidity\":0.2}},\"type\":\"histogram\"}],\"scattergl\":[{\"type\":\"scattergl\",\"marker\":{\"colorbar\":{\"outlinewidth\":0,\"ticks\":\"\"}}}],\"scatter3d\":[{\"type\":\"scatter3d\",\"line\":{\"colorbar\":{\"outlinewidth\":0,\"ticks\":\"\"}},\"marker\":{\"colorbar\":{\"outlinewidth\":0,\"ticks\":\"\"}}}],\"scattermapbox\":[{\"type\":\"scattermapbox\",\"marker\":{\"colorbar\":{\"outlinewidth\":0,\"ticks\":\"\"}}}],\"scatterternary\":[{\"type\":\"scatterternary\",\"marker\":{\"colorbar\":{\"outlinewidth\":0,\"ticks\":\"\"}}}],\"scattercarpet\":[{\"type\":\"scattercarpet\",\"marker\":{\"colorbar\":{\"outlinewidth\":0,\"ticks\":\"\"}}}],\"carpet\":[{\"aaxis\":{\"endlinecolor\":\"#2a3f5f\",\"gridcolor\":\"white\",\"linecolor\":\"white\",\"minorgridcolor\":\"white\",\"startlinecolor\":\"#2a3f5f\"},\"baxis\":{\"endlinecolor\":\"#2a3f5f\",\"gridcolor\":\"white\",\"linecolor\":\"white\",\"minorgridcolor\":\"white\",\"startlinecolor\":\"#2a3f5f\"},\"type\":\"carpet\"}],\"table\":[{\"cells\":{\"fill\":{\"color\":\"#EBF0F8\"},\"line\":{\"color\":\"white\"}},\"header\":{\"fill\":{\"color\":\"#C8D4E3\"},\"line\":{\"color\":\"white\"}},\"type\":\"table\"}],\"barpolar\":[{\"marker\":{\"line\":{\"color\":\"#E5ECF6\",\"width\":0.5},\"pattern\":{\"fillmode\":\"overlay\",\"size\":10,\"solidity\":0.2}},\"type\":\"barpolar\"}],\"pie\":[{\"automargin\":true,\"type\":\"pie\"}]},\"layout\":{\"autotypenumbers\":\"strict\",\"colorway\":[\"#636efa\",\"#EF553B\",\"#00cc96\",\"#ab63fa\",\"#FFA15A\",\"#19d3f3\",\"#FF6692\",\"#B6E880\",\"#FF97FF\",\"#FECB52\"],\"font\":{\"color\":\"#2a3f5f\"},\"hovermode\":\"closest\",\"hoverlabel\":{\"align\":\"left\"},\"paper_bgcolor\":\"white\",\"plot_bgcolor\":\"#E5ECF6\",\"polar\":{\"bgcolor\":\"#E5ECF6\",\"angularaxis\":{\"gridcolor\":\"white\",\"linecolor\":\"white\",\"ticks\":\"\"},\"radialaxis\":{\"gridcolor\":\"white\",\"linecolor\":\"white\",\"ticks\":\"\"}},\"ternary\":{\"bgcolor\":\"#E5ECF6\",\"aaxis\":{\"gridcolor\":\"white\",\"linecolor\":\"white\",\"ticks\":\"\"},\"baxis\":{\"gridcolor\":\"white\",\"linecolor\":\"white\",\"ticks\":\"\"},\"caxis\":{\"gridcolor\":\"white\",\"linecolor\":\"white\",\"ticks\":\"\"}},\"coloraxis\":{\"colorbar\":{\"outlinewidth\":0,\"ticks\":\"\"}},\"colorscale\":{\"sequential\":[[0.0,\"#0d0887\"],[0.1111111111111111,\"#46039f\"],[0.2222222222222222,\"#7201a8\"],[0.3333333333333333,\"#9c179e\"],[0.4444444444444444,\"#bd3786\"],[0.5555555555555556,\"#d8576b\"],[0.6666666666666666,\"#ed7953\"],[0.7777777777777778,\"#fb9f3a\"],[0.8888888888888888,\"#fdca26\"],[1.0,\"#f0f921\"]],\"sequentialminus\":[[0.0,\"#0d0887\"],[0.1111111111111111,\"#46039f\"],[0.2222222222222222,\"#7201a8\"],[0.3333333333333333,\"#9c179e\"],[0.4444444444444444,\"#bd3786\"],[0.5555555555555556,\"#d8576b\"],[0.6666666666666666,\"#ed7953\"],[0.7777777777777778,\"#fb9f3a\"],[0.8888888888888888,\"#fdca26\"],[1.0,\"#f0f921\"]],\"diverging\":[[0,\"#8e0152\"],[0.1,\"#c51b7d\"],[0.2,\"#de77ae\"],[0.3,\"#f1b6da\"],[0.4,\"#fde0ef\"],[0.5,\"#f7f7f7\"],[0.6,\"#e6f5d0\"],[0.7,\"#b8e186\"],[0.8,\"#7fbc41\"],[0.9,\"#4d9221\"],[1,\"#276419\"]]},\"xaxis\":{\"gridcolor\":\"white\",\"linecolor\":\"white\",\"ticks\":\"\",\"title\":{\"standoff\":15},\"zerolinecolor\":\"white\",\"automargin\":true,\"zerolinewidth\":2},\"yaxis\":{\"gridcolor\":\"white\",\"linecolor\":\"white\",\"ticks\":\"\",\"title\":{\"standoff\":15},\"zerolinecolor\":\"white\",\"automargin\":true,\"zerolinewidth\":2},\"scene\":{\"xaxis\":{\"backgroundcolor\":\"#E5ECF6\",\"gridcolor\":\"white\",\"linecolor\":\"white\",\"showbackground\":true,\"ticks\":\"\",\"zerolinecolor\":\"white\",\"gridwidth\":2},\"yaxis\":{\"backgroundcolor\":\"#E5ECF6\",\"gridcolor\":\"white\",\"linecolor\":\"white\",\"showbackground\":true,\"ticks\":\"\",\"zerolinecolor\":\"white\",\"gridwidth\":2},\"zaxis\":{\"backgroundcolor\":\"#E5ECF6\",\"gridcolor\":\"white\",\"linecolor\":\"white\",\"showbackground\":true,\"ticks\":\"\",\"zerolinecolor\":\"white\",\"gridwidth\":2}},\"shapedefaults\":{\"line\":{\"color\":\"#2a3f5f\"}},\"annotationdefaults\":{\"arrowcolor\":\"#2a3f5f\",\"arrowhead\":0,\"arrowwidth\":1},\"geo\":{\"bgcolor\":\"white\",\"landcolor\":\"#E5ECF6\",\"subunitcolor\":\"white\",\"showland\":true,\"showlakes\":true,\"lakecolor\":\"white\"},\"title\":{\"x\":0.05},\"mapbox\":{\"style\":\"light\"}}},\"xaxis\":{\"anchor\":\"y\",\"domain\":[0.0,1.0],\"title\":{\"text\":\"x\"}},\"yaxis\":{\"anchor\":\"x\",\"domain\":[0.0,1.0],\"title\":{\"text\":\"y\"}},\"coloraxis\":{\"colorbar\":{\"title\":{\"text\":\"fg2m_pct\"}},\"colorscale\":[[0.0,\"#0d0887\"],[0.1111111111111111,\"#46039f\"],[0.2222222222222222,\"#7201a8\"],[0.3333333333333333,\"#9c179e\"],[0.4444444444444444,\"#bd3786\"],[0.5555555555555556,\"#d8576b\"],[0.6666666666666666,\"#ed7953\"],[0.7777777777777778,\"#fb9f3a\"],[0.8888888888888888,\"#fdca26\"],[1.0,\"#f0f921\"]],\"cmin\":0.1,\"cmax\":0.5},\"legend\":{\"tracegroupgap\":0,\"itemsizing\":\"constant\"},\"title\":{\"text\":\"fg2m\"}},                        {\"responsive\": true}                    ).then(function(){\n",
       "                            \n",
       "var gd = document.getElementById('6182ed18-6961-4b56-a573-b33fca37ec73');\n",
       "var x = new MutationObserver(function (mutations, observer) {{\n",
       "        var display = window.getComputedStyle(gd).display;\n",
       "        if (!display || display === 'none') {{\n",
       "            console.log([gd, 'removed!']);\n",
       "            Plotly.purge(gd);\n",
       "            observer.disconnect();\n",
       "        }}\n",
       "}});\n",
       "\n",
       "// Listen for the removal of the full notebook cells\n",
       "var notebookContainer = gd.closest('#notebook-container');\n",
       "if (notebookContainer) {{\n",
       "    x.observe(notebookContainer, {childList: true});\n",
       "}}\n",
       "\n",
       "// Listen for the clearing of the current output cell\n",
       "var outputEl = gd.closest('.output');\n",
       "if (outputEl) {{\n",
       "    x.observe(outputEl, {childList: true});\n",
       "}}\n",
       "\n",
       "                        })                };                });            </script>        </div>"
      ]
     },
     "metadata": {},
     "output_type": "display_data"
    }
   ],
   "source": [
    "plot_scatter(df, rotated_means_results, \"fg2m\", \"binomial\", \"fg2a\")"
   ]
  },
  {
   "cell_type": "code",
   "execution_count": null,
   "metadata": {},
   "outputs": [],
   "source": [
    "plt.scatter(rotated_means[:,0], rotated_means[:,1], c= df_max_vals[\"fg3m\"]/df_max_vals[\"fg3a\"])\n"
   ]
  },
  {
   "cell_type": "code",
   "execution_count": null,
   "metadata": {},
   "outputs": [],
   "source": []
  }
 ],
 "metadata": {
  "kernelspec": {
   "display_name": "base",
   "language": "python",
   "name": "python3"
  },
  "language_info": {
   "codemirror_mode": {
    "name": "ipython",
    "version": 3
   },
   "file_extension": ".py",
   "mimetype": "text/x-python",
   "name": "python",
   "nbconvert_exporter": "python",
   "pygments_lexer": "ipython3",
   "version": "3.10.9"
  },
  "orig_nbformat": 4
 },
 "nbformat": 4,
 "nbformat_minor": 2
}
