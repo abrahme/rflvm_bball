{
 "cells": [
  {
   "cell_type": "code",
   "execution_count": 1,
   "metadata": {},
   "outputs": [
    {
     "data": {
      "text/html": [
       "        <script type=\"text/javascript\">\n",
       "        window.PlotlyConfig = {MathJaxConfig: 'local'};\n",
       "        if (window.MathJax && window.MathJax.Hub && window.MathJax.Hub.Config) {window.MathJax.Hub.Config({SVG: {font: \"STIX-Web\"}});}\n",
       "        if (typeof require !== 'undefined') {\n",
       "        require.undef(\"plotly\");\n",
       "        requirejs.config({\n",
       "            paths: {\n",
       "                'plotly': ['https://cdn.plot.ly/plotly-2.20.0.min']\n",
       "            }\n",
       "        });\n",
       "        require(['plotly'], function(Plotly) {\n",
       "            window._Plotly = Plotly;\n",
       "        });\n",
       "        }\n",
       "        </script>\n",
       "        "
      ]
     },
     "metadata": {},
     "output_type": "display_data"
    }
   ],
   "source": [
    "import numpy as np\n",
    "import pickle\n",
    "import matplotlib.pyplot as plt\n",
    "from plotly.offline import init_notebook_mode\n",
    "init_notebook_mode(connected = True)"
   ]
  },
  {
   "cell_type": "code",
   "execution_count": 2,
   "metadata": {},
   "outputs": [],
   "source": [
    "import os\n",
    "experiment_result = {}\n",
    "for file in os.listdir(\"experiments\"):\n",
    "    if file.endswith(\".pickle\"):\n",
    "        with open(f\"experiments/{file}\",\"rb\") as f:\n",
    "            data = pickle.load(f)\n",
    "        f.close()\n",
    "        experiment_result[file.split(\".\")[0]] = data"
   ]
  },
  {
   "cell_type": "code",
   "execution_count": 10,
   "metadata": {},
   "outputs": [
    {
     "data": {
      "text/plain": [
       "(1000, 2332, 2)"
      ]
     },
     "execution_count": 10,
     "metadata": {},
     "output_type": "execute_result"
    }
   ],
   "source": [
    "experiment_result[\"binomial_ftm_rflvm\"][\"X\"].shape"
   ]
  },
  {
   "cell_type": "code",
   "execution_count": 40,
   "metadata": {},
   "outputs": [],
   "source": [
    "import numpy as np\n",
    "from scipy.linalg import svd \n",
    "from typing import Tuple\n",
    "\n",
    "def varimax(Phi, gamma = 1.0, q = 20, tol = 1e-6):\n",
    "\n",
    "    p,k = Phi.shape\n",
    "    R = np.eye(k)\n",
    "    d=0\n",
    "    for i in range(q):\n",
    "        d_old = d\n",
    "        Lambda = np.dot(Phi, R)\n",
    "        u,s,vh = svd(np.dot(Phi.T,np.asarray(Lambda)**3 - (gamma/p) * np.dot(Lambda, np.diag(np.diag(np.dot(Lambda.T,Lambda))))))\n",
    "        R = np.dot(u,vh)\n",
    "        d = np.sum(s)\n",
    "        if d_old!=0 and d/d_old < 1 + tol: break\n",
    "    return np.dot(Phi, R)\n",
    "\n",
    "\n",
    "def rotate_factors(player_factor_tensor:np.ndarray, use_varimax:bool = True)->Tuple[np.ndarray, np.ndarray]:\n",
    "    \"\"\"\n",
    "\n",
    "    Args:\n",
    "        player_factor_tensor (np.ndarray): sample x num factors x num players \n",
    "        varimax (bool): whether to apply varimax rotation or not\n",
    "\n",
    "    Returns:\n",
    "        np.ndarray: sample x num factors x num players  rotated tensor\n",
    "    \"\"\"\n",
    "\n",
    "    n_samples, n_factors, _ = player_factor_tensor.shape\n",
    "    output_tensor = np.zeros_like(player_factor_tensor)\n",
    "    rotations = [np.eye(n_factors)]\n",
    "    output_tensor[0,:,:] = player_factor_tensor[0,:,:] if not use_varimax else varimax(player_factor_tensor[0,:,:])\n",
    "    for i in range(1,n_samples):\n",
    "        U, _, V =  svd(output_tensor[0,:,:].dot(player_factor_tensor[i,:,:].T), full_matrices=False)\n",
    "        rotation = U.dot(V)\n",
    "        rotations.append(rotation)\n",
    "        output_tensor[i,:,:] = rotation.dot(player_factor_tensor[i,:,:])\n",
    "    print(len(rotations))\n",
    "    return output_tensor, np.stack(rotations,axis = 0)\n",
    "\n",
    "\n"
   ]
  },
  {
   "cell_type": "code",
   "execution_count": 41,
   "metadata": {},
   "outputs": [
    {
     "name": "stdout",
     "output_type": "stream",
     "text": [
      "1000\n",
      "1000\n",
      "1000\n",
      "1000\n",
      "1000\n",
      "1000\n",
      "1000\n",
      "1000\n",
      "1000\n",
      "1000\n",
      "1000\n"
     ]
    }
   ],
   "source": [
    "rotated_experiment_results = {}\n",
    "# for model in experiment_result:\n",
    "#     print(model, experiment_result[model][\"X\"])\n",
    "#     rotated_experiment_results[model] = rotate_factors(np.swapaxes(experiment_result[model][\"X\"], axis1 = 1, axis2=2))\n",
    "\n",
    "rotated_experiment_results[\"poisson_ast_rflvm\"] = rotate_factors(np.swapaxes(experiment_result[\"poisson_ast_rflvm\"][\"X\"],1,2))\n",
    "rotated_experiment_results[\"poisson_stl_rflvm\"] = rotate_factors(np.swapaxes(experiment_result[\"poisson_stl_rflvm\"][\"X\"],1,2))\n",
    "rotated_experiment_results[\"poisson_blk_rflvm\"] = rotate_factors(np.swapaxes(experiment_result[\"poisson_blk_rflvm\"][\"X\"],1,2))\n",
    "rotated_experiment_results[\"poisson_dreb_rflvm\"] = rotate_factors(np.swapaxes(experiment_result[\"poisson_dreb_rflvm\"][\"X\"],1,2))\n",
    "rotated_experiment_results[\"poisson_oreb_rflvm\"] = rotate_factors(np.swapaxes(experiment_result[\"poisson_oreb_rflvm\"][\"X\"],1,2))\n",
    "rotated_experiment_results[\"gaussian_bpm_rflvm\"] = rotate_factors(np.swapaxes(experiment_result[\"gaussian_bpm_rflvm\"][\"X\"],1,2))\n",
    "rotated_experiment_results[\"gaussian_dbpm_rflvm\"] = rotate_factors(np.swapaxes(experiment_result[\"gaussian_dbpm_rflvm\"][\"X\"],1,2))\n",
    "rotated_experiment_results[\"gaussian_obpm_rflvm\"] = rotate_factors(np.swapaxes(experiment_result[\"gaussian_obpm_rflvm\"][\"X\"],1,2))\n",
    "rotated_experiment_results[\"binomial_ftm_rflvm\"] = rotate_factors(np.swapaxes(experiment_result[\"binomial_ftm_rflvm\"][\"X\"],1,2))\n",
    "rotated_experiment_results[\"binomial_fg2m_rflvm\"] = rotate_factors(np.swapaxes(experiment_result[\"binomial_fg2m_rflvm\"][\"X\"],1,2))\n",
    "rotated_experiment_results[\"binomial_fg3m_rflvm\"] = rotate_factors(np.swapaxes(experiment_result[\"binomial_fg3m_rflvm\"][\"X\"],1,2))"
   ]
  },
  {
   "cell_type": "code",
   "execution_count": 4,
   "metadata": {},
   "outputs": [],
   "source": []
  },
  {
   "cell_type": "code",
   "execution_count": 42,
   "metadata": {},
   "outputs": [],
   "source": [
    "rotated_means_results = {model : rotated_experiment_results[model][0].mean(axis=0).T for model in  rotated_experiment_results}"
   ]
  },
  {
   "cell_type": "code",
   "execution_count": 10,
   "metadata": {},
   "outputs": [],
   "source": []
  },
  {
   "cell_type": "code",
   "execution_count": 43,
   "metadata": {},
   "outputs": [
    {
     "data": {
      "text/plain": [
       "{'poisson_ast_rflvm': array([[-0.77955127, -0.31252417],\n",
       "        [ 3.03080943, -0.66348468],\n",
       "        [-0.21793832,  0.41636184],\n",
       "        ...,\n",
       "        [-0.51433442,  0.46664878],\n",
       "        [ 0.12029459, -0.12547487],\n",
       "        [-0.97031239,  0.58311113]]),\n",
       " 'poisson_stl_rflvm': array([[-0.75296253,  0.2707299 ],\n",
       "        [-1.17499283,  0.33398007],\n",
       "        [-0.48201936,  0.11116952],\n",
       "        ...,\n",
       "        [-0.22202047, -0.11665657],\n",
       "        [-0.04909354, -0.03588178],\n",
       "        [-0.50164334, -0.02004732]]),\n",
       " 'poisson_blk_rflvm': array([[-0.23714523, -0.46303191],\n",
       "        [ 0.06777094, -0.54193865],\n",
       "        [-1.04252833, -0.70617365],\n",
       "        ...,\n",
       "        [-0.67819896,  0.76689656],\n",
       "        [-0.43935093,  1.00095136],\n",
       "        [ 0.50773111, -0.09605224]]),\n",
       " 'poisson_dreb_rflvm': array([[-0.32803275, -0.04177471],\n",
       "        [ 0.6788238 , -0.15288084],\n",
       "        [ 0.58459001,  1.07821281],\n",
       "        ...,\n",
       "        [ 0.07606217,  0.2658391 ],\n",
       "        [ 0.65828453,  0.61112861],\n",
       "        [ 0.03153441,  0.20541559]]),\n",
       " 'poisson_oreb_rflvm': array([[-0.32679272, -0.65372727],\n",
       "        [-1.22579498, -1.36049519],\n",
       "        [-2.12453759, -0.85430798],\n",
       "        ...,\n",
       "        [-0.18662108, -0.11846142],\n",
       "        [-1.20553109, -1.06959759],\n",
       "        [-0.96883192, -0.52041365]]),\n",
       " 'gaussian_bpm_rflvm': array([[-1.81438569e+00,  1.48740731e+00],\n",
       "        [ 1.00585427e+00, -7.42690600e-01],\n",
       "        [ 8.31769246e-01, -4.70890785e-01],\n",
       "        ...,\n",
       "        [ 7.93494032e-02, -1.15872801e-01],\n",
       "        [ 9.22230485e-03,  5.99153093e-03],\n",
       "        [ 7.01581820e-04,  1.30871732e-01]]),\n",
       " 'gaussian_dbpm_rflvm': array([[-0.01910845, -0.02911153],\n",
       "        [-0.36989322, -0.56266689],\n",
       "        [ 0.03084435, -0.03954438],\n",
       "        ...,\n",
       "        [-0.02723726,  0.00141926],\n",
       "        [ 0.01082897, -0.09302864],\n",
       "        [-0.0087023 ,  0.04848801]]),\n",
       " 'gaussian_obpm_rflvm': array([[ 0.0275638 , -0.01688717],\n",
       "        [-0.18369781,  0.0393903 ],\n",
       "        [-0.08585418, -0.00103744],\n",
       "        ...,\n",
       "        [ 0.11898976, -0.06564946],\n",
       "        [ 0.04706939, -0.06466983],\n",
       "        [-0.01149234,  0.03986863]]),\n",
       " 'binomial_ftm_rflvm': array([[-0.01314879,  0.05675166],\n",
       "        [ 0.02294558, -0.04104063],\n",
       "        [ 0.0026164 , -0.01524833],\n",
       "        ...,\n",
       "        [ 0.12747493,  0.2140091 ],\n",
       "        [ 0.10393752,  0.23634186],\n",
       "        [ 0.19033333,  0.20322154]]),\n",
       " 'binomial_fg2m_rflvm': array([[-0.02776783, -0.00776008],\n",
       "        [-0.53324979, -0.16002883],\n",
       "        [-0.02016393, -0.00406149],\n",
       "        ...,\n",
       "        [ 0.31524454, -0.21529946],\n",
       "        [ 0.28244633, -0.13469001],\n",
       "        [ 0.17831798, -0.21650527]]),\n",
       " 'binomial_fg3m_rflvm': array([[ 0.04873908, -0.10739154],\n",
       "        [-0.60778022,  1.22727091],\n",
       "        [-0.02733472,  0.04752099],\n",
       "        ...,\n",
       "        [-0.04827586, -0.15193601],\n",
       "        [-0.05584498, -0.25838643],\n",
       "        [-0.13434036, -0.2574387 ]])}"
      ]
     },
     "execution_count": 43,
     "metadata": {},
     "output_type": "execute_result"
    }
   ],
   "source": [
    "rotated_means_results"
   ]
  },
  {
   "cell_type": "code",
   "execution_count": 12,
   "metadata": {},
   "outputs": [],
   "source": [
    "import pandas as pd\n",
    "df = pd.read_csv(\"datasets/player_data.csv\")"
   ]
  },
  {
   "cell_type": "code",
   "execution_count": 13,
   "metadata": {},
   "outputs": [],
   "source": [
    "df = df.sort_values(by=[\"id\",\"year\"])\n"
   ]
  },
  {
   "cell_type": "code",
   "execution_count": 14,
   "metadata": {},
   "outputs": [],
   "source": [
    "import plotly.express as px\n",
    "\n",
    "\n",
    "def plot_scatter(dataframe, rotated_means_dict, metric, model, offset = \"minutes\"):\n",
    "    key_name = f\"{model}_{metric}_rflvm\"\n",
    "    df_size_vals = dataframe[[offset,\"id\"]].groupby(\"id\").mean().reset_index()\n",
    "    df_names = dataframe[[\"id\",\"name\"]].drop_duplicates()[\"name\"].values\n",
    "    data = pd.DataFrame(rotated_means_dict[key_name], columns=[\"x\",\"y\"])\n",
    "    data[\"names\"] = df_names\n",
    "    data[offset] = df_size_vals[offset]\n",
    "    if model == \"binomial\":\n",
    "        df_color_vals = dataframe[[metric,offset, \"id\"]].groupby(\"id\").sum().reset_index()\n",
    "        data[f\"{metric}_pct\"] = df_color_vals[metric]/df_color_vals[offset]\n",
    "        fig = px.scatter(data_frame= data,   \n",
    "                   x = \"x\", y = \"y\", hover_data = [f\"{metric}_pct\",offset,\"names\"], title = metric, size = offset,\n",
    "                         color = f\"{metric}_pct\", range_color = [.1,.7])\n",
    "    elif model == \"poisson\":\n",
    "        df_color_vals = dataframe[[metric,offset,\"id\"]].groupby(\"id\").sum().reset_index()\n",
    "        data[f\"{metric}_rate\"] = df_color_vals[metric]/df_color_vals[offset]\n",
    "        fig = px.scatter(data_frame = data, x = \"x\", y = \"y\", hover_data = [f\"{metric}_rate\",offset,\"names\"], \n",
    "                         title = metric, size = offset,\n",
    "                         color = f\"{metric}_rate\", range_color = [0,.1])\n",
    "    elif model == \"gaussian\":\n",
    "        df_color_vals = dataframe[[metric, \"id\"]].groupby(\"id\").mean().reset_index()\n",
    "        data[\"hover\"] = df_color_vals[metric]\n",
    "        fig = px.scatter(data_frame = data, x = \"x\", y = \"y\", color = \"hover\",\n",
    "                    size = offset, hover_data = [\"hover\",offset,\"names\"], title = metric )\n",
    "    \n",
    "    fig.show()\n",
    "    \n",
    "\n",
    "    \n"
   ]
  },
  {
   "cell_type": "code",
   "execution_count": 18,
   "metadata": {},
   "outputs": [
    {
     "data": {
      "application/vnd.plotly.v1+json": {
       "config": {
        "plotlyServerURL": "https://plot.ly"
       },
       "data": [
        {
         "customdata": [
          [
           0.3882978723404255,
           188,
           "Byron Scott"
          ],
          [
           0.25,
           15.428571428571429,
           "Grant Long"
          ],
          [
           0,
           0.3333333333333333,
           "Dan Schayes"
          ],
          [
           0.4,
           20,
           "Sedale Threatt"
          ],
          [
           null,
           0,
           "Chris King"
          ],
          [
           0.4057112068965517,
           154.66666666666666,
           "Eric Piatkowski"
          ],
          [
           0.336322869955157,
           334.5,
           "Clyde Drexler"
          ],
          [
           0.3751160631383473,
           179.5,
           "Greg Anthony"
          ],
          [
           0.14285714285714285,
           3.5,
           "Rik Smits"
          ],
          [
           0.2,
           11.25,
           "Dennis Rodman"
          ],
          [
           0,
           0.4,
           "Luc Longley"
          ],
          [
           0.2777777777777778,
           10.8,
           "Doug West"
          ],
          [
           0.1,
           2,
           "Jim McIlvaine"
          ],
          [
           null,
           0,
           "Lorenzo Williams"
          ],
          [
           0,
           1,
           "Clifford Rozier"
          ],
          [
           0,
           0.5,
           "Eric Riley"
          ],
          [
           0.36666666666666664,
           30,
           "Sarunas Marciulionis"
          ],
          [
           0.2647058823529412,
           17,
           "Greg Graham"
          ],
          [
           0.2857142857142857,
           10.5,
           "Brad Lohaus"
          ],
          [
           0.14814814814814814,
           3.857142857142857,
           "Monty Williams"
          ],
          [
           0.3623693379790941,
           179.375,
           "Chris Whitney"
          ],
          [
           0.3528550512445095,
           227.66666666666666,
           "George McCloud"
          ],
          [
           null,
           0,
           "Wayman Tisdale"
          ],
          [
           null,
           0,
           "Gheorghe Muresan"
          ],
          [
           0.3539518900343643,
           97,
           "Mahmoud Abdul-Rauf"
          ],
          [
           0,
           2,
           "Micheal Williams"
          ],
          [
           0.37442396313364057,
           173.6,
           "Mario Elie"
          ],
          [
           0.125,
           1.6,
           "Dickey Simpkins"
          ],
          [
           0.2,
           2.5,
           "Marty Conlon"
          ],
          [
           0.32178387650085766,
           265,
           "Gary Payton"
          ],
          [
           0.35355029585798814,
           184.36363636363637,
           "Doug Christie"
          ],
          [
           0.25,
           2.6666666666666665,
           "Carl Herrera"
          ],
          [
           0,
           0.8,
           "Michael Smith"
          ],
          [
           0.3909378292939937,
           189.8,
           "Sam Perkins"
          ],
          [
           0.22388059701492538,
           22.333333333333332,
           "Greg Minor"
          ],
          [
           0,
           0.6,
           "Tom Hammonds"
          ],
          [
           0.42416107382550333,
           106.42857142857143,
           "Steve Kerr"
          ],
          [
           0.2774869109947644,
           63.666666666666664,
           "Pooh Richardson"
          ],
          [
           0.3581395348837209,
           95.55555555555556,
           "Kenny Anderson"
          ],
          [
           0,
           0.6666666666666666,
           "Hot Rod Williams"
          ],
          [
           0.3046683046683047,
           81.4,
           "Cedric Ceballos"
          ],
          [
           0.2621951219512195,
           23.428571428571427,
           "Doug Overton"
          ],
          [
           null,
           0,
           "LaSalle Thompson"
          ],
          [
           0.15789473684210525,
           38,
           "Ken Norman"
          ],
          [
           0.35294117647058826,
           8.5,
           "Jeff Grayer"
          ],
          [
           0.3333333333333333,
           0.75,
           "Bill Wennington"
          ],
          [
           0.3416867469879518,
           230.55555555555554,
           "Latrell Sprewell"
          ],
          [
           0.37813211845102507,
           73.16666666666667,
           "Brent Price"
          ],
          [
           null,
           0,
           "Dikembe Mutombo"
          ],
          [
           null,
           0,
           "Steve Scheffler"
          ],
          [
           0.35933333333333334,
           300,
           "Nick Van Exel"
          ],
          [
           0.43492063492063493,
           118.125,
           "Hubert Davis"
          ],
          [
           0,
           0.2857142857142857,
           "Mark Bryant"
          ],
          [
           0.3876651982378855,
           90.8,
           "Detlef Schrempf"
          ],
          [
           0.34130434782608693,
           230,
           "Nick Anderson"
          ],
          [
           0.31868131868131866,
           22.75,
           "Tim Legler"
          ],
          [
           0.367003367003367,
           148.5,
           "Todd Day"
          ],
          [
           null,
           0,
           "Benoit Benjamin"
          ],
          [
           0.3474277660324172,
           236.5,
           "Dan Majerle"
          ],
          [
           0.40142729705619984,
           280.25,
           "Dale Ellis"
          ],
          [
           0.33376877857609405,
           127.58333333333333,
           "Robert Horry"
          ],
          [
           0.3085250338294993,
           105.57142857142857,
           "LaPhonso Ellis"
          ],
          [
           0.33766233766233766,
           38.5,
           "Dontonio Wingfield"
          ],
          [
           0.3333333333333333,
           15,
           "David Wood"
          ],
          [
           0.37135135135135133,
           205.55555555555554,
           "Steven Smith"
          ],
          [
           0.1111111111111111,
           3,
           "Patrick Ewing"
          ],
          [
           null,
           0,
           "Fred Roberts"
          ],
          [
           0.2947976878612717,
           21.625,
           "Robert Pack"
          ],
          [
           0.24102564102564103,
           21.666666666666668,
           "Vlade Divac"
          ],
          [
           0.32786885245901637,
           91.5,
           "David Benoit"
          ],
          [
           0,
           1,
           "Dino Radja"
          ],
          [
           0.3616532721010333,
           237.54545454545453,
           "David Wesley"
          ],
          [
           0.4104803493449782,
           76.33333333333333,
           "Kevin Johnson"
          ],
          [
           0,
           1.1666666666666667,
           "P.J. Brown"
          ],
          [
           0.3174451858913251,
           209.8,
           "Vernon Maxwell"
          ],
          [
           null,
           0,
           "Anthony Avent"
          ],
          [
           0,
           1,
           "Donald Royal"
          ],
          [
           0.3564954682779456,
           110.33333333333333,
           "Terry Dehere"
          ],
          [
           0.37604245640636846,
           164.875,
           "Tracy Murray"
          ],
          [
           0.3593429158110883,
           81.16666666666667,
           "Jud Buechler"
          ],
          [
           0.3606382978723404,
           170.9090909090909,
           "Jalen Rose"
          ],
          [
           0,
           1,
           "Adrian Caldwell"
          ],
          [
           0,
           1,
           "Antoine Carr"
          ],
          [
           0.3544857768052516,
           152.33333333333334,
           "Derek Harper"
          ],
          [
           0.3333333333333333,
           3,
           "Tim Breaux"
          ],
          [
           0.33810888252148996,
           99.71428571428571,
           "Chris Childs"
          ],
          [
           0.24324324324324326,
           6.166666666666667,
           "Hakeem Olajuwon"
          ],
          [
           0.30467289719626167,
           107,
           "Ron Harper"
          ],
          [
           0.33578792341678937,
           97,
           "Chris Mills"
          ],
          [
           0.4,
           1.25,
           "Joe Kleine"
          ],
          [
           0.3563636363636364,
           91.66666666666667,
           "Keith Askins"
          ],
          [
           null,
           0,
           "Alton Lister"
          ],
          [
           null,
           0,
           "Antonio Harvey"
          ],
          [
           0.37155963302752293,
           43.6,
           "Muggsy Bogues"
          ],
          [
           0.18181818181818182,
           1.8333333333333333,
           "Olden Polynice"
          ],
          [
           0.34615384615384615,
           117,
           "Bryant Stith"
          ],
          [
           0.40875912408759124,
           39.142857142857146,
           "John Crotty"
          ],
          [
           0.43703703703703706,
           135,
           "Kenny Smith"
          ],
          [
           0.33816425120772947,
           41.4,
           "Billy Owens"
          ],
          [
           0.25,
           1.3333333333333333,
           "Bison Dele"
          ],
          [
           0.3827993254637437,
           148.25,
           "Bobby Phills"
          ],
          [
           0.30289855072463767,
           57.5,
           "Chris Webber"
          ],
          [
           0.5714285714285714,
           1.75,
           "Terry Cummings"
          ],
          [
           0.6666666666666666,
           0.6,
           "Duane Causwell"
          ],
          [
           0.37962037962037964,
           250.25,
           "Dennis Scott"
          ],
          [
           0.2,
           1.6666666666666667,
           "Anthony Mason"
          ],
          [
           0.6,
           5,
           "Anthony Bowie"
          ],
          [
           0.36009732360097324,
           137,
           "Lee Mayberry"
          ],
          [
           0.35789473684210527,
           114,
           "Scott Burrell"
          ],
          [
           0.4045977011494253,
           124.28571428571429,
           "Danny Ferry"
          ],
          [
           0.2647058823529412,
           34,
           "Reggie Williams"
          ],
          [
           0,
           0.2857142857142857,
           "Chris Dudley"
          ],
          [
           0.3230769230769231,
           13,
           "Gary Grant"
          ],
          [
           0.3644067796610169,
           59,
           "Nate McMillan"
          ],
          [
           0.4214417744916821,
           135.25,
           "Jeff Hornacek"
          ],
          [
           0.33116883116883117,
           128.33333333333334,
           "Sam Cassell"
          ],
          [
           0.4148550724637681,
           184,
           "Dell Curry"
          ],
          [
           0.3561643835616438,
           109.5,
           "Terrell Brandon"
          ],
          [
           null,
           0,
           "Eric Mobley"
          ],
          [
           null,
           0,
           "Yinka Dare"
          ],
          [
           0.05,
           2,
           "Antonio Davis"
          ],
          [
           0.32106038291605304,
           97,
           "Brian Shaw"
          ],
          [
           0.33739837398373984,
           41,
           "Vinny Del Negro"
          ],
          [
           0.14285714285714285,
           0.7777777777777778,
           "Clar. Weatherspoon"
          ],
          [
           0.2222222222222222,
           2.25,
           "Bill Curley"
          ],
          [
           0.3734349482852477,
           306.1666666666667,
           "Eddie Jones"
          ],
          [
           0,
           1.5,
           "Antonio Lang"
          ],
          [
           0.1111111111111111,
           1.8,
           "Adam Keefe"
          ],
          [
           0.36363636363636365,
           96.25,
           "Khalid Reeves"
          ],
          [
           0.33766233766233766,
           25.666666666666668,
           "Kevin Edwards"
          ],
          [
           0,
           0.625,
           "Tyrone Hill"
          ],
          [
           0.34994582881906827,
           83.9090909090909,
           "Darrick Martin"
          ],
          [
           0.38686131386861317,
           137,
           "Brooks Thompson"
          ],
          [
           null,
           0,
           "Darrin Hancock"
          ],
          [
           0.3516597510373444,
           87.63636363636364,
           "Aaron McKie"
          ],
          [
           0.37445414847161573,
           152.66666666666666,
           "Dee Brown"
          ],
          [
           0,
           3,
           "Greg Anderson"
          ],
          [
           0.4005819592628516,
           343.6666666666667,
           "Joe Dumars"
          ],
          [
           0.317351598173516,
           48.666666666666664,
           "George Lynch"
          ],
          [
           0.3652694610778443,
           100.2,
           "Sean Elliott"
          ],
          [
           0.2465753424657534,
           9.125,
           "Karl Malone"
          ],
          [
           0.32608695652173914,
           40.25,
           "Grant Hill"
          ],
          [
           0.14285714285714285,
           0.7,
           "Brian Grant"
          ],
          [
           0,
           0.3333333333333333,
           "Michael Cage"
          ],
          [
           0.297029702970297,
           33.666666666666664,
           "Harvey Grant"
          ],
          [
           0.043478260869565216,
           2.875,
           "Horace Grant"
          ],
          [
           0.35807860262008734,
           114.5,
           "Johnny Newman"
          ],
          [
           0.36,
           16.666666666666668,
           "Duane Ferrell"
          ],
          [
           0.3987012987012987,
           256.6666666666667,
           "Allan Houston"
          ],
          [
           0.0625,
           3.2,
           "Stacey Augmon"
          ],
          [
           null,
           0,
           "Charles Jones"
          ],
          [
           null,
           0,
           "Felton Spencer"
          ],
          [
           0.15789473684210525,
           2.111111111111111,
           "Scott Williams"
          ],
          [
           0.3584033613445378,
           170,
           "Lindsey Hunter"
          ],
          [
           null,
           0,
           "Eric Leckner"
          ],
          [
           0,
           1.5,
           "Armen Gilliam"
          ],
          [
           0.34782608695652173,
           46,
           "Ledell Eackles"
          ],
          [
           null,
           0,
           "Ed Pinckney"
          ],
          [
           0,
           0.16666666666666666,
           "Anthony Miller"
          ],
          [
           0,
           1,
           "Charles Smith"
          ],
          [
           0.34832134292565947,
           208.5,
           "Rick Fox"
          ],
          [
           0.1,
           1.8181818181818181,
           "Alonzo Mourning"
          ],
          [
           0.34365325077399383,
           143.55555555555554,
           "Glenn Robinson"
          ],
          [
           0.3284006829823563,
           292.8333333333333,
           "Mookie Blaylock"
          ],
          [
           0.3948087431693989,
           104.57142857142857,
           "John Stockton"
          ],
          [
           null,
           0,
           "Robert Parish"
          ],
          [
           null,
           0,
           "Derrick Alston"
          ],
          [
           0.2835820895522388,
           33.5,
           "Bobby Hurley"
          ],
          [
           0.5,
           4,
           "Richard Manning"
          ],
          [
           0.33530571992110453,
           253.5,
           "John Starks"
          ],
          [
           0.3333333333333333,
           6,
           "Jamie Watson"
          ],
          [
           0.25,
           6.857142857142857,
           "Greg Foster"
          ],
          [
           0.3851727982162765,
           199.33333333333334,
           "Anthony Peeler"
          ],
          [
           0,
           0.3333333333333333,
           "Rick Mahorn"
          ],
          [
           0.20202020202020202,
           14.142857142857142,
           "Danny Manning"
          ],
          [
           0.48214285714285715,
           112,
           "Kevin Gamble"
          ],
          [
           0.42105263157894735,
           19,
           "Willie Anderson"
          ],
          [
           0.24858757062146894,
           19.666666666666668,
           "Tom Gugliotta"
          ],
          [
           0.17647058823529413,
           5.666666666666667,
           "Joe Wolf"
          ],
          [
           0.4019253910950662,
           118.71428571428571,
           "Dana Barros"
          ],
          [
           0.4015957446808511,
           188,
           "Terry Porter"
          ],
          [
           0.3364485981308411,
           21.4,
           "Mitchell Butler"
          ],
          [
           0.35089209855564996,
           147.125,
           "Mark Jackson"
          ],
          [
           null,
           0,
           "Stacey King"
          ],
          [
           0.3333333333333333,
           228.75,
           "Darrell Armstrong"
          ],
          [
           0.2692307692307692,
           13,
           "Vincent Askew"
          ],
          [
           0.2857142857142857,
           77,
           "Chris Morris"
          ],
          [
           0.3176605504587156,
           79.27272727272727,
           "Anfernee Hardaway"
          ],
          [
           0.29850746268656714,
           11.166666666666666,
           "Chucky Brown"
          ],
          [
           0.358974358974359,
           223.36363636363637,
           "Clifford Robinson"
          ],
          [
           0.28708133971291866,
           23.22222222222222,
           "Christian Laettner"
          ],
          [
           0.3604004449388209,
           224.75,
           "Rex Chapman"
          ],
          [
           0.2900763358778626,
           21.833333333333332,
           "Derrick McKey"
          ],
          [
           0.5,
           1,
           "Dwayne Schintzius"
          ],
          [
           0.3677811550151976,
           182.77777777777777,
           "Charlie Ward"
          ],
          [
           0.3952569169960474,
           151.8,
           "Terry Mills"
          ],
          [
           0.34604651162790695,
           179.16666666666666,
           "Isaiah Rider"
          ],
          [
           0,
           0.3333333333333333,
           "Eric Montross"
          ],
          [
           0.28421052631578947,
           95,
           "Craig Ehlo"
          ],
          [
           0.3047619047619048,
           35,
           "Tony Smith"
          ],
          [
           0.34851138353765326,
           142.75,
           "James Robinson"
          ],
          [
           0.2810344827586207,
           64.44444444444444,
           "Kendall Gill"
          ],
          [
           0.24553571428571427,
           22.4,
           "Calbert Cheaney"
          ],
          [
           0.34509803921568627,
           42.5,
           "Elliot Perry"
          ],
          [
           0.3331314354936402,
           165.1,
           "Toni Kukoc"
          ],
          [
           0.3601694915254237,
           236,
           "Sasha Danilovic"
          ],
          [
           0.22142857142857142,
           31.11111111111111,
           "Rod Strickland"
          ],
          [
           0.39287782281412853,
           383.77777777777777,
           "Reggie Miller"
          ],
          [
           0.14285714285714285,
           0.875,
           "Sean Rooks"
          ],
          [
           0.041666666666666664,
           4.8,
           "Derek Strong"
          ],
          [
           0.75,
           4,
           "Kevin Duckworth"
          ],
          [
           0,
           0.7333333333333333,
           "Shaquille O'Neal"
          ],
          [
           0,
           0.5,
           "Sharone Wright"
          ],
          [
           0.2857142857142857,
           18.666666666666668,
           "Willie Burton"
          ],
          [
           0.2753623188405797,
           34.5,
           "Sam Mitchell"
          ],
          [
           0.43478260869565216,
           11.5,
           "Scott Brooks"
          ],
          [
           0,
           3.3333333333333335,
           "Jayson Williams"
          ],
          [
           0.14473684210526316,
           9.5,
           "Avery Johnson"
          ],
          [
           0.26595744680851063,
           31.333333333333332,
           "Chris Gatling"
          ],
          [
           0,
           0.3333333333333333,
           "Terry Davis"
          ],
          [
           0.28634361233480177,
           45.4,
           "Sherman Douglas"
          ],
          [
           0.3230769230769231,
           9.285714285714286,
           "Shawn Kemp"
          ],
          [
           0.378839590443686,
           73.25,
           "Pete Chilcutt"
          ],
          [
           0,
           0.5,
           "Buck Williams"
          ],
          [
           0.1875,
           16,
           "Tony Dumas"
          ],
          [
           0.30337078651685395,
           14.833333333333334,
           "Carlos Rogers"
          ],
          [
           0.06666666666666667,
           1.7647058823529411,
           "Juwan Howard"
          ],
          [
           null,
           0,
           "Robert Werdann"
          ],
          [
           0,
           0.25,
           "Zan Tabak"
          ],
          [
           0.3763250883392226,
           125.77777777777777,
           "Lamond Murray"
          ],
          [
           null,
           0,
           "Pervis Ellison"
          ],
          [
           0.42160919540229885,
           241.66666666666666,
           "Wesley Person"
          ],
          [
           0.34269005847953216,
           95,
           "Lucious Harris"
          ],
          [
           0.10714285714285714,
           2.3333333333333335,
           "Bo Outlaw"
          ],
          [
           0.20192307692307693,
           10.4,
           "Vin Baker"
          ],
          [
           0.32954545454545453,
           176,
           "Chuck Person"
          ],
          [
           0,
           0.25,
           "Andrew Lang"
          ],
          [
           0.35854545454545456,
           137.5,
           "Howard Eisley"
          ],
          [
           0.2702702702702703,
           4.625,
           "Popeye Jones"
          ],
          [
           0.25,
           4,
           "J.R. Reid"
          ],
          [
           0.3536053882725832,
           296.94117647058823,
           "Jason Kidd"
          ],
          [
           0.40088430361090643,
           135.7,
           "Jon Barry"
          ],
          [
           0.36056718433490886,
           185.125,
           "Jamal Mashburn"
          ],
          [
           0.32432432432432434,
           37,
           "Melvin Booker"
          ],
          [
           0.125,
           16,
           "Donnie Boyce"
          ],
          [
           0.39869989165763814,
           153.83333333333334,
           "Matt Bullard"
          ],
          [
           0.21739130434782608,
           2.090909090909091,
           "Alan Henderson"
          ],
          [
           0,
           0.5,
           "Reggie Jordan"
          ],
          [
           null,
           0,
           "Thomas Hamilton"
          ],
          [
           0.3185840707964602,
           61.63636363636363,
           "Eric Williams"
          ],
          [
           0.25,
           2,
           "George Zidek"
          ],
          [
           0,
           1,
           "Jason Caffey"
          ],
          [
           0.07692307692307693,
           3.25,
           "John Amaechi"
          ],
          [
           0.3684210526315789,
           23.75,
           "Donny Marshall"
          ],
          [
           0.32326530612244897,
           136.11111111111111,
           "Bob Sura"
          ],
          [
           0.4166666666666667,
           6,
           "Loren Meyer"
          ],
          [
           0.08333333333333333,
           1.5,
           "Cherokee Parks"
          ],
          [
           0.125,
           4,
           "Antonio McDyess"
          ],
          [
           0.28095238095238095,
           23.333333333333332,
           "Michael Curry"
          ],
          [
           0,
           0.06666666666666667,
           "Theo Ratliff"
          ],
          [
           0,
           0.14285714285714285,
           "Don Reid"
          ],
          [
           0.2727272727272727,
           11,
           "Lou Roe"
          ],
          [
           0,
           0.1111111111111111,
           "Andrew DeClercq"
          ],
          [
           0.20408163265306123,
           6.533333333333333,
           "Joe Smith"
          ],
          [
           0.3767313019390582,
           144.4,
           "Sam Mack"
          ],
          [
           0.4030612244897959,
           65.33333333333333,
           "Eldridge Recasner"
          ],
          [
           0.3453815261044177,
           83,
           "Travis Best"
          ],
          [
           0.39701173959445035,
           104.11111111111111,
           "Fred Hoiberg"
          ],
          [
           0.3484848484848485,
           110,
           "Eddie Johnson"
          ],
          [
           0.4043229497774952,
           242,
           "Brent Barry"
          ],
          [
           null,
           0,
           "Keith Tower"
          ],
          [
           0.5,
           2,
           "Frankie King"
          ],
          [
           0.3852739726027397,
           233.6,
           "Voshon Lenard"
          ],
          [
           0.3,
           1.7647058823529411,
           "Kurt Thomas"
          ],
          [
           0.3374233128834356,
           54.333333333333336,
           "Shawn Respert"
          ],
          [
           0.3225806451612903,
           93,
           "Jerome Allen"
          ],
          [
           0.2376237623762376,
           25.25,
           "Mark Davis"
          ],
          [
           0.27483443708609273,
           30.2,
           "Kevin Garnett"
          ],
          [
           0.2571428571428571,
           70,
           "Ed O'Bannon"
          ],
          [
           0,
           0.3333333333333333,
           "David Vaughn"
          ],
          [
           0.3075601374570447,
           171.1764705882353,
           "Jerry Stackhouse"
          ],
          [
           0.5,
           0.6666666666666666,
           "Mario Bennett"
          ],
          [
           0.34498834498834496,
           85.8,
           "Chris Carr"
          ],
          [
           0.3770979967514889,
           263.85714285714283,
           "Michael Finley"
          ],
          [
           null,
           0,
           "John Coker"
          ],
          [
           0.32142857142857145,
           56,
           "Rumeal Robinson"
          ],
          [
           0.31189710610932475,
           51.833333333333336,
           "Arvydas Sabonis"
          ],
          [
           0.0975609756097561,
           5.125,
           "Gary Trent"
          ],
          [
           0.2631578947368421,
           19,
           "Randolph Childress"
          ],
          [
           0.20689655172413793,
           19.333333333333332,
           "Tyus Edney"
          ],
          [
           0.14634146341463414,
           3.727272727272727,
           "Corliss Williamson"
          ],
          [
           0.34991708126036486,
           100.5,
           "Cory Alexander"
          ],
          [
           0,
           1,
           "Dell Demps"
          ],
          [
           0.20784313725490197,
           21.25,
           "Eric Snow"
          ],
          [
           null,
           0,
           "Jimmy King"
          ],
          [
           0.3333333333333333,
           3,
           "Martin Lewis"
          ],
          [
           0.1,
           1,
           "Greg Ostertag"
          ],
          [
           1,
           1,
           "Ashraf Amaya"
          ],
          [
           0,
           2,
           "Cuonzo Martin"
          ],
          [
           0.2887323943661972,
           71,
           "Lawrence Moten"
          ],
          [
           0.08333333333333333,
           4.8,
           "Bryant Reeves"
          ],
          [
           null,
           0,
           "Bob McCann"
          ],
          [
           0.3366179275270184,
           209.73333333333332,
           "Rasheed Wallace"
          ],
          [
           0.15217391304347827,
           6.571428571428571,
           "Randy Brown"
          ],
          [
           0.3739793140990746,
           183.7,
           "Jim Jackson"
          ],
          [
           0.35273425007994885,
           260.5833333333333,
           "Damon Stoudamire"
          ],
          [
           0.21212121212121213,
           19.8,
           "Jerome Kersey"
          ],
          [
           0.19047619047619047,
           7,
           "Matt Geiger"
          ],
          [
           0.10344827586206896,
           3.2222222222222223,
           "Shawn Bradley"
          ],
          [
           0.2,
           0.5555555555555556,
           "Tony Massenburg"
          ],
          [
           0.125,
           1.1428571428571428,
           "David Robinson"
          ],
          [
           0.386119257086999,
           204.6,
           "Hersey Hawkins"
          ],
          [
           0.358974358974359,
           15.6,
           "David Wingate"
          ],
          [
           0,
           5,
           "Acie Earl"
          ],
          [
           0.31952662721893493,
           42.25,
           "B.J. Armstrong"
          ],
          [
           null,
           0,
           "Mark West"
          ],
          [
           null,
           0,
           "Elmore Spencer"
          ],
          [
           0.3508771929824561,
           57,
           "Rex Walters"
          ],
          [
           0.4093919325707405,
           207.625,
           "Glen Rice"
          ],
          [
           0,
           0.2,
           "Will Perdue"
          ],
          [
           0.3814713896457766,
           244.66666666666666,
           "Mitch Richmond"
          ],
          [
           0.35,
           20,
           "Frank Brickowski"
          ],
          [
           0.3393939393939394,
           41.25,
           "Eric Murdock"
          ],
          [
           0.30448717948717946,
           104,
           "Gerald Wilkins"
          ],
          [
           0.2529411764705882,
           85,
           "Charles Barkley"
          ],
          [
           0.13157894736842105,
           3.8,
           "Kevin Willis"
          ],
          [
           0.25396825396825395,
           15.75,
           "Charles Oakley"
          ],
          [
           0,
           1,
           "Spud Webb"
          ],
          [
           0.3145009416195857,
           132.75,
           "Michael Jordan"
          ],
          [
           0.42592592592592593,
           54,
           "Ricky Pierce"
          ],
          [
           0.3307543520309478,
           103.4,
           "Tyrone Corbin"
          ],
          [
           0.3546581367453019,
           357.2857142857143,
           "Tim Hardaway"
          ],
          [
           0.3150684931506849,
           73,
           "Blue Edwards"
          ],
          [
           0.3744292237442922,
           219,
           "Mark Price"
          ],
          [
           null,
           0,
           "Matt Fish"
          ],
          [
           0,
           2.4,
           "Otis Thorpe"
          ],
          [
           0.24054982817869416,
           36.375,
           "Bimbo Coles"
          ],
          [
           0.4280104712041885,
           152.8,
           "Chris Mullin"
          ],
          [
           0,
           0.45454545454545453,
           "Dale Davis"
          ],
          [
           0.3333333333333333,
           31,
           "Haywoode Workman"
          ],
          [
           0.32398753894080995,
           80.25,
           "Malik Sealy"
          ],
          [
           0.16666666666666666,
           0.6,
           "Ervin Johnson"
          ],
          [
           0.4,
           20,
           "Rafael Addison"
          ],
          [
           0.31993299832495814,
           119.4,
           "Larry Johnson"
          ],
          [
           0,
           0.25,
           "Stanley Roberts"
          ],
          [
           0.3490269930947897,
           177,
           "Rodney Rogers"
          ],
          [
           0.13636363636363635,
           2.75,
           "Corie Blount"
          ],
          [
           0,
           0.5,
           "Jack Haley"
          ],
          [
           0.1111111111111111,
           3.6,
           "Loy Vaught"
          ],
          [
           0.047619047619047616,
           8.4,
           "A.C. Green"
          ],
          [
           0.08333333333333333,
           2.6666666666666665,
           "Elden Campbell"
          ],
          [
           0.35921463632307005,
           172.3846153846154,
           "Donyell Marshall"
          ],
          [
           0.3844444444444444,
           64.28571428571429,
           "Anthony Goldwire"
          ],
          [
           0,
           2,
           "Sean Higgins"
          ],
          [
           null,
           0,
           "John Salley"
          ],
          [
           0.2558139534883721,
           43,
           "Tracy Moore"
          ],
          [
           0.32098765432098764,
           16.2,
           "Don MacLean"
          ],
          [
           0,
           1.4,
           "Oliver Miller"
          ],
          [
           0.30793650793650795,
           70,
           "Derrick Coleman"
          ],
          [
           0.37485714285714283,
           175,
           "Bryon Russell"
          ],
          [
           0.3327217125382263,
           204.375,
           "Scottie Pippen"
          ],
          [
           0,
           1.6666666666666667,
           "Rony Seikaly"
          ],
          [
           null,
           0,
           "Pete Myers"
          ],
          [
           null,
           0,
           "Earl Cureton"
          ],
          [
           null,
           0,
           "Ennis Whatley"
          ],
          [
           0.31303576707064734,
           241.64285714285714,
           "Allen Iverson"
          ],
          [
           0.20454545454545456,
           5.176470588235294,
           "Marcus Camby"
          ],
          [
           0.29672447013487474,
           43.25,
           "Shareef Abdur-Rahim"
          ],
          [
           0.32513123359580054,
           234.46153846153845,
           "Stephon Marbury"
          ],
          [
           0.4001884506663077,
           412.72222222222223,
           "Ray Allen"
          ],
          [
           0.325046904315197,
           355.3333333333333,
           "Antoine Walker"
          ],
          [
           0.06896551724137931,
           2.230769230769231,
           "Lorenzen Wright"
          ],
          [
           0.37758433079434167,
           229.75,
           "Kerry Kittles"
          ],
          [
           0.1111111111111111,
           0.9,
           "Samaki Walker"
          ],
          [
           0.125,
           1,
           "Erick Dampier"
          ],
          [
           0,
           0.8,
           "Todd Fuller"
          ],
          [
           0.16666666666666666,
           0.5454545454545454,
           "Vitaly Potapenko"
          ],
          [
           0.42777354658542777,
           218.83333333333334,
           "Steve Nash"
          ],
          [
           0.3430232558139535,
           137.6,
           "Tony Delk"
          ],
          [
           0.3,
           7.142857142857143,
           "John Wallace"
          ],
          [
           0.34597875569044007,
           131.8,
           "Walter McCarty"
          ],
          [
           0.2608695652173913,
           23,
           "Dontae' Jones"
          ],
          [
           0.5,
           0.6666666666666666,
           "Roy Rogers"
          ],
          [
           0.3735408560311284,
           185.61111111111111,
           "Derek Fisher"
          ],
          [
           0.038461538461538464,
           2.888888888888889,
           "Jerome Williams"
          ],
          [
           0.3425925925925926,
           36,
           "Brian Evans"
          ],
          [
           0,
           0.5,
           "Priest Lauderdale"
          ],
          [
           0.25862068965517243,
           8.285714285714286,
           "Travis Knight"
          ],
          [
           0,
           0.9166666666666666,
           "Othella Harrington"
          ],
          [
           0.16666666666666666,
           4.5,
           "Mark Hendrickson"
          ],
          [
           0.32831001076426264,
           84.45454545454545,
           "Jeff McInnis"
          ],
          [
           0.3294266137756942,
           277.3,
           "Kobe Bryant"
          ],
          [
           0.4007285974499089,
           337.84615384615387,
           "Peja Stojakovic"
          ],
          [
           0.14736842105263157,
           5.277777777777778,
           "Jermaine O'Neal"
          ],
          [
           0.3069306930693069,
           7.769230769230769,
           "Zydrunas Ilgauskas"
          ],
          [
           0.5,
           8,
           "Efthimios Rentzias"
          ],
          [
           0.3225806451612903,
           31,
           "Martin Muursepp"
          ],
          [
           0.2857142857142857,
           45.111111111111114,
           "Moochie Norris"
          ],
          [
           0,
           2,
           "Steve Hamer"
          ],
          [
           0.3333333333333333,
           1.5,
           "Jason Sasser"
          ],
          [
           0.35051546391752575,
           8.818181818181818,
           "Randy Livingston"
          ],
          [
           null,
           0,
           "Ben Davis"
          ],
          [
           0.17721518987341772,
           6.076923076923077,
           "Malik Rose"
          ],
          [
           0.3333333333333333,
           19.5,
           "Marcus Brown"
          ],
          [
           0.4,
           6,
           "Jamie Feick"
          ],
          [
           0.3741935483870968,
           77.5,
           "Chris Robinson"
          ],
          [
           0.17857142857142858,
           9.333333333333334,
           "Mark Pope"
          ],
          [
           null,
           0,
           "Jeff Nordgaard"
          ],
          [
           0.31584362139917693,
           97.2,
           "Shandon Anderson"
          ],
          [
           0.32786885245901637,
           30.5,
           "Reggie Geary"
          ],
          [
           0.38095238095238093,
           21,
           "Drew Barry"
          ],
          [
           0.396873120865905,
           237.57142857142858,
           "Walt Williams"
          ],
          [
           0,
           0.3333333333333333,
           "Herb Williams"
          ],
          [
           0.35214446952595935,
           73.83333333333333,
           "Emanual Davis"
          ],
          [
           0.3333333333333333,
           1.5,
           "Horacio Llamas"
          ],
          [
           0.25,
           4,
           "Evric Gray"
          ],
          [
           0.25,
           2,
           "Darvin Ham"
          ],
          [
           null,
           0,
           "Shawnelle Scott"
          ],
          [
           0,
           4,
           "Litterial Green"
          ],
          [
           null,
           0,
           "Stojko Vrankovic"
          ],
          [
           0.4166666666666667,
           24,
           "Juaquin Hawkins"
          ],
          [
           0,
           9,
           "Nate Driggers"
          ],
          [
           0,
           0.75,
           "Amal McCaskill"
          ],
          [
           0.2891566265060241,
           41.5,
           "Shane Heal"
          ],
          [
           null,
           0,
           "Dean Garrett"
          ],
          [
           0,
           0.5,
           "Ben Handlogten"
          ],
          [
           null,
           0,
           "Ed Stokes"
          ],
          [
           0.7142857142857143,
           7,
           "Aleksandar Djordjevic"
          ],
          [
           null,
           0,
           "William Cunningham"
          ],
          [
           0.30985915492957744,
           35.5,
           "Carl Thomas"
          ],
          [
           null,
           0,
           "Brent Scott"
          ],
          [
           0.3509991311902693,
           127.88888888888889,
           "Erick Strickland"
          ],
          [
           1,
           1,
           "Greg Dreiling"
          ],
          [
           null,
           0,
           "Devin Gray"
          ],
          [
           0,
           0.3333333333333333,
           "Reggie Slater"
          ],
          [
           0.3718546132339236,
           178.83333333333334,
           "Matt Maloney"
          ],
          [
           null,
           0,
           "Michael McDonald"
          ],
          [
           0.2,
           5,
           "Ray Owes"
          ],
          [
           0.424390243902439,
           102.5,
           "Henry James"
          ],
          [
           0,
           0.3333333333333333,
           "Ira Bowman"
          ],
          [
           0.19047619047619047,
           7,
           "Joe Stephens"
          ],
          [
           0.3641325536062378,
           233.1818181818182,
           "Chucky Atkins"
          ],
          [
           null,
           0,
           "Kevin Salvadori"
          ],
          [
           0,
           2,
           "Gaylon Nickerson"
          ],
          [
           1,
           0.5,
           "Ivano Newbill"
          ],
          [
           0,
           2,
           "Matt Steigenga"
          ],
          [
           0.18867924528301888,
           26.5,
           "Tony Farmer"
          ],
          [
           0,
           4,
           "James Scott"
          ],
          [
           0.2222222222222222,
           1.2857142857142858,
           "Mark Strickland"
          ],
          [
           0.13725490196078433,
           3.1875,
           "Ben Wallace"
          ],
          [
           0.3594080338266385,
           157.66666666666666,
           "Jaren Jackson"
          ],
          [
           null,
           0,
           "Tim Kempton"
          ],
          [
           0.3333333333333333,
           9,
           "Elmer Bennett"
          ],
          [
           0.16666666666666666,
           6,
           "Dexter Boney"
          ],
          [
           0.29069767441860467,
           129,
           "Dominique Wilkins"
          ],
          [
           0.24324324324324326,
           37,
           "Larry Stewart"
          ],
          [
           0.32432432432432434,
           18.5,
           "Donald Whiteside"
          ],
          [
           null,
           0,
           "Stephen Howard"
          ],
          [
           0,
           6,
           "Ruben Nembhard"
          ],
          [
           null,
           0,
           "Jimmy Carruth"
          ],
          [
           0.6,
           2.5,
           "Corey Beck"
          ],
          [
           0.1836734693877551,
           8.166666666666666,
           "Ike Austin"
          ],
          [
           0,
           1,
           "Brett Szabo"
          ],
          [
           0.6666666666666666,
           3,
           "Chris Jent"
          ],
          [
           0.3050847457627119,
           14.75,
           "Michael Hawkins"
          ],
          [
           null,
           0,
           "Mark Bradtke"
          ],
          [
           0.2,
           12.5,
           "Xavier McDaniel"
          ],
          [
           0.2911392405063291,
           39.5,
           "Lloyd Daniels"
          ],
          [
           0.35294117647058826,
           34,
           "John Long"
          ],
          [
           0.06666666666666667,
           1.25,
           "Aaron Williams"
          ],
          [
           0.3333333333333333,
           3,
           "Jimmy Oliver"
          ],
          [
           null,
           0,
           "Joe Courtney"
          ],
          [
           null,
           0,
           "Dragan Tarlac"
          ],
          [
           null,
           0,
           "Zeljko Rebraca"
          ],
          [
           0.11764705882352941,
           2.4285714285714284,
           "Lawrence Funderburke"
          ],
          [
           0.6666666666666666,
           1.5,
           "Tom Chambers"
          ],
          [
           null,
           0,
           "Larry Krystkowiak"
          ],
          [
           0.3928914505283381,
           160.15384615384616,
           "Bruce Bowen"
          ],
          [
           0.16666666666666666,
           6,
           "Stevin Smith"
          ],
          [
           null,
           0,
           "Mike Brown"
          ],
          [
           0.23333333333333334,
           30,
           "Lionel Simmons"
          ],
          [
           0.17857142857142858,
           8.842105263157896,
           "Tim Duncan"
          ],
          [
           0.3607250755287009,
           183.88888888888889,
           "Keith Van Horn"
          ],
          [
           0.3873015873015873,
           277.94117647058823,
           "Chauncey Billups"
          ],
          [
           0.31109185441941073,
           88.76923076923077,
           "Antonio Daniels"
          ],
          [
           0.16216216216216217,
           5.285714285714286,
           "Tony Battie"
          ],
          [
           0.25,
           30,
           "Ron Mercer"
          ],
          [
           0.36872364890762743,
           200.69230769230768,
           "Tim Thomas"
          ],
          [
           0,
           0.16666666666666666,
           "Adonal Foyle"
          ],
          [
           0.33802376485303315,
           213.2,
           "Tracy McGrady"
          ],
          [
           0.16666666666666666,
           1.2,
           "Danny Fortson"
          ],
          [
           0.23684210526315788,
           12.666666666666666,
           "Tariq Abdul-Wahad"
          ],
          [
           0.3399366085578447,
           105.16666666666667,
           "Austin Croshere"
          ],
          [
           0.34108937070333156,
           171.9090909090909,
           "Derek Anderson"
          ],
          [
           0.15151515151515152,
           3.6666666666666665,
           "Maurice Taylor"
          ],
          [
           0.07692307692307693,
           1.3,
           "Kelvin Cato"
          ],
          [
           0.13445378151260504,
           9.916666666666666,
           "Brevin Knight"
          ],
          [
           0.39436619718309857,
           23.666666666666668,
           "Johnny Taylor"
          ],
          [
           0.13793103448275862,
           9.666666666666666,
           "Chris Anstey"
          ],
          [
           0,
           0.18181818181818182,
           "Scot Pollard"
          ],
          [
           null,
           0,
           "Paul Grant"
          ],
          [
           0.4043419267299864,
           163.77777777777777,
           "Anthony Parker"
          ],
          [
           0.3409090909090909,
           44,
           "Ed Gray"
          ],
          [
           0.35387776065742166,
           162.25,
           "Bobby Jackson"
          ],
          [
           0.2,
           5,
           "Rodrick Rhodes"
          ],
          [
           0,
           0.4,
           "John Thomas"
          ],
          [
           0.288,
           50,
           "Charles Smith"
          ],
          [
           0.35185185185185186,
           22.5,
           "Jacque Vaughn"
          ],
          [
           0.09090909090909091,
           5.5,
           "Keith Booth"
          ],
          [
           0,
           2,
           "Charles O'Bannon"
          ],
          [
           0,
           3.5,
           "James Cotton"
          ],
          [
           0.42857142857142855,
           3.5,
           "Marko Milic"
          ],
          [
           0.16666666666666666,
           6,
           "Bubba Wells"
          ],
          [
           null,
           0,
           "Kebu Stewart"
          ],
          [
           0.45,
           20,
           "James Collins"
          ],
          [
           0.22580645161290322,
           4.428571428571429,
           "Marc Jackson"
          ],
          [
           0.3617021276595745,
           47,
           "Jerald Honeycutt"
          ],
          [
           0.3558413719185423,
           71.76923076923077,
           "Anthony Johnson"
          ],
          [
           null,
           0,
           "Jason Lawson"
          ],
          [
           0.332713260696253,
           268.7857142857143,
           "Stephen Jackson"
          ],
          [
           0.13953488372093023,
           8.6,
           "Cedric Henderson"
          ],
          [
           0,
           2,
           "God Shammgod"
          ],
          [
           0.34615384615384615,
           117,
           "Eric Washington"
          ],
          [
           0.3132530120481928,
           73.77777777777777,
           "Alvin Williams"
          ],
          [
           0.3402061855670103,
           48.5,
           "Predrag Drobnjak"
          ],
          [
           0.3465346534653465,
           28.857142857142858,
           "Chris Crawford"
          ],
          [
           0.38961038961038963,
           38.5,
           "DeJuan Wheat"
          ],
          [
           0.3592233009708738,
           11.444444444444445,
           "Mark Blount"
          ],
          [
           0,
           2,
           "Jamal Robinson"
          ],
          [
           0.2777777777777778,
           20,
           "Adrian Griffin"
          ],
          [
           null,
           0,
           "Gerard King"
          ],
          [
           0.3103448275862069,
           2.230769230769231,
           "Kevin Ollie"
          ],
          [
           null,
           0,
           "Etdrick Bohannon"
          ],
          [
           null,
           0,
           "Michael Stewart"
          ],
          [
           0,
           1.3333333333333333,
           "Keith Closs"
          ],
          [
           null,
           0,
           "Nate Huffman"
          ],
          [
           0.3333333333333333,
           12,
           "Derek Grimm"
          ],
          [
           0,
           0.5,
           "Travis Williams"
          ],
          [
           0,
           3,
           "Shea Seals"
          ],
          [
           0.3,
           3.3333333333333335,
           "Brandon Williams"
          ],
          [
           1,
           1,
           "Alvin Sims"
          ],
          [
           null,
           0,
           "Charles Shackleford"
          ],
          [
           0.36231884057971014,
           30.666666666666668,
           "Rick Brunson"
          ],
          [
           0,
           1.3333333333333333,
           "Kornel David"
          ],
          [
           0.3176470588235294,
           34,
           "Rusty LaRue"
          ],
          [
           0.3390847711927982,
           121.18181818181819,
           "Troy Hudson"
          ],
          [
           0.6666666666666666,
           1,
           "Art Long"
          ],
          [
           0.19047619047619047,
           10.5,
           "Chris Garner"
          ],
          [
           0.15384615384615385,
           1,
           "Mikki Moore"
          ],
          [
           0.4,
           15,
           "Gerald Madkins"
          ],
          [
           0.375,
           4,
           "Steve Henson"
          ],
          [
           0,
           4,
           "Harold Ellis"
          ],
          [
           null,
           0,
           "Brian Oliver"
          ],
          [
           null,
           0,
           "Reggie Hanson"
          ],
          [
           0.3870967741935484,
           41.333333333333336,
           "Larry Robinson"
          ],
          [
           null,
           0,
           "Michael Olowokandi"
          ],
          [
           0.37934483620905224,
           285.64285714285717,
           "Mike Bibby"
          ],
          [
           0.3634980988593156,
           131.5,
           "Raef LaFrentz"
          ],
          [
           0.34561664190193164,
           210.3125,
           "Antawn Jamison"
          ],
          [
           0.3712710765239948,
           280.3636363636364,
           "Vince Carter"
          ],
          [
           0.16666666666666666,
           3.4285714285714284,
           "Robert Traylor"
          ],
          [
           0.32716701902748413,
           315.3333333333333,
           "Jason Williams"
          ],
          [
           0.3089622641509434,
           130.46153846153845,
           "Larry Hughes"
          ],
          [
           0.38042226487523995,
           248.0952380952381,
           "Dirk Nowitzki"
          ],
          [
           0.36846629986244844,
           306.10526315789474,
           "Paul Pierce"
          ],
          [
           0.32650073206442165,
           68.3,
           "Bonzi Wells"
          ],
          [
           0.125,
           0.8,
           "Michael Doleac"
          ],
          [
           0.05263157894736842,
           3.1666666666666665,
           "Keon Clark"
          ],
          [
           0.401673640167364,
           143.4,
           "Michael Dickerson"
          ],
          [
           0.3333333333333333,
           43.09090909090909,
           "Matt Harpring"
          ],
          [
           0.3712871287128713,
           67.33333333333333,
           "Bryce Drew"
          ],
          [
           0.07692307692307693,
           1.0833333333333333,
           "Rasho Nesterovic"
          ],
          [
           0,
           6,
           "Mirsad Turkcan"
          ],
          [
           0.39760554505356016,
           158.7,
           "Pat Garrity"
          ],
          [
           0.1111111111111111,
           15,
           "Roshown McLeod"
          ],
          [
           0.36121437422552666,
           134.5,
           "Ricky Davis"
          ],
          [
           0.3333333333333333,
           0.42857142857142855,
           "Brian Skinner"
          ],
          [
           0.39148936170212767,
           106.81818181818181,
           "Tyronn Lue"
          ],
          [
           0.32653061224489793,
           36.75,
           "Felipe Lopez"
          ],
          [
           0.3516918646508279,
           173.625,
           "Al Harrington"
          ],
          [
           0.36,
           8.333333333333334,
           "Sam Jacobson"
          ],
          [
           0.13333333333333333,
           2.5,
           "Vladimir Stepania"
          ],
          [
           0.2893401015228426,
           49.25,
           "Corey Benjamin"
          ],
          [
           0,
           0.4444444444444444,
           "Nazr Mohammed"
          ],
          [
           0.27586206896551724,
           7.25,
           "Ansu Sesay"
          ],
          [
           0.17857142857142858,
           19.6,
           "Ruben Patterson"
          ],
          [
           0.38637837837837835,
           289.0625,
           "Rashard Lewis"
          ],
          [
           null,
           0,
           "Jelani McCoy"
          ],
          [
           0.3657142857142857,
           100,
           "Shammond Williams"
          ],
          [
           0.20833333333333334,
           3.4285714285714284,
           "Bruno Sundov"
          ],
          [
           0,
           0.2222222222222222,
           "Jerome James"
          ],
          [
           null,
           0,
           "Casey Shaw"
          ],
          [
           null,
           0,
           "DeMarco Johnson"
          ],
          [
           0.3538188277087034,
           255.9090909090909,
           "Rafer Alston"
          ],
          [
           0.25,
           4,
           "Korleone Young"
          ],
          [
           0.37844436693407746,
           260.6363636363636,
           "Cuttino Mobley"
          ],
          [
           0,
           2,
           "Miles Simon"
          ],
          [
           0,
           0.14285714285714285,
           "Jahidi White"
          ],
          [
           0.2,
           2.272727272727273,
           "Sean Marks"
          ],
          [
           0.2,
           7.5,
           "Toby Bailey"
          ],
          [
           0,
           2.5,
           "Andrae Patterson"
          ],
          [
           1,
           1,
           "Tyson Wheeler"
          ],
          [
           0,
           0.5,
           "Ryan Stack"
          ],
          [
           0.16666666666666666,
           30,
           "Cory Carr"
          ],
          [
           0.19047619047619047,
           10.5,
           "Derrick Dial"
          ],
          [
           0.33379888268156427,
           71.6,
           "Greg Buckner"
          ],
          [
           0.2,
           5,
           "Tremaine Fowlkes"
          ],
          [
           0.20588235294117646,
           6.8,
           "Ryan Bowen"
          ],
          [
           0.4,
           5,
           "J.R. Henderson"
          ],
          [
           null,
           0,
           "Torraye Braggs"
          ],
          [
           0.375,
           2,
           "Maceo Baston"
          ],
          [
           0.38980944490472247,
           219.45454545454547,
           "Damon Jones"
          ],
          [
           null,
           0,
           "Jonathan Kerner"
          ],
          [
           0.3295081967213115,
           43.57142857142857,
           "Brad Miller"
          ],
          [
           0,
           2,
           "Adonis Jordan"
          ],
          [
           null,
           0,
           "Kelly McCarty"
          ],
          [
           null,
           0,
           "Makhtar N'diaye"
          ],
          [
           null,
           0,
           "Peter Aluma"
          ],
          [
           0.2,
           5,
           "Ike Fontaine"
          ],
          [
           0.2608695652173913,
           23,
           "Marlon Garnett"
          ],
          [
           0.3162251655629139,
           151,
           "Tyrone Nesby"
          ],
          [
           0.2857142857142857,
           7,
           "Fred Vinson"
          ],
          [
           0.3125,
           16,
           "Andrew Gaze"
          ],
          [
           0,
           2,
           "Thurl Bailey"
          ],
          [
           0.2857142857142857,
           7,
           "Jeff Sheppard"
          ],
          [
           0.25,
           35.69230769230769,
           "Anthony Carter"
          ],
          [
           0.3333333333333333,
           3,
           "Mark Macon"
          ],
          [
           null,
           0,
           "Mark Baker"
          ],
          [
           0,
           1,
           "Negele Knight"
          ],
          [
           0.34782608695652173,
           84.92307692307692,
           "Earl Boykins"
          ],
          [
           0.3333333333333333,
           1.5,
           "Steve Goodrich"
          ],
          [
           null,
           0,
           "Trevor Winter"
          ],
          [
           0.3240223463687151,
           89.5,
           "Charles Jones"
          ],
          [
           0.3,
           10,
           "Gerald Brown"
          ],
          [
           0.14285714285714285,
           3.5,
           "Randell Jackson"
          ],
          [
           0.09090909090909091,
           1.2941176470588236,
           "Elton Brand"
          ],
          [
           0.3414489311163896,
           187.11111111111111,
           "Steve Francis"
          ],
          [
           0.32026929550372685,
           319.9230769230769,
           "Baron Davis"
          ],
          [
           0.3123236124176858,
           151.85714285714286,
           "Lamar Odom"
          ],
          [
           0.3400673400673401,
           37.125,
           "Jonathan Bender"
          ],
          [
           0.4060564349621473,
           145.3,
           "Wally Szczerbiak"
          ],
          [
           0.3464052287581699,
           109.28571428571429,
           "Richard Hamilton"
          ],
          [
           0.21734234234234234,
           52.23529411764706,
           "Andre Miller"
          ],
          [
           0.3309623430962343,
           149.375,
           "Shawn Marion"
          ],
          [
           0.37970049916805326,
           316.3157894736842,
           "Jason Terry"
          ],
          [
           0.39631336405529954,
           72.33333333333333,
           "Trajan Langdon"
          ],
          [
           null,
           0,
           "Aleksandar Radojevic"
          ],
          [
           0.32354996505939904,
           102.21428571428571,
           "Corey Maggette"
          ],
          [
           0.25477707006369427,
           52.333333333333336,
           "William Avery"
          ],
          [
           0.339212228101117,
           200.11764705882354,
           "Metta World Peace"
          ],
          [
           0.18181818181818182,
           3.6666666666666665,
           "Cal Bowdler"
          ],
          [
           0.3488372093023256,
           247.25,
           "James Posey"
          ],
          [
           0.3333333333333333,
           27.75,
           "Quincy Lewis"
          ],
          [
           0.3169164882226981,
           77.83333333333333,
           "Dion Glover"
          ],
          [
           0.12962962962962962,
           4.153846153846154,
           "Jeff Foster"
          ],
          [
           0.24380165289256198,
           22,
           "Kenny Thomas"
          ],
          [
           0.34269662921348315,
           113.27272727272727,
           "Devean George"
          ],
          [
           0.309704641350211,
           91.15384615384616,
           "Andrei Kirilenko"
          ],
          [
           0.3333333333333333,
           1,
           "Tim James"
          ],
          [
           0.3205882352941177,
           113.33333333333333,
           "Vonteego Cummings"
          ],
          [
           0.34893267651888343,
           152.25,
           "Jumaine Jones"
          ],
          [
           0.37267080745341613,
           80.5,
           "Scott Padgett"
          ],
          [
           null,
           0,
           "Leon Smith"
          ],
          [
           0.2222222222222222,
           9,
           "John Celestand"
          ],
          [
           0,
           0.3333333333333333,
           "Michael Ruffin"
          ],
          [
           0.32786885245901637,
           61,
           "Chris Herren"
          ],
          [
           null,
           0,
           "Evan Eschmeyer"
          ],
          [
           0.2222222222222222,
           0.9,
           "Calvin Booth"
          ],
          [
           0.38461538461538464,
           36.4,
           "Wang Zhi-zhi"
          ],
          [
           0,
           0.25,
           "Obinna Ekezie"
          ],
          [
           0.23595505617977527,
           22.25,
           "Laron Profit"
          ],
          [
           null,
           0,
           "A.J. Bramlett"
          ],
          [
           0.36768447837150126,
           131,
           "Gordan Giricek"
          ],
          [
           0.1875,
           1.7777777777777777,
           "Francisco Elson"
          ],
          [
           0.1111111111111111,
           1.5,
           "Lee Nailon"
          ],
          [
           0,
           2,
           "Ryan Robertson"
          ],
          [
           null,
           0,
           "Todd MacCulloch"
          ],
          [
           null,
           0,
           "Lari Ketner"
          ],
          [
           0.29959514170040485,
           49.4,
           "Rodney Buford"
          ],
          [
           null,
           0,
           "Tim Young"
          ],
          [
           0.3686806411837238,
           253.4375,
           "Manu Ginobili"
          ],
          [
           null,
           0,
           "Harold Jamison"
          ],
          [
           null,
           0,
           "Wayne Turner"
          ],
          [
           0.25,
           6.4,
           "Eddie Robinson"
          ],
          [
           null,
           0,
           "Andy Panko"
          ],
          [
           0.40560033941450996,
           196.41666666666666,
           "Raja Bell"
          ],
          [
           0,
           3,
           "Lazaro Borrell"
          ],
          [
           0,
           1,
           "Jason Miskiri"
          ],
          [
           0.3413654618473896,
           31.125,
           "Ira Newble"
          ],
          [
           0.23529411764705882,
           24.285714285714285,
           "Milt Palacio"
          ],
          [
           0,
           1,
           "Rick Hughes"
          ],
          [
           null,
           0,
           "Derek Hood"
          ],
          [
           0.16666666666666666,
           3,
           "Jamel Thomas"
          ],
          [
           0.15789473684210525,
           3.8,
           "Jermaine Jackson"
          ],
          [
           null,
           0,
           "Zendon Hamilton"
          ],
          [
           0.29591836734693877,
           98,
           "Dedric Willoughby"
          ],
          [
           0.23404255319148937,
           18.8,
           "Kenyon Martin"
          ],
          [
           0.07407407407407407,
           3,
           "Stromile Swift"
          ],
          [
           0.16793893129770993,
           18.714285714285715,
           "Darius Miles"
          ],
          [
           0.19090909090909092,
           18.333333333333332,
           "Marcus Fizer"
          ],
          [
           0.40664961636828645,
           230,
           "Mike Miller"
          ],
          [
           0.3361963190184049,
           116.42857142857143,
           "DerMarr Johnson"
          ],
          [
           0.23076923076923078,
           1.625,
           "Chris Mihm"
          ],
          [
           0.3481736949365104,
           318.95,
           "Jamal Crawford"
          ],
          [
           0,
           0.23076923076923078,
           "Joel Przybilla"
          ],
          [
           0.34925606891151134,
           98.23076923076923,
           "Keyon Dooling"
          ],
          [
           0,
           0.6,
           "Jerome Moiso"
          ],
          [
           null,
           0,
           "Etan Thomas"
          ],
          [
           0.33884297520661155,
           40.333333333333336,
           "Courtney Alexander"
          ],
          [
           0.26666666666666666,
           7.5,
           "Mateen Cleaves"
          ],
          [
           0.35,
           4,
           "Jason Collier"
          ],
          [
           0.3838570548367221,
           216.4,
           "Hedo Turkoglu"
          ],
          [
           0.25984251968503935,
           25.4,
           "Desmond Mason"
          ],
          [
           0.35492700729927007,
           252.92307692307693,
           "Quentin Richardson"
          ],
          [
           0,
           0.5833333333333334,
           "Jamaal Magloire"
          ],
          [
           0.1926605504587156,
           31.142857142857142,
           "Speedy Claxton"
          ],
          [
           0.37342709104367133,
           245.63636363636363,
           "Morris Peterson"
          ],
          [
           0.1,
           2,
           "Donnell Harvey"
          ],
          [
           0.3401360544217687,
           124.38461538461539,
           "DeShawn Stevenson"
          ],
          [
           0,
           0.6666666666666666,
           "Dalibor Bagaric"
          ],
          [
           0,
           0.14285714285714285,
           "Jake Tsakalidis"
          ],
          [
           0,
           0.2,
           "Mamadou N'diaye"
          ],
          [
           0.16666666666666666,
           0.75,
           "Primoz Brezec"
          ],
          [
           0.26666666666666666,
           7.5,
           "Erick Barkley"
          ],
          [
           0.0625,
           1.7777777777777777,
           "Mark Madsen"
          ],
          [
           0.3107344632768362,
           29.5,
           "Eduardo Najera"
          ],
          [
           0.34404761904761905,
           120,
           "Marko Jaric"
          ],
          [
           0.2894736842105263,
           9.5,
           "Dan Langhi"
          ],
          [
           0.37823834196891193,
           64.33333333333333,
           "A.J. Guyton"
          ],
          [
           0.3333333333333333,
           0.3333333333333333,
           "Jake Voskuhl"
          ],
          [
           0.3333333333333333,
           84,
           "Khalid El-Amin"
          ],
          [
           0.16666666666666666,
           18,
           "Mike Smith"
          ],
          [
           null,
           0,
           "Soumaila Samake"
          ],
          [
           0.38979007633587787,
           190.54545454545453,
           "Eddie House"
          ],
          [
           0.25,
           14.666666666666666,
           "Lavor Postell"
          ],
          [
           0.0625,
           8,
           "Hanno Mottola"
          ],
          [
           null,
           0,
           "Olumide Oyedeji"
          ],
          [
           0.3798618684114867,
           229.25,
           "Michael Redd"
          ],
          [
           0.3721286370597244,
           54.416666666666664,
           "Brian Cardinal"
          ],
          [
           0.125,
           2,
           "Jabari Smith"
          ],
          [
           0.31527093596059114,
           22.555555555555557,
           "Jason Hart"
          ],
          [
           0.3333333333333333,
           3,
           "Kaniel Dickens"
          ],
          [
           0.4166666666666667,
           12,
           "Igor Rakocevic"
          ],
          [
           null,
           0,
           "Ernest Brown"
          ],
          [
           null,
           0,
           "Dan McClintock"
          ],
          [
           0,
           5,
           "Chris Porter"
          ],
          [
           null,
           0,
           "Daniel Santiago"
          ],
          [
           null,
           0,
           "Ruben Garces"
          ],
          [
           0.15384615384615385,
           1.8571428571428572,
           "Slava Medvedenko"
          ],
          [
           0.16666666666666666,
           12,
           "Paul McPherson"
          ],
          [
           0,
           1.5,
           "Ruben Wolkowyski"
          ],
          [
           0.3197969543147208,
           28.142857142857142,
           "Eddie Gill"
          ],
          [
           0,
           1,
           "Terrance Roberson"
          ],
          [
           null,
           0,
           "Garth Joseph"
          ],
          [
           0.1875,
           1.6,
           "Malik Allen"
          ],
          [
           0,
           6,
           "David Vanterpool"
          ],
          [
           0.39568345323741005,
           69.5,
           "Mike Penberthy"
          ],
          [
           0.3562091503267974,
           87.42857142857143,
           "Ime Udoka"
          ],
          [
           0,
           0.5,
           "Pepe Sanchez"
          ],
          [
           0.2,
           5,
           "Sean Colson"
          ],
          [
           0.1111111111111111,
           0.75,
           "Kwame Brown"
          ],
          [
           0,
           0.5789473684210527,
           "Tyson Chandler"
          ],
          [
           0.3683127572016461,
           27,
           "Pau Gasol"
          ],
          [
           1,
           0.18181818181818182,
           "Eddy Curry"
          ],
          [
           0.37025097858623074,
           334.0769230769231,
           "Jason Richardson"
          ],
          [
           0.38414259373079285,
           250.30769230769232,
           "Shane Battier"
          ],
          [
           0.3151595744680851,
           150.4,
           "Eddie Griffin"
          ],
          [
           0.16666666666666666,
           0.5,
           "DeSagana Diop"
          ],
          [
           0.3137931034482759,
           72.5,
           "Rodney White"
          ],
          [
           0.3710373288313637,
           313.5882352941176,
           "Joe Johnson"
          ],
          [
           0.27380952380952384,
           42,
           "Kedrick Brown"
          ],
          [
           0.3782625633034671,
           213.91666666666666,
           "Vladimir Radmanovic"
          ],
          [
           0.37630913687251716,
           162.88235294117646,
           "Richard Jefferson"
          ],
          [
           0.3884664131812421,
           131.5,
           "Troy Murphy"
          ],
          [
           0,
           0.125,
           "Steven Hunter"
          ],
          [
           0,
           3,
           "Kirk Haston"
          ],
          [
           0.14285714285714285,
           2.8,
           "Michael Bradley"
          ],
          [
           0.20588235294117646,
           2.6153846153846154,
           "Jason Collins"
          ],
          [
           0.2729766803840878,
           42.88235294117647,
           "Zach Randolph"
          ],
          [
           0,
           0.3076923076923077,
           "Brendan Haywood"
          ],
          [
           0,
           3,
           "Joseph Forte"
          ],
          [
           0.29545454545454547,
           22,
           "Jeryl Sasser"
          ],
          [
           0.3333333333333333,
           25,
           "Brandon Armstrong"
          ],
          [
           0.34615384615384615,
           65,
           "Raul Lopez"
          ],
          [
           0.3123561013046815,
           93.07142857142857,
           "Gerald Wallace"
          ],
          [
           0.08333333333333333,
           0.9230769230769231,
           "Samuel Dalembert"
          ],
          [
           0.2993966817496229,
           120.54545454545455,
           "Jamaal Tinsley"
          ],
          [
           0.3237679351216469,
           89.05555555555556,
           "Tony Parker"
          ],
          [
           0.29838709677419356,
           124,
           "Will Solomon"
          ],
          [
           null,
           0,
           "Alton Ford"
          ],
          [
           0.3789299503585218,
           151.08333333333334,
           "Mike James"
          ],
          [
           0.363481228668942,
           130.22222222222223,
           "Maurice Evans"
          ],
          [
           null,
           0,
           "Ratko Varda"
          ],
          [
           0.30434782608695654,
           23,
           "Antonis Fotsis"
          ],
          [
           0.3177257525083612,
           33.22222222222222,
           "Trenton Hassell"
          ],
          [
           0.3506662333441664,
           279.72727272727275,
           "Gilbert Arenas"
          ],
          [
           0,
           2.5,
           "Omar Cook"
          ],
          [
           0.19642857142857142,
           37.333333333333336,
           "Terence Morris"
          ],
          [
           0.3441682600382409,
           47.54545454545455,
           "Brian Scalabrine"
          ],
          [
           0.46153846153846156,
           4.333333333333333,
           "Jeff Trepagnier"
          ],
          [
           0.2857142857142857,
           3.5,
           "Damone Brown"
          ],
          [
           0.37484276729559746,
           159,
           "Mehmet Okur"
          ],
          [
           0.3236621534493875,
           119.3076923076923,
           "Earl Watson"
          ],
          [
           0.25,
           8,
           "Jamison Brewer"
          ],
          [
           0.3958115183246073,
           95.5,
           "Bobby Simmons"
          ],
          [
           0,
           2,
           "Sean Lampley"
          ],
          [
           0.14285714285714285,
           1.1666666666666667,
           "Loren Woods"
          ],
          [
           null,
           0,
           "Ken Johnson"
          ],
          [
           null,
           0,
           "Ruben Boumtje-Boumtje"
          ],
          [
           0,
           0.5,
           "Jarron Collins"
          ],
          [
           0.21818181818181817,
           27.5,
           "Kenny Satterfield"
          ],
          [
           null,
           0,
           "Alvin Jones"
          ],
          [
           0.36108821104699096,
           173.28571428571428,
           "Charlie Bell"
          ],
          [
           0.33827160493827163,
           45,
           "Carlos Arroyo"
          ],
          [
           0,
           0.3333333333333333,
           "Paul Shirley"
          ],
          [
           0.38461538461538464,
           39,
           "Joe Crispin"
          ],
          [
           0,
           1,
           "Tang Hamilton"
          ],
          [
           0,
           2,
           "Victor Alexander"
          ],
          [
           0.31654676258992803,
           69.5,
           "Oscar Torres"
          ],
          [
           0.15789473684210525,
           9.5,
           "Dean Oliver"
          ],
          [
           0.35294117647058826,
           21.25,
           "Tierre Brown"
          ],
          [
           0.22058823529411764,
           4.533333333333333,
           "Chris Andersen"
          ],
          [
           0.32075471698113206,
           15.142857142857142,
           "Mike Wilks"
          ],
          [
           null,
           0,
           "Geno Carlisle"
          ],
          [
           0.5,
           8,
           "Norman Richardson"
          ],
          [
           0.3333333333333333,
           5,
           "Mengke Bateer"
          ],
          [
           0.2,
           1.25,
           "Yao Ming"
          ],
          [
           0.3217821782178218,
           202,
           "Jay Williams"
          ],
          [
           0.376878612716763,
           230.66666666666666,
           "Mike Dunleavy"
          ],
          [
           0.2573099415204678,
           24.428571428571427,
           "Drew Gooden"
          ],
          [
           0.23497267759562843,
           45.75,
           "Nikoloz Tskitishvili"
          ],
          [
           0.3205574912891986,
           71.75,
           "Dajuan Wagner"
          ],
          [
           0.1320754716981132,
           3.1176470588235294,
           "Nene"
          ],
          [
           0,
           1.6363636363636365,
           "Chris Wilcox"
          ],
          [
           0.23622047244094488,
           9.071428571428571,
           "Amar'e Stoudemire"
          ],
          [
           0.34794776119402987,
           153.14285714285714,
           "Caron Butler"
          ],
          [
           0.2525597269624573,
           26.636363636363637,
           "Jared Jeffries"
          ],
          [
           0,
           0.3333333333333333,
           "Melvin Ely"
          ],
          [
           0.35,
           5,
           "Marcus Haislip"
          ],
          [
           0.3534218590398366,
           139.85714285714286,
           "Fred Jones"
          ],
          [
           0.3748558246828143,
           144.5,
           "Bostjan Nachbar"
          ],
          [
           0.3430232558139535,
           86,
           "Jiri Welsch"
          ],
          [
           0.3405349794238683,
           138.85714285714286,
           "Juan Dixon"
          ],
          [
           0,
           0.5,
           "Curtis Borchardt"
          ],
          [
           0,
           1,
           "Ryan Humphrey"
          ],
          [
           0.3577639751552795,
           115,
           "Kareem Rush"
          ],
          [
           0.35714285714285715,
           24.5,
           "Qyntel Woods"
          ],
          [
           0.35185185185185186,
           148.5,
           "Casey Jacobsen"
          ],
          [
           0.3670967741935484,
           110.71428571428571,
           "Tayshaun Prince"
          ],
          [
           0.14285714285714285,
           2,
           "Nenad Krstic"
          ],
          [
           0.3,
           26.666666666666668,
           "Frank Williams"
          ],
          [
           0.36555891238670696,
           152.76923076923077,
           "John Salmons"
          ],
          [
           0.3645833333333333,
           48,
           "Chris Jefferies"
          ],
          [
           0.34095238095238095,
           87.5,
           "Dan Dickau"
          ],
          [
           null,
           0,
           "Robert Archibald"
          ],
          [
           0.38347320852162686,
           154.9,
           "Roger Mason Jr."
          ],
          [
           0.2692307692307692,
           78,
           "Vincent Yarbrough"
          ],
          [
           0,
           0.8,
           "Dan Gadzuric"
          ],
          [
           0.07142857142857142,
           1.0769230769230769,
           "Carlos Boozer"
          ],
          [
           0.3465346534653465,
           50.5,
           "David Andersen"
          ],
          [
           0,
           3,
           "Tito Maddox"
          ],
          [
           0.3611111111111111,
           432,
           "Juan Carlos Navarro"
          ],
          [
           0,
           0.5,
           "Mario Kasun"
          ],
          [
           0.303985171455051,
           134.875,
           "Flip Murray"
          ],
          [
           0.2,
           1.25,
           "Lonny Baxter"
          ],
          [
           0.33503923575571476,
           209.35714285714286,
           "Matt Barnes"
          ],
          [
           0,
           0.2,
           "Jamal Sampson"
          ],
          [
           null,
           0,
           "Chris Owens"
          ],
          [
           0.15789473684210525,
           2.375,
           "Darius Songaila"
          ],
          [
           0.3615079365079365,
           193.84615384615384,
           "Rasual Butler"
          ],
          [
           0.2653061224489796,
           16.333333333333332,
           "Tamar Slay"
          ],
          [
           0.33948339483394835,
           27.1,
           "Luis Scola"
          ],
          [
           null,
           0,
           "Randy Holcomb"
          ],
          [
           null,
           0,
           "Corsley Edwards"
          ],
          [
           0.3333333333333333,
           180,
           "J.R. Bremer"
          ],
          [
           0.15384615384615385,
           26,
           "Predrag Savovic"
          ],
          [
           0.273972602739726,
           24.333333333333332,
           "Junior Harrington"
          ],
          [
           null,
           0,
           "Cezary Trybanski"
          ],
          [
           0.35587188612099646,
           102.18181818181819,
           "Jannero Pargo"
          ],
          [
           null,
           0,
           "Guy Rucker"
          ],
          [
           0.36363636363636365,
           11,
           "Maurice Carter"
          ],
          [
           0.25,
           12,
           "Pat Burke"
          ],
          [
           0.3448687350835322,
           167.6,
           "Smush Parker"
          ],
          [
           0.2222222222222222,
           81,
           "Mike Batiste"
          ],
          [
           0.33783783783783783,
           111,
           "Devin Brown"
          ],
          [
           null,
           0,
           "Maurice Baker"
          ],
          [
           0.35714285714285715,
           14,
           "Adam Harrington"
          ],
          [
           0.35580524344569286,
           66.75,
           "Richie Frahm"
          ],
          [
           0.09090909090909091,
           0.8461538461538461,
           "Reggie Evans"
          ],
          [
           0.2,
           5,
           "Antoine Rigaudeau"
          ],
          [
           0.34489369118159635,
           318.77777777777777,
           "LeBron James"
          ],
          [
           0,
           0.6,
           "Darko Milicic"
          ],
          [
           0.35344057193923145,
           248.66666666666666,
           "Carmelo Anthony"
          ],
          [
           0.33516483516483514,
           70,
           "Chris Bosh"
          ],
          [
           0.2929562433297759,
           117.125,
           "Dwyane Wade"
          ],
          [
           0.041666666666666664,
           1.8461538461538463,
           "Chris Kaman"
          ],
          [
           0.37540038436899426,
           240.15384615384616,
           "Kirk Hinrich"
          ],
          [
           0.28929384965831434,
           54.875,
           "T.J. Ford"
          ],
          [
           0,
           0.5,
           "Michael Sweetney"
          ],
          [
           0.35603996366939145,
           157.28571428571428,
           "Jarvis Hayes"
          ],
          [
           0.3554973821989529,
           191,
           "Mickael Pietrus"
          ],
          [
           0.2079207920792079,
           7.214285714285714,
           "Nick Collison"
          ],
          [
           0.32722513089005234,
           47.75,
           "Marcus Banks"
          ],
          [
           0.34886499402628435,
           139.5,
           "Luke Ridnour"
          ],
          [
           0.2692307692307692,
           8.666666666666666,
           "Reece Gaines"
          ],
          [
           0,
           4,
           "Troy Bell"
          ],
          [
           0.2727272727272727,
           29.333333333333332,
           "Zarko Cabarkapa"
          ],
          [
           0.2651162790697674,
           14.333333333333334,
           "David West"
          ],
          [
           0.34606741573033706,
           89,
           "Sasha Pavlovic"
          ],
          [
           0.3292307692307692,
           25,
           "Dahntay Jones"
          ],
          [
           0.3361641896673744,
           100.92857142857143,
           "Boris Diaw"
          ],
          [
           0.2890625,
           42.666666666666664,
           "Zoran Planinic"
          ],
          [
           0.33692458374143,
           92.81818181818181,
           "Travis Outlaw"
          ],
          [
           0.3819241982507289,
           76.22222222222223,
           "Brian Cook"
          ],
          [
           0.36530172413793105,
           232,
           "Carlos Delfino"
          ],
          [
           0,
           0.5,
           "Ndudi Ebi"
          ],
          [
           0,
           1,
           "Kendrick Perkins"
          ],
          [
           0.3865414710485133,
           182.57142857142858,
           "Leandro Barbosa"
          ],
          [
           0.3323615160349854,
           102.9,
           "Josh Howard"
          ],
          [
           0.25,
           2.6666666666666665,
           "Maciej Lampe"
          ],
          [
           0.4335863377609108,
           117.11111111111111,
           "Jason Kapono"
          ],
          [
           0.32616487455197135,
           55.8,
           "Luke Walton"
          ],
          [
           0.3,
           30,
           "Travis Hansen"
          ],
          [
           0.3827980804724991,
           208.3846153846154,
           "Steve Blake"
          ],
          [
           null,
           0,
           "Slavko Vranes"
          ],
          [
           null,
           0,
           "Derrick Zimmerman"
          ],
          [
           0.34605087014725566,
           124.5,
           "Willie Green"
          ],
          [
           0,
           1.9375,
           "Zaza Pachulia"
          ],
          [
           0.35346534653465345,
           183.63636363636363,
           "Keith Bogans"
          ],
          [
           0.41445657826313054,
           160.25,
           "Matt Bonner"
          ],
          [
           0.37841577308889657,
           222.3846153846154,
           "Mo Williams"
          ],
          [
           null,
           0,
           "James Lang"
          ],
          [
           0.40061951471347446,
           138.35714285714286,
           "James Jones"
          ],
          [
           0.42869641294838146,
           336.1764705882353,
           "Kyle Korver"
          ],
          [
           0,
           1.5,
           "Brandon Hunter"
          ],
          [
           null,
           0,
           "Andreas Glyniadakis"
          ],
          [
           null,
           0,
           "Jerome Beasley"
          ],
          [
           0.375,
           12,
           "Theron Smith"
          ],
          [
           0.23462414578587698,
           43.9,
           "Marquis Daniels"
          ],
          [
           0.08620689655172414,
           3.2222222222222223,
           "Udonis Haslem"
          ],
          [
           0.3181818181818182,
           22,
           "Quinton Ross"
          ],
          [
           0.25,
           2,
           "Kirk Penney"
          ],
          [
           null,
           0,
           "Alex Scales"
          ],
          [
           0.0625,
           8,
           "Britton Johnsen"
          ],
          [
           0.38461538461538464,
           2.1666666666666665,
           "Ronald Dupree"
          ],
          [
           1,
           1,
           "Yuta Tabuse"
          ],
          [
           null,
           0,
           "Desmond Penigar"
          ],
          [
           0.32857142857142857,
           17.5,
           "Josh Davis"
          ],
          [
           0.3047619047619048,
           17.5,
           "Linton Johnson"
          ],
          [
           null,
           0,
           "Hiram Fuller"
          ],
          [
           0.38392857142857145,
           89.6,
           "Matt Carroll"
          ],
          [
           0.2777777777777778,
           9,
           "Alex Garcia"
          ],
          [
           0.6666666666666666,
           3,
           "Melvin Sanders"
          ],
          [
           null,
           0,
           "Brandin Knight"
          ],
          [
           0.2822966507177033,
           52.25,
           "Keith McLeod"
          ],
          [
           0.35,
           2.857142857142857,
           "Josh Powell"
          ],
          [
           0.34615384615384615,
           52,
           "Lynn Greer"
          ],
          [
           0.375,
           8,
           "Desmond Ferguson"
          ],
          [
           0.1590909090909091,
           5.176470588235294,
           "Dwight Howard"
          ],
          [
           0,
           0.2,
           "Emeka Okafor"
          ],
          [
           0.4008901061280383,
           265.54545454545456,
           "Ben Gordon"
          ],
          [
           0.1780821917808219,
           5.214285714285714,
           "Shaun Livingston"
          ],
          [
           0.32525410476935107,
           170.53333333333333,
           "Devin Harris"
          ],
          [
           0.3289036544850498,
           37.625,
           "Josh Childress"
          ],
          [
           0.33198789101917253,
           132.13333333333333,
           "Luol Deng"
          ],
          [
           0.25,
           1.3333333333333333,
           "Rafael Araujo"
          ],
          [
           0.3327073552425665,
           187.94117647058823,
           "Andre Iguodala"
          ],
          [
           0.3595505617977528,
           22.25,
           "Luke Jackson"
          ],
          [
           0,
           0.2,
           "Andris Biedrins"
          ],
          [
           null,
           0,
           "Robert Swift"
          ],
          [
           0.31862312444836716,
           113.3,
           "Sebastian Telfair"
          ],
          [
           0.2925531914893617,
           14.461538461538462,
           "Kris Humphries"
          ],
          [
           0.12121212121212122,
           4.714285714285714,
           "Al Jefferson"
          ],
          [
           0.3274021352313167,
           70.25,
           "Kirk Snyder"
          ],
          [
           0.28517110266159695,
           121.38461538461539,
           "Josh Smith"
          ],
          [
           0.3727307840865199,
           323.625,
           "JR Smith"
          ],
          [
           0.3648728562980485,
           153.72727272727272,
           "Dorell Wright"
          ],
          [
           0.3679004467134652,
           223.85714285714286,
           "Jameer Nelson"
          ],
          [
           null,
           0,
           "Pavel Podkolzin"
          ],
          [
           0.2916666666666667,
           12,
           "Viktor Khryapa"
          ],
          [
           0.2647058823529412,
           34,
           "Sergei Monia"
          ],
          [
           0.3715415019762846,
           126.5,
           "Delonte West"
          ],
          [
           0.28153153153153154,
           31.714285714285715,
           "Tony Allen"
          ],
          [
           0.3843044796227686,
           247.41666666666666,
           "Kevin Martin"
          ],
          [
           0.3673328738800827,
           145.1,
           "Sasha Vujacic"
          ],
          [
           0.348575712143928,
           102.61538461538461,
           "Beno Udrih"
          ],
          [
           null,
           0,
           "David Harrison"
          ],
          [
           0.023255813953488372,
           3.0714285714285716,
           "Anderson Varejao"
          ],
          [
           0,
           1.5,
           "Jackson Vroman"
          ],
          [
           null,
           0,
           "Peter John Ramos"
          ],
          [
           0.24489795918367346,
           49,
           "Lionel Chalmers"
          ],
          [
           0.3076923076923077,
           13,
           "Donta Smith"
          ],
          [
           0,
           0.5,
           "Andre Emmett"
          ],
          [
           0.23529411764705882,
           8.5,
           "Antonio Burks"
          ],
          [
           0.36080178173719374,
           44.9,
           "Royal Ivey"
          ],
          [
           0.3629753914988814,
           198.66666666666666,
           "Chris Duhon"
          ],
          [
           0,
           1.3333333333333333,
           "Justin Reed"
          ],
          [
           0.3518312985571587,
           265,
           "Trevor Ariza"
          ],
          [
           0.16129032258064516,
           10.333333333333334,
           "Bernard Robinson"
          ],
          [
           null,
           0,
           "Ha Ha"
          ],
          [
           null,
           0,
           "Pape Sow"
          ],
          [
           0.1724137931034483,
           29,
           "Vassilis Spanoulis"
          ],
          [
           0.2236842105263158,
           38,
           "Matt Freije"
          ],
          [
           0.5,
           10,
           "Luis Flores"
          ],
          [
           0,
           0.2857142857142857,
           "DJ Mbenga"
          ],
          [
           0,
           9,
           "Horace Jenkins"
          ],
          [
           0.5,
           2,
           "Tony Bobbitt"
          ],
          [
           0.37293519695044475,
           196.75,
           "Andres Nocioni"
          ],
          [
           0.2692307692307692,
           26,
           "Gerald Fitch"
          ],
          [
           0,
           0.3333333333333333,
           "Andre Brown"
          ],
          [
           null,
           0,
           "John Edwards"
          ],
          [
           0.25,
           10,
           "Desmon Farmer"
          ],
          [
           null,
           0,
           "Ibrahim Kutluay"
          ],
          [
           null,
           0,
           "James Thomas"
          ],
          [
           0.5,
           2,
           "Erik Daniels"
          ],
          [
           0.25,
           5.333333333333333,
           "Awvee Storey"
          ],
          [
           0.16666666666666666,
           2.25,
           "Earl Barron"
          ],
          [
           0.2463768115942029,
           17.25,
           "Andre Barrett"
          ],
          [
           0.3269537480063796,
           62.7,
           "Damien Wilkins"
          ],
          [
           null,
           0,
           "Jackie Butler"
          ],
          [
           0.24242424242424243,
           33,
           "Kasib Powell"
          ],
          [
           0.30392156862745096,
           34,
           "Billy Thomas"
          ],
          [
           null,
           0,
           "Jared Reiner"
          ],
          [
           0,
           4,
           "Mark Jones"
          ],
          [
           0.12,
           1.7857142857142858,
           "Andrew Bogut"
          ],
          [
           0.3614374568071873,
           192.93333333333334,
           "Marvin Williams"
          ],
          [
           0.3713640922768305,
           249.25,
           "Chris Paul"
          ],
          [
           0.32883043014575186,
           200.92857142857142,
           "Raymond Felton"
          ],
          [
           0.382196419932269,
           206.7,
           "Martell Webster"
          ],
          [
           0.3407900999524036,
           191,
           "Charlie Villanueva"
          ],
          [
           0.3876570583887657,
           208.15384615384616,
           "Channing Frye"
          ],
          [
           0.5,
           0.3333333333333333,
           "Ike Diogu"
          ],
          [
           0.3574029126213592,
           274.6666666666667,
           "Deron Williams"
          ],
          [
           0.1111111111111111,
           1.125,
           "Andrew Bynum"
          ],
          [
           0.25,
           6,
           "Yaroslav Korolev"
          ],
          [
           0.23076923076923078,
           3.25,
           "Sean May"
          ],
          [
           0.3682219419924338,
           198.25,
           "Rashad McCants"
          ],
          [
           0.30392156862745096,
           85,
           "Antoine Wright"
          ],
          [
           0.3,
           30,
           "Joey Graham"
          ],
          [
           0.3804841149773071,
           264.4,
           "Danny Granger"
          ],
          [
           0.3605697151424288,
           222.33333333333334,
           "Gerald Green"
          ],
          [
           0.19090909090909092,
           13.75,
           "Hakim Warrick"
          ],
          [
           null,
           0,
           "Julius Hodge"
          ],
          [
           0.3596452328159645,
           205,
           "Nate Robinson"
          ],
          [
           0.3427307904919845,
           139.15384615384616,
           "Jarrett Jack"
          ],
          [
           0.35709895513214507,
           162.7,
           "Francisco Garcia"
          ],
          [
           0.38812392426850256,
           193.66666666666666,
           "Luther Head"
          ],
          [
           0.15384615384615385,
           1.625,
           "Johan Petro"
          ],
          [
           0,
           0.5,
           "Jason Maxiell"
          ],
          [
           0.33535528596187175,
           164.85714285714286,
           "Linas Kleiza"
          ],
          [
           0.16,
           4.166666666666667,
           "Ian Mahinmi"
          ],
          [
           null,
           0,
           "Wayne Simien"
          ],
          [
           0.034482758620689655,
           2.4166666666666665,
           "David Lee"
          ],
          [
           0.36622807017543857,
           152,
           "Salim Stoudamire"
          ],
          [
           0.29508196721311475,
           61,
           "Daniel Ewing"
          ],
          [
           0.20689655172413793,
           4.833333333333333,
           "Brandon Bass"
          ],
          [
           0.3584743332377402,
           232.46666666666667,
           "CJ Miles"
          ],
          [
           0.3665421336654213,
           185.30769230769232,
           "Ersan Ilyasova"
          ],
          [
           0,
           0.7,
           "Ronny Turiaf"
          ],
          [
           0.35268817204301073,
           93,
           "Travis Diener"
          ],
          [
           0.3248407643312102,
           52.333333333333336,
           "Von Wafer"
          ],
          [
           0.31375053214133675,
           195.75,
           "Monta Ellis"
          ],
          [
           0.1891891891891892,
           37,
           "Roko Ukic"
          ],
          [
           null,
           0,
           "Chris Taft"
          ],
          [
           null,
           0,
           "Mile Ilic"
          ],
          [
           null,
           0,
           "Martynas Andriuskevicius"
          ],
          [
           0.35113748763600394,
           252.75,
           "Lou Williams"
          ],
          [
           0.32432432432432434,
           18.5,
           "Bracey Wright"
          ],
          [
           0.3161764705882353,
           45.333333333333336,
           "Mickael Gelabale"
          ],
          [
           0.2374429223744292,
           24.333333333333332,
           "Andray Blatche"
          ],
          [
           0.3493723849372385,
           119.5,
           "Ryan Gomes"
          ],
          [
           null,
           0,
           "Robert Whaley"
          ],
          [
           0.21153846153846154,
           13,
           "Orien Greene"
          ],
          [
           0.3076923076923077,
           6.5,
           "Dijon Thompson"
          ],
          [
           0,
           2,
           "Lawrence Roberts"
          ],
          [
           0.33229813664596275,
           23,
           "Amir Johnson"
          ],
          [
           0.15,
           1.6666666666666667,
           "Marcin Gortat"
          ],
          [
           0.32,
           12.5,
           "Alex Acker"
          ],
          [
           0.5,
           2,
           "Uros Slokar"
          ],
          [
           0,
           0.6666666666666666,
           "Fabricio Oberto"
          ],
          [
           0.25,
           12,
           "Arvydas Macijauskas"
          ],
          [
           0.30198019801980197,
           67.33333333333333,
           "Ronnie Price"
          ],
          [
           0.3551912568306011,
           183,
           "Sarunas Jasikevicius"
          ],
          [
           0.40707964601769914,
           161.42857142857142,
           "Jose Calderon"
          ],
          [
           0.20588235294117646,
           17,
           "Donell Taylor"
          ],
          [
           0.16666666666666666,
           0.75,
           "Shavlik Randolph"
          ],
          [
           null,
           0,
           "Deng Gai"
          ],
          [
           0.23809523809523808,
           10.5,
           "Rawle Marshall"
          ],
          [
           0.34371754932502596,
           120.375,
           "Alan Anderson"
          ],
          [
           0.14285714285714285,
           7,
           "Eddie Basden"
          ],
          [
           0.2916666666666667,
           24,
           "James Singleton"
          ],
          [
           null,
           0,
           "Matt Walsh"
          ],
          [
           0.3561643835616438,
           48.666666666666664,
           "Anthony Roberson"
          ],
          [
           null,
           0,
           "Luke Schenscher"
          ],
          [
           0.27184466019417475,
           38.625,
           "Will Bynum"
          ],
          [
           0,
           0.2,
           "Dwayne Jones"
          ],
          [
           0.18518518518518517,
           54,
           "Kevin Burleson"
          ],
          [
           0,
           2,
           "Devin Green"
          ],
          [
           0.3081395348837209,
           28.666666666666668,
           "Stephen Graham"
          ],
          [
           0,
           0.5,
           "Esteban Batista"
          ],
          [
           null,
           0,
           "Sharrod Ford"
          ],
          [
           0.3125,
           48,
           "Jawad Williams"
          ],
          [
           0,
           2,
           "Will Conroy"
          ],
          [
           0.3333333333333333,
           15,
           "Anthony Grundy"
          ],
          [
           null,
           0,
           "Aaron Miles"
          ],
          [
           0.3333333333333333,
           3,
           "Noel Felix"
          ],
          [
           0,
           1,
           "Roger Powell"
          ],
          [
           0.4085603112840467,
           102.8,
           "Kelenna Azubuike"
          ],
          [
           0,
           1.2727272727272727,
           "Chuck Hayes"
          ],
          [
           0,
           1,
           "Boniface Ndong"
          ],
          [
           null,
           0,
           "Keith Langford"
          ],
          [
           0.3438818565400844,
           59.25,
           "John Lucas III"
          ],
          [
           0.375,
           28,
           "Andre Owens"
          ],
          [
           0.32899628252788105,
           107.6,
           "Jamario Moon"
          ],
          [
           0.35403726708074534,
           177.1,
           "Andrea Bargnani"
          ],
          [
           0.3207831325301205,
           44.266666666666666,
           "LaMarcus Aldridge"
          ],
          [
           0.33066666666666666,
           125,
           "Adam Morrison"
          ],
          [
           0.23529411764705882,
           4.25,
           "Tyrus Thomas"
          ],
          [
           0.2222222222222222,
           1.5,
           "Shelden Williams"
          ],
          [
           0.3481081081081081,
           154.16666666666666,
           "Brandon Roy"
          ],
          [
           0.3659264169705005,
           274.27272727272725,
           "Randy Foye"
          ],
          [
           0.3498062015503876,
           206.4,
           "Rudy Gay"
          ],
          [
           0,
           0.75,
           "Patrick O'Bryant"
          ],
          [
           null,
           0,
           "Mouhamed Sene"
          ],
          [
           0.4145408163265306,
           313.6,
           "JJ Redick"
          ],
          [
           0.2857142857142857,
           1.1666666666666667,
           "Hilton Armstrong"
          ],
          [
           0.34945504087193463,
           104.85714285714286,
           "Thabo Sefolosha"
          ],
          [
           0.2535211267605634,
           44.375,
           "Ronnie Brewer"
          ],
          [
           null,
           0,
           "Cedric Simmons"
          ],
          [
           0.338409475465313,
           118.2,
           "Rodney Carney"
          ],
          [
           0.33866995073891626,
           116,
           "Shawne Williams"
          ],
          [
           0.2903225806451613,
           51.666666666666664,
           "Oleksiy Pecherov"
          ],
          [
           0.3119266055045872,
           72.66666666666667,
           "Quincy Douby"
          ],
          [
           0.171875,
           10.666666666666666,
           "Renaldo Balkman"
          ],
          [
           0.32253086419753085,
           86.4,
           "Rajon Rondo"
          ],
          [
           0.32142857142857145,
           98,
           "Marcus Williams"
          ],
          [
           null,
           0,
           "Josh Boone"
          ],
          [
           0.36782766257298166,
           331.1333333333333,
           "Kyle Lowry"
          ],
          [
           0.33212996389891697,
           92.33333333333333,
           "Shannon Brown"
          ],
          [
           0.37395766516998075,
           155.9,
           "Jordan Farmar"
          ],
          [
           0.33666666666666667,
           120,
           "Sergio Rodriguez"
          ],
          [
           0.25,
           11,
           "Maurice Ager"
          ],
          [
           0.2992125984251969,
           31.75,
           "Mardy Collins"
          ],
          [
           0,
           0.6666666666666666,
           "Joel Freeland"
          ],
          [
           0.34,
           16.666666666666668,
           "James White"
          ],
          [
           0.4300673148840688,
           121.54545454545455,
           "Steve Novak"
          ],
          [
           0.1111111111111111,
           1.125,
           "Solomon Jones"
          ],
          [
           0,
           0.25,
           "Paul Davis"
          ],
          [
           0.35911330049261087,
           203,
           "P.J. Tucker"
          ],
          [
           0.037037037037037035,
           4.5,
           "Craig Smith"
          ],
          [
           0.3064516129032258,
           31,
           "Bobby Jones"
          ],
          [
           null,
           0,
           "Kosta Perovic"
          ],
          [
           0.32075471698113206,
           53,
           "David Noel"
          ],
          [
           null,
           0,
           "James Augustine"
          ],
          [
           0.4073291050035236,
           202.71428571428572,
           "Daniel Gibson"
          ],
          [
           0.42105263157894735,
           9.5,
           "Marcus Vinicius"
          ],
          [
           null,
           0,
           "Alexander Johnson"
          ],
          [
           0.25,
           26,
           "Dee Brown"
          ],
          [
           0.3432066967160335,
           103.53333333333333,
           "Paul Millsap"
          ],
          [
           0,
           1,
           "Leon Powe"
          ],
          [
           0,
           0.1,
           "Ryan Hollins"
          ],
          [
           0,
           1.5,
           "Cheikh Samb"
          ],
          [
           0,
           1,
           "Guillermo Diaz"
          ],
          [
           0,
           0.5,
           "Hassan Adams"
          ],
          [
           0.375,
           16,
           "Damir Markota"
          ],
          [
           0.2,
           5,
           "Will Blalock"
          ],
          [
           0.3770491803278688,
           71.16666666666667,
           "Chris Quinn"
          ],
          [
           0.41379310344827586,
           116,
           "Allan Ray"
          ],
          [
           0,
           0.3,
           "Lou Amundson"
          ],
          [
           0.323943661971831,
           23.666666666666668,
           "Tarence Kinsey"
          ],
          [
           0.3444976076555024,
           104.5,
           "Jorge Garbajosa"
          ],
          [
           0.2,
           30,
           "Pooh Jeter"
          ],
          [
           0,
           0.5,
           "Justin Williams"
          ],
          [
           0.3012345679012346,
           101.25,
           "Yakhouba Diawara"
          ],
          [
           0,
           0.5,
           "Pops Mensah-Bonsu"
          ],
          [
           0.21739130434782608,
           23,
           "Robert Hite"
          ],
          [
           0.35150214592274676,
           166.42857142857142,
           "J.J. Barea"
          ],
          [
           0.3333333333333333,
           12,
           "Darius Washington"
          ],
          [
           0,
           1,
           "Ivan McFarlin"
          ],
          [
           0.38127090301003347,
           99.66666666666667,
           "Walter Herrmann"
          ],
          [
           null,
           0,
           "Mike Hall"
          ],
          [
           0.5,
           2,
           "Kevinn Pinkney"
          ],
          [
           0,
           1.25,
           "Mike Harris"
          ],
          [
           null,
           0,
           "Chris McCray"
          ],
          [
           0.15384615384615385,
           13,
           "Cedric Bozeman"
          ],
          [
           null,
           0,
           "Steven Smith"
          ],
          [
           null,
           0,
           "Renaldo Major"
          ],
          [
           0.5,
           2,
           "Dontell Jefferson"
          ],
          [
           0.38461538461538464,
           13,
           "Jeremy Richardson"
          ],
          [
           null,
           0,
           "Lance Allred"
          ],
          [
           0.3076923076923077,
           13,
           "Walker Russell"
          ],
          [
           null,
           0,
           "Randolph Morris"
          ],
          [
           null,
           0,
           "Greg Oden"
          ],
          [
           0.38390164694966367,
           331.61538461538464,
           "Kevin Durant"
          ],
          [
           0.3644008409250175,
           101.92857142857143,
           "Al Horford"
          ],
          [
           0.3787661406025825,
           248.92857142857142,
           "Mike Conley"
          ],
          [
           0.34022988505747126,
           234.23076923076923,
           "Jeff Green"
          ],
          [
           0.3333333333333333,
           45,
           "Yi Jianlian"
          ],
          [
           0.2835400225479143,
           136.46153846153845,
           "Corey Brewer"
          ],
          [
           0,
           1.2,
           "Brandan Wright"
          ],
          [
           0,
           1.2307692307692308,
           "Joakim Noah"
          ],
          [
           0.34990253411306044,
           102.6,
           "Spencer Hawes"
          ],
          [
           0.23478260869565218,
           28.75,
           "Acie Law"
          ],
          [
           0.33111702127659576,
           107.42857142857143,
           "Thaddeus Young"
          ],
          [
           0.26229508196721313,
           15.25,
           "Julian Wright"
          ],
          [
           0.2932330827067669,
           66.5,
           "Al Thornton"
          ],
          [
           0.2996742671009772,
           92.1,
           "Rodney Stuckey"
          ],
          [
           0.375904486251809,
           230.33333333333334,
           "Nick Young"
          ],
          [
           0,
           0.25,
           "Sean Williams"
          ],
          [
           0.3764705882352941,
           248.46153846153845,
           "Marco Belinelli"
          ],
          [
           0.23076923076923078,
           26,
           "Javaris Crittenton"
          ],
          [
           0.3333333333333333,
           22.90909090909091,
           "Jason Smith"
          ],
          [
           0.3587662337662338,
           205.33333333333334,
           "Daequan Cook"
          ],
          [
           0.3929684023141967,
           160.5,
           "Jared Dudley"
          ],
          [
           0.34140625,
           213.33333333333334,
           "Wilson Chandler"
          ],
          [
           0.36006974716652135,
           286.75,
           "Rudy Fernandez"
          ],
          [
           0.2916666666666667,
           8,
           "Morris Almond"
          ],
          [
           0.369702434625789,
           221.8,
           "Aaron Brooks"
          ],
          [
           0.38639455782312926,
           200.45454545454547,
           "Arron Afflalo"
          ],
          [
           0.14285714285714285,
           2,
           "Tiago Splitter"
          ],
          [
           0.29411764705882354,
           11.333333333333334,
           "Alando Tucker"
          ],
          [
           0.3,
           3.3333333333333335,
           "Carl Landry"
          ],
          [
           0.2833333333333333,
           30,
           "Gabe Pruitt"
          ],
          [
           null,
           0,
           "Marcus Williams"
          ],
          [
           0,
           2,
           "Nick Fazekas"
          ],
          [
           0.18181818181818182,
           6.875,
           "Glen Davis"
          ],
          [
           null,
           0,
           "Jermareo Davidson"
          ],
          [
           0.3402777777777778,
           52.36363636363637,
           "Josh McRoberts"
          ],
          [
           0,
           0.4,
           "Kyrylo Fesenko"
          ],
          [
           0,
           6,
           "Sun Sun"
          ],
          [
           null,
           0,
           "Chris Richard"
          ],
          [
           0,
           6,
           "Derrick Byars"
          ],
          [
           null,
           0,
           "Stephane Lasme"
          ],
          [
           0.1875,
           2.6666666666666665,
           "Dominic McGuire"
          ],
          [
           0.36006683375104426,
           92.07692307692308,
           "Marc Gasol"
          ],
          [
           0,
           0.42857142857142855,
           "Aaron Gray"
          ],
          [
           null,
           0,
           "JamesOn Curry"
          ],
          [
           0.18181818181818182,
           11,
           "Taurean Green"
          ],
          [
           0.2,
           7.5,
           "Demetris Nichols"
          ],
          [
           0.3161094224924012,
           59.81818181818182,
           "Ramon Sessions"
          ],
          [
           0.24,
           25,
           "DJ Strawberry"
          ],
          [
           null,
           0,
           "Joel Anthony"
          ],
          [
           0.09090909090909091,
           5.5,
           "Mustafa Shakur"
          ],
          [
           0.25,
           12,
           "Coby Karl"
          ],
          [
           null,
           0,
           "Darryl Watkins"
          ],
          [
           0.37292161520190026,
           126.3,
           "C.J. Watson"
          ],
          [
           0.3728448275862069,
           178.46153846153845,
           "Anthony Tolliver"
          ],
          [
           0.3333333333333333,
           1,
           "Trey Johnson"
          ],
          [
           null,
           0,
           "Courtney Sims"
          ],
          [
           0.2,
           2.5,
           "Mario West"
          ],
          [
           0.2,
           17.5,
           "Thomas Gardner"
          ],
          [
           0.15789473684210525,
           9.5,
           "Ivan Johnson"
          ],
          [
           0.4166666666666667,
           6,
           "Andre Ingram"
          ],
          [
           null,
           0,
           "Eric Dawson"
          ],
          [
           0.26666666666666666,
           15,
           "Carldell Johnson"
          ],
          [
           0.2978723404255319,
           15.666666666666666,
           "Blake Ahearn"
          ],
          [
           0.325,
           40,
           "Mike Taylor"
          ],
          [
           0.34850299401197604,
           75.9090909090909,
           "Michael Beasley"
          ],
          [
           0.3734149540883253,
           285.875,
           "O.J. Mayo"
          ],
          [
           0.31077844311377245,
           139.16666666666666,
           "Derrick Rose"
          ],
          [
           0.3053720195346165,
           267.7692307692308,
           "Russell Westbrook"
          ],
          [
           0.37015615962984383,
           266,
           "Kevin Love"
          ],
          [
           0.38219895287958117,
           286.5,
           "Danilo Gallinari"
          ],
          [
           0.3677170709589662,
           339.3076923076923,
           "Eric Gordon"
          ],
          [
           0.3404255319148936,
           23.5,
           "Joe Alexander"
          ],
          [
           0.3794089609151573,
           242.07692307692307,
           "D.J. Augustin"
          ],
          [
           0.3401397098334229,
           143.15384615384616,
           "Brook Lopez"
          ],
          [
           0.36107091172214184,
           125.63636363636364,
           "Jerryd Bayless"
          ],
          [
           0.14285714285714285,
           5.25,
           "Jason Thompson"
          ],
          [
           0.4015384615384615,
           144.44444444444446,
           "Brandon Rush"
          ],
          [
           0.24096385542168675,
           13.833333333333334,
           "Anthony Randolph"
          ],
          [
           0.29310344827586204,
           13.384615384615385,
           "Robin Lopez"
          ],
          [
           0.3563748079877112,
           65.1,
           "Marreese Speights"
          ],
          [
           0.25,
           2.6666666666666665,
           "Roy Hibbert"
          ],
          [
           0.17543859649122806,
           4.384615384615385,
           "JaVale McGee"
          ],
          [
           0,
           2.625,
           "JJ Hickson"
          ],
          [
           0.2857142857142857,
           6,
           "Alexis Ajinca"
          ],
          [
           0.3795474076195932,
           290.9166666666667,
           "Ryan Anderson"
          ],
          [
           0.38778220451527223,
           188.25,
           "Courtney Lee"
          ],
          [
           0,
           0.36363636363636365,
           "Kosta Koufos"
          ],
          [
           0.3586683417085427,
           132.66666666666666,
           "Serge Ibaka"
          ],
          [
           0.3601380042462845,
           289.84615384615387,
           "Nicolas Batum"
          ],
          [
           0.384257464133385,
           198.3846153846154,
           "George Hill"
          ],
          [
           0.35152838427947597,
           50.888888888888886,
           "Darrell Arthur"
          ],
          [
           0.3044280442804428,
           135.5,
           "Donte Greene"
          ],
          [
           0.3333333333333333,
           0.5,
           "DJ White"
          ],
          [
           0,
           5,
           "J.R. Giddens"
          ],
          [
           null,
           0,
           "Nikola Pekovic"
          ],
          [
           0,
           2,
           "Walter Sharpe"
          ],
          [
           0,
           0.25,
           "Joey Dorsey"
          ],
          [
           0.35067347886669764,
           239.22222222222223,
           "Mario Chalmers"
          ],
          [
           0.08333333333333333,
           0.9230769230769231,
           "DeAndre Jordan"
          ],
          [
           0,
           0.125,
           "Omer Asik"
          ],
          [
           0.3344103392568659,
           51.583333333333336,
           "Luc Mbah a Moute"
          ],
          [
           0.35294117647058826,
           39.666666666666664,
           "Kyle Weaver"
          ],
          [
           0.2833333333333333,
           30,
           "Sonny Weems"
          ],
          [
           0.32941176470588235,
           42.5,
           "Chris Douglas-Roberts"
          ],
          [
           0,
           0.5,
           "Nathan Jawai"
          ],
          [
           0.4,
           25,
           "Sean Singletary"
          ],
          [
           0,
           2,
           "Patrick Ewing"
          ],
          [
           0.36394214598049107,
           228.69230769230768,
           "Goran Dragic"
          ],
          [
           0.36893203883495146,
           103,
           "Henry Walker"
          ],
          [
           0.16666666666666666,
           6,
           "Malik Hairston"
          ],
          [
           0.23529411764705882,
           5.666666666666667,
           "Darnell Jackson"
          ],
          [
           null,
           0,
           "Sasha Kaun"
          ],
          [
           0.25,
           4,
           "Joe Crawford"
          ],
          [
           null,
           0,
           "Semih Erden"
          ],
          [
           0.4166236448115643,
           215.22222222222223,
           "Anthony Morrow"
          ],
          [
           0.31683168316831684,
           75.75,
           "Bobby Brown"
          ],
          [
           null,
           0,
           "Othello Hunter"
          ],
          [
           null,
           0,
           "Steven Hill"
          ],
          [
           0,
           1,
           "Hamed Haddadi"
          ],
          [
           0.39473684210526316,
           38,
           "Rob Kurz"
          ],
          [
           0,
           3,
           "DeMarcus Nelson"
          ],
          [
           0.16666666666666666,
           2,
           "Othyus Jeffers"
          ],
          [
           0.5,
           2,
           "Oliver Lafayette"
          ],
          [
           0,
           4,
           "Chris Hunter"
          ],
          [
           0.3404255319148936,
           70.5,
           "Gary Forbes"
          ],
          [
           null,
           0,
           "Trey Gilder"
          ],
          [
           0.3720136518771331,
           83.71428571428571,
           "Cartier Martin"
          ],
          [
           0,
           0.25,
           "Greg Stiemsma"
          ],
          [
           0.33403361344537813,
           129.8181818181818,
           "Blake Griffin"
          ],
          [
           null,
           0,
           "Hasheem Thabeet"
          ],
          [
           0.3634066587395957,
           560.6666666666666,
           "James Harden"
          ],
          [
           0.32299741602067183,
           154.8,
           "Tyreke Evans"
          ],
          [
           0.3251605370694688,
           171.3,
           "Ricky Rubio"
          ],
          [
           0.33810888252148996,
           116.33333333333333,
           "Jonny Flynn"
          ],
          [
           0.43302752293577984,
           545,
           "Stephen Curry"
          ],
          [
           0.13636363636363635,
           2.75,
           "Jordan Hill"
          ],
          [
           0.28081123244929795,
           106.83333333333333,
           "DeMar DeRozan"
          ],
          [
           0.34516616314199394,
           294.22222222222223,
           "Brandon Jennings"
          ],
          [
           0.31693989071038253,
           45.75,
           "Terrence Williams"
          ],
          [
           0.32677165354330706,
           95.25,
           "Gerald Henderson"
          ],
          [
           0.13636363636363635,
           3.142857142857143,
           "Tyler Hansbrough"
          ],
          [
           0.328,
           41.666666666666664,
           "Earl Clark"
          ],
          [
           0.3514018691588785,
           89.16666666666667,
           "Austin Daye"
          ],
          [
           0.30445969125214406,
           97.16666666666667,
           "James Johnson"
          ],
          [
           0.3580545015522594,
           241.58333333333334,
           "Jrue Holiday"
          ],
          [
           0.35860500379075055,
           164.875,
           "Ty Lawson"
          ],
          [
           0.3599389933909507,
           163.91666666666666,
           "Jeff Teague"
          ],
          [
           0.3501577287066246,
           63.4,
           "Eric Maynor"
          ],
          [
           0.3944099378881988,
           161,
           "Darren Collison"
          ],
          [
           0.368185212845407,
           133.9,
           "Omri Casspi"
          ],
          [
           0.31896551724137934,
           69.6,
           "Byron Mullens"
          ],
          [
           0.3249370277078086,
           99.25,
           "Rodrigue Beaubois"
          ],
          [
           0.21804511278195488,
           11.083333333333334,
           "Taj Gibson"
          ],
          [
           0.3578031538879826,
           167.1818181818182,
           "DeMarre Carroll"
          ],
          [
           0.38191632928475033,
           247,
           "Wayne Ellington"
          ],
          [
           0.3535031847133758,
           157,
           "Toney Douglas"
          ],
          [
           0.2765957446808511,
           47,
           "Christian Eyenga"
          ],
          [
           0.29310344827586204,
           38.666666666666664,
           "Victor Claver"
          ],
          [
           0.4,
           0.8333333333333334,
           "Jeff Ayres"
          ],
          [
           0.2835820895522388,
           33.5,
           "Jermaine Taylor"
          ],
          [
           0.3450479233226837,
           62.6,
           "Dante Cunningham"
          ],
          [
           0.3670886075949367,
           19.75,
           "DaJuan Summers"
          ],
          [
           0.28,
           43.75,
           "Sam Young"
          ],
          [
           0,
           1.2857142857142858,
           "DeJuan Blair"
          ],
          [
           0,
           0.3333333333333333,
           "Jon Brockman"
          ],
          [
           0.36330608537693004,
           122.33333333333333,
           "Jonas Jerebko"
          ],
          [
           0.3170731707317073,
           13.666666666666666,
           "Derrick Brown"
          ],
          [
           0.37295476419634266,
           207.8,
           "Jodie Meeks"
          ],
          [
           0.3819479857215706,
           217.88888888888889,
           "Patrick Beverley"
          ],
          [
           0.3583617747440273,
           256.375,
           "Marcus Thornton"
          ],
          [
           0.35238907849829354,
           167.42857142857142,
           "Chase Budinger"
          ],
          [
           0.28846153846153844,
           52,
           "Nick Calathes"
          ],
          [
           0.40087984602694526,
           303.0833333333333,
           "Danny Green"
          ],
          [
           0,
           2,
           "Taylor Griffin"
          ],
          [
           0.3159420289855073,
           115,
           "AJ Price"
          ],
          [
           0.362962962962963,
           67.5,
           "Nando De Colo"
          ],
          [
           0.3875476493011436,
           262.3333333333333,
           "Patty Mills"
          ],
          [
           0.27722772277227725,
           25.25,
           "Lester Hudson"
          ],
          [
           0.34611171960569553,
           166,
           "Garrett Temple"
          ],
          [
           0.32142857142857145,
           28,
           "Marcus Landry"
          ],
          [
           0.5,
           2,
           "Jerel McNeal"
          ],
          [
           null,
           0,
           "Antonio Anderson"
          ],
          [
           null,
           0,
           "Garret Siler"
          ],
          [
           0.4444444444444444,
           9,
           "Larry Owens"
          ],
          [
           0.37883435582822084,
           380.3333333333333,
           "Wesley Matthews"
          ],
          [
           0.32517482517482516,
           71.5,
           "Alonzo Gee"
          ],
          [
           0.2903225806451613,
           31,
           "Dionte Christmas"
          ],
          [
           0.3651376146788991,
           77.85714285714286,
           "Reggie Williams"
          ],
          [
           0.16666666666666666,
           6,
           "Cedric Jackson"
          ],
          [
           null,
           0,
           "Mickell Gladness"
          ],
          [
           0.3013698630136986,
           48.666666666666664,
           "Sundiata Gaines"
          ],
          [
           null,
           0,
           "Shane Edwards"
          ],
          [
           0.3,
           10,
           "Zabian Dowdell"
          ],
          [
           0.1702127659574468,
           23.5,
           "Terrel Harris"
          ],
          [
           0.32322175732217573,
           191.2,
           "John Wall"
          ],
          [
           0.29443838604143946,
           91.7,
           "Evan Turner"
          ],
          [
           0.20454545454545456,
           16,
           "Derrick Favors"
          ],
          [
           0.3368074602303895,
           202.55555555555554,
           "Wesley Johnson"
          ],
          [
           0.33361921097770153,
           116.6,
           "DeMarcus Cousins"
          ],
          [
           0,
           0.5714285714285714,
           "Ekpe Udoh"
          ],
          [
           0.058823529411764705,
           1.8888888888888888,
           "Greg Monroe"
          ],
          [
           0.3323133414932681,
           148.54545454545453,
           "Al-Farouq Aminu"
          ],
          [
           0.3696682464454976,
           230.1818181818182,
           "Gordon Hayward"
          ],
          [
           0.38382737576285963,
           417.09090909090907,
           "Paul George"
          ],
          [
           null,
           0,
           "Cole Aldrich"
          ],
          [
           0.3253968253968254,
           25.2,
           "Xavier Henry"
          ],
          [
           0,
           0.36363636363636365,
           "Ed Davis"
          ],
          [
           0.36863662960795784,
           155.36363636363637,
           "Patrick Patterson"
          ],
          [
           0,
           0.8333333333333334,
           "Larry Sanders"
          ],
          [
           0.4024514811031665,
           122.375,
           "Luke Babbitt"
          ],
          [
           0,
           1,
           "Kevin Seraphin"
          ],
          [
           0.33711167086481947,
           216.54545454545453,
           "Eric Bledsoe"
          ],
          [
           0.3625758282781148,
           194.8181818181818,
           "Avery Bradley"
          ],
          [
           0.32078559738134205,
           122.2,
           "James Anderson"
          ],
          [
           0.21428571428571427,
           7,
           "Craig Brackins"
          ],
          [
           0.3103448275862069,
           43.5,
           "Elliot Williams"
          ],
          [
           0.3048780487804878,
           30.75,
           "Trevor Booker"
          ],
          [
           0,
           1.5,
           "Damion James"
          ],
          [
           0.09523809523809523,
           7,
           "Dominique Jones"
          ],
          [
           0.35581787521079256,
           84.71428571428571,
           "Quincy Pondexter"
          ],
          [
           0.3170028818443804,
           173.5,
           "Jordan Crawford"
          ],
          [
           0.34915254237288135,
           168.57142857142858,
           "Greivis Vasquez"
          ],
          [
           0,
           0.3333333333333333,
           "Daniel Orton"
          ],
          [
           0.2692307692307692,
           26,
           "Lazar Hayward"
          ],
          [
           0,
           2,
           "Tibor Pleiss"
          ],
          [
           null,
           0,
           "Dexter Pittman"
          ],
          [
           0.3076923076923077,
           2.888888888888889,
           "Hassan Whiteside"
          ],
          [
           0.4,
           7.5,
           "Armon Johnson"
          ],
          [
           0.3870967741935484,
           191.16666666666666,
           "Nemanja Bjelica"
          ],
          [
           0,
           6,
           "Darington Hobson"
          ],
          [
           0.25,
           4,
           "Andy Rautins"
          ],
          [
           0.33240997229916897,
           72.2,
           "Landry Fields"
          ],
          [
           0.3148316651501365,
           122.11111111111111,
           "Lance Stephenson"
          ],
          [
           null,
           0,
           "Jarvis Varnado"
          ],
          [
           0.2222222222222222,
           12,
           "Devin Ebanks"
          ],
          [
           null,
           0,
           "Jerome Jordan"
          ],
          [
           null,
           0,
           "Gani Lawal"
          ],
          [
           null,
           0,
           "Solomon Alabi"
          ],
          [
           0.2413793103448276,
           43.5,
           "Luke Harangody"
          ],
          [
           0,
           1,
           "Pape Sy"
          ],
          [
           0.3333333333333333,
           15,
           "Willie Warren"
          ],
          [
           0.23076923076923078,
           3.7142857142857144,
           "Jeremy Evans"
          ],
          [
           null,
           0,
           "Hamady Ndiaye"
          ],
          [
           null,
           0,
           "Derrick Caracter"
          ],
          [
           null,
           0,
           "Ryan Reid"
          ],
          [
           0.3333333333333333,
           4.5,
           "Ben Uzoh"
          ],
          [
           0.310126582278481,
           63.2,
           "Donald Sloan"
          ],
          [
           0.1896551724137931,
           7.25,
           "Timofey Mozgov"
          ],
          [
           0.38237738985868663,
           171.85714285714286,
           "Gary Neal"
          ],
          [
           0.341964965727342,
           145.88888888888889,
           "Jeremy Lin"
          ],
          [
           0.2,
           10,
           "Sherron Collins"
          ],
          [
           0,
           1.3333333333333333,
           "Samardo Samuels"
          ],
          [
           0.32167832167832167,
           78,
           "Ish Smith"
          ],
          [
           0,
           0.4,
           "Jeff Adrien"
          ],
          [
           0.125,
           8,
           "Jerome Dyson"
          ],
          [
           0.27884615384615385,
           34.666666666666664,
           "Elijah Millsap"
          ],
          [
           null,
           0,
           "Marcus Cousin"
          ],
          [
           0.35333333333333333,
           37.5,
           "Manny Harris"
          ],
          [
           null,
           0,
           "Chris Johnson"
          ],
          [
           0.14285714285714285,
           7,
           "Justin Dentmon"
          ],
          [
           0.3810623556581986,
           48.111111111111114,
           "Lance Thomas"
          ],
          [
           0.16666666666666666,
           6,
           "Jerry Smith"
          ],
          [
           0.2,
           5,
           "Luke Zeller"
          ],
          [
           null,
           0,
           "Arinze Onuaku"
          ],
          [
           0.23076923076923078,
           13,
           "Courtney Fortson"
          ],
          [
           0.3913177339901478,
           324.8,
           "Kyrie Irving"
          ],
          [
           0.29952267303102625,
           119.71428571428571,
           "Derrick Williams"
          ],
          [
           0.2857142857142857,
           15.4,
           "Enes Freedom"
          ],
          [
           0.2571428571428571,
           3.5,
           "Tristan Thompson"
          ],
          [
           0.35766423357664234,
           30.444444444444443,
           "Jonas Valanciunas"
          ],
          [
           0,
           0.6666666666666666,
           "Jan Vesely"
          ],
          [
           0,
           0.3,
           "Bismack Biyombo"
          ],
          [
           0.3533797216699801,
           251.5,
           "Brandon Knight"
          ],
          [
           0.36013590033975085,
           441.5,
           "Kemba Walker"
          ],
          [
           0.371868978805395,
           86.5,
           "Jimmer Fredette"
          ],
          [
           0.4191142191142191,
           536.25,
           "Klay Thompson"
          ],
          [
           0.37279411764705883,
           136,
           "Alec Burks"
          ],
          [
           0.3407917383820998,
           174.3,
           "Markieff Morris"
          ],
          [
           0.3785063752276867,
           274.5,
           "Marcus Morris Sr."
          ],
          [
           0.38427365615282094,
           225.1,
           "Kawhi Leonard"
          ],
          [
           0.35731225296442687,
           126.5,
           "Nikola Vucevic"
          ],
          [
           0.3372413793103448,
           145,
           "Iman Shumpert"
          ],
          [
           0.31868131868131866,
           60.666666666666664,
           "Chris Singleton"
          ],
          [
           0.367047308319739,
           245.2,
           "Tobias Harris"
          ],
          [
           0.2995049504950495,
           67.33333333333333,
           "Donatas Motiejunas"
          ],
          [
           0.2602739726027397,
           36.5,
           "Nolan Smith"
          ],
          [
           0.2222222222222222,
           5.625,
           "Kenneth Faried"
          ],
          [
           0.35864485981308414,
           342.4,
           "Nikola Mirotic"
          ],
          [
           0.3491282968261064,
           223.7,
           "Reggie Jackson"
          ],
          [
           0.3449367088607595,
           63.2,
           "MarShon Brooks"
          ],
          [
           0.3567708333333333,
           76.8,
           "Jordan Hamilton"
          ],
          [
           null,
           0,
           "JaJuan Johnson"
          ],
          [
           0.323943661971831,
           106.5,
           "Norris Cole"
          ],
          [
           0.3330049261083744,
           101.5,
           "Cory Joseph"
          ],
          [
           0.32735148514851486,
           161.6,
           "Jimmy Butler"
          ],
          [
           0.3931240657698057,
           382.2857142857143,
           "Bojan Bogdanovic"
          ],
          [
           0.27586206896551724,
           9.666666666666666,
           "Justin Harper"
          ],
          [
           0.3619854721549637,
           137.66666666666666,
           "Kyle Singler"
          ],
          [
           0.3296943231441048,
           114.5,
           "Shelvin Mack"
          ],
          [
           0.2,
           2.5,
           "Tyler Honeycutt"
          ],
          [
           null,
           0,
           "Jordan Williams"
          ],
          [
           0.3076923076923077,
           13,
           "Trey Thompkins"
          ],
          [
           0.3725596529284165,
           204.88888888888889,
           "Chandler Parsons"
          ],
          [
           0,
           0.3333333333333333,
           "Jeremy Tyler"
          ],
          [
           0.32808398950131235,
           47.625,
           "Jon Leuer"
          ],
          [
           0.3219178082191781,
           36.5,
           "Darius Morris"
          ],
          [
           0.40709561034275404,
           332.6,
           "Davis Bertans"
          ],
          [
           0.29411764705882354,
           11.333333333333334,
           "Malcolm Lee"
          ],
          [
           0.18181818181818182,
           11,
           "Charles Jenkins"
          ],
          [
           0.3473684210526316,
           31.666666666666668,
           "Josh Harrellson"
          ],
          [
           0.34523809523809523,
           28,
           "Andrew Goudelock"
          ],
          [
           null,
           0,
           "Travis Leslie"
          ],
          [
           null,
           0,
           "Keith Benson"
          ],
          [
           0.14285714285714285,
           10.5,
           "Josh Selby"
          ],
          [
           0.13333333333333333,
           2.5,
           "Lavoy Allen"
          ],
          [
           null,
           0,
           "Vernon Macklin"
          ],
          [
           0.3524590163934426,
           24.4,
           "DeAndre Liggins"
          ],
          [
           0.388268156424581,
           143.2,
           "E'Twaun Moore"
          ],
          [
           0.36305048335123524,
           279.3,
           "Isaiah Thomas"
          ],
          [
           0.2,
           5,
           "Edwin Ubiles"
          ],
          [
           0.3698630136986301,
           24.333333333333332,
           "Dwight Buycks"
          ],
          [
           0.2,
           12.5,
           "Cory Higgins"
          ],
          [
           0.5,
           4,
           "D.J. Kennedy"
          ],
          [
           0.36363636363636365,
           11,
           "Mychel Thompson"
          ],
          [
           0,
           1,
           "Dennis Horner"
          ],
          [
           0,
           0.5,
           "Chris Wright"
          ],
          [
           null,
           0,
           "Jeff Foote"
          ],
          [
           0.125,
           4,
           "Xavier Silas"
          ],
          [
           0.3125,
           8,
           "Julyan Stone"
          ],
          [
           0.31932773109243695,
           39.666666666666664,
           "Jeremy Pargo"
          ],
          [
           0.09090909090909091,
           2.75,
           "Malcolm Thomas"
          ],
          [
           0.3053097345132743,
           75.33333333333333,
           "Brad Wanamaker"
          ],
          [
           0,
           0.2,
           "Greg Smith"
          ],
          [
           0,
           0.3333333333333333,
           "Gustavo Ayon"
          ],
          [
           0.5,
           2,
           "Josh Akognon"
          ],
          [
           0.31208053691275167,
           99.33333333333333,
           "Anthony Davis"
          ],
          [
           0.27184466019417475,
           12.875,
           "Michael Kidd-Gilchrist"
          ],
          [
           0.3765449052458116,
           404.55555555555554,
           "Bradley Beal"
          ],
          [
           0.3463855421686747,
           207.5,
           "Dion Waiters"
          ],
          [
           0,
           1.2,
           "Thomas Robinson"
          ],
          [
           0.37509144111192394,
           607.5555555555555,
           "Damian Lillard"
          ],
          [
           0.36718502062837194,
           350.1111111111111,
           "Terrence Ross"
          ],
          [
           0.13513513513513514,
           12.333333333333334,
           "Andre Drummond"
          ],
          [
           0.37653239929947463,
           253.77777777777777,
           "Harrison Barnes"
          ],
          [
           0.34994753410283314,
           211.77777777777777,
           "Austin Rivers"
          ],
          [
           0.3902147971360382,
           93.11111111111111,
           "Meyers Leonard"
          ],
          [
           0.3444794952681388,
           176.11111111111111,
           "Jeremy Lamb"
          ],
          [
           0.3699421965317919,
           86.5,
           "Kendall Marshall"
          ],
          [
           0.25,
           10,
           "John Henson"
          ],
          [
           0.3209990749306198,
           120.11111111111111,
           "Maurice Harkless"
          ],
          [
           null,
           0,
           "Royce White"
          ],
          [
           0.2857142857142857,
           4.375,
           "Tyler Zeller"
          ],
          [
           0.2971246006389776,
           52.166666666666664,
           "Terrence Jones"
          ],
          [
           0.3210332103321033,
           54.2,
           "Andrew Nicholson"
          ],
          [
           0.3793352601156069,
           307.55555555555554,
           "Evan Fournier"
          ],
          [
           0.2722007722007722,
           103.6,
           "Jared Sullinger"
          ],
          [
           null,
           0,
           "Fab Melo"
          ],
          [
           0.3667711598746082,
           53.166666666666664,
           "John Jenkins"
          ],
          [
           0.3064516129032258,
           15.5,
           "Jared Cunningham"
          ],
          [
           0.23140495867768596,
           90.75,
           "Tony Wroten"
          ],
          [
           null,
           0,
           "Miles Plumlee"
          ],
          [
           null,
           0,
           "Arnett Moultrie"
          ],
          [
           0.2926829268292683,
           41,
           "Perry Jones III"
          ],
          [
           0.2222222222222222,
           15,
           "Marquis Teague"
          ],
          [
           null,
           0,
           "Festus Ezeli"
          ],
          [
           0.36628849270664504,
           123.4,
           "Tomas Satoransky"
          ],
          [
           0,
           1,
           "Bernard James"
          ],
          [
           0.3460101867572156,
           327.22222222222223,
           "Jae Crowder"
          ],
          [
           0.31569965870307165,
           195.33333333333334,
           "Draymond Green"
          ],
          [
           0.31125827814569534,
           50.333333333333336,
           "Orlando Johnson"
          ],
          [
           0.34990439770554493,
           74.71428571428571,
           "Quincy Acy"
          ],
          [
           0.2920353982300885,
           37.666666666666664,
           "Quincy Miller"
          ],
          [
           0.3950524737631184,
           296.44444444444446,
           "Khris Middleton"
          ],
          [
           0.3515215110178384,
           211.77777777777777,
           "Will Barton"
          ],
          [
           0.36,
           12.5,
           "Tyshawn Taylor"
          ],
          [
           0.3937007874015748,
           63.5,
           "Doron Lamb"
          ],
          [
           0.3619047619047619,
           151.66666666666666,
           "Mike Scott"
          ],
          [
           0.28,
           50,
           "Kim English"
          ],
          [
           0.3090909090909091,
           73.33333333333333,
           "Justin Hamilton"
          ],
          [
           0.3830734966592428,
           149.66666666666666,
           "Darius Miller"
          ],
          [
           0.2,
           5,
           "Kevin Murphy"
          ],
          [
           0.2971014492753623,
           69,
           "Kostas Papanikolaou"
          ],
          [
           0.21830985915492956,
           17.75,
           "Kyle O'Quinn"
          ],
          [
           0,
           3,
           "Kris Joseph"
          ],
          [
           0,
           5,
           "Furkan Aldemir"
          ],
          [
           0.125,
           4,
           "Tornike Shengelia"
          ],
          [
           0,
           2,
           "Darius Johnson-Odom"
          ],
          [
           0.34285714285714286,
           70,
           "Robbie Hummel"
          ],
          [
           0,
           0.25,
           "Robert Sacre"
          ],
          [
           null,
           0,
           "Ognjen Kuzmic"
          ],
          [
           0.38575982996811903,
           235.25,
           "Hollis Thompson"
          ],
          [
           null,
           0,
           "Viacheslav Kravtsov"
          ],
          [
           0.37054794520547946,
           243.33333333333334,
           "Mirza Teletovic"
          ],
          [
           0.36492890995260663,
           105.5,
           "Chris Copeland"
          ],
          [
           0.3794392523364486,
           133.75,
           "Pablo Prigioni"
          ],
          [
           0.30623818525519847,
           176.33333333333334,
           "Alexey Shved"
          ],
          [
           0.356186395286556,
           207.44444444444446,
           "Kent Bazemore"
          ],
          [
           0.22580645161290322,
           15.5,
           "Maalik Wayns"
          ],
          [
           null,
           0,
           "Chris Smith"
          ],
          [
           0.3557377049180328,
           122,
           "Brian Roberts"
          ],
          [
           0.17391304347826086,
           5.75,
           "Henry Sims"
          ],
          [
           null,
           0,
           "Kevin Jones"
          ],
          [
           0.5,
           1,
           "Scott Machado"
          ],
          [
           0.2608695652173913,
           23,
           "Ben Hansbrough"
          ],
          [
           0,
           1,
           "Tony Mitchell"
          ],
          [
           0.3333333333333333,
           2,
           "Willie Reed"
          ],
          [
           0.30678466076696165,
           84.75,
           "Chris Johnson"
          ],
          [
           0.35135135135135137,
           55.5,
           "Diante Garrett"
          ],
          [
           0.2571428571428571,
           35,
           "DeQuan Jones"
          ],
          [
           0.364379827351204,
           275.125,
           "Justin Holiday"
          ],
          [
           null,
           0,
           "Chris Wright"
          ],
          [
           0.37967914438502676,
           133.57142857142858,
           "JaMychal Green"
          ],
          [
           0.3225806451612903,
           20.666666666666668,
           "James Nunnally"
          ],
          [
           0.17647058823529413,
           5.666666666666667,
           "Jorge Gutierrez"
          ],
          [
           0.4166666666666667,
           6,
           "Toure' Murry"
          ],
          [
           null,
           0,
           "Tim Ohlbrecht"
          ],
          [
           0.25,
           12,
           "Glen Rice Jr."
          ],
          [
           0.30833333333333335,
           40,
           "Aron Baynes"
          ],
          [
           0.2,
           1.4285714285714286,
           "Nerlens Noel"
          ],
          [
           0.33226837060702874,
           39.125,
           "Alex Len"
          ],
          [
           0.3865914786967419,
           228,
           "Allen Crabbe"
          ],
          [
           0.2528216704288939,
           63.285714285714285,
           "Andre Roberson"
          ],
          [
           0.2608695652173913,
           34.5,
           "Anthony Bennett"
          ],
          [
           0.2356020942408377,
           47.75,
           "Archie Goodwin"
          ],
          [
           0.3630379746835443,
           246.875,
           "Ben McLemore"
          ],
          [
           0.2777777777777778,
           54,
           "Brandon Paul"
          ],
          [
           0.4,
           5,
           "Carrick Felix"
          ],
          [
           0.39758632249413345,
           372.875,
           "CJ McCollum"
          ],
          [
           0.22695035460992907,
           17.625,
           "Cody Zeller"
          ],
          [
           0.3366914103923648,
           235.75,
           "Dennis Schroder"
          ],
          [
           0.33121019108280253,
           58.875,
           "Dewayne Dedmon"
          ],
          [
           null,
           0,
           "DJ Stephens"
          ],
          [
           0.28846153846153844,
           26,
           "Erick Green"
          ],
          [
           0.3569682151589242,
           51.125,
           "Gorgui Dieng"
          ],
          [
           0.3512476007677543,
           173.66666666666666,
           "Isaiah Canaan"
          ],
          [
           0.46153846153846156,
           6.5,
           "Jamaal Franklin"
          ],
          [
           0.5,
           6,
           "James Southerland"
          ],
          [
           0.14285714285714285,
           2.8,
           "Jeff Withey"
          ],
          [
           0.3668076109936575,
           236.5,
           "Kelly Olynyk"
          ],
          [
           0.35534256301029465,
           352.125,
           "Kentavious Caldwell-Pope"
          ],
          [
           0.16981132075471697,
           21.2,
           "Lorenzo Brown"
          ],
          [
           0.05128205128205128,
           4.875,
           "Mason Plumlee"
          ],
          [
           0.2552594670406732,
           89.125,
           "Michael Carter-Williams"
          ],
          [
           0.36796536796536794,
           115.5,
           "Mike Muscala"
          ],
          [
           0.2608695652173913,
           23,
           "Nate Wolters"
          ],
          [
           0.4019073569482289,
           183.5,
           "Otto Porter Jr."
          ],
          [
           0.28,
           25,
           "Peyton Siva"
          ],
          [
           0.33490566037735847,
           70.66666666666667,
           "Ray McCallum"
          ],
          [
           0.39215686274509803,
           178.5,
           "Reggie Bullock"
          ],
          [
           0.37142857142857144,
           17.5,
           "Ricky Ledo"
          ],
          [
           0.3585415259959487,
           370.25,
           "Robert Covington"
          ],
          [
           0,
           0.875,
           "Rudy Gobert"
          ],
          [
           0.31865284974093266,
           77.2,
           "Shabazz Muhammad"
          ],
          [
           0.33620689655172414,
           87,
           "Shane Larkin"
          ],
          [
           0.07692307692307693,
           1.625,
           "Steven Adams"
          ],
          [
           0.35957513277100905,
           400.125,
           "Tim Hardaway Jr."
          ],
          [
           1,
           1,
           "Tony Mitchell"
          ],
          [
           0.39709302325581397,
           215,
           "Tony Snell"
          ],
          [
           0.3459807073954984,
           194.375,
           "Trey Burke"
          ],
          [
           0.15384615384615385,
           4.333333333333333,
           "Vander Blue"
          ],
          [
           0.3469776297001428,
           262.625,
           "Victor Oladipo"
          ],
          [
           0.2874617737003058,
           163.5,
           "Giannis Antetokounmpo"
          ],
          [
           0.2818181818181818,
           36.666666666666664,
           "Sergey Karasev"
          ],
          [
           0.2727272727272727,
           11,
           "Pierre Jackson"
          ],
          [
           0.06666666666666667,
           15,
           "Grant Jerrett"
          ],
          [
           0.2647058823529412,
           8.5,
           "Lucas Nogueira"
          ],
          [
           0,
           3,
           "Erik Murphy"
          ],
          [
           0.25396825396825395,
           63,
           "Phil Pressey"
          ],
          [
           0.36009174311926606,
           124.57142857142857,
           "James Ennis III"
          ],
          [
           0.16666666666666666,
           18,
           "Nemanja Nedovic"
          ],
          [
           0.3680672268907563,
           198.33333333333334,
           "Alex Abrines"
          ],
          [
           0.2,
           5,
           "Adonis Thomas"
          ],
          [
           0.36363636363636365,
           137.5,
           "Matthew Dellavedova"
          ],
          [
           0.3333333333333333,
           135,
           "Solomon Hill"
          ],
          [
           0.3822463768115942,
           92,
           "Raul Neto"
          ],
          [
           0.3157894736842105,
           80.75,
           "Ryan Kelly"
          ],
          [
           0.28488372093023256,
           43,
           "Joffrey Lauvergne"
          ],
          [
           0.21739130434782608,
           11.5,
           "Gal Mekel"
          ],
          [
           0.31645569620253167,
           39.5,
           "Gigi Datome"
          ],
          [
           0.313953488372093,
           172,
           "Pero Antic"
          ],
          [
           null,
           0,
           "Miroslav Raduljica"
          ],
          [
           0.3404255319148936,
           117.5,
           "Ian Clark"
          ],
          [
           null,
           0,
           "Elias Harris"
          ],
          [
           0.4444444444444444,
           183.85714285714286,
           "Seth Curry"
          ],
          [
           0.22727272727272727,
           22,
           "Brandon Davies"
          ],
          [
           0,
           0.5,
           "Kalin Lucas"
          ],
          [
           0,
           4,
           "Patrick Christopher"
          ],
          [
           0.2222222222222222,
           27,
           "Chris Babb"
          ],
          [
           0.2,
           17.5,
           "Larry Drew II"
          ],
          [
           0.3952991452991453,
           200.57142857142858,
           "Troy Daniels"
          ],
          [
           0.3406408094435076,
           118.6,
           "Rodney McGruder"
          ],
          [
           null,
           0,
           "Trey McKinney-Jones"
          ],
          [
           0.3172866520787746,
           114.25,
           "Jonathon Simmons"
          ],
          [
           0.175,
           13.333333333333334,
           "Thanasis Antetokounmpo"
          ],
          [
           0,
           0.5,
           "Norvel Pelle"
          ],
          [
           0.5,
           2,
           "Reggie Hearn"
          ],
          [
           0.34615384615384615,
           13,
           "Josh Magette"
          ],
          [
           0.2872340425531915,
           47,
           "C.J. Williams"
          ],
          [
           0.29455445544554454,
           202,
           "PJ Hairston"
          ],
          [
           0.2222222222222222,
           9,
           "Will Cherry"
          ],
          [
           0.3333333333333333,
           21,
           "Casper Ware"
          ],
          [
           0,
           1,
           "Scotty Hopson"
          ],
          [
           0.1875,
           8,
           "Russ Smith"
          ],
          [
           0.345,
           166.66666666666666,
           "Shabazz Napier"
          ],
          [
           0.3547008547008547,
           58.5,
           "Jordan McRae"
          ],
          [
           0.3848953594176524,
           314,
           "Zach LaVine"
          ],
          [
           0.3173076923076923,
           52,
           "Tyler Ennis"
          ],
          [
           0.29473684210526313,
           63.333333333333336,
           "Markel Brown"
          ],
          [
           0.2888198757763975,
           92,
           "Elfrid Payton"
          ],
          [
           0.19047619047619047,
           63,
           "Semaj Christon"
          ],
          [
           0.3429237947122862,
           367.42857142857144,
           "Jordan Clarkson"
          ],
          [
           0.2222222222222222,
           27,
           "Devyn Marble"
          ],
          [
           0.29045643153526973,
           80.33333333333333,
           "KJ McDaniels"
          ],
          [
           0.23809523809523808,
           21,
           "Nick Johnson"
          ],
          [
           0.3333333333333333,
           19,
           "C.J. Wilcox"
          ],
          [
           0.3709677419354839,
           62,
           "Jabari Brown"
          ],
          [
           0.3587088915956151,
           234.57142857142858,
           "Gary Harris"
          ],
          [
           0.3181818181818182,
           198,
           "Spencer Dinwiddie"
          ],
          [
           0.35325602140945583,
           224.2,
           "Nik Stauskas"
          ],
          [
           0.36748064324002383,
           239.85714285714286,
           "Rodney Hood"
          ],
          [
           0.38461538461538464,
           13,
           "Jordan Adams"
          ],
          [
           0.24074074074074073,
           13.5,
           "Khem Birch"
          ],
          [
           0.26262626262626265,
           49.5,
           "Cleanthony Early"
          ],
          [
           0.37258687258687256,
           74,
           "Glenn Robinson III"
          ],
          [
           0.2773722627737226,
           34.25,
           "James Young"
          ],
          [
           0.34736091298145505,
           200.28571428571428,
           "Jerami Grant"
          ],
          [
           0.43772990015764585,
           271.85714285714283,
           "Joe Harris"
          ],
          [
           0.40728476821192056,
           215.71428571428572,
           "Doug McDermott"
          ],
          [
           0.125,
           8,
           "Cory Jefferson"
          ],
          [
           0.33506044905008636,
           144.75,
           "Sean Kilpatrick"
          ],
          [
           0.3207184092366902,
           222.71428571428572,
           "Aaron Gordon"
          ],
          [
           0.3569364161849711,
           98.85714285714286,
           "T.J. Warren"
          ],
          [
           0.23636363636363636,
           27.5,
           "Lamar Patterson"
          ],
          [
           0.319792158715163,
           302.42857142857144,
           "Marcus Smart"
          ],
          [
           0.3352380952380952,
           75,
           "Kyle Anderson"
          ],
          [
           0.2903225806451613,
           53.142857142857146,
           "Dwight Powell"
          ],
          [
           0.2542372881355932,
           14.75,
           "Adreian Payne"
          ],
          [
           0.3076923076923077,
           42.714285714285715,
           "Noah Vonleh"
          ],
          [
           0.3420229405630866,
           137,
           "Julius Randle"
          ],
          [
           null,
           0,
           "Alex Kirk"
          ],
          [
           0.2,
           2.5,
           "Cameron Bairstow"
          ],
          [
           0.36,
           12.5,
           "Johnny O'Bryant III"
          ],
          [
           0.29411764705882354,
           4.25,
           "James Michael McAdoo"
          ],
          [
           null,
           0,
           "Jarnell Stokes"
          ],
          [
           0,
           3,
           "Keith Appling"
          ],
          [
           0.34119417962870047,
           284.7142857142857,
           "Andrew Wiggins"
          ],
          [
           0.32125984251968503,
           90.71428571428571,
           "Jabari Parker"
          ],
          [
           0.32852386237513875,
           180.2,
           "Joel Embiid"
          ],
          [
           0.30434782608695654,
           11.5,
           "Bryce Cotton"
          ],
          [
           0,
           3,
           "Mitch McGary"
          ],
          [
           0.3053016453382084,
           91.16666666666667,
           "Dante Exum"
          ],
          [
           0.16666666666666666,
           6,
           "Andre Dawkins"
          ],
          [
           0.24793388429752067,
           40.333333333333336,
           "JaKarr Sampson"
          ],
          [
           1,
           0.25,
           "Eric Moreland"
          ],
          [
           0.312,
           41.666666666666664,
           "Josh Huestis"
          ],
          [
           0.125,
           4,
           "Shayne Whittington"
          ],
          [
           0.42857142857142855,
           63,
           "Jamil Wilson"
          ],
          [
           0.3572923935799023,
           286.6,
           "Dario Saric"
          ],
          [
           null,
           0,
           "Jerrelle Benimon"
          ],
          [
           0,
           0.2857142857142857,
           "Clint Capela"
          ],
          [
           0.3884745762711864,
           368.75,
           "Bogdan Bogdanovic"
          ],
          [
           0.2073170731707317,
           11.714285714285714,
           "Jusuf Nurkic"
          ],
          [
           0.23076923076923078,
           13,
           "Damien Inglis"
          ],
          [
           0.30845771144278605,
           28.714285714285715,
           "Bruno Caboclo"
          ],
          [
           0.34703557312252964,
           210.83333333333334,
           "Nikola Jokic"
          ],
          [
           0.36099585062240663,
           289.2,
           "Kristaps Porzingis"
          ],
          [
           null,
           0,
           "Edy Tavares"
          ],
          [
           0.3732394366197183,
           94.66666666666667,
           "Damjan Rudez"
          ],
          [
           0.3596345514950166,
           172,
           "Tyler Johnson"
          ],
          [
           null,
           0,
           "Sim Bhullar"
          ],
          [
           null,
           0,
           "Jack Cooley"
          ],
          [
           0.32216494845360827,
           55.42857142857143,
           "Tim Frazier"
          ],
          [
           0.14285714285714285,
           3.5,
           "Tarik Black"
          ],
          [
           0,
           1,
           "David Wear"
          ],
          [
           0.36363636363636365,
           38.5,
           "Travis Wear"
          ],
          [
           0.3699186991869919,
           246,
           "Langston Galloway"
          ],
          [
           0.21428571428571427,
           14,
           "Zoran Dragic"
          ],
          [
           0.4142678347934919,
           342.42857142857144,
           "Joe Ingles"
          ],
          [
           0.6,
           2.5,
           "David Stockton"
          ],
          [
           0.3055555555555556,
           18,
           "John Holland"
          ],
          [
           0.2923076923076923,
           21.666666666666668,
           "Jarell Eddie"
          ],
          [
           0,
           3,
           "Drew Gordon"
          ],
          [
           0.36,
           12.5,
           "Xavier Munford"
          ],
          [
           0.3333333333333333,
           12,
           "Omari Johnson"
          ],
          [
           0,
           2,
           "Greg Whittington"
          ],
          [
           0.329073482428115,
           52.166666666666664,
           "T.J. McConnell"
          ],
          [
           0.2222222222222222,
           4.5,
           "Jahlil Okafor"
          ],
          [
           0.32280701754385965,
           171,
           "Emmanuel Mudiay"
          ],
          [
           0.3395348837209302,
           107.5,
           "Tyus Jones"
          ],
          [
           null,
           0,
           "Cliff Alexander"
          ],
          [
           0.2962962962962963,
           97.2,
           "Justin Anderson"
          ],
          [
           0.2857142857142857,
           32.666666666666664,
           "Anthony Brown"
          ],
          [
           0.08333333333333333,
           10,
           "Montrezl Harrell"
          ],
          [
           0.29411764705882354,
           107.66666666666667,
           "Andrew Harrison"
          ],
          [
           0.21818181818181817,
           18.333333333333332,
           "Aaron Harrison"
          ],
          [
           0.34992458521870284,
           110.5,
           "Delon Wright"
          ],
          [
           0.29545454545454547,
           22,
           "RJ Hunter"
          ],
          [
           0.28802588996763756,
           77.25,
           "Sam Dekker"
          ],
          [
           0.3600498338870432,
           401.3333333333333,
           "D'Angelo Russell"
          ],
          [
           0.3943573667711599,
           265.8333333333333,
           "Karl-Anthony Towns"
          ],
          [
           0.25153374233128833,
           27.166666666666668,
           "Richaun Holmes"
          ],
          [
           0.3241491085899514,
           102.83333333333333,
           "Justise Winslow"
          ],
          [
           0.16666666666666666,
           5,
           "Willie Cauley-Stein"
          ],
          [
           0.32630906768837803,
           261,
           "Kelly Oubre Jr."
          ],
          [
           0.34804753820033957,
           196.33333333333334,
           "Frank Kaminsky"
          ],
          [
           0.3516143299425033,
           376.8333333333333,
           "Devin Booker"
          ],
          [
           0.37213403880070545,
           94.5,
           "Cameron Payne"
          ],
          [
           0.35181236673773986,
           156.33333333333334,
           "Myles Turner"
          ],
          [
           0.34133611691022964,
           159.66666666666666,
           "Trey Lyles"
          ],
          [
           0.2982456140350877,
           161.5,
           "Stanley Johnson"
          ],
          [
           0.3228200371057514,
           107.8,
           "Jerian Grant"
          ],
          [
           0.37969094922737306,
           151,
           "Bobby Portis"
          ],
          [
           0.17543859649122806,
           9.5,
           "Kevon Looney"
          ],
          [
           0.3132075471698113,
           88.33333333333333,
           "Rashad Vaughn"
          ],
          [
           0.3711340206185567,
           77.6,
           "Christian Wood"
          ],
          [
           0.11764705882352941,
           5.666666666666667,
           "Jordan Mickey"
          ],
          [
           null,
           0,
           "Rakeem Christmas"
          ],
          [
           null,
           0,
           "Dakari Johnson"
          ],
          [
           0.21153846153846154,
           34.666666666666664,
           "Rondae Hollis-Jefferson"
          ],
          [
           0.37596699329551314,
           323.1666666666667,
           "Terry Rozier"
          ],
          [
           0.3771996939556236,
           217.83333333333334,
           "Norman Powell"
          ],
          [
           null,
           0,
           "Branden Dawson"
          ],
          [
           0.36054421768707484,
           73.5,
           "Chasson Randle"
          ],
          [
           0.34615384615384615,
           45.5,
           "Jarell Martin"
          ],
          [
           0.40816326530612246,
           88.2,
           "Quinn Cook"
          ],
          [
           0.30612244897959184,
           16.333333333333332,
           "Chris McCullough"
          ],
          [
           0.352549889135255,
           150.33333333333334,
           "Pat Connaughton"
          ],
          [
           0.30612244897959184,
           19.6,
           "Willy Hernangomez"
          ],
          [
           0.35792019347037485,
           275.6666666666667,
           "Josh Richardson"
          ],
          [
           0.30392156862745096,
           34,
           "Darrun Hilliard"
          ],
          [
           0.2962962962962963,
           45,
           "Joe Young"
          ],
          [
           0.3333333333333333,
           90,
           "Treveon Graham"
          ],
          [
           0.3333333333333333,
           71.5,
           "Larry Nance Jr."
          ],
          [
           null,
           0,
           "Vincent Hunter"
          ],
          [
           0.31932773109243695,
           166.6,
           "Mario Hezonja"
          ],
          [
           0,
           0.5,
           "Alan Williams"
          ],
          [
           0.375,
           32,
           "Bryce Dejean-Jones"
          ],
          [
           0.3786764705882353,
           204,
           "Royce O'Neale"
          ],
          [
           0.3471971066907776,
           276.5,
           "Cedi Osman"
          ],
          [
           0.1111111111111111,
           4.5,
           "Luis Montero"
          ],
          [
           0,
           2.3333333333333335,
           "Cristiano Felicio"
          ],
          [
           0.2571428571428571,
           5.833333333333333,
           "Boban Marjanovic"
          ],
          [
           0.4,
           5,
           "Duje Dukan"
          ],
          [
           0.32608695652173914,
           15.333333333333334,
           "Axel Toupane"
          ],
          [
           0.14285714285714285,
           7,
           "Maurice Ndour"
          ],
          [
           0.2926829268292683,
           10.25,
           "Salah Mejri"
          ],
          [
           0.40625,
           21.333333333333332,
           "Malcolm Miller"
          ],
          [
           1,
           2,
           "Coty Clarke"
          ],
          [
           null,
           0,
           "JJ O'Brien"
          ],
          [
           0.25,
           40,
           "Marcelo Huertas"
          ],
          [
           1,
           1,
           "Jordan Sibert"
          ],
          [
           0,
           1,
           "Jacob Pullen"
          ],
          [
           0.3684210526315789,
           28.5,
           "Jonathan Gibson"
          ],
          [
           0.3076923076923077,
           117,
           "Malcolm Delaney"
          ],
          [
           0.5,
           3,
           "Walt Lemon Jr."
          ],
          [
           null,
           0,
           "Alex Stepheson"
          ],
          [
           0.19230769230769232,
           8.666666666666666,
           "Briante Weber"
          ],
          [
           0.20833333333333334,
           24,
           "Julian Washburn"
          ],
          [
           0.14705882352941177,
           8.5,
           "Ben Simmons"
          ],
          [
           0.32275132275132273,
           141.75,
           "Dragan Bender"
          ],
          [
           0.3212669683257919,
           88.4,
           "Domantas Sabonis"
          ],
          [
           0.25,
           12,
           "Wade Baldwin IV"
          ],
          [
           0.39118705035971224,
           222.4,
           "Malik Beasley"
          ],
          [
           0.28867924528301886,
           106,
           "Marquese Chriss"
          ],
          [
           0,
           0.3333333333333333,
           "Deyonta Davis"
          ],
          [
           0.30455635491606714,
           83.4,
           "Kris Dunn"
          ],
          [
           0.3356164383561644,
           29.2,
           "Henry Ellenson"
          ],
          [
           0.40569020021074814,
           569.4,
           "Buddy Hield"
          ],
          [
           0.36681222707423583,
           229,
           "Brandon Ingram"
          ],
          [
           0.2857142857142857,
           4.666666666666667,
           "Demetrius Jackson"
          ],
          [
           0,
           0.5,
           "Brice Johnson"
          ],
          [
           0.21428571428571427,
           2.8,
           "Damian Jones"
          ],
          [
           0.35294117647058826,
           21.25,
           "Skal Labissiere"
          ],
          [
           0.3355325164938737,
           212.2,
           "Caris LeVert"
          ],
          [
           0.327455919395466,
           79.4,
           "Thon Maker"
          ],
          [
           0.33242506811989103,
           91.75,
           "Dejounte Murray"
          ],
          [
           0.3669574700109051,
           366.8,
           "Jamal Murray"
          ],
          [
           0.5,
           0.4,
           "Jakob Poeltl"
          ],
          [
           0.3698630136986301,
           292,
           "Taurean Prince"
          ],
          [
           0.10526315789473684,
           9.5,
           "Zhou Qi"
          ],
          [
           null,
           0,
           "Diamond Stone"
          ],
          [
           0.28,
           75,
           "Tyler Ulis"
          ],
          [
           0.3573667711598746,
           239.25,
           "Denzel Valentine"
          ],
          [
           null,
           0,
           "Stephen Zimmerman"
          ],
          [
           0.26515151515151514,
           44,
           "Ron Baker"
          ],
          [
           0.3781569965870307,
           293,
           "Jaylen Brown"
          ],
          [
           0.26843657817109146,
           67.8,
           "DeAndre' Bembry"
          ],
          [
           0.2,
           2.5,
           "Joel Bolomboy"
          ],
          [
           0.3860232945091514,
           240.4,
           "Malcolm Brogdon"
          ],
          [
           0.2857142857142857,
           1.75,
           "Cheick Diallo"
          ],
          [
           0.2682926829268293,
           20.5,
           "Kay Felder"
          ],
          [
           0,
           4,
           "Michael Gbinije"
          ],
          [
           0.35714285714285715,
           14,
           "Daniel Hamilton"
          ],
          [
           0.5,
           10,
           "AJ Hammons"
          ],
          [
           0.30597014925373134,
           80.4,
           "Jake Layman"
          ],
          [
           0.304635761589404,
           60.4,
           "Patrick McCaw"
          ],
          [
           0.4043887147335423,
           127.6,
           "Georges Niang"
          ],
          [
           null,
           0,
           "Chinanu Onuaku"
          ],
          [
           0.25,
           8,
           "Marcus Paige"
          ],
          [
           0.26744186046511625,
           17.2,
           "Gary Payton II"
          ],
          [
           0.3010752688172043,
           31,
           "Malachi Richardson"
          ],
          [
           0.3425925925925926,
           108,
           "Wayne Selden"
          ],
          [
           0.32468879668049794,
           192.8,
           "Pascal Siakam"
          ],
          [
           0.3333333333333333,
           9,
           "Jarrod Uthoff"
          ],
          [
           0.30538922155688625,
           83.5,
           "Isaiah Whitehead"
          ],
          [
           0.2986111111111111,
           48,
           "Troy Williams"
          ],
          [
           0.3076923076923077,
           13,
           "Kyle Wiltjer"
          ],
          [
           0.37659033078880405,
           196.5,
           "Furkan Korkmaz"
          ],
          [
           0.33093525179856115,
           166.8,
           "Timothe Luwawu-Cabarrot"
          ],
          [
           null,
           0,
           "Ante Zizic"
          ],
          [
           0,
           1,
           "Ben Bentil"
          ],
          [
           0.36536030341340076,
           158.2,
           "Yogi Ferrell"
          ],
          [
           0.36363636363636365,
           140.25,
           "Damion Lee"
          ],
          [
           0.23333333333333334,
           30,
           "Sheldon Mac"
          ],
          [
           0.3584905660377358,
           17.666666666666668,
           "Alex Poythress"
          ],
          [
           0.3333333333333333,
           7.5,
           "Tim Quarterman"
          ],
          [
           0.24390243902439024,
           41,
           "Isaiah Taylor"
          ],
          [
           0.20270270270270271,
           24.666666666666668,
           "Tyrone Wallace"
          ],
          [
           0.21052631578947367,
           19,
           "James Webb III"
          ],
          [
           0.35101404056162244,
           128.2,
           "Juancho Hernangomez"
          ],
          [
           0.3230769230769231,
           32.5,
           "Guerschon Yabusele"
          ],
          [
           0.1,
           2,
           "Ivica Zubac"
          ],
          [
           0.34735899731423453,
           223.4,
           "Dorian Finney-Smith"
          ],
          [
           0.38370473537604455,
           287.2,
           "Fred VanVleet"
          ],
          [
           0,
           1,
           "Georgios Papagiannis"
          ],
          [
           0.3349282296650718,
           104.5,
           "Paul Zipser"
          ],
          [
           0.3601190476190476,
           84,
           "Abdel Nader"
          ],
          [
           0.3684210526315789,
           19,
           "Shawn Long"
          ],
          [
           null,
           0,
           "Daniel Ochefu"
          ],
          [
           null,
           0,
           "Marshall Plumlee"
          ],
          [
           0.32142857142857145,
           84,
           "Mindaugas Kuzminskas"
          ],
          [
           0.29896907216494845,
           48.5,
           "Nicolas Brussino"
          ],
          [
           0.3730684326710817,
           113.25,
           "Ryan Arcidiacono"
          ],
          [
           0.4124293785310734,
           283.2,
           "Bryn Forbes"
          ],
          [
           0.3404255319148936,
           15.666666666666666,
           "Okaro White"
          ],
          [
           null,
           0,
           "Matt Costello"
          ],
          [
           0.23529411764705882,
           17,
           "Kyle Collinsworth"
          ],
          [
           null,
           0,
           "Mike Tobey"
          ],
          [
           0.36412315930388217,
           149.4,
           "Danuel House Jr."
          ],
          [
           null,
           0,
           "Jameel Warney"
          ],
          [
           0,
           5,
           "Patricio Garino"
          ],
          [
           0.29411764705882354,
           8.5,
           "Marcus Georges-Hunt"
          ],
          [
           0.37037037037037035,
           27,
           "Nicolas Laprovittola"
          ],
          [
           0.37037037037037035,
           27,
           "Jalen Jones"
          ],
          [
           0.29381443298969073,
           77.6,
           "Derrick Jones Jr."
          ],
          [
           0.2832369942196532,
           43.25,
           "Shaquille Harrison"
          ],
          [
           0.37714285714285717,
           87.5,
           "Alex Caruso"
          ],
          [
           0.23076923076923078,
           6.5,
           "Josh Gray"
          ],
          [
           0.3275862068965517,
           58,
           "Myke Henry"
          ],
          [
           0.32286995515695066,
           44.6,
           "David Nwaba"
          ],
          [
           0.3246753246753247,
           57.75,
           "Alfonzo McKinnie"
          ],
          [
           0.5,
           8,
           "Jordan Loyd"
          ],
          [
           0,
           2,
           "Mitchell Creek"
          ],
          [
           0.26506024096385544,
           41.5,
           "Markelle Fultz"
          ],
          [
           0.3532410779315368,
           343.25,
           "Lonzo Ball"
          ],
          [
           0.29831387808041504,
           192.75,
           "Josh Jackson"
          ],
          [
           0.3258426966292135,
           222.5,
           "De'Aaron Fox"
          ],
          [
           0.39615129396151294,
           376.75,
           "Jayson Tatum"
          ],
          [
           0.33872598584428715,
           247.25,
           "Malik Monk"
          ],
          [
           0.33004926108374383,
           135.33333333333334,
           "Jonathan Isaac"
          ],
          [
           0.3156297420333839,
           164.75,
           "Dennis Smith Jr."
          ],
          [
           0.3282275711159737,
           114.25,
           "Frank Ntilikina"
          ],
          [
           0.3662704309063893,
           336.5,
           "Lauri Markkanen"
          ],
          [
           0.3624563155267099,
           500.75,
           "Donovan Mitchell"
          ],
          [
           0.4133180252583238,
           217.75,
           "Luke Kennard"
          ],
          [
           0.3241106719367589,
           84.33333333333333,
           "Zach Collins"
          ],
          [
           0.38035714285714284,
           140,
           "John Collins"
          ],
          [
           0.3211267605633803,
           177.5,
           "Justin Jackson"
          ],
          [
           0.25,
           10,
           "Justin Patton"
          ],
          [
           0.375,
           222,
           "OG Anunoby"
          ],
          [
           0.25806451612903225,
           10.333333333333334,
           "Harry Giles III"
          ],
          [
           0.2,
           21.25,
           "Jarrett Allen"
          ],
          [
           null,
           0,
           "Ike Anigbogu"
          ],
          [
           0.1590909090909091,
           11,
           "Bam Adebayo"
          ],
          [
           0.3344768439108062,
           145.75,
           "Terrance Ferguson"
          ],
          [
           0.3287671232876712,
           73,
           "D.J. Wilson"
          ],
          [
           0.23529411764705882,
           5.666666666666667,
           "Isaiah Hartenstein"
          ],
          [
           0.2631578947368421,
           28.5,
           "Jawun Evans"
          ],
          [
           0,
           2,
           "Anzejs Pasecniks"
          ],
          [
           0.2,
           5,
           "Jordan Bell"
          ],
          [
           0.42857142857142855,
           1.75,
           "Tony Bradley"
          ],
          [
           0.2,
           7.5,
           "Ivan Rabb"
          ],
          [
           0.33819628647214856,
           377,
           "Kyle Kuzma"
          ],
          [
           0.4,
           5,
           "Tyler Lydon"
          ],
          [
           0.3486973947895792,
           124.75,
           "Semi Ojeleye"
          ],
          [
           0.3566775244299674,
           153.5,
           "Derrick White"
          ],
          [
           0.34773218142548595,
           154.33333333333334,
           "Frank Jackson"
          ],
          [
           0.11764705882352941,
           5.666666666666667,
           "Caleb Swanigan"
          ],
          [
           0.3477406679764244,
           254.5,
           "Josh Hart"
          ],
          [
           0.2,
           3.3333333333333335,
           "Johnathan Motley"
          ],
          [
           0.31435643564356436,
           101,
           "Dwayne Bacon"
          ],
          [
           0.3103448275862069,
           58,
           "Alec Peters"
          ],
          [
           0.3333333333333333,
           42,
           "Edmond Sumner"
          ],
          [
           0.2862903225806452,
           62,
           "Wes Iwundu"
          ],
          [
           0.30113636363636365,
           44,
           "Frank Mason III"
          ],
          [
           0.34,
           50,
           "Jonah Bolden"
          ],
          [
           0.33980582524271846,
           25.75,
           "Sindarius Thornwell"
          ],
          [
           0.3532658693652254,
           271.75,
           "Dillon Brooks"
          ],
          [
           0.3504531722054381,
           165.5,
           "Tyler Dorsey"
          ],
          [
           0.2564102564102564,
           39,
           "Jaron Blossomgame"
          ],
          [
           0.36199095022624433,
           55.25,
           "Thomas Bryant"
          ],
          [
           0.3076923076923077,
           13,
           "Cameron Oliver"
          ],
          [
           0.39325842696629215,
           133.5,
           "Monte Morris"
          ],
          [
           0,
           1,
           "Devin Robinson"
          ],
          [
           0.34562841530054644,
           183,
           "Damyean Dotson"
          ],
          [
           0.28205128205128205,
           19.5,
           "Kobi Simmons"
          ],
          [
           0.3735144312393888,
           147.25,
           "Sterling Brown"
          ],
          [
           0.2564102564102564,
           19.5,
           "Vlatko Cancar"
          ],
          [
           0.125,
           8,
           "Charles Cooke"
          ],
          [
           0.2857142857142857,
           7,
           "Nigel Williams-Goss"
          ],
          [
           0.30952380952380953,
           21,
           "Davon Reed"
          ],
          [
           0.32801822323462415,
           109.75,
           "Luke Kornet"
          ],
          [
           0.2222222222222222,
           4.5,
           "Isaiah Hicks"
          ],
          [
           0.3492063492063492,
           21,
           "Kadeem Allen"
          ],
          [
           0.42857142857142855,
           7,
           "Jabari Bird"
          ],
          [
           0.35805626598465473,
           97.75,
           "Chris Boucher"
          ],
          [
           null,
           0,
           "Eric Mika"
          ],
          [
           0.5,
           2,
           "Jacob Wiley"
          ],
          [
           0.2868217054263566,
           64.5,
           "Mike James"
          ],
          [
           0.3783783783783784,
           129.5,
           "Milos Teodosic"
          ],
          [
           0.35106382978723405,
           47,
           "Tyler Cavanaugh"
          ],
          [
           0.3351206434316354,
           93.25,
           "Daniel Theis"
          ],
          [
           0.36830102622576966,
           219.25,
           "Maxi Kleber"
          ],
          [
           0.35664335664335667,
           71.5,
           "Antonio Blakeney"
          ],
          [
           0.3306122448979592,
           122.5,
           "Torrey Craig"
          ],
          [
           0.2,
           5,
           "Matt Williams Jr."
          ],
          [
           0.4146341463414634,
           20.5,
           "Derrick Walton Jr."
          ],
          [
           0.4,
           15,
           "Gian Clavell"
          ],
          [
           null,
           0,
           "Mangok Mathiang"
          ],
          [
           0.17391304347826086,
           23,
           "Milton Doyle"
          ],
          [
           0.42857142857142855,
           3.5,
           "Antonius Cleveland"
          ],
          [
           null,
           0,
           "Ben Moore"
          ],
          [
           0.25,
           16,
           "Nigel Hayes"
          ],
          [
           0.27586206896551724,
           29,
           "Jamel Artis"
          ],
          [
           0.07142857142857142,
           14,
           "Xavier Rathan-Mayes"
          ],
          [
           0.6666666666666666,
           3,
           "Troy Caupain"
          ],
          [
           0,
           3,
           "London Perrantes"
          ],
          [
           0.3673469387755102,
           49,
           "Andrew White III"
          ],
          [
           0.20833333333333334,
           8,
           "Naz Mitrou-Long"
          ],
          [
           0.3235294117647059,
           34,
           "Isaiah Briscoe"
          ],
          [
           null,
           0,
           "Amile Jefferson"
          ],
          [
           0.23076923076923078,
           6.5,
           "Jaylen Morris"
          ],
          [
           0.37969924812030076,
           133,
           "Mychal Mulder"
          ],
          [
           0,
           1,
           "Erik McCree"
          ],
          [
           null,
           0,
           "Amida Brimah"
          ],
          [
           0.25,
           4,
           "Dusty Hannahs"
          ],
          [
           0,
           8,
           "Billy Garrett"
          ],
          [
           0.25,
           52,
           "Rodney Purvis"
          ],
          [
           0,
           1,
           "Tahjere McCall"
          ],
          [
           0.4473684210526316,
           38,
           "Paul Watson"
          ],
          [
           0.25,
           4,
           "Aaron Jackson"
          ],
          [
           0.25,
           12,
           "Rawle Alkins"
          ],
          [
           0.38132295719844356,
           171.33333333333334,
           "Grayson Allen"
          ],
          [
           null,
           0,
           "Kostas Antetokounmpo"
          ],
          [
           null,
           0,
           "Udoka Azubuike"
          ],
          [
           0.3141592920353982,
           75.33333333333333,
           "Marvin Bagley III"
          ],
          [
           0.3254237288135593,
           98.33333333333333,
           "Mo Bamba"
          ],
          [
           0.3023255813953488,
           57.333333333333336,
           "Keita Bates-Diop"
          ],
          [
           0,
           1.5,
           "Brian Bowen II"
          ],
          [
           0.3759124087591241,
           274,
           "Mikal Bridges"
          ],
          [
           0.35443037974683544,
           263.3333333333333,
           "Miles Bridges"
          ],
          [
           0.29838709677419356,
           82.66666666666667,
           "Bruce Brown"
          ],
          [
           0.330188679245283,
           106,
           "Troy Brown Jr."
          ],
          [
           0.37325349301397204,
           167,
           "Jalen Brunson"
          ],
          [
           0.38095238095238093,
           133,
           "Jevon Carter"
          ],
          [
           0.24107142857142858,
           37.333333333333336,
           "Wendell Carter Jr."
          ],
          [
           0.294478527607362,
           54.333333333333336,
           "Hamidou Diallo"
          ],
          [
           0.34911242603550297,
           225.33333333333334,
           "Donte DiVincenzo"
          ],
          [
           1,
           1,
           "Trevon Duval"
          ],
          [
           0.3148148148148148,
           27,
           "Jacob Evans"
          ],
          [
           0.1282051282051282,
           19.5,
           "Bruno Fernando"
          ],
          [
           0.36363636363636365,
           11,
           "Melvin Frazier Jr."
          ],
          [
           0.3732142857142857,
           186.66666666666666,
           "Shai Gilgeous-Alexander"
          ],
          [
           0.3643279797125951,
           394.3333333333333,
           "Devonte' Graham"
          ],
          [
           0.23529411764705882,
           17,
           "Devon Hall"
          ],
          [
           0.15,
           20,
           "Kevin Hervey"
          ],
          [
           0.37169811320754714,
           176.66666666666666,
           "Aaron Holiday"
          ],
          [
           0.37558247903075487,
           357.6666666666667,
           "Kevin Huerter"
          ],
          [
           0.3090909090909091,
           36.666666666666664,
           "Chandler Hutchison"
          ],
          [
           0.3736842105263158,
           190,
           "Jaren Jackson Jr."
          ],
          [
           0.3125,
           5.333333333333333,
           "Alize Johnson"
          ],
          [
           null,
           0,
           "George King"
          ],
          [
           0.3450920245398773,
           217.33333333333334,
           "Kevin Knox II"
          ],
          [
           0.3148148148148148,
           81,
           "Caleb Martin"
          ],
          [
           0.2518518518518518,
           67.5,
           "Cody Martin"
          ],
          [
           0,
           1,
           "Yante Maten"
          ],
          [
           0.34977578475336324,
           148.66666666666666,
           "De'Anthony Melton"
          ],
          [
           0.3170731707317073,
           13.666666666666666,
           "Chimezie Metu"
          ],
          [
           0.3743455497382199,
           127.33333333333333,
           "Shake Milton"
          ],
          [
           0.36191860465116277,
           229.33333333333334,
           "Svi Mykhailiuk"
          ],
          [
           0,
           1,
           "Malik Newman"
          ],
          [
           0.27253668763102723,
           159,
           "Josh Okogie"
          ],
          [
           0.375,
           8,
           "Jontay Porter"
          ],
          [
           0.43856332703213613,
           264.5,
           "Michael Porter Jr."
          ],
          [
           0.30952380952380953,
           84,
           "Jerome Robinson"
          ],
          [
           null,
           0,
           "Mitchell Robinson"
          ],
          [
           0.3852760736196319,
           271.6666666666667,
           "Collin Sexton"
          ],
          [
           0.39707317073170734,
           341.6666666666667,
           "Landry Shamet"
          ],
          [
           0.3817504655493482,
           179,
           "Anfernee Simons"
          ],
          [
           0.3157894736842105,
           9.5,
           "Zhaire Smith"
          ],
          [
           0.36554621848739494,
           119,
           "Omari Spellman"
          ],
          [
           0.3157894736842105,
           25.333333333333332,
           "Khyri Thomas"
          ],
          [
           0.39275766016713093,
           239.33333333333334,
           "Gary Trent Jr."
          ],
          [
           0.3837837837837838,
           92.5,
           "Allonzo Trier"
          ],
          [
           0.14285714285714285,
           2.3333333333333335,
           "Jarred Vanderbilt"
          ],
          [
           0.31451612903225806,
           82.66666666666667,
           "Moritz Wagner"
          ],
          [
           0.3686868686868687,
           132,
           "Lonnie Walker IV"
          ],
          [
           0.38076923076923075,
           260,
           "P.J. Washington"
          ],
          [
           0.34864864864864864,
           123.33333333333333,
           "Kenrich Williams"
          ],
          [
           0.34346924671734624,
           482.3333333333333,
           "Trae Young"
          ],
          [
           0.1891891891891892,
           12.333333333333334,
           "Deandre Ayton"
          ],
          [
           0.3312538989394885,
           534.3333333333334,
           "Luka Doncic"
          ],
          [
           0.20149253731343283,
           44.666666666666664,
           "Theo Pinson"
          ],
          [
           0,
           2,
           "Ray Spalding"
          ],
          [
           0.302158273381295,
           69.5,
           "Carsen Edwards"
          ],
          [
           0.5,
           2,
           "Shamorie Ponds"
          ],
          [
           0.23809523809523808,
           21,
           "Bonzie Colson"
          ],
          [
           0.23140495867768596,
           60.5,
           "Goga Bitadze"
          ],
          [
           0.3870967741935484,
           46.5,
           "Oshae Brissett"
          ],
          [
           0.25,
           4,
           "Vincent Edwards"
          ],
          [
           0,
           2,
           "Donte Grantham"
          ],
          [
           0.37721021611001965,
           254.5,
           "Terence Davis"
          ],
          [
           0,
           0.6666666666666666,
           "Robert Williams III"
          ],
          [
           0.22727272727272727,
           44,
           "Dzanan Musa"
          ],
          [
           0.31527093596059114,
           101.5,
           "Elie Okobo"
          ],
          [
           0.3125,
           112,
           "Rui Hachimura"
          ],
          [
           0.2608695652173913,
           23,
           "Deng Adel"
          ],
          [
           0.308411214953271,
           107,
           "Ky Bowman"
          ],
          [
           0.3288135593220339,
           98.33333333333333,
           "Rodions Kurucs"
          ],
          [
           0.30158730158730157,
           42,
           "Isaac Bonga"
          ],
          [
           0.5,
           1,
           "Tyler Cook"
          ],
          [
           0.2,
           5,
           "Elijah Bryant"
          ],
          [
           null,
           0,
           "Tyler Davis"
          ],
          [
           0.5,
           20,
           "Marcus Derrickson"
          ],
          [
           0.3793103448275862,
           29,
           "Brandon Sampson"
          ],
          [
           0.3141025641025641,
           78,
           "Kelan Martin"
          ],
          [
           0.31092436974789917,
           119,
           "Gary Clark"
          ],
          [
           null,
           0,
           "Angel Delgado"
          ],
          [
           0.36538461538461536,
           26,
           "Wenyen Gabriel"
          ],
          [
           0.42857142857142855,
           7,
           "Thomas Welsh"
          ],
          [
           0.32894736842105265,
           38,
           "Jaylen Adams"
          ],
          [
           0,
           2,
           "J.P. Macura"
          ],
          [
           0.23529411764705882,
           17,
           "Jared Terrell"
          ],
          [
           0.225,
           40,
           "Deonte Burton"
          ],
          [
           0.4226475279106858,
           418,
           "Duncan Robinson"
          ],
          [
           0.46153846153846156,
           6.5,
           "Daryl Macon"
          ],
          [
           0.36427566807313644,
           355.5,
           "Kendrick Nunn"
          ],
          [
           0.35964912280701755,
           38,
           "Yuta Watanabe"
          ],
          [
           0,
           2,
           "Johnathan Williams"
          ],
          [
           0,
           2,
           "Joe Chealey"
          ],
          [
           null,
           0,
           "Emanuel Terry"
          ],
          [
           0.4027777777777778,
           72,
           "Ryan Broekhoff"
          ],
          [
           0,
           4,
           "DeVaughn Akoon-Purcell"
          ],
          [
           0,
           1,
           "Zach Lofton"
          ],
          [
           0.36904761904761907,
           84,
           "Jordan McLaughlin"
          ],
          [
           0.30612244897959184,
           65.33333333333333,
           "Brandon Goodwin"
          ],
          [
           0.375,
           8,
           "BJ Johnson"
          ],
          [
           0.35294117647058826,
           39.666666666666664,
           "Chris Chiozza"
          ],
          [
           0.2,
           10,
           "Jemerrio Jones"
          ],
          [
           0.29545454545454547,
           88,
           "Gabe Vincent"
          ],
          [
           1,
           1,
           "Drew Eubanks"
          ],
          [
           0.38095238095238093,
           31.5,
           "Cameron Reynolds"
          ],
          [
           0.391304347826087,
           57.5,
           "Juan Toscano-Anderson"
          ],
          [
           0.2,
           5,
           "Haywood Highsmith"
          ],
          [
           0.30434782608695654,
           11.5,
           "Alen Smailagic"
          ],
          [
           0.2727272727272727,
           11,
           "Isaac Humphries"
          ],
          [
           0.29411764705882354,
           34,
           "Dairis Bertans"
          ],
          [
           0,
           1,
           "Zylan Cheatham"
          ],
          [
           0.34579439252336447,
           107,
           "Chris Clemons"
          ],
          [
           0.38666666666666666,
           37.5,
           "Amir Coffey"
          ],
          [
           0.125,
           8,
           "Mamadi Diakite"
          ],
          [
           0.20588235294117646,
           34,
           "CJ Elleby"
          ],
          [
           null,
           0,
           "Tacko Fall"
          ],
          [
           0.3333333333333333,
           15,
           "Robert Franks"
          ],
          [
           0,
           1.5,
           "Jared Harper"
          ],
          [
           0.5,
           2,
           "Dewan Hernandez"
          ],
          [
           0.29411764705882354,
           42.5,
           "DaQuan Jeffries"
          ],
          [
           0.40540540540540543,
           55.5,
           "Terance Mann"
          ],
          [
           0.19047619047619047,
           21,
           "Reggie Perry"
          ],
          [
           0.3684210526315789,
           9.5,
           "Justin Robinson"
          ],
          [
           0.3333333333333333,
           6,
           "Marial Shayok"
          ],
          [
           0.33557046979865773,
           74.5,
           "Max Strus"
          ],
          [
           0.2,
           10,
           "Justin Wright-Foreman"
          ],
          [
           0.3939393939393939,
           16.5,
           "Bol Bol"
          ],
          [
           0.3333333333333333,
           24,
           "Zion Williamson"
          ],
          [
           0.3695652173913043,
           253,
           "RJ Barrett"
          ],
          [
           0.30851063829787234,
           188,
           "Cam Reddish"
          ],
          [
           0.31666666666666665,
           210,
           "Ja Morant"
          ],
          [
           0.3483709273182957,
           199.5,
           "De'Andre Hunter"
          ],
          [
           0.3566265060240964,
           415,
           "Coby White"
          ],
          [
           0.28832116788321166,
           137,
           "Jarrett Culver"
          ],
          [
           0.3049645390070922,
           70.5,
           "Brandon Clarke"
          ],
          [
           0.2535211267605634,
           106.5,
           "Sekou Doumbouya"
          ],
          [
           0.3736654804270463,
           281,
           "Darius Garland"
          ],
          [
           0.3888888888888889,
           9,
           "Jaxson Hayes"
          ],
          [
           0.3465909090909091,
           176,
           "Nickeil Alexander-Walker"
          ],
          [
           0.37478991596638656,
           297.5,
           "Tyler Herro"
          ],
          [
           0.35960591133004927,
           101.5,
           "Keldon Johnson"
          ],
          [
           0.2222222222222222,
           22.5,
           "Romeo Langford"
          ],
          [
           0.302158273381295,
           69.5,
           "Nassir Little"
          ],
          [
           0.3475177304964539,
           141,
           "Chuma Okeke"
          ],
          [
           0.23529411764705882,
           25.5,
           "KZ Okpala"
          ],
          [
           0.322884012539185,
           159.5,
           "Kevin Porter Jr."
          ],
          [
           0.3091334894613583,
           213.5,
           "Darius Bazley"
          ],
          [
           0.2857142857142857,
           21,
           "Jordan Bone"
          ],
          [
           0.32432432432432434,
           18.5,
           "Ignas Brazdeikis"
          ],
          [
           null,
           0,
           "Moses Brown"
          ],
          [
           0.16666666666666666,
           6,
           "Nic Claxton"
          ],
          [
           0.3325581395348837,
           215,
           "Luguentz Dort"
          ],
          [
           0.14285714285714285,
           7,
           "Devon Dotson"
          ],
          [
           null,
           0,
           "Daniel Gafford"
          ],
          [
           0.2653061224489796,
           24.5,
           "Kyle Guy"
          ],
          [
           0,
           7,
           "Jaylen Hoard"
          ],
          [
           0.2847222222222222,
           72,
           "Talen Horton-Tucker"
          ],
          [
           0.38990825688073394,
           109,
           "Ty Jerome"
          ],
          [
           0.3673805601317957,
           303.5,
           "Cameron Johnson"
          ],
          [
           0.3142857142857143,
           35,
           "Mfiondu Kabengele"
          ],
          [
           0.36363636363636365,
           11,
           "Louis King"
          ],
          [
           0,
           2.5,
           "Jalen Lecque"
          ],
          [
           0.34108527131782945,
           64.5,
           "Jalen McDaniels"
          ],
          [
           0.375,
           8,
           "Zach Norvell Jr."
          ],
          [
           0.30113636363636365,
           88,
           "Jaylen Nowell"
          ],
          [
           0.45161290322580644,
           62,
           "Jordan Nwora"
          ],
          [
           0.34579439252336447,
           53.5,
           "Miye Oni"
          ],
          [
           0.3005464480874317,
           91.5,
           "Eric Paschall"
          ],
          [
           0.31608133086876156,
           270.5,
           "Jordan Poole"
          ],
          [
           0.34317343173431736,
           135.5,
           "Naz Reid"
          ],
          [
           0.29357798165137616,
           54.5,
           "Isaiah Roby"
          ],
          [
           0.29411764705882354,
           25.5,
           "Luka Samanic"
          ],
          [
           0.3114754098360656,
           61,
           "Admiral Schofield"
          ],
          [
           0.33,
           150,
           "Matisse Thybulle"
          ],
          [
           0.30303030303030304,
           33,
           "Killian Tillie"
          ],
          [
           0.3064516129032258,
           31,
           "Tremont Waters"
          ],
          [
           0.18181818181818182,
           5.5,
           "Quinndary Weatherspoon"
          ],
          [
           0.32,
           112.5,
           "Grant Williams"
          ],
          [
           0.33766233766233766,
           77,
           "Dylan Windler"
          ],
          [
           0.35714285714285715,
           28,
           "Deividas Sirvydis"
          ],
          [
           0.28,
           12.5,
           "Adam Mokoka"
          ],
          [
           0.25,
           8,
           "Didi Louzada"
          ],
          [
           0.34328358208955223,
           33.5,
           "Justin James"
          ],
          [
           0.36585365853658536,
           20.5,
           "Jarrell Brantley"
          ],
          [
           null,
           0,
           "Marques Bolden"
          ],
          [
           0.3821656050955414,
           157,
           "Armoni Brooks"
          ],
          [
           null,
           0,
           "Devontae Cacok"
          ],
          [
           0.3939393939393939,
           33,
           "John Konchar"
          ],
          [
           0.14285714285714285,
           7,
           "Vic Law"
          ],
          [
           0.26666666666666666,
           15,
           "Jeremiah Martin"
          ],
          [
           0.38934426229508196,
           122,
           "Garrison Mathews"
          ],
          [
           0,
           2,
           "Josh Reaves"
          ],
          [
           0.20833333333333334,
           12,
           "Rayjon Tucker"
          ],
          [
           0.3686635944700461,
           108.5,
           "Dean Wade"
          ],
          [
           null,
           0,
           "Kyle Alexander"
          ],
          [
           0.25,
           2,
           "Chris Silva"
          ],
          [
           0.3333333333333333,
           1.5,
           "Vincent Poirier"
          ],
          [
           0,
           4,
           "William Howard"
          ],
          [
           0.3161512027491409,
           145.5,
           "Nicolo Melli"
          ],
          [
           0.30120481927710846,
           83,
           "Marko Guduric"
          ],
          [
           0,
           1,
           "Stanton Kidd"
          ],
          [
           null,
           0,
           "Donta Hall"
          ],
          [
           0.4134078212290503,
           89.5,
           "Matt Thomas"
          ],
          [
           0,
           2,
           "Tariq Owens"
          ],
          [
           0.30158730158730157,
           31.5,
           "Javonte Green"
          ],
          [
           0.3076923076923077,
           26,
           "Dakota Mathias"
          ],
          [
           0.3333333333333333,
           10.5,
           "Juwan Morgan"
          ],
          [
           0,
           2,
           "Matt Mooney"
          ],
          [
           0.25,
           8,
           "Keljin Blevins"
          ],
          [
           0.375,
           16,
           "Devin Cannady"
          ],
          [
           0.32884615384615384,
           520,
           "Anthony Edwards"
          ],
          [
           0.3524904214559387,
           261,
           "LaMelo Ball"
          ],
          [
           0.3157894736842105,
           38,
           "James Wiseman"
          ],
          [
           0.2777777777777778,
           72,
           "Killian Hayes"
          ],
          [
           0.31547619047619047,
           168,
           "Deni Avdija"
          ],
          [
           0.3058823529411765,
           85,
           "Obi Toppin"
          ],
          [
           0,
           3,
           "Onyeka Okongwu"
          ],
          [
           0.40878378378378377,
           296,
           "Tyrese Haliburton"
          ],
          [
           0.3466666666666667,
           150,
           "Devin Vassell"
          ],
          [
           0.2897196261682243,
           214,
           "Isaac Okoro"
          ],
          [
           0.391304347826087,
           138,
           "Patrick Williams"
          ],
          [
           0,
           1,
           "Precious Achiuwa"
          ],
          [
           0.37037037037037035,
           108,
           "Aaron Nesmith"
          ],
          [
           0.3372093023255814,
           172,
           "Cole Anthony"
          ],
          [
           0.14285714285714285,
           7,
           "Vernon Carey Jr."
          ],
          [
           0.3354632587859425,
           313,
           "Theo Maledon"
          ],
          [
           0.30097087378640774,
           103,
           "Tyrese Maxey"
          ],
          [
           0,
           7,
           "Tyrell Terry"
          ],
          [
           0.3804347826086957,
           460,
           "Saddiq Bey"
          ],
          [
           0.3103448275862069,
           87,
           "R.J. Hampton"
          ],
          [
           0.16,
           25,
           "Josh Green"
          ],
          [
           0.36363636363636365,
           198,
           "Jaden McDaniels"
          ],
          [
           0.3333333333333333,
           120,
           "Kira Lewis Jr."
          ],
          [
           0.36666666666666664,
           60,
           "Nico Mannion"
          ],
          [
           0.2631578947368421,
           19,
           "Jahmi'us Ramsey"
          ],
          [
           0.2,
           5,
           "Daniel Oturu"
          ],
          [
           0.23529411764705882,
           17,
           "Jalen Smith"
          ],
          [
           0.25,
           4,
           "Tyler Bey"
          ],
          [
           0.34782608695652173,
           23,
           "Elijah Hughes"
          ],
          [
           0.3333333333333333,
           63,
           "Isaiah Stewart"
          ],
          [
           0.4067796610169492,
           59,
           "Zeke Nnaji"
          ],
          [
           0.38943894389438943,
           303,
           "Immanuel Quickley"
          ],
          [
           0,
           6,
           "Paul Reed"
          ],
          [
           0.28019323671497587,
           207,
           "Aleksej Pokusevski"
          ],
          [
           0.36792452830188677,
           106,
           "Isaiah Joe"
          ],
          [
           0.23076923076923078,
           13,
           "Cassius Stanley"
          ],
          [
           0.6,
           5,
           "Tre Jones"
          ],
          [
           0.32142857142857145,
           168,
           "Malachi Flynn"
          ],
          [
           0.4112903225806452,
           248,
           "Payton Pritchard"
          ],
          [
           0.5,
           4,
           "Grant Riller"
          ],
          [
           null,
           0,
           "Ashton Hagans"
          ],
          [
           0.16,
           25,
           "Lamar Stevens"
          ],
          [
           0.2222222222222222,
           9,
           "Jay Scrubb"
          ],
          [
           0.21052631578947367,
           19,
           "Nate Hinton"
          ],
          [
           0,
           1,
           "Nick Richards"
          ],
          [
           0.27692307692307694,
           65,
           "Markus Howard"
          ],
          [
           0.5,
           2,
           "Karim Mane"
          ],
          [
           0.47058823529411764,
           17,
           "Cassius Winston"
          ],
          [
           0.4317343173431734,
           271,
           "Desmond Bane"
          ],
          [
           0.16666666666666666,
           6,
           "Robert Woodard II"
          ],
          [
           0.35,
           40,
           "Skylar Mays"
          ],
          [
           0.10810810810810811,
           37,
           "Josh Hall"
          ],
          [
           0.36363636363636365,
           66,
           "Mason Jones"
          ],
          [
           0.4722222222222222,
           36,
           "Jalen Harris"
          ],
          [
           0.3493975903614458,
           83,
           "Naji Marshall"
          ],
          [
           0.3645833333333333,
           96,
           "Kenyon Martin Jr."
          ],
          [
           0.18181818181818182,
           33,
           "Nathan Knight"
          ],
          [
           0.2222222222222222,
           9,
           "Ty-Shon Alexander"
          ],
          [
           0.19230769230769232,
           26,
           "Trent Forrest"
          ],
          [
           0.323943661971831,
           71,
           "Anthony Lamb"
          ],
          [
           0.5,
           2,
           "Malik Fitts"
          ],
          [
           0.34782608695652173,
           23,
           "Saben Lee"
          ],
          [
           0.44680851063829785,
           47,
           "Sam Merrill"
          ],
          [
           0.22727272727272727,
           22,
           "Sean McDermott"
          ],
          [
           0.3076923076923077,
           195,
           "Jae'Sean Tate"
          ],
          [
           0.2916666666666667,
           24,
           "Anthony Gill"
          ],
          [
           0,
           1,
           "Will Magnay"
          ],
          [
           0.35185185185185186,
           216,
           "Facundo Campazzo"
          ],
          [
           0.2857142857142857,
           7,
           "Nate Darling"
          ],
          [
           0.2711864406779661,
           59,
           "Brodric Thomas"
          ],
          [
           null,
           0,
           "Freddie Gillespie"
          ],
          [
           0.13333333333333333,
           15,
           "Gabriel Deck"
          ]
         ],
         "hovertemplate": "x=%{x}<br>y=%{y}<br>fg3a=%{customdata[1]}<br>fg3m_pct=%{marker.color}<br>names=%{customdata[2]}<extra></extra>",
         "legendgroup": "",
         "marker": {
          "color": [
           0.3882978723404255,
           0.25,
           0,
           0.4,
           null,
           0.4057112068965517,
           0.336322869955157,
           0.3751160631383473,
           0.14285714285714285,
           0.2,
           0,
           0.2777777777777778,
           0.1,
           null,
           0,
           0,
           0.36666666666666664,
           0.2647058823529412,
           0.2857142857142857,
           0.14814814814814814,
           0.3623693379790941,
           0.3528550512445095,
           null,
           null,
           0.3539518900343643,
           0,
           0.37442396313364057,
           0.125,
           0.2,
           0.32178387650085766,
           0.35355029585798814,
           0.25,
           0,
           0.3909378292939937,
           0.22388059701492538,
           0,
           0.42416107382550333,
           0.2774869109947644,
           0.3581395348837209,
           0,
           0.3046683046683047,
           0.2621951219512195,
           null,
           0.15789473684210525,
           0.35294117647058826,
           0.3333333333333333,
           0.3416867469879518,
           0.37813211845102507,
           null,
           null,
           0.35933333333333334,
           0.43492063492063493,
           0,
           0.3876651982378855,
           0.34130434782608693,
           0.31868131868131866,
           0.367003367003367,
           null,
           0.3474277660324172,
           0.40142729705619984,
           0.33376877857609405,
           0.3085250338294993,
           0.33766233766233766,
           0.3333333333333333,
           0.37135135135135133,
           0.1111111111111111,
           null,
           0.2947976878612717,
           0.24102564102564103,
           0.32786885245901637,
           0,
           0.3616532721010333,
           0.4104803493449782,
           0,
           0.3174451858913251,
           null,
           0,
           0.3564954682779456,
           0.37604245640636846,
           0.3593429158110883,
           0.3606382978723404,
           0,
           0,
           0.3544857768052516,
           0.3333333333333333,
           0.33810888252148996,
           0.24324324324324326,
           0.30467289719626167,
           0.33578792341678937,
           0.4,
           0.3563636363636364,
           null,
           null,
           0.37155963302752293,
           0.18181818181818182,
           0.34615384615384615,
           0.40875912408759124,
           0.43703703703703706,
           0.33816425120772947,
           0.25,
           0.3827993254637437,
           0.30289855072463767,
           0.5714285714285714,
           0.6666666666666666,
           0.37962037962037964,
           0.2,
           0.6,
           0.36009732360097324,
           0.35789473684210527,
           0.4045977011494253,
           0.2647058823529412,
           0,
           0.3230769230769231,
           0.3644067796610169,
           0.4214417744916821,
           0.33116883116883117,
           0.4148550724637681,
           0.3561643835616438,
           null,
           null,
           0.05,
           0.32106038291605304,
           0.33739837398373984,
           0.14285714285714285,
           0.2222222222222222,
           0.3734349482852477,
           0,
           0.1111111111111111,
           0.36363636363636365,
           0.33766233766233766,
           0,
           0.34994582881906827,
           0.38686131386861317,
           null,
           0.3516597510373444,
           0.37445414847161573,
           0,
           0.4005819592628516,
           0.317351598173516,
           0.3652694610778443,
           0.2465753424657534,
           0.32608695652173914,
           0.14285714285714285,
           0,
           0.297029702970297,
           0.043478260869565216,
           0.35807860262008734,
           0.36,
           0.3987012987012987,
           0.0625,
           null,
           null,
           0.15789473684210525,
           0.3584033613445378,
           null,
           0,
           0.34782608695652173,
           null,
           0,
           0,
           0.34832134292565947,
           0.1,
           0.34365325077399383,
           0.3284006829823563,
           0.3948087431693989,
           null,
           null,
           0.2835820895522388,
           0.5,
           0.33530571992110453,
           0.3333333333333333,
           0.25,
           0.3851727982162765,
           0,
           0.20202020202020202,
           0.48214285714285715,
           0.42105263157894735,
           0.24858757062146894,
           0.17647058823529413,
           0.4019253910950662,
           0.4015957446808511,
           0.3364485981308411,
           0.35089209855564996,
           null,
           0.3333333333333333,
           0.2692307692307692,
           0.2857142857142857,
           0.3176605504587156,
           0.29850746268656714,
           0.358974358974359,
           0.28708133971291866,
           0.3604004449388209,
           0.2900763358778626,
           0.5,
           0.3677811550151976,
           0.3952569169960474,
           0.34604651162790695,
           0,
           0.28421052631578947,
           0.3047619047619048,
           0.34851138353765326,
           0.2810344827586207,
           0.24553571428571427,
           0.34509803921568627,
           0.3331314354936402,
           0.3601694915254237,
           0.22142857142857142,
           0.39287782281412853,
           0.14285714285714285,
           0.041666666666666664,
           0.75,
           0,
           0,
           0.2857142857142857,
           0.2753623188405797,
           0.43478260869565216,
           0,
           0.14473684210526316,
           0.26595744680851063,
           0,
           0.28634361233480177,
           0.3230769230769231,
           0.378839590443686,
           0,
           0.1875,
           0.30337078651685395,
           0.06666666666666667,
           null,
           0,
           0.3763250883392226,
           null,
           0.42160919540229885,
           0.34269005847953216,
           0.10714285714285714,
           0.20192307692307693,
           0.32954545454545453,
           0,
           0.35854545454545456,
           0.2702702702702703,
           0.25,
           0.3536053882725832,
           0.40088430361090643,
           0.36056718433490886,
           0.32432432432432434,
           0.125,
           0.39869989165763814,
           0.21739130434782608,
           0,
           null,
           0.3185840707964602,
           0.25,
           0,
           0.07692307692307693,
           0.3684210526315789,
           0.32326530612244897,
           0.4166666666666667,
           0.08333333333333333,
           0.125,
           0.28095238095238095,
           0,
           0,
           0.2727272727272727,
           0,
           0.20408163265306123,
           0.3767313019390582,
           0.4030612244897959,
           0.3453815261044177,
           0.39701173959445035,
           0.3484848484848485,
           0.4043229497774952,
           null,
           0.5,
           0.3852739726027397,
           0.3,
           0.3374233128834356,
           0.3225806451612903,
           0.2376237623762376,
           0.27483443708609273,
           0.2571428571428571,
           0,
           0.3075601374570447,
           0.5,
           0.34498834498834496,
           0.3770979967514889,
           null,
           0.32142857142857145,
           0.31189710610932475,
           0.0975609756097561,
           0.2631578947368421,
           0.20689655172413793,
           0.14634146341463414,
           0.34991708126036486,
           0,
           0.20784313725490197,
           null,
           0.3333333333333333,
           0.1,
           1,
           0,
           0.2887323943661972,
           0.08333333333333333,
           null,
           0.3366179275270184,
           0.15217391304347827,
           0.3739793140990746,
           0.35273425007994885,
           0.21212121212121213,
           0.19047619047619047,
           0.10344827586206896,
           0.2,
           0.125,
           0.386119257086999,
           0.358974358974359,
           0,
           0.31952662721893493,
           null,
           null,
           0.3508771929824561,
           0.4093919325707405,
           0,
           0.3814713896457766,
           0.35,
           0.3393939393939394,
           0.30448717948717946,
           0.2529411764705882,
           0.13157894736842105,
           0.25396825396825395,
           0,
           0.3145009416195857,
           0.42592592592592593,
           0.3307543520309478,
           0.3546581367453019,
           0.3150684931506849,
           0.3744292237442922,
           null,
           0,
           0.24054982817869416,
           0.4280104712041885,
           0,
           0.3333333333333333,
           0.32398753894080995,
           0.16666666666666666,
           0.4,
           0.31993299832495814,
           0,
           0.3490269930947897,
           0.13636363636363635,
           0,
           0.1111111111111111,
           0.047619047619047616,
           0.08333333333333333,
           0.35921463632307005,
           0.3844444444444444,
           0,
           null,
           0.2558139534883721,
           0.32098765432098764,
           0,
           0.30793650793650795,
           0.37485714285714283,
           0.3327217125382263,
           0,
           null,
           null,
           null,
           0.31303576707064734,
           0.20454545454545456,
           0.29672447013487474,
           0.32513123359580054,
           0.4001884506663077,
           0.325046904315197,
           0.06896551724137931,
           0.37758433079434167,
           0.1111111111111111,
           0.125,
           0,
           0.16666666666666666,
           0.42777354658542777,
           0.3430232558139535,
           0.3,
           0.34597875569044007,
           0.2608695652173913,
           0.5,
           0.3735408560311284,
           0.038461538461538464,
           0.3425925925925926,
           0,
           0.25862068965517243,
           0,
           0.16666666666666666,
           0.32831001076426264,
           0.3294266137756942,
           0.4007285974499089,
           0.14736842105263157,
           0.3069306930693069,
           0.5,
           0.3225806451612903,
           0.2857142857142857,
           0,
           0.3333333333333333,
           0.35051546391752575,
           null,
           0.17721518987341772,
           0.3333333333333333,
           0.4,
           0.3741935483870968,
           0.17857142857142858,
           null,
           0.31584362139917693,
           0.32786885245901637,
           0.38095238095238093,
           0.396873120865905,
           0,
           0.35214446952595935,
           0.3333333333333333,
           0.25,
           0.25,
           null,
           0,
           null,
           0.4166666666666667,
           0,
           0,
           0.2891566265060241,
           null,
           0,
           null,
           0.7142857142857143,
           null,
           0.30985915492957744,
           null,
           0.3509991311902693,
           1,
           null,
           0,
           0.3718546132339236,
           null,
           0.2,
           0.424390243902439,
           0,
           0.19047619047619047,
           0.3641325536062378,
           null,
           0,
           1,
           0,
           0.18867924528301888,
           0,
           0.2222222222222222,
           0.13725490196078433,
           0.3594080338266385,
           null,
           0.3333333333333333,
           0.16666666666666666,
           0.29069767441860467,
           0.24324324324324326,
           0.32432432432432434,
           null,
           0,
           null,
           0.6,
           0.1836734693877551,
           0,
           0.6666666666666666,
           0.3050847457627119,
           null,
           0.2,
           0.2911392405063291,
           0.35294117647058826,
           0.06666666666666667,
           0.3333333333333333,
           null,
           null,
           null,
           0.11764705882352941,
           0.6666666666666666,
           null,
           0.3928914505283381,
           0.16666666666666666,
           null,
           0.23333333333333334,
           0.17857142857142858,
           0.3607250755287009,
           0.3873015873015873,
           0.31109185441941073,
           0.16216216216216217,
           0.25,
           0.36872364890762743,
           0,
           0.33802376485303315,
           0.16666666666666666,
           0.23684210526315788,
           0.3399366085578447,
           0.34108937070333156,
           0.15151515151515152,
           0.07692307692307693,
           0.13445378151260504,
           0.39436619718309857,
           0.13793103448275862,
           0,
           null,
           0.4043419267299864,
           0.3409090909090909,
           0.35387776065742166,
           0.2,
           0,
           0.288,
           0.35185185185185186,
           0.09090909090909091,
           0,
           0,
           0.42857142857142855,
           0.16666666666666666,
           null,
           0.45,
           0.22580645161290322,
           0.3617021276595745,
           0.3558413719185423,
           null,
           0.332713260696253,
           0.13953488372093023,
           0,
           0.34615384615384615,
           0.3132530120481928,
           0.3402061855670103,
           0.3465346534653465,
           0.38961038961038963,
           0.3592233009708738,
           0,
           0.2777777777777778,
           null,
           0.3103448275862069,
           null,
           null,
           0,
           null,
           0.3333333333333333,
           0,
           0,
           0.3,
           1,
           null,
           0.36231884057971014,
           0,
           0.3176470588235294,
           0.3390847711927982,
           0.6666666666666666,
           0.19047619047619047,
           0.15384615384615385,
           0.4,
           0.375,
           0,
           null,
           null,
           0.3870967741935484,
           null,
           0.37934483620905224,
           0.3634980988593156,
           0.34561664190193164,
           0.3712710765239948,
           0.16666666666666666,
           0.32716701902748413,
           0.3089622641509434,
           0.38042226487523995,
           0.36846629986244844,
           0.32650073206442165,
           0.125,
           0.05263157894736842,
           0.401673640167364,
           0.3333333333333333,
           0.3712871287128713,
           0.07692307692307693,
           0,
           0.39760554505356016,
           0.1111111111111111,
           0.36121437422552666,
           0.3333333333333333,
           0.39148936170212767,
           0.32653061224489793,
           0.3516918646508279,
           0.36,
           0.13333333333333333,
           0.2893401015228426,
           0,
           0.27586206896551724,
           0.17857142857142858,
           0.38637837837837835,
           null,
           0.3657142857142857,
           0.20833333333333334,
           0,
           null,
           null,
           0.3538188277087034,
           0.25,
           0.37844436693407746,
           0,
           0,
           0.2,
           0.2,
           0,
           1,
           0,
           0.16666666666666666,
           0.19047619047619047,
           0.33379888268156427,
           0.2,
           0.20588235294117646,
           0.4,
           null,
           0.375,
           0.38980944490472247,
           null,
           0.3295081967213115,
           0,
           null,
           null,
           null,
           0.2,
           0.2608695652173913,
           0.3162251655629139,
           0.2857142857142857,
           0.3125,
           0,
           0.2857142857142857,
           0.25,
           0.3333333333333333,
           null,
           0,
           0.34782608695652173,
           0.3333333333333333,
           null,
           0.3240223463687151,
           0.3,
           0.14285714285714285,
           0.09090909090909091,
           0.3414489311163896,
           0.32026929550372685,
           0.3123236124176858,
           0.3400673400673401,
           0.4060564349621473,
           0.3464052287581699,
           0.21734234234234234,
           0.3309623430962343,
           0.37970049916805326,
           0.39631336405529954,
           null,
           0.32354996505939904,
           0.25477707006369427,
           0.339212228101117,
           0.18181818181818182,
           0.3488372093023256,
           0.3333333333333333,
           0.3169164882226981,
           0.12962962962962962,
           0.24380165289256198,
           0.34269662921348315,
           0.309704641350211,
           0.3333333333333333,
           0.3205882352941177,
           0.34893267651888343,
           0.37267080745341613,
           null,
           0.2222222222222222,
           0,
           0.32786885245901637,
           null,
           0.2222222222222222,
           0.38461538461538464,
           0,
           0.23595505617977527,
           null,
           0.36768447837150126,
           0.1875,
           0.1111111111111111,
           0,
           null,
           null,
           0.29959514170040485,
           null,
           0.3686806411837238,
           null,
           null,
           0.25,
           null,
           0.40560033941450996,
           0,
           0,
           0.3413654618473896,
           0.23529411764705882,
           0,
           null,
           0.16666666666666666,
           0.15789473684210525,
           null,
           0.29591836734693877,
           0.23404255319148937,
           0.07407407407407407,
           0.16793893129770993,
           0.19090909090909092,
           0.40664961636828645,
           0.3361963190184049,
           0.23076923076923078,
           0.3481736949365104,
           0,
           0.34925606891151134,
           0,
           null,
           0.33884297520661155,
           0.26666666666666666,
           0.35,
           0.3838570548367221,
           0.25984251968503935,
           0.35492700729927007,
           0,
           0.1926605504587156,
           0.37342709104367133,
           0.1,
           0.3401360544217687,
           0,
           0,
           0,
           0.16666666666666666,
           0.26666666666666666,
           0.0625,
           0.3107344632768362,
           0.34404761904761905,
           0.2894736842105263,
           0.37823834196891193,
           0.3333333333333333,
           0.3333333333333333,
           0.16666666666666666,
           null,
           0.38979007633587787,
           0.25,
           0.0625,
           null,
           0.3798618684114867,
           0.3721286370597244,
           0.125,
           0.31527093596059114,
           0.3333333333333333,
           0.4166666666666667,
           null,
           null,
           0,
           null,
           null,
           0.15384615384615385,
           0.16666666666666666,
           0,
           0.3197969543147208,
           0,
           null,
           0.1875,
           0,
           0.39568345323741005,
           0.3562091503267974,
           0,
           0.2,
           0.1111111111111111,
           0,
           0.3683127572016461,
           1,
           0.37025097858623074,
           0.38414259373079285,
           0.3151595744680851,
           0.16666666666666666,
           0.3137931034482759,
           0.3710373288313637,
           0.27380952380952384,
           0.3782625633034671,
           0.37630913687251716,
           0.3884664131812421,
           0,
           0,
           0.14285714285714285,
           0.20588235294117646,
           0.2729766803840878,
           0,
           0,
           0.29545454545454547,
           0.3333333333333333,
           0.34615384615384615,
           0.3123561013046815,
           0.08333333333333333,
           0.2993966817496229,
           0.3237679351216469,
           0.29838709677419356,
           null,
           0.3789299503585218,
           0.363481228668942,
           null,
           0.30434782608695654,
           0.3177257525083612,
           0.3506662333441664,
           0,
           0.19642857142857142,
           0.3441682600382409,
           0.46153846153846156,
           0.2857142857142857,
           0.37484276729559746,
           0.3236621534493875,
           0.25,
           0.3958115183246073,
           0,
           0.14285714285714285,
           null,
           null,
           0,
           0.21818181818181817,
           null,
           0.36108821104699096,
           0.33827160493827163,
           0,
           0.38461538461538464,
           0,
           0,
           0.31654676258992803,
           0.15789473684210525,
           0.35294117647058826,
           0.22058823529411764,
           0.32075471698113206,
           null,
           0.5,
           0.3333333333333333,
           0.2,
           0.3217821782178218,
           0.376878612716763,
           0.2573099415204678,
           0.23497267759562843,
           0.3205574912891986,
           0.1320754716981132,
           0,
           0.23622047244094488,
           0.34794776119402987,
           0.2525597269624573,
           0,
           0.35,
           0.3534218590398366,
           0.3748558246828143,
           0.3430232558139535,
           0.3405349794238683,
           0,
           0,
           0.3577639751552795,
           0.35714285714285715,
           0.35185185185185186,
           0.3670967741935484,
           0.14285714285714285,
           0.3,
           0.36555891238670696,
           0.3645833333333333,
           0.34095238095238095,
           null,
           0.38347320852162686,
           0.2692307692307692,
           0,
           0.07142857142857142,
           0.3465346534653465,
           0,
           0.3611111111111111,
           0,
           0.303985171455051,
           0.2,
           0.33503923575571476,
           0,
           null,
           0.15789473684210525,
           0.3615079365079365,
           0.2653061224489796,
           0.33948339483394835,
           null,
           null,
           0.3333333333333333,
           0.15384615384615385,
           0.273972602739726,
           null,
           0.35587188612099646,
           null,
           0.36363636363636365,
           0.25,
           0.3448687350835322,
           0.2222222222222222,
           0.33783783783783783,
           null,
           0.35714285714285715,
           0.35580524344569286,
           0.09090909090909091,
           0.2,
           0.34489369118159635,
           0,
           0.35344057193923145,
           0.33516483516483514,
           0.2929562433297759,
           0.041666666666666664,
           0.37540038436899426,
           0.28929384965831434,
           0,
           0.35603996366939145,
           0.3554973821989529,
           0.2079207920792079,
           0.32722513089005234,
           0.34886499402628435,
           0.2692307692307692,
           0,
           0.2727272727272727,
           0.2651162790697674,
           0.34606741573033706,
           0.3292307692307692,
           0.3361641896673744,
           0.2890625,
           0.33692458374143,
           0.3819241982507289,
           0.36530172413793105,
           0,
           0,
           0.3865414710485133,
           0.3323615160349854,
           0.25,
           0.4335863377609108,
           0.32616487455197135,
           0.3,
           0.3827980804724991,
           null,
           null,
           0.34605087014725566,
           0,
           0.35346534653465345,
           0.41445657826313054,
           0.37841577308889657,
           null,
           0.40061951471347446,
           0.42869641294838146,
           0,
           null,
           null,
           0.375,
           0.23462414578587698,
           0.08620689655172414,
           0.3181818181818182,
           0.25,
           null,
           0.0625,
           0.38461538461538464,
           1,
           null,
           0.32857142857142857,
           0.3047619047619048,
           null,
           0.38392857142857145,
           0.2777777777777778,
           0.6666666666666666,
           null,
           0.2822966507177033,
           0.35,
           0.34615384615384615,
           0.375,
           0.1590909090909091,
           0,
           0.4008901061280383,
           0.1780821917808219,
           0.32525410476935107,
           0.3289036544850498,
           0.33198789101917253,
           0.25,
           0.3327073552425665,
           0.3595505617977528,
           0,
           null,
           0.31862312444836716,
           0.2925531914893617,
           0.12121212121212122,
           0.3274021352313167,
           0.28517110266159695,
           0.3727307840865199,
           0.3648728562980485,
           0.3679004467134652,
           null,
           0.2916666666666667,
           0.2647058823529412,
           0.3715415019762846,
           0.28153153153153154,
           0.3843044796227686,
           0.3673328738800827,
           0.348575712143928,
           null,
           0.023255813953488372,
           0,
           null,
           0.24489795918367346,
           0.3076923076923077,
           0,
           0.23529411764705882,
           0.36080178173719374,
           0.3629753914988814,
           0,
           0.3518312985571587,
           0.16129032258064516,
           null,
           null,
           0.1724137931034483,
           0.2236842105263158,
           0.5,
           0,
           0,
           0.5,
           0.37293519695044475,
           0.2692307692307692,
           0,
           null,
           0.25,
           null,
           null,
           0.5,
           0.25,
           0.16666666666666666,
           0.2463768115942029,
           0.3269537480063796,
           null,
           0.24242424242424243,
           0.30392156862745096,
           null,
           0,
           0.12,
           0.3614374568071873,
           0.3713640922768305,
           0.32883043014575186,
           0.382196419932269,
           0.3407900999524036,
           0.3876570583887657,
           0.5,
           0.3574029126213592,
           0.1111111111111111,
           0.25,
           0.23076923076923078,
           0.3682219419924338,
           0.30392156862745096,
           0.3,
           0.3804841149773071,
           0.3605697151424288,
           0.19090909090909092,
           null,
           0.3596452328159645,
           0.3427307904919845,
           0.35709895513214507,
           0.38812392426850256,
           0.15384615384615385,
           0,
           0.33535528596187175,
           0.16,
           null,
           0.034482758620689655,
           0.36622807017543857,
           0.29508196721311475,
           0.20689655172413793,
           0.3584743332377402,
           0.3665421336654213,
           0,
           0.35268817204301073,
           0.3248407643312102,
           0.31375053214133675,
           0.1891891891891892,
           null,
           null,
           null,
           0.35113748763600394,
           0.32432432432432434,
           0.3161764705882353,
           0.2374429223744292,
           0.3493723849372385,
           null,
           0.21153846153846154,
           0.3076923076923077,
           0,
           0.33229813664596275,
           0.15,
           0.32,
           0.5,
           0,
           0.25,
           0.30198019801980197,
           0.3551912568306011,
           0.40707964601769914,
           0.20588235294117646,
           0.16666666666666666,
           null,
           0.23809523809523808,
           0.34371754932502596,
           0.14285714285714285,
           0.2916666666666667,
           null,
           0.3561643835616438,
           null,
           0.27184466019417475,
           0,
           0.18518518518518517,
           0,
           0.3081395348837209,
           0,
           null,
           0.3125,
           0,
           0.3333333333333333,
           null,
           0.3333333333333333,
           0,
           0.4085603112840467,
           0,
           0,
           null,
           0.3438818565400844,
           0.375,
           0.32899628252788105,
           0.35403726708074534,
           0.3207831325301205,
           0.33066666666666666,
           0.23529411764705882,
           0.2222222222222222,
           0.3481081081081081,
           0.3659264169705005,
           0.3498062015503876,
           0,
           null,
           0.4145408163265306,
           0.2857142857142857,
           0.34945504087193463,
           0.2535211267605634,
           null,
           0.338409475465313,
           0.33866995073891626,
           0.2903225806451613,
           0.3119266055045872,
           0.171875,
           0.32253086419753085,
           0.32142857142857145,
           null,
           0.36782766257298166,
           0.33212996389891697,
           0.37395766516998075,
           0.33666666666666667,
           0.25,
           0.2992125984251969,
           0,
           0.34,
           0.4300673148840688,
           0.1111111111111111,
           0,
           0.35911330049261087,
           0.037037037037037035,
           0.3064516129032258,
           null,
           0.32075471698113206,
           null,
           0.4073291050035236,
           0.42105263157894735,
           null,
           0.25,
           0.3432066967160335,
           0,
           0,
           0,
           0,
           0,
           0.375,
           0.2,
           0.3770491803278688,
           0.41379310344827586,
           0,
           0.323943661971831,
           0.3444976076555024,
           0.2,
           0,
           0.3012345679012346,
           0,
           0.21739130434782608,
           0.35150214592274676,
           0.3333333333333333,
           0,
           0.38127090301003347,
           null,
           0.5,
           0,
           null,
           0.15384615384615385,
           null,
           null,
           0.5,
           0.38461538461538464,
           null,
           0.3076923076923077,
           null,
           null,
           0.38390164694966367,
           0.3644008409250175,
           0.3787661406025825,
           0.34022988505747126,
           0.3333333333333333,
           0.2835400225479143,
           0,
           0,
           0.34990253411306044,
           0.23478260869565218,
           0.33111702127659576,
           0.26229508196721313,
           0.2932330827067669,
           0.2996742671009772,
           0.375904486251809,
           0,
           0.3764705882352941,
           0.23076923076923078,
           0.3333333333333333,
           0.3587662337662338,
           0.3929684023141967,
           0.34140625,
           0.36006974716652135,
           0.2916666666666667,
           0.369702434625789,
           0.38639455782312926,
           0.14285714285714285,
           0.29411764705882354,
           0.3,
           0.2833333333333333,
           null,
           0,
           0.18181818181818182,
           null,
           0.3402777777777778,
           0,
           0,
           null,
           0,
           null,
           0.1875,
           0.36006683375104426,
           0,
           null,
           0.18181818181818182,
           0.2,
           0.3161094224924012,
           0.24,
           null,
           0.09090909090909091,
           0.25,
           null,
           0.37292161520190026,
           0.3728448275862069,
           0.3333333333333333,
           null,
           0.2,
           0.2,
           0.15789473684210525,
           0.4166666666666667,
           null,
           0.26666666666666666,
           0.2978723404255319,
           0.325,
           0.34850299401197604,
           0.3734149540883253,
           0.31077844311377245,
           0.3053720195346165,
           0.37015615962984383,
           0.38219895287958117,
           0.3677170709589662,
           0.3404255319148936,
           0.3794089609151573,
           0.3401397098334229,
           0.36107091172214184,
           0.14285714285714285,
           0.4015384615384615,
           0.24096385542168675,
           0.29310344827586204,
           0.3563748079877112,
           0.25,
           0.17543859649122806,
           0,
           0.2857142857142857,
           0.3795474076195932,
           0.38778220451527223,
           0,
           0.3586683417085427,
           0.3601380042462845,
           0.384257464133385,
           0.35152838427947597,
           0.3044280442804428,
           0.3333333333333333,
           0,
           null,
           0,
           0,
           0.35067347886669764,
           0.08333333333333333,
           0,
           0.3344103392568659,
           0.35294117647058826,
           0.2833333333333333,
           0.32941176470588235,
           0,
           0.4,
           0,
           0.36394214598049107,
           0.36893203883495146,
           0.16666666666666666,
           0.23529411764705882,
           null,
           0.25,
           null,
           0.4166236448115643,
           0.31683168316831684,
           null,
           null,
           0,
           0.39473684210526316,
           0,
           0.16666666666666666,
           0.5,
           0,
           0.3404255319148936,
           null,
           0.3720136518771331,
           0,
           0.33403361344537813,
           null,
           0.3634066587395957,
           0.32299741602067183,
           0.3251605370694688,
           0.33810888252148996,
           0.43302752293577984,
           0.13636363636363635,
           0.28081123244929795,
           0.34516616314199394,
           0.31693989071038253,
           0.32677165354330706,
           0.13636363636363635,
           0.328,
           0.3514018691588785,
           0.30445969125214406,
           0.3580545015522594,
           0.35860500379075055,
           0.3599389933909507,
           0.3501577287066246,
           0.3944099378881988,
           0.368185212845407,
           0.31896551724137934,
           0.3249370277078086,
           0.21804511278195488,
           0.3578031538879826,
           0.38191632928475033,
           0.3535031847133758,
           0.2765957446808511,
           0.29310344827586204,
           0.4,
           0.2835820895522388,
           0.3450479233226837,
           0.3670886075949367,
           0.28,
           0,
           0,
           0.36330608537693004,
           0.3170731707317073,
           0.37295476419634266,
           0.3819479857215706,
           0.3583617747440273,
           0.35238907849829354,
           0.28846153846153844,
           0.40087984602694526,
           0,
           0.3159420289855073,
           0.362962962962963,
           0.3875476493011436,
           0.27722772277227725,
           0.34611171960569553,
           0.32142857142857145,
           0.5,
           null,
           null,
           0.4444444444444444,
           0.37883435582822084,
           0.32517482517482516,
           0.2903225806451613,
           0.3651376146788991,
           0.16666666666666666,
           null,
           0.3013698630136986,
           null,
           0.3,
           0.1702127659574468,
           0.32322175732217573,
           0.29443838604143946,
           0.20454545454545456,
           0.3368074602303895,
           0.33361921097770153,
           0,
           0.058823529411764705,
           0.3323133414932681,
           0.3696682464454976,
           0.38382737576285963,
           null,
           0.3253968253968254,
           0,
           0.36863662960795784,
           0,
           0.4024514811031665,
           0,
           0.33711167086481947,
           0.3625758282781148,
           0.32078559738134205,
           0.21428571428571427,
           0.3103448275862069,
           0.3048780487804878,
           0,
           0.09523809523809523,
           0.35581787521079256,
           0.3170028818443804,
           0.34915254237288135,
           0,
           0.2692307692307692,
           0,
           null,
           0.3076923076923077,
           0.4,
           0.3870967741935484,
           0,
           0.25,
           0.33240997229916897,
           0.3148316651501365,
           null,
           0.2222222222222222,
           null,
           null,
           null,
           0.2413793103448276,
           0,
           0.3333333333333333,
           0.23076923076923078,
           null,
           null,
           null,
           0.3333333333333333,
           0.310126582278481,
           0.1896551724137931,
           0.38237738985868663,
           0.341964965727342,
           0.2,
           0,
           0.32167832167832167,
           0,
           0.125,
           0.27884615384615385,
           null,
           0.35333333333333333,
           null,
           0.14285714285714285,
           0.3810623556581986,
           0.16666666666666666,
           0.2,
           null,
           0.23076923076923078,
           0.3913177339901478,
           0.29952267303102625,
           0.2857142857142857,
           0.2571428571428571,
           0.35766423357664234,
           0,
           0,
           0.3533797216699801,
           0.36013590033975085,
           0.371868978805395,
           0.4191142191142191,
           0.37279411764705883,
           0.3407917383820998,
           0.3785063752276867,
           0.38427365615282094,
           0.35731225296442687,
           0.3372413793103448,
           0.31868131868131866,
           0.367047308319739,
           0.2995049504950495,
           0.2602739726027397,
           0.2222222222222222,
           0.35864485981308414,
           0.3491282968261064,
           0.3449367088607595,
           0.3567708333333333,
           null,
           0.323943661971831,
           0.3330049261083744,
           0.32735148514851486,
           0.3931240657698057,
           0.27586206896551724,
           0.3619854721549637,
           0.3296943231441048,
           0.2,
           null,
           0.3076923076923077,
           0.3725596529284165,
           0,
           0.32808398950131235,
           0.3219178082191781,
           0.40709561034275404,
           0.29411764705882354,
           0.18181818181818182,
           0.3473684210526316,
           0.34523809523809523,
           null,
           null,
           0.14285714285714285,
           0.13333333333333333,
           null,
           0.3524590163934426,
           0.388268156424581,
           0.36305048335123524,
           0.2,
           0.3698630136986301,
           0.2,
           0.5,
           0.36363636363636365,
           0,
           0,
           null,
           0.125,
           0.3125,
           0.31932773109243695,
           0.09090909090909091,
           0.3053097345132743,
           0,
           0,
           0.5,
           0.31208053691275167,
           0.27184466019417475,
           0.3765449052458116,
           0.3463855421686747,
           0,
           0.37509144111192394,
           0.36718502062837194,
           0.13513513513513514,
           0.37653239929947463,
           0.34994753410283314,
           0.3902147971360382,
           0.3444794952681388,
           0.3699421965317919,
           0.25,
           0.3209990749306198,
           null,
           0.2857142857142857,
           0.2971246006389776,
           0.3210332103321033,
           0.3793352601156069,
           0.2722007722007722,
           null,
           0.3667711598746082,
           0.3064516129032258,
           0.23140495867768596,
           null,
           null,
           0.2926829268292683,
           0.2222222222222222,
           null,
           0.36628849270664504,
           0,
           0.3460101867572156,
           0.31569965870307165,
           0.31125827814569534,
           0.34990439770554493,
           0.2920353982300885,
           0.3950524737631184,
           0.3515215110178384,
           0.36,
           0.3937007874015748,
           0.3619047619047619,
           0.28,
           0.3090909090909091,
           0.3830734966592428,
           0.2,
           0.2971014492753623,
           0.21830985915492956,
           0,
           0,
           0.125,
           0,
           0.34285714285714286,
           0,
           null,
           0.38575982996811903,
           null,
           0.37054794520547946,
           0.36492890995260663,
           0.3794392523364486,
           0.30623818525519847,
           0.356186395286556,
           0.22580645161290322,
           null,
           0.3557377049180328,
           0.17391304347826086,
           null,
           0.5,
           0.2608695652173913,
           0,
           0.3333333333333333,
           0.30678466076696165,
           0.35135135135135137,
           0.2571428571428571,
           0.364379827351204,
           null,
           0.37967914438502676,
           0.3225806451612903,
           0.17647058823529413,
           0.4166666666666667,
           null,
           0.25,
           0.30833333333333335,
           0.2,
           0.33226837060702874,
           0.3865914786967419,
           0.2528216704288939,
           0.2608695652173913,
           0.2356020942408377,
           0.3630379746835443,
           0.2777777777777778,
           0.4,
           0.39758632249413345,
           0.22695035460992907,
           0.3366914103923648,
           0.33121019108280253,
           null,
           0.28846153846153844,
           0.3569682151589242,
           0.3512476007677543,
           0.46153846153846156,
           0.5,
           0.14285714285714285,
           0.3668076109936575,
           0.35534256301029465,
           0.16981132075471697,
           0.05128205128205128,
           0.2552594670406732,
           0.36796536796536794,
           0.2608695652173913,
           0.4019073569482289,
           0.28,
           0.33490566037735847,
           0.39215686274509803,
           0.37142857142857144,
           0.3585415259959487,
           0,
           0.31865284974093266,
           0.33620689655172414,
           0.07692307692307693,
           0.35957513277100905,
           1,
           0.39709302325581397,
           0.3459807073954984,
           0.15384615384615385,
           0.3469776297001428,
           0.2874617737003058,
           0.2818181818181818,
           0.2727272727272727,
           0.06666666666666667,
           0.2647058823529412,
           0,
           0.25396825396825395,
           0.36009174311926606,
           0.16666666666666666,
           0.3680672268907563,
           0.2,
           0.36363636363636365,
           0.3333333333333333,
           0.3822463768115942,
           0.3157894736842105,
           0.28488372093023256,
           0.21739130434782608,
           0.31645569620253167,
           0.313953488372093,
           null,
           0.3404255319148936,
           null,
           0.4444444444444444,
           0.22727272727272727,
           0,
           0,
           0.2222222222222222,
           0.2,
           0.3952991452991453,
           0.3406408094435076,
           null,
           0.3172866520787746,
           0.175,
           0,
           0.5,
           0.34615384615384615,
           0.2872340425531915,
           0.29455445544554454,
           0.2222222222222222,
           0.3333333333333333,
           0,
           0.1875,
           0.345,
           0.3547008547008547,
           0.3848953594176524,
           0.3173076923076923,
           0.29473684210526313,
           0.2888198757763975,
           0.19047619047619047,
           0.3429237947122862,
           0.2222222222222222,
           0.29045643153526973,
           0.23809523809523808,
           0.3333333333333333,
           0.3709677419354839,
           0.3587088915956151,
           0.3181818181818182,
           0.35325602140945583,
           0.36748064324002383,
           0.38461538461538464,
           0.24074074074074073,
           0.26262626262626265,
           0.37258687258687256,
           0.2773722627737226,
           0.34736091298145505,
           0.43772990015764585,
           0.40728476821192056,
           0.125,
           0.33506044905008636,
           0.3207184092366902,
           0.3569364161849711,
           0.23636363636363636,
           0.319792158715163,
           0.3352380952380952,
           0.2903225806451613,
           0.2542372881355932,
           0.3076923076923077,
           0.3420229405630866,
           null,
           0.2,
           0.36,
           0.29411764705882354,
           null,
           0,
           0.34119417962870047,
           0.32125984251968503,
           0.32852386237513875,
           0.30434782608695654,
           0,
           0.3053016453382084,
           0.16666666666666666,
           0.24793388429752067,
           1,
           0.312,
           0.125,
           0.42857142857142855,
           0.3572923935799023,
           null,
           0,
           0.3884745762711864,
           0.2073170731707317,
           0.23076923076923078,
           0.30845771144278605,
           0.34703557312252964,
           0.36099585062240663,
           null,
           0.3732394366197183,
           0.3596345514950166,
           null,
           null,
           0.32216494845360827,
           0.14285714285714285,
           0,
           0.36363636363636365,
           0.3699186991869919,
           0.21428571428571427,
           0.4142678347934919,
           0.6,
           0.3055555555555556,
           0.2923076923076923,
           0,
           0.36,
           0.3333333333333333,
           0,
           0.329073482428115,
           0.2222222222222222,
           0.32280701754385965,
           0.3395348837209302,
           null,
           0.2962962962962963,
           0.2857142857142857,
           0.08333333333333333,
           0.29411764705882354,
           0.21818181818181817,
           0.34992458521870284,
           0.29545454545454547,
           0.28802588996763756,
           0.3600498338870432,
           0.3943573667711599,
           0.25153374233128833,
           0.3241491085899514,
           0.16666666666666666,
           0.32630906768837803,
           0.34804753820033957,
           0.3516143299425033,
           0.37213403880070545,
           0.35181236673773986,
           0.34133611691022964,
           0.2982456140350877,
           0.3228200371057514,
           0.37969094922737306,
           0.17543859649122806,
           0.3132075471698113,
           0.3711340206185567,
           0.11764705882352941,
           null,
           null,
           0.21153846153846154,
           0.37596699329551314,
           0.3771996939556236,
           null,
           0.36054421768707484,
           0.34615384615384615,
           0.40816326530612246,
           0.30612244897959184,
           0.352549889135255,
           0.30612244897959184,
           0.35792019347037485,
           0.30392156862745096,
           0.2962962962962963,
           0.3333333333333333,
           0.3333333333333333,
           null,
           0.31932773109243695,
           0,
           0.375,
           0.3786764705882353,
           0.3471971066907776,
           0.1111111111111111,
           0,
           0.2571428571428571,
           0.4,
           0.32608695652173914,
           0.14285714285714285,
           0.2926829268292683,
           0.40625,
           1,
           null,
           0.25,
           1,
           0,
           0.3684210526315789,
           0.3076923076923077,
           0.5,
           null,
           0.19230769230769232,
           0.20833333333333334,
           0.14705882352941177,
           0.32275132275132273,
           0.3212669683257919,
           0.25,
           0.39118705035971224,
           0.28867924528301886,
           0,
           0.30455635491606714,
           0.3356164383561644,
           0.40569020021074814,
           0.36681222707423583,
           0.2857142857142857,
           0,
           0.21428571428571427,
           0.35294117647058826,
           0.3355325164938737,
           0.327455919395466,
           0.33242506811989103,
           0.3669574700109051,
           0.5,
           0.3698630136986301,
           0.10526315789473684,
           null,
           0.28,
           0.3573667711598746,
           null,
           0.26515151515151514,
           0.3781569965870307,
           0.26843657817109146,
           0.2,
           0.3860232945091514,
           0.2857142857142857,
           0.2682926829268293,
           0,
           0.35714285714285715,
           0.5,
           0.30597014925373134,
           0.304635761589404,
           0.4043887147335423,
           null,
           0.25,
           0.26744186046511625,
           0.3010752688172043,
           0.3425925925925926,
           0.32468879668049794,
           0.3333333333333333,
           0.30538922155688625,
           0.2986111111111111,
           0.3076923076923077,
           0.37659033078880405,
           0.33093525179856115,
           null,
           0,
           0.36536030341340076,
           0.36363636363636365,
           0.23333333333333334,
           0.3584905660377358,
           0.3333333333333333,
           0.24390243902439024,
           0.20270270270270271,
           0.21052631578947367,
           0.35101404056162244,
           0.3230769230769231,
           0.1,
           0.34735899731423453,
           0.38370473537604455,
           0,
           0.3349282296650718,
           0.3601190476190476,
           0.3684210526315789,
           null,
           null,
           0.32142857142857145,
           0.29896907216494845,
           0.3730684326710817,
           0.4124293785310734,
           0.3404255319148936,
           null,
           0.23529411764705882,
           null,
           0.36412315930388217,
           null,
           0,
           0.29411764705882354,
           0.37037037037037035,
           0.37037037037037035,
           0.29381443298969073,
           0.2832369942196532,
           0.37714285714285717,
           0.23076923076923078,
           0.3275862068965517,
           0.32286995515695066,
           0.3246753246753247,
           0.5,
           0,
           0.26506024096385544,
           0.3532410779315368,
           0.29831387808041504,
           0.3258426966292135,
           0.39615129396151294,
           0.33872598584428715,
           0.33004926108374383,
           0.3156297420333839,
           0.3282275711159737,
           0.3662704309063893,
           0.3624563155267099,
           0.4133180252583238,
           0.3241106719367589,
           0.38035714285714284,
           0.3211267605633803,
           0.25,
           0.375,
           0.25806451612903225,
           0.2,
           null,
           0.1590909090909091,
           0.3344768439108062,
           0.3287671232876712,
           0.23529411764705882,
           0.2631578947368421,
           0,
           0.2,
           0.42857142857142855,
           0.2,
           0.33819628647214856,
           0.4,
           0.3486973947895792,
           0.3566775244299674,
           0.34773218142548595,
           0.11764705882352941,
           0.3477406679764244,
           0.2,
           0.31435643564356436,
           0.3103448275862069,
           0.3333333333333333,
           0.2862903225806452,
           0.30113636363636365,
           0.34,
           0.33980582524271846,
           0.3532658693652254,
           0.3504531722054381,
           0.2564102564102564,
           0.36199095022624433,
           0.3076923076923077,
           0.39325842696629215,
           0,
           0.34562841530054644,
           0.28205128205128205,
           0.3735144312393888,
           0.2564102564102564,
           0.125,
           0.2857142857142857,
           0.30952380952380953,
           0.32801822323462415,
           0.2222222222222222,
           0.3492063492063492,
           0.42857142857142855,
           0.35805626598465473,
           null,
           0.5,
           0.2868217054263566,
           0.3783783783783784,
           0.35106382978723405,
           0.3351206434316354,
           0.36830102622576966,
           0.35664335664335667,
           0.3306122448979592,
           0.2,
           0.4146341463414634,
           0.4,
           null,
           0.17391304347826086,
           0.42857142857142855,
           null,
           0.25,
           0.27586206896551724,
           0.07142857142857142,
           0.6666666666666666,
           0,
           0.3673469387755102,
           0.20833333333333334,
           0.3235294117647059,
           null,
           0.23076923076923078,
           0.37969924812030076,
           0,
           null,
           0.25,
           0,
           0.25,
           0,
           0.4473684210526316,
           0.25,
           0.25,
           0.38132295719844356,
           null,
           null,
           0.3141592920353982,
           0.3254237288135593,
           0.3023255813953488,
           0,
           0.3759124087591241,
           0.35443037974683544,
           0.29838709677419356,
           0.330188679245283,
           0.37325349301397204,
           0.38095238095238093,
           0.24107142857142858,
           0.294478527607362,
           0.34911242603550297,
           1,
           0.3148148148148148,
           0.1282051282051282,
           0.36363636363636365,
           0.3732142857142857,
           0.3643279797125951,
           0.23529411764705882,
           0.15,
           0.37169811320754714,
           0.37558247903075487,
           0.3090909090909091,
           0.3736842105263158,
           0.3125,
           null,
           0.3450920245398773,
           0.3148148148148148,
           0.2518518518518518,
           0,
           0.34977578475336324,
           0.3170731707317073,
           0.3743455497382199,
           0.36191860465116277,
           0,
           0.27253668763102723,
           0.375,
           0.43856332703213613,
           0.30952380952380953,
           null,
           0.3852760736196319,
           0.39707317073170734,
           0.3817504655493482,
           0.3157894736842105,
           0.36554621848739494,
           0.3157894736842105,
           0.39275766016713093,
           0.3837837837837838,
           0.14285714285714285,
           0.31451612903225806,
           0.3686868686868687,
           0.38076923076923075,
           0.34864864864864864,
           0.34346924671734624,
           0.1891891891891892,
           0.3312538989394885,
           0.20149253731343283,
           0,
           0.302158273381295,
           0.5,
           0.23809523809523808,
           0.23140495867768596,
           0.3870967741935484,
           0.25,
           0,
           0.37721021611001965,
           0,
           0.22727272727272727,
           0.31527093596059114,
           0.3125,
           0.2608695652173913,
           0.308411214953271,
           0.3288135593220339,
           0.30158730158730157,
           0.5,
           0.2,
           null,
           0.5,
           0.3793103448275862,
           0.3141025641025641,
           0.31092436974789917,
           null,
           0.36538461538461536,
           0.42857142857142855,
           0.32894736842105265,
           0,
           0.23529411764705882,
           0.225,
           0.4226475279106858,
           0.46153846153846156,
           0.36427566807313644,
           0.35964912280701755,
           0,
           0,
           null,
           0.4027777777777778,
           0,
           0,
           0.36904761904761907,
           0.30612244897959184,
           0.375,
           0.35294117647058826,
           0.2,
           0.29545454545454547,
           1,
           0.38095238095238093,
           0.391304347826087,
           0.2,
           0.30434782608695654,
           0.2727272727272727,
           0.29411764705882354,
           0,
           0.34579439252336447,
           0.38666666666666666,
           0.125,
           0.20588235294117646,
           null,
           0.3333333333333333,
           0,
           0.5,
           0.29411764705882354,
           0.40540540540540543,
           0.19047619047619047,
           0.3684210526315789,
           0.3333333333333333,
           0.33557046979865773,
           0.2,
           0.3939393939393939,
           0.3333333333333333,
           0.3695652173913043,
           0.30851063829787234,
           0.31666666666666665,
           0.3483709273182957,
           0.3566265060240964,
           0.28832116788321166,
           0.3049645390070922,
           0.2535211267605634,
           0.3736654804270463,
           0.3888888888888889,
           0.3465909090909091,
           0.37478991596638656,
           0.35960591133004927,
           0.2222222222222222,
           0.302158273381295,
           0.3475177304964539,
           0.23529411764705882,
           0.322884012539185,
           0.3091334894613583,
           0.2857142857142857,
           0.32432432432432434,
           null,
           0.16666666666666666,
           0.3325581395348837,
           0.14285714285714285,
           null,
           0.2653061224489796,
           0,
           0.2847222222222222,
           0.38990825688073394,
           0.3673805601317957,
           0.3142857142857143,
           0.36363636363636365,
           0,
           0.34108527131782945,
           0.375,
           0.30113636363636365,
           0.45161290322580644,
           0.34579439252336447,
           0.3005464480874317,
           0.31608133086876156,
           0.34317343173431736,
           0.29357798165137616,
           0.29411764705882354,
           0.3114754098360656,
           0.33,
           0.30303030303030304,
           0.3064516129032258,
           0.18181818181818182,
           0.32,
           0.33766233766233766,
           0.35714285714285715,
           0.28,
           0.25,
           0.34328358208955223,
           0.36585365853658536,
           null,
           0.3821656050955414,
           null,
           0.3939393939393939,
           0.14285714285714285,
           0.26666666666666666,
           0.38934426229508196,
           0,
           0.20833333333333334,
           0.3686635944700461,
           null,
           0.25,
           0.3333333333333333,
           0,
           0.3161512027491409,
           0.30120481927710846,
           0,
           null,
           0.4134078212290503,
           0,
           0.30158730158730157,
           0.3076923076923077,
           0.3333333333333333,
           0,
           0.25,
           0.375,
           0.32884615384615384,
           0.3524904214559387,
           0.3157894736842105,
           0.2777777777777778,
           0.31547619047619047,
           0.3058823529411765,
           0,
           0.40878378378378377,
           0.3466666666666667,
           0.2897196261682243,
           0.391304347826087,
           0,
           0.37037037037037035,
           0.3372093023255814,
           0.14285714285714285,
           0.3354632587859425,
           0.30097087378640774,
           0,
           0.3804347826086957,
           0.3103448275862069,
           0.16,
           0.36363636363636365,
           0.3333333333333333,
           0.36666666666666664,
           0.2631578947368421,
           0.2,
           0.23529411764705882,
           0.25,
           0.34782608695652173,
           0.3333333333333333,
           0.4067796610169492,
           0.38943894389438943,
           0,
           0.28019323671497587,
           0.36792452830188677,
           0.23076923076923078,
           0.6,
           0.32142857142857145,
           0.4112903225806452,
           0.5,
           null,
           0.16,
           0.2222222222222222,
           0.21052631578947367,
           0,
           0.27692307692307694,
           0.5,
           0.47058823529411764,
           0.4317343173431734,
           0.16666666666666666,
           0.35,
           0.10810810810810811,
           0.36363636363636365,
           0.4722222222222222,
           0.3493975903614458,
           0.3645833333333333,
           0.18181818181818182,
           0.2222222222222222,
           0.19230769230769232,
           0.323943661971831,
           0.5,
           0.34782608695652173,
           0.44680851063829785,
           0.22727272727272727,
           0.3076923076923077,
           0.2916666666666667,
           0,
           0.35185185185185186,
           0.2857142857142857,
           0.2711864406779661,
           null,
           0.13333333333333333
          ],
          "coloraxis": "coloraxis",
          "size": [
           188,
           15.428571428571429,
           0.3333333333333333,
           20,
           0,
           154.66666666666666,
           334.5,
           179.5,
           3.5,
           11.25,
           0.4,
           10.8,
           2,
           0,
           1,
           0.5,
           30,
           17,
           10.5,
           3.857142857142857,
           179.375,
           227.66666666666666,
           0,
           0,
           97,
           2,
           173.6,
           1.6,
           2.5,
           265,
           184.36363636363637,
           2.6666666666666665,
           0.8,
           189.8,
           22.333333333333332,
           0.6,
           106.42857142857143,
           63.666666666666664,
           95.55555555555556,
           0.6666666666666666,
           81.4,
           23.428571428571427,
           0,
           38,
           8.5,
           0.75,
           230.55555555555554,
           73.16666666666667,
           0,
           0,
           300,
           118.125,
           0.2857142857142857,
           90.8,
           230,
           22.75,
           148.5,
           0,
           236.5,
           280.25,
           127.58333333333333,
           105.57142857142857,
           38.5,
           15,
           205.55555555555554,
           3,
           0,
           21.625,
           21.666666666666668,
           91.5,
           1,
           237.54545454545453,
           76.33333333333333,
           1.1666666666666667,
           209.8,
           0,
           1,
           110.33333333333333,
           164.875,
           81.16666666666667,
           170.9090909090909,
           1,
           1,
           152.33333333333334,
           3,
           99.71428571428571,
           6.166666666666667,
           107,
           97,
           1.25,
           91.66666666666667,
           0,
           0,
           43.6,
           1.8333333333333333,
           117,
           39.142857142857146,
           135,
           41.4,
           1.3333333333333333,
           148.25,
           57.5,
           1.75,
           0.6,
           250.25,
           1.6666666666666667,
           5,
           137,
           114,
           124.28571428571429,
           34,
           0.2857142857142857,
           13,
           59,
           135.25,
           128.33333333333334,
           184,
           109.5,
           0,
           0,
           2,
           97,
           41,
           0.7777777777777778,
           2.25,
           306.1666666666667,
           1.5,
           1.8,
           96.25,
           25.666666666666668,
           0.625,
           83.9090909090909,
           137,
           0,
           87.63636363636364,
           152.66666666666666,
           3,
           343.6666666666667,
           48.666666666666664,
           100.2,
           9.125,
           40.25,
           0.7,
           0.3333333333333333,
           33.666666666666664,
           2.875,
           114.5,
           16.666666666666668,
           256.6666666666667,
           3.2,
           0,
           0,
           2.111111111111111,
           170,
           0,
           1.5,
           46,
           0,
           0.16666666666666666,
           1,
           208.5,
           1.8181818181818181,
           143.55555555555554,
           292.8333333333333,
           104.57142857142857,
           0,
           0,
           33.5,
           4,
           253.5,
           6,
           6.857142857142857,
           199.33333333333334,
           0.3333333333333333,
           14.142857142857142,
           112,
           19,
           19.666666666666668,
           5.666666666666667,
           118.71428571428571,
           188,
           21.4,
           147.125,
           0,
           228.75,
           13,
           77,
           79.27272727272727,
           11.166666666666666,
           223.36363636363637,
           23.22222222222222,
           224.75,
           21.833333333333332,
           1,
           182.77777777777777,
           151.8,
           179.16666666666666,
           0.3333333333333333,
           95,
           35,
           142.75,
           64.44444444444444,
           22.4,
           42.5,
           165.1,
           236,
           31.11111111111111,
           383.77777777777777,
           0.875,
           4.8,
           4,
           0.7333333333333333,
           0.5,
           18.666666666666668,
           34.5,
           11.5,
           3.3333333333333335,
           9.5,
           31.333333333333332,
           0.3333333333333333,
           45.4,
           9.285714285714286,
           73.25,
           0.5,
           16,
           14.833333333333334,
           1.7647058823529411,
           0,
           0.25,
           125.77777777777777,
           0,
           241.66666666666666,
           95,
           2.3333333333333335,
           10.4,
           176,
           0.25,
           137.5,
           4.625,
           4,
           296.94117647058823,
           135.7,
           185.125,
           37,
           16,
           153.83333333333334,
           2.090909090909091,
           0.5,
           0,
           61.63636363636363,
           2,
           1,
           3.25,
           23.75,
           136.11111111111111,
           6,
           1.5,
           4,
           23.333333333333332,
           0.06666666666666667,
           0.14285714285714285,
           11,
           0.1111111111111111,
           6.533333333333333,
           144.4,
           65.33333333333333,
           83,
           104.11111111111111,
           110,
           242,
           0,
           2,
           233.6,
           1.7647058823529411,
           54.333333333333336,
           93,
           25.25,
           30.2,
           70,
           0.3333333333333333,
           171.1764705882353,
           0.6666666666666666,
           85.8,
           263.85714285714283,
           0,
           56,
           51.833333333333336,
           5.125,
           19,
           19.333333333333332,
           3.727272727272727,
           100.5,
           1,
           21.25,
           0,
           3,
           1,
           1,
           2,
           71,
           4.8,
           0,
           209.73333333333332,
           6.571428571428571,
           183.7,
           260.5833333333333,
           19.8,
           7,
           3.2222222222222223,
           0.5555555555555556,
           1.1428571428571428,
           204.6,
           15.6,
           5,
           42.25,
           0,
           0,
           57,
           207.625,
           0.2,
           244.66666666666666,
           20,
           41.25,
           104,
           85,
           3.8,
           15.75,
           1,
           132.75,
           54,
           103.4,
           357.2857142857143,
           73,
           219,
           0,
           2.4,
           36.375,
           152.8,
           0.45454545454545453,
           31,
           80.25,
           0.6,
           20,
           119.4,
           0.25,
           177,
           2.75,
           0.5,
           3.6,
           8.4,
           2.6666666666666665,
           172.3846153846154,
           64.28571428571429,
           2,
           0,
           43,
           16.2,
           1.4,
           70,
           175,
           204.375,
           1.6666666666666667,
           0,
           0,
           0,
           241.64285714285714,
           5.176470588235294,
           43.25,
           234.46153846153845,
           412.72222222222223,
           355.3333333333333,
           2.230769230769231,
           229.75,
           0.9,
           1,
           0.8,
           0.5454545454545454,
           218.83333333333334,
           137.6,
           7.142857142857143,
           131.8,
           23,
           0.6666666666666666,
           185.61111111111111,
           2.888888888888889,
           36,
           0.5,
           8.285714285714286,
           0.9166666666666666,
           4.5,
           84.45454545454545,
           277.3,
           337.84615384615387,
           5.277777777777778,
           7.769230769230769,
           8,
           31,
           45.111111111111114,
           2,
           1.5,
           8.818181818181818,
           0,
           6.076923076923077,
           19.5,
           6,
           77.5,
           9.333333333333334,
           0,
           97.2,
           30.5,
           21,
           237.57142857142858,
           0.3333333333333333,
           73.83333333333333,
           1.5,
           4,
           2,
           0,
           4,
           0,
           24,
           9,
           0.75,
           41.5,
           0,
           0.5,
           0,
           7,
           0,
           35.5,
           0,
           127.88888888888889,
           1,
           0,
           0.3333333333333333,
           178.83333333333334,
           0,
           5,
           102.5,
           0.3333333333333333,
           7,
           233.1818181818182,
           0,
           2,
           0.5,
           2,
           26.5,
           4,
           1.2857142857142858,
           3.1875,
           157.66666666666666,
           0,
           9,
           6,
           129,
           37,
           18.5,
           0,
           6,
           0,
           2.5,
           8.166666666666666,
           1,
           3,
           14.75,
           0,
           12.5,
           39.5,
           34,
           1.25,
           3,
           0,
           0,
           0,
           2.4285714285714284,
           1.5,
           0,
           160.15384615384616,
           6,
           0,
           30,
           8.842105263157896,
           183.88888888888889,
           277.94117647058823,
           88.76923076923077,
           5.285714285714286,
           30,
           200.69230769230768,
           0.16666666666666666,
           213.2,
           1.2,
           12.666666666666666,
           105.16666666666667,
           171.9090909090909,
           3.6666666666666665,
           1.3,
           9.916666666666666,
           23.666666666666668,
           9.666666666666666,
           0.18181818181818182,
           0,
           163.77777777777777,
           44,
           162.25,
           5,
           0.4,
           50,
           22.5,
           5.5,
           2,
           3.5,
           3.5,
           6,
           0,
           20,
           4.428571428571429,
           47,
           71.76923076923077,
           0,
           268.7857142857143,
           8.6,
           2,
           117,
           73.77777777777777,
           48.5,
           28.857142857142858,
           38.5,
           11.444444444444445,
           2,
           20,
           0,
           2.230769230769231,
           0,
           0,
           1.3333333333333333,
           0,
           12,
           0.5,
           3,
           3.3333333333333335,
           1,
           0,
           30.666666666666668,
           1.3333333333333333,
           34,
           121.18181818181819,
           1,
           10.5,
           1,
           15,
           4,
           4,
           0,
           0,
           41.333333333333336,
           0,
           285.64285714285717,
           131.5,
           210.3125,
           280.3636363636364,
           3.4285714285714284,
           315.3333333333333,
           130.46153846153845,
           248.0952380952381,
           306.10526315789474,
           68.3,
           0.8,
           3.1666666666666665,
           143.4,
           43.09090909090909,
           67.33333333333333,
           1.0833333333333333,
           6,
           158.7,
           15,
           134.5,
           0.42857142857142855,
           106.81818181818181,
           36.75,
           173.625,
           8.333333333333334,
           2.5,
           49.25,
           0.4444444444444444,
           7.25,
           19.6,
           289.0625,
           0,
           100,
           3.4285714285714284,
           0.2222222222222222,
           0,
           0,
           255.9090909090909,
           4,
           260.6363636363636,
           2,
           0.14285714285714285,
           2.272727272727273,
           7.5,
           2.5,
           1,
           0.5,
           30,
           10.5,
           71.6,
           5,
           6.8,
           5,
           0,
           2,
           219.45454545454547,
           0,
           43.57142857142857,
           2,
           0,
           0,
           0,
           5,
           23,
           151,
           7,
           16,
           2,
           7,
           35.69230769230769,
           3,
           0,
           1,
           84.92307692307692,
           1.5,
           0,
           89.5,
           10,
           3.5,
           1.2941176470588236,
           187.11111111111111,
           319.9230769230769,
           151.85714285714286,
           37.125,
           145.3,
           109.28571428571429,
           52.23529411764706,
           149.375,
           316.3157894736842,
           72.33333333333333,
           0,
           102.21428571428571,
           52.333333333333336,
           200.11764705882354,
           3.6666666666666665,
           247.25,
           27.75,
           77.83333333333333,
           4.153846153846154,
           22,
           113.27272727272727,
           91.15384615384616,
           1,
           113.33333333333333,
           152.25,
           80.5,
           0,
           9,
           0.3333333333333333,
           61,
           0,
           0.9,
           36.4,
           0.25,
           22.25,
           0,
           131,
           1.7777777777777777,
           1.5,
           2,
           0,
           0,
           49.4,
           0,
           253.4375,
           0,
           0,
           6.4,
           0,
           196.41666666666666,
           3,
           1,
           31.125,
           24.285714285714285,
           1,
           0,
           3,
           3.8,
           0,
           98,
           18.8,
           3,
           18.714285714285715,
           18.333333333333332,
           230,
           116.42857142857143,
           1.625,
           318.95,
           0.23076923076923078,
           98.23076923076923,
           0.6,
           0,
           40.333333333333336,
           7.5,
           4,
           216.4,
           25.4,
           252.92307692307693,
           0.5833333333333334,
           31.142857142857142,
           245.63636363636363,
           2,
           124.38461538461539,
           0.6666666666666666,
           0.14285714285714285,
           0.2,
           0.75,
           7.5,
           1.7777777777777777,
           29.5,
           120,
           9.5,
           64.33333333333333,
           0.3333333333333333,
           84,
           18,
           0,
           190.54545454545453,
           14.666666666666666,
           8,
           0,
           229.25,
           54.416666666666664,
           2,
           22.555555555555557,
           3,
           12,
           0,
           0,
           5,
           0,
           0,
           1.8571428571428572,
           12,
           1.5,
           28.142857142857142,
           1,
           0,
           1.6,
           6,
           69.5,
           87.42857142857143,
           0.5,
           5,
           0.75,
           0.5789473684210527,
           27,
           0.18181818181818182,
           334.0769230769231,
           250.30769230769232,
           150.4,
           0.5,
           72.5,
           313.5882352941176,
           42,
           213.91666666666666,
           162.88235294117646,
           131.5,
           0.125,
           3,
           2.8,
           2.6153846153846154,
           42.88235294117647,
           0.3076923076923077,
           3,
           22,
           25,
           65,
           93.07142857142857,
           0.9230769230769231,
           120.54545454545455,
           89.05555555555556,
           124,
           0,
           151.08333333333334,
           130.22222222222223,
           0,
           23,
           33.22222222222222,
           279.72727272727275,
           2.5,
           37.333333333333336,
           47.54545454545455,
           4.333333333333333,
           3.5,
           159,
           119.3076923076923,
           8,
           95.5,
           2,
           1.1666666666666667,
           0,
           0,
           0.5,
           27.5,
           0,
           173.28571428571428,
           45,
           0.3333333333333333,
           39,
           1,
           2,
           69.5,
           9.5,
           21.25,
           4.533333333333333,
           15.142857142857142,
           0,
           8,
           5,
           1.25,
           202,
           230.66666666666666,
           24.428571428571427,
           45.75,
           71.75,
           3.1176470588235294,
           1.6363636363636365,
           9.071428571428571,
           153.14285714285714,
           26.636363636363637,
           0.3333333333333333,
           5,
           139.85714285714286,
           144.5,
           86,
           138.85714285714286,
           0.5,
           1,
           115,
           24.5,
           148.5,
           110.71428571428571,
           2,
           26.666666666666668,
           152.76923076923077,
           48,
           87.5,
           0,
           154.9,
           78,
           0.8,
           1.0769230769230769,
           50.5,
           3,
           432,
           0.5,
           134.875,
           1.25,
           209.35714285714286,
           0.2,
           0,
           2.375,
           193.84615384615384,
           16.333333333333332,
           27.1,
           0,
           0,
           180,
           26,
           24.333333333333332,
           0,
           102.18181818181819,
           0,
           11,
           12,
           167.6,
           81,
           111,
           0,
           14,
           66.75,
           0.8461538461538461,
           5,
           318.77777777777777,
           0.6,
           248.66666666666666,
           70,
           117.125,
           1.8461538461538463,
           240.15384615384616,
           54.875,
           0.5,
           157.28571428571428,
           191,
           7.214285714285714,
           47.75,
           139.5,
           8.666666666666666,
           4,
           29.333333333333332,
           14.333333333333334,
           89,
           25,
           100.92857142857143,
           42.666666666666664,
           92.81818181818181,
           76.22222222222223,
           232,
           0.5,
           1,
           182.57142857142858,
           102.9,
           2.6666666666666665,
           117.11111111111111,
           55.8,
           30,
           208.3846153846154,
           0,
           0,
           124.5,
           1.9375,
           183.63636363636363,
           160.25,
           222.3846153846154,
           0,
           138.35714285714286,
           336.1764705882353,
           1.5,
           0,
           0,
           12,
           43.9,
           3.2222222222222223,
           22,
           2,
           0,
           8,
           2.1666666666666665,
           1,
           0,
           17.5,
           17.5,
           0,
           89.6,
           9,
           3,
           0,
           52.25,
           2.857142857142857,
           52,
           8,
           5.176470588235294,
           0.2,
           265.54545454545456,
           5.214285714285714,
           170.53333333333333,
           37.625,
           132.13333333333333,
           1.3333333333333333,
           187.94117647058823,
           22.25,
           0.2,
           0,
           113.3,
           14.461538461538462,
           4.714285714285714,
           70.25,
           121.38461538461539,
           323.625,
           153.72727272727272,
           223.85714285714286,
           0,
           12,
           34,
           126.5,
           31.714285714285715,
           247.41666666666666,
           145.1,
           102.61538461538461,
           0,
           3.0714285714285716,
           1.5,
           0,
           49,
           13,
           0.5,
           8.5,
           44.9,
           198.66666666666666,
           1.3333333333333333,
           265,
           10.333333333333334,
           0,
           0,
           29,
           38,
           10,
           0.2857142857142857,
           9,
           2,
           196.75,
           26,
           0.3333333333333333,
           0,
           10,
           0,
           0,
           2,
           5.333333333333333,
           2.25,
           17.25,
           62.7,
           0,
           33,
           34,
           0,
           4,
           1.7857142857142858,
           192.93333333333334,
           249.25,
           200.92857142857142,
           206.7,
           191,
           208.15384615384616,
           0.3333333333333333,
           274.6666666666667,
           1.125,
           6,
           3.25,
           198.25,
           85,
           30,
           264.4,
           222.33333333333334,
           13.75,
           0,
           205,
           139.15384615384616,
           162.7,
           193.66666666666666,
           1.625,
           0.5,
           164.85714285714286,
           4.166666666666667,
           0,
           2.4166666666666665,
           152,
           61,
           4.833333333333333,
           232.46666666666667,
           185.30769230769232,
           0.7,
           93,
           52.333333333333336,
           195.75,
           37,
           0,
           0,
           0,
           252.75,
           18.5,
           45.333333333333336,
           24.333333333333332,
           119.5,
           0,
           13,
           6.5,
           2,
           23,
           1.6666666666666667,
           12.5,
           2,
           0.6666666666666666,
           12,
           67.33333333333333,
           183,
           161.42857142857142,
           17,
           0.75,
           0,
           10.5,
           120.375,
           7,
           24,
           0,
           48.666666666666664,
           0,
           38.625,
           0.2,
           54,
           2,
           28.666666666666668,
           0.5,
           0,
           48,
           2,
           15,
           0,
           3,
           1,
           102.8,
           1.2727272727272727,
           1,
           0,
           59.25,
           28,
           107.6,
           177.1,
           44.266666666666666,
           125,
           4.25,
           1.5,
           154.16666666666666,
           274.27272727272725,
           206.4,
           0.75,
           0,
           313.6,
           1.1666666666666667,
           104.85714285714286,
           44.375,
           0,
           118.2,
           116,
           51.666666666666664,
           72.66666666666667,
           10.666666666666666,
           86.4,
           98,
           0,
           331.1333333333333,
           92.33333333333333,
           155.9,
           120,
           11,
           31.75,
           0.6666666666666666,
           16.666666666666668,
           121.54545454545455,
           1.125,
           0.25,
           203,
           4.5,
           31,
           0,
           53,
           0,
           202.71428571428572,
           9.5,
           0,
           26,
           103.53333333333333,
           1,
           0.1,
           1.5,
           1,
           0.5,
           16,
           5,
           71.16666666666667,
           116,
           0.3,
           23.666666666666668,
           104.5,
           30,
           0.5,
           101.25,
           0.5,
           23,
           166.42857142857142,
           12,
           1,
           99.66666666666667,
           0,
           2,
           1.25,
           0,
           13,
           0,
           0,
           2,
           13,
           0,
           13,
           0,
           0,
           331.61538461538464,
           101.92857142857143,
           248.92857142857142,
           234.23076923076923,
           45,
           136.46153846153845,
           1.2,
           1.2307692307692308,
           102.6,
           28.75,
           107.42857142857143,
           15.25,
           66.5,
           92.1,
           230.33333333333334,
           0.25,
           248.46153846153845,
           26,
           22.90909090909091,
           205.33333333333334,
           160.5,
           213.33333333333334,
           286.75,
           8,
           221.8,
           200.45454545454547,
           2,
           11.333333333333334,
           3.3333333333333335,
           30,
           0,
           2,
           6.875,
           0,
           52.36363636363637,
           0.4,
           6,
           0,
           6,
           0,
           2.6666666666666665,
           92.07692307692308,
           0.42857142857142855,
           0,
           11,
           7.5,
           59.81818181818182,
           25,
           0,
           5.5,
           12,
           0,
           126.3,
           178.46153846153845,
           1,
           0,
           2.5,
           17.5,
           9.5,
           6,
           0,
           15,
           15.666666666666666,
           40,
           75.9090909090909,
           285.875,
           139.16666666666666,
           267.7692307692308,
           266,
           286.5,
           339.3076923076923,
           23.5,
           242.07692307692307,
           143.15384615384616,
           125.63636363636364,
           5.25,
           144.44444444444446,
           13.833333333333334,
           13.384615384615385,
           65.1,
           2.6666666666666665,
           4.384615384615385,
           2.625,
           6,
           290.9166666666667,
           188.25,
           0.36363636363636365,
           132.66666666666666,
           289.84615384615387,
           198.3846153846154,
           50.888888888888886,
           135.5,
           0.5,
           5,
           0,
           2,
           0.25,
           239.22222222222223,
           0.9230769230769231,
           0.125,
           51.583333333333336,
           39.666666666666664,
           30,
           42.5,
           0.5,
           25,
           2,
           228.69230769230768,
           103,
           6,
           5.666666666666667,
           0,
           4,
           0,
           215.22222222222223,
           75.75,
           0,
           0,
           1,
           38,
           3,
           2,
           2,
           4,
           70.5,
           0,
           83.71428571428571,
           0.25,
           129.8181818181818,
           0,
           560.6666666666666,
           154.8,
           171.3,
           116.33333333333333,
           545,
           2.75,
           106.83333333333333,
           294.22222222222223,
           45.75,
           95.25,
           3.142857142857143,
           41.666666666666664,
           89.16666666666667,
           97.16666666666667,
           241.58333333333334,
           164.875,
           163.91666666666666,
           63.4,
           161,
           133.9,
           69.6,
           99.25,
           11.083333333333334,
           167.1818181818182,
           247,
           157,
           47,
           38.666666666666664,
           0.8333333333333334,
           33.5,
           62.6,
           19.75,
           43.75,
           1.2857142857142858,
           0.3333333333333333,
           122.33333333333333,
           13.666666666666666,
           207.8,
           217.88888888888889,
           256.375,
           167.42857142857142,
           52,
           303.0833333333333,
           2,
           115,
           67.5,
           262.3333333333333,
           25.25,
           166,
           28,
           2,
           0,
           0,
           9,
           380.3333333333333,
           71.5,
           31,
           77.85714285714286,
           6,
           0,
           48.666666666666664,
           0,
           10,
           23.5,
           191.2,
           91.7,
           16,
           202.55555555555554,
           116.6,
           0.5714285714285714,
           1.8888888888888888,
           148.54545454545453,
           230.1818181818182,
           417.09090909090907,
           0,
           25.2,
           0.36363636363636365,
           155.36363636363637,
           0.8333333333333334,
           122.375,
           1,
           216.54545454545453,
           194.8181818181818,
           122.2,
           7,
           43.5,
           30.75,
           1.5,
           7,
           84.71428571428571,
           173.5,
           168.57142857142858,
           0.3333333333333333,
           26,
           2,
           0,
           2.888888888888889,
           7.5,
           191.16666666666666,
           6,
           4,
           72.2,
           122.11111111111111,
           0,
           12,
           0,
           0,
           0,
           43.5,
           1,
           15,
           3.7142857142857144,
           0,
           0,
           0,
           4.5,
           63.2,
           7.25,
           171.85714285714286,
           145.88888888888889,
           10,
           1.3333333333333333,
           78,
           0.4,
           8,
           34.666666666666664,
           0,
           37.5,
           0,
           7,
           48.111111111111114,
           6,
           5,
           0,
           13,
           324.8,
           119.71428571428571,
           15.4,
           3.5,
           30.444444444444443,
           0.6666666666666666,
           0.3,
           251.5,
           441.5,
           86.5,
           536.25,
           136,
           174.3,
           274.5,
           225.1,
           126.5,
           145,
           60.666666666666664,
           245.2,
           67.33333333333333,
           36.5,
           5.625,
           342.4,
           223.7,
           63.2,
           76.8,
           0,
           106.5,
           101.5,
           161.6,
           382.2857142857143,
           9.666666666666666,
           137.66666666666666,
           114.5,
           2.5,
           0,
           13,
           204.88888888888889,
           0.3333333333333333,
           47.625,
           36.5,
           332.6,
           11.333333333333334,
           11,
           31.666666666666668,
           28,
           0,
           0,
           10.5,
           2.5,
           0,
           24.4,
           143.2,
           279.3,
           5,
           24.333333333333332,
           12.5,
           4,
           11,
           1,
           0.5,
           0,
           4,
           8,
           39.666666666666664,
           2.75,
           75.33333333333333,
           0.2,
           0.3333333333333333,
           2,
           99.33333333333333,
           12.875,
           404.55555555555554,
           207.5,
           1.2,
           607.5555555555555,
           350.1111111111111,
           12.333333333333334,
           253.77777777777777,
           211.77777777777777,
           93.11111111111111,
           176.11111111111111,
           86.5,
           10,
           120.11111111111111,
           0,
           4.375,
           52.166666666666664,
           54.2,
           307.55555555555554,
           103.6,
           0,
           53.166666666666664,
           15.5,
           90.75,
           0,
           0,
           41,
           15,
           0,
           123.4,
           1,
           327.22222222222223,
           195.33333333333334,
           50.333333333333336,
           74.71428571428571,
           37.666666666666664,
           296.44444444444446,
           211.77777777777777,
           12.5,
           63.5,
           151.66666666666666,
           50,
           73.33333333333333,
           149.66666666666666,
           5,
           69,
           17.75,
           3,
           5,
           4,
           2,
           70,
           0.25,
           0,
           235.25,
           0,
           243.33333333333334,
           105.5,
           133.75,
           176.33333333333334,
           207.44444444444446,
           15.5,
           0,
           122,
           5.75,
           0,
           1,
           23,
           1,
           2,
           84.75,
           55.5,
           35,
           275.125,
           0,
           133.57142857142858,
           20.666666666666668,
           5.666666666666667,
           6,
           0,
           12,
           40,
           1.4285714285714286,
           39.125,
           228,
           63.285714285714285,
           34.5,
           47.75,
           246.875,
           54,
           5,
           372.875,
           17.625,
           235.75,
           58.875,
           0,
           26,
           51.125,
           173.66666666666666,
           6.5,
           6,
           2.8,
           236.5,
           352.125,
           21.2,
           4.875,
           89.125,
           115.5,
           23,
           183.5,
           25,
           70.66666666666667,
           178.5,
           17.5,
           370.25,
           0.875,
           77.2,
           87,
           1.625,
           400.125,
           1,
           215,
           194.375,
           4.333333333333333,
           262.625,
           163.5,
           36.666666666666664,
           11,
           15,
           8.5,
           3,
           63,
           124.57142857142857,
           18,
           198.33333333333334,
           5,
           137.5,
           135,
           92,
           80.75,
           43,
           11.5,
           39.5,
           172,
           0,
           117.5,
           0,
           183.85714285714286,
           22,
           0.5,
           4,
           27,
           17.5,
           200.57142857142858,
           118.6,
           0,
           114.25,
           13.333333333333334,
           0.5,
           2,
           13,
           47,
           202,
           9,
           21,
           1,
           8,
           166.66666666666666,
           58.5,
           314,
           52,
           63.333333333333336,
           92,
           63,
           367.42857142857144,
           27,
           80.33333333333333,
           21,
           19,
           62,
           234.57142857142858,
           198,
           224.2,
           239.85714285714286,
           13,
           13.5,
           49.5,
           74,
           34.25,
           200.28571428571428,
           271.85714285714283,
           215.71428571428572,
           8,
           144.75,
           222.71428571428572,
           98.85714285714286,
           27.5,
           302.42857142857144,
           75,
           53.142857142857146,
           14.75,
           42.714285714285715,
           137,
           0,
           2.5,
           12.5,
           4.25,
           0,
           3,
           284.7142857142857,
           90.71428571428571,
           180.2,
           11.5,
           3,
           91.16666666666667,
           6,
           40.333333333333336,
           0.25,
           41.666666666666664,
           4,
           63,
           286.6,
           0,
           0.2857142857142857,
           368.75,
           11.714285714285714,
           13,
           28.714285714285715,
           210.83333333333334,
           289.2,
           0,
           94.66666666666667,
           172,
           0,
           0,
           55.42857142857143,
           3.5,
           1,
           38.5,
           246,
           14,
           342.42857142857144,
           2.5,
           18,
           21.666666666666668,
           3,
           12.5,
           12,
           2,
           52.166666666666664,
           4.5,
           171,
           107.5,
           0,
           97.2,
           32.666666666666664,
           10,
           107.66666666666667,
           18.333333333333332,
           110.5,
           22,
           77.25,
           401.3333333333333,
           265.8333333333333,
           27.166666666666668,
           102.83333333333333,
           5,
           261,
           196.33333333333334,
           376.8333333333333,
           94.5,
           156.33333333333334,
           159.66666666666666,
           161.5,
           107.8,
           151,
           9.5,
           88.33333333333333,
           77.6,
           5.666666666666667,
           0,
           0,
           34.666666666666664,
           323.1666666666667,
           217.83333333333334,
           0,
           73.5,
           45.5,
           88.2,
           16.333333333333332,
           150.33333333333334,
           19.6,
           275.6666666666667,
           34,
           45,
           90,
           71.5,
           0,
           166.6,
           0.5,
           32,
           204,
           276.5,
           4.5,
           2.3333333333333335,
           5.833333333333333,
           5,
           15.333333333333334,
           7,
           10.25,
           21.333333333333332,
           2,
           0,
           40,
           1,
           1,
           28.5,
           117,
           3,
           0,
           8.666666666666666,
           24,
           8.5,
           141.75,
           88.4,
           12,
           222.4,
           106,
           0.3333333333333333,
           83.4,
           29.2,
           569.4,
           229,
           4.666666666666667,
           0.5,
           2.8,
           21.25,
           212.2,
           79.4,
           91.75,
           366.8,
           0.4,
           292,
           9.5,
           0,
           75,
           239.25,
           0,
           44,
           293,
           67.8,
           2.5,
           240.4,
           1.75,
           20.5,
           4,
           14,
           10,
           80.4,
           60.4,
           127.6,
           0,
           8,
           17.2,
           31,
           108,
           192.8,
           9,
           83.5,
           48,
           13,
           196.5,
           166.8,
           0,
           1,
           158.2,
           140.25,
           30,
           17.666666666666668,
           7.5,
           41,
           24.666666666666668,
           19,
           128.2,
           32.5,
           2,
           223.4,
           287.2,
           1,
           104.5,
           84,
           19,
           0,
           0,
           84,
           48.5,
           113.25,
           283.2,
           15.666666666666666,
           0,
           17,
           0,
           149.4,
           0,
           5,
           8.5,
           27,
           27,
           77.6,
           43.25,
           87.5,
           6.5,
           58,
           44.6,
           57.75,
           8,
           2,
           41.5,
           343.25,
           192.75,
           222.5,
           376.75,
           247.25,
           135.33333333333334,
           164.75,
           114.25,
           336.5,
           500.75,
           217.75,
           84.33333333333333,
           140,
           177.5,
           10,
           222,
           10.333333333333334,
           21.25,
           0,
           11,
           145.75,
           73,
           5.666666666666667,
           28.5,
           2,
           5,
           1.75,
           7.5,
           377,
           5,
           124.75,
           153.5,
           154.33333333333334,
           5.666666666666667,
           254.5,
           3.3333333333333335,
           101,
           58,
           42,
           62,
           44,
           50,
           25.75,
           271.75,
           165.5,
           39,
           55.25,
           13,
           133.5,
           1,
           183,
           19.5,
           147.25,
           19.5,
           8,
           7,
           21,
           109.75,
           4.5,
           21,
           7,
           97.75,
           0,
           2,
           64.5,
           129.5,
           47,
           93.25,
           219.25,
           71.5,
           122.5,
           5,
           20.5,
           15,
           0,
           23,
           3.5,
           0,
           16,
           29,
           14,
           3,
           3,
           49,
           8,
           34,
           0,
           6.5,
           133,
           1,
           0,
           4,
           8,
           52,
           1,
           38,
           4,
           12,
           171.33333333333334,
           0,
           0,
           75.33333333333333,
           98.33333333333333,
           57.333333333333336,
           1.5,
           274,
           263.3333333333333,
           82.66666666666667,
           106,
           167,
           133,
           37.333333333333336,
           54.333333333333336,
           225.33333333333334,
           1,
           27,
           19.5,
           11,
           186.66666666666666,
           394.3333333333333,
           17,
           20,
           176.66666666666666,
           357.6666666666667,
           36.666666666666664,
           190,
           5.333333333333333,
           0,
           217.33333333333334,
           81,
           67.5,
           1,
           148.66666666666666,
           13.666666666666666,
           127.33333333333333,
           229.33333333333334,
           1,
           159,
           8,
           264.5,
           84,
           0,
           271.6666666666667,
           341.6666666666667,
           179,
           9.5,
           119,
           25.333333333333332,
           239.33333333333334,
           92.5,
           2.3333333333333335,
           82.66666666666667,
           132,
           260,
           123.33333333333333,
           482.3333333333333,
           12.333333333333334,
           534.3333333333334,
           44.666666666666664,
           2,
           69.5,
           2,
           21,
           60.5,
           46.5,
           4,
           2,
           254.5,
           0.6666666666666666,
           44,
           101.5,
           112,
           23,
           107,
           98.33333333333333,
           42,
           1,
           5,
           0,
           20,
           29,
           78,
           119,
           0,
           26,
           7,
           38,
           2,
           17,
           40,
           418,
           6.5,
           355.5,
           38,
           2,
           2,
           0,
           72,
           4,
           1,
           84,
           65.33333333333333,
           8,
           39.666666666666664,
           10,
           88,
           1,
           31.5,
           57.5,
           5,
           11.5,
           11,
           34,
           1,
           107,
           37.5,
           8,
           34,
           0,
           15,
           1.5,
           2,
           42.5,
           55.5,
           21,
           9.5,
           6,
           74.5,
           10,
           16.5,
           24,
           253,
           188,
           210,
           199.5,
           415,
           137,
           70.5,
           106.5,
           281,
           9,
           176,
           297.5,
           101.5,
           22.5,
           69.5,
           141,
           25.5,
           159.5,
           213.5,
           21,
           18.5,
           0,
           6,
           215,
           7,
           0,
           24.5,
           7,
           72,
           109,
           303.5,
           35,
           11,
           2.5,
           64.5,
           8,
           88,
           62,
           53.5,
           91.5,
           270.5,
           135.5,
           54.5,
           25.5,
           61,
           150,
           33,
           31,
           5.5,
           112.5,
           77,
           28,
           12.5,
           8,
           33.5,
           20.5,
           0,
           157,
           0,
           33,
           7,
           15,
           122,
           2,
           12,
           108.5,
           0,
           2,
           1.5,
           4,
           145.5,
           83,
           1,
           0,
           89.5,
           2,
           31.5,
           26,
           10.5,
           2,
           8,
           16,
           520,
           261,
           38,
           72,
           168,
           85,
           3,
           296,
           150,
           214,
           138,
           1,
           108,
           172,
           7,
           313,
           103,
           7,
           460,
           87,
           25,
           198,
           120,
           60,
           19,
           5,
           17,
           4,
           23,
           63,
           59,
           303,
           6,
           207,
           106,
           13,
           5,
           168,
           248,
           4,
           0,
           25,
           9,
           19,
           1,
           65,
           2,
           17,
           271,
           6,
           40,
           37,
           66,
           36,
           83,
           96,
           33,
           9,
           26,
           71,
           2,
           23,
           47,
           22,
           195,
           24,
           1,
           216,
           7,
           59,
           0,
           15
          ],
          "sizemode": "area",
          "sizeref": 1.518888888888889,
          "symbol": "circle"
         },
         "mode": "markers",
         "name": "",
         "showlegend": false,
         "type": "scattergl",
         "x": [
          0.032436000516974865,
          -0.4209658598900788,
          -0.02006348442131657,
          -0.018575899193063985,
          -0.18306540433167964,
          1.2506369803119082,
          0.1499304192676063,
          0.47072814479496145,
          -0.4171716207743917,
          -0.05074622577762855,
          -0.7658805378926152,
          -0.5463805054231496,
          -0.9305448310733906,
          -0.5940734360564761,
          -0.3211133177732661,
          -0.4224600527447045,
          -0.06460541447786095,
          -0.3556460286626519,
          -0.13700542577627975,
          -1.2358961551447651,
          0.8453444099669774,
          0.6617641584198052,
          -0.0907278320669724,
          -0.6030826671711762,
          -0.025435541049392146,
          -0.19586947989057696,
          0.18990743663458065,
          -0.8982779650465078,
          -0.542322162326659,
          1.5084123239465912,
          1.4143603358800552,
          -0.3596435938298385,
          -0.9349392010051083,
          0.11772906147372283,
          -0.5058875305310647,
          -0.6080762944785628,
          0.19910837771271056,
          -0.1738960675331284,
          0.10810435251127731,
          -0.07640932786153601,
          -0.3774948107196111,
          -0.8645435058564186,
          -0.024854286849414174,
          -0.07647924065472779,
          -0.18058826256653077,
          -0.13315255634902848,
          0.8623691554702199,
          -0.1874133155289418,
          -0.523868062023188,
          -0.18306540433167964,
          2.65667774331764,
          0.4872904668560611,
          -0.34162183856895895,
          0.04085833937704388,
          0.8409201703881126,
          -0.34903051952377956,
          0.25676442060877486,
          -0.21068492809224434,
          0.42509679797736577,
          0.13450469965895903,
          -0.040582171742524834,
          -0.2196794927574141,
          -0.09774983385112318,
          -0.07885400589010026,
          1.2074833114337036,
          -0.09430187359542738,
          -0.013980258780808566,
          -0.849911193603126,
          -0.7512312955769327,
          -0.035701517018566054,
          -0.18306540433167964,
          1.4192017232871341,
          0.02672134154102399,
          -1.1246859312230502,
          0.30425338368353405,
          -0.3546787876434473,
          -0.2767550311353657,
          -0.009574422461996187,
          0.9522351973406175,
          -0.2384797718167163,
          0.8214009171647245,
          -0.2767550311353657,
          -0.056574801768426254,
          0.041617688424149715,
          -0.20215025828027053,
          -0.005497540467793072,
          -0.0891408818587119,
          0.026582818149204275,
          -0.1057210964479365,
          -0.05500520485433924,
          -0.07264410369418559,
          -0.008248480549004083,
          -0.7419140980211307,
          -0.062336796216401334,
          -0.2251181473554093,
          -0.05358063585893031,
          -0.6249082240336782,
          0.05020073326267804,
          -0.5627769009301513,
          -0.6007760157329725,
          0.25220274535646936,
          -0.8830857631233564,
          -0.05382304079621159,
          -0.7563816552058122,
          0.8691106721539081,
          -0.4059879527981482,
          -0.03431837420017542,
          0.10440696139792006,
          -0.041362450694278526,
          0.29590633168243724,
          -0.06935494494860707,
          -0.34162183856895895,
          -0.26234231528165525,
          -0.05738404705421799,
          0.10197395688417882,
          -0.04348841768393963,
          0.35873473369085584,
          -0.023633244105257332,
          -0.19136583048710587,
          -0.3211133177732661,
          -0.9068834552276424,
          -0.06506494946794449,
          -0.22525714097338034,
          -1.2547161172516172,
          -0.784938213624807,
          2.8700328856647386,
          -0.7196069306464887,
          -0.9645850361889807,
          -0.0788803078609302,
          -0.16305735734262755,
          -0.8858376339178774,
          0.019633099727529853,
          0.10810584501544371,
          -0.1806226144264712,
          -0.2432466297537416,
          0.45146878918255723,
          -0.14825585901151653,
          0.3911815876844012,
          -0.8624060042259577,
          -0.10885438996144674,
          -0.14877422586989789,
          -1.2228203618691336,
          -1.53803797137786,
          -0.044759797896116296,
          -0.1756757079354672,
          -0.344914169121527,
          0.023786456362824157,
          -0.20600491599522927,
          2.14542424071222,
          -0.9067350455102832,
          -0.003511766379225186,
          -0.6456510767098809,
          -0.8958735305492171,
          1.8319734448932938,
          -0.17161338331176956,
          -0.21068492809224434,
          -0.0630149004103776,
          -0.05752802694454057,
          -1.0350419289344834,
          -0.1051416478236059,
          0.8579221307700267,
          -1.212004912973885,
          0.43490954357666134,
          1.193610446775983,
          0.05922471663638924,
          -0.00024986170539665703,
          -0.14049070334680328,
          -0.28037596252140834,
          -0.1818441451069875,
          0.6286965312037454,
          -0.3142790541072448,
          -0.8232301942982354,
          1.0306084216857896,
          -0.009437018645118188,
          -0.46017126263596636,
          0.037036124696046856,
          -0.14025630582174783,
          -0.9294732973372918,
          -0.18020542462520178,
          0.31537272829190444,
          0.19437118160493136,
          -0.641633662520266,
          0.1819378593120006,
          -0.17161338331176956,
          0.8690195346272556,
          -0.24931758833161285,
          -0.10065278319192765,
          -0.3488774254227426,
          -0.7463726545659329,
          0.6532265302456802,
          -0.8527857423296139,
          0.60915390667938,
          -0.39359562550922517,
          -0.3821962123269703,
          0.8393728296429598,
          0.4454429961848511,
          0.6114741325500941,
          -1.149127285301734,
          -0.003664728509231386,
          -0.3371433837683693,
          0.17608100925870276,
          -0.33255620544048575,
          -1.1976737887297892,
          -0.5614897069558481,
          0.2855006138930241,
          0.2133057981682677,
          -0.3911744119195923,
          1.3003766146259699,
          -1.0654782077412288,
          -0.7632476161792942,
          -0.08360353636085242,
          -1.6371650794833787,
          -0.3211133177732661,
          -0.4959291627267298,
          -0.1110609796193791,
          -0.17083104514707456,
          -0.5700110580020384,
          -0.32350453659228046,
          -0.5456479047747633,
          -0.33428305807992476,
          -0.25996876710870737,
          -0.9388231664369002,
          -0.2166037995185367,
          -0.025795262653120158,
          -0.2938489424834885,
          -1.019372014733041,
          -1.7246191671556808,
          -0.19136583048710587,
          -0.7531724005166622,
          0.40488220238746175,
          -0.5029346466549455,
          2.377431726614568,
          -0.3274973306143862,
          -1.4661405900183553,
          -1.3427806797425623,
          0.11297532150455843,
          -0.425010890146889,
          0.47739016803363665,
          -1.1845088600616902,
          -0.5355761880096083,
          2.3357865777114144,
          0.2415235834749785,
          0.9736045354590899,
          -0.08775826416683065,
          -0.08658166663547247,
          0.4141418712682323,
          -1.5569693576607893,
          -0.5505482675340084,
          -0.14049070334680328,
          -0.781128761626601,
          -0.22945329801164951,
          -1.21136156993327,
          -0.5464352149303316,
          -0.5490569604240589,
          0.17504432676736728,
          -0.309518211417196,
          -1.390840001785869,
          -1.545930293435562,
          -0.7269784293362102,
          -1.7245967918140694,
          -1.21136156993327,
          -0.12730759355180357,
          -1.4881166010686318,
          -1.7702302965663963,
          0.3872602762347421,
          -0.07738385480808416,
          -0.38149115178756965,
          -0.06517928645471682,
          0.015463597308126124,
          2.3113904872082993,
          -0.19136583048710587,
          -0.13609633341513327,
          2.2134495597799977,
          -1.6139470237114473,
          -0.2554014976384831,
          -0.008659605396883062,
          -0.5245325373243624,
          -1.2111995364109898,
          -0.06139204457684877,
          -0.41447028236979305,
          1.330998830850705,
          -0.5080847783287225,
          -0.10363544093062398,
          2.5892640055407443,
          -0.39019318671778075,
          -0.10105995895921575,
          -0.051172325554999974,
          -1.2652308027541455,
          -0.11851885368848054,
          -0.39571362458439896,
          -1.6138039352770959,
          -0.08051363562032626,
          -0.19136583048710587,
          -1.4626520683612185,
          -0.09335696459651954,
          -0.04544224952149676,
          -1.5738669090298087,
          -0.1757791666449125,
          -0.1806226144264712,
          -0.1409441505750482,
          -0.8045987221566172,
          -0.05752802694454057,
          1.3707963206976193,
          -0.8340868165548747,
          0.7164875918300786,
          2.322894123193541,
          -0.07348336892040933,
          -0.9342806816966168,
          -1.4709170553083215,
          -0.6952151568686877,
          -0.33924707333359544,
          0.665489781722215,
          -0.10186530836918836,
          -0.19136583048710587,
          -0.36314284021223214,
          -0.03404374320212503,
          -0.2071277823861036,
          -0.41809955045557057,
          1.2499462350675368,
          -0.31582657591585306,
          0.7746296800064151,
          -0.009033444664704817,
          -0.4675056426453305,
          0.018786410556454275,
          -0.014139747147614776,
          -0.09526079386898159,
          -0.13499811056760305,
          -0.03757478223131049,
          0.11368672748071167,
          -0.00007779984552023964,
          0.04669747304396189,
          1.4280349315621819,
          -0.08608295182251821,
          0.20222958328868298,
          -0.2071277823861036,
          -0.09414958399973951,
          -0.6264548093024529,
          0.19155339393455814,
          -1.1187606789571365,
          -0.157419049438422,
          -0.3063598239986101,
          -0.7018285128772315,
          -0.07172971018398068,
          -0.14445449335802435,
          -0.7968912875635166,
          0.7787176242715718,
          -0.8763386621037549,
          -0.0951028091758543,
          -0.7563816552058122,
          -0.14365098706086907,
          -0.8909553987516279,
          0.8626861016890356,
          -0.1344393996579362,
          -0.18306540433167964,
          -0.024854286849414174,
          -0.07617950897701527,
          -0.7676781713659182,
          -0.8544193145080208,
          -0.2392565731417551,
          1.0911640052238385,
          0.5126174416422585,
          -0.2533975068351118,
          -0.03757478223131049,
          -0.0023232282831116232,
          -0.03757478223131049,
          1.8946789101872814,
          -1.7581563986914792,
          -1.0541739686221987,
          1.5977492468588164,
          6.959691701517961,
          3.879854904623826,
          -1.744840168412984,
          1.4659692370722,
          -1.3366179588087612,
          -1.824558396862495,
          -0.6732559415998474,
          -1.6009786793331187,
          2.9053928727278753,
          0.2982431456555279,
          -1.0002386827563658,
          0.38107304919900026,
          -0.0528751457841118,
          -0.42182584944990115,
          1.5093801241083349,
          -1.484003548464975,
          -0.25410916730320915,
          -0.23384766794332276,
          -1.0449012596367098,
          -1.6739472423115,
          -0.47461776963333485,
          -0.2974813349038914,
          3.5369163862848096,
          4.995428505255401,
          -1.7695830492721343,
          -1.5692630046887055,
          -0.18721768596275926,
          -0.09687795434521623,
          -0.9168343085420854,
          -0.09335696459651954,
          -0.2705919300424674,
          -1.4799365138053984,
          -0.7196069306464887,
          -1.6898245011769824,
          -0.21652896342525427,
          -0.6330544332007126,
          0.002946652293219813,
          -0.9212127345811153,
          -0.14049070334680328,
          -0.22864708652269902,
          -0.15401403691917112,
          -0.4008563377924865,
          1.5271984866295565,
          -0.009437018645118188,
          -0.26623558200578046,
          -0.22945329801164951,
          -0.20215025828027053,
          -1.2888698624008672,
          -0.7195109924635498,
          -0.6138258832318063,
          -0.11995709602526268,
          -0.14193487829472481,
          -0.09335696459651954,
          -0.6633680225985474,
          -0.14717610086589475,
          -0.4874399592276255,
          -0.2767550311353657,
          -0.19136583048710587,
          -0.16250014131320625,
          -0.23384766794332276,
          -0.31751617766498885,
          -0.1806226144264712,
          0.27688357765714666,
          -0.0364893128876006,
          -0.34761848573289733,
          -0.9813087464341805,
          0.7854747662465631,
          -0.2153322703586081,
          -0.13609633341513327,
          0.030354987911375107,
          -0.6138258832318063,
          -0.5093163868830455,
          2.1105922976315954,
          -0.39849361287321156,
          -0.2071277823861036,
          -0.3935160887673748,
          -0.19136583048710587,
          -0.3460896934935376,
          -0.14049070334680328,
          -1.1578215943663042,
          -1.771225372470757,
          0.42633415761676907,
          -0.0951028091758543,
          -0.17708330241691694,
          -0.18660498779704776,
          0.014190213846278775,
          -0.17258729826797928,
          -0.3627297634746668,
          -0.39849361287321156,
          -0.14049070334680328,
          -0.2071277823861036,
          -0.38399440338725865,
          -0.9450650501051245,
          -0.2153322703586081,
          -0.19717273417443013,
          -0.6720922670190269,
          -0.2153322703586081,
          -0.08697668072024235,
          -0.2604654135933445,
          -0.0004957901772359587,
          -1.4765593547630154,
          -0.5916854390234416,
          -0.2071277823861036,
          -0.2071277823861036,
          -0.6080762944785628,
          -1.0008561370608364,
          -0.016945524936031183,
          -0.0907278320669724,
          0.26752267526242685,
          -0.1757791666449125,
          -0.05752802694454057,
          -0.18208618095478607,
          -1.7362159673725595,
          1.1191914342126594,
          4.017786876858236,
          -0.25166913856094314,
          -1.6768169670908086,
          -0.9022263668531932,
          1.8770301875756001,
          -1.7037922888231471,
          2.417939003180918,
          -1.4909935837279356,
          -0.9498281118787445,
          0.10810973503648033,
          1.0514622725357337,
          -1.2966822091355295,
          -1.5744500632039986,
          -1.6344535013164878,
          -0.2919855673844303,
          -0.399463887646659,
          -1.646264261878595,
          -0.3522359977382354,
          0.3750687040361941,
          -0.07649095669665212,
          0.46604827784558056,
          -0.4988469606154809,
          -0.6559462843297206,
          -0.44538452481767316,
          -1.2787239546388378,
          -0.22945329801164951,
          -0.1607767933394807,
          -0.1607767933394807,
          -0.06059600773045102,
          -0.08996931561599525,
          -0.14049070334680328,
          -0.10094137396182278,
          -1.1331875742587818,
          -0.11363399784984042,
          -0.7805532681862726,
          -0.09335696459651954,
          2.967411613720171,
          -0.6477211405454683,
          -0.04697012841119578,
          0.07780057467124332,
          -0.43709900993757544,
          -0.49249539451862384,
          -0.7822535223057565,
          -0.17940250712562186,
          -1.320580005113211,
          -0.2071277823861036,
          -1.1620926876913267,
          -0.6138258832318063,
          -1.4618904480066255,
          -0.7196069306464887,
          -1.2787813986762406,
          -0.20774692175067916,
          -0.2071277823861036,
          -0.07980636867442409,
          -0.3983976746902845,
          -0.06741982874296101,
          -0.3606322342461533,
          -0.13609633341513327,
          -0.0907278320669724,
          -1.0850811570767132,
          -0.6055254570763923,
          -0.6423620658530553,
          0.3770666100813352,
          -0.5621717886295194,
          -0.2383459878635275,
          -1.6790536057985235,
          -0.1868356222981897,
          -0.34233962983235716,
          -0.2071277823861036,
          -0.18306540433167964,
          -0.18306540433167964,
          -0.1823618886757634,
          -1.4881166010686318,
          3.934357014825063,
          0.5261784611595514,
          1.6291082673690311,
          3.4314006917183515,
          -0.9085943493038138,
          3.1478481971315806,
          0.43446431022207405,
          2.902525114274949,
          4.21392388719616,
          -0.5529448317570068,
          -1.4949407965727282,
          -1.023901795669946,
          0.4250225514001533,
          -0.9458239998472493,
          -0.39883293580071205,
          -1.7011593671098222,
          -0.09335696459651954,
          1.242903479257178,
          -0.392606997962813,
          1.0936002945402894,
          -1.7609555144771807,
          0.40698578445915684,
          -0.49220279952891527,
          2.2783016455882974,
          -0.3749209529848195,
          -0.8711459062727258,
          -0.16144716402028197,
          -1.8449120012340798,
          -0.7550844703364764,
          -1.4257139051635193,
          4.893338423116972,
          -1.0989672357089584,
          0.05883239134306284,
          -0.3540669118898837,
          -1.3152591423068882,
          -0.09335696459651954,
          -0.14049070334680328,
          2.152921068172647,
          -0.01471582754174444,
          2.868678991734834,
          -0.09335696459651954,
          -1.0957159943445502,
          -1.2956518308441434,
          -0.22167127909946976,
          -0.23384766794332276,
          -0.08996931561599525,
          -0.23384766794332276,
          -0.07641871969390643,
          -0.690681687884001,
          -0.5985798014739697,
          -0.7751998468289275,
          -1.4128665160618772,
          -0.06257160109001449,
          -0.4224600527447045,
          -0.4526265240812382,
          2.276039172387893,
          -0.14049070334680328,
          -1.2407617375007303,
          -0.2153322703586081,
          -0.09335696459651954,
          -0.1806226144264712,
          -0.1806226144264712,
          -0.18660498779704776,
          -0.07303107071338218,
          0.2250222713050796,
          -0.17483929912428298,
          -0.049401898488929306,
          -0.011815003872312522,
          -0.13170196348347296,
          -1.3772700751533802,
          -0.1789523517279813,
          -0.18306540433167964,
          -0.1051416478236059,
          -0.16997180442265297,
          -0.3167189478416028,
          -0.1806226144264712,
          0.0018980900215040703,
          -0.08319401765494784,
          -0.23046001896279839,
          -1.8326941799530034,
          0.8139031427217472,
          3.309711144209209,
          0.4465904410523567,
          -0.5181463292673836,
          0.8868350535941111,
          0.10048373975476674,
          -1.177453211780133,
          1.287636241265062,
          4.796668492009064,
          -0.03248313390861305,
          -0.30868923495512063,
          0.001507373146798416,
          -0.08085047961072389,
          1.8906394410358491,
          -0.2934854777741021,
          1.986309898183672,
          -0.3836850731646292,
          -0.13386155935506566,
          -1.6747915648067038,
          -1.4742630281224476,
          0.0982852591704282,
          -0.37069586073560157,
          -0.41007591243811625,
          0.02057564777441367,
          0.7395464610274253,
          -0.28444877551188535,
          -0.14032709300770663,
          -0.06257160109001449,
          -1.3874786026485375,
          -0.13815327490836482,
          -0.7196069306464887,
          -1.5708117458456872,
          -0.4955405550462322,
          -0.6955445525920532,
          -0.4981824448642189,
          -0.09335696459651954,
          0.17783778183495255,
          -1.0817281571215376,
          -1.1443664426116633,
          -0.09335696459651954,
          -0.7196069306464887,
          -0.1607767933394807,
          -0.3846498206490782,
          -0.09335696459651954,
          2.1558205043347245,
          -0.27397957902299436,
          -0.09335696459651954,
          -0.7752282076404939,
          -0.09335696459651954,
          1.5900369055360906,
          -0.2071277823861036,
          -0.14049070334680328,
          -0.9102994975282849,
          -0.7851970896671594,
          -0.19136583048710587,
          -0.09335696459651954,
          -0.3935160887673748,
          -0.8500257411250486,
          -1.149127285301734,
          -0.04016262876121368,
          -1.4844243036215723,
          -1.31724410455209,
          -0.5155547369139128,
          -0.8133702532569077,
          3.4172862807671396,
          -0.06330696324198133,
          -1.1113514032219078,
          4.606939433296075,
          -1.7507624172343499,
          -0.02195009588090329,
          -0.6732559415998474,
          -1.3957790288039706,
          -0.24288289219292766,
          -0.9787279676805074,
          -0.7783379079178978,
          2.846063325788262,
          -1.293269879507044,
          2.6162779587924043,
          -1.7037922888231471,
          -1.0015013344147192,
          2.7036585056677476,
          -0.36107431292398195,
          0.647087555466083,
          -0.12965075880715107,
          -0.9273538523971845,
          -0.9775139019899636,
          -1.2623518535505047,
          -0.15011680287953202,
          -1.3976813443553364,
          -1.341710137707899,
          0.040306133773846606,
          -0.5530898702011421,
          -0.07998457026740963,
          -1.4833671597252402,
          -0.0041895194996652094,
          -0.12730759355180357,
          -0.207910532089761,
          1.6084375879226969,
          -0.2648805214603892,
          -0.3162698699917035,
          -0.06679707655368632,
          2.6429972783544087,
          -0.7809120528489679,
          -0.6273637567107032,
          -1.1154419517524914,
          -0.5407713211750637,
          -0.11851885368848054,
          -0.06741982874296101,
          -0.09335696459651954,
          -0.06741982874296101,
          -0.7435733705179812,
          -0.2071277823861036,
          -0.9208484494016181,
          -0.06257160109001449,
          -0.39019318671778075,
          -0.8144180426207382,
          -0.14049070334680328,
          -0.2071277823861036,
          -1.567120934712796,
          -0.2071277823861036,
          -0.13664726491973378,
          -0.2351718700244988,
          -0.27397957902299436,
          -0.1757791666449125,
          -1.515663979652003,
          -1.8588136971107083,
          -1.6446221827665026,
          -1.2959373393617337,
          4.559177438311076,
          2.487556908230661,
          -0.05461815146847105,
          -1.6133729899441185,
          -0.05035293015369414,
          4.450987282890593,
          -0.12358289077228492,
          2.0681352134711517,
          1.418477713992645,
          1.03033696058655,
          -0.9508191420226141,
          -0.1607767933394807,
          -0.6651074499292846,
          -1.6685848572474113,
          -1.2572166445110438,
          -1.7286465756725664,
          -0.06223093006418375,
          -0.11673735659268591,
          -0.13331808284578675,
          -0.061269044796974155,
          0.05225925111512784,
          -1.7164201687628031,
          0.16871553901518513,
          -0.7581039131709221,
          0.0006112764108341554,
          -0.12965075880715107,
          1.078284356907655,
          0.2808892538654033,
          -0.06741982874296101,
          -0.01144598287427347,
          -1.1575715567848557,
          2.4038655037080385,
          -0.1607767933394807,
          -0.35940012609993643,
          -0.8487176560778394,
          -0.27892816090087,
          -0.4625163199865101,
          1.0350968247720151,
          0.40172790252221824,
          -0.3181162703998639,
          0.31928216929986875,
          -0.23384766794332276,
          -0.9916349296430327,
          -0.14049070334680328,
          -0.41447028236979305,
          -1.5788444331356721,
          -0.05077671683698213,
          -0.09335696459651954,
          0.8403243433035226,
          -0.8067713876949417,
          -0.5791162272996807,
          -0.031058121345834737,
          -0.09335696459651954,
          -0.0907278320669724,
          -0.15945497816539783,
          -0.2226780000506043,
          -0.3462640134862646,
          -1.4993311241803178,
          -1.0541918586082613,
          -0.2153322703586081,
          -0.057723373437059765,
          -0.5898049883657315,
          -1.2601558224864604,
          0.05234199941914452,
          2.4021116030587444,
          -1.5749162991585026,
          -0.12094369150591928,
          -0.12307839238578928,
          -1.8246581677355336,
          -1.5126257120521964,
          -1.6445960827593764,
          0.5189850621295395,
          -1.3054348680930863,
          -1.4052001075649039,
          -0.4613337527469283,
          0.40306170279135545,
          0.6250853301791421,
          -0.06790791635762439,
          0.25465250615348534,
          -0.23384766794332276,
          -0.41447028236979305,
          0.18075406047580472,
          -0.22273671166702727,
          0.16190380276762525,
          0.4085511453338318,
          -0.9201688958806287,
          -0.22574513207802777,
          0.7262730007718329,
          -0.059552711794041806,
          -0.29438616408336116,
          -0.1607767933394807,
          1.0328668616665788,
          -0.014884671727547927,
          -1.5430154954836535,
          -1.7483383034078595,
          -0.2122692898536666,
          -0.04697012841119578,
          0.5693659781243425,
          -0.3211133177732661,
          0.0465815337472409,
          -0.7147634828649342,
          0.8841672688406723,
          -0.22757386989316536,
          -0.09335696459651954,
          -1.332408795267331,
          1.7458247991419527,
          -0.2619593641155435,
          -1.0295493739087018,
          -0.19136583048710587,
          -0.1806226144264712,
          0.1484240337644454,
          -0.1723224597268565,
          -0.3226154473711152,
          -0.23384766794332276,
          0.09006743600556073,
          -0.1806226144264712,
          -0.18721768596275926,
          -0.31270732612202073,
          0.5612149196744302,
          -0.0934405543583781,
          -0.1347731375955282,
          -0.1806226144264712,
          -0.05529925961058798,
          -0.33259277409849036,
          -1.7363895469485777,
          -0.10250872611028371,
          3.439334989626575,
          -0.9472739644271009,
          2.626463966669709,
          -0.5227723858803947,
          -0.13737700857372703,
          -1.7491371915431768,
          2.6828417319369176,
          -0.6393803227518298,
          -0.3482376250974764,
          0.6382969212450342,
          1.327830405472771,
          -1.6032583623499461,
          -0.7826839500421721,
          0.5357341106883411,
          -0.3867298557015588,
          -0.09335696459651954,
          -0.2207115273223198,
          -1.5376159223306294,
          -0.23368922685978039,
          -1.27011893930182,
          0.008817378079876982,
          -0.11359486759947841,
          0.0991674240342789,
          -0.30839368683134677,
          1.7526001787766374,
          -0.019826948142494707,
          -1.6798615333098486,
          1.9353568472052507,
          -0.026342770966726613,
          -0.019587224470455238,
          0.580747986216859,
          -0.8026071880732164,
          -0.13703158439242488,
          1.994309029142593,
          -0.04697012841119578,
          -0.14049070334680328,
          0.2253841994384152,
          -1.8081641476081296,
          1.3492956291761287,
          1.3347768201786812,
          2.578884906815189,
          -0.09335696459651954,
          1.1058124363565203,
          4.64113674973362,
          -0.23384766794332276,
          -0.1806226144264712,
          -0.09335696459651954,
          -0.20033866426518945,
          -1.1551456034481378,
          -1.730578136928489,
          -0.9721833803128498,
          -0.23046001896279839,
          -0.2071277823861036,
          -0.3167189478416028,
          -0.9666323127010056,
          -0.13609633341513327,
          -0.06741982874296101,
          -0.4255872146384661,
          -0.884282409227764,
          -0.06741982874296101,
          0.04738394619062932,
          -0.21187581828499416,
          -0.17093571886334485,
          -0.09335696459651954,
          -0.4341298903918272,
          -1.098595144684358,
          -0.11753234848105222,
          -0.17708330241691694,
          -1.8033459306197974,
          -1.475249068837431,
          2.7687920640662504,
          -1.665398402483176,
          0.8502039102074938,
          -0.8150990433990368,
          0.8345703217307762,
          -0.5080847783287225,
          1.622985899766209,
          -0.46296656925632435,
          -0.9472739644271009,
          -0.18060374148196634,
          -0.027256719087032966,
          -1.4387075269199903,
          -1.7313683849110733,
          -0.1316560339446272,
          0.09127042753460912,
          4.815048398270569,
          1.54927857850322,
          2.1754935006368536,
          -0.06223093006418375,
          -0.43831716600160653,
          -0.045602804304684816,
          0.27647549339022276,
          -1.3414427073564565,
          2.926034595852609,
          0.6646535498374003,
          0.08218696640835951,
          -0.481890111112738,
          -1.742314799214517,
          -0.23384766794332276,
          -0.004566146489504746,
          -0.08775826416683065,
          -0.10037445616302239,
          -0.25048523307463094,
          -0.3030867601967069,
          -0.9028787585006421,
          1.213835053402182,
          -0.41447028236979305,
          3.540987315462617,
          -0.48960914290226565,
          -0.019826948142494707,
          -0.41447028236979305,
          -0.11851885368848054,
          -0.21202214995099466,
          -0.07641871969390643,
          -1.2896179886485009,
          -0.17161338331176956,
          -0.1757791666449125,
          1.2147402671917085,
          -0.06964342173285738,
          -0.5791162272996807,
          -0.23384766794332276,
          -0.3631309289319393,
          -0.17161338331176956,
          -0.3211133177732661,
          -0.0649957149164871,
          -0.5748475879204407,
          -1.2371485869582584,
          -0.43633377179947463,
          -0.5458578272522778,
          -0.06679707655368632,
          -0.1532790889666045,
          -0.3267893176435759,
          -0.207910532089761,
          -0.18306540433167964,
          -1.7785307225823912,
          1.9442819385207202,
          2.5375636596753233,
          1.3664688840521864,
          1.362763976891225,
          1.2355428679338865,
          2.094386411225336,
          -0.8995067160758732,
          2.7746268358017097,
          -0.5551291976829001,
          -0.004462651282366921,
          -0.4262606773428169,
          0.5605039979708059,
          -0.08556864278622009,
          -0.8138355718458593,
          2.8963968903994988,
          1.7647542740476168,
          -1.2823659005815224,
          -0.1607767933394807,
          1.654298336088748,
          0.7114813736843598,
          0.8089223523847215,
          0.9130653011474988,
          -0.9328762872542489,
          -1.5555364298116023,
          0.5322110716138106,
          -1.6680921643296447,
          -0.1607767933394807,
          -1.6988147647173253,
          0.24986163587149288,
          -0.060019203429707846,
          -1.5686180820424203,
          3.138308812472398,
          1.5450548598872258,
          -1.5788444331356721,
          -0.06678258827576218,
          -0.2135663723064278,
          1.3933406582147125,
          -0.258244905180274,
          -0.015260801652989174,
          -0.06741982874296101,
          -0.004566146489504746,
          3.004934715112294,
          -0.09067800085711977,
          -0.24353017292350457,
          -0.7675481652596075,
          0.28113116332171656,
          -0.09335696459651954,
          -0.5905249720403452,
          -0.15108033803357726,
          -0.23384766794332276,
          -1.1702624231984025,
          -1.6606789770861003,
          -0.2480092472726561,
          -0.08996931561599525,
          -0.4874399592276255,
          -0.17708330241691694,
          -0.8404519387932013,
          0.17150766246943322,
          1.1191483398683233,
          -0.20711396222623837,
          -1.128232929285354,
          -0.09335696459651954,
          -0.2128825392361402,
          0.12407780342753097,
          -0.0649957149164871,
          -0.7509195390162412,
          -0.09335696459651954,
          -0.13220856772201853,
          -0.23384766794332276,
          -0.9254309036041652,
          -0.6732559415998474,
          -0.14375740358647912,
          -0.09335696459651954,
          -0.7758291771629754,
          -0.1607767933394807,
          -0.14049070334680328,
          -0.36189623765879886,
          -0.5192318690446898,
          -0.1675616170367958,
          -0.06741982874296101,
          -0.13609633341513327,
          -0.14049070334680328,
          0.11365390698112411,
          -1.646264261878595,
          -0.2153322703586081,
          -0.14049070334680328,
          -0.4277791408600909,
          -0.2836246195628445,
          -0.08863619183465776,
          0.7483401934471807,
          -1.3283296850740378,
          -0.012798166891842511,
          -0.9228929458017524,
          -1.0215208676405176,
          0.391252838680242,
          2.6636097659510405,
          1.447259649016278,
          -0.22300772340367092,
          -0.12965075880715107,
          3.791846552698774,
          -0.8467996605514149,
          0.07702555042398847,
          -0.7675884400615229,
          -0.20774692175067916,
          0.14274847469838614,
          0.19350739089907815,
          -0.15110929686559252,
          -0.06837569454333321,
          -0.8413708751079767,
          -0.4821169313782986,
          -0.0348128732207499,
          -0.481890111112738,
          4.4786571177736905,
          -0.08474629223232848,
          0.6290820020576301,
          0.20313558317088384,
          -0.4560672830292359,
          -0.34677483928651215,
          -0.5791162272996807,
          -0.4350454489847462,
          0.8842156414821906,
          -1.2743870287445507,
          -0.481890111112738,
          0.7876220111752537,
          -1.0235353229115929,
          -0.15136136019284147,
          -0.06741982874296101,
          -0.026209893692882857,
          -0.1607767933394807,
          1.0270013325471208,
          -0.13656620695743676,
          -0.23384766794332276,
          -0.16260525960925803,
          -0.21651040416775555,
          -0.8129638952429911,
          -1.5555364298116023,
          -0.23384766794332276,
          -0.06741982874296101,
          -0.207910532089761,
          -0.03780285507301111,
          -0.08996931561599525,
          -0.2734423765055107,
          0.048937634927848694,
          -1.5430154954836535,
          -0.2288304804788921,
          -0.059699507682071086,
          -0.1772626377510857,
          -0.1607767933394807,
          -0.15478989928311782,
          -0.6724731918961868,
          -0.07641871969390643,
          1.025437763218789,
          -0.057723373437059765,
          -0.14049070334680328,
          -0.0780926958475303,
          -0.06741982874296101,
          -0.08996931561599525,
          -0.7105976995317762,
          -0.06741982874296101,
          -0.08658166663547247,
          -0.09335696459651954,
          -0.14049070334680328,
          -0.1757791666449125,
          -0.24633950657968207,
          -0.19136583048710587,
          -0.16661319391689403,
          -0.3482376250974764,
          -0.30575578764126937,
          4.229745843368891,
          -0.3402522241639739,
          2.6923409475062945,
          1.8555878114929285,
          -0.22718263124382213,
          0.33922443870721497,
          -1.445205883309219,
          -1.7413670710544895,
          0.25757157266420844,
          -0.4897909455600708,
          -0.045532967000155196,
          -0.20287869889781318,
          -0.36150070193968314,
          -0.3027012675636397,
          2.2872735651054574,
          -0.3883695361771403,
          2.746194022786626,
          -0.05372543117233825,
          -1.3163582204724014,
          0.5229439874501474,
          1.75809114685346,
          1.7238079968602995,
          1.1157219786128107,
          -0.3280194224074322,
          1.9470540236746112,
          1.9614509077998419,
          -1.159624620295082,
          -0.371084226154396,
          -1.4575215340515315,
          -0.07586872691440905,
          -0.11438995715416027,
          -0.06741982874296101,
          -1.2337997543983434,
          -0.23384766794332276,
          -0.6357193630637408,
          -0.5288602395239388,
          -0.09335696459651954,
          -0.27397957902299436,
          -0.2071277823861036,
          -0.1806226144264712,
          -0.8711843121984203,
          -0.9700370189230755,
          -1.21136156993327,
          -0.14049070334680328,
          -0.043914370631800294,
          -0.22368472100174983,
          -0.6855330913603264,
          -0.0528751457841118,
          -1.4400995743681984,
          -0.3696703921287277,
          -0.3047573687271253,
          -0.30048474698262306,
          0.4516484779102785,
          1.2291293975407664,
          -0.5342234735299363,
          -0.3211133177732661,
          -0.5966809002351642,
          -0.13995385593795787,
          -0.4077555631896424,
          -0.13638203283464315,
          -0.2071277823861036,
          -0.16661319391689403,
          -0.3883551724492009,
          -0.04931752784972265,
          -0.5881124656799227,
          2.000613299229225,
          0.1561251613788546,
          2.4702763652369315,
          3.3749143387578395,
          2.853211008008793,
          4.132826961318522,
          -0.12199097211587334,
          2.4054400595234733,
          0.6304401290378276,
          0.5075922671242042,
          -1.2548284866772774,
          0.7017409902381508,
          -0.286893061469066,
          -1.56057945258091,
          -0.5386972048049385,
          -1.4255159441447052,
          -1.7280356235777163,
          -0.9426146540501211,
          -0.8950098905477075,
          3.4651872125997767,
          1.6196336328053016,
          -1.3455784752299602,
          0.9166224219908351,
          3.423991746588598,
          1.9882800930673896,
          -0.47704546099397355,
          0.0903615935822828,
          -0.8755402762043882,
          -0.23384766794332276,
          -1.149127285301734,
          -0.06741982874296101,
          -0.684257875123295,
          1.694503270253413,
          -1.7037343492527324,
          -1.394759636472125,
          -0.9097189587060356,
          -0.186799201580429,
          -0.34115752516320885,
          -0.535875232995323,
          -0.1607767933394807,
          -0.05948047479129228,
          -0.19136583048710587,
          2.0366564633974615,
          0.14789747599354633,
          -0.10954172950120826,
          -0.39554556909343,
          -0.17161338331176956,
          -0.0649957149164871,
          -0.3211133177732661,
          1.950994154301692,
          -0.09456869164176086,
          -0.1607767933394807,
          -0.09335696459651954,
          -0.8129638952429911,
          -0.04254222988867839,
          -0.09335696459651954,
          -0.5316021403503024,
          -0.1757791666449125,
          -0.1806226144264712,
          -0.1418984990520908,
          -0.1806226144264712,
          -0.2916591034107928,
          -0.7968912875635166,
          0.34354254339605617,
          -0.6732559415998474,
          8.005104636491295,
          0.5960168625166163,
          0.8416681481710887,
          -0.016082368395900083,
          9.56495735049069,
          -1.263848826358711,
          -0.1074516271999264,
          1.6931877646776,
          -0.2918895307944571,
          -0.143907868793026,
          -1.2776656666723136,
          -0.4909101772624458,
          -0.11206352629777862,
          -0.45101924560710327,
          2.174992445833117,
          0.771899355505274,
          1.277766986993263,
          -0.24640886869426787,
          1.01117174512269,
          0.3203782977859468,
          0.03418997962663997,
          0.002132200425594169,
          -1.551505239646904,
          0.8084424971489319,
          2.4191993420627775,
          0.5355874260467142,
          -0.07376887108524209,
          -0.3595245004837261,
          -0.9926721341849404,
          -0.15538824399741294,
          -0.687598784773324,
          -0.393067713232598,
          -0.48548564996796945,
          -0.7354868716640678,
          -0.30126749668628283,
          0.1289282877559413,
          -0.25311480454073465,
          1.7231255048537628,
          1.6867884287556862,
          1.7911595392805733,
          0.41177306976944583,
          -0.18434236347448346,
          3.800778116774461,
          -0.09335696459651954,
          -0.08457266416097488,
          -0.13614639526407085,
          3.0374457319362964,
          -0.6160697111912682,
          0.3196978655598952,
          -0.10094137396182278,
          -0.20215025828027053,
          -0.14049070334680328,
          -0.14049070334680328,
          -0.36167492142247015,
          4.93333102533906,
          -0.4407680679762255,
          -0.16233006543357828,
          -0.3364950619862186,
          -0.08996931561599525,
          -0.1806226144264712,
          -0.21559087223745269,
          -0.19136583048710587,
          -0.17708330241691694,
          -0.2859583583199518,
          1.2153325876876464,
          -0.36753368890244476,
          -1.1716413341012277,
          1.1743963099047618,
          0.48169811685868724,
          -1.0897189263783806,
          -1.1531974830653036,
          0.824949860149639,
          2.1034798828894816,
          5.578276023839409,
          -1.2787813986762406,
          -0.14943946085483167,
          -1.6025065582228193,
          1.1636484351310559,
          -0.8885882119584316,
          0.5476175380708272,
          -0.9273538523971845,
          1.6704074099718182,
          1.8268726741334285,
          0.21994907973676867,
          -0.2206645581483227,
          -0.35440595397742014,
          -1.0430556955408974,
          -0.6058361128568907,
          -0.2934854777741021,
          -0.12373863057389858,
          0.4766089951359438,
          0.6758398652868479,
          -0.20774692175067916,
          -0.4184010682958457,
          -0.19136583048710587,
          -0.481890111112738,
          -1.335255363640321,
          -0.10432644887919228,
          0.6651260935376959,
          -0.14049070334680328,
          -0.13609633341513327,
          -0.3462154515733956,
          0.2229679422329923,
          -0.3211133177732661,
          -0.1843652700881431,
          -0.3959548847850733,
          -0.06741982874296101,
          -0.1607767933394807,
          -0.15767343459663488,
          -0.06741982874296101,
          -0.03933073396270756,
          -1.1709567353281012,
          -0.5282411001593741,
          -0.06741982874296101,
          -0.1806226144264712,
          -0.15350445186005607,
          -0.46008064038163315,
          -1.3507059179049734,
          0.8692284382098342,
          0.5957129746763175,
          -0.08658166663547247,
          -0.30126749668628283,
          -0.5690020024720325,
          -0.9349392010051083,
          -0.13609633341513327,
          -0.4614053407695824,
          -0.14049070334680328,
          -0.35021060519800123,
          -0.5791162272996807,
          -0.388971927493088,
          -0.7528845903965126,
          -0.13609633341513327,
          -0.1757791666449125,
          -0.581559017204884,
          -0.08319401765494784,
          3.1729758635417826,
          -0.04833323174364907,
          -1.009998543749979,
          -1.298267356649842,
          -0.6825782837711875,
          -0.20774692175067916,
          -1.1625130708981992,
          1.1271781887626868,
          5.257129728902365,
          -0.22291661374183713,
          6.241262400355128,
          0.686428021758409,
          0.8605064709295633,
          2.7538320409370285,
          2.0631921861028153,
          0.44564321912973137,
          0.42621867406439085,
          -0.1401323559360612,
          2.5373552316284242,
          -0.41408029078488784,
          -0.16344201160653568,
          -1.2362726873750374,
          1.9605646178601805,
          1.8618616806227237,
          -0.34410667802942924,
          -0.09339127597074598,
          -0.06741982874296101,
          -0.07239275503248199,
          0.16119457645441185,
          0.7823830934846716,
          3.142837892589218,
          -0.4320667949912935,
          0.29272419737875405,
          0.1275326087459769,
          -0.11286207826446384,
          -0.04697012841119578,
          -0.040858612852404136,
          1.6115313302019454,
          -0.12965075880715107,
          -0.6885672875253093,
          -0.2125350004153544,
          2.3120390140078446,
          -0.23243199210976317,
          -0.15011680287953202,
          -0.196665131996284,
          -0.3411437547689444,
          -0.04697012841119578,
          -0.09335696459651954,
          -0.05961310295199595,
          -0.8715949841226343,
          -0.1806226144264712,
          -0.6232188652303806,
          0.8295384706978178,
          2.8568947066582533,
          -0.1757791666449125,
          -0.40932798385159314,
          -0.14769268905305408,
          -0.06257160109001449,
          -0.07980636867442409,
          -0.09335696459651954,
          -0.27397957902299436,
          -0.14049070334680328,
          -0.307709716726912,
          -0.5563951775551357,
          -0.25718524971756324,
          -0.6009926650753302,
          -0.20685836300335145,
          -0.5288602395239388,
          -0.6138258832318063,
          -0.18660498779704776,
          0.22215910991277957,
          -0.6272157880675565,
          3.65828644133138,
          1.0748515380352897,
          -0.5288602395239388,
          7.169779450049233,
          3.3481448861900893,
          -0.8873693787878049,
          2.1900862172842883,
          1.5975638552810385,
          0.14351969677723575,
          0.9569657486895667,
          -0.009696728398663796,
          -1.1886555989634366,
          0.08198784112058947,
          -0.06741982874296101,
          -1.3354805398110074,
          -0.4072769059527826,
          -0.40687454517434696,
          3.047349102012205,
          -0.03991338560930023,
          -0.06741982874296101,
          -0.3895144598426172,
          -0.27647471838953974,
          -0.047948305329573414,
          -1.2896179886485009,
          -0.1607767933394807,
          -0.10698933184090308,
          -0.15253263588236568,
          -0.46534540951008213,
          0.08511073258350886,
          -0.6055254570763923,
          2.9826653747426968,
          1.0154421763321824,
          -0.25418712036652336,
          -0.21525959696196373,
          -0.07654205063679782,
          3.1074348941524104,
          1.5860689172243003,
          -0.13606916343905845,
          -0.0057315549452852995,
          0.46046704109362757,
          -0.07896952430350318,
          -0.10926050421874078,
          0.6726863278495028,
          -0.0649957149164871,
          -0.13645337207608244,
          -1.1388591292157306,
          -0.14049070334680328,
          -0.09335696459651954,
          -0.11286207826446384,
          -0.23384766794332276,
          -0.10299831545505786,
          -0.6058361128568907,
          -0.23384766794332276,
          0.87985659684903,
          -0.37198844491357863,
          1.145241162109641,
          -0.029054709824562996,
          0.045430548261830093,
          0.23010533581083664,
          1.3785785174537681,
          -0.10369480492627856,
          -0.19136583048710587,
          0.07392113085976207,
          -0.46431263138607953,
          -0.09335696459651954,
          -0.2780026577581651,
          -0.15156192773711033,
          -0.04697012841119578,
          -0.5693778605037892,
          -0.06786107380269994,
          -0.1335660878420962,
          -0.045602804304684816,
          1.9013566281129635,
          -0.09335696459651954,
          0.2841759277147967,
          -0.39952735693048774,
          -0.5645858839549951,
          -0.299141468114947,
          -0.14049070334680328,
          -0.21251505310904426,
          -1.0717626954590247,
          -0.729115544992768,
          -0.4496965327375524,
          1.7420855479267499,
          -0.5806416539083307,
          -0.15391612950337233,
          -0.07958321346749157,
          1.3742350648791914,
          -0.11995319013616063,
          -0.08658166663547247,
          4.089534730914335,
          -0.9900292089665808,
          1.5507756395096755,
          -0.7270393183844474,
          -0.30868923495512063,
          -0.18202621228433957,
          -0.8182810674728415,
          0.6399960434098169,
          -0.14526857522657607,
          -0.08319401765494784,
          -0.8030088470313405,
          1.7642567403271552,
          2.58332941321147,
          -0.7571060245292992,
          -1.3734760705582378,
          -0.6023219718934011,
          0.301567781078548,
          -0.3085085749500358,
          1.270501492187182,
          -0.06964342173285738,
          -0.06684137819109626,
          1.2355923246241596,
          -0.08556518222031244,
          3.44554905218182,
          -1.142686122755752,
          -0.07750951005989912,
          -0.002925814105384624,
          -0.9378538113600644,
          3.5660781798593675,
          -0.13609633341513327,
          1.7070354032845787,
          0.6472437022980984,
          -0.29016434392767143,
          1.7308892300921357,
          0.5563676374062451,
          -0.07635954803578074,
          -0.1660922710817857,
          -0.04544224952149676,
          -0.44110211342942757,
          -0.09335696459651954,
          -0.161612446129956,
          0.13301455611622715,
          -0.060147487263535394,
          0.4716771551030949,
          -0.01471582754174444,
          0.41507891070736674,
          0.28652302244385053,
          -0.10710050430441109,
          -0.17174280253386198,
          -0.3787125800121951,
          -0.3477712060057675,
          -0.27557228013771895,
          0.07506192829515156,
          -0.39849361287321156,
          0.23112826830471253,
          -0.14049070334680328,
          1.3489017855463776,
          -0.12882737384234177,
          -0.3636880187581437,
          -0.19136583048710587,
          -0.07303107071338218,
          -0.31510843368873703,
          1.464751195469049,
          -0.00007499834173604121,
          -0.2071277823861036,
          -0.11899347036904906,
          -0.48257092793739875,
          -0.39849361287321156,
          -0.18660498779704776,
          -0.34503048823689497,
          -0.289207315699301,
          0.19514021279438112,
          -0.08658166663547247,
          -0.10973011382515162,
          -0.35582297370540544,
          -0.2226780000506043,
          0.5610970175378235,
          -0.34894750962178156,
          1.9967616723396353,
          -0.083727449460508,
          -0.19587656566824896,
          -0.138935695266207,
          -0.08775826416683065,
          2.8590656123228277,
          -0.12397914618939679,
          -0.057326353097905416,
          -0.05529925961058798,
          -0.4238450006344822,
          -0.011665210734032302,
          1.1521384167134012,
          1.0378678537330752,
          0.7634198201926706,
          1.4516717245741517,
          -0.05678118895173472,
          -0.7327057601940524,
          -0.1417419106451645,
          -0.12485355239277322,
          -0.10251062821746032,
          1.0848416169330868,
          2.619514305149497,
          1.6095909218183804,
          -0.3123245779099477,
          0.15171249128973968,
          0.8892432094609031,
          0.13030916529541164,
          -0.26353743081173325,
          1.5492480855979884,
          -0.1336345658567431,
          -0.6952107678137304,
          -0.5388471057665805,
          -0.3136678618875292,
          0.7210166159396867,
          -0.09335696459651954,
          -0.3162698699917035,
          -0.274129385286146,
          -0.4600268267057883,
          -0.20774692175067916,
          -0.09335696459651954,
          1.4833402498240753,
          -0.01170366790687783,
          0.5369576130418021,
          -0.143807996554152,
          -0.1607767933394807,
          -0.30368418582679124,
          -0.08996931561599525,
          -0.6820517023856204,
          -0.6273637567107032,
          -0.32810696419851015,
          -0.23046001896279839,
          -0.07273463152852529,
          1.264705885968933,
          -0.09335696459651954,
          -0.7354868716640678,
          1.9780415761254135,
          -0.6554867540251582,
          -0.01362587931925406,
          -0.34850785608179297,
          0.8872910745331325,
          1.0764864715669384,
          -0.23384766794332276,
          -0.09398501731941324,
          0.8700262092673039,
          -0.06741982874296101,
          -0.28472279508363174,
          -0.6982395013406699,
          -0.5962318223852583,
          -0.14049070334680328,
          -0.2146625066853802,
          1.722277992489244,
          -0.1660922710817857,
          2.14794148694441,
          -0.27181346072298557,
          -0.3094352090028084,
          -0.42718980815917923,
          -0.14049070334680328,
          -0.24349073819829053,
          -0.19633450498499452,
          -0.2071277823861036,
          -0.5813868495138593,
          -0.5236830387639335,
          0.15596515129705973,
          0.17145310623339635,
          -0.015260801652989174,
          -0.12922541597269355,
          -0.3111132654561226,
          -0.8580713617290988,
          -0.015839250404962427,
          -0.17267444425687295,
          0.07976886784025747,
          -0.4032750474884808,
          -0.08542127700212299,
          1.4944692893371796,
          1.4903425659911138,
          -0.7419917629617205,
          0.0129270326276436,
          -0.8573796423035568,
          1.1338154566402854,
          0.72610795749955,
          1.3117272363123413,
          0.04884883904080006,
          0.5185769287940238,
          0.3093086782085142,
          0.14106835253068262,
          -0.02727242053058101,
          0.6143313699874666,
          -0.341891059814373,
          -0.02408036267586441,
          0.16620898032572085,
          -0.20097162378962893,
          -0.3211133177732661,
          -0.06741982874296101,
          -0.5796337375786843,
          2.3583361029466023,
          1.3289372475156036,
          -0.06741982874296101,
          -0.17646114959926498,
          -0.12335313668815076,
          0.021099419261845123,
          -0.11861410264478946,
          0.48943452302359447,
          -0.5517276108185178,
          1.697272149822652,
          -0.21455754621697976,
          -0.23753574836722371,
          -0.05841365029425026,
          -0.34070166796290424,
          -0.09335696459651954,
          0.204630010884602,
          -0.6058361128568907,
          -0.05270517683024667,
          0.764903662439813,
          1.0560847307715688,
          -0.20548641826328404,
          -1.0282961656015766,
          -0.9444233294450409,
          -0.13170196348347296,
          -0.3959966902800509,
          -0.13609633341513327,
          -0.5205062152586509,
          -0.3908029694709515,
          -0.08658166663547247,
          -0.09335696459651954,
          -0.10375871248104623,
          -0.18660498779704776,
          -0.2153322703586081,
          -0.26946519047051426,
          -0.07457012419645401,
          -0.3576233117519017,
          -0.2153322703586081,
          -0.3907021213118769,
          -0.182240161856919,
          -0.3282792173414329,
          0.004725508634027411,
          -0.007928027957213254,
          -0.1170560932616681,
          1.0042752950466443,
          -0.13784474569323266,
          -0.12965075880715107,
          -0.1868120817395788,
          -0.27749243293065173,
          4.579640117794544,
          0.6993396003213103,
          -0.28666699401595797,
          -0.1607767933394807,
          -0.5152280518790648,
          -0.1691633511549541,
          0.7560333027166447,
          -0.0778226768336537,
          0.1383159928972375,
          0.8222329514213521,
          -0.5264361256974724,
          1.5457891597322237,
          -0.15592856568652208,
          -0.004566146489504746,
          -0.07384868435506968,
          0.8605526871993526,
          -0.015260801652989174,
          -0.2833728387879022,
          1.2300235588839836,
          -0.27454567802015445,
          -0.23046001896279839,
          1.2652263586190844,
          -0.2171959605966669,
          -0.09399834962037305,
          -0.14049070334680328,
          -0.12882737384234177,
          -0.11851885368848054,
          -0.14318191133651545,
          -0.2885996930903349,
          0.44438083957400226,
          -0.06223093006418375,
          -0.13170196348347296,
          -0.8225166056313207,
          -0.13933333287120583,
          0.12338644638616889,
          0.7565983930222252,
          -0.2602773200718646,
          -0.030194489222141033,
          -0.15884812998068348,
          -0.12291322362014612,
          0.5403282791870626,
          0.4336766204431287,
          -0.20774692175067916,
          -0.04697012841119578,
          0.42684592799379417,
          0.195542504134895,
          -0.10973011382515162,
          -0.3329758787259454,
          -0.14865622420709876,
          -0.09302381372902475,
          -0.35817286505634144,
          -0.12291322362014612,
          0.25868652066633796,
          -0.1011985865970735,
          -0.2241862209126426,
          0.982325656304578,
          1.7469748369130014,
          -0.019826948142494707,
          0.04456197521353728,
          -0.14543021018019117,
          -0.10973011382515162,
          -0.09335696459651954,
          -0.3211133177732661,
          -0.15367375102955186,
          -0.13560584750816274,
          0.1611639398884315,
          1.959315301326821,
          -0.44037291795418604,
          -0.14049070334680328,
          -0.1723224597268565,
          -0.06741982874296101,
          0.49430179830075033,
          -0.14049070334680328,
          -0.09335696459651954,
          -0.14480208359091862,
          -0.15735254132774193,
          -0.2287351406410263,
          0.05270211043343158,
          -0.48589190894051754,
          -0.0007475385342700959,
          -0.3186734240389201,
          -0.08859710657681939,
          -0.5886317543359312,
          -0.4342863623548098,
          -0.16124882330022744,
          -0.19136583048710587,
          -0.06733691351666102,
          0.882075334303963,
          0.23619454939439308,
          0.41383363596232375,
          0.6885550841863081,
          0.23366675740200607,
          0.08803805393396676,
          0.040278569851582374,
          0.015070718518065676,
          0.706717625258565,
          1.7614702481198539,
          0.7192119993189192,
          -0.03249271254034205,
          0.2939427824550306,
          0.33630371515784396,
          -0.19009476875248602,
          0.48720489685759816,
          -0.11025784819534386,
          -0.11557015877153318,
          -0.019826948142494707,
          -0.20680056112057246,
          0.005074167280913271,
          -0.04086385170089646,
          -0.12371258293170848,
          -0.0914717738086921,
          -0.3211133177732661,
          -0.5864623217306576,
          -0.21573538192423497,
          -0.05764729339509043,
          1.3786312170005792,
          -0.10469350184825503,
          0.1613265739891686,
          0.4147379964157384,
          0.118914120319614,
          -0.12757790580620323,
          0.8557104455300026,
          -0.2944490129281452,
          0.04276225005202275,
          -0.023785779866408452,
          -0.22713471685118003,
          -0.2884897926799242,
          -0.4007154433479094,
          -0.11866760260554912,
          -0.4717242821163096,
          1.0627250192780786,
          0.10227833126897029,
          -0.13218813661086676,
          -0.05186169352811583,
          -0.12291322362014612,
          0.3691987754741219,
          -0.1607767933394807,
          0.5271449589592176,
          -0.056236214840488935,
          0.4093329524173693,
          -0.12786383868829831,
          -0.08996931561599525,
          -0.17093571886334485,
          -0.12733624328720144,
          0.03199768927012756,
          -0.22707236998227356,
          -0.4732942810394161,
          -0.08319401765494784,
          -0.12072274844952761,
          -0.1806226144264712,
          -0.08996931561599525,
          -0.20620955739734895,
          0.09450203838815541,
          -0.12104853063492534,
          -0.1914811304350732,
          0.6998308725747693,
          -0.004203676055587962,
          -0.06485188871125881,
          -0.13609633341513327,
          -0.14699803598779385,
          -0.11412448375681611,
          -0.1806226144264712,
          -0.12291322362014612,
          -0.26381663208141753,
          -0.06741982874296101,
          -0.07980636867442409,
          -0.1418750321739811,
          -0.08996931561599525,
          -0.08658166663547247,
          -0.09335696459651954,
          -0.06139204457684877,
          -0.4888761973854586,
          -0.04075457665173563,
          -0.37198844491357863,
          -0.15254091670600836,
          0.11017834824676387,
          -0.14049070334680328,
          -0.19136583048710587,
          -0.3624667595334568,
          -0.14049070334680328,
          -0.04931752784972265,
          -0.14049070334680328,
          -0.20978937308543574,
          -0.10250872611028371,
          -0.04238649174210295,
          0.46266248373873803,
          -0.20774692175067916,
          -0.04697012841119578,
          -0.003092347797096096,
          0.030441541853865182,
          -0.1968050290386177,
          -0.11438995715416027,
          0.7792454545731513,
          0.3382297723749602,
          -0.056592059655341274,
          0.0037214429603302968,
          0.3530645450088979,
          0.24439379449853516,
          -0.039610385862196375,
          -0.0351496129857024,
          0.608900333927498,
          -0.01471582754174444,
          -0.07676496185119161,
          -0.10675056270566989,
          -0.1336756014952994,
          0.20318046594977696,
          1.5256595809700133,
          -0.12291322362014612,
          -0.08319401765494784,
          0.3921176445790882,
          0.47788227502030367,
          -0.19152315589603783,
          0.046686743469476044,
          -0.28428606598657286,
          -0.1806226144264712,
          0.04290747428667723,
          -0.08307903791161592,
          -0.16451949449835207,
          -0.06741982874296101,
          0.15816654891020154,
          -0.1637074850038801,
          0.2411540029028212,
          0.47103779905006016,
          -0.06741982874296101,
          0.03599002331293835,
          -0.04238649174210295,
          0.392437884507876,
          -0.024199385453086114,
          -0.12965075880715107,
          0.3209685677262486,
          0.7534922060549543,
          0.15908588635099222,
          -0.018828285463932653,
          0.05707360853096462,
          -0.22053878413393857,
          0.4441753287635953,
          0.025803107745473067,
          -0.06526919766399028,
          -0.008513622119248509,
          0.17812852887419428,
          0.28850837592504003,
          0.08467810260844133,
          0.5982598553356755,
          -0.11537066683215061,
          0.3477087982908593,
          -0.3079029456285613,
          -0.14032709300770663,
          -0.03408681492486314,
          -0.04544224952149676,
          -0.07641871969390643,
          -0.02731355938027501,
          -0.029810564211383474,
          -0.0649957149164871,
          -0.09335696459651954,
          0.39907950644041656,
          -0.20774692175067916,
          -0.009305996249077322,
          0.005800165205925035,
          0.03289213727966318,
          -0.03780285507301111,
          0.012575927530719018,
          -0.033077574036061756,
          -0.033310298206495906,
          -0.157389144358956,
          -0.1757791666449125,
          -0.04697012841119578,
          -0.043178690478208895,
          -0.030163460624523734,
          -0.09501132272421668,
          0.004170605810659833,
          -0.14049070334680328,
          -0.10219267363383308,
          -0.060147487263535394,
          -0.1473076864278787,
          -0.23384766794332276,
          -0.07980636867442409,
          -0.28563243576046154,
          2.0294061245933332,
          -0.21251505310904426,
          0.8718159922150687,
          -0.31776972821009886,
          -0.23384766794332276,
          -0.23384766794332276,
          -0.06741982874296101,
          -0.13565785156709115,
          -0.1806226144264712,
          -0.19136583048710587,
          0.009408360236746792,
          -0.13845103717554097,
          -0.21050161120675162,
          -0.22608217509352244,
          -0.08658166663547247,
          -0.011380757203642428,
          -0.19854750996315035,
          -0.18830860708732727,
          -0.1762384794367682,
          -0.0649957149164871,
          -0.01714772035823285,
          -0.04238649174210295,
          -0.14193487829472481,
          -0.14049070334680328,
          0.022272382836620162,
          -0.06831618382861064,
          -0.13609633341513327,
          -0.01144598287427347,
          -0.3211133177732661,
          -0.11851885368848054,
          -0.1607767933394807,
          -0.08996931561599525,
          -0.08090324459664884,
          -0.04314806767643097,
          -0.013080905208009357,
          -0.13995385593795787,
          -0.13170196348347296,
          -0.01412917136012276,
          -0.06257160109001449,
          -0.04630012361192648,
          -0.01337854435148241,
          0.058235799776790345,
          0.03342192452917663,
          0.08200267555843926,
          0.2060446183160385,
          0.09114085469855762,
          -0.006400213155941166,
          -0.06804434275802149,
          -0.0009971954168366654,
          0.15541863503478467,
          -0.016390659695262613,
          0.14012512258404106,
          0.16446910803787446,
          0.036526466763850685,
          -0.051866665059473585,
          -0.002237460110988946,
          0.05136174875432129,
          -0.04389638338781307,
          0.01624327774704973,
          0.03356164829909567,
          -0.12205207588129978,
          -0.08619682617323259,
          -0.06223093006418375,
          -0.06015807706324163,
          0.12676860780898608,
          -0.04544224952149676,
          -0.11438995715416027,
          -0.11673735659268591,
          -0.06223093006418375,
          0.001002869092615028,
          0.11368387784828066,
          0.6393844059967456,
          -0.09492033215440554,
          -0.05393951806041567,
          -0.019826948142494707,
          -0.02039205458291158,
          -0.060147487263535394,
          0.01579793675442635,
          0.000455358398343385,
          -0.042178527138475364,
          -0.029405996894029104,
          0.12630140646860658,
          0.048408853767206605,
          -0.03681831470695037,
          -0.042261461054079796,
          -0.021361666039932847,
          0.12064248710560166,
          -0.043178690478208895,
          -0.10026560332574114,
          -0.2260656490311248,
          0.03863659986939186,
          -0.026237085123538183,
          -0.0098110605405384,
          -0.10279856998949355,
          -0.043914370631800294,
          -0.1418376480753182,
          -0.17095228182177877,
          -0.11438995715416027,
          0.07802700084554846,
          -0.23384766794332276,
          -0.12462765447576675,
          -0.13609633341513327,
          -0.20372631324571444,
          0.16448977749306867,
          -0.06741982874296101,
          -0.14672915389900848,
          0.11568848468751403,
          -0.09335696459651954,
          -0.22945329801164951,
          -0.39373277018314906,
          -0.19136583048710587,
          0.019273439795312142,
          -0.030631455055201904,
          -0.2071277823861036,
          -0.1607767933394807,
          -0.015803646548527877,
          -0.14049070334680328,
          -0.30587078760428404,
          -0.1418750321739811,
          -0.13995385593795787,
          -0.06741982874296101,
          -0.17093571886334485,
          -0.11412448375681611,
          0.023895739849485693,
          0.010746681248431816,
          -0.0025688211323826524,
          -0.0012372708943011901,
          0.013622826243000976,
          -0.004392869254606893,
          -0.015260801652989174,
          0.050681065807668284,
          0.013077852131755162,
          0.018527593244206858,
          0.00442181761754497,
          -0.04697012841119578,
          0.014145027176704988,
          0.016347696799226256,
          -0.004399702709744416,
          0.012910450385313719,
          0.001633395795608513,
          -0.015260801652989174,
          0.22040867728586888,
          -0.00007216443597994108,
          -0.013080905208009357,
          0.023977334356657668,
          0.0020916047009023535,
          -0.0009043833347808054,
          -0.003733927590703916,
          -0.04544224952149676,
          -0.013080905208009357,
          -0.0649957149164871,
          -0.04802691813116005,
          -0.0010708271145410397,
          -0.0021814229831070876,
          0.13331958057310414,
          -0.04697012841119578,
          0.005087592736585555,
          0.012617148287007648,
          -0.04238649174210295,
          -0.04238649174210295,
          0.06348231788670042,
          0.2521832314167912,
          -0.08658166663547247,
          -0.04697012841119578,
          -0.07980636867442409,
          -0.014170853430499918,
          -0.040858612852404136,
          -0.09335696459651954,
          -0.019468308396639895,
          -0.01471582754174444,
          -0.04802691813116005,
          0.2162014889546327,
          -0.04544224952149676,
          -0.04592987886920227,
          -0.013080905208009357,
          -0.009241096907557188,
          -0.026209893692882857,
          0.004884855838638273,
          0.0038132922405889726,
          -0.07303107071338218,
          -0.06257160109001449,
          -0.05529925961058798,
          -0.015441038044496725,
          -0.08996931561599525,
          -0.03474709729361475,
          -0.048208934781858434,
          -0.11851885368848054,
          0.10998425246716054,
          -0.18208618095478607,
          -0.06741982874296101,
          0.12952659354912577,
          -0.06257160109001449,
          -0.07018078444017417,
          -0.09335696459651954,
          -0.17093571886334485
         ],
         "xaxis": "x",
         "y": [
          -0.11350861126648432,
          1.3046590551099988,
          0.05107747413748637,
          0.06500568772714924,
          0.3076896165462142,
          -2.0476280657258914,
          -0.5536690053874556,
          -1.164671179560088,
          1.2070540282577216,
          0.15828634768677455,
          1.497451545228159,
          1.428937422199647,
          -0.46034642798062714,
          0.5858401175039741,
          -0.5353268940029512,
          0.19420559526106995,
          0.19634742811915842,
          -0.07340622261825315,
          0.4416287467183289,
          0.8600402785538724,
          -0.9929144393462139,
          -1.7117136496666432,
          0.2757381347856141,
          -0.05421721975198627,
          0.43551904618871673,
          0.6300104086860449,
          -0.6720122974490539,
          -0.32077380918733456,
          1.3155084115857987,
          -3.3452230714826516,
          -1.09438336663999,
          1.0037551343630315,
          -0.46932042147593456,
          -0.3924618578817777,
          -0.32975112601865236,
          1.5326334413698992,
          -0.6370579296459847,
          0.54837196717224,
          1.301375300021281,
          0.2782382117657059,
          0.48883888106807355,
          1.396845744748525,
          0.0869766783735143,
          0.23243411296755456,
          0.5800894671566351,
          0.4787907318295495,
          -1.6514703536164872,
          0.46961427009282447,
          1.5601963248836492,
          0.3076896165462142,
          -1.6520321409728589,
          -0.5115350620265815,
          1.1400354874642242,
          -0.15913813731613022,
          -1.9169480983264668,
          1.0121381069450168,
          0.05056767321475857,
          0.7093988528194204,
          -1.4243910292521411,
          -0.4065341016313159,
          -0.4413169531246443,
          1.0435461423906287,
          -0.26012487191392125,
          0.23965144993723694,
          -1.7115056497753232,
          0.32103139676936393,
          0.04787638762654668,
          1.69020918384545,
          1.6805209300626476,
          0.16712232952602166,
          0.3076896165462142,
          -2.5587411482660443,
          0.11188007325935063,
          2.04876478120353,
          -1.0539730910545457,
          0.6993241387891558,
          0.7459067961434004,
          0.14530352357161733,
          1.2251886272381867,
          0.4042856999889749,
          -2.2735302976654452,
          0.7459067961434004,
          0.17854059880700654,
          -0.13884549930844142,
          0.02546165784080068,
          0.1279243708333934,
          0.3020825811023935,
          -0.09296651339831946,
          0.7830860946515791,
          0.17304785114541887,
          0.3177793253844735,
          0.022589501019716744,
          1.2011354247411936,
          0.2545730591192174,
          0.7577766633788009,
          0.07721426589062,
          1.0178900550643126,
          -0.16915017305298424,
          0.9761454161402,
          0.49818716647654426,
          -0.06134970095150063,
          1.8233338217857782,
          0.16934336162681418,
          1.4900354545667442,
          -1.1483452324512227,
          1.2157526296900252,
          0.13095871206491172,
          0.28381064020547986,
          0.17553409620510238,
          -0.7153758460504799,
          0.21078210205852319,
          1.1400354874642242,
          0.8889478313668886,
          0.19080056344456306,
          -0.36494394718376927,
          0.0387044290353736,
          -1.1648943824314784,
          0.6807367621621306,
          -0.12819912273404863,
          -0.5353268940029512,
          2.003768578675546,
          0.2722907939483002,
          0.7669987460370976,
          1.7452144266189054,
          -0.18293502086034324,
          -3.1456094647153603,
          -0.6374374192288674,
          0.7563857130331876,
          0.48363907778748655,
          0.5268776926247807,
          1.9311122632619835,
          1.7872613155723505,
          0.20161561253955287,
          -0.24842281501304925,
          -0.04364724769409054,
          -1.0143295014912908,
          0.47903702868028547,
          -1.418630127416702,
          0.9871687583893629,
          0.24553439518359998,
          0.5150054717078654,
          0.8788313188545375,
          1.0626860802266498,
          0.15005262568924133,
          0.571944690474927,
          1.1463634802558864,
          -0.06999571930173977,
          0.6736210984254107,
          -2.0963901388126454,
          1.9978171822307305,
          0.00983783012635786,
          1.6760185871355355,
          1.9662785662572262,
          -1.566804860344543,
          0.39163452224293466,
          0.7093988528194204,
          0.21232720354018902,
          0.2032988938946528,
          0.3285721679548518,
          0.35427227390043126,
          -1.4421169714026572,
          1.6239457640535786,
          -0.08914170192702882,
          -2.5502724740669906,
          -0.20710847727458262,
          0.0005610707991017598,
          -0.28690407898989706,
          -0.267413685477648,
          -0.12182038882123326,
          -2.0728684066536447,
          -0.3792072277427342,
          1.7615396038861755,
          -1.85321672754381,
          0.025037389815538488,
          1.3909738373594973,
          -0.12479233856540131,
          0.32007533597930454,
          1.837587337105535,
          0.6037180334649314,
          -0.8135810956610809,
          -0.6668791182009697,
          0.5483856165340814,
          -0.6443743013660052,
          0.39163452224293466,
          -2.812197484839817,
          0.6832925081627085,
          0.32926689424345557,
          1.2421706499197898,
          1.5312996498634104,
          -1.8751282023225941,
          1.7569831164000802,
          -1.2705945817193138,
          1.1979114396502526,
          0.556043474665124,
          -1.4044991183782196,
          -0.6213962579543306,
          1.0842680832854206,
          0.5169077963031515,
          0.012824584942020795,
          0.6328872985017423,
          0.6408041404299278,
          1.1578927377016017,
          1.4076128660109881,
          1.2533872009579394,
          -0.8019390619103078,
          0.14289706856052292,
          1.1814002681091411,
          -4.328464202634717,
          1.8613526154990074,
          1.4885799783306566,
          0.25408612387657215,
          1.385238764466612,
          -0.5353268940029512,
          0.7984973434087043,
          0.3842319622279236,
          0.5495658893500982,
          0.8674411365420502,
          1.0749390514255714,
          1.356419587831102,
          0.949205690038028,
          0.8423667327082807,
          1.6516105378608454,
          0.4699098514198896,
          0.07636436074431496,
          -0.4861078603806693,
          0.6707930982026841,
          1.1312007462500548,
          -0.12819912273404863,
          0.5972136135632389,
          0.2534360694832954,
          1.1783611674693768,
          -0.3721305961787781,
          0.09957049934817762,
          1.6157867113783506,
          1.566223165055101,
          -0.40569339562208917,
          1.224943824823628,
          -0.8042726323750441,
          1.5423180997562325,
          1.2997237767435854,
          -3.575819045519596,
          -1.0549124748414727,
          -0.28871058467756205,
          -0.17921615704624053,
          -0.22963234341347996,
          -0.9891613120230617,
          1.219142747509208,
          1.3293345474752027,
          -0.28690407898989706,
          -0.013780532776943641,
          -0.5255319091522941,
          -0.40923262858744563,
          1.322421479530502,
          0.7208243067630711,
          0.3778787934941714,
          -0.3760178607863209,
          0.5753310929307079,
          0.7840716643678851,
          1.704648274841545,
          1.1224373811196866,
          -0.40923262858744563,
          -0.2599820985039771,
          0.3366741675559629,
          0.7623637593662265,
          0.279029907624851,
          0.425677784217351,
          0.7409931619816698,
          -0.45546327401795234,
          -0.037057752823423315,
          -3.796261218528334,
          -0.12819912273404863,
          -0.2779300854945917,
          1.7711754401700335,
          1.3507611197761817,
          -0.26478125456886775,
          -0.017684274130764795,
          -0.6954940774638433,
          1.3331087482164283,
          -0.1253721960744146,
          -0.7829287176606556,
          1.426331035419184,
          -0.6545520232417027,
          -0.011048350601690978,
          -2.484630763446787,
          0.3337782140543261,
          0.23062635314975263,
          0.1948008424369663,
          -0.5654919148114604,
          -0.24203411151337578,
          -0.41024434334393317,
          0.7904038708973318,
          1.0611520765572389,
          -0.12819912273404863,
          0.8782861619592318,
          -0.2476018236577162,
          -0.12978326197518678,
          0.6117853626742632,
          -0.24176128519250673,
          -0.24842281501304925,
          -0.16739316069546029,
          -0.8766814424317967,
          0.2032988938946528,
          -3.8540974149368834,
          1.8026887028730025,
          -1.122335277740512,
          -0.6428698946770679,
          0.24387112662971158,
          1.5091573914568694,
          0.8623406708217394,
          1.835217481686379,
          1.1328181504944712,
          -1.8029944473431123,
          0.354013594936149,
          -0.12819912273404863,
          0.920077415423183,
          0.09895386176402833,
          0.026088597508131705,
          0.4726664838923673,
          -2.690473840254562,
          1.0636711267198617,
          -2.576701065156798,
          0.02178116330304976,
          0.799811070044722,
          -0.06552600677947255,
          0.05309211885570231,
          0.32263966749458256,
          0.4696074213737125,
          0.14338514576563807,
          -0.4039692256909813,
          0.0009504582666294042,
          -0.19070905664532,
          -4.174552567841511,
          0.299853043333128,
          -0.627961616217357,
          0.026088597508131705,
          0.3219257445726594,
          1.538955801251366,
          -0.7019530411872432,
          2.033565221514398,
          0.5453284555279582,
          0.5286346701922461,
          1.8536010702547527,
          0.21799943902818944,
          -0.02851987505853089,
          0.3736960890732273,
          -0.6260411110130509,
          1.9129695439919066,
          0.346684039660292,
          1.4900354545667442,
          0.5026510812809275,
          1.9683675376131315,
          -2.158283200303944,
          1.2479743035981927,
          0.3076896165462142,
          0.0869766783735143,
          0.25668503802776427,
          1.1387201447488404,
          0.5769949829678918,
          0.6510758667340623,
          -1.141716656305201,
          -1.7470774998918885,
          0.8333093025806781,
          0.14338514576563807,
          0.007389941330535724,
          0.14338514576563807,
          0.9534634964488848,
          0.9068115667884058,
          0.5842460559542072,
          2.104081632390629,
          -3.339847430851378,
          2.928056605197833,
          0.5027036810438797,
          2.002953578686792,
          -0.788183924801074,
          0.7678257547473919,
          -1.1033260871072053,
          0.014692658868275026,
          -3.601934298573535,
          -0.4820441589987986,
          -0.7780632679659556,
          -0.8286120279095891,
          -0.15073473937641485,
          -0.6537202852595391,
          -2.503093483331344,
          0.32976109961126254,
          -0.4600978265262303,
          -0.5345059026476003,
          -0.7743493900143745,
          0.9590963420018378,
          -0.9543952107051291,
          -0.005032340129331864,
          -1.9406472372686003,
          0.10103802938455123,
          0.7243861507185231,
          0.9947325903372968,
          0.02358083883880665,
          -0.2684018901922622,
          0.5625532594572896,
          -0.2476018236577162,
          -0.4870398985486302,
          0.18873159246476776,
          -0.6374374192288674,
          0.7403314926413942,
          -0.3507834624973758,
          -1.0128496143770989,
          0.01079356746504085,
          0.6896641166263208,
          -0.28690407898989706,
          0.30069204354209644,
          -0.35494005972702003,
          -0.5071422680201784,
          -1.0659065380009871,
          0.025037389815538488,
          0.3899125917314392,
          -0.5255319091522941,
          0.02546165784080068,
          0.5711901596206518,
          -0.0595202797038072,
          0.06600647252701485,
          0.4336607180338272,
          0.23855893709939807,
          -0.2476018236577162,
          0.6198393128843616,
          0.11591350226614931,
          1.4553056489627487,
          0.7459067961434004,
          -0.12819912273404863,
          0.2731242768228045,
          -0.5345059026476003,
          0.11879080931200757,
          -0.24842281501304925,
          0.12634223927512636,
          0.1392430011987295,
          -0.26081548148175593,
          1.0876514034560136,
          1.2798313269912596,
          0.16811699775293013,
          -0.2779300854945917,
          -0.1236193821915853,
          0.06600647252701485,
          -0.4802797135379234,
          -2.1573611697982864,
          -0.10211052522591513,
          0.026088597508131705,
          -0.10273746489325039,
          -0.12819912273404863,
          0.4807762430707792,
          -0.28690407898989706,
          1.3775245548217787,
          0.9040564416562032,
          -1.0110668859248668,
          0.346684039660292,
          -0.118631021864826,
          -0.1250097557776447,
          -0.03282151732596003,
          0.13474458977644913,
          0.1866823192530839,
          -0.10211052522591513,
          -0.28690407898989706,
          0.026088597508131705,
          -0.09635873098043608,
          1.4475397071788243,
          0.16811699775293013,
          0.024834718173469064,
          -0.12325386705657619,
          0.16811699775293013,
          0.317967029632054,
          0.5362599153849283,
          0.0010211193262575319,
          1.621237973679795,
          0.4906471588645201,
          0.026088597508131705,
          0.026088597508131705,
          1.5326334413698992,
          1.6625903035038907,
          0.04177130143131737,
          0.2757381347856141,
          -2.4965304477719763,
          -0.24176128519250673,
          0.2032988938946528,
          0.1421606804378884,
          0.8720476030923563,
          0.7135809005048728,
          -3.160817454589122,
          0.574499587393941,
          0.36100435794049235,
          -0.6069948044829622,
          0.8667978461716085,
          0.6235129495237576,
          4.293973298254596,
          -0.3329180852116264,
          -0.5950242060534648,
          0.47413123020494063,
          -0.5566672640584356,
          -0.09074924007723673,
          0.6213862958368588,
          0.5893857646711667,
          -0.533958616840104,
          -0.7493129674737949,
          0.420214055629091,
          0.1432117072298922,
          -2.8290727164796987,
          -0.20759266689656777,
          -2.1012182848543945,
          -0.6389164999258378,
          -0.027380010570954016,
          -0.006269754928266977,
          0.9683239227905425,
          -0.5255319091522941,
          -0.43980007037019736,
          -0.43980007037019736,
          -0.18912982952350824,
          -0.23861708353559852,
          -0.28690407898989706,
          -0.20613813753216306,
          1.3987082425560315,
          -0.22907847162963355,
          -0.3412750612555345,
          -0.2476018236577162,
          -1.675057154306672,
          -1.0633423496342982,
          -0.1341468907192681,
          0.19286042205189344,
          0.2425137350111037,
          0.14127270179836232,
          -0.8643715667755192,
          -0.31698128998886854,
          1.084500846259527,
          0.026088597508131705,
          1.4284237074477617,
          0.06600647252701485,
          1.5872027043302552,
          -0.6374374192288674,
          -0.601430875299938,
          -0.5739469610894901,
          0.026088597508131705,
          -0.2116628631692418,
          0.4758066142991464,
          -0.19219824671249353,
          -0.3929797191940387,
          -0.2779300854945917,
          0.2757381347856141,
          0.9381063636940766,
          0.501895211807264,
          0.0663644368636087,
          0.6876123241933242,
          0.8495513399761595,
          -0.41297872350149023,
          1.0032490286401436,
          0.1458687257686133,
          0.6785849349551087,
          0.026088597508131705,
          0.3076896165462142,
          0.3076896165462142,
          0.4546320342388581,
          0.3366741675559629,
          -1.3681260441223506,
          0.9656317185617552,
          -3.4709074188544546,
          -2.258906225051052,
          -1.1893701230896347,
          -0.09370573482291948,
          -0.2838749690952404,
          2.0410227600535387,
          0.06890972118124433,
          0.712679424673326,
          -0.3370326592202257,
          -0.7079482516383594,
          1.4166812732725584,
          0.7051439542122722,
          0.465085695038563,
          0.6146413826262476,
          -0.2476018236577162,
          2.715694436346571,
          -0.7426729309068623,
          0.46403259042401584,
          0.8361316398678699,
          0.16248819179343715,
          -0.4579440909945309,
          -2.2065625377968168,
          -0.7021627762029439,
          -1.0616019662832474,
          -0.3698894014923636,
          0.8112918033771275,
          -0.19359407115145325,
          0.7124296821277386,
          0.27974046353613014,
          -0.8197498580754176,
          0.0014033795521065009,
          -0.906010742769843,
          1.3510380902391192,
          -0.2476018236577162,
          -0.28690407898989706,
          -4.192025726875277,
          -0.05938108111952317,
          -0.6062829772791832,
          -0.2476018236577162,
          -0.9091204918460941,
          1.1021819489929932,
          -0.5075731755348692,
          -0.5345059026476003,
          -0.23861708353559852,
          -0.5345059026476003,
          -0.20267812304712268,
          -0.45939070256212045,
          -0.4955211255767131,
          -0.1803725935712719,
          0.8424075934754072,
          -0.1783770776004678,
          0.19420559526106995,
          0.8327831993962878,
          -1.4441504742890139,
          -0.28690407898989706,
          -0.2119604253716717,
          0.16811699775293013,
          -0.2476018236577162,
          -0.24842281501304925,
          -0.24842281501304925,
          -0.1250097557776447,
          -0.19369338292500363,
          0.6147701840773037,
          0.2938634806568456,
          0.17458188386640028,
          0.028487973117769887,
          -0.2689560919992859,
          0.8051085021850135,
          0.3007765486015176,
          0.3076896165462142,
          0.35427227390043126,
          -1.012353158894892,
          -0.526352900507644,
          -0.24842281501304925,
          -0.013810094010471669,
          -0.22064760329136213,
          -0.5255211625254811,
          0.7085865455820914,
          2.691238723486592,
          2.485268833856908,
          0.6324551654876842,
          -0.5370006653978238,
          -0.31661814987690445,
          -0.47998411928005874,
          1.162227088384889,
          2.235670306322947,
          -1.9456509635855794,
          -0.07351582326887356,
          -0.0794848259047844,
          1.449700817830728,
          -0.23706044162990722,
          -1.4987164071676826,
          -0.7087454157426651,
          -1.5222474528303696,
          -0.5817964518080906,
          -0.08117777271510333,
          1.0601630192369387,
          0.8685336917634893,
          0.48820688528669154,
          0.823590992078895,
          -0.7739547241653453,
          0.1680135939441528,
          1.332008495515759,
          0.049145339802370826,
          -0.3817487143769721,
          -0.1783770776004678,
          0.7406114250756115,
          -0.21336657298715941,
          -0.6374374192288674,
          0.5965543361139661,
          -0.336199489492514,
          -0.35583640019078094,
          -0.17810919391708252,
          -0.2476018236577162,
          0.5024354538112752,
          1.9393624105250085,
          0.5200971632595182,
          -0.2476018236577162,
          -0.6374374192288674,
          -0.43980007037019736,
          -0.5054428000091309,
          -0.2476018236577162,
          -3.5514826429775455,
          -0.4960246386707498,
          -0.2476018236577162,
          -0.8448270350530073,
          -0.2476018236577162,
          -4.813254892252642,
          0.026088597508131705,
          -0.28690407898989706,
          1.1320859596662776,
          -0.9074658825686068,
          -0.12819912273404863,
          -0.2476018236577162,
          -0.10273746489325039,
          -0.14547931827341112,
          0.5169077963031515,
          -0.05523845021768785,
          1.1060274674967814,
          -0.7335168404685681,
          -0.771653467056757,
          -0.9235683497151094,
          2.656363989086244,
          0.42194468976208593,
          -0.7409346098592939,
          -0.9841066471546696,
          0.48936605880446143,
          -0.7120171126325228,
          -1.1033260871072053,
          0.30472268579536,
          -0.45874910151803217,
          -0.66222120903481,
          -0.8856115139341714,
          -1.194074512621809,
          1.0819829643053223,
          2.952957899847249,
          0.6235129495237576,
          -0.26052585292858493,
          0.08916842475291109,
          -0.9155206078005413,
          -0.46134287854824463,
          -0.3879252897089152,
          -1.211384380318312,
          0.1252732740601808,
          -0.5181129092705092,
          -0.41008357658006384,
          1.3568786287043337,
          0.5596105667412807,
          0.6638378991260847,
          -0.8390107115582202,
          -0.1268203207303109,
          0.33296612222522154,
          -0.011965285884844749,
          -0.2599820985039771,
          -0.47910232570239186,
          -1.8665332064336655,
          -0.6341159679687443,
          -0.5286653641823954,
          -0.21594517401815758,
          3.3428492175889573,
          0.16714254260919964,
          -0.6372433675408682,
          0.4486883812361551,
          -0.059364220331663844,
          -0.24203411151337578,
          -0.19219824671249353,
          -0.2476018236577162,
          -0.19219824671249353,
          -0.3411212987418684,
          0.026088597508131705,
          -1.207647691241601,
          -0.1783770776004678,
          0.3337782140543261,
          0.07057374863444969,
          -0.28690407898989706,
          0.026088597508131705,
          0.5960007278320484,
          0.026088597508131705,
          0.0733046573764485,
          -0.14344357528850576,
          -0.4960246386707498,
          -0.24176128519250673,
          -0.42137789833104977,
          0.7142939603890559,
          0.4871823343223836,
          -0.5805209025886753,
          0.16942012474787915,
          -1.75040106718049,
          0.005331791968295964,
          -0.04227712865766945,
          -0.1191128088815981,
          -0.5745413873722724,
          -0.34883865821772725,
          2.984064057836354,
          -2.3011543530910474,
          -0.4476882603997459,
          -1.1309361323506915,
          -0.43980007037019736,
          -1.0911519800286995,
          1.0523383384386649,
          0.6330002901715843,
          0.7104896278972346,
          -0.1957270429964297,
          -0.32299844878264555,
          -0.37450817049275276,
          -0.13040752968854827,
          0.22933069910524645,
          0.5530612303490471,
          1.070214710994385,
          0.6805903810360384,
          0.3068735922799795,
          -0.3879252897089152,
          -2.1733874565701363,
          -1.20462279934296,
          -0.19219824671249353,
          -0.0461866541736675,
          0.36151954983303575,
          5.061463095068606,
          -0.43980007037019736,
          -0.3108282488405469,
          0.4564315222171318,
          -0.6728172018810008,
          -0.9484808450910537,
          -0.5858470704422772,
          0.8062834230620953,
          -0.7890053589828766,
          0.5349620734216911,
          -0.5345059026476003,
          -0.5683756328450377,
          -0.28690407898989706,
          -0.7829287176606556,
          0.6124123023415493,
          -0.15851540117250928,
          -0.2476018236577162,
          -0.5078108870432999,
          -0.17357324699290597,
          -0.3505333402389724,
          -0.08853947837232327,
          -0.2476018236577162,
          0.2757381347856141,
          -0.10781976569265267,
          -0.5075624289080567,
          -0.7742848508153215,
          0.9247518911463233,
          -0.17086924162054745,
          0.16811699775293013,
          -0.16455590848844204,
          0.07813700068530724,
          -0.5142834303779179,
          0.14948897764635596,
          -0.8742061294794055,
          0.42854468644224564,
          -0.35863991473280155,
          -0.32403872479935925,
          0.6769901023508049,
          -0.40552339605340676,
          0.4278824485286681,
          -1.627875643462565,
          0.259146966687319,
          0.5927185304723864,
          -0.4100372428577728,
          -0.04063378184216819,
          0.24112805144801921,
          -0.011794397808873536,
          0.23577227309695836,
          -0.5345059026476003,
          -0.7829287176606556,
          0.8187763805711022,
          -0.5812264513902986,
          0.687079171932191,
          1.022246463924204,
          -1.201284428805916,
          -0.5235153198259057,
          -2.048219920759041,
          -0.1626689662859705,
          0.05903997349352792,
          -0.43980007037019736,
          -1.1235564723480993,
          -0.04251068709345138,
          1.0633130198939382,
          0.4962766433605022,
          0.441112118019143,
          -0.1341468907192681,
          -0.07171399059552987,
          -0.5353268940029512,
          -0.44629960042074507,
          -0.6307758894083141,
          -2.510950219667283,
          -0.6557452443883401,
          -0.2476018236577162,
          1.1367927587570488,
          -0.9920183818841913,
          -0.6244431099889617,
          1.7438236223443162,
          -0.12819912273404863,
          -0.24842281501304925,
          0.428879032107214,
          -0.11544165490841966,
          -0.4827578268776929,
          -0.5345059026476003,
          -0.44031890114680927,
          -0.24842281501304925,
          0.02358083883880665,
          0.7309184913085539,
          1.014553486437781,
          -0.128515278243511,
          -0.6464547847693548,
          -0.24842281501304925,
          -0.15764532393243588,
          0.39874501101327775,
          0.7662711556220684,
          0.3454007070029186,
          -0.28878705462061466,
          -1.293160414728198,
          -2.810279027059629,
          -1.5861272228711765,
          -0.08071469841017935,
          0.4836226567988156,
          1.5048831923890618,
          -0.14705463317625816,
          -0.8608510400793965,
          0.2882895723438413,
          1.3158261292829032,
          1.2738782157396076,
          0.10430749821546591,
          -0.06467854382724486,
          -0.7200785233130568,
          -0.2476018236577162,
          -0.5235690529599696,
          0.9914337880616924,
          0.6979899468745238,
          0.5727734547044396,
          -0.5752237860012963,
          -0.3142139124649691,
          0.6431655357255065,
          0.9413402722438559,
          -1.1086923347261597,
          -0.08179828329889358,
          0.13182964071995584,
          3.5673008833487723,
          0.9758887242407225,
          -0.08030206411355455,
          1.3702789354804408,
          0.7388055196709962,
          -0.1884690466282865,
          -1.1922499911665307,
          -0.1341468907192681,
          -0.28690407898989706,
          -0.5773256561275667,
          0.5509529212712088,
          0.22500306168034478,
          -1.3768156913881624,
          -0.06974605573988223,
          -0.2476018236577162,
          0.07111639677628327,
          -1.590127520010966,
          -0.5345059026476003,
          -0.24842281501304925,
          -0.2476018236577162,
          -0.4536754814289946,
          0.514567792008211,
          1.1351597255573955,
          -0.39374171656139106,
          -0.5255211625254811,
          0.026088597508131705,
          -0.526352900507644,
          -0.4484917666598353,
          -0.2779300854945917,
          -0.19219824671249353,
          -0.2936368349394832,
          -0.5398704920459083,
          -0.19219824671249353,
          1.206987505003718,
          -0.4896359351710919,
          -0.235099755371986,
          -0.2476018236577162,
          -0.44204211668756177,
          -0.36703854890452575,
          0.01480368349617043,
          -0.118631021864826,
          0.593961490291011,
          -0.12281967468347062,
          4.336871188408028,
          0.6063540920353254,
          -0.9878919681842087,
          0.7192034845732301,
          -0.20428220099439082,
          -0.6545520232417027,
          0.2921697690001815,
          -0.6991102723394472,
          -1.293160414728198,
          -0.521598353669095,
          0.4416325892734401,
          -0.5426815955517029,
          0.38111387579858325,
          -0.2683531793604248,
          -0.23334920183581806,
          0.8374778034835986,
          0.7893877962770766,
          -1.7684069561224762,
          -0.1957270429964297,
          -0.8576372249279336,
          -0.1300029857083825,
          1.2350014933509676,
          1.0349183803015467,
          0.31508082126951814,
          1.9768866249666677,
          0.9465592009644606,
          -0.9751269643731388,
          0.781470715311229,
          -0.5345059026476003,
          -0.020218131021727457,
          -0.17921615704624053,
          -0.2863421958552053,
          0.11549136983371827,
          -0.5017433836965274,
          0.20618708769601393,
          2.1472920488483744,
          -0.7829287176606556,
          -4.837348715286457,
          -0.6232809766100402,
          -0.08179828329889358,
          -0.7829287176606556,
          -0.24203411151337578,
          -0.35025368749950786,
          -0.20267812304712268,
          0.23000371731321204,
          0.39163452224293466,
          -0.24176128519250673,
          -1.0030551145782312,
          -0.18470864280288096,
          -0.3505333402389724,
          -0.5345059026476003,
          -0.21089197686584762,
          0.39163452224293466,
          -0.5353268940029512,
          -0.18528766215647358,
          0.5740890418444935,
          0.7531888505453035,
          -0.8537477705242067,
          0.7838434772582916,
          -0.21594517401815758,
          -0.10268418708279224,
          0.7392217878069471,
          -0.47910232570239186,
          0.3076896165462142,
          0.6270821768978947,
          -2.9389500163724795,
          -2.609103895364381,
          1.2559551824690594,
          1.8285425625792602,
          1.2678971162477435,
          -3.5327659150889517,
          -0.7742598392915525,
          -0.030331481096647808,
          -1.0618522037279805,
          -0.019466112840439642,
          -0.8388768688273636,
          1.4109184644397066,
          -0.02409812173092521,
          -0.38733396693530975,
          3.371863292671304,
          -2.7703214732380994,
          0.07370056316168667,
          -0.43980007037019736,
          2.374666743502866,
          0.8666002982788084,
          -0.06338731192801934,
          2.360900531325435,
          -1.2704021053064198,
          0.14447592084345376,
          1.4241183589664288,
          0.6311952845796999,
          -0.43980007037019736,
          0.622886009856405,
          0.6495479728855038,
          -0.16198084842829163,
          -0.12975639121404112,
          -0.37424205707459435,
          -0.44198065513453083,
          0.6124123023415493,
          0.14014829012845226,
          -0.24052652859954615,
          0.10224767549956854,
          -0.4166283760929981,
          -0.0615801522771625,
          -0.19219824671249353,
          -0.020218131021727457,
          -2.707497655009976,
          -0.25869985763117886,
          -0.09500933594809796,
          -1.0683469534608778,
          0.5056558474215558,
          -0.2476018236577162,
          -0.516001071818051,
          -0.4121577321461765,
          -0.5345059026476003,
          -0.3879641720127394,
          0.96434663450889,
          -0.34449063757479564,
          -0.23861708353559852,
          1.4553056489627487,
          -0.118631021864826,
          0.2775516616902612,
          -0.28877522890336677,
          -2.73432842564217,
          -0.47164496167323333,
          -0.04306814459707379,
          -0.2476018236577162,
          -0.48962518854428183,
          -1.0126506188400315,
          -0.18528766215647358,
          0.10824141835943545,
          -0.2476018236577162,
          -0.2917906447049037,
          -0.5345059026476003,
          0.6679244038044794,
          -1.1033260871072053,
          -0.09630545316997764,
          -0.2476018236577162,
          -0.5901839978625195,
          -0.43980007037019736,
          -0.28690407898989706,
          -0.24967948758100192,
          0.1308190407611692,
          -0.11225228795201207,
          -0.19219824671249353,
          -0.2779300854945917,
          -0.28690407898989706,
          0.8539932870400347,
          0.420214055629091,
          0.16811699775293013,
          -0.28690407898989706,
          0.08208702676915175,
          -0.21363454205528098,
          0.40283403198353973,
          3.2251900195367913,
          -0.19489162447085975,
          0.1941711566099378,
          -1.0896111192488274,
          -0.6989527648894311,
          1.4530881714933903,
          -2.282134782397994,
          0.6424392046293222,
          -0.6355271133666421,
          -0.3879252897089152,
          -5.969978068440505,
          -0.7892577366481635,
          -0.21379590934066225,
          -0.6153552283846161,
          -0.5739469610894901,
          0.44714609846329056,
          0.14631759023416993,
          -0.35780194126399373,
          -0.1407821406246962,
          -1.0138163520845125,
          -1.13132138895703,
          -0.05360722769523698,
          -0.9751269643731388,
          -5.283519008085197,
          0.703977163506974,
          2.454887286929508,
          -0.39666052424242026,
          -0.7838280280785228,
          -0.6701034094469599,
          -0.3505333402389724,
          -0.12755990149536386,
          -0.12896010830541102,
          -0.5924568818046333,
          -0.9751269643731388,
          -2.5174286005869573,
          -0.713732878177223,
          -0.36398927961000993,
          -0.19219824671249353,
          -0.0747183092602976,
          -0.43980007037019736,
          2.318386364749457,
          -0.3741446160915807,
          -0.5345059026476003,
          -0.3748208638991734,
          -2.3070546230072697,
          -0.8850392428865658,
          0.14447592084345376,
          -0.5345059026476003,
          -0.19219824671249353,
          -0.47910232570239186,
          -0.10796511825474965,
          -0.23861708353559852,
          0.5747237629746123,
          0.13950981197604626,
          1.0633130198939382,
          -0.5470943752984526,
          0.1893922647425244,
          0.022326959504145056,
          -0.43980007037019736,
          0.1042111633815939,
          -0.5981351638966694,
          -0.20267812304712268,
          -1.3949075477341097,
          -0.16455590848844204,
          -0.28690407898989706,
          0.11107071709243703,
          -0.19219824671249353,
          -0.23861708353559852,
          0.0026199180271201817,
          -0.19219824671249353,
          -0.22963234341347996,
          -0.2476018236577162,
          -0.28690407898989706,
          -0.24176128519250673,
          -0.5961458384214084,
          -0.12819912273404863,
          0.2800373447674804,
          -0.8608510400793965,
          -0.45454426016579497,
          2.007519073012035,
          -2.939619938372918,
          -0.8710191372997599,
          -0.06739109346977637,
          -0.5422476165020969,
          0.7606287689049014,
          -0.21332514934092683,
          0.7668980952894213,
          0.35820890710864695,
          -0.7150248672410148,
          -0.4944113731273086,
          -0.5730184949457741,
          -0.08574982466902867,
          0.09118243552490239,
          -1.173024670313492,
          -0.8223697761025606,
          -1.0820973093307082,
          -0.1650090739318354,
          0.0775523691143612,
          1.4130845635704372,
          0.15838749319115497,
          0.14555694028690777,
          2.2972093389997865,
          -0.5129755409812279,
          0.8161274342274449,
          -0.06942251817575824,
          1.3809063460628872,
          -0.6954904997555734,
          0.8196479330134425,
          -0.216506067415348,
          -0.3263451374317658,
          -0.19219824671249353,
          -0.5785917828246814,
          -0.5345059026476003,
          0.23871058521662164,
          -1.1092738550924401,
          -0.2476018236577162,
          -0.4960246386707498,
          0.026088597508131705,
          -0.24842281501304925,
          -1.0523574247988279,
          -0.7363988755224352,
          -0.40923262858744563,
          -0.28690407898989706,
          -0.12541963323109204,
          -0.5075516822812443,
          -0.10759655862618116,
          -0.15073473937641485,
          1.4936022446494912,
          0.18267986076856393,
          -0.3728284938299154,
          -0.22151322614957453,
          -0.15250444773063807,
          -2.672520451428776,
          -0.3858252372594067,
          -0.5353268940029512,
          -0.8989644799430293,
          -0.38312935621369704,
          0.1892436705956708,
          0.44295034383187215,
          0.026088597508131705,
          0.2800373447674804,
          -0.4018757962623502,
          -0.13080020207016452,
          0.7840148842325411,
          3.2481913607887063,
          0.9678081692031617,
          -0.8569889357741949,
          0.07305076015239598,
          -0.3747400940389859,
          -2.292571440440948,
          -0.32923071747401217,
          -0.26512720976684667,
          -4.307961998444744,
          1.0283542098800436,
          -0.6270114749011938,
          2.033693431484189,
          -0.7745547405610796,
          -0.2123710733881893,
          -1.8541667579632803,
          -0.1809066450688839,
          0.4367870007902219,
          -1.2729645325955052,
          -0.4874146175228136,
          3.7716610056130686,
          -0.4832552291174864,
          -0.8173760493180791,
          -0.7371206872751176,
          1.9593988052367144,
          -0.6632994890256394,
          -0.5419291017183201,
          0.258333928147503,
          -1.0705759597785591,
          -0.5345059026476003,
          0.5169077963031515,
          -0.19219824671249353,
          0.0037389336614805906,
          1.9110264235425998,
          0.2276763795890483,
          0.584275991213656,
          -0.5547057765943935,
          -0.4157502822269991,
          -0.3521831823196652,
          -0.41525162739042437,
          -0.43980007037019736,
          -0.15775442243652366,
          -0.12819912273404863,
          -1.578276792786381,
          0.33571793323543137,
          -0.3125239683197258,
          -0.7539701347037356,
          0.39163452224293466,
          -0.18528766215647358,
          -0.5353268940029512,
          1.0550992739060507,
          0.3565194776621732,
          -0.43980007037019736,
          -0.2476018236577162,
          -0.8850392428865658,
          -0.11283072182592828,
          -0.2476018236577162,
          -0.36054836642948646,
          -0.24176128519250673,
          -0.24842281501304925,
          -0.15756122942123169,
          -0.24842281501304925,
          -0.1374133074530766,
          0.3736960890732273,
          -2.311449794136173,
          -1.1033260871072053,
          -0.7389007518883002,
          -0.21583665890088352,
          -0.38405836943446753,
          -0.01421847394368992,
          -0.9843692168940574,
          -0.6033116943019292,
          0.6933122011900578,
          4.055507186506567,
          -0.5300988573765643,
          -0.6926718709688802,
          0.20520085280261957,
          -0.70200649022518,
          0.007121109811970534,
          -0.9991046353873231,
          -0.012779066972311777,
          1.2920223300560016,
          0.4795504181315528,
          -0.3002494640098139,
          -0.7423828842840156,
          1.5084828411716866,
          0.04963045572051996,
          0.03815085534672866,
          1.135215192551205,
          -2.9700065165775573,
          -3.207248032447616,
          1.657486539527117,
          -0.21034383427359174,
          -0.40005538815434877,
          -0.6481956085473517,
          -0.3639462931027605,
          -1.3268877033005053,
          -0.7457355674573813,
          -0.4195616837267794,
          -1.299053130103651,
          -0.7267041493600908,
          -0.5045100515588937,
          -0.6141153186656482,
          2.711113329974973,
          -0.6045481302889333,
          2.6800458858580343,
          1.259677233426526,
          -0.2915441895663454,
          -2.7876707954616973,
          -0.2476018236577162,
          0.5271690398184591,
          -0.11270590809535086,
          -3.2383394892175774,
          0.05030056940608609,
          -2.4239531076249343,
          -0.20613813753216306,
          0.02546165784080068,
          -0.28690407898989706,
          -0.28690407898989706,
          0.4397322064254433,
          -2.658637766471278,
          0.4435960559523043,
          0.020446140502151138,
          1.1200770277043988,
          -0.23861708353559852,
          -0.24842281501304925,
          -0.45274676037325084,
          -0.12819912273404863,
          -0.118631021864826,
          -0.46353494604052015,
          1.1265368709347057,
          0.7826425358984856,
          -0.7581216020200118,
          0.9917950234503767,
          -0.35020518099753445,
          -0.13913244674318867,
          -1.1085555801733125,
          0.694213554769498,
          2.251273250944567,
          1.1383491562945685,
          -0.601430875299938,
          -0.4279268934439415,
          0.010329030124188525,
          0.42381864025824023,
          -0.9352090893542379,
          0.40343222756985375,
          -1.211384380318312,
          -1.463350370484698,
          2.016548699187806,
          0.514840495666223,
          -0.5075839221616815,
          -0.41192022215449836,
          -0.3156877920510645,
          -0.9111278403947121,
          -0.7087454157426651,
          0.7455930936221175,
          1.5904003330856378,
          0.310630220348349,
          -0.5739469610894901,
          -0.48432200803468767,
          -0.12819912273404863,
          -0.9751269643731388,
          0.48781311308918346,
          -0.29761640915531806,
          -1.544579249204406,
          -0.28690407898989706,
          -0.2779300854945917,
          -0.20935151755752426,
          0.18157258552481717,
          -0.5353268940029512,
          -0.5113112628685593,
          -0.08030581726011629,
          -0.19219824671249353,
          -0.43980007037019736,
          -0.3458800932171836,
          -0.19219824671249353,
          -0.112328746998838,
          -0.3413737835482376,
          -0.509238296494808,
          -0.19219824671249353,
          -0.24842281501304925,
          -0.4190683167021799,
          -0.5394583051054775,
          0.5319528063481426,
          0.14364955337200955,
          0.7854432085651648,
          -0.22963234341347996,
          -0.7267041493600908,
          -0.8506538935829608,
          -0.46932042147593456,
          -0.2779300854945917,
          0.4806328557912639,
          -0.28690407898989706,
          -0.2930522724753027,
          -0.3505333402389724,
          -0.09573179131310182,
          -0.38741875872821346,
          -0.2779300854945917,
          -0.24176128519250673,
          0.20557909132029858,
          -0.22064760329136213,
          4.1952684248580985,
          0.28057744394416045,
          -0.8500211885467762,
          -0.8305303262728451,
          -0.9493075306414148,
          -0.5739469610894901,
          -1.1250656658642966,
          2.845227820277833,
          0.9272831432265022,
          0.7495001078989891,
          6.7037347082180165,
          -0.6109428555151597,
          -0.4795480911830528,
          -1.0044205532579489,
          1.6028941902796325,
          -2.8296085737833785,
          1.6763374103008042,
          -0.296927293573639,
          2.722338530142859,
          0.0007176774733744577,
          -0.3638603200882333,
          -0.6468845220804201,
          2.433116035622208,
          0.10393444537061608,
          0.29436623177128934,
          -0.04323475226236706,
          -0.19219824671249353,
          0.3291408965865749,
          -0.2882555311431852,
          0.5573479568149746,
          -3.197429677067858,
          -0.26898401433541863,
          1.3403211274621165,
          0.22664336289812764,
          -0.3219815086876831,
          -0.1341468907192681,
          -0.11669237574291974,
          2.7214432594391513,
          -0.3879252897089152,
          -0.23134626197101005,
          -0.5069076598262159,
          0.48647954715099734,
          -0.5492372824854137,
          -0.41008357658006384,
          -0.4718197961741115,
          -0.2574715213874656,
          -0.1341468907192681,
          -0.2476018236577162,
          -0.1869652719370665,
          -1.0592895026084594,
          -0.24842281501304925,
          -0.4386892104655551,
          -0.09746193788313504,
          3.1181420617231694,
          -0.24176128519250673,
          -0.3313298999905726,
          -0.40317299202402584,
          -0.1783770776004678,
          -0.2116628631692418,
          -0.2476018236577162,
          -0.4960246386707498,
          -0.28690407898989706,
          0.11370443674834624,
          -0.4854249688972461,
          -0.04420377775391822,
          -0.9044663105741528,
          0.4700810187451197,
          -1.1092738550924401,
          0.06600647252701485,
          -0.1250097557776447,
          0.34349623492514236,
          -1.1633504139707633,
          5.907882540996068,
          1.9031844897542476,
          -1.1092738550924401,
          1.6467552983381137,
          2.7730279462390266,
          -1.2114005452282106,
          2.248364221403073,
          1.9100305733981666,
          0.8517035594031378,
          1.1995396718809814,
          0.03547314263443492,
          -0.6981508571625887,
          0.5378325023697949,
          -0.19219824671249353,
          -0.054678559651695297,
          -0.3794184670672761,
          -0.419538190475133,
          3.261270867954747,
          -0.02903907059009078,
          -0.19219824671249353,
          -0.49913830029502076,
          -0.7015863156030594,
          -0.13504661663321643,
          0.23000371731321204,
          -0.43980007037019736,
          -0.29612773914754903,
          -0.34578507241277445,
          -0.6242237614048164,
          -0.23266060415575457,
          0.501895211807264,
          -0.4319059904783476,
          1.526168048387179,
          -0.2521097056148151,
          -0.5315273566382862,
          -0.23628467371830006,
          1.4816392201033162,
          -0.797238570349882,
          -0.3713823426677709,
          -0.01647329099814115,
          -1.0221166688239176,
          -0.1612681700556422,
          -0.3705956874598807,
          -0.5016060994644984,
          -0.18528766215647358,
          -0.19051779744321437,
          -0.5086638499536189,
          -0.28690407898989706,
          -0.2476018236577162,
          -0.3219815086876831,
          -0.5345059026476003,
          -0.14157462502473156,
          -0.9111278403947121,
          -0.5345059026476003,
          2.0714212999805723,
          -0.376621937747078,
          -2.1257946254227047,
          0.22095711406680751,
          -0.1450920249464718,
          0.4490095719308804,
          -1.0587431221743555,
          -0.2957997362231609,
          -0.12819912273404863,
          0.25989734233979694,
          -0.9392309903919142,
          -0.2476018236577162,
          -0.027789294290278297,
          -0.20845363608987466,
          -0.1341468907192681,
          -0.3479709129498824,
          -0.11618650876313,
          -0.26858983997797387,
          -0.1300029857083825,
          -3.5036349350177267,
          -0.2476018236577162,
          -1.127536992216805,
          0.31858366153752243,
          -0.33054875077736706,
          -0.49045692652640693,
          -0.28690407898989706,
          -0.48060820854172703,
          1.1094396156361515,
          -1.2880279715390506,
          -0.6867945447506791,
          2.8598765785051725,
          0.16939560435646356,
          -0.4388604118530872,
          -0.243153257204253,
          1.7171504453124125,
          -0.08035861838794316,
          -0.22963234341347996,
          1.7107292569759416,
          -1.0210298918426126,
          2.26873525325735,
          -0.38057024385328697,
          -0.0794848259047844,
          -0.39974554744265217,
          -0.3419559848469776,
          1.6595756085604967,
          -0.39626240746802166,
          -0.22064760329136213,
          -0.886293122221203,
          0.48275297680932366,
          4.337832710183194,
          -0.5247655625598723,
          -0.025014197005939445,
          0.18974349368485371,
          -0.6348298677052023,
          -0.4436086710960296,
          2.878841946255753,
          -0.18470864280288096,
          -0.13458022254623955,
          -0.8888201747980621,
          -0.24414840563938553,
          0.3233832975057896,
          -1.0432673825653456,
          -0.07628632235305952,
          0.02877651748598315,
          -1.2697751656391365,
          2.6157928901175076,
          -0.2779300854945917,
          1.3970010851352257,
          1.5634728062770935,
          -0.5609467833327724,
          2.878934864134564,
          0.8466941032437116,
          -0.23329451505683726,
          -0.22843822555146207,
          -0.12978326197518678,
          -0.9059125946624496,
          -0.2476018236577162,
          -0.35355596585666976,
          -0.17460057013567673,
          -0.1714664930444618,
          1.0885750300658696,
          -0.05938108111952317,
          1.6472642853906907,
          0.18846511431079777,
          -0.12043338650208518,
          -0.16758951343060066,
          -0.5476812205119108,
          -0.34331428864442837,
          -0.09106987054302712,
          -0.24209885999803743,
          -0.10211052522591513,
          -0.07943780109694373,
          -0.28690407898989706,
          -1.8131433576785807,
          -0.3541009802812303,
          0.059266801533164055,
          -0.12819912273404863,
          -0.19369338292500363,
          -0.226800326502546,
          1.375597611960058,
          0.44484038625700884,
          0.026088597508131705,
          -0.03712452600208642,
          -0.07935254571168707,
          -0.10211052522591513,
          -0.1250097557776447,
          0.5211422590671376,
          0.1618726959261798,
          0.5277503814226933,
          -0.22963234341347996,
          -0.2240861245227615,
          -0.1187870812369708,
          -0.5075624289080567,
          0.13309860342933194,
          -0.3046052635749823,
          3.996991349981217,
          -0.2400389410798417,
          -0.16576332352766265,
          -0.11928342153109323,
          -0.17921615704624053,
          1.7395370371859604,
          -0.3402798111692179,
          -0.15824203075929047,
          -0.15764532393243588,
          -0.531186193015864,
          -0.03325480192423166,
          2.701624556839384,
          1.671710910694249,
          1.843954810929999,
          2.954818850696977,
          -0.17373633142001435,
          -0.23062093178538035,
          -0.300945645979774,
          -0.17147212016008584,
          -0.3093249476695433,
          1.5977115568388516,
          -1.2882677054333165,
          0.20642455740637444,
          -0.5173789070123334,
          -0.2677836621869154,
          2.176871633736277,
          0.22018343326539838,
          -0.4209774422387669,
          2.830658048821775,
          -0.732523254561992,
          -0.2312324602764604,
          -0.7950138354404676,
          -0.5542203114843609,
          0.48980468173498665,
          -0.2476018236577162,
          -0.5286653641823954,
          -0.7013503262227243,
          -0.9348711776193541,
          -0.5739469610894901,
          -0.2476018236577162,
          3.1753833565485654,
          0.17809143116202805,
          1.0120837743398994,
          -0.39142597847812677,
          -0.43980007037019736,
          -0.5321113470308487,
          -0.23861708353559852,
          -0.64908635031975,
          -0.6372433675408682,
          -0.5090578735532755,
          -0.5255211625254811,
          0.009161226490190494,
          2.8082000593242893,
          -0.2476018236577162,
          -1.299053130103651,
          0.4601034527934043,
          -1.220535686499742,
          -0.054982938804239045,
          -0.6728285989476473,
          1.930671817494534,
          2.2860270783605663,
          -0.5345059026476003,
          0.3151658880037626,
          1.1703946000091396,
          -0.19219824671249353,
          -0.3758009463917607,
          0.2920465091464184,
          -0.9012769436177765,
          -0.28690407898989706,
          -0.17275952737805014,
          1.0544355735632953,
          -0.22843822555146207,
          -5.0391321215127105,
          -0.36043747235682966,
          0.6232803913976364,
          -0.5022699950253121,
          -0.28690407898989706,
          -0.4151619775716784,
          0.15328481643005368,
          0.026088597508131705,
          -0.17392430865304465,
          -1.130462558397419,
          0.47340273040149117,
          0.42521745784312376,
          -0.0615801522771625,
          0.053950396479470586,
          -0.533754430930622,
          -1.03929416652004,
          0.037603739764506296,
          -0.4799934137581485,
          -0.316525657330618,
          -0.790257758040893,
          -0.18586268908672385,
          3.9563048839659163,
          3.27668977114399,
          -0.7447227352072043,
          0.11721000098841333,
          -1.044280918959946,
          2.529573292339006,
          1.8126128444390999,
          3.4255295445291116,
          -0.022234083244627573,
          1.3089853159757272,
          0.9289076067797241,
          0.39028119951774065,
          0.28502483904388176,
          1.3248802955078955,
          -0.8813592685113969,
          -0.06598816013274351,
          0.10853662999977444,
          -0.5559774808452532,
          -0.5353268940029512,
          -0.19219824671249353,
          -0.8988075420030531,
          3.4790051724096456,
          0.8437289994378386,
          -0.19219824671249353,
          -0.17553429556096523,
          -0.31369474501711264,
          0.25815455401160575,
          -0.3480631513594692,
          -0.22498348936671728,
          -0.8596531297839638,
          2.4109925660684857,
          -0.48758616133045973,
          -0.4816731034496931,
          -0.11291819674190222,
          -0.6867638807860658,
          -0.2476018236577162,
          0.6272301502585289,
          -0.9111278403947121,
          -0.1397849421922828,
          0.4187935509549276,
          2.177320609449642,
          -0.4721917411463884,
          -0.7169222451336653,
          1.4450569450447026,
          -0.2689560919992859,
          -0.2443213351425479,
          -0.2779300854945917,
          1.240998942525788,
          -0.49960383491798904,
          -0.22963234341347996,
          -0.2476018236577162,
          0.3405860291428398,
          -0.1250097557776447,
          0.16811699775293013,
          0.5419587299212153,
          0.007335078697351893,
          -0.3635816740137392,
          0.16811699775293013,
          -0.7473086048832404,
          0.022953899171475955,
          -0.8159595793492437,
          0.0716411607287732,
          -0.07196788480770215,
          -0.35005239214761913,
          2.4560056959922707,
          -0.3454468524195935,
          -0.3879252897089152,
          -0.0735598425441228,
          -0.6777399814556033,
          1.702334445013767,
          1.9316288681534899,
          -0.6928608376913515,
          -0.43980007037019736,
          -1.084664338281327,
          -0.48196685479773393,
          1.2996822098327363,
          -0.20108778566139093,
          0.26256728868257306,
          2.388143303785042,
          -1.102363270536423,
          2.9801627697510953,
          -0.4259789012581883,
          -0.020218131021727457,
          -0.19206620611117972,
          1.3991063774778683,
          -0.0615801522771625,
          -0.4709042365830311,
          2.9850231072386086,
          -0.4043096017450075,
          -0.5255211625254811,
          0.39067303549276206,
          -0.6196317886885144,
          -0.26815739799910954,
          -0.28690407898989706,
          -0.3541009802812303,
          -0.24203411151337578,
          -0.21485175547753632,
          -0.5117994585295695,
          -0.3803062131541286,
          -0.1957270429964297,
          -0.2689560919992859,
          -0.43275418843776736,
          -0.38423299548768947,
          0.2554918507575663,
          0.9785716414264275,
          -0.3392786251561838,
          -0.08597138079986977,
          -0.37784557707431454,
          -0.25100810500866966,
          1.4762311372372365,
          0.8546215412254267,
          -0.5739469610894901,
          -0.1341468907192681,
          1.3590631740447374,
          -0.33518984954365,
          -0.2240861245227615,
          -0.6331705345619555,
          -0.4052471475901373,
          -0.26010526792781413,
          -0.6505238126377314,
          -0.25100810500866966,
          0.5424339529021354,
          -0.2760103945989936,
          -0.646760504266221,
          0.6128289422980097,
          2.475662751883945,
          -0.08179828329889358,
          0.1206846044965785,
          -0.07606191468434938,
          -0.2240861245227615,
          -0.2476018236577162,
          -0.5353268940029512,
          0.16035085322518589,
          -0.27394843910616606,
          0.33608507804280124,
          1.6142936094639306,
          -0.5291919755112274,
          -0.28690407898989706,
          -0.11544165490841966,
          -0.19219824671249353,
          0.12009746160276925,
          -0.28690407898989706,
          -0.2476018236577162,
          -0.3969505253257201,
          0.019819200834820402,
          -0.3789716608445997,
          0.11727998318691435,
          -0.374567690263801,
          -0.13707399949629248,
          -0.3881812212380341,
          -0.12185374842298502,
          -0.33445413088754206,
          -0.0965842214895077,
          -0.22177669573092204,
          -0.12819912273404863,
          -0.21461416308892511,
          2.45780326192175,
          0.6591332751287127,
          1.1417011016368717,
          2.0413374187157824,
          0.7332152571649488,
          0.24367062659715363,
          0.17121697041366282,
          0.05221829440601489,
          2.0294114449192513,
          4.406068314885682,
          1.7784102295740516,
          -0.088038557535913,
          0.7931155250209377,
          0.8710155072575446,
          -0.5477538677115522,
          1.366823205180434,
          -0.3326406132608306,
          -0.3498005607080908,
          -0.08179828329889358,
          -0.5906455777781106,
          0.06825533636477522,
          -0.1032917659574022,
          -0.36970597828161444,
          -0.26089070627044836,
          -0.5353268940029512,
          -0.8844817211126144,
          -0.614795359698622,
          -0.18263615676416636,
          2.958095741672618,
          -0.29870279920771087,
          0.20427029721559925,
          0.3856694485168676,
          0.35526169053485207,
          -0.3813625898071891,
          1.896024313855926,
          -0.710819571308776,
          0.005845726205540634,
          -0.0678077247042903,
          -0.5534443308655177,
          -0.367549698174927,
          -0.4606170748387542,
          -0.22902473849555524,
          -0.6419082087641185,
          1.9810919465612102,
          0.29190185260696877,
          -0.1818075168077463,
          -0.15277400398264326,
          -0.25100810500866966,
          0.7924862051478565,
          -0.43980007037019736,
          0.9570007621062114,
          -0.1715372602623736,
          0.7232578953531497,
          -0.3520268247151162,
          -0.23861708353559852,
          -0.235099755371986,
          -0.3458141600098325,
          0.22541795740589107,
          -0.5165364224033676,
          -0.2994488003167119,
          -0.22064760329136213,
          -0.5016917261324753,
          -0.24842281501304925,
          -0.23861708353559852,
          0.30302880728796716,
          -0.12995992173179413,
          -0.23802022524448757,
          -0.18134155540976937,
          -0.5896978925977935,
          -0.012109662254054694,
          -0.0032580960141635504,
          -0.2779300854945917,
          -0.3409882988572803,
          -0.23306011801806809,
          -0.24842281501304925,
          -0.25100810500866966,
          -0.46907041830439106,
          -0.19219824671249353,
          -0.2116628631692418,
          -0.1951305764488112,
          -0.23861708353559852,
          -0.22963234341347996,
          -0.2476018236577162,
          -0.1253721960744146,
          -0.6348502296878404,
          -0.1161818165963624,
          -0.376621937747078,
          -0.4169941611360693,
          0.0010587306759492555,
          -0.28690407898989706,
          -0.12819912273404863,
          -0.3702432038342628,
          -0.28690407898989706,
          -0.13080020207016452,
          -0.28690407898989706,
          -0.25429480977277386,
          0.3454007070029186,
          -0.12105600448700864,
          0.7288842862762039,
          -0.5739469610894901,
          -0.1341468907192681,
          -0.02358507141254197,
          0.08231168126119297,
          -0.3277036681300954,
          -0.3263451374317658,
          1.8303541659402005,
          0.9886413896996865,
          -0.11179580656572638,
          0.03041167222672945,
          0.8218999760394065,
          0.4519857131499493,
          -0.13287440502223685,
          -0.11581457760465441,
          1.3466552888929813,
          -0.05938108111952317,
          -0.21905302322727233,
          -0.3045269937113245,
          -0.36792214939324086,
          0.5945145435431216,
          2.6712968663426166,
          -0.25100810500866966,
          -0.22064760329136213,
          0.9533809413581726,
          1.432811076070982,
          -0.4503471361480992,
          0.21468807504394852,
          -0.6838653509424186,
          -0.24842281501304925,
          0.17184460078762487,
          -0.1493395996604353,
          -0.2672105339589999,
          -0.19219824671249353,
          0.4516137799991345,
          -0.4571453395019171,
          0.5283124996735974,
          1.2907132092528457,
          -0.19219824671249353,
          0.12333471038147129,
          -0.12105600448700864,
          1.1189992192235096,
          -0.05795085910805118,
          -0.3879252897089152,
          0.9742734527159873,
          2.0808854006435484,
          0.4799904635766573,
          -0.07737637241011838,
          0.1628096632165305,
          -0.5319086617316705,
          1.2520429371588,
          0.1032064601133728,
          -0.21158154527407624,
          -0.026655571033590196,
          0.4930373001879659,
          0.8229124048329336,
          0.13550697226523714,
          1.7895132030384622,
          -0.3471920652526069,
          1.1217262176887708,
          -0.5405019337656652,
          -0.3817487143769721,
          -0.09722752556548192,
          -0.12978326197518678,
          -0.20267812304712268,
          -0.0908618988535645,
          -0.08520496085112807,
          -0.18528766215647358,
          -0.2476018236577162,
          1.0902994098625818,
          -0.5739469610894901,
          -0.039278946155563745,
          0.016600997487898356,
          0.09372188619091097,
          -0.10796511825474965,
          0.03585104363588118,
          -0.07491590667475845,
          -0.10424122140398663,
          -0.43081533024808044,
          -0.24176128519250673,
          -0.1341468907192681,
          -0.12309240115237588,
          -0.08614697453431515,
          -0.1511003409276143,
          0.06307775521975557,
          -0.28690407898989706,
          -0.28153494144658325,
          -0.1714664930444618,
          -0.3063377118021215,
          -0.5345059026476003,
          -0.2116628631692418,
          -0.2914360296187888,
          2.0221687088607108,
          -0.48060820854172703,
          1.5068168529583634,
          -0.5107762298541487,
          -0.5345059026476003,
          -0.5345059026476003,
          -0.19219824671249353,
          0.1966395328381939,
          -0.24842281501304925,
          -0.12819912273404863,
          0.022193346238893602,
          -0.31846645228156323,
          -0.4806297017953474,
          -0.4360615253763034,
          -0.22963234341347996,
          -0.0677937611308912,
          -0.5490668962891977,
          -0.28736050664467216,
          -0.09979235726591708,
          -0.18528766215647358,
          -0.07079104322393867,
          -0.12105600448700864,
          0.23855893709939807,
          -0.28690407898989706,
          0.06349338185992764,
          -0.19168754022538864,
          -0.2779300854945917,
          -0.0461866541736675,
          -0.5353268940029512,
          -0.24203411151337578,
          -0.43980007037019736,
          -0.23861708353559852,
          -0.22555234514776737,
          -0.1306009689712005,
          -0.05278386764659551,
          -0.38312935621369704,
          -0.2689560919992859,
          -0.08580622788238719,
          -0.1783770776004678,
          -0.14765809966908452,
          -0.05538566083370005,
          0.23731660458080212,
          0.13079561164270975,
          0.25476212478041327,
          0.5850700054646889,
          0.3746693400978063,
          0.0061388270810674075,
          -0.14837700993278732,
          -0.003986849052607741,
          0.4933564466850787,
          -0.0678668712049105,
          0.3995862110530908,
          0.5262734869073081,
          0.09467860669810707,
          -0.16291354348778875,
          -0.009906498811119146,
          0.14642039653206518,
          -0.14336349806738644,
          0.06721548743400707,
          0.13683689504367916,
          -0.33613150003699144,
          -0.24596507857154185,
          -0.1957270429964297,
          -0.1891643430947044,
          0.3633351398146138,
          -0.12978326197518678,
          -0.3263451374317658,
          -0.32299844878264555,
          -0.1957270429964297,
          0.0025152901263770793,
          0.2948646620844188,
          1.4678337892476672,
          -0.2608031877785596,
          -0.16947624338951126,
          -0.08179828329889358,
          -0.06313890509192946,
          -0.1714664930444618,
          0.029051607680821007,
          0.00129812085582543,
          -0.12188377481454583,
          -0.0405386352137204,
          0.39027621084546715,
          0.1408245874373919,
          -0.10520643163939548,
          -0.13676628459446616,
          -0.06089714014827771,
          0.33353649001756575,
          -0.12309240115237588,
          -0.2773866303143811,
          -0.5165471690301758,
          0.11009001111486288,
          -0.05358024811198385,
          -0.03958944070074423,
          -0.2932527804112334,
          -0.12541963323109204,
          -0.32800733261428405,
          -0.39986376033761817,
          -0.3263451374317658,
          0.2224368266481921,
          -0.5345059026476003,
          -0.30112833863561483,
          -0.2779300854945917,
          -0.4626602215511094,
          0.31822766531579466,
          -0.19219824671249353,
          -0.4010988364579479,
          0.18343507023038078,
          -0.2476018236577162,
          -0.5255319091522941,
          -0.09892115826950879,
          -0.12819912273404863,
          0.016589790098249294,
          -0.06255424160728536,
          0.026088597508131705,
          -0.43980007037019736,
          0.022582871640781016,
          -0.28690407898989706,
          -0.07967561929156808,
          -0.1951305764488112,
          -0.38312935621369704,
          -0.19219824671249353,
          -0.235099755371986,
          -0.23306011801806809,
          0.10580632930820383,
          0.047584502606070535,
          -0.011374309244188599,
          -0.00547842805916294,
          0.05497061907786518,
          -0.012523048256197392,
          -0.0615801522771625,
          0.20450745779751922,
          0.052771547920221366,
          0.0747622594966399,
          0.019579066977196382,
          -0.1341468907192681,
          0.04039825904419186,
          0.06596597486607225,
          -0.019481145873598366,
          0.05716530953173646,
          0.006591053609739362,
          -0.0615801522771625,
          0.6294881394958518,
          -0.00031953202226523927,
          -0.05278386764659551,
          0.09675297107306108,
          0.009261274903401711,
          -0.004004457762906398,
          -0.016533205281086653,
          -0.12978326197518678,
          -0.05278386764659551,
          -0.18528766215647358,
          -0.13691357026440237,
          -0.0047414429110346325,
          -0.008802444493754554,
          0.38076130108294043,
          -0.1341468907192681,
          0.022527007569709455,
          0.03603463030010645,
          -0.12105600448700864,
          -0.12105600448700864,
          0.18097331931211047,
          0.6688416687984703,
          -0.22963234341347996,
          -0.1341468907192681,
          -0.2116628631692418,
          -0.05718200996187895,
          -0.11669237574291974,
          -0.2476018236577162,
          -0.05560157332570837,
          -0.05938108111952317,
          -0.13691357026440237,
          0.616340146340805,
          -0.12978326197518678,
          -0.12181546194804806,
          -0.05278386764659551,
          -0.026344217368219323,
          -0.0747183092602976,
          0.012955639883743968,
          0.015387338240307675,
          -0.19369338292500363,
          -0.1783770776004678,
          -0.15764532393243588,
          -0.04095280084897254,
          -0.23861708353559852,
          -0.09923786076657741,
          -0.09845021558850862,
          -0.24203411151337578,
          0.1512689742187299,
          0.1421606804378884,
          -0.19219824671249378,
          -0.21770354724949,
          -0.1783770776004678,
          -0.14332018306502725,
          -0.2476018236577162,
          -0.235099755371986
         ],
         "yaxis": "y"
        }
       ],
       "layout": {
        "coloraxis": {
         "cmax": 0.7,
         "cmin": 0.1,
         "colorbar": {
          "title": {
           "text": "fg3m_pct"
          }
         },
         "colorscale": [
          [
           0,
           "#0d0887"
          ],
          [
           0.1111111111111111,
           "#46039f"
          ],
          [
           0.2222222222222222,
           "#7201a8"
          ],
          [
           0.3333333333333333,
           "#9c179e"
          ],
          [
           0.4444444444444444,
           "#bd3786"
          ],
          [
           0.5555555555555556,
           "#d8576b"
          ],
          [
           0.6666666666666666,
           "#ed7953"
          ],
          [
           0.7777777777777778,
           "#fb9f3a"
          ],
          [
           0.8888888888888888,
           "#fdca26"
          ],
          [
           1,
           "#f0f921"
          ]
         ]
        },
        "legend": {
         "itemsizing": "constant",
         "tracegroupgap": 0
        },
        "template": {
         "data": {
          "bar": [
           {
            "error_x": {
             "color": "#2a3f5f"
            },
            "error_y": {
             "color": "#2a3f5f"
            },
            "marker": {
             "line": {
              "color": "#E5ECF6",
              "width": 0.5
             },
             "pattern": {
              "fillmode": "overlay",
              "size": 10,
              "solidity": 0.2
             }
            },
            "type": "bar"
           }
          ],
          "barpolar": [
           {
            "marker": {
             "line": {
              "color": "#E5ECF6",
              "width": 0.5
             },
             "pattern": {
              "fillmode": "overlay",
              "size": 10,
              "solidity": 0.2
             }
            },
            "type": "barpolar"
           }
          ],
          "carpet": [
           {
            "aaxis": {
             "endlinecolor": "#2a3f5f",
             "gridcolor": "white",
             "linecolor": "white",
             "minorgridcolor": "white",
             "startlinecolor": "#2a3f5f"
            },
            "baxis": {
             "endlinecolor": "#2a3f5f",
             "gridcolor": "white",
             "linecolor": "white",
             "minorgridcolor": "white",
             "startlinecolor": "#2a3f5f"
            },
            "type": "carpet"
           }
          ],
          "choropleth": [
           {
            "colorbar": {
             "outlinewidth": 0,
             "ticks": ""
            },
            "type": "choropleth"
           }
          ],
          "contour": [
           {
            "colorbar": {
             "outlinewidth": 0,
             "ticks": ""
            },
            "colorscale": [
             [
              0,
              "#0d0887"
             ],
             [
              0.1111111111111111,
              "#46039f"
             ],
             [
              0.2222222222222222,
              "#7201a8"
             ],
             [
              0.3333333333333333,
              "#9c179e"
             ],
             [
              0.4444444444444444,
              "#bd3786"
             ],
             [
              0.5555555555555556,
              "#d8576b"
             ],
             [
              0.6666666666666666,
              "#ed7953"
             ],
             [
              0.7777777777777778,
              "#fb9f3a"
             ],
             [
              0.8888888888888888,
              "#fdca26"
             ],
             [
              1,
              "#f0f921"
             ]
            ],
            "type": "contour"
           }
          ],
          "contourcarpet": [
           {
            "colorbar": {
             "outlinewidth": 0,
             "ticks": ""
            },
            "type": "contourcarpet"
           }
          ],
          "heatmap": [
           {
            "colorbar": {
             "outlinewidth": 0,
             "ticks": ""
            },
            "colorscale": [
             [
              0,
              "#0d0887"
             ],
             [
              0.1111111111111111,
              "#46039f"
             ],
             [
              0.2222222222222222,
              "#7201a8"
             ],
             [
              0.3333333333333333,
              "#9c179e"
             ],
             [
              0.4444444444444444,
              "#bd3786"
             ],
             [
              0.5555555555555556,
              "#d8576b"
             ],
             [
              0.6666666666666666,
              "#ed7953"
             ],
             [
              0.7777777777777778,
              "#fb9f3a"
             ],
             [
              0.8888888888888888,
              "#fdca26"
             ],
             [
              1,
              "#f0f921"
             ]
            ],
            "type": "heatmap"
           }
          ],
          "heatmapgl": [
           {
            "colorbar": {
             "outlinewidth": 0,
             "ticks": ""
            },
            "colorscale": [
             [
              0,
              "#0d0887"
             ],
             [
              0.1111111111111111,
              "#46039f"
             ],
             [
              0.2222222222222222,
              "#7201a8"
             ],
             [
              0.3333333333333333,
              "#9c179e"
             ],
             [
              0.4444444444444444,
              "#bd3786"
             ],
             [
              0.5555555555555556,
              "#d8576b"
             ],
             [
              0.6666666666666666,
              "#ed7953"
             ],
             [
              0.7777777777777778,
              "#fb9f3a"
             ],
             [
              0.8888888888888888,
              "#fdca26"
             ],
             [
              1,
              "#f0f921"
             ]
            ],
            "type": "heatmapgl"
           }
          ],
          "histogram": [
           {
            "marker": {
             "pattern": {
              "fillmode": "overlay",
              "size": 10,
              "solidity": 0.2
             }
            },
            "type": "histogram"
           }
          ],
          "histogram2d": [
           {
            "colorbar": {
             "outlinewidth": 0,
             "ticks": ""
            },
            "colorscale": [
             [
              0,
              "#0d0887"
             ],
             [
              0.1111111111111111,
              "#46039f"
             ],
             [
              0.2222222222222222,
              "#7201a8"
             ],
             [
              0.3333333333333333,
              "#9c179e"
             ],
             [
              0.4444444444444444,
              "#bd3786"
             ],
             [
              0.5555555555555556,
              "#d8576b"
             ],
             [
              0.6666666666666666,
              "#ed7953"
             ],
             [
              0.7777777777777778,
              "#fb9f3a"
             ],
             [
              0.8888888888888888,
              "#fdca26"
             ],
             [
              1,
              "#f0f921"
             ]
            ],
            "type": "histogram2d"
           }
          ],
          "histogram2dcontour": [
           {
            "colorbar": {
             "outlinewidth": 0,
             "ticks": ""
            },
            "colorscale": [
             [
              0,
              "#0d0887"
             ],
             [
              0.1111111111111111,
              "#46039f"
             ],
             [
              0.2222222222222222,
              "#7201a8"
             ],
             [
              0.3333333333333333,
              "#9c179e"
             ],
             [
              0.4444444444444444,
              "#bd3786"
             ],
             [
              0.5555555555555556,
              "#d8576b"
             ],
             [
              0.6666666666666666,
              "#ed7953"
             ],
             [
              0.7777777777777778,
              "#fb9f3a"
             ],
             [
              0.8888888888888888,
              "#fdca26"
             ],
             [
              1,
              "#f0f921"
             ]
            ],
            "type": "histogram2dcontour"
           }
          ],
          "mesh3d": [
           {
            "colorbar": {
             "outlinewidth": 0,
             "ticks": ""
            },
            "type": "mesh3d"
           }
          ],
          "parcoords": [
           {
            "line": {
             "colorbar": {
              "outlinewidth": 0,
              "ticks": ""
             }
            },
            "type": "parcoords"
           }
          ],
          "pie": [
           {
            "automargin": true,
            "type": "pie"
           }
          ],
          "scatter": [
           {
            "fillpattern": {
             "fillmode": "overlay",
             "size": 10,
             "solidity": 0.2
            },
            "type": "scatter"
           }
          ],
          "scatter3d": [
           {
            "line": {
             "colorbar": {
              "outlinewidth": 0,
              "ticks": ""
             }
            },
            "marker": {
             "colorbar": {
              "outlinewidth": 0,
              "ticks": ""
             }
            },
            "type": "scatter3d"
           }
          ],
          "scattercarpet": [
           {
            "marker": {
             "colorbar": {
              "outlinewidth": 0,
              "ticks": ""
             }
            },
            "type": "scattercarpet"
           }
          ],
          "scattergeo": [
           {
            "marker": {
             "colorbar": {
              "outlinewidth": 0,
              "ticks": ""
             }
            },
            "type": "scattergeo"
           }
          ],
          "scattergl": [
           {
            "marker": {
             "colorbar": {
              "outlinewidth": 0,
              "ticks": ""
             }
            },
            "type": "scattergl"
           }
          ],
          "scattermapbox": [
           {
            "marker": {
             "colorbar": {
              "outlinewidth": 0,
              "ticks": ""
             }
            },
            "type": "scattermapbox"
           }
          ],
          "scatterpolar": [
           {
            "marker": {
             "colorbar": {
              "outlinewidth": 0,
              "ticks": ""
             }
            },
            "type": "scatterpolar"
           }
          ],
          "scatterpolargl": [
           {
            "marker": {
             "colorbar": {
              "outlinewidth": 0,
              "ticks": ""
             }
            },
            "type": "scatterpolargl"
           }
          ],
          "scatterternary": [
           {
            "marker": {
             "colorbar": {
              "outlinewidth": 0,
              "ticks": ""
             }
            },
            "type": "scatterternary"
           }
          ],
          "surface": [
           {
            "colorbar": {
             "outlinewidth": 0,
             "ticks": ""
            },
            "colorscale": [
             [
              0,
              "#0d0887"
             ],
             [
              0.1111111111111111,
              "#46039f"
             ],
             [
              0.2222222222222222,
              "#7201a8"
             ],
             [
              0.3333333333333333,
              "#9c179e"
             ],
             [
              0.4444444444444444,
              "#bd3786"
             ],
             [
              0.5555555555555556,
              "#d8576b"
             ],
             [
              0.6666666666666666,
              "#ed7953"
             ],
             [
              0.7777777777777778,
              "#fb9f3a"
             ],
             [
              0.8888888888888888,
              "#fdca26"
             ],
             [
              1,
              "#f0f921"
             ]
            ],
            "type": "surface"
           }
          ],
          "table": [
           {
            "cells": {
             "fill": {
              "color": "#EBF0F8"
             },
             "line": {
              "color": "white"
             }
            },
            "header": {
             "fill": {
              "color": "#C8D4E3"
             },
             "line": {
              "color": "white"
             }
            },
            "type": "table"
           }
          ]
         },
         "layout": {
          "annotationdefaults": {
           "arrowcolor": "#2a3f5f",
           "arrowhead": 0,
           "arrowwidth": 1
          },
          "autotypenumbers": "strict",
          "coloraxis": {
           "colorbar": {
            "outlinewidth": 0,
            "ticks": ""
           }
          },
          "colorscale": {
           "diverging": [
            [
             0,
             "#8e0152"
            ],
            [
             0.1,
             "#c51b7d"
            ],
            [
             0.2,
             "#de77ae"
            ],
            [
             0.3,
             "#f1b6da"
            ],
            [
             0.4,
             "#fde0ef"
            ],
            [
             0.5,
             "#f7f7f7"
            ],
            [
             0.6,
             "#e6f5d0"
            ],
            [
             0.7,
             "#b8e186"
            ],
            [
             0.8,
             "#7fbc41"
            ],
            [
             0.9,
             "#4d9221"
            ],
            [
             1,
             "#276419"
            ]
           ],
           "sequential": [
            [
             0,
             "#0d0887"
            ],
            [
             0.1111111111111111,
             "#46039f"
            ],
            [
             0.2222222222222222,
             "#7201a8"
            ],
            [
             0.3333333333333333,
             "#9c179e"
            ],
            [
             0.4444444444444444,
             "#bd3786"
            ],
            [
             0.5555555555555556,
             "#d8576b"
            ],
            [
             0.6666666666666666,
             "#ed7953"
            ],
            [
             0.7777777777777778,
             "#fb9f3a"
            ],
            [
             0.8888888888888888,
             "#fdca26"
            ],
            [
             1,
             "#f0f921"
            ]
           ],
           "sequentialminus": [
            [
             0,
             "#0d0887"
            ],
            [
             0.1111111111111111,
             "#46039f"
            ],
            [
             0.2222222222222222,
             "#7201a8"
            ],
            [
             0.3333333333333333,
             "#9c179e"
            ],
            [
             0.4444444444444444,
             "#bd3786"
            ],
            [
             0.5555555555555556,
             "#d8576b"
            ],
            [
             0.6666666666666666,
             "#ed7953"
            ],
            [
             0.7777777777777778,
             "#fb9f3a"
            ],
            [
             0.8888888888888888,
             "#fdca26"
            ],
            [
             1,
             "#f0f921"
            ]
           ]
          },
          "colorway": [
           "#636efa",
           "#EF553B",
           "#00cc96",
           "#ab63fa",
           "#FFA15A",
           "#19d3f3",
           "#FF6692",
           "#B6E880",
           "#FF97FF",
           "#FECB52"
          ],
          "font": {
           "color": "#2a3f5f"
          },
          "geo": {
           "bgcolor": "white",
           "lakecolor": "white",
           "landcolor": "#E5ECF6",
           "showlakes": true,
           "showland": true,
           "subunitcolor": "white"
          },
          "hoverlabel": {
           "align": "left"
          },
          "hovermode": "closest",
          "mapbox": {
           "style": "light"
          },
          "paper_bgcolor": "white",
          "plot_bgcolor": "#E5ECF6",
          "polar": {
           "angularaxis": {
            "gridcolor": "white",
            "linecolor": "white",
            "ticks": ""
           },
           "bgcolor": "#E5ECF6",
           "radialaxis": {
            "gridcolor": "white",
            "linecolor": "white",
            "ticks": ""
           }
          },
          "scene": {
           "xaxis": {
            "backgroundcolor": "#E5ECF6",
            "gridcolor": "white",
            "gridwidth": 2,
            "linecolor": "white",
            "showbackground": true,
            "ticks": "",
            "zerolinecolor": "white"
           },
           "yaxis": {
            "backgroundcolor": "#E5ECF6",
            "gridcolor": "white",
            "gridwidth": 2,
            "linecolor": "white",
            "showbackground": true,
            "ticks": "",
            "zerolinecolor": "white"
           },
           "zaxis": {
            "backgroundcolor": "#E5ECF6",
            "gridcolor": "white",
            "gridwidth": 2,
            "linecolor": "white",
            "showbackground": true,
            "ticks": "",
            "zerolinecolor": "white"
           }
          },
          "shapedefaults": {
           "line": {
            "color": "#2a3f5f"
           }
          },
          "ternary": {
           "aaxis": {
            "gridcolor": "white",
            "linecolor": "white",
            "ticks": ""
           },
           "baxis": {
            "gridcolor": "white",
            "linecolor": "white",
            "ticks": ""
           },
           "bgcolor": "#E5ECF6",
           "caxis": {
            "gridcolor": "white",
            "linecolor": "white",
            "ticks": ""
           }
          },
          "title": {
           "x": 0.05
          },
          "xaxis": {
           "automargin": true,
           "gridcolor": "white",
           "linecolor": "white",
           "ticks": "",
           "title": {
            "standoff": 15
           },
           "zerolinecolor": "white",
           "zerolinewidth": 2
          },
          "yaxis": {
           "automargin": true,
           "gridcolor": "white",
           "linecolor": "white",
           "ticks": "",
           "title": {
            "standoff": 15
           },
           "zerolinecolor": "white",
           "zerolinewidth": 2
          }
         }
        },
        "title": {
         "text": "fg3m"
        },
        "xaxis": {
         "anchor": "y",
         "domain": [
          0,
          1
         ],
         "title": {
          "text": "x"
         }
        },
        "yaxis": {
         "anchor": "x",
         "domain": [
          0,
          1
         ],
         "title": {
          "text": "y"
         }
        }
       }
      },
      "text/html": [
       "<div>                            <div id=\"f2cb3f2d-8f63-4d26-bb96-ce4b9521fdcd\" class=\"plotly-graph-div\" style=\"height:525px; width:100%;\"></div>            <script type=\"text/javascript\">                require([\"plotly\"], function(Plotly) {                    window.PLOTLYENV=window.PLOTLYENV || {};                                    if (document.getElementById(\"f2cb3f2d-8f63-4d26-bb96-ce4b9521fdcd\")) {                    Plotly.newPlot(                        \"f2cb3f2d-8f63-4d26-bb96-ce4b9521fdcd\",                        [{\"customdata\":[[0.3882978723404255,188.0,\"Byron Scott\"],[0.25,15.428571428571429,\"Grant Long\"],[0.0,0.3333333333333333,\"Dan Schayes\"],[0.4,20.0,\"Sedale Threatt\"],[null,0.0,\"Chris King\"],[0.4057112068965517,154.66666666666666,\"Eric Piatkowski\"],[0.336322869955157,334.5,\"Clyde Drexler\"],[0.3751160631383473,179.5,\"Greg Anthony\"],[0.14285714285714285,3.5,\"Rik Smits\"],[0.2,11.25,\"Dennis Rodman\"],[0.0,0.4,\"Luc Longley\"],[0.2777777777777778,10.8,\"Doug West\"],[0.1,2.0,\"Jim McIlvaine\"],[null,0.0,\"Lorenzo Williams\"],[0.0,1.0,\"Clifford Rozier\"],[0.0,0.5,\"Eric Riley\"],[0.36666666666666664,30.0,\"Sarunas Marciulionis\"],[0.2647058823529412,17.0,\"Greg Graham\"],[0.2857142857142857,10.5,\"Brad Lohaus\"],[0.14814814814814814,3.857142857142857,\"Monty Williams\"],[0.3623693379790941,179.375,\"Chris Whitney\"],[0.3528550512445095,227.66666666666666,\"George McCloud\"],[null,0.0,\"Wayman Tisdale\"],[null,0.0,\"Gheorghe Muresan\"],[0.3539518900343643,97.0,\"Mahmoud Abdul-Rauf\"],[0.0,2.0,\"Micheal Williams\"],[0.37442396313364057,173.6,\"Mario Elie\"],[0.125,1.6,\"Dickey Simpkins\"],[0.2,2.5,\"Marty Conlon\"],[0.32178387650085766,265.0,\"Gary Payton\"],[0.35355029585798814,184.36363636363637,\"Doug Christie\"],[0.25,2.6666666666666665,\"Carl Herrera\"],[0.0,0.8,\"Michael Smith\"],[0.3909378292939937,189.8,\"Sam Perkins\"],[0.22388059701492538,22.333333333333332,\"Greg Minor\"],[0.0,0.6,\"Tom Hammonds\"],[0.42416107382550333,106.42857142857143,\"Steve Kerr\"],[0.2774869109947644,63.666666666666664,\"Pooh Richardson\"],[0.3581395348837209,95.55555555555556,\"Kenny Anderson\"],[0.0,0.6666666666666666,\"Hot Rod Williams\"],[0.3046683046683047,81.4,\"Cedric Ceballos\"],[0.2621951219512195,23.428571428571427,\"Doug Overton\"],[null,0.0,\"LaSalle Thompson\"],[0.15789473684210525,38.0,\"Ken Norman\"],[0.35294117647058826,8.5,\"Jeff Grayer\"],[0.3333333333333333,0.75,\"Bill Wennington\"],[0.3416867469879518,230.55555555555554,\"Latrell Sprewell\"],[0.37813211845102507,73.16666666666667,\"Brent Price\"],[null,0.0,\"Dikembe Mutombo\"],[null,0.0,\"Steve Scheffler\"],[0.35933333333333334,300.0,\"Nick Van Exel\"],[0.43492063492063493,118.125,\"Hubert Davis\"],[0.0,0.2857142857142857,\"Mark Bryant\"],[0.3876651982378855,90.8,\"Detlef Schrempf\"],[0.34130434782608693,230.0,\"Nick Anderson\"],[0.31868131868131866,22.75,\"Tim Legler\"],[0.367003367003367,148.5,\"Todd Day\"],[null,0.0,\"Benoit Benjamin\"],[0.3474277660324172,236.5,\"Dan Majerle\"],[0.40142729705619984,280.25,\"Dale Ellis\"],[0.33376877857609405,127.58333333333333,\"Robert Horry\"],[0.3085250338294993,105.57142857142857,\"LaPhonso Ellis\"],[0.33766233766233766,38.5,\"Dontonio Wingfield\"],[0.3333333333333333,15.0,\"David Wood\"],[0.37135135135135133,205.55555555555554,\"Steven Smith\"],[0.1111111111111111,3.0,\"Patrick Ewing\"],[null,0.0,\"Fred Roberts\"],[0.2947976878612717,21.625,\"Robert Pack\"],[0.24102564102564103,21.666666666666668,\"Vlade Divac\"],[0.32786885245901637,91.5,\"David Benoit\"],[0.0,1.0,\"Dino Radja\"],[0.3616532721010333,237.54545454545453,\"David Wesley\"],[0.4104803493449782,76.33333333333333,\"Kevin Johnson\"],[0.0,1.1666666666666667,\"P.J. Brown\"],[0.3174451858913251,209.8,\"Vernon Maxwell\"],[null,0.0,\"Anthony Avent\"],[0.0,1.0,\"Donald Royal\"],[0.3564954682779456,110.33333333333333,\"Terry Dehere\"],[0.37604245640636846,164.875,\"Tracy Murray\"],[0.3593429158110883,81.16666666666667,\"Jud Buechler\"],[0.3606382978723404,170.9090909090909,\"Jalen Rose\"],[0.0,1.0,\"Adrian Caldwell\"],[0.0,1.0,\"Antoine Carr\"],[0.3544857768052516,152.33333333333334,\"Derek Harper\"],[0.3333333333333333,3.0,\"Tim Breaux\"],[0.33810888252148996,99.71428571428571,\"Chris Childs\"],[0.24324324324324326,6.166666666666667,\"Hakeem Olajuwon\"],[0.30467289719626167,107.0,\"Ron Harper\"],[0.33578792341678937,97.0,\"Chris Mills\"],[0.4,1.25,\"Joe Kleine\"],[0.3563636363636364,91.66666666666667,\"Keith Askins\"],[null,0.0,\"Alton Lister\"],[null,0.0,\"Antonio Harvey\"],[0.37155963302752293,43.6,\"Muggsy Bogues\"],[0.18181818181818182,1.8333333333333333,\"Olden Polynice\"],[0.34615384615384615,117.0,\"Bryant Stith\"],[0.40875912408759124,39.142857142857146,\"John Crotty\"],[0.43703703703703706,135.0,\"Kenny Smith\"],[0.33816425120772947,41.4,\"Billy Owens\"],[0.25,1.3333333333333333,\"Bison Dele\"],[0.3827993254637437,148.25,\"Bobby Phills\"],[0.30289855072463767,57.5,\"Chris Webber\"],[0.5714285714285714,1.75,\"Terry Cummings\"],[0.6666666666666666,0.6,\"Duane Causwell\"],[0.37962037962037964,250.25,\"Dennis Scott\"],[0.2,1.6666666666666667,\"Anthony Mason\"],[0.6,5.0,\"Anthony Bowie\"],[0.36009732360097324,137.0,\"Lee Mayberry\"],[0.35789473684210527,114.0,\"Scott Burrell\"],[0.4045977011494253,124.28571428571429,\"Danny Ferry\"],[0.2647058823529412,34.0,\"Reggie Williams\"],[0.0,0.2857142857142857,\"Chris Dudley\"],[0.3230769230769231,13.0,\"Gary Grant\"],[0.3644067796610169,59.0,\"Nate McMillan\"],[0.4214417744916821,135.25,\"Jeff Hornacek\"],[0.33116883116883117,128.33333333333334,\"Sam Cassell\"],[0.4148550724637681,184.0,\"Dell Curry\"],[0.3561643835616438,109.5,\"Terrell Brandon\"],[null,0.0,\"Eric Mobley\"],[null,0.0,\"Yinka Dare\"],[0.05,2.0,\"Antonio Davis\"],[0.32106038291605304,97.0,\"Brian Shaw\"],[0.33739837398373984,41.0,\"Vinny Del Negro\"],[0.14285714285714285,0.7777777777777778,\"Clar. Weatherspoon\"],[0.2222222222222222,2.25,\"Bill Curley\"],[0.3734349482852477,306.1666666666667,\"Eddie Jones\"],[0.0,1.5,\"Antonio Lang\"],[0.1111111111111111,1.8,\"Adam Keefe\"],[0.36363636363636365,96.25,\"Khalid Reeves\"],[0.33766233766233766,25.666666666666668,\"Kevin Edwards\"],[0.0,0.625,\"Tyrone Hill\"],[0.34994582881906827,83.9090909090909,\"Darrick Martin\"],[0.38686131386861317,137.0,\"Brooks Thompson\"],[null,0.0,\"Darrin Hancock\"],[0.3516597510373444,87.63636363636364,\"Aaron McKie\"],[0.37445414847161573,152.66666666666666,\"Dee Brown\"],[0.0,3.0,\"Greg Anderson\"],[0.4005819592628516,343.6666666666667,\"Joe Dumars\"],[0.317351598173516,48.666666666666664,\"George Lynch\"],[0.3652694610778443,100.2,\"Sean Elliott\"],[0.2465753424657534,9.125,\"Karl Malone\"],[0.32608695652173914,40.25,\"Grant Hill\"],[0.14285714285714285,0.7,\"Brian Grant\"],[0.0,0.3333333333333333,\"Michael Cage\"],[0.297029702970297,33.666666666666664,\"Harvey Grant\"],[0.043478260869565216,2.875,\"Horace Grant\"],[0.35807860262008734,114.5,\"Johnny Newman\"],[0.36,16.666666666666668,\"Duane Ferrell\"],[0.3987012987012987,256.6666666666667,\"Allan Houston\"],[0.0625,3.2,\"Stacey Augmon\"],[null,0.0,\"Charles Jones\"],[null,0.0,\"Felton Spencer\"],[0.15789473684210525,2.111111111111111,\"Scott Williams\"],[0.3584033613445378,170.0,\"Lindsey Hunter\"],[null,0.0,\"Eric Leckner\"],[0.0,1.5,\"Armen Gilliam\"],[0.34782608695652173,46.0,\"Ledell Eackles\"],[null,0.0,\"Ed Pinckney\"],[0.0,0.16666666666666666,\"Anthony Miller\"],[0.0,1.0,\"Charles Smith\"],[0.34832134292565947,208.5,\"Rick Fox\"],[0.1,1.8181818181818181,\"Alonzo Mourning\"],[0.34365325077399383,143.55555555555554,\"Glenn Robinson\"],[0.3284006829823563,292.8333333333333,\"Mookie Blaylock\"],[0.3948087431693989,104.57142857142857,\"John Stockton\"],[null,0.0,\"Robert Parish\"],[null,0.0,\"Derrick Alston\"],[0.2835820895522388,33.5,\"Bobby Hurley\"],[0.5,4.0,\"Richard Manning\"],[0.33530571992110453,253.5,\"John Starks\"],[0.3333333333333333,6.0,\"Jamie Watson\"],[0.25,6.857142857142857,\"Greg Foster\"],[0.3851727982162765,199.33333333333334,\"Anthony Peeler\"],[0.0,0.3333333333333333,\"Rick Mahorn\"],[0.20202020202020202,14.142857142857142,\"Danny Manning\"],[0.48214285714285715,112.0,\"Kevin Gamble\"],[0.42105263157894735,19.0,\"Willie Anderson\"],[0.24858757062146894,19.666666666666668,\"Tom Gugliotta\"],[0.17647058823529413,5.666666666666667,\"Joe Wolf\"],[0.4019253910950662,118.71428571428571,\"Dana Barros\"],[0.4015957446808511,188.0,\"Terry Porter\"],[0.3364485981308411,21.4,\"Mitchell Butler\"],[0.35089209855564996,147.125,\"Mark Jackson\"],[null,0.0,\"Stacey King\"],[0.3333333333333333,228.75,\"Darrell Armstrong\"],[0.2692307692307692,13.0,\"Vincent Askew\"],[0.2857142857142857,77.0,\"Chris Morris\"],[0.3176605504587156,79.27272727272727,\"Anfernee Hardaway\"],[0.29850746268656714,11.166666666666666,\"Chucky Brown\"],[0.358974358974359,223.36363636363637,\"Clifford Robinson\"],[0.28708133971291866,23.22222222222222,\"Christian Laettner\"],[0.3604004449388209,224.75,\"Rex Chapman\"],[0.2900763358778626,21.833333333333332,\"Derrick McKey\"],[0.5,1.0,\"Dwayne Schintzius\"],[0.3677811550151976,182.77777777777777,\"Charlie Ward\"],[0.3952569169960474,151.8,\"Terry Mills\"],[0.34604651162790695,179.16666666666666,\"Isaiah Rider\"],[0.0,0.3333333333333333,\"Eric Montross\"],[0.28421052631578947,95.0,\"Craig Ehlo\"],[0.3047619047619048,35.0,\"Tony Smith\"],[0.34851138353765326,142.75,\"James Robinson\"],[0.2810344827586207,64.44444444444444,\"Kendall Gill\"],[0.24553571428571427,22.4,\"Calbert Cheaney\"],[0.34509803921568627,42.5,\"Elliot Perry\"],[0.3331314354936402,165.1,\"Toni Kukoc\"],[0.3601694915254237,236.0,\"Sasha Danilovic\"],[0.22142857142857142,31.11111111111111,\"Rod Strickland\"],[0.39287782281412853,383.77777777777777,\"Reggie Miller\"],[0.14285714285714285,0.875,\"Sean Rooks\"],[0.041666666666666664,4.8,\"Derek Strong\"],[0.75,4.0,\"Kevin Duckworth\"],[0.0,0.7333333333333333,\"Shaquille O'Neal\"],[0.0,0.5,\"Sharone Wright\"],[0.2857142857142857,18.666666666666668,\"Willie Burton\"],[0.2753623188405797,34.5,\"Sam Mitchell\"],[0.43478260869565216,11.5,\"Scott Brooks\"],[0.0,3.3333333333333335,\"Jayson Williams\"],[0.14473684210526316,9.5,\"Avery Johnson\"],[0.26595744680851063,31.333333333333332,\"Chris Gatling\"],[0.0,0.3333333333333333,\"Terry Davis\"],[0.28634361233480177,45.4,\"Sherman Douglas\"],[0.3230769230769231,9.285714285714286,\"Shawn Kemp\"],[0.378839590443686,73.25,\"Pete Chilcutt\"],[0.0,0.5,\"Buck Williams\"],[0.1875,16.0,\"Tony Dumas\"],[0.30337078651685395,14.833333333333334,\"Carlos Rogers\"],[0.06666666666666667,1.7647058823529411,\"Juwan Howard\"],[null,0.0,\"Robert Werdann\"],[0.0,0.25,\"Zan Tabak\"],[0.3763250883392226,125.77777777777777,\"Lamond Murray\"],[null,0.0,\"Pervis Ellison\"],[0.42160919540229885,241.66666666666666,\"Wesley Person\"],[0.34269005847953216,95.0,\"Lucious Harris\"],[0.10714285714285714,2.3333333333333335,\"Bo Outlaw\"],[0.20192307692307693,10.4,\"Vin Baker\"],[0.32954545454545453,176.0,\"Chuck Person\"],[0.0,0.25,\"Andrew Lang\"],[0.35854545454545456,137.5,\"Howard Eisley\"],[0.2702702702702703,4.625,\"Popeye Jones\"],[0.25,4.0,\"J.R. Reid\"],[0.3536053882725832,296.94117647058823,\"Jason Kidd\"],[0.40088430361090643,135.7,\"Jon Barry\"],[0.36056718433490886,185.125,\"Jamal Mashburn\"],[0.32432432432432434,37.0,\"Melvin Booker\"],[0.125,16.0,\"Donnie Boyce\"],[0.39869989165763814,153.83333333333334,\"Matt Bullard\"],[0.21739130434782608,2.090909090909091,\"Alan Henderson\"],[0.0,0.5,\"Reggie Jordan\"],[null,0.0,\"Thomas Hamilton\"],[0.3185840707964602,61.63636363636363,\"Eric Williams\"],[0.25,2.0,\"George Zidek\"],[0.0,1.0,\"Jason Caffey\"],[0.07692307692307693,3.25,\"John Amaechi\"],[0.3684210526315789,23.75,\"Donny Marshall\"],[0.32326530612244897,136.11111111111111,\"Bob Sura\"],[0.4166666666666667,6.0,\"Loren Meyer\"],[0.08333333333333333,1.5,\"Cherokee Parks\"],[0.125,4.0,\"Antonio McDyess\"],[0.28095238095238095,23.333333333333332,\"Michael Curry\"],[0.0,0.06666666666666667,\"Theo Ratliff\"],[0.0,0.14285714285714285,\"Don Reid\"],[0.2727272727272727,11.0,\"Lou Roe\"],[0.0,0.1111111111111111,\"Andrew DeClercq\"],[0.20408163265306123,6.533333333333333,\"Joe Smith\"],[0.3767313019390582,144.4,\"Sam Mack\"],[0.4030612244897959,65.33333333333333,\"Eldridge Recasner\"],[0.3453815261044177,83.0,\"Travis Best\"],[0.39701173959445035,104.11111111111111,\"Fred Hoiberg\"],[0.3484848484848485,110.0,\"Eddie Johnson\"],[0.4043229497774952,242.0,\"Brent Barry\"],[null,0.0,\"Keith Tower\"],[0.5,2.0,\"Frankie King\"],[0.3852739726027397,233.6,\"Voshon Lenard\"],[0.3,1.7647058823529411,\"Kurt Thomas\"],[0.3374233128834356,54.333333333333336,\"Shawn Respert\"],[0.3225806451612903,93.0,\"Jerome Allen\"],[0.2376237623762376,25.25,\"Mark Davis\"],[0.27483443708609273,30.2,\"Kevin Garnett\"],[0.2571428571428571,70.0,\"Ed O'Bannon\"],[0.0,0.3333333333333333,\"David Vaughn\"],[0.3075601374570447,171.1764705882353,\"Jerry Stackhouse\"],[0.5,0.6666666666666666,\"Mario Bennett\"],[0.34498834498834496,85.8,\"Chris Carr\"],[0.3770979967514889,263.85714285714283,\"Michael Finley\"],[null,0.0,\"John Coker\"],[0.32142857142857145,56.0,\"Rumeal Robinson\"],[0.31189710610932475,51.833333333333336,\"Arvydas Sabonis\"],[0.0975609756097561,5.125,\"Gary Trent\"],[0.2631578947368421,19.0,\"Randolph Childress\"],[0.20689655172413793,19.333333333333332,\"Tyus Edney\"],[0.14634146341463414,3.727272727272727,\"Corliss Williamson\"],[0.34991708126036486,100.5,\"Cory Alexander\"],[0.0,1.0,\"Dell Demps\"],[0.20784313725490197,21.25,\"Eric Snow\"],[null,0.0,\"Jimmy King\"],[0.3333333333333333,3.0,\"Martin Lewis\"],[0.1,1.0,\"Greg Ostertag\"],[1.0,1.0,\"Ashraf Amaya\"],[0.0,2.0,\"Cuonzo Martin\"],[0.2887323943661972,71.0,\"Lawrence Moten\"],[0.08333333333333333,4.8,\"Bryant Reeves\"],[null,0.0,\"Bob McCann\"],[0.3366179275270184,209.73333333333332,\"Rasheed Wallace\"],[0.15217391304347827,6.571428571428571,\"Randy Brown\"],[0.3739793140990746,183.7,\"Jim Jackson\"],[0.35273425007994885,260.5833333333333,\"Damon Stoudamire\"],[0.21212121212121213,19.8,\"Jerome Kersey\"],[0.19047619047619047,7.0,\"Matt Geiger\"],[0.10344827586206896,3.2222222222222223,\"Shawn Bradley\"],[0.2,0.5555555555555556,\"Tony Massenburg\"],[0.125,1.1428571428571428,\"David Robinson\"],[0.386119257086999,204.6,\"Hersey Hawkins\"],[0.358974358974359,15.6,\"David Wingate\"],[0.0,5.0,\"Acie Earl\"],[0.31952662721893493,42.25,\"B.J. Armstrong\"],[null,0.0,\"Mark West\"],[null,0.0,\"Elmore Spencer\"],[0.3508771929824561,57.0,\"Rex Walters\"],[0.4093919325707405,207.625,\"Glen Rice\"],[0.0,0.2,\"Will Perdue\"],[0.3814713896457766,244.66666666666666,\"Mitch Richmond\"],[0.35,20.0,\"Frank Brickowski\"],[0.3393939393939394,41.25,\"Eric Murdock\"],[0.30448717948717946,104.0,\"Gerald Wilkins\"],[0.2529411764705882,85.0,\"Charles Barkley\"],[0.13157894736842105,3.8,\"Kevin Willis\"],[0.25396825396825395,15.75,\"Charles Oakley\"],[0.0,1.0,\"Spud Webb\"],[0.3145009416195857,132.75,\"Michael Jordan\"],[0.42592592592592593,54.0,\"Ricky Pierce\"],[0.3307543520309478,103.4,\"Tyrone Corbin\"],[0.3546581367453019,357.2857142857143,\"Tim Hardaway\"],[0.3150684931506849,73.0,\"Blue Edwards\"],[0.3744292237442922,219.0,\"Mark Price\"],[null,0.0,\"Matt Fish\"],[0.0,2.4,\"Otis Thorpe\"],[0.24054982817869416,36.375,\"Bimbo Coles\"],[0.4280104712041885,152.8,\"Chris Mullin\"],[0.0,0.45454545454545453,\"Dale Davis\"],[0.3333333333333333,31.0,\"Haywoode Workman\"],[0.32398753894080995,80.25,\"Malik Sealy\"],[0.16666666666666666,0.6,\"Ervin Johnson\"],[0.4,20.0,\"Rafael Addison\"],[0.31993299832495814,119.4,\"Larry Johnson\"],[0.0,0.25,\"Stanley Roberts\"],[0.3490269930947897,177.0,\"Rodney Rogers\"],[0.13636363636363635,2.75,\"Corie Blount\"],[0.0,0.5,\"Jack Haley\"],[0.1111111111111111,3.6,\"Loy Vaught\"],[0.047619047619047616,8.4,\"A.C. Green\"],[0.08333333333333333,2.6666666666666665,\"Elden Campbell\"],[0.35921463632307005,172.3846153846154,\"Donyell Marshall\"],[0.3844444444444444,64.28571428571429,\"Anthony Goldwire\"],[0.0,2.0,\"Sean Higgins\"],[null,0.0,\"John Salley\"],[0.2558139534883721,43.0,\"Tracy Moore\"],[0.32098765432098764,16.2,\"Don MacLean\"],[0.0,1.4,\"Oliver Miller\"],[0.30793650793650795,70.0,\"Derrick Coleman\"],[0.37485714285714283,175.0,\"Bryon Russell\"],[0.3327217125382263,204.375,\"Scottie Pippen\"],[0.0,1.6666666666666667,\"Rony Seikaly\"],[null,0.0,\"Pete Myers\"],[null,0.0,\"Earl Cureton\"],[null,0.0,\"Ennis Whatley\"],[0.31303576707064734,241.64285714285714,\"Allen Iverson\"],[0.20454545454545456,5.176470588235294,\"Marcus Camby\"],[0.29672447013487474,43.25,\"Shareef Abdur-Rahim\"],[0.32513123359580054,234.46153846153845,\"Stephon Marbury\"],[0.4001884506663077,412.72222222222223,\"Ray Allen\"],[0.325046904315197,355.3333333333333,\"Antoine Walker\"],[0.06896551724137931,2.230769230769231,\"Lorenzen Wright\"],[0.37758433079434167,229.75,\"Kerry Kittles\"],[0.1111111111111111,0.9,\"Samaki Walker\"],[0.125,1.0,\"Erick Dampier\"],[0.0,0.8,\"Todd Fuller\"],[0.16666666666666666,0.5454545454545454,\"Vitaly Potapenko\"],[0.42777354658542777,218.83333333333334,\"Steve Nash\"],[0.3430232558139535,137.6,\"Tony Delk\"],[0.3,7.142857142857143,\"John Wallace\"],[0.34597875569044007,131.8,\"Walter McCarty\"],[0.2608695652173913,23.0,\"Dontae' Jones\"],[0.5,0.6666666666666666,\"Roy Rogers\"],[0.3735408560311284,185.61111111111111,\"Derek Fisher\"],[0.038461538461538464,2.888888888888889,\"Jerome Williams\"],[0.3425925925925926,36.0,\"Brian Evans\"],[0.0,0.5,\"Priest Lauderdale\"],[0.25862068965517243,8.285714285714286,\"Travis Knight\"],[0.0,0.9166666666666666,\"Othella Harrington\"],[0.16666666666666666,4.5,\"Mark Hendrickson\"],[0.32831001076426264,84.45454545454545,\"Jeff McInnis\"],[0.3294266137756942,277.3,\"Kobe Bryant\"],[0.4007285974499089,337.84615384615387,\"Peja Stojakovic\"],[0.14736842105263157,5.277777777777778,\"Jermaine O'Neal\"],[0.3069306930693069,7.769230769230769,\"Zydrunas Ilgauskas\"],[0.5,8.0,\"Efthimios Rentzias\"],[0.3225806451612903,31.0,\"Martin Muursepp\"],[0.2857142857142857,45.111111111111114,\"Moochie Norris\"],[0.0,2.0,\"Steve Hamer\"],[0.3333333333333333,1.5,\"Jason Sasser\"],[0.35051546391752575,8.818181818181818,\"Randy Livingston\"],[null,0.0,\"Ben Davis\"],[0.17721518987341772,6.076923076923077,\"Malik Rose\"],[0.3333333333333333,19.5,\"Marcus Brown\"],[0.4,6.0,\"Jamie Feick\"],[0.3741935483870968,77.5,\"Chris Robinson\"],[0.17857142857142858,9.333333333333334,\"Mark Pope\"],[null,0.0,\"Jeff Nordgaard\"],[0.31584362139917693,97.2,\"Shandon Anderson\"],[0.32786885245901637,30.5,\"Reggie Geary\"],[0.38095238095238093,21.0,\"Drew Barry\"],[0.396873120865905,237.57142857142858,\"Walt Williams\"],[0.0,0.3333333333333333,\"Herb Williams\"],[0.35214446952595935,73.83333333333333,\"Emanual Davis\"],[0.3333333333333333,1.5,\"Horacio Llamas\"],[0.25,4.0,\"Evric Gray\"],[0.25,2.0,\"Darvin Ham\"],[null,0.0,\"Shawnelle Scott\"],[0.0,4.0,\"Litterial Green\"],[null,0.0,\"Stojko Vrankovic\"],[0.4166666666666667,24.0,\"Juaquin Hawkins\"],[0.0,9.0,\"Nate Driggers\"],[0.0,0.75,\"Amal McCaskill\"],[0.2891566265060241,41.5,\"Shane Heal\"],[null,0.0,\"Dean Garrett\"],[0.0,0.5,\"Ben Handlogten\"],[null,0.0,\"Ed Stokes\"],[0.7142857142857143,7.0,\"Aleksandar Djordjevic\"],[null,0.0,\"William Cunningham\"],[0.30985915492957744,35.5,\"Carl Thomas\"],[null,0.0,\"Brent Scott\"],[0.3509991311902693,127.88888888888889,\"Erick Strickland\"],[1.0,1.0,\"Greg Dreiling\"],[null,0.0,\"Devin Gray\"],[0.0,0.3333333333333333,\"Reggie Slater\"],[0.3718546132339236,178.83333333333334,\"Matt Maloney\"],[null,0.0,\"Michael McDonald\"],[0.2,5.0,\"Ray Owes\"],[0.424390243902439,102.5,\"Henry James\"],[0.0,0.3333333333333333,\"Ira Bowman\"],[0.19047619047619047,7.0,\"Joe Stephens\"],[0.3641325536062378,233.1818181818182,\"Chucky Atkins\"],[null,0.0,\"Kevin Salvadori\"],[0.0,2.0,\"Gaylon Nickerson\"],[1.0,0.5,\"Ivano Newbill\"],[0.0,2.0,\"Matt Steigenga\"],[0.18867924528301888,26.5,\"Tony Farmer\"],[0.0,4.0,\"James Scott\"],[0.2222222222222222,1.2857142857142858,\"Mark Strickland\"],[0.13725490196078433,3.1875,\"Ben Wallace\"],[0.3594080338266385,157.66666666666666,\"Jaren Jackson\"],[null,0.0,\"Tim Kempton\"],[0.3333333333333333,9.0,\"Elmer Bennett\"],[0.16666666666666666,6.0,\"Dexter Boney\"],[0.29069767441860467,129.0,\"Dominique Wilkins\"],[0.24324324324324326,37.0,\"Larry Stewart\"],[0.32432432432432434,18.5,\"Donald Whiteside\"],[null,0.0,\"Stephen Howard\"],[0.0,6.0,\"Ruben Nembhard\"],[null,0.0,\"Jimmy Carruth\"],[0.6,2.5,\"Corey Beck\"],[0.1836734693877551,8.166666666666666,\"Ike Austin\"],[0.0,1.0,\"Brett Szabo\"],[0.6666666666666666,3.0,\"Chris Jent\"],[0.3050847457627119,14.75,\"Michael Hawkins\"],[null,0.0,\"Mark Bradtke\"],[0.2,12.5,\"Xavier McDaniel\"],[0.2911392405063291,39.5,\"Lloyd Daniels\"],[0.35294117647058826,34.0,\"John Long\"],[0.06666666666666667,1.25,\"Aaron Williams\"],[0.3333333333333333,3.0,\"Jimmy Oliver\"],[null,0.0,\"Joe Courtney\"],[null,0.0,\"Dragan Tarlac\"],[null,0.0,\"Zeljko Rebraca\"],[0.11764705882352941,2.4285714285714284,\"Lawrence Funderburke\"],[0.6666666666666666,1.5,\"Tom Chambers\"],[null,0.0,\"Larry Krystkowiak\"],[0.3928914505283381,160.15384615384616,\"Bruce Bowen\"],[0.16666666666666666,6.0,\"Stevin Smith\"],[null,0.0,\"Mike Brown\"],[0.23333333333333334,30.0,\"Lionel Simmons\"],[0.17857142857142858,8.842105263157896,\"Tim Duncan\"],[0.3607250755287009,183.88888888888889,\"Keith Van Horn\"],[0.3873015873015873,277.94117647058823,\"Chauncey Billups\"],[0.31109185441941073,88.76923076923077,\"Antonio Daniels\"],[0.16216216216216217,5.285714285714286,\"Tony Battie\"],[0.25,30.0,\"Ron Mercer\"],[0.36872364890762743,200.69230769230768,\"Tim Thomas\"],[0.0,0.16666666666666666,\"Adonal Foyle\"],[0.33802376485303315,213.2,\"Tracy McGrady\"],[0.16666666666666666,1.2,\"Danny Fortson\"],[0.23684210526315788,12.666666666666666,\"Tariq Abdul-Wahad\"],[0.3399366085578447,105.16666666666667,\"Austin Croshere\"],[0.34108937070333156,171.9090909090909,\"Derek Anderson\"],[0.15151515151515152,3.6666666666666665,\"Maurice Taylor\"],[0.07692307692307693,1.3,\"Kelvin Cato\"],[0.13445378151260504,9.916666666666666,\"Brevin Knight\"],[0.39436619718309857,23.666666666666668,\"Johnny Taylor\"],[0.13793103448275862,9.666666666666666,\"Chris Anstey\"],[0.0,0.18181818181818182,\"Scot Pollard\"],[null,0.0,\"Paul Grant\"],[0.4043419267299864,163.77777777777777,\"Anthony Parker\"],[0.3409090909090909,44.0,\"Ed Gray\"],[0.35387776065742166,162.25,\"Bobby Jackson\"],[0.2,5.0,\"Rodrick Rhodes\"],[0.0,0.4,\"John Thomas\"],[0.288,50.0,\"Charles Smith\"],[0.35185185185185186,22.5,\"Jacque Vaughn\"],[0.09090909090909091,5.5,\"Keith Booth\"],[0.0,2.0,\"Charles O'Bannon\"],[0.0,3.5,\"James Cotton\"],[0.42857142857142855,3.5,\"Marko Milic\"],[0.16666666666666666,6.0,\"Bubba Wells\"],[null,0.0,\"Kebu Stewart\"],[0.45,20.0,\"James Collins\"],[0.22580645161290322,4.428571428571429,\"Marc Jackson\"],[0.3617021276595745,47.0,\"Jerald Honeycutt\"],[0.3558413719185423,71.76923076923077,\"Anthony Johnson\"],[null,0.0,\"Jason Lawson\"],[0.332713260696253,268.7857142857143,\"Stephen Jackson\"],[0.13953488372093023,8.6,\"Cedric Henderson\"],[0.0,2.0,\"God Shammgod\"],[0.34615384615384615,117.0,\"Eric Washington\"],[0.3132530120481928,73.77777777777777,\"Alvin Williams\"],[0.3402061855670103,48.5,\"Predrag Drobnjak\"],[0.3465346534653465,28.857142857142858,\"Chris Crawford\"],[0.38961038961038963,38.5,\"DeJuan Wheat\"],[0.3592233009708738,11.444444444444445,\"Mark Blount\"],[0.0,2.0,\"Jamal Robinson\"],[0.2777777777777778,20.0,\"Adrian Griffin\"],[null,0.0,\"Gerard King\"],[0.3103448275862069,2.230769230769231,\"Kevin Ollie\"],[null,0.0,\"Etdrick Bohannon\"],[null,0.0,\"Michael Stewart\"],[0.0,1.3333333333333333,\"Keith Closs\"],[null,0.0,\"Nate Huffman\"],[0.3333333333333333,12.0,\"Derek Grimm\"],[0.0,0.5,\"Travis Williams\"],[0.0,3.0,\"Shea Seals\"],[0.3,3.3333333333333335,\"Brandon Williams\"],[1.0,1.0,\"Alvin Sims\"],[null,0.0,\"Charles Shackleford\"],[0.36231884057971014,30.666666666666668,\"Rick Brunson\"],[0.0,1.3333333333333333,\"Kornel David\"],[0.3176470588235294,34.0,\"Rusty LaRue\"],[0.3390847711927982,121.18181818181819,\"Troy Hudson\"],[0.6666666666666666,1.0,\"Art Long\"],[0.19047619047619047,10.5,\"Chris Garner\"],[0.15384615384615385,1.0,\"Mikki Moore\"],[0.4,15.0,\"Gerald Madkins\"],[0.375,4.0,\"Steve Henson\"],[0.0,4.0,\"Harold Ellis\"],[null,0.0,\"Brian Oliver\"],[null,0.0,\"Reggie Hanson\"],[0.3870967741935484,41.333333333333336,\"Larry Robinson\"],[null,0.0,\"Michael Olowokandi\"],[0.37934483620905224,285.64285714285717,\"Mike Bibby\"],[0.3634980988593156,131.5,\"Raef LaFrentz\"],[0.34561664190193164,210.3125,\"Antawn Jamison\"],[0.3712710765239948,280.3636363636364,\"Vince Carter\"],[0.16666666666666666,3.4285714285714284,\"Robert Traylor\"],[0.32716701902748413,315.3333333333333,\"Jason Williams\"],[0.3089622641509434,130.46153846153845,\"Larry Hughes\"],[0.38042226487523995,248.0952380952381,\"Dirk Nowitzki\"],[0.36846629986244844,306.10526315789474,\"Paul Pierce\"],[0.32650073206442165,68.3,\"Bonzi Wells\"],[0.125,0.8,\"Michael Doleac\"],[0.05263157894736842,3.1666666666666665,\"Keon Clark\"],[0.401673640167364,143.4,\"Michael Dickerson\"],[0.3333333333333333,43.09090909090909,\"Matt Harpring\"],[0.3712871287128713,67.33333333333333,\"Bryce Drew\"],[0.07692307692307693,1.0833333333333333,\"Rasho Nesterovic\"],[0.0,6.0,\"Mirsad Turkcan\"],[0.39760554505356016,158.7,\"Pat Garrity\"],[0.1111111111111111,15.0,\"Roshown McLeod\"],[0.36121437422552666,134.5,\"Ricky Davis\"],[0.3333333333333333,0.42857142857142855,\"Brian Skinner\"],[0.39148936170212767,106.81818181818181,\"Tyronn Lue\"],[0.32653061224489793,36.75,\"Felipe Lopez\"],[0.3516918646508279,173.625,\"Al Harrington\"],[0.36,8.333333333333334,\"Sam Jacobson\"],[0.13333333333333333,2.5,\"Vladimir Stepania\"],[0.2893401015228426,49.25,\"Corey Benjamin\"],[0.0,0.4444444444444444,\"Nazr Mohammed\"],[0.27586206896551724,7.25,\"Ansu Sesay\"],[0.17857142857142858,19.6,\"Ruben Patterson\"],[0.38637837837837835,289.0625,\"Rashard Lewis\"],[null,0.0,\"Jelani McCoy\"],[0.3657142857142857,100.0,\"Shammond Williams\"],[0.20833333333333334,3.4285714285714284,\"Bruno Sundov\"],[0.0,0.2222222222222222,\"Jerome James\"],[null,0.0,\"Casey Shaw\"],[null,0.0,\"DeMarco Johnson\"],[0.3538188277087034,255.9090909090909,\"Rafer Alston\"],[0.25,4.0,\"Korleone Young\"],[0.37844436693407746,260.6363636363636,\"Cuttino Mobley\"],[0.0,2.0,\"Miles Simon\"],[0.0,0.14285714285714285,\"Jahidi White\"],[0.2,2.272727272727273,\"Sean Marks\"],[0.2,7.5,\"Toby Bailey\"],[0.0,2.5,\"Andrae Patterson\"],[1.0,1.0,\"Tyson Wheeler\"],[0.0,0.5,\"Ryan Stack\"],[0.16666666666666666,30.0,\"Cory Carr\"],[0.19047619047619047,10.5,\"Derrick Dial\"],[0.33379888268156427,71.6,\"Greg Buckner\"],[0.2,5.0,\"Tremaine Fowlkes\"],[0.20588235294117646,6.8,\"Ryan Bowen\"],[0.4,5.0,\"J.R. Henderson\"],[null,0.0,\"Torraye Braggs\"],[0.375,2.0,\"Maceo Baston\"],[0.38980944490472247,219.45454545454547,\"Damon Jones\"],[null,0.0,\"Jonathan Kerner\"],[0.3295081967213115,43.57142857142857,\"Brad Miller\"],[0.0,2.0,\"Adonis Jordan\"],[null,0.0,\"Kelly McCarty\"],[null,0.0,\"Makhtar N'diaye\"],[null,0.0,\"Peter Aluma\"],[0.2,5.0,\"Ike Fontaine\"],[0.2608695652173913,23.0,\"Marlon Garnett\"],[0.3162251655629139,151.0,\"Tyrone Nesby\"],[0.2857142857142857,7.0,\"Fred Vinson\"],[0.3125,16.0,\"Andrew Gaze\"],[0.0,2.0,\"Thurl Bailey\"],[0.2857142857142857,7.0,\"Jeff Sheppard\"],[0.25,35.69230769230769,\"Anthony Carter\"],[0.3333333333333333,3.0,\"Mark Macon\"],[null,0.0,\"Mark Baker\"],[0.0,1.0,\"Negele Knight\"],[0.34782608695652173,84.92307692307692,\"Earl Boykins\"],[0.3333333333333333,1.5,\"Steve Goodrich\"],[null,0.0,\"Trevor Winter\"],[0.3240223463687151,89.5,\"Charles Jones\"],[0.3,10.0,\"Gerald Brown\"],[0.14285714285714285,3.5,\"Randell Jackson\"],[0.09090909090909091,1.2941176470588236,\"Elton Brand\"],[0.3414489311163896,187.11111111111111,\"Steve Francis\"],[0.32026929550372685,319.9230769230769,\"Baron Davis\"],[0.3123236124176858,151.85714285714286,\"Lamar Odom\"],[0.3400673400673401,37.125,\"Jonathan Bender\"],[0.4060564349621473,145.3,\"Wally Szczerbiak\"],[0.3464052287581699,109.28571428571429,\"Richard Hamilton\"],[0.21734234234234234,52.23529411764706,\"Andre Miller\"],[0.3309623430962343,149.375,\"Shawn Marion\"],[0.37970049916805326,316.3157894736842,\"Jason Terry\"],[0.39631336405529954,72.33333333333333,\"Trajan Langdon\"],[null,0.0,\"Aleksandar Radojevic\"],[0.32354996505939904,102.21428571428571,\"Corey Maggette\"],[0.25477707006369427,52.333333333333336,\"William Avery\"],[0.339212228101117,200.11764705882354,\"Metta World Peace\"],[0.18181818181818182,3.6666666666666665,\"Cal Bowdler\"],[0.3488372093023256,247.25,\"James Posey\"],[0.3333333333333333,27.75,\"Quincy Lewis\"],[0.3169164882226981,77.83333333333333,\"Dion Glover\"],[0.12962962962962962,4.153846153846154,\"Jeff Foster\"],[0.24380165289256198,22.0,\"Kenny Thomas\"],[0.34269662921348315,113.27272727272727,\"Devean George\"],[0.309704641350211,91.15384615384616,\"Andrei Kirilenko\"],[0.3333333333333333,1.0,\"Tim James\"],[0.3205882352941177,113.33333333333333,\"Vonteego Cummings\"],[0.34893267651888343,152.25,\"Jumaine Jones\"],[0.37267080745341613,80.5,\"Scott Padgett\"],[null,0.0,\"Leon Smith\"],[0.2222222222222222,9.0,\"John Celestand\"],[0.0,0.3333333333333333,\"Michael Ruffin\"],[0.32786885245901637,61.0,\"Chris Herren\"],[null,0.0,\"Evan Eschmeyer\"],[0.2222222222222222,0.9,\"Calvin Booth\"],[0.38461538461538464,36.4,\"Wang Zhi-zhi\"],[0.0,0.25,\"Obinna Ekezie\"],[0.23595505617977527,22.25,\"Laron Profit\"],[null,0.0,\"A.J. Bramlett\"],[0.36768447837150126,131.0,\"Gordan Giricek\"],[0.1875,1.7777777777777777,\"Francisco Elson\"],[0.1111111111111111,1.5,\"Lee Nailon\"],[0.0,2.0,\"Ryan Robertson\"],[null,0.0,\"Todd MacCulloch\"],[null,0.0,\"Lari Ketner\"],[0.29959514170040485,49.4,\"Rodney Buford\"],[null,0.0,\"Tim Young\"],[0.3686806411837238,253.4375,\"Manu Ginobili\"],[null,0.0,\"Harold Jamison\"],[null,0.0,\"Wayne Turner\"],[0.25,6.4,\"Eddie Robinson\"],[null,0.0,\"Andy Panko\"],[0.40560033941450996,196.41666666666666,\"Raja Bell\"],[0.0,3.0,\"Lazaro Borrell\"],[0.0,1.0,\"Jason Miskiri\"],[0.3413654618473896,31.125,\"Ira Newble\"],[0.23529411764705882,24.285714285714285,\"Milt Palacio\"],[0.0,1.0,\"Rick Hughes\"],[null,0.0,\"Derek Hood\"],[0.16666666666666666,3.0,\"Jamel Thomas\"],[0.15789473684210525,3.8,\"Jermaine Jackson\"],[null,0.0,\"Zendon Hamilton\"],[0.29591836734693877,98.0,\"Dedric Willoughby\"],[0.23404255319148937,18.8,\"Kenyon Martin\"],[0.07407407407407407,3.0,\"Stromile Swift\"],[0.16793893129770993,18.714285714285715,\"Darius Miles\"],[0.19090909090909092,18.333333333333332,\"Marcus Fizer\"],[0.40664961636828645,230.0,\"Mike Miller\"],[0.3361963190184049,116.42857142857143,\"DerMarr Johnson\"],[0.23076923076923078,1.625,\"Chris Mihm\"],[0.3481736949365104,318.95,\"Jamal Crawford\"],[0.0,0.23076923076923078,\"Joel Przybilla\"],[0.34925606891151134,98.23076923076923,\"Keyon Dooling\"],[0.0,0.6,\"Jerome Moiso\"],[null,0.0,\"Etan Thomas\"],[0.33884297520661155,40.333333333333336,\"Courtney Alexander\"],[0.26666666666666666,7.5,\"Mateen Cleaves\"],[0.35,4.0,\"Jason Collier\"],[0.3838570548367221,216.4,\"Hedo Turkoglu\"],[0.25984251968503935,25.4,\"Desmond Mason\"],[0.35492700729927007,252.92307692307693,\"Quentin Richardson\"],[0.0,0.5833333333333334,\"Jamaal Magloire\"],[0.1926605504587156,31.142857142857142,\"Speedy Claxton\"],[0.37342709104367133,245.63636363636363,\"Morris Peterson\"],[0.1,2.0,\"Donnell Harvey\"],[0.3401360544217687,124.38461538461539,\"DeShawn Stevenson\"],[0.0,0.6666666666666666,\"Dalibor Bagaric\"],[0.0,0.14285714285714285,\"Jake Tsakalidis\"],[0.0,0.2,\"Mamadou N'diaye\"],[0.16666666666666666,0.75,\"Primoz Brezec\"],[0.26666666666666666,7.5,\"Erick Barkley\"],[0.0625,1.7777777777777777,\"Mark Madsen\"],[0.3107344632768362,29.5,\"Eduardo Najera\"],[0.34404761904761905,120.0,\"Marko Jaric\"],[0.2894736842105263,9.5,\"Dan Langhi\"],[0.37823834196891193,64.33333333333333,\"A.J. Guyton\"],[0.3333333333333333,0.3333333333333333,\"Jake Voskuhl\"],[0.3333333333333333,84.0,\"Khalid El-Amin\"],[0.16666666666666666,18.0,\"Mike Smith\"],[null,0.0,\"Soumaila Samake\"],[0.38979007633587787,190.54545454545453,\"Eddie House\"],[0.25,14.666666666666666,\"Lavor Postell\"],[0.0625,8.0,\"Hanno Mottola\"],[null,0.0,\"Olumide Oyedeji\"],[0.3798618684114867,229.25,\"Michael Redd\"],[0.3721286370597244,54.416666666666664,\"Brian Cardinal\"],[0.125,2.0,\"Jabari Smith\"],[0.31527093596059114,22.555555555555557,\"Jason Hart\"],[0.3333333333333333,3.0,\"Kaniel Dickens\"],[0.4166666666666667,12.0,\"Igor Rakocevic\"],[null,0.0,\"Ernest Brown\"],[null,0.0,\"Dan McClintock\"],[0.0,5.0,\"Chris Porter\"],[null,0.0,\"Daniel Santiago\"],[null,0.0,\"Ruben Garces\"],[0.15384615384615385,1.8571428571428572,\"Slava Medvedenko\"],[0.16666666666666666,12.0,\"Paul McPherson\"],[0.0,1.5,\"Ruben Wolkowyski\"],[0.3197969543147208,28.142857142857142,\"Eddie Gill\"],[0.0,1.0,\"Terrance Roberson\"],[null,0.0,\"Garth Joseph\"],[0.1875,1.6,\"Malik Allen\"],[0.0,6.0,\"David Vanterpool\"],[0.39568345323741005,69.5,\"Mike Penberthy\"],[0.3562091503267974,87.42857142857143,\"Ime Udoka\"],[0.0,0.5,\"Pepe Sanchez\"],[0.2,5.0,\"Sean Colson\"],[0.1111111111111111,0.75,\"Kwame Brown\"],[0.0,0.5789473684210527,\"Tyson Chandler\"],[0.3683127572016461,27.0,\"Pau Gasol\"],[1.0,0.18181818181818182,\"Eddy Curry\"],[0.37025097858623074,334.0769230769231,\"Jason Richardson\"],[0.38414259373079285,250.30769230769232,\"Shane Battier\"],[0.3151595744680851,150.4,\"Eddie Griffin\"],[0.16666666666666666,0.5,\"DeSagana Diop\"],[0.3137931034482759,72.5,\"Rodney White\"],[0.3710373288313637,313.5882352941176,\"Joe Johnson\"],[0.27380952380952384,42.0,\"Kedrick Brown\"],[0.3782625633034671,213.91666666666666,\"Vladimir Radmanovic\"],[0.37630913687251716,162.88235294117646,\"Richard Jefferson\"],[0.3884664131812421,131.5,\"Troy Murphy\"],[0.0,0.125,\"Steven Hunter\"],[0.0,3.0,\"Kirk Haston\"],[0.14285714285714285,2.8,\"Michael Bradley\"],[0.20588235294117646,2.6153846153846154,\"Jason Collins\"],[0.2729766803840878,42.88235294117647,\"Zach Randolph\"],[0.0,0.3076923076923077,\"Brendan Haywood\"],[0.0,3.0,\"Joseph Forte\"],[0.29545454545454547,22.0,\"Jeryl Sasser\"],[0.3333333333333333,25.0,\"Brandon Armstrong\"],[0.34615384615384615,65.0,\"Raul Lopez\"],[0.3123561013046815,93.07142857142857,\"Gerald Wallace\"],[0.08333333333333333,0.9230769230769231,\"Samuel Dalembert\"],[0.2993966817496229,120.54545454545455,\"Jamaal Tinsley\"],[0.3237679351216469,89.05555555555556,\"Tony Parker\"],[0.29838709677419356,124.0,\"Will Solomon\"],[null,0.0,\"Alton Ford\"],[0.3789299503585218,151.08333333333334,\"Mike James\"],[0.363481228668942,130.22222222222223,\"Maurice Evans\"],[null,0.0,\"Ratko Varda\"],[0.30434782608695654,23.0,\"Antonis Fotsis\"],[0.3177257525083612,33.22222222222222,\"Trenton Hassell\"],[0.3506662333441664,279.72727272727275,\"Gilbert Arenas\"],[0.0,2.5,\"Omar Cook\"],[0.19642857142857142,37.333333333333336,\"Terence Morris\"],[0.3441682600382409,47.54545454545455,\"Brian Scalabrine\"],[0.46153846153846156,4.333333333333333,\"Jeff Trepagnier\"],[0.2857142857142857,3.5,\"Damone Brown\"],[0.37484276729559746,159.0,\"Mehmet Okur\"],[0.3236621534493875,119.3076923076923,\"Earl Watson\"],[0.25,8.0,\"Jamison Brewer\"],[0.3958115183246073,95.5,\"Bobby Simmons\"],[0.0,2.0,\"Sean Lampley\"],[0.14285714285714285,1.1666666666666667,\"Loren Woods\"],[null,0.0,\"Ken Johnson\"],[null,0.0,\"Ruben Boumtje-Boumtje\"],[0.0,0.5,\"Jarron Collins\"],[0.21818181818181817,27.5,\"Kenny Satterfield\"],[null,0.0,\"Alvin Jones\"],[0.36108821104699096,173.28571428571428,\"Charlie Bell\"],[0.33827160493827163,45.0,\"Carlos Arroyo\"],[0.0,0.3333333333333333,\"Paul Shirley\"],[0.38461538461538464,39.0,\"Joe Crispin\"],[0.0,1.0,\"Tang Hamilton\"],[0.0,2.0,\"Victor Alexander\"],[0.31654676258992803,69.5,\"Oscar Torres\"],[0.15789473684210525,9.5,\"Dean Oliver\"],[0.35294117647058826,21.25,\"Tierre Brown\"],[0.22058823529411764,4.533333333333333,\"Chris Andersen\"],[0.32075471698113206,15.142857142857142,\"Mike Wilks\"],[null,0.0,\"Geno Carlisle\"],[0.5,8.0,\"Norman Richardson\"],[0.3333333333333333,5.0,\"Mengke Bateer\"],[0.2,1.25,\"Yao Ming\"],[0.3217821782178218,202.0,\"Jay Williams\"],[0.376878612716763,230.66666666666666,\"Mike Dunleavy\"],[0.2573099415204678,24.428571428571427,\"Drew Gooden\"],[0.23497267759562843,45.75,\"Nikoloz Tskitishvili\"],[0.3205574912891986,71.75,\"Dajuan Wagner\"],[0.1320754716981132,3.1176470588235294,\"Nene\"],[0.0,1.6363636363636365,\"Chris Wilcox\"],[0.23622047244094488,9.071428571428571,\"Amar'e Stoudemire\"],[0.34794776119402987,153.14285714285714,\"Caron Butler\"],[0.2525597269624573,26.636363636363637,\"Jared Jeffries\"],[0.0,0.3333333333333333,\"Melvin Ely\"],[0.35,5.0,\"Marcus Haislip\"],[0.3534218590398366,139.85714285714286,\"Fred Jones\"],[0.3748558246828143,144.5,\"Bostjan Nachbar\"],[0.3430232558139535,86.0,\"Jiri Welsch\"],[0.3405349794238683,138.85714285714286,\"Juan Dixon\"],[0.0,0.5,\"Curtis Borchardt\"],[0.0,1.0,\"Ryan Humphrey\"],[0.3577639751552795,115.0,\"Kareem Rush\"],[0.35714285714285715,24.5,\"Qyntel Woods\"],[0.35185185185185186,148.5,\"Casey Jacobsen\"],[0.3670967741935484,110.71428571428571,\"Tayshaun Prince\"],[0.14285714285714285,2.0,\"Nenad Krstic\"],[0.3,26.666666666666668,\"Frank Williams\"],[0.36555891238670696,152.76923076923077,\"John Salmons\"],[0.3645833333333333,48.0,\"Chris Jefferies\"],[0.34095238095238095,87.5,\"Dan Dickau\"],[null,0.0,\"Robert Archibald\"],[0.38347320852162686,154.9,\"Roger Mason Jr.\"],[0.2692307692307692,78.0,\"Vincent Yarbrough\"],[0.0,0.8,\"Dan Gadzuric\"],[0.07142857142857142,1.0769230769230769,\"Carlos Boozer\"],[0.3465346534653465,50.5,\"David Andersen\"],[0.0,3.0,\"Tito Maddox\"],[0.3611111111111111,432.0,\"Juan Carlos Navarro\"],[0.0,0.5,\"Mario Kasun\"],[0.303985171455051,134.875,\"Flip Murray\"],[0.2,1.25,\"Lonny Baxter\"],[0.33503923575571476,209.35714285714286,\"Matt Barnes\"],[0.0,0.2,\"Jamal Sampson\"],[null,0.0,\"Chris Owens\"],[0.15789473684210525,2.375,\"Darius Songaila\"],[0.3615079365079365,193.84615384615384,\"Rasual Butler\"],[0.2653061224489796,16.333333333333332,\"Tamar Slay\"],[0.33948339483394835,27.1,\"Luis Scola\"],[null,0.0,\"Randy Holcomb\"],[null,0.0,\"Corsley Edwards\"],[0.3333333333333333,180.0,\"J.R. Bremer\"],[0.15384615384615385,26.0,\"Predrag Savovic\"],[0.273972602739726,24.333333333333332,\"Junior Harrington\"],[null,0.0,\"Cezary Trybanski\"],[0.35587188612099646,102.18181818181819,\"Jannero Pargo\"],[null,0.0,\"Guy Rucker\"],[0.36363636363636365,11.0,\"Maurice Carter\"],[0.25,12.0,\"Pat Burke\"],[0.3448687350835322,167.6,\"Smush Parker\"],[0.2222222222222222,81.0,\"Mike Batiste\"],[0.33783783783783783,111.0,\"Devin Brown\"],[null,0.0,\"Maurice Baker\"],[0.35714285714285715,14.0,\"Adam Harrington\"],[0.35580524344569286,66.75,\"Richie Frahm\"],[0.09090909090909091,0.8461538461538461,\"Reggie Evans\"],[0.2,5.0,\"Antoine Rigaudeau\"],[0.34489369118159635,318.77777777777777,\"LeBron James\"],[0.0,0.6,\"Darko Milicic\"],[0.35344057193923145,248.66666666666666,\"Carmelo Anthony\"],[0.33516483516483514,70.0,\"Chris Bosh\"],[0.2929562433297759,117.125,\"Dwyane Wade\"],[0.041666666666666664,1.8461538461538463,\"Chris Kaman\"],[0.37540038436899426,240.15384615384616,\"Kirk Hinrich\"],[0.28929384965831434,54.875,\"T.J. Ford\"],[0.0,0.5,\"Michael Sweetney\"],[0.35603996366939145,157.28571428571428,\"Jarvis Hayes\"],[0.3554973821989529,191.0,\"Mickael Pietrus\"],[0.2079207920792079,7.214285714285714,\"Nick Collison\"],[0.32722513089005234,47.75,\"Marcus Banks\"],[0.34886499402628435,139.5,\"Luke Ridnour\"],[0.2692307692307692,8.666666666666666,\"Reece Gaines\"],[0.0,4.0,\"Troy Bell\"],[0.2727272727272727,29.333333333333332,\"Zarko Cabarkapa\"],[0.2651162790697674,14.333333333333334,\"David West\"],[0.34606741573033706,89.0,\"Sasha Pavlovic\"],[0.3292307692307692,25.0,\"Dahntay Jones\"],[0.3361641896673744,100.92857142857143,\"Boris Diaw\"],[0.2890625,42.666666666666664,\"Zoran Planinic\"],[0.33692458374143,92.81818181818181,\"Travis Outlaw\"],[0.3819241982507289,76.22222222222223,\"Brian Cook\"],[0.36530172413793105,232.0,\"Carlos Delfino\"],[0.0,0.5,\"Ndudi Ebi\"],[0.0,1.0,\"Kendrick Perkins\"],[0.3865414710485133,182.57142857142858,\"Leandro Barbosa\"],[0.3323615160349854,102.9,\"Josh Howard\"],[0.25,2.6666666666666665,\"Maciej Lampe\"],[0.4335863377609108,117.11111111111111,\"Jason Kapono\"],[0.32616487455197135,55.8,\"Luke Walton\"],[0.3,30.0,\"Travis Hansen\"],[0.3827980804724991,208.3846153846154,\"Steve Blake\"],[null,0.0,\"Slavko Vranes\"],[null,0.0,\"Derrick Zimmerman\"],[0.34605087014725566,124.5,\"Willie Green\"],[0.0,1.9375,\"Zaza Pachulia\"],[0.35346534653465345,183.63636363636363,\"Keith Bogans\"],[0.41445657826313054,160.25,\"Matt Bonner\"],[0.37841577308889657,222.3846153846154,\"Mo Williams\"],[null,0.0,\"James Lang\"],[0.40061951471347446,138.35714285714286,\"James Jones\"],[0.42869641294838146,336.1764705882353,\"Kyle Korver\"],[0.0,1.5,\"Brandon Hunter\"],[null,0.0,\"Andreas Glyniadakis\"],[null,0.0,\"Jerome Beasley\"],[0.375,12.0,\"Theron Smith\"],[0.23462414578587698,43.9,\"Marquis Daniels\"],[0.08620689655172414,3.2222222222222223,\"Udonis Haslem\"],[0.3181818181818182,22.0,\"Quinton Ross\"],[0.25,2.0,\"Kirk Penney\"],[null,0.0,\"Alex Scales\"],[0.0625,8.0,\"Britton Johnsen\"],[0.38461538461538464,2.1666666666666665,\"Ronald Dupree\"],[1.0,1.0,\"Yuta Tabuse\"],[null,0.0,\"Desmond Penigar\"],[0.32857142857142857,17.5,\"Josh Davis\"],[0.3047619047619048,17.5,\"Linton Johnson\"],[null,0.0,\"Hiram Fuller\"],[0.38392857142857145,89.6,\"Matt Carroll\"],[0.2777777777777778,9.0,\"Alex Garcia\"],[0.6666666666666666,3.0,\"Melvin Sanders\"],[null,0.0,\"Brandin Knight\"],[0.2822966507177033,52.25,\"Keith McLeod\"],[0.35,2.857142857142857,\"Josh Powell\"],[0.34615384615384615,52.0,\"Lynn Greer\"],[0.375,8.0,\"Desmond Ferguson\"],[0.1590909090909091,5.176470588235294,\"Dwight Howard\"],[0.0,0.2,\"Emeka Okafor\"],[0.4008901061280383,265.54545454545456,\"Ben Gordon\"],[0.1780821917808219,5.214285714285714,\"Shaun Livingston\"],[0.32525410476935107,170.53333333333333,\"Devin Harris\"],[0.3289036544850498,37.625,\"Josh Childress\"],[0.33198789101917253,132.13333333333333,\"Luol Deng\"],[0.25,1.3333333333333333,\"Rafael Araujo\"],[0.3327073552425665,187.94117647058823,\"Andre Iguodala\"],[0.3595505617977528,22.25,\"Luke Jackson\"],[0.0,0.2,\"Andris Biedrins\"],[null,0.0,\"Robert Swift\"],[0.31862312444836716,113.3,\"Sebastian Telfair\"],[0.2925531914893617,14.461538461538462,\"Kris Humphries\"],[0.12121212121212122,4.714285714285714,\"Al Jefferson\"],[0.3274021352313167,70.25,\"Kirk Snyder\"],[0.28517110266159695,121.38461538461539,\"Josh Smith\"],[0.3727307840865199,323.625,\"JR Smith\"],[0.3648728562980485,153.72727272727272,\"Dorell Wright\"],[0.3679004467134652,223.85714285714286,\"Jameer Nelson\"],[null,0.0,\"Pavel Podkolzin\"],[0.2916666666666667,12.0,\"Viktor Khryapa\"],[0.2647058823529412,34.0,\"Sergei Monia\"],[0.3715415019762846,126.5,\"Delonte West\"],[0.28153153153153154,31.714285714285715,\"Tony Allen\"],[0.3843044796227686,247.41666666666666,\"Kevin Martin\"],[0.3673328738800827,145.1,\"Sasha Vujacic\"],[0.348575712143928,102.61538461538461,\"Beno Udrih\"],[null,0.0,\"David Harrison\"],[0.023255813953488372,3.0714285714285716,\"Anderson Varejao\"],[0.0,1.5,\"Jackson Vroman\"],[null,0.0,\"Peter John Ramos\"],[0.24489795918367346,49.0,\"Lionel Chalmers\"],[0.3076923076923077,13.0,\"Donta Smith\"],[0.0,0.5,\"Andre Emmett\"],[0.23529411764705882,8.5,\"Antonio Burks\"],[0.36080178173719374,44.9,\"Royal Ivey\"],[0.3629753914988814,198.66666666666666,\"Chris Duhon\"],[0.0,1.3333333333333333,\"Justin Reed\"],[0.3518312985571587,265.0,\"Trevor Ariza\"],[0.16129032258064516,10.333333333333334,\"Bernard Robinson\"],[null,0.0,\"Ha Ha\"],[null,0.0,\"Pape Sow\"],[0.1724137931034483,29.0,\"Vassilis Spanoulis\"],[0.2236842105263158,38.0,\"Matt Freije\"],[0.5,10.0,\"Luis Flores\"],[0.0,0.2857142857142857,\"DJ Mbenga\"],[0.0,9.0,\"Horace Jenkins\"],[0.5,2.0,\"Tony Bobbitt\"],[0.37293519695044475,196.75,\"Andres Nocioni\"],[0.2692307692307692,26.0,\"Gerald Fitch\"],[0.0,0.3333333333333333,\"Andre Brown\"],[null,0.0,\"John Edwards\"],[0.25,10.0,\"Desmon Farmer\"],[null,0.0,\"Ibrahim Kutluay\"],[null,0.0,\"James Thomas\"],[0.5,2.0,\"Erik Daniels\"],[0.25,5.333333333333333,\"Awvee Storey\"],[0.16666666666666666,2.25,\"Earl Barron\"],[0.2463768115942029,17.25,\"Andre Barrett\"],[0.3269537480063796,62.7,\"Damien Wilkins\"],[null,0.0,\"Jackie Butler\"],[0.24242424242424243,33.0,\"Kasib Powell\"],[0.30392156862745096,34.0,\"Billy Thomas\"],[null,0.0,\"Jared Reiner\"],[0.0,4.0,\"Mark Jones\"],[0.12,1.7857142857142858,\"Andrew Bogut\"],[0.3614374568071873,192.93333333333334,\"Marvin Williams\"],[0.3713640922768305,249.25,\"Chris Paul\"],[0.32883043014575186,200.92857142857142,\"Raymond Felton\"],[0.382196419932269,206.7,\"Martell Webster\"],[0.3407900999524036,191.0,\"Charlie Villanueva\"],[0.3876570583887657,208.15384615384616,\"Channing Frye\"],[0.5,0.3333333333333333,\"Ike Diogu\"],[0.3574029126213592,274.6666666666667,\"Deron Williams\"],[0.1111111111111111,1.125,\"Andrew Bynum\"],[0.25,6.0,\"Yaroslav Korolev\"],[0.23076923076923078,3.25,\"Sean May\"],[0.3682219419924338,198.25,\"Rashad McCants\"],[0.30392156862745096,85.0,\"Antoine Wright\"],[0.3,30.0,\"Joey Graham\"],[0.3804841149773071,264.4,\"Danny Granger\"],[0.3605697151424288,222.33333333333334,\"Gerald Green\"],[0.19090909090909092,13.75,\"Hakim Warrick\"],[null,0.0,\"Julius Hodge\"],[0.3596452328159645,205.0,\"Nate Robinson\"],[0.3427307904919845,139.15384615384616,\"Jarrett Jack\"],[0.35709895513214507,162.7,\"Francisco Garcia\"],[0.38812392426850256,193.66666666666666,\"Luther Head\"],[0.15384615384615385,1.625,\"Johan Petro\"],[0.0,0.5,\"Jason Maxiell\"],[0.33535528596187175,164.85714285714286,\"Linas Kleiza\"],[0.16,4.166666666666667,\"Ian Mahinmi\"],[null,0.0,\"Wayne Simien\"],[0.034482758620689655,2.4166666666666665,\"David Lee\"],[0.36622807017543857,152.0,\"Salim Stoudamire\"],[0.29508196721311475,61.0,\"Daniel Ewing\"],[0.20689655172413793,4.833333333333333,\"Brandon Bass\"],[0.3584743332377402,232.46666666666667,\"CJ Miles\"],[0.3665421336654213,185.30769230769232,\"Ersan Ilyasova\"],[0.0,0.7,\"Ronny Turiaf\"],[0.35268817204301073,93.0,\"Travis Diener\"],[0.3248407643312102,52.333333333333336,\"Von Wafer\"],[0.31375053214133675,195.75,\"Monta Ellis\"],[0.1891891891891892,37.0,\"Roko Ukic\"],[null,0.0,\"Chris Taft\"],[null,0.0,\"Mile Ilic\"],[null,0.0,\"Martynas Andriuskevicius\"],[0.35113748763600394,252.75,\"Lou Williams\"],[0.32432432432432434,18.5,\"Bracey Wright\"],[0.3161764705882353,45.333333333333336,\"Mickael Gelabale\"],[0.2374429223744292,24.333333333333332,\"Andray Blatche\"],[0.3493723849372385,119.5,\"Ryan Gomes\"],[null,0.0,\"Robert Whaley\"],[0.21153846153846154,13.0,\"Orien Greene\"],[0.3076923076923077,6.5,\"Dijon Thompson\"],[0.0,2.0,\"Lawrence Roberts\"],[0.33229813664596275,23.0,\"Amir Johnson\"],[0.15,1.6666666666666667,\"Marcin Gortat\"],[0.32,12.5,\"Alex Acker\"],[0.5,2.0,\"Uros Slokar\"],[0.0,0.6666666666666666,\"Fabricio Oberto\"],[0.25,12.0,\"Arvydas Macijauskas\"],[0.30198019801980197,67.33333333333333,\"Ronnie Price\"],[0.3551912568306011,183.0,\"Sarunas Jasikevicius\"],[0.40707964601769914,161.42857142857142,\"Jose Calderon\"],[0.20588235294117646,17.0,\"Donell Taylor\"],[0.16666666666666666,0.75,\"Shavlik Randolph\"],[null,0.0,\"Deng Gai\"],[0.23809523809523808,10.5,\"Rawle Marshall\"],[0.34371754932502596,120.375,\"Alan Anderson\"],[0.14285714285714285,7.0,\"Eddie Basden\"],[0.2916666666666667,24.0,\"James Singleton\"],[null,0.0,\"Matt Walsh\"],[0.3561643835616438,48.666666666666664,\"Anthony Roberson\"],[null,0.0,\"Luke Schenscher\"],[0.27184466019417475,38.625,\"Will Bynum\"],[0.0,0.2,\"Dwayne Jones\"],[0.18518518518518517,54.0,\"Kevin Burleson\"],[0.0,2.0,\"Devin Green\"],[0.3081395348837209,28.666666666666668,\"Stephen Graham\"],[0.0,0.5,\"Esteban Batista\"],[null,0.0,\"Sharrod Ford\"],[0.3125,48.0,\"Jawad Williams\"],[0.0,2.0,\"Will Conroy\"],[0.3333333333333333,15.0,\"Anthony Grundy\"],[null,0.0,\"Aaron Miles\"],[0.3333333333333333,3.0,\"Noel Felix\"],[0.0,1.0,\"Roger Powell\"],[0.4085603112840467,102.8,\"Kelenna Azubuike\"],[0.0,1.2727272727272727,\"Chuck Hayes\"],[0.0,1.0,\"Boniface Ndong\"],[null,0.0,\"Keith Langford\"],[0.3438818565400844,59.25,\"John Lucas III\"],[0.375,28.0,\"Andre Owens\"],[0.32899628252788105,107.6,\"Jamario Moon\"],[0.35403726708074534,177.1,\"Andrea Bargnani\"],[0.3207831325301205,44.266666666666666,\"LaMarcus Aldridge\"],[0.33066666666666666,125.0,\"Adam Morrison\"],[0.23529411764705882,4.25,\"Tyrus Thomas\"],[0.2222222222222222,1.5,\"Shelden Williams\"],[0.3481081081081081,154.16666666666666,\"Brandon Roy\"],[0.3659264169705005,274.27272727272725,\"Randy Foye\"],[0.3498062015503876,206.4,\"Rudy Gay\"],[0.0,0.75,\"Patrick O'Bryant\"],[null,0.0,\"Mouhamed Sene\"],[0.4145408163265306,313.6,\"JJ Redick\"],[0.2857142857142857,1.1666666666666667,\"Hilton Armstrong\"],[0.34945504087193463,104.85714285714286,\"Thabo Sefolosha\"],[0.2535211267605634,44.375,\"Ronnie Brewer\"],[null,0.0,\"Cedric Simmons\"],[0.338409475465313,118.2,\"Rodney Carney\"],[0.33866995073891626,116.0,\"Shawne Williams\"],[0.2903225806451613,51.666666666666664,\"Oleksiy Pecherov\"],[0.3119266055045872,72.66666666666667,\"Quincy Douby\"],[0.171875,10.666666666666666,\"Renaldo Balkman\"],[0.32253086419753085,86.4,\"Rajon Rondo\"],[0.32142857142857145,98.0,\"Marcus Williams\"],[null,0.0,\"Josh Boone\"],[0.36782766257298166,331.1333333333333,\"Kyle Lowry\"],[0.33212996389891697,92.33333333333333,\"Shannon Brown\"],[0.37395766516998075,155.9,\"Jordan Farmar\"],[0.33666666666666667,120.0,\"Sergio Rodriguez\"],[0.25,11.0,\"Maurice Ager\"],[0.2992125984251969,31.75,\"Mardy Collins\"],[0.0,0.6666666666666666,\"Joel Freeland\"],[0.34,16.666666666666668,\"James White\"],[0.4300673148840688,121.54545454545455,\"Steve Novak\"],[0.1111111111111111,1.125,\"Solomon Jones\"],[0.0,0.25,\"Paul Davis\"],[0.35911330049261087,203.0,\"P.J. Tucker\"],[0.037037037037037035,4.5,\"Craig Smith\"],[0.3064516129032258,31.0,\"Bobby Jones\"],[null,0.0,\"Kosta Perovic\"],[0.32075471698113206,53.0,\"David Noel\"],[null,0.0,\"James Augustine\"],[0.4073291050035236,202.71428571428572,\"Daniel Gibson\"],[0.42105263157894735,9.5,\"Marcus Vinicius\"],[null,0.0,\"Alexander Johnson\"],[0.25,26.0,\"Dee Brown\"],[0.3432066967160335,103.53333333333333,\"Paul Millsap\"],[0.0,1.0,\"Leon Powe\"],[0.0,0.1,\"Ryan Hollins\"],[0.0,1.5,\"Cheikh Samb\"],[0.0,1.0,\"Guillermo Diaz\"],[0.0,0.5,\"Hassan Adams\"],[0.375,16.0,\"Damir Markota\"],[0.2,5.0,\"Will Blalock\"],[0.3770491803278688,71.16666666666667,\"Chris Quinn\"],[0.41379310344827586,116.0,\"Allan Ray\"],[0.0,0.3,\"Lou Amundson\"],[0.323943661971831,23.666666666666668,\"Tarence Kinsey\"],[0.3444976076555024,104.5,\"Jorge Garbajosa\"],[0.2,30.0,\"Pooh Jeter\"],[0.0,0.5,\"Justin Williams\"],[0.3012345679012346,101.25,\"Yakhouba Diawara\"],[0.0,0.5,\"Pops Mensah-Bonsu\"],[0.21739130434782608,23.0,\"Robert Hite\"],[0.35150214592274676,166.42857142857142,\"J.J. Barea\"],[0.3333333333333333,12.0,\"Darius Washington\"],[0.0,1.0,\"Ivan McFarlin\"],[0.38127090301003347,99.66666666666667,\"Walter Herrmann\"],[null,0.0,\"Mike Hall\"],[0.5,2.0,\"Kevinn Pinkney\"],[0.0,1.25,\"Mike Harris\"],[null,0.0,\"Chris McCray\"],[0.15384615384615385,13.0,\"Cedric Bozeman\"],[null,0.0,\"Steven Smith\"],[null,0.0,\"Renaldo Major\"],[0.5,2.0,\"Dontell Jefferson\"],[0.38461538461538464,13.0,\"Jeremy Richardson\"],[null,0.0,\"Lance Allred\"],[0.3076923076923077,13.0,\"Walker Russell\"],[null,0.0,\"Randolph Morris\"],[null,0.0,\"Greg Oden\"],[0.38390164694966367,331.61538461538464,\"Kevin Durant\"],[0.3644008409250175,101.92857142857143,\"Al Horford\"],[0.3787661406025825,248.92857142857142,\"Mike Conley\"],[0.34022988505747126,234.23076923076923,\"Jeff Green\"],[0.3333333333333333,45.0,\"Yi Jianlian\"],[0.2835400225479143,136.46153846153845,\"Corey Brewer\"],[0.0,1.2,\"Brandan Wright\"],[0.0,1.2307692307692308,\"Joakim Noah\"],[0.34990253411306044,102.6,\"Spencer Hawes\"],[0.23478260869565218,28.75,\"Acie Law\"],[0.33111702127659576,107.42857142857143,\"Thaddeus Young\"],[0.26229508196721313,15.25,\"Julian Wright\"],[0.2932330827067669,66.5,\"Al Thornton\"],[0.2996742671009772,92.1,\"Rodney Stuckey\"],[0.375904486251809,230.33333333333334,\"Nick Young\"],[0.0,0.25,\"Sean Williams\"],[0.3764705882352941,248.46153846153845,\"Marco Belinelli\"],[0.23076923076923078,26.0,\"Javaris Crittenton\"],[0.3333333333333333,22.90909090909091,\"Jason Smith\"],[0.3587662337662338,205.33333333333334,\"Daequan Cook\"],[0.3929684023141967,160.5,\"Jared Dudley\"],[0.34140625,213.33333333333334,\"Wilson Chandler\"],[0.36006974716652135,286.75,\"Rudy Fernandez\"],[0.2916666666666667,8.0,\"Morris Almond\"],[0.369702434625789,221.8,\"Aaron Brooks\"],[0.38639455782312926,200.45454545454547,\"Arron Afflalo\"],[0.14285714285714285,2.0,\"Tiago Splitter\"],[0.29411764705882354,11.333333333333334,\"Alando Tucker\"],[0.3,3.3333333333333335,\"Carl Landry\"],[0.2833333333333333,30.0,\"Gabe Pruitt\"],[null,0.0,\"Marcus Williams\"],[0.0,2.0,\"Nick Fazekas\"],[0.18181818181818182,6.875,\"Glen Davis\"],[null,0.0,\"Jermareo Davidson\"],[0.3402777777777778,52.36363636363637,\"Josh McRoberts\"],[0.0,0.4,\"Kyrylo Fesenko\"],[0.0,6.0,\"Sun Sun\"],[null,0.0,\"Chris Richard\"],[0.0,6.0,\"Derrick Byars\"],[null,0.0,\"Stephane Lasme\"],[0.1875,2.6666666666666665,\"Dominic McGuire\"],[0.36006683375104426,92.07692307692308,\"Marc Gasol\"],[0.0,0.42857142857142855,\"Aaron Gray\"],[null,0.0,\"JamesOn Curry\"],[0.18181818181818182,11.0,\"Taurean Green\"],[0.2,7.5,\"Demetris Nichols\"],[0.3161094224924012,59.81818181818182,\"Ramon Sessions\"],[0.24,25.0,\"DJ Strawberry\"],[null,0.0,\"Joel Anthony\"],[0.09090909090909091,5.5,\"Mustafa Shakur\"],[0.25,12.0,\"Coby Karl\"],[null,0.0,\"Darryl Watkins\"],[0.37292161520190026,126.3,\"C.J. Watson\"],[0.3728448275862069,178.46153846153845,\"Anthony Tolliver\"],[0.3333333333333333,1.0,\"Trey Johnson\"],[null,0.0,\"Courtney Sims\"],[0.2,2.5,\"Mario West\"],[0.2,17.5,\"Thomas Gardner\"],[0.15789473684210525,9.5,\"Ivan Johnson\"],[0.4166666666666667,6.0,\"Andre Ingram\"],[null,0.0,\"Eric Dawson\"],[0.26666666666666666,15.0,\"Carldell Johnson\"],[0.2978723404255319,15.666666666666666,\"Blake Ahearn\"],[0.325,40.0,\"Mike Taylor\"],[0.34850299401197604,75.9090909090909,\"Michael Beasley\"],[0.3734149540883253,285.875,\"O.J. Mayo\"],[0.31077844311377245,139.16666666666666,\"Derrick Rose\"],[0.3053720195346165,267.7692307692308,\"Russell Westbrook\"],[0.37015615962984383,266.0,\"Kevin Love\"],[0.38219895287958117,286.5,\"Danilo Gallinari\"],[0.3677170709589662,339.3076923076923,\"Eric Gordon\"],[0.3404255319148936,23.5,\"Joe Alexander\"],[0.3794089609151573,242.07692307692307,\"D.J. Augustin\"],[0.3401397098334229,143.15384615384616,\"Brook Lopez\"],[0.36107091172214184,125.63636363636364,\"Jerryd Bayless\"],[0.14285714285714285,5.25,\"Jason Thompson\"],[0.4015384615384615,144.44444444444446,\"Brandon Rush\"],[0.24096385542168675,13.833333333333334,\"Anthony Randolph\"],[0.29310344827586204,13.384615384615385,\"Robin Lopez\"],[0.3563748079877112,65.1,\"Marreese Speights\"],[0.25,2.6666666666666665,\"Roy Hibbert\"],[0.17543859649122806,4.384615384615385,\"JaVale McGee\"],[0.0,2.625,\"JJ Hickson\"],[0.2857142857142857,6.0,\"Alexis Ajinca\"],[0.3795474076195932,290.9166666666667,\"Ryan Anderson\"],[0.38778220451527223,188.25,\"Courtney Lee\"],[0.0,0.36363636363636365,\"Kosta Koufos\"],[0.3586683417085427,132.66666666666666,\"Serge Ibaka\"],[0.3601380042462845,289.84615384615387,\"Nicolas Batum\"],[0.384257464133385,198.3846153846154,\"George Hill\"],[0.35152838427947597,50.888888888888886,\"Darrell Arthur\"],[0.3044280442804428,135.5,\"Donte Greene\"],[0.3333333333333333,0.5,\"DJ White\"],[0.0,5.0,\"J.R. Giddens\"],[null,0.0,\"Nikola Pekovic\"],[0.0,2.0,\"Walter Sharpe\"],[0.0,0.25,\"Joey Dorsey\"],[0.35067347886669764,239.22222222222223,\"Mario Chalmers\"],[0.08333333333333333,0.9230769230769231,\"DeAndre Jordan\"],[0.0,0.125,\"Omer Asik\"],[0.3344103392568659,51.583333333333336,\"Luc Mbah a Moute\"],[0.35294117647058826,39.666666666666664,\"Kyle Weaver\"],[0.2833333333333333,30.0,\"Sonny Weems\"],[0.32941176470588235,42.5,\"Chris Douglas-Roberts\"],[0.0,0.5,\"Nathan Jawai\"],[0.4,25.0,\"Sean Singletary\"],[0.0,2.0,\"Patrick Ewing\"],[0.36394214598049107,228.69230769230768,\"Goran Dragic\"],[0.36893203883495146,103.0,\"Henry Walker\"],[0.16666666666666666,6.0,\"Malik Hairston\"],[0.23529411764705882,5.666666666666667,\"Darnell Jackson\"],[null,0.0,\"Sasha Kaun\"],[0.25,4.0,\"Joe Crawford\"],[null,0.0,\"Semih Erden\"],[0.4166236448115643,215.22222222222223,\"Anthony Morrow\"],[0.31683168316831684,75.75,\"Bobby Brown\"],[null,0.0,\"Othello Hunter\"],[null,0.0,\"Steven Hill\"],[0.0,1.0,\"Hamed Haddadi\"],[0.39473684210526316,38.0,\"Rob Kurz\"],[0.0,3.0,\"DeMarcus Nelson\"],[0.16666666666666666,2.0,\"Othyus Jeffers\"],[0.5,2.0,\"Oliver Lafayette\"],[0.0,4.0,\"Chris Hunter\"],[0.3404255319148936,70.5,\"Gary Forbes\"],[null,0.0,\"Trey Gilder\"],[0.3720136518771331,83.71428571428571,\"Cartier Martin\"],[0.0,0.25,\"Greg Stiemsma\"],[0.33403361344537813,129.8181818181818,\"Blake Griffin\"],[null,0.0,\"Hasheem Thabeet\"],[0.3634066587395957,560.6666666666666,\"James Harden\"],[0.32299741602067183,154.8,\"Tyreke Evans\"],[0.3251605370694688,171.3,\"Ricky Rubio\"],[0.33810888252148996,116.33333333333333,\"Jonny Flynn\"],[0.43302752293577984,545.0,\"Stephen Curry\"],[0.13636363636363635,2.75,\"Jordan Hill\"],[0.28081123244929795,106.83333333333333,\"DeMar DeRozan\"],[0.34516616314199394,294.22222222222223,\"Brandon Jennings\"],[0.31693989071038253,45.75,\"Terrence Williams\"],[0.32677165354330706,95.25,\"Gerald Henderson\"],[0.13636363636363635,3.142857142857143,\"Tyler Hansbrough\"],[0.328,41.666666666666664,\"Earl Clark\"],[0.3514018691588785,89.16666666666667,\"Austin Daye\"],[0.30445969125214406,97.16666666666667,\"James Johnson\"],[0.3580545015522594,241.58333333333334,\"Jrue Holiday\"],[0.35860500379075055,164.875,\"Ty Lawson\"],[0.3599389933909507,163.91666666666666,\"Jeff Teague\"],[0.3501577287066246,63.4,\"Eric Maynor\"],[0.3944099378881988,161.0,\"Darren Collison\"],[0.368185212845407,133.9,\"Omri Casspi\"],[0.31896551724137934,69.6,\"Byron Mullens\"],[0.3249370277078086,99.25,\"Rodrigue Beaubois\"],[0.21804511278195488,11.083333333333334,\"Taj Gibson\"],[0.3578031538879826,167.1818181818182,\"DeMarre Carroll\"],[0.38191632928475033,247.0,\"Wayne Ellington\"],[0.3535031847133758,157.0,\"Toney Douglas\"],[0.2765957446808511,47.0,\"Christian Eyenga\"],[0.29310344827586204,38.666666666666664,\"Victor Claver\"],[0.4,0.8333333333333334,\"Jeff Ayres\"],[0.2835820895522388,33.5,\"Jermaine Taylor\"],[0.3450479233226837,62.6,\"Dante Cunningham\"],[0.3670886075949367,19.75,\"DaJuan Summers\"],[0.28,43.75,\"Sam Young\"],[0.0,1.2857142857142858,\"DeJuan Blair\"],[0.0,0.3333333333333333,\"Jon Brockman\"],[0.36330608537693004,122.33333333333333,\"Jonas Jerebko\"],[0.3170731707317073,13.666666666666666,\"Derrick Brown\"],[0.37295476419634266,207.8,\"Jodie Meeks\"],[0.3819479857215706,217.88888888888889,\"Patrick Beverley\"],[0.3583617747440273,256.375,\"Marcus Thornton\"],[0.35238907849829354,167.42857142857142,\"Chase Budinger\"],[0.28846153846153844,52.0,\"Nick Calathes\"],[0.40087984602694526,303.0833333333333,\"Danny Green\"],[0.0,2.0,\"Taylor Griffin\"],[0.3159420289855073,115.0,\"AJ Price\"],[0.362962962962963,67.5,\"Nando De Colo\"],[0.3875476493011436,262.3333333333333,\"Patty Mills\"],[0.27722772277227725,25.25,\"Lester Hudson\"],[0.34611171960569553,166.0,\"Garrett Temple\"],[0.32142857142857145,28.0,\"Marcus Landry\"],[0.5,2.0,\"Jerel McNeal\"],[null,0.0,\"Antonio Anderson\"],[null,0.0,\"Garret Siler\"],[0.4444444444444444,9.0,\"Larry Owens\"],[0.37883435582822084,380.3333333333333,\"Wesley Matthews\"],[0.32517482517482516,71.5,\"Alonzo Gee\"],[0.2903225806451613,31.0,\"Dionte Christmas\"],[0.3651376146788991,77.85714285714286,\"Reggie Williams\"],[0.16666666666666666,6.0,\"Cedric Jackson\"],[null,0.0,\"Mickell Gladness\"],[0.3013698630136986,48.666666666666664,\"Sundiata Gaines\"],[null,0.0,\"Shane Edwards\"],[0.3,10.0,\"Zabian Dowdell\"],[0.1702127659574468,23.5,\"Terrel Harris\"],[0.32322175732217573,191.2,\"John Wall\"],[0.29443838604143946,91.7,\"Evan Turner\"],[0.20454545454545456,16.0,\"Derrick Favors\"],[0.3368074602303895,202.55555555555554,\"Wesley Johnson\"],[0.33361921097770153,116.6,\"DeMarcus Cousins\"],[0.0,0.5714285714285714,\"Ekpe Udoh\"],[0.058823529411764705,1.8888888888888888,\"Greg Monroe\"],[0.3323133414932681,148.54545454545453,\"Al-Farouq Aminu\"],[0.3696682464454976,230.1818181818182,\"Gordon Hayward\"],[0.38382737576285963,417.09090909090907,\"Paul George\"],[null,0.0,\"Cole Aldrich\"],[0.3253968253968254,25.2,\"Xavier Henry\"],[0.0,0.36363636363636365,\"Ed Davis\"],[0.36863662960795784,155.36363636363637,\"Patrick Patterson\"],[0.0,0.8333333333333334,\"Larry Sanders\"],[0.4024514811031665,122.375,\"Luke Babbitt\"],[0.0,1.0,\"Kevin Seraphin\"],[0.33711167086481947,216.54545454545453,\"Eric Bledsoe\"],[0.3625758282781148,194.8181818181818,\"Avery Bradley\"],[0.32078559738134205,122.2,\"James Anderson\"],[0.21428571428571427,7.0,\"Craig Brackins\"],[0.3103448275862069,43.5,\"Elliot Williams\"],[0.3048780487804878,30.75,\"Trevor Booker\"],[0.0,1.5,\"Damion James\"],[0.09523809523809523,7.0,\"Dominique Jones\"],[0.35581787521079256,84.71428571428571,\"Quincy Pondexter\"],[0.3170028818443804,173.5,\"Jordan Crawford\"],[0.34915254237288135,168.57142857142858,\"Greivis Vasquez\"],[0.0,0.3333333333333333,\"Daniel Orton\"],[0.2692307692307692,26.0,\"Lazar Hayward\"],[0.0,2.0,\"Tibor Pleiss\"],[null,0.0,\"Dexter Pittman\"],[0.3076923076923077,2.888888888888889,\"Hassan Whiteside\"],[0.4,7.5,\"Armon Johnson\"],[0.3870967741935484,191.16666666666666,\"Nemanja Bjelica\"],[0.0,6.0,\"Darington Hobson\"],[0.25,4.0,\"Andy Rautins\"],[0.33240997229916897,72.2,\"Landry Fields\"],[0.3148316651501365,122.11111111111111,\"Lance Stephenson\"],[null,0.0,\"Jarvis Varnado\"],[0.2222222222222222,12.0,\"Devin Ebanks\"],[null,0.0,\"Jerome Jordan\"],[null,0.0,\"Gani Lawal\"],[null,0.0,\"Solomon Alabi\"],[0.2413793103448276,43.5,\"Luke Harangody\"],[0.0,1.0,\"Pape Sy\"],[0.3333333333333333,15.0,\"Willie Warren\"],[0.23076923076923078,3.7142857142857144,\"Jeremy Evans\"],[null,0.0,\"Hamady Ndiaye\"],[null,0.0,\"Derrick Caracter\"],[null,0.0,\"Ryan Reid\"],[0.3333333333333333,4.5,\"Ben Uzoh\"],[0.310126582278481,63.2,\"Donald Sloan\"],[0.1896551724137931,7.25,\"Timofey Mozgov\"],[0.38237738985868663,171.85714285714286,\"Gary Neal\"],[0.341964965727342,145.88888888888889,\"Jeremy Lin\"],[0.2,10.0,\"Sherron Collins\"],[0.0,1.3333333333333333,\"Samardo Samuels\"],[0.32167832167832167,78.0,\"Ish Smith\"],[0.0,0.4,\"Jeff Adrien\"],[0.125,8.0,\"Jerome Dyson\"],[0.27884615384615385,34.666666666666664,\"Elijah Millsap\"],[null,0.0,\"Marcus Cousin\"],[0.35333333333333333,37.5,\"Manny Harris\"],[null,0.0,\"Chris Johnson\"],[0.14285714285714285,7.0,\"Justin Dentmon\"],[0.3810623556581986,48.111111111111114,\"Lance Thomas\"],[0.16666666666666666,6.0,\"Jerry Smith\"],[0.2,5.0,\"Luke Zeller\"],[null,0.0,\"Arinze Onuaku\"],[0.23076923076923078,13.0,\"Courtney Fortson\"],[0.3913177339901478,324.8,\"Kyrie Irving\"],[0.29952267303102625,119.71428571428571,\"Derrick Williams\"],[0.2857142857142857,15.4,\"Enes Freedom\"],[0.2571428571428571,3.5,\"Tristan Thompson\"],[0.35766423357664234,30.444444444444443,\"Jonas Valanciunas\"],[0.0,0.6666666666666666,\"Jan Vesely\"],[0.0,0.3,\"Bismack Biyombo\"],[0.3533797216699801,251.5,\"Brandon Knight\"],[0.36013590033975085,441.5,\"Kemba Walker\"],[0.371868978805395,86.5,\"Jimmer Fredette\"],[0.4191142191142191,536.25,\"Klay Thompson\"],[0.37279411764705883,136.0,\"Alec Burks\"],[0.3407917383820998,174.3,\"Markieff Morris\"],[0.3785063752276867,274.5,\"Marcus Morris Sr.\"],[0.38427365615282094,225.1,\"Kawhi Leonard\"],[0.35731225296442687,126.5,\"Nikola Vucevic\"],[0.3372413793103448,145.0,\"Iman Shumpert\"],[0.31868131868131866,60.666666666666664,\"Chris Singleton\"],[0.367047308319739,245.2,\"Tobias Harris\"],[0.2995049504950495,67.33333333333333,\"Donatas Motiejunas\"],[0.2602739726027397,36.5,\"Nolan Smith\"],[0.2222222222222222,5.625,\"Kenneth Faried\"],[0.35864485981308414,342.4,\"Nikola Mirotic\"],[0.3491282968261064,223.7,\"Reggie Jackson\"],[0.3449367088607595,63.2,\"MarShon Brooks\"],[0.3567708333333333,76.8,\"Jordan Hamilton\"],[null,0.0,\"JaJuan Johnson\"],[0.323943661971831,106.5,\"Norris Cole\"],[0.3330049261083744,101.5,\"Cory Joseph\"],[0.32735148514851486,161.6,\"Jimmy Butler\"],[0.3931240657698057,382.2857142857143,\"Bojan Bogdanovic\"],[0.27586206896551724,9.666666666666666,\"Justin Harper\"],[0.3619854721549637,137.66666666666666,\"Kyle Singler\"],[0.3296943231441048,114.5,\"Shelvin Mack\"],[0.2,2.5,\"Tyler Honeycutt\"],[null,0.0,\"Jordan Williams\"],[0.3076923076923077,13.0,\"Trey Thompkins\"],[0.3725596529284165,204.88888888888889,\"Chandler Parsons\"],[0.0,0.3333333333333333,\"Jeremy Tyler\"],[0.32808398950131235,47.625,\"Jon Leuer\"],[0.3219178082191781,36.5,\"Darius Morris\"],[0.40709561034275404,332.6,\"Davis Bertans\"],[0.29411764705882354,11.333333333333334,\"Malcolm Lee\"],[0.18181818181818182,11.0,\"Charles Jenkins\"],[0.3473684210526316,31.666666666666668,\"Josh Harrellson\"],[0.34523809523809523,28.0,\"Andrew Goudelock\"],[null,0.0,\"Travis Leslie\"],[null,0.0,\"Keith Benson\"],[0.14285714285714285,10.5,\"Josh Selby\"],[0.13333333333333333,2.5,\"Lavoy Allen\"],[null,0.0,\"Vernon Macklin\"],[0.3524590163934426,24.4,\"DeAndre Liggins\"],[0.388268156424581,143.2,\"E'Twaun Moore\"],[0.36305048335123524,279.3,\"Isaiah Thomas\"],[0.2,5.0,\"Edwin Ubiles\"],[0.3698630136986301,24.333333333333332,\"Dwight Buycks\"],[0.2,12.5,\"Cory Higgins\"],[0.5,4.0,\"D.J. Kennedy\"],[0.36363636363636365,11.0,\"Mychel Thompson\"],[0.0,1.0,\"Dennis Horner\"],[0.0,0.5,\"Chris Wright\"],[null,0.0,\"Jeff Foote\"],[0.125,4.0,\"Xavier Silas\"],[0.3125,8.0,\"Julyan Stone\"],[0.31932773109243695,39.666666666666664,\"Jeremy Pargo\"],[0.09090909090909091,2.75,\"Malcolm Thomas\"],[0.3053097345132743,75.33333333333333,\"Brad Wanamaker\"],[0.0,0.2,\"Greg Smith\"],[0.0,0.3333333333333333,\"Gustavo Ayon\"],[0.5,2.0,\"Josh Akognon\"],[0.31208053691275167,99.33333333333333,\"Anthony Davis\"],[0.27184466019417475,12.875,\"Michael Kidd-Gilchrist\"],[0.3765449052458116,404.55555555555554,\"Bradley Beal\"],[0.3463855421686747,207.5,\"Dion Waiters\"],[0.0,1.2,\"Thomas Robinson\"],[0.37509144111192394,607.5555555555555,\"Damian Lillard\"],[0.36718502062837194,350.1111111111111,\"Terrence Ross\"],[0.13513513513513514,12.333333333333334,\"Andre Drummond\"],[0.37653239929947463,253.77777777777777,\"Harrison Barnes\"],[0.34994753410283314,211.77777777777777,\"Austin Rivers\"],[0.3902147971360382,93.11111111111111,\"Meyers Leonard\"],[0.3444794952681388,176.11111111111111,\"Jeremy Lamb\"],[0.3699421965317919,86.5,\"Kendall Marshall\"],[0.25,10.0,\"John Henson\"],[0.3209990749306198,120.11111111111111,\"Maurice Harkless\"],[null,0.0,\"Royce White\"],[0.2857142857142857,4.375,\"Tyler Zeller\"],[0.2971246006389776,52.166666666666664,\"Terrence Jones\"],[0.3210332103321033,54.2,\"Andrew Nicholson\"],[0.3793352601156069,307.55555555555554,\"Evan Fournier\"],[0.2722007722007722,103.6,\"Jared Sullinger\"],[null,0.0,\"Fab Melo\"],[0.3667711598746082,53.166666666666664,\"John Jenkins\"],[0.3064516129032258,15.5,\"Jared Cunningham\"],[0.23140495867768596,90.75,\"Tony Wroten\"],[null,0.0,\"Miles Plumlee\"],[null,0.0,\"Arnett Moultrie\"],[0.2926829268292683,41.0,\"Perry Jones III\"],[0.2222222222222222,15.0,\"Marquis Teague\"],[null,0.0,\"Festus Ezeli\"],[0.36628849270664504,123.4,\"Tomas Satoransky\"],[0.0,1.0,\"Bernard James\"],[0.3460101867572156,327.22222222222223,\"Jae Crowder\"],[0.31569965870307165,195.33333333333334,\"Draymond Green\"],[0.31125827814569534,50.333333333333336,\"Orlando Johnson\"],[0.34990439770554493,74.71428571428571,\"Quincy Acy\"],[0.2920353982300885,37.666666666666664,\"Quincy Miller\"],[0.3950524737631184,296.44444444444446,\"Khris Middleton\"],[0.3515215110178384,211.77777777777777,\"Will Barton\"],[0.36,12.5,\"Tyshawn Taylor\"],[0.3937007874015748,63.5,\"Doron Lamb\"],[0.3619047619047619,151.66666666666666,\"Mike Scott\"],[0.28,50.0,\"Kim English\"],[0.3090909090909091,73.33333333333333,\"Justin Hamilton\"],[0.3830734966592428,149.66666666666666,\"Darius Miller\"],[0.2,5.0,\"Kevin Murphy\"],[0.2971014492753623,69.0,\"Kostas Papanikolaou\"],[0.21830985915492956,17.75,\"Kyle O'Quinn\"],[0.0,3.0,\"Kris Joseph\"],[0.0,5.0,\"Furkan Aldemir\"],[0.125,4.0,\"Tornike Shengelia\"],[0.0,2.0,\"Darius Johnson-Odom\"],[0.34285714285714286,70.0,\"Robbie Hummel\"],[0.0,0.25,\"Robert Sacre\"],[null,0.0,\"Ognjen Kuzmic\"],[0.38575982996811903,235.25,\"Hollis Thompson\"],[null,0.0,\"Viacheslav Kravtsov\"],[0.37054794520547946,243.33333333333334,\"Mirza Teletovic\"],[0.36492890995260663,105.5,\"Chris Copeland\"],[0.3794392523364486,133.75,\"Pablo Prigioni\"],[0.30623818525519847,176.33333333333334,\"Alexey Shved\"],[0.356186395286556,207.44444444444446,\"Kent Bazemore\"],[0.22580645161290322,15.5,\"Maalik Wayns\"],[null,0.0,\"Chris Smith\"],[0.3557377049180328,122.0,\"Brian Roberts\"],[0.17391304347826086,5.75,\"Henry Sims\"],[null,0.0,\"Kevin Jones\"],[0.5,1.0,\"Scott Machado\"],[0.2608695652173913,23.0,\"Ben Hansbrough\"],[0.0,1.0,\"Tony Mitchell\"],[0.3333333333333333,2.0,\"Willie Reed\"],[0.30678466076696165,84.75,\"Chris Johnson\"],[0.35135135135135137,55.5,\"Diante Garrett\"],[0.2571428571428571,35.0,\"DeQuan Jones\"],[0.364379827351204,275.125,\"Justin Holiday\"],[null,0.0,\"Chris Wright\"],[0.37967914438502676,133.57142857142858,\"JaMychal Green\"],[0.3225806451612903,20.666666666666668,\"James Nunnally\"],[0.17647058823529413,5.666666666666667,\"Jorge Gutierrez\"],[0.4166666666666667,6.0,\"Toure' Murry\"],[null,0.0,\"Tim Ohlbrecht\"],[0.25,12.0,\"Glen Rice Jr.\"],[0.30833333333333335,40.0,\"Aron Baynes\"],[0.2,1.4285714285714286,\"Nerlens Noel\"],[0.33226837060702874,39.125,\"Alex Len\"],[0.3865914786967419,228.0,\"Allen Crabbe\"],[0.2528216704288939,63.285714285714285,\"Andre Roberson\"],[0.2608695652173913,34.5,\"Anthony Bennett\"],[0.2356020942408377,47.75,\"Archie Goodwin\"],[0.3630379746835443,246.875,\"Ben McLemore\"],[0.2777777777777778,54.0,\"Brandon Paul\"],[0.4,5.0,\"Carrick Felix\"],[0.39758632249413345,372.875,\"CJ McCollum\"],[0.22695035460992907,17.625,\"Cody Zeller\"],[0.3366914103923648,235.75,\"Dennis Schroder\"],[0.33121019108280253,58.875,\"Dewayne Dedmon\"],[null,0.0,\"DJ Stephens\"],[0.28846153846153844,26.0,\"Erick Green\"],[0.3569682151589242,51.125,\"Gorgui Dieng\"],[0.3512476007677543,173.66666666666666,\"Isaiah Canaan\"],[0.46153846153846156,6.5,\"Jamaal Franklin\"],[0.5,6.0,\"James Southerland\"],[0.14285714285714285,2.8,\"Jeff Withey\"],[0.3668076109936575,236.5,\"Kelly Olynyk\"],[0.35534256301029465,352.125,\"Kentavious Caldwell-Pope\"],[0.16981132075471697,21.2,\"Lorenzo Brown\"],[0.05128205128205128,4.875,\"Mason Plumlee\"],[0.2552594670406732,89.125,\"Michael Carter-Williams\"],[0.36796536796536794,115.5,\"Mike Muscala\"],[0.2608695652173913,23.0,\"Nate Wolters\"],[0.4019073569482289,183.5,\"Otto Porter Jr.\"],[0.28,25.0,\"Peyton Siva\"],[0.33490566037735847,70.66666666666667,\"Ray McCallum\"],[0.39215686274509803,178.5,\"Reggie Bullock\"],[0.37142857142857144,17.5,\"Ricky Ledo\"],[0.3585415259959487,370.25,\"Robert Covington\"],[0.0,0.875,\"Rudy Gobert\"],[0.31865284974093266,77.2,\"Shabazz Muhammad\"],[0.33620689655172414,87.0,\"Shane Larkin\"],[0.07692307692307693,1.625,\"Steven Adams\"],[0.35957513277100905,400.125,\"Tim Hardaway Jr.\"],[1.0,1.0,\"Tony Mitchell\"],[0.39709302325581397,215.0,\"Tony Snell\"],[0.3459807073954984,194.375,\"Trey Burke\"],[0.15384615384615385,4.333333333333333,\"Vander Blue\"],[0.3469776297001428,262.625,\"Victor Oladipo\"],[0.2874617737003058,163.5,\"Giannis Antetokounmpo\"],[0.2818181818181818,36.666666666666664,\"Sergey Karasev\"],[0.2727272727272727,11.0,\"Pierre Jackson\"],[0.06666666666666667,15.0,\"Grant Jerrett\"],[0.2647058823529412,8.5,\"Lucas Nogueira\"],[0.0,3.0,\"Erik Murphy\"],[0.25396825396825395,63.0,\"Phil Pressey\"],[0.36009174311926606,124.57142857142857,\"James Ennis III\"],[0.16666666666666666,18.0,\"Nemanja Nedovic\"],[0.3680672268907563,198.33333333333334,\"Alex Abrines\"],[0.2,5.0,\"Adonis Thomas\"],[0.36363636363636365,137.5,\"Matthew Dellavedova\"],[0.3333333333333333,135.0,\"Solomon Hill\"],[0.3822463768115942,92.0,\"Raul Neto\"],[0.3157894736842105,80.75,\"Ryan Kelly\"],[0.28488372093023256,43.0,\"Joffrey Lauvergne\"],[0.21739130434782608,11.5,\"Gal Mekel\"],[0.31645569620253167,39.5,\"Gigi Datome\"],[0.313953488372093,172.0,\"Pero Antic\"],[null,0.0,\"Miroslav Raduljica\"],[0.3404255319148936,117.5,\"Ian Clark\"],[null,0.0,\"Elias Harris\"],[0.4444444444444444,183.85714285714286,\"Seth Curry\"],[0.22727272727272727,22.0,\"Brandon Davies\"],[0.0,0.5,\"Kalin Lucas\"],[0.0,4.0,\"Patrick Christopher\"],[0.2222222222222222,27.0,\"Chris Babb\"],[0.2,17.5,\"Larry Drew II\"],[0.3952991452991453,200.57142857142858,\"Troy Daniels\"],[0.3406408094435076,118.6,\"Rodney McGruder\"],[null,0.0,\"Trey McKinney-Jones\"],[0.3172866520787746,114.25,\"Jonathon Simmons\"],[0.175,13.333333333333334,\"Thanasis Antetokounmpo\"],[0.0,0.5,\"Norvel Pelle\"],[0.5,2.0,\"Reggie Hearn\"],[0.34615384615384615,13.0,\"Josh Magette\"],[0.2872340425531915,47.0,\"C.J. Williams\"],[0.29455445544554454,202.0,\"PJ Hairston\"],[0.2222222222222222,9.0,\"Will Cherry\"],[0.3333333333333333,21.0,\"Casper Ware\"],[0.0,1.0,\"Scotty Hopson\"],[0.1875,8.0,\"Russ Smith\"],[0.345,166.66666666666666,\"Shabazz Napier\"],[0.3547008547008547,58.5,\"Jordan McRae\"],[0.3848953594176524,314.0,\"Zach LaVine\"],[0.3173076923076923,52.0,\"Tyler Ennis\"],[0.29473684210526313,63.333333333333336,\"Markel Brown\"],[0.2888198757763975,92.0,\"Elfrid Payton\"],[0.19047619047619047,63.0,\"Semaj Christon\"],[0.3429237947122862,367.42857142857144,\"Jordan Clarkson\"],[0.2222222222222222,27.0,\"Devyn Marble\"],[0.29045643153526973,80.33333333333333,\"KJ McDaniels\"],[0.23809523809523808,21.0,\"Nick Johnson\"],[0.3333333333333333,19.0,\"C.J. Wilcox\"],[0.3709677419354839,62.0,\"Jabari Brown\"],[0.3587088915956151,234.57142857142858,\"Gary Harris\"],[0.3181818181818182,198.0,\"Spencer Dinwiddie\"],[0.35325602140945583,224.2,\"Nik Stauskas\"],[0.36748064324002383,239.85714285714286,\"Rodney Hood\"],[0.38461538461538464,13.0,\"Jordan Adams\"],[0.24074074074074073,13.5,\"Khem Birch\"],[0.26262626262626265,49.5,\"Cleanthony Early\"],[0.37258687258687256,74.0,\"Glenn Robinson III\"],[0.2773722627737226,34.25,\"James Young\"],[0.34736091298145505,200.28571428571428,\"Jerami Grant\"],[0.43772990015764585,271.85714285714283,\"Joe Harris\"],[0.40728476821192056,215.71428571428572,\"Doug McDermott\"],[0.125,8.0,\"Cory Jefferson\"],[0.33506044905008636,144.75,\"Sean Kilpatrick\"],[0.3207184092366902,222.71428571428572,\"Aaron Gordon\"],[0.3569364161849711,98.85714285714286,\"T.J. Warren\"],[0.23636363636363636,27.5,\"Lamar Patterson\"],[0.319792158715163,302.42857142857144,\"Marcus Smart\"],[0.3352380952380952,75.0,\"Kyle Anderson\"],[0.2903225806451613,53.142857142857146,\"Dwight Powell\"],[0.2542372881355932,14.75,\"Adreian Payne\"],[0.3076923076923077,42.714285714285715,\"Noah Vonleh\"],[0.3420229405630866,137.0,\"Julius Randle\"],[null,0.0,\"Alex Kirk\"],[0.2,2.5,\"Cameron Bairstow\"],[0.36,12.5,\"Johnny O'Bryant III\"],[0.29411764705882354,4.25,\"James Michael McAdoo\"],[null,0.0,\"Jarnell Stokes\"],[0.0,3.0,\"Keith Appling\"],[0.34119417962870047,284.7142857142857,\"Andrew Wiggins\"],[0.32125984251968503,90.71428571428571,\"Jabari Parker\"],[0.32852386237513875,180.2,\"Joel Embiid\"],[0.30434782608695654,11.5,\"Bryce Cotton\"],[0.0,3.0,\"Mitch McGary\"],[0.3053016453382084,91.16666666666667,\"Dante Exum\"],[0.16666666666666666,6.0,\"Andre Dawkins\"],[0.24793388429752067,40.333333333333336,\"JaKarr Sampson\"],[1.0,0.25,\"Eric Moreland\"],[0.312,41.666666666666664,\"Josh Huestis\"],[0.125,4.0,\"Shayne Whittington\"],[0.42857142857142855,63.0,\"Jamil Wilson\"],[0.3572923935799023,286.6,\"Dario Saric\"],[null,0.0,\"Jerrelle Benimon\"],[0.0,0.2857142857142857,\"Clint Capela\"],[0.3884745762711864,368.75,\"Bogdan Bogdanovic\"],[0.2073170731707317,11.714285714285714,\"Jusuf Nurkic\"],[0.23076923076923078,13.0,\"Damien Inglis\"],[0.30845771144278605,28.714285714285715,\"Bruno Caboclo\"],[0.34703557312252964,210.83333333333334,\"Nikola Jokic\"],[0.36099585062240663,289.2,\"Kristaps Porzingis\"],[null,0.0,\"Edy Tavares\"],[0.3732394366197183,94.66666666666667,\"Damjan Rudez\"],[0.3596345514950166,172.0,\"Tyler Johnson\"],[null,0.0,\"Sim Bhullar\"],[null,0.0,\"Jack Cooley\"],[0.32216494845360827,55.42857142857143,\"Tim Frazier\"],[0.14285714285714285,3.5,\"Tarik Black\"],[0.0,1.0,\"David Wear\"],[0.36363636363636365,38.5,\"Travis Wear\"],[0.3699186991869919,246.0,\"Langston Galloway\"],[0.21428571428571427,14.0,\"Zoran Dragic\"],[0.4142678347934919,342.42857142857144,\"Joe Ingles\"],[0.6,2.5,\"David Stockton\"],[0.3055555555555556,18.0,\"John Holland\"],[0.2923076923076923,21.666666666666668,\"Jarell Eddie\"],[0.0,3.0,\"Drew Gordon\"],[0.36,12.5,\"Xavier Munford\"],[0.3333333333333333,12.0,\"Omari Johnson\"],[0.0,2.0,\"Greg Whittington\"],[0.329073482428115,52.166666666666664,\"T.J. McConnell\"],[0.2222222222222222,4.5,\"Jahlil Okafor\"],[0.32280701754385965,171.0,\"Emmanuel Mudiay\"],[0.3395348837209302,107.5,\"Tyus Jones\"],[null,0.0,\"Cliff Alexander\"],[0.2962962962962963,97.2,\"Justin Anderson\"],[0.2857142857142857,32.666666666666664,\"Anthony Brown\"],[0.08333333333333333,10.0,\"Montrezl Harrell\"],[0.29411764705882354,107.66666666666667,\"Andrew Harrison\"],[0.21818181818181817,18.333333333333332,\"Aaron Harrison\"],[0.34992458521870284,110.5,\"Delon Wright\"],[0.29545454545454547,22.0,\"RJ Hunter\"],[0.28802588996763756,77.25,\"Sam Dekker\"],[0.3600498338870432,401.3333333333333,\"D'Angelo Russell\"],[0.3943573667711599,265.8333333333333,\"Karl-Anthony Towns\"],[0.25153374233128833,27.166666666666668,\"Richaun Holmes\"],[0.3241491085899514,102.83333333333333,\"Justise Winslow\"],[0.16666666666666666,5.0,\"Willie Cauley-Stein\"],[0.32630906768837803,261.0,\"Kelly Oubre Jr.\"],[0.34804753820033957,196.33333333333334,\"Frank Kaminsky\"],[0.3516143299425033,376.8333333333333,\"Devin Booker\"],[0.37213403880070545,94.5,\"Cameron Payne\"],[0.35181236673773986,156.33333333333334,\"Myles Turner\"],[0.34133611691022964,159.66666666666666,\"Trey Lyles\"],[0.2982456140350877,161.5,\"Stanley Johnson\"],[0.3228200371057514,107.8,\"Jerian Grant\"],[0.37969094922737306,151.0,\"Bobby Portis\"],[0.17543859649122806,9.5,\"Kevon Looney\"],[0.3132075471698113,88.33333333333333,\"Rashad Vaughn\"],[0.3711340206185567,77.6,\"Christian Wood\"],[0.11764705882352941,5.666666666666667,\"Jordan Mickey\"],[null,0.0,\"Rakeem Christmas\"],[null,0.0,\"Dakari Johnson\"],[0.21153846153846154,34.666666666666664,\"Rondae Hollis-Jefferson\"],[0.37596699329551314,323.1666666666667,\"Terry Rozier\"],[0.3771996939556236,217.83333333333334,\"Norman Powell\"],[null,0.0,\"Branden Dawson\"],[0.36054421768707484,73.5,\"Chasson Randle\"],[0.34615384615384615,45.5,\"Jarell Martin\"],[0.40816326530612246,88.2,\"Quinn Cook\"],[0.30612244897959184,16.333333333333332,\"Chris McCullough\"],[0.352549889135255,150.33333333333334,\"Pat Connaughton\"],[0.30612244897959184,19.6,\"Willy Hernangomez\"],[0.35792019347037485,275.6666666666667,\"Josh Richardson\"],[0.30392156862745096,34.0,\"Darrun Hilliard\"],[0.2962962962962963,45.0,\"Joe Young\"],[0.3333333333333333,90.0,\"Treveon Graham\"],[0.3333333333333333,71.5,\"Larry Nance Jr.\"],[null,0.0,\"Vincent Hunter\"],[0.31932773109243695,166.6,\"Mario Hezonja\"],[0.0,0.5,\"Alan Williams\"],[0.375,32.0,\"Bryce Dejean-Jones\"],[0.3786764705882353,204.0,\"Royce O'Neale\"],[0.3471971066907776,276.5,\"Cedi Osman\"],[0.1111111111111111,4.5,\"Luis Montero\"],[0.0,2.3333333333333335,\"Cristiano Felicio\"],[0.2571428571428571,5.833333333333333,\"Boban Marjanovic\"],[0.4,5.0,\"Duje Dukan\"],[0.32608695652173914,15.333333333333334,\"Axel Toupane\"],[0.14285714285714285,7.0,\"Maurice Ndour\"],[0.2926829268292683,10.25,\"Salah Mejri\"],[0.40625,21.333333333333332,\"Malcolm Miller\"],[1.0,2.0,\"Coty Clarke\"],[null,0.0,\"JJ O'Brien\"],[0.25,40.0,\"Marcelo Huertas\"],[1.0,1.0,\"Jordan Sibert\"],[0.0,1.0,\"Jacob Pullen\"],[0.3684210526315789,28.5,\"Jonathan Gibson\"],[0.3076923076923077,117.0,\"Malcolm Delaney\"],[0.5,3.0,\"Walt Lemon Jr.\"],[null,0.0,\"Alex Stepheson\"],[0.19230769230769232,8.666666666666666,\"Briante Weber\"],[0.20833333333333334,24.0,\"Julian Washburn\"],[0.14705882352941177,8.5,\"Ben Simmons\"],[0.32275132275132273,141.75,\"Dragan Bender\"],[0.3212669683257919,88.4,\"Domantas Sabonis\"],[0.25,12.0,\"Wade Baldwin IV\"],[0.39118705035971224,222.4,\"Malik Beasley\"],[0.28867924528301886,106.0,\"Marquese Chriss\"],[0.0,0.3333333333333333,\"Deyonta Davis\"],[0.30455635491606714,83.4,\"Kris Dunn\"],[0.3356164383561644,29.2,\"Henry Ellenson\"],[0.40569020021074814,569.4,\"Buddy Hield\"],[0.36681222707423583,229.0,\"Brandon Ingram\"],[0.2857142857142857,4.666666666666667,\"Demetrius Jackson\"],[0.0,0.5,\"Brice Johnson\"],[0.21428571428571427,2.8,\"Damian Jones\"],[0.35294117647058826,21.25,\"Skal Labissiere\"],[0.3355325164938737,212.2,\"Caris LeVert\"],[0.327455919395466,79.4,\"Thon Maker\"],[0.33242506811989103,91.75,\"Dejounte Murray\"],[0.3669574700109051,366.8,\"Jamal Murray\"],[0.5,0.4,\"Jakob Poeltl\"],[0.3698630136986301,292.0,\"Taurean Prince\"],[0.10526315789473684,9.5,\"Zhou Qi\"],[null,0.0,\"Diamond Stone\"],[0.28,75.0,\"Tyler Ulis\"],[0.3573667711598746,239.25,\"Denzel Valentine\"],[null,0.0,\"Stephen Zimmerman\"],[0.26515151515151514,44.0,\"Ron Baker\"],[0.3781569965870307,293.0,\"Jaylen Brown\"],[0.26843657817109146,67.8,\"DeAndre' Bembry\"],[0.2,2.5,\"Joel Bolomboy\"],[0.3860232945091514,240.4,\"Malcolm Brogdon\"],[0.2857142857142857,1.75,\"Cheick Diallo\"],[0.2682926829268293,20.5,\"Kay Felder\"],[0.0,4.0,\"Michael Gbinije\"],[0.35714285714285715,14.0,\"Daniel Hamilton\"],[0.5,10.0,\"AJ Hammons\"],[0.30597014925373134,80.4,\"Jake Layman\"],[0.304635761589404,60.4,\"Patrick McCaw\"],[0.4043887147335423,127.6,\"Georges Niang\"],[null,0.0,\"Chinanu Onuaku\"],[0.25,8.0,\"Marcus Paige\"],[0.26744186046511625,17.2,\"Gary Payton II\"],[0.3010752688172043,31.0,\"Malachi Richardson\"],[0.3425925925925926,108.0,\"Wayne Selden\"],[0.32468879668049794,192.8,\"Pascal Siakam\"],[0.3333333333333333,9.0,\"Jarrod Uthoff\"],[0.30538922155688625,83.5,\"Isaiah Whitehead\"],[0.2986111111111111,48.0,\"Troy Williams\"],[0.3076923076923077,13.0,\"Kyle Wiltjer\"],[0.37659033078880405,196.5,\"Furkan Korkmaz\"],[0.33093525179856115,166.8,\"Timothe Luwawu-Cabarrot\"],[null,0.0,\"Ante Zizic\"],[0.0,1.0,\"Ben Bentil\"],[0.36536030341340076,158.2,\"Yogi Ferrell\"],[0.36363636363636365,140.25,\"Damion Lee\"],[0.23333333333333334,30.0,\"Sheldon Mac\"],[0.3584905660377358,17.666666666666668,\"Alex Poythress\"],[0.3333333333333333,7.5,\"Tim Quarterman\"],[0.24390243902439024,41.0,\"Isaiah Taylor\"],[0.20270270270270271,24.666666666666668,\"Tyrone Wallace\"],[0.21052631578947367,19.0,\"James Webb III\"],[0.35101404056162244,128.2,\"Juancho Hernangomez\"],[0.3230769230769231,32.5,\"Guerschon Yabusele\"],[0.1,2.0,\"Ivica Zubac\"],[0.34735899731423453,223.4,\"Dorian Finney-Smith\"],[0.38370473537604455,287.2,\"Fred VanVleet\"],[0.0,1.0,\"Georgios Papagiannis\"],[0.3349282296650718,104.5,\"Paul Zipser\"],[0.3601190476190476,84.0,\"Abdel Nader\"],[0.3684210526315789,19.0,\"Shawn Long\"],[null,0.0,\"Daniel Ochefu\"],[null,0.0,\"Marshall Plumlee\"],[0.32142857142857145,84.0,\"Mindaugas Kuzminskas\"],[0.29896907216494845,48.5,\"Nicolas Brussino\"],[0.3730684326710817,113.25,\"Ryan Arcidiacono\"],[0.4124293785310734,283.2,\"Bryn Forbes\"],[0.3404255319148936,15.666666666666666,\"Okaro White\"],[null,0.0,\"Matt Costello\"],[0.23529411764705882,17.0,\"Kyle Collinsworth\"],[null,0.0,\"Mike Tobey\"],[0.36412315930388217,149.4,\"Danuel House Jr.\"],[null,0.0,\"Jameel Warney\"],[0.0,5.0,\"Patricio Garino\"],[0.29411764705882354,8.5,\"Marcus Georges-Hunt\"],[0.37037037037037035,27.0,\"Nicolas Laprovittola\"],[0.37037037037037035,27.0,\"Jalen Jones\"],[0.29381443298969073,77.6,\"Derrick Jones Jr.\"],[0.2832369942196532,43.25,\"Shaquille Harrison\"],[0.37714285714285717,87.5,\"Alex Caruso\"],[0.23076923076923078,6.5,\"Josh Gray\"],[0.3275862068965517,58.0,\"Myke Henry\"],[0.32286995515695066,44.6,\"David Nwaba\"],[0.3246753246753247,57.75,\"Alfonzo McKinnie\"],[0.5,8.0,\"Jordan Loyd\"],[0.0,2.0,\"Mitchell Creek\"],[0.26506024096385544,41.5,\"Markelle Fultz\"],[0.3532410779315368,343.25,\"Lonzo Ball\"],[0.29831387808041504,192.75,\"Josh Jackson\"],[0.3258426966292135,222.5,\"De'Aaron Fox\"],[0.39615129396151294,376.75,\"Jayson Tatum\"],[0.33872598584428715,247.25,\"Malik Monk\"],[0.33004926108374383,135.33333333333334,\"Jonathan Isaac\"],[0.3156297420333839,164.75,\"Dennis Smith Jr.\"],[0.3282275711159737,114.25,\"Frank Ntilikina\"],[0.3662704309063893,336.5,\"Lauri Markkanen\"],[0.3624563155267099,500.75,\"Donovan Mitchell\"],[0.4133180252583238,217.75,\"Luke Kennard\"],[0.3241106719367589,84.33333333333333,\"Zach Collins\"],[0.38035714285714284,140.0,\"John Collins\"],[0.3211267605633803,177.5,\"Justin Jackson\"],[0.25,10.0,\"Justin Patton\"],[0.375,222.0,\"OG Anunoby\"],[0.25806451612903225,10.333333333333334,\"Harry Giles III\"],[0.2,21.25,\"Jarrett Allen\"],[null,0.0,\"Ike Anigbogu\"],[0.1590909090909091,11.0,\"Bam Adebayo\"],[0.3344768439108062,145.75,\"Terrance Ferguson\"],[0.3287671232876712,73.0,\"D.J. Wilson\"],[0.23529411764705882,5.666666666666667,\"Isaiah Hartenstein\"],[0.2631578947368421,28.5,\"Jawun Evans\"],[0.0,2.0,\"Anzejs Pasecniks\"],[0.2,5.0,\"Jordan Bell\"],[0.42857142857142855,1.75,\"Tony Bradley\"],[0.2,7.5,\"Ivan Rabb\"],[0.33819628647214856,377.0,\"Kyle Kuzma\"],[0.4,5.0,\"Tyler Lydon\"],[0.3486973947895792,124.75,\"Semi Ojeleye\"],[0.3566775244299674,153.5,\"Derrick White\"],[0.34773218142548595,154.33333333333334,\"Frank Jackson\"],[0.11764705882352941,5.666666666666667,\"Caleb Swanigan\"],[0.3477406679764244,254.5,\"Josh Hart\"],[0.2,3.3333333333333335,\"Johnathan Motley\"],[0.31435643564356436,101.0,\"Dwayne Bacon\"],[0.3103448275862069,58.0,\"Alec Peters\"],[0.3333333333333333,42.0,\"Edmond Sumner\"],[0.2862903225806452,62.0,\"Wes Iwundu\"],[0.30113636363636365,44.0,\"Frank Mason III\"],[0.34,50.0,\"Jonah Bolden\"],[0.33980582524271846,25.75,\"Sindarius Thornwell\"],[0.3532658693652254,271.75,\"Dillon Brooks\"],[0.3504531722054381,165.5,\"Tyler Dorsey\"],[0.2564102564102564,39.0,\"Jaron Blossomgame\"],[0.36199095022624433,55.25,\"Thomas Bryant\"],[0.3076923076923077,13.0,\"Cameron Oliver\"],[0.39325842696629215,133.5,\"Monte Morris\"],[0.0,1.0,\"Devin Robinson\"],[0.34562841530054644,183.0,\"Damyean Dotson\"],[0.28205128205128205,19.5,\"Kobi Simmons\"],[0.3735144312393888,147.25,\"Sterling Brown\"],[0.2564102564102564,19.5,\"Vlatko Cancar\"],[0.125,8.0,\"Charles Cooke\"],[0.2857142857142857,7.0,\"Nigel Williams-Goss\"],[0.30952380952380953,21.0,\"Davon Reed\"],[0.32801822323462415,109.75,\"Luke Kornet\"],[0.2222222222222222,4.5,\"Isaiah Hicks\"],[0.3492063492063492,21.0,\"Kadeem Allen\"],[0.42857142857142855,7.0,\"Jabari Bird\"],[0.35805626598465473,97.75,\"Chris Boucher\"],[null,0.0,\"Eric Mika\"],[0.5,2.0,\"Jacob Wiley\"],[0.2868217054263566,64.5,\"Mike James\"],[0.3783783783783784,129.5,\"Milos Teodosic\"],[0.35106382978723405,47.0,\"Tyler Cavanaugh\"],[0.3351206434316354,93.25,\"Daniel Theis\"],[0.36830102622576966,219.25,\"Maxi Kleber\"],[0.35664335664335667,71.5,\"Antonio Blakeney\"],[0.3306122448979592,122.5,\"Torrey Craig\"],[0.2,5.0,\"Matt Williams Jr.\"],[0.4146341463414634,20.5,\"Derrick Walton Jr.\"],[0.4,15.0,\"Gian Clavell\"],[null,0.0,\"Mangok Mathiang\"],[0.17391304347826086,23.0,\"Milton Doyle\"],[0.42857142857142855,3.5,\"Antonius Cleveland\"],[null,0.0,\"Ben Moore\"],[0.25,16.0,\"Nigel Hayes\"],[0.27586206896551724,29.0,\"Jamel Artis\"],[0.07142857142857142,14.0,\"Xavier Rathan-Mayes\"],[0.6666666666666666,3.0,\"Troy Caupain\"],[0.0,3.0,\"London Perrantes\"],[0.3673469387755102,49.0,\"Andrew White III\"],[0.20833333333333334,8.0,\"Naz Mitrou-Long\"],[0.3235294117647059,34.0,\"Isaiah Briscoe\"],[null,0.0,\"Amile Jefferson\"],[0.23076923076923078,6.5,\"Jaylen Morris\"],[0.37969924812030076,133.0,\"Mychal Mulder\"],[0.0,1.0,\"Erik McCree\"],[null,0.0,\"Amida Brimah\"],[0.25,4.0,\"Dusty Hannahs\"],[0.0,8.0,\"Billy Garrett\"],[0.25,52.0,\"Rodney Purvis\"],[0.0,1.0,\"Tahjere McCall\"],[0.4473684210526316,38.0,\"Paul Watson\"],[0.25,4.0,\"Aaron Jackson\"],[0.25,12.0,\"Rawle Alkins\"],[0.38132295719844356,171.33333333333334,\"Grayson Allen\"],[null,0.0,\"Kostas Antetokounmpo\"],[null,0.0,\"Udoka Azubuike\"],[0.3141592920353982,75.33333333333333,\"Marvin Bagley III\"],[0.3254237288135593,98.33333333333333,\"Mo Bamba\"],[0.3023255813953488,57.333333333333336,\"Keita Bates-Diop\"],[0.0,1.5,\"Brian Bowen II\"],[0.3759124087591241,274.0,\"Mikal Bridges\"],[0.35443037974683544,263.3333333333333,\"Miles Bridges\"],[0.29838709677419356,82.66666666666667,\"Bruce Brown\"],[0.330188679245283,106.0,\"Troy Brown Jr.\"],[0.37325349301397204,167.0,\"Jalen Brunson\"],[0.38095238095238093,133.0,\"Jevon Carter\"],[0.24107142857142858,37.333333333333336,\"Wendell Carter Jr.\"],[0.294478527607362,54.333333333333336,\"Hamidou Diallo\"],[0.34911242603550297,225.33333333333334,\"Donte DiVincenzo\"],[1.0,1.0,\"Trevon Duval\"],[0.3148148148148148,27.0,\"Jacob Evans\"],[0.1282051282051282,19.5,\"Bruno Fernando\"],[0.36363636363636365,11.0,\"Melvin Frazier Jr.\"],[0.3732142857142857,186.66666666666666,\"Shai Gilgeous-Alexander\"],[0.3643279797125951,394.3333333333333,\"Devonte' Graham\"],[0.23529411764705882,17.0,\"Devon Hall\"],[0.15,20.0,\"Kevin Hervey\"],[0.37169811320754714,176.66666666666666,\"Aaron Holiday\"],[0.37558247903075487,357.6666666666667,\"Kevin Huerter\"],[0.3090909090909091,36.666666666666664,\"Chandler Hutchison\"],[0.3736842105263158,190.0,\"Jaren Jackson Jr.\"],[0.3125,5.333333333333333,\"Alize Johnson\"],[null,0.0,\"George King\"],[0.3450920245398773,217.33333333333334,\"Kevin Knox II\"],[0.3148148148148148,81.0,\"Caleb Martin\"],[0.2518518518518518,67.5,\"Cody Martin\"],[0.0,1.0,\"Yante Maten\"],[0.34977578475336324,148.66666666666666,\"De'Anthony Melton\"],[0.3170731707317073,13.666666666666666,\"Chimezie Metu\"],[0.3743455497382199,127.33333333333333,\"Shake Milton\"],[0.36191860465116277,229.33333333333334,\"Svi Mykhailiuk\"],[0.0,1.0,\"Malik Newman\"],[0.27253668763102723,159.0,\"Josh Okogie\"],[0.375,8.0,\"Jontay Porter\"],[0.43856332703213613,264.5,\"Michael Porter Jr.\"],[0.30952380952380953,84.0,\"Jerome Robinson\"],[null,0.0,\"Mitchell Robinson\"],[0.3852760736196319,271.6666666666667,\"Collin Sexton\"],[0.39707317073170734,341.6666666666667,\"Landry Shamet\"],[0.3817504655493482,179.0,\"Anfernee Simons\"],[0.3157894736842105,9.5,\"Zhaire Smith\"],[0.36554621848739494,119.0,\"Omari Spellman\"],[0.3157894736842105,25.333333333333332,\"Khyri Thomas\"],[0.39275766016713093,239.33333333333334,\"Gary Trent Jr.\"],[0.3837837837837838,92.5,\"Allonzo Trier\"],[0.14285714285714285,2.3333333333333335,\"Jarred Vanderbilt\"],[0.31451612903225806,82.66666666666667,\"Moritz Wagner\"],[0.3686868686868687,132.0,\"Lonnie Walker IV\"],[0.38076923076923075,260.0,\"P.J. Washington\"],[0.34864864864864864,123.33333333333333,\"Kenrich Williams\"],[0.34346924671734624,482.3333333333333,\"Trae Young\"],[0.1891891891891892,12.333333333333334,\"Deandre Ayton\"],[0.3312538989394885,534.3333333333334,\"Luka Doncic\"],[0.20149253731343283,44.666666666666664,\"Theo Pinson\"],[0.0,2.0,\"Ray Spalding\"],[0.302158273381295,69.5,\"Carsen Edwards\"],[0.5,2.0,\"Shamorie Ponds\"],[0.23809523809523808,21.0,\"Bonzie Colson\"],[0.23140495867768596,60.5,\"Goga Bitadze\"],[0.3870967741935484,46.5,\"Oshae Brissett\"],[0.25,4.0,\"Vincent Edwards\"],[0.0,2.0,\"Donte Grantham\"],[0.37721021611001965,254.5,\"Terence Davis\"],[0.0,0.6666666666666666,\"Robert Williams III\"],[0.22727272727272727,44.0,\"Dzanan Musa\"],[0.31527093596059114,101.5,\"Elie Okobo\"],[0.3125,112.0,\"Rui Hachimura\"],[0.2608695652173913,23.0,\"Deng Adel\"],[0.308411214953271,107.0,\"Ky Bowman\"],[0.3288135593220339,98.33333333333333,\"Rodions Kurucs\"],[0.30158730158730157,42.0,\"Isaac Bonga\"],[0.5,1.0,\"Tyler Cook\"],[0.2,5.0,\"Elijah Bryant\"],[null,0.0,\"Tyler Davis\"],[0.5,20.0,\"Marcus Derrickson\"],[0.3793103448275862,29.0,\"Brandon Sampson\"],[0.3141025641025641,78.0,\"Kelan Martin\"],[0.31092436974789917,119.0,\"Gary Clark\"],[null,0.0,\"Angel Delgado\"],[0.36538461538461536,26.0,\"Wenyen Gabriel\"],[0.42857142857142855,7.0,\"Thomas Welsh\"],[0.32894736842105265,38.0,\"Jaylen Adams\"],[0.0,2.0,\"J.P. Macura\"],[0.23529411764705882,17.0,\"Jared Terrell\"],[0.225,40.0,\"Deonte Burton\"],[0.4226475279106858,418.0,\"Duncan Robinson\"],[0.46153846153846156,6.5,\"Daryl Macon\"],[0.36427566807313644,355.5,\"Kendrick Nunn\"],[0.35964912280701755,38.0,\"Yuta Watanabe\"],[0.0,2.0,\"Johnathan Williams\"],[0.0,2.0,\"Joe Chealey\"],[null,0.0,\"Emanuel Terry\"],[0.4027777777777778,72.0,\"Ryan Broekhoff\"],[0.0,4.0,\"DeVaughn Akoon-Purcell\"],[0.0,1.0,\"Zach Lofton\"],[0.36904761904761907,84.0,\"Jordan McLaughlin\"],[0.30612244897959184,65.33333333333333,\"Brandon Goodwin\"],[0.375,8.0,\"BJ Johnson\"],[0.35294117647058826,39.666666666666664,\"Chris Chiozza\"],[0.2,10.0,\"Jemerrio Jones\"],[0.29545454545454547,88.0,\"Gabe Vincent\"],[1.0,1.0,\"Drew Eubanks\"],[0.38095238095238093,31.5,\"Cameron Reynolds\"],[0.391304347826087,57.5,\"Juan Toscano-Anderson\"],[0.2,5.0,\"Haywood Highsmith\"],[0.30434782608695654,11.5,\"Alen Smailagic\"],[0.2727272727272727,11.0,\"Isaac Humphries\"],[0.29411764705882354,34.0,\"Dairis Bertans\"],[0.0,1.0,\"Zylan Cheatham\"],[0.34579439252336447,107.0,\"Chris Clemons\"],[0.38666666666666666,37.5,\"Amir Coffey\"],[0.125,8.0,\"Mamadi Diakite\"],[0.20588235294117646,34.0,\"CJ Elleby\"],[null,0.0,\"Tacko Fall\"],[0.3333333333333333,15.0,\"Robert Franks\"],[0.0,1.5,\"Jared Harper\"],[0.5,2.0,\"Dewan Hernandez\"],[0.29411764705882354,42.5,\"DaQuan Jeffries\"],[0.40540540540540543,55.5,\"Terance Mann\"],[0.19047619047619047,21.0,\"Reggie Perry\"],[0.3684210526315789,9.5,\"Justin Robinson\"],[0.3333333333333333,6.0,\"Marial Shayok\"],[0.33557046979865773,74.5,\"Max Strus\"],[0.2,10.0,\"Justin Wright-Foreman\"],[0.3939393939393939,16.5,\"Bol Bol\"],[0.3333333333333333,24.0,\"Zion Williamson\"],[0.3695652173913043,253.0,\"RJ Barrett\"],[0.30851063829787234,188.0,\"Cam Reddish\"],[0.31666666666666665,210.0,\"Ja Morant\"],[0.3483709273182957,199.5,\"De'Andre Hunter\"],[0.3566265060240964,415.0,\"Coby White\"],[0.28832116788321166,137.0,\"Jarrett Culver\"],[0.3049645390070922,70.5,\"Brandon Clarke\"],[0.2535211267605634,106.5,\"Sekou Doumbouya\"],[0.3736654804270463,281.0,\"Darius Garland\"],[0.3888888888888889,9.0,\"Jaxson Hayes\"],[0.3465909090909091,176.0,\"Nickeil Alexander-Walker\"],[0.37478991596638656,297.5,\"Tyler Herro\"],[0.35960591133004927,101.5,\"Keldon Johnson\"],[0.2222222222222222,22.5,\"Romeo Langford\"],[0.302158273381295,69.5,\"Nassir Little\"],[0.3475177304964539,141.0,\"Chuma Okeke\"],[0.23529411764705882,25.5,\"KZ Okpala\"],[0.322884012539185,159.5,\"Kevin Porter Jr.\"],[0.3091334894613583,213.5,\"Darius Bazley\"],[0.2857142857142857,21.0,\"Jordan Bone\"],[0.32432432432432434,18.5,\"Ignas Brazdeikis\"],[null,0.0,\"Moses Brown\"],[0.16666666666666666,6.0,\"Nic Claxton\"],[0.3325581395348837,215.0,\"Luguentz Dort\"],[0.14285714285714285,7.0,\"Devon Dotson\"],[null,0.0,\"Daniel Gafford\"],[0.2653061224489796,24.5,\"Kyle Guy\"],[0.0,7.0,\"Jaylen Hoard\"],[0.2847222222222222,72.0,\"Talen Horton-Tucker\"],[0.38990825688073394,109.0,\"Ty Jerome\"],[0.3673805601317957,303.5,\"Cameron Johnson\"],[0.3142857142857143,35.0,\"Mfiondu Kabengele\"],[0.36363636363636365,11.0,\"Louis King\"],[0.0,2.5,\"Jalen Lecque\"],[0.34108527131782945,64.5,\"Jalen McDaniels\"],[0.375,8.0,\"Zach Norvell Jr.\"],[0.30113636363636365,88.0,\"Jaylen Nowell\"],[0.45161290322580644,62.0,\"Jordan Nwora\"],[0.34579439252336447,53.5,\"Miye Oni\"],[0.3005464480874317,91.5,\"Eric Paschall\"],[0.31608133086876156,270.5,\"Jordan Poole\"],[0.34317343173431736,135.5,\"Naz Reid\"],[0.29357798165137616,54.5,\"Isaiah Roby\"],[0.29411764705882354,25.5,\"Luka Samanic\"],[0.3114754098360656,61.0,\"Admiral Schofield\"],[0.33,150.0,\"Matisse Thybulle\"],[0.30303030303030304,33.0,\"Killian Tillie\"],[0.3064516129032258,31.0,\"Tremont Waters\"],[0.18181818181818182,5.5,\"Quinndary Weatherspoon\"],[0.32,112.5,\"Grant Williams\"],[0.33766233766233766,77.0,\"Dylan Windler\"],[0.35714285714285715,28.0,\"Deividas Sirvydis\"],[0.28,12.5,\"Adam Mokoka\"],[0.25,8.0,\"Didi Louzada\"],[0.34328358208955223,33.5,\"Justin James\"],[0.36585365853658536,20.5,\"Jarrell Brantley\"],[null,0.0,\"Marques Bolden\"],[0.3821656050955414,157.0,\"Armoni Brooks\"],[null,0.0,\"Devontae Cacok\"],[0.3939393939393939,33.0,\"John Konchar\"],[0.14285714285714285,7.0,\"Vic Law\"],[0.26666666666666666,15.0,\"Jeremiah Martin\"],[0.38934426229508196,122.0,\"Garrison Mathews\"],[0.0,2.0,\"Josh Reaves\"],[0.20833333333333334,12.0,\"Rayjon Tucker\"],[0.3686635944700461,108.5,\"Dean Wade\"],[null,0.0,\"Kyle Alexander\"],[0.25,2.0,\"Chris Silva\"],[0.3333333333333333,1.5,\"Vincent Poirier\"],[0.0,4.0,\"William Howard\"],[0.3161512027491409,145.5,\"Nicolo Melli\"],[0.30120481927710846,83.0,\"Marko Guduric\"],[0.0,1.0,\"Stanton Kidd\"],[null,0.0,\"Donta Hall\"],[0.4134078212290503,89.5,\"Matt Thomas\"],[0.0,2.0,\"Tariq Owens\"],[0.30158730158730157,31.5,\"Javonte Green\"],[0.3076923076923077,26.0,\"Dakota Mathias\"],[0.3333333333333333,10.5,\"Juwan Morgan\"],[0.0,2.0,\"Matt Mooney\"],[0.25,8.0,\"Keljin Blevins\"],[0.375,16.0,\"Devin Cannady\"],[0.32884615384615384,520.0,\"Anthony Edwards\"],[0.3524904214559387,261.0,\"LaMelo Ball\"],[0.3157894736842105,38.0,\"James Wiseman\"],[0.2777777777777778,72.0,\"Killian Hayes\"],[0.31547619047619047,168.0,\"Deni Avdija\"],[0.3058823529411765,85.0,\"Obi Toppin\"],[0.0,3.0,\"Onyeka Okongwu\"],[0.40878378378378377,296.0,\"Tyrese Haliburton\"],[0.3466666666666667,150.0,\"Devin Vassell\"],[0.2897196261682243,214.0,\"Isaac Okoro\"],[0.391304347826087,138.0,\"Patrick Williams\"],[0.0,1.0,\"Precious Achiuwa\"],[0.37037037037037035,108.0,\"Aaron Nesmith\"],[0.3372093023255814,172.0,\"Cole Anthony\"],[0.14285714285714285,7.0,\"Vernon Carey Jr.\"],[0.3354632587859425,313.0,\"Theo Maledon\"],[0.30097087378640774,103.0,\"Tyrese Maxey\"],[0.0,7.0,\"Tyrell Terry\"],[0.3804347826086957,460.0,\"Saddiq Bey\"],[0.3103448275862069,87.0,\"R.J. Hampton\"],[0.16,25.0,\"Josh Green\"],[0.36363636363636365,198.0,\"Jaden McDaniels\"],[0.3333333333333333,120.0,\"Kira Lewis Jr.\"],[0.36666666666666664,60.0,\"Nico Mannion\"],[0.2631578947368421,19.0,\"Jahmi'us Ramsey\"],[0.2,5.0,\"Daniel Oturu\"],[0.23529411764705882,17.0,\"Jalen Smith\"],[0.25,4.0,\"Tyler Bey\"],[0.34782608695652173,23.0,\"Elijah Hughes\"],[0.3333333333333333,63.0,\"Isaiah Stewart\"],[0.4067796610169492,59.0,\"Zeke Nnaji\"],[0.38943894389438943,303.0,\"Immanuel Quickley\"],[0.0,6.0,\"Paul Reed\"],[0.28019323671497587,207.0,\"Aleksej Pokusevski\"],[0.36792452830188677,106.0,\"Isaiah Joe\"],[0.23076923076923078,13.0,\"Cassius Stanley\"],[0.6,5.0,\"Tre Jones\"],[0.32142857142857145,168.0,\"Malachi Flynn\"],[0.4112903225806452,248.0,\"Payton Pritchard\"],[0.5,4.0,\"Grant Riller\"],[null,0.0,\"Ashton Hagans\"],[0.16,25.0,\"Lamar Stevens\"],[0.2222222222222222,9.0,\"Jay Scrubb\"],[0.21052631578947367,19.0,\"Nate Hinton\"],[0.0,1.0,\"Nick Richards\"],[0.27692307692307694,65.0,\"Markus Howard\"],[0.5,2.0,\"Karim Mane\"],[0.47058823529411764,17.0,\"Cassius Winston\"],[0.4317343173431734,271.0,\"Desmond Bane\"],[0.16666666666666666,6.0,\"Robert Woodard II\"],[0.35,40.0,\"Skylar Mays\"],[0.10810810810810811,37.0,\"Josh Hall\"],[0.36363636363636365,66.0,\"Mason Jones\"],[0.4722222222222222,36.0,\"Jalen Harris\"],[0.3493975903614458,83.0,\"Naji Marshall\"],[0.3645833333333333,96.0,\"Kenyon Martin Jr.\"],[0.18181818181818182,33.0,\"Nathan Knight\"],[0.2222222222222222,9.0,\"Ty-Shon Alexander\"],[0.19230769230769232,26.0,\"Trent Forrest\"],[0.323943661971831,71.0,\"Anthony Lamb\"],[0.5,2.0,\"Malik Fitts\"],[0.34782608695652173,23.0,\"Saben Lee\"],[0.44680851063829785,47.0,\"Sam Merrill\"],[0.22727272727272727,22.0,\"Sean McDermott\"],[0.3076923076923077,195.0,\"Jae'Sean Tate\"],[0.2916666666666667,24.0,\"Anthony Gill\"],[0.0,1.0,\"Will Magnay\"],[0.35185185185185186,216.0,\"Facundo Campazzo\"],[0.2857142857142857,7.0,\"Nate Darling\"],[0.2711864406779661,59.0,\"Brodric Thomas\"],[null,0.0,\"Freddie Gillespie\"],[0.13333333333333333,15.0,\"Gabriel Deck\"]],\"hovertemplate\":\"x=%{x}<br>y=%{y}<br>fg3a=%{customdata[1]}<br>fg3m_pct=%{marker.color}<br>names=%{customdata[2]}<extra></extra>\",\"legendgroup\":\"\",\"marker\":{\"color\":[0.3882978723404255,0.25,0.0,0.4,null,0.4057112068965517,0.336322869955157,0.3751160631383473,0.14285714285714285,0.2,0.0,0.2777777777777778,0.1,null,0.0,0.0,0.36666666666666664,0.2647058823529412,0.2857142857142857,0.14814814814814814,0.3623693379790941,0.3528550512445095,null,null,0.3539518900343643,0.0,0.37442396313364057,0.125,0.2,0.32178387650085766,0.35355029585798814,0.25,0.0,0.3909378292939937,0.22388059701492538,0.0,0.42416107382550333,0.2774869109947644,0.3581395348837209,0.0,0.3046683046683047,0.2621951219512195,null,0.15789473684210525,0.35294117647058826,0.3333333333333333,0.3416867469879518,0.37813211845102507,null,null,0.35933333333333334,0.43492063492063493,0.0,0.3876651982378855,0.34130434782608693,0.31868131868131866,0.367003367003367,null,0.3474277660324172,0.40142729705619984,0.33376877857609405,0.3085250338294993,0.33766233766233766,0.3333333333333333,0.37135135135135133,0.1111111111111111,null,0.2947976878612717,0.24102564102564103,0.32786885245901637,0.0,0.3616532721010333,0.4104803493449782,0.0,0.3174451858913251,null,0.0,0.3564954682779456,0.37604245640636846,0.3593429158110883,0.3606382978723404,0.0,0.0,0.3544857768052516,0.3333333333333333,0.33810888252148996,0.24324324324324326,0.30467289719626167,0.33578792341678937,0.4,0.3563636363636364,null,null,0.37155963302752293,0.18181818181818182,0.34615384615384615,0.40875912408759124,0.43703703703703706,0.33816425120772947,0.25,0.3827993254637437,0.30289855072463767,0.5714285714285714,0.6666666666666666,0.37962037962037964,0.2,0.6,0.36009732360097324,0.35789473684210527,0.4045977011494253,0.2647058823529412,0.0,0.3230769230769231,0.3644067796610169,0.4214417744916821,0.33116883116883117,0.4148550724637681,0.3561643835616438,null,null,0.05,0.32106038291605304,0.33739837398373984,0.14285714285714285,0.2222222222222222,0.3734349482852477,0.0,0.1111111111111111,0.36363636363636365,0.33766233766233766,0.0,0.34994582881906827,0.38686131386861317,null,0.3516597510373444,0.37445414847161573,0.0,0.4005819592628516,0.317351598173516,0.3652694610778443,0.2465753424657534,0.32608695652173914,0.14285714285714285,0.0,0.297029702970297,0.043478260869565216,0.35807860262008734,0.36,0.3987012987012987,0.0625,null,null,0.15789473684210525,0.3584033613445378,null,0.0,0.34782608695652173,null,0.0,0.0,0.34832134292565947,0.1,0.34365325077399383,0.3284006829823563,0.3948087431693989,null,null,0.2835820895522388,0.5,0.33530571992110453,0.3333333333333333,0.25,0.3851727982162765,0.0,0.20202020202020202,0.48214285714285715,0.42105263157894735,0.24858757062146894,0.17647058823529413,0.4019253910950662,0.4015957446808511,0.3364485981308411,0.35089209855564996,null,0.3333333333333333,0.2692307692307692,0.2857142857142857,0.3176605504587156,0.29850746268656714,0.358974358974359,0.28708133971291866,0.3604004449388209,0.2900763358778626,0.5,0.3677811550151976,0.3952569169960474,0.34604651162790695,0.0,0.28421052631578947,0.3047619047619048,0.34851138353765326,0.2810344827586207,0.24553571428571427,0.34509803921568627,0.3331314354936402,0.3601694915254237,0.22142857142857142,0.39287782281412853,0.14285714285714285,0.041666666666666664,0.75,0.0,0.0,0.2857142857142857,0.2753623188405797,0.43478260869565216,0.0,0.14473684210526316,0.26595744680851063,0.0,0.28634361233480177,0.3230769230769231,0.378839590443686,0.0,0.1875,0.30337078651685395,0.06666666666666667,null,0.0,0.3763250883392226,null,0.42160919540229885,0.34269005847953216,0.10714285714285714,0.20192307692307693,0.32954545454545453,0.0,0.35854545454545456,0.2702702702702703,0.25,0.3536053882725832,0.40088430361090643,0.36056718433490886,0.32432432432432434,0.125,0.39869989165763814,0.21739130434782608,0.0,null,0.3185840707964602,0.25,0.0,0.07692307692307693,0.3684210526315789,0.32326530612244897,0.4166666666666667,0.08333333333333333,0.125,0.28095238095238095,0.0,0.0,0.2727272727272727,0.0,0.20408163265306123,0.3767313019390582,0.4030612244897959,0.3453815261044177,0.39701173959445035,0.3484848484848485,0.4043229497774952,null,0.5,0.3852739726027397,0.3,0.3374233128834356,0.3225806451612903,0.2376237623762376,0.27483443708609273,0.2571428571428571,0.0,0.3075601374570447,0.5,0.34498834498834496,0.3770979967514889,null,0.32142857142857145,0.31189710610932475,0.0975609756097561,0.2631578947368421,0.20689655172413793,0.14634146341463414,0.34991708126036486,0.0,0.20784313725490197,null,0.3333333333333333,0.1,1.0,0.0,0.2887323943661972,0.08333333333333333,null,0.3366179275270184,0.15217391304347827,0.3739793140990746,0.35273425007994885,0.21212121212121213,0.19047619047619047,0.10344827586206896,0.2,0.125,0.386119257086999,0.358974358974359,0.0,0.31952662721893493,null,null,0.3508771929824561,0.4093919325707405,0.0,0.3814713896457766,0.35,0.3393939393939394,0.30448717948717946,0.2529411764705882,0.13157894736842105,0.25396825396825395,0.0,0.3145009416195857,0.42592592592592593,0.3307543520309478,0.3546581367453019,0.3150684931506849,0.3744292237442922,null,0.0,0.24054982817869416,0.4280104712041885,0.0,0.3333333333333333,0.32398753894080995,0.16666666666666666,0.4,0.31993299832495814,0.0,0.3490269930947897,0.13636363636363635,0.0,0.1111111111111111,0.047619047619047616,0.08333333333333333,0.35921463632307005,0.3844444444444444,0.0,null,0.2558139534883721,0.32098765432098764,0.0,0.30793650793650795,0.37485714285714283,0.3327217125382263,0.0,null,null,null,0.31303576707064734,0.20454545454545456,0.29672447013487474,0.32513123359580054,0.4001884506663077,0.325046904315197,0.06896551724137931,0.37758433079434167,0.1111111111111111,0.125,0.0,0.16666666666666666,0.42777354658542777,0.3430232558139535,0.3,0.34597875569044007,0.2608695652173913,0.5,0.3735408560311284,0.038461538461538464,0.3425925925925926,0.0,0.25862068965517243,0.0,0.16666666666666666,0.32831001076426264,0.3294266137756942,0.4007285974499089,0.14736842105263157,0.3069306930693069,0.5,0.3225806451612903,0.2857142857142857,0.0,0.3333333333333333,0.35051546391752575,null,0.17721518987341772,0.3333333333333333,0.4,0.3741935483870968,0.17857142857142858,null,0.31584362139917693,0.32786885245901637,0.38095238095238093,0.396873120865905,0.0,0.35214446952595935,0.3333333333333333,0.25,0.25,null,0.0,null,0.4166666666666667,0.0,0.0,0.2891566265060241,null,0.0,null,0.7142857142857143,null,0.30985915492957744,null,0.3509991311902693,1.0,null,0.0,0.3718546132339236,null,0.2,0.424390243902439,0.0,0.19047619047619047,0.3641325536062378,null,0.0,1.0,0.0,0.18867924528301888,0.0,0.2222222222222222,0.13725490196078433,0.3594080338266385,null,0.3333333333333333,0.16666666666666666,0.29069767441860467,0.24324324324324326,0.32432432432432434,null,0.0,null,0.6,0.1836734693877551,0.0,0.6666666666666666,0.3050847457627119,null,0.2,0.2911392405063291,0.35294117647058826,0.06666666666666667,0.3333333333333333,null,null,null,0.11764705882352941,0.6666666666666666,null,0.3928914505283381,0.16666666666666666,null,0.23333333333333334,0.17857142857142858,0.3607250755287009,0.3873015873015873,0.31109185441941073,0.16216216216216217,0.25,0.36872364890762743,0.0,0.33802376485303315,0.16666666666666666,0.23684210526315788,0.3399366085578447,0.34108937070333156,0.15151515151515152,0.07692307692307693,0.13445378151260504,0.39436619718309857,0.13793103448275862,0.0,null,0.4043419267299864,0.3409090909090909,0.35387776065742166,0.2,0.0,0.288,0.35185185185185186,0.09090909090909091,0.0,0.0,0.42857142857142855,0.16666666666666666,null,0.45,0.22580645161290322,0.3617021276595745,0.3558413719185423,null,0.332713260696253,0.13953488372093023,0.0,0.34615384615384615,0.3132530120481928,0.3402061855670103,0.3465346534653465,0.38961038961038963,0.3592233009708738,0.0,0.2777777777777778,null,0.3103448275862069,null,null,0.0,null,0.3333333333333333,0.0,0.0,0.3,1.0,null,0.36231884057971014,0.0,0.3176470588235294,0.3390847711927982,0.6666666666666666,0.19047619047619047,0.15384615384615385,0.4,0.375,0.0,null,null,0.3870967741935484,null,0.37934483620905224,0.3634980988593156,0.34561664190193164,0.3712710765239948,0.16666666666666666,0.32716701902748413,0.3089622641509434,0.38042226487523995,0.36846629986244844,0.32650073206442165,0.125,0.05263157894736842,0.401673640167364,0.3333333333333333,0.3712871287128713,0.07692307692307693,0.0,0.39760554505356016,0.1111111111111111,0.36121437422552666,0.3333333333333333,0.39148936170212767,0.32653061224489793,0.3516918646508279,0.36,0.13333333333333333,0.2893401015228426,0.0,0.27586206896551724,0.17857142857142858,0.38637837837837835,null,0.3657142857142857,0.20833333333333334,0.0,null,null,0.3538188277087034,0.25,0.37844436693407746,0.0,0.0,0.2,0.2,0.0,1.0,0.0,0.16666666666666666,0.19047619047619047,0.33379888268156427,0.2,0.20588235294117646,0.4,null,0.375,0.38980944490472247,null,0.3295081967213115,0.0,null,null,null,0.2,0.2608695652173913,0.3162251655629139,0.2857142857142857,0.3125,0.0,0.2857142857142857,0.25,0.3333333333333333,null,0.0,0.34782608695652173,0.3333333333333333,null,0.3240223463687151,0.3,0.14285714285714285,0.09090909090909091,0.3414489311163896,0.32026929550372685,0.3123236124176858,0.3400673400673401,0.4060564349621473,0.3464052287581699,0.21734234234234234,0.3309623430962343,0.37970049916805326,0.39631336405529954,null,0.32354996505939904,0.25477707006369427,0.339212228101117,0.18181818181818182,0.3488372093023256,0.3333333333333333,0.3169164882226981,0.12962962962962962,0.24380165289256198,0.34269662921348315,0.309704641350211,0.3333333333333333,0.3205882352941177,0.34893267651888343,0.37267080745341613,null,0.2222222222222222,0.0,0.32786885245901637,null,0.2222222222222222,0.38461538461538464,0.0,0.23595505617977527,null,0.36768447837150126,0.1875,0.1111111111111111,0.0,null,null,0.29959514170040485,null,0.3686806411837238,null,null,0.25,null,0.40560033941450996,0.0,0.0,0.3413654618473896,0.23529411764705882,0.0,null,0.16666666666666666,0.15789473684210525,null,0.29591836734693877,0.23404255319148937,0.07407407407407407,0.16793893129770993,0.19090909090909092,0.40664961636828645,0.3361963190184049,0.23076923076923078,0.3481736949365104,0.0,0.34925606891151134,0.0,null,0.33884297520661155,0.26666666666666666,0.35,0.3838570548367221,0.25984251968503935,0.35492700729927007,0.0,0.1926605504587156,0.37342709104367133,0.1,0.3401360544217687,0.0,0.0,0.0,0.16666666666666666,0.26666666666666666,0.0625,0.3107344632768362,0.34404761904761905,0.2894736842105263,0.37823834196891193,0.3333333333333333,0.3333333333333333,0.16666666666666666,null,0.38979007633587787,0.25,0.0625,null,0.3798618684114867,0.3721286370597244,0.125,0.31527093596059114,0.3333333333333333,0.4166666666666667,null,null,0.0,null,null,0.15384615384615385,0.16666666666666666,0.0,0.3197969543147208,0.0,null,0.1875,0.0,0.39568345323741005,0.3562091503267974,0.0,0.2,0.1111111111111111,0.0,0.3683127572016461,1.0,0.37025097858623074,0.38414259373079285,0.3151595744680851,0.16666666666666666,0.3137931034482759,0.3710373288313637,0.27380952380952384,0.3782625633034671,0.37630913687251716,0.3884664131812421,0.0,0.0,0.14285714285714285,0.20588235294117646,0.2729766803840878,0.0,0.0,0.29545454545454547,0.3333333333333333,0.34615384615384615,0.3123561013046815,0.08333333333333333,0.2993966817496229,0.3237679351216469,0.29838709677419356,null,0.3789299503585218,0.363481228668942,null,0.30434782608695654,0.3177257525083612,0.3506662333441664,0.0,0.19642857142857142,0.3441682600382409,0.46153846153846156,0.2857142857142857,0.37484276729559746,0.3236621534493875,0.25,0.3958115183246073,0.0,0.14285714285714285,null,null,0.0,0.21818181818181817,null,0.36108821104699096,0.33827160493827163,0.0,0.38461538461538464,0.0,0.0,0.31654676258992803,0.15789473684210525,0.35294117647058826,0.22058823529411764,0.32075471698113206,null,0.5,0.3333333333333333,0.2,0.3217821782178218,0.376878612716763,0.2573099415204678,0.23497267759562843,0.3205574912891986,0.1320754716981132,0.0,0.23622047244094488,0.34794776119402987,0.2525597269624573,0.0,0.35,0.3534218590398366,0.3748558246828143,0.3430232558139535,0.3405349794238683,0.0,0.0,0.3577639751552795,0.35714285714285715,0.35185185185185186,0.3670967741935484,0.14285714285714285,0.3,0.36555891238670696,0.3645833333333333,0.34095238095238095,null,0.38347320852162686,0.2692307692307692,0.0,0.07142857142857142,0.3465346534653465,0.0,0.3611111111111111,0.0,0.303985171455051,0.2,0.33503923575571476,0.0,null,0.15789473684210525,0.3615079365079365,0.2653061224489796,0.33948339483394835,null,null,0.3333333333333333,0.15384615384615385,0.273972602739726,null,0.35587188612099646,null,0.36363636363636365,0.25,0.3448687350835322,0.2222222222222222,0.33783783783783783,null,0.35714285714285715,0.35580524344569286,0.09090909090909091,0.2,0.34489369118159635,0.0,0.35344057193923145,0.33516483516483514,0.2929562433297759,0.041666666666666664,0.37540038436899426,0.28929384965831434,0.0,0.35603996366939145,0.3554973821989529,0.2079207920792079,0.32722513089005234,0.34886499402628435,0.2692307692307692,0.0,0.2727272727272727,0.2651162790697674,0.34606741573033706,0.3292307692307692,0.3361641896673744,0.2890625,0.33692458374143,0.3819241982507289,0.36530172413793105,0.0,0.0,0.3865414710485133,0.3323615160349854,0.25,0.4335863377609108,0.32616487455197135,0.3,0.3827980804724991,null,null,0.34605087014725566,0.0,0.35346534653465345,0.41445657826313054,0.37841577308889657,null,0.40061951471347446,0.42869641294838146,0.0,null,null,0.375,0.23462414578587698,0.08620689655172414,0.3181818181818182,0.25,null,0.0625,0.38461538461538464,1.0,null,0.32857142857142857,0.3047619047619048,null,0.38392857142857145,0.2777777777777778,0.6666666666666666,null,0.2822966507177033,0.35,0.34615384615384615,0.375,0.1590909090909091,0.0,0.4008901061280383,0.1780821917808219,0.32525410476935107,0.3289036544850498,0.33198789101917253,0.25,0.3327073552425665,0.3595505617977528,0.0,null,0.31862312444836716,0.2925531914893617,0.12121212121212122,0.3274021352313167,0.28517110266159695,0.3727307840865199,0.3648728562980485,0.3679004467134652,null,0.2916666666666667,0.2647058823529412,0.3715415019762846,0.28153153153153154,0.3843044796227686,0.3673328738800827,0.348575712143928,null,0.023255813953488372,0.0,null,0.24489795918367346,0.3076923076923077,0.0,0.23529411764705882,0.36080178173719374,0.3629753914988814,0.0,0.3518312985571587,0.16129032258064516,null,null,0.1724137931034483,0.2236842105263158,0.5,0.0,0.0,0.5,0.37293519695044475,0.2692307692307692,0.0,null,0.25,null,null,0.5,0.25,0.16666666666666666,0.2463768115942029,0.3269537480063796,null,0.24242424242424243,0.30392156862745096,null,0.0,0.12,0.3614374568071873,0.3713640922768305,0.32883043014575186,0.382196419932269,0.3407900999524036,0.3876570583887657,0.5,0.3574029126213592,0.1111111111111111,0.25,0.23076923076923078,0.3682219419924338,0.30392156862745096,0.3,0.3804841149773071,0.3605697151424288,0.19090909090909092,null,0.3596452328159645,0.3427307904919845,0.35709895513214507,0.38812392426850256,0.15384615384615385,0.0,0.33535528596187175,0.16,null,0.034482758620689655,0.36622807017543857,0.29508196721311475,0.20689655172413793,0.3584743332377402,0.3665421336654213,0.0,0.35268817204301073,0.3248407643312102,0.31375053214133675,0.1891891891891892,null,null,null,0.35113748763600394,0.32432432432432434,0.3161764705882353,0.2374429223744292,0.3493723849372385,null,0.21153846153846154,0.3076923076923077,0.0,0.33229813664596275,0.15,0.32,0.5,0.0,0.25,0.30198019801980197,0.3551912568306011,0.40707964601769914,0.20588235294117646,0.16666666666666666,null,0.23809523809523808,0.34371754932502596,0.14285714285714285,0.2916666666666667,null,0.3561643835616438,null,0.27184466019417475,0.0,0.18518518518518517,0.0,0.3081395348837209,0.0,null,0.3125,0.0,0.3333333333333333,null,0.3333333333333333,0.0,0.4085603112840467,0.0,0.0,null,0.3438818565400844,0.375,0.32899628252788105,0.35403726708074534,0.3207831325301205,0.33066666666666666,0.23529411764705882,0.2222222222222222,0.3481081081081081,0.3659264169705005,0.3498062015503876,0.0,null,0.4145408163265306,0.2857142857142857,0.34945504087193463,0.2535211267605634,null,0.338409475465313,0.33866995073891626,0.2903225806451613,0.3119266055045872,0.171875,0.32253086419753085,0.32142857142857145,null,0.36782766257298166,0.33212996389891697,0.37395766516998075,0.33666666666666667,0.25,0.2992125984251969,0.0,0.34,0.4300673148840688,0.1111111111111111,0.0,0.35911330049261087,0.037037037037037035,0.3064516129032258,null,0.32075471698113206,null,0.4073291050035236,0.42105263157894735,null,0.25,0.3432066967160335,0.0,0.0,0.0,0.0,0.0,0.375,0.2,0.3770491803278688,0.41379310344827586,0.0,0.323943661971831,0.3444976076555024,0.2,0.0,0.3012345679012346,0.0,0.21739130434782608,0.35150214592274676,0.3333333333333333,0.0,0.38127090301003347,null,0.5,0.0,null,0.15384615384615385,null,null,0.5,0.38461538461538464,null,0.3076923076923077,null,null,0.38390164694966367,0.3644008409250175,0.3787661406025825,0.34022988505747126,0.3333333333333333,0.2835400225479143,0.0,0.0,0.34990253411306044,0.23478260869565218,0.33111702127659576,0.26229508196721313,0.2932330827067669,0.2996742671009772,0.375904486251809,0.0,0.3764705882352941,0.23076923076923078,0.3333333333333333,0.3587662337662338,0.3929684023141967,0.34140625,0.36006974716652135,0.2916666666666667,0.369702434625789,0.38639455782312926,0.14285714285714285,0.29411764705882354,0.3,0.2833333333333333,null,0.0,0.18181818181818182,null,0.3402777777777778,0.0,0.0,null,0.0,null,0.1875,0.36006683375104426,0.0,null,0.18181818181818182,0.2,0.3161094224924012,0.24,null,0.09090909090909091,0.25,null,0.37292161520190026,0.3728448275862069,0.3333333333333333,null,0.2,0.2,0.15789473684210525,0.4166666666666667,null,0.26666666666666666,0.2978723404255319,0.325,0.34850299401197604,0.3734149540883253,0.31077844311377245,0.3053720195346165,0.37015615962984383,0.38219895287958117,0.3677170709589662,0.3404255319148936,0.3794089609151573,0.3401397098334229,0.36107091172214184,0.14285714285714285,0.4015384615384615,0.24096385542168675,0.29310344827586204,0.3563748079877112,0.25,0.17543859649122806,0.0,0.2857142857142857,0.3795474076195932,0.38778220451527223,0.0,0.3586683417085427,0.3601380042462845,0.384257464133385,0.35152838427947597,0.3044280442804428,0.3333333333333333,0.0,null,0.0,0.0,0.35067347886669764,0.08333333333333333,0.0,0.3344103392568659,0.35294117647058826,0.2833333333333333,0.32941176470588235,0.0,0.4,0.0,0.36394214598049107,0.36893203883495146,0.16666666666666666,0.23529411764705882,null,0.25,null,0.4166236448115643,0.31683168316831684,null,null,0.0,0.39473684210526316,0.0,0.16666666666666666,0.5,0.0,0.3404255319148936,null,0.3720136518771331,0.0,0.33403361344537813,null,0.3634066587395957,0.32299741602067183,0.3251605370694688,0.33810888252148996,0.43302752293577984,0.13636363636363635,0.28081123244929795,0.34516616314199394,0.31693989071038253,0.32677165354330706,0.13636363636363635,0.328,0.3514018691588785,0.30445969125214406,0.3580545015522594,0.35860500379075055,0.3599389933909507,0.3501577287066246,0.3944099378881988,0.368185212845407,0.31896551724137934,0.3249370277078086,0.21804511278195488,0.3578031538879826,0.38191632928475033,0.3535031847133758,0.2765957446808511,0.29310344827586204,0.4,0.2835820895522388,0.3450479233226837,0.3670886075949367,0.28,0.0,0.0,0.36330608537693004,0.3170731707317073,0.37295476419634266,0.3819479857215706,0.3583617747440273,0.35238907849829354,0.28846153846153844,0.40087984602694526,0.0,0.3159420289855073,0.362962962962963,0.3875476493011436,0.27722772277227725,0.34611171960569553,0.32142857142857145,0.5,null,null,0.4444444444444444,0.37883435582822084,0.32517482517482516,0.2903225806451613,0.3651376146788991,0.16666666666666666,null,0.3013698630136986,null,0.3,0.1702127659574468,0.32322175732217573,0.29443838604143946,0.20454545454545456,0.3368074602303895,0.33361921097770153,0.0,0.058823529411764705,0.3323133414932681,0.3696682464454976,0.38382737576285963,null,0.3253968253968254,0.0,0.36863662960795784,0.0,0.4024514811031665,0.0,0.33711167086481947,0.3625758282781148,0.32078559738134205,0.21428571428571427,0.3103448275862069,0.3048780487804878,0.0,0.09523809523809523,0.35581787521079256,0.3170028818443804,0.34915254237288135,0.0,0.2692307692307692,0.0,null,0.3076923076923077,0.4,0.3870967741935484,0.0,0.25,0.33240997229916897,0.3148316651501365,null,0.2222222222222222,null,null,null,0.2413793103448276,0.0,0.3333333333333333,0.23076923076923078,null,null,null,0.3333333333333333,0.310126582278481,0.1896551724137931,0.38237738985868663,0.341964965727342,0.2,0.0,0.32167832167832167,0.0,0.125,0.27884615384615385,null,0.35333333333333333,null,0.14285714285714285,0.3810623556581986,0.16666666666666666,0.2,null,0.23076923076923078,0.3913177339901478,0.29952267303102625,0.2857142857142857,0.2571428571428571,0.35766423357664234,0.0,0.0,0.3533797216699801,0.36013590033975085,0.371868978805395,0.4191142191142191,0.37279411764705883,0.3407917383820998,0.3785063752276867,0.38427365615282094,0.35731225296442687,0.3372413793103448,0.31868131868131866,0.367047308319739,0.2995049504950495,0.2602739726027397,0.2222222222222222,0.35864485981308414,0.3491282968261064,0.3449367088607595,0.3567708333333333,null,0.323943661971831,0.3330049261083744,0.32735148514851486,0.3931240657698057,0.27586206896551724,0.3619854721549637,0.3296943231441048,0.2,null,0.3076923076923077,0.3725596529284165,0.0,0.32808398950131235,0.3219178082191781,0.40709561034275404,0.29411764705882354,0.18181818181818182,0.3473684210526316,0.34523809523809523,null,null,0.14285714285714285,0.13333333333333333,null,0.3524590163934426,0.388268156424581,0.36305048335123524,0.2,0.3698630136986301,0.2,0.5,0.36363636363636365,0.0,0.0,null,0.125,0.3125,0.31932773109243695,0.09090909090909091,0.3053097345132743,0.0,0.0,0.5,0.31208053691275167,0.27184466019417475,0.3765449052458116,0.3463855421686747,0.0,0.37509144111192394,0.36718502062837194,0.13513513513513514,0.37653239929947463,0.34994753410283314,0.3902147971360382,0.3444794952681388,0.3699421965317919,0.25,0.3209990749306198,null,0.2857142857142857,0.2971246006389776,0.3210332103321033,0.3793352601156069,0.2722007722007722,null,0.3667711598746082,0.3064516129032258,0.23140495867768596,null,null,0.2926829268292683,0.2222222222222222,null,0.36628849270664504,0.0,0.3460101867572156,0.31569965870307165,0.31125827814569534,0.34990439770554493,0.2920353982300885,0.3950524737631184,0.3515215110178384,0.36,0.3937007874015748,0.3619047619047619,0.28,0.3090909090909091,0.3830734966592428,0.2,0.2971014492753623,0.21830985915492956,0.0,0.0,0.125,0.0,0.34285714285714286,0.0,null,0.38575982996811903,null,0.37054794520547946,0.36492890995260663,0.3794392523364486,0.30623818525519847,0.356186395286556,0.22580645161290322,null,0.3557377049180328,0.17391304347826086,null,0.5,0.2608695652173913,0.0,0.3333333333333333,0.30678466076696165,0.35135135135135137,0.2571428571428571,0.364379827351204,null,0.37967914438502676,0.3225806451612903,0.17647058823529413,0.4166666666666667,null,0.25,0.30833333333333335,0.2,0.33226837060702874,0.3865914786967419,0.2528216704288939,0.2608695652173913,0.2356020942408377,0.3630379746835443,0.2777777777777778,0.4,0.39758632249413345,0.22695035460992907,0.3366914103923648,0.33121019108280253,null,0.28846153846153844,0.3569682151589242,0.3512476007677543,0.46153846153846156,0.5,0.14285714285714285,0.3668076109936575,0.35534256301029465,0.16981132075471697,0.05128205128205128,0.2552594670406732,0.36796536796536794,0.2608695652173913,0.4019073569482289,0.28,0.33490566037735847,0.39215686274509803,0.37142857142857144,0.3585415259959487,0.0,0.31865284974093266,0.33620689655172414,0.07692307692307693,0.35957513277100905,1.0,0.39709302325581397,0.3459807073954984,0.15384615384615385,0.3469776297001428,0.2874617737003058,0.2818181818181818,0.2727272727272727,0.06666666666666667,0.2647058823529412,0.0,0.25396825396825395,0.36009174311926606,0.16666666666666666,0.3680672268907563,0.2,0.36363636363636365,0.3333333333333333,0.3822463768115942,0.3157894736842105,0.28488372093023256,0.21739130434782608,0.31645569620253167,0.313953488372093,null,0.3404255319148936,null,0.4444444444444444,0.22727272727272727,0.0,0.0,0.2222222222222222,0.2,0.3952991452991453,0.3406408094435076,null,0.3172866520787746,0.175,0.0,0.5,0.34615384615384615,0.2872340425531915,0.29455445544554454,0.2222222222222222,0.3333333333333333,0.0,0.1875,0.345,0.3547008547008547,0.3848953594176524,0.3173076923076923,0.29473684210526313,0.2888198757763975,0.19047619047619047,0.3429237947122862,0.2222222222222222,0.29045643153526973,0.23809523809523808,0.3333333333333333,0.3709677419354839,0.3587088915956151,0.3181818181818182,0.35325602140945583,0.36748064324002383,0.38461538461538464,0.24074074074074073,0.26262626262626265,0.37258687258687256,0.2773722627737226,0.34736091298145505,0.43772990015764585,0.40728476821192056,0.125,0.33506044905008636,0.3207184092366902,0.3569364161849711,0.23636363636363636,0.319792158715163,0.3352380952380952,0.2903225806451613,0.2542372881355932,0.3076923076923077,0.3420229405630866,null,0.2,0.36,0.29411764705882354,null,0.0,0.34119417962870047,0.32125984251968503,0.32852386237513875,0.30434782608695654,0.0,0.3053016453382084,0.16666666666666666,0.24793388429752067,1.0,0.312,0.125,0.42857142857142855,0.3572923935799023,null,0.0,0.3884745762711864,0.2073170731707317,0.23076923076923078,0.30845771144278605,0.34703557312252964,0.36099585062240663,null,0.3732394366197183,0.3596345514950166,null,null,0.32216494845360827,0.14285714285714285,0.0,0.36363636363636365,0.3699186991869919,0.21428571428571427,0.4142678347934919,0.6,0.3055555555555556,0.2923076923076923,0.0,0.36,0.3333333333333333,0.0,0.329073482428115,0.2222222222222222,0.32280701754385965,0.3395348837209302,null,0.2962962962962963,0.2857142857142857,0.08333333333333333,0.29411764705882354,0.21818181818181817,0.34992458521870284,0.29545454545454547,0.28802588996763756,0.3600498338870432,0.3943573667711599,0.25153374233128833,0.3241491085899514,0.16666666666666666,0.32630906768837803,0.34804753820033957,0.3516143299425033,0.37213403880070545,0.35181236673773986,0.34133611691022964,0.2982456140350877,0.3228200371057514,0.37969094922737306,0.17543859649122806,0.3132075471698113,0.3711340206185567,0.11764705882352941,null,null,0.21153846153846154,0.37596699329551314,0.3771996939556236,null,0.36054421768707484,0.34615384615384615,0.40816326530612246,0.30612244897959184,0.352549889135255,0.30612244897959184,0.35792019347037485,0.30392156862745096,0.2962962962962963,0.3333333333333333,0.3333333333333333,null,0.31932773109243695,0.0,0.375,0.3786764705882353,0.3471971066907776,0.1111111111111111,0.0,0.2571428571428571,0.4,0.32608695652173914,0.14285714285714285,0.2926829268292683,0.40625,1.0,null,0.25,1.0,0.0,0.3684210526315789,0.3076923076923077,0.5,null,0.19230769230769232,0.20833333333333334,0.14705882352941177,0.32275132275132273,0.3212669683257919,0.25,0.39118705035971224,0.28867924528301886,0.0,0.30455635491606714,0.3356164383561644,0.40569020021074814,0.36681222707423583,0.2857142857142857,0.0,0.21428571428571427,0.35294117647058826,0.3355325164938737,0.327455919395466,0.33242506811989103,0.3669574700109051,0.5,0.3698630136986301,0.10526315789473684,null,0.28,0.3573667711598746,null,0.26515151515151514,0.3781569965870307,0.26843657817109146,0.2,0.3860232945091514,0.2857142857142857,0.2682926829268293,0.0,0.35714285714285715,0.5,0.30597014925373134,0.304635761589404,0.4043887147335423,null,0.25,0.26744186046511625,0.3010752688172043,0.3425925925925926,0.32468879668049794,0.3333333333333333,0.30538922155688625,0.2986111111111111,0.3076923076923077,0.37659033078880405,0.33093525179856115,null,0.0,0.36536030341340076,0.36363636363636365,0.23333333333333334,0.3584905660377358,0.3333333333333333,0.24390243902439024,0.20270270270270271,0.21052631578947367,0.35101404056162244,0.3230769230769231,0.1,0.34735899731423453,0.38370473537604455,0.0,0.3349282296650718,0.3601190476190476,0.3684210526315789,null,null,0.32142857142857145,0.29896907216494845,0.3730684326710817,0.4124293785310734,0.3404255319148936,null,0.23529411764705882,null,0.36412315930388217,null,0.0,0.29411764705882354,0.37037037037037035,0.37037037037037035,0.29381443298969073,0.2832369942196532,0.37714285714285717,0.23076923076923078,0.3275862068965517,0.32286995515695066,0.3246753246753247,0.5,0.0,0.26506024096385544,0.3532410779315368,0.29831387808041504,0.3258426966292135,0.39615129396151294,0.33872598584428715,0.33004926108374383,0.3156297420333839,0.3282275711159737,0.3662704309063893,0.3624563155267099,0.4133180252583238,0.3241106719367589,0.38035714285714284,0.3211267605633803,0.25,0.375,0.25806451612903225,0.2,null,0.1590909090909091,0.3344768439108062,0.3287671232876712,0.23529411764705882,0.2631578947368421,0.0,0.2,0.42857142857142855,0.2,0.33819628647214856,0.4,0.3486973947895792,0.3566775244299674,0.34773218142548595,0.11764705882352941,0.3477406679764244,0.2,0.31435643564356436,0.3103448275862069,0.3333333333333333,0.2862903225806452,0.30113636363636365,0.34,0.33980582524271846,0.3532658693652254,0.3504531722054381,0.2564102564102564,0.36199095022624433,0.3076923076923077,0.39325842696629215,0.0,0.34562841530054644,0.28205128205128205,0.3735144312393888,0.2564102564102564,0.125,0.2857142857142857,0.30952380952380953,0.32801822323462415,0.2222222222222222,0.3492063492063492,0.42857142857142855,0.35805626598465473,null,0.5,0.2868217054263566,0.3783783783783784,0.35106382978723405,0.3351206434316354,0.36830102622576966,0.35664335664335667,0.3306122448979592,0.2,0.4146341463414634,0.4,null,0.17391304347826086,0.42857142857142855,null,0.25,0.27586206896551724,0.07142857142857142,0.6666666666666666,0.0,0.3673469387755102,0.20833333333333334,0.3235294117647059,null,0.23076923076923078,0.37969924812030076,0.0,null,0.25,0.0,0.25,0.0,0.4473684210526316,0.25,0.25,0.38132295719844356,null,null,0.3141592920353982,0.3254237288135593,0.3023255813953488,0.0,0.3759124087591241,0.35443037974683544,0.29838709677419356,0.330188679245283,0.37325349301397204,0.38095238095238093,0.24107142857142858,0.294478527607362,0.34911242603550297,1.0,0.3148148148148148,0.1282051282051282,0.36363636363636365,0.3732142857142857,0.3643279797125951,0.23529411764705882,0.15,0.37169811320754714,0.37558247903075487,0.3090909090909091,0.3736842105263158,0.3125,null,0.3450920245398773,0.3148148148148148,0.2518518518518518,0.0,0.34977578475336324,0.3170731707317073,0.3743455497382199,0.36191860465116277,0.0,0.27253668763102723,0.375,0.43856332703213613,0.30952380952380953,null,0.3852760736196319,0.39707317073170734,0.3817504655493482,0.3157894736842105,0.36554621848739494,0.3157894736842105,0.39275766016713093,0.3837837837837838,0.14285714285714285,0.31451612903225806,0.3686868686868687,0.38076923076923075,0.34864864864864864,0.34346924671734624,0.1891891891891892,0.3312538989394885,0.20149253731343283,0.0,0.302158273381295,0.5,0.23809523809523808,0.23140495867768596,0.3870967741935484,0.25,0.0,0.37721021611001965,0.0,0.22727272727272727,0.31527093596059114,0.3125,0.2608695652173913,0.308411214953271,0.3288135593220339,0.30158730158730157,0.5,0.2,null,0.5,0.3793103448275862,0.3141025641025641,0.31092436974789917,null,0.36538461538461536,0.42857142857142855,0.32894736842105265,0.0,0.23529411764705882,0.225,0.4226475279106858,0.46153846153846156,0.36427566807313644,0.35964912280701755,0.0,0.0,null,0.4027777777777778,0.0,0.0,0.36904761904761907,0.30612244897959184,0.375,0.35294117647058826,0.2,0.29545454545454547,1.0,0.38095238095238093,0.391304347826087,0.2,0.30434782608695654,0.2727272727272727,0.29411764705882354,0.0,0.34579439252336447,0.38666666666666666,0.125,0.20588235294117646,null,0.3333333333333333,0.0,0.5,0.29411764705882354,0.40540540540540543,0.19047619047619047,0.3684210526315789,0.3333333333333333,0.33557046979865773,0.2,0.3939393939393939,0.3333333333333333,0.3695652173913043,0.30851063829787234,0.31666666666666665,0.3483709273182957,0.3566265060240964,0.28832116788321166,0.3049645390070922,0.2535211267605634,0.3736654804270463,0.3888888888888889,0.3465909090909091,0.37478991596638656,0.35960591133004927,0.2222222222222222,0.302158273381295,0.3475177304964539,0.23529411764705882,0.322884012539185,0.3091334894613583,0.2857142857142857,0.32432432432432434,null,0.16666666666666666,0.3325581395348837,0.14285714285714285,null,0.2653061224489796,0.0,0.2847222222222222,0.38990825688073394,0.3673805601317957,0.3142857142857143,0.36363636363636365,0.0,0.34108527131782945,0.375,0.30113636363636365,0.45161290322580644,0.34579439252336447,0.3005464480874317,0.31608133086876156,0.34317343173431736,0.29357798165137616,0.29411764705882354,0.3114754098360656,0.33,0.30303030303030304,0.3064516129032258,0.18181818181818182,0.32,0.33766233766233766,0.35714285714285715,0.28,0.25,0.34328358208955223,0.36585365853658536,null,0.3821656050955414,null,0.3939393939393939,0.14285714285714285,0.26666666666666666,0.38934426229508196,0.0,0.20833333333333334,0.3686635944700461,null,0.25,0.3333333333333333,0.0,0.3161512027491409,0.30120481927710846,0.0,null,0.4134078212290503,0.0,0.30158730158730157,0.3076923076923077,0.3333333333333333,0.0,0.25,0.375,0.32884615384615384,0.3524904214559387,0.3157894736842105,0.2777777777777778,0.31547619047619047,0.3058823529411765,0.0,0.40878378378378377,0.3466666666666667,0.2897196261682243,0.391304347826087,0.0,0.37037037037037035,0.3372093023255814,0.14285714285714285,0.3354632587859425,0.30097087378640774,0.0,0.3804347826086957,0.3103448275862069,0.16,0.36363636363636365,0.3333333333333333,0.36666666666666664,0.2631578947368421,0.2,0.23529411764705882,0.25,0.34782608695652173,0.3333333333333333,0.4067796610169492,0.38943894389438943,0.0,0.28019323671497587,0.36792452830188677,0.23076923076923078,0.6,0.32142857142857145,0.4112903225806452,0.5,null,0.16,0.2222222222222222,0.21052631578947367,0.0,0.27692307692307694,0.5,0.47058823529411764,0.4317343173431734,0.16666666666666666,0.35,0.10810810810810811,0.36363636363636365,0.4722222222222222,0.3493975903614458,0.3645833333333333,0.18181818181818182,0.2222222222222222,0.19230769230769232,0.323943661971831,0.5,0.34782608695652173,0.44680851063829785,0.22727272727272727,0.3076923076923077,0.2916666666666667,0.0,0.35185185185185186,0.2857142857142857,0.2711864406779661,null,0.13333333333333333],\"coloraxis\":\"coloraxis\",\"size\":[188.0,15.428571428571429,0.3333333333333333,20.0,0.0,154.66666666666666,334.5,179.5,3.5,11.25,0.4,10.8,2.0,0.0,1.0,0.5,30.0,17.0,10.5,3.857142857142857,179.375,227.66666666666666,0.0,0.0,97.0,2.0,173.6,1.6,2.5,265.0,184.36363636363637,2.6666666666666665,0.8,189.8,22.333333333333332,0.6,106.42857142857143,63.666666666666664,95.55555555555556,0.6666666666666666,81.4,23.428571428571427,0.0,38.0,8.5,0.75,230.55555555555554,73.16666666666667,0.0,0.0,300.0,118.125,0.2857142857142857,90.8,230.0,22.75,148.5,0.0,236.5,280.25,127.58333333333333,105.57142857142857,38.5,15.0,205.55555555555554,3.0,0.0,21.625,21.666666666666668,91.5,1.0,237.54545454545453,76.33333333333333,1.1666666666666667,209.8,0.0,1.0,110.33333333333333,164.875,81.16666666666667,170.9090909090909,1.0,1.0,152.33333333333334,3.0,99.71428571428571,6.166666666666667,107.0,97.0,1.25,91.66666666666667,0.0,0.0,43.6,1.8333333333333333,117.0,39.142857142857146,135.0,41.4,1.3333333333333333,148.25,57.5,1.75,0.6,250.25,1.6666666666666667,5.0,137.0,114.0,124.28571428571429,34.0,0.2857142857142857,13.0,59.0,135.25,128.33333333333334,184.0,109.5,0.0,0.0,2.0,97.0,41.0,0.7777777777777778,2.25,306.1666666666667,1.5,1.8,96.25,25.666666666666668,0.625,83.9090909090909,137.0,0.0,87.63636363636364,152.66666666666666,3.0,343.6666666666667,48.666666666666664,100.2,9.125,40.25,0.7,0.3333333333333333,33.666666666666664,2.875,114.5,16.666666666666668,256.6666666666667,3.2,0.0,0.0,2.111111111111111,170.0,0.0,1.5,46.0,0.0,0.16666666666666666,1.0,208.5,1.8181818181818181,143.55555555555554,292.8333333333333,104.57142857142857,0.0,0.0,33.5,4.0,253.5,6.0,6.857142857142857,199.33333333333334,0.3333333333333333,14.142857142857142,112.0,19.0,19.666666666666668,5.666666666666667,118.71428571428571,188.0,21.4,147.125,0.0,228.75,13.0,77.0,79.27272727272727,11.166666666666666,223.36363636363637,23.22222222222222,224.75,21.833333333333332,1.0,182.77777777777777,151.8,179.16666666666666,0.3333333333333333,95.0,35.0,142.75,64.44444444444444,22.4,42.5,165.1,236.0,31.11111111111111,383.77777777777777,0.875,4.8,4.0,0.7333333333333333,0.5,18.666666666666668,34.5,11.5,3.3333333333333335,9.5,31.333333333333332,0.3333333333333333,45.4,9.285714285714286,73.25,0.5,16.0,14.833333333333334,1.7647058823529411,0.0,0.25,125.77777777777777,0.0,241.66666666666666,95.0,2.3333333333333335,10.4,176.0,0.25,137.5,4.625,4.0,296.94117647058823,135.7,185.125,37.0,16.0,153.83333333333334,2.090909090909091,0.5,0.0,61.63636363636363,2.0,1.0,3.25,23.75,136.11111111111111,6.0,1.5,4.0,23.333333333333332,0.06666666666666667,0.14285714285714285,11.0,0.1111111111111111,6.533333333333333,144.4,65.33333333333333,83.0,104.11111111111111,110.0,242.0,0.0,2.0,233.6,1.7647058823529411,54.333333333333336,93.0,25.25,30.2,70.0,0.3333333333333333,171.1764705882353,0.6666666666666666,85.8,263.85714285714283,0.0,56.0,51.833333333333336,5.125,19.0,19.333333333333332,3.727272727272727,100.5,1.0,21.25,0.0,3.0,1.0,1.0,2.0,71.0,4.8,0.0,209.73333333333332,6.571428571428571,183.7,260.5833333333333,19.8,7.0,3.2222222222222223,0.5555555555555556,1.1428571428571428,204.6,15.6,5.0,42.25,0.0,0.0,57.0,207.625,0.2,244.66666666666666,20.0,41.25,104.0,85.0,3.8,15.75,1.0,132.75,54.0,103.4,357.2857142857143,73.0,219.0,0.0,2.4,36.375,152.8,0.45454545454545453,31.0,80.25,0.6,20.0,119.4,0.25,177.0,2.75,0.5,3.6,8.4,2.6666666666666665,172.3846153846154,64.28571428571429,2.0,0.0,43.0,16.2,1.4,70.0,175.0,204.375,1.6666666666666667,0.0,0.0,0.0,241.64285714285714,5.176470588235294,43.25,234.46153846153845,412.72222222222223,355.3333333333333,2.230769230769231,229.75,0.9,1.0,0.8,0.5454545454545454,218.83333333333334,137.6,7.142857142857143,131.8,23.0,0.6666666666666666,185.61111111111111,2.888888888888889,36.0,0.5,8.285714285714286,0.9166666666666666,4.5,84.45454545454545,277.3,337.84615384615387,5.277777777777778,7.769230769230769,8.0,31.0,45.111111111111114,2.0,1.5,8.818181818181818,0.0,6.076923076923077,19.5,6.0,77.5,9.333333333333334,0.0,97.2,30.5,21.0,237.57142857142858,0.3333333333333333,73.83333333333333,1.5,4.0,2.0,0.0,4.0,0.0,24.0,9.0,0.75,41.5,0.0,0.5,0.0,7.0,0.0,35.5,0.0,127.88888888888889,1.0,0.0,0.3333333333333333,178.83333333333334,0.0,5.0,102.5,0.3333333333333333,7.0,233.1818181818182,0.0,2.0,0.5,2.0,26.5,4.0,1.2857142857142858,3.1875,157.66666666666666,0.0,9.0,6.0,129.0,37.0,18.5,0.0,6.0,0.0,2.5,8.166666666666666,1.0,3.0,14.75,0.0,12.5,39.5,34.0,1.25,3.0,0.0,0.0,0.0,2.4285714285714284,1.5,0.0,160.15384615384616,6.0,0.0,30.0,8.842105263157896,183.88888888888889,277.94117647058823,88.76923076923077,5.285714285714286,30.0,200.69230769230768,0.16666666666666666,213.2,1.2,12.666666666666666,105.16666666666667,171.9090909090909,3.6666666666666665,1.3,9.916666666666666,23.666666666666668,9.666666666666666,0.18181818181818182,0.0,163.77777777777777,44.0,162.25,5.0,0.4,50.0,22.5,5.5,2.0,3.5,3.5,6.0,0.0,20.0,4.428571428571429,47.0,71.76923076923077,0.0,268.7857142857143,8.6,2.0,117.0,73.77777777777777,48.5,28.857142857142858,38.5,11.444444444444445,2.0,20.0,0.0,2.230769230769231,0.0,0.0,1.3333333333333333,0.0,12.0,0.5,3.0,3.3333333333333335,1.0,0.0,30.666666666666668,1.3333333333333333,34.0,121.18181818181819,1.0,10.5,1.0,15.0,4.0,4.0,0.0,0.0,41.333333333333336,0.0,285.64285714285717,131.5,210.3125,280.3636363636364,3.4285714285714284,315.3333333333333,130.46153846153845,248.0952380952381,306.10526315789474,68.3,0.8,3.1666666666666665,143.4,43.09090909090909,67.33333333333333,1.0833333333333333,6.0,158.7,15.0,134.5,0.42857142857142855,106.81818181818181,36.75,173.625,8.333333333333334,2.5,49.25,0.4444444444444444,7.25,19.6,289.0625,0.0,100.0,3.4285714285714284,0.2222222222222222,0.0,0.0,255.9090909090909,4.0,260.6363636363636,2.0,0.14285714285714285,2.272727272727273,7.5,2.5,1.0,0.5,30.0,10.5,71.6,5.0,6.8,5.0,0.0,2.0,219.45454545454547,0.0,43.57142857142857,2.0,0.0,0.0,0.0,5.0,23.0,151.0,7.0,16.0,2.0,7.0,35.69230769230769,3.0,0.0,1.0,84.92307692307692,1.5,0.0,89.5,10.0,3.5,1.2941176470588236,187.11111111111111,319.9230769230769,151.85714285714286,37.125,145.3,109.28571428571429,52.23529411764706,149.375,316.3157894736842,72.33333333333333,0.0,102.21428571428571,52.333333333333336,200.11764705882354,3.6666666666666665,247.25,27.75,77.83333333333333,4.153846153846154,22.0,113.27272727272727,91.15384615384616,1.0,113.33333333333333,152.25,80.5,0.0,9.0,0.3333333333333333,61.0,0.0,0.9,36.4,0.25,22.25,0.0,131.0,1.7777777777777777,1.5,2.0,0.0,0.0,49.4,0.0,253.4375,0.0,0.0,6.4,0.0,196.41666666666666,3.0,1.0,31.125,24.285714285714285,1.0,0.0,3.0,3.8,0.0,98.0,18.8,3.0,18.714285714285715,18.333333333333332,230.0,116.42857142857143,1.625,318.95,0.23076923076923078,98.23076923076923,0.6,0.0,40.333333333333336,7.5,4.0,216.4,25.4,252.92307692307693,0.5833333333333334,31.142857142857142,245.63636363636363,2.0,124.38461538461539,0.6666666666666666,0.14285714285714285,0.2,0.75,7.5,1.7777777777777777,29.5,120.0,9.5,64.33333333333333,0.3333333333333333,84.0,18.0,0.0,190.54545454545453,14.666666666666666,8.0,0.0,229.25,54.416666666666664,2.0,22.555555555555557,3.0,12.0,0.0,0.0,5.0,0.0,0.0,1.8571428571428572,12.0,1.5,28.142857142857142,1.0,0.0,1.6,6.0,69.5,87.42857142857143,0.5,5.0,0.75,0.5789473684210527,27.0,0.18181818181818182,334.0769230769231,250.30769230769232,150.4,0.5,72.5,313.5882352941176,42.0,213.91666666666666,162.88235294117646,131.5,0.125,3.0,2.8,2.6153846153846154,42.88235294117647,0.3076923076923077,3.0,22.0,25.0,65.0,93.07142857142857,0.9230769230769231,120.54545454545455,89.05555555555556,124.0,0.0,151.08333333333334,130.22222222222223,0.0,23.0,33.22222222222222,279.72727272727275,2.5,37.333333333333336,47.54545454545455,4.333333333333333,3.5,159.0,119.3076923076923,8.0,95.5,2.0,1.1666666666666667,0.0,0.0,0.5,27.5,0.0,173.28571428571428,45.0,0.3333333333333333,39.0,1.0,2.0,69.5,9.5,21.25,4.533333333333333,15.142857142857142,0.0,8.0,5.0,1.25,202.0,230.66666666666666,24.428571428571427,45.75,71.75,3.1176470588235294,1.6363636363636365,9.071428571428571,153.14285714285714,26.636363636363637,0.3333333333333333,5.0,139.85714285714286,144.5,86.0,138.85714285714286,0.5,1.0,115.0,24.5,148.5,110.71428571428571,2.0,26.666666666666668,152.76923076923077,48.0,87.5,0.0,154.9,78.0,0.8,1.0769230769230769,50.5,3.0,432.0,0.5,134.875,1.25,209.35714285714286,0.2,0.0,2.375,193.84615384615384,16.333333333333332,27.1,0.0,0.0,180.0,26.0,24.333333333333332,0.0,102.18181818181819,0.0,11.0,12.0,167.6,81.0,111.0,0.0,14.0,66.75,0.8461538461538461,5.0,318.77777777777777,0.6,248.66666666666666,70.0,117.125,1.8461538461538463,240.15384615384616,54.875,0.5,157.28571428571428,191.0,7.214285714285714,47.75,139.5,8.666666666666666,4.0,29.333333333333332,14.333333333333334,89.0,25.0,100.92857142857143,42.666666666666664,92.81818181818181,76.22222222222223,232.0,0.5,1.0,182.57142857142858,102.9,2.6666666666666665,117.11111111111111,55.8,30.0,208.3846153846154,0.0,0.0,124.5,1.9375,183.63636363636363,160.25,222.3846153846154,0.0,138.35714285714286,336.1764705882353,1.5,0.0,0.0,12.0,43.9,3.2222222222222223,22.0,2.0,0.0,8.0,2.1666666666666665,1.0,0.0,17.5,17.5,0.0,89.6,9.0,3.0,0.0,52.25,2.857142857142857,52.0,8.0,5.176470588235294,0.2,265.54545454545456,5.214285714285714,170.53333333333333,37.625,132.13333333333333,1.3333333333333333,187.94117647058823,22.25,0.2,0.0,113.3,14.461538461538462,4.714285714285714,70.25,121.38461538461539,323.625,153.72727272727272,223.85714285714286,0.0,12.0,34.0,126.5,31.714285714285715,247.41666666666666,145.1,102.61538461538461,0.0,3.0714285714285716,1.5,0.0,49.0,13.0,0.5,8.5,44.9,198.66666666666666,1.3333333333333333,265.0,10.333333333333334,0.0,0.0,29.0,38.0,10.0,0.2857142857142857,9.0,2.0,196.75,26.0,0.3333333333333333,0.0,10.0,0.0,0.0,2.0,5.333333333333333,2.25,17.25,62.7,0.0,33.0,34.0,0.0,4.0,1.7857142857142858,192.93333333333334,249.25,200.92857142857142,206.7,191.0,208.15384615384616,0.3333333333333333,274.6666666666667,1.125,6.0,3.25,198.25,85.0,30.0,264.4,222.33333333333334,13.75,0.0,205.0,139.15384615384616,162.7,193.66666666666666,1.625,0.5,164.85714285714286,4.166666666666667,0.0,2.4166666666666665,152.0,61.0,4.833333333333333,232.46666666666667,185.30769230769232,0.7,93.0,52.333333333333336,195.75,37.0,0.0,0.0,0.0,252.75,18.5,45.333333333333336,24.333333333333332,119.5,0.0,13.0,6.5,2.0,23.0,1.6666666666666667,12.5,2.0,0.6666666666666666,12.0,67.33333333333333,183.0,161.42857142857142,17.0,0.75,0.0,10.5,120.375,7.0,24.0,0.0,48.666666666666664,0.0,38.625,0.2,54.0,2.0,28.666666666666668,0.5,0.0,48.0,2.0,15.0,0.0,3.0,1.0,102.8,1.2727272727272727,1.0,0.0,59.25,28.0,107.6,177.1,44.266666666666666,125.0,4.25,1.5,154.16666666666666,274.27272727272725,206.4,0.75,0.0,313.6,1.1666666666666667,104.85714285714286,44.375,0.0,118.2,116.0,51.666666666666664,72.66666666666667,10.666666666666666,86.4,98.0,0.0,331.1333333333333,92.33333333333333,155.9,120.0,11.0,31.75,0.6666666666666666,16.666666666666668,121.54545454545455,1.125,0.25,203.0,4.5,31.0,0.0,53.0,0.0,202.71428571428572,9.5,0.0,26.0,103.53333333333333,1.0,0.1,1.5,1.0,0.5,16.0,5.0,71.16666666666667,116.0,0.3,23.666666666666668,104.5,30.0,0.5,101.25,0.5,23.0,166.42857142857142,12.0,1.0,99.66666666666667,0.0,2.0,1.25,0.0,13.0,0.0,0.0,2.0,13.0,0.0,13.0,0.0,0.0,331.61538461538464,101.92857142857143,248.92857142857142,234.23076923076923,45.0,136.46153846153845,1.2,1.2307692307692308,102.6,28.75,107.42857142857143,15.25,66.5,92.1,230.33333333333334,0.25,248.46153846153845,26.0,22.90909090909091,205.33333333333334,160.5,213.33333333333334,286.75,8.0,221.8,200.45454545454547,2.0,11.333333333333334,3.3333333333333335,30.0,0.0,2.0,6.875,0.0,52.36363636363637,0.4,6.0,0.0,6.0,0.0,2.6666666666666665,92.07692307692308,0.42857142857142855,0.0,11.0,7.5,59.81818181818182,25.0,0.0,5.5,12.0,0.0,126.3,178.46153846153845,1.0,0.0,2.5,17.5,9.5,6.0,0.0,15.0,15.666666666666666,40.0,75.9090909090909,285.875,139.16666666666666,267.7692307692308,266.0,286.5,339.3076923076923,23.5,242.07692307692307,143.15384615384616,125.63636363636364,5.25,144.44444444444446,13.833333333333334,13.384615384615385,65.1,2.6666666666666665,4.384615384615385,2.625,6.0,290.9166666666667,188.25,0.36363636363636365,132.66666666666666,289.84615384615387,198.3846153846154,50.888888888888886,135.5,0.5,5.0,0.0,2.0,0.25,239.22222222222223,0.9230769230769231,0.125,51.583333333333336,39.666666666666664,30.0,42.5,0.5,25.0,2.0,228.69230769230768,103.0,6.0,5.666666666666667,0.0,4.0,0.0,215.22222222222223,75.75,0.0,0.0,1.0,38.0,3.0,2.0,2.0,4.0,70.5,0.0,83.71428571428571,0.25,129.8181818181818,0.0,560.6666666666666,154.8,171.3,116.33333333333333,545.0,2.75,106.83333333333333,294.22222222222223,45.75,95.25,3.142857142857143,41.666666666666664,89.16666666666667,97.16666666666667,241.58333333333334,164.875,163.91666666666666,63.4,161.0,133.9,69.6,99.25,11.083333333333334,167.1818181818182,247.0,157.0,47.0,38.666666666666664,0.8333333333333334,33.5,62.6,19.75,43.75,1.2857142857142858,0.3333333333333333,122.33333333333333,13.666666666666666,207.8,217.88888888888889,256.375,167.42857142857142,52.0,303.0833333333333,2.0,115.0,67.5,262.3333333333333,25.25,166.0,28.0,2.0,0.0,0.0,9.0,380.3333333333333,71.5,31.0,77.85714285714286,6.0,0.0,48.666666666666664,0.0,10.0,23.5,191.2,91.7,16.0,202.55555555555554,116.6,0.5714285714285714,1.8888888888888888,148.54545454545453,230.1818181818182,417.09090909090907,0.0,25.2,0.36363636363636365,155.36363636363637,0.8333333333333334,122.375,1.0,216.54545454545453,194.8181818181818,122.2,7.0,43.5,30.75,1.5,7.0,84.71428571428571,173.5,168.57142857142858,0.3333333333333333,26.0,2.0,0.0,2.888888888888889,7.5,191.16666666666666,6.0,4.0,72.2,122.11111111111111,0.0,12.0,0.0,0.0,0.0,43.5,1.0,15.0,3.7142857142857144,0.0,0.0,0.0,4.5,63.2,7.25,171.85714285714286,145.88888888888889,10.0,1.3333333333333333,78.0,0.4,8.0,34.666666666666664,0.0,37.5,0.0,7.0,48.111111111111114,6.0,5.0,0.0,13.0,324.8,119.71428571428571,15.4,3.5,30.444444444444443,0.6666666666666666,0.3,251.5,441.5,86.5,536.25,136.0,174.3,274.5,225.1,126.5,145.0,60.666666666666664,245.2,67.33333333333333,36.5,5.625,342.4,223.7,63.2,76.8,0.0,106.5,101.5,161.6,382.2857142857143,9.666666666666666,137.66666666666666,114.5,2.5,0.0,13.0,204.88888888888889,0.3333333333333333,47.625,36.5,332.6,11.333333333333334,11.0,31.666666666666668,28.0,0.0,0.0,10.5,2.5,0.0,24.4,143.2,279.3,5.0,24.333333333333332,12.5,4.0,11.0,1.0,0.5,0.0,4.0,8.0,39.666666666666664,2.75,75.33333333333333,0.2,0.3333333333333333,2.0,99.33333333333333,12.875,404.55555555555554,207.5,1.2,607.5555555555555,350.1111111111111,12.333333333333334,253.77777777777777,211.77777777777777,93.11111111111111,176.11111111111111,86.5,10.0,120.11111111111111,0.0,4.375,52.166666666666664,54.2,307.55555555555554,103.6,0.0,53.166666666666664,15.5,90.75,0.0,0.0,41.0,15.0,0.0,123.4,1.0,327.22222222222223,195.33333333333334,50.333333333333336,74.71428571428571,37.666666666666664,296.44444444444446,211.77777777777777,12.5,63.5,151.66666666666666,50.0,73.33333333333333,149.66666666666666,5.0,69.0,17.75,3.0,5.0,4.0,2.0,70.0,0.25,0.0,235.25,0.0,243.33333333333334,105.5,133.75,176.33333333333334,207.44444444444446,15.5,0.0,122.0,5.75,0.0,1.0,23.0,1.0,2.0,84.75,55.5,35.0,275.125,0.0,133.57142857142858,20.666666666666668,5.666666666666667,6.0,0.0,12.0,40.0,1.4285714285714286,39.125,228.0,63.285714285714285,34.5,47.75,246.875,54.0,5.0,372.875,17.625,235.75,58.875,0.0,26.0,51.125,173.66666666666666,6.5,6.0,2.8,236.5,352.125,21.2,4.875,89.125,115.5,23.0,183.5,25.0,70.66666666666667,178.5,17.5,370.25,0.875,77.2,87.0,1.625,400.125,1.0,215.0,194.375,4.333333333333333,262.625,163.5,36.666666666666664,11.0,15.0,8.5,3.0,63.0,124.57142857142857,18.0,198.33333333333334,5.0,137.5,135.0,92.0,80.75,43.0,11.5,39.5,172.0,0.0,117.5,0.0,183.85714285714286,22.0,0.5,4.0,27.0,17.5,200.57142857142858,118.6,0.0,114.25,13.333333333333334,0.5,2.0,13.0,47.0,202.0,9.0,21.0,1.0,8.0,166.66666666666666,58.5,314.0,52.0,63.333333333333336,92.0,63.0,367.42857142857144,27.0,80.33333333333333,21.0,19.0,62.0,234.57142857142858,198.0,224.2,239.85714285714286,13.0,13.5,49.5,74.0,34.25,200.28571428571428,271.85714285714283,215.71428571428572,8.0,144.75,222.71428571428572,98.85714285714286,27.5,302.42857142857144,75.0,53.142857142857146,14.75,42.714285714285715,137.0,0.0,2.5,12.5,4.25,0.0,3.0,284.7142857142857,90.71428571428571,180.2,11.5,3.0,91.16666666666667,6.0,40.333333333333336,0.25,41.666666666666664,4.0,63.0,286.6,0.0,0.2857142857142857,368.75,11.714285714285714,13.0,28.714285714285715,210.83333333333334,289.2,0.0,94.66666666666667,172.0,0.0,0.0,55.42857142857143,3.5,1.0,38.5,246.0,14.0,342.42857142857144,2.5,18.0,21.666666666666668,3.0,12.5,12.0,2.0,52.166666666666664,4.5,171.0,107.5,0.0,97.2,32.666666666666664,10.0,107.66666666666667,18.333333333333332,110.5,22.0,77.25,401.3333333333333,265.8333333333333,27.166666666666668,102.83333333333333,5.0,261.0,196.33333333333334,376.8333333333333,94.5,156.33333333333334,159.66666666666666,161.5,107.8,151.0,9.5,88.33333333333333,77.6,5.666666666666667,0.0,0.0,34.666666666666664,323.1666666666667,217.83333333333334,0.0,73.5,45.5,88.2,16.333333333333332,150.33333333333334,19.6,275.6666666666667,34.0,45.0,90.0,71.5,0.0,166.6,0.5,32.0,204.0,276.5,4.5,2.3333333333333335,5.833333333333333,5.0,15.333333333333334,7.0,10.25,21.333333333333332,2.0,0.0,40.0,1.0,1.0,28.5,117.0,3.0,0.0,8.666666666666666,24.0,8.5,141.75,88.4,12.0,222.4,106.0,0.3333333333333333,83.4,29.2,569.4,229.0,4.666666666666667,0.5,2.8,21.25,212.2,79.4,91.75,366.8,0.4,292.0,9.5,0.0,75.0,239.25,0.0,44.0,293.0,67.8,2.5,240.4,1.75,20.5,4.0,14.0,10.0,80.4,60.4,127.6,0.0,8.0,17.2,31.0,108.0,192.8,9.0,83.5,48.0,13.0,196.5,166.8,0.0,1.0,158.2,140.25,30.0,17.666666666666668,7.5,41.0,24.666666666666668,19.0,128.2,32.5,2.0,223.4,287.2,1.0,104.5,84.0,19.0,0.0,0.0,84.0,48.5,113.25,283.2,15.666666666666666,0.0,17.0,0.0,149.4,0.0,5.0,8.5,27.0,27.0,77.6,43.25,87.5,6.5,58.0,44.6,57.75,8.0,2.0,41.5,343.25,192.75,222.5,376.75,247.25,135.33333333333334,164.75,114.25,336.5,500.75,217.75,84.33333333333333,140.0,177.5,10.0,222.0,10.333333333333334,21.25,0.0,11.0,145.75,73.0,5.666666666666667,28.5,2.0,5.0,1.75,7.5,377.0,5.0,124.75,153.5,154.33333333333334,5.666666666666667,254.5,3.3333333333333335,101.0,58.0,42.0,62.0,44.0,50.0,25.75,271.75,165.5,39.0,55.25,13.0,133.5,1.0,183.0,19.5,147.25,19.5,8.0,7.0,21.0,109.75,4.5,21.0,7.0,97.75,0.0,2.0,64.5,129.5,47.0,93.25,219.25,71.5,122.5,5.0,20.5,15.0,0.0,23.0,3.5,0.0,16.0,29.0,14.0,3.0,3.0,49.0,8.0,34.0,0.0,6.5,133.0,1.0,0.0,4.0,8.0,52.0,1.0,38.0,4.0,12.0,171.33333333333334,0.0,0.0,75.33333333333333,98.33333333333333,57.333333333333336,1.5,274.0,263.3333333333333,82.66666666666667,106.0,167.0,133.0,37.333333333333336,54.333333333333336,225.33333333333334,1.0,27.0,19.5,11.0,186.66666666666666,394.3333333333333,17.0,20.0,176.66666666666666,357.6666666666667,36.666666666666664,190.0,5.333333333333333,0.0,217.33333333333334,81.0,67.5,1.0,148.66666666666666,13.666666666666666,127.33333333333333,229.33333333333334,1.0,159.0,8.0,264.5,84.0,0.0,271.6666666666667,341.6666666666667,179.0,9.5,119.0,25.333333333333332,239.33333333333334,92.5,2.3333333333333335,82.66666666666667,132.0,260.0,123.33333333333333,482.3333333333333,12.333333333333334,534.3333333333334,44.666666666666664,2.0,69.5,2.0,21.0,60.5,46.5,4.0,2.0,254.5,0.6666666666666666,44.0,101.5,112.0,23.0,107.0,98.33333333333333,42.0,1.0,5.0,0.0,20.0,29.0,78.0,119.0,0.0,26.0,7.0,38.0,2.0,17.0,40.0,418.0,6.5,355.5,38.0,2.0,2.0,0.0,72.0,4.0,1.0,84.0,65.33333333333333,8.0,39.666666666666664,10.0,88.0,1.0,31.5,57.5,5.0,11.5,11.0,34.0,1.0,107.0,37.5,8.0,34.0,0.0,15.0,1.5,2.0,42.5,55.5,21.0,9.5,6.0,74.5,10.0,16.5,24.0,253.0,188.0,210.0,199.5,415.0,137.0,70.5,106.5,281.0,9.0,176.0,297.5,101.5,22.5,69.5,141.0,25.5,159.5,213.5,21.0,18.5,0.0,6.0,215.0,7.0,0.0,24.5,7.0,72.0,109.0,303.5,35.0,11.0,2.5,64.5,8.0,88.0,62.0,53.5,91.5,270.5,135.5,54.5,25.5,61.0,150.0,33.0,31.0,5.5,112.5,77.0,28.0,12.5,8.0,33.5,20.5,0.0,157.0,0.0,33.0,7.0,15.0,122.0,2.0,12.0,108.5,0.0,2.0,1.5,4.0,145.5,83.0,1.0,0.0,89.5,2.0,31.5,26.0,10.5,2.0,8.0,16.0,520.0,261.0,38.0,72.0,168.0,85.0,3.0,296.0,150.0,214.0,138.0,1.0,108.0,172.0,7.0,313.0,103.0,7.0,460.0,87.0,25.0,198.0,120.0,60.0,19.0,5.0,17.0,4.0,23.0,63.0,59.0,303.0,6.0,207.0,106.0,13.0,5.0,168.0,248.0,4.0,0.0,25.0,9.0,19.0,1.0,65.0,2.0,17.0,271.0,6.0,40.0,37.0,66.0,36.0,83.0,96.0,33.0,9.0,26.0,71.0,2.0,23.0,47.0,22.0,195.0,24.0,1.0,216.0,7.0,59.0,0.0,15.0],\"sizemode\":\"area\",\"sizeref\":1.518888888888889,\"symbol\":\"circle\"},\"mode\":\"markers\",\"name\":\"\",\"showlegend\":false,\"x\":[0.032436000516974865,-0.4209658598900788,-0.02006348442131657,-0.018575899193063985,-0.18306540433167964,1.2506369803119082,0.1499304192676063,0.47072814479496145,-0.4171716207743917,-0.05074622577762855,-0.7658805378926152,-0.5463805054231496,-0.9305448310733906,-0.5940734360564761,-0.3211133177732661,-0.4224600527447045,-0.06460541447786095,-0.3556460286626519,-0.13700542577627975,-1.2358961551447651,0.8453444099669774,0.6617641584198052,-0.0907278320669724,-0.6030826671711762,-0.025435541049392146,-0.19586947989057696,0.18990743663458065,-0.8982779650465078,-0.542322162326659,1.5084123239465912,1.4143603358800552,-0.3596435938298385,-0.9349392010051083,0.11772906147372283,-0.5058875305310647,-0.6080762944785628,0.19910837771271056,-0.1738960675331284,0.10810435251127731,-0.07640932786153601,-0.3774948107196111,-0.8645435058564186,-0.024854286849414174,-0.07647924065472779,-0.18058826256653077,-0.13315255634902848,0.8623691554702199,-0.1874133155289418,-0.523868062023188,-0.18306540433167964,2.65667774331764,0.4872904668560611,-0.34162183856895895,0.04085833937704388,0.8409201703881126,-0.34903051952377956,0.25676442060877486,-0.21068492809224434,0.42509679797736577,0.13450469965895903,-0.040582171742524834,-0.2196794927574141,-0.09774983385112318,-0.07885400589010026,1.2074833114337036,-0.09430187359542738,-0.013980258780808566,-0.849911193603126,-0.7512312955769327,-0.035701517018566054,-0.18306540433167964,1.4192017232871341,0.02672134154102399,-1.1246859312230502,0.30425338368353405,-0.3546787876434473,-0.2767550311353657,-0.009574422461996187,0.9522351973406175,-0.2384797718167163,0.8214009171647245,-0.2767550311353657,-0.056574801768426254,0.041617688424149715,-0.20215025828027053,-0.005497540467793072,-0.0891408818587119,0.026582818149204275,-0.1057210964479365,-0.05500520485433924,-0.07264410369418559,-0.008248480549004083,-0.7419140980211307,-0.062336796216401334,-0.2251181473554093,-0.05358063585893031,-0.6249082240336782,0.05020073326267804,-0.5627769009301513,-0.6007760157329725,0.25220274535646936,-0.8830857631233564,-0.05382304079621159,-0.7563816552058122,0.8691106721539081,-0.4059879527981482,-0.03431837420017542,0.10440696139792006,-0.041362450694278526,0.29590633168243724,-0.06935494494860707,-0.34162183856895895,-0.26234231528165525,-0.05738404705421799,0.10197395688417882,-0.04348841768393963,0.35873473369085584,-0.023633244105257332,-0.19136583048710587,-0.3211133177732661,-0.9068834552276424,-0.06506494946794449,-0.22525714097338034,-1.2547161172516172,-0.784938213624807,2.8700328856647386,-0.7196069306464887,-0.9645850361889807,-0.0788803078609302,-0.16305735734262755,-0.8858376339178774,0.019633099727529853,0.10810584501544371,-0.1806226144264712,-0.2432466297537416,0.45146878918255723,-0.14825585901151653,0.3911815876844012,-0.8624060042259577,-0.10885438996144674,-0.14877422586989789,-1.2228203618691336,-1.53803797137786,-0.044759797896116296,-0.1756757079354672,-0.344914169121527,0.023786456362824157,-0.20600491599522927,2.14542424071222,-0.9067350455102832,-0.003511766379225186,-0.6456510767098809,-0.8958735305492171,1.8319734448932938,-0.17161338331176956,-0.21068492809224434,-0.0630149004103776,-0.05752802694454057,-1.0350419289344834,-0.1051416478236059,0.8579221307700267,-1.212004912973885,0.43490954357666134,1.193610446775983,0.05922471663638924,-0.00024986170539665703,-0.14049070334680328,-0.28037596252140834,-0.1818441451069875,0.6286965312037454,-0.3142790541072448,-0.8232301942982354,1.0306084216857896,-0.009437018645118188,-0.46017126263596636,0.037036124696046856,-0.14025630582174783,-0.9294732973372918,-0.18020542462520178,0.31537272829190444,0.19437118160493136,-0.641633662520266,0.1819378593120006,-0.17161338331176956,0.8690195346272556,-0.24931758833161285,-0.10065278319192765,-0.3488774254227426,-0.7463726545659329,0.6532265302456802,-0.8527857423296139,0.60915390667938,-0.39359562550922517,-0.3821962123269703,0.8393728296429598,0.4454429961848511,0.6114741325500941,-1.149127285301734,-0.003664728509231386,-0.3371433837683693,0.17608100925870276,-0.33255620544048575,-1.1976737887297892,-0.5614897069558481,0.2855006138930241,0.2133057981682677,-0.3911744119195923,1.3003766146259699,-1.0654782077412288,-0.7632476161792942,-0.08360353636085242,-1.6371650794833787,-0.3211133177732661,-0.4959291627267298,-0.1110609796193791,-0.17083104514707456,-0.5700110580020384,-0.32350453659228046,-0.5456479047747633,-0.33428305807992476,-0.25996876710870737,-0.9388231664369002,-0.2166037995185367,-0.025795262653120158,-0.2938489424834885,-1.019372014733041,-1.7246191671556808,-0.19136583048710587,-0.7531724005166622,0.40488220238746175,-0.5029346466549455,2.377431726614568,-0.3274973306143862,-1.4661405900183553,-1.3427806797425623,0.11297532150455843,-0.425010890146889,0.47739016803363665,-1.1845088600616902,-0.5355761880096083,2.3357865777114144,0.2415235834749785,0.9736045354590899,-0.08775826416683065,-0.08658166663547247,0.4141418712682323,-1.5569693576607893,-0.5505482675340084,-0.14049070334680328,-0.781128761626601,-0.22945329801164951,-1.21136156993327,-0.5464352149303316,-0.5490569604240589,0.17504432676736728,-0.309518211417196,-1.390840001785869,-1.545930293435562,-0.7269784293362102,-1.7245967918140694,-1.21136156993327,-0.12730759355180357,-1.4881166010686318,-1.7702302965663963,0.3872602762347421,-0.07738385480808416,-0.38149115178756965,-0.06517928645471682,0.015463597308126124,2.3113904872082993,-0.19136583048710587,-0.13609633341513327,2.2134495597799977,-1.6139470237114473,-0.2554014976384831,-0.008659605396883062,-0.5245325373243624,-1.2111995364109898,-0.06139204457684877,-0.41447028236979305,1.330998830850705,-0.5080847783287225,-0.10363544093062398,2.5892640055407443,-0.39019318671778075,-0.10105995895921575,-0.051172325554999974,-1.2652308027541455,-0.11851885368848054,-0.39571362458439896,-1.6138039352770959,-0.08051363562032626,-0.19136583048710587,-1.4626520683612185,-0.09335696459651954,-0.04544224952149676,-1.5738669090298087,-0.1757791666449125,-0.1806226144264712,-0.1409441505750482,-0.8045987221566172,-0.05752802694454057,1.3707963206976193,-0.8340868165548747,0.7164875918300786,2.322894123193541,-0.07348336892040933,-0.9342806816966168,-1.4709170553083215,-0.6952151568686877,-0.33924707333359544,0.665489781722215,-0.10186530836918836,-0.19136583048710587,-0.36314284021223214,-0.03404374320212503,-0.2071277823861036,-0.41809955045557057,1.2499462350675368,-0.31582657591585306,0.7746296800064151,-0.009033444664704817,-0.4675056426453305,0.018786410556454275,-0.014139747147614776,-0.09526079386898159,-0.13499811056760305,-0.03757478223131049,0.11368672748071167,-7.779984552023964e-05,0.04669747304396189,1.4280349315621819,-0.08608295182251821,0.20222958328868298,-0.2071277823861036,-0.09414958399973951,-0.6264548093024529,0.19155339393455814,-1.1187606789571365,-0.157419049438422,-0.3063598239986101,-0.7018285128772315,-0.07172971018398068,-0.14445449335802435,-0.7968912875635166,0.7787176242715718,-0.8763386621037549,-0.0951028091758543,-0.7563816552058122,-0.14365098706086907,-0.8909553987516279,0.8626861016890356,-0.1344393996579362,-0.18306540433167964,-0.024854286849414174,-0.07617950897701527,-0.7676781713659182,-0.8544193145080208,-0.2392565731417551,1.0911640052238385,0.5126174416422585,-0.2533975068351118,-0.03757478223131049,-0.0023232282831116232,-0.03757478223131049,1.8946789101872814,-1.7581563986914792,-1.0541739686221987,1.5977492468588164,6.959691701517961,3.879854904623826,-1.744840168412984,1.4659692370722,-1.3366179588087612,-1.824558396862495,-0.6732559415998474,-1.6009786793331187,2.9053928727278753,0.2982431456555279,-1.0002386827563658,0.38107304919900026,-0.0528751457841118,-0.42182584944990115,1.5093801241083349,-1.484003548464975,-0.25410916730320915,-0.23384766794332276,-1.0449012596367098,-1.6739472423115,-0.47461776963333485,-0.2974813349038914,3.5369163862848096,4.995428505255401,-1.7695830492721343,-1.5692630046887055,-0.18721768596275926,-0.09687795434521623,-0.9168343085420854,-0.09335696459651954,-0.2705919300424674,-1.4799365138053984,-0.7196069306464887,-1.6898245011769824,-0.21652896342525427,-0.6330544332007126,0.002946652293219813,-0.9212127345811153,-0.14049070334680328,-0.22864708652269902,-0.15401403691917112,-0.4008563377924865,1.5271984866295565,-0.009437018645118188,-0.26623558200578046,-0.22945329801164951,-0.20215025828027053,-1.2888698624008672,-0.7195109924635498,-0.6138258832318063,-0.11995709602526268,-0.14193487829472481,-0.09335696459651954,-0.6633680225985474,-0.14717610086589475,-0.4874399592276255,-0.2767550311353657,-0.19136583048710587,-0.16250014131320625,-0.23384766794332276,-0.31751617766498885,-0.1806226144264712,0.27688357765714666,-0.0364893128876006,-0.34761848573289733,-0.9813087464341805,0.7854747662465631,-0.2153322703586081,-0.13609633341513327,0.030354987911375107,-0.6138258832318063,-0.5093163868830455,2.1105922976315954,-0.39849361287321156,-0.2071277823861036,-0.3935160887673748,-0.19136583048710587,-0.3460896934935376,-0.14049070334680328,-1.1578215943663042,-1.771225372470757,0.42633415761676907,-0.0951028091758543,-0.17708330241691694,-0.18660498779704776,0.014190213846278775,-0.17258729826797928,-0.3627297634746668,-0.39849361287321156,-0.14049070334680328,-0.2071277823861036,-0.38399440338725865,-0.9450650501051245,-0.2153322703586081,-0.19717273417443013,-0.6720922670190269,-0.2153322703586081,-0.08697668072024235,-0.2604654135933445,-0.0004957901772359587,-1.4765593547630154,-0.5916854390234416,-0.2071277823861036,-0.2071277823861036,-0.6080762944785628,-1.0008561370608364,-0.016945524936031183,-0.0907278320669724,0.26752267526242685,-0.1757791666449125,-0.05752802694454057,-0.18208618095478607,-1.7362159673725595,1.1191914342126594,4.017786876858236,-0.25166913856094314,-1.6768169670908086,-0.9022263668531932,1.8770301875756001,-1.7037922888231471,2.417939003180918,-1.4909935837279356,-0.9498281118787445,0.10810973503648033,1.0514622725357337,-1.2966822091355295,-1.5744500632039986,-1.6344535013164878,-0.2919855673844303,-0.399463887646659,-1.646264261878595,-0.3522359977382354,0.3750687040361941,-0.07649095669665212,0.46604827784558056,-0.4988469606154809,-0.6559462843297206,-0.44538452481767316,-1.2787239546388378,-0.22945329801164951,-0.1607767933394807,-0.1607767933394807,-0.06059600773045102,-0.08996931561599525,-0.14049070334680328,-0.10094137396182278,-1.1331875742587818,-0.11363399784984042,-0.7805532681862726,-0.09335696459651954,2.967411613720171,-0.6477211405454683,-0.04697012841119578,0.07780057467124332,-0.43709900993757544,-0.49249539451862384,-0.7822535223057565,-0.17940250712562186,-1.320580005113211,-0.2071277823861036,-1.1620926876913267,-0.6138258832318063,-1.4618904480066255,-0.7196069306464887,-1.2787813986762406,-0.20774692175067916,-0.2071277823861036,-0.07980636867442409,-0.3983976746902845,-0.06741982874296101,-0.3606322342461533,-0.13609633341513327,-0.0907278320669724,-1.0850811570767132,-0.6055254570763923,-0.6423620658530553,0.3770666100813352,-0.5621717886295194,-0.2383459878635275,-1.6790536057985235,-0.1868356222981897,-0.34233962983235716,-0.2071277823861036,-0.18306540433167964,-0.18306540433167964,-0.1823618886757634,-1.4881166010686318,3.934357014825063,0.5261784611595514,1.6291082673690311,3.4314006917183515,-0.9085943493038138,3.1478481971315806,0.43446431022207405,2.902525114274949,4.21392388719616,-0.5529448317570068,-1.4949407965727282,-1.023901795669946,0.4250225514001533,-0.9458239998472493,-0.39883293580071205,-1.7011593671098222,-0.09335696459651954,1.242903479257178,-0.392606997962813,1.0936002945402894,-1.7609555144771807,0.40698578445915684,-0.49220279952891527,2.2783016455882974,-0.3749209529848195,-0.8711459062727258,-0.16144716402028197,-1.8449120012340798,-0.7550844703364764,-1.4257139051635193,4.893338423116972,-1.0989672357089584,0.05883239134306284,-0.3540669118898837,-1.3152591423068882,-0.09335696459651954,-0.14049070334680328,2.152921068172647,-0.01471582754174444,2.868678991734834,-0.09335696459651954,-1.0957159943445502,-1.2956518308441434,-0.22167127909946976,-0.23384766794332276,-0.08996931561599525,-0.23384766794332276,-0.07641871969390643,-0.690681687884001,-0.5985798014739697,-0.7751998468289275,-1.4128665160618772,-0.06257160109001449,-0.4224600527447045,-0.4526265240812382,2.276039172387893,-0.14049070334680328,-1.2407617375007303,-0.2153322703586081,-0.09335696459651954,-0.1806226144264712,-0.1806226144264712,-0.18660498779704776,-0.07303107071338218,0.2250222713050796,-0.17483929912428298,-0.049401898488929306,-0.011815003872312522,-0.13170196348347296,-1.3772700751533802,-0.1789523517279813,-0.18306540433167964,-0.1051416478236059,-0.16997180442265297,-0.3167189478416028,-0.1806226144264712,0.0018980900215040703,-0.08319401765494784,-0.23046001896279839,-1.8326941799530034,0.8139031427217472,3.309711144209209,0.4465904410523567,-0.5181463292673836,0.8868350535941111,0.10048373975476674,-1.177453211780133,1.287636241265062,4.796668492009064,-0.03248313390861305,-0.30868923495512063,0.001507373146798416,-0.08085047961072389,1.8906394410358491,-0.2934854777741021,1.986309898183672,-0.3836850731646292,-0.13386155935506566,-1.6747915648067038,-1.4742630281224476,0.0982852591704282,-0.37069586073560157,-0.41007591243811625,0.02057564777441367,0.7395464610274253,-0.28444877551188535,-0.14032709300770663,-0.06257160109001449,-1.3874786026485375,-0.13815327490836482,-0.7196069306464887,-1.5708117458456872,-0.4955405550462322,-0.6955445525920532,-0.4981824448642189,-0.09335696459651954,0.17783778183495255,-1.0817281571215376,-1.1443664426116633,-0.09335696459651954,-0.7196069306464887,-0.1607767933394807,-0.3846498206490782,-0.09335696459651954,2.1558205043347245,-0.27397957902299436,-0.09335696459651954,-0.7752282076404939,-0.09335696459651954,1.5900369055360906,-0.2071277823861036,-0.14049070334680328,-0.9102994975282849,-0.7851970896671594,-0.19136583048710587,-0.09335696459651954,-0.3935160887673748,-0.8500257411250486,-1.149127285301734,-0.04016262876121368,-1.4844243036215723,-1.31724410455209,-0.5155547369139128,-0.8133702532569077,3.4172862807671396,-0.06330696324198133,-1.1113514032219078,4.606939433296075,-1.7507624172343499,-0.02195009588090329,-0.6732559415998474,-1.3957790288039706,-0.24288289219292766,-0.9787279676805074,-0.7783379079178978,2.846063325788262,-1.293269879507044,2.6162779587924043,-1.7037922888231471,-1.0015013344147192,2.7036585056677476,-0.36107431292398195,0.647087555466083,-0.12965075880715107,-0.9273538523971845,-0.9775139019899636,-1.2623518535505047,-0.15011680287953202,-1.3976813443553364,-1.341710137707899,0.040306133773846606,-0.5530898702011421,-0.07998457026740963,-1.4833671597252402,-0.0041895194996652094,-0.12730759355180357,-0.207910532089761,1.6084375879226969,-0.2648805214603892,-0.3162698699917035,-0.06679707655368632,2.6429972783544087,-0.7809120528489679,-0.6273637567107032,-1.1154419517524914,-0.5407713211750637,-0.11851885368848054,-0.06741982874296101,-0.09335696459651954,-0.06741982874296101,-0.7435733705179812,-0.2071277823861036,-0.9208484494016181,-0.06257160109001449,-0.39019318671778075,-0.8144180426207382,-0.14049070334680328,-0.2071277823861036,-1.567120934712796,-0.2071277823861036,-0.13664726491973378,-0.2351718700244988,-0.27397957902299436,-0.1757791666449125,-1.515663979652003,-1.8588136971107083,-1.6446221827665026,-1.2959373393617337,4.559177438311076,2.487556908230661,-0.05461815146847105,-1.6133729899441185,-0.05035293015369414,4.450987282890593,-0.12358289077228492,2.0681352134711517,1.418477713992645,1.03033696058655,-0.9508191420226141,-0.1607767933394807,-0.6651074499292846,-1.6685848572474113,-1.2572166445110438,-1.7286465756725664,-0.06223093006418375,-0.11673735659268591,-0.13331808284578675,-0.061269044796974155,0.05225925111512784,-1.7164201687628031,0.16871553901518513,-0.7581039131709221,0.0006112764108341554,-0.12965075880715107,1.078284356907655,0.2808892538654033,-0.06741982874296101,-0.01144598287427347,-1.1575715567848557,2.4038655037080385,-0.1607767933394807,-0.35940012609993643,-0.8487176560778394,-0.27892816090087,-0.4625163199865101,1.0350968247720151,0.40172790252221824,-0.3181162703998639,0.31928216929986875,-0.23384766794332276,-0.9916349296430327,-0.14049070334680328,-0.41447028236979305,-1.5788444331356721,-0.05077671683698213,-0.09335696459651954,0.8403243433035226,-0.8067713876949417,-0.5791162272996807,-0.031058121345834737,-0.09335696459651954,-0.0907278320669724,-0.15945497816539783,-0.2226780000506043,-0.3462640134862646,-1.4993311241803178,-1.0541918586082613,-0.2153322703586081,-0.057723373437059765,-0.5898049883657315,-1.2601558224864604,0.05234199941914452,2.4021116030587444,-1.5749162991585026,-0.12094369150591928,-0.12307839238578928,-1.8246581677355336,-1.5126257120521964,-1.6445960827593764,0.5189850621295395,-1.3054348680930863,-1.4052001075649039,-0.4613337527469283,0.40306170279135545,0.6250853301791421,-0.06790791635762439,0.25465250615348534,-0.23384766794332276,-0.41447028236979305,0.18075406047580472,-0.22273671166702727,0.16190380276762525,0.4085511453338318,-0.9201688958806287,-0.22574513207802777,0.7262730007718329,-0.059552711794041806,-0.29438616408336116,-0.1607767933394807,1.0328668616665788,-0.014884671727547927,-1.5430154954836535,-1.7483383034078595,-0.2122692898536666,-0.04697012841119578,0.5693659781243425,-0.3211133177732661,0.0465815337472409,-0.7147634828649342,0.8841672688406723,-0.22757386989316536,-0.09335696459651954,-1.332408795267331,1.7458247991419527,-0.2619593641155435,-1.0295493739087018,-0.19136583048710587,-0.1806226144264712,0.1484240337644454,-0.1723224597268565,-0.3226154473711152,-0.23384766794332276,0.09006743600556073,-0.1806226144264712,-0.18721768596275926,-0.31270732612202073,0.5612149196744302,-0.0934405543583781,-0.1347731375955282,-0.1806226144264712,-0.05529925961058798,-0.33259277409849036,-1.7363895469485777,-0.10250872611028371,3.439334989626575,-0.9472739644271009,2.626463966669709,-0.5227723858803947,-0.13737700857372703,-1.7491371915431768,2.6828417319369176,-0.6393803227518298,-0.3482376250974764,0.6382969212450342,1.327830405472771,-1.6032583623499461,-0.7826839500421721,0.5357341106883411,-0.3867298557015588,-0.09335696459651954,-0.2207115273223198,-1.5376159223306294,-0.23368922685978039,-1.27011893930182,0.008817378079876982,-0.11359486759947841,0.0991674240342789,-0.30839368683134677,1.7526001787766374,-0.019826948142494707,-1.6798615333098486,1.9353568472052507,-0.026342770966726613,-0.019587224470455238,0.580747986216859,-0.8026071880732164,-0.13703158439242488,1.994309029142593,-0.04697012841119578,-0.14049070334680328,0.2253841994384152,-1.8081641476081296,1.3492956291761287,1.3347768201786812,2.578884906815189,-0.09335696459651954,1.1058124363565203,4.64113674973362,-0.23384766794332276,-0.1806226144264712,-0.09335696459651954,-0.20033866426518945,-1.1551456034481378,-1.730578136928489,-0.9721833803128498,-0.23046001896279839,-0.2071277823861036,-0.3167189478416028,-0.9666323127010056,-0.13609633341513327,-0.06741982874296101,-0.4255872146384661,-0.884282409227764,-0.06741982874296101,0.04738394619062932,-0.21187581828499416,-0.17093571886334485,-0.09335696459651954,-0.4341298903918272,-1.098595144684358,-0.11753234848105222,-0.17708330241691694,-1.8033459306197974,-1.475249068837431,2.7687920640662504,-1.665398402483176,0.8502039102074938,-0.8150990433990368,0.8345703217307762,-0.5080847783287225,1.622985899766209,-0.46296656925632435,-0.9472739644271009,-0.18060374148196634,-0.027256719087032966,-1.4387075269199903,-1.7313683849110733,-0.1316560339446272,0.09127042753460912,4.815048398270569,1.54927857850322,2.1754935006368536,-0.06223093006418375,-0.43831716600160653,-0.045602804304684816,0.27647549339022276,-1.3414427073564565,2.926034595852609,0.6646535498374003,0.08218696640835951,-0.481890111112738,-1.742314799214517,-0.23384766794332276,-0.004566146489504746,-0.08775826416683065,-0.10037445616302239,-0.25048523307463094,-0.3030867601967069,-0.9028787585006421,1.213835053402182,-0.41447028236979305,3.540987315462617,-0.48960914290226565,-0.019826948142494707,-0.41447028236979305,-0.11851885368848054,-0.21202214995099466,-0.07641871969390643,-1.2896179886485009,-0.17161338331176956,-0.1757791666449125,1.2147402671917085,-0.06964342173285738,-0.5791162272996807,-0.23384766794332276,-0.3631309289319393,-0.17161338331176956,-0.3211133177732661,-0.0649957149164871,-0.5748475879204407,-1.2371485869582584,-0.43633377179947463,-0.5458578272522778,-0.06679707655368632,-0.1532790889666045,-0.3267893176435759,-0.207910532089761,-0.18306540433167964,-1.7785307225823912,1.9442819385207202,2.5375636596753233,1.3664688840521864,1.362763976891225,1.2355428679338865,2.094386411225336,-0.8995067160758732,2.7746268358017097,-0.5551291976829001,-0.004462651282366921,-0.4262606773428169,0.5605039979708059,-0.08556864278622009,-0.8138355718458593,2.8963968903994988,1.7647542740476168,-1.2823659005815224,-0.1607767933394807,1.654298336088748,0.7114813736843598,0.8089223523847215,0.9130653011474988,-0.9328762872542489,-1.5555364298116023,0.5322110716138106,-1.6680921643296447,-0.1607767933394807,-1.6988147647173253,0.24986163587149288,-0.060019203429707846,-1.5686180820424203,3.138308812472398,1.5450548598872258,-1.5788444331356721,-0.06678258827576218,-0.2135663723064278,1.3933406582147125,-0.258244905180274,-0.015260801652989174,-0.06741982874296101,-0.004566146489504746,3.004934715112294,-0.09067800085711977,-0.24353017292350457,-0.7675481652596075,0.28113116332171656,-0.09335696459651954,-0.5905249720403452,-0.15108033803357726,-0.23384766794332276,-1.1702624231984025,-1.6606789770861003,-0.2480092472726561,-0.08996931561599525,-0.4874399592276255,-0.17708330241691694,-0.8404519387932013,0.17150766246943322,1.1191483398683233,-0.20711396222623837,-1.128232929285354,-0.09335696459651954,-0.2128825392361402,0.12407780342753097,-0.0649957149164871,-0.7509195390162412,-0.09335696459651954,-0.13220856772201853,-0.23384766794332276,-0.9254309036041652,-0.6732559415998474,-0.14375740358647912,-0.09335696459651954,-0.7758291771629754,-0.1607767933394807,-0.14049070334680328,-0.36189623765879886,-0.5192318690446898,-0.1675616170367958,-0.06741982874296101,-0.13609633341513327,-0.14049070334680328,0.11365390698112411,-1.646264261878595,-0.2153322703586081,-0.14049070334680328,-0.4277791408600909,-0.2836246195628445,-0.08863619183465776,0.7483401934471807,-1.3283296850740378,-0.012798166891842511,-0.9228929458017524,-1.0215208676405176,0.391252838680242,2.6636097659510405,1.447259649016278,-0.22300772340367092,-0.12965075880715107,3.791846552698774,-0.8467996605514149,0.07702555042398847,-0.7675884400615229,-0.20774692175067916,0.14274847469838614,0.19350739089907815,-0.15110929686559252,-0.06837569454333321,-0.8413708751079767,-0.4821169313782986,-0.0348128732207499,-0.481890111112738,4.4786571177736905,-0.08474629223232848,0.6290820020576301,0.20313558317088384,-0.4560672830292359,-0.34677483928651215,-0.5791162272996807,-0.4350454489847462,0.8842156414821906,-1.2743870287445507,-0.481890111112738,0.7876220111752537,-1.0235353229115929,-0.15136136019284147,-0.06741982874296101,-0.026209893692882857,-0.1607767933394807,1.0270013325471208,-0.13656620695743676,-0.23384766794332276,-0.16260525960925803,-0.21651040416775555,-0.8129638952429911,-1.5555364298116023,-0.23384766794332276,-0.06741982874296101,-0.207910532089761,-0.03780285507301111,-0.08996931561599525,-0.2734423765055107,0.048937634927848694,-1.5430154954836535,-0.2288304804788921,-0.059699507682071086,-0.1772626377510857,-0.1607767933394807,-0.15478989928311782,-0.6724731918961868,-0.07641871969390643,1.025437763218789,-0.057723373437059765,-0.14049070334680328,-0.0780926958475303,-0.06741982874296101,-0.08996931561599525,-0.7105976995317762,-0.06741982874296101,-0.08658166663547247,-0.09335696459651954,-0.14049070334680328,-0.1757791666449125,-0.24633950657968207,-0.19136583048710587,-0.16661319391689403,-0.3482376250974764,-0.30575578764126937,4.229745843368891,-0.3402522241639739,2.6923409475062945,1.8555878114929285,-0.22718263124382213,0.33922443870721497,-1.445205883309219,-1.7413670710544895,0.25757157266420844,-0.4897909455600708,-0.045532967000155196,-0.20287869889781318,-0.36150070193968314,-0.3027012675636397,2.2872735651054574,-0.3883695361771403,2.746194022786626,-0.05372543117233825,-1.3163582204724014,0.5229439874501474,1.75809114685346,1.7238079968602995,1.1157219786128107,-0.3280194224074322,1.9470540236746112,1.9614509077998419,-1.159624620295082,-0.371084226154396,-1.4575215340515315,-0.07586872691440905,-0.11438995715416027,-0.06741982874296101,-1.2337997543983434,-0.23384766794332276,-0.6357193630637408,-0.5288602395239388,-0.09335696459651954,-0.27397957902299436,-0.2071277823861036,-0.1806226144264712,-0.8711843121984203,-0.9700370189230755,-1.21136156993327,-0.14049070334680328,-0.043914370631800294,-0.22368472100174983,-0.6855330913603264,-0.0528751457841118,-1.4400995743681984,-0.3696703921287277,-0.3047573687271253,-0.30048474698262306,0.4516484779102785,1.2291293975407664,-0.5342234735299363,-0.3211133177732661,-0.5966809002351642,-0.13995385593795787,-0.4077555631896424,-0.13638203283464315,-0.2071277823861036,-0.16661319391689403,-0.3883551724492009,-0.04931752784972265,-0.5881124656799227,2.000613299229225,0.1561251613788546,2.4702763652369315,3.3749143387578395,2.853211008008793,4.132826961318522,-0.12199097211587334,2.4054400595234733,0.6304401290378276,0.5075922671242042,-1.2548284866772774,0.7017409902381508,-0.286893061469066,-1.56057945258091,-0.5386972048049385,-1.4255159441447052,-1.7280356235777163,-0.9426146540501211,-0.8950098905477075,3.4651872125997767,1.6196336328053016,-1.3455784752299602,0.9166224219908351,3.423991746588598,1.9882800930673896,-0.47704546099397355,0.0903615935822828,-0.8755402762043882,-0.23384766794332276,-1.149127285301734,-0.06741982874296101,-0.684257875123295,1.694503270253413,-1.7037343492527324,-1.394759636472125,-0.9097189587060356,-0.186799201580429,-0.34115752516320885,-0.535875232995323,-0.1607767933394807,-0.05948047479129228,-0.19136583048710587,2.0366564633974615,0.14789747599354633,-0.10954172950120826,-0.39554556909343,-0.17161338331176956,-0.0649957149164871,-0.3211133177732661,1.950994154301692,-0.09456869164176086,-0.1607767933394807,-0.09335696459651954,-0.8129638952429911,-0.04254222988867839,-0.09335696459651954,-0.5316021403503024,-0.1757791666449125,-0.1806226144264712,-0.1418984990520908,-0.1806226144264712,-0.2916591034107928,-0.7968912875635166,0.34354254339605617,-0.6732559415998474,8.005104636491295,0.5960168625166163,0.8416681481710887,-0.016082368395900083,9.56495735049069,-1.263848826358711,-0.1074516271999264,1.6931877646776,-0.2918895307944571,-0.143907868793026,-1.2776656666723136,-0.4909101772624458,-0.11206352629777862,-0.45101924560710327,2.174992445833117,0.771899355505274,1.277766986993263,-0.24640886869426787,1.01117174512269,0.3203782977859468,0.03418997962663997,0.002132200425594169,-1.551505239646904,0.8084424971489319,2.4191993420627775,0.5355874260467142,-0.07376887108524209,-0.3595245004837261,-0.9926721341849404,-0.15538824399741294,-0.687598784773324,-0.393067713232598,-0.48548564996796945,-0.7354868716640678,-0.30126749668628283,0.1289282877559413,-0.25311480454073465,1.7231255048537628,1.6867884287556862,1.7911595392805733,0.41177306976944583,-0.18434236347448346,3.800778116774461,-0.09335696459651954,-0.08457266416097488,-0.13614639526407085,3.0374457319362964,-0.6160697111912682,0.3196978655598952,-0.10094137396182278,-0.20215025828027053,-0.14049070334680328,-0.14049070334680328,-0.36167492142247015,4.93333102533906,-0.4407680679762255,-0.16233006543357828,-0.3364950619862186,-0.08996931561599525,-0.1806226144264712,-0.21559087223745269,-0.19136583048710587,-0.17708330241691694,-0.2859583583199518,1.2153325876876464,-0.36753368890244476,-1.1716413341012277,1.1743963099047618,0.48169811685868724,-1.0897189263783806,-1.1531974830653036,0.824949860149639,2.1034798828894816,5.578276023839409,-1.2787813986762406,-0.14943946085483167,-1.6025065582228193,1.1636484351310559,-0.8885882119584316,0.5476175380708272,-0.9273538523971845,1.6704074099718182,1.8268726741334285,0.21994907973676867,-0.2206645581483227,-0.35440595397742014,-1.0430556955408974,-0.6058361128568907,-0.2934854777741021,-0.12373863057389858,0.4766089951359438,0.6758398652868479,-0.20774692175067916,-0.4184010682958457,-0.19136583048710587,-0.481890111112738,-1.335255363640321,-0.10432644887919228,0.6651260935376959,-0.14049070334680328,-0.13609633341513327,-0.3462154515733956,0.2229679422329923,-0.3211133177732661,-0.1843652700881431,-0.3959548847850733,-0.06741982874296101,-0.1607767933394807,-0.15767343459663488,-0.06741982874296101,-0.03933073396270756,-1.1709567353281012,-0.5282411001593741,-0.06741982874296101,-0.1806226144264712,-0.15350445186005607,-0.46008064038163315,-1.3507059179049734,0.8692284382098342,0.5957129746763175,-0.08658166663547247,-0.30126749668628283,-0.5690020024720325,-0.9349392010051083,-0.13609633341513327,-0.4614053407695824,-0.14049070334680328,-0.35021060519800123,-0.5791162272996807,-0.388971927493088,-0.7528845903965126,-0.13609633341513327,-0.1757791666449125,-0.581559017204884,-0.08319401765494784,3.1729758635417826,-0.04833323174364907,-1.009998543749979,-1.298267356649842,-0.6825782837711875,-0.20774692175067916,-1.1625130708981992,1.1271781887626868,5.257129728902365,-0.22291661374183713,6.241262400355128,0.686428021758409,0.8605064709295633,2.7538320409370285,2.0631921861028153,0.44564321912973137,0.42621867406439085,-0.1401323559360612,2.5373552316284242,-0.41408029078488784,-0.16344201160653568,-1.2362726873750374,1.9605646178601805,1.8618616806227237,-0.34410667802942924,-0.09339127597074598,-0.06741982874296101,-0.07239275503248199,0.16119457645441185,0.7823830934846716,3.142837892589218,-0.4320667949912935,0.29272419737875405,0.1275326087459769,-0.11286207826446384,-0.04697012841119578,-0.040858612852404136,1.6115313302019454,-0.12965075880715107,-0.6885672875253093,-0.2125350004153544,2.3120390140078446,-0.23243199210976317,-0.15011680287953202,-0.196665131996284,-0.3411437547689444,-0.04697012841119578,-0.09335696459651954,-0.05961310295199595,-0.8715949841226343,-0.1806226144264712,-0.6232188652303806,0.8295384706978178,2.8568947066582533,-0.1757791666449125,-0.40932798385159314,-0.14769268905305408,-0.06257160109001449,-0.07980636867442409,-0.09335696459651954,-0.27397957902299436,-0.14049070334680328,-0.307709716726912,-0.5563951775551357,-0.25718524971756324,-0.6009926650753302,-0.20685836300335145,-0.5288602395239388,-0.6138258832318063,-0.18660498779704776,0.22215910991277957,-0.6272157880675565,3.65828644133138,1.0748515380352897,-0.5288602395239388,7.169779450049233,3.3481448861900893,-0.8873693787878049,2.1900862172842883,1.5975638552810385,0.14351969677723575,0.9569657486895667,-0.009696728398663796,-1.1886555989634366,0.08198784112058947,-0.06741982874296101,-1.3354805398110074,-0.4072769059527826,-0.40687454517434696,3.047349102012205,-0.03991338560930023,-0.06741982874296101,-0.3895144598426172,-0.27647471838953974,-0.047948305329573414,-1.2896179886485009,-0.1607767933394807,-0.10698933184090308,-0.15253263588236568,-0.46534540951008213,0.08511073258350886,-0.6055254570763923,2.9826653747426968,1.0154421763321824,-0.25418712036652336,-0.21525959696196373,-0.07654205063679782,3.1074348941524104,1.5860689172243003,-0.13606916343905845,-0.0057315549452852995,0.46046704109362757,-0.07896952430350318,-0.10926050421874078,0.6726863278495028,-0.0649957149164871,-0.13645337207608244,-1.1388591292157306,-0.14049070334680328,-0.09335696459651954,-0.11286207826446384,-0.23384766794332276,-0.10299831545505786,-0.6058361128568907,-0.23384766794332276,0.87985659684903,-0.37198844491357863,1.145241162109641,-0.029054709824562996,0.045430548261830093,0.23010533581083664,1.3785785174537681,-0.10369480492627856,-0.19136583048710587,0.07392113085976207,-0.46431263138607953,-0.09335696459651954,-0.2780026577581651,-0.15156192773711033,-0.04697012841119578,-0.5693778605037892,-0.06786107380269994,-0.1335660878420962,-0.045602804304684816,1.9013566281129635,-0.09335696459651954,0.2841759277147967,-0.39952735693048774,-0.5645858839549951,-0.299141468114947,-0.14049070334680328,-0.21251505310904426,-1.0717626954590247,-0.729115544992768,-0.4496965327375524,1.7420855479267499,-0.5806416539083307,-0.15391612950337233,-0.07958321346749157,1.3742350648791914,-0.11995319013616063,-0.08658166663547247,4.089534730914335,-0.9900292089665808,1.5507756395096755,-0.7270393183844474,-0.30868923495512063,-0.18202621228433957,-0.8182810674728415,0.6399960434098169,-0.14526857522657607,-0.08319401765494784,-0.8030088470313405,1.7642567403271552,2.58332941321147,-0.7571060245292992,-1.3734760705582378,-0.6023219718934011,0.301567781078548,-0.3085085749500358,1.270501492187182,-0.06964342173285738,-0.06684137819109626,1.2355923246241596,-0.08556518222031244,3.44554905218182,-1.142686122755752,-0.07750951005989912,-0.002925814105384624,-0.9378538113600644,3.5660781798593675,-0.13609633341513327,1.7070354032845787,0.6472437022980984,-0.29016434392767143,1.7308892300921357,0.5563676374062451,-0.07635954803578074,-0.1660922710817857,-0.04544224952149676,-0.44110211342942757,-0.09335696459651954,-0.161612446129956,0.13301455611622715,-0.060147487263535394,0.4716771551030949,-0.01471582754174444,0.41507891070736674,0.28652302244385053,-0.10710050430441109,-0.17174280253386198,-0.3787125800121951,-0.3477712060057675,-0.27557228013771895,0.07506192829515156,-0.39849361287321156,0.23112826830471253,-0.14049070334680328,1.3489017855463776,-0.12882737384234177,-0.3636880187581437,-0.19136583048710587,-0.07303107071338218,-0.31510843368873703,1.464751195469049,-7.499834173604121e-05,-0.2071277823861036,-0.11899347036904906,-0.48257092793739875,-0.39849361287321156,-0.18660498779704776,-0.34503048823689497,-0.289207315699301,0.19514021279438112,-0.08658166663547247,-0.10973011382515162,-0.35582297370540544,-0.2226780000506043,0.5610970175378235,-0.34894750962178156,1.9967616723396353,-0.083727449460508,-0.19587656566824896,-0.138935695266207,-0.08775826416683065,2.8590656123228277,-0.12397914618939679,-0.057326353097905416,-0.05529925961058798,-0.4238450006344822,-0.011665210734032302,1.1521384167134012,1.0378678537330752,0.7634198201926706,1.4516717245741517,-0.05678118895173472,-0.7327057601940524,-0.1417419106451645,-0.12485355239277322,-0.10251062821746032,1.0848416169330868,2.619514305149497,1.6095909218183804,-0.3123245779099477,0.15171249128973968,0.8892432094609031,0.13030916529541164,-0.26353743081173325,1.5492480855979884,-0.1336345658567431,-0.6952107678137304,-0.5388471057665805,-0.3136678618875292,0.7210166159396867,-0.09335696459651954,-0.3162698699917035,-0.274129385286146,-0.4600268267057883,-0.20774692175067916,-0.09335696459651954,1.4833402498240753,-0.01170366790687783,0.5369576130418021,-0.143807996554152,-0.1607767933394807,-0.30368418582679124,-0.08996931561599525,-0.6820517023856204,-0.6273637567107032,-0.32810696419851015,-0.23046001896279839,-0.07273463152852529,1.264705885968933,-0.09335696459651954,-0.7354868716640678,1.9780415761254135,-0.6554867540251582,-0.01362587931925406,-0.34850785608179297,0.8872910745331325,1.0764864715669384,-0.23384766794332276,-0.09398501731941324,0.8700262092673039,-0.06741982874296101,-0.28472279508363174,-0.6982395013406699,-0.5962318223852583,-0.14049070334680328,-0.2146625066853802,1.722277992489244,-0.1660922710817857,2.14794148694441,-0.27181346072298557,-0.3094352090028084,-0.42718980815917923,-0.14049070334680328,-0.24349073819829053,-0.19633450498499452,-0.2071277823861036,-0.5813868495138593,-0.5236830387639335,0.15596515129705973,0.17145310623339635,-0.015260801652989174,-0.12922541597269355,-0.3111132654561226,-0.8580713617290988,-0.015839250404962427,-0.17267444425687295,0.07976886784025747,-0.4032750474884808,-0.08542127700212299,1.4944692893371796,1.4903425659911138,-0.7419917629617205,0.0129270326276436,-0.8573796423035568,1.1338154566402854,0.72610795749955,1.3117272363123413,0.04884883904080006,0.5185769287940238,0.3093086782085142,0.14106835253068262,-0.02727242053058101,0.6143313699874666,-0.341891059814373,-0.02408036267586441,0.16620898032572085,-0.20097162378962893,-0.3211133177732661,-0.06741982874296101,-0.5796337375786843,2.3583361029466023,1.3289372475156036,-0.06741982874296101,-0.17646114959926498,-0.12335313668815076,0.021099419261845123,-0.11861410264478946,0.48943452302359447,-0.5517276108185178,1.697272149822652,-0.21455754621697976,-0.23753574836722371,-0.05841365029425026,-0.34070166796290424,-0.09335696459651954,0.204630010884602,-0.6058361128568907,-0.05270517683024667,0.764903662439813,1.0560847307715688,-0.20548641826328404,-1.0282961656015766,-0.9444233294450409,-0.13170196348347296,-0.3959966902800509,-0.13609633341513327,-0.5205062152586509,-0.3908029694709515,-0.08658166663547247,-0.09335696459651954,-0.10375871248104623,-0.18660498779704776,-0.2153322703586081,-0.26946519047051426,-0.07457012419645401,-0.3576233117519017,-0.2153322703586081,-0.3907021213118769,-0.182240161856919,-0.3282792173414329,0.004725508634027411,-0.007928027957213254,-0.1170560932616681,1.0042752950466443,-0.13784474569323266,-0.12965075880715107,-0.1868120817395788,-0.27749243293065173,4.579640117794544,0.6993396003213103,-0.28666699401595797,-0.1607767933394807,-0.5152280518790648,-0.1691633511549541,0.7560333027166447,-0.0778226768336537,0.1383159928972375,0.8222329514213521,-0.5264361256974724,1.5457891597322237,-0.15592856568652208,-0.004566146489504746,-0.07384868435506968,0.8605526871993526,-0.015260801652989174,-0.2833728387879022,1.2300235588839836,-0.27454567802015445,-0.23046001896279839,1.2652263586190844,-0.2171959605966669,-0.09399834962037305,-0.14049070334680328,-0.12882737384234177,-0.11851885368848054,-0.14318191133651545,-0.2885996930903349,0.44438083957400226,-0.06223093006418375,-0.13170196348347296,-0.8225166056313207,-0.13933333287120583,0.12338644638616889,0.7565983930222252,-0.2602773200718646,-0.030194489222141033,-0.15884812998068348,-0.12291322362014612,0.5403282791870626,0.4336766204431287,-0.20774692175067916,-0.04697012841119578,0.42684592799379417,0.195542504134895,-0.10973011382515162,-0.3329758787259454,-0.14865622420709876,-0.09302381372902475,-0.35817286505634144,-0.12291322362014612,0.25868652066633796,-0.1011985865970735,-0.2241862209126426,0.982325656304578,1.7469748369130014,-0.019826948142494707,0.04456197521353728,-0.14543021018019117,-0.10973011382515162,-0.09335696459651954,-0.3211133177732661,-0.15367375102955186,-0.13560584750816274,0.1611639398884315,1.959315301326821,-0.44037291795418604,-0.14049070334680328,-0.1723224597268565,-0.06741982874296101,0.49430179830075033,-0.14049070334680328,-0.09335696459651954,-0.14480208359091862,-0.15735254132774193,-0.2287351406410263,0.05270211043343158,-0.48589190894051754,-0.0007475385342700959,-0.3186734240389201,-0.08859710657681939,-0.5886317543359312,-0.4342863623548098,-0.16124882330022744,-0.19136583048710587,-0.06733691351666102,0.882075334303963,0.23619454939439308,0.41383363596232375,0.6885550841863081,0.23366675740200607,0.08803805393396676,0.040278569851582374,0.015070718518065676,0.706717625258565,1.7614702481198539,0.7192119993189192,-0.03249271254034205,0.2939427824550306,0.33630371515784396,-0.19009476875248602,0.48720489685759816,-0.11025784819534386,-0.11557015877153318,-0.019826948142494707,-0.20680056112057246,0.005074167280913271,-0.04086385170089646,-0.12371258293170848,-0.0914717738086921,-0.3211133177732661,-0.5864623217306576,-0.21573538192423497,-0.05764729339509043,1.3786312170005792,-0.10469350184825503,0.1613265739891686,0.4147379964157384,0.118914120319614,-0.12757790580620323,0.8557104455300026,-0.2944490129281452,0.04276225005202275,-0.023785779866408452,-0.22713471685118003,-0.2884897926799242,-0.4007154433479094,-0.11866760260554912,-0.4717242821163096,1.0627250192780786,0.10227833126897029,-0.13218813661086676,-0.05186169352811583,-0.12291322362014612,0.3691987754741219,-0.1607767933394807,0.5271449589592176,-0.056236214840488935,0.4093329524173693,-0.12786383868829831,-0.08996931561599525,-0.17093571886334485,-0.12733624328720144,0.03199768927012756,-0.22707236998227356,-0.4732942810394161,-0.08319401765494784,-0.12072274844952761,-0.1806226144264712,-0.08996931561599525,-0.20620955739734895,0.09450203838815541,-0.12104853063492534,-0.1914811304350732,0.6998308725747693,-0.004203676055587962,-0.06485188871125881,-0.13609633341513327,-0.14699803598779385,-0.11412448375681611,-0.1806226144264712,-0.12291322362014612,-0.26381663208141753,-0.06741982874296101,-0.07980636867442409,-0.1418750321739811,-0.08996931561599525,-0.08658166663547247,-0.09335696459651954,-0.06139204457684877,-0.4888761973854586,-0.04075457665173563,-0.37198844491357863,-0.15254091670600836,0.11017834824676387,-0.14049070334680328,-0.19136583048710587,-0.3624667595334568,-0.14049070334680328,-0.04931752784972265,-0.14049070334680328,-0.20978937308543574,-0.10250872611028371,-0.04238649174210295,0.46266248373873803,-0.20774692175067916,-0.04697012841119578,-0.003092347797096096,0.030441541853865182,-0.1968050290386177,-0.11438995715416027,0.7792454545731513,0.3382297723749602,-0.056592059655341274,0.0037214429603302968,0.3530645450088979,0.24439379449853516,-0.039610385862196375,-0.0351496129857024,0.608900333927498,-0.01471582754174444,-0.07676496185119161,-0.10675056270566989,-0.1336756014952994,0.20318046594977696,1.5256595809700133,-0.12291322362014612,-0.08319401765494784,0.3921176445790882,0.47788227502030367,-0.19152315589603783,0.046686743469476044,-0.28428606598657286,-0.1806226144264712,0.04290747428667723,-0.08307903791161592,-0.16451949449835207,-0.06741982874296101,0.15816654891020154,-0.1637074850038801,0.2411540029028212,0.47103779905006016,-0.06741982874296101,0.03599002331293835,-0.04238649174210295,0.392437884507876,-0.024199385453086114,-0.12965075880715107,0.3209685677262486,0.7534922060549543,0.15908588635099222,-0.018828285463932653,0.05707360853096462,-0.22053878413393857,0.4441753287635953,0.025803107745473067,-0.06526919766399028,-0.008513622119248509,0.17812852887419428,0.28850837592504003,0.08467810260844133,0.5982598553356755,-0.11537066683215061,0.3477087982908593,-0.3079029456285613,-0.14032709300770663,-0.03408681492486314,-0.04544224952149676,-0.07641871969390643,-0.02731355938027501,-0.029810564211383474,-0.0649957149164871,-0.09335696459651954,0.39907950644041656,-0.20774692175067916,-0.009305996249077322,0.005800165205925035,0.03289213727966318,-0.03780285507301111,0.012575927530719018,-0.033077574036061756,-0.033310298206495906,-0.157389144358956,-0.1757791666449125,-0.04697012841119578,-0.043178690478208895,-0.030163460624523734,-0.09501132272421668,0.004170605810659833,-0.14049070334680328,-0.10219267363383308,-0.060147487263535394,-0.1473076864278787,-0.23384766794332276,-0.07980636867442409,-0.28563243576046154,2.0294061245933332,-0.21251505310904426,0.8718159922150687,-0.31776972821009886,-0.23384766794332276,-0.23384766794332276,-0.06741982874296101,-0.13565785156709115,-0.1806226144264712,-0.19136583048710587,0.009408360236746792,-0.13845103717554097,-0.21050161120675162,-0.22608217509352244,-0.08658166663547247,-0.011380757203642428,-0.19854750996315035,-0.18830860708732727,-0.1762384794367682,-0.0649957149164871,-0.01714772035823285,-0.04238649174210295,-0.14193487829472481,-0.14049070334680328,0.022272382836620162,-0.06831618382861064,-0.13609633341513327,-0.01144598287427347,-0.3211133177732661,-0.11851885368848054,-0.1607767933394807,-0.08996931561599525,-0.08090324459664884,-0.04314806767643097,-0.013080905208009357,-0.13995385593795787,-0.13170196348347296,-0.01412917136012276,-0.06257160109001449,-0.04630012361192648,-0.01337854435148241,0.058235799776790345,0.03342192452917663,0.08200267555843926,0.2060446183160385,0.09114085469855762,-0.006400213155941166,-0.06804434275802149,-0.0009971954168366654,0.15541863503478467,-0.016390659695262613,0.14012512258404106,0.16446910803787446,0.036526466763850685,-0.051866665059473585,-0.002237460110988946,0.05136174875432129,-0.04389638338781307,0.01624327774704973,0.03356164829909567,-0.12205207588129978,-0.08619682617323259,-0.06223093006418375,-0.06015807706324163,0.12676860780898608,-0.04544224952149676,-0.11438995715416027,-0.11673735659268591,-0.06223093006418375,0.001002869092615028,0.11368387784828066,0.6393844059967456,-0.09492033215440554,-0.05393951806041567,-0.019826948142494707,-0.02039205458291158,-0.060147487263535394,0.01579793675442635,0.000455358398343385,-0.042178527138475364,-0.029405996894029104,0.12630140646860658,0.048408853767206605,-0.03681831470695037,-0.042261461054079796,-0.021361666039932847,0.12064248710560166,-0.043178690478208895,-0.10026560332574114,-0.2260656490311248,0.03863659986939186,-0.026237085123538183,-0.0098110605405384,-0.10279856998949355,-0.043914370631800294,-0.1418376480753182,-0.17095228182177877,-0.11438995715416027,0.07802700084554846,-0.23384766794332276,-0.12462765447576675,-0.13609633341513327,-0.20372631324571444,0.16448977749306867,-0.06741982874296101,-0.14672915389900848,0.11568848468751403,-0.09335696459651954,-0.22945329801164951,-0.39373277018314906,-0.19136583048710587,0.019273439795312142,-0.030631455055201904,-0.2071277823861036,-0.1607767933394807,-0.015803646548527877,-0.14049070334680328,-0.30587078760428404,-0.1418750321739811,-0.13995385593795787,-0.06741982874296101,-0.17093571886334485,-0.11412448375681611,0.023895739849485693,0.010746681248431816,-0.0025688211323826524,-0.0012372708943011901,0.013622826243000976,-0.004392869254606893,-0.015260801652989174,0.050681065807668284,0.013077852131755162,0.018527593244206858,0.00442181761754497,-0.04697012841119578,0.014145027176704988,0.016347696799226256,-0.004399702709744416,0.012910450385313719,0.001633395795608513,-0.015260801652989174,0.22040867728586888,-7.216443597994108e-05,-0.013080905208009357,0.023977334356657668,0.0020916047009023535,-0.0009043833347808054,-0.003733927590703916,-0.04544224952149676,-0.013080905208009357,-0.0649957149164871,-0.04802691813116005,-0.0010708271145410397,-0.0021814229831070876,0.13331958057310414,-0.04697012841119578,0.005087592736585555,0.012617148287007648,-0.04238649174210295,-0.04238649174210295,0.06348231788670042,0.2521832314167912,-0.08658166663547247,-0.04697012841119578,-0.07980636867442409,-0.014170853430499918,-0.040858612852404136,-0.09335696459651954,-0.019468308396639895,-0.01471582754174444,-0.04802691813116005,0.2162014889546327,-0.04544224952149676,-0.04592987886920227,-0.013080905208009357,-0.009241096907557188,-0.026209893692882857,0.004884855838638273,0.0038132922405889726,-0.07303107071338218,-0.06257160109001449,-0.05529925961058798,-0.015441038044496725,-0.08996931561599525,-0.03474709729361475,-0.048208934781858434,-0.11851885368848054,0.10998425246716054,-0.18208618095478607,-0.06741982874296101,0.12952659354912577,-0.06257160109001449,-0.07018078444017417,-0.09335696459651954,-0.17093571886334485],\"xaxis\":\"x\",\"y\":[-0.11350861126648432,1.3046590551099988,0.05107747413748637,0.06500568772714924,0.3076896165462142,-2.0476280657258914,-0.5536690053874556,-1.164671179560088,1.2070540282577216,0.15828634768677455,1.497451545228159,1.428937422199647,-0.46034642798062714,0.5858401175039741,-0.5353268940029512,0.19420559526106995,0.19634742811915842,-0.07340622261825315,0.4416287467183289,0.8600402785538724,-0.9929144393462139,-1.7117136496666432,0.2757381347856141,-0.05421721975198627,0.43551904618871673,0.6300104086860449,-0.6720122974490539,-0.32077380918733456,1.3155084115857987,-3.3452230714826516,-1.09438336663999,1.0037551343630315,-0.46932042147593456,-0.3924618578817777,-0.32975112601865236,1.5326334413698992,-0.6370579296459847,0.54837196717224,1.301375300021281,0.2782382117657059,0.48883888106807355,1.396845744748525,0.0869766783735143,0.23243411296755456,0.5800894671566351,0.4787907318295495,-1.6514703536164872,0.46961427009282447,1.5601963248836492,0.3076896165462142,-1.6520321409728589,-0.5115350620265815,1.1400354874642242,-0.15913813731613022,-1.9169480983264668,1.0121381069450168,0.05056767321475857,0.7093988528194204,-1.4243910292521411,-0.4065341016313159,-0.4413169531246443,1.0435461423906287,-0.26012487191392125,0.23965144993723694,-1.7115056497753232,0.32103139676936393,0.04787638762654668,1.69020918384545,1.6805209300626476,0.16712232952602166,0.3076896165462142,-2.5587411482660443,0.11188007325935063,2.04876478120353,-1.0539730910545457,0.6993241387891558,0.7459067961434004,0.14530352357161733,1.2251886272381867,0.4042856999889749,-2.2735302976654452,0.7459067961434004,0.17854059880700654,-0.13884549930844142,0.02546165784080068,0.1279243708333934,0.3020825811023935,-0.09296651339831946,0.7830860946515791,0.17304785114541887,0.3177793253844735,0.022589501019716744,1.2011354247411936,0.2545730591192174,0.7577766633788009,0.07721426589062,1.0178900550643126,-0.16915017305298424,0.9761454161402,0.49818716647654426,-0.06134970095150063,1.8233338217857782,0.16934336162681418,1.4900354545667442,-1.1483452324512227,1.2157526296900252,0.13095871206491172,0.28381064020547986,0.17553409620510238,-0.7153758460504799,0.21078210205852319,1.1400354874642242,0.8889478313668886,0.19080056344456306,-0.36494394718376927,0.0387044290353736,-1.1648943824314784,0.6807367621621306,-0.12819912273404863,-0.5353268940029512,2.003768578675546,0.2722907939483002,0.7669987460370976,1.7452144266189054,-0.18293502086034324,-3.1456094647153603,-0.6374374192288674,0.7563857130331876,0.48363907778748655,0.5268776926247807,1.9311122632619835,1.7872613155723505,0.20161561253955287,-0.24842281501304925,-0.04364724769409054,-1.0143295014912908,0.47903702868028547,-1.418630127416702,0.9871687583893629,0.24553439518359998,0.5150054717078654,0.8788313188545375,1.0626860802266498,0.15005262568924133,0.571944690474927,1.1463634802558864,-0.06999571930173977,0.6736210984254107,-2.0963901388126454,1.9978171822307305,0.00983783012635786,1.6760185871355355,1.9662785662572262,-1.566804860344543,0.39163452224293466,0.7093988528194204,0.21232720354018902,0.2032988938946528,0.3285721679548518,0.35427227390043126,-1.4421169714026572,1.6239457640535786,-0.08914170192702882,-2.5502724740669906,-0.20710847727458262,0.0005610707991017598,-0.28690407898989706,-0.267413685477648,-0.12182038882123326,-2.0728684066536447,-0.3792072277427342,1.7615396038861755,-1.85321672754381,0.025037389815538488,1.3909738373594973,-0.12479233856540131,0.32007533597930454,1.837587337105535,0.6037180334649314,-0.8135810956610809,-0.6668791182009697,0.5483856165340814,-0.6443743013660052,0.39163452224293466,-2.812197484839817,0.6832925081627085,0.32926689424345557,1.2421706499197898,1.5312996498634104,-1.8751282023225941,1.7569831164000802,-1.2705945817193138,1.1979114396502526,0.556043474665124,-1.4044991183782196,-0.6213962579543306,1.0842680832854206,0.5169077963031515,0.012824584942020795,0.6328872985017423,0.6408041404299278,1.1578927377016017,1.4076128660109881,1.2533872009579394,-0.8019390619103078,0.14289706856052292,1.1814002681091411,-4.328464202634717,1.8613526154990074,1.4885799783306566,0.25408612387657215,1.385238764466612,-0.5353268940029512,0.7984973434087043,0.3842319622279236,0.5495658893500982,0.8674411365420502,1.0749390514255714,1.356419587831102,0.949205690038028,0.8423667327082807,1.6516105378608454,0.4699098514198896,0.07636436074431496,-0.4861078603806693,0.6707930982026841,1.1312007462500548,-0.12819912273404863,0.5972136135632389,0.2534360694832954,1.1783611674693768,-0.3721305961787781,0.09957049934817762,1.6157867113783506,1.566223165055101,-0.40569339562208917,1.224943824823628,-0.8042726323750441,1.5423180997562325,1.2997237767435854,-3.575819045519596,-1.0549124748414727,-0.28871058467756205,-0.17921615704624053,-0.22963234341347996,-0.9891613120230617,1.219142747509208,1.3293345474752027,-0.28690407898989706,-0.013780532776943641,-0.5255319091522941,-0.40923262858744563,1.322421479530502,0.7208243067630711,0.3778787934941714,-0.3760178607863209,0.5753310929307079,0.7840716643678851,1.704648274841545,1.1224373811196866,-0.40923262858744563,-0.2599820985039771,0.3366741675559629,0.7623637593662265,0.279029907624851,0.425677784217351,0.7409931619816698,-0.45546327401795234,-0.037057752823423315,-3.796261218528334,-0.12819912273404863,-0.2779300854945917,1.7711754401700335,1.3507611197761817,-0.26478125456886775,-0.017684274130764795,-0.6954940774638433,1.3331087482164283,-0.1253721960744146,-0.7829287176606556,1.426331035419184,-0.6545520232417027,-0.011048350601690978,-2.484630763446787,0.3337782140543261,0.23062635314975263,0.1948008424369663,-0.5654919148114604,-0.24203411151337578,-0.41024434334393317,0.7904038708973318,1.0611520765572389,-0.12819912273404863,0.8782861619592318,-0.2476018236577162,-0.12978326197518678,0.6117853626742632,-0.24176128519250673,-0.24842281501304925,-0.16739316069546029,-0.8766814424317967,0.2032988938946528,-3.8540974149368834,1.8026887028730025,-1.122335277740512,-0.6428698946770679,0.24387112662971158,1.5091573914568694,0.8623406708217394,1.835217481686379,1.1328181504944712,-1.8029944473431123,0.354013594936149,-0.12819912273404863,0.920077415423183,0.09895386176402833,0.026088597508131705,0.4726664838923673,-2.690473840254562,1.0636711267198617,-2.576701065156798,0.02178116330304976,0.799811070044722,-0.06552600677947255,0.05309211885570231,0.32263966749458256,0.4696074213737125,0.14338514576563807,-0.4039692256909813,0.0009504582666294042,-0.19070905664532,-4.174552567841511,0.299853043333128,-0.627961616217357,0.026088597508131705,0.3219257445726594,1.538955801251366,-0.7019530411872432,2.033565221514398,0.5453284555279582,0.5286346701922461,1.8536010702547527,0.21799943902818944,-0.02851987505853089,0.3736960890732273,-0.6260411110130509,1.9129695439919066,0.346684039660292,1.4900354545667442,0.5026510812809275,1.9683675376131315,-2.158283200303944,1.2479743035981927,0.3076896165462142,0.0869766783735143,0.25668503802776427,1.1387201447488404,0.5769949829678918,0.6510758667340623,-1.141716656305201,-1.7470774998918885,0.8333093025806781,0.14338514576563807,0.007389941330535724,0.14338514576563807,0.9534634964488848,0.9068115667884058,0.5842460559542072,2.104081632390629,-3.339847430851378,2.928056605197833,0.5027036810438797,2.002953578686792,-0.788183924801074,0.7678257547473919,-1.1033260871072053,0.014692658868275026,-3.601934298573535,-0.4820441589987986,-0.7780632679659556,-0.8286120279095891,-0.15073473937641485,-0.6537202852595391,-2.503093483331344,0.32976109961126254,-0.4600978265262303,-0.5345059026476003,-0.7743493900143745,0.9590963420018378,-0.9543952107051291,-0.005032340129331864,-1.9406472372686003,0.10103802938455123,0.7243861507185231,0.9947325903372968,0.02358083883880665,-0.2684018901922622,0.5625532594572896,-0.2476018236577162,-0.4870398985486302,0.18873159246476776,-0.6374374192288674,0.7403314926413942,-0.3507834624973758,-1.0128496143770989,0.01079356746504085,0.6896641166263208,-0.28690407898989706,0.30069204354209644,-0.35494005972702003,-0.5071422680201784,-1.0659065380009871,0.025037389815538488,0.3899125917314392,-0.5255319091522941,0.02546165784080068,0.5711901596206518,-0.0595202797038072,0.06600647252701485,0.4336607180338272,0.23855893709939807,-0.2476018236577162,0.6198393128843616,0.11591350226614931,1.4553056489627487,0.7459067961434004,-0.12819912273404863,0.2731242768228045,-0.5345059026476003,0.11879080931200757,-0.24842281501304925,0.12634223927512636,0.1392430011987295,-0.26081548148175593,1.0876514034560136,1.2798313269912596,0.16811699775293013,-0.2779300854945917,-0.1236193821915853,0.06600647252701485,-0.4802797135379234,-2.1573611697982864,-0.10211052522591513,0.026088597508131705,-0.10273746489325039,-0.12819912273404863,0.4807762430707792,-0.28690407898989706,1.3775245548217787,0.9040564416562032,-1.0110668859248668,0.346684039660292,-0.118631021864826,-0.1250097557776447,-0.03282151732596003,0.13474458977644913,0.1866823192530839,-0.10211052522591513,-0.28690407898989706,0.026088597508131705,-0.09635873098043608,1.4475397071788243,0.16811699775293013,0.024834718173469064,-0.12325386705657619,0.16811699775293013,0.317967029632054,0.5362599153849283,0.0010211193262575319,1.621237973679795,0.4906471588645201,0.026088597508131705,0.026088597508131705,1.5326334413698992,1.6625903035038907,0.04177130143131737,0.2757381347856141,-2.4965304477719763,-0.24176128519250673,0.2032988938946528,0.1421606804378884,0.8720476030923563,0.7135809005048728,-3.160817454589122,0.574499587393941,0.36100435794049235,-0.6069948044829622,0.8667978461716085,0.6235129495237576,4.293973298254596,-0.3329180852116264,-0.5950242060534648,0.47413123020494063,-0.5566672640584356,-0.09074924007723673,0.6213862958368588,0.5893857646711667,-0.533958616840104,-0.7493129674737949,0.420214055629091,0.1432117072298922,-2.8290727164796987,-0.20759266689656777,-2.1012182848543945,-0.6389164999258378,-0.027380010570954016,-0.006269754928266977,0.9683239227905425,-0.5255319091522941,-0.43980007037019736,-0.43980007037019736,-0.18912982952350824,-0.23861708353559852,-0.28690407898989706,-0.20613813753216306,1.3987082425560315,-0.22907847162963355,-0.3412750612555345,-0.2476018236577162,-1.675057154306672,-1.0633423496342982,-0.1341468907192681,0.19286042205189344,0.2425137350111037,0.14127270179836232,-0.8643715667755192,-0.31698128998886854,1.084500846259527,0.026088597508131705,1.4284237074477617,0.06600647252701485,1.5872027043302552,-0.6374374192288674,-0.601430875299938,-0.5739469610894901,0.026088597508131705,-0.2116628631692418,0.4758066142991464,-0.19219824671249353,-0.3929797191940387,-0.2779300854945917,0.2757381347856141,0.9381063636940766,0.501895211807264,0.0663644368636087,0.6876123241933242,0.8495513399761595,-0.41297872350149023,1.0032490286401436,0.1458687257686133,0.6785849349551087,0.026088597508131705,0.3076896165462142,0.3076896165462142,0.4546320342388581,0.3366741675559629,-1.3681260441223506,0.9656317185617552,-3.4709074188544546,-2.258906225051052,-1.1893701230896347,-0.09370573482291948,-0.2838749690952404,2.0410227600535387,0.06890972118124433,0.712679424673326,-0.3370326592202257,-0.7079482516383594,1.4166812732725584,0.7051439542122722,0.465085695038563,0.6146413826262476,-0.2476018236577162,2.715694436346571,-0.7426729309068623,0.46403259042401584,0.8361316398678699,0.16248819179343715,-0.4579440909945309,-2.2065625377968168,-0.7021627762029439,-1.0616019662832474,-0.3698894014923636,0.8112918033771275,-0.19359407115145325,0.7124296821277386,0.27974046353613014,-0.8197498580754176,0.0014033795521065009,-0.906010742769843,1.3510380902391192,-0.2476018236577162,-0.28690407898989706,-4.192025726875277,-0.05938108111952317,-0.6062829772791832,-0.2476018236577162,-0.9091204918460941,1.1021819489929932,-0.5075731755348692,-0.5345059026476003,-0.23861708353559852,-0.5345059026476003,-0.20267812304712268,-0.45939070256212045,-0.4955211255767131,-0.1803725935712719,0.8424075934754072,-0.1783770776004678,0.19420559526106995,0.8327831993962878,-1.4441504742890139,-0.28690407898989706,-0.2119604253716717,0.16811699775293013,-0.2476018236577162,-0.24842281501304925,-0.24842281501304925,-0.1250097557776447,-0.19369338292500363,0.6147701840773037,0.2938634806568456,0.17458188386640028,0.028487973117769887,-0.2689560919992859,0.8051085021850135,0.3007765486015176,0.3076896165462142,0.35427227390043126,-1.012353158894892,-0.526352900507644,-0.24842281501304925,-0.013810094010471669,-0.22064760329136213,-0.5255211625254811,0.7085865455820914,2.691238723486592,2.485268833856908,0.6324551654876842,-0.5370006653978238,-0.31661814987690445,-0.47998411928005874,1.162227088384889,2.235670306322947,-1.9456509635855794,-0.07351582326887356,-0.0794848259047844,1.449700817830728,-0.23706044162990722,-1.4987164071676826,-0.7087454157426651,-1.5222474528303696,-0.5817964518080906,-0.08117777271510333,1.0601630192369387,0.8685336917634893,0.48820688528669154,0.823590992078895,-0.7739547241653453,0.1680135939441528,1.332008495515759,0.049145339802370826,-0.3817487143769721,-0.1783770776004678,0.7406114250756115,-0.21336657298715941,-0.6374374192288674,0.5965543361139661,-0.336199489492514,-0.35583640019078094,-0.17810919391708252,-0.2476018236577162,0.5024354538112752,1.9393624105250085,0.5200971632595182,-0.2476018236577162,-0.6374374192288674,-0.43980007037019736,-0.5054428000091309,-0.2476018236577162,-3.5514826429775455,-0.4960246386707498,-0.2476018236577162,-0.8448270350530073,-0.2476018236577162,-4.813254892252642,0.026088597508131705,-0.28690407898989706,1.1320859596662776,-0.9074658825686068,-0.12819912273404863,-0.2476018236577162,-0.10273746489325039,-0.14547931827341112,0.5169077963031515,-0.05523845021768785,1.1060274674967814,-0.7335168404685681,-0.771653467056757,-0.9235683497151094,2.656363989086244,0.42194468976208593,-0.7409346098592939,-0.9841066471546696,0.48936605880446143,-0.7120171126325228,-1.1033260871072053,0.30472268579536,-0.45874910151803217,-0.66222120903481,-0.8856115139341714,-1.194074512621809,1.0819829643053223,2.952957899847249,0.6235129495237576,-0.26052585292858493,0.08916842475291109,-0.9155206078005413,-0.46134287854824463,-0.3879252897089152,-1.211384380318312,0.1252732740601808,-0.5181129092705092,-0.41008357658006384,1.3568786287043337,0.5596105667412807,0.6638378991260847,-0.8390107115582202,-0.1268203207303109,0.33296612222522154,-0.011965285884844749,-0.2599820985039771,-0.47910232570239186,-1.8665332064336655,-0.6341159679687443,-0.5286653641823954,-0.21594517401815758,3.3428492175889573,0.16714254260919964,-0.6372433675408682,0.4486883812361551,-0.059364220331663844,-0.24203411151337578,-0.19219824671249353,-0.2476018236577162,-0.19219824671249353,-0.3411212987418684,0.026088597508131705,-1.207647691241601,-0.1783770776004678,0.3337782140543261,0.07057374863444969,-0.28690407898989706,0.026088597508131705,0.5960007278320484,0.026088597508131705,0.0733046573764485,-0.14344357528850576,-0.4960246386707498,-0.24176128519250673,-0.42137789833104977,0.7142939603890559,0.4871823343223836,-0.5805209025886753,0.16942012474787915,-1.75040106718049,0.005331791968295964,-0.04227712865766945,-0.1191128088815981,-0.5745413873722724,-0.34883865821772725,2.984064057836354,-2.3011543530910474,-0.4476882603997459,-1.1309361323506915,-0.43980007037019736,-1.0911519800286995,1.0523383384386649,0.6330002901715843,0.7104896278972346,-0.1957270429964297,-0.32299844878264555,-0.37450817049275276,-0.13040752968854827,0.22933069910524645,0.5530612303490471,1.070214710994385,0.6805903810360384,0.3068735922799795,-0.3879252897089152,-2.1733874565701363,-1.20462279934296,-0.19219824671249353,-0.0461866541736675,0.36151954983303575,5.061463095068606,-0.43980007037019736,-0.3108282488405469,0.4564315222171318,-0.6728172018810008,-0.9484808450910537,-0.5858470704422772,0.8062834230620953,-0.7890053589828766,0.5349620734216911,-0.5345059026476003,-0.5683756328450377,-0.28690407898989706,-0.7829287176606556,0.6124123023415493,-0.15851540117250928,-0.2476018236577162,-0.5078108870432999,-0.17357324699290597,-0.3505333402389724,-0.08853947837232327,-0.2476018236577162,0.2757381347856141,-0.10781976569265267,-0.5075624289080567,-0.7742848508153215,0.9247518911463233,-0.17086924162054745,0.16811699775293013,-0.16455590848844204,0.07813700068530724,-0.5142834303779179,0.14948897764635596,-0.8742061294794055,0.42854468644224564,-0.35863991473280155,-0.32403872479935925,0.6769901023508049,-0.40552339605340676,0.4278824485286681,-1.627875643462565,0.259146966687319,0.5927185304723864,-0.4100372428577728,-0.04063378184216819,0.24112805144801921,-0.011794397808873536,0.23577227309695836,-0.5345059026476003,-0.7829287176606556,0.8187763805711022,-0.5812264513902986,0.687079171932191,1.022246463924204,-1.201284428805916,-0.5235153198259057,-2.048219920759041,-0.1626689662859705,0.05903997349352792,-0.43980007037019736,-1.1235564723480993,-0.04251068709345138,1.0633130198939382,0.4962766433605022,0.441112118019143,-0.1341468907192681,-0.07171399059552987,-0.5353268940029512,-0.44629960042074507,-0.6307758894083141,-2.510950219667283,-0.6557452443883401,-0.2476018236577162,1.1367927587570488,-0.9920183818841913,-0.6244431099889617,1.7438236223443162,-0.12819912273404863,-0.24842281501304925,0.428879032107214,-0.11544165490841966,-0.4827578268776929,-0.5345059026476003,-0.44031890114680927,-0.24842281501304925,0.02358083883880665,0.7309184913085539,1.014553486437781,-0.128515278243511,-0.6464547847693548,-0.24842281501304925,-0.15764532393243588,0.39874501101327775,0.7662711556220684,0.3454007070029186,-0.28878705462061466,-1.293160414728198,-2.810279027059629,-1.5861272228711765,-0.08071469841017935,0.4836226567988156,1.5048831923890618,-0.14705463317625816,-0.8608510400793965,0.2882895723438413,1.3158261292829032,1.2738782157396076,0.10430749821546591,-0.06467854382724486,-0.7200785233130568,-0.2476018236577162,-0.5235690529599696,0.9914337880616924,0.6979899468745238,0.5727734547044396,-0.5752237860012963,-0.3142139124649691,0.6431655357255065,0.9413402722438559,-1.1086923347261597,-0.08179828329889358,0.13182964071995584,3.5673008833487723,0.9758887242407225,-0.08030206411355455,1.3702789354804408,0.7388055196709962,-0.1884690466282865,-1.1922499911665307,-0.1341468907192681,-0.28690407898989706,-0.5773256561275667,0.5509529212712088,0.22500306168034478,-1.3768156913881624,-0.06974605573988223,-0.2476018236577162,0.07111639677628327,-1.590127520010966,-0.5345059026476003,-0.24842281501304925,-0.2476018236577162,-0.4536754814289946,0.514567792008211,1.1351597255573955,-0.39374171656139106,-0.5255211625254811,0.026088597508131705,-0.526352900507644,-0.4484917666598353,-0.2779300854945917,-0.19219824671249353,-0.2936368349394832,-0.5398704920459083,-0.19219824671249353,1.206987505003718,-0.4896359351710919,-0.235099755371986,-0.2476018236577162,-0.44204211668756177,-0.36703854890452575,0.01480368349617043,-0.118631021864826,0.593961490291011,-0.12281967468347062,4.336871188408028,0.6063540920353254,-0.9878919681842087,0.7192034845732301,-0.20428220099439082,-0.6545520232417027,0.2921697690001815,-0.6991102723394472,-1.293160414728198,-0.521598353669095,0.4416325892734401,-0.5426815955517029,0.38111387579858325,-0.2683531793604248,-0.23334920183581806,0.8374778034835986,0.7893877962770766,-1.7684069561224762,-0.1957270429964297,-0.8576372249279336,-0.1300029857083825,1.2350014933509676,1.0349183803015467,0.31508082126951814,1.9768866249666677,0.9465592009644606,-0.9751269643731388,0.781470715311229,-0.5345059026476003,-0.020218131021727457,-0.17921615704624053,-0.2863421958552053,0.11549136983371827,-0.5017433836965274,0.20618708769601393,2.1472920488483744,-0.7829287176606556,-4.837348715286457,-0.6232809766100402,-0.08179828329889358,-0.7829287176606556,-0.24203411151337578,-0.35025368749950786,-0.20267812304712268,0.23000371731321204,0.39163452224293466,-0.24176128519250673,-1.0030551145782312,-0.18470864280288096,-0.3505333402389724,-0.5345059026476003,-0.21089197686584762,0.39163452224293466,-0.5353268940029512,-0.18528766215647358,0.5740890418444935,0.7531888505453035,-0.8537477705242067,0.7838434772582916,-0.21594517401815758,-0.10268418708279224,0.7392217878069471,-0.47910232570239186,0.3076896165462142,0.6270821768978947,-2.9389500163724795,-2.609103895364381,1.2559551824690594,1.8285425625792602,1.2678971162477435,-3.5327659150889517,-0.7742598392915525,-0.030331481096647808,-1.0618522037279805,-0.019466112840439642,-0.8388768688273636,1.4109184644397066,-0.02409812173092521,-0.38733396693530975,3.371863292671304,-2.7703214732380994,0.07370056316168667,-0.43980007037019736,2.374666743502866,0.8666002982788084,-0.06338731192801934,2.360900531325435,-1.2704021053064198,0.14447592084345376,1.4241183589664288,0.6311952845796999,-0.43980007037019736,0.622886009856405,0.6495479728855038,-0.16198084842829163,-0.12975639121404112,-0.37424205707459435,-0.44198065513453083,0.6124123023415493,0.14014829012845226,-0.24052652859954615,0.10224767549956854,-0.4166283760929981,-0.0615801522771625,-0.19219824671249353,-0.020218131021727457,-2.707497655009976,-0.25869985763117886,-0.09500933594809796,-1.0683469534608778,0.5056558474215558,-0.2476018236577162,-0.516001071818051,-0.4121577321461765,-0.5345059026476003,-0.3879641720127394,0.96434663450889,-0.34449063757479564,-0.23861708353559852,1.4553056489627487,-0.118631021864826,0.2775516616902612,-0.28877522890336677,-2.73432842564217,-0.47164496167323333,-0.04306814459707379,-0.2476018236577162,-0.48962518854428183,-1.0126506188400315,-0.18528766215647358,0.10824141835943545,-0.2476018236577162,-0.2917906447049037,-0.5345059026476003,0.6679244038044794,-1.1033260871072053,-0.09630545316997764,-0.2476018236577162,-0.5901839978625195,-0.43980007037019736,-0.28690407898989706,-0.24967948758100192,0.1308190407611692,-0.11225228795201207,-0.19219824671249353,-0.2779300854945917,-0.28690407898989706,0.8539932870400347,0.420214055629091,0.16811699775293013,-0.28690407898989706,0.08208702676915175,-0.21363454205528098,0.40283403198353973,3.2251900195367913,-0.19489162447085975,0.1941711566099378,-1.0896111192488274,-0.6989527648894311,1.4530881714933903,-2.282134782397994,0.6424392046293222,-0.6355271133666421,-0.3879252897089152,-5.969978068440505,-0.7892577366481635,-0.21379590934066225,-0.6153552283846161,-0.5739469610894901,0.44714609846329056,0.14631759023416993,-0.35780194126399373,-0.1407821406246962,-1.0138163520845125,-1.13132138895703,-0.05360722769523698,-0.9751269643731388,-5.283519008085197,0.703977163506974,2.454887286929508,-0.39666052424242026,-0.7838280280785228,-0.6701034094469599,-0.3505333402389724,-0.12755990149536386,-0.12896010830541102,-0.5924568818046333,-0.9751269643731388,-2.5174286005869573,-0.713732878177223,-0.36398927961000993,-0.19219824671249353,-0.0747183092602976,-0.43980007037019736,2.318386364749457,-0.3741446160915807,-0.5345059026476003,-0.3748208638991734,-2.3070546230072697,-0.8850392428865658,0.14447592084345376,-0.5345059026476003,-0.19219824671249353,-0.47910232570239186,-0.10796511825474965,-0.23861708353559852,0.5747237629746123,0.13950981197604626,1.0633130198939382,-0.5470943752984526,0.1893922647425244,0.022326959504145056,-0.43980007037019736,0.1042111633815939,-0.5981351638966694,-0.20267812304712268,-1.3949075477341097,-0.16455590848844204,-0.28690407898989706,0.11107071709243703,-0.19219824671249353,-0.23861708353559852,0.0026199180271201817,-0.19219824671249353,-0.22963234341347996,-0.2476018236577162,-0.28690407898989706,-0.24176128519250673,-0.5961458384214084,-0.12819912273404863,0.2800373447674804,-0.8608510400793965,-0.45454426016579497,2.007519073012035,-2.939619938372918,-0.8710191372997599,-0.06739109346977637,-0.5422476165020969,0.7606287689049014,-0.21332514934092683,0.7668980952894213,0.35820890710864695,-0.7150248672410148,-0.4944113731273086,-0.5730184949457741,-0.08574982466902867,0.09118243552490239,-1.173024670313492,-0.8223697761025606,-1.0820973093307082,-0.1650090739318354,0.0775523691143612,1.4130845635704372,0.15838749319115497,0.14555694028690777,2.2972093389997865,-0.5129755409812279,0.8161274342274449,-0.06942251817575824,1.3809063460628872,-0.6954904997555734,0.8196479330134425,-0.216506067415348,-0.3263451374317658,-0.19219824671249353,-0.5785917828246814,-0.5345059026476003,0.23871058521662164,-1.1092738550924401,-0.2476018236577162,-0.4960246386707498,0.026088597508131705,-0.24842281501304925,-1.0523574247988279,-0.7363988755224352,-0.40923262858744563,-0.28690407898989706,-0.12541963323109204,-0.5075516822812443,-0.10759655862618116,-0.15073473937641485,1.4936022446494912,0.18267986076856393,-0.3728284938299154,-0.22151322614957453,-0.15250444773063807,-2.672520451428776,-0.3858252372594067,-0.5353268940029512,-0.8989644799430293,-0.38312935621369704,0.1892436705956708,0.44295034383187215,0.026088597508131705,0.2800373447674804,-0.4018757962623502,-0.13080020207016452,0.7840148842325411,3.2481913607887063,0.9678081692031617,-0.8569889357741949,0.07305076015239598,-0.3747400940389859,-2.292571440440948,-0.32923071747401217,-0.26512720976684667,-4.307961998444744,1.0283542098800436,-0.6270114749011938,2.033693431484189,-0.7745547405610796,-0.2123710733881893,-1.8541667579632803,-0.1809066450688839,0.4367870007902219,-1.2729645325955052,-0.4874146175228136,3.7716610056130686,-0.4832552291174864,-0.8173760493180791,-0.7371206872751176,1.9593988052367144,-0.6632994890256394,-0.5419291017183201,0.258333928147503,-1.0705759597785591,-0.5345059026476003,0.5169077963031515,-0.19219824671249353,0.0037389336614805906,1.9110264235425998,0.2276763795890483,0.584275991213656,-0.5547057765943935,-0.4157502822269991,-0.3521831823196652,-0.41525162739042437,-0.43980007037019736,-0.15775442243652366,-0.12819912273404863,-1.578276792786381,0.33571793323543137,-0.3125239683197258,-0.7539701347037356,0.39163452224293466,-0.18528766215647358,-0.5353268940029512,1.0550992739060507,0.3565194776621732,-0.43980007037019736,-0.2476018236577162,-0.8850392428865658,-0.11283072182592828,-0.2476018236577162,-0.36054836642948646,-0.24176128519250673,-0.24842281501304925,-0.15756122942123169,-0.24842281501304925,-0.1374133074530766,0.3736960890732273,-2.311449794136173,-1.1033260871072053,-0.7389007518883002,-0.21583665890088352,-0.38405836943446753,-0.01421847394368992,-0.9843692168940574,-0.6033116943019292,0.6933122011900578,4.055507186506567,-0.5300988573765643,-0.6926718709688802,0.20520085280261957,-0.70200649022518,0.007121109811970534,-0.9991046353873231,-0.012779066972311777,1.2920223300560016,0.4795504181315528,-0.3002494640098139,-0.7423828842840156,1.5084828411716866,0.04963045572051996,0.03815085534672866,1.135215192551205,-2.9700065165775573,-3.207248032447616,1.657486539527117,-0.21034383427359174,-0.40005538815434877,-0.6481956085473517,-0.3639462931027605,-1.3268877033005053,-0.7457355674573813,-0.4195616837267794,-1.299053130103651,-0.7267041493600908,-0.5045100515588937,-0.6141153186656482,2.711113329974973,-0.6045481302889333,2.6800458858580343,1.259677233426526,-0.2915441895663454,-2.7876707954616973,-0.2476018236577162,0.5271690398184591,-0.11270590809535086,-3.2383394892175774,0.05030056940608609,-2.4239531076249343,-0.20613813753216306,0.02546165784080068,-0.28690407898989706,-0.28690407898989706,0.4397322064254433,-2.658637766471278,0.4435960559523043,0.020446140502151138,1.1200770277043988,-0.23861708353559852,-0.24842281501304925,-0.45274676037325084,-0.12819912273404863,-0.118631021864826,-0.46353494604052015,1.1265368709347057,0.7826425358984856,-0.7581216020200118,0.9917950234503767,-0.35020518099753445,-0.13913244674318867,-1.1085555801733125,0.694213554769498,2.251273250944567,1.1383491562945685,-0.601430875299938,-0.4279268934439415,0.010329030124188525,0.42381864025824023,-0.9352090893542379,0.40343222756985375,-1.211384380318312,-1.463350370484698,2.016548699187806,0.514840495666223,-0.5075839221616815,-0.41192022215449836,-0.3156877920510645,-0.9111278403947121,-0.7087454157426651,0.7455930936221175,1.5904003330856378,0.310630220348349,-0.5739469610894901,-0.48432200803468767,-0.12819912273404863,-0.9751269643731388,0.48781311308918346,-0.29761640915531806,-1.544579249204406,-0.28690407898989706,-0.2779300854945917,-0.20935151755752426,0.18157258552481717,-0.5353268940029512,-0.5113112628685593,-0.08030581726011629,-0.19219824671249353,-0.43980007037019736,-0.3458800932171836,-0.19219824671249353,-0.112328746998838,-0.3413737835482376,-0.509238296494808,-0.19219824671249353,-0.24842281501304925,-0.4190683167021799,-0.5394583051054775,0.5319528063481426,0.14364955337200955,0.7854432085651648,-0.22963234341347996,-0.7267041493600908,-0.8506538935829608,-0.46932042147593456,-0.2779300854945917,0.4806328557912639,-0.28690407898989706,-0.2930522724753027,-0.3505333402389724,-0.09573179131310182,-0.38741875872821346,-0.2779300854945917,-0.24176128519250673,0.20557909132029858,-0.22064760329136213,4.1952684248580985,0.28057744394416045,-0.8500211885467762,-0.8305303262728451,-0.9493075306414148,-0.5739469610894901,-1.1250656658642966,2.845227820277833,0.9272831432265022,0.7495001078989891,6.7037347082180165,-0.6109428555151597,-0.4795480911830528,-1.0044205532579489,1.6028941902796325,-2.8296085737833785,1.6763374103008042,-0.296927293573639,2.722338530142859,0.0007176774733744577,-0.3638603200882333,-0.6468845220804201,2.433116035622208,0.10393444537061608,0.29436623177128934,-0.04323475226236706,-0.19219824671249353,0.3291408965865749,-0.2882555311431852,0.5573479568149746,-3.197429677067858,-0.26898401433541863,1.3403211274621165,0.22664336289812764,-0.3219815086876831,-0.1341468907192681,-0.11669237574291974,2.7214432594391513,-0.3879252897089152,-0.23134626197101005,-0.5069076598262159,0.48647954715099734,-0.5492372824854137,-0.41008357658006384,-0.4718197961741115,-0.2574715213874656,-0.1341468907192681,-0.2476018236577162,-0.1869652719370665,-1.0592895026084594,-0.24842281501304925,-0.4386892104655551,-0.09746193788313504,3.1181420617231694,-0.24176128519250673,-0.3313298999905726,-0.40317299202402584,-0.1783770776004678,-0.2116628631692418,-0.2476018236577162,-0.4960246386707498,-0.28690407898989706,0.11370443674834624,-0.4854249688972461,-0.04420377775391822,-0.9044663105741528,0.4700810187451197,-1.1092738550924401,0.06600647252701485,-0.1250097557776447,0.34349623492514236,-1.1633504139707633,5.907882540996068,1.9031844897542476,-1.1092738550924401,1.6467552983381137,2.7730279462390266,-1.2114005452282106,2.248364221403073,1.9100305733981666,0.8517035594031378,1.1995396718809814,0.03547314263443492,-0.6981508571625887,0.5378325023697949,-0.19219824671249353,-0.054678559651695297,-0.3794184670672761,-0.419538190475133,3.261270867954747,-0.02903907059009078,-0.19219824671249353,-0.49913830029502076,-0.7015863156030594,-0.13504661663321643,0.23000371731321204,-0.43980007037019736,-0.29612773914754903,-0.34578507241277445,-0.6242237614048164,-0.23266060415575457,0.501895211807264,-0.4319059904783476,1.526168048387179,-0.2521097056148151,-0.5315273566382862,-0.23628467371830006,1.4816392201033162,-0.797238570349882,-0.3713823426677709,-0.01647329099814115,-1.0221166688239176,-0.1612681700556422,-0.3705956874598807,-0.5016060994644984,-0.18528766215647358,-0.19051779744321437,-0.5086638499536189,-0.28690407898989706,-0.2476018236577162,-0.3219815086876831,-0.5345059026476003,-0.14157462502473156,-0.9111278403947121,-0.5345059026476003,2.0714212999805723,-0.376621937747078,-2.1257946254227047,0.22095711406680751,-0.1450920249464718,0.4490095719308804,-1.0587431221743555,-0.2957997362231609,-0.12819912273404863,0.25989734233979694,-0.9392309903919142,-0.2476018236577162,-0.027789294290278297,-0.20845363608987466,-0.1341468907192681,-0.3479709129498824,-0.11618650876313,-0.26858983997797387,-0.1300029857083825,-3.5036349350177267,-0.2476018236577162,-1.127536992216805,0.31858366153752243,-0.33054875077736706,-0.49045692652640693,-0.28690407898989706,-0.48060820854172703,1.1094396156361515,-1.2880279715390506,-0.6867945447506791,2.8598765785051725,0.16939560435646356,-0.4388604118530872,-0.243153257204253,1.7171504453124125,-0.08035861838794316,-0.22963234341347996,1.7107292569759416,-1.0210298918426126,2.26873525325735,-0.38057024385328697,-0.0794848259047844,-0.39974554744265217,-0.3419559848469776,1.6595756085604967,-0.39626240746802166,-0.22064760329136213,-0.886293122221203,0.48275297680932366,4.337832710183194,-0.5247655625598723,-0.025014197005939445,0.18974349368485371,-0.6348298677052023,-0.4436086710960296,2.878841946255753,-0.18470864280288096,-0.13458022254623955,-0.8888201747980621,-0.24414840563938553,0.3233832975057896,-1.0432673825653456,-0.07628632235305952,0.02877651748598315,-1.2697751656391365,2.6157928901175076,-0.2779300854945917,1.3970010851352257,1.5634728062770935,-0.5609467833327724,2.878934864134564,0.8466941032437116,-0.23329451505683726,-0.22843822555146207,-0.12978326197518678,-0.9059125946624496,-0.2476018236577162,-0.35355596585666976,-0.17460057013567673,-0.1714664930444618,1.0885750300658696,-0.05938108111952317,1.6472642853906907,0.18846511431079777,-0.12043338650208518,-0.16758951343060066,-0.5476812205119108,-0.34331428864442837,-0.09106987054302712,-0.24209885999803743,-0.10211052522591513,-0.07943780109694373,-0.28690407898989706,-1.8131433576785807,-0.3541009802812303,0.059266801533164055,-0.12819912273404863,-0.19369338292500363,-0.226800326502546,1.375597611960058,0.44484038625700884,0.026088597508131705,-0.03712452600208642,-0.07935254571168707,-0.10211052522591513,-0.1250097557776447,0.5211422590671376,0.1618726959261798,0.5277503814226933,-0.22963234341347996,-0.2240861245227615,-0.1187870812369708,-0.5075624289080567,0.13309860342933194,-0.3046052635749823,3.996991349981217,-0.2400389410798417,-0.16576332352766265,-0.11928342153109323,-0.17921615704624053,1.7395370371859604,-0.3402798111692179,-0.15824203075929047,-0.15764532393243588,-0.531186193015864,-0.03325480192423166,2.701624556839384,1.671710910694249,1.843954810929999,2.954818850696977,-0.17373633142001435,-0.23062093178538035,-0.300945645979774,-0.17147212016008584,-0.3093249476695433,1.5977115568388516,-1.2882677054333165,0.20642455740637444,-0.5173789070123334,-0.2677836621869154,2.176871633736277,0.22018343326539838,-0.4209774422387669,2.830658048821775,-0.732523254561992,-0.2312324602764604,-0.7950138354404676,-0.5542203114843609,0.48980468173498665,-0.2476018236577162,-0.5286653641823954,-0.7013503262227243,-0.9348711776193541,-0.5739469610894901,-0.2476018236577162,3.1753833565485654,0.17809143116202805,1.0120837743398994,-0.39142597847812677,-0.43980007037019736,-0.5321113470308487,-0.23861708353559852,-0.64908635031975,-0.6372433675408682,-0.5090578735532755,-0.5255211625254811,0.009161226490190494,2.8082000593242893,-0.2476018236577162,-1.299053130103651,0.4601034527934043,-1.220535686499742,-0.054982938804239045,-0.6728285989476473,1.930671817494534,2.2860270783605663,-0.5345059026476003,0.3151658880037626,1.1703946000091396,-0.19219824671249353,-0.3758009463917607,0.2920465091464184,-0.9012769436177765,-0.28690407898989706,-0.17275952737805014,1.0544355735632953,-0.22843822555146207,-5.0391321215127105,-0.36043747235682966,0.6232803913976364,-0.5022699950253121,-0.28690407898989706,-0.4151619775716784,0.15328481643005368,0.026088597508131705,-0.17392430865304465,-1.130462558397419,0.47340273040149117,0.42521745784312376,-0.0615801522771625,0.053950396479470586,-0.533754430930622,-1.03929416652004,0.037603739764506296,-0.4799934137581485,-0.316525657330618,-0.790257758040893,-0.18586268908672385,3.9563048839659163,3.27668977114399,-0.7447227352072043,0.11721000098841333,-1.044280918959946,2.529573292339006,1.8126128444390999,3.4255295445291116,-0.022234083244627573,1.3089853159757272,0.9289076067797241,0.39028119951774065,0.28502483904388176,1.3248802955078955,-0.8813592685113969,-0.06598816013274351,0.10853662999977444,-0.5559774808452532,-0.5353268940029512,-0.19219824671249353,-0.8988075420030531,3.4790051724096456,0.8437289994378386,-0.19219824671249353,-0.17553429556096523,-0.31369474501711264,0.25815455401160575,-0.3480631513594692,-0.22498348936671728,-0.8596531297839638,2.4109925660684857,-0.48758616133045973,-0.4816731034496931,-0.11291819674190222,-0.6867638807860658,-0.2476018236577162,0.6272301502585289,-0.9111278403947121,-0.1397849421922828,0.4187935509549276,2.177320609449642,-0.4721917411463884,-0.7169222451336653,1.4450569450447026,-0.2689560919992859,-0.2443213351425479,-0.2779300854945917,1.240998942525788,-0.49960383491798904,-0.22963234341347996,-0.2476018236577162,0.3405860291428398,-0.1250097557776447,0.16811699775293013,0.5419587299212153,0.007335078697351893,-0.3635816740137392,0.16811699775293013,-0.7473086048832404,0.022953899171475955,-0.8159595793492437,0.0716411607287732,-0.07196788480770215,-0.35005239214761913,2.4560056959922707,-0.3454468524195935,-0.3879252897089152,-0.0735598425441228,-0.6777399814556033,1.702334445013767,1.9316288681534899,-0.6928608376913515,-0.43980007037019736,-1.084664338281327,-0.48196685479773393,1.2996822098327363,-0.20108778566139093,0.26256728868257306,2.388143303785042,-1.102363270536423,2.9801627697510953,-0.4259789012581883,-0.020218131021727457,-0.19206620611117972,1.3991063774778683,-0.0615801522771625,-0.4709042365830311,2.9850231072386086,-0.4043096017450075,-0.5255211625254811,0.39067303549276206,-0.6196317886885144,-0.26815739799910954,-0.28690407898989706,-0.3541009802812303,-0.24203411151337578,-0.21485175547753632,-0.5117994585295695,-0.3803062131541286,-0.1957270429964297,-0.2689560919992859,-0.43275418843776736,-0.38423299548768947,0.2554918507575663,0.9785716414264275,-0.3392786251561838,-0.08597138079986977,-0.37784557707431454,-0.25100810500866966,1.4762311372372365,0.8546215412254267,-0.5739469610894901,-0.1341468907192681,1.3590631740447374,-0.33518984954365,-0.2240861245227615,-0.6331705345619555,-0.4052471475901373,-0.26010526792781413,-0.6505238126377314,-0.25100810500866966,0.5424339529021354,-0.2760103945989936,-0.646760504266221,0.6128289422980097,2.475662751883945,-0.08179828329889358,0.1206846044965785,-0.07606191468434938,-0.2240861245227615,-0.2476018236577162,-0.5353268940029512,0.16035085322518589,-0.27394843910616606,0.33608507804280124,1.6142936094639306,-0.5291919755112274,-0.28690407898989706,-0.11544165490841966,-0.19219824671249353,0.12009746160276925,-0.28690407898989706,-0.2476018236577162,-0.3969505253257201,0.019819200834820402,-0.3789716608445997,0.11727998318691435,-0.374567690263801,-0.13707399949629248,-0.3881812212380341,-0.12185374842298502,-0.33445413088754206,-0.0965842214895077,-0.22177669573092204,-0.12819912273404863,-0.21461416308892511,2.45780326192175,0.6591332751287127,1.1417011016368717,2.0413374187157824,0.7332152571649488,0.24367062659715363,0.17121697041366282,0.05221829440601489,2.0294114449192513,4.406068314885682,1.7784102295740516,-0.088038557535913,0.7931155250209377,0.8710155072575446,-0.5477538677115522,1.366823205180434,-0.3326406132608306,-0.3498005607080908,-0.08179828329889358,-0.5906455777781106,0.06825533636477522,-0.1032917659574022,-0.36970597828161444,-0.26089070627044836,-0.5353268940029512,-0.8844817211126144,-0.614795359698622,-0.18263615676416636,2.958095741672618,-0.29870279920771087,0.20427029721559925,0.3856694485168676,0.35526169053485207,-0.3813625898071891,1.896024313855926,-0.710819571308776,0.005845726205540634,-0.0678077247042903,-0.5534443308655177,-0.367549698174927,-0.4606170748387542,-0.22902473849555524,-0.6419082087641185,1.9810919465612102,0.29190185260696877,-0.1818075168077463,-0.15277400398264326,-0.25100810500866966,0.7924862051478565,-0.43980007037019736,0.9570007621062114,-0.1715372602623736,0.7232578953531497,-0.3520268247151162,-0.23861708353559852,-0.235099755371986,-0.3458141600098325,0.22541795740589107,-0.5165364224033676,-0.2994488003167119,-0.22064760329136213,-0.5016917261324753,-0.24842281501304925,-0.23861708353559852,0.30302880728796716,-0.12995992173179413,-0.23802022524448757,-0.18134155540976937,-0.5896978925977935,-0.012109662254054694,-0.0032580960141635504,-0.2779300854945917,-0.3409882988572803,-0.23306011801806809,-0.24842281501304925,-0.25100810500866966,-0.46907041830439106,-0.19219824671249353,-0.2116628631692418,-0.1951305764488112,-0.23861708353559852,-0.22963234341347996,-0.2476018236577162,-0.1253721960744146,-0.6348502296878404,-0.1161818165963624,-0.376621937747078,-0.4169941611360693,0.0010587306759492555,-0.28690407898989706,-0.12819912273404863,-0.3702432038342628,-0.28690407898989706,-0.13080020207016452,-0.28690407898989706,-0.25429480977277386,0.3454007070029186,-0.12105600448700864,0.7288842862762039,-0.5739469610894901,-0.1341468907192681,-0.02358507141254197,0.08231168126119297,-0.3277036681300954,-0.3263451374317658,1.8303541659402005,0.9886413896996865,-0.11179580656572638,0.03041167222672945,0.8218999760394065,0.4519857131499493,-0.13287440502223685,-0.11581457760465441,1.3466552888929813,-0.05938108111952317,-0.21905302322727233,-0.3045269937113245,-0.36792214939324086,0.5945145435431216,2.6712968663426166,-0.25100810500866966,-0.22064760329136213,0.9533809413581726,1.432811076070982,-0.4503471361480992,0.21468807504394852,-0.6838653509424186,-0.24842281501304925,0.17184460078762487,-0.1493395996604353,-0.2672105339589999,-0.19219824671249353,0.4516137799991345,-0.4571453395019171,0.5283124996735974,1.2907132092528457,-0.19219824671249353,0.12333471038147129,-0.12105600448700864,1.1189992192235096,-0.05795085910805118,-0.3879252897089152,0.9742734527159873,2.0808854006435484,0.4799904635766573,-0.07737637241011838,0.1628096632165305,-0.5319086617316705,1.2520429371588,0.1032064601133728,-0.21158154527407624,-0.026655571033590196,0.4930373001879659,0.8229124048329336,0.13550697226523714,1.7895132030384622,-0.3471920652526069,1.1217262176887708,-0.5405019337656652,-0.3817487143769721,-0.09722752556548192,-0.12978326197518678,-0.20267812304712268,-0.0908618988535645,-0.08520496085112807,-0.18528766215647358,-0.2476018236577162,1.0902994098625818,-0.5739469610894901,-0.039278946155563745,0.016600997487898356,0.09372188619091097,-0.10796511825474965,0.03585104363588118,-0.07491590667475845,-0.10424122140398663,-0.43081533024808044,-0.24176128519250673,-0.1341468907192681,-0.12309240115237588,-0.08614697453431515,-0.1511003409276143,0.06307775521975557,-0.28690407898989706,-0.28153494144658325,-0.1714664930444618,-0.3063377118021215,-0.5345059026476003,-0.2116628631692418,-0.2914360296187888,2.0221687088607108,-0.48060820854172703,1.5068168529583634,-0.5107762298541487,-0.5345059026476003,-0.5345059026476003,-0.19219824671249353,0.1966395328381939,-0.24842281501304925,-0.12819912273404863,0.022193346238893602,-0.31846645228156323,-0.4806297017953474,-0.4360615253763034,-0.22963234341347996,-0.0677937611308912,-0.5490668962891977,-0.28736050664467216,-0.09979235726591708,-0.18528766215647358,-0.07079104322393867,-0.12105600448700864,0.23855893709939807,-0.28690407898989706,0.06349338185992764,-0.19168754022538864,-0.2779300854945917,-0.0461866541736675,-0.5353268940029512,-0.24203411151337578,-0.43980007037019736,-0.23861708353559852,-0.22555234514776737,-0.1306009689712005,-0.05278386764659551,-0.38312935621369704,-0.2689560919992859,-0.08580622788238719,-0.1783770776004678,-0.14765809966908452,-0.05538566083370005,0.23731660458080212,0.13079561164270975,0.25476212478041327,0.5850700054646889,0.3746693400978063,0.0061388270810674075,-0.14837700993278732,-0.003986849052607741,0.4933564466850787,-0.0678668712049105,0.3995862110530908,0.5262734869073081,0.09467860669810707,-0.16291354348778875,-0.009906498811119146,0.14642039653206518,-0.14336349806738644,0.06721548743400707,0.13683689504367916,-0.33613150003699144,-0.24596507857154185,-0.1957270429964297,-0.1891643430947044,0.3633351398146138,-0.12978326197518678,-0.3263451374317658,-0.32299844878264555,-0.1957270429964297,0.0025152901263770793,0.2948646620844188,1.4678337892476672,-0.2608031877785596,-0.16947624338951126,-0.08179828329889358,-0.06313890509192946,-0.1714664930444618,0.029051607680821007,0.00129812085582543,-0.12188377481454583,-0.0405386352137204,0.39027621084546715,0.1408245874373919,-0.10520643163939548,-0.13676628459446616,-0.06089714014827771,0.33353649001756575,-0.12309240115237588,-0.2773866303143811,-0.5165471690301758,0.11009001111486288,-0.05358024811198385,-0.03958944070074423,-0.2932527804112334,-0.12541963323109204,-0.32800733261428405,-0.39986376033761817,-0.3263451374317658,0.2224368266481921,-0.5345059026476003,-0.30112833863561483,-0.2779300854945917,-0.4626602215511094,0.31822766531579466,-0.19219824671249353,-0.4010988364579479,0.18343507023038078,-0.2476018236577162,-0.5255319091522941,-0.09892115826950879,-0.12819912273404863,0.016589790098249294,-0.06255424160728536,0.026088597508131705,-0.43980007037019736,0.022582871640781016,-0.28690407898989706,-0.07967561929156808,-0.1951305764488112,-0.38312935621369704,-0.19219824671249353,-0.235099755371986,-0.23306011801806809,0.10580632930820383,0.047584502606070535,-0.011374309244188599,-0.00547842805916294,0.05497061907786518,-0.012523048256197392,-0.0615801522771625,0.20450745779751922,0.052771547920221366,0.0747622594966399,0.019579066977196382,-0.1341468907192681,0.04039825904419186,0.06596597486607225,-0.019481145873598366,0.05716530953173646,0.006591053609739362,-0.0615801522771625,0.6294881394958518,-0.00031953202226523927,-0.05278386764659551,0.09675297107306108,0.009261274903401711,-0.004004457762906398,-0.016533205281086653,-0.12978326197518678,-0.05278386764659551,-0.18528766215647358,-0.13691357026440237,-0.0047414429110346325,-0.008802444493754554,0.38076130108294043,-0.1341468907192681,0.022527007569709455,0.03603463030010645,-0.12105600448700864,-0.12105600448700864,0.18097331931211047,0.6688416687984703,-0.22963234341347996,-0.1341468907192681,-0.2116628631692418,-0.05718200996187895,-0.11669237574291974,-0.2476018236577162,-0.05560157332570837,-0.05938108111952317,-0.13691357026440237,0.616340146340805,-0.12978326197518678,-0.12181546194804806,-0.05278386764659551,-0.026344217368219323,-0.0747183092602976,0.012955639883743968,0.015387338240307675,-0.19369338292500363,-0.1783770776004678,-0.15764532393243588,-0.04095280084897254,-0.23861708353559852,-0.09923786076657741,-0.09845021558850862,-0.24203411151337578,0.1512689742187299,0.1421606804378884,-0.19219824671249378,-0.21770354724949,-0.1783770776004678,-0.14332018306502725,-0.2476018236577162,-0.235099755371986],\"yaxis\":\"y\",\"type\":\"scattergl\"}],                        {\"template\":{\"data\":{\"histogram2dcontour\":[{\"type\":\"histogram2dcontour\",\"colorbar\":{\"outlinewidth\":0,\"ticks\":\"\"},\"colorscale\":[[0.0,\"#0d0887\"],[0.1111111111111111,\"#46039f\"],[0.2222222222222222,\"#7201a8\"],[0.3333333333333333,\"#9c179e\"],[0.4444444444444444,\"#bd3786\"],[0.5555555555555556,\"#d8576b\"],[0.6666666666666666,\"#ed7953\"],[0.7777777777777778,\"#fb9f3a\"],[0.8888888888888888,\"#fdca26\"],[1.0,\"#f0f921\"]]}],\"choropleth\":[{\"type\":\"choropleth\",\"colorbar\":{\"outlinewidth\":0,\"ticks\":\"\"}}],\"histogram2d\":[{\"type\":\"histogram2d\",\"colorbar\":{\"outlinewidth\":0,\"ticks\":\"\"},\"colorscale\":[[0.0,\"#0d0887\"],[0.1111111111111111,\"#46039f\"],[0.2222222222222222,\"#7201a8\"],[0.3333333333333333,\"#9c179e\"],[0.4444444444444444,\"#bd3786\"],[0.5555555555555556,\"#d8576b\"],[0.6666666666666666,\"#ed7953\"],[0.7777777777777778,\"#fb9f3a\"],[0.8888888888888888,\"#fdca26\"],[1.0,\"#f0f921\"]]}],\"heatmap\":[{\"type\":\"heatmap\",\"colorbar\":{\"outlinewidth\":0,\"ticks\":\"\"},\"colorscale\":[[0.0,\"#0d0887\"],[0.1111111111111111,\"#46039f\"],[0.2222222222222222,\"#7201a8\"],[0.3333333333333333,\"#9c179e\"],[0.4444444444444444,\"#bd3786\"],[0.5555555555555556,\"#d8576b\"],[0.6666666666666666,\"#ed7953\"],[0.7777777777777778,\"#fb9f3a\"],[0.8888888888888888,\"#fdca26\"],[1.0,\"#f0f921\"]]}],\"heatmapgl\":[{\"type\":\"heatmapgl\",\"colorbar\":{\"outlinewidth\":0,\"ticks\":\"\"},\"colorscale\":[[0.0,\"#0d0887\"],[0.1111111111111111,\"#46039f\"],[0.2222222222222222,\"#7201a8\"],[0.3333333333333333,\"#9c179e\"],[0.4444444444444444,\"#bd3786\"],[0.5555555555555556,\"#d8576b\"],[0.6666666666666666,\"#ed7953\"],[0.7777777777777778,\"#fb9f3a\"],[0.8888888888888888,\"#fdca26\"],[1.0,\"#f0f921\"]]}],\"contourcarpet\":[{\"type\":\"contourcarpet\",\"colorbar\":{\"outlinewidth\":0,\"ticks\":\"\"}}],\"contour\":[{\"type\":\"contour\",\"colorbar\":{\"outlinewidth\":0,\"ticks\":\"\"},\"colorscale\":[[0.0,\"#0d0887\"],[0.1111111111111111,\"#46039f\"],[0.2222222222222222,\"#7201a8\"],[0.3333333333333333,\"#9c179e\"],[0.4444444444444444,\"#bd3786\"],[0.5555555555555556,\"#d8576b\"],[0.6666666666666666,\"#ed7953\"],[0.7777777777777778,\"#fb9f3a\"],[0.8888888888888888,\"#fdca26\"],[1.0,\"#f0f921\"]]}],\"surface\":[{\"type\":\"surface\",\"colorbar\":{\"outlinewidth\":0,\"ticks\":\"\"},\"colorscale\":[[0.0,\"#0d0887\"],[0.1111111111111111,\"#46039f\"],[0.2222222222222222,\"#7201a8\"],[0.3333333333333333,\"#9c179e\"],[0.4444444444444444,\"#bd3786\"],[0.5555555555555556,\"#d8576b\"],[0.6666666666666666,\"#ed7953\"],[0.7777777777777778,\"#fb9f3a\"],[0.8888888888888888,\"#fdca26\"],[1.0,\"#f0f921\"]]}],\"mesh3d\":[{\"type\":\"mesh3d\",\"colorbar\":{\"outlinewidth\":0,\"ticks\":\"\"}}],\"scatter\":[{\"fillpattern\":{\"fillmode\":\"overlay\",\"size\":10,\"solidity\":0.2},\"type\":\"scatter\"}],\"parcoords\":[{\"type\":\"parcoords\",\"line\":{\"colorbar\":{\"outlinewidth\":0,\"ticks\":\"\"}}}],\"scatterpolargl\":[{\"type\":\"scatterpolargl\",\"marker\":{\"colorbar\":{\"outlinewidth\":0,\"ticks\":\"\"}}}],\"bar\":[{\"error_x\":{\"color\":\"#2a3f5f\"},\"error_y\":{\"color\":\"#2a3f5f\"},\"marker\":{\"line\":{\"color\":\"#E5ECF6\",\"width\":0.5},\"pattern\":{\"fillmode\":\"overlay\",\"size\":10,\"solidity\":0.2}},\"type\":\"bar\"}],\"scattergeo\":[{\"type\":\"scattergeo\",\"marker\":{\"colorbar\":{\"outlinewidth\":0,\"ticks\":\"\"}}}],\"scatterpolar\":[{\"type\":\"scatterpolar\",\"marker\":{\"colorbar\":{\"outlinewidth\":0,\"ticks\":\"\"}}}],\"histogram\":[{\"marker\":{\"pattern\":{\"fillmode\":\"overlay\",\"size\":10,\"solidity\":0.2}},\"type\":\"histogram\"}],\"scattergl\":[{\"type\":\"scattergl\",\"marker\":{\"colorbar\":{\"outlinewidth\":0,\"ticks\":\"\"}}}],\"scatter3d\":[{\"type\":\"scatter3d\",\"line\":{\"colorbar\":{\"outlinewidth\":0,\"ticks\":\"\"}},\"marker\":{\"colorbar\":{\"outlinewidth\":0,\"ticks\":\"\"}}}],\"scattermapbox\":[{\"type\":\"scattermapbox\",\"marker\":{\"colorbar\":{\"outlinewidth\":0,\"ticks\":\"\"}}}],\"scatterternary\":[{\"type\":\"scatterternary\",\"marker\":{\"colorbar\":{\"outlinewidth\":0,\"ticks\":\"\"}}}],\"scattercarpet\":[{\"type\":\"scattercarpet\",\"marker\":{\"colorbar\":{\"outlinewidth\":0,\"ticks\":\"\"}}}],\"carpet\":[{\"aaxis\":{\"endlinecolor\":\"#2a3f5f\",\"gridcolor\":\"white\",\"linecolor\":\"white\",\"minorgridcolor\":\"white\",\"startlinecolor\":\"#2a3f5f\"},\"baxis\":{\"endlinecolor\":\"#2a3f5f\",\"gridcolor\":\"white\",\"linecolor\":\"white\",\"minorgridcolor\":\"white\",\"startlinecolor\":\"#2a3f5f\"},\"type\":\"carpet\"}],\"table\":[{\"cells\":{\"fill\":{\"color\":\"#EBF0F8\"},\"line\":{\"color\":\"white\"}},\"header\":{\"fill\":{\"color\":\"#C8D4E3\"},\"line\":{\"color\":\"white\"}},\"type\":\"table\"}],\"barpolar\":[{\"marker\":{\"line\":{\"color\":\"#E5ECF6\",\"width\":0.5},\"pattern\":{\"fillmode\":\"overlay\",\"size\":10,\"solidity\":0.2}},\"type\":\"barpolar\"}],\"pie\":[{\"automargin\":true,\"type\":\"pie\"}]},\"layout\":{\"autotypenumbers\":\"strict\",\"colorway\":[\"#636efa\",\"#EF553B\",\"#00cc96\",\"#ab63fa\",\"#FFA15A\",\"#19d3f3\",\"#FF6692\",\"#B6E880\",\"#FF97FF\",\"#FECB52\"],\"font\":{\"color\":\"#2a3f5f\"},\"hovermode\":\"closest\",\"hoverlabel\":{\"align\":\"left\"},\"paper_bgcolor\":\"white\",\"plot_bgcolor\":\"#E5ECF6\",\"polar\":{\"bgcolor\":\"#E5ECF6\",\"angularaxis\":{\"gridcolor\":\"white\",\"linecolor\":\"white\",\"ticks\":\"\"},\"radialaxis\":{\"gridcolor\":\"white\",\"linecolor\":\"white\",\"ticks\":\"\"}},\"ternary\":{\"bgcolor\":\"#E5ECF6\",\"aaxis\":{\"gridcolor\":\"white\",\"linecolor\":\"white\",\"ticks\":\"\"},\"baxis\":{\"gridcolor\":\"white\",\"linecolor\":\"white\",\"ticks\":\"\"},\"caxis\":{\"gridcolor\":\"white\",\"linecolor\":\"white\",\"ticks\":\"\"}},\"coloraxis\":{\"colorbar\":{\"outlinewidth\":0,\"ticks\":\"\"}},\"colorscale\":{\"sequential\":[[0.0,\"#0d0887\"],[0.1111111111111111,\"#46039f\"],[0.2222222222222222,\"#7201a8\"],[0.3333333333333333,\"#9c179e\"],[0.4444444444444444,\"#bd3786\"],[0.5555555555555556,\"#d8576b\"],[0.6666666666666666,\"#ed7953\"],[0.7777777777777778,\"#fb9f3a\"],[0.8888888888888888,\"#fdca26\"],[1.0,\"#f0f921\"]],\"sequentialminus\":[[0.0,\"#0d0887\"],[0.1111111111111111,\"#46039f\"],[0.2222222222222222,\"#7201a8\"],[0.3333333333333333,\"#9c179e\"],[0.4444444444444444,\"#bd3786\"],[0.5555555555555556,\"#d8576b\"],[0.6666666666666666,\"#ed7953\"],[0.7777777777777778,\"#fb9f3a\"],[0.8888888888888888,\"#fdca26\"],[1.0,\"#f0f921\"]],\"diverging\":[[0,\"#8e0152\"],[0.1,\"#c51b7d\"],[0.2,\"#de77ae\"],[0.3,\"#f1b6da\"],[0.4,\"#fde0ef\"],[0.5,\"#f7f7f7\"],[0.6,\"#e6f5d0\"],[0.7,\"#b8e186\"],[0.8,\"#7fbc41\"],[0.9,\"#4d9221\"],[1,\"#276419\"]]},\"xaxis\":{\"gridcolor\":\"white\",\"linecolor\":\"white\",\"ticks\":\"\",\"title\":{\"standoff\":15},\"zerolinecolor\":\"white\",\"automargin\":true,\"zerolinewidth\":2},\"yaxis\":{\"gridcolor\":\"white\",\"linecolor\":\"white\",\"ticks\":\"\",\"title\":{\"standoff\":15},\"zerolinecolor\":\"white\",\"automargin\":true,\"zerolinewidth\":2},\"scene\":{\"xaxis\":{\"backgroundcolor\":\"#E5ECF6\",\"gridcolor\":\"white\",\"linecolor\":\"white\",\"showbackground\":true,\"ticks\":\"\",\"zerolinecolor\":\"white\",\"gridwidth\":2},\"yaxis\":{\"backgroundcolor\":\"#E5ECF6\",\"gridcolor\":\"white\",\"linecolor\":\"white\",\"showbackground\":true,\"ticks\":\"\",\"zerolinecolor\":\"white\",\"gridwidth\":2},\"zaxis\":{\"backgroundcolor\":\"#E5ECF6\",\"gridcolor\":\"white\",\"linecolor\":\"white\",\"showbackground\":true,\"ticks\":\"\",\"zerolinecolor\":\"white\",\"gridwidth\":2}},\"shapedefaults\":{\"line\":{\"color\":\"#2a3f5f\"}},\"annotationdefaults\":{\"arrowcolor\":\"#2a3f5f\",\"arrowhead\":0,\"arrowwidth\":1},\"geo\":{\"bgcolor\":\"white\",\"landcolor\":\"#E5ECF6\",\"subunitcolor\":\"white\",\"showland\":true,\"showlakes\":true,\"lakecolor\":\"white\"},\"title\":{\"x\":0.05},\"mapbox\":{\"style\":\"light\"}}},\"xaxis\":{\"anchor\":\"y\",\"domain\":[0.0,1.0],\"title\":{\"text\":\"x\"}},\"yaxis\":{\"anchor\":\"x\",\"domain\":[0.0,1.0],\"title\":{\"text\":\"y\"}},\"coloraxis\":{\"colorbar\":{\"title\":{\"text\":\"fg3m_pct\"}},\"colorscale\":[[0.0,\"#0d0887\"],[0.1111111111111111,\"#46039f\"],[0.2222222222222222,\"#7201a8\"],[0.3333333333333333,\"#9c179e\"],[0.4444444444444444,\"#bd3786\"],[0.5555555555555556,\"#d8576b\"],[0.6666666666666666,\"#ed7953\"],[0.7777777777777778,\"#fb9f3a\"],[0.8888888888888888,\"#fdca26\"],[1.0,\"#f0f921\"]],\"cmin\":0.1,\"cmax\":0.7},\"legend\":{\"tracegroupgap\":0,\"itemsizing\":\"constant\"},\"title\":{\"text\":\"fg3m\"}},                        {\"responsive\": true}                    ).then(function(){\n",
       "                            \n",
       "var gd = document.getElementById('f2cb3f2d-8f63-4d26-bb96-ce4b9521fdcd');\n",
       "var x = new MutationObserver(function (mutations, observer) {{\n",
       "        var display = window.getComputedStyle(gd).display;\n",
       "        if (!display || display === 'none') {{\n",
       "            console.log([gd, 'removed!']);\n",
       "            Plotly.purge(gd);\n",
       "            observer.disconnect();\n",
       "        }}\n",
       "}});\n",
       "\n",
       "// Listen for the removal of the full notebook cells\n",
       "var notebookContainer = gd.closest('#notebook-container');\n",
       "if (notebookContainer) {{\n",
       "    x.observe(notebookContainer, {childList: true});\n",
       "}}\n",
       "\n",
       "// Listen for the clearing of the current output cell\n",
       "var outputEl = gd.closest('.output');\n",
       "if (outputEl) {{\n",
       "    x.observe(outputEl, {childList: true});\n",
       "}}\n",
       "\n",
       "                        })                };                });            </script>        </div>"
      ]
     },
     "metadata": {},
     "output_type": "display_data"
    }
   ],
   "source": [
    "plot_scatter(df, rotated_means_results, \"fg3m\", \"binomial\", \"fg3a\")"
   ]
  },
  {
   "cell_type": "code",
   "execution_count": 35,
   "metadata": {},
   "outputs": [],
   "source": [
    "\n",
    "from scipy.spatial import KDTree\n",
    "def plot_trajectories(data_frame, player, num_k, metric, latent_space):\n",
    "    name_map = data_frame[[\"id\",\"name\"]].drop_duplicates().reset_index()[[\"id\",\"name\"]]\n",
    "    player_index = name_map.index[name_map[\"name\"] == player][0]\n",
    "    point = latent_space[player_index,:]\n",
    "    _, indices = KDTree(latent_space).query(point, k = num_k)\n",
    "    nearest_neighbors_names = name_map.loc[indices][\"name\"]\n",
    "    trajectory_df = data_frame[data_frame[\"name\"].isin(nearest_neighbors_names)][[\"name\",metric,\"age\"]]\n",
    "    fig = px.line(trajectory_df, x='age', y=metric, color='name', labels={metric: metric, 'name': 'Player'})\n",
    "    fig.update_layout(title=f'{metric} over time for {num_k -1} neighbors of {player}')\n",
    "    fig.show()\n",
    "\n"
   ]
  },
  {
   "cell_type": "code",
   "execution_count": 36,
   "metadata": {},
   "outputs": [
    {
     "data": {
      "application/vnd.plotly.v1+json": {
       "config": {
        "plotlyServerURL": "https://plot.ly"
       },
       "data": [
        {
         "hovertemplate": "Player=Robert Horry<br>age=%{x}<br>bpm=%{y}<extra></extra>",
         "legendgroup": "Robert Horry",
         "line": {
          "color": "#636efa",
          "dash": "solid"
         },
         "marker": {
          "symbol": "circle"
         },
         "mode": "lines",
         "name": "Robert Horry",
         "orientation": "v",
         "showlegend": true,
         "type": "scatter",
         "x": [
          26,
          27,
          28,
          29,
          30,
          31,
          32,
          33,
          34,
          35,
          36,
          37
         ],
         "xaxis": "x",
         "y": [
          1.3,
          2.5,
          1.9,
          3,
          -0.4,
          3.5,
          0.6,
          2.7,
          3,
          3.1,
          2.1,
          0.4
         ],
         "yaxis": "y"
        },
        {
         "hovertemplate": "Player=Hakeem Olajuwon<br>age=%{x}<br>bpm=%{y}<extra></extra>",
         "legendgroup": "Hakeem Olajuwon",
         "line": {
          "color": "#EF553B",
          "dash": "solid"
         },
         "marker": {
          "symbol": "circle"
         },
         "mode": "lines",
         "name": "Hakeem Olajuwon",
         "orientation": "v",
         "showlegend": true,
         "type": "scatter",
         "x": [
          34,
          35,
          36,
          37,
          38,
          39
         ],
         "xaxis": "x",
         "y": [
          3.5,
          3,
          3.2,
          0.4,
          2.8,
          -0.4
         ],
         "yaxis": "y"
        },
        {
         "hovertemplate": "Player=Michael Jordan<br>age=%{x}<br>bpm=%{y}<extra></extra>",
         "legendgroup": "Michael Jordan",
         "line": {
          "color": "#00cc96",
          "dash": "solid"
         },
         "marker": {
          "symbol": "circle"
         },
         "mode": "lines",
         "name": "Michael Jordan",
         "orientation": "v",
         "showlegend": true,
         "type": "scatter",
         "x": [
          33,
          34,
          38,
          39
         ],
         "xaxis": "x",
         "y": [
          8.9,
          6.9,
          3.1,
          1.7
         ],
         "yaxis": "y"
        },
        {
         "hovertemplate": "Player=Andrew Bynum<br>age=%{x}<br>bpm=%{y}<extra></extra>",
         "legendgroup": "Andrew Bynum",
         "line": {
          "color": "#ab63fa",
          "dash": "solid"
         },
         "marker": {
          "symbol": "circle"
         },
         "mode": "lines",
         "name": "Andrew Bynum",
         "orientation": "v",
         "showlegend": true,
         "type": "scatter",
         "x": [
          18,
          19,
          20,
          21,
          22,
          23,
          24,
          26
         ],
         "xaxis": "x",
         "y": [
          -6.9,
          -1,
          4.2,
          1.1,
          1.5,
          3.2,
          2.9,
          -1.9
         ],
         "yaxis": "y"
        },
        {
         "hovertemplate": "Player=Ben Simmons<br>age=%{x}<br>bpm=%{y}<extra></extra>",
         "legendgroup": "Ben Simmons",
         "line": {
          "color": "#FFA15A",
          "dash": "solid"
         },
         "marker": {
          "symbol": "circle"
         },
         "mode": "lines",
         "name": "Ben Simmons",
         "orientation": "v",
         "showlegend": true,
         "type": "scatter",
         "x": [
          21,
          22,
          23,
          24
         ],
         "xaxis": "x",
         "y": [
          4.5,
          3.6,
          3.6,
          2.9
         ],
         "yaxis": "y"
        },
        {
         "hovertemplate": "Player=Chris Boucher<br>age=%{x}<br>bpm=%{y}<extra></extra>",
         "legendgroup": "Chris Boucher",
         "line": {
          "color": "#19d3f3",
          "dash": "solid"
         },
         "marker": {
          "symbol": "circle"
         },
         "mode": "lines",
         "name": "Chris Boucher",
         "orientation": "v",
         "showlegend": true,
         "type": "scatter",
         "x": [
          25,
          26,
          27,
          28
         ],
         "xaxis": "x",
         "y": [
          -33.1,
          2.6,
          2,
          3.3
         ],
         "yaxis": "y"
        }
       ],
       "layout": {
        "legend": {
         "title": {
          "text": "Player"
         },
         "tracegroupgap": 0
        },
        "margin": {
         "t": 60
        },
        "template": {
         "data": {
          "bar": [
           {
            "error_x": {
             "color": "#2a3f5f"
            },
            "error_y": {
             "color": "#2a3f5f"
            },
            "marker": {
             "line": {
              "color": "#E5ECF6",
              "width": 0.5
             },
             "pattern": {
              "fillmode": "overlay",
              "size": 10,
              "solidity": 0.2
             }
            },
            "type": "bar"
           }
          ],
          "barpolar": [
           {
            "marker": {
             "line": {
              "color": "#E5ECF6",
              "width": 0.5
             },
             "pattern": {
              "fillmode": "overlay",
              "size": 10,
              "solidity": 0.2
             }
            },
            "type": "barpolar"
           }
          ],
          "carpet": [
           {
            "aaxis": {
             "endlinecolor": "#2a3f5f",
             "gridcolor": "white",
             "linecolor": "white",
             "minorgridcolor": "white",
             "startlinecolor": "#2a3f5f"
            },
            "baxis": {
             "endlinecolor": "#2a3f5f",
             "gridcolor": "white",
             "linecolor": "white",
             "minorgridcolor": "white",
             "startlinecolor": "#2a3f5f"
            },
            "type": "carpet"
           }
          ],
          "choropleth": [
           {
            "colorbar": {
             "outlinewidth": 0,
             "ticks": ""
            },
            "type": "choropleth"
           }
          ],
          "contour": [
           {
            "colorbar": {
             "outlinewidth": 0,
             "ticks": ""
            },
            "colorscale": [
             [
              0,
              "#0d0887"
             ],
             [
              0.1111111111111111,
              "#46039f"
             ],
             [
              0.2222222222222222,
              "#7201a8"
             ],
             [
              0.3333333333333333,
              "#9c179e"
             ],
             [
              0.4444444444444444,
              "#bd3786"
             ],
             [
              0.5555555555555556,
              "#d8576b"
             ],
             [
              0.6666666666666666,
              "#ed7953"
             ],
             [
              0.7777777777777778,
              "#fb9f3a"
             ],
             [
              0.8888888888888888,
              "#fdca26"
             ],
             [
              1,
              "#f0f921"
             ]
            ],
            "type": "contour"
           }
          ],
          "contourcarpet": [
           {
            "colorbar": {
             "outlinewidth": 0,
             "ticks": ""
            },
            "type": "contourcarpet"
           }
          ],
          "heatmap": [
           {
            "colorbar": {
             "outlinewidth": 0,
             "ticks": ""
            },
            "colorscale": [
             [
              0,
              "#0d0887"
             ],
             [
              0.1111111111111111,
              "#46039f"
             ],
             [
              0.2222222222222222,
              "#7201a8"
             ],
             [
              0.3333333333333333,
              "#9c179e"
             ],
             [
              0.4444444444444444,
              "#bd3786"
             ],
             [
              0.5555555555555556,
              "#d8576b"
             ],
             [
              0.6666666666666666,
              "#ed7953"
             ],
             [
              0.7777777777777778,
              "#fb9f3a"
             ],
             [
              0.8888888888888888,
              "#fdca26"
             ],
             [
              1,
              "#f0f921"
             ]
            ],
            "type": "heatmap"
           }
          ],
          "heatmapgl": [
           {
            "colorbar": {
             "outlinewidth": 0,
             "ticks": ""
            },
            "colorscale": [
             [
              0,
              "#0d0887"
             ],
             [
              0.1111111111111111,
              "#46039f"
             ],
             [
              0.2222222222222222,
              "#7201a8"
             ],
             [
              0.3333333333333333,
              "#9c179e"
             ],
             [
              0.4444444444444444,
              "#bd3786"
             ],
             [
              0.5555555555555556,
              "#d8576b"
             ],
             [
              0.6666666666666666,
              "#ed7953"
             ],
             [
              0.7777777777777778,
              "#fb9f3a"
             ],
             [
              0.8888888888888888,
              "#fdca26"
             ],
             [
              1,
              "#f0f921"
             ]
            ],
            "type": "heatmapgl"
           }
          ],
          "histogram": [
           {
            "marker": {
             "pattern": {
              "fillmode": "overlay",
              "size": 10,
              "solidity": 0.2
             }
            },
            "type": "histogram"
           }
          ],
          "histogram2d": [
           {
            "colorbar": {
             "outlinewidth": 0,
             "ticks": ""
            },
            "colorscale": [
             [
              0,
              "#0d0887"
             ],
             [
              0.1111111111111111,
              "#46039f"
             ],
             [
              0.2222222222222222,
              "#7201a8"
             ],
             [
              0.3333333333333333,
              "#9c179e"
             ],
             [
              0.4444444444444444,
              "#bd3786"
             ],
             [
              0.5555555555555556,
              "#d8576b"
             ],
             [
              0.6666666666666666,
              "#ed7953"
             ],
             [
              0.7777777777777778,
              "#fb9f3a"
             ],
             [
              0.8888888888888888,
              "#fdca26"
             ],
             [
              1,
              "#f0f921"
             ]
            ],
            "type": "histogram2d"
           }
          ],
          "histogram2dcontour": [
           {
            "colorbar": {
             "outlinewidth": 0,
             "ticks": ""
            },
            "colorscale": [
             [
              0,
              "#0d0887"
             ],
             [
              0.1111111111111111,
              "#46039f"
             ],
             [
              0.2222222222222222,
              "#7201a8"
             ],
             [
              0.3333333333333333,
              "#9c179e"
             ],
             [
              0.4444444444444444,
              "#bd3786"
             ],
             [
              0.5555555555555556,
              "#d8576b"
             ],
             [
              0.6666666666666666,
              "#ed7953"
             ],
             [
              0.7777777777777778,
              "#fb9f3a"
             ],
             [
              0.8888888888888888,
              "#fdca26"
             ],
             [
              1,
              "#f0f921"
             ]
            ],
            "type": "histogram2dcontour"
           }
          ],
          "mesh3d": [
           {
            "colorbar": {
             "outlinewidth": 0,
             "ticks": ""
            },
            "type": "mesh3d"
           }
          ],
          "parcoords": [
           {
            "line": {
             "colorbar": {
              "outlinewidth": 0,
              "ticks": ""
             }
            },
            "type": "parcoords"
           }
          ],
          "pie": [
           {
            "automargin": true,
            "type": "pie"
           }
          ],
          "scatter": [
           {
            "fillpattern": {
             "fillmode": "overlay",
             "size": 10,
             "solidity": 0.2
            },
            "type": "scatter"
           }
          ],
          "scatter3d": [
           {
            "line": {
             "colorbar": {
              "outlinewidth": 0,
              "ticks": ""
             }
            },
            "marker": {
             "colorbar": {
              "outlinewidth": 0,
              "ticks": ""
             }
            },
            "type": "scatter3d"
           }
          ],
          "scattercarpet": [
           {
            "marker": {
             "colorbar": {
              "outlinewidth": 0,
              "ticks": ""
             }
            },
            "type": "scattercarpet"
           }
          ],
          "scattergeo": [
           {
            "marker": {
             "colorbar": {
              "outlinewidth": 0,
              "ticks": ""
             }
            },
            "type": "scattergeo"
           }
          ],
          "scattergl": [
           {
            "marker": {
             "colorbar": {
              "outlinewidth": 0,
              "ticks": ""
             }
            },
            "type": "scattergl"
           }
          ],
          "scattermapbox": [
           {
            "marker": {
             "colorbar": {
              "outlinewidth": 0,
              "ticks": ""
             }
            },
            "type": "scattermapbox"
           }
          ],
          "scatterpolar": [
           {
            "marker": {
             "colorbar": {
              "outlinewidth": 0,
              "ticks": ""
             }
            },
            "type": "scatterpolar"
           }
          ],
          "scatterpolargl": [
           {
            "marker": {
             "colorbar": {
              "outlinewidth": 0,
              "ticks": ""
             }
            },
            "type": "scatterpolargl"
           }
          ],
          "scatterternary": [
           {
            "marker": {
             "colorbar": {
              "outlinewidth": 0,
              "ticks": ""
             }
            },
            "type": "scatterternary"
           }
          ],
          "surface": [
           {
            "colorbar": {
             "outlinewidth": 0,
             "ticks": ""
            },
            "colorscale": [
             [
              0,
              "#0d0887"
             ],
             [
              0.1111111111111111,
              "#46039f"
             ],
             [
              0.2222222222222222,
              "#7201a8"
             ],
             [
              0.3333333333333333,
              "#9c179e"
             ],
             [
              0.4444444444444444,
              "#bd3786"
             ],
             [
              0.5555555555555556,
              "#d8576b"
             ],
             [
              0.6666666666666666,
              "#ed7953"
             ],
             [
              0.7777777777777778,
              "#fb9f3a"
             ],
             [
              0.8888888888888888,
              "#fdca26"
             ],
             [
              1,
              "#f0f921"
             ]
            ],
            "type": "surface"
           }
          ],
          "table": [
           {
            "cells": {
             "fill": {
              "color": "#EBF0F8"
             },
             "line": {
              "color": "white"
             }
            },
            "header": {
             "fill": {
              "color": "#C8D4E3"
             },
             "line": {
              "color": "white"
             }
            },
            "type": "table"
           }
          ]
         },
         "layout": {
          "annotationdefaults": {
           "arrowcolor": "#2a3f5f",
           "arrowhead": 0,
           "arrowwidth": 1
          },
          "autotypenumbers": "strict",
          "coloraxis": {
           "colorbar": {
            "outlinewidth": 0,
            "ticks": ""
           }
          },
          "colorscale": {
           "diverging": [
            [
             0,
             "#8e0152"
            ],
            [
             0.1,
             "#c51b7d"
            ],
            [
             0.2,
             "#de77ae"
            ],
            [
             0.3,
             "#f1b6da"
            ],
            [
             0.4,
             "#fde0ef"
            ],
            [
             0.5,
             "#f7f7f7"
            ],
            [
             0.6,
             "#e6f5d0"
            ],
            [
             0.7,
             "#b8e186"
            ],
            [
             0.8,
             "#7fbc41"
            ],
            [
             0.9,
             "#4d9221"
            ],
            [
             1,
             "#276419"
            ]
           ],
           "sequential": [
            [
             0,
             "#0d0887"
            ],
            [
             0.1111111111111111,
             "#46039f"
            ],
            [
             0.2222222222222222,
             "#7201a8"
            ],
            [
             0.3333333333333333,
             "#9c179e"
            ],
            [
             0.4444444444444444,
             "#bd3786"
            ],
            [
             0.5555555555555556,
             "#d8576b"
            ],
            [
             0.6666666666666666,
             "#ed7953"
            ],
            [
             0.7777777777777778,
             "#fb9f3a"
            ],
            [
             0.8888888888888888,
             "#fdca26"
            ],
            [
             1,
             "#f0f921"
            ]
           ],
           "sequentialminus": [
            [
             0,
             "#0d0887"
            ],
            [
             0.1111111111111111,
             "#46039f"
            ],
            [
             0.2222222222222222,
             "#7201a8"
            ],
            [
             0.3333333333333333,
             "#9c179e"
            ],
            [
             0.4444444444444444,
             "#bd3786"
            ],
            [
             0.5555555555555556,
             "#d8576b"
            ],
            [
             0.6666666666666666,
             "#ed7953"
            ],
            [
             0.7777777777777778,
             "#fb9f3a"
            ],
            [
             0.8888888888888888,
             "#fdca26"
            ],
            [
             1,
             "#f0f921"
            ]
           ]
          },
          "colorway": [
           "#636efa",
           "#EF553B",
           "#00cc96",
           "#ab63fa",
           "#FFA15A",
           "#19d3f3",
           "#FF6692",
           "#B6E880",
           "#FF97FF",
           "#FECB52"
          ],
          "font": {
           "color": "#2a3f5f"
          },
          "geo": {
           "bgcolor": "white",
           "lakecolor": "white",
           "landcolor": "#E5ECF6",
           "showlakes": true,
           "showland": true,
           "subunitcolor": "white"
          },
          "hoverlabel": {
           "align": "left"
          },
          "hovermode": "closest",
          "mapbox": {
           "style": "light"
          },
          "paper_bgcolor": "white",
          "plot_bgcolor": "#E5ECF6",
          "polar": {
           "angularaxis": {
            "gridcolor": "white",
            "linecolor": "white",
            "ticks": ""
           },
           "bgcolor": "#E5ECF6",
           "radialaxis": {
            "gridcolor": "white",
            "linecolor": "white",
            "ticks": ""
           }
          },
          "scene": {
           "xaxis": {
            "backgroundcolor": "#E5ECF6",
            "gridcolor": "white",
            "gridwidth": 2,
            "linecolor": "white",
            "showbackground": true,
            "ticks": "",
            "zerolinecolor": "white"
           },
           "yaxis": {
            "backgroundcolor": "#E5ECF6",
            "gridcolor": "white",
            "gridwidth": 2,
            "linecolor": "white",
            "showbackground": true,
            "ticks": "",
            "zerolinecolor": "white"
           },
           "zaxis": {
            "backgroundcolor": "#E5ECF6",
            "gridcolor": "white",
            "gridwidth": 2,
            "linecolor": "white",
            "showbackground": true,
            "ticks": "",
            "zerolinecolor": "white"
           }
          },
          "shapedefaults": {
           "line": {
            "color": "#2a3f5f"
           }
          },
          "ternary": {
           "aaxis": {
            "gridcolor": "white",
            "linecolor": "white",
            "ticks": ""
           },
           "baxis": {
            "gridcolor": "white",
            "linecolor": "white",
            "ticks": ""
           },
           "bgcolor": "#E5ECF6",
           "caxis": {
            "gridcolor": "white",
            "linecolor": "white",
            "ticks": ""
           }
          },
          "title": {
           "x": 0.05
          },
          "xaxis": {
           "automargin": true,
           "gridcolor": "white",
           "linecolor": "white",
           "ticks": "",
           "title": {
            "standoff": 15
           },
           "zerolinecolor": "white",
           "zerolinewidth": 2
          },
          "yaxis": {
           "automargin": true,
           "gridcolor": "white",
           "linecolor": "white",
           "ticks": "",
           "title": {
            "standoff": 15
           },
           "zerolinecolor": "white",
           "zerolinewidth": 2
          }
         }
        },
        "title": {
         "text": "bpm over time for 5 neighbors of Michael Jordan"
        },
        "xaxis": {
         "anchor": "y",
         "domain": [
          0,
          1
         ],
         "title": {
          "text": "age"
         }
        },
        "yaxis": {
         "anchor": "x",
         "domain": [
          0,
          1
         ],
         "title": {
          "text": "bpm"
         }
        }
       }
      },
      "text/html": [
       "<div>                            <div id=\"6daa04c0-041c-43d9-91eb-cc96679d4ade\" class=\"plotly-graph-div\" style=\"height:525px; width:100%;\"></div>            <script type=\"text/javascript\">                require([\"plotly\"], function(Plotly) {                    window.PLOTLYENV=window.PLOTLYENV || {};                                    if (document.getElementById(\"6daa04c0-041c-43d9-91eb-cc96679d4ade\")) {                    Plotly.newPlot(                        \"6daa04c0-041c-43d9-91eb-cc96679d4ade\",                        [{\"hovertemplate\":\"Player=Robert Horry<br>age=%{x}<br>bpm=%{y}<extra></extra>\",\"legendgroup\":\"Robert Horry\",\"line\":{\"color\":\"#636efa\",\"dash\":\"solid\"},\"marker\":{\"symbol\":\"circle\"},\"mode\":\"lines\",\"name\":\"Robert Horry\",\"orientation\":\"v\",\"showlegend\":true,\"x\":[26,27,28,29,30,31,32,33,34,35,36,37],\"xaxis\":\"x\",\"y\":[1.3,2.5,1.9,3.0,-0.4,3.5,0.6,2.7,3.0,3.1,2.1,0.4],\"yaxis\":\"y\",\"type\":\"scatter\"},{\"hovertemplate\":\"Player=Hakeem Olajuwon<br>age=%{x}<br>bpm=%{y}<extra></extra>\",\"legendgroup\":\"Hakeem Olajuwon\",\"line\":{\"color\":\"#EF553B\",\"dash\":\"solid\"},\"marker\":{\"symbol\":\"circle\"},\"mode\":\"lines\",\"name\":\"Hakeem Olajuwon\",\"orientation\":\"v\",\"showlegend\":true,\"x\":[34,35,36,37,38,39],\"xaxis\":\"x\",\"y\":[3.5,3.0,3.2,0.4,2.8,-0.4],\"yaxis\":\"y\",\"type\":\"scatter\"},{\"hovertemplate\":\"Player=Michael Jordan<br>age=%{x}<br>bpm=%{y}<extra></extra>\",\"legendgroup\":\"Michael Jordan\",\"line\":{\"color\":\"#00cc96\",\"dash\":\"solid\"},\"marker\":{\"symbol\":\"circle\"},\"mode\":\"lines\",\"name\":\"Michael Jordan\",\"orientation\":\"v\",\"showlegend\":true,\"x\":[33,34,38,39],\"xaxis\":\"x\",\"y\":[8.9,6.9,3.1,1.7],\"yaxis\":\"y\",\"type\":\"scatter\"},{\"hovertemplate\":\"Player=Andrew Bynum<br>age=%{x}<br>bpm=%{y}<extra></extra>\",\"legendgroup\":\"Andrew Bynum\",\"line\":{\"color\":\"#ab63fa\",\"dash\":\"solid\"},\"marker\":{\"symbol\":\"circle\"},\"mode\":\"lines\",\"name\":\"Andrew Bynum\",\"orientation\":\"v\",\"showlegend\":true,\"x\":[18,19,20,21,22,23,24,26],\"xaxis\":\"x\",\"y\":[-6.9,-1.0,4.2,1.1,1.5,3.2,2.9,-1.9],\"yaxis\":\"y\",\"type\":\"scatter\"},{\"hovertemplate\":\"Player=Ben Simmons<br>age=%{x}<br>bpm=%{y}<extra></extra>\",\"legendgroup\":\"Ben Simmons\",\"line\":{\"color\":\"#FFA15A\",\"dash\":\"solid\"},\"marker\":{\"symbol\":\"circle\"},\"mode\":\"lines\",\"name\":\"Ben Simmons\",\"orientation\":\"v\",\"showlegend\":true,\"x\":[21,22,23,24],\"xaxis\":\"x\",\"y\":[4.5,3.6,3.6,2.9],\"yaxis\":\"y\",\"type\":\"scatter\"},{\"hovertemplate\":\"Player=Chris Boucher<br>age=%{x}<br>bpm=%{y}<extra></extra>\",\"legendgroup\":\"Chris Boucher\",\"line\":{\"color\":\"#19d3f3\",\"dash\":\"solid\"},\"marker\":{\"symbol\":\"circle\"},\"mode\":\"lines\",\"name\":\"Chris Boucher\",\"orientation\":\"v\",\"showlegend\":true,\"x\":[25,26,27,28],\"xaxis\":\"x\",\"y\":[-33.1,2.6,2.0,3.3],\"yaxis\":\"y\",\"type\":\"scatter\"}],                        {\"template\":{\"data\":{\"histogram2dcontour\":[{\"type\":\"histogram2dcontour\",\"colorbar\":{\"outlinewidth\":0,\"ticks\":\"\"},\"colorscale\":[[0.0,\"#0d0887\"],[0.1111111111111111,\"#46039f\"],[0.2222222222222222,\"#7201a8\"],[0.3333333333333333,\"#9c179e\"],[0.4444444444444444,\"#bd3786\"],[0.5555555555555556,\"#d8576b\"],[0.6666666666666666,\"#ed7953\"],[0.7777777777777778,\"#fb9f3a\"],[0.8888888888888888,\"#fdca26\"],[1.0,\"#f0f921\"]]}],\"choropleth\":[{\"type\":\"choropleth\",\"colorbar\":{\"outlinewidth\":0,\"ticks\":\"\"}}],\"histogram2d\":[{\"type\":\"histogram2d\",\"colorbar\":{\"outlinewidth\":0,\"ticks\":\"\"},\"colorscale\":[[0.0,\"#0d0887\"],[0.1111111111111111,\"#46039f\"],[0.2222222222222222,\"#7201a8\"],[0.3333333333333333,\"#9c179e\"],[0.4444444444444444,\"#bd3786\"],[0.5555555555555556,\"#d8576b\"],[0.6666666666666666,\"#ed7953\"],[0.7777777777777778,\"#fb9f3a\"],[0.8888888888888888,\"#fdca26\"],[1.0,\"#f0f921\"]]}],\"heatmap\":[{\"type\":\"heatmap\",\"colorbar\":{\"outlinewidth\":0,\"ticks\":\"\"},\"colorscale\":[[0.0,\"#0d0887\"],[0.1111111111111111,\"#46039f\"],[0.2222222222222222,\"#7201a8\"],[0.3333333333333333,\"#9c179e\"],[0.4444444444444444,\"#bd3786\"],[0.5555555555555556,\"#d8576b\"],[0.6666666666666666,\"#ed7953\"],[0.7777777777777778,\"#fb9f3a\"],[0.8888888888888888,\"#fdca26\"],[1.0,\"#f0f921\"]]}],\"heatmapgl\":[{\"type\":\"heatmapgl\",\"colorbar\":{\"outlinewidth\":0,\"ticks\":\"\"},\"colorscale\":[[0.0,\"#0d0887\"],[0.1111111111111111,\"#46039f\"],[0.2222222222222222,\"#7201a8\"],[0.3333333333333333,\"#9c179e\"],[0.4444444444444444,\"#bd3786\"],[0.5555555555555556,\"#d8576b\"],[0.6666666666666666,\"#ed7953\"],[0.7777777777777778,\"#fb9f3a\"],[0.8888888888888888,\"#fdca26\"],[1.0,\"#f0f921\"]]}],\"contourcarpet\":[{\"type\":\"contourcarpet\",\"colorbar\":{\"outlinewidth\":0,\"ticks\":\"\"}}],\"contour\":[{\"type\":\"contour\",\"colorbar\":{\"outlinewidth\":0,\"ticks\":\"\"},\"colorscale\":[[0.0,\"#0d0887\"],[0.1111111111111111,\"#46039f\"],[0.2222222222222222,\"#7201a8\"],[0.3333333333333333,\"#9c179e\"],[0.4444444444444444,\"#bd3786\"],[0.5555555555555556,\"#d8576b\"],[0.6666666666666666,\"#ed7953\"],[0.7777777777777778,\"#fb9f3a\"],[0.8888888888888888,\"#fdca26\"],[1.0,\"#f0f921\"]]}],\"surface\":[{\"type\":\"surface\",\"colorbar\":{\"outlinewidth\":0,\"ticks\":\"\"},\"colorscale\":[[0.0,\"#0d0887\"],[0.1111111111111111,\"#46039f\"],[0.2222222222222222,\"#7201a8\"],[0.3333333333333333,\"#9c179e\"],[0.4444444444444444,\"#bd3786\"],[0.5555555555555556,\"#d8576b\"],[0.6666666666666666,\"#ed7953\"],[0.7777777777777778,\"#fb9f3a\"],[0.8888888888888888,\"#fdca26\"],[1.0,\"#f0f921\"]]}],\"mesh3d\":[{\"type\":\"mesh3d\",\"colorbar\":{\"outlinewidth\":0,\"ticks\":\"\"}}],\"scatter\":[{\"fillpattern\":{\"fillmode\":\"overlay\",\"size\":10,\"solidity\":0.2},\"type\":\"scatter\"}],\"parcoords\":[{\"type\":\"parcoords\",\"line\":{\"colorbar\":{\"outlinewidth\":0,\"ticks\":\"\"}}}],\"scatterpolargl\":[{\"type\":\"scatterpolargl\",\"marker\":{\"colorbar\":{\"outlinewidth\":0,\"ticks\":\"\"}}}],\"bar\":[{\"error_x\":{\"color\":\"#2a3f5f\"},\"error_y\":{\"color\":\"#2a3f5f\"},\"marker\":{\"line\":{\"color\":\"#E5ECF6\",\"width\":0.5},\"pattern\":{\"fillmode\":\"overlay\",\"size\":10,\"solidity\":0.2}},\"type\":\"bar\"}],\"scattergeo\":[{\"type\":\"scattergeo\",\"marker\":{\"colorbar\":{\"outlinewidth\":0,\"ticks\":\"\"}}}],\"scatterpolar\":[{\"type\":\"scatterpolar\",\"marker\":{\"colorbar\":{\"outlinewidth\":0,\"ticks\":\"\"}}}],\"histogram\":[{\"marker\":{\"pattern\":{\"fillmode\":\"overlay\",\"size\":10,\"solidity\":0.2}},\"type\":\"histogram\"}],\"scattergl\":[{\"type\":\"scattergl\",\"marker\":{\"colorbar\":{\"outlinewidth\":0,\"ticks\":\"\"}}}],\"scatter3d\":[{\"type\":\"scatter3d\",\"line\":{\"colorbar\":{\"outlinewidth\":0,\"ticks\":\"\"}},\"marker\":{\"colorbar\":{\"outlinewidth\":0,\"ticks\":\"\"}}}],\"scattermapbox\":[{\"type\":\"scattermapbox\",\"marker\":{\"colorbar\":{\"outlinewidth\":0,\"ticks\":\"\"}}}],\"scatterternary\":[{\"type\":\"scatterternary\",\"marker\":{\"colorbar\":{\"outlinewidth\":0,\"ticks\":\"\"}}}],\"scattercarpet\":[{\"type\":\"scattercarpet\",\"marker\":{\"colorbar\":{\"outlinewidth\":0,\"ticks\":\"\"}}}],\"carpet\":[{\"aaxis\":{\"endlinecolor\":\"#2a3f5f\",\"gridcolor\":\"white\",\"linecolor\":\"white\",\"minorgridcolor\":\"white\",\"startlinecolor\":\"#2a3f5f\"},\"baxis\":{\"endlinecolor\":\"#2a3f5f\",\"gridcolor\":\"white\",\"linecolor\":\"white\",\"minorgridcolor\":\"white\",\"startlinecolor\":\"#2a3f5f\"},\"type\":\"carpet\"}],\"table\":[{\"cells\":{\"fill\":{\"color\":\"#EBF0F8\"},\"line\":{\"color\":\"white\"}},\"header\":{\"fill\":{\"color\":\"#C8D4E3\"},\"line\":{\"color\":\"white\"}},\"type\":\"table\"}],\"barpolar\":[{\"marker\":{\"line\":{\"color\":\"#E5ECF6\",\"width\":0.5},\"pattern\":{\"fillmode\":\"overlay\",\"size\":10,\"solidity\":0.2}},\"type\":\"barpolar\"}],\"pie\":[{\"automargin\":true,\"type\":\"pie\"}]},\"layout\":{\"autotypenumbers\":\"strict\",\"colorway\":[\"#636efa\",\"#EF553B\",\"#00cc96\",\"#ab63fa\",\"#FFA15A\",\"#19d3f3\",\"#FF6692\",\"#B6E880\",\"#FF97FF\",\"#FECB52\"],\"font\":{\"color\":\"#2a3f5f\"},\"hovermode\":\"closest\",\"hoverlabel\":{\"align\":\"left\"},\"paper_bgcolor\":\"white\",\"plot_bgcolor\":\"#E5ECF6\",\"polar\":{\"bgcolor\":\"#E5ECF6\",\"angularaxis\":{\"gridcolor\":\"white\",\"linecolor\":\"white\",\"ticks\":\"\"},\"radialaxis\":{\"gridcolor\":\"white\",\"linecolor\":\"white\",\"ticks\":\"\"}},\"ternary\":{\"bgcolor\":\"#E5ECF6\",\"aaxis\":{\"gridcolor\":\"white\",\"linecolor\":\"white\",\"ticks\":\"\"},\"baxis\":{\"gridcolor\":\"white\",\"linecolor\":\"white\",\"ticks\":\"\"},\"caxis\":{\"gridcolor\":\"white\",\"linecolor\":\"white\",\"ticks\":\"\"}},\"coloraxis\":{\"colorbar\":{\"outlinewidth\":0,\"ticks\":\"\"}},\"colorscale\":{\"sequential\":[[0.0,\"#0d0887\"],[0.1111111111111111,\"#46039f\"],[0.2222222222222222,\"#7201a8\"],[0.3333333333333333,\"#9c179e\"],[0.4444444444444444,\"#bd3786\"],[0.5555555555555556,\"#d8576b\"],[0.6666666666666666,\"#ed7953\"],[0.7777777777777778,\"#fb9f3a\"],[0.8888888888888888,\"#fdca26\"],[1.0,\"#f0f921\"]],\"sequentialminus\":[[0.0,\"#0d0887\"],[0.1111111111111111,\"#46039f\"],[0.2222222222222222,\"#7201a8\"],[0.3333333333333333,\"#9c179e\"],[0.4444444444444444,\"#bd3786\"],[0.5555555555555556,\"#d8576b\"],[0.6666666666666666,\"#ed7953\"],[0.7777777777777778,\"#fb9f3a\"],[0.8888888888888888,\"#fdca26\"],[1.0,\"#f0f921\"]],\"diverging\":[[0,\"#8e0152\"],[0.1,\"#c51b7d\"],[0.2,\"#de77ae\"],[0.3,\"#f1b6da\"],[0.4,\"#fde0ef\"],[0.5,\"#f7f7f7\"],[0.6,\"#e6f5d0\"],[0.7,\"#b8e186\"],[0.8,\"#7fbc41\"],[0.9,\"#4d9221\"],[1,\"#276419\"]]},\"xaxis\":{\"gridcolor\":\"white\",\"linecolor\":\"white\",\"ticks\":\"\",\"title\":{\"standoff\":15},\"zerolinecolor\":\"white\",\"automargin\":true,\"zerolinewidth\":2},\"yaxis\":{\"gridcolor\":\"white\",\"linecolor\":\"white\",\"ticks\":\"\",\"title\":{\"standoff\":15},\"zerolinecolor\":\"white\",\"automargin\":true,\"zerolinewidth\":2},\"scene\":{\"xaxis\":{\"backgroundcolor\":\"#E5ECF6\",\"gridcolor\":\"white\",\"linecolor\":\"white\",\"showbackground\":true,\"ticks\":\"\",\"zerolinecolor\":\"white\",\"gridwidth\":2},\"yaxis\":{\"backgroundcolor\":\"#E5ECF6\",\"gridcolor\":\"white\",\"linecolor\":\"white\",\"showbackground\":true,\"ticks\":\"\",\"zerolinecolor\":\"white\",\"gridwidth\":2},\"zaxis\":{\"backgroundcolor\":\"#E5ECF6\",\"gridcolor\":\"white\",\"linecolor\":\"white\",\"showbackground\":true,\"ticks\":\"\",\"zerolinecolor\":\"white\",\"gridwidth\":2}},\"shapedefaults\":{\"line\":{\"color\":\"#2a3f5f\"}},\"annotationdefaults\":{\"arrowcolor\":\"#2a3f5f\",\"arrowhead\":0,\"arrowwidth\":1},\"geo\":{\"bgcolor\":\"white\",\"landcolor\":\"#E5ECF6\",\"subunitcolor\":\"white\",\"showland\":true,\"showlakes\":true,\"lakecolor\":\"white\"},\"title\":{\"x\":0.05},\"mapbox\":{\"style\":\"light\"}}},\"xaxis\":{\"anchor\":\"y\",\"domain\":[0.0,1.0],\"title\":{\"text\":\"age\"}},\"yaxis\":{\"anchor\":\"x\",\"domain\":[0.0,1.0],\"title\":{\"text\":\"bpm\"}},\"legend\":{\"title\":{\"text\":\"Player\"},\"tracegroupgap\":0},\"margin\":{\"t\":60},\"title\":{\"text\":\"bpm over time for 5 neighbors of Michael Jordan\"}},                        {\"responsive\": true}                    ).then(function(){\n",
       "                            \n",
       "var gd = document.getElementById('6daa04c0-041c-43d9-91eb-cc96679d4ade');\n",
       "var x = new MutationObserver(function (mutations, observer) {{\n",
       "        var display = window.getComputedStyle(gd).display;\n",
       "        if (!display || display === 'none') {{\n",
       "            console.log([gd, 'removed!']);\n",
       "            Plotly.purge(gd);\n",
       "            observer.disconnect();\n",
       "        }}\n",
       "}});\n",
       "\n",
       "// Listen for the removal of the full notebook cells\n",
       "var notebookContainer = gd.closest('#notebook-container');\n",
       "if (notebookContainer) {{\n",
       "    x.observe(notebookContainer, {childList: true});\n",
       "}}\n",
       "\n",
       "// Listen for the clearing of the current output cell\n",
       "var outputEl = gd.closest('.output');\n",
       "if (outputEl) {{\n",
       "    x.observe(outputEl, {childList: true});\n",
       "}}\n",
       "\n",
       "                        })                };                });            </script>        </div>"
      ]
     },
     "metadata": {},
     "output_type": "display_data"
    }
   ],
   "source": [
    "plot_trajectories(df, \"Michael Jordan\", 6, \"bpm\", rotated_means_results[\"gaussian_bpm_rflvm\"])"
   ]
  },
  {
   "cell_type": "code",
   "execution_count": 37,
   "metadata": {},
   "outputs": [],
   "source": [
    "experiment_model_result = {}\n",
    "for file in os.listdir(\"experiments\"):\n",
    "    if file.endswith(\"model_rflvm.pickle\"):\n",
    "        with open(f\"experiments/{file}\",\"rb\") as f:\n",
    "            data = pickle.load(f)\n",
    "        f.close()\n",
    "        experiment_model_result[file.split(\".\")[0]] = data"
   ]
  },
  {
   "cell_type": "code",
   "execution_count": 54,
   "metadata": {},
   "outputs": [],
   "source": [
    "bpm_preds = experiment_model_result[\"gaussian_bpm_model_rflvm\"].predict(experiment_result[\"gaussian_bpm_rflvm\"][\"X\"][-1,:,:])"
   ]
  },
  {
   "cell_type": "code",
   "execution_count": 56,
   "metadata": {},
   "outputs": [
    {
     "data": {
      "text/plain": [
       "(2332, 27)"
      ]
     },
     "execution_count": 56,
     "metadata": {},
     "output_type": "execute_result"
    }
   ],
   "source": [
    "bpm_preds.shape"
   ]
  },
  {
   "cell_type": "code",
   "execution_count": 58,
   "metadata": {},
   "outputs": [],
   "source": [
    "bpm_preds_df = pd.DataFrame(bpm_preds, columns=list(range(18,45)))"
   ]
  },
  {
   "cell_type": "code",
   "execution_count": 70,
   "metadata": {},
   "outputs": [],
   "source": [
    "bpm_preds_df[\"name\"] = df[[\"name\",\"id\"]].drop_duplicates()[\"name\"].values\n",
    "bpm_preds_df[\"id\"] = df[[\"name\",\"id\"]].drop_duplicates()[\"id\"].values"
   ]
  },
  {
   "cell_type": "code",
   "execution_count": 71,
   "metadata": {},
   "outputs": [],
   "source": [
    "bpm_preds_df_long = bpm_preds_df.melt(id_vars=[\"name\",\"id\"], var_name=\"age\", value_name=\"bpm\")\n"
   ]
  },
  {
   "cell_type": "code",
   "execution_count": 73,
   "metadata": {},
   "outputs": [
    {
     "data": {
      "application/vnd.plotly.v1+json": {
       "config": {
        "plotlyServerURL": "https://plot.ly"
       },
       "data": [
        {
         "hovertemplate": "Player=Robert Horry<br>age=%{x}<br>bpm=%{y}<extra></extra>",
         "legendgroup": "Robert Horry",
         "line": {
          "color": "#636efa",
          "dash": "solid"
         },
         "marker": {
          "symbol": "circle"
         },
         "mode": "lines",
         "name": "Robert Horry",
         "orientation": "v",
         "showlegend": true,
         "type": "scatter",
         "x": [
          18,
          19,
          20,
          21,
          22,
          23,
          24,
          25,
          26,
          27,
          28,
          29,
          30,
          31,
          32,
          33,
          34,
          35,
          36,
          37,
          38,
          39,
          40,
          41,
          42,
          43,
          44
         ],
         "xaxis": "x",
         "y": [
          -4.464899514676869,
          -1.9594076010259627,
          -1.7511647453382768,
          -1.3715497266555723,
          -1.5447667548272017,
          -3.057094511302413,
          -1.6731692806898995,
          -1.4095058804293041,
          -2.132112332459583,
          -2.4289737129500755,
          -0.05889933638025439,
          -0.25250650885765885,
          0.8913145386921392,
          0.7433024946143352,
          0.6612855027727351,
          1.1383886467725535,
          0.9249249035884209,
          0.04217799400464782,
          -0.7819464683013779,
          -1.6544100827750727,
          -1.8455170137353236,
          -2.1531959085280556,
          -0.16974687299994343,
          -0.44802863115029895,
          -2.9435875026291676,
          -3.241539946170422,
          -7.556613103610006
         ],
         "yaxis": "y"
        },
        {
         "hovertemplate": "Player=Hakeem Olajuwon<br>age=%{x}<br>bpm=%{y}<extra></extra>",
         "legendgroup": "Hakeem Olajuwon",
         "line": {
          "color": "#EF553B",
          "dash": "solid"
         },
         "marker": {
          "symbol": "circle"
         },
         "mode": "lines",
         "name": "Hakeem Olajuwon",
         "orientation": "v",
         "showlegend": true,
         "type": "scatter",
         "x": [
          18,
          19,
          20,
          21,
          22,
          23,
          24,
          25,
          26,
          27,
          28,
          29,
          30,
          31,
          32,
          33,
          34,
          35,
          36,
          37,
          38,
          39,
          40,
          41,
          42,
          43,
          44
         ],
         "xaxis": "x",
         "y": [
          -3.4133466977618188,
          -1.231458255672194,
          -2.337804344631273,
          -2.3502264625305176,
          -3.4281060919160455,
          -2.087072619485471,
          -3.085850454625491,
          -2.2727561994358876,
          -1.638508477395552,
          -1.9695902542276318,
          -1.1069662173518728,
          -1.9095178469542236,
          -1.1508356431368063,
          -0.43762068125860537,
          -0.9977517345119652,
          1.1270260415465678,
          1.9252674603054973,
          1.0832186445330159,
          0.3413487158263578,
          -0.05493267482391778,
          -0.8544675864775706,
          -1.7083853527688193,
          -0.12910631071606174,
          -0.2042658862501485,
          -2.5364383285866428,
          -2.4071219735183242,
          -6.190061267430727
         ],
         "yaxis": "y"
        },
        {
         "hovertemplate": "Player=Michael Jordan<br>age=%{x}<br>bpm=%{y}<extra></extra>",
         "legendgroup": "Michael Jordan",
         "line": {
          "color": "#00cc96",
          "dash": "solid"
         },
         "marker": {
          "symbol": "circle"
         },
         "mode": "lines",
         "name": "Michael Jordan",
         "orientation": "v",
         "showlegend": true,
         "type": "scatter",
         "x": [
          18,
          19,
          20,
          21,
          22,
          23,
          24,
          25,
          26,
          27,
          28,
          29,
          30,
          31,
          32,
          33,
          34,
          35,
          36,
          37,
          38,
          39,
          40,
          41,
          42,
          43,
          44
         ],
         "xaxis": "x",
         "y": [
          0.45882460128654123,
          0.5201182512378278,
          -0.21015664018671454,
          0.21765985083880707,
          2.3604826301319375,
          3.659078009858671,
          2.7254402715498953,
          3.32312558013641,
          4.530090140254072,
          3.6256537064186083,
          2.185742185497919,
          3.974085156980882,
          -0.43401840477548936,
          -0.09266257275565248,
          -1.5190223145394226,
          -1.043882140270723,
          -0.4575255168891777,
          -0.7170193118558639,
          0.8318108785512717,
          0.8384363591387304,
          1.2921815491448825,
          1.0364285742757795,
          1.1791743331816043,
          -0.1005601845756707,
          0.9679725569702248,
          0.41106875552416566,
          1.5964961315090087
         ],
         "yaxis": "y"
        },
        {
         "hovertemplate": "Player=Andrew Bynum<br>age=%{x}<br>bpm=%{y}<extra></extra>",
         "legendgroup": "Andrew Bynum",
         "line": {
          "color": "#ab63fa",
          "dash": "solid"
         },
         "marker": {
          "symbol": "circle"
         },
         "mode": "lines",
         "name": "Andrew Bynum",
         "orientation": "v",
         "showlegend": true,
         "type": "scatter",
         "x": [
          18,
          19,
          20,
          21,
          22,
          23,
          24,
          25,
          26,
          27,
          28,
          29,
          30,
          31,
          32,
          33,
          34,
          35,
          36,
          37,
          38,
          39,
          40,
          41,
          42,
          43,
          44
         ],
         "xaxis": "x",
         "y": [
          -4.807092977134533,
          -3.044149913789524,
          -3.1554453148829946,
          -3.2335330690774455,
          -3.7625613412025407,
          -4.1099308115870175,
          -3.2916857655220477,
          -0.3380890912651893,
          -2.0801295704806084,
          -1.1077308426845358,
          -0.8288883030454839,
          0.9087843093981238,
          -0.5897228039813037,
          -0.2708862260741689,
          1.6473489917623665,
          1.7646466452159995,
          2.2481472093167527,
          1.4945878771694852,
          -0.08427557323295032,
          -2.598211568561171,
          -1.9138391169829527,
          -1.6279288490400265,
          -0.020068844013600897,
          -0.43730707833566385,
          -4.042983050271397,
          -3.1309699026008646,
          -7.711471849346109
         ],
         "yaxis": "y"
        },
        {
         "hovertemplate": "Player=Ben Simmons<br>age=%{x}<br>bpm=%{y}<extra></extra>",
         "legendgroup": "Ben Simmons",
         "line": {
          "color": "#FFA15A",
          "dash": "solid"
         },
         "marker": {
          "symbol": "circle"
         },
         "mode": "lines",
         "name": "Ben Simmons",
         "orientation": "v",
         "showlegend": true,
         "type": "scatter",
         "x": [
          18,
          19,
          20,
          21,
          22,
          23,
          24,
          25,
          26,
          27,
          28,
          29,
          30,
          31,
          32,
          33,
          34,
          35,
          36,
          37,
          38,
          39,
          40,
          41,
          42,
          43,
          44
         ],
         "xaxis": "x",
         "y": [
          -5.315816896125632,
          -2.6273053254900027,
          -2.4558937720941123,
          -2.147476442565537,
          -1.7113671781952255,
          -3.7401774683798314,
          -1.9316944191886765,
          -1.0112521628003115,
          -2.1918460265745296,
          -1.028218481058547,
          -0.1589712074675166,
          -0.33214425696518435,
          -0.3968667695768426,
          -0.7156656993004256,
          0.6205587839902091,
          2.0016765113105404,
          3.0733482222741495,
          2.9202939132325825,
          1.3282860769924754,
          -1.1734103286229551,
          -2.1657086994896786,
          -1.9644327394237844,
          -0.10006765521677202,
          -0.6042070237982884,
          -4.425897512206905,
          -3.3318228396321774,
          -8.322401981011849
         ],
         "yaxis": "y"
        },
        {
         "hovertemplate": "Player=Chris Boucher<br>age=%{x}<br>bpm=%{y}<extra></extra>",
         "legendgroup": "Chris Boucher",
         "line": {
          "color": "#19d3f3",
          "dash": "solid"
         },
         "marker": {
          "symbol": "circle"
         },
         "mode": "lines",
         "name": "Chris Boucher",
         "orientation": "v",
         "showlegend": true,
         "type": "scatter",
         "x": [
          18,
          19,
          20,
          21,
          22,
          23,
          24,
          25,
          26,
          27,
          28,
          29,
          30,
          31,
          32,
          33,
          34,
          35,
          36,
          37,
          38,
          39,
          40,
          41,
          42,
          43,
          44
         ],
         "xaxis": "x",
         "y": [
          -4.842319666079233,
          -2.8834747072554094,
          -2.8918961022711605,
          -3.061734050803778,
          -1.9451735249725406,
          -1.1373448741347238,
          -1.7298170361180072,
          -0.05548705383075372,
          -1.2166444664493643,
          0.006696500627726011,
          0.06664691390762939,
          0.6282017915427818,
          0.9056058553694973,
          0.7677537462880241,
          1.5560345791004684,
          0.9660707028488237,
          -0.12242307723940891,
          -0.24071857494461169,
          -1.7184684754950421,
          -2.790039114077714,
          -1.8580135794075736,
          -2.1221251457490355,
          -0.25775848393069445,
          -0.38723391750832803,
          -3.2173496089966624,
          -3.5779458915502484,
          -8.018854293987665
         ],
         "yaxis": "y"
        }
       ],
       "layout": {
        "legend": {
         "title": {
          "text": "Player"
         },
         "tracegroupgap": 0
        },
        "margin": {
         "t": 60
        },
        "template": {
         "data": {
          "bar": [
           {
            "error_x": {
             "color": "#2a3f5f"
            },
            "error_y": {
             "color": "#2a3f5f"
            },
            "marker": {
             "line": {
              "color": "#E5ECF6",
              "width": 0.5
             },
             "pattern": {
              "fillmode": "overlay",
              "size": 10,
              "solidity": 0.2
             }
            },
            "type": "bar"
           }
          ],
          "barpolar": [
           {
            "marker": {
             "line": {
              "color": "#E5ECF6",
              "width": 0.5
             },
             "pattern": {
              "fillmode": "overlay",
              "size": 10,
              "solidity": 0.2
             }
            },
            "type": "barpolar"
           }
          ],
          "carpet": [
           {
            "aaxis": {
             "endlinecolor": "#2a3f5f",
             "gridcolor": "white",
             "linecolor": "white",
             "minorgridcolor": "white",
             "startlinecolor": "#2a3f5f"
            },
            "baxis": {
             "endlinecolor": "#2a3f5f",
             "gridcolor": "white",
             "linecolor": "white",
             "minorgridcolor": "white",
             "startlinecolor": "#2a3f5f"
            },
            "type": "carpet"
           }
          ],
          "choropleth": [
           {
            "colorbar": {
             "outlinewidth": 0,
             "ticks": ""
            },
            "type": "choropleth"
           }
          ],
          "contour": [
           {
            "colorbar": {
             "outlinewidth": 0,
             "ticks": ""
            },
            "colorscale": [
             [
              0,
              "#0d0887"
             ],
             [
              0.1111111111111111,
              "#46039f"
             ],
             [
              0.2222222222222222,
              "#7201a8"
             ],
             [
              0.3333333333333333,
              "#9c179e"
             ],
             [
              0.4444444444444444,
              "#bd3786"
             ],
             [
              0.5555555555555556,
              "#d8576b"
             ],
             [
              0.6666666666666666,
              "#ed7953"
             ],
             [
              0.7777777777777778,
              "#fb9f3a"
             ],
             [
              0.8888888888888888,
              "#fdca26"
             ],
             [
              1,
              "#f0f921"
             ]
            ],
            "type": "contour"
           }
          ],
          "contourcarpet": [
           {
            "colorbar": {
             "outlinewidth": 0,
             "ticks": ""
            },
            "type": "contourcarpet"
           }
          ],
          "heatmap": [
           {
            "colorbar": {
             "outlinewidth": 0,
             "ticks": ""
            },
            "colorscale": [
             [
              0,
              "#0d0887"
             ],
             [
              0.1111111111111111,
              "#46039f"
             ],
             [
              0.2222222222222222,
              "#7201a8"
             ],
             [
              0.3333333333333333,
              "#9c179e"
             ],
             [
              0.4444444444444444,
              "#bd3786"
             ],
             [
              0.5555555555555556,
              "#d8576b"
             ],
             [
              0.6666666666666666,
              "#ed7953"
             ],
             [
              0.7777777777777778,
              "#fb9f3a"
             ],
             [
              0.8888888888888888,
              "#fdca26"
             ],
             [
              1,
              "#f0f921"
             ]
            ],
            "type": "heatmap"
           }
          ],
          "heatmapgl": [
           {
            "colorbar": {
             "outlinewidth": 0,
             "ticks": ""
            },
            "colorscale": [
             [
              0,
              "#0d0887"
             ],
             [
              0.1111111111111111,
              "#46039f"
             ],
             [
              0.2222222222222222,
              "#7201a8"
             ],
             [
              0.3333333333333333,
              "#9c179e"
             ],
             [
              0.4444444444444444,
              "#bd3786"
             ],
             [
              0.5555555555555556,
              "#d8576b"
             ],
             [
              0.6666666666666666,
              "#ed7953"
             ],
             [
              0.7777777777777778,
              "#fb9f3a"
             ],
             [
              0.8888888888888888,
              "#fdca26"
             ],
             [
              1,
              "#f0f921"
             ]
            ],
            "type": "heatmapgl"
           }
          ],
          "histogram": [
           {
            "marker": {
             "pattern": {
              "fillmode": "overlay",
              "size": 10,
              "solidity": 0.2
             }
            },
            "type": "histogram"
           }
          ],
          "histogram2d": [
           {
            "colorbar": {
             "outlinewidth": 0,
             "ticks": ""
            },
            "colorscale": [
             [
              0,
              "#0d0887"
             ],
             [
              0.1111111111111111,
              "#46039f"
             ],
             [
              0.2222222222222222,
              "#7201a8"
             ],
             [
              0.3333333333333333,
              "#9c179e"
             ],
             [
              0.4444444444444444,
              "#bd3786"
             ],
             [
              0.5555555555555556,
              "#d8576b"
             ],
             [
              0.6666666666666666,
              "#ed7953"
             ],
             [
              0.7777777777777778,
              "#fb9f3a"
             ],
             [
              0.8888888888888888,
              "#fdca26"
             ],
             [
              1,
              "#f0f921"
             ]
            ],
            "type": "histogram2d"
           }
          ],
          "histogram2dcontour": [
           {
            "colorbar": {
             "outlinewidth": 0,
             "ticks": ""
            },
            "colorscale": [
             [
              0,
              "#0d0887"
             ],
             [
              0.1111111111111111,
              "#46039f"
             ],
             [
              0.2222222222222222,
              "#7201a8"
             ],
             [
              0.3333333333333333,
              "#9c179e"
             ],
             [
              0.4444444444444444,
              "#bd3786"
             ],
             [
              0.5555555555555556,
              "#d8576b"
             ],
             [
              0.6666666666666666,
              "#ed7953"
             ],
             [
              0.7777777777777778,
              "#fb9f3a"
             ],
             [
              0.8888888888888888,
              "#fdca26"
             ],
             [
              1,
              "#f0f921"
             ]
            ],
            "type": "histogram2dcontour"
           }
          ],
          "mesh3d": [
           {
            "colorbar": {
             "outlinewidth": 0,
             "ticks": ""
            },
            "type": "mesh3d"
           }
          ],
          "parcoords": [
           {
            "line": {
             "colorbar": {
              "outlinewidth": 0,
              "ticks": ""
             }
            },
            "type": "parcoords"
           }
          ],
          "pie": [
           {
            "automargin": true,
            "type": "pie"
           }
          ],
          "scatter": [
           {
            "fillpattern": {
             "fillmode": "overlay",
             "size": 10,
             "solidity": 0.2
            },
            "type": "scatter"
           }
          ],
          "scatter3d": [
           {
            "line": {
             "colorbar": {
              "outlinewidth": 0,
              "ticks": ""
             }
            },
            "marker": {
             "colorbar": {
              "outlinewidth": 0,
              "ticks": ""
             }
            },
            "type": "scatter3d"
           }
          ],
          "scattercarpet": [
           {
            "marker": {
             "colorbar": {
              "outlinewidth": 0,
              "ticks": ""
             }
            },
            "type": "scattercarpet"
           }
          ],
          "scattergeo": [
           {
            "marker": {
             "colorbar": {
              "outlinewidth": 0,
              "ticks": ""
             }
            },
            "type": "scattergeo"
           }
          ],
          "scattergl": [
           {
            "marker": {
             "colorbar": {
              "outlinewidth": 0,
              "ticks": ""
             }
            },
            "type": "scattergl"
           }
          ],
          "scattermapbox": [
           {
            "marker": {
             "colorbar": {
              "outlinewidth": 0,
              "ticks": ""
             }
            },
            "type": "scattermapbox"
           }
          ],
          "scatterpolar": [
           {
            "marker": {
             "colorbar": {
              "outlinewidth": 0,
              "ticks": ""
             }
            },
            "type": "scatterpolar"
           }
          ],
          "scatterpolargl": [
           {
            "marker": {
             "colorbar": {
              "outlinewidth": 0,
              "ticks": ""
             }
            },
            "type": "scatterpolargl"
           }
          ],
          "scatterternary": [
           {
            "marker": {
             "colorbar": {
              "outlinewidth": 0,
              "ticks": ""
             }
            },
            "type": "scatterternary"
           }
          ],
          "surface": [
           {
            "colorbar": {
             "outlinewidth": 0,
             "ticks": ""
            },
            "colorscale": [
             [
              0,
              "#0d0887"
             ],
             [
              0.1111111111111111,
              "#46039f"
             ],
             [
              0.2222222222222222,
              "#7201a8"
             ],
             [
              0.3333333333333333,
              "#9c179e"
             ],
             [
              0.4444444444444444,
              "#bd3786"
             ],
             [
              0.5555555555555556,
              "#d8576b"
             ],
             [
              0.6666666666666666,
              "#ed7953"
             ],
             [
              0.7777777777777778,
              "#fb9f3a"
             ],
             [
              0.8888888888888888,
              "#fdca26"
             ],
             [
              1,
              "#f0f921"
             ]
            ],
            "type": "surface"
           }
          ],
          "table": [
           {
            "cells": {
             "fill": {
              "color": "#EBF0F8"
             },
             "line": {
              "color": "white"
             }
            },
            "header": {
             "fill": {
              "color": "#C8D4E3"
             },
             "line": {
              "color": "white"
             }
            },
            "type": "table"
           }
          ]
         },
         "layout": {
          "annotationdefaults": {
           "arrowcolor": "#2a3f5f",
           "arrowhead": 0,
           "arrowwidth": 1
          },
          "autotypenumbers": "strict",
          "coloraxis": {
           "colorbar": {
            "outlinewidth": 0,
            "ticks": ""
           }
          },
          "colorscale": {
           "diverging": [
            [
             0,
             "#8e0152"
            ],
            [
             0.1,
             "#c51b7d"
            ],
            [
             0.2,
             "#de77ae"
            ],
            [
             0.3,
             "#f1b6da"
            ],
            [
             0.4,
             "#fde0ef"
            ],
            [
             0.5,
             "#f7f7f7"
            ],
            [
             0.6,
             "#e6f5d0"
            ],
            [
             0.7,
             "#b8e186"
            ],
            [
             0.8,
             "#7fbc41"
            ],
            [
             0.9,
             "#4d9221"
            ],
            [
             1,
             "#276419"
            ]
           ],
           "sequential": [
            [
             0,
             "#0d0887"
            ],
            [
             0.1111111111111111,
             "#46039f"
            ],
            [
             0.2222222222222222,
             "#7201a8"
            ],
            [
             0.3333333333333333,
             "#9c179e"
            ],
            [
             0.4444444444444444,
             "#bd3786"
            ],
            [
             0.5555555555555556,
             "#d8576b"
            ],
            [
             0.6666666666666666,
             "#ed7953"
            ],
            [
             0.7777777777777778,
             "#fb9f3a"
            ],
            [
             0.8888888888888888,
             "#fdca26"
            ],
            [
             1,
             "#f0f921"
            ]
           ],
           "sequentialminus": [
            [
             0,
             "#0d0887"
            ],
            [
             0.1111111111111111,
             "#46039f"
            ],
            [
             0.2222222222222222,
             "#7201a8"
            ],
            [
             0.3333333333333333,
             "#9c179e"
            ],
            [
             0.4444444444444444,
             "#bd3786"
            ],
            [
             0.5555555555555556,
             "#d8576b"
            ],
            [
             0.6666666666666666,
             "#ed7953"
            ],
            [
             0.7777777777777778,
             "#fb9f3a"
            ],
            [
             0.8888888888888888,
             "#fdca26"
            ],
            [
             1,
             "#f0f921"
            ]
           ]
          },
          "colorway": [
           "#636efa",
           "#EF553B",
           "#00cc96",
           "#ab63fa",
           "#FFA15A",
           "#19d3f3",
           "#FF6692",
           "#B6E880",
           "#FF97FF",
           "#FECB52"
          ],
          "font": {
           "color": "#2a3f5f"
          },
          "geo": {
           "bgcolor": "white",
           "lakecolor": "white",
           "landcolor": "#E5ECF6",
           "showlakes": true,
           "showland": true,
           "subunitcolor": "white"
          },
          "hoverlabel": {
           "align": "left"
          },
          "hovermode": "closest",
          "mapbox": {
           "style": "light"
          },
          "paper_bgcolor": "white",
          "plot_bgcolor": "#E5ECF6",
          "polar": {
           "angularaxis": {
            "gridcolor": "white",
            "linecolor": "white",
            "ticks": ""
           },
           "bgcolor": "#E5ECF6",
           "radialaxis": {
            "gridcolor": "white",
            "linecolor": "white",
            "ticks": ""
           }
          },
          "scene": {
           "xaxis": {
            "backgroundcolor": "#E5ECF6",
            "gridcolor": "white",
            "gridwidth": 2,
            "linecolor": "white",
            "showbackground": true,
            "ticks": "",
            "zerolinecolor": "white"
           },
           "yaxis": {
            "backgroundcolor": "#E5ECF6",
            "gridcolor": "white",
            "gridwidth": 2,
            "linecolor": "white",
            "showbackground": true,
            "ticks": "",
            "zerolinecolor": "white"
           },
           "zaxis": {
            "backgroundcolor": "#E5ECF6",
            "gridcolor": "white",
            "gridwidth": 2,
            "linecolor": "white",
            "showbackground": true,
            "ticks": "",
            "zerolinecolor": "white"
           }
          },
          "shapedefaults": {
           "line": {
            "color": "#2a3f5f"
           }
          },
          "ternary": {
           "aaxis": {
            "gridcolor": "white",
            "linecolor": "white",
            "ticks": ""
           },
           "baxis": {
            "gridcolor": "white",
            "linecolor": "white",
            "ticks": ""
           },
           "bgcolor": "#E5ECF6",
           "caxis": {
            "gridcolor": "white",
            "linecolor": "white",
            "ticks": ""
           }
          },
          "title": {
           "x": 0.05
          },
          "xaxis": {
           "automargin": true,
           "gridcolor": "white",
           "linecolor": "white",
           "ticks": "",
           "title": {
            "standoff": 15
           },
           "zerolinecolor": "white",
           "zerolinewidth": 2
          },
          "yaxis": {
           "automargin": true,
           "gridcolor": "white",
           "linecolor": "white",
           "ticks": "",
           "title": {
            "standoff": 15
           },
           "zerolinecolor": "white",
           "zerolinewidth": 2
          }
         }
        },
        "title": {
         "text": "bpm over time for 5 neighbors of Michael Jordan"
        },
        "xaxis": {
         "anchor": "y",
         "domain": [
          0,
          1
         ],
         "title": {
          "text": "age"
         }
        },
        "yaxis": {
         "anchor": "x",
         "domain": [
          0,
          1
         ],
         "title": {
          "text": "bpm"
         }
        }
       }
      },
      "text/html": [
       "<div>                            <div id=\"002f56cf-e314-4894-98db-c3e0cf082f68\" class=\"plotly-graph-div\" style=\"height:525px; width:100%;\"></div>            <script type=\"text/javascript\">                require([\"plotly\"], function(Plotly) {                    window.PLOTLYENV=window.PLOTLYENV || {};                                    if (document.getElementById(\"002f56cf-e314-4894-98db-c3e0cf082f68\")) {                    Plotly.newPlot(                        \"002f56cf-e314-4894-98db-c3e0cf082f68\",                        [{\"hovertemplate\":\"Player=Robert Horry<br>age=%{x}<br>bpm=%{y}<extra></extra>\",\"legendgroup\":\"Robert Horry\",\"line\":{\"color\":\"#636efa\",\"dash\":\"solid\"},\"marker\":{\"symbol\":\"circle\"},\"mode\":\"lines\",\"name\":\"Robert Horry\",\"orientation\":\"v\",\"showlegend\":true,\"x\":[18,19,20,21,22,23,24,25,26,27,28,29,30,31,32,33,34,35,36,37,38,39,40,41,42,43,44],\"xaxis\":\"x\",\"y\":[-4.464899514676869,-1.9594076010259627,-1.7511647453382768,-1.3715497266555723,-1.5447667548272017,-3.057094511302413,-1.6731692806898995,-1.4095058804293041,-2.132112332459583,-2.4289737129500755,-0.05889933638025439,-0.25250650885765885,0.8913145386921392,0.7433024946143352,0.6612855027727351,1.1383886467725535,0.9249249035884209,0.04217799400464782,-0.7819464683013779,-1.6544100827750727,-1.8455170137353236,-2.1531959085280556,-0.16974687299994343,-0.44802863115029895,-2.9435875026291676,-3.241539946170422,-7.556613103610006],\"yaxis\":\"y\",\"type\":\"scatter\"},{\"hovertemplate\":\"Player=Hakeem Olajuwon<br>age=%{x}<br>bpm=%{y}<extra></extra>\",\"legendgroup\":\"Hakeem Olajuwon\",\"line\":{\"color\":\"#EF553B\",\"dash\":\"solid\"},\"marker\":{\"symbol\":\"circle\"},\"mode\":\"lines\",\"name\":\"Hakeem Olajuwon\",\"orientation\":\"v\",\"showlegend\":true,\"x\":[18,19,20,21,22,23,24,25,26,27,28,29,30,31,32,33,34,35,36,37,38,39,40,41,42,43,44],\"xaxis\":\"x\",\"y\":[-3.4133466977618188,-1.231458255672194,-2.337804344631273,-2.3502264625305176,-3.4281060919160455,-2.087072619485471,-3.085850454625491,-2.2727561994358876,-1.638508477395552,-1.9695902542276318,-1.1069662173518728,-1.9095178469542236,-1.1508356431368063,-0.43762068125860537,-0.9977517345119652,1.1270260415465678,1.9252674603054973,1.0832186445330159,0.3413487158263578,-0.05493267482391778,-0.8544675864775706,-1.7083853527688193,-0.12910631071606174,-0.2042658862501485,-2.5364383285866428,-2.4071219735183242,-6.190061267430727],\"yaxis\":\"y\",\"type\":\"scatter\"},{\"hovertemplate\":\"Player=Michael Jordan<br>age=%{x}<br>bpm=%{y}<extra></extra>\",\"legendgroup\":\"Michael Jordan\",\"line\":{\"color\":\"#00cc96\",\"dash\":\"solid\"},\"marker\":{\"symbol\":\"circle\"},\"mode\":\"lines\",\"name\":\"Michael Jordan\",\"orientation\":\"v\",\"showlegend\":true,\"x\":[18,19,20,21,22,23,24,25,26,27,28,29,30,31,32,33,34,35,36,37,38,39,40,41,42,43,44],\"xaxis\":\"x\",\"y\":[0.45882460128654123,0.5201182512378278,-0.21015664018671454,0.21765985083880707,2.3604826301319375,3.659078009858671,2.7254402715498953,3.32312558013641,4.530090140254072,3.6256537064186083,2.185742185497919,3.974085156980882,-0.43401840477548936,-0.09266257275565248,-1.5190223145394226,-1.043882140270723,-0.4575255168891777,-0.7170193118558639,0.8318108785512717,0.8384363591387304,1.2921815491448825,1.0364285742757795,1.1791743331816043,-0.1005601845756707,0.9679725569702248,0.41106875552416566,1.5964961315090087],\"yaxis\":\"y\",\"type\":\"scatter\"},{\"hovertemplate\":\"Player=Andrew Bynum<br>age=%{x}<br>bpm=%{y}<extra></extra>\",\"legendgroup\":\"Andrew Bynum\",\"line\":{\"color\":\"#ab63fa\",\"dash\":\"solid\"},\"marker\":{\"symbol\":\"circle\"},\"mode\":\"lines\",\"name\":\"Andrew Bynum\",\"orientation\":\"v\",\"showlegend\":true,\"x\":[18,19,20,21,22,23,24,25,26,27,28,29,30,31,32,33,34,35,36,37,38,39,40,41,42,43,44],\"xaxis\":\"x\",\"y\":[-4.807092977134533,-3.044149913789524,-3.1554453148829946,-3.2335330690774455,-3.7625613412025407,-4.1099308115870175,-3.2916857655220477,-0.3380890912651893,-2.0801295704806084,-1.1077308426845358,-0.8288883030454839,0.9087843093981238,-0.5897228039813037,-0.2708862260741689,1.6473489917623665,1.7646466452159995,2.2481472093167527,1.4945878771694852,-0.08427557323295032,-2.598211568561171,-1.9138391169829527,-1.6279288490400265,-0.020068844013600897,-0.43730707833566385,-4.042983050271397,-3.1309699026008646,-7.711471849346109],\"yaxis\":\"y\",\"type\":\"scatter\"},{\"hovertemplate\":\"Player=Ben Simmons<br>age=%{x}<br>bpm=%{y}<extra></extra>\",\"legendgroup\":\"Ben Simmons\",\"line\":{\"color\":\"#FFA15A\",\"dash\":\"solid\"},\"marker\":{\"symbol\":\"circle\"},\"mode\":\"lines\",\"name\":\"Ben Simmons\",\"orientation\":\"v\",\"showlegend\":true,\"x\":[18,19,20,21,22,23,24,25,26,27,28,29,30,31,32,33,34,35,36,37,38,39,40,41,42,43,44],\"xaxis\":\"x\",\"y\":[-5.315816896125632,-2.6273053254900027,-2.4558937720941123,-2.147476442565537,-1.7113671781952255,-3.7401774683798314,-1.9316944191886765,-1.0112521628003115,-2.1918460265745296,-1.028218481058547,-0.1589712074675166,-0.33214425696518435,-0.3968667695768426,-0.7156656993004256,0.6205587839902091,2.0016765113105404,3.0733482222741495,2.9202939132325825,1.3282860769924754,-1.1734103286229551,-2.1657086994896786,-1.9644327394237844,-0.10006765521677202,-0.6042070237982884,-4.425897512206905,-3.3318228396321774,-8.322401981011849],\"yaxis\":\"y\",\"type\":\"scatter\"},{\"hovertemplate\":\"Player=Chris Boucher<br>age=%{x}<br>bpm=%{y}<extra></extra>\",\"legendgroup\":\"Chris Boucher\",\"line\":{\"color\":\"#19d3f3\",\"dash\":\"solid\"},\"marker\":{\"symbol\":\"circle\"},\"mode\":\"lines\",\"name\":\"Chris Boucher\",\"orientation\":\"v\",\"showlegend\":true,\"x\":[18,19,20,21,22,23,24,25,26,27,28,29,30,31,32,33,34,35,36,37,38,39,40,41,42,43,44],\"xaxis\":\"x\",\"y\":[-4.842319666079233,-2.8834747072554094,-2.8918961022711605,-3.061734050803778,-1.9451735249725406,-1.1373448741347238,-1.7298170361180072,-0.05548705383075372,-1.2166444664493643,0.006696500627726011,0.06664691390762939,0.6282017915427818,0.9056058553694973,0.7677537462880241,1.5560345791004684,0.9660707028488237,-0.12242307723940891,-0.24071857494461169,-1.7184684754950421,-2.790039114077714,-1.8580135794075736,-2.1221251457490355,-0.25775848393069445,-0.38723391750832803,-3.2173496089966624,-3.5779458915502484,-8.018854293987665],\"yaxis\":\"y\",\"type\":\"scatter\"}],                        {\"template\":{\"data\":{\"histogram2dcontour\":[{\"type\":\"histogram2dcontour\",\"colorbar\":{\"outlinewidth\":0,\"ticks\":\"\"},\"colorscale\":[[0.0,\"#0d0887\"],[0.1111111111111111,\"#46039f\"],[0.2222222222222222,\"#7201a8\"],[0.3333333333333333,\"#9c179e\"],[0.4444444444444444,\"#bd3786\"],[0.5555555555555556,\"#d8576b\"],[0.6666666666666666,\"#ed7953\"],[0.7777777777777778,\"#fb9f3a\"],[0.8888888888888888,\"#fdca26\"],[1.0,\"#f0f921\"]]}],\"choropleth\":[{\"type\":\"choropleth\",\"colorbar\":{\"outlinewidth\":0,\"ticks\":\"\"}}],\"histogram2d\":[{\"type\":\"histogram2d\",\"colorbar\":{\"outlinewidth\":0,\"ticks\":\"\"},\"colorscale\":[[0.0,\"#0d0887\"],[0.1111111111111111,\"#46039f\"],[0.2222222222222222,\"#7201a8\"],[0.3333333333333333,\"#9c179e\"],[0.4444444444444444,\"#bd3786\"],[0.5555555555555556,\"#d8576b\"],[0.6666666666666666,\"#ed7953\"],[0.7777777777777778,\"#fb9f3a\"],[0.8888888888888888,\"#fdca26\"],[1.0,\"#f0f921\"]]}],\"heatmap\":[{\"type\":\"heatmap\",\"colorbar\":{\"outlinewidth\":0,\"ticks\":\"\"},\"colorscale\":[[0.0,\"#0d0887\"],[0.1111111111111111,\"#46039f\"],[0.2222222222222222,\"#7201a8\"],[0.3333333333333333,\"#9c179e\"],[0.4444444444444444,\"#bd3786\"],[0.5555555555555556,\"#d8576b\"],[0.6666666666666666,\"#ed7953\"],[0.7777777777777778,\"#fb9f3a\"],[0.8888888888888888,\"#fdca26\"],[1.0,\"#f0f921\"]]}],\"heatmapgl\":[{\"type\":\"heatmapgl\",\"colorbar\":{\"outlinewidth\":0,\"ticks\":\"\"},\"colorscale\":[[0.0,\"#0d0887\"],[0.1111111111111111,\"#46039f\"],[0.2222222222222222,\"#7201a8\"],[0.3333333333333333,\"#9c179e\"],[0.4444444444444444,\"#bd3786\"],[0.5555555555555556,\"#d8576b\"],[0.6666666666666666,\"#ed7953\"],[0.7777777777777778,\"#fb9f3a\"],[0.8888888888888888,\"#fdca26\"],[1.0,\"#f0f921\"]]}],\"contourcarpet\":[{\"type\":\"contourcarpet\",\"colorbar\":{\"outlinewidth\":0,\"ticks\":\"\"}}],\"contour\":[{\"type\":\"contour\",\"colorbar\":{\"outlinewidth\":0,\"ticks\":\"\"},\"colorscale\":[[0.0,\"#0d0887\"],[0.1111111111111111,\"#46039f\"],[0.2222222222222222,\"#7201a8\"],[0.3333333333333333,\"#9c179e\"],[0.4444444444444444,\"#bd3786\"],[0.5555555555555556,\"#d8576b\"],[0.6666666666666666,\"#ed7953\"],[0.7777777777777778,\"#fb9f3a\"],[0.8888888888888888,\"#fdca26\"],[1.0,\"#f0f921\"]]}],\"surface\":[{\"type\":\"surface\",\"colorbar\":{\"outlinewidth\":0,\"ticks\":\"\"},\"colorscale\":[[0.0,\"#0d0887\"],[0.1111111111111111,\"#46039f\"],[0.2222222222222222,\"#7201a8\"],[0.3333333333333333,\"#9c179e\"],[0.4444444444444444,\"#bd3786\"],[0.5555555555555556,\"#d8576b\"],[0.6666666666666666,\"#ed7953\"],[0.7777777777777778,\"#fb9f3a\"],[0.8888888888888888,\"#fdca26\"],[1.0,\"#f0f921\"]]}],\"mesh3d\":[{\"type\":\"mesh3d\",\"colorbar\":{\"outlinewidth\":0,\"ticks\":\"\"}}],\"scatter\":[{\"fillpattern\":{\"fillmode\":\"overlay\",\"size\":10,\"solidity\":0.2},\"type\":\"scatter\"}],\"parcoords\":[{\"type\":\"parcoords\",\"line\":{\"colorbar\":{\"outlinewidth\":0,\"ticks\":\"\"}}}],\"scatterpolargl\":[{\"type\":\"scatterpolargl\",\"marker\":{\"colorbar\":{\"outlinewidth\":0,\"ticks\":\"\"}}}],\"bar\":[{\"error_x\":{\"color\":\"#2a3f5f\"},\"error_y\":{\"color\":\"#2a3f5f\"},\"marker\":{\"line\":{\"color\":\"#E5ECF6\",\"width\":0.5},\"pattern\":{\"fillmode\":\"overlay\",\"size\":10,\"solidity\":0.2}},\"type\":\"bar\"}],\"scattergeo\":[{\"type\":\"scattergeo\",\"marker\":{\"colorbar\":{\"outlinewidth\":0,\"ticks\":\"\"}}}],\"scatterpolar\":[{\"type\":\"scatterpolar\",\"marker\":{\"colorbar\":{\"outlinewidth\":0,\"ticks\":\"\"}}}],\"histogram\":[{\"marker\":{\"pattern\":{\"fillmode\":\"overlay\",\"size\":10,\"solidity\":0.2}},\"type\":\"histogram\"}],\"scattergl\":[{\"type\":\"scattergl\",\"marker\":{\"colorbar\":{\"outlinewidth\":0,\"ticks\":\"\"}}}],\"scatter3d\":[{\"type\":\"scatter3d\",\"line\":{\"colorbar\":{\"outlinewidth\":0,\"ticks\":\"\"}},\"marker\":{\"colorbar\":{\"outlinewidth\":0,\"ticks\":\"\"}}}],\"scattermapbox\":[{\"type\":\"scattermapbox\",\"marker\":{\"colorbar\":{\"outlinewidth\":0,\"ticks\":\"\"}}}],\"scatterternary\":[{\"type\":\"scatterternary\",\"marker\":{\"colorbar\":{\"outlinewidth\":0,\"ticks\":\"\"}}}],\"scattercarpet\":[{\"type\":\"scattercarpet\",\"marker\":{\"colorbar\":{\"outlinewidth\":0,\"ticks\":\"\"}}}],\"carpet\":[{\"aaxis\":{\"endlinecolor\":\"#2a3f5f\",\"gridcolor\":\"white\",\"linecolor\":\"white\",\"minorgridcolor\":\"white\",\"startlinecolor\":\"#2a3f5f\"},\"baxis\":{\"endlinecolor\":\"#2a3f5f\",\"gridcolor\":\"white\",\"linecolor\":\"white\",\"minorgridcolor\":\"white\",\"startlinecolor\":\"#2a3f5f\"},\"type\":\"carpet\"}],\"table\":[{\"cells\":{\"fill\":{\"color\":\"#EBF0F8\"},\"line\":{\"color\":\"white\"}},\"header\":{\"fill\":{\"color\":\"#C8D4E3\"},\"line\":{\"color\":\"white\"}},\"type\":\"table\"}],\"barpolar\":[{\"marker\":{\"line\":{\"color\":\"#E5ECF6\",\"width\":0.5},\"pattern\":{\"fillmode\":\"overlay\",\"size\":10,\"solidity\":0.2}},\"type\":\"barpolar\"}],\"pie\":[{\"automargin\":true,\"type\":\"pie\"}]},\"layout\":{\"autotypenumbers\":\"strict\",\"colorway\":[\"#636efa\",\"#EF553B\",\"#00cc96\",\"#ab63fa\",\"#FFA15A\",\"#19d3f3\",\"#FF6692\",\"#B6E880\",\"#FF97FF\",\"#FECB52\"],\"font\":{\"color\":\"#2a3f5f\"},\"hovermode\":\"closest\",\"hoverlabel\":{\"align\":\"left\"},\"paper_bgcolor\":\"white\",\"plot_bgcolor\":\"#E5ECF6\",\"polar\":{\"bgcolor\":\"#E5ECF6\",\"angularaxis\":{\"gridcolor\":\"white\",\"linecolor\":\"white\",\"ticks\":\"\"},\"radialaxis\":{\"gridcolor\":\"white\",\"linecolor\":\"white\",\"ticks\":\"\"}},\"ternary\":{\"bgcolor\":\"#E5ECF6\",\"aaxis\":{\"gridcolor\":\"white\",\"linecolor\":\"white\",\"ticks\":\"\"},\"baxis\":{\"gridcolor\":\"white\",\"linecolor\":\"white\",\"ticks\":\"\"},\"caxis\":{\"gridcolor\":\"white\",\"linecolor\":\"white\",\"ticks\":\"\"}},\"coloraxis\":{\"colorbar\":{\"outlinewidth\":0,\"ticks\":\"\"}},\"colorscale\":{\"sequential\":[[0.0,\"#0d0887\"],[0.1111111111111111,\"#46039f\"],[0.2222222222222222,\"#7201a8\"],[0.3333333333333333,\"#9c179e\"],[0.4444444444444444,\"#bd3786\"],[0.5555555555555556,\"#d8576b\"],[0.6666666666666666,\"#ed7953\"],[0.7777777777777778,\"#fb9f3a\"],[0.8888888888888888,\"#fdca26\"],[1.0,\"#f0f921\"]],\"sequentialminus\":[[0.0,\"#0d0887\"],[0.1111111111111111,\"#46039f\"],[0.2222222222222222,\"#7201a8\"],[0.3333333333333333,\"#9c179e\"],[0.4444444444444444,\"#bd3786\"],[0.5555555555555556,\"#d8576b\"],[0.6666666666666666,\"#ed7953\"],[0.7777777777777778,\"#fb9f3a\"],[0.8888888888888888,\"#fdca26\"],[1.0,\"#f0f921\"]],\"diverging\":[[0,\"#8e0152\"],[0.1,\"#c51b7d\"],[0.2,\"#de77ae\"],[0.3,\"#f1b6da\"],[0.4,\"#fde0ef\"],[0.5,\"#f7f7f7\"],[0.6,\"#e6f5d0\"],[0.7,\"#b8e186\"],[0.8,\"#7fbc41\"],[0.9,\"#4d9221\"],[1,\"#276419\"]]},\"xaxis\":{\"gridcolor\":\"white\",\"linecolor\":\"white\",\"ticks\":\"\",\"title\":{\"standoff\":15},\"zerolinecolor\":\"white\",\"automargin\":true,\"zerolinewidth\":2},\"yaxis\":{\"gridcolor\":\"white\",\"linecolor\":\"white\",\"ticks\":\"\",\"title\":{\"standoff\":15},\"zerolinecolor\":\"white\",\"automargin\":true,\"zerolinewidth\":2},\"scene\":{\"xaxis\":{\"backgroundcolor\":\"#E5ECF6\",\"gridcolor\":\"white\",\"linecolor\":\"white\",\"showbackground\":true,\"ticks\":\"\",\"zerolinecolor\":\"white\",\"gridwidth\":2},\"yaxis\":{\"backgroundcolor\":\"#E5ECF6\",\"gridcolor\":\"white\",\"linecolor\":\"white\",\"showbackground\":true,\"ticks\":\"\",\"zerolinecolor\":\"white\",\"gridwidth\":2},\"zaxis\":{\"backgroundcolor\":\"#E5ECF6\",\"gridcolor\":\"white\",\"linecolor\":\"white\",\"showbackground\":true,\"ticks\":\"\",\"zerolinecolor\":\"white\",\"gridwidth\":2}},\"shapedefaults\":{\"line\":{\"color\":\"#2a3f5f\"}},\"annotationdefaults\":{\"arrowcolor\":\"#2a3f5f\",\"arrowhead\":0,\"arrowwidth\":1},\"geo\":{\"bgcolor\":\"white\",\"landcolor\":\"#E5ECF6\",\"subunitcolor\":\"white\",\"showland\":true,\"showlakes\":true,\"lakecolor\":\"white\"},\"title\":{\"x\":0.05},\"mapbox\":{\"style\":\"light\"}}},\"xaxis\":{\"anchor\":\"y\",\"domain\":[0.0,1.0],\"title\":{\"text\":\"age\"}},\"yaxis\":{\"anchor\":\"x\",\"domain\":[0.0,1.0],\"title\":{\"text\":\"bpm\"}},\"legend\":{\"title\":{\"text\":\"Player\"},\"tracegroupgap\":0},\"margin\":{\"t\":60},\"title\":{\"text\":\"bpm over time for 5 neighbors of Michael Jordan\"}},                        {\"responsive\": true}                    ).then(function(){\n",
       "                            \n",
       "var gd = document.getElementById('002f56cf-e314-4894-98db-c3e0cf082f68');\n",
       "var x = new MutationObserver(function (mutations, observer) {{\n",
       "        var display = window.getComputedStyle(gd).display;\n",
       "        if (!display || display === 'none') {{\n",
       "            console.log([gd, 'removed!']);\n",
       "            Plotly.purge(gd);\n",
       "            observer.disconnect();\n",
       "        }}\n",
       "}});\n",
       "\n",
       "// Listen for the removal of the full notebook cells\n",
       "var notebookContainer = gd.closest('#notebook-container');\n",
       "if (notebookContainer) {{\n",
       "    x.observe(notebookContainer, {childList: true});\n",
       "}}\n",
       "\n",
       "// Listen for the clearing of the current output cell\n",
       "var outputEl = gd.closest('.output');\n",
       "if (outputEl) {{\n",
       "    x.observe(outputEl, {childList: true});\n",
       "}}\n",
       "\n",
       "                        })                };                });            </script>        </div>"
      ]
     },
     "metadata": {},
     "output_type": "display_data"
    }
   ],
   "source": [
    "plot_trajectories(bpm_preds_df_long, \"Michael Jordan\", 6, \"bpm\", experiment_result[\"gaussian_bpm_rflvm\"][\"X\"][-1,:,:],)"
   ]
  },
  {
   "cell_type": "code",
   "execution_count": 72,
   "metadata": {},
   "outputs": [
    {
     "data": {
      "text/html": [
       "<div>\n",
       "<style scoped>\n",
       "    .dataframe tbody tr th:only-of-type {\n",
       "        vertical-align: middle;\n",
       "    }\n",
       "\n",
       "    .dataframe tbody tr th {\n",
       "        vertical-align: top;\n",
       "    }\n",
       "\n",
       "    .dataframe thead th {\n",
       "        text-align: right;\n",
       "    }\n",
       "</style>\n",
       "<table border=\"1\" class=\"dataframe\">\n",
       "  <thead>\n",
       "    <tr style=\"text-align: right;\">\n",
       "      <th></th>\n",
       "      <th>name</th>\n",
       "      <th>id</th>\n",
       "      <th>age</th>\n",
       "      <th>bpm</th>\n",
       "    </tr>\n",
       "  </thead>\n",
       "  <tbody>\n",
       "    <tr>\n",
       "      <th>0</th>\n",
       "      <td>Byron Scott</td>\n",
       "      <td>2</td>\n",
       "      <td>18</td>\n",
       "      <td>-4.810454</td>\n",
       "    </tr>\n",
       "    <tr>\n",
       "      <th>1</th>\n",
       "      <td>Grant Long</td>\n",
       "      <td>3</td>\n",
       "      <td>18</td>\n",
       "      <td>-5.224247</td>\n",
       "    </tr>\n",
       "    <tr>\n",
       "      <th>2</th>\n",
       "      <td>Dan Schayes</td>\n",
       "      <td>7</td>\n",
       "      <td>18</td>\n",
       "      <td>-5.348480</td>\n",
       "    </tr>\n",
       "    <tr>\n",
       "      <th>3</th>\n",
       "      <td>Sedale Threatt</td>\n",
       "      <td>9</td>\n",
       "      <td>18</td>\n",
       "      <td>-5.272296</td>\n",
       "    </tr>\n",
       "    <tr>\n",
       "      <th>4</th>\n",
       "      <td>Chris King</td>\n",
       "      <td>12</td>\n",
       "      <td>18</td>\n",
       "      <td>-5.359851</td>\n",
       "    </tr>\n",
       "    <tr>\n",
       "      <th>...</th>\n",
       "      <td>...</td>\n",
       "      <td>...</td>\n",
       "      <td>...</td>\n",
       "      <td>...</td>\n",
       "    </tr>\n",
       "    <tr>\n",
       "      <th>62959</th>\n",
       "      <td>Facundo Campazzo</td>\n",
       "      <td>1630267</td>\n",
       "      <td>44</td>\n",
       "      <td>-8.478789</td>\n",
       "    </tr>\n",
       "    <tr>\n",
       "      <th>62960</th>\n",
       "      <td>Nate Darling</td>\n",
       "      <td>1630268</td>\n",
       "      <td>44</td>\n",
       "      <td>-8.507473</td>\n",
       "    </tr>\n",
       "    <tr>\n",
       "      <th>62961</th>\n",
       "      <td>Brodric Thomas</td>\n",
       "      <td>1630271</td>\n",
       "      <td>44</td>\n",
       "      <td>-8.526915</td>\n",
       "    </tr>\n",
       "    <tr>\n",
       "      <th>62962</th>\n",
       "      <td>Freddie Gillespie</td>\n",
       "      <td>1630273</td>\n",
       "      <td>44</td>\n",
       "      <td>-8.535514</td>\n",
       "    </tr>\n",
       "    <tr>\n",
       "      <th>62963</th>\n",
       "      <td>Gabriel Deck</td>\n",
       "      <td>1630466</td>\n",
       "      <td>44</td>\n",
       "      <td>-8.477044</td>\n",
       "    </tr>\n",
       "  </tbody>\n",
       "</table>\n",
       "<p>62964 rows × 4 columns</p>\n",
       "</div>"
      ],
      "text/plain": [
       "                    name       id age       bpm\n",
       "0            Byron Scott        2  18 -4.810454\n",
       "1             Grant Long        3  18 -5.224247\n",
       "2            Dan Schayes        7  18 -5.348480\n",
       "3         Sedale Threatt        9  18 -5.272296\n",
       "4             Chris King       12  18 -5.359851\n",
       "...                  ...      ...  ..       ...\n",
       "62959   Facundo Campazzo  1630267  44 -8.478789\n",
       "62960       Nate Darling  1630268  44 -8.507473\n",
       "62961     Brodric Thomas  1630271  44 -8.526915\n",
       "62962  Freddie Gillespie  1630273  44 -8.535514\n",
       "62963       Gabriel Deck  1630466  44 -8.477044\n",
       "\n",
       "[62964 rows x 4 columns]"
      ]
     },
     "execution_count": 72,
     "metadata": {},
     "output_type": "execute_result"
    }
   ],
   "source": [
    "bpm_preds_df_long"
   ]
  },
  {
   "cell_type": "code",
   "execution_count": 77,
   "metadata": {},
   "outputs": [],
   "source": [
    "blk_preds = experiment_model_result[\"poisson_blk_model_rflvm\"].predict(experiment_result[\"poisson_blk_rflvm\"][\"X\"][-1,:,:])"
   ]
  },
  {
   "cell_type": "code",
   "execution_count": 78,
   "metadata": {},
   "outputs": [],
   "source": [
    "blk_preds_df = pd.DataFrame(blk_preds, columns=list(range(18,45)))\n",
    "blk_preds_df[\"name\"] = df[[\"name\",\"id\"]].drop_duplicates()[\"name\"].values\n",
    "blk_preds_df[\"id\"] = df[[\"name\",\"id\"]].drop_duplicates()[\"id\"].values"
   ]
  },
  {
   "cell_type": "code",
   "execution_count": 79,
   "metadata": {},
   "outputs": [],
   "source": [
    "blk_preds_df_long = blk_preds_df.melt(id_vars=[\"name\",\"id\"], var_name=\"age\", value_name=\"blk\")\n"
   ]
  },
  {
   "cell_type": "code",
   "execution_count": 81,
   "metadata": {},
   "outputs": [
    {
     "data": {
      "application/vnd.plotly.v1+json": {
       "config": {
        "plotlyServerURL": "https://plot.ly"
       },
       "data": [
        {
         "hovertemplate": "Player=Theo Ratliff<br>age=%{x}<br>blk=%{y}<extra></extra>",
         "legendgroup": "Theo Ratliff",
         "line": {
          "color": "#636efa",
          "dash": "solid"
         },
         "marker": {
          "symbol": "circle"
         },
         "mode": "lines",
         "name": "Theo Ratliff",
         "orientation": "v",
         "showlegend": true,
         "type": "scatter",
         "x": [
          18,
          19,
          20,
          21,
          22,
          23,
          24,
          25,
          26,
          27,
          28,
          29,
          30,
          31,
          32,
          33,
          34,
          35,
          36,
          37,
          38,
          39,
          40,
          41,
          42,
          43,
          44
         ],
         "xaxis": "x",
         "y": [
          0.5173132034809219,
          0.06518172451087945,
          0.05076414996235451,
          0.09025025996454665,
          0.024680529995909632,
          55.277344729572846,
          38.30538605599318,
          49.008695044506965,
          59.3824595664659,
          41.15825919260616,
          2.393688947355218,
          106.9503717159701,
          74.53676049728553,
          47.96697886390922,
          51.17554208302127,
          1.7079388258738901,
          33.7560836515161,
          68.98831167106162,
          273.0661655503719,
          38.48679511524988,
          0.6617994151942839,
          0.5792590491201396,
          0.6171039361488325,
          0.8232113112658717,
          0.7270559373412111,
          0.5671537472968659,
          0.7538068308519629
         ],
         "yaxis": "y"
        },
        {
         "hovertemplate": "Player=Ben Wallace<br>age=%{x}<br>blk=%{y}<extra></extra>",
         "legendgroup": "Ben Wallace",
         "line": {
          "color": "#EF553B",
          "dash": "solid"
         },
         "marker": {
          "symbol": "circle"
         },
         "mode": "lines",
         "name": "Ben Wallace",
         "orientation": "v",
         "showlegend": true,
         "type": "scatter",
         "x": [
          18,
          19,
          20,
          21,
          22,
          23,
          24,
          25,
          26,
          27,
          28,
          29,
          30,
          31,
          32,
          33,
          34,
          35,
          36,
          37,
          38,
          39,
          40,
          41,
          42,
          43,
          44
         ],
         "xaxis": "x",
         "y": [
          0.4074758263015945,
          0.216425139495628,
          0.06373292747004794,
          0.07512066094874588,
          18.034212827826543,
          76.43962537241403,
          68.3623053264805,
          214.42174363722955,
          146.70406813819514,
          169.62827956072664,
          167.64187141752635,
          128.79067120994236,
          116.82748197048184,
          122.58894165876495,
          56.826207197111636,
          87.7778159174067,
          108.09885585202788,
          174.9196052714671,
          96.79489258720776,
          73.26470335148493,
          0.9128847295025034,
          1.0502101872524647,
          0.9958324384464023,
          0.74788160261534,
          0.6951762766648988,
          0.6344401000180698,
          0.6469811310441572
         ],
         "yaxis": "y"
        },
        {
         "hovertemplate": "Player=Tim Duncan<br>age=%{x}<br>blk=%{y}<extra></extra>",
         "legendgroup": "Tim Duncan",
         "line": {
          "color": "#00cc96",
          "dash": "solid"
         },
         "marker": {
          "symbol": "circle"
         },
         "mode": "lines",
         "name": "Tim Duncan",
         "orientation": "v",
         "showlegend": true,
         "type": "scatter",
         "x": [
          18,
          19,
          20,
          21,
          22,
          23,
          24,
          25,
          26,
          27,
          28,
          29,
          30,
          31,
          32,
          33,
          34,
          35,
          36,
          37,
          38,
          39,
          40,
          41,
          42,
          43,
          44
         ],
         "xaxis": "x",
         "y": [
          0.40770233930761474,
          0.04994925424190828,
          0.03912846759628027,
          197.84290845652606,
          69.20131064784177,
          154.73199626252617,
          101.00322920655441,
          241.9086996253319,
          200.77708813227596,
          88.00208850070852,
          59.82403088673954,
          82.66772582712666,
          54.79514001352657,
          57.68449781758411,
          60.19823617902232,
          91.67487432171482,
          177.17829596533338,
          173.21115404178738,
          483.53141553419243,
          818.4329075337623,
          1519.0894929844712,
          890.4608959827007,
          0.5587790716648894,
          0.7640134608918919,
          0.6727849438061148,
          0.5304915283652051,
          0.6605600748997302
         ],
         "yaxis": "y"
        },
        {
         "hovertemplate": "Player=Samuel Dalembert<br>age=%{x}<br>blk=%{y}<extra></extra>",
         "legendgroup": "Samuel Dalembert",
         "line": {
          "color": "#ab63fa",
          "dash": "solid"
         },
         "marker": {
          "symbol": "circle"
         },
         "mode": "lines",
         "name": "Samuel Dalembert",
         "orientation": "v",
         "showlegend": true,
         "type": "scatter",
         "x": [
          18,
          19,
          20,
          21,
          22,
          23,
          24,
          25,
          26,
          27,
          28,
          29,
          30,
          31,
          32,
          33,
          34,
          35,
          36,
          37,
          38,
          39,
          40,
          41,
          42,
          43,
          44
         ],
         "xaxis": "x",
         "y": [
          0.6737019281861308,
          0.17916678079476675,
          25.695258791470312,
          0.038432304052923666,
          64.35319824977961,
          164.7639870652794,
          237.1544000497384,
          338.6024183895318,
          344.7231777050323,
          166.82605408459588,
          198.07172549037287,
          165.53831760248846,
          107.61648673775665,
          84.59665016926968,
          66.85813477746224,
          38.57168271978479,
          0.05558939341066516,
          0.05894238173561712,
          0.08025176900331561,
          0.1075388087554259,
          0.4713547174444879,
          0.2978834194690189,
          0.4143422266805487,
          0.6069607807655186,
          0.571763944116979,
          0.5632616621581625,
          0.7761784564087749
         ],
         "yaxis": "y"
        },
        {
         "hovertemplate": "Player=Serge Ibaka<br>age=%{x}<br>blk=%{y}<extra></extra>",
         "legendgroup": "Serge Ibaka",
         "line": {
          "color": "#FFA15A",
          "dash": "solid"
         },
         "marker": {
          "symbol": "circle"
         },
         "mode": "lines",
         "name": "Serge Ibaka",
         "orientation": "v",
         "showlegend": true,
         "type": "scatter",
         "x": [
          18,
          19,
          20,
          21,
          22,
          23,
          24,
          25,
          26,
          27,
          28,
          29,
          30,
          31,
          32,
          33,
          34,
          35,
          36,
          37,
          38,
          39,
          40,
          41,
          42,
          43,
          44
         ],
         "xaxis": "x",
         "y": [
          0.5134590642427871,
          0.14417836084816582,
          166.4254675347362,
          66.2030810090986,
          60.1427074042053,
          231.27212210522714,
          319.5482011057492,
          347.79217675812953,
          401.9701002800166,
          247.9930886596771,
          197.4703388260113,
          174.95240201546534,
          136.9017307487823,
          112.23836227154916,
          0.04300299528594715,
          0.0823949595019777,
          0.06308247259017281,
          0.05935683040666631,
          0.06808398038237877,
          0.09159057657782639,
          0.4559257386806612,
          0.25634893190568314,
          0.37809652901455104,
          0.5799707836766471,
          0.5379794240017113,
          0.5159087184850263,
          0.6934718905754481
         ],
         "yaxis": "y"
        },
        {
         "hovertemplate": "Player=Derrick Favors<br>age=%{x}<br>blk=%{y}<extra></extra>",
         "legendgroup": "Derrick Favors",
         "line": {
          "color": "#19d3f3",
          "dash": "solid"
         },
         "marker": {
          "symbol": "circle"
         },
         "mode": "lines",
         "name": "Derrick Favors",
         "orientation": "v",
         "showlegend": true,
         "type": "scatter",
         "x": [
          18,
          19,
          20,
          21,
          22,
          23,
          24,
          25,
          26,
          27,
          28,
          29,
          30,
          31,
          32,
          33,
          34,
          35,
          36,
          37,
          38,
          39,
          40,
          41,
          42,
          43,
          44
         ],
         "xaxis": "x",
         "y": [
          0.22364228536770803,
          748.9856429068219,
          256.8486272828816,
          250.06548420600703,
          728.6229559889762,
          153.9091773024623,
          75.62166499524166,
          246.51902999111903,
          708.4698758489071,
          229.32374497598673,
          192.30879231389744,
          186.5278373171912,
          0.29492436976764325,
          0.26538956048397855,
          0.09466919699763134,
          0.1678089934495124,
          0.335054465339404,
          0.33385380932144515,
          0.13316409851823402,
          0.045728756309586456,
          0.27848195994049957,
          0.3960284857800917,
          0.32233253914290666,
          0.3285655659830964,
          0.29217869654816264,
          0.2930015720940217,
          0.3950567327382483
         ],
         "yaxis": "y"
        }
       ],
       "layout": {
        "legend": {
         "title": {
          "text": "Player"
         },
         "tracegroupgap": 0
        },
        "margin": {
         "t": 60
        },
        "template": {
         "data": {
          "bar": [
           {
            "error_x": {
             "color": "#2a3f5f"
            },
            "error_y": {
             "color": "#2a3f5f"
            },
            "marker": {
             "line": {
              "color": "#E5ECF6",
              "width": 0.5
             },
             "pattern": {
              "fillmode": "overlay",
              "size": 10,
              "solidity": 0.2
             }
            },
            "type": "bar"
           }
          ],
          "barpolar": [
           {
            "marker": {
             "line": {
              "color": "#E5ECF6",
              "width": 0.5
             },
             "pattern": {
              "fillmode": "overlay",
              "size": 10,
              "solidity": 0.2
             }
            },
            "type": "barpolar"
           }
          ],
          "carpet": [
           {
            "aaxis": {
             "endlinecolor": "#2a3f5f",
             "gridcolor": "white",
             "linecolor": "white",
             "minorgridcolor": "white",
             "startlinecolor": "#2a3f5f"
            },
            "baxis": {
             "endlinecolor": "#2a3f5f",
             "gridcolor": "white",
             "linecolor": "white",
             "minorgridcolor": "white",
             "startlinecolor": "#2a3f5f"
            },
            "type": "carpet"
           }
          ],
          "choropleth": [
           {
            "colorbar": {
             "outlinewidth": 0,
             "ticks": ""
            },
            "type": "choropleth"
           }
          ],
          "contour": [
           {
            "colorbar": {
             "outlinewidth": 0,
             "ticks": ""
            },
            "colorscale": [
             [
              0,
              "#0d0887"
             ],
             [
              0.1111111111111111,
              "#46039f"
             ],
             [
              0.2222222222222222,
              "#7201a8"
             ],
             [
              0.3333333333333333,
              "#9c179e"
             ],
             [
              0.4444444444444444,
              "#bd3786"
             ],
             [
              0.5555555555555556,
              "#d8576b"
             ],
             [
              0.6666666666666666,
              "#ed7953"
             ],
             [
              0.7777777777777778,
              "#fb9f3a"
             ],
             [
              0.8888888888888888,
              "#fdca26"
             ],
             [
              1,
              "#f0f921"
             ]
            ],
            "type": "contour"
           }
          ],
          "contourcarpet": [
           {
            "colorbar": {
             "outlinewidth": 0,
             "ticks": ""
            },
            "type": "contourcarpet"
           }
          ],
          "heatmap": [
           {
            "colorbar": {
             "outlinewidth": 0,
             "ticks": ""
            },
            "colorscale": [
             [
              0,
              "#0d0887"
             ],
             [
              0.1111111111111111,
              "#46039f"
             ],
             [
              0.2222222222222222,
              "#7201a8"
             ],
             [
              0.3333333333333333,
              "#9c179e"
             ],
             [
              0.4444444444444444,
              "#bd3786"
             ],
             [
              0.5555555555555556,
              "#d8576b"
             ],
             [
              0.6666666666666666,
              "#ed7953"
             ],
             [
              0.7777777777777778,
              "#fb9f3a"
             ],
             [
              0.8888888888888888,
              "#fdca26"
             ],
             [
              1,
              "#f0f921"
             ]
            ],
            "type": "heatmap"
           }
          ],
          "heatmapgl": [
           {
            "colorbar": {
             "outlinewidth": 0,
             "ticks": ""
            },
            "colorscale": [
             [
              0,
              "#0d0887"
             ],
             [
              0.1111111111111111,
              "#46039f"
             ],
             [
              0.2222222222222222,
              "#7201a8"
             ],
             [
              0.3333333333333333,
              "#9c179e"
             ],
             [
              0.4444444444444444,
              "#bd3786"
             ],
             [
              0.5555555555555556,
              "#d8576b"
             ],
             [
              0.6666666666666666,
              "#ed7953"
             ],
             [
              0.7777777777777778,
              "#fb9f3a"
             ],
             [
              0.8888888888888888,
              "#fdca26"
             ],
             [
              1,
              "#f0f921"
             ]
            ],
            "type": "heatmapgl"
           }
          ],
          "histogram": [
           {
            "marker": {
             "pattern": {
              "fillmode": "overlay",
              "size": 10,
              "solidity": 0.2
             }
            },
            "type": "histogram"
           }
          ],
          "histogram2d": [
           {
            "colorbar": {
             "outlinewidth": 0,
             "ticks": ""
            },
            "colorscale": [
             [
              0,
              "#0d0887"
             ],
             [
              0.1111111111111111,
              "#46039f"
             ],
             [
              0.2222222222222222,
              "#7201a8"
             ],
             [
              0.3333333333333333,
              "#9c179e"
             ],
             [
              0.4444444444444444,
              "#bd3786"
             ],
             [
              0.5555555555555556,
              "#d8576b"
             ],
             [
              0.6666666666666666,
              "#ed7953"
             ],
             [
              0.7777777777777778,
              "#fb9f3a"
             ],
             [
              0.8888888888888888,
              "#fdca26"
             ],
             [
              1,
              "#f0f921"
             ]
            ],
            "type": "histogram2d"
           }
          ],
          "histogram2dcontour": [
           {
            "colorbar": {
             "outlinewidth": 0,
             "ticks": ""
            },
            "colorscale": [
             [
              0,
              "#0d0887"
             ],
             [
              0.1111111111111111,
              "#46039f"
             ],
             [
              0.2222222222222222,
              "#7201a8"
             ],
             [
              0.3333333333333333,
              "#9c179e"
             ],
             [
              0.4444444444444444,
              "#bd3786"
             ],
             [
              0.5555555555555556,
              "#d8576b"
             ],
             [
              0.6666666666666666,
              "#ed7953"
             ],
             [
              0.7777777777777778,
              "#fb9f3a"
             ],
             [
              0.8888888888888888,
              "#fdca26"
             ],
             [
              1,
              "#f0f921"
             ]
            ],
            "type": "histogram2dcontour"
           }
          ],
          "mesh3d": [
           {
            "colorbar": {
             "outlinewidth": 0,
             "ticks": ""
            },
            "type": "mesh3d"
           }
          ],
          "parcoords": [
           {
            "line": {
             "colorbar": {
              "outlinewidth": 0,
              "ticks": ""
             }
            },
            "type": "parcoords"
           }
          ],
          "pie": [
           {
            "automargin": true,
            "type": "pie"
           }
          ],
          "scatter": [
           {
            "fillpattern": {
             "fillmode": "overlay",
             "size": 10,
             "solidity": 0.2
            },
            "type": "scatter"
           }
          ],
          "scatter3d": [
           {
            "line": {
             "colorbar": {
              "outlinewidth": 0,
              "ticks": ""
             }
            },
            "marker": {
             "colorbar": {
              "outlinewidth": 0,
              "ticks": ""
             }
            },
            "type": "scatter3d"
           }
          ],
          "scattercarpet": [
           {
            "marker": {
             "colorbar": {
              "outlinewidth": 0,
              "ticks": ""
             }
            },
            "type": "scattercarpet"
           }
          ],
          "scattergeo": [
           {
            "marker": {
             "colorbar": {
              "outlinewidth": 0,
              "ticks": ""
             }
            },
            "type": "scattergeo"
           }
          ],
          "scattergl": [
           {
            "marker": {
             "colorbar": {
              "outlinewidth": 0,
              "ticks": ""
             }
            },
            "type": "scattergl"
           }
          ],
          "scattermapbox": [
           {
            "marker": {
             "colorbar": {
              "outlinewidth": 0,
              "ticks": ""
             }
            },
            "type": "scattermapbox"
           }
          ],
          "scatterpolar": [
           {
            "marker": {
             "colorbar": {
              "outlinewidth": 0,
              "ticks": ""
             }
            },
            "type": "scatterpolar"
           }
          ],
          "scatterpolargl": [
           {
            "marker": {
             "colorbar": {
              "outlinewidth": 0,
              "ticks": ""
             }
            },
            "type": "scatterpolargl"
           }
          ],
          "scatterternary": [
           {
            "marker": {
             "colorbar": {
              "outlinewidth": 0,
              "ticks": ""
             }
            },
            "type": "scatterternary"
           }
          ],
          "surface": [
           {
            "colorbar": {
             "outlinewidth": 0,
             "ticks": ""
            },
            "colorscale": [
             [
              0,
              "#0d0887"
             ],
             [
              0.1111111111111111,
              "#46039f"
             ],
             [
              0.2222222222222222,
              "#7201a8"
             ],
             [
              0.3333333333333333,
              "#9c179e"
             ],
             [
              0.4444444444444444,
              "#bd3786"
             ],
             [
              0.5555555555555556,
              "#d8576b"
             ],
             [
              0.6666666666666666,
              "#ed7953"
             ],
             [
              0.7777777777777778,
              "#fb9f3a"
             ],
             [
              0.8888888888888888,
              "#fdca26"
             ],
             [
              1,
              "#f0f921"
             ]
            ],
            "type": "surface"
           }
          ],
          "table": [
           {
            "cells": {
             "fill": {
              "color": "#EBF0F8"
             },
             "line": {
              "color": "white"
             }
            },
            "header": {
             "fill": {
              "color": "#C8D4E3"
             },
             "line": {
              "color": "white"
             }
            },
            "type": "table"
           }
          ]
         },
         "layout": {
          "annotationdefaults": {
           "arrowcolor": "#2a3f5f",
           "arrowhead": 0,
           "arrowwidth": 1
          },
          "autotypenumbers": "strict",
          "coloraxis": {
           "colorbar": {
            "outlinewidth": 0,
            "ticks": ""
           }
          },
          "colorscale": {
           "diverging": [
            [
             0,
             "#8e0152"
            ],
            [
             0.1,
             "#c51b7d"
            ],
            [
             0.2,
             "#de77ae"
            ],
            [
             0.3,
             "#f1b6da"
            ],
            [
             0.4,
             "#fde0ef"
            ],
            [
             0.5,
             "#f7f7f7"
            ],
            [
             0.6,
             "#e6f5d0"
            ],
            [
             0.7,
             "#b8e186"
            ],
            [
             0.8,
             "#7fbc41"
            ],
            [
             0.9,
             "#4d9221"
            ],
            [
             1,
             "#276419"
            ]
           ],
           "sequential": [
            [
             0,
             "#0d0887"
            ],
            [
             0.1111111111111111,
             "#46039f"
            ],
            [
             0.2222222222222222,
             "#7201a8"
            ],
            [
             0.3333333333333333,
             "#9c179e"
            ],
            [
             0.4444444444444444,
             "#bd3786"
            ],
            [
             0.5555555555555556,
             "#d8576b"
            ],
            [
             0.6666666666666666,
             "#ed7953"
            ],
            [
             0.7777777777777778,
             "#fb9f3a"
            ],
            [
             0.8888888888888888,
             "#fdca26"
            ],
            [
             1,
             "#f0f921"
            ]
           ],
           "sequentialminus": [
            [
             0,
             "#0d0887"
            ],
            [
             0.1111111111111111,
             "#46039f"
            ],
            [
             0.2222222222222222,
             "#7201a8"
            ],
            [
             0.3333333333333333,
             "#9c179e"
            ],
            [
             0.4444444444444444,
             "#bd3786"
            ],
            [
             0.5555555555555556,
             "#d8576b"
            ],
            [
             0.6666666666666666,
             "#ed7953"
            ],
            [
             0.7777777777777778,
             "#fb9f3a"
            ],
            [
             0.8888888888888888,
             "#fdca26"
            ],
            [
             1,
             "#f0f921"
            ]
           ]
          },
          "colorway": [
           "#636efa",
           "#EF553B",
           "#00cc96",
           "#ab63fa",
           "#FFA15A",
           "#19d3f3",
           "#FF6692",
           "#B6E880",
           "#FF97FF",
           "#FECB52"
          ],
          "font": {
           "color": "#2a3f5f"
          },
          "geo": {
           "bgcolor": "white",
           "lakecolor": "white",
           "landcolor": "#E5ECF6",
           "showlakes": true,
           "showland": true,
           "subunitcolor": "white"
          },
          "hoverlabel": {
           "align": "left"
          },
          "hovermode": "closest",
          "mapbox": {
           "style": "light"
          },
          "paper_bgcolor": "white",
          "plot_bgcolor": "#E5ECF6",
          "polar": {
           "angularaxis": {
            "gridcolor": "white",
            "linecolor": "white",
            "ticks": ""
           },
           "bgcolor": "#E5ECF6",
           "radialaxis": {
            "gridcolor": "white",
            "linecolor": "white",
            "ticks": ""
           }
          },
          "scene": {
           "xaxis": {
            "backgroundcolor": "#E5ECF6",
            "gridcolor": "white",
            "gridwidth": 2,
            "linecolor": "white",
            "showbackground": true,
            "ticks": "",
            "zerolinecolor": "white"
           },
           "yaxis": {
            "backgroundcolor": "#E5ECF6",
            "gridcolor": "white",
            "gridwidth": 2,
            "linecolor": "white",
            "showbackground": true,
            "ticks": "",
            "zerolinecolor": "white"
           },
           "zaxis": {
            "backgroundcolor": "#E5ECF6",
            "gridcolor": "white",
            "gridwidth": 2,
            "linecolor": "white",
            "showbackground": true,
            "ticks": "",
            "zerolinecolor": "white"
           }
          },
          "shapedefaults": {
           "line": {
            "color": "#2a3f5f"
           }
          },
          "ternary": {
           "aaxis": {
            "gridcolor": "white",
            "linecolor": "white",
            "ticks": ""
           },
           "baxis": {
            "gridcolor": "white",
            "linecolor": "white",
            "ticks": ""
           },
           "bgcolor": "#E5ECF6",
           "caxis": {
            "gridcolor": "white",
            "linecolor": "white",
            "ticks": ""
           }
          },
          "title": {
           "x": 0.05
          },
          "xaxis": {
           "automargin": true,
           "gridcolor": "white",
           "linecolor": "white",
           "ticks": "",
           "title": {
            "standoff": 15
           },
           "zerolinecolor": "white",
           "zerolinewidth": 2
          },
          "yaxis": {
           "automargin": true,
           "gridcolor": "white",
           "linecolor": "white",
           "ticks": "",
           "title": {
            "standoff": 15
           },
           "zerolinecolor": "white",
           "zerolinewidth": 2
          }
         }
        },
        "title": {
         "text": "blk over time for 5 neighbors of Tim Duncan"
        },
        "xaxis": {
         "anchor": "y",
         "domain": [
          0,
          1
         ],
         "title": {
          "text": "age"
         }
        },
        "yaxis": {
         "anchor": "x",
         "domain": [
          0,
          1
         ],
         "title": {
          "text": "blk"
         }
        }
       }
      },
      "text/html": [
       "<div>                            <div id=\"69911934-08c7-4d5a-847b-3e99bec9974b\" class=\"plotly-graph-div\" style=\"height:525px; width:100%;\"></div>            <script type=\"text/javascript\">                require([\"plotly\"], function(Plotly) {                    window.PLOTLYENV=window.PLOTLYENV || {};                                    if (document.getElementById(\"69911934-08c7-4d5a-847b-3e99bec9974b\")) {                    Plotly.newPlot(                        \"69911934-08c7-4d5a-847b-3e99bec9974b\",                        [{\"hovertemplate\":\"Player=Theo Ratliff<br>age=%{x}<br>blk=%{y}<extra></extra>\",\"legendgroup\":\"Theo Ratliff\",\"line\":{\"color\":\"#636efa\",\"dash\":\"solid\"},\"marker\":{\"symbol\":\"circle\"},\"mode\":\"lines\",\"name\":\"Theo Ratliff\",\"orientation\":\"v\",\"showlegend\":true,\"x\":[18,19,20,21,22,23,24,25,26,27,28,29,30,31,32,33,34,35,36,37,38,39,40,41,42,43,44],\"xaxis\":\"x\",\"y\":[0.5173132034809219,0.06518172451087945,0.05076414996235451,0.09025025996454665,0.024680529995909632,55.277344729572846,38.30538605599318,49.008695044506965,59.3824595664659,41.15825919260616,2.393688947355218,106.9503717159701,74.53676049728553,47.96697886390922,51.17554208302127,1.7079388258738901,33.7560836515161,68.98831167106162,273.0661655503719,38.48679511524988,0.6617994151942839,0.5792590491201396,0.6171039361488325,0.8232113112658717,0.7270559373412111,0.5671537472968659,0.7538068308519629],\"yaxis\":\"y\",\"type\":\"scatter\"},{\"hovertemplate\":\"Player=Ben Wallace<br>age=%{x}<br>blk=%{y}<extra></extra>\",\"legendgroup\":\"Ben Wallace\",\"line\":{\"color\":\"#EF553B\",\"dash\":\"solid\"},\"marker\":{\"symbol\":\"circle\"},\"mode\":\"lines\",\"name\":\"Ben Wallace\",\"orientation\":\"v\",\"showlegend\":true,\"x\":[18,19,20,21,22,23,24,25,26,27,28,29,30,31,32,33,34,35,36,37,38,39,40,41,42,43,44],\"xaxis\":\"x\",\"y\":[0.4074758263015945,0.216425139495628,0.06373292747004794,0.07512066094874588,18.034212827826543,76.43962537241403,68.3623053264805,214.42174363722955,146.70406813819514,169.62827956072664,167.64187141752635,128.79067120994236,116.82748197048184,122.58894165876495,56.826207197111636,87.7778159174067,108.09885585202788,174.9196052714671,96.79489258720776,73.26470335148493,0.9128847295025034,1.0502101872524647,0.9958324384464023,0.74788160261534,0.6951762766648988,0.6344401000180698,0.6469811310441572],\"yaxis\":\"y\",\"type\":\"scatter\"},{\"hovertemplate\":\"Player=Tim Duncan<br>age=%{x}<br>blk=%{y}<extra></extra>\",\"legendgroup\":\"Tim Duncan\",\"line\":{\"color\":\"#00cc96\",\"dash\":\"solid\"},\"marker\":{\"symbol\":\"circle\"},\"mode\":\"lines\",\"name\":\"Tim Duncan\",\"orientation\":\"v\",\"showlegend\":true,\"x\":[18,19,20,21,22,23,24,25,26,27,28,29,30,31,32,33,34,35,36,37,38,39,40,41,42,43,44],\"xaxis\":\"x\",\"y\":[0.40770233930761474,0.04994925424190828,0.03912846759628027,197.84290845652606,69.20131064784177,154.73199626252617,101.00322920655441,241.9086996253319,200.77708813227596,88.00208850070852,59.82403088673954,82.66772582712666,54.79514001352657,57.68449781758411,60.19823617902232,91.67487432171482,177.17829596533338,173.21115404178738,483.53141553419243,818.4329075337623,1519.0894929844712,890.4608959827007,0.5587790716648894,0.7640134608918919,0.6727849438061148,0.5304915283652051,0.6605600748997302],\"yaxis\":\"y\",\"type\":\"scatter\"},{\"hovertemplate\":\"Player=Samuel Dalembert<br>age=%{x}<br>blk=%{y}<extra></extra>\",\"legendgroup\":\"Samuel Dalembert\",\"line\":{\"color\":\"#ab63fa\",\"dash\":\"solid\"},\"marker\":{\"symbol\":\"circle\"},\"mode\":\"lines\",\"name\":\"Samuel Dalembert\",\"orientation\":\"v\",\"showlegend\":true,\"x\":[18,19,20,21,22,23,24,25,26,27,28,29,30,31,32,33,34,35,36,37,38,39,40,41,42,43,44],\"xaxis\":\"x\",\"y\":[0.6737019281861308,0.17916678079476675,25.695258791470312,0.038432304052923666,64.35319824977961,164.7639870652794,237.1544000497384,338.6024183895318,344.7231777050323,166.82605408459588,198.07172549037287,165.53831760248846,107.61648673775665,84.59665016926968,66.85813477746224,38.57168271978479,0.05558939341066516,0.05894238173561712,0.08025176900331561,0.1075388087554259,0.4713547174444879,0.2978834194690189,0.4143422266805487,0.6069607807655186,0.571763944116979,0.5632616621581625,0.7761784564087749],\"yaxis\":\"y\",\"type\":\"scatter\"},{\"hovertemplate\":\"Player=Serge Ibaka<br>age=%{x}<br>blk=%{y}<extra></extra>\",\"legendgroup\":\"Serge Ibaka\",\"line\":{\"color\":\"#FFA15A\",\"dash\":\"solid\"},\"marker\":{\"symbol\":\"circle\"},\"mode\":\"lines\",\"name\":\"Serge Ibaka\",\"orientation\":\"v\",\"showlegend\":true,\"x\":[18,19,20,21,22,23,24,25,26,27,28,29,30,31,32,33,34,35,36,37,38,39,40,41,42,43,44],\"xaxis\":\"x\",\"y\":[0.5134590642427871,0.14417836084816582,166.4254675347362,66.2030810090986,60.1427074042053,231.27212210522714,319.5482011057492,347.79217675812953,401.9701002800166,247.9930886596771,197.4703388260113,174.95240201546534,136.9017307487823,112.23836227154916,0.04300299528594715,0.0823949595019777,0.06308247259017281,0.05935683040666631,0.06808398038237877,0.09159057657782639,0.4559257386806612,0.25634893190568314,0.37809652901455104,0.5799707836766471,0.5379794240017113,0.5159087184850263,0.6934718905754481],\"yaxis\":\"y\",\"type\":\"scatter\"},{\"hovertemplate\":\"Player=Derrick Favors<br>age=%{x}<br>blk=%{y}<extra></extra>\",\"legendgroup\":\"Derrick Favors\",\"line\":{\"color\":\"#19d3f3\",\"dash\":\"solid\"},\"marker\":{\"symbol\":\"circle\"},\"mode\":\"lines\",\"name\":\"Derrick Favors\",\"orientation\":\"v\",\"showlegend\":true,\"x\":[18,19,20,21,22,23,24,25,26,27,28,29,30,31,32,33,34,35,36,37,38,39,40,41,42,43,44],\"xaxis\":\"x\",\"y\":[0.22364228536770803,748.9856429068219,256.8486272828816,250.06548420600703,728.6229559889762,153.9091773024623,75.62166499524166,246.51902999111903,708.4698758489071,229.32374497598673,192.30879231389744,186.5278373171912,0.29492436976764325,0.26538956048397855,0.09466919699763134,0.1678089934495124,0.335054465339404,0.33385380932144515,0.13316409851823402,0.045728756309586456,0.27848195994049957,0.3960284857800917,0.32233253914290666,0.3285655659830964,0.29217869654816264,0.2930015720940217,0.3950567327382483],\"yaxis\":\"y\",\"type\":\"scatter\"}],                        {\"template\":{\"data\":{\"histogram2dcontour\":[{\"type\":\"histogram2dcontour\",\"colorbar\":{\"outlinewidth\":0,\"ticks\":\"\"},\"colorscale\":[[0.0,\"#0d0887\"],[0.1111111111111111,\"#46039f\"],[0.2222222222222222,\"#7201a8\"],[0.3333333333333333,\"#9c179e\"],[0.4444444444444444,\"#bd3786\"],[0.5555555555555556,\"#d8576b\"],[0.6666666666666666,\"#ed7953\"],[0.7777777777777778,\"#fb9f3a\"],[0.8888888888888888,\"#fdca26\"],[1.0,\"#f0f921\"]]}],\"choropleth\":[{\"type\":\"choropleth\",\"colorbar\":{\"outlinewidth\":0,\"ticks\":\"\"}}],\"histogram2d\":[{\"type\":\"histogram2d\",\"colorbar\":{\"outlinewidth\":0,\"ticks\":\"\"},\"colorscale\":[[0.0,\"#0d0887\"],[0.1111111111111111,\"#46039f\"],[0.2222222222222222,\"#7201a8\"],[0.3333333333333333,\"#9c179e\"],[0.4444444444444444,\"#bd3786\"],[0.5555555555555556,\"#d8576b\"],[0.6666666666666666,\"#ed7953\"],[0.7777777777777778,\"#fb9f3a\"],[0.8888888888888888,\"#fdca26\"],[1.0,\"#f0f921\"]]}],\"heatmap\":[{\"type\":\"heatmap\",\"colorbar\":{\"outlinewidth\":0,\"ticks\":\"\"},\"colorscale\":[[0.0,\"#0d0887\"],[0.1111111111111111,\"#46039f\"],[0.2222222222222222,\"#7201a8\"],[0.3333333333333333,\"#9c179e\"],[0.4444444444444444,\"#bd3786\"],[0.5555555555555556,\"#d8576b\"],[0.6666666666666666,\"#ed7953\"],[0.7777777777777778,\"#fb9f3a\"],[0.8888888888888888,\"#fdca26\"],[1.0,\"#f0f921\"]]}],\"heatmapgl\":[{\"type\":\"heatmapgl\",\"colorbar\":{\"outlinewidth\":0,\"ticks\":\"\"},\"colorscale\":[[0.0,\"#0d0887\"],[0.1111111111111111,\"#46039f\"],[0.2222222222222222,\"#7201a8\"],[0.3333333333333333,\"#9c179e\"],[0.4444444444444444,\"#bd3786\"],[0.5555555555555556,\"#d8576b\"],[0.6666666666666666,\"#ed7953\"],[0.7777777777777778,\"#fb9f3a\"],[0.8888888888888888,\"#fdca26\"],[1.0,\"#f0f921\"]]}],\"contourcarpet\":[{\"type\":\"contourcarpet\",\"colorbar\":{\"outlinewidth\":0,\"ticks\":\"\"}}],\"contour\":[{\"type\":\"contour\",\"colorbar\":{\"outlinewidth\":0,\"ticks\":\"\"},\"colorscale\":[[0.0,\"#0d0887\"],[0.1111111111111111,\"#46039f\"],[0.2222222222222222,\"#7201a8\"],[0.3333333333333333,\"#9c179e\"],[0.4444444444444444,\"#bd3786\"],[0.5555555555555556,\"#d8576b\"],[0.6666666666666666,\"#ed7953\"],[0.7777777777777778,\"#fb9f3a\"],[0.8888888888888888,\"#fdca26\"],[1.0,\"#f0f921\"]]}],\"surface\":[{\"type\":\"surface\",\"colorbar\":{\"outlinewidth\":0,\"ticks\":\"\"},\"colorscale\":[[0.0,\"#0d0887\"],[0.1111111111111111,\"#46039f\"],[0.2222222222222222,\"#7201a8\"],[0.3333333333333333,\"#9c179e\"],[0.4444444444444444,\"#bd3786\"],[0.5555555555555556,\"#d8576b\"],[0.6666666666666666,\"#ed7953\"],[0.7777777777777778,\"#fb9f3a\"],[0.8888888888888888,\"#fdca26\"],[1.0,\"#f0f921\"]]}],\"mesh3d\":[{\"type\":\"mesh3d\",\"colorbar\":{\"outlinewidth\":0,\"ticks\":\"\"}}],\"scatter\":[{\"fillpattern\":{\"fillmode\":\"overlay\",\"size\":10,\"solidity\":0.2},\"type\":\"scatter\"}],\"parcoords\":[{\"type\":\"parcoords\",\"line\":{\"colorbar\":{\"outlinewidth\":0,\"ticks\":\"\"}}}],\"scatterpolargl\":[{\"type\":\"scatterpolargl\",\"marker\":{\"colorbar\":{\"outlinewidth\":0,\"ticks\":\"\"}}}],\"bar\":[{\"error_x\":{\"color\":\"#2a3f5f\"},\"error_y\":{\"color\":\"#2a3f5f\"},\"marker\":{\"line\":{\"color\":\"#E5ECF6\",\"width\":0.5},\"pattern\":{\"fillmode\":\"overlay\",\"size\":10,\"solidity\":0.2}},\"type\":\"bar\"}],\"scattergeo\":[{\"type\":\"scattergeo\",\"marker\":{\"colorbar\":{\"outlinewidth\":0,\"ticks\":\"\"}}}],\"scatterpolar\":[{\"type\":\"scatterpolar\",\"marker\":{\"colorbar\":{\"outlinewidth\":0,\"ticks\":\"\"}}}],\"histogram\":[{\"marker\":{\"pattern\":{\"fillmode\":\"overlay\",\"size\":10,\"solidity\":0.2}},\"type\":\"histogram\"}],\"scattergl\":[{\"type\":\"scattergl\",\"marker\":{\"colorbar\":{\"outlinewidth\":0,\"ticks\":\"\"}}}],\"scatter3d\":[{\"type\":\"scatter3d\",\"line\":{\"colorbar\":{\"outlinewidth\":0,\"ticks\":\"\"}},\"marker\":{\"colorbar\":{\"outlinewidth\":0,\"ticks\":\"\"}}}],\"scattermapbox\":[{\"type\":\"scattermapbox\",\"marker\":{\"colorbar\":{\"outlinewidth\":0,\"ticks\":\"\"}}}],\"scatterternary\":[{\"type\":\"scatterternary\",\"marker\":{\"colorbar\":{\"outlinewidth\":0,\"ticks\":\"\"}}}],\"scattercarpet\":[{\"type\":\"scattercarpet\",\"marker\":{\"colorbar\":{\"outlinewidth\":0,\"ticks\":\"\"}}}],\"carpet\":[{\"aaxis\":{\"endlinecolor\":\"#2a3f5f\",\"gridcolor\":\"white\",\"linecolor\":\"white\",\"minorgridcolor\":\"white\",\"startlinecolor\":\"#2a3f5f\"},\"baxis\":{\"endlinecolor\":\"#2a3f5f\",\"gridcolor\":\"white\",\"linecolor\":\"white\",\"minorgridcolor\":\"white\",\"startlinecolor\":\"#2a3f5f\"},\"type\":\"carpet\"}],\"table\":[{\"cells\":{\"fill\":{\"color\":\"#EBF0F8\"},\"line\":{\"color\":\"white\"}},\"header\":{\"fill\":{\"color\":\"#C8D4E3\"},\"line\":{\"color\":\"white\"}},\"type\":\"table\"}],\"barpolar\":[{\"marker\":{\"line\":{\"color\":\"#E5ECF6\",\"width\":0.5},\"pattern\":{\"fillmode\":\"overlay\",\"size\":10,\"solidity\":0.2}},\"type\":\"barpolar\"}],\"pie\":[{\"automargin\":true,\"type\":\"pie\"}]},\"layout\":{\"autotypenumbers\":\"strict\",\"colorway\":[\"#636efa\",\"#EF553B\",\"#00cc96\",\"#ab63fa\",\"#FFA15A\",\"#19d3f3\",\"#FF6692\",\"#B6E880\",\"#FF97FF\",\"#FECB52\"],\"font\":{\"color\":\"#2a3f5f\"},\"hovermode\":\"closest\",\"hoverlabel\":{\"align\":\"left\"},\"paper_bgcolor\":\"white\",\"plot_bgcolor\":\"#E5ECF6\",\"polar\":{\"bgcolor\":\"#E5ECF6\",\"angularaxis\":{\"gridcolor\":\"white\",\"linecolor\":\"white\",\"ticks\":\"\"},\"radialaxis\":{\"gridcolor\":\"white\",\"linecolor\":\"white\",\"ticks\":\"\"}},\"ternary\":{\"bgcolor\":\"#E5ECF6\",\"aaxis\":{\"gridcolor\":\"white\",\"linecolor\":\"white\",\"ticks\":\"\"},\"baxis\":{\"gridcolor\":\"white\",\"linecolor\":\"white\",\"ticks\":\"\"},\"caxis\":{\"gridcolor\":\"white\",\"linecolor\":\"white\",\"ticks\":\"\"}},\"coloraxis\":{\"colorbar\":{\"outlinewidth\":0,\"ticks\":\"\"}},\"colorscale\":{\"sequential\":[[0.0,\"#0d0887\"],[0.1111111111111111,\"#46039f\"],[0.2222222222222222,\"#7201a8\"],[0.3333333333333333,\"#9c179e\"],[0.4444444444444444,\"#bd3786\"],[0.5555555555555556,\"#d8576b\"],[0.6666666666666666,\"#ed7953\"],[0.7777777777777778,\"#fb9f3a\"],[0.8888888888888888,\"#fdca26\"],[1.0,\"#f0f921\"]],\"sequentialminus\":[[0.0,\"#0d0887\"],[0.1111111111111111,\"#46039f\"],[0.2222222222222222,\"#7201a8\"],[0.3333333333333333,\"#9c179e\"],[0.4444444444444444,\"#bd3786\"],[0.5555555555555556,\"#d8576b\"],[0.6666666666666666,\"#ed7953\"],[0.7777777777777778,\"#fb9f3a\"],[0.8888888888888888,\"#fdca26\"],[1.0,\"#f0f921\"]],\"diverging\":[[0,\"#8e0152\"],[0.1,\"#c51b7d\"],[0.2,\"#de77ae\"],[0.3,\"#f1b6da\"],[0.4,\"#fde0ef\"],[0.5,\"#f7f7f7\"],[0.6,\"#e6f5d0\"],[0.7,\"#b8e186\"],[0.8,\"#7fbc41\"],[0.9,\"#4d9221\"],[1,\"#276419\"]]},\"xaxis\":{\"gridcolor\":\"white\",\"linecolor\":\"white\",\"ticks\":\"\",\"title\":{\"standoff\":15},\"zerolinecolor\":\"white\",\"automargin\":true,\"zerolinewidth\":2},\"yaxis\":{\"gridcolor\":\"white\",\"linecolor\":\"white\",\"ticks\":\"\",\"title\":{\"standoff\":15},\"zerolinecolor\":\"white\",\"automargin\":true,\"zerolinewidth\":2},\"scene\":{\"xaxis\":{\"backgroundcolor\":\"#E5ECF6\",\"gridcolor\":\"white\",\"linecolor\":\"white\",\"showbackground\":true,\"ticks\":\"\",\"zerolinecolor\":\"white\",\"gridwidth\":2},\"yaxis\":{\"backgroundcolor\":\"#E5ECF6\",\"gridcolor\":\"white\",\"linecolor\":\"white\",\"showbackground\":true,\"ticks\":\"\",\"zerolinecolor\":\"white\",\"gridwidth\":2},\"zaxis\":{\"backgroundcolor\":\"#E5ECF6\",\"gridcolor\":\"white\",\"linecolor\":\"white\",\"showbackground\":true,\"ticks\":\"\",\"zerolinecolor\":\"white\",\"gridwidth\":2}},\"shapedefaults\":{\"line\":{\"color\":\"#2a3f5f\"}},\"annotationdefaults\":{\"arrowcolor\":\"#2a3f5f\",\"arrowhead\":0,\"arrowwidth\":1},\"geo\":{\"bgcolor\":\"white\",\"landcolor\":\"#E5ECF6\",\"subunitcolor\":\"white\",\"showland\":true,\"showlakes\":true,\"lakecolor\":\"white\"},\"title\":{\"x\":0.05},\"mapbox\":{\"style\":\"light\"}}},\"xaxis\":{\"anchor\":\"y\",\"domain\":[0.0,1.0],\"title\":{\"text\":\"age\"}},\"yaxis\":{\"anchor\":\"x\",\"domain\":[0.0,1.0],\"title\":{\"text\":\"blk\"}},\"legend\":{\"title\":{\"text\":\"Player\"},\"tracegroupgap\":0},\"margin\":{\"t\":60},\"title\":{\"text\":\"blk over time for 5 neighbors of Tim Duncan\"}},                        {\"responsive\": true}                    ).then(function(){\n",
       "                            \n",
       "var gd = document.getElementById('69911934-08c7-4d5a-847b-3e99bec9974b');\n",
       "var x = new MutationObserver(function (mutations, observer) {{\n",
       "        var display = window.getComputedStyle(gd).display;\n",
       "        if (!display || display === 'none') {{\n",
       "            console.log([gd, 'removed!']);\n",
       "            Plotly.purge(gd);\n",
       "            observer.disconnect();\n",
       "        }}\n",
       "}});\n",
       "\n",
       "// Listen for the removal of the full notebook cells\n",
       "var notebookContainer = gd.closest('#notebook-container');\n",
       "if (notebookContainer) {{\n",
       "    x.observe(notebookContainer, {childList: true});\n",
       "}}\n",
       "\n",
       "// Listen for the clearing of the current output cell\n",
       "var outputEl = gd.closest('.output');\n",
       "if (outputEl) {{\n",
       "    x.observe(outputEl, {childList: true});\n",
       "}}\n",
       "\n",
       "                        })                };                });            </script>        </div>"
      ]
     },
     "metadata": {},
     "output_type": "display_data"
    }
   ],
   "source": [
    "plot_trajectories(blk_preds_df_long, \"Tim Duncan\", 6, \"blk\", experiment_result[\"poisson_blk_rflvm\"][\"X\"][-1,:,:],)"
   ]
  },
  {
   "cell_type": "code",
   "execution_count": 82,
   "metadata": {},
   "outputs": [
    {
     "data": {
      "application/vnd.plotly.v1+json": {
       "config": {
        "plotlyServerURL": "https://plot.ly"
       },
       "data": [
        {
         "hovertemplate": "Player=Theo Ratliff<br>age=%{x}<br>blk=%{y}<extra></extra>",
         "legendgroup": "Theo Ratliff",
         "line": {
          "color": "#636efa",
          "dash": "solid"
         },
         "marker": {
          "symbol": "circle"
         },
         "mode": "lines",
         "name": "Theo Ratliff",
         "orientation": "v",
         "showlegend": true,
         "type": "scatter",
         "x": [
          23,
          24,
          25,
          26,
          27,
          28,
          29,
          30,
          31,
          32,
          33,
          34,
          35,
          36,
          37
         ],
         "xaxis": "x",
         "y": [
          111,
          258,
          149,
          171,
          187,
          8,
          262,
          307,
          158,
          88,
          3,
          37,
          47,
          61,
          5
         ],
         "yaxis": "y"
        },
        {
         "hovertemplate": "Player=Ben Wallace<br>age=%{x}<br>blk=%{y}<extra></extra>",
         "legendgroup": "Ben Wallace",
         "line": {
          "color": "#EF553B",
          "dash": "solid"
         },
         "marker": {
          "symbol": "circle"
         },
         "mode": "lines",
         "name": "Ben Wallace",
         "orientation": "v",
         "showlegend": true,
         "type": "scatter",
         "x": [
          22,
          23,
          24,
          25,
          26,
          27,
          28,
          29,
          30,
          31,
          32,
          33,
          34,
          35,
          36,
          37
         ],
         "xaxis": "x",
         "y": [
          11,
          72,
          90,
          130,
          186,
          278,
          230,
          246,
          176,
          181,
          156,
          117,
          75,
          84,
          54,
          51
         ],
         "yaxis": "y"
        },
        {
         "hovertemplate": "Player=Tim Duncan<br>age=%{x}<br>blk=%{y}<extra></extra>",
         "legendgroup": "Tim Duncan",
         "line": {
          "color": "#00cc96",
          "dash": "solid"
         },
         "marker": {
          "symbol": "circle"
         },
         "mode": "lines",
         "name": "Tim Duncan",
         "orientation": "v",
         "showlegend": true,
         "type": "scatter",
         "x": [
          21,
          22,
          23,
          24,
          25,
          26,
          27,
          28,
          29,
          30,
          31,
          32,
          33,
          34,
          35,
          36,
          37,
          38,
          39
         ],
         "xaxis": "x",
         "y": [
          206,
          126,
          165,
          192,
          203,
          237,
          185,
          174,
          162,
          190,
          152,
          126,
          117,
          146,
          88,
          183,
          139,
          151,
          78
         ],
         "yaxis": "y"
        },
        {
         "hovertemplate": "Player=Samuel Dalembert<br>age=%{x}<br>blk=%{y}<extra></extra>",
         "legendgroup": "Samuel Dalembert",
         "line": {
          "color": "#ab63fa",
          "dash": "solid"
         },
         "marker": {
          "symbol": "circle"
         },
         "mode": "lines",
         "name": "Samuel Dalembert",
         "orientation": "v",
         "showlegend": true,
         "type": "scatter",
         "x": [
          20,
          22,
          23,
          24,
          25,
          26,
          27,
          28,
          29,
          30,
          31,
          32,
          33
         ],
         "xaxis": "x",
         "y": [
          13,
          189,
          121,
          160,
          159,
          192,
          146,
          151,
          116,
          111,
          53,
          94,
          41
         ],
         "yaxis": "y"
        },
        {
         "hovertemplate": "Player=Serge Ibaka<br>age=%{x}<br>blk=%{y}<extra></extra>",
         "legendgroup": "Serge Ibaka",
         "line": {
          "color": "#FFA15A",
          "dash": "solid"
         },
         "marker": {
          "symbol": "circle"
         },
         "mode": "lines",
         "name": "Serge Ibaka",
         "orientation": "v",
         "showlegend": true,
         "type": "scatter",
         "x": [
          20,
          21,
          22,
          23,
          24,
          25,
          26,
          27,
          28,
          29,
          30,
          31
         ],
         "xaxis": "x",
         "y": [
          97,
          198,
          241,
          242,
          219,
          155,
          148,
          124,
          99,
          103,
          46,
          47
         ],
         "yaxis": "y"
        },
        {
         "hovertemplate": "Player=Derrick Favors<br>age=%{x}<br>blk=%{y}<extra></extra>",
         "legendgroup": "Derrick Favors",
         "line": {
          "color": "#19d3f3",
          "dash": "solid"
         },
         "marker": {
          "symbol": "circle"
         },
         "mode": "lines",
         "name": "Derrick Favors",
         "orientation": "v",
         "showlegend": true,
         "type": "scatter",
         "x": [
          19,
          20,
          21,
          22,
          23,
          24,
          25,
          26,
          27,
          28,
          29
         ],
         "xaxis": "x",
         "y": [
          68,
          65,
          130,
          108,
          123,
          91,
          40,
          82,
          106,
          46,
          68
         ],
         "yaxis": "y"
        }
       ],
       "layout": {
        "legend": {
         "title": {
          "text": "Player"
         },
         "tracegroupgap": 0
        },
        "margin": {
         "t": 60
        },
        "template": {
         "data": {
          "bar": [
           {
            "error_x": {
             "color": "#2a3f5f"
            },
            "error_y": {
             "color": "#2a3f5f"
            },
            "marker": {
             "line": {
              "color": "#E5ECF6",
              "width": 0.5
             },
             "pattern": {
              "fillmode": "overlay",
              "size": 10,
              "solidity": 0.2
             }
            },
            "type": "bar"
           }
          ],
          "barpolar": [
           {
            "marker": {
             "line": {
              "color": "#E5ECF6",
              "width": 0.5
             },
             "pattern": {
              "fillmode": "overlay",
              "size": 10,
              "solidity": 0.2
             }
            },
            "type": "barpolar"
           }
          ],
          "carpet": [
           {
            "aaxis": {
             "endlinecolor": "#2a3f5f",
             "gridcolor": "white",
             "linecolor": "white",
             "minorgridcolor": "white",
             "startlinecolor": "#2a3f5f"
            },
            "baxis": {
             "endlinecolor": "#2a3f5f",
             "gridcolor": "white",
             "linecolor": "white",
             "minorgridcolor": "white",
             "startlinecolor": "#2a3f5f"
            },
            "type": "carpet"
           }
          ],
          "choropleth": [
           {
            "colorbar": {
             "outlinewidth": 0,
             "ticks": ""
            },
            "type": "choropleth"
           }
          ],
          "contour": [
           {
            "colorbar": {
             "outlinewidth": 0,
             "ticks": ""
            },
            "colorscale": [
             [
              0,
              "#0d0887"
             ],
             [
              0.1111111111111111,
              "#46039f"
             ],
             [
              0.2222222222222222,
              "#7201a8"
             ],
             [
              0.3333333333333333,
              "#9c179e"
             ],
             [
              0.4444444444444444,
              "#bd3786"
             ],
             [
              0.5555555555555556,
              "#d8576b"
             ],
             [
              0.6666666666666666,
              "#ed7953"
             ],
             [
              0.7777777777777778,
              "#fb9f3a"
             ],
             [
              0.8888888888888888,
              "#fdca26"
             ],
             [
              1,
              "#f0f921"
             ]
            ],
            "type": "contour"
           }
          ],
          "contourcarpet": [
           {
            "colorbar": {
             "outlinewidth": 0,
             "ticks": ""
            },
            "type": "contourcarpet"
           }
          ],
          "heatmap": [
           {
            "colorbar": {
             "outlinewidth": 0,
             "ticks": ""
            },
            "colorscale": [
             [
              0,
              "#0d0887"
             ],
             [
              0.1111111111111111,
              "#46039f"
             ],
             [
              0.2222222222222222,
              "#7201a8"
             ],
             [
              0.3333333333333333,
              "#9c179e"
             ],
             [
              0.4444444444444444,
              "#bd3786"
             ],
             [
              0.5555555555555556,
              "#d8576b"
             ],
             [
              0.6666666666666666,
              "#ed7953"
             ],
             [
              0.7777777777777778,
              "#fb9f3a"
             ],
             [
              0.8888888888888888,
              "#fdca26"
             ],
             [
              1,
              "#f0f921"
             ]
            ],
            "type": "heatmap"
           }
          ],
          "heatmapgl": [
           {
            "colorbar": {
             "outlinewidth": 0,
             "ticks": ""
            },
            "colorscale": [
             [
              0,
              "#0d0887"
             ],
             [
              0.1111111111111111,
              "#46039f"
             ],
             [
              0.2222222222222222,
              "#7201a8"
             ],
             [
              0.3333333333333333,
              "#9c179e"
             ],
             [
              0.4444444444444444,
              "#bd3786"
             ],
             [
              0.5555555555555556,
              "#d8576b"
             ],
             [
              0.6666666666666666,
              "#ed7953"
             ],
             [
              0.7777777777777778,
              "#fb9f3a"
             ],
             [
              0.8888888888888888,
              "#fdca26"
             ],
             [
              1,
              "#f0f921"
             ]
            ],
            "type": "heatmapgl"
           }
          ],
          "histogram": [
           {
            "marker": {
             "pattern": {
              "fillmode": "overlay",
              "size": 10,
              "solidity": 0.2
             }
            },
            "type": "histogram"
           }
          ],
          "histogram2d": [
           {
            "colorbar": {
             "outlinewidth": 0,
             "ticks": ""
            },
            "colorscale": [
             [
              0,
              "#0d0887"
             ],
             [
              0.1111111111111111,
              "#46039f"
             ],
             [
              0.2222222222222222,
              "#7201a8"
             ],
             [
              0.3333333333333333,
              "#9c179e"
             ],
             [
              0.4444444444444444,
              "#bd3786"
             ],
             [
              0.5555555555555556,
              "#d8576b"
             ],
             [
              0.6666666666666666,
              "#ed7953"
             ],
             [
              0.7777777777777778,
              "#fb9f3a"
             ],
             [
              0.8888888888888888,
              "#fdca26"
             ],
             [
              1,
              "#f0f921"
             ]
            ],
            "type": "histogram2d"
           }
          ],
          "histogram2dcontour": [
           {
            "colorbar": {
             "outlinewidth": 0,
             "ticks": ""
            },
            "colorscale": [
             [
              0,
              "#0d0887"
             ],
             [
              0.1111111111111111,
              "#46039f"
             ],
             [
              0.2222222222222222,
              "#7201a8"
             ],
             [
              0.3333333333333333,
              "#9c179e"
             ],
             [
              0.4444444444444444,
              "#bd3786"
             ],
             [
              0.5555555555555556,
              "#d8576b"
             ],
             [
              0.6666666666666666,
              "#ed7953"
             ],
             [
              0.7777777777777778,
              "#fb9f3a"
             ],
             [
              0.8888888888888888,
              "#fdca26"
             ],
             [
              1,
              "#f0f921"
             ]
            ],
            "type": "histogram2dcontour"
           }
          ],
          "mesh3d": [
           {
            "colorbar": {
             "outlinewidth": 0,
             "ticks": ""
            },
            "type": "mesh3d"
           }
          ],
          "parcoords": [
           {
            "line": {
             "colorbar": {
              "outlinewidth": 0,
              "ticks": ""
             }
            },
            "type": "parcoords"
           }
          ],
          "pie": [
           {
            "automargin": true,
            "type": "pie"
           }
          ],
          "scatter": [
           {
            "fillpattern": {
             "fillmode": "overlay",
             "size": 10,
             "solidity": 0.2
            },
            "type": "scatter"
           }
          ],
          "scatter3d": [
           {
            "line": {
             "colorbar": {
              "outlinewidth": 0,
              "ticks": ""
             }
            },
            "marker": {
             "colorbar": {
              "outlinewidth": 0,
              "ticks": ""
             }
            },
            "type": "scatter3d"
           }
          ],
          "scattercarpet": [
           {
            "marker": {
             "colorbar": {
              "outlinewidth": 0,
              "ticks": ""
             }
            },
            "type": "scattercarpet"
           }
          ],
          "scattergeo": [
           {
            "marker": {
             "colorbar": {
              "outlinewidth": 0,
              "ticks": ""
             }
            },
            "type": "scattergeo"
           }
          ],
          "scattergl": [
           {
            "marker": {
             "colorbar": {
              "outlinewidth": 0,
              "ticks": ""
             }
            },
            "type": "scattergl"
           }
          ],
          "scattermapbox": [
           {
            "marker": {
             "colorbar": {
              "outlinewidth": 0,
              "ticks": ""
             }
            },
            "type": "scattermapbox"
           }
          ],
          "scatterpolar": [
           {
            "marker": {
             "colorbar": {
              "outlinewidth": 0,
              "ticks": ""
             }
            },
            "type": "scatterpolar"
           }
          ],
          "scatterpolargl": [
           {
            "marker": {
             "colorbar": {
              "outlinewidth": 0,
              "ticks": ""
             }
            },
            "type": "scatterpolargl"
           }
          ],
          "scatterternary": [
           {
            "marker": {
             "colorbar": {
              "outlinewidth": 0,
              "ticks": ""
             }
            },
            "type": "scatterternary"
           }
          ],
          "surface": [
           {
            "colorbar": {
             "outlinewidth": 0,
             "ticks": ""
            },
            "colorscale": [
             [
              0,
              "#0d0887"
             ],
             [
              0.1111111111111111,
              "#46039f"
             ],
             [
              0.2222222222222222,
              "#7201a8"
             ],
             [
              0.3333333333333333,
              "#9c179e"
             ],
             [
              0.4444444444444444,
              "#bd3786"
             ],
             [
              0.5555555555555556,
              "#d8576b"
             ],
             [
              0.6666666666666666,
              "#ed7953"
             ],
             [
              0.7777777777777778,
              "#fb9f3a"
             ],
             [
              0.8888888888888888,
              "#fdca26"
             ],
             [
              1,
              "#f0f921"
             ]
            ],
            "type": "surface"
           }
          ],
          "table": [
           {
            "cells": {
             "fill": {
              "color": "#EBF0F8"
             },
             "line": {
              "color": "white"
             }
            },
            "header": {
             "fill": {
              "color": "#C8D4E3"
             },
             "line": {
              "color": "white"
             }
            },
            "type": "table"
           }
          ]
         },
         "layout": {
          "annotationdefaults": {
           "arrowcolor": "#2a3f5f",
           "arrowhead": 0,
           "arrowwidth": 1
          },
          "autotypenumbers": "strict",
          "coloraxis": {
           "colorbar": {
            "outlinewidth": 0,
            "ticks": ""
           }
          },
          "colorscale": {
           "diverging": [
            [
             0,
             "#8e0152"
            ],
            [
             0.1,
             "#c51b7d"
            ],
            [
             0.2,
             "#de77ae"
            ],
            [
             0.3,
             "#f1b6da"
            ],
            [
             0.4,
             "#fde0ef"
            ],
            [
             0.5,
             "#f7f7f7"
            ],
            [
             0.6,
             "#e6f5d0"
            ],
            [
             0.7,
             "#b8e186"
            ],
            [
             0.8,
             "#7fbc41"
            ],
            [
             0.9,
             "#4d9221"
            ],
            [
             1,
             "#276419"
            ]
           ],
           "sequential": [
            [
             0,
             "#0d0887"
            ],
            [
             0.1111111111111111,
             "#46039f"
            ],
            [
             0.2222222222222222,
             "#7201a8"
            ],
            [
             0.3333333333333333,
             "#9c179e"
            ],
            [
             0.4444444444444444,
             "#bd3786"
            ],
            [
             0.5555555555555556,
             "#d8576b"
            ],
            [
             0.6666666666666666,
             "#ed7953"
            ],
            [
             0.7777777777777778,
             "#fb9f3a"
            ],
            [
             0.8888888888888888,
             "#fdca26"
            ],
            [
             1,
             "#f0f921"
            ]
           ],
           "sequentialminus": [
            [
             0,
             "#0d0887"
            ],
            [
             0.1111111111111111,
             "#46039f"
            ],
            [
             0.2222222222222222,
             "#7201a8"
            ],
            [
             0.3333333333333333,
             "#9c179e"
            ],
            [
             0.4444444444444444,
             "#bd3786"
            ],
            [
             0.5555555555555556,
             "#d8576b"
            ],
            [
             0.6666666666666666,
             "#ed7953"
            ],
            [
             0.7777777777777778,
             "#fb9f3a"
            ],
            [
             0.8888888888888888,
             "#fdca26"
            ],
            [
             1,
             "#f0f921"
            ]
           ]
          },
          "colorway": [
           "#636efa",
           "#EF553B",
           "#00cc96",
           "#ab63fa",
           "#FFA15A",
           "#19d3f3",
           "#FF6692",
           "#B6E880",
           "#FF97FF",
           "#FECB52"
          ],
          "font": {
           "color": "#2a3f5f"
          },
          "geo": {
           "bgcolor": "white",
           "lakecolor": "white",
           "landcolor": "#E5ECF6",
           "showlakes": true,
           "showland": true,
           "subunitcolor": "white"
          },
          "hoverlabel": {
           "align": "left"
          },
          "hovermode": "closest",
          "mapbox": {
           "style": "light"
          },
          "paper_bgcolor": "white",
          "plot_bgcolor": "#E5ECF6",
          "polar": {
           "angularaxis": {
            "gridcolor": "white",
            "linecolor": "white",
            "ticks": ""
           },
           "bgcolor": "#E5ECF6",
           "radialaxis": {
            "gridcolor": "white",
            "linecolor": "white",
            "ticks": ""
           }
          },
          "scene": {
           "xaxis": {
            "backgroundcolor": "#E5ECF6",
            "gridcolor": "white",
            "gridwidth": 2,
            "linecolor": "white",
            "showbackground": true,
            "ticks": "",
            "zerolinecolor": "white"
           },
           "yaxis": {
            "backgroundcolor": "#E5ECF6",
            "gridcolor": "white",
            "gridwidth": 2,
            "linecolor": "white",
            "showbackground": true,
            "ticks": "",
            "zerolinecolor": "white"
           },
           "zaxis": {
            "backgroundcolor": "#E5ECF6",
            "gridcolor": "white",
            "gridwidth": 2,
            "linecolor": "white",
            "showbackground": true,
            "ticks": "",
            "zerolinecolor": "white"
           }
          },
          "shapedefaults": {
           "line": {
            "color": "#2a3f5f"
           }
          },
          "ternary": {
           "aaxis": {
            "gridcolor": "white",
            "linecolor": "white",
            "ticks": ""
           },
           "baxis": {
            "gridcolor": "white",
            "linecolor": "white",
            "ticks": ""
           },
           "bgcolor": "#E5ECF6",
           "caxis": {
            "gridcolor": "white",
            "linecolor": "white",
            "ticks": ""
           }
          },
          "title": {
           "x": 0.05
          },
          "xaxis": {
           "automargin": true,
           "gridcolor": "white",
           "linecolor": "white",
           "ticks": "",
           "title": {
            "standoff": 15
           },
           "zerolinecolor": "white",
           "zerolinewidth": 2
          },
          "yaxis": {
           "automargin": true,
           "gridcolor": "white",
           "linecolor": "white",
           "ticks": "",
           "title": {
            "standoff": 15
           },
           "zerolinecolor": "white",
           "zerolinewidth": 2
          }
         }
        },
        "title": {
         "text": "blk over time for 5 neighbors of Tim Duncan"
        },
        "xaxis": {
         "anchor": "y",
         "domain": [
          0,
          1
         ],
         "title": {
          "text": "age"
         }
        },
        "yaxis": {
         "anchor": "x",
         "domain": [
          0,
          1
         ],
         "title": {
          "text": "blk"
         }
        }
       }
      },
      "text/html": [
       "<div>                            <div id=\"3ff21ef2-2e29-45a8-87b5-db21142f0ef1\" class=\"plotly-graph-div\" style=\"height:525px; width:100%;\"></div>            <script type=\"text/javascript\">                require([\"plotly\"], function(Plotly) {                    window.PLOTLYENV=window.PLOTLYENV || {};                                    if (document.getElementById(\"3ff21ef2-2e29-45a8-87b5-db21142f0ef1\")) {                    Plotly.newPlot(                        \"3ff21ef2-2e29-45a8-87b5-db21142f0ef1\",                        [{\"hovertemplate\":\"Player=Theo Ratliff<br>age=%{x}<br>blk=%{y}<extra></extra>\",\"legendgroup\":\"Theo Ratliff\",\"line\":{\"color\":\"#636efa\",\"dash\":\"solid\"},\"marker\":{\"symbol\":\"circle\"},\"mode\":\"lines\",\"name\":\"Theo Ratliff\",\"orientation\":\"v\",\"showlegend\":true,\"x\":[23,24,25,26,27,28,29,30,31,32,33,34,35,36,37],\"xaxis\":\"x\",\"y\":[111,258,149,171,187,8,262,307,158,88,3,37,47,61,5],\"yaxis\":\"y\",\"type\":\"scatter\"},{\"hovertemplate\":\"Player=Ben Wallace<br>age=%{x}<br>blk=%{y}<extra></extra>\",\"legendgroup\":\"Ben Wallace\",\"line\":{\"color\":\"#EF553B\",\"dash\":\"solid\"},\"marker\":{\"symbol\":\"circle\"},\"mode\":\"lines\",\"name\":\"Ben Wallace\",\"orientation\":\"v\",\"showlegend\":true,\"x\":[22,23,24,25,26,27,28,29,30,31,32,33,34,35,36,37],\"xaxis\":\"x\",\"y\":[11,72,90,130,186,278,230,246,176,181,156,117,75,84,54,51],\"yaxis\":\"y\",\"type\":\"scatter\"},{\"hovertemplate\":\"Player=Tim Duncan<br>age=%{x}<br>blk=%{y}<extra></extra>\",\"legendgroup\":\"Tim Duncan\",\"line\":{\"color\":\"#00cc96\",\"dash\":\"solid\"},\"marker\":{\"symbol\":\"circle\"},\"mode\":\"lines\",\"name\":\"Tim Duncan\",\"orientation\":\"v\",\"showlegend\":true,\"x\":[21,22,23,24,25,26,27,28,29,30,31,32,33,34,35,36,37,38,39],\"xaxis\":\"x\",\"y\":[206,126,165,192,203,237,185,174,162,190,152,126,117,146,88,183,139,151,78],\"yaxis\":\"y\",\"type\":\"scatter\"},{\"hovertemplate\":\"Player=Samuel Dalembert<br>age=%{x}<br>blk=%{y}<extra></extra>\",\"legendgroup\":\"Samuel Dalembert\",\"line\":{\"color\":\"#ab63fa\",\"dash\":\"solid\"},\"marker\":{\"symbol\":\"circle\"},\"mode\":\"lines\",\"name\":\"Samuel Dalembert\",\"orientation\":\"v\",\"showlegend\":true,\"x\":[20,22,23,24,25,26,27,28,29,30,31,32,33],\"xaxis\":\"x\",\"y\":[13,189,121,160,159,192,146,151,116,111,53,94,41],\"yaxis\":\"y\",\"type\":\"scatter\"},{\"hovertemplate\":\"Player=Serge Ibaka<br>age=%{x}<br>blk=%{y}<extra></extra>\",\"legendgroup\":\"Serge Ibaka\",\"line\":{\"color\":\"#FFA15A\",\"dash\":\"solid\"},\"marker\":{\"symbol\":\"circle\"},\"mode\":\"lines\",\"name\":\"Serge Ibaka\",\"orientation\":\"v\",\"showlegend\":true,\"x\":[20,21,22,23,24,25,26,27,28,29,30,31],\"xaxis\":\"x\",\"y\":[97,198,241,242,219,155,148,124,99,103,46,47],\"yaxis\":\"y\",\"type\":\"scatter\"},{\"hovertemplate\":\"Player=Derrick Favors<br>age=%{x}<br>blk=%{y}<extra></extra>\",\"legendgroup\":\"Derrick Favors\",\"line\":{\"color\":\"#19d3f3\",\"dash\":\"solid\"},\"marker\":{\"symbol\":\"circle\"},\"mode\":\"lines\",\"name\":\"Derrick Favors\",\"orientation\":\"v\",\"showlegend\":true,\"x\":[19,20,21,22,23,24,25,26,27,28,29],\"xaxis\":\"x\",\"y\":[68,65,130,108,123,91,40,82,106,46,68],\"yaxis\":\"y\",\"type\":\"scatter\"}],                        {\"template\":{\"data\":{\"histogram2dcontour\":[{\"type\":\"histogram2dcontour\",\"colorbar\":{\"outlinewidth\":0,\"ticks\":\"\"},\"colorscale\":[[0.0,\"#0d0887\"],[0.1111111111111111,\"#46039f\"],[0.2222222222222222,\"#7201a8\"],[0.3333333333333333,\"#9c179e\"],[0.4444444444444444,\"#bd3786\"],[0.5555555555555556,\"#d8576b\"],[0.6666666666666666,\"#ed7953\"],[0.7777777777777778,\"#fb9f3a\"],[0.8888888888888888,\"#fdca26\"],[1.0,\"#f0f921\"]]}],\"choropleth\":[{\"type\":\"choropleth\",\"colorbar\":{\"outlinewidth\":0,\"ticks\":\"\"}}],\"histogram2d\":[{\"type\":\"histogram2d\",\"colorbar\":{\"outlinewidth\":0,\"ticks\":\"\"},\"colorscale\":[[0.0,\"#0d0887\"],[0.1111111111111111,\"#46039f\"],[0.2222222222222222,\"#7201a8\"],[0.3333333333333333,\"#9c179e\"],[0.4444444444444444,\"#bd3786\"],[0.5555555555555556,\"#d8576b\"],[0.6666666666666666,\"#ed7953\"],[0.7777777777777778,\"#fb9f3a\"],[0.8888888888888888,\"#fdca26\"],[1.0,\"#f0f921\"]]}],\"heatmap\":[{\"type\":\"heatmap\",\"colorbar\":{\"outlinewidth\":0,\"ticks\":\"\"},\"colorscale\":[[0.0,\"#0d0887\"],[0.1111111111111111,\"#46039f\"],[0.2222222222222222,\"#7201a8\"],[0.3333333333333333,\"#9c179e\"],[0.4444444444444444,\"#bd3786\"],[0.5555555555555556,\"#d8576b\"],[0.6666666666666666,\"#ed7953\"],[0.7777777777777778,\"#fb9f3a\"],[0.8888888888888888,\"#fdca26\"],[1.0,\"#f0f921\"]]}],\"heatmapgl\":[{\"type\":\"heatmapgl\",\"colorbar\":{\"outlinewidth\":0,\"ticks\":\"\"},\"colorscale\":[[0.0,\"#0d0887\"],[0.1111111111111111,\"#46039f\"],[0.2222222222222222,\"#7201a8\"],[0.3333333333333333,\"#9c179e\"],[0.4444444444444444,\"#bd3786\"],[0.5555555555555556,\"#d8576b\"],[0.6666666666666666,\"#ed7953\"],[0.7777777777777778,\"#fb9f3a\"],[0.8888888888888888,\"#fdca26\"],[1.0,\"#f0f921\"]]}],\"contourcarpet\":[{\"type\":\"contourcarpet\",\"colorbar\":{\"outlinewidth\":0,\"ticks\":\"\"}}],\"contour\":[{\"type\":\"contour\",\"colorbar\":{\"outlinewidth\":0,\"ticks\":\"\"},\"colorscale\":[[0.0,\"#0d0887\"],[0.1111111111111111,\"#46039f\"],[0.2222222222222222,\"#7201a8\"],[0.3333333333333333,\"#9c179e\"],[0.4444444444444444,\"#bd3786\"],[0.5555555555555556,\"#d8576b\"],[0.6666666666666666,\"#ed7953\"],[0.7777777777777778,\"#fb9f3a\"],[0.8888888888888888,\"#fdca26\"],[1.0,\"#f0f921\"]]}],\"surface\":[{\"type\":\"surface\",\"colorbar\":{\"outlinewidth\":0,\"ticks\":\"\"},\"colorscale\":[[0.0,\"#0d0887\"],[0.1111111111111111,\"#46039f\"],[0.2222222222222222,\"#7201a8\"],[0.3333333333333333,\"#9c179e\"],[0.4444444444444444,\"#bd3786\"],[0.5555555555555556,\"#d8576b\"],[0.6666666666666666,\"#ed7953\"],[0.7777777777777778,\"#fb9f3a\"],[0.8888888888888888,\"#fdca26\"],[1.0,\"#f0f921\"]]}],\"mesh3d\":[{\"type\":\"mesh3d\",\"colorbar\":{\"outlinewidth\":0,\"ticks\":\"\"}}],\"scatter\":[{\"fillpattern\":{\"fillmode\":\"overlay\",\"size\":10,\"solidity\":0.2},\"type\":\"scatter\"}],\"parcoords\":[{\"type\":\"parcoords\",\"line\":{\"colorbar\":{\"outlinewidth\":0,\"ticks\":\"\"}}}],\"scatterpolargl\":[{\"type\":\"scatterpolargl\",\"marker\":{\"colorbar\":{\"outlinewidth\":0,\"ticks\":\"\"}}}],\"bar\":[{\"error_x\":{\"color\":\"#2a3f5f\"},\"error_y\":{\"color\":\"#2a3f5f\"},\"marker\":{\"line\":{\"color\":\"#E5ECF6\",\"width\":0.5},\"pattern\":{\"fillmode\":\"overlay\",\"size\":10,\"solidity\":0.2}},\"type\":\"bar\"}],\"scattergeo\":[{\"type\":\"scattergeo\",\"marker\":{\"colorbar\":{\"outlinewidth\":0,\"ticks\":\"\"}}}],\"scatterpolar\":[{\"type\":\"scatterpolar\",\"marker\":{\"colorbar\":{\"outlinewidth\":0,\"ticks\":\"\"}}}],\"histogram\":[{\"marker\":{\"pattern\":{\"fillmode\":\"overlay\",\"size\":10,\"solidity\":0.2}},\"type\":\"histogram\"}],\"scattergl\":[{\"type\":\"scattergl\",\"marker\":{\"colorbar\":{\"outlinewidth\":0,\"ticks\":\"\"}}}],\"scatter3d\":[{\"type\":\"scatter3d\",\"line\":{\"colorbar\":{\"outlinewidth\":0,\"ticks\":\"\"}},\"marker\":{\"colorbar\":{\"outlinewidth\":0,\"ticks\":\"\"}}}],\"scattermapbox\":[{\"type\":\"scattermapbox\",\"marker\":{\"colorbar\":{\"outlinewidth\":0,\"ticks\":\"\"}}}],\"scatterternary\":[{\"type\":\"scatterternary\",\"marker\":{\"colorbar\":{\"outlinewidth\":0,\"ticks\":\"\"}}}],\"scattercarpet\":[{\"type\":\"scattercarpet\",\"marker\":{\"colorbar\":{\"outlinewidth\":0,\"ticks\":\"\"}}}],\"carpet\":[{\"aaxis\":{\"endlinecolor\":\"#2a3f5f\",\"gridcolor\":\"white\",\"linecolor\":\"white\",\"minorgridcolor\":\"white\",\"startlinecolor\":\"#2a3f5f\"},\"baxis\":{\"endlinecolor\":\"#2a3f5f\",\"gridcolor\":\"white\",\"linecolor\":\"white\",\"minorgridcolor\":\"white\",\"startlinecolor\":\"#2a3f5f\"},\"type\":\"carpet\"}],\"table\":[{\"cells\":{\"fill\":{\"color\":\"#EBF0F8\"},\"line\":{\"color\":\"white\"}},\"header\":{\"fill\":{\"color\":\"#C8D4E3\"},\"line\":{\"color\":\"white\"}},\"type\":\"table\"}],\"barpolar\":[{\"marker\":{\"line\":{\"color\":\"#E5ECF6\",\"width\":0.5},\"pattern\":{\"fillmode\":\"overlay\",\"size\":10,\"solidity\":0.2}},\"type\":\"barpolar\"}],\"pie\":[{\"automargin\":true,\"type\":\"pie\"}]},\"layout\":{\"autotypenumbers\":\"strict\",\"colorway\":[\"#636efa\",\"#EF553B\",\"#00cc96\",\"#ab63fa\",\"#FFA15A\",\"#19d3f3\",\"#FF6692\",\"#B6E880\",\"#FF97FF\",\"#FECB52\"],\"font\":{\"color\":\"#2a3f5f\"},\"hovermode\":\"closest\",\"hoverlabel\":{\"align\":\"left\"},\"paper_bgcolor\":\"white\",\"plot_bgcolor\":\"#E5ECF6\",\"polar\":{\"bgcolor\":\"#E5ECF6\",\"angularaxis\":{\"gridcolor\":\"white\",\"linecolor\":\"white\",\"ticks\":\"\"},\"radialaxis\":{\"gridcolor\":\"white\",\"linecolor\":\"white\",\"ticks\":\"\"}},\"ternary\":{\"bgcolor\":\"#E5ECF6\",\"aaxis\":{\"gridcolor\":\"white\",\"linecolor\":\"white\",\"ticks\":\"\"},\"baxis\":{\"gridcolor\":\"white\",\"linecolor\":\"white\",\"ticks\":\"\"},\"caxis\":{\"gridcolor\":\"white\",\"linecolor\":\"white\",\"ticks\":\"\"}},\"coloraxis\":{\"colorbar\":{\"outlinewidth\":0,\"ticks\":\"\"}},\"colorscale\":{\"sequential\":[[0.0,\"#0d0887\"],[0.1111111111111111,\"#46039f\"],[0.2222222222222222,\"#7201a8\"],[0.3333333333333333,\"#9c179e\"],[0.4444444444444444,\"#bd3786\"],[0.5555555555555556,\"#d8576b\"],[0.6666666666666666,\"#ed7953\"],[0.7777777777777778,\"#fb9f3a\"],[0.8888888888888888,\"#fdca26\"],[1.0,\"#f0f921\"]],\"sequentialminus\":[[0.0,\"#0d0887\"],[0.1111111111111111,\"#46039f\"],[0.2222222222222222,\"#7201a8\"],[0.3333333333333333,\"#9c179e\"],[0.4444444444444444,\"#bd3786\"],[0.5555555555555556,\"#d8576b\"],[0.6666666666666666,\"#ed7953\"],[0.7777777777777778,\"#fb9f3a\"],[0.8888888888888888,\"#fdca26\"],[1.0,\"#f0f921\"]],\"diverging\":[[0,\"#8e0152\"],[0.1,\"#c51b7d\"],[0.2,\"#de77ae\"],[0.3,\"#f1b6da\"],[0.4,\"#fde0ef\"],[0.5,\"#f7f7f7\"],[0.6,\"#e6f5d0\"],[0.7,\"#b8e186\"],[0.8,\"#7fbc41\"],[0.9,\"#4d9221\"],[1,\"#276419\"]]},\"xaxis\":{\"gridcolor\":\"white\",\"linecolor\":\"white\",\"ticks\":\"\",\"title\":{\"standoff\":15},\"zerolinecolor\":\"white\",\"automargin\":true,\"zerolinewidth\":2},\"yaxis\":{\"gridcolor\":\"white\",\"linecolor\":\"white\",\"ticks\":\"\",\"title\":{\"standoff\":15},\"zerolinecolor\":\"white\",\"automargin\":true,\"zerolinewidth\":2},\"scene\":{\"xaxis\":{\"backgroundcolor\":\"#E5ECF6\",\"gridcolor\":\"white\",\"linecolor\":\"white\",\"showbackground\":true,\"ticks\":\"\",\"zerolinecolor\":\"white\",\"gridwidth\":2},\"yaxis\":{\"backgroundcolor\":\"#E5ECF6\",\"gridcolor\":\"white\",\"linecolor\":\"white\",\"showbackground\":true,\"ticks\":\"\",\"zerolinecolor\":\"white\",\"gridwidth\":2},\"zaxis\":{\"backgroundcolor\":\"#E5ECF6\",\"gridcolor\":\"white\",\"linecolor\":\"white\",\"showbackground\":true,\"ticks\":\"\",\"zerolinecolor\":\"white\",\"gridwidth\":2}},\"shapedefaults\":{\"line\":{\"color\":\"#2a3f5f\"}},\"annotationdefaults\":{\"arrowcolor\":\"#2a3f5f\",\"arrowhead\":0,\"arrowwidth\":1},\"geo\":{\"bgcolor\":\"white\",\"landcolor\":\"#E5ECF6\",\"subunitcolor\":\"white\",\"showland\":true,\"showlakes\":true,\"lakecolor\":\"white\"},\"title\":{\"x\":0.05},\"mapbox\":{\"style\":\"light\"}}},\"xaxis\":{\"anchor\":\"y\",\"domain\":[0.0,1.0],\"title\":{\"text\":\"age\"}},\"yaxis\":{\"anchor\":\"x\",\"domain\":[0.0,1.0],\"title\":{\"text\":\"blk\"}},\"legend\":{\"title\":{\"text\":\"Player\"},\"tracegroupgap\":0},\"margin\":{\"t\":60},\"title\":{\"text\":\"blk over time for 5 neighbors of Tim Duncan\"}},                        {\"responsive\": true}                    ).then(function(){\n",
       "                            \n",
       "var gd = document.getElementById('3ff21ef2-2e29-45a8-87b5-db21142f0ef1');\n",
       "var x = new MutationObserver(function (mutations, observer) {{\n",
       "        var display = window.getComputedStyle(gd).display;\n",
       "        if (!display || display === 'none') {{\n",
       "            console.log([gd, 'removed!']);\n",
       "            Plotly.purge(gd);\n",
       "            observer.disconnect();\n",
       "        }}\n",
       "}});\n",
       "\n",
       "// Listen for the removal of the full notebook cells\n",
       "var notebookContainer = gd.closest('#notebook-container');\n",
       "if (notebookContainer) {{\n",
       "    x.observe(notebookContainer, {childList: true});\n",
       "}}\n",
       "\n",
       "// Listen for the clearing of the current output cell\n",
       "var outputEl = gd.closest('.output');\n",
       "if (outputEl) {{\n",
       "    x.observe(outputEl, {childList: true});\n",
       "}}\n",
       "\n",
       "                        })                };                });            </script>        </div>"
      ]
     },
     "metadata": {},
     "output_type": "display_data"
    }
   ],
   "source": [
    "plot_trajectories(df, \"Tim Duncan\", 6, \"blk\", experiment_result[\"poisson_blk_rflvm\"][\"X\"][-1,:,:],)"
   ]
  },
  {
   "cell_type": "code",
   "execution_count": null,
   "metadata": {},
   "outputs": [],
   "source": []
  }
 ],
 "metadata": {
  "kernelspec": {
   "display_name": "base",
   "language": "python",
   "name": "python3"
  },
  "language_info": {
   "codemirror_mode": {
    "name": "ipython",
    "version": 3
   },
   "file_extension": ".py",
   "mimetype": "text/x-python",
   "name": "python",
   "nbconvert_exporter": "python",
   "pygments_lexer": "ipython3",
   "version": "3.10.9"
  },
  "orig_nbformat": 4
 },
 "nbformat": 4,
 "nbformat_minor": 2
}
