{
 "cells": [
  {
   "cell_type": "code",
   "execution_count": 1,
   "metadata": {},
   "outputs": [
    {
     "data": {
      "text/html": [
       "        <script type=\"text/javascript\">\n",
       "        window.PlotlyConfig = {MathJaxConfig: 'local'};\n",
       "        if (window.MathJax && window.MathJax.Hub && window.MathJax.Hub.Config) {window.MathJax.Hub.Config({SVG: {font: \"STIX-Web\"}});}\n",
       "        if (typeof require !== 'undefined') {\n",
       "        require.undef(\"plotly\");\n",
       "        requirejs.config({\n",
       "            paths: {\n",
       "                'plotly': ['https://cdn.plot.ly/plotly-2.20.0.min']\n",
       "            }\n",
       "        });\n",
       "        require(['plotly'], function(Plotly) {\n",
       "            window._Plotly = Plotly;\n",
       "        });\n",
       "        }\n",
       "        </script>\n",
       "        "
      ]
     },
     "metadata": {},
     "output_type": "display_data"
    }
   ],
   "source": [
    "import numpy as np\n",
    "import pickle\n",
    "import pandas as pd\n",
    "import matplotlib.pyplot as plt\n",
    "from metrics import get_summary, get_posterior_mean, get_neighbors, rotate_factors\n",
    "from plotly.offline import init_notebook_mode\n",
    "init_notebook_mode(connected = True)"
   ]
  },
  {
   "cell_type": "code",
   "execution_count": 2,
   "metadata": {},
   "outputs": [],
   "source": [
    "import os\n",
    "experiment_result = {}\n",
    "for file in os.listdir(\"experiments\"):\n",
    "    if file.endswith(\".pickle\"):\n",
    "        with open(f\"experiments/{file}\",\"rb\") as f:\n",
    "            data = pickle.load(f)\n",
    "        f.close()\n",
    "        experiment_result[file.split(\".\")[0]] = data"
   ]
  },
  {
   "cell_type": "code",
   "execution_count": null,
   "metadata": {},
   "outputs": [],
   "source": [
    "ag = 25\n",
    "\n",
    "X_samples = experiment_result[\"X\"]\n",
    "F_samples = experiment_result[\"F\"]\n",
    "\n",
    "rotated_X_samples = rotate_factors(X_samples.reshape(-1, X_samples.shape[2], X_samples.shape[3]))[0].reshape(X_samples.shape)\n",
    "\n",
    "posterior_X_mean = get_posterior_mean(rotated_X_samples)\n",
    "\n",
    "\n",
    "\n",
    "\n",
    "\n",
    "\n",
    "    \n",
    "\n",
    "\n"
   ]
  },
  {
   "cell_type": "code",
   "execution_count": 7,
   "metadata": {},
   "outputs": [],
   "source": [
    "pd.DataFrame(get_summary(rotated_X_samples))\n",
    "pd.DataFrame(get_summary(F_samples))\n"
   ]
  },
  {
   "cell_type": "code",
   "execution_count": 8,
   "metadata": {},
   "outputs": [],
   "source": [
    "df = pd.read_csv(\"datasets/player_data.csv\")\n",
    "df = df.sort_values(by=[\"id\",\"year\"])\n",
    "\n",
    "### nearest neighbors\n",
    "print(get_neighbors(df, \"Stephen Curry\", 6, posterior_X_mean, query = f\"age == {age} and minutes > 0\"))\n",
    "print(get_neighbors(df, \"Tim Duncan\", 6, posterior_X_mean, query = f\"age == {age} and minutes > 0\"))\n",
    "print(get_neighbors(df, \"Kevin Durant\", 6, posterior_X_mean, query = f\"age == {age} and minutes > 0\"))\n",
    "print(get_neighbors(df, \"Klay Thompson\", 6, posterior_X_mean, query = f\"age == {age} and minutes > 0\"))\n"
   ]
  },
  {
   "cell_type": "code",
   "execution_count": 15,
   "metadata": {},
   "outputs": [],
   "source": [
    "import plotly.express as px\n",
    "from scipy.cluster.hierarchy import linkage, leaves_list\n",
    "\n",
    "def plot_scatter(dataframe, rotated_means_dict, metric, model, offset = \"minutes\", mixed_metric_index = 0, mixed_metric_model = \"binomial\", mixed_metric_offset = \"minutes\", chain=1):\n",
    "\n",
    "    key_name = f\"{model}_{metric}_{chain}_rflvm\"\n",
    "    \n",
    "    if model != \"mixed\":\n",
    "        df_size_vals = dataframe[[offset,\"id\"]].groupby(\"id\").mean().reset_index()\n",
    "        df_names = dataframe[[\"id\",\"name\"]].drop_duplicates()[\"name\"].values\n",
    "        data = pd.DataFrame(rotated_means_dict[key_name], columns=[\"x\",\"y\"])\n",
    "        data[\"names\"] = df_names\n",
    "        data[offset] = df_size_vals[offset]\n",
    "    else:\n",
    "        df_names = dataframe[(dataframe[\"age\"] == 25) & (dataframe[\"minutes\"] > 0)][[\"id\",\"name\"]].drop_duplicates()[\"name\"].values\n",
    "        metric_list = metric.split(\",\")\n",
    "        exposure_list = mixed_metric_offset.split(\",\")\n",
    "        metric_df = dataframe[(dataframe[\"age\"] == 25) & (dataframe[\"minutes\"] > 0)][metric_list + [\"id\"]]\n",
    "        exposure_df = dataframe[(dataframe[\"age\"] == 25) & (dataframe[\"minutes\"] > 0)][exposure_list + [\"id\"]]\n",
    "        player_id_df = dataframe[(dataframe[\"age\"] == 25) & (dataframe[\"minutes\"] > 0)][[\"id\"]].drop_duplicates()\n",
    "        data = pd.merge(metric_df, player_id_df, on =\"id\", how = \"right\")[metric_list].fillna(0)\n",
    "        offset_data = pd.merge(exposure_df, player_id_df, on =\"id\", how = \"right\").iloc[:, 0:len(exposure_list)].fillna(0)\n",
    "\n",
    "    if model == \"binomial\":\n",
    "        df_color_vals = dataframe[[metric,offset, \"id\"]].groupby(\"id\").sum().reset_index()\n",
    "        data[f\"{metric}_pct\"] = df_color_vals[metric]/df_color_vals[offset]\n",
    "        fig = px.scatter(data_frame= data,   \n",
    "                   x = \"x\", y = \"y\", hover_data = [f\"{metric}_pct\",offset,\"names\"], title = metric, size = offset,\n",
    "                         color = f\"{metric}_pct\", range_color = [.1,.7])\n",
    "    elif model == \"poisson\":\n",
    "        df_color_vals = dataframe[[metric,offset,\"id\"]].groupby(\"id\").sum().reset_index()\n",
    "        data[f\"{metric}_rate\"] = df_color_vals[metric]/df_color_vals[offset]\n",
    "        fig = px.scatter(data_frame = data, x = \"x\", y = \"y\", hover_data = [f\"{metric}_rate\",offset,\"names\"], \n",
    "                         title = metric, size = offset,\n",
    "                         color = f\"{metric}_rate\", range_color = [0,.1])\n",
    "    elif model == \"gaussian\":\n",
    "        df_color_vals = dataframe[[metric, \"id\"]].groupby(\"id\").mean().reset_index()\n",
    "        data[\"hover\"] = df_color_vals[metric]\n",
    "        fig = px.scatter(data_frame = data, x = \"x\", y = \"y\", color = \"hover\",\n",
    "                    size = offset, hover_data = [\"hover\",offset,\"names\"], title = metric )\n",
    "    elif model == \"mixed\":\n",
    "        metrics = metric.split(\",\")\n",
    "        metric = metrics[mixed_metric_index]\n",
    "        offset = mixed_metric_offset.split(\",\")[mixed_metric_index]\n",
    "        new_df = pd.DataFrame(rotated_means_dict[key_name][\"X\"][0].mean(axis=0).T, columns=[\"x\",\"y\"])\n",
    "        new_df[\"names\"] = df_names\n",
    "        if mixed_metric_model == \"binomial\":\n",
    "            new_df[f\"{metric}_pct\"] = data.iloc[:, mixed_metric_index]/offset_data.iloc[:, mixed_metric_index]\n",
    "            new_df[offset] = offset_data.iloc[:, mixed_metric_index]\n",
    "            fig = px.scatter(data_frame= new_df,   \n",
    "                    x = \"x\", y = \"y\", hover_data = [f\"{metric}_pct\",offset,\"names\"], title = metric, size = offset,\n",
    "                            color = f\"{metric}_pct\", range_color = [.1,.7])\n",
    "        elif mixed_metric_model == \"poisson\":\n",
    "            new_df[f\"{metric}_rate\"] = data.iloc[:, mixed_metric_index]/offset_data.iloc[:, mixed_metric_index]\n",
    "            new_df[offset] = offset_data.iloc[:, mixed_metric_index]\n",
    "            fig = px.scatter(data_frame = new_df, x = \"x\", y = \"y\", hover_data = [f\"{metric}_rate\",offset,\"names\"], \n",
    "                            title = metric, size = offset,\n",
    "                            color = f\"{metric}_rate\", range_color = [0,.1])\n",
    "        elif mixed_metric_model == \"gaussian\":\n",
    "            new_df[f\"{metric}\"] = data.iloc[:, mixed_metric_index]\n",
    "            new_df[offset] = np.sqrt(offset_data.iloc[:, mixed_metric_index])\n",
    "            fig = px.scatter(data_frame = new_df, x = \"x\", y = \"y\", color = metric,\n",
    "                        size = offset, hover_data = [metric,offset,\"names\"], title = metric, range_color = [0,10] )\n",
    "    \n",
    "    fig.show()\n",
    "    \n",
    "\n",
    "def plot_heatmap(K, labels):\n",
    "    dissimilarity = np.around(1 - np.abs(K), decimals = 10)\n",
    "    hierarchy = linkage(dissimilarity, method='complete')\n",
    "    order = leaves_list(hierarchy)\n",
    "    reordered_matrix = dissimilarity[:, order]\n",
    "    reordered_matrix = reordered_matrix[order, :]\n",
    "    fig = px.imshow(1 - reordered_matrix, x=labels[order], y=labels[order], labels=dict(x='X-axis', y='Y-axis'))\n",
    "    # Configure the layout\n",
    "    fig.update_layout(title='Correlation of Latent Space')\n",
    "\n",
    "    # Enable hover information\n",
    "    fig.update_traces(hovertemplate='x: %{x}<br>y: %{y}')\n",
    "\n",
    "    # Enable zooming functionality\n",
    "    fig.update_layout(\n",
    "    hovermode='x unified',\n",
    "    hoverdistance=1,\n",
    "    )\n",
    "\n",
    "    # Show the interactive heatmap\n",
    "    fig.show()\n",
    "       \n"
   ]
  },
  {
   "attachments": {},
   "cell_type": "markdown",
   "metadata": {},
   "source": []
  },
  {
   "cell_type": "code",
   "execution_count": null,
   "metadata": {},
   "outputs": [],
   "source": [
    "\n",
    "from scipy.spatial import KDTree\n",
    "def plot_trajectories(data_frame, player, num_k, metric, latent_space):\n",
    "    name_map = data_frame[[\"id\",\"name\"]].drop_duplicates().reset_index()[[\"id\",\"name\"]]\n",
    "    player_index = name_map.index[name_map[\"name\"] == player][0]\n",
    "    point = latent_space[player_index,:]\n",
    "    _, indices = KDTree(latent_space).query(point, k = num_k)\n",
    "    nearest_neighbors_names = name_map.loc[indices][\"name\"]\n",
    "    trajectory_df = data_frame[data_frame[\"name\"].isin(nearest_neighbors_names)][[\"name\",metric,\"age\"]]\n",
    "    fig = px.line(trajectory_df, x='age', y=metric, color='name', labels={metric: metric, 'name': 'Player'})\n",
    "    fig.update_layout(title=f'{metric} over time for {num_k -1} neighbors of {player}')\n",
    "    fig.show()\n",
    "\n"
   ]
  },
  {
   "cell_type": "code",
   "execution_count": null,
   "metadata": {},
   "outputs": [],
   "source": []
  }
 ],
 "metadata": {
  "kernelspec": {
   "display_name": "base",
   "language": "python",
   "name": "python3"
  },
  "language_info": {
   "codemirror_mode": {
    "name": "ipython",
    "version": 3
   },
   "file_extension": ".py",
   "mimetype": "text/x-python",
   "name": "python",
   "nbconvert_exporter": "python",
   "pygments_lexer": "ipython3",
   "version": "3.10.9"
  },
  "orig_nbformat": 4
 },
 "nbformat": 4,
 "nbformat_minor": 2
}
