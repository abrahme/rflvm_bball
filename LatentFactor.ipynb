{
 "cells": [
  {
   "cell_type": "code",
   "execution_count": 1,
   "metadata": {},
   "outputs": [],
   "source": [
    "import numpy as np\n",
    "import pickle\n",
    "import matplotlib.pyplot as plt"
   ]
  },
  {
   "cell_type": "code",
   "execution_count": 2,
   "metadata": {},
   "outputs": [],
   "source": [
    "import os\n",
    "experiment_result = {}\n",
    "for file in os.listdir(\"experiments\"):\n",
    "    if file.endswith(\".pickle\"):\n",
    "        with open(f\"experiments/{file}\",\"rb\") as f:\n",
    "            data = pickle.load(f)\n",
    "        f.close()\n",
    "        experiment_result[file.split(\".\")[0]] = data"
   ]
  },
  {
   "cell_type": "code",
   "execution_count": 10,
   "metadata": {},
   "outputs": [
    {
     "data": {
      "text/plain": [
       "(1000, 2332, 2)"
      ]
     },
     "execution_count": 10,
     "metadata": {},
     "output_type": "execute_result"
    }
   ],
   "source": [
    "experiment_result[\"binomial_ftm_rflvm\"][\"X\"].shape"
   ]
  },
  {
   "cell_type": "code",
   "execution_count": 3,
   "metadata": {},
   "outputs": [],
   "source": [
    "import numpy as np\n",
    "from scipy.linalg import svd \n",
    "from typing import Tuple\n",
    "\n",
    "def varimax(Phi, gamma = 1.0, q = 20, tol = 1e-6):\n",
    "\n",
    "    p,k = Phi.shape\n",
    "    R = np.eye(k)\n",
    "    d=0\n",
    "    for i in range(q):\n",
    "        d_old = d\n",
    "        Lambda = np.dot(Phi, R)\n",
    "        u,s,vh = svd(np.dot(Phi.T,np.asarray(Lambda)**3 - (gamma/p) * np.dot(Lambda, np.diag(np.diag(np.dot(Lambda.T,Lambda))))))\n",
    "        R = np.dot(u,vh)\n",
    "        d = np.sum(s)\n",
    "        if d_old!=0 and d/d_old < 1 + tol: break\n",
    "    return np.dot(Phi, R)\n",
    "\n",
    "\n",
    "def rotate_factors(player_factor_tensor:np.ndarray, use_varimax:bool = True)->Tuple[np.ndarray, np.ndarray]:\n",
    "    \"\"\"\n",
    "\n",
    "    Args:\n",
    "        player_factor_tensor (np.ndarray): sample x num factors x num players \n",
    "        varimax (bool): whether to apply varimax rotation or not\n",
    "\n",
    "    Returns:\n",
    "        np.ndarray: sample x num factors x num players  rotated tensor\n",
    "    \"\"\"\n",
    "\n",
    "    n_samples, n_factors, _ = player_factor_tensor.shape\n",
    "    output_tensor = np.zeros_like(player_factor_tensor)\n",
    "    rotations = [np.eye(n_factors)]\n",
    "    output_tensor[0,:,:] = player_factor_tensor[0,:,:] if not use_varimax else varimax(player_factor_tensor[0,:,:])\n",
    "    for i in range(1,n_samples):\n",
    "        U, _, V =  svd(output_tensor[0,:,:].dot(player_factor_tensor[i,:,:].T), full_matrices=False)\n",
    "        rotation = U.dot(V)\n",
    "        rotations.append(rotation)\n",
    "        output_tensor[i,:,:] = rotation.dot(player_factor_tensor[i,:,:])\n",
    "    print(len(rotations))\n",
    "    return output_tensor, np.stack(rotations,axis = 0)\n",
    "\n",
    "\n"
   ]
  },
  {
   "cell_type": "code",
   "execution_count": 6,
   "metadata": {},
   "outputs": [
    {
     "name": "stdout",
     "output_type": "stream",
     "text": [
      "1000\n",
      "1000\n",
      "1000\n",
      "1000\n",
      "1000\n",
      "1000\n",
      "1000\n",
      "1000\n",
      "1000\n"
     ]
    },
    {
     "ename": "AxisError",
     "evalue": "axis2: axis 2 is out of bounds for array of dimension 2",
     "output_type": "error",
     "traceback": [
      "\u001b[0;31m---------------------------------------------------------------------------\u001b[0m",
      "\u001b[0;31mAxisError\u001b[0m                                 Traceback (most recent call last)",
      "Cell \u001b[0;32mIn[6], line 15\u001b[0m\n\u001b[1;32m     13\u001b[0m rotated_experiment_results[\u001b[39m\"\u001b[39m\u001b[39mbinomial_ftm_rflvm\u001b[39m\u001b[39m\"\u001b[39m] \u001b[39m=\u001b[39m rotate_factors(np\u001b[39m.\u001b[39mswapaxes(experiment_result[\u001b[39m\"\u001b[39m\u001b[39mbinomial_ftm_rflvm\u001b[39m\u001b[39m\"\u001b[39m][\u001b[39m\"\u001b[39m\u001b[39mX\u001b[39m\u001b[39m\"\u001b[39m],\u001b[39m1\u001b[39m,\u001b[39m2\u001b[39m))\n\u001b[1;32m     14\u001b[0m rotated_experiment_results[\u001b[39m\"\u001b[39m\u001b[39mbinomial_fg2m_rflvm\u001b[39m\u001b[39m\"\u001b[39m] \u001b[39m=\u001b[39m rotate_factors(np\u001b[39m.\u001b[39mswapaxes(experiment_result[\u001b[39m\"\u001b[39m\u001b[39mbinomial_fg2m_rflvm\u001b[39m\u001b[39m\"\u001b[39m][\u001b[39m\"\u001b[39m\u001b[39mX\u001b[39m\u001b[39m\"\u001b[39m],\u001b[39m1\u001b[39m,\u001b[39m2\u001b[39m))\n\u001b[0;32m---> 15\u001b[0m rotated_experiment_results[\u001b[39m\"\u001b[39m\u001b[39mbinomial_fg3m_rflvm\u001b[39m\u001b[39m\"\u001b[39m] \u001b[39m=\u001b[39m rotate_factors(np\u001b[39m.\u001b[39;49mswapaxes(experiment_result[\u001b[39m\"\u001b[39;49m\u001b[39mbinomial_fg3m_rflvm\u001b[39;49m\u001b[39m\"\u001b[39;49m][\u001b[39m\"\u001b[39;49m\u001b[39mX\u001b[39;49m\u001b[39m\"\u001b[39;49m],\u001b[39m1\u001b[39;49m,\u001b[39m2\u001b[39;49m))\n",
      "File \u001b[0;32m<__array_function__ internals>:180\u001b[0m, in \u001b[0;36mswapaxes\u001b[0;34m(*args, **kwargs)\u001b[0m\n",
      "File \u001b[0;32m/opt/conda/lib/python3.10/site-packages/numpy/core/fromnumeric.py:594\u001b[0m, in \u001b[0;36mswapaxes\u001b[0;34m(a, axis1, axis2)\u001b[0m\n\u001b[1;32m    550\u001b[0m \u001b[39m@array_function_dispatch\u001b[39m(_swapaxes_dispatcher)\n\u001b[1;32m    551\u001b[0m \u001b[39mdef\u001b[39;00m \u001b[39mswapaxes\u001b[39m(a, axis1, axis2):\n\u001b[1;32m    552\u001b[0m \u001b[39m    \u001b[39m\u001b[39m\"\"\"\u001b[39;00m\n\u001b[1;32m    553\u001b[0m \u001b[39m    Interchange two axes of an array.\u001b[39;00m\n\u001b[1;32m    554\u001b[0m \n\u001b[0;32m   (...)\u001b[0m\n\u001b[1;32m    592\u001b[0m \n\u001b[1;32m    593\u001b[0m \u001b[39m    \"\"\"\u001b[39;00m\n\u001b[0;32m--> 594\u001b[0m     \u001b[39mreturn\u001b[39;00m _wrapfunc(a, \u001b[39m'\u001b[39;49m\u001b[39mswapaxes\u001b[39;49m\u001b[39m'\u001b[39;49m, axis1, axis2)\n",
      "File \u001b[0;32m/opt/conda/lib/python3.10/site-packages/numpy/core/fromnumeric.py:57\u001b[0m, in \u001b[0;36m_wrapfunc\u001b[0;34m(obj, method, *args, **kwds)\u001b[0m\n\u001b[1;32m     54\u001b[0m     \u001b[39mreturn\u001b[39;00m _wrapit(obj, method, \u001b[39m*\u001b[39margs, \u001b[39m*\u001b[39m\u001b[39m*\u001b[39mkwds)\n\u001b[1;32m     56\u001b[0m \u001b[39mtry\u001b[39;00m:\n\u001b[0;32m---> 57\u001b[0m     \u001b[39mreturn\u001b[39;00m bound(\u001b[39m*\u001b[39;49margs, \u001b[39m*\u001b[39;49m\u001b[39m*\u001b[39;49mkwds)\n\u001b[1;32m     58\u001b[0m \u001b[39mexcept\u001b[39;00m \u001b[39mTypeError\u001b[39;00m:\n\u001b[1;32m     59\u001b[0m     \u001b[39m# A TypeError occurs if the object does have such a method in its\u001b[39;00m\n\u001b[1;32m     60\u001b[0m     \u001b[39m# class, but its signature is not identical to that of NumPy's. This\u001b[39;00m\n\u001b[0;32m   (...)\u001b[0m\n\u001b[1;32m     64\u001b[0m     \u001b[39m# Call _wrapit from within the except clause to ensure a potential\u001b[39;00m\n\u001b[1;32m     65\u001b[0m     \u001b[39m# exception has a traceback chain.\u001b[39;00m\n\u001b[1;32m     66\u001b[0m     \u001b[39mreturn\u001b[39;00m _wrapit(obj, method, \u001b[39m*\u001b[39margs, \u001b[39m*\u001b[39m\u001b[39m*\u001b[39mkwds)\n",
      "\u001b[0;31mAxisError\u001b[0m: axis2: axis 2 is out of bounds for array of dimension 2"
     ]
    }
   ],
   "source": [
    "rotated_experiment_results = {}\n",
    "# for model in experiment_result:\n",
    "#     print(model, experiment_result[model][\"X\"])\n",
    "#     rotated_experiment_results[model] = rotate_factors(np.swapaxes(experiment_result[model][\"X\"], axis1 = 1, axis2=2))\n",
    "\n",
    "rotated_experiment_results[\"poisson_ast_rflvm\"] = rotate_factors(np.swapaxes(experiment_result[\"poisson_ast_rflvm\"][\"X\"],1,2))\n",
    "rotated_experiment_results[\"poisson_stl_rflvm\"] = rotate_factors(np.swapaxes(experiment_result[\"poisson_stl_rflvm\"][\"X\"],1,2))\n",
    "rotated_experiment_results[\"poisson_dreb_rflvm\"] = rotate_factors(np.swapaxes(experiment_result[\"poisson_dreb_rflvm\"][\"X\"],1,2))\n",
    "rotated_experiment_results[\"poisson_oreb_rflvm\"] = rotate_factors(np.swapaxes(experiment_result[\"poisson_oreb_rflvm\"][\"X\"],1,2))\n",
    "rotated_experiment_results[\"gaussian_bpm_rflvm\"] = rotate_factors(np.swapaxes(experiment_result[\"gaussian_bpm_rflvm\"][\"X\"],1,2))\n",
    "rotated_experiment_results[\"gaussian_dbpm_rflvm\"] = rotate_factors(np.swapaxes(experiment_result[\"gaussian_dbpm_rflvm\"][\"X\"],1,2))\n",
    "rotated_experiment_results[\"gaussian_obpm_rflvm\"] = rotate_factors(np.swapaxes(experiment_result[\"gaussian_obpm_rflvm\"][\"X\"],1,2))\n",
    "rotated_experiment_results[\"binomial_ftm_rflvm\"] = rotate_factors(np.swapaxes(experiment_result[\"binomial_ftm_rflvm\"][\"X\"],1,2))\n",
    "rotated_experiment_results[\"binomial_fg2m_rflvm\"] = rotate_factors(np.swapaxes(experiment_result[\"binomial_fg2m_rflvm\"][\"X\"],1,2))\n",
    "rotated_experiment_results[\"binomial_fg3m_rflvm\"] = rotate_factors(np.swapaxes(experiment_result[\"binomial_fg3m_rflvm\"][\"X\"],1,2))"
   ]
  },
  {
   "cell_type": "code",
   "execution_count": 12,
   "metadata": {},
   "outputs": [],
   "source": [
    "rotated_means_results = {model : rotated_experiment_results[model][0].mean(axis=0).T for model in  rotated_experiment_results}"
   ]
  },
  {
   "cell_type": "code",
   "execution_count": 13,
   "metadata": {},
   "outputs": [
    {
     "data": {
      "text/plain": [
       "{'poisson_ast_rflvm': array([[-0.77955127, -0.31252417],\n",
       "        [ 3.03080943, -0.66348468],\n",
       "        [-0.21793832,  0.41636184],\n",
       "        ...,\n",
       "        [-0.51433442,  0.46664878],\n",
       "        [ 0.12029459, -0.12547487],\n",
       "        [-0.97031239,  0.58311113]]),\n",
       " 'poisson_stl_rflvm': array([[-0.75296253,  0.2707299 ],\n",
       "        [-1.17499283,  0.33398007],\n",
       "        [-0.48201936,  0.11116952],\n",
       "        ...,\n",
       "        [-0.22202047, -0.11665657],\n",
       "        [-0.04909354, -0.03588178],\n",
       "        [-0.50164334, -0.02004732]]),\n",
       " 'poisson_dreb_rflvm': array([[-0.32803275, -0.04177471],\n",
       "        [ 0.6788238 , -0.15288084],\n",
       "        [ 0.58459001,  1.07821281],\n",
       "        ...,\n",
       "        [ 0.07606217,  0.2658391 ],\n",
       "        [ 0.65828453,  0.61112861],\n",
       "        [ 0.03153441,  0.20541559]]),\n",
       " 'poisson_oreb_rflvm': array([[-0.32679272, -0.65372727],\n",
       "        [-1.22579498, -1.36049519],\n",
       "        [-2.12453759, -0.85430798],\n",
       "        ...,\n",
       "        [-0.18662108, -0.11846142],\n",
       "        [-1.20553109, -1.06959759],\n",
       "        [-0.96883192, -0.52041365]]),\n",
       " 'gaussian_bpm_rflvm': array([[ 9.46003910e-02, -1.10149913e-01],\n",
       "        [-5.38602274e-02,  4.82601679e-01],\n",
       "        [-5.18333520e-03,  9.98991376e-02],\n",
       "        ...,\n",
       "        [-2.10676090e-02, -8.43691055e-02],\n",
       "        [-3.91607630e-02, -2.23972688e-02],\n",
       "        [-1.25131630e-02, -3.27289313e-04]]),\n",
       " 'gaussian_dbpm_rflvm': array([[ 0.01286243,  0.00908164],\n",
       "        [ 0.09336465, -0.76576325],\n",
       "        [ 0.01664706, -0.0097002 ],\n",
       "        ...,\n",
       "        [-0.02207189, -0.08230655],\n",
       "        [-0.00120497, -0.03155742],\n",
       "        [ 0.00422961,  0.00724769]]),\n",
       " 'gaussian_obpm_rflvm': array([[ 0.0275638 , -0.01688717],\n",
       "        [-0.18369781,  0.0393903 ],\n",
       "        [-0.08585418, -0.00103744],\n",
       "        ...,\n",
       "        [ 0.11898976, -0.06564946],\n",
       "        [ 0.04706939, -0.06466983],\n",
       "        [-0.01149234,  0.03986863]]),\n",
       " 'binomial_ftm_rflvm': array([[-0.01314879,  0.05675166],\n",
       "        [ 0.02294558, -0.04104063],\n",
       "        [ 0.0026164 , -0.01524833],\n",
       "        ...,\n",
       "        [ 0.12747493,  0.2140091 ],\n",
       "        [ 0.10393752,  0.23634186],\n",
       "        [ 0.19033333,  0.20322154]]),\n",
       " 'binomial_fg2m_rflvm': array([[-0.02776783, -0.00776008],\n",
       "        [-0.53324979, -0.16002883],\n",
       "        [-0.02016393, -0.00406149],\n",
       "        ...,\n",
       "        [ 0.31524454, -0.21529946],\n",
       "        [ 0.28244633, -0.13469001],\n",
       "        [ 0.17831798, -0.21650527]])}"
      ]
     },
     "execution_count": 13,
     "metadata": {},
     "output_type": "execute_result"
    }
   ],
   "source": []
  },
  {
   "cell_type": "code",
   "execution_count": 14,
   "metadata": {},
   "outputs": [],
   "source": [
    "import pandas as pd\n",
    "df = pd.read_csv(\"datasets/player_data.csv\")"
   ]
  },
  {
   "cell_type": "code",
   "execution_count": null,
   "metadata": {},
   "outputs": [],
   "source": [
    "df = df.sort_values(by=[\"id\",\"year\"])\n"
   ]
  },
  {
   "cell_type": "code",
   "execution_count": 16,
   "metadata": {},
   "outputs": [],
   "source": [
    "def plot_scatter(dataframe, rotated_means_dict, metric, model, offset = \"minutes\"):\n",
    "    key_name = f\"{model}_{metric}_rflvm\"\n",
    "    df_size_vals = np.log(dataframe[[offset,\"id\"]].groupby(\"id\").mean().reset_index())\n",
    "    if model == \"binomial\":\n",
    "        df_color_vals = dataframe[[key_name,offset, \"id\"]].groupby(\"id\").sum().reset_index()\n",
    "        plt.scatter(rotated_means_dict[key_name][:,0], rotated_means_dict[key_name][:,1], c = df_color_vals[metric]/df_color_vals[offset],s=df_size_vals[offset] )\n",
    "    elif model == \"poisson\":\n",
    "        df_color_vals = dataframe[[metric,offset,\"id\"]].groupby(\"id\").max().reset_index()\n",
    "        plt.scatter(rotated_means_dict[key_name][:,0], rotated_means_dict[key_name][:,1], c = df_color_vals[metric]/df_color_vals[offset],s=df_size_vals[offset] )\n",
    "    elif model == \"gaussian\":\n",
    "        df_color_vals = dataframe[[metric, \"id\"]].groupby(\"id\").mean().reset_index()\n",
    "        plt.scatter(rotated_means_dict[key_name][:,0], rotated_means_dict[key_name][:,1], c = df_color_vals[metric],s=df_size_vals[offset] )\n",
    "    plt.title(metric)\n",
    "    \n",
    "    \n",
    "\n",
    "    \n"
   ]
  },
  {
   "cell_type": "code",
   "execution_count": 17,
   "metadata": {},
   "outputs": [
    {
     "data": {
      "image/png": "[encoded data removed]",
      "text/plain": [
       "<Figure size 640x480 with 1 Axes>"
      ]
     },
     "metadata": {},
     "output_type": "display_data"
    }
   ],
   "source": [
    "plot_scatter(df, rotated_means_results, \"stl\", \"poisson\")"
   ]
  },
  {
   "cell_type": "code",
   "execution_count": null,
   "metadata": {},
   "outputs": [],
   "source": [
    "plt.scatter(rotated_means[:,0], rotated_means[:,1], c= df_max_vals[\"fg3m\"]/df_max_vals[\"fg3a\"])\n"
   ]
  },
  {
   "cell_type": "code",
   "execution_count": null,
   "metadata": {},
   "outputs": [],
   "source": []
  }
 ],
 "metadata": {
  "kernelspec": {
   "display_name": "base",
   "language": "python",
   "name": "python3"
  },
  "language_info": {
   "codemirror_mode": {
    "name": "ipython",
    "version": 3
   },
   "file_extension": ".py",
   "mimetype": "text/x-python",
   "name": "python",
   "nbconvert_exporter": "python",
   "pygments_lexer": "ipython3",
   "version": "3.10.9"
  },
  "orig_nbformat": 4
 },
 "nbformat": 4,
 "nbformat_minor": 2
}
