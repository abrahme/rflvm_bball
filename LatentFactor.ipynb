{
 "cells": [
  {
   "cell_type": "code",
   "execution_count": 3,
   "metadata": {},
   "outputs": [
    {
     "data": {
      "text/html": [
       "        <script type=\"text/javascript\">\n",
       "        window.PlotlyConfig = {MathJaxConfig: 'local'};\n",
       "        if (window.MathJax && window.MathJax.Hub && window.MathJax.Hub.Config) {window.MathJax.Hub.Config({SVG: {font: \"STIX-Web\"}});}\n",
       "        if (typeof require !== 'undefined') {\n",
       "        require.undef(\"plotly\");\n",
       "        requirejs.config({\n",
       "            paths: {\n",
       "                'plotly': ['https://cdn.plot.ly/plotly-2.20.0.min']\n",
       "            }\n",
       "        });\n",
       "        require(['plotly'], function(Plotly) {\n",
       "            window._Plotly = Plotly;\n",
       "        });\n",
       "        }\n",
       "        </script>\n",
       "        "
      ]
     },
     "metadata": {},
     "output_type": "display_data"
    }
   ],
   "source": [
    "import numpy as np\n",
    "import pickle\n",
    "import matplotlib.pyplot as plt\n",
    "from plotly.offline import init_notebook_mode\n",
    "init_notebook_mode(connected = True)"
   ]
  },
  {
   "cell_type": "code",
   "execution_count": 4,
   "metadata": {},
   "outputs": [],
   "source": [
    "import os\n",
    "experiment_result = {}\n",
    "for file in os.listdir(\"experiments\"):\n",
    "    if file.endswith(\".pickle\"):\n",
    "        with open(f\"experiments/{file}\",\"rb\") as f:\n",
    "            data = pickle.load(f)\n",
    "        f.close()\n",
    "        experiment_result[file.split(\".\")[0]] = data"
   ]
  },
  {
   "cell_type": "code",
   "execution_count": 10,
   "metadata": {},
   "outputs": [
    {
     "data": {
      "text/plain": [
       "(1000, 2332, 2)"
      ]
     },
     "execution_count": 10,
     "metadata": {},
     "output_type": "execute_result"
    }
   ],
   "source": [
    "experiment_result[\"binomial_ftm_rflvm\"][\"X\"].shape"
   ]
  },
  {
   "cell_type": "code",
   "execution_count": 5,
   "metadata": {},
   "outputs": [],
   "source": [
    "import numpy as np\n",
    "from scipy.linalg import svd \n",
    "from typing import Tuple\n",
    "\n",
    "def varimax(Phi, gamma = 1.0, q = 20, tol = 1e-6):\n",
    "\n",
    "    p,k = Phi.shape\n",
    "    R = np.eye(k)\n",
    "    d=0\n",
    "    for i in range(q):\n",
    "        d_old = d\n",
    "        Lambda = np.dot(Phi, R)\n",
    "        u,s,vh = svd(np.dot(Phi.T,np.asarray(Lambda)**3 - (gamma/p) * np.dot(Lambda, np.diag(np.diag(np.dot(Lambda.T,Lambda))))))\n",
    "        R = np.dot(u,vh)\n",
    "        d = np.sum(s)\n",
    "        if d_old!=0 and d/d_old < 1 + tol: break\n",
    "    return np.dot(Phi, R)\n",
    "\n",
    "\n",
    "def rotate_factors(player_factor_tensor:np.ndarray, use_varimax:bool = True)->Tuple[np.ndarray, np.ndarray]:\n",
    "    \"\"\"\n",
    "\n",
    "    Args:\n",
    "        player_factor_tensor (np.ndarray): sample x num factors x num players \n",
    "        varimax (bool): whether to apply varimax rotation or not\n",
    "\n",
    "    Returns:\n",
    "        np.ndarray: sample x num factors x num players  rotated tensor\n",
    "    \"\"\"\n",
    "\n",
    "    n_samples, n_factors, _ = player_factor_tensor.shape\n",
    "    output_tensor = np.zeros_like(player_factor_tensor)\n",
    "    rotations = [np.eye(n_factors)]\n",
    "    output_tensor[0,:,:] = player_factor_tensor[0,:,:] if not use_varimax else varimax(player_factor_tensor[0,:,:])\n",
    "    for i in range(1,n_samples):\n",
    "        U, _, V =  svd(output_tensor[0,:,:].dot(player_factor_tensor[i,:,:].T), full_matrices=False)\n",
    "        rotation = U.dot(V)\n",
    "        rotations.append(rotation)\n",
    "        output_tensor[i,:,:] = rotation.dot(player_factor_tensor[i,:,:])\n",
    "    print(len(rotations))\n",
    "    return output_tensor, np.stack(rotations,axis = 0)\n",
    "\n",
    "\n"
   ]
  },
  {
   "cell_type": "code",
   "execution_count": 6,
   "metadata": {},
   "outputs": [
    {
     "name": "stdout",
     "output_type": "stream",
     "text": [
      "1000\n",
      "1000\n",
      "1000\n",
      "1000\n",
      "1000\n",
      "1000\n",
      "1000\n",
      "1000\n",
      "1000\n",
      "1000\n",
      "1000\n"
     ]
    }
   ],
   "source": [
    "rotated_experiment_results = {}\n",
    "# for model in experiment_result:\n",
    "#     print(model, experiment_result[model][\"X\"])\n",
    "#     rotated_experiment_results[model] = rotate_factors(np.swapaxes(experiment_result[model][\"X\"], axis1 = 1, axis2=2))\n",
    "\n",
    "rotated_experiment_results[\"poisson_ast_rflvm\"] = rotate_factors(np.swapaxes(experiment_result[\"poisson_ast_rflvm\"][\"X\"],1,2))\n",
    "rotated_experiment_results[\"poisson_stl_rflvm\"] = rotate_factors(np.swapaxes(experiment_result[\"poisson_stl_rflvm\"][\"X\"],1,2))\n",
    "rotated_experiment_results[\"poisson_blk_rflvm\"] = rotate_factors(np.swapaxes(experiment_result[\"poisson_blk_rflvm\"][\"X\"],1,2))\n",
    "rotated_experiment_results[\"poisson_dreb_rflvm\"] = rotate_factors(np.swapaxes(experiment_result[\"poisson_dreb_rflvm\"][\"X\"],1,2))\n",
    "rotated_experiment_results[\"poisson_oreb_rflvm\"] = rotate_factors(np.swapaxes(experiment_result[\"poisson_oreb_rflvm\"][\"X\"],1,2))\n",
    "rotated_experiment_results[\"gaussian_bpm_rflvm\"] = rotate_factors(np.swapaxes(experiment_result[\"gaussian_bpm_rflvm\"][\"X\"],1,2))\n",
    "rotated_experiment_results[\"gaussian_dbpm_rflvm\"] = rotate_factors(np.swapaxes(experiment_result[\"gaussian_dbpm_rflvm\"][\"X\"],1,2))\n",
    "rotated_experiment_results[\"gaussian_obpm_rflvm\"] = rotate_factors(np.swapaxes(experiment_result[\"gaussian_obpm_rflvm\"][\"X\"],1,2))\n",
    "rotated_experiment_results[\"binomial_ftm_rflvm\"] = rotate_factors(np.swapaxes(experiment_result[\"binomial_ftm_rflvm\"][\"X\"],1,2))\n",
    "rotated_experiment_results[\"binomial_fg2m_rflvm\"] = rotate_factors(np.swapaxes(experiment_result[\"binomial_fg2m_rflvm\"][\"X\"],1,2))\n",
    "rotated_experiment_results[\"binomial_fg3m_rflvm\"] = rotate_factors(np.swapaxes(experiment_result[\"binomial_fg3m_rflvm\"][\"X\"],1,2))"
   ]
  },
  {
   "cell_type": "code",
   "execution_count": 7,
   "metadata": {},
   "outputs": [],
   "source": [
    "rotated_means_results = {model : rotated_experiment_results[model][0].mean(axis=0).T for model in  rotated_experiment_results}"
   ]
  },
  {
   "cell_type": "code",
   "execution_count": 13,
   "metadata": {},
   "outputs": [
    {
     "data": {
      "text/plain": [
       "{'poisson_ast_rflvm': array([[-0.77955127, -0.31252417],\n",
       "        [ 3.03080943, -0.66348468],\n",
       "        [-0.21793832,  0.41636184],\n",
       "        ...,\n",
       "        [-0.51433442,  0.46664878],\n",
       "        [ 0.12029459, -0.12547487],\n",
       "        [-0.97031239,  0.58311113]]),\n",
       " 'poisson_stl_rflvm': array([[-0.75296253,  0.2707299 ],\n",
       "        [-1.17499283,  0.33398007],\n",
       "        [-0.48201936,  0.11116952],\n",
       "        ...,\n",
       "        [-0.22202047, -0.11665657],\n",
       "        [-0.04909354, -0.03588178],\n",
       "        [-0.50164334, -0.02004732]]),\n",
       " 'poisson_dreb_rflvm': array([[-0.32803275, -0.04177471],\n",
       "        [ 0.6788238 , -0.15288084],\n",
       "        [ 0.58459001,  1.07821281],\n",
       "        ...,\n",
       "        [ 0.07606217,  0.2658391 ],\n",
       "        [ 0.65828453,  0.61112861],\n",
       "        [ 0.03153441,  0.20541559]]),\n",
       " 'poisson_oreb_rflvm': array([[-0.32679272, -0.65372727],\n",
       "        [-1.22579498, -1.36049519],\n",
       "        [-2.12453759, -0.85430798],\n",
       "        ...,\n",
       "        [-0.18662108, -0.11846142],\n",
       "        [-1.20553109, -1.06959759],\n",
       "        [-0.96883192, -0.52041365]]),\n",
       " 'gaussian_bpm_rflvm': array([[ 9.46003910e-02, -1.10149913e-01],\n",
       "        [-5.38602274e-02,  4.82601679e-01],\n",
       "        [-5.18333520e-03,  9.98991376e-02],\n",
       "        ...,\n",
       "        [-2.10676090e-02, -8.43691055e-02],\n",
       "        [-3.91607630e-02, -2.23972688e-02],\n",
       "        [-1.25131630e-02, -3.27289313e-04]]),\n",
       " 'gaussian_dbpm_rflvm': array([[ 0.01286243,  0.00908164],\n",
       "        [ 0.09336465, -0.76576325],\n",
       "        [ 0.01664706, -0.0097002 ],\n",
       "        ...,\n",
       "        [-0.02207189, -0.08230655],\n",
       "        [-0.00120497, -0.03155742],\n",
       "        [ 0.00422961,  0.00724769]]),\n",
       " 'gaussian_obpm_rflvm': array([[ 0.0275638 , -0.01688717],\n",
       "        [-0.18369781,  0.0393903 ],\n",
       "        [-0.08585418, -0.00103744],\n",
       "        ...,\n",
       "        [ 0.11898976, -0.06564946],\n",
       "        [ 0.04706939, -0.06466983],\n",
       "        [-0.01149234,  0.03986863]]),\n",
       " 'binomial_ftm_rflvm': array([[-0.01314879,  0.05675166],\n",
       "        [ 0.02294558, -0.04104063],\n",
       "        [ 0.0026164 , -0.01524833],\n",
       "        ...,\n",
       "        [ 0.12747493,  0.2140091 ],\n",
       "        [ 0.10393752,  0.23634186],\n",
       "        [ 0.19033333,  0.20322154]]),\n",
       " 'binomial_fg2m_rflvm': array([[-0.02776783, -0.00776008],\n",
       "        [-0.53324979, -0.16002883],\n",
       "        [-0.02016393, -0.00406149],\n",
       "        ...,\n",
       "        [ 0.31524454, -0.21529946],\n",
       "        [ 0.28244633, -0.13469001],\n",
       "        [ 0.17831798, -0.21650527]])}"
      ]
     },
     "execution_count": 13,
     "metadata": {},
     "output_type": "execute_result"
    }
   ],
   "source": []
  },
  {
   "cell_type": "code",
   "execution_count": 8,
   "metadata": {},
   "outputs": [],
   "source": [
    "import pandas as pd\n",
    "df = pd.read_csv(\"datasets/player_data.csv\")"
   ]
  },
  {
   "cell_type": "code",
   "execution_count": 9,
   "metadata": {},
   "outputs": [],
   "source": [
    "df = df.sort_values(by=[\"id\",\"year\"])\n"
   ]
  },
  {
   "cell_type": "code",
   "execution_count": 31,
   "metadata": {},
   "outputs": [],
   "source": [
    "import plotly.express as px\n",
    "\n",
    "\n",
    "def plot_scatter(dataframe, rotated_means_dict, metric, model, offset = \"minutes\"):\n",
    "    key_name = f\"{model}_{metric}_rflvm\"\n",
    "    df_size_vals = np.sqrt(dataframe[[offset,\"id\"]].groupby(\"id\").mean().reset_index())\n",
    "    df_names = dataframe[[\"id\",\"name\"]].drop_duplicates()[\"name\"].values\n",
    "    data = pd.DataFrame(rotated_means_dict[key_name], columns=[\"x\",\"y\"])\n",
    "    data[\"names\"] = df_names\n",
    "    data[offset] = df_size_vals[offset]\n",
    "    if model == \"binomial\":\n",
    "        df_color_vals = dataframe[[metric,offset, \"id\"]].groupby(\"id\").sum().reset_index()\n",
    "        data[\"hover\"] = df_color_vals[metric]/df_color_vals[offset]\n",
    "        fig = px.scatter(data_frame= data,   \n",
    "                   x = \"x\", y = \"y\", color = \"hover\",\n",
    "                   size = offset, hover_data = [\"hover\",offset,\"names\"], title = metric)\n",
    "    elif model == \"poisson\":\n",
    "        df_color_vals = dataframe[[metric,offset,\"id\"]].groupby(\"id\").mean().reset_index()\n",
    "        data[\"hover\"] = df_color_vals[metric]\n",
    "        fig = px.scatter(data_frame = data, x = rotated_means_dict[key_name][:,0], y = rotated_means_dict[key_name][:,1], color = \"hover\",\n",
    "                   size = offset, hover_data = [\"hover\",offset,\"names\"], title = metric )\n",
    "    elif model == \"gaussian\":\n",
    "        df_color_vals = dataframe[[metric, \"id\"]].groupby(\"id\").mean().reset_index()\n",
    "        data[\"hover\"] = df_color_vals[metric]\n",
    "        fig = px.scatter(data_frame = data, x = rotated_means_dict[key_name][:,0], y = rotated_means_dict[key_name][:,1], color = \"hover\",\n",
    "                    size = offset, hover_data = [\"hover\",offset,\"names\"], title = metric )\n",
    "    \n",
    "    fig.show()\n",
    "    \n",
    "\n",
    "    \n"
   ]
  },
  {
   "cell_type": "code",
   "execution_count": 36,
   "metadata": {},
   "outputs": [
    {
     "data": {
      "application/vnd.plotly.v1+json": {
       "config": {
        "plotlyServerURL": "https://plot.ly"
       },
       "data": [
        {
         "customdata": [
          [
           1,
           37.94441109482831,
           "Byron Scott"
          ],
          [
           -1.8142857142857143,
           33.98196300280209,
           "Grant Long"
          ],
          [
           -5.166666666666667,
           25.536368400990575,
           "Dan Schayes"
          ],
          [
           -2.8,
           18.3061009866474,
           "Sedale Threatt"
          ],
          [
           -10.3,
           6.397525563320032,
           "Chris King"
          ],
          [
           -0.35833333333333334,
           32.426095458236496,
           "Eric Piatkowski"
          ],
          [
           4.1,
           48.71035995213611,
           "Clyde Drexler"
          ],
          [
           1.25,
           35.618616387127304,
           "Greg Anthony"
          ],
          [
           -0.09999999999999998,
           41.00270316292165,
           "Rik Smits"
          ],
          [
           -1.25,
           38.259339818315375,
           "Dennis Rodman"
          ],
          [
           -3.22,
           34.14050868591934,
           "Luc Longley"
          ],
          [
           -4.0200000000000005,
           27.058867924089746,
           "Doug West"
          ],
          [
           -3.1399999999999997,
           28.975466634148734,
           "Jim McIlvaine"
          ],
          [
           -1.0999999999999999,
           12.299999999999999,
           "Lorenzo Williams"
          ],
          [
           -8.6,
           19.54938191691321,
           "Clifford Rozier"
          ],
          [
           -3.6500000000000004,
           20.922037822991026,
           "Eric Riley"
          ],
          [
           -4.8,
           15.997603987264249,
           "Sarunas Marciulionis"
          ],
          [
           -6.7,
           11.16751240578373,
           "Greg Graham"
          ],
          [
           -6.1,
           8.54858662781944,
           "Brad Lohaus"
          ],
          [
           -4.071428571428571,
           31.489034372528582,
           "Monty Williams"
          ],
          [
           0.03750000000000002,
           33.900602256203854,
           "Chris Whitney"
          ],
          [
           -0.6166666666666667,
           40.630902989938335,
           "George McCloud"
          ],
          [
           -8.3,
           27.903583999192648,
           "Wayman Tisdale"
          ],
          [
           -33,
           26.537080974867347,
           "Gheorghe Muresan"
          ],
          [
           -2.766666666666667,
           32.412163354724306,
           "Mahmoud Abdul-Rauf"
          ],
          [
           -7.6000000000000005,
           9.383806974428529,
           "Micheal Williams"
          ],
          [
           0.58,
           44.031871032999085,
           "Mario Elie"
          ],
          [
           -0.9399999999999998,
           28.046104898898147,
           "Dickey Simpkins"
          ],
          [
           -6.9,
           21.593411417991987,
           "Marty Conlon"
          ],
          [
           2.963636363636364,
           52.86299903208923,
           "Gary Payton"
          ],
          [
           0.5636363636363636,
           45.84345397902816,
           "Doug Christie"
          ],
          [
           -5.3999999999999995,
           29.735155026406797,
           "Carl Herrera"
          ],
          [
           -0.11999999999999997,
           38.544355401710014,
           "Michael Smith"
          ],
          [
           1.4,
           37.580070072668384,
           "Sam Perkins"
          ],
          [
           -2.1333333333333333,
           28.5180352291902,
           "Greg Minor"
          ],
          [
           -7.1,
           28.343741225650973,
           "Tom Hammonds"
          ],
          [
           0.27142857142857146,
           30.122357619738658,
           "Steve Kerr"
          ],
          [
           -3.2000000000000006,
           28.59585245761663,
           "Pooh Richardson"
          ],
          [
           -0.2666666666666666,
           40.289241280557306,
           "Kenny Anderson"
          ],
          [
           -0.6,
           35.947075294413345,
           "Hot Rod Williams"
          ],
          [
           -0.54,
           32.839737108164165,
           "Cedric Ceballos"
          ],
          [
           -4.942857142857143,
           21.47617727800249,
           "Doug Overton"
          ],
          [
           -10.1,
           11.748475078352381,
           "LaSalle Thompson"
          ],
          [
           -9.2,
           14.868871286460617,
           "Ken Norman"
          ],
          [
           -6.45,
           13.25138357556171,
           "Jeff Grayer"
          ],
          [
           -5.55,
           20.94134666156883,
           "Bill Wennington"
          ],
          [
           0.2555555555555556,
           50.725006617015794,
           "Latrell Sprewell"
          ],
          [
           -3.0833333333333335,
           22.656321168470583,
           "Brent Price"
          ],
          [
           0.7230769230769231,
           41.50649315901038,
           "Dikembe Mutombo"
          ],
          [
           -9.3,
           5.211205874523352,
           "Steve Scheffler"
          ],
          [
           0.3,
           45.635799178568874,
           "Nick Van Exel"
          ],
          [
           -3.2625,
           34.501772297472876,
           "Hubert Davis"
          ],
          [
           -4.928571428571429,
           27.869278187040763,
           "Mark Bryant"
          ],
          [
           1.2399999999999998,
           41.85274582788248,
           "Detlef Schrempf"
          ],
          [
           -0.11666666666666685,
           36.35840113829721,
           "Nick Anderson"
          ],
          [
           -6.825,
           15.150096259320161,
           "Tim Legler"
          ],
          [
           -0.42500000000000004,
           30.14248109672901,
           "Todd Day"
          ],
          [
           -6.65,
           8.447484832777146,
           "Benoit Benjamin"
          ],
          [
           1.5666666666666667,
           40.029804868095205,
           "Dan Majerle"
          ],
          [
           -0.95,
           40.879614928062466,
           "Dale Ellis"
          ],
          [
           1.9749999999999999,
           38.39300609051949,
           "Robert Horry"
          ],
          [
           -1.7714285714285716,
           39.35241869495263,
           "LaPhonso Ellis"
          ],
          [
           -12.549999999999999,
           16.938171880892767,
           "Dontonio Wingfield"
          ],
          [
           0.1,
           15.326284611738098,
           "David Wood"
          ],
          [
           1.088888888888889,
           43.62818490974062,
           "Steven Smith"
          ],
          [
           0.3999999999999999,
           40.97179585465538,
           "Patrick Ewing"
          ],
          [
           -7.1,
           6.359769387852574,
           "Fred Roberts"
          ],
          [
           -2.325,
           25.917609843502166,
           "Robert Pack"
          ],
          [
           1.6555555555555554,
           45.26582187069655,
           "Vlade Divac"
          ],
          [
           -3.3,
           27.99538652468775,
           "David Benoit"
          ],
          [
           -2.8,
           29.556725123057866,
           "Dino Radja"
          ],
          [
           -0.41818181818181815,
           48.8524215460103,
           "David Wesley"
          ],
          [
           3.1,
           36.787180738222744,
           "Kevin Johnson"
          ],
          [
           -0.18333333333333335,
           46.97627651863816,
           "P.J. Brown"
          ],
          [
           -2.52,
           32.76137461503513,
           "Vernon Maxwell"
          ],
          [
           -9.9,
           14.52876457239225,
           "Anthony Avent"
          ],
          [
           -4.15,
           24.34043275430136,
           "Donald Royal"
          ],
          [
           -3.466666666666667,
           30.288474155471526,
           "Terry Dehere"
          ],
          [
           -2.2625,
           31.25664262734137,
           "Tracy Murray"
          ],
          [
           0.03333333333333329,
           27.176690379808953,
           "Jud Buechler"
          ],
          [
           -0.23636363636363636,
           46.723491917553616,
           "Jalen Rose"
          ],
          [
           -6.25,
           16.945869703263973,
           "Adrian Caldwell"
          ],
          [
           -4.425,
           27.00246902291219,
           "Antoine Carr"
          ],
          [
           -0.9333333333333332,
           41.20345185108213,
           "Derek Harper"
          ],
          [
           -0.3,
           5.367028973277487,
           "Tim Breaux"
          ],
          [
           -1.7857142857142858,
           38.150890896419114,
           "Chris Childs"
          ],
          [
           2.0833333333333335,
           41.29385883854618,
           "Hakeem Olajuwon"
          ],
          [
           1.3599999999999999,
           40.77229451478048,
           "Ron Harper"
          ],
          [
           -0.9714285714285715,
           36.62618761279446,
           "Chris Mills"
          ],
          [
           -5.55,
           20.289960571671898,
           "Joe Kleine"
          ],
          [
           -1.8666666666666665,
           30.895217177492754,
           "Keith Askins"
          ],
          [
           -6.9,
           16.712221077203747,
           "Alton Lister"
          ],
          [
           -2.88,
           7.923172765165904,
           "Antonio Harvey"
          ],
          [
           -1.44,
           34.427024268734,
           "Muggsy Bogues"
          ],
          [
           -5.266666666666667,
           39.32089139376166,
           "Olden Polynice"
          ],
          [
           -1.6833333333333336,
           35.503423152641986,
           "Bryant Stith"
          ],
          [
           -2.557142857142857,
           22.69343307571388,
           "John Crotty"
          ],
          [
           -2.3,
           27.608422627886586,
           "Kenny Smith"
          ],
          [
           -1.7399999999999998,
           37.1327393728679,
           "Billy Owens"
          ],
          [
           -1.9666666666666668,
           36.23587847546807,
           "Bison Dele"
          ],
          [
           0.42500000000000004,
           40.822874510907894,
           "Bobby Phills"
          ],
          [
           2.65,
           46.358265174615845,
           "Chris Webber"
          ],
          [
           -2.025,
           29.23401272490657,
           "Terry Cummings"
          ],
          [
           -4.74,
           18.24637863613856,
           "Duane Causwell"
          ],
          [
           -1.2750000000000001,
           40.17310978751833,
           "Dennis Scott"
          ],
          [
           1.0833333333333333,
           54.67786978700289,
           "Anthony Mason"
          ],
          [
           0.4,
           14.881588176893857,
           "Anthony Bowie"
          ],
          [
           -4.366666666666667,
           36.15247801557544,
           "Lee Mayberry"
          ],
          [
           0.45999999999999996,
           28.70680523267379,
           "Scott Burrell"
          ],
          [
           -1.1857142857142857,
           36.125683384539606,
           "Danny Ferry"
          ],
          [
           -2.3,
           14.125449845344148,
           "Reggie Williams"
          ],
          [
           -4.871428571428571,
           26.167418854824213,
           "Chris Dudley"
          ],
          [
           0.7999999999999996,
           12.448440330686676,
           "Gary Grant"
          ],
          [
           3,
           23.213789005675054,
           "Nate McMillan"
          ],
          [
           3.25,
           46.425029168901254,
           "Jeff Hornacek"
          ],
          [
           2.1,
           45.77070721420951,
           "Sam Cassell"
          ],
          [
           0.6666666666666666,
           33.80147925757098,
           "Dell Curry"
          ],
          [
           4.1499999999999995,
           45.18124918345859,
           "Terrell Brandon"
          ],
          [
           -8.4,
           17.462579038236793,
           "Eric Mobley"
          ],
          [
           -9.05,
           13.673148869225402,
           "Yinka Dare"
          ],
          [
           -1.51,
           46.100124728681585,
           "Antonio Davis"
          ],
          [
           -4.285714285714286,
           33.819035214759495,
           "Brian Shaw"
          ],
          [
           -3.5,
           34.631596844500265,
           "Vinny Del Negro"
          ],
          [
           -0.27777777777777785,
           41.96817356750936,
           "Clar. Weatherspoon"
          ],
          [
           -5.5,
           15.966279570812153,
           "Bill Curley"
          ],
          [
           2.9499999999999997,
           48.82125703921283,
           "Eddie Jones"
          ],
          [
           -3.85,
           15.624166644443259,
           "Antonio Lang"
          ],
          [
           -1.9,
           31.80134169077358,
           "Adam Keefe"
          ],
          [
           -3.825,
           29.758927232008872,
           "Khalid Reeves"
          ],
          [
           -3.6999999999999997,
           23.024552112907646,
           "Kevin Edwards"
          ],
          [
           -2.5125,
           39.49020975718749,
           "Tyrone Hill"
          ],
          [
           -4.445454545454545,
           25.604376401488306,
           "Darrick Martin"
          ],
          [
           -1.5499999999999998,
           24.731525091132806,
           "Brooks Thompson"
          ],
          [
           -3.2,
           11.656328753085168,
           "Darrin Hancock"
          ],
          [
           -0.045454545454545456,
           38.23666929516586,
           "Aaron McKie"
          ],
          [
           -2.6666666666666665,
           27.4476117155735,
           "Dee Brown"
          ],
          [
           -3.45,
           32.08236795084389,
           "Greg Anderson"
          ],
          [
           1.4333333333333333,
           46.08110603417996,
           "Joe Dumars"
          ],
          [
           -0.5,
           39.36275029912305,
           "George Lynch"
          ],
          [
           -0.96,
           33.27997896633953,
           "Sean Elliott"
          ],
          [
           5.8875,
           51.29496807680067,
           "Karl Malone"
          ],
          [
           2.15625,
           42.45568768335601,
           "Grant Hill"
          ],
          [
           -1.56,
           40.9217281322934,
           "Brian Grant"
          ],
          [
           -0.23333333333333336,
           29.922046869973464,
           "Michael Cage"
          ],
          [
           -2.433333333333333,
           33.12680183778688,
           "Harvey Grant"
          ],
          [
           0.4125,
           43.92098729536938,
           "Horace Grant"
          ],
          [
           -2.4833333333333334,
           40.260623166783915,
           "Johnny Newman"
          ],
          [
           -5.733333333333333,
           23.205566860849025,
           "Duane Ferrell"
          ],
          [
           0.022222222222222216,
           49.131631585183705,
           "Allan Houston"
          ],
          [
           -1.19,
           31.247914597084183,
           "Stacey Augmon"
          ],
          [
           -2.25,
           10.435516278555644,
           "Charles Jones"
          ],
          [
           -5.45,
           22.50775792180703,
           "Felton Spencer"
          ],
          [
           -4.177777777777778,
           28.323524445891906,
           "Scott Williams"
          ],
          [
           -1.4857142857142858,
           35.84007467041542,
           "Lindsey Hunter"
          ],
          [
           -11.3,
           11.421106192776032,
           "Eric Leckner"
          ],
          [
           -1.325,
           37.494799639416655,
           "Armen Gilliam"
          ],
          [
           -1.7,
           23.38478850307039,
           "Ledell Eackles"
          ],
          [
           -1.7,
           16.424778029956236,
           "Ed Pinckney"
          ],
          [
           -4.9,
           12.83600621515725,
           "Anthony Miller"
          ],
          [
           -3.6,
           18.11817687664333,
           "Charles Smith"
          ],
          [
           -0.5874999999999999,
           43.8525512370717,
           "Rick Fox"
          ],
          [
           1.5,
           37.78117215885407,
           "Alonzo Mourning"
          ],
          [
           0.30000000000000004,
           46.1223895176173,
           "Glenn Robinson"
          ],
          [
           2.1166666666666667,
           46.411241454343056,
           "Mookie Blaylock"
          ],
          [
           5.985714285714286,
           47.55636755722724,
           "John Stockton"
          ],
          [
           -2.7,
           20.160109126688774,
           "Robert Parish"
          ],
          [
           -21.6,
           3.255764119219941,
           "Derrick Alston"
          ],
          [
           -4.9,
           27.423469267520957,
           "Bobby Hurley"
          ],
          [
           -8.9,
           14.182030884185805,
           "Richard Manning"
          ],
          [
           -1.0833333333333333,
           41.16751686031651,
           "John Starks"
          ],
          [
           -1.9500000000000002,
           13.36902514521285,
           "Jamie Watson"
          ],
          [
           -6.457142857142857,
           25.513567819047637,
           "Greg Foster"
          ],
          [
           -0.6222222222222222,
           40.41573767546314,
           "Anthony Peeler"
          ],
          [
           -5.966666666666666,
           18.73268089018049,
           "Rick Mahorn"
          ],
          [
           0.3428571428571429,
           34.38282032255837,
           "Danny Manning"
          ],
          [
           -0.3,
           30.88133200926843,
           "Kevin Gamble"
          ],
          [
           0.9,
           17.339069563656896,
           "Willie Anderson"
          ],
          [
           -0.3333333333333333,
           37.36062742355222,
           "Tom Gugliotta"
          ],
          [
           -10.733333333333334,
           19.635370579079424,
           "Joe Wolf"
          ],
          [
           -0.3571428571428572,
           30.17496597228522,
           "Dana Barros"
          ],
          [
           2.15,
           39.389038943453414,
           "Terry Porter"
          ],
          [
           -2.9,
           18.601505315430796,
           "Mitchell Butler"
          ],
          [
           0.9625,
           44.7520530255317,
           "Mark Jackson"
          ],
          [
           -7.3,
           10.124804524862048,
           "Stacey King"
          ],
          [
           1.375,
           40.692188029972876,
           "Darrell Armstrong"
          ],
          [
           -2,
           25.360500783699045,
           "Vincent Askew"
          ],
          [
           -1.2333333333333334,
           26.137085189864273,
           "Chris Morris"
          ],
          [
           0.29090909090909095,
           36.66294678100309,
           "Anfernee Hardaway"
          ],
          [
           -2.783333333333333,
           27.930543814572903,
           "Chucky Brown"
          ],
          [
           -0.09090909090909091,
           48.44029283248574,
           "Clifford Robinson"
          ],
          [
           1.0666666666666667,
           41.141434012350516,
           "Christian Laettner"
          ],
          [
           -1.0750000000000002,
           39.496102128353535,
           "Rex Chapman"
          ],
          [
           -0.3333333333333333,
           30.02887036762381,
           "Derrick McKey"
          ],
          [
           -8.55,
           9.521466973808895,
           "Dwayne Schintzius"
          ],
          [
           1.9222222222222223,
           38.385628579997004,
           "Charlie Ward"
          ],
          [
           -3.28,
           30.86812271583744,
           "Terry Mills"
          ],
          [
           -1.1500000000000001,
           41.24327554617573,
           "Isaiah Rider"
          ],
          [
           -5.7,
           28.069690058851748,
           "Eric Montross"
          ],
          [
           -3.2,
           29.1674476085927,
           "Craig Ehlo"
          ],
          [
           -4.8,
           21.970282959792126,
           "Tony Smith"
          ],
          [
           -3.1,
           27.841403520656083,
           "James Robinson"
          ],
          [
           -0.8444444444444444,
           42.12172176495691,
           "Kendall Gill"
          ],
          [
           -3.45,
           39.27663003194987,
           "Calbert Cheaney"
          ],
          [
           -2.65,
           28.849094921293087,
           "Elliot Perry"
          ],
          [
           2.2600000000000002,
           39.64386669671197,
           "Toni Kukoc"
          ],
          [
           -1,
           42.29858153650073,
           "Sasha Danilovic"
          ],
          [
           0.47777777777777786,
           41.97943720618642,
           "Rod Strickland"
          ],
          [
           3.211111111111111,
           50.67991237678414,
           "Reggie Miller"
          ],
          [
           -3.8875,
           28.91228473042788,
           "Sean Rooks"
          ],
          [
           -2.48,
           31.576320241598744,
           "Derek Strong"
          ],
          [
           -5.7,
           19.582049603314434,
           "Kevin Duckworth"
          ],
          [
           4.406666666666666,
           45.28017471501432,
           "Shaquille O'Neal"
          ],
          [
           -7.3500000000000005,
           22.966805756714734,
           "Sharone Wright"
          ],
          [
           -4.866666666666666,
           12.13074606114562,
           "Willie Burton"
          ],
          [
           -2.533333333333333,
           37.78579245048475,
           "Sam Mitchell"
          ],
          [
           2.05,
           16.709029495056466,
           "Scott Brooks"
          ],
          [
           -1.6333333333333335,
           39.97450576443829,
           "Jayson Williams"
          ],
          [
           -0.9375,
           40.46502862555106,
           "Avery Johnson"
          ],
          [
           -2.1166666666666667,
           35.84846967135106,
           "Chris Gatling"
          ],
          [
           -3.533333333333333,
           28.93888195644206,
           "Terry Davis"
          ],
          [
           -1.46,
           35.36250368210184,
           "Sherman Douglas"
          ],
          [
           -1.3142857142857143,
           43.80895483584976,
           "Shawn Kemp"
          ],
          [
           -1.5499999999999998,
           29.094472556369407,
           "Pete Chilcutt"
          ],
          [
           -0.5499999999999999,
           33.47022308460664,
           "Buck Williams"
          ],
          [
           -6.8,
           12.744900941160743,
           "Tony Dumas"
          ],
          [
           0.8666666666666667,
           24.482368939481496,
           "Carlos Rogers"
          ],
          [
           -2.923529411764706,
           42.71518993262693,
           "Juwan Howard"
          ],
          [
           -7.9,
           5.5458693337173655,
           "Robert Werdann"
          ],
          [
           -3.95,
           22.845586736464735,
           "Zan Tabak"
          ],
          [
           -1.1222222222222222,
           39.589752695849455,
           "Lamond Murray"
          ],
          [
           -3.95,
           14.823531405617668,
           "Pervis Ellison"
          ],
          [
           0.8111111111111111,
           42.59211585884567,
           "Wesley Person"
          ],
          [
           -1.3444444444444443,
           36.23759557880922,
           "Lucious Harris"
          ],
          [
           0.8250000000000001,
           37.90789825353022,
           "Bo Outlaw"
          ],
          [
           -3.06,
           40.62720558115378,
           "Vin Baker"
          ],
          [
           -3,
           30.456845608901215,
           "Chuck Person"
          ],
          [
           -3.2,
           25.10276379206084,
           "Andrew Lang"
          ],
          [
           -1.8800000000000001,
           38.07971682317678,
           "Howard Eisley"
          ],
          [
           -5.15,
           27.624117632967025,
           "Popeye Jones"
          ],
          [
           -1.6,
           26.365096876995036,
           "J.R. Reid"
          ],
          [
           3.994117647058824,
           51.12957491875469,
           "Jason Kidd"
          ],
          [
           1.7599999999999998,
           32.80359228295991,
           "Jon Barry"
          ],
          [
           0.43750000000000006,
           45.01946569725885,
           "Jamal Mashburn"
          ],
          [
           -3.7,
           20.667405900757526,
           "Melvin Booker"
          ],
          [
           -6.3,
           12.399932795516797,
           "Donnie Boyce"
          ],
          [
           -0.6333333333333334,
           28.864573634666957,
           "Matt Bullard"
          ],
          [
           -1.3454545454545455,
           33.52504491217924,
           "Alan Henderson"
          ],
          [
           -0.050000000000000044,
           16.967382925287374,
           "Reggie Jordan"
          ],
          [
           -4,
           16.54937058219034,
           "Thomas Hamilton"
          ],
          [
           -2.5545454545454547,
           36.00249149627555,
           "Eric Williams"
          ],
          [
           -9.45,
           14.798564119535387,
           "George Zidek"
          ],
          [
           -3.742857142857143,
           34.85385474343106,
           "Jason Caffey"
          ],
          [
           -6.199999999999999,
           33.38130714436848,
           "John Amaechi"
          ],
          [
           -11.65,
           13.358081199533608,
           "Donny Marshall"
          ],
          [
           0.04444444444444451,
           40.073799975101494,
           "Bob Sura"
          ],
          [
           -12.649999999999999,
           19.656847831396234,
           "Loren Meyer"
          ],
          [
           -2.35,
           28.674131779939433,
           "Cherokee Parks"
          ],
          [
           0.11428571428571432,
           42.91079895162368,
           "Antonio McDyess"
          ],
          [
           -3.3555555555555556,
           37.084043688577104,
           "Michael Curry"
          ],
          [
           -0.7200000000000001,
           35.77245371014468,
           "Theo Ratliff"
          ],
          [
           -6.214285714285714,
           24.989540669190838,
           "Don Reid"
          ],
          [
           -11.5,
           10.362030045636184,
           "Lou Roe"
          ],
          [
           -3.566666666666667,
           32.72637966420858,
           "Andrew DeClercq"
          ],
          [
           -2.306666666666666,
           40.182457476974804,
           "Joe Smith"
          ],
          [
           -2.68,
           27.920995684251665,
           "Sam Mack"
          ],
          [
           -2.533333333333333,
           25.269579867236963,
           "Eldridge Recasner"
          ],
          [
           -0.6000000000000001,
           40.249469745759576,
           "Travis Best"
          ],
          [
           0.3888888888888889,
           33.13811724909571,
           "Fred Hoiberg"
          ],
          [
           -6.3,
           28.40328619485194,
           "Eddie Johnson"
          ],
          [
           2.353846153846154,
           40.905435034780105,
           "Brent Barry"
          ],
          [
           -7.4,
           8.525354342586981,
           "Keith Tower"
          ],
          [
           -1.3,
           7.712003630704539,
           "Frankie King"
          ],
          [
           -0.47000000000000003,
           38.77197871315486,
           "Voshon Lenard"
          ],
          [
           -1.8352941176470587,
           38.73300765952653,
           "Kurt Thomas"
          ],
          [
           -2.2,
           22.360853690719807,
           "Shawn Respert"
          ],
          [
           -2.6,
           30.723823546774465,
           "Jerome Allen"
          ],
          [
           -6.174999999999999,
           27.9046441773886,
           "Mark Davis"
          ],
          [
           5.1049999999999995,
           49.051007465018834,
           "Kevin Garnett"
          ],
          [
           -3.6,
           28.399882628865438,
           "Ed O'Bannon"
          ],
          [
           -5.266666666666667,
           17.203875532371576,
           "David Vaughn"
          ],
          [
           -1.0999999999999999,
           40.24014189348544,
           "Jerry Stackhouse"
          ],
          [
           -15.600000000000001,
           11.203967551224387,
           "Mario Bennett"
          ],
          [
           -2.46,
           27.947057090148153,
           "Chris Carr"
          ],
          [
           0.8714285714285713,
           49.8622519213349,
           "Michael Finley"
          ],
          [
           -9.05,
           8.111257609027097,
           "John Coker"
          ],
          [
           -3.1,
           22.379827226023597,
           "Rumeal Robinson"
          ],
          [
           3.9,
           40.046906525001674,
           "Arvydas Sabonis"
          ],
          [
           -1.4375,
           32.868329488024386,
           "Gary Trent"
          ],
          [
           -6.2,
           12.311986029881613,
           "Randolph Childress"
          ],
          [
           -0.5,
           27.445926635639196,
           "Tyus Edney"
          ],
          [
           -2.190909090909091,
           40.617002709344625,
           "Corliss Williamson"
          ],
          [
           -2.5500000000000003,
           26.673931302136754,
           "Cory Alexander"
          ],
          [
           -4.2,
           3.043298648944377,
           "Dell Demps"
          ],
          [
           -1.4166666666666667,
           43.53635932566402,
           "Eric Snow"
          ],
          [
           2.2,
           4.6565366242877655,
           "Jimmy King"
          ],
          [
           -1,
           7.085195833567341,
           "Martin Lewis"
          ],
          [
           -0.74,
           37.53995427097197,
           "Greg Ostertag"
          ],
          [
           -7.1,
           12.043116983018432,
           "Ashraf Amaya"
          ],
          [
           -28.9,
           3.610170817749944,
           "Cuonzo Martin"
          ],
          [
           -8.85,
           24.927712156018952,
           "Lawrence Moten"
          ],
          [
           -3.8200000000000003,
           43.82248281419027,
           "Bryant Reeves"
          ],
          [
           -17.4,
           2.247220505424423,
           "Bob McCann"
          ],
          [
           2.08,
           47.94478073784465,
           "Rasheed Wallace"
          ],
          [
           -1.4142857142857141,
           30.42278672937363,
           "Randy Brown"
          ],
          [
           -1.48,
           45.0223426015721,
           "Jim Jackson"
          ],
          [
           -0.08333333333333333,
           46.77576087628672,
           "Damon Stoudamire"
          ],
          [
           -1.16,
           30.78736753930092,
           "Jerome Kersey"
          ],
          [
           -3.483333333333333,
           32.67738769648927,
           "Matt Geiger"
          ],
          [
           0.4666666666666667,
           38.64871709815647,
           "Shawn Bradley"
          ],
          [
           -4.688888888888889,
           30.607430712407307,
           "Tony Massenburg"
          ],
          [
           5.442857142857143,
           43.19956459216206,
           "David Robinson"
          ],
          [
           1.94,
           43.12519371937166,
           "Hersey Hawkins"
          ],
          [
           -1.3799999999999997,
           17.909950679254624,
           "David Wingate"
          ],
          [
           -4.5,
           22.3638473136146,
           "Acie Earl"
          ],
          [
           -1.7999999999999998,
           26.4184042541054,
           "B.J. Armstrong"
          ],
          [
           -4.425,
           20.517330073216964,
           "Mark West"
          ],
          [
           -11.1,
           2.3416518386244634,
           "Elmore Spencer"
          ],
          [
           -2.4000000000000004,
           23.31104888245057,
           "Rex Walters"
          ],
          [
           -0.6000000000000001,
           42.98235345270584,
           "Glen Rice"
          ],
          [
           -0.76,
           31.395790588336318,
           "Will Perdue"
          ],
          [
           0.9833333333333334,
           44.592248329851124,
           "Mitch Richmond"
          ],
          [
           -5.6,
           15.99510341740037,
           "Frank Brickowski"
          ],
          [
           1.075,
           25.523371642477002,
           "Eric Murdock"
          ],
          [
           -9.733333333333334,
           34.077395570801585,
           "Gerald Wilkins"
          ],
          [
           3.75,
           39.98890992096019,
           "Charles Barkley"
          ],
          [
           -3.9899999999999998,
           34.1773804340434,
           "Kevin Willis"
          ],
          [
           -1.95,
           42.35762180529025,
           "Charles Oakley"
          ],
          [
           -11.4,
           5.848931526355904,
           "Spud Webb"
          ],
          [
           5.15,
           53.40698300160132,
           "Michael Jordan"
          ],
          [
           -1.75,
           29.09915519965024,
           "Ricky Pierce"
          ],
          [
           -3.3600000000000003,
           37.761046948762775,
           "Tyrone Corbin"
          ],
          [
           2.7714285714285714,
           44.63775361304651,
           "Tim Hardaway"
          ],
          [
           -1.7,
           35.07046082135534,
           "Blue Edwards"
          ],
          [
           0.39999999999999997,
           40.62031511448428,
           "Mark Price"
          ],
          [
           -19,
           2.7769887768348416,
           "Matt Fish"
          ],
          [
           -2.38,
           39.55249676063448,
           "Otis Thorpe"
          ],
          [
           -3.9875,
           32.02694503591205,
           "Bimbo Coles"
          ],
          [
           2.6,
           37.523490420446386,
           "Chris Mullin"
          ],
          [
           -0.036363636363636334,
           41.326251837168726,
           "Dale Davis"
          ],
          [
           -0.9666666666666667,
           20.349542719404997,
           "Haywoode Workman"
          ],
          [
           -1.075,
           42.487493257820375,
           "Malik Sealy"
          ],
          [
           -2.5200000000000005,
           37.80262116132511,
           "Ervin Johnson"
          ],
          [
           -4.4,
           18.78128501106,
           "Rafael Addison"
          ],
          [
           0.74,
           47.023958432555084,
           "Larry Johnson"
          ],
          [
           -7,
           21.177946469539172,
           "Stanley Roberts"
          ],
          [
           -0.36666666666666664,
           42.655302305983184,
           "Rodney Rogers"
          ],
          [
           -2.675,
           30.864353765036686,
           "Corie Blount"
          ],
          [
           -7.8,
           7.932633022311485,
           "Jack Haley"
          ],
          [
           -3.9799999999999995,
           29.72648650614464,
           "Loy Vaught"
          ],
          [
           -1.5,
           43.370873482864816,
           "A.C. Green"
          ],
          [
           -1.1777777777777778,
           40.754036382688305,
           "Elden Campbell"
          ],
          [
           1.6076923076923075,
           41.15496511778565,
           "Donyell Marshall"
          ],
          [
           -3.3714285714285714,
           24.857594412975686,
           "Anthony Goldwire"
          ],
          [
           -20.4,
           3.5331760971303567,
           "Sean Higgins"
          ],
          [
           -2.9,
           17.449259774175722,
           "John Salley"
          ],
          [
           -2.9,
           15.43005724767951,
           "Tracy Moore"
          ],
          [
           -6.08,
           16.476285989263484,
           "Don MacLean"
          ],
          [
           -1.94,
           29.700218854412494,
           "Oliver Miller"
          ],
          [
           -1.1333333333333333,
           38.24266814262136,
           "Derrick Coleman"
          ],
          [
           1.14,
           41.527448753806205,
           "Bryon Russell"
          ],
          [
           2.725,
           44.671423098740284,
           "Scottie Pippen"
          ],
          [
           -4.766666666666667,
           38.05206958891985,
           "Rony Seikaly"
          ],
          [
           3,
           6.2496666577773015,
           "Pete Myers"
          ],
          [
           -5.9,
           6.71614969060895,
           "Earl Cureton"
          ],
          [
           -9,
           4.5661800227323495,
           "Ennis Whatley"
          ],
          [
           2.9,
           51.81892120874475,
           "Allen Iverson"
          ],
          [
           1.788235294117647,
           41.080787217766066,
           "Marcus Camby"
          ],
          [
           0.2583333333333333,
           49.06116647161537,
           "Shareef Abdur-Rahim"
          ],
          [
           1.1153846153846154,
           49.54650237338553,
           "Stephon Marbury"
          ],
          [
           2.7944444444444443,
           50.7526946921887,
           "Ray Allen"
          ],
          [
           -0.03333333333333336,
           51.27117584200914,
           "Antoine Walker"
          ],
          [
           -3.3461538461538463,
           37.760597086217956,
           "Lorenzen Wright"
          ],
          [
           1.8125,
           46.01960180184091,
           "Kerry Kittles"
          ],
          [
           -4.3,
           27.597937724885657,
           "Samaki Walker"
          ],
          [
           -1.94375,
           38.73171477183351,
           "Erick Dampier"
          ],
          [
           -6.04,
           22.35528274629213,
           "Todd Fuller"
          ],
          [
           -6.363636363636363,
           32.4844508258112,
           "Vitaly Potapenko"
          ],
          [
           2.088888888888889,
           45.99157028235757,
           "Steve Nash"
          ],
          [
           -0.42000000000000004,
           34.21988944069418,
           "Tony Delk"
          ],
          [
           -2.585714285714286,
           29.59508887829678,
           "John Wallace"
          ],
          [
           -2.54,
           32.194577700807535,
           "Walter McCarty"
          ],
          [
           -10.9,
           9.594616546098479,
           "Dontae' Jones"
          ],
          [
           -4.766666666666667,
           27.76029338621782,
           "Roy Rogers"
          ],
          [
           -1.0666666666666667,
           42.630123239411446,
           "Derek Fisher"
          ],
          [
           -0.022222222222222216,
           37.6137509331263,
           "Jerome Williams"
          ],
          [
           0.09999999999999994,
           19.08582953106542,
           "Brian Evans"
          ],
          [
           -8.15,
           16.228447245500725,
           "Priest Lauderdale"
          ],
          [
           -4.257142857142857,
           25.547048100840676,
           "Travis Knight"
          ],
          [
           -4.283333333333333,
           34.06491760023955,
           "Othella Harrington"
          ],
          [
           -3.25,
           19.366917669056168,
           "Mark Hendrickson"
          ],
          [
           -2.5636363636363635,
           38.067014274271315,
           "Jeff McInnis"
          ],
          [
           3.5799999999999996,
           49.32001959988797,
           "Kobe Bryant"
          ],
          [
           1.7000000000000002,
           45.554617824411665,
           "Peja Stojakovic"
          ],
          [
           -0.7333333333333334,
           38.99352272897147,
           "Jermaine O'Neal"
          ],
          [
           -0.6230769230769231,
           42.03228460026826,
           "Zydrunas Ilgauskas"
          ],
          [
           -3.8,
           11.974208394155625,
           "Efthimios Rentzias"
          ],
          [
           -1.65,
           21.836628250106127,
           "Martin Muursepp"
          ],
          [
           -2.4555555555555557,
           29.10788043990327,
           "Moochie Norris"
          ],
          [
           -6.5,
           16.331003235155734,
           "Steve Hamer"
          ],
          [
           -5.35,
           7.298287470359057,
           "Jason Sasser"
          ],
          [
           -4.0636363636363635,
           15.620853389173728,
           "Randy Livingston"
          ],
          [
           -5.675000000000001,
           6.162892989497706,
           "Ben Davis"
          ],
          [
           -2.8307692307692305,
           32.10326287434795,
           "Malik Rose"
          ],
          [
           -5.15,
           10.66387984428431,
           "Marcus Brown"
          ],
          [
           -2.7,
           29.372793534153345,
           "Jamie Feick"
          ],
          [
           -4.199999999999999,
           23.418226519814294,
           "Chris Robinson"
          ],
          [
           -9.033333333333333,
           16.466320846571108,
           "Mark Pope"
          ],
          [
           -3.7,
           6.970533217289285,
           "Jeff Nordgaard"
          ],
          [
           -1.58,
           39.92864677563382,
           "Shandon Anderson"
          ],
          [
           -2.15,
           21.516524657419318,
           "Reggie Geary"
          ],
          [
           -3.5666666666666664,
           14.124879547175697,
           "Drew Barry"
          ],
          [
           0.5428571428571428,
           39.447421305061845,
           "Walt Williams"
          ],
          [
           -3.0666666666666664,
           11.435616875942165,
           "Herb Williams"
          ],
          [
           -2.5500000000000003,
           25.61243729996122,
           "Emanual Davis"
          ],
          [
           -10.399999999999999,
           8.389328538883989,
           "Horacio Llamas"
          ],
          [
           -9.2,
           6.511528238439882,
           "Evric Gray"
          ],
          [
           -3.475,
           25.35450732447125,
           "Darvin Ham"
          ],
          [
           -3.05,
           12.510528899024743,
           "Shawnelle Scott"
          ],
          [
           -10.766666666666666,
           11.96388082707466,
           "Litterial Green"
          ],
          [
           -5.5,
           24.322109283530487,
           "Stojko Vrankovic"
          ],
          [
           -2.3,
           26.092144411680692,
           "Juaquin Hawkins"
          ],
          [
           -7.5,
           11.541735860201749,
           "Nate Driggers"
          ],
          [
           -5.45,
           15.532372109028726,
           "Amal McCaskill"
          ],
          [
           -5.2,
           12.166997712391233,
           "Shane Heal"
          ],
          [
           -2.2333333333333334,
           34.09078973043078,
           "Dean Garrett"
          ],
          [
           -3.4,
           15.267394451357212,
           "Ben Handlogten"
          ],
          [
           -7.6,
           4.1836985232367425,
           "Ed Stokes"
          ],
          [
           1.1,
           7.887014644337869,
           "Aleksandar Djordjevic"
          ],
          [
           -6.7,
           10.048797606347396,
           "William Cunningham"
          ],
          [
           -1.65,
           15.769221075669316,
           "Carl Thomas"
          ],
          [
           -6.4,
           7.340186192007209,
           "Brent Scott"
          ],
          [
           -1.2444444444444445,
           33.644731578108384,
           "Erick Strickland"
          ],
          [
           -5.1,
           19.671256526549925,
           "Greg Dreiling"
          ],
          [
           -8.9,
           9.327781086625041,
           "Devin Gray"
          ],
          [
           -2.9499999999999997,
           23.112148080368677,
           "Reggie Slater"
          ],
          [
           -2.6166666666666667,
           35.28932400725307,
           "Matt Maloney"
          ],
          [
           -32.4,
           2.0696215435033842,
           "Michael McDonald"
          ],
          [
           -4.8,
           24.329132057405314,
           "Ray Owes"
          ],
          [
           -2.75,
           23.61692542789316,
           "Henry James"
          ],
          [
           2.8333333333333335,
           4.705434210687802,
           "Ira Bowman"
          ],
          [
           -4.533333333333333,
           8.71537594012891,
           "Joe Stephens"
          ],
          [
           -1.7909090909090908,
           39.66415831131999,
           "Chucky Atkins"
          ],
          [
           -7.1000000000000005,
           11.005263892035172,
           "Kevin Salvadori"
          ],
          [
           -1.2,
           6.465163055432809,
           "Gaylon Nickerson"
          ],
          [
           -5.15,
           23.414436429974852,
           "Ivano Newbill"
          ],
          [
           -8.5,
           3.4246654337808384,
           "Matt Steigenga"
          ],
          [
           -1.5,
           26.14955385215332,
           "Tony Farmer"
          ],
          [
           -13.1,
           5.67230112035671,
           "James Scott"
          ],
          [
           -2.6,
           22.07292566967614,
           "Mark Strickland"
          ],
          [
           1.4749999999999999,
           44.78564455641264,
           "Ben Wallace"
          ],
          [
           -1.3,
           32.055563739648456,
           "Jaren Jackson"
          ],
          [
           -11.75,
           7.231240096507189,
           "Tim Kempton"
          ],
          [
           -8.1,
           8.674003304895226,
           "Elmer Bennett"
          ],
          [
           -6.1,
           6.6783231428256,
           "Dexter Boney"
          ],
          [
           -1.05,
           33.142432519857884,
           "Dominique Wilkins"
          ],
          [
           -3.1,
           31.30854515942892,
           "Larry Stewart"
          ],
          [
           -5.65,
           11.73978279185778,
           "Donald Whiteside"
          ],
          [
           -5.4,
           15.281470260852963,
           "Stephen Howard"
          ],
          [
           1,
           10.682384253214869,
           "Ruben Nembhard"
          ],
          [
           -3,
           4.371689223477202,
           "Jimmy Carruth"
          ],
          [
           -3.15,
           21.40879881419476,
           "Corey Beck"
          ],
          [
           -2.9499999999999997,
           35.902367609950176,
           "Ike Austin"
          ],
          [
           -6,
           25.783974351005956,
           "Brett Szabo"
          ],
          [
           -0.2,
           3.055868670825585,
           "Chris Jent"
          ],
          [
           -4.85,
           12.645140700416636,
           "Michael Hawkins"
          ],
          [
           -4.6,
           15.77064784126933,
           "Mark Bradtke"
          ],
          [
           -5.1,
           25.993348508160025,
           "Xavier McDaniel"
          ],
          [
           -3.4,
           13.978972303666199,
           "Lloyd Daniels"
          ],
          [
           -4.5,
           19.227584351654787,
           "John Long"
          ],
          [
           -2.2416666666666667,
           31.518497655257057,
           "Aaron Williams"
          ],
          [
           -3,
           4.6097722286464435,
           "Jimmy Oliver"
          ],
          [
           -10.9,
           10.058661276067856,
           "Joe Courtney"
          ],
          [
           -7.3,
           24.47563414227846,
           "Dragan Tarlac"
          ],
          [
           -2.5799999999999996,
           25.610408040482298,
           "Zeljko Rebraca"
          ],
          [
           -1.2714285714285716,
           25.985614152010026,
           "Lawrence Funderburke"
          ],
          [
           -2.1999999999999993,
           6.760793838990605,
           "Tom Chambers"
          ],
          [
           10.2,
           3.403429642777018,
           "Larry Krystkowiak"
          ],
          [
           6.423076923076923,
           43.010197061651,
           "Bruce Bowen"
          ],
          [
           -9.5,
           7.7864198020228335,
           "Stevin Smith"
          ],
          [
           -2.7,
           9.028658076739129,
           "Mike Brown"
          ],
          [
           -2.8,
           22.82064124135575,
           "Lionel Simmons"
          ],
          [
           5.463157894736842,
           49.935705152954505,
           "Tim Duncan"
          ],
          [
           0.03333333333333331,
           44.91962369157373,
           "Keith Van Horn"
          ],
          [
           1.9941176470588236,
           44.08490360078149,
           "Chauncey Billups"
          ],
          [
           -0.3153846153846154,
           38.8906323174525,
           "Antonio Daniels"
          ],
          [
           -2.3000000000000003,
           35.51588175933208,
           "Tony Battie"
          ],
          [
           -3.0625,
           40.95426310735755,
           "Ron Mercer"
          ],
          [
           -0.8538461538461538,
           40.51422668770273,
           "Tim Thomas"
          ],
          [
           -1.3416666666666668,
           32.99428612148879,
           "Adonal Foyle"
          ],
          [
           4.086666666666667,
           45.21918471917274,
           "Tracy McGrady"
          ],
          [
           -3.8200000000000003,
           29.72661826265028,
           "Danny Fortson"
          ],
          [
           -3.3166666666666664,
           28.292141625861003,
           "Tariq Abdul-Wahad"
          ],
          [
           -0.5666666666666667,
           30.915628913400912,
           "Austin Croshere"
          ],
          [
           0.41818181818181815,
           40.41817772870384,
           "Derek Anderson"
          ],
          [
           -4.133333333333334,
           38.484691521194264,
           "Maurice Taylor"
          ],
          [
           -0.97,
           32.602129276066194,
           "Kelvin Cato"
          ],
          [
           -0.15833333333333335,
           38.933311929217865,
           "Brevin Knight"
          ],
          [
           -7,
           16.964734664067763,
           "Johnny Taylor"
          ],
          [
           -3.1666666666666665,
           26.801782693611198,
           "Chris Anstey"
          ],
          [
           -1.4363636363636365,
           27.59000972025267,
           "Scot Pollard"
          ],
          [
           -13.4,
           7.392451104561551,
           "Paul Grant"
          ],
          [
           1.0333333333333332,
           39.0878474057451,
           "Anthony Parker"
          ],
          [
           -4.55,
           20.109989225921204,
           "Ed Gray"
          ],
          [
           0.4666666666666666,
           37.41359675602204,
           "Bobby Jackson"
          ],
          [
           -10.566666666666668,
           20.301984030029104,
           "Rodrick Rhodes"
          ],
          [
           -5.1,
           21.212991302501397,
           "John Thomas"
          ],
          [
           -3.3,
           19.872074208127692,
           "Charles Smith"
          ],
          [
           -3.9250000000000003,
           32.46412122122924,
           "Jacque Vaughn"
          ],
          [
           -6.5,
           14.93865232654316,
           "Keith Booth"
          ],
          [
           -2.05,
           14.076872285182299,
           "Charles O'Bannon"
          ],
          [
           -7.449999999999999,
           6.751975019701025,
           "James Cotton"
          ],
          [
           -4.35,
           10.336303336622171,
           "Marko Milic"
          ],
          [
           -3.5,
           19.7112489034392,
           "Bubba Wells"
          ],
          [
           -1.4,
           10.573867157604496,
           "Kebu Stewart"
          ],
          [
           -1,
           10.061229215823134,
           "James Collins"
          ],
          [
           -3.0142857142857147,
           32.874262620736324,
           "Marc Jackson"
          ],
          [
           -4,
           17.753849347864453,
           "Jerald Honeycutt"
          ],
          [
           -1.5153846153846153,
           34.60129499577459,
           "Anthony Johnson"
          ],
          [
           4.8,
           8.862373647430282,
           "Jason Lawson"
          ],
          [
           -1.2357142857142855,
           44.22943563047664,
           "Stephen Jackson"
          ],
          [
           -2.42,
           35.16324311929529,
           "Cedric Henderson"
          ],
          [
           -6.2,
           12.072351331313506,
           "God Shammgod"
          ],
          [
           -3.1999999999999997,
           33.8907804572276,
           "Eric Washington"
          ],
          [
           -2.9000000000000004,
           37.440926310161764,
           "Alvin Williams"
          ],
          [
           -3.05,
           37.235550888901834,
           "Predrag Drobnjak"
          ],
          [
           -1.0857142857142859,
           23.862562828872864,
           "Chris Crawford"
          ],
          [
           -1.2,
           19.20605373313321,
           "DeJuan Wheat"
          ],
          [
           -3.2333333333333334,
           39.44574567493753,
           "Mark Blount"
          ],
          [
           -9.9,
           8.465321415437614,
           "Jamal Robinson"
          ],
          [
           -0.5111111111111111,
           29.77344703167822,
           "Adrian Griffin"
          ],
          [
           -2.033333333333333,
           24.65844457561932,
           "Gerard King"
          ],
          [
           -2.907692307692308,
           28.133270294011282,
           "Kevin Ollie"
          ],
          [
           -8.1,
           6.094191223342651,
           "Etdrick Bohannon"
          ],
          [
           -5.25,
           20.298414346938543,
           "Michael Stewart"
          ],
          [
           -1.5666666666666667,
           23.443904680463678,
           "Keith Closs"
          ],
          [
           -6.5,
           8.837891905501747,
           "Nate Huffman"
          ],
          [
           -2.5,
           5.770904030854551,
           "Derek Grimm"
          ],
          [
           -4.050000000000001,
           14.657307619978047,
           "Travis Williams"
          ],
          [
           -17.5,
           2.8460498941515415,
           "Shea Seals"
          ],
          [
           -7.833333333333333,
           7.37932547354054,
           "Brandon Williams"
          ],
          [
           -4,
           5.022615520489967,
           "Alvin Sims"
          ],
          [
           -3.4,
           19.055970193091717,
           "Charles Shackleford"
          ],
          [
           -2.6444444444444444,
           22.3832981715617,
           "Rick Brunson"
          ],
          [
           -2.9,
           22.976872430047276,
           "Kornel David"
          ],
          [
           -4.26,
           17.64701107836678,
           "Rusty LaRue"
          ],
          [
           -2.5090909090909093,
           32.055869788211766,
           "Troy Hudson"
          ],
          [
           -8.6,
           20.140561616355743,
           "Art Long"
          ],
          [
           -9.55,
           14.761266883299685,
           "Chris Garner"
          ],
          [
           -0.8923076923076925,
           28.072148347080834,
           "Mikki Moore"
          ],
          [
           -0.3,
           15.566577444426665,
           "Gerald Madkins"
          ],
          [
           -3.1500000000000004,
           6.307931515164063,
           "Steve Henson"
          ],
          [
           0.1,
           18.50090087896622,
           "Harold Ellis"
          ],
          [
           -8.3,
           7.797435475847171,
           "Brian Oliver"
          ],
          [
           -5.6,
           4.861412689057914,
           "Reggie Hanson"
          ],
          [
           -3.1999999999999997,
           15.08774337003384,
           "Larry Robinson"
          ],
          [
           -4.588888888888889,
           38.20302004738292,
           "Michael Olowokandi"
          ],
          [
           0.45000000000000007,
           49.255206396307564,
           "Mike Bibby"
          ],
          [
           -0.12999999999999998,
           38.143863639297656,
           "Raef LaFrentz"
          ],
          [
           0.13124999999999998,
           48.50895643246376,
           "Antawn Jamison"
          ],
          [
           2.127272727272727,
           45.917197379103115,
           "Vince Carter"
          ],
          [
           -1.457142857142857,
           29.835122319332356,
           "Robert Traylor"
          ],
          [
           0.11666666666666665,
           43.94959549807535,
           "Jason Williams"
          ],
          [
           -1.0615384615384615,
           41.480920853710515,
           "Larry Hughes"
          ],
          [
           3.7952380952380955,
           49.46741832954773,
           "Dirk Nowitzki"
          ],
          [
           2.9894736842105263,
           49.142808365366015,
           "Paul Pierce"
          ],
          [
           -0.060000000000000074,
           38.908563753155065,
           "Bonzi Wells"
          ],
          [
           -3.79,
           29.63774339138076,
           "Michael Doleac"
          ],
          [
           -1.0166666666666666,
           36.46032089820383,
           "Keon Clark"
          ],
          [
           -2.3,
           38.717476673977586,
           "Michael Dickerson"
          ],
          [
           -0.5545454545454546,
           39.984720566584905,
           "Matt Harpring"
          ],
          [
           -3.6166666666666667,
           25.702620921264472,
           "Bryce Drew"
          ],
          [
           -1.758333333333333,
           38.73271836861212,
           "Rasho Nesterovic"
          ],
          [
           -6.3,
           9.426823431039747,
           "Mirsad Turkcan"
          ],
          [
           -3.28,
           33.25359379074688,
           "Pat Garrity"
          ],
          [
           -4.5,
           26.619572999330146,
           "Roshown McLeod"
          ],
          [
           -1.1333333333333333,
           42.75523684623648,
           "Ricky Davis"
          ],
          [
           -3.992857142857143,
           27.922413765220774,
           "Brian Skinner"
          ],
          [
           -1.9636363636363634,
           33.81479638479957,
           "Tyronn Lue"
          ],
          [
           -2.9,
           32.17475718634098,
           "Felipe Lopez"
          ],
          [
           -2.325,
           41.83444678133081,
           "Al Harrington"
          ],
          [
           -4.133333333333334,
           15.758172482873764,
           "Sam Jacobson"
          ],
          [
           -4.783333333333333,
           24.914955348143813,
           "Vladimir Stepania"
          ],
          [
           -5.4,
           23.38735413280719,
           "Corey Benjamin"
          ],
          [
           -3.888888888888889,
           29.729328330168553,
           "Nazr Mohammed"
          ],
          [
           -2.475,
           17.955024830577837,
           "Ansu Sesay"
          ],
          [
           -0.06999999999999998,
           39.960997651877186,
           "Ruben Patterson"
          ],
          [
           0.64375,
           45.79242682110947,
           "Rashard Lewis"
          ],
          [
           -4.45,
           21.852755356399932,
           "Jelani McCoy"
          ],
          [
           0.2285714285714286,
           27.619605700437116,
           "Shammond Williams"
          ],
          [
           -10.77142857142857,
           8.591565631478346,
           "Bruno Sundov"
          ],
          [
           -3.6222222222222222,
           23.01959310384671,
           "Jerome James"
          ],
          [
           -29.8,
           3.728940868396816,
           "Casey Shaw"
          ],
          [
           -10.3,
           5.9612638481002245,
           "DeMarco Johnson"
          ],
          [
           -1.0363636363636362,
           41.99313616352659,
           "Rafer Alston"
          ],
          [
           9.4,
           3.969466798786293,
           "Korleone Young"
          ],
          [
           -0.5363636363636364,
           50.121135081103084,
           "Cuttino Mobley"
          ],
          [
           -17.4,
           4.314510400960924,
           "Miles Simon"
          ],
          [
           -4.428571428571429,
           29.058061745081215,
           "Jahidi White"
          ],
          [
           -5.7,
           14.371868565381678,
           "Sean Marks"
          ],
          [
           -3.6500000000000004,
           18.69068395395595,
           "Toby Bailey"
          ],
          [
           -1.9,
           12.305960615354923,
           "Andrae Patterson"
          ],
          [
           51.1,
           1.7701224063135663,
           "Tyson Wheeler"
          ],
          [
           -6.7,
           14.118663770579229,
           "Ryan Stack"
          ],
          [
           -8.2,
           24.917463755366434,
           "Cory Carr"
          ],
          [
           -2.425,
           13.049265624292167,
           "Derrick Dial"
          ],
          [
           -1.4,
           32.99653012060512,
           "Greg Buckner"
          ],
          [
           -3.525,
           17.43577500428358,
           "Tremaine Fowlkes"
          ],
          [
           0.41000000000000014,
           25.45384712245545,
           "Ryan Bowen"
          ],
          [
           -4.8,
           18.233759897508797,
           "J.R. Henderson"
          ],
          [
           -7.35,
           9.275909658895985,
           "Torraye Braggs"
          ],
          [
           -0.9500000000000001,
           14.396252405863592,
           "Maceo Baston"
          ],
          [
           -0.5,
           34.976076239208275,
           "Damon Jones"
          ],
          [
           -22.1,
           2.1291625896895074,
           "Jonathan Kerner"
          ],
          [
           1.3857142857142857,
           41.8751162045296,
           "Brad Miller"
          ],
          [
           7.3,
           4.31083905212585,
           "Adonis Jordan"
          ],
          [
           -7.6,
           2.0575065816014613,
           "Kelly McCarty"
          ],
          [
           -10.6,
           5.187324294213087,
           "Makhtar N'diaye"
          ],
          [
           -19.8,
           2.3273733406281574,
           "Peter Aluma"
          ],
          [
           -9.7,
           8.718084652032234,
           "Ike Fontaine"
          ],
          [
           -4.9,
           14.302505607992853,
           "Marlon Garnett"
          ],
          [
           -1.3250000000000002,
           40.80939434329631,
           "Tyrone Nesby"
          ],
          [
           -13.1,
           6.248466478531617,
           "Fred Vinson"
          ],
          [
           -2.9,
           7.498444283094107,
           "Andrew Gaze"
          ],
          [
           -2.6,
           23.35433578588781,
           "Thurl Bailey"
          ],
          [
           -1.7,
           13.553597308463905,
           "Jeff Sheppard"
          ],
          [
           -3.207692307692308,
           30.591673913346302,
           "Anthony Carter"
          ],
          [
           -5.5,
           8.357332110189231,
           "Mark Macon"
          ],
          [
           -63.7,
           1.2583057392117902,
           "Mark Baker"
          ],
          [
           -10.2,
           7.585842075867386,
           "Negele Knight"
          ],
          [
           -0.7538461538461539,
           31.576068104231673,
           "Earl Boykins"
          ],
          [
           -8.75,
           9.5206792474767,
           "Steve Goodrich"
          ],
          [
           -25,
           2.2135943621178655,
           "Trevor Winter"
          ],
          [
           -4.05,
           23.80234582276853,
           "Charles Jones"
          ],
          [
           -6.7,
           15.414711587744126,
           "Gerald Brown"
          ],
          [
           -5.949999999999999,
           11.594574880808128,
           "Randell Jackson"
          ],
          [
           1.1176470588235294,
           45.317409977389744,
           "Elton Brand"
          ],
          [
           1.5333333333333334,
           49.026814280743544,
           "Steve Francis"
          ],
          [
           2.169230769230769,
           46.902230552173435,
           "Baron Davis"
          ],
          [
           1.4428571428571428,
           47.89776314490809,
           "Lamar Odom"
          ],
          [
           -2.6499999999999995,
           21.915899859843005,
           "Jonathan Bender"
          ],
          [
           0.45999999999999996,
           44.79248262822681,
           "Wally Szczerbiak"
          ],
          [
           -0.7071428571428572,
           45.96359195835639,
           "Richard Hamilton"
          ],
          [
           0.9529411764705882,
           48.67299146384179,
           "Andre Miller"
          ],
          [
           2.2875,
           50.05875714264854,
           "Shawn Marion"
          ],
          [
           0.963157894736842,
           47.03204861040212,
           "Jason Terry"
          ],
          [
           -1,
           24.065350841222116,
           "Trajan Langdon"
          ],
          [
           -11.85,
           8.72802001219827,
           "Aleksandar Radojevic"
          ],
          [
           -0.5142857142857143,
           40.856544909044395,
           "Corey Maggette"
          ],
          [
           -5.733333333333333,
           20.010302901810917,
           "William Avery"
          ],
          [
           0.6235294117647059,
           43.00586827262476,
           "Metta World Peace"
          ],
          [
           -2.966666666666667,
           21.43192063773618,
           "Cal Bowdler"
          ],
          [
           0.15,
           44.02683998300228,
           "James Posey"
          ],
          [
           -4.9,
           21.500406972892396,
           "Quincy Lewis"
          ],
          [
           -1.2666666666666666,
           31.966731838654447,
           "Dion Glover"
          ],
          [
           -0.39999999999999997,
           34.811043045974905,
           "Jeff Foster"
          ],
          [
           -1.9090909090909092,
           39.67212592939247,
           "Kenny Thomas"
          ],
          [
           -2.3000000000000003,
           32.58869482355853,
           "Devean George"
          ],
          [
           3.8076923076923075,
           42.90871048979957,
           "Andrei Kirilenko"
          ],
          [
           -6.866666666666667,
           9.369246382595442,
           "Tim James"
          ],
          [
           -2.1999999999999997,
           35.516216953198494,
           "Vonteego Cummings"
          ],
          [
           -2.2625,
           34.9588806075557,
           "Jumaine Jones"
          ],
          [
           -1.0499999999999998,
           26.48358375170049,
           "Scott Padgett"
          ],
          [
           -1.5,
           7.220341635499909,
           "Leon Smith"
          ],
          [
           -7.6,
           13.550830232867652,
           "John Celestand"
          ],
          [
           -3.688888888888889,
           25.716571253513486,
           "Michael Ruffin"
          ],
          [
           -4.6,
           22.403887311506168,
           "Chris Herren"
          ],
          [
           -3.05,
           23.15014398803313,
           "Evan Eschmeyer"
          ],
          [
           -2.4899999999999998,
           21.131051401511783,
           "Calvin Booth"
          ],
          [
           -3.28,
           15.80955407340764,
           "Wang Zhi-zhi"
          ],
          [
           -5.1,
           19.436734979586124,
           "Obinna Ekezie"
          ],
          [
           -2.625,
           19.535629842248074,
           "Laron Profit"
          ],
          [
           -15.9,
           7.794228634059948,
           "A.J. Bramlett"
          ],
          [
           -2.733333333333333,
           38.34879036191653,
           "Gordan Giricek"
          ],
          [
           -3.2,
           28.305855957407143,
           "Francisco Elson"
          ],
          [
           -2.5166666666666666,
           31.135059730863606,
           "Lee Nailon"
          ],
          [
           -5.4,
           4.963197893831486,
           "Ryan Robertson"
          ],
          [
           0.09999999999999998,
           29.300092434438948,
           "Todd MacCulloch"
          ],
          [
           -11.2,
           8.288596584062537,
           "Lari Ketner"
          ],
          [
           -4.16,
           28.900824671048163,
           "Rodney Buford"
          ],
          [
           -4.9,
           11.773133256133093,
           "Tim Young"
          ],
          [
           4.65625,
           40.97704133617589,
           "Manu Ginobili"
          ],
          [
           -4.65,
           11.209110877614997,
           "Harold Jamison"
          ],
          [
           -12.5,
           6.34954066580148,
           "Wayne Turner"
          ],
          [
           -0.47999999999999987,
           32.69509137470031,
           "Eddie Robinson"
          ],
          [
           -6.2,
           0.7427426651719066,
           "Andy Panko"
          ],
          [
           -1.9166666666666667,
           40.64695218859862,
           "Raja Bell"
          ],
          [
           -1.2,
           12.792510829908764,
           "Lazaro Borrell"
          ],
          [
           -18.6,
           1.7888543819998317,
           "Jason Miskiri"
          ],
          [
           -2.7875,
           30.894137119093212,
           "Ira Newble"
          ],
          [
           -3.642857142857143,
           34.66300690388885,
           "Milt Palacio"
          ],
          [
           -5,
           14.99433226255841,
           "Rick Hughes"
          ],
          [
           -29.5,
           1.9832633040858014,
           "Derek Hood"
          ],
          [
           -7.5,
           7.169786142789292,
           "Jamel Thomas"
          ],
          [
           -4.08,
           16.321509325631215,
           "Jermaine Jackson"
          ],
          [
           -5.316666666666667,
           16.106848095004676,
           "Zendon Hamilton"
          ],
          [
           -1,
           22.518732942448892,
           "Dedric Willoughby"
          ],
          [
           -0.6866666666666666,
           39.28235821162811,
           "Kenyon Martin"
          ],
          [
           -2.5444444444444443,
           34.64301543628266,
           "Stromile Swift"
          ],
          [
           -0.9,
           40.931388584173035,
           "Darius Miles"
          ],
          [
           -3.533333333333333,
           31.72270918092868,
           "Marcus Fizer"
          ],
          [
           0.25882352941176473,
           40.44658302540985,
           "Mike Miller"
          ],
          [
           -1.2714285714285716,
           29.055898507794222,
           "DerMarr Johnson"
          ],
          [
           -4.7,
           33.08034726238528,
           "Chris Mihm"
          ],
          [
           0.35,
           44.151180618416085,
           "Jamal Crawford"
          ],
          [
           -3.3461538461538463,
           30.031351139801398,
           "Joel Przybilla"
          ],
          [
           -2.4538461538461536,
           32.972568241043284,
           "Keyon Dooling"
          ],
          [
           -4.680000000000001,
           16.614963135679833,
           "Jerome Moiso"
          ],
          [
           -2.6444444444444444,
           28.064865342036953,
           "Etan Thomas"
          ],
          [
           -3.6666666666666665,
           36.768381646312505,
           "Courtney Alexander"
          ],
          [
           -7.1499999999999995,
           17.613441836657955,
           "Mateen Cleaves"
          ],
          [
           -4.68,
           20.857908172521363,
           "Jason Collier"
          ],
          [
           0.060000000000000026,
           42.20396242587235,
           "Hedo Turkoglu"
          ],
          [
           -2.96,
           44.31178360962991,
           "Desmond Mason"
          ],
          [
           -1.6538461538461537,
           39.99286795391757,
           "Quentin Richardson"
          ],
          [
           -3.9166666666666665,
           34.93829083779954,
           "Jamaal Magloire"
          ],
          [
           -1.6142857142857143,
           34.959551457294744,
           "Speedy Claxton"
          ],
          [
           -1.4909090909090907,
           41.958996940375314,
           "Morris Peterson"
          ],
          [
           -0.36000000000000015,
           25.796498470399673,
           "Donnell Harvey"
          ],
          [
           -3.576923076923077,
           37.611298084348846,
           "DeShawn Stevenson"
          ],
          [
           -8.033333333333333,
           17.98558064425809,
           "Dalibor Bagaric"
          ],
          [
           -2.9714285714285715,
           26.747545503768958,
           "Jake Tsakalidis"
          ],
          [
           -4.62,
           13.159470607386403,
           "Mamadou N'diaye"
          ],
          [
           -5.225,
           27.826590999737405,
           "Primoz Brezec"
          ],
          [
           -5.35,
           11.483248669257312,
           "Erick Barkley"
          ],
          [
           -5.411111111111111,
           24.33679960090922,
           "Mark Madsen"
          ],
          [
           -1.5250000000000001,
           30.5562891326083,
           "Eduardo Najera"
          ],
          [
           -0.9714285714285714,
           40.0993528032323,
           "Marko Jaric"
          ],
          [
           -6.1,
           17.65413077252271,
           "Dan Langhi"
          ],
          [
           -7.333333333333333,
           20.338810737656765,
           "A.J. Guyton"
          ],
          [
           -5.144444444444445,
           26.748897519683286,
           "Jake Voskuhl"
          ],
          [
           -2.4,
           30.58324704801634,
           "Khalid El-Amin"
          ],
          [
           -4.2,
           13.396890186407703,
           "Mike Smith"
          ],
          [
           -3.65,
           12.249421755059842,
           "Soumaila Samake"
          ],
          [
           -0.309090909090909,
           33.5575579708908,
           "Eddie House"
          ],
          [
           -5.333333333333333,
           12.170227789340856,
           "Lavor Postell"
          ],
          [
           -6,
           34.33004029515062,
           "Hanno Mottola"
          ],
          [
           -4.233333333333333,
           13.984833054261165,
           "Olumide Oyedeji"
          ],
          [
           0.2083333333333333,
           40.93756933836366,
           "Michael Redd"
          ],
          [
           -1.4749999999999999,
           23.220710344192515,
           "Brian Cardinal"
          ],
          [
           -4.025,
           16.30423002372902,
           "Jabari Smith"
          ],
          [
           -2.6888888888888887,
           24.24841346471054,
           "Jason Hart"
          ],
          [
           -2.2666666666666666,
           5.144360450478216,
           "Kaniel Dickens"
          ],
          [
           -4.9,
           15.495859662073189,
           "Igor Rakocevic"
          ],
          [
           -18.2,
           4.629254799641083,
           "Ernest Brown"
          ],
          [
           -7.9,
           7.646349891723939,
           "Dan McClintock"
          ],
          [
           -4.5,
           33.83809490303303,
           "Chris Porter"
          ],
          [
           -4.55,
           18.826067920129613,
           "Daniel Santiago"
          ],
          [
           -4.9,
           8.561639251140328,
           "Ruben Garces"
          ],
          [
           -3.9,
           21.842880500781693,
           "Slava Medvedenko"
          ],
          [
           -1.9,
           24.358879284564797,
           "Paul McPherson"
          ],
          [
           -7.3500000000000005,
           12.787559058188808,
           "Ruben Wolkowyski"
          ],
          [
           -1.5714285714285714,
           16.98274334224515,
           "Eddie Gill"
          ],
          [
           -21.1,
           3.5095108870990415,
           "Terrance Roberson"
          ],
          [
           -19.9,
           3.96232255123179,
           "Garth Joseph"
          ],
          [
           -3.63,
           26.947405564667378,
           "Malik Allen"
          ],
          [
           -3.7,
           20.251913489840906,
           "David Vanterpool"
          ],
          [
           6.25,
           20.718369466088134,
           "Mike Penberthy"
          ],
          [
           -2.3714285714285714,
           28.564225877835383,
           "Ime Udoka"
          ],
          [
           2.3,
           9.590055613325026,
           "Pepe Sanchez"
          ],
          [
           -8.9,
           6.684933308069221,
           "Sean Colson"
          ],
          [
           -2.966666666666667,
           33.396841583865054,
           "Kwame Brown"
          ],
          [
           -0.3210526315789474,
           40.79428602059147,
           "Tyson Chandler"
          ],
          [
           3.477777777777778,
           47.71519382987165,
           "Pau Gasol"
          ],
          [
           -6.7272727272727275,
           34.53952720281415,
           "Eddy Curry"
          ],
          [
           0.9230769230769231,
           47.42659375152082,
           "Jason Richardson"
          ],
          [
           1.6538461538461537,
           48.04487352251927,
           "Shane Battier"
          ],
          [
           -1.52,
           36.66470146248752,
           "Eddie Griffin"
          ],
          [
           -3.4916666666666667,
           26.454510222476447,
           "DeSagana Diop"
          ],
          [
           -2.375,
           28.97127168995752,
           "Rodney White"
          ],
          [
           0.24705882352941183,
           51.00940705245589,
           "Joe Johnson"
          ],
          [
           -1.0750000000000002,
           21.997537740998805,
           "Kedrick Brown"
          ],
          [
           -0.7916666666666666,
           36.71525946766247,
           "Vladimir Radmanovic"
          ],
          [
           -0.31764705882352945,
           44.919524991813915,
           "Richard Jefferson"
          ],
          [
           -0.5333333333333333,
           40.761601961214005,
           "Troy Murphy"
          ],
          [
           -3.275,
           27.378591849594237,
           "Steven Hunter"
          ],
          [
           -13.600000000000001,
           8.228304807188415,
           "Kirk Haston"
          ],
          [
           -4.92,
           20.050569401723585,
           "Michael Bradley"
          ],
          [
           -5.007692307692308,
           33.941952711153114,
           "Jason Collins"
          ],
          [
           -0.07058823529411762,
           45.12935656010853,
           "Zach Randolph"
          ],
          [
           -1.9846153846153847,
           37.91963499229281,
           "Brendan Haywood"
          ],
          [
           -8.1,
           7.829591304787242,
           "Joseph Forte"
          ],
          [
           -4.949999999999999,
           23.00566959106675,
           "Jeryl Sasser"
          ],
          [
           -8.200000000000001,
           15.175620067873478,
           "Brandon Armstrong"
          ],
          [
           -2.0999999999999996,
           32.7019240004825,
           "Raul Lopez"
          ],
          [
           0.6214285714285716,
           42.033664229655585,
           "Gerald Wallace"
          ],
          [
           -1.4153846153846152,
           40.8142791754967,
           "Samuel Dalembert"
          ],
          [
           -1.1363636363636365,
           36.235542571549075,
           "Jamaal Tinsley"
          ],
          [
           0.7222222222222222,
           46.12250294355,
           "Tony Parker"
          ],
          [
           -3.1500000000000004,
           28.240868730736082,
           "Will Solomon"
          ],
          [
           -7.266666666666667,
           13.156726205422245,
           "Alton Ford"
          ],
          [
           -2.3916666666666666,
           34.59477521566257,
           "Mike James"
          ],
          [
           -1.8333333333333333,
           34.81519197983249,
           "Maurice Evans"
          ],
          [
           -6.1,
           2.3769728648009427,
           "Ratko Varda"
          ],
          [
           -3.4,
           17.814320082450525,
           "Antonis Fotsis"
          ],
          [
           -3.2444444444444445,
           42.528410983021004,
           "Trenton Hassell"
          ],
          [
           1.6272727272727274,
           41.946338374526846,
           "Gilbert Arenas"
          ],
          [
           -1.6,
           10.282630986279727,
           "Omar Cook"
          ],
          [
           -3,
           25.42764243888924,
           "Terence Morris"
          ],
          [
           -2.727272727272727,
           24.78480717428858,
           "Brian Scalabrine"
          ],
          [
           -2.7000000000000006,
           9.479334247602928,
           "Jeff Trepagnier"
          ],
          [
           -10.549999999999999,
           9.302150289046077,
           "Damone Brown"
          ],
          [
           0.21000000000000005,
           42.93790865889954,
           "Mehmet Okur"
          ],
          [
           -1.7999999999999998,
           38.731124435007075,
           "Earl Watson"
          ],
          [
           -1.9,
           10.772089707511112,
           "Jamison Brewer"
          ],
          [
           -2.5700000000000003,
           33.93217990836034,
           "Bobby Simmons"
          ],
          [
           0.40000000000000013,
           16.56811697206415,
           "Sean Lampley"
          ],
          [
           -1.9000000000000001,
           20.05155854291631,
           "Loren Woods"
          ],
          [
           -6.8,
           12.473906097663754,
           "Ken Johnson"
          ],
          [
           -1.5666666666666664,
           9.56663763061795,
           "Ruben Boumtje-Boumtje"
          ],
          [
           -4.32,
           29.23101948273444,
           "Jarron Collins"
          ],
          [
           -4.15,
           23.00592315035413,
           "Kenny Satterfield"
          ],
          [
           -8.7,
           11.161242463692517,
           "Alvin Jones"
          ],
          [
           -3.457142857142857,
           36.576856461038695,
           "Charlie Bell"
          ],
          [
           -1.3222222222222222,
           34.37670938510765,
           "Carlos Arroyo"
          ],
          [
           -13.799999999999999,
           6.308415895540745,
           "Paul Shirley"
          ],
          [
           3.6,
           12.428126702497565,
           "Joe Crispin"
          ],
          [
           -0.2,
           9.896800829897847,
           "Tang Hamilton"
          ],
          [
           -8.8,
           9.770192765072075,
           "Victor Alexander"
          ],
          [
           -0.8,
           24.299365560990857,
           "Oscar Torres"
          ],
          [
           -5.45,
           10.799537027113708,
           "Dean Oliver"
          ],
          [
           -7.325,
           20.282720478279064,
           "Tierre Brown"
          ],
          [
           -0.07333333333333335,
           28.590536507344133,
           "Chris Andersen"
          ],
          [
           -2.414285714285714,
           17.83758738757918,
           "Mike Wilks"
          ],
          [
           0.6,
           3.9251326941476385,
           "Geno Carlisle"
          ],
          [
           -6.4,
           8.274257267775356,
           "Norman Richardson"
          ],
          [
           -9.799999999999999,
           12.827639429502742,
           "Mengke Bateer"
          ],
          [
           3.0625,
           44.49528767184228,
           "Yao Ming"
          ],
          [
           -2,
           44.28532488308063,
           "Jay Williams"
          ],
          [
           -0.05999999999999999,
           42.6955306013795,
           "Mike Dunleavy"
          ],
          [
           -1.7857142857142858,
           37.92334530401583,
           "Drew Gooden"
          ],
          [
           -6.9,
           22.01754981826995,
           "Nikoloz Tskitishvili"
          ],
          [
           -3.625,
           23.470273752131632,
           "Dajuan Wagner"
          ],
          [
           -3.8470588235294123,
           38.53384684846787,
           "Nene"
          ],
          [
           -1.9454545454545453,
           33.67864398407484,
           "Chris Wilcox"
          ],
          [
           0.5499999999999999,
           43.300834425040385,
           "Amar'e Stoudemire"
          ],
          [
           -0.5,
           44.978890551436415,
           "Caron Butler"
          ],
          [
           -2.7363636363636363,
           35.13440858569654,
           "Jared Jeffries"
          ],
          [
           -5.144444444444444,
           25.841518416572846,
           "Melvin Ely"
          ],
          [
           -4.7250000000000005,
           14.600485151756669,
           "Marcus Haislip"
          ],
          [
           -1.4285714285714286,
           38.34130248427244,
           "Fred Jones"
          ],
          [
           -2.8333333333333335,
           30.600562812543906,
           "Bostjan Nachbar"
          ],
          [
           -3.275,
           33.918130599037056,
           "Jiri Welsch"
          ],
          [
           -2.4,
           34.86136147383693,
           "Juan Dixon"
          ],
          [
           -3.5,
           23.597898917770912,
           "Curtis Borchardt"
          ],
          [
           -10.033333333333333,
           16.043759603728247,
           "Ryan Humphrey"
          ],
          [
           -3.4714285714285715,
           29.180354611246507,
           "Kareem Rush"
          ],
          [
           -3.8249999999999997,
           22.649714862075726,
           "Qyntel Woods"
          ],
          [
           -2.825,
           36.49816776223156,
           "Casey Jacobsen"
          ],
          [
           0,
           47.4918251110752,
           "Tayshaun Prince"
          ],
          [
           -2.757142857142857,
           38.82144412318434,
           "Nenad Krstic"
          ],
          [
           -3.8333333333333335,
           17.794927491969286,
           "Frank Williams"
          ],
          [
           -1.2538461538461538,
           42.644652774485216,
           "John Salmons"
          ],
          [
           -5.05,
           20.786834775886398,
           "Chris Jefferies"
          ],
          [
           -2.4666666666666663,
           27.710276874193177,
           "Dan Dickau"
          ],
          [
           -8.25,
           12.740650166560059,
           "Robert Archibald"
          ],
          [
           -2.38,
           30.238118878880886,
           "Roger Mason Jr."
          ],
          [
           -2.4,
           37.13827764809066,
           "Vincent Yarbrough"
          ],
          [
           -4.5600000000000005,
           27.89171023799006,
           "Dan Gadzuric"
          ],
          [
           1.2,
           45.50008171308526,
           "Carlos Boozer"
          ],
          [
           -3,
           25.132896768975915,
           "David Andersen"
          ],
          [
           -1.4,
           5.833380952186587,
           "Tito Maddox"
          ],
          [
           -2.3,
           46.01260696809082,
           "Juan Carlos Navarro"
          ],
          [
           -7.4,
           16.794096184870057,
           "Mario Kasun"
          ],
          [
           -3.1125,
           37.21044880137834,
           "Flip Murray"
          ],
          [
           -8.725000000000001,
           21.70399348814253,
           "Lonny Baxter"
          ],
          [
           -0.40714285714285714,
           39.59795419198416,
           "Matt Barnes"
          ],
          [
           -0.2799999999999998,
           11.222997222964398,
           "Jamal Sampson"
          ],
          [
           -0.5,
           2.513297966152575,
           "Chris Owens"
          ],
          [
           -3.125,
           33.941401709416766,
           "Darius Songaila"
          ],
          [
           -1.3153846153846152,
           36.390511936140165,
           "Rasual Butler"
          ],
          [
           -6.8,
           13.036082404021718,
           "Tamar Slay"
          ],
          [
           -0.9399999999999998,
           43.59058575732454,
           "Luis Scola"
          ],
          [
           -1.7,
           3.243454948045371,
           "Randy Holcomb"
          ],
          [
           -6.2,
           10.489677465648455,
           "Corsley Edwards"
          ],
          [
           -2.85,
           31.13885568439103,
           "J.R. Bremer"
          ],
          [
           -5.3,
           15.995936984121936,
           "Predrag Savovic"
          ],
          [
           -4.533333333333333,
           32.07861870121246,
           "Junior Harrington"
          ],
          [
           -17.15,
           7.110907115129546,
           "Cezary Trybanski"
          ],
          [
           -1.9727272727272727,
           26.009715550738015,
           "Jannero Pargo"
          ],
          [
           5.6,
           1.795828499606797,
           "Guy Rucker"
          ],
          [
           -8,
           10.44030650891055,
           "Maurice Carter"
          ],
          [
           -6.266666666666667,
           20.785291273718865,
           "Pat Burke"
          ],
          [
           -3.3600000000000003,
           37.587936894700675,
           "Smush Parker"
          ],
          [
           -3.5,
           35.34814940936329,
           "Mike Batiste"
          ],
          [
           -2.3625,
           33.55672436338208,
           "Devin Brown"
          ],
          [
           -7.1,
           4.378355855797928,
           "Maurice Baker"
          ],
          [
           -5.2,
           10.470036612479777,
           "Adam Harrington"
          ],
          [
           -1.525,
           19.067096440377767,
           "Richie Frahm"
          ],
          [
           -2.9384615384615387,
           34.61933097162735,
           "Reggie Evans"
          ],
          [
           -14.7,
           9.45480477499844,
           "Antoine Rigaudeau"
          ],
          [
           8.877777777777778,
           52.73412697815475,
           "LeBron James"
          ],
          [
           -7.1,
           29.388623082183805,
           "Darko Milicic"
          ],
          [
           1.1333333333333333,
           48.14278146729173,
           "Carmelo Anthony"
          ],
          [
           1.9076923076923078,
           49.565574281411834,
           "Chris Bosh"
          ],
          [
           4.53125,
           47.293515015274565,
           "Dwyane Wade"
          ],
          [
           -2.0461538461538464,
           38.880118180679325,
           "Chris Kaman"
          ],
          [
           -0.5153846153846154,
           45.58593884645594,
           "Kirk Hinrich"
          ],
          [
           -0.7749999999999999,
           38.55892946733179,
           "T.J. Ford"
          ],
          [
           -2.825,
           30.026883787699315,
           "Michael Sweetney"
          ],
          [
           -2.3285714285714287,
           37.607509381834376,
           "Jarvis Hayes"
          ],
          [
           -1.27,
           34.56997251951468,
           "Mickael Pietrus"
          ],
          [
           -1.4714285714285715,
           36.45335408175116,
           "Nick Collison"
          ],
          [
           -2.6875,
           26.360999443622518,
           "Marcus Banks"
          ],
          [
           -1.0333333333333334,
           42.44987567054167,
           "Luke Ridnour"
          ],
          [
           -5.866666666666667,
           14.006268437937193,
           "Reece Gaines"
          ],
          [
           -19.6,
           5.9076221950967716,
           "Troy Bell"
          ],
          [
           -3.8000000000000003,
           22.77088784683929,
           "Zarko Cabarkapa"
          ],
          [
           1.54,
           44.07469543601837,
           "David West"
          ],
          [
           -3.46,
           29.80849151947589,
           "Sasha Pavlovic"
          ],
          [
           -3.9923076923076923,
           27.447850319824443,
           "Dahntay Jones"
          ],
          [
           -0.18571428571428572,
           45.321543022107726,
           "Boris Diaw"
          ],
          [
           -3.3666666666666667,
           22.89745255117549,
           "Zoran Planinic"
          ],
          [
           -1.2909090909090908,
           34.41159512123608,
           "Travis Outlaw"
          ],
          [
           -3.744444444444445,
           25.034172940499047,
           "Brian Cook"
          ],
          [
           -0.11250000000000002,
           38.05336986829593,
           "Carlos Delfino"
          ],
          [
           -4.3,
           6.535480089480803,
           "Ndudi Ebi"
          ],
          [
           -2.2214285714285715,
           35.00495373106905,
           "Kendrick Perkins"
          ],
          [
           -0.7071428571428572,
           36.23780418818105,
           "Leandro Barbosa"
          ],
          [
           -0.7,
           39.173458276406144,
           "Josh Howard"
          ],
          [
           -10.166666666666666,
           14.51374827151446,
           "Maciej Lampe"
          ],
          [
           -3.3555555555555556,
           31.73265638867131,
           "Jason Kapono"
          ],
          [
           -1.81,
           31.092493735090894,
           "Luke Walton"
          ],
          [
           -6.2,
           22.57325113196296,
           "Travis Hansen"
          ],
          [
           -1.4461538461538461,
           40.0177380541974,
           "Steve Blake"
          ],
          [
           -26.2,
           1.6583123951777,
           "Slavko Vranes"
          ],
          [
           -10.4,
           5.646532859492921,
           "Derrick Zimmerman"
          ],
          [
           -3.0083333333333333,
           35.101210805326936,
           "Willie Green"
          ],
          [
           -1.7249999999999999,
           37.27672419441745,
           "Zaza Pachulia"
          ],
          [
           -2.0818181818181816,
           36.345436544025134,
           "Keith Bogans"
          ],
          [
           0.8916666666666667,
           33.349627267615595,
           "Matt Bonner"
          ],
          [
           -0.7,
           42.859120741905464,
           "Mo Williams"
          ],
          [
           -6.4,
           7.390421729058045,
           "James Lang"
          ],
          [
           -0.5285714285714286,
           28.14565855044247,
           "James Jones"
          ],
          [
           0.5647058823529412,
           42.81512583188329,
           "Kyle Korver"
          ],
          [
           -4.2,
           17.62871710212252,
           "Brandon Hunter"
          ],
          [
           -14,
           8.975429423338657,
           "Andreas Glyniadakis"
          ],
          [
           -5.2,
           2.262005010309807,
           "Jerome Beasley"
          ],
          [
           -5.4,
           18.525500443082947,
           "Theron Smith"
          ],
          [
           -1.17,
           34.21532551357652,
           "Marquis Daniels"
          ],
          [
           -1.6333333333333333,
           34.615186134283775,
           "Udonis Haslem"
          ],
          [
           -3.642857142857143,
           34.71926869978137,
           "Quinton Ross"
          ],
          [
           -15.05,
           3.821866908549623,
           "Kirk Penney"
          ],
          [
           -5.7,
           0.39157800414902394,
           "Alex Scales"
          ],
          [
           -9.8,
           13.702493690322703,
           "Britton Johnsen"
          ],
          [
           -3.4166666666666665,
           17.13325226958774,
           "Ronald Dupree"
          ],
          [
           0.1,
           4.15732285651876,
           "Yuta Tabuse"
          ],
          [
           -4.8,
           9.292828776355814,
           "Desmond Penigar"
          ],
          [
           -3.425,
           11.0491892613591,
           "Josh Davis"
          ],
          [
           -5.216666666666667,
           18.754932684496634,
           "Linton Johnson"
          ],
          [
           -10.5,
           6.521247324451565,
           "Hiram Fuller"
          ],
          [
           -4.529999999999999,
           27.548417982405688,
           "Matt Carroll"
          ],
          [
           -8.5,
           8.896207056942872,
           "Alex Garcia"
          ],
          [
           -3.9,
           10.626852779633301,
           "Melvin Sanders"
          ],
          [
           -9.4,
           1.6683325008322922,
           "Brandin Knight"
          ],
          [
           -3.625,
           30.483096408774927,
           "Keith McLeod"
          ],
          [
           -6.557142857142857,
           23.802690924307164,
           "Josh Powell"
          ],
          [
           -1.5,
           20.779196327096003,
           "Lynn Greer"
          ],
          [
           1.4,
           5.541660400998964,
           "Desmond Ferguson"
          ],
          [
           1.423529411764706,
           47.58415661524657,
           "Dwight Howard"
          ],
          [
           -0.6900000000000001,
           43.652674603052674,
           "Emeka Okafor"
          ],
          [
           -1.2363636363636363,
           43.040180311101395,
           "Ben Gordon"
          ],
          [
           -1.2357142857142858,
           35.044447967307654,
           "Shaun Livingston"
          ],
          [
           0.3733333333333333,
           39.97224175738848,
           "Devin Harris"
          ],
          [
           -0.375,
           36.10370479604551,
           "Josh Childress"
          ],
          [
           0.46,
           45.41514921012345,
           "Luol Deng"
          ],
          [
           -6.766666666666667,
           22.977464805519528,
           "Rafael Araujo"
          ],
          [
           1.8352941176470587,
           47.76359677066403,
           "Andre Iguodala"
          ],
          [
           -2.8,
           13.454413773925635,
           "Luke Jackson"
          ],
          [
           -1.52,
           33.383488932904136,
           "Andris Biedrins"
          ],
          [
           -4.65,
           19.342580403520795,
           "Robert Swift"
          ],
          [
           -3.17,
           34.854105449238915,
           "Sebastian Telfair"
          ],
          [
           -2.1076923076923078,
           33.08261027434355,
           "Kris Humphries"
          ],
          [
           0.8571428571428571,
           43.33631491574,
           "Al Jefferson"
          ],
          [
           -1.35,
           29.721807369898173,
           "Kirk Snyder"
          ],
          [
           0.16923076923076918,
           47.23002766059441,
           "Josh Smith"
          ],
          [
           -0.6000000000000001,
           40.5273004693544,
           "JR Smith"
          ],
          [
           -1.0545454545454545,
           33.415093668108796,
           "Dorell Wright"
          ],
          [
           -0.21428571428571433,
           41.86732303473962,
           "Jameer Nelson"
          ],
          [
           -17.35,
           3.5810845656960804,
           "Pavel Podkolzin"
          ],
          [
           -3.2,
           24.273253455878823,
           "Viktor Khryapa"
          ],
          [
           -5.3,
           18.521968937813632,
           "Sergei Monia"
          ],
          [
           0.8125,
           38.47110928995941,
           "Delonte West"
          ],
          [
           -0.04999999999999995,
           35.9033623574649,
           "Tony Allen"
          ],
          [
           0.3,
           42.38908238633571,
           "Kevin Martin"
          ],
          [
           -2.39,
           29.843528053275907,
           "Sasha Vujacic"
          ],
          [
           -1.1384615384615384,
           37.40742933202934,
           "Beno Udrih"
          ],
          [
           -5.15,
           25.914153147138194,
           "David Harrison"
          ],
          [
           -0.6785714285714286,
           32.831418242432406,
           "Anderson Varejao"
          ],
          [
           -5.25,
           23.576983833108645,
           "Jackson Vroman"
          ],
          [
           -10,
           4.4237992721189325,
           "Peter John Ramos"
          ],
          [
           -5.3,
           20.600040453034723,
           "Lionel Chalmers"
          ],
          [
           -2.7,
           16.743705284872494,
           "Donta Smith"
          ],
          [
           -6.65,
           5.951890455981192,
           "Andre Emmett"
          ],
          [
           -3.5,
           19.844436667909395,
           "Antonio Burks"
          ],
          [
           -5.7700000000000005,
           24.8314686100789,
           "Royal Ivey"
          ],
          [
           -1.511111111111111,
           41.52636824066439,
           "Chris Duhon"
          ],
          [
           -5,
           21.828256407184192,
           "Justin Reed"
          ],
          [
           0.6764705882352942,
           43.71592903027903,
           "Trevor Ariza"
          ],
          [
           -2.3,
           25.23369660680819,
           "Bernard Robinson"
          ],
          [
           -9.649999999999999,
           12.487960869039709,
           "Ha Ha"
          ],
          [
           -4.566666666666666,
           17.086674470020327,
           "Pape Sow"
          ],
          [
           -5.9,
           16.48949160324032,
           "Vassilis Spanoulis"
          ],
          [
           -5.800000000000001,
           17.08844638930058,
           "Matt Freije"
          ],
          [
           -4.8,
           8.622161368628326,
           "Luis Flores"
          ],
          [
           -4.1,
           14.948459070132566,
           "DJ Mbenga"
          ],
          [
           -4.7,
           10.075713374247998,
           "Horace Jenkins"
          ],
          [
           -4.1,
           3.4544657088084256,
           "Tony Bobbitt"
          ],
          [
           -2.5,
           38.756273685688626,
           "Andres Nocioni"
          ],
          [
           -3.5,
           15.474225882630348,
           "Gerald Fitch"
          ],
          [
           -8.033333333333333,
           14.125410515175197,
           "Andre Brown"
          ],
          [
           -7.2,
           14.652360446926853,
           "John Edwards"
          ],
          [
           -3.4000000000000004,
           6.547009495436321,
           "Desmon Farmer"
          ],
          [
           -20.3,
           3.3015148038438356,
           "Ibrahim Kutluay"
          ],
          [
           -4.5,
           11.475989427205548,
           "James Thomas"
          ],
          [
           -7.6,
           8.414570696119917,
           "Erik Daniels"
          ],
          [
           -5.8,
           11.573869035220868,
           "Awvee Storey"
          ],
          [
           -9.8375,
           15.74705660327246,
           "Earl Barron"
          ],
          [
           -2.9749999999999996,
           14.256548203077303,
           "Andre Barrett"
          ],
          [
           -2.41,
           33.15057314738315,
           "Damien Wilkins"
          ],
          [
           14.833333333333334,
           16.802843674674698,
           "Jackie Butler"
          ],
          [
           -3.8,
           17.441186886218496,
           "Kasib Powell"
          ],
          [
           -5.266666666666667,
           13.207363266164986,
           "Billy Thomas"
          ],
          [
           -8.15,
           13.69805338968523,
           "Jared Reiner"
          ],
          [
           -6.9,
           10.730719143344169,
           "Mark Jones"
          ],
          [
           0.5357142857142857,
           37.666934786234926,
           "Andrew Bogut"
          ],
          [
           -0.36666666666666664,
           44.83938373052572,
           "Marvin Williams"
          ],
          [
           7.25625,
           48.577447828184624,
           "Chris Paul"
          ],
          [
           -0.7285714285714285,
           45.37895988230668,
           "Raymond Felton"
          ],
          [
           -2.7,
           37.302814907188996,
           "Martell Webster"
          ],
          [
           -0.7909090909090909,
           35.131506191348066,
           "Charlie Villanueva"
          ],
          [
           -0.8,
           38.99893818409908,
           "Channing Frye"
          ],
          [
           -4.516666666666667,
           21.583494207894645,
           "Ike Diogu"
          ],
          [
           1.6333333333333335,
           49.044631034735445,
           "Deron Williams"
          ],
          [
           0.3875,
           36.5548873841333,
           "Andrew Bynum"
          ],
          [
           -4.85,
           9.154279509242302,
           "Yaroslav Korolev"
          ],
          [
           -2.9250000000000003,
           21.61325789108775,
           "Sean May"
          ],
          [
           -2.35,
           35.48421010346243,
           "Rashad McCants"
          ],
          [
           -6.033333333333334,
           30.859839957819307,
           "Antoine Wright"
          ],
          [
           -4.083333333333333,
           31.927535138184414,
           "Joey Graham"
          ],
          [
           0.16000000000000006,
           42.99745922726132,
           "Danny Granger"
          ],
          [
           -1.925,
           32.94622934081801,
           "Gerald Green"
          ],
          [
           -2.425,
           36.442145930227554,
           "Hakim Warrick"
          ],
          [
           -5.6499999999999995,
           6.9766276476054925,
           "Julius Hodge"
          ],
          [
           -0.3909090909090909,
           35.52055742805847,
           "Nate Robinson"
          ],
          [
           -0.9769230769230769,
           43.09224452800687,
           "Jarrett Jack"
          ],
          [
           -0.49000000000000005,
           34.4300716428725,
           "Francisco Garcia"
          ],
          [
           -0.4833333333333332,
           36.04485246035681,
           "Luther Head"
          ],
          [
           -4.6125,
           30.12873766577904,
           "Johan Petro"
          ],
          [
           -3.3,
           33.73078218284697,
           "Jason Maxiell"
          ],
          [
           -2.9571428571428577,
           34.194562363599516,
           "Linas Kleiza"
          ],
          [
           -1.366666666666667,
           29.37046891768064,
           "Ian Mahinmi"
          ],
          [
           -4.65,
           15.922625411658723,
           "Wayne Simien"
          ],
          [
           1.1,
           44.99357978892345,
           "David Lee"
          ],
          [
           -3.033333333333333,
           29.84235431582284,
           "Salim Stoudamire"
          ],
          [
           -3,
           29.009122128507553,
           "Daniel Ewing"
          ],
          [
           -1.325,
           36.98087531263813,
           "Brandon Bass"
          ],
          [
           -0.9133333333333333,
           33.94195699196563,
           "CJ Miles"
          ],
          [
           -0.3384615384615384,
           38.18808379049338,
           "Ersan Ilyasova"
          ],
          [
           -0.4600000000000001,
           28.317691760923335,
           "Ronny Turiaf"
          ],
          [
           -0.36,
           23.068586143642758,
           "Travis Diener"
          ],
          [
           -13.416666666666666,
           20.305007592545586,
           "Von Wafer"
          ],
          [
           -0.6749999999999999,
           49.16830646982982,
           "Monta Ellis"
          ],
          [
           -3.1999999999999997,
           22.208969659426646,
           "Roko Ukic"
          ],
          [
           -0.7,
           11.996318879834222,
           "Chris Taft"
          ],
          [
           -52,
           2.4228082879171433,
           "Mile Ilic"
          ],
          [
           5.2,
           3.0605010483034754,
           "Martynas Andriuskevicius"
          ],
          [
           0.86875,
           40.54556079276744,
           "Lou Williams"
          ],
          [
           -1.8,
           12.75228737651928,
           "Bracey Wright"
          ],
          [
           -1.9666666666666668,
           27.97391642226735,
           "Mickael Gelabale"
          ],
          [
           -1.6888888888888889,
           37.21170664066768,
           "Andray Blatche"
          ],
          [
           -2.8875,
           41.022201813977105,
           "Ryan Gomes"
          ],
          [
           -5.1,
           14.554380783805266,
           "Robert Whaley"
          ],
          [
           -1.1500000000000004,
           19.712823660416248,
           "Orien Greene"
          ],
          [
           -0.19999999999999996,
           6.808022228714203,
           "Dijon Thompson"
          ],
          [
           -2.35,
           23.97324898020013,
           "Lawrence Roberts"
          ],
          [
           0.1285714285714286,
           36.175290830436545,
           "Amir Johnson"
          ],
          [
           0.050000000000000024,
           41.52249724881415,
           "Marcin Gortat"
          ],
          [
           -9.450000000000001,
           10.832474324917639,
           "Alex Acker"
          ],
          [
           -5.6,
           8.484888528044037,
           "Uros Slokar"
          ],
          [
           -3.5,
           28.48915973176854,
           "Fabricio Oberto"
          ],
          [
           -4.2,
           11.598132033507248,
           "Arvydas Macijauskas"
          ],
          [
           -3.0749999999999997,
           24.652763536772092,
           "Ronnie Price"
          ],
          [
           -1.2,
           35.56577240362797,
           "Sarunas Jasikevicius"
          ],
          [
           0.14285714285714285,
           41.09410512701884,
           "Jose Calderon"
          ],
          [
           -2.7,
           20.41861895427798,
           "Donell Taylor"
          ],
          [
           -4.4,
           12.263122223425272,
           "Shavlik Randolph"
          ],
          [
           -7.2,
           2.183651376326663,
           "Deng Gai"
          ],
          [
           -2.8,
           17.359051433378106,
           "Rawle Marshall"
          ],
          [
           -3.1624999999999996,
           29.13828738389864,
           "Alan Anderson"
          ],
          [
           -0.6,
           11.883111264872218,
           "Eddie Basden"
          ],
          [
           -0.5599999999999999,
           25.511134823837217,
           "James Singleton"
          ],
          [
           -15.7,
           1.8393839548428519,
           "Matt Walsh"
          ],
          [
           -2,
           14.03196747113928,
           "Anthony Roberson"
          ],
          [
           -5.199999999999999,
           11.545850625513328,
           "Luke Schenscher"
          ],
          [
           -3.775,
           28.745394558665097,
           "Will Bynum"
          ],
          [
           -6.2,
           11.28407432328117,
           "Dwayne Jones"
          ],
          [
           -6.2,
           18.444059567604228,
           "Kevin Burleson"
          ],
          [
           -6.5,
           11.602298622830435,
           "Devin Green"
          ],
          [
           -3.6166666666666667,
           22.03836931858213,
           "Stephen Graham"
          ],
          [
           -5.050000000000001,
           16.971962172948658,
           "Esteban Batista"
          ],
          [
           -14.9,
           3.610170817749944,
           "Sharrod Ford"
          ],
          [
           -4.8,
           19.608657385054304,
           "Jawad Williams"
          ],
          [
           -15.266666666666666,
           5.991614510667761,
           "Will Conroy"
          ],
          [
           -0.4,
           10.392625590613134,
           "Anthony Grundy"
          ],
          [
           -5,
           10.868455885420568,
           "Aaron Miles"
          ],
          [
           -12.5,
           9.034009814768485,
           "Noel Felix"
          ],
          [
           -18.9,
           3.646916505762094,
           "Roger Powell"
          ],
          [
           -2.82,
           31.701225002618852,
           "Kelenna Azubuike"
          ],
          [
           -1.2,
           32.773002562623056,
           "Chuck Hayes"
          ],
          [
           -5,
           12.310090711823896,
           "Boniface Ndong"
          ],
          [
           -15.1,
           3.0983866769659336,
           "Keith Langford"
          ],
          [
           -2.2625,
           19.12696612987364,
           "John Lucas III"
          ],
          [
           -4.65,
           17.34985590718263,
           "Andre Owens"
          ],
          [
           -0.68,
           35.92237928274424,
           "Jamario Moon"
          ],
          [
           -1.86,
           39.75748776436124,
           "Andrea Bargnani"
          ],
          [
           1.52,
           48.436765191559005,
           "LaMarcus Aldridge"
          ],
          [
           -4.866666666666666,
           33.054525660893496,
           "Adam Morrison"
          ],
          [
           0.6375000000000002,
           31.48892662508521,
           "Tyrus Thomas"
          ],
          [
           -2.9499999999999997,
           30.512256189567122,
           "Shelden Williams"
          ],
          [
           1.9666666666666668,
           43.89368468875171,
           "Brandon Roy"
          ],
          [
           -1.4363636363636365,
           41.864603186940634,
           "Randy Foye"
          ],
          [
           0.74,
           46.69505684045511,
           "Rudy Gay"
          ],
          [
           -4.875,
           11.44308379182232,
           "Patrick O'Bryant"
          ],
          [
           -0.9333333333333336,
           9.304598624097412,
           "Mouhamed Sene"
          ],
          [
           0.28666666666666674,
           39.97062393530752,
           "JJ Redick"
          ],
          [
           -3.683333333333333,
           23.73174737210334,
           "Hilton Armstrong"
          ],
          [
           0.4428571428571429,
           36.897672206871185,
           "Thabo Sefolosha"
          ],
          [
           0.95,
           37.977633220094155,
           "Ronnie Brewer"
          ],
          [
           -5.966666666666666,
           15.335072365151863,
           "Cedric Simmons"
          ],
          [
           -1.7600000000000002,
           30.32759469526063,
           "Rodney Carney"
          ],
          [
           -3.1142857142857143,
           27.69113662562532,
           "Shawne Williams"
          ],
          [
           -4.833333333333333,
           18.655011242142,
           "Oleksiy Pecherov"
          ],
          [
           -3.5666666666666664,
           22.62919697107159,
           "Quincy Douby"
          ],
          [
           -1.0166666666666666,
           22.60003687312626,
           "Renaldo Balkman"
          ],
          [
           0.8666666666666667,
           43.10633235255453,
           "Rajon Rondo"
          ],
          [
           -4.35,
           27.812984078184318,
           "Marcus Williams"
          ],
          [
           -2.1,
           33.472171277047416,
           "Josh Boone"
          ],
          [
           3.046666666666667,
           45.079548208324645,
           "Kyle Lowry"
          ],
          [
           -3.466666666666667,
           28.536578216322557,
           "Shannon Brown"
          ],
          [
           -0.41,
           31.369629686476472,
           "Jordan Farmar"
          ],
          [
           -2.04,
           32.49561508880854,
           "Sergio Rodriguez"
          ],
          [
           -7.8,
           11.244702456416233,
           "Maurice Ager"
          ],
          [
           -4.7,
           26.320112715057533,
           "Mardy Collins"
          ],
          [
           -3.5333333333333337,
           24.638925842387422,
           "Joel Freeland"
          ],
          [
           -1.5666666666666667,
           13.942341585576244,
           "James White"
          ],
          [
           -0.25454545454545446,
           22.678246819096913,
           "Steve Novak"
          ],
          [
           -5.625,
           19.6623000095784,
           "Solomon Jones"
          ],
          [
           1.1999999999999997,
           13.242592268887542,
           "Paul Davis"
          ],
          [
           -1.23,
           45.331058153691195,
           "P.J. Tucker"
          ],
          [
           -1.1833333333333333,
           33.72814106943932,
           "Craig Smith"
          ],
          [
           -4.300000000000001,
           20.807590762347594,
           "Bobby Jones"
          ],
          [
           -5.9,
           6.160357132504576,
           "Kosta Perovic"
          ],
          [
           -3.1,
           28.137371353178445,
           "David Noel"
          ],
          [
           -1.9,
           8.83562863260636,
           "James Augustine"
          ],
          [
           -1.157142857142857,
           36.480640658534824,
           "Daniel Gibson"
          ],
          [
           -2.9,
           9.286010984270918,
           "Marcus Vinicius"
          ],
          [
           -4.85,
           25.508789334920102,
           "Alexander Johnson"
          ],
          [
           -3.4499999999999997,
           18.85101677187024,
           "Dee Brown"
          ],
          [
           1.74,
           44.81187218683112,
           "Paul Millsap"
          ],
          [
           -2.62,
           25.765752463299044,
           "Leon Powe"
          ],
          [
           -4.08,
           24.766997530315763,
           "Ryan Hollins"
          ],
          [
           -7,
           7.564885987243958,
           "Cheikh Samb"
          ],
          [
           -2.9,
           4.240479532631504,
           "Guillermo Diaz"
          ],
          [
           -5.45,
           16.543301766374615,
           "Hassan Adams"
          ],
          [
           -8.5,
           13.05335205991166,
           "Damir Markota"
          ],
          [
           -5.8,
           12.871156384205229,
           "Will Blalock"
          ],
          [
           -3.233333333333333,
           23.46439974846054,
           "Chris Quinn"
          ],
          [
           -2.7,
           26.638474681057343,
           "Allan Ray"
          ],
          [
           -4.7299999999999995,
           23.465552767123715,
           "Lou Amundson"
          ],
          [
           -2.8000000000000003,
           21.13141421359835,
           "Tarence Kinsey"
          ],
          [
           -0.1,
           31.488992785839706,
           "Jorge Garbajosa"
          ],
          [
           -3.3,
           29.293116370005208,
           "Pooh Jeter"
          ],
          [
           -3.2,
           15.101462401590997,
           "Justin Williams"
          ],
          [
           -5.775,
           25.562073142320294,
           "Yakhouba Diawara"
          ],
          [
           -6.4,
           11.27752189091203,
           "Pops Mensah-Bonsu"
          ],
          [
           -6.3,
           11.648605066702192,
           "Robert Hite"
          ],
          [
           -1.0214285714285716,
           34.10726601822689,
           "J.J. Barea"
          ],
          [
           -4.7,
           12.086493839543914,
           "Darius Washington"
          ],
          [
           -5.2,
           6.4268966072280955,
           "Ivan McFarlin"
          ],
          [
           -0.3,
           25.420846650818778,
           "Walter Herrmann"
          ],
          [
           -8.8,
           3.5730472522297685,
           "Mike Hall"
          ],
          [
           -2.5,
           9.998333194421294,
           "Kevinn Pinkney"
          ],
          [
           -2.4250000000000003,
           11.133040165800782,
           "Mike Harris"
          ],
          [
           -27.7,
           3.4331715172223336,
           "Chris McCray"
          ],
          [
           -7.3,
           14.106263384279588,
           "Cedric Bozeman"
          ],
          [
           -14.9,
           5.30455778866941,
           "Steven Smith"
          ],
          [
           -13.3,
           5.234023309080692,
           "Renaldo Major"
          ],
          [
           -0.1,
           9.15323258016897,
           "Dontell Jefferson"
          ],
          [
           -5.433333333333334,
           9.024288214467548,
           "Jeremy Richardson"
          ],
          [
           -11.1,
           3.175164037757215,
           "Lance Allred"
          ],
          [
           -5.5,
           18.901014082142073,
           "Walker Russell"
          ],
          [
           -8.675,
           10.457772229303902,
           "Randolph Morris"
          ],
          [
           -0.7999999999999999,
           25.998728601392948,
           "Greg Oden"
          ],
          [
           6.961538461538462,
           49.96970749030524,
           "Kevin Durant"
          ],
          [
           2.907142857142857,
           45.19206762464489,
           "Al Horford"
          ],
          [
           2.2214285714285715,
           45.166034963075006,
           "Mike Conley"
          ],
          [
           -1.3615384615384616,
           46.91650248183687,
           "Jeff Green"
          ],
          [
           -4.56,
           34.748630668464244,
           "Yi Jianlian"
          ],
          [
           -1.723076923076923,
           37.99958670490494,
           "Corey Brewer"
          ],
          [
           1.61,
           26.360279462352686,
           "Brandan Wright"
          ],
          [
           1.6,
           37.87071123217478,
           "Joakim Noah"
          ],
          [
           -1.1,
           39.422878298436466,
           "Spencer Hawes"
          ],
          [
           -3.275,
           24.415509073810714,
           "Acie Law"
          ],
          [
           0.4857142857142857,
           47.0049668094969,
           "Thaddeus Young"
          ],
          [
           -0.30000000000000004,
           27.605653104633,
           "Julian Wright"
          ],
          [
           -3.475,
           45.48235005655125,
           "Al Thornton"
          ],
          [
           -1.1400000000000001,
           42.2960991109109,
           "Rodney Stuckey"
          ],
          [
           -2.6750000000000003,
           36.990499906507544,
           "Nick Young"
          ],
          [
           -3.45,
           22.24416590179694,
           "Sean Williams"
          ],
          [
           -1.6769230769230767,
           38.776187181151435,
           "Marco Belinelli"
          ],
          [
           -4.199999999999999,
           30.432123926316166,
           "Javaris Crittenton"
          ],
          [
           -3.2545454545454544,
           30.193600064392545,
           "Jason Smith"
          ],
          [
           -2.6,
           31.604474015205156,
           "Daequan Cook"
          ],
          [
           -0.37857142857142856,
           37.905937780875696,
           "Jared Dudley"
          ],
          [
           -1.7833333333333332,
           41.11508407979836,
           "Wilson Chandler"
          ],
          [
           1.525,
           38.613943940844315,
           "Rudy Fernandez"
          ],
          [
           -6.7,
           10.960129764033114,
           "Morris Almond"
          ],
          [
           -1.75,
           36.659750862946865,
           "Aaron Brooks"
          ],
          [
           -1.8636363636363635,
           43.51457087905014,
           "Arron Afflalo"
          ],
          [
           0.04285714285714296,
           31.195901745490314,
           "Tiago Splitter"
          ],
          [
           -5.133333333333334,
           11.914113945699485,
           "Alando Tucker"
          ],
          [
           -0.3888888888888889,
           35.78212361459798,
           "Carl Landry"
          ],
          [
           -3.5,
           15.177368019521694,
           "Gabe Pruitt"
          ],
          [
           7.449999999999999,
           4.439782276944068,
           "Marcus Williams"
          ],
          [
           0.5,
           16.399441047385334,
           "Nick Fazekas"
          ],
          [
           -2.7875,
           36.85366049209586,
           "Glen Davis"
          ],
          [
           -5.2,
           14.707792719054295,
           "Jermareo Davidson"
          ],
          [
           -2.2454545454545456,
           27.421891829615813,
           "Josh McRoberts"
          ],
          [
           -3.6799999999999997,
           14.87793668490359,
           "Kyrylo Fesenko"
          ],
          [
           -19.4,
           5.305500290578948,
           "Sun Sun"
          ],
          [
           -5.75,
           19.748565348736943,
           "Chris Richard"
          ],
          [
           -4.7,
           6.071518206621248,
           "Derrick Byars"
          ],
          [
           -4.4,
           17.415988822535084,
           "Stephane Lasme"
          ],
          [
           -2.9333333333333336,
           29.858481021125126,
           "Dominic McGuire"
          ],
          [
           2.8923076923076922,
           47.00295271685136,
           "Marc Gasol"
          ],
          [
           -3.5285714285714285,
           23.45278945740428,
           "Aaron Gray"
          ],
          [
           -7,
           0.25495097567963926,
           "JamesOn Curry"
          ],
          [
           -7.5,
           8.58972254111466,
           "Taurean Green"
          ],
          [
           -8.45,
           5.413563213509813,
           "Demetris Nichols"
          ],
          [
           -1.1181818181818182,
           38.278338680266835,
           "Ramon Sessions"
          ],
          [
           -5.6,
           16.438471137345257,
           "DJ Strawberry"
          ],
          [
           -1.98,
           26.566354034128707,
           "Joel Anthony"
          ],
          [
           -12.600000000000001,
           9.235845025406887,
           "Mustafa Shakur"
          ],
          [
           -2.65,
           9.586753013055732,
           "Coby Karl"
          ],
          [
           -7.8500000000000005,
           9.187763601660635,
           "Darryl Watkins"
          ],
          [
           -0.74,
           34.776170001884914,
           "C.J. Watson"
          ],
          [
           -1.9153846153846152,
           33.048065229066225,
           "Anthony Tolliver"
          ],
          [
           -10.833333333333334,
           7.524478571819961,
           "Trey Johnson"
          ],
          [
           -7.25,
           3.4940425488727667,
           "Courtney Sims"
          ],
          [
           -2.6,
           14.107651588174882,
           "Mario West"
          ],
          [
           -7.85,
           8.439687987913612,
           "Thomas Gardner"
          ],
          [
           -1.9000000000000001,
           31.378256803079395,
           "Ivan Johnson"
          ],
          [
           -7.65,
           6.275348595894892,
           "Andre Ingram"
          ],
          [
           -5.9,
           6.2636517570290655,
           "Eric Dawson"
          ],
          [
           -1.5,
           10.898012051134234,
           "Carldell Johnson"
          ],
          [
           -8.4,
           8.68539642797674,
           "Blake Ahearn"
          ],
          [
           -5.2,
           27.75761156872111,
           "Mike Taylor"
          ],
          [
           -1.7454545454545454,
           35.55231314129883,
           "Michael Beasley"
          ],
          [
           -1.2,
           45.989602538689844,
           "O.J. Mayo"
          ],
          [
           0.6166666666666666,
           41.51230239338696,
           "Derrick Rose"
          ],
          [
           4.6923076923076925,
           50.18894428263188,
           "Russell Westbrook"
          ],
          [
           2.630769230769231,
           42.448033085415304,
           "Kevin Love"
          ],
          [
           1.758333333333333,
           40.93365227888772,
           "Danilo Gallinari"
          ],
          [
           -0.48461538461538467,
           41.68472941817745,
           "Eric Gordon"
          ],
          [
           -5.9,
           19.303971957432314,
           "Joe Alexander"
          ],
          [
           -0.7538461538461539,
           41.10849154278318,
           "D.J. Augustin"
          ],
          [
           1.4307692307692308,
           44.629882480871615,
           "Brook Lopez"
          ],
          [
           -2.109090909090909,
           33.689419254373746,
           "Jerryd Bayless"
          ],
          [
           -2.3875,
           43.039688563774114,
           "Jason Thompson"
          ],
          [
           -2.2666666666666666,
           34.26082148590265,
           "Brandon Rush"
          ],
          [
           -1.5999999999999999,
           25.29917653468851,
           "Anthony Randolph"
          ],
          [
           -1.4230769230769231,
           39.1842213796345,
           "Robin Lopez"
          ],
          [
           -2.29,
           32.61766903586664,
           "Marreese Speights"
          ],
          [
           -1.3333333333333333,
           42.673354510574704,
           "Roy Hibbert"
          ],
          [
           -0.676923076923077,
           31.391118293114502,
           "JaVale McGee"
          ],
          [
           -1.9,
           38.61098721003302,
           "JJ Hickson"
          ],
          [
           -3.8285714285714287,
           23.615304762962918,
           "Alexis Ajinca"
          ],
          [
           0.26666666666666655,
           37.38117841909214,
           "Ryan Anderson"
          ],
          [
           -0.6666666666666666,
           42.75833739362028,
           "Courtney Lee"
          ],
          [
           -2.0818181818181816,
           32.01116045911792,
           "Kosta Koufos"
          ],
          [
           0.5416666666666666,
           44.78117318943554,
           "Serge Ibaka"
          ],
          [
           1.5,
           45.20567385536851,
           "Nicolas Batum"
          ],
          [
           1.2615384615384615,
           41.52324186988072,
           "George Hill"
          ],
          [
           -2.511111111111111,
           31.52452895644797,
           "Darrell Arthur"
          ],
          [
           -3.25,
           32.63443988590378,
           "Donte Greene"
          ],
          [
           -0.7666666666666665,
           18.752836822435384,
           "DJ White"
          ],
          [
           1.25,
           11.106417064022034,
           "J.R. Giddens"
          ],
          [
           -2.25,
           33.52992030344771,
           "Nikola Pekovic"
          ],
          [
           -10.1,
           4.419275958796871,
           "Walter Sharpe"
          ],
          [
           -2.4000000000000004,
           19.296556255802056,
           "Joey Dorsey"
          ],
          [
           -0.6555555555555556,
           43.7736370010112,
           "Mario Chalmers"
          ],
          [
           0.8538461538461538,
           44.35199530099506,
           "DeAndre Jordan"
          ],
          [
           -2.7875,
           33.943482437722835,
           "Omer Asik"
          ],
          [
           -2.216666666666667,
           36.55858882214503,
           "Luc Mbah a Moute"
          ],
          [
           -1.0333333333333334,
           21.44351753897768,
           "Kyle Weaver"
          ],
          [
           -8.2,
           28.872766868914137,
           "Sonny Weems"
          ],
          [
           -3.033333333333333,
           27.0173658145193,
           "Chris Douglas-Roberts"
          ],
          [
           -11.05,
           14.676994469804322,
           "Nathan Jawai"
          ],
          [
           -5.1,
           17.4060813127673,
           "Sean Singletary"
          ],
          [
           -9.1,
           4.376452139956896,
           "Patrick Ewing"
          ],
          [
           0.11538461538461542,
           43.17669569666084,
           "Goran Dragic"
          ],
          [
           -2.18,
           24.55951953927438,
           "Henry Walker"
          ],
          [
           -1.95,
           15.36522046701576,
           "Malik Hairston"
          ],
          [
           -6.833333333333333,
           18.5988649593941,
           "Darnell Jackson"
          ],
          [
           -2.8,
           9.76703639800733,
           "Sasha Kaun"
          ],
          [
           -2.7,
           4.778423728943814,
           "Joe Crawford"
          ],
          [
           -3.9,
           21.53444914549708,
           "Semih Erden"
          ],
          [
           -0.8666666666666667,
           36.94006156123927,
           "Anthony Morrow"
          ],
          [
           -5.275,
           20.545802491019913,
           "Bobby Brown"
          ],
          [
           -7,
           7.891081463694736,
           "Othello Hunter"
          ],
          [
           29.2,
           1.559914527573011,
           "Steven Hill"
          ],
          [
           -3.12,
           14.530875174377261,
           "Hamed Haddadi"
          ],
          [
           -2.7,
           21.02173478410697,
           "Rob Kurz"
          ],
          [
           -5.5,
           13.066432821036774,
           "DeMarcus Nelson"
          ],
          [
           -3.1666666666666665,
           12.132898343850995,
           "Othyus Jeffers"
          ],
          [
           -1.9,
           4.640043103248073,
           "Oliver Lafayette"
          ],
          [
           -4.1,
           27.98100546203919,
           "Chris Hunter"
          ],
          [
           -1.95,
           27.421372443163133,
           "Gary Forbes"
          ],
          [
           21.2,
           2.262741699796952,
           "Trey Gilder"
          ],
          [
           -2.7857142857142856,
           21.87886020361947,
           "Cartier Martin"
          ],
          [
           -2.275,
           27.60369087640274,
           "Greg Stiemsma"
          ],
          [
           2.8636363636363638,
           45.58545255724116,
           "Blake Griffin"
          ],
          [
           -3.9200000000000004,
           21.71450360166372,
           "Hasheem Thabeet"
          ],
          [
           6.641666666666667,
           50.163106185943285,
           "James Harden"
          ],
          [
           0.82,
           42.710982194278806,
           "Tyreke Evans"
          ],
          [
           0.55,
           43.76946614555251,
           "Ricky Rubio"
          ],
          [
           -4.666666666666667,
           35.30071607709335,
           "Jonny Flynn"
          ],
          [
           6.308333333333334,
           46.681548222444846,
           "Stephen Curry"
          ],
          [
           -3.325,
           31.00635687510977,
           "Jordan Hill"
          ],
          [
           0.48333333333333334,
           50.03905280434031,
           "DeMar DeRozan"
          ],
          [
           0.3666666666666667,
           43.25968313782691,
           "Brandon Jennings"
          ],
          [
           -3.15,
           27.02545867634197,
           "Terrence Williams"
          ],
          [
           -1.9875,
           41.61502633264417,
           "Gerald Henderson"
          ],
          [
           -2.2714285714285714,
           32.14183596261451,
           "Tyler Hansbrough"
          ],
          [
           -4,
           24.600496833284563,
           "Earl Clark"
          ],
          [
           -2.6166666666666667,
           26.24244864929931,
           "Austin Daye"
          ],
          [
           0.24166666666666667,
           34.30745586279719,
           "James Johnson"
          ],
          [
           1.3666666666666665,
           46.19579556385816,
           "Jrue Holiday"
          ],
          [
           1.0375,
           44.84266012032145,
           "Ty Lawson"
          ],
          [
           0.09166666666666663,
           42.9763145361618,
           "Jeff Teague"
          ],
          [
           -3.3600000000000003,
           27.91112084217805,
           "Eric Maynor"
          ],
          [
           0.61,
           45.60343737044391,
           "Darren Collison"
          ],
          [
           -0.8700000000000001,
           34.58484253735056,
           "Omri Casspi"
          ],
          [
           -6.640000000000001,
           26.255399444685647,
           "Byron Mullens"
          ],
          [
           -0.625,
           26.905025862590538,
           "Rodrigue Beaubois"
          ],
          [
           -0.5416666666666666,
           41.86325291284046,
           "Taj Gibson"
          ],
          [
           -0.9818181818181819,
           35.25751370597865,
           "DeMarre Carroll"
          ],
          [
           -1.5833333333333333,
           35.695712472072735,
           "Wayne Ellington"
          ],
          [
           -1.4124999999999999,
           30.63776264677302,
           "Toney Douglas"
          ],
          [
           -4.8,
           22.906258242381416,
           "Christian Eyenga"
          ],
          [
           -3.366666666666667,
           18.90188115270835,
           "Victor Claver"
          ],
          [
           -2.8666666666666667,
           19.67273917548511,
           "Jeff Ayres"
          ],
          [
           -3.75,
           19.810897674428247,
           "Jermaine Taylor"
          ],
          [
           -1.5699999999999998,
           38.56875030384054,
           "Dante Cunningham"
          ],
          [
           -6.7,
           14.309422886103173,
           "DaJuan Summers"
          ],
          [
           -2.25,
           31.48639918017516,
           "Sam Young"
          ],
          [
           -3.0714285714285716,
           31.745250863411872,
           "DeJuan Blair"
          ],
          [
           -4.466666666666667,
           22.875423493347622,
           "Jon Brockman"
          ],
          [
           -0.9444444444444444,
           35.46983068593489,
           "Jonas Jerebko"
          ],
          [
           -1.2333333333333334,
           29.177921637963035,
           "Derrick Brown"
          ],
          [
           -0.95,
           34.79951149082414,
           "Jodie Meeks"
          ],
          [
           1.1222222222222222,
           37.90854491770658,
           "Patrick Beverley"
          ],
          [
           0.012500000000000011,
           37.57914426025868,
           "Marcus Thornton"
          ],
          [
           -0.7857142857142857,
           33.801989938604535,
           "Chase Budinger"
          ],
          [
           -0.45,
           31.70576971677763,
           "Nick Calathes"
          ],
          [
           1.625,
           40.19512477347912,
           "Danny Green"
          ],
          [
           -8.1,
           5.699853799294619,
           "Taylor Griffin"
          ],
          [
           -1.8666666666666665,
           25.590829520661426,
           "AJ Price"
          ],
          [
           -0.5,
           26.59569200704004,
           "Nando De Colo"
          ],
          [
           -0.3916666666666666,
           34.96091667054003,
           "Patty Mills"
          ],
          [
           -1.225,
           12.187014947612619,
           "Lester Hudson"
          ],
          [
           -2.4,
           35.273870061150234,
           "Garrett Temple"
          ],
          [
           -7.5,
           10.519030373565807,
           "Marcus Landry"
          ],
          [
           -9.1,
           6.027713773341706,
           "Jerel McNeal"
          ],
          [
           -12.4,
           3.823174945861973,
           "Antonio Anderson"
          ],
          [
           -5.8,
           10.064458919054367,
           "Garret Siler"
          ],
          [
           -1.9999999999999998,
           10.438909585456383,
           "Larry Owens"
          ],
          [
           -0.15,
           46.854455497849926,
           "Wesley Matthews"
          ],
          [
           -2.2375,
           33.66988639719476,
           "Alonzo Gee"
          ],
          [
           -1.8,
           14.06674565538643,
           "Dionte Christmas"
          ],
          [
           -1.5428571428571427,
           23.100798790559267,
           "Reggie Williams"
          ],
          [
           -6.8,
           8.63355855562081,
           "Cedric Jackson"
          ],
          [
           -4.7,
           15.876030150303098,
           "Mickell Gladness"
          ],
          [
           -0.49999999999999994,
           20.90233905039763,
           "Sundiata Gaines"
          ],
          [
           -13.3,
           3.4302575219167872,
           "Shane Edwards"
          ],
          [
           -3.6,
           17.079178356505707,
           "Zabian Dowdell"
          ],
          [
           -8.85,
           15.089234573032524,
           "Terrel Harris"
          ],
          [
           2.15,
           46.72460451054312,
           "John Wall"
          ],
          [
           -2.19,
           43.518522876280315,
           "Evan Turner"
          ],
          [
           0.8545454545454544,
           41.06469766039189,
           "Derrick Favors"
          ],
          [
           -1.9777777777777779,
           38.68861685398012,
           "Wesley Johnson"
          ],
          [
           2.45,
           43.34942329489518,
           "DeMarcus Cousins"
          ],
          [
           -0.7428571428571428,
           28.519817671226434,
           "Ekpe Udoh"
          ],
          [
           1.1222222222222222,
           44.064712513403364,
           "Greg Monroe"
          ],
          [
           -1.0636363636363635,
           40.11131292095066,
           "Al-Farouq Aminu"
          ],
          [
           1.0363636363636362,
           43.969965644606525,
           "Gordon Hayward"
          ],
          [
           3.3636363636363638,
           46.381559815395285,
           "Paul George"
          ],
          [
           -1.25,
           20.579277603129484,
           "Cole Aldrich"
          ],
          [
           -5,
           24.10541432956505,
           "Xavier Henry"
          ],
          [
           -0.8090909090909091,
           35.10390205367403,
           "Ed Davis"
          ],
          [
           -0.24545454545454548,
           36.8295953128607,
           "Patrick Patterson"
          ],
          [
           -3.9,
           27.793579394449292,
           "Larry Sanders"
          ],
          [
           -2.9875,
           25.816919516730355,
           "Luke Babbitt"
          ],
          [
           -4.328571428571428,
           30.309486963655445,
           "Kevin Seraphin"
          ],
          [
           1.5636363636363635,
           42.2753904341951,
           "Eric Bledsoe"
          ],
          [
           -3.3545454545454545,
           39.017107747367646,
           "Avery Bradley"
          ],
          [
           -2.38,
           29.39636598855942,
           "James Anderson"
          ],
          [
           -10.75,
           7.772601452109413,
           "Craig Brackins"
          ],
          [
           -4.1,
           19.173158320944435,
           "Elliot Williams"
          ],
          [
           -0.525,
           36.866493369092396,
           "Trevor Booker"
          ],
          [
           0.17500000000000004,
           12.491597175701752,
           "Damion James"
          ],
          [
           -2.0666666666666664,
           15.717011307638751,
           "Dominique Jones"
          ],
          [
           -2.4,
           28.10720548186888,
           "Quincy Pondexter"
          ],
          [
           -0.25,
           33.771458199030846,
           "Jordan Crawford"
          ],
          [
           -2.557142857142857,
           36.875611375077085,
           "Greivis Vasquez"
          ],
          [
           -3.3666666666666667,
           13.432030540631017,
           "Daniel Orton"
          ],
          [
           -4.433333333333334,
           14.039586888509213,
           "Lazar Hayward"
          ],
          [
           -11.6,
           9.029950165975448,
           "Tibor Pleiss"
          ],
          [
           -16.75,
           9.313654850093316,
           "Dexter Pittman"
          ],
          [
           -1.5444444444444443,
           35.72082336988082,
           "Hassan Whiteside"
          ],
          [
           -3.4,
           14.172949587153692,
           "Armon Johnson"
          ],
          [
           -0.2833333333333334,
           36.58244114325886,
           "Nemanja Bjelica"
          ],
          [
           -13,
           6.235382907247958,
           "Darington Hobson"
          ],
          [
           -13.2,
           4.909175083453431,
           "Andy Rautins"
          ],
          [
           -0.62,
           34.671063823694055,
           "Landry Fields"
          ],
          [
           -2.511111111111111,
           36.31146895648505,
           "Lance Stephenson"
          ],
          [
           -5.9,
           14.098877023838932,
           "Jarvis Varnado"
          ],
          [
           -4.633333333333334,
           15.384443802461986,
           "Devin Ebanks"
          ],
          [
           -0.7,
           15.661630396183758,
           "Jerome Jordan"
          ],
          [
           -15,
           1.390443574307613,
           "Gani Lawal"
          ],
          [
           -5.550000000000001,
           9.517746582043461,
           "Solomon Alabi"
          ],
          [
           -3.35,
           20.87372750612597,
           "Luke Harangody"
          ],
          [
           -6,
           4.58075685158395,
           "Pape Sy"
          ],
          [
           -2.7,
           11.56726703533151,
           "Willie Warren"
          ],
          [
           0.3285714285714284,
           19.370866686611535,
           "Jeremy Evans"
          ],
          [
           -11.733333333333334,
           7.242467351209347,
           "Hamady Ndiaye"
          ],
          [
           -7.1,
           14.662991963897852,
           "Derrick Caracter"
          ],
          [
           -2,
           4.081870486268115,
           "Ryan Reid"
          ],
          [
           -0.8500000000000001,
           20.09017172649353,
           "Ben Uzoh"
          ],
          [
           -2.62,
           27.384009932805668,
           "Donald Sloan"
          ],
          [
           -2.75,
           31.980290153989113,
           "Timofey Mozgov"
          ],
          [
           -3.742857142857143,
           32.74534136258748,
           "Gary Neal"
          ],
          [
           -0.08888888888888896,
           36.843947691330264,
           "Jeremy Lin"
          ],
          [
           -8,
           8.116752224052838,
           "Sherron Collins"
          ],
          [
           -5.766666666666667,
           23.959444901750132,
           "Samardo Samuels"
          ],
          [
           -1.7272727272727273,
           34.67778959087634,
           "Ish Smith"
          ],
          [
           -3.1799999999999997,
           20.731417381999396,
           "Jeff Adrien"
          ],
          [
           -3.6,
           13.423238556076287,
           "Jerome Dyson"
          ],
          [
           -8.633333333333333,
           19.317579788599005,
           "Elijah Millsap"
          ],
          [
           -7.1,
           4.279213323341885,
           "Marcus Cousin"
          ],
          [
           -5.975,
           19.95873868760248,
           "Manny Harris"
          ],
          [
           -2.6,
           14.125154866407659,
           "Chris Johnson"
          ],
          [
           -15.85,
           6.894744375246988,
           "Justin Dentmon"
          ],
          [
           -5.199999999999999,
           28.526248471396503,
           "Lance Thomas"
          ],
          [
           -2,
           6.778274116617002,
           "Jerry Smith"
          ],
          [
           -7.2,
           7.627472276798736,
           "Luke Zeller"
          ],
          [
           -3.4000000000000004,
           6.499786321274123,
           "Arinze Onuaku"
          ],
          [
           -4.3,
           9.757304955775442,
           "Courtney Fortson"
          ],
          [
           4.87,
           44.39898647491856,
           "Kyrie Irving"
          ],
          [
           -3.8714285714285714,
           35.58307516355548,
           "Derrick Williams"
          ],
          [
           -0.13999999999999999,
           39.60952957727891,
           "Enes Freedom"
          ],
          [
           -1.77,
           43.19634822528404,
           "Tristan Thompson"
          ],
          [
           1.1666666666666667,
           42.03300731215531,
           "Jonas Valanciunas"
          ],
          [
           -2.8000000000000003,
           28.608283571177207,
           "Jan Vesely"
          ],
          [
           -2.5100000000000002,
           37.70065428256299,
           "Bismack Biyombo"
          ],
          [
           -2.1875,
           40.525308450399244,
           "Brandon Knight"
          ],
          [
           2.76,
           48.70114475040601,
           "Kemba Walker"
          ],
          [
           -3.7833333333333337,
           23.134101812403838,
           "Jimmer Fredette"
          ],
          [
           0.675,
           50.420719534069846,
           "Klay Thompson"
          ],
          [
           -0.99,
           34.72811301141099,
           "Alec Burks"
          ],
          [
           -1.58,
           41.7455386837923,
           "Markieff Morris"
          ],
          [
           -1.31,
           42.29261558869743,
           "Marcus Morris Sr."
          ],
          [
           6.95,
           42.45542368178652,
           "Kawhi Leonard"
          ],
          [
           2.04,
           45.22259206782969,
           "Nikola Vucevic"
          ],
          [
           -3.15,
           33.86859656574707,
           "Iman Shumpert"
          ],
          [
           -3.6999999999999997,
           29.465639122355512,
           "Chris Singleton"
          ],
          [
           0.85,
           45.907973163710885,
           "Tobias Harris"
          ],
          [
           -6.383333333333333,
           27.58271399103269,
           "Donatas Motiejunas"
          ],
          [
           -6.2,
           20.355814075262785,
           "Nolan Smith"
          ],
          [
           0.3125,
           38.28850730528243,
           "Kenneth Faried"
          ],
          [
           1.64,
           39.28948544670276,
           "Nikola Mirotic"
          ],
          [
           -0.04999999999999996,
           39.57815685450751,
           "Reggie Jackson"
          ],
          [
           -0.2200000000000001,
           26.290815886921436,
           "MarShon Brooks"
          ],
          [
           -0.8,
           20.493999121694152,
           "Jordan Hamilton"
          ],
          [
           -3.9,
           17.267358416001766,
           "JaJuan Johnson"
          ],
          [
           -4.6000000000000005,
           36.55886045513148,
           "Norris Cole"
          ],
          [
           -1.1300000000000001,
           38.159452738912975,
           "Cory Joseph"
          ],
          [
           4.07,
           45.75133331390463,
           "Jimmy Butler"
          ],
          [
           -1.1,
           46.88471677067769,
           "Bojan Bogdanovic"
          ],
          [
           -8.133333333333335,
           7.071774883294857,
           "Justin Harper"
          ],
          [
           -3.4499999999999997,
           36.044386217242995,
           "Kyle Singler"
          ],
          [
           -2.05,
           32.39035993419443,
           "Shelvin Mack"
          ],
          [
           -7.699999999999999,
           7.730567033967602,
           "Tyler Honeycutt"
          ],
          [
           -2.1,
           25.19550224411756,
           "Jordan Williams"
          ],
          [
           -5.7,
           10.909781543795138,
           "Trey Thompkins"
          ],
          [
           -0.5888888888888889,
           38.365107604195266,
           "Chandler Parsons"
          ],
          [
           -7.400000000000001,
           18.566502093824784,
           "Jeremy Tyler"
          ],
          [
           -1.6624999999999999,
           27.259551078475212,
           "Jon Leuer"
          ],
          [
           -5.725,
           19.13260741944669,
           "Darius Morris"
          ],
          [
           0.86,
           36.255100790555424,
           "Davis Bertans"
          ],
          [
           -10.9,
           13.337374387620509,
           "Malcolm Lee"
          ],
          [
           -4.550000000000001,
           25.824810422021166,
           "Charles Jenkins"
          ],
          [
           -2.166666666666667,
           17.20218009439502,
           "Josh Harrellson"
          ],
          [
           -8.166666666666666,
           12.576565508913795,
           "Andrew Goudelock"
          ],
          [
           -0.3,
           6.729289214570384,
           "Travis Leslie"
          ],
          [
           -7.7,
           3.0221405217715023,
           "Keith Benson"
          ],
          [
           -10.600000000000001,
           12.157747872584517,
           "Josh Selby"
          ],
          [
           -1.9666666666666668,
           33.92259980864936,
           "Lavoy Allen"
          ],
          [
           1.2,
           11.638585251939643,
           "Vernon Macklin"
          ],
          [
           6.319999999999999,
           19.52737394872473,
           "DeAndre Liggins"
          ],
          [
           -2.08,
           35.44517362537998,
           "E'Twaun Moore"
          ],
          [
           -1.02,
           39.024979180007264,
           "Isaiah Thomas"
          ],
          [
           -3.9,
           7.210871422142174,
           "Edwin Ubiles"
          ],
          [
           -3.033333333333333,
           15.231509737675022,
           "Dwight Buycks"
          ],
          [
           -6.85,
           15.08150080949063,
           "Cory Higgins"
          ],
          [
           -6.7,
           7.672461578050861,
           "D.J. Kennedy"
          ],
          [
           -7.1,
           9.73319063822342,
           "Mychel Thompson"
          ],
          [
           -8.1,
           4.702658822410998,
           "Dennis Horner"
          ],
          [
           -0.1,
           12.476745034930666,
           "Chris Wright"
          ],
          [
           -10.8,
           6.255397669213365,
           "Jeff Foote"
          ],
          [
           -11.399999999999999,
           4.806159242749523,
           "Xavier Silas"
          ],
          [
           -0.39999999999999997,
           11.203384905167422,
           "Julyan Stone"
          ],
          [
           -5.566666666666666,
           19.351227351256043,
           "Jeremy Pargo"
          ],
          [
           -4.449999999999999,
           9.067363637426997,
           "Malcolm Thomas"
          ],
          [
           -1.7666666666666666,
           30.359256322321936,
           "Brad Wanamaker"
          ],
          [
           -2.4,
           19.154494685756326,
           "Greg Smith"
          ],
          [
           -0.1333333333333333,
           27.39989862106146,
           "Gustavo Ayon"
          ],
          [
           -3,
           2.9501412395567317,
           "Josh Akognon"
          ],
          [
           6.1,
           46.42842560009659,
           "Anthony Davis"
          ],
          [
           -2.225,
           37.04473084439042,
           "Michael Kidd-Gilchrist"
          ],
          [
           1.6555555555555557,
           48.28012396805099,
           "Bradley Beal"
          ],
          [
           -1.95,
           38.46283379229009,
           "Dion Waiters"
          ],
          [
           -3.28,
           28.99397638590931,
           "Thomas Robinson"
          ],
          [
           5,
           52.467963770497356,
           "Damian Lillard"
          ],
          [
           -0.9555555555555555,
           41.06698908603591,
           "Terrence Ross"
          ],
          [
           1.2111111111111112,
           46.93972888873718,
           "Andre Drummond"
          ],
          [
           -0.9222222222222223,
           48.50633215632017,
           "Harrison Barnes"
          ],
          [
           -3.022222222222222,
           39.94430149873975,
           "Austin Rivers"
          ],
          [
           -1.3888888888888888,
           28.200036117654832,
           "Meyers Leonard"
          ],
          [
           0.15555555555555556,
           34.898034010210054,
           "Jeremy Lamb"
          ],
          [
           -3.925,
           27.763660301432413,
           "Kendall Marshall"
          ],
          [
           -0.05000000000000003,
           33.075872374486714,
           "John Henson"
          ],
          [
           -0.9666666666666668,
           38.23188750535634,
           "Maurice Harkless"
          ],
          [
           -16.9,
           2.984403904746586,
           "Royce White"
          ],
          [
           -4.975,
           30.109875179637204,
           "Tyler Zeller"
          ],
          [
           -4.783333333333334,
           30.45057014609452,
           "Terrence Jones"
          ],
          [
           -3.96,
           28.56501940019177,
           "Andrew Nicholson"
          ],
          [
           -0.9555555555555555,
           42.31863261811122,
           "Evan Fournier"
          ],
          [
           -1.7600000000000002,
           36.14268482925234,
           "Jared Sullinger"
          ],
          [
           -7.6,
           5.999583318864736,
           "Fab Melo"
          ],
          [
           -1.8166666666666664,
           19.073760335427654,
           "John Jenkins"
          ],
          [
           -4.85,
           12.30059280414295,
           "Jared Cunningham"
          ],
          [
           -5.525,
           27.72852772867682,
           "Tony Wroten"
          ],
          [
           -2.6285714285714286,
           28.430487492261175,
           "Miles Plumlee"
          ],
          [
           -4.25,
           19.088849275602406,
           "Arnett Moultrie"
          ],
          [
           -4.366666666666666,
           23.632710382010785,
           "Perry Jones III"
          ],
          [
           -6.233333333333333,
           17.398467365451094,
           "Marquis Teague"
          ],
          [
           -1.7666666666666666,
           28.24815628201838,
           "Festus Ezeli"
          ],
          [
           -0.72,
           39.26810834931233,
           "Tomas Satoransky"
          ],
          [
           -1.9000000000000001,
           15.923602328339872,
           "Bernard James"
          ],
          [
           0.1777777777777778,
           43.04423005166594,
           "Jae Crowder"
          ],
          [
           1.9888888888888887,
           44.946278633085555,
           "Draymond Green"
          ],
          [
           -4.3999999999999995,
           19.25912482146811,
           "Orlando Johnson"
          ],
          [
           -2.5,
           27.756316312473746,
           "Quincy Acy"
          ],
          [
           -5.566666666666666,
           17.64951998088208,
           "Quincy Miller"
          ],
          [
           0.43333333333333335,
           45.40137255226575,
           "Khris Middleton"
          ],
          [
           -0.7333333333333333,
           39.22327351439685,
           "Will Barton"
          ],
          [
           -8.05,
           15.66357238946467,
           "Tyshawn Taylor"
          ],
          [
           -5.949999999999999,
           25.22487198513932,
           "Doron Lamb"
          ],
          [
           -2.2222222222222223,
           31.94185690003358,
           "Mike Scott"
          ],
          [
           -4.2,
           20.163498373711516,
           "Kim English"
          ],
          [
           -1.8,
           25.568318069221682,
           "Justin Hamilton"
          ],
          [
           -3,
           29.88553161648626,
           "Darius Miller"
          ],
          [
           -16.8,
           7.237978539159487,
           "Kevin Murphy"
          ],
          [
           -3.25,
           23.33929090610938,
           "Kostas Papanikolaou"
          ],
          [
           0.825,
           28.968301641622,
           "Kyle O'Quinn"
          ],
          [
           -9.9,
           7.341775443764723,
           "Kris Joseph"
          ],
          [
           -3.6,
           23.248512497218677,
           "Furkan Aldemir"
          ],
          [
           -6.9,
           11.124260275032531,
           "Tornike Shengelia"
          ],
          [
           -24.15,
           3.2331615074619044,
           "Darius Johnson-Odom"
          ],
          [
           -3.05,
           26.428614543079373,
           "Robbie Hummel"
          ],
          [
           -5.125,
           26.199491089205004,
           "Robert Sacre"
          ],
          [
           -5.15,
           9.060997001802102,
           "Ognjen Kuzmic"
          ],
          [
           -2.75,
           40.073988862269914,
           "Hollis Thompson"
          ],
          [
           -4.45,
           11.899159634192655,
           "Viacheslav Kravtsov"
          ],
          [
           -0.8833333333333333,
           30.99833328852805,
           "Mirza Teletovic"
          ],
          [
           -1.5250000000000001,
           22.96544505701265,
           "Chris Copeland"
          ],
          [
           0.04999999999999999,
           33.781910839974685,
           "Pablo Prigioni"
          ],
          [
           -0.2333333333333334,
           33.019312530699345,
           "Alexey Shved"
          ],
          [
           -1.6,
           38.007523621670664,
           "Kent Bazemore"
          ],
          [
           -2.5500000000000003,
           10.279307693938668,
           "Maalik Wayns"
          ],
          [
           -9.7,
           1.3988090172238203,
           "Chris Smith"
          ],
          [
           -1.9600000000000002,
           32.27061098481609,
           "Brian Roberts"
          ],
          [
           -2.625,
           25.20565412759607,
           "Henry Sims"
          ],
          [
           -4.1,
           18.276122856521482,
           "Kevin Jones"
          ],
          [
           -1.6500000000000004,
           4.495367986420394,
           "Scott Machado"
          ],
          [
           -4.2,
           14.152738250953417,
           "Ben Hansbrough"
          ],
          [
           0.4,
           3.122498999199199,
           "Tony Mitchell"
          ],
          [
           -0.19999999999999998,
           25.061291533624807,
           "Willie Reed"
          ],
          [
           -1.1,
           23.84779864054542,
           "Chris Johnson"
          ],
          [
           -4.5,
           24.464021201211686,
           "Diante Garrett"
          ],
          [
           -4.5,
           28.33757811340505,
           "DeQuan Jones"
          ],
          [
           -1.65,
           38.877588338270165,
           "Justin Holiday"
          ],
          [
           -19.2,
           2.091650066335189,
           "Chris Wright"
          ],
          [
           -1.5142857142857142,
           35.95716697882156,
           "JaMychal Green"
          ],
          [
           -4.3,
           10.24255827418131,
           "James Nunnally"
          ],
          [
           -2.6,
           12.672038334678271,
           "Jorge Gutierrez"
          ],
          [
           -8.15,
           13.97438132202401,
           "Toure' Murry"
          ],
          [
           -17.2,
           3.4253953543106963,
           "Tim Ohlbrecht"
          ],
          [
           -9.4,
           8.695784419284246,
           "Glen Rice Jr."
          ],
          [
           -3.033333333333333,
           30.495895291491763,
           "Aron Baynes"
          ],
          [
           1.2857142857142858,
           36.88612463347417,
           "Nerlens Noel"
          ],
          [
           -2.0875,
           35.618391199865655,
           "Alex Len"
          ],
          [
           -2.5714285714285716,
           36.10528585493633,
           "Allen Crabbe"
          ],
          [
           -2.1714285714285713,
           31.16970828040767,
           "Andre Roberson"
          ],
          [
           -4.15,
           21.822350927432176,
           "Anthony Bennett"
          ],
          [
           -2.1,
           24.472586704310586,
           "Archie Goodwin"
          ],
          [
           -3.25,
           37.49761936887904,
           "Ben McLemore"
          ],
          [
           -3.5,
           23.99666643515303,
           "Brandon Paul"
          ],
          [
           -3.4,
           6.172519744804386,
           "Carrick Felix"
          ],
          [
           0.7375,
           45.386474673996595,
           "CJ McCollum"
          ],
          [
           -0.5875,
           36.43258900581547,
           "Cody Zeller"
          ],
          [
           -1.6625,
           42.734782866731265,
           "Dennis Schroder"
          ],
          [
           -1.5,
           30.4254313856024,
           "Dewayne Dedmon"
          ],
          [
           -1.9,
           3.268409399080846,
           "DJ Stephens"
          ],
          [
           -3.0999999999999996,
           15.03365668536212,
           "Erick Green"
          ],
          [
           0.5375,
           38.5635919618492,
           "Gorgui Dieng"
          ],
          [
           -2.65,
           28.277705195279026,
           "Isaiah Canaan"
          ],
          [
           -5.75,
           9.346166772176343,
           "Jamaal Franklin"
          ],
          [
           -2.7,
           5.471136384091818,
           "James Southerland"
          ],
          [
           -0.5800000000000001,
           20.35942861018779,
           "Jeff Withey"
          ],
          [
           0.825,
           39.7566189457806,
           "Kelly Olynyk"
          ],
          [
           -0.7875,
           46.962127915303554,
           "Kentavious Caldwell-Pope"
          ],
          [
           -4.42,
           15.387256632248215,
           "Lorenzo Brown"
          ],
          [
           1.425,
           40.27211866374385,
           "Mason Plumlee"
          ],
          [
           -1.3624999999999998,
           35.176246720384086,
           "Michael Carter-Williams"
          ],
          [
           -0.775,
           27.6180194800424,
           "Mike Muscala"
          ],
          [
           -6.8,
           22.911569130026837,
           "Nate Wolters"
          ],
          [
           0.38749999999999996,
           38.21781598068281,
           "Otto Porter Jr."
          ],
          [
           -6.4,
           14.977983842960974,
           "Peyton Siva"
          ],
          [
           -2.733333333333333,
           30.58800600090029,
           "Ray McCallum"
          ],
          [
           -1.1125,
           31.371042247057503,
           "Reggie Bullock"
          ],
          [
           -6,
           11.77331021137783,
           "Ricky Ledo"
          ],
          [
           0.5,
           42.01923418705613,
           "Robert Covington"
          ],
          [
           3.175,
           44.972257652171905,
           "Rudy Gobert"
          ],
          [
           -2.2399999999999998,
           30.890273550099884,
           "Shabazz Muhammad"
          ],
          [
           -2.5749999999999997,
           34.92626757422939,
           "Shane Larkin"
          ],
          [
           0.16249999999999998,
           44.45889253006646,
           "Steven Adams"
          ],
          [
           -0.9125,
           42.7089934908328,
           "Tim Hardaway Jr."
          ],
          [
           10.6,
           8.895410801831094,
           "Tony Mitchell"
          ],
          [
           -1.875,
           39.16294751845592,
           "Tony Snell"
          ],
          [
           -0.8625,
           35.28362167257401,
           "Trey Burke"
          ],
          [
           -10.666666666666666,
           6.665833281243491,
           "Vander Blue"
          ],
          [
           0.38750000000000007,
           43.255341673986706,
           "Victor Oladipo"
          ],
          [
           5.5,
           48.92581970016785,
           "Giannis Antetokounmpo"
          ],
          [
           -4.633333333333334,
           19.239455986764966,
           "Sergey Karasev"
          ],
          [
           -4.4,
           9.187037970241915,
           "Pierre Jackson"
          ],
          [
           -10.8,
           7.136642534600336,
           "Grant Jerrett"
          ],
          [
           -0.825,
           20.93961556476145,
           "Lucas Nogueira"
          ],
          [
           -8.6,
           7.883632834338919,
           "Erik Murphy"
          ],
          [
           -2.566666666666667,
           25.918065342751028,
           "Phil Pressey"
          ],
          [
           -1.2428571428571427,
           33.73501078080384,
           "James Ennis III"
          ],
          [
           -10,
           11.93133130319777,
           "Nemanja Nedovic"
          ],
          [
           -2.1333333333333333,
           30.428367612403356,
           "Alex Abrines"
          ],
          [
           -6.2,
           6.130524719249838,
           "Adonis Thomas"
          ],
          [
           -3.8000000000000003,
           33.67899939131208,
           "Matthew Dellavedova"
          ],
          [
           -2.3875,
           34.486473797707994,
           "Solomon Hill"
          ],
          [
           -1.0333333333333334,
           28.539587515511787,
           "Raul Neto"
          ],
          [
           -2.85,
           27.951043510633642,
           "Ryan Kelly"
          ],
          [
           -2.6,
           26.566943745941103,
           "Joffrey Lauvergne"
          ],
          [
           -9.45,
           12.945526897993254,
           "Gal Mekel"
          ],
          [
           -2.4,
           14.945986083226492,
           "Gigi Datome"
          ],
          [
           -3.1999999999999997,
           31.321092467111225,
           "Pero Antic"
          ],
          [
           -9.3,
           15.609238717289626,
           "Miroslav Raduljica"
          ],
          [
           -3.033333333333333,
           27.402590104667926,
           "Ian Clark"
          ],
          [
           0.3,
           3.3739195801520374,
           "Elias Harris"
          ],
          [
           -2.5571428571428574,
           32.41427522088437,
           "Seth Curry"
          ],
          [
           -5.4,
           22.336890264015413,
           "Brandon Davies"
          ],
          [
           -1.9500000000000002,
           2.357258294431619,
           "Kalin Lucas"
          ],
          [
           -15,
           5.3603482473933814,
           "Patrick Christopher"
          ],
          [
           -6.1,
           11.503477735015617,
           "Chris Babb"
          ],
          [
           -9.45,
           12.023899811070734,
           "Larry Drew II"
          ],
          [
           -1.8714285714285717,
           26.848215334853585,
           "Troy Daniels"
          ],
          [
           -1.5799999999999998,
           31.23944088274736,
           "Rodney McGruder"
          ],
          [
           -8.5,
           1.1105554165971774,
           "Trey McKinney-Jones"
          ],
          [
           -3.1500000000000004,
           36.39645701621704,
           "Jonathon Simmons"
          ],
          [
           -0.2666666666666666,
           15.120846537148639,
           "Thanasis Antetokounmpo"
          ],
          [
           -3.9000000000000004,
           12.550630794240309,
           "Norvel Pelle"
          ],
          [
           1.5,
           2.5742312768410436,
           "Reggie Hearn"
          ],
          [
           -4.4,
           11.27072165687125,
           "Josh Magette"
          ],
          [
           -2.9000000000000004,
           20.428758324153403,
           "C.J. Williams"
          ],
          [
           -3.7,
           31.625886021843982,
           "PJ Hairston"
          ],
          [
           -6,
           8.33196655458162,
           "Will Cherry"
          ],
          [
           -2.4,
           10.75933703038124,
           "Casper Ware"
          ],
          [
           -17.35,
           2.7518175811634027,
           "Scotty Hopson"
          ],
          [
           -5.1000000000000005,
           8.100977307296532,
           "Russ Smith"
          ],
          [
           -0.9166666666666666,
           31.587238105144785,
           "Shabazz Napier"
          ],
          [
           -2.175,
           20.596358901514606,
           "Jordan McRae"
          ],
          [
           -0.14285714285714274,
           42.912180532981985,
           "Zach LaVine"
          ],
          [
           -3.475,
           24.173461688388777,
           "Tyler Ennis"
          ],
          [
           -5.466666666666666,
           24.462567776548365,
           "Markel Brown"
          ],
          [
           -0.8857142857142856,
           42.81911288865555,
           "Elfrid Payton"
          ],
          [
           -5.1,
           31.187203572405576,
           "Semaj Christon"
          ],
          [
           -0.2571428571428572,
           44.799612030633,
           "Jordan Clarkson"
          ],
          [
           -5.5,
           15.114700349880145,
           "Devyn Marble"
          ],
          [
           -3,
           26.41166619339096,
           "KJ McDaniels"
          ],
          [
           -6.5,
           16.19717053479814,
           "Nick Johnson"
          ],
          [
           -4.833333333333333,
           11.182054074870742,
           "C.J. Wilcox"
          ],
          [
           -4.3,
           23.840336966298672,
           "Jabari Brown"
          ],
          [
           -1.8571428571428572,
           40.960050223183494,
           "Gary Harris"
          ],
          [
           -0.8285714285714285,
           34.28190901502257,
           "Spencer Dinwiddie"
          ],
          [
           -2.82,
           36.50035159648011,
           "Nik Stauskas"
          ],
          [
           -1.4714285714285715,
           38.29974511913201,
           "Rodney Hood"
          ],
          [
           4.15,
           11.469197879538038,
           "Jordan Adams"
          ],
          [
           -0.775,
           30.3006463077385,
           "Khem Birch"
          ],
          [
           -6.9,
           20.01085122294068,
           "Cleanthony Early"
          ],
          [
           -2.314285714285714,
           27.51449401592517,
           "Glenn Robinson III"
          ],
          [
           -4.025,
           14.24945905406003,
           "James Young"
          ],
          [
           -0.7428571428571428,
           43.019037867525796,
           "Jerami Grant"
          ],
          [
           -2.0285714285714285,
           38.133493589406854,
           "Joe Harris"
          ],
          [
           -2.2,
           37.39425089502398,
           "Doug McDermott"
          ],
          [
           -4.7,
           17.04731161600952,
           "Cory Jefferson"
          ],
          [
           -2.375,
           27.754736832956414,
           "Sean Kilpatrick"
          ],
          [
           -0.24285714285714288,
           42.92941881740305,
           "Aaron Gordon"
          ],
          [
           -1.042857142857143,
           36.943679786811664,
           "T.J. Warren"
          ],
          [
           -8.25,
           14.752400934537176,
           "Lamar Patterson"
          ],
          [
           -0.3,
           43.40541989418459,
           "Marcus Smart"
          ],
          [
           1.3285714285714287,
           36.05624904559676,
           "Kyle Anderson"
          ],
          [
           0.9285714285714286,
           33.64060047026508,
           "Dwight Powell"
          ],
          [
           -3.25,
           18.728643392764283,
           "Adreian Payne"
          ],
          [
           -5.8428571428571425,
           28.493729468913305,
           "Noah Vonleh"
          ],
          [
           -1.9428571428571428,
           44.07951419229314,
           "Julius Randle"
          ],
          [
           -6,
           3.7396523902630308,
           "Alex Kirk"
          ],
          [
           -8.25,
           9.114045936538467,
           "Cameron Bairstow"
          ],
          [
           -5.550000000000001,
           20.5208735194192,
           "Johnny O'Bryant III"
          ],
          [
           -2.225,
           14.782506553355557,
           "James Michael McAdoo"
          ],
          [
           5.8999999999999995,
           7.100899786490292,
           "Jarnell Stokes"
          ],
          [
           -15.1,
           5.181698563212646,
           "Keith Appling"
          ],
          [
           -1.6428571428571428,
           51.5562429825544,
           "Andrew Wiggins"
          ],
          [
           -0.6714285714285715,
           34.69165880260256,
           "Jabari Parker"
          ],
          [
           4.9799999999999995,
           39.85829901036922,
           "Joel Embiid"
          ],
          [
           -5.5,
           9.953516966379278,
           "Bryce Cotton"
          ],
          [
           -4.6,
           16.69408577910153,
           "Mitch McGary"
          ],
          [
           -2.716666666666667,
           27.523161963052953,
           "Dante Exum"
          ],
          [
           -12.8,
           4.655999713631145,
           "Andre Dawkins"
          ],
          [
           -2.6666666666666665,
           24.321852314328368,
           "JaKarr Sampson"
          ],
          [
           2.125,
           14.983185019658983,
           "Eric Moreland"
          ],
          [
           0.7000000000000003,
           18.862794066627558,
           "Josh Huestis"
          ],
          [
           -3.55,
           8.627813550759361,
           "Shayne Whittington"
          ],
          [
           0.2,
           16.54559357250948,
           "Jamil Wilson"
          ],
          [
           -1,
           42.340925828328324,
           "Dario Saric"
          ],
          [
           -13,
           1.6502525059315407,
           "Jerrelle Benimon"
          ],
          [
           0.8428571428571427,
           38.86270093302218,
           "Clint Capela"
          ],
          [
           0.525,
           42.40740894387837,
           "Bogdan Bogdanovic"
          ],
          [
           0.22857142857142865,
           34.301631225962176,
           "Jusuf Nurkic"
          ],
          [
           -5.6,
           12.504066005370692,
           "Damien Inglis"
          ],
          [
           -7.714285714285714,
           13.591234920590058,
           "Bruno Caboclo"
          ],
          [
           7.783333333333334,
           47.5036109738571,
           "Nikola Jokic"
          ],
          [
           1.42,
           42.2004344369423,
           "Kristaps Porzingis"
          ],
          [
           0.7499999999999999,
           7.079901129253148,
           "Edy Tavares"
          ],
          [
           -3.8666666666666667,
           23.368354670365648,
           "Damjan Rudez"
          ],
          [
           -0.8285714285714286,
           35.086722492106546,
           "Tyler Johnson"
          ],
          [
           32.5,
           1.638596960817394,
           "Sim Bhullar"
          ],
          [
           -3.15,
           9.338584832118121,
           "Jack Cooley"
          ],
          [
           -4.1571428571428575,
           26.402840756251965,
           "Tim Frazier"
          ],
          [
           -2.8,
           28.802350887847073,
           "Tarik Black"
          ],
          [
           -9.4,
           2.6394443859772214,
           "David Wear"
          ],
          [
           -4.6,
           21.210728417477792,
           "Travis Wear"
          ],
          [
           -1.2428571428571427,
           37.289613005436756,
           "Langston Galloway"
          ],
          [
           -7.7,
           8.673138609138753,
           "Zoran Dragic"
          ],
          [
           1.2142857142857142,
           44.77731409031651,
           "Joe Ingles"
          ],
          [
           2,
           4.605250626549364,
           "David Stockton"
          ],
          [
           -5.25,
           9.358908412131559,
           "John Holland"
          ],
          [
           -4.066666666666667,
           8.51909619619359,
           "Jarell Eddie"
          ],
          [
           -9.5,
           8.43712036182962,
           "Drew Gordon"
          ],
          [
           -6.9,
           11.511877923837325,
           "Xavier Munford"
          ],
          [
           -4.5,
           8.666025617317317,
           "Omari Johnson"
          ],
          [
           -17.2,
           3.4665064065520923,
           "Greg Whittington"
          ],
          [
           -0.20000000000000004,
           40.903297204775846,
           "T.J. McConnell"
          ],
          [
           -1.9000000000000001,
           28.361965924651816,
           "Jahlil Okafor"
          ],
          [
           -3.04,
           37.879625130140894,
           "Emmanuel Mudiay"
          ],
          [
           -0.09999999999999998,
           33.73634291581312,
           "Tyus Jones"
          ],
          [
           0,
           5.996526772502004,
           "Cliff Alexander"
          ],
          [
           -2.46,
           24.347888341017708,
           "Justin Anderson"
          ],
          [
           6.866666666666667,
           15.931363197583986,
           "Anthony Brown"
          ],
          [
           2.15,
           37.02014841797487,
           "Montrezl Harrell"
          ],
          [
           -4,
           31.548534038842437,
           "Andrew Harrison"
          ],
          [
           -8.533333333333333,
           10.694520923247469,
           "Aaron Harrison"
          ],
          [
           1.9666666666666668,
           34.45902558756479,
           "Delon Wright"
          ],
          [
           -2.6999999999999997,
           9.93076029314976,
           "RJ Hunter"
          ],
          [
           -0.675,
           27.823416396984754,
           "Sam Dekker"
          ],
          [
           0.43333333333333335,
           41.632746192817436,
           "D'Angelo Russell"
          ],
          [
           5.05,
           48.29701796637597,
           "Karl-Anthony Towns"
          ],
          [
           0.4666666666666666,
           33.781972510003996,
           "Richaun Holmes"
          ],
          [
           -2.9499999999999997,
           35.01594478075509,
           "Justise Winslow"
          ],
          [
           -0.25000000000000006,
           38.927414647149526,
           "Willie Cauley-Stein"
          ],
          [
           -2.2666666666666666,
           40.953242308217256,
           "Kelly Oubre Jr."
          ],
          [
           -0.18333333333333335,
           35.925145944186646,
           "Frank Kaminsky"
          ],
          [
           -0.04999999999999994,
           47.83190474057154,
           "Devin Booker"
          ],
          [
           -0.8999999999999999,
           24.886458834742502,
           "Cameron Payne"
          ],
          [
           0.3833333333333333,
           43.097338149305195,
           "Myles Turner"
          ],
          [
           -1.3499999999999999,
           33.36607974841781,
           "Trey Lyles"
          ],
          [
           -2.733333333333333,
           34.913894082442326,
           "Stanley Johnson"
          ],
          [
           -2.48,
           31.618533594502228,
           "Jerian Grant"
          ],
          [
           -1,
           36.07610397171208,
           "Bobby Portis"
          ],
          [
           -1.7333333333333334,
           26.712304696941093,
           "Kevon Looney"
          ],
          [
           -3.966666666666667,
           23.60224800969412,
           "Rashad Vaughn"
          ],
          [
           0.41999999999999993,
           25.11026350585218,
           "Christian Wood"
          ],
          [
           -3.9333333333333336,
           12.678963329512042,
           "Jordan Mickey"
          ],
          [
           0.75,
           10.618105606305981,
           "Rakeem Christmas"
          ],
          [
           -0.3,
           12.703149215844078,
           "Dakari Johnson"
          ],
          [
           -0.43333333333333335,
           33.56731627971203,
           "Rondae Hollis-Jefferson"
          ],
          [
           -0.7333333333333333,
           40.78756618818479,
           "Terry Rozier"
          ],
          [
           -0.33333333333333326,
           36.435300343363615,
           "Norman Powell"
          ],
          [
           -5.7,
           5.372615750265414,
           "Branden Dawson"
          ],
          [
           -4.375,
           21.90551680893803,
           "Chasson Randle"
          ],
          [
           -4.35,
           27.048421087622366,
           "Jarell Martin"
          ],
          [
           -2.3600000000000003,
           23.031160051837034,
           "Quinn Cook"
          ],
          [
           -2.6,
           13.324226056323122,
           "Chris McCullough"
          ],
          [
           -1.45,
           31.69196357999223,
           "Pat Connaughton"
          ],
          [
           0.21999999999999997,
           27.755984339717926,
           "Willy Hernangomez"
          ],
          [
           -0.6666666666666666,
           43.65209680594455,
           "Josh Richardson"
          ],
          [
           -5.466666666666666,
           16.923438710196518,
           "Darrun Hilliard"
          ],
          [
           -4.466666666666667,
           18.945477326029845,
           "Joe Young"
          ],
          [
           -3.25,
           26.847416076784732,
           "Treveon Graham"
          ],
          [
           1,
           37.61006809648475,
           "Larry Nance Jr."
          ],
          [
           9.7,
           2.7215191835933603,
           "Vincent Hunter"
          ],
          [
           -3.0599999999999996,
           34.95097995764924,
           "Mario Hezonja"
          ],
          [
           1.3250000000000002,
           14.762551157122761,
           "Alan Williams"
          ],
          [
           -2.5,
           16.69001697622465,
           "Bryce Dejean-Jones"
          ],
          [
           0.3,
           42.162201674011285,
           "Royce O'Neale"
          ],
          [
           -2.975,
           40.426728987968666,
           "Cedi Osman"
          ],
          [
           -20.55,
           4.999333288882964,
           "Luis Montero"
          ],
          [
           -1.9000000000000001,
           24.337522470457003,
           "Cristiano Felicio"
          ],
          [
           2.65,
           20.46465788187582,
           "Boban Marjanovic"
          ],
          [
           -7,
           4.922736366426024,
           "Duje Dukan"
          ],
          [
           -4.633333333333334,
           11.748829728955986,
           "Axel Toupane"
          ],
          [
           -2.8,
           18.205905635260223,
           "Maurice Ndour"
          ],
          [
           0.25,
           24.648512463567997,
           "Salah Mejri"
          ],
          [
           -1.2666666666666666,
           10.874562571023764,
           "Malcolm Miller"
          ],
          [
           16.5,
           2.4086649137367924,
           "Coty Clarke"
          ],
          [
           -6.2,
           2.503331114069146,
           "JJ O'Brien"
          ],
          [
           -4.8,
           23.509342114714034,
           "Marcelo Huertas"
          ],
          [
           16,
           2.0575065816014613,
           "Jordan Sibert"
          ],
          [
           -12.7,
           2.466441431158123,
           "Jacob Pullen"
          ],
          [
           0.19999999999999973,
           11.64356045202669,
           "Jonathan Gibson"
          ],
          [
           -4.1,
           33.628237142814,
           "Malcolm Delaney"
          ],
          [
           -5.199999999999999,
           10.056134114724872,
           "Walt Lemon Jr."
          ],
          [
           -2.4,
           8.494213716799614,
           "Alex Stepheson"
          ],
          [
           -2.9000000000000004,
           14.261019131417877,
           "Briante Weber"
          ],
          [
           -4.6,
           15.933821470904807,
           "Julian Washburn"
          ],
          [
           3.65,
           48.2855266444649,
           "Ben Simmons"
          ],
          [
           -3.9499999999999997,
           30.63813663829226,
           "Dragan Bender"
          ],
          [
           0.9,
           43.977611728393505,
           "Domantas Sabonis"
          ],
          [
           -4.633333333333334,
           13.893523671121015,
           "Wade Baldwin IV"
          ],
          [
           -1.3199999999999998,
           31.777749028736025,
           "Malik Beasley"
          ],
          [
           -2.8,
           31.597172869314317,
           "Marquese Chriss"
          ],
          [
           -2.6999999999999997,
           20.809920177112108,
           "Deyonta Davis"
          ],
          [
           -4.22,
           33.35031234236543,
           "Kris Dunn"
          ],
          [
           -4.9,
           12.551945400348636,
           "Henry Ellenson"
          ],
          [
           0.32,
           47.278310742524056,
           "Buddy Hield"
          ],
          [
           -0.6599999999999999,
           45.18886293472468,
           "Brandon Ingram"
          ],
          [
           3.0333333333333337,
           6.743268248161767,
           "Demetrius Jackson"
          ],
          [
           -1.2,
           7.320632941670186,
           "Brice Johnson"
          ],
          [
           -3.7199999999999998,
           20.08024734243414,
           "Damian Jones"
          ],
          [
           -2.325,
           25.471307386940325,
           "Skal Labissiere"
          ],
          [
           -0.32,
           37.35938079429762,
           "Caris LeVert"
          ],
          [
           -1.48,
           26.925601200344627,
           "Thon Maker"
          ],
          [
           -0.7749999999999999,
           38.37507328983229,
           "Dejounte Murray"
          ],
          [
           0.3,
           45.57147499624446,
           "Jamal Murray"
          ],
          [
           0.5199999999999999,
           35.88559599616537,
           "Jakob Poeltl"
          ],
          [
           -1.92,
           39.396755365554334,
           "Taurean Prince"
          ],
          [
           20.95,
           7.903216644717105,
           "Zhou Qi"
          ],
          [
           -20.8,
           4.9249365478146006,
           "Diamond Stone"
          ],
          [
           -5.733333333333334,
           30.452257715972408,
           "Tyler Ulis"
          ],
          [
           -1.9,
           33.894468575270515,
           "Denzel Valentine"
          ],
          [
           -8.3,
           10.380751417888785,
           "Stephen Zimmerman"
          ],
          [
           -4.033333333333334,
           21.553744196516963,
           "Ron Baker"
          ],
          [
           -0.6,
           43.21740390166908,
           "Jaylen Brown"
          ],
          [
           -3,
           30.477767853524533,
           "DeAndre' Bembry"
          ],
          [
           -0.8,
           6.715405175167516,
           "Joel Bolomboy"
          ],
          [
           0.9,
           42.06140748952655,
           "Malcolm Brogdon"
          ],
          [
           -1.775,
           23.20447155183673,
           "Cheick Diallo"
          ],
          [
           -6.75,
           16.20635163549568,
           "Kay Felder"
          ],
          [
           -12.1,
           5.616938667993447,
           "Michael Gbinije"
          ],
          [
           -0.8999999999999999,
           10.768008172359462,
           "Daniel Hamilton"
          ],
          [
           -6.6,
           12.77621488026352,
           "AJ Hammons"
          ],
          [
           -3.4,
           23.951875361510506,
           "Jake Layman"
          ],
          [
           -2.08,
           25.97666901920516,
           "Patrick McCaw"
          ],
          [
           -3.2199999999999998,
           23.316896591670755,
           "Georges Niang"
          ],
          [
           -8.1,
           6.048415770541353,
           "Chinanu Onuaku"
          ],
          [
           -8.8,
           5.293077239816807,
           "Marcus Paige"
          ],
          [
           3.2199999999999998,
           12.713785169387334,
           "Gary Payton II"
          ],
          [
           -6.533333333333334,
           14.432101564067352,
           "Malachi Richardson"
          ],
          [
           -4.666666666666667,
           28.082695343890652,
           "Wayne Selden"
          ],
          [
           0.78,
           42.9001864797812,
           "Pascal Siakam"
          ],
          [
           -3.4,
           9.162332308606445,
           "Jarrod Uthoff"
          ],
          [
           -4.449999999999999,
           30.192134737378236,
           "Isaiah Whitehead"
          ],
          [
           -2.233333333333333,
           19.796983496370242,
           "Troy Williams"
          ],
          [
           -5.4,
           6.624449662676387,
           "Kyle Wiltjer"
          ],
          [
           -2.6999999999999997,
           29.066532874309804,
           "Furkan Korkmaz"
          ],
          [
           -4.1,
           30.228093996589784,
           "Timothe Luwawu-Cabarrot"
          ],
          [
           -1.8,
           22.48577328000972,
           "Ante Zizic"
          ],
          [
           -25.9,
           3.1411250638372663,
           "Ben Bentil"
          ],
          [
           -1.1,
           32.28586894189675,
           "Yogi Ferrell"
          ],
          [
           -1.55,
           28.640850778797276,
           "Damion Lee"
          ],
          [
           -2.3,
           16.93408790969661,
           "Sheldon Mac"
          ],
          [
           -3.8333333333333335,
           13.733879438980244,
           "Alex Poythress"
          ],
          [
           -6.25,
           6.811448695639816,
           "Tim Quarterman"
          ],
          [
           -6.1,
           24.688171931784154,
           "Isaiah Taylor"
          ],
          [
           -6.2,
           23.375782815174812,
           "Tyrone Wallace"
          ],
          [
           -8.3,
           10.951331730281344,
           "James Webb III"
          ],
          [
           -2.16,
           29.019614056703112,
           "Juancho Hernangomez"
          ],
          [
           -1.9500000000000002,
           15.586211855354719,
           "Guerschon Yabusele"
          ],
          [
           -0.08000000000000007,
           31.59748935174017,
           "Ivica Zubac"
          ],
          [
           -1.7399999999999998,
           40.287818671818556,
           "Dorian Finney-Smith"
          ],
          [
           1.2,
           38.47300785399202,
           "Fred VanVleet"
          ],
          [
           -3.9499999999999997,
           15.437427462717583,
           "Georgios Papagiannis"
          ],
          [
           -5.25,
           28.873690446494713,
           "Paul Zipser"
          ],
          [
           -2.375,
           24.684939740659694,
           "Abdel Nader"
          ],
          [
           1.2,
           15.284469241684516,
           "Shawn Long"
          ],
          [
           -8.4,
           8.654671185743181,
           "Daniel Ochefu"
          ],
          [
           -4.55,
           10.53407170407847,
           "Marshall Plumlee"
          ],
          [
           -28.3,
           22.56278277754464,
           "Mindaugas Kuzminskas"
          ],
          [
           -6.45,
           16.29859400889127,
           "Nicolas Brussino"
          ],
          [
           -2.775,
           30.190306115263773,
           "Ryan Arcidiacono"
          ],
          [
           -2.74,
           37.49123008562581,
           "Bryn Forbes"
          ],
          [
           -6.866666666666667,
           13.626139096114741,
           "Okaro White"
          ],
          [
           -0.7,
           5.674504383644443,
           "Matt Costello"
          ],
          [
           -2.6,
           21.898782310134667,
           "Kyle Collinsworth"
          ],
          [
           -9.5,
           5.01829984490099,
           "Mike Tobey"
          ],
          [
           -1.08,
           29.07612995797986,
           "Danuel House Jr."
          ],
          [
           -0.2,
           5.181698563212646,
           "Jameel Warney"
          ],
          [
           -17.9,
           6.566328248470883,
           "Patricio Garino"
          ],
          [
           -4.8,
           11.659295290310938,
           "Marcus Georges-Hunt"
          ],
          [
           -3.9,
           13.189136944217882,
           "Nicolas Laprovittola"
          ],
          [
           -5.1,
           14.062272220377473,
           "Jalen Jones"
          ],
          [
           -1.24,
           30.453636892824466,
           "Derrick Jones Jr."
          ],
          [
           -0.825,
           25.647595728774785,
           "Shaquille Harrison"
          ],
          [
           -0.825,
           29.51455149582997,
           "Alex Caruso"
          ],
          [
           -10.1,
           7.387489424696322,
           "Josh Gray"
          ],
          [
           -1.3,
           19.444193649176274,
           "Myke Henry"
          ],
          [
           -1.3,
           28.193787731815426,
           "David Nwaba"
          ],
          [
           -3.05,
           21.841836766474845,
           "Alfonzo McKinnie"
          ],
          [
           -1,
           7.404953297174352,
           "Jordan Loyd"
          ],
          [
           3.5,
           6.866585760041158,
           "Mitchell Creek"
          ],
          [
           -2.975,
           26.88390162656207,
           "Markelle Fultz"
          ],
          [
           0.75,
           41.75837740302337,
           "Lonzo Ball"
          ],
          [
           -2.925,
           38.36795537945696,
           "Josh Jackson"
          ],
          [
           0.22499999999999998,
           45.39248744744738,
           "De'Aaron Fox"
          ],
          [
           2.225,
           48.61171840890494,
           "Jayson Tatum"
          ],
          [
           -2.625,
           32.245574631774396,
           "Malik Monk"
          ],
          [
           0.16666666666666666,
           34.212522074039875,
           "Jonathan Isaac"
          ],
          [
           -2.5,
           33.59686865369053,
           "Dennis Smith Jr."
          ],
          [
           -3.975,
           32.08554970699424,
           "Frank Ntilikina"
          ],
          [
           -0.225,
           40.34592090079656,
           "Lauri Markkanen"
          ],
          [
           2.175,
           48.40399002148483,
           "Donovan Mitchell"
          ],
          [
           -0.6000000000000001,
           35.54425058993365,
           "Luke Kennard"
          ],
          [
           -2.8666666666666667,
           29.950477644123012,
           "Zach Collins"
          ],
          [
           1.525,
           41.30463553484847,
           "John Collins"
          ],
          [
           -3,
           34.427574946061284,
           "Justin Jackson"
          ],
          [
           -2.7750000000000004,
           8.592632503100157,
           "Justin Patton"
          ],
          [
           -0.15000000000000002,
           39.7890269630544,
           "OG Anunoby"
          ],
          [
           -2.4,
           24.731322919191634,
           "Harry Giles III"
          ],
          [
           1.0499999999999998,
           42.580781071589854,
           "Jarrett Allen"
          ],
          [
           -7.1499999999999995,
           4.2391036788453285,
           "Ike Anigbogu"
          ],
          [
           2.4250000000000003,
           44.272913088403556,
           "Bam Adebayo"
          ],
          [
           -6.475,
           31.626505234270383,
           "Terrance Ferguson"
          ],
          [
           -2.875,
           20.908770089765362,
           "D.J. Wilson"
          ],
          [
           -1.5,
           18.674224660388624,
           "Isaiah Hartenstein"
          ],
          [
           -7.65,
           20.52080245344546,
           "Jawun Evans"
          ],
          [
           -26.1,
           14.886459171564836,
           "Anzejs Pasecniks"
          ],
          [
           -1.6,
           21.99702631417862,
           "Jordan Bell"
          ],
          [
           -2.725,
           18.78902605245945,
           "Tony Bradley"
          ],
          [
           -1.7,
           24.862538754787966,
           "Ivan Rabb"
          ],
          [
           -1.2750000000000001,
           45.26285728939347,
           "Kyle Kuzma"
          ],
          [
           -4.800000000000001,
           6.917489910846758,
           "Tyler Lydon"
          ],
          [
           -3.2,
           30.434574636970588,
           "Semi Ojeleye"
          ],
          [
           1.45,
           33.937350367994235,
           "Derrick White"
          ],
          [
           -3.933333333333333,
           30.023657338838635,
           "Frank Jackson"
          ],
          [
           -6.233333333333333,
           14.781031387859542,
           "Caleb Swanigan"
          ],
          [
           -0.7250000000000001,
           39.6234831465719,
           "Josh Hart"
          ],
          [
           0.9666666666666668,
           11.149439447792876,
           "Johnathan Motley"
          ],
          [
           -5.075,
           31.669201652920336,
           "Dwayne Bacon"
          ],
          [
           -2.8,
           14.995165887711947,
           "Alec Peters"
          ],
          [
           -1.025,
           19.493545940473044,
           "Edmond Sumner"
          ],
          [
           -4.1,
           30.601225465657418,
           "Wes Iwundu"
          ],
          [
           -3.275,
           20.10397970552099,
           "Frank Mason III"
          ],
          [
           -4.949999999999999,
           18.51654665427655,
           "Jonah Bolden"
          ],
          [
           -3.1500000000000004,
           20.74640531112157,
           "Sindarius Thornwell"
          ],
          [
           -4.525,
           41.19578760828184,
           "Dillon Brooks"
          ],
          [
           -3.2,
           28.914212191700237,
           "Tyler Dorsey"
          ],
          [
           -3.8,
           20.95614468360056,
           "Jaron Blossomgame"
          ],
          [
           0.45000000000000007,
           27.32334929445266,
           "Thomas Bryant"
          ],
          [
           -2,
           9.347905291204725,
           "Cameron Oliver"
          ],
          [
           2.6,
           34.74261912022944,
           "Monte Morris"
          ],
          [
           -0.10000000000000009,
           7.339277893635041,
           "Devin Robinson"
          ],
          [
           -2.775,
           32.485176106443795,
           "Damyean Dotson"
          ],
          [
           -8.75,
           17.95680001188036,
           "Kobi Simmons"
          ],
          [
           -2.05,
           30.8472175946767,
           "Sterling Brown"
          ],
          [
           -3.7,
           12.778204099168239,
           "Vlatko Cancar"
          ],
          [
           -14.4,
           6.1729247524977975,
           "Charles Cooke"
          ],
          [
           -3.9,
           7.057265759485043,
           "Nigel Williams-Goss"
          ],
          [
           -5.95,
           12.022374973356964,
           "Davon Reed"
          ],
          [
           0.4750000000000001,
           22.452561101130527,
           "Luke Kornet"
          ],
          [
           -3.75,
           11.657687020445636,
           "Isaiah Hicks"
          ],
          [
           -2.6999999999999997,
           14.603500341432598,
           "Kadeem Allen"
          ],
          [
           -3.1,
           10.701868995647443,
           "Jabari Bird"
          ],
          [
           -6.300000000000001,
           24.67671810972168,
           "Chris Boucher"
          ],
          [
           -3.4,
           4.363675820528686,
           "Eric Mika"
          ],
          [
           -2.3,
           5.766859341675215,
           "Jacob Wiley"
          ],
          [
           -2.95,
           21.476479382493455,
           "Mike James"
          ],
          [
           -3.5500000000000003,
           25.33829447035981,
           "Milos Teodosic"
          ],
          [
           -5.15,
           16.702968797991172,
           "Tyler Cavanaugh"
          ],
          [
           0.6749999999999999,
           35.39075326503616,
           "Daniel Theis"
          ],
          [
           0.07500000000000001,
           38.53170772234213,
           "Maxi Kleber"
          ],
          [
           -5.2,
           23.905403852127943,
           "Antonio Blakeney"
          ],
          [
           -1.6749999999999998,
           31.651592903570183,
           "Torrey Craig"
          ],
          [
           -11.2,
           3.3763886032268267,
           "Matt Williams Jr."
          ],
          [
           0.15000000000000002,
           14.062657406526442,
           "Derrick Walton Jr."
          ],
          [
           -2.2,
           7.977050415619378,
           "Gian Clavell"
          ],
          [
           -4.6,
           4.449719092257398,
           "Mangok Mathiang"
          ],
          [
           -6.8,
           11.158703628408947,
           "Milton Doyle"
          ],
          [
           -7.65,
           9.172467861304648,
           "Antonius Cleveland"
          ],
          [
           -9.3,
           3.046856303361438,
           "Ben Moore"
          ],
          [
           -3.8,
           11.053129270331864,
           "Nigel Hayes"
          ],
          [
           -5.4,
           16.703542538435762,
           "Jamel Artis"
          ],
          [
           -11.5,
           10.8531101533155,
           "Xavier Rathan-Mayes"
          ],
          [
           13.3,
           3.953901027255652,
           "Troy Caupain"
          ],
          [
           -9.2,
           8.094648437908425,
           "London Perrantes"
          ],
          [
           -5.5,
           14.46052096802418,
           "Andrew White III"
          ],
          [
           77.36666666666666,
           6.615176154537047,
           "Naz Mitrou-Long"
          ],
          [
           -5,
           23.64804431660259,
           "Isaiah Briscoe"
          ],
          [
           -1.65,
           8.443340571124677,
           "Amile Jefferson"
          ],
          [
           -2.9000000000000004,
           7.968793300535951,
           "Jaylen Morris"
          ],
          [
           -3.9,
           22.016035822403033,
           "Mychal Mulder"
          ],
          [
           -13.7,
           2.742565708723616,
           "Erik McCree"
          ],
          [
           -4.8,
           5.410945696764411,
           "Amida Brimah"
          ],
          [
           -3.3,
           4.435651023243375,
           "Dusty Hannahs"
          ],
          [
           -5.5,
           7.9645045880665615,
           "Billy Garrett"
          ],
          [
           -8.2,
           17.017246154024658,
           "Rodney Purvis"
          ],
          [
           -6.6,
           2.8225284173355405,
           "Tahjere McCall"
          ],
          [
           -0.75,
           13.854030701087206,
           "Paul Watson"
          ],
          [
           -8.9,
           5.873670062235365,
           "Aaron Jackson"
          ],
          [
           -7.3,
           10.970566682415862,
           "Rawle Alkins"
          ],
          [
           -2.6,
           28.250358896441966,
           "Grayson Allen"
          ],
          [
           -8.666666666666666,
           5.369305769319202,
           "Kostas Antetokounmpo"
          ],
          [
           -3.8,
           7.563068160475615,
           "Udoka Azubuike"
          ],
          [
           -2.533333333333333,
           31.692533295189037,
           "Marvin Bagley III"
          ],
          [
           -0.3,
           28.101828726575388,
           "Mo Bamba"
          ],
          [
           -2.233333333333333,
           22.303798879214373,
           "Keita Bates-Diop"
          ],
          [
           -10.95,
           4.792268078199857,
           "Brian Bowen II"
          ],
          [
           0.8333333333333334,
           47.63392231966157,
           "Mikal Bridges"
          ],
          [
           -1.0333333333333332,
           43.296773038594424,
           "Miles Bridges"
          ],
          [
           -1.5333333333333332,
           38.87808580107252,
           "Bruce Brown"
          ],
          [
           -2.6333333333333333,
           31.8074502104285,
           "Troy Brown Jr."
          ],
          [
           -0.5666666666666667,
           37.905760336216225,
           "Jalen Brunson"
          ],
          [
           -0.9666666666666667,
           27.315014186340814,
           "Jevon Carter"
          ],
          [
           -1.7666666666666666,
           35.31243092421959,
           "Wendell Carter Jr."
          ],
          [
           -3.4,
           29.70944481324268,
           "Hamidou Diallo"
          ],
          [
           -0.20000000000000004,
           35.338160047681534,
           "Donte DiVincenzo"
          ],
          [
           24.4,
           2.3671361036774647,
           "Trevon Duval"
          ],
          [
           -7.6499999999999995,
           17.631175041197157,
           "Jacob Evans"
          ],
          [
           -5.3,
           21.661736618593924,
           "Bruno Fernando"
          ],
          [
           -8.4,
           9.229391457006614,
           "Melvin Frazier Jr."
          ],
          [
           1.7666666666666666,
           43.90083522364163,
           "Shai Gilgeous-Alexander"
          ],
          [
           -0.9333333333333332,
           38.92698292958241,
           "Devonte' Graham"
          ],
          [
           -6.7,
           8.985451203658796,
           "Devon Hall"
          ],
          [
           -5.1,
           7.219995383193351,
           "Kevin Hervey"
          ],
          [
           -2.466666666666667,
           33.85876712331849,
           "Aaron Holiday"
          ],
          [
           -1.4333333333333333,
           44.47808449112889,
           "Kevin Huerter"
          ],
          [
           -4.033333333333333,
           24.270764306053486,
           "Chandler Hutchison"
          ],
          [
           0.06666666666666668,
           33.640831671579605,
           "Jaren Jackson Jr."
          ],
          [
           -2.1999999999999997,
           11.118353195405232,
           "Alize Johnson"
          ],
          [
           -7.9,
           2.4289915602982237,
           "George King"
          ],
          [
           -3.766666666666667,
           35.53602241231968,
           "Kevin Knox II"
          ],
          [
           -2.2,
           23.824777018893588,
           "Caleb Martin"
          ],
          [
           -2.05,
           29.596339863796224,
           "Cody Martin"
          ],
          [
           -9.1,
           3.610170817749944,
           "Yante Maten"
          ],
          [
           -0.20000000000000018,
           32.64174219206649,
           "De'Anthony Melton"
          ],
          [
           -3.533333333333333,
           15.692638047469552,
           "Chimezie Metu"
          ],
          [
           -1.9333333333333336,
           29.06578744847626,
           "Shake Milton"
          ],
          [
           -3.1666666666666665,
           31.778355666851088,
           "Svi Mykhailiuk"
          ],
          [
           -25.7,
           1.9192012227313033,
           "Malik Newman"
          ],
          [
           -2.9333333333333336,
           38.73500426688441,
           "Josh Okogie"
          ],
          [
           -6.5,
           7.347902194957872,
           "Jontay Porter"
          ],
          [
           2.3,
           37.52023898289207,
           "Michael Porter Jr."
          ],
          [
           -5.2,
           23.12845769945665,
           "Jerome Robinson"
          ],
          [
           2.1999999999999997,
           34.757980698283106,
           "Mitchell Robinson"
          ],
          [
           -2.2333333333333334,
           47.82888481056421,
           "Collin Sexton"
          ],
          [
           -2.033333333333333,
           39.3975041510669,
           "Landry Shamet"
          ],
          [
           -3.6,
           29.96537817029665,
           "Anfernee Simons"
          ],
          [
           -7.4,
           8.454239567617353,
           "Zhaire Smith"
          ],
          [
           -1.5,
           29.073412825695808,
           "Omari Spellman"
          ],
          [
           -3.5,
           11.684866756241206,
           "Khyri Thomas"
          ],
          [
           -4.466666666666667,
           32.886327790672475,
           "Gary Trent Jr."
          ],
          [
           -1.75,
           29.574496332707536,
           "Allonzo Trier"
          ],
          [
           -3.533333333333333,
           20.453429486953475,
           "Jarred Vanderbilt"
          ],
          [
           -3.0666666666666664,
           25.84146108700341,
           "Moritz Wagner"
          ],
          [
           -3.1999999999999997,
           29.596959303279764,
           "Lonnie Walker IV"
          ],
          [
           -1.25,
           43.08514825319741,
           "P.J. Washington"
          ],
          [
           -1.6666666666666667,
           33.352477835653815,
           "Kenrich Williams"
          ],
          [
           2.3333333333333335,
           47.42747679937819,
           "Trae Young"
          ],
          [
           0.6,
           42.948082352740464,
           "Deandre Ayton"
          ],
          [
           6.366666666666667,
           47.00135340840967,
           "Luka Doncic"
          ],
          [
           -8.633333333333333,
           14.269333862829368,
           "Theo Pinson"
          ],
          [
           -9.7,
           9.12030701237629,
           "Ray Spalding"
          ],
          [
           -4.55,
           17.69352518107494,
           "Carsen Edwards"
          ],
          [
           13.7,
           3.253203549323851,
           "Shamorie Ponds"
          ],
          [
           -3.5,
           9.923541034664325,
           "Bonzie Colson"
          ],
          [
           -1.65,
           22.72188739226271,
           "Goga Bitadze"
          ],
          [
           -2.35,
           18.085975229442287,
           "Oshae Brissett"
          ],
          [
           -6.4,
           3.9644251369734174,
           "Vincent Edwards"
          ],
          [
           -37.6,
           1.5593802187621435,
           "Donte Grantham"
          ],
          [
           -0.44999999999999996,
           33.78758401148756,
           "Terence Davis"
          ],
          [
           4.3,
           23.49371074233367,
           "Robert Williams III"
          ],
          [
           -5.800000000000001,
           16.22503210063594,
           "Dzanan Musa"
          ],
          [
           -3.8,
           28.95597232581447,
           "Elie Okobo"
          ],
          [
           -3.1500000000000004,
           40.25679031749389,
           "Rui Hachimura"
          ],
          [
           -7.5,
           13.934489585198303,
           "Deng Adel"
          ],
          [
           -4.3,
           31.861994078630264,
           "Ky Bowman"
          ],
          [
           -3.3333333333333335,
           26.46890208863559,
           "Rodions Kurucs"
          ],
          [
           -4.466666666666666,
           24.50622369929731,
           "Isaac Bonga"
          ],
          [
           -1.6,
           15.675112971416405,
           "Tyler Cook"
          ],
          [
           -7.3,
           5.618718715152059,
           "Elijah Bryant"
          ],
          [
           -40.7,
           0.9548123724935004,
           "Tyler Davis"
          ],
          [
           -2.7,
           8.204978163692253,
           "Marcus Derrickson"
          ],
          [
           -4.7,
           14.639159811956423,
           "Brandon Sampson"
          ],
          [
           -3.3499999999999996,
           20.217113212985353,
           "Kelan Martin"
          ],
          [
           -2.5,
           24.904729582060426,
           "Gary Clark"
          ],
          [
           -12,
           3.8427420765212306,
           "Angel Delgado"
          ],
          [
           -3.55,
           15.42335890783846,
           "Wenyen Gabriel"
          ],
          [
           1.2,
           6.025501362265774,
           "Thomas Welsh"
          ],
          [
           -12.05,
           14.928300863349001,
           "Jaylen Adams"
          ],
          [
           -7.050000000000001,
           2.954375286474844,
           "J.P. Macura"
          ],
          [
           -10.9,
           10.531935561266362,
           "Jared Terrell"
          ],
          [
           -5.55,
           17.268589017828496,
           "Deonte Burton"
          ],
          [
           -1.3333333333333333,
           39.10793468793201,
           "Duncan Robinson"
          ],
          [
           -9.95,
           7.209253313161728,
           "Daryl Macon"
          ],
          [
           -1.4,
           42.500950969752786,
           "Kendrick Nunn"
          ],
          [
           -3.8333333333333335,
           18.27513489842292,
           "Yuta Watanabe"
          ],
          [
           -2.6,
           16.6054208016539,
           "Johnathan Williams"
          ],
          [
           -13.55,
           4.538630483600383,
           "Joe Chealey"
          ],
          [
           2.3,
           4.767773764207641,
           "Emanuel Terry"
          ],
          [
           -0.09999999999999998,
           17.800351120132433,
           "Ryan Broekhoff"
          ],
          [
           -5.8,
           4.652597840633414,
           "DeVaughn Akoon-Purcell"
          ],
          [
           -11.5,
           1.9364916731037085,
           "Zach Lofton"
          ],
          [
           -0.7,
           27.645373332018274,
           "Jordan McLaughlin"
          ],
          [
           -5.166666666666667,
           19.210341543611932,
           "Brandon Goodwin"
          ],
          [
           -6.65,
           8.121473593710279,
           "BJ Johnson"
          ],
          [
           -1.0666666666666667,
           14.897874568765396,
           "Chris Chiozza"
          ],
          [
           0.2,
           11.963137826952718,
           "Jemerrio Jones"
          ],
          [
           -7.9,
           19.205120844885794,
           "Gabe Vincent"
          ],
          [
           -1.0333333333333334,
           19.501353229398664,
           "Drew Eubanks"
          ],
          [
           -5.3,
           12.24605378615222,
           "Cameron Reynolds"
          ],
          [
           -1.4,
           26.263932810351662,
           "Juan Toscano-Anderson"
          ],
          [
           -8.2,
           6.307403057783235,
           "Haywood Highsmith"
          ],
          [
           -3.75,
           10.553395977914716,
           "Alen Smailagic"
          ],
          [
           -11,
           7.512212279570733,
           "Isaac Humphries"
          ],
          [
           -8.8,
           12.924524491575426,
           "Dairis Bertans"
          ],
          [
           -7.2,
           7.144461724534137,
           "Zylan Cheatham"
          ],
          [
           -1,
           17.04469614474447,
           "Chris Clemons"
          ],
          [
           -3.05,
           16.63663126958099,
           "Amir Coffey"
          ],
          [
           -2.4,
           11.876447280226525,
           "Mamadi Diakite"
          ],
          [
           -4.9,
           13.870231913466084,
           "CJ Elleby"
          ],
          [
           3.85,
           9.167469661798716,
           "Tacko Fall"
          ],
          [
           -0.2,
           10.035769360974125,
           "Robert Franks"
          ],
          [
           -18.9,
           3.47371079203014,
           "Jared Harper"
          ],
          [
           -9.6,
           5.313661637703326,
           "Dewan Hernandez"
          ],
          [
           -4.25,
           17.80290238509814,
           "DaQuan Jeffries"
          ],
          [
           -0.85,
           28.508302884130703,
           "Terance Mann"
          ],
          [
           -6.7,
           14.51447553306698,
           "Reggie Perry"
          ],
          [
           -6.25,
           8.259186804199715,
           "Justin Robinson"
          ],
          [
           -13,
           5.278730908087662,
           "Marial Shayok"
          ],
          [
           0.8499999999999999,
           16.01197468563241,
           "Max Strus"
          ],
          [
           -9,
           6.719374970932936,
           "Justin Wright-Foreman"
          ],
          [
           -3.55,
           11.103940741916816,
           "Bol Bol"
          ],
          [
           3.95,
           36.7017143105514,
           "Zion Williamson"
          ],
          [
           -2.75,
           45.90916756669271,
           "RJ Barrett"
          ],
          [
           -3.7,
           33.919635414707315,
           "Cam Reddish"
          ],
          [
           -0.05000000000000002,
           45.42681843727701,
           "Ja Morant"
          ],
          [
           -1.75,
           36.7132923248969,
           "De'Andre Hunter"
          ],
          [
           -2.65,
           43.75968464237374,
           "Coby White"
          ],
          [
           -4.8,
           31.65989839950009,
           "Jarrett Culver"
          ],
          [
           2.3,
           36.84280798202005,
           "Brandon Clarke"
          ],
          [
           -6.7,
           28.485186208507283,
           "Sekou Doumbouya"
          ],
          [
           -3.8,
           42.508303110490424,
           "Darius Garland"
          ],
          [
           0.15,
           31.964211758360843,
           "Jaxson Hayes"
          ],
          [
           -2.9499999999999997,
           28.26412626162945,
           "Nickeil Alexander-Walker"
          ],
          [
           -1.4500000000000002,
           39.643673307771756,
           "Tyler Herro"
          ],
          [
           -0.050000000000000044,
           33.67776219802421,
           "Keldon Johnson"
          ],
          [
           -4.75,
           18.063752840056978,
           "Romeo Langford"
          ],
          [
           -3.1,
           24.625748719582113,
           "Nassir Little"
          ],
          [
           -1.5,
           33.653429741013476,
           "Chuma Okeke"
          ],
          [
           -2.3499999999999996,
           15.377364316856562,
           "KZ Okpala"
          ],
          [
           -3.65,
           31.600698831935134,
           "Kevin Porter Jr."
          ],
          [
           -3,
           37.70719427377221,
           "Darius Bazley"
          ],
          [
           -8.05,
           11.15541721915113,
           "Jordan Bone"
          ],
          [
           -7.15,
           12.289460253946611,
           "Ignas Brazdeikis"
          ],
          [
           -6.2,
           21.829318969373887,
           "Moses Brown"
          ],
          [
           -0.14999999999999997,
           19.76216924665239,
           "Nic Claxton"
          ],
          [
           -3.6,
           34.37684540501062,
           "Luguentz Dort"
          ],
          [
           2.1,
           7.086136700158508,
           "Devon Dotson"
          ],
          [
           0.45000000000000007,
           26.46167039323104,
           "Daniel Gafford"
          ],
          [
           -9.05,
           11.06251177023856,
           "Kyle Guy"
          ],
          [
           -2.3,
           14.536649086590296,
           "Jaylen Hoard"
          ],
          [
           -1.65,
           26.319305335311093,
           "Talen Horton-Tucker"
          ],
          [
           -2.2,
           23.61539046187182,
           "Ty Jerome"
          ],
          [
           0.04999999999999999,
           36.69365294797814,
           "Cameron Johnson"
          ],
          [
           -1.0499999999999998,
           13.123166538606444,
           "Mfiondu Kabengele"
          ],
          [
           -0.6499999999999999,
           8.587879055195565,
           "Louis King"
          ],
          [
           -11.25,
           4.67635898251335,
           "Jalen Lecque"
          ],
          [
           -3.25,
           24.463254757561053,
           "Jalen McDaniels"
          ],
          [
           -8.4,
           6.387618231130184,
           "Zach Norvell Jr."
          ],
          [
           -3.3,
           21.33361978974345,
           "Jaylen Nowell"
          ],
          [
           -1.1,
           16.540455455236625,
           "Jordan Nwora"
          ],
          [
           -3,
           17.726909864196113,
           "Miye Oni"
          ],
          [
           -2.7,
           34.26960509450515,
           "Eric Paschall"
          ],
          [
           -3.55,
           33.62829909466133,
           "Jordan Poole"
          ],
          [
           -1.05,
           30.34923118191516,
           "Naz Reid"
          ],
          [
           -9.35,
           26.801834514326348,
           "Isaiah Roby"
          ],
          [
           -4.5,
           13.352777488847286,
           "Luka Samanic"
          ],
          [
           -5.5,
           19.193271390429175,
           "Admiral Schofield"
          ],
          [
           1.0999999999999999,
           35.95439240667731,
           "Matisse Thybulle"
          ],
          [
           -3.7,
           13.482210501249416,
           "Killian Tillie"
          ],
          [
           -3.6,
           13.347565321061365,
           "Tremont Waters"
          ],
          [
           -6.2,
           9.970665307123024,
           "Quinndary Weatherspoon"
          ],
          [
           -3.2,
           33.02370360816606,
           "Grant Williams"
          ],
          [
           -1.7,
           22.64181235384365,
           "Dylan Windler"
          ],
          [
           -5.4,
           11.537475171515343,
           "Deividas Sirvydis"
          ],
          [
           -6.7,
           9.160922442636448,
           "Adam Mokoka"
          ],
          [
           -9.6,
           7.505775553976198,
           "Didi Louzada"
          ],
          [
           -2.8499999999999996,
           16.474272872168502,
           "Justin James"
          ],
          [
           -1.1999999999999997,
           10.824586212260794,
           "Jarrell Brantley"
          ],
          [
           1.2000000000000002,
           3.9654760117796686,
           "Marques Bolden"
          ],
          [
           -3.2,
           22.8114006584427,
           "Armoni Brooks"
          ],
          [
           -0.4,
           7.297259759663211,
           "Devontae Cacok"
          ],
          [
           2.85,
           19.443207897189524,
           "John Konchar"
          ],
          [
           -9.6,
           7.866913837924837,
           "Vic Law"
          ],
          [
           -3.15,
           9.334166629467607,
           "Jeremiah Martin"
          ],
          [
           -1.4500000000000002,
           25.153015061154566,
           "Garrison Mathews"
          ],
          [
           -9.4,
           5.321497283033535,
           "Josh Reaves"
          ],
          [
           -4.75,
           10.71443730051497,
           "Rayjon Tucker"
          ],
          [
           -1.3,
           25.333031796451017,
           "Dean Wade"
          ],
          [
           -10.1,
           3.6560452221856745,
           "Kyle Alexander"
          ],
          [
           -3.9,
           14.809287626351246,
           "Chris Silva"
          ],
          [
           -9.3,
           9.195787078874767,
           "Vincent Poirier"
          ],
          [
           -19.6,
           3.6423435679060674,
           "William Howard"
          ],
          [
           -2.4,
           28.357288892511065,
           "Nicolo Melli"
          ],
          [
           -3.4,
           21.99124825925077,
           "Marko Guduric"
          ],
          [
           -17.6,
           3.9093904043128385,
           "Stanton Kidd"
          ],
          [
           -1.15,
           12.497933162460622,
           "Donta Hall"
          ],
          [
           -1.7499999999999998,
           19.578687392161918,
           "Matt Thomas"
          ],
          [
           -5.8,
           3.924283374069717,
           "Tariq Owens"
          ],
          [
           -0.6,
           21.697618916984105,
           "Javonte Green"
          ],
          [
           -2.6,
           11.111255554616678,
           "Dakota Mathias"
          ],
          [
           -2.75,
           11.865039682473336,
           "Juwan Morgan"
          ],
          [
           -0.4,
           4.330127018922194,
           "Matt Mooney"
          ],
          [
           -10.7,
           8.65524888916161,
           "Keljin Blevins"
          ],
          [
           -3.1,
           8.622644605919925,
           "Devin Cannady"
          ],
          [
           -2.1,
           48.105786207759564,
           "Anthony Edwards"
          ],
          [
           1.8,
           38.321969330050486,
           "LaMelo Ball"
          ],
          [
           -5,
           28.91158937173811,
           "James Wiseman"
          ],
          [
           -7.2,
           25.888446586588913,
           "Killian Hayes"
          ],
          [
           -3.1,
           35.452456426412404,
           "Deni Avdija"
          ],
          [
           -0.7,
           26.135799203391507,
           "Obi Toppin"
          ],
          [
           -1.4,
           24.519550023059825,
           "Onyeka Okongwu"
          ],
          [
           1.4,
           41.781295655671926,
           "Tyrese Haliburton"
          ],
          [
           -1.5,
           32.49558944431275,
           "Devin Vassell"
          ],
          [
           -5.1,
           46.61796863871269,
           "Isaac Okoro"
          ],
          [
           -2.4,
           44.53489268727017,
           "Patrick Williams"
          ],
          [
           -4.1,
           27.149278689006326,
           "Precious Achiuwa"
          ],
          [
           -3.2,
           25.859846609496103,
           "Aaron Nesmith"
          ],
          [
           -3.3,
           35.67692998750495,
           "Cole Anthony"
          ],
          [
           -6.1,
           10.709808588392232,
           "Vernon Carey Jr."
          ],
          [
           -5,
           42.1627995591691,
           "Theo Maledon"
          ],
          [
           -1.5,
           30.58717051314162,
           "Tyrese Maxey"
          ],
          [
           -5,
           7.503776826816393,
           "Tyrell Terry"
          ],
          [
           -0.5,
           43.692295278077005,
           "Saddiq Bey"
          ],
          [
           -3.8,
           29.804082494405577,
           "R.J. Hampton"
          ],
          [
           -3.6,
           21.086290965142897,
           "Josh Green"
          ],
          [
           -3.5,
           38.86879639676703,
           "Jaden McDaniels"
          ],
          [
           -3.4,
           30.073964376738445,
           "Kira Lewis Jr."
          ],
          [
           -3.9,
           19.076643660071156,
           "Nico Mannion"
          ],
          [
           -4.5,
           9.719825101307121,
           "Jahmi'us Ramsey"
          ],
          [
           -5.2,
           12.684767768206598,
           "Daniel Oturu"
          ],
          [
           -6.1,
           12.478982330302419,
           "Jalen Smith"
          ],
          [
           -9.5,
           8.423182296495785,
           "Tyler Bey"
          ],
          [
           -2.8,
           7.9821676254010105,
           "Elijah Hughes"
          ],
          [
           -1.1,
           38.142211961727256,
           "Isaiah Stewart"
          ],
          [
           -1.7,
           19.93184219617778,
           "Zeke Nnaji"
          ],
          [
           0.9,
           35.263082678631484,
           "Immanuel Quickley"
          ],
          [
           -1,
           13.314716169211682,
           "Paul Reed"
          ],
          [
           -6.1,
           33.01386072545893,
           "Aleksej Pokusevski"
          ],
          [
           -3,
           19.565871647676037,
           "Isaiah Joe"
          ],
          [
           -11.2,
           9.660141475844611,
           "Cassius Stanley"
          ],
          [
           -3.5,
           16.389224102033232,
           "Tre Jones"
          ],
          [
           -2.6,
           30.455623454462394,
           "Malachi Flynn"
          ],
          [
           -0.7,
           35.60278547155166,
           "Payton Pritchard"
          ],
          [
           5.1,
           5.218556633144197,
           "Grant Riller"
          ],
          [
           -21.1,
           2.016597794967224,
           "Ashton Hagans"
          ],
          [
           -4.2,
           22.333047261849423,
           "Lamar Stevens"
          ],
          [
           -10.9,
           9.175147591910077,
           "Jay Scrubb"
          ],
          [
           -3.4,
           9.661780374237452,
           "Nate Hinton"
          ],
          [
           -8,
           7.913174668445863,
           "Nick Richards"
          ],
          [
           -8.7,
           14.316016671313742,
           "Markus Howard"
          ],
          [
           -9.9,
           9.39769475279266,
           "Karim Mane"
          ],
          [
           -3.2,
           9.90933902942068,
           "Cassius Winston"
          ],
          [
           -0.8,
           38.97390152396857,
           "Desmond Bane"
          ],
          [
           -5.3,
           6.736467917239716,
           "Robert Woodard II"
          ],
          [
           1.9,
           16.407213860575688,
           "Skylar Mays"
          ],
          [
           -11.9,
           18.33030277982336,
           "Josh Hall"
          ],
          [
           -2.7,
           18.28897664350488,
           "Mason Jones"
          ],
          [
           0.3,
           13.118879525325324,
           "Jalen Harris"
          ],
          [
           -1.3,
           26.451811532167945,
           "Naji Marshall"
          ],
          [
           -1.8,
           32.674888421130525,
           "Kenyon Martin Jr."
          ],
          [
           -3.7,
           16.696606441629598,
           "Nathan Knight"
          ],
          [
           -6.5,
           6.890936075744717,
           "Ty-Shon Alexander"
          ],
          [
           -1.3,
           17.378530816307027,
           "Trent Forrest"
          ],
          [
           -6.1,
           20.37670238286853,
           "Anthony Lamb"
          ],
          [
           -9.1,
           3.2888701200665706,
           "Malik Fitts"
          ],
          [
           -2,
           27.939130265632823,
           "Saben Lee"
          ],
          [
           -1,
           15.251174818135585,
           "Sam Merrill"
          ],
          [
           -4.3,
           12.557335173780583,
           "Sean McDermott"
          ],
          [
           -1.4,
           45.196423162310865,
           "Jae'Sean Tate"
          ],
          [
           -1.3,
           14.765331015591896,
           "Anthony Gill"
          ],
          [
           -39.3,
           1.807392228230129,
           "Will Magnay"
          ],
          [
           -0.6,
           37.748267068392295,
           "Facundo Campazzo"
          ],
          [
           -4,
           5.110446816734003,
           "Nate Darling"
          ],
          [
           -4.4,
           19.981741665830835,
           "Brodric Thomas"
          ],
          [
           -3.2,
           19.796548520722823,
           "Freddie Gillespie"
          ],
          [
           -0.4,
           14.546706385524766,
           "Gabriel Deck"
          ]
         ],
         "hovertemplate": "x=%{x}<br>y=%{y}<br>minutes=%{customdata[1]}<br>hover=%{marker.color}<br>names=%{customdata[2]}<extra></extra>",
         "legendgroup": "",
         "marker": {
          "color": [
           1,
           -1.8142857142857143,
           -5.166666666666667,
           -2.8,
           -10.3,
           -0.35833333333333334,
           4.1,
           1.25,
           -0.09999999999999998,
           -1.25,
           -3.22,
           -4.0200000000000005,
           -3.1399999999999997,
           -1.0999999999999999,
           -8.6,
           -3.6500000000000004,
           -4.8,
           -6.7,
           -6.1,
           -4.071428571428571,
           0.03750000000000002,
           -0.6166666666666667,
           -8.3,
           -33,
           -2.766666666666667,
           -7.6000000000000005,
           0.58,
           -0.9399999999999998,
           -6.9,
           2.963636363636364,
           0.5636363636363636,
           -5.3999999999999995,
           -0.11999999999999997,
           1.4,
           -2.1333333333333333,
           -7.1,
           0.27142857142857146,
           -3.2000000000000006,
           -0.2666666666666666,
           -0.6,
           -0.54,
           -4.942857142857143,
           -10.1,
           -9.2,
           -6.45,
           -5.55,
           0.2555555555555556,
           -3.0833333333333335,
           0.7230769230769231,
           -9.3,
           0.3,
           -3.2625,
           -4.928571428571429,
           1.2399999999999998,
           -0.11666666666666685,
           -6.825,
           -0.42500000000000004,
           -6.65,
           1.5666666666666667,
           -0.95,
           1.9749999999999999,
           -1.7714285714285716,
           -12.549999999999999,
           0.1,
           1.088888888888889,
           0.3999999999999999,
           -7.1,
           -2.325,
           1.6555555555555554,
           -3.3,
           -2.8,
           -0.41818181818181815,
           3.1,
           -0.18333333333333335,
           -2.52,
           -9.9,
           -4.15,
           -3.466666666666667,
           -2.2625,
           0.03333333333333329,
           -0.23636363636363636,
           -6.25,
           -4.425,
           -0.9333333333333332,
           -0.3,
           -1.7857142857142858,
           2.0833333333333335,
           1.3599999999999999,
           -0.9714285714285715,
           -5.55,
           -1.8666666666666665,
           -6.9,
           -2.88,
           -1.44,
           -5.266666666666667,
           -1.6833333333333336,
           -2.557142857142857,
           -2.3,
           -1.7399999999999998,
           -1.9666666666666668,
           0.42500000000000004,
           2.65,
           -2.025,
           -4.74,
           -1.2750000000000001,
           1.0833333333333333,
           0.4,
           -4.366666666666667,
           0.45999999999999996,
           -1.1857142857142857,
           -2.3,
           -4.871428571428571,
           0.7999999999999996,
           3,
           3.25,
           2.1,
           0.6666666666666666,
           4.1499999999999995,
           -8.4,
           -9.05,
           -1.51,
           -4.285714285714286,
           -3.5,
           -0.27777777777777785,
           -5.5,
           2.9499999999999997,
           -3.85,
           -1.9,
           -3.825,
           -3.6999999999999997,
           -2.5125,
           -4.445454545454545,
           -1.5499999999999998,
           -3.2,
           -0.045454545454545456,
           -2.6666666666666665,
           -3.45,
           1.4333333333333333,
           -0.5,
           -0.96,
           5.8875,
           2.15625,
           -1.56,
           -0.23333333333333336,
           -2.433333333333333,
           0.4125,
           -2.4833333333333334,
           -5.733333333333333,
           0.022222222222222216,
           -1.19,
           -2.25,
           -5.45,
           -4.177777777777778,
           -1.4857142857142858,
           -11.3,
           -1.325,
           -1.7,
           -1.7,
           -4.9,
           -3.6,
           -0.5874999999999999,
           1.5,
           0.30000000000000004,
           2.1166666666666667,
           5.985714285714286,
           -2.7,
           -21.6,
           -4.9,
           -8.9,
           -1.0833333333333333,
           -1.9500000000000002,
           -6.457142857142857,
           -0.6222222222222222,
           -5.966666666666666,
           0.3428571428571429,
           -0.3,
           0.9,
           -0.3333333333333333,
           -10.733333333333334,
           -0.3571428571428572,
           2.15,
           -2.9,
           0.9625,
           -7.3,
           1.375,
           -2,
           -1.2333333333333334,
           0.29090909090909095,
           -2.783333333333333,
           -0.09090909090909091,
           1.0666666666666667,
           -1.0750000000000002,
           -0.3333333333333333,
           -8.55,
           1.9222222222222223,
           -3.28,
           -1.1500000000000001,
           -5.7,
           -3.2,
           -4.8,
           -3.1,
           -0.8444444444444444,
           -3.45,
           -2.65,
           2.2600000000000002,
           -1,
           0.47777777777777786,
           3.211111111111111,
           -3.8875,
           -2.48,
           -5.7,
           4.406666666666666,
           -7.3500000000000005,
           -4.866666666666666,
           -2.533333333333333,
           2.05,
           -1.6333333333333335,
           -0.9375,
           -2.1166666666666667,
           -3.533333333333333,
           -1.46,
           -1.3142857142857143,
           -1.5499999999999998,
           -0.5499999999999999,
           -6.8,
           0.8666666666666667,
           -2.923529411764706,
           -7.9,
           -3.95,
           -1.1222222222222222,
           -3.95,
           0.8111111111111111,
           -1.3444444444444443,
           0.8250000000000001,
           -3.06,
           -3,
           -3.2,
           -1.8800000000000001,
           -5.15,
           -1.6,
           3.994117647058824,
           1.7599999999999998,
           0.43750000000000006,
           -3.7,
           -6.3,
           -0.6333333333333334,
           -1.3454545454545455,
           -0.050000000000000044,
           -4,
           -2.5545454545454547,
           -9.45,
           -3.742857142857143,
           -6.199999999999999,
           -11.65,
           0.04444444444444451,
           -12.649999999999999,
           -2.35,
           0.11428571428571432,
           -3.3555555555555556,
           -0.7200000000000001,
           -6.214285714285714,
           -11.5,
           -3.566666666666667,
           -2.306666666666666,
           -2.68,
           -2.533333333333333,
           -0.6000000000000001,
           0.3888888888888889,
           -6.3,
           2.353846153846154,
           -7.4,
           -1.3,
           -0.47000000000000003,
           -1.8352941176470587,
           -2.2,
           -2.6,
           -6.174999999999999,
           5.1049999999999995,
           -3.6,
           -5.266666666666667,
           -1.0999999999999999,
           -15.600000000000001,
           -2.46,
           0.8714285714285713,
           -9.05,
           -3.1,
           3.9,
           -1.4375,
           -6.2,
           -0.5,
           -2.190909090909091,
           -2.5500000000000003,
           -4.2,
           -1.4166666666666667,
           2.2,
           -1,
           -0.74,
           -7.1,
           -28.9,
           -8.85,
           -3.8200000000000003,
           -17.4,
           2.08,
           -1.4142857142857141,
           -1.48,
           -0.08333333333333333,
           -1.16,
           -3.483333333333333,
           0.4666666666666667,
           -4.688888888888889,
           5.442857142857143,
           1.94,
           -1.3799999999999997,
           -4.5,
           -1.7999999999999998,
           -4.425,
           -11.1,
           -2.4000000000000004,
           -0.6000000000000001,
           -0.76,
           0.9833333333333334,
           -5.6,
           1.075,
           -9.733333333333334,
           3.75,
           -3.9899999999999998,
           -1.95,
           -11.4,
           5.15,
           -1.75,
           -3.3600000000000003,
           2.7714285714285714,
           -1.7,
           0.39999999999999997,
           -19,
           -2.38,
           -3.9875,
           2.6,
           -0.036363636363636334,
           -0.9666666666666667,
           -1.075,
           -2.5200000000000005,
           -4.4,
           0.74,
           -7,
           -0.36666666666666664,
           -2.675,
           -7.8,
           -3.9799999999999995,
           -1.5,
           -1.1777777777777778,
           1.6076923076923075,
           -3.3714285714285714,
           -20.4,
           -2.9,
           -2.9,
           -6.08,
           -1.94,
           -1.1333333333333333,
           1.14,
           2.725,
           -4.766666666666667,
           3,
           -5.9,
           -9,
           2.9,
           1.788235294117647,
           0.2583333333333333,
           1.1153846153846154,
           2.7944444444444443,
           -0.03333333333333336,
           -3.3461538461538463,
           1.8125,
           -4.3,
           -1.94375,
           -6.04,
           -6.363636363636363,
           2.088888888888889,
           -0.42000000000000004,
           -2.585714285714286,
           -2.54,
           -10.9,
           -4.766666666666667,
           -1.0666666666666667,
           -0.022222222222222216,
           0.09999999999999994,
           -8.15,
           -4.257142857142857,
           -4.283333333333333,
           -3.25,
           -2.5636363636363635,
           3.5799999999999996,
           1.7000000000000002,
           -0.7333333333333334,
           -0.6230769230769231,
           -3.8,
           -1.65,
           -2.4555555555555557,
           -6.5,
           -5.35,
           -4.0636363636363635,
           -5.675000000000001,
           -2.8307692307692305,
           -5.15,
           -2.7,
           -4.199999999999999,
           -9.033333333333333,
           -3.7,
           -1.58,
           -2.15,
           -3.5666666666666664,
           0.5428571428571428,
           -3.0666666666666664,
           -2.5500000000000003,
           -10.399999999999999,
           -9.2,
           -3.475,
           -3.05,
           -10.766666666666666,
           -5.5,
           -2.3,
           -7.5,
           -5.45,
           -5.2,
           -2.2333333333333334,
           -3.4,
           -7.6,
           1.1,
           -6.7,
           -1.65,
           -6.4,
           -1.2444444444444445,
           -5.1,
           -8.9,
           -2.9499999999999997,
           -2.6166666666666667,
           -32.4,
           -4.8,
           -2.75,
           2.8333333333333335,
           -4.533333333333333,
           -1.7909090909090908,
           -7.1000000000000005,
           -1.2,
           -5.15,
           -8.5,
           -1.5,
           -13.1,
           -2.6,
           1.4749999999999999,
           -1.3,
           -11.75,
           -8.1,
           -6.1,
           -1.05,
           -3.1,
           -5.65,
           -5.4,
           1,
           -3,
           -3.15,
           -2.9499999999999997,
           -6,
           -0.2,
           -4.85,
           -4.6,
           -5.1,
           -3.4,
           -4.5,
           -2.2416666666666667,
           -3,
           -10.9,
           -7.3,
           -2.5799999999999996,
           -1.2714285714285716,
           -2.1999999999999993,
           10.2,
           6.423076923076923,
           -9.5,
           -2.7,
           -2.8,
           5.463157894736842,
           0.03333333333333331,
           1.9941176470588236,
           -0.3153846153846154,
           -2.3000000000000003,
           -3.0625,
           -0.8538461538461538,
           -1.3416666666666668,
           4.086666666666667,
           -3.8200000000000003,
           -3.3166666666666664,
           -0.5666666666666667,
           0.41818181818181815,
           -4.133333333333334,
           -0.97,
           -0.15833333333333335,
           -7,
           -3.1666666666666665,
           -1.4363636363636365,
           -13.4,
           1.0333333333333332,
           -4.55,
           0.4666666666666666,
           -10.566666666666668,
           -5.1,
           -3.3,
           -3.9250000000000003,
           -6.5,
           -2.05,
           -7.449999999999999,
           -4.35,
           -3.5,
           -1.4,
           -1,
           -3.0142857142857147,
           -4,
           -1.5153846153846153,
           4.8,
           -1.2357142857142855,
           -2.42,
           -6.2,
           -3.1999999999999997,
           -2.9000000000000004,
           -3.05,
           -1.0857142857142859,
           -1.2,
           -3.2333333333333334,
           -9.9,
           -0.5111111111111111,
           -2.033333333333333,
           -2.907692307692308,
           -8.1,
           -5.25,
           -1.5666666666666667,
           -6.5,
           -2.5,
           -4.050000000000001,
           -17.5,
           -7.833333333333333,
           -4,
           -3.4,
           -2.6444444444444444,
           -2.9,
           -4.26,
           -2.5090909090909093,
           -8.6,
           -9.55,
           -0.8923076923076925,
           -0.3,
           -3.1500000000000004,
           0.1,
           -8.3,
           -5.6,
           -3.1999999999999997,
           -4.588888888888889,
           0.45000000000000007,
           -0.12999999999999998,
           0.13124999999999998,
           2.127272727272727,
           -1.457142857142857,
           0.11666666666666665,
           -1.0615384615384615,
           3.7952380952380955,
           2.9894736842105263,
           -0.060000000000000074,
           -3.79,
           -1.0166666666666666,
           -2.3,
           -0.5545454545454546,
           -3.6166666666666667,
           -1.758333333333333,
           -6.3,
           -3.28,
           -4.5,
           -1.1333333333333333,
           -3.992857142857143,
           -1.9636363636363634,
           -2.9,
           -2.325,
           -4.133333333333334,
           -4.783333333333333,
           -5.4,
           -3.888888888888889,
           -2.475,
           -0.06999999999999998,
           0.64375,
           -4.45,
           0.2285714285714286,
           -10.77142857142857,
           -3.6222222222222222,
           -29.8,
           -10.3,
           -1.0363636363636362,
           9.4,
           -0.5363636363636364,
           -17.4,
           -4.428571428571429,
           -5.7,
           -3.6500000000000004,
           -1.9,
           51.1,
           -6.7,
           -8.2,
           -2.425,
           -1.4,
           -3.525,
           0.41000000000000014,
           -4.8,
           -7.35,
           -0.9500000000000001,
           -0.5,
           -22.1,
           1.3857142857142857,
           7.3,
           -7.6,
           -10.6,
           -19.8,
           -9.7,
           -4.9,
           -1.3250000000000002,
           -13.1,
           -2.9,
           -2.6,
           -1.7,
           -3.207692307692308,
           -5.5,
           -63.7,
           -10.2,
           -0.7538461538461539,
           -8.75,
           -25,
           -4.05,
           -6.7,
           -5.949999999999999,
           1.1176470588235294,
           1.5333333333333334,
           2.169230769230769,
           1.4428571428571428,
           -2.6499999999999995,
           0.45999999999999996,
           -0.7071428571428572,
           0.9529411764705882,
           2.2875,
           0.963157894736842,
           -1,
           -11.85,
           -0.5142857142857143,
           -5.733333333333333,
           0.6235294117647059,
           -2.966666666666667,
           0.15,
           -4.9,
           -1.2666666666666666,
           -0.39999999999999997,
           -1.9090909090909092,
           -2.3000000000000003,
           3.8076923076923075,
           -6.866666666666667,
           -2.1999999999999997,
           -2.2625,
           -1.0499999999999998,
           -1.5,
           -7.6,
           -3.688888888888889,
           -4.6,
           -3.05,
           -2.4899999999999998,
           -3.28,
           -5.1,
           -2.625,
           -15.9,
           -2.733333333333333,
           -3.2,
           -2.5166666666666666,
           -5.4,
           0.09999999999999998,
           -11.2,
           -4.16,
           -4.9,
           4.65625,
           -4.65,
           -12.5,
           -0.47999999999999987,
           -6.2,
           -1.9166666666666667,
           -1.2,
           -18.6,
           -2.7875,
           -3.642857142857143,
           -5,
           -29.5,
           -7.5,
           -4.08,
           -5.316666666666667,
           -1,
           -0.6866666666666666,
           -2.5444444444444443,
           -0.9,
           -3.533333333333333,
           0.25882352941176473,
           -1.2714285714285716,
           -4.7,
           0.35,
           -3.3461538461538463,
           -2.4538461538461536,
           -4.680000000000001,
           -2.6444444444444444,
           -3.6666666666666665,
           -7.1499999999999995,
           -4.68,
           0.060000000000000026,
           -2.96,
           -1.6538461538461537,
           -3.9166666666666665,
           -1.6142857142857143,
           -1.4909090909090907,
           -0.36000000000000015,
           -3.576923076923077,
           -8.033333333333333,
           -2.9714285714285715,
           -4.62,
           -5.225,
           -5.35,
           -5.411111111111111,
           -1.5250000000000001,
           -0.9714285714285714,
           -6.1,
           -7.333333333333333,
           -5.144444444444445,
           -2.4,
           -4.2,
           -3.65,
           -0.309090909090909,
           -5.333333333333333,
           -6,
           -4.233333333333333,
           0.2083333333333333,
           -1.4749999999999999,
           -4.025,
           -2.6888888888888887,
           -2.2666666666666666,
           -4.9,
           -18.2,
           -7.9,
           -4.5,
           -4.55,
           -4.9,
           -3.9,
           -1.9,
           -7.3500000000000005,
           -1.5714285714285714,
           -21.1,
           -19.9,
           -3.63,
           -3.7,
           6.25,
           -2.3714285714285714,
           2.3,
           -8.9,
           -2.966666666666667,
           -0.3210526315789474,
           3.477777777777778,
           -6.7272727272727275,
           0.9230769230769231,
           1.6538461538461537,
           -1.52,
           -3.4916666666666667,
           -2.375,
           0.24705882352941183,
           -1.0750000000000002,
           -0.7916666666666666,
           -0.31764705882352945,
           -0.5333333333333333,
           -3.275,
           -13.600000000000001,
           -4.92,
           -5.007692307692308,
           -0.07058823529411762,
           -1.9846153846153847,
           -8.1,
           -4.949999999999999,
           -8.200000000000001,
           -2.0999999999999996,
           0.6214285714285716,
           -1.4153846153846152,
           -1.1363636363636365,
           0.7222222222222222,
           -3.1500000000000004,
           -7.266666666666667,
           -2.3916666666666666,
           -1.8333333333333333,
           -6.1,
           -3.4,
           -3.2444444444444445,
           1.6272727272727274,
           -1.6,
           -3,
           -2.727272727272727,
           -2.7000000000000006,
           -10.549999999999999,
           0.21000000000000005,
           -1.7999999999999998,
           -1.9,
           -2.5700000000000003,
           0.40000000000000013,
           -1.9000000000000001,
           -6.8,
           -1.5666666666666664,
           -4.32,
           -4.15,
           -8.7,
           -3.457142857142857,
           -1.3222222222222222,
           -13.799999999999999,
           3.6,
           -0.2,
           -8.8,
           -0.8,
           -5.45,
           -7.325,
           -0.07333333333333335,
           -2.414285714285714,
           0.6,
           -6.4,
           -9.799999999999999,
           3.0625,
           -2,
           -0.05999999999999999,
           -1.7857142857142858,
           -6.9,
           -3.625,
           -3.8470588235294123,
           -1.9454545454545453,
           0.5499999999999999,
           -0.5,
           -2.7363636363636363,
           -5.144444444444444,
           -4.7250000000000005,
           -1.4285714285714286,
           -2.8333333333333335,
           -3.275,
           -2.4,
           -3.5,
           -10.033333333333333,
           -3.4714285714285715,
           -3.8249999999999997,
           -2.825,
           0,
           -2.757142857142857,
           -3.8333333333333335,
           -1.2538461538461538,
           -5.05,
           -2.4666666666666663,
           -8.25,
           -2.38,
           -2.4,
           -4.5600000000000005,
           1.2,
           -3,
           -1.4,
           -2.3,
           -7.4,
           -3.1125,
           -8.725000000000001,
           -0.40714285714285714,
           -0.2799999999999998,
           -0.5,
           -3.125,
           -1.3153846153846152,
           -6.8,
           -0.9399999999999998,
           -1.7,
           -6.2,
           -2.85,
           -5.3,
           -4.533333333333333,
           -17.15,
           -1.9727272727272727,
           5.6,
           -8,
           -6.266666666666667,
           -3.3600000000000003,
           -3.5,
           -2.3625,
           -7.1,
           -5.2,
           -1.525,
           -2.9384615384615387,
           -14.7,
           8.877777777777778,
           -7.1,
           1.1333333333333333,
           1.9076923076923078,
           4.53125,
           -2.0461538461538464,
           -0.5153846153846154,
           -0.7749999999999999,
           -2.825,
           -2.3285714285714287,
           -1.27,
           -1.4714285714285715,
           -2.6875,
           -1.0333333333333334,
           -5.866666666666667,
           -19.6,
           -3.8000000000000003,
           1.54,
           -3.46,
           -3.9923076923076923,
           -0.18571428571428572,
           -3.3666666666666667,
           -1.2909090909090908,
           -3.744444444444445,
           -0.11250000000000002,
           -4.3,
           -2.2214285714285715,
           -0.7071428571428572,
           -0.7,
           -10.166666666666666,
           -3.3555555555555556,
           -1.81,
           -6.2,
           -1.4461538461538461,
           -26.2,
           -10.4,
           -3.0083333333333333,
           -1.7249999999999999,
           -2.0818181818181816,
           0.8916666666666667,
           -0.7,
           -6.4,
           -0.5285714285714286,
           0.5647058823529412,
           -4.2,
           -14,
           -5.2,
           -5.4,
           -1.17,
           -1.6333333333333333,
           -3.642857142857143,
           -15.05,
           -5.7,
           -9.8,
           -3.4166666666666665,
           0.1,
           -4.8,
           -3.425,
           -5.216666666666667,
           -10.5,
           -4.529999999999999,
           -8.5,
           -3.9,
           -9.4,
           -3.625,
           -6.557142857142857,
           -1.5,
           1.4,
           1.423529411764706,
           -0.6900000000000001,
           -1.2363636363636363,
           -1.2357142857142858,
           0.3733333333333333,
           -0.375,
           0.46,
           -6.766666666666667,
           1.8352941176470587,
           -2.8,
           -1.52,
           -4.65,
           -3.17,
           -2.1076923076923078,
           0.8571428571428571,
           -1.35,
           0.16923076923076918,
           -0.6000000000000001,
           -1.0545454545454545,
           -0.21428571428571433,
           -17.35,
           -3.2,
           -5.3,
           0.8125,
           -0.04999999999999995,
           0.3,
           -2.39,
           -1.1384615384615384,
           -5.15,
           -0.6785714285714286,
           -5.25,
           -10,
           -5.3,
           -2.7,
           -6.65,
           -3.5,
           -5.7700000000000005,
           -1.511111111111111,
           -5,
           0.6764705882352942,
           -2.3,
           -9.649999999999999,
           -4.566666666666666,
           -5.9,
           -5.800000000000001,
           -4.8,
           -4.1,
           -4.7,
           -4.1,
           -2.5,
           -3.5,
           -8.033333333333333,
           -7.2,
           -3.4000000000000004,
           -20.3,
           -4.5,
           -7.6,
           -5.8,
           -9.8375,
           -2.9749999999999996,
           -2.41,
           14.833333333333334,
           -3.8,
           -5.266666666666667,
           -8.15,
           -6.9,
           0.5357142857142857,
           -0.36666666666666664,
           7.25625,
           -0.7285714285714285,
           -2.7,
           -0.7909090909090909,
           -0.8,
           -4.516666666666667,
           1.6333333333333335,
           0.3875,
           -4.85,
           -2.9250000000000003,
           -2.35,
           -6.033333333333334,
           -4.083333333333333,
           0.16000000000000006,
           -1.925,
           -2.425,
           -5.6499999999999995,
           -0.3909090909090909,
           -0.9769230769230769,
           -0.49000000000000005,
           -0.4833333333333332,
           -4.6125,
           -3.3,
           -2.9571428571428577,
           -1.366666666666667,
           -4.65,
           1.1,
           -3.033333333333333,
           -3,
           -1.325,
           -0.9133333333333333,
           -0.3384615384615384,
           -0.4600000000000001,
           -0.36,
           -13.416666666666666,
           -0.6749999999999999,
           -3.1999999999999997,
           -0.7,
           -52,
           5.2,
           0.86875,
           -1.8,
           -1.9666666666666668,
           -1.6888888888888889,
           -2.8875,
           -5.1,
           -1.1500000000000004,
           -0.19999999999999996,
           -2.35,
           0.1285714285714286,
           0.050000000000000024,
           -9.450000000000001,
           -5.6,
           -3.5,
           -4.2,
           -3.0749999999999997,
           -1.2,
           0.14285714285714285,
           -2.7,
           -4.4,
           -7.2,
           -2.8,
           -3.1624999999999996,
           -0.6,
           -0.5599999999999999,
           -15.7,
           -2,
           -5.199999999999999,
           -3.775,
           -6.2,
           -6.2,
           -6.5,
           -3.6166666666666667,
           -5.050000000000001,
           -14.9,
           -4.8,
           -15.266666666666666,
           -0.4,
           -5,
           -12.5,
           -18.9,
           -2.82,
           -1.2,
           -5,
           -15.1,
           -2.2625,
           -4.65,
           -0.68,
           -1.86,
           1.52,
           -4.866666666666666,
           0.6375000000000002,
           -2.9499999999999997,
           1.9666666666666668,
           -1.4363636363636365,
           0.74,
           -4.875,
           -0.9333333333333336,
           0.28666666666666674,
           -3.683333333333333,
           0.4428571428571429,
           0.95,
           -5.966666666666666,
           -1.7600000000000002,
           -3.1142857142857143,
           -4.833333333333333,
           -3.5666666666666664,
           -1.0166666666666666,
           0.8666666666666667,
           -4.35,
           -2.1,
           3.046666666666667,
           -3.466666666666667,
           -0.41,
           -2.04,
           -7.8,
           -4.7,
           -3.5333333333333337,
           -1.5666666666666667,
           -0.25454545454545446,
           -5.625,
           1.1999999999999997,
           -1.23,
           -1.1833333333333333,
           -4.300000000000001,
           -5.9,
           -3.1,
           -1.9,
           -1.157142857142857,
           -2.9,
           -4.85,
           -3.4499999999999997,
           1.74,
           -2.62,
           -4.08,
           -7,
           -2.9,
           -5.45,
           -8.5,
           -5.8,
           -3.233333333333333,
           -2.7,
           -4.7299999999999995,
           -2.8000000000000003,
           -0.1,
           -3.3,
           -3.2,
           -5.775,
           -6.4,
           -6.3,
           -1.0214285714285716,
           -4.7,
           -5.2,
           -0.3,
           -8.8,
           -2.5,
           -2.4250000000000003,
           -27.7,
           -7.3,
           -14.9,
           -13.3,
           -0.1,
           -5.433333333333334,
           -11.1,
           -5.5,
           -8.675,
           -0.7999999999999999,
           6.961538461538462,
           2.907142857142857,
           2.2214285714285715,
           -1.3615384615384616,
           -4.56,
           -1.723076923076923,
           1.61,
           1.6,
           -1.1,
           -3.275,
           0.4857142857142857,
           -0.30000000000000004,
           -3.475,
           -1.1400000000000001,
           -2.6750000000000003,
           -3.45,
           -1.6769230769230767,
           -4.199999999999999,
           -3.2545454545454544,
           -2.6,
           -0.37857142857142856,
           -1.7833333333333332,
           1.525,
           -6.7,
           -1.75,
           -1.8636363636363635,
           0.04285714285714296,
           -5.133333333333334,
           -0.3888888888888889,
           -3.5,
           7.449999999999999,
           0.5,
           -2.7875,
           -5.2,
           -2.2454545454545456,
           -3.6799999999999997,
           -19.4,
           -5.75,
           -4.7,
           -4.4,
           -2.9333333333333336,
           2.8923076923076922,
           -3.5285714285714285,
           -7,
           -7.5,
           -8.45,
           -1.1181818181818182,
           -5.6,
           -1.98,
           -12.600000000000001,
           -2.65,
           -7.8500000000000005,
           -0.74,
           -1.9153846153846152,
           -10.833333333333334,
           -7.25,
           -2.6,
           -7.85,
           -1.9000000000000001,
           -7.65,
           -5.9,
           -1.5,
           -8.4,
           -5.2,
           -1.7454545454545454,
           -1.2,
           0.6166666666666666,
           4.6923076923076925,
           2.630769230769231,
           1.758333333333333,
           -0.48461538461538467,
           -5.9,
           -0.7538461538461539,
           1.4307692307692308,
           -2.109090909090909,
           -2.3875,
           -2.2666666666666666,
           -1.5999999999999999,
           -1.4230769230769231,
           -2.29,
           -1.3333333333333333,
           -0.676923076923077,
           -1.9,
           -3.8285714285714287,
           0.26666666666666655,
           -0.6666666666666666,
           -2.0818181818181816,
           0.5416666666666666,
           1.5,
           1.2615384615384615,
           -2.511111111111111,
           -3.25,
           -0.7666666666666665,
           1.25,
           -2.25,
           -10.1,
           -2.4000000000000004,
           -0.6555555555555556,
           0.8538461538461538,
           -2.7875,
           -2.216666666666667,
           -1.0333333333333334,
           -8.2,
           -3.033333333333333,
           -11.05,
           -5.1,
           -9.1,
           0.11538461538461542,
           -2.18,
           -1.95,
           -6.833333333333333,
           -2.8,
           -2.7,
           -3.9,
           -0.8666666666666667,
           -5.275,
           -7,
           29.2,
           -3.12,
           -2.7,
           -5.5,
           -3.1666666666666665,
           -1.9,
           -4.1,
           -1.95,
           21.2,
           -2.7857142857142856,
           -2.275,
           2.8636363636363638,
           -3.9200000000000004,
           6.641666666666667,
           0.82,
           0.55,
           -4.666666666666667,
           6.308333333333334,
           -3.325,
           0.48333333333333334,
           0.3666666666666667,
           -3.15,
           -1.9875,
           -2.2714285714285714,
           -4,
           -2.6166666666666667,
           0.24166666666666667,
           1.3666666666666665,
           1.0375,
           0.09166666666666663,
           -3.3600000000000003,
           0.61,
           -0.8700000000000001,
           -6.640000000000001,
           -0.625,
           -0.5416666666666666,
           -0.9818181818181819,
           -1.5833333333333333,
           -1.4124999999999999,
           -4.8,
           -3.366666666666667,
           -2.8666666666666667,
           -3.75,
           -1.5699999999999998,
           -6.7,
           -2.25,
           -3.0714285714285716,
           -4.466666666666667,
           -0.9444444444444444,
           -1.2333333333333334,
           -0.95,
           1.1222222222222222,
           0.012500000000000011,
           -0.7857142857142857,
           -0.45,
           1.625,
           -8.1,
           -1.8666666666666665,
           -0.5,
           -0.3916666666666666,
           -1.225,
           -2.4,
           -7.5,
           -9.1,
           -12.4,
           -5.8,
           -1.9999999999999998,
           -0.15,
           -2.2375,
           -1.8,
           -1.5428571428571427,
           -6.8,
           -4.7,
           -0.49999999999999994,
           -13.3,
           -3.6,
           -8.85,
           2.15,
           -2.19,
           0.8545454545454544,
           -1.9777777777777779,
           2.45,
           -0.7428571428571428,
           1.1222222222222222,
           -1.0636363636363635,
           1.0363636363636362,
           3.3636363636363638,
           -1.25,
           -5,
           -0.8090909090909091,
           -0.24545454545454548,
           -3.9,
           -2.9875,
           -4.328571428571428,
           1.5636363636363635,
           -3.3545454545454545,
           -2.38,
           -10.75,
           -4.1,
           -0.525,
           0.17500000000000004,
           -2.0666666666666664,
           -2.4,
           -0.25,
           -2.557142857142857,
           -3.3666666666666667,
           -4.433333333333334,
           -11.6,
           -16.75,
           -1.5444444444444443,
           -3.4,
           -0.2833333333333334,
           -13,
           -13.2,
           -0.62,
           -2.511111111111111,
           -5.9,
           -4.633333333333334,
           -0.7,
           -15,
           -5.550000000000001,
           -3.35,
           -6,
           -2.7,
           0.3285714285714284,
           -11.733333333333334,
           -7.1,
           -2,
           -0.8500000000000001,
           -2.62,
           -2.75,
           -3.742857142857143,
           -0.08888888888888896,
           -8,
           -5.766666666666667,
           -1.7272727272727273,
           -3.1799999999999997,
           -3.6,
           -8.633333333333333,
           -7.1,
           -5.975,
           -2.6,
           -15.85,
           -5.199999999999999,
           -2,
           -7.2,
           -3.4000000000000004,
           -4.3,
           4.87,
           -3.8714285714285714,
           -0.13999999999999999,
           -1.77,
           1.1666666666666667,
           -2.8000000000000003,
           -2.5100000000000002,
           -2.1875,
           2.76,
           -3.7833333333333337,
           0.675,
           -0.99,
           -1.58,
           -1.31,
           6.95,
           2.04,
           -3.15,
           -3.6999999999999997,
           0.85,
           -6.383333333333333,
           -6.2,
           0.3125,
           1.64,
           -0.04999999999999996,
           -0.2200000000000001,
           -0.8,
           -3.9,
           -4.6000000000000005,
           -1.1300000000000001,
           4.07,
           -1.1,
           -8.133333333333335,
           -3.4499999999999997,
           -2.05,
           -7.699999999999999,
           -2.1,
           -5.7,
           -0.5888888888888889,
           -7.400000000000001,
           -1.6624999999999999,
           -5.725,
           0.86,
           -10.9,
           -4.550000000000001,
           -2.166666666666667,
           -8.166666666666666,
           -0.3,
           -7.7,
           -10.600000000000001,
           -1.9666666666666668,
           1.2,
           6.319999999999999,
           -2.08,
           -1.02,
           -3.9,
           -3.033333333333333,
           -6.85,
           -6.7,
           -7.1,
           -8.1,
           -0.1,
           -10.8,
           -11.399999999999999,
           -0.39999999999999997,
           -5.566666666666666,
           -4.449999999999999,
           -1.7666666666666666,
           -2.4,
           -0.1333333333333333,
           -3,
           6.1,
           -2.225,
           1.6555555555555557,
           -1.95,
           -3.28,
           5,
           -0.9555555555555555,
           1.2111111111111112,
           -0.9222222222222223,
           -3.022222222222222,
           -1.3888888888888888,
           0.15555555555555556,
           -3.925,
           -0.05000000000000003,
           -0.9666666666666668,
           -16.9,
           -4.975,
           -4.783333333333334,
           -3.96,
           -0.9555555555555555,
           -1.7600000000000002,
           -7.6,
           -1.8166666666666664,
           -4.85,
           -5.525,
           -2.6285714285714286,
           -4.25,
           -4.366666666666666,
           -6.233333333333333,
           -1.7666666666666666,
           -0.72,
           -1.9000000000000001,
           0.1777777777777778,
           1.9888888888888887,
           -4.3999999999999995,
           -2.5,
           -5.566666666666666,
           0.43333333333333335,
           -0.7333333333333333,
           -8.05,
           -5.949999999999999,
           -2.2222222222222223,
           -4.2,
           -1.8,
           -3,
           -16.8,
           -3.25,
           0.825,
           -9.9,
           -3.6,
           -6.9,
           -24.15,
           -3.05,
           -5.125,
           -5.15,
           -2.75,
           -4.45,
           -0.8833333333333333,
           -1.5250000000000001,
           0.04999999999999999,
           -0.2333333333333334,
           -1.6,
           -2.5500000000000003,
           -9.7,
           -1.9600000000000002,
           -2.625,
           -4.1,
           -1.6500000000000004,
           -4.2,
           0.4,
           -0.19999999999999998,
           -1.1,
           -4.5,
           -4.5,
           -1.65,
           -19.2,
           -1.5142857142857142,
           -4.3,
           -2.6,
           -8.15,
           -17.2,
           -9.4,
           -3.033333333333333,
           1.2857142857142858,
           -2.0875,
           -2.5714285714285716,
           -2.1714285714285713,
           -4.15,
           -2.1,
           -3.25,
           -3.5,
           -3.4,
           0.7375,
           -0.5875,
           -1.6625,
           -1.5,
           -1.9,
           -3.0999999999999996,
           0.5375,
           -2.65,
           -5.75,
           -2.7,
           -0.5800000000000001,
           0.825,
           -0.7875,
           -4.42,
           1.425,
           -1.3624999999999998,
           -0.775,
           -6.8,
           0.38749999999999996,
           -6.4,
           -2.733333333333333,
           -1.1125,
           -6,
           0.5,
           3.175,
           -2.2399999999999998,
           -2.5749999999999997,
           0.16249999999999998,
           -0.9125,
           10.6,
           -1.875,
           -0.8625,
           -10.666666666666666,
           0.38750000000000007,
           5.5,
           -4.633333333333334,
           -4.4,
           -10.8,
           -0.825,
           -8.6,
           -2.566666666666667,
           -1.2428571428571427,
           -10,
           -2.1333333333333333,
           -6.2,
           -3.8000000000000003,
           -2.3875,
           -1.0333333333333334,
           -2.85,
           -2.6,
           -9.45,
           -2.4,
           -3.1999999999999997,
           -9.3,
           -3.033333333333333,
           0.3,
           -2.5571428571428574,
           -5.4,
           -1.9500000000000002,
           -15,
           -6.1,
           -9.45,
           -1.8714285714285717,
           -1.5799999999999998,
           -8.5,
           -3.1500000000000004,
           -0.2666666666666666,
           -3.9000000000000004,
           1.5,
           -4.4,
           -2.9000000000000004,
           -3.7,
           -6,
           -2.4,
           -17.35,
           -5.1000000000000005,
           -0.9166666666666666,
           -2.175,
           -0.14285714285714274,
           -3.475,
           -5.466666666666666,
           -0.8857142857142856,
           -5.1,
           -0.2571428571428572,
           -5.5,
           -3,
           -6.5,
           -4.833333333333333,
           -4.3,
           -1.8571428571428572,
           -0.8285714285714285,
           -2.82,
           -1.4714285714285715,
           4.15,
           -0.775,
           -6.9,
           -2.314285714285714,
           -4.025,
           -0.7428571428571428,
           -2.0285714285714285,
           -2.2,
           -4.7,
           -2.375,
           -0.24285714285714288,
           -1.042857142857143,
           -8.25,
           -0.3,
           1.3285714285714287,
           0.9285714285714286,
           -3.25,
           -5.8428571428571425,
           -1.9428571428571428,
           -6,
           -8.25,
           -5.550000000000001,
           -2.225,
           5.8999999999999995,
           -15.1,
           -1.6428571428571428,
           -0.6714285714285715,
           4.9799999999999995,
           -5.5,
           -4.6,
           -2.716666666666667,
           -12.8,
           -2.6666666666666665,
           2.125,
           0.7000000000000003,
           -3.55,
           0.2,
           -1,
           -13,
           0.8428571428571427,
           0.525,
           0.22857142857142865,
           -5.6,
           -7.714285714285714,
           7.783333333333334,
           1.42,
           0.7499999999999999,
           -3.8666666666666667,
           -0.8285714285714286,
           32.5,
           -3.15,
           -4.1571428571428575,
           -2.8,
           -9.4,
           -4.6,
           -1.2428571428571427,
           -7.7,
           1.2142857142857142,
           2,
           -5.25,
           -4.066666666666667,
           -9.5,
           -6.9,
           -4.5,
           -17.2,
           -0.20000000000000004,
           -1.9000000000000001,
           -3.04,
           -0.09999999999999998,
           0,
           -2.46,
           6.866666666666667,
           2.15,
           -4,
           -8.533333333333333,
           1.9666666666666668,
           -2.6999999999999997,
           -0.675,
           0.43333333333333335,
           5.05,
           0.4666666666666666,
           -2.9499999999999997,
           -0.25000000000000006,
           -2.2666666666666666,
           -0.18333333333333335,
           -0.04999999999999994,
           -0.8999999999999999,
           0.3833333333333333,
           -1.3499999999999999,
           -2.733333333333333,
           -2.48,
           -1,
           -1.7333333333333334,
           -3.966666666666667,
           0.41999999999999993,
           -3.9333333333333336,
           0.75,
           -0.3,
           -0.43333333333333335,
           -0.7333333333333333,
           -0.33333333333333326,
           -5.7,
           -4.375,
           -4.35,
           -2.3600000000000003,
           -2.6,
           -1.45,
           0.21999999999999997,
           -0.6666666666666666,
           -5.466666666666666,
           -4.466666666666667,
           -3.25,
           1,
           9.7,
           -3.0599999999999996,
           1.3250000000000002,
           -2.5,
           0.3,
           -2.975,
           -20.55,
           -1.9000000000000001,
           2.65,
           -7,
           -4.633333333333334,
           -2.8,
           0.25,
           -1.2666666666666666,
           16.5,
           -6.2,
           -4.8,
           16,
           -12.7,
           0.19999999999999973,
           -4.1,
           -5.199999999999999,
           -2.4,
           -2.9000000000000004,
           -4.6,
           3.65,
           -3.9499999999999997,
           0.9,
           -4.633333333333334,
           -1.3199999999999998,
           -2.8,
           -2.6999999999999997,
           -4.22,
           -4.9,
           0.32,
           -0.6599999999999999,
           3.0333333333333337,
           -1.2,
           -3.7199999999999998,
           -2.325,
           -0.32,
           -1.48,
           -0.7749999999999999,
           0.3,
           0.5199999999999999,
           -1.92,
           20.95,
           -20.8,
           -5.733333333333334,
           -1.9,
           -8.3,
           -4.033333333333334,
           -0.6,
           -3,
           -0.8,
           0.9,
           -1.775,
           -6.75,
           -12.1,
           -0.8999999999999999,
           -6.6,
           -3.4,
           -2.08,
           -3.2199999999999998,
           -8.1,
           -8.8,
           3.2199999999999998,
           -6.533333333333334,
           -4.666666666666667,
           0.78,
           -3.4,
           -4.449999999999999,
           -2.233333333333333,
           -5.4,
           -2.6999999999999997,
           -4.1,
           -1.8,
           -25.9,
           -1.1,
           -1.55,
           -2.3,
           -3.8333333333333335,
           -6.25,
           -6.1,
           -6.2,
           -8.3,
           -2.16,
           -1.9500000000000002,
           -0.08000000000000007,
           -1.7399999999999998,
           1.2,
           -3.9499999999999997,
           -5.25,
           -2.375,
           1.2,
           -8.4,
           -4.55,
           -28.3,
           -6.45,
           -2.775,
           -2.74,
           -6.866666666666667,
           -0.7,
           -2.6,
           -9.5,
           -1.08,
           -0.2,
           -17.9,
           -4.8,
           -3.9,
           -5.1,
           -1.24,
           -0.825,
           -0.825,
           -10.1,
           -1.3,
           -1.3,
           -3.05,
           -1,
           3.5,
           -2.975,
           0.75,
           -2.925,
           0.22499999999999998,
           2.225,
           -2.625,
           0.16666666666666666,
           -2.5,
           -3.975,
           -0.225,
           2.175,
           -0.6000000000000001,
           -2.8666666666666667,
           1.525,
           -3,
           -2.7750000000000004,
           -0.15000000000000002,
           -2.4,
           1.0499999999999998,
           -7.1499999999999995,
           2.4250000000000003,
           -6.475,
           -2.875,
           -1.5,
           -7.65,
           -26.1,
           -1.6,
           -2.725,
           -1.7,
           -1.2750000000000001,
           -4.800000000000001,
           -3.2,
           1.45,
           -3.933333333333333,
           -6.233333333333333,
           -0.7250000000000001,
           0.9666666666666668,
           -5.075,
           -2.8,
           -1.025,
           -4.1,
           -3.275,
           -4.949999999999999,
           -3.1500000000000004,
           -4.525,
           -3.2,
           -3.8,
           0.45000000000000007,
           -2,
           2.6,
           -0.10000000000000009,
           -2.775,
           -8.75,
           -2.05,
           -3.7,
           -14.4,
           -3.9,
           -5.95,
           0.4750000000000001,
           -3.75,
           -2.6999999999999997,
           -3.1,
           -6.300000000000001,
           -3.4,
           -2.3,
           -2.95,
           -3.5500000000000003,
           -5.15,
           0.6749999999999999,
           0.07500000000000001,
           -5.2,
           -1.6749999999999998,
           -11.2,
           0.15000000000000002,
           -2.2,
           -4.6,
           -6.8,
           -7.65,
           -9.3,
           -3.8,
           -5.4,
           -11.5,
           13.3,
           -9.2,
           -5.5,
           77.36666666666666,
           -5,
           -1.65,
           -2.9000000000000004,
           -3.9,
           -13.7,
           -4.8,
           -3.3,
           -5.5,
           -8.2,
           -6.6,
           -0.75,
           -8.9,
           -7.3,
           -2.6,
           -8.666666666666666,
           -3.8,
           -2.533333333333333,
           -0.3,
           -2.233333333333333,
           -10.95,
           0.8333333333333334,
           -1.0333333333333332,
           -1.5333333333333332,
           -2.6333333333333333,
           -0.5666666666666667,
           -0.9666666666666667,
           -1.7666666666666666,
           -3.4,
           -0.20000000000000004,
           24.4,
           -7.6499999999999995,
           -5.3,
           -8.4,
           1.7666666666666666,
           -0.9333333333333332,
           -6.7,
           -5.1,
           -2.466666666666667,
           -1.4333333333333333,
           -4.033333333333333,
           0.06666666666666668,
           -2.1999999999999997,
           -7.9,
           -3.766666666666667,
           -2.2,
           -2.05,
           -9.1,
           -0.20000000000000018,
           -3.533333333333333,
           -1.9333333333333336,
           -3.1666666666666665,
           -25.7,
           -2.9333333333333336,
           -6.5,
           2.3,
           -5.2,
           2.1999999999999997,
           -2.2333333333333334,
           -2.033333333333333,
           -3.6,
           -7.4,
           -1.5,
           -3.5,
           -4.466666666666667,
           -1.75,
           -3.533333333333333,
           -3.0666666666666664,
           -3.1999999999999997,
           -1.25,
           -1.6666666666666667,
           2.3333333333333335,
           0.6,
           6.366666666666667,
           -8.633333333333333,
           -9.7,
           -4.55,
           13.7,
           -3.5,
           -1.65,
           -2.35,
           -6.4,
           -37.6,
           -0.44999999999999996,
           4.3,
           -5.800000000000001,
           -3.8,
           -3.1500000000000004,
           -7.5,
           -4.3,
           -3.3333333333333335,
           -4.466666666666666,
           -1.6,
           -7.3,
           -40.7,
           -2.7,
           -4.7,
           -3.3499999999999996,
           -2.5,
           -12,
           -3.55,
           1.2,
           -12.05,
           -7.050000000000001,
           -10.9,
           -5.55,
           -1.3333333333333333,
           -9.95,
           -1.4,
           -3.8333333333333335,
           -2.6,
           -13.55,
           2.3,
           -0.09999999999999998,
           -5.8,
           -11.5,
           -0.7,
           -5.166666666666667,
           -6.65,
           -1.0666666666666667,
           0.2,
           -7.9,
           -1.0333333333333334,
           -5.3,
           -1.4,
           -8.2,
           -3.75,
           -11,
           -8.8,
           -7.2,
           -1,
           -3.05,
           -2.4,
           -4.9,
           3.85,
           -0.2,
           -18.9,
           -9.6,
           -4.25,
           -0.85,
           -6.7,
           -6.25,
           -13,
           0.8499999999999999,
           -9,
           -3.55,
           3.95,
           -2.75,
           -3.7,
           -0.05000000000000002,
           -1.75,
           -2.65,
           -4.8,
           2.3,
           -6.7,
           -3.8,
           0.15,
           -2.9499999999999997,
           -1.4500000000000002,
           -0.050000000000000044,
           -4.75,
           -3.1,
           -1.5,
           -2.3499999999999996,
           -3.65,
           -3,
           -8.05,
           -7.15,
           -6.2,
           -0.14999999999999997,
           -3.6,
           2.1,
           0.45000000000000007,
           -9.05,
           -2.3,
           -1.65,
           -2.2,
           0.04999999999999999,
           -1.0499999999999998,
           -0.6499999999999999,
           -11.25,
           -3.25,
           -8.4,
           -3.3,
           -1.1,
           -3,
           -2.7,
           -3.55,
           -1.05,
           -9.35,
           -4.5,
           -5.5,
           1.0999999999999999,
           -3.7,
           -3.6,
           -6.2,
           -3.2,
           -1.7,
           -5.4,
           -6.7,
           -9.6,
           -2.8499999999999996,
           -1.1999999999999997,
           1.2000000000000002,
           -3.2,
           -0.4,
           2.85,
           -9.6,
           -3.15,
           -1.4500000000000002,
           -9.4,
           -4.75,
           -1.3,
           -10.1,
           -3.9,
           -9.3,
           -19.6,
           -2.4,
           -3.4,
           -17.6,
           -1.15,
           -1.7499999999999998,
           -5.8,
           -0.6,
           -2.6,
           -2.75,
           -0.4,
           -10.7,
           -3.1,
           -2.1,
           1.8,
           -5,
           -7.2,
           -3.1,
           -0.7,
           -1.4,
           1.4,
           -1.5,
           -5.1,
           -2.4,
           -4.1,
           -3.2,
           -3.3,
           -6.1,
           -5,
           -1.5,
           -5,
           -0.5,
           -3.8,
           -3.6,
           -3.5,
           -3.4,
           -3.9,
           -4.5,
           -5.2,
           -6.1,
           -9.5,
           -2.8,
           -1.1,
           -1.7,
           0.9,
           -1,
           -6.1,
           -3,
           -11.2,
           -3.5,
           -2.6,
           -0.7,
           5.1,
           -21.1,
           -4.2,
           -10.9,
           -3.4,
           -8,
           -8.7,
           -9.9,
           -3.2,
           -0.8,
           -5.3,
           1.9,
           -11.9,
           -2.7,
           0.3,
           -1.3,
           -1.8,
           -3.7,
           -6.5,
           -1.3,
           -6.1,
           -9.1,
           -2,
           -1,
           -4.3,
           -1.4,
           -1.3,
           -39.3,
           -0.6,
           -4,
           -4.4,
           -3.2,
           -0.4
          ],
          "coloraxis": "coloraxis",
          "size": [
           37.94441109482831,
           33.98196300280209,
           25.536368400990575,
           18.3061009866474,
           6.397525563320032,
           32.426095458236496,
           48.71035995213611,
           35.618616387127304,
           41.00270316292165,
           38.259339818315375,
           34.14050868591934,
           27.058867924089746,
           28.975466634148734,
           12.299999999999999,
           19.54938191691321,
           20.922037822991026,
           15.997603987264249,
           11.16751240578373,
           8.54858662781944,
           31.489034372528582,
           33.900602256203854,
           40.630902989938335,
           27.903583999192648,
           26.537080974867347,
           32.412163354724306,
           9.383806974428529,
           44.031871032999085,
           28.046104898898147,
           21.593411417991987,
           52.86299903208923,
           45.84345397902816,
           29.735155026406797,
           38.544355401710014,
           37.580070072668384,
           28.5180352291902,
           28.343741225650973,
           30.122357619738658,
           28.59585245761663,
           40.289241280557306,
           35.947075294413345,
           32.839737108164165,
           21.47617727800249,
           11.748475078352381,
           14.868871286460617,
           13.25138357556171,
           20.94134666156883,
           50.725006617015794,
           22.656321168470583,
           41.50649315901038,
           5.211205874523352,
           45.635799178568874,
           34.501772297472876,
           27.869278187040763,
           41.85274582788248,
           36.35840113829721,
           15.150096259320161,
           30.14248109672901,
           8.447484832777146,
           40.029804868095205,
           40.879614928062466,
           38.39300609051949,
           39.35241869495263,
           16.938171880892767,
           15.326284611738098,
           43.62818490974062,
           40.97179585465538,
           6.359769387852574,
           25.917609843502166,
           45.26582187069655,
           27.99538652468775,
           29.556725123057866,
           48.8524215460103,
           36.787180738222744,
           46.97627651863816,
           32.76137461503513,
           14.52876457239225,
           24.34043275430136,
           30.288474155471526,
           31.25664262734137,
           27.176690379808953,
           46.723491917553616,
           16.945869703263973,
           27.00246902291219,
           41.20345185108213,
           5.367028973277487,
           38.150890896419114,
           41.29385883854618,
           40.77229451478048,
           36.62618761279446,
           20.289960571671898,
           30.895217177492754,
           16.712221077203747,
           7.923172765165904,
           34.427024268734,
           39.32089139376166,
           35.503423152641986,
           22.69343307571388,
           27.608422627886586,
           37.1327393728679,
           36.23587847546807,
           40.822874510907894,
           46.358265174615845,
           29.23401272490657,
           18.24637863613856,
           40.17310978751833,
           54.67786978700289,
           14.881588176893857,
           36.15247801557544,
           28.70680523267379,
           36.125683384539606,
           14.125449845344148,
           26.167418854824213,
           12.448440330686676,
           23.213789005675054,
           46.425029168901254,
           45.77070721420951,
           33.80147925757098,
           45.18124918345859,
           17.462579038236793,
           13.673148869225402,
           46.100124728681585,
           33.819035214759495,
           34.631596844500265,
           41.96817356750936,
           15.966279570812153,
           48.82125703921283,
           15.624166644443259,
           31.80134169077358,
           29.758927232008872,
           23.024552112907646,
           39.49020975718749,
           25.604376401488306,
           24.731525091132806,
           11.656328753085168,
           38.23666929516586,
           27.4476117155735,
           32.08236795084389,
           46.08110603417996,
           39.36275029912305,
           33.27997896633953,
           51.29496807680067,
           42.45568768335601,
           40.9217281322934,
           29.922046869973464,
           33.12680183778688,
           43.92098729536938,
           40.260623166783915,
           23.205566860849025,
           49.131631585183705,
           31.247914597084183,
           10.435516278555644,
           22.50775792180703,
           28.323524445891906,
           35.84007467041542,
           11.421106192776032,
           37.494799639416655,
           23.38478850307039,
           16.424778029956236,
           12.83600621515725,
           18.11817687664333,
           43.8525512370717,
           37.78117215885407,
           46.1223895176173,
           46.411241454343056,
           47.55636755722724,
           20.160109126688774,
           3.255764119219941,
           27.423469267520957,
           14.182030884185805,
           41.16751686031651,
           13.36902514521285,
           25.513567819047637,
           40.41573767546314,
           18.73268089018049,
           34.38282032255837,
           30.88133200926843,
           17.339069563656896,
           37.36062742355222,
           19.635370579079424,
           30.17496597228522,
           39.389038943453414,
           18.601505315430796,
           44.7520530255317,
           10.124804524862048,
           40.692188029972876,
           25.360500783699045,
           26.137085189864273,
           36.66294678100309,
           27.930543814572903,
           48.44029283248574,
           41.141434012350516,
           39.496102128353535,
           30.02887036762381,
           9.521466973808895,
           38.385628579997004,
           30.86812271583744,
           41.24327554617573,
           28.069690058851748,
           29.1674476085927,
           21.970282959792126,
           27.841403520656083,
           42.12172176495691,
           39.27663003194987,
           28.849094921293087,
           39.64386669671197,
           42.29858153650073,
           41.97943720618642,
           50.67991237678414,
           28.91228473042788,
           31.576320241598744,
           19.582049603314434,
           45.28017471501432,
           22.966805756714734,
           12.13074606114562,
           37.78579245048475,
           16.709029495056466,
           39.97450576443829,
           40.46502862555106,
           35.84846967135106,
           28.93888195644206,
           35.36250368210184,
           43.80895483584976,
           29.094472556369407,
           33.47022308460664,
           12.744900941160743,
           24.482368939481496,
           42.71518993262693,
           5.5458693337173655,
           22.845586736464735,
           39.589752695849455,
           14.823531405617668,
           42.59211585884567,
           36.23759557880922,
           37.90789825353022,
           40.62720558115378,
           30.456845608901215,
           25.10276379206084,
           38.07971682317678,
           27.624117632967025,
           26.365096876995036,
           51.12957491875469,
           32.80359228295991,
           45.01946569725885,
           20.667405900757526,
           12.399932795516797,
           28.864573634666957,
           33.52504491217924,
           16.967382925287374,
           16.54937058219034,
           36.00249149627555,
           14.798564119535387,
           34.85385474343106,
           33.38130714436848,
           13.358081199533608,
           40.073799975101494,
           19.656847831396234,
           28.674131779939433,
           42.91079895162368,
           37.084043688577104,
           35.77245371014468,
           24.989540669190838,
           10.362030045636184,
           32.72637966420858,
           40.182457476974804,
           27.920995684251665,
           25.269579867236963,
           40.249469745759576,
           33.13811724909571,
           28.40328619485194,
           40.905435034780105,
           8.525354342586981,
           7.712003630704539,
           38.77197871315486,
           38.73300765952653,
           22.360853690719807,
           30.723823546774465,
           27.9046441773886,
           49.051007465018834,
           28.399882628865438,
           17.203875532371576,
           40.24014189348544,
           11.203967551224387,
           27.947057090148153,
           49.8622519213349,
           8.111257609027097,
           22.379827226023597,
           40.046906525001674,
           32.868329488024386,
           12.311986029881613,
           27.445926635639196,
           40.617002709344625,
           26.673931302136754,
           3.043298648944377,
           43.53635932566402,
           4.6565366242877655,
           7.085195833567341,
           37.53995427097197,
           12.043116983018432,
           3.610170817749944,
           24.927712156018952,
           43.82248281419027,
           2.247220505424423,
           47.94478073784465,
           30.42278672937363,
           45.0223426015721,
           46.77576087628672,
           30.78736753930092,
           32.67738769648927,
           38.64871709815647,
           30.607430712407307,
           43.19956459216206,
           43.12519371937166,
           17.909950679254624,
           22.3638473136146,
           26.4184042541054,
           20.517330073216964,
           2.3416518386244634,
           23.31104888245057,
           42.98235345270584,
           31.395790588336318,
           44.592248329851124,
           15.99510341740037,
           25.523371642477002,
           34.077395570801585,
           39.98890992096019,
           34.1773804340434,
           42.35762180529025,
           5.848931526355904,
           53.40698300160132,
           29.09915519965024,
           37.761046948762775,
           44.63775361304651,
           35.07046082135534,
           40.62031511448428,
           2.7769887768348416,
           39.55249676063448,
           32.02694503591205,
           37.523490420446386,
           41.326251837168726,
           20.349542719404997,
           42.487493257820375,
           37.80262116132511,
           18.78128501106,
           47.023958432555084,
           21.177946469539172,
           42.655302305983184,
           30.864353765036686,
           7.932633022311485,
           29.72648650614464,
           43.370873482864816,
           40.754036382688305,
           41.15496511778565,
           24.857594412975686,
           3.5331760971303567,
           17.449259774175722,
           15.43005724767951,
           16.476285989263484,
           29.700218854412494,
           38.24266814262136,
           41.527448753806205,
           44.671423098740284,
           38.05206958891985,
           6.2496666577773015,
           6.71614969060895,
           4.5661800227323495,
           51.81892120874475,
           41.080787217766066,
           49.06116647161537,
           49.54650237338553,
           50.7526946921887,
           51.27117584200914,
           37.760597086217956,
           46.01960180184091,
           27.597937724885657,
           38.73171477183351,
           22.35528274629213,
           32.4844508258112,
           45.99157028235757,
           34.21988944069418,
           29.59508887829678,
           32.194577700807535,
           9.594616546098479,
           27.76029338621782,
           42.630123239411446,
           37.6137509331263,
           19.08582953106542,
           16.228447245500725,
           25.547048100840676,
           34.06491760023955,
           19.366917669056168,
           38.067014274271315,
           49.32001959988797,
           45.554617824411665,
           38.99352272897147,
           42.03228460026826,
           11.974208394155625,
           21.836628250106127,
           29.10788043990327,
           16.331003235155734,
           7.298287470359057,
           15.620853389173728,
           6.162892989497706,
           32.10326287434795,
           10.66387984428431,
           29.372793534153345,
           23.418226519814294,
           16.466320846571108,
           6.970533217289285,
           39.92864677563382,
           21.516524657419318,
           14.124879547175697,
           39.447421305061845,
           11.435616875942165,
           25.61243729996122,
           8.389328538883989,
           6.511528238439882,
           25.35450732447125,
           12.510528899024743,
           11.96388082707466,
           24.322109283530487,
           26.092144411680692,
           11.541735860201749,
           15.532372109028726,
           12.166997712391233,
           34.09078973043078,
           15.267394451357212,
           4.1836985232367425,
           7.887014644337869,
           10.048797606347396,
           15.769221075669316,
           7.340186192007209,
           33.644731578108384,
           19.671256526549925,
           9.327781086625041,
           23.112148080368677,
           35.28932400725307,
           2.0696215435033842,
           24.329132057405314,
           23.61692542789316,
           4.705434210687802,
           8.71537594012891,
           39.66415831131999,
           11.005263892035172,
           6.465163055432809,
           23.414436429974852,
           3.4246654337808384,
           26.14955385215332,
           5.67230112035671,
           22.07292566967614,
           44.78564455641264,
           32.055563739648456,
           7.231240096507189,
           8.674003304895226,
           6.6783231428256,
           33.142432519857884,
           31.30854515942892,
           11.73978279185778,
           15.281470260852963,
           10.682384253214869,
           4.371689223477202,
           21.40879881419476,
           35.902367609950176,
           25.783974351005956,
           3.055868670825585,
           12.645140700416636,
           15.77064784126933,
           25.993348508160025,
           13.978972303666199,
           19.227584351654787,
           31.518497655257057,
           4.6097722286464435,
           10.058661276067856,
           24.47563414227846,
           25.610408040482298,
           25.985614152010026,
           6.760793838990605,
           3.403429642777018,
           43.010197061651,
           7.7864198020228335,
           9.028658076739129,
           22.82064124135575,
           49.935705152954505,
           44.91962369157373,
           44.08490360078149,
           38.8906323174525,
           35.51588175933208,
           40.95426310735755,
           40.51422668770273,
           32.99428612148879,
           45.21918471917274,
           29.72661826265028,
           28.292141625861003,
           30.915628913400912,
           40.41817772870384,
           38.484691521194264,
           32.602129276066194,
           38.933311929217865,
           16.964734664067763,
           26.801782693611198,
           27.59000972025267,
           7.392451104561551,
           39.0878474057451,
           20.109989225921204,
           37.41359675602204,
           20.301984030029104,
           21.212991302501397,
           19.872074208127692,
           32.46412122122924,
           14.93865232654316,
           14.076872285182299,
           6.751975019701025,
           10.336303336622171,
           19.7112489034392,
           10.573867157604496,
           10.061229215823134,
           32.874262620736324,
           17.753849347864453,
           34.60129499577459,
           8.862373647430282,
           44.22943563047664,
           35.16324311929529,
           12.072351331313506,
           33.8907804572276,
           37.440926310161764,
           37.235550888901834,
           23.862562828872864,
           19.20605373313321,
           39.44574567493753,
           8.465321415437614,
           29.77344703167822,
           24.65844457561932,
           28.133270294011282,
           6.094191223342651,
           20.298414346938543,
           23.443904680463678,
           8.837891905501747,
           5.770904030854551,
           14.657307619978047,
           2.8460498941515415,
           7.37932547354054,
           5.022615520489967,
           19.055970193091717,
           22.3832981715617,
           22.976872430047276,
           17.64701107836678,
           32.055869788211766,
           20.140561616355743,
           14.761266883299685,
           28.072148347080834,
           15.566577444426665,
           6.307931515164063,
           18.50090087896622,
           7.797435475847171,
           4.861412689057914,
           15.08774337003384,
           38.20302004738292,
           49.255206396307564,
           38.143863639297656,
           48.50895643246376,
           45.917197379103115,
           29.835122319332356,
           43.94959549807535,
           41.480920853710515,
           49.46741832954773,
           49.142808365366015,
           38.908563753155065,
           29.63774339138076,
           36.46032089820383,
           38.717476673977586,
           39.984720566584905,
           25.702620921264472,
           38.73271836861212,
           9.426823431039747,
           33.25359379074688,
           26.619572999330146,
           42.75523684623648,
           27.922413765220774,
           33.81479638479957,
           32.17475718634098,
           41.83444678133081,
           15.758172482873764,
           24.914955348143813,
           23.38735413280719,
           29.729328330168553,
           17.955024830577837,
           39.960997651877186,
           45.79242682110947,
           21.852755356399932,
           27.619605700437116,
           8.591565631478346,
           23.01959310384671,
           3.728940868396816,
           5.9612638481002245,
           41.99313616352659,
           3.969466798786293,
           50.121135081103084,
           4.314510400960924,
           29.058061745081215,
           14.371868565381678,
           18.69068395395595,
           12.305960615354923,
           1.7701224063135663,
           14.118663770579229,
           24.917463755366434,
           13.049265624292167,
           32.99653012060512,
           17.43577500428358,
           25.45384712245545,
           18.233759897508797,
           9.275909658895985,
           14.396252405863592,
           34.976076239208275,
           2.1291625896895074,
           41.8751162045296,
           4.31083905212585,
           2.0575065816014613,
           5.187324294213087,
           2.3273733406281574,
           8.718084652032234,
           14.302505607992853,
           40.80939434329631,
           6.248466478531617,
           7.498444283094107,
           23.35433578588781,
           13.553597308463905,
           30.591673913346302,
           8.357332110189231,
           1.2583057392117902,
           7.585842075867386,
           31.576068104231673,
           9.5206792474767,
           2.2135943621178655,
           23.80234582276853,
           15.414711587744126,
           11.594574880808128,
           45.317409977389744,
           49.026814280743544,
           46.902230552173435,
           47.89776314490809,
           21.915899859843005,
           44.79248262822681,
           45.96359195835639,
           48.67299146384179,
           50.05875714264854,
           47.03204861040212,
           24.065350841222116,
           8.72802001219827,
           40.856544909044395,
           20.010302901810917,
           43.00586827262476,
           21.43192063773618,
           44.02683998300228,
           21.500406972892396,
           31.966731838654447,
           34.811043045974905,
           39.67212592939247,
           32.58869482355853,
           42.90871048979957,
           9.369246382595442,
           35.516216953198494,
           34.9588806075557,
           26.48358375170049,
           7.220341635499909,
           13.550830232867652,
           25.716571253513486,
           22.403887311506168,
           23.15014398803313,
           21.131051401511783,
           15.80955407340764,
           19.436734979586124,
           19.535629842248074,
           7.794228634059948,
           38.34879036191653,
           28.305855957407143,
           31.135059730863606,
           4.963197893831486,
           29.300092434438948,
           8.288596584062537,
           28.900824671048163,
           11.773133256133093,
           40.97704133617589,
           11.209110877614997,
           6.34954066580148,
           32.69509137470031,
           0.7427426651719066,
           40.64695218859862,
           12.792510829908764,
           1.7888543819998317,
           30.894137119093212,
           34.66300690388885,
           14.99433226255841,
           1.9832633040858014,
           7.169786142789292,
           16.321509325631215,
           16.106848095004676,
           22.518732942448892,
           39.28235821162811,
           34.64301543628266,
           40.931388584173035,
           31.72270918092868,
           40.44658302540985,
           29.055898507794222,
           33.08034726238528,
           44.151180618416085,
           30.031351139801398,
           32.972568241043284,
           16.614963135679833,
           28.064865342036953,
           36.768381646312505,
           17.613441836657955,
           20.857908172521363,
           42.20396242587235,
           44.31178360962991,
           39.99286795391757,
           34.93829083779954,
           34.959551457294744,
           41.958996940375314,
           25.796498470399673,
           37.611298084348846,
           17.98558064425809,
           26.747545503768958,
           13.159470607386403,
           27.826590999737405,
           11.483248669257312,
           24.33679960090922,
           30.5562891326083,
           40.0993528032323,
           17.65413077252271,
           20.338810737656765,
           26.748897519683286,
           30.58324704801634,
           13.396890186407703,
           12.249421755059842,
           33.5575579708908,
           12.170227789340856,
           34.33004029515062,
           13.984833054261165,
           40.93756933836366,
           23.220710344192515,
           16.30423002372902,
           24.24841346471054,
           5.144360450478216,
           15.495859662073189,
           4.629254799641083,
           7.646349891723939,
           33.83809490303303,
           18.826067920129613,
           8.561639251140328,
           21.842880500781693,
           24.358879284564797,
           12.787559058188808,
           16.98274334224515,
           3.5095108870990415,
           3.96232255123179,
           26.947405564667378,
           20.251913489840906,
           20.718369466088134,
           28.564225877835383,
           9.590055613325026,
           6.684933308069221,
           33.396841583865054,
           40.79428602059147,
           47.71519382987165,
           34.53952720281415,
           47.42659375152082,
           48.04487352251927,
           36.66470146248752,
           26.454510222476447,
           28.97127168995752,
           51.00940705245589,
           21.997537740998805,
           36.71525946766247,
           44.919524991813915,
           40.761601961214005,
           27.378591849594237,
           8.228304807188415,
           20.050569401723585,
           33.941952711153114,
           45.12935656010853,
           37.91963499229281,
           7.829591304787242,
           23.00566959106675,
           15.175620067873478,
           32.7019240004825,
           42.033664229655585,
           40.8142791754967,
           36.235542571549075,
           46.12250294355,
           28.240868730736082,
           13.156726205422245,
           34.59477521566257,
           34.81519197983249,
           2.3769728648009427,
           17.814320082450525,
           42.528410983021004,
           41.946338374526846,
           10.282630986279727,
           25.42764243888924,
           24.78480717428858,
           9.479334247602928,
           9.302150289046077,
           42.93790865889954,
           38.731124435007075,
           10.772089707511112,
           33.93217990836034,
           16.56811697206415,
           20.05155854291631,
           12.473906097663754,
           9.56663763061795,
           29.23101948273444,
           23.00592315035413,
           11.161242463692517,
           36.576856461038695,
           34.37670938510765,
           6.308415895540745,
           12.428126702497565,
           9.896800829897847,
           9.770192765072075,
           24.299365560990857,
           10.799537027113708,
           20.282720478279064,
           28.590536507344133,
           17.83758738757918,
           3.9251326941476385,
           8.274257267775356,
           12.827639429502742,
           44.49528767184228,
           44.28532488308063,
           42.6955306013795,
           37.92334530401583,
           22.01754981826995,
           23.470273752131632,
           38.53384684846787,
           33.67864398407484,
           43.300834425040385,
           44.978890551436415,
           35.13440858569654,
           25.841518416572846,
           14.600485151756669,
           38.34130248427244,
           30.600562812543906,
           33.918130599037056,
           34.86136147383693,
           23.597898917770912,
           16.043759603728247,
           29.180354611246507,
           22.649714862075726,
           36.49816776223156,
           47.4918251110752,
           38.82144412318434,
           17.794927491969286,
           42.644652774485216,
           20.786834775886398,
           27.710276874193177,
           12.740650166560059,
           30.238118878880886,
           37.13827764809066,
           27.89171023799006,
           45.50008171308526,
           25.132896768975915,
           5.833380952186587,
           46.01260696809082,
           16.794096184870057,
           37.21044880137834,
           21.70399348814253,
           39.59795419198416,
           11.222997222964398,
           2.513297966152575,
           33.941401709416766,
           36.390511936140165,
           13.036082404021718,
           43.59058575732454,
           3.243454948045371,
           10.489677465648455,
           31.13885568439103,
           15.995936984121936,
           32.07861870121246,
           7.110907115129546,
           26.009715550738015,
           1.795828499606797,
           10.44030650891055,
           20.785291273718865,
           37.587936894700675,
           35.34814940936329,
           33.55672436338208,
           4.378355855797928,
           10.470036612479777,
           19.067096440377767,
           34.61933097162735,
           9.45480477499844,
           52.73412697815475,
           29.388623082183805,
           48.14278146729173,
           49.565574281411834,
           47.293515015274565,
           38.880118180679325,
           45.58593884645594,
           38.55892946733179,
           30.026883787699315,
           37.607509381834376,
           34.56997251951468,
           36.45335408175116,
           26.360999443622518,
           42.44987567054167,
           14.006268437937193,
           5.9076221950967716,
           22.77088784683929,
           44.07469543601837,
           29.80849151947589,
           27.447850319824443,
           45.321543022107726,
           22.89745255117549,
           34.41159512123608,
           25.034172940499047,
           38.05336986829593,
           6.535480089480803,
           35.00495373106905,
           36.23780418818105,
           39.173458276406144,
           14.51374827151446,
           31.73265638867131,
           31.092493735090894,
           22.57325113196296,
           40.0177380541974,
           1.6583123951777,
           5.646532859492921,
           35.101210805326936,
           37.27672419441745,
           36.345436544025134,
           33.349627267615595,
           42.859120741905464,
           7.390421729058045,
           28.14565855044247,
           42.81512583188329,
           17.62871710212252,
           8.975429423338657,
           2.262005010309807,
           18.525500443082947,
           34.21532551357652,
           34.615186134283775,
           34.71926869978137,
           3.821866908549623,
           0.39157800414902394,
           13.702493690322703,
           17.13325226958774,
           4.15732285651876,
           9.292828776355814,
           11.0491892613591,
           18.754932684496634,
           6.521247324451565,
           27.548417982405688,
           8.896207056942872,
           10.626852779633301,
           1.6683325008322922,
           30.483096408774927,
           23.802690924307164,
           20.779196327096003,
           5.541660400998964,
           47.58415661524657,
           43.652674603052674,
           43.040180311101395,
           35.044447967307654,
           39.97224175738848,
           36.10370479604551,
           45.41514921012345,
           22.977464805519528,
           47.76359677066403,
           13.454413773925635,
           33.383488932904136,
           19.342580403520795,
           34.854105449238915,
           33.08261027434355,
           43.33631491574,
           29.721807369898173,
           47.23002766059441,
           40.5273004693544,
           33.415093668108796,
           41.86732303473962,
           3.5810845656960804,
           24.273253455878823,
           18.521968937813632,
           38.47110928995941,
           35.9033623574649,
           42.38908238633571,
           29.843528053275907,
           37.40742933202934,
           25.914153147138194,
           32.831418242432406,
           23.576983833108645,
           4.4237992721189325,
           20.600040453034723,
           16.743705284872494,
           5.951890455981192,
           19.844436667909395,
           24.8314686100789,
           41.52636824066439,
           21.828256407184192,
           43.71592903027903,
           25.23369660680819,
           12.487960869039709,
           17.086674470020327,
           16.48949160324032,
           17.08844638930058,
           8.622161368628326,
           14.948459070132566,
           10.075713374247998,
           3.4544657088084256,
           38.756273685688626,
           15.474225882630348,
           14.125410515175197,
           14.652360446926853,
           6.547009495436321,
           3.3015148038438356,
           11.475989427205548,
           8.414570696119917,
           11.573869035220868,
           15.74705660327246,
           14.256548203077303,
           33.15057314738315,
           16.802843674674698,
           17.441186886218496,
           13.207363266164986,
           13.69805338968523,
           10.730719143344169,
           37.666934786234926,
           44.83938373052572,
           48.577447828184624,
           45.37895988230668,
           37.302814907188996,
           35.131506191348066,
           38.99893818409908,
           21.583494207894645,
           49.044631034735445,
           36.5548873841333,
           9.154279509242302,
           21.61325789108775,
           35.48421010346243,
           30.859839957819307,
           31.927535138184414,
           42.99745922726132,
           32.94622934081801,
           36.442145930227554,
           6.9766276476054925,
           35.52055742805847,
           43.09224452800687,
           34.4300716428725,
           36.04485246035681,
           30.12873766577904,
           33.73078218284697,
           34.194562363599516,
           29.37046891768064,
           15.922625411658723,
           44.99357978892345,
           29.84235431582284,
           29.009122128507553,
           36.98087531263813,
           33.94195699196563,
           38.18808379049338,
           28.317691760923335,
           23.068586143642758,
           20.305007592545586,
           49.16830646982982,
           22.208969659426646,
           11.996318879834222,
           2.4228082879171433,
           3.0605010483034754,
           40.54556079276744,
           12.75228737651928,
           27.97391642226735,
           37.21170664066768,
           41.022201813977105,
           14.554380783805266,
           19.712823660416248,
           6.808022228714203,
           23.97324898020013,
           36.175290830436545,
           41.52249724881415,
           10.832474324917639,
           8.484888528044037,
           28.48915973176854,
           11.598132033507248,
           24.652763536772092,
           35.56577240362797,
           41.09410512701884,
           20.41861895427798,
           12.263122223425272,
           2.183651376326663,
           17.359051433378106,
           29.13828738389864,
           11.883111264872218,
           25.511134823837217,
           1.8393839548428519,
           14.03196747113928,
           11.545850625513328,
           28.745394558665097,
           11.28407432328117,
           18.444059567604228,
           11.602298622830435,
           22.03836931858213,
           16.971962172948658,
           3.610170817749944,
           19.608657385054304,
           5.991614510667761,
           10.392625590613134,
           10.868455885420568,
           9.034009814768485,
           3.646916505762094,
           31.701225002618852,
           32.773002562623056,
           12.310090711823896,
           3.0983866769659336,
           19.12696612987364,
           17.34985590718263,
           35.92237928274424,
           39.75748776436124,
           48.436765191559005,
           33.054525660893496,
           31.48892662508521,
           30.512256189567122,
           43.89368468875171,
           41.864603186940634,
           46.69505684045511,
           11.44308379182232,
           9.304598624097412,
           39.97062393530752,
           23.73174737210334,
           36.897672206871185,
           37.977633220094155,
           15.335072365151863,
           30.32759469526063,
           27.69113662562532,
           18.655011242142,
           22.62919697107159,
           22.60003687312626,
           43.10633235255453,
           27.812984078184318,
           33.472171277047416,
           45.079548208324645,
           28.536578216322557,
           31.369629686476472,
           32.49561508880854,
           11.244702456416233,
           26.320112715057533,
           24.638925842387422,
           13.942341585576244,
           22.678246819096913,
           19.6623000095784,
           13.242592268887542,
           45.331058153691195,
           33.72814106943932,
           20.807590762347594,
           6.160357132504576,
           28.137371353178445,
           8.83562863260636,
           36.480640658534824,
           9.286010984270918,
           25.508789334920102,
           18.85101677187024,
           44.81187218683112,
           25.765752463299044,
           24.766997530315763,
           7.564885987243958,
           4.240479532631504,
           16.543301766374615,
           13.05335205991166,
           12.871156384205229,
           23.46439974846054,
           26.638474681057343,
           23.465552767123715,
           21.13141421359835,
           31.488992785839706,
           29.293116370005208,
           15.101462401590997,
           25.562073142320294,
           11.27752189091203,
           11.648605066702192,
           34.10726601822689,
           12.086493839543914,
           6.4268966072280955,
           25.420846650818778,
           3.5730472522297685,
           9.998333194421294,
           11.133040165800782,
           3.4331715172223336,
           14.106263384279588,
           5.30455778866941,
           5.234023309080692,
           9.15323258016897,
           9.024288214467548,
           3.175164037757215,
           18.901014082142073,
           10.457772229303902,
           25.998728601392948,
           49.96970749030524,
           45.19206762464489,
           45.166034963075006,
           46.91650248183687,
           34.748630668464244,
           37.99958670490494,
           26.360279462352686,
           37.87071123217478,
           39.422878298436466,
           24.415509073810714,
           47.0049668094969,
           27.605653104633,
           45.48235005655125,
           42.2960991109109,
           36.990499906507544,
           22.24416590179694,
           38.776187181151435,
           30.432123926316166,
           30.193600064392545,
           31.604474015205156,
           37.905937780875696,
           41.11508407979836,
           38.613943940844315,
           10.960129764033114,
           36.659750862946865,
           43.51457087905014,
           31.195901745490314,
           11.914113945699485,
           35.78212361459798,
           15.177368019521694,
           4.439782276944068,
           16.399441047385334,
           36.85366049209586,
           14.707792719054295,
           27.421891829615813,
           14.87793668490359,
           5.305500290578948,
           19.748565348736943,
           6.071518206621248,
           17.415988822535084,
           29.858481021125126,
           47.00295271685136,
           23.45278945740428,
           0.25495097567963926,
           8.58972254111466,
           5.413563213509813,
           38.278338680266835,
           16.438471137345257,
           26.566354034128707,
           9.235845025406887,
           9.586753013055732,
           9.187763601660635,
           34.776170001884914,
           33.048065229066225,
           7.524478571819961,
           3.4940425488727667,
           14.107651588174882,
           8.439687987913612,
           31.378256803079395,
           6.275348595894892,
           6.2636517570290655,
           10.898012051134234,
           8.68539642797674,
           27.75761156872111,
           35.55231314129883,
           45.989602538689844,
           41.51230239338696,
           50.18894428263188,
           42.448033085415304,
           40.93365227888772,
           41.68472941817745,
           19.303971957432314,
           41.10849154278318,
           44.629882480871615,
           33.689419254373746,
           43.039688563774114,
           34.26082148590265,
           25.29917653468851,
           39.1842213796345,
           32.61766903586664,
           42.673354510574704,
           31.391118293114502,
           38.61098721003302,
           23.615304762962918,
           37.38117841909214,
           42.75833739362028,
           32.01116045911792,
           44.78117318943554,
           45.20567385536851,
           41.52324186988072,
           31.52452895644797,
           32.63443988590378,
           18.752836822435384,
           11.106417064022034,
           33.52992030344771,
           4.419275958796871,
           19.296556255802056,
           43.7736370010112,
           44.35199530099506,
           33.943482437722835,
           36.55858882214503,
           21.44351753897768,
           28.872766868914137,
           27.0173658145193,
           14.676994469804322,
           17.4060813127673,
           4.376452139956896,
           43.17669569666084,
           24.55951953927438,
           15.36522046701576,
           18.5988649593941,
           9.76703639800733,
           4.778423728943814,
           21.53444914549708,
           36.94006156123927,
           20.545802491019913,
           7.891081463694736,
           1.559914527573011,
           14.530875174377261,
           21.02173478410697,
           13.066432821036774,
           12.132898343850995,
           4.640043103248073,
           27.98100546203919,
           27.421372443163133,
           2.262741699796952,
           21.87886020361947,
           27.60369087640274,
           45.58545255724116,
           21.71450360166372,
           50.163106185943285,
           42.710982194278806,
           43.76946614555251,
           35.30071607709335,
           46.681548222444846,
           31.00635687510977,
           50.03905280434031,
           43.25968313782691,
           27.02545867634197,
           41.61502633264417,
           32.14183596261451,
           24.600496833284563,
           26.24244864929931,
           34.30745586279719,
           46.19579556385816,
           44.84266012032145,
           42.9763145361618,
           27.91112084217805,
           45.60343737044391,
           34.58484253735056,
           26.255399444685647,
           26.905025862590538,
           41.86325291284046,
           35.25751370597865,
           35.695712472072735,
           30.63776264677302,
           22.906258242381416,
           18.90188115270835,
           19.67273917548511,
           19.810897674428247,
           38.56875030384054,
           14.309422886103173,
           31.48639918017516,
           31.745250863411872,
           22.875423493347622,
           35.46983068593489,
           29.177921637963035,
           34.79951149082414,
           37.90854491770658,
           37.57914426025868,
           33.801989938604535,
           31.70576971677763,
           40.19512477347912,
           5.699853799294619,
           25.590829520661426,
           26.59569200704004,
           34.96091667054003,
           12.187014947612619,
           35.273870061150234,
           10.519030373565807,
           6.027713773341706,
           3.823174945861973,
           10.064458919054367,
           10.438909585456383,
           46.854455497849926,
           33.66988639719476,
           14.06674565538643,
           23.100798790559267,
           8.63355855562081,
           15.876030150303098,
           20.90233905039763,
           3.4302575219167872,
           17.079178356505707,
           15.089234573032524,
           46.72460451054312,
           43.518522876280315,
           41.06469766039189,
           38.68861685398012,
           43.34942329489518,
           28.519817671226434,
           44.064712513403364,
           40.11131292095066,
           43.969965644606525,
           46.381559815395285,
           20.579277603129484,
           24.10541432956505,
           35.10390205367403,
           36.8295953128607,
           27.793579394449292,
           25.816919516730355,
           30.309486963655445,
           42.2753904341951,
           39.017107747367646,
           29.39636598855942,
           7.772601452109413,
           19.173158320944435,
           36.866493369092396,
           12.491597175701752,
           15.717011307638751,
           28.10720548186888,
           33.771458199030846,
           36.875611375077085,
           13.432030540631017,
           14.039586888509213,
           9.029950165975448,
           9.313654850093316,
           35.72082336988082,
           14.172949587153692,
           36.58244114325886,
           6.235382907247958,
           4.909175083453431,
           34.671063823694055,
           36.31146895648505,
           14.098877023838932,
           15.384443802461986,
           15.661630396183758,
           1.390443574307613,
           9.517746582043461,
           20.87372750612597,
           4.58075685158395,
           11.56726703533151,
           19.370866686611535,
           7.242467351209347,
           14.662991963897852,
           4.081870486268115,
           20.09017172649353,
           27.384009932805668,
           31.980290153989113,
           32.74534136258748,
           36.843947691330264,
           8.116752224052838,
           23.959444901750132,
           34.67778959087634,
           20.731417381999396,
           13.423238556076287,
           19.317579788599005,
           4.279213323341885,
           19.95873868760248,
           14.125154866407659,
           6.894744375246988,
           28.526248471396503,
           6.778274116617002,
           7.627472276798736,
           6.499786321274123,
           9.757304955775442,
           44.39898647491856,
           35.58307516355548,
           39.60952957727891,
           43.19634822528404,
           42.03300731215531,
           28.608283571177207,
           37.70065428256299,
           40.525308450399244,
           48.70114475040601,
           23.134101812403838,
           50.420719534069846,
           34.72811301141099,
           41.7455386837923,
           42.29261558869743,
           42.45542368178652,
           45.22259206782969,
           33.86859656574707,
           29.465639122355512,
           45.907973163710885,
           27.58271399103269,
           20.355814075262785,
           38.28850730528243,
           39.28948544670276,
           39.57815685450751,
           26.290815886921436,
           20.493999121694152,
           17.267358416001766,
           36.55886045513148,
           38.159452738912975,
           45.75133331390463,
           46.88471677067769,
           7.071774883294857,
           36.044386217242995,
           32.39035993419443,
           7.730567033967602,
           25.19550224411756,
           10.909781543795138,
           38.365107604195266,
           18.566502093824784,
           27.259551078475212,
           19.13260741944669,
           36.255100790555424,
           13.337374387620509,
           25.824810422021166,
           17.20218009439502,
           12.576565508913795,
           6.729289214570384,
           3.0221405217715023,
           12.157747872584517,
           33.92259980864936,
           11.638585251939643,
           19.52737394872473,
           35.44517362537998,
           39.024979180007264,
           7.210871422142174,
           15.231509737675022,
           15.08150080949063,
           7.672461578050861,
           9.73319063822342,
           4.702658822410998,
           12.476745034930666,
           6.255397669213365,
           4.806159242749523,
           11.203384905167422,
           19.351227351256043,
           9.067363637426997,
           30.359256322321936,
           19.154494685756326,
           27.39989862106146,
           2.9501412395567317,
           46.42842560009659,
           37.04473084439042,
           48.28012396805099,
           38.46283379229009,
           28.99397638590931,
           52.467963770497356,
           41.06698908603591,
           46.93972888873718,
           48.50633215632017,
           39.94430149873975,
           28.200036117654832,
           34.898034010210054,
           27.763660301432413,
           33.075872374486714,
           38.23188750535634,
           2.984403904746586,
           30.109875179637204,
           30.45057014609452,
           28.56501940019177,
           42.31863261811122,
           36.14268482925234,
           5.999583318864736,
           19.073760335427654,
           12.30059280414295,
           27.72852772867682,
           28.430487492261175,
           19.088849275602406,
           23.632710382010785,
           17.398467365451094,
           28.24815628201838,
           39.26810834931233,
           15.923602328339872,
           43.04423005166594,
           44.946278633085555,
           19.25912482146811,
           27.756316312473746,
           17.64951998088208,
           45.40137255226575,
           39.22327351439685,
           15.66357238946467,
           25.22487198513932,
           31.94185690003358,
           20.163498373711516,
           25.568318069221682,
           29.88553161648626,
           7.237978539159487,
           23.33929090610938,
           28.968301641622,
           7.341775443764723,
           23.248512497218677,
           11.124260275032531,
           3.2331615074619044,
           26.428614543079373,
           26.199491089205004,
           9.060997001802102,
           40.073988862269914,
           11.899159634192655,
           30.99833328852805,
           22.96544505701265,
           33.781910839974685,
           33.019312530699345,
           38.007523621670664,
           10.279307693938668,
           1.3988090172238203,
           32.27061098481609,
           25.20565412759607,
           18.276122856521482,
           4.495367986420394,
           14.152738250953417,
           3.122498999199199,
           25.061291533624807,
           23.84779864054542,
           24.464021201211686,
           28.33757811340505,
           38.877588338270165,
           2.091650066335189,
           35.95716697882156,
           10.24255827418131,
           12.672038334678271,
           13.97438132202401,
           3.4253953543106963,
           8.695784419284246,
           30.495895291491763,
           36.88612463347417,
           35.618391199865655,
           36.10528585493633,
           31.16970828040767,
           21.822350927432176,
           24.472586704310586,
           37.49761936887904,
           23.99666643515303,
           6.172519744804386,
           45.386474673996595,
           36.43258900581547,
           42.734782866731265,
           30.4254313856024,
           3.268409399080846,
           15.03365668536212,
           38.5635919618492,
           28.277705195279026,
           9.346166772176343,
           5.471136384091818,
           20.35942861018779,
           39.7566189457806,
           46.962127915303554,
           15.387256632248215,
           40.27211866374385,
           35.176246720384086,
           27.6180194800424,
           22.911569130026837,
           38.21781598068281,
           14.977983842960974,
           30.58800600090029,
           31.371042247057503,
           11.77331021137783,
           42.01923418705613,
           44.972257652171905,
           30.890273550099884,
           34.92626757422939,
           44.45889253006646,
           42.7089934908328,
           8.895410801831094,
           39.16294751845592,
           35.28362167257401,
           6.665833281243491,
           43.255341673986706,
           48.92581970016785,
           19.239455986764966,
           9.187037970241915,
           7.136642534600336,
           20.93961556476145,
           7.883632834338919,
           25.918065342751028,
           33.73501078080384,
           11.93133130319777,
           30.428367612403356,
           6.130524719249838,
           33.67899939131208,
           34.486473797707994,
           28.539587515511787,
           27.951043510633642,
           26.566943745941103,
           12.945526897993254,
           14.945986083226492,
           31.321092467111225,
           15.609238717289626,
           27.402590104667926,
           3.3739195801520374,
           32.41427522088437,
           22.336890264015413,
           2.357258294431619,
           5.3603482473933814,
           11.503477735015617,
           12.023899811070734,
           26.848215334853585,
           31.23944088274736,
           1.1105554165971774,
           36.39645701621704,
           15.120846537148639,
           12.550630794240309,
           2.5742312768410436,
           11.27072165687125,
           20.428758324153403,
           31.625886021843982,
           8.33196655458162,
           10.75933703038124,
           2.7518175811634027,
           8.100977307296532,
           31.587238105144785,
           20.596358901514606,
           42.912180532981985,
           24.173461688388777,
           24.462567776548365,
           42.81911288865555,
           31.187203572405576,
           44.799612030633,
           15.114700349880145,
           26.41166619339096,
           16.19717053479814,
           11.182054074870742,
           23.840336966298672,
           40.960050223183494,
           34.28190901502257,
           36.50035159648011,
           38.29974511913201,
           11.469197879538038,
           30.3006463077385,
           20.01085122294068,
           27.51449401592517,
           14.24945905406003,
           43.019037867525796,
           38.133493589406854,
           37.39425089502398,
           17.04731161600952,
           27.754736832956414,
           42.92941881740305,
           36.943679786811664,
           14.752400934537176,
           43.40541989418459,
           36.05624904559676,
           33.64060047026508,
           18.728643392764283,
           28.493729468913305,
           44.07951419229314,
           3.7396523902630308,
           9.114045936538467,
           20.5208735194192,
           14.782506553355557,
           7.100899786490292,
           5.181698563212646,
           51.5562429825544,
           34.69165880260256,
           39.85829901036922,
           9.953516966379278,
           16.69408577910153,
           27.523161963052953,
           4.655999713631145,
           24.321852314328368,
           14.983185019658983,
           18.862794066627558,
           8.627813550759361,
           16.54559357250948,
           42.340925828328324,
           1.6502525059315407,
           38.86270093302218,
           42.40740894387837,
           34.301631225962176,
           12.504066005370692,
           13.591234920590058,
           47.5036109738571,
           42.2004344369423,
           7.079901129253148,
           23.368354670365648,
           35.086722492106546,
           1.638596960817394,
           9.338584832118121,
           26.402840756251965,
           28.802350887847073,
           2.6394443859772214,
           21.210728417477792,
           37.289613005436756,
           8.673138609138753,
           44.77731409031651,
           4.605250626549364,
           9.358908412131559,
           8.51909619619359,
           8.43712036182962,
           11.511877923837325,
           8.666025617317317,
           3.4665064065520923,
           40.903297204775846,
           28.361965924651816,
           37.879625130140894,
           33.73634291581312,
           5.996526772502004,
           24.347888341017708,
           15.931363197583986,
           37.02014841797487,
           31.548534038842437,
           10.694520923247469,
           34.45902558756479,
           9.93076029314976,
           27.823416396984754,
           41.632746192817436,
           48.29701796637597,
           33.781972510003996,
           35.01594478075509,
           38.927414647149526,
           40.953242308217256,
           35.925145944186646,
           47.83190474057154,
           24.886458834742502,
           43.097338149305195,
           33.36607974841781,
           34.913894082442326,
           31.618533594502228,
           36.07610397171208,
           26.712304696941093,
           23.60224800969412,
           25.11026350585218,
           12.678963329512042,
           10.618105606305981,
           12.703149215844078,
           33.56731627971203,
           40.78756618818479,
           36.435300343363615,
           5.372615750265414,
           21.90551680893803,
           27.048421087622366,
           23.031160051837034,
           13.324226056323122,
           31.69196357999223,
           27.755984339717926,
           43.65209680594455,
           16.923438710196518,
           18.945477326029845,
           26.847416076784732,
           37.61006809648475,
           2.7215191835933603,
           34.95097995764924,
           14.762551157122761,
           16.69001697622465,
           42.162201674011285,
           40.426728987968666,
           4.999333288882964,
           24.337522470457003,
           20.46465788187582,
           4.922736366426024,
           11.748829728955986,
           18.205905635260223,
           24.648512463567997,
           10.874562571023764,
           2.4086649137367924,
           2.503331114069146,
           23.509342114714034,
           2.0575065816014613,
           2.466441431158123,
           11.64356045202669,
           33.628237142814,
           10.056134114724872,
           8.494213716799614,
           14.261019131417877,
           15.933821470904807,
           48.2855266444649,
           30.63813663829226,
           43.977611728393505,
           13.893523671121015,
           31.777749028736025,
           31.597172869314317,
           20.809920177112108,
           33.35031234236543,
           12.551945400348636,
           47.278310742524056,
           45.18886293472468,
           6.743268248161767,
           7.320632941670186,
           20.08024734243414,
           25.471307386940325,
           37.35938079429762,
           26.925601200344627,
           38.37507328983229,
           45.57147499624446,
           35.88559599616537,
           39.396755365554334,
           7.903216644717105,
           4.9249365478146006,
           30.452257715972408,
           33.894468575270515,
           10.380751417888785,
           21.553744196516963,
           43.21740390166908,
           30.477767853524533,
           6.715405175167516,
           42.06140748952655,
           23.20447155183673,
           16.20635163549568,
           5.616938667993447,
           10.768008172359462,
           12.77621488026352,
           23.951875361510506,
           25.97666901920516,
           23.316896591670755,
           6.048415770541353,
           5.293077239816807,
           12.713785169387334,
           14.432101564067352,
           28.082695343890652,
           42.9001864797812,
           9.162332308606445,
           30.192134737378236,
           19.796983496370242,
           6.624449662676387,
           29.066532874309804,
           30.228093996589784,
           22.48577328000972,
           3.1411250638372663,
           32.28586894189675,
           28.640850778797276,
           16.93408790969661,
           13.733879438980244,
           6.811448695639816,
           24.688171931784154,
           23.375782815174812,
           10.951331730281344,
           29.019614056703112,
           15.586211855354719,
           31.59748935174017,
           40.287818671818556,
           38.47300785399202,
           15.437427462717583,
           28.873690446494713,
           24.684939740659694,
           15.284469241684516,
           8.654671185743181,
           10.53407170407847,
           22.56278277754464,
           16.29859400889127,
           30.190306115263773,
           37.49123008562581,
           13.626139096114741,
           5.674504383644443,
           21.898782310134667,
           5.01829984490099,
           29.07612995797986,
           5.181698563212646,
           6.566328248470883,
           11.659295290310938,
           13.189136944217882,
           14.062272220377473,
           30.453636892824466,
           25.647595728774785,
           29.51455149582997,
           7.387489424696322,
           19.444193649176274,
           28.193787731815426,
           21.841836766474845,
           7.404953297174352,
           6.866585760041158,
           26.88390162656207,
           41.75837740302337,
           38.36795537945696,
           45.39248744744738,
           48.61171840890494,
           32.245574631774396,
           34.212522074039875,
           33.59686865369053,
           32.08554970699424,
           40.34592090079656,
           48.40399002148483,
           35.54425058993365,
           29.950477644123012,
           41.30463553484847,
           34.427574946061284,
           8.592632503100157,
           39.7890269630544,
           24.731322919191634,
           42.580781071589854,
           4.2391036788453285,
           44.272913088403556,
           31.626505234270383,
           20.908770089765362,
           18.674224660388624,
           20.52080245344546,
           14.886459171564836,
           21.99702631417862,
           18.78902605245945,
           24.862538754787966,
           45.26285728939347,
           6.917489910846758,
           30.434574636970588,
           33.937350367994235,
           30.023657338838635,
           14.781031387859542,
           39.6234831465719,
           11.149439447792876,
           31.669201652920336,
           14.995165887711947,
           19.493545940473044,
           30.601225465657418,
           20.10397970552099,
           18.51654665427655,
           20.74640531112157,
           41.19578760828184,
           28.914212191700237,
           20.95614468360056,
           27.32334929445266,
           9.347905291204725,
           34.74261912022944,
           7.339277893635041,
           32.485176106443795,
           17.95680001188036,
           30.8472175946767,
           12.778204099168239,
           6.1729247524977975,
           7.057265759485043,
           12.022374973356964,
           22.452561101130527,
           11.657687020445636,
           14.603500341432598,
           10.701868995647443,
           24.67671810972168,
           4.363675820528686,
           5.766859341675215,
           21.476479382493455,
           25.33829447035981,
           16.702968797991172,
           35.39075326503616,
           38.53170772234213,
           23.905403852127943,
           31.651592903570183,
           3.3763886032268267,
           14.062657406526442,
           7.977050415619378,
           4.449719092257398,
           11.158703628408947,
           9.172467861304648,
           3.046856303361438,
           11.053129270331864,
           16.703542538435762,
           10.8531101533155,
           3.953901027255652,
           8.094648437908425,
           14.46052096802418,
           6.615176154537047,
           23.64804431660259,
           8.443340571124677,
           7.968793300535951,
           22.016035822403033,
           2.742565708723616,
           5.410945696764411,
           4.435651023243375,
           7.9645045880665615,
           17.017246154024658,
           2.8225284173355405,
           13.854030701087206,
           5.873670062235365,
           10.970566682415862,
           28.250358896441966,
           5.369305769319202,
           7.563068160475615,
           31.692533295189037,
           28.101828726575388,
           22.303798879214373,
           4.792268078199857,
           47.63392231966157,
           43.296773038594424,
           38.87808580107252,
           31.8074502104285,
           37.905760336216225,
           27.315014186340814,
           35.31243092421959,
           29.70944481324268,
           35.338160047681534,
           2.3671361036774647,
           17.631175041197157,
           21.661736618593924,
           9.229391457006614,
           43.90083522364163,
           38.92698292958241,
           8.985451203658796,
           7.219995383193351,
           33.85876712331849,
           44.47808449112889,
           24.270764306053486,
           33.640831671579605,
           11.118353195405232,
           2.4289915602982237,
           35.53602241231968,
           23.824777018893588,
           29.596339863796224,
           3.610170817749944,
           32.64174219206649,
           15.692638047469552,
           29.06578744847626,
           31.778355666851088,
           1.9192012227313033,
           38.73500426688441,
           7.347902194957872,
           37.52023898289207,
           23.12845769945665,
           34.757980698283106,
           47.82888481056421,
           39.3975041510669,
           29.96537817029665,
           8.454239567617353,
           29.073412825695808,
           11.684866756241206,
           32.886327790672475,
           29.574496332707536,
           20.453429486953475,
           25.84146108700341,
           29.596959303279764,
           43.08514825319741,
           33.352477835653815,
           47.42747679937819,
           42.948082352740464,
           47.00135340840967,
           14.269333862829368,
           9.12030701237629,
           17.69352518107494,
           3.253203549323851,
           9.923541034664325,
           22.72188739226271,
           18.085975229442287,
           3.9644251369734174,
           1.5593802187621435,
           33.78758401148756,
           23.49371074233367,
           16.22503210063594,
           28.95597232581447,
           40.25679031749389,
           13.934489585198303,
           31.861994078630264,
           26.46890208863559,
           24.50622369929731,
           15.675112971416405,
           5.618718715152059,
           0.9548123724935004,
           8.204978163692253,
           14.639159811956423,
           20.217113212985353,
           24.904729582060426,
           3.8427420765212306,
           15.42335890783846,
           6.025501362265774,
           14.928300863349001,
           2.954375286474844,
           10.531935561266362,
           17.268589017828496,
           39.10793468793201,
           7.209253313161728,
           42.500950969752786,
           18.27513489842292,
           16.6054208016539,
           4.538630483600383,
           4.767773764207641,
           17.800351120132433,
           4.652597840633414,
           1.9364916731037085,
           27.645373332018274,
           19.210341543611932,
           8.121473593710279,
           14.897874568765396,
           11.963137826952718,
           19.205120844885794,
           19.501353229398664,
           12.24605378615222,
           26.263932810351662,
           6.307403057783235,
           10.553395977914716,
           7.512212279570733,
           12.924524491575426,
           7.144461724534137,
           17.04469614474447,
           16.63663126958099,
           11.876447280226525,
           13.870231913466084,
           9.167469661798716,
           10.035769360974125,
           3.47371079203014,
           5.313661637703326,
           17.80290238509814,
           28.508302884130703,
           14.51447553306698,
           8.259186804199715,
           5.278730908087662,
           16.01197468563241,
           6.719374970932936,
           11.103940741916816,
           36.7017143105514,
           45.90916756669271,
           33.919635414707315,
           45.42681843727701,
           36.7132923248969,
           43.75968464237374,
           31.65989839950009,
           36.84280798202005,
           28.485186208507283,
           42.508303110490424,
           31.964211758360843,
           28.26412626162945,
           39.643673307771756,
           33.67776219802421,
           18.063752840056978,
           24.625748719582113,
           33.653429741013476,
           15.377364316856562,
           31.600698831935134,
           37.70719427377221,
           11.15541721915113,
           12.289460253946611,
           21.829318969373887,
           19.76216924665239,
           34.37684540501062,
           7.086136700158508,
           26.46167039323104,
           11.06251177023856,
           14.536649086590296,
           26.319305335311093,
           23.61539046187182,
           36.69365294797814,
           13.123166538606444,
           8.587879055195565,
           4.67635898251335,
           24.463254757561053,
           6.387618231130184,
           21.33361978974345,
           16.540455455236625,
           17.726909864196113,
           34.26960509450515,
           33.62829909466133,
           30.34923118191516,
           26.801834514326348,
           13.352777488847286,
           19.193271390429175,
           35.95439240667731,
           13.482210501249416,
           13.347565321061365,
           9.970665307123024,
           33.02370360816606,
           22.64181235384365,
           11.537475171515343,
           9.160922442636448,
           7.505775553976198,
           16.474272872168502,
           10.824586212260794,
           3.9654760117796686,
           22.8114006584427,
           7.297259759663211,
           19.443207897189524,
           7.866913837924837,
           9.334166629467607,
           25.153015061154566,
           5.321497283033535,
           10.71443730051497,
           25.333031796451017,
           3.6560452221856745,
           14.809287626351246,
           9.195787078874767,
           3.6423435679060674,
           28.357288892511065,
           21.99124825925077,
           3.9093904043128385,
           12.497933162460622,
           19.578687392161918,
           3.924283374069717,
           21.697618916984105,
           11.111255554616678,
           11.865039682473336,
           4.330127018922194,
           8.65524888916161,
           8.622644605919925,
           48.105786207759564,
           38.321969330050486,
           28.91158937173811,
           25.888446586588913,
           35.452456426412404,
           26.135799203391507,
           24.519550023059825,
           41.781295655671926,
           32.49558944431275,
           46.61796863871269,
           44.53489268727017,
           27.149278689006326,
           25.859846609496103,
           35.67692998750495,
           10.709808588392232,
           42.1627995591691,
           30.58717051314162,
           7.503776826816393,
           43.692295278077005,
           29.804082494405577,
           21.086290965142897,
           38.86879639676703,
           30.073964376738445,
           19.076643660071156,
           9.719825101307121,
           12.684767768206598,
           12.478982330302419,
           8.423182296495785,
           7.9821676254010105,
           38.142211961727256,
           19.93184219617778,
           35.263082678631484,
           13.314716169211682,
           33.01386072545893,
           19.565871647676037,
           9.660141475844611,
           16.389224102033232,
           30.455623454462394,
           35.60278547155166,
           5.218556633144197,
           2.016597794967224,
           22.333047261849423,
           9.175147591910077,
           9.661780374237452,
           7.913174668445863,
           14.316016671313742,
           9.39769475279266,
           9.90933902942068,
           38.97390152396857,
           6.736467917239716,
           16.407213860575688,
           18.33030277982336,
           18.28897664350488,
           13.118879525325324,
           26.451811532167945,
           32.674888421130525,
           16.696606441629598,
           6.890936075744717,
           17.378530816307027,
           20.37670238286853,
           3.2888701200665706,
           27.939130265632823,
           15.251174818135585,
           12.557335173780583,
           45.196423162310865,
           14.765331015591896,
           1.807392228230129,
           37.748267068392295,
           5.110446816734003,
           19.981741665830835,
           19.796548520722823,
           14.546706385524766
          ],
          "sizemode": "area",
          "sizeref": 0.13669467446750722,
          "symbol": "circle"
         },
         "mode": "markers",
         "name": "",
         "showlegend": false,
         "type": "scattergl",
         "x": [
          0.09460039100538649,
          -0.05386022742051772,
          -0.005183335204908813,
          -0.011202425945014138,
          0.725393189522834,
          -0.17664533053509288,
          -0.8008956750382518,
          -0.3070454464388438,
          -0.2627526472118959,
          0.08965457525414185,
          0.4985639122449029,
          0.5870863930142913,
          0.47991345618400455,
          0.09817499071295803,
          -0.7811293647442905,
          0.32678438609840854,
          0.07140143048206955,
          -0.279332853497716,
          0.5102286583618595,
          -0.3068264387815253,
          0.023077803301576414,
          -0.16455536662736994,
          0.6092769194380114,
          4.594094511366862,
          0.4306413043721235,
          0.760737096514253,
          -0.6076573159833817,
          -0.14720249687555378,
          2.1352486629617493,
          -0.5296679912475796,
          -0.2936571907791408,
          0.6421294756337066,
          -0.015827094231678034,
          -0.7813342352474248,
          0.03599550377333319,
          0.3056405246314786,
          -0.37311833164100305,
          0.12121220556844078,
          0.04542177891877351,
          0.04414749358544792,
          0.013186763498792792,
          0.8729697433085695,
          1.6872608385860894,
          0.6387766970553921,
          0.5873646184295838,
          1.4847855996009602,
          -0.11772587772982089,
          0.4581382506574686,
          -0.5023815766208385,
          0.6980290372564666,
          -0.16185278176053408,
          0.1382746359027254,
          1.607823638243241,
          -0.755459394915466,
          -0.052841504335802474,
          0.6851920791031312,
          0.09397849820497965,
          1.6134869264203076,
          -0.5148016411484017,
          0.0007223875321900224,
          -0.6673949881636548,
          0.16998426662354718,
          -0.7722321608280498,
          -0.017720905599448885,
          -0.2453682886044926,
          -0.7629318278569277,
          -0.1379275811734523,
          0.26954059052476076,
          -0.4542836796270853,
          0.14532920635133423,
          0.09803975516210099,
          -0.12194284277497608,
          -0.4963760922809179,
          -0.47946261133057017,
          0.21871027857481795,
          1.013048306925247,
          0.4651059736346753,
          -0.0013446856088237687,
          0.4801998427605902,
          -0.1986095926243181,
          0.011141143859014293,
          0.6885211044321616,
          -0.011326384223848074,
          -0.009465195945258038,
          -0.034200946833600844,
          0.09225108364793759,
          -0.8492187824770702,
          -0.6616641622946655,
          0.07804357045194303,
          1.3119579267090034,
          0.14412441228535924,
          -0.010454572112307652,
          0.43423709405246685,
          -0.25778020901638843,
          1.0190400633132708,
          0.1051195061214342,
          0.36845344944063096,
          0.05095604376567422,
          0.09637538440303815,
          0.05693338529705606,
          -0.18606763725311973,
          -0.1903042271405432,
          -0.1014906355128309,
          0.7382839735735839,
          0.01566759132213235,
          -0.427667928231568,
          0.02481510251462342,
          0.5594976387555011,
          0.019945661697661637,
          0.08348535650704753,
          0.009287139649385111,
          1.3442054827376704,
          -0.6042613656565393,
          -0.47644012483986276,
          -0.8021004992521483,
          -0.597655665280404,
          -0.6644891926887064,
          -0.3148846256789966,
          0.28747233686269724,
          -0.5927381730232788,
          0.029909709450439362,
          0.9078338459435217,
          1.7459394130937766,
          -0.25335487816139923,
          0.5860506090775455,
          -0.3825571004936361,
          -0.001455357907490482,
          0.2654046699805231,
          0.09819693451762407,
          0.39245530264907513,
          0.2643150225114919,
          1.7536517356199282,
          -0.003914388293449939,
          0.053690689221908325,
          -0.11166334265368104,
          0.05197239565246698,
          0.06447783940458965,
          -0.6041934928671177,
          -0.13750602110708637,
          -0.06820716596194047,
          1.7302655433306504,
          -1.9610135911309383,
          0.37657430364770067,
          0.0810373372059161,
          -0.00044594737622600676,
          -0.4438519057986522,
          0.09994748315373783,
          0.15748693063713443,
          -0.20981822987016363,
          -0.14295780817206438,
          -1.4812631605384274,
          1.4541858315793184,
          1.378839768028239,
          0.024236244783390187,
          1.411324273929966,
          0.01221919839897487,
          0.011514049863320266,
          -0.0017044595280493585,
          -0.8923349086414241,
          0.23046483010489327,
          -0.1843992469575163,
          -0.2706854428788304,
          -0.08459286459857654,
          -0.2978468023531862,
          1.6165717608920112,
          -0.00007202492390818302,
          -0.04250098247232633,
          0.23412020692370095,
          0.30550651557138825,
          -0.23325122068702722,
          0.1506353127608523,
          1.5528265931156318,
          -0.02312719353978684,
          -1.922348413661619,
          0.17513867937756541,
          -0.045557247724514464,
          0.020593294407018663,
          -0.018629667676792906,
          1.765359479920064,
          -0.2213450016462053,
          -0.8216710927878638,
          0.388197160460419,
          -0.6587264243527132,
          1.0816184821351067,
          -0.5060342516948748,
          0.04010214756972139,
          0.08967181026762719,
          0.039436778418323326,
          0.3040216235300526,
          -1.6794809897709646,
          -0.5215896498629291,
          0.04609175302806194,
          -0.2305341830179115,
          1.402838191753312,
          -0.4059879254544803,
          0.4647507842786775,
          0.019555220454251503,
          0.827561914516681,
          0.06846515270176566,
          0.6741380530752934,
          0.4685012560267052,
          0.04866115581560008,
          0.7887311082683349,
          0.5544989451650687,
          -0.4922297210749007,
          -0.02340738665778649,
          -0.4453595815238346,
          1.8554388887782896,
          1.2666338562281725,
          0.2646627688103261,
          0.08308689914056262,
          2.1222970057003745,
          -0.34530332943652126,
          1.6864216734783646,
          -0.03469310810255407,
          -0.34323946169962377,
          0.24269452772149785,
          0.007724603297291806,
          0.24071054479653733,
          0.4659724943469262,
          -0.2121019593647633,
          0.23036717077882296,
          0.15537039302753025,
          0.057602705400241296,
          -0.33134612371570804,
          -0.288437485849869,
          1.2871468255030307,
          0.2691150928166345,
          0.5789229927697404,
          -0.01646179930156263,
          0.12356245956941812,
          -0.11475935022429089,
          -0.12821726260891483,
          -0.1994059796170289,
          0.6456584903724413,
          0.12833879847946775,
          0.16152926346130728,
          0.0793972241499069,
          0.39293928592743926,
          0.2502050138004447,
          1.9783778268276724,
          -0.5958458650628438,
          -0.18040729776822345,
          -0.013766656074616801,
          -0.22580934853906226,
          -0.1500178592612242,
          0.029086371935580523,
          -0.1139896361854571,
          -0.01689885162398509,
          0.5569567908119519,
          -0.134683701135559,
          0.46248817341548526,
          0.7122909370070217,
          -0.7849648572074812,
          -0.18464820192366005,
          0.4320927537433582,
          0.23421113414660966,
          -0.12015176847677697,
          1.4590630750443527,
          -0.028047446677853013,
          1.13308551418877,
          -0.05971676468033675,
          0.6084552856357387,
          1.6340631767912768,
          0.36702063274732344,
          0.2575266158794027,
          0.04934600640394009,
          -0.5207120372948786,
          -0.0030048043574166807,
          -0.6586655878448742,
          0.2505006272615357,
          0.008371192941719091,
          -0.12021734888685134,
          -0.8843081447441603,
          0.05892920391426187,
          -0.002663870722506633,
          -0.767796117471251,
          2.206102437090914,
          -0.01272619341245404,
          -0.2870728594152028,
          0.041202224318931675,
          -1.7121731325533733,
          0.010372921155017378,
          -0.2560638392742893,
          0.8510250955396057,
          0.08552595356838118,
          -0.7957645016832132,
          0.13828376343365079,
          -0.03854873310602534,
          -0.01490493403756436,
          0.42451992641695224,
          0.4072544230220962,
          0.12500294092044847,
          0.20687354519826623,
          -0.016647358052513554,
          0.057002284560076326,
          0.006371391656951431,
          -0.28304265958667885,
          -1.1306775352806417,
          -0.7516736815482201,
          0.22951717096051846,
          0.2102118752078033,
          -0.4419298908351424,
          0.1156015817433702,
          0.06277439599272686,
          -0.06371354411438152,
          -0.07540600308147684,
          0.6480851024118257,
          -0.13968903047241205,
          1.490256515711365,
          2.017009845605589,
          -0.41194666147093406,
          1.0881865462259575,
          0.13742274471310642,
          0.06365078448294645,
          -0.07975522473041141,
          -0.2487494597463725,
          0.30885438863214176,
          -0.21916938985480552,
          -0.059899000355686266,
          -0.38669794769955057,
          -0.025700356139461228,
          -0.08847645474721862,
          1.8772634835318553,
          -0.814782947788708,
          -1.635031727146522,
          -1.7386885776976355,
          1.542865070299465,
          -0.9156809360975984,
          0.008283301331007015,
          0.048246242755375326,
          -0.48040939951771355,
          0.3302869914974001,
          -0.23785453814849172,
          -0.32381851542836115,
          0.015163930885286786,
          1.6390830926446316,
          -0.85736416989702,
          -0.3305396973849527,
          -0.04841468582586152,
          0.013418622976966525,
          -0.029078354265679257,
          0.04106254248228672,
          -0.20689878317656332,
          0.7140495163767774,
          -0.125538951520926,
          0.39369523855386995,
          1.532500661670675,
          0.5162671915353706,
          -0.010275785744287997,
          -0.30064608222714445,
          -0.5131603404176571,
          1.4693367771442996,
          0.9416773264843193,
          0.02123018597772041,
          0.1208248301666255,
          0.9282881371424319,
          0.6233636371589072,
          -0.5033853072753949,
          -0.7875042869809504,
          -0.6532923624292981,
          0.022341021395791295,
          0.25756386683922367,
          -0.005815722564063549,
          1.3930390575491174,
          -0.1869208149302036,
          -0.5989902064870312,
          0.16959927171907777,
          0.11785840215585745,
          -0.4757382972393586,
          0.07695062255636695,
          0.6344325024866871,
          -0.07082746138007397,
          0.9257380584935281,
          0.0007469379455201819,
          0.30722091207977537,
          2.1743097506734266,
          -0.616793374644331,
          -0.14706011157033447,
          0.15466636720979035,
          0.040527232680557426,
          -0.7280372477798986,
          -0.059885414869955994,
          -0.1356420072142989,
          -0.09372451658458934,
          -0.004225543927384215,
          -0.3675496777178077,
          0.1741546847466998,
          1.5552071213788954,
          -0.25967138792963496,
          0.5775220135056355,
          2.1533211033683117,
          -0.17470939545461106,
          0.04068677271578066,
          -0.13415670540805055,
          0.08346816826272714,
          0.03204082257178463,
          -0.34109851200290214,
          -0.23792549180581835,
          -0.2710677085105021,
          0.7173427493819305,
          -0.897133878841516,
          1.543684316127049,
          -0.5896689599837599,
          -0.26884985191488603,
          -0.1814202312667576,
          0.7435691384766371,
          -0.013766656074616801,
          0.010202762787887289,
          0.012029342290124992,
          0.15881018812478231,
          -0.12078546491952308,
          -0.00948686377370239,
          0.29751603126143555,
          -0.05233034781518757,
          -0.22516202112198766,
          0.5125641171559447,
          0.40906019518803394,
          0.4897047647906786,
          1.6311550519471678,
          0.055080132012746884,
          -0.29499624776259525,
          0.6838074325283501,
          0.23386804771285116,
          0.15547008358859934,
          0.3269365073136571,
          0.25797451588655196,
          -0.039862949463490525,
          -0.05857605885624383,
          0.024659105960272484,
          -0.25409901371599775,
          0.1158030147115769,
          0.3349205642195058,
          -0.06382455328523673,
          0.6769554126778184,
          0.3501234221050506,
          0.5054921730544382,
          -0.025180921765507246,
          0.06424375425273415,
          -0.11222717983864701,
          -0.015402442687617921,
          0.1658132010878676,
          -0.2563622444006861,
          -0.007779353212203396,
          -0.27088618277539334,
          0.2911077450081571,
          0.1320131083365775,
          -0.056839153058766696,
          0.32320488813750153,
          -0.4891283542058816,
          -0.2884363008318639,
          1.7624358288396058,
          0.276491756941573,
          0.20104037182013237,
          0.02340752972982219,
          0.2602329357614098,
          0.6111052146872067,
          -0.2939937897942703,
          0.01871425069798721,
          0.05449064493614227,
          0.06780759986611767,
          0.45545132855075593,
          0.49791432911356476,
          -0.03688659104441257,
          0.5752789247294743,
          0.39413913630075975,
          1.1896823195191117,
          0.3936315836133615,
          -1.6685340587064377,
          0.3701872618377235,
          0.0975792954446715,
          -0.24643837766659565,
          -0.19586743966255352,
          0.324004531133222,
          0.1450793389704153,
          -0.30605619519244914,
          -0.512181356888534,
          -1.5624252015467281,
          -0.5595788537795958,
          -0.008813150809614166,
          0.2274571872312092,
          2.0797591747647797,
          -0.03663945944594144,
          -0.4675365484695997,
          0.015197221278754463,
          0.5461300078526069,
          0.45851061885155053,
          0.0739897603340464,
          -0.12892500223974968,
          0.027341327869804453,
          1.503248505641455,
          0.13739274406226482,
          -0.2715503934702742,
          0.010825270379841802,
          0.8637991165366072,
          0.11558630703913712,
          -0.12090396629930078,
          -0.4826989163925259,
          -0.0003347742124808889,
          0.29053074684742264,
          -0.9161641627130958,
          -0.03997373109015972,
          -0.2002364457086359,
          -0.3479319027974723,
          0.4263965890574528,
          1.176686470881893,
          -0.34758917398970324,
          0.6447877170419425,
          -0.250466194512976,
          0.007029884596668994,
          -0.720249253125226,
          -0.2255508098354138,
          -0.05269882528951403,
          0.007640754377945885,
          0.010425720895566704,
          0.3758143004847046,
          -0.030853070837245093,
          0.15290585764981593,
          -0.05909152194189247,
          0.09869158165642511,
          -0.07276562777390909,
          -0.14714372673730383,
          -0.0979946447145904,
          2.0132298882215323,
          0.2781567890893898,
          0.04401782342961563,
          0.05343894543216406,
          0.7435291032308257,
          -0.23432021884194448,
          -0.2647756900572552,
          0.22217847524671902,
          0.4419156949625127,
          0.1116428756091482,
          0.6910483285248703,
          0.08188189801379475,
          -0.18008002810653134,
          -0.01429631296017173,
          0.2615672064545406,
          -1.0293883458074975,
          -0.4915326146215032,
          -0.01689885162398509,
          0.024119064111830315,
          0.4377330414207261,
          0.36356659764315746,
          0.3401269635842175,
          0.4166561342696905,
          0.8626578291687901,
          -0.6204074790950752,
          0.08300086330456591,
          -0.014097180819895784,
          0.358919372335064,
          -0.04463587249744234,
          0.6675869821977534,
          0.2797999513966038,
          1.1314784184790068,
          0.6543973958162423,
          -0.047750334469060705,
          0.11303392801390713,
          -0.3463683558817402,
          -0.35115785764544094,
          0.10536226533743492,
          -0.25332525871945283,
          0.16128232266769382,
          2.162425675209349,
          -0.49783426880915477,
          0.03164557995236905,
          0.6053226785058125,
          -0.06220991788280737,
          0.18935316870489421,
          0.01394093951425917,
          0.31684097172724157,
          -0.6474675905099316,
          -0.22580934853906226,
          0.5131567725886611,
          -0.18246117751407323,
          0.35934999375396154,
          1.8331990633920936,
          0.04689739478494432,
          0.004797067754631247,
          -0.054943836074385966,
          -0.1704292689866008,
          -0.5468265179965016,
          -0.470695905266571,
          0.9929278702002717,
          0.14119735589301255,
          -0.10815444930905896,
          -0.08791171826101712,
          0.4754136827393429,
          -0.05769464625927951,
          -0.8239969030273648,
          1.6393195527818285,
          -0.927175334303273,
          -0.05963788413451587,
          -0.19078400353644961,
          0.2653503556314533,
          -0.031726865284934104,
          -0.6708017475142316,
          0.7296213573327739,
          1.6485533214041133,
          -0.09981627689845021,
          0.0036453031642520147,
          3.3135968990379805,
          -0.11416816305120173,
          -0.33171126548601765,
          0.013261091605411095,
          0.0894498761149288,
          0.5926398473778439,
          -1.0930980988737982,
          -0.26920823349387923,
          0.7385725518125084,
          -0.1501382786550041,
          0.015430967381238133,
          -0.04239879929048561,
          -0.29593550429410825,
          -0.1483642833115982,
          -0.3003978527591096,
          -0.6020806457373319,
          -0.9156921404149028,
          0.33342503174122945,
          -0.13515077148619728,
          0.041113746122777996,
          0.792516360023859,
          -0.009881469429035597,
          -0.011559399179229662,
          0.005319073639318267,
          0.6635119969546501,
          0.2746692325211787,
          1.249453086224606,
          0.6174591947440948,
          -0.012328957636483971,
          -0.5384444665597531,
          -1.0593916425933199,
          -0.1714579802724662,
          -0.24980031373729567,
          -0.15978755658937127,
          -0.027709607279425286,
          0.0349919378786986,
          -0.1067809542134474,
          -0.173917411253408,
          -0.04432426703530034,
          -0.06110055259349338,
          -0.02202909433958061,
          -0.4875100240689337,
          -0.2169564962500759,
          -0.348845942096735,
          0.0202162836919754,
          0.803191974813969,
          0.2109805763256099,
          -0.5055554119418817,
          -0.11682207180885625,
          -0.03954361268519966,
          -0.18906145544060304,
          0.1466144761513231,
          -0.052638301347179665,
          -0.2681285029354239,
          0.3049451788442242,
          -0.30431962129668677,
          -0.015371820968327374,
          -0.5200027513085436,
          0.01147905893260591,
          0.37696740339278373,
          -0.12037499856049998,
          -0.014324911893490819,
          -0.50986967459462,
          0.9249972854630314,
          0.07628275410224336,
          0.12389761474545122,
          0.2015373839560378,
          -0.37911711995805103,
          0.39145980648739437,
          -0.28109163736313186,
          -0.6259283819054346,
          0.47265042823830633,
          0.5149842202078607,
          0.38028765247265767,
          -0.16837311818787187,
          -0.023554677315951986,
          -0.6745436497379492,
          0.20422320363891625,
          -0.13515077148619728,
          2.115699110952316,
          -0.3422634945760064,
          -0.5131293256576838,
          0.07060406744784858,
          -0.21965965234576748,
          -0.15636693456953987,
          -0.0077793532122033965,
          -0.04447728885789858,
          0.46045618274485695,
          0.01099820430752665,
          0.15773113955913096,
          -0.92352356520699,
          -0.27919378683378393,
          0.3294553616897084,
          -0.8270668810441798,
          -0.0032482364952178214,
          -0.011712234771776991,
          0.8044353059144023,
          0.02259604127411795,
          0.0650375046714212,
          -0.09646935200628615,
          0.13449778632715537,
          0.6316130807890453,
          -0.2692165648574142,
          0.58450759596376,
          -0.11986792185872967,
          -0.6935384745161726,
          0.4773425630009311,
          -0.1639659944462482,
          -0.8080553421899285,
          0.1428725896161923,
          -0.16146845275356853,
          0.6403826656944859,
          0.7158863131923285,
          0.9054447956643973,
          1.2684681690913455,
          0.03837421715732755,
          -0.041998549848437323,
          0.5680920611872645,
          -0.6928923966431781,
          -0.14115576230184176,
          -0.6124258842632065,
          0.9494505329352294,
          -0.5381649882270338,
          0.48444073538955945,
          0.2488297710071931,
          0.15739197335415128,
          0.3372441429605265,
          -0.011126604314634695,
          0.7327717637634711,
          0.00401508189970795,
          -0.01898710121696612,
          -0.14500876057208348,
          -0.24188807586566022,
          -0.11582260342028629,
          -0.29028917566974755,
          -0.14054481215812353,
          0.05588833987181762,
          -0.1665690402687769,
          0.2194887389573953,
          -0.5780554855077714,
          0.11324480256791318,
          -0.02619520862307329,
          -1.0550350732783018,
          -0.31628630264857066,
          -0.2381972030158578,
          0.6835301509075986,
          0.1954431787001387,
          -0.4777387202360401,
          0.019195365340599464,
          0.7325295627728065,
          -0.2391405120255034,
          -0.04265426381633282,
          -0.33120557288355723,
          0.6402548639960159,
          0.0794322274784486,
          -0.22821544327285256,
          0.34078636869523105,
          0.023353651670861026,
          -0.5346474988667794,
          0.5637591485180915,
          -0.2672819786266647,
          1.9146971110158535,
          -0.7627743701709718,
          -0.1862104011901053,
          -0.3486113126194737,
          0.11617983504215677,
          0.5953507348820687,
          -0.12878399120951142,
          -0.2052925197104802,
          0.14048237125603336,
          0.1354145118050724,
          -0.07111804619014275,
          -0.0781613477062604,
          0.4091053698291295,
          -0.8366617610104017,
          0.09737263671409965,
          1.485498515034903,
          -0.3016333797691741,
          0.34685265643453483,
          -0.6300764309826877,
          -0.5368898201948283,
          -0.711759622327539,
          -0.024610435735972002,
          -0.027587350575916346,
          0.023713991387349333,
          0.24971001162858544,
          -0.09541582931797107,
          -0.12057762083302595,
          -0.3221156846214562,
          0.4216947854645833,
          -0.029353572133149347,
          -0.3902428767412066,
          -0.019734276954571986,
          0.6601686505666123,
          0.017564312388677086,
          -0.22569142540436865,
          0.06646512160359055,
          0.050190354582950236,
          0.06386689796799136,
          -0.8800060141907421,
          0.03924322549679851,
          0.3512321110013078,
          0.08199819165992392,
          1.617294263595837,
          0.014955569827600997,
          0.0516181875028794,
          -0.04354444564176628,
          0.30606343177449313,
          0.7369080845980985,
          -0.10936990577343898,
          -0.3564298988943977,
          -0.859449525822632,
          0.013328037404676904,
          -1.086511907974754,
          0.048486858377267184,
          0.011002421991948782,
          0.6259226327291433,
          -0.0609839697007367,
          -0.38619728116469243,
          -0.04582876236788482,
          -0.6751462866401626,
          0.9815896899099399,
          -0.02121436431409797,
          -0.41561661222450863,
          -0.26087821224587127,
          -0.11010495340616211,
          0.02009548424969991,
          -0.22866415628114006,
          0.31256676986276355,
          -0.6879285535916045,
          -0.3799432970510534,
          -0.9984116086703403,
          0.1666986465544431,
          -0.08305921509011605,
          -0.01439306524268982,
          0.47526119334540234,
          1.5704833971703427,
          -0.13361845699795283,
          -0.06477759201060788,
          -0.5628050509639142,
          -0.31389544890456506,
          0.10812201384873323,
          -0.033615974779742944,
          -0.43894368694088576,
          0.44902130424045095,
          -0.30172517424503936,
          0.18618658478776265,
          0.011980313399401102,
          0.012729547245091328,
          -0.12911993913352873,
          -0.05965322309141732,
          -0.3710419758280983,
          -0.18767171662906765,
          -0.7861528921127395,
          0.24534028766446572,
          0.004015081899707949,
          0.362867816687713,
          -0.08051689914808817,
          0.30146932032135176,
          0.04294201603971001,
          0.02957486698591622,
          -0.5158557152824232,
          -0.38805916224777354,
          0.4486897935017307,
          -0.4078826128693501,
          0.02597588706449236,
          0.011498310917487925,
          0.720386070161655,
          0.10927770642136606,
          -0.0677880162922821,
          -0.12406204449183597,
          0.010180086718367154,
          -0.24489606823889673,
          -0.011491277884040491,
          0.1697105201813248,
          0.13602679738854298,
          -0.7247077966854117,
          0.16478863007612068,
          0.030696426962206317,
          -0.2076421590995164,
          0.662272299916056,
          0.2077833937934992,
          0.06136556918869106,
          -0.14702405118282474,
          -0.28304265958667885,
          -0.30860448752992803,
          0.287614768563726,
          0.49962813663388866,
          1.9047692971984582,
          2.239777277554677,
          -0.4153466253251238,
          -0.1194621925353049,
          -0.12135948519947654,
          2.1055032672677165,
          0.03820680738039857,
          0.08172355216955632,
          0.1362313794110723,
          0.0004820601514817943,
          0.029815913480850033,
          0.20663019940256913,
          0.042088728361915885,
          0.3574577915876867,
          0.0166570110910873,
          -0.29962244811907773,
          -0.7316426542920568,
          -0.2942527746778436,
          -0.6588855778171863,
          0.25914426047357697,
          1.3947130090589106,
          -0.21102213385486152,
          -0.07533075560033911,
          0.2855993937557575,
          0.4869663248231413,
          -0.23457620646964086,
          -0.03072244327231813,
          0.5001467970218145,
          0.06959500066332161,
          0.2271367116340709,
          -0.6947597113206931,
          0.44260622115159176,
          0.38329619491331823,
          -0.24489606823889673,
          -0.07269831616637443,
          -1.5605392983856683,
          -0.0597402527686812,
          -0.07490257059064769,
          0.16372203325257345,
          0.3653690159211283,
          -0.4771315732956355,
          -0.010430714555029214,
          -0.23189785502766963,
          -0.14184118867970072,
          -0.4230726547625289,
          -0.016305978244251427,
          -0.7219767323135038,
          -0.15510445964171463,
          -0.05456343434145686,
          0.18699048620855982,
          -7.916996676065258,
          0.5011617633424954,
          -0.7149437462087308,
          -0.16091149014531816,
          -0.6168667108035932,
          1.3750096460066579,
          0.01612440767446827,
          -0.26920823349387923,
          -0.3951499039788967,
          0.6294605145788988,
          -0.7043595544416096,
          0.785384579035132,
          -0.5566327124184843,
          0.06923859832309315,
          -0.38909435885016047,
          0.10959020275081678,
          0.7705915740840374,
          0.0019247904649983814,
          -0.04795735609764589,
          0.03828801947304385,
          -0.01860399185470181,
          0.36784585009054593,
          0.06584505731236795,
          -0.12177192382562005,
          0.15802084168751254,
          -0.018053137336135467,
          0.16503977707084833,
          -0.33525254535295707,
          0.13887747863305344,
          0.29528152515168676,
          -0.41812302606799945,
          -0.13402365350579634,
          -0.07864366361748877,
          -0.2180852175532277,
          0.03351406241563848,
          0.7002410762672835,
          0.2179029864697681,
          -0.14218468585399482,
          0.09487234756863706,
          -0.8310237712200307,
          -0.18561999722020164,
          -0.318127970135301,
          -0.013462659457415775,
          -0.3285623041939213,
          -0.054286861703724563,
          0.8727497942824151,
          0.06672656731210205,
          -0.3143517880808691,
          -0.07107038666354881,
          -0.12034138163555574,
          -0.1130539285497308,
          -0.03017717093253786,
          -0.01528955710712605,
          -0.7796009808604939,
          0.2733537381780471,
          0.8364120029988198,
          0.3159242717292662,
          -0.38036236822795433,
          -0.13924196675611375,
          0.04542366046810373,
          -0.45304365903337435,
          -0.1903439636973111,
          -0.035863536722306896,
          -0.2919392262423326,
          -0.12854577426492217,
          0.04456823966643669,
          0.4627155930094399,
          0.0714732795818652,
          0.6731255259233688,
          -0.05269882528951403,
          -0.33524599691270995,
          -0.31226410985017194,
          0.02551490185391026,
          1.8122333241858335,
          -0.4851641647699133,
          -0.50986967459462,
          0.6611591373434381,
          -0.8042710844410544,
          -0.07626484058898601,
          0.18644978738914464,
          -3.632720400820672,
          0.1081306526368843,
          0.7195563053468338,
          -0.657352983410306,
          0.3301778064665938,
          -0.08334118000708278,
          -0.21030284725500573,
          2.2612651641569657,
          0.02290791538423183,
          -0.7899457989444485,
          0.05347196661259146,
          -0.14342433950496583,
          0.7603465628492282,
          -0.0791054701350282,
          -0.005370213471984842,
          -0.016961417122746295,
          -0.08193495635768899,
          -0.16829047850095286,
          0.43710580157505696,
          0.5869406575282818,
          0.18100208231360052,
          -0.22783342251016112,
          -0.1963135302897425,
          -0.7671568333495444,
          0.09505375646325596,
          -0.07326027577338433,
          -0.15217826117334868,
          0.07080045083505505,
          0.44665358045557046,
          0.5952286243690736,
          0.5505824969414405,
          0.1886147625118501,
          -0.2587320921746429,
          -0.26774619179734743,
          0.07045962585786819,
          -0.0951433908123547,
          -0.10622155643964838,
          0.0058373620274307855,
          -0.05118762163138003,
          -0.053504590025798965,
          0.014806124075023401,
          -1.8934160539959086,
          -0.0016545588792528287,
          -0.008906703927591868,
          0.05164753016417558,
          -2.153670092766459,
          0.08406039852709245,
          -0.24708941817679025,
          0.05777283009978905,
          -0.02703002660496975,
          -0.0501538078931018,
          0.5573710411711146,
          -0.14844625819031426,
          -0.27174696164707607,
          0.1448883565140996,
          -0.03439050544312643,
          -0.026684802407446112,
          -0.2508849158415006,
          -0.6125617787865071,
          -0.18150895859313973,
          1.6269131139774027,
          0.12500294092044847,
          0.526630992127065,
          -0.042192721173809705,
          -0.09179673663816086,
          -0.010950927334460068,
          0.6062834025063509,
          -0.2784672900428527,
          0.005074463384762042,
          0.5181853800816231,
          0.07517198433815207,
          0.025917706043884315,
          -0.61974016676714,
          -0.004069399546797205,
          -0.01687254978260944,
          0.7487749816084388,
          -0.5349627359579556,
          0.20490276467765228,
          -0.23792549180581835,
          0.7309103887829118,
          -0.5606948577488151,
          -0.05193111603138896,
          -0.0753650778812003,
          -0.7546706464101084,
          -0.04439532060720853,
          -0.28917551551248133,
          -0.058205629451921426,
          -0.04414357980168232,
          0.7814087861439274,
          0.4929755305314237,
          0.42522720751829746,
          -0.05138666657818484,
          0.5369159389058821,
          -0.5362560594304496,
          0.19505870040555298,
          0.3069489226256459,
          -0.3846268614320754,
          -0.38891834365982086,
          -0.2127394202151364,
          0.1257785501071903,
          0.13884164154883177,
          -0.021625214737854243,
          -0.230725078322231,
          -0.32994448459647624,
          -0.05475426960366775,
          -0.36970196004690986,
          -0.24483271324973965,
          -0.4168618435744874,
          0.10608148448646981,
          -0.6617663576187071,
          0.08573944054521776,
          -0.5376502524658456,
          -0.38637599389190574,
          -0.1427437507690996,
          0.15643176871279255,
          -0.041434647530895596,
          -0.26957418694678825,
          -0.010760934498580428,
          -0.38155662269031815,
          0.5724956341975757,
          -0.13090725443213772,
          0.06217142751648116,
          -0.7226762884378523,
          -0.29398742490637925,
          -0.15645009925979528,
          -0.028334121037935523,
          -0.11518660261802498,
          0.7522404238735164,
          -0.24470670828685054,
          -0.06080469252048284,
          -0.01889285425872139,
          -0.14009671978816082,
          -0.3728482084135647,
          -0.07885972879809192,
          0.05472902051914931,
          0.22494113724628692,
          -0.0976825266130124,
          -0.05764577316973427,
          -0.013426920800816568,
          -0.3481837080469819,
          0.18640812789758454,
          0.5954538508487075,
          -0.045667611591015365,
          -0.058163464554460094,
          -0.05781683496816291,
          -0.2894519224086141,
          -0.19445463911146738,
          0.4402159888822348,
          -0.03950359409620122,
          0.7657936822322315,
          -0.020923337050641623,
          -0.018347015850906916,
          0.06489116956565727,
          -0.0876717831131922,
          -0.2439183143827604,
          -0.02701548381083262,
          -0.22580934853906226,
          -0.4420310321993909,
          -0.25901375257573295,
          -0.029194134399053155,
          -0.05914596565373627,
          -0.5952964705528134,
          -0.01429631296017173,
          0.28758325116618644,
          -1.6026765828672465,
          -0.28403155687578163,
          -0.5944836457252896,
          -0.05633284346070304,
          -0.015579874426554088,
          -0.25386503164084584,
          0.3778015571070098,
          0.2746692325211787,
          -0.8289746110225837,
          0.15933292805553914,
          2.208574013521468,
          -0.4485407710892843,
          -0.40665032319243927,
          0.045599615718178575,
          -0.2371132263164406,
          -0.007971847838178935,
          -0.1543510319962566,
          -0.20332528617255416,
          0.019612335249653678,
          0.14066250281563705,
          -0.15245720187194028,
          0.1362479397743423,
          0.09832612707763445,
          0.2079359857238636,
          0.38637674739782674,
          -0.3381835280657521,
          0.01880683431335711,
          -0.11039937395495747,
          0.6106758841862981,
          0.04259685477765718,
          0.023468756858184447,
          0.03114552682213572,
          0.0028894144673535485,
          -0.7821308309030501,
          0.14390571591882054,
          0.33612980095697614,
          -0.0714424681313102,
          -0.30482816850589983,
          0.036356834780864655,
          -0.07795459747436245,
          -1.6387998583727792,
          0.08892357906069016,
          0.16701434895772915,
          -0.14706422136555836,
          1.8908804247555855,
          -0.27699405169650493,
          -0.7263684332863094,
          -0.2881614797449653,
          0.14166309442217076,
          0.07169091054901663,
          -0.10036267706496996,
          -0.5164594618206182,
          0.3977110007382626,
          -0.045087198585480125,
          -0.2558375298277444,
          -0.5092432358194665,
          0.1578006422222275,
          -0.34598545077738124,
          0.2531038611284182,
          0.8485036892158099,
          0.23520092716840826,
          -0.5241064199208466,
          0.03347270619315648,
          0.09533589084892186,
          0.13735559104893755,
          -0.390259933456938,
          0.1525376699167346,
          -0.5318223608667477,
          0.07151567092026641,
          0.021853278649824913,
          -0.16597154805714853,
          0.009925778403129143,
          -0.27219857640076656,
          -0.15510445964171463,
          0.122707591428407,
          0.2648401468176666,
          -0.11716480646771961,
          2.107008485975789,
          -0.13665694885238408,
          -0.2648963143245831,
          0.09338217393095227,
          -0.3186659646892805,
          -0.0391078158101681,
          -0.20325733286304273,
          0.45114135754574536,
          0.09629595025045225,
          0.35145152197994756,
          0.10284195530894583,
          0.0883639983229182,
          0.21669462104998208,
          0.035627835067518425,
          0.19460410863425218,
          0.06266292691087517,
          -0.2336264286460687,
          0.1499813245436843,
          -0.11049716526214759,
          0.042744159034942816,
          -0.11286164885713147,
          -0.04897820388468337,
          -0.24918662710984824,
          0.06028823252714948,
          -0.07477960145609916,
          0.13435275038868918,
          -0.11455188010929832,
          0.7291219577410212,
          -0.679919117392532,
          0.14105716658053402,
          0.06351110019454155,
          -0.31672484719477695,
          0.4942816100492447,
          0.22125944443161025,
          0.033462141854722544,
          -1.1277842748829476,
          0.593833709766283,
          -1.0473722541741766,
          -0.14844625819031426,
          0.3126082902844777,
          -0.21984506260127987,
          0.024383523917211058,
          0.033884910399136936,
          -0.13645420739184694,
          0.023825779020469937,
          -0.03950359409620122,
          0.10127212906788227,
          0.017733171624812,
          0.6782538098397657,
          -0.40794662733884374,
          2.913107914846802,
          -0.10854623484855055,
          -0.02043077528146524,
          -0.17496186716262027,
          0.24657730855881824,
          0.01719472954497745,
          0.0714732795818652,
          -0.013093608955940127,
          1.716480207289569,
          0.4896829935724055,
          0.2820988193845453,
          -0.03931853148829289,
          0.22477679640727485,
          2.153301450684948,
          -0.014340839101419424,
          0.025620710003524436,
          -0.25682904779668575,
          2.1523716290030634,
          0.887961589737236,
          -0.35001528727089504,
          0.1784226322286197,
          -0.20362610659805466,
          0.08132638418856471,
          0.10654098332861607,
          -0.03341370251611795,
          0.20078765543651664,
          -0.13497807338208254,
          -0.18712921670363922,
          0.09946835630209246,
          0.0012322900825468665,
          0.22953149416587973,
          -0.24731879880609417,
          0.05268356903916472,
          -0.7458673230351993,
          0.08340402793707187,
          -0.012113674539500845,
          -0.0333153212023286,
          -0.1086659036015272,
          0.06297074297558924,
          -0.3563672764986062,
          0.08864444879208333,
          0.4932139267255562,
          -0.07921337495161804,
          0.12179797640721206,
          -0.5100732995340013,
          0.04136627143578649,
          0.3505889569208815,
          -0.08608609568979035,
          0.01783331551878672,
          0.07661930500860985,
          -0.014997048111449807,
          -0.3024514154928761,
          0.08216216137818926,
          0.14372930671839917,
          -0.014858271147701952,
          -0.2897314748338104,
          -0.32662022996545154,
          0.06931404000650501,
          -0.05383331818560917,
          -0.1349000945050945,
          0.18982184704730481,
          -0.036950153449535394,
          -0.04864937822127617,
          -0.22379872319714,
          -0.05840551737061153,
          -0.03494352088316401,
          0.0635869811194504,
          -0.04397588430366645,
          0.2500263341499975,
          0.012033574553468138,
          0.17458864962548223,
          -0.2556488313898596,
          -0.1550474752980951,
          -0.02286311955161882,
          0.4277666586353116,
          0.09954762796753565,
          -0.6681556941789379,
          -0.009847335893285205,
          0.34843025269986905,
          -0.11771020198491913,
          0.1615915866826126,
          -0.13249244080736985,
          -0.6019447798895021,
          0.09600110489052531,
          0.13262998365938647,
          -0.03916470591697895,
          -0.1608796405461428,
          0.26553462697069724,
          -0.23360017918516915,
          0.10028526433066641,
          -0.04692004187971564,
          0.807730344840048,
          -0.14063291873968392,
          0.024127599138719726,
          -0.0996058412353344,
          0.4990836814713786,
          0.17909963152477684,
          -0.5450086215390662,
          0.2462013689298818,
          -0.029976301345675773,
          -0.1216245398359858,
          0.04973515387390501,
          0.3191984703473796,
          -0.3255278820995678,
          0.47750771333284064,
          -0.12752485473382072,
          -0.5397867473182761,
          0.39163714320016346,
          -1.0124165920888646,
          -1.7380885796822334,
          -0.06258394630769043,
          -0.3089564594623145,
          -0.05708410373650083,
          -0.05658855970585017,
          0.05250843568182399,
          0.1035860256937212,
          -0.06484143918120579,
          -0.32998399548005414,
          -0.00736713541804419,
          -0.9307106043866931,
          -0.6293398847560319,
          -0.06999813678299328,
          -0.38159518353315447,
          -0.008324930815575225,
          1.6644214820365935,
          -0.892138314720337,
          -0.4718540526686112,
          0.019839941594398697,
          0.07424914938933251,
          0.059452262299172796,
          0.1320606876718666,
          0.7654154325552738,
          0.1292004215140142,
          -0.3214787541288956,
          -0.3766486156987602,
          -0.039497732306870655,
          0.11623427060952461,
          -0.01272619341245404,
          1.029442232014499,
          -0.04583397709142331,
          -0.2462738421495283,
          0.21940920861415383,
          -0.3271050304485176,
          0.7267592401890979,
          0.0028143251813599183,
          -0.28682749624353987,
          0.36044599160661217,
          -0.09663396069994121,
          1.8705138701110164,
          0.46047597490888076,
          -0.04482785934894133,
          0.11127874776871254,
          -0.08746390250435129,
          -0.20358422817123728,
          0.22036207974619415,
          0.37793984563938465,
          -0.19251620428416902,
          0.8683960071483435,
          0.01754551229696042,
          0.052683151228748726,
          0.2109730344718526,
          -0.5459509182585218,
          2.1207228667632463,
          -0.29973436610227566,
          1.5682500976258174,
          -0.07923608169528024,
          -0.08175978792743716,
          0.35968024234375157,
          -0.14768065768340133,
          0.058654376559310106,
          0.01645708806762868,
          -0.08553563825067295,
          0.06488219522121985,
          0.12439606148299061,
          -0.17263842871354024,
          0.6505661982428773,
          0.10386229184759233,
          -0.336415659952716,
          0.08102655219319539,
          -0.32839642763159227,
          0.3841068545134039,
          0.20188291713639314,
          -0.8397168441085793,
          0.016126404954838726,
          -0.12971111399105406,
          0.3121842703762936,
          -0.638565795710167,
          0.2893829062927725,
          -0.22710174640719638,
          -0.010518118416395729,
          -0.05369755980362437,
          -0.24763563368075925,
          0.004297582453090712,
          -0.0956863743529943,
          0.07872870878980813,
          -0.30574637519801473,
          -0.8485173309779581,
          -0.017268374653273837,
          -0.013897537385070241,
          1.9583467896763296,
          0.30065533622965834,
          0.5187150989244237,
          0.06923859832309315,
          0.2644987136120775,
          -0.708335211399553,
          -0.4401940563105847,
          -0.2728475699750296,
          -0.32662022996545154,
          -0.0019142936023592997,
          -0.05996679633439211,
          0.8408808742243543,
          0.007370353999682069,
          -0.3531621797656556,
          0.3278773540120734,
          0.18455316996110596,
          0.17695774209385903,
          -0.009679659440891886,
          0.07312257126693326,
          0.037735843858940396,
          0.2624413498628992,
          -0.0555389180287109,
          0.06901339179640645,
          -0.10080823735745346,
          -0.2485655731503979,
          0.10585679787983913,
          0.009794597333002088,
          0.08976675616390035,
          0.14134884968817804,
          0.1119794287494408,
          0.0018251438615474102,
          -0.005039610378391513,
          -0.14116844906388698,
          0.11195343867997554,
          -1.006806512306097,
          1.7794326872539474,
          -0.3995863084795215,
          -0.24348263262125072,
          0.018745536396522718,
          0.12984849765819567,
          -0.50986967459462,
          -0.20781377569724147,
          -0.3442271154764444,
          -0.8431438757905633,
          0.152429062125542,
          -0.17146995093351616,
          -0.17137378932153888,
          -0.49666792667590653,
          -0.09423599467413844,
          -0.08010566677243852,
          0.3196996847248505,
          -0.08442333184824347,
          -0.12562770006645893,
          0.274664698035855,
          0.5579677666329358,
          -0.44954720734539205,
          -0.17888742457810286,
          -0.17929811893849973,
          -0.5467589903873303,
          -0.22630934671461508,
          0.37225435954093306,
          -0.01898710121696612,
          -0.09097215802241672,
          -0.04031646439182977,
          -1.002983681804182,
          0.11889886909873176,
          -0.18165643451457422,
          -0.05903663587430268,
          -0.0575853523486516,
          -0.5535625597940936,
          -0.8233568665626304,
          0.10417897109365677,
          0.12418646730965122,
          -0.36759765913699866,
          0.0017077848035337386,
          0.22913926058493655,
          0.16240433474576177,
          0.2201690798182719,
          0.10280996501465713,
          -0.04920418653503011,
          -0.08719461575566054,
          -0.08038878794131735,
          0.33342503174122945,
          0.2144283426256116,
          0.11617751164942154,
          -0.0846768293328952,
          -0.6471305539259363,
          0.07200927241659011,
          0.09624158035805883,
          -0.054488171031300804,
          0.09850527848708493,
          0.06280874634875638,
          -0.2381972030158578,
          0.11395379266496791,
          -0.7210410967096373,
          0.0346124808982232,
          0.5062255660447091,
          0.13651028894338535,
          -0.647562121628168,
          -0.046561005573528935,
          -0.04186665608181506,
          0.16370980908518418,
          -0.01301416256764964,
          -0.2057142289106755,
          0.06471281471924113,
          0.3645987800710239,
          -0.2570530685332539,
          0.04983835640386939,
          -0.19362899132863395,
          0.09521665638046528,
          -0.047997921013013034,
          -0.2559356074800552,
          0.02493761242437252,
          -0.013604872847128201,
          -0.17418677370404356,
          0.4082913215725274,
          -0.11321991478899092,
          -0.3846328779019567,
          0.028137840248540175,
          -0.398363805374682,
          -0.02043077528146524,
          0.05720238275946893,
          -0.08034702868929468,
          0.06607399373734238,
          -0.3995522141742361,
          -0.1783483850638196,
          0.10127544211009795,
          -0.2282613525279927,
          0.42006884714940607,
          0.025063089482973245,
          -0.23189785502766963,
          -0.045606819706831954,
          -0.12211552016875918,
          -0.5534139697029996,
          -0.11127283711823763,
          -0.13177245456425307,
          0.05034454008813794,
          -0.06744629370556778,
          0.03774997689349905,
          0.0007195885632109649,
          0.009570016052222274,
          0.032142083548130994,
          0.0068884107638590274,
          -1.156987964706625,
          0.09612473494081444,
          -0.030428903247006228,
          -0.2175780643538411,
          0.07169091054901663,
          -0.3586352159540358,
          -0.5592777862398395,
          -0.3515823476976207,
          -0.041899066177329115,
          0.10888386022983737,
          -0.6736907446348008,
          0.08324527150133337,
          -0.1485566852271024,
          0.763187972368584,
          0.22530647287404673,
          -0.02849370383282736,
          0.04854107891576283,
          -0.19994736219182813,
          0.411552106226809,
          0.2386600970462656,
          0.10067464618544032,
          -0.30231864128954916,
          0.22618953612696663,
          0.01685246277806771,
          -0.05596674455135307,
          -0.41792075422549513,
          -0.11515590770224655,
          0.4460769098543262,
          -0.21344872136761667,
          -0.17360389391607586,
          0.25658028550283407,
          0.08828208737101939,
          -0.2152759947675013,
          0.2755088677095405,
          0.12274223279794905,
          0.14371050528714824,
          -0.04644508660252632,
          0.9100760663580756,
          0.31767524909422656,
          -0.12473088936227814,
          -0.2071768935912197,
          -0.0007762242666731408,
          0.8100544615252508,
          -0.36298308471634777,
          -0.11063244881697505,
          0.12993199039167025,
          -0.010827822446986974,
          -0.15025470659268533,
          0.3684123445655471,
          0.18516444543572613,
          -0.028202413640493567,
          -0.040616958099171215,
          -0.32958462677602873,
          -0.1511822017782302,
          -0.4238938433268909,
          0.2510442510403727,
          -0.21682967983239412,
          0.16518328477464003,
          -0.18409387745042688,
          -0.12881239890494955,
          0.38829067591039945,
          -0.06819593200147835,
          -0.02423398937061757,
          -0.12001258549657767,
          0.074317337747035,
          -0.46053253761860596,
          -0.002217478200450602,
          -0.19095742938195537,
          -0.18111610782149806,
          -0.26394506281242713,
          0.21979029719794096,
          0.04637666225507023,
          0.12736879154467518,
          -0.6226784855580823,
          0.0705460572319492,
          -0.033170249456451924,
          -0.09501846891487584,
          -0.2486523759605163,
          -1.0501775138560552,
          -0.28851825088774335,
          -0.2071768935912197,
          -0.3950504967916584,
          -0.4144635709301542,
          0.058646714869011164,
          -0.11539540765915197,
          -0.6008750752618365,
          0.011100299907587909,
          0.12095908484061825,
          -0.07398216323445292,
          -0.2823968530590441,
          -0.20015962404594884,
          0.08724908496606734,
          -0.523833874108037,
          -0.2790896602403918,
          0.16210660557075318,
          0.1513740543846064,
          0.047253147793918385,
          -0.0471095829377399,
          0.04422966525809441,
          -0.5308747922301369,
          0.06377469372646546,
          -0.1437385255630922,
          0.03217618951975016,
          -0.11475285300507762,
          -0.6820817369126742,
          0.11421267386936569,
          -0.029698172706301647,
          0.021053748176842475,
          0.4828034715679146,
          0.21234814787354303,
          -0.9653659588137631,
          -0.18550653143929416,
          1.5087775288628102,
          0.06155222332579173,
          -0.05783746565504177,
          -0.003908370960307198,
          -0.055446232786550045,
          -0.4790849133950208,
          -0.5329849475973498,
          -0.03251372909017874,
          0.6530796817650845,
          0.29806312780247457,
          -0.05811794802172367,
          -0.5693784176431136,
          0.38614754423687336,
          -0.30855719983121366,
          0.019053223215974892,
          0.09486764775815215,
          -0.05136505282078387,
          0.05577894186073121,
          0.06622446196988051,
          0.2803940347662516,
          1.8710781449777723,
          -0.07965893693169263,
          -0.0025294156190981106,
          -0.8091285848518163,
          -0.0857042054496883,
          -0.21272091640598217,
          0.14295455238211394,
          -0.002089899094482937,
          0.1067415743369775,
          0.006536631442365401,
          0.0008221642454715589,
          0.03406266148851803,
          -0.020344672277436252,
          0.03461928854953945,
          0.03043218085173613,
          -0.22134625486071613,
          -0.003959176448007209,
          0.12310366015051057,
          -0.02496582068757486,
          0.27137388058004364,
          0.08179467014308267,
          0.1509544093568654,
          -0.06021422197880302,
          0.044508887427888846,
          -0.29152966581750833,
          0.1726367294370622,
          0.08194462389675786,
          0.057360724720620655,
          -0.08509800170003973,
          0.014649234615977773,
          -0.35504604831012065,
          0.07746879822364136,
          -0.3450191768732372,
          0.1177773220026958,
          -0.0013949589947708384,
          -0.2429156338277497,
          0.035989487504466296,
          0.09703100163346493,
          -0.14621293228294496,
          -0.18068527298993556,
          0.20825823361555212,
          -0.03810371121616086,
          -0.1003062581036015,
          -0.06705501707001708,
          -0.17976880803116568,
          -0.01429631296017173,
          -0.036568394879390315,
          -0.002829859916773259,
          -1.1119321898041472,
          0.1346822098647153,
          -0.22787487987433408,
          -0.045087198585480125,
          -0.13880650997676014,
          -0.004603354949884981,
          -0.2641260681233941,
          0.05678217058667468,
          -0.1252027303321396,
          -0.21965965234576748,
          0.4797409415251118,
          -0.17380381420766303,
          0.7875896328751061,
          -0.3791394918124136,
          0.33910651192909264,
          -0.5210095959054842,
          0.1427509099477206,
          -0.06350907987012105,
          0.123736689255422,
          -0.08653692740947329,
          -0.1360995127064802,
          -0.00028448874473474615,
          -0.6917314223037886,
          0.10872926823112145,
          -0.055673542163178165,
          0.0023138402958648593,
          0.41207146993309474,
          -0.3404860916857256,
          -0.014459924575009197,
          0.037810433915435745,
          -0.014799056431107198,
          0.014349186916498065,
          -0.6724614475731876,
          -0.036536895215835564,
          0.019480620737495954,
          0.045464752718645814,
          0.03992881280469303,
          0.022746222268966793,
          0.018550104528107656,
          0.06027055827571134,
          3.332758631139687,
          -0.2955252355264337,
          -0.43103457999524897,
          -0.06394901233582215,
          -0.4182029902918826,
          -0.2836513640837236,
          0.0242046458214477,
          -0.13208185397539857,
          -0.05973673569958641,
          -0.06844226968745908,
          0.07189516360808369,
          -0.7347206915916548,
          -0.05894657643344481,
          0.10916004558472749,
          -0.04193845363484577,
          -0.4031372941090799,
          -0.1622044596669233,
          -0.509440559878207,
          -1.182993671420305,
          -0.05572228714478239,
          -0.22617039745189935,
          -0.47878295752038275,
          -0.25904794666841297,
          -0.004307302876863051,
          0.1343993629774313,
          -0.19138451389968802,
          -0.08659455143701199,
          -0.03115097538544391,
          -0.050347782146688565,
          -0.2722751177188353,
          0.022268760697202013,
          -1.5503790770679697,
          0.016536503461138725,
          0.011306190563537646,
          0.00014583761834539814,
          0.01773841522306817,
          -0.34227838878142536,
          -0.5368449538068094,
          -0.468079985383457,
          -0.053395959830793184,
          0.0701524080769633,
          0.04704629519011765,
          0.034904712249379695,
          -0.08392575018791767,
          0.03451459872649027,
          -0.057657288120373906,
          -0.2982431894974437,
          -0.11357748483693395,
          0.019065275020440264,
          -0.34174423957046596,
          0.05611153192146233,
          0.5264096203838131,
          -0.035791136715913434,
          0.04618957373913887,
          0.017798629830248585,
          0.44205393971313367,
          0.012268399844144743,
          0.054784885533873375,
          -0.6418454248269294,
          0.060314674003111114,
          0.014857884872892217,
          -0.6851600627264215,
          -0.2777510572931612,
          0.08757197782269584,
          -0.18016963888155796,
          0.11545351725197053,
          0.016743512046663977,
          -0.07429748652469174,
          0.4429883906530299,
          0.0027961053619560143,
          0.0035635910758000525,
          -0.05752695466473837,
          -0.0032482364952178214,
          0.06040666831454041,
          -0.20339838147148215,
          0.03281867336240331,
          -0.03554759121485259,
          0.033722377885242225,
          -0.0432027883445145,
          0.019084469955890727,
          0.04818931364239642,
          -0.2893914992392794,
          -0.09651288044795032,
          0.10853614939863039,
          -0.0013672516026973305,
          0.08221552637169334,
          -0.06228837583009298,
          -0.015892095845227633,
          0.029345572232625038,
          -0.6197941031168227,
          0.06437031407073403,
          -0.014616524381616432,
          -0.029202232399149666,
          -0.6326633012545418,
          -0.05367888087123925,
          -0.8973380056595325,
          -0.04826438350770362,
          0.09934061602571603,
          -0.715098357250824,
          -1.2357223252804646,
          0.22239823246706827,
          -0.08146840534352767,
          0.05536354016079229,
          0.052386302641638016,
          -0.22543310437329614,
          0.0017452267531325527,
          0.025779780424342567,
          -0.10390929831494285,
          -0.5474506744189688,
          0.08004649500623973,
          -0.0474957250843392,
          -0.26174185969082436,
          -0.04859904380932126,
          -0.06817102746681512,
          0.2083998410460595,
          0.23753502878001526,
          -0.0016147214227410058,
          0.11346440816072874,
          -0.29231910200912997,
          -0.12887162113875417,
          0.06763000579584486,
          0.03438942519460502,
          0.002814325181359919,
          -0.0031974965982158707,
          -0.0175306147283202,
          0.14510930903066963,
          -0.6703427078893371,
          -0.030410637285616497,
          -0.24855811786383156,
          -0.5782687493827892,
          0.06923859832309315,
          -0.4350346262784082,
          0.022099304922196483,
          -0.30345726013375596,
          -0.4775988702624046,
          -0.03502782204511165,
          -1.2312962946078319,
          0.0589238471159674,
          -0.008919225245548185,
          0.3590277009663363,
          0.3431159556276804,
          -0.018904118188894176,
          -0.07409945324399944,
          -0.005904218214281115,
          -0.3311245797079888,
          0.17441949978329704,
          -0.05991801962150986,
          0.08832399109511911,
          0.0010521909772875757,
          0.06893335305570994,
          -0.04354444564176628,
          -0.6143692901557426,
          -0.6287803045286018,
          -0.06790415734329903,
          -0.20261937315907663,
          -0.4760618198313005,
          0.09757560344522753,
          -0.3799805488047059,
          -0.03211501792024297,
          -33.89410906996473,
          -0.28917551551248133,
          0.14552859023632747,
          -0.2682242417774813,
          -0.2565135899110261,
          -0.055268870116988424,
          0.14966242557732828,
          -0.4968915681324458,
          -0.03211501792024297,
          -0.33171126548601765,
          -0.04193845363484577,
          -0.013703833603602122,
          0.5874355458999913,
          -0.2483317891049327,
          -0.23040152566539485,
          -0.9739498272408411,
          -0.05411929111457273,
          -0.024352869891870427,
          0.10382327054691087,
          -0.028894782541393434,
          -0.9217038726786448,
          0.023256185608403365,
          0.11378838829625636,
          -0.05724163213639176,
          -0.014817586182543356,
          0.039375496291630424,
          -0.1014019419491403,
          0.06411940131755195,
          -0.07279886246260246,
          -0.0042683369132702625,
          -0.11506057395379339,
          -0.6280109519184666,
          -0.4328745494185578,
          -0.9156889072208019,
          -0.017526173282233274,
          -0.10155676459753782,
          -0.04274917313551329,
          -0.14844625819031426,
          0.028879702731186924,
          0.09757155230012018,
          -0.06755546616316203,
          0.07240806288894132,
          -0.3982609578640248,
          -0.48858633442642335,
          -0.02683534542357234,
          0.0884462134651262,
          0.02536203336102364,
          -0.6155281529111146,
          0.062333794997293024,
          -0.10239301521179943,
          -0.046497280987969264,
          -0.06877388921570905,
          -1.5553959506608697,
          -0.09763353340330215,
          -0.15690925347254148,
          0.01693526364862615,
          -0.2987028769828089,
          -0.04615583095063875,
          0.048779930523593064,
          0.030569497672218136,
          -0.012384758092599878,
          -0.5061737132825653,
          0.060486286430722326,
          -0.35779362535507764,
          -0.1301612339760719,
          -0.037539385339002806,
          -0.01685769254386428,
          -0.06927114482293911,
          -0.15058866701545434,
          0.08193257699302155,
          -0.01977598160744786,
          -0.03794102353236726,
          0.02926593076986233,
          0.24702793839476864,
          -0.7552443199296687,
          -0.6074590430178406,
          -0.25366665458718607,
          -0.08551973644816606,
          -0.05269882528951403,
          0.06322003137583468,
          0.001924232015857336,
          -0.41561661222450863,
          -0.9845567684282611,
          0.10557990560377986,
          -0.062249105986166516,
          -0.11925584793061451,
          -0.08888227874417506,
          -0.09483536067753717,
          -0.2558375298277444,
          -0.21682967983239412,
          -0.23544627498489137,
          -0.13743448289825255,
          0.08348569465657667,
          -0.29053173647491537,
          -1.8545770964612627,
          -0.03950359409620122,
          -0.09110572603859579,
          0.011389721331271061,
          0.18388344681952068,
          -0.05910559176374403,
          -0.16668664437312128,
          0.08841507465894002,
          -0.030279082536194976,
          -0.29188804446071875,
          -0.4526373027901282,
          0.25557137969153004,
          -0.04980797160449801,
          -0.16070350799717958,
          -0.017476572644259634,
          -0.1010023579044235,
          -0.04458923807149974,
          -0.6799293383090166,
          0.07186855738782646,
          -0.036856065674169894,
          -0.22488122422609055,
          0.38897298627908483,
          0.013765760950918316,
          -0.4016748524622648,
          -0.08931343150287649,
          0.0014608670878793054,
          0.00900680356023809,
          -0.4428989854081652,
          0.050233780618709784,
          -0.4167288911230898,
          0.10227059683936011,
          -0.5535233815859707,
          -0.08750447609566867,
          -0.36538451373597897,
          0.6832847227955927,
          -0.04656390518622708,
          0.0625123310728417,
          -0.1676137368749958,
          -0.0007762242666731408,
          -0.07996106933926049,
          0.002307064234267821,
          0.014857884872892217,
          -1.0097589951273938,
          -0.3980427566612507,
          -0.20794957423963853,
          0.01461082822194393,
          -0.185422204810069,
          -0.4060735661700096,
          -0.05708410373650083,
          -0.048606787642589175,
          -0.6088316178117935,
          -0.06851668481546264,
          0.22777881225196242,
          0.025833490670275364,
          -0.07124185235687197,
          0.11434432717587184,
          -0.1762206349840849,
          0.009957698370943851,
          -0.15048875510625248,
          -0.022723108502353734,
          -0.36515707719928386,
          -0.07072022892262196,
          0.09936327525217162,
          -0.027225074345922588,
          0.06521725115522219,
          0.1059352502669707,
          -0.14613927984062494,
          -0.005528323160478251,
          0.04101914435730689,
          -0.010946443129213074,
          -0.03516749664764093,
          -0.03864991092218021,
          -0.7828225809864623,
          -0.32665034726244996,
          -0.4511917866650309,
          0.10841173053548642,
          -0.06703754037329508,
          0.10956471559526099,
          0.0749249943230285,
          -0.7963482195181287,
          0.015114668163738723,
          0.0474796471621471,
          -0.10877056544130899,
          0.015692329069846682,
          0.10070354114324627,
          0.12004666772011119,
          -0.6266303237393209,
          -0.11543503935648322,
          -0.567646946745989,
          -0.04079781443040968,
          0.058713138609367076,
          -0.18212228265590305,
          -0.02144374037485143,
          -0.03343832082436831,
          0.0908028944906423,
          -1.166432289161691,
          -0.13108801621863447,
          -0.33681454453437903,
          0.03677445857706339,
          -0.14989191904353488,
          -0.5557019842310368,
          -0.2846696088437808,
          -0.14632334310553236,
          0.005319073639318267,
          -0.10439851415693552,
          -0.6390335641766492,
          -0.3224666083114884,
          0.013814117406907373,
          -0.06934344387670122,
          0.06150297295788489,
          -0.09013811913608155,
          0.01547686162460926,
          -0.04499107323351677,
          -0.058377987034411535,
          0.06188618313513792,
          0.015508889355036849,
          -0.6353362051897717,
          -0.3847605229398996,
          0.014332235581504784,
          -0.4197342915988596,
          -0.011063405868055171,
          -0.30252818582261126,
          0.4585042109983537,
          0.15262026101579226,
          -0.010656241117810137,
          -0.3120110030165728,
          -0.11125125610941926,
          0.10804721326137913,
          -0.03494352088316401,
          -0.04960414943534775,
          0.036652751081217516,
          -0.08384066753234949,
          0.07995121582563607,
          -0.6058065874125229,
          -0.0075931001716946795,
          0.009811926765696293,
          0.05168828147349915,
          -0.030227729905213538,
          -0.06629555140318893,
          -0.010036814385436393,
          0.0723922117635931,
          0.0357215552695188,
          0.09066800722718606,
          0.03333715112658486,
          -0.08950737327714836,
          0.00606436573916653,
          -0.06653368167432566,
          -0.02914151696398408,
          -0.016429272119878238,
          -0.047745735612976105,
          -0.030227729905213538,
          0.03333715112658486,
          -0.08469644636984479,
          0.07292946261187461,
          -0.01259479787062178,
          -0.026578411113094093,
          -0.02311619721124536,
          -0.007060304343059288,
          -0.014004743101343507,
          -0.02269017454888565,
          -0.11093723275914992,
          -0.14259475297827287,
          -0.6418454248269294,
          -0.04859904380932126,
          0.02170865501066362,
          0.028479533905616104,
          0.10606184225674092,
          0.057002284560076326,
          -0.047745735612976105,
          -0.02079693508478848,
          -0.37265376330007044,
          -0.04165183064182431,
          -0.03084984171944442,
          0.011304198728386035,
          -0.06314040997244037,
          -1.3883539303775538,
          -0.09058438998928563,
          -0.5311143303432012,
          -0.037485170276609116,
          -0.3214787541288956,
          -0.2956510979996931,
          -0.49368138314755206,
          -0.09013811913608155,
          0.06935423862702633,
          -0.11478852365206563,
          -0.01174394096286389,
          -0.563026072974154,
          -0.03950359409620122,
          0.08798130520847844,
          0.007913074546316378,
          0.026003767716030874,
          -0.06265493608520745,
          -0.4238938433268909,
          0.05036635664974629,
          -0.21344872136761667,
          -0.3753595525080364,
          0.02009548424969992,
          0.010425720895566702,
          -0.020028722663301135,
          0.0049964150216640114,
          0.017408905504916042,
          -2.100409100291999,
          -0.01372472623230806,
          -0.1838533955605713,
          -0.021067609013867623,
          -0.03916076295330668,
          -0.01251316299935766
         ],
         "xaxis": "x",
         "y": [
          -0.11014991340317344,
          0.4826016785695684,
          0.09989913759107442,
          0.09904510430778743,
          -1.1184125053552953,
          0.6106935179527109,
          1.2729735563736995,
          0.8272661657675888,
          0.4989312895878881,
          -0.07836994396137036,
          0.8224078781905007,
          0.30508257634621144,
          0.024676521750115626,
          -0.17409676049815964,
          -0.48746138287753565,
          0.07663856354426439,
          0.6040829426519936,
          -0.843132703541328,
          0.9188334448469285,
          -1.2228246245952321,
          0.6045988638075726,
          0.47628882633224606,
          0.8716678000227683,
          3.773401654288321,
          0.058145692054903816,
          1.1395314033701875,
          0.9404030390100416,
          -0.3803284524854292,
          -0.9268446951974506,
          1.1960557429599525,
          0.7700021611054028,
          0.7484667798519987,
          0.14988336962709492,
          1.2419376938261464,
          -0.01721110226207758,
          1.7976284126259474,
          0.8277249191000359,
          0.7110329395402826,
          0.6029559830345387,
          -0.0670981228431415,
          0.11648945270717648,
          0.8636836137864945,
          0.5397705913049045,
          0.9171744945051924,
          0.9383281382474962,
          0.6221800351349841,
          0.6646408802578466,
          0.8641548128330764,
          0.960324989219321,
          -1.0636166458578984,
          0.663636379058153,
          1.6812484057377595,
          0.505008571533516,
          1.2964932386661165,
          0.7243026322002006,
          0.6958538955859508,
          0.06166178522070206,
          0.8410331111947925,
          1.0877893903843776,
          -0.05125445463215036,
          1.2713753501326044,
          0.24121091814496295,
          -0.041032873405909866,
          -0.04837579913623043,
          0.8784804873065749,
          1.2762652090484088,
          0.46312169487835053,
          0.0882580965296615,
          0.9483895458844214,
          0.30414095146232983,
          0.11044875276183473,
          0.5802006624881088,
          0.9347982419958123,
          0.7297960708092613,
          0.2690536556476454,
          -1.036751697193815,
          0.3797591534591916,
          -0.08811817721849202,
          0.9413037244148222,
          0.5891729298200056,
          0.1551607076632176,
          0.49690914473242187,
          0.4008283706304226,
          -0.01552884621660134,
          0.017906160393035428,
          0.3196598064760544,
          1.385102078274461,
          1.1023127568412223,
          0.5570707367462693,
          0.5688165427751861,
          -0.02943507694760567,
          0.008500751258650869,
          0.844465218521992,
          0.5668890103596029,
          0.6115419643209652,
          -0.2707001343471703,
          0.27724197139411066,
          -0.0024574630915130207,
          0.171023482284844,
          -0.23509844200170013,
          0.4783970818629649,
          1.0684235477589612,
          0.11600892067895704,
          0.6744743145029171,
          0.026047708191945972,
          0.9345612893894901,
          -0.04352502788122822,
          0.07928359701136498,
          0.2660409476402589,
          -0.02486992078691439,
          0.027761333371642827,
          0.5871303320776259,
          0.7173594647453285,
          0.9407739695276827,
          1.285204156123068,
          1.2711169253665173,
          1.1450259609969464,
          1.087522101855449,
          -0.29052363357010985,
          -0.43592446451700323,
          0.1359200038181837,
          1.2096538092818565,
          0.536171056419892,
          0.5121490382206234,
          0.014439621234952143,
          1.1446228650427106,
          -0.14638904156475707,
          0.30657973954317025,
          -0.18774067211959297,
          0.5628149967234874,
          0.4625552213627677,
          -0.4254891233338745,
          -0.0057462888111382135,
          0.009695131493289946,
          0.6025535229002108,
          1.7306129976388125,
          0.1713212372986273,
          0.9528240631760737,
          0.47368677396404707,
          0.10686207483628418,
          2.343452276751145,
          0.5546540950882738,
          0.641304463605539,
          -0.02219551807365664,
          0.06299349389437439,
          0.9260278623809894,
          0.3056474294535948,
          1.5909850437870994,
          0.5705497662046889,
          0.47954579878768433,
          0.39494851427847977,
          0.7285264524329126,
          -0.012312966616328708,
          0.1947426998917933,
          -0.3851632283357224,
          0.08606440872605153,
          0.000564065318583989,
          0.0011132595069723596,
          -0.46594924231086354,
          0.3013183537551249,
          0.4052263989135916,
          1.0657724524819407,
          0.5600204078931224,
          0.9168918961781173,
          2.388041952756524,
          -0.00014006051792687195,
          -0.4133589723685704,
          -0.23313487747916034,
          -0.3063533791476186,
          0.6041634470683368,
          -0.0810360023003949,
          0.7739703644326376,
          0.1787011875586708,
          0.5789488311965276,
          -0.14156591958937223,
          0.00387616916936927,
          -0.05986569513783665,
          0.8014715496080107,
          0.999310565068822,
          0.6602348625947677,
          1.4364112275693863,
          0.303255310396256,
          1.1811850424119272,
          -0.2653897653284205,
          1.054069596543214,
          0.017739169756489228,
          -0.028248623438924883,
          0.8253302667977244,
          0.3444317861348989,
          0.4587548546264821,
          0.9436222793381397,
          -0.025271246216894264,
          0.3773287999658785,
          -0.35366840705937025,
          0.9467909262220047,
          0.6477110006897101,
          0.1286680467556016,
          0.13465729576102423,
          0.1527895497726603,
          0.8904705956644317,
          0.308353996451551,
          0.8146427549682067,
          0.5306283588765,
          0.9883790019904602,
          1.2410954261764493,
          0.012168683606975619,
          1.0313073865834117,
          2.061154002443957,
          0.6900476387887509,
          0.37461580453035614,
          0.6691765475302962,
          2.032539624337575,
          -0.3447516354034437,
          -0.44271856201609383,
          0.13485157675887965,
          0.7685311656489408,
          -0.09913514541491363,
          -0.07701998396572599,
          0.535286939324199,
          0.43593662668234523,
          0.20540920057857995,
          0.7978052666130566,
          0.021009705374129134,
          -0.018238195547908388,
          -0.3220720662894615,
          0.5884207172148338,
          0.7223129077865316,
          -0.27446647591038553,
          0.18863295106892103,
          0.14396014497789036,
          1.2009791363148261,
          0.6951198749787049,
          -0.08011588689670134,
          0.8579694903984381,
          0.6745477956362603,
          0.3022390050677974,
          0.7574711621120321,
          0.044531132873317905,
          1.7023128861757701,
          0.1799794063684603,
          2.1635264493352175,
          1.0580955780935486,
          0.6385902588503464,
          -0.05879266004156288,
          -0.04864517822890184,
          0.48881258055312227,
          0.020862298487503286,
          0.8064896575186777,
          -0.06984688411397164,
          0.3420356798582462,
          -0.2144093755757803,
          -0.006292516051740351,
          0.826853770785486,
          -1.2460026466584204,
          0.5470650875074398,
          -0.5131705838686257,
          -0.17616723155981906,
          0.47644378983152164,
          0.520765823571441,
          0.4739968289249068,
          -1.7965460011353356,
          -0.29258167610645525,
          0.5881465852028489,
          0.5812908112447741,
          0.672506146508097,
          0.49760781853530944,
          0.4247494820249383,
          0.7170236763598732,
          0.004910248272703106,
          1.315539720397776,
          -0.25820403814679715,
          0.029364661031435486,
          0.18123714386485074,
          -0.4757227522075921,
          0.0037732544090957106,
          -0.017635352251243054,
          -0.5473915262771891,
          2.1801897184987946,
          -0.055081437518614544,
          -0.28338781551603376,
          0.5662025319784022,
          -1.232374489711086,
          -0.04402158502782317,
          0.8362818352684057,
          -1.2780944454639236,
          0.15703459309342904,
          1.3314837492260154,
          -0.09224283241769075,
          -0.14618695591511247,
          0.1077537954645971,
          0.8319457520368279,
          0.1839508806461217,
          -0.14650913799251636,
          0.5508325022147725,
          0.1497116569282945,
          0.04085354177113414,
          0.1315838776912532,
          -0.45911446683102597,
          -0.6976414592120543,
          -0.478044964301577,
          -0.1381291506345596,
          1.8361084120646936,
          1.1309507795825207,
          0.549059922200192,
          0.21333639004400937,
          0.542887965312806,
          0.09503032239378084,
          1.0265339051005016,
          0.6901292035779264,
          0.584171067491358,
          2.211296210229911,
          1.0999033134043337,
          -1.0380089302641373,
          -0.1580153952292461,
          0.04905896827117194,
          0.362648938151126,
          -0.9071294467020391,
          0.20697504538717335,
          0.6004612398456765,
          -0.032961056643146566,
          0.9042157357059236,
          0.1739141985506879,
          0.864585502592486,
          0.5905929478185179,
          1.2862683941478794,
          0.28076052330710977,
          0.49048802475251113,
          0.9368341975161157,
          1.3811661999023808,
          -0.01941766336829169,
          -0.041331771971404765,
          1.133698681301872,
          0.1391078780434794,
          0.4361270361256859,
          -1.2207726588298249,
          0.06205440905467539,
          0.6576251627476319,
          1.3718479229165716,
          0.682194636129626,
          0.01426564458041891,
          -0.03898160095371605,
          0.4370382925276448,
          0.5253501019224326,
          0.6121981145772563,
          0.07303113799998025,
          0.5152664323198267,
          0.5202818065205561,
          0.9380875576226818,
          0.4541427147706557,
          0.04939724858814465,
          0.4765308992941242,
          1.0656525178962386,
          0.8962572197021671,
          -1.5563961369536237,
          0.11477394882434834,
          -0.006856205293684568,
          0.12160814030300136,
          0.2772526877476599,
          0.6293745223326922,
          1.2494453181682077,
          1.2800353087176346,
          1.6318922109224971,
          0.10200129522418742,
          -0.0021363638807923736,
          0.8709232082321362,
          1.0226417371704675,
          1.2539827758532447,
          0.7593100507829604,
          0.8134170484160365,
          1.2468389442167254,
          0.5053757915997007,
          0.8723368287780132,
          0.9117941859720712,
          -1.1673319745675519,
          -0.2845638512676177,
          -0.290161596580496,
          -1.0829050133846154,
          1.3088427254253878,
          0.3243678334987909,
          -0.055874698391647985,
          -0.06790107573268626,
          0.23660302840251035,
          -0.21542643781006152,
          0.27853786557836063,
          0.535791293989884,
          0.1368986821721578,
          -0.11678980534403728,
          -0.2434767226637765,
          0.7875718559791706,
          0.01504029995090631,
          0.727113637959145,
          1.9878698605801823,
          0.8919110678698544,
          0.5543634514895617,
          0.5213968073899673,
          -0.06908795490692672,
          0.025080613695865943,
          -0.14009508264720427,
          -0.04840427680397949,
          -0.16484789740225672,
          -0.02508882523292469,
          -0.7264225038253656,
          0.7662239322395842,
          -0.4565179813539655,
          0.042428279379170174,
          -0.03529643834884135,
          -0.5062685603120938,
          -0.05879266004156288,
          0.11577133285456799,
          -0.009330251368439428,
          -0.17395950235253335,
          0.7036514799128334,
          0.002370923670113788,
          0.3956073322476099,
          -0.3540502501192148,
          -0.8183510960951758,
          0.38525325974890506,
          0.02802296778414307,
          2.980208533338414,
          0.48778670357032433,
          0.07356102838427378,
          -0.04564327441457628,
          0.1576601096188623,
          -0.26071892731942115,
          0.4027961995628166,
          0.4548074429699419,
          -0.2647330093693957,
          -0.06109167034910214,
          -0.26230566129664445,
          -0.03107099795237896,
          -0.42617389282865226,
          -0.010438758425705989,
          0.3248548400219254,
          -0.3640207996187723,
          0.13198040530235508,
          0.2470303339245163,
          3.126262498647714,
          -0.09861482100595102,
          0.08050140207552495,
          1.0415863003234898,
          -0.27316959452550327,
          0.3776518385966822,
          -0.8521660539381246,
          0.0008784479438812555,
          -0.7073227527675353,
          -0.2937087688283112,
          -0.06235779045572597,
          -0.3245876305233736,
          -0.3534654615673647,
          1.1284161492841664,
          0.1614641205646379,
          0.929148620548532,
          -0.28091482320719224,
          -0.21489598170809976,
          -0.035985607825906915,
          0.07472715247065921,
          0.16093700531583618,
          -0.809909611124415,
          0.09909254015825636,
          -0.03675179689086715,
          -0.08041298702683898,
          0.7390484288274554,
          0.1299775722265219,
          0.02001754077203142,
          0.09565375332025744,
          0.10629370625729634,
          0.7235322502199553,
          0.21355274282485512,
          0.4740336983696113,
          0.2334107604178941,
          -0.8363534763997471,
          -0.898283774618111,
          -0.7118051545552294,
          0.3582844190660224,
          0.15900525881717703,
          0.4569567496612554,
          1.213247390927802,
          -4.230180724799851,
          -0.38037764931537627,
          0.01855241426115588,
          0.06551730305101715,
          2.213806044835137,
          0.4397551706178992,
          1.1483672021722908,
          0.5164306497152218,
          0.556107049788981,
          -0.013701993107515728,
          0.175344952109013,
          0.06448987583813982,
          1.1574095063711043,
          -0.6205154285186184,
          -0.2047998366510535,
          0.40322798480213934,
          0.6388030120579734,
          0.1722398363663498,
          0.6158900214095493,
          0.4985475655401931,
          -0.24665933973310752,
          -0.065716998151055,
          0.501648451589636,
          -0.6275753446707673,
          0.8099599674022655,
          -0.10471048225851524,
          0.8121563274095794,
          -0.5233858427920661,
          -0.27815341648381464,
          -0.06791116364623574,
          0.32268455524308765,
          -0.10940167608580345,
          0.007596301038069296,
          0.24130287706725573,
          0.14193997859211527,
          -0.027979287285835406,
          0.025911320429817183,
          0.039513714096523364,
          0.4561520878255759,
          -0.09955011719072189,
          -0.18868562643583167,
          0.229390706397076,
          0.44957837390038885,
          -0.2623174875706546,
          -0.14663267167518762,
          -0.01823203305359902,
          -0.9485626095363844,
          -0.01909086886223968,
          -0.11013148621153414,
          0.06715386807308252,
          0.06557947864440396,
          -0.8524465590396642,
          0.3850508234429285,
          0.08213376828893057,
          -0.21805634661334797,
          -0.3537708570548599,
          0.0396679130451269,
          0.042499117777349917,
          -0.6556705561902947,
          -0.0067979211935515526,
          -0.026964841920575845,
          0.3044371811188921,
          -1.3710425197188314,
          -0.06984688411397164,
          0.058030486463210545,
          0.015898513773279135,
          0.09778486939990627,
          -0.011106479989785594,
          0.5921259779289949,
          0.15503855500913719,
          -0.4712584824938291,
          0.31840574053297066,
          0.010517677814224653,
          0.19957135689872055,
          0.026774856913561317,
          -1.0030400532574704,
          -0.035836616243563144,
          0.8940478417515783,
          0.52292542585078,
          0.7149840514013857,
          0.5416737014300378,
          0.8026216594614967,
          1.2418217394500943,
          0.02820092554150827,
          0.7120383712889826,
          1.6327740816708793,
          2.1400161674005678,
          1.2937237027390809,
          0.33919774968701977,
          0.21863842995976918,
          0.059001399191647964,
          -0.12580871392964335,
          0.32433151091945167,
          -0.2239831406899127,
          0.27546684638126157,
          -0.04864517822890184,
          0.5665189837405725,
          -0.18804560376558652,
          0.39468373182046795,
          0.5722473090231903,
          -0.010320077521325492,
          -0.03333687273538387,
          0.0850619943574849,
          -0.22113806655543683,
          0.025627607372716354,
          0.019059449416775367,
          0.5286614676843846,
          -0.23862981724609456,
          0.3276764828491892,
          0.9950436147469506,
          -0.4635552623912305,
          0.27179033848006584,
          0.19989951740596923,
          -0.36535005762891964,
          0.013986374287738428,
          -0.26460105748914897,
          0.09364474288482294,
          1.0927482131999449,
          0.4606583325197962,
          -0.0024724558927160427,
          0.1560408595575092,
          0.5803333988415834,
          -0.040237769653014836,
          0.014925803361844361,
          0.5953016155803368,
          -0.17955504609383557,
          -0.042764359446197074,
          -0.10247848677575605,
          0.6682953939791755,
          0.20340010681327375,
          1.4717427777184215,
          0.07403167049866709,
          0.1745616467979936,
          0.16096870891924234,
          0.5316102755903054,
          -0.4159912497722025,
          1.0765678245624841,
          1.0868027910933191,
          -0.045265020525801204,
          -0.4072201492733057,
          -0.5989419222140019,
          -0.33111655591921696,
          -0.04506094895524654,
          0.08613061900136879,
          -1.2538453363906978,
          0.022963130767832362,
          0.036693738022295724,
          0.01535680112138936,
          0.12292401243141171,
          -0.032650507114775414,
          -2.0904365372647606,
          0.7132725588870609,
          0.2419182484559586,
          -0.4181360819117476,
          -0.6717846234125893,
          -0.03815598307742504,
          -0.04803918719969522,
          -0.12326550929902587,
          0.8176712595717095,
          0.6188914894021514,
          0.9873472954843222,
          0.9817559733450485,
          0.33696197132876315,
          0.5635396503846822,
          0.5014361218515961,
          1.0823685557311806,
          1.1289014844224998,
          0.9746456317204963,
          0.06068495364230016,
          0.20771693677474506,
          0.8322402076877139,
          0.20201841177586918,
          0.8046967929410958,
          -0.032213311048070244,
          0.6040045616514722,
          -0.2135078971083532,
          0.21541922255954818,
          0.17624777615175288,
          0.2520590735723182,
          -0.025164134354266933,
          1.21786590354008,
          -0.37768853170208383,
          -0.029215759339621387,
          -0.6107170735869833,
          0.040665611654954616,
          0.057722135953612724,
          0.16033534131598887,
          -0.09247885414087768,
          -0.033853807845180536,
          -0.1496143308464447,
          0.13222861658328308,
          -0.05040059199865262,
          -0.11695752447354679,
          0.05269307911956199,
          -0.008521643650973246,
          0.17583842166260663,
          0.6445950145255541,
          0.1480562121992728,
          -0.04764171737911803,
          0.26512832098336037,
          0.03973259697271847,
          -0.2540195233370693,
          -0.04506094895524654,
          2.196697625879239,
          -0.0018970686454145061,
          -0.023137660301943905,
          0.11687079612614588,
          -0.048713311534605945,
          -0.296524360361208,
          0.0008784479438812546,
          -0.39346307489348387,
          0.31844084865707306,
          -0.13429246616911542,
          -0.17645724112048605,
          0.013965134382241964,
          -0.9041871730957941,
          -0.05118853988916185,
          -0.4524781300822123,
          0.0005052295520065356,
          0.22989059537829623,
          -1.095355804712818,
          0.37525241428250167,
          0.11316633784295696,
          0.6925281727756726,
          -0.12275459178575542,
          0.11590644199753511,
          0.6789054931205439,
          0.8273908800704474,
          -0.05731237232421215,
          0.1951950960904503,
          0.3900881417167758,
          -0.18133136865757907,
          -0.5292117697594801,
          0.23858234947832752,
          1.480810713763791,
          0.7403392673607248,
          1.1581714182942435,
          -1.1077750998627947,
          0.18770676207068282,
          1.5385417853388492,
          0.2591690342061073,
          0.23481709580148066,
          0.4701202089301724,
          -0.05810233952067873,
          -0.47225883819820363,
          0.20026744088035708,
          0.14256906601146987,
          1.4246711986237697,
          0.35344370839644473,
          0.30268748345049357,
          -0.34500509242433586,
          -0.3776493714073224,
          0.6871713770553947,
          0.002170145406583996,
          -0.07714109608899361,
          -0.0005516901168532836,
          0.5661746441319672,
          -0.09334349016421523,
          -0.30932081078067786,
          -0.08101061776239316,
          0.656005993084549,
          0.0001680778962405164,
          -0.24242781363903637,
          0.11285485954765939,
          -0.03397194302273561,
          -0.10213123054343753,
          0.308035092835285,
          -0.04405752636562821,
          0.06400541086788764,
          0.16465149450610636,
          -0.21922387518433037,
          -0.319655569804443,
          0.004953247546803257,
          -1.1242382143486882,
          0.09916805571712632,
          -0.4105612683725635,
          -1.2548695905943974,
          0.7014452206504929,
          -0.06334931941851205,
          0.8858102874076222,
          -0.09930862995404928,
          0.3382549972712435,
          -0.36472141455495444,
          0.23328561124927488,
          0.7320364406969905,
          2.151013026765849,
          -0.9982548709971458,
          0.7859609788891982,
          1.0086558291742056,
          -0.12721219847244833,
          0.41625284547164354,
          0.03441200663277269,
          0.7652158451744946,
          0.07358341191774488,
          0.13996276778942673,
          0.5806287359675854,
          0.5398629683802447,
          -0.1473323133250395,
          0.13204355419666303,
          -0.29811115266075683,
          0.5965295101950431,
          0.7677674990823917,
          0.39679623847138146,
          0.4299568937945645,
          0.14863821270674546,
          0.31785078248357546,
          0.01935090483346624,
          0.820642370702277,
          0.04607493432705629,
          0.6626683527285869,
          0.86218346524117,
          -0.04426199846823406,
          0.2999654688670608,
          0.059408724784906615,
          -0.02631021170467433,
          0.11607780584628533,
          -0.007520228308904604,
          0.20466968010881073,
          0.7569846598321408,
          0.10254387224955636,
          -0.019244753610680804,
          0.4754355925652543,
          -0.44954875601247773,
          0.10602215407063395,
          0.834894513389065,
          0.45625230339142087,
          -0.026917434207958498,
          -0.32001120264895694,
          0.13734015127022237,
          -0.14750324736979145,
          -0.16549315982636767,
          0.25489772902551566,
          0.8580808290408054,
          -0.10515070237368158,
          -0.040488150299017305,
          0.1367344454546704,
          0.10807269377497487,
          -0.6617580479649262,
          0.4265069500876044,
          0.06526286358900062,
          0.8970929888886403,
          0.15238179362175588,
          -0.009462692352596993,
          -0.4344378981598388,
          1.005374728979648,
          -0.07969757213064285,
          0.03267815263815419,
          0.12533998146882636,
          -1.2482149185268074,
          0.9823141893227575,
          0.014991861412548472,
          0.6197056346744726,
          0.48405964861663014,
          0.42844985397869007,
          0.07999161487253163,
          -0.011353351399272033,
          -0.09713456812504184,
          0.750398145798612,
          0.5737074657536738,
          0.6682769049061349,
          0.4248520323512636,
          -0.15905788598717635,
          0.03172865757255961,
          0.190963920230697,
          -0.026329631574655885,
          0.32339625903847063,
          -0.06174897949053721,
          -0.28990632066946653,
          0.026003783782510472,
          0.043449562584987673,
          -0.18831186753486545,
          0.6069689867490536,
          -0.17499841638821464,
          -0.044145878351612794,
          -0.0802085400062942,
          0.05280878417573131,
          -0.21554231136435179,
          0.2687002040617039,
          -0.24692911484350313,
          0.002170145406583997,
          1.7500997517518133,
          0.9075589423871798,
          0.22656949091180162,
          0.031416249091475404,
          -0.019792098503219203,
          -0.36685321096343443,
          -0.08841759208975214,
          -0.5432189619278577,
          0.6682839000079831,
          0.6122643253486166,
          0.05473591281650265,
          1.0413015827860372,
          0.4187919552015817,
          -0.18960577751025506,
          0.4125952107403683,
          -0.0242898952219903,
          -0.4161498202200128,
          -0.08760447677668476,
          -0.18718063409743896,
          -0.17223990520306706,
          -0.09207506196110393,
          0.37021981942988597,
          0.24981775676254303,
          -0.7542236329879738,
          0.8182233798746302,
          -0.1767300249216819,
          0.008378628051777129,
          -0.15430927057906055,
          -0.45911446683102597,
          0.08723262997717784,
          0.35998390002583036,
          0.180061638423237,
          -0.9659486008302299,
          2.300585232179432,
          -1.567020164736362,
          0.9746467616296506,
          0.9691466615827998,
          2.0490976254809103,
          -0.06826167749845823,
          0.5551591316550106,
          0.1388563260287388,
          -0.061670578455422384,
          0.18855231005991632,
          0.341708393282535,
          -0.03934246586381389,
          0.21215315145884908,
          0.0264288638053345,
          -0.2382703137975898,
          0.005093120513846187,
          0.01691122623873771,
          1.2934990504326593,
          -0.18445068761615846,
          0.836837693960091,
          0.5577520994271952,
          -0.09519506862375125,
          -0.004218901206077025,
          0.04925151867816896,
          0.5795932048993939,
          -0.0036693683801439707,
          0.44828381608519363,
          0.3693857453915772,
          0.6443266106552092,
          -0.05375808922172424,
          -0.13206537150250613,
          0.5461752727287151,
          -0.4161498202200128,
          -0.0373860706504699,
          -0.5789268370730751,
          -0.2670596816551985,
          0.014417553852673947,
          0.07559818075803003,
          0.6688440006592514,
          0.9280567701933857,
          0.351874730505873,
          -0.04854136634868814,
          0.19662380885322492,
          0.9437333397905145,
          -0.13275941532404614,
          -0.48314458929631376,
          -0.04681410035465866,
          -0.17940510512990415,
          0.09057502448039527,
          34.1702749347648,
          0.0514523630894363,
          0.007140338682580236,
          -0.5845138232831611,
          -0.4586524920087659,
          -0.37819399528572734,
          0.07389651391335632,
          0.07403167049866709,
          0.02723819126131178,
          0.2488434021570961,
          0.22925313867489483,
          0.9469327795115179,
          -0.013132600513056626,
          0.004573346352227577,
          -0.03719434384282714,
          -0.17211984913537362,
          0.6587469557941323,
          -0.004499515204188336,
          0.22338548714701353,
          1.0514275482581832,
          0.16218619615554375,
          0.4475648388537268,
          0.08768975054769532,
          0.6744999539287083,
          0.34341400395461436,
          0.7771243682294642,
          -0.2504644810183979,
          1.1063017665867891,
          -0.1200426173174994,
          0.1979721728638652,
          0.07755103467892412,
          -0.13669345251890422,
          -0.025069324202346498,
          0.8244108440694518,
          0.10842900829309106,
          1.0806534259180096,
          0.7597059222714099,
          0.6640141750572062,
          0.6356055418709342,
          0.5960226516126444,
          -0.008379929142660593,
          0.09050078648128805,
          0.6414285891261862,
          0.6735154659091318,
          0.5967307693028694,
          -1.205809418939392,
          -0.048438088663997424,
          -0.38141438561598934,
          0.646420972762792,
          -0.11248873438015242,
          -0.04992255272443989,
          -0.11601434102015423,
          -0.04693430023835186,
          0.2479244868416939,
          -0.023944255009925614,
          1.2356696139694165,
          0.18232449444908425,
          -0.42378280061865237,
          0.8626946964637121,
          -0.06419457525833029,
          -0.05625329041785985,
          -0.12232627091749805,
          -0.13629208444661228,
          -0.23722421779556732,
          -0.0443321787381493,
          -0.366404753501104,
          0.2983670843794448,
          0.0015615811191286742,
          1.1128039577812916,
          -0.027979287285835406,
          -1.0550040469375201,
          -0.10889468171195214,
          -0.9401497971545603,
          -0.5552580189119181,
          -0.2122132493903039,
          0.16033534131598887,
          0.24460223172042264,
          -1.0309672039200786,
          -0.09275700753573514,
          0.17626255611732466,
          -1.0684125790701997,
          -0.13048331901961205,
          1.146033052744704,
          0.0948138199684666,
          -0.07864579001576566,
          0.807239521111561,
          0.6452161585392123,
          2.1834548978671444,
          0.3221682980421028,
          0.30343563725003264,
          0.1803229545217566,
          0.5304881544499407,
          0.17135908210458864,
          0.9093949767580675,
          0.6256127514117288,
          -0.00485132680178383,
          -0.3425143491441687,
          0.06124632902357855,
          -0.44260729763198436,
          0.03137875675103681,
          0.6282713064948556,
          -0.005801378537432369,
          -0.05515316218484134,
          0.2800117294513516,
          0.6820319220445706,
          0.2725265388389524,
          0.4362726806481974,
          0.0811167508038092,
          -0.2706638687428732,
          0.27038100715809804,
          -0.004400753510675325,
          0.477010961770075,
          -0.004439308819101253,
          0.7985029149524769,
          -0.006519932836386155,
          -0.006036022141970395,
          -0.03819607234634739,
          0.6263788667491708,
          0.4492581386217738,
          0.26271126933809613,
          0.17966945022467082,
          -0.6206097026758515,
          0.5154978328639961,
          -0.0829788315726622,
          0.01620027183485354,
          0.956026037526014,
          -0.018166121098647226,
          0.9101702752233476,
          0.010324114695525712,
          -0.04299577271656154,
          0.19724745965102922,
          0.6838329488495729,
          -0.04630021054715322,
          1.328881862097431,
          0.15846499821957097,
          0.008794235771845309,
          0.6552327768431407,
          0.6291347348226176,
          -0.018947515790276686,
          -0.04822091272623686,
          0.5618333768823791,
          -0.14650913799251636,
          0.275521961408411,
          -0.019063433241295214,
          0.8000013003306538,
          -0.0251088654262885,
          -0.4331039200238289,
          -0.046687639218117506,
          -0.04694414882994376,
          0.08480395771458243,
          0.04468694190723888,
          -0.1151754384332206,
          -0.009360214804861745,
          -0.00011436899695147812,
          -0.23370331371317749,
          1.187810758402689,
          -0.0923398493460407,
          -0.21829090028325607,
          -0.04840427680397949,
          0.04252788867027062,
          0.16343042407601566,
          -0.3534882984592029,
          -0.31408340007700825,
          -1.1899459887357986,
          0.043531370565915696,
          0.08065728779824481,
          -0.31330017347922023,
          -0.39583886254381634,
          0.18221781376863166,
          0.9739657495988446,
          0.11342944849661898,
          -0.3562651798652377,
          0.27156626846251786,
          -0.3044248013858629,
          0.76550543309872,
          0.2743368236202394,
          1.0620372158689677,
          -0.1823167038960658,
          1.3441686777635897,
          0.23347900751220807,
          0.37605651441897353,
          0.01749370952259579,
          0.8432699168369943,
          -0.008256717396354793,
          0.3105617135572942,
          0.810205105000299,
          -0.2732905275111125,
          0.8535691654403276,
          0.5079282278904231,
          0.23250506520981146,
          -0.0447652632533504,
          -0.14303307373844978,
          0.04605894011435706,
          -0.026506853956367746,
          -0.07297424275294441,
          0.735270121228374,
          -0.07518960723456346,
          0.025077916166256126,
          1.1465902719634378,
          0.11247317788613252,
          0.4497401466206767,
          0.07998509306445872,
          0.07422495561487535,
          -0.2308459071978442,
          -0.44168138029005083,
          0.21595758648567867,
          1.6901609100239259,
          0.10609045747337359,
          0.7498315622563543,
          0.34905820886642086,
          0.03581906478867824,
          -0.059845270580299106,
          0.1097933014853009,
          0.014687788561781363,
          -0.013946992715538698,
          0.011299156797738767,
          0.0013375952534737138,
          -0.13496192169419172,
          -0.12845102111436305,
          1.071663212187542,
          -0.16230874323927177,
          0.12830293344845584,
          -0.30609092359967155,
          0.010325672095456895,
          -0.2824081406259187,
          0.19554889840021325,
          -0.04857608250140199,
          -0.005372891957927566,
          0.007217228155528048,
          0.7207513874686833,
          -0.04389960465328716,
          -0.0647350779300874,
          -0.046132877115907474,
          -0.02347434565750967,
          -0.9375866153574952,
          -0.19052535894962166,
          -0.04864517822890184,
          0.26070183682370207,
          0.07070069730514927,
          -0.1125709838680954,
          0.06314864395942872,
          0.1919254914684933,
          -0.0067979211935515526,
          -0.2558365270800303,
          0.3148952063290813,
          -0.04635593851900324,
          -0.012758151187733095,
          -0.3281615762757541,
          0.00079924902265277,
          -0.36125302448129265,
          -0.3723244279397834,
          -0.032650507114775414,
          0.22727011822843832,
          -0.13129366737095846,
          2.067011574978334,
          1.1942776554864605,
          1.091407669076817,
          0.13509570770237983,
          -0.08584378071408395,
          0.2207789545916564,
          0.856312087217653,
          0.9647643227577841,
          0.13457665745003278,
          0.026840350670646152,
          0.6777745872638921,
          0.14887803389429977,
          -0.09708432746129401,
          0.18026651478841432,
          0.15490430177174536,
          0.04684601338899031,
          0.05272149342513655,
          -0.09231878567315498,
          0.6977583059252442,
          -0.003038004603789532,
          0.4827268947698533,
          0.07549306311673751,
          0.3189774729741522,
          0.24543802633352974,
          0.04380715970344014,
          0.7557835132420324,
          0.8591027553043006,
          -0.14477322335692352,
          0.3493813572702966,
          -0.10239299671939786,
          1.1652980896732843,
          0.13190935297288753,
          0.08210944422044135,
          -0.09880962656440713,
          -0.5144266964124435,
          0.35565990462758074,
          0.0044928155774243625,
          -0.2700722289308552,
          -0.23121260997399376,
          -0.004485520848994777,
          -0.073224496410525,
          1.2640825192518959,
          -0.01730479758029697,
          -0.17178548332001653,
          0.1804111242288499,
          -0.034447075527356354,
          0.3674752246059973,
          0.10022062598537182,
          -0.12606710540870195,
          -1.4997824385438414,
          -0.1582636053922403,
          0.004750757640577907,
          0.1315773192168567,
          0.19965864956060825,
          -0.41998935607861954,
          -0.34439488024332626,
          -0.12534948027942427,
          0.07557022409312628,
          -0.012516979245307772,
          1.9884897132762782,
          -0.6040291988691178,
          0.019767419491504856,
          -1.2438898457300325,
          -0.04681410035465866,
          -0.1799528639258698,
          0.0537529516054824,
          0.41981586667049714,
          1.9785699216410564,
          1.0101852833418086,
          0.967493075400937,
          0.5181350825656608,
          -0.05146896108192992,
          0.2620584081883402,
          0.8875797214424892,
          0.23055905403704471,
          0.0013628042428016692,
          0.05118261758159659,
          0.08797930558295101,
          0.08808284304151097,
          -0.12186353506526279,
          0.1139058669371064,
          -0.24996579186545323,
          0.013063893961621623,
          -0.05242673742608478,
          0.5610902968783811,
          0.1692802038514326,
          0.06111656458624727,
          0.6438084164421993,
          0.7669522166551026,
          0.9543064984563314,
          0.10527172524967096,
          -0.07938039141775315,
          0.15562098851135003,
          0.24965380656471892,
          -0.3039067069349929,
          0.22135190187919904,
          -0.22710891779575829,
          0.4207036929687172,
          0.9345081890687258,
          0.6883995723364318,
          -0.04143682397542293,
          0.08671635256735882,
          0.3527923478950892,
          0.056206973094554524,
          0.3584756111030559,
          -0.04630021054715322,
          -0.3126139062257588,
          0.6329994356236402,
          -0.04001299797959965,
          0.021736099907486466,
          -0.2693187090281576,
          0.08290622160740836,
          0.007217228155528048,
          -0.008714173749192698,
          -0.010628515863449962,
          0.30934555171742173,
          -0.09931816543545832,
          0.5636053623500396,
          -0.3207421815187459,
          -0.011617293475924755,
          -0.04796088105570309,
          0.06986999315078365,
          0.006162336286112528,
          0.0015615811191286742,
          0.035564971218313986,
          1.744797403838328,
          0.3048579207984237,
          0.3147085700257036,
          0.9987830083219172,
          -0.2708787867095241,
          2.09353827111865,
          0.8356184612173501,
          0.5824548966288235,
          -0.05793765059715585,
          2.047703263416844,
          -1.1976961008079967,
          0.8781591400820042,
          0.47196674136985073,
          -0.05110161824771616,
          0.1212637930081136,
          0.17527169161203213,
          -0.299393092123593,
          -0.11278416779846673,
          0.6403765736084963,
          0.912805392318025,
          0.4711681372168176,
          0.628787111685117,
          -0.19947662034882294,
          0.7084673861338355,
          0.021737314381591273,
          0.5276193763253281,
          0.09370607758027744,
          0.06668894563630466,
          0.10187684447582236,
          -0.017373601029414033,
          0.04641692211309427,
          0.09205801004429799,
          -0.11841700377680908,
          0.1563947708691027,
          -0.05252497359378969,
          0.013144727195729393,
          -0.25074588138701204,
          -0.08213592692021617,
          -0.3444054586320813,
          -0.14493348930952923,
          0.040398307667525474,
          0.06052469243061616,
          0.035928768037132665,
          0.7152469794717702,
          0.31305667100481777,
          0.10896745012847507,
          0.04311216684344847,
          0.8978596193040632,
          -0.04320321620291894,
          0.019426588489521935,
          0.0762955020186313,
          0.41669600753051583,
          -0.29616932029298587,
          -0.17205877731326025,
          -0.18720111475810586,
          -0.8133118116023482,
          -0.311335791073659,
          -0.1329577878460445,
          0.13458241687400221,
          0.5845921775715298,
          -0.07539732224827816,
          -0.00998695633700471,
          0.027790330004013056,
          -0.04781533054651012,
          -0.32676448093205046,
          0.09908750926311685,
          -0.4303493025966792,
          -0.12210572395284357,
          -0.4478537189695861,
          0.8815582741556907,
          0.5271926886477286,
          0.7696688286979777,
          0.06284999879367961,
          1.036965837226966,
          0.7662157514453465,
          0.6122227260067397,
          0.25743331020194893,
          0.7833482343569224,
          1.135766599146977,
          0.28029661321820437,
          -0.05015010395474733,
          0.37525368463028513,
          0.3431370913123166,
          0.1551915819220254,
          -0.16558498655199227,
          -0.21739638790820673,
          0.8631750496362415,
          0.28539387049779164,
          -0.12314533786826681,
          -0.05834529490540639,
          -0.29860213223804205,
          0.14826885049954971,
          -0.314654274154571,
          -0.038275597331374665,
          -0.05298889162226164,
          0.6552350812000627,
          0.3640519402950536,
          -0.034073170988962946,
          -0.27506906238681955,
          -0.38626725847243815,
          -0.6466618861852347,
          -0.4359249148110928,
          -0.12482828779667109,
          0.42200642841957986,
          -0.32276549311165426,
          -0.32638629525251067,
          0.20620883412503282,
          -0.1352888553208371,
          -0.24527034368055256,
          -0.030913975874287885,
          -0.005761932647214785,
          0.28723706982766745,
          0.2070184567707094,
          -0.034099683600588744,
          0.11294602217016034,
          -0.00850057109227479,
          -0.4721627845238658,
          -0.78779089870274,
          0.14614895064043795,
          0.006789010730131482,
          0.07717318510640489,
          -0.1247616701245663,
          -0.12217654834251947,
          1.2055721213044215,
          0.36839011612309697,
          -0.04363459680227425,
          -0.013279861112900884,
          -0.06005830466444553,
          -0.09626288823853987,
          -0.055081437518614544,
          -1.4637001252422412,
          -0.17490473049540167,
          -1.0772012030026745,
          -0.20446362644497015,
          -1.4870165568977514,
          0.6617387607128209,
          0.004544398710246354,
          -0.46359670750520293,
          -0.148748388860148,
          -0.03956124652798604,
          1.774296227341976,
          -0.4860762251569384,
          0.5092010979645045,
          -0.0056862232738844895,
          0.8367856672262352,
          0.05287892130675064,
          0.0456658607946975,
          0.14489082222036104,
          1.0321976602149914,
          -1.1259546993594478,
          0.4415566373037673,
          0.11118924164123699,
          0.10937057260965766,
          0.2954351146377967,
          1.923886250458079,
          1.0576409272279996,
          -0.4086117875483653,
          -0.09913381105064512,
          0.8235317515644724,
          2.7857092167020427,
          -0.13719850879612863,
          0.40299431652931766,
          0.5421512339282318,
          0.4744714825103286,
          0.1815766496791462,
          0.15225269654379342,
          0.04365924727509083,
          0.14916062939282898,
          0.1519592033053245,
          1.1294378266166991,
          -0.19008671474597758,
          -0.9348253989737582,
          0.02652599308371197,
          0.044038340367093066,
          0.2403968072454229,
          0.011935080624945587,
          -0.13137311707239846,
          0.5963493860336059,
          0.4847707900200254,
          0.1726594412827254,
          -0.15395543870220907,
          0.4224762071988733,
          -0.4536760172532095,
          -0.006912910856876318,
          -0.001382699575819456,
          -0.37033221625307594,
          0.05583276671479378,
          -0.044873853379780226,
          0.4910704864499619,
          -0.06395445001734308,
          0.016689925462955283,
          1.9733990017612624,
          0.15135993254472213,
          0.7252250121902241,
          0.004573346352227577,
          0.04327797904759666,
          0.24735330906151096,
          0.13439534365024255,
          -0.04700100024957443,
          -0.04320321620291894,
          0.08980199493297038,
          -0.2766660643562161,
          0.20317401010853464,
          0.12819134765681245,
          -0.5012971562412813,
          -0.2369778136767014,
          -0.0020034607364677205,
          0.013499482827507391,
          0.2765126862314705,
          -0.0950091755476928,
          1.175277858446437,
          -0.2369450750652999,
          0.8721303897289103,
          -0.1260157005199619,
          -0.08711651810510972,
          1.1280805808464949,
          0.08653611657239299,
          0.6339124939562595,
          0.12784188146763953,
          -0.15139205710214707,
          0.33637604008614697,
          0.5548722486526805,
          -0.23376260107352817,
          0.44174517189512275,
          0.1839645633991259,
          0.30094796752891806,
          -0.5232408713410468,
          -1.5186384912799564,
          -0.5121427523791469,
          0.07586805164415743,
          -0.12876933518601205,
          0.16033534131598887,
          0.11685004060105045,
          -0.08255374556888725,
          0.22977262263904824,
          -0.4649362745119276,
          -0.10602701127543893,
          -0.22727267589834166,
          -0.06622030528084343,
          -0.00454770022681874,
          0.16010062814133605,
          0.08586254603517236,
          0.49772229565511583,
          0.8336587294721318,
          -0.31193808288046243,
          0.17727053070263557,
          -0.02185010685693792,
          0.6565042353867137,
          0.1445255984161516,
          0.08112640727862837,
          -0.11365931892630123,
          0.1765147847418162,
          -0.07714109608899361,
          0.02581286358838631,
          -0.24822503781175903,
          0.3003295418385017,
          0.016684309015586807,
          0.706955608570734,
          -0.2545426231596965,
          -0.02969094769187215,
          0.30249914678652096,
          0.058361818021599315,
          0.01824715378412898,
          0.12122830355401547,
          -0.006799366916269776,
          -0.016960393690942478,
          -0.2544019796339751,
          0.06774971853676134,
          0.6583719429093882,
          -0.06991930119288277,
          0.2844005348103823,
          0.07169765307394141,
          -0.20508100086689696,
          -0.33111655591921696,
          0.4037841633653251,
          -0.006983238360140628,
          -0.03712075752253328,
          0.4240490561556737,
          -0.0002512602320137579,
          0.07110965376820898,
          0.0535822268118569,
          0.10346645482386531,
          -0.04241600630970383,
          0.06400541086788764,
          0.03170275109268874,
          0.0038727676877954864,
          0.011004284233645885,
          0.12129455055232134,
          -0.11263126549366884,
          -0.42205825744508,
          -0.3808863046286423,
          -0.3604687660241813,
          -0.30011546326236993,
          0.6745436681002618,
          0.007601879083875997,
          -0.09347283062023383,
          0.15918586307341454,
          -0.07837412991472006,
          0.13776914807311802,
          -0.11079413073609536,
          -0.11780892446576914,
          -0.02619300319612903,
          0.6904000037507751,
          0.23599540826773213,
          0.08538261779942145,
          -0.2175677661757001,
          0.14309336408942497,
          -0.009716824000488416,
          0.6988717424015094,
          0.018418129625120558,
          0.048930837096459345,
          -0.011617293475924755,
          0.1771110398470532,
          0.6114242742656836,
          0.21465075926658814,
          -0.34532104397953606,
          0.7919274997379516,
          0.15087012201147093,
          0.16806940937641868,
          -0.40690600440306296,
          0.4101880712297948,
          -0.04854136634868814,
          -0.017492570605351726,
          0.07500544420495811,
          0.1949944352819687,
          0.5258138789016938,
          1.0384189391915972,
          -0.0550949382864148,
          -0.02372634404871592,
          0.5450290741924726,
          0.09430695899982858,
          0.2866525047362324,
          -0.0849857915999143,
          0.2026858444638386,
          -0.5145043663576244,
          0.4532265613121255,
          1.1112228830121118,
          -0.0945105267739206,
          -0.004485520848994777,
          0.2191389038491943,
          0.31432261402588574,
          -0.040951715938379867,
          -0.007467440143990862,
          0.06210672760213729,
          0.21928976093838232,
          0.03326241130553484,
          -0.06544089287289587,
          0.2097611130255767,
          -0.12436733655283921,
          0.07367045657438734,
          -0.04068788933164523,
          -0.035541069057833885,
          -0.40109498814625993,
          -0.24416861163919126,
          0.13358614805803712,
          -1.074666436557548,
          -0.1971603107328943,
          0.07969583669570494,
          -0.4428602208133918,
          0.07089102621114919,
          -0.37600353054961516,
          -0.46884978642851416,
          -0.048743223011745634,
          -0.7636810498664408,
          0.06088905528508628,
          -0.13036669741051873,
          -0.7820036153605671,
          0.020701996993628884,
          0.139558044611874,
          -0.16708141384577976,
          0.23390031727415805,
          -0.10186142324650059,
          0.08987631015834209,
          -0.038315358882681505,
          -0.04873222623080304,
          -0.010180889422718189,
          0.16591802487915114,
          -0.00690424585400176,
          0.02687245410623514,
          0.005278361160367621,
          0.43710113507907083,
          -0.049496710055364795,
          -0.3616882818011867,
          0.0625969551736124,
          -0.10910934364982375,
          0.43863611388638185,
          0.004551580921639032,
          0.011206202520097595,
          0.1283815563884207,
          -0.3129825535778347,
          0.05727144463327687,
          -0.07627094339088146,
          0.18418605144759756,
          -0.0036349804941598405,
          0.16111121236108414,
          0.7356049587345036,
          0.11682925631552318,
          -0.18061767324053252,
          0.005255667268016345,
          0.14662246590978287,
          0.24659849152673077,
          -0.14718877498759614,
          -0.06425604933979968,
          -0.38050179869263273,
          0.04934598577221759,
          0.4458913977265132,
          0.23073246600840575,
          -0.41881616002381716,
          0.3081198402770644,
          0.6247195059413481,
          0.6725920806502002,
          -0.1280542352291755,
          -0.6986349983916166,
          0.11824751415093096,
          -0.04873222623080304,
          -0.38238213809259164,
          0.25006406766301825,
          0.025844007965575184,
          1.2177276005669244,
          -0.01190343057669525,
          0.07638645700375267,
          0.21226725219125392,
          1.0149054337707588,
          -0.09117250389095011,
          -0.09082307765648233,
          -0.03398462912226921,
          -0.02183007058180094,
          0.26830437922086003,
          0.7641582339645006,
          -0.07443016826393857,
          -0.19238492887327646,
          0.0291868103727989,
          0.04225216192330035,
          -0.020960472129493746,
          0.6131959668694513,
          0.5056647566794061,
          0.47865572786369703,
          -0.053812438779916205,
          -0.6375445847132588,
          1.1550953625123046,
          0.6405095114304724,
          0.14384644751916262,
          0.2670069693110581,
          0.1989347364434936,
          2.3241488017344345,
          -0.04437736686609465,
          -0.37620337511426294,
          -0.07432418478182409,
          -0.24147748910261163,
          -0.14858040001509712,
          0.05714299211139193,
          -0.3303673575993175,
          0.8672186484342795,
          0.8594255934444732,
          0.23119775725335173,
          -0.27613520989426205,
          -0.24413337460055354,
          -0.4872566300957107,
          0.10445575612564353,
          -1.1520921491864113,
          0.17613917637388304,
          0.0758365590600007,
          -0.042511139044799265,
          0.41438595929089306,
          0.017567391891751494,
          -0.2430866213201901,
          1.9180420422694522,
          0.7725151108188096,
          -0.16574120645792323,
          0.2766313414400583,
          0.7412946428316199,
          0.05181709617091735,
          0.21244460806753043,
          0.5225860804689177,
          1.0747531460624369,
          0.36643182652129774,
          -0.14935185091404965,
          0.28245346974721613,
          -0.002409150706086261,
          0.27279774949595836,
          0.4081164973952369,
          0.20877207224234073,
          0.582143193450822,
          0.16115898558252953,
          -0.022656788638426302,
          -0.03261922524618483,
          0.24856456372727695,
          0.12345909290993853,
          -0.02739460775428849,
          0.31708562962783127,
          0.00426263695460119,
          0.14713433382468447,
          0.06476728717303,
          0.2598932320216981,
          0.22831718269909923,
          0.3630039257431222,
          0.10342939616501397,
          -0.17326688047227787,
          0.030750513825588934,
          -0.12120932998480197,
          -0.04658478394205482,
          0.02476089517582602,
          0.2660219163103522,
          0.11056844912461712,
          -0.18381162767787912,
          -0.19350543755853145,
          -0.18473667648844977,
          0.6313585516670974,
          0.3186141065729247,
          -0.13349707046295634,
          1.0377340573357954,
          -0.0067979211935515526,
          0.31189295547772367,
          0.00453012280012966,
          0.18291979015698423,
          -0.11997192225335863,
          1.0296950984945261,
          -0.17178548332001653,
          -0.1457848673638734,
          -0.025125721190696754,
          0.5281588975209944,
          -0.026969259820978565,
          1.2193633258116785,
          -0.048713311534605945,
          0.752746774697591,
          1.1410555589368865,
          0.16075381765930832,
          -0.055143897856008255,
          0.06386345227446746,
          -0.3221883992980234,
          0.00253609574101264,
          -0.05022158956147299,
          -0.23345837145233692,
          0.7031312839312933,
          -0.06934279907843625,
          0.3859634180119831,
          0.1762639168180703,
          0.11328250812890951,
          -0.19971241697690112,
          0.0013164077234963387,
          -0.4345469390616125,
          -0.05586228141085505,
          0.43606400637306214,
          0.381999385877536,
          0.7290224717336442,
          0.06281258024224166,
          0.4621587230917768,
          0.02799891626991917,
          0.22152900332084025,
          0.1189922373153447,
          0.1121330737888093,
          0.4789485143664114,
          0.31813639344278677,
          0.007863027516417726,
          0.5809791514963989,
          -0.09326298872601717,
          -0.03480195383921307,
          0.01384878915511335,
          -0.047881034721497226,
          -0.2870760235233419,
          0.15290643733294842,
          -0.03002963499567428,
          0.08918288987049956,
          0.6111104860208073,
          0.06787206047677936,
          0.21837439592248986,
          -0.3052993810211925,
          -0.10493057154660926,
          -0.15912925528675811,
          0.07818319662935908,
          0.04544575603542517,
          0.04528080154946313,
          -0.5138815230847593,
          -0.2251055031926895,
          1.2667480445564625,
          0.052999786792742046,
          -0.009334680749839324,
          0.3017797196904738,
          -0.16066286079085168,
          -0.05788212530378201,
          0.03225996378368111,
          -0.1194394314045177,
          0.0005447562038306402,
          -0.10205188449188471,
          0.06054713571396826,
          -0.5766589891559044,
          0.02291392009094918,
          -0.06172859088735659,
          -0.006473101779914867,
          -0.07999754628091647,
          -0.07772050089491923,
          0.13177643556761143,
          -0.39071921265920356,
          -0.21090927233164114,
          0.014415505197285097,
          -0.011481347901883467,
          0.4481193374412886,
          -0.051962722665554545,
          0.4655889918076349,
          -0.025319668007048875,
          -0.008752002433064449,
          -0.1507970701443641,
          0.10441221379962241,
          -0.041867837994373346,
          -0.04845866477464649,
          3.246830487434133,
          -0.30980789175100465,
          0.02684607269701679,
          0.005399724636618513,
          -0.4913137371181771,
          0.04933185095233627,
          -0.07481448729339499,
          0.20846346700441495,
          0.08192065997630135,
          0.06495144286580211,
          -0.0005877876595239191,
          0.001475113593138707,
          -0.07396967859206317,
          -0.29027233316169543,
          0.19938617699307953,
          0.21214912655664714,
          0.07281968440507201,
          -0.4886779308246075,
          0.0021340321039086557,
          -0.010702029128286123,
          -0.17921720305803238,
          0.0005052295520065366,
          0.4966877825715446,
          0.0683846746636404,
          0.4680915491380832,
          -0.16046786352016512,
          0.36237538128964925,
          0.7045064725329879,
          0.009440713642224046,
          0.45407512695241625,
          0.13141377320678496,
          -0.06662828969697224,
          0.3042605553601114,
          0.4736502933382017,
          0.14527979223749896,
          0.01812252954323651,
          0.5768337007024635,
          -0.007161639393741321,
          0.1946207246006077,
          0.34821529000756635,
          0.039442705310997285,
          0.6532311204031941,
          -0.0558598229682821,
          0.6289031219273737,
          0.28761407187508203,
          -0.040452582879200394,
          0.08734282244478915,
          0.27004299475303306,
          -0.750961461916313,
          -0.16046135765580058,
          0.05163945189087705,
          0.04204557331660063,
          0.014515328116681653,
          -0.04935023470796467,
          -0.037006678878506706,
          0.3648505379159723,
          -0.15186882261831183,
          0.41011239032991964,
          0.1360071074967045,
          0.20832471090067833,
          -0.2873322299055392,
          0.008635737689498142,
          0.21064245261375655,
          -0.2316290143098435,
          -0.28387265222601527,
          -0.26241219672400334,
          -0.20969637928841978,
          -0.11708628255482628,
          0.015397411885834138,
          0.005783519886763996,
          0.43600749751481255,
          0.004544398710246353,
          0.6348840753035219,
          0.13509422896275458,
          -0.17206843587888224,
          0.4472320618992191,
          0.020671259925116432,
          0.03228918608083178,
          -0.014905097095672,
          0.004573346352227577,
          0.06862499516306696,
          0.3044186724281305,
          0.02015712228783151,
          -0.29909981934162566,
          -0.020388170124617012,
          -0.7165196408377352,
          0.008943753310447408,
          -0.0016954308883215111,
          0.29546493787229705,
          0.5124146173493274,
          -0.22165502391542868,
          0.41047528068930506,
          0.14438880508679539,
          0.04833602892563813,
          -0.05135195995314264,
          -0.28590179735642574,
          0.20230615015586617,
          -0.0027814270668461453,
          -0.009706620001548892,
          -0.16549315982636767,
          -0.42442209648626,
          0.20389756367395354,
          -0.03288944751913919,
          -0.3722844267050339,
          -0.0275404590093962,
          0.7371415875473774,
          -0.038139399190541344,
          -0.1228462828662409,
          -6.568133078412079,
          0.08065728779824481,
          -0.2767083720129717,
          0.08732725343888387,
          -0.40193160890376056,
          -0.33503092107316146,
          -0.1691759461357224,
          -0.43886111382121984,
          -0.1228462828662409,
          -0.042764359446197074,
          -0.15912925528675811,
          -0.01138018883612725,
          0.6842020512145546,
          0.1767454405740187,
          0.022607411993632427,
          -0.161800943996821,
          -0.05453893767249828,
          -0.02509965947422171,
          0.2826636940837894,
          0.016899410311793168,
          0.3848371027597898,
          0.18638438296488186,
          0.09693134881680383,
          0.06650460954273009,
          -0.04129649520587324,
          0.1146185309943316,
          0.07102889423549084,
          0.04055655127124477,
          -0.0739342716627082,
          0.13395221849101954,
          0.21810431905443844,
          0.38772882173167195,
          0.13832774873272463,
          0.3451124676985135,
          0.6266014761268425,
          0.07180482035882846,
          -0.1623201455973444,
          -0.04630021054715322,
          -0.06718680358301231,
          0.09591798026497296,
          -0.0865595871711776,
          0.2986204796415796,
          0.22177994121412017,
          -0.3361053590599842,
          -0.006518451542779899,
          0.041665329044814,
          0.00853596120378163,
          0.1992020981489117,
          0.3946705804797939,
          -0.2674160844669249,
          0.037210716880618555,
          -0.11277758395747155,
          0.31407444664046547,
          0.01829655151491498,
          -0.15485526119070445,
          0.5261428650904755,
          -0.030757846813913182,
          0.6894144351596629,
          0.0496491788528886,
          0.019904545833641558,
          -0.002662286246657318,
          -0.052415857511792535,
          0.04714451867035351,
          0.06609336973491456,
          -0.07422558095437112,
          0.042146711256048304,
          -0.02231744488958781,
          -0.06848153406629125,
          0.0035477491018118235,
          0.059742304940156046,
          0.0413070190044897,
          0.6731944975850291,
          0.5090111712742629,
          1.1849255857415129,
          -0.5669324459573581,
          0.02109599217037111,
          0.0006508439366153309,
          0.7713531533441954,
          -0.027979287285835406,
          0.04809523057060985,
          -0.14783962890576244,
          0.12533998146882636,
          0.01460021547864496,
          0.13855652718659647,
          0.6305179536132411,
          -0.05162111779878496,
          -0.14147380026246675,
          -0.01089427844363752,
          0.1804111242288499,
          0.05727144463327687,
          0.05608973514064186,
          -0.13589709166201022,
          -0.014779659832069789,
          -0.4680313994821229,
          -0.6293568696144578,
          0.007217228155528048,
          -0.0943583756523561,
          -0.0639186750380387,
          -0.14404218149050765,
          -0.30323944609051,
          -0.002231856949894656,
          0.18763320353001559,
          -0.39080904365120034,
          -0.11146728733103356,
          -0.030233408793368718,
          -0.23436733194366285,
          -0.03728907797268553,
          -0.18333954664293134,
          -0.00651698755999633,
          -0.22045193591793097,
          -0.0016457829554895186,
          -0.0020057766928573265,
          0.2863051075617148,
          -0.06367723398682812,
          -0.3950172552678947,
          -0.3835135569234669,
          0.07108976911707957,
          -0.05438147704190142,
          -0.20884799918831412,
          0.0468450730621401,
          0.07944408365188974,
          -0.06134259885982454,
          0.09609490792691605,
          -0.39490301651908394,
          -0.13470305728851117,
          0.17659382887443353,
          -0.04318284447782256,
          0.22058275780146774,
          -1.0342205133634426,
          -0.17800597717861855,
          0.02531215111759148,
          0.024678575666648644,
          -0.010180889422718189,
          -0.03854856605487117,
          0.2913966096156733,
          0.06495144286580211,
          0.1492740825840326,
          -0.03625042383495034,
          -0.01746105433808074,
          0.06733160773548164,
          -0.07449045119128687,
          0.03315943099202702,
          -0.32276549311165426,
          0.17652560866980552,
          0.19680709620351958,
          -0.06746260740593965,
          0.9528186159050825,
          0.013822338864560232,
          -0.0466216187849751,
          0.10122343485502365,
          0.10090929027986649,
          0.0060463805139328855,
          -0.14170501966784113,
          0.2056290126818491,
          -0.04703657707986419,
          -0.039210307428475186,
          0.022130380394379215,
          -0.11157297294332745,
          0.04899562420707415,
          0.049496733283774165,
          -0.11611861133398321,
          0.0010422663605257362,
          0.010534366306729829,
          -0.0833766691022368,
          -0.013139847954193413,
          -0.02062900560494041,
          0.27097402194339976,
          0.24220061501129575,
          -0.05978275772367216,
          0.18572551888320524,
          -0.05081234620242735,
          0.18911545199994728,
          0.34970333014243604,
          0.25649531094601674,
          0.007791743834480456,
          0.015409253878327917,
          0.04662228361419335,
          0.10390615867584385,
          -0.10704326718780525,
          0.09199097596108011,
          -0.05322970689861829,
          -0.011406455253245356,
          0.181813668767794,
          -0.025157197592527526,
          0.021581167819047786,
          0.03420571102646724,
          -0.01794724782981529,
          -0.032477865488436015,
          0.07338634902100202,
          -0.5305782727594647,
          -0.11790656633105298,
          0.09699558049848149,
          0.23766685439930835,
          0.03668340520109838,
          0.18527047897175392,
          -0.086446905648892,
          0.03069489526942803,
          0.01535680112138936,
          -0.04960384428320858,
          0.2290801713782657,
          0.20856214613528734,
          -0.06079031903247586,
          0.10011022380539654,
          0.289295003106212,
          0.017553914047767752,
          0.08433195275355669,
          0.23655778652230539,
          -0.2467680014980978,
          -0.43905110175327894,
          0.03104341831363408,
          0.20619695339816937,
          0.06795209841719242,
          0.04144059385446776,
          -0.03390719532732532,
          -0.1141520389021323,
          -1.0714527466692794,
          -0.5329733188500221,
          0.16056791632575107,
          -0.04762658383901695,
          -1.1674051209388108,
          0.10008776027728768,
          -0.20625222640810364,
          -0.1329577878460445,
          0.03849888301934745,
          0.009534660644399347,
          0.004182377623875596,
          0.05742923214081078,
          -0.40958050831490034,
          -0.036387198460021745,
          0.002268872972287447,
          0.006954924894673896,
          -0.009619717815830979,
          -0.026450760731561093,
          -0.00275013412508631,
          0.03913029235246184,
          0.013591682996946314,
          0.021808340568546424,
          0.01306318206702179,
          -0.04303830807414688,
          0.0014683537887435845,
          -0.06816517245097158,
          -0.028234748735732867,
          -0.005863165386475145,
          -0.017269266374677895,
          -0.009619717815830979,
          0.01306318206702179,
          -0.040800850483937945,
          0.051640846614198925,
          -0.003420639595764107,
          -0.011030325161655908,
          -0.009243100551789764,
          -0.0018026518594639659,
          -0.0038571907724248206,
          -0.006772374270180166,
          -0.11398986727531582,
          -0.06360246171495652,
          0.20846346700441495,
          0.008635737689498142,
          0.004447655478304512,
          0.01186803891102285,
          0.08381491434938586,
          0.04085354177113414,
          -0.017269266374677895,
          -0.020061187181330466,
          0.22199117767610202,
          -0.041111176307006385,
          0.0060527312350021276,
          0.047808280470748726,
          0.23666081283530485,
          -0.5393958880430123,
          -0.0383791230132678,
          -0.05346592147760667,
          -0.036745023253900125,
          -0.04363459680227425,
          0.19815412116797396,
          -0.05231369875013486,
          0.017553914047767752,
          0.034065591324205745,
          -0.11764465210486023,
          0.13930534733394245,
          -0.05390107496118669,
          0.007217228155528048,
          0.116145926568338,
          0.02773933365109638,
          0.01119766659442311,
          -0.03132775951690209,
          0.1283815563884207,
          0.015316213912867537,
          -0.048743223011745634,
          -0.03861156580013383,
          0.014991861412548466,
          0.03951371409652336,
          -0.08076361158023831,
          0.002779310560052324,
          0.0012061766260349745,
          0.93843053716685,
          -0.023320820600576598,
          0.047089782493712526,
          -0.08436910549716861,
          -0.022397268828223137,
          -0.0003272893125139607
         ],
         "yaxis": "y"
        }
       ],
       "layout": {
        "coloraxis": {
         "colorbar": {
          "title": {
           "text": "hover"
          }
         },
         "colorscale": [
          [
           0,
           "#0d0887"
          ],
          [
           0.1111111111111111,
           "#46039f"
          ],
          [
           0.2222222222222222,
           "#7201a8"
          ],
          [
           0.3333333333333333,
           "#9c179e"
          ],
          [
           0.4444444444444444,
           "#bd3786"
          ],
          [
           0.5555555555555556,
           "#d8576b"
          ],
          [
           0.6666666666666666,
           "#ed7953"
          ],
          [
           0.7777777777777778,
           "#fb9f3a"
          ],
          [
           0.8888888888888888,
           "#fdca26"
          ],
          [
           1,
           "#f0f921"
          ]
         ]
        },
        "legend": {
         "itemsizing": "constant",
         "tracegroupgap": 0
        },
        "template": {
         "data": {
          "bar": [
           {
            "error_x": {
             "color": "#2a3f5f"
            },
            "error_y": {
             "color": "#2a3f5f"
            },
            "marker": {
             "line": {
              "color": "#E5ECF6",
              "width": 0.5
             },
             "pattern": {
              "fillmode": "overlay",
              "size": 10,
              "solidity": 0.2
             }
            },
            "type": "bar"
           }
          ],
          "barpolar": [
           {
            "marker": {
             "line": {
              "color": "#E5ECF6",
              "width": 0.5
             },
             "pattern": {
              "fillmode": "overlay",
              "size": 10,
              "solidity": 0.2
             }
            },
            "type": "barpolar"
           }
          ],
          "carpet": [
           {
            "aaxis": {
             "endlinecolor": "#2a3f5f",
             "gridcolor": "white",
             "linecolor": "white",
             "minorgridcolor": "white",
             "startlinecolor": "#2a3f5f"
            },
            "baxis": {
             "endlinecolor": "#2a3f5f",
             "gridcolor": "white",
             "linecolor": "white",
             "minorgridcolor": "white",
             "startlinecolor": "#2a3f5f"
            },
            "type": "carpet"
           }
          ],
          "choropleth": [
           {
            "colorbar": {
             "outlinewidth": 0,
             "ticks": ""
            },
            "type": "choropleth"
           }
          ],
          "contour": [
           {
            "colorbar": {
             "outlinewidth": 0,
             "ticks": ""
            },
            "colorscale": [
             [
              0,
              "#0d0887"
             ],
             [
              0.1111111111111111,
              "#46039f"
             ],
             [
              0.2222222222222222,
              "#7201a8"
             ],
             [
              0.3333333333333333,
              "#9c179e"
             ],
             [
              0.4444444444444444,
              "#bd3786"
             ],
             [
              0.5555555555555556,
              "#d8576b"
             ],
             [
              0.6666666666666666,
              "#ed7953"
             ],
             [
              0.7777777777777778,
              "#fb9f3a"
             ],
             [
              0.8888888888888888,
              "#fdca26"
             ],
             [
              1,
              "#f0f921"
             ]
            ],
            "type": "contour"
           }
          ],
          "contourcarpet": [
           {
            "colorbar": {
             "outlinewidth": 0,
             "ticks": ""
            },
            "type": "contourcarpet"
           }
          ],
          "heatmap": [
           {
            "colorbar": {
             "outlinewidth": 0,
             "ticks": ""
            },
            "colorscale": [
             [
              0,
              "#0d0887"
             ],
             [
              0.1111111111111111,
              "#46039f"
             ],
             [
              0.2222222222222222,
              "#7201a8"
             ],
             [
              0.3333333333333333,
              "#9c179e"
             ],
             [
              0.4444444444444444,
              "#bd3786"
             ],
             [
              0.5555555555555556,
              "#d8576b"
             ],
             [
              0.6666666666666666,
              "#ed7953"
             ],
             [
              0.7777777777777778,
              "#fb9f3a"
             ],
             [
              0.8888888888888888,
              "#fdca26"
             ],
             [
              1,
              "#f0f921"
             ]
            ],
            "type": "heatmap"
           }
          ],
          "heatmapgl": [
           {
            "colorbar": {
             "outlinewidth": 0,
             "ticks": ""
            },
            "colorscale": [
             [
              0,
              "#0d0887"
             ],
             [
              0.1111111111111111,
              "#46039f"
             ],
             [
              0.2222222222222222,
              "#7201a8"
             ],
             [
              0.3333333333333333,
              "#9c179e"
             ],
             [
              0.4444444444444444,
              "#bd3786"
             ],
             [
              0.5555555555555556,
              "#d8576b"
             ],
             [
              0.6666666666666666,
              "#ed7953"
             ],
             [
              0.7777777777777778,
              "#fb9f3a"
             ],
             [
              0.8888888888888888,
              "#fdca26"
             ],
             [
              1,
              "#f0f921"
             ]
            ],
            "type": "heatmapgl"
           }
          ],
          "histogram": [
           {
            "marker": {
             "pattern": {
              "fillmode": "overlay",
              "size": 10,
              "solidity": 0.2
             }
            },
            "type": "histogram"
           }
          ],
          "histogram2d": [
           {
            "colorbar": {
             "outlinewidth": 0,
             "ticks": ""
            },
            "colorscale": [
             [
              0,
              "#0d0887"
             ],
             [
              0.1111111111111111,
              "#46039f"
             ],
             [
              0.2222222222222222,
              "#7201a8"
             ],
             [
              0.3333333333333333,
              "#9c179e"
             ],
             [
              0.4444444444444444,
              "#bd3786"
             ],
             [
              0.5555555555555556,
              "#d8576b"
             ],
             [
              0.6666666666666666,
              "#ed7953"
             ],
             [
              0.7777777777777778,
              "#fb9f3a"
             ],
             [
              0.8888888888888888,
              "#fdca26"
             ],
             [
              1,
              "#f0f921"
             ]
            ],
            "type": "histogram2d"
           }
          ],
          "histogram2dcontour": [
           {
            "colorbar": {
             "outlinewidth": 0,
             "ticks": ""
            },
            "colorscale": [
             [
              0,
              "#0d0887"
             ],
             [
              0.1111111111111111,
              "#46039f"
             ],
             [
              0.2222222222222222,
              "#7201a8"
             ],
             [
              0.3333333333333333,
              "#9c179e"
             ],
             [
              0.4444444444444444,
              "#bd3786"
             ],
             [
              0.5555555555555556,
              "#d8576b"
             ],
             [
              0.6666666666666666,
              "#ed7953"
             ],
             [
              0.7777777777777778,
              "#fb9f3a"
             ],
             [
              0.8888888888888888,
              "#fdca26"
             ],
             [
              1,
              "#f0f921"
             ]
            ],
            "type": "histogram2dcontour"
           }
          ],
          "mesh3d": [
           {
            "colorbar": {
             "outlinewidth": 0,
             "ticks": ""
            },
            "type": "mesh3d"
           }
          ],
          "parcoords": [
           {
            "line": {
             "colorbar": {
              "outlinewidth": 0,
              "ticks": ""
             }
            },
            "type": "parcoords"
           }
          ],
          "pie": [
           {
            "automargin": true,
            "type": "pie"
           }
          ],
          "scatter": [
           {
            "fillpattern": {
             "fillmode": "overlay",
             "size": 10,
             "solidity": 0.2
            },
            "type": "scatter"
           }
          ],
          "scatter3d": [
           {
            "line": {
             "colorbar": {
              "outlinewidth": 0,
              "ticks": ""
             }
            },
            "marker": {
             "colorbar": {
              "outlinewidth": 0,
              "ticks": ""
             }
            },
            "type": "scatter3d"
           }
          ],
          "scattercarpet": [
           {
            "marker": {
             "colorbar": {
              "outlinewidth": 0,
              "ticks": ""
             }
            },
            "type": "scattercarpet"
           }
          ],
          "scattergeo": [
           {
            "marker": {
             "colorbar": {
              "outlinewidth": 0,
              "ticks": ""
             }
            },
            "type": "scattergeo"
           }
          ],
          "scattergl": [
           {
            "marker": {
             "colorbar": {
              "outlinewidth": 0,
              "ticks": ""
             }
            },
            "type": "scattergl"
           }
          ],
          "scattermapbox": [
           {
            "marker": {
             "colorbar": {
              "outlinewidth": 0,
              "ticks": ""
             }
            },
            "type": "scattermapbox"
           }
          ],
          "scatterpolar": [
           {
            "marker": {
             "colorbar": {
              "outlinewidth": 0,
              "ticks": ""
             }
            },
            "type": "scatterpolar"
           }
          ],
          "scatterpolargl": [
           {
            "marker": {
             "colorbar": {
              "outlinewidth": 0,
              "ticks": ""
             }
            },
            "type": "scatterpolargl"
           }
          ],
          "scatterternary": [
           {
            "marker": {
             "colorbar": {
              "outlinewidth": 0,
              "ticks": ""
             }
            },
            "type": "scatterternary"
           }
          ],
          "surface": [
           {
            "colorbar": {
             "outlinewidth": 0,
             "ticks": ""
            },
            "colorscale": [
             [
              0,
              "#0d0887"
             ],
             [
              0.1111111111111111,
              "#46039f"
             ],
             [
              0.2222222222222222,
              "#7201a8"
             ],
             [
              0.3333333333333333,
              "#9c179e"
             ],
             [
              0.4444444444444444,
              "#bd3786"
             ],
             [
              0.5555555555555556,
              "#d8576b"
             ],
             [
              0.6666666666666666,
              "#ed7953"
             ],
             [
              0.7777777777777778,
              "#fb9f3a"
             ],
             [
              0.8888888888888888,
              "#fdca26"
             ],
             [
              1,
              "#f0f921"
             ]
            ],
            "type": "surface"
           }
          ],
          "table": [
           {
            "cells": {
             "fill": {
              "color": "#EBF0F8"
             },
             "line": {
              "color": "white"
             }
            },
            "header": {
             "fill": {
              "color": "#C8D4E3"
             },
             "line": {
              "color": "white"
             }
            },
            "type": "table"
           }
          ]
         },
         "layout": {
          "annotationdefaults": {
           "arrowcolor": "#2a3f5f",
           "arrowhead": 0,
           "arrowwidth": 1
          },
          "autotypenumbers": "strict",
          "coloraxis": {
           "colorbar": {
            "outlinewidth": 0,
            "ticks": ""
           }
          },
          "colorscale": {
           "diverging": [
            [
             0,
             "#8e0152"
            ],
            [
             0.1,
             "#c51b7d"
            ],
            [
             0.2,
             "#de77ae"
            ],
            [
             0.3,
             "#f1b6da"
            ],
            [
             0.4,
             "#fde0ef"
            ],
            [
             0.5,
             "#f7f7f7"
            ],
            [
             0.6,
             "#e6f5d0"
            ],
            [
             0.7,
             "#b8e186"
            ],
            [
             0.8,
             "#7fbc41"
            ],
            [
             0.9,
             "#4d9221"
            ],
            [
             1,
             "#276419"
            ]
           ],
           "sequential": [
            [
             0,
             "#0d0887"
            ],
            [
             0.1111111111111111,
             "#46039f"
            ],
            [
             0.2222222222222222,
             "#7201a8"
            ],
            [
             0.3333333333333333,
             "#9c179e"
            ],
            [
             0.4444444444444444,
             "#bd3786"
            ],
            [
             0.5555555555555556,
             "#d8576b"
            ],
            [
             0.6666666666666666,
             "#ed7953"
            ],
            [
             0.7777777777777778,
             "#fb9f3a"
            ],
            [
             0.8888888888888888,
             "#fdca26"
            ],
            [
             1,
             "#f0f921"
            ]
           ],
           "sequentialminus": [
            [
             0,
             "#0d0887"
            ],
            [
             0.1111111111111111,
             "#46039f"
            ],
            [
             0.2222222222222222,
             "#7201a8"
            ],
            [
             0.3333333333333333,
             "#9c179e"
            ],
            [
             0.4444444444444444,
             "#bd3786"
            ],
            [
             0.5555555555555556,
             "#d8576b"
            ],
            [
             0.6666666666666666,
             "#ed7953"
            ],
            [
             0.7777777777777778,
             "#fb9f3a"
            ],
            [
             0.8888888888888888,
             "#fdca26"
            ],
            [
             1,
             "#f0f921"
            ]
           ]
          },
          "colorway": [
           "#636efa",
           "#EF553B",
           "#00cc96",
           "#ab63fa",
           "#FFA15A",
           "#19d3f3",
           "#FF6692",
           "#B6E880",
           "#FF97FF",
           "#FECB52"
          ],
          "font": {
           "color": "#2a3f5f"
          },
          "geo": {
           "bgcolor": "white",
           "lakecolor": "white",
           "landcolor": "#E5ECF6",
           "showlakes": true,
           "showland": true,
           "subunitcolor": "white"
          },
          "hoverlabel": {
           "align": "left"
          },
          "hovermode": "closest",
          "mapbox": {
           "style": "light"
          },
          "paper_bgcolor": "white",
          "plot_bgcolor": "#E5ECF6",
          "polar": {
           "angularaxis": {
            "gridcolor": "white",
            "linecolor": "white",
            "ticks": ""
           },
           "bgcolor": "#E5ECF6",
           "radialaxis": {
            "gridcolor": "white",
            "linecolor": "white",
            "ticks": ""
           }
          },
          "scene": {
           "xaxis": {
            "backgroundcolor": "#E5ECF6",
            "gridcolor": "white",
            "gridwidth": 2,
            "linecolor": "white",
            "showbackground": true,
            "ticks": "",
            "zerolinecolor": "white"
           },
           "yaxis": {
            "backgroundcolor": "#E5ECF6",
            "gridcolor": "white",
            "gridwidth": 2,
            "linecolor": "white",
            "showbackground": true,
            "ticks": "",
            "zerolinecolor": "white"
           },
           "zaxis": {
            "backgroundcolor": "#E5ECF6",
            "gridcolor": "white",
            "gridwidth": 2,
            "linecolor": "white",
            "showbackground": true,
            "ticks": "",
            "zerolinecolor": "white"
           }
          },
          "shapedefaults": {
           "line": {
            "color": "#2a3f5f"
           }
          },
          "ternary": {
           "aaxis": {
            "gridcolor": "white",
            "linecolor": "white",
            "ticks": ""
           },
           "baxis": {
            "gridcolor": "white",
            "linecolor": "white",
            "ticks": ""
           },
           "bgcolor": "#E5ECF6",
           "caxis": {
            "gridcolor": "white",
            "linecolor": "white",
            "ticks": ""
           }
          },
          "title": {
           "x": 0.05
          },
          "xaxis": {
           "automargin": true,
           "gridcolor": "white",
           "linecolor": "white",
           "ticks": "",
           "title": {
            "standoff": 15
           },
           "zerolinecolor": "white",
           "zerolinewidth": 2
          },
          "yaxis": {
           "automargin": true,
           "gridcolor": "white",
           "linecolor": "white",
           "ticks": "",
           "title": {
            "standoff": 15
           },
           "zerolinecolor": "white",
           "zerolinewidth": 2
          }
         }
        },
        "title": {
         "text": "bpm"
        },
        "xaxis": {
         "anchor": "y",
         "domain": [
          0,
          1
         ],
         "title": {
          "text": "x"
         }
        },
        "yaxis": {
         "anchor": "x",
         "domain": [
          0,
          1
         ],
         "title": {
          "text": "y"
         }
        }
       }
      },
      "text/html": [
       "<div>                            <div id=\"b22d8238-71ef-4822-91db-49541ab428d5\" class=\"plotly-graph-div\" style=\"height:525px; width:100%;\"></div>            <script type=\"text/javascript\">                require([\"plotly\"], function(Plotly) {                    window.PLOTLYENV=window.PLOTLYENV || {};                                    if (document.getElementById(\"b22d8238-71ef-4822-91db-49541ab428d5\")) {                    Plotly.newPlot(                        \"b22d8238-71ef-4822-91db-49541ab428d5\",                        [{\"customdata\":[[1.0,37.94441109482831,\"Byron Scott\"],[-1.8142857142857143,33.98196300280209,\"Grant Long\"],[-5.166666666666667,25.536368400990575,\"Dan Schayes\"],[-2.8,18.3061009866474,\"Sedale Threatt\"],[-10.3,6.397525563320032,\"Chris King\"],[-0.35833333333333334,32.426095458236496,\"Eric Piatkowski\"],[4.1,48.71035995213611,\"Clyde Drexler\"],[1.25,35.618616387127304,\"Greg Anthony\"],[-0.09999999999999998,41.00270316292165,\"Rik Smits\"],[-1.25,38.259339818315375,\"Dennis Rodman\"],[-3.22,34.14050868591934,\"Luc Longley\"],[-4.0200000000000005,27.058867924089746,\"Doug West\"],[-3.1399999999999997,28.975466634148734,\"Jim McIlvaine\"],[-1.0999999999999999,12.299999999999999,\"Lorenzo Williams\"],[-8.6,19.54938191691321,\"Clifford Rozier\"],[-3.6500000000000004,20.922037822991026,\"Eric Riley\"],[-4.8,15.997603987264249,\"Sarunas Marciulionis\"],[-6.7,11.16751240578373,\"Greg Graham\"],[-6.1,8.54858662781944,\"Brad Lohaus\"],[-4.071428571428571,31.489034372528582,\"Monty Williams\"],[0.03750000000000002,33.900602256203854,\"Chris Whitney\"],[-0.6166666666666667,40.630902989938335,\"George McCloud\"],[-8.3,27.903583999192648,\"Wayman Tisdale\"],[-33.0,26.537080974867347,\"Gheorghe Muresan\"],[-2.766666666666667,32.412163354724306,\"Mahmoud Abdul-Rauf\"],[-7.6000000000000005,9.383806974428529,\"Micheal Williams\"],[0.58,44.031871032999085,\"Mario Elie\"],[-0.9399999999999998,28.046104898898147,\"Dickey Simpkins\"],[-6.9,21.593411417991987,\"Marty Conlon\"],[2.963636363636364,52.86299903208923,\"Gary Payton\"],[0.5636363636363636,45.84345397902816,\"Doug Christie\"],[-5.3999999999999995,29.735155026406797,\"Carl Herrera\"],[-0.11999999999999997,38.544355401710014,\"Michael Smith\"],[1.4,37.580070072668384,\"Sam Perkins\"],[-2.1333333333333333,28.5180352291902,\"Greg Minor\"],[-7.1,28.343741225650973,\"Tom Hammonds\"],[0.27142857142857146,30.122357619738658,\"Steve Kerr\"],[-3.2000000000000006,28.59585245761663,\"Pooh Richardson\"],[-0.2666666666666666,40.289241280557306,\"Kenny Anderson\"],[-0.6,35.947075294413345,\"Hot Rod Williams\"],[-0.54,32.839737108164165,\"Cedric Ceballos\"],[-4.942857142857143,21.47617727800249,\"Doug Overton\"],[-10.1,11.748475078352381,\"LaSalle Thompson\"],[-9.2,14.868871286460617,\"Ken Norman\"],[-6.45,13.25138357556171,\"Jeff Grayer\"],[-5.55,20.94134666156883,\"Bill Wennington\"],[0.2555555555555556,50.725006617015794,\"Latrell Sprewell\"],[-3.0833333333333335,22.656321168470583,\"Brent Price\"],[0.7230769230769231,41.50649315901038,\"Dikembe Mutombo\"],[-9.3,5.211205874523352,\"Steve Scheffler\"],[0.3,45.635799178568874,\"Nick Van Exel\"],[-3.2625,34.501772297472876,\"Hubert Davis\"],[-4.928571428571429,27.869278187040763,\"Mark Bryant\"],[1.2399999999999998,41.85274582788248,\"Detlef Schrempf\"],[-0.11666666666666685,36.35840113829721,\"Nick Anderson\"],[-6.825,15.150096259320161,\"Tim Legler\"],[-0.42500000000000004,30.14248109672901,\"Todd Day\"],[-6.65,8.447484832777146,\"Benoit Benjamin\"],[1.5666666666666667,40.029804868095205,\"Dan Majerle\"],[-0.95,40.879614928062466,\"Dale Ellis\"],[1.9749999999999999,38.39300609051949,\"Robert Horry\"],[-1.7714285714285716,39.35241869495263,\"LaPhonso Ellis\"],[-12.549999999999999,16.938171880892767,\"Dontonio Wingfield\"],[0.1,15.326284611738098,\"David Wood\"],[1.088888888888889,43.62818490974062,\"Steven Smith\"],[0.3999999999999999,40.97179585465538,\"Patrick Ewing\"],[-7.1,6.359769387852574,\"Fred Roberts\"],[-2.325,25.917609843502166,\"Robert Pack\"],[1.6555555555555554,45.26582187069655,\"Vlade Divac\"],[-3.3,27.99538652468775,\"David Benoit\"],[-2.8,29.556725123057866,\"Dino Radja\"],[-0.41818181818181815,48.8524215460103,\"David Wesley\"],[3.1,36.787180738222744,\"Kevin Johnson\"],[-0.18333333333333335,46.97627651863816,\"P.J. Brown\"],[-2.52,32.76137461503513,\"Vernon Maxwell\"],[-9.9,14.52876457239225,\"Anthony Avent\"],[-4.15,24.34043275430136,\"Donald Royal\"],[-3.466666666666667,30.288474155471526,\"Terry Dehere\"],[-2.2625,31.25664262734137,\"Tracy Murray\"],[0.03333333333333329,27.176690379808953,\"Jud Buechler\"],[-0.23636363636363636,46.723491917553616,\"Jalen Rose\"],[-6.25,16.945869703263973,\"Adrian Caldwell\"],[-4.425,27.00246902291219,\"Antoine Carr\"],[-0.9333333333333332,41.20345185108213,\"Derek Harper\"],[-0.3,5.367028973277487,\"Tim Breaux\"],[-1.7857142857142858,38.150890896419114,\"Chris Childs\"],[2.0833333333333335,41.29385883854618,\"Hakeem Olajuwon\"],[1.3599999999999999,40.77229451478048,\"Ron Harper\"],[-0.9714285714285715,36.62618761279446,\"Chris Mills\"],[-5.55,20.289960571671898,\"Joe Kleine\"],[-1.8666666666666665,30.895217177492754,\"Keith Askins\"],[-6.9,16.712221077203747,\"Alton Lister\"],[-2.88,7.923172765165904,\"Antonio Harvey\"],[-1.44,34.427024268734,\"Muggsy Bogues\"],[-5.266666666666667,39.32089139376166,\"Olden Polynice\"],[-1.6833333333333336,35.503423152641986,\"Bryant Stith\"],[-2.557142857142857,22.69343307571388,\"John Crotty\"],[-2.3,27.608422627886586,\"Kenny Smith\"],[-1.7399999999999998,37.1327393728679,\"Billy Owens\"],[-1.9666666666666668,36.23587847546807,\"Bison Dele\"],[0.42500000000000004,40.822874510907894,\"Bobby Phills\"],[2.65,46.358265174615845,\"Chris Webber\"],[-2.025,29.23401272490657,\"Terry Cummings\"],[-4.74,18.24637863613856,\"Duane Causwell\"],[-1.2750000000000001,40.17310978751833,\"Dennis Scott\"],[1.0833333333333333,54.67786978700289,\"Anthony Mason\"],[0.4,14.881588176893857,\"Anthony Bowie\"],[-4.366666666666667,36.15247801557544,\"Lee Mayberry\"],[0.45999999999999996,28.70680523267379,\"Scott Burrell\"],[-1.1857142857142857,36.125683384539606,\"Danny Ferry\"],[-2.3,14.125449845344148,\"Reggie Williams\"],[-4.871428571428571,26.167418854824213,\"Chris Dudley\"],[0.7999999999999996,12.448440330686676,\"Gary Grant\"],[3.0,23.213789005675054,\"Nate McMillan\"],[3.25,46.425029168901254,\"Jeff Hornacek\"],[2.1,45.77070721420951,\"Sam Cassell\"],[0.6666666666666666,33.80147925757098,\"Dell Curry\"],[4.1499999999999995,45.18124918345859,\"Terrell Brandon\"],[-8.4,17.462579038236793,\"Eric Mobley\"],[-9.05,13.673148869225402,\"Yinka Dare\"],[-1.51,46.100124728681585,\"Antonio Davis\"],[-4.285714285714286,33.819035214759495,\"Brian Shaw\"],[-3.5,34.631596844500265,\"Vinny Del Negro\"],[-0.27777777777777785,41.96817356750936,\"Clar. Weatherspoon\"],[-5.5,15.966279570812153,\"Bill Curley\"],[2.9499999999999997,48.82125703921283,\"Eddie Jones\"],[-3.85,15.624166644443259,\"Antonio Lang\"],[-1.9,31.80134169077358,\"Adam Keefe\"],[-3.825,29.758927232008872,\"Khalid Reeves\"],[-3.6999999999999997,23.024552112907646,\"Kevin Edwards\"],[-2.5125,39.49020975718749,\"Tyrone Hill\"],[-4.445454545454545,25.604376401488306,\"Darrick Martin\"],[-1.5499999999999998,24.731525091132806,\"Brooks Thompson\"],[-3.2,11.656328753085168,\"Darrin Hancock\"],[-0.045454545454545456,38.23666929516586,\"Aaron McKie\"],[-2.6666666666666665,27.4476117155735,\"Dee Brown\"],[-3.45,32.08236795084389,\"Greg Anderson\"],[1.4333333333333333,46.08110603417996,\"Joe Dumars\"],[-0.5,39.36275029912305,\"George Lynch\"],[-0.96,33.27997896633953,\"Sean Elliott\"],[5.8875,51.29496807680067,\"Karl Malone\"],[2.15625,42.45568768335601,\"Grant Hill\"],[-1.56,40.9217281322934,\"Brian Grant\"],[-0.23333333333333336,29.922046869973464,\"Michael Cage\"],[-2.433333333333333,33.12680183778688,\"Harvey Grant\"],[0.4125,43.92098729536938,\"Horace Grant\"],[-2.4833333333333334,40.260623166783915,\"Johnny Newman\"],[-5.733333333333333,23.205566860849025,\"Duane Ferrell\"],[0.022222222222222216,49.131631585183705,\"Allan Houston\"],[-1.19,31.247914597084183,\"Stacey Augmon\"],[-2.25,10.435516278555644,\"Charles Jones\"],[-5.45,22.50775792180703,\"Felton Spencer\"],[-4.177777777777778,28.323524445891906,\"Scott Williams\"],[-1.4857142857142858,35.84007467041542,\"Lindsey Hunter\"],[-11.3,11.421106192776032,\"Eric Leckner\"],[-1.325,37.494799639416655,\"Armen Gilliam\"],[-1.7,23.38478850307039,\"Ledell Eackles\"],[-1.7,16.424778029956236,\"Ed Pinckney\"],[-4.9,12.83600621515725,\"Anthony Miller\"],[-3.6,18.11817687664333,\"Charles Smith\"],[-0.5874999999999999,43.8525512370717,\"Rick Fox\"],[1.5,37.78117215885407,\"Alonzo Mourning\"],[0.30000000000000004,46.1223895176173,\"Glenn Robinson\"],[2.1166666666666667,46.411241454343056,\"Mookie Blaylock\"],[5.985714285714286,47.55636755722724,\"John Stockton\"],[-2.7,20.160109126688774,\"Robert Parish\"],[-21.6,3.255764119219941,\"Derrick Alston\"],[-4.9,27.423469267520957,\"Bobby Hurley\"],[-8.9,14.182030884185805,\"Richard Manning\"],[-1.0833333333333333,41.16751686031651,\"John Starks\"],[-1.9500000000000002,13.36902514521285,\"Jamie Watson\"],[-6.457142857142857,25.513567819047637,\"Greg Foster\"],[-0.6222222222222222,40.41573767546314,\"Anthony Peeler\"],[-5.966666666666666,18.73268089018049,\"Rick Mahorn\"],[0.3428571428571429,34.38282032255837,\"Danny Manning\"],[-0.3,30.88133200926843,\"Kevin Gamble\"],[0.9,17.339069563656896,\"Willie Anderson\"],[-0.3333333333333333,37.36062742355222,\"Tom Gugliotta\"],[-10.733333333333334,19.635370579079424,\"Joe Wolf\"],[-0.3571428571428572,30.17496597228522,\"Dana Barros\"],[2.15,39.389038943453414,\"Terry Porter\"],[-2.9,18.601505315430796,\"Mitchell Butler\"],[0.9625,44.7520530255317,\"Mark Jackson\"],[-7.3,10.124804524862048,\"Stacey King\"],[1.375,40.692188029972876,\"Darrell Armstrong\"],[-2.0,25.360500783699045,\"Vincent Askew\"],[-1.2333333333333334,26.137085189864273,\"Chris Morris\"],[0.29090909090909095,36.66294678100309,\"Anfernee Hardaway\"],[-2.783333333333333,27.930543814572903,\"Chucky Brown\"],[-0.09090909090909091,48.44029283248574,\"Clifford Robinson\"],[1.0666666666666667,41.141434012350516,\"Christian Laettner\"],[-1.0750000000000002,39.496102128353535,\"Rex Chapman\"],[-0.3333333333333333,30.02887036762381,\"Derrick McKey\"],[-8.55,9.521466973808895,\"Dwayne Schintzius\"],[1.9222222222222223,38.385628579997004,\"Charlie Ward\"],[-3.28,30.86812271583744,\"Terry Mills\"],[-1.1500000000000001,41.24327554617573,\"Isaiah Rider\"],[-5.7,28.069690058851748,\"Eric Montross\"],[-3.2,29.1674476085927,\"Craig Ehlo\"],[-4.8,21.970282959792126,\"Tony Smith\"],[-3.1,27.841403520656083,\"James Robinson\"],[-0.8444444444444444,42.12172176495691,\"Kendall Gill\"],[-3.45,39.27663003194987,\"Calbert Cheaney\"],[-2.65,28.849094921293087,\"Elliot Perry\"],[2.2600000000000002,39.64386669671197,\"Toni Kukoc\"],[-1.0,42.29858153650073,\"Sasha Danilovic\"],[0.47777777777777786,41.97943720618642,\"Rod Strickland\"],[3.211111111111111,50.67991237678414,\"Reggie Miller\"],[-3.8875,28.91228473042788,\"Sean Rooks\"],[-2.48,31.576320241598744,\"Derek Strong\"],[-5.7,19.582049603314434,\"Kevin Duckworth\"],[4.406666666666666,45.28017471501432,\"Shaquille O'Neal\"],[-7.3500000000000005,22.966805756714734,\"Sharone Wright\"],[-4.866666666666666,12.13074606114562,\"Willie Burton\"],[-2.533333333333333,37.78579245048475,\"Sam Mitchell\"],[2.05,16.709029495056466,\"Scott Brooks\"],[-1.6333333333333335,39.97450576443829,\"Jayson Williams\"],[-0.9375,40.46502862555106,\"Avery Johnson\"],[-2.1166666666666667,35.84846967135106,\"Chris Gatling\"],[-3.533333333333333,28.93888195644206,\"Terry Davis\"],[-1.46,35.36250368210184,\"Sherman Douglas\"],[-1.3142857142857143,43.80895483584976,\"Shawn Kemp\"],[-1.5499999999999998,29.094472556369407,\"Pete Chilcutt\"],[-0.5499999999999999,33.47022308460664,\"Buck Williams\"],[-6.8,12.744900941160743,\"Tony Dumas\"],[0.8666666666666667,24.482368939481496,\"Carlos Rogers\"],[-2.923529411764706,42.71518993262693,\"Juwan Howard\"],[-7.9,5.5458693337173655,\"Robert Werdann\"],[-3.95,22.845586736464735,\"Zan Tabak\"],[-1.1222222222222222,39.589752695849455,\"Lamond Murray\"],[-3.95,14.823531405617668,\"Pervis Ellison\"],[0.8111111111111111,42.59211585884567,\"Wesley Person\"],[-1.3444444444444443,36.23759557880922,\"Lucious Harris\"],[0.8250000000000001,37.90789825353022,\"Bo Outlaw\"],[-3.06,40.62720558115378,\"Vin Baker\"],[-3.0,30.456845608901215,\"Chuck Person\"],[-3.2,25.10276379206084,\"Andrew Lang\"],[-1.8800000000000001,38.07971682317678,\"Howard Eisley\"],[-5.15,27.624117632967025,\"Popeye Jones\"],[-1.6,26.365096876995036,\"J.R. Reid\"],[3.994117647058824,51.12957491875469,\"Jason Kidd\"],[1.7599999999999998,32.80359228295991,\"Jon Barry\"],[0.43750000000000006,45.01946569725885,\"Jamal Mashburn\"],[-3.7,20.667405900757526,\"Melvin Booker\"],[-6.3,12.399932795516797,\"Donnie Boyce\"],[-0.6333333333333334,28.864573634666957,\"Matt Bullard\"],[-1.3454545454545455,33.52504491217924,\"Alan Henderson\"],[-0.050000000000000044,16.967382925287374,\"Reggie Jordan\"],[-4.0,16.54937058219034,\"Thomas Hamilton\"],[-2.5545454545454547,36.00249149627555,\"Eric Williams\"],[-9.45,14.798564119535387,\"George Zidek\"],[-3.742857142857143,34.85385474343106,\"Jason Caffey\"],[-6.199999999999999,33.38130714436848,\"John Amaechi\"],[-11.65,13.358081199533608,\"Donny Marshall\"],[0.04444444444444451,40.073799975101494,\"Bob Sura\"],[-12.649999999999999,19.656847831396234,\"Loren Meyer\"],[-2.35,28.674131779939433,\"Cherokee Parks\"],[0.11428571428571432,42.91079895162368,\"Antonio McDyess\"],[-3.3555555555555556,37.084043688577104,\"Michael Curry\"],[-0.7200000000000001,35.77245371014468,\"Theo Ratliff\"],[-6.214285714285714,24.989540669190838,\"Don Reid\"],[-11.5,10.362030045636184,\"Lou Roe\"],[-3.566666666666667,32.72637966420858,\"Andrew DeClercq\"],[-2.306666666666666,40.182457476974804,\"Joe Smith\"],[-2.68,27.920995684251665,\"Sam Mack\"],[-2.533333333333333,25.269579867236963,\"Eldridge Recasner\"],[-0.6000000000000001,40.249469745759576,\"Travis Best\"],[0.3888888888888889,33.13811724909571,\"Fred Hoiberg\"],[-6.3,28.40328619485194,\"Eddie Johnson\"],[2.353846153846154,40.905435034780105,\"Brent Barry\"],[-7.4,8.525354342586981,\"Keith Tower\"],[-1.3,7.712003630704539,\"Frankie King\"],[-0.47000000000000003,38.77197871315486,\"Voshon Lenard\"],[-1.8352941176470587,38.73300765952653,\"Kurt Thomas\"],[-2.2,22.360853690719807,\"Shawn Respert\"],[-2.6,30.723823546774465,\"Jerome Allen\"],[-6.174999999999999,27.9046441773886,\"Mark Davis\"],[5.1049999999999995,49.051007465018834,\"Kevin Garnett\"],[-3.6,28.399882628865438,\"Ed O'Bannon\"],[-5.266666666666667,17.203875532371576,\"David Vaughn\"],[-1.0999999999999999,40.24014189348544,\"Jerry Stackhouse\"],[-15.600000000000001,11.203967551224387,\"Mario Bennett\"],[-2.46,27.947057090148153,\"Chris Carr\"],[0.8714285714285713,49.8622519213349,\"Michael Finley\"],[-9.05,8.111257609027097,\"John Coker\"],[-3.1,22.379827226023597,\"Rumeal Robinson\"],[3.9,40.046906525001674,\"Arvydas Sabonis\"],[-1.4375,32.868329488024386,\"Gary Trent\"],[-6.2,12.311986029881613,\"Randolph Childress\"],[-0.5,27.445926635639196,\"Tyus Edney\"],[-2.190909090909091,40.617002709344625,\"Corliss Williamson\"],[-2.5500000000000003,26.673931302136754,\"Cory Alexander\"],[-4.2,3.043298648944377,\"Dell Demps\"],[-1.4166666666666667,43.53635932566402,\"Eric Snow\"],[2.2,4.6565366242877655,\"Jimmy King\"],[-1.0,7.085195833567341,\"Martin Lewis\"],[-0.74,37.53995427097197,\"Greg Ostertag\"],[-7.1,12.043116983018432,\"Ashraf Amaya\"],[-28.9,3.610170817749944,\"Cuonzo Martin\"],[-8.85,24.927712156018952,\"Lawrence Moten\"],[-3.8200000000000003,43.82248281419027,\"Bryant Reeves\"],[-17.4,2.247220505424423,\"Bob McCann\"],[2.08,47.94478073784465,\"Rasheed Wallace\"],[-1.4142857142857141,30.42278672937363,\"Randy Brown\"],[-1.48,45.0223426015721,\"Jim Jackson\"],[-0.08333333333333333,46.77576087628672,\"Damon Stoudamire\"],[-1.16,30.78736753930092,\"Jerome Kersey\"],[-3.483333333333333,32.67738769648927,\"Matt Geiger\"],[0.4666666666666667,38.64871709815647,\"Shawn Bradley\"],[-4.688888888888889,30.607430712407307,\"Tony Massenburg\"],[5.442857142857143,43.19956459216206,\"David Robinson\"],[1.94,43.12519371937166,\"Hersey Hawkins\"],[-1.3799999999999997,17.909950679254624,\"David Wingate\"],[-4.5,22.3638473136146,\"Acie Earl\"],[-1.7999999999999998,26.4184042541054,\"B.J. Armstrong\"],[-4.425,20.517330073216964,\"Mark West\"],[-11.1,2.3416518386244634,\"Elmore Spencer\"],[-2.4000000000000004,23.31104888245057,\"Rex Walters\"],[-0.6000000000000001,42.98235345270584,\"Glen Rice\"],[-0.76,31.395790588336318,\"Will Perdue\"],[0.9833333333333334,44.592248329851124,\"Mitch Richmond\"],[-5.6,15.99510341740037,\"Frank Brickowski\"],[1.075,25.523371642477002,\"Eric Murdock\"],[-9.733333333333334,34.077395570801585,\"Gerald Wilkins\"],[3.75,39.98890992096019,\"Charles Barkley\"],[-3.9899999999999998,34.1773804340434,\"Kevin Willis\"],[-1.95,42.35762180529025,\"Charles Oakley\"],[-11.4,5.848931526355904,\"Spud Webb\"],[5.15,53.40698300160132,\"Michael Jordan\"],[-1.75,29.09915519965024,\"Ricky Pierce\"],[-3.3600000000000003,37.761046948762775,\"Tyrone Corbin\"],[2.7714285714285714,44.63775361304651,\"Tim Hardaway\"],[-1.7,35.07046082135534,\"Blue Edwards\"],[0.39999999999999997,40.62031511448428,\"Mark Price\"],[-19.0,2.7769887768348416,\"Matt Fish\"],[-2.38,39.55249676063448,\"Otis Thorpe\"],[-3.9875,32.02694503591205,\"Bimbo Coles\"],[2.6,37.523490420446386,\"Chris Mullin\"],[-0.036363636363636334,41.326251837168726,\"Dale Davis\"],[-0.9666666666666667,20.349542719404997,\"Haywoode Workman\"],[-1.075,42.487493257820375,\"Malik Sealy\"],[-2.5200000000000005,37.80262116132511,\"Ervin Johnson\"],[-4.4,18.78128501106,\"Rafael Addison\"],[0.74,47.023958432555084,\"Larry Johnson\"],[-7.0,21.177946469539172,\"Stanley Roberts\"],[-0.36666666666666664,42.655302305983184,\"Rodney Rogers\"],[-2.675,30.864353765036686,\"Corie Blount\"],[-7.8,7.932633022311485,\"Jack Haley\"],[-3.9799999999999995,29.72648650614464,\"Loy Vaught\"],[-1.5,43.370873482864816,\"A.C. Green\"],[-1.1777777777777778,40.754036382688305,\"Elden Campbell\"],[1.6076923076923075,41.15496511778565,\"Donyell Marshall\"],[-3.3714285714285714,24.857594412975686,\"Anthony Goldwire\"],[-20.4,3.5331760971303567,\"Sean Higgins\"],[-2.9,17.449259774175722,\"John Salley\"],[-2.9,15.43005724767951,\"Tracy Moore\"],[-6.08,16.476285989263484,\"Don MacLean\"],[-1.94,29.700218854412494,\"Oliver Miller\"],[-1.1333333333333333,38.24266814262136,\"Derrick Coleman\"],[1.14,41.527448753806205,\"Bryon Russell\"],[2.725,44.671423098740284,\"Scottie Pippen\"],[-4.766666666666667,38.05206958891985,\"Rony Seikaly\"],[3.0,6.2496666577773015,\"Pete Myers\"],[-5.9,6.71614969060895,\"Earl Cureton\"],[-9.0,4.5661800227323495,\"Ennis Whatley\"],[2.9,51.81892120874475,\"Allen Iverson\"],[1.788235294117647,41.080787217766066,\"Marcus Camby\"],[0.2583333333333333,49.06116647161537,\"Shareef Abdur-Rahim\"],[1.1153846153846154,49.54650237338553,\"Stephon Marbury\"],[2.7944444444444443,50.7526946921887,\"Ray Allen\"],[-0.03333333333333336,51.27117584200914,\"Antoine Walker\"],[-3.3461538461538463,37.760597086217956,\"Lorenzen Wright\"],[1.8125,46.01960180184091,\"Kerry Kittles\"],[-4.3,27.597937724885657,\"Samaki Walker\"],[-1.94375,38.73171477183351,\"Erick Dampier\"],[-6.04,22.35528274629213,\"Todd Fuller\"],[-6.363636363636363,32.4844508258112,\"Vitaly Potapenko\"],[2.088888888888889,45.99157028235757,\"Steve Nash\"],[-0.42000000000000004,34.21988944069418,\"Tony Delk\"],[-2.585714285714286,29.59508887829678,\"John Wallace\"],[-2.54,32.194577700807535,\"Walter McCarty\"],[-10.9,9.594616546098479,\"Dontae' Jones\"],[-4.766666666666667,27.76029338621782,\"Roy Rogers\"],[-1.0666666666666667,42.630123239411446,\"Derek Fisher\"],[-0.022222222222222216,37.6137509331263,\"Jerome Williams\"],[0.09999999999999994,19.08582953106542,\"Brian Evans\"],[-8.15,16.228447245500725,\"Priest Lauderdale\"],[-4.257142857142857,25.547048100840676,\"Travis Knight\"],[-4.283333333333333,34.06491760023955,\"Othella Harrington\"],[-3.25,19.366917669056168,\"Mark Hendrickson\"],[-2.5636363636363635,38.067014274271315,\"Jeff McInnis\"],[3.5799999999999996,49.32001959988797,\"Kobe Bryant\"],[1.7000000000000002,45.554617824411665,\"Peja Stojakovic\"],[-0.7333333333333334,38.99352272897147,\"Jermaine O'Neal\"],[-0.6230769230769231,42.03228460026826,\"Zydrunas Ilgauskas\"],[-3.8,11.974208394155625,\"Efthimios Rentzias\"],[-1.65,21.836628250106127,\"Martin Muursepp\"],[-2.4555555555555557,29.10788043990327,\"Moochie Norris\"],[-6.5,16.331003235155734,\"Steve Hamer\"],[-5.35,7.298287470359057,\"Jason Sasser\"],[-4.0636363636363635,15.620853389173728,\"Randy Livingston\"],[-5.675000000000001,6.162892989497706,\"Ben Davis\"],[-2.8307692307692305,32.10326287434795,\"Malik Rose\"],[-5.15,10.66387984428431,\"Marcus Brown\"],[-2.7,29.372793534153345,\"Jamie Feick\"],[-4.199999999999999,23.418226519814294,\"Chris Robinson\"],[-9.033333333333333,16.466320846571108,\"Mark Pope\"],[-3.7,6.970533217289285,\"Jeff Nordgaard\"],[-1.58,39.92864677563382,\"Shandon Anderson\"],[-2.15,21.516524657419318,\"Reggie Geary\"],[-3.5666666666666664,14.124879547175697,\"Drew Barry\"],[0.5428571428571428,39.447421305061845,\"Walt Williams\"],[-3.0666666666666664,11.435616875942165,\"Herb Williams\"],[-2.5500000000000003,25.61243729996122,\"Emanual Davis\"],[-10.399999999999999,8.389328538883989,\"Horacio Llamas\"],[-9.2,6.511528238439882,\"Evric Gray\"],[-3.475,25.35450732447125,\"Darvin Ham\"],[-3.05,12.510528899024743,\"Shawnelle Scott\"],[-10.766666666666666,11.96388082707466,\"Litterial Green\"],[-5.5,24.322109283530487,\"Stojko Vrankovic\"],[-2.3,26.092144411680692,\"Juaquin Hawkins\"],[-7.5,11.541735860201749,\"Nate Driggers\"],[-5.45,15.532372109028726,\"Amal McCaskill\"],[-5.2,12.166997712391233,\"Shane Heal\"],[-2.2333333333333334,34.09078973043078,\"Dean Garrett\"],[-3.4,15.267394451357212,\"Ben Handlogten\"],[-7.6,4.1836985232367425,\"Ed Stokes\"],[1.1,7.887014644337869,\"Aleksandar Djordjevic\"],[-6.7,10.048797606347396,\"William Cunningham\"],[-1.65,15.769221075669316,\"Carl Thomas\"],[-6.4,7.340186192007209,\"Brent Scott\"],[-1.2444444444444445,33.644731578108384,\"Erick Strickland\"],[-5.1,19.671256526549925,\"Greg Dreiling\"],[-8.9,9.327781086625041,\"Devin Gray\"],[-2.9499999999999997,23.112148080368677,\"Reggie Slater\"],[-2.6166666666666667,35.28932400725307,\"Matt Maloney\"],[-32.4,2.0696215435033842,\"Michael McDonald\"],[-4.8,24.329132057405314,\"Ray Owes\"],[-2.75,23.61692542789316,\"Henry James\"],[2.8333333333333335,4.705434210687802,\"Ira Bowman\"],[-4.533333333333333,8.71537594012891,\"Joe Stephens\"],[-1.7909090909090908,39.66415831131999,\"Chucky Atkins\"],[-7.1000000000000005,11.005263892035172,\"Kevin Salvadori\"],[-1.2,6.465163055432809,\"Gaylon Nickerson\"],[-5.15,23.414436429974852,\"Ivano Newbill\"],[-8.5,3.4246654337808384,\"Matt Steigenga\"],[-1.5,26.14955385215332,\"Tony Farmer\"],[-13.1,5.67230112035671,\"James Scott\"],[-2.6,22.07292566967614,\"Mark Strickland\"],[1.4749999999999999,44.78564455641264,\"Ben Wallace\"],[-1.3,32.055563739648456,\"Jaren Jackson\"],[-11.75,7.231240096507189,\"Tim Kempton\"],[-8.1,8.674003304895226,\"Elmer Bennett\"],[-6.1,6.6783231428256,\"Dexter Boney\"],[-1.05,33.142432519857884,\"Dominique Wilkins\"],[-3.1,31.30854515942892,\"Larry Stewart\"],[-5.65,11.73978279185778,\"Donald Whiteside\"],[-5.4,15.281470260852963,\"Stephen Howard\"],[1.0,10.682384253214869,\"Ruben Nembhard\"],[-3.0,4.371689223477202,\"Jimmy Carruth\"],[-3.15,21.40879881419476,\"Corey Beck\"],[-2.9499999999999997,35.902367609950176,\"Ike Austin\"],[-6.0,25.783974351005956,\"Brett Szabo\"],[-0.2,3.055868670825585,\"Chris Jent\"],[-4.85,12.645140700416636,\"Michael Hawkins\"],[-4.6,15.77064784126933,\"Mark Bradtke\"],[-5.1,25.993348508160025,\"Xavier McDaniel\"],[-3.4,13.978972303666199,\"Lloyd Daniels\"],[-4.5,19.227584351654787,\"John Long\"],[-2.2416666666666667,31.518497655257057,\"Aaron Williams\"],[-3.0,4.6097722286464435,\"Jimmy Oliver\"],[-10.9,10.058661276067856,\"Joe Courtney\"],[-7.3,24.47563414227846,\"Dragan Tarlac\"],[-2.5799999999999996,25.610408040482298,\"Zeljko Rebraca\"],[-1.2714285714285716,25.985614152010026,\"Lawrence Funderburke\"],[-2.1999999999999993,6.760793838990605,\"Tom Chambers\"],[10.2,3.403429642777018,\"Larry Krystkowiak\"],[6.423076923076923,43.010197061651,\"Bruce Bowen\"],[-9.5,7.7864198020228335,\"Stevin Smith\"],[-2.7,9.028658076739129,\"Mike Brown\"],[-2.8,22.82064124135575,\"Lionel Simmons\"],[5.463157894736842,49.935705152954505,\"Tim Duncan\"],[0.03333333333333331,44.91962369157373,\"Keith Van Horn\"],[1.9941176470588236,44.08490360078149,\"Chauncey Billups\"],[-0.3153846153846154,38.8906323174525,\"Antonio Daniels\"],[-2.3000000000000003,35.51588175933208,\"Tony Battie\"],[-3.0625,40.95426310735755,\"Ron Mercer\"],[-0.8538461538461538,40.51422668770273,\"Tim Thomas\"],[-1.3416666666666668,32.99428612148879,\"Adonal Foyle\"],[4.086666666666667,45.21918471917274,\"Tracy McGrady\"],[-3.8200000000000003,29.72661826265028,\"Danny Fortson\"],[-3.3166666666666664,28.292141625861003,\"Tariq Abdul-Wahad\"],[-0.5666666666666667,30.915628913400912,\"Austin Croshere\"],[0.41818181818181815,40.41817772870384,\"Derek Anderson\"],[-4.133333333333334,38.484691521194264,\"Maurice Taylor\"],[-0.97,32.602129276066194,\"Kelvin Cato\"],[-0.15833333333333335,38.933311929217865,\"Brevin Knight\"],[-7.0,16.964734664067763,\"Johnny Taylor\"],[-3.1666666666666665,26.801782693611198,\"Chris Anstey\"],[-1.4363636363636365,27.59000972025267,\"Scot Pollard\"],[-13.4,7.392451104561551,\"Paul Grant\"],[1.0333333333333332,39.0878474057451,\"Anthony Parker\"],[-4.55,20.109989225921204,\"Ed Gray\"],[0.4666666666666666,37.41359675602204,\"Bobby Jackson\"],[-10.566666666666668,20.301984030029104,\"Rodrick Rhodes\"],[-5.1,21.212991302501397,\"John Thomas\"],[-3.3,19.872074208127692,\"Charles Smith\"],[-3.9250000000000003,32.46412122122924,\"Jacque Vaughn\"],[-6.5,14.93865232654316,\"Keith Booth\"],[-2.05,14.076872285182299,\"Charles O'Bannon\"],[-7.449999999999999,6.751975019701025,\"James Cotton\"],[-4.35,10.336303336622171,\"Marko Milic\"],[-3.5,19.7112489034392,\"Bubba Wells\"],[-1.4,10.573867157604496,\"Kebu Stewart\"],[-1.0,10.061229215823134,\"James Collins\"],[-3.0142857142857147,32.874262620736324,\"Marc Jackson\"],[-4.0,17.753849347864453,\"Jerald Honeycutt\"],[-1.5153846153846153,34.60129499577459,\"Anthony Johnson\"],[4.8,8.862373647430282,\"Jason Lawson\"],[-1.2357142857142855,44.22943563047664,\"Stephen Jackson\"],[-2.42,35.16324311929529,\"Cedric Henderson\"],[-6.2,12.072351331313506,\"God Shammgod\"],[-3.1999999999999997,33.8907804572276,\"Eric Washington\"],[-2.9000000000000004,37.440926310161764,\"Alvin Williams\"],[-3.05,37.235550888901834,\"Predrag Drobnjak\"],[-1.0857142857142859,23.862562828872864,\"Chris Crawford\"],[-1.2,19.20605373313321,\"DeJuan Wheat\"],[-3.2333333333333334,39.44574567493753,\"Mark Blount\"],[-9.9,8.465321415437614,\"Jamal Robinson\"],[-0.5111111111111111,29.77344703167822,\"Adrian Griffin\"],[-2.033333333333333,24.65844457561932,\"Gerard King\"],[-2.907692307692308,28.133270294011282,\"Kevin Ollie\"],[-8.1,6.094191223342651,\"Etdrick Bohannon\"],[-5.25,20.298414346938543,\"Michael Stewart\"],[-1.5666666666666667,23.443904680463678,\"Keith Closs\"],[-6.5,8.837891905501747,\"Nate Huffman\"],[-2.5,5.770904030854551,\"Derek Grimm\"],[-4.050000000000001,14.657307619978047,\"Travis Williams\"],[-17.5,2.8460498941515415,\"Shea Seals\"],[-7.833333333333333,7.37932547354054,\"Brandon Williams\"],[-4.0,5.022615520489967,\"Alvin Sims\"],[-3.4,19.055970193091717,\"Charles Shackleford\"],[-2.6444444444444444,22.3832981715617,\"Rick Brunson\"],[-2.9,22.976872430047276,\"Kornel David\"],[-4.26,17.64701107836678,\"Rusty LaRue\"],[-2.5090909090909093,32.055869788211766,\"Troy Hudson\"],[-8.6,20.140561616355743,\"Art Long\"],[-9.55,14.761266883299685,\"Chris Garner\"],[-0.8923076923076925,28.072148347080834,\"Mikki Moore\"],[-0.3,15.566577444426665,\"Gerald Madkins\"],[-3.1500000000000004,6.307931515164063,\"Steve Henson\"],[0.1,18.50090087896622,\"Harold Ellis\"],[-8.3,7.797435475847171,\"Brian Oliver\"],[-5.6,4.861412689057914,\"Reggie Hanson\"],[-3.1999999999999997,15.08774337003384,\"Larry Robinson\"],[-4.588888888888889,38.20302004738292,\"Michael Olowokandi\"],[0.45000000000000007,49.255206396307564,\"Mike Bibby\"],[-0.12999999999999998,38.143863639297656,\"Raef LaFrentz\"],[0.13124999999999998,48.50895643246376,\"Antawn Jamison\"],[2.127272727272727,45.917197379103115,\"Vince Carter\"],[-1.457142857142857,29.835122319332356,\"Robert Traylor\"],[0.11666666666666665,43.94959549807535,\"Jason Williams\"],[-1.0615384615384615,41.480920853710515,\"Larry Hughes\"],[3.7952380952380955,49.46741832954773,\"Dirk Nowitzki\"],[2.9894736842105263,49.142808365366015,\"Paul Pierce\"],[-0.060000000000000074,38.908563753155065,\"Bonzi Wells\"],[-3.79,29.63774339138076,\"Michael Doleac\"],[-1.0166666666666666,36.46032089820383,\"Keon Clark\"],[-2.3,38.717476673977586,\"Michael Dickerson\"],[-0.5545454545454546,39.984720566584905,\"Matt Harpring\"],[-3.6166666666666667,25.702620921264472,\"Bryce Drew\"],[-1.758333333333333,38.73271836861212,\"Rasho Nesterovic\"],[-6.3,9.426823431039747,\"Mirsad Turkcan\"],[-3.28,33.25359379074688,\"Pat Garrity\"],[-4.5,26.619572999330146,\"Roshown McLeod\"],[-1.1333333333333333,42.75523684623648,\"Ricky Davis\"],[-3.992857142857143,27.922413765220774,\"Brian Skinner\"],[-1.9636363636363634,33.81479638479957,\"Tyronn Lue\"],[-2.9,32.17475718634098,\"Felipe Lopez\"],[-2.325,41.83444678133081,\"Al Harrington\"],[-4.133333333333334,15.758172482873764,\"Sam Jacobson\"],[-4.783333333333333,24.914955348143813,\"Vladimir Stepania\"],[-5.4,23.38735413280719,\"Corey Benjamin\"],[-3.888888888888889,29.729328330168553,\"Nazr Mohammed\"],[-2.475,17.955024830577837,\"Ansu Sesay\"],[-0.06999999999999998,39.960997651877186,\"Ruben Patterson\"],[0.64375,45.79242682110947,\"Rashard Lewis\"],[-4.45,21.852755356399932,\"Jelani McCoy\"],[0.2285714285714286,27.619605700437116,\"Shammond Williams\"],[-10.77142857142857,8.591565631478346,\"Bruno Sundov\"],[-3.6222222222222222,23.01959310384671,\"Jerome James\"],[-29.8,3.728940868396816,\"Casey Shaw\"],[-10.3,5.9612638481002245,\"DeMarco Johnson\"],[-1.0363636363636362,41.99313616352659,\"Rafer Alston\"],[9.4,3.969466798786293,\"Korleone Young\"],[-0.5363636363636364,50.121135081103084,\"Cuttino Mobley\"],[-17.4,4.314510400960924,\"Miles Simon\"],[-4.428571428571429,29.058061745081215,\"Jahidi White\"],[-5.7,14.371868565381678,\"Sean Marks\"],[-3.6500000000000004,18.69068395395595,\"Toby Bailey\"],[-1.9,12.305960615354923,\"Andrae Patterson\"],[51.1,1.7701224063135663,\"Tyson Wheeler\"],[-6.7,14.118663770579229,\"Ryan Stack\"],[-8.2,24.917463755366434,\"Cory Carr\"],[-2.425,13.049265624292167,\"Derrick Dial\"],[-1.4,32.99653012060512,\"Greg Buckner\"],[-3.525,17.43577500428358,\"Tremaine Fowlkes\"],[0.41000000000000014,25.45384712245545,\"Ryan Bowen\"],[-4.8,18.233759897508797,\"J.R. Henderson\"],[-7.35,9.275909658895985,\"Torraye Braggs\"],[-0.9500000000000001,14.396252405863592,\"Maceo Baston\"],[-0.5,34.976076239208275,\"Damon Jones\"],[-22.1,2.1291625896895074,\"Jonathan Kerner\"],[1.3857142857142857,41.8751162045296,\"Brad Miller\"],[7.3,4.31083905212585,\"Adonis Jordan\"],[-7.6,2.0575065816014613,\"Kelly McCarty\"],[-10.6,5.187324294213087,\"Makhtar N'diaye\"],[-19.8,2.3273733406281574,\"Peter Aluma\"],[-9.7,8.718084652032234,\"Ike Fontaine\"],[-4.9,14.302505607992853,\"Marlon Garnett\"],[-1.3250000000000002,40.80939434329631,\"Tyrone Nesby\"],[-13.1,6.248466478531617,\"Fred Vinson\"],[-2.9,7.498444283094107,\"Andrew Gaze\"],[-2.6,23.35433578588781,\"Thurl Bailey\"],[-1.7,13.553597308463905,\"Jeff Sheppard\"],[-3.207692307692308,30.591673913346302,\"Anthony Carter\"],[-5.5,8.357332110189231,\"Mark Macon\"],[-63.7,1.2583057392117902,\"Mark Baker\"],[-10.2,7.585842075867386,\"Negele Knight\"],[-0.7538461538461539,31.576068104231673,\"Earl Boykins\"],[-8.75,9.5206792474767,\"Steve Goodrich\"],[-25.0,2.2135943621178655,\"Trevor Winter\"],[-4.05,23.80234582276853,\"Charles Jones\"],[-6.7,15.414711587744126,\"Gerald Brown\"],[-5.949999999999999,11.594574880808128,\"Randell Jackson\"],[1.1176470588235294,45.317409977389744,\"Elton Brand\"],[1.5333333333333334,49.026814280743544,\"Steve Francis\"],[2.169230769230769,46.902230552173435,\"Baron Davis\"],[1.4428571428571428,47.89776314490809,\"Lamar Odom\"],[-2.6499999999999995,21.915899859843005,\"Jonathan Bender\"],[0.45999999999999996,44.79248262822681,\"Wally Szczerbiak\"],[-0.7071428571428572,45.96359195835639,\"Richard Hamilton\"],[0.9529411764705882,48.67299146384179,\"Andre Miller\"],[2.2875,50.05875714264854,\"Shawn Marion\"],[0.963157894736842,47.03204861040212,\"Jason Terry\"],[-1.0,24.065350841222116,\"Trajan Langdon\"],[-11.85,8.72802001219827,\"Aleksandar Radojevic\"],[-0.5142857142857143,40.856544909044395,\"Corey Maggette\"],[-5.733333333333333,20.010302901810917,\"William Avery\"],[0.6235294117647059,43.00586827262476,\"Metta World Peace\"],[-2.966666666666667,21.43192063773618,\"Cal Bowdler\"],[0.15,44.02683998300228,\"James Posey\"],[-4.9,21.500406972892396,\"Quincy Lewis\"],[-1.2666666666666666,31.966731838654447,\"Dion Glover\"],[-0.39999999999999997,34.811043045974905,\"Jeff Foster\"],[-1.9090909090909092,39.67212592939247,\"Kenny Thomas\"],[-2.3000000000000003,32.58869482355853,\"Devean George\"],[3.8076923076923075,42.90871048979957,\"Andrei Kirilenko\"],[-6.866666666666667,9.369246382595442,\"Tim James\"],[-2.1999999999999997,35.516216953198494,\"Vonteego Cummings\"],[-2.2625,34.9588806075557,\"Jumaine Jones\"],[-1.0499999999999998,26.48358375170049,\"Scott Padgett\"],[-1.5,7.220341635499909,\"Leon Smith\"],[-7.6,13.550830232867652,\"John Celestand\"],[-3.688888888888889,25.716571253513486,\"Michael Ruffin\"],[-4.6,22.403887311506168,\"Chris Herren\"],[-3.05,23.15014398803313,\"Evan Eschmeyer\"],[-2.4899999999999998,21.131051401511783,\"Calvin Booth\"],[-3.28,15.80955407340764,\"Wang Zhi-zhi\"],[-5.1,19.436734979586124,\"Obinna Ekezie\"],[-2.625,19.535629842248074,\"Laron Profit\"],[-15.9,7.794228634059948,\"A.J. Bramlett\"],[-2.733333333333333,38.34879036191653,\"Gordan Giricek\"],[-3.2,28.305855957407143,\"Francisco Elson\"],[-2.5166666666666666,31.135059730863606,\"Lee Nailon\"],[-5.4,4.963197893831486,\"Ryan Robertson\"],[0.09999999999999998,29.300092434438948,\"Todd MacCulloch\"],[-11.2,8.288596584062537,\"Lari Ketner\"],[-4.16,28.900824671048163,\"Rodney Buford\"],[-4.9,11.773133256133093,\"Tim Young\"],[4.65625,40.97704133617589,\"Manu Ginobili\"],[-4.65,11.209110877614997,\"Harold Jamison\"],[-12.5,6.34954066580148,\"Wayne Turner\"],[-0.47999999999999987,32.69509137470031,\"Eddie Robinson\"],[-6.2,0.7427426651719066,\"Andy Panko\"],[-1.9166666666666667,40.64695218859862,\"Raja Bell\"],[-1.2,12.792510829908764,\"Lazaro Borrell\"],[-18.6,1.7888543819998317,\"Jason Miskiri\"],[-2.7875,30.894137119093212,\"Ira Newble\"],[-3.642857142857143,34.66300690388885,\"Milt Palacio\"],[-5.0,14.99433226255841,\"Rick Hughes\"],[-29.5,1.9832633040858014,\"Derek Hood\"],[-7.5,7.169786142789292,\"Jamel Thomas\"],[-4.08,16.321509325631215,\"Jermaine Jackson\"],[-5.316666666666667,16.106848095004676,\"Zendon Hamilton\"],[-1.0,22.518732942448892,\"Dedric Willoughby\"],[-0.6866666666666666,39.28235821162811,\"Kenyon Martin\"],[-2.5444444444444443,34.64301543628266,\"Stromile Swift\"],[-0.9,40.931388584173035,\"Darius Miles\"],[-3.533333333333333,31.72270918092868,\"Marcus Fizer\"],[0.25882352941176473,40.44658302540985,\"Mike Miller\"],[-1.2714285714285716,29.055898507794222,\"DerMarr Johnson\"],[-4.7,33.08034726238528,\"Chris Mihm\"],[0.35,44.151180618416085,\"Jamal Crawford\"],[-3.3461538461538463,30.031351139801398,\"Joel Przybilla\"],[-2.4538461538461536,32.972568241043284,\"Keyon Dooling\"],[-4.680000000000001,16.614963135679833,\"Jerome Moiso\"],[-2.6444444444444444,28.064865342036953,\"Etan Thomas\"],[-3.6666666666666665,36.768381646312505,\"Courtney Alexander\"],[-7.1499999999999995,17.613441836657955,\"Mateen Cleaves\"],[-4.68,20.857908172521363,\"Jason Collier\"],[0.060000000000000026,42.20396242587235,\"Hedo Turkoglu\"],[-2.96,44.31178360962991,\"Desmond Mason\"],[-1.6538461538461537,39.99286795391757,\"Quentin Richardson\"],[-3.9166666666666665,34.93829083779954,\"Jamaal Magloire\"],[-1.6142857142857143,34.959551457294744,\"Speedy Claxton\"],[-1.4909090909090907,41.958996940375314,\"Morris Peterson\"],[-0.36000000000000015,25.796498470399673,\"Donnell Harvey\"],[-3.576923076923077,37.611298084348846,\"DeShawn Stevenson\"],[-8.033333333333333,17.98558064425809,\"Dalibor Bagaric\"],[-2.9714285714285715,26.747545503768958,\"Jake Tsakalidis\"],[-4.62,13.159470607386403,\"Mamadou N'diaye\"],[-5.225,27.826590999737405,\"Primoz Brezec\"],[-5.35,11.483248669257312,\"Erick Barkley\"],[-5.411111111111111,24.33679960090922,\"Mark Madsen\"],[-1.5250000000000001,30.5562891326083,\"Eduardo Najera\"],[-0.9714285714285714,40.0993528032323,\"Marko Jaric\"],[-6.1,17.65413077252271,\"Dan Langhi\"],[-7.333333333333333,20.338810737656765,\"A.J. Guyton\"],[-5.144444444444445,26.748897519683286,\"Jake Voskuhl\"],[-2.4,30.58324704801634,\"Khalid El-Amin\"],[-4.2,13.396890186407703,\"Mike Smith\"],[-3.65,12.249421755059842,\"Soumaila Samake\"],[-0.309090909090909,33.5575579708908,\"Eddie House\"],[-5.333333333333333,12.170227789340856,\"Lavor Postell\"],[-6.0,34.33004029515062,\"Hanno Mottola\"],[-4.233333333333333,13.984833054261165,\"Olumide Oyedeji\"],[0.2083333333333333,40.93756933836366,\"Michael Redd\"],[-1.4749999999999999,23.220710344192515,\"Brian Cardinal\"],[-4.025,16.30423002372902,\"Jabari Smith\"],[-2.6888888888888887,24.24841346471054,\"Jason Hart\"],[-2.2666666666666666,5.144360450478216,\"Kaniel Dickens\"],[-4.9,15.495859662073189,\"Igor Rakocevic\"],[-18.2,4.629254799641083,\"Ernest Brown\"],[-7.9,7.646349891723939,\"Dan McClintock\"],[-4.5,33.83809490303303,\"Chris Porter\"],[-4.55,18.826067920129613,\"Daniel Santiago\"],[-4.9,8.561639251140328,\"Ruben Garces\"],[-3.9,21.842880500781693,\"Slava Medvedenko\"],[-1.9,24.358879284564797,\"Paul McPherson\"],[-7.3500000000000005,12.787559058188808,\"Ruben Wolkowyski\"],[-1.5714285714285714,16.98274334224515,\"Eddie Gill\"],[-21.1,3.5095108870990415,\"Terrance Roberson\"],[-19.9,3.96232255123179,\"Garth Joseph\"],[-3.63,26.947405564667378,\"Malik Allen\"],[-3.7,20.251913489840906,\"David Vanterpool\"],[6.25,20.718369466088134,\"Mike Penberthy\"],[-2.3714285714285714,28.564225877835383,\"Ime Udoka\"],[2.3,9.590055613325026,\"Pepe Sanchez\"],[-8.9,6.684933308069221,\"Sean Colson\"],[-2.966666666666667,33.396841583865054,\"Kwame Brown\"],[-0.3210526315789474,40.79428602059147,\"Tyson Chandler\"],[3.477777777777778,47.71519382987165,\"Pau Gasol\"],[-6.7272727272727275,34.53952720281415,\"Eddy Curry\"],[0.9230769230769231,47.42659375152082,\"Jason Richardson\"],[1.6538461538461537,48.04487352251927,\"Shane Battier\"],[-1.52,36.66470146248752,\"Eddie Griffin\"],[-3.4916666666666667,26.454510222476447,\"DeSagana Diop\"],[-2.375,28.97127168995752,\"Rodney White\"],[0.24705882352941183,51.00940705245589,\"Joe Johnson\"],[-1.0750000000000002,21.997537740998805,\"Kedrick Brown\"],[-0.7916666666666666,36.71525946766247,\"Vladimir Radmanovic\"],[-0.31764705882352945,44.919524991813915,\"Richard Jefferson\"],[-0.5333333333333333,40.761601961214005,\"Troy Murphy\"],[-3.275,27.378591849594237,\"Steven Hunter\"],[-13.600000000000001,8.228304807188415,\"Kirk Haston\"],[-4.92,20.050569401723585,\"Michael Bradley\"],[-5.007692307692308,33.941952711153114,\"Jason Collins\"],[-0.07058823529411762,45.12935656010853,\"Zach Randolph\"],[-1.9846153846153847,37.91963499229281,\"Brendan Haywood\"],[-8.1,7.829591304787242,\"Joseph Forte\"],[-4.949999999999999,23.00566959106675,\"Jeryl Sasser\"],[-8.200000000000001,15.175620067873478,\"Brandon Armstrong\"],[-2.0999999999999996,32.7019240004825,\"Raul Lopez\"],[0.6214285714285716,42.033664229655585,\"Gerald Wallace\"],[-1.4153846153846152,40.8142791754967,\"Samuel Dalembert\"],[-1.1363636363636365,36.235542571549075,\"Jamaal Tinsley\"],[0.7222222222222222,46.12250294355,\"Tony Parker\"],[-3.1500000000000004,28.240868730736082,\"Will Solomon\"],[-7.266666666666667,13.156726205422245,\"Alton Ford\"],[-2.3916666666666666,34.59477521566257,\"Mike James\"],[-1.8333333333333333,34.81519197983249,\"Maurice Evans\"],[-6.1,2.3769728648009427,\"Ratko Varda\"],[-3.4,17.814320082450525,\"Antonis Fotsis\"],[-3.2444444444444445,42.528410983021004,\"Trenton Hassell\"],[1.6272727272727274,41.946338374526846,\"Gilbert Arenas\"],[-1.6,10.282630986279727,\"Omar Cook\"],[-3.0,25.42764243888924,\"Terence Morris\"],[-2.727272727272727,24.78480717428858,\"Brian Scalabrine\"],[-2.7000000000000006,9.479334247602928,\"Jeff Trepagnier\"],[-10.549999999999999,9.302150289046077,\"Damone Brown\"],[0.21000000000000005,42.93790865889954,\"Mehmet Okur\"],[-1.7999999999999998,38.731124435007075,\"Earl Watson\"],[-1.9,10.772089707511112,\"Jamison Brewer\"],[-2.5700000000000003,33.93217990836034,\"Bobby Simmons\"],[0.40000000000000013,16.56811697206415,\"Sean Lampley\"],[-1.9000000000000001,20.05155854291631,\"Loren Woods\"],[-6.8,12.473906097663754,\"Ken Johnson\"],[-1.5666666666666664,9.56663763061795,\"Ruben Boumtje-Boumtje\"],[-4.32,29.23101948273444,\"Jarron Collins\"],[-4.15,23.00592315035413,\"Kenny Satterfield\"],[-8.7,11.161242463692517,\"Alvin Jones\"],[-3.457142857142857,36.576856461038695,\"Charlie Bell\"],[-1.3222222222222222,34.37670938510765,\"Carlos Arroyo\"],[-13.799999999999999,6.308415895540745,\"Paul Shirley\"],[3.6,12.428126702497565,\"Joe Crispin\"],[-0.2,9.896800829897847,\"Tang Hamilton\"],[-8.8,9.770192765072075,\"Victor Alexander\"],[-0.8,24.299365560990857,\"Oscar Torres\"],[-5.45,10.799537027113708,\"Dean Oliver\"],[-7.325,20.282720478279064,\"Tierre Brown\"],[-0.07333333333333335,28.590536507344133,\"Chris Andersen\"],[-2.414285714285714,17.83758738757918,\"Mike Wilks\"],[0.6,3.9251326941476385,\"Geno Carlisle\"],[-6.4,8.274257267775356,\"Norman Richardson\"],[-9.799999999999999,12.827639429502742,\"Mengke Bateer\"],[3.0625,44.49528767184228,\"Yao Ming\"],[-2.0,44.28532488308063,\"Jay Williams\"],[-0.05999999999999999,42.6955306013795,\"Mike Dunleavy\"],[-1.7857142857142858,37.92334530401583,\"Drew Gooden\"],[-6.9,22.01754981826995,\"Nikoloz Tskitishvili\"],[-3.625,23.470273752131632,\"Dajuan Wagner\"],[-3.8470588235294123,38.53384684846787,\"Nene\"],[-1.9454545454545453,33.67864398407484,\"Chris Wilcox\"],[0.5499999999999999,43.300834425040385,\"Amar'e Stoudemire\"],[-0.5,44.978890551436415,\"Caron Butler\"],[-2.7363636363636363,35.13440858569654,\"Jared Jeffries\"],[-5.144444444444444,25.841518416572846,\"Melvin Ely\"],[-4.7250000000000005,14.600485151756669,\"Marcus Haislip\"],[-1.4285714285714286,38.34130248427244,\"Fred Jones\"],[-2.8333333333333335,30.600562812543906,\"Bostjan Nachbar\"],[-3.275,33.918130599037056,\"Jiri Welsch\"],[-2.4,34.86136147383693,\"Juan Dixon\"],[-3.5,23.597898917770912,\"Curtis Borchardt\"],[-10.033333333333333,16.043759603728247,\"Ryan Humphrey\"],[-3.4714285714285715,29.180354611246507,\"Kareem Rush\"],[-3.8249999999999997,22.649714862075726,\"Qyntel Woods\"],[-2.825,36.49816776223156,\"Casey Jacobsen\"],[0.0,47.4918251110752,\"Tayshaun Prince\"],[-2.757142857142857,38.82144412318434,\"Nenad Krstic\"],[-3.8333333333333335,17.794927491969286,\"Frank Williams\"],[-1.2538461538461538,42.644652774485216,\"John Salmons\"],[-5.05,20.786834775886398,\"Chris Jefferies\"],[-2.4666666666666663,27.710276874193177,\"Dan Dickau\"],[-8.25,12.740650166560059,\"Robert Archibald\"],[-2.38,30.238118878880886,\"Roger Mason Jr.\"],[-2.4,37.13827764809066,\"Vincent Yarbrough\"],[-4.5600000000000005,27.89171023799006,\"Dan Gadzuric\"],[1.2,45.50008171308526,\"Carlos Boozer\"],[-3.0,25.132896768975915,\"David Andersen\"],[-1.4,5.833380952186587,\"Tito Maddox\"],[-2.3,46.01260696809082,\"Juan Carlos Navarro\"],[-7.4,16.794096184870057,\"Mario Kasun\"],[-3.1125,37.21044880137834,\"Flip Murray\"],[-8.725000000000001,21.70399348814253,\"Lonny Baxter\"],[-0.40714285714285714,39.59795419198416,\"Matt Barnes\"],[-0.2799999999999998,11.222997222964398,\"Jamal Sampson\"],[-0.5,2.513297966152575,\"Chris Owens\"],[-3.125,33.941401709416766,\"Darius Songaila\"],[-1.3153846153846152,36.390511936140165,\"Rasual Butler\"],[-6.8,13.036082404021718,\"Tamar Slay\"],[-0.9399999999999998,43.59058575732454,\"Luis Scola\"],[-1.7,3.243454948045371,\"Randy Holcomb\"],[-6.2,10.489677465648455,\"Corsley Edwards\"],[-2.85,31.13885568439103,\"J.R. Bremer\"],[-5.3,15.995936984121936,\"Predrag Savovic\"],[-4.533333333333333,32.07861870121246,\"Junior Harrington\"],[-17.15,7.110907115129546,\"Cezary Trybanski\"],[-1.9727272727272727,26.009715550738015,\"Jannero Pargo\"],[5.6,1.795828499606797,\"Guy Rucker\"],[-8.0,10.44030650891055,\"Maurice Carter\"],[-6.266666666666667,20.785291273718865,\"Pat Burke\"],[-3.3600000000000003,37.587936894700675,\"Smush Parker\"],[-3.5,35.34814940936329,\"Mike Batiste\"],[-2.3625,33.55672436338208,\"Devin Brown\"],[-7.1,4.378355855797928,\"Maurice Baker\"],[-5.2,10.470036612479777,\"Adam Harrington\"],[-1.525,19.067096440377767,\"Richie Frahm\"],[-2.9384615384615387,34.61933097162735,\"Reggie Evans\"],[-14.7,9.45480477499844,\"Antoine Rigaudeau\"],[8.877777777777778,52.73412697815475,\"LeBron James\"],[-7.1,29.388623082183805,\"Darko Milicic\"],[1.1333333333333333,48.14278146729173,\"Carmelo Anthony\"],[1.9076923076923078,49.565574281411834,\"Chris Bosh\"],[4.53125,47.293515015274565,\"Dwyane Wade\"],[-2.0461538461538464,38.880118180679325,\"Chris Kaman\"],[-0.5153846153846154,45.58593884645594,\"Kirk Hinrich\"],[-0.7749999999999999,38.55892946733179,\"T.J. Ford\"],[-2.825,30.026883787699315,\"Michael Sweetney\"],[-2.3285714285714287,37.607509381834376,\"Jarvis Hayes\"],[-1.27,34.56997251951468,\"Mickael Pietrus\"],[-1.4714285714285715,36.45335408175116,\"Nick Collison\"],[-2.6875,26.360999443622518,\"Marcus Banks\"],[-1.0333333333333334,42.44987567054167,\"Luke Ridnour\"],[-5.866666666666667,14.006268437937193,\"Reece Gaines\"],[-19.6,5.9076221950967716,\"Troy Bell\"],[-3.8000000000000003,22.77088784683929,\"Zarko Cabarkapa\"],[1.54,44.07469543601837,\"David West\"],[-3.46,29.80849151947589,\"Sasha Pavlovic\"],[-3.9923076923076923,27.447850319824443,\"Dahntay Jones\"],[-0.18571428571428572,45.321543022107726,\"Boris Diaw\"],[-3.3666666666666667,22.89745255117549,\"Zoran Planinic\"],[-1.2909090909090908,34.41159512123608,\"Travis Outlaw\"],[-3.744444444444445,25.034172940499047,\"Brian Cook\"],[-0.11250000000000002,38.05336986829593,\"Carlos Delfino\"],[-4.3,6.535480089480803,\"Ndudi Ebi\"],[-2.2214285714285715,35.00495373106905,\"Kendrick Perkins\"],[-0.7071428571428572,36.23780418818105,\"Leandro Barbosa\"],[-0.7,39.173458276406144,\"Josh Howard\"],[-10.166666666666666,14.51374827151446,\"Maciej Lampe\"],[-3.3555555555555556,31.73265638867131,\"Jason Kapono\"],[-1.81,31.092493735090894,\"Luke Walton\"],[-6.2,22.57325113196296,\"Travis Hansen\"],[-1.4461538461538461,40.0177380541974,\"Steve Blake\"],[-26.2,1.6583123951777,\"Slavko Vranes\"],[-10.4,5.646532859492921,\"Derrick Zimmerman\"],[-3.0083333333333333,35.101210805326936,\"Willie Green\"],[-1.7249999999999999,37.27672419441745,\"Zaza Pachulia\"],[-2.0818181818181816,36.345436544025134,\"Keith Bogans\"],[0.8916666666666667,33.349627267615595,\"Matt Bonner\"],[-0.7,42.859120741905464,\"Mo Williams\"],[-6.4,7.390421729058045,\"James Lang\"],[-0.5285714285714286,28.14565855044247,\"James Jones\"],[0.5647058823529412,42.81512583188329,\"Kyle Korver\"],[-4.2,17.62871710212252,\"Brandon Hunter\"],[-14.0,8.975429423338657,\"Andreas Glyniadakis\"],[-5.2,2.262005010309807,\"Jerome Beasley\"],[-5.4,18.525500443082947,\"Theron Smith\"],[-1.17,34.21532551357652,\"Marquis Daniels\"],[-1.6333333333333333,34.615186134283775,\"Udonis Haslem\"],[-3.642857142857143,34.71926869978137,\"Quinton Ross\"],[-15.05,3.821866908549623,\"Kirk Penney\"],[-5.7,0.39157800414902394,\"Alex Scales\"],[-9.8,13.702493690322703,\"Britton Johnsen\"],[-3.4166666666666665,17.13325226958774,\"Ronald Dupree\"],[0.1,4.15732285651876,\"Yuta Tabuse\"],[-4.8,9.292828776355814,\"Desmond Penigar\"],[-3.425,11.0491892613591,\"Josh Davis\"],[-5.216666666666667,18.754932684496634,\"Linton Johnson\"],[-10.5,6.521247324451565,\"Hiram Fuller\"],[-4.529999999999999,27.548417982405688,\"Matt Carroll\"],[-8.5,8.896207056942872,\"Alex Garcia\"],[-3.9,10.626852779633301,\"Melvin Sanders\"],[-9.4,1.6683325008322922,\"Brandin Knight\"],[-3.625,30.483096408774927,\"Keith McLeod\"],[-6.557142857142857,23.802690924307164,\"Josh Powell\"],[-1.5,20.779196327096003,\"Lynn Greer\"],[1.4,5.541660400998964,\"Desmond Ferguson\"],[1.423529411764706,47.58415661524657,\"Dwight Howard\"],[-0.6900000000000001,43.652674603052674,\"Emeka Okafor\"],[-1.2363636363636363,43.040180311101395,\"Ben Gordon\"],[-1.2357142857142858,35.044447967307654,\"Shaun Livingston\"],[0.3733333333333333,39.97224175738848,\"Devin Harris\"],[-0.375,36.10370479604551,\"Josh Childress\"],[0.46,45.41514921012345,\"Luol Deng\"],[-6.766666666666667,22.977464805519528,\"Rafael Araujo\"],[1.8352941176470587,47.76359677066403,\"Andre Iguodala\"],[-2.8,13.454413773925635,\"Luke Jackson\"],[-1.52,33.383488932904136,\"Andris Biedrins\"],[-4.65,19.342580403520795,\"Robert Swift\"],[-3.17,34.854105449238915,\"Sebastian Telfair\"],[-2.1076923076923078,33.08261027434355,\"Kris Humphries\"],[0.8571428571428571,43.33631491574,\"Al Jefferson\"],[-1.35,29.721807369898173,\"Kirk Snyder\"],[0.16923076923076918,47.23002766059441,\"Josh Smith\"],[-0.6000000000000001,40.5273004693544,\"JR Smith\"],[-1.0545454545454545,33.415093668108796,\"Dorell Wright\"],[-0.21428571428571433,41.86732303473962,\"Jameer Nelson\"],[-17.35,3.5810845656960804,\"Pavel Podkolzin\"],[-3.2,24.273253455878823,\"Viktor Khryapa\"],[-5.3,18.521968937813632,\"Sergei Monia\"],[0.8125,38.47110928995941,\"Delonte West\"],[-0.04999999999999995,35.9033623574649,\"Tony Allen\"],[0.3,42.38908238633571,\"Kevin Martin\"],[-2.39,29.843528053275907,\"Sasha Vujacic\"],[-1.1384615384615384,37.40742933202934,\"Beno Udrih\"],[-5.15,25.914153147138194,\"David Harrison\"],[-0.6785714285714286,32.831418242432406,\"Anderson Varejao\"],[-5.25,23.576983833108645,\"Jackson Vroman\"],[-10.0,4.4237992721189325,\"Peter John Ramos\"],[-5.3,20.600040453034723,\"Lionel Chalmers\"],[-2.7,16.743705284872494,\"Donta Smith\"],[-6.65,5.951890455981192,\"Andre Emmett\"],[-3.5,19.844436667909395,\"Antonio Burks\"],[-5.7700000000000005,24.8314686100789,\"Royal Ivey\"],[-1.511111111111111,41.52636824066439,\"Chris Duhon\"],[-5.0,21.828256407184192,\"Justin Reed\"],[0.6764705882352942,43.71592903027903,\"Trevor Ariza\"],[-2.3,25.23369660680819,\"Bernard Robinson\"],[-9.649999999999999,12.487960869039709,\"Ha Ha\"],[-4.566666666666666,17.086674470020327,\"Pape Sow\"],[-5.9,16.48949160324032,\"Vassilis Spanoulis\"],[-5.800000000000001,17.08844638930058,\"Matt Freije\"],[-4.8,8.622161368628326,\"Luis Flores\"],[-4.1,14.948459070132566,\"DJ Mbenga\"],[-4.7,10.075713374247998,\"Horace Jenkins\"],[-4.1,3.4544657088084256,\"Tony Bobbitt\"],[-2.5,38.756273685688626,\"Andres Nocioni\"],[-3.5,15.474225882630348,\"Gerald Fitch\"],[-8.033333333333333,14.125410515175197,\"Andre Brown\"],[-7.2,14.652360446926853,\"John Edwards\"],[-3.4000000000000004,6.547009495436321,\"Desmon Farmer\"],[-20.3,3.3015148038438356,\"Ibrahim Kutluay\"],[-4.5,11.475989427205548,\"James Thomas\"],[-7.6,8.414570696119917,\"Erik Daniels\"],[-5.8,11.573869035220868,\"Awvee Storey\"],[-9.8375,15.74705660327246,\"Earl Barron\"],[-2.9749999999999996,14.256548203077303,\"Andre Barrett\"],[-2.41,33.15057314738315,\"Damien Wilkins\"],[14.833333333333334,16.802843674674698,\"Jackie Butler\"],[-3.8,17.441186886218496,\"Kasib Powell\"],[-5.266666666666667,13.207363266164986,\"Billy Thomas\"],[-8.15,13.69805338968523,\"Jared Reiner\"],[-6.9,10.730719143344169,\"Mark Jones\"],[0.5357142857142857,37.666934786234926,\"Andrew Bogut\"],[-0.36666666666666664,44.83938373052572,\"Marvin Williams\"],[7.25625,48.577447828184624,\"Chris Paul\"],[-0.7285714285714285,45.37895988230668,\"Raymond Felton\"],[-2.7,37.302814907188996,\"Martell Webster\"],[-0.7909090909090909,35.131506191348066,\"Charlie Villanueva\"],[-0.8,38.99893818409908,\"Channing Frye\"],[-4.516666666666667,21.583494207894645,\"Ike Diogu\"],[1.6333333333333335,49.044631034735445,\"Deron Williams\"],[0.3875,36.5548873841333,\"Andrew Bynum\"],[-4.85,9.154279509242302,\"Yaroslav Korolev\"],[-2.9250000000000003,21.61325789108775,\"Sean May\"],[-2.35,35.48421010346243,\"Rashad McCants\"],[-6.033333333333334,30.859839957819307,\"Antoine Wright\"],[-4.083333333333333,31.927535138184414,\"Joey Graham\"],[0.16000000000000006,42.99745922726132,\"Danny Granger\"],[-1.925,32.94622934081801,\"Gerald Green\"],[-2.425,36.442145930227554,\"Hakim Warrick\"],[-5.6499999999999995,6.9766276476054925,\"Julius Hodge\"],[-0.3909090909090909,35.52055742805847,\"Nate Robinson\"],[-0.9769230769230769,43.09224452800687,\"Jarrett Jack\"],[-0.49000000000000005,34.4300716428725,\"Francisco Garcia\"],[-0.4833333333333332,36.04485246035681,\"Luther Head\"],[-4.6125,30.12873766577904,\"Johan Petro\"],[-3.3,33.73078218284697,\"Jason Maxiell\"],[-2.9571428571428577,34.194562363599516,\"Linas Kleiza\"],[-1.366666666666667,29.37046891768064,\"Ian Mahinmi\"],[-4.65,15.922625411658723,\"Wayne Simien\"],[1.1,44.99357978892345,\"David Lee\"],[-3.033333333333333,29.84235431582284,\"Salim Stoudamire\"],[-3.0,29.009122128507553,\"Daniel Ewing\"],[-1.325,36.98087531263813,\"Brandon Bass\"],[-0.9133333333333333,33.94195699196563,\"CJ Miles\"],[-0.3384615384615384,38.18808379049338,\"Ersan Ilyasova\"],[-0.4600000000000001,28.317691760923335,\"Ronny Turiaf\"],[-0.36,23.068586143642758,\"Travis Diener\"],[-13.416666666666666,20.305007592545586,\"Von Wafer\"],[-0.6749999999999999,49.16830646982982,\"Monta Ellis\"],[-3.1999999999999997,22.208969659426646,\"Roko Ukic\"],[-0.7,11.996318879834222,\"Chris Taft\"],[-52.0,2.4228082879171433,\"Mile Ilic\"],[5.2,3.0605010483034754,\"Martynas Andriuskevicius\"],[0.86875,40.54556079276744,\"Lou Williams\"],[-1.8,12.75228737651928,\"Bracey Wright\"],[-1.9666666666666668,27.97391642226735,\"Mickael Gelabale\"],[-1.6888888888888889,37.21170664066768,\"Andray Blatche\"],[-2.8875,41.022201813977105,\"Ryan Gomes\"],[-5.1,14.554380783805266,\"Robert Whaley\"],[-1.1500000000000004,19.712823660416248,\"Orien Greene\"],[-0.19999999999999996,6.808022228714203,\"Dijon Thompson\"],[-2.35,23.97324898020013,\"Lawrence Roberts\"],[0.1285714285714286,36.175290830436545,\"Amir Johnson\"],[0.050000000000000024,41.52249724881415,\"Marcin Gortat\"],[-9.450000000000001,10.832474324917639,\"Alex Acker\"],[-5.6,8.484888528044037,\"Uros Slokar\"],[-3.5,28.48915973176854,\"Fabricio Oberto\"],[-4.2,11.598132033507248,\"Arvydas Macijauskas\"],[-3.0749999999999997,24.652763536772092,\"Ronnie Price\"],[-1.2,35.56577240362797,\"Sarunas Jasikevicius\"],[0.14285714285714285,41.09410512701884,\"Jose Calderon\"],[-2.7,20.41861895427798,\"Donell Taylor\"],[-4.4,12.263122223425272,\"Shavlik Randolph\"],[-7.2,2.183651376326663,\"Deng Gai\"],[-2.8,17.359051433378106,\"Rawle Marshall\"],[-3.1624999999999996,29.13828738389864,\"Alan Anderson\"],[-0.6,11.883111264872218,\"Eddie Basden\"],[-0.5599999999999999,25.511134823837217,\"James Singleton\"],[-15.7,1.8393839548428519,\"Matt Walsh\"],[-2.0,14.03196747113928,\"Anthony Roberson\"],[-5.199999999999999,11.545850625513328,\"Luke Schenscher\"],[-3.775,28.745394558665097,\"Will Bynum\"],[-6.2,11.28407432328117,\"Dwayne Jones\"],[-6.2,18.444059567604228,\"Kevin Burleson\"],[-6.5,11.602298622830435,\"Devin Green\"],[-3.6166666666666667,22.03836931858213,\"Stephen Graham\"],[-5.050000000000001,16.971962172948658,\"Esteban Batista\"],[-14.9,3.610170817749944,\"Sharrod Ford\"],[-4.8,19.608657385054304,\"Jawad Williams\"],[-15.266666666666666,5.991614510667761,\"Will Conroy\"],[-0.4,10.392625590613134,\"Anthony Grundy\"],[-5.0,10.868455885420568,\"Aaron Miles\"],[-12.5,9.034009814768485,\"Noel Felix\"],[-18.9,3.646916505762094,\"Roger Powell\"],[-2.82,31.701225002618852,\"Kelenna Azubuike\"],[-1.2,32.773002562623056,\"Chuck Hayes\"],[-5.0,12.310090711823896,\"Boniface Ndong\"],[-15.1,3.0983866769659336,\"Keith Langford\"],[-2.2625,19.12696612987364,\"John Lucas III\"],[-4.65,17.34985590718263,\"Andre Owens\"],[-0.68,35.92237928274424,\"Jamario Moon\"],[-1.86,39.75748776436124,\"Andrea Bargnani\"],[1.52,48.436765191559005,\"LaMarcus Aldridge\"],[-4.866666666666666,33.054525660893496,\"Adam Morrison\"],[0.6375000000000002,31.48892662508521,\"Tyrus Thomas\"],[-2.9499999999999997,30.512256189567122,\"Shelden Williams\"],[1.9666666666666668,43.89368468875171,\"Brandon Roy\"],[-1.4363636363636365,41.864603186940634,\"Randy Foye\"],[0.74,46.69505684045511,\"Rudy Gay\"],[-4.875,11.44308379182232,\"Patrick O'Bryant\"],[-0.9333333333333336,9.304598624097412,\"Mouhamed Sene\"],[0.28666666666666674,39.97062393530752,\"JJ Redick\"],[-3.683333333333333,23.73174737210334,\"Hilton Armstrong\"],[0.4428571428571429,36.897672206871185,\"Thabo Sefolosha\"],[0.95,37.977633220094155,\"Ronnie Brewer\"],[-5.966666666666666,15.335072365151863,\"Cedric Simmons\"],[-1.7600000000000002,30.32759469526063,\"Rodney Carney\"],[-3.1142857142857143,27.69113662562532,\"Shawne Williams\"],[-4.833333333333333,18.655011242142,\"Oleksiy Pecherov\"],[-3.5666666666666664,22.62919697107159,\"Quincy Douby\"],[-1.0166666666666666,22.60003687312626,\"Renaldo Balkman\"],[0.8666666666666667,43.10633235255453,\"Rajon Rondo\"],[-4.35,27.812984078184318,\"Marcus Williams\"],[-2.1,33.472171277047416,\"Josh Boone\"],[3.046666666666667,45.079548208324645,\"Kyle Lowry\"],[-3.466666666666667,28.536578216322557,\"Shannon Brown\"],[-0.41,31.369629686476472,\"Jordan Farmar\"],[-2.04,32.49561508880854,\"Sergio Rodriguez\"],[-7.8,11.244702456416233,\"Maurice Ager\"],[-4.7,26.320112715057533,\"Mardy Collins\"],[-3.5333333333333337,24.638925842387422,\"Joel Freeland\"],[-1.5666666666666667,13.942341585576244,\"James White\"],[-0.25454545454545446,22.678246819096913,\"Steve Novak\"],[-5.625,19.6623000095784,\"Solomon Jones\"],[1.1999999999999997,13.242592268887542,\"Paul Davis\"],[-1.23,45.331058153691195,\"P.J. Tucker\"],[-1.1833333333333333,33.72814106943932,\"Craig Smith\"],[-4.300000000000001,20.807590762347594,\"Bobby Jones\"],[-5.9,6.160357132504576,\"Kosta Perovic\"],[-3.1,28.137371353178445,\"David Noel\"],[-1.9,8.83562863260636,\"James Augustine\"],[-1.157142857142857,36.480640658534824,\"Daniel Gibson\"],[-2.9,9.286010984270918,\"Marcus Vinicius\"],[-4.85,25.508789334920102,\"Alexander Johnson\"],[-3.4499999999999997,18.85101677187024,\"Dee Brown\"],[1.74,44.81187218683112,\"Paul Millsap\"],[-2.62,25.765752463299044,\"Leon Powe\"],[-4.08,24.766997530315763,\"Ryan Hollins\"],[-7.0,7.564885987243958,\"Cheikh Samb\"],[-2.9,4.240479532631504,\"Guillermo Diaz\"],[-5.45,16.543301766374615,\"Hassan Adams\"],[-8.5,13.05335205991166,\"Damir Markota\"],[-5.8,12.871156384205229,\"Will Blalock\"],[-3.233333333333333,23.46439974846054,\"Chris Quinn\"],[-2.7,26.638474681057343,\"Allan Ray\"],[-4.7299999999999995,23.465552767123715,\"Lou Amundson\"],[-2.8000000000000003,21.13141421359835,\"Tarence Kinsey\"],[-0.1,31.488992785839706,\"Jorge Garbajosa\"],[-3.3,29.293116370005208,\"Pooh Jeter\"],[-3.2,15.101462401590997,\"Justin Williams\"],[-5.775,25.562073142320294,\"Yakhouba Diawara\"],[-6.4,11.27752189091203,\"Pops Mensah-Bonsu\"],[-6.3,11.648605066702192,\"Robert Hite\"],[-1.0214285714285716,34.10726601822689,\"J.J. Barea\"],[-4.7,12.086493839543914,\"Darius Washington\"],[-5.2,6.4268966072280955,\"Ivan McFarlin\"],[-0.3,25.420846650818778,\"Walter Herrmann\"],[-8.8,3.5730472522297685,\"Mike Hall\"],[-2.5,9.998333194421294,\"Kevinn Pinkney\"],[-2.4250000000000003,11.133040165800782,\"Mike Harris\"],[-27.7,3.4331715172223336,\"Chris McCray\"],[-7.3,14.106263384279588,\"Cedric Bozeman\"],[-14.9,5.30455778866941,\"Steven Smith\"],[-13.3,5.234023309080692,\"Renaldo Major\"],[-0.1,9.15323258016897,\"Dontell Jefferson\"],[-5.433333333333334,9.024288214467548,\"Jeremy Richardson\"],[-11.1,3.175164037757215,\"Lance Allred\"],[-5.5,18.901014082142073,\"Walker Russell\"],[-8.675,10.457772229303902,\"Randolph Morris\"],[-0.7999999999999999,25.998728601392948,\"Greg Oden\"],[6.961538461538462,49.96970749030524,\"Kevin Durant\"],[2.907142857142857,45.19206762464489,\"Al Horford\"],[2.2214285714285715,45.166034963075006,\"Mike Conley\"],[-1.3615384615384616,46.91650248183687,\"Jeff Green\"],[-4.56,34.748630668464244,\"Yi Jianlian\"],[-1.723076923076923,37.99958670490494,\"Corey Brewer\"],[1.61,26.360279462352686,\"Brandan Wright\"],[1.6,37.87071123217478,\"Joakim Noah\"],[-1.1,39.422878298436466,\"Spencer Hawes\"],[-3.275,24.415509073810714,\"Acie Law\"],[0.4857142857142857,47.0049668094969,\"Thaddeus Young\"],[-0.30000000000000004,27.605653104633,\"Julian Wright\"],[-3.475,45.48235005655125,\"Al Thornton\"],[-1.1400000000000001,42.2960991109109,\"Rodney Stuckey\"],[-2.6750000000000003,36.990499906507544,\"Nick Young\"],[-3.45,22.24416590179694,\"Sean Williams\"],[-1.6769230769230767,38.776187181151435,\"Marco Belinelli\"],[-4.199999999999999,30.432123926316166,\"Javaris Crittenton\"],[-3.2545454545454544,30.193600064392545,\"Jason Smith\"],[-2.6,31.604474015205156,\"Daequan Cook\"],[-0.37857142857142856,37.905937780875696,\"Jared Dudley\"],[-1.7833333333333332,41.11508407979836,\"Wilson Chandler\"],[1.525,38.613943940844315,\"Rudy Fernandez\"],[-6.7,10.960129764033114,\"Morris Almond\"],[-1.75,36.659750862946865,\"Aaron Brooks\"],[-1.8636363636363635,43.51457087905014,\"Arron Afflalo\"],[0.04285714285714296,31.195901745490314,\"Tiago Splitter\"],[-5.133333333333334,11.914113945699485,\"Alando Tucker\"],[-0.3888888888888889,35.78212361459798,\"Carl Landry\"],[-3.5,15.177368019521694,\"Gabe Pruitt\"],[7.449999999999999,4.439782276944068,\"Marcus Williams\"],[0.5,16.399441047385334,\"Nick Fazekas\"],[-2.7875,36.85366049209586,\"Glen Davis\"],[-5.2,14.707792719054295,\"Jermareo Davidson\"],[-2.2454545454545456,27.421891829615813,\"Josh McRoberts\"],[-3.6799999999999997,14.87793668490359,\"Kyrylo Fesenko\"],[-19.4,5.305500290578948,\"Sun Sun\"],[-5.75,19.748565348736943,\"Chris Richard\"],[-4.7,6.071518206621248,\"Derrick Byars\"],[-4.4,17.415988822535084,\"Stephane Lasme\"],[-2.9333333333333336,29.858481021125126,\"Dominic McGuire\"],[2.8923076923076922,47.00295271685136,\"Marc Gasol\"],[-3.5285714285714285,23.45278945740428,\"Aaron Gray\"],[-7.0,0.25495097567963926,\"JamesOn Curry\"],[-7.5,8.58972254111466,\"Taurean Green\"],[-8.45,5.413563213509813,\"Demetris Nichols\"],[-1.1181818181818182,38.278338680266835,\"Ramon Sessions\"],[-5.6,16.438471137345257,\"DJ Strawberry\"],[-1.98,26.566354034128707,\"Joel Anthony\"],[-12.600000000000001,9.235845025406887,\"Mustafa Shakur\"],[-2.65,9.586753013055732,\"Coby Karl\"],[-7.8500000000000005,9.187763601660635,\"Darryl Watkins\"],[-0.74,34.776170001884914,\"C.J. Watson\"],[-1.9153846153846152,33.048065229066225,\"Anthony Tolliver\"],[-10.833333333333334,7.524478571819961,\"Trey Johnson\"],[-7.25,3.4940425488727667,\"Courtney Sims\"],[-2.6,14.107651588174882,\"Mario West\"],[-7.85,8.439687987913612,\"Thomas Gardner\"],[-1.9000000000000001,31.378256803079395,\"Ivan Johnson\"],[-7.65,6.275348595894892,\"Andre Ingram\"],[-5.9,6.2636517570290655,\"Eric Dawson\"],[-1.5,10.898012051134234,\"Carldell Johnson\"],[-8.4,8.68539642797674,\"Blake Ahearn\"],[-5.2,27.75761156872111,\"Mike Taylor\"],[-1.7454545454545454,35.55231314129883,\"Michael Beasley\"],[-1.2,45.989602538689844,\"O.J. Mayo\"],[0.6166666666666666,41.51230239338696,\"Derrick Rose\"],[4.6923076923076925,50.18894428263188,\"Russell Westbrook\"],[2.630769230769231,42.448033085415304,\"Kevin Love\"],[1.758333333333333,40.93365227888772,\"Danilo Gallinari\"],[-0.48461538461538467,41.68472941817745,\"Eric Gordon\"],[-5.9,19.303971957432314,\"Joe Alexander\"],[-0.7538461538461539,41.10849154278318,\"D.J. Augustin\"],[1.4307692307692308,44.629882480871615,\"Brook Lopez\"],[-2.109090909090909,33.689419254373746,\"Jerryd Bayless\"],[-2.3875,43.039688563774114,\"Jason Thompson\"],[-2.2666666666666666,34.26082148590265,\"Brandon Rush\"],[-1.5999999999999999,25.29917653468851,\"Anthony Randolph\"],[-1.4230769230769231,39.1842213796345,\"Robin Lopez\"],[-2.29,32.61766903586664,\"Marreese Speights\"],[-1.3333333333333333,42.673354510574704,\"Roy Hibbert\"],[-0.676923076923077,31.391118293114502,\"JaVale McGee\"],[-1.9,38.61098721003302,\"JJ Hickson\"],[-3.8285714285714287,23.615304762962918,\"Alexis Ajinca\"],[0.26666666666666655,37.38117841909214,\"Ryan Anderson\"],[-0.6666666666666666,42.75833739362028,\"Courtney Lee\"],[-2.0818181818181816,32.01116045911792,\"Kosta Koufos\"],[0.5416666666666666,44.78117318943554,\"Serge Ibaka\"],[1.5,45.20567385536851,\"Nicolas Batum\"],[1.2615384615384615,41.52324186988072,\"George Hill\"],[-2.511111111111111,31.52452895644797,\"Darrell Arthur\"],[-3.25,32.63443988590378,\"Donte Greene\"],[-0.7666666666666665,18.752836822435384,\"DJ White\"],[1.25,11.106417064022034,\"J.R. Giddens\"],[-2.25,33.52992030344771,\"Nikola Pekovic\"],[-10.1,4.419275958796871,\"Walter Sharpe\"],[-2.4000000000000004,19.296556255802056,\"Joey Dorsey\"],[-0.6555555555555556,43.7736370010112,\"Mario Chalmers\"],[0.8538461538461538,44.35199530099506,\"DeAndre Jordan\"],[-2.7875,33.943482437722835,\"Omer Asik\"],[-2.216666666666667,36.55858882214503,\"Luc Mbah a Moute\"],[-1.0333333333333334,21.44351753897768,\"Kyle Weaver\"],[-8.2,28.872766868914137,\"Sonny Weems\"],[-3.033333333333333,27.0173658145193,\"Chris Douglas-Roberts\"],[-11.05,14.676994469804322,\"Nathan Jawai\"],[-5.1,17.4060813127673,\"Sean Singletary\"],[-9.1,4.376452139956896,\"Patrick Ewing\"],[0.11538461538461542,43.17669569666084,\"Goran Dragic\"],[-2.18,24.55951953927438,\"Henry Walker\"],[-1.95,15.36522046701576,\"Malik Hairston\"],[-6.833333333333333,18.5988649593941,\"Darnell Jackson\"],[-2.8,9.76703639800733,\"Sasha Kaun\"],[-2.7,4.778423728943814,\"Joe Crawford\"],[-3.9,21.53444914549708,\"Semih Erden\"],[-0.8666666666666667,36.94006156123927,\"Anthony Morrow\"],[-5.275,20.545802491019913,\"Bobby Brown\"],[-7.0,7.891081463694736,\"Othello Hunter\"],[29.2,1.559914527573011,\"Steven Hill\"],[-3.12,14.530875174377261,\"Hamed Haddadi\"],[-2.7,21.02173478410697,\"Rob Kurz\"],[-5.5,13.066432821036774,\"DeMarcus Nelson\"],[-3.1666666666666665,12.132898343850995,\"Othyus Jeffers\"],[-1.9,4.640043103248073,\"Oliver Lafayette\"],[-4.1,27.98100546203919,\"Chris Hunter\"],[-1.95,27.421372443163133,\"Gary Forbes\"],[21.2,2.262741699796952,\"Trey Gilder\"],[-2.7857142857142856,21.87886020361947,\"Cartier Martin\"],[-2.275,27.60369087640274,\"Greg Stiemsma\"],[2.8636363636363638,45.58545255724116,\"Blake Griffin\"],[-3.9200000000000004,21.71450360166372,\"Hasheem Thabeet\"],[6.641666666666667,50.163106185943285,\"James Harden\"],[0.82,42.710982194278806,\"Tyreke Evans\"],[0.55,43.76946614555251,\"Ricky Rubio\"],[-4.666666666666667,35.30071607709335,\"Jonny Flynn\"],[6.308333333333334,46.681548222444846,\"Stephen Curry\"],[-3.325,31.00635687510977,\"Jordan Hill\"],[0.48333333333333334,50.03905280434031,\"DeMar DeRozan\"],[0.3666666666666667,43.25968313782691,\"Brandon Jennings\"],[-3.15,27.02545867634197,\"Terrence Williams\"],[-1.9875,41.61502633264417,\"Gerald Henderson\"],[-2.2714285714285714,32.14183596261451,\"Tyler Hansbrough\"],[-4.0,24.600496833284563,\"Earl Clark\"],[-2.6166666666666667,26.24244864929931,\"Austin Daye\"],[0.24166666666666667,34.30745586279719,\"James Johnson\"],[1.3666666666666665,46.19579556385816,\"Jrue Holiday\"],[1.0375,44.84266012032145,\"Ty Lawson\"],[0.09166666666666663,42.9763145361618,\"Jeff Teague\"],[-3.3600000000000003,27.91112084217805,\"Eric Maynor\"],[0.61,45.60343737044391,\"Darren Collison\"],[-0.8700000000000001,34.58484253735056,\"Omri Casspi\"],[-6.640000000000001,26.255399444685647,\"Byron Mullens\"],[-0.625,26.905025862590538,\"Rodrigue Beaubois\"],[-0.5416666666666666,41.86325291284046,\"Taj Gibson\"],[-0.9818181818181819,35.25751370597865,\"DeMarre Carroll\"],[-1.5833333333333333,35.695712472072735,\"Wayne Ellington\"],[-1.4124999999999999,30.63776264677302,\"Toney Douglas\"],[-4.8,22.906258242381416,\"Christian Eyenga\"],[-3.366666666666667,18.90188115270835,\"Victor Claver\"],[-2.8666666666666667,19.67273917548511,\"Jeff Ayres\"],[-3.75,19.810897674428247,\"Jermaine Taylor\"],[-1.5699999999999998,38.56875030384054,\"Dante Cunningham\"],[-6.7,14.309422886103173,\"DaJuan Summers\"],[-2.25,31.48639918017516,\"Sam Young\"],[-3.0714285714285716,31.745250863411872,\"DeJuan Blair\"],[-4.466666666666667,22.875423493347622,\"Jon Brockman\"],[-0.9444444444444444,35.46983068593489,\"Jonas Jerebko\"],[-1.2333333333333334,29.177921637963035,\"Derrick Brown\"],[-0.95,34.79951149082414,\"Jodie Meeks\"],[1.1222222222222222,37.90854491770658,\"Patrick Beverley\"],[0.012500000000000011,37.57914426025868,\"Marcus Thornton\"],[-0.7857142857142857,33.801989938604535,\"Chase Budinger\"],[-0.45,31.70576971677763,\"Nick Calathes\"],[1.625,40.19512477347912,\"Danny Green\"],[-8.1,5.699853799294619,\"Taylor Griffin\"],[-1.8666666666666665,25.590829520661426,\"AJ Price\"],[-0.5,26.59569200704004,\"Nando De Colo\"],[-0.3916666666666666,34.96091667054003,\"Patty Mills\"],[-1.225,12.187014947612619,\"Lester Hudson\"],[-2.4,35.273870061150234,\"Garrett Temple\"],[-7.5,10.519030373565807,\"Marcus Landry\"],[-9.1,6.027713773341706,\"Jerel McNeal\"],[-12.4,3.823174945861973,\"Antonio Anderson\"],[-5.8,10.064458919054367,\"Garret Siler\"],[-1.9999999999999998,10.438909585456383,\"Larry Owens\"],[-0.15,46.854455497849926,\"Wesley Matthews\"],[-2.2375,33.66988639719476,\"Alonzo Gee\"],[-1.8,14.06674565538643,\"Dionte Christmas\"],[-1.5428571428571427,23.100798790559267,\"Reggie Williams\"],[-6.8,8.63355855562081,\"Cedric Jackson\"],[-4.7,15.876030150303098,\"Mickell Gladness\"],[-0.49999999999999994,20.90233905039763,\"Sundiata Gaines\"],[-13.3,3.4302575219167872,\"Shane Edwards\"],[-3.6,17.079178356505707,\"Zabian Dowdell\"],[-8.85,15.089234573032524,\"Terrel Harris\"],[2.15,46.72460451054312,\"John Wall\"],[-2.19,43.518522876280315,\"Evan Turner\"],[0.8545454545454544,41.06469766039189,\"Derrick Favors\"],[-1.9777777777777779,38.68861685398012,\"Wesley Johnson\"],[2.45,43.34942329489518,\"DeMarcus Cousins\"],[-0.7428571428571428,28.519817671226434,\"Ekpe Udoh\"],[1.1222222222222222,44.064712513403364,\"Greg Monroe\"],[-1.0636363636363635,40.11131292095066,\"Al-Farouq Aminu\"],[1.0363636363636362,43.969965644606525,\"Gordon Hayward\"],[3.3636363636363638,46.381559815395285,\"Paul George\"],[-1.25,20.579277603129484,\"Cole Aldrich\"],[-5.0,24.10541432956505,\"Xavier Henry\"],[-0.8090909090909091,35.10390205367403,\"Ed Davis\"],[-0.24545454545454548,36.8295953128607,\"Patrick Patterson\"],[-3.9,27.793579394449292,\"Larry Sanders\"],[-2.9875,25.816919516730355,\"Luke Babbitt\"],[-4.328571428571428,30.309486963655445,\"Kevin Seraphin\"],[1.5636363636363635,42.2753904341951,\"Eric Bledsoe\"],[-3.3545454545454545,39.017107747367646,\"Avery Bradley\"],[-2.38,29.39636598855942,\"James Anderson\"],[-10.75,7.772601452109413,\"Craig Brackins\"],[-4.1,19.173158320944435,\"Elliot Williams\"],[-0.525,36.866493369092396,\"Trevor Booker\"],[0.17500000000000004,12.491597175701752,\"Damion James\"],[-2.0666666666666664,15.717011307638751,\"Dominique Jones\"],[-2.4,28.10720548186888,\"Quincy Pondexter\"],[-0.25,33.771458199030846,\"Jordan Crawford\"],[-2.557142857142857,36.875611375077085,\"Greivis Vasquez\"],[-3.3666666666666667,13.432030540631017,\"Daniel Orton\"],[-4.433333333333334,14.039586888509213,\"Lazar Hayward\"],[-11.6,9.029950165975448,\"Tibor Pleiss\"],[-16.75,9.313654850093316,\"Dexter Pittman\"],[-1.5444444444444443,35.72082336988082,\"Hassan Whiteside\"],[-3.4,14.172949587153692,\"Armon Johnson\"],[-0.2833333333333334,36.58244114325886,\"Nemanja Bjelica\"],[-13.0,6.235382907247958,\"Darington Hobson\"],[-13.2,4.909175083453431,\"Andy Rautins\"],[-0.62,34.671063823694055,\"Landry Fields\"],[-2.511111111111111,36.31146895648505,\"Lance Stephenson\"],[-5.9,14.098877023838932,\"Jarvis Varnado\"],[-4.633333333333334,15.384443802461986,\"Devin Ebanks\"],[-0.7,15.661630396183758,\"Jerome Jordan\"],[-15.0,1.390443574307613,\"Gani Lawal\"],[-5.550000000000001,9.517746582043461,\"Solomon Alabi\"],[-3.35,20.87372750612597,\"Luke Harangody\"],[-6.0,4.58075685158395,\"Pape Sy\"],[-2.7,11.56726703533151,\"Willie Warren\"],[0.3285714285714284,19.370866686611535,\"Jeremy Evans\"],[-11.733333333333334,7.242467351209347,\"Hamady Ndiaye\"],[-7.1,14.662991963897852,\"Derrick Caracter\"],[-2.0,4.081870486268115,\"Ryan Reid\"],[-0.8500000000000001,20.09017172649353,\"Ben Uzoh\"],[-2.62,27.384009932805668,\"Donald Sloan\"],[-2.75,31.980290153989113,\"Timofey Mozgov\"],[-3.742857142857143,32.74534136258748,\"Gary Neal\"],[-0.08888888888888896,36.843947691330264,\"Jeremy Lin\"],[-8.0,8.116752224052838,\"Sherron Collins\"],[-5.766666666666667,23.959444901750132,\"Samardo Samuels\"],[-1.7272727272727273,34.67778959087634,\"Ish Smith\"],[-3.1799999999999997,20.731417381999396,\"Jeff Adrien\"],[-3.6,13.423238556076287,\"Jerome Dyson\"],[-8.633333333333333,19.317579788599005,\"Elijah Millsap\"],[-7.1,4.279213323341885,\"Marcus Cousin\"],[-5.975,19.95873868760248,\"Manny Harris\"],[-2.6,14.125154866407659,\"Chris Johnson\"],[-15.85,6.894744375246988,\"Justin Dentmon\"],[-5.199999999999999,28.526248471396503,\"Lance Thomas\"],[-2.0,6.778274116617002,\"Jerry Smith\"],[-7.2,7.627472276798736,\"Luke Zeller\"],[-3.4000000000000004,6.499786321274123,\"Arinze Onuaku\"],[-4.3,9.757304955775442,\"Courtney Fortson\"],[4.87,44.39898647491856,\"Kyrie Irving\"],[-3.8714285714285714,35.58307516355548,\"Derrick Williams\"],[-0.13999999999999999,39.60952957727891,\"Enes Freedom\"],[-1.77,43.19634822528404,\"Tristan Thompson\"],[1.1666666666666667,42.03300731215531,\"Jonas Valanciunas\"],[-2.8000000000000003,28.608283571177207,\"Jan Vesely\"],[-2.5100000000000002,37.70065428256299,\"Bismack Biyombo\"],[-2.1875,40.525308450399244,\"Brandon Knight\"],[2.76,48.70114475040601,\"Kemba Walker\"],[-3.7833333333333337,23.134101812403838,\"Jimmer Fredette\"],[0.675,50.420719534069846,\"Klay Thompson\"],[-0.99,34.72811301141099,\"Alec Burks\"],[-1.58,41.7455386837923,\"Markieff Morris\"],[-1.31,42.29261558869743,\"Marcus Morris Sr.\"],[6.95,42.45542368178652,\"Kawhi Leonard\"],[2.04,45.22259206782969,\"Nikola Vucevic\"],[-3.15,33.86859656574707,\"Iman Shumpert\"],[-3.6999999999999997,29.465639122355512,\"Chris Singleton\"],[0.85,45.907973163710885,\"Tobias Harris\"],[-6.383333333333333,27.58271399103269,\"Donatas Motiejunas\"],[-6.2,20.355814075262785,\"Nolan Smith\"],[0.3125,38.28850730528243,\"Kenneth Faried\"],[1.64,39.28948544670276,\"Nikola Mirotic\"],[-0.04999999999999996,39.57815685450751,\"Reggie Jackson\"],[-0.2200000000000001,26.290815886921436,\"MarShon Brooks\"],[-0.8,20.493999121694152,\"Jordan Hamilton\"],[-3.9,17.267358416001766,\"JaJuan Johnson\"],[-4.6000000000000005,36.55886045513148,\"Norris Cole\"],[-1.1300000000000001,38.159452738912975,\"Cory Joseph\"],[4.07,45.75133331390463,\"Jimmy Butler\"],[-1.1,46.88471677067769,\"Bojan Bogdanovic\"],[-8.133333333333335,7.071774883294857,\"Justin Harper\"],[-3.4499999999999997,36.044386217242995,\"Kyle Singler\"],[-2.05,32.39035993419443,\"Shelvin Mack\"],[-7.699999999999999,7.730567033967602,\"Tyler Honeycutt\"],[-2.1,25.19550224411756,\"Jordan Williams\"],[-5.7,10.909781543795138,\"Trey Thompkins\"],[-0.5888888888888889,38.365107604195266,\"Chandler Parsons\"],[-7.400000000000001,18.566502093824784,\"Jeremy Tyler\"],[-1.6624999999999999,27.259551078475212,\"Jon Leuer\"],[-5.725,19.13260741944669,\"Darius Morris\"],[0.86,36.255100790555424,\"Davis Bertans\"],[-10.9,13.337374387620509,\"Malcolm Lee\"],[-4.550000000000001,25.824810422021166,\"Charles Jenkins\"],[-2.166666666666667,17.20218009439502,\"Josh Harrellson\"],[-8.166666666666666,12.576565508913795,\"Andrew Goudelock\"],[-0.3,6.729289214570384,\"Travis Leslie\"],[-7.7,3.0221405217715023,\"Keith Benson\"],[-10.600000000000001,12.157747872584517,\"Josh Selby\"],[-1.9666666666666668,33.92259980864936,\"Lavoy Allen\"],[1.2,11.638585251939643,\"Vernon Macklin\"],[6.319999999999999,19.52737394872473,\"DeAndre Liggins\"],[-2.08,35.44517362537998,\"E'Twaun Moore\"],[-1.02,39.024979180007264,\"Isaiah Thomas\"],[-3.9,7.210871422142174,\"Edwin Ubiles\"],[-3.033333333333333,15.231509737675022,\"Dwight Buycks\"],[-6.85,15.08150080949063,\"Cory Higgins\"],[-6.7,7.672461578050861,\"D.J. Kennedy\"],[-7.1,9.73319063822342,\"Mychel Thompson\"],[-8.1,4.702658822410998,\"Dennis Horner\"],[-0.1,12.476745034930666,\"Chris Wright\"],[-10.8,6.255397669213365,\"Jeff Foote\"],[-11.399999999999999,4.806159242749523,\"Xavier Silas\"],[-0.39999999999999997,11.203384905167422,\"Julyan Stone\"],[-5.566666666666666,19.351227351256043,\"Jeremy Pargo\"],[-4.449999999999999,9.067363637426997,\"Malcolm Thomas\"],[-1.7666666666666666,30.359256322321936,\"Brad Wanamaker\"],[-2.4,19.154494685756326,\"Greg Smith\"],[-0.1333333333333333,27.39989862106146,\"Gustavo Ayon\"],[-3.0,2.9501412395567317,\"Josh Akognon\"],[6.1,46.42842560009659,\"Anthony Davis\"],[-2.225,37.04473084439042,\"Michael Kidd-Gilchrist\"],[1.6555555555555557,48.28012396805099,\"Bradley Beal\"],[-1.95,38.46283379229009,\"Dion Waiters\"],[-3.28,28.99397638590931,\"Thomas Robinson\"],[5.0,52.467963770497356,\"Damian Lillard\"],[-0.9555555555555555,41.06698908603591,\"Terrence Ross\"],[1.2111111111111112,46.93972888873718,\"Andre Drummond\"],[-0.9222222222222223,48.50633215632017,\"Harrison Barnes\"],[-3.022222222222222,39.94430149873975,\"Austin Rivers\"],[-1.3888888888888888,28.200036117654832,\"Meyers Leonard\"],[0.15555555555555556,34.898034010210054,\"Jeremy Lamb\"],[-3.925,27.763660301432413,\"Kendall Marshall\"],[-0.05000000000000003,33.075872374486714,\"John Henson\"],[-0.9666666666666668,38.23188750535634,\"Maurice Harkless\"],[-16.9,2.984403904746586,\"Royce White\"],[-4.975,30.109875179637204,\"Tyler Zeller\"],[-4.783333333333334,30.45057014609452,\"Terrence Jones\"],[-3.96,28.56501940019177,\"Andrew Nicholson\"],[-0.9555555555555555,42.31863261811122,\"Evan Fournier\"],[-1.7600000000000002,36.14268482925234,\"Jared Sullinger\"],[-7.6,5.999583318864736,\"Fab Melo\"],[-1.8166666666666664,19.073760335427654,\"John Jenkins\"],[-4.85,12.30059280414295,\"Jared Cunningham\"],[-5.525,27.72852772867682,\"Tony Wroten\"],[-2.6285714285714286,28.430487492261175,\"Miles Plumlee\"],[-4.25,19.088849275602406,\"Arnett Moultrie\"],[-4.366666666666666,23.632710382010785,\"Perry Jones III\"],[-6.233333333333333,17.398467365451094,\"Marquis Teague\"],[-1.7666666666666666,28.24815628201838,\"Festus Ezeli\"],[-0.72,39.26810834931233,\"Tomas Satoransky\"],[-1.9000000000000001,15.923602328339872,\"Bernard James\"],[0.1777777777777778,43.04423005166594,\"Jae Crowder\"],[1.9888888888888887,44.946278633085555,\"Draymond Green\"],[-4.3999999999999995,19.25912482146811,\"Orlando Johnson\"],[-2.5,27.756316312473746,\"Quincy Acy\"],[-5.566666666666666,17.64951998088208,\"Quincy Miller\"],[0.43333333333333335,45.40137255226575,\"Khris Middleton\"],[-0.7333333333333333,39.22327351439685,\"Will Barton\"],[-8.05,15.66357238946467,\"Tyshawn Taylor\"],[-5.949999999999999,25.22487198513932,\"Doron Lamb\"],[-2.2222222222222223,31.94185690003358,\"Mike Scott\"],[-4.2,20.163498373711516,\"Kim English\"],[-1.8,25.568318069221682,\"Justin Hamilton\"],[-3.0,29.88553161648626,\"Darius Miller\"],[-16.8,7.237978539159487,\"Kevin Murphy\"],[-3.25,23.33929090610938,\"Kostas Papanikolaou\"],[0.825,28.968301641622,\"Kyle O'Quinn\"],[-9.9,7.341775443764723,\"Kris Joseph\"],[-3.6,23.248512497218677,\"Furkan Aldemir\"],[-6.9,11.124260275032531,\"Tornike Shengelia\"],[-24.15,3.2331615074619044,\"Darius Johnson-Odom\"],[-3.05,26.428614543079373,\"Robbie Hummel\"],[-5.125,26.199491089205004,\"Robert Sacre\"],[-5.15,9.060997001802102,\"Ognjen Kuzmic\"],[-2.75,40.073988862269914,\"Hollis Thompson\"],[-4.45,11.899159634192655,\"Viacheslav Kravtsov\"],[-0.8833333333333333,30.99833328852805,\"Mirza Teletovic\"],[-1.5250000000000001,22.96544505701265,\"Chris Copeland\"],[0.04999999999999999,33.781910839974685,\"Pablo Prigioni\"],[-0.2333333333333334,33.019312530699345,\"Alexey Shved\"],[-1.6,38.007523621670664,\"Kent Bazemore\"],[-2.5500000000000003,10.279307693938668,\"Maalik Wayns\"],[-9.7,1.3988090172238203,\"Chris Smith\"],[-1.9600000000000002,32.27061098481609,\"Brian Roberts\"],[-2.625,25.20565412759607,\"Henry Sims\"],[-4.1,18.276122856521482,\"Kevin Jones\"],[-1.6500000000000004,4.495367986420394,\"Scott Machado\"],[-4.2,14.152738250953417,\"Ben Hansbrough\"],[0.4,3.122498999199199,\"Tony Mitchell\"],[-0.19999999999999998,25.061291533624807,\"Willie Reed\"],[-1.1,23.84779864054542,\"Chris Johnson\"],[-4.5,24.464021201211686,\"Diante Garrett\"],[-4.5,28.33757811340505,\"DeQuan Jones\"],[-1.65,38.877588338270165,\"Justin Holiday\"],[-19.2,2.091650066335189,\"Chris Wright\"],[-1.5142857142857142,35.95716697882156,\"JaMychal Green\"],[-4.3,10.24255827418131,\"James Nunnally\"],[-2.6,12.672038334678271,\"Jorge Gutierrez\"],[-8.15,13.97438132202401,\"Toure' Murry\"],[-17.2,3.4253953543106963,\"Tim Ohlbrecht\"],[-9.4,8.695784419284246,\"Glen Rice Jr.\"],[-3.033333333333333,30.495895291491763,\"Aron Baynes\"],[1.2857142857142858,36.88612463347417,\"Nerlens Noel\"],[-2.0875,35.618391199865655,\"Alex Len\"],[-2.5714285714285716,36.10528585493633,\"Allen Crabbe\"],[-2.1714285714285713,31.16970828040767,\"Andre Roberson\"],[-4.15,21.822350927432176,\"Anthony Bennett\"],[-2.1,24.472586704310586,\"Archie Goodwin\"],[-3.25,37.49761936887904,\"Ben McLemore\"],[-3.5,23.99666643515303,\"Brandon Paul\"],[-3.4,6.172519744804386,\"Carrick Felix\"],[0.7375,45.386474673996595,\"CJ McCollum\"],[-0.5875,36.43258900581547,\"Cody Zeller\"],[-1.6625,42.734782866731265,\"Dennis Schroder\"],[-1.5,30.4254313856024,\"Dewayne Dedmon\"],[-1.9,3.268409399080846,\"DJ Stephens\"],[-3.0999999999999996,15.03365668536212,\"Erick Green\"],[0.5375,38.5635919618492,\"Gorgui Dieng\"],[-2.65,28.277705195279026,\"Isaiah Canaan\"],[-5.75,9.346166772176343,\"Jamaal Franklin\"],[-2.7,5.471136384091818,\"James Southerland\"],[-0.5800000000000001,20.35942861018779,\"Jeff Withey\"],[0.825,39.7566189457806,\"Kelly Olynyk\"],[-0.7875,46.962127915303554,\"Kentavious Caldwell-Pope\"],[-4.42,15.387256632248215,\"Lorenzo Brown\"],[1.425,40.27211866374385,\"Mason Plumlee\"],[-1.3624999999999998,35.176246720384086,\"Michael Carter-Williams\"],[-0.775,27.6180194800424,\"Mike Muscala\"],[-6.8,22.911569130026837,\"Nate Wolters\"],[0.38749999999999996,38.21781598068281,\"Otto Porter Jr.\"],[-6.4,14.977983842960974,\"Peyton Siva\"],[-2.733333333333333,30.58800600090029,\"Ray McCallum\"],[-1.1125,31.371042247057503,\"Reggie Bullock\"],[-6.0,11.77331021137783,\"Ricky Ledo\"],[0.5,42.01923418705613,\"Robert Covington\"],[3.175,44.972257652171905,\"Rudy Gobert\"],[-2.2399999999999998,30.890273550099884,\"Shabazz Muhammad\"],[-2.5749999999999997,34.92626757422939,\"Shane Larkin\"],[0.16249999999999998,44.45889253006646,\"Steven Adams\"],[-0.9125,42.7089934908328,\"Tim Hardaway Jr.\"],[10.6,8.895410801831094,\"Tony Mitchell\"],[-1.875,39.16294751845592,\"Tony Snell\"],[-0.8625,35.28362167257401,\"Trey Burke\"],[-10.666666666666666,6.665833281243491,\"Vander Blue\"],[0.38750000000000007,43.255341673986706,\"Victor Oladipo\"],[5.5,48.92581970016785,\"Giannis Antetokounmpo\"],[-4.633333333333334,19.239455986764966,\"Sergey Karasev\"],[-4.4,9.187037970241915,\"Pierre Jackson\"],[-10.8,7.136642534600336,\"Grant Jerrett\"],[-0.825,20.93961556476145,\"Lucas Nogueira\"],[-8.6,7.883632834338919,\"Erik Murphy\"],[-2.566666666666667,25.918065342751028,\"Phil Pressey\"],[-1.2428571428571427,33.73501078080384,\"James Ennis III\"],[-10.0,11.93133130319777,\"Nemanja Nedovic\"],[-2.1333333333333333,30.428367612403356,\"Alex Abrines\"],[-6.2,6.130524719249838,\"Adonis Thomas\"],[-3.8000000000000003,33.67899939131208,\"Matthew Dellavedova\"],[-2.3875,34.486473797707994,\"Solomon Hill\"],[-1.0333333333333334,28.539587515511787,\"Raul Neto\"],[-2.85,27.951043510633642,\"Ryan Kelly\"],[-2.6,26.566943745941103,\"Joffrey Lauvergne\"],[-9.45,12.945526897993254,\"Gal Mekel\"],[-2.4,14.945986083226492,\"Gigi Datome\"],[-3.1999999999999997,31.321092467111225,\"Pero Antic\"],[-9.3,15.609238717289626,\"Miroslav Raduljica\"],[-3.033333333333333,27.402590104667926,\"Ian Clark\"],[0.3,3.3739195801520374,\"Elias Harris\"],[-2.5571428571428574,32.41427522088437,\"Seth Curry\"],[-5.4,22.336890264015413,\"Brandon Davies\"],[-1.9500000000000002,2.357258294431619,\"Kalin Lucas\"],[-15.0,5.3603482473933814,\"Patrick Christopher\"],[-6.1,11.503477735015617,\"Chris Babb\"],[-9.45,12.023899811070734,\"Larry Drew II\"],[-1.8714285714285717,26.848215334853585,\"Troy Daniels\"],[-1.5799999999999998,31.23944088274736,\"Rodney McGruder\"],[-8.5,1.1105554165971774,\"Trey McKinney-Jones\"],[-3.1500000000000004,36.39645701621704,\"Jonathon Simmons\"],[-0.2666666666666666,15.120846537148639,\"Thanasis Antetokounmpo\"],[-3.9000000000000004,12.550630794240309,\"Norvel Pelle\"],[1.5,2.5742312768410436,\"Reggie Hearn\"],[-4.4,11.27072165687125,\"Josh Magette\"],[-2.9000000000000004,20.428758324153403,\"C.J. Williams\"],[-3.7,31.625886021843982,\"PJ Hairston\"],[-6.0,8.33196655458162,\"Will Cherry\"],[-2.4,10.75933703038124,\"Casper Ware\"],[-17.35,2.7518175811634027,\"Scotty Hopson\"],[-5.1000000000000005,8.100977307296532,\"Russ Smith\"],[-0.9166666666666666,31.587238105144785,\"Shabazz Napier\"],[-2.175,20.596358901514606,\"Jordan McRae\"],[-0.14285714285714274,42.912180532981985,\"Zach LaVine\"],[-3.475,24.173461688388777,\"Tyler Ennis\"],[-5.466666666666666,24.462567776548365,\"Markel Brown\"],[-0.8857142857142856,42.81911288865555,\"Elfrid Payton\"],[-5.1,31.187203572405576,\"Semaj Christon\"],[-0.2571428571428572,44.799612030633,\"Jordan Clarkson\"],[-5.5,15.114700349880145,\"Devyn Marble\"],[-3.0,26.41166619339096,\"KJ McDaniels\"],[-6.5,16.19717053479814,\"Nick Johnson\"],[-4.833333333333333,11.182054074870742,\"C.J. Wilcox\"],[-4.3,23.840336966298672,\"Jabari Brown\"],[-1.8571428571428572,40.960050223183494,\"Gary Harris\"],[-0.8285714285714285,34.28190901502257,\"Spencer Dinwiddie\"],[-2.82,36.50035159648011,\"Nik Stauskas\"],[-1.4714285714285715,38.29974511913201,\"Rodney Hood\"],[4.15,11.469197879538038,\"Jordan Adams\"],[-0.775,30.3006463077385,\"Khem Birch\"],[-6.9,20.01085122294068,\"Cleanthony Early\"],[-2.314285714285714,27.51449401592517,\"Glenn Robinson III\"],[-4.025,14.24945905406003,\"James Young\"],[-0.7428571428571428,43.019037867525796,\"Jerami Grant\"],[-2.0285714285714285,38.133493589406854,\"Joe Harris\"],[-2.2,37.39425089502398,\"Doug McDermott\"],[-4.7,17.04731161600952,\"Cory Jefferson\"],[-2.375,27.754736832956414,\"Sean Kilpatrick\"],[-0.24285714285714288,42.92941881740305,\"Aaron Gordon\"],[-1.042857142857143,36.943679786811664,\"T.J. Warren\"],[-8.25,14.752400934537176,\"Lamar Patterson\"],[-0.3,43.40541989418459,\"Marcus Smart\"],[1.3285714285714287,36.05624904559676,\"Kyle Anderson\"],[0.9285714285714286,33.64060047026508,\"Dwight Powell\"],[-3.25,18.728643392764283,\"Adreian Payne\"],[-5.8428571428571425,28.493729468913305,\"Noah Vonleh\"],[-1.9428571428571428,44.07951419229314,\"Julius Randle\"],[-6.0,3.7396523902630308,\"Alex Kirk\"],[-8.25,9.114045936538467,\"Cameron Bairstow\"],[-5.550000000000001,20.5208735194192,\"Johnny O'Bryant III\"],[-2.225,14.782506553355557,\"James Michael McAdoo\"],[5.8999999999999995,7.100899786490292,\"Jarnell Stokes\"],[-15.1,5.181698563212646,\"Keith Appling\"],[-1.6428571428571428,51.5562429825544,\"Andrew Wiggins\"],[-0.6714285714285715,34.69165880260256,\"Jabari Parker\"],[4.9799999999999995,39.85829901036922,\"Joel Embiid\"],[-5.5,9.953516966379278,\"Bryce Cotton\"],[-4.6,16.69408577910153,\"Mitch McGary\"],[-2.716666666666667,27.523161963052953,\"Dante Exum\"],[-12.8,4.655999713631145,\"Andre Dawkins\"],[-2.6666666666666665,24.321852314328368,\"JaKarr Sampson\"],[2.125,14.983185019658983,\"Eric Moreland\"],[0.7000000000000003,18.862794066627558,\"Josh Huestis\"],[-3.55,8.627813550759361,\"Shayne Whittington\"],[0.2,16.54559357250948,\"Jamil Wilson\"],[-1.0,42.340925828328324,\"Dario Saric\"],[-13.0,1.6502525059315407,\"Jerrelle Benimon\"],[0.8428571428571427,38.86270093302218,\"Clint Capela\"],[0.525,42.40740894387837,\"Bogdan Bogdanovic\"],[0.22857142857142865,34.301631225962176,\"Jusuf Nurkic\"],[-5.6,12.504066005370692,\"Damien Inglis\"],[-7.714285714285714,13.591234920590058,\"Bruno Caboclo\"],[7.783333333333334,47.5036109738571,\"Nikola Jokic\"],[1.42,42.2004344369423,\"Kristaps Porzingis\"],[0.7499999999999999,7.079901129253148,\"Edy Tavares\"],[-3.8666666666666667,23.368354670365648,\"Damjan Rudez\"],[-0.8285714285714286,35.086722492106546,\"Tyler Johnson\"],[32.5,1.638596960817394,\"Sim Bhullar\"],[-3.15,9.338584832118121,\"Jack Cooley\"],[-4.1571428571428575,26.402840756251965,\"Tim Frazier\"],[-2.8,28.802350887847073,\"Tarik Black\"],[-9.4,2.6394443859772214,\"David Wear\"],[-4.6,21.210728417477792,\"Travis Wear\"],[-1.2428571428571427,37.289613005436756,\"Langston Galloway\"],[-7.7,8.673138609138753,\"Zoran Dragic\"],[1.2142857142857142,44.77731409031651,\"Joe Ingles\"],[2.0,4.605250626549364,\"David Stockton\"],[-5.25,9.358908412131559,\"John Holland\"],[-4.066666666666667,8.51909619619359,\"Jarell Eddie\"],[-9.5,8.43712036182962,\"Drew Gordon\"],[-6.9,11.511877923837325,\"Xavier Munford\"],[-4.5,8.666025617317317,\"Omari Johnson\"],[-17.2,3.4665064065520923,\"Greg Whittington\"],[-0.20000000000000004,40.903297204775846,\"T.J. McConnell\"],[-1.9000000000000001,28.361965924651816,\"Jahlil Okafor\"],[-3.04,37.879625130140894,\"Emmanuel Mudiay\"],[-0.09999999999999998,33.73634291581312,\"Tyus Jones\"],[0.0,5.996526772502004,\"Cliff Alexander\"],[-2.46,24.347888341017708,\"Justin Anderson\"],[6.866666666666667,15.931363197583986,\"Anthony Brown\"],[2.15,37.02014841797487,\"Montrezl Harrell\"],[-4.0,31.548534038842437,\"Andrew Harrison\"],[-8.533333333333333,10.694520923247469,\"Aaron Harrison\"],[1.9666666666666668,34.45902558756479,\"Delon Wright\"],[-2.6999999999999997,9.93076029314976,\"RJ Hunter\"],[-0.675,27.823416396984754,\"Sam Dekker\"],[0.43333333333333335,41.632746192817436,\"D'Angelo Russell\"],[5.05,48.29701796637597,\"Karl-Anthony Towns\"],[0.4666666666666666,33.781972510003996,\"Richaun Holmes\"],[-2.9499999999999997,35.01594478075509,\"Justise Winslow\"],[-0.25000000000000006,38.927414647149526,\"Willie Cauley-Stein\"],[-2.2666666666666666,40.953242308217256,\"Kelly Oubre Jr.\"],[-0.18333333333333335,35.925145944186646,\"Frank Kaminsky\"],[-0.04999999999999994,47.83190474057154,\"Devin Booker\"],[-0.8999999999999999,24.886458834742502,\"Cameron Payne\"],[0.3833333333333333,43.097338149305195,\"Myles Turner\"],[-1.3499999999999999,33.36607974841781,\"Trey Lyles\"],[-2.733333333333333,34.913894082442326,\"Stanley Johnson\"],[-2.48,31.618533594502228,\"Jerian Grant\"],[-1.0,36.07610397171208,\"Bobby Portis\"],[-1.7333333333333334,26.712304696941093,\"Kevon Looney\"],[-3.966666666666667,23.60224800969412,\"Rashad Vaughn\"],[0.41999999999999993,25.11026350585218,\"Christian Wood\"],[-3.9333333333333336,12.678963329512042,\"Jordan Mickey\"],[0.75,10.618105606305981,\"Rakeem Christmas\"],[-0.3,12.703149215844078,\"Dakari Johnson\"],[-0.43333333333333335,33.56731627971203,\"Rondae Hollis-Jefferson\"],[-0.7333333333333333,40.78756618818479,\"Terry Rozier\"],[-0.33333333333333326,36.435300343363615,\"Norman Powell\"],[-5.7,5.372615750265414,\"Branden Dawson\"],[-4.375,21.90551680893803,\"Chasson Randle\"],[-4.35,27.048421087622366,\"Jarell Martin\"],[-2.3600000000000003,23.031160051837034,\"Quinn Cook\"],[-2.6,13.324226056323122,\"Chris McCullough\"],[-1.45,31.69196357999223,\"Pat Connaughton\"],[0.21999999999999997,27.755984339717926,\"Willy Hernangomez\"],[-0.6666666666666666,43.65209680594455,\"Josh Richardson\"],[-5.466666666666666,16.923438710196518,\"Darrun Hilliard\"],[-4.466666666666667,18.945477326029845,\"Joe Young\"],[-3.25,26.847416076784732,\"Treveon Graham\"],[1.0,37.61006809648475,\"Larry Nance Jr.\"],[9.7,2.7215191835933603,\"Vincent Hunter\"],[-3.0599999999999996,34.95097995764924,\"Mario Hezonja\"],[1.3250000000000002,14.762551157122761,\"Alan Williams\"],[-2.5,16.69001697622465,\"Bryce Dejean-Jones\"],[0.3,42.162201674011285,\"Royce O'Neale\"],[-2.975,40.426728987968666,\"Cedi Osman\"],[-20.55,4.999333288882964,\"Luis Montero\"],[-1.9000000000000001,24.337522470457003,\"Cristiano Felicio\"],[2.65,20.46465788187582,\"Boban Marjanovic\"],[-7.0,4.922736366426024,\"Duje Dukan\"],[-4.633333333333334,11.748829728955986,\"Axel Toupane\"],[-2.8,18.205905635260223,\"Maurice Ndour\"],[0.25,24.648512463567997,\"Salah Mejri\"],[-1.2666666666666666,10.874562571023764,\"Malcolm Miller\"],[16.5,2.4086649137367924,\"Coty Clarke\"],[-6.2,2.503331114069146,\"JJ O'Brien\"],[-4.8,23.509342114714034,\"Marcelo Huertas\"],[16.0,2.0575065816014613,\"Jordan Sibert\"],[-12.7,2.466441431158123,\"Jacob Pullen\"],[0.19999999999999973,11.64356045202669,\"Jonathan Gibson\"],[-4.1,33.628237142814,\"Malcolm Delaney\"],[-5.199999999999999,10.056134114724872,\"Walt Lemon Jr.\"],[-2.4,8.494213716799614,\"Alex Stepheson\"],[-2.9000000000000004,14.261019131417877,\"Briante Weber\"],[-4.6,15.933821470904807,\"Julian Washburn\"],[3.65,48.2855266444649,\"Ben Simmons\"],[-3.9499999999999997,30.63813663829226,\"Dragan Bender\"],[0.9,43.977611728393505,\"Domantas Sabonis\"],[-4.633333333333334,13.893523671121015,\"Wade Baldwin IV\"],[-1.3199999999999998,31.777749028736025,\"Malik Beasley\"],[-2.8,31.597172869314317,\"Marquese Chriss\"],[-2.6999999999999997,20.809920177112108,\"Deyonta Davis\"],[-4.22,33.35031234236543,\"Kris Dunn\"],[-4.9,12.551945400348636,\"Henry Ellenson\"],[0.32,47.278310742524056,\"Buddy Hield\"],[-0.6599999999999999,45.18886293472468,\"Brandon Ingram\"],[3.0333333333333337,6.743268248161767,\"Demetrius Jackson\"],[-1.2,7.320632941670186,\"Brice Johnson\"],[-3.7199999999999998,20.08024734243414,\"Damian Jones\"],[-2.325,25.471307386940325,\"Skal Labissiere\"],[-0.32,37.35938079429762,\"Caris LeVert\"],[-1.48,26.925601200344627,\"Thon Maker\"],[-0.7749999999999999,38.37507328983229,\"Dejounte Murray\"],[0.3,45.57147499624446,\"Jamal Murray\"],[0.5199999999999999,35.88559599616537,\"Jakob Poeltl\"],[-1.92,39.396755365554334,\"Taurean Prince\"],[20.95,7.903216644717105,\"Zhou Qi\"],[-20.8,4.9249365478146006,\"Diamond Stone\"],[-5.733333333333334,30.452257715972408,\"Tyler Ulis\"],[-1.9,33.894468575270515,\"Denzel Valentine\"],[-8.3,10.380751417888785,\"Stephen Zimmerman\"],[-4.033333333333334,21.553744196516963,\"Ron Baker\"],[-0.6,43.21740390166908,\"Jaylen Brown\"],[-3.0,30.477767853524533,\"DeAndre' Bembry\"],[-0.8,6.715405175167516,\"Joel Bolomboy\"],[0.9,42.06140748952655,\"Malcolm Brogdon\"],[-1.775,23.20447155183673,\"Cheick Diallo\"],[-6.75,16.20635163549568,\"Kay Felder\"],[-12.1,5.616938667993447,\"Michael Gbinije\"],[-0.8999999999999999,10.768008172359462,\"Daniel Hamilton\"],[-6.6,12.77621488026352,\"AJ Hammons\"],[-3.4,23.951875361510506,\"Jake Layman\"],[-2.08,25.97666901920516,\"Patrick McCaw\"],[-3.2199999999999998,23.316896591670755,\"Georges Niang\"],[-8.1,6.048415770541353,\"Chinanu Onuaku\"],[-8.8,5.293077239816807,\"Marcus Paige\"],[3.2199999999999998,12.713785169387334,\"Gary Payton II\"],[-6.533333333333334,14.432101564067352,\"Malachi Richardson\"],[-4.666666666666667,28.082695343890652,\"Wayne Selden\"],[0.78,42.9001864797812,\"Pascal Siakam\"],[-3.4,9.162332308606445,\"Jarrod Uthoff\"],[-4.449999999999999,30.192134737378236,\"Isaiah Whitehead\"],[-2.233333333333333,19.796983496370242,\"Troy Williams\"],[-5.4,6.624449662676387,\"Kyle Wiltjer\"],[-2.6999999999999997,29.066532874309804,\"Furkan Korkmaz\"],[-4.1,30.228093996589784,\"Timothe Luwawu-Cabarrot\"],[-1.8,22.48577328000972,\"Ante Zizic\"],[-25.9,3.1411250638372663,\"Ben Bentil\"],[-1.1,32.28586894189675,\"Yogi Ferrell\"],[-1.55,28.640850778797276,\"Damion Lee\"],[-2.3,16.93408790969661,\"Sheldon Mac\"],[-3.8333333333333335,13.733879438980244,\"Alex Poythress\"],[-6.25,6.811448695639816,\"Tim Quarterman\"],[-6.1,24.688171931784154,\"Isaiah Taylor\"],[-6.2,23.375782815174812,\"Tyrone Wallace\"],[-8.3,10.951331730281344,\"James Webb III\"],[-2.16,29.019614056703112,\"Juancho Hernangomez\"],[-1.9500000000000002,15.586211855354719,\"Guerschon Yabusele\"],[-0.08000000000000007,31.59748935174017,\"Ivica Zubac\"],[-1.7399999999999998,40.287818671818556,\"Dorian Finney-Smith\"],[1.2,38.47300785399202,\"Fred VanVleet\"],[-3.9499999999999997,15.437427462717583,\"Georgios Papagiannis\"],[-5.25,28.873690446494713,\"Paul Zipser\"],[-2.375,24.684939740659694,\"Abdel Nader\"],[1.2,15.284469241684516,\"Shawn Long\"],[-8.4,8.654671185743181,\"Daniel Ochefu\"],[-4.55,10.53407170407847,\"Marshall Plumlee\"],[-28.3,22.56278277754464,\"Mindaugas Kuzminskas\"],[-6.45,16.29859400889127,\"Nicolas Brussino\"],[-2.775,30.190306115263773,\"Ryan Arcidiacono\"],[-2.74,37.49123008562581,\"Bryn Forbes\"],[-6.866666666666667,13.626139096114741,\"Okaro White\"],[-0.7,5.674504383644443,\"Matt Costello\"],[-2.6,21.898782310134667,\"Kyle Collinsworth\"],[-9.5,5.01829984490099,\"Mike Tobey\"],[-1.08,29.07612995797986,\"Danuel House Jr.\"],[-0.2,5.181698563212646,\"Jameel Warney\"],[-17.9,6.566328248470883,\"Patricio Garino\"],[-4.8,11.659295290310938,\"Marcus Georges-Hunt\"],[-3.9,13.189136944217882,\"Nicolas Laprovittola\"],[-5.1,14.062272220377473,\"Jalen Jones\"],[-1.24,30.453636892824466,\"Derrick Jones Jr.\"],[-0.825,25.647595728774785,\"Shaquille Harrison\"],[-0.825,29.51455149582997,\"Alex Caruso\"],[-10.1,7.387489424696322,\"Josh Gray\"],[-1.3,19.444193649176274,\"Myke Henry\"],[-1.3,28.193787731815426,\"David Nwaba\"],[-3.05,21.841836766474845,\"Alfonzo McKinnie\"],[-1.0,7.404953297174352,\"Jordan Loyd\"],[3.5,6.866585760041158,\"Mitchell Creek\"],[-2.975,26.88390162656207,\"Markelle Fultz\"],[0.75,41.75837740302337,\"Lonzo Ball\"],[-2.925,38.36795537945696,\"Josh Jackson\"],[0.22499999999999998,45.39248744744738,\"De'Aaron Fox\"],[2.225,48.61171840890494,\"Jayson Tatum\"],[-2.625,32.245574631774396,\"Malik Monk\"],[0.16666666666666666,34.212522074039875,\"Jonathan Isaac\"],[-2.5,33.59686865369053,\"Dennis Smith Jr.\"],[-3.975,32.08554970699424,\"Frank Ntilikina\"],[-0.225,40.34592090079656,\"Lauri Markkanen\"],[2.175,48.40399002148483,\"Donovan Mitchell\"],[-0.6000000000000001,35.54425058993365,\"Luke Kennard\"],[-2.8666666666666667,29.950477644123012,\"Zach Collins\"],[1.525,41.30463553484847,\"John Collins\"],[-3.0,34.427574946061284,\"Justin Jackson\"],[-2.7750000000000004,8.592632503100157,\"Justin Patton\"],[-0.15000000000000002,39.7890269630544,\"OG Anunoby\"],[-2.4,24.731322919191634,\"Harry Giles III\"],[1.0499999999999998,42.580781071589854,\"Jarrett Allen\"],[-7.1499999999999995,4.2391036788453285,\"Ike Anigbogu\"],[2.4250000000000003,44.272913088403556,\"Bam Adebayo\"],[-6.475,31.626505234270383,\"Terrance Ferguson\"],[-2.875,20.908770089765362,\"D.J. Wilson\"],[-1.5,18.674224660388624,\"Isaiah Hartenstein\"],[-7.65,20.52080245344546,\"Jawun Evans\"],[-26.1,14.886459171564836,\"Anzejs Pasecniks\"],[-1.6,21.99702631417862,\"Jordan Bell\"],[-2.725,18.78902605245945,\"Tony Bradley\"],[-1.7,24.862538754787966,\"Ivan Rabb\"],[-1.2750000000000001,45.26285728939347,\"Kyle Kuzma\"],[-4.800000000000001,6.917489910846758,\"Tyler Lydon\"],[-3.2,30.434574636970588,\"Semi Ojeleye\"],[1.45,33.937350367994235,\"Derrick White\"],[-3.933333333333333,30.023657338838635,\"Frank Jackson\"],[-6.233333333333333,14.781031387859542,\"Caleb Swanigan\"],[-0.7250000000000001,39.6234831465719,\"Josh Hart\"],[0.9666666666666668,11.149439447792876,\"Johnathan Motley\"],[-5.075,31.669201652920336,\"Dwayne Bacon\"],[-2.8,14.995165887711947,\"Alec Peters\"],[-1.025,19.493545940473044,\"Edmond Sumner\"],[-4.1,30.601225465657418,\"Wes Iwundu\"],[-3.275,20.10397970552099,\"Frank Mason III\"],[-4.949999999999999,18.51654665427655,\"Jonah Bolden\"],[-3.1500000000000004,20.74640531112157,\"Sindarius Thornwell\"],[-4.525,41.19578760828184,\"Dillon Brooks\"],[-3.2,28.914212191700237,\"Tyler Dorsey\"],[-3.8,20.95614468360056,\"Jaron Blossomgame\"],[0.45000000000000007,27.32334929445266,\"Thomas Bryant\"],[-2.0,9.347905291204725,\"Cameron Oliver\"],[2.6,34.74261912022944,\"Monte Morris\"],[-0.10000000000000009,7.339277893635041,\"Devin Robinson\"],[-2.775,32.485176106443795,\"Damyean Dotson\"],[-8.75,17.95680001188036,\"Kobi Simmons\"],[-2.05,30.8472175946767,\"Sterling Brown\"],[-3.7,12.778204099168239,\"Vlatko Cancar\"],[-14.4,6.1729247524977975,\"Charles Cooke\"],[-3.9,7.057265759485043,\"Nigel Williams-Goss\"],[-5.95,12.022374973356964,\"Davon Reed\"],[0.4750000000000001,22.452561101130527,\"Luke Kornet\"],[-3.75,11.657687020445636,\"Isaiah Hicks\"],[-2.6999999999999997,14.603500341432598,\"Kadeem Allen\"],[-3.1,10.701868995647443,\"Jabari Bird\"],[-6.300000000000001,24.67671810972168,\"Chris Boucher\"],[-3.4,4.363675820528686,\"Eric Mika\"],[-2.3,5.766859341675215,\"Jacob Wiley\"],[-2.95,21.476479382493455,\"Mike James\"],[-3.5500000000000003,25.33829447035981,\"Milos Teodosic\"],[-5.15,16.702968797991172,\"Tyler Cavanaugh\"],[0.6749999999999999,35.39075326503616,\"Daniel Theis\"],[0.07500000000000001,38.53170772234213,\"Maxi Kleber\"],[-5.2,23.905403852127943,\"Antonio Blakeney\"],[-1.6749999999999998,31.651592903570183,\"Torrey Craig\"],[-11.2,3.3763886032268267,\"Matt Williams Jr.\"],[0.15000000000000002,14.062657406526442,\"Derrick Walton Jr.\"],[-2.2,7.977050415619378,\"Gian Clavell\"],[-4.6,4.449719092257398,\"Mangok Mathiang\"],[-6.8,11.158703628408947,\"Milton Doyle\"],[-7.65,9.172467861304648,\"Antonius Cleveland\"],[-9.3,3.046856303361438,\"Ben Moore\"],[-3.8,11.053129270331864,\"Nigel Hayes\"],[-5.4,16.703542538435762,\"Jamel Artis\"],[-11.5,10.8531101533155,\"Xavier Rathan-Mayes\"],[13.3,3.953901027255652,\"Troy Caupain\"],[-9.2,8.094648437908425,\"London Perrantes\"],[-5.5,14.46052096802418,\"Andrew White III\"],[77.36666666666666,6.615176154537047,\"Naz Mitrou-Long\"],[-5.0,23.64804431660259,\"Isaiah Briscoe\"],[-1.65,8.443340571124677,\"Amile Jefferson\"],[-2.9000000000000004,7.968793300535951,\"Jaylen Morris\"],[-3.9,22.016035822403033,\"Mychal Mulder\"],[-13.7,2.742565708723616,\"Erik McCree\"],[-4.8,5.410945696764411,\"Amida Brimah\"],[-3.3,4.435651023243375,\"Dusty Hannahs\"],[-5.5,7.9645045880665615,\"Billy Garrett\"],[-8.2,17.017246154024658,\"Rodney Purvis\"],[-6.6,2.8225284173355405,\"Tahjere McCall\"],[-0.75,13.854030701087206,\"Paul Watson\"],[-8.9,5.873670062235365,\"Aaron Jackson\"],[-7.3,10.970566682415862,\"Rawle Alkins\"],[-2.6,28.250358896441966,\"Grayson Allen\"],[-8.666666666666666,5.369305769319202,\"Kostas Antetokounmpo\"],[-3.8,7.563068160475615,\"Udoka Azubuike\"],[-2.533333333333333,31.692533295189037,\"Marvin Bagley III\"],[-0.3,28.101828726575388,\"Mo Bamba\"],[-2.233333333333333,22.303798879214373,\"Keita Bates-Diop\"],[-10.95,4.792268078199857,\"Brian Bowen II\"],[0.8333333333333334,47.63392231966157,\"Mikal Bridges\"],[-1.0333333333333332,43.296773038594424,\"Miles Bridges\"],[-1.5333333333333332,38.87808580107252,\"Bruce Brown\"],[-2.6333333333333333,31.8074502104285,\"Troy Brown Jr.\"],[-0.5666666666666667,37.905760336216225,\"Jalen Brunson\"],[-0.9666666666666667,27.315014186340814,\"Jevon Carter\"],[-1.7666666666666666,35.31243092421959,\"Wendell Carter Jr.\"],[-3.4,29.70944481324268,\"Hamidou Diallo\"],[-0.20000000000000004,35.338160047681534,\"Donte DiVincenzo\"],[24.4,2.3671361036774647,\"Trevon Duval\"],[-7.6499999999999995,17.631175041197157,\"Jacob Evans\"],[-5.3,21.661736618593924,\"Bruno Fernando\"],[-8.4,9.229391457006614,\"Melvin Frazier Jr.\"],[1.7666666666666666,43.90083522364163,\"Shai Gilgeous-Alexander\"],[-0.9333333333333332,38.92698292958241,\"Devonte' Graham\"],[-6.7,8.985451203658796,\"Devon Hall\"],[-5.1,7.219995383193351,\"Kevin Hervey\"],[-2.466666666666667,33.85876712331849,\"Aaron Holiday\"],[-1.4333333333333333,44.47808449112889,\"Kevin Huerter\"],[-4.033333333333333,24.270764306053486,\"Chandler Hutchison\"],[0.06666666666666668,33.640831671579605,\"Jaren Jackson Jr.\"],[-2.1999999999999997,11.118353195405232,\"Alize Johnson\"],[-7.9,2.4289915602982237,\"George King\"],[-3.766666666666667,35.53602241231968,\"Kevin Knox II\"],[-2.2,23.824777018893588,\"Caleb Martin\"],[-2.05,29.596339863796224,\"Cody Martin\"],[-9.1,3.610170817749944,\"Yante Maten\"],[-0.20000000000000018,32.64174219206649,\"De'Anthony Melton\"],[-3.533333333333333,15.692638047469552,\"Chimezie Metu\"],[-1.9333333333333336,29.06578744847626,\"Shake Milton\"],[-3.1666666666666665,31.778355666851088,\"Svi Mykhailiuk\"],[-25.7,1.9192012227313033,\"Malik Newman\"],[-2.9333333333333336,38.73500426688441,\"Josh Okogie\"],[-6.5,7.347902194957872,\"Jontay Porter\"],[2.3,37.52023898289207,\"Michael Porter Jr.\"],[-5.2,23.12845769945665,\"Jerome Robinson\"],[2.1999999999999997,34.757980698283106,\"Mitchell Robinson\"],[-2.2333333333333334,47.82888481056421,\"Collin Sexton\"],[-2.033333333333333,39.3975041510669,\"Landry Shamet\"],[-3.6,29.96537817029665,\"Anfernee Simons\"],[-7.4,8.454239567617353,\"Zhaire Smith\"],[-1.5,29.073412825695808,\"Omari Spellman\"],[-3.5,11.684866756241206,\"Khyri Thomas\"],[-4.466666666666667,32.886327790672475,\"Gary Trent Jr.\"],[-1.75,29.574496332707536,\"Allonzo Trier\"],[-3.533333333333333,20.453429486953475,\"Jarred Vanderbilt\"],[-3.0666666666666664,25.84146108700341,\"Moritz Wagner\"],[-3.1999999999999997,29.596959303279764,\"Lonnie Walker IV\"],[-1.25,43.08514825319741,\"P.J. Washington\"],[-1.6666666666666667,33.352477835653815,\"Kenrich Williams\"],[2.3333333333333335,47.42747679937819,\"Trae Young\"],[0.6,42.948082352740464,\"Deandre Ayton\"],[6.366666666666667,47.00135340840967,\"Luka Doncic\"],[-8.633333333333333,14.269333862829368,\"Theo Pinson\"],[-9.7,9.12030701237629,\"Ray Spalding\"],[-4.55,17.69352518107494,\"Carsen Edwards\"],[13.7,3.253203549323851,\"Shamorie Ponds\"],[-3.5,9.923541034664325,\"Bonzie Colson\"],[-1.65,22.72188739226271,\"Goga Bitadze\"],[-2.35,18.085975229442287,\"Oshae Brissett\"],[-6.4,3.9644251369734174,\"Vincent Edwards\"],[-37.6,1.5593802187621435,\"Donte Grantham\"],[-0.44999999999999996,33.78758401148756,\"Terence Davis\"],[4.3,23.49371074233367,\"Robert Williams III\"],[-5.800000000000001,16.22503210063594,\"Dzanan Musa\"],[-3.8,28.95597232581447,\"Elie Okobo\"],[-3.1500000000000004,40.25679031749389,\"Rui Hachimura\"],[-7.5,13.934489585198303,\"Deng Adel\"],[-4.3,31.861994078630264,\"Ky Bowman\"],[-3.3333333333333335,26.46890208863559,\"Rodions Kurucs\"],[-4.466666666666666,24.50622369929731,\"Isaac Bonga\"],[-1.6,15.675112971416405,\"Tyler Cook\"],[-7.3,5.618718715152059,\"Elijah Bryant\"],[-40.7,0.9548123724935004,\"Tyler Davis\"],[-2.7,8.204978163692253,\"Marcus Derrickson\"],[-4.7,14.639159811956423,\"Brandon Sampson\"],[-3.3499999999999996,20.217113212985353,\"Kelan Martin\"],[-2.5,24.904729582060426,\"Gary Clark\"],[-12.0,3.8427420765212306,\"Angel Delgado\"],[-3.55,15.42335890783846,\"Wenyen Gabriel\"],[1.2,6.025501362265774,\"Thomas Welsh\"],[-12.05,14.928300863349001,\"Jaylen Adams\"],[-7.050000000000001,2.954375286474844,\"J.P. Macura\"],[-10.9,10.531935561266362,\"Jared Terrell\"],[-5.55,17.268589017828496,\"Deonte Burton\"],[-1.3333333333333333,39.10793468793201,\"Duncan Robinson\"],[-9.95,7.209253313161728,\"Daryl Macon\"],[-1.4,42.500950969752786,\"Kendrick Nunn\"],[-3.8333333333333335,18.27513489842292,\"Yuta Watanabe\"],[-2.6,16.6054208016539,\"Johnathan Williams\"],[-13.55,4.538630483600383,\"Joe Chealey\"],[2.3,4.767773764207641,\"Emanuel Terry\"],[-0.09999999999999998,17.800351120132433,\"Ryan Broekhoff\"],[-5.8,4.652597840633414,\"DeVaughn Akoon-Purcell\"],[-11.5,1.9364916731037085,\"Zach Lofton\"],[-0.7,27.645373332018274,\"Jordan McLaughlin\"],[-5.166666666666667,19.210341543611932,\"Brandon Goodwin\"],[-6.65,8.121473593710279,\"BJ Johnson\"],[-1.0666666666666667,14.897874568765396,\"Chris Chiozza\"],[0.2,11.963137826952718,\"Jemerrio Jones\"],[-7.9,19.205120844885794,\"Gabe Vincent\"],[-1.0333333333333334,19.501353229398664,\"Drew Eubanks\"],[-5.3,12.24605378615222,\"Cameron Reynolds\"],[-1.4,26.263932810351662,\"Juan Toscano-Anderson\"],[-8.2,6.307403057783235,\"Haywood Highsmith\"],[-3.75,10.553395977914716,\"Alen Smailagic\"],[-11.0,7.512212279570733,\"Isaac Humphries\"],[-8.8,12.924524491575426,\"Dairis Bertans\"],[-7.2,7.144461724534137,\"Zylan Cheatham\"],[-1.0,17.04469614474447,\"Chris Clemons\"],[-3.05,16.63663126958099,\"Amir Coffey\"],[-2.4,11.876447280226525,\"Mamadi Diakite\"],[-4.9,13.870231913466084,\"CJ Elleby\"],[3.85,9.167469661798716,\"Tacko Fall\"],[-0.2,10.035769360974125,\"Robert Franks\"],[-18.9,3.47371079203014,\"Jared Harper\"],[-9.6,5.313661637703326,\"Dewan Hernandez\"],[-4.25,17.80290238509814,\"DaQuan Jeffries\"],[-0.85,28.508302884130703,\"Terance Mann\"],[-6.7,14.51447553306698,\"Reggie Perry\"],[-6.25,8.259186804199715,\"Justin Robinson\"],[-13.0,5.278730908087662,\"Marial Shayok\"],[0.8499999999999999,16.01197468563241,\"Max Strus\"],[-9.0,6.719374970932936,\"Justin Wright-Foreman\"],[-3.55,11.103940741916816,\"Bol Bol\"],[3.95,36.7017143105514,\"Zion Williamson\"],[-2.75,45.90916756669271,\"RJ Barrett\"],[-3.7,33.919635414707315,\"Cam Reddish\"],[-0.05000000000000002,45.42681843727701,\"Ja Morant\"],[-1.75,36.7132923248969,\"De'Andre Hunter\"],[-2.65,43.75968464237374,\"Coby White\"],[-4.8,31.65989839950009,\"Jarrett Culver\"],[2.3,36.84280798202005,\"Brandon Clarke\"],[-6.7,28.485186208507283,\"Sekou Doumbouya\"],[-3.8,42.508303110490424,\"Darius Garland\"],[0.15,31.964211758360843,\"Jaxson Hayes\"],[-2.9499999999999997,28.26412626162945,\"Nickeil Alexander-Walker\"],[-1.4500000000000002,39.643673307771756,\"Tyler Herro\"],[-0.050000000000000044,33.67776219802421,\"Keldon Johnson\"],[-4.75,18.063752840056978,\"Romeo Langford\"],[-3.1,24.625748719582113,\"Nassir Little\"],[-1.5,33.653429741013476,\"Chuma Okeke\"],[-2.3499999999999996,15.377364316856562,\"KZ Okpala\"],[-3.65,31.600698831935134,\"Kevin Porter Jr.\"],[-3.0,37.70719427377221,\"Darius Bazley\"],[-8.05,11.15541721915113,\"Jordan Bone\"],[-7.15,12.289460253946611,\"Ignas Brazdeikis\"],[-6.2,21.829318969373887,\"Moses Brown\"],[-0.14999999999999997,19.76216924665239,\"Nic Claxton\"],[-3.6,34.37684540501062,\"Luguentz Dort\"],[2.1,7.086136700158508,\"Devon Dotson\"],[0.45000000000000007,26.46167039323104,\"Daniel Gafford\"],[-9.05,11.06251177023856,\"Kyle Guy\"],[-2.3,14.536649086590296,\"Jaylen Hoard\"],[-1.65,26.319305335311093,\"Talen Horton-Tucker\"],[-2.2,23.61539046187182,\"Ty Jerome\"],[0.04999999999999999,36.69365294797814,\"Cameron Johnson\"],[-1.0499999999999998,13.123166538606444,\"Mfiondu Kabengele\"],[-0.6499999999999999,8.587879055195565,\"Louis King\"],[-11.25,4.67635898251335,\"Jalen Lecque\"],[-3.25,24.463254757561053,\"Jalen McDaniels\"],[-8.4,6.387618231130184,\"Zach Norvell Jr.\"],[-3.3,21.33361978974345,\"Jaylen Nowell\"],[-1.1,16.540455455236625,\"Jordan Nwora\"],[-3.0,17.726909864196113,\"Miye Oni\"],[-2.7,34.26960509450515,\"Eric Paschall\"],[-3.55,33.62829909466133,\"Jordan Poole\"],[-1.05,30.34923118191516,\"Naz Reid\"],[-9.35,26.801834514326348,\"Isaiah Roby\"],[-4.5,13.352777488847286,\"Luka Samanic\"],[-5.5,19.193271390429175,\"Admiral Schofield\"],[1.0999999999999999,35.95439240667731,\"Matisse Thybulle\"],[-3.7,13.482210501249416,\"Killian Tillie\"],[-3.6,13.347565321061365,\"Tremont Waters\"],[-6.2,9.970665307123024,\"Quinndary Weatherspoon\"],[-3.2,33.02370360816606,\"Grant Williams\"],[-1.7,22.64181235384365,\"Dylan Windler\"],[-5.4,11.537475171515343,\"Deividas Sirvydis\"],[-6.7,9.160922442636448,\"Adam Mokoka\"],[-9.6,7.505775553976198,\"Didi Louzada\"],[-2.8499999999999996,16.474272872168502,\"Justin James\"],[-1.1999999999999997,10.824586212260794,\"Jarrell Brantley\"],[1.2000000000000002,3.9654760117796686,\"Marques Bolden\"],[-3.2,22.8114006584427,\"Armoni Brooks\"],[-0.4,7.297259759663211,\"Devontae Cacok\"],[2.85,19.443207897189524,\"John Konchar\"],[-9.6,7.866913837924837,\"Vic Law\"],[-3.15,9.334166629467607,\"Jeremiah Martin\"],[-1.4500000000000002,25.153015061154566,\"Garrison Mathews\"],[-9.4,5.321497283033535,\"Josh Reaves\"],[-4.75,10.71443730051497,\"Rayjon Tucker\"],[-1.3,25.333031796451017,\"Dean Wade\"],[-10.1,3.6560452221856745,\"Kyle Alexander\"],[-3.9,14.809287626351246,\"Chris Silva\"],[-9.3,9.195787078874767,\"Vincent Poirier\"],[-19.6,3.6423435679060674,\"William Howard\"],[-2.4,28.357288892511065,\"Nicolo Melli\"],[-3.4,21.99124825925077,\"Marko Guduric\"],[-17.6,3.9093904043128385,\"Stanton Kidd\"],[-1.15,12.497933162460622,\"Donta Hall\"],[-1.7499999999999998,19.578687392161918,\"Matt Thomas\"],[-5.8,3.924283374069717,\"Tariq Owens\"],[-0.6,21.697618916984105,\"Javonte Green\"],[-2.6,11.111255554616678,\"Dakota Mathias\"],[-2.75,11.865039682473336,\"Juwan Morgan\"],[-0.4,4.330127018922194,\"Matt Mooney\"],[-10.7,8.65524888916161,\"Keljin Blevins\"],[-3.1,8.622644605919925,\"Devin Cannady\"],[-2.1,48.105786207759564,\"Anthony Edwards\"],[1.8,38.321969330050486,\"LaMelo Ball\"],[-5.0,28.91158937173811,\"James Wiseman\"],[-7.2,25.888446586588913,\"Killian Hayes\"],[-3.1,35.452456426412404,\"Deni Avdija\"],[-0.7,26.135799203391507,\"Obi Toppin\"],[-1.4,24.519550023059825,\"Onyeka Okongwu\"],[1.4,41.781295655671926,\"Tyrese Haliburton\"],[-1.5,32.49558944431275,\"Devin Vassell\"],[-5.1,46.61796863871269,\"Isaac Okoro\"],[-2.4,44.53489268727017,\"Patrick Williams\"],[-4.1,27.149278689006326,\"Precious Achiuwa\"],[-3.2,25.859846609496103,\"Aaron Nesmith\"],[-3.3,35.67692998750495,\"Cole Anthony\"],[-6.1,10.709808588392232,\"Vernon Carey Jr.\"],[-5.0,42.1627995591691,\"Theo Maledon\"],[-1.5,30.58717051314162,\"Tyrese Maxey\"],[-5.0,7.503776826816393,\"Tyrell Terry\"],[-0.5,43.692295278077005,\"Saddiq Bey\"],[-3.8,29.804082494405577,\"R.J. Hampton\"],[-3.6,21.086290965142897,\"Josh Green\"],[-3.5,38.86879639676703,\"Jaden McDaniels\"],[-3.4,30.073964376738445,\"Kira Lewis Jr.\"],[-3.9,19.076643660071156,\"Nico Mannion\"],[-4.5,9.719825101307121,\"Jahmi'us Ramsey\"],[-5.2,12.684767768206598,\"Daniel Oturu\"],[-6.1,12.478982330302419,\"Jalen Smith\"],[-9.5,8.423182296495785,\"Tyler Bey\"],[-2.8,7.9821676254010105,\"Elijah Hughes\"],[-1.1,38.142211961727256,\"Isaiah Stewart\"],[-1.7,19.93184219617778,\"Zeke Nnaji\"],[0.9,35.263082678631484,\"Immanuel Quickley\"],[-1.0,13.314716169211682,\"Paul Reed\"],[-6.1,33.01386072545893,\"Aleksej Pokusevski\"],[-3.0,19.565871647676037,\"Isaiah Joe\"],[-11.2,9.660141475844611,\"Cassius Stanley\"],[-3.5,16.389224102033232,\"Tre Jones\"],[-2.6,30.455623454462394,\"Malachi Flynn\"],[-0.7,35.60278547155166,\"Payton Pritchard\"],[5.1,5.218556633144197,\"Grant Riller\"],[-21.1,2.016597794967224,\"Ashton Hagans\"],[-4.2,22.333047261849423,\"Lamar Stevens\"],[-10.9,9.175147591910077,\"Jay Scrubb\"],[-3.4,9.661780374237452,\"Nate Hinton\"],[-8.0,7.913174668445863,\"Nick Richards\"],[-8.7,14.316016671313742,\"Markus Howard\"],[-9.9,9.39769475279266,\"Karim Mane\"],[-3.2,9.90933902942068,\"Cassius Winston\"],[-0.8,38.97390152396857,\"Desmond Bane\"],[-5.3,6.736467917239716,\"Robert Woodard II\"],[1.9,16.407213860575688,\"Skylar Mays\"],[-11.9,18.33030277982336,\"Josh Hall\"],[-2.7,18.28897664350488,\"Mason Jones\"],[0.3,13.118879525325324,\"Jalen Harris\"],[-1.3,26.451811532167945,\"Naji Marshall\"],[-1.8,32.674888421130525,\"Kenyon Martin Jr.\"],[-3.7,16.696606441629598,\"Nathan Knight\"],[-6.5,6.890936075744717,\"Ty-Shon Alexander\"],[-1.3,17.378530816307027,\"Trent Forrest\"],[-6.1,20.37670238286853,\"Anthony Lamb\"],[-9.1,3.2888701200665706,\"Malik Fitts\"],[-2.0,27.939130265632823,\"Saben Lee\"],[-1.0,15.251174818135585,\"Sam Merrill\"],[-4.3,12.557335173780583,\"Sean McDermott\"],[-1.4,45.196423162310865,\"Jae'Sean Tate\"],[-1.3,14.765331015591896,\"Anthony Gill\"],[-39.3,1.807392228230129,\"Will Magnay\"],[-0.6,37.748267068392295,\"Facundo Campazzo\"],[-4.0,5.110446816734003,\"Nate Darling\"],[-4.4,19.981741665830835,\"Brodric Thomas\"],[-3.2,19.796548520722823,\"Freddie Gillespie\"],[-0.4,14.546706385524766,\"Gabriel Deck\"]],\"hovertemplate\":\"x=%{x}<br>y=%{y}<br>minutes=%{customdata[1]}<br>hover=%{marker.color}<br>names=%{customdata[2]}<extra></extra>\",\"legendgroup\":\"\",\"marker\":{\"color\":[1.0,-1.8142857142857143,-5.166666666666667,-2.8,-10.3,-0.35833333333333334,4.1,1.25,-0.09999999999999998,-1.25,-3.22,-4.0200000000000005,-3.1399999999999997,-1.0999999999999999,-8.6,-3.6500000000000004,-4.8,-6.7,-6.1,-4.071428571428571,0.03750000000000002,-0.6166666666666667,-8.3,-33.0,-2.766666666666667,-7.6000000000000005,0.58,-0.9399999999999998,-6.9,2.963636363636364,0.5636363636363636,-5.3999999999999995,-0.11999999999999997,1.4,-2.1333333333333333,-7.1,0.27142857142857146,-3.2000000000000006,-0.2666666666666666,-0.6,-0.54,-4.942857142857143,-10.1,-9.2,-6.45,-5.55,0.2555555555555556,-3.0833333333333335,0.7230769230769231,-9.3,0.3,-3.2625,-4.928571428571429,1.2399999999999998,-0.11666666666666685,-6.825,-0.42500000000000004,-6.65,1.5666666666666667,-0.95,1.9749999999999999,-1.7714285714285716,-12.549999999999999,0.1,1.088888888888889,0.3999999999999999,-7.1,-2.325,1.6555555555555554,-3.3,-2.8,-0.41818181818181815,3.1,-0.18333333333333335,-2.52,-9.9,-4.15,-3.466666666666667,-2.2625,0.03333333333333329,-0.23636363636363636,-6.25,-4.425,-0.9333333333333332,-0.3,-1.7857142857142858,2.0833333333333335,1.3599999999999999,-0.9714285714285715,-5.55,-1.8666666666666665,-6.9,-2.88,-1.44,-5.266666666666667,-1.6833333333333336,-2.557142857142857,-2.3,-1.7399999999999998,-1.9666666666666668,0.42500000000000004,2.65,-2.025,-4.74,-1.2750000000000001,1.0833333333333333,0.4,-4.366666666666667,0.45999999999999996,-1.1857142857142857,-2.3,-4.871428571428571,0.7999999999999996,3.0,3.25,2.1,0.6666666666666666,4.1499999999999995,-8.4,-9.05,-1.51,-4.285714285714286,-3.5,-0.27777777777777785,-5.5,2.9499999999999997,-3.85,-1.9,-3.825,-3.6999999999999997,-2.5125,-4.445454545454545,-1.5499999999999998,-3.2,-0.045454545454545456,-2.6666666666666665,-3.45,1.4333333333333333,-0.5,-0.96,5.8875,2.15625,-1.56,-0.23333333333333336,-2.433333333333333,0.4125,-2.4833333333333334,-5.733333333333333,0.022222222222222216,-1.19,-2.25,-5.45,-4.177777777777778,-1.4857142857142858,-11.3,-1.325,-1.7,-1.7,-4.9,-3.6,-0.5874999999999999,1.5,0.30000000000000004,2.1166666666666667,5.985714285714286,-2.7,-21.6,-4.9,-8.9,-1.0833333333333333,-1.9500000000000002,-6.457142857142857,-0.6222222222222222,-5.966666666666666,0.3428571428571429,-0.3,0.9,-0.3333333333333333,-10.733333333333334,-0.3571428571428572,2.15,-2.9,0.9625,-7.3,1.375,-2.0,-1.2333333333333334,0.29090909090909095,-2.783333333333333,-0.09090909090909091,1.0666666666666667,-1.0750000000000002,-0.3333333333333333,-8.55,1.9222222222222223,-3.28,-1.1500000000000001,-5.7,-3.2,-4.8,-3.1,-0.8444444444444444,-3.45,-2.65,2.2600000000000002,-1.0,0.47777777777777786,3.211111111111111,-3.8875,-2.48,-5.7,4.406666666666666,-7.3500000000000005,-4.866666666666666,-2.533333333333333,2.05,-1.6333333333333335,-0.9375,-2.1166666666666667,-3.533333333333333,-1.46,-1.3142857142857143,-1.5499999999999998,-0.5499999999999999,-6.8,0.8666666666666667,-2.923529411764706,-7.9,-3.95,-1.1222222222222222,-3.95,0.8111111111111111,-1.3444444444444443,0.8250000000000001,-3.06,-3.0,-3.2,-1.8800000000000001,-5.15,-1.6,3.994117647058824,1.7599999999999998,0.43750000000000006,-3.7,-6.3,-0.6333333333333334,-1.3454545454545455,-0.050000000000000044,-4.0,-2.5545454545454547,-9.45,-3.742857142857143,-6.199999999999999,-11.65,0.04444444444444451,-12.649999999999999,-2.35,0.11428571428571432,-3.3555555555555556,-0.7200000000000001,-6.214285714285714,-11.5,-3.566666666666667,-2.306666666666666,-2.68,-2.533333333333333,-0.6000000000000001,0.3888888888888889,-6.3,2.353846153846154,-7.4,-1.3,-0.47000000000000003,-1.8352941176470587,-2.2,-2.6,-6.174999999999999,5.1049999999999995,-3.6,-5.266666666666667,-1.0999999999999999,-15.600000000000001,-2.46,0.8714285714285713,-9.05,-3.1,3.9,-1.4375,-6.2,-0.5,-2.190909090909091,-2.5500000000000003,-4.2,-1.4166666666666667,2.2,-1.0,-0.74,-7.1,-28.9,-8.85,-3.8200000000000003,-17.4,2.08,-1.4142857142857141,-1.48,-0.08333333333333333,-1.16,-3.483333333333333,0.4666666666666667,-4.688888888888889,5.442857142857143,1.94,-1.3799999999999997,-4.5,-1.7999999999999998,-4.425,-11.1,-2.4000000000000004,-0.6000000000000001,-0.76,0.9833333333333334,-5.6,1.075,-9.733333333333334,3.75,-3.9899999999999998,-1.95,-11.4,5.15,-1.75,-3.3600000000000003,2.7714285714285714,-1.7,0.39999999999999997,-19.0,-2.38,-3.9875,2.6,-0.036363636363636334,-0.9666666666666667,-1.075,-2.5200000000000005,-4.4,0.74,-7.0,-0.36666666666666664,-2.675,-7.8,-3.9799999999999995,-1.5,-1.1777777777777778,1.6076923076923075,-3.3714285714285714,-20.4,-2.9,-2.9,-6.08,-1.94,-1.1333333333333333,1.14,2.725,-4.766666666666667,3.0,-5.9,-9.0,2.9,1.788235294117647,0.2583333333333333,1.1153846153846154,2.7944444444444443,-0.03333333333333336,-3.3461538461538463,1.8125,-4.3,-1.94375,-6.04,-6.363636363636363,2.088888888888889,-0.42000000000000004,-2.585714285714286,-2.54,-10.9,-4.766666666666667,-1.0666666666666667,-0.022222222222222216,0.09999999999999994,-8.15,-4.257142857142857,-4.283333333333333,-3.25,-2.5636363636363635,3.5799999999999996,1.7000000000000002,-0.7333333333333334,-0.6230769230769231,-3.8,-1.65,-2.4555555555555557,-6.5,-5.35,-4.0636363636363635,-5.675000000000001,-2.8307692307692305,-5.15,-2.7,-4.199999999999999,-9.033333333333333,-3.7,-1.58,-2.15,-3.5666666666666664,0.5428571428571428,-3.0666666666666664,-2.5500000000000003,-10.399999999999999,-9.2,-3.475,-3.05,-10.766666666666666,-5.5,-2.3,-7.5,-5.45,-5.2,-2.2333333333333334,-3.4,-7.6,1.1,-6.7,-1.65,-6.4,-1.2444444444444445,-5.1,-8.9,-2.9499999999999997,-2.6166666666666667,-32.4,-4.8,-2.75,2.8333333333333335,-4.533333333333333,-1.7909090909090908,-7.1000000000000005,-1.2,-5.15,-8.5,-1.5,-13.1,-2.6,1.4749999999999999,-1.3,-11.75,-8.1,-6.1,-1.05,-3.1,-5.65,-5.4,1.0,-3.0,-3.15,-2.9499999999999997,-6.0,-0.2,-4.85,-4.6,-5.1,-3.4,-4.5,-2.2416666666666667,-3.0,-10.9,-7.3,-2.5799999999999996,-1.2714285714285716,-2.1999999999999993,10.2,6.423076923076923,-9.5,-2.7,-2.8,5.463157894736842,0.03333333333333331,1.9941176470588236,-0.3153846153846154,-2.3000000000000003,-3.0625,-0.8538461538461538,-1.3416666666666668,4.086666666666667,-3.8200000000000003,-3.3166666666666664,-0.5666666666666667,0.41818181818181815,-4.133333333333334,-0.97,-0.15833333333333335,-7.0,-3.1666666666666665,-1.4363636363636365,-13.4,1.0333333333333332,-4.55,0.4666666666666666,-10.566666666666668,-5.1,-3.3,-3.9250000000000003,-6.5,-2.05,-7.449999999999999,-4.35,-3.5,-1.4,-1.0,-3.0142857142857147,-4.0,-1.5153846153846153,4.8,-1.2357142857142855,-2.42,-6.2,-3.1999999999999997,-2.9000000000000004,-3.05,-1.0857142857142859,-1.2,-3.2333333333333334,-9.9,-0.5111111111111111,-2.033333333333333,-2.907692307692308,-8.1,-5.25,-1.5666666666666667,-6.5,-2.5,-4.050000000000001,-17.5,-7.833333333333333,-4.0,-3.4,-2.6444444444444444,-2.9,-4.26,-2.5090909090909093,-8.6,-9.55,-0.8923076923076925,-0.3,-3.1500000000000004,0.1,-8.3,-5.6,-3.1999999999999997,-4.588888888888889,0.45000000000000007,-0.12999999999999998,0.13124999999999998,2.127272727272727,-1.457142857142857,0.11666666666666665,-1.0615384615384615,3.7952380952380955,2.9894736842105263,-0.060000000000000074,-3.79,-1.0166666666666666,-2.3,-0.5545454545454546,-3.6166666666666667,-1.758333333333333,-6.3,-3.28,-4.5,-1.1333333333333333,-3.992857142857143,-1.9636363636363634,-2.9,-2.325,-4.133333333333334,-4.783333333333333,-5.4,-3.888888888888889,-2.475,-0.06999999999999998,0.64375,-4.45,0.2285714285714286,-10.77142857142857,-3.6222222222222222,-29.8,-10.3,-1.0363636363636362,9.4,-0.5363636363636364,-17.4,-4.428571428571429,-5.7,-3.6500000000000004,-1.9,51.1,-6.7,-8.2,-2.425,-1.4,-3.525,0.41000000000000014,-4.8,-7.35,-0.9500000000000001,-0.5,-22.1,1.3857142857142857,7.3,-7.6,-10.6,-19.8,-9.7,-4.9,-1.3250000000000002,-13.1,-2.9,-2.6,-1.7,-3.207692307692308,-5.5,-63.7,-10.2,-0.7538461538461539,-8.75,-25.0,-4.05,-6.7,-5.949999999999999,1.1176470588235294,1.5333333333333334,2.169230769230769,1.4428571428571428,-2.6499999999999995,0.45999999999999996,-0.7071428571428572,0.9529411764705882,2.2875,0.963157894736842,-1.0,-11.85,-0.5142857142857143,-5.733333333333333,0.6235294117647059,-2.966666666666667,0.15,-4.9,-1.2666666666666666,-0.39999999999999997,-1.9090909090909092,-2.3000000000000003,3.8076923076923075,-6.866666666666667,-2.1999999999999997,-2.2625,-1.0499999999999998,-1.5,-7.6,-3.688888888888889,-4.6,-3.05,-2.4899999999999998,-3.28,-5.1,-2.625,-15.9,-2.733333333333333,-3.2,-2.5166666666666666,-5.4,0.09999999999999998,-11.2,-4.16,-4.9,4.65625,-4.65,-12.5,-0.47999999999999987,-6.2,-1.9166666666666667,-1.2,-18.6,-2.7875,-3.642857142857143,-5.0,-29.5,-7.5,-4.08,-5.316666666666667,-1.0,-0.6866666666666666,-2.5444444444444443,-0.9,-3.533333333333333,0.25882352941176473,-1.2714285714285716,-4.7,0.35,-3.3461538461538463,-2.4538461538461536,-4.680000000000001,-2.6444444444444444,-3.6666666666666665,-7.1499999999999995,-4.68,0.060000000000000026,-2.96,-1.6538461538461537,-3.9166666666666665,-1.6142857142857143,-1.4909090909090907,-0.36000000000000015,-3.576923076923077,-8.033333333333333,-2.9714285714285715,-4.62,-5.225,-5.35,-5.411111111111111,-1.5250000000000001,-0.9714285714285714,-6.1,-7.333333333333333,-5.144444444444445,-2.4,-4.2,-3.65,-0.309090909090909,-5.333333333333333,-6.0,-4.233333333333333,0.2083333333333333,-1.4749999999999999,-4.025,-2.6888888888888887,-2.2666666666666666,-4.9,-18.2,-7.9,-4.5,-4.55,-4.9,-3.9,-1.9,-7.3500000000000005,-1.5714285714285714,-21.1,-19.9,-3.63,-3.7,6.25,-2.3714285714285714,2.3,-8.9,-2.966666666666667,-0.3210526315789474,3.477777777777778,-6.7272727272727275,0.9230769230769231,1.6538461538461537,-1.52,-3.4916666666666667,-2.375,0.24705882352941183,-1.0750000000000002,-0.7916666666666666,-0.31764705882352945,-0.5333333333333333,-3.275,-13.600000000000001,-4.92,-5.007692307692308,-0.07058823529411762,-1.9846153846153847,-8.1,-4.949999999999999,-8.200000000000001,-2.0999999999999996,0.6214285714285716,-1.4153846153846152,-1.1363636363636365,0.7222222222222222,-3.1500000000000004,-7.266666666666667,-2.3916666666666666,-1.8333333333333333,-6.1,-3.4,-3.2444444444444445,1.6272727272727274,-1.6,-3.0,-2.727272727272727,-2.7000000000000006,-10.549999999999999,0.21000000000000005,-1.7999999999999998,-1.9,-2.5700000000000003,0.40000000000000013,-1.9000000000000001,-6.8,-1.5666666666666664,-4.32,-4.15,-8.7,-3.457142857142857,-1.3222222222222222,-13.799999999999999,3.6,-0.2,-8.8,-0.8,-5.45,-7.325,-0.07333333333333335,-2.414285714285714,0.6,-6.4,-9.799999999999999,3.0625,-2.0,-0.05999999999999999,-1.7857142857142858,-6.9,-3.625,-3.8470588235294123,-1.9454545454545453,0.5499999999999999,-0.5,-2.7363636363636363,-5.144444444444444,-4.7250000000000005,-1.4285714285714286,-2.8333333333333335,-3.275,-2.4,-3.5,-10.033333333333333,-3.4714285714285715,-3.8249999999999997,-2.825,0.0,-2.757142857142857,-3.8333333333333335,-1.2538461538461538,-5.05,-2.4666666666666663,-8.25,-2.38,-2.4,-4.5600000000000005,1.2,-3.0,-1.4,-2.3,-7.4,-3.1125,-8.725000000000001,-0.40714285714285714,-0.2799999999999998,-0.5,-3.125,-1.3153846153846152,-6.8,-0.9399999999999998,-1.7,-6.2,-2.85,-5.3,-4.533333333333333,-17.15,-1.9727272727272727,5.6,-8.0,-6.266666666666667,-3.3600000000000003,-3.5,-2.3625,-7.1,-5.2,-1.525,-2.9384615384615387,-14.7,8.877777777777778,-7.1,1.1333333333333333,1.9076923076923078,4.53125,-2.0461538461538464,-0.5153846153846154,-0.7749999999999999,-2.825,-2.3285714285714287,-1.27,-1.4714285714285715,-2.6875,-1.0333333333333334,-5.866666666666667,-19.6,-3.8000000000000003,1.54,-3.46,-3.9923076923076923,-0.18571428571428572,-3.3666666666666667,-1.2909090909090908,-3.744444444444445,-0.11250000000000002,-4.3,-2.2214285714285715,-0.7071428571428572,-0.7,-10.166666666666666,-3.3555555555555556,-1.81,-6.2,-1.4461538461538461,-26.2,-10.4,-3.0083333333333333,-1.7249999999999999,-2.0818181818181816,0.8916666666666667,-0.7,-6.4,-0.5285714285714286,0.5647058823529412,-4.2,-14.0,-5.2,-5.4,-1.17,-1.6333333333333333,-3.642857142857143,-15.05,-5.7,-9.8,-3.4166666666666665,0.1,-4.8,-3.425,-5.216666666666667,-10.5,-4.529999999999999,-8.5,-3.9,-9.4,-3.625,-6.557142857142857,-1.5,1.4,1.423529411764706,-0.6900000000000001,-1.2363636363636363,-1.2357142857142858,0.3733333333333333,-0.375,0.46,-6.766666666666667,1.8352941176470587,-2.8,-1.52,-4.65,-3.17,-2.1076923076923078,0.8571428571428571,-1.35,0.16923076923076918,-0.6000000000000001,-1.0545454545454545,-0.21428571428571433,-17.35,-3.2,-5.3,0.8125,-0.04999999999999995,0.3,-2.39,-1.1384615384615384,-5.15,-0.6785714285714286,-5.25,-10.0,-5.3,-2.7,-6.65,-3.5,-5.7700000000000005,-1.511111111111111,-5.0,0.6764705882352942,-2.3,-9.649999999999999,-4.566666666666666,-5.9,-5.800000000000001,-4.8,-4.1,-4.7,-4.1,-2.5,-3.5,-8.033333333333333,-7.2,-3.4000000000000004,-20.3,-4.5,-7.6,-5.8,-9.8375,-2.9749999999999996,-2.41,14.833333333333334,-3.8,-5.266666666666667,-8.15,-6.9,0.5357142857142857,-0.36666666666666664,7.25625,-0.7285714285714285,-2.7,-0.7909090909090909,-0.8,-4.516666666666667,1.6333333333333335,0.3875,-4.85,-2.9250000000000003,-2.35,-6.033333333333334,-4.083333333333333,0.16000000000000006,-1.925,-2.425,-5.6499999999999995,-0.3909090909090909,-0.9769230769230769,-0.49000000000000005,-0.4833333333333332,-4.6125,-3.3,-2.9571428571428577,-1.366666666666667,-4.65,1.1,-3.033333333333333,-3.0,-1.325,-0.9133333333333333,-0.3384615384615384,-0.4600000000000001,-0.36,-13.416666666666666,-0.6749999999999999,-3.1999999999999997,-0.7,-52.0,5.2,0.86875,-1.8,-1.9666666666666668,-1.6888888888888889,-2.8875,-5.1,-1.1500000000000004,-0.19999999999999996,-2.35,0.1285714285714286,0.050000000000000024,-9.450000000000001,-5.6,-3.5,-4.2,-3.0749999999999997,-1.2,0.14285714285714285,-2.7,-4.4,-7.2,-2.8,-3.1624999999999996,-0.6,-0.5599999999999999,-15.7,-2.0,-5.199999999999999,-3.775,-6.2,-6.2,-6.5,-3.6166666666666667,-5.050000000000001,-14.9,-4.8,-15.266666666666666,-0.4,-5.0,-12.5,-18.9,-2.82,-1.2,-5.0,-15.1,-2.2625,-4.65,-0.68,-1.86,1.52,-4.866666666666666,0.6375000000000002,-2.9499999999999997,1.9666666666666668,-1.4363636363636365,0.74,-4.875,-0.9333333333333336,0.28666666666666674,-3.683333333333333,0.4428571428571429,0.95,-5.966666666666666,-1.7600000000000002,-3.1142857142857143,-4.833333333333333,-3.5666666666666664,-1.0166666666666666,0.8666666666666667,-4.35,-2.1,3.046666666666667,-3.466666666666667,-0.41,-2.04,-7.8,-4.7,-3.5333333333333337,-1.5666666666666667,-0.25454545454545446,-5.625,1.1999999999999997,-1.23,-1.1833333333333333,-4.300000000000001,-5.9,-3.1,-1.9,-1.157142857142857,-2.9,-4.85,-3.4499999999999997,1.74,-2.62,-4.08,-7.0,-2.9,-5.45,-8.5,-5.8,-3.233333333333333,-2.7,-4.7299999999999995,-2.8000000000000003,-0.1,-3.3,-3.2,-5.775,-6.4,-6.3,-1.0214285714285716,-4.7,-5.2,-0.3,-8.8,-2.5,-2.4250000000000003,-27.7,-7.3,-14.9,-13.3,-0.1,-5.433333333333334,-11.1,-5.5,-8.675,-0.7999999999999999,6.961538461538462,2.907142857142857,2.2214285714285715,-1.3615384615384616,-4.56,-1.723076923076923,1.61,1.6,-1.1,-3.275,0.4857142857142857,-0.30000000000000004,-3.475,-1.1400000000000001,-2.6750000000000003,-3.45,-1.6769230769230767,-4.199999999999999,-3.2545454545454544,-2.6,-0.37857142857142856,-1.7833333333333332,1.525,-6.7,-1.75,-1.8636363636363635,0.04285714285714296,-5.133333333333334,-0.3888888888888889,-3.5,7.449999999999999,0.5,-2.7875,-5.2,-2.2454545454545456,-3.6799999999999997,-19.4,-5.75,-4.7,-4.4,-2.9333333333333336,2.8923076923076922,-3.5285714285714285,-7.0,-7.5,-8.45,-1.1181818181818182,-5.6,-1.98,-12.600000000000001,-2.65,-7.8500000000000005,-0.74,-1.9153846153846152,-10.833333333333334,-7.25,-2.6,-7.85,-1.9000000000000001,-7.65,-5.9,-1.5,-8.4,-5.2,-1.7454545454545454,-1.2,0.6166666666666666,4.6923076923076925,2.630769230769231,1.758333333333333,-0.48461538461538467,-5.9,-0.7538461538461539,1.4307692307692308,-2.109090909090909,-2.3875,-2.2666666666666666,-1.5999999999999999,-1.4230769230769231,-2.29,-1.3333333333333333,-0.676923076923077,-1.9,-3.8285714285714287,0.26666666666666655,-0.6666666666666666,-2.0818181818181816,0.5416666666666666,1.5,1.2615384615384615,-2.511111111111111,-3.25,-0.7666666666666665,1.25,-2.25,-10.1,-2.4000000000000004,-0.6555555555555556,0.8538461538461538,-2.7875,-2.216666666666667,-1.0333333333333334,-8.2,-3.033333333333333,-11.05,-5.1,-9.1,0.11538461538461542,-2.18,-1.95,-6.833333333333333,-2.8,-2.7,-3.9,-0.8666666666666667,-5.275,-7.0,29.2,-3.12,-2.7,-5.5,-3.1666666666666665,-1.9,-4.1,-1.95,21.2,-2.7857142857142856,-2.275,2.8636363636363638,-3.9200000000000004,6.641666666666667,0.82,0.55,-4.666666666666667,6.308333333333334,-3.325,0.48333333333333334,0.3666666666666667,-3.15,-1.9875,-2.2714285714285714,-4.0,-2.6166666666666667,0.24166666666666667,1.3666666666666665,1.0375,0.09166666666666663,-3.3600000000000003,0.61,-0.8700000000000001,-6.640000000000001,-0.625,-0.5416666666666666,-0.9818181818181819,-1.5833333333333333,-1.4124999999999999,-4.8,-3.366666666666667,-2.8666666666666667,-3.75,-1.5699999999999998,-6.7,-2.25,-3.0714285714285716,-4.466666666666667,-0.9444444444444444,-1.2333333333333334,-0.95,1.1222222222222222,0.012500000000000011,-0.7857142857142857,-0.45,1.625,-8.1,-1.8666666666666665,-0.5,-0.3916666666666666,-1.225,-2.4,-7.5,-9.1,-12.4,-5.8,-1.9999999999999998,-0.15,-2.2375,-1.8,-1.5428571428571427,-6.8,-4.7,-0.49999999999999994,-13.3,-3.6,-8.85,2.15,-2.19,0.8545454545454544,-1.9777777777777779,2.45,-0.7428571428571428,1.1222222222222222,-1.0636363636363635,1.0363636363636362,3.3636363636363638,-1.25,-5.0,-0.8090909090909091,-0.24545454545454548,-3.9,-2.9875,-4.328571428571428,1.5636363636363635,-3.3545454545454545,-2.38,-10.75,-4.1,-0.525,0.17500000000000004,-2.0666666666666664,-2.4,-0.25,-2.557142857142857,-3.3666666666666667,-4.433333333333334,-11.6,-16.75,-1.5444444444444443,-3.4,-0.2833333333333334,-13.0,-13.2,-0.62,-2.511111111111111,-5.9,-4.633333333333334,-0.7,-15.0,-5.550000000000001,-3.35,-6.0,-2.7,0.3285714285714284,-11.733333333333334,-7.1,-2.0,-0.8500000000000001,-2.62,-2.75,-3.742857142857143,-0.08888888888888896,-8.0,-5.766666666666667,-1.7272727272727273,-3.1799999999999997,-3.6,-8.633333333333333,-7.1,-5.975,-2.6,-15.85,-5.199999999999999,-2.0,-7.2,-3.4000000000000004,-4.3,4.87,-3.8714285714285714,-0.13999999999999999,-1.77,1.1666666666666667,-2.8000000000000003,-2.5100000000000002,-2.1875,2.76,-3.7833333333333337,0.675,-0.99,-1.58,-1.31,6.95,2.04,-3.15,-3.6999999999999997,0.85,-6.383333333333333,-6.2,0.3125,1.64,-0.04999999999999996,-0.2200000000000001,-0.8,-3.9,-4.6000000000000005,-1.1300000000000001,4.07,-1.1,-8.133333333333335,-3.4499999999999997,-2.05,-7.699999999999999,-2.1,-5.7,-0.5888888888888889,-7.400000000000001,-1.6624999999999999,-5.725,0.86,-10.9,-4.550000000000001,-2.166666666666667,-8.166666666666666,-0.3,-7.7,-10.600000000000001,-1.9666666666666668,1.2,6.319999999999999,-2.08,-1.02,-3.9,-3.033333333333333,-6.85,-6.7,-7.1,-8.1,-0.1,-10.8,-11.399999999999999,-0.39999999999999997,-5.566666666666666,-4.449999999999999,-1.7666666666666666,-2.4,-0.1333333333333333,-3.0,6.1,-2.225,1.6555555555555557,-1.95,-3.28,5.0,-0.9555555555555555,1.2111111111111112,-0.9222222222222223,-3.022222222222222,-1.3888888888888888,0.15555555555555556,-3.925,-0.05000000000000003,-0.9666666666666668,-16.9,-4.975,-4.783333333333334,-3.96,-0.9555555555555555,-1.7600000000000002,-7.6,-1.8166666666666664,-4.85,-5.525,-2.6285714285714286,-4.25,-4.366666666666666,-6.233333333333333,-1.7666666666666666,-0.72,-1.9000000000000001,0.1777777777777778,1.9888888888888887,-4.3999999999999995,-2.5,-5.566666666666666,0.43333333333333335,-0.7333333333333333,-8.05,-5.949999999999999,-2.2222222222222223,-4.2,-1.8,-3.0,-16.8,-3.25,0.825,-9.9,-3.6,-6.9,-24.15,-3.05,-5.125,-5.15,-2.75,-4.45,-0.8833333333333333,-1.5250000000000001,0.04999999999999999,-0.2333333333333334,-1.6,-2.5500000000000003,-9.7,-1.9600000000000002,-2.625,-4.1,-1.6500000000000004,-4.2,0.4,-0.19999999999999998,-1.1,-4.5,-4.5,-1.65,-19.2,-1.5142857142857142,-4.3,-2.6,-8.15,-17.2,-9.4,-3.033333333333333,1.2857142857142858,-2.0875,-2.5714285714285716,-2.1714285714285713,-4.15,-2.1,-3.25,-3.5,-3.4,0.7375,-0.5875,-1.6625,-1.5,-1.9,-3.0999999999999996,0.5375,-2.65,-5.75,-2.7,-0.5800000000000001,0.825,-0.7875,-4.42,1.425,-1.3624999999999998,-0.775,-6.8,0.38749999999999996,-6.4,-2.733333333333333,-1.1125,-6.0,0.5,3.175,-2.2399999999999998,-2.5749999999999997,0.16249999999999998,-0.9125,10.6,-1.875,-0.8625,-10.666666666666666,0.38750000000000007,5.5,-4.633333333333334,-4.4,-10.8,-0.825,-8.6,-2.566666666666667,-1.2428571428571427,-10.0,-2.1333333333333333,-6.2,-3.8000000000000003,-2.3875,-1.0333333333333334,-2.85,-2.6,-9.45,-2.4,-3.1999999999999997,-9.3,-3.033333333333333,0.3,-2.5571428571428574,-5.4,-1.9500000000000002,-15.0,-6.1,-9.45,-1.8714285714285717,-1.5799999999999998,-8.5,-3.1500000000000004,-0.2666666666666666,-3.9000000000000004,1.5,-4.4,-2.9000000000000004,-3.7,-6.0,-2.4,-17.35,-5.1000000000000005,-0.9166666666666666,-2.175,-0.14285714285714274,-3.475,-5.466666666666666,-0.8857142857142856,-5.1,-0.2571428571428572,-5.5,-3.0,-6.5,-4.833333333333333,-4.3,-1.8571428571428572,-0.8285714285714285,-2.82,-1.4714285714285715,4.15,-0.775,-6.9,-2.314285714285714,-4.025,-0.7428571428571428,-2.0285714285714285,-2.2,-4.7,-2.375,-0.24285714285714288,-1.042857142857143,-8.25,-0.3,1.3285714285714287,0.9285714285714286,-3.25,-5.8428571428571425,-1.9428571428571428,-6.0,-8.25,-5.550000000000001,-2.225,5.8999999999999995,-15.1,-1.6428571428571428,-0.6714285714285715,4.9799999999999995,-5.5,-4.6,-2.716666666666667,-12.8,-2.6666666666666665,2.125,0.7000000000000003,-3.55,0.2,-1.0,-13.0,0.8428571428571427,0.525,0.22857142857142865,-5.6,-7.714285714285714,7.783333333333334,1.42,0.7499999999999999,-3.8666666666666667,-0.8285714285714286,32.5,-3.15,-4.1571428571428575,-2.8,-9.4,-4.6,-1.2428571428571427,-7.7,1.2142857142857142,2.0,-5.25,-4.066666666666667,-9.5,-6.9,-4.5,-17.2,-0.20000000000000004,-1.9000000000000001,-3.04,-0.09999999999999998,0.0,-2.46,6.866666666666667,2.15,-4.0,-8.533333333333333,1.9666666666666668,-2.6999999999999997,-0.675,0.43333333333333335,5.05,0.4666666666666666,-2.9499999999999997,-0.25000000000000006,-2.2666666666666666,-0.18333333333333335,-0.04999999999999994,-0.8999999999999999,0.3833333333333333,-1.3499999999999999,-2.733333333333333,-2.48,-1.0,-1.7333333333333334,-3.966666666666667,0.41999999999999993,-3.9333333333333336,0.75,-0.3,-0.43333333333333335,-0.7333333333333333,-0.33333333333333326,-5.7,-4.375,-4.35,-2.3600000000000003,-2.6,-1.45,0.21999999999999997,-0.6666666666666666,-5.466666666666666,-4.466666666666667,-3.25,1.0,9.7,-3.0599999999999996,1.3250000000000002,-2.5,0.3,-2.975,-20.55,-1.9000000000000001,2.65,-7.0,-4.633333333333334,-2.8,0.25,-1.2666666666666666,16.5,-6.2,-4.8,16.0,-12.7,0.19999999999999973,-4.1,-5.199999999999999,-2.4,-2.9000000000000004,-4.6,3.65,-3.9499999999999997,0.9,-4.633333333333334,-1.3199999999999998,-2.8,-2.6999999999999997,-4.22,-4.9,0.32,-0.6599999999999999,3.0333333333333337,-1.2,-3.7199999999999998,-2.325,-0.32,-1.48,-0.7749999999999999,0.3,0.5199999999999999,-1.92,20.95,-20.8,-5.733333333333334,-1.9,-8.3,-4.033333333333334,-0.6,-3.0,-0.8,0.9,-1.775,-6.75,-12.1,-0.8999999999999999,-6.6,-3.4,-2.08,-3.2199999999999998,-8.1,-8.8,3.2199999999999998,-6.533333333333334,-4.666666666666667,0.78,-3.4,-4.449999999999999,-2.233333333333333,-5.4,-2.6999999999999997,-4.1,-1.8,-25.9,-1.1,-1.55,-2.3,-3.8333333333333335,-6.25,-6.1,-6.2,-8.3,-2.16,-1.9500000000000002,-0.08000000000000007,-1.7399999999999998,1.2,-3.9499999999999997,-5.25,-2.375,1.2,-8.4,-4.55,-28.3,-6.45,-2.775,-2.74,-6.866666666666667,-0.7,-2.6,-9.5,-1.08,-0.2,-17.9,-4.8,-3.9,-5.1,-1.24,-0.825,-0.825,-10.1,-1.3,-1.3,-3.05,-1.0,3.5,-2.975,0.75,-2.925,0.22499999999999998,2.225,-2.625,0.16666666666666666,-2.5,-3.975,-0.225,2.175,-0.6000000000000001,-2.8666666666666667,1.525,-3.0,-2.7750000000000004,-0.15000000000000002,-2.4,1.0499999999999998,-7.1499999999999995,2.4250000000000003,-6.475,-2.875,-1.5,-7.65,-26.1,-1.6,-2.725,-1.7,-1.2750000000000001,-4.800000000000001,-3.2,1.45,-3.933333333333333,-6.233333333333333,-0.7250000000000001,0.9666666666666668,-5.075,-2.8,-1.025,-4.1,-3.275,-4.949999999999999,-3.1500000000000004,-4.525,-3.2,-3.8,0.45000000000000007,-2.0,2.6,-0.10000000000000009,-2.775,-8.75,-2.05,-3.7,-14.4,-3.9,-5.95,0.4750000000000001,-3.75,-2.6999999999999997,-3.1,-6.300000000000001,-3.4,-2.3,-2.95,-3.5500000000000003,-5.15,0.6749999999999999,0.07500000000000001,-5.2,-1.6749999999999998,-11.2,0.15000000000000002,-2.2,-4.6,-6.8,-7.65,-9.3,-3.8,-5.4,-11.5,13.3,-9.2,-5.5,77.36666666666666,-5.0,-1.65,-2.9000000000000004,-3.9,-13.7,-4.8,-3.3,-5.5,-8.2,-6.6,-0.75,-8.9,-7.3,-2.6,-8.666666666666666,-3.8,-2.533333333333333,-0.3,-2.233333333333333,-10.95,0.8333333333333334,-1.0333333333333332,-1.5333333333333332,-2.6333333333333333,-0.5666666666666667,-0.9666666666666667,-1.7666666666666666,-3.4,-0.20000000000000004,24.4,-7.6499999999999995,-5.3,-8.4,1.7666666666666666,-0.9333333333333332,-6.7,-5.1,-2.466666666666667,-1.4333333333333333,-4.033333333333333,0.06666666666666668,-2.1999999999999997,-7.9,-3.766666666666667,-2.2,-2.05,-9.1,-0.20000000000000018,-3.533333333333333,-1.9333333333333336,-3.1666666666666665,-25.7,-2.9333333333333336,-6.5,2.3,-5.2,2.1999999999999997,-2.2333333333333334,-2.033333333333333,-3.6,-7.4,-1.5,-3.5,-4.466666666666667,-1.75,-3.533333333333333,-3.0666666666666664,-3.1999999999999997,-1.25,-1.6666666666666667,2.3333333333333335,0.6,6.366666666666667,-8.633333333333333,-9.7,-4.55,13.7,-3.5,-1.65,-2.35,-6.4,-37.6,-0.44999999999999996,4.3,-5.800000000000001,-3.8,-3.1500000000000004,-7.5,-4.3,-3.3333333333333335,-4.466666666666666,-1.6,-7.3,-40.7,-2.7,-4.7,-3.3499999999999996,-2.5,-12.0,-3.55,1.2,-12.05,-7.050000000000001,-10.9,-5.55,-1.3333333333333333,-9.95,-1.4,-3.8333333333333335,-2.6,-13.55,2.3,-0.09999999999999998,-5.8,-11.5,-0.7,-5.166666666666667,-6.65,-1.0666666666666667,0.2,-7.9,-1.0333333333333334,-5.3,-1.4,-8.2,-3.75,-11.0,-8.8,-7.2,-1.0,-3.05,-2.4,-4.9,3.85,-0.2,-18.9,-9.6,-4.25,-0.85,-6.7,-6.25,-13.0,0.8499999999999999,-9.0,-3.55,3.95,-2.75,-3.7,-0.05000000000000002,-1.75,-2.65,-4.8,2.3,-6.7,-3.8,0.15,-2.9499999999999997,-1.4500000000000002,-0.050000000000000044,-4.75,-3.1,-1.5,-2.3499999999999996,-3.65,-3.0,-8.05,-7.15,-6.2,-0.14999999999999997,-3.6,2.1,0.45000000000000007,-9.05,-2.3,-1.65,-2.2,0.04999999999999999,-1.0499999999999998,-0.6499999999999999,-11.25,-3.25,-8.4,-3.3,-1.1,-3.0,-2.7,-3.55,-1.05,-9.35,-4.5,-5.5,1.0999999999999999,-3.7,-3.6,-6.2,-3.2,-1.7,-5.4,-6.7,-9.6,-2.8499999999999996,-1.1999999999999997,1.2000000000000002,-3.2,-0.4,2.85,-9.6,-3.15,-1.4500000000000002,-9.4,-4.75,-1.3,-10.1,-3.9,-9.3,-19.6,-2.4,-3.4,-17.6,-1.15,-1.7499999999999998,-5.8,-0.6,-2.6,-2.75,-0.4,-10.7,-3.1,-2.1,1.8,-5.0,-7.2,-3.1,-0.7,-1.4,1.4,-1.5,-5.1,-2.4,-4.1,-3.2,-3.3,-6.1,-5.0,-1.5,-5.0,-0.5,-3.8,-3.6,-3.5,-3.4,-3.9,-4.5,-5.2,-6.1,-9.5,-2.8,-1.1,-1.7,0.9,-1.0,-6.1,-3.0,-11.2,-3.5,-2.6,-0.7,5.1,-21.1,-4.2,-10.9,-3.4,-8.0,-8.7,-9.9,-3.2,-0.8,-5.3,1.9,-11.9,-2.7,0.3,-1.3,-1.8,-3.7,-6.5,-1.3,-6.1,-9.1,-2.0,-1.0,-4.3,-1.4,-1.3,-39.3,-0.6,-4.0,-4.4,-3.2,-0.4],\"coloraxis\":\"coloraxis\",\"size\":[37.94441109482831,33.98196300280209,25.536368400990575,18.3061009866474,6.397525563320032,32.426095458236496,48.71035995213611,35.618616387127304,41.00270316292165,38.259339818315375,34.14050868591934,27.058867924089746,28.975466634148734,12.299999999999999,19.54938191691321,20.922037822991026,15.997603987264249,11.16751240578373,8.54858662781944,31.489034372528582,33.900602256203854,40.630902989938335,27.903583999192648,26.537080974867347,32.412163354724306,9.383806974428529,44.031871032999085,28.046104898898147,21.593411417991987,52.86299903208923,45.84345397902816,29.735155026406797,38.544355401710014,37.580070072668384,28.5180352291902,28.343741225650973,30.122357619738658,28.59585245761663,40.289241280557306,35.947075294413345,32.839737108164165,21.47617727800249,11.748475078352381,14.868871286460617,13.25138357556171,20.94134666156883,50.725006617015794,22.656321168470583,41.50649315901038,5.211205874523352,45.635799178568874,34.501772297472876,27.869278187040763,41.85274582788248,36.35840113829721,15.150096259320161,30.14248109672901,8.447484832777146,40.029804868095205,40.879614928062466,38.39300609051949,39.35241869495263,16.938171880892767,15.326284611738098,43.62818490974062,40.97179585465538,6.359769387852574,25.917609843502166,45.26582187069655,27.99538652468775,29.556725123057866,48.8524215460103,36.787180738222744,46.97627651863816,32.76137461503513,14.52876457239225,24.34043275430136,30.288474155471526,31.25664262734137,27.176690379808953,46.723491917553616,16.945869703263973,27.00246902291219,41.20345185108213,5.367028973277487,38.150890896419114,41.29385883854618,40.77229451478048,36.62618761279446,20.289960571671898,30.895217177492754,16.712221077203747,7.923172765165904,34.427024268734,39.32089139376166,35.503423152641986,22.69343307571388,27.608422627886586,37.1327393728679,36.23587847546807,40.822874510907894,46.358265174615845,29.23401272490657,18.24637863613856,40.17310978751833,54.67786978700289,14.881588176893857,36.15247801557544,28.70680523267379,36.125683384539606,14.125449845344148,26.167418854824213,12.448440330686676,23.213789005675054,46.425029168901254,45.77070721420951,33.80147925757098,45.18124918345859,17.462579038236793,13.673148869225402,46.100124728681585,33.819035214759495,34.631596844500265,41.96817356750936,15.966279570812153,48.82125703921283,15.624166644443259,31.80134169077358,29.758927232008872,23.024552112907646,39.49020975718749,25.604376401488306,24.731525091132806,11.656328753085168,38.23666929516586,27.4476117155735,32.08236795084389,46.08110603417996,39.36275029912305,33.27997896633953,51.29496807680067,42.45568768335601,40.9217281322934,29.922046869973464,33.12680183778688,43.92098729536938,40.260623166783915,23.205566860849025,49.131631585183705,31.247914597084183,10.435516278555644,22.50775792180703,28.323524445891906,35.84007467041542,11.421106192776032,37.494799639416655,23.38478850307039,16.424778029956236,12.83600621515725,18.11817687664333,43.8525512370717,37.78117215885407,46.1223895176173,46.411241454343056,47.55636755722724,20.160109126688774,3.255764119219941,27.423469267520957,14.182030884185805,41.16751686031651,13.36902514521285,25.513567819047637,40.41573767546314,18.73268089018049,34.38282032255837,30.88133200926843,17.339069563656896,37.36062742355222,19.635370579079424,30.17496597228522,39.389038943453414,18.601505315430796,44.7520530255317,10.124804524862048,40.692188029972876,25.360500783699045,26.137085189864273,36.66294678100309,27.930543814572903,48.44029283248574,41.141434012350516,39.496102128353535,30.02887036762381,9.521466973808895,38.385628579997004,30.86812271583744,41.24327554617573,28.069690058851748,29.1674476085927,21.970282959792126,27.841403520656083,42.12172176495691,39.27663003194987,28.849094921293087,39.64386669671197,42.29858153650073,41.97943720618642,50.67991237678414,28.91228473042788,31.576320241598744,19.582049603314434,45.28017471501432,22.966805756714734,12.13074606114562,37.78579245048475,16.709029495056466,39.97450576443829,40.46502862555106,35.84846967135106,28.93888195644206,35.36250368210184,43.80895483584976,29.094472556369407,33.47022308460664,12.744900941160743,24.482368939481496,42.71518993262693,5.5458693337173655,22.845586736464735,39.589752695849455,14.823531405617668,42.59211585884567,36.23759557880922,37.90789825353022,40.62720558115378,30.456845608901215,25.10276379206084,38.07971682317678,27.624117632967025,26.365096876995036,51.12957491875469,32.80359228295991,45.01946569725885,20.667405900757526,12.399932795516797,28.864573634666957,33.52504491217924,16.967382925287374,16.54937058219034,36.00249149627555,14.798564119535387,34.85385474343106,33.38130714436848,13.358081199533608,40.073799975101494,19.656847831396234,28.674131779939433,42.91079895162368,37.084043688577104,35.77245371014468,24.989540669190838,10.362030045636184,32.72637966420858,40.182457476974804,27.920995684251665,25.269579867236963,40.249469745759576,33.13811724909571,28.40328619485194,40.905435034780105,8.525354342586981,7.712003630704539,38.77197871315486,38.73300765952653,22.360853690719807,30.723823546774465,27.9046441773886,49.051007465018834,28.399882628865438,17.203875532371576,40.24014189348544,11.203967551224387,27.947057090148153,49.8622519213349,8.111257609027097,22.379827226023597,40.046906525001674,32.868329488024386,12.311986029881613,27.445926635639196,40.617002709344625,26.673931302136754,3.043298648944377,43.53635932566402,4.6565366242877655,7.085195833567341,37.53995427097197,12.043116983018432,3.610170817749944,24.927712156018952,43.82248281419027,2.247220505424423,47.94478073784465,30.42278672937363,45.0223426015721,46.77576087628672,30.78736753930092,32.67738769648927,38.64871709815647,30.607430712407307,43.19956459216206,43.12519371937166,17.909950679254624,22.3638473136146,26.4184042541054,20.517330073216964,2.3416518386244634,23.31104888245057,42.98235345270584,31.395790588336318,44.592248329851124,15.99510341740037,25.523371642477002,34.077395570801585,39.98890992096019,34.1773804340434,42.35762180529025,5.848931526355904,53.40698300160132,29.09915519965024,37.761046948762775,44.63775361304651,35.07046082135534,40.62031511448428,2.7769887768348416,39.55249676063448,32.02694503591205,37.523490420446386,41.326251837168726,20.349542719404997,42.487493257820375,37.80262116132511,18.78128501106,47.023958432555084,21.177946469539172,42.655302305983184,30.864353765036686,7.932633022311485,29.72648650614464,43.370873482864816,40.754036382688305,41.15496511778565,24.857594412975686,3.5331760971303567,17.449259774175722,15.43005724767951,16.476285989263484,29.700218854412494,38.24266814262136,41.527448753806205,44.671423098740284,38.05206958891985,6.2496666577773015,6.71614969060895,4.5661800227323495,51.81892120874475,41.080787217766066,49.06116647161537,49.54650237338553,50.7526946921887,51.27117584200914,37.760597086217956,46.01960180184091,27.597937724885657,38.73171477183351,22.35528274629213,32.4844508258112,45.99157028235757,34.21988944069418,29.59508887829678,32.194577700807535,9.594616546098479,27.76029338621782,42.630123239411446,37.6137509331263,19.08582953106542,16.228447245500725,25.547048100840676,34.06491760023955,19.366917669056168,38.067014274271315,49.32001959988797,45.554617824411665,38.99352272897147,42.03228460026826,11.974208394155625,21.836628250106127,29.10788043990327,16.331003235155734,7.298287470359057,15.620853389173728,6.162892989497706,32.10326287434795,10.66387984428431,29.372793534153345,23.418226519814294,16.466320846571108,6.970533217289285,39.92864677563382,21.516524657419318,14.124879547175697,39.447421305061845,11.435616875942165,25.61243729996122,8.389328538883989,6.511528238439882,25.35450732447125,12.510528899024743,11.96388082707466,24.322109283530487,26.092144411680692,11.541735860201749,15.532372109028726,12.166997712391233,34.09078973043078,15.267394451357212,4.1836985232367425,7.887014644337869,10.048797606347396,15.769221075669316,7.340186192007209,33.644731578108384,19.671256526549925,9.327781086625041,23.112148080368677,35.28932400725307,2.0696215435033842,24.329132057405314,23.61692542789316,4.705434210687802,8.71537594012891,39.66415831131999,11.005263892035172,6.465163055432809,23.414436429974852,3.4246654337808384,26.14955385215332,5.67230112035671,22.07292566967614,44.78564455641264,32.055563739648456,7.231240096507189,8.674003304895226,6.6783231428256,33.142432519857884,31.30854515942892,11.73978279185778,15.281470260852963,10.682384253214869,4.371689223477202,21.40879881419476,35.902367609950176,25.783974351005956,3.055868670825585,12.645140700416636,15.77064784126933,25.993348508160025,13.978972303666199,19.227584351654787,31.518497655257057,4.6097722286464435,10.058661276067856,24.47563414227846,25.610408040482298,25.985614152010026,6.760793838990605,3.403429642777018,43.010197061651,7.7864198020228335,9.028658076739129,22.82064124135575,49.935705152954505,44.91962369157373,44.08490360078149,38.8906323174525,35.51588175933208,40.95426310735755,40.51422668770273,32.99428612148879,45.21918471917274,29.72661826265028,28.292141625861003,30.915628913400912,40.41817772870384,38.484691521194264,32.602129276066194,38.933311929217865,16.964734664067763,26.801782693611198,27.59000972025267,7.392451104561551,39.0878474057451,20.109989225921204,37.41359675602204,20.301984030029104,21.212991302501397,19.872074208127692,32.46412122122924,14.93865232654316,14.076872285182299,6.751975019701025,10.336303336622171,19.7112489034392,10.573867157604496,10.061229215823134,32.874262620736324,17.753849347864453,34.60129499577459,8.862373647430282,44.22943563047664,35.16324311929529,12.072351331313506,33.8907804572276,37.440926310161764,37.235550888901834,23.862562828872864,19.20605373313321,39.44574567493753,8.465321415437614,29.77344703167822,24.65844457561932,28.133270294011282,6.094191223342651,20.298414346938543,23.443904680463678,8.837891905501747,5.770904030854551,14.657307619978047,2.8460498941515415,7.37932547354054,5.022615520489967,19.055970193091717,22.3832981715617,22.976872430047276,17.64701107836678,32.055869788211766,20.140561616355743,14.761266883299685,28.072148347080834,15.566577444426665,6.307931515164063,18.50090087896622,7.797435475847171,4.861412689057914,15.08774337003384,38.20302004738292,49.255206396307564,38.143863639297656,48.50895643246376,45.917197379103115,29.835122319332356,43.94959549807535,41.480920853710515,49.46741832954773,49.142808365366015,38.908563753155065,29.63774339138076,36.46032089820383,38.717476673977586,39.984720566584905,25.702620921264472,38.73271836861212,9.426823431039747,33.25359379074688,26.619572999330146,42.75523684623648,27.922413765220774,33.81479638479957,32.17475718634098,41.83444678133081,15.758172482873764,24.914955348143813,23.38735413280719,29.729328330168553,17.955024830577837,39.960997651877186,45.79242682110947,21.852755356399932,27.619605700437116,8.591565631478346,23.01959310384671,3.728940868396816,5.9612638481002245,41.99313616352659,3.969466798786293,50.121135081103084,4.314510400960924,29.058061745081215,14.371868565381678,18.69068395395595,12.305960615354923,1.7701224063135663,14.118663770579229,24.917463755366434,13.049265624292167,32.99653012060512,17.43577500428358,25.45384712245545,18.233759897508797,9.275909658895985,14.396252405863592,34.976076239208275,2.1291625896895074,41.8751162045296,4.31083905212585,2.0575065816014613,5.187324294213087,2.3273733406281574,8.718084652032234,14.302505607992853,40.80939434329631,6.248466478531617,7.498444283094107,23.35433578588781,13.553597308463905,30.591673913346302,8.357332110189231,1.2583057392117902,7.585842075867386,31.576068104231673,9.5206792474767,2.2135943621178655,23.80234582276853,15.414711587744126,11.594574880808128,45.317409977389744,49.026814280743544,46.902230552173435,47.89776314490809,21.915899859843005,44.79248262822681,45.96359195835639,48.67299146384179,50.05875714264854,47.03204861040212,24.065350841222116,8.72802001219827,40.856544909044395,20.010302901810917,43.00586827262476,21.43192063773618,44.02683998300228,21.500406972892396,31.966731838654447,34.811043045974905,39.67212592939247,32.58869482355853,42.90871048979957,9.369246382595442,35.516216953198494,34.9588806075557,26.48358375170049,7.220341635499909,13.550830232867652,25.716571253513486,22.403887311506168,23.15014398803313,21.131051401511783,15.80955407340764,19.436734979586124,19.535629842248074,7.794228634059948,38.34879036191653,28.305855957407143,31.135059730863606,4.963197893831486,29.300092434438948,8.288596584062537,28.900824671048163,11.773133256133093,40.97704133617589,11.209110877614997,6.34954066580148,32.69509137470031,0.7427426651719066,40.64695218859862,12.792510829908764,1.7888543819998317,30.894137119093212,34.66300690388885,14.99433226255841,1.9832633040858014,7.169786142789292,16.321509325631215,16.106848095004676,22.518732942448892,39.28235821162811,34.64301543628266,40.931388584173035,31.72270918092868,40.44658302540985,29.055898507794222,33.08034726238528,44.151180618416085,30.031351139801398,32.972568241043284,16.614963135679833,28.064865342036953,36.768381646312505,17.613441836657955,20.857908172521363,42.20396242587235,44.31178360962991,39.99286795391757,34.93829083779954,34.959551457294744,41.958996940375314,25.796498470399673,37.611298084348846,17.98558064425809,26.747545503768958,13.159470607386403,27.826590999737405,11.483248669257312,24.33679960090922,30.5562891326083,40.0993528032323,17.65413077252271,20.338810737656765,26.748897519683286,30.58324704801634,13.396890186407703,12.249421755059842,33.5575579708908,12.170227789340856,34.33004029515062,13.984833054261165,40.93756933836366,23.220710344192515,16.30423002372902,24.24841346471054,5.144360450478216,15.495859662073189,4.629254799641083,7.646349891723939,33.83809490303303,18.826067920129613,8.561639251140328,21.842880500781693,24.358879284564797,12.787559058188808,16.98274334224515,3.5095108870990415,3.96232255123179,26.947405564667378,20.251913489840906,20.718369466088134,28.564225877835383,9.590055613325026,6.684933308069221,33.396841583865054,40.79428602059147,47.71519382987165,34.53952720281415,47.42659375152082,48.04487352251927,36.66470146248752,26.454510222476447,28.97127168995752,51.00940705245589,21.997537740998805,36.71525946766247,44.919524991813915,40.761601961214005,27.378591849594237,8.228304807188415,20.050569401723585,33.941952711153114,45.12935656010853,37.91963499229281,7.829591304787242,23.00566959106675,15.175620067873478,32.7019240004825,42.033664229655585,40.8142791754967,36.235542571549075,46.12250294355,28.240868730736082,13.156726205422245,34.59477521566257,34.81519197983249,2.3769728648009427,17.814320082450525,42.528410983021004,41.946338374526846,10.282630986279727,25.42764243888924,24.78480717428858,9.479334247602928,9.302150289046077,42.93790865889954,38.731124435007075,10.772089707511112,33.93217990836034,16.56811697206415,20.05155854291631,12.473906097663754,9.56663763061795,29.23101948273444,23.00592315035413,11.161242463692517,36.576856461038695,34.37670938510765,6.308415895540745,12.428126702497565,9.896800829897847,9.770192765072075,24.299365560990857,10.799537027113708,20.282720478279064,28.590536507344133,17.83758738757918,3.9251326941476385,8.274257267775356,12.827639429502742,44.49528767184228,44.28532488308063,42.6955306013795,37.92334530401583,22.01754981826995,23.470273752131632,38.53384684846787,33.67864398407484,43.300834425040385,44.978890551436415,35.13440858569654,25.841518416572846,14.600485151756669,38.34130248427244,30.600562812543906,33.918130599037056,34.86136147383693,23.597898917770912,16.043759603728247,29.180354611246507,22.649714862075726,36.49816776223156,47.4918251110752,38.82144412318434,17.794927491969286,42.644652774485216,20.786834775886398,27.710276874193177,12.740650166560059,30.238118878880886,37.13827764809066,27.89171023799006,45.50008171308526,25.132896768975915,5.833380952186587,46.01260696809082,16.794096184870057,37.21044880137834,21.70399348814253,39.59795419198416,11.222997222964398,2.513297966152575,33.941401709416766,36.390511936140165,13.036082404021718,43.59058575732454,3.243454948045371,10.489677465648455,31.13885568439103,15.995936984121936,32.07861870121246,7.110907115129546,26.009715550738015,1.795828499606797,10.44030650891055,20.785291273718865,37.587936894700675,35.34814940936329,33.55672436338208,4.378355855797928,10.470036612479777,19.067096440377767,34.61933097162735,9.45480477499844,52.73412697815475,29.388623082183805,48.14278146729173,49.565574281411834,47.293515015274565,38.880118180679325,45.58593884645594,38.55892946733179,30.026883787699315,37.607509381834376,34.56997251951468,36.45335408175116,26.360999443622518,42.44987567054167,14.006268437937193,5.9076221950967716,22.77088784683929,44.07469543601837,29.80849151947589,27.447850319824443,45.321543022107726,22.89745255117549,34.41159512123608,25.034172940499047,38.05336986829593,6.535480089480803,35.00495373106905,36.23780418818105,39.173458276406144,14.51374827151446,31.73265638867131,31.092493735090894,22.57325113196296,40.0177380541974,1.6583123951777,5.646532859492921,35.101210805326936,37.27672419441745,36.345436544025134,33.349627267615595,42.859120741905464,7.390421729058045,28.14565855044247,42.81512583188329,17.62871710212252,8.975429423338657,2.262005010309807,18.525500443082947,34.21532551357652,34.615186134283775,34.71926869978137,3.821866908549623,0.39157800414902394,13.702493690322703,17.13325226958774,4.15732285651876,9.292828776355814,11.0491892613591,18.754932684496634,6.521247324451565,27.548417982405688,8.896207056942872,10.626852779633301,1.6683325008322922,30.483096408774927,23.802690924307164,20.779196327096003,5.541660400998964,47.58415661524657,43.652674603052674,43.040180311101395,35.044447967307654,39.97224175738848,36.10370479604551,45.41514921012345,22.977464805519528,47.76359677066403,13.454413773925635,33.383488932904136,19.342580403520795,34.854105449238915,33.08261027434355,43.33631491574,29.721807369898173,47.23002766059441,40.5273004693544,33.415093668108796,41.86732303473962,3.5810845656960804,24.273253455878823,18.521968937813632,38.47110928995941,35.9033623574649,42.38908238633571,29.843528053275907,37.40742933202934,25.914153147138194,32.831418242432406,23.576983833108645,4.4237992721189325,20.600040453034723,16.743705284872494,5.951890455981192,19.844436667909395,24.8314686100789,41.52636824066439,21.828256407184192,43.71592903027903,25.23369660680819,12.487960869039709,17.086674470020327,16.48949160324032,17.08844638930058,8.622161368628326,14.948459070132566,10.075713374247998,3.4544657088084256,38.756273685688626,15.474225882630348,14.125410515175197,14.652360446926853,6.547009495436321,3.3015148038438356,11.475989427205548,8.414570696119917,11.573869035220868,15.74705660327246,14.256548203077303,33.15057314738315,16.802843674674698,17.441186886218496,13.207363266164986,13.69805338968523,10.730719143344169,37.666934786234926,44.83938373052572,48.577447828184624,45.37895988230668,37.302814907188996,35.131506191348066,38.99893818409908,21.583494207894645,49.044631034735445,36.5548873841333,9.154279509242302,21.61325789108775,35.48421010346243,30.859839957819307,31.927535138184414,42.99745922726132,32.94622934081801,36.442145930227554,6.9766276476054925,35.52055742805847,43.09224452800687,34.4300716428725,36.04485246035681,30.12873766577904,33.73078218284697,34.194562363599516,29.37046891768064,15.922625411658723,44.99357978892345,29.84235431582284,29.009122128507553,36.98087531263813,33.94195699196563,38.18808379049338,28.317691760923335,23.068586143642758,20.305007592545586,49.16830646982982,22.208969659426646,11.996318879834222,2.4228082879171433,3.0605010483034754,40.54556079276744,12.75228737651928,27.97391642226735,37.21170664066768,41.022201813977105,14.554380783805266,19.712823660416248,6.808022228714203,23.97324898020013,36.175290830436545,41.52249724881415,10.832474324917639,8.484888528044037,28.48915973176854,11.598132033507248,24.652763536772092,35.56577240362797,41.09410512701884,20.41861895427798,12.263122223425272,2.183651376326663,17.359051433378106,29.13828738389864,11.883111264872218,25.511134823837217,1.8393839548428519,14.03196747113928,11.545850625513328,28.745394558665097,11.28407432328117,18.444059567604228,11.602298622830435,22.03836931858213,16.971962172948658,3.610170817749944,19.608657385054304,5.991614510667761,10.392625590613134,10.868455885420568,9.034009814768485,3.646916505762094,31.701225002618852,32.773002562623056,12.310090711823896,3.0983866769659336,19.12696612987364,17.34985590718263,35.92237928274424,39.75748776436124,48.436765191559005,33.054525660893496,31.48892662508521,30.512256189567122,43.89368468875171,41.864603186940634,46.69505684045511,11.44308379182232,9.304598624097412,39.97062393530752,23.73174737210334,36.897672206871185,37.977633220094155,15.335072365151863,30.32759469526063,27.69113662562532,18.655011242142,22.62919697107159,22.60003687312626,43.10633235255453,27.812984078184318,33.472171277047416,45.079548208324645,28.536578216322557,31.369629686476472,32.49561508880854,11.244702456416233,26.320112715057533,24.638925842387422,13.942341585576244,22.678246819096913,19.6623000095784,13.242592268887542,45.331058153691195,33.72814106943932,20.807590762347594,6.160357132504576,28.137371353178445,8.83562863260636,36.480640658534824,9.286010984270918,25.508789334920102,18.85101677187024,44.81187218683112,25.765752463299044,24.766997530315763,7.564885987243958,4.240479532631504,16.543301766374615,13.05335205991166,12.871156384205229,23.46439974846054,26.638474681057343,23.465552767123715,21.13141421359835,31.488992785839706,29.293116370005208,15.101462401590997,25.562073142320294,11.27752189091203,11.648605066702192,34.10726601822689,12.086493839543914,6.4268966072280955,25.420846650818778,3.5730472522297685,9.998333194421294,11.133040165800782,3.4331715172223336,14.106263384279588,5.30455778866941,5.234023309080692,9.15323258016897,9.024288214467548,3.175164037757215,18.901014082142073,10.457772229303902,25.998728601392948,49.96970749030524,45.19206762464489,45.166034963075006,46.91650248183687,34.748630668464244,37.99958670490494,26.360279462352686,37.87071123217478,39.422878298436466,24.415509073810714,47.0049668094969,27.605653104633,45.48235005655125,42.2960991109109,36.990499906507544,22.24416590179694,38.776187181151435,30.432123926316166,30.193600064392545,31.604474015205156,37.905937780875696,41.11508407979836,38.613943940844315,10.960129764033114,36.659750862946865,43.51457087905014,31.195901745490314,11.914113945699485,35.78212361459798,15.177368019521694,4.439782276944068,16.399441047385334,36.85366049209586,14.707792719054295,27.421891829615813,14.87793668490359,5.305500290578948,19.748565348736943,6.071518206621248,17.415988822535084,29.858481021125126,47.00295271685136,23.45278945740428,0.25495097567963926,8.58972254111466,5.413563213509813,38.278338680266835,16.438471137345257,26.566354034128707,9.235845025406887,9.586753013055732,9.187763601660635,34.776170001884914,33.048065229066225,7.524478571819961,3.4940425488727667,14.107651588174882,8.439687987913612,31.378256803079395,6.275348595894892,6.2636517570290655,10.898012051134234,8.68539642797674,27.75761156872111,35.55231314129883,45.989602538689844,41.51230239338696,50.18894428263188,42.448033085415304,40.93365227888772,41.68472941817745,19.303971957432314,41.10849154278318,44.629882480871615,33.689419254373746,43.039688563774114,34.26082148590265,25.29917653468851,39.1842213796345,32.61766903586664,42.673354510574704,31.391118293114502,38.61098721003302,23.615304762962918,37.38117841909214,42.75833739362028,32.01116045911792,44.78117318943554,45.20567385536851,41.52324186988072,31.52452895644797,32.63443988590378,18.752836822435384,11.106417064022034,33.52992030344771,4.419275958796871,19.296556255802056,43.7736370010112,44.35199530099506,33.943482437722835,36.55858882214503,21.44351753897768,28.872766868914137,27.0173658145193,14.676994469804322,17.4060813127673,4.376452139956896,43.17669569666084,24.55951953927438,15.36522046701576,18.5988649593941,9.76703639800733,4.778423728943814,21.53444914549708,36.94006156123927,20.545802491019913,7.891081463694736,1.559914527573011,14.530875174377261,21.02173478410697,13.066432821036774,12.132898343850995,4.640043103248073,27.98100546203919,27.421372443163133,2.262741699796952,21.87886020361947,27.60369087640274,45.58545255724116,21.71450360166372,50.163106185943285,42.710982194278806,43.76946614555251,35.30071607709335,46.681548222444846,31.00635687510977,50.03905280434031,43.25968313782691,27.02545867634197,41.61502633264417,32.14183596261451,24.600496833284563,26.24244864929931,34.30745586279719,46.19579556385816,44.84266012032145,42.9763145361618,27.91112084217805,45.60343737044391,34.58484253735056,26.255399444685647,26.905025862590538,41.86325291284046,35.25751370597865,35.695712472072735,30.63776264677302,22.906258242381416,18.90188115270835,19.67273917548511,19.810897674428247,38.56875030384054,14.309422886103173,31.48639918017516,31.745250863411872,22.875423493347622,35.46983068593489,29.177921637963035,34.79951149082414,37.90854491770658,37.57914426025868,33.801989938604535,31.70576971677763,40.19512477347912,5.699853799294619,25.590829520661426,26.59569200704004,34.96091667054003,12.187014947612619,35.273870061150234,10.519030373565807,6.027713773341706,3.823174945861973,10.064458919054367,10.438909585456383,46.854455497849926,33.66988639719476,14.06674565538643,23.100798790559267,8.63355855562081,15.876030150303098,20.90233905039763,3.4302575219167872,17.079178356505707,15.089234573032524,46.72460451054312,43.518522876280315,41.06469766039189,38.68861685398012,43.34942329489518,28.519817671226434,44.064712513403364,40.11131292095066,43.969965644606525,46.381559815395285,20.579277603129484,24.10541432956505,35.10390205367403,36.8295953128607,27.793579394449292,25.816919516730355,30.309486963655445,42.2753904341951,39.017107747367646,29.39636598855942,7.772601452109413,19.173158320944435,36.866493369092396,12.491597175701752,15.717011307638751,28.10720548186888,33.771458199030846,36.875611375077085,13.432030540631017,14.039586888509213,9.029950165975448,9.313654850093316,35.72082336988082,14.172949587153692,36.58244114325886,6.235382907247958,4.909175083453431,34.671063823694055,36.31146895648505,14.098877023838932,15.384443802461986,15.661630396183758,1.390443574307613,9.517746582043461,20.87372750612597,4.58075685158395,11.56726703533151,19.370866686611535,7.242467351209347,14.662991963897852,4.081870486268115,20.09017172649353,27.384009932805668,31.980290153989113,32.74534136258748,36.843947691330264,8.116752224052838,23.959444901750132,34.67778959087634,20.731417381999396,13.423238556076287,19.317579788599005,4.279213323341885,19.95873868760248,14.125154866407659,6.894744375246988,28.526248471396503,6.778274116617002,7.627472276798736,6.499786321274123,9.757304955775442,44.39898647491856,35.58307516355548,39.60952957727891,43.19634822528404,42.03300731215531,28.608283571177207,37.70065428256299,40.525308450399244,48.70114475040601,23.134101812403838,50.420719534069846,34.72811301141099,41.7455386837923,42.29261558869743,42.45542368178652,45.22259206782969,33.86859656574707,29.465639122355512,45.907973163710885,27.58271399103269,20.355814075262785,38.28850730528243,39.28948544670276,39.57815685450751,26.290815886921436,20.493999121694152,17.267358416001766,36.55886045513148,38.159452738912975,45.75133331390463,46.88471677067769,7.071774883294857,36.044386217242995,32.39035993419443,7.730567033967602,25.19550224411756,10.909781543795138,38.365107604195266,18.566502093824784,27.259551078475212,19.13260741944669,36.255100790555424,13.337374387620509,25.824810422021166,17.20218009439502,12.576565508913795,6.729289214570384,3.0221405217715023,12.157747872584517,33.92259980864936,11.638585251939643,19.52737394872473,35.44517362537998,39.024979180007264,7.210871422142174,15.231509737675022,15.08150080949063,7.672461578050861,9.73319063822342,4.702658822410998,12.476745034930666,6.255397669213365,4.806159242749523,11.203384905167422,19.351227351256043,9.067363637426997,30.359256322321936,19.154494685756326,27.39989862106146,2.9501412395567317,46.42842560009659,37.04473084439042,48.28012396805099,38.46283379229009,28.99397638590931,52.467963770497356,41.06698908603591,46.93972888873718,48.50633215632017,39.94430149873975,28.200036117654832,34.898034010210054,27.763660301432413,33.075872374486714,38.23188750535634,2.984403904746586,30.109875179637204,30.45057014609452,28.56501940019177,42.31863261811122,36.14268482925234,5.999583318864736,19.073760335427654,12.30059280414295,27.72852772867682,28.430487492261175,19.088849275602406,23.632710382010785,17.398467365451094,28.24815628201838,39.26810834931233,15.923602328339872,43.04423005166594,44.946278633085555,19.25912482146811,27.756316312473746,17.64951998088208,45.40137255226575,39.22327351439685,15.66357238946467,25.22487198513932,31.94185690003358,20.163498373711516,25.568318069221682,29.88553161648626,7.237978539159487,23.33929090610938,28.968301641622,7.341775443764723,23.248512497218677,11.124260275032531,3.2331615074619044,26.428614543079373,26.199491089205004,9.060997001802102,40.073988862269914,11.899159634192655,30.99833328852805,22.96544505701265,33.781910839974685,33.019312530699345,38.007523621670664,10.279307693938668,1.3988090172238203,32.27061098481609,25.20565412759607,18.276122856521482,4.495367986420394,14.152738250953417,3.122498999199199,25.061291533624807,23.84779864054542,24.464021201211686,28.33757811340505,38.877588338270165,2.091650066335189,35.95716697882156,10.24255827418131,12.672038334678271,13.97438132202401,3.4253953543106963,8.695784419284246,30.495895291491763,36.88612463347417,35.618391199865655,36.10528585493633,31.16970828040767,21.822350927432176,24.472586704310586,37.49761936887904,23.99666643515303,6.172519744804386,45.386474673996595,36.43258900581547,42.734782866731265,30.4254313856024,3.268409399080846,15.03365668536212,38.5635919618492,28.277705195279026,9.346166772176343,5.471136384091818,20.35942861018779,39.7566189457806,46.962127915303554,15.387256632248215,40.27211866374385,35.176246720384086,27.6180194800424,22.911569130026837,38.21781598068281,14.977983842960974,30.58800600090029,31.371042247057503,11.77331021137783,42.01923418705613,44.972257652171905,30.890273550099884,34.92626757422939,44.45889253006646,42.7089934908328,8.895410801831094,39.16294751845592,35.28362167257401,6.665833281243491,43.255341673986706,48.92581970016785,19.239455986764966,9.187037970241915,7.136642534600336,20.93961556476145,7.883632834338919,25.918065342751028,33.73501078080384,11.93133130319777,30.428367612403356,6.130524719249838,33.67899939131208,34.486473797707994,28.539587515511787,27.951043510633642,26.566943745941103,12.945526897993254,14.945986083226492,31.321092467111225,15.609238717289626,27.402590104667926,3.3739195801520374,32.41427522088437,22.336890264015413,2.357258294431619,5.3603482473933814,11.503477735015617,12.023899811070734,26.848215334853585,31.23944088274736,1.1105554165971774,36.39645701621704,15.120846537148639,12.550630794240309,2.5742312768410436,11.27072165687125,20.428758324153403,31.625886021843982,8.33196655458162,10.75933703038124,2.7518175811634027,8.100977307296532,31.587238105144785,20.596358901514606,42.912180532981985,24.173461688388777,24.462567776548365,42.81911288865555,31.187203572405576,44.799612030633,15.114700349880145,26.41166619339096,16.19717053479814,11.182054074870742,23.840336966298672,40.960050223183494,34.28190901502257,36.50035159648011,38.29974511913201,11.469197879538038,30.3006463077385,20.01085122294068,27.51449401592517,14.24945905406003,43.019037867525796,38.133493589406854,37.39425089502398,17.04731161600952,27.754736832956414,42.92941881740305,36.943679786811664,14.752400934537176,43.40541989418459,36.05624904559676,33.64060047026508,18.728643392764283,28.493729468913305,44.07951419229314,3.7396523902630308,9.114045936538467,20.5208735194192,14.782506553355557,7.100899786490292,5.181698563212646,51.5562429825544,34.69165880260256,39.85829901036922,9.953516966379278,16.69408577910153,27.523161963052953,4.655999713631145,24.321852314328368,14.983185019658983,18.862794066627558,8.627813550759361,16.54559357250948,42.340925828328324,1.6502525059315407,38.86270093302218,42.40740894387837,34.301631225962176,12.504066005370692,13.591234920590058,47.5036109738571,42.2004344369423,7.079901129253148,23.368354670365648,35.086722492106546,1.638596960817394,9.338584832118121,26.402840756251965,28.802350887847073,2.6394443859772214,21.210728417477792,37.289613005436756,8.673138609138753,44.77731409031651,4.605250626549364,9.358908412131559,8.51909619619359,8.43712036182962,11.511877923837325,8.666025617317317,3.4665064065520923,40.903297204775846,28.361965924651816,37.879625130140894,33.73634291581312,5.996526772502004,24.347888341017708,15.931363197583986,37.02014841797487,31.548534038842437,10.694520923247469,34.45902558756479,9.93076029314976,27.823416396984754,41.632746192817436,48.29701796637597,33.781972510003996,35.01594478075509,38.927414647149526,40.953242308217256,35.925145944186646,47.83190474057154,24.886458834742502,43.097338149305195,33.36607974841781,34.913894082442326,31.618533594502228,36.07610397171208,26.712304696941093,23.60224800969412,25.11026350585218,12.678963329512042,10.618105606305981,12.703149215844078,33.56731627971203,40.78756618818479,36.435300343363615,5.372615750265414,21.90551680893803,27.048421087622366,23.031160051837034,13.324226056323122,31.69196357999223,27.755984339717926,43.65209680594455,16.923438710196518,18.945477326029845,26.847416076784732,37.61006809648475,2.7215191835933603,34.95097995764924,14.762551157122761,16.69001697622465,42.162201674011285,40.426728987968666,4.999333288882964,24.337522470457003,20.46465788187582,4.922736366426024,11.748829728955986,18.205905635260223,24.648512463567997,10.874562571023764,2.4086649137367924,2.503331114069146,23.509342114714034,2.0575065816014613,2.466441431158123,11.64356045202669,33.628237142814,10.056134114724872,8.494213716799614,14.261019131417877,15.933821470904807,48.2855266444649,30.63813663829226,43.977611728393505,13.893523671121015,31.777749028736025,31.597172869314317,20.809920177112108,33.35031234236543,12.551945400348636,47.278310742524056,45.18886293472468,6.743268248161767,7.320632941670186,20.08024734243414,25.471307386940325,37.35938079429762,26.925601200344627,38.37507328983229,45.57147499624446,35.88559599616537,39.396755365554334,7.903216644717105,4.9249365478146006,30.452257715972408,33.894468575270515,10.380751417888785,21.553744196516963,43.21740390166908,30.477767853524533,6.715405175167516,42.06140748952655,23.20447155183673,16.20635163549568,5.616938667993447,10.768008172359462,12.77621488026352,23.951875361510506,25.97666901920516,23.316896591670755,6.048415770541353,5.293077239816807,12.713785169387334,14.432101564067352,28.082695343890652,42.9001864797812,9.162332308606445,30.192134737378236,19.796983496370242,6.624449662676387,29.066532874309804,30.228093996589784,22.48577328000972,3.1411250638372663,32.28586894189675,28.640850778797276,16.93408790969661,13.733879438980244,6.811448695639816,24.688171931784154,23.375782815174812,10.951331730281344,29.019614056703112,15.586211855354719,31.59748935174017,40.287818671818556,38.47300785399202,15.437427462717583,28.873690446494713,24.684939740659694,15.284469241684516,8.654671185743181,10.53407170407847,22.56278277754464,16.29859400889127,30.190306115263773,37.49123008562581,13.626139096114741,5.674504383644443,21.898782310134667,5.01829984490099,29.07612995797986,5.181698563212646,6.566328248470883,11.659295290310938,13.189136944217882,14.062272220377473,30.453636892824466,25.647595728774785,29.51455149582997,7.387489424696322,19.444193649176274,28.193787731815426,21.841836766474845,7.404953297174352,6.866585760041158,26.88390162656207,41.75837740302337,38.36795537945696,45.39248744744738,48.61171840890494,32.245574631774396,34.212522074039875,33.59686865369053,32.08554970699424,40.34592090079656,48.40399002148483,35.54425058993365,29.950477644123012,41.30463553484847,34.427574946061284,8.592632503100157,39.7890269630544,24.731322919191634,42.580781071589854,4.2391036788453285,44.272913088403556,31.626505234270383,20.908770089765362,18.674224660388624,20.52080245344546,14.886459171564836,21.99702631417862,18.78902605245945,24.862538754787966,45.26285728939347,6.917489910846758,30.434574636970588,33.937350367994235,30.023657338838635,14.781031387859542,39.6234831465719,11.149439447792876,31.669201652920336,14.995165887711947,19.493545940473044,30.601225465657418,20.10397970552099,18.51654665427655,20.74640531112157,41.19578760828184,28.914212191700237,20.95614468360056,27.32334929445266,9.347905291204725,34.74261912022944,7.339277893635041,32.485176106443795,17.95680001188036,30.8472175946767,12.778204099168239,6.1729247524977975,7.057265759485043,12.022374973356964,22.452561101130527,11.657687020445636,14.603500341432598,10.701868995647443,24.67671810972168,4.363675820528686,5.766859341675215,21.476479382493455,25.33829447035981,16.702968797991172,35.39075326503616,38.53170772234213,23.905403852127943,31.651592903570183,3.3763886032268267,14.062657406526442,7.977050415619378,4.449719092257398,11.158703628408947,9.172467861304648,3.046856303361438,11.053129270331864,16.703542538435762,10.8531101533155,3.953901027255652,8.094648437908425,14.46052096802418,6.615176154537047,23.64804431660259,8.443340571124677,7.968793300535951,22.016035822403033,2.742565708723616,5.410945696764411,4.435651023243375,7.9645045880665615,17.017246154024658,2.8225284173355405,13.854030701087206,5.873670062235365,10.970566682415862,28.250358896441966,5.369305769319202,7.563068160475615,31.692533295189037,28.101828726575388,22.303798879214373,4.792268078199857,47.63392231966157,43.296773038594424,38.87808580107252,31.8074502104285,37.905760336216225,27.315014186340814,35.31243092421959,29.70944481324268,35.338160047681534,2.3671361036774647,17.631175041197157,21.661736618593924,9.229391457006614,43.90083522364163,38.92698292958241,8.985451203658796,7.219995383193351,33.85876712331849,44.47808449112889,24.270764306053486,33.640831671579605,11.118353195405232,2.4289915602982237,35.53602241231968,23.824777018893588,29.596339863796224,3.610170817749944,32.64174219206649,15.692638047469552,29.06578744847626,31.778355666851088,1.9192012227313033,38.73500426688441,7.347902194957872,37.52023898289207,23.12845769945665,34.757980698283106,47.82888481056421,39.3975041510669,29.96537817029665,8.454239567617353,29.073412825695808,11.684866756241206,32.886327790672475,29.574496332707536,20.453429486953475,25.84146108700341,29.596959303279764,43.08514825319741,33.352477835653815,47.42747679937819,42.948082352740464,47.00135340840967,14.269333862829368,9.12030701237629,17.69352518107494,3.253203549323851,9.923541034664325,22.72188739226271,18.085975229442287,3.9644251369734174,1.5593802187621435,33.78758401148756,23.49371074233367,16.22503210063594,28.95597232581447,40.25679031749389,13.934489585198303,31.861994078630264,26.46890208863559,24.50622369929731,15.675112971416405,5.618718715152059,0.9548123724935004,8.204978163692253,14.639159811956423,20.217113212985353,24.904729582060426,3.8427420765212306,15.42335890783846,6.025501362265774,14.928300863349001,2.954375286474844,10.531935561266362,17.268589017828496,39.10793468793201,7.209253313161728,42.500950969752786,18.27513489842292,16.6054208016539,4.538630483600383,4.767773764207641,17.800351120132433,4.652597840633414,1.9364916731037085,27.645373332018274,19.210341543611932,8.121473593710279,14.897874568765396,11.963137826952718,19.205120844885794,19.501353229398664,12.24605378615222,26.263932810351662,6.307403057783235,10.553395977914716,7.512212279570733,12.924524491575426,7.144461724534137,17.04469614474447,16.63663126958099,11.876447280226525,13.870231913466084,9.167469661798716,10.035769360974125,3.47371079203014,5.313661637703326,17.80290238509814,28.508302884130703,14.51447553306698,8.259186804199715,5.278730908087662,16.01197468563241,6.719374970932936,11.103940741916816,36.7017143105514,45.90916756669271,33.919635414707315,45.42681843727701,36.7132923248969,43.75968464237374,31.65989839950009,36.84280798202005,28.485186208507283,42.508303110490424,31.964211758360843,28.26412626162945,39.643673307771756,33.67776219802421,18.063752840056978,24.625748719582113,33.653429741013476,15.377364316856562,31.600698831935134,37.70719427377221,11.15541721915113,12.289460253946611,21.829318969373887,19.76216924665239,34.37684540501062,7.086136700158508,26.46167039323104,11.06251177023856,14.536649086590296,26.319305335311093,23.61539046187182,36.69365294797814,13.123166538606444,8.587879055195565,4.67635898251335,24.463254757561053,6.387618231130184,21.33361978974345,16.540455455236625,17.726909864196113,34.26960509450515,33.62829909466133,30.34923118191516,26.801834514326348,13.352777488847286,19.193271390429175,35.95439240667731,13.482210501249416,13.347565321061365,9.970665307123024,33.02370360816606,22.64181235384365,11.537475171515343,9.160922442636448,7.505775553976198,16.474272872168502,10.824586212260794,3.9654760117796686,22.8114006584427,7.297259759663211,19.443207897189524,7.866913837924837,9.334166629467607,25.153015061154566,5.321497283033535,10.71443730051497,25.333031796451017,3.6560452221856745,14.809287626351246,9.195787078874767,3.6423435679060674,28.357288892511065,21.99124825925077,3.9093904043128385,12.497933162460622,19.578687392161918,3.924283374069717,21.697618916984105,11.111255554616678,11.865039682473336,4.330127018922194,8.65524888916161,8.622644605919925,48.105786207759564,38.321969330050486,28.91158937173811,25.888446586588913,35.452456426412404,26.135799203391507,24.519550023059825,41.781295655671926,32.49558944431275,46.61796863871269,44.53489268727017,27.149278689006326,25.859846609496103,35.67692998750495,10.709808588392232,42.1627995591691,30.58717051314162,7.503776826816393,43.692295278077005,29.804082494405577,21.086290965142897,38.86879639676703,30.073964376738445,19.076643660071156,9.719825101307121,12.684767768206598,12.478982330302419,8.423182296495785,7.9821676254010105,38.142211961727256,19.93184219617778,35.263082678631484,13.314716169211682,33.01386072545893,19.565871647676037,9.660141475844611,16.389224102033232,30.455623454462394,35.60278547155166,5.218556633144197,2.016597794967224,22.333047261849423,9.175147591910077,9.661780374237452,7.913174668445863,14.316016671313742,9.39769475279266,9.90933902942068,38.97390152396857,6.736467917239716,16.407213860575688,18.33030277982336,18.28897664350488,13.118879525325324,26.451811532167945,32.674888421130525,16.696606441629598,6.890936075744717,17.378530816307027,20.37670238286853,3.2888701200665706,27.939130265632823,15.251174818135585,12.557335173780583,45.196423162310865,14.765331015591896,1.807392228230129,37.748267068392295,5.110446816734003,19.981741665830835,19.796548520722823,14.546706385524766],\"sizemode\":\"area\",\"sizeref\":0.13669467446750722,\"symbol\":\"circle\"},\"mode\":\"markers\",\"name\":\"\",\"showlegend\":false,\"x\":[0.09460039100538649,-0.05386022742051772,-0.005183335204908813,-0.011202425945014138,0.725393189522834,-0.17664533053509288,-0.8008956750382518,-0.3070454464388438,-0.2627526472118959,0.08965457525414185,0.4985639122449029,0.5870863930142913,0.47991345618400455,0.09817499071295803,-0.7811293647442905,0.32678438609840854,0.07140143048206955,-0.279332853497716,0.5102286583618595,-0.3068264387815253,0.023077803301576414,-0.16455536662736994,0.6092769194380114,4.594094511366862,0.4306413043721235,0.760737096514253,-0.6076573159833817,-0.14720249687555378,2.1352486629617493,-0.5296679912475796,-0.2936571907791408,0.6421294756337066,-0.015827094231678034,-0.7813342352474248,0.03599550377333319,0.3056405246314786,-0.37311833164100305,0.12121220556844078,0.04542177891877351,0.04414749358544792,0.013186763498792792,0.8729697433085695,1.6872608385860894,0.6387766970553921,0.5873646184295838,1.4847855996009602,-0.11772587772982089,0.4581382506574686,-0.5023815766208385,0.6980290372564666,-0.16185278176053408,0.1382746359027254,1.607823638243241,-0.755459394915466,-0.052841504335802474,0.6851920791031312,0.09397849820497965,1.6134869264203076,-0.5148016411484017,0.0007223875321900224,-0.6673949881636548,0.16998426662354718,-0.7722321608280498,-0.017720905599448885,-0.2453682886044926,-0.7629318278569277,-0.1379275811734523,0.26954059052476076,-0.4542836796270853,0.14532920635133423,0.09803975516210099,-0.12194284277497608,-0.4963760922809179,-0.47946261133057017,0.21871027857481795,1.013048306925247,0.4651059736346753,-0.0013446856088237687,0.4801998427605902,-0.1986095926243181,0.011141143859014293,0.6885211044321616,-0.011326384223848074,-0.009465195945258038,-0.034200946833600844,0.09225108364793759,-0.8492187824770702,-0.6616641622946655,0.07804357045194303,1.3119579267090034,0.14412441228535924,-0.010454572112307652,0.43423709405246685,-0.25778020901638843,1.0190400633132708,0.1051195061214342,0.36845344944063096,0.05095604376567422,0.09637538440303815,0.05693338529705606,-0.18606763725311973,-0.1903042271405432,-0.1014906355128309,0.7382839735735839,0.01566759132213235,-0.427667928231568,0.02481510251462342,0.5594976387555011,0.019945661697661637,0.08348535650704753,0.009287139649385111,1.3442054827376704,-0.6042613656565393,-0.47644012483986276,-0.8021004992521483,-0.597655665280404,-0.6644891926887064,-0.3148846256789966,0.28747233686269724,-0.5927381730232788,0.029909709450439362,0.9078338459435217,1.7459394130937766,-0.25335487816139923,0.5860506090775455,-0.3825571004936361,-0.001455357907490482,0.2654046699805231,0.09819693451762407,0.39245530264907513,0.2643150225114919,1.7536517356199282,-0.003914388293449939,0.053690689221908325,-0.11166334265368104,0.05197239565246698,0.06447783940458965,-0.6041934928671177,-0.13750602110708637,-0.06820716596194047,1.7302655433306504,-1.9610135911309383,0.37657430364770067,0.0810373372059161,-0.00044594737622600676,-0.4438519057986522,0.09994748315373783,0.15748693063713443,-0.20981822987016363,-0.14295780817206438,-1.4812631605384274,1.4541858315793184,1.378839768028239,0.024236244783390187,1.411324273929966,0.01221919839897487,0.011514049863320266,-0.0017044595280493585,-0.8923349086414241,0.23046483010489327,-0.1843992469575163,-0.2706854428788304,-0.08459286459857654,-0.2978468023531862,1.6165717608920112,-7.202492390818302e-05,-0.04250098247232633,0.23412020692370095,0.30550651557138825,-0.23325122068702722,0.1506353127608523,1.5528265931156318,-0.02312719353978684,-1.922348413661619,0.17513867937756541,-0.045557247724514464,0.020593294407018663,-0.018629667676792906,1.765359479920064,-0.2213450016462053,-0.8216710927878638,0.388197160460419,-0.6587264243527132,1.0816184821351067,-0.5060342516948748,0.04010214756972139,0.08967181026762719,0.039436778418323326,0.3040216235300526,-1.6794809897709646,-0.5215896498629291,0.04609175302806194,-0.2305341830179115,1.402838191753312,-0.4059879254544803,0.4647507842786775,0.019555220454251503,0.827561914516681,0.06846515270176566,0.6741380530752934,0.4685012560267052,0.04866115581560008,0.7887311082683349,0.5544989451650687,-0.4922297210749007,-0.02340738665778649,-0.4453595815238346,1.8554388887782896,1.2666338562281725,0.2646627688103261,0.08308689914056262,2.1222970057003745,-0.34530332943652126,1.6864216734783646,-0.03469310810255407,-0.34323946169962377,0.24269452772149785,0.007724603297291806,0.24071054479653733,0.4659724943469262,-0.2121019593647633,0.23036717077882296,0.15537039302753025,0.057602705400241296,-0.33134612371570804,-0.288437485849869,1.2871468255030307,0.2691150928166345,0.5789229927697404,-0.01646179930156263,0.12356245956941812,-0.11475935022429089,-0.12821726260891483,-0.1994059796170289,0.6456584903724413,0.12833879847946775,0.16152926346130728,0.0793972241499069,0.39293928592743926,0.2502050138004447,1.9783778268276724,-0.5958458650628438,-0.18040729776822345,-0.013766656074616801,-0.22580934853906226,-0.1500178592612242,0.029086371935580523,-0.1139896361854571,-0.01689885162398509,0.5569567908119519,-0.134683701135559,0.46248817341548526,0.7122909370070217,-0.7849648572074812,-0.18464820192366005,0.4320927537433582,0.23421113414660966,-0.12015176847677697,1.4590630750443527,-0.028047446677853013,1.13308551418877,-0.05971676468033675,0.6084552856357387,1.6340631767912768,0.36702063274732344,0.2575266158794027,0.04934600640394009,-0.5207120372948786,-0.0030048043574166807,-0.6586655878448742,0.2505006272615357,0.008371192941719091,-0.12021734888685134,-0.8843081447441603,0.05892920391426187,-0.002663870722506633,-0.767796117471251,2.206102437090914,-0.01272619341245404,-0.2870728594152028,0.041202224318931675,-1.7121731325533733,0.010372921155017378,-0.2560638392742893,0.8510250955396057,0.08552595356838118,-0.7957645016832132,0.13828376343365079,-0.03854873310602534,-0.01490493403756436,0.42451992641695224,0.4072544230220962,0.12500294092044847,0.20687354519826623,-0.016647358052513554,0.057002284560076326,0.006371391656951431,-0.28304265958667885,-1.1306775352806417,-0.7516736815482201,0.22951717096051846,0.2102118752078033,-0.4419298908351424,0.1156015817433702,0.06277439599272686,-0.06371354411438152,-0.07540600308147684,0.6480851024118257,-0.13968903047241205,1.490256515711365,2.017009845605589,-0.41194666147093406,1.0881865462259575,0.13742274471310642,0.06365078448294645,-0.07975522473041141,-0.2487494597463725,0.30885438863214176,-0.21916938985480552,-0.059899000355686266,-0.38669794769955057,-0.025700356139461228,-0.08847645474721862,1.8772634835318553,-0.814782947788708,-1.635031727146522,-1.7386885776976355,1.542865070299465,-0.9156809360975984,0.008283301331007015,0.048246242755375326,-0.48040939951771355,0.3302869914974001,-0.23785453814849172,-0.32381851542836115,0.015163930885286786,1.6390830926446316,-0.85736416989702,-0.3305396973849527,-0.04841468582586152,0.013418622976966525,-0.029078354265679257,0.04106254248228672,-0.20689878317656332,0.7140495163767774,-0.125538951520926,0.39369523855386995,1.532500661670675,0.5162671915353706,-0.010275785744287997,-0.30064608222714445,-0.5131603404176571,1.4693367771442996,0.9416773264843193,0.02123018597772041,0.1208248301666255,0.9282881371424319,0.6233636371589072,-0.5033853072753949,-0.7875042869809504,-0.6532923624292981,0.022341021395791295,0.25756386683922367,-0.005815722564063549,1.3930390575491174,-0.1869208149302036,-0.5989902064870312,0.16959927171907777,0.11785840215585745,-0.4757382972393586,0.07695062255636695,0.6344325024866871,-0.07082746138007397,0.9257380584935281,0.0007469379455201819,0.30722091207977537,2.1743097506734266,-0.616793374644331,-0.14706011157033447,0.15466636720979035,0.040527232680557426,-0.7280372477798986,-0.059885414869955994,-0.1356420072142989,-0.09372451658458934,-0.004225543927384215,-0.3675496777178077,0.1741546847466998,1.5552071213788954,-0.25967138792963496,0.5775220135056355,2.1533211033683117,-0.17470939545461106,0.04068677271578066,-0.13415670540805055,0.08346816826272714,0.03204082257178463,-0.34109851200290214,-0.23792549180581835,-0.2710677085105021,0.7173427493819305,-0.897133878841516,1.543684316127049,-0.5896689599837599,-0.26884985191488603,-0.1814202312667576,0.7435691384766371,-0.013766656074616801,0.010202762787887289,0.012029342290124992,0.15881018812478231,-0.12078546491952308,-0.00948686377370239,0.29751603126143555,-0.05233034781518757,-0.22516202112198766,0.5125641171559447,0.40906019518803394,0.4897047647906786,1.6311550519471678,0.055080132012746884,-0.29499624776259525,0.6838074325283501,0.23386804771285116,0.15547008358859934,0.3269365073136571,0.25797451588655196,-0.039862949463490525,-0.05857605885624383,0.024659105960272484,-0.25409901371599775,0.1158030147115769,0.3349205642195058,-0.06382455328523673,0.6769554126778184,0.3501234221050506,0.5054921730544382,-0.025180921765507246,0.06424375425273415,-0.11222717983864701,-0.015402442687617921,0.1658132010878676,-0.2563622444006861,-0.007779353212203396,-0.27088618277539334,0.2911077450081571,0.1320131083365775,-0.056839153058766696,0.32320488813750153,-0.4891283542058816,-0.2884363008318639,1.7624358288396058,0.276491756941573,0.20104037182013237,0.02340752972982219,0.2602329357614098,0.6111052146872067,-0.2939937897942703,0.01871425069798721,0.05449064493614227,0.06780759986611767,0.45545132855075593,0.49791432911356476,-0.03688659104441257,0.5752789247294743,0.39413913630075975,1.1896823195191117,0.3936315836133615,-1.6685340587064377,0.3701872618377235,0.0975792954446715,-0.24643837766659565,-0.19586743966255352,0.324004531133222,0.1450793389704153,-0.30605619519244914,-0.512181356888534,-1.5624252015467281,-0.5595788537795958,-0.008813150809614166,0.2274571872312092,2.0797591747647797,-0.03663945944594144,-0.4675365484695997,0.015197221278754463,0.5461300078526069,0.45851061885155053,0.0739897603340464,-0.12892500223974968,0.027341327869804453,1.503248505641455,0.13739274406226482,-0.2715503934702742,0.010825270379841802,0.8637991165366072,0.11558630703913712,-0.12090396629930078,-0.4826989163925259,-0.0003347742124808889,0.29053074684742264,-0.9161641627130958,-0.03997373109015972,-0.2002364457086359,-0.3479319027974723,0.4263965890574528,1.176686470881893,-0.34758917398970324,0.6447877170419425,-0.250466194512976,0.007029884596668994,-0.720249253125226,-0.2255508098354138,-0.05269882528951403,0.007640754377945885,0.010425720895566704,0.3758143004847046,-0.030853070837245093,0.15290585764981593,-0.05909152194189247,0.09869158165642511,-0.07276562777390909,-0.14714372673730383,-0.0979946447145904,2.0132298882215323,0.2781567890893898,0.04401782342961563,0.05343894543216406,0.7435291032308257,-0.23432021884194448,-0.2647756900572552,0.22217847524671902,0.4419156949625127,0.1116428756091482,0.6910483285248703,0.08188189801379475,-0.18008002810653134,-0.01429631296017173,0.2615672064545406,-1.0293883458074975,-0.4915326146215032,-0.01689885162398509,0.024119064111830315,0.4377330414207261,0.36356659764315746,0.3401269635842175,0.4166561342696905,0.8626578291687901,-0.6204074790950752,0.08300086330456591,-0.014097180819895784,0.358919372335064,-0.04463587249744234,0.6675869821977534,0.2797999513966038,1.1314784184790068,0.6543973958162423,-0.047750334469060705,0.11303392801390713,-0.3463683558817402,-0.35115785764544094,0.10536226533743492,-0.25332525871945283,0.16128232266769382,2.162425675209349,-0.49783426880915477,0.03164557995236905,0.6053226785058125,-0.06220991788280737,0.18935316870489421,0.01394093951425917,0.31684097172724157,-0.6474675905099316,-0.22580934853906226,0.5131567725886611,-0.18246117751407323,0.35934999375396154,1.8331990633920936,0.04689739478494432,0.004797067754631247,-0.054943836074385966,-0.1704292689866008,-0.5468265179965016,-0.470695905266571,0.9929278702002717,0.14119735589301255,-0.10815444930905896,-0.08791171826101712,0.4754136827393429,-0.05769464625927951,-0.8239969030273648,1.6393195527818285,-0.927175334303273,-0.05963788413451587,-0.19078400353644961,0.2653503556314533,-0.031726865284934104,-0.6708017475142316,0.7296213573327739,1.6485533214041133,-0.09981627689845021,0.0036453031642520147,3.3135968990379805,-0.11416816305120173,-0.33171126548601765,0.013261091605411095,0.0894498761149288,0.5926398473778439,-1.0930980988737982,-0.26920823349387923,0.7385725518125084,-0.1501382786550041,0.015430967381238133,-0.04239879929048561,-0.29593550429410825,-0.1483642833115982,-0.3003978527591096,-0.6020806457373319,-0.9156921404149028,0.33342503174122945,-0.13515077148619728,0.041113746122777996,0.792516360023859,-0.009881469429035597,-0.011559399179229662,0.005319073639318267,0.6635119969546501,0.2746692325211787,1.249453086224606,0.6174591947440948,-0.012328957636483971,-0.5384444665597531,-1.0593916425933199,-0.1714579802724662,-0.24980031373729567,-0.15978755658937127,-0.027709607279425286,0.0349919378786986,-0.1067809542134474,-0.173917411253408,-0.04432426703530034,-0.06110055259349338,-0.02202909433958061,-0.4875100240689337,-0.2169564962500759,-0.348845942096735,0.0202162836919754,0.803191974813969,0.2109805763256099,-0.5055554119418817,-0.11682207180885625,-0.03954361268519966,-0.18906145544060304,0.1466144761513231,-0.052638301347179665,-0.2681285029354239,0.3049451788442242,-0.30431962129668677,-0.015371820968327374,-0.5200027513085436,0.01147905893260591,0.37696740339278373,-0.12037499856049998,-0.014324911893490819,-0.50986967459462,0.9249972854630314,0.07628275410224336,0.12389761474545122,0.2015373839560378,-0.37911711995805103,0.39145980648739437,-0.28109163736313186,-0.6259283819054346,0.47265042823830633,0.5149842202078607,0.38028765247265767,-0.16837311818787187,-0.023554677315951986,-0.6745436497379492,0.20422320363891625,-0.13515077148619728,2.115699110952316,-0.3422634945760064,-0.5131293256576838,0.07060406744784858,-0.21965965234576748,-0.15636693456953987,-0.0077793532122033965,-0.04447728885789858,0.46045618274485695,0.01099820430752665,0.15773113955913096,-0.92352356520699,-0.27919378683378393,0.3294553616897084,-0.8270668810441798,-0.0032482364952178214,-0.011712234771776991,0.8044353059144023,0.02259604127411795,0.0650375046714212,-0.09646935200628615,0.13449778632715537,0.6316130807890453,-0.2692165648574142,0.58450759596376,-0.11986792185872967,-0.6935384745161726,0.4773425630009311,-0.1639659944462482,-0.8080553421899285,0.1428725896161923,-0.16146845275356853,0.6403826656944859,0.7158863131923285,0.9054447956643973,1.2684681690913455,0.03837421715732755,-0.041998549848437323,0.5680920611872645,-0.6928923966431781,-0.14115576230184176,-0.6124258842632065,0.9494505329352294,-0.5381649882270338,0.48444073538955945,0.2488297710071931,0.15739197335415128,0.3372441429605265,-0.011126604314634695,0.7327717637634711,0.00401508189970795,-0.01898710121696612,-0.14500876057208348,-0.24188807586566022,-0.11582260342028629,-0.29028917566974755,-0.14054481215812353,0.05588833987181762,-0.1665690402687769,0.2194887389573953,-0.5780554855077714,0.11324480256791318,-0.02619520862307329,-1.0550350732783018,-0.31628630264857066,-0.2381972030158578,0.6835301509075986,0.1954431787001387,-0.4777387202360401,0.019195365340599464,0.7325295627728065,-0.2391405120255034,-0.04265426381633282,-0.33120557288355723,0.6402548639960159,0.0794322274784486,-0.22821544327285256,0.34078636869523105,0.023353651670861026,-0.5346474988667794,0.5637591485180915,-0.2672819786266647,1.9146971110158535,-0.7627743701709718,-0.1862104011901053,-0.3486113126194737,0.11617983504215677,0.5953507348820687,-0.12878399120951142,-0.2052925197104802,0.14048237125603336,0.1354145118050724,-0.07111804619014275,-0.0781613477062604,0.4091053698291295,-0.8366617610104017,0.09737263671409965,1.485498515034903,-0.3016333797691741,0.34685265643453483,-0.6300764309826877,-0.5368898201948283,-0.711759622327539,-0.024610435735972002,-0.027587350575916346,0.023713991387349333,0.24971001162858544,-0.09541582931797107,-0.12057762083302595,-0.3221156846214562,0.4216947854645833,-0.029353572133149347,-0.3902428767412066,-0.019734276954571986,0.6601686505666123,0.017564312388677086,-0.22569142540436865,0.06646512160359055,0.050190354582950236,0.06386689796799136,-0.8800060141907421,0.03924322549679851,0.3512321110013078,0.08199819165992392,1.617294263595837,0.014955569827600997,0.0516181875028794,-0.04354444564176628,0.30606343177449313,0.7369080845980985,-0.10936990577343898,-0.3564298988943977,-0.859449525822632,0.013328037404676904,-1.086511907974754,0.048486858377267184,0.011002421991948782,0.6259226327291433,-0.0609839697007367,-0.38619728116469243,-0.04582876236788482,-0.6751462866401626,0.9815896899099399,-0.02121436431409797,-0.41561661222450863,-0.26087821224587127,-0.11010495340616211,0.02009548424969991,-0.22866415628114006,0.31256676986276355,-0.6879285535916045,-0.3799432970510534,-0.9984116086703403,0.1666986465544431,-0.08305921509011605,-0.01439306524268982,0.47526119334540234,1.5704833971703427,-0.13361845699795283,-0.06477759201060788,-0.5628050509639142,-0.31389544890456506,0.10812201384873323,-0.033615974779742944,-0.43894368694088576,0.44902130424045095,-0.30172517424503936,0.18618658478776265,0.011980313399401102,0.012729547245091328,-0.12911993913352873,-0.05965322309141732,-0.3710419758280983,-0.18767171662906765,-0.7861528921127395,0.24534028766446572,0.004015081899707949,0.362867816687713,-0.08051689914808817,0.30146932032135176,0.04294201603971001,0.02957486698591622,-0.5158557152824232,-0.38805916224777354,0.4486897935017307,-0.4078826128693501,0.02597588706449236,0.011498310917487925,0.720386070161655,0.10927770642136606,-0.0677880162922821,-0.12406204449183597,0.010180086718367154,-0.24489606823889673,-0.011491277884040491,0.1697105201813248,0.13602679738854298,-0.7247077966854117,0.16478863007612068,0.030696426962206317,-0.2076421590995164,0.662272299916056,0.2077833937934992,0.06136556918869106,-0.14702405118282474,-0.28304265958667885,-0.30860448752992803,0.287614768563726,0.49962813663388866,1.9047692971984582,2.239777277554677,-0.4153466253251238,-0.1194621925353049,-0.12135948519947654,2.1055032672677165,0.03820680738039857,0.08172355216955632,0.1362313794110723,0.0004820601514817943,0.029815913480850033,0.20663019940256913,0.042088728361915885,0.3574577915876867,0.0166570110910873,-0.29962244811907773,-0.7316426542920568,-0.2942527746778436,-0.6588855778171863,0.25914426047357697,1.3947130090589106,-0.21102213385486152,-0.07533075560033911,0.2855993937557575,0.4869663248231413,-0.23457620646964086,-0.03072244327231813,0.5001467970218145,0.06959500066332161,0.2271367116340709,-0.6947597113206931,0.44260622115159176,0.38329619491331823,-0.24489606823889673,-0.07269831616637443,-1.5605392983856683,-0.0597402527686812,-0.07490257059064769,0.16372203325257345,0.3653690159211283,-0.4771315732956355,-0.010430714555029214,-0.23189785502766963,-0.14184118867970072,-0.4230726547625289,-0.016305978244251427,-0.7219767323135038,-0.15510445964171463,-0.05456343434145686,0.18699048620855982,-7.916996676065258,0.5011617633424954,-0.7149437462087308,-0.16091149014531816,-0.6168667108035932,1.3750096460066579,0.01612440767446827,-0.26920823349387923,-0.3951499039788967,0.6294605145788988,-0.7043595544416096,0.785384579035132,-0.5566327124184843,0.06923859832309315,-0.38909435885016047,0.10959020275081678,0.7705915740840374,0.0019247904649983814,-0.04795735609764589,0.03828801947304385,-0.01860399185470181,0.36784585009054593,0.06584505731236795,-0.12177192382562005,0.15802084168751254,-0.018053137336135467,0.16503977707084833,-0.33525254535295707,0.13887747863305344,0.29528152515168676,-0.41812302606799945,-0.13402365350579634,-0.07864366361748877,-0.2180852175532277,0.03351406241563848,0.7002410762672835,0.2179029864697681,-0.14218468585399482,0.09487234756863706,-0.8310237712200307,-0.18561999722020164,-0.318127970135301,-0.013462659457415775,-0.3285623041939213,-0.054286861703724563,0.8727497942824151,0.06672656731210205,-0.3143517880808691,-0.07107038666354881,-0.12034138163555574,-0.1130539285497308,-0.03017717093253786,-0.01528955710712605,-0.7796009808604939,0.2733537381780471,0.8364120029988198,0.3159242717292662,-0.38036236822795433,-0.13924196675611375,0.04542366046810373,-0.45304365903337435,-0.1903439636973111,-0.035863536722306896,-0.2919392262423326,-0.12854577426492217,0.04456823966643669,0.4627155930094399,0.0714732795818652,0.6731255259233688,-0.05269882528951403,-0.33524599691270995,-0.31226410985017194,0.02551490185391026,1.8122333241858335,-0.4851641647699133,-0.50986967459462,0.6611591373434381,-0.8042710844410544,-0.07626484058898601,0.18644978738914464,-3.632720400820672,0.1081306526368843,0.7195563053468338,-0.657352983410306,0.3301778064665938,-0.08334118000708278,-0.21030284725500573,2.2612651641569657,0.02290791538423183,-0.7899457989444485,0.05347196661259146,-0.14342433950496583,0.7603465628492282,-0.0791054701350282,-0.005370213471984842,-0.016961417122746295,-0.08193495635768899,-0.16829047850095286,0.43710580157505696,0.5869406575282818,0.18100208231360052,-0.22783342251016112,-0.1963135302897425,-0.7671568333495444,0.09505375646325596,-0.07326027577338433,-0.15217826117334868,0.07080045083505505,0.44665358045557046,0.5952286243690736,0.5505824969414405,0.1886147625118501,-0.2587320921746429,-0.26774619179734743,0.07045962585786819,-0.0951433908123547,-0.10622155643964838,0.0058373620274307855,-0.05118762163138003,-0.053504590025798965,0.014806124075023401,-1.8934160539959086,-0.0016545588792528287,-0.008906703927591868,0.05164753016417558,-2.153670092766459,0.08406039852709245,-0.24708941817679025,0.05777283009978905,-0.02703002660496975,-0.0501538078931018,0.5573710411711146,-0.14844625819031426,-0.27174696164707607,0.1448883565140996,-0.03439050544312643,-0.026684802407446112,-0.2508849158415006,-0.6125617787865071,-0.18150895859313973,1.6269131139774027,0.12500294092044847,0.526630992127065,-0.042192721173809705,-0.09179673663816086,-0.010950927334460068,0.6062834025063509,-0.2784672900428527,0.005074463384762042,0.5181853800816231,0.07517198433815207,0.025917706043884315,-0.61974016676714,-0.004069399546797205,-0.01687254978260944,0.7487749816084388,-0.5349627359579556,0.20490276467765228,-0.23792549180581835,0.7309103887829118,-0.5606948577488151,-0.05193111603138896,-0.0753650778812003,-0.7546706464101084,-0.04439532060720853,-0.28917551551248133,-0.058205629451921426,-0.04414357980168232,0.7814087861439274,0.4929755305314237,0.42522720751829746,-0.05138666657818484,0.5369159389058821,-0.5362560594304496,0.19505870040555298,0.3069489226256459,-0.3846268614320754,-0.38891834365982086,-0.2127394202151364,0.1257785501071903,0.13884164154883177,-0.021625214737854243,-0.230725078322231,-0.32994448459647624,-0.05475426960366775,-0.36970196004690986,-0.24483271324973965,-0.4168618435744874,0.10608148448646981,-0.6617663576187071,0.08573944054521776,-0.5376502524658456,-0.38637599389190574,-0.1427437507690996,0.15643176871279255,-0.041434647530895596,-0.26957418694678825,-0.010760934498580428,-0.38155662269031815,0.5724956341975757,-0.13090725443213772,0.06217142751648116,-0.7226762884378523,-0.29398742490637925,-0.15645009925979528,-0.028334121037935523,-0.11518660261802498,0.7522404238735164,-0.24470670828685054,-0.06080469252048284,-0.01889285425872139,-0.14009671978816082,-0.3728482084135647,-0.07885972879809192,0.05472902051914931,0.22494113724628692,-0.0976825266130124,-0.05764577316973427,-0.013426920800816568,-0.3481837080469819,0.18640812789758454,0.5954538508487075,-0.045667611591015365,-0.058163464554460094,-0.05781683496816291,-0.2894519224086141,-0.19445463911146738,0.4402159888822348,-0.03950359409620122,0.7657936822322315,-0.020923337050641623,-0.018347015850906916,0.06489116956565727,-0.0876717831131922,-0.2439183143827604,-0.02701548381083262,-0.22580934853906226,-0.4420310321993909,-0.25901375257573295,-0.029194134399053155,-0.05914596565373627,-0.5952964705528134,-0.01429631296017173,0.28758325116618644,-1.6026765828672465,-0.28403155687578163,-0.5944836457252896,-0.05633284346070304,-0.015579874426554088,-0.25386503164084584,0.3778015571070098,0.2746692325211787,-0.8289746110225837,0.15933292805553914,2.208574013521468,-0.4485407710892843,-0.40665032319243927,0.045599615718178575,-0.2371132263164406,-0.007971847838178935,-0.1543510319962566,-0.20332528617255416,0.019612335249653678,0.14066250281563705,-0.15245720187194028,0.1362479397743423,0.09832612707763445,0.2079359857238636,0.38637674739782674,-0.3381835280657521,0.01880683431335711,-0.11039937395495747,0.6106758841862981,0.04259685477765718,0.023468756858184447,0.03114552682213572,0.0028894144673535485,-0.7821308309030501,0.14390571591882054,0.33612980095697614,-0.0714424681313102,-0.30482816850589983,0.036356834780864655,-0.07795459747436245,-1.6387998583727792,0.08892357906069016,0.16701434895772915,-0.14706422136555836,1.8908804247555855,-0.27699405169650493,-0.7263684332863094,-0.2881614797449653,0.14166309442217076,0.07169091054901663,-0.10036267706496996,-0.5164594618206182,0.3977110007382626,-0.045087198585480125,-0.2558375298277444,-0.5092432358194665,0.1578006422222275,-0.34598545077738124,0.2531038611284182,0.8485036892158099,0.23520092716840826,-0.5241064199208466,0.03347270619315648,0.09533589084892186,0.13735559104893755,-0.390259933456938,0.1525376699167346,-0.5318223608667477,0.07151567092026641,0.021853278649824913,-0.16597154805714853,0.009925778403129143,-0.27219857640076656,-0.15510445964171463,0.122707591428407,0.2648401468176666,-0.11716480646771961,2.107008485975789,-0.13665694885238408,-0.2648963143245831,0.09338217393095227,-0.3186659646892805,-0.0391078158101681,-0.20325733286304273,0.45114135754574536,0.09629595025045225,0.35145152197994756,0.10284195530894583,0.0883639983229182,0.21669462104998208,0.035627835067518425,0.19460410863425218,0.06266292691087517,-0.2336264286460687,0.1499813245436843,-0.11049716526214759,0.042744159034942816,-0.11286164885713147,-0.04897820388468337,-0.24918662710984824,0.06028823252714948,-0.07477960145609916,0.13435275038868918,-0.11455188010929832,0.7291219577410212,-0.679919117392532,0.14105716658053402,0.06351110019454155,-0.31672484719477695,0.4942816100492447,0.22125944443161025,0.033462141854722544,-1.1277842748829476,0.593833709766283,-1.0473722541741766,-0.14844625819031426,0.3126082902844777,-0.21984506260127987,0.024383523917211058,0.033884910399136936,-0.13645420739184694,0.023825779020469937,-0.03950359409620122,0.10127212906788227,0.017733171624812,0.6782538098397657,-0.40794662733884374,2.913107914846802,-0.10854623484855055,-0.02043077528146524,-0.17496186716262027,0.24657730855881824,0.01719472954497745,0.0714732795818652,-0.013093608955940127,1.716480207289569,0.4896829935724055,0.2820988193845453,-0.03931853148829289,0.22477679640727485,2.153301450684948,-0.014340839101419424,0.025620710003524436,-0.25682904779668575,2.1523716290030634,0.887961589737236,-0.35001528727089504,0.1784226322286197,-0.20362610659805466,0.08132638418856471,0.10654098332861607,-0.03341370251611795,0.20078765543651664,-0.13497807338208254,-0.18712921670363922,0.09946835630209246,0.0012322900825468665,0.22953149416587973,-0.24731879880609417,0.05268356903916472,-0.7458673230351993,0.08340402793707187,-0.012113674539500845,-0.0333153212023286,-0.1086659036015272,0.06297074297558924,-0.3563672764986062,0.08864444879208333,0.4932139267255562,-0.07921337495161804,0.12179797640721206,-0.5100732995340013,0.04136627143578649,0.3505889569208815,-0.08608609568979035,0.01783331551878672,0.07661930500860985,-0.014997048111449807,-0.3024514154928761,0.08216216137818926,0.14372930671839917,-0.014858271147701952,-0.2897314748338104,-0.32662022996545154,0.06931404000650501,-0.05383331818560917,-0.1349000945050945,0.18982184704730481,-0.036950153449535394,-0.04864937822127617,-0.22379872319714,-0.05840551737061153,-0.03494352088316401,0.0635869811194504,-0.04397588430366645,0.2500263341499975,0.012033574553468138,0.17458864962548223,-0.2556488313898596,-0.1550474752980951,-0.02286311955161882,0.4277666586353116,0.09954762796753565,-0.6681556941789379,-0.009847335893285205,0.34843025269986905,-0.11771020198491913,0.1615915866826126,-0.13249244080736985,-0.6019447798895021,0.09600110489052531,0.13262998365938647,-0.03916470591697895,-0.1608796405461428,0.26553462697069724,-0.23360017918516915,0.10028526433066641,-0.04692004187971564,0.807730344840048,-0.14063291873968392,0.024127599138719726,-0.0996058412353344,0.4990836814713786,0.17909963152477684,-0.5450086215390662,0.2462013689298818,-0.029976301345675773,-0.1216245398359858,0.04973515387390501,0.3191984703473796,-0.3255278820995678,0.47750771333284064,-0.12752485473382072,-0.5397867473182761,0.39163714320016346,-1.0124165920888646,-1.7380885796822334,-0.06258394630769043,-0.3089564594623145,-0.05708410373650083,-0.05658855970585017,0.05250843568182399,0.1035860256937212,-0.06484143918120579,-0.32998399548005414,-0.00736713541804419,-0.9307106043866931,-0.6293398847560319,-0.06999813678299328,-0.38159518353315447,-0.008324930815575225,1.6644214820365935,-0.892138314720337,-0.4718540526686112,0.019839941594398697,0.07424914938933251,0.059452262299172796,0.1320606876718666,0.7654154325552738,0.1292004215140142,-0.3214787541288956,-0.3766486156987602,-0.039497732306870655,0.11623427060952461,-0.01272619341245404,1.029442232014499,-0.04583397709142331,-0.2462738421495283,0.21940920861415383,-0.3271050304485176,0.7267592401890979,0.0028143251813599183,-0.28682749624353987,0.36044599160661217,-0.09663396069994121,1.8705138701110164,0.46047597490888076,-0.04482785934894133,0.11127874776871254,-0.08746390250435129,-0.20358422817123728,0.22036207974619415,0.37793984563938465,-0.19251620428416902,0.8683960071483435,0.01754551229696042,0.052683151228748726,0.2109730344718526,-0.5459509182585218,2.1207228667632463,-0.29973436610227566,1.5682500976258174,-0.07923608169528024,-0.08175978792743716,0.35968024234375157,-0.14768065768340133,0.058654376559310106,0.01645708806762868,-0.08553563825067295,0.06488219522121985,0.12439606148299061,-0.17263842871354024,0.6505661982428773,0.10386229184759233,-0.336415659952716,0.08102655219319539,-0.32839642763159227,0.3841068545134039,0.20188291713639314,-0.8397168441085793,0.016126404954838726,-0.12971111399105406,0.3121842703762936,-0.638565795710167,0.2893829062927725,-0.22710174640719638,-0.010518118416395729,-0.05369755980362437,-0.24763563368075925,0.004297582453090712,-0.0956863743529943,0.07872870878980813,-0.30574637519801473,-0.8485173309779581,-0.017268374653273837,-0.013897537385070241,1.9583467896763296,0.30065533622965834,0.5187150989244237,0.06923859832309315,0.2644987136120775,-0.708335211399553,-0.4401940563105847,-0.2728475699750296,-0.32662022996545154,-0.0019142936023592997,-0.05996679633439211,0.8408808742243543,0.007370353999682069,-0.3531621797656556,0.3278773540120734,0.18455316996110596,0.17695774209385903,-0.009679659440891886,0.07312257126693326,0.037735843858940396,0.2624413498628992,-0.0555389180287109,0.06901339179640645,-0.10080823735745346,-0.2485655731503979,0.10585679787983913,0.009794597333002088,0.08976675616390035,0.14134884968817804,0.1119794287494408,0.0018251438615474102,-0.005039610378391513,-0.14116844906388698,0.11195343867997554,-1.006806512306097,1.7794326872539474,-0.3995863084795215,-0.24348263262125072,0.018745536396522718,0.12984849765819567,-0.50986967459462,-0.20781377569724147,-0.3442271154764444,-0.8431438757905633,0.152429062125542,-0.17146995093351616,-0.17137378932153888,-0.49666792667590653,-0.09423599467413844,-0.08010566677243852,0.3196996847248505,-0.08442333184824347,-0.12562770006645893,0.274664698035855,0.5579677666329358,-0.44954720734539205,-0.17888742457810286,-0.17929811893849973,-0.5467589903873303,-0.22630934671461508,0.37225435954093306,-0.01898710121696612,-0.09097215802241672,-0.04031646439182977,-1.002983681804182,0.11889886909873176,-0.18165643451457422,-0.05903663587430268,-0.0575853523486516,-0.5535625597940936,-0.8233568665626304,0.10417897109365677,0.12418646730965122,-0.36759765913699866,0.0017077848035337386,0.22913926058493655,0.16240433474576177,0.2201690798182719,0.10280996501465713,-0.04920418653503011,-0.08719461575566054,-0.08038878794131735,0.33342503174122945,0.2144283426256116,0.11617751164942154,-0.0846768293328952,-0.6471305539259363,0.07200927241659011,0.09624158035805883,-0.054488171031300804,0.09850527848708493,0.06280874634875638,-0.2381972030158578,0.11395379266496791,-0.7210410967096373,0.0346124808982232,0.5062255660447091,0.13651028894338535,-0.647562121628168,-0.046561005573528935,-0.04186665608181506,0.16370980908518418,-0.01301416256764964,-0.2057142289106755,0.06471281471924113,0.3645987800710239,-0.2570530685332539,0.04983835640386939,-0.19362899132863395,0.09521665638046528,-0.047997921013013034,-0.2559356074800552,0.02493761242437252,-0.013604872847128201,-0.17418677370404356,0.4082913215725274,-0.11321991478899092,-0.3846328779019567,0.028137840248540175,-0.398363805374682,-0.02043077528146524,0.05720238275946893,-0.08034702868929468,0.06607399373734238,-0.3995522141742361,-0.1783483850638196,0.10127544211009795,-0.2282613525279927,0.42006884714940607,0.025063089482973245,-0.23189785502766963,-0.045606819706831954,-0.12211552016875918,-0.5534139697029996,-0.11127283711823763,-0.13177245456425307,0.05034454008813794,-0.06744629370556778,0.03774997689349905,0.0007195885632109649,0.009570016052222274,0.032142083548130994,0.0068884107638590274,-1.156987964706625,0.09612473494081444,-0.030428903247006228,-0.2175780643538411,0.07169091054901663,-0.3586352159540358,-0.5592777862398395,-0.3515823476976207,-0.041899066177329115,0.10888386022983737,-0.6736907446348008,0.08324527150133337,-0.1485566852271024,0.763187972368584,0.22530647287404673,-0.02849370383282736,0.04854107891576283,-0.19994736219182813,0.411552106226809,0.2386600970462656,0.10067464618544032,-0.30231864128954916,0.22618953612696663,0.01685246277806771,-0.05596674455135307,-0.41792075422549513,-0.11515590770224655,0.4460769098543262,-0.21344872136761667,-0.17360389391607586,0.25658028550283407,0.08828208737101939,-0.2152759947675013,0.2755088677095405,0.12274223279794905,0.14371050528714824,-0.04644508660252632,0.9100760663580756,0.31767524909422656,-0.12473088936227814,-0.2071768935912197,-0.0007762242666731408,0.8100544615252508,-0.36298308471634777,-0.11063244881697505,0.12993199039167025,-0.010827822446986974,-0.15025470659268533,0.3684123445655471,0.18516444543572613,-0.028202413640493567,-0.040616958099171215,-0.32958462677602873,-0.1511822017782302,-0.4238938433268909,0.2510442510403727,-0.21682967983239412,0.16518328477464003,-0.18409387745042688,-0.12881239890494955,0.38829067591039945,-0.06819593200147835,-0.02423398937061757,-0.12001258549657767,0.074317337747035,-0.46053253761860596,-0.002217478200450602,-0.19095742938195537,-0.18111610782149806,-0.26394506281242713,0.21979029719794096,0.04637666225507023,0.12736879154467518,-0.6226784855580823,0.0705460572319492,-0.033170249456451924,-0.09501846891487584,-0.2486523759605163,-1.0501775138560552,-0.28851825088774335,-0.2071768935912197,-0.3950504967916584,-0.4144635709301542,0.058646714869011164,-0.11539540765915197,-0.6008750752618365,0.011100299907587909,0.12095908484061825,-0.07398216323445292,-0.2823968530590441,-0.20015962404594884,0.08724908496606734,-0.523833874108037,-0.2790896602403918,0.16210660557075318,0.1513740543846064,0.047253147793918385,-0.0471095829377399,0.04422966525809441,-0.5308747922301369,0.06377469372646546,-0.1437385255630922,0.03217618951975016,-0.11475285300507762,-0.6820817369126742,0.11421267386936569,-0.029698172706301647,0.021053748176842475,0.4828034715679146,0.21234814787354303,-0.9653659588137631,-0.18550653143929416,1.5087775288628102,0.06155222332579173,-0.05783746565504177,-0.003908370960307198,-0.055446232786550045,-0.4790849133950208,-0.5329849475973498,-0.03251372909017874,0.6530796817650845,0.29806312780247457,-0.05811794802172367,-0.5693784176431136,0.38614754423687336,-0.30855719983121366,0.019053223215974892,0.09486764775815215,-0.05136505282078387,0.05577894186073121,0.06622446196988051,0.2803940347662516,1.8710781449777723,-0.07965893693169263,-0.0025294156190981106,-0.8091285848518163,-0.0857042054496883,-0.21272091640598217,0.14295455238211394,-0.002089899094482937,0.1067415743369775,0.006536631442365401,0.0008221642454715589,0.03406266148851803,-0.020344672277436252,0.03461928854953945,0.03043218085173613,-0.22134625486071613,-0.003959176448007209,0.12310366015051057,-0.02496582068757486,0.27137388058004364,0.08179467014308267,0.1509544093568654,-0.06021422197880302,0.044508887427888846,-0.29152966581750833,0.1726367294370622,0.08194462389675786,0.057360724720620655,-0.08509800170003973,0.014649234615977773,-0.35504604831012065,0.07746879822364136,-0.3450191768732372,0.1177773220026958,-0.0013949589947708384,-0.2429156338277497,0.035989487504466296,0.09703100163346493,-0.14621293228294496,-0.18068527298993556,0.20825823361555212,-0.03810371121616086,-0.1003062581036015,-0.06705501707001708,-0.17976880803116568,-0.01429631296017173,-0.036568394879390315,-0.002829859916773259,-1.1119321898041472,0.1346822098647153,-0.22787487987433408,-0.045087198585480125,-0.13880650997676014,-0.004603354949884981,-0.2641260681233941,0.05678217058667468,-0.1252027303321396,-0.21965965234576748,0.4797409415251118,-0.17380381420766303,0.7875896328751061,-0.3791394918124136,0.33910651192909264,-0.5210095959054842,0.1427509099477206,-0.06350907987012105,0.123736689255422,-0.08653692740947329,-0.1360995127064802,-0.00028448874473474615,-0.6917314223037886,0.10872926823112145,-0.055673542163178165,0.0023138402958648593,0.41207146993309474,-0.3404860916857256,-0.014459924575009197,0.037810433915435745,-0.014799056431107198,0.014349186916498065,-0.6724614475731876,-0.036536895215835564,0.019480620737495954,0.045464752718645814,0.03992881280469303,0.022746222268966793,0.018550104528107656,0.06027055827571134,3.332758631139687,-0.2955252355264337,-0.43103457999524897,-0.06394901233582215,-0.4182029902918826,-0.2836513640837236,0.0242046458214477,-0.13208185397539857,-0.05973673569958641,-0.06844226968745908,0.07189516360808369,-0.7347206915916548,-0.05894657643344481,0.10916004558472749,-0.04193845363484577,-0.4031372941090799,-0.1622044596669233,-0.509440559878207,-1.182993671420305,-0.05572228714478239,-0.22617039745189935,-0.47878295752038275,-0.25904794666841297,-0.004307302876863051,0.1343993629774313,-0.19138451389968802,-0.08659455143701199,-0.03115097538544391,-0.050347782146688565,-0.2722751177188353,0.022268760697202013,-1.5503790770679697,0.016536503461138725,0.011306190563537646,0.00014583761834539814,0.01773841522306817,-0.34227838878142536,-0.5368449538068094,-0.468079985383457,-0.053395959830793184,0.0701524080769633,0.04704629519011765,0.034904712249379695,-0.08392575018791767,0.03451459872649027,-0.057657288120373906,-0.2982431894974437,-0.11357748483693395,0.019065275020440264,-0.34174423957046596,0.05611153192146233,0.5264096203838131,-0.035791136715913434,0.04618957373913887,0.017798629830248585,0.44205393971313367,0.012268399844144743,0.054784885533873375,-0.6418454248269294,0.060314674003111114,0.014857884872892217,-0.6851600627264215,-0.2777510572931612,0.08757197782269584,-0.18016963888155796,0.11545351725197053,0.016743512046663977,-0.07429748652469174,0.4429883906530299,0.0027961053619560143,0.0035635910758000525,-0.05752695466473837,-0.0032482364952178214,0.06040666831454041,-0.20339838147148215,0.03281867336240331,-0.03554759121485259,0.033722377885242225,-0.0432027883445145,0.019084469955890727,0.04818931364239642,-0.2893914992392794,-0.09651288044795032,0.10853614939863039,-0.0013672516026973305,0.08221552637169334,-0.06228837583009298,-0.015892095845227633,0.029345572232625038,-0.6197941031168227,0.06437031407073403,-0.014616524381616432,-0.029202232399149666,-0.6326633012545418,-0.05367888087123925,-0.8973380056595325,-0.04826438350770362,0.09934061602571603,-0.715098357250824,-1.2357223252804646,0.22239823246706827,-0.08146840534352767,0.05536354016079229,0.052386302641638016,-0.22543310437329614,0.0017452267531325527,0.025779780424342567,-0.10390929831494285,-0.5474506744189688,0.08004649500623973,-0.0474957250843392,-0.26174185969082436,-0.04859904380932126,-0.06817102746681512,0.2083998410460595,0.23753502878001526,-0.0016147214227410058,0.11346440816072874,-0.29231910200912997,-0.12887162113875417,0.06763000579584486,0.03438942519460502,0.002814325181359919,-0.0031974965982158707,-0.0175306147283202,0.14510930903066963,-0.6703427078893371,-0.030410637285616497,-0.24855811786383156,-0.5782687493827892,0.06923859832309315,-0.4350346262784082,0.022099304922196483,-0.30345726013375596,-0.4775988702624046,-0.03502782204511165,-1.2312962946078319,0.0589238471159674,-0.008919225245548185,0.3590277009663363,0.3431159556276804,-0.018904118188894176,-0.07409945324399944,-0.005904218214281115,-0.3311245797079888,0.17441949978329704,-0.05991801962150986,0.08832399109511911,0.0010521909772875757,0.06893335305570994,-0.04354444564176628,-0.6143692901557426,-0.6287803045286018,-0.06790415734329903,-0.20261937315907663,-0.4760618198313005,0.09757560344522753,-0.3799805488047059,-0.03211501792024297,-33.89410906996473,-0.28917551551248133,0.14552859023632747,-0.2682242417774813,-0.2565135899110261,-0.055268870116988424,0.14966242557732828,-0.4968915681324458,-0.03211501792024297,-0.33171126548601765,-0.04193845363484577,-0.013703833603602122,0.5874355458999913,-0.2483317891049327,-0.23040152566539485,-0.9739498272408411,-0.05411929111457273,-0.024352869891870427,0.10382327054691087,-0.028894782541393434,-0.9217038726786448,0.023256185608403365,0.11378838829625636,-0.05724163213639176,-0.014817586182543356,0.039375496291630424,-0.1014019419491403,0.06411940131755195,-0.07279886246260246,-0.0042683369132702625,-0.11506057395379339,-0.6280109519184666,-0.4328745494185578,-0.9156889072208019,-0.017526173282233274,-0.10155676459753782,-0.04274917313551329,-0.14844625819031426,0.028879702731186924,0.09757155230012018,-0.06755546616316203,0.07240806288894132,-0.3982609578640248,-0.48858633442642335,-0.02683534542357234,0.0884462134651262,0.02536203336102364,-0.6155281529111146,0.062333794997293024,-0.10239301521179943,-0.046497280987969264,-0.06877388921570905,-1.5553959506608697,-0.09763353340330215,-0.15690925347254148,0.01693526364862615,-0.2987028769828089,-0.04615583095063875,0.048779930523593064,0.030569497672218136,-0.012384758092599878,-0.5061737132825653,0.060486286430722326,-0.35779362535507764,-0.1301612339760719,-0.037539385339002806,-0.01685769254386428,-0.06927114482293911,-0.15058866701545434,0.08193257699302155,-0.01977598160744786,-0.03794102353236726,0.02926593076986233,0.24702793839476864,-0.7552443199296687,-0.6074590430178406,-0.25366665458718607,-0.08551973644816606,-0.05269882528951403,0.06322003137583468,0.001924232015857336,-0.41561661222450863,-0.9845567684282611,0.10557990560377986,-0.062249105986166516,-0.11925584793061451,-0.08888227874417506,-0.09483536067753717,-0.2558375298277444,-0.21682967983239412,-0.23544627498489137,-0.13743448289825255,0.08348569465657667,-0.29053173647491537,-1.8545770964612627,-0.03950359409620122,-0.09110572603859579,0.011389721331271061,0.18388344681952068,-0.05910559176374403,-0.16668664437312128,0.08841507465894002,-0.030279082536194976,-0.29188804446071875,-0.4526373027901282,0.25557137969153004,-0.04980797160449801,-0.16070350799717958,-0.017476572644259634,-0.1010023579044235,-0.04458923807149974,-0.6799293383090166,0.07186855738782646,-0.036856065674169894,-0.22488122422609055,0.38897298627908483,0.013765760950918316,-0.4016748524622648,-0.08931343150287649,0.0014608670878793054,0.00900680356023809,-0.4428989854081652,0.050233780618709784,-0.4167288911230898,0.10227059683936011,-0.5535233815859707,-0.08750447609566867,-0.36538451373597897,0.6832847227955927,-0.04656390518622708,0.0625123310728417,-0.1676137368749958,-0.0007762242666731408,-0.07996106933926049,0.002307064234267821,0.014857884872892217,-1.0097589951273938,-0.3980427566612507,-0.20794957423963853,0.01461082822194393,-0.185422204810069,-0.4060735661700096,-0.05708410373650083,-0.048606787642589175,-0.6088316178117935,-0.06851668481546264,0.22777881225196242,0.025833490670275364,-0.07124185235687197,0.11434432717587184,-0.1762206349840849,0.009957698370943851,-0.15048875510625248,-0.022723108502353734,-0.36515707719928386,-0.07072022892262196,0.09936327525217162,-0.027225074345922588,0.06521725115522219,0.1059352502669707,-0.14613927984062494,-0.005528323160478251,0.04101914435730689,-0.010946443129213074,-0.03516749664764093,-0.03864991092218021,-0.7828225809864623,-0.32665034726244996,-0.4511917866650309,0.10841173053548642,-0.06703754037329508,0.10956471559526099,0.0749249943230285,-0.7963482195181287,0.015114668163738723,0.0474796471621471,-0.10877056544130899,0.015692329069846682,0.10070354114324627,0.12004666772011119,-0.6266303237393209,-0.11543503935648322,-0.567646946745989,-0.04079781443040968,0.058713138609367076,-0.18212228265590305,-0.02144374037485143,-0.03343832082436831,0.0908028944906423,-1.166432289161691,-0.13108801621863447,-0.33681454453437903,0.03677445857706339,-0.14989191904353488,-0.5557019842310368,-0.2846696088437808,-0.14632334310553236,0.005319073639318267,-0.10439851415693552,-0.6390335641766492,-0.3224666083114884,0.013814117406907373,-0.06934344387670122,0.06150297295788489,-0.09013811913608155,0.01547686162460926,-0.04499107323351677,-0.058377987034411535,0.06188618313513792,0.015508889355036849,-0.6353362051897717,-0.3847605229398996,0.014332235581504784,-0.4197342915988596,-0.011063405868055171,-0.30252818582261126,0.4585042109983537,0.15262026101579226,-0.010656241117810137,-0.3120110030165728,-0.11125125610941926,0.10804721326137913,-0.03494352088316401,-0.04960414943534775,0.036652751081217516,-0.08384066753234949,0.07995121582563607,-0.6058065874125229,-0.0075931001716946795,0.009811926765696293,0.05168828147349915,-0.030227729905213538,-0.06629555140318893,-0.010036814385436393,0.0723922117635931,0.0357215552695188,0.09066800722718606,0.03333715112658486,-0.08950737327714836,0.00606436573916653,-0.06653368167432566,-0.02914151696398408,-0.016429272119878238,-0.047745735612976105,-0.030227729905213538,0.03333715112658486,-0.08469644636984479,0.07292946261187461,-0.01259479787062178,-0.026578411113094093,-0.02311619721124536,-0.007060304343059288,-0.014004743101343507,-0.02269017454888565,-0.11093723275914992,-0.14259475297827287,-0.6418454248269294,-0.04859904380932126,0.02170865501066362,0.028479533905616104,0.10606184225674092,0.057002284560076326,-0.047745735612976105,-0.02079693508478848,-0.37265376330007044,-0.04165183064182431,-0.03084984171944442,0.011304198728386035,-0.06314040997244037,-1.3883539303775538,-0.09058438998928563,-0.5311143303432012,-0.037485170276609116,-0.3214787541288956,-0.2956510979996931,-0.49368138314755206,-0.09013811913608155,0.06935423862702633,-0.11478852365206563,-0.01174394096286389,-0.563026072974154,-0.03950359409620122,0.08798130520847844,0.007913074546316378,0.026003767716030874,-0.06265493608520745,-0.4238938433268909,0.05036635664974629,-0.21344872136761667,-0.3753595525080364,0.02009548424969992,0.010425720895566702,-0.020028722663301135,0.0049964150216640114,0.017408905504916042,-2.100409100291999,-0.01372472623230806,-0.1838533955605713,-0.021067609013867623,-0.03916076295330668,-0.01251316299935766],\"xaxis\":\"x\",\"y\":[-0.11014991340317344,0.4826016785695684,0.09989913759107442,0.09904510430778743,-1.1184125053552953,0.6106935179527109,1.2729735563736995,0.8272661657675888,0.4989312895878881,-0.07836994396137036,0.8224078781905007,0.30508257634621144,0.024676521750115626,-0.17409676049815964,-0.48746138287753565,0.07663856354426439,0.6040829426519936,-0.843132703541328,0.9188334448469285,-1.2228246245952321,0.6045988638075726,0.47628882633224606,0.8716678000227683,3.773401654288321,0.058145692054903816,1.1395314033701875,0.9404030390100416,-0.3803284524854292,-0.9268446951974506,1.1960557429599525,0.7700021611054028,0.7484667798519987,0.14988336962709492,1.2419376938261464,-0.01721110226207758,1.7976284126259474,0.8277249191000359,0.7110329395402826,0.6029559830345387,-0.0670981228431415,0.11648945270717648,0.8636836137864945,0.5397705913049045,0.9171744945051924,0.9383281382474962,0.6221800351349841,0.6646408802578466,0.8641548128330764,0.960324989219321,-1.0636166458578984,0.663636379058153,1.6812484057377595,0.505008571533516,1.2964932386661165,0.7243026322002006,0.6958538955859508,0.06166178522070206,0.8410331111947925,1.0877893903843776,-0.05125445463215036,1.2713753501326044,0.24121091814496295,-0.041032873405909866,-0.04837579913623043,0.8784804873065749,1.2762652090484088,0.46312169487835053,0.0882580965296615,0.9483895458844214,0.30414095146232983,0.11044875276183473,0.5802006624881088,0.9347982419958123,0.7297960708092613,0.2690536556476454,-1.036751697193815,0.3797591534591916,-0.08811817721849202,0.9413037244148222,0.5891729298200056,0.1551607076632176,0.49690914473242187,0.4008283706304226,-0.01552884621660134,0.017906160393035428,0.3196598064760544,1.385102078274461,1.1023127568412223,0.5570707367462693,0.5688165427751861,-0.02943507694760567,0.008500751258650869,0.844465218521992,0.5668890103596029,0.6115419643209652,-0.2707001343471703,0.27724197139411066,-0.0024574630915130207,0.171023482284844,-0.23509844200170013,0.4783970818629649,1.0684235477589612,0.11600892067895704,0.6744743145029171,0.026047708191945972,0.9345612893894901,-0.04352502788122822,0.07928359701136498,0.2660409476402589,-0.02486992078691439,0.027761333371642827,0.5871303320776259,0.7173594647453285,0.9407739695276827,1.285204156123068,1.2711169253665173,1.1450259609969464,1.087522101855449,-0.29052363357010985,-0.43592446451700323,0.1359200038181837,1.2096538092818565,0.536171056419892,0.5121490382206234,0.014439621234952143,1.1446228650427106,-0.14638904156475707,0.30657973954317025,-0.18774067211959297,0.5628149967234874,0.4625552213627677,-0.4254891233338745,-0.0057462888111382135,0.009695131493289946,0.6025535229002108,1.7306129976388125,0.1713212372986273,0.9528240631760737,0.47368677396404707,0.10686207483628418,2.343452276751145,0.5546540950882738,0.641304463605539,-0.02219551807365664,0.06299349389437439,0.9260278623809894,0.3056474294535948,1.5909850437870994,0.5705497662046889,0.47954579878768433,0.39494851427847977,0.7285264524329126,-0.012312966616328708,0.1947426998917933,-0.3851632283357224,0.08606440872605153,0.000564065318583989,0.0011132595069723596,-0.46594924231086354,0.3013183537551249,0.4052263989135916,1.0657724524819407,0.5600204078931224,0.9168918961781173,2.388041952756524,-0.00014006051792687195,-0.4133589723685704,-0.23313487747916034,-0.3063533791476186,0.6041634470683368,-0.0810360023003949,0.7739703644326376,0.1787011875586708,0.5789488311965276,-0.14156591958937223,0.00387616916936927,-0.05986569513783665,0.8014715496080107,0.999310565068822,0.6602348625947677,1.4364112275693863,0.303255310396256,1.1811850424119272,-0.2653897653284205,1.054069596543214,0.017739169756489228,-0.028248623438924883,0.8253302667977244,0.3444317861348989,0.4587548546264821,0.9436222793381397,-0.025271246216894264,0.3773287999658785,-0.35366840705937025,0.9467909262220047,0.6477110006897101,0.1286680467556016,0.13465729576102423,0.1527895497726603,0.8904705956644317,0.308353996451551,0.8146427549682067,0.5306283588765,0.9883790019904602,1.2410954261764493,0.012168683606975619,1.0313073865834117,2.061154002443957,0.6900476387887509,0.37461580453035614,0.6691765475302962,2.032539624337575,-0.3447516354034437,-0.44271856201609383,0.13485157675887965,0.7685311656489408,-0.09913514541491363,-0.07701998396572599,0.535286939324199,0.43593662668234523,0.20540920057857995,0.7978052666130566,0.021009705374129134,-0.018238195547908388,-0.3220720662894615,0.5884207172148338,0.7223129077865316,-0.27446647591038553,0.18863295106892103,0.14396014497789036,1.2009791363148261,0.6951198749787049,-0.08011588689670134,0.8579694903984381,0.6745477956362603,0.3022390050677974,0.7574711621120321,0.044531132873317905,1.7023128861757701,0.1799794063684603,2.1635264493352175,1.0580955780935486,0.6385902588503464,-0.05879266004156288,-0.04864517822890184,0.48881258055312227,0.020862298487503286,0.8064896575186777,-0.06984688411397164,0.3420356798582462,-0.2144093755757803,-0.006292516051740351,0.826853770785486,-1.2460026466584204,0.5470650875074398,-0.5131705838686257,-0.17616723155981906,0.47644378983152164,0.520765823571441,0.4739968289249068,-1.7965460011353356,-0.29258167610645525,0.5881465852028489,0.5812908112447741,0.672506146508097,0.49760781853530944,0.4247494820249383,0.7170236763598732,0.004910248272703106,1.315539720397776,-0.25820403814679715,0.029364661031435486,0.18123714386485074,-0.4757227522075921,0.0037732544090957106,-0.017635352251243054,-0.5473915262771891,2.1801897184987946,-0.055081437518614544,-0.28338781551603376,0.5662025319784022,-1.232374489711086,-0.04402158502782317,0.8362818352684057,-1.2780944454639236,0.15703459309342904,1.3314837492260154,-0.09224283241769075,-0.14618695591511247,0.1077537954645971,0.8319457520368279,0.1839508806461217,-0.14650913799251636,0.5508325022147725,0.1497116569282945,0.04085354177113414,0.1315838776912532,-0.45911446683102597,-0.6976414592120543,-0.478044964301577,-0.1381291506345596,1.8361084120646936,1.1309507795825207,0.549059922200192,0.21333639004400937,0.542887965312806,0.09503032239378084,1.0265339051005016,0.6901292035779264,0.584171067491358,2.211296210229911,1.0999033134043337,-1.0380089302641373,-0.1580153952292461,0.04905896827117194,0.362648938151126,-0.9071294467020391,0.20697504538717335,0.6004612398456765,-0.032961056643146566,0.9042157357059236,0.1739141985506879,0.864585502592486,0.5905929478185179,1.2862683941478794,0.28076052330710977,0.49048802475251113,0.9368341975161157,1.3811661999023808,-0.01941766336829169,-0.041331771971404765,1.133698681301872,0.1391078780434794,0.4361270361256859,-1.2207726588298249,0.06205440905467539,0.6576251627476319,1.3718479229165716,0.682194636129626,0.01426564458041891,-0.03898160095371605,0.4370382925276448,0.5253501019224326,0.6121981145772563,0.07303113799998025,0.5152664323198267,0.5202818065205561,0.9380875576226818,0.4541427147706557,0.04939724858814465,0.4765308992941242,1.0656525178962386,0.8962572197021671,-1.5563961369536237,0.11477394882434834,-0.006856205293684568,0.12160814030300136,0.2772526877476599,0.6293745223326922,1.2494453181682077,1.2800353087176346,1.6318922109224971,0.10200129522418742,-0.0021363638807923736,0.8709232082321362,1.0226417371704675,1.2539827758532447,0.7593100507829604,0.8134170484160365,1.2468389442167254,0.5053757915997007,0.8723368287780132,0.9117941859720712,-1.1673319745675519,-0.2845638512676177,-0.290161596580496,-1.0829050133846154,1.3088427254253878,0.3243678334987909,-0.055874698391647985,-0.06790107573268626,0.23660302840251035,-0.21542643781006152,0.27853786557836063,0.535791293989884,0.1368986821721578,-0.11678980534403728,-0.2434767226637765,0.7875718559791706,0.01504029995090631,0.727113637959145,1.9878698605801823,0.8919110678698544,0.5543634514895617,0.5213968073899673,-0.06908795490692672,0.025080613695865943,-0.14009508264720427,-0.04840427680397949,-0.16484789740225672,-0.02508882523292469,-0.7264225038253656,0.7662239322395842,-0.4565179813539655,0.042428279379170174,-0.03529643834884135,-0.5062685603120938,-0.05879266004156288,0.11577133285456799,-0.009330251368439428,-0.17395950235253335,0.7036514799128334,0.002370923670113788,0.3956073322476099,-0.3540502501192148,-0.8183510960951758,0.38525325974890506,0.02802296778414307,2.980208533338414,0.48778670357032433,0.07356102838427378,-0.04564327441457628,0.1576601096188623,-0.26071892731942115,0.4027961995628166,0.4548074429699419,-0.2647330093693957,-0.06109167034910214,-0.26230566129664445,-0.03107099795237896,-0.42617389282865226,-0.010438758425705989,0.3248548400219254,-0.3640207996187723,0.13198040530235508,0.2470303339245163,3.126262498647714,-0.09861482100595102,0.08050140207552495,1.0415863003234898,-0.27316959452550327,0.3776518385966822,-0.8521660539381246,0.0008784479438812555,-0.7073227527675353,-0.2937087688283112,-0.06235779045572597,-0.3245876305233736,-0.3534654615673647,1.1284161492841664,0.1614641205646379,0.929148620548532,-0.28091482320719224,-0.21489598170809976,-0.035985607825906915,0.07472715247065921,0.16093700531583618,-0.809909611124415,0.09909254015825636,-0.03675179689086715,-0.08041298702683898,0.7390484288274554,0.1299775722265219,0.02001754077203142,0.09565375332025744,0.10629370625729634,0.7235322502199553,0.21355274282485512,0.4740336983696113,0.2334107604178941,-0.8363534763997471,-0.898283774618111,-0.7118051545552294,0.3582844190660224,0.15900525881717703,0.4569567496612554,1.213247390927802,-4.230180724799851,-0.38037764931537627,0.01855241426115588,0.06551730305101715,2.213806044835137,0.4397551706178992,1.1483672021722908,0.5164306497152218,0.556107049788981,-0.013701993107515728,0.175344952109013,0.06448987583813982,1.1574095063711043,-0.6205154285186184,-0.2047998366510535,0.40322798480213934,0.6388030120579734,0.1722398363663498,0.6158900214095493,0.4985475655401931,-0.24665933973310752,-0.065716998151055,0.501648451589636,-0.6275753446707673,0.8099599674022655,-0.10471048225851524,0.8121563274095794,-0.5233858427920661,-0.27815341648381464,-0.06791116364623574,0.32268455524308765,-0.10940167608580345,0.007596301038069296,0.24130287706725573,0.14193997859211527,-0.027979287285835406,0.025911320429817183,0.039513714096523364,0.4561520878255759,-0.09955011719072189,-0.18868562643583167,0.229390706397076,0.44957837390038885,-0.2623174875706546,-0.14663267167518762,-0.01823203305359902,-0.9485626095363844,-0.01909086886223968,-0.11013148621153414,0.06715386807308252,0.06557947864440396,-0.8524465590396642,0.3850508234429285,0.08213376828893057,-0.21805634661334797,-0.3537708570548599,0.0396679130451269,0.042499117777349917,-0.6556705561902947,-0.0067979211935515526,-0.026964841920575845,0.3044371811188921,-1.3710425197188314,-0.06984688411397164,0.058030486463210545,0.015898513773279135,0.09778486939990627,-0.011106479989785594,0.5921259779289949,0.15503855500913719,-0.4712584824938291,0.31840574053297066,0.010517677814224653,0.19957135689872055,0.026774856913561317,-1.0030400532574704,-0.035836616243563144,0.8940478417515783,0.52292542585078,0.7149840514013857,0.5416737014300378,0.8026216594614967,1.2418217394500943,0.02820092554150827,0.7120383712889826,1.6327740816708793,2.1400161674005678,1.2937237027390809,0.33919774968701977,0.21863842995976918,0.059001399191647964,-0.12580871392964335,0.32433151091945167,-0.2239831406899127,0.27546684638126157,-0.04864517822890184,0.5665189837405725,-0.18804560376558652,0.39468373182046795,0.5722473090231903,-0.010320077521325492,-0.03333687273538387,0.0850619943574849,-0.22113806655543683,0.025627607372716354,0.019059449416775367,0.5286614676843846,-0.23862981724609456,0.3276764828491892,0.9950436147469506,-0.4635552623912305,0.27179033848006584,0.19989951740596923,-0.36535005762891964,0.013986374287738428,-0.26460105748914897,0.09364474288482294,1.0927482131999449,0.4606583325197962,-0.0024724558927160427,0.1560408595575092,0.5803333988415834,-0.040237769653014836,0.014925803361844361,0.5953016155803368,-0.17955504609383557,-0.042764359446197074,-0.10247848677575605,0.6682953939791755,0.20340010681327375,1.4717427777184215,0.07403167049866709,0.1745616467979936,0.16096870891924234,0.5316102755903054,-0.4159912497722025,1.0765678245624841,1.0868027910933191,-0.045265020525801204,-0.4072201492733057,-0.5989419222140019,-0.33111655591921696,-0.04506094895524654,0.08613061900136879,-1.2538453363906978,0.022963130767832362,0.036693738022295724,0.01535680112138936,0.12292401243141171,-0.032650507114775414,-2.0904365372647606,0.7132725588870609,0.2419182484559586,-0.4181360819117476,-0.6717846234125893,-0.03815598307742504,-0.04803918719969522,-0.12326550929902587,0.8176712595717095,0.6188914894021514,0.9873472954843222,0.9817559733450485,0.33696197132876315,0.5635396503846822,0.5014361218515961,1.0823685557311806,1.1289014844224998,0.9746456317204963,0.06068495364230016,0.20771693677474506,0.8322402076877139,0.20201841177586918,0.8046967929410958,-0.032213311048070244,0.6040045616514722,-0.2135078971083532,0.21541922255954818,0.17624777615175288,0.2520590735723182,-0.025164134354266933,1.21786590354008,-0.37768853170208383,-0.029215759339621387,-0.6107170735869833,0.040665611654954616,0.057722135953612724,0.16033534131598887,-0.09247885414087768,-0.033853807845180536,-0.1496143308464447,0.13222861658328308,-0.05040059199865262,-0.11695752447354679,0.05269307911956199,-0.008521643650973246,0.17583842166260663,0.6445950145255541,0.1480562121992728,-0.04764171737911803,0.26512832098336037,0.03973259697271847,-0.2540195233370693,-0.04506094895524654,2.196697625879239,-0.0018970686454145061,-0.023137660301943905,0.11687079612614588,-0.048713311534605945,-0.296524360361208,0.0008784479438812546,-0.39346307489348387,0.31844084865707306,-0.13429246616911542,-0.17645724112048605,0.013965134382241964,-0.9041871730957941,-0.05118853988916185,-0.4524781300822123,0.0005052295520065356,0.22989059537829623,-1.095355804712818,0.37525241428250167,0.11316633784295696,0.6925281727756726,-0.12275459178575542,0.11590644199753511,0.6789054931205439,0.8273908800704474,-0.05731237232421215,0.1951950960904503,0.3900881417167758,-0.18133136865757907,-0.5292117697594801,0.23858234947832752,1.480810713763791,0.7403392673607248,1.1581714182942435,-1.1077750998627947,0.18770676207068282,1.5385417853388492,0.2591690342061073,0.23481709580148066,0.4701202089301724,-0.05810233952067873,-0.47225883819820363,0.20026744088035708,0.14256906601146987,1.4246711986237697,0.35344370839644473,0.30268748345049357,-0.34500509242433586,-0.3776493714073224,0.6871713770553947,0.002170145406583996,-0.07714109608899361,-0.0005516901168532836,0.5661746441319672,-0.09334349016421523,-0.30932081078067786,-0.08101061776239316,0.656005993084549,0.0001680778962405164,-0.24242781363903637,0.11285485954765939,-0.03397194302273561,-0.10213123054343753,0.308035092835285,-0.04405752636562821,0.06400541086788764,0.16465149450610636,-0.21922387518433037,-0.319655569804443,0.004953247546803257,-1.1242382143486882,0.09916805571712632,-0.4105612683725635,-1.2548695905943974,0.7014452206504929,-0.06334931941851205,0.8858102874076222,-0.09930862995404928,0.3382549972712435,-0.36472141455495444,0.23328561124927488,0.7320364406969905,2.151013026765849,-0.9982548709971458,0.7859609788891982,1.0086558291742056,-0.12721219847244833,0.41625284547164354,0.03441200663277269,0.7652158451744946,0.07358341191774488,0.13996276778942673,0.5806287359675854,0.5398629683802447,-0.1473323133250395,0.13204355419666303,-0.29811115266075683,0.5965295101950431,0.7677674990823917,0.39679623847138146,0.4299568937945645,0.14863821270674546,0.31785078248357546,0.01935090483346624,0.820642370702277,0.04607493432705629,0.6626683527285869,0.86218346524117,-0.04426199846823406,0.2999654688670608,0.059408724784906615,-0.02631021170467433,0.11607780584628533,-0.007520228308904604,0.20466968010881073,0.7569846598321408,0.10254387224955636,-0.019244753610680804,0.4754355925652543,-0.44954875601247773,0.10602215407063395,0.834894513389065,0.45625230339142087,-0.026917434207958498,-0.32001120264895694,0.13734015127022237,-0.14750324736979145,-0.16549315982636767,0.25489772902551566,0.8580808290408054,-0.10515070237368158,-0.040488150299017305,0.1367344454546704,0.10807269377497487,-0.6617580479649262,0.4265069500876044,0.06526286358900062,0.8970929888886403,0.15238179362175588,-0.009462692352596993,-0.4344378981598388,1.005374728979648,-0.07969757213064285,0.03267815263815419,0.12533998146882636,-1.2482149185268074,0.9823141893227575,0.014991861412548472,0.6197056346744726,0.48405964861663014,0.42844985397869007,0.07999161487253163,-0.011353351399272033,-0.09713456812504184,0.750398145798612,0.5737074657536738,0.6682769049061349,0.4248520323512636,-0.15905788598717635,0.03172865757255961,0.190963920230697,-0.026329631574655885,0.32339625903847063,-0.06174897949053721,-0.28990632066946653,0.026003783782510472,0.043449562584987673,-0.18831186753486545,0.6069689867490536,-0.17499841638821464,-0.044145878351612794,-0.0802085400062942,0.05280878417573131,-0.21554231136435179,0.2687002040617039,-0.24692911484350313,0.002170145406583997,1.7500997517518133,0.9075589423871798,0.22656949091180162,0.031416249091475404,-0.019792098503219203,-0.36685321096343443,-0.08841759208975214,-0.5432189619278577,0.6682839000079831,0.6122643253486166,0.05473591281650265,1.0413015827860372,0.4187919552015817,-0.18960577751025506,0.4125952107403683,-0.0242898952219903,-0.4161498202200128,-0.08760447677668476,-0.18718063409743896,-0.17223990520306706,-0.09207506196110393,0.37021981942988597,0.24981775676254303,-0.7542236329879738,0.8182233798746302,-0.1767300249216819,0.008378628051777129,-0.15430927057906055,-0.45911446683102597,0.08723262997717784,0.35998390002583036,0.180061638423237,-0.9659486008302299,2.300585232179432,-1.567020164736362,0.9746467616296506,0.9691466615827998,2.0490976254809103,-0.06826167749845823,0.5551591316550106,0.1388563260287388,-0.061670578455422384,0.18855231005991632,0.341708393282535,-0.03934246586381389,0.21215315145884908,0.0264288638053345,-0.2382703137975898,0.005093120513846187,0.01691122623873771,1.2934990504326593,-0.18445068761615846,0.836837693960091,0.5577520994271952,-0.09519506862375125,-0.004218901206077025,0.04925151867816896,0.5795932048993939,-0.0036693683801439707,0.44828381608519363,0.3693857453915772,0.6443266106552092,-0.05375808922172424,-0.13206537150250613,0.5461752727287151,-0.4161498202200128,-0.0373860706504699,-0.5789268370730751,-0.2670596816551985,0.014417553852673947,0.07559818075803003,0.6688440006592514,0.9280567701933857,0.351874730505873,-0.04854136634868814,0.19662380885322492,0.9437333397905145,-0.13275941532404614,-0.48314458929631376,-0.04681410035465866,-0.17940510512990415,0.09057502448039527,34.1702749347648,0.0514523630894363,0.007140338682580236,-0.5845138232831611,-0.4586524920087659,-0.37819399528572734,0.07389651391335632,0.07403167049866709,0.02723819126131178,0.2488434021570961,0.22925313867489483,0.9469327795115179,-0.013132600513056626,0.004573346352227577,-0.03719434384282714,-0.17211984913537362,0.6587469557941323,-0.004499515204188336,0.22338548714701353,1.0514275482581832,0.16218619615554375,0.4475648388537268,0.08768975054769532,0.6744999539287083,0.34341400395461436,0.7771243682294642,-0.2504644810183979,1.1063017665867891,-0.1200426173174994,0.1979721728638652,0.07755103467892412,-0.13669345251890422,-0.025069324202346498,0.8244108440694518,0.10842900829309106,1.0806534259180096,0.7597059222714099,0.6640141750572062,0.6356055418709342,0.5960226516126444,-0.008379929142660593,0.09050078648128805,0.6414285891261862,0.6735154659091318,0.5967307693028694,-1.205809418939392,-0.048438088663997424,-0.38141438561598934,0.646420972762792,-0.11248873438015242,-0.04992255272443989,-0.11601434102015423,-0.04693430023835186,0.2479244868416939,-0.023944255009925614,1.2356696139694165,0.18232449444908425,-0.42378280061865237,0.8626946964637121,-0.06419457525833029,-0.05625329041785985,-0.12232627091749805,-0.13629208444661228,-0.23722421779556732,-0.0443321787381493,-0.366404753501104,0.2983670843794448,0.0015615811191286742,1.1128039577812916,-0.027979287285835406,-1.0550040469375201,-0.10889468171195214,-0.9401497971545603,-0.5552580189119181,-0.2122132493903039,0.16033534131598887,0.24460223172042264,-1.0309672039200786,-0.09275700753573514,0.17626255611732466,-1.0684125790701997,-0.13048331901961205,1.146033052744704,0.0948138199684666,-0.07864579001576566,0.807239521111561,0.6452161585392123,2.1834548978671444,0.3221682980421028,0.30343563725003264,0.1803229545217566,0.5304881544499407,0.17135908210458864,0.9093949767580675,0.6256127514117288,-0.00485132680178383,-0.3425143491441687,0.06124632902357855,-0.44260729763198436,0.03137875675103681,0.6282713064948556,-0.005801378537432369,-0.05515316218484134,0.2800117294513516,0.6820319220445706,0.2725265388389524,0.4362726806481974,0.0811167508038092,-0.2706638687428732,0.27038100715809804,-0.004400753510675325,0.477010961770075,-0.004439308819101253,0.7985029149524769,-0.006519932836386155,-0.006036022141970395,-0.03819607234634739,0.6263788667491708,0.4492581386217738,0.26271126933809613,0.17966945022467082,-0.6206097026758515,0.5154978328639961,-0.0829788315726622,0.01620027183485354,0.956026037526014,-0.018166121098647226,0.9101702752233476,0.010324114695525712,-0.04299577271656154,0.19724745965102922,0.6838329488495729,-0.04630021054715322,1.328881862097431,0.15846499821957097,0.008794235771845309,0.6552327768431407,0.6291347348226176,-0.018947515790276686,-0.04822091272623686,0.5618333768823791,-0.14650913799251636,0.275521961408411,-0.019063433241295214,0.8000013003306538,-0.0251088654262885,-0.4331039200238289,-0.046687639218117506,-0.04694414882994376,0.08480395771458243,0.04468694190723888,-0.1151754384332206,-0.009360214804861745,-0.00011436899695147812,-0.23370331371317749,1.187810758402689,-0.0923398493460407,-0.21829090028325607,-0.04840427680397949,0.04252788867027062,0.16343042407601566,-0.3534882984592029,-0.31408340007700825,-1.1899459887357986,0.043531370565915696,0.08065728779824481,-0.31330017347922023,-0.39583886254381634,0.18221781376863166,0.9739657495988446,0.11342944849661898,-0.3562651798652377,0.27156626846251786,-0.3044248013858629,0.76550543309872,0.2743368236202394,1.0620372158689677,-0.1823167038960658,1.3441686777635897,0.23347900751220807,0.37605651441897353,0.01749370952259579,0.8432699168369943,-0.008256717396354793,0.3105617135572942,0.810205105000299,-0.2732905275111125,0.8535691654403276,0.5079282278904231,0.23250506520981146,-0.0447652632533504,-0.14303307373844978,0.04605894011435706,-0.026506853956367746,-0.07297424275294441,0.735270121228374,-0.07518960723456346,0.025077916166256126,1.1465902719634378,0.11247317788613252,0.4497401466206767,0.07998509306445872,0.07422495561487535,-0.2308459071978442,-0.44168138029005083,0.21595758648567867,1.6901609100239259,0.10609045747337359,0.7498315622563543,0.34905820886642086,0.03581906478867824,-0.059845270580299106,0.1097933014853009,0.014687788561781363,-0.013946992715538698,0.011299156797738767,0.0013375952534737138,-0.13496192169419172,-0.12845102111436305,1.071663212187542,-0.16230874323927177,0.12830293344845584,-0.30609092359967155,0.010325672095456895,-0.2824081406259187,0.19554889840021325,-0.04857608250140199,-0.005372891957927566,0.007217228155528048,0.7207513874686833,-0.04389960465328716,-0.0647350779300874,-0.046132877115907474,-0.02347434565750967,-0.9375866153574952,-0.19052535894962166,-0.04864517822890184,0.26070183682370207,0.07070069730514927,-0.1125709838680954,0.06314864395942872,0.1919254914684933,-0.0067979211935515526,-0.2558365270800303,0.3148952063290813,-0.04635593851900324,-0.012758151187733095,-0.3281615762757541,0.00079924902265277,-0.36125302448129265,-0.3723244279397834,-0.032650507114775414,0.22727011822843832,-0.13129366737095846,2.067011574978334,1.1942776554864605,1.091407669076817,0.13509570770237983,-0.08584378071408395,0.2207789545916564,0.856312087217653,0.9647643227577841,0.13457665745003278,0.026840350670646152,0.6777745872638921,0.14887803389429977,-0.09708432746129401,0.18026651478841432,0.15490430177174536,0.04684601338899031,0.05272149342513655,-0.09231878567315498,0.6977583059252442,-0.003038004603789532,0.4827268947698533,0.07549306311673751,0.3189774729741522,0.24543802633352974,0.04380715970344014,0.7557835132420324,0.8591027553043006,-0.14477322335692352,0.3493813572702966,-0.10239299671939786,1.1652980896732843,0.13190935297288753,0.08210944422044135,-0.09880962656440713,-0.5144266964124435,0.35565990462758074,0.0044928155774243625,-0.2700722289308552,-0.23121260997399376,-0.004485520848994777,-0.073224496410525,1.2640825192518959,-0.01730479758029697,-0.17178548332001653,0.1804111242288499,-0.034447075527356354,0.3674752246059973,0.10022062598537182,-0.12606710540870195,-1.4997824385438414,-0.1582636053922403,0.004750757640577907,0.1315773192168567,0.19965864956060825,-0.41998935607861954,-0.34439488024332626,-0.12534948027942427,0.07557022409312628,-0.012516979245307772,1.9884897132762782,-0.6040291988691178,0.019767419491504856,-1.2438898457300325,-0.04681410035465866,-0.1799528639258698,0.0537529516054824,0.41981586667049714,1.9785699216410564,1.0101852833418086,0.967493075400937,0.5181350825656608,-0.05146896108192992,0.2620584081883402,0.8875797214424892,0.23055905403704471,0.0013628042428016692,0.05118261758159659,0.08797930558295101,0.08808284304151097,-0.12186353506526279,0.1139058669371064,-0.24996579186545323,0.013063893961621623,-0.05242673742608478,0.5610902968783811,0.1692802038514326,0.06111656458624727,0.6438084164421993,0.7669522166551026,0.9543064984563314,0.10527172524967096,-0.07938039141775315,0.15562098851135003,0.24965380656471892,-0.3039067069349929,0.22135190187919904,-0.22710891779575829,0.4207036929687172,0.9345081890687258,0.6883995723364318,-0.04143682397542293,0.08671635256735882,0.3527923478950892,0.056206973094554524,0.3584756111030559,-0.04630021054715322,-0.3126139062257588,0.6329994356236402,-0.04001299797959965,0.021736099907486466,-0.2693187090281576,0.08290622160740836,0.007217228155528048,-0.008714173749192698,-0.010628515863449962,0.30934555171742173,-0.09931816543545832,0.5636053623500396,-0.3207421815187459,-0.011617293475924755,-0.04796088105570309,0.06986999315078365,0.006162336286112528,0.0015615811191286742,0.035564971218313986,1.744797403838328,0.3048579207984237,0.3147085700257036,0.9987830083219172,-0.2708787867095241,2.09353827111865,0.8356184612173501,0.5824548966288235,-0.05793765059715585,2.047703263416844,-1.1976961008079967,0.8781591400820042,0.47196674136985073,-0.05110161824771616,0.1212637930081136,0.17527169161203213,-0.299393092123593,-0.11278416779846673,0.6403765736084963,0.912805392318025,0.4711681372168176,0.628787111685117,-0.19947662034882294,0.7084673861338355,0.021737314381591273,0.5276193763253281,0.09370607758027744,0.06668894563630466,0.10187684447582236,-0.017373601029414033,0.04641692211309427,0.09205801004429799,-0.11841700377680908,0.1563947708691027,-0.05252497359378969,0.013144727195729393,-0.25074588138701204,-0.08213592692021617,-0.3444054586320813,-0.14493348930952923,0.040398307667525474,0.06052469243061616,0.035928768037132665,0.7152469794717702,0.31305667100481777,0.10896745012847507,0.04311216684344847,0.8978596193040632,-0.04320321620291894,0.019426588489521935,0.0762955020186313,0.41669600753051583,-0.29616932029298587,-0.17205877731326025,-0.18720111475810586,-0.8133118116023482,-0.311335791073659,-0.1329577878460445,0.13458241687400221,0.5845921775715298,-0.07539732224827816,-0.00998695633700471,0.027790330004013056,-0.04781533054651012,-0.32676448093205046,0.09908750926311685,-0.4303493025966792,-0.12210572395284357,-0.4478537189695861,0.8815582741556907,0.5271926886477286,0.7696688286979777,0.06284999879367961,1.036965837226966,0.7662157514453465,0.6122227260067397,0.25743331020194893,0.7833482343569224,1.135766599146977,0.28029661321820437,-0.05015010395474733,0.37525368463028513,0.3431370913123166,0.1551915819220254,-0.16558498655199227,-0.21739638790820673,0.8631750496362415,0.28539387049779164,-0.12314533786826681,-0.05834529490540639,-0.29860213223804205,0.14826885049954971,-0.314654274154571,-0.038275597331374665,-0.05298889162226164,0.6552350812000627,0.3640519402950536,-0.034073170988962946,-0.27506906238681955,-0.38626725847243815,-0.6466618861852347,-0.4359249148110928,-0.12482828779667109,0.42200642841957986,-0.32276549311165426,-0.32638629525251067,0.20620883412503282,-0.1352888553208371,-0.24527034368055256,-0.030913975874287885,-0.005761932647214785,0.28723706982766745,0.2070184567707094,-0.034099683600588744,0.11294602217016034,-0.00850057109227479,-0.4721627845238658,-0.78779089870274,0.14614895064043795,0.006789010730131482,0.07717318510640489,-0.1247616701245663,-0.12217654834251947,1.2055721213044215,0.36839011612309697,-0.04363459680227425,-0.013279861112900884,-0.06005830466444553,-0.09626288823853987,-0.055081437518614544,-1.4637001252422412,-0.17490473049540167,-1.0772012030026745,-0.20446362644497015,-1.4870165568977514,0.6617387607128209,0.004544398710246354,-0.46359670750520293,-0.148748388860148,-0.03956124652798604,1.774296227341976,-0.4860762251569384,0.5092010979645045,-0.0056862232738844895,0.8367856672262352,0.05287892130675064,0.0456658607946975,0.14489082222036104,1.0321976602149914,-1.1259546993594478,0.4415566373037673,0.11118924164123699,0.10937057260965766,0.2954351146377967,1.923886250458079,1.0576409272279996,-0.4086117875483653,-0.09913381105064512,0.8235317515644724,2.7857092167020427,-0.13719850879612863,0.40299431652931766,0.5421512339282318,0.4744714825103286,0.1815766496791462,0.15225269654379342,0.04365924727509083,0.14916062939282898,0.1519592033053245,1.1294378266166991,-0.19008671474597758,-0.9348253989737582,0.02652599308371197,0.044038340367093066,0.2403968072454229,0.011935080624945587,-0.13137311707239846,0.5963493860336059,0.4847707900200254,0.1726594412827254,-0.15395543870220907,0.4224762071988733,-0.4536760172532095,-0.006912910856876318,-0.001382699575819456,-0.37033221625307594,0.05583276671479378,-0.044873853379780226,0.4910704864499619,-0.06395445001734308,0.016689925462955283,1.9733990017612624,0.15135993254472213,0.7252250121902241,0.004573346352227577,0.04327797904759666,0.24735330906151096,0.13439534365024255,-0.04700100024957443,-0.04320321620291894,0.08980199493297038,-0.2766660643562161,0.20317401010853464,0.12819134765681245,-0.5012971562412813,-0.2369778136767014,-0.0020034607364677205,0.013499482827507391,0.2765126862314705,-0.0950091755476928,1.175277858446437,-0.2369450750652999,0.8721303897289103,-0.1260157005199619,-0.08711651810510972,1.1280805808464949,0.08653611657239299,0.6339124939562595,0.12784188146763953,-0.15139205710214707,0.33637604008614697,0.5548722486526805,-0.23376260107352817,0.44174517189512275,0.1839645633991259,0.30094796752891806,-0.5232408713410468,-1.5186384912799564,-0.5121427523791469,0.07586805164415743,-0.12876933518601205,0.16033534131598887,0.11685004060105045,-0.08255374556888725,0.22977262263904824,-0.4649362745119276,-0.10602701127543893,-0.22727267589834166,-0.06622030528084343,-0.00454770022681874,0.16010062814133605,0.08586254603517236,0.49772229565511583,0.8336587294721318,-0.31193808288046243,0.17727053070263557,-0.02185010685693792,0.6565042353867137,0.1445255984161516,0.08112640727862837,-0.11365931892630123,0.1765147847418162,-0.07714109608899361,0.02581286358838631,-0.24822503781175903,0.3003295418385017,0.016684309015586807,0.706955608570734,-0.2545426231596965,-0.02969094769187215,0.30249914678652096,0.058361818021599315,0.01824715378412898,0.12122830355401547,-0.006799366916269776,-0.016960393690942478,-0.2544019796339751,0.06774971853676134,0.6583719429093882,-0.06991930119288277,0.2844005348103823,0.07169765307394141,-0.20508100086689696,-0.33111655591921696,0.4037841633653251,-0.006983238360140628,-0.03712075752253328,0.4240490561556737,-0.0002512602320137579,0.07110965376820898,0.0535822268118569,0.10346645482386531,-0.04241600630970383,0.06400541086788764,0.03170275109268874,0.0038727676877954864,0.011004284233645885,0.12129455055232134,-0.11263126549366884,-0.42205825744508,-0.3808863046286423,-0.3604687660241813,-0.30011546326236993,0.6745436681002618,0.007601879083875997,-0.09347283062023383,0.15918586307341454,-0.07837412991472006,0.13776914807311802,-0.11079413073609536,-0.11780892446576914,-0.02619300319612903,0.6904000037507751,0.23599540826773213,0.08538261779942145,-0.2175677661757001,0.14309336408942497,-0.009716824000488416,0.6988717424015094,0.018418129625120558,0.048930837096459345,-0.011617293475924755,0.1771110398470532,0.6114242742656836,0.21465075926658814,-0.34532104397953606,0.7919274997379516,0.15087012201147093,0.16806940937641868,-0.40690600440306296,0.4101880712297948,-0.04854136634868814,-0.017492570605351726,0.07500544420495811,0.1949944352819687,0.5258138789016938,1.0384189391915972,-0.0550949382864148,-0.02372634404871592,0.5450290741924726,0.09430695899982858,0.2866525047362324,-0.0849857915999143,0.2026858444638386,-0.5145043663576244,0.4532265613121255,1.1112228830121118,-0.0945105267739206,-0.004485520848994777,0.2191389038491943,0.31432261402588574,-0.040951715938379867,-0.007467440143990862,0.06210672760213729,0.21928976093838232,0.03326241130553484,-0.06544089287289587,0.2097611130255767,-0.12436733655283921,0.07367045657438734,-0.04068788933164523,-0.035541069057833885,-0.40109498814625993,-0.24416861163919126,0.13358614805803712,-1.074666436557548,-0.1971603107328943,0.07969583669570494,-0.4428602208133918,0.07089102621114919,-0.37600353054961516,-0.46884978642851416,-0.048743223011745634,-0.7636810498664408,0.06088905528508628,-0.13036669741051873,-0.7820036153605671,0.020701996993628884,0.139558044611874,-0.16708141384577976,0.23390031727415805,-0.10186142324650059,0.08987631015834209,-0.038315358882681505,-0.04873222623080304,-0.010180889422718189,0.16591802487915114,-0.00690424585400176,0.02687245410623514,0.005278361160367621,0.43710113507907083,-0.049496710055364795,-0.3616882818011867,0.0625969551736124,-0.10910934364982375,0.43863611388638185,0.004551580921639032,0.011206202520097595,0.1283815563884207,-0.3129825535778347,0.05727144463327687,-0.07627094339088146,0.18418605144759756,-0.0036349804941598405,0.16111121236108414,0.7356049587345036,0.11682925631552318,-0.18061767324053252,0.005255667268016345,0.14662246590978287,0.24659849152673077,-0.14718877498759614,-0.06425604933979968,-0.38050179869263273,0.04934598577221759,0.4458913977265132,0.23073246600840575,-0.41881616002381716,0.3081198402770644,0.6247195059413481,0.6725920806502002,-0.1280542352291755,-0.6986349983916166,0.11824751415093096,-0.04873222623080304,-0.38238213809259164,0.25006406766301825,0.025844007965575184,1.2177276005669244,-0.01190343057669525,0.07638645700375267,0.21226725219125392,1.0149054337707588,-0.09117250389095011,-0.09082307765648233,-0.03398462912226921,-0.02183007058180094,0.26830437922086003,0.7641582339645006,-0.07443016826393857,-0.19238492887327646,0.0291868103727989,0.04225216192330035,-0.020960472129493746,0.6131959668694513,0.5056647566794061,0.47865572786369703,-0.053812438779916205,-0.6375445847132588,1.1550953625123046,0.6405095114304724,0.14384644751916262,0.2670069693110581,0.1989347364434936,2.3241488017344345,-0.04437736686609465,-0.37620337511426294,-0.07432418478182409,-0.24147748910261163,-0.14858040001509712,0.05714299211139193,-0.3303673575993175,0.8672186484342795,0.8594255934444732,0.23119775725335173,-0.27613520989426205,-0.24413337460055354,-0.4872566300957107,0.10445575612564353,-1.1520921491864113,0.17613917637388304,0.0758365590600007,-0.042511139044799265,0.41438595929089306,0.017567391891751494,-0.2430866213201901,1.9180420422694522,0.7725151108188096,-0.16574120645792323,0.2766313414400583,0.7412946428316199,0.05181709617091735,0.21244460806753043,0.5225860804689177,1.0747531460624369,0.36643182652129774,-0.14935185091404965,0.28245346974721613,-0.002409150706086261,0.27279774949595836,0.4081164973952369,0.20877207224234073,0.582143193450822,0.16115898558252953,-0.022656788638426302,-0.03261922524618483,0.24856456372727695,0.12345909290993853,-0.02739460775428849,0.31708562962783127,0.00426263695460119,0.14713433382468447,0.06476728717303,0.2598932320216981,0.22831718269909923,0.3630039257431222,0.10342939616501397,-0.17326688047227787,0.030750513825588934,-0.12120932998480197,-0.04658478394205482,0.02476089517582602,0.2660219163103522,0.11056844912461712,-0.18381162767787912,-0.19350543755853145,-0.18473667648844977,0.6313585516670974,0.3186141065729247,-0.13349707046295634,1.0377340573357954,-0.0067979211935515526,0.31189295547772367,0.00453012280012966,0.18291979015698423,-0.11997192225335863,1.0296950984945261,-0.17178548332001653,-0.1457848673638734,-0.025125721190696754,0.5281588975209944,-0.026969259820978565,1.2193633258116785,-0.048713311534605945,0.752746774697591,1.1410555589368865,0.16075381765930832,-0.055143897856008255,0.06386345227446746,-0.3221883992980234,0.00253609574101264,-0.05022158956147299,-0.23345837145233692,0.7031312839312933,-0.06934279907843625,0.3859634180119831,0.1762639168180703,0.11328250812890951,-0.19971241697690112,0.0013164077234963387,-0.4345469390616125,-0.05586228141085505,0.43606400637306214,0.381999385877536,0.7290224717336442,0.06281258024224166,0.4621587230917768,0.02799891626991917,0.22152900332084025,0.1189922373153447,0.1121330737888093,0.4789485143664114,0.31813639344278677,0.007863027516417726,0.5809791514963989,-0.09326298872601717,-0.03480195383921307,0.01384878915511335,-0.047881034721497226,-0.2870760235233419,0.15290643733294842,-0.03002963499567428,0.08918288987049956,0.6111104860208073,0.06787206047677936,0.21837439592248986,-0.3052993810211925,-0.10493057154660926,-0.15912925528675811,0.07818319662935908,0.04544575603542517,0.04528080154946313,-0.5138815230847593,-0.2251055031926895,1.2667480445564625,0.052999786792742046,-0.009334680749839324,0.3017797196904738,-0.16066286079085168,-0.05788212530378201,0.03225996378368111,-0.1194394314045177,0.0005447562038306402,-0.10205188449188471,0.06054713571396826,-0.5766589891559044,0.02291392009094918,-0.06172859088735659,-0.006473101779914867,-0.07999754628091647,-0.07772050089491923,0.13177643556761143,-0.39071921265920356,-0.21090927233164114,0.014415505197285097,-0.011481347901883467,0.4481193374412886,-0.051962722665554545,0.4655889918076349,-0.025319668007048875,-0.008752002433064449,-0.1507970701443641,0.10441221379962241,-0.041867837994373346,-0.04845866477464649,3.246830487434133,-0.30980789175100465,0.02684607269701679,0.005399724636618513,-0.4913137371181771,0.04933185095233627,-0.07481448729339499,0.20846346700441495,0.08192065997630135,0.06495144286580211,-0.0005877876595239191,0.001475113593138707,-0.07396967859206317,-0.29027233316169543,0.19938617699307953,0.21214912655664714,0.07281968440507201,-0.4886779308246075,0.0021340321039086557,-0.010702029128286123,-0.17921720305803238,0.0005052295520065366,0.4966877825715446,0.0683846746636404,0.4680915491380832,-0.16046786352016512,0.36237538128964925,0.7045064725329879,0.009440713642224046,0.45407512695241625,0.13141377320678496,-0.06662828969697224,0.3042605553601114,0.4736502933382017,0.14527979223749896,0.01812252954323651,0.5768337007024635,-0.007161639393741321,0.1946207246006077,0.34821529000756635,0.039442705310997285,0.6532311204031941,-0.0558598229682821,0.6289031219273737,0.28761407187508203,-0.040452582879200394,0.08734282244478915,0.27004299475303306,-0.750961461916313,-0.16046135765580058,0.05163945189087705,0.04204557331660063,0.014515328116681653,-0.04935023470796467,-0.037006678878506706,0.3648505379159723,-0.15186882261831183,0.41011239032991964,0.1360071074967045,0.20832471090067833,-0.2873322299055392,0.008635737689498142,0.21064245261375655,-0.2316290143098435,-0.28387265222601527,-0.26241219672400334,-0.20969637928841978,-0.11708628255482628,0.015397411885834138,0.005783519886763996,0.43600749751481255,0.004544398710246353,0.6348840753035219,0.13509422896275458,-0.17206843587888224,0.4472320618992191,0.020671259925116432,0.03228918608083178,-0.014905097095672,0.004573346352227577,0.06862499516306696,0.3044186724281305,0.02015712228783151,-0.29909981934162566,-0.020388170124617012,-0.7165196408377352,0.008943753310447408,-0.0016954308883215111,0.29546493787229705,0.5124146173493274,-0.22165502391542868,0.41047528068930506,0.14438880508679539,0.04833602892563813,-0.05135195995314264,-0.28590179735642574,0.20230615015586617,-0.0027814270668461453,-0.009706620001548892,-0.16549315982636767,-0.42442209648626,0.20389756367395354,-0.03288944751913919,-0.3722844267050339,-0.0275404590093962,0.7371415875473774,-0.038139399190541344,-0.1228462828662409,-6.568133078412079,0.08065728779824481,-0.2767083720129717,0.08732725343888387,-0.40193160890376056,-0.33503092107316146,-0.1691759461357224,-0.43886111382121984,-0.1228462828662409,-0.042764359446197074,-0.15912925528675811,-0.01138018883612725,0.6842020512145546,0.1767454405740187,0.022607411993632427,-0.161800943996821,-0.05453893767249828,-0.02509965947422171,0.2826636940837894,0.016899410311793168,0.3848371027597898,0.18638438296488186,0.09693134881680383,0.06650460954273009,-0.04129649520587324,0.1146185309943316,0.07102889423549084,0.04055655127124477,-0.0739342716627082,0.13395221849101954,0.21810431905443844,0.38772882173167195,0.13832774873272463,0.3451124676985135,0.6266014761268425,0.07180482035882846,-0.1623201455973444,-0.04630021054715322,-0.06718680358301231,0.09591798026497296,-0.0865595871711776,0.2986204796415796,0.22177994121412017,-0.3361053590599842,-0.006518451542779899,0.041665329044814,0.00853596120378163,0.1992020981489117,0.3946705804797939,-0.2674160844669249,0.037210716880618555,-0.11277758395747155,0.31407444664046547,0.01829655151491498,-0.15485526119070445,0.5261428650904755,-0.030757846813913182,0.6894144351596629,0.0496491788528886,0.019904545833641558,-0.002662286246657318,-0.052415857511792535,0.04714451867035351,0.06609336973491456,-0.07422558095437112,0.042146711256048304,-0.02231744488958781,-0.06848153406629125,0.0035477491018118235,0.059742304940156046,0.0413070190044897,0.6731944975850291,0.5090111712742629,1.1849255857415129,-0.5669324459573581,0.02109599217037111,0.0006508439366153309,0.7713531533441954,-0.027979287285835406,0.04809523057060985,-0.14783962890576244,0.12533998146882636,0.01460021547864496,0.13855652718659647,0.6305179536132411,-0.05162111779878496,-0.14147380026246675,-0.01089427844363752,0.1804111242288499,0.05727144463327687,0.05608973514064186,-0.13589709166201022,-0.014779659832069789,-0.4680313994821229,-0.6293568696144578,0.007217228155528048,-0.0943583756523561,-0.0639186750380387,-0.14404218149050765,-0.30323944609051,-0.002231856949894656,0.18763320353001559,-0.39080904365120034,-0.11146728733103356,-0.030233408793368718,-0.23436733194366285,-0.03728907797268553,-0.18333954664293134,-0.00651698755999633,-0.22045193591793097,-0.0016457829554895186,-0.0020057766928573265,0.2863051075617148,-0.06367723398682812,-0.3950172552678947,-0.3835135569234669,0.07108976911707957,-0.05438147704190142,-0.20884799918831412,0.0468450730621401,0.07944408365188974,-0.06134259885982454,0.09609490792691605,-0.39490301651908394,-0.13470305728851117,0.17659382887443353,-0.04318284447782256,0.22058275780146774,-1.0342205133634426,-0.17800597717861855,0.02531215111759148,0.024678575666648644,-0.010180889422718189,-0.03854856605487117,0.2913966096156733,0.06495144286580211,0.1492740825840326,-0.03625042383495034,-0.01746105433808074,0.06733160773548164,-0.07449045119128687,0.03315943099202702,-0.32276549311165426,0.17652560866980552,0.19680709620351958,-0.06746260740593965,0.9528186159050825,0.013822338864560232,-0.0466216187849751,0.10122343485502365,0.10090929027986649,0.0060463805139328855,-0.14170501966784113,0.2056290126818491,-0.04703657707986419,-0.039210307428475186,0.022130380394379215,-0.11157297294332745,0.04899562420707415,0.049496733283774165,-0.11611861133398321,0.0010422663605257362,0.010534366306729829,-0.0833766691022368,-0.013139847954193413,-0.02062900560494041,0.27097402194339976,0.24220061501129575,-0.05978275772367216,0.18572551888320524,-0.05081234620242735,0.18911545199994728,0.34970333014243604,0.25649531094601674,0.007791743834480456,0.015409253878327917,0.04662228361419335,0.10390615867584385,-0.10704326718780525,0.09199097596108011,-0.05322970689861829,-0.011406455253245356,0.181813668767794,-0.025157197592527526,0.021581167819047786,0.03420571102646724,-0.01794724782981529,-0.032477865488436015,0.07338634902100202,-0.5305782727594647,-0.11790656633105298,0.09699558049848149,0.23766685439930835,0.03668340520109838,0.18527047897175392,-0.086446905648892,0.03069489526942803,0.01535680112138936,-0.04960384428320858,0.2290801713782657,0.20856214613528734,-0.06079031903247586,0.10011022380539654,0.289295003106212,0.017553914047767752,0.08433195275355669,0.23655778652230539,-0.2467680014980978,-0.43905110175327894,0.03104341831363408,0.20619695339816937,0.06795209841719242,0.04144059385446776,-0.03390719532732532,-0.1141520389021323,-1.0714527466692794,-0.5329733188500221,0.16056791632575107,-0.04762658383901695,-1.1674051209388108,0.10008776027728768,-0.20625222640810364,-0.1329577878460445,0.03849888301934745,0.009534660644399347,0.004182377623875596,0.05742923214081078,-0.40958050831490034,-0.036387198460021745,0.002268872972287447,0.006954924894673896,-0.009619717815830979,-0.026450760731561093,-0.00275013412508631,0.03913029235246184,0.013591682996946314,0.021808340568546424,0.01306318206702179,-0.04303830807414688,0.0014683537887435845,-0.06816517245097158,-0.028234748735732867,-0.005863165386475145,-0.017269266374677895,-0.009619717815830979,0.01306318206702179,-0.040800850483937945,0.051640846614198925,-0.003420639595764107,-0.011030325161655908,-0.009243100551789764,-0.0018026518594639659,-0.0038571907724248206,-0.006772374270180166,-0.11398986727531582,-0.06360246171495652,0.20846346700441495,0.008635737689498142,0.004447655478304512,0.01186803891102285,0.08381491434938586,0.04085354177113414,-0.017269266374677895,-0.020061187181330466,0.22199117767610202,-0.041111176307006385,0.0060527312350021276,0.047808280470748726,0.23666081283530485,-0.5393958880430123,-0.0383791230132678,-0.05346592147760667,-0.036745023253900125,-0.04363459680227425,0.19815412116797396,-0.05231369875013486,0.017553914047767752,0.034065591324205745,-0.11764465210486023,0.13930534733394245,-0.05390107496118669,0.007217228155528048,0.116145926568338,0.02773933365109638,0.01119766659442311,-0.03132775951690209,0.1283815563884207,0.015316213912867537,-0.048743223011745634,-0.03861156580013383,0.014991861412548466,0.03951371409652336,-0.08076361158023831,0.002779310560052324,0.0012061766260349745,0.93843053716685,-0.023320820600576598,0.047089782493712526,-0.08436910549716861,-0.022397268828223137,-0.0003272893125139607],\"yaxis\":\"y\",\"type\":\"scattergl\"}],                        {\"template\":{\"data\":{\"histogram2dcontour\":[{\"type\":\"histogram2dcontour\",\"colorbar\":{\"outlinewidth\":0,\"ticks\":\"\"},\"colorscale\":[[0.0,\"#0d0887\"],[0.1111111111111111,\"#46039f\"],[0.2222222222222222,\"#7201a8\"],[0.3333333333333333,\"#9c179e\"],[0.4444444444444444,\"#bd3786\"],[0.5555555555555556,\"#d8576b\"],[0.6666666666666666,\"#ed7953\"],[0.7777777777777778,\"#fb9f3a\"],[0.8888888888888888,\"#fdca26\"],[1.0,\"#f0f921\"]]}],\"choropleth\":[{\"type\":\"choropleth\",\"colorbar\":{\"outlinewidth\":0,\"ticks\":\"\"}}],\"histogram2d\":[{\"type\":\"histogram2d\",\"colorbar\":{\"outlinewidth\":0,\"ticks\":\"\"},\"colorscale\":[[0.0,\"#0d0887\"],[0.1111111111111111,\"#46039f\"],[0.2222222222222222,\"#7201a8\"],[0.3333333333333333,\"#9c179e\"],[0.4444444444444444,\"#bd3786\"],[0.5555555555555556,\"#d8576b\"],[0.6666666666666666,\"#ed7953\"],[0.7777777777777778,\"#fb9f3a\"],[0.8888888888888888,\"#fdca26\"],[1.0,\"#f0f921\"]]}],\"heatmap\":[{\"type\":\"heatmap\",\"colorbar\":{\"outlinewidth\":0,\"ticks\":\"\"},\"colorscale\":[[0.0,\"#0d0887\"],[0.1111111111111111,\"#46039f\"],[0.2222222222222222,\"#7201a8\"],[0.3333333333333333,\"#9c179e\"],[0.4444444444444444,\"#bd3786\"],[0.5555555555555556,\"#d8576b\"],[0.6666666666666666,\"#ed7953\"],[0.7777777777777778,\"#fb9f3a\"],[0.8888888888888888,\"#fdca26\"],[1.0,\"#f0f921\"]]}],\"heatmapgl\":[{\"type\":\"heatmapgl\",\"colorbar\":{\"outlinewidth\":0,\"ticks\":\"\"},\"colorscale\":[[0.0,\"#0d0887\"],[0.1111111111111111,\"#46039f\"],[0.2222222222222222,\"#7201a8\"],[0.3333333333333333,\"#9c179e\"],[0.4444444444444444,\"#bd3786\"],[0.5555555555555556,\"#d8576b\"],[0.6666666666666666,\"#ed7953\"],[0.7777777777777778,\"#fb9f3a\"],[0.8888888888888888,\"#fdca26\"],[1.0,\"#f0f921\"]]}],\"contourcarpet\":[{\"type\":\"contourcarpet\",\"colorbar\":{\"outlinewidth\":0,\"ticks\":\"\"}}],\"contour\":[{\"type\":\"contour\",\"colorbar\":{\"outlinewidth\":0,\"ticks\":\"\"},\"colorscale\":[[0.0,\"#0d0887\"],[0.1111111111111111,\"#46039f\"],[0.2222222222222222,\"#7201a8\"],[0.3333333333333333,\"#9c179e\"],[0.4444444444444444,\"#bd3786\"],[0.5555555555555556,\"#d8576b\"],[0.6666666666666666,\"#ed7953\"],[0.7777777777777778,\"#fb9f3a\"],[0.8888888888888888,\"#fdca26\"],[1.0,\"#f0f921\"]]}],\"surface\":[{\"type\":\"surface\",\"colorbar\":{\"outlinewidth\":0,\"ticks\":\"\"},\"colorscale\":[[0.0,\"#0d0887\"],[0.1111111111111111,\"#46039f\"],[0.2222222222222222,\"#7201a8\"],[0.3333333333333333,\"#9c179e\"],[0.4444444444444444,\"#bd3786\"],[0.5555555555555556,\"#d8576b\"],[0.6666666666666666,\"#ed7953\"],[0.7777777777777778,\"#fb9f3a\"],[0.8888888888888888,\"#fdca26\"],[1.0,\"#f0f921\"]]}],\"mesh3d\":[{\"type\":\"mesh3d\",\"colorbar\":{\"outlinewidth\":0,\"ticks\":\"\"}}],\"scatter\":[{\"fillpattern\":{\"fillmode\":\"overlay\",\"size\":10,\"solidity\":0.2},\"type\":\"scatter\"}],\"parcoords\":[{\"type\":\"parcoords\",\"line\":{\"colorbar\":{\"outlinewidth\":0,\"ticks\":\"\"}}}],\"scatterpolargl\":[{\"type\":\"scatterpolargl\",\"marker\":{\"colorbar\":{\"outlinewidth\":0,\"ticks\":\"\"}}}],\"bar\":[{\"error_x\":{\"color\":\"#2a3f5f\"},\"error_y\":{\"color\":\"#2a3f5f\"},\"marker\":{\"line\":{\"color\":\"#E5ECF6\",\"width\":0.5},\"pattern\":{\"fillmode\":\"overlay\",\"size\":10,\"solidity\":0.2}},\"type\":\"bar\"}],\"scattergeo\":[{\"type\":\"scattergeo\",\"marker\":{\"colorbar\":{\"outlinewidth\":0,\"ticks\":\"\"}}}],\"scatterpolar\":[{\"type\":\"scatterpolar\",\"marker\":{\"colorbar\":{\"outlinewidth\":0,\"ticks\":\"\"}}}],\"histogram\":[{\"marker\":{\"pattern\":{\"fillmode\":\"overlay\",\"size\":10,\"solidity\":0.2}},\"type\":\"histogram\"}],\"scattergl\":[{\"type\":\"scattergl\",\"marker\":{\"colorbar\":{\"outlinewidth\":0,\"ticks\":\"\"}}}],\"scatter3d\":[{\"type\":\"scatter3d\",\"line\":{\"colorbar\":{\"outlinewidth\":0,\"ticks\":\"\"}},\"marker\":{\"colorbar\":{\"outlinewidth\":0,\"ticks\":\"\"}}}],\"scattermapbox\":[{\"type\":\"scattermapbox\",\"marker\":{\"colorbar\":{\"outlinewidth\":0,\"ticks\":\"\"}}}],\"scatterternary\":[{\"type\":\"scatterternary\",\"marker\":{\"colorbar\":{\"outlinewidth\":0,\"ticks\":\"\"}}}],\"scattercarpet\":[{\"type\":\"scattercarpet\",\"marker\":{\"colorbar\":{\"outlinewidth\":0,\"ticks\":\"\"}}}],\"carpet\":[{\"aaxis\":{\"endlinecolor\":\"#2a3f5f\",\"gridcolor\":\"white\",\"linecolor\":\"white\",\"minorgridcolor\":\"white\",\"startlinecolor\":\"#2a3f5f\"},\"baxis\":{\"endlinecolor\":\"#2a3f5f\",\"gridcolor\":\"white\",\"linecolor\":\"white\",\"minorgridcolor\":\"white\",\"startlinecolor\":\"#2a3f5f\"},\"type\":\"carpet\"}],\"table\":[{\"cells\":{\"fill\":{\"color\":\"#EBF0F8\"},\"line\":{\"color\":\"white\"}},\"header\":{\"fill\":{\"color\":\"#C8D4E3\"},\"line\":{\"color\":\"white\"}},\"type\":\"table\"}],\"barpolar\":[{\"marker\":{\"line\":{\"color\":\"#E5ECF6\",\"width\":0.5},\"pattern\":{\"fillmode\":\"overlay\",\"size\":10,\"solidity\":0.2}},\"type\":\"barpolar\"}],\"pie\":[{\"automargin\":true,\"type\":\"pie\"}]},\"layout\":{\"autotypenumbers\":\"strict\",\"colorway\":[\"#636efa\",\"#EF553B\",\"#00cc96\",\"#ab63fa\",\"#FFA15A\",\"#19d3f3\",\"#FF6692\",\"#B6E880\",\"#FF97FF\",\"#FECB52\"],\"font\":{\"color\":\"#2a3f5f\"},\"hovermode\":\"closest\",\"hoverlabel\":{\"align\":\"left\"},\"paper_bgcolor\":\"white\",\"plot_bgcolor\":\"#E5ECF6\",\"polar\":{\"bgcolor\":\"#E5ECF6\",\"angularaxis\":{\"gridcolor\":\"white\",\"linecolor\":\"white\",\"ticks\":\"\"},\"radialaxis\":{\"gridcolor\":\"white\",\"linecolor\":\"white\",\"ticks\":\"\"}},\"ternary\":{\"bgcolor\":\"#E5ECF6\",\"aaxis\":{\"gridcolor\":\"white\",\"linecolor\":\"white\",\"ticks\":\"\"},\"baxis\":{\"gridcolor\":\"white\",\"linecolor\":\"white\",\"ticks\":\"\"},\"caxis\":{\"gridcolor\":\"white\",\"linecolor\":\"white\",\"ticks\":\"\"}},\"coloraxis\":{\"colorbar\":{\"outlinewidth\":0,\"ticks\":\"\"}},\"colorscale\":{\"sequential\":[[0.0,\"#0d0887\"],[0.1111111111111111,\"#46039f\"],[0.2222222222222222,\"#7201a8\"],[0.3333333333333333,\"#9c179e\"],[0.4444444444444444,\"#bd3786\"],[0.5555555555555556,\"#d8576b\"],[0.6666666666666666,\"#ed7953\"],[0.7777777777777778,\"#fb9f3a\"],[0.8888888888888888,\"#fdca26\"],[1.0,\"#f0f921\"]],\"sequentialminus\":[[0.0,\"#0d0887\"],[0.1111111111111111,\"#46039f\"],[0.2222222222222222,\"#7201a8\"],[0.3333333333333333,\"#9c179e\"],[0.4444444444444444,\"#bd3786\"],[0.5555555555555556,\"#d8576b\"],[0.6666666666666666,\"#ed7953\"],[0.7777777777777778,\"#fb9f3a\"],[0.8888888888888888,\"#fdca26\"],[1.0,\"#f0f921\"]],\"diverging\":[[0,\"#8e0152\"],[0.1,\"#c51b7d\"],[0.2,\"#de77ae\"],[0.3,\"#f1b6da\"],[0.4,\"#fde0ef\"],[0.5,\"#f7f7f7\"],[0.6,\"#e6f5d0\"],[0.7,\"#b8e186\"],[0.8,\"#7fbc41\"],[0.9,\"#4d9221\"],[1,\"#276419\"]]},\"xaxis\":{\"gridcolor\":\"white\",\"linecolor\":\"white\",\"ticks\":\"\",\"title\":{\"standoff\":15},\"zerolinecolor\":\"white\",\"automargin\":true,\"zerolinewidth\":2},\"yaxis\":{\"gridcolor\":\"white\",\"linecolor\":\"white\",\"ticks\":\"\",\"title\":{\"standoff\":15},\"zerolinecolor\":\"white\",\"automargin\":true,\"zerolinewidth\":2},\"scene\":{\"xaxis\":{\"backgroundcolor\":\"#E5ECF6\",\"gridcolor\":\"white\",\"linecolor\":\"white\",\"showbackground\":true,\"ticks\":\"\",\"zerolinecolor\":\"white\",\"gridwidth\":2},\"yaxis\":{\"backgroundcolor\":\"#E5ECF6\",\"gridcolor\":\"white\",\"linecolor\":\"white\",\"showbackground\":true,\"ticks\":\"\",\"zerolinecolor\":\"white\",\"gridwidth\":2},\"zaxis\":{\"backgroundcolor\":\"#E5ECF6\",\"gridcolor\":\"white\",\"linecolor\":\"white\",\"showbackground\":true,\"ticks\":\"\",\"zerolinecolor\":\"white\",\"gridwidth\":2}},\"shapedefaults\":{\"line\":{\"color\":\"#2a3f5f\"}},\"annotationdefaults\":{\"arrowcolor\":\"#2a3f5f\",\"arrowhead\":0,\"arrowwidth\":1},\"geo\":{\"bgcolor\":\"white\",\"landcolor\":\"#E5ECF6\",\"subunitcolor\":\"white\",\"showland\":true,\"showlakes\":true,\"lakecolor\":\"white\"},\"title\":{\"x\":0.05},\"mapbox\":{\"style\":\"light\"}}},\"xaxis\":{\"anchor\":\"y\",\"domain\":[0.0,1.0],\"title\":{\"text\":\"x\"}},\"yaxis\":{\"anchor\":\"x\",\"domain\":[0.0,1.0],\"title\":{\"text\":\"y\"}},\"coloraxis\":{\"colorbar\":{\"title\":{\"text\":\"hover\"}},\"colorscale\":[[0.0,\"#0d0887\"],[0.1111111111111111,\"#46039f\"],[0.2222222222222222,\"#7201a8\"],[0.3333333333333333,\"#9c179e\"],[0.4444444444444444,\"#bd3786\"],[0.5555555555555556,\"#d8576b\"],[0.6666666666666666,\"#ed7953\"],[0.7777777777777778,\"#fb9f3a\"],[0.8888888888888888,\"#fdca26\"],[1.0,\"#f0f921\"]]},\"legend\":{\"tracegroupgap\":0,\"itemsizing\":\"constant\"},\"title\":{\"text\":\"bpm\"}},                        {\"responsive\": true}                    ).then(function(){\n",
       "                            \n",
       "var gd = document.getElementById('b22d8238-71ef-4822-91db-49541ab428d5');\n",
       "var x = new MutationObserver(function (mutations, observer) {{\n",
       "        var display = window.getComputedStyle(gd).display;\n",
       "        if (!display || display === 'none') {{\n",
       "            console.log([gd, 'removed!']);\n",
       "            Plotly.purge(gd);\n",
       "            observer.disconnect();\n",
       "        }}\n",
       "}});\n",
       "\n",
       "// Listen for the removal of the full notebook cells\n",
       "var notebookContainer = gd.closest('#notebook-container');\n",
       "if (notebookContainer) {{\n",
       "    x.observe(notebookContainer, {childList: true});\n",
       "}}\n",
       "\n",
       "// Listen for the clearing of the current output cell\n",
       "var outputEl = gd.closest('.output');\n",
       "if (outputEl) {{\n",
       "    x.observe(outputEl, {childList: true});\n",
       "}}\n",
       "\n",
       "                        })                };                });            </script>        </div>"
      ]
     },
     "metadata": {},
     "output_type": "display_data"
    }
   ],
   "source": [
    "plot_scatter(df, rotated_means_results, \"bpm\", \"gaussian\")"
   ]
  },
  {
   "cell_type": "code",
   "execution_count": null,
   "metadata": {},
   "outputs": [],
   "source": [
    "plt.scatter(rotated_means[:,0], rotated_means[:,1], c= df_max_vals[\"fg3m\"]/df_max_vals[\"fg3a\"])\n"
   ]
  },
  {
   "cell_type": "code",
   "execution_count": null,
   "metadata": {},
   "outputs": [],
   "source": []
  }
 ],
 "metadata": {
  "kernelspec": {
   "display_name": "base",
   "language": "python",
   "name": "python3"
  },
  "language_info": {
   "codemirror_mode": {
    "name": "ipython",
    "version": 3
   },
   "file_extension": ".py",
   "mimetype": "text/x-python",
   "name": "python",
   "nbconvert_exporter": "python",
   "pygments_lexer": "ipython3",
   "version": "3.10.9"
  },
  "orig_nbformat": 4
 },
 "nbformat": 4,
 "nbformat_minor": 2
}
