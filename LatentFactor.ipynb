{
 "cells": [
  {
   "cell_type": "code",
   "execution_count": 1,
   "metadata": {},
   "outputs": [
    {
     "data": {
      "text/html": [
       "        <script type=\"text/javascript\">\n",
       "        window.PlotlyConfig = {MathJaxConfig: 'local'};\n",
       "        if (window.MathJax && window.MathJax.Hub && window.MathJax.Hub.Config) {window.MathJax.Hub.Config({SVG: {font: \"STIX-Web\"}});}\n",
       "        if (typeof require !== 'undefined') {\n",
       "        require.undef(\"plotly\");\n",
       "        requirejs.config({\n",
       "            paths: {\n",
       "                'plotly': ['https://cdn.plot.ly/plotly-2.20.0.min']\n",
       "            }\n",
       "        });\n",
       "        require(['plotly'], function(Plotly) {\n",
       "            window._Plotly = Plotly;\n",
       "        });\n",
       "        }\n",
       "        </script>\n",
       "        "
      ]
     },
     "metadata": {},
     "output_type": "display_data"
    }
   ],
   "source": [
    "import numpy as np\n",
    "import pickle\n",
    "import matplotlib.pyplot as plt\n",
    "from plotly.offline import init_notebook_mode\n",
    "init_notebook_mode(connected = True)"
   ]
  },
  {
   "cell_type": "code",
   "execution_count": 2,
   "metadata": {},
   "outputs": [],
   "source": [
    "import os\n",
    "experiment_result = {}\n",
    "for file in os.listdir(\"experiments\"):\n",
    "    if file.endswith(\".pickle\"):\n",
    "        with open(f\"experiments/{file}\",\"rb\") as f:\n",
    "            data = pickle.load(f)\n",
    "        f.close()\n",
    "        experiment_result[file.split(\".\")[0]] = data"
   ]
  },
  {
   "cell_type": "code",
   "execution_count": 5,
   "metadata": {},
   "outputs": [
    {
     "data": {
      "text/plain": [
       "(1000, 2332, 2)"
      ]
     },
     "execution_count": 5,
     "metadata": {},
     "output_type": "execute_result"
    }
   ],
   "source": [
    "experiment_result[\"binomial_ftm_rflvm\"][\"X\"].shape"
   ]
  },
  {
   "cell_type": "code",
   "execution_count": 3,
   "metadata": {},
   "outputs": [],
   "source": [
    "import numpy as np\n",
    "from scipy.linalg import svd \n",
    "from typing import Tuple\n",
    "\n",
    "def varimax(Phi, gamma = 1.0, q = 20, tol = 1e-6):\n",
    "\n",
    "    p,k = Phi.shape\n",
    "    R = np.eye(k)\n",
    "    d=0\n",
    "    for i in range(q):\n",
    "        d_old = d\n",
    "        Lambda = np.dot(Phi, R)\n",
    "        u,s,vh = svd(np.dot(Phi.T,np.asarray(Lambda)**3 - (gamma/p) * np.dot(Lambda, np.diag(np.diag(np.dot(Lambda.T,Lambda))))))\n",
    "        R = np.dot(u,vh)\n",
    "        d = np.sum(s)\n",
    "        if d_old!=0 and d/d_old < 1 + tol: break\n",
    "    return np.dot(Phi, R)\n",
    "\n",
    "\n",
    "def rotate_factors(player_factor_tensor:np.ndarray, use_varimax:bool = True)->Tuple[np.ndarray, np.ndarray]:\n",
    "    \"\"\"\n",
    "\n",
    "    Args:\n",
    "        player_factor_tensor (np.ndarray): sample x num factors x num players \n",
    "        varimax (bool): whether to apply varimax rotation or not\n",
    "\n",
    "    Returns:\n",
    "        np.ndarray: sample x num factors x num players  rotated tensor\n",
    "    \"\"\"\n",
    "\n",
    "    n_samples, n_factors, _ = player_factor_tensor.shape\n",
    "    output_tensor = np.zeros_like(player_factor_tensor)\n",
    "    rotations = [np.eye(n_factors)]\n",
    "    output_tensor[0,:,:] = player_factor_tensor[0,:,:] if not use_varimax else varimax(player_factor_tensor[0,:,:])\n",
    "    for i in range(1,n_samples):\n",
    "        U, _, V =  svd(output_tensor[0,:,:].dot(player_factor_tensor[i,:,:].T), full_matrices=False)\n",
    "        rotation = U.dot(V)\n",
    "        rotations.append(rotation)\n",
    "        output_tensor[i,:,:] = rotation.dot(player_factor_tensor[i,:,:])\n",
    "    print(len(rotations))\n",
    "    return output_tensor, np.stack(rotations,axis = 0)\n",
    "\n",
    "\n"
   ]
  },
  {
   "cell_type": "code",
   "execution_count": 4,
   "metadata": {},
   "outputs": [
    {
     "name": "stdout",
     "output_type": "stream",
     "text": [
      "1000\n",
      "1000\n",
      "1000\n",
      "1000\n",
      "1000\n",
      "1000\n",
      "1000\n",
      "1000\n",
      "1000\n",
      "1000\n",
      "1000\n",
      "1000\n"
     ]
    }
   ],
   "source": [
    "rotated_experiment_results = {}\n",
    "# for model in experiment_result:\n",
    "#     print(model, experiment_result[model][\"X\"])\n",
    "#     rotated_experiment_results[model] = rotate_factors(np.swapaxes(experiment_result[model][\"X\"], axis1 = 1, axis2=2))\n",
    "\n",
    "rotated_experiment_results[\"poisson_ast_rflvm\"] = rotate_factors(np.swapaxes(experiment_result[\"poisson_ast_rflvm\"][\"X\"],1,2))\n",
    "rotated_experiment_results[\"poisson_stl_rflvm\"] = rotate_factors(np.swapaxes(experiment_result[\"poisson_stl_rflvm\"][\"X\"],1,2))\n",
    "rotated_experiment_results[\"poisson_blk_rflvm\"] = rotate_factors(np.swapaxes(experiment_result[\"poisson_blk_rflvm\"][\"X\"],1,2))\n",
    "rotated_experiment_results[\"poisson_dreb_rflvm\"] = rotate_factors(np.swapaxes(experiment_result[\"poisson_dreb_rflvm\"][\"X\"],1,2))\n",
    "rotated_experiment_results[\"poisson_oreb_rflvm\"] = rotate_factors(np.swapaxes(experiment_result[\"poisson_oreb_rflvm\"][\"X\"],1,2))\n",
    "rotated_experiment_results[\"gaussian_bpm_rflvm\"] = rotate_factors(np.swapaxes(experiment_result[\"gaussian_bpm_rflvm\"][\"X\"],1,2))\n",
    "rotated_experiment_results[\"gaussian_dbpm_rflvm\"] = rotate_factors(np.swapaxes(experiment_result[\"gaussian_dbpm_rflvm\"][\"X\"],1,2))\n",
    "rotated_experiment_results[\"gaussian_obpm_rflvm\"] = rotate_factors(np.swapaxes(experiment_result[\"gaussian_obpm_rflvm\"][\"X\"],1,2))\n",
    "rotated_experiment_results[\"binomial_ftm_rflvm\"] = rotate_factors(np.swapaxes(experiment_result[\"binomial_ftm_rflvm\"][\"X\"],1,2))\n",
    "rotated_experiment_results[\"binomial_fg2m_rflvm\"] = rotate_factors(np.swapaxes(experiment_result[\"binomial_fg2m_rflvm\"][\"X\"],1,2))\n",
    "rotated_experiment_results[\"binomial_fg3m_rflvm\"] = rotate_factors(np.swapaxes(experiment_result[\"binomial_fg3m_rflvm\"][\"X\"],1,2))\n",
    "rotated_experiment_results[\"mixed_bpm,stl,fg3m_rflvm\"] = rotate_factors(np.swapaxes(experiment_result[\"mixed_bpm,stl,fg3m_rflvm\"][\"X\"],1,2))"
   ]
  },
  {
   "cell_type": "code",
   "execution_count": null,
   "metadata": {},
   "outputs": [],
   "source": []
  },
  {
   "cell_type": "code",
   "execution_count": 5,
   "metadata": {},
   "outputs": [],
   "source": [
    "rotated_means_results = {model : rotated_experiment_results[model][0].mean(axis=0).T for model in  rotated_experiment_results}"
   ]
  },
  {
   "cell_type": "code",
   "execution_count": null,
   "metadata": {},
   "outputs": [],
   "source": []
  },
  {
   "cell_type": "code",
   "execution_count": 9,
   "metadata": {},
   "outputs": [
    {
     "data": {
      "text/plain": [
       "dict_keys(['poisson_ast_rflvm', 'poisson_stl_rflvm', 'poisson_blk_rflvm', 'poisson_dreb_rflvm', 'poisson_oreb_rflvm', 'gaussian_bpm_rflvm', 'gaussian_dbpm_rflvm', 'gaussian_obpm_rflvm', 'binomial_ftm_rflvm', 'binomial_fg2m_rflvm', 'binomial_fg3m_rflvm', 'mixed_bpm,stl,fg3m_rflvm'])"
      ]
     },
     "execution_count": 9,
     "metadata": {},
     "output_type": "execute_result"
    }
   ],
   "source": [
    "rotated_means_results.keys()"
   ]
  },
  {
   "cell_type": "code",
   "execution_count": 10,
   "metadata": {},
   "outputs": [],
   "source": [
    "import pandas as pd\n",
    "df = pd.read_csv(\"datasets/player_data.csv\")"
   ]
  },
  {
   "cell_type": "code",
   "execution_count": 11,
   "metadata": {},
   "outputs": [],
   "source": [
    "df = df.sort_values(by=[\"id\",\"year\"])\n"
   ]
  },
  {
   "cell_type": "code",
   "execution_count": null,
   "metadata": {},
   "outputs": [],
   "source": [
    "import plotly.express as px\n",
    "\n",
    "\n",
    "def plot_scatter(dataframe, rotated_means_dict, metric, model, offset = \"minutes\", mixed_metric_index = 0, mixed_metric_model = \"binomial\", mixed_metric_offset = \"minutes\"):\n",
    "\n",
    "    key_name = f\"{model}_{metric}_rflvm\"\n",
    "    df_names = dataframe[[\"id\",\"name\"]].drop_duplicates()[\"name\"].values\n",
    "    if model != \"mixed\":\n",
    "        df_size_vals = dataframe[[offset,\"id\"]].groupby(\"id\").mean().reset_index()\n",
    "        \n",
    "        data = pd.DataFrame(rotated_means_dict[key_name], columns=[\"x\",\"y\"])\n",
    "        data[\"names\"] = df_names\n",
    "        data[offset] = df_size_vals[offset]\n",
    "    else:\n",
    "        \n",
    "        metric_list = metric.split(\",\")\n",
    "        exposure_list = mixed_metric_offset.split(\",\")\n",
    "        metric_df = df[df[\"age\"] == 25][metric_list + [\"id\"]]\n",
    "        exposure_df = df[df[\"age\"] == 25][exposure_list + [\"id\"]]\n",
    "        player_id_df = df[[\"id\"]].drop_duplicates()\n",
    "        data = pd.merge(metric_df, player_id_df, on =\"id\", how = \"right\")[metric_list].fillna(0)\n",
    "        print(pd.merge(exposure_df, player_id_df, on =\"id\", how = \"right\"))\n",
    "        offset_data = pd.merge(exposure_df, player_id_df, on =\"id\", how = \"right\").iloc[:, 0:len(exposure_list)].fillna(0)\n",
    "        print(offset_data.shape)\n",
    "\n",
    "    if model == \"binomial\":\n",
    "        df_color_vals = dataframe[[metric,offset, \"id\"]].groupby(\"id\").sum().reset_index()\n",
    "        data[f\"{metric}_pct\"] = df_color_vals[metric]/df_color_vals[offset]\n",
    "        fig = px.scatter(data_frame= data,   \n",
    "                   x = \"x\", y = \"y\", hover_data = [f\"{metric}_pct\",offset,\"names\"], title = metric, size = offset,\n",
    "                         color = f\"{metric}_pct\", range_color = [.1,.7])\n",
    "    elif model == \"poisson\":\n",
    "        df_color_vals = dataframe[[metric,offset,\"id\"]].groupby(\"id\").sum().reset_index()\n",
    "        data[f\"{metric}_rate\"] = df_color_vals[metric]/df_color_vals[offset]\n",
    "        fig = px.scatter(data_frame = data, x = \"x\", y = \"y\", hover_data = [f\"{metric}_rate\",offset,\"names\"], \n",
    "                         title = metric, size = offset,\n",
    "                         color = f\"{metric}_rate\", range_color = [0,.1])\n",
    "    elif model == \"gaussian\":\n",
    "        df_color_vals = dataframe[[metric, \"id\"]].groupby(\"id\").mean().reset_index()\n",
    "        data[\"hover\"] = df_color_vals[metric]\n",
    "        fig = px.scatter(data_frame = data, x = \"x\", y = \"y\", color = \"hover\",\n",
    "                    size = offset, hover_data = [\"hover\",offset,\"names\"], title = metric )\n",
    "    elif model == \"mixed\":\n",
    "        metrics = metric.split(\",\")\n",
    "        metric = metrics[mixed_metric_index]\n",
    "        offset = mixed_metric_offset.split(\",\")[mixed_metric_index]\n",
    "        new_df = pd.DataFrame(rotated_means_dict[key_name], columns=[\"x\",\"y\"])\n",
    "        new_df[\"names\"] = df_names\n",
    "        if mixed_metric_model == \"binomial\":\n",
    "            new_df[f\"{metric}_pct\"] = data.iloc[:, mixed_metric_index]/offset_data.iloc[:, mixed_metric_index]\n",
    "            new_df[offset] = offset_data.iloc[:, mixed_metric_index]\n",
    "            fig = px.scatter(data_frame= new_df,   \n",
    "                    x = \"x\", y = \"y\", hover_data = [f\"{metric}_pct\",offset,\"names\"], title = metric, size = offset,\n",
    "                            color = f\"{metric}_pct\", range_color = [.1,.7])\n",
    "        elif mixed_metric_model == \"poisson\":\n",
    "            new_df[f\"{metric}_rate\"] = data.iloc[:, mixed_metric_index]/offset_data.iloc[:, mixed_metric_index]\n",
    "            new_df[offset] = offset_data.iloc[:, mixed_metric_index]\n",
    "            fig = px.scatter(data_frame = new_df, x = \"x\", y = \"y\", hover_data = [f\"{metric}_rate\",offset,\"names\"], \n",
    "                            title = metric, size = offset,\n",
    "                            color = f\"{metric}_rate\", range_color = [0,.1])\n",
    "        elif mixed_metric_model == \"gaussian\":\n",
    "            new_df[f\"{metric}\"] = data.iloc[:, mixed_metric_index]\n",
    "            new_df[offset] = np.sqrt(offset_data.iloc[:, mixed_metric_index])\n",
    "            fig = px.scatter(data_frame = new_df, x = \"x\", y = \"y\", color = metric,\n",
    "                        size = offset, hover_data = [metric,offset,\"names\"], title = metric, range_color = [0,10] )\n",
    "    \n",
    "    fig.show()\n",
    "    \n",
    "\n",
    "    \n"
   ]
  },
  {
   "cell_type": "code",
   "execution_count": null,
   "metadata": {},
   "outputs": [
    {
     "name": "stdout",
     "output_type": "stream",
     "text": [
      "         minutes     minutes  fg3a       id\n",
      "0            NaN         NaN   NaN        2\n",
      "1            NaN         NaN   NaN        3\n",
      "2            NaN         NaN   NaN        7\n",
      "3            NaN         NaN   NaN        9\n",
      "4            NaN         NaN   NaN       12\n",
      "...          ...         ...   ...      ...\n",
      "2327         NaN         NaN   NaN  1630267\n",
      "2328         NaN         NaN   NaN  1630268\n",
      "2329         NaN         NaN   NaN  1630271\n",
      "2330         NaN         NaN   NaN  1630273\n",
      "2331  211.606667  211.606667  15.0  1630466\n",
      "\n",
      "[2332 rows x 4 columns]\n",
      "(2332, 3)\n"
     ]
    },
    {
     "data": {
      "application/vnd.plotly.v1+json": {
       "config": {
        "plotlyServerURL": "https://plot.ly"
       },
       "data": [
        {
         "customdata": [
          [
           0,
           0,
           "Byron Scott"
          ],
          [
           0,
           0,
           "Grant Long"
          ],
          [
           0,
           0,
           "Dan Schayes"
          ],
          [
           0,
           0,
           "Sedale Threatt"
          ],
          [
           0,
           0,
           "Chris King"
          ],
          [
           0,
           0,
           "Eric Piatkowski"
          ],
          [
           0,
           0,
           "Clyde Drexler"
          ],
          [
           0,
           0,
           "Greg Anthony"
          ],
          [
           0,
           0,
           "Rik Smits"
          ],
          [
           0,
           0,
           "Dennis Rodman"
          ],
          [
           0,
           0,
           "Luc Longley"
          ],
          [
           0,
           0,
           "Doug West"
          ],
          [
           -3.3,
           34.74216938150711,
           "Jim McIlvaine"
          ],
          [
           0,
           0,
           "Lorenzo Williams"
          ],
          [
           -15.5,
           5.443191465797735,
           "Clifford Rozier"
          ],
          [
           0,
           0,
           "Eric Riley"
          ],
          [
           0,
           0,
           "Sarunas Marciulionis"
          ],
          [
           0,
           0,
           "Greg Graham"
          ],
          [
           0,
           0,
           "Brad Lohaus"
          ],
          [
           -0.6,
           36.704927008055336,
           "Monty Williams"
          ],
          [
           1.5,
           33.39713061526888,
           "Chris Whitney"
          ],
          [
           0,
           0,
           "George McCloud"
          ],
          [
           0,
           0,
           "Wayman Tisdale"
          ],
          [
           -0.7,
           42.91835271768943,
           "Gheorghe Muresan"
          ],
          [
           0,
           0,
           "Mahmoud Abdul-Rauf"
          ],
          [
           0,
           0,
           "Micheal Williams"
          ],
          [
           0,
           0,
           "Mario Elie"
          ],
          [
           -3,
           20.808732141419213,
           "Dickey Simpkins"
          ],
          [
           0,
           0,
           "Marty Conlon"
          ],
          [
           0,
           0,
           "Gary Payton"
          ],
          [
           0,
           0,
           "Doug Christie"
          ],
          [
           0,
           0,
           "Carl Herrera"
          ],
          [
           -0.3,
           32.43167176285136,
           "Michael Smith"
          ],
          [
           0,
           0,
           "Sam Perkins"
          ],
          [
           -2,
           23.405305666308507,
           "Greg Minor"
          ],
          [
           0,
           0,
           "Tom Hammonds"
          ],
          [
           0,
           0,
           "Steve Kerr"
          ],
          [
           0,
           0,
           "Pooh Richardson"
          ],
          [
           0,
           0,
           "Kenny Anderson"
          ],
          [
           0,
           0,
           "Hot Rod Williams"
          ],
          [
           0,
           0,
           "Cedric Ceballos"
          ],
          [
           0,
           0,
           "Doug Overton"
          ],
          [
           0,
           0,
           "LaSalle Thompson"
          ],
          [
           0,
           0,
           "Ken Norman"
          ],
          [
           0,
           0,
           "Jeff Grayer"
          ],
          [
           0,
           0,
           "Bill Wennington"
          ],
          [
           0,
           0,
           "Latrell Sprewell"
          ],
          [
           0,
           0,
           "Brent Price"
          ],
          [
           0,
           0,
           "Dikembe Mutombo"
          ],
          [
           0,
           0,
           "Steve Scheffler"
          ],
          [
           1.1,
           54.29645476456083,
           "Nick Van Exel"
          ],
          [
           0,
           0,
           "Hubert Davis"
          ],
          [
           0,
           0,
           "Mark Bryant"
          ],
          [
           0,
           0,
           "Detlef Schrempf"
          ],
          [
           0,
           0,
           "Nick Anderson"
          ],
          [
           0,
           0,
           "Tim Legler"
          ],
          [
           0,
           0,
           "Todd Day"
          ],
          [
           0,
           0,
           "Benoit Benjamin"
          ],
          [
           0,
           0,
           "Dan Majerle"
          ],
          [
           0,
           0,
           "Dale Ellis"
          ],
          [
           0,
           0,
           "Robert Horry"
          ],
          [
           0,
           0,
           "LaPhonso Ellis"
          ],
          [
           0,
           0,
           "Dontonio Wingfield"
          ],
          [
           0,
           0,
           "David Wood"
          ],
          [
           0,
           0,
           "Steven Smith"
          ],
          [
           0,
           0,
           "Patrick Ewing"
          ],
          [
           0,
           0,
           "Fred Roberts"
          ],
          [
           0,
           0,
           "Robert Pack"
          ],
          [
           0,
           0,
           "Vlade Divac"
          ],
          [
           0,
           0,
           "David Benoit"
          ],
          [
           0,
           0,
           "Dino Radja"
          ],
          [
           0,
           0,
           "David Wesley"
          ],
          [
           0,
           0,
           "Kevin Johnson"
          ],
          [
           0,
           0,
           "P.J. Brown"
          ],
          [
           0,
           0,
           "Vernon Maxwell"
          ],
          [
           0,
           0,
           "Anthony Avent"
          ],
          [
           0,
           0,
           "Donald Royal"
          ],
          [
           -2.8,
           32.41532559351101,
           "Terry Dehere"
          ],
          [
           0.4,
           42.63504036196835,
           "Tracy Murray"
          ],
          [
           0,
           0,
           "Jud Buechler"
          ],
          [
           -0.6,
           41.28805315503905,
           "Jalen Rose"
          ],
          [
           0,
           0,
           "Adrian Caldwell"
          ],
          [
           0,
           0,
           "Antoine Carr"
          ],
          [
           0,
           0,
           "Derek Harper"
          ],
          [
           0,
           0,
           "Tim Breaux"
          ],
          [
           0,
           0,
           "Chris Childs"
          ],
          [
           0,
           0,
           "Hakeem Olajuwon"
          ],
          [
           0,
           0,
           "Ron Harper"
          ],
          [
           0,
           0,
           "Chris Mills"
          ],
          [
           0,
           0,
           "Joe Kleine"
          ],
          [
           0,
           0,
           "Keith Askins"
          ],
          [
           0,
           0,
           "Alton Lister"
          ],
          [
           0,
           0,
           "Antonio Harvey"
          ],
          [
           0,
           0,
           "Muggsy Bogues"
          ],
          [
           0,
           0,
           "Olden Polynice"
          ],
          [
           0,
           0,
           "Bryant Stith"
          ],
          [
           0,
           0,
           "John Crotty"
          ],
          [
           0,
           0,
           "Kenny Smith"
          ],
          [
           0,
           0,
           "Billy Owens"
          ],
          [
           0,
           0,
           "Bison Dele"
          ],
          [
           0,
           0,
           "Bobby Phills"
          ],
          [
           1.9,
           41.493473382368585,
           "Chris Webber"
          ],
          [
           0,
           0,
           "Terry Cummings"
          ],
          [
           0,
           0,
           "Duane Causwell"
          ],
          [
           0,
           0,
           "Dennis Scott"
          ],
          [
           0,
           0,
           "Anthony Mason"
          ],
          [
           0,
           0,
           "Anthony Bowie"
          ],
          [
           0,
           0,
           "Lee Mayberry"
          ],
          [
           0,
           0,
           "Scott Burrell"
          ],
          [
           0,
           0,
           "Danny Ferry"
          ],
          [
           0,
           0,
           "Reggie Williams"
          ],
          [
           0,
           0,
           "Chris Dudley"
          ],
          [
           0,
           0,
           "Gary Grant"
          ],
          [
           0,
           0,
           "Nate McMillan"
          ],
          [
           0,
           0,
           "Jeff Hornacek"
          ],
          [
           0,
           0,
           "Sam Cassell"
          ],
          [
           0,
           0,
           "Dell Curry"
          ],
          [
           0,
           0,
           "Terrell Brandon"
          ],
          [
           0,
           0,
           "Eric Mobley"
          ],
          [
           -11.1,
           7.697510420042749,
           "Yinka Dare"
          ],
          [
           0,
           0,
           "Antonio Davis"
          ],
          [
           0,
           0,
           "Brian Shaw"
          ],
          [
           0,
           0,
           "Vinny Del Negro"
          ],
          [
           0,
           0,
           "Clar. Weatherspoon"
          ],
          [
           -6.4,
           12.081114738853076,
           "Bill Curley"
          ],
          [
           3.3,
           54.772103605150406,
           "Eddie Jones"
          ],
          [
           -2.5,
           5.46198986939131,
           "Antonio Lang"
          ],
          [
           0,
           0,
           "Adam Keefe"
          ],
          [
           -1.9,
           44.17006905133837,
           "Khalid Reeves"
          ],
          [
           0,
           0,
           "Kevin Edwards"
          ],
          [
           0,
           0,
           "Tyrone Hill"
          ],
          [
           0.5,
           42.65741436139795,
           "Darrick Martin"
          ],
          [
           0,
           0,
           "Brooks Thompson"
          ],
          [
           -3.2,
           11.656328753085168,
           "Darrin Hancock"
          ],
          [
           -1.5,
           42.573955262186644,
           "Aaron McKie"
          ],
          [
           0,
           0,
           "Dee Brown"
          ],
          [
           0,
           0,
           "Greg Anderson"
          ],
          [
           0,
           0,
           "Joe Dumars"
          ],
          [
           0,
           0,
           "George Lynch"
          ],
          [
           0,
           0,
           "Sean Elliott"
          ],
          [
           0,
           0,
           "Karl Malone"
          ],
          [
           4.7,
           57.41855100923394,
           "Grant Hill"
          ],
          [
           0.5,
           43.84968642989366,
           "Brian Grant"
          ],
          [
           0,
           0,
           "Michael Cage"
          ],
          [
           0,
           0,
           "Harvey Grant"
          ],
          [
           0,
           0,
           "Horace Grant"
          ],
          [
           0,
           0,
           "Johnny Newman"
          ],
          [
           0,
           0,
           "Duane Ferrell"
          ],
          [
           -1.1,
           51.781302931978544,
           "Allan Houston"
          ],
          [
           0,
           0,
           "Stacey Augmon"
          ],
          [
           0,
           0,
           "Charles Jones"
          ],
          [
           0,
           0,
           "Felton Spencer"
          ],
          [
           0,
           0,
           "Scott Williams"
          ],
          [
           0,
           0,
           "Lindsey Hunter"
          ],
          [
           0,
           0,
           "Eric Leckner"
          ],
          [
           0,
           0,
           "Armen Gilliam"
          ],
          [
           0,
           0,
           "Ledell Eackles"
          ],
          [
           0,
           0,
           "Ed Pinckney"
          ],
          [
           -15.9,
           3.7013511046643495,
           "Anthony Miller"
          ],
          [
           0,
           0,
           "Charles Smith"
          ],
          [
           0,
           0,
           "Rick Fox"
          ],
          [
           0,
           0,
           "Alonzo Mourning"
          ],
          [
           0,
           47.882408043038104,
           "Glenn Robinson"
          ],
          [
           0,
           0,
           "Mookie Blaylock"
          ],
          [
           0,
           0,
           "John Stockton"
          ],
          [
           0,
           0,
           "Robert Parish"
          ],
          [
           0,
           0,
           "Derrick Alston"
          ],
          [
           -3.2,
           25.07814453529872,
           "Bobby Hurley"
          ],
          [
           0,
           0,
           "Richard Manning"
          ],
          [
           0,
           0,
           "John Starks"
          ],
          [
           0,
           0,
           "Jamie Watson"
          ],
          [
           0,
           0,
           "Greg Foster"
          ],
          [
           0,
           0,
           "Anthony Peeler"
          ],
          [
           0,
           0,
           "Rick Mahorn"
          ],
          [
           0,
           0,
           "Danny Manning"
          ],
          [
           0,
           0,
           "Kevin Gamble"
          ],
          [
           0,
           0,
           "Willie Anderson"
          ],
          [
           0,
           0,
           "Tom Gugliotta"
          ],
          [
           0,
           0,
           "Joe Wolf"
          ],
          [
           0,
           0,
           "Dana Barros"
          ],
          [
           0,
           0,
           "Terry Porter"
          ],
          [
           0,
           0,
           "Mitchell Butler"
          ],
          [
           0,
           0,
           "Mark Jackson"
          ],
          [
           0,
           0,
           "Stacey King"
          ],
          [
           0,
           0,
           "Darrell Armstrong"
          ],
          [
           0,
           0,
           "Vincent Askew"
          ],
          [
           0,
           0,
           "Chris Morris"
          ],
          [
           4.9,
           47.13590280596448,
           "Anfernee Hardaway"
          ],
          [
           0,
           0,
           "Chucky Brown"
          ],
          [
           0,
           0,
           "Clifford Robinson"
          ],
          [
           0,
           0,
           "Christian Laettner"
          ],
          [
           0,
           0,
           "Rex Chapman"
          ],
          [
           0,
           0,
           "Derrick McKey"
          ],
          [
           0,
           0,
           "Dwayne Schintzius"
          ],
          [
           0,
           0,
           "Charlie Ward"
          ],
          [
           0,
           0,
           "Terry Mills"
          ],
          [
           -0.7,
           50.64915267471579,
           "Isaiah Rider"
          ],
          [
           -4.8,
           42.72489516273469,
           "Eric Montross"
          ],
          [
           0,
           0,
           "Craig Ehlo"
          ],
          [
           0,
           0,
           "Tony Smith"
          ],
          [
           0,
           0,
           "James Robinson"
          ],
          [
           0,
           0,
           "Kendall Gill"
          ],
          [
           -2.5,
           49.155399839013924,
           "Calbert Cheaney"
          ],
          [
           0,
           0,
           "Elliot Perry"
          ],
          [
           0,
           0,
           "Toni Kukoc"
          ],
          [
           0,
           0,
           "Sasha Danilovic"
          ],
          [
           0,
           0,
           "Rod Strickland"
          ],
          [
           0,
           0,
           "Reggie Miller"
          ],
          [
           0,
           0,
           "Sean Rooks"
          ],
          [
           0,
           0,
           "Derek Strong"
          ],
          [
           0,
           0,
           "Kevin Duckworth"
          ],
          [
           5.8,
           46.608296829355716,
           "Shaquille O'Neal"
          ],
          [
           -6.4,
           6.708203932499369,
           "Sharone Wright"
          ],
          [
           0,
           0,
           "Willie Burton"
          ],
          [
           0,
           0,
           "Sam Mitchell"
          ],
          [
           0,
           0,
           "Scott Brooks"
          ],
          [
           0,
           0,
           "Jayson Williams"
          ],
          [
           0,
           0,
           "Avery Johnson"
          ],
          [
           0,
           0,
           "Chris Gatling"
          ],
          [
           0,
           0,
           "Terry Davis"
          ],
          [
           0,
           0,
           "Sherman Douglas"
          ],
          [
           0,
           0,
           "Shawn Kemp"
          ],
          [
           0,
           0,
           "Pete Chilcutt"
          ],
          [
           0,
           0,
           "Buck Williams"
          ],
          [
           -6,
           6.759807689572241,
           "Tony Dumas"
          ],
          [
           0.9,
           37.35866699977396,
           "Carlos Rogers"
          ],
          [
           0.3,
           37.868280482042884,
           "Juwan Howard"
          ],
          [
           0,
           0,
           "Robert Werdann"
          ],
          [
           0,
           0,
           "Zan Tabak"
          ],
          [
           -2.1,
           36.25748198648108,
           "Lamond Murray"
          ],
          [
           0,
           0,
           "Pervis Ellison"
          ],
          [
           1.9,
           48.275511390351944,
           "Wesley Person"
          ],
          [
           0,
           0,
           "Lucious Harris"
          ],
          [
           2.8,
           46.87545555334188,
           "Bo Outlaw"
          ],
          [
           2,
           56.17459390151388,
           "Vin Baker"
          ],
          [
           0,
           0,
           "Chuck Person"
          ],
          [
           0,
           0,
           "Andrew Lang"
          ],
          [
           -0.6,
           41.4647440604666,
           "Howard Eisley"
          ],
          [
           0,
           0,
           "Popeye Jones"
          ],
          [
           0,
           0,
           "J.R. Reid"
          ],
          [
           5.5,
           45.42319524941712,
           "Jason Kidd"
          ],
          [
           0,
           0,
           "Jon Barry"
          ],
          [
           0.1,
           41.5886402759215,
           "Jamal Mashburn"
          ],
          [
           0,
           0,
           "Melvin Booker"
          ],
          [
           0,
           0,
           "Donnie Boyce"
          ],
          [
           0,
           0,
           "Matt Bullard"
          ],
          [
           -0.5,
           44.79222402753998,
           "Alan Henderson"
          ],
          [
           0,
           0,
           "Reggie Jordan"
          ],
          [
           0,
           0,
           "Thomas Hamilton"
          ],
          [
           -0.2,
           12.029339133967419,
           "Eric Williams"
          ],
          [
           0,
           0,
           "George Zidek"
          ],
          [
           -4.8,
           29.578342301983948,
           "Jason Caffey"
          ],
          [
           0,
           0,
           "John Amaechi"
          ],
          [
           0,
           0,
           "Donny Marshall"
          ],
          [
           -1.3,
           28.994654679785377,
           "Bob Sura"
          ],
          [
           0,
           0,
           "Loren Meyer"
          ],
          [
           -2.3,
           41.26000888673353,
           "Cherokee Parks"
          ],
          [
           0.7,
           51.955221104331756,
           "Antonio McDyess"
          ],
          [
           0,
           0,
           "Michael Curry"
          ],
          [
           1.3,
           40.32784397906737,
           "Theo Ratliff"
          ],
          [
           -0.5,
           30.589077571359798,
           "Don Reid"
          ],
          [
           0,
           0,
           "Lou Roe"
          ],
          [
           -1.1,
           33.19312177746061,
           "Andrew DeClercq"
          ],
          [
           -1.9,
           44.061056122915055,
           "Joe Smith"
          ],
          [
           0,
           0,
           "Sam Mack"
          ],
          [
           0,
           0,
           "Eldridge Recasner"
          ],
          [
           0.3,
           39.30801444998208,
           "Travis Best"
          ],
          [
           0.3,
           29.624454987954344,
           "Fred Hoiberg"
          ],
          [
           0,
           0,
           "Eddie Johnson"
          ],
          [
           0.4,
           33.09614781209439,
           "Brent Barry"
          ],
          [
           0,
           0,
           "Keith Tower"
          ],
          [
           0,
           0,
           "Frankie King"
          ],
          [
           -3.5,
           13.71762856084582,
           "Voshon Lenard"
          ],
          [
           -16.8,
           8.562028575830222,
           "Kurt Thomas"
          ],
          [
           -3.2,
           30.110352593972276,
           "Shawn Respert"
          ],
          [
           0,
           0,
           "Jerome Allen"
          ],
          [
           -16.7,
           5.942642509860407,
           "Mark Davis"
          ],
          [
           6.8,
           56.31587993926163,
           "Kevin Garnett"
          ],
          [
           0,
           0,
           "Ed O'Bannon"
          ],
          [
           -5.9,
           10.217794934981471,
           "David Vaughn"
          ],
          [
           1,
           56.11131793141202,
           "Jerry Stackhouse"
          ],
          [
           -3.5,
           4.328202090167845,
           "Mario Bennett"
          ],
          [
           -3.8,
           34.122451064756035,
           "Chris Carr"
          ],
          [
           2,
           45.334791643210735,
           "Michael Finley"
          ],
          [
           0,
           0,
           "John Coker"
          ],
          [
           0,
           0,
           "Rumeal Robinson"
          ],
          [
           0,
           0,
           "Arvydas Sabonis"
          ],
          [
           -2.8,
           17.30717577576807,
           "Gary Trent"
          ],
          [
           0,
           0,
           "Randolph Childress"
          ],
          [
           0,
           0,
           "Tyus Edney"
          ],
          [
           -2.1,
           37.08723949464735,
           "Corliss Williamson"
          ],
          [
           -3.4,
           27.81321628291126,
           "Cory Alexander"
          ],
          [
           0,
           0,
           "Dell Demps"
          ],
          [
           -0.1,
           41.43661826613424,
           "Eric Snow"
          ],
          [
           0,
           0,
           "Jimmy King"
          ],
          [
           0,
           0,
           "Martin Lewis"
          ],
          [
           0.8,
           36.635820358405105,
           "Greg Ostertag"
          ],
          [
           -7.1,
           12.043116983018432,
           "Ashraf Amaya"
          ],
          [
           -28.9,
           3.610170817749944,
           "Cuonzo Martin"
          ],
          [
           -14.7,
           5.150728103870365,
           "Lawrence Moten"
          ],
          [
           -6.3,
           26.512921378075255,
           "Bryant Reeves"
          ],
          [
           0,
           0,
           "Bob McCann"
          ],
          [
           2.2,
           53.34733670328192,
           "Rasheed Wallace"
          ],
          [
           0,
           0,
           "Randy Brown"
          ],
          [
           0,
           0,
           "Jim Jackson"
          ],
          [
           0.1,
           40.92096039928682,
           "Damon Stoudamire"
          ],
          [
           0,
           0,
           "Jerome Kersey"
          ],
          [
           0,
           0,
           "Matt Geiger"
          ],
          [
           -0.4,
           42.723919920032266,
           "Shawn Bradley"
          ],
          [
           0,
           0,
           "Tony Massenburg"
          ],
          [
           0,
           0,
           "David Robinson"
          ],
          [
           0,
           0,
           "Hersey Hawkins"
          ],
          [
           0,
           0,
           "David Wingate"
          ],
          [
           0,
           0,
           "Acie Earl"
          ],
          [
           0,
           0,
           "B.J. Armstrong"
          ],
          [
           0,
           0,
           "Mark West"
          ],
          [
           0,
           0,
           "Elmore Spencer"
          ],
          [
           0,
           0,
           "Rex Walters"
          ],
          [
           0,
           0,
           "Glen Rice"
          ],
          [
           0,
           0,
           "Will Perdue"
          ],
          [
           0,
           0,
           "Mitch Richmond"
          ],
          [
           0,
           0,
           "Frank Brickowski"
          ],
          [
           0,
           0,
           "Eric Murdock"
          ],
          [
           0,
           0,
           "Gerald Wilkins"
          ],
          [
           0,
           0,
           "Charles Barkley"
          ],
          [
           0,
           0,
           "Kevin Willis"
          ],
          [
           0,
           0,
           "Charles Oakley"
          ],
          [
           0,
           0,
           "Spud Webb"
          ],
          [
           0,
           0,
           "Michael Jordan"
          ],
          [
           0,
           0,
           "Ricky Pierce"
          ],
          [
           0,
           0,
           "Tyrone Corbin"
          ],
          [
           0,
           0,
           "Tim Hardaway"
          ],
          [
           0,
           0,
           "Blue Edwards"
          ],
          [
           0,
           0,
           "Mark Price"
          ],
          [
           0,
           0,
           "Matt Fish"
          ],
          [
           0,
           0,
           "Otis Thorpe"
          ],
          [
           0,
           0,
           "Bimbo Coles"
          ],
          [
           0,
           0,
           "Chris Mullin"
          ],
          [
           0,
           0,
           "Dale Davis"
          ],
          [
           0,
           0,
           "Haywoode Workman"
          ],
          [
           0,
           0,
           "Malik Sealy"
          ],
          [
           0,
           0,
           "Ervin Johnson"
          ],
          [
           0,
           0,
           "Rafael Addison"
          ],
          [
           0,
           0,
           "Larry Johnson"
          ],
          [
           0,
           0,
           "Stanley Roberts"
          ],
          [
           -0.7,
           49.74019166294668,
           "Rodney Rogers"
          ],
          [
           0,
           0,
           "Corie Blount"
          ],
          [
           0,
           0,
           "Jack Haley"
          ],
          [
           0,
           0,
           "Loy Vaught"
          ],
          [
           0,
           0,
           "A.C. Green"
          ],
          [
           0,
           0,
           "Elden Campbell"
          ],
          [
           1.3,
           35.347819357540715,
           "Donyell Marshall"
          ],
          [
           -1.8,
           34.54786534650151,
           "Anthony Goldwire"
          ],
          [
           0,
           0,
           "Sean Higgins"
          ],
          [
           0,
           0,
           "John Salley"
          ],
          [
           0,
           0,
           "Tracy Moore"
          ],
          [
           0,
           0,
           "Don MacLean"
          ],
          [
           0,
           0,
           "Oliver Miller"
          ],
          [
           0,
           0,
           "Derrick Coleman"
          ],
          [
           0,
           0,
           "Bryon Russell"
          ],
          [
           0,
           0,
           "Scottie Pippen"
          ],
          [
           0,
           0,
           "Rony Seikaly"
          ],
          [
           0,
           0,
           "Pete Myers"
          ],
          [
           0,
           0,
           "Earl Cureton"
          ],
          [
           0,
           0,
           "Ennis Whatley"
          ],
          [
           6.1,
           54.55142833449304,
           "Allen Iverson"
          ],
          [
           2.3,
           39.31333531174034,
           "Marcus Camby"
          ],
          [
           1.7,
           54.57177231255487,
           "Shareef Abdur-Rahim"
          ],
          [
           2.9,
           56.99445879498577,
           "Stephon Marbury"
          ],
          [
           5.5,
           55.955949936832724,
           "Ray Allen"
          ],
          [
           2.2,
           58.36467253399097,
           "Antoine Walker"
          ],
          [
           -1.8,
           44.5754790589325,
           "Lorenzen Wright"
          ],
          [
           1.6,
           43.559614323361494,
           "Kerry Kittles"
          ],
          [
           0.1,
           40.66091489378959,
           "Samaki Walker"
          ],
          [
           -5.2,
           32.27573908268144,
           "Erick Dampier"
          ],
          [
           -6.3,
           20.009664331684004,
           "Todd Fuller"
          ],
          [
           -3.6,
           43.601376125072015,
           "Vitaly Potapenko"
          ],
          [
           -0.9,
           39.17737442283071,
           "Steve Nash"
          ],
          [
           -1.8,
           25.102523113557073,
           "Tony Delk"
          ],
          [
           -2.8,
           28.227026056600437,
           "John Wallace"
          ],
          [
           -3.5,
           29.651897072531465,
           "Walter McCarty"
          ],
          [
           0,
           0,
           "Dontae' Jones"
          ],
          [
           0,
           0,
           "Roy Rogers"
          ],
          [
           -1.6,
           42.478837868598404,
           "Derek Fisher"
          ],
          [
           1.7,
           34.00306358746709,
           "Jerome Williams"
          ],
          [
           0.7,
           11.929305651769218,
           "Brian Evans"
          ],
          [
           0,
           0,
           "Priest Lauderdale"
          ],
          [
           -5.3,
           20.208908926510603,
           "Travis Knight"
          ],
          [
           -3.4,
           30.02240829780316,
           "Othella Harrington"
          ],
          [
           -0.6,
           8.373270965797458,
           "Mark Hendrickson"
          ],
          [
           -4.6,
           24.460444258707426,
           "Jeff McInnis"
          ],
          [
           5.6,
           49.47162486382138,
           "Kobe Bryant"
          ],
          [
           3.5,
           49.51117718926374,
           "Peja Stojakovic"
          ],
          [
           2.4,
           52.81058921592648,
           "Jermaine O'Neal"
          ],
          [
           -1.8,
           24.777947184273902,
           "Zydrunas Ilgauskas"
          ],
          [
           0,
           0,
           "Efthimios Rentzias"
          ],
          [
           0,
           0,
           "Martin Muursepp"
          ],
          [
           -4.3,
           11.788977903109327,
           "Moochie Norris"
          ],
          [
           0,
           0,
           "Steve Hamer"
          ],
          [
           -4.1,
           6.267641768108106,
           "Jason Sasser"
          ],
          [
           -15.6,
           2.5658007197234416,
           "Randy Livingston"
          ],
          [
           -17.6,
           3.4868801719206384,
           "Ben Davis"
          ],
          [
           -2.6,
           36.55730661121891,
           "Malik Rose"
          ],
          [
           -9.3,
           6.739312526759187,
           "Marcus Brown"
          ],
          [
           -2.3,
           47.33097998844594,
           "Jamie Feick"
          ],
          [
           0,
           0,
           "Chris Robinson"
          ],
          [
           -7.6,
           13.784048752090222,
           "Mark Pope"
          ],
          [
           0,
           0,
           "Jeff Nordgaard"
          ],
          [
           -1.2,
           32.7219345393881,
           "Shandon Anderson"
          ],
          [
           0,
           0,
           "Reggie Geary"
          ],
          [
           -2.7,
           13.546709317518149,
           "Drew Barry"
          ],
          [
           0,
           0,
           "Walt Williams"
          ],
          [
           0,
           0,
           "Herb Williams"
          ],
          [
           0,
           0,
           "Emanual Davis"
          ],
          [
           0,
           0,
           "Horacio Llamas"
          ],
          [
           0,
           0,
           "Evric Gray"
          ],
          [
           0,
           0,
           "Darvin Ham"
          ],
          [
           -2.5,
           13.679973196854846,
           "Shawnelle Scott"
          ],
          [
           0,
           0,
           "Litterial Green"
          ],
          [
           0,
           0,
           "Stojko Vrankovic"
          ],
          [
           0,
           0,
           "Juaquin Hawkins"
          ],
          [
           0,
           0,
           "Nate Driggers"
          ],
          [
           0,
           0,
           "Amal McCaskill"
          ],
          [
           0,
           0,
           "Shane Heal"
          ],
          [
           0,
           0,
           "Dean Garrett"
          ],
          [
           0,
           0,
           "Ben Handlogten"
          ],
          [
           0,
           0,
           "Ed Stokes"
          ],
          [
           0,
           0,
           "Aleksandar Djordjevic"
          ],
          [
           0,
           0,
           "William Cunningham"
          ],
          [
           0,
           0,
           "Carl Thomas"
          ],
          [
           -6.4,
           7.340186192007209,
           "Brent Scott"
          ],
          [
           1.8,
           23.81463135693406,
           "Erick Strickland"
          ],
          [
           0,
           0,
           "Greg Dreiling"
          ],
          [
           0,
           0,
           "Devin Gray"
          ],
          [
           0,
           0,
           "Reggie Slater"
          ],
          [
           0.1,
           48.85944125755021,
           "Matt Maloney"
          ],
          [
           0,
           0,
           "Michael McDonald"
          ],
          [
           0,
           0,
           "Ray Owes"
          ],
          [
           0,
           0,
           "Henry James"
          ],
          [
           0,
           0,
           "Ira Bowman"
          ],
          [
           -0.2,
           6.056676756550023,
           "Joe Stephens"
          ],
          [
           -0.8,
           40.34538387473838,
           "Chucky Atkins"
          ],
          [
           0,
           0,
           "Kevin Salvadori"
          ],
          [
           0,
           0,
           "Gaylon Nickerson"
          ],
          [
           0,
           0,
           "Ivano Newbill"
          ],
          [
           0,
           0,
           "Matt Steigenga"
          ],
          [
           0,
           0,
           "Tony Farmer"
          ],
          [
           0,
           0,
           "James Scott"
          ],
          [
           0,
           0,
           "Mark Strickland"
          ],
          [
           1.8,
           44.26582579522639,
           "Ben Wallace"
          ],
          [
           0,
           0,
           "Jaren Jackson"
          ],
          [
           0,
           0,
           "Tim Kempton"
          ],
          [
           0,
           0,
           "Elmer Bennett"
          ],
          [
           0,
           0,
           "Dexter Boney"
          ],
          [
           0,
           0,
           "Dominique Wilkins"
          ],
          [
           0,
           0,
           "Larry Stewart"
          ],
          [
           0,
           0,
           "Donald Whiteside"
          ],
          [
           0,
           0,
           "Stephen Howard"
          ],
          [
           0,
           0,
           "Ruben Nembhard"
          ],
          [
           0,
           0,
           "Jimmy Carruth"
          ],
          [
           0,
           0,
           "Corey Beck"
          ],
          [
           0,
           0,
           "Ike Austin"
          ],
          [
           0,
           0,
           "Brett Szabo"
          ],
          [
           0,
           0,
           "Chris Jent"
          ],
          [
           0,
           0,
           "Michael Hawkins"
          ],
          [
           0,
           0,
           "Mark Bradtke"
          ],
          [
           0,
           0,
           "Xavier McDaniel"
          ],
          [
           0,
           0,
           "Lloyd Daniels"
          ],
          [
           0,
           0,
           "John Long"
          ],
          [
           -1.6,
           23.71546612093747,
           "Aaron Williams"
          ],
          [
           0,
           0,
           "Jimmy Oliver"
          ],
          [
           0,
           0,
           "Joe Courtney"
          ],
          [
           0,
           0,
           "Dragan Tarlac"
          ],
          [
           0,
           0,
           "Zeljko Rebraca"
          ],
          [
           0,
           0,
           "Lawrence Funderburke"
          ],
          [
           0,
           0,
           "Tom Chambers"
          ],
          [
           0,
           0,
           "Larry Krystkowiak"
          ],
          [
           97.4,
           0.7416198487095663,
           "Bruce Bowen"
          ],
          [
           -9.5,
           7.7864198020228335,
           "Stevin Smith"
          ],
          [
           0,
           0,
           "Mike Brown"
          ],
          [
           0,
           0,
           "Lionel Simmons"
          ],
          [
           7.6,
           57.720533608067065,
           "Tim Duncan"
          ],
          [
           -1.1,
           41.606369704649794,
           "Keith Van Horn"
          ],
          [
           2.5,
           48.53797482384282,
           "Chauncey Billups"
          ],
          [
           1.7,
           45.415948006546444,
           "Antonio Daniels"
          ],
          [
           -0.7,
           42.66725911047017,
           "Tony Battie"
          ],
          [
           -4.6,
           41.44691383766311,
           "Ron Mercer"
          ],
          [
           -2.2,
           48.5753023665319,
           "Tim Thomas"
          ],
          [
           -2.8,
           38.21400266917874,
           "Adonal Foyle"
          ],
          [
           6.7,
           56.489010730701686,
           "Tracy McGrady"
          ],
          [
           -2,
           47.10994233351035,
           "Danny Fortson"
          ],
          [
           -1.2,
           39.68349782970246,
           "Tariq Abdul-Wahad"
          ],
          [
           -1.2,
           43.28785433967974,
           "Austin Croshere"
          ],
          [
           -0.1,
           46.90900766377391,
           "Derek Anderson"
          ],
          [
           0,
           0,
           "Maurice Taylor"
          ],
          [
           -0.2,
           39.76447325607784,
           "Kelvin Cato"
          ],
          [
           -1.4,
           38.2289811530467,
           "Brevin Knight"
          ],
          [
           -8.4,
           5.73149195236284,
           "Johnny Taylor"
          ],
          [
           -2.3,
           31.715952873383294,
           "Chris Anstey"
          ],
          [
           -0.3,
           40.75021472336066,
           "Scot Pollard"
          ],
          [
           -19.6,
           3.599768511075858,
           "Paul Grant"
          ],
          [
           0,
           0,
           "Anthony Parker"
          ],
          [
           0,
           0,
           "Ed Gray"
          ],
          [
           -0.4,
           30.63720505093983,
           "Bobby Jackson"
          ],
          [
           -11.4,
           12.491864018899141,
           "Rodrick Rhodes"
          ],
          [
           0,
           0,
           "John Thomas"
          ],
          [
           0,
           0,
           "Charles Smith"
          ],
          [
           -1,
           40.32639747526836,
           "Jacque Vaughn"
          ],
          [
           0,
           0,
           "Keith Booth"
          ],
          [
           0,
           0,
           "Charles O'Bannon"
          ],
          [
           0,
           0,
           "James Cotton"
          ],
          [
           0,
           0,
           "Marko Milic"
          ],
          [
           0,
           0,
           "Bubba Wells"
          ],
          [
           0,
           0,
           "Kebu Stewart"
          ],
          [
           0,
           0,
           "James Collins"
          ],
          [
           0,
           0,
           "Marc Jackson"
          ],
          [
           0,
           0,
           "Jerald Honeycutt"
          ],
          [
           -2.9,
           25.277493282892333,
           "Anthony Johnson"
          ],
          [
           0,
           0,
           "Jason Lawson"
          ],
          [
           0.1,
           54.25151303573634,
           "Stephen Jackson"
          ],
          [
           -4.8,
           31.00387072608838,
           "Cedric Henderson"
          ],
          [
           0,
           0,
           "God Shammgod"
          ],
          [
           0,
           0,
           "Eric Washington"
          ],
          [
           -1.1,
           27.834900155500236,
           "Alvin Williams"
          ],
          [
           0,
           0,
           "Predrag Drobnjak"
          ],
          [
           -4.5,
           30.07568231423299,
           "Chris Crawford"
          ],
          [
           -2.4,
           24.2939292828476,
           "DeJuan Wheat"
          ],
          [
           -3.1,
           33.15350660186642,
           "Mark Blount"
          ],
          [
           0,
           0,
           "Jamal Robinson"
          ],
          [
           0.6,
           43.911312134042745,
           "Adrian Griffin"
          ],
          [
           0,
           0,
           "Gerard King"
          ],
          [
           -4.4,
           20.671074798697163,
           "Kevin Ollie"
          ],
          [
           -4.6,
           1.8907670401189038,
           "Etdrick Bohannon"
          ],
          [
           -6.5,
           11.102477201057429,
           "Michael Stewart"
          ],
          [
           0,
           0,
           "Keith Closs"
          ],
          [
           0,
           0,
           "Nate Huffman"
          ],
          [
           0,
           0,
           "Derek Grimm"
          ],
          [
           0,
           0,
           "Travis Williams"
          ],
          [
           0,
           0,
           "Shea Seals"
          ],
          [
           0,
           0,
           "Brandon Williams"
          ],
          [
           0,
           0,
           "Alvin Sims"
          ],
          [
           0,
           0,
           "Charles Shackleford"
          ],
          [
           -2.4,
           24.9022087373791,
           "Rick Brunson"
          ],
          [
           0,
           0,
           "Kornel David"
          ],
          [
           -3.7,
           27.03318947762792,
           "Rusty LaRue"
          ],
          [
           -1.8,
           43.103499471234,
           "Troy Hudson"
          ],
          [
           0,
           0,
           "Art Long"
          ],
          [
           -12,
           12.186262757712063,
           "Chris Garner"
          ],
          [
           -2.6,
           33.93486407811294,
           "Mikki Moore"
          ],
          [
           0,
           0,
           "Gerald Madkins"
          ],
          [
           0,
           0,
           "Steve Henson"
          ],
          [
           0,
           0,
           "Harold Ellis"
          ],
          [
           0,
           0,
           "Brian Oliver"
          ],
          [
           0,
           0,
           "Reggie Hanson"
          ],
          [
           0,
           0,
           "Larry Robinson"
          ],
          [
           -5.5,
           46.129021956536974,
           "Michael Olowokandi"
          ],
          [
           2.4,
           54.61115575899607,
           "Mike Bibby"
          ],
          [
           1.8,
           49.53629982144407,
           "Raef LaFrentz"
          ],
          [
           0.2,
           55.07549364281722,
           "Antawn Jamison"
          ],
          [
           4.4,
           48.84306501439073,
           "Vince Carter"
          ],
          [
           -0.6,
           29.096792492186026,
           "Robert Traylor"
          ],
          [
           -0.6,
           47.84973005845143,
           "Jason Williams"
          ],
          [
           0.9,
           45.46828565054987,
           "Larry Hughes"
          ],
          [
           3.8,
           54.03559012354727,
           "Dirk Nowitzki"
          ],
          [
           4.9,
           55.64687772013808,
           "Paul Pierce"
          ],
          [
           1.9,
           48.48169757753951,
           "Bonzi Wells"
          ],
          [
           -5.3,
           32.25042635377089,
           "Michael Doleac"
          ],
          [
           -1.1,
           41.469687724891294,
           "Keon Clark"
          ],
          [
           -2.2,
           51.18279333265556,
           "Michael Dickerson"
          ],
          [
           -0.8,
           50.46987550344591,
           "Matt Harpring"
          ],
          [
           -2.1,
           35.94857438063435,
           "Bryce Drew"
          ],
          [
           -1.7,
           47.120430812971136,
           "Rasho Nesterovic"
          ],
          [
           0,
           0,
           "Mirsad Turkcan"
          ],
          [
           -0.6,
           49.00309514034119,
           "Pat Garrity"
          ],
          [
           -3.4,
           30.29518663638389,
           "Roshown McLeod"
          ],
          [
           -0.8,
           51.88392493505739,
           "Ricky Davis"
          ],
          [
           -2.4,
           33.28480634363568,
           "Brian Skinner"
          ],
          [
           -1.5,
           44.58009645570543,
           "Tyronn Lue"
          ],
          [
           -2.7,
           27.938772342391854,
           "Felipe Lopez"
          ],
          [
           -1.3,
           52.74081278605147,
           "Al Harrington"
          ],
          [
           -4.3,
           7.551931320309176,
           "Sam Jacobson"
          ],
          [
           -2.3,
           29.721036321097554,
           "Vladimir Stepania"
          ],
          [
           0,
           0,
           "Corey Benjamin"
          ],
          [
           -5.3,
           21.221844092035617,
           "Nazr Mohammed"
          ],
          [
           -1.8,
           11.87756989735977,
           "Ansu Sesay"
          ],
          [
           1.9,
           45.39487856575894,
           "Ruben Patterson"
          ],
          [
           3.7,
           51.983346692314164,
           "Rashard Lewis"
          ],
          [
           -3.8,
           36.976794524854775,
           "Jelani McCoy"
          ],
          [
           0.8,
           35.20260407034301,
           "Shammond Williams"
          ],
          [
           0,
           0,
           "Bruno Sundov"
          ],
          [
           0,
           0,
           "Jerome James"
          ],
          [
           0,
           0,
           "Casey Shaw"
          ],
          [
           0,
           0,
           "DeMarco Johnson"
          ],
          [
           -0.7,
           24.41713878951969,
           "Rafer Alston"
          ],
          [
           0,
           0,
           "Korleone Young"
          ],
          [
           0.9,
           54.829037319045916,
           "Cuttino Mobley"
          ],
          [
           0,
           0,
           "Miles Simon"
          ],
          [
           -1.5,
           36.702361413583866,
           "Jahidi White"
          ],
          [
           0,
           0,
           "Sean Marks"
          ],
          [
           0,
           0,
           "Toby Bailey"
          ],
          [
           0,
           0,
           "Andrae Patterson"
          ],
          [
           0,
           0,
           "Tyson Wheeler"
          ],
          [
           0,
           0,
           "Ryan Stack"
          ],
          [
           0,
           0,
           "Cory Carr"
          ],
          [
           -1.5,
           14.294695986040871,
           "Derrick Dial"
          ],
          [
           0.2,
           29.745868060399026,
           "Greg Buckner"
          ],
          [
           -2.5,
           18.455938520342634,
           "Tremaine Fowlkes"
          ],
          [
           0.1,
           26.42032046235119,
           "Ryan Bowen"
          ],
          [
           0,
           0,
           "J.R. Henderson"
          ],
          [
           0,
           0,
           "Torraye Braggs"
          ],
          [
           0,
           0,
           "Maceo Baston"
          ],
          [
           -1.7,
           32.995454232363585,
           "Damon Jones"
          ],
          [
           0,
           0,
           "Jonathan Kerner"
          ],
          [
           2.3,
           47.58229712823877,
           "Brad Miller"
          ],
          [
           0,
           0,
           "Adonis Jordan"
          ],
          [
           0,
           0,
           "Kelly McCarty"
          ],
          [
           -10.6,
           5.187324294213087,
           "Makhtar N'diaye"
          ],
          [
           -19.8,
           2.3273733406281574,
           "Peter Aluma"
          ],
          [
           0,
           0,
           "Ike Fontaine"
          ],
          [
           0,
           0,
           "Marlon Garnett"
          ],
          [
           -3.6,
           39.44775025270769,
           "Tyrone Nesby"
          ],
          [
           0,
           0,
           "Fred Vinson"
          ],
          [
           0,
           0,
           "Andrew Gaze"
          ],
          [
           0,
           0,
           "Thurl Bailey"
          ],
          [
           0,
           0,
           "Jeff Sheppard"
          ],
          [
           -1.9,
           40.41726116401259,
           "Anthony Carter"
          ],
          [
           0,
           0,
           "Mark Macon"
          ],
          [
           0,
           0,
           "Mark Baker"
          ],
          [
           0,
           0,
           "Negele Knight"
          ],
          [
           -1.3,
           27.599728259531833,
           "Earl Boykins"
          ],
          [
           -10,
           7.031002773431397,
           "Steve Goodrich"
          ],
          [
           -25,
           2.2135943621178655,
           "Trevor Winter"
          ],
          [
           0,
           0,
           "Charles Jones"
          ],
          [
           0,
           0,
           "Gerald Brown"
          ],
          [
           0,
           0,
           "Randell Jackson"
          ],
          [
           3.6,
           54.81503747452272,
           "Elton Brand"
          ],
          [
           3.8,
           57.63287545605659,
           "Steve Francis"
          ],
          [
           4.1,
           39.77180743525079,
           "Baron Davis"
          ],
          [
           1.4,
           48.12847390059236,
           "Lamar Odom"
          ],
          [
           9.8,
           4.54789328517428,
           "Jonathan Bender"
          ],
          [
           0.9,
           42.82345541094658,
           "Wally Szczerbiak"
          ],
          [
           1.2,
           52.77166221878301,
           "Richard Hamilton"
          ],
          [
           3.9,
           54.94844553457968,
           "Andre Miller"
          ],
          [
           3.6,
           56.65571462791728,
           "Shawn Marion"
          ],
          [
           1.8,
           55.53240795547524,
           "Jason Terry"
          ],
          [
           -1.3,
           21.833498727108925,
           "Trajan Langdon"
          ],
          [
           0,
           0,
           "Aleksandar Radojevic"
          ],
          [
           2.4,
           49.46274692466372,
           "Corey Maggette"
          ],
          [
           0,
           0,
           "William Avery"
          ],
          [
           4.8,
           17.032175433572778,
           "Metta World Peace"
          ],
          [
           0,
           0,
           "Cal Bowdler"
          ],
          [
           -0.8,
           47.35625618648501,
           "James Posey"
          ],
          [
           0,
           0,
           "Quincy Lewis"
          ],
          [
           -2.1,
           40.52713083026394,
           "Dion Glover"
          ],
          [
           -1.4,
           42.24460517825525,
           "Jeff Foster"
          ],
          [
           -0.7,
           44.495168277016326,
           "Kenny Thomas"
          ],
          [
           -1.5,
           40.15167078300316,
           "Devean George"
          ],
          [
           3.8,
           45.2645372596841,
           "Andrei Kirilenko"
          ],
          [
           -8.7,
           6.398437309218556,
           "Tim James"
          ],
          [
           -1.5,
           22.251142292775285,
           "Vonteego Cummings"
          ],
          [
           -0.4,
           42.8374446794702,
           "Jumaine Jones"
          ],
          [
           0.6,
           35.94303363193861,
           "Scott Padgett"
          ],
          [
           0,
           0,
           "Leon Smith"
          ],
          [
           0,
           0,
           "John Celestand"
          ],
          [
           -5.4,
           12.989996150884727,
           "Michael Ruffin"
          ],
          [
           -5.2,
           20.205733509740917,
           "Chris Herren"
          ],
          [
           -2.6,
           36.54237266516776,
           "Evan Eschmeyer"
          ],
          [
           -3,
           16.673931749890304,
           "Calvin Booth"
          ],
          [
           -3.8,
           20.28575033531338,
           "Wang Zhi-zhi"
          ],
          [
           -4.2,
           16.780842251408806,
           "Obinna Ekezie"
          ],
          [
           0,
           0,
           "Laron Profit"
          ],
          [
           0,
           0,
           "A.J. Bramlett"
          ],
          [
           -2.9,
           46.41542487866151,
           "Gordan Giricek"
          ],
          [
           0,
           0,
           "Francisco Elson"
          ],
          [
           -2.6,
           21.62178685184615,
           "Lee Nailon"
          ],
          [
           0,
           0,
           "Ryan Robertson"
          ],
          [
           -0.1,
           24.409936501351247,
           "Todd MacCulloch"
          ],
          [
           0,
           0,
           "Lari Ketner"
          ],
          [
           0,
           0,
           "Rodney Buford"
          ],
          [
           0,
           0,
           "Tim Young"
          ],
          [
           1.9,
           37.873737602724134,
           "Manu Ginobili"
          ],
          [
           -1,
           13.306264188970058,
           "Harold Jamison"
          ],
          [
           0,
           0,
           "Wayne Turner"
          ],
          [
           -2.3,
           25.538663499355895,
           "Eddie Robinson"
          ],
          [
           0,
           0,
           "Andy Panko"
          ],
          [
           -3.3,
           29.87532426602262,
           "Raja Bell"
          ],
          [
           0,
           0,
           "Lazaro Borrell"
          ],
          [
           0,
           0,
           "Jason Miskiri"
          ],
          [
           0,
           0,
           "Ira Newble"
          ],
          [
           -4.9,
           34.74461588985162,
           "Milt Palacio"
          ],
          [
           0,
           0,
           "Rick Hughes"
          ],
          [
           0,
           0,
           "Derek Hood"
          ],
          [
           0,
           0,
           "Jamel Thomas"
          ],
          [
           -1.6,
           16.673182059822896,
           "Jermaine Jackson"
          ],
          [
           -15,
           4.370354676682432,
           "Zendon Hamilton"
          ],
          [
           -1,
           22.518732942448892,
           "Dedric Willoughby"
          ],
          [
           1,
           51.241080524646726,
           "Kenyon Martin"
          ],
          [
           -1.3,
           35.77815907319255,
           "Stromile Swift"
          ],
          [
           0,
           0,
           "Darius Miles"
          ],
          [
           -4.5,
           27.226825007701503,
           "Marcus Fizer"
          ],
          [
           3,
           47.61914880941626,
           "Mike Miller"
          ],
          [
           -0.8,
           30.395997543536335,
           "DerMarr Johnson"
          ],
          [
           -2.4,
           43.28100045054411,
           "Chris Mihm"
          ],
          [
           0.5,
           50.551442445624936,
           "Jamal Crawford"
          ],
          [
           -0.2,
           43.10371213712341,
           "Joel Przybilla"
          ],
          [
           -2.7,
           33.7192328896532,
           "Keyon Dooling"
          ],
          [
           -2.6,
           20.376416106208005,
           "Jerome Moiso"
          ],
          [
           -1.1,
           43.58615988284962,
           "Etan Thomas"
          ],
          [
           -4.5,
           36.86041236882735,
           "Courtney Alexander"
          ],
          [
           -16.2,
           7.406078584514209,
           "Mateen Cleaves"
          ],
          [
           -1.4,
           10.262796889737222,
           "Jason Collier"
          ],
          [
           0.7,
           42.02945395790909,
           "Hedo Turkoglu"
          ],
          [
           -1.4,
           52.58250659677608,
           "Desmond Mason"
          ],
          [
           -1.9,
           37.976045081077096,
           "Quentin Richardson"
          ],
          [
           -1.6,
           52.86065014103903,
           "Jamaal Magloire"
          ],
          [
           1.1,
           39.931462115312904,
           "Speedy Claxton"
          ],
          [
           -1.8,
           54.26742423713632,
           "Morris Peterson"
          ],
          [
           0,
           0,
           "Donnell Harvey"
          ],
          [
           -1.3,
           49.187108744737884,
           "DeShawn Stevenson"
          ],
          [
           0,
           0,
           "Dalibor Bagaric"
          ],
          [
           -1.8,
           16.76141402149592,
           "Jake Tsakalidis"
          ],
          [
           -11.7,
           3.0713731999438507,
           "Mamadou N'diaye"
          ],
          [
           -1,
           47.775952807523055,
           "Primoz Brezec"
          ],
          [
           0,
           0,
           "Erick Barkley"
          ],
          [
           -4.5,
           25.236448508721132,
           "Mark Madsen"
          ],
          [
           0.2,
           36.76114343524518,
           "Eduardo Najera"
          ],
          [
           -0.7,
           41.95519435461276,
           "Marko Jaric"
          ],
          [
           -3.6,
           23.190048152889485,
           "Dan Langhi"
          ],
          [
           0,
           0,
           "A.J. Guyton"
          ],
          [
           -2.2,
           30.775071080340336,
           "Jake Voskuhl"
          ],
          [
           0,
           0,
           "Khalid El-Amin"
          ],
          [
           0,
           0,
           "Mike Smith"
          ],
          [
           0,
           0,
           "Soumaila Samake"
          ],
          [
           -1.3,
           34.36880853331986,
           "Eddie House"
          ],
          [
           0,
           0,
           "Lavor Postell"
          ],
          [
           -5.4,
           36.99213880452616,
           "Hanno Mottola"
          ],
          [
           0,
           0,
           "Olumide Oyedeji"
          ],
          [
           1,
           53.40564888973197,
           "Michael Redd"
          ],
          [
           -2.8,
           3.788139384975162,
           "Brian Cardinal"
          ],
          [
           0,
           0,
           "Jabari Smith"
          ],
          [
           0.2,
           25.744157913333794,
           "Jason Hart"
          ],
          [
           -0.5,
           3.623994113313831,
           "Kaniel Dickens"
          ],
          [
           0,
           0,
           "Igor Rakocevic"
          ],
          [
           0,
           0,
           "Ernest Brown"
          ],
          [
           0,
           0,
           "Dan McClintock"
          ],
          [
           0,
           0,
           "Chris Porter"
          ],
          [
           -2.4,
           4.931193229500006,
           "Daniel Santiago"
          ],
          [
           0,
           0,
           "Ruben Garces"
          ],
          [
           -5.1,
           20.518568825984598,
           "Slava Medvedenko"
          ],
          [
           0,
           0,
           "Paul McPherson"
          ],
          [
           0,
           0,
           "Ruben Wolkowyski"
          ],
          [
           0.5,
           12.378677904633717,
           "Eddie Gill"
          ],
          [
           0,
           0,
           "Terrance Roberson"
          ],
          [
           0,
           0,
           "Garth Joseph"
          ],
          [
           -3.8,
           24.813974557360474,
           "Malik Allen"
          ],
          [
           0,
           0,
           "David Vanterpool"
          ],
          [
           0,
           0,
           "Mike Penberthy"
          ],
          [
           0,
           0,
           "Ime Udoka"
          ],
          [
           4,
           5.983867199952444,
           "Pepe Sanchez"
          ],
          [
           -8.9,
           6.684933308069221,
           "Sean Colson"
          ],
          [
           -2.3,
           26.70986085075448,
           "Kwame Brown"
          ],
          [
           0.4,
           52.751508667209414,
           "Tyson Chandler"
          ],
          [
           5.5,
           55.99205300754742,
           "Pau Gasol"
          ],
          [
           -2.8,
           39.117259617718624,
           "Eddy Curry"
          ],
          [
           3.1,
           53.63574678638613,
           "Jason Richardson"
          ],
          [
           2.6,
           44.13724806404076,
           "Shane Battier"
          ],
          [
           0,
           0,
           "Eddie Griffin"
          ],
          [
           -0.2,
           38.467692071832566,
           "DeSagana Diop"
          ],
          [
           0,
           0,
           "Rodney White"
          ],
          [
           2.5,
           48.573912751599494,
           "Joe Johnson"
          ],
          [
           0,
           0,
           "Kedrick Brown"
          ],
          [
           0.5,
           44.429663514368414,
           "Vladimir Radmanovic"
          ],
          [
           3.1,
           55.30659996781578,
           "Richard Jefferson"
          ],
          [
           -0.3,
           50.1615556643399,
           "Troy Murphy"
          ],
          [
           -1.8,
           40.057666765135856,
           "Steven Hunter"
          ],
          [
           0,
           0,
           "Kirk Haston"
          ],
          [
           -1.9,
           10.738870207490777,
           "Michael Bradley"
          ],
          [
           -1.5,
           47.1664605413635,
           "Jason Collins"
          ],
          [
           1.6,
           49.24291827258006,
           "Zach Randolph"
          ],
          [
           -0.1,
           43.22840501337055,
           "Brendan Haywood"
          ],
          [
           0,
           0,
           "Joseph Forte"
          ],
          [
           0,
           0,
           "Jeryl Sasser"
          ],
          [
           0,
           0,
           "Brandon Armstrong"
          ],
          [
           0,
           0,
           "Raul Lopez"
          ],
          [
           2.1,
           48.74011010793195,
           "Gerald Wallace"
          ],
          [
           -0.5,
           50.34544004508581,
           "Samuel Dalembert"
          ],
          [
           3.5,
           37.09535011291847,
           "Jamaal Tinsley"
          ],
          [
           2.4,
           48.0870738002082,
           "Tony Parker"
          ],
          [
           0,
           0,
           "Will Solomon"
          ],
          [
           0,
           0,
           "Alton Ford"
          ],
          [
           0,
           0,
           "Mike James"
          ],
          [
           0,
           0,
           "Maurice Evans"
          ],
          [
           0,
           0,
           "Ratko Varda"
          ],
          [
           0,
           0,
           "Antonis Fotsis"
          ],
          [
           -2.8,
           45.517267785607146,
           "Trenton Hassell"
          ],
          [
           4.7,
           54.23745630711925,
           "Gilbert Arenas"
          ],
          [
           0,
           0,
           "Omar Cook"
          ],
          [
           0,
           0,
           "Terence Morris"
          ],
          [
           -2.6,
           30.282035378532054,
           "Brian Scalabrine"
          ],
          [
           0,
           0,
           "Jeff Trepagnier"
          ],
          [
           -6.2,
           12.285560630268364,
           "Damone Brown"
          ],
          [
           2,
           47.998749983723535,
           "Mehmet Okur"
          ],
          [
           -0.7,
           42.59485493186554,
           "Earl Watson"
          ],
          [
           0,
           0,
           "Jamison Brewer"
          ],
          [
           0.3,
           50.373438768197374,
           "Bobby Simmons"
          ],
          [
           0,
           0,
           "Sean Lampley"
          ],
          [
           -2.2,
           22.407402050810507,
           "Loren Woods"
          ],
          [
           0,
           0,
           "Ken Johnson"
          ],
          [
           -5.8,
           4.997499374687305,
           "Ruben Boumtje-Boumtje"
          ],
          [
           -2,
           41.606770282411134,
           "Jarron Collins"
          ],
          [
           0,
           0,
           "Kenny Satterfield"
          ],
          [
           0,
           0,
           "Alvin Jones"
          ],
          [
           0,
           0,
           "Charlie Bell"
          ],
          [
           -2.9,
           37.98914318591563,
           "Carlos Arroyo"
          ],
          [
           -26,
           2.4186773244895647,
           "Paul Shirley"
          ],
          [
           0,
           0,
           "Joe Crispin"
          ],
          [
           0,
           0,
           "Tang Hamilton"
          ],
          [
           0,
           0,
           "Victor Alexander"
          ],
          [
           -2.7,
           32.81717030255153,
           "Oscar Torres"
          ],
          [
           0,
           0,
           "Dean Oliver"
          ],
          [
           -4.7,
           32.525246604240685,
           "Tierre Brown"
          ],
          [
           0.4,
           32.07052125135059,
           "Chris Andersen"
          ],
          [
           -1.1,
           16.403810532921916,
           "Mike Wilks"
          ],
          [
           0,
           0,
           "Geno Carlisle"
          ],
          [
           0,
           0,
           "Norman Richardson"
          ],
          [
           0,
           0,
           "Mengke Bateer"
          ],
          [
           4.4,
           44.14702707997448,
           "Yao Ming"
          ],
          [
           0,
           0,
           "Jay Williams"
          ],
          [
           -0.7,
           50.76938053590963,
           "Mike Dunleavy"
          ],
          [
           -0.2,
           47.30706430685939,
           "Drew Gooden"
          ],
          [
           0,
           0,
           "Nikoloz Tskitishvili"
          ],
          [
           0,
           0,
           "Dajuan Wagner"
          ],
          [
           -4.2,
           16.2949890048035,
           "Nene"
          ],
          [
           -1,
           41.697661804950165,
           "Chris Wilcox"
          ],
          [
           4.8,
           51.73771996007043,
           "Amar'e Stoudemire"
          ],
          [
           0.6,
           52.03735837517763,
           "Caron Butler"
          ],
          [
           -1.6,
           36.14772929705723,
           "Jared Jeffries"
          ],
          [
           -3.3,
           22.528315516256423,
           "Melvin Ely"
          ],
          [
           0,
           0,
           "Marcus Haislip"
          ],
          [
           0.3,
           47.648539676818324,
           "Fred Jones"
          ],
          [
           -4.6,
           22.40026041515292,
           "Bostjan Nachbar"
          ],
          [
           -2.4,
           36.34090899615295,
           "Jiri Welsch"
          ],
          [
           -1.4,
           38.40499099509503,
           "Juan Dixon"
          ],
          [
           0,
           0,
           "Curtis Borchardt"
          ],
          [
           -6.2,
           17.811840631070865,
           "Ryan Humphrey"
          ],
          [
           -3.4,
           33.33574157967196,
           "Kareem Rush"
          ],
          [
           0,
           0,
           "Qyntel Woods"
          ],
          [
           0,
           0,
           "Casey Jacobsen"
          ],
          [
           0.3,
           53.83418987966662,
           "Tayshaun Prince"
          ],
          [
           -2.6,
           33.78261387163521,
           "Nenad Krstic"
          ],
          [
           0,
           0,
           "Frank Williams"
          ],
          [
           -0.9,
           31.3898338107526,
           "John Salmons"
          ],
          [
           0,
           0,
           "Chris Jefferies"
          ],
          [
           -3.4,
           17.061750594043186,
           "Dan Dickau"
          ],
          [
           0,
           0,
           "Robert Archibald"
          ],
          [
           0,
           0,
           "Roger Mason Jr."
          ],
          [
           0,
           0,
           "Vincent Yarbrough"
          ],
          [
           0.7,
           35.37951384629246,
           "Dan Gadzuric"
          ],
          [
           4.6,
           50.56423307701473,
           "Carlos Boozer"
          ],
          [
           0,
           0,
           "David Andersen"
          ],
          [
           0,
           0,
           "Tito Maddox"
          ],
          [
           0,
           0,
           "Juan Carlos Navarro"
          ],
          [
           -9,
           14.584466622632005,
           "Mario Kasun"
          ],
          [
           -4.1,
           29.650182686339946,
           "Flip Murray"
          ],
          [
           -3.2,
           27.64169555822025,
           "Lonny Baxter"
          ],
          [
           -3.1,
           25.116063916678247,
           "Matt Barnes"
          ],
          [
           0,
           0,
           "Jamal Sampson"
          ],
          [
           0,
           0,
           "Chris Owens"
          ],
          [
           -1.2,
           31.203605560896325,
           "Darius Songaila"
          ],
          [
           -1.5,
           34.624654029559196,
           "Rasual Butler"
          ],
          [
           0,
           0,
           "Tamar Slay"
          ],
          [
           0,
           0,
           "Luis Scola"
          ],
          [
           0,
           0,
           "Randy Holcomb"
          ],
          [
           -6.2,
           10.489677465648455,
           "Corsley Edwards"
          ],
          [
           0,
           0,
           "J.R. Bremer"
          ],
          [
           0,
           0,
           "Predrag Savovic"
          ],
          [
           0,
           0,
           "Junior Harrington"
          ],
          [
           0,
           0,
           "Cezary Trybanski"
          ],
          [
           -2,
           21.22164775255053,
           "Jannero Pargo"
          ],
          [
           5.6,
           1.795828499606797,
           "Guy Rucker"
          ],
          [
           0,
           0,
           "Maurice Carter"
          ],
          [
           0,
           0,
           "Pat Burke"
          ],
          [
           -2,
           49.57206874843938,
           "Smush Parker"
          ],
          [
           -3.5,
           35.34814940936329,
           "Mike Batiste"
          ],
          [
           -1.4,
           24.885906319307182,
           "Devin Brown"
          ],
          [
           -7.1,
           4.378355855797928,
           "Maurice Baker"
          ],
          [
           0,
           0,
           "Adam Harrington"
          ],
          [
           0,
           0,
           "Richie Frahm"
          ],
          [
           -3.7,
           37.32191045485212,
           "Reggie Evans"
          ],
          [
           0,
           0,
           "Antoine Rigaudeau"
          ],
          [
           11.8,
           54.45851632205931,
           "LeBron James"
          ],
          [
           -2.7,
           41.06425858740579,
           "Darko Milicic"
          ],
          [
           2.3,
           51.32470165524589,
           "Carmelo Anthony"
          ],
          [
           3.6,
           50.25460177933957,
           "Chris Bosh"
          ],
          [
           8.2,
           43.93884006965443,
           "Dwyane Wade"
          ],
          [
           0.3,
           45.636498551050124,
           "Chris Kaman"
          ],
          [
           1.8,
           54.35702959752924,
           "Kirk Hinrich"
          ],
          [
           0.3,
           47.517698457171406,
           "T.J. Ford"
          ],
          [
           0,
           0,
           "Michael Sweetney"
          ],
          [
           -2.6,
           40.32726538377392,
           "Jarvis Hayes"
          ],
          [
           -0.2,
           36.27081011869834,
           "Mickael Pietrus"
          ],
          [
           -3.2,
           38.05318646315969,
           "Nick Collison"
          ],
          [
           -3.6,
           22.423202269078338,
           "Marcus Banks"
          ],
          [
           -1.5,
           45.72829175320974,
           "Luke Ridnour"
          ],
          [
           -5.1,
           7.338028799798124,
           "Reece Gaines"
          ],
          [
           0,
           0,
           "Troy Bell"
          ],
          [
           0,
           0,
           "Zarko Cabarkapa"
          ],
          [
           1.4,
           50.2593938151533,
           "David West"
          ],
          [
           -2.1,
           32.4498587567547,
           "Sasha Pavlovic"
          ],
          [
           -4.4,
           31.097025581235258,
           "Dahntay Jones"
          ],
          [
           -0.8,
           48.0372251488364,
           "Boris Diaw"
          ],
          [
           0,
           0,
           "Zoran Planinic"
          ],
          [
           -0.9,
           27.019869232350718,
           "Travis Outlaw"
          ],
          [
           -0.1,
           39.18137312550442,
           "Brian Cook"
          ],
          [
           0.4,
           43.91129315639281,
           "Carlos Delfino"
          ],
          [
           0,
           0,
           "Ndudi Ebi"
          ],
          [
           -0.7,
           46.40603409040682,
           "Kendrick Perkins"
          ],
          [
           0.2,
           49.20326886159771,
           "Leandro Barbosa"
          ],
          [
           2.2,
           43.762883817225756,
           "Josh Howard"
          ],
          [
           0,
           0,
           "Maciej Lampe"
          ],
          [
           -0.5,
           42.041190119532416,
           "Jason Kapono"
          ],
          [
           -1.1,
           36.50566166135508,
           "Luke Walton"
          ],
          [
           -6.2,
           22.57325113196296,
           "Travis Hansen"
          ],
          [
           -1,
           42.20448238437868,
           "Steve Blake"
          ],
          [
           0,
           0,
           "Slavko Vranes"
          ],
          [
           0,
           0,
           "Derrick Zimmerman"
          ],
          [
           -4.7,
           42.91967303385861,
           "Willie Green"
          ],
          [
           -2.5,
           32.99722210530259,
           "Zaza Pachulia"
          ],
          [
           -1.4,
           43.731167375225645,
           "Keith Bogans"
          ],
          [
           0.7,
           41.34628157404242,
           "Matt Bonner"
          ],
          [
           0.3,
           49.09263352751276,
           "Mo Williams"
          ],
          [
           0,
           0,
           "James Lang"
          ],
          [
           -0.1,
           42.09097290393749,
           "James Jones"
          ],
          [
           -0.1,
           47.83455863703563,
           "Kyle Korver"
          ],
          [
           0,
           0,
           "Brandon Hunter"
          ],
          [
           -14,
           8.975429423338657,
           "Andreas Glyniadakis"
          ],
          [
           0,
           0,
           "Jerome Beasley"
          ],
          [
           0,
           0,
           "Theron Smith"
          ],
          [
           0.5,
           42.02757031600411,
           "Marquis Daniels"
          ],
          [
           -0.5,
           49.90435852708659,
           "Udonis Haslem"
          ],
          [
           -1,
           41.23635127732169,
           "Quinton Ross"
          ],
          [
           0,
           0,
           "Kirk Penney"
          ],
          [
           0,
           0,
           "Alex Scales"
          ],
          [
           -11.8,
           9.14904366587022,
           "Britton Johnsen"
          ],
          [
           -3.8,
           16.28869751289731,
           "Ronald Dupree"
          ],
          [
           0,
           0,
           "Yuta Tabuse"
          ],
          [
           0,
           0,
           "Desmond Penigar"
          ],
          [
           -1.7,
           4.110555518012949,
           "Josh Davis"
          ],
          [
           -4.1,
           22.901819432816534,
           "Linton Johnson"
          ],
          [
           0,
           0,
           "Hiram Fuller"
          ],
          [
           -0.6,
           35.712509479639344,
           "Matt Carroll"
          ],
          [
           0,
           0,
           "Alex Garcia"
          ],
          [
           -3.9,
           10.626852779633301,
           "Melvin Sanders"
          ],
          [
           0,
           0,
           "Brandin Knight"
          ],
          [
           -2.6,
           37.17037350722575,
           "Keith McLeod"
          ],
          [
           -4.9,
           35.03538687289367,
           "Josh Powell"
          ],
          [
           0,
           0,
           "Lynn Greer"
          ],
          [
           0,
           0,
           "Desmond Ferguson"
          ],
          [
           5.3,
           54.17487117351245,
           "Dwight Howard"
          ],
          [
           -1.1,
           52.135576464956536,
           "Emeka Okafor"
          ],
          [
           1.1,
           54.76285237275356,
           "Ben Gordon"
          ],
          [
           0,
           35.50692420735243,
           "Shaun Livingston"
          ],
          [
           2.8,
           49.94263375780927,
           "Devin Harris"
          ],
          [
           0,
           0,
           "Josh Childress"
          ],
          [
           1.7,
           56.638488091873796,
           "Luol Deng"
          ],
          [
           -7.7,
           24.51128991573746,
           "Rafael Araujo"
          ],
          [
           3.2,
           57.17490708344002,
           "Andre Iguodala"
          ],
          [
           -3.8,
           11.728952780761503,
           "Luke Jackson"
          ],
          [
           -2.3,
           27.17756427643949,
           "Andris Biedrins"
          ],
          [
           0,
           0,
           "Robert Swift"
          ],
          [
           -3.5,
           26.656706473231086,
           "Sebastian Telfair"
          ],
          [
           0.4,
           45.39563121417446,
           "Kris Humphries"
          ],
          [
           0.4,
           49.63023272159823,
           "Al Jefferson"
          ],
          [
           0,
           0,
           "Kirk Snyder"
          ],
          [
           2.8,
           51.42791071004149,
           "Josh Smith"
          ],
          [
           1.7,
           44.35752472805488,
           "JR Smith"
          ],
          [
           0.8,
           56.096152571574194,
           "Dorell Wright"
          ],
          [
           1.2,
           44.28097785731476,
           "Jameer Nelson"
          ],
          [
           0,
           0,
           "Pavel Podkolzin"
          ],
          [
           -1.8,
           10.232708992897873,
           "Viktor Khryapa"
          ],
          [
           0,
           0,
           "Sergei Monia"
          ],
          [
           1.7,
           46.3857736811622,
           "Delonte West"
          ],
          [
           1,
           28.365383833116027,
           "Tony Allen"
          ],
          [
           0.5,
           44.12399196204566,
           "Kevin Martin"
          ],
          [
           -0.7,
           23.97623823705462,
           "Sasha Vujacic"
          ],
          [
           -1.4,
           45.60157161034398,
           "Beno Udrih"
          ],
          [
           -5.9,
           26.500220124871927,
           "David Harrison"
          ],
          [
           -2.6,
           36.32418845159063,
           "Anderson Varejao"
          ],
          [
           0,
           0,
           "Jackson Vroman"
          ],
          [
           0,
           0,
           "Peter John Ramos"
          ],
          [
           0,
           0,
           "Lionel Chalmers"
          ],
          [
           0,
           0,
           "Donta Smith"
          ],
          [
           0,
           0,
           "Andre Emmett"
          ],
          [
           -6.8,
           23.87868645186889,
           "Antonio Burks"
          ],
          [
           -3.8,
           23.207039162001408,
           "Royal Ivey"
          ],
          [
           -1.7,
           38.598726231142265,
           "Chris Duhon"
          ],
          [
           -8.3,
           17.83615242515417,
           "Justin Reed"
          ],
          [
           -0.4,
           50.988707900213846,
           "Trevor Ariza"
          ],
          [
           -1.8,
           36.09741449651664,
           "Bernard Robinson"
          ],
          [
           0,
           0,
           "Ha Ha"
          ],
          [
           -2.1,
           5.850925852660697,
           "Pape Sow"
          ],
          [
           0,
           0,
           "Vassilis Spanoulis"
          ],
          [
           -5.4,
           12.126898476802179,
           "Matt Freije"
          ],
          [
           0,
           0,
           "Luis Flores"
          ],
          [
           -2.6,
           15.398593009319617,
           "DJ Mbenga"
          ],
          [
           0,
           0,
           "Horace Jenkins"
          ],
          [
           -4.1,
           3.4544657088084256,
           "Tony Bobbitt"
          ],
          [
           -2,
           43.53732115476709,
           "Andres Nocioni"
          ],
          [
           0,
           0,
           "Gerald Fitch"
          ],
          [
           -5.2,
           16.459748884273203,
           "Andre Brown"
          ],
          [
           0,
           0,
           "John Edwards"
          ],
          [
           3.1,
           5.640035460881429,
           "Desmon Farmer"
          ],
          [
           0,
           0,
           "Ibrahim Kutluay"
          ],
          [
           -7.1,
           12.256222909200044,
           "James Thomas"
          ],
          [
           0,
           0,
           "Erik Daniels"
          ],
          [
           0,
           0,
           "Awvee Storey"
          ],
          [
           -9.6,
           14.234172496730078,
           "Earl Barron"
          ],
          [
           -0.2,
           5.02908208987154,
           "Andre Barrett"
          ],
          [
           0,
           22.720438669474078,
           "Damien Wilkins"
          ],
          [
           0,
           0,
           "Jackie Butler"
          ],
          [
           0,
           0,
           "Kasib Powell"
          ],
          [
           0,
           0,
           "Billy Thomas"
          ],
          [
           0,
           0,
           "Jared Reiner"
          ],
          [
           0,
           0,
           "Mark Jones"
          ],
          [
           3.1,
           47.21620484537062,
           "Andrew Bogut"
          ],
          [
           1.3,
           38.723442512256064,
           "Marvin Williams"
          ],
          [
           7.1,
           53.66230831163835,
           "Chris Paul"
          ],
          [
           1.6,
           51.40855959857269,
           "Raymond Felton"
          ],
          [
           -1.6,
           33.757320193799,
           "Martell Webster"
          ],
          [
           0,
           42.98321377778388,
           "Charlie Villanueva"
          ],
          [
           -4.2,
           27.30732502461565,
           "Channing Frye"
          ],
          [
           -1.1,
           14.673445403176448,
           "Ike Diogu"
          ],
          [
           3.8,
           52.929197991278876,
           "Deron Williams"
          ],
          [
           0,
           0,
           "Andrew Bynum"
          ],
          [
           0,
           0,
           "Yaroslav Korolev"
          ],
          [
           -3.1,
           18.198534739551615,
           "Sean May"
          ],
          [
           0,
           0,
           "Rashad McCants"
          ],
          [
           -3.3,
           37.31029795288869,
           "Antoine Wright"
          ],
          [
           -6.5,
           18.183371524555064,
           "Joey Graham"
          ],
          [
           4.8,
           49.23636867194818,
           "Danny Granger"
          ],
          [
           0,
           0,
           "Gerald Green"
          ],
          [
           -1.9,
           41.87684324301439,
           "Hakim Warrick"
          ],
          [
           0,
           0,
           "Julius Hodge"
          ],
          [
           0.7,
           33.404365982108835,
           "Nate Robinson"
          ],
          [
           -1.4,
           52.11959004699356,
           "Jarrett Jack"
          ],
          [
           -1.1,
           37.54341930796035,
           "Francisco Garcia"
          ],
          [
           0.8,
           37.13154543870575,
           "Luther Head"
          ],
          [
           -4.7,
           29.890020631196176,
           "Johan Petro"
          ],
          [
           -0.6,
           37.518240008472276,
           "Jason Maxiell"
          ],
          [
           0,
           0,
           "Linas Kleiza"
          ],
          [
           -2.3,
           33.751345652185925,
           "Ian Mahinmi"
          ],
          [
           0,
           0,
           "Wayne Simien"
          ],
          [
           0.8,
           53.14188555179427,
           "David Lee"
          ],
          [
           -3.5,
           20.03971057675235,
           "Salim Stoudamire"
          ],
          [
           0,
           0,
           "Daniel Ewing"
          ],
          [
           0.2,
           44.49938201818088,
           "Brandon Bass"
          ],
          [
           1.1,
           36.93133267746143,
           "CJ Miles"
          ],
          [
           2,
           44.85836971328015,
           "Ersan Ilyasova"
          ],
          [
           0.7,
           38.18138726308055,
           "Ronny Turiaf"
          ],
          [
           -1.4,
           36.82716388754366,
           "Travis Diener"
          ],
          [
           -1.4,
           23.506275757763074,
           "Von Wafer"
          ],
          [
           0.8,
           56.80381442591096,
           "Monta Ellis"
          ],
          [
           -1.8,
           9.845895930115589,
           "Roko Ukic"
          ],
          [
           0,
           0,
           "Chris Taft"
          ],
          [
           0,
           0,
           "Mile Ilic"
          ],
          [
           0,
           0,
           "Martynas Andriuskevicius"
          ],
          [
           4,
           41.00884051030948,
           "Lou Williams"
          ],
          [
           0,
           0,
           "Bracey Wright"
          ],
          [
           0,
           0,
           "Mickael Gelabale"
          ],
          [
           -4.8,
           25.02025845856379,
           "Andray Blatche"
          ],
          [
           -0.1,
           49.33452138209106,
           "Ryan Gomes"
          ],
          [
           0,
           0,
           "Robert Whaley"
          ],
          [
           -10.9,
           7.791127432321121,
           "Orien Greene"
          ],
          [
           0,
           0,
           "Dijon Thompson"
          ],
          [
           0,
           0,
           "Lawrence Roberts"
          ],
          [
           1,
           48.216283556491575,
           "Amir Johnson"
          ],
          [
           0.1,
           32.98408707240508,
           "Marcin Gortat"
          ],
          [
           0,
           0,
           "Alex Acker"
          ],
          [
           0,
           0,
           "Uros Slokar"
          ],
          [
           0,
           0,
           "Fabricio Oberto"
          ],
          [
           0,
           0,
           "Arvydas Macijauskas"
          ],
          [
           -3.5,
           27.164468213703962,
           "Ronnie Price"
          ],
          [
           0,
           0,
           "Sarunas Jasikevicius"
          ],
          [
           2,
           40.16997220146748,
           "Jose Calderon"
          ],
          [
           0,
           0,
           "Donell Taylor"
          ],
          [
           -3.8,
           6.085912695178374,
           "Shavlik Randolph"
          ],
          [
           0,
           0,
           "Deng Gai"
          ],
          [
           0,
           0,
           "Rawle Marshall"
          ],
          [
           0,
           0,
           "Alan Anderson"
          ],
          [
           0,
           0,
           "Eddie Basden"
          ],
          [
           -1.2,
           19.401331569422418,
           "James Singleton"
          ],
          [
           0,
           0,
           "Matt Walsh"
          ],
          [
           -1.4,
           16.606725545192013,
           "Anthony Roberson"
          ],
          [
           0,
           0,
           "Luke Schenscher"
          ],
          [
           0,
           0,
           "Will Bynum"
          ],
          [
           -5.7,
           7.243157690768116,
           "Dwayne Jones"
          ],
          [
           0,
           0,
           "Kevin Burleson"
          ],
          [
           0,
           0,
           "Devin Green"
          ],
          [
           4.2,
           11.305603330502402,
           "Stephen Graham"
          ],
          [
           0,
           0,
           "Esteban Batista"
          ],
          [
           0,
           0,
           "Sharrod Ford"
          ],
          [
           -3.5,
           4.501666358138951,
           "Jawad Williams"
          ],
          [
           0,
           0,
           "Will Conroy"
          ],
          [
           0,
           0,
           "Anthony Grundy"
          ],
          [
           0,
           0,
           "Aaron Miles"
          ],
          [
           0,
           0,
           "Noel Felix"
          ],
          [
           0,
           0,
           "Roger Powell"
          ],
          [
           -0.5,
           48.729405906495515,
           "Kelenna Azubuike"
          ],
          [
           -1.5,
           29.286401850233037,
           "Chuck Hayes"
          ],
          [
           0,
           0,
           "Boniface Ndong"
          ],
          [
           0,
           0,
           "Keith Langford"
          ],
          [
           0,
           0,
           "John Lucas III"
          ],
          [
           -8.3,
           14.492814311467148,
           "Andre Owens"
          ],
          [
           0,
           0,
           "Jamario Moon"
          ],
          [
           -1.4,
           48.50822954235013,
           "Andrea Bargnani"
          ],
          [
           2.1,
           56.669406796495316,
           "LaMarcus Aldridge"
          ],
          [
           -4.7,
           15.52170523278074,
           "Adam Morrison"
          ],
          [
           -6,
           31.831849878175003,
           "Tyrus Thomas"
          ],
          [
           -3.5,
           22.641223465175198,
           "Shelden Williams"
          ],
          [
           4.7,
           49.17867085095601,
           "Brandon Roy"
          ],
          [
           -0.8,
           49.94256701452179,
           "Randy Foye"
          ],
          [
           1.9,
           49.21495368957152,
           "Rudy Gay"
          ],
          [
           0,
           0,
           "Patrick O'Bryant"
          ],
          [
           0,
           0,
           "Mouhamed Sene"
          ],
          [
           1.8,
           42.52242545606577,
           "JJ Redick"
          ],
          [
           -6.1,
           18.31169935678644,
           "Hilton Armstrong"
          ],
          [
           0.1,
           48.4607917117883,
           "Thabo Sefolosha"
          ],
          [
           2.4,
           42.20710840604933,
           "Ronnie Brewer"
          ],
          [
           0,
           0,
           "Cedric Simmons"
          ],
          [
           -1.3,
           29.274818530607494,
           "Rodney Carney"
          ],
          [
           -6.4,
           22.67572123072016,
           "Shawne Williams"
          ],
          [
           0,
           0,
           "Oleksiy Pecherov"
          ],
          [
           0,
           0,
           "Quincy Douby"
          ],
          [
           -2.4,
           9.518228126424933,
           "Renaldo Balkman"
          ],
          [
           2.2,
           44.24179773321457,
           "Rajon Rondo"
          ],
          [
           0,
           0,
           "Marcus Williams"
          ],
          [
           -2,
           32.33362542823384,
           "Josh Boone"
          ],
          [
           4.1,
           38.85843966673559,
           "Kyle Lowry"
          ],
          [
           -0.8,
           39.602125363840386,
           "Shannon Brown"
          ],
          [
           0.4,
           28.820478830165193,
           "Jordan Farmar"
          ],
          [
           0,
           0,
           "Sergio Rodriguez"
          ],
          [
           0,
           0,
           "Maurice Ager"
          ],
          [
           -5.8,
           21.68740033598617,
           "Mardy Collins"
          ],
          [
           -5.4,
           21.848035762206795,
           "Joel Freeland"
          ],
          [
           0,
           0,
           "James White"
          ],
          [
           -0.4,
           34.07303430378149,
           "Steve Novak"
          ],
          [
           -4.2,
           25.980280983853888,
           "Solomon Jones"
          ],
          [
           18.2,
           2.8254793103707785,
           "Paul Davis"
          ],
          [
           0,
           0,
           "P.J. Tucker"
          ],
          [
           -0.6,
           38.21227987615146,
           "Craig Smith"
          ],
          [
           0,
           0,
           "Bobby Jones"
          ],
          [
           0,
           0,
           "Kosta Perovic"
          ],
          [
           0,
           0,
           "David Noel"
          ],
          [
           0,
           0,
           "James Augustine"
          ],
          [
           -2.2,
           30.258249563824194,
           "Daniel Gibson"
          ],
          [
           0,
           0,
           "Marcus Vinicius"
          ],
          [
           0,
           0,
           "Alexander Johnson"
          ],
          [
           0,
           0,
           "Dee Brown"
          ],
          [
           1.9,
           51.03869447128649,
           "Paul Millsap"
          ],
          [
           -0.3,
           35.0260855173208,
           "Leon Powe"
          ],
          [
           -4.6,
           34.97484810546001,
           "Ryan Hollins"
          ],
          [
           0,
           0,
           "Cheikh Samb"
          ],
          [
           0,
           0,
           "Guillermo Diaz"
          ],
          [
           0,
           0,
           "Hassan Adams"
          ],
          [
           0,
           0,
           "Damir Markota"
          ],
          [
           0,
           0,
           "Will Blalock"
          ],
          [
           -1,
           31.019133880021005,
           "Chris Quinn"
          ],
          [
           0,
           0,
           "Allan Ray"
          ],
          [
           -8.5,
           8.00312438988674,
           "Lou Amundson"
          ],
          [
           0,
           0,
           "Tarence Kinsey"
          ],
          [
           0,
           0,
           "Jorge Garbajosa"
          ],
          [
           0,
           0,
           "Pooh Jeter"
          ],
          [
           0,
           0,
           "Justin Williams"
          ],
          [
           -3.6,
           23.284257915309798,
           "Yakhouba Diawara"
          ],
          [
           -5.5,
           16.810760442843357,
           "Pops Mensah-Bonsu"
          ],
          [
           0,
           0,
           "Robert Hite"
          ],
          [
           -1.3,
           39.31365326872243,
           "J.J. Barea"
          ],
          [
           0,
           0,
           "Darius Washington"
          ],
          [
           0,
           0,
           "Ivan McFarlin"
          ],
          [
           0,
           0,
           "Walter Herrmann"
          ],
          [
           0,
           0,
           "Mike Hall"
          ],
          [
           0,
           0,
           "Kevinn Pinkney"
          ],
          [
           0,
           0,
           "Mike Harris"
          ],
          [
           0,
           0,
           "Chris McCray"
          ],
          [
           0,
           0,
           "Cedric Bozeman"
          ],
          [
           0,
           0,
           "Steven Smith"
          ],
          [
           0,
           0,
           "Renaldo Major"
          ],
          [
           -0.1,
           9.15323258016897,
           "Dontell Jefferson"
          ],
          [
           0,
           0,
           "Jeremy Richardson"
          ],
          [
           0,
           0,
           "Lance Allred"
          ],
          [
           0,
           0,
           "Walker Russell"
          ],
          [
           0,
           0,
           "Randolph Morris"
          ],
          [
           0,
           0,
           "Greg Oden"
          ],
          [
           10.2,
           55.87223520378141,
           "Kevin Durant"
          ],
          [
           3.4,
           18.654311387272728,
           "Al Horford"
          ],
          [
           4.6,
           52.50309514685777,
           "Mike Conley"
          ],
          [
           0,
           0,
           "Jeff Green"
          ],
          [
           0,
           0,
           "Yi Jianlian"
          ],
          [
           -0.1,
           35.881146395658405,
           "Corey Brewer"
          ],
          [
           2.5,
           33.893337595069184,
           "Brandan Wright"
          ],
          [
           2.9,
           39.69292548217289,
           "Joakim Noah"
          ],
          [
           0.6,
           49.69490248841756,
           "Spencer Hawes"
          ],
          [
           -1,
           15.28746763419851,
           "Acie Law"
          ],
          [
           -0.1,
           52.1307171125304,
           "Thaddeus Young"
          ],
          [
           0,
           0,
           "Julian Wright"
          ],
          [
           -4.1,
           51.51747276410209,
           "Al Thornton"
          ],
          [
           0.6,
           40.53965137163034,
           "Rodney Stuckey"
          ],
          [
           -1.3,
           45.097339167627176,
           "Nick Young"
          ],
          [
           0.4,
           10.349798709797838,
           "Sean Williams"
          ],
          [
           -1.2,
           44.33625303668917,
           "Marco Belinelli"
          ],
          [
           0,
           0,
           "Javaris Crittenton"
          ],
          [
           -0.4,
           30.774177486977617,
           "Jason Smith"
          ],
          [
           -4.8,
           20.994046775217015,
           "Daequan Cook"
          ],
          [
           1.8,
           46.25575639852838,
           "Jared Dudley"
          ],
          [
           0.5,
           32.85364008244247,
           "Wilson Chandler"
          ],
          [
           0.9,
           42.670032419329964,
           "Rudy Fernandez"
          ],
          [
           0,
           0,
           "Morris Almond"
          ],
          [
           0.7,
           54.031688233233375,
           "Aaron Brooks"
          ],
          [
           1.4,
           48.210925456096874,
           "Arron Afflalo"
          ],
          [
           0,
           0,
           "Tiago Splitter"
          ],
          [
           -4,
           9.771557364787524,
           "Alando Tucker"
          ],
          [
           0.7,
           38.298281075439014,
           "Carl Landry"
          ],
          [
           0,
           0,
           "Gabe Pruitt"
          ],
          [
           0,
           0,
           "Marcus Williams"
          ],
          [
           0,
           0,
           "Nick Fazekas"
          ],
          [
           -1.9,
           47.935129776257725,
           "Glen Davis"
          ],
          [
           0,
           0,
           "Jermareo Davidson"
          ],
          [
           -1.4,
           38.56738691347043,
           "Josh McRoberts"
          ],
          [
           8.4,
           4.121083999790989,
           "Kyrylo Fesenko"
          ],
          [
           0,
           0,
           "Sun Sun"
          ],
          [
           -5.8,
           14.955935276671934,
           "Chris Richard"
          ],
          [
           0,
           0,
           "Derrick Byars"
          ],
          [
           -4.4,
           17.415988822535084,
           "Stephane Lasme"
          ],
          [
           -2.9,
           27.575139769969127,
           "Dominic McGuire"
          ],
          [
           2.8,
           49.68822798208848,
           "Marc Gasol"
          ],
          [
           -1.3,
           17.633160049558132,
           "Aaron Gray"
          ],
          [
           0,
           0,
           "JamesOn Curry"
          ],
          [
           0,
           0,
           "Taurean Green"
          ],
          [
           0,
           0,
           "Demetris Nichols"
          ],
          [
           -0.4,
           41.3143639266862,
           "Ramon Sessions"
          ],
          [
           0,
           0,
           "DJ Strawberry"
          ],
          [
           -5.5,
           22.318975484252565,
           "Joel Anthony"
          ],
          [
           0,
           0,
           "Mustafa Shakur"
          ],
          [
           0,
           0,
           "Coby Karl"
          ],
          [
           0,
           0,
           "Darryl Watkins"
          ],
          [
           -0.4,
           42.28409866604703,
           "C.J. Watson"
          ],
          [
           0,
           36.91090624734104,
           "Anthony Tolliver"
          ],
          [
           0,
           0,
           "Trey Johnson"
          ],
          [
           -7,
           3.644630754045367,
           "Courtney Sims"
          ],
          [
           -2.1,
           11.92560271013587,
           "Mario West"
          ],
          [
           0,
           0,
           "Thomas Gardner"
          ],
          [
           0,
           0,
           "Ivan Johnson"
          ],
          [
           0,
           0,
           "Andre Ingram"
          ],
          [
           0,
           0,
           "Eric Dawson"
          ],
          [
           0,
           0,
           "Carldell Johnson"
          ],
          [
           0,
           0,
           "Blake Ahearn"
          ],
          [
           0,
           0,
           "Mike Taylor"
          ],
          [
           -2,
           28.834383410551144,
           "Michael Beasley"
          ],
          [
           -0.5,
           53.97439207624297,
           "O.J. Mayo"
          ],
          [
           -3.1,
           17.632025786430013,
           "Derrick Rose"
          ],
          [
           5.5,
           37.572640755386495,
           "Russell Westbrook"
          ],
          [
           8.9,
           52.88194398847304,
           "Kevin Love"
          ],
          [
           0,
           0,
           "Danilo Gallinari"
          ],
          [
           -0.5,
           45.3572118484665,
           "Eric Gordon"
          ],
          [
           0,
           0,
           "Joe Alexander"
          ],
          [
           -0.6,
           35.019803921019744,
           "D.J. Augustin"
          ],
          [
           3.7,
           23.095670589961227,
           "Brook Lopez"
          ],
          [
           -1.8,
           41.05780477976544,
           "Jerryd Bayless"
          ],
          [
           -0.9,
           40.70962212221246,
           "Jason Thompson"
          ],
          [
           -0.8,
           41.87937041869983,
           "Brandon Rush"
          ],
          [
           0,
           0,
           "Anthony Randolph"
          ],
          [
           1.2,
           51.02564714598601,
           "Robin Lopez"
          ],
          [
           -2.8,
           36.05560520455412,
           "Marreese Speights"
          ],
          [
           1.4,
           44.01069945668519,
           "Roy Hibbert"
          ],
          [
           1.6,
           37.860423487682624,
           "JaVale McGee"
          ],
          [
           -0.9,
           43.12128244846157,
           "JJ Hickson"
          ],
          [
           -2.6,
           30.831450392956427,
           "Alexis Ajinca"
          ],
          [
           1.4,
           28.19136983783039,
           "Ryan Anderson"
          ],
          [
           -1.1,
           41.50447767008603,
           "Courtney Lee"
          ],
          [
           -1.2,
           36.71847854509593,
           "Kosta Koufos"
          ],
          [
           0.9,
           45.99766298411257,
           "Serge Ibaka"
          ],
          [
           3.4,
           54.3689096206033,
           "Nicolas Batum"
          ],
          [
           2.3,
           35.69530781489354,
           "George Hill"
          ],
          [
           -3.2,
           34.074990829052325,
           "Darrell Arthur"
          ],
          [
           0,
           0,
           "Donte Greene"
          ],
          [
           -3.8,
           33.13356807428578,
           "DJ White"
          ],
          [
           0,
           0,
           "J.R. Giddens"
          ],
          [
           -5.7,
           29.789399680647023,
           "Nikola Pekovic"
          ],
          [
           0,
           0,
           "Walter Sharpe"
          ],
          [
           0.3,
           2.5232254490367425,
           "Joey Dorsey"
          ],
          [
           0.4,
           42.72056491511635,
           "Mario Chalmers"
          ],
          [
           2.5,
           53.57644071791257,
           "DeAndre Jordan"
          ],
          [
           -0.7,
           31.168226342436185,
           "Omer Asik"
          ],
          [
           -1.1,
           31.76092987723549,
           "Luc Mbah a Moute"
          ],
          [
           0,
           0,
           "Kyle Weaver"
          ],
          [
           0,
           0,
           "Sonny Weems"
          ],
          [
           0,
           0,
           "Chris Douglas-Roberts"
          ],
          [
           0,
           0,
           "Nathan Jawai"
          ],
          [
           0,
           0,
           "Sean Singletary"
          ],
          [
           0,
           0,
           "Patrick Ewing"
          ],
          [
           1.9,
           41.85594342503822,
           "Goran Dragic"
          ],
          [
           0,
           0,
           "Henry Walker"
          ],
          [
           0,
           0,
           "Malik Hairston"
          ],
          [
           -3.5,
           22.041400439476003,
           "Darnell Jackson"
          ],
          [
           0,
           0,
           "Sasha Kaun"
          ],
          [
           0,
           0,
           "Joe Crawford"
          ],
          [
           -4.8,
           18.236867421060367,
           "Semih Erden"
          ],
          [
           -1,
           43.08627004820294,
           "Anthony Morrow"
          ],
          [
           -5.3,
           22.783217507630482,
           "Bobby Brown"
          ],
          [
           0,
           0,
           "Othello Hunter"
          ],
          [
           0,
           0,
           "Steven Hill"
          ],
          [
           -1.1,
           12.976388814561123,
           "Hamed Haddadi"
          ],
          [
           0,
           0,
           "Rob Kurz"
          ],
          [
           0,
           0,
           "DeMarcus Nelson"
          ],
          [
           -1.7,
           17.955639782530724,
           "Othyus Jeffers"
          ],
          [
           -1.9,
           4.640043103248073,
           "Oliver Lafayette"
          ],
          [
           -4.1,
           27.98100546203919,
           "Chris Hunter"
          ],
          [
           -2.9,
           28.12060336005138,
           "Gary Forbes"
          ],
          [
           21.2,
           2.262741699796952,
           "Trey Gilder"
          ],
          [
           -4.4,
           19.742087022399634,
           "Cartier Martin"
          ],
          [
           0,
           0,
           "Greg Stiemsma"
          ],
          [
           4,
           48.53646395580677,
           "Blake Griffin"
          ],
          [
           -1.5,
           27.747612509907945,
           "Hasheem Thabeet"
          ],
          [
           8.8,
           54.59729846796451,
           "James Harden"
          ],
          [
           1.2,
           51.86344248762002,
           "Tyreke Evans"
          ],
          [
           1.8,
           48.19356803557918,
           "Ricky Rubio"
          ],
          [
           0,
           0,
           "Jonny Flynn"
          ],
          [
           7.4,
           53.34658689488326,
           "Stephen Curry"
          ],
          [
           -1.6,
           21.40031152421228,
           "Jordan Hill"
          ],
          [
           -0.9,
           45.8287209800434,
           "DeMar DeRozan"
          ],
          [
           3.3,
           34.246265003160126,
           "Brandon Jennings"
          ],
          [
           -2.4,
           17.832507769052928,
           "Terrence Williams"
          ],
          [
           -1.1,
           46.1873539690971,
           "Gerald Henderson"
          ],
          [
           -1.9,
           39.18424428261951,
           "Tyler Hansbrough"
          ],
          [
           -0.7,
           36.919890754623445,
           "Earl Clark"
          ],
          [
           -3.8,
           12.174700543887434,
           "Austin Daye"
          ],
          [
           -3.5,
           29.638376023887226,
           "James Johnson"
          ],
          [
           2.1,
           42.788803052512115,
           "Jrue Holiday"
          ],
          [
           2,
           50.12653987659631,
           "Ty Lawson"
          ],
          [
           -0.1,
           50.417473822739964,
           "Jeff Teague"
          ],
          [
           -4.5,
           31.02762210246433,
           "Eric Maynor"
          ],
          [
           0.1,
           48.700171115373614,
           "Darren Collison"
          ],
          [
           -0.3,
           35.8166627888938,
           "Omri Casspi"
          ],
          [
           0,
           0,
           "Byron Mullens"
          ],
          [
           0,
           0,
           "Rodrigue Beaubois"
          ],
          [
           -0.9,
           41.740228397394645,
           "Taj Gibson"
          ],
          [
           -1.9,
           18.654802777479773,
           "DeMarre Carroll"
          ],
          [
           -0.5,
           40.753343421123134,
           "Wayne Ellington"
          ],
          [
           -5.6,
           25.611878754463387,
           "Toney Douglas"
          ],
          [
           0,
           0,
           "Christian Eyenga"
          ],
          [
           -3.2,
           13.55501137341216,
           "Victor Claver"
          ],
          [
           -1,
           19.212842926889632,
           "Jeff Ayres"
          ],
          [
           0,
           0,
           "Jermaine Taylor"
          ],
          [
           -1.4,
           44.83358116412295,
           "Dante Cunningham"
          ],
          [
           -8.9,
           2.579728667902886,
           "DaJuan Summers"
          ],
          [
           -0.9,
           39.7121727769543,
           "Sam Young"
          ],
          [
           -8.4,
           13.43012782267291,
           "DeJuan Blair"
          ],
          [
           0,
           0,
           "Jon Brockman"
          ],
          [
           -0.1,
           29.86014623764145,
           "Jonas Jerebko"
          ],
          [
           0,
           0,
           "Derrick Brown"
          ],
          [
           -1,
           40.782716927639825,
           "Jodie Meeks"
          ],
          [
           0.6,
           41.84136709047638,
           "Patrick Beverley"
          ],
          [
           0.3,
           41.550050140362885,
           "Marcus Thornton"
          ],
          [
           -2.5,
           27.400486613683835,
           "Chase Budinger"
          ],
          [
           0,
           28.94713572474256,
           "Nick Calathes"
          ],
          [
           2.8,
           46.91018013182213,
           "Danny Green"
          ],
          [
           0,
           0,
           "Taylor Griffin"
          ],
          [
           -1,
           23.833379953334358,
           "AJ Price"
          ],
          [
           -1.2,
           30.33630937781765,
           "Nando De Colo"
          ],
          [
           4,
           39.08277540468857,
           "Patty Mills"
          ],
          [
           -2,
           11.464147009990189,
           "Lester Hudson"
          ],
          [
           0,
           0,
           "Garrett Temple"
          ],
          [
           0,
           0,
           "Marcus Landry"
          ],
          [
           0,
           0,
           "Jerel McNeal"
          ],
          [
           0,
           0,
           "Antonio Anderson"
          ],
          [
           0,
           0,
           "Garret Siler"
          ],
          [
           0,
           0,
           "Larry Owens"
          ],
          [
           0.3,
           47.19860520538006,
           "Wesley Matthews"
          ],
          [
           -2.6,
           50.40368703444888,
           "Alonzo Gee"
          ],
          [
           0,
           0,
           "Dionte Christmas"
          ],
          [
           -2.4,
           27.324256623008065,
           "Reggie Williams"
          ],
          [
           0,
           0,
           "Cedric Jackson"
          ],
          [
           -4.7,
           15.876030150303098,
           "Mickell Gladness"
          ],
          [
           0.3,
           28.160581196653826,
           "Sundiata Gaines"
          ],
          [
           0,
           0,
           "Shane Edwards"
          ],
          [
           0,
           0,
           "Zabian Dowdell"
          ],
          [
           -12.6,
           11.71117699749547,
           "Terrel Harris"
          ],
          [
           3.5,
           52.76376597628338,
           "John Wall"
          ],
          [
           -3.3,
           49.567748250920886,
           "Evan Turner"
          ],
          [
           -0.1,
           34.43271215961168,
           "Derrick Favors"
          ],
          [
           -3.3,
           30.863948764429562,
           "Wesley Johnson"
          ],
          [
           3.3,
           47.39024161153855,
           "DeMarcus Cousins"
          ],
          [
           -1.7,
           36.224945364578126,
           "Ekpe Udoh"
          ],
          [
           2.1,
           48.10597675965015,
           "Greg Monroe"
          ],
          [
           0.1,
           48.38272763428422,
           "Al-Farouq Aminu"
          ],
          [
           2.6,
           53.78621260756952,
           "Gordon Hayward"
          ],
          [
           4.9,
           53.093627991815836,
           "Paul George"
          ],
          [
           1.5,
           18.166360853695135,
           "Cole Aldrich"
          ],
          [
           0,
           0,
           "Xavier Henry"
          ],
          [
           1.5,
           42.8956097209648,
           "Ed Davis"
          ],
          [
           2.5,
           46.435869756040965,
           "Patrick Patterson"
          ],
          [
           -3,
           24.175021544285478,
           "Larry Sanders"
          ],
          [
           -0.4,
           28.80231472179507,
           "Luke Babbitt"
          ],
          [
           -3.8,
           35.14451118833025,
           "Kevin Seraphin"
          ],
          [
           2.1,
           52.910994446649084,
           "Eric Bledsoe"
          ],
          [
           -0.1,
           50.359937781269444,
           "Avery Bradley"
          ],
          [
           0,
           0,
           "James Anderson"
          ],
          [
           0,
           0,
           "Craig Brackins"
          ],
          [
           -2.8,
           10.897476772170702,
           "Elliot Williams"
          ],
          [
           -1,
           29.780614500040123,
           "Trevor Booker"
          ],
          [
           14,
           0.6244997998398398,
           "Damion James"
          ],
          [
           0,
           0,
           "Dominique Jones"
          ],
          [
           -2,
           16.441056332648856,
           "Quincy Pondexter"
          ],
          [
           -0.6,
           43.12244195311764,
           "Jordan Crawford"
          ],
          [
           -1.1,
           41.2980023729962,
           "Greivis Vasquez"
          ],
          [
           0,
           0,
           "Daniel Orton"
          ],
          [
           -8.5,
           11.86753273993095,
           "Lazar Hayward"
          ],
          [
           0,
           0,
           "Tibor Pleiss"
          ],
          [
           -24.3,
           1.7146428199482247,
           "Dexter Pittman"
          ],
          [
           4.1,
           33.7965481472098,
           "Hassan Whiteside"
          ],
          [
           0,
           0,
           "Armon Johnson"
          ],
          [
           0,
           0,
           "Nemanja Bjelica"
          ],
          [
           0,
           0,
           "Darington Hobson"
          ],
          [
           0,
           0,
           "Andy Rautins"
          ],
          [
           -1.4,
           17.949791085135224,
           "Landry Fields"
          ],
          [
           -1.2,
           37.04465773450566,
           "Lance Stephenson"
          ],
          [
           -2.3,
           18.42118345818205,
           "Jarvis Varnado"
          ],
          [
           0,
           0,
           "Devin Ebanks"
          ],
          [
           -0.2,
           10.371435130523983,
           "Jerome Jordan"
          ],
          [
           0,
           0,
           "Gani Lawal"
          ],
          [
           0,
           0,
           "Solomon Alabi"
          ],
          [
           0,
           0,
           "Luke Harangody"
          ],
          [
           0,
           0,
           "Pape Sy"
          ],
          [
           0,
           0,
           "Willie Warren"
          ],
          [
           2.2,
           14.665208260823745,
           "Jeremy Evans"
          ],
          [
           -21.1,
           1.711724276862369,
           "Hamady Ndiaye"
          ],
          [
           0,
           0,
           "Derrick Caracter"
          ],
          [
           -2,
           4.081870486268115,
           "Ryan Reid"
          ],
          [
           0,
           0,
           "Ben Uzoh"
          ],
          [
           -3,
           16.222309741012005,
           "Donald Sloan"
          ],
          [
           -2.5,
           26.212719558768928,
           "Timofey Mozgov"
          ],
          [
           0,
           0,
           "Gary Neal"
          ],
          [
           -0.2,
           45.32135258352292,
           "Jeremy Lin"
          ],
          [
           0,
           0,
           "Sherron Collins"
          ],
          [
           0,
           0,
           "Samardo Samuels"
          ],
          [
           -1.4,
           31.724858812399308,
           "Ish Smith"
          ],
          [
           -4.3,
           7.921805349792432,
           "Jeff Adrien"
          ],
          [
           0,
           0,
           "Jerome Dyson"
          ],
          [
           0,
           0,
           "Elijah Millsap"
          ],
          [
           0,
           0,
           "Marcus Cousin"
          ],
          [
           0,
           0,
           "Manny Harris"
          ],
          [
           -4.2,
           11.784877315158313,
           "Chris Johnson"
          ],
          [
           0,
           0,
           "Justin Dentmon"
          ],
          [
           -9.6,
           6.498589590570149,
           "Lance Thomas"
          ],
          [
           0,
           0,
           "Jerry Smith"
          ],
          [
           -7.2,
           7.627472276798736,
           "Luke Zeller"
          ],
          [
           0,
           0,
           "Arinze Onuaku"
          ],
          [
           0,
           0,
           "Courtney Fortson"
          ],
          [
           7.3,
           43.94798061344799,
           "Kyrie Irving"
          ],
          [
           -2.9,
           28.36044781028678,
           "Derrick Williams"
          ],
          [
           2.2,
           42.77499269433018,
           "Enes Freedom"
          ],
          [
           -0.7,
           48.336132102875894,
           "Tristan Thompson"
          ],
          [
           2.4,
           41.560076997041286,
           "Jonas Valanciunas"
          ],
          [
           0,
           0,
           "Jan Vesely"
          ],
          [
           -2.4,
           38.66380736554537,
           "Bismack Biyombo"
          ],
          [
           -2.8,
           33.76075137394501,
           "Brandon Knight"
          ],
          [
           4,
           53.71359232075248,
           "Kemba Walker"
          ],
          [
           -4.7,
           22.56021572000882,
           "Jimmer Fredette"
          ],
          [
           1.8,
           51.63734113991541,
           "Klay Thompson"
          ],
          [
           -2.3,
           25.554647326856223,
           "Alec Burks"
          ],
          [
           -0.3,
           50.80047571955729,
           "Markieff Morris"
          ],
          [
           0.1,
           45.221713073846836,
           "Marcus Morris Sr."
          ],
          [
           9.4,
           49.74414538415551,
           "Kawhi Leonard"
          ],
          [
           1.9,
           45.13116070595426,
           "Nikola Vucevic"
          ],
          [
           -1.5,
           36.2812623815655,
           "Iman Shumpert"
          ],
          [
           0,
           0,
           "Chris Singleton"
          ],
          [
           1.9,
           51.652524946350205,
           "Tobias Harris"
          ],
          [
           -4.5,
           23.381474147994457,
           "Donatas Motiejunas"
          ],
          [
           0,
           0,
           "Nolan Smith"
          ],
          [
           -0.1,
           45.67170896736841,
           "Kenneth Faried"
          ],
          [
           0.7,
           40.97452460574338,
           "Nikola Mirotic"
          ],
          [
           2.7,
           49.236284046084045,
           "Reggie Jackson"
          ],
          [
           -1.1,
           17.793538152936307,
           "MarShon Brooks"
          ],
          [
           -3.3,
           17.426273267684056,
           "Jordan Hamilton"
          ],
          [
           0,
           0,
           "JaJuan Johnson"
          ],
          [
           -3.1,
           44.88139926517443,
           "Norris Cole"
          ],
          [
           -1.3,
           44.751796984404216,
           "Cory Joseph"
          ],
          [
           4.6,
           50.134552290145464,
           "Jimmy Butler"
          ],
          [
           -1.7,
           43.05645518773381,
           "Bojan Bogdanovic"
          ],
          [
           0,
           0,
           "Justin Harper"
          ],
          [
           -1.4,
           48.3468199574698,
           "Kyle Singler"
          ],
          [
           -1.6,
           32.525938367196574,
           "Shelvin Mack"
          ],
          [
           0,
           0,
           "Tyler Honeycutt"
          ],
          [
           0,
           0,
           "Jordan Williams"
          ],
          [
           0,
           0,
           "Trey Thompkins"
          ],
          [
           1.7,
           52.75015007877542,
           "Chandler Parsons"
          ],
          [
           0,
           0,
           "Jeremy Tyler"
          ],
          [
           -2.8,
           28.705632432213246,
           "Jon Leuer"
          ],
          [
           0,
           0,
           "Darius Morris"
          ],
          [
           1.6,
           32.95767487753543,
           "Davis Bertans"
          ],
          [
           0,
           0,
           "Malcolm Lee"
          ],
          [
           0,
           0,
           "Charles Jenkins"
          ],
          [
           0,
           0,
           "Josh Harrellson"
          ],
          [
           0,
           0,
           "Andrew Goudelock"
          ],
          [
           0,
           0,
           "Travis Leslie"
          ],
          [
           0,
           0,
           "Keith Benson"
          ],
          [
           0,
           0,
           "Josh Selby"
          ],
          [
           0,
           32.71159325580657,
           "Lavoy Allen"
          ],
          [
           1.2,
           11.638585251939643,
           "Vernon Macklin"
          ],
          [
           41.5,
           1.1832159566199232,
           "DeAndre Liggins"
          ],
          [
           -1.5,
           22.456365096188943,
           "E'Twaun Moore"
          ],
          [
           3.2,
           41.54581808076476,
           "Isaiah Thomas"
          ],
          [
           -3.9,
           7.210871422142174,
           "Edwin Ubiles"
          ],
          [
           -2.6,
           11.07828205694967,
           "Dwight Buycks"
          ],
          [
           0,
           0,
           "Cory Higgins"
          ],
          [
           0,
           0,
           "D.J. Kennedy"
          ],
          [
           0,
           0,
           "Mychel Thompson"
          ],
          [
           0,
           0,
           "Dennis Horner"
          ],
          [
           -0.2,
           11.202975795147779,
           "Chris Wright"
          ],
          [
           0,
           0,
           "Jeff Foote"
          ],
          [
           0,
           0,
           "Xavier Silas"
          ],
          [
           -2.9,
           10.957797832289707,
           "Julyan Stone"
          ],
          [
           -7.6,
           20.59069369075911,
           "Jeremy Pargo"
          ],
          [
           -9.1,
           7.919911615668448,
           "Malcolm Thomas"
          ],
          [
           0,
           0,
           "Brad Wanamaker"
          ],
          [
           -5.5,
           13.854241227869537,
           "Greg Smith"
          ],
          [
           0,
           0,
           "Gustavo Ayon"
          ],
          [
           0,
           0,
           "Josh Akognon"
          ],
          [
           9.4,
           43.01027009137852,
           "Anthony Davis"
          ],
          [
           -2.4,
           34.338947761009365,
           "Michael Kidd-Gilchrist"
          ],
          [
           2.9,
           55.02410078017332,
           "Bradley Beal"
          ],
          [
           -0.1,
           37.20517437131561,
           "Dion Waiters"
          ],
          [
           -2.1,
           23.67294517657938,
           "Thomas Robinson"
          ],
          [
           4.4,
           51.72776494946085,
           "Damian Lillard"
          ],
          [
           -0.2,
           44.21500499453404,
           "Terrence Ross"
          ],
          [
           2.1,
           51.44793484679438,
           "Andre Drummond"
          ],
          [
           -0.5,
           51.32708836472219,
           "Harrison Barnes"
          ],
          [
           -1.2,
           45.349660050177555,
           "Austin Rivers"
          ],
          [
           2,
           15.925974590795597,
           "Meyers Leonard"
          ],
          [
           1.6,
           44.35493208201316,
           "Jeremy Lamb"
          ],
          [
           0,
           0,
           "Kendall Marshall"
          ],
          [
           0.2,
           30.975366556884087,
           "John Henson"
          ],
          [
           0.7,
           37.618213673698015,
           "Maurice Harkless"
          ],
          [
           0,
           0,
           "Royce White"
          ],
          [
           0.9,
           41.602584054358935,
           "Tyler Zeller"
          ],
          [
           -0.6,
           35.64907665938446,
           "Terrence Jones"
          ],
          [
           -4.9,
           22.183251940747258,
           "Andrew Nicholson"
          ],
          [
           -0.6,
           42.86274606228584,
           "Evan Fournier"
          ],
          [
           0,
           0,
           "Jared Sullinger"
          ],
          [
           0,
           0,
           "Fab Melo"
          ],
          [
           2.2,
           3.5962943891363093,
           "John Jenkins"
          ],
          [
           0,
           0,
           "Jared Cunningham"
          ],
          [
           0,
           0,
           "Tony Wroten"
          ],
          [
           -1.3,
           44.31386163869416,
           "Miles Plumlee"
          ],
          [
           0,
           0,
           "Arnett Moultrie"
          ],
          [
           0,
           0,
           "Perry Jones III"
          ],
          [
           0,
           0,
           "Marquis Teague"
          ],
          [
           -1.8,
           22.441590852700262,
           "Festus Ezeli"
          ],
          [
           -2.4,
           26.818059835367155,
           "Tomas Satoransky"
          ],
          [
           0,
           0,
           "Bernard James"
          ],
          [
           2.2,
           48.04362600803566,
           "Jae Crowder"
          ],
          [
           5.5,
           52.990549471894795,
           "Draymond Green"
          ],
          [
           0,
           0,
           "Orlando Johnson"
          ],
          [
           -0.1,
           29.59549515269736,
           "Quincy Acy"
          ],
          [
           0,
           0,
           "Quincy Miller"
          ],
          [
           -0.3,
           29.816885596364134,
           "Khris Middleton"
          ],
          [
           0.8,
           48.51156219569382,
           "Will Barton"
          ],
          [
           0,
           0,
           "Tyshawn Taylor"
          ],
          [
           0,
           0,
           "Doron Lamb"
          ],
          [
           -1.6,
           38.494350234807186,
           "Mike Scott"
          ],
          [
           0,
           0,
           "Kim English"
          ],
          [
           0,
           0,
           "Justin Hamilton"
          ],
          [
           0,
           0,
           "Darius Miller"
          ],
          [
           0,
           0,
           "Kevin Murphy"
          ],
          [
           -4.5,
           17.146865602785834,
           "Kostas Papanikolaou"
          ],
          [
           0.4,
           27.645765197102666,
           "Kyle O'Quinn"
          ],
          [
           0,
           0,
           "Kris Joseph"
          ],
          [
           0,
           0,
           "Furkan Aldemir"
          ],
          [
           0,
           0,
           "Tornike Shengelia"
          ],
          [
           0,
           0,
           "Darius Johnson-Odom"
          ],
          [
           -4.1,
           27.23582199971207,
           "Robbie Hummel"
          ],
          [
           -3.5,
           33.66479367727255,
           "Robert Sacre"
          ],
          [
           0,
           0,
           "Ognjen Kuzmic"
          ],
          [
           -2.6,
           27.425960937282273,
           "Hollis Thompson"
          ],
          [
           -2,
           14.957049619939522,
           "Viacheslav Kravtsov"
          ],
          [
           0,
           0,
           "Mirza Teletovic"
          ],
          [
           0,
           0,
           "Chris Copeland"
          ],
          [
           0,
           0,
           "Pablo Prigioni"
          ],
          [
           -1.9,
           25.76929697657014,
           "Alexey Shved"
          ],
          [
           -2.1,
           36.37980208852159,
           "Kent Bazemore"
          ],
          [
           0,
           0,
           "Maalik Wayns"
          ],
          [
           0,
           0,
           "Chris Smith"
          ],
          [
           0,
           0,
           "Brian Roberts"
          ],
          [
           -4.3,
           16.21331757126428,
           "Henry Sims"
          ],
          [
           0,
           0,
           "Kevin Jones"
          ],
          [
           0,
           0,
           "Scott Machado"
          ],
          [
           -4.2,
           14.152738250953417,
           "Ben Hansbrough"
          ],
          [
           0,
           0,
           "Tony Mitchell"
          ],
          [
           -0.5,
           20.630882999361248,
           "Willie Reed"
          ],
          [
           -2,
           29.272085679021917,
           "Chris Johnson"
          ],
          [
           -4.6,
           32.366211805935365,
           "Diante Garrett"
          ],
          [
           0,
           0,
           "DeQuan Jones"
          ],
          [
           -1.4,
           25.640852819930405,
           "Justin Holiday"
          ],
          [
           0,
           0,
           "Chris Wright"
          ],
          [
           -2.5,
           38.02788450597798,
           "JaMychal Green"
          ],
          [
           0,
           0,
           "James Nunnally"
          ],
          [
           -4.9,
           15.62167297912317,
           "Jorge Gutierrez"
          ],
          [
           -11.9,
           4.257346591481601,
           "Toure' Murry"
          ],
          [
           0,
           0,
           "Tim Ohlbrecht"
          ],
          [
           0,
           0,
           "Glen Rice Jr."
          ],
          [
           0,
           0,
           "Aron Baynes"
          ],
          [
           3.1,
           33.569827722723424,
           "Nerlens Noel"
          ],
          [
           -1.2,
           39.294719747060164,
           "Alex Len"
          ],
          [
           -0.7,
           46.87429999477325,
           "Allen Crabbe"
          ],
          [
           -1,
           48.742554987061055,
           "Andre Roberson"
          ],
          [
           0,
           0,
           "Anthony Bennett"
          ],
          [
           0,
           0,
           "Archie Goodwin"
          ],
          [
           -3.5,
           12.554813154059003,
           "Ben McLemore"
          ],
          [
           0,
           0,
           "Brandon Paul"
          ],
          [
           0,
           0,
           "Carrick Felix"
          ],
          [
           2,
           52.87324465171397,
           "CJ McCollum"
          ],
          [
           -1.2,
           25.04362859757613,
           "Cody Zeller"
          ],
          [
           -2,
           48.10147260393043,
           "Dennis Schroder"
          ],
          [
           -3.5,
           29.069944387058378,
           "Dewayne Dedmon"
          ],
          [
           0,
           0,
           "DJ Stephens"
          ],
          [
           0,
           0,
           "Erick Green"
          ],
          [
           0.2,
           46.829780410902316,
           "Gorgui Dieng"
          ],
          [
           -3.3,
           24.333242008961054,
           "Isaiah Canaan"
          ],
          [
           0,
           0,
           "Jamaal Franklin"
          ],
          [
           0,
           0,
           "James Southerland"
          ],
          [
           1,
           25.64926899543143,
           "Jeff Withey"
          ],
          [
           0.3,
           39.22155019883839,
           "Kelly Olynyk"
          ],
          [
           -0.5,
           45.112470559702224,
           "Kentavious Caldwell-Pope"
          ],
          [
           -8.4,
           7.793159393553638,
           "Lorenzo Brown"
          ],
          [
           1.5,
           45.64551821738176,
           "Mason Plumlee"
          ],
          [
           -3.2,
           29.093842418399586,
           "Michael Carter-Williams"
          ],
          [
           1.1,
           35.16904415344082,
           "Mike Muscala"
          ],
          [
           0,
           0,
           "Nate Wolters"
          ],
          [
           0.9,
           41.033543189281986,
           "Otto Porter Jr."
          ],
          [
           0,
           0,
           "Peyton Siva"
          ],
          [
           0,
           0,
           "Ray McCallum"
          ],
          [
           0.3,
           21.60540055942803,
           "Reggie Bullock"
          ],
          [
           0,
           0,
           "Ricky Ledo"
          ],
          [
           -0.9,
           43.62399951097251,
           "Robert Covington"
          ],
          [
           3.4,
           42.615020825995146,
           "Rudy Gobert"
          ],
          [
           -2.5,
           20.444233090694965,
           "Shabazz Muhammad"
          ],
          [
           -1.7,
           27.83364271285142,
           "Shane Larkin"
          ],
          [
           1.1,
           51.664865560004415,
           "Steven Adams"
          ],
          [
           -0.6,
           43.4160684539722,
           "Tim Hardaway Jr."
          ],
          [
           0,
           0,
           "Tony Mitchell"
          ],
          [
           -1.7,
           48.328614712197165,
           "Tony Snell"
          ],
          [
           2.5,
           28.011693986619232,
           "Trey Burke"
          ],
          [
           -8.4,
           6.701989754294369,
           "Vander Blue"
          ],
          [
           5.8,
           50.5177031676355,
           "Victor Oladipo"
          ],
          [
           11.5,
           43.78218815911329,
           "Giannis Antetokounmpo"
          ],
          [
           0,
           0,
           "Sergey Karasev"
          ],
          [
           -4.4,
           9.187037970241915,
           "Pierre Jackson"
          ],
          [
           0,
           0,
           "Grant Jerrett"
          ],
          [
           5.2,
           20.441134997841974,
           "Lucas Nogueira"
          ],
          [
           0,
           0,
           "Erik Murphy"
          ],
          [
           0,
           0,
           "Phil Pressey"
          ],
          [
           1.5,
           18.12498275861249,
           "James Ennis III"
          ],
          [
           0,
           0,
           "Nemanja Nedovic"
          ],
          [
           -3.3,
           24.254346689476776,
           "Alex Abrines"
          ],
          [
           0,
           0,
           "Adonis Thomas"
          ],
          [
           -1.2,
           43.21265246815254,
           "Matthew Dellavedova"
          ],
          [
           -2.7,
           48.72680644847013,
           "Solomon Hill"
          ],
          [
           -1.4,
           22.319423528995255,
           "Raul Neto"
          ],
          [
           -3.1,
           10.49444297394259,
           "Ryan Kelly"
          ],
          [
           -2.2,
           31.30662869106158,
           "Joffrey Lauvergne"
          ],
          [
           -7.6,
           17.078983185970614,
           "Gal Mekel"
          ],
          [
           0,
           0,
           "Gigi Datome"
          ],
          [
           0,
           0,
           "Pero Antic"
          ],
          [
           0,
           0,
           "Miroslav Raduljica"
          ],
          [
           -1.5,
           33.71238644771385,
           "Ian Clark"
          ],
          [
           0,
           0,
           "Elias Harris"
          ],
          [
           -0.2,
           26.301013922153896,
           "Seth Curry"
          ],
          [
           0,
           0,
           "Brandon Davies"
          ],
          [
           -4.7,
           2.3515952032609695,
           "Kalin Lucas"
          ],
          [
           0,
           0,
           "Patrick Christopher"
          ],
          [
           0,
           0,
           "Chris Babb"
          ],
          [
           0,
           0,
           "Larry Drew II"
          ],
          [
           -1.8,
           34.39915212133389,
           "Troy Daniels"
          ],
          [
           -1.9,
           44.33832052149326,
           "Rodney McGruder"
          ],
          [
           0,
           0,
           "Trey McKinney-Jones"
          ],
          [
           0,
           0,
           "Jonathon Simmons"
          ],
          [
           0,
           0,
           "Thanasis Antetokounmpo"
          ],
          [
           0,
           0,
           "Norvel Pelle"
          ],
          [
           0,
           0,
           "Reggie Hearn"
          ],
          [
           0,
           0,
           "Josh Magette"
          ],
          [
           0,
           0,
           "C.J. Williams"
          ],
          [
           0,
           0,
           "PJ Hairston"
          ],
          [
           0,
           0,
           "Will Cherry"
          ],
          [
           0,
           0,
           "Casper Ware"
          ],
          [
           0,
           0,
           "Scotty Hopson"
          ],
          [
           0,
           0,
           "Russ Smith"
          ],
          [
           -0.4,
           22.633640155014106,
           "Shabazz Napier"
          ],
          [
           -3.7,
           19.583326241133477,
           "Jordan McRae"
          ],
          [
           4,
           45.09574998452371,
           "Zach LaVine"
          ],
          [
           0,
           0,
           "Tyler Ennis"
          ],
          [
           0,
           0,
           "Markel Brown"
          ],
          [
           0,
           35.29707258871945,
           "Elfrid Payton"
          ],
          [
           0,
           0,
           "Semaj Christon"
          ],
          [
           0.1,
           43.44419792484757,
           "Jordan Clarkson"
          ],
          [
           0,
           0,
           "Devyn Marble"
          ],
          [
           0,
           0,
           "KJ McDaniels"
          ],
          [
           0,
           0,
           "Nick Johnson"
          ],
          [
           -1.5,
           12.91581717636685,
           "C.J. Wilcox"
          ],
          [
           0,
           0,
           "Jabari Brown"
          ],
          [
           -2.5,
           42.192416380198,
           "Gary Harris"
          ],
          [
           0.6,
           43.749323804298164,
           "Spencer Dinwiddie"
          ],
          [
           -1.9,
           31.855873346475214,
           "Nik Stauskas"
          ],
          [
           -0.1,
           40.19293055584116,
           "Rodney Hood"
          ],
          [
           0,
           0,
           "Jordan Adams"
          ],
          [
           -0.9,
           24.050086624930625,
           "Khem Birch"
          ],
          [
           0,
           0,
           "Cleanthony Early"
          ],
          [
           -3,
           24.700438592597237,
           "Glenn Robinson III"
          ],
          [
           0,
           0,
           "James Young"
          ],
          [
           -0.5,
           43.496494111594785,
           "Jerami Grant"
          ],
          [
           -3.5,
           33.73981327749162,
           "Joe Harris"
          ],
          [
           -2.3,
           38.829456172687635,
           "Doug McDermott"
          ],
          [
           -6.4,
           7.0755447375685,
           "Cory Jefferson"
          ],
          [
           -2.2,
           8.456654184723412,
           "Sean Kilpatrick"
          ],
          [
           0.1,
           37.19919353964545,
           "Aaron Gordon"
          ],
          [
           -0.2,
           36.878155232241895,
           "T.J. Warren"
          ],
          [
           -11.4,
           6.353476738500481,
           "Lamar Patterson"
          ],
          [
           1.4,
           43.80947386125517,
           "Marcus Smart"
          ],
          [
           0.8,
           35.798417097221915,
           "Kyle Anderson"
          ],
          [
           1,
           36.51648029771393,
           "Dwight Powell"
          ],
          [
           -2.3,
           11.630634835066699,
           "Adreian Payne"
          ],
          [
           -26.7,
           3.2812599206199287,
           "Noah Vonleh"
          ],
          [
           -0.3,
           45.61140208325107,
           "Julius Randle"
          ],
          [
           0,
           0,
           "Alex Kirk"
          ],
          [
           -7.5,
           10.12916580968048,
           "Cameron Bairstow"
          ],
          [
           0,
           0,
           "Johnny O'Bryant III"
          ],
          [
           -3,
           4.236744032862972,
           "James Michael McAdoo"
          ],
          [
           0,
           0,
           "Jarnell Stokes"
          ],
          [
           0,
           0,
           "Keith Appling"
          ],
          [
           -0.4,
           48.62375962428245,
           "Andrew Wiggins"
          ],
          [
           -0.9,
           12.863060807340258,
           "Jabari Parker"
          ],
          [
           4.7,
           38.80483217332604,
           "Joel Embiid"
          ],
          [
           0,
           0,
           "Bryce Cotton"
          ],
          [
           0,
           0,
           "Mitch McGary"
          ],
          [
           -3.8,
           10.777213616391437,
           "Dante Exum"
          ],
          [
           0,
           0,
           "Andre Dawkins"
          ],
          [
           3.7,
           11.281252885502878,
           "JaKarr Sampson"
          ],
          [
           0,
           0,
           "Eric Moreland"
          ],
          [
           8.8,
           5.557277510916051,
           "Josh Huestis"
          ],
          [
           0,
           0,
           "Shayne Whittington"
          ],
          [
           0,
           0,
           "Jamil Wilson"
          ],
          [
           -0.4,
           40.39531738539345,
           "Dario Saric"
          ],
          [
           0,
           0,
           "Jerrelle Benimon"
          ],
          [
           1.4,
           35.76735010219977,
           "Clint Capela"
          ],
          [
           -1.5,
           46.6385570102678,
           "Bogdan Bogdanovic"
          ],
          [
           2,
           15.910321597420117,
           "Jusuf Nurkic"
          ],
          [
           0,
           0,
           "Damien Inglis"
          ],
          [
           -10.2,
           6.0360030925549815,
           "Bruno Caboclo"
          ],
          [
           12.1,
           49.87766701306979,
           "Nikola Jokic"
          ],
          [
           2.2,
           36.422017150802205,
           "Kristaps Porzingis"
          ],
          [
           0,
           0,
           "Edy Tavares"
          ],
          [
           0,
           0,
           "Damjan Rudez"
          ],
          [
           -0.3,
           45.30167399408845,
           "Tyler Johnson"
          ],
          [
           0,
           0,
           "Sim Bhullar"
          ],
          [
           0,
           0,
           "Jack Cooley"
          ],
          [
           -2,
           27.22599860427529,
           "Tim Frazier"
          ],
          [
           -3.2,
           33.02875010249903,
           "Tarik Black"
          ],
          [
           0,
           0,
           "David Wear"
          ],
          [
           0,
           0,
           "Travis Wear"
          ],
          [
           -2.3,
           38.657362386312265,
           "Langston Galloway"
          ],
          [
           -7.7,
           8.673138609138753,
           "Zoran Dragic"
          ],
          [
           0,
           0,
           "Joe Ingles"
          ],
          [
           0,
           0,
           "David Stockton"
          ],
          [
           0,
           0,
           "John Holland"
          ],
          [
           -2.4,
           7.895673920994122,
           "Jarell Eddie"
          ],
          [
           0,
           0,
           "Drew Gordon"
          ],
          [
           -11.3,
           4.555582655745948,
           "Xavier Munford"
          ],
          [
           0,
           0,
           "Omari Johnson"
          ],
          [
           0,
           0,
           "Greg Whittington"
          ],
          [
           0,
           41.31117685727835,
           "T.J. McConnell"
          ],
          [
           -3.2,
           18.634287393583556,
           "Jahlil Okafor"
          ],
          [
           0,
           0,
           "Emmanuel Mudiay"
          ],
          [
           0,
           0,
           "Tyus Jones"
          ],
          [
           0,
           0,
           "Cliff Alexander"
          ],
          [
           -2.7,
           21.52916626346687,
           "Justin Anderson"
          ],
          [
           30.5,
           1.9321835661585909,
           "Anthony Brown"
          ],
          [
           3.3,
           46.45587512181134,
           "Montrezl Harrell"
          ],
          [
           0,
           0,
           "Andrew Harrison"
          ],
          [
           0,
           0,
           "Aaron Harrison"
          ],
          [
           3.3,
           37.85133198889215,
           "Delon Wright"
          ],
          [
           3.6,
           5.067872663488429,
           "RJ Hunter"
          ],
          [
           0,
           0,
           "Sam Dekker"
          ],
          [
           0,
           0,
           "D'Angelo Russell"
          ],
          [
           4.5,
           41.096451590536745,
           "Karl-Anthony Towns"
          ],
          [
           0.6,
           34.40477195583964,
           "Richaun Holmes"
          ],
          [
           0,
           0,
           "Justise Winslow"
          ],
          [
           1.2,
           47.03771536402113,
           "Willie Cauley-Stein"
          ],
          [
           -1.9,
           41.07980038899897,
           "Kelly Oubre Jr."
          ],
          [
           0.3,
           27.471621721332728,
           "Frank Kaminsky"
          ],
          [
           0,
           0,
           "Devin Booker"
          ],
          [
           1.7,
           13.533600161573156,
           "Cameron Payne"
          ],
          [
           0,
           0,
           "Myles Turner"
          ],
          [
           -1.8,
           18.916350951844095,
           "Trey Lyles"
          ],
          [
           0,
           0,
           "Stanley Johnson"
          ],
          [
           -1.3,
           41.06494855713325,
           "Jerian Grant"
          ],
          [
           1.5,
           37.042903053981476,
           "Bobby Portis"
          ],
          [
           0,
           0,
           "Kevon Looney"
          ],
          [
           0,
           0,
           "Rashad Vaughn"
          ],
          [
           1.4,
           36.41288691292315,
           "Christian Wood"
          ],
          [
           0,
           0,
           "Jordan Mickey"
          ],
          [
           -5,
           14.811763343144968,
           "Rakeem Christmas"
          ],
          [
           0,
           0,
           "Dakari Johnson"
          ],
          [
           0.3,
           33.49470107345339,
           "Rondae Hollis-Jefferson"
          ],
          [
           -0.4,
           46.523757371906235,
           "Terry Rozier"
          ],
          [
           -0.7,
           33.56285148791741,
           "Norman Powell"
          ],
          [
           0,
           0,
           "Branden Dawson"
          ],
          [
           -4,
           27.256375400995633,
           "Chasson Randle"
          ],
          [
           0,
           0,
           "Jarell Martin"
          ],
          [
           -2.1,
           32.54076930047398,
           "Quinn Cook"
          ],
          [
           0,
           0,
           "Chris McCullough"
          ],
          [
           -1.8,
           38.5727019190169,
           "Pat Connaughton"
          ],
          [
           0.1,
           19.370553253155496,
           "Willy Hernangomez"
          ],
          [
           0.3,
           50.39275741612082,
           "Josh Richardson"
          ],
          [
           0,
           0,
           "Darrun Hilliard"
          ],
          [
           -3.5,
           23.624492939884806,
           "Joe Young"
          ],
          [
           -3.7,
           26.74624584248539,
           "Treveon Graham"
          ],
          [
           2.4,
           37.6897643045606,
           "Larry Nance Jr."
          ],
          [
           0,
           0,
           "Vincent Hunter"
          ],
          [
           0,
           0,
           "Mario Hezonja"
          ],
          [
           -5,
           8.386596449096617,
           "Alan Williams"
          ],
          [
           0,
           0,
           "Bryce Dejean-Jones"
          ],
          [
           -0.5,
           40.87915116535567,
           "Royce O'Neale"
          ],
          [
           -3.2,
           38.865258693765696,
           "Cedi Osman"
          ],
          [
           0,
           0,
           "Luis Montero"
          ],
          [
           -3.9,
           31.264196775225173,
           "Cristiano Felicio"
          ],
          [
           0,
           0,
           "Boban Marjanovic"
          ],
          [
           0,
           0,
           "Duje Dukan"
          ],
          [
           0,
           0,
           "Axel Toupane"
          ],
          [
           0,
           0,
           "Maurice Ndour"
          ],
          [
           0,
           0,
           "Salah Mejri"
          ],
          [
           -0.5,
           8.191458966508957,
           "Malcolm Miller"
          ],
          [
           0,
           0,
           "Coty Clarke"
          ],
          [
           0,
           0,
           "JJ O'Brien"
          ],
          [
           0,
           0,
           "Marcelo Huertas"
          ],
          [
           0,
           0,
           "Jordan Sibert"
          ],
          [
           0,
           0,
           "Jacob Pullen"
          ],
          [
           0,
           0,
           "Jonathan Gibson"
          ],
          [
           0,
           0,
           "Malcolm Delaney"
          ],
          [
           -8.2,
           5.924665954015189,
           "Walt Lemon Jr."
          ],
          [
           0,
           0,
           "Alex Stepheson"
          ],
          [
           -1.3,
           15.37866487486261,
           "Briante Weber"
          ],
          [
           0,
           0,
           "Julian Washburn"
          ],
          [
           0,
           0,
           "Ben Simmons"
          ],
          [
           0,
           0,
           "Dragan Bender"
          ],
          [
           0,
           0,
           "Domantas Sabonis"
          ],
          [
           0,
           0,
           "Wade Baldwin IV"
          ],
          [
           0,
           0,
           "Malik Beasley"
          ],
          [
           0,
           0,
           "Marquese Chriss"
          ],
          [
           0,
           0,
           "Deyonta Davis"
          ],
          [
           -0.6,
           35.6176922329339,
           "Kris Dunn"
          ],
          [
           0,
           0,
           "Henry Ellenson"
          ],
          [
           1,
           44.991462153020436,
           "Buddy Hield"
          ],
          [
           0,
           0,
           "Brandon Ingram"
          ],
          [
           0,
           0,
           "Demetrius Jackson"
          ],
          [
           0,
           0,
           "Brice Johnson"
          ],
          [
           -1.4,
           23.360793365523076,
           "Damian Jones"
          ],
          [
           0,
           0,
           "Skal Labissiere"
          ],
          [
           -0.3,
           36.466971357654586,
           "Caris LeVert"
          ],
          [
           0,
           0,
           "Thon Maker"
          ],
          [
           0,
           0,
           "Dejounte Murray"
          ],
          [
           0,
           0,
           "Jamal Murray"
          ],
          [
           0.8,
           42.955015229113,
           "Jakob Poeltl"
          ],
          [
           -2.9,
           43.097969789770836,
           "Taurean Prince"
          ],
          [
           0,
           0,
           "Zhou Qi"
          ],
          [
           0,
           0,
           "Diamond Stone"
          ],
          [
           0,
           0,
           "Tyler Ulis"
          ],
          [
           0,
           0,
           "Denzel Valentine"
          ],
          [
           0,
           0,
           "Stephen Zimmerman"
          ],
          [
           -7,
           12.328219660599823,
           "Ron Baker"
          ],
          [
           0,
           0,
           "Jaylen Brown"
          ],
          [
           -2.5,
           30.254916955761093,
           "DeAndre' Bembry"
          ],
          [
           0,
           0,
           "Joel Bolomboy"
          ],
          [
           -1.2,
           37.89481055061062,
           "Malcolm Brogdon"
          ],
          [
           0,
           0,
           "Cheick Diallo"
          ],
          [
           0,
           0,
           "Kay Felder"
          ],
          [
           0,
           0,
           "Michael Gbinije"
          ],
          [
           0,
           0,
           "Daniel Hamilton"
          ],
          [
           0,
           0,
           "AJ Hammons"
          ],
          [
           -3.7,
           22.47613549226528,
           "Jake Layman"
          ],
          [
           0.9,
           5.776821502060342,
           "Patrick McCaw"
          ],
          [
           0,
           22.723299349639635,
           "Georges Niang"
          ],
          [
           0,
           0,
           "Chinanu Onuaku"
          ],
          [
           0,
           0,
           "Marcus Paige"
          ],
          [
           -3.9,
           14.861359291801003,
           "Gary Payton II"
          ],
          [
           0,
           0,
           "Malachi Richardson"
          ],
          [
           0,
           0,
           "Wayne Selden"
          ],
          [
           1.8,
           45.93649602077492,
           "Pascal Siakam"
          ],
          [
           0,
           0,
           "Jarrod Uthoff"
          ],
          [
           0,
           0,
           "Isaiah Whitehead"
          ],
          [
           0,
           0,
           "Troy Williams"
          ],
          [
           0,
           0,
           "Kyle Wiltjer"
          ],
          [
           0,
           0,
           "Furkan Korkmaz"
          ],
          [
           -4.4,
           32.40766370269029,
           "Timothe Luwawu-Cabarrot"
          ],
          [
           0,
           0,
           "Ante Zizic"
          ],
          [
           0,
           0,
           "Ben Bentil"
          ],
          [
           -1.4,
           32.65958256520328,
           "Yogi Ferrell"
          ],
          [
           -1.9,
           20.109989225921204,
           "Damion Lee"
          ],
          [
           0,
           0,
           "Sheldon Mac"
          ],
          [
           -3.5,
           17.461385970191483,
           "Alex Poythress"
          ],
          [
           0,
           0,
           "Tim Quarterman"
          ],
          [
           0,
           0,
           "Isaiah Taylor"
          ],
          [
           -8.7,
           12.664056748662057,
           "Tyrone Wallace"
          ],
          [
           0,
           0,
           "James Webb III"
          ],
          [
           -2.9,
           30.000666659259423,
           "Juancho Hernangomez"
          ],
          [
           0,
           0,
           "Guerschon Yabusele"
          ],
          [
           0,
           0,
           "Ivica Zubac"
          ],
          [
           -1.4,
           44.556518415752926,
           "Dorian Finney-Smith"
          ],
          [
           2.7,
           43.910742800974454,
           "Fred VanVleet"
          ],
          [
           0,
           0,
           "Georgios Papagiannis"
          ],
          [
           0,
           0,
           "Paul Zipser"
          ],
          [
           -3.2,
           26.337362560944992,
           "Abdel Nader"
          ],
          [
           0,
           0,
           "Shawn Long"
          ],
          [
           0,
           0,
           "Daniel Ochefu"
          ],
          [
           -4.5,
           7.193978963920683,
           "Marshall Plumlee"
          ],
          [
           0,
           0,
           "Mindaugas Kuzminskas"
          ],
          [
           0,
           0,
           "Nicolas Brussino"
          ],
          [
           -2.8,
           30.495464143595733,
           "Ryan Arcidiacono"
          ],
          [
           -1.2,
           47.88110274419335,
           "Bryn Forbes"
          ],
          [
           -0.7,
           8.919828099987875,
           "Okaro White"
          ],
          [
           0,
           0,
           "Matt Costello"
          ],
          [
           0,
           0,
           "Kyle Collinsworth"
          ],
          [
           0,
           0,
           "Mike Tobey"
          ],
          [
           -0.5,
           31.283621913071382,
           "Danuel House Jr."
          ],
          [
           0,
           0,
           "Jameel Warney"
          ],
          [
           0,
           0,
           "Patricio Garino"
          ],
          [
           0,
           0,
           "Marcus Georges-Hunt"
          ],
          [
           0,
           0,
           "Nicolas Laprovittola"
          ],
          [
           -4.2,
           14.632953677686983,
           "Jalen Jones"
          ],
          [
           0,
           0,
           "Derrick Jones Jr."
          ],
          [
           -1.3,
           37.814944135883636,
           "Shaquille Harrison"
          ],
          [
           -0.2,
           34.2822840545959,
           "Alex Caruso"
          ],
          [
           0,
           0,
           "Josh Gray"
          ],
          [
           -1.3,
           19.444193649176274,
           "Myke Henry"
          ],
          [
           -2.5,
           40.570350421623544,
           "David Nwaba"
          ],
          [
           -3,
           7.310152757181843,
           "Alfonzo McKinnie"
          ],
          [
           -1,
           7.404953297174352,
           "Jordan Loyd"
          ],
          [
           0,
           0,
           "Mitchell Creek"
          ],
          [
           0,
           0,
           "Markelle Fultz"
          ],
          [
           0,
           0,
           "Lonzo Ball"
          ],
          [
           0,
           0,
           "Josh Jackson"
          ],
          [
           0,
           0,
           "De'Aaron Fox"
          ],
          [
           0,
           0,
           "Jayson Tatum"
          ],
          [
           0,
           0,
           "Malik Monk"
          ],
          [
           0,
           0,
           "Jonathan Isaac"
          ],
          [
           0,
           0,
           "Dennis Smith Jr."
          ],
          [
           0,
           0,
           "Frank Ntilikina"
          ],
          [
           0,
           0,
           "Lauri Markkanen"
          ],
          [
           0,
           0,
           "Donovan Mitchell"
          ],
          [
           0,
           0,
           "Luke Kennard"
          ],
          [
           0,
           0,
           "Zach Collins"
          ],
          [
           0,
           0,
           "John Collins"
          ],
          [
           -3.5,
           24.01856920523508,
           "Justin Jackson"
          ],
          [
           0,
           0,
           "Justin Patton"
          ],
          [
           0,
           0,
           "OG Anunoby"
          ],
          [
           0,
           0,
           "Harry Giles III"
          ],
          [
           0,
           0,
           "Jarrett Allen"
          ],
          [
           0,
           0,
           "Ike Anigbogu"
          ],
          [
           0,
           0,
           "Bam Adebayo"
          ],
          [
           0,
           0,
           "Terrance Ferguson"
          ],
          [
           0,
           0,
           "D.J. Wilson"
          ],
          [
           0,
           0,
           "Isaiah Hartenstein"
          ],
          [
           0,
           0,
           "Jawun Evans"
          ],
          [
           -46.6,
           2.513297966152575,
           "Anzejs Pasecniks"
          ],
          [
           -2.5,
           16.01207877405888,
           "Jordan Bell"
          ],
          [
           0,
           0,
           "Tony Bradley"
          ],
          [
           0,
           0,
           "Ivan Rabb"
          ],
          [
           -0.4,
           44.20671140599954,
           "Kyle Kuzma"
          ],
          [
           0,
           0,
           "Tyler Lydon"
          ],
          [
           -1.7,
           31.789856872908377,
           "Semi Ojeleye"
          ],
          [
           1.3,
           40.94795477188085,
           "Derrick White"
          ],
          [
           0,
           0,
           "Frank Jackson"
          ],
          [
           0,
           0,
           "Caleb Swanigan"
          ],
          [
           -0.8,
           36.735949695087506,
           "Josh Hart"
          ],
          [
           0,
           0,
           "Johnathan Motley"
          ],
          [
           -5.1,
           43.043969767359165,
           "Dwayne Bacon"
          ],
          [
           0,
           0,
           "Alec Peters"
          ],
          [
           -2.8,
           29.346266088436753,
           "Edmond Sumner"
          ],
          [
           -2.6,
           30.875448714688066,
           "Wes Iwundu"
          ],
          [
           0,
           10.859327787667153,
           "Frank Mason III"
          ],
          [
           0,
           0,
           "Jonah Bolden"
          ],
          [
           -0.8,
           5.956788844111674,
           "Sindarius Thornwell"
          ],
          [
           -3.7,
           44.683964312342184,
           "Dillon Brooks"
          ],
          [
           0,
           0,
           "Tyler Dorsey"
          ],
          [
           -3.8,
           20.95614468360056,
           "Jaron Blossomgame"
          ],
          [
           0,
           0,
           "Thomas Bryant"
          ],
          [
           0,
           0,
           "Cameron Oliver"
          ],
          [
           -0.3,
           34.585449734437894,
           "Monte Morris"
          ],
          [
           0,
           0,
           "Devin Robinson"
          ],
          [
           -1.4,
           28.9147309630691,
           "Damyean Dotson"
          ],
          [
           0,
           0,
           "Kobi Simmons"
          ],
          [
           -1.6,
           35.05300747914978,
           "Sterling Brown"
          ],
          [
           0,
           0,
           "Vlatko Cancar"
          ],
          [
           0,
           0,
           "Charles Cooke"
          ],
          [
           -3.9,
           7.057265759485043,
           "Nigel Williams-Goss"
          ],
          [
           0,
           0,
           "Davon Reed"
          ],
          [
           0.8,
           18.639608364984497,
           "Luke Kornet"
          ],
          [
           0,
           0,
           "Isaiah Hicks"
          ],
          [
           -7.7,
           10.35317986578679,
           "Kadeem Allen"
          ],
          [
           0,
           0,
           "Jabari Bird"
          ],
          [
           -33.1,
           1.1474609652039018,
           "Chris Boucher"
          ],
          [
           -3.4,
           4.363675820528686,
           "Eric Mika"
          ],
          [
           0,
           0,
           "Jacob Wiley"
          ],
          [
           0,
           0,
           "Mike James"
          ],
          [
           0,
           0,
           "Milos Teodosic"
          ],
          [
           0,
           0,
           "Tyler Cavanaugh"
          ],
          [
           0.3,
           30.588069569686805,
           "Daniel Theis"
          ],
          [
           0,
           0,
           "Maxi Kleber"
          ],
          [
           0,
           0,
           "Antonio Blakeney"
          ],
          [
           0,
           0,
           "Torrey Craig"
          ],
          [
           0,
           0,
           "Matt Williams Jr."
          ],
          [
           0,
           0,
           "Derrick Walton Jr."
          ],
          [
           0,
           0,
           "Gian Clavell"
          ],
          [
           -4.6,
           4.449719092257398,
           "Mangok Mathiang"
          ],
          [
           0,
           0,
           "Milton Doyle"
          ],
          [
           -10.1,
           6.763012149429668,
           "Antonius Cleveland"
          ],
          [
           0,
           0,
           "Ben Moore"
          ],
          [
           0,
           0,
           "Nigel Hayes"
          ],
          [
           -5.4,
           16.703542538435762,
           "Jamel Artis"
          ],
          [
           0,
           0,
           "Xavier Rathan-Mayes"
          ],
          [
           0,
           0,
           "Troy Caupain"
          ],
          [
           0,
           0,
           "London Perrantes"
          ],
          [
           0,
           0,
           "Andrew White III"
          ],
          [
           -8.7,
           9.160513086066741,
           "Naz Mitrou-Long"
          ],
          [
           0,
           0,
           "Isaiah Briscoe"
          ],
          [
           2.5,
           8.261355820929152,
           "Amile Jefferson"
          ],
          [
           0,
           0,
           "Jaylen Morris"
          ],
          [
           -6,
           14.271883781290647,
           "Mychal Mulder"
          ],
          [
           0,
           0,
           "Erik McCree"
          ],
          [
           0,
           0,
           "Amida Brimah"
          ],
          [
           -9.7,
           5.090841449767091,
           "Dusty Hannahs"
          ],
          [
           0,
           0,
           "Billy Garrett"
          ],
          [
           0,
           0,
           "Rodney Purvis"
          ],
          [
           0,
           0,
           "Tahjere McCall"
          ],
          [
           -0.2,
           9.338718684416332,
           "Paul Watson"
          ],
          [
           0,
           0,
           "Aaron Jackson"
          ],
          [
           0,
           0,
           "Rawle Alkins"
          ],
          [
           -0.2,
           35.48922371650301,
           "Grayson Allen"
          ],
          [
           0,
           0,
           "Kostas Antetokounmpo"
          ],
          [
           0,
           0,
           "Udoka Azubuike"
          ],
          [
           0,
           0,
           "Marvin Bagley III"
          ],
          [
           0,
           0,
           "Mo Bamba"
          ],
          [
           -1.9,
           15.642197202865491,
           "Keita Bates-Diop"
          ],
          [
           0,
           0,
           "Brian Bowen II"
          ],
          [
           0,
           0,
           "Mikal Bridges"
          ],
          [
           0,
           0,
           "Miles Bridges"
          ],
          [
           0,
           0,
           "Bruce Brown"
          ],
          [
           0,
           0,
           "Troy Brown Jr."
          ],
          [
           0,
           0,
           "Jalen Brunson"
          ],
          [
           0.5,
           26.770879701645963,
           "Jevon Carter"
          ],
          [
           0,
           0,
           "Wendell Carter Jr."
          ],
          [
           0,
           0,
           "Hamidou Diallo"
          ],
          [
           0,
           0,
           "Donte DiVincenzo"
          ],
          [
           0,
           0,
           "Trevon Duval"
          ],
          [
           0,
           0,
           "Jacob Evans"
          ],
          [
           0,
           0,
           "Bruno Fernando"
          ],
          [
           0,
           0,
           "Melvin Frazier Jr."
          ],
          [
           0,
           0,
           "Shai Gilgeous-Alexander"
          ],
          [
           0.7,
           40.72595405062145,
           "Devonte' Graham"
          ],
          [
           0,
           0,
           "Devon Hall"
          ],
          [
           0,
           0,
           "Kevin Hervey"
          ],
          [
           0,
           0,
           "Aaron Holiday"
          ],
          [
           0,
           0,
           "Kevin Huerter"
          ],
          [
           0,
           0,
           "Chandler Hutchison"
          ],
          [
           0,
           0,
           "Jaren Jackson Jr."
          ],
          [
           0,
           0,
           "Alize Johnson"
          ],
          [
           -7.9,
           2.4289915602982237,
           "George King"
          ],
          [
           0,
           0,
           "Kevin Knox II"
          ],
          [
           -3.4,
           28.609205977563708,
           "Caleb Martin"
          ],
          [
           -2,
           29.14089337454614,
           "Cody Martin"
          ],
          [
           0,
           0,
           "Yante Maten"
          ],
          [
           0,
           0,
           "De'Anthony Melton"
          ],
          [
           0,
           0,
           "Chimezie Metu"
          ],
          [
           0,
           0,
           "Shake Milton"
          ],
          [
           0,
           0,
           "Svi Mykhailiuk"
          ],
          [
           0,
           0,
           "Malik Newman"
          ],
          [
           0,
           0,
           "Josh Okogie"
          ],
          [
           0,
           0,
           "Jontay Porter"
          ],
          [
           0,
           0,
           "Michael Porter Jr."
          ],
          [
           0,
           0,
           "Jerome Robinson"
          ],
          [
           0,
           0,
           "Mitchell Robinson"
          ],
          [
           0,
           0,
           "Collin Sexton"
          ],
          [
           0,
           0,
           "Landry Shamet"
          ],
          [
           0,
           0,
           "Anfernee Simons"
          ],
          [
           0,
           0,
           "Zhaire Smith"
          ],
          [
           0,
           0,
           "Omari Spellman"
          ],
          [
           0,
           0,
           "Khyri Thomas"
          ],
          [
           0,
           0,
           "Gary Trent Jr."
          ],
          [
           0,
           0,
           "Allonzo Trier"
          ],
          [
           0,
           0,
           "Jarred Vanderbilt"
          ],
          [
           0,
           0,
           "Moritz Wagner"
          ],
          [
           0,
           0,
           "Lonnie Walker IV"
          ],
          [
           0,
           0,
           "P.J. Washington"
          ],
          [
           -2.4,
           28.842358895670564,
           "Kenrich Williams"
          ],
          [
           0,
           0,
           "Trae Young"
          ],
          [
           0,
           0,
           "Deandre Ayton"
          ],
          [
           0,
           0,
           "Luka Doncic"
          ],
          [
           -15.7,
           5.835808998473707,
           "Theo Pinson"
          ],
          [
           0,
           0,
           "Ray Spalding"
          ],
          [
           0,
           0,
           "Carsen Edwards"
          ],
          [
           0,
           0,
           "Shamorie Ponds"
          ],
          [
           0,
           0,
           "Bonzie Colson"
          ],
          [
           0,
           0,
           "Goga Bitadze"
          ],
          [
           0,
           0,
           "Oshae Brissett"
          ],
          [
           0,
           0,
           "Vincent Edwards"
          ],
          [
           0,
           0,
           "Donte Grantham"
          ],
          [
           0,
           0,
           "Terence Davis"
          ],
          [
           0,
           0,
           "Robert Williams III"
          ],
          [
           0,
           0,
           "Dzanan Musa"
          ],
          [
           0,
           0,
           "Elie Okobo"
          ],
          [
           0,
           0,
           "Rui Hachimura"
          ],
          [
           0,
           0,
           "Deng Adel"
          ],
          [
           0,
           0,
           "Ky Bowman"
          ],
          [
           0,
           0,
           "Rodions Kurucs"
          ],
          [
           0,
           0,
           "Isaac Bonga"
          ],
          [
           0,
           0,
           "Tyler Cook"
          ],
          [
           -7.3,
           5.618718715152059,
           "Elijah Bryant"
          ],
          [
           0,
           0,
           "Tyler Davis"
          ],
          [
           0,
           0,
           "Marcus Derrickson"
          ],
          [
           0,
           0,
           "Brandon Sampson"
          ],
          [
           -2.4,
           17.960141053640616,
           "Kelan Martin"
          ],
          [
           -1.9,
           23.798459333886868,
           "Gary Clark"
          ],
          [
           0,
           0,
           "Angel Delgado"
          ],
          [
           0,
           0,
           "Wenyen Gabriel"
          ],
          [
           0,
           0,
           "Thomas Welsh"
          ],
          [
           0,
           0,
           "Jaylen Adams"
          ],
          [
           0,
           0,
           "J.P. Macura"
          ],
          [
           0,
           0,
           "Jared Terrell"
          ],
          [
           -4.3,
           15.488113722034294,
           "Deonte Burton"
          ],
          [
           0.5,
           46.53632989396564,
           "Duncan Robinson"
          ],
          [
           0,
           0,
           "Daryl Macon"
          ],
          [
           -0.5,
           40.62257172229904,
           "Kendrick Nunn"
          ],
          [
           -1.7,
           10.235640347986687,
           "Yuta Watanabe"
          ],
          [
           0,
           0,
           "Johnathan Williams"
          ],
          [
           0,
           0,
           "Joe Chealey"
          ],
          [
           0,
           0,
           "Emanuel Terry"
          ],
          [
           0,
           0,
           "Ryan Broekhoff"
          ],
          [
           -5.8,
           4.652597840633414,
           "DeVaughn Akoon-Purcell"
          ],
          [
           0,
           0,
           "Zach Lofton"
          ],
          [
           0,
           0,
           "Jordan McLaughlin"
          ],
          [
           -3.1,
           24.89159831482637,
           "Brandon Goodwin"
          ],
          [
           0,
           0,
           "BJ Johnson"
          ],
          [
           -0.7,
           15.242867184358722,
           "Chris Chiozza"
          ],
          [
           0,
           0,
           "Jemerrio Jones"
          ],
          [
           0,
           0,
           "Gabe Vincent"
          ],
          [
           0,
           0,
           "Drew Eubanks"
          ],
          [
           -8.1,
           6.362651438931202,
           "Cameron Reynolds"
          ],
          [
           0,
           0,
           "Juan Toscano-Anderson"
          ],
          [
           0,
           0,
           "Haywood Highsmith"
          ],
          [
           0,
           0,
           "Alen Smailagic"
          ],
          [
           0,
           0,
           "Isaac Humphries"
          ],
          [
           0,
           0,
           "Dairis Bertans"
          ],
          [
           0,
           0,
           "Zylan Cheatham"
          ],
          [
           0,
           0,
           "Chris Clemons"
          ],
          [
           0,
           0,
           "Amir Coffey"
          ],
          [
           0,
           0,
           "Mamadi Diakite"
          ],
          [
           0,
           0,
           "CJ Elleby"
          ],
          [
           1.2,
           11.642522636152915,
           "Tacko Fall"
          ],
          [
           0,
           0,
           "Robert Franks"
          ],
          [
           0,
           0,
           "Jared Harper"
          ],
          [
           0,
           0,
           "Dewan Hernandez"
          ],
          [
           0,
           0,
           "DaQuan Jeffries"
          ],
          [
           0,
           0,
           "Terance Mann"
          ],
          [
           0,
           0,
           "Reggie Perry"
          ],
          [
           0,
           0,
           "Justin Robinson"
          ],
          [
           0,
           0,
           "Marial Shayok"
          ],
          [
           0,
           0,
           "Max Strus"
          ],
          [
           0,
           0,
           "Justin Wright-Foreman"
          ],
          [
           0,
           0,
           "Bol Bol"
          ],
          [
           0,
           0,
           "Zion Williamson"
          ],
          [
           0,
           0,
           "RJ Barrett"
          ],
          [
           0,
           0,
           "Cam Reddish"
          ],
          [
           0,
           0,
           "Ja Morant"
          ],
          [
           0,
           0,
           "De'Andre Hunter"
          ],
          [
           0,
           0,
           "Coby White"
          ],
          [
           0,
           0,
           "Jarrett Culver"
          ],
          [
           0,
           0,
           "Brandon Clarke"
          ],
          [
           0,
           0,
           "Sekou Doumbouya"
          ],
          [
           0,
           0,
           "Darius Garland"
          ],
          [
           0,
           0,
           "Jaxson Hayes"
          ],
          [
           0,
           0,
           "Nickeil Alexander-Walker"
          ],
          [
           0,
           0,
           "Tyler Herro"
          ],
          [
           0,
           0,
           "Keldon Johnson"
          ],
          [
           0,
           0,
           "Romeo Langford"
          ],
          [
           0,
           0,
           "Nassir Little"
          ],
          [
           0,
           0,
           "Chuma Okeke"
          ],
          [
           0,
           0,
           "KZ Okpala"
          ],
          [
           0,
           0,
           "Kevin Porter Jr."
          ],
          [
           0,
           0,
           "Darius Bazley"
          ],
          [
           0,
           0,
           "Jordan Bone"
          ],
          [
           0,
           0,
           "Ignas Brazdeikis"
          ],
          [
           0,
           0,
           "Moses Brown"
          ],
          [
           0,
           0,
           "Nic Claxton"
          ],
          [
           0,
           0,
           "Luguentz Dort"
          ],
          [
           0,
           0,
           "Devon Dotson"
          ],
          [
           0,
           0,
           "Daniel Gafford"
          ],
          [
           0,
           0,
           "Kyle Guy"
          ],
          [
           0,
           0,
           "Jaylen Hoard"
          ],
          [
           0,
           0,
           "Talen Horton-Tucker"
          ],
          [
           0,
           0,
           "Ty Jerome"
          ],
          [
           0,
           0,
           "Cameron Johnson"
          ],
          [
           0,
           0,
           "Mfiondu Kabengele"
          ],
          [
           0,
           0,
           "Louis King"
          ],
          [
           0,
           0,
           "Jalen Lecque"
          ],
          [
           0,
           0,
           "Jalen McDaniels"
          ],
          [
           0,
           0,
           "Zach Norvell Jr."
          ],
          [
           0,
           0,
           "Jaylen Nowell"
          ],
          [
           0,
           0,
           "Jordan Nwora"
          ],
          [
           0,
           0,
           "Miye Oni"
          ],
          [
           0,
           0,
           "Eric Paschall"
          ],
          [
           0,
           0,
           "Jordan Poole"
          ],
          [
           0,
           0,
           "Naz Reid"
          ],
          [
           0,
           0,
           "Isaiah Roby"
          ],
          [
           0,
           0,
           "Luka Samanic"
          ],
          [
           0,
           0,
           "Admiral Schofield"
          ],
          [
           0,
           0,
           "Matisse Thybulle"
          ],
          [
           0,
           0,
           "Killian Tillie"
          ],
          [
           0,
           0,
           "Tremont Waters"
          ],
          [
           0,
           0,
           "Quinndary Weatherspoon"
          ],
          [
           0,
           0,
           "Grant Williams"
          ],
          [
           0,
           0,
           "Dylan Windler"
          ],
          [
           0,
           0,
           "Deividas Sirvydis"
          ],
          [
           0,
           0,
           "Adam Mokoka"
          ],
          [
           0,
           0,
           "Didi Louzada"
          ],
          [
           0,
           0,
           "Justin James"
          ],
          [
           0,
           0,
           "Jarrell Brantley"
          ],
          [
           0,
           0,
           "Marques Bolden"
          ],
          [
           0,
           0,
           "Armoni Brooks"
          ],
          [
           0,
           0,
           "Devontae Cacok"
          ],
          [
           0,
           0,
           "John Konchar"
          ],
          [
           0,
           0,
           "Vic Law"
          ],
          [
           0,
           0,
           "Jeremiah Martin"
          ],
          [
           0,
           0,
           "Garrison Mathews"
          ],
          [
           0,
           0,
           "Josh Reaves"
          ],
          [
           0,
           0,
           "Rayjon Tucker"
          ],
          [
           0,
           0,
           "Dean Wade"
          ],
          [
           0,
           0,
           "Kyle Alexander"
          ],
          [
           0,
           0,
           "Chris Silva"
          ],
          [
           0,
           0,
           "Vincent Poirier"
          ],
          [
           0,
           0,
           "William Howard"
          ],
          [
           0,
           0,
           "Nicolo Melli"
          ],
          [
           0,
           0,
           "Marko Guduric"
          ],
          [
           0,
           0,
           "Stanton Kidd"
          ],
          [
           0,
           0,
           "Donta Hall"
          ],
          [
           1.1,
           20.976653689280376,
           "Matt Thomas"
          ],
          [
           0,
           0,
           "Tariq Owens"
          ],
          [
           0,
           0,
           "Javonte Green"
          ],
          [
           -2.6,
           11.111255554616678,
           "Dakota Mathias"
          ],
          [
           0,
           0,
           "Juwan Morgan"
          ],
          [
           0,
           0,
           "Matt Mooney"
          ],
          [
           -10.7,
           8.65524888916161,
           "Keljin Blevins"
          ],
          [
           0,
           0,
           "Devin Cannady"
          ],
          [
           0,
           0,
           "Anthony Edwards"
          ],
          [
           0,
           0,
           "LaMelo Ball"
          ],
          [
           0,
           0,
           "James Wiseman"
          ],
          [
           0,
           0,
           "Killian Hayes"
          ],
          [
           0,
           0,
           "Deni Avdija"
          ],
          [
           0,
           0,
           "Obi Toppin"
          ],
          [
           0,
           0,
           "Onyeka Okongwu"
          ],
          [
           0,
           0,
           "Tyrese Haliburton"
          ],
          [
           0,
           0,
           "Devin Vassell"
          ],
          [
           0,
           0,
           "Isaac Okoro"
          ],
          [
           0,
           0,
           "Patrick Williams"
          ],
          [
           0,
           0,
           "Precious Achiuwa"
          ],
          [
           0,
           0,
           "Aaron Nesmith"
          ],
          [
           0,
           0,
           "Cole Anthony"
          ],
          [
           0,
           0,
           "Vernon Carey Jr."
          ],
          [
           0,
           0,
           "Theo Maledon"
          ],
          [
           0,
           0,
           "Tyrese Maxey"
          ],
          [
           0,
           0,
           "Tyrell Terry"
          ],
          [
           0,
           0,
           "Saddiq Bey"
          ],
          [
           0,
           0,
           "R.J. Hampton"
          ],
          [
           0,
           0,
           "Josh Green"
          ],
          [
           0,
           0,
           "Jaden McDaniels"
          ],
          [
           0,
           0,
           "Kira Lewis Jr."
          ],
          [
           0,
           0,
           "Nico Mannion"
          ],
          [
           0,
           0,
           "Jahmi'us Ramsey"
          ],
          [
           0,
           0,
           "Daniel Oturu"
          ],
          [
           0,
           0,
           "Jalen Smith"
          ],
          [
           0,
           0,
           "Tyler Bey"
          ],
          [
           0,
           0,
           "Elijah Hughes"
          ],
          [
           0,
           0,
           "Isaiah Stewart"
          ],
          [
           0,
           0,
           "Zeke Nnaji"
          ],
          [
           0,
           0,
           "Immanuel Quickley"
          ],
          [
           0,
           0,
           "Paul Reed"
          ],
          [
           0,
           0,
           "Aleksej Pokusevski"
          ],
          [
           0,
           0,
           "Isaiah Joe"
          ],
          [
           0,
           0,
           "Cassius Stanley"
          ],
          [
           0,
           0,
           "Tre Jones"
          ],
          [
           0,
           0,
           "Malachi Flynn"
          ],
          [
           0,
           0,
           "Payton Pritchard"
          ],
          [
           0,
           0,
           "Grant Riller"
          ],
          [
           0,
           0,
           "Ashton Hagans"
          ],
          [
           0,
           0,
           "Lamar Stevens"
          ],
          [
           0,
           0,
           "Jay Scrubb"
          ],
          [
           0,
           0,
           "Nate Hinton"
          ],
          [
           0,
           0,
           "Nick Richards"
          ],
          [
           0,
           0,
           "Markus Howard"
          ],
          [
           0,
           0,
           "Karim Mane"
          ],
          [
           0,
           0,
           "Cassius Winston"
          ],
          [
           0,
           0,
           "Desmond Bane"
          ],
          [
           0,
           0,
           "Robert Woodard II"
          ],
          [
           0,
           0,
           "Skylar Mays"
          ],
          [
           0,
           0,
           "Josh Hall"
          ],
          [
           0,
           0,
           "Mason Jones"
          ],
          [
           0,
           0,
           "Jalen Harris"
          ],
          [
           0,
           0,
           "Naji Marshall"
          ],
          [
           0,
           0,
           "Kenyon Martin Jr."
          ],
          [
           0,
           0,
           "Nathan Knight"
          ],
          [
           0,
           0,
           "Ty-Shon Alexander"
          ],
          [
           0,
           0,
           "Trent Forrest"
          ],
          [
           0,
           0,
           "Anthony Lamb"
          ],
          [
           0,
           0,
           "Malik Fitts"
          ],
          [
           0,
           0,
           "Saben Lee"
          ],
          [
           0,
           0,
           "Sam Merrill"
          ],
          [
           0,
           0,
           "Sean McDermott"
          ],
          [
           -1.4,
           45.196423162310865,
           "Jae'Sean Tate"
          ],
          [
           0,
           0,
           "Anthony Gill"
          ],
          [
           0,
           0,
           "Will Magnay"
          ],
          [
           0,
           0,
           "Facundo Campazzo"
          ],
          [
           0,
           0,
           "Nate Darling"
          ],
          [
           0,
           0,
           "Brodric Thomas"
          ],
          [
           0,
           0,
           "Freddie Gillespie"
          ],
          [
           -0.4,
           14.546706385524766,
           "Gabriel Deck"
          ]
         ],
         "hovertemplate": "x=%{x}<br>y=%{y}<br>minutes=%{customdata[1]}<br>bpm=%{marker.color}<br>names=%{customdata[2]}<extra></extra>",
         "legendgroup": "",
         "marker": {
          "color": [
           0,
           0,
           0,
           0,
           0,
           0,
           0,
           0,
           0,
           0,
           0,
           0,
           -3.3,
           0,
           -15.5,
           0,
           0,
           0,
           0,
           -0.6,
           1.5,
           0,
           0,
           -0.7,
           0,
           0,
           0,
           -3,
           0,
           0,
           0,
           0,
           -0.3,
           0,
           -2,
           0,
           0,
           0,
           0,
           0,
           0,
           0,
           0,
           0,
           0,
           0,
           0,
           0,
           0,
           0,
           1.1,
           0,
           0,
           0,
           0,
           0,
           0,
           0,
           0,
           0,
           0,
           0,
           0,
           0,
           0,
           0,
           0,
           0,
           0,
           0,
           0,
           0,
           0,
           0,
           0,
           0,
           0,
           -2.8,
           0.4,
           0,
           -0.6,
           0,
           0,
           0,
           0,
           0,
           0,
           0,
           0,
           0,
           0,
           0,
           0,
           0,
           0,
           0,
           0,
           0,
           0,
           0,
           0,
           1.9,
           0,
           0,
           0,
           0,
           0,
           0,
           0,
           0,
           0,
           0,
           0,
           0,
           0,
           0,
           0,
           0,
           0,
           -11.1,
           0,
           0,
           0,
           0,
           -6.4,
           3.3,
           -2.5,
           0,
           -1.9,
           0,
           0,
           0.5,
           0,
           -3.2,
           -1.5,
           0,
           0,
           0,
           0,
           0,
           0,
           4.7,
           0.5,
           0,
           0,
           0,
           0,
           0,
           -1.1,
           0,
           0,
           0,
           0,
           0,
           0,
           0,
           0,
           0,
           -15.9,
           0,
           0,
           0,
           0,
           0,
           0,
           0,
           0,
           -3.2,
           0,
           0,
           0,
           0,
           0,
           0,
           0,
           0,
           0,
           0,
           0,
           0,
           0,
           0,
           0,
           0,
           0,
           0,
           0,
           4.9,
           0,
           0,
           0,
           0,
           0,
           0,
           0,
           0,
           -0.7,
           -4.8,
           0,
           0,
           0,
           0,
           -2.5,
           0,
           0,
           0,
           0,
           0,
           0,
           0,
           0,
           5.8,
           -6.4,
           0,
           0,
           0,
           0,
           0,
           0,
           0,
           0,
           0,
           0,
           0,
           -6,
           0.9,
           0.3,
           0,
           0,
           -2.1,
           0,
           1.9,
           0,
           2.8,
           2,
           0,
           0,
           -0.6,
           0,
           0,
           5.5,
           0,
           0.1,
           0,
           0,
           0,
           -0.5,
           0,
           0,
           -0.2,
           0,
           -4.8,
           0,
           0,
           -1.3,
           0,
           -2.3,
           0.7,
           0,
           1.3,
           -0.5,
           0,
           -1.1,
           -1.9,
           0,
           0,
           0.3,
           0.3,
           0,
           0.4,
           0,
           0,
           -3.5,
           -16.8,
           -3.2,
           0,
           -16.7,
           6.8,
           0,
           -5.9,
           1,
           -3.5,
           -3.8,
           2,
           0,
           0,
           0,
           -2.8,
           0,
           0,
           -2.1,
           -3.4,
           0,
           -0.1,
           0,
           0,
           0.8,
           -7.1,
           -28.9,
           -14.7,
           -6.3,
           0,
           2.2,
           0,
           0,
           0.1,
           0,
           0,
           -0.4,
           0,
           0,
           0,
           0,
           0,
           0,
           0,
           0,
           0,
           0,
           0,
           0,
           0,
           0,
           0,
           0,
           0,
           0,
           0,
           0,
           0,
           0,
           0,
           0,
           0,
           0,
           0,
           0,
           0,
           0,
           0,
           0,
           0,
           0,
           0,
           0,
           -0.7,
           0,
           0,
           0,
           0,
           0,
           1.3,
           -1.8,
           0,
           0,
           0,
           0,
           0,
           0,
           0,
           0,
           0,
           0,
           0,
           0,
           6.1,
           2.3,
           1.7,
           2.9,
           5.5,
           2.2,
           -1.8,
           1.6,
           0.1,
           -5.2,
           -6.3,
           -3.6,
           -0.9,
           -1.8,
           -2.8,
           -3.5,
           0,
           0,
           -1.6,
           1.7,
           0.7,
           0,
           -5.3,
           -3.4,
           -0.6,
           -4.6,
           5.6,
           3.5,
           2.4,
           -1.8,
           0,
           0,
           -4.3,
           0,
           -4.1,
           -15.6,
           -17.6,
           -2.6,
           -9.3,
           -2.3,
           0,
           -7.6,
           0,
           -1.2,
           0,
           -2.7,
           0,
           0,
           0,
           0,
           0,
           0,
           -2.5,
           0,
           0,
           0,
           0,
           0,
           0,
           0,
           0,
           0,
           0,
           0,
           0,
           -6.4,
           1.8,
           0,
           0,
           0,
           0.1,
           0,
           0,
           0,
           0,
           -0.2,
           -0.8,
           0,
           0,
           0,
           0,
           0,
           0,
           0,
           1.8,
           0,
           0,
           0,
           0,
           0,
           0,
           0,
           0,
           0,
           0,
           0,
           0,
           0,
           0,
           0,
           0,
           0,
           0,
           0,
           -1.6,
           0,
           0,
           0,
           0,
           0,
           0,
           0,
           97.4,
           -9.5,
           0,
           0,
           7.6,
           -1.1,
           2.5,
           1.7,
           -0.7,
           -4.6,
           -2.2,
           -2.8,
           6.7,
           -2,
           -1.2,
           -1.2,
           -0.1,
           0,
           -0.2,
           -1.4,
           -8.4,
           -2.3,
           -0.3,
           -19.6,
           0,
           0,
           -0.4,
           -11.4,
           0,
           0,
           -1,
           0,
           0,
           0,
           0,
           0,
           0,
           0,
           0,
           0,
           -2.9,
           0,
           0.1,
           -4.8,
           0,
           0,
           -1.1,
           0,
           -4.5,
           -2.4,
           -3.1,
           0,
           0.6,
           0,
           -4.4,
           -4.6,
           -6.5,
           0,
           0,
           0,
           0,
           0,
           0,
           0,
           0,
           -2.4,
           0,
           -3.7,
           -1.8,
           0,
           -12,
           -2.6,
           0,
           0,
           0,
           0,
           0,
           0,
           -5.5,
           2.4,
           1.8,
           0.2,
           4.4,
           -0.6,
           -0.6,
           0.9,
           3.8,
           4.9,
           1.9,
           -5.3,
           -1.1,
           -2.2,
           -0.8,
           -2.1,
           -1.7,
           0,
           -0.6,
           -3.4,
           -0.8,
           -2.4,
           -1.5,
           -2.7,
           -1.3,
           -4.3,
           -2.3,
           0,
           -5.3,
           -1.8,
           1.9,
           3.7,
           -3.8,
           0.8,
           0,
           0,
           0,
           0,
           -0.7,
           0,
           0.9,
           0,
           -1.5,
           0,
           0,
           0,
           0,
           0,
           0,
           -1.5,
           0.2,
           -2.5,
           0.1,
           0,
           0,
           0,
           -1.7,
           0,
           2.3,
           0,
           0,
           -10.6,
           -19.8,
           0,
           0,
           -3.6,
           0,
           0,
           0,
           0,
           -1.9,
           0,
           0,
           0,
           -1.3,
           -10,
           -25,
           0,
           0,
           0,
           3.6,
           3.8,
           4.1,
           1.4,
           9.8,
           0.9,
           1.2,
           3.9,
           3.6,
           1.8,
           -1.3,
           0,
           2.4,
           0,
           4.8,
           0,
           -0.8,
           0,
           -2.1,
           -1.4,
           -0.7,
           -1.5,
           3.8,
           -8.7,
           -1.5,
           -0.4,
           0.6,
           0,
           0,
           -5.4,
           -5.2,
           -2.6,
           -3,
           -3.8,
           -4.2,
           0,
           0,
           -2.9,
           0,
           -2.6,
           0,
           -0.1,
           0,
           0,
           0,
           1.9,
           -1,
           0,
           -2.3,
           0,
           -3.3,
           0,
           0,
           0,
           -4.9,
           0,
           0,
           0,
           -1.6,
           -15,
           -1,
           1,
           -1.3,
           0,
           -4.5,
           3,
           -0.8,
           -2.4,
           0.5,
           -0.2,
           -2.7,
           -2.6,
           -1.1,
           -4.5,
           -16.2,
           -1.4,
           0.7,
           -1.4,
           -1.9,
           -1.6,
           1.1,
           -1.8,
           0,
           -1.3,
           0,
           -1.8,
           -11.7,
           -1,
           0,
           -4.5,
           0.2,
           -0.7,
           -3.6,
           0,
           -2.2,
           0,
           0,
           0,
           -1.3,
           0,
           -5.4,
           0,
           1,
           -2.8,
           0,
           0.2,
           -0.5,
           0,
           0,
           0,
           0,
           -2.4,
           0,
           -5.1,
           0,
           0,
           0.5,
           0,
           0,
           -3.8,
           0,
           0,
           0,
           4,
           -8.9,
           -2.3,
           0.4,
           5.5,
           -2.8,
           3.1,
           2.6,
           0,
           -0.2,
           0,
           2.5,
           0,
           0.5,
           3.1,
           -0.3,
           -1.8,
           0,
           -1.9,
           -1.5,
           1.6,
           -0.1,
           0,
           0,
           0,
           0,
           2.1,
           -0.5,
           3.5,
           2.4,
           0,
           0,
           0,
           0,
           0,
           0,
           -2.8,
           4.7,
           0,
           0,
           -2.6,
           0,
           -6.2,
           2,
           -0.7,
           0,
           0.3,
           0,
           -2.2,
           0,
           -5.8,
           -2,
           0,
           0,
           0,
           -2.9,
           -26,
           0,
           0,
           0,
           -2.7,
           0,
           -4.7,
           0.4,
           -1.1,
           0,
           0,
           0,
           4.4,
           0,
           -0.7,
           -0.2,
           0,
           0,
           -4.2,
           -1,
           4.8,
           0.6,
           -1.6,
           -3.3,
           0,
           0.3,
           -4.6,
           -2.4,
           -1.4,
           0,
           -6.2,
           -3.4,
           0,
           0,
           0.3,
           -2.6,
           0,
           -0.9,
           0,
           -3.4,
           0,
           0,
           0,
           0.7,
           4.6,
           0,
           0,
           0,
           -9,
           -4.1,
           -3.2,
           -3.1,
           0,
           0,
           -1.2,
           -1.5,
           0,
           0,
           0,
           -6.2,
           0,
           0,
           0,
           0,
           -2,
           5.6,
           0,
           0,
           -2,
           -3.5,
           -1.4,
           -7.1,
           0,
           0,
           -3.7,
           0,
           11.8,
           -2.7,
           2.3,
           3.6,
           8.2,
           0.3,
           1.8,
           0.3,
           0,
           -2.6,
           -0.2,
           -3.2,
           -3.6,
           -1.5,
           -5.1,
           0,
           0,
           1.4,
           -2.1,
           -4.4,
           -0.8,
           0,
           -0.9,
           -0.1,
           0.4,
           0,
           -0.7,
           0.2,
           2.2,
           0,
           -0.5,
           -1.1,
           -6.2,
           -1,
           0,
           0,
           -4.7,
           -2.5,
           -1.4,
           0.7,
           0.3,
           0,
           -0.1,
           -0.1,
           0,
           -14,
           0,
           0,
           0.5,
           -0.5,
           -1,
           0,
           0,
           -11.8,
           -3.8,
           0,
           0,
           -1.7,
           -4.1,
           0,
           -0.6,
           0,
           -3.9,
           0,
           -2.6,
           -4.9,
           0,
           0,
           5.3,
           -1.1,
           1.1,
           0,
           2.8,
           0,
           1.7,
           -7.7,
           3.2,
           -3.8,
           -2.3,
           0,
           -3.5,
           0.4,
           0.4,
           0,
           2.8,
           1.7,
           0.8,
           1.2,
           0,
           -1.8,
           0,
           1.7,
           1,
           0.5,
           -0.7,
           -1.4,
           -5.9,
           -2.6,
           0,
           0,
           0,
           0,
           0,
           -6.8,
           -3.8,
           -1.7,
           -8.3,
           -0.4,
           -1.8,
           0,
           -2.1,
           0,
           -5.4,
           0,
           -2.6,
           0,
           -4.1,
           -2,
           0,
           -5.2,
           0,
           3.1,
           0,
           -7.1,
           0,
           0,
           -9.6,
           -0.2,
           0,
           0,
           0,
           0,
           0,
           0,
           3.1,
           1.3,
           7.1,
           1.6,
           -1.6,
           0,
           -4.2,
           -1.1,
           3.8,
           0,
           0,
           -3.1,
           0,
           -3.3,
           -6.5,
           4.8,
           0,
           -1.9,
           0,
           0.7,
           -1.4,
           -1.1,
           0.8,
           -4.7,
           -0.6,
           0,
           -2.3,
           0,
           0.8,
           -3.5,
           0,
           0.2,
           1.1,
           2,
           0.7,
           -1.4,
           -1.4,
           0.8,
           -1.8,
           0,
           0,
           0,
           4,
           0,
           0,
           -4.8,
           -0.1,
           0,
           -10.9,
           0,
           0,
           1,
           0.1,
           0,
           0,
           0,
           0,
           -3.5,
           0,
           2,
           0,
           -3.8,
           0,
           0,
           0,
           0,
           -1.2,
           0,
           -1.4,
           0,
           0,
           -5.7,
           0,
           0,
           4.2,
           0,
           0,
           -3.5,
           0,
           0,
           0,
           0,
           0,
           -0.5,
           -1.5,
           0,
           0,
           0,
           -8.3,
           0,
           -1.4,
           2.1,
           -4.7,
           -6,
           -3.5,
           4.7,
           -0.8,
           1.9,
           0,
           0,
           1.8,
           -6.1,
           0.1,
           2.4,
           0,
           -1.3,
           -6.4,
           0,
           0,
           -2.4,
           2.2,
           0,
           -2,
           4.1,
           -0.8,
           0.4,
           0,
           0,
           -5.8,
           -5.4,
           0,
           -0.4,
           -4.2,
           18.2,
           0,
           -0.6,
           0,
           0,
           0,
           0,
           -2.2,
           0,
           0,
           0,
           1.9,
           -0.3,
           -4.6,
           0,
           0,
           0,
           0,
           0,
           -1,
           0,
           -8.5,
           0,
           0,
           0,
           0,
           -3.6,
           -5.5,
           0,
           -1.3,
           0,
           0,
           0,
           0,
           0,
           0,
           0,
           0,
           0,
           0,
           -0.1,
           0,
           0,
           0,
           0,
           0,
           10.2,
           3.4,
           4.6,
           0,
           0,
           -0.1,
           2.5,
           2.9,
           0.6,
           -1,
           -0.1,
           0,
           -4.1,
           0.6,
           -1.3,
           0.4,
           -1.2,
           0,
           -0.4,
           -4.8,
           1.8,
           0.5,
           0.9,
           0,
           0.7,
           1.4,
           0,
           -4,
           0.7,
           0,
           0,
           0,
           -1.9,
           0,
           -1.4,
           8.4,
           0,
           -5.8,
           0,
           -4.4,
           -2.9,
           2.8,
           -1.3,
           0,
           0,
           0,
           -0.4,
           0,
           -5.5,
           0,
           0,
           0,
           -0.4,
           0,
           0,
           -7,
           -2.1,
           0,
           0,
           0,
           0,
           0,
           0,
           0,
           -2,
           -0.5,
           -3.1,
           5.5,
           8.9,
           0,
           -0.5,
           0,
           -0.6,
           3.7,
           -1.8,
           -0.9,
           -0.8,
           0,
           1.2,
           -2.8,
           1.4,
           1.6,
           -0.9,
           -2.6,
           1.4,
           -1.1,
           -1.2,
           0.9,
           3.4,
           2.3,
           -3.2,
           0,
           -3.8,
           0,
           -5.7,
           0,
           0.3,
           0.4,
           2.5,
           -0.7,
           -1.1,
           0,
           0,
           0,
           0,
           0,
           0,
           1.9,
           0,
           0,
           -3.5,
           0,
           0,
           -4.8,
           -1,
           -5.3,
           0,
           0,
           -1.1,
           0,
           0,
           -1.7,
           -1.9,
           -4.1,
           -2.9,
           21.2,
           -4.4,
           0,
           4,
           -1.5,
           8.8,
           1.2,
           1.8,
           0,
           7.4,
           -1.6,
           -0.9,
           3.3,
           -2.4,
           -1.1,
           -1.9,
           -0.7,
           -3.8,
           -3.5,
           2.1,
           2,
           -0.1,
           -4.5,
           0.1,
           -0.3,
           0,
           0,
           -0.9,
           -1.9,
           -0.5,
           -5.6,
           0,
           -3.2,
           -1,
           0,
           -1.4,
           -8.9,
           -0.9,
           -8.4,
           0,
           -0.1,
           0,
           -1,
           0.6,
           0.3,
           -2.5,
           0,
           2.8,
           0,
           -1,
           -1.2,
           4,
           -2,
           0,
           0,
           0,
           0,
           0,
           0,
           0.3,
           -2.6,
           0,
           -2.4,
           0,
           -4.7,
           0.3,
           0,
           0,
           -12.6,
           3.5,
           -3.3,
           -0.1,
           -3.3,
           3.3,
           -1.7,
           2.1,
           0.1,
           2.6,
           4.9,
           1.5,
           0,
           1.5,
           2.5,
           -3,
           -0.4,
           -3.8,
           2.1,
           -0.1,
           0,
           0,
           -2.8,
           -1,
           14,
           0,
           -2,
           -0.6,
           -1.1,
           0,
           -8.5,
           0,
           -24.3,
           4.1,
           0,
           0,
           0,
           0,
           -1.4,
           -1.2,
           -2.3,
           0,
           -0.2,
           0,
           0,
           0,
           0,
           0,
           2.2,
           -21.1,
           0,
           -2,
           0,
           -3,
           -2.5,
           0,
           -0.2,
           0,
           0,
           -1.4,
           -4.3,
           0,
           0,
           0,
           0,
           -4.2,
           0,
           -9.6,
           0,
           -7.2,
           0,
           0,
           7.3,
           -2.9,
           2.2,
           -0.7,
           2.4,
           0,
           -2.4,
           -2.8,
           4,
           -4.7,
           1.8,
           -2.3,
           -0.3,
           0.1,
           9.4,
           1.9,
           -1.5,
           0,
           1.9,
           -4.5,
           0,
           -0.1,
           0.7,
           2.7,
           -1.1,
           -3.3,
           0,
           -3.1,
           -1.3,
           4.6,
           -1.7,
           0,
           -1.4,
           -1.6,
           0,
           0,
           0,
           1.7,
           0,
           -2.8,
           0,
           1.6,
           0,
           0,
           0,
           0,
           0,
           0,
           0,
           0,
           1.2,
           41.5,
           -1.5,
           3.2,
           -3.9,
           -2.6,
           0,
           0,
           0,
           0,
           -0.2,
           0,
           0,
           -2.9,
           -7.6,
           -9.1,
           0,
           -5.5,
           0,
           0,
           9.4,
           -2.4,
           2.9,
           -0.1,
           -2.1,
           4.4,
           -0.2,
           2.1,
           -0.5,
           -1.2,
           2,
           1.6,
           0,
           0.2,
           0.7,
           0,
           0.9,
           -0.6,
           -4.9,
           -0.6,
           0,
           0,
           2.2,
           0,
           0,
           -1.3,
           0,
           0,
           0,
           -1.8,
           -2.4,
           0,
           2.2,
           5.5,
           0,
           -0.1,
           0,
           -0.3,
           0.8,
           0,
           0,
           -1.6,
           0,
           0,
           0,
           0,
           -4.5,
           0.4,
           0,
           0,
           0,
           0,
           -4.1,
           -3.5,
           0,
           -2.6,
           -2,
           0,
           0,
           0,
           -1.9,
           -2.1,
           0,
           0,
           0,
           -4.3,
           0,
           0,
           -4.2,
           0,
           -0.5,
           -2,
           -4.6,
           0,
           -1.4,
           0,
           -2.5,
           0,
           -4.9,
           -11.9,
           0,
           0,
           0,
           3.1,
           -1.2,
           -0.7,
           -1,
           0,
           0,
           -3.5,
           0,
           0,
           2,
           -1.2,
           -2,
           -3.5,
           0,
           0,
           0.2,
           -3.3,
           0,
           0,
           1,
           0.3,
           -0.5,
           -8.4,
           1.5,
           -3.2,
           1.1,
           0,
           0.9,
           0,
           0,
           0.3,
           0,
           -0.9,
           3.4,
           -2.5,
           -1.7,
           1.1,
           -0.6,
           0,
           -1.7,
           2.5,
           -8.4,
           5.8,
           11.5,
           0,
           -4.4,
           0,
           5.2,
           0,
           0,
           1.5,
           0,
           -3.3,
           0,
           -1.2,
           -2.7,
           -1.4,
           -3.1,
           -2.2,
           -7.6,
           0,
           0,
           0,
           -1.5,
           0,
           -0.2,
           0,
           -4.7,
           0,
           0,
           0,
           -1.8,
           -1.9,
           0,
           0,
           0,
           0,
           0,
           0,
           0,
           0,
           0,
           0,
           0,
           0,
           -0.4,
           -3.7,
           4,
           0,
           0,
           0,
           0,
           0.1,
           0,
           0,
           0,
           -1.5,
           0,
           -2.5,
           0.6,
           -1.9,
           -0.1,
           0,
           -0.9,
           0,
           -3,
           0,
           -0.5,
           -3.5,
           -2.3,
           -6.4,
           -2.2,
           0.1,
           -0.2,
           -11.4,
           1.4,
           0.8,
           1,
           -2.3,
           -26.7,
           -0.3,
           0,
           -7.5,
           0,
           -3,
           0,
           0,
           -0.4,
           -0.9,
           4.7,
           0,
           0,
           -3.8,
           0,
           3.7,
           0,
           8.8,
           0,
           0,
           -0.4,
           0,
           1.4,
           -1.5,
           2,
           0,
           -10.2,
           12.1,
           2.2,
           0,
           0,
           -0.3,
           0,
           0,
           -2,
           -3.2,
           0,
           0,
           -2.3,
           -7.7,
           0,
           0,
           0,
           -2.4,
           0,
           -11.3,
           0,
           0,
           0,
           -3.2,
           0,
           0,
           0,
           -2.7,
           30.5,
           3.3,
           0,
           0,
           3.3,
           3.6,
           0,
           0,
           4.5,
           0.6,
           0,
           1.2,
           -1.9,
           0.3,
           0,
           1.7,
           0,
           -1.8,
           0,
           -1.3,
           1.5,
           0,
           0,
           1.4,
           0,
           -5,
           0,
           0.3,
           -0.4,
           -0.7,
           0,
           -4,
           0,
           -2.1,
           0,
           -1.8,
           0.1,
           0.3,
           0,
           -3.5,
           -3.7,
           2.4,
           0,
           0,
           -5,
           0,
           -0.5,
           -3.2,
           0,
           -3.9,
           0,
           0,
           0,
           0,
           0,
           -0.5,
           0,
           0,
           0,
           0,
           0,
           0,
           0,
           -8.2,
           0,
           -1.3,
           0,
           0,
           0,
           0,
           0,
           0,
           0,
           0,
           -0.6,
           0,
           1,
           0,
           0,
           0,
           -1.4,
           0,
           -0.3,
           0,
           0,
           0,
           0.8,
           -2.9,
           0,
           0,
           0,
           0,
           0,
           -7,
           0,
           -2.5,
           0,
           -1.2,
           0,
           0,
           0,
           0,
           0,
           -3.7,
           0.9,
           0,
           0,
           0,
           -3.9,
           0,
           0,
           1.8,
           0,
           0,
           0,
           0,
           0,
           -4.4,
           0,
           0,
           -1.4,
           -1.9,
           0,
           -3.5,
           0,
           0,
           -8.7,
           0,
           -2.9,
           0,
           0,
           -1.4,
           2.7,
           0,
           0,
           -3.2,
           0,
           0,
           -4.5,
           0,
           0,
           -2.8,
           -1.2,
           -0.7,
           0,
           0,
           0,
           -0.5,
           0,
           0,
           0,
           0,
           -4.2,
           0,
           -1.3,
           -0.2,
           0,
           -1.3,
           -2.5,
           -3,
           -1,
           0,
           0,
           0,
           0,
           0,
           0,
           0,
           0,
           0,
           0,
           0,
           0,
           0,
           0,
           0,
           -3.5,
           0,
           0,
           0,
           0,
           0,
           0,
           0,
           0,
           0,
           0,
           -46.6,
           -2.5,
           0,
           0,
           -0.4,
           0,
           -1.7,
           1.3,
           0,
           0,
           -0.8,
           0,
           -5.1,
           0,
           -2.8,
           -2.6,
           0,
           0,
           -0.8,
           -3.7,
           0,
           -3.8,
           0,
           0,
           -0.3,
           0,
           -1.4,
           0,
           -1.6,
           0,
           0,
           -3.9,
           0,
           0.8,
           0,
           -7.7,
           0,
           -33.1,
           -3.4,
           0,
           0,
           0,
           0,
           0.3,
           0,
           0,
           0,
           0,
           0,
           0,
           -4.6,
           0,
           -10.1,
           0,
           0,
           -5.4,
           0,
           0,
           0,
           0,
           -8.7,
           0,
           2.5,
           0,
           -6,
           0,
           0,
           -9.7,
           0,
           0,
           0,
           -0.2,
           0,
           0,
           -0.2,
           0,
           0,
           0,
           0,
           -1.9,
           0,
           0,
           0,
           0,
           0,
           0,
           0.5,
           0,
           0,
           0,
           0,
           0,
           0,
           0,
           0,
           0.7,
           0,
           0,
           0,
           0,
           0,
           0,
           0,
           -7.9,
           0,
           -3.4,
           -2,
           0,
           0,
           0,
           0,
           0,
           0,
           0,
           0,
           0,
           0,
           0,
           0,
           0,
           0,
           0,
           0,
           0,
           0,
           0,
           0,
           0,
           0,
           0,
           -2.4,
           0,
           0,
           0,
           -15.7,
           0,
           0,
           0,
           0,
           0,
           0,
           0,
           0,
           0,
           0,
           0,
           0,
           0,
           0,
           0,
           0,
           0,
           0,
           -7.3,
           0,
           0,
           0,
           -2.4,
           -1.9,
           0,
           0,
           0,
           0,
           0,
           0,
           -4.3,
           0.5,
           0,
           -0.5,
           -1.7,
           0,
           0,
           0,
           0,
           -5.8,
           0,
           0,
           -3.1,
           0,
           -0.7,
           0,
           0,
           0,
           -8.1,
           0,
           0,
           0,
           0,
           0,
           0,
           0,
           0,
           0,
           0,
           1.2,
           0,
           0,
           0,
           0,
           0,
           0,
           0,
           0,
           0,
           0,
           0,
           0,
           0,
           0,
           0,
           0,
           0,
           0,
           0,
           0,
           0,
           0,
           0,
           0,
           0,
           0,
           0,
           0,
           0,
           0,
           0,
           0,
           0,
           0,
           0,
           0,
           0,
           0,
           0,
           0,
           0,
           0,
           0,
           0,
           0,
           0,
           0,
           0,
           0,
           0,
           0,
           0,
           0,
           0,
           0,
           0,
           0,
           0,
           0,
           0,
           0,
           0,
           0,
           0,
           0,
           0,
           0,
           0,
           0,
           0,
           0,
           0,
           0,
           0,
           0,
           0,
           0,
           0,
           0,
           0,
           0,
           0,
           0,
           0,
           0,
           0,
           1.1,
           0,
           0,
           -2.6,
           0,
           0,
           -10.7,
           0,
           0,
           0,
           0,
           0,
           0,
           0,
           0,
           0,
           0,
           0,
           0,
           0,
           0,
           0,
           0,
           0,
           0,
           0,
           0,
           0,
           0,
           0,
           0,
           0,
           0,
           0,
           0,
           0,
           0,
           0,
           0,
           0,
           0,
           0,
           0,
           0,
           0,
           0,
           0,
           0,
           0,
           0,
           0,
           0,
           0,
           0,
           0,
           0,
           0,
           0,
           0,
           0,
           0,
           0,
           0,
           0,
           0,
           0,
           0,
           0,
           0,
           0,
           0,
           0,
           -1.4,
           0,
           0,
           0,
           0,
           0,
           0,
           -0.4
          ],
          "coloraxis": "coloraxis",
          "size": [
           0,
           0,
           0,
           0,
           0,
           0,
           0,
           0,
           0,
           0,
           0,
           0,
           34.74216938150711,
           0,
           5.443191465797735,
           0,
           0,
           0,
           0,
           36.704927008055336,
           33.39713061526888,
           0,
           0,
           42.91835271768943,
           0,
           0,
           0,
           20.808732141419213,
           0,
           0,
           0,
           0,
           32.43167176285136,
           0,
           23.405305666308507,
           0,
           0,
           0,
           0,
           0,
           0,
           0,
           0,
           0,
           0,
           0,
           0,
           0,
           0,
           0,
           54.29645476456083,
           0,
           0,
           0,
           0,
           0,
           0,
           0,
           0,
           0,
           0,
           0,
           0,
           0,
           0,
           0,
           0,
           0,
           0,
           0,
           0,
           0,
           0,
           0,
           0,
           0,
           0,
           32.41532559351101,
           42.63504036196835,
           0,
           41.28805315503905,
           0,
           0,
           0,
           0,
           0,
           0,
           0,
           0,
           0,
           0,
           0,
           0,
           0,
           0,
           0,
           0,
           0,
           0,
           0,
           0,
           41.493473382368585,
           0,
           0,
           0,
           0,
           0,
           0,
           0,
           0,
           0,
           0,
           0,
           0,
           0,
           0,
           0,
           0,
           0,
           7.697510420042749,
           0,
           0,
           0,
           0,
           12.081114738853076,
           54.772103605150406,
           5.46198986939131,
           0,
           44.17006905133837,
           0,
           0,
           42.65741436139795,
           0,
           11.656328753085168,
           42.573955262186644,
           0,
           0,
           0,
           0,
           0,
           0,
           57.41855100923394,
           43.84968642989366,
           0,
           0,
           0,
           0,
           0,
           51.781302931978544,
           0,
           0,
           0,
           0,
           0,
           0,
           0,
           0,
           0,
           3.7013511046643495,
           0,
           0,
           0,
           47.882408043038104,
           0,
           0,
           0,
           0,
           25.07814453529872,
           0,
           0,
           0,
           0,
           0,
           0,
           0,
           0,
           0,
           0,
           0,
           0,
           0,
           0,
           0,
           0,
           0,
           0,
           0,
           47.13590280596448,
           0,
           0,
           0,
           0,
           0,
           0,
           0,
           0,
           50.64915267471579,
           42.72489516273469,
           0,
           0,
           0,
           0,
           49.155399839013924,
           0,
           0,
           0,
           0,
           0,
           0,
           0,
           0,
           46.608296829355716,
           6.708203932499369,
           0,
           0,
           0,
           0,
           0,
           0,
           0,
           0,
           0,
           0,
           0,
           6.759807689572241,
           37.35866699977396,
           37.868280482042884,
           0,
           0,
           36.25748198648108,
           0,
           48.275511390351944,
           0,
           46.87545555334188,
           56.17459390151388,
           0,
           0,
           41.4647440604666,
           0,
           0,
           45.42319524941712,
           0,
           41.5886402759215,
           0,
           0,
           0,
           44.79222402753998,
           0,
           0,
           12.029339133967419,
           0,
           29.578342301983948,
           0,
           0,
           28.994654679785377,
           0,
           41.26000888673353,
           51.955221104331756,
           0,
           40.32784397906737,
           30.589077571359798,
           0,
           33.19312177746061,
           44.061056122915055,
           0,
           0,
           39.30801444998208,
           29.624454987954344,
           0,
           33.09614781209439,
           0,
           0,
           13.71762856084582,
           8.562028575830222,
           30.110352593972276,
           0,
           5.942642509860407,
           56.31587993926163,
           0,
           10.217794934981471,
           56.11131793141202,
           4.328202090167845,
           34.122451064756035,
           45.334791643210735,
           0,
           0,
           0,
           17.30717577576807,
           0,
           0,
           37.08723949464735,
           27.81321628291126,
           0,
           41.43661826613424,
           0,
           0,
           36.635820358405105,
           12.043116983018432,
           3.610170817749944,
           5.150728103870365,
           26.512921378075255,
           0,
           53.34733670328192,
           0,
           0,
           40.92096039928682,
           0,
           0,
           42.723919920032266,
           0,
           0,
           0,
           0,
           0,
           0,
           0,
           0,
           0,
           0,
           0,
           0,
           0,
           0,
           0,
           0,
           0,
           0,
           0,
           0,
           0,
           0,
           0,
           0,
           0,
           0,
           0,
           0,
           0,
           0,
           0,
           0,
           0,
           0,
           0,
           0,
           49.74019166294668,
           0,
           0,
           0,
           0,
           0,
           35.347819357540715,
           34.54786534650151,
           0,
           0,
           0,
           0,
           0,
           0,
           0,
           0,
           0,
           0,
           0,
           0,
           54.55142833449304,
           39.31333531174034,
           54.57177231255487,
           56.99445879498577,
           55.955949936832724,
           58.36467253399097,
           44.5754790589325,
           43.559614323361494,
           40.66091489378959,
           32.27573908268144,
           20.009664331684004,
           43.601376125072015,
           39.17737442283071,
           25.102523113557073,
           28.227026056600437,
           29.651897072531465,
           0,
           0,
           42.478837868598404,
           34.00306358746709,
           11.929305651769218,
           0,
           20.208908926510603,
           30.02240829780316,
           8.373270965797458,
           24.460444258707426,
           49.47162486382138,
           49.51117718926374,
           52.81058921592648,
           24.777947184273902,
           0,
           0,
           11.788977903109327,
           0,
           6.267641768108106,
           2.5658007197234416,
           3.4868801719206384,
           36.55730661121891,
           6.739312526759187,
           47.33097998844594,
           0,
           13.784048752090222,
           0,
           32.7219345393881,
           0,
           13.546709317518149,
           0,
           0,
           0,
           0,
           0,
           0,
           13.679973196854846,
           0,
           0,
           0,
           0,
           0,
           0,
           0,
           0,
           0,
           0,
           0,
           0,
           7.340186192007209,
           23.81463135693406,
           0,
           0,
           0,
           48.85944125755021,
           0,
           0,
           0,
           0,
           6.056676756550023,
           40.34538387473838,
           0,
           0,
           0,
           0,
           0,
           0,
           0,
           44.26582579522639,
           0,
           0,
           0,
           0,
           0,
           0,
           0,
           0,
           0,
           0,
           0,
           0,
           0,
           0,
           0,
           0,
           0,
           0,
           0,
           23.71546612093747,
           0,
           0,
           0,
           0,
           0,
           0,
           0,
           0.7416198487095663,
           7.7864198020228335,
           0,
           0,
           57.720533608067065,
           41.606369704649794,
           48.53797482384282,
           45.415948006546444,
           42.66725911047017,
           41.44691383766311,
           48.5753023665319,
           38.21400266917874,
           56.489010730701686,
           47.10994233351035,
           39.68349782970246,
           43.28785433967974,
           46.90900766377391,
           0,
           39.76447325607784,
           38.2289811530467,
           5.73149195236284,
           31.715952873383294,
           40.75021472336066,
           3.599768511075858,
           0,
           0,
           30.63720505093983,
           12.491864018899141,
           0,
           0,
           40.32639747526836,
           0,
           0,
           0,
           0,
           0,
           0,
           0,
           0,
           0,
           25.277493282892333,
           0,
           54.25151303573634,
           31.00387072608838,
           0,
           0,
           27.834900155500236,
           0,
           30.07568231423299,
           24.2939292828476,
           33.15350660186642,
           0,
           43.911312134042745,
           0,
           20.671074798697163,
           1.8907670401189038,
           11.102477201057429,
           0,
           0,
           0,
           0,
           0,
           0,
           0,
           0,
           24.9022087373791,
           0,
           27.03318947762792,
           43.103499471234,
           0,
           12.186262757712063,
           33.93486407811294,
           0,
           0,
           0,
           0,
           0,
           0,
           46.129021956536974,
           54.61115575899607,
           49.53629982144407,
           55.07549364281722,
           48.84306501439073,
           29.096792492186026,
           47.84973005845143,
           45.46828565054987,
           54.03559012354727,
           55.64687772013808,
           48.48169757753951,
           32.25042635377089,
           41.469687724891294,
           51.18279333265556,
           50.46987550344591,
           35.94857438063435,
           47.120430812971136,
           0,
           49.00309514034119,
           30.29518663638389,
           51.88392493505739,
           33.28480634363568,
           44.58009645570543,
           27.938772342391854,
           52.74081278605147,
           7.551931320309176,
           29.721036321097554,
           0,
           21.221844092035617,
           11.87756989735977,
           45.39487856575894,
           51.983346692314164,
           36.976794524854775,
           35.20260407034301,
           0,
           0,
           0,
           0,
           24.41713878951969,
           0,
           54.829037319045916,
           0,
           36.702361413583866,
           0,
           0,
           0,
           0,
           0,
           0,
           14.294695986040871,
           29.745868060399026,
           18.455938520342634,
           26.42032046235119,
           0,
           0,
           0,
           32.995454232363585,
           0,
           47.58229712823877,
           0,
           0,
           5.187324294213087,
           2.3273733406281574,
           0,
           0,
           39.44775025270769,
           0,
           0,
           0,
           0,
           40.41726116401259,
           0,
           0,
           0,
           27.599728259531833,
           7.031002773431397,
           2.2135943621178655,
           0,
           0,
           0,
           54.81503747452272,
           57.63287545605659,
           39.77180743525079,
           48.12847390059236,
           4.54789328517428,
           42.82345541094658,
           52.77166221878301,
           54.94844553457968,
           56.65571462791728,
           55.53240795547524,
           21.833498727108925,
           0,
           49.46274692466372,
           0,
           17.032175433572778,
           0,
           47.35625618648501,
           0,
           40.52713083026394,
           42.24460517825525,
           44.495168277016326,
           40.15167078300316,
           45.2645372596841,
           6.398437309218556,
           22.251142292775285,
           42.8374446794702,
           35.94303363193861,
           0,
           0,
           12.989996150884727,
           20.205733509740917,
           36.54237266516776,
           16.673931749890304,
           20.28575033531338,
           16.780842251408806,
           0,
           0,
           46.41542487866151,
           0,
           21.62178685184615,
           0,
           24.409936501351247,
           0,
           0,
           0,
           37.873737602724134,
           13.306264188970058,
           0,
           25.538663499355895,
           0,
           29.87532426602262,
           0,
           0,
           0,
           34.74461588985162,
           0,
           0,
           0,
           16.673182059822896,
           4.370354676682432,
           22.518732942448892,
           51.241080524646726,
           35.77815907319255,
           0,
           27.226825007701503,
           47.61914880941626,
           30.395997543536335,
           43.28100045054411,
           50.551442445624936,
           43.10371213712341,
           33.7192328896532,
           20.376416106208005,
           43.58615988284962,
           36.86041236882735,
           7.406078584514209,
           10.262796889737222,
           42.02945395790909,
           52.58250659677608,
           37.976045081077096,
           52.86065014103903,
           39.931462115312904,
           54.26742423713632,
           0,
           49.187108744737884,
           0,
           16.76141402149592,
           3.0713731999438507,
           47.775952807523055,
           0,
           25.236448508721132,
           36.76114343524518,
           41.95519435461276,
           23.190048152889485,
           0,
           30.775071080340336,
           0,
           0,
           0,
           34.36880853331986,
           0,
           36.99213880452616,
           0,
           53.40564888973197,
           3.788139384975162,
           0,
           25.744157913333794,
           3.623994113313831,
           0,
           0,
           0,
           0,
           4.931193229500006,
           0,
           20.518568825984598,
           0,
           0,
           12.378677904633717,
           0,
           0,
           24.813974557360474,
           0,
           0,
           0,
           5.983867199952444,
           6.684933308069221,
           26.70986085075448,
           52.751508667209414,
           55.99205300754742,
           39.117259617718624,
           53.63574678638613,
           44.13724806404076,
           0,
           38.467692071832566,
           0,
           48.573912751599494,
           0,
           44.429663514368414,
           55.30659996781578,
           50.1615556643399,
           40.057666765135856,
           0,
           10.738870207490777,
           47.1664605413635,
           49.24291827258006,
           43.22840501337055,
           0,
           0,
           0,
           0,
           48.74011010793195,
           50.34544004508581,
           37.09535011291847,
           48.0870738002082,
           0,
           0,
           0,
           0,
           0,
           0,
           45.517267785607146,
           54.23745630711925,
           0,
           0,
           30.282035378532054,
           0,
           12.285560630268364,
           47.998749983723535,
           42.59485493186554,
           0,
           50.373438768197374,
           0,
           22.407402050810507,
           0,
           4.997499374687305,
           41.606770282411134,
           0,
           0,
           0,
           37.98914318591563,
           2.4186773244895647,
           0,
           0,
           0,
           32.81717030255153,
           0,
           32.525246604240685,
           32.07052125135059,
           16.403810532921916,
           0,
           0,
           0,
           44.14702707997448,
           0,
           50.76938053590963,
           47.30706430685939,
           0,
           0,
           16.2949890048035,
           41.697661804950165,
           51.73771996007043,
           52.03735837517763,
           36.14772929705723,
           22.528315516256423,
           0,
           47.648539676818324,
           22.40026041515292,
           36.34090899615295,
           38.40499099509503,
           0,
           17.811840631070865,
           33.33574157967196,
           0,
           0,
           53.83418987966662,
           33.78261387163521,
           0,
           31.3898338107526,
           0,
           17.061750594043186,
           0,
           0,
           0,
           35.37951384629246,
           50.56423307701473,
           0,
           0,
           0,
           14.584466622632005,
           29.650182686339946,
           27.64169555822025,
           25.116063916678247,
           0,
           0,
           31.203605560896325,
           34.624654029559196,
           0,
           0,
           0,
           10.489677465648455,
           0,
           0,
           0,
           0,
           21.22164775255053,
           1.795828499606797,
           0,
           0,
           49.57206874843938,
           35.34814940936329,
           24.885906319307182,
           4.378355855797928,
           0,
           0,
           37.32191045485212,
           0,
           54.45851632205931,
           41.06425858740579,
           51.32470165524589,
           50.25460177933957,
           43.93884006965443,
           45.636498551050124,
           54.35702959752924,
           47.517698457171406,
           0,
           40.32726538377392,
           36.27081011869834,
           38.05318646315969,
           22.423202269078338,
           45.72829175320974,
           7.338028799798124,
           0,
           0,
           50.2593938151533,
           32.4498587567547,
           31.097025581235258,
           48.0372251488364,
           0,
           27.019869232350718,
           39.18137312550442,
           43.91129315639281,
           0,
           46.40603409040682,
           49.20326886159771,
           43.762883817225756,
           0,
           42.041190119532416,
           36.50566166135508,
           22.57325113196296,
           42.20448238437868,
           0,
           0,
           42.91967303385861,
           32.99722210530259,
           43.731167375225645,
           41.34628157404242,
           49.09263352751276,
           0,
           42.09097290393749,
           47.83455863703563,
           0,
           8.975429423338657,
           0,
           0,
           42.02757031600411,
           49.90435852708659,
           41.23635127732169,
           0,
           0,
           9.14904366587022,
           16.28869751289731,
           0,
           0,
           4.110555518012949,
           22.901819432816534,
           0,
           35.712509479639344,
           0,
           10.626852779633301,
           0,
           37.17037350722575,
           35.03538687289367,
           0,
           0,
           54.17487117351245,
           52.135576464956536,
           54.76285237275356,
           35.50692420735243,
           49.94263375780927,
           0,
           56.638488091873796,
           24.51128991573746,
           57.17490708344002,
           11.728952780761503,
           27.17756427643949,
           0,
           26.656706473231086,
           45.39563121417446,
           49.63023272159823,
           0,
           51.42791071004149,
           44.35752472805488,
           56.096152571574194,
           44.28097785731476,
           0,
           10.232708992897873,
           0,
           46.3857736811622,
           28.365383833116027,
           44.12399196204566,
           23.97623823705462,
           45.60157161034398,
           26.500220124871927,
           36.32418845159063,
           0,
           0,
           0,
           0,
           0,
           23.87868645186889,
           23.207039162001408,
           38.598726231142265,
           17.83615242515417,
           50.988707900213846,
           36.09741449651664,
           0,
           5.850925852660697,
           0,
           12.126898476802179,
           0,
           15.398593009319617,
           0,
           3.4544657088084256,
           43.53732115476709,
           0,
           16.459748884273203,
           0,
           5.640035460881429,
           0,
           12.256222909200044,
           0,
           0,
           14.234172496730078,
           5.02908208987154,
           22.720438669474078,
           0,
           0,
           0,
           0,
           0,
           47.21620484537062,
           38.723442512256064,
           53.66230831163835,
           51.40855959857269,
           33.757320193799,
           42.98321377778388,
           27.30732502461565,
           14.673445403176448,
           52.929197991278876,
           0,
           0,
           18.198534739551615,
           0,
           37.31029795288869,
           18.183371524555064,
           49.23636867194818,
           0,
           41.87684324301439,
           0,
           33.404365982108835,
           52.11959004699356,
           37.54341930796035,
           37.13154543870575,
           29.890020631196176,
           37.518240008472276,
           0,
           33.751345652185925,
           0,
           53.14188555179427,
           20.03971057675235,
           0,
           44.49938201818088,
           36.93133267746143,
           44.85836971328015,
           38.18138726308055,
           36.82716388754366,
           23.506275757763074,
           56.80381442591096,
           9.845895930115589,
           0,
           0,
           0,
           41.00884051030948,
           0,
           0,
           25.02025845856379,
           49.33452138209106,
           0,
           7.791127432321121,
           0,
           0,
           48.216283556491575,
           32.98408707240508,
           0,
           0,
           0,
           0,
           27.164468213703962,
           0,
           40.16997220146748,
           0,
           6.085912695178374,
           0,
           0,
           0,
           0,
           19.401331569422418,
           0,
           16.606725545192013,
           0,
           0,
           7.243157690768116,
           0,
           0,
           11.305603330502402,
           0,
           0,
           4.501666358138951,
           0,
           0,
           0,
           0,
           0,
           48.729405906495515,
           29.286401850233037,
           0,
           0,
           0,
           14.492814311467148,
           0,
           48.50822954235013,
           56.669406796495316,
           15.52170523278074,
           31.831849878175003,
           22.641223465175198,
           49.17867085095601,
           49.94256701452179,
           49.21495368957152,
           0,
           0,
           42.52242545606577,
           18.31169935678644,
           48.4607917117883,
           42.20710840604933,
           0,
           29.274818530607494,
           22.67572123072016,
           0,
           0,
           9.518228126424933,
           44.24179773321457,
           0,
           32.33362542823384,
           38.85843966673559,
           39.602125363840386,
           28.820478830165193,
           0,
           0,
           21.68740033598617,
           21.848035762206795,
           0,
           34.07303430378149,
           25.980280983853888,
           2.8254793103707785,
           0,
           38.21227987615146,
           0,
           0,
           0,
           0,
           30.258249563824194,
           0,
           0,
           0,
           51.03869447128649,
           35.0260855173208,
           34.97484810546001,
           0,
           0,
           0,
           0,
           0,
           31.019133880021005,
           0,
           8.00312438988674,
           0,
           0,
           0,
           0,
           23.284257915309798,
           16.810760442843357,
           0,
           39.31365326872243,
           0,
           0,
           0,
           0,
           0,
           0,
           0,
           0,
           0,
           0,
           9.15323258016897,
           0,
           0,
           0,
           0,
           0,
           55.87223520378141,
           18.654311387272728,
           52.50309514685777,
           0,
           0,
           35.881146395658405,
           33.893337595069184,
           39.69292548217289,
           49.69490248841756,
           15.28746763419851,
           52.1307171125304,
           0,
           51.51747276410209,
           40.53965137163034,
           45.097339167627176,
           10.349798709797838,
           44.33625303668917,
           0,
           30.774177486977617,
           20.994046775217015,
           46.25575639852838,
           32.85364008244247,
           42.670032419329964,
           0,
           54.031688233233375,
           48.210925456096874,
           0,
           9.771557364787524,
           38.298281075439014,
           0,
           0,
           0,
           47.935129776257725,
           0,
           38.56738691347043,
           4.121083999790989,
           0,
           14.955935276671934,
           0,
           17.415988822535084,
           27.575139769969127,
           49.68822798208848,
           17.633160049558132,
           0,
           0,
           0,
           41.3143639266862,
           0,
           22.318975484252565,
           0,
           0,
           0,
           42.28409866604703,
           36.91090624734104,
           0,
           3.644630754045367,
           11.92560271013587,
           0,
           0,
           0,
           0,
           0,
           0,
           0,
           28.834383410551144,
           53.97439207624297,
           17.632025786430013,
           37.572640755386495,
           52.88194398847304,
           0,
           45.3572118484665,
           0,
           35.019803921019744,
           23.095670589961227,
           41.05780477976544,
           40.70962212221246,
           41.87937041869983,
           0,
           51.02564714598601,
           36.05560520455412,
           44.01069945668519,
           37.860423487682624,
           43.12128244846157,
           30.831450392956427,
           28.19136983783039,
           41.50447767008603,
           36.71847854509593,
           45.99766298411257,
           54.3689096206033,
           35.69530781489354,
           34.074990829052325,
           0,
           33.13356807428578,
           0,
           29.789399680647023,
           0,
           2.5232254490367425,
           42.72056491511635,
           53.57644071791257,
           31.168226342436185,
           31.76092987723549,
           0,
           0,
           0,
           0,
           0,
           0,
           41.85594342503822,
           0,
           0,
           22.041400439476003,
           0,
           0,
           18.236867421060367,
           43.08627004820294,
           22.783217507630482,
           0,
           0,
           12.976388814561123,
           0,
           0,
           17.955639782530724,
           4.640043103248073,
           27.98100546203919,
           28.12060336005138,
           2.262741699796952,
           19.742087022399634,
           0,
           48.53646395580677,
           27.747612509907945,
           54.59729846796451,
           51.86344248762002,
           48.19356803557918,
           0,
           53.34658689488326,
           21.40031152421228,
           45.8287209800434,
           34.246265003160126,
           17.832507769052928,
           46.1873539690971,
           39.18424428261951,
           36.919890754623445,
           12.174700543887434,
           29.638376023887226,
           42.788803052512115,
           50.12653987659631,
           50.417473822739964,
           31.02762210246433,
           48.700171115373614,
           35.8166627888938,
           0,
           0,
           41.740228397394645,
           18.654802777479773,
           40.753343421123134,
           25.611878754463387,
           0,
           13.55501137341216,
           19.212842926889632,
           0,
           44.83358116412295,
           2.579728667902886,
           39.7121727769543,
           13.43012782267291,
           0,
           29.86014623764145,
           0,
           40.782716927639825,
           41.84136709047638,
           41.550050140362885,
           27.400486613683835,
           28.94713572474256,
           46.91018013182213,
           0,
           23.833379953334358,
           30.33630937781765,
           39.08277540468857,
           11.464147009990189,
           0,
           0,
           0,
           0,
           0,
           0,
           47.19860520538006,
           50.40368703444888,
           0,
           27.324256623008065,
           0,
           15.876030150303098,
           28.160581196653826,
           0,
           0,
           11.71117699749547,
           52.76376597628338,
           49.567748250920886,
           34.43271215961168,
           30.863948764429562,
           47.39024161153855,
           36.224945364578126,
           48.10597675965015,
           48.38272763428422,
           53.78621260756952,
           53.093627991815836,
           18.166360853695135,
           0,
           42.8956097209648,
           46.435869756040965,
           24.175021544285478,
           28.80231472179507,
           35.14451118833025,
           52.910994446649084,
           50.359937781269444,
           0,
           0,
           10.897476772170702,
           29.780614500040123,
           0.6244997998398398,
           0,
           16.441056332648856,
           43.12244195311764,
           41.2980023729962,
           0,
           11.86753273993095,
           0,
           1.7146428199482247,
           33.7965481472098,
           0,
           0,
           0,
           0,
           17.949791085135224,
           37.04465773450566,
           18.42118345818205,
           0,
           10.371435130523983,
           0,
           0,
           0,
           0,
           0,
           14.665208260823745,
           1.711724276862369,
           0,
           4.081870486268115,
           0,
           16.222309741012005,
           26.212719558768928,
           0,
           45.32135258352292,
           0,
           0,
           31.724858812399308,
           7.921805349792432,
           0,
           0,
           0,
           0,
           11.784877315158313,
           0,
           6.498589590570149,
           0,
           7.627472276798736,
           0,
           0,
           43.94798061344799,
           28.36044781028678,
           42.77499269433018,
           48.336132102875894,
           41.560076997041286,
           0,
           38.66380736554537,
           33.76075137394501,
           53.71359232075248,
           22.56021572000882,
           51.63734113991541,
           25.554647326856223,
           50.80047571955729,
           45.221713073846836,
           49.74414538415551,
           45.13116070595426,
           36.2812623815655,
           0,
           51.652524946350205,
           23.381474147994457,
           0,
           45.67170896736841,
           40.97452460574338,
           49.236284046084045,
           17.793538152936307,
           17.426273267684056,
           0,
           44.88139926517443,
           44.751796984404216,
           50.134552290145464,
           43.05645518773381,
           0,
           48.3468199574698,
           32.525938367196574,
           0,
           0,
           0,
           52.75015007877542,
           0,
           28.705632432213246,
           0,
           32.95767487753543,
           0,
           0,
           0,
           0,
           0,
           0,
           0,
           32.71159325580657,
           11.638585251939643,
           1.1832159566199232,
           22.456365096188943,
           41.54581808076476,
           7.210871422142174,
           11.07828205694967,
           0,
           0,
           0,
           0,
           11.202975795147779,
           0,
           0,
           10.957797832289707,
           20.59069369075911,
           7.919911615668448,
           0,
           13.854241227869537,
           0,
           0,
           43.01027009137852,
           34.338947761009365,
           55.02410078017332,
           37.20517437131561,
           23.67294517657938,
           51.72776494946085,
           44.21500499453404,
           51.44793484679438,
           51.32708836472219,
           45.349660050177555,
           15.925974590795597,
           44.35493208201316,
           0,
           30.975366556884087,
           37.618213673698015,
           0,
           41.602584054358935,
           35.64907665938446,
           22.183251940747258,
           42.86274606228584,
           0,
           0,
           3.5962943891363093,
           0,
           0,
           44.31386163869416,
           0,
           0,
           0,
           22.441590852700262,
           26.818059835367155,
           0,
           48.04362600803566,
           52.990549471894795,
           0,
           29.59549515269736,
           0,
           29.816885596364134,
           48.51156219569382,
           0,
           0,
           38.494350234807186,
           0,
           0,
           0,
           0,
           17.146865602785834,
           27.645765197102666,
           0,
           0,
           0,
           0,
           27.23582199971207,
           33.66479367727255,
           0,
           27.425960937282273,
           14.957049619939522,
           0,
           0,
           0,
           25.76929697657014,
           36.37980208852159,
           0,
           0,
           0,
           16.21331757126428,
           0,
           0,
           14.152738250953417,
           0,
           20.630882999361248,
           29.272085679021917,
           32.366211805935365,
           0,
           25.640852819930405,
           0,
           38.02788450597798,
           0,
           15.62167297912317,
           4.257346591481601,
           0,
           0,
           0,
           33.569827722723424,
           39.294719747060164,
           46.87429999477325,
           48.742554987061055,
           0,
           0,
           12.554813154059003,
           0,
           0,
           52.87324465171397,
           25.04362859757613,
           48.10147260393043,
           29.069944387058378,
           0,
           0,
           46.829780410902316,
           24.333242008961054,
           0,
           0,
           25.64926899543143,
           39.22155019883839,
           45.112470559702224,
           7.793159393553638,
           45.64551821738176,
           29.093842418399586,
           35.16904415344082,
           0,
           41.033543189281986,
           0,
           0,
           21.60540055942803,
           0,
           43.62399951097251,
           42.615020825995146,
           20.444233090694965,
           27.83364271285142,
           51.664865560004415,
           43.4160684539722,
           0,
           48.328614712197165,
           28.011693986619232,
           6.701989754294369,
           50.5177031676355,
           43.78218815911329,
           0,
           9.187037970241915,
           0,
           20.441134997841974,
           0,
           0,
           18.12498275861249,
           0,
           24.254346689476776,
           0,
           43.21265246815254,
           48.72680644847013,
           22.319423528995255,
           10.49444297394259,
           31.30662869106158,
           17.078983185970614,
           0,
           0,
           0,
           33.71238644771385,
           0,
           26.301013922153896,
           0,
           2.3515952032609695,
           0,
           0,
           0,
           34.39915212133389,
           44.33832052149326,
           0,
           0,
           0,
           0,
           0,
           0,
           0,
           0,
           0,
           0,
           0,
           0,
           22.633640155014106,
           19.583326241133477,
           45.09574998452371,
           0,
           0,
           35.29707258871945,
           0,
           43.44419792484757,
           0,
           0,
           0,
           12.91581717636685,
           0,
           42.192416380198,
           43.749323804298164,
           31.855873346475214,
           40.19293055584116,
           0,
           24.050086624930625,
           0,
           24.700438592597237,
           0,
           43.496494111594785,
           33.73981327749162,
           38.829456172687635,
           7.0755447375685,
           8.456654184723412,
           37.19919353964545,
           36.878155232241895,
           6.353476738500481,
           43.80947386125517,
           35.798417097221915,
           36.51648029771393,
           11.630634835066699,
           3.2812599206199287,
           45.61140208325107,
           0,
           10.12916580968048,
           0,
           4.236744032862972,
           0,
           0,
           48.62375962428245,
           12.863060807340258,
           38.80483217332604,
           0,
           0,
           10.777213616391437,
           0,
           11.281252885502878,
           0,
           5.557277510916051,
           0,
           0,
           40.39531738539345,
           0,
           35.76735010219977,
           46.6385570102678,
           15.910321597420117,
           0,
           6.0360030925549815,
           49.87766701306979,
           36.422017150802205,
           0,
           0,
           45.30167399408845,
           0,
           0,
           27.22599860427529,
           33.02875010249903,
           0,
           0,
           38.657362386312265,
           8.673138609138753,
           0,
           0,
           0,
           7.895673920994122,
           0,
           4.555582655745948,
           0,
           0,
           41.31117685727835,
           18.634287393583556,
           0,
           0,
           0,
           21.52916626346687,
           1.9321835661585909,
           46.45587512181134,
           0,
           0,
           37.85133198889215,
           5.067872663488429,
           0,
           0,
           41.096451590536745,
           34.40477195583964,
           0,
           47.03771536402113,
           41.07980038899897,
           27.471621721332728,
           0,
           13.533600161573156,
           0,
           18.916350951844095,
           0,
           41.06494855713325,
           37.042903053981476,
           0,
           0,
           36.41288691292315,
           0,
           14.811763343144968,
           0,
           33.49470107345339,
           46.523757371906235,
           33.56285148791741,
           0,
           27.256375400995633,
           0,
           32.54076930047398,
           0,
           38.5727019190169,
           19.370553253155496,
           50.39275741612082,
           0,
           23.624492939884806,
           26.74624584248539,
           37.6897643045606,
           0,
           0,
           8.386596449096617,
           0,
           40.87915116535567,
           38.865258693765696,
           0,
           31.264196775225173,
           0,
           0,
           0,
           0,
           0,
           8.191458966508957,
           0,
           0,
           0,
           0,
           0,
           0,
           0,
           5.924665954015189,
           0,
           15.37866487486261,
           0,
           0,
           0,
           0,
           0,
           0,
           0,
           0,
           35.6176922329339,
           0,
           44.991462153020436,
           0,
           0,
           0,
           23.360793365523076,
           0,
           36.466971357654586,
           0,
           0,
           0,
           42.955015229113,
           43.097969789770836,
           0,
           0,
           0,
           0,
           0,
           12.328219660599823,
           0,
           30.254916955761093,
           0,
           37.89481055061062,
           0,
           0,
           0,
           0,
           0,
           22.47613549226528,
           5.776821502060342,
           22.723299349639635,
           0,
           0,
           14.861359291801003,
           0,
           0,
           45.93649602077492,
           0,
           0,
           0,
           0,
           0,
           32.40766370269029,
           0,
           0,
           32.65958256520328,
           20.109989225921204,
           0,
           17.461385970191483,
           0,
           0,
           12.664056748662057,
           0,
           30.000666659259423,
           0,
           0,
           44.556518415752926,
           43.910742800974454,
           0,
           0,
           26.337362560944992,
           0,
           0,
           7.193978963920683,
           0,
           0,
           30.495464143595733,
           47.88110274419335,
           8.919828099987875,
           0,
           0,
           0,
           31.283621913071382,
           0,
           0,
           0,
           0,
           14.632953677686983,
           0,
           37.814944135883636,
           34.2822840545959,
           0,
           19.444193649176274,
           40.570350421623544,
           7.310152757181843,
           7.404953297174352,
           0,
           0,
           0,
           0,
           0,
           0,
           0,
           0,
           0,
           0,
           0,
           0,
           0,
           0,
           0,
           24.01856920523508,
           0,
           0,
           0,
           0,
           0,
           0,
           0,
           0,
           0,
           0,
           2.513297966152575,
           16.01207877405888,
           0,
           0,
           44.20671140599954,
           0,
           31.789856872908377,
           40.94795477188085,
           0,
           0,
           36.735949695087506,
           0,
           43.043969767359165,
           0,
           29.346266088436753,
           30.875448714688066,
           10.859327787667153,
           0,
           5.956788844111674,
           44.683964312342184,
           0,
           20.95614468360056,
           0,
           0,
           34.585449734437894,
           0,
           28.9147309630691,
           0,
           35.05300747914978,
           0,
           0,
           7.057265759485043,
           0,
           18.639608364984497,
           0,
           10.35317986578679,
           0,
           1.1474609652039018,
           4.363675820528686,
           0,
           0,
           0,
           0,
           30.588069569686805,
           0,
           0,
           0,
           0,
           0,
           0,
           4.449719092257398,
           0,
           6.763012149429668,
           0,
           0,
           16.703542538435762,
           0,
           0,
           0,
           0,
           9.160513086066741,
           0,
           8.261355820929152,
           0,
           14.271883781290647,
           0,
           0,
           5.090841449767091,
           0,
           0,
           0,
           9.338718684416332,
           0,
           0,
           35.48922371650301,
           0,
           0,
           0,
           0,
           15.642197202865491,
           0,
           0,
           0,
           0,
           0,
           0,
           26.770879701645963,
           0,
           0,
           0,
           0,
           0,
           0,
           0,
           0,
           40.72595405062145,
           0,
           0,
           0,
           0,
           0,
           0,
           0,
           2.4289915602982237,
           0,
           28.609205977563708,
           29.14089337454614,
           0,
           0,
           0,
           0,
           0,
           0,
           0,
           0,
           0,
           0,
           0,
           0,
           0,
           0,
           0,
           0,
           0,
           0,
           0,
           0,
           0,
           0,
           0,
           28.842358895670564,
           0,
           0,
           0,
           5.835808998473707,
           0,
           0,
           0,
           0,
           0,
           0,
           0,
           0,
           0,
           0,
           0,
           0,
           0,
           0,
           0,
           0,
           0,
           0,
           5.618718715152059,
           0,
           0,
           0,
           17.960141053640616,
           23.798459333886868,
           0,
           0,
           0,
           0,
           0,
           0,
           15.488113722034294,
           46.53632989396564,
           0,
           40.62257172229904,
           10.235640347986687,
           0,
           0,
           0,
           0,
           4.652597840633414,
           0,
           0,
           24.89159831482637,
           0,
           15.242867184358722,
           0,
           0,
           0,
           6.362651438931202,
           0,
           0,
           0,
           0,
           0,
           0,
           0,
           0,
           0,
           0,
           11.642522636152915,
           0,
           0,
           0,
           0,
           0,
           0,
           0,
           0,
           0,
           0,
           0,
           0,
           0,
           0,
           0,
           0,
           0,
           0,
           0,
           0,
           0,
           0,
           0,
           0,
           0,
           0,
           0,
           0,
           0,
           0,
           0,
           0,
           0,
           0,
           0,
           0,
           0,
           0,
           0,
           0,
           0,
           0,
           0,
           0,
           0,
           0,
           0,
           0,
           0,
           0,
           0,
           0,
           0,
           0,
           0,
           0,
           0,
           0,
           0,
           0,
           0,
           0,
           0,
           0,
           0,
           0,
           0,
           0,
           0,
           0,
           0,
           0,
           0,
           0,
           0,
           0,
           0,
           0,
           0,
           0,
           0,
           0,
           0,
           0,
           0,
           0,
           20.976653689280376,
           0,
           0,
           11.111255554616678,
           0,
           0,
           8.65524888916161,
           0,
           0,
           0,
           0,
           0,
           0,
           0,
           0,
           0,
           0,
           0,
           0,
           0,
           0,
           0,
           0,
           0,
           0,
           0,
           0,
           0,
           0,
           0,
           0,
           0,
           0,
           0,
           0,
           0,
           0,
           0,
           0,
           0,
           0,
           0,
           0,
           0,
           0,
           0,
           0,
           0,
           0,
           0,
           0,
           0,
           0,
           0,
           0,
           0,
           0,
           0,
           0,
           0,
           0,
           0,
           0,
           0,
           0,
           0,
           0,
           0,
           0,
           0,
           0,
           0,
           45.196423162310865,
           0,
           0,
           0,
           0,
           0,
           0,
           14.546706385524766
          ],
          "sizemode": "area",
          "sizeref": 0.14591168133497742,
          "symbol": "circle"
         },
         "mode": "markers",
         "name": "",
         "showlegend": false,
         "type": "scattergl",
         "x": [
          3.0394304700750756e-15,
          5.198966257502491e-18,
          5.870304242705515e-18,
          -3.996802888650563e-18,
          -1.116468029138673e-17,
          -2.8163235632483462e-18,
          8.167078124898808e-18,
          3.6255720647915267e-19,
          2.491062911502695e-18,
          2.0608514894604467e-18,
          -6.118369699770199e-18,
          6.6704454459998176e-18,
          -0.07541420923883445,
          -4.433953204596719e-18,
          -0.030199729653352988,
          -3.240463453124676e-18,
          8.257283745649601e-19,
          -4.236194728335363e-18,
          9.436895709313831e-19,
          0.6039316109716435,
          0.7026816316894067,
          -3.677613769070831e-18,
          -3.0531133177191805e-18,
          0.498137366402346,
          6.38378239159465e-19,
          -1.1449174941446927e-19,
          6.479192182773374e-18,
          -0.1798182950795076,
          -1.6798194779621412e-17,
          2.8085173076064507e-18,
          -2.067790383364354e-18,
          -5.0931481254679055e-18,
          1.3961145588600024,
          -2.463307335887066e-19,
          -0.04902957027024692,
          8.743006318923108e-19,
          -5.041540102057596e-19,
          1.294103713078698e-18,
          2.9490299091605723e-19,
          3.689756833402668e-18,
          2.1510571102112408e-19,
          -4.579669976578771e-19,
          -1.0408340855860842e-18,
          -1.3183898417423734e-18,
          -1.994931997373328e-20,
          1.0460382560140146e-18,
          4.0939474033052645e-19,
          -6.175615574477433e-19,
          -5.134781488891349e-19,
          -8.335346302068558e-19,
          -0.2699907931261836,
          -2.1545265571631944e-18,
          2.3037127760972e-18,
          2.9802549317281545e-18,
          3.2441497405111264e-18,
          4.799979858027825e-18,
          -2.117230002429693e-18,
          -3.5561831257524543e-19,
          1.6306400674181987e-19,
          -1.0980799602933189e-18,
          4.3194614551822496e-19,
          -2.587340064419408e-18,
          -5.468715758016884e-19,
          7.042977312465837e-19,
          -2.916070163117013e-18,
          8.036106502462559e-19,
          -5.022024462952856e-19,
          6.758916343274635e-19,
          -3.9725167599868884e-19,
          1.3227266504323153e-18,
          1.3478801408339792e-18,
          1.457167719820518e-19,
          -9.085614205428527e-20,
          7.580741590018647e-19,
          1.249000902703301e-19,
          -1.0579644799113551e-18,
          -7.8843181983145885e-19,
          0.10499824419993756,
          0.875673229058423,
          5.48172618408671e-19,
          -0.9541501723193396,
          9.645062526431048e-19,
          2.949029909160572e-20,
          3.2959746043559334e-20,
          7.665309359472517e-19,
          -1.4051260155412138e-19,
          9.792514021889076e-19,
          -1.5421691701433815e-18,
          -3.1398494915180207e-19,
          -7.008282842946301e-19,
          1.8041124150158793e-19,
          5.065392549852276e-19,
          -3.9464959078472363e-19,
          -4.371503159461554e-19,
          -6.453171330633722e-19,
          4.679416576447437e-19,
          -4.640385298237959e-20,
          1.1622647289044608e-18,
          -2.4494295480792515e-18,
          -3.157196726277789e-18,
          -1.1483869410966464e-18,
          0.7070452518517819,
          -2.220446049250313e-19,
          1.0547118733938987e-18,
          2.040034807748725e-18,
          3.3029134982598406e-18,
          9.645062526431048e-19,
          1.0894063429134349e-18,
          4.544975507059235e-19,
          1.6341095143701522e-18,
          -2.3245294578089216e-19,
          3.6082248300317586e-19,
          -3.400058012914542e-19,
          -6.973588373426765e-19,
          -1.3010426069826053e-18,
          4.0939474033052645e-19,
          4.541506060107281e-18,
          -1.1136924715771102e-18,
          1.0321604682062002e-18,
          -0.0799172469134595,
          -4.956104970865738e-18,
          -3.1225022567582525e-20,
          -9.22005527481673e-19,
          -6.418476861114186e-19,
          -0.09009614210105785,
          0.8315843077048166,
          -0.011248638240851757,
          -1.0234868508263161e-18,
          -0.4244664612243025,
          2.7755575615628914e-19,
          6.210310043996969e-19,
          0.722980414730896,
          1.2836953722228372e-19,
          -0.13969096003278858,
          -0.05563095282278824,
          -7.424616477180734e-19,
          9.853229343548263e-19,
          4.3021142204224816e-19,
          1.0269562977782697e-18,
          3.209238430557093e-19,
          1.179611963664229e-19,
          0.9832681859487503,
          -0.21478076124141962,
          6.938893903907229e-21,
          -9.020562075079396e-20,
          2.42861286636753e-19,
          1.6479873021779668e-19,
          -2.336672522140759e-18,
          0.016359921010145145,
          -1.4988010832439613e-18,
          1.2212453270876721e-18,
          -1.6930901125533637e-18,
          -5.967448757360216e-19,
          4.649058915617843e-19,
          7.563394355258879e-19,
          -8.326672684688674e-20,
          7.840950111415168e-19,
          9.71445146547012e-20,
          0.009874231170344817,
          4.3021142204224816e-19,
          -5.6898930012039275e-19,
          2.0816681711721684e-19,
          0.16593253364755756,
          -1.0226194890883278e-18,
          -1.231653667943533e-19,
          4.683753385137379e-19,
          -4.163336342344337e-20,
          0.040858666222979796,
          5.6898930012039275e-19,
          0,
          -2.168404344971009e-21,
          -4.85722573273506e-20,
          -1.0998146837692957e-18,
          -1.3877787807814458e-18,
          -1.1890721305449773e-27,
          6.245004513516505e-20,
          -1.1553258350005536e-18,
          1.4690939437178586e-20,
          -4.0939474033052645e-19,
          -1.349614864309956e-18,
          -3.719247132494275e-18,
          3.1225022567582527e-19,
          -3.635980405647388e-18,
          1.3010426069826053e-20,
          1.3183898417423734e-19,
          -1.8388068845354155e-19,
          -2.9778502051908994e-26,
          0.8871219021979597,
          -6.279698983036041e-19,
          -2.359223927328458e-19,
          1.942890293094024e-19,
          -2.605618929542037e-26,
          1.8388068845354155e-19,
          -6.800116025829084e-19,
          7.494005416219807e-19,
          2.7755575615628914e-20,
          -0.013608816676951411,
          -0.08105696115777662,
          -5.863365348801608e-19,
          -1.4889251025954497e-26,
          -2.067790383364354e-18,
          -7.806255641895631e-21,
          0.16783561727952306,
          -3.9898639947466565e-19,
          -1.429412144204889e-18,
          -8.187894806610529e-19,
          1.249000902703301e-18,
          -1.0842021724855044e-18,
          1.6583956430338275e-18,
          1.2073675392798577e-18,
          -1.3877787807814457e-20,
          0.8270967902956435,
          0.013176077078870235,
          3.6567970873591095e-18,
          -3.8272336688738304e-20,
          2.7755575615628914e-19,
          -4.698385879301197e-25,
          3.7470027081099033e-19,
          -9.992007221626408e-19,
          1.0824674490095276e-18,
          1.942890293094024e-19,
          2.8189256484623116e-19,
          -8.257283745649601e-19,
          1.5785983631388944e-19,
          0.014878337095884013,
          0.742619244559448,
          0.9572012442525256,
          -5.065392549852276e-19,
          2.706168622523819e-19,
          -0.2440054793473242,
          -1.8110513089197867e-18,
          0.7872443626982059,
          -1.5230872119076366e-18,
          0.7397396215952043,
          0.7267224120722359,
          -1.9984014443252816e-18,
          -3.3306690738754697e-19,
          0.6789024313218466,
          1.249000902703301e-18,
          -1.620231726562338e-18,
          0.8445746872822765,
          5.637851296924623e-21,
          -1.346677786694226,
          4.433688083284229e-25,
          7.45931094670027e-20,
          3.3306690738754697e-19,
          0.0043897222382074975,
          -1.942890293094024e-19,
          3.1225022567582527e-19,
          0.04139989472658981,
          -3.642919299551295e-20,
          -0.061414422231201644,
          -1.394717674685353e-18,
          4.749826173644338e-28,
          -0.018183570656908305,
          1.4085954624931675e-18,
          0.09054021485885674,
          0.827938139629753,
          5.401928904191777e-18,
          0.6361230351148273,
          0.6701352074173986,
          3.2957977531409694e-28,
          -0.007494662865475127,
          -0.016930266998070913,
          1.5881867761018132e-25,
          -6.314393452555578e-19,
          -1.1927032400912805,
          0.9983732928703917,
          5.342948306008566e-19,
          0.728938471719289,
          -3.049318610115481e-23,
          -1.5543122344752192e-18,
          0.06637884452963295,
          -0.09007496210446535,
          0.030691487801269665,
          7.008282842946301e-19,
          -0.08099932910314,
          1.0935454548158248,
          -6.245004513516505e-20,
          -0.0801230837059469,
          0.9635828733253846,
          -0.006746694569365132,
          -0.048949997316899745,
          0.8144337471415138,
          3.165870343657673e-19,
          4.440892098500626e-19,
          -1.5265566588595902e-19,
          -0.11134208110942836,
          7.771561172376096e-19,
          1.6375789613221058e-18,
          -0.2512493225002091,
          0.011942612500486867,
          -2.1325750167382746e-28,
          0.7890262735829936,
          1.4432899320127034e-18,
          -3.209238430557093e-20,
          0.6953297894610388,
          -0.08878887703428953,
          -0.027237453516485717,
          -0.026333809778804253,
          -0.06367437843644487,
          6.314393452555578e-19,
          0.628259118768832,
          9.870576578308032e-19,
          1.3964523981613297e-19,
          -1.145431872889541,
          -1.1865508575681361e-18,
          -5.421010862427522e-23,
          1.3450379958653487,
          1.5612511283791263e-20,
          6.38378239159465e-19,
          1.817990202823694e-18,
          3.2954875604112622e-24,
          8.74561518040065e-23,
          -8.604228440844963e-19,
          -1.169203622808368e-18,
          0,
          -1.6930901125533637e-18,
          1.8561541192951836e-19,
          -2.359223927328458e-19,
          8.066464163292153e-19,
          2.4775713707188286e-23,
          1.852884572118782e-24,
          -2.2165855477006915e-27,
          2.895132143935597e-27,
          2.5118795932144166e-18,
          6.800116025829084e-19,
          -2.8449465006019638e-19,
          -1.6771252355635148e-22,
          3.9387032047324965e-23,
          2.0469737016526323e-19,
          1.5280474368467579e-21,
          7.355227538141662e-19,
          2.040034807748725e-18,
          -4.85722573273506e-20,
          -1.2663481374630691e-18,
          2.1002632740604217e-29,
          -8.881784197001253e-19,
          -4.510281037539699e-19,
          1.4889251025954497e-26,
          1.6963664905872637e-28,
          4.163336342344337e-19,
          -6.617444900424222e-26,
          9.159339953157542e-19,
          1.0755285551056204e-19,
          0.38773921567144004,
          -7.389922007661198e-19,
          -2.8449465006019638e-19,
          -3.930232875259954e-22,
          -3.001071613439876e-19,
          -5.273559366969493e-19,
          0.7236683470686653,
          -0.49060597685396273,
          -1.3877787807814457e-19,
          5.759281940243e-19,
          -9.063252535621013e-23,
          -9.71445146547012e-19,
          1.0234868508263161e-18,
          -1.0269562977782697e-18,
          1.096345236817342e-18,
          1.951563910473908e-21,
          -1.9852334701272665e-26,
          4.718447854656916e-19,
          6.462348535570529e-30,
          8.187894806610529e-19,
          0.8224037830358959,
          0.6836603105351536,
          0.8058287279102289,
          0.9836146598095216,
          0.8585252497945097,
          0.7284228931512154,
          -0.18545376164659796,
          0.631759153299881,
          0.8142035683609976,
          -0.06014135428224209,
          -0.07630256539197948,
          -0.01199008245586535,
          0.013721622619729205,
          -0.04442131305505635,
          -0.18628195602771752,
          -0.015046752169097398,
          1.1102230246251566e-19,
          -8.465450562766818e-19,
          -0.42711886758084255,
          0.7531988056220347,
          0.6793505928553483,
          -1.0521097881799336e-18,
          -0.08960170225606277,
          -0.03251773826613262,
          0.01674602495316782,
          -0.06831315915452624,
          0.8606494598827186,
          0.6646010233913773,
          0.7732825501479538,
          -0.033581869377227784,
          6.938893903907229e-20,
          8.326672684688674e-19,
          -0.0026768678469830096,
          -1.0824674490095276e-18,
          -0.006500258062297405,
          0.019749836537455354,
          0.00946599963785863,
          0.1366082899801366,
          -0.025481088089248895,
          0.15382572299287867,
          -6.938893903907229e-21,
          -0.08980960763103138,
          3.3306690738754697e-19,
          -0.010931054322263547,
          -8.326672684688674e-19,
          -0.16370158973332574,
          -1.6861512186494565e-18,
          -1.6054897143058033e-29,
          -1.3877787807814457e-20,
          9.71445146547012e-20,
          -2.8102520310824276e-19,
          -5.293955920339377e-25,
          -0.06887403645738364,
          5.551115123125783e-19,
          -4.446922973085077e-24,
          4.891920202254596e-19,
          -7.910339050454241e-19,
          8.326672684688674e-20,
          2.983724378680108e-19,
          -5.251604272976662e-23,
          9.020562075079397e-19,
          -5.250658185151054e-30,
          -1.1102230246251566e-18,
          -5.100087019371813e-19,
          -4.2005265481208435e-29,
          -0.019171517033424238,
          0.7910467837255182,
          -5.551115123125783e-20,
          2.9073965457371286e-18,
          1.6653345369377348e-19,
          2.8756399183070496,
          3.844147222764605e-18,
          2.610182963195284e-29,
          4.926614671774132e-19,
          1.5265566588595902e-19,
          -0.050765346308493324,
          0.04795811647542636,
          -7.216449660063517e-19,
          -1.0547118733938987e-18,
          6.437450399132682e-23,
          -7.527343574232552e-26,
          -8.81239525796218e-19,
          -1.0232158002831948e-21,
          -1.7069679003611782e-18,
          0.8577902426861207,
          1.4710455076283324e-18,
          -1.7370792863613582e-26,
          -2.429843049374519e-25,
          -9.159339953157542e-19,
          -1.762479051592436e-18,
          -1.2278462217584004e-28,
          2.5673907444456744e-19,
          -1.4889251025954497e-26,
          -6.071532165918825e-21,
          -1.3322676295501879e-18,
          8.158715026157793e-29,
          -5.828670879282072e-19,
          2.5673907444456744e-19,
          9.740878893424454e-24,
          -2.9778502051908995e-25,
          -1.9774786518845817e-27,
          -8.118505867571458e-19,
          5.48172618408671e-19,
          9.020562075079396e-20,
          -0.025081527573154596,
          2.42861286636753e-19,
          3.469446951953614e-20,
          1.179611963664229e-19,
          -5.118180040171859e-27,
          1.2836953722228372e-18,
          8.685396431806791e-27,
          -2.359223927328458e-19,
          0.6135733322276045,
          -0.08074247918315765,
          1.8214596497756476e-20,
          5.03069808033274e-19,
          0.7863975884222156,
          -0.0021051926487621504,
          0.6997634320009792,
          0.832252790593796,
          0.7130756014636102,
          -0.07950445698880482,
          0.16687183394147148,
          -0.31902911108421056,
          0.8162430646360836,
          0.017219392662613308,
          -0.011863544930796003,
          -0.007687481855070062,
          -1.54096180422404,
          6.989676176073084e-26,
          0.715263214065214,
          -0.04070651816091443,
          0.010619395470561526,
          -0.2452773517561576,
          1.3036614297216391,
          0.007812274915119992,
          -5.366800753803247e-20,
          -1.0339757656912846e-28,
          1.3276209234253584,
          -0.09037674689678564,
          6.203854594147707e-27,
          -1.0339757656912846e-28,
          -0.0011110249553769268,
          -6.938893903907229e-21,
          -1.164670302474663e-23,
          1.3234889800848443e-26,
          5.421010862427522e-23,
          -1.2924697071141058e-29,
          -9.298117831235687e-19,
          1.5230872119076366e-18,
          -2.5849394142282115e-29,
          1.3461454173580023e-18,
          -0.18924567575941606,
          -1.7784383169890094e-26,
          2.808012834077459,
          -0.05939316279647679,
          1.1773757966834776e-22,
          -4.235164736271502e-25,
          -0.005574826228144402,
          1.1580528575742389e-25,
          -0.05852452612170516,
          -0.28202325734253353,
          -0.18531015356056377,
          -1.9645539548134408e-26,
          0.7304453925694661,
          -3.0531133177191803e-19,
          -0.09745447064216205,
          0.09063211119235315,
          -0.08296188672704312,
          3.308722450212111e-27,
          9.922618282587336e-19,
          -1.3843093338294921e-18,
          -8.187894806610529e-19,
          -5.09543257332665e-25,
          8.735027268559973e-24,
          9.159339953157542e-19,
          1.519617764955683e-18,
          -0.28137143190832614,
          -3.1019272970738537e-27,
          -0.049006915659570195,
          -0.6019042754550316,
          -9.506284648352904e-19,
          -0.0904374496438366,
          -0.3455660830603326,
          -9.317362419797303e-24,
          -1.0559477507122243e-26,
          -5.4283727698792445e-28,
          -3.763671787116276e-26,
          1.4432899320127034e-18,
          -1.809457589959748e-28,
          -0.05548579966329895,
          0.9378262000515889,
          1.3377655245073785,
          -1.2121038268590372,
          0.8219366505410748,
          0.4661431521809879,
          0.8063655389052051,
          -0.8574109601264813,
          0.8169877628092174,
          0.9171169919113509,
          -0.6327493418380644,
          -0.060326141318897235,
          -0.004726068473219229,
          0.18223083847465296,
          0.51673813312744,
          -0.26691699653498374,
          -0.12139951330170774,
          -3.4741585727227165e-26,
          0.7735761948922506,
          -0.03421658933759595,
          0.5764146049672287,
          -0.26390753451462656,
          -0.07721715168266718,
          0.12152497277852019,
          -0.04689082261757291,
          0.009413696487685533,
          -0.24442980549008653,
          1.83530698410203e-27,
          -0.08922941983270276,
          -0.044280164936533736,
          0.6767793441030976,
          0.73806572150633,
          -0.03110515482009205,
          0.71849854649748,
          7.320533068622126e-19,
          -9.71445146547012e-19,
          1.7957098481791168e-21,
          2.151463686025923e-22,
          0.050571048778838515,
          1.3079815008865126e-18,
          -1.0732560874610153,
          -1.1553258350005536e-18,
          -0.018737223946638536,
          -2.6367796834847467e-19,
          5.759824041329243e-23,
          -1.1180834903756765e-22,
          -4.562322741819003e-19,
          -1.1807639284724946e-21,
          -3.9810548520952116e-23,
          -0.026559751922338018,
          0.8546567356034889,
          -0.10160530671462671,
          0.472732113859877,
          -4.246603069191224e-18,
          -1.3877787807814457e-20,
          -5.516420653606247e-19,
          -0.6671414705473427,
          -2.0816681711721686e-20,
          0.8845423843046911,
          3.5072457972248372e-25,
          1.942890293094024e-19,
          0.008451570376198701,
          0.018291585668401958,
          1.915134717478395e-18,
          -1.376428539288238e-24,
          -0.031565877258351686,
          3.644764574061778e-27,
          6.522560269672795e-19,
          5.828670879282072e-19,
          1.809457589959748e-28,
          -0.22414233422181118,
          2.117582368135751e-25,
          2.1337098754514727e-19,
          -4.65289094561078e-28,
          -0.012460348324685178,
          -0.030883675403854907,
          0.015162738998068704,
          1.6155871338926322e-29,
          -1.1032841307212493e-18,
          6.800116025829084e-19,
          0.9954207860671741,
          0.8448755994471915,
          0.8076610593072727,
          0.7852003471646763,
          -0.6795927253901037,
          0.7126444896337045,
          0.9129174477394554,
          0.8054337332117317,
          0.8542128553695312,
          -0.4190040161915643,
          -0.017363032711611034,
          1.249000902703301e-19,
          0.7051167629401637,
          -2.7408630920433553e-18,
          0.8540598222672597,
          2.9888361977013694e-29,
          0.4010455865128163,
          1.0408340855860842e-19,
          -0.3823576811481088,
          -0.028520314275022572,
          0.5082607951252711,
          -0.06593031867474382,
          0.8590021138492941,
          -0.023677381318261283,
          -0.02633721147220922,
          1.424832431400818,
          0.8634811316043381,
          4.141652298894627e-20,
          -1.6543612251060554e-27,
          -0.0896955057454873,
          -0.08733093353147164,
          0.13867266827627586,
          -0.11527983278856181,
          -0.05572550295588178,
          -0.10548468375554146,
          -9.575673587391976e-19,
          -1.3461454173580023e-18,
          0.07479301437094968,
          1.979939514206927e-23,
          -0.17944717650738035,
          -4.163336342344337e-19,
          0.6472841573256479,
          -4.065758146820642e-23,
          2.541098841762901e-24,
          -1.8214596497756474e-19,
          0.5910812630725544,
          0.005097986400585153,
          -1.0339757656912846e-27,
          -0.1760848514412892,
          -8.370040771588094e-20,
          0.002477437374683883,
          5.558653716356346e-24,
          -1.5265566588595902e-19,
          9.370405376577267e-29,
          -0.057805219942788026,
          4.108109794183357e-23,
          -1.214306433183765e-20,
          -6.826136877968736e-19,
          -0.031062987140284045,
          -0.0007097976031679121,
          0.0059437459901816566,
          0.8792488380815842,
          -0.014259307011174047,
          -8.500145032286355e-20,
          -0.06368952132937632,
          0.7773791996583108,
          0.07077185210816905,
          -0.026916540046830587,
          -1.141075337951333,
          0.4103069983500291,
          0.1271506519316384,
          -0.1760274913563465,
          -0.0053768516934835885,
          -0.04720598534348555,
          -0.08934986512716081,
          -0.017923380543766226,
          0.8902125564246957,
          -0.03203656808174211,
          -0.6525668025712412,
          -0.034186713051681916,
          -1.9746508385883919,
          -0.49779146677555136,
          2.9663771439203404e-19,
          -0.038741184767790045,
          3.705769144237564e-24,
          -0.037982014921912576,
          0.022048320827099434,
          -0.00009591182995385764,
          7.237830359838992e-28,
          -0.06714261777309226,
          -0.85270459621182,
          0.7090084791823399,
          -0.07177806469994223,
          -1.188285581044113e-18,
          -0.19922673489421025,
          7.216449660063517e-19,
          2.8124140826802943e-25,
          -3.0969642133985358e-24,
          -0.03300186856792094,
          3.6082248300317586e-19,
          -0.09185911166546737,
          -6.307252170716836e-27,
          0.9465685321137403,
          0.024111507353251124,
          1.249000902703301e-19,
          0.6545341324405228,
          -0.029635373478533428,
          -3.0531133177191805e-18,
          1.7787691892340308e-23,
          -2.4216739724636225e-18,
          9.575673587391976e-19,
          -0.0006153628668461166,
          2.498001805406602e-19,
          -0.08889553174592058,
          1.2197274440461924e-22,
          1.4085954624931675e-18,
          0.6389132210693257,
          -1.6543612251060554e-26,
          3.469446951953614e-21,
          -0.07165039040485156,
          1.0570971181733668e-21,
          1.734723475976807e-21,
          -5.027987574901527e-21,
          -0.584939348585189,
          -0.02495337164821407,
          -0.17960519896923616,
          1.6181585474487603,
          0.8187769561576533,
          -0.1516780702481906,
          0.7829160575664708,
          0.7126314693863248,
          5.551115123125783e-19,
          0.7051909233142433,
          -3.7269449679189215e-22,
          0.6807394385405975,
          2.5808035111654463e-25,
          0.7881715952743351,
          0.8808514952250323,
          2.2120766552665705,
          -0.11428332056186548,
          -3.3881317890172014e-24,
          -0.04741741461005833,
          -0.03270227290566571,
          0.859825747678307,
          0.7584567267982102,
          6.7208424769933495e-28,
          8.326672684688674e-20,
          5.533767888366015e-19,
          -6.749793798432705e-25,
          0.7947335255620807,
          -0.14874351852504794,
          0.7501449480303316,
          0.7263356735131817,
          -8.326672684688674e-20,
          1.5742615544489524e-19,
          1.5087774372967225e-24,
          -1.4051260155412138e-18,
          1.0164395367051604e-22,
          1.744834104604043e-27,
          -0.13730087027308094,
          0.9386129670565181,
          6.245004513516505e-19,
          4.8467614016778966e-30,
          -0.21802506601044366,
          3.726944967918921e-23,
          -0.08996233094845253,
          0.8539751650313749,
          0.7148342815866354,
          -1.6167622796103843e-18,
          1.7314887669320709,
          -1.1890721305449773e-27,
          -0.08084169525621542,
          -1.1713006720721584e-29,
          0.0267803814021472,
          0.01688036571499993,
          4.445228907190568e-20,
          -8.685396431806791e-27,
          2.710505431213761e-22,
          -0.050821957972985755,
          0.010673478283973319,
          8.19425794310343e-27,
          9.429858983104515e-25,
          8.470329472543004e-24,
          0.11818082780137817,
          1.376428539288238e-24,
          -0.05374524423607795,
          0.8131315742373308,
          -0.003101138877464325,
          3.917798799689633e-29,
          -9.622294280808851e-22,
          -5.955700410381799e-25,
          0.8784193940076173,
          3.044024654195142e-24,
          0.4457646012758086,
          0.5061873903466133,
          -2.3245294578089216e-19,
          2.5153490401663704e-20,
          -0.1054214265687595,
          -0.0014329287021359828,
          0.9895384176966494,
          -0.7183723940610988,
          -0.03140209968910587,
          -0.1767110874402357,
          1.0130785099704553e-18,
          -0.1800162517433283,
          -0.07750149450034821,
          0.13054407426108117,
          -0.08557482740751195,
          6.505213034913027e-22,
          -0.09048769702728285,
          -0.024852767725601018,
          1.2620790914089075e-22,
          -5.2475385148298413e-20,
          0.9536053602546996,
          -0.1611902031370103,
          -5.082197683525802e-23,
          0.011195900480341995,
          -4.526332311890168e-24,
          0.013088563858947503,
          -1.125862283931428e-29,
          -1.8404768629304865e-26,
          1.2906342661267445e-18,
          0.7112749608527206,
          1.0379900886313123,
          -7.910339050454241e-19,
          -1.457167719820518e-18,
          -9.30578189122156e-28,
          -0.0901873292848034,
          -0.04936017949923682,
          -0.1718430573288735,
          -0.17777147761258522,
          -2.3781442610899545e-27,
          -1.9312351197398048e-22,
          -0.010576237728235455,
          -0.04765099389583039,
          3.0292258760486854e-31,
          -4.3923775202705934e-30,
          -2.7755575615628914e-20,
          -0.07950551475459515,
          -6.2604001438339496e-30,
          -5.4526065768876335e-30,
          1.942890293094024e-18,
          1.5265566588595902e-19,
          -0.06676658506680394,
          -0.2607307856265565,
          -1.3028094647710186e-26,
          -2.726387298974779e-24,
          0.19863998932389687,
          -0.026785110941215332,
          -0.016239263885295084,
          0.023704102669619486,
          -5.161607022330893e-25,
          3.4694469519536144e-19,
          -0.015960356062501495,
          -1.4558378780933286e-25,
          0.6249906838985331,
          0.1320260890729182,
          0.7540651665847891,
          0.989541817451326,
          0.8209444163248955,
          -1.7865692615693909,
          -0.4509938698370094,
          1.2343988206604994,
          -8.348356728138384e-21,
          0.12109744506300185,
          0.7757757010038255,
          -0.08257929320215557,
          -0.050686614300196775,
          -0.0936019918398646,
          0.01746887603599917,
          6.617444900424222e-27,
          -2.4841240175987877e-18,
          0.8555825542951021,
          -0.3794448121666837,
          -0.0709299047981205,
          0.3751255444267046,
          -8.999725064576942e-25,
          0.017498130310122224,
          0.7974578386017782,
          -0.7536313896032755,
          7.719519468096791e-20,
          0.45593920932281945,
          -1.2003080985113168,
          0.6622064427561504,
          -7.835054762102278e-24,
          0.24709097685269277,
          -0.006413312543955227,
          -0.07066479056014913,
          0.004363281653621527,
          1.3552527156068806e-23,
          6.479802046495397e-23,
          -0.07559561402931582,
          0.14817761193603676,
          -0.058230612254737454,
          -1.0336167220830803,
          -0.7655459383773369,
          7.453889935837843e-23,
          0.86392030612348,
          2.8359514663407746,
          2.3264454728053902e-27,
          -0.08946788075670217,
          8.893845946170154e-24,
          -2.3781442610899545e-27,
          0.2516253602745524,
          -0.1453706193484089,
          -0.005580167607883745,
          4.963083675318166e-26,
          2.491062911502695e-18,
          -0.08914401251675894,
          -0.046410405262666564,
          -1.464109684218859e-25,
          1.6378176128549949e-25,
          0.011237160040073234,
          -0.0689521073920427,
          8.239936510889834e-20,
          0.43721049054390326,
          5.977672395402739e-29,
          -0.07304351060039893,
          5.945360652724886e-28,
          0.13653609626351348,
          -0.05989415010845014,
          2.1506695926378719e-26,
          1.0587911840678754e-24,
          0.8576364064328478,
          -0.009179032302911602,
          -0.3342634577057412,
          0.8786188032865868,
          0.7313176533305369,
          8.673617379884036e-21,
          -0.7212198138779535,
          -0.06259839247425203,
          0.6392356821603512,
          0.009294711158849535,
          -0.23145972359012704,
          2.9646153153900515e-23,
          0.0013929554679812577,
          0.9138687422115883,
          -1.0248154005536656,
          -8.077935669463161e-31,
          0.7532440164540534,
          0.7629358765239445,
          -1.6891017423500243,
          0.969918329887188,
          -2.299562102897417e-25,
          -0.04551085802365479,
          -2.752857078576476e-23,
          4.393146743748514,
          0.6916693624503311,
          -1.8774297242664477,
          0.04784029945419496,
          -0.035288736028621856,
          -0.064063871249158,
          0.1375706327083405,
          1.5070410197548513e-20,
          3.618915179919496e-28,
          5.480071558163808e-27,
          -2.0514079191315086e-25,
          -1.6263032587282566e-21,
          -0.0652157869738499,
          -0.06049193084856981,
          -0.4219590058446938,
          -0.07392396781554844,
          1.59889901872651,
          -0.09050138620236338,
          1.861156378244312e-27,
          -0.015664717123066038,
          8.999725064576942e-25,
          -0.0788236664265959,
          -1.4558378780933286e-25,
          -0.09871013756219255,
          1.257314531080602e-25,
          0.045918463011659194,
          -0.10072009315648596,
          4.632211430296955e-26,
          -0.08859457433833086,
          7.252719610864947e-24,
          -0.33688529060588746,
          -1.5509636485369268e-26,
          -0.0888039546842171,
          5.9322340072620084e-30,
          -7.237830359838992e-28,
          -0.09027338332394072,
          -0.04411155427732113,
          0.6869321776291734,
          -1.4136387421560532e-30,
          2.5849394142282116e-27,
          -1.3234889800848443e-25,
          1.9786689647860455e-21,
          2.1506695926378719e-26,
          0.7881856479713122,
          0.6897914106018317,
          0.822739314685625,
          0.7856568744772665,
          -0.04088286330240724,
          0.901234870389235,
          -0.08330965046868113,
          -0.00029223476901347605,
          0.8223035289409266,
          -9.843449289381029e-26,
          1.5077186461126545e-22,
          -0.16555716446319704,
          1.5720931501039815e-21,
          -0.022656215297159377,
          -0.08993639096832766,
          0.9084510603289093,
          1.2874900798265365e-22,
          -0.1064692748773673,
          -1.448494102440634e-19,
          0.5094621056458916,
          -0.11662196537051883,
          -0.006314222021413496,
          0.7180546511080032,
          -0.06053200409613975,
          0.8207658694370653,
          -4.632211430296955e-26,
          -0.2594632762721038,
          1.124448645189272e-27,
          -1.2751707725382082,
          0.008523297594687753,
          1.8870057723865943e-27,
          -1.1602904209278602,
          -0.5624050049060713,
          0.8190532528242381,
          0.8665847511285962,
          -0.043060081632632134,
          -0.021079628258090982,
          -2.33705713261342,
          -0.04386178227749578,
          -1.2407709188295415e-26,
          3.9042924912502904e-25,
          -3.9898639947466565e-19,
          0.831767741295085,
          2.271919407036514e-30,
          1.1291015361348829e-25,
          -0.06882568291910904,
          -0.6069847209715519,
          -6.643914680025918e-24,
          -0.08001154431946204,
          -1.0753347963189359e-26,
          7.623296525288703e-22,
          -1.5232303848187698,
          0.7389460466599249,
          1.919059021123024e-24,
          -2.685913610096501e-29,
          -2.5642598989143858e-26,
          3.705769144237564e-24,
          -0.06107865599749759,
          2.032879073410321e-23,
          0.811462502365672,
          1.1689054672109346e-22,
          -0.03161084832170121,
          -2.802033935345034e-30,
          2.6205081805679918e-24,
          -1.7448341046040427e-28,
          -4.200526548120844e-28,
          -0.00913538637408715,
          6.617444900424222e-24,
          -0.03628272188191184,
          1.5612511283791263e-19,
          7.979727989493313e-19,
          0.014336241062824646,
          -3.998578156384265e-29,
          -5.251604272976662e-23,
          -0.5338705582597033,
          -3.4008109168439906e-28,
          -8.56261180963095e-29,
          -0.01401274058041621,
          -3.110005232743317e-29,
          -2.150669592637872e-25,
          -5.293955920339377e-25,
          -7.956766634421214e-29,
          -8.936197593532868e-23,
          0.05977542198878513,
          -0.022883414260870497,
          -5.997059441009451e-27,
          -9.926167350636332e-27,
          4.053185001509836e-26,
          -0.09059495728268828,
          2.2234614865425385e-24,
          -0.04458376932346086,
          0.7419956956156352,
          -0.08268496204798484,
          -0.06341522815260534,
          -0.05936385917048571,
          1.0047167686105407,
          0.2948506315369477,
          1.0222626431796935,
          -1.0164395367051604e-23,
          -4.336808689942018e-22,
          0.7829367665319039,
          -0.0904218966991973,
          1.7966743296887853,
          0.6519009315428339,
          -3.3881317890172014e-24,
          -0.015754099344851703,
          -0.06980154576656987,
          2.642742795433417e-22,
          8.673617379884036e-22,
          -0.06684209246462089,
          0.6608826700614504,
          -2.117582368135751e-25,
          -0.1399150894893533,
          0.8274617330092878,
          0.471556017354994,
          0.6155676227587598,
          -1.5670109524204555e-23,
          9.97465998686664e-21,
          -0.07414345689345797,
          -0.07732048620594237,
          7.19910242530375e-20,
          0.7622947622772203,
          -0.1063181315146024,
          1.0324185498313823,
          2.151962062344986e-27,
          0.8244905539608955,
          9.317362419797303e-24,
          -6.098637220230962e-23,
          -3.6350710512584225e-28,
          1.6155871338926323e-28,
          -0.2803364543454064,
          -3.864587821847745e-24,
          -4.963083675318166e-26,
          1.3648480107124957e-26,
          0.8110018571750817,
          1.369327949093665,
          -0.052440697684958265,
          -8.320017359752859e-35,
          -2.465190328815662e-35,
          -2.3558103845510227e-24,
          4.870439446712227e-24,
          -9.020562075079396e-20,
          0.005764631924816147,
          5.717472393966527e-24,
          -0.08231567950671392,
          7.623296525288702e-24,
          -7.279189390466644e-25,
          7.940933880509066e-26,
          3.2311742677852644e-29,
          -0.06763172722576476,
          -0.08881175433129346,
          -3.0373038117181485e-28,
          -0.018131921710022984,
          -1.5716431638507525e-26,
          -2.9597556292913023e-27,
          -4.39439700418796e-28,
          1.6047303883528737e-25,
          -4.442864618204738e-30,
          5.686866711302065e-28,
          -4.549493369041652e-27,
          2.423380700838948e-28,
          -2.477405934596318e-25,
          -4.235164736271502e-24,
          0.5735907007802602,
          -7.051549285892051e-23,
          3.58996385848014e-25,
          -1.2407709188295415e-27,
          9.693522803355793e-30,
          5.169878828456423e-28,
          0.8026728384399386,
          0.7301193676440293,
          0.7510125480952977,
          6.058451752097371e-31,
          -2.1043474783349024e-24,
          0.8601766379717055,
          0.6990458404935457,
          0.7743516507941682,
          0.717397912519045,
          0.004903800898174894,
          0.45793663434284326,
          2.276401045745932e-24,
          -0.043655233007216104,
          -1.215349500256401,
          -0.06323114656291723,
          -0.16394333474140568,
          0.023050488386461027,
          1.9387045606711585e-28,
          1.3266645372048764,
          -0.08031275802214698,
          0.84981810914081,
          0.6947491193848812,
          -1.320598356258609,
          1.809457589959748e-28,
          -2.1185868411864615,
          0.7524584012529182,
          -4.930380657631324e-34,
          -0.030517906286334457,
          0.8674918615739138,
          -8.951173136040325e-19,
          9.926167350636332e-26,
          2.711709361697228e-34,
          -0.001381297677381615,
          -7.674038885990003e-30,
          -0.019201018352437083,
          0.40469165710161964,
          2.3744713247152455e-31,
          -0.08860246088078629,
          2.3652195640188135e-27,
          -0.09769411158703464,
          -0.18302192040629514,
          0.7778348508996235,
          -0.013162961210652132,
          2.0194839173657903e-31,
          -1.0404381142268551e-27,
          -3.837019442995001e-30,
          1.4058628887656102,
          1.6626330312315857e-25,
          -0.07445068659244643,
          8.943890373229611e-27,
          -4.863822001811802e-25,
          -4.5753932502818687e-32,
          1.4378476653537162,
          0.8240328436436021,
          -2.8272774843121064e-30,
          0.02990467459704941,
          -0.06150929108684545,
          2.3728936029048035e-30,
          1.1580528575742388e-26,
          2.816384549620549e-23,
          -2.858824288409778e-18,
          -6.310887241768095e-33,
          -7.762391307374756e-31,
          4.549493369041652e-26,
          -0.14754141064743312,
          -0.7893813158480645,
          -0.2166735925595473,
          0.8388110958673753,
          0.7737821777100612,
          -9.71445146547012e-19,
          0.2977366762840932,
          7.589415207398531e-22,
          0.7427567754836494,
          0.8001347930924017,
          -0.654429796489795,
          0.008441691685691529,
          0.7019067495353709,
          -3.5822296965602587e-35,
          0.8693387616222025,
          -0.17259683082087818,
          0.9917661212203366,
          0.6570212761731482,
          0.008408281867898219,
          -0.2018062839176579,
          0.7480862933930031,
          0.0038247860592683803,
          -0.007912561431192507,
          -0.7492784753421963,
          0.74887169760061,
          0.6709115263873381,
          0.03419721775770794,
          1.925929944387236e-35,
          -0.038509892585250706,
          -1.1180834903756765e-22,
          -0.06092314168307023,
          2.2234614865425383e-23,
          -0.06816630044637563,
          -0.7725741980496419,
          1.0477399890450871,
          0.06014239386156491,
          -0.00624167741306461,
          -5.912289971835016e-22,
          -7.19910242530375e-20,
          -1.8634724839594608e-22,
          1.5881867761018132e-25,
          4.367513634279986e-25,
          -3.805030817743927e-26,
          0.8028133347542463,
          -1.6306400674181986e-18,
          -9.065899513581184e-25,
          0.003941913265001161,
          1.6155871338926322e-30,
          -8.077935669463161e-31,
          -0.08588756654051147,
          0.030765236890532337,
          -0.07297592854973195,
          5.816113682013476e-28,
          1.919059021123024e-24,
          0.00004998487535673412,
          -5.1285197978287715e-26,
          -6.462348535570529e-30,
          -0.03694143767342936,
          0.005024599185722153,
          -0.08797470104454984,
          0.1007585385338908,
          0.5033321319819652,
          -0.07455729037892325,
          -3.660314600225495e-31,
          0.8424845216015974,
          -0.022489206849715754,
          0.8223064775142728,
          0.8036118118090181,
          -5.837714062125579,
          -2.0029671421627252e-35,
          0.824972068442888,
          -0.024670212433192208,
          0.004231708124760475,
          0.7662174232665733,
          -0.09980563519954322,
          -0.00918179808910335,
          -0.18562331990558467,
          0.8366321337211197,
          0.005854768372722905,
          -0.045602968878437976,
          0.8031305220374384,
          0.7898712398596817,
          0.81573163284565,
          -0.053460634195144074,
          2.124013267357719,
          1.4898872179132676,
          8.835242138475332e-32,
          -2.587463769124919e-31,
          0.009257210740159826,
          -0.04766580718670348,
          0.8701404517686022,
          -0.0678655553372926,
          1.819797347616661e-25,
          -0.1625747401454547,
          0.004476595815612533,
          -2.1709452111682243e-30,
          -0.03299302006773829,
          0.03849165818439795,
          0.0057584577697015835,
          -0.090445844997164,
          -2.274746684520826e-27,
          0.7635825493989734,
          6.203854594147707e-27,
          0.014247622941764694,
          -1.0668421913514592,
          0.585205013520241,
          -0.39276381201827865,
          0.8739780559178172,
          0.765181079205338,
          -4.065758146820642e-23,
          0.00565762911957442,
          -0.012877746382766205,
          0.6795160896731903,
          -0.06287234416939765,
          5.719241562852336e-33,
          -5.480071558163808e-27,
          -5.532183936754649e-24,
          6.058451752097371e-31,
          5.066481251887295e-27,
          -1.6026624368214911e-27,
          -1.3440850541854081,
          0.14151767776214824,
          1.9387045606711585e-27,
          -0.30330841785163193,
          1.2116903504194741e-29,
          -0.08450832106366128,
          0.4679930042247251,
          -1.9387045606711587e-29,
          -6.211124070648836e-36,
          -0.0904272351534894,
          0.837646931696132,
          -0.005491005196067844,
          0.7762738195502095,
          0.022692491714476504,
          0.7676948580270955,
          -0.03859282008272872,
          0.712716759522858,
          2.732828744611862,
          0.7149087324187122,
          0.8740539044549145,
          0.72267286714142,
          1.1911400820763598e-24,
          0.7664762506753114,
          0.6902024436819134,
          -0.1805792076518178,
          1.3006414368021941,
          -0.03315807639486997,
          0.6741022808586198,
          -1.435172824579794,
          -2.7917345673664684e-27,
          -2.7296960214249915e-26,
          -0.14318453939073175,
          0.0007295946407240281,
          -0.08926581224207218,
          8.271806125530277e-28,
          -0.0590061303763775,
          0.8720891609444703,
          -0.007525818816328006,
          1.3631516442219084e-30,
          -0.0891770744102846,
          8.724170523020214e-28,
          0.017233344798515335,
          1.0332448943050807,
          2.0117032497289633e-24,
          -1.2924697071141058e-28,
          -1.6808310047077523e-24,
          1.2227344030925683e-32,
          -0.01876954610416528,
          -0.010947135391227571,
          -0.06593056143303642,
          3.937993638863291e-30,
          0.028132306986454036,
          -9.760731228125726e-26,
          -2.875745098328885e-28,
          -5.2939559203393774e-24,
          2.2618219874496853e-28,
          5.648244081382444e-31,
          0.757348336971783,
          0.024879714125737196,
          2.3665827156630355e-33,
          0.011120302924580777,
          -2.701261687868481e-27,
          -0.17128269236964438,
          -0.24815842490638126,
          -1.5900959103347115e-35,
          0.8348935175236689,
          -2.0033280460268639e-28,
          8.683780844672897e-30,
          -0.022136755130921504,
          0.004490221460886493,
          -3.281661365719409e-31,
          -4.0389678347315807e-29,
          -1.6578404961285327e-33,
          1.607509198223169e-28,
          -0.03392849888692958,
          3.877409121342317e-28,
          -0.02521877303626718,
          5.99534287967969e-31,
          -0.024033258065607212,
          -1.0014835710813626e-35,
          3.2796418818020435e-28,
          0.8156544706850795,
          0.10557390153966154,
          0.7020070174437772,
          0.47294590423507865,
          0.6922548678402383,
          -1.4637067577342992e-35,
          -0.06829790541290488,
          0.11422819126774143,
          0.8011329575158721,
          -0.08079948264867626,
          1.06658464017808,
          -0.26811500835221835,
          1.6869216082569403,
          0.8735077557664512,
          0.8124989886111192,
          0.6519639295334431,
          -0.047604525256901155,
          1.1736135598609719e-36,
          1.1239957013365147,
          -0.07714607949340632,
          2.407412430484045e-38,
          0.918561525265366,
          0.8828246466950558,
          0.9496461911599836,
          -0.0038712211180814433,
          0.02648089996728011,
          -2.16667118743564e-37,
          0.04263748418013385,
          -0.028868147290364615,
          0.8055749718138578,
          -0.24285601845694213,
          -2.1666711874356403e-36,
          -0.10865819207010083,
          -0.04577255502505077,
          -6.740754805355326e-37,
          1.9081958235744877e-20,
          4.212971753347079e-37,
          -0.051732607813231066,
          3.490748024201865e-37,
          -0.19223197364841205,
          -9.62964972193618e-38,
          0.7065552089168876,
          4.694454239443887e-37,
          3.6111186457260673e-38,
          2.0583376280638585e-36,
          -5.702558194709081e-37,
          -1.2037062152420225e-36,
          4.1908235589866255e-34,
          -1.3240768367662246e-37,
          0.6844074523178603,
          0.7464942654997074,
          0.6020567403687554,
          -0.02718829317629548,
          0.6348177866143699,
          -0.035124284667067296,
          -0.08580022480807639,
          3.6111186457260673e-38,
          -2.407412430484045e-38,
          1.2518544638517032e-36,
          9.62964972193618e-38,
          0.04944972850602781,
          -1.5287068933573685e-36,
          -3.4512664603419267e-34,
          -0.18174601566612741,
          -0.0700657920386281,
          -0.08080895409944554,
          2.5808035111654463e-25,
          -0.08969351265464345,
          4.265150033476549e-28,
          5.296307347064898e-37,
          0.8219998310563179,
          -0.37524946356678485,
          0.7845233128933606,
          0.8268792262883503,
          -0.07625787344884667,
          0.8011410721511901,
          0.81306660055788,
          0.7866544609457493,
          0.742296113387644,
          -0.11305659759155233,
          0.8010899239828573,
          0.7270244668465418,
          2.407412430484045e-38,
          0.5049727085962519,
          0.856847153968854,
          -3.490748024201865e-37,
          -0.13443313398241596,
          0.6209918803614098,
          -0.08474632091970793,
          0.23468020095864128,
          -4.212971753347079e-37,
          6.43982825154482e-37,
          0.35223627843818994,
          1.6250033905767302e-37,
          -3.6111186457260673e-38,
          -0.01481711750692364,
          2.2419028258882667e-36,
          4.574083617919685e-37,
          -1.0953726558702404e-36,
          -0.03199165514242953,
          -0.25932450838425686,
          -3.129636159629258e-37,
          0.699634222525128,
          0.83961657640078,
          -2.888894916580854e-37,
          0.7624636794735848,
          9.62964972193618e-38,
          0.7772766917583678,
          -1.012697869563746,
          3.611118645726067e-37,
          3.370377402677663e-37,
          -0.08465627378497392,
          -4.574083617919685e-37,
          -1.6851887013388314e-37,
          -2.407412430484045e-37,
          1.444447458290427e-37,
          -0.07745208515135328,
          0.4891820617510917,
          -2.587968362770348e-37,
          5.048709793414476e-32,
          -8.907425992790965e-37,
          -1.769448136405773e-36,
          -0.055267181492973855,
          0.0007103340767494174,
          -1.3842621475283258e-36,
          -0.3732442956702942,
          -0.052269094733143645,
          1.2518544638517032e-36,
          5.236122036302797e-37,
          -7.222237291452134e-37,
          -0.0655857702611074,
          -0.4186361359659195,
          -6.500013562306921e-37,
          -9.870390964984584e-37,
          2.407412430484045e-37,
          -0.1008279365823542,
          1.131483842327501e-36,
          9.14816723583937e-37,
          -0.054945944267206066,
          -5.296307347064898e-37,
          0.061473591377720675,
          -0.16088267540180182,
          -0.05220190213385246,
          -7.282422602214235e-37,
          -0.03382697516021864,
          1.7092628256436717e-36,
          0.14440755424609028,
          -5.687511867018556e-37,
          -0.08607025944906047,
          0.010828812711691832,
          -5.537048590113303e-37,
          5.175936725540696e-37,
          -7.824090399073146e-37,
          0.7280431096402619,
          -0.0004170806884349722,
          0.9554784387732647,
          -0.017895682170604513,
          -1.2638915260041236e-37,
          2.16667118743564e-37,
          0.01451422497609177,
          -1.3692158198378005e-37,
          2.5277830520082472e-37,
          -1.536534176386437,
          -0.007028207200938006,
          0.17227218260564775,
          -0.021751468262638924,
          2.16667118743564e-37,
          6.018531076210112e-38,
          -1.1973081309067586,
          0.027948844910103573,
          1.2037062152420224e-38,
          -5.296307347064898e-37,
          -0.6835728274376893,
          -0.6710744179752516,
          1.36698774130368,
          -0.03132266246669604,
          0.724458772026063,
          0.05080521190865009,
          -0.6217477447415651,
          3.791674578012371e-37,
          -1.4021059867862347,
          -6.620384183831123e-38,
          6.98149604840373e-37,
          -1.0327106931141286,
          -7.222237291452135e-38,
          0.19280705390738379,
          0.7831212095942198,
          -0.25188380004952526,
          -0.06572219379498213,
          1.0727564022780847,
          0.24885223389912098,
          1.564818079814629e-37,
          -0.2829533589612939,
          0.6597613324756046,
          -0.02407576853568678,
          0.8133348421064108,
          -0.32681391926533165,
          5.657419211637505e-37,
          0.0028222634504095527,
          -9.509279100411977e-37,
          0.8495259037143295,
          5.747697177780657e-37,
          6.620384183831123e-37,
          0.7094756699580521,
          -6.620384183831123e-37,
          0.026491885631561157,
          1.2563683621588608e-36,
          0.017244624370505418,
          0.11855549224592385,
          -0.020960876345537813,
          -0.1331992889761415,
          -0.28286421523167327,
          -0.08969744384499552,
          -1.5309638425109471e-37,
          -1.0351873451081392e-36,
          -6.138901697734314e-37,
          -0.08256760811870333,
          -3.5057943518923905e-37,
          0.7548288315006402,
          1.6851887013388314e-37,
          0.09044088357086835,
          1.0231502829557191e-37,
          2.407412430484045e-38,
          1.342132429994855e-36,
          -0.7271338651636905,
          -0.45169907934968456,
          -1.7453740121009326e-37,
          6.048623731591163e-37,
          -1.08333559371782e-37,
          2.557875707389298e-37,
          4.363435030252331e-37,
          -3.9120451995365726e-38,
          2.7083389842945503e-37,
          5.4166779685891e-38,
          3.851859888774472e-37,
          9.62964972193618e-37,
          -1.8657446336251347e-37,
          -7.222237291452135e-38,
          0.6607160557282445,
          -0.06784490069292338,
          0.674786238802495,
          3.957184182608149e-37,
          -8.275480229788904e-39,
          0.879741349235136,
          3.0732124307897883e-37,
          -1.38146804592721,
          1.6851887013388314e-37,
          -6.740754805355326e-37,
          -2.256949153578792e-37,
          -0.03901718736798643,
          -1.1478542468547925e-34,
          0.12332905543733926,
          -1.4277959546044896,
          -0.6710025650630447,
          1.2893443147221542,
          -3.21991412577241e-37,
          0.01033427567286577,
          1.564818079814629e-37,
          -0.23486101872902226,
          3.912045199536573e-37,
          0.2530828627028785,
          -0.010662850546176897,
          -0.4292555199293608,
          0.009050444198207724,
          -0.05407958381031569,
          0.7535208595865822,
          0.7832141358729701,
          -0.028515308540955523,
          0.9356006577080013,
          0.7055577457754656,
          0.7210288345795487,
          -0.0715292826766249,
          -0.0224644473339428,
          1.925611448601914,
          -7.57958757410211e-38,
          -0.08195414394718835,
          -1.2037062152420224e-37,
          0.00701566286632064,
          7.52316384526264e-39,
          -5.341446330136474e-38,
          1.8083043125022666,
          0.012075056566169454,
          0.8600816668125176,
          -1.2037062152420224e-37,
          -1.0118655371878252e-37,
          -0.088993558431303,
          3.3101920919155614e-38,
          0.7826633431387644,
          8.125016952883651e-38,
          -0.8711423628128574,
          -2.70833898429455e-38,
          -2.407412430484045e-38,
          1.425341775743077,
          3.2500067811534605e-37,
          0.7827437492906922,
          -0.4937240814730759,
          0.7178807780236238,
          1.925929944387236e-37,
          -0.024789010137832246,
          0.8512403829219013,
          0.6837352056942184,
          -3.0995435042482075e-37,
          3.3101920919155614e-38,
          0.8194466739432733,
          5.4166779685891e-38,
          4.965288137873343e-38,
          -0.0875972267339517,
          0.023883425783824318,
          3.2650531088439858e-37,
          2.8023785323603334e-37,
          0.07688365913060147,
          -0.08084389471746489,
          6.319457630020618e-38,
          -7.222237291452135e-38,
          1.7092628256436717e-36,
          -0.05223984379754731,
          1.553533334046735e-37,
          0.010539639519661774,
          -1.6475728821125182e-37,
          -2.362273447412469e-37,
          1.3705246975196093,
          -0.2074134264333211,
          3.881952544155522e-37,
          -1.692711865184094e-37,
          1.233798870623073e-37,
          -0.36346217249180235,
          0.4724945515701019,
          0.778723176339391,
          1.421877966754639e-37,
          -5.4618169516606765e-37,
          0.6693266633792289,
          -0.15772103057685607,
          2.16667118743564e-37,
          1.2638915260041236e-37,
          0.8217199058018595,
          -1.4171079970796843,
          -1.504632769052528e-38,
          0.7534350126006458,
          -0.47476152974964125,
          0.601779281668813,
          -4.137740114894452e-38,
          0.7841900467918151,
          7.222237291452135e-38,
          -0.04809653198286325,
          6.319457630020618e-38,
          -0.03314723394309973,
          0.6962734925624513,
          3.836813561083946e-38,
          9.723689270001963e-38,
          1.0388205878153352,
          -5.040519776325969e-38,
          -0.08995807874394544,
          -1.4294011305999016e-38,
          0.7056250090822765,
          1.425813553767486,
          0.6184603828364283,
          -7.222237291452135e-38,
          -0.05766980398962123,
          -1.2037062152420224e-38,
          -0.279631170435376,
          -2.256949153578792e-38,
          -0.5839956815379292,
          0.6649192097818617,
          -0.8925691674982399,
          -8.275480229788904e-38,
          0.010617582912370591,
          -0.04980189862400313,
          0.6575304893905727,
          7.372700568357388e-38,
          1.293984181385174e-37,
          0.0034014341176340454,
          -8.125016952883651e-38,
          0.7947746441608011,
          0.03387111305181799,
          -6.357073449246931e-38,
          -0.05270382577841148,
          1.0908587575630829e-38,
          -2.256949153578792e-39,
          -5.190983053231222e-38,
          -8.200248591336278e-38,
          3.658138419758959e-38,
          -0.010879738711012322,
          -6.921310737641629e-38,
          -5.115751414778596e-38,
          4.250587572573392e-38,
          -6.319457630020618e-38,
          -1.1585672321704466e-37,
          -1.3692158198378005e-37,
          -3.5546949168865974e-38,
          0.010291731179286159,
          2.256949153578792e-38,
          -0.020119164853850856,
          1.9560225997682865e-37,
          2.162909605513009e-38,
          -1.0983819214083454e-37,
          5.868067799304859e-38,
          -3.836813561083946e-38,
          -2.5052135604724593e-37,
          -3.385423730368188e-38,
          -7.824090399073145e-38,
          1.0554580717012119,
          8.952564975862541e-38,
          -0.0028008758926543974,
          4.1471440697010304e-38,
          -6.620384183831123e-38,
          2.1064858766735393e-38,
          -0.015571095779934147,
          -2.6142994362287677e-38,
          0.7569999035482163,
          -8.839717518183602e-39,
          -4.0625084764418256e-38,
          -2.7459548035208634e-38,
          -0.20505359808571738,
          0.0601560908937268,
          -7.071774014546882e-38,
          5.604757064720667e-38,
          5.64237288394698e-39,
          -8.651638422052036e-39,
          9.215875710446734e-38,
          -0.08874781375025238,
          -6.018531076210112e-39,
          0.1464154185221814,
          -8.425943506694157e-38,
          -0.009205959430037557,
          2.9340338996524296e-38,
          3.9120451995365726e-38,
          -1.7303276844104072e-38,
          3.535887007273441e-38,
          1.8055593228630336e-38,
          -0.05028073757987143,
          0.28799624517846517,
          0.6871998853464495,
          9.968192094972998e-39,
          2.445028249710358e-38,
          -0.0573408132209376,
          -3.7991977418576335e-38,
          -3.159728815010309e-38,
          0.7908732641398196,
          1.8055593228630336e-38,
          6.695615822283749e-38,
          3.009265538105056e-39,
          1.88079096131566e-40,
          -2.0312542382209128e-38,
          -0.04472628228361027,
          -1.8055593228630336e-38,
          2.6519152554550804e-38,
          -0.032601735464888815,
          -0.05344089428442634,
          -3.3101920919155614e-38,
          0.0008220303342454412,
          -3.122112995783996e-38,
          2.858802261199803e-38,
          -0.08997908764767823,
          1.1425805089992634e-38,
          0.05372532311121296,
          8.275480229788904e-39,
          -1.354169492147275e-38,
          -0.08447970335031632,
          0.7166454894969165,
          -1.8243672324761903e-38,
          2.557875707389298e-38,
          0.04049802225494049,
          -8.275480229788904e-39,
          7.52316384526264e-40,
          0.014754782915570273,
          -7.52316384526264e-39,
          -4.513898307157584e-39,
          0.10207225323109613,
          -0.649994333730863,
          0.018060810985573657,
          1.128474576789396e-39,
          6.018531076210112e-39,
          4.6549576292562585e-38,
          0.46041733585286326,
          2.0312542382209128e-38,
          3.76158192263132e-39,
          3.4606553688208144e-38,
          -7.052966104933725e-39,
          -0.0590450417135037,
          -6.206610172341678e-39,
          -0.032002891979574934,
          0.7502122140691418,
          2.858802261199803e-38,
          -0.027563184424878876,
          0.1454273002570877,
          -0.14327772413938022,
          0.0023021021741034668,
          1.4294011305999016e-38,
          2.256949153578792e-39,
          -2.858802261199803e-38,
          6.394689268473245e-39,
          -5.64237288394698e-39,
          -1.1660903960157092e-38,
          1.692711865184094e-39,
          3.855621470697103e-38,
          -1.410593220986745e-39,
          5.64237288394698e-39,
          -2.256949153578792e-39,
          1.5422485882788413e-38,
          -1.2413220344683357e-38,
          2.1441016958998525e-38,
          -9.027796614315168e-39,
          0.010617829525056953,
          1.88079096131566e-38,
          -5.454293787815414e-39,
          1.5704604526985762e-38,
          4.137740114894452e-39,
          -6.770847460736376e-39,
          -2.8964180804261164e-38,
          7.52316384526264e-39,
          -2.3697966112577316e-38,
          1.128474576789396e-39,
          -9.968192094972998e-39,
          -0.02571396004112391,
          -0.09509821455351858,
          -6.817867234769268e-40,
          -2.633107345841924e-39,
          0.23028916249734496,
          1.5798644075051545e-38,
          -0.06666366247143905,
          0.7223693653593023,
          -7.335084749131074e-39,
          4.231779662960235e-39,
          0.05417888966989905,
          -1.499930791649239e-38,
          -0.08776351449650023,
          1.7679435036367204e-38,
          0.11288445624499974,
          0.12009548675103307,
          0.590256011668569,
          6.99419138739261e-40,
          -0.0034193168636855176,
          -0.03077390959567713,
          3.385423730368188e-39,
          -0.0572007439293802,
          3.2913841823024053e-39,
          4.231779662960235e-40,
          1.4717976266759398,
          -4.513898307157584e-39,
          -0.03041076719948682,
          4.513898307157584e-39,
          -0.7357880139411702,
          -8.933757066249385e-40,
          1.598672317118311e-39,
          -0.03704553382226288,
          0,
          -1.2781313554322207,
          1.128474576789396e-39,
          -0.09046852569811265,
          -8.745677970117819e-39,
          0.041764571246898724,
          -0.008440393760947601,
          -4.231779662960235e-39,
          3.009265538105056e-39,
          -6.065550850243004e-39,
          4.70197740328915e-40,
          -0.9909840723325483,
          0,
          -1.504632769052528e-39,
          3.385423730368188e-39,
          -9.4039548065783e-41,
          1.8367099231598243e-41,
          1.04325123635478e-40,
          0.03696870287923283,
          -2.0571151139390032e-41,
          -0.02747777752497768,
          5.407274013782523e-39,
          9.183549615799121e-43,
          -0.08812586877897965,
          9.4039548065783e-40,
          4.513898307157584e-39,
          -4.2611670217307924e-41,
          1.8367099231598243e-43,
          -0.0810775109946553,
          4.775445800215543e-42,
          0.8725452900590457,
          7.052966104933725e-41,
          -0.08800996088583461,
          -5.172175143618065e-40,
          -3.949661018762886e-39,
          0.010813957147725211,
          -3.408933617384634e-40,
          -6.428484731059385e-43,
          1.1754943508222875e-40,
          0.5739622754924476,
          -2.0571151139390032e-41,
          1.5244692362226542e-41,
          0.7912875612035849,
          6.06114274642742e-41,
          6.465218929522581e-41,
          1.2305956485170823e-41,
          -7.174648137343064e-45,
          -0.05403733026369848,
          1.1559707371148745e-52,
          5.946901479955135e-53,
          -2.3990229709240868e-45,
          4.0091470651382936e-54,
          -3.9460564755386846e-45,
          7.137864052654537e-48,
          0.9427498012176675,
          1.3363823550460979e-52,
          2.512398827486664e-52,
          0,
          5.200131019955376e-50,
          -5.88008236220283e-53,
          6.866362475191604e-47,
          -6.41463530422127e-53,
          3.4211388289180106e-50,
          -2.1905418539196,
          -5.739718509874451e-44,
          2.405488239082976e-53,
          -4.827681257604028e-53,
          -2.2420775429197074e-47,
          -4.3621860675045824e-43,
          7.663350976776344e-49,
          -1.587408416617957e-49,
          0.056011760650633236,
          -3.608232358624464e-52,
          0.010730654990180687,
          -0.1496211825473628,
          -4.867281296373534e-42,
          -3.923635700109488e-46,
          -6.267772612782901e-42,
          1.6704779438076223e-54,
          -3.3409558876152447e-53,
          3.3409558876152446e-54,
          -1.436611031674555e-53,
          -5.011433831422867e-55,
          6.681911775230489e-55,
          -6.681911775230489e-55,
          5.011433831422867e-55,
          -5.846672803326679e-54,
          1.4700205905507075e-53,
          8.686485307799635e-54,
          -2.0463354811643374e-54,
          1.0691058840368783e-53,
          -1.0691058840368783e-53,
          1.6036588260553174e-53,
          7.684198541515062e-54,
          7.851246335895825e-54,
          0,
          -6.01372059770744e-54,
          -7.350102952753538e-54,
          -0.2732909242907124,
          1.436611031674555e-53,
          -7.350102952753538e-54,
          5.345529420184391e-54,
          -0.08133558893687834,
          -1.3363823550460979e-54,
          -1.9878687531310704e-53,
          2.3386691213306712e-54,
          1.2361536784176404e-53,
          6.681911775230489e-55,
          6.681911775230489e-54,
          3.00686029885372e-54,
          2.5057169157114335e-55,
          -1.2528584578557167e-55,
          2.0045735325691468e-54,
          3.1321461446392917e-55,
          2.5057169157114335e-55,
          -5.429053317374772e-55,
          -1.2946204064509073e-54,
          3.236551016127268e-55,
          -3.3409558876152446e-55,
          -5.011433831422867e-55,
          6.264292289278583e-55,
          0.013909897061752706,
          -6.473102032254536e-55,
          3.967385116543103e-55,
          -2.714526658687386e-55,
          -0.17346740524298973,
          -0.06581296597184312,
          -9.918462791357757e-55,
          -1.7331208667004082e-54,
          -2.923336401663339e-55,
          9.187628690941922e-55,
          -3.75857537356715e-55,
          4.176194859519056e-56,
          -0.07075861946314171,
          1.177215528610308,
          -2.2969071727354805e-55,
          0.246046863223299,
          -0.04265548758998409,
          -2.9755388374073273e-55,
          -1.879287686783575e-55,
          3.967385116543103e-55,
          1.566073072319646e-56,
          0.031057496183216907,
          -1.4616682008316695e-55,
          -1.5660730723196458e-55,
          0.04324820440621399,
          -1.044048714879764e-55,
          0.03460360824889624,
          -2.088097429759528e-55,
          -4.437207038238997e-56,
          -5.742267931838701e-56,
          -0.021514328111386587,
          -1.4355669829596753e-56,
          8.352389719038112e-56,
          1.1223523684957461e-55,
          3.5497656305911976e-55,
          -1.2528584578557167e-55,
          2.61012178719941e-56,
          -2.6427483095394025e-56,
          -9.918462791357757e-56,
          -3.22798655401302e-56,
          2.4535144799674452e-55,
          0.7440247165639464,
          -1.7748828152955988e-55,
          -2.1925023012475044e-55,
          1.2528584578557167e-55,
          9.135426255197935e-56,
          5.22024357439882e-57,
          -2.088097429759528e-56,
          -1.044048714879764e-56,
          -1.357263329343693e-55,
          -6.786316646718465e-56,
          -1.2398078489197196e-56,
          -2.61012178719941e-57,
          0,
          -7.308341004158348e-56,
          -2.3491096084794687e-56,
          -6.264292289278584e-56,
          9.787956701997786e-57,
          2.2186035191194985e-56,
          -3.3931583233592326e-56,
          -1.3703139382796902e-56,
          -1.2153379571647251e-56,
          0,
          -3.654170502079174e-56,
          1.794458728699594e-57,
          1.4110970912046808e-56,
          -1.1745548042397343e-56,
          -2.936387010599336e-56,
          -1.305060893599705e-57,
          -4.176194859519056e-56,
          -6.851569691398451e-57,
          2.0554709074195352e-56,
          -1.044048714879764e-56,
          8.482895808398081e-57,
          1.5497598111496495e-57,
          -1.827085251039587e-56,
          -1.305060893599705e-57,
          1.7128924228496128e-57,
          -1.6313261169996312e-57,
          1.5008200276396606e-56,
          -1.305060893599705e-57,
          2.3491096084794687e-56,
          2.936387010599336e-57,
          1.1745548042397343e-56,
          1.0318137690022667e-56,
          8.482895808398081e-57,
          -2.61012178719941e-57,
          0,
          -9.787956701997787e-58,
          -2.854820704749355e-57,
          -1.7536755757746033e-57,
          3.1606943516867853e-58,
          -6.467953159197757e-59,
          -5.097894115623847e-59,
          -1.2744735289059618e-60,
          -2.1666049991401353e-59,
          7.00960440898279e-60,
          4.779275733397357e-61,
          -6.372367644529809e-61,
          -5.575821688963583e-61,
          -7.965459555662262e-62,
          -1.7842629404683466e-59,
          -3.8234205867178855e-60,
          -3.026874631151659e-60,
          6.850295217869544e-60,
          -6.372367644529809e-61,
          -9.558551466794714e-61,
          2.071019484472188e-60,
          -1.7524011022456974e-60,
          3.1861838222649046e-60,
          3.982729777831131e-61,
          1.433782720019207e-60,
          1.448908652612274e-73,
          -1.231572354720433e-72,
          0,
          0,
          0,
          0,
          0,
          0,
          0,
          0,
          0,
          0,
          0,
          0,
          0,
          0,
          0.525326506966739,
          -7.32822279120928e-60,
          0,
          -0.10241863520388515,
          0,
          0,
          -0.08961077004645851,
          0,
          0,
          0,
          0,
          0,
          0,
          0,
          0,
          0,
          0,
          0,
          0,
          0,
          0,
          0,
          0,
          0,
          0,
          0,
          0,
          0,
          0,
          0,
          0,
          0,
          0,
          0,
          0,
          0,
          0,
          0,
          0,
          0,
          0,
          0,
          0,
          0,
          0,
          0,
          0,
          0,
          0,
          0,
          0,
          0,
          0,
          0,
          0,
          0,
          0,
          0,
          0,
          0,
          0,
          0,
          0,
          0,
          0,
          0,
          0,
          0,
          0,
          0,
          0,
          0,
          -0.06752711656378159,
          0,
          0,
          0,
          0,
          0,
          0,
          0.05092783383452033
         ],
         "xaxis": "x",
         "y": [
          -9.14765576256519e-15,
          9.861902960928148e-19,
          6.099287741534454e-18,
          -3.760880495917718e-18,
          -1.4925560787304447e-17,
          9.346690088563036e-18,
          -2.848415947553917e-18,
          1.0269562977782698e-17,
          -3.247402347028583e-18,
          -4.583139423530724e-18,
          -1.734723475976807e-21,
          1.9457092187424864e-18,
          0.7122053874212643,
          -6.942363350859182e-18,
          0.4340098111317105,
          -5.367234434672241e-18,
          7.355227538141662e-19,
          -2.6402491304367004e-18,
          1.1091821905395705e-17,
          0.03200331691073168,
          -0.01295995663503091,
          2.0539125955565395e-18,
          5.1486592766991634e-18,
          0.07840811133123717,
          4.413136522884997e-18,
          5.551115123125783e-18,
          6.6353172956112874e-18,
          0.49106076839742574,
          -1.883042333172824e-18,
          -2.213507155346406e-18,
          -3.9898639947466565e-19,
          1.3600232051658168e-18,
          -0.3260388110316032,
          2.3245294578089216e-19,
          0.15710830200664003,
          2.8449465006019638e-19,
          9.80118763926896e-20,
          -2.4320823133194834e-18,
          6.245004513516505e-20,
          -1.8388068845354155e-19,
          4.579669976578771e-19,
          -1.984523656517467e-18,
          6.522560269672795e-19,
          4.579669976578771e-19,
          5.915407053080913e-19,
          -1.0408340855860842e-18,
          -7.233796894823285e-19,
          -2.7200464103316336e-18,
          1.984523656517467e-18,
          -1.6462525787019899e-18,
          -1.0867478839618043,
          1.4710455076283324e-18,
          2.699229728619912e-18,
          -5.342948306008566e-19,
          -2.454633718507182e-19,
          -3.1259717037102065e-18,
          -6.088879400678593e-19,
          8.0838113980519215e-19,
          -1.1934897514720432e-18,
          -3.764349942869671e-18,
          8.118505867571458e-19,
          -1.366962099069724e-18,
          2.9073965457371286e-18,
          -3.3133218391157014e-18,
          1.942890293094024e-19,
          -2.92300905702092e-19,
          -9.584347204771859e-20,
          -4.683753385137379e-20,
          -9.905271047827568e-19,
          -4.0332320816460767e-19,
          6.626643678231403e-19,
          -1.3426759704060487e-18,
          -7.997075224253081e-19,
          6.852157730108388e-19,
          1.5456386170953351e-18,
          1.1024167689832608e-18,
          -1.3530843112619095e-19,
          0.576592801460336,
          -0.05218537901858069,
          4.050579316405845e-19,
          0.9019159183502823,
          -9.853229343548263e-19,
          3.5475095083725703e-19,
          -2.069525106840331e-18,
          1.3361707573711356e-18,
          4.666406150377611e-19,
          -1.1969591984239968e-18,
          -4.701100619897148e-19,
          6.921546669147461e-19,
          -1.8041124150158793e-19,
          -1.0130785099704553e-18,
          -3.7643499428696714e-19,
          2.671474153004283e-19,
          1.833602714107485e-18,
          -2.248201624865942e-18,
          -2.0729945537922844e-19,
          -2.549609828816912e-18,
          -2.7582103268031234e-18,
          -4.718447854656916e-19,
          3.4416913763379853e-18,
          3.122502256758253e-18,
          -0.007369296228434994,
          -1.006139616066548e-18,
          -8.951173136040325e-19,
          4.371503159461554e-19,
          2.581268532253489e-18,
          -2.706168622523819e-18,
          -4.440892098500626e-19,
          5.377642775528102e-19,
          -6.661338147750939e-19,
          6.10405823109339e-19,
          -3.1225022567582527e-19,
          -4.787836793695988e-19,
          9.124645483638006e-19,
          2.498001805406602e-19,
          1.9012569296705807e-18,
          2.7304547511874945e-18,
          4.0766001685454964e-19,
          -5.48172618408671e-19,
          0.5955498560728222,
          -3.890984756615978e-18,
          -8.358114547690753e-19,
          2.246466901389965e-18,
          -1.457167719820518e-18,
          0.5991152696900106,
          0.4219468177976039,
          0.09979714076003034,
          -1.1865508575681361e-18,
          1.1403438466673745,
          -1.2628786905111155e-18,
          -6.661338147750939e-19,
          0.2731702797615472,
          -4.85722573273506e-20,
          0.3330742893609093,
          0.1023754760167494,
          1.096345236817342e-18,
          -6.661338147750939e-19,
          5.551115123125783e-20,
          6.661338147750939e-19,
          -1.925543058334256e-19,
          3.4694469519536144e-19,
          0.4105648091323287,
          0.5792055823481436,
          4.458239333260394e-19,
          3.3306690738754697e-19,
          1.0304257447302234e-18,
          3.0531133177191803e-19,
          2.213507155346406e-18,
          -0.046098436505652075,
          1.2906342661267445e-18,
          1.1379786002407855e-18,
          2.7755575615628914e-20,
          1.8735013540549518e-18,
          3.4694469519536144e-19,
          -1.0547118733938987e-18,
          -3.0531133177191803e-19,
          -2.0816681711721684e-19,
          -2.7755575615628914e-20,
          0.3371534461323179,
          1.3877787807814457e-19,
          4.718447854656916e-19,
          -3.6255720647915267e-19,
          1.1946177320281426,
          5.204170427930421e-20,
          1.925543058334256e-19,
          -8.118505867571458e-19,
          1.3877787807814457e-19,
          0.6312734031605126,
          -9.228728892196614e-19,
          -2.1163626406917046e-19,
          -3.2526065174565134e-22,
          -4.336808689942018e-20,
          5.828670879282072e-19,
          -1.942890293094024e-19,
          1.2407709188295415e-27,
          2.7755575615628914e-19,
          1.942890293094024e-19,
          -1.528725063204561e-20,
          1.3183898417423734e-19,
          8.326672684688674e-20,
          1.7243151351209462e-18,
          -3.1225022567582525e-20,
          -1.4849232954361468e-18,
          3.1225022567582525e-20,
          -2.6020852139652105e-19,
          -3.2439329000766293e-19,
          1.0257039595657543e-25,
          0.4553599031927752,
          5.898059818321145e-20,
          5.204170427930421e-20,
          8.326672684688674e-20,
          -2.347124988119216e-26,
          -5.551115123125783e-20,
          2.0816681711721684e-19,
          -1.179611963664229e-18,
          -5.134781488891349e-19,
          0.00343228742248931,
          0.6113844098687593,
          1.2073675392798577e-18,
          1.8197973476166608e-26,
          8.326672684688674e-20,
          -4.336808689942018e-21,
          0.5307124997182616,
          -3.1225022567582527e-19,
          -1.3183898417423734e-19,
          1.942890293094024e-19,
          -5.134781488891349e-19,
          -8.604228440844963e-19,
          -2.7755575615628914e-20,
          1.1379786002407855e-18,
          -5.030698080332741e-20,
          0.4801545782574357,
          0.342921342547248,
          7.910339050454241e-19,
          2.0816681711721686e-20,
          -7.702172233337024e-19,
          -6.617444900424222e-27,
          6.106226635438361e-19,
          1.3877787807814458e-18,
          -5.967448757360216e-19,
          9.71445146547012e-20,
          -3.9551695252271203e-19,
          6.938893903907229e-20,
          2.1510571102112408e-19,
          0.3371561267487377,
          0.17472377255667815,
          0.1648912433810351,
          3.4694469519536144e-19,
          1.3877787807814458e-18,
          1.0845497637728327,
          -4.232725281383409e-19,
          -0.04797448686706127,
          -2.7200464103316336e-18,
          0.2368806996013655,
          0.18775966143373632,
          -8.118505867571458e-19,
          3.0531133177191803e-19,
          -0.03431153727757212,
          3.3306690738754697e-19,
          1.609823385706477e-18,
          0.4375823639395663,
          1.5178830414797062e-21,
          1.2981829606082012,
          -2.6800651846718098e-25,
          -7.632783294297951e-20,
          -3.3306690738754697e-19,
          -0.02650139276368342,
          -6.938893903907229e-20,
          -3.7470027081099033e-19,
          -0.19101777739704506,
          1.3704315460216776e-19,
          0.7316927181739001,
          -1.1865508575681361e-18,
          -3.5542916945637906e-29,
          0.037180321373444264,
          1.3183898417423734e-19,
          0.6692200765755278,
          0.06694440663970161,
          1.1449174941446927e-18,
          0.244802567858114,
          0.08504941551027317,
          -3.748162150630907e-28,
          0.005179083771744883,
          1.3791522012681596,
          -1.0587911840678754e-25,
          6.505213034913027e-19,
          0.520088474049544,
          0.6035918174779764,
          -1.3877787807814457e-19,
          0.44442025416734104,
          1.3552527156068806e-23,
          6.036837696399288e-19,
          0.4375427325670496,
          0.621644188280128,
          0.6248041309040038,
          1.457167719820518e-19,
          0.593801649235717,
          0.059251772954237725,
          2.914335439641036e-19,
          0.5710322306670415,
          0.09782859173335207,
          0.15658462933107417,
          0.649307206294668,
          -0.08414401509550307,
          -3.712308238590367e-19,
          -8.847089727481716e-20,
          -5.551115123125783e-20,
          0.31496927444481004,
          -3.885780586188048e-19,
          -2.359223927328458e-19,
          0.5550776524403224,
          0.6302234893179697,
          -9.04728794979874e-29,
          0.20938794352825238,
          -5.828670879282072e-19,
          -8.673617379884036e-22,
          -0.005672567456302354,
          0.6073369405786999,
          0.4213232299336634,
          0.4189003114188404,
          0.739228235833927,
          4.85722573273506e-20,
          0.09881923830809938,
          6.938893903907229e-21,
          -9.020562075079396e-20,
          0.633716250209342,
          1.1102230246251566e-19,
          9.215718466126788e-22,
          -0.0528916509215025,
          8.673617379884036e-21,
          7.632783294297951e-20,
          1.817990202823694e-18,
          1.1911400820763598e-25,
          2.848148285142585e-23,
          5.412337245047638e-19,
          -1.2628786905111155e-18,
          -1.3322676295501879e-18,
          -9.298117831235687e-19,
          1.0321604682062002e-19,
          9.575673587391976e-19,
          5.898059818321145e-20,
          4.955142741437657e-23,
          0,
          1.6672859221771965e-27,
          4.3426982159033956e-27,
          -2.1198320876436582e-18,
          -1.3877787807814457e-20,
          -2.445960101127298e-19,
          -2.541098841762901e-24,
          -1.2705494208814505e-23,
          -3.9898639947466565e-19,
          -7.928228386300252e-22,
          9.020562075079397e-19,
          8.326672684688674e-20,
          -1.9775847626135602e-19,
          -3.649858193455202e-18,
          5.412216898540318e-29,
          -1.1518563880486e-18,
          -1.5959455978986625e-19,
          1.4062070413401471e-26,
          -5.816113682013475e-29,
          -2.7755575615628914e-20,
          5.492479267352104e-25,
          4.787836793695988e-19,
          -2.0209528495129804e-19,
          0.12201730331072246,
          -4.85722573273506e-19,
          -1.491862189340054e-19,
          2.981555974335137e-22,
          3.2612801348363973e-19,
          1.3322676295501879e-18,
          -0.03352616149926972,
          0.783262466719949,
          -3.400058012914542e-19,
          -1.3530843112619096e-18,
          -1.1519648082658485e-22,
          1.6653345369377348e-19,
          -2.2898349882893855e-19,
          4.996003610813204e-19,
          -2.7755575615628914e-20,
          -1.2197274440461924e-21,
          -4.963083675318166e-27,
          -5.551115123125783e-20,
          -3.069615554396001e-29,
          5.6898930012039275e-19,
          0.49484581974744524,
          0.2547476323428828,
          0.21226812156796546,
          -0.8918905395781801,
          0.4969507159222004,
          0.3146880873549194,
          0.37673912651699476,
          0.046327584424232356,
          0.16845622404670232,
          0.736475511949407,
          0.7218867656094687,
          0.6438274243544042,
          -0.08042194692406296,
          0.12818660205863117,
          0.4853883760520985,
          0.6352125500686792,
          1.1102230246251566e-19,
          -7.0776717819853725e-19,
          0.5872709508209575,
          -0.1290957974579591,
          0.13867724472775025,
          -4.8572257327350596e-18,
          0.6222038807450346,
          0.7004555437179345,
          -0.08557647634828093,
          0.7154924146674942,
          0.4787714329454429,
          0.4572116838040901,
          0.07706309996396146,
          0.11182039347251206,
          2.1510571102112408e-19,
          2.1649348980190553e-18,
          0.4117293082491614,
          1.8041124150158793e-19,
          0.255983283690827,
          0.2888032302205699,
          0.3367804619832052,
          0.5470207176863172,
          0.4180038003175613,
          0.5495699016163035,
          -8.326672684688674e-20,
          0.6188300347986428,
          -7.910339050454241e-19,
          0.0192785988375171,
          3.885780586188048e-19,
          0.33902423113767866,
          5.551115123125783e-19,
          3.7966297646476856e-29,
          9.020562075079397e-19,
          2.359223927328458e-19,
          -1.6375789613221058e-18,
          3.5734202462290795e-25,
          0.19377730337526192,
          -2.7755575615628914e-19,
          8.893845946170154e-24,
          2.983724378680108e-19,
          -9.853229343548263e-19,
          -3.365363543395006e-19,
          -1.1102230246251566e-19,
          -1.0164395367051604e-23,
          1.4432899320127034e-18,
          -8.158715026157793e-29,
          -5.551115123125783e-20,
          5.377642775528102e-20,
          -3.998578156384265e-29,
          0.390258754204883,
          -0.11520878229381022,
          -6.661338147750939e-19,
          2.9976021664879226e-18,
          2.706168622523819e-19,
          0.2543842387977844,
          2.643718577388654e-18,
          8.077935669463161e-31,
          -8.014422459012849e-19,
          -3.3306690738754697e-19,
          -0.11619682305310336,
          -0.10450712149459607,
          -1.3877787807814457e-19,
          -7.494005416219807e-19,
          -1.1858461261560206e-22,
          1.2407709188295415e-26,
          4.85722573273506e-20,
          4.607859233063394e-22,
          2.220446049250313e-19,
          -0.10104494348541695,
          3.191891195797325e-19,
          -1.6543612251060554e-27,
          5.145063410079832e-25,
          6.522560269672795e-19,
          -8.604228440844963e-19,
          6.381569178875897e-29,
          3.4694469519536144e-19,
          1.1580528575742388e-26,
          -2.4936649967166603e-20,
          -4.510281037539699e-19,
          -2.261821987449685e-29,
          2.6367796834847467e-19,
          1.8735013540549516e-19,
          1.1858461261560205e-23,
          3.308722450212111e-26,
          -4.976008372389307e-28,
          2.42861286636753e-19,
          -2.400857290751901e-18,
          -4.996003610813204e-19,
          0.07919128194747214,
          -1.8041124150158793e-19,
          1.179611963664229e-19,
          -4.85722573273506e-20,
          -3.929107909626881e-27,
          -7.008282842946301e-19,
          -4.6528909456107805e-27,
          1.43982048506075e-19,
          0.4744952526706931,
          0.5801802730787815,
          2.6020852139652107e-21,
          2.359223927328458e-19,
          0.5520710236898361,
          -0.01725172922072983,
          0.1909399542440217,
          -0.13163434946998886,
          -0.4354190649529318,
          0.6020534170750969,
          0.7869628583232136,
          1.0043192853273968,
          0.5352905687958384,
          0.6083971667434805,
          0.03290730135722748,
          0.029444929733601893,
          1.829075659773065,
          -8.685396431806791e-27,
          0.3333540957203054,
          0.07303901418019083,
          0.3485190522633372,
          0.5667065029723768,
          0.4001876576257169,
          0.35363224822904715,
          1.8648277366750675e-20,
          -4.963083675318166e-27,
          0.29600363811597635,
          0.6314718385561028,
          1.4475660719677986e-26,
          -2.9080568410067377e-29,
          -0.03580671892079703,
          3.7816971776294395e-19,
          -4.0234064994579265e-24,
          -3.7719435932418063e-25,
          6.776263578034403e-23,
          -9.693522803355793e-29,
          -7.910339050454241e-19,
          -2.2898349882893855e-19,
          8.077935669463161e-30,
          -1.7694179454963431e-19,
          0.49854177742089684,
          -6.617444900424222e-27,
          -0.1357908827517362,
          0.7345243821507604,
          -3.218725199566341e-23,
          6.88214269644119e-25,
          0.001973749835458444,
          -5.3601303693436195e-25,
          0.7300581574615181,
          0.5889275947741542,
          0.6814041336756255,
          2.895132143935597e-27,
          0.17382391529053504,
          1.1102230246251566e-19,
          0.6075407279469578,
          0.14454496776307552,
          0.590711372434764,
          -1.2821299494571929e-26,
          -3.469446951953614e-20,
          9.471590178833367e-19,
          6.453171330633722e-19,
          -1.4095157637903591e-24,
          -4.0234064994579265e-24,
          6.453171330633722e-19,
          -5.273559366969493e-19,
          0.5853868239910501,
          -1.3958672836832342e-27,
          0.6319868507567863,
          0.9343678794827771,
          3.4694469519536144e-19,
          0.6320010138240963,
          1.0522631514292324,
          -3.705769144237564e-24,
          2.5849394142282116e-27,
          8.077935669463161e-29,
          3.1846453583291565e-26,
          6.522560269672795e-19,
          -1.3894049351476637e-27,
          3.4432080318106864,
          0.23031109883730871,
          1.5928509730196516,
          1.0744404349947176,
          0.42230656330471134,
          0.10592155835706395,
          -0.5176288601443327,
          -0.8896419077840153,
          0.4298244433508524,
          0.4409086746853584,
          -0.9489990446762032,
          0.7376519721862809,
          0.002709363856329061,
          0.7836979281260824,
          0.11324174285878831,
          1.0943863031176255,
          0.2892119304003554,
          -3.4741585727227165e-26,
          0.04469561162113215,
          0.7031213440751147,
          0.07569811377298392,
          0.5714760002899227,
          0.11725010053560125,
          0.5522069376353831,
          0.07376910050824513,
          0.2975260183745755,
          0.5594221076322977,
          3.101927297073854e-28,
          0.6257317763872017,
          0.08743343583382758,
          0.11907168379977355,
          0.3105715351691562,
          0.719012436583718,
          0.18810240923743474,
          2.6645352591003758e-18,
          -1.5265566588595902e-19,
          -3.6930636500287495e-22,
          -9.486769009248164e-23,
          -0.09396790089089259,
          -2.949029909160572e-20,
          -0.030497838358180446,
          1.547373340571312e-18,
          0.073033583524857,
          1.3739009929736313e-18,
          2.371692252312041e-23,
          -1.0164395367051604e-23,
          1.3530843112619095e-19,
          8.876905287225068e-22,
          -3.8116482626443514e-23,
          0.05559965505071419,
          0.16406462452038653,
          0.2815487342227817,
          0.3704610491160852,
          -3.483324739761429e-18,
          -2.2551405187698493e-19,
          -1.349614864309956e-18,
          0.7144002321285977,
          1.9012569296705807e-18,
          0.018079359317191006,
          -1.0587911840678754e-25,
          -2.480654570646834e-19,
          0.3569510500602429,
          0.2935780447461035,
          9.08995101411847e-19,
          -1.6940658945086007e-24,
          0.6474376003986225,
          2.5849394142282115e-28,
          1.2628786905111155e-18,
          1.1310397063368783e-18,
          2.19719850209398e-28,
          0.44066980532285854,
          4.632211430296955e-26,
          -2.1337098754514727e-19,
          -2.895132143935597e-27,
          0.03424403205806209,
          0.4347096665397067,
          0.3024762444368274,
          -7.270142102516845e-29,
          -2.2898349882893855e-18,
          4.0419056990259607e-19,
          0.30688692782831545,
          0.40529786027262804,
          0.3885241616789446,
          0.19069513619766618,
          -0.2709606369620231,
          0.23257551460163728,
          0.846752006715445,
          0.3560098925829901,
          0.4118510456397179,
          -1.0316134669217774,
          0.03716948671928855,
          2.983724378680108e-19,
          0.19827656375579933,
          -1.5959455978986625e-19,
          0.38833218368232447,
          -1.5146129380243426e-30,
          0.07042787136964976,
          -8.951173136040325e-19,
          1.142183884906997,
          0.06383550982953239,
          0.09358779644931305,
          0.10997180491812186,
          0.3081903816461043,
          0.40531543694029376,
          0.06713187441332275,
          0.14169584680496067,
          0.06029159601280373,
          7.806255641895631e-21,
          8.375203702099405e-27,
          0.5904030781876255,
          0.6240864239661491,
          0.5447468845471757,
          0.3379721548133253,
          0.6117298834034575,
          0.58413189567128,
          -1.942890293094024e-19,
          -1.3322676295501879e-18,
          0.6566158173023384,
          -1.1858461261560205e-23,
          0.45254298647979935,
          4.163336342344337e-19,
          0.23979270704978653,
          1.8295911660692887e-22,
          -8.470329472543004e-25,
          2.7582103268031233e-19,
          0.36066580889389654,
          -0.016976332693325488,
          1.861156378244312e-27,
          0.4353330088053123,
          -1.1926223897340549e-20,
          0.6263530216718154,
          -7.993873439712459e-24,
          -1.3877787807814457e-19,
          1.4863401631812216e-28,
          0.7407824519465869,
          -3.3881317890172014e-23,
          -7.632783294297951e-20,
          -5.551115123125783e-20,
          0.07059598853278778,
          0.37301367819233894,
          -0.028328528820251043,
          -0.34575987738817343,
          0.037244021141138575,
          8.673617379884036e-22,
          0.7204032249292619,
          0.28397142274563714,
          -0.11153483205120768,
          0.6344412069939278,
          0.451639394330488,
          0.4772291931267358,
          0.5489580220368723,
          0.4506253255807765,
          0.0029601387526460893,
          0.7407640002137169,
          0.6111438846218812,
          0.03595054328139484,
          0.011333153575446129,
          0.07699420900611535,
          1.051197710483047,
          0.10382849341967054,
          -1.9637363872940192,
          0.2282505565768067,
          -3.1225022567582525e-20,
          0.07518128004014578,
          -1.0058516248644816e-24,
          0.09913633432904674,
          0.29064052318744327,
          -0.023975457039616004,
          3.101927297073854e-28,
          0.7128213108300255,
          -0.13333963944049854,
          -0.49955411411168654,
          0.5998495767915115,
          2.3071822230491536e-18,
          0.43299879907868777,
          1.6653345369377348e-19,
          5.955700410381799e-26,
          -7.808584982500581e-25,
          0.05721548479623173,
          -2.498001805406602e-19,
          0.6035364902800002,
          -1.613002194478404e-26,
          0.10331168447989886,
          0.09442269877386311,
          -2.7755575615628914e-20,
          0.25058129994275563,
          -0.0449922047441845,
          -8.326672684688674e-20,
          3.4304834363799165e-23,
          4.572731082674864e-18,
          7.910339050454241e-19,
          0.0848158346961476,
          1.0269562977782697e-18,
          0.6208634673412852,
          8.809142651444723e-23,
          -6.106226635438361e-19,
          0.12481905480012671,
          2.8951321439355967e-25,
          -1.3877787807814457e-20,
          0.614933114126514,
          -4.607859233063394e-22,
          -1.3552527156068806e-21,
          1.6263032587282567e-22,
          -0.35723374614183623,
          0.41372349042401796,
          0.4361360534892611,
          -0.6103125199168831,
          0.4665305601017421,
          0.6840676717752325,
          0.2744065489228087,
          0.2916080238787891,
          4.579669976578771e-19,
          0.34036744653085205,
          0,
          0.21071266532414148,
          -1.4558378780933286e-25,
          0.33850784020337893,
          -0.7981618756587733,
          0.2120011320186597,
          0.32678719071437706,
          -6.352747104407252e-23,
          0.0953038813750446,
          0.09139138398497931,
          -0.16303525268791066,
          0.2079349759365577,
          2.4298430493745188e-27,
          6.522560269672795e-19,
          1.196959198423997e-19,
          -9.26442286059391e-26,
          -0.000461637073269211,
          0.1149634134417181,
          0.28988914014990325,
          0.21026869072116938,
          5.6898930012039275e-19,
          -5.030698080332741e-20,
          -1.2705494208814505e-24,
          3.365363543395006e-19,
          -3.3881317890172014e-23,
          -8.142559154818866e-28,
          0.6755543047561727,
          0.41582812196506197,
          -4.718447854656916e-19,
          8.27988406119974e-30,
          0.505273483981865,
          4.3622196783596465e-23,
          0.5986437275378209,
          -0.12103250578724248,
          -0.5013141364764433,
          -2.7755575615628914e-19,
          1.4258999395484517,
          -6.203854594147708e-28,
          0.2412349583482101,
          3.4331226595218436e-30,
          0.28909753522765486,
          0.5955280694880457,
          -1.4961989980299962e-20,
          -1.8611563782443122e-26,
          5.149960319306146e-22,
          0.714012798794068,
          0.31575256004848523,
          -3.877409121342317e-27,
          1.5881867761018132e-25,
          -3.0704944337968385e-23,
          0.5660265992535518,
          1.1964340379966993e-23,
          0.7392671215191214,
          0.2276020487980239,
          0.0029894724254653795,
          -3.2311742677852644e-30,
          -2.981555974335137e-22,
          -1.1911400820763598e-24,
          0.39499071041177974,
          -1.138200522872966e-24,
          0.06248071159285506,
          0.13337264423043121,
          9.540979117872439e-20,
          8.673617379884036e-22,
          0.5844912507813546,
          -0.02180988769765987,
          0.40423784013118785,
          0.1322446364522582,
          0.094400369632602,
          0.5366821872788922,
          1.6653345369377348e-19,
          -2.2262668401043775,
          0.6259727054874813,
          0.5594318526582746,
          0.1163345443552565,
          -3.049318610115481e-22,
          0.6240946272110496,
          0.6340360047464944,
          2.9646153153900515e-23,
          3.469446951953614e-21,
          0.3241885377226917,
          0.6943046565866129,
          1.5924219408380846e-22,
          -0.06005637260717455,
          3.2822526706104138e-24,
          0.6043940205232576,
          6.108938850031515e-30,
          -3.59823566460567e-26,
          -4.163336342344337e-20,
          0.1523483129317401,
          0.37371511891422815,
          3.3133218391157016e-19,
          5.828670879282072e-19,
          -2.5849394142282115e-29,
          0.6307235810070823,
          0.7300956960668452,
          0.5179038103520056,
          0.5053049062231915,
          2.5978641112993527e-27,
          2.507217523872729e-22,
          0.029801594507215024,
          0.1052925859799998,
          -5.755529164492502e-30,
          -6.803136446626006e-30,
          -1.1102230246251566e-19,
          0.5809627610205069,
          -3.07971297398283e-30,
          -3.1302000719169748e-30,
          -1.1657341758564144e-18,
          4.85722573273506e-19,
          0.17894424895366498,
          -0.17429792752692663,
          -4.1359030627651385e-28,
          -1.1117307432712693e-24,
          0.7683706671298424,
          0.7259137182500471,
          0.04847804252600425,
          0.2937815011348689,
          7.213014941462401e-25,
          -4.40619762898109e-19,
          0.7126503945368844,
          4.963083675318166e-25,
          0.631782681880615,
          0.5425912296530657,
          0.21040326793629963,
          0.29045840383898297,
          0.5435023592751341,
          1.0071194400563546,
          -0.991020932664219,
          -1.174960793029845,
          4.336808689942018e-21,
          0.5736492600147275,
          0.21920232899175326,
          0.7072693210734894,
          0.6067226515368745,
          0.1276380012353051,
          0.3258382554829326,
          -1.670904837357116e-25,
          2.8796409701214996e-18,
          0.0961619384604323,
          1.0484853529569809,
          0.7301887250760276,
          0.11923839279696695,
          -2.6469779601696886e-25,
          -0.06312567561055833,
          0.2076856291828365,
          0.3381945979517189,
          1.734723475976807e-20,
          0.13137734150496938,
          0.4864850805564685,
          0.23381368190438007,
          -2.795208725939191e-23,
          -0.21668355705868222,
          0.0011580889575144022,
          0.7310694013060289,
          -0.05872740775424501,
          -1.4187801866509532e-23,
          -2.541098841762901e-24,
          0.6159298691353247,
          0.54493381906069,
          0.09910950402418943,
          0.8911069489269998,
          -0.049748837675421646,
          -1.0503208545953324e-22,
          0.5592180742148246,
          2.0585708248295136,
          1.4992648602523627e-27,
          0.6175411466789231,
          -1.964057646445909e-23,
          7.134432783269864e-27,
          0.28371990695872285,
          0.11440098253064183,
          -0.019989416760506334,
          2.3161057151484777e-25,
          -6.314393452555578e-19,
          0.612129198743245,
          0.5713432523047652,
          4.963083675318166e-26,
          -4.632211430296955e-25,
          0.04071490951281551,
          0.6203201963343368,
          -1.179611963664229e-19,
          -0.024627933251831657,
          -4.0389678347315805e-30,
          0.37567995353393063,
          -2.0679515313825692e-27,
          0.5489559275565515,
          0.7395481374123115,
          -5.0458017365734687e-26,
          -1.0587911840678754e-25,
          0.4232055832566676,
          0.005020401242473718,
          -0.9005955847274352,
          0.2030540568036815,
          0.20283729152579655,
          2.6020852139652107e-21,
          -0.27537970282322743,
          0.7412699928447684,
          0.5233494386557113,
          0.38615358800348265,
          0.43401621714574645,
          -2.117582368135751e-25,
          0.6256734432158525,
          -0.4028504903137384,
          0.3800454354432762,
          2.0033280460268639e-28,
          0.23061389139716712,
          -0.09321704598872259,
          -0.4852554528133396,
          0.000414726858871286,
          -1.4889251025954497e-26,
          0.0812877786672086,
          1.334076891925523e-23,
          -0.42148975412625217,
          0.28925411507261073,
          0.6448762147356902,
          -0.09242380661139629,
          0.08553587222028294,
          0.7353577349530103,
          0.5460052781833857,
          -4.98732999343332e-21,
          1.2924697071141058e-27,
          -1.4475660719677985e-27,
          3.110199103199384e-25,
          -6.505213034913027e-22,
          0.7368560570201245,
          0.6209221054102356,
          0.5847034257084579,
          0.7291165384579045,
          0.4828756542275931,
          0.1945900804738371,
          -2.895132143935597e-27,
          0.07483550707372998,
          -1.3234889800848444e-24,
          0.5853641504339362,
          7.444625512977249e-27,
          0.2685886000724363,
          -6.617444900424222e-27,
          0.167562820726808,
          0.7197096570061517,
          5.293955920339377e-26,
          0.6080475537817451,
          -2.6469779601696887e-24,
          0.8185631735448229,
          5.273276405025551e-27,
          0.6078105092622444,
          -7.573064690121713e-32,
          -6.203854594147708e-28,
          0.6322142788055631,
          -0.0932875635821541,
          0.2174965551222686,
          -4.0389678347315805e-31,
          8.271806125530277e-28,
          -7.940933880509065e-25,
          2.439454888092385e-22,
          -2.6469779601696886e-26,
          0.2248101758823831,
          0.09483490819020302,
          0.5591650234044264,
          -0.10726201609823034,
          0.11612589308077294,
          0.09009841396471627,
          0.717852807973706,
          -0.0004126745754005926,
          0.4330165941212182,
          2.5642598989143858e-26,
          0,
          0.49055400953791806,
          -1.6263032587282567e-22,
          0.7167604063935022,
          0.6281831412068407,
          0.42644343511726385,
          1.6263032587282567e-22,
          0.4831316364059568,
          5.724587470723464e-20,
          0.5845024797029497,
          0.12108226501099045,
          -0.01044626027784062,
          0.14644765886082206,
          0.7322217326533864,
          -0.4239615908408159,
          4.830734777309681e-25,
          0.5788345467745711,
          -2.740035779081904e-27,
          -0.145772208578364,
          0.6165647646609885,
          -5.169878828456423e-29,
          0.8419131619542756,
          -1.2095320030251089,
          -0.06970647065342693,
          0.10637352152535909,
          0.10221091742585374,
          0.05327166727546847,
          0.5756974076813707,
          0.0800970442404776,
          5.004442705945817e-26,
          4.764560328305439e-25,
          7.563394355258879e-19,
          0.3596845178819442,
          3.407879110554771e-31,
          2.6211285660274065e-26,
          0.7197542336812944,
          0.8091400441276801,
          1.2705494208814505e-24,
          0.5959236677114148,
          -1.1580528575742388e-26,
          2.439454888092385e-22,
          0.09960465113780795,
          0.20834432290718702,
          -7.676236084492097e-25,
          1.241982609179961e-29,
          4.1359030627651386e-26,
          -3.2822526706104138e-24,
          0.6167710631861902,
          9.317362419797303e-24,
          -0.08809679476234918,
          -3.218725199566341e-23,
          0.23386792761138417,
          1.1233379290347208e-30,
          -2.726387298974779e-24,
          -3.748162150630907e-28,
          -3.618915179919496e-28,
          0.017279216054236258,
          -5.6115932755597396e-24,
          0.05466780698186639,
          -5.932754287840681e-19,
          4.649058915617843e-19,
          0.3408111145332771,
          -1.5348077771980005e-29,
          6.776263578034403e-24,
          -0.46589620301761314,
          5.412216898540318e-29,
          -1.1309109937248425e-29,
          0.17219972616050025,
          -9.693522803355793e-30,
          5.790264287871194e-26,
          -2.117582368135751e-25,
          -1.1713006720721584e-29,
          6.522153693858113e-23,
          -0.06673099896680412,
          0.07158778848748437,
          7.444625512977249e-27,
          -7.858215819253763e-27,
          2.9778502051908994e-26,
          0.6262246549365104,
          -6.220398206398768e-25,
          0.08998202711852286,
          0.22002557440374443,
          0.5937911037229525,
          0.7469845155543546,
          0.5974619212820661,
          0.41332777318924296,
          0.23553986216722309,
          -0.19550923542902868,
          -1.3023131564034868e-23,
          2.9815559743351372e-21,
          -0.05843041141222234,
          0.6250997801235338,
          0.02375341513133446,
          0.21310351788432833,
          1.1011428314305904e-23,
          0.04166581205162637,
          0.7339547916435677,
          -5.421010862427522e-23,
          2.320870275476783e-22,
          0.15365272323633178,
          0.19888938077882093,
          4.698385879301197e-25,
          0.38173485046898586,
          0.3740778136761108,
          0.01887017538094362,
          0.356571451946107,
          -5.717472393966527e-24,
          2.7755575615628914e-20,
          0.7237997709597864,
          0.7171878480421892,
          4.336808689942018e-21,
          0.19758669782898491,
          0.6158063828567228,
          0.37698139821322074,
          -1.6285118309637732e-27,
          -0.4249356089835261,
          -1.2281977735187356e-23,
          2.270048298641525e-22,
          4.65289094561078e-28,
          -2.9403685836845905e-28,
          1.0943502660869129,
          6.352747104407253e-25,
          -1.9273308272485546e-25,
          -4.549493369041652e-27,
          -0.08185003226021564,
          0.34957705517232934,
          0.7346166794953888,
          -1.4544622940012404e-33,
          1.4791141972893972e-34,
          1.945528800724721e-24,
          2.6469779601696887e-24,
          1.4137996329210978e-19,
          -0.04778930321044899,
          4.6586812098986516e-24,
          0.5722896447564123,
          2.371692252312041e-23,
          3.308722450212111e-25,
          2.547716286663325e-25,
          1.0339757656912846e-28,
          0.6073050663070723,
          0.6142951531487064,
          1.2278462217584004e-28,
          0.05447559253989231,
          -9.098986738083304e-27,
          2.0679515313825692e-27,
          5.186034699795349e-28,
          -2.3740083580271892e-25,
          -9.693522803355793e-30,
          -1.9387045606711585e-28,
          1.4475660719677985e-27,
          -1.2278462217584004e-28,
          -5.1285197978287715e-26,
          -1.0587911840678754e-24,
          0.24173023647211603,
          -2.168404344971009e-22,
          2.0514079191315086e-25,
          -1.1580528575742388e-26,
          3.9581884780369488e-28,
          -2.9080568410067377e-29,
          0.5614001003294494,
          0.2270845631960171,
          0.4890350361601855,
          6.866245319043687e-30,
          6.28657265540301e-25,
          0.19048854980187593,
          0.2028427488771035,
          0.320023100899248,
          0.21005057362337906,
          -0.01784058521019805,
          0.9301445525221423,
          6.088049308390284e-24,
          0.6764926778051827,
          -0.14140192964563136,
          0.157090684212095,
          0.24349212129837391,
          0.020017691815927666,
          -3.715850407953054e-29,
          0.2706344524617633,
          0.6241728536568683,
          -0.08893831592705782,
          0.501372123298309,
          -2.473834929040738,
          -1.370017889540952e-27,
          -1.796625952929081,
          0.2688519831437761,
          1.7749370367472764e-33,
          0.32527724172739897,
          0.10786922215061404,
          -6.938893903907229e-21,
          -7.527343574232552e-26,
          -6.70223620646758e-35,
          0.6256368879897404,
          4.8467614016778966e-30,
          0.06260692128623911,
          0.6747447622005809,
          4.417621069237666e-32,
          0.6100214351356964,
          -2.3522948669476724e-27,
          0.5956728011487856,
          0.4908741199521596,
          0.1818755964081214,
          0.029921543220967562,
          -2.0194839173657903e-31,
          -2.5849394142282115e-29,
          1.0854726055841122e-30,
          0.14348372163594808,
          -1.2490427249550718e-25,
          0.7209804125948779,
          -7.909914607538327e-27,
          -5.624828165360589e-25,
          -9.624103043696344e-32,
          0.18000118926765374,
          0.1950164915641213,
          2.0194839173657903e-30,
          0.2656627469619827,
          0.13293877456735367,
          2.3224065049706587e-30,
          5.169878828456423e-28,
          -1.3234889800848443e-23,
          2.359223927328458e-18,
          -3.1554436208840474e-31,
          -8.267262286716204e-31,
          -1.2490427249550718e-25,
          0.3933233729822925,
          2.179259327683876,
          0.5734144303791407,
          0.4498277648103968,
          0.541057469403072,
          3.9551695252271203e-19,
          -0.21136912510789044,
          4.98732999343332e-21,
          -0.6361892310968216,
          0.28267862846346004,
          0.9581052057178268,
          -0.052748082877847866,
          -0.34266446876576134,
          1.6948183510607675e-35,
          0.17452688458407345,
          0.6952148619777563,
          0.054951750910658556,
          -0.08725516444704003,
          -0.05332997484726781,
          0.4955413107017162,
          -0.00820704910772702,
          -0.0238238295052292,
          0.01869217558375831,
          0.3040408585734541,
          0.31602734193309123,
          0.20605332637720908,
          0.6355894370765575,
          4.622231866529366e-36,
          0.7137430597218702,
          1.9989977555201487e-22,
          0.7374258654145728,
          5.039846036163087e-23,
          -0.0711639447276001,
          0.7605668087102113,
          0.5719060110184895,
          -0.06596923038458445,
          0.004685879049446922,
          -9.147955830346444e-23,
          2.688821387764051e-20,
          -3.3457801416544864e-23,
          -4.632211430296955e-26,
          -5.293955920339377e-26,
          -6.617444900424222e-26,
          -0.06941738554095274,
          -4.440892098500626e-19,
          1.6874484496081763e-25,
          0.6066805261404117,
          1.4136387421560532e-30,
          9.289626019882635e-30,
          0.607785508782872,
          -0.12124748806299016,
          0.7234269476855762,
          -2.287671381591967e-27,
          -6.948317145445433e-26,
          -0.0004824560846487963,
          2.6469779601696886e-26,
          3.2311742677852644e-29,
          0.08820117525858287,
          0.05498148648770919,
          0.7037362088636,
          0.566345779167382,
          0.8049695879658186,
          0.6126801058981171,
          3.8496412174785375e-31,
          0.3265278446482739,
          0.07016293467976625,
          0.5583040539282077,
          1.4606043815584127,
          2.7704348481549457,
          1.232595164407831e-35,
          0.563920921839231,
          0.07577622307350783,
          -0.06397146714171417,
          0.32506858016622586,
          0.2594210105881776,
          0.000196407456842736,
          0.4012294178188575,
          -0.42628407543932967,
          0.40172297664154716,
          0.6229941923790234,
          -0.06383422435046816,
          -0.024013253051562097,
          0.5554790559376982,
          0.7369391301221504,
          0.0032491877753902045,
          0.2189573808131295,
          -4.1809627976713625e-32,
          2.3192510613497746e-31,
          -0.05409552792581625,
          0.12486479479653535,
          0.22502716173964546,
          0.7354613857640312,
          -2.3161057151484777e-25,
          0.39868137103968165,
          -0.018770411985140678,
          -3.736045247126712e-30,
          0.06836824174236467,
          0.2323633632763009,
          -0.05420206948071421,
          0.6220218762421874,
          -1.5096046179092754e-26,
          0.18274757268826988,
          4.549493369041652e-27,
          -0.12400035412918403,
          -0.07626603829400817,
          0.3355904529801584,
          1.0709240314460418,
          0.14941775676301428,
          0.19809599667101693,
          6.776263578034403e-24,
          -0.027251110222104167,
          0.01858471990246119,
          0.41961153349793706,
          0.12358819413085827,
          -5.522026336547083e-33,
          -5.169878828456423e-27,
          5.373365259144468e-24,
          -1.0097419586828951e-30,
          -1.2200914035157158e-26,
          1.0339757656912846e-27,
          0.8065674138856896,
          0.571513590635786,
          2.1196503196671335e-27,
          0.6010452047628138,
          3.2311742677852644e-29,
          0.5932029529206649,
          0.3964267684907327,
          -1.0339757656912846e-28,
          7.125940794232772e-36,
          0.6312847224288373,
          0.423514439770946,
          0.594087793061665,
          0.20780799668491065,
          0.6374457770547237,
          0.30775803650772354,
          0.1098960232880332,
          0.21664288939931484,
          -0.6599493427362413,
          0.21863811172736053,
          0.46477909772091347,
          -0.10415703398168814,
          -2.0117032497289633e-24,
          -0.07847865961998805,
          0.21420146583507405,
          0.49767238343123776,
          0.30301302576126055,
          0.7152856680326309,
          0.057731902901422355,
          -1.3788206519175186,
          1.7319094075329018e-27,
          1.9025154088719636e-26,
          0.3121486094787976,
          -0.022242498778523852,
          -0.07845598072649491,
          -7.031035206700736e-27,
          0.13685510499009196,
          0.28585967264732254,
          -0.0038956786129616125,
          -8.077935669463161e-31,
          0.6151429420204237,
          -3.877409121342317e-28,
          0.2619960380915988,
          0.2866067265334009,
          -1.0058516248644816e-24,
          7.754818242684635e-29,
          -8.602678370551488e-25,
          -2.958228394578794e-32,
          0.04459344992333897,
          0.019921870241480934,
          0.2102078934451055,
          1.4136387421560532e-30,
          -0.17774287367601038,
          -4.218621124020441e-26,
          9.370405376577267e-29,
          2.5516867536035797e-23,
          5.363749284523539e-28,
          2.6821270777514403e-31,
          0.23648090193959184,
          0.2502899316700016,
          -1.262177448353619e-32,
          0.057468317385087835,
          -1.0727498569047078e-27,
          0.4138852572871711,
          0.564027352485149,
          -2.195560136601449e-35,
          0.19132555522936706,
          4.2005265481208435e-29,
          -2.7263032884438168e-30,
          0.0542655474026161,
          0.29957424416933864,
          8.204153414298522e-32,
          -9.531964089966529e-29,
          -3.697785493223493e-35,
          -9.774302160050424e-29,
          0.3989859590705702,
          -2.5849394142282115e-29,
          0.4158856666578675,
          -6.342441677976935e-31,
          0.41222972580546224,
          -1.1555579666323415e-36,
          3.004992069040296e-28,
          0.5394539191606201,
          0.5653911579402197,
          0.1861869738993815,
          0.11897991783369931,
          0.2361074091727754,
          4.140749380432557e-36,
          0.6490148227081108,
          0.5671825562890674,
          0.37440235930526694,
          0.62438304005181,
          -0.17033039141488626,
          0.5728859579821707,
          -0.3578444626225153,
          0.4345454464802935,
          0.5513025007135467,
          0.1033116982516961,
          0.10196647782959348,
          1.0231502829557191e-36,
          -0.09629178472450205,
          0.6266194305790523,
          3.069450848867157e-37,
          0.40458142553802123,
          0.007963710511471333,
          0.06945340202912378,
          -0.00022003894496129108,
          0.6136320294962921,
          2.888894916580854e-37,
          0.6388344533067822,
          0.057441299542706985,
          0.47383045181394373,
          0.8413962506568466,
          -4.694454239443887e-37,
          0.19789220948582442,
          0.12003031051038554,
          1.925929944387236e-36,
          -5.854691731421724e-21,
          -3.3101920919155616e-37,
          -1.0202082774649712,
          -3.9481563859938337e-36,
          0.494110542097892,
          -8.802101698957288e-37,
          -0.01794090620342209,
          -6.740754805355326e-37,
          -5.537048590113303e-37,
          -3.6412113011071177e-37,
          -5.296307347064898e-37,
          -1.0472244072605594e-36,
          1.4544622940012404e-33,
          -7.222237291452135e-38,
          0.25293300703086224,
          0.15013247107115568,
          0.4432166060132628,
          0.06781367538347545,
          0.46094785328957577,
          0.26468554722594057,
          0.20157915718105895,
          -7.222237291452135e-38,
          2.949080227342955e-37,
          9.14816723583937e-37,
          3.9120451995365726e-38,
          -0.19927749796064015,
          4.3935276856333815e-37,
          1.035379938102578e-33,
          0.24782171874469894,
          0.7358518952605945,
          0.5783964715601478,
          -1.852884572118782e-25,
          0.5986777231956899,
          1.09859925104699e-27,
          -5.777789833161708e-37,
          0.5734377574155929,
          1.0874016118383163,
          0.18081367778398277,
          0.4270466884585654,
          0.22513692355186102,
          0.456860886155257,
          0.32891766830019237,
          0.0038840931079658463,
          0.026535901812935005,
          0.18762303470327157,
          -0.07900743089640222,
          0.03527038180741394,
          1.444447458290427e-37,
          0.35422085792967273,
          0.06240702938080033,
          -1.2037062152420224e-37,
          -0.5199299768076924,
          0.021002767881454523,
          0.6250953301648579,
          -0.19062945361285602,
          -1.564818079814629e-37,
          4.935195482492292e-37,
          0.4887221749404117,
          7.222237291452135e-38,
          -2.407412430484045e-38,
          0.040101556487533406,
          -1.4865771758238977e-36,
          -1.1555579666323415e-36,
          7.944461020597348e-37,
          0.10716776719153236,
          0.5710421528832884,
          1.2037062152420224e-37,
          0.17164349467271664,
          0.4586315634122743,
          -3.851859888774472e-37,
          0.17806925909566934,
          5.537048590113303e-37,
          0.20137242072061826,
          -0.5193743659526309,
          -9.62964972193618e-38,
          -3.5810259903450165e-37,
          0.20147606095800347,
          1.925929944387236e-37,
          9.62964972193618e-37,
          -5.777789833161708e-37,
          1.6851887013388314e-37,
          0.6010346771048204,
          0.3715501778532403,
          -1.8055593228630335e-37,
          -6.815758221109542e-31,
          1.1916691530896022e-36,
          1.1134282490988707e-37,
          0.720763621546737,
          0.7050059992953454,
          -1.444447458290427e-37,
          1.0518520303987158,
          0.12478069698339883,
          3.972230510298674e-37,
          -6.018531076210112e-38,
          2.888894916580854e-37,
          0.18646527248931266,
          1.116910493729646,
          3.009265538105056e-37,
          1.6851887013388314e-37,
          -2.407412430484045e-38,
          0.5873034245447758,
          -3.129636159629258e-37,
          7.101866669927932e-37,
          0.5749034987766451,
          7.222237291452134e-37,
          -0.10511178883753054,
          0.40964713047945045,
          0.7398150595166981,
          3.009265538105056e-37,
          0.0642043250104371,
          -7.222237291452135e-38,
          0.549014406426642,
          5.085658759397545e-37,
          0.599351807160396,
          0.3332338894417958,
          -2.3472271197219437e-37,
          -3.129636159629258e-37,
          2.256949153578792e-37,
          0.16702190751882834,
          0.027186170189816315,
          0.4381049622177934,
          -0.037307475837811445,
          1.5949107351956796e-37,
          -1.1435209044799213e-37,
          0.4141471484255492,
          -9.027796614315168e-38,
          -1.564818079814629e-37,
          -0.16472215981817276,
          0.016245843673534984,
          0.7939346466266023,
          0.6147102475297306,
          -1.7453740121009326e-37,
          -2.888894916580854e-37,
          -0.8755377484743911,
          0.6281512635438284,
          7.222237291452134e-37,
          4.81482486096809e-38,
          -0.01709299211011764,
          0.7696321457379739,
          0.30725692440324587,
          0.4345199643643259,
          -0.051177973471581054,
          0.6188262267328459,
          -0.7833613157929883,
          1.504632769052528e-38,
          -2.4951363410466953,
          6.620384183831123e-38,
          -4.81482486096809e-38,
          0.4900023251113539,
          -2.1064858766735394e-37,
          -0.12090191985383911,
          0.2024774788244903,
          0.5391787973722981,
          0.15263743308725652,
          0.5858982461706526,
          -0.18958736165903992,
          7.222237291452135e-38,
          0.9194748500514134,
          0.1409815152453991,
          0.4088265475089438,
          0.47869907045730387,
          1.5979645003692715,
          -6.379642940782719e-37,
          0.35481879883151785,
          -7.101866669927932e-37,
          0.41790317587139236,
          -2.557875707389298e-37,
          1.390280678604536e-36,
          -0.09101311466504008,
          -5.175936725540696e-37,
          0.6323397768460159,
          -3.7314892672502694e-37,
          0.022270301300325188,
          0.6646796001029794,
          0.052886004481294824,
          0.3012099094519202,
          0.6206521620730889,
          0.6334137095185951,
          1.8055593228630335e-37,
          -6.138901697734314e-37,
          -2.1064858766735394e-37,
          0.1384248599707475,
          -7.52316384526264e-39,
          0.23500808138337112,
          9.62964972193618e-38,
          0.15885270191180242,
          1.6851887013388314e-37,
          1.08333559371782e-37,
          3.009265538105056e-37,
          1.108223927109134,
          1.1775781588012695,
          -1.08333559371782e-37,
          -1.444447458290427e-37,
          7.222237291452135e-38,
          -1.08333559371782e-37,
          -7.297468929904761e-38,
          -1.5347254244335785e-37,
          -1.444447458290427e-37,
          -6.500013562306921e-37,
          2.2268564981977413e-37,
          9.14816723583937e-37,
          2.888894916580854e-37,
          -6.018531076210112e-38,
          0.2251291725053441,
          0.600524159879057,
          0.3990342762105918,
          2.9340338996524296e-38,
          -1.4519706221356896e-37,
          0.2017283999697828,
          1.8356519782440841e-37,
          0.8465007279386341,
          4.2129717533470785e-38,
          4.513898307157584e-37,
          -6.018531076210112e-38,
          0.05701181116649771,
          5.854827030937197e-35,
          0.5787527053075532,
          -0.018697639640303028,
          1.0351160884802906,
          -0.23832928717239352,
          8.425943506694157e-38,
          -0.0419568227986679,
          2.7685242950566515e-37,
          0.590947956724338,
          -3.370377402677663e-37,
          -0.20370561930964076,
          0.6517180685209714,
          1.1419918522977464,
          0.35687481948861993,
          0.12120946225918552,
          0.7890219257254569,
          0.22192462095797952,
          0.42886682874094734,
          0.11576858599909567,
          0.17694331036213506,
          0.17286346417008006,
          0.16026803109443463,
          0.3959914268890647,
          0.23699817699420275,
          8.614022602825723e-38,
          0.5951090946530927,
          1.1134282490988707e-37,
          0.11616711088455302,
          -1.2037062152420224e-38,
          1.1435209044799213e-37,
          -0.07696952461586307,
          -0.03950905397836231,
          0.4343648519926328,
          4.81482486096809e-38,
          4.965288137873343e-38,
          0.3744959219264992,
          -1.0231502829557191e-37,
          0.2833734592300279,
          -6.620384183831123e-38,
          -0.17944700939833083,
          -6.018531076210112e-38,
          2.3547502835672063e-37,
          0.1285700301269674,
          2.2419028258882666e-37,
          -0.08700414986101476,
          0.8095166142155826,
          0.10119956634011383,
          -1.1435209044799213e-37,
          0.41126411112575534,
          0.8244198028372114,
          0.23875340268986686,
          -3.9120451995365726e-38,
          4.513898307157584e-39,
          0.4829411394837132,
          1.233798870623073e-37,
          -3.6111186457260673e-38,
          0.24935715404993394,
          0.6231418195150069,
          9.103028252767794e-38,
          -1.0231502829557191e-37,
          0.69330410286531,
          0.5763684596022217,
          -6.018531076210112e-38,
          -6.018531076210112e-38,
          -2.2870418089598425e-37,
          0.13538867397995297,
          2.407412430484045e-38,
          0.3391714233319336,
          -1.8055593228630336e-38,
          8.425943506694157e-38,
          0.10769098362162412,
          0.5708407926542479,
          -9.027796614315168e-39,
          1.7303276844104072e-38,
          4.2129717533470785e-38,
          1.034207390790813,
          0.805880485181541,
          0.2022718698829802,
          -1.5347254244335785e-37,
          1.8055593228630335e-37,
          0.36764703468751786,
          0.8186945448759517,
          -3.9120451995365726e-38,
          -9.027796614315168e-39,
          0.4171265779741937,
          -0.05136414704324941,
          3.009265538105056e-38,
          0.04896429596719177,
          1.195920097607652,
          0.37546613160731923,
          -1.504632769052528e-38,
          0.15976185855386146,
          2.407412430484045e-38,
          0.11370760599560698,
          7.52316384526264e-39,
          0.06484976215797036,
          -0.0026537136238777713,
          1.9560225997682863e-38,
          4.0248926572155123e-38,
          0.016906061328519646,
          7.899322037525773e-39,
          0.5954005336809879,
          5.567141245494353e-38,
          0.31930524119877873,
          0.17681827749129583,
          0.023460061803644162,
          -3.009265538105056e-39,
          0.6413097397038592,
          7.824090399073145e-38,
          1.1304326480876223,
          7.071774014546882e-38,
          0.9123023758903588,
          0.19450817022835976,
          -0.33320619014887687,
          -1.504632769052528e-38,
          0.618121847946462,
          0.6320530748382801,
          0.22105354495935428,
          -2.6331073458419243e-38,
          -1.2638915260041236e-37,
          0.3609512928350808,
          3.3101920919155614e-38,
          -0.041875544616120766,
          0.6447899683055357,
          -1.354169492147275e-38,
          0.7273254466694115,
          -2.256949153578792e-38,
          1.0532429383367696e-38,
          6.319457630020618e-38,
          5.64237288394698e-39,
          2.858802261199803e-38,
          -0.11689711549708458,
          -1.2037062152420224e-38,
          6.018531076210112e-39,
          -6.52634463576534e-38,
          9.930576275746685e-38,
          0,
          -8.125016952883651e-38,
          -3.76158192263132e-39,
          0.35172354068530476,
          -2.557875707389298e-38,
          0.031677948227607854,
          -2.1064858766735393e-38,
          3.009265538105056e-39,
          3.4606553688208144e-38,
          -8.162632772109964e-38,
          2.7835706227471767e-38,
          -1.504632769052528e-39,
          3.6111186457260673e-38,
          -1.4294011305999016e-38,
          0.26238283976284754,
          -2.1064858766735393e-38,
          -0.9331431345422938,
          3.3478079111418747e-38,
          -3.3101920919155614e-38,
          5.266214691683848e-39,
          0.04704166101634601,
          3.122112995783996e-38,
          0.2286741258919044,
          -1.4294011305999016e-38,
          -1.354169492147275e-38,
          3.234960453462935e-38,
          -0.24839882192897303,
          0.660971613874024,
          -3.3101920919155614e-38,
          -4.81482486096809e-38,
          -1.1002627123696612e-38,
          -1.504632769052528e-38,
          2.82118644197349e-39,
          0.608100521224421,
          3.4606553688208144e-38,
          0.5442714897548258,
          1.8055593228630336e-38,
          0.022329840396388263,
          7.673627122167892e-38,
          5.717604522399606e-38,
          -2.7835706227471767e-38,
          2.858802261199803e-38,
          3.009265538105056e-39,
          0.6169837906237877,
          0.49892552263939577,
          0.215458711642898,
          -2.0312542382209128e-38,
          -2.2005254247393223e-38,
          0.5687156202498745,
          5.407274013782523e-39,
          -9.4039548065783e-40,
          -0.06994470570591105,
          -2.557875707389298e-38,
          -4.2129717533470785e-38,
          -2.557875707389298e-38,
          -3.009265538105056e-38,
          2.82118644197349e-39,
          0.7458587766862631,
          2.1064858766735393e-38,
          2.76476271313402e-38,
          0.08220121308341424,
          0.13628527820311923,
          -3.009265538105056e-38,
          0.598142058296884,
          1.0532429383367696e-38,
          1.2037062152420224e-38,
          0.6200494075167466,
          -2.191121469932744e-38,
          0.6564838773884297,
          1.6550960459577807e-38,
          9.215875710446734e-39,
          0.13069937617405547,
          0.31147184819698365,
          8.651638422052036e-39,
          2.858802261199803e-38,
          0.6336655801237895,
          1.6550960459577807e-38,
          2.3321807920314184e-38,
          0.2980387018085977,
          1.1660903960157092e-38,
          9.780112998841432e-39,
          0.5699150294843731,
          0.8459909692766121,
          -0.07619611246024231,
          -4.513898307157584e-39,
          -2.407412430484045e-38,
          -5.830451980078546e-39,
          0.2588575155956045,
          -4.890056499420716e-39,
          -9.215875710446734e-39,
          -3.573502826499754e-39,
          -7.52316384526264e-39,
          0.5848850573747983,
          9.780112998841432e-39,
          0.05174116018091904,
          0.20934599122892844,
          -1.8243672324761903e-38,
          0.03410920425396541,
          0.5512694857487335,
          0.23339277416544907,
          -0.015935319506413737,
          -3.76158192263132e-40,
          -3.855621470697103e-39,
          1.504632769052528e-39,
          5.454293787815414e-39,
          6.770847460736376e-39,
          -1.128474576789396e-39,
          -9.4039548065783e-40,
          -2.6142994362287677e-38,
          1.443507062809769e-38,
          -6.206610172341678e-39,
          -2.3980084756774664e-39,
          -9.592033902709865e-39,
          3.385423730368188e-39,
          1.7961553680564553e-38,
          7.711242941394206e-39,
          0.6211564610351431,
          -6.770847460736376e-39,
          5.64237288394698e-39,
          -1.88079096131566e-39,
          -5.64237288394698e-39,
          -1.0908587575630829e-38,
          1.222514124855179e-39,
          -4.137740114894452e-39,
          -1.598672317118311e-39,
          -5.266214691683848e-39,
          -4.137740114894452e-39,
          0.4056904687727676,
          0.2481814853895517,
          3.009265538105056e-39,
          -2.82118644197349e-39,
          -0.24565387789088705,
          -1.128474576789396e-39,
          0.1841316540967721,
          1.233182697214054,
          -4.231779662960235e-39,
          0,
          -0.11263171411874003,
          -3.76158192263132e-39,
          0.6139304040213058,
          6.770847460736376e-39,
          0.5649408963104475,
          0.5643198703662595,
          0.2297509328750512,
          3.7263170921066514e-39,
          -0.03671249046752137,
          0.6197400264905631,
          -4.70197740328915e-40,
          0.610089627126656,
          1.222514124855179e-39,
          3.009265538105056e-39,
          -0.2031492532953376,
          -2.7741666679405984e-39,
          0.07665750734152241,
          9.027796614315168e-39,
          0.7741854110141231,
          -8.698658196084927e-40,
          -1.3635734469538536e-39,
          0.2697504728309574,
          -6.394689268473245e-39,
          -0.5985739355484677,
          -1.410593220986745e-39,
          0.5986852474435541,
          -2.633107345841924e-39,
          0.22630948537285842,
          0.14920073657956834,
          -3.949661018762886e-39,
          -7.52316384526264e-40,
          -7.758262715427098e-40,
          -1.88079096131566e-40,
          0.3086458245978059,
          -1.034435028723613e-39,
          2.068870057447226e-39,
          -2.82118644197349e-39,
          1.234269068363402e-40,
          -1.8367099231598243e-42,
          2.938735877055719e-41,
          0.2337096846136313,
          -1.4693679385278594e-41,
          0.4266057451978204,
          -1.410593220986745e-39,
          -1.4693679385278594e-42,
          0.6132885151831585,
          6.171345341817009e-40,
          -2.7741666679405984e-39,
          -6.465218929522581e-41,
          1.4693679385278594e-42,
          0.5970406027490403,
          -1.4693679385278594e-42,
          0.17761011365704785,
          3.5264830524668626e-41,
          0.6109408683587737,
          -1.0814548027565045e-39,
          5.078135595552282e-39,
          0.3426336396302057,
          -4.70197740328915e-41,
          -2.938735877055719e-42,
          -9.110081218872728e-40,
          0.23545279048549725,
          -9.550891600431086e-42,
          1.910178320086217e-41,
          0.2232725121682168,
          -3.5264830524668626e-41,
          -7.52316384526264e-40,
          2.204051907791789e-42,
          -1.4349296274686127e-44,
          0.11832699272818678,
          2.7395838278445007e-53,
          3.7752801530052265e-53,
          4.484155085839415e-46,
          2.2718500035783665e-53,
          -8.609577764811676e-45,
          0,
          0.012179396381999193,
          -5.913491921078983e-53,
          -4.543700007156733e-53,
          4.343242653899818e-53,
          4.926439913641935e-50,
          -1.269563237293793e-53,
          -1.2891945871788317e-46,
          -1.0691058840368783e-53,
          1.313717310304516e-49,
          -0.203434325801749,
          1.3775324423698682e-43,
          3.3409558876152447e-53,
          6.180768392088202e-54,
          -6.726232628759122e-47,
          -4.591774807899561e-44,
          -1.7516230804060214e-48,
          1.0947644252537634e-49,
          0.2091189607108361,
          -9.408131779524528e-52,
          0.6329832163606757,
          0.39301796617250007,
          -3.6734198463196485e-42,
          4.484155085839415e-47,
          -1.4693679385278594e-42,
          -3.3409558876152446e-54,
          1.3196775756080216e-53,
          -1.0858106634749544e-54,
          -6.681911775230489e-55,
          3.842099270757531e-54,
          -7.684198541515062e-54,
          4.343242653899818e-54,
          6.180768392088202e-54,
          1.0858106634749544e-54,
          -3.3409558876152446e-54,
          -6.514863980849727e-54,
          1.044048714879764e-54,
          -6.01372059770744e-54,
          2.0045735325691468e-54,
          8.352389719038112e-54,
          -3.508003681996007e-54,
          -2.25514522414029e-54,
          -2.0045735325691468e-54,
          2.6727647100921957e-54,
          1.6704779438076223e-54,
          0.49099185186207434,
          -1.0356963251607258e-53,
          -7.684198541515062e-54,
          7.350102952753538e-54,
          0.5817407432578455,
          -4.343242653899818e-54,
          -4.7608621398517237e-54,
          6.347816186468965e-54,
          4.844386037042105e-54,
          -6.681911775230489e-54,
          -7.183055158372775e-54,
          0,
          -4.019587552287091e-55,
          3.654170502079174e-56,
          -6.681911775230489e-55,
          -3.236551016127268e-55,
          -8.352389719038112e-56,
          1.2528584578557167e-55,
          -8.247984847550135e-55,
          -5.742267931838701e-56,
          4.802624088446914e-55,
          -2.923336401663339e-55,
          -1.4616682008316695e-55,
          0.3295455737371089,
          -2.714526658687386e-55,
          -3.5497656305911976e-55,
          -5.22024357439882e-57,
          0.4020688341288184,
          0.1769572026248134,
          -2.4535144799674452e-55,
          -6.264292289278583e-55,
          -2.923336401663339e-55,
          2.61012178719941e-55,
          -8.352389719038112e-56,
          -2.61012178719941e-55,
          0.588424060332371,
          0.5697624350576393,
          -3.236551016127268e-55,
          -0.22653015549564345,
          0.0714551081885594,
          2.3491096084794687e-56,
          -1.044048714879764e-56,
          3.497563194847209e-55,
          8.1484739544131575e-56,
          0.28038055930030215,
          6.786316646718465e-56,
          -3.654170502079174e-56,
          0.6402412631260264,
          6.655810557358495e-56,
          -0.09733996979473898,
          -5.742267931838701e-56,
          -2.2186035191194985e-56,
          9.657450612637816e-56,
          0.3957024470043296,
          4.119098445424069e-56,
          -2.2447047369914923e-55,
          -3.2626522339992624e-56,
          -1.879287686783575e-55,
          9.918462791357757e-56,
          7.569353182878289e-56,
          3.89071278904412e-56,
          -1.1745548042397343e-56,
          -4.698219216958937e-56,
          -7.569353182878289e-56,
          0.14920158289512164,
          -8.352389719038112e-56,
          1.044048714879764e-56,
          -2.675374831879395e-56,
          2.463302436669443e-56,
          -7.83036536159823e-57,
          -2.512242220179432e-56,
          -3.9151826807991146e-56,
          5.481255753118761e-56,
          1.6965791616796163e-56,
          1.207181326579727e-56,
          3.0668930999593065e-56,
          -6.525304467998525e-58,
          -1.3703139382796902e-56,
          1.9249648180595646e-56,
          -1.6313261169996312e-56,
          3.0016400552793212e-56,
          -1.9575913403995574e-57,
          1.044048714879764e-56,
          1.305060893599705e-56,
          7.708015902823257e-57,
          3.915182680799115e-57,
          2.251230041459491e-56,
          -2.039157646249539e-59,
          -5.750424562423699e-57,
          2.936387010599336e-57,
          1.9575913403995574e-57,
          2.153350474439513e-56,
          -1.305060893599705e-57,
          1.8760250345495758e-57,
          3.2626522339992623e-57,
          9.135426255197935e-57,
          -1.1908680654097307e-56,
          0,
          -1.566073072319646e-56,
          1.305060893599705e-57,
          2.8548207047493545e-58,
          4.8939783509988935e-58,
          -8.156630584998156e-58,
          4.404580515899004e-57,
          2.936387010599336e-57,
          -1.3866271994496866e-57,
          7.504100138198303e-57,
          -6.831178114935956e-57,
          -9.787956701997786e-57,
          1.044048714879764e-56,
          -2.936387010599336e-57,
          2.2838565637994836e-57,
          8.156630584998156e-59,
          -4.078315292499078e-58,
          0,
          -6.929949813426167e-59,
          8.921314702341733e-60,
          -1.433782720019207e-59,
          2.7719799253704668e-59,
          7.00960440898279e-60,
          9.359414977903157e-61,
          3.026874631151659e-60,
          -3.410212372267906e-61,
          -1.5383293766872742e-60,
          -1.0195788231247695e-59,
          1.035509742236094e-60,
          -3.1861838222649046e-61,
          2.0311921866938765e-60,
          7.965459555662262e-62,
          2.708256248925169e-60,
          -3.34549301337815e-60,
          -3.982729777831131e-61,
          -1.2346462311276505e-60,
          -3.982729777831131e-61,
          1.4736100177975183e-60,
          6.338975355178699e-74,
          1.7205790249770753e-73,
          0,
          0,
          0,
          0,
          0,
          0,
          0,
          0,
          0,
          0,
          0,
          0,
          0,
          0,
          0.06232560797364088,
          -1.5930919111324523e-60,
          0,
          0.20194769421411973,
          0,
          0,
          0.6036978496656923,
          0,
          0,
          0,
          0,
          0,
          0,
          0,
          0,
          0,
          0,
          0,
          0,
          0,
          0,
          0,
          0,
          0,
          0,
          0,
          0,
          0,
          0,
          0,
          0,
          0,
          0,
          0,
          0,
          0,
          0,
          0,
          0,
          0,
          0,
          0,
          0,
          0,
          0,
          0,
          0,
          0,
          0,
          0,
          0,
          0,
          0,
          0,
          0,
          0,
          0,
          0,
          0,
          0,
          0,
          0,
          0,
          0,
          0,
          0,
          0,
          0,
          0,
          0,
          0,
          0,
          0.10207020138855884,
          0,
          0,
          0,
          0,
          0,
          0,
          -0.15849685722097082
         ],
         "yaxis": "y"
        }
       ],
       "layout": {
        "coloraxis": {
         "colorbar": {
          "title": {
           "text": "bpm"
          }
         },
         "colorscale": [
          [
           0,
           "#0d0887"
          ],
          [
           0.1111111111111111,
           "#46039f"
          ],
          [
           0.2222222222222222,
           "#7201a8"
          ],
          [
           0.3333333333333333,
           "#9c179e"
          ],
          [
           0.4444444444444444,
           "#bd3786"
          ],
          [
           0.5555555555555556,
           "#d8576b"
          ],
          [
           0.6666666666666666,
           "#ed7953"
          ],
          [
           0.7777777777777778,
           "#fb9f3a"
          ],
          [
           0.8888888888888888,
           "#fdca26"
          ],
          [
           1,
           "#f0f921"
          ]
         ]
        },
        "legend": {
         "itemsizing": "constant",
         "tracegroupgap": 0
        },
        "template": {
         "data": {
          "bar": [
           {
            "error_x": {
             "color": "#2a3f5f"
            },
            "error_y": {
             "color": "#2a3f5f"
            },
            "marker": {
             "line": {
              "color": "#E5ECF6",
              "width": 0.5
             },
             "pattern": {
              "fillmode": "overlay",
              "size": 10,
              "solidity": 0.2
             }
            },
            "type": "bar"
           }
          ],
          "barpolar": [
           {
            "marker": {
             "line": {
              "color": "#E5ECF6",
              "width": 0.5
             },
             "pattern": {
              "fillmode": "overlay",
              "size": 10,
              "solidity": 0.2
             }
            },
            "type": "barpolar"
           }
          ],
          "carpet": [
           {
            "aaxis": {
             "endlinecolor": "#2a3f5f",
             "gridcolor": "white",
             "linecolor": "white",
             "minorgridcolor": "white",
             "startlinecolor": "#2a3f5f"
            },
            "baxis": {
             "endlinecolor": "#2a3f5f",
             "gridcolor": "white",
             "linecolor": "white",
             "minorgridcolor": "white",
             "startlinecolor": "#2a3f5f"
            },
            "type": "carpet"
           }
          ],
          "choropleth": [
           {
            "colorbar": {
             "outlinewidth": 0,
             "ticks": ""
            },
            "type": "choropleth"
           }
          ],
          "contour": [
           {
            "colorbar": {
             "outlinewidth": 0,
             "ticks": ""
            },
            "colorscale": [
             [
              0,
              "#0d0887"
             ],
             [
              0.1111111111111111,
              "#46039f"
             ],
             [
              0.2222222222222222,
              "#7201a8"
             ],
             [
              0.3333333333333333,
              "#9c179e"
             ],
             [
              0.4444444444444444,
              "#bd3786"
             ],
             [
              0.5555555555555556,
              "#d8576b"
             ],
             [
              0.6666666666666666,
              "#ed7953"
             ],
             [
              0.7777777777777778,
              "#fb9f3a"
             ],
             [
              0.8888888888888888,
              "#fdca26"
             ],
             [
              1,
              "#f0f921"
             ]
            ],
            "type": "contour"
           }
          ],
          "contourcarpet": [
           {
            "colorbar": {
             "outlinewidth": 0,
             "ticks": ""
            },
            "type": "contourcarpet"
           }
          ],
          "heatmap": [
           {
            "colorbar": {
             "outlinewidth": 0,
             "ticks": ""
            },
            "colorscale": [
             [
              0,
              "#0d0887"
             ],
             [
              0.1111111111111111,
              "#46039f"
             ],
             [
              0.2222222222222222,
              "#7201a8"
             ],
             [
              0.3333333333333333,
              "#9c179e"
             ],
             [
              0.4444444444444444,
              "#bd3786"
             ],
             [
              0.5555555555555556,
              "#d8576b"
             ],
             [
              0.6666666666666666,
              "#ed7953"
             ],
             [
              0.7777777777777778,
              "#fb9f3a"
             ],
             [
              0.8888888888888888,
              "#fdca26"
             ],
             [
              1,
              "#f0f921"
             ]
            ],
            "type": "heatmap"
           }
          ],
          "heatmapgl": [
           {
            "colorbar": {
             "outlinewidth": 0,
             "ticks": ""
            },
            "colorscale": [
             [
              0,
              "#0d0887"
             ],
             [
              0.1111111111111111,
              "#46039f"
             ],
             [
              0.2222222222222222,
              "#7201a8"
             ],
             [
              0.3333333333333333,
              "#9c179e"
             ],
             [
              0.4444444444444444,
              "#bd3786"
             ],
             [
              0.5555555555555556,
              "#d8576b"
             ],
             [
              0.6666666666666666,
              "#ed7953"
             ],
             [
              0.7777777777777778,
              "#fb9f3a"
             ],
             [
              0.8888888888888888,
              "#fdca26"
             ],
             [
              1,
              "#f0f921"
             ]
            ],
            "type": "heatmapgl"
           }
          ],
          "histogram": [
           {
            "marker": {
             "pattern": {
              "fillmode": "overlay",
              "size": 10,
              "solidity": 0.2
             }
            },
            "type": "histogram"
           }
          ],
          "histogram2d": [
           {
            "colorbar": {
             "outlinewidth": 0,
             "ticks": ""
            },
            "colorscale": [
             [
              0,
              "#0d0887"
             ],
             [
              0.1111111111111111,
              "#46039f"
             ],
             [
              0.2222222222222222,
              "#7201a8"
             ],
             [
              0.3333333333333333,
              "#9c179e"
             ],
             [
              0.4444444444444444,
              "#bd3786"
             ],
             [
              0.5555555555555556,
              "#d8576b"
             ],
             [
              0.6666666666666666,
              "#ed7953"
             ],
             [
              0.7777777777777778,
              "#fb9f3a"
             ],
             [
              0.8888888888888888,
              "#fdca26"
             ],
             [
              1,
              "#f0f921"
             ]
            ],
            "type": "histogram2d"
           }
          ],
          "histogram2dcontour": [
           {
            "colorbar": {
             "outlinewidth": 0,
             "ticks": ""
            },
            "colorscale": [
             [
              0,
              "#0d0887"
             ],
             [
              0.1111111111111111,
              "#46039f"
             ],
             [
              0.2222222222222222,
              "#7201a8"
             ],
             [
              0.3333333333333333,
              "#9c179e"
             ],
             [
              0.4444444444444444,
              "#bd3786"
             ],
             [
              0.5555555555555556,
              "#d8576b"
             ],
             [
              0.6666666666666666,
              "#ed7953"
             ],
             [
              0.7777777777777778,
              "#fb9f3a"
             ],
             [
              0.8888888888888888,
              "#fdca26"
             ],
             [
              1,
              "#f0f921"
             ]
            ],
            "type": "histogram2dcontour"
           }
          ],
          "mesh3d": [
           {
            "colorbar": {
             "outlinewidth": 0,
             "ticks": ""
            },
            "type": "mesh3d"
           }
          ],
          "parcoords": [
           {
            "line": {
             "colorbar": {
              "outlinewidth": 0,
              "ticks": ""
             }
            },
            "type": "parcoords"
           }
          ],
          "pie": [
           {
            "automargin": true,
            "type": "pie"
           }
          ],
          "scatter": [
           {
            "fillpattern": {
             "fillmode": "overlay",
             "size": 10,
             "solidity": 0.2
            },
            "type": "scatter"
           }
          ],
          "scatter3d": [
           {
            "line": {
             "colorbar": {
              "outlinewidth": 0,
              "ticks": ""
             }
            },
            "marker": {
             "colorbar": {
              "outlinewidth": 0,
              "ticks": ""
             }
            },
            "type": "scatter3d"
           }
          ],
          "scattercarpet": [
           {
            "marker": {
             "colorbar": {
              "outlinewidth": 0,
              "ticks": ""
             }
            },
            "type": "scattercarpet"
           }
          ],
          "scattergeo": [
           {
            "marker": {
             "colorbar": {
              "outlinewidth": 0,
              "ticks": ""
             }
            },
            "type": "scattergeo"
           }
          ],
          "scattergl": [
           {
            "marker": {
             "colorbar": {
              "outlinewidth": 0,
              "ticks": ""
             }
            },
            "type": "scattergl"
           }
          ],
          "scattermapbox": [
           {
            "marker": {
             "colorbar": {
              "outlinewidth": 0,
              "ticks": ""
             }
            },
            "type": "scattermapbox"
           }
          ],
          "scatterpolar": [
           {
            "marker": {
             "colorbar": {
              "outlinewidth": 0,
              "ticks": ""
             }
            },
            "type": "scatterpolar"
           }
          ],
          "scatterpolargl": [
           {
            "marker": {
             "colorbar": {
              "outlinewidth": 0,
              "ticks": ""
             }
            },
            "type": "scatterpolargl"
           }
          ],
          "scatterternary": [
           {
            "marker": {
             "colorbar": {
              "outlinewidth": 0,
              "ticks": ""
             }
            },
            "type": "scatterternary"
           }
          ],
          "surface": [
           {
            "colorbar": {
             "outlinewidth": 0,
             "ticks": ""
            },
            "colorscale": [
             [
              0,
              "#0d0887"
             ],
             [
              0.1111111111111111,
              "#46039f"
             ],
             [
              0.2222222222222222,
              "#7201a8"
             ],
             [
              0.3333333333333333,
              "#9c179e"
             ],
             [
              0.4444444444444444,
              "#bd3786"
             ],
             [
              0.5555555555555556,
              "#d8576b"
             ],
             [
              0.6666666666666666,
              "#ed7953"
             ],
             [
              0.7777777777777778,
              "#fb9f3a"
             ],
             [
              0.8888888888888888,
              "#fdca26"
             ],
             [
              1,
              "#f0f921"
             ]
            ],
            "type": "surface"
           }
          ],
          "table": [
           {
            "cells": {
             "fill": {
              "color": "#EBF0F8"
             },
             "line": {
              "color": "white"
             }
            },
            "header": {
             "fill": {
              "color": "#C8D4E3"
             },
             "line": {
              "color": "white"
             }
            },
            "type": "table"
           }
          ]
         },
         "layout": {
          "annotationdefaults": {
           "arrowcolor": "#2a3f5f",
           "arrowhead": 0,
           "arrowwidth": 1
          },
          "autotypenumbers": "strict",
          "coloraxis": {
           "colorbar": {
            "outlinewidth": 0,
            "ticks": ""
           }
          },
          "colorscale": {
           "diverging": [
            [
             0,
             "#8e0152"
            ],
            [
             0.1,
             "#c51b7d"
            ],
            [
             0.2,
             "#de77ae"
            ],
            [
             0.3,
             "#f1b6da"
            ],
            [
             0.4,
             "#fde0ef"
            ],
            [
             0.5,
             "#f7f7f7"
            ],
            [
             0.6,
             "#e6f5d0"
            ],
            [
             0.7,
             "#b8e186"
            ],
            [
             0.8,
             "#7fbc41"
            ],
            [
             0.9,
             "#4d9221"
            ],
            [
             1,
             "#276419"
            ]
           ],
           "sequential": [
            [
             0,
             "#0d0887"
            ],
            [
             0.1111111111111111,
             "#46039f"
            ],
            [
             0.2222222222222222,
             "#7201a8"
            ],
            [
             0.3333333333333333,
             "#9c179e"
            ],
            [
             0.4444444444444444,
             "#bd3786"
            ],
            [
             0.5555555555555556,
             "#d8576b"
            ],
            [
             0.6666666666666666,
             "#ed7953"
            ],
            [
             0.7777777777777778,
             "#fb9f3a"
            ],
            [
             0.8888888888888888,
             "#fdca26"
            ],
            [
             1,
             "#f0f921"
            ]
           ],
           "sequentialminus": [
            [
             0,
             "#0d0887"
            ],
            [
             0.1111111111111111,
             "#46039f"
            ],
            [
             0.2222222222222222,
             "#7201a8"
            ],
            [
             0.3333333333333333,
             "#9c179e"
            ],
            [
             0.4444444444444444,
             "#bd3786"
            ],
            [
             0.5555555555555556,
             "#d8576b"
            ],
            [
             0.6666666666666666,
             "#ed7953"
            ],
            [
             0.7777777777777778,
             "#fb9f3a"
            ],
            [
             0.8888888888888888,
             "#fdca26"
            ],
            [
             1,
             "#f0f921"
            ]
           ]
          },
          "colorway": [
           "#636efa",
           "#EF553B",
           "#00cc96",
           "#ab63fa",
           "#FFA15A",
           "#19d3f3",
           "#FF6692",
           "#B6E880",
           "#FF97FF",
           "#FECB52"
          ],
          "font": {
           "color": "#2a3f5f"
          },
          "geo": {
           "bgcolor": "white",
           "lakecolor": "white",
           "landcolor": "#E5ECF6",
           "showlakes": true,
           "showland": true,
           "subunitcolor": "white"
          },
          "hoverlabel": {
           "align": "left"
          },
          "hovermode": "closest",
          "mapbox": {
           "style": "light"
          },
          "paper_bgcolor": "white",
          "plot_bgcolor": "#E5ECF6",
          "polar": {
           "angularaxis": {
            "gridcolor": "white",
            "linecolor": "white",
            "ticks": ""
           },
           "bgcolor": "#E5ECF6",
           "radialaxis": {
            "gridcolor": "white",
            "linecolor": "white",
            "ticks": ""
           }
          },
          "scene": {
           "xaxis": {
            "backgroundcolor": "#E5ECF6",
            "gridcolor": "white",
            "gridwidth": 2,
            "linecolor": "white",
            "showbackground": true,
            "ticks": "",
            "zerolinecolor": "white"
           },
           "yaxis": {
            "backgroundcolor": "#E5ECF6",
            "gridcolor": "white",
            "gridwidth": 2,
            "linecolor": "white",
            "showbackground": true,
            "ticks": "",
            "zerolinecolor": "white"
           },
           "zaxis": {
            "backgroundcolor": "#E5ECF6",
            "gridcolor": "white",
            "gridwidth": 2,
            "linecolor": "white",
            "showbackground": true,
            "ticks": "",
            "zerolinecolor": "white"
           }
          },
          "shapedefaults": {
           "line": {
            "color": "#2a3f5f"
           }
          },
          "ternary": {
           "aaxis": {
            "gridcolor": "white",
            "linecolor": "white",
            "ticks": ""
           },
           "baxis": {
            "gridcolor": "white",
            "linecolor": "white",
            "ticks": ""
           },
           "bgcolor": "#E5ECF6",
           "caxis": {
            "gridcolor": "white",
            "linecolor": "white",
            "ticks": ""
           }
          },
          "title": {
           "x": 0.05
          },
          "xaxis": {
           "automargin": true,
           "gridcolor": "white",
           "linecolor": "white",
           "ticks": "",
           "title": {
            "standoff": 15
           },
           "zerolinecolor": "white",
           "zerolinewidth": 2
          },
          "yaxis": {
           "automargin": true,
           "gridcolor": "white",
           "linecolor": "white",
           "ticks": "",
           "title": {
            "standoff": 15
           },
           "zerolinecolor": "white",
           "zerolinewidth": 2
          }
         }
        },
        "title": {
         "text": "bpm"
        },
        "xaxis": {
         "anchor": "y",
         "domain": [
          0,
          1
         ],
         "title": {
          "text": "x"
         }
        },
        "yaxis": {
         "anchor": "x",
         "domain": [
          0,
          1
         ],
         "title": {
          "text": "y"
         }
        }
       }
      },
      "text/html": [
       "<div>                            <div id=\"83d6708f-b288-40eb-8821-081b01ad6edd\" class=\"plotly-graph-div\" style=\"height:525px; width:100%;\"></div>            <script type=\"text/javascript\">                require([\"plotly\"], function(Plotly) {                    window.PLOTLYENV=window.PLOTLYENV || {};                                    if (document.getElementById(\"83d6708f-b288-40eb-8821-081b01ad6edd\")) {                    Plotly.newPlot(                        \"83d6708f-b288-40eb-8821-081b01ad6edd\",                        [{\"customdata\":[[0.0,0.0,\"Byron Scott\"],[0.0,0.0,\"Grant Long\"],[0.0,0.0,\"Dan Schayes\"],[0.0,0.0,\"Sedale Threatt\"],[0.0,0.0,\"Chris King\"],[0.0,0.0,\"Eric Piatkowski\"],[0.0,0.0,\"Clyde Drexler\"],[0.0,0.0,\"Greg Anthony\"],[0.0,0.0,\"Rik Smits\"],[0.0,0.0,\"Dennis Rodman\"],[0.0,0.0,\"Luc Longley\"],[0.0,0.0,\"Doug West\"],[-3.3,34.74216938150711,\"Jim McIlvaine\"],[0.0,0.0,\"Lorenzo Williams\"],[-15.5,5.443191465797735,\"Clifford Rozier\"],[0.0,0.0,\"Eric Riley\"],[0.0,0.0,\"Sarunas Marciulionis\"],[0.0,0.0,\"Greg Graham\"],[0.0,0.0,\"Brad Lohaus\"],[-0.6,36.704927008055336,\"Monty Williams\"],[1.5,33.39713061526888,\"Chris Whitney\"],[0.0,0.0,\"George McCloud\"],[0.0,0.0,\"Wayman Tisdale\"],[-0.7,42.91835271768943,\"Gheorghe Muresan\"],[0.0,0.0,\"Mahmoud Abdul-Rauf\"],[0.0,0.0,\"Micheal Williams\"],[0.0,0.0,\"Mario Elie\"],[-3.0,20.808732141419213,\"Dickey Simpkins\"],[0.0,0.0,\"Marty Conlon\"],[0.0,0.0,\"Gary Payton\"],[0.0,0.0,\"Doug Christie\"],[0.0,0.0,\"Carl Herrera\"],[-0.3,32.43167176285136,\"Michael Smith\"],[0.0,0.0,\"Sam Perkins\"],[-2.0,23.405305666308507,\"Greg Minor\"],[0.0,0.0,\"Tom Hammonds\"],[0.0,0.0,\"Steve Kerr\"],[0.0,0.0,\"Pooh Richardson\"],[0.0,0.0,\"Kenny Anderson\"],[0.0,0.0,\"Hot Rod Williams\"],[0.0,0.0,\"Cedric Ceballos\"],[0.0,0.0,\"Doug Overton\"],[0.0,0.0,\"LaSalle Thompson\"],[0.0,0.0,\"Ken Norman\"],[0.0,0.0,\"Jeff Grayer\"],[0.0,0.0,\"Bill Wennington\"],[0.0,0.0,\"Latrell Sprewell\"],[0.0,0.0,\"Brent Price\"],[0.0,0.0,\"Dikembe Mutombo\"],[0.0,0.0,\"Steve Scheffler\"],[1.1,54.29645476456083,\"Nick Van Exel\"],[0.0,0.0,\"Hubert Davis\"],[0.0,0.0,\"Mark Bryant\"],[0.0,0.0,\"Detlef Schrempf\"],[0.0,0.0,\"Nick Anderson\"],[0.0,0.0,\"Tim Legler\"],[0.0,0.0,\"Todd Day\"],[0.0,0.0,\"Benoit Benjamin\"],[0.0,0.0,\"Dan Majerle\"],[0.0,0.0,\"Dale Ellis\"],[0.0,0.0,\"Robert Horry\"],[0.0,0.0,\"LaPhonso Ellis\"],[0.0,0.0,\"Dontonio Wingfield\"],[0.0,0.0,\"David Wood\"],[0.0,0.0,\"Steven Smith\"],[0.0,0.0,\"Patrick Ewing\"],[0.0,0.0,\"Fred Roberts\"],[0.0,0.0,\"Robert Pack\"],[0.0,0.0,\"Vlade Divac\"],[0.0,0.0,\"David Benoit\"],[0.0,0.0,\"Dino Radja\"],[0.0,0.0,\"David Wesley\"],[0.0,0.0,\"Kevin Johnson\"],[0.0,0.0,\"P.J. Brown\"],[0.0,0.0,\"Vernon Maxwell\"],[0.0,0.0,\"Anthony Avent\"],[0.0,0.0,\"Donald Royal\"],[-2.8,32.41532559351101,\"Terry Dehere\"],[0.4,42.63504036196835,\"Tracy Murray\"],[0.0,0.0,\"Jud Buechler\"],[-0.6,41.28805315503905,\"Jalen Rose\"],[0.0,0.0,\"Adrian Caldwell\"],[0.0,0.0,\"Antoine Carr\"],[0.0,0.0,\"Derek Harper\"],[0.0,0.0,\"Tim Breaux\"],[0.0,0.0,\"Chris Childs\"],[0.0,0.0,\"Hakeem Olajuwon\"],[0.0,0.0,\"Ron Harper\"],[0.0,0.0,\"Chris Mills\"],[0.0,0.0,\"Joe Kleine\"],[0.0,0.0,\"Keith Askins\"],[0.0,0.0,\"Alton Lister\"],[0.0,0.0,\"Antonio Harvey\"],[0.0,0.0,\"Muggsy Bogues\"],[0.0,0.0,\"Olden Polynice\"],[0.0,0.0,\"Bryant Stith\"],[0.0,0.0,\"John Crotty\"],[0.0,0.0,\"Kenny Smith\"],[0.0,0.0,\"Billy Owens\"],[0.0,0.0,\"Bison Dele\"],[0.0,0.0,\"Bobby Phills\"],[1.9,41.493473382368585,\"Chris Webber\"],[0.0,0.0,\"Terry Cummings\"],[0.0,0.0,\"Duane Causwell\"],[0.0,0.0,\"Dennis Scott\"],[0.0,0.0,\"Anthony Mason\"],[0.0,0.0,\"Anthony Bowie\"],[0.0,0.0,\"Lee Mayberry\"],[0.0,0.0,\"Scott Burrell\"],[0.0,0.0,\"Danny Ferry\"],[0.0,0.0,\"Reggie Williams\"],[0.0,0.0,\"Chris Dudley\"],[0.0,0.0,\"Gary Grant\"],[0.0,0.0,\"Nate McMillan\"],[0.0,0.0,\"Jeff Hornacek\"],[0.0,0.0,\"Sam Cassell\"],[0.0,0.0,\"Dell Curry\"],[0.0,0.0,\"Terrell Brandon\"],[0.0,0.0,\"Eric Mobley\"],[-11.1,7.697510420042749,\"Yinka Dare\"],[0.0,0.0,\"Antonio Davis\"],[0.0,0.0,\"Brian Shaw\"],[0.0,0.0,\"Vinny Del Negro\"],[0.0,0.0,\"Clar. Weatherspoon\"],[-6.4,12.081114738853076,\"Bill Curley\"],[3.3,54.772103605150406,\"Eddie Jones\"],[-2.5,5.46198986939131,\"Antonio Lang\"],[0.0,0.0,\"Adam Keefe\"],[-1.9,44.17006905133837,\"Khalid Reeves\"],[0.0,0.0,\"Kevin Edwards\"],[0.0,0.0,\"Tyrone Hill\"],[0.5,42.65741436139795,\"Darrick Martin\"],[0.0,0.0,\"Brooks Thompson\"],[-3.2,11.656328753085168,\"Darrin Hancock\"],[-1.5,42.573955262186644,\"Aaron McKie\"],[0.0,0.0,\"Dee Brown\"],[0.0,0.0,\"Greg Anderson\"],[0.0,0.0,\"Joe Dumars\"],[0.0,0.0,\"George Lynch\"],[0.0,0.0,\"Sean Elliott\"],[0.0,0.0,\"Karl Malone\"],[4.7,57.41855100923394,\"Grant Hill\"],[0.5,43.84968642989366,\"Brian Grant\"],[0.0,0.0,\"Michael Cage\"],[0.0,0.0,\"Harvey Grant\"],[0.0,0.0,\"Horace Grant\"],[0.0,0.0,\"Johnny Newman\"],[0.0,0.0,\"Duane Ferrell\"],[-1.1,51.781302931978544,\"Allan Houston\"],[0.0,0.0,\"Stacey Augmon\"],[0.0,0.0,\"Charles Jones\"],[0.0,0.0,\"Felton Spencer\"],[0.0,0.0,\"Scott Williams\"],[0.0,0.0,\"Lindsey Hunter\"],[0.0,0.0,\"Eric Leckner\"],[0.0,0.0,\"Armen Gilliam\"],[0.0,0.0,\"Ledell Eackles\"],[0.0,0.0,\"Ed Pinckney\"],[-15.9,3.7013511046643495,\"Anthony Miller\"],[0.0,0.0,\"Charles Smith\"],[0.0,0.0,\"Rick Fox\"],[0.0,0.0,\"Alonzo Mourning\"],[0.0,47.882408043038104,\"Glenn Robinson\"],[0.0,0.0,\"Mookie Blaylock\"],[0.0,0.0,\"John Stockton\"],[0.0,0.0,\"Robert Parish\"],[0.0,0.0,\"Derrick Alston\"],[-3.2,25.07814453529872,\"Bobby Hurley\"],[0.0,0.0,\"Richard Manning\"],[0.0,0.0,\"John Starks\"],[0.0,0.0,\"Jamie Watson\"],[0.0,0.0,\"Greg Foster\"],[0.0,0.0,\"Anthony Peeler\"],[0.0,0.0,\"Rick Mahorn\"],[0.0,0.0,\"Danny Manning\"],[0.0,0.0,\"Kevin Gamble\"],[0.0,0.0,\"Willie Anderson\"],[0.0,0.0,\"Tom Gugliotta\"],[0.0,0.0,\"Joe Wolf\"],[0.0,0.0,\"Dana Barros\"],[0.0,0.0,\"Terry Porter\"],[0.0,0.0,\"Mitchell Butler\"],[0.0,0.0,\"Mark Jackson\"],[0.0,0.0,\"Stacey King\"],[0.0,0.0,\"Darrell Armstrong\"],[0.0,0.0,\"Vincent Askew\"],[0.0,0.0,\"Chris Morris\"],[4.9,47.13590280596448,\"Anfernee Hardaway\"],[0.0,0.0,\"Chucky Brown\"],[0.0,0.0,\"Clifford Robinson\"],[0.0,0.0,\"Christian Laettner\"],[0.0,0.0,\"Rex Chapman\"],[0.0,0.0,\"Derrick McKey\"],[0.0,0.0,\"Dwayne Schintzius\"],[0.0,0.0,\"Charlie Ward\"],[0.0,0.0,\"Terry Mills\"],[-0.7,50.64915267471579,\"Isaiah Rider\"],[-4.8,42.72489516273469,\"Eric Montross\"],[0.0,0.0,\"Craig Ehlo\"],[0.0,0.0,\"Tony Smith\"],[0.0,0.0,\"James Robinson\"],[0.0,0.0,\"Kendall Gill\"],[-2.5,49.155399839013924,\"Calbert Cheaney\"],[0.0,0.0,\"Elliot Perry\"],[0.0,0.0,\"Toni Kukoc\"],[0.0,0.0,\"Sasha Danilovic\"],[0.0,0.0,\"Rod Strickland\"],[0.0,0.0,\"Reggie Miller\"],[0.0,0.0,\"Sean Rooks\"],[0.0,0.0,\"Derek Strong\"],[0.0,0.0,\"Kevin Duckworth\"],[5.8,46.608296829355716,\"Shaquille O'Neal\"],[-6.4,6.708203932499369,\"Sharone Wright\"],[0.0,0.0,\"Willie Burton\"],[0.0,0.0,\"Sam Mitchell\"],[0.0,0.0,\"Scott Brooks\"],[0.0,0.0,\"Jayson Williams\"],[0.0,0.0,\"Avery Johnson\"],[0.0,0.0,\"Chris Gatling\"],[0.0,0.0,\"Terry Davis\"],[0.0,0.0,\"Sherman Douglas\"],[0.0,0.0,\"Shawn Kemp\"],[0.0,0.0,\"Pete Chilcutt\"],[0.0,0.0,\"Buck Williams\"],[-6.0,6.759807689572241,\"Tony Dumas\"],[0.9,37.35866699977396,\"Carlos Rogers\"],[0.3,37.868280482042884,\"Juwan Howard\"],[0.0,0.0,\"Robert Werdann\"],[0.0,0.0,\"Zan Tabak\"],[-2.1,36.25748198648108,\"Lamond Murray\"],[0.0,0.0,\"Pervis Ellison\"],[1.9,48.275511390351944,\"Wesley Person\"],[0.0,0.0,\"Lucious Harris\"],[2.8,46.87545555334188,\"Bo Outlaw\"],[2.0,56.17459390151388,\"Vin Baker\"],[0.0,0.0,\"Chuck Person\"],[0.0,0.0,\"Andrew Lang\"],[-0.6,41.4647440604666,\"Howard Eisley\"],[0.0,0.0,\"Popeye Jones\"],[0.0,0.0,\"J.R. Reid\"],[5.5,45.42319524941712,\"Jason Kidd\"],[0.0,0.0,\"Jon Barry\"],[0.1,41.5886402759215,\"Jamal Mashburn\"],[0.0,0.0,\"Melvin Booker\"],[0.0,0.0,\"Donnie Boyce\"],[0.0,0.0,\"Matt Bullard\"],[-0.5,44.79222402753998,\"Alan Henderson\"],[0.0,0.0,\"Reggie Jordan\"],[0.0,0.0,\"Thomas Hamilton\"],[-0.2,12.029339133967419,\"Eric Williams\"],[0.0,0.0,\"George Zidek\"],[-4.8,29.578342301983948,\"Jason Caffey\"],[0.0,0.0,\"John Amaechi\"],[0.0,0.0,\"Donny Marshall\"],[-1.3,28.994654679785377,\"Bob Sura\"],[0.0,0.0,\"Loren Meyer\"],[-2.3,41.26000888673353,\"Cherokee Parks\"],[0.7,51.955221104331756,\"Antonio McDyess\"],[0.0,0.0,\"Michael Curry\"],[1.3,40.32784397906737,\"Theo Ratliff\"],[-0.5,30.589077571359798,\"Don Reid\"],[0.0,0.0,\"Lou Roe\"],[-1.1,33.19312177746061,\"Andrew DeClercq\"],[-1.9,44.061056122915055,\"Joe Smith\"],[0.0,0.0,\"Sam Mack\"],[0.0,0.0,\"Eldridge Recasner\"],[0.3,39.30801444998208,\"Travis Best\"],[0.3,29.624454987954344,\"Fred Hoiberg\"],[0.0,0.0,\"Eddie Johnson\"],[0.4,33.09614781209439,\"Brent Barry\"],[0.0,0.0,\"Keith Tower\"],[0.0,0.0,\"Frankie King\"],[-3.5,13.71762856084582,\"Voshon Lenard\"],[-16.8,8.562028575830222,\"Kurt Thomas\"],[-3.2,30.110352593972276,\"Shawn Respert\"],[0.0,0.0,\"Jerome Allen\"],[-16.7,5.942642509860407,\"Mark Davis\"],[6.8,56.31587993926163,\"Kevin Garnett\"],[0.0,0.0,\"Ed O'Bannon\"],[-5.9,10.217794934981471,\"David Vaughn\"],[1.0,56.11131793141202,\"Jerry Stackhouse\"],[-3.5,4.328202090167845,\"Mario Bennett\"],[-3.8,34.122451064756035,\"Chris Carr\"],[2.0,45.334791643210735,\"Michael Finley\"],[0.0,0.0,\"John Coker\"],[0.0,0.0,\"Rumeal Robinson\"],[0.0,0.0,\"Arvydas Sabonis\"],[-2.8,17.30717577576807,\"Gary Trent\"],[0.0,0.0,\"Randolph Childress\"],[0.0,0.0,\"Tyus Edney\"],[-2.1,37.08723949464735,\"Corliss Williamson\"],[-3.4,27.81321628291126,\"Cory Alexander\"],[0.0,0.0,\"Dell Demps\"],[-0.1,41.43661826613424,\"Eric Snow\"],[0.0,0.0,\"Jimmy King\"],[0.0,0.0,\"Martin Lewis\"],[0.8,36.635820358405105,\"Greg Ostertag\"],[-7.1,12.043116983018432,\"Ashraf Amaya\"],[-28.9,3.610170817749944,\"Cuonzo Martin\"],[-14.7,5.150728103870365,\"Lawrence Moten\"],[-6.3,26.512921378075255,\"Bryant Reeves\"],[0.0,0.0,\"Bob McCann\"],[2.2,53.34733670328192,\"Rasheed Wallace\"],[0.0,0.0,\"Randy Brown\"],[0.0,0.0,\"Jim Jackson\"],[0.1,40.92096039928682,\"Damon Stoudamire\"],[0.0,0.0,\"Jerome Kersey\"],[0.0,0.0,\"Matt Geiger\"],[-0.4,42.723919920032266,\"Shawn Bradley\"],[0.0,0.0,\"Tony Massenburg\"],[0.0,0.0,\"David Robinson\"],[0.0,0.0,\"Hersey Hawkins\"],[0.0,0.0,\"David Wingate\"],[0.0,0.0,\"Acie Earl\"],[0.0,0.0,\"B.J. Armstrong\"],[0.0,0.0,\"Mark West\"],[0.0,0.0,\"Elmore Spencer\"],[0.0,0.0,\"Rex Walters\"],[0.0,0.0,\"Glen Rice\"],[0.0,0.0,\"Will Perdue\"],[0.0,0.0,\"Mitch Richmond\"],[0.0,0.0,\"Frank Brickowski\"],[0.0,0.0,\"Eric Murdock\"],[0.0,0.0,\"Gerald Wilkins\"],[0.0,0.0,\"Charles Barkley\"],[0.0,0.0,\"Kevin Willis\"],[0.0,0.0,\"Charles Oakley\"],[0.0,0.0,\"Spud Webb\"],[0.0,0.0,\"Michael Jordan\"],[0.0,0.0,\"Ricky Pierce\"],[0.0,0.0,\"Tyrone Corbin\"],[0.0,0.0,\"Tim Hardaway\"],[0.0,0.0,\"Blue Edwards\"],[0.0,0.0,\"Mark Price\"],[0.0,0.0,\"Matt Fish\"],[0.0,0.0,\"Otis Thorpe\"],[0.0,0.0,\"Bimbo Coles\"],[0.0,0.0,\"Chris Mullin\"],[0.0,0.0,\"Dale Davis\"],[0.0,0.0,\"Haywoode Workman\"],[0.0,0.0,\"Malik Sealy\"],[0.0,0.0,\"Ervin Johnson\"],[0.0,0.0,\"Rafael Addison\"],[0.0,0.0,\"Larry Johnson\"],[0.0,0.0,\"Stanley Roberts\"],[-0.7,49.74019166294668,\"Rodney Rogers\"],[0.0,0.0,\"Corie Blount\"],[0.0,0.0,\"Jack Haley\"],[0.0,0.0,\"Loy Vaught\"],[0.0,0.0,\"A.C. Green\"],[0.0,0.0,\"Elden Campbell\"],[1.3,35.347819357540715,\"Donyell Marshall\"],[-1.8,34.54786534650151,\"Anthony Goldwire\"],[0.0,0.0,\"Sean Higgins\"],[0.0,0.0,\"John Salley\"],[0.0,0.0,\"Tracy Moore\"],[0.0,0.0,\"Don MacLean\"],[0.0,0.0,\"Oliver Miller\"],[0.0,0.0,\"Derrick Coleman\"],[0.0,0.0,\"Bryon Russell\"],[0.0,0.0,\"Scottie Pippen\"],[0.0,0.0,\"Rony Seikaly\"],[0.0,0.0,\"Pete Myers\"],[0.0,0.0,\"Earl Cureton\"],[0.0,0.0,\"Ennis Whatley\"],[6.1,54.55142833449304,\"Allen Iverson\"],[2.3,39.31333531174034,\"Marcus Camby\"],[1.7,54.57177231255487,\"Shareef Abdur-Rahim\"],[2.9,56.99445879498577,\"Stephon Marbury\"],[5.5,55.955949936832724,\"Ray Allen\"],[2.2,58.36467253399097,\"Antoine Walker\"],[-1.8,44.5754790589325,\"Lorenzen Wright\"],[1.6,43.559614323361494,\"Kerry Kittles\"],[0.1,40.66091489378959,\"Samaki Walker\"],[-5.2,32.27573908268144,\"Erick Dampier\"],[-6.3,20.009664331684004,\"Todd Fuller\"],[-3.6,43.601376125072015,\"Vitaly Potapenko\"],[-0.9,39.17737442283071,\"Steve Nash\"],[-1.8,25.102523113557073,\"Tony Delk\"],[-2.8,28.227026056600437,\"John Wallace\"],[-3.5,29.651897072531465,\"Walter McCarty\"],[0.0,0.0,\"Dontae' Jones\"],[0.0,0.0,\"Roy Rogers\"],[-1.6,42.478837868598404,\"Derek Fisher\"],[1.7,34.00306358746709,\"Jerome Williams\"],[0.7,11.929305651769218,\"Brian Evans\"],[0.0,0.0,\"Priest Lauderdale\"],[-5.3,20.208908926510603,\"Travis Knight\"],[-3.4,30.02240829780316,\"Othella Harrington\"],[-0.6,8.373270965797458,\"Mark Hendrickson\"],[-4.6,24.460444258707426,\"Jeff McInnis\"],[5.6,49.47162486382138,\"Kobe Bryant\"],[3.5,49.51117718926374,\"Peja Stojakovic\"],[2.4,52.81058921592648,\"Jermaine O'Neal\"],[-1.8,24.777947184273902,\"Zydrunas Ilgauskas\"],[0.0,0.0,\"Efthimios Rentzias\"],[0.0,0.0,\"Martin Muursepp\"],[-4.3,11.788977903109327,\"Moochie Norris\"],[0.0,0.0,\"Steve Hamer\"],[-4.1,6.267641768108106,\"Jason Sasser\"],[-15.6,2.5658007197234416,\"Randy Livingston\"],[-17.6,3.4868801719206384,\"Ben Davis\"],[-2.6,36.55730661121891,\"Malik Rose\"],[-9.3,6.739312526759187,\"Marcus Brown\"],[-2.3,47.33097998844594,\"Jamie Feick\"],[0.0,0.0,\"Chris Robinson\"],[-7.6,13.784048752090222,\"Mark Pope\"],[0.0,0.0,\"Jeff Nordgaard\"],[-1.2,32.7219345393881,\"Shandon Anderson\"],[0.0,0.0,\"Reggie Geary\"],[-2.7,13.546709317518149,\"Drew Barry\"],[0.0,0.0,\"Walt Williams\"],[0.0,0.0,\"Herb Williams\"],[0.0,0.0,\"Emanual Davis\"],[0.0,0.0,\"Horacio Llamas\"],[0.0,0.0,\"Evric Gray\"],[0.0,0.0,\"Darvin Ham\"],[-2.5,13.679973196854846,\"Shawnelle Scott\"],[0.0,0.0,\"Litterial Green\"],[0.0,0.0,\"Stojko Vrankovic\"],[0.0,0.0,\"Juaquin Hawkins\"],[0.0,0.0,\"Nate Driggers\"],[0.0,0.0,\"Amal McCaskill\"],[0.0,0.0,\"Shane Heal\"],[0.0,0.0,\"Dean Garrett\"],[0.0,0.0,\"Ben Handlogten\"],[0.0,0.0,\"Ed Stokes\"],[0.0,0.0,\"Aleksandar Djordjevic\"],[0.0,0.0,\"William Cunningham\"],[0.0,0.0,\"Carl Thomas\"],[-6.4,7.340186192007209,\"Brent Scott\"],[1.8,23.81463135693406,\"Erick Strickland\"],[0.0,0.0,\"Greg Dreiling\"],[0.0,0.0,\"Devin Gray\"],[0.0,0.0,\"Reggie Slater\"],[0.1,48.85944125755021,\"Matt Maloney\"],[0.0,0.0,\"Michael McDonald\"],[0.0,0.0,\"Ray Owes\"],[0.0,0.0,\"Henry James\"],[0.0,0.0,\"Ira Bowman\"],[-0.2,6.056676756550023,\"Joe Stephens\"],[-0.8,40.34538387473838,\"Chucky Atkins\"],[0.0,0.0,\"Kevin Salvadori\"],[0.0,0.0,\"Gaylon Nickerson\"],[0.0,0.0,\"Ivano Newbill\"],[0.0,0.0,\"Matt Steigenga\"],[0.0,0.0,\"Tony Farmer\"],[0.0,0.0,\"James Scott\"],[0.0,0.0,\"Mark Strickland\"],[1.8,44.26582579522639,\"Ben Wallace\"],[0.0,0.0,\"Jaren Jackson\"],[0.0,0.0,\"Tim Kempton\"],[0.0,0.0,\"Elmer Bennett\"],[0.0,0.0,\"Dexter Boney\"],[0.0,0.0,\"Dominique Wilkins\"],[0.0,0.0,\"Larry Stewart\"],[0.0,0.0,\"Donald Whiteside\"],[0.0,0.0,\"Stephen Howard\"],[0.0,0.0,\"Ruben Nembhard\"],[0.0,0.0,\"Jimmy Carruth\"],[0.0,0.0,\"Corey Beck\"],[0.0,0.0,\"Ike Austin\"],[0.0,0.0,\"Brett Szabo\"],[0.0,0.0,\"Chris Jent\"],[0.0,0.0,\"Michael Hawkins\"],[0.0,0.0,\"Mark Bradtke\"],[0.0,0.0,\"Xavier McDaniel\"],[0.0,0.0,\"Lloyd Daniels\"],[0.0,0.0,\"John Long\"],[-1.6,23.71546612093747,\"Aaron Williams\"],[0.0,0.0,\"Jimmy Oliver\"],[0.0,0.0,\"Joe Courtney\"],[0.0,0.0,\"Dragan Tarlac\"],[0.0,0.0,\"Zeljko Rebraca\"],[0.0,0.0,\"Lawrence Funderburke\"],[0.0,0.0,\"Tom Chambers\"],[0.0,0.0,\"Larry Krystkowiak\"],[97.4,0.7416198487095663,\"Bruce Bowen\"],[-9.5,7.7864198020228335,\"Stevin Smith\"],[0.0,0.0,\"Mike Brown\"],[0.0,0.0,\"Lionel Simmons\"],[7.6,57.720533608067065,\"Tim Duncan\"],[-1.1,41.606369704649794,\"Keith Van Horn\"],[2.5,48.53797482384282,\"Chauncey Billups\"],[1.7,45.415948006546444,\"Antonio Daniels\"],[-0.7,42.66725911047017,\"Tony Battie\"],[-4.6,41.44691383766311,\"Ron Mercer\"],[-2.2,48.5753023665319,\"Tim Thomas\"],[-2.8,38.21400266917874,\"Adonal Foyle\"],[6.7,56.489010730701686,\"Tracy McGrady\"],[-2.0,47.10994233351035,\"Danny Fortson\"],[-1.2,39.68349782970246,\"Tariq Abdul-Wahad\"],[-1.2,43.28785433967974,\"Austin Croshere\"],[-0.1,46.90900766377391,\"Derek Anderson\"],[0.0,0.0,\"Maurice Taylor\"],[-0.2,39.76447325607784,\"Kelvin Cato\"],[-1.4,38.2289811530467,\"Brevin Knight\"],[-8.4,5.73149195236284,\"Johnny Taylor\"],[-2.3,31.715952873383294,\"Chris Anstey\"],[-0.3,40.75021472336066,\"Scot Pollard\"],[-19.6,3.599768511075858,\"Paul Grant\"],[0.0,0.0,\"Anthony Parker\"],[0.0,0.0,\"Ed Gray\"],[-0.4,30.63720505093983,\"Bobby Jackson\"],[-11.4,12.491864018899141,\"Rodrick Rhodes\"],[0.0,0.0,\"John Thomas\"],[0.0,0.0,\"Charles Smith\"],[-1.0,40.32639747526836,\"Jacque Vaughn\"],[0.0,0.0,\"Keith Booth\"],[0.0,0.0,\"Charles O'Bannon\"],[0.0,0.0,\"James Cotton\"],[0.0,0.0,\"Marko Milic\"],[0.0,0.0,\"Bubba Wells\"],[0.0,0.0,\"Kebu Stewart\"],[0.0,0.0,\"James Collins\"],[0.0,0.0,\"Marc Jackson\"],[0.0,0.0,\"Jerald Honeycutt\"],[-2.9,25.277493282892333,\"Anthony Johnson\"],[0.0,0.0,\"Jason Lawson\"],[0.1,54.25151303573634,\"Stephen Jackson\"],[-4.8,31.00387072608838,\"Cedric Henderson\"],[0.0,0.0,\"God Shammgod\"],[0.0,0.0,\"Eric Washington\"],[-1.1,27.834900155500236,\"Alvin Williams\"],[0.0,0.0,\"Predrag Drobnjak\"],[-4.5,30.07568231423299,\"Chris Crawford\"],[-2.4,24.2939292828476,\"DeJuan Wheat\"],[-3.1,33.15350660186642,\"Mark Blount\"],[0.0,0.0,\"Jamal Robinson\"],[0.6,43.911312134042745,\"Adrian Griffin\"],[0.0,0.0,\"Gerard King\"],[-4.4,20.671074798697163,\"Kevin Ollie\"],[-4.6,1.8907670401189038,\"Etdrick Bohannon\"],[-6.5,11.102477201057429,\"Michael Stewart\"],[0.0,0.0,\"Keith Closs\"],[0.0,0.0,\"Nate Huffman\"],[0.0,0.0,\"Derek Grimm\"],[0.0,0.0,\"Travis Williams\"],[0.0,0.0,\"Shea Seals\"],[0.0,0.0,\"Brandon Williams\"],[0.0,0.0,\"Alvin Sims\"],[0.0,0.0,\"Charles Shackleford\"],[-2.4,24.9022087373791,\"Rick Brunson\"],[0.0,0.0,\"Kornel David\"],[-3.7,27.03318947762792,\"Rusty LaRue\"],[-1.8,43.103499471234,\"Troy Hudson\"],[0.0,0.0,\"Art Long\"],[-12.0,12.186262757712063,\"Chris Garner\"],[-2.6,33.93486407811294,\"Mikki Moore\"],[0.0,0.0,\"Gerald Madkins\"],[0.0,0.0,\"Steve Henson\"],[0.0,0.0,\"Harold Ellis\"],[0.0,0.0,\"Brian Oliver\"],[0.0,0.0,\"Reggie Hanson\"],[0.0,0.0,\"Larry Robinson\"],[-5.5,46.129021956536974,\"Michael Olowokandi\"],[2.4,54.61115575899607,\"Mike Bibby\"],[1.8,49.53629982144407,\"Raef LaFrentz\"],[0.2,55.07549364281722,\"Antawn Jamison\"],[4.4,48.84306501439073,\"Vince Carter\"],[-0.6,29.096792492186026,\"Robert Traylor\"],[-0.6,47.84973005845143,\"Jason Williams\"],[0.9,45.46828565054987,\"Larry Hughes\"],[3.8,54.03559012354727,\"Dirk Nowitzki\"],[4.9,55.64687772013808,\"Paul Pierce\"],[1.9,48.48169757753951,\"Bonzi Wells\"],[-5.3,32.25042635377089,\"Michael Doleac\"],[-1.1,41.469687724891294,\"Keon Clark\"],[-2.2,51.18279333265556,\"Michael Dickerson\"],[-0.8,50.46987550344591,\"Matt Harpring\"],[-2.1,35.94857438063435,\"Bryce Drew\"],[-1.7,47.120430812971136,\"Rasho Nesterovic\"],[0.0,0.0,\"Mirsad Turkcan\"],[-0.6,49.00309514034119,\"Pat Garrity\"],[-3.4,30.29518663638389,\"Roshown McLeod\"],[-0.8,51.88392493505739,\"Ricky Davis\"],[-2.4,33.28480634363568,\"Brian Skinner\"],[-1.5,44.58009645570543,\"Tyronn Lue\"],[-2.7,27.938772342391854,\"Felipe Lopez\"],[-1.3,52.74081278605147,\"Al Harrington\"],[-4.3,7.551931320309176,\"Sam Jacobson\"],[-2.3,29.721036321097554,\"Vladimir Stepania\"],[0.0,0.0,\"Corey Benjamin\"],[-5.3,21.221844092035617,\"Nazr Mohammed\"],[-1.8,11.87756989735977,\"Ansu Sesay\"],[1.9,45.39487856575894,\"Ruben Patterson\"],[3.7,51.983346692314164,\"Rashard Lewis\"],[-3.8,36.976794524854775,\"Jelani McCoy\"],[0.8,35.20260407034301,\"Shammond Williams\"],[0.0,0.0,\"Bruno Sundov\"],[0.0,0.0,\"Jerome James\"],[0.0,0.0,\"Casey Shaw\"],[0.0,0.0,\"DeMarco Johnson\"],[-0.7,24.41713878951969,\"Rafer Alston\"],[0.0,0.0,\"Korleone Young\"],[0.9,54.829037319045916,\"Cuttino Mobley\"],[0.0,0.0,\"Miles Simon\"],[-1.5,36.702361413583866,\"Jahidi White\"],[0.0,0.0,\"Sean Marks\"],[0.0,0.0,\"Toby Bailey\"],[0.0,0.0,\"Andrae Patterson\"],[0.0,0.0,\"Tyson Wheeler\"],[0.0,0.0,\"Ryan Stack\"],[0.0,0.0,\"Cory Carr\"],[-1.5,14.294695986040871,\"Derrick Dial\"],[0.2,29.745868060399026,\"Greg Buckner\"],[-2.5,18.455938520342634,\"Tremaine Fowlkes\"],[0.1,26.42032046235119,\"Ryan Bowen\"],[0.0,0.0,\"J.R. Henderson\"],[0.0,0.0,\"Torraye Braggs\"],[0.0,0.0,\"Maceo Baston\"],[-1.7,32.995454232363585,\"Damon Jones\"],[0.0,0.0,\"Jonathan Kerner\"],[2.3,47.58229712823877,\"Brad Miller\"],[0.0,0.0,\"Adonis Jordan\"],[0.0,0.0,\"Kelly McCarty\"],[-10.6,5.187324294213087,\"Makhtar N'diaye\"],[-19.8,2.3273733406281574,\"Peter Aluma\"],[0.0,0.0,\"Ike Fontaine\"],[0.0,0.0,\"Marlon Garnett\"],[-3.6,39.44775025270769,\"Tyrone Nesby\"],[0.0,0.0,\"Fred Vinson\"],[0.0,0.0,\"Andrew Gaze\"],[0.0,0.0,\"Thurl Bailey\"],[0.0,0.0,\"Jeff Sheppard\"],[-1.9,40.41726116401259,\"Anthony Carter\"],[0.0,0.0,\"Mark Macon\"],[0.0,0.0,\"Mark Baker\"],[0.0,0.0,\"Negele Knight\"],[-1.3,27.599728259531833,\"Earl Boykins\"],[-10.0,7.031002773431397,\"Steve Goodrich\"],[-25.0,2.2135943621178655,\"Trevor Winter\"],[0.0,0.0,\"Charles Jones\"],[0.0,0.0,\"Gerald Brown\"],[0.0,0.0,\"Randell Jackson\"],[3.6,54.81503747452272,\"Elton Brand\"],[3.8,57.63287545605659,\"Steve Francis\"],[4.1,39.77180743525079,\"Baron Davis\"],[1.4,48.12847390059236,\"Lamar Odom\"],[9.8,4.54789328517428,\"Jonathan Bender\"],[0.9,42.82345541094658,\"Wally Szczerbiak\"],[1.2,52.77166221878301,\"Richard Hamilton\"],[3.9,54.94844553457968,\"Andre Miller\"],[3.6,56.65571462791728,\"Shawn Marion\"],[1.8,55.53240795547524,\"Jason Terry\"],[-1.3,21.833498727108925,\"Trajan Langdon\"],[0.0,0.0,\"Aleksandar Radojevic\"],[2.4,49.46274692466372,\"Corey Maggette\"],[0.0,0.0,\"William Avery\"],[4.8,17.032175433572778,\"Metta World Peace\"],[0.0,0.0,\"Cal Bowdler\"],[-0.8,47.35625618648501,\"James Posey\"],[0.0,0.0,\"Quincy Lewis\"],[-2.1,40.52713083026394,\"Dion Glover\"],[-1.4,42.24460517825525,\"Jeff Foster\"],[-0.7,44.495168277016326,\"Kenny Thomas\"],[-1.5,40.15167078300316,\"Devean George\"],[3.8,45.2645372596841,\"Andrei Kirilenko\"],[-8.7,6.398437309218556,\"Tim James\"],[-1.5,22.251142292775285,\"Vonteego Cummings\"],[-0.4,42.8374446794702,\"Jumaine Jones\"],[0.6,35.94303363193861,\"Scott Padgett\"],[0.0,0.0,\"Leon Smith\"],[0.0,0.0,\"John Celestand\"],[-5.4,12.989996150884727,\"Michael Ruffin\"],[-5.2,20.205733509740917,\"Chris Herren\"],[-2.6,36.54237266516776,\"Evan Eschmeyer\"],[-3.0,16.673931749890304,\"Calvin Booth\"],[-3.8,20.28575033531338,\"Wang Zhi-zhi\"],[-4.2,16.780842251408806,\"Obinna Ekezie\"],[0.0,0.0,\"Laron Profit\"],[0.0,0.0,\"A.J. Bramlett\"],[-2.9,46.41542487866151,\"Gordan Giricek\"],[0.0,0.0,\"Francisco Elson\"],[-2.6,21.62178685184615,\"Lee Nailon\"],[0.0,0.0,\"Ryan Robertson\"],[-0.1,24.409936501351247,\"Todd MacCulloch\"],[0.0,0.0,\"Lari Ketner\"],[0.0,0.0,\"Rodney Buford\"],[0.0,0.0,\"Tim Young\"],[1.9,37.873737602724134,\"Manu Ginobili\"],[-1.0,13.306264188970058,\"Harold Jamison\"],[0.0,0.0,\"Wayne Turner\"],[-2.3,25.538663499355895,\"Eddie Robinson\"],[0.0,0.0,\"Andy Panko\"],[-3.3,29.87532426602262,\"Raja Bell\"],[0.0,0.0,\"Lazaro Borrell\"],[0.0,0.0,\"Jason Miskiri\"],[0.0,0.0,\"Ira Newble\"],[-4.9,34.74461588985162,\"Milt Palacio\"],[0.0,0.0,\"Rick Hughes\"],[0.0,0.0,\"Derek Hood\"],[0.0,0.0,\"Jamel Thomas\"],[-1.6,16.673182059822896,\"Jermaine Jackson\"],[-15.0,4.370354676682432,\"Zendon Hamilton\"],[-1.0,22.518732942448892,\"Dedric Willoughby\"],[1.0,51.241080524646726,\"Kenyon Martin\"],[-1.3,35.77815907319255,\"Stromile Swift\"],[0.0,0.0,\"Darius Miles\"],[-4.5,27.226825007701503,\"Marcus Fizer\"],[3.0,47.61914880941626,\"Mike Miller\"],[-0.8,30.395997543536335,\"DerMarr Johnson\"],[-2.4,43.28100045054411,\"Chris Mihm\"],[0.5,50.551442445624936,\"Jamal Crawford\"],[-0.2,43.10371213712341,\"Joel Przybilla\"],[-2.7,33.7192328896532,\"Keyon Dooling\"],[-2.6,20.376416106208005,\"Jerome Moiso\"],[-1.1,43.58615988284962,\"Etan Thomas\"],[-4.5,36.86041236882735,\"Courtney Alexander\"],[-16.2,7.406078584514209,\"Mateen Cleaves\"],[-1.4,10.262796889737222,\"Jason Collier\"],[0.7,42.02945395790909,\"Hedo Turkoglu\"],[-1.4,52.58250659677608,\"Desmond Mason\"],[-1.9,37.976045081077096,\"Quentin Richardson\"],[-1.6,52.86065014103903,\"Jamaal Magloire\"],[1.1,39.931462115312904,\"Speedy Claxton\"],[-1.8,54.26742423713632,\"Morris Peterson\"],[0.0,0.0,\"Donnell Harvey\"],[-1.3,49.187108744737884,\"DeShawn Stevenson\"],[0.0,0.0,\"Dalibor Bagaric\"],[-1.8,16.76141402149592,\"Jake Tsakalidis\"],[-11.7,3.0713731999438507,\"Mamadou N'diaye\"],[-1.0,47.775952807523055,\"Primoz Brezec\"],[0.0,0.0,\"Erick Barkley\"],[-4.5,25.236448508721132,\"Mark Madsen\"],[0.2,36.76114343524518,\"Eduardo Najera\"],[-0.7,41.95519435461276,\"Marko Jaric\"],[-3.6,23.190048152889485,\"Dan Langhi\"],[0.0,0.0,\"A.J. Guyton\"],[-2.2,30.775071080340336,\"Jake Voskuhl\"],[0.0,0.0,\"Khalid El-Amin\"],[0.0,0.0,\"Mike Smith\"],[0.0,0.0,\"Soumaila Samake\"],[-1.3,34.36880853331986,\"Eddie House\"],[0.0,0.0,\"Lavor Postell\"],[-5.4,36.99213880452616,\"Hanno Mottola\"],[0.0,0.0,\"Olumide Oyedeji\"],[1.0,53.40564888973197,\"Michael Redd\"],[-2.8,3.788139384975162,\"Brian Cardinal\"],[0.0,0.0,\"Jabari Smith\"],[0.2,25.744157913333794,\"Jason Hart\"],[-0.5,3.623994113313831,\"Kaniel Dickens\"],[0.0,0.0,\"Igor Rakocevic\"],[0.0,0.0,\"Ernest Brown\"],[0.0,0.0,\"Dan McClintock\"],[0.0,0.0,\"Chris Porter\"],[-2.4,4.931193229500006,\"Daniel Santiago\"],[0.0,0.0,\"Ruben Garces\"],[-5.1,20.518568825984598,\"Slava Medvedenko\"],[0.0,0.0,\"Paul McPherson\"],[0.0,0.0,\"Ruben Wolkowyski\"],[0.5,12.378677904633717,\"Eddie Gill\"],[0.0,0.0,\"Terrance Roberson\"],[0.0,0.0,\"Garth Joseph\"],[-3.8,24.813974557360474,\"Malik Allen\"],[0.0,0.0,\"David Vanterpool\"],[0.0,0.0,\"Mike Penberthy\"],[0.0,0.0,\"Ime Udoka\"],[4.0,5.983867199952444,\"Pepe Sanchez\"],[-8.9,6.684933308069221,\"Sean Colson\"],[-2.3,26.70986085075448,\"Kwame Brown\"],[0.4,52.751508667209414,\"Tyson Chandler\"],[5.5,55.99205300754742,\"Pau Gasol\"],[-2.8,39.117259617718624,\"Eddy Curry\"],[3.1,53.63574678638613,\"Jason Richardson\"],[2.6,44.13724806404076,\"Shane Battier\"],[0.0,0.0,\"Eddie Griffin\"],[-0.2,38.467692071832566,\"DeSagana Diop\"],[0.0,0.0,\"Rodney White\"],[2.5,48.573912751599494,\"Joe Johnson\"],[0.0,0.0,\"Kedrick Brown\"],[0.5,44.429663514368414,\"Vladimir Radmanovic\"],[3.1,55.30659996781578,\"Richard Jefferson\"],[-0.3,50.1615556643399,\"Troy Murphy\"],[-1.8,40.057666765135856,\"Steven Hunter\"],[0.0,0.0,\"Kirk Haston\"],[-1.9,10.738870207490777,\"Michael Bradley\"],[-1.5,47.1664605413635,\"Jason Collins\"],[1.6,49.24291827258006,\"Zach Randolph\"],[-0.1,43.22840501337055,\"Brendan Haywood\"],[0.0,0.0,\"Joseph Forte\"],[0.0,0.0,\"Jeryl Sasser\"],[0.0,0.0,\"Brandon Armstrong\"],[0.0,0.0,\"Raul Lopez\"],[2.1,48.74011010793195,\"Gerald Wallace\"],[-0.5,50.34544004508581,\"Samuel Dalembert\"],[3.5,37.09535011291847,\"Jamaal Tinsley\"],[2.4,48.0870738002082,\"Tony Parker\"],[0.0,0.0,\"Will Solomon\"],[0.0,0.0,\"Alton Ford\"],[0.0,0.0,\"Mike James\"],[0.0,0.0,\"Maurice Evans\"],[0.0,0.0,\"Ratko Varda\"],[0.0,0.0,\"Antonis Fotsis\"],[-2.8,45.517267785607146,\"Trenton Hassell\"],[4.7,54.23745630711925,\"Gilbert Arenas\"],[0.0,0.0,\"Omar Cook\"],[0.0,0.0,\"Terence Morris\"],[-2.6,30.282035378532054,\"Brian Scalabrine\"],[0.0,0.0,\"Jeff Trepagnier\"],[-6.2,12.285560630268364,\"Damone Brown\"],[2.0,47.998749983723535,\"Mehmet Okur\"],[-0.7,42.59485493186554,\"Earl Watson\"],[0.0,0.0,\"Jamison Brewer\"],[0.3,50.373438768197374,\"Bobby Simmons\"],[0.0,0.0,\"Sean Lampley\"],[-2.2,22.407402050810507,\"Loren Woods\"],[0.0,0.0,\"Ken Johnson\"],[-5.8,4.997499374687305,\"Ruben Boumtje-Boumtje\"],[-2.0,41.606770282411134,\"Jarron Collins\"],[0.0,0.0,\"Kenny Satterfield\"],[0.0,0.0,\"Alvin Jones\"],[0.0,0.0,\"Charlie Bell\"],[-2.9,37.98914318591563,\"Carlos Arroyo\"],[-26.0,2.4186773244895647,\"Paul Shirley\"],[0.0,0.0,\"Joe Crispin\"],[0.0,0.0,\"Tang Hamilton\"],[0.0,0.0,\"Victor Alexander\"],[-2.7,32.81717030255153,\"Oscar Torres\"],[0.0,0.0,\"Dean Oliver\"],[-4.7,32.525246604240685,\"Tierre Brown\"],[0.4,32.07052125135059,\"Chris Andersen\"],[-1.1,16.403810532921916,\"Mike Wilks\"],[0.0,0.0,\"Geno Carlisle\"],[0.0,0.0,\"Norman Richardson\"],[0.0,0.0,\"Mengke Bateer\"],[4.4,44.14702707997448,\"Yao Ming\"],[0.0,0.0,\"Jay Williams\"],[-0.7,50.76938053590963,\"Mike Dunleavy\"],[-0.2,47.30706430685939,\"Drew Gooden\"],[0.0,0.0,\"Nikoloz Tskitishvili\"],[0.0,0.0,\"Dajuan Wagner\"],[-4.2,16.2949890048035,\"Nene\"],[-1.0,41.697661804950165,\"Chris Wilcox\"],[4.8,51.73771996007043,\"Amar'e Stoudemire\"],[0.6,52.03735837517763,\"Caron Butler\"],[-1.6,36.14772929705723,\"Jared Jeffries\"],[-3.3,22.528315516256423,\"Melvin Ely\"],[0.0,0.0,\"Marcus Haislip\"],[0.3,47.648539676818324,\"Fred Jones\"],[-4.6,22.40026041515292,\"Bostjan Nachbar\"],[-2.4,36.34090899615295,\"Jiri Welsch\"],[-1.4,38.40499099509503,\"Juan Dixon\"],[0.0,0.0,\"Curtis Borchardt\"],[-6.2,17.811840631070865,\"Ryan Humphrey\"],[-3.4,33.33574157967196,\"Kareem Rush\"],[0.0,0.0,\"Qyntel Woods\"],[0.0,0.0,\"Casey Jacobsen\"],[0.3,53.83418987966662,\"Tayshaun Prince\"],[-2.6,33.78261387163521,\"Nenad Krstic\"],[0.0,0.0,\"Frank Williams\"],[-0.9,31.3898338107526,\"John Salmons\"],[0.0,0.0,\"Chris Jefferies\"],[-3.4,17.061750594043186,\"Dan Dickau\"],[0.0,0.0,\"Robert Archibald\"],[0.0,0.0,\"Roger Mason Jr.\"],[0.0,0.0,\"Vincent Yarbrough\"],[0.7,35.37951384629246,\"Dan Gadzuric\"],[4.6,50.56423307701473,\"Carlos Boozer\"],[0.0,0.0,\"David Andersen\"],[0.0,0.0,\"Tito Maddox\"],[0.0,0.0,\"Juan Carlos Navarro\"],[-9.0,14.584466622632005,\"Mario Kasun\"],[-4.1,29.650182686339946,\"Flip Murray\"],[-3.2,27.64169555822025,\"Lonny Baxter\"],[-3.1,25.116063916678247,\"Matt Barnes\"],[0.0,0.0,\"Jamal Sampson\"],[0.0,0.0,\"Chris Owens\"],[-1.2,31.203605560896325,\"Darius Songaila\"],[-1.5,34.624654029559196,\"Rasual Butler\"],[0.0,0.0,\"Tamar Slay\"],[0.0,0.0,\"Luis Scola\"],[0.0,0.0,\"Randy Holcomb\"],[-6.2,10.489677465648455,\"Corsley Edwards\"],[0.0,0.0,\"J.R. Bremer\"],[0.0,0.0,\"Predrag Savovic\"],[0.0,0.0,\"Junior Harrington\"],[0.0,0.0,\"Cezary Trybanski\"],[-2.0,21.22164775255053,\"Jannero Pargo\"],[5.6,1.795828499606797,\"Guy Rucker\"],[0.0,0.0,\"Maurice Carter\"],[0.0,0.0,\"Pat Burke\"],[-2.0,49.57206874843938,\"Smush Parker\"],[-3.5,35.34814940936329,\"Mike Batiste\"],[-1.4,24.885906319307182,\"Devin Brown\"],[-7.1,4.378355855797928,\"Maurice Baker\"],[0.0,0.0,\"Adam Harrington\"],[0.0,0.0,\"Richie Frahm\"],[-3.7,37.32191045485212,\"Reggie Evans\"],[0.0,0.0,\"Antoine Rigaudeau\"],[11.8,54.45851632205931,\"LeBron James\"],[-2.7,41.06425858740579,\"Darko Milicic\"],[2.3,51.32470165524589,\"Carmelo Anthony\"],[3.6,50.25460177933957,\"Chris Bosh\"],[8.2,43.93884006965443,\"Dwyane Wade\"],[0.3,45.636498551050124,\"Chris Kaman\"],[1.8,54.35702959752924,\"Kirk Hinrich\"],[0.3,47.517698457171406,\"T.J. Ford\"],[0.0,0.0,\"Michael Sweetney\"],[-2.6,40.32726538377392,\"Jarvis Hayes\"],[-0.2,36.27081011869834,\"Mickael Pietrus\"],[-3.2,38.05318646315969,\"Nick Collison\"],[-3.6,22.423202269078338,\"Marcus Banks\"],[-1.5,45.72829175320974,\"Luke Ridnour\"],[-5.1,7.338028799798124,\"Reece Gaines\"],[0.0,0.0,\"Troy Bell\"],[0.0,0.0,\"Zarko Cabarkapa\"],[1.4,50.2593938151533,\"David West\"],[-2.1,32.4498587567547,\"Sasha Pavlovic\"],[-4.4,31.097025581235258,\"Dahntay Jones\"],[-0.8,48.0372251488364,\"Boris Diaw\"],[0.0,0.0,\"Zoran Planinic\"],[-0.9,27.019869232350718,\"Travis Outlaw\"],[-0.1,39.18137312550442,\"Brian Cook\"],[0.4,43.91129315639281,\"Carlos Delfino\"],[0.0,0.0,\"Ndudi Ebi\"],[-0.7,46.40603409040682,\"Kendrick Perkins\"],[0.2,49.20326886159771,\"Leandro Barbosa\"],[2.2,43.762883817225756,\"Josh Howard\"],[0.0,0.0,\"Maciej Lampe\"],[-0.5,42.041190119532416,\"Jason Kapono\"],[-1.1,36.50566166135508,\"Luke Walton\"],[-6.2,22.57325113196296,\"Travis Hansen\"],[-1.0,42.20448238437868,\"Steve Blake\"],[0.0,0.0,\"Slavko Vranes\"],[0.0,0.0,\"Derrick Zimmerman\"],[-4.7,42.91967303385861,\"Willie Green\"],[-2.5,32.99722210530259,\"Zaza Pachulia\"],[-1.4,43.731167375225645,\"Keith Bogans\"],[0.7,41.34628157404242,\"Matt Bonner\"],[0.3,49.09263352751276,\"Mo Williams\"],[0.0,0.0,\"James Lang\"],[-0.1,42.09097290393749,\"James Jones\"],[-0.1,47.83455863703563,\"Kyle Korver\"],[0.0,0.0,\"Brandon Hunter\"],[-14.0,8.975429423338657,\"Andreas Glyniadakis\"],[0.0,0.0,\"Jerome Beasley\"],[0.0,0.0,\"Theron Smith\"],[0.5,42.02757031600411,\"Marquis Daniels\"],[-0.5,49.90435852708659,\"Udonis Haslem\"],[-1.0,41.23635127732169,\"Quinton Ross\"],[0.0,0.0,\"Kirk Penney\"],[0.0,0.0,\"Alex Scales\"],[-11.8,9.14904366587022,\"Britton Johnsen\"],[-3.8,16.28869751289731,\"Ronald Dupree\"],[0.0,0.0,\"Yuta Tabuse\"],[0.0,0.0,\"Desmond Penigar\"],[-1.7,4.110555518012949,\"Josh Davis\"],[-4.1,22.901819432816534,\"Linton Johnson\"],[0.0,0.0,\"Hiram Fuller\"],[-0.6,35.712509479639344,\"Matt Carroll\"],[0.0,0.0,\"Alex Garcia\"],[-3.9,10.626852779633301,\"Melvin Sanders\"],[0.0,0.0,\"Brandin Knight\"],[-2.6,37.17037350722575,\"Keith McLeod\"],[-4.9,35.03538687289367,\"Josh Powell\"],[0.0,0.0,\"Lynn Greer\"],[0.0,0.0,\"Desmond Ferguson\"],[5.3,54.17487117351245,\"Dwight Howard\"],[-1.1,52.135576464956536,\"Emeka Okafor\"],[1.1,54.76285237275356,\"Ben Gordon\"],[0.0,35.50692420735243,\"Shaun Livingston\"],[2.8,49.94263375780927,\"Devin Harris\"],[0.0,0.0,\"Josh Childress\"],[1.7,56.638488091873796,\"Luol Deng\"],[-7.7,24.51128991573746,\"Rafael Araujo\"],[3.2,57.17490708344002,\"Andre Iguodala\"],[-3.8,11.728952780761503,\"Luke Jackson\"],[-2.3,27.17756427643949,\"Andris Biedrins\"],[0.0,0.0,\"Robert Swift\"],[-3.5,26.656706473231086,\"Sebastian Telfair\"],[0.4,45.39563121417446,\"Kris Humphries\"],[0.4,49.63023272159823,\"Al Jefferson\"],[0.0,0.0,\"Kirk Snyder\"],[2.8,51.42791071004149,\"Josh Smith\"],[1.7,44.35752472805488,\"JR Smith\"],[0.8,56.096152571574194,\"Dorell Wright\"],[1.2,44.28097785731476,\"Jameer Nelson\"],[0.0,0.0,\"Pavel Podkolzin\"],[-1.8,10.232708992897873,\"Viktor Khryapa\"],[0.0,0.0,\"Sergei Monia\"],[1.7,46.3857736811622,\"Delonte West\"],[1.0,28.365383833116027,\"Tony Allen\"],[0.5,44.12399196204566,\"Kevin Martin\"],[-0.7,23.97623823705462,\"Sasha Vujacic\"],[-1.4,45.60157161034398,\"Beno Udrih\"],[-5.9,26.500220124871927,\"David Harrison\"],[-2.6,36.32418845159063,\"Anderson Varejao\"],[0.0,0.0,\"Jackson Vroman\"],[0.0,0.0,\"Peter John Ramos\"],[0.0,0.0,\"Lionel Chalmers\"],[0.0,0.0,\"Donta Smith\"],[0.0,0.0,\"Andre Emmett\"],[-6.8,23.87868645186889,\"Antonio Burks\"],[-3.8,23.207039162001408,\"Royal Ivey\"],[-1.7,38.598726231142265,\"Chris Duhon\"],[-8.3,17.83615242515417,\"Justin Reed\"],[-0.4,50.988707900213846,\"Trevor Ariza\"],[-1.8,36.09741449651664,\"Bernard Robinson\"],[0.0,0.0,\"Ha Ha\"],[-2.1,5.850925852660697,\"Pape Sow\"],[0.0,0.0,\"Vassilis Spanoulis\"],[-5.4,12.126898476802179,\"Matt Freije\"],[0.0,0.0,\"Luis Flores\"],[-2.6,15.398593009319617,\"DJ Mbenga\"],[0.0,0.0,\"Horace Jenkins\"],[-4.1,3.4544657088084256,\"Tony Bobbitt\"],[-2.0,43.53732115476709,\"Andres Nocioni\"],[0.0,0.0,\"Gerald Fitch\"],[-5.2,16.459748884273203,\"Andre Brown\"],[0.0,0.0,\"John Edwards\"],[3.1,5.640035460881429,\"Desmon Farmer\"],[0.0,0.0,\"Ibrahim Kutluay\"],[-7.1,12.256222909200044,\"James Thomas\"],[0.0,0.0,\"Erik Daniels\"],[0.0,0.0,\"Awvee Storey\"],[-9.6,14.234172496730078,\"Earl Barron\"],[-0.2,5.02908208987154,\"Andre Barrett\"],[0.0,22.720438669474078,\"Damien Wilkins\"],[0.0,0.0,\"Jackie Butler\"],[0.0,0.0,\"Kasib Powell\"],[0.0,0.0,\"Billy Thomas\"],[0.0,0.0,\"Jared Reiner\"],[0.0,0.0,\"Mark Jones\"],[3.1,47.21620484537062,\"Andrew Bogut\"],[1.3,38.723442512256064,\"Marvin Williams\"],[7.1,53.66230831163835,\"Chris Paul\"],[1.6,51.40855959857269,\"Raymond Felton\"],[-1.6,33.757320193799,\"Martell Webster\"],[0.0,42.98321377778388,\"Charlie Villanueva\"],[-4.2,27.30732502461565,\"Channing Frye\"],[-1.1,14.673445403176448,\"Ike Diogu\"],[3.8,52.929197991278876,\"Deron Williams\"],[0.0,0.0,\"Andrew Bynum\"],[0.0,0.0,\"Yaroslav Korolev\"],[-3.1,18.198534739551615,\"Sean May\"],[0.0,0.0,\"Rashad McCants\"],[-3.3,37.31029795288869,\"Antoine Wright\"],[-6.5,18.183371524555064,\"Joey Graham\"],[4.8,49.23636867194818,\"Danny Granger\"],[0.0,0.0,\"Gerald Green\"],[-1.9,41.87684324301439,\"Hakim Warrick\"],[0.0,0.0,\"Julius Hodge\"],[0.7,33.404365982108835,\"Nate Robinson\"],[-1.4,52.11959004699356,\"Jarrett Jack\"],[-1.1,37.54341930796035,\"Francisco Garcia\"],[0.8,37.13154543870575,\"Luther Head\"],[-4.7,29.890020631196176,\"Johan Petro\"],[-0.6,37.518240008472276,\"Jason Maxiell\"],[0.0,0.0,\"Linas Kleiza\"],[-2.3,33.751345652185925,\"Ian Mahinmi\"],[0.0,0.0,\"Wayne Simien\"],[0.8,53.14188555179427,\"David Lee\"],[-3.5,20.03971057675235,\"Salim Stoudamire\"],[0.0,0.0,\"Daniel Ewing\"],[0.2,44.49938201818088,\"Brandon Bass\"],[1.1,36.93133267746143,\"CJ Miles\"],[2.0,44.85836971328015,\"Ersan Ilyasova\"],[0.7,38.18138726308055,\"Ronny Turiaf\"],[-1.4,36.82716388754366,\"Travis Diener\"],[-1.4,23.506275757763074,\"Von Wafer\"],[0.8,56.80381442591096,\"Monta Ellis\"],[-1.8,9.845895930115589,\"Roko Ukic\"],[0.0,0.0,\"Chris Taft\"],[0.0,0.0,\"Mile Ilic\"],[0.0,0.0,\"Martynas Andriuskevicius\"],[4.0,41.00884051030948,\"Lou Williams\"],[0.0,0.0,\"Bracey Wright\"],[0.0,0.0,\"Mickael Gelabale\"],[-4.8,25.02025845856379,\"Andray Blatche\"],[-0.1,49.33452138209106,\"Ryan Gomes\"],[0.0,0.0,\"Robert Whaley\"],[-10.9,7.791127432321121,\"Orien Greene\"],[0.0,0.0,\"Dijon Thompson\"],[0.0,0.0,\"Lawrence Roberts\"],[1.0,48.216283556491575,\"Amir Johnson\"],[0.1,32.98408707240508,\"Marcin Gortat\"],[0.0,0.0,\"Alex Acker\"],[0.0,0.0,\"Uros Slokar\"],[0.0,0.0,\"Fabricio Oberto\"],[0.0,0.0,\"Arvydas Macijauskas\"],[-3.5,27.164468213703962,\"Ronnie Price\"],[0.0,0.0,\"Sarunas Jasikevicius\"],[2.0,40.16997220146748,\"Jose Calderon\"],[0.0,0.0,\"Donell Taylor\"],[-3.8,6.085912695178374,\"Shavlik Randolph\"],[0.0,0.0,\"Deng Gai\"],[0.0,0.0,\"Rawle Marshall\"],[0.0,0.0,\"Alan Anderson\"],[0.0,0.0,\"Eddie Basden\"],[-1.2,19.401331569422418,\"James Singleton\"],[0.0,0.0,\"Matt Walsh\"],[-1.4,16.606725545192013,\"Anthony Roberson\"],[0.0,0.0,\"Luke Schenscher\"],[0.0,0.0,\"Will Bynum\"],[-5.7,7.243157690768116,\"Dwayne Jones\"],[0.0,0.0,\"Kevin Burleson\"],[0.0,0.0,\"Devin Green\"],[4.2,11.305603330502402,\"Stephen Graham\"],[0.0,0.0,\"Esteban Batista\"],[0.0,0.0,\"Sharrod Ford\"],[-3.5,4.501666358138951,\"Jawad Williams\"],[0.0,0.0,\"Will Conroy\"],[0.0,0.0,\"Anthony Grundy\"],[0.0,0.0,\"Aaron Miles\"],[0.0,0.0,\"Noel Felix\"],[0.0,0.0,\"Roger Powell\"],[-0.5,48.729405906495515,\"Kelenna Azubuike\"],[-1.5,29.286401850233037,\"Chuck Hayes\"],[0.0,0.0,\"Boniface Ndong\"],[0.0,0.0,\"Keith Langford\"],[0.0,0.0,\"John Lucas III\"],[-8.3,14.492814311467148,\"Andre Owens\"],[0.0,0.0,\"Jamario Moon\"],[-1.4,48.50822954235013,\"Andrea Bargnani\"],[2.1,56.669406796495316,\"LaMarcus Aldridge\"],[-4.7,15.52170523278074,\"Adam Morrison\"],[-6.0,31.831849878175003,\"Tyrus Thomas\"],[-3.5,22.641223465175198,\"Shelden Williams\"],[4.7,49.17867085095601,\"Brandon Roy\"],[-0.8,49.94256701452179,\"Randy Foye\"],[1.9,49.21495368957152,\"Rudy Gay\"],[0.0,0.0,\"Patrick O'Bryant\"],[0.0,0.0,\"Mouhamed Sene\"],[1.8,42.52242545606577,\"JJ Redick\"],[-6.1,18.31169935678644,\"Hilton Armstrong\"],[0.1,48.4607917117883,\"Thabo Sefolosha\"],[2.4,42.20710840604933,\"Ronnie Brewer\"],[0.0,0.0,\"Cedric Simmons\"],[-1.3,29.274818530607494,\"Rodney Carney\"],[-6.4,22.67572123072016,\"Shawne Williams\"],[0.0,0.0,\"Oleksiy Pecherov\"],[0.0,0.0,\"Quincy Douby\"],[-2.4,9.518228126424933,\"Renaldo Balkman\"],[2.2,44.24179773321457,\"Rajon Rondo\"],[0.0,0.0,\"Marcus Williams\"],[-2.0,32.33362542823384,\"Josh Boone\"],[4.1,38.85843966673559,\"Kyle Lowry\"],[-0.8,39.602125363840386,\"Shannon Brown\"],[0.4,28.820478830165193,\"Jordan Farmar\"],[0.0,0.0,\"Sergio Rodriguez\"],[0.0,0.0,\"Maurice Ager\"],[-5.8,21.68740033598617,\"Mardy Collins\"],[-5.4,21.848035762206795,\"Joel Freeland\"],[0.0,0.0,\"James White\"],[-0.4,34.07303430378149,\"Steve Novak\"],[-4.2,25.980280983853888,\"Solomon Jones\"],[18.2,2.8254793103707785,\"Paul Davis\"],[0.0,0.0,\"P.J. Tucker\"],[-0.6,38.21227987615146,\"Craig Smith\"],[0.0,0.0,\"Bobby Jones\"],[0.0,0.0,\"Kosta Perovic\"],[0.0,0.0,\"David Noel\"],[0.0,0.0,\"James Augustine\"],[-2.2,30.258249563824194,\"Daniel Gibson\"],[0.0,0.0,\"Marcus Vinicius\"],[0.0,0.0,\"Alexander Johnson\"],[0.0,0.0,\"Dee Brown\"],[1.9,51.03869447128649,\"Paul Millsap\"],[-0.3,35.0260855173208,\"Leon Powe\"],[-4.6,34.97484810546001,\"Ryan Hollins\"],[0.0,0.0,\"Cheikh Samb\"],[0.0,0.0,\"Guillermo Diaz\"],[0.0,0.0,\"Hassan Adams\"],[0.0,0.0,\"Damir Markota\"],[0.0,0.0,\"Will Blalock\"],[-1.0,31.019133880021005,\"Chris Quinn\"],[0.0,0.0,\"Allan Ray\"],[-8.5,8.00312438988674,\"Lou Amundson\"],[0.0,0.0,\"Tarence Kinsey\"],[0.0,0.0,\"Jorge Garbajosa\"],[0.0,0.0,\"Pooh Jeter\"],[0.0,0.0,\"Justin Williams\"],[-3.6,23.284257915309798,\"Yakhouba Diawara\"],[-5.5,16.810760442843357,\"Pops Mensah-Bonsu\"],[0.0,0.0,\"Robert Hite\"],[-1.3,39.31365326872243,\"J.J. Barea\"],[0.0,0.0,\"Darius Washington\"],[0.0,0.0,\"Ivan McFarlin\"],[0.0,0.0,\"Walter Herrmann\"],[0.0,0.0,\"Mike Hall\"],[0.0,0.0,\"Kevinn Pinkney\"],[0.0,0.0,\"Mike Harris\"],[0.0,0.0,\"Chris McCray\"],[0.0,0.0,\"Cedric Bozeman\"],[0.0,0.0,\"Steven Smith\"],[0.0,0.0,\"Renaldo Major\"],[-0.1,9.15323258016897,\"Dontell Jefferson\"],[0.0,0.0,\"Jeremy Richardson\"],[0.0,0.0,\"Lance Allred\"],[0.0,0.0,\"Walker Russell\"],[0.0,0.0,\"Randolph Morris\"],[0.0,0.0,\"Greg Oden\"],[10.2,55.87223520378141,\"Kevin Durant\"],[3.4,18.654311387272728,\"Al Horford\"],[4.6,52.50309514685777,\"Mike Conley\"],[0.0,0.0,\"Jeff Green\"],[0.0,0.0,\"Yi Jianlian\"],[-0.1,35.881146395658405,\"Corey Brewer\"],[2.5,33.893337595069184,\"Brandan Wright\"],[2.9,39.69292548217289,\"Joakim Noah\"],[0.6,49.69490248841756,\"Spencer Hawes\"],[-1.0,15.28746763419851,\"Acie Law\"],[-0.1,52.1307171125304,\"Thaddeus Young\"],[0.0,0.0,\"Julian Wright\"],[-4.1,51.51747276410209,\"Al Thornton\"],[0.6,40.53965137163034,\"Rodney Stuckey\"],[-1.3,45.097339167627176,\"Nick Young\"],[0.4,10.349798709797838,\"Sean Williams\"],[-1.2,44.33625303668917,\"Marco Belinelli\"],[0.0,0.0,\"Javaris Crittenton\"],[-0.4,30.774177486977617,\"Jason Smith\"],[-4.8,20.994046775217015,\"Daequan Cook\"],[1.8,46.25575639852838,\"Jared Dudley\"],[0.5,32.85364008244247,\"Wilson Chandler\"],[0.9,42.670032419329964,\"Rudy Fernandez\"],[0.0,0.0,\"Morris Almond\"],[0.7,54.031688233233375,\"Aaron Brooks\"],[1.4,48.210925456096874,\"Arron Afflalo\"],[0.0,0.0,\"Tiago Splitter\"],[-4.0,9.771557364787524,\"Alando Tucker\"],[0.7,38.298281075439014,\"Carl Landry\"],[0.0,0.0,\"Gabe Pruitt\"],[0.0,0.0,\"Marcus Williams\"],[0.0,0.0,\"Nick Fazekas\"],[-1.9,47.935129776257725,\"Glen Davis\"],[0.0,0.0,\"Jermareo Davidson\"],[-1.4,38.56738691347043,\"Josh McRoberts\"],[8.4,4.121083999790989,\"Kyrylo Fesenko\"],[0.0,0.0,\"Sun Sun\"],[-5.8,14.955935276671934,\"Chris Richard\"],[0.0,0.0,\"Derrick Byars\"],[-4.4,17.415988822535084,\"Stephane Lasme\"],[-2.9,27.575139769969127,\"Dominic McGuire\"],[2.8,49.68822798208848,\"Marc Gasol\"],[-1.3,17.633160049558132,\"Aaron Gray\"],[0.0,0.0,\"JamesOn Curry\"],[0.0,0.0,\"Taurean Green\"],[0.0,0.0,\"Demetris Nichols\"],[-0.4,41.3143639266862,\"Ramon Sessions\"],[0.0,0.0,\"DJ Strawberry\"],[-5.5,22.318975484252565,\"Joel Anthony\"],[0.0,0.0,\"Mustafa Shakur\"],[0.0,0.0,\"Coby Karl\"],[0.0,0.0,\"Darryl Watkins\"],[-0.4,42.28409866604703,\"C.J. Watson\"],[0.0,36.91090624734104,\"Anthony Tolliver\"],[0.0,0.0,\"Trey Johnson\"],[-7.0,3.644630754045367,\"Courtney Sims\"],[-2.1,11.92560271013587,\"Mario West\"],[0.0,0.0,\"Thomas Gardner\"],[0.0,0.0,\"Ivan Johnson\"],[0.0,0.0,\"Andre Ingram\"],[0.0,0.0,\"Eric Dawson\"],[0.0,0.0,\"Carldell Johnson\"],[0.0,0.0,\"Blake Ahearn\"],[0.0,0.0,\"Mike Taylor\"],[-2.0,28.834383410551144,\"Michael Beasley\"],[-0.5,53.97439207624297,\"O.J. Mayo\"],[-3.1,17.632025786430013,\"Derrick Rose\"],[5.5,37.572640755386495,\"Russell Westbrook\"],[8.9,52.88194398847304,\"Kevin Love\"],[0.0,0.0,\"Danilo Gallinari\"],[-0.5,45.3572118484665,\"Eric Gordon\"],[0.0,0.0,\"Joe Alexander\"],[-0.6,35.019803921019744,\"D.J. Augustin\"],[3.7,23.095670589961227,\"Brook Lopez\"],[-1.8,41.05780477976544,\"Jerryd Bayless\"],[-0.9,40.70962212221246,\"Jason Thompson\"],[-0.8,41.87937041869983,\"Brandon Rush\"],[0.0,0.0,\"Anthony Randolph\"],[1.2,51.02564714598601,\"Robin Lopez\"],[-2.8,36.05560520455412,\"Marreese Speights\"],[1.4,44.01069945668519,\"Roy Hibbert\"],[1.6,37.860423487682624,\"JaVale McGee\"],[-0.9,43.12128244846157,\"JJ Hickson\"],[-2.6,30.831450392956427,\"Alexis Ajinca\"],[1.4,28.19136983783039,\"Ryan Anderson\"],[-1.1,41.50447767008603,\"Courtney Lee\"],[-1.2,36.71847854509593,\"Kosta Koufos\"],[0.9,45.99766298411257,\"Serge Ibaka\"],[3.4,54.3689096206033,\"Nicolas Batum\"],[2.3,35.69530781489354,\"George Hill\"],[-3.2,34.074990829052325,\"Darrell Arthur\"],[0.0,0.0,\"Donte Greene\"],[-3.8,33.13356807428578,\"DJ White\"],[0.0,0.0,\"J.R. Giddens\"],[-5.7,29.789399680647023,\"Nikola Pekovic\"],[0.0,0.0,\"Walter Sharpe\"],[0.3,2.5232254490367425,\"Joey Dorsey\"],[0.4,42.72056491511635,\"Mario Chalmers\"],[2.5,53.57644071791257,\"DeAndre Jordan\"],[-0.7,31.168226342436185,\"Omer Asik\"],[-1.1,31.76092987723549,\"Luc Mbah a Moute\"],[0.0,0.0,\"Kyle Weaver\"],[0.0,0.0,\"Sonny Weems\"],[0.0,0.0,\"Chris Douglas-Roberts\"],[0.0,0.0,\"Nathan Jawai\"],[0.0,0.0,\"Sean Singletary\"],[0.0,0.0,\"Patrick Ewing\"],[1.9,41.85594342503822,\"Goran Dragic\"],[0.0,0.0,\"Henry Walker\"],[0.0,0.0,\"Malik Hairston\"],[-3.5,22.041400439476003,\"Darnell Jackson\"],[0.0,0.0,\"Sasha Kaun\"],[0.0,0.0,\"Joe Crawford\"],[-4.8,18.236867421060367,\"Semih Erden\"],[-1.0,43.08627004820294,\"Anthony Morrow\"],[-5.3,22.783217507630482,\"Bobby Brown\"],[0.0,0.0,\"Othello Hunter\"],[0.0,0.0,\"Steven Hill\"],[-1.1,12.976388814561123,\"Hamed Haddadi\"],[0.0,0.0,\"Rob Kurz\"],[0.0,0.0,\"DeMarcus Nelson\"],[-1.7,17.955639782530724,\"Othyus Jeffers\"],[-1.9,4.640043103248073,\"Oliver Lafayette\"],[-4.1,27.98100546203919,\"Chris Hunter\"],[-2.9,28.12060336005138,\"Gary Forbes\"],[21.2,2.262741699796952,\"Trey Gilder\"],[-4.4,19.742087022399634,\"Cartier Martin\"],[0.0,0.0,\"Greg Stiemsma\"],[4.0,48.53646395580677,\"Blake Griffin\"],[-1.5,27.747612509907945,\"Hasheem Thabeet\"],[8.8,54.59729846796451,\"James Harden\"],[1.2,51.86344248762002,\"Tyreke Evans\"],[1.8,48.19356803557918,\"Ricky Rubio\"],[0.0,0.0,\"Jonny Flynn\"],[7.4,53.34658689488326,\"Stephen Curry\"],[-1.6,21.40031152421228,\"Jordan Hill\"],[-0.9,45.8287209800434,\"DeMar DeRozan\"],[3.3,34.246265003160126,\"Brandon Jennings\"],[-2.4,17.832507769052928,\"Terrence Williams\"],[-1.1,46.1873539690971,\"Gerald Henderson\"],[-1.9,39.18424428261951,\"Tyler Hansbrough\"],[-0.7,36.919890754623445,\"Earl Clark\"],[-3.8,12.174700543887434,\"Austin Daye\"],[-3.5,29.638376023887226,\"James Johnson\"],[2.1,42.788803052512115,\"Jrue Holiday\"],[2.0,50.12653987659631,\"Ty Lawson\"],[-0.1,50.417473822739964,\"Jeff Teague\"],[-4.5,31.02762210246433,\"Eric Maynor\"],[0.1,48.700171115373614,\"Darren Collison\"],[-0.3,35.8166627888938,\"Omri Casspi\"],[0.0,0.0,\"Byron Mullens\"],[0.0,0.0,\"Rodrigue Beaubois\"],[-0.9,41.740228397394645,\"Taj Gibson\"],[-1.9,18.654802777479773,\"DeMarre Carroll\"],[-0.5,40.753343421123134,\"Wayne Ellington\"],[-5.6,25.611878754463387,\"Toney Douglas\"],[0.0,0.0,\"Christian Eyenga\"],[-3.2,13.55501137341216,\"Victor Claver\"],[-1.0,19.212842926889632,\"Jeff Ayres\"],[0.0,0.0,\"Jermaine Taylor\"],[-1.4,44.83358116412295,\"Dante Cunningham\"],[-8.9,2.579728667902886,\"DaJuan Summers\"],[-0.9,39.7121727769543,\"Sam Young\"],[-8.4,13.43012782267291,\"DeJuan Blair\"],[0.0,0.0,\"Jon Brockman\"],[-0.1,29.86014623764145,\"Jonas Jerebko\"],[0.0,0.0,\"Derrick Brown\"],[-1.0,40.782716927639825,\"Jodie Meeks\"],[0.6,41.84136709047638,\"Patrick Beverley\"],[0.3,41.550050140362885,\"Marcus Thornton\"],[-2.5,27.400486613683835,\"Chase Budinger\"],[0.0,28.94713572474256,\"Nick Calathes\"],[2.8,46.91018013182213,\"Danny Green\"],[0.0,0.0,\"Taylor Griffin\"],[-1.0,23.833379953334358,\"AJ Price\"],[-1.2,30.33630937781765,\"Nando De Colo\"],[4.0,39.08277540468857,\"Patty Mills\"],[-2.0,11.464147009990189,\"Lester Hudson\"],[0.0,0.0,\"Garrett Temple\"],[0.0,0.0,\"Marcus Landry\"],[0.0,0.0,\"Jerel McNeal\"],[0.0,0.0,\"Antonio Anderson\"],[0.0,0.0,\"Garret Siler\"],[0.0,0.0,\"Larry Owens\"],[0.3,47.19860520538006,\"Wesley Matthews\"],[-2.6,50.40368703444888,\"Alonzo Gee\"],[0.0,0.0,\"Dionte Christmas\"],[-2.4,27.324256623008065,\"Reggie Williams\"],[0.0,0.0,\"Cedric Jackson\"],[-4.7,15.876030150303098,\"Mickell Gladness\"],[0.3,28.160581196653826,\"Sundiata Gaines\"],[0.0,0.0,\"Shane Edwards\"],[0.0,0.0,\"Zabian Dowdell\"],[-12.6,11.71117699749547,\"Terrel Harris\"],[3.5,52.76376597628338,\"John Wall\"],[-3.3,49.567748250920886,\"Evan Turner\"],[-0.1,34.43271215961168,\"Derrick Favors\"],[-3.3,30.863948764429562,\"Wesley Johnson\"],[3.3,47.39024161153855,\"DeMarcus Cousins\"],[-1.7,36.224945364578126,\"Ekpe Udoh\"],[2.1,48.10597675965015,\"Greg Monroe\"],[0.1,48.38272763428422,\"Al-Farouq Aminu\"],[2.6,53.78621260756952,\"Gordon Hayward\"],[4.9,53.093627991815836,\"Paul George\"],[1.5,18.166360853695135,\"Cole Aldrich\"],[0.0,0.0,\"Xavier Henry\"],[1.5,42.8956097209648,\"Ed Davis\"],[2.5,46.435869756040965,\"Patrick Patterson\"],[-3.0,24.175021544285478,\"Larry Sanders\"],[-0.4,28.80231472179507,\"Luke Babbitt\"],[-3.8,35.14451118833025,\"Kevin Seraphin\"],[2.1,52.910994446649084,\"Eric Bledsoe\"],[-0.1,50.359937781269444,\"Avery Bradley\"],[0.0,0.0,\"James Anderson\"],[0.0,0.0,\"Craig Brackins\"],[-2.8,10.897476772170702,\"Elliot Williams\"],[-1.0,29.780614500040123,\"Trevor Booker\"],[14.0,0.6244997998398398,\"Damion James\"],[0.0,0.0,\"Dominique Jones\"],[-2.0,16.441056332648856,\"Quincy Pondexter\"],[-0.6,43.12244195311764,\"Jordan Crawford\"],[-1.1,41.2980023729962,\"Greivis Vasquez\"],[0.0,0.0,\"Daniel Orton\"],[-8.5,11.86753273993095,\"Lazar Hayward\"],[0.0,0.0,\"Tibor Pleiss\"],[-24.3,1.7146428199482247,\"Dexter Pittman\"],[4.1,33.7965481472098,\"Hassan Whiteside\"],[0.0,0.0,\"Armon Johnson\"],[0.0,0.0,\"Nemanja Bjelica\"],[0.0,0.0,\"Darington Hobson\"],[0.0,0.0,\"Andy Rautins\"],[-1.4,17.949791085135224,\"Landry Fields\"],[-1.2,37.04465773450566,\"Lance Stephenson\"],[-2.3,18.42118345818205,\"Jarvis Varnado\"],[0.0,0.0,\"Devin Ebanks\"],[-0.2,10.371435130523983,\"Jerome Jordan\"],[0.0,0.0,\"Gani Lawal\"],[0.0,0.0,\"Solomon Alabi\"],[0.0,0.0,\"Luke Harangody\"],[0.0,0.0,\"Pape Sy\"],[0.0,0.0,\"Willie Warren\"],[2.2,14.665208260823745,\"Jeremy Evans\"],[-21.1,1.711724276862369,\"Hamady Ndiaye\"],[0.0,0.0,\"Derrick Caracter\"],[-2.0,4.081870486268115,\"Ryan Reid\"],[0.0,0.0,\"Ben Uzoh\"],[-3.0,16.222309741012005,\"Donald Sloan\"],[-2.5,26.212719558768928,\"Timofey Mozgov\"],[0.0,0.0,\"Gary Neal\"],[-0.2,45.32135258352292,\"Jeremy Lin\"],[0.0,0.0,\"Sherron Collins\"],[0.0,0.0,\"Samardo Samuels\"],[-1.4,31.724858812399308,\"Ish Smith\"],[-4.3,7.921805349792432,\"Jeff Adrien\"],[0.0,0.0,\"Jerome Dyson\"],[0.0,0.0,\"Elijah Millsap\"],[0.0,0.0,\"Marcus Cousin\"],[0.0,0.0,\"Manny Harris\"],[-4.2,11.784877315158313,\"Chris Johnson\"],[0.0,0.0,\"Justin Dentmon\"],[-9.6,6.498589590570149,\"Lance Thomas\"],[0.0,0.0,\"Jerry Smith\"],[-7.2,7.627472276798736,\"Luke Zeller\"],[0.0,0.0,\"Arinze Onuaku\"],[0.0,0.0,\"Courtney Fortson\"],[7.3,43.94798061344799,\"Kyrie Irving\"],[-2.9,28.36044781028678,\"Derrick Williams\"],[2.2,42.77499269433018,\"Enes Freedom\"],[-0.7,48.336132102875894,\"Tristan Thompson\"],[2.4,41.560076997041286,\"Jonas Valanciunas\"],[0.0,0.0,\"Jan Vesely\"],[-2.4,38.66380736554537,\"Bismack Biyombo\"],[-2.8,33.76075137394501,\"Brandon Knight\"],[4.0,53.71359232075248,\"Kemba Walker\"],[-4.7,22.56021572000882,\"Jimmer Fredette\"],[1.8,51.63734113991541,\"Klay Thompson\"],[-2.3,25.554647326856223,\"Alec Burks\"],[-0.3,50.80047571955729,\"Markieff Morris\"],[0.1,45.221713073846836,\"Marcus Morris Sr.\"],[9.4,49.74414538415551,\"Kawhi Leonard\"],[1.9,45.13116070595426,\"Nikola Vucevic\"],[-1.5,36.2812623815655,\"Iman Shumpert\"],[0.0,0.0,\"Chris Singleton\"],[1.9,51.652524946350205,\"Tobias Harris\"],[-4.5,23.381474147994457,\"Donatas Motiejunas\"],[0.0,0.0,\"Nolan Smith\"],[-0.1,45.67170896736841,\"Kenneth Faried\"],[0.7,40.97452460574338,\"Nikola Mirotic\"],[2.7,49.236284046084045,\"Reggie Jackson\"],[-1.1,17.793538152936307,\"MarShon Brooks\"],[-3.3,17.426273267684056,\"Jordan Hamilton\"],[0.0,0.0,\"JaJuan Johnson\"],[-3.1,44.88139926517443,\"Norris Cole\"],[-1.3,44.751796984404216,\"Cory Joseph\"],[4.6,50.134552290145464,\"Jimmy Butler\"],[-1.7,43.05645518773381,\"Bojan Bogdanovic\"],[0.0,0.0,\"Justin Harper\"],[-1.4,48.3468199574698,\"Kyle Singler\"],[-1.6,32.525938367196574,\"Shelvin Mack\"],[0.0,0.0,\"Tyler Honeycutt\"],[0.0,0.0,\"Jordan Williams\"],[0.0,0.0,\"Trey Thompkins\"],[1.7,52.75015007877542,\"Chandler Parsons\"],[0.0,0.0,\"Jeremy Tyler\"],[-2.8,28.705632432213246,\"Jon Leuer\"],[0.0,0.0,\"Darius Morris\"],[1.6,32.95767487753543,\"Davis Bertans\"],[0.0,0.0,\"Malcolm Lee\"],[0.0,0.0,\"Charles Jenkins\"],[0.0,0.0,\"Josh Harrellson\"],[0.0,0.0,\"Andrew Goudelock\"],[0.0,0.0,\"Travis Leslie\"],[0.0,0.0,\"Keith Benson\"],[0.0,0.0,\"Josh Selby\"],[0.0,32.71159325580657,\"Lavoy Allen\"],[1.2,11.638585251939643,\"Vernon Macklin\"],[41.5,1.1832159566199232,\"DeAndre Liggins\"],[-1.5,22.456365096188943,\"E'Twaun Moore\"],[3.2,41.54581808076476,\"Isaiah Thomas\"],[-3.9,7.210871422142174,\"Edwin Ubiles\"],[-2.6,11.07828205694967,\"Dwight Buycks\"],[0.0,0.0,\"Cory Higgins\"],[0.0,0.0,\"D.J. Kennedy\"],[0.0,0.0,\"Mychel Thompson\"],[0.0,0.0,\"Dennis Horner\"],[-0.2,11.202975795147779,\"Chris Wright\"],[0.0,0.0,\"Jeff Foote\"],[0.0,0.0,\"Xavier Silas\"],[-2.9,10.957797832289707,\"Julyan Stone\"],[-7.6,20.59069369075911,\"Jeremy Pargo\"],[-9.1,7.919911615668448,\"Malcolm Thomas\"],[0.0,0.0,\"Brad Wanamaker\"],[-5.5,13.854241227869537,\"Greg Smith\"],[0.0,0.0,\"Gustavo Ayon\"],[0.0,0.0,\"Josh Akognon\"],[9.4,43.01027009137852,\"Anthony Davis\"],[-2.4,34.338947761009365,\"Michael Kidd-Gilchrist\"],[2.9,55.02410078017332,\"Bradley Beal\"],[-0.1,37.20517437131561,\"Dion Waiters\"],[-2.1,23.67294517657938,\"Thomas Robinson\"],[4.4,51.72776494946085,\"Damian Lillard\"],[-0.2,44.21500499453404,\"Terrence Ross\"],[2.1,51.44793484679438,\"Andre Drummond\"],[-0.5,51.32708836472219,\"Harrison Barnes\"],[-1.2,45.349660050177555,\"Austin Rivers\"],[2.0,15.925974590795597,\"Meyers Leonard\"],[1.6,44.35493208201316,\"Jeremy Lamb\"],[0.0,0.0,\"Kendall Marshall\"],[0.2,30.975366556884087,\"John Henson\"],[0.7,37.618213673698015,\"Maurice Harkless\"],[0.0,0.0,\"Royce White\"],[0.9,41.602584054358935,\"Tyler Zeller\"],[-0.6,35.64907665938446,\"Terrence Jones\"],[-4.9,22.183251940747258,\"Andrew Nicholson\"],[-0.6,42.86274606228584,\"Evan Fournier\"],[0.0,0.0,\"Jared Sullinger\"],[0.0,0.0,\"Fab Melo\"],[2.2,3.5962943891363093,\"John Jenkins\"],[0.0,0.0,\"Jared Cunningham\"],[0.0,0.0,\"Tony Wroten\"],[-1.3,44.31386163869416,\"Miles Plumlee\"],[0.0,0.0,\"Arnett Moultrie\"],[0.0,0.0,\"Perry Jones III\"],[0.0,0.0,\"Marquis Teague\"],[-1.8,22.441590852700262,\"Festus Ezeli\"],[-2.4,26.818059835367155,\"Tomas Satoransky\"],[0.0,0.0,\"Bernard James\"],[2.2,48.04362600803566,\"Jae Crowder\"],[5.5,52.990549471894795,\"Draymond Green\"],[0.0,0.0,\"Orlando Johnson\"],[-0.1,29.59549515269736,\"Quincy Acy\"],[0.0,0.0,\"Quincy Miller\"],[-0.3,29.816885596364134,\"Khris Middleton\"],[0.8,48.51156219569382,\"Will Barton\"],[0.0,0.0,\"Tyshawn Taylor\"],[0.0,0.0,\"Doron Lamb\"],[-1.6,38.494350234807186,\"Mike Scott\"],[0.0,0.0,\"Kim English\"],[0.0,0.0,\"Justin Hamilton\"],[0.0,0.0,\"Darius Miller\"],[0.0,0.0,\"Kevin Murphy\"],[-4.5,17.146865602785834,\"Kostas Papanikolaou\"],[0.4,27.645765197102666,\"Kyle O'Quinn\"],[0.0,0.0,\"Kris Joseph\"],[0.0,0.0,\"Furkan Aldemir\"],[0.0,0.0,\"Tornike Shengelia\"],[0.0,0.0,\"Darius Johnson-Odom\"],[-4.1,27.23582199971207,\"Robbie Hummel\"],[-3.5,33.66479367727255,\"Robert Sacre\"],[0.0,0.0,\"Ognjen Kuzmic\"],[-2.6,27.425960937282273,\"Hollis Thompson\"],[-2.0,14.957049619939522,\"Viacheslav Kravtsov\"],[0.0,0.0,\"Mirza Teletovic\"],[0.0,0.0,\"Chris Copeland\"],[0.0,0.0,\"Pablo Prigioni\"],[-1.9,25.76929697657014,\"Alexey Shved\"],[-2.1,36.37980208852159,\"Kent Bazemore\"],[0.0,0.0,\"Maalik Wayns\"],[0.0,0.0,\"Chris Smith\"],[0.0,0.0,\"Brian Roberts\"],[-4.3,16.21331757126428,\"Henry Sims\"],[0.0,0.0,\"Kevin Jones\"],[0.0,0.0,\"Scott Machado\"],[-4.2,14.152738250953417,\"Ben Hansbrough\"],[0.0,0.0,\"Tony Mitchell\"],[-0.5,20.630882999361248,\"Willie Reed\"],[-2.0,29.272085679021917,\"Chris Johnson\"],[-4.6,32.366211805935365,\"Diante Garrett\"],[0.0,0.0,\"DeQuan Jones\"],[-1.4,25.640852819930405,\"Justin Holiday\"],[0.0,0.0,\"Chris Wright\"],[-2.5,38.02788450597798,\"JaMychal Green\"],[0.0,0.0,\"James Nunnally\"],[-4.9,15.62167297912317,\"Jorge Gutierrez\"],[-11.9,4.257346591481601,\"Toure' Murry\"],[0.0,0.0,\"Tim Ohlbrecht\"],[0.0,0.0,\"Glen Rice Jr.\"],[0.0,0.0,\"Aron Baynes\"],[3.1,33.569827722723424,\"Nerlens Noel\"],[-1.2,39.294719747060164,\"Alex Len\"],[-0.7,46.87429999477325,\"Allen Crabbe\"],[-1.0,48.742554987061055,\"Andre Roberson\"],[0.0,0.0,\"Anthony Bennett\"],[0.0,0.0,\"Archie Goodwin\"],[-3.5,12.554813154059003,\"Ben McLemore\"],[0.0,0.0,\"Brandon Paul\"],[0.0,0.0,\"Carrick Felix\"],[2.0,52.87324465171397,\"CJ McCollum\"],[-1.2,25.04362859757613,\"Cody Zeller\"],[-2.0,48.10147260393043,\"Dennis Schroder\"],[-3.5,29.069944387058378,\"Dewayne Dedmon\"],[0.0,0.0,\"DJ Stephens\"],[0.0,0.0,\"Erick Green\"],[0.2,46.829780410902316,\"Gorgui Dieng\"],[-3.3,24.333242008961054,\"Isaiah Canaan\"],[0.0,0.0,\"Jamaal Franklin\"],[0.0,0.0,\"James Southerland\"],[1.0,25.64926899543143,\"Jeff Withey\"],[0.3,39.22155019883839,\"Kelly Olynyk\"],[-0.5,45.112470559702224,\"Kentavious Caldwell-Pope\"],[-8.4,7.793159393553638,\"Lorenzo Brown\"],[1.5,45.64551821738176,\"Mason Plumlee\"],[-3.2,29.093842418399586,\"Michael Carter-Williams\"],[1.1,35.16904415344082,\"Mike Muscala\"],[0.0,0.0,\"Nate Wolters\"],[0.9,41.033543189281986,\"Otto Porter Jr.\"],[0.0,0.0,\"Peyton Siva\"],[0.0,0.0,\"Ray McCallum\"],[0.3,21.60540055942803,\"Reggie Bullock\"],[0.0,0.0,\"Ricky Ledo\"],[-0.9,43.62399951097251,\"Robert Covington\"],[3.4,42.615020825995146,\"Rudy Gobert\"],[-2.5,20.444233090694965,\"Shabazz Muhammad\"],[-1.7,27.83364271285142,\"Shane Larkin\"],[1.1,51.664865560004415,\"Steven Adams\"],[-0.6,43.4160684539722,\"Tim Hardaway Jr.\"],[0.0,0.0,\"Tony Mitchell\"],[-1.7,48.328614712197165,\"Tony Snell\"],[2.5,28.011693986619232,\"Trey Burke\"],[-8.4,6.701989754294369,\"Vander Blue\"],[5.8,50.5177031676355,\"Victor Oladipo\"],[11.5,43.78218815911329,\"Giannis Antetokounmpo\"],[0.0,0.0,\"Sergey Karasev\"],[-4.4,9.187037970241915,\"Pierre Jackson\"],[0.0,0.0,\"Grant Jerrett\"],[5.2,20.441134997841974,\"Lucas Nogueira\"],[0.0,0.0,\"Erik Murphy\"],[0.0,0.0,\"Phil Pressey\"],[1.5,18.12498275861249,\"James Ennis III\"],[0.0,0.0,\"Nemanja Nedovic\"],[-3.3,24.254346689476776,\"Alex Abrines\"],[0.0,0.0,\"Adonis Thomas\"],[-1.2,43.21265246815254,\"Matthew Dellavedova\"],[-2.7,48.72680644847013,\"Solomon Hill\"],[-1.4,22.319423528995255,\"Raul Neto\"],[-3.1,10.49444297394259,\"Ryan Kelly\"],[-2.2,31.30662869106158,\"Joffrey Lauvergne\"],[-7.6,17.078983185970614,\"Gal Mekel\"],[0.0,0.0,\"Gigi Datome\"],[0.0,0.0,\"Pero Antic\"],[0.0,0.0,\"Miroslav Raduljica\"],[-1.5,33.71238644771385,\"Ian Clark\"],[0.0,0.0,\"Elias Harris\"],[-0.2,26.301013922153896,\"Seth Curry\"],[0.0,0.0,\"Brandon Davies\"],[-4.7,2.3515952032609695,\"Kalin Lucas\"],[0.0,0.0,\"Patrick Christopher\"],[0.0,0.0,\"Chris Babb\"],[0.0,0.0,\"Larry Drew II\"],[-1.8,34.39915212133389,\"Troy Daniels\"],[-1.9,44.33832052149326,\"Rodney McGruder\"],[0.0,0.0,\"Trey McKinney-Jones\"],[0.0,0.0,\"Jonathon Simmons\"],[0.0,0.0,\"Thanasis Antetokounmpo\"],[0.0,0.0,\"Norvel Pelle\"],[0.0,0.0,\"Reggie Hearn\"],[0.0,0.0,\"Josh Magette\"],[0.0,0.0,\"C.J. Williams\"],[0.0,0.0,\"PJ Hairston\"],[0.0,0.0,\"Will Cherry\"],[0.0,0.0,\"Casper Ware\"],[0.0,0.0,\"Scotty Hopson\"],[0.0,0.0,\"Russ Smith\"],[-0.4,22.633640155014106,\"Shabazz Napier\"],[-3.7,19.583326241133477,\"Jordan McRae\"],[4.0,45.09574998452371,\"Zach LaVine\"],[0.0,0.0,\"Tyler Ennis\"],[0.0,0.0,\"Markel Brown\"],[0.0,35.29707258871945,\"Elfrid Payton\"],[0.0,0.0,\"Semaj Christon\"],[0.1,43.44419792484757,\"Jordan Clarkson\"],[0.0,0.0,\"Devyn Marble\"],[0.0,0.0,\"KJ McDaniels\"],[0.0,0.0,\"Nick Johnson\"],[-1.5,12.91581717636685,\"C.J. Wilcox\"],[0.0,0.0,\"Jabari Brown\"],[-2.5,42.192416380198,\"Gary Harris\"],[0.6,43.749323804298164,\"Spencer Dinwiddie\"],[-1.9,31.855873346475214,\"Nik Stauskas\"],[-0.1,40.19293055584116,\"Rodney Hood\"],[0.0,0.0,\"Jordan Adams\"],[-0.9,24.050086624930625,\"Khem Birch\"],[0.0,0.0,\"Cleanthony Early\"],[-3.0,24.700438592597237,\"Glenn Robinson III\"],[0.0,0.0,\"James Young\"],[-0.5,43.496494111594785,\"Jerami Grant\"],[-3.5,33.73981327749162,\"Joe Harris\"],[-2.3,38.829456172687635,\"Doug McDermott\"],[-6.4,7.0755447375685,\"Cory Jefferson\"],[-2.2,8.456654184723412,\"Sean Kilpatrick\"],[0.1,37.19919353964545,\"Aaron Gordon\"],[-0.2,36.878155232241895,\"T.J. Warren\"],[-11.4,6.353476738500481,\"Lamar Patterson\"],[1.4,43.80947386125517,\"Marcus Smart\"],[0.8,35.798417097221915,\"Kyle Anderson\"],[1.0,36.51648029771393,\"Dwight Powell\"],[-2.3,11.630634835066699,\"Adreian Payne\"],[-26.7,3.2812599206199287,\"Noah Vonleh\"],[-0.3,45.61140208325107,\"Julius Randle\"],[0.0,0.0,\"Alex Kirk\"],[-7.5,10.12916580968048,\"Cameron Bairstow\"],[0.0,0.0,\"Johnny O'Bryant III\"],[-3.0,4.236744032862972,\"James Michael McAdoo\"],[0.0,0.0,\"Jarnell Stokes\"],[0.0,0.0,\"Keith Appling\"],[-0.4,48.62375962428245,\"Andrew Wiggins\"],[-0.9,12.863060807340258,\"Jabari Parker\"],[4.7,38.80483217332604,\"Joel Embiid\"],[0.0,0.0,\"Bryce Cotton\"],[0.0,0.0,\"Mitch McGary\"],[-3.8,10.777213616391437,\"Dante Exum\"],[0.0,0.0,\"Andre Dawkins\"],[3.7,11.281252885502878,\"JaKarr Sampson\"],[0.0,0.0,\"Eric Moreland\"],[8.8,5.557277510916051,\"Josh Huestis\"],[0.0,0.0,\"Shayne Whittington\"],[0.0,0.0,\"Jamil Wilson\"],[-0.4,40.39531738539345,\"Dario Saric\"],[0.0,0.0,\"Jerrelle Benimon\"],[1.4,35.76735010219977,\"Clint Capela\"],[-1.5,46.6385570102678,\"Bogdan Bogdanovic\"],[2.0,15.910321597420117,\"Jusuf Nurkic\"],[0.0,0.0,\"Damien Inglis\"],[-10.2,6.0360030925549815,\"Bruno Caboclo\"],[12.1,49.87766701306979,\"Nikola Jokic\"],[2.2,36.422017150802205,\"Kristaps Porzingis\"],[0.0,0.0,\"Edy Tavares\"],[0.0,0.0,\"Damjan Rudez\"],[-0.3,45.30167399408845,\"Tyler Johnson\"],[0.0,0.0,\"Sim Bhullar\"],[0.0,0.0,\"Jack Cooley\"],[-2.0,27.22599860427529,\"Tim Frazier\"],[-3.2,33.02875010249903,\"Tarik Black\"],[0.0,0.0,\"David Wear\"],[0.0,0.0,\"Travis Wear\"],[-2.3,38.657362386312265,\"Langston Galloway\"],[-7.7,8.673138609138753,\"Zoran Dragic\"],[0.0,0.0,\"Joe Ingles\"],[0.0,0.0,\"David Stockton\"],[0.0,0.0,\"John Holland\"],[-2.4,7.895673920994122,\"Jarell Eddie\"],[0.0,0.0,\"Drew Gordon\"],[-11.3,4.555582655745948,\"Xavier Munford\"],[0.0,0.0,\"Omari Johnson\"],[0.0,0.0,\"Greg Whittington\"],[0.0,41.31117685727835,\"T.J. McConnell\"],[-3.2,18.634287393583556,\"Jahlil Okafor\"],[0.0,0.0,\"Emmanuel Mudiay\"],[0.0,0.0,\"Tyus Jones\"],[0.0,0.0,\"Cliff Alexander\"],[-2.7,21.52916626346687,\"Justin Anderson\"],[30.5,1.9321835661585909,\"Anthony Brown\"],[3.3,46.45587512181134,\"Montrezl Harrell\"],[0.0,0.0,\"Andrew Harrison\"],[0.0,0.0,\"Aaron Harrison\"],[3.3,37.85133198889215,\"Delon Wright\"],[3.6,5.067872663488429,\"RJ Hunter\"],[0.0,0.0,\"Sam Dekker\"],[0.0,0.0,\"D'Angelo Russell\"],[4.5,41.096451590536745,\"Karl-Anthony Towns\"],[0.6,34.40477195583964,\"Richaun Holmes\"],[0.0,0.0,\"Justise Winslow\"],[1.2,47.03771536402113,\"Willie Cauley-Stein\"],[-1.9,41.07980038899897,\"Kelly Oubre Jr.\"],[0.3,27.471621721332728,\"Frank Kaminsky\"],[0.0,0.0,\"Devin Booker\"],[1.7,13.533600161573156,\"Cameron Payne\"],[0.0,0.0,\"Myles Turner\"],[-1.8,18.916350951844095,\"Trey Lyles\"],[0.0,0.0,\"Stanley Johnson\"],[-1.3,41.06494855713325,\"Jerian Grant\"],[1.5,37.042903053981476,\"Bobby Portis\"],[0.0,0.0,\"Kevon Looney\"],[0.0,0.0,\"Rashad Vaughn\"],[1.4,36.41288691292315,\"Christian Wood\"],[0.0,0.0,\"Jordan Mickey\"],[-5.0,14.811763343144968,\"Rakeem Christmas\"],[0.0,0.0,\"Dakari Johnson\"],[0.3,33.49470107345339,\"Rondae Hollis-Jefferson\"],[-0.4,46.523757371906235,\"Terry Rozier\"],[-0.7,33.56285148791741,\"Norman Powell\"],[0.0,0.0,\"Branden Dawson\"],[-4.0,27.256375400995633,\"Chasson Randle\"],[0.0,0.0,\"Jarell Martin\"],[-2.1,32.54076930047398,\"Quinn Cook\"],[0.0,0.0,\"Chris McCullough\"],[-1.8,38.5727019190169,\"Pat Connaughton\"],[0.1,19.370553253155496,\"Willy Hernangomez\"],[0.3,50.39275741612082,\"Josh Richardson\"],[0.0,0.0,\"Darrun Hilliard\"],[-3.5,23.624492939884806,\"Joe Young\"],[-3.7,26.74624584248539,\"Treveon Graham\"],[2.4,37.6897643045606,\"Larry Nance Jr.\"],[0.0,0.0,\"Vincent Hunter\"],[0.0,0.0,\"Mario Hezonja\"],[-5.0,8.386596449096617,\"Alan Williams\"],[0.0,0.0,\"Bryce Dejean-Jones\"],[-0.5,40.87915116535567,\"Royce O'Neale\"],[-3.2,38.865258693765696,\"Cedi Osman\"],[0.0,0.0,\"Luis Montero\"],[-3.9,31.264196775225173,\"Cristiano Felicio\"],[0.0,0.0,\"Boban Marjanovic\"],[0.0,0.0,\"Duje Dukan\"],[0.0,0.0,\"Axel Toupane\"],[0.0,0.0,\"Maurice Ndour\"],[0.0,0.0,\"Salah Mejri\"],[-0.5,8.191458966508957,\"Malcolm Miller\"],[0.0,0.0,\"Coty Clarke\"],[0.0,0.0,\"JJ O'Brien\"],[0.0,0.0,\"Marcelo Huertas\"],[0.0,0.0,\"Jordan Sibert\"],[0.0,0.0,\"Jacob Pullen\"],[0.0,0.0,\"Jonathan Gibson\"],[0.0,0.0,\"Malcolm Delaney\"],[-8.2,5.924665954015189,\"Walt Lemon Jr.\"],[0.0,0.0,\"Alex Stepheson\"],[-1.3,15.37866487486261,\"Briante Weber\"],[0.0,0.0,\"Julian Washburn\"],[0.0,0.0,\"Ben Simmons\"],[0.0,0.0,\"Dragan Bender\"],[0.0,0.0,\"Domantas Sabonis\"],[0.0,0.0,\"Wade Baldwin IV\"],[0.0,0.0,\"Malik Beasley\"],[0.0,0.0,\"Marquese Chriss\"],[0.0,0.0,\"Deyonta Davis\"],[-0.6,35.6176922329339,\"Kris Dunn\"],[0.0,0.0,\"Henry Ellenson\"],[1.0,44.991462153020436,\"Buddy Hield\"],[0.0,0.0,\"Brandon Ingram\"],[0.0,0.0,\"Demetrius Jackson\"],[0.0,0.0,\"Brice Johnson\"],[-1.4,23.360793365523076,\"Damian Jones\"],[0.0,0.0,\"Skal Labissiere\"],[-0.3,36.466971357654586,\"Caris LeVert\"],[0.0,0.0,\"Thon Maker\"],[0.0,0.0,\"Dejounte Murray\"],[0.0,0.0,\"Jamal Murray\"],[0.8,42.955015229113,\"Jakob Poeltl\"],[-2.9,43.097969789770836,\"Taurean Prince\"],[0.0,0.0,\"Zhou Qi\"],[0.0,0.0,\"Diamond Stone\"],[0.0,0.0,\"Tyler Ulis\"],[0.0,0.0,\"Denzel Valentine\"],[0.0,0.0,\"Stephen Zimmerman\"],[-7.0,12.328219660599823,\"Ron Baker\"],[0.0,0.0,\"Jaylen Brown\"],[-2.5,30.254916955761093,\"DeAndre' Bembry\"],[0.0,0.0,\"Joel Bolomboy\"],[-1.2,37.89481055061062,\"Malcolm Brogdon\"],[0.0,0.0,\"Cheick Diallo\"],[0.0,0.0,\"Kay Felder\"],[0.0,0.0,\"Michael Gbinije\"],[0.0,0.0,\"Daniel Hamilton\"],[0.0,0.0,\"AJ Hammons\"],[-3.7,22.47613549226528,\"Jake Layman\"],[0.9,5.776821502060342,\"Patrick McCaw\"],[0.0,22.723299349639635,\"Georges Niang\"],[0.0,0.0,\"Chinanu Onuaku\"],[0.0,0.0,\"Marcus Paige\"],[-3.9,14.861359291801003,\"Gary Payton II\"],[0.0,0.0,\"Malachi Richardson\"],[0.0,0.0,\"Wayne Selden\"],[1.8,45.93649602077492,\"Pascal Siakam\"],[0.0,0.0,\"Jarrod Uthoff\"],[0.0,0.0,\"Isaiah Whitehead\"],[0.0,0.0,\"Troy Williams\"],[0.0,0.0,\"Kyle Wiltjer\"],[0.0,0.0,\"Furkan Korkmaz\"],[-4.4,32.40766370269029,\"Timothe Luwawu-Cabarrot\"],[0.0,0.0,\"Ante Zizic\"],[0.0,0.0,\"Ben Bentil\"],[-1.4,32.65958256520328,\"Yogi Ferrell\"],[-1.9,20.109989225921204,\"Damion Lee\"],[0.0,0.0,\"Sheldon Mac\"],[-3.5,17.461385970191483,\"Alex Poythress\"],[0.0,0.0,\"Tim Quarterman\"],[0.0,0.0,\"Isaiah Taylor\"],[-8.7,12.664056748662057,\"Tyrone Wallace\"],[0.0,0.0,\"James Webb III\"],[-2.9,30.000666659259423,\"Juancho Hernangomez\"],[0.0,0.0,\"Guerschon Yabusele\"],[0.0,0.0,\"Ivica Zubac\"],[-1.4,44.556518415752926,\"Dorian Finney-Smith\"],[2.7,43.910742800974454,\"Fred VanVleet\"],[0.0,0.0,\"Georgios Papagiannis\"],[0.0,0.0,\"Paul Zipser\"],[-3.2,26.337362560944992,\"Abdel Nader\"],[0.0,0.0,\"Shawn Long\"],[0.0,0.0,\"Daniel Ochefu\"],[-4.5,7.193978963920683,\"Marshall Plumlee\"],[0.0,0.0,\"Mindaugas Kuzminskas\"],[0.0,0.0,\"Nicolas Brussino\"],[-2.8,30.495464143595733,\"Ryan Arcidiacono\"],[-1.2,47.88110274419335,\"Bryn Forbes\"],[-0.7,8.919828099987875,\"Okaro White\"],[0.0,0.0,\"Matt Costello\"],[0.0,0.0,\"Kyle Collinsworth\"],[0.0,0.0,\"Mike Tobey\"],[-0.5,31.283621913071382,\"Danuel House Jr.\"],[0.0,0.0,\"Jameel Warney\"],[0.0,0.0,\"Patricio Garino\"],[0.0,0.0,\"Marcus Georges-Hunt\"],[0.0,0.0,\"Nicolas Laprovittola\"],[-4.2,14.632953677686983,\"Jalen Jones\"],[0.0,0.0,\"Derrick Jones Jr.\"],[-1.3,37.814944135883636,\"Shaquille Harrison\"],[-0.2,34.2822840545959,\"Alex Caruso\"],[0.0,0.0,\"Josh Gray\"],[-1.3,19.444193649176274,\"Myke Henry\"],[-2.5,40.570350421623544,\"David Nwaba\"],[-3.0,7.310152757181843,\"Alfonzo McKinnie\"],[-1.0,7.404953297174352,\"Jordan Loyd\"],[0.0,0.0,\"Mitchell Creek\"],[0.0,0.0,\"Markelle Fultz\"],[0.0,0.0,\"Lonzo Ball\"],[0.0,0.0,\"Josh Jackson\"],[0.0,0.0,\"De'Aaron Fox\"],[0.0,0.0,\"Jayson Tatum\"],[0.0,0.0,\"Malik Monk\"],[0.0,0.0,\"Jonathan Isaac\"],[0.0,0.0,\"Dennis Smith Jr.\"],[0.0,0.0,\"Frank Ntilikina\"],[0.0,0.0,\"Lauri Markkanen\"],[0.0,0.0,\"Donovan Mitchell\"],[0.0,0.0,\"Luke Kennard\"],[0.0,0.0,\"Zach Collins\"],[0.0,0.0,\"John Collins\"],[-3.5,24.01856920523508,\"Justin Jackson\"],[0.0,0.0,\"Justin Patton\"],[0.0,0.0,\"OG Anunoby\"],[0.0,0.0,\"Harry Giles III\"],[0.0,0.0,\"Jarrett Allen\"],[0.0,0.0,\"Ike Anigbogu\"],[0.0,0.0,\"Bam Adebayo\"],[0.0,0.0,\"Terrance Ferguson\"],[0.0,0.0,\"D.J. Wilson\"],[0.0,0.0,\"Isaiah Hartenstein\"],[0.0,0.0,\"Jawun Evans\"],[-46.6,2.513297966152575,\"Anzejs Pasecniks\"],[-2.5,16.01207877405888,\"Jordan Bell\"],[0.0,0.0,\"Tony Bradley\"],[0.0,0.0,\"Ivan Rabb\"],[-0.4,44.20671140599954,\"Kyle Kuzma\"],[0.0,0.0,\"Tyler Lydon\"],[-1.7,31.789856872908377,\"Semi Ojeleye\"],[1.3,40.94795477188085,\"Derrick White\"],[0.0,0.0,\"Frank Jackson\"],[0.0,0.0,\"Caleb Swanigan\"],[-0.8,36.735949695087506,\"Josh Hart\"],[0.0,0.0,\"Johnathan Motley\"],[-5.1,43.043969767359165,\"Dwayne Bacon\"],[0.0,0.0,\"Alec Peters\"],[-2.8,29.346266088436753,\"Edmond Sumner\"],[-2.6,30.875448714688066,\"Wes Iwundu\"],[0.0,10.859327787667153,\"Frank Mason III\"],[0.0,0.0,\"Jonah Bolden\"],[-0.8,5.956788844111674,\"Sindarius Thornwell\"],[-3.7,44.683964312342184,\"Dillon Brooks\"],[0.0,0.0,\"Tyler Dorsey\"],[-3.8,20.95614468360056,\"Jaron Blossomgame\"],[0.0,0.0,\"Thomas Bryant\"],[0.0,0.0,\"Cameron Oliver\"],[-0.3,34.585449734437894,\"Monte Morris\"],[0.0,0.0,\"Devin Robinson\"],[-1.4,28.9147309630691,\"Damyean Dotson\"],[0.0,0.0,\"Kobi Simmons\"],[-1.6,35.05300747914978,\"Sterling Brown\"],[0.0,0.0,\"Vlatko Cancar\"],[0.0,0.0,\"Charles Cooke\"],[-3.9,7.057265759485043,\"Nigel Williams-Goss\"],[0.0,0.0,\"Davon Reed\"],[0.8,18.639608364984497,\"Luke Kornet\"],[0.0,0.0,\"Isaiah Hicks\"],[-7.7,10.35317986578679,\"Kadeem Allen\"],[0.0,0.0,\"Jabari Bird\"],[-33.1,1.1474609652039018,\"Chris Boucher\"],[-3.4,4.363675820528686,\"Eric Mika\"],[0.0,0.0,\"Jacob Wiley\"],[0.0,0.0,\"Mike James\"],[0.0,0.0,\"Milos Teodosic\"],[0.0,0.0,\"Tyler Cavanaugh\"],[0.3,30.588069569686805,\"Daniel Theis\"],[0.0,0.0,\"Maxi Kleber\"],[0.0,0.0,\"Antonio Blakeney\"],[0.0,0.0,\"Torrey Craig\"],[0.0,0.0,\"Matt Williams Jr.\"],[0.0,0.0,\"Derrick Walton Jr.\"],[0.0,0.0,\"Gian Clavell\"],[-4.6,4.449719092257398,\"Mangok Mathiang\"],[0.0,0.0,\"Milton Doyle\"],[-10.1,6.763012149429668,\"Antonius Cleveland\"],[0.0,0.0,\"Ben Moore\"],[0.0,0.0,\"Nigel Hayes\"],[-5.4,16.703542538435762,\"Jamel Artis\"],[0.0,0.0,\"Xavier Rathan-Mayes\"],[0.0,0.0,\"Troy Caupain\"],[0.0,0.0,\"London Perrantes\"],[0.0,0.0,\"Andrew White III\"],[-8.7,9.160513086066741,\"Naz Mitrou-Long\"],[0.0,0.0,\"Isaiah Briscoe\"],[2.5,8.261355820929152,\"Amile Jefferson\"],[0.0,0.0,\"Jaylen Morris\"],[-6.0,14.271883781290647,\"Mychal Mulder\"],[0.0,0.0,\"Erik McCree\"],[0.0,0.0,\"Amida Brimah\"],[-9.7,5.090841449767091,\"Dusty Hannahs\"],[0.0,0.0,\"Billy Garrett\"],[0.0,0.0,\"Rodney Purvis\"],[0.0,0.0,\"Tahjere McCall\"],[-0.2,9.338718684416332,\"Paul Watson\"],[0.0,0.0,\"Aaron Jackson\"],[0.0,0.0,\"Rawle Alkins\"],[-0.2,35.48922371650301,\"Grayson Allen\"],[0.0,0.0,\"Kostas Antetokounmpo\"],[0.0,0.0,\"Udoka Azubuike\"],[0.0,0.0,\"Marvin Bagley III\"],[0.0,0.0,\"Mo Bamba\"],[-1.9,15.642197202865491,\"Keita Bates-Diop\"],[0.0,0.0,\"Brian Bowen II\"],[0.0,0.0,\"Mikal Bridges\"],[0.0,0.0,\"Miles Bridges\"],[0.0,0.0,\"Bruce Brown\"],[0.0,0.0,\"Troy Brown Jr.\"],[0.0,0.0,\"Jalen Brunson\"],[0.5,26.770879701645963,\"Jevon Carter\"],[0.0,0.0,\"Wendell Carter Jr.\"],[0.0,0.0,\"Hamidou Diallo\"],[0.0,0.0,\"Donte DiVincenzo\"],[0.0,0.0,\"Trevon Duval\"],[0.0,0.0,\"Jacob Evans\"],[0.0,0.0,\"Bruno Fernando\"],[0.0,0.0,\"Melvin Frazier Jr.\"],[0.0,0.0,\"Shai Gilgeous-Alexander\"],[0.7,40.72595405062145,\"Devonte' Graham\"],[0.0,0.0,\"Devon Hall\"],[0.0,0.0,\"Kevin Hervey\"],[0.0,0.0,\"Aaron Holiday\"],[0.0,0.0,\"Kevin Huerter\"],[0.0,0.0,\"Chandler Hutchison\"],[0.0,0.0,\"Jaren Jackson Jr.\"],[0.0,0.0,\"Alize Johnson\"],[-7.9,2.4289915602982237,\"George King\"],[0.0,0.0,\"Kevin Knox II\"],[-3.4,28.609205977563708,\"Caleb Martin\"],[-2.0,29.14089337454614,\"Cody Martin\"],[0.0,0.0,\"Yante Maten\"],[0.0,0.0,\"De'Anthony Melton\"],[0.0,0.0,\"Chimezie Metu\"],[0.0,0.0,\"Shake Milton\"],[0.0,0.0,\"Svi Mykhailiuk\"],[0.0,0.0,\"Malik Newman\"],[0.0,0.0,\"Josh Okogie\"],[0.0,0.0,\"Jontay Porter\"],[0.0,0.0,\"Michael Porter Jr.\"],[0.0,0.0,\"Jerome Robinson\"],[0.0,0.0,\"Mitchell Robinson\"],[0.0,0.0,\"Collin Sexton\"],[0.0,0.0,\"Landry Shamet\"],[0.0,0.0,\"Anfernee Simons\"],[0.0,0.0,\"Zhaire Smith\"],[0.0,0.0,\"Omari Spellman\"],[0.0,0.0,\"Khyri Thomas\"],[0.0,0.0,\"Gary Trent Jr.\"],[0.0,0.0,\"Allonzo Trier\"],[0.0,0.0,\"Jarred Vanderbilt\"],[0.0,0.0,\"Moritz Wagner\"],[0.0,0.0,\"Lonnie Walker IV\"],[0.0,0.0,\"P.J. Washington\"],[-2.4,28.842358895670564,\"Kenrich Williams\"],[0.0,0.0,\"Trae Young\"],[0.0,0.0,\"Deandre Ayton\"],[0.0,0.0,\"Luka Doncic\"],[-15.7,5.835808998473707,\"Theo Pinson\"],[0.0,0.0,\"Ray Spalding\"],[0.0,0.0,\"Carsen Edwards\"],[0.0,0.0,\"Shamorie Ponds\"],[0.0,0.0,\"Bonzie Colson\"],[0.0,0.0,\"Goga Bitadze\"],[0.0,0.0,\"Oshae Brissett\"],[0.0,0.0,\"Vincent Edwards\"],[0.0,0.0,\"Donte Grantham\"],[0.0,0.0,\"Terence Davis\"],[0.0,0.0,\"Robert Williams III\"],[0.0,0.0,\"Dzanan Musa\"],[0.0,0.0,\"Elie Okobo\"],[0.0,0.0,\"Rui Hachimura\"],[0.0,0.0,\"Deng Adel\"],[0.0,0.0,\"Ky Bowman\"],[0.0,0.0,\"Rodions Kurucs\"],[0.0,0.0,\"Isaac Bonga\"],[0.0,0.0,\"Tyler Cook\"],[-7.3,5.618718715152059,\"Elijah Bryant\"],[0.0,0.0,\"Tyler Davis\"],[0.0,0.0,\"Marcus Derrickson\"],[0.0,0.0,\"Brandon Sampson\"],[-2.4,17.960141053640616,\"Kelan Martin\"],[-1.9,23.798459333886868,\"Gary Clark\"],[0.0,0.0,\"Angel Delgado\"],[0.0,0.0,\"Wenyen Gabriel\"],[0.0,0.0,\"Thomas Welsh\"],[0.0,0.0,\"Jaylen Adams\"],[0.0,0.0,\"J.P. Macura\"],[0.0,0.0,\"Jared Terrell\"],[-4.3,15.488113722034294,\"Deonte Burton\"],[0.5,46.53632989396564,\"Duncan Robinson\"],[0.0,0.0,\"Daryl Macon\"],[-0.5,40.62257172229904,\"Kendrick Nunn\"],[-1.7,10.235640347986687,\"Yuta Watanabe\"],[0.0,0.0,\"Johnathan Williams\"],[0.0,0.0,\"Joe Chealey\"],[0.0,0.0,\"Emanuel Terry\"],[0.0,0.0,\"Ryan Broekhoff\"],[-5.8,4.652597840633414,\"DeVaughn Akoon-Purcell\"],[0.0,0.0,\"Zach Lofton\"],[0.0,0.0,\"Jordan McLaughlin\"],[-3.1,24.89159831482637,\"Brandon Goodwin\"],[0.0,0.0,\"BJ Johnson\"],[-0.7,15.242867184358722,\"Chris Chiozza\"],[0.0,0.0,\"Jemerrio Jones\"],[0.0,0.0,\"Gabe Vincent\"],[0.0,0.0,\"Drew Eubanks\"],[-8.1,6.362651438931202,\"Cameron Reynolds\"],[0.0,0.0,\"Juan Toscano-Anderson\"],[0.0,0.0,\"Haywood Highsmith\"],[0.0,0.0,\"Alen Smailagic\"],[0.0,0.0,\"Isaac Humphries\"],[0.0,0.0,\"Dairis Bertans\"],[0.0,0.0,\"Zylan Cheatham\"],[0.0,0.0,\"Chris Clemons\"],[0.0,0.0,\"Amir Coffey\"],[0.0,0.0,\"Mamadi Diakite\"],[0.0,0.0,\"CJ Elleby\"],[1.2,11.642522636152915,\"Tacko Fall\"],[0.0,0.0,\"Robert Franks\"],[0.0,0.0,\"Jared Harper\"],[0.0,0.0,\"Dewan Hernandez\"],[0.0,0.0,\"DaQuan Jeffries\"],[0.0,0.0,\"Terance Mann\"],[0.0,0.0,\"Reggie Perry\"],[0.0,0.0,\"Justin Robinson\"],[0.0,0.0,\"Marial Shayok\"],[0.0,0.0,\"Max Strus\"],[0.0,0.0,\"Justin Wright-Foreman\"],[0.0,0.0,\"Bol Bol\"],[0.0,0.0,\"Zion Williamson\"],[0.0,0.0,\"RJ Barrett\"],[0.0,0.0,\"Cam Reddish\"],[0.0,0.0,\"Ja Morant\"],[0.0,0.0,\"De'Andre Hunter\"],[0.0,0.0,\"Coby White\"],[0.0,0.0,\"Jarrett Culver\"],[0.0,0.0,\"Brandon Clarke\"],[0.0,0.0,\"Sekou Doumbouya\"],[0.0,0.0,\"Darius Garland\"],[0.0,0.0,\"Jaxson Hayes\"],[0.0,0.0,\"Nickeil Alexander-Walker\"],[0.0,0.0,\"Tyler Herro\"],[0.0,0.0,\"Keldon Johnson\"],[0.0,0.0,\"Romeo Langford\"],[0.0,0.0,\"Nassir Little\"],[0.0,0.0,\"Chuma Okeke\"],[0.0,0.0,\"KZ Okpala\"],[0.0,0.0,\"Kevin Porter Jr.\"],[0.0,0.0,\"Darius Bazley\"],[0.0,0.0,\"Jordan Bone\"],[0.0,0.0,\"Ignas Brazdeikis\"],[0.0,0.0,\"Moses Brown\"],[0.0,0.0,\"Nic Claxton\"],[0.0,0.0,\"Luguentz Dort\"],[0.0,0.0,\"Devon Dotson\"],[0.0,0.0,\"Daniel Gafford\"],[0.0,0.0,\"Kyle Guy\"],[0.0,0.0,\"Jaylen Hoard\"],[0.0,0.0,\"Talen Horton-Tucker\"],[0.0,0.0,\"Ty Jerome\"],[0.0,0.0,\"Cameron Johnson\"],[0.0,0.0,\"Mfiondu Kabengele\"],[0.0,0.0,\"Louis King\"],[0.0,0.0,\"Jalen Lecque\"],[0.0,0.0,\"Jalen McDaniels\"],[0.0,0.0,\"Zach Norvell Jr.\"],[0.0,0.0,\"Jaylen Nowell\"],[0.0,0.0,\"Jordan Nwora\"],[0.0,0.0,\"Miye Oni\"],[0.0,0.0,\"Eric Paschall\"],[0.0,0.0,\"Jordan Poole\"],[0.0,0.0,\"Naz Reid\"],[0.0,0.0,\"Isaiah Roby\"],[0.0,0.0,\"Luka Samanic\"],[0.0,0.0,\"Admiral Schofield\"],[0.0,0.0,\"Matisse Thybulle\"],[0.0,0.0,\"Killian Tillie\"],[0.0,0.0,\"Tremont Waters\"],[0.0,0.0,\"Quinndary Weatherspoon\"],[0.0,0.0,\"Grant Williams\"],[0.0,0.0,\"Dylan Windler\"],[0.0,0.0,\"Deividas Sirvydis\"],[0.0,0.0,\"Adam Mokoka\"],[0.0,0.0,\"Didi Louzada\"],[0.0,0.0,\"Justin James\"],[0.0,0.0,\"Jarrell Brantley\"],[0.0,0.0,\"Marques Bolden\"],[0.0,0.0,\"Armoni Brooks\"],[0.0,0.0,\"Devontae Cacok\"],[0.0,0.0,\"John Konchar\"],[0.0,0.0,\"Vic Law\"],[0.0,0.0,\"Jeremiah Martin\"],[0.0,0.0,\"Garrison Mathews\"],[0.0,0.0,\"Josh Reaves\"],[0.0,0.0,\"Rayjon Tucker\"],[0.0,0.0,\"Dean Wade\"],[0.0,0.0,\"Kyle Alexander\"],[0.0,0.0,\"Chris Silva\"],[0.0,0.0,\"Vincent Poirier\"],[0.0,0.0,\"William Howard\"],[0.0,0.0,\"Nicolo Melli\"],[0.0,0.0,\"Marko Guduric\"],[0.0,0.0,\"Stanton Kidd\"],[0.0,0.0,\"Donta Hall\"],[1.1,20.976653689280376,\"Matt Thomas\"],[0.0,0.0,\"Tariq Owens\"],[0.0,0.0,\"Javonte Green\"],[-2.6,11.111255554616678,\"Dakota Mathias\"],[0.0,0.0,\"Juwan Morgan\"],[0.0,0.0,\"Matt Mooney\"],[-10.7,8.65524888916161,\"Keljin Blevins\"],[0.0,0.0,\"Devin Cannady\"],[0.0,0.0,\"Anthony Edwards\"],[0.0,0.0,\"LaMelo Ball\"],[0.0,0.0,\"James Wiseman\"],[0.0,0.0,\"Killian Hayes\"],[0.0,0.0,\"Deni Avdija\"],[0.0,0.0,\"Obi Toppin\"],[0.0,0.0,\"Onyeka Okongwu\"],[0.0,0.0,\"Tyrese Haliburton\"],[0.0,0.0,\"Devin Vassell\"],[0.0,0.0,\"Isaac Okoro\"],[0.0,0.0,\"Patrick Williams\"],[0.0,0.0,\"Precious Achiuwa\"],[0.0,0.0,\"Aaron Nesmith\"],[0.0,0.0,\"Cole Anthony\"],[0.0,0.0,\"Vernon Carey Jr.\"],[0.0,0.0,\"Theo Maledon\"],[0.0,0.0,\"Tyrese Maxey\"],[0.0,0.0,\"Tyrell Terry\"],[0.0,0.0,\"Saddiq Bey\"],[0.0,0.0,\"R.J. Hampton\"],[0.0,0.0,\"Josh Green\"],[0.0,0.0,\"Jaden McDaniels\"],[0.0,0.0,\"Kira Lewis Jr.\"],[0.0,0.0,\"Nico Mannion\"],[0.0,0.0,\"Jahmi'us Ramsey\"],[0.0,0.0,\"Daniel Oturu\"],[0.0,0.0,\"Jalen Smith\"],[0.0,0.0,\"Tyler Bey\"],[0.0,0.0,\"Elijah Hughes\"],[0.0,0.0,\"Isaiah Stewart\"],[0.0,0.0,\"Zeke Nnaji\"],[0.0,0.0,\"Immanuel Quickley\"],[0.0,0.0,\"Paul Reed\"],[0.0,0.0,\"Aleksej Pokusevski\"],[0.0,0.0,\"Isaiah Joe\"],[0.0,0.0,\"Cassius Stanley\"],[0.0,0.0,\"Tre Jones\"],[0.0,0.0,\"Malachi Flynn\"],[0.0,0.0,\"Payton Pritchard\"],[0.0,0.0,\"Grant Riller\"],[0.0,0.0,\"Ashton Hagans\"],[0.0,0.0,\"Lamar Stevens\"],[0.0,0.0,\"Jay Scrubb\"],[0.0,0.0,\"Nate Hinton\"],[0.0,0.0,\"Nick Richards\"],[0.0,0.0,\"Markus Howard\"],[0.0,0.0,\"Karim Mane\"],[0.0,0.0,\"Cassius Winston\"],[0.0,0.0,\"Desmond Bane\"],[0.0,0.0,\"Robert Woodard II\"],[0.0,0.0,\"Skylar Mays\"],[0.0,0.0,\"Josh Hall\"],[0.0,0.0,\"Mason Jones\"],[0.0,0.0,\"Jalen Harris\"],[0.0,0.0,\"Naji Marshall\"],[0.0,0.0,\"Kenyon Martin Jr.\"],[0.0,0.0,\"Nathan Knight\"],[0.0,0.0,\"Ty-Shon Alexander\"],[0.0,0.0,\"Trent Forrest\"],[0.0,0.0,\"Anthony Lamb\"],[0.0,0.0,\"Malik Fitts\"],[0.0,0.0,\"Saben Lee\"],[0.0,0.0,\"Sam Merrill\"],[0.0,0.0,\"Sean McDermott\"],[-1.4,45.196423162310865,\"Jae'Sean Tate\"],[0.0,0.0,\"Anthony Gill\"],[0.0,0.0,\"Will Magnay\"],[0.0,0.0,\"Facundo Campazzo\"],[0.0,0.0,\"Nate Darling\"],[0.0,0.0,\"Brodric Thomas\"],[0.0,0.0,\"Freddie Gillespie\"],[-0.4,14.546706385524766,\"Gabriel Deck\"]],\"hovertemplate\":\"x=%{x}<br>y=%{y}<br>minutes=%{customdata[1]}<br>bpm=%{marker.color}<br>names=%{customdata[2]}<extra></extra>\",\"legendgroup\":\"\",\"marker\":{\"color\":[0.0,0.0,0.0,0.0,0.0,0.0,0.0,0.0,0.0,0.0,0.0,0.0,-3.3,0.0,-15.5,0.0,0.0,0.0,0.0,-0.6,1.5,0.0,0.0,-0.7,0.0,0.0,0.0,-3.0,0.0,0.0,0.0,0.0,-0.3,0.0,-2.0,0.0,0.0,0.0,0.0,0.0,0.0,0.0,0.0,0.0,0.0,0.0,0.0,0.0,0.0,0.0,1.1,0.0,0.0,0.0,0.0,0.0,0.0,0.0,0.0,0.0,0.0,0.0,0.0,0.0,0.0,0.0,0.0,0.0,0.0,0.0,0.0,0.0,0.0,0.0,0.0,0.0,0.0,-2.8,0.4,0.0,-0.6,0.0,0.0,0.0,0.0,0.0,0.0,0.0,0.0,0.0,0.0,0.0,0.0,0.0,0.0,0.0,0.0,0.0,0.0,0.0,0.0,1.9,0.0,0.0,0.0,0.0,0.0,0.0,0.0,0.0,0.0,0.0,0.0,0.0,0.0,0.0,0.0,0.0,0.0,-11.1,0.0,0.0,0.0,0.0,-6.4,3.3,-2.5,0.0,-1.9,0.0,0.0,0.5,0.0,-3.2,-1.5,0.0,0.0,0.0,0.0,0.0,0.0,4.7,0.5,0.0,0.0,0.0,0.0,0.0,-1.1,0.0,0.0,0.0,0.0,0.0,0.0,0.0,0.0,0.0,-15.9,0.0,0.0,0.0,0.0,0.0,0.0,0.0,0.0,-3.2,0.0,0.0,0.0,0.0,0.0,0.0,0.0,0.0,0.0,0.0,0.0,0.0,0.0,0.0,0.0,0.0,0.0,0.0,0.0,4.9,0.0,0.0,0.0,0.0,0.0,0.0,0.0,0.0,-0.7,-4.8,0.0,0.0,0.0,0.0,-2.5,0.0,0.0,0.0,0.0,0.0,0.0,0.0,0.0,5.8,-6.4,0.0,0.0,0.0,0.0,0.0,0.0,0.0,0.0,0.0,0.0,0.0,-6.0,0.9,0.3,0.0,0.0,-2.1,0.0,1.9,0.0,2.8,2.0,0.0,0.0,-0.6,0.0,0.0,5.5,0.0,0.1,0.0,0.0,0.0,-0.5,0.0,0.0,-0.2,0.0,-4.8,0.0,0.0,-1.3,0.0,-2.3,0.7,0.0,1.3,-0.5,0.0,-1.1,-1.9,0.0,0.0,0.3,0.3,0.0,0.4,0.0,0.0,-3.5,-16.8,-3.2,0.0,-16.7,6.8,0.0,-5.9,1.0,-3.5,-3.8,2.0,0.0,0.0,0.0,-2.8,0.0,0.0,-2.1,-3.4,0.0,-0.1,0.0,0.0,0.8,-7.1,-28.9,-14.7,-6.3,0.0,2.2,0.0,0.0,0.1,0.0,0.0,-0.4,0.0,0.0,0.0,0.0,0.0,0.0,0.0,0.0,0.0,0.0,0.0,0.0,0.0,0.0,0.0,0.0,0.0,0.0,0.0,0.0,0.0,0.0,0.0,0.0,0.0,0.0,0.0,0.0,0.0,0.0,0.0,0.0,0.0,0.0,0.0,0.0,-0.7,0.0,0.0,0.0,0.0,0.0,1.3,-1.8,0.0,0.0,0.0,0.0,0.0,0.0,0.0,0.0,0.0,0.0,0.0,0.0,6.1,2.3,1.7,2.9,5.5,2.2,-1.8,1.6,0.1,-5.2,-6.3,-3.6,-0.9,-1.8,-2.8,-3.5,0.0,0.0,-1.6,1.7,0.7,0.0,-5.3,-3.4,-0.6,-4.6,5.6,3.5,2.4,-1.8,0.0,0.0,-4.3,0.0,-4.1,-15.6,-17.6,-2.6,-9.3,-2.3,0.0,-7.6,0.0,-1.2,0.0,-2.7,0.0,0.0,0.0,0.0,0.0,0.0,-2.5,0.0,0.0,0.0,0.0,0.0,0.0,0.0,0.0,0.0,0.0,0.0,0.0,-6.4,1.8,0.0,0.0,0.0,0.1,0.0,0.0,0.0,0.0,-0.2,-0.8,0.0,0.0,0.0,0.0,0.0,0.0,0.0,1.8,0.0,0.0,0.0,0.0,0.0,0.0,0.0,0.0,0.0,0.0,0.0,0.0,0.0,0.0,0.0,0.0,0.0,0.0,0.0,-1.6,0.0,0.0,0.0,0.0,0.0,0.0,0.0,97.4,-9.5,0.0,0.0,7.6,-1.1,2.5,1.7,-0.7,-4.6,-2.2,-2.8,6.7,-2.0,-1.2,-1.2,-0.1,0.0,-0.2,-1.4,-8.4,-2.3,-0.3,-19.6,0.0,0.0,-0.4,-11.4,0.0,0.0,-1.0,0.0,0.0,0.0,0.0,0.0,0.0,0.0,0.0,0.0,-2.9,0.0,0.1,-4.8,0.0,0.0,-1.1,0.0,-4.5,-2.4,-3.1,0.0,0.6,0.0,-4.4,-4.6,-6.5,0.0,0.0,0.0,0.0,0.0,0.0,0.0,0.0,-2.4,0.0,-3.7,-1.8,0.0,-12.0,-2.6,0.0,0.0,0.0,0.0,0.0,0.0,-5.5,2.4,1.8,0.2,4.4,-0.6,-0.6,0.9,3.8,4.9,1.9,-5.3,-1.1,-2.2,-0.8,-2.1,-1.7,0.0,-0.6,-3.4,-0.8,-2.4,-1.5,-2.7,-1.3,-4.3,-2.3,0.0,-5.3,-1.8,1.9,3.7,-3.8,0.8,0.0,0.0,0.0,0.0,-0.7,0.0,0.9,0.0,-1.5,0.0,0.0,0.0,0.0,0.0,0.0,-1.5,0.2,-2.5,0.1,0.0,0.0,0.0,-1.7,0.0,2.3,0.0,0.0,-10.6,-19.8,0.0,0.0,-3.6,0.0,0.0,0.0,0.0,-1.9,0.0,0.0,0.0,-1.3,-10.0,-25.0,0.0,0.0,0.0,3.6,3.8,4.1,1.4,9.8,0.9,1.2,3.9,3.6,1.8,-1.3,0.0,2.4,0.0,4.8,0.0,-0.8,0.0,-2.1,-1.4,-0.7,-1.5,3.8,-8.7,-1.5,-0.4,0.6,0.0,0.0,-5.4,-5.2,-2.6,-3.0,-3.8,-4.2,0.0,0.0,-2.9,0.0,-2.6,0.0,-0.1,0.0,0.0,0.0,1.9,-1.0,0.0,-2.3,0.0,-3.3,0.0,0.0,0.0,-4.9,0.0,0.0,0.0,-1.6,-15.0,-1.0,1.0,-1.3,0.0,-4.5,3.0,-0.8,-2.4,0.5,-0.2,-2.7,-2.6,-1.1,-4.5,-16.2,-1.4,0.7,-1.4,-1.9,-1.6,1.1,-1.8,0.0,-1.3,0.0,-1.8,-11.7,-1.0,0.0,-4.5,0.2,-0.7,-3.6,0.0,-2.2,0.0,0.0,0.0,-1.3,0.0,-5.4,0.0,1.0,-2.8,0.0,0.2,-0.5,0.0,0.0,0.0,0.0,-2.4,0.0,-5.1,0.0,0.0,0.5,0.0,0.0,-3.8,0.0,0.0,0.0,4.0,-8.9,-2.3,0.4,5.5,-2.8,3.1,2.6,0.0,-0.2,0.0,2.5,0.0,0.5,3.1,-0.3,-1.8,0.0,-1.9,-1.5,1.6,-0.1,0.0,0.0,0.0,0.0,2.1,-0.5,3.5,2.4,0.0,0.0,0.0,0.0,0.0,0.0,-2.8,4.7,0.0,0.0,-2.6,0.0,-6.2,2.0,-0.7,0.0,0.3,0.0,-2.2,0.0,-5.8,-2.0,0.0,0.0,0.0,-2.9,-26.0,0.0,0.0,0.0,-2.7,0.0,-4.7,0.4,-1.1,0.0,0.0,0.0,4.4,0.0,-0.7,-0.2,0.0,0.0,-4.2,-1.0,4.8,0.6,-1.6,-3.3,0.0,0.3,-4.6,-2.4,-1.4,0.0,-6.2,-3.4,0.0,0.0,0.3,-2.6,0.0,-0.9,0.0,-3.4,0.0,0.0,0.0,0.7,4.6,0.0,0.0,0.0,-9.0,-4.1,-3.2,-3.1,0.0,0.0,-1.2,-1.5,0.0,0.0,0.0,-6.2,0.0,0.0,0.0,0.0,-2.0,5.6,0.0,0.0,-2.0,-3.5,-1.4,-7.1,0.0,0.0,-3.7,0.0,11.8,-2.7,2.3,3.6,8.2,0.3,1.8,0.3,0.0,-2.6,-0.2,-3.2,-3.6,-1.5,-5.1,0.0,0.0,1.4,-2.1,-4.4,-0.8,0.0,-0.9,-0.1,0.4,0.0,-0.7,0.2,2.2,0.0,-0.5,-1.1,-6.2,-1.0,0.0,0.0,-4.7,-2.5,-1.4,0.7,0.3,0.0,-0.1,-0.1,0.0,-14.0,0.0,0.0,0.5,-0.5,-1.0,0.0,0.0,-11.8,-3.8,0.0,0.0,-1.7,-4.1,0.0,-0.6,0.0,-3.9,0.0,-2.6,-4.9,0.0,0.0,5.3,-1.1,1.1,0.0,2.8,0.0,1.7,-7.7,3.2,-3.8,-2.3,0.0,-3.5,0.4,0.4,0.0,2.8,1.7,0.8,1.2,0.0,-1.8,0.0,1.7,1.0,0.5,-0.7,-1.4,-5.9,-2.6,0.0,0.0,0.0,0.0,0.0,-6.8,-3.8,-1.7,-8.3,-0.4,-1.8,0.0,-2.1,0.0,-5.4,0.0,-2.6,0.0,-4.1,-2.0,0.0,-5.2,0.0,3.1,0.0,-7.1,0.0,0.0,-9.6,-0.2,0.0,0.0,0.0,0.0,0.0,0.0,3.1,1.3,7.1,1.6,-1.6,0.0,-4.2,-1.1,3.8,0.0,0.0,-3.1,0.0,-3.3,-6.5,4.8,0.0,-1.9,0.0,0.7,-1.4,-1.1,0.8,-4.7,-0.6,0.0,-2.3,0.0,0.8,-3.5,0.0,0.2,1.1,2.0,0.7,-1.4,-1.4,0.8,-1.8,0.0,0.0,0.0,4.0,0.0,0.0,-4.8,-0.1,0.0,-10.9,0.0,0.0,1.0,0.1,0.0,0.0,0.0,0.0,-3.5,0.0,2.0,0.0,-3.8,0.0,0.0,0.0,0.0,-1.2,0.0,-1.4,0.0,0.0,-5.7,0.0,0.0,4.2,0.0,0.0,-3.5,0.0,0.0,0.0,0.0,0.0,-0.5,-1.5,0.0,0.0,0.0,-8.3,0.0,-1.4,2.1,-4.7,-6.0,-3.5,4.7,-0.8,1.9,0.0,0.0,1.8,-6.1,0.1,2.4,0.0,-1.3,-6.4,0.0,0.0,-2.4,2.2,0.0,-2.0,4.1,-0.8,0.4,0.0,0.0,-5.8,-5.4,0.0,-0.4,-4.2,18.2,0.0,-0.6,0.0,0.0,0.0,0.0,-2.2,0.0,0.0,0.0,1.9,-0.3,-4.6,0.0,0.0,0.0,0.0,0.0,-1.0,0.0,-8.5,0.0,0.0,0.0,0.0,-3.6,-5.5,0.0,-1.3,0.0,0.0,0.0,0.0,0.0,0.0,0.0,0.0,0.0,0.0,-0.1,0.0,0.0,0.0,0.0,0.0,10.2,3.4,4.6,0.0,0.0,-0.1,2.5,2.9,0.6,-1.0,-0.1,0.0,-4.1,0.6,-1.3,0.4,-1.2,0.0,-0.4,-4.8,1.8,0.5,0.9,0.0,0.7,1.4,0.0,-4.0,0.7,0.0,0.0,0.0,-1.9,0.0,-1.4,8.4,0.0,-5.8,0.0,-4.4,-2.9,2.8,-1.3,0.0,0.0,0.0,-0.4,0.0,-5.5,0.0,0.0,0.0,-0.4,0.0,0.0,-7.0,-2.1,0.0,0.0,0.0,0.0,0.0,0.0,0.0,-2.0,-0.5,-3.1,5.5,8.9,0.0,-0.5,0.0,-0.6,3.7,-1.8,-0.9,-0.8,0.0,1.2,-2.8,1.4,1.6,-0.9,-2.6,1.4,-1.1,-1.2,0.9,3.4,2.3,-3.2,0.0,-3.8,0.0,-5.7,0.0,0.3,0.4,2.5,-0.7,-1.1,0.0,0.0,0.0,0.0,0.0,0.0,1.9,0.0,0.0,-3.5,0.0,0.0,-4.8,-1.0,-5.3,0.0,0.0,-1.1,0.0,0.0,-1.7,-1.9,-4.1,-2.9,21.2,-4.4,0.0,4.0,-1.5,8.8,1.2,1.8,0.0,7.4,-1.6,-0.9,3.3,-2.4,-1.1,-1.9,-0.7,-3.8,-3.5,2.1,2.0,-0.1,-4.5,0.1,-0.3,0.0,0.0,-0.9,-1.9,-0.5,-5.6,0.0,-3.2,-1.0,0.0,-1.4,-8.9,-0.9,-8.4,0.0,-0.1,0.0,-1.0,0.6,0.3,-2.5,0.0,2.8,0.0,-1.0,-1.2,4.0,-2.0,0.0,0.0,0.0,0.0,0.0,0.0,0.3,-2.6,0.0,-2.4,0.0,-4.7,0.3,0.0,0.0,-12.6,3.5,-3.3,-0.1,-3.3,3.3,-1.7,2.1,0.1,2.6,4.9,1.5,0.0,1.5,2.5,-3.0,-0.4,-3.8,2.1,-0.1,0.0,0.0,-2.8,-1.0,14.0,0.0,-2.0,-0.6,-1.1,0.0,-8.5,0.0,-24.3,4.1,0.0,0.0,0.0,0.0,-1.4,-1.2,-2.3,0.0,-0.2,0.0,0.0,0.0,0.0,0.0,2.2,-21.1,0.0,-2.0,0.0,-3.0,-2.5,0.0,-0.2,0.0,0.0,-1.4,-4.3,0.0,0.0,0.0,0.0,-4.2,0.0,-9.6,0.0,-7.2,0.0,0.0,7.3,-2.9,2.2,-0.7,2.4,0.0,-2.4,-2.8,4.0,-4.7,1.8,-2.3,-0.3,0.1,9.4,1.9,-1.5,0.0,1.9,-4.5,0.0,-0.1,0.7,2.7,-1.1,-3.3,0.0,-3.1,-1.3,4.6,-1.7,0.0,-1.4,-1.6,0.0,0.0,0.0,1.7,0.0,-2.8,0.0,1.6,0.0,0.0,0.0,0.0,0.0,0.0,0.0,0.0,1.2,41.5,-1.5,3.2,-3.9,-2.6,0.0,0.0,0.0,0.0,-0.2,0.0,0.0,-2.9,-7.6,-9.1,0.0,-5.5,0.0,0.0,9.4,-2.4,2.9,-0.1,-2.1,4.4,-0.2,2.1,-0.5,-1.2,2.0,1.6,0.0,0.2,0.7,0.0,0.9,-0.6,-4.9,-0.6,0.0,0.0,2.2,0.0,0.0,-1.3,0.0,0.0,0.0,-1.8,-2.4,0.0,2.2,5.5,0.0,-0.1,0.0,-0.3,0.8,0.0,0.0,-1.6,0.0,0.0,0.0,0.0,-4.5,0.4,0.0,0.0,0.0,0.0,-4.1,-3.5,0.0,-2.6,-2.0,0.0,0.0,0.0,-1.9,-2.1,0.0,0.0,0.0,-4.3,0.0,0.0,-4.2,0.0,-0.5,-2.0,-4.6,0.0,-1.4,0.0,-2.5,0.0,-4.9,-11.9,0.0,0.0,0.0,3.1,-1.2,-0.7,-1.0,0.0,0.0,-3.5,0.0,0.0,2.0,-1.2,-2.0,-3.5,0.0,0.0,0.2,-3.3,0.0,0.0,1.0,0.3,-0.5,-8.4,1.5,-3.2,1.1,0.0,0.9,0.0,0.0,0.3,0.0,-0.9,3.4,-2.5,-1.7,1.1,-0.6,0.0,-1.7,2.5,-8.4,5.8,11.5,0.0,-4.4,0.0,5.2,0.0,0.0,1.5,0.0,-3.3,0.0,-1.2,-2.7,-1.4,-3.1,-2.2,-7.6,0.0,0.0,0.0,-1.5,0.0,-0.2,0.0,-4.7,0.0,0.0,0.0,-1.8,-1.9,0.0,0.0,0.0,0.0,0.0,0.0,0.0,0.0,0.0,0.0,0.0,0.0,-0.4,-3.7,4.0,0.0,0.0,0.0,0.0,0.1,0.0,0.0,0.0,-1.5,0.0,-2.5,0.6,-1.9,-0.1,0.0,-0.9,0.0,-3.0,0.0,-0.5,-3.5,-2.3,-6.4,-2.2,0.1,-0.2,-11.4,1.4,0.8,1.0,-2.3,-26.7,-0.3,0.0,-7.5,0.0,-3.0,0.0,0.0,-0.4,-0.9,4.7,0.0,0.0,-3.8,0.0,3.7,0.0,8.8,0.0,0.0,-0.4,0.0,1.4,-1.5,2.0,0.0,-10.2,12.1,2.2,0.0,0.0,-0.3,0.0,0.0,-2.0,-3.2,0.0,0.0,-2.3,-7.7,0.0,0.0,0.0,-2.4,0.0,-11.3,0.0,0.0,0.0,-3.2,0.0,0.0,0.0,-2.7,30.5,3.3,0.0,0.0,3.3,3.6,0.0,0.0,4.5,0.6,0.0,1.2,-1.9,0.3,0.0,1.7,0.0,-1.8,0.0,-1.3,1.5,0.0,0.0,1.4,0.0,-5.0,0.0,0.3,-0.4,-0.7,0.0,-4.0,0.0,-2.1,0.0,-1.8,0.1,0.3,0.0,-3.5,-3.7,2.4,0.0,0.0,-5.0,0.0,-0.5,-3.2,0.0,-3.9,0.0,0.0,0.0,0.0,0.0,-0.5,0.0,0.0,0.0,0.0,0.0,0.0,0.0,-8.2,0.0,-1.3,0.0,0.0,0.0,0.0,0.0,0.0,0.0,0.0,-0.6,0.0,1.0,0.0,0.0,0.0,-1.4,0.0,-0.3,0.0,0.0,0.0,0.8,-2.9,0.0,0.0,0.0,0.0,0.0,-7.0,0.0,-2.5,0.0,-1.2,0.0,0.0,0.0,0.0,0.0,-3.7,0.9,0.0,0.0,0.0,-3.9,0.0,0.0,1.8,0.0,0.0,0.0,0.0,0.0,-4.4,0.0,0.0,-1.4,-1.9,0.0,-3.5,0.0,0.0,-8.7,0.0,-2.9,0.0,0.0,-1.4,2.7,0.0,0.0,-3.2,0.0,0.0,-4.5,0.0,0.0,-2.8,-1.2,-0.7,0.0,0.0,0.0,-0.5,0.0,0.0,0.0,0.0,-4.2,0.0,-1.3,-0.2,0.0,-1.3,-2.5,-3.0,-1.0,0.0,0.0,0.0,0.0,0.0,0.0,0.0,0.0,0.0,0.0,0.0,0.0,0.0,0.0,0.0,-3.5,0.0,0.0,0.0,0.0,0.0,0.0,0.0,0.0,0.0,0.0,-46.6,-2.5,0.0,0.0,-0.4,0.0,-1.7,1.3,0.0,0.0,-0.8,0.0,-5.1,0.0,-2.8,-2.6,0.0,0.0,-0.8,-3.7,0.0,-3.8,0.0,0.0,-0.3,0.0,-1.4,0.0,-1.6,0.0,0.0,-3.9,0.0,0.8,0.0,-7.7,0.0,-33.1,-3.4,0.0,0.0,0.0,0.0,0.3,0.0,0.0,0.0,0.0,0.0,0.0,-4.6,0.0,-10.1,0.0,0.0,-5.4,0.0,0.0,0.0,0.0,-8.7,0.0,2.5,0.0,-6.0,0.0,0.0,-9.7,0.0,0.0,0.0,-0.2,0.0,0.0,-0.2,0.0,0.0,0.0,0.0,-1.9,0.0,0.0,0.0,0.0,0.0,0.0,0.5,0.0,0.0,0.0,0.0,0.0,0.0,0.0,0.0,0.7,0.0,0.0,0.0,0.0,0.0,0.0,0.0,-7.9,0.0,-3.4,-2.0,0.0,0.0,0.0,0.0,0.0,0.0,0.0,0.0,0.0,0.0,0.0,0.0,0.0,0.0,0.0,0.0,0.0,0.0,0.0,0.0,0.0,0.0,0.0,-2.4,0.0,0.0,0.0,-15.7,0.0,0.0,0.0,0.0,0.0,0.0,0.0,0.0,0.0,0.0,0.0,0.0,0.0,0.0,0.0,0.0,0.0,0.0,-7.3,0.0,0.0,0.0,-2.4,-1.9,0.0,0.0,0.0,0.0,0.0,0.0,-4.3,0.5,0.0,-0.5,-1.7,0.0,0.0,0.0,0.0,-5.8,0.0,0.0,-3.1,0.0,-0.7,0.0,0.0,0.0,-8.1,0.0,0.0,0.0,0.0,0.0,0.0,0.0,0.0,0.0,0.0,1.2,0.0,0.0,0.0,0.0,0.0,0.0,0.0,0.0,0.0,0.0,0.0,0.0,0.0,0.0,0.0,0.0,0.0,0.0,0.0,0.0,0.0,0.0,0.0,0.0,0.0,0.0,0.0,0.0,0.0,0.0,0.0,0.0,0.0,0.0,0.0,0.0,0.0,0.0,0.0,0.0,0.0,0.0,0.0,0.0,0.0,0.0,0.0,0.0,0.0,0.0,0.0,0.0,0.0,0.0,0.0,0.0,0.0,0.0,0.0,0.0,0.0,0.0,0.0,0.0,0.0,0.0,0.0,0.0,0.0,0.0,0.0,0.0,0.0,0.0,0.0,0.0,0.0,0.0,0.0,0.0,0.0,0.0,0.0,0.0,0.0,0.0,1.1,0.0,0.0,-2.6,0.0,0.0,-10.7,0.0,0.0,0.0,0.0,0.0,0.0,0.0,0.0,0.0,0.0,0.0,0.0,0.0,0.0,0.0,0.0,0.0,0.0,0.0,0.0,0.0,0.0,0.0,0.0,0.0,0.0,0.0,0.0,0.0,0.0,0.0,0.0,0.0,0.0,0.0,0.0,0.0,0.0,0.0,0.0,0.0,0.0,0.0,0.0,0.0,0.0,0.0,0.0,0.0,0.0,0.0,0.0,0.0,0.0,0.0,0.0,0.0,0.0,0.0,0.0,0.0,0.0,0.0,0.0,0.0,-1.4,0.0,0.0,0.0,0.0,0.0,0.0,-0.4],\"coloraxis\":\"coloraxis\",\"size\":[0.0,0.0,0.0,0.0,0.0,0.0,0.0,0.0,0.0,0.0,0.0,0.0,34.74216938150711,0.0,5.443191465797735,0.0,0.0,0.0,0.0,36.704927008055336,33.39713061526888,0.0,0.0,42.91835271768943,0.0,0.0,0.0,20.808732141419213,0.0,0.0,0.0,0.0,32.43167176285136,0.0,23.405305666308507,0.0,0.0,0.0,0.0,0.0,0.0,0.0,0.0,0.0,0.0,0.0,0.0,0.0,0.0,0.0,54.29645476456083,0.0,0.0,0.0,0.0,0.0,0.0,0.0,0.0,0.0,0.0,0.0,0.0,0.0,0.0,0.0,0.0,0.0,0.0,0.0,0.0,0.0,0.0,0.0,0.0,0.0,0.0,32.41532559351101,42.63504036196835,0.0,41.28805315503905,0.0,0.0,0.0,0.0,0.0,0.0,0.0,0.0,0.0,0.0,0.0,0.0,0.0,0.0,0.0,0.0,0.0,0.0,0.0,0.0,41.493473382368585,0.0,0.0,0.0,0.0,0.0,0.0,0.0,0.0,0.0,0.0,0.0,0.0,0.0,0.0,0.0,0.0,0.0,7.697510420042749,0.0,0.0,0.0,0.0,12.081114738853076,54.772103605150406,5.46198986939131,0.0,44.17006905133837,0.0,0.0,42.65741436139795,0.0,11.656328753085168,42.573955262186644,0.0,0.0,0.0,0.0,0.0,0.0,57.41855100923394,43.84968642989366,0.0,0.0,0.0,0.0,0.0,51.781302931978544,0.0,0.0,0.0,0.0,0.0,0.0,0.0,0.0,0.0,3.7013511046643495,0.0,0.0,0.0,47.882408043038104,0.0,0.0,0.0,0.0,25.07814453529872,0.0,0.0,0.0,0.0,0.0,0.0,0.0,0.0,0.0,0.0,0.0,0.0,0.0,0.0,0.0,0.0,0.0,0.0,0.0,47.13590280596448,0.0,0.0,0.0,0.0,0.0,0.0,0.0,0.0,50.64915267471579,42.72489516273469,0.0,0.0,0.0,0.0,49.155399839013924,0.0,0.0,0.0,0.0,0.0,0.0,0.0,0.0,46.608296829355716,6.708203932499369,0.0,0.0,0.0,0.0,0.0,0.0,0.0,0.0,0.0,0.0,0.0,6.759807689572241,37.35866699977396,37.868280482042884,0.0,0.0,36.25748198648108,0.0,48.275511390351944,0.0,46.87545555334188,56.17459390151388,0.0,0.0,41.4647440604666,0.0,0.0,45.42319524941712,0.0,41.5886402759215,0.0,0.0,0.0,44.79222402753998,0.0,0.0,12.029339133967419,0.0,29.578342301983948,0.0,0.0,28.994654679785377,0.0,41.26000888673353,51.955221104331756,0.0,40.32784397906737,30.589077571359798,0.0,33.19312177746061,44.061056122915055,0.0,0.0,39.30801444998208,29.624454987954344,0.0,33.09614781209439,0.0,0.0,13.71762856084582,8.562028575830222,30.110352593972276,0.0,5.942642509860407,56.31587993926163,0.0,10.217794934981471,56.11131793141202,4.328202090167845,34.122451064756035,45.334791643210735,0.0,0.0,0.0,17.30717577576807,0.0,0.0,37.08723949464735,27.81321628291126,0.0,41.43661826613424,0.0,0.0,36.635820358405105,12.043116983018432,3.610170817749944,5.150728103870365,26.512921378075255,0.0,53.34733670328192,0.0,0.0,40.92096039928682,0.0,0.0,42.723919920032266,0.0,0.0,0.0,0.0,0.0,0.0,0.0,0.0,0.0,0.0,0.0,0.0,0.0,0.0,0.0,0.0,0.0,0.0,0.0,0.0,0.0,0.0,0.0,0.0,0.0,0.0,0.0,0.0,0.0,0.0,0.0,0.0,0.0,0.0,0.0,0.0,49.74019166294668,0.0,0.0,0.0,0.0,0.0,35.347819357540715,34.54786534650151,0.0,0.0,0.0,0.0,0.0,0.0,0.0,0.0,0.0,0.0,0.0,0.0,54.55142833449304,39.31333531174034,54.57177231255487,56.99445879498577,55.955949936832724,58.36467253399097,44.5754790589325,43.559614323361494,40.66091489378959,32.27573908268144,20.009664331684004,43.601376125072015,39.17737442283071,25.102523113557073,28.227026056600437,29.651897072531465,0.0,0.0,42.478837868598404,34.00306358746709,11.929305651769218,0.0,20.208908926510603,30.02240829780316,8.373270965797458,24.460444258707426,49.47162486382138,49.51117718926374,52.81058921592648,24.777947184273902,0.0,0.0,11.788977903109327,0.0,6.267641768108106,2.5658007197234416,3.4868801719206384,36.55730661121891,6.739312526759187,47.33097998844594,0.0,13.784048752090222,0.0,32.7219345393881,0.0,13.546709317518149,0.0,0.0,0.0,0.0,0.0,0.0,13.679973196854846,0.0,0.0,0.0,0.0,0.0,0.0,0.0,0.0,0.0,0.0,0.0,0.0,7.340186192007209,23.81463135693406,0.0,0.0,0.0,48.85944125755021,0.0,0.0,0.0,0.0,6.056676756550023,40.34538387473838,0.0,0.0,0.0,0.0,0.0,0.0,0.0,44.26582579522639,0.0,0.0,0.0,0.0,0.0,0.0,0.0,0.0,0.0,0.0,0.0,0.0,0.0,0.0,0.0,0.0,0.0,0.0,0.0,23.71546612093747,0.0,0.0,0.0,0.0,0.0,0.0,0.0,0.7416198487095663,7.7864198020228335,0.0,0.0,57.720533608067065,41.606369704649794,48.53797482384282,45.415948006546444,42.66725911047017,41.44691383766311,48.5753023665319,38.21400266917874,56.489010730701686,47.10994233351035,39.68349782970246,43.28785433967974,46.90900766377391,0.0,39.76447325607784,38.2289811530467,5.73149195236284,31.715952873383294,40.75021472336066,3.599768511075858,0.0,0.0,30.63720505093983,12.491864018899141,0.0,0.0,40.32639747526836,0.0,0.0,0.0,0.0,0.0,0.0,0.0,0.0,0.0,25.277493282892333,0.0,54.25151303573634,31.00387072608838,0.0,0.0,27.834900155500236,0.0,30.07568231423299,24.2939292828476,33.15350660186642,0.0,43.911312134042745,0.0,20.671074798697163,1.8907670401189038,11.102477201057429,0.0,0.0,0.0,0.0,0.0,0.0,0.0,0.0,24.9022087373791,0.0,27.03318947762792,43.103499471234,0.0,12.186262757712063,33.93486407811294,0.0,0.0,0.0,0.0,0.0,0.0,46.129021956536974,54.61115575899607,49.53629982144407,55.07549364281722,48.84306501439073,29.096792492186026,47.84973005845143,45.46828565054987,54.03559012354727,55.64687772013808,48.48169757753951,32.25042635377089,41.469687724891294,51.18279333265556,50.46987550344591,35.94857438063435,47.120430812971136,0.0,49.00309514034119,30.29518663638389,51.88392493505739,33.28480634363568,44.58009645570543,27.938772342391854,52.74081278605147,7.551931320309176,29.721036321097554,0.0,21.221844092035617,11.87756989735977,45.39487856575894,51.983346692314164,36.976794524854775,35.20260407034301,0.0,0.0,0.0,0.0,24.41713878951969,0.0,54.829037319045916,0.0,36.702361413583866,0.0,0.0,0.0,0.0,0.0,0.0,14.294695986040871,29.745868060399026,18.455938520342634,26.42032046235119,0.0,0.0,0.0,32.995454232363585,0.0,47.58229712823877,0.0,0.0,5.187324294213087,2.3273733406281574,0.0,0.0,39.44775025270769,0.0,0.0,0.0,0.0,40.41726116401259,0.0,0.0,0.0,27.599728259531833,7.031002773431397,2.2135943621178655,0.0,0.0,0.0,54.81503747452272,57.63287545605659,39.77180743525079,48.12847390059236,4.54789328517428,42.82345541094658,52.77166221878301,54.94844553457968,56.65571462791728,55.53240795547524,21.833498727108925,0.0,49.46274692466372,0.0,17.032175433572778,0.0,47.35625618648501,0.0,40.52713083026394,42.24460517825525,44.495168277016326,40.15167078300316,45.2645372596841,6.398437309218556,22.251142292775285,42.8374446794702,35.94303363193861,0.0,0.0,12.989996150884727,20.205733509740917,36.54237266516776,16.673931749890304,20.28575033531338,16.780842251408806,0.0,0.0,46.41542487866151,0.0,21.62178685184615,0.0,24.409936501351247,0.0,0.0,0.0,37.873737602724134,13.306264188970058,0.0,25.538663499355895,0.0,29.87532426602262,0.0,0.0,0.0,34.74461588985162,0.0,0.0,0.0,16.673182059822896,4.370354676682432,22.518732942448892,51.241080524646726,35.77815907319255,0.0,27.226825007701503,47.61914880941626,30.395997543536335,43.28100045054411,50.551442445624936,43.10371213712341,33.7192328896532,20.376416106208005,43.58615988284962,36.86041236882735,7.406078584514209,10.262796889737222,42.02945395790909,52.58250659677608,37.976045081077096,52.86065014103903,39.931462115312904,54.26742423713632,0.0,49.187108744737884,0.0,16.76141402149592,3.0713731999438507,47.775952807523055,0.0,25.236448508721132,36.76114343524518,41.95519435461276,23.190048152889485,0.0,30.775071080340336,0.0,0.0,0.0,34.36880853331986,0.0,36.99213880452616,0.0,53.40564888973197,3.788139384975162,0.0,25.744157913333794,3.623994113313831,0.0,0.0,0.0,0.0,4.931193229500006,0.0,20.518568825984598,0.0,0.0,12.378677904633717,0.0,0.0,24.813974557360474,0.0,0.0,0.0,5.983867199952444,6.684933308069221,26.70986085075448,52.751508667209414,55.99205300754742,39.117259617718624,53.63574678638613,44.13724806404076,0.0,38.467692071832566,0.0,48.573912751599494,0.0,44.429663514368414,55.30659996781578,50.1615556643399,40.057666765135856,0.0,10.738870207490777,47.1664605413635,49.24291827258006,43.22840501337055,0.0,0.0,0.0,0.0,48.74011010793195,50.34544004508581,37.09535011291847,48.0870738002082,0.0,0.0,0.0,0.0,0.0,0.0,45.517267785607146,54.23745630711925,0.0,0.0,30.282035378532054,0.0,12.285560630268364,47.998749983723535,42.59485493186554,0.0,50.373438768197374,0.0,22.407402050810507,0.0,4.997499374687305,41.606770282411134,0.0,0.0,0.0,37.98914318591563,2.4186773244895647,0.0,0.0,0.0,32.81717030255153,0.0,32.525246604240685,32.07052125135059,16.403810532921916,0.0,0.0,0.0,44.14702707997448,0.0,50.76938053590963,47.30706430685939,0.0,0.0,16.2949890048035,41.697661804950165,51.73771996007043,52.03735837517763,36.14772929705723,22.528315516256423,0.0,47.648539676818324,22.40026041515292,36.34090899615295,38.40499099509503,0.0,17.811840631070865,33.33574157967196,0.0,0.0,53.83418987966662,33.78261387163521,0.0,31.3898338107526,0.0,17.061750594043186,0.0,0.0,0.0,35.37951384629246,50.56423307701473,0.0,0.0,0.0,14.584466622632005,29.650182686339946,27.64169555822025,25.116063916678247,0.0,0.0,31.203605560896325,34.624654029559196,0.0,0.0,0.0,10.489677465648455,0.0,0.0,0.0,0.0,21.22164775255053,1.795828499606797,0.0,0.0,49.57206874843938,35.34814940936329,24.885906319307182,4.378355855797928,0.0,0.0,37.32191045485212,0.0,54.45851632205931,41.06425858740579,51.32470165524589,50.25460177933957,43.93884006965443,45.636498551050124,54.35702959752924,47.517698457171406,0.0,40.32726538377392,36.27081011869834,38.05318646315969,22.423202269078338,45.72829175320974,7.338028799798124,0.0,0.0,50.2593938151533,32.4498587567547,31.097025581235258,48.0372251488364,0.0,27.019869232350718,39.18137312550442,43.91129315639281,0.0,46.40603409040682,49.20326886159771,43.762883817225756,0.0,42.041190119532416,36.50566166135508,22.57325113196296,42.20448238437868,0.0,0.0,42.91967303385861,32.99722210530259,43.731167375225645,41.34628157404242,49.09263352751276,0.0,42.09097290393749,47.83455863703563,0.0,8.975429423338657,0.0,0.0,42.02757031600411,49.90435852708659,41.23635127732169,0.0,0.0,9.14904366587022,16.28869751289731,0.0,0.0,4.110555518012949,22.901819432816534,0.0,35.712509479639344,0.0,10.626852779633301,0.0,37.17037350722575,35.03538687289367,0.0,0.0,54.17487117351245,52.135576464956536,54.76285237275356,35.50692420735243,49.94263375780927,0.0,56.638488091873796,24.51128991573746,57.17490708344002,11.728952780761503,27.17756427643949,0.0,26.656706473231086,45.39563121417446,49.63023272159823,0.0,51.42791071004149,44.35752472805488,56.096152571574194,44.28097785731476,0.0,10.232708992897873,0.0,46.3857736811622,28.365383833116027,44.12399196204566,23.97623823705462,45.60157161034398,26.500220124871927,36.32418845159063,0.0,0.0,0.0,0.0,0.0,23.87868645186889,23.207039162001408,38.598726231142265,17.83615242515417,50.988707900213846,36.09741449651664,0.0,5.850925852660697,0.0,12.126898476802179,0.0,15.398593009319617,0.0,3.4544657088084256,43.53732115476709,0.0,16.459748884273203,0.0,5.640035460881429,0.0,12.256222909200044,0.0,0.0,14.234172496730078,5.02908208987154,22.720438669474078,0.0,0.0,0.0,0.0,0.0,47.21620484537062,38.723442512256064,53.66230831163835,51.40855959857269,33.757320193799,42.98321377778388,27.30732502461565,14.673445403176448,52.929197991278876,0.0,0.0,18.198534739551615,0.0,37.31029795288869,18.183371524555064,49.23636867194818,0.0,41.87684324301439,0.0,33.404365982108835,52.11959004699356,37.54341930796035,37.13154543870575,29.890020631196176,37.518240008472276,0.0,33.751345652185925,0.0,53.14188555179427,20.03971057675235,0.0,44.49938201818088,36.93133267746143,44.85836971328015,38.18138726308055,36.82716388754366,23.506275757763074,56.80381442591096,9.845895930115589,0.0,0.0,0.0,41.00884051030948,0.0,0.0,25.02025845856379,49.33452138209106,0.0,7.791127432321121,0.0,0.0,48.216283556491575,32.98408707240508,0.0,0.0,0.0,0.0,27.164468213703962,0.0,40.16997220146748,0.0,6.085912695178374,0.0,0.0,0.0,0.0,19.401331569422418,0.0,16.606725545192013,0.0,0.0,7.243157690768116,0.0,0.0,11.305603330502402,0.0,0.0,4.501666358138951,0.0,0.0,0.0,0.0,0.0,48.729405906495515,29.286401850233037,0.0,0.0,0.0,14.492814311467148,0.0,48.50822954235013,56.669406796495316,15.52170523278074,31.831849878175003,22.641223465175198,49.17867085095601,49.94256701452179,49.21495368957152,0.0,0.0,42.52242545606577,18.31169935678644,48.4607917117883,42.20710840604933,0.0,29.274818530607494,22.67572123072016,0.0,0.0,9.518228126424933,44.24179773321457,0.0,32.33362542823384,38.85843966673559,39.602125363840386,28.820478830165193,0.0,0.0,21.68740033598617,21.848035762206795,0.0,34.07303430378149,25.980280983853888,2.8254793103707785,0.0,38.21227987615146,0.0,0.0,0.0,0.0,30.258249563824194,0.0,0.0,0.0,51.03869447128649,35.0260855173208,34.97484810546001,0.0,0.0,0.0,0.0,0.0,31.019133880021005,0.0,8.00312438988674,0.0,0.0,0.0,0.0,23.284257915309798,16.810760442843357,0.0,39.31365326872243,0.0,0.0,0.0,0.0,0.0,0.0,0.0,0.0,0.0,0.0,9.15323258016897,0.0,0.0,0.0,0.0,0.0,55.87223520378141,18.654311387272728,52.50309514685777,0.0,0.0,35.881146395658405,33.893337595069184,39.69292548217289,49.69490248841756,15.28746763419851,52.1307171125304,0.0,51.51747276410209,40.53965137163034,45.097339167627176,10.349798709797838,44.33625303668917,0.0,30.774177486977617,20.994046775217015,46.25575639852838,32.85364008244247,42.670032419329964,0.0,54.031688233233375,48.210925456096874,0.0,9.771557364787524,38.298281075439014,0.0,0.0,0.0,47.935129776257725,0.0,38.56738691347043,4.121083999790989,0.0,14.955935276671934,0.0,17.415988822535084,27.575139769969127,49.68822798208848,17.633160049558132,0.0,0.0,0.0,41.3143639266862,0.0,22.318975484252565,0.0,0.0,0.0,42.28409866604703,36.91090624734104,0.0,3.644630754045367,11.92560271013587,0.0,0.0,0.0,0.0,0.0,0.0,0.0,28.834383410551144,53.97439207624297,17.632025786430013,37.572640755386495,52.88194398847304,0.0,45.3572118484665,0.0,35.019803921019744,23.095670589961227,41.05780477976544,40.70962212221246,41.87937041869983,0.0,51.02564714598601,36.05560520455412,44.01069945668519,37.860423487682624,43.12128244846157,30.831450392956427,28.19136983783039,41.50447767008603,36.71847854509593,45.99766298411257,54.3689096206033,35.69530781489354,34.074990829052325,0.0,33.13356807428578,0.0,29.789399680647023,0.0,2.5232254490367425,42.72056491511635,53.57644071791257,31.168226342436185,31.76092987723549,0.0,0.0,0.0,0.0,0.0,0.0,41.85594342503822,0.0,0.0,22.041400439476003,0.0,0.0,18.236867421060367,43.08627004820294,22.783217507630482,0.0,0.0,12.976388814561123,0.0,0.0,17.955639782530724,4.640043103248073,27.98100546203919,28.12060336005138,2.262741699796952,19.742087022399634,0.0,48.53646395580677,27.747612509907945,54.59729846796451,51.86344248762002,48.19356803557918,0.0,53.34658689488326,21.40031152421228,45.8287209800434,34.246265003160126,17.832507769052928,46.1873539690971,39.18424428261951,36.919890754623445,12.174700543887434,29.638376023887226,42.788803052512115,50.12653987659631,50.417473822739964,31.02762210246433,48.700171115373614,35.8166627888938,0.0,0.0,41.740228397394645,18.654802777479773,40.753343421123134,25.611878754463387,0.0,13.55501137341216,19.212842926889632,0.0,44.83358116412295,2.579728667902886,39.7121727769543,13.43012782267291,0.0,29.86014623764145,0.0,40.782716927639825,41.84136709047638,41.550050140362885,27.400486613683835,28.94713572474256,46.91018013182213,0.0,23.833379953334358,30.33630937781765,39.08277540468857,11.464147009990189,0.0,0.0,0.0,0.0,0.0,0.0,47.19860520538006,50.40368703444888,0.0,27.324256623008065,0.0,15.876030150303098,28.160581196653826,0.0,0.0,11.71117699749547,52.76376597628338,49.567748250920886,34.43271215961168,30.863948764429562,47.39024161153855,36.224945364578126,48.10597675965015,48.38272763428422,53.78621260756952,53.093627991815836,18.166360853695135,0.0,42.8956097209648,46.435869756040965,24.175021544285478,28.80231472179507,35.14451118833025,52.910994446649084,50.359937781269444,0.0,0.0,10.897476772170702,29.780614500040123,0.6244997998398398,0.0,16.441056332648856,43.12244195311764,41.2980023729962,0.0,11.86753273993095,0.0,1.7146428199482247,33.7965481472098,0.0,0.0,0.0,0.0,17.949791085135224,37.04465773450566,18.42118345818205,0.0,10.371435130523983,0.0,0.0,0.0,0.0,0.0,14.665208260823745,1.711724276862369,0.0,4.081870486268115,0.0,16.222309741012005,26.212719558768928,0.0,45.32135258352292,0.0,0.0,31.724858812399308,7.921805349792432,0.0,0.0,0.0,0.0,11.784877315158313,0.0,6.498589590570149,0.0,7.627472276798736,0.0,0.0,43.94798061344799,28.36044781028678,42.77499269433018,48.336132102875894,41.560076997041286,0.0,38.66380736554537,33.76075137394501,53.71359232075248,22.56021572000882,51.63734113991541,25.554647326856223,50.80047571955729,45.221713073846836,49.74414538415551,45.13116070595426,36.2812623815655,0.0,51.652524946350205,23.381474147994457,0.0,45.67170896736841,40.97452460574338,49.236284046084045,17.793538152936307,17.426273267684056,0.0,44.88139926517443,44.751796984404216,50.134552290145464,43.05645518773381,0.0,48.3468199574698,32.525938367196574,0.0,0.0,0.0,52.75015007877542,0.0,28.705632432213246,0.0,32.95767487753543,0.0,0.0,0.0,0.0,0.0,0.0,0.0,32.71159325580657,11.638585251939643,1.1832159566199232,22.456365096188943,41.54581808076476,7.210871422142174,11.07828205694967,0.0,0.0,0.0,0.0,11.202975795147779,0.0,0.0,10.957797832289707,20.59069369075911,7.919911615668448,0.0,13.854241227869537,0.0,0.0,43.01027009137852,34.338947761009365,55.02410078017332,37.20517437131561,23.67294517657938,51.72776494946085,44.21500499453404,51.44793484679438,51.32708836472219,45.349660050177555,15.925974590795597,44.35493208201316,0.0,30.975366556884087,37.618213673698015,0.0,41.602584054358935,35.64907665938446,22.183251940747258,42.86274606228584,0.0,0.0,3.5962943891363093,0.0,0.0,44.31386163869416,0.0,0.0,0.0,22.441590852700262,26.818059835367155,0.0,48.04362600803566,52.990549471894795,0.0,29.59549515269736,0.0,29.816885596364134,48.51156219569382,0.0,0.0,38.494350234807186,0.0,0.0,0.0,0.0,17.146865602785834,27.645765197102666,0.0,0.0,0.0,0.0,27.23582199971207,33.66479367727255,0.0,27.425960937282273,14.957049619939522,0.0,0.0,0.0,25.76929697657014,36.37980208852159,0.0,0.0,0.0,16.21331757126428,0.0,0.0,14.152738250953417,0.0,20.630882999361248,29.272085679021917,32.366211805935365,0.0,25.640852819930405,0.0,38.02788450597798,0.0,15.62167297912317,4.257346591481601,0.0,0.0,0.0,33.569827722723424,39.294719747060164,46.87429999477325,48.742554987061055,0.0,0.0,12.554813154059003,0.0,0.0,52.87324465171397,25.04362859757613,48.10147260393043,29.069944387058378,0.0,0.0,46.829780410902316,24.333242008961054,0.0,0.0,25.64926899543143,39.22155019883839,45.112470559702224,7.793159393553638,45.64551821738176,29.093842418399586,35.16904415344082,0.0,41.033543189281986,0.0,0.0,21.60540055942803,0.0,43.62399951097251,42.615020825995146,20.444233090694965,27.83364271285142,51.664865560004415,43.4160684539722,0.0,48.328614712197165,28.011693986619232,6.701989754294369,50.5177031676355,43.78218815911329,0.0,9.187037970241915,0.0,20.441134997841974,0.0,0.0,18.12498275861249,0.0,24.254346689476776,0.0,43.21265246815254,48.72680644847013,22.319423528995255,10.49444297394259,31.30662869106158,17.078983185970614,0.0,0.0,0.0,33.71238644771385,0.0,26.301013922153896,0.0,2.3515952032609695,0.0,0.0,0.0,34.39915212133389,44.33832052149326,0.0,0.0,0.0,0.0,0.0,0.0,0.0,0.0,0.0,0.0,0.0,0.0,22.633640155014106,19.583326241133477,45.09574998452371,0.0,0.0,35.29707258871945,0.0,43.44419792484757,0.0,0.0,0.0,12.91581717636685,0.0,42.192416380198,43.749323804298164,31.855873346475214,40.19293055584116,0.0,24.050086624930625,0.0,24.700438592597237,0.0,43.496494111594785,33.73981327749162,38.829456172687635,7.0755447375685,8.456654184723412,37.19919353964545,36.878155232241895,6.353476738500481,43.80947386125517,35.798417097221915,36.51648029771393,11.630634835066699,3.2812599206199287,45.61140208325107,0.0,10.12916580968048,0.0,4.236744032862972,0.0,0.0,48.62375962428245,12.863060807340258,38.80483217332604,0.0,0.0,10.777213616391437,0.0,11.281252885502878,0.0,5.557277510916051,0.0,0.0,40.39531738539345,0.0,35.76735010219977,46.6385570102678,15.910321597420117,0.0,6.0360030925549815,49.87766701306979,36.422017150802205,0.0,0.0,45.30167399408845,0.0,0.0,27.22599860427529,33.02875010249903,0.0,0.0,38.657362386312265,8.673138609138753,0.0,0.0,0.0,7.895673920994122,0.0,4.555582655745948,0.0,0.0,41.31117685727835,18.634287393583556,0.0,0.0,0.0,21.52916626346687,1.9321835661585909,46.45587512181134,0.0,0.0,37.85133198889215,5.067872663488429,0.0,0.0,41.096451590536745,34.40477195583964,0.0,47.03771536402113,41.07980038899897,27.471621721332728,0.0,13.533600161573156,0.0,18.916350951844095,0.0,41.06494855713325,37.042903053981476,0.0,0.0,36.41288691292315,0.0,14.811763343144968,0.0,33.49470107345339,46.523757371906235,33.56285148791741,0.0,27.256375400995633,0.0,32.54076930047398,0.0,38.5727019190169,19.370553253155496,50.39275741612082,0.0,23.624492939884806,26.74624584248539,37.6897643045606,0.0,0.0,8.386596449096617,0.0,40.87915116535567,38.865258693765696,0.0,31.264196775225173,0.0,0.0,0.0,0.0,0.0,8.191458966508957,0.0,0.0,0.0,0.0,0.0,0.0,0.0,5.924665954015189,0.0,15.37866487486261,0.0,0.0,0.0,0.0,0.0,0.0,0.0,0.0,35.6176922329339,0.0,44.991462153020436,0.0,0.0,0.0,23.360793365523076,0.0,36.466971357654586,0.0,0.0,0.0,42.955015229113,43.097969789770836,0.0,0.0,0.0,0.0,0.0,12.328219660599823,0.0,30.254916955761093,0.0,37.89481055061062,0.0,0.0,0.0,0.0,0.0,22.47613549226528,5.776821502060342,22.723299349639635,0.0,0.0,14.861359291801003,0.0,0.0,45.93649602077492,0.0,0.0,0.0,0.0,0.0,32.40766370269029,0.0,0.0,32.65958256520328,20.109989225921204,0.0,17.461385970191483,0.0,0.0,12.664056748662057,0.0,30.000666659259423,0.0,0.0,44.556518415752926,43.910742800974454,0.0,0.0,26.337362560944992,0.0,0.0,7.193978963920683,0.0,0.0,30.495464143595733,47.88110274419335,8.919828099987875,0.0,0.0,0.0,31.283621913071382,0.0,0.0,0.0,0.0,14.632953677686983,0.0,37.814944135883636,34.2822840545959,0.0,19.444193649176274,40.570350421623544,7.310152757181843,7.404953297174352,0.0,0.0,0.0,0.0,0.0,0.0,0.0,0.0,0.0,0.0,0.0,0.0,0.0,0.0,0.0,24.01856920523508,0.0,0.0,0.0,0.0,0.0,0.0,0.0,0.0,0.0,0.0,2.513297966152575,16.01207877405888,0.0,0.0,44.20671140599954,0.0,31.789856872908377,40.94795477188085,0.0,0.0,36.735949695087506,0.0,43.043969767359165,0.0,29.346266088436753,30.875448714688066,10.859327787667153,0.0,5.956788844111674,44.683964312342184,0.0,20.95614468360056,0.0,0.0,34.585449734437894,0.0,28.9147309630691,0.0,35.05300747914978,0.0,0.0,7.057265759485043,0.0,18.639608364984497,0.0,10.35317986578679,0.0,1.1474609652039018,4.363675820528686,0.0,0.0,0.0,0.0,30.588069569686805,0.0,0.0,0.0,0.0,0.0,0.0,4.449719092257398,0.0,6.763012149429668,0.0,0.0,16.703542538435762,0.0,0.0,0.0,0.0,9.160513086066741,0.0,8.261355820929152,0.0,14.271883781290647,0.0,0.0,5.090841449767091,0.0,0.0,0.0,9.338718684416332,0.0,0.0,35.48922371650301,0.0,0.0,0.0,0.0,15.642197202865491,0.0,0.0,0.0,0.0,0.0,0.0,26.770879701645963,0.0,0.0,0.0,0.0,0.0,0.0,0.0,0.0,40.72595405062145,0.0,0.0,0.0,0.0,0.0,0.0,0.0,2.4289915602982237,0.0,28.609205977563708,29.14089337454614,0.0,0.0,0.0,0.0,0.0,0.0,0.0,0.0,0.0,0.0,0.0,0.0,0.0,0.0,0.0,0.0,0.0,0.0,0.0,0.0,0.0,0.0,0.0,28.842358895670564,0.0,0.0,0.0,5.835808998473707,0.0,0.0,0.0,0.0,0.0,0.0,0.0,0.0,0.0,0.0,0.0,0.0,0.0,0.0,0.0,0.0,0.0,0.0,5.618718715152059,0.0,0.0,0.0,17.960141053640616,23.798459333886868,0.0,0.0,0.0,0.0,0.0,0.0,15.488113722034294,46.53632989396564,0.0,40.62257172229904,10.235640347986687,0.0,0.0,0.0,0.0,4.652597840633414,0.0,0.0,24.89159831482637,0.0,15.242867184358722,0.0,0.0,0.0,6.362651438931202,0.0,0.0,0.0,0.0,0.0,0.0,0.0,0.0,0.0,0.0,11.642522636152915,0.0,0.0,0.0,0.0,0.0,0.0,0.0,0.0,0.0,0.0,0.0,0.0,0.0,0.0,0.0,0.0,0.0,0.0,0.0,0.0,0.0,0.0,0.0,0.0,0.0,0.0,0.0,0.0,0.0,0.0,0.0,0.0,0.0,0.0,0.0,0.0,0.0,0.0,0.0,0.0,0.0,0.0,0.0,0.0,0.0,0.0,0.0,0.0,0.0,0.0,0.0,0.0,0.0,0.0,0.0,0.0,0.0,0.0,0.0,0.0,0.0,0.0,0.0,0.0,0.0,0.0,0.0,0.0,0.0,0.0,0.0,0.0,0.0,0.0,0.0,0.0,0.0,0.0,0.0,0.0,0.0,0.0,0.0,0.0,0.0,0.0,20.976653689280376,0.0,0.0,11.111255554616678,0.0,0.0,8.65524888916161,0.0,0.0,0.0,0.0,0.0,0.0,0.0,0.0,0.0,0.0,0.0,0.0,0.0,0.0,0.0,0.0,0.0,0.0,0.0,0.0,0.0,0.0,0.0,0.0,0.0,0.0,0.0,0.0,0.0,0.0,0.0,0.0,0.0,0.0,0.0,0.0,0.0,0.0,0.0,0.0,0.0,0.0,0.0,0.0,0.0,0.0,0.0,0.0,0.0,0.0,0.0,0.0,0.0,0.0,0.0,0.0,0.0,0.0,0.0,0.0,0.0,0.0,0.0,0.0,0.0,45.196423162310865,0.0,0.0,0.0,0.0,0.0,0.0,14.546706385524766],\"sizemode\":\"area\",\"sizeref\":0.14591168133497742,\"symbol\":\"circle\"},\"mode\":\"markers\",\"name\":\"\",\"showlegend\":false,\"x\":[3.0394304700750756e-15,5.198966257502491e-18,5.870304242705515e-18,-3.996802888650563e-18,-1.116468029138673e-17,-2.8163235632483462e-18,8.167078124898808e-18,3.6255720647915267e-19,2.491062911502695e-18,2.0608514894604467e-18,-6.118369699770199e-18,6.6704454459998176e-18,-0.07541420923883445,-4.433953204596719e-18,-0.030199729653352988,-3.240463453124676e-18,8.257283745649601e-19,-4.236194728335363e-18,9.436895709313831e-19,0.6039316109716435,0.7026816316894067,-3.677613769070831e-18,-3.0531133177191805e-18,0.498137366402346,6.38378239159465e-19,-1.1449174941446927e-19,6.479192182773374e-18,-0.1798182950795076,-1.6798194779621412e-17,2.8085173076064507e-18,-2.067790383364354e-18,-5.0931481254679055e-18,1.3961145588600024,-2.463307335887066e-19,-0.04902957027024692,8.743006318923108e-19,-5.041540102057596e-19,1.294103713078698e-18,2.9490299091605723e-19,3.689756833402668e-18,2.1510571102112408e-19,-4.579669976578771e-19,-1.0408340855860842e-18,-1.3183898417423734e-18,-1.994931997373328e-20,1.0460382560140146e-18,4.0939474033052645e-19,-6.175615574477433e-19,-5.134781488891349e-19,-8.335346302068558e-19,-0.2699907931261836,-2.1545265571631944e-18,2.3037127760972e-18,2.9802549317281545e-18,3.2441497405111264e-18,4.799979858027825e-18,-2.117230002429693e-18,-3.5561831257524543e-19,1.6306400674181987e-19,-1.0980799602933189e-18,4.3194614551822496e-19,-2.587340064419408e-18,-5.468715758016884e-19,7.042977312465837e-19,-2.916070163117013e-18,8.036106502462559e-19,-5.022024462952856e-19,6.758916343274635e-19,-3.9725167599868884e-19,1.3227266504323153e-18,1.3478801408339792e-18,1.457167719820518e-19,-9.085614205428527e-20,7.580741590018647e-19,1.249000902703301e-19,-1.0579644799113551e-18,-7.8843181983145885e-19,0.10499824419993756,0.875673229058423,5.48172618408671e-19,-0.9541501723193396,9.645062526431048e-19,2.949029909160572e-20,3.2959746043559334e-20,7.665309359472517e-19,-1.4051260155412138e-19,9.792514021889076e-19,-1.5421691701433815e-18,-3.1398494915180207e-19,-7.008282842946301e-19,1.8041124150158793e-19,5.065392549852276e-19,-3.9464959078472363e-19,-4.371503159461554e-19,-6.453171330633722e-19,4.679416576447437e-19,-4.640385298237959e-20,1.1622647289044608e-18,-2.4494295480792515e-18,-3.157196726277789e-18,-1.1483869410966464e-18,0.7070452518517819,-2.220446049250313e-19,1.0547118733938987e-18,2.040034807748725e-18,3.3029134982598406e-18,9.645062526431048e-19,1.0894063429134349e-18,4.544975507059235e-19,1.6341095143701522e-18,-2.3245294578089216e-19,3.6082248300317586e-19,-3.400058012914542e-19,-6.973588373426765e-19,-1.3010426069826053e-18,4.0939474033052645e-19,4.541506060107281e-18,-1.1136924715771102e-18,1.0321604682062002e-18,-0.0799172469134595,-4.956104970865738e-18,-3.1225022567582525e-20,-9.22005527481673e-19,-6.418476861114186e-19,-0.09009614210105785,0.8315843077048166,-0.011248638240851757,-1.0234868508263161e-18,-0.4244664612243025,2.7755575615628914e-19,6.210310043996969e-19,0.722980414730896,1.2836953722228372e-19,-0.13969096003278858,-0.05563095282278824,-7.424616477180734e-19,9.853229343548263e-19,4.3021142204224816e-19,1.0269562977782697e-18,3.209238430557093e-19,1.179611963664229e-19,0.9832681859487503,-0.21478076124141962,6.938893903907229e-21,-9.020562075079396e-20,2.42861286636753e-19,1.6479873021779668e-19,-2.336672522140759e-18,0.016359921010145145,-1.4988010832439613e-18,1.2212453270876721e-18,-1.6930901125533637e-18,-5.967448757360216e-19,4.649058915617843e-19,7.563394355258879e-19,-8.326672684688674e-20,7.840950111415168e-19,9.71445146547012e-20,0.009874231170344817,4.3021142204224816e-19,-5.6898930012039275e-19,2.0816681711721684e-19,0.16593253364755756,-1.0226194890883278e-18,-1.231653667943533e-19,4.683753385137379e-19,-4.163336342344337e-20,0.040858666222979796,5.6898930012039275e-19,0.0,-2.168404344971009e-21,-4.85722573273506e-20,-1.0998146837692957e-18,-1.3877787807814458e-18,-1.1890721305449773e-27,6.245004513516505e-20,-1.1553258350005536e-18,1.4690939437178586e-20,-4.0939474033052645e-19,-1.349614864309956e-18,-3.719247132494275e-18,3.1225022567582527e-19,-3.635980405647388e-18,1.3010426069826053e-20,1.3183898417423734e-19,-1.8388068845354155e-19,-2.9778502051908994e-26,0.8871219021979597,-6.279698983036041e-19,-2.359223927328458e-19,1.942890293094024e-19,-2.605618929542037e-26,1.8388068845354155e-19,-6.800116025829084e-19,7.494005416219807e-19,2.7755575615628914e-20,-0.013608816676951411,-0.08105696115777662,-5.863365348801608e-19,-1.4889251025954497e-26,-2.067790383364354e-18,-7.806255641895631e-21,0.16783561727952306,-3.9898639947466565e-19,-1.429412144204889e-18,-8.187894806610529e-19,1.249000902703301e-18,-1.0842021724855044e-18,1.6583956430338275e-18,1.2073675392798577e-18,-1.3877787807814457e-20,0.8270967902956435,0.013176077078870235,3.6567970873591095e-18,-3.8272336688738304e-20,2.7755575615628914e-19,-4.698385879301197e-25,3.7470027081099033e-19,-9.992007221626408e-19,1.0824674490095276e-18,1.942890293094024e-19,2.8189256484623116e-19,-8.257283745649601e-19,1.5785983631388944e-19,0.014878337095884013,0.742619244559448,0.9572012442525256,-5.065392549852276e-19,2.706168622523819e-19,-0.2440054793473242,-1.8110513089197867e-18,0.7872443626982059,-1.5230872119076366e-18,0.7397396215952043,0.7267224120722359,-1.9984014443252816e-18,-3.3306690738754697e-19,0.6789024313218466,1.249000902703301e-18,-1.620231726562338e-18,0.8445746872822765,5.637851296924623e-21,-1.346677786694226,4.433688083284229e-25,7.45931094670027e-20,3.3306690738754697e-19,0.0043897222382074975,-1.942890293094024e-19,3.1225022567582527e-19,0.04139989472658981,-3.642919299551295e-20,-0.061414422231201644,-1.394717674685353e-18,4.749826173644338e-28,-0.018183570656908305,1.4085954624931675e-18,0.09054021485885674,0.827938139629753,5.401928904191777e-18,0.6361230351148273,0.6701352074173986,3.2957977531409694e-28,-0.007494662865475127,-0.016930266998070913,1.5881867761018132e-25,-6.314393452555578e-19,-1.1927032400912805,0.9983732928703917,5.342948306008566e-19,0.728938471719289,-3.049318610115481e-23,-1.5543122344752192e-18,0.06637884452963295,-0.09007496210446535,0.030691487801269665,7.008282842946301e-19,-0.08099932910314,1.0935454548158248,-6.245004513516505e-20,-0.0801230837059469,0.9635828733253846,-0.006746694569365132,-0.048949997316899745,0.8144337471415138,3.165870343657673e-19,4.440892098500626e-19,-1.5265566588595902e-19,-0.11134208110942836,7.771561172376096e-19,1.6375789613221058e-18,-0.2512493225002091,0.011942612500486867,-2.1325750167382746e-28,0.7890262735829936,1.4432899320127034e-18,-3.209238430557093e-20,0.6953297894610388,-0.08878887703428953,-0.027237453516485717,-0.026333809778804253,-0.06367437843644487,6.314393452555578e-19,0.628259118768832,9.870576578308032e-19,1.3964523981613297e-19,-1.145431872889541,-1.1865508575681361e-18,-5.421010862427522e-23,1.3450379958653487,1.5612511283791263e-20,6.38378239159465e-19,1.817990202823694e-18,3.2954875604112622e-24,8.74561518040065e-23,-8.604228440844963e-19,-1.169203622808368e-18,0.0,-1.6930901125533637e-18,1.8561541192951836e-19,-2.359223927328458e-19,8.066464163292153e-19,2.4775713707188286e-23,1.852884572118782e-24,-2.2165855477006915e-27,2.895132143935597e-27,2.5118795932144166e-18,6.800116025829084e-19,-2.8449465006019638e-19,-1.6771252355635148e-22,3.9387032047324965e-23,2.0469737016526323e-19,1.5280474368467579e-21,7.355227538141662e-19,2.040034807748725e-18,-4.85722573273506e-20,-1.2663481374630691e-18,2.1002632740604217e-29,-8.881784197001253e-19,-4.510281037539699e-19,1.4889251025954497e-26,1.6963664905872637e-28,4.163336342344337e-19,-6.617444900424222e-26,9.159339953157542e-19,1.0755285551056204e-19,0.38773921567144004,-7.389922007661198e-19,-2.8449465006019638e-19,-3.930232875259954e-22,-3.001071613439876e-19,-5.273559366969493e-19,0.7236683470686653,-0.49060597685396273,-1.3877787807814457e-19,5.759281940243e-19,-9.063252535621013e-23,-9.71445146547012e-19,1.0234868508263161e-18,-1.0269562977782697e-18,1.096345236817342e-18,1.951563910473908e-21,-1.9852334701272665e-26,4.718447854656916e-19,6.462348535570529e-30,8.187894806610529e-19,0.8224037830358959,0.6836603105351536,0.8058287279102289,0.9836146598095216,0.8585252497945097,0.7284228931512154,-0.18545376164659796,0.631759153299881,0.8142035683609976,-0.06014135428224209,-0.07630256539197948,-0.01199008245586535,0.013721622619729205,-0.04442131305505635,-0.18628195602771752,-0.015046752169097398,1.1102230246251566e-19,-8.465450562766818e-19,-0.42711886758084255,0.7531988056220347,0.6793505928553483,-1.0521097881799336e-18,-0.08960170225606277,-0.03251773826613262,0.01674602495316782,-0.06831315915452624,0.8606494598827186,0.6646010233913773,0.7732825501479538,-0.033581869377227784,6.938893903907229e-20,8.326672684688674e-19,-0.0026768678469830096,-1.0824674490095276e-18,-0.006500258062297405,0.019749836537455354,0.00946599963785863,0.1366082899801366,-0.025481088089248895,0.15382572299287867,-6.938893903907229e-21,-0.08980960763103138,3.3306690738754697e-19,-0.010931054322263547,-8.326672684688674e-19,-0.16370158973332574,-1.6861512186494565e-18,-1.6054897143058033e-29,-1.3877787807814457e-20,9.71445146547012e-20,-2.8102520310824276e-19,-5.293955920339377e-25,-0.06887403645738364,5.551115123125783e-19,-4.446922973085077e-24,4.891920202254596e-19,-7.910339050454241e-19,8.326672684688674e-20,2.983724378680108e-19,-5.251604272976662e-23,9.020562075079397e-19,-5.250658185151054e-30,-1.1102230246251566e-18,-5.100087019371813e-19,-4.2005265481208435e-29,-0.019171517033424238,0.7910467837255182,-5.551115123125783e-20,2.9073965457371286e-18,1.6653345369377348e-19,2.8756399183070496,3.844147222764605e-18,2.610182963195284e-29,4.926614671774132e-19,1.5265566588595902e-19,-0.050765346308493324,0.04795811647542636,-7.216449660063517e-19,-1.0547118733938987e-18,6.437450399132682e-23,-7.527343574232552e-26,-8.81239525796218e-19,-1.0232158002831948e-21,-1.7069679003611782e-18,0.8577902426861207,1.4710455076283324e-18,-1.7370792863613582e-26,-2.429843049374519e-25,-9.159339953157542e-19,-1.762479051592436e-18,-1.2278462217584004e-28,2.5673907444456744e-19,-1.4889251025954497e-26,-6.071532165918825e-21,-1.3322676295501879e-18,8.158715026157793e-29,-5.828670879282072e-19,2.5673907444456744e-19,9.740878893424454e-24,-2.9778502051908995e-25,-1.9774786518845817e-27,-8.118505867571458e-19,5.48172618408671e-19,9.020562075079396e-20,-0.025081527573154596,2.42861286636753e-19,3.469446951953614e-20,1.179611963664229e-19,-5.118180040171859e-27,1.2836953722228372e-18,8.685396431806791e-27,-2.359223927328458e-19,0.6135733322276045,-0.08074247918315765,1.8214596497756476e-20,5.03069808033274e-19,0.7863975884222156,-0.0021051926487621504,0.6997634320009792,0.832252790593796,0.7130756014636102,-0.07950445698880482,0.16687183394147148,-0.31902911108421056,0.8162430646360836,0.017219392662613308,-0.011863544930796003,-0.007687481855070062,-1.54096180422404,6.989676176073084e-26,0.715263214065214,-0.04070651816091443,0.010619395470561526,-0.2452773517561576,1.3036614297216391,0.007812274915119992,-5.366800753803247e-20,-1.0339757656912846e-28,1.3276209234253584,-0.09037674689678564,6.203854594147707e-27,-1.0339757656912846e-28,-0.0011110249553769268,-6.938893903907229e-21,-1.164670302474663e-23,1.3234889800848443e-26,5.421010862427522e-23,-1.2924697071141058e-29,-9.298117831235687e-19,1.5230872119076366e-18,-2.5849394142282115e-29,1.3461454173580023e-18,-0.18924567575941606,-1.7784383169890094e-26,2.808012834077459,-0.05939316279647679,1.1773757966834776e-22,-4.235164736271502e-25,-0.005574826228144402,1.1580528575742389e-25,-0.05852452612170516,-0.28202325734253353,-0.18531015356056377,-1.9645539548134408e-26,0.7304453925694661,-3.0531133177191803e-19,-0.09745447064216205,0.09063211119235315,-0.08296188672704312,3.308722450212111e-27,9.922618282587336e-19,-1.3843093338294921e-18,-8.187894806610529e-19,-5.09543257332665e-25,8.735027268559973e-24,9.159339953157542e-19,1.519617764955683e-18,-0.28137143190832614,-3.1019272970738537e-27,-0.049006915659570195,-0.6019042754550316,-9.506284648352904e-19,-0.0904374496438366,-0.3455660830603326,-9.317362419797303e-24,-1.0559477507122243e-26,-5.4283727698792445e-28,-3.763671787116276e-26,1.4432899320127034e-18,-1.809457589959748e-28,-0.05548579966329895,0.9378262000515889,1.3377655245073785,-1.2121038268590372,0.8219366505410748,0.4661431521809879,0.8063655389052051,-0.8574109601264813,0.8169877628092174,0.9171169919113509,-0.6327493418380644,-0.060326141318897235,-0.004726068473219229,0.18223083847465296,0.51673813312744,-0.26691699653498374,-0.12139951330170774,-3.4741585727227165e-26,0.7735761948922506,-0.03421658933759595,0.5764146049672287,-0.26390753451462656,-0.07721715168266718,0.12152497277852019,-0.04689082261757291,0.009413696487685533,-0.24442980549008653,1.83530698410203e-27,-0.08922941983270276,-0.044280164936533736,0.6767793441030976,0.73806572150633,-0.03110515482009205,0.71849854649748,7.320533068622126e-19,-9.71445146547012e-19,1.7957098481791168e-21,2.151463686025923e-22,0.050571048778838515,1.3079815008865126e-18,-1.0732560874610153,-1.1553258350005536e-18,-0.018737223946638536,-2.6367796834847467e-19,5.759824041329243e-23,-1.1180834903756765e-22,-4.562322741819003e-19,-1.1807639284724946e-21,-3.9810548520952116e-23,-0.026559751922338018,0.8546567356034889,-0.10160530671462671,0.472732113859877,-4.246603069191224e-18,-1.3877787807814457e-20,-5.516420653606247e-19,-0.6671414705473427,-2.0816681711721686e-20,0.8845423843046911,3.5072457972248372e-25,1.942890293094024e-19,0.008451570376198701,0.018291585668401958,1.915134717478395e-18,-1.376428539288238e-24,-0.031565877258351686,3.644764574061778e-27,6.522560269672795e-19,5.828670879282072e-19,1.809457589959748e-28,-0.22414233422181118,2.117582368135751e-25,2.1337098754514727e-19,-4.65289094561078e-28,-0.012460348324685178,-0.030883675403854907,0.015162738998068704,1.6155871338926322e-29,-1.1032841307212493e-18,6.800116025829084e-19,0.9954207860671741,0.8448755994471915,0.8076610593072727,0.7852003471646763,-0.6795927253901037,0.7126444896337045,0.9129174477394554,0.8054337332117317,0.8542128553695312,-0.4190040161915643,-0.017363032711611034,1.249000902703301e-19,0.7051167629401637,-2.7408630920433553e-18,0.8540598222672597,2.9888361977013694e-29,0.4010455865128163,1.0408340855860842e-19,-0.3823576811481088,-0.028520314275022572,0.5082607951252711,-0.06593031867474382,0.8590021138492941,-0.023677381318261283,-0.02633721147220922,1.424832431400818,0.8634811316043381,4.141652298894627e-20,-1.6543612251060554e-27,-0.0896955057454873,-0.08733093353147164,0.13867266827627586,-0.11527983278856181,-0.05572550295588178,-0.10548468375554146,-9.575673587391976e-19,-1.3461454173580023e-18,0.07479301437094968,1.979939514206927e-23,-0.17944717650738035,-4.163336342344337e-19,0.6472841573256479,-4.065758146820642e-23,2.541098841762901e-24,-1.8214596497756474e-19,0.5910812630725544,0.005097986400585153,-1.0339757656912846e-27,-0.1760848514412892,-8.370040771588094e-20,0.002477437374683883,5.558653716356346e-24,-1.5265566588595902e-19,9.370405376577267e-29,-0.057805219942788026,4.108109794183357e-23,-1.214306433183765e-20,-6.826136877968736e-19,-0.031062987140284045,-0.0007097976031679121,0.0059437459901816566,0.8792488380815842,-0.014259307011174047,-8.500145032286355e-20,-0.06368952132937632,0.7773791996583108,0.07077185210816905,-0.026916540046830587,-1.141075337951333,0.4103069983500291,0.1271506519316384,-0.1760274913563465,-0.0053768516934835885,-0.04720598534348555,-0.08934986512716081,-0.017923380543766226,0.8902125564246957,-0.03203656808174211,-0.6525668025712412,-0.034186713051681916,-1.9746508385883919,-0.49779146677555136,2.9663771439203404e-19,-0.038741184767790045,3.705769144237564e-24,-0.037982014921912576,0.022048320827099434,-9.591182995385764e-05,7.237830359838992e-28,-0.06714261777309226,-0.85270459621182,0.7090084791823399,-0.07177806469994223,-1.188285581044113e-18,-0.19922673489421025,7.216449660063517e-19,2.8124140826802943e-25,-3.0969642133985358e-24,-0.03300186856792094,3.6082248300317586e-19,-0.09185911166546737,-6.307252170716836e-27,0.9465685321137403,0.024111507353251124,1.249000902703301e-19,0.6545341324405228,-0.029635373478533428,-3.0531133177191805e-18,1.7787691892340308e-23,-2.4216739724636225e-18,9.575673587391976e-19,-0.0006153628668461166,2.498001805406602e-19,-0.08889553174592058,1.2197274440461924e-22,1.4085954624931675e-18,0.6389132210693257,-1.6543612251060554e-26,3.469446951953614e-21,-0.07165039040485156,1.0570971181733668e-21,1.734723475976807e-21,-5.027987574901527e-21,-0.584939348585189,-0.02495337164821407,-0.17960519896923616,1.6181585474487603,0.8187769561576533,-0.1516780702481906,0.7829160575664708,0.7126314693863248,5.551115123125783e-19,0.7051909233142433,-3.7269449679189215e-22,0.6807394385405975,2.5808035111654463e-25,0.7881715952743351,0.8808514952250323,2.2120766552665705,-0.11428332056186548,-3.3881317890172014e-24,-0.04741741461005833,-0.03270227290566571,0.859825747678307,0.7584567267982102,6.7208424769933495e-28,8.326672684688674e-20,5.533767888366015e-19,-6.749793798432705e-25,0.7947335255620807,-0.14874351852504794,0.7501449480303316,0.7263356735131817,-8.326672684688674e-20,1.5742615544489524e-19,1.5087774372967225e-24,-1.4051260155412138e-18,1.0164395367051604e-22,1.744834104604043e-27,-0.13730087027308094,0.9386129670565181,6.245004513516505e-19,4.8467614016778966e-30,-0.21802506601044366,3.726944967918921e-23,-0.08996233094845253,0.8539751650313749,0.7148342815866354,-1.6167622796103843e-18,1.7314887669320709,-1.1890721305449773e-27,-0.08084169525621542,-1.1713006720721584e-29,0.0267803814021472,0.01688036571499993,4.445228907190568e-20,-8.685396431806791e-27,2.710505431213761e-22,-0.050821957972985755,0.010673478283973319,8.19425794310343e-27,9.429858983104515e-25,8.470329472543004e-24,0.11818082780137817,1.376428539288238e-24,-0.05374524423607795,0.8131315742373308,-0.003101138877464325,3.917798799689633e-29,-9.622294280808851e-22,-5.955700410381799e-25,0.8784193940076173,3.044024654195142e-24,0.4457646012758086,0.5061873903466133,-2.3245294578089216e-19,2.5153490401663704e-20,-0.1054214265687595,-0.0014329287021359828,0.9895384176966494,-0.7183723940610988,-0.03140209968910587,-0.1767110874402357,1.0130785099704553e-18,-0.1800162517433283,-0.07750149450034821,0.13054407426108117,-0.08557482740751195,6.505213034913027e-22,-0.09048769702728285,-0.024852767725601018,1.2620790914089075e-22,-5.2475385148298413e-20,0.9536053602546996,-0.1611902031370103,-5.082197683525802e-23,0.011195900480341995,-4.526332311890168e-24,0.013088563858947503,-1.125862283931428e-29,-1.8404768629304865e-26,1.2906342661267445e-18,0.7112749608527206,1.0379900886313123,-7.910339050454241e-19,-1.457167719820518e-18,-9.30578189122156e-28,-0.0901873292848034,-0.04936017949923682,-0.1718430573288735,-0.17777147761258522,-2.3781442610899545e-27,-1.9312351197398048e-22,-0.010576237728235455,-0.04765099389583039,3.0292258760486854e-31,-4.3923775202705934e-30,-2.7755575615628914e-20,-0.07950551475459515,-6.2604001438339496e-30,-5.4526065768876335e-30,1.942890293094024e-18,1.5265566588595902e-19,-0.06676658506680394,-0.2607307856265565,-1.3028094647710186e-26,-2.726387298974779e-24,0.19863998932389687,-0.026785110941215332,-0.016239263885295084,0.023704102669619486,-5.161607022330893e-25,3.4694469519536144e-19,-0.015960356062501495,-1.4558378780933286e-25,0.6249906838985331,0.1320260890729182,0.7540651665847891,0.989541817451326,0.8209444163248955,-1.7865692615693909,-0.4509938698370094,1.2343988206604994,-8.348356728138384e-21,0.12109744506300185,0.7757757010038255,-0.08257929320215557,-0.050686614300196775,-0.0936019918398646,0.01746887603599917,6.617444900424222e-27,-2.4841240175987877e-18,0.8555825542951021,-0.3794448121666837,-0.0709299047981205,0.3751255444267046,-8.999725064576942e-25,0.017498130310122224,0.7974578386017782,-0.7536313896032755,7.719519468096791e-20,0.45593920932281945,-1.2003080985113168,0.6622064427561504,-7.835054762102278e-24,0.24709097685269277,-0.006413312543955227,-0.07066479056014913,0.004363281653621527,1.3552527156068806e-23,6.479802046495397e-23,-0.07559561402931582,0.14817761193603676,-0.058230612254737454,-1.0336167220830803,-0.7655459383773369,7.453889935837843e-23,0.86392030612348,2.8359514663407746,2.3264454728053902e-27,-0.08946788075670217,8.893845946170154e-24,-2.3781442610899545e-27,0.2516253602745524,-0.1453706193484089,-0.005580167607883745,4.963083675318166e-26,2.491062911502695e-18,-0.08914401251675894,-0.046410405262666564,-1.464109684218859e-25,1.6378176128549949e-25,0.011237160040073234,-0.0689521073920427,8.239936510889834e-20,0.43721049054390326,5.977672395402739e-29,-0.07304351060039893,5.945360652724886e-28,0.13653609626351348,-0.05989415010845014,2.1506695926378719e-26,1.0587911840678754e-24,0.8576364064328478,-0.009179032302911602,-0.3342634577057412,0.8786188032865868,0.7313176533305369,8.673617379884036e-21,-0.7212198138779535,-0.06259839247425203,0.6392356821603512,0.009294711158849535,-0.23145972359012704,2.9646153153900515e-23,0.0013929554679812577,0.9138687422115883,-1.0248154005536656,-8.077935669463161e-31,0.7532440164540534,0.7629358765239445,-1.6891017423500243,0.969918329887188,-2.299562102897417e-25,-0.04551085802365479,-2.752857078576476e-23,4.393146743748514,0.6916693624503311,-1.8774297242664477,0.04784029945419496,-0.035288736028621856,-0.064063871249158,0.1375706327083405,1.5070410197548513e-20,3.618915179919496e-28,5.480071558163808e-27,-2.0514079191315086e-25,-1.6263032587282566e-21,-0.0652157869738499,-0.06049193084856981,-0.4219590058446938,-0.07392396781554844,1.59889901872651,-0.09050138620236338,1.861156378244312e-27,-0.015664717123066038,8.999725064576942e-25,-0.0788236664265959,-1.4558378780933286e-25,-0.09871013756219255,1.257314531080602e-25,0.045918463011659194,-0.10072009315648596,4.632211430296955e-26,-0.08859457433833086,7.252719610864947e-24,-0.33688529060588746,-1.5509636485369268e-26,-0.0888039546842171,5.9322340072620084e-30,-7.237830359838992e-28,-0.09027338332394072,-0.04411155427732113,0.6869321776291734,-1.4136387421560532e-30,2.5849394142282116e-27,-1.3234889800848443e-25,1.9786689647860455e-21,2.1506695926378719e-26,0.7881856479713122,0.6897914106018317,0.822739314685625,0.7856568744772665,-0.04088286330240724,0.901234870389235,-0.08330965046868113,-0.00029223476901347605,0.8223035289409266,-9.843449289381029e-26,1.5077186461126545e-22,-0.16555716446319704,1.5720931501039815e-21,-0.022656215297159377,-0.08993639096832766,0.9084510603289093,1.2874900798265365e-22,-0.1064692748773673,-1.448494102440634e-19,0.5094621056458916,-0.11662196537051883,-0.006314222021413496,0.7180546511080032,-0.06053200409613975,0.8207658694370653,-4.632211430296955e-26,-0.2594632762721038,1.124448645189272e-27,-1.2751707725382082,0.008523297594687753,1.8870057723865943e-27,-1.1602904209278602,-0.5624050049060713,0.8190532528242381,0.8665847511285962,-0.043060081632632134,-0.021079628258090982,-2.33705713261342,-0.04386178227749578,-1.2407709188295415e-26,3.9042924912502904e-25,-3.9898639947466565e-19,0.831767741295085,2.271919407036514e-30,1.1291015361348829e-25,-0.06882568291910904,-0.6069847209715519,-6.643914680025918e-24,-0.08001154431946204,-1.0753347963189359e-26,7.623296525288703e-22,-1.5232303848187698,0.7389460466599249,1.919059021123024e-24,-2.685913610096501e-29,-2.5642598989143858e-26,3.705769144237564e-24,-0.06107865599749759,2.032879073410321e-23,0.811462502365672,1.1689054672109346e-22,-0.03161084832170121,-2.802033935345034e-30,2.6205081805679918e-24,-1.7448341046040427e-28,-4.200526548120844e-28,-0.00913538637408715,6.617444900424222e-24,-0.03628272188191184,1.5612511283791263e-19,7.979727989493313e-19,0.014336241062824646,-3.998578156384265e-29,-5.251604272976662e-23,-0.5338705582597033,-3.4008109168439906e-28,-8.56261180963095e-29,-0.01401274058041621,-3.110005232743317e-29,-2.150669592637872e-25,-5.293955920339377e-25,-7.956766634421214e-29,-8.936197593532868e-23,0.05977542198878513,-0.022883414260870497,-5.997059441009451e-27,-9.926167350636332e-27,4.053185001509836e-26,-0.09059495728268828,2.2234614865425385e-24,-0.04458376932346086,0.7419956956156352,-0.08268496204798484,-0.06341522815260534,-0.05936385917048571,1.0047167686105407,0.2948506315369477,1.0222626431796935,-1.0164395367051604e-23,-4.336808689942018e-22,0.7829367665319039,-0.0904218966991973,1.7966743296887853,0.6519009315428339,-3.3881317890172014e-24,-0.015754099344851703,-0.06980154576656987,2.642742795433417e-22,8.673617379884036e-22,-0.06684209246462089,0.6608826700614504,-2.117582368135751e-25,-0.1399150894893533,0.8274617330092878,0.471556017354994,0.6155676227587598,-1.5670109524204555e-23,9.97465998686664e-21,-0.07414345689345797,-0.07732048620594237,7.19910242530375e-20,0.7622947622772203,-0.1063181315146024,1.0324185498313823,2.151962062344986e-27,0.8244905539608955,9.317362419797303e-24,-6.098637220230962e-23,-3.6350710512584225e-28,1.6155871338926323e-28,-0.2803364543454064,-3.864587821847745e-24,-4.963083675318166e-26,1.3648480107124957e-26,0.8110018571750817,1.369327949093665,-0.052440697684958265,-8.320017359752859e-35,-2.465190328815662e-35,-2.3558103845510227e-24,4.870439446712227e-24,-9.020562075079396e-20,0.005764631924816147,5.717472393966527e-24,-0.08231567950671392,7.623296525288702e-24,-7.279189390466644e-25,7.940933880509066e-26,3.2311742677852644e-29,-0.06763172722576476,-0.08881175433129346,-3.0373038117181485e-28,-0.018131921710022984,-1.5716431638507525e-26,-2.9597556292913023e-27,-4.39439700418796e-28,1.6047303883528737e-25,-4.442864618204738e-30,5.686866711302065e-28,-4.549493369041652e-27,2.423380700838948e-28,-2.477405934596318e-25,-4.235164736271502e-24,0.5735907007802602,-7.051549285892051e-23,3.58996385848014e-25,-1.2407709188295415e-27,9.693522803355793e-30,5.169878828456423e-28,0.8026728384399386,0.7301193676440293,0.7510125480952977,6.058451752097371e-31,-2.1043474783349024e-24,0.8601766379717055,0.6990458404935457,0.7743516507941682,0.717397912519045,0.004903800898174894,0.45793663434284326,2.276401045745932e-24,-0.043655233007216104,-1.215349500256401,-0.06323114656291723,-0.16394333474140568,0.023050488386461027,1.9387045606711585e-28,1.3266645372048764,-0.08031275802214698,0.84981810914081,0.6947491193848812,-1.320598356258609,1.809457589959748e-28,-2.1185868411864615,0.7524584012529182,-4.930380657631324e-34,-0.030517906286334457,0.8674918615739138,-8.951173136040325e-19,9.926167350636332e-26,2.711709361697228e-34,-0.001381297677381615,-7.674038885990003e-30,-0.019201018352437083,0.40469165710161964,2.3744713247152455e-31,-0.08860246088078629,2.3652195640188135e-27,-0.09769411158703464,-0.18302192040629514,0.7778348508996235,-0.013162961210652132,2.0194839173657903e-31,-1.0404381142268551e-27,-3.837019442995001e-30,1.4058628887656102,1.6626330312315857e-25,-0.07445068659244643,8.943890373229611e-27,-4.863822001811802e-25,-4.5753932502818687e-32,1.4378476653537162,0.8240328436436021,-2.8272774843121064e-30,0.02990467459704941,-0.06150929108684545,2.3728936029048035e-30,1.1580528575742388e-26,2.816384549620549e-23,-2.858824288409778e-18,-6.310887241768095e-33,-7.762391307374756e-31,4.549493369041652e-26,-0.14754141064743312,-0.7893813158480645,-0.2166735925595473,0.8388110958673753,0.7737821777100612,-9.71445146547012e-19,0.2977366762840932,7.589415207398531e-22,0.7427567754836494,0.8001347930924017,-0.654429796489795,0.008441691685691529,0.7019067495353709,-3.5822296965602587e-35,0.8693387616222025,-0.17259683082087818,0.9917661212203366,0.6570212761731482,0.008408281867898219,-0.2018062839176579,0.7480862933930031,0.0038247860592683803,-0.007912561431192507,-0.7492784753421963,0.74887169760061,0.6709115263873381,0.03419721775770794,1.925929944387236e-35,-0.038509892585250706,-1.1180834903756765e-22,-0.06092314168307023,2.2234614865425383e-23,-0.06816630044637563,-0.7725741980496419,1.0477399890450871,0.06014239386156491,-0.00624167741306461,-5.912289971835016e-22,-7.19910242530375e-20,-1.8634724839594608e-22,1.5881867761018132e-25,4.367513634279986e-25,-3.805030817743927e-26,0.8028133347542463,-1.6306400674181986e-18,-9.065899513581184e-25,0.003941913265001161,1.6155871338926322e-30,-8.077935669463161e-31,-0.08588756654051147,0.030765236890532337,-0.07297592854973195,5.816113682013476e-28,1.919059021123024e-24,4.998487535673412e-05,-5.1285197978287715e-26,-6.462348535570529e-30,-0.03694143767342936,0.005024599185722153,-0.08797470104454984,0.1007585385338908,0.5033321319819652,-0.07455729037892325,-3.660314600225495e-31,0.8424845216015974,-0.022489206849715754,0.8223064775142728,0.8036118118090181,-5.837714062125579,-2.0029671421627252e-35,0.824972068442888,-0.024670212433192208,0.004231708124760475,0.7662174232665733,-0.09980563519954322,-0.00918179808910335,-0.18562331990558467,0.8366321337211197,0.005854768372722905,-0.045602968878437976,0.8031305220374384,0.7898712398596817,0.81573163284565,-0.053460634195144074,2.124013267357719,1.4898872179132676,8.835242138475332e-32,-2.587463769124919e-31,0.009257210740159826,-0.04766580718670348,0.8701404517686022,-0.0678655553372926,1.819797347616661e-25,-0.1625747401454547,0.004476595815612533,-2.1709452111682243e-30,-0.03299302006773829,0.03849165818439795,0.0057584577697015835,-0.090445844997164,-2.274746684520826e-27,0.7635825493989734,6.203854594147707e-27,0.014247622941764694,-1.0668421913514592,0.585205013520241,-0.39276381201827865,0.8739780559178172,0.765181079205338,-4.065758146820642e-23,0.00565762911957442,-0.012877746382766205,0.6795160896731903,-0.06287234416939765,5.719241562852336e-33,-5.480071558163808e-27,-5.532183936754649e-24,6.058451752097371e-31,5.066481251887295e-27,-1.6026624368214911e-27,-1.3440850541854081,0.14151767776214824,1.9387045606711585e-27,-0.30330841785163193,1.2116903504194741e-29,-0.08450832106366128,0.4679930042247251,-1.9387045606711587e-29,-6.211124070648836e-36,-0.0904272351534894,0.837646931696132,-0.005491005196067844,0.7762738195502095,0.022692491714476504,0.7676948580270955,-0.03859282008272872,0.712716759522858,2.732828744611862,0.7149087324187122,0.8740539044549145,0.72267286714142,1.1911400820763598e-24,0.7664762506753114,0.6902024436819134,-0.1805792076518178,1.3006414368021941,-0.03315807639486997,0.6741022808586198,-1.435172824579794,-2.7917345673664684e-27,-2.7296960214249915e-26,-0.14318453939073175,0.0007295946407240281,-0.08926581224207218,8.271806125530277e-28,-0.0590061303763775,0.8720891609444703,-0.007525818816328006,1.3631516442219084e-30,-0.0891770744102846,8.724170523020214e-28,0.017233344798515335,1.0332448943050807,2.0117032497289633e-24,-1.2924697071141058e-28,-1.6808310047077523e-24,1.2227344030925683e-32,-0.01876954610416528,-0.010947135391227571,-0.06593056143303642,3.937993638863291e-30,0.028132306986454036,-9.760731228125726e-26,-2.875745098328885e-28,-5.2939559203393774e-24,2.2618219874496853e-28,5.648244081382444e-31,0.757348336971783,0.024879714125737196,2.3665827156630355e-33,0.011120302924580777,-2.701261687868481e-27,-0.17128269236964438,-0.24815842490638126,-1.5900959103347115e-35,0.8348935175236689,-2.0033280460268639e-28,8.683780844672897e-30,-0.022136755130921504,0.004490221460886493,-3.281661365719409e-31,-4.0389678347315807e-29,-1.6578404961285327e-33,1.607509198223169e-28,-0.03392849888692958,3.877409121342317e-28,-0.02521877303626718,5.99534287967969e-31,-0.024033258065607212,-1.0014835710813626e-35,3.2796418818020435e-28,0.8156544706850795,0.10557390153966154,0.7020070174437772,0.47294590423507865,0.6922548678402383,-1.4637067577342992e-35,-0.06829790541290488,0.11422819126774143,0.8011329575158721,-0.08079948264867626,1.06658464017808,-0.26811500835221835,1.6869216082569403,0.8735077557664512,0.8124989886111192,0.6519639295334431,-0.047604525256901155,1.1736135598609719e-36,1.1239957013365147,-0.07714607949340632,2.407412430484045e-38,0.918561525265366,0.8828246466950558,0.9496461911599836,-0.0038712211180814433,0.02648089996728011,-2.16667118743564e-37,0.04263748418013385,-0.028868147290364615,0.8055749718138578,-0.24285601845694213,-2.1666711874356403e-36,-0.10865819207010083,-0.04577255502505077,-6.740754805355326e-37,1.9081958235744877e-20,4.212971753347079e-37,-0.051732607813231066,3.490748024201865e-37,-0.19223197364841205,-9.62964972193618e-38,0.7065552089168876,4.694454239443887e-37,3.6111186457260673e-38,2.0583376280638585e-36,-5.702558194709081e-37,-1.2037062152420225e-36,4.1908235589866255e-34,-1.3240768367662246e-37,0.6844074523178603,0.7464942654997074,0.6020567403687554,-0.02718829317629548,0.6348177866143699,-0.035124284667067296,-0.08580022480807639,3.6111186457260673e-38,-2.407412430484045e-38,1.2518544638517032e-36,9.62964972193618e-38,0.04944972850602781,-1.5287068933573685e-36,-3.4512664603419267e-34,-0.18174601566612741,-0.0700657920386281,-0.08080895409944554,2.5808035111654463e-25,-0.08969351265464345,4.265150033476549e-28,5.296307347064898e-37,0.8219998310563179,-0.37524946356678485,0.7845233128933606,0.8268792262883503,-0.07625787344884667,0.8011410721511901,0.81306660055788,0.7866544609457493,0.742296113387644,-0.11305659759155233,0.8010899239828573,0.7270244668465418,2.407412430484045e-38,0.5049727085962519,0.856847153968854,-3.490748024201865e-37,-0.13443313398241596,0.6209918803614098,-0.08474632091970793,0.23468020095864128,-4.212971753347079e-37,6.43982825154482e-37,0.35223627843818994,1.6250033905767302e-37,-3.6111186457260673e-38,-0.01481711750692364,2.2419028258882667e-36,4.574083617919685e-37,-1.0953726558702404e-36,-0.03199165514242953,-0.25932450838425686,-3.129636159629258e-37,0.699634222525128,0.83961657640078,-2.888894916580854e-37,0.7624636794735848,9.62964972193618e-38,0.7772766917583678,-1.012697869563746,3.611118645726067e-37,3.370377402677663e-37,-0.08465627378497392,-4.574083617919685e-37,-1.6851887013388314e-37,-2.407412430484045e-37,1.444447458290427e-37,-0.07745208515135328,0.4891820617510917,-2.587968362770348e-37,5.048709793414476e-32,-8.907425992790965e-37,-1.769448136405773e-36,-0.055267181492973855,0.0007103340767494174,-1.3842621475283258e-36,-0.3732442956702942,-0.052269094733143645,1.2518544638517032e-36,5.236122036302797e-37,-7.222237291452134e-37,-0.0655857702611074,-0.4186361359659195,-6.500013562306921e-37,-9.870390964984584e-37,2.407412430484045e-37,-0.1008279365823542,1.131483842327501e-36,9.14816723583937e-37,-0.054945944267206066,-5.296307347064898e-37,0.061473591377720675,-0.16088267540180182,-0.05220190213385246,-7.282422602214235e-37,-0.03382697516021864,1.7092628256436717e-36,0.14440755424609028,-5.687511867018556e-37,-0.08607025944906047,0.010828812711691832,-5.537048590113303e-37,5.175936725540696e-37,-7.824090399073146e-37,0.7280431096402619,-0.0004170806884349722,0.9554784387732647,-0.017895682170604513,-1.2638915260041236e-37,2.16667118743564e-37,0.01451422497609177,-1.3692158198378005e-37,2.5277830520082472e-37,-1.536534176386437,-0.007028207200938006,0.17227218260564775,-0.021751468262638924,2.16667118743564e-37,6.018531076210112e-38,-1.1973081309067586,0.027948844910103573,1.2037062152420224e-38,-5.296307347064898e-37,-0.6835728274376893,-0.6710744179752516,1.36698774130368,-0.03132266246669604,0.724458772026063,0.05080521190865009,-0.6217477447415651,3.791674578012371e-37,-1.4021059867862347,-6.620384183831123e-38,6.98149604840373e-37,-1.0327106931141286,-7.222237291452135e-38,0.19280705390738379,0.7831212095942198,-0.25188380004952526,-0.06572219379498213,1.0727564022780847,0.24885223389912098,1.564818079814629e-37,-0.2829533589612939,0.6597613324756046,-0.02407576853568678,0.8133348421064108,-0.32681391926533165,5.657419211637505e-37,0.0028222634504095527,-9.509279100411977e-37,0.8495259037143295,5.747697177780657e-37,6.620384183831123e-37,0.7094756699580521,-6.620384183831123e-37,0.026491885631561157,1.2563683621588608e-36,0.017244624370505418,0.11855549224592385,-0.020960876345537813,-0.1331992889761415,-0.28286421523167327,-0.08969744384499552,-1.5309638425109471e-37,-1.0351873451081392e-36,-6.138901697734314e-37,-0.08256760811870333,-3.5057943518923905e-37,0.7548288315006402,1.6851887013388314e-37,0.09044088357086835,1.0231502829557191e-37,2.407412430484045e-38,1.342132429994855e-36,-0.7271338651636905,-0.45169907934968456,-1.7453740121009326e-37,6.048623731591163e-37,-1.08333559371782e-37,2.557875707389298e-37,4.363435030252331e-37,-3.9120451995365726e-38,2.7083389842945503e-37,5.4166779685891e-38,3.851859888774472e-37,9.62964972193618e-37,-1.8657446336251347e-37,-7.222237291452135e-38,0.6607160557282445,-0.06784490069292338,0.674786238802495,3.957184182608149e-37,-8.275480229788904e-39,0.879741349235136,3.0732124307897883e-37,-1.38146804592721,1.6851887013388314e-37,-6.740754805355326e-37,-2.256949153578792e-37,-0.03901718736798643,-1.1478542468547925e-34,0.12332905543733926,-1.4277959546044896,-0.6710025650630447,1.2893443147221542,-3.21991412577241e-37,0.01033427567286577,1.564818079814629e-37,-0.23486101872902226,3.912045199536573e-37,0.2530828627028785,-0.010662850546176897,-0.4292555199293608,0.009050444198207724,-0.05407958381031569,0.7535208595865822,0.7832141358729701,-0.028515308540955523,0.9356006577080013,0.7055577457754656,0.7210288345795487,-0.0715292826766249,-0.0224644473339428,1.925611448601914,-7.57958757410211e-38,-0.08195414394718835,-1.2037062152420224e-37,0.00701566286632064,7.52316384526264e-39,-5.341446330136474e-38,1.8083043125022666,0.012075056566169454,0.8600816668125176,-1.2037062152420224e-37,-1.0118655371878252e-37,-0.088993558431303,3.3101920919155614e-38,0.7826633431387644,8.125016952883651e-38,-0.8711423628128574,-2.70833898429455e-38,-2.407412430484045e-38,1.425341775743077,3.2500067811534605e-37,0.7827437492906922,-0.4937240814730759,0.7178807780236238,1.925929944387236e-37,-0.024789010137832246,0.8512403829219013,0.6837352056942184,-3.0995435042482075e-37,3.3101920919155614e-38,0.8194466739432733,5.4166779685891e-38,4.965288137873343e-38,-0.0875972267339517,0.023883425783824318,3.2650531088439858e-37,2.8023785323603334e-37,0.07688365913060147,-0.08084389471746489,6.319457630020618e-38,-7.222237291452135e-38,1.7092628256436717e-36,-0.05223984379754731,1.553533334046735e-37,0.010539639519661774,-1.6475728821125182e-37,-2.362273447412469e-37,1.3705246975196093,-0.2074134264333211,3.881952544155522e-37,-1.692711865184094e-37,1.233798870623073e-37,-0.36346217249180235,0.4724945515701019,0.778723176339391,1.421877966754639e-37,-5.4618169516606765e-37,0.6693266633792289,-0.15772103057685607,2.16667118743564e-37,1.2638915260041236e-37,0.8217199058018595,-1.4171079970796843,-1.504632769052528e-38,0.7534350126006458,-0.47476152974964125,0.601779281668813,-4.137740114894452e-38,0.7841900467918151,7.222237291452135e-38,-0.04809653198286325,6.319457630020618e-38,-0.03314723394309973,0.6962734925624513,3.836813561083946e-38,9.723689270001963e-38,1.0388205878153352,-5.040519776325969e-38,-0.08995807874394544,-1.4294011305999016e-38,0.7056250090822765,1.425813553767486,0.6184603828364283,-7.222237291452135e-38,-0.05766980398962123,-1.2037062152420224e-38,-0.279631170435376,-2.256949153578792e-38,-0.5839956815379292,0.6649192097818617,-0.8925691674982399,-8.275480229788904e-38,0.010617582912370591,-0.04980189862400313,0.6575304893905727,7.372700568357388e-38,1.293984181385174e-37,0.0034014341176340454,-8.125016952883651e-38,0.7947746441608011,0.03387111305181799,-6.357073449246931e-38,-0.05270382577841148,1.0908587575630829e-38,-2.256949153578792e-39,-5.190983053231222e-38,-8.200248591336278e-38,3.658138419758959e-38,-0.010879738711012322,-6.921310737641629e-38,-5.115751414778596e-38,4.250587572573392e-38,-6.319457630020618e-38,-1.1585672321704466e-37,-1.3692158198378005e-37,-3.5546949168865974e-38,0.010291731179286159,2.256949153578792e-38,-0.020119164853850856,1.9560225997682865e-37,2.162909605513009e-38,-1.0983819214083454e-37,5.868067799304859e-38,-3.836813561083946e-38,-2.5052135604724593e-37,-3.385423730368188e-38,-7.824090399073145e-38,1.0554580717012119,8.952564975862541e-38,-0.0028008758926543974,4.1471440697010304e-38,-6.620384183831123e-38,2.1064858766735393e-38,-0.015571095779934147,-2.6142994362287677e-38,0.7569999035482163,-8.839717518183602e-39,-4.0625084764418256e-38,-2.7459548035208634e-38,-0.20505359808571738,0.0601560908937268,-7.071774014546882e-38,5.604757064720667e-38,5.64237288394698e-39,-8.651638422052036e-39,9.215875710446734e-38,-0.08874781375025238,-6.018531076210112e-39,0.1464154185221814,-8.425943506694157e-38,-0.009205959430037557,2.9340338996524296e-38,3.9120451995365726e-38,-1.7303276844104072e-38,3.535887007273441e-38,1.8055593228630336e-38,-0.05028073757987143,0.28799624517846517,0.6871998853464495,9.968192094972998e-39,2.445028249710358e-38,-0.0573408132209376,-3.7991977418576335e-38,-3.159728815010309e-38,0.7908732641398196,1.8055593228630336e-38,6.695615822283749e-38,3.009265538105056e-39,1.88079096131566e-40,-2.0312542382209128e-38,-0.04472628228361027,-1.8055593228630336e-38,2.6519152554550804e-38,-0.032601735464888815,-0.05344089428442634,-3.3101920919155614e-38,0.0008220303342454412,-3.122112995783996e-38,2.858802261199803e-38,-0.08997908764767823,1.1425805089992634e-38,0.05372532311121296,8.275480229788904e-39,-1.354169492147275e-38,-0.08447970335031632,0.7166454894969165,-1.8243672324761903e-38,2.557875707389298e-38,0.04049802225494049,-8.275480229788904e-39,7.52316384526264e-40,0.014754782915570273,-7.52316384526264e-39,-4.513898307157584e-39,0.10207225323109613,-0.649994333730863,0.018060810985573657,1.128474576789396e-39,6.018531076210112e-39,4.6549576292562585e-38,0.46041733585286326,2.0312542382209128e-38,3.76158192263132e-39,3.4606553688208144e-38,-7.052966104933725e-39,-0.0590450417135037,-6.206610172341678e-39,-0.032002891979574934,0.7502122140691418,2.858802261199803e-38,-0.027563184424878876,0.1454273002570877,-0.14327772413938022,0.0023021021741034668,1.4294011305999016e-38,2.256949153578792e-39,-2.858802261199803e-38,6.394689268473245e-39,-5.64237288394698e-39,-1.1660903960157092e-38,1.692711865184094e-39,3.855621470697103e-38,-1.410593220986745e-39,5.64237288394698e-39,-2.256949153578792e-39,1.5422485882788413e-38,-1.2413220344683357e-38,2.1441016958998525e-38,-9.027796614315168e-39,0.010617829525056953,1.88079096131566e-38,-5.454293787815414e-39,1.5704604526985762e-38,4.137740114894452e-39,-6.770847460736376e-39,-2.8964180804261164e-38,7.52316384526264e-39,-2.3697966112577316e-38,1.128474576789396e-39,-9.968192094972998e-39,-0.02571396004112391,-0.09509821455351858,-6.817867234769268e-40,-2.633107345841924e-39,0.23028916249734496,1.5798644075051545e-38,-0.06666366247143905,0.7223693653593023,-7.335084749131074e-39,4.231779662960235e-39,0.05417888966989905,-1.499930791649239e-38,-0.08776351449650023,1.7679435036367204e-38,0.11288445624499974,0.12009548675103307,0.590256011668569,6.99419138739261e-40,-0.0034193168636855176,-0.03077390959567713,3.385423730368188e-39,-0.0572007439293802,3.2913841823024053e-39,4.231779662960235e-40,1.4717976266759398,-4.513898307157584e-39,-0.03041076719948682,4.513898307157584e-39,-0.7357880139411702,-8.933757066249385e-40,1.598672317118311e-39,-0.03704553382226288,0.0,-1.2781313554322207,1.128474576789396e-39,-0.09046852569811265,-8.745677970117819e-39,0.041764571246898724,-0.008440393760947601,-4.231779662960235e-39,3.009265538105056e-39,-6.065550850243004e-39,4.70197740328915e-40,-0.9909840723325483,0.0,-1.504632769052528e-39,3.385423730368188e-39,-9.4039548065783e-41,1.8367099231598243e-41,1.04325123635478e-40,0.03696870287923283,-2.0571151139390032e-41,-0.02747777752497768,5.407274013782523e-39,9.183549615799121e-43,-0.08812586877897965,9.4039548065783e-40,4.513898307157584e-39,-4.2611670217307924e-41,1.8367099231598243e-43,-0.0810775109946553,4.775445800215543e-42,0.8725452900590457,7.052966104933725e-41,-0.08800996088583461,-5.172175143618065e-40,-3.949661018762886e-39,0.010813957147725211,-3.408933617384634e-40,-6.428484731059385e-43,1.1754943508222875e-40,0.5739622754924476,-2.0571151139390032e-41,1.5244692362226542e-41,0.7912875612035849,6.06114274642742e-41,6.465218929522581e-41,1.2305956485170823e-41,-7.174648137343064e-45,-0.05403733026369848,1.1559707371148745e-52,5.946901479955135e-53,-2.3990229709240868e-45,4.0091470651382936e-54,-3.9460564755386846e-45,7.137864052654537e-48,0.9427498012176675,1.3363823550460979e-52,2.512398827486664e-52,0.0,5.200131019955376e-50,-5.88008236220283e-53,6.866362475191604e-47,-6.41463530422127e-53,3.4211388289180106e-50,-2.1905418539196,-5.739718509874451e-44,2.405488239082976e-53,-4.827681257604028e-53,-2.2420775429197074e-47,-4.3621860675045824e-43,7.663350976776344e-49,-1.587408416617957e-49,0.056011760650633236,-3.608232358624464e-52,0.010730654990180687,-0.1496211825473628,-4.867281296373534e-42,-3.923635700109488e-46,-6.267772612782901e-42,1.6704779438076223e-54,-3.3409558876152447e-53,3.3409558876152446e-54,-1.436611031674555e-53,-5.011433831422867e-55,6.681911775230489e-55,-6.681911775230489e-55,5.011433831422867e-55,-5.846672803326679e-54,1.4700205905507075e-53,8.686485307799635e-54,-2.0463354811643374e-54,1.0691058840368783e-53,-1.0691058840368783e-53,1.6036588260553174e-53,7.684198541515062e-54,7.851246335895825e-54,0.0,-6.01372059770744e-54,-7.350102952753538e-54,-0.2732909242907124,1.436611031674555e-53,-7.350102952753538e-54,5.345529420184391e-54,-0.08133558893687834,-1.3363823550460979e-54,-1.9878687531310704e-53,2.3386691213306712e-54,1.2361536784176404e-53,6.681911775230489e-55,6.681911775230489e-54,3.00686029885372e-54,2.5057169157114335e-55,-1.2528584578557167e-55,2.0045735325691468e-54,3.1321461446392917e-55,2.5057169157114335e-55,-5.429053317374772e-55,-1.2946204064509073e-54,3.236551016127268e-55,-3.3409558876152446e-55,-5.011433831422867e-55,6.264292289278583e-55,0.013909897061752706,-6.473102032254536e-55,3.967385116543103e-55,-2.714526658687386e-55,-0.17346740524298973,-0.06581296597184312,-9.918462791357757e-55,-1.7331208667004082e-54,-2.923336401663339e-55,9.187628690941922e-55,-3.75857537356715e-55,4.176194859519056e-56,-0.07075861946314171,1.177215528610308,-2.2969071727354805e-55,0.246046863223299,-0.04265548758998409,-2.9755388374073273e-55,-1.879287686783575e-55,3.967385116543103e-55,1.566073072319646e-56,0.031057496183216907,-1.4616682008316695e-55,-1.5660730723196458e-55,0.04324820440621399,-1.044048714879764e-55,0.03460360824889624,-2.088097429759528e-55,-4.437207038238997e-56,-5.742267931838701e-56,-0.021514328111386587,-1.4355669829596753e-56,8.352389719038112e-56,1.1223523684957461e-55,3.5497656305911976e-55,-1.2528584578557167e-55,2.61012178719941e-56,-2.6427483095394025e-56,-9.918462791357757e-56,-3.22798655401302e-56,2.4535144799674452e-55,0.7440247165639464,-1.7748828152955988e-55,-2.1925023012475044e-55,1.2528584578557167e-55,9.135426255197935e-56,5.22024357439882e-57,-2.088097429759528e-56,-1.044048714879764e-56,-1.357263329343693e-55,-6.786316646718465e-56,-1.2398078489197196e-56,-2.61012178719941e-57,0.0,-7.308341004158348e-56,-2.3491096084794687e-56,-6.264292289278584e-56,9.787956701997786e-57,2.2186035191194985e-56,-3.3931583233592326e-56,-1.3703139382796902e-56,-1.2153379571647251e-56,0.0,-3.654170502079174e-56,1.794458728699594e-57,1.4110970912046808e-56,-1.1745548042397343e-56,-2.936387010599336e-56,-1.305060893599705e-57,-4.176194859519056e-56,-6.851569691398451e-57,2.0554709074195352e-56,-1.044048714879764e-56,8.482895808398081e-57,1.5497598111496495e-57,-1.827085251039587e-56,-1.305060893599705e-57,1.7128924228496128e-57,-1.6313261169996312e-57,1.5008200276396606e-56,-1.305060893599705e-57,2.3491096084794687e-56,2.936387010599336e-57,1.1745548042397343e-56,1.0318137690022667e-56,8.482895808398081e-57,-2.61012178719941e-57,0.0,-9.787956701997787e-58,-2.854820704749355e-57,-1.7536755757746033e-57,3.1606943516867853e-58,-6.467953159197757e-59,-5.097894115623847e-59,-1.2744735289059618e-60,-2.1666049991401353e-59,7.00960440898279e-60,4.779275733397357e-61,-6.372367644529809e-61,-5.575821688963583e-61,-7.965459555662262e-62,-1.7842629404683466e-59,-3.8234205867178855e-60,-3.026874631151659e-60,6.850295217869544e-60,-6.372367644529809e-61,-9.558551466794714e-61,2.071019484472188e-60,-1.7524011022456974e-60,3.1861838222649046e-60,3.982729777831131e-61,1.433782720019207e-60,1.448908652612274e-73,-1.231572354720433e-72,0.0,0.0,0.0,0.0,0.0,0.0,0.0,0.0,0.0,0.0,0.0,0.0,0.0,0.0,0.525326506966739,-7.32822279120928e-60,0.0,-0.10241863520388515,0.0,0.0,-0.08961077004645851,0.0,0.0,0.0,0.0,0.0,0.0,0.0,0.0,0.0,0.0,0.0,0.0,0.0,0.0,0.0,0.0,0.0,0.0,0.0,0.0,0.0,0.0,0.0,0.0,0.0,0.0,0.0,0.0,0.0,0.0,0.0,0.0,0.0,0.0,0.0,0.0,0.0,0.0,0.0,0.0,0.0,0.0,0.0,0.0,0.0,0.0,0.0,0.0,0.0,0.0,0.0,0.0,0.0,0.0,0.0,0.0,0.0,0.0,0.0,0.0,0.0,0.0,0.0,0.0,0.0,-0.06752711656378159,0.0,0.0,0.0,0.0,0.0,0.0,0.05092783383452033],\"xaxis\":\"x\",\"y\":[-9.14765576256519e-15,9.861902960928148e-19,6.099287741534454e-18,-3.760880495917718e-18,-1.4925560787304447e-17,9.346690088563036e-18,-2.848415947553917e-18,1.0269562977782698e-17,-3.247402347028583e-18,-4.583139423530724e-18,-1.734723475976807e-21,1.9457092187424864e-18,0.7122053874212643,-6.942363350859182e-18,0.4340098111317105,-5.367234434672241e-18,7.355227538141662e-19,-2.6402491304367004e-18,1.1091821905395705e-17,0.03200331691073168,-0.01295995663503091,2.0539125955565395e-18,5.1486592766991634e-18,0.07840811133123717,4.413136522884997e-18,5.551115123125783e-18,6.6353172956112874e-18,0.49106076839742574,-1.883042333172824e-18,-2.213507155346406e-18,-3.9898639947466565e-19,1.3600232051658168e-18,-0.3260388110316032,2.3245294578089216e-19,0.15710830200664003,2.8449465006019638e-19,9.80118763926896e-20,-2.4320823133194834e-18,6.245004513516505e-20,-1.8388068845354155e-19,4.579669976578771e-19,-1.984523656517467e-18,6.522560269672795e-19,4.579669976578771e-19,5.915407053080913e-19,-1.0408340855860842e-18,-7.233796894823285e-19,-2.7200464103316336e-18,1.984523656517467e-18,-1.6462525787019899e-18,-1.0867478839618043,1.4710455076283324e-18,2.699229728619912e-18,-5.342948306008566e-19,-2.454633718507182e-19,-3.1259717037102065e-18,-6.088879400678593e-19,8.0838113980519215e-19,-1.1934897514720432e-18,-3.764349942869671e-18,8.118505867571458e-19,-1.366962099069724e-18,2.9073965457371286e-18,-3.3133218391157014e-18,1.942890293094024e-19,-2.92300905702092e-19,-9.584347204771859e-20,-4.683753385137379e-20,-9.905271047827568e-19,-4.0332320816460767e-19,6.626643678231403e-19,-1.3426759704060487e-18,-7.997075224253081e-19,6.852157730108388e-19,1.5456386170953351e-18,1.1024167689832608e-18,-1.3530843112619095e-19,0.576592801460336,-0.05218537901858069,4.050579316405845e-19,0.9019159183502823,-9.853229343548263e-19,3.5475095083725703e-19,-2.069525106840331e-18,1.3361707573711356e-18,4.666406150377611e-19,-1.1969591984239968e-18,-4.701100619897148e-19,6.921546669147461e-19,-1.8041124150158793e-19,-1.0130785099704553e-18,-3.7643499428696714e-19,2.671474153004283e-19,1.833602714107485e-18,-2.248201624865942e-18,-2.0729945537922844e-19,-2.549609828816912e-18,-2.7582103268031234e-18,-4.718447854656916e-19,3.4416913763379853e-18,3.122502256758253e-18,-0.007369296228434994,-1.006139616066548e-18,-8.951173136040325e-19,4.371503159461554e-19,2.581268532253489e-18,-2.706168622523819e-18,-4.440892098500626e-19,5.377642775528102e-19,-6.661338147750939e-19,6.10405823109339e-19,-3.1225022567582527e-19,-4.787836793695988e-19,9.124645483638006e-19,2.498001805406602e-19,1.9012569296705807e-18,2.7304547511874945e-18,4.0766001685454964e-19,-5.48172618408671e-19,0.5955498560728222,-3.890984756615978e-18,-8.358114547690753e-19,2.246466901389965e-18,-1.457167719820518e-18,0.5991152696900106,0.4219468177976039,0.09979714076003034,-1.1865508575681361e-18,1.1403438466673745,-1.2628786905111155e-18,-6.661338147750939e-19,0.2731702797615472,-4.85722573273506e-20,0.3330742893609093,0.1023754760167494,1.096345236817342e-18,-6.661338147750939e-19,5.551115123125783e-20,6.661338147750939e-19,-1.925543058334256e-19,3.4694469519536144e-19,0.4105648091323287,0.5792055823481436,4.458239333260394e-19,3.3306690738754697e-19,1.0304257447302234e-18,3.0531133177191803e-19,2.213507155346406e-18,-0.046098436505652075,1.2906342661267445e-18,1.1379786002407855e-18,2.7755575615628914e-20,1.8735013540549518e-18,3.4694469519536144e-19,-1.0547118733938987e-18,-3.0531133177191803e-19,-2.0816681711721684e-19,-2.7755575615628914e-20,0.3371534461323179,1.3877787807814457e-19,4.718447854656916e-19,-3.6255720647915267e-19,1.1946177320281426,5.204170427930421e-20,1.925543058334256e-19,-8.118505867571458e-19,1.3877787807814457e-19,0.6312734031605126,-9.228728892196614e-19,-2.1163626406917046e-19,-3.2526065174565134e-22,-4.336808689942018e-20,5.828670879282072e-19,-1.942890293094024e-19,1.2407709188295415e-27,2.7755575615628914e-19,1.942890293094024e-19,-1.528725063204561e-20,1.3183898417423734e-19,8.326672684688674e-20,1.7243151351209462e-18,-3.1225022567582525e-20,-1.4849232954361468e-18,3.1225022567582525e-20,-2.6020852139652105e-19,-3.2439329000766293e-19,1.0257039595657543e-25,0.4553599031927752,5.898059818321145e-20,5.204170427930421e-20,8.326672684688674e-20,-2.347124988119216e-26,-5.551115123125783e-20,2.0816681711721684e-19,-1.179611963664229e-18,-5.134781488891349e-19,0.00343228742248931,0.6113844098687593,1.2073675392798577e-18,1.8197973476166608e-26,8.326672684688674e-20,-4.336808689942018e-21,0.5307124997182616,-3.1225022567582527e-19,-1.3183898417423734e-19,1.942890293094024e-19,-5.134781488891349e-19,-8.604228440844963e-19,-2.7755575615628914e-20,1.1379786002407855e-18,-5.030698080332741e-20,0.4801545782574357,0.342921342547248,7.910339050454241e-19,2.0816681711721686e-20,-7.702172233337024e-19,-6.617444900424222e-27,6.106226635438361e-19,1.3877787807814458e-18,-5.967448757360216e-19,9.71445146547012e-20,-3.9551695252271203e-19,6.938893903907229e-20,2.1510571102112408e-19,0.3371561267487377,0.17472377255667815,0.1648912433810351,3.4694469519536144e-19,1.3877787807814458e-18,1.0845497637728327,-4.232725281383409e-19,-0.04797448686706127,-2.7200464103316336e-18,0.2368806996013655,0.18775966143373632,-8.118505867571458e-19,3.0531133177191803e-19,-0.03431153727757212,3.3306690738754697e-19,1.609823385706477e-18,0.4375823639395663,1.5178830414797062e-21,1.2981829606082012,-2.6800651846718098e-25,-7.632783294297951e-20,-3.3306690738754697e-19,-0.02650139276368342,-6.938893903907229e-20,-3.7470027081099033e-19,-0.19101777739704506,1.3704315460216776e-19,0.7316927181739001,-1.1865508575681361e-18,-3.5542916945637906e-29,0.037180321373444264,1.3183898417423734e-19,0.6692200765755278,0.06694440663970161,1.1449174941446927e-18,0.244802567858114,0.08504941551027317,-3.748162150630907e-28,0.005179083771744883,1.3791522012681596,-1.0587911840678754e-25,6.505213034913027e-19,0.520088474049544,0.6035918174779764,-1.3877787807814457e-19,0.44442025416734104,1.3552527156068806e-23,6.036837696399288e-19,0.4375427325670496,0.621644188280128,0.6248041309040038,1.457167719820518e-19,0.593801649235717,0.059251772954237725,2.914335439641036e-19,0.5710322306670415,0.09782859173335207,0.15658462933107417,0.649307206294668,-0.08414401509550307,-3.712308238590367e-19,-8.847089727481716e-20,-5.551115123125783e-20,0.31496927444481004,-3.885780586188048e-19,-2.359223927328458e-19,0.5550776524403224,0.6302234893179697,-9.04728794979874e-29,0.20938794352825238,-5.828670879282072e-19,-8.673617379884036e-22,-0.005672567456302354,0.6073369405786999,0.4213232299336634,0.4189003114188404,0.739228235833927,4.85722573273506e-20,0.09881923830809938,6.938893903907229e-21,-9.020562075079396e-20,0.633716250209342,1.1102230246251566e-19,9.215718466126788e-22,-0.0528916509215025,8.673617379884036e-21,7.632783294297951e-20,1.817990202823694e-18,1.1911400820763598e-25,2.848148285142585e-23,5.412337245047638e-19,-1.2628786905111155e-18,-1.3322676295501879e-18,-9.298117831235687e-19,1.0321604682062002e-19,9.575673587391976e-19,5.898059818321145e-20,4.955142741437657e-23,0.0,1.6672859221771965e-27,4.3426982159033956e-27,-2.1198320876436582e-18,-1.3877787807814457e-20,-2.445960101127298e-19,-2.541098841762901e-24,-1.2705494208814505e-23,-3.9898639947466565e-19,-7.928228386300252e-22,9.020562075079397e-19,8.326672684688674e-20,-1.9775847626135602e-19,-3.649858193455202e-18,5.412216898540318e-29,-1.1518563880486e-18,-1.5959455978986625e-19,1.4062070413401471e-26,-5.816113682013475e-29,-2.7755575615628914e-20,5.492479267352104e-25,4.787836793695988e-19,-2.0209528495129804e-19,0.12201730331072246,-4.85722573273506e-19,-1.491862189340054e-19,2.981555974335137e-22,3.2612801348363973e-19,1.3322676295501879e-18,-0.03352616149926972,0.783262466719949,-3.400058012914542e-19,-1.3530843112619096e-18,-1.1519648082658485e-22,1.6653345369377348e-19,-2.2898349882893855e-19,4.996003610813204e-19,-2.7755575615628914e-20,-1.2197274440461924e-21,-4.963083675318166e-27,-5.551115123125783e-20,-3.069615554396001e-29,5.6898930012039275e-19,0.49484581974744524,0.2547476323428828,0.21226812156796546,-0.8918905395781801,0.4969507159222004,0.3146880873549194,0.37673912651699476,0.046327584424232356,0.16845622404670232,0.736475511949407,0.7218867656094687,0.6438274243544042,-0.08042194692406296,0.12818660205863117,0.4853883760520985,0.6352125500686792,1.1102230246251566e-19,-7.0776717819853725e-19,0.5872709508209575,-0.1290957974579591,0.13867724472775025,-4.8572257327350596e-18,0.6222038807450346,0.7004555437179345,-0.08557647634828093,0.7154924146674942,0.4787714329454429,0.4572116838040901,0.07706309996396146,0.11182039347251206,2.1510571102112408e-19,2.1649348980190553e-18,0.4117293082491614,1.8041124150158793e-19,0.255983283690827,0.2888032302205699,0.3367804619832052,0.5470207176863172,0.4180038003175613,0.5495699016163035,-8.326672684688674e-20,0.6188300347986428,-7.910339050454241e-19,0.0192785988375171,3.885780586188048e-19,0.33902423113767866,5.551115123125783e-19,3.7966297646476856e-29,9.020562075079397e-19,2.359223927328458e-19,-1.6375789613221058e-18,3.5734202462290795e-25,0.19377730337526192,-2.7755575615628914e-19,8.893845946170154e-24,2.983724378680108e-19,-9.853229343548263e-19,-3.365363543395006e-19,-1.1102230246251566e-19,-1.0164395367051604e-23,1.4432899320127034e-18,-8.158715026157793e-29,-5.551115123125783e-20,5.377642775528102e-20,-3.998578156384265e-29,0.390258754204883,-0.11520878229381022,-6.661338147750939e-19,2.9976021664879226e-18,2.706168622523819e-19,0.2543842387977844,2.643718577388654e-18,8.077935669463161e-31,-8.014422459012849e-19,-3.3306690738754697e-19,-0.11619682305310336,-0.10450712149459607,-1.3877787807814457e-19,-7.494005416219807e-19,-1.1858461261560206e-22,1.2407709188295415e-26,4.85722573273506e-20,4.607859233063394e-22,2.220446049250313e-19,-0.10104494348541695,3.191891195797325e-19,-1.6543612251060554e-27,5.145063410079832e-25,6.522560269672795e-19,-8.604228440844963e-19,6.381569178875897e-29,3.4694469519536144e-19,1.1580528575742388e-26,-2.4936649967166603e-20,-4.510281037539699e-19,-2.261821987449685e-29,2.6367796834847467e-19,1.8735013540549516e-19,1.1858461261560205e-23,3.308722450212111e-26,-4.976008372389307e-28,2.42861286636753e-19,-2.400857290751901e-18,-4.996003610813204e-19,0.07919128194747214,-1.8041124150158793e-19,1.179611963664229e-19,-4.85722573273506e-20,-3.929107909626881e-27,-7.008282842946301e-19,-4.6528909456107805e-27,1.43982048506075e-19,0.4744952526706931,0.5801802730787815,2.6020852139652107e-21,2.359223927328458e-19,0.5520710236898361,-0.01725172922072983,0.1909399542440217,-0.13163434946998886,-0.4354190649529318,0.6020534170750969,0.7869628583232136,1.0043192853273968,0.5352905687958384,0.6083971667434805,0.03290730135722748,0.029444929733601893,1.829075659773065,-8.685396431806791e-27,0.3333540957203054,0.07303901418019083,0.3485190522633372,0.5667065029723768,0.4001876576257169,0.35363224822904715,1.8648277366750675e-20,-4.963083675318166e-27,0.29600363811597635,0.6314718385561028,1.4475660719677986e-26,-2.9080568410067377e-29,-0.03580671892079703,3.7816971776294395e-19,-4.0234064994579265e-24,-3.7719435932418063e-25,6.776263578034403e-23,-9.693522803355793e-29,-7.910339050454241e-19,-2.2898349882893855e-19,8.077935669463161e-30,-1.7694179454963431e-19,0.49854177742089684,-6.617444900424222e-27,-0.1357908827517362,0.7345243821507604,-3.218725199566341e-23,6.88214269644119e-25,0.001973749835458444,-5.3601303693436195e-25,0.7300581574615181,0.5889275947741542,0.6814041336756255,2.895132143935597e-27,0.17382391529053504,1.1102230246251566e-19,0.6075407279469578,0.14454496776307552,0.590711372434764,-1.2821299494571929e-26,-3.469446951953614e-20,9.471590178833367e-19,6.453171330633722e-19,-1.4095157637903591e-24,-4.0234064994579265e-24,6.453171330633722e-19,-5.273559366969493e-19,0.5853868239910501,-1.3958672836832342e-27,0.6319868507567863,0.9343678794827771,3.4694469519536144e-19,0.6320010138240963,1.0522631514292324,-3.705769144237564e-24,2.5849394142282116e-27,8.077935669463161e-29,3.1846453583291565e-26,6.522560269672795e-19,-1.3894049351476637e-27,3.4432080318106864,0.23031109883730871,1.5928509730196516,1.0744404349947176,0.42230656330471134,0.10592155835706395,-0.5176288601443327,-0.8896419077840153,0.4298244433508524,0.4409086746853584,-0.9489990446762032,0.7376519721862809,0.002709363856329061,0.7836979281260824,0.11324174285878831,1.0943863031176255,0.2892119304003554,-3.4741585727227165e-26,0.04469561162113215,0.7031213440751147,0.07569811377298392,0.5714760002899227,0.11725010053560125,0.5522069376353831,0.07376910050824513,0.2975260183745755,0.5594221076322977,3.101927297073854e-28,0.6257317763872017,0.08743343583382758,0.11907168379977355,0.3105715351691562,0.719012436583718,0.18810240923743474,2.6645352591003758e-18,-1.5265566588595902e-19,-3.6930636500287495e-22,-9.486769009248164e-23,-0.09396790089089259,-2.949029909160572e-20,-0.030497838358180446,1.547373340571312e-18,0.073033583524857,1.3739009929736313e-18,2.371692252312041e-23,-1.0164395367051604e-23,1.3530843112619095e-19,8.876905287225068e-22,-3.8116482626443514e-23,0.05559965505071419,0.16406462452038653,0.2815487342227817,0.3704610491160852,-3.483324739761429e-18,-2.2551405187698493e-19,-1.349614864309956e-18,0.7144002321285977,1.9012569296705807e-18,0.018079359317191006,-1.0587911840678754e-25,-2.480654570646834e-19,0.3569510500602429,0.2935780447461035,9.08995101411847e-19,-1.6940658945086007e-24,0.6474376003986225,2.5849394142282115e-28,1.2628786905111155e-18,1.1310397063368783e-18,2.19719850209398e-28,0.44066980532285854,4.632211430296955e-26,-2.1337098754514727e-19,-2.895132143935597e-27,0.03424403205806209,0.4347096665397067,0.3024762444368274,-7.270142102516845e-29,-2.2898349882893855e-18,4.0419056990259607e-19,0.30688692782831545,0.40529786027262804,0.3885241616789446,0.19069513619766618,-0.2709606369620231,0.23257551460163728,0.846752006715445,0.3560098925829901,0.4118510456397179,-1.0316134669217774,0.03716948671928855,2.983724378680108e-19,0.19827656375579933,-1.5959455978986625e-19,0.38833218368232447,-1.5146129380243426e-30,0.07042787136964976,-8.951173136040325e-19,1.142183884906997,0.06383550982953239,0.09358779644931305,0.10997180491812186,0.3081903816461043,0.40531543694029376,0.06713187441332275,0.14169584680496067,0.06029159601280373,7.806255641895631e-21,8.375203702099405e-27,0.5904030781876255,0.6240864239661491,0.5447468845471757,0.3379721548133253,0.6117298834034575,0.58413189567128,-1.942890293094024e-19,-1.3322676295501879e-18,0.6566158173023384,-1.1858461261560205e-23,0.45254298647979935,4.163336342344337e-19,0.23979270704978653,1.8295911660692887e-22,-8.470329472543004e-25,2.7582103268031233e-19,0.36066580889389654,-0.016976332693325488,1.861156378244312e-27,0.4353330088053123,-1.1926223897340549e-20,0.6263530216718154,-7.993873439712459e-24,-1.3877787807814457e-19,1.4863401631812216e-28,0.7407824519465869,-3.3881317890172014e-23,-7.632783294297951e-20,-5.551115123125783e-20,0.07059598853278778,0.37301367819233894,-0.028328528820251043,-0.34575987738817343,0.037244021141138575,8.673617379884036e-22,0.7204032249292619,0.28397142274563714,-0.11153483205120768,0.6344412069939278,0.451639394330488,0.4772291931267358,0.5489580220368723,0.4506253255807765,0.0029601387526460893,0.7407640002137169,0.6111438846218812,0.03595054328139484,0.011333153575446129,0.07699420900611535,1.051197710483047,0.10382849341967054,-1.9637363872940192,0.2282505565768067,-3.1225022567582525e-20,0.07518128004014578,-1.0058516248644816e-24,0.09913633432904674,0.29064052318744327,-0.023975457039616004,3.101927297073854e-28,0.7128213108300255,-0.13333963944049854,-0.49955411411168654,0.5998495767915115,2.3071822230491536e-18,0.43299879907868777,1.6653345369377348e-19,5.955700410381799e-26,-7.808584982500581e-25,0.05721548479623173,-2.498001805406602e-19,0.6035364902800002,-1.613002194478404e-26,0.10331168447989886,0.09442269877386311,-2.7755575615628914e-20,0.25058129994275563,-0.0449922047441845,-8.326672684688674e-20,3.4304834363799165e-23,4.572731082674864e-18,7.910339050454241e-19,0.0848158346961476,1.0269562977782697e-18,0.6208634673412852,8.809142651444723e-23,-6.106226635438361e-19,0.12481905480012671,2.8951321439355967e-25,-1.3877787807814457e-20,0.614933114126514,-4.607859233063394e-22,-1.3552527156068806e-21,1.6263032587282567e-22,-0.35723374614183623,0.41372349042401796,0.4361360534892611,-0.6103125199168831,0.4665305601017421,0.6840676717752325,0.2744065489228087,0.2916080238787891,4.579669976578771e-19,0.34036744653085205,0.0,0.21071266532414148,-1.4558378780933286e-25,0.33850784020337893,-0.7981618756587733,0.2120011320186597,0.32678719071437706,-6.352747104407252e-23,0.0953038813750446,0.09139138398497931,-0.16303525268791066,0.2079349759365577,2.4298430493745188e-27,6.522560269672795e-19,1.196959198423997e-19,-9.26442286059391e-26,-0.000461637073269211,0.1149634134417181,0.28988914014990325,0.21026869072116938,5.6898930012039275e-19,-5.030698080332741e-20,-1.2705494208814505e-24,3.365363543395006e-19,-3.3881317890172014e-23,-8.142559154818866e-28,0.6755543047561727,0.41582812196506197,-4.718447854656916e-19,8.27988406119974e-30,0.505273483981865,4.3622196783596465e-23,0.5986437275378209,-0.12103250578724248,-0.5013141364764433,-2.7755575615628914e-19,1.4258999395484517,-6.203854594147708e-28,0.2412349583482101,3.4331226595218436e-30,0.28909753522765486,0.5955280694880457,-1.4961989980299962e-20,-1.8611563782443122e-26,5.149960319306146e-22,0.714012798794068,0.31575256004848523,-3.877409121342317e-27,1.5881867761018132e-25,-3.0704944337968385e-23,0.5660265992535518,1.1964340379966993e-23,0.7392671215191214,0.2276020487980239,0.0029894724254653795,-3.2311742677852644e-30,-2.981555974335137e-22,-1.1911400820763598e-24,0.39499071041177974,-1.138200522872966e-24,0.06248071159285506,0.13337264423043121,9.540979117872439e-20,8.673617379884036e-22,0.5844912507813546,-0.02180988769765987,0.40423784013118785,0.1322446364522582,0.094400369632602,0.5366821872788922,1.6653345369377348e-19,-2.2262668401043775,0.6259727054874813,0.5594318526582746,0.1163345443552565,-3.049318610115481e-22,0.6240946272110496,0.6340360047464944,2.9646153153900515e-23,3.469446951953614e-21,0.3241885377226917,0.6943046565866129,1.5924219408380846e-22,-0.06005637260717455,3.2822526706104138e-24,0.6043940205232576,6.108938850031515e-30,-3.59823566460567e-26,-4.163336342344337e-20,0.1523483129317401,0.37371511891422815,3.3133218391157016e-19,5.828670879282072e-19,-2.5849394142282115e-29,0.6307235810070823,0.7300956960668452,0.5179038103520056,0.5053049062231915,2.5978641112993527e-27,2.507217523872729e-22,0.029801594507215024,0.1052925859799998,-5.755529164492502e-30,-6.803136446626006e-30,-1.1102230246251566e-19,0.5809627610205069,-3.07971297398283e-30,-3.1302000719169748e-30,-1.1657341758564144e-18,4.85722573273506e-19,0.17894424895366498,-0.17429792752692663,-4.1359030627651385e-28,-1.1117307432712693e-24,0.7683706671298424,0.7259137182500471,0.04847804252600425,0.2937815011348689,7.213014941462401e-25,-4.40619762898109e-19,0.7126503945368844,4.963083675318166e-25,0.631782681880615,0.5425912296530657,0.21040326793629963,0.29045840383898297,0.5435023592751341,1.0071194400563546,-0.991020932664219,-1.174960793029845,4.336808689942018e-21,0.5736492600147275,0.21920232899175326,0.7072693210734894,0.6067226515368745,0.1276380012353051,0.3258382554829326,-1.670904837357116e-25,2.8796409701214996e-18,0.0961619384604323,1.0484853529569809,0.7301887250760276,0.11923839279696695,-2.6469779601696886e-25,-0.06312567561055833,0.2076856291828365,0.3381945979517189,1.734723475976807e-20,0.13137734150496938,0.4864850805564685,0.23381368190438007,-2.795208725939191e-23,-0.21668355705868222,0.0011580889575144022,0.7310694013060289,-0.05872740775424501,-1.4187801866509532e-23,-2.541098841762901e-24,0.6159298691353247,0.54493381906069,0.09910950402418943,0.8911069489269998,-0.049748837675421646,-1.0503208545953324e-22,0.5592180742148246,2.0585708248295136,1.4992648602523627e-27,0.6175411466789231,-1.964057646445909e-23,7.134432783269864e-27,0.28371990695872285,0.11440098253064183,-0.019989416760506334,2.3161057151484777e-25,-6.314393452555578e-19,0.612129198743245,0.5713432523047652,4.963083675318166e-26,-4.632211430296955e-25,0.04071490951281551,0.6203201963343368,-1.179611963664229e-19,-0.024627933251831657,-4.0389678347315805e-30,0.37567995353393063,-2.0679515313825692e-27,0.5489559275565515,0.7395481374123115,-5.0458017365734687e-26,-1.0587911840678754e-25,0.4232055832566676,0.005020401242473718,-0.9005955847274352,0.2030540568036815,0.20283729152579655,2.6020852139652107e-21,-0.27537970282322743,0.7412699928447684,0.5233494386557113,0.38615358800348265,0.43401621714574645,-2.117582368135751e-25,0.6256734432158525,-0.4028504903137384,0.3800454354432762,2.0033280460268639e-28,0.23061389139716712,-0.09321704598872259,-0.4852554528133396,0.000414726858871286,-1.4889251025954497e-26,0.0812877786672086,1.334076891925523e-23,-0.42148975412625217,0.28925411507261073,0.6448762147356902,-0.09242380661139629,0.08553587222028294,0.7353577349530103,0.5460052781833857,-4.98732999343332e-21,1.2924697071141058e-27,-1.4475660719677985e-27,3.110199103199384e-25,-6.505213034913027e-22,0.7368560570201245,0.6209221054102356,0.5847034257084579,0.7291165384579045,0.4828756542275931,0.1945900804738371,-2.895132143935597e-27,0.07483550707372998,-1.3234889800848444e-24,0.5853641504339362,7.444625512977249e-27,0.2685886000724363,-6.617444900424222e-27,0.167562820726808,0.7197096570061517,5.293955920339377e-26,0.6080475537817451,-2.6469779601696887e-24,0.8185631735448229,5.273276405025551e-27,0.6078105092622444,-7.573064690121713e-32,-6.203854594147708e-28,0.6322142788055631,-0.0932875635821541,0.2174965551222686,-4.0389678347315805e-31,8.271806125530277e-28,-7.940933880509065e-25,2.439454888092385e-22,-2.6469779601696886e-26,0.2248101758823831,0.09483490819020302,0.5591650234044264,-0.10726201609823034,0.11612589308077294,0.09009841396471627,0.717852807973706,-0.0004126745754005926,0.4330165941212182,2.5642598989143858e-26,0.0,0.49055400953791806,-1.6263032587282567e-22,0.7167604063935022,0.6281831412068407,0.42644343511726385,1.6263032587282567e-22,0.4831316364059568,5.724587470723464e-20,0.5845024797029497,0.12108226501099045,-0.01044626027784062,0.14644765886082206,0.7322217326533864,-0.4239615908408159,4.830734777309681e-25,0.5788345467745711,-2.740035779081904e-27,-0.145772208578364,0.6165647646609885,-5.169878828456423e-29,0.8419131619542756,-1.2095320030251089,-0.06970647065342693,0.10637352152535909,0.10221091742585374,0.05327166727546847,0.5756974076813707,0.0800970442404776,5.004442705945817e-26,4.764560328305439e-25,7.563394355258879e-19,0.3596845178819442,3.407879110554771e-31,2.6211285660274065e-26,0.7197542336812944,0.8091400441276801,1.2705494208814505e-24,0.5959236677114148,-1.1580528575742388e-26,2.439454888092385e-22,0.09960465113780795,0.20834432290718702,-7.676236084492097e-25,1.241982609179961e-29,4.1359030627651386e-26,-3.2822526706104138e-24,0.6167710631861902,9.317362419797303e-24,-0.08809679476234918,-3.218725199566341e-23,0.23386792761138417,1.1233379290347208e-30,-2.726387298974779e-24,-3.748162150630907e-28,-3.618915179919496e-28,0.017279216054236258,-5.6115932755597396e-24,0.05466780698186639,-5.932754287840681e-19,4.649058915617843e-19,0.3408111145332771,-1.5348077771980005e-29,6.776263578034403e-24,-0.46589620301761314,5.412216898540318e-29,-1.1309109937248425e-29,0.17219972616050025,-9.693522803355793e-30,5.790264287871194e-26,-2.117582368135751e-25,-1.1713006720721584e-29,6.522153693858113e-23,-0.06673099896680412,0.07158778848748437,7.444625512977249e-27,-7.858215819253763e-27,2.9778502051908994e-26,0.6262246549365104,-6.220398206398768e-25,0.08998202711852286,0.22002557440374443,0.5937911037229525,0.7469845155543546,0.5974619212820661,0.41332777318924296,0.23553986216722309,-0.19550923542902868,-1.3023131564034868e-23,2.9815559743351372e-21,-0.05843041141222234,0.6250997801235338,0.02375341513133446,0.21310351788432833,1.1011428314305904e-23,0.04166581205162637,0.7339547916435677,-5.421010862427522e-23,2.320870275476783e-22,0.15365272323633178,0.19888938077882093,4.698385879301197e-25,0.38173485046898586,0.3740778136761108,0.01887017538094362,0.356571451946107,-5.717472393966527e-24,2.7755575615628914e-20,0.7237997709597864,0.7171878480421892,4.336808689942018e-21,0.19758669782898491,0.6158063828567228,0.37698139821322074,-1.6285118309637732e-27,-0.4249356089835261,-1.2281977735187356e-23,2.270048298641525e-22,4.65289094561078e-28,-2.9403685836845905e-28,1.0943502660869129,6.352747104407253e-25,-1.9273308272485546e-25,-4.549493369041652e-27,-0.08185003226021564,0.34957705517232934,0.7346166794953888,-1.4544622940012404e-33,1.4791141972893972e-34,1.945528800724721e-24,2.6469779601696887e-24,1.4137996329210978e-19,-0.04778930321044899,4.6586812098986516e-24,0.5722896447564123,2.371692252312041e-23,3.308722450212111e-25,2.547716286663325e-25,1.0339757656912846e-28,0.6073050663070723,0.6142951531487064,1.2278462217584004e-28,0.05447559253989231,-9.098986738083304e-27,2.0679515313825692e-27,5.186034699795349e-28,-2.3740083580271892e-25,-9.693522803355793e-30,-1.9387045606711585e-28,1.4475660719677985e-27,-1.2278462217584004e-28,-5.1285197978287715e-26,-1.0587911840678754e-24,0.24173023647211603,-2.168404344971009e-22,2.0514079191315086e-25,-1.1580528575742388e-26,3.9581884780369488e-28,-2.9080568410067377e-29,0.5614001003294494,0.2270845631960171,0.4890350361601855,6.866245319043687e-30,6.28657265540301e-25,0.19048854980187593,0.2028427488771035,0.320023100899248,0.21005057362337906,-0.01784058521019805,0.9301445525221423,6.088049308390284e-24,0.6764926778051827,-0.14140192964563136,0.157090684212095,0.24349212129837391,0.020017691815927666,-3.715850407953054e-29,0.2706344524617633,0.6241728536568683,-0.08893831592705782,0.501372123298309,-2.473834929040738,-1.370017889540952e-27,-1.796625952929081,0.2688519831437761,1.7749370367472764e-33,0.32527724172739897,0.10786922215061404,-6.938893903907229e-21,-7.527343574232552e-26,-6.70223620646758e-35,0.6256368879897404,4.8467614016778966e-30,0.06260692128623911,0.6747447622005809,4.417621069237666e-32,0.6100214351356964,-2.3522948669476724e-27,0.5956728011487856,0.4908741199521596,0.1818755964081214,0.029921543220967562,-2.0194839173657903e-31,-2.5849394142282115e-29,1.0854726055841122e-30,0.14348372163594808,-1.2490427249550718e-25,0.7209804125948779,-7.909914607538327e-27,-5.624828165360589e-25,-9.624103043696344e-32,0.18000118926765374,0.1950164915641213,2.0194839173657903e-30,0.2656627469619827,0.13293877456735367,2.3224065049706587e-30,5.169878828456423e-28,-1.3234889800848443e-23,2.359223927328458e-18,-3.1554436208840474e-31,-8.267262286716204e-31,-1.2490427249550718e-25,0.3933233729822925,2.179259327683876,0.5734144303791407,0.4498277648103968,0.541057469403072,3.9551695252271203e-19,-0.21136912510789044,4.98732999343332e-21,-0.6361892310968216,0.28267862846346004,0.9581052057178268,-0.052748082877847866,-0.34266446876576134,1.6948183510607675e-35,0.17452688458407345,0.6952148619777563,0.054951750910658556,-0.08725516444704003,-0.05332997484726781,0.4955413107017162,-0.00820704910772702,-0.0238238295052292,0.01869217558375831,0.3040408585734541,0.31602734193309123,0.20605332637720908,0.6355894370765575,4.622231866529366e-36,0.7137430597218702,1.9989977555201487e-22,0.7374258654145728,5.039846036163087e-23,-0.0711639447276001,0.7605668087102113,0.5719060110184895,-0.06596923038458445,0.004685879049446922,-9.147955830346444e-23,2.688821387764051e-20,-3.3457801416544864e-23,-4.632211430296955e-26,-5.293955920339377e-26,-6.617444900424222e-26,-0.06941738554095274,-4.440892098500626e-19,1.6874484496081763e-25,0.6066805261404117,1.4136387421560532e-30,9.289626019882635e-30,0.607785508782872,-0.12124748806299016,0.7234269476855762,-2.287671381591967e-27,-6.948317145445433e-26,-0.0004824560846487963,2.6469779601696886e-26,3.2311742677852644e-29,0.08820117525858287,0.05498148648770919,0.7037362088636,0.566345779167382,0.8049695879658186,0.6126801058981171,3.8496412174785375e-31,0.3265278446482739,0.07016293467976625,0.5583040539282077,1.4606043815584127,2.7704348481549457,1.232595164407831e-35,0.563920921839231,0.07577622307350783,-0.06397146714171417,0.32506858016622586,0.2594210105881776,0.000196407456842736,0.4012294178188575,-0.42628407543932967,0.40172297664154716,0.6229941923790234,-0.06383422435046816,-0.024013253051562097,0.5554790559376982,0.7369391301221504,0.0032491877753902045,0.2189573808131295,-4.1809627976713625e-32,2.3192510613497746e-31,-0.05409552792581625,0.12486479479653535,0.22502716173964546,0.7354613857640312,-2.3161057151484777e-25,0.39868137103968165,-0.018770411985140678,-3.736045247126712e-30,0.06836824174236467,0.2323633632763009,-0.05420206948071421,0.6220218762421874,-1.5096046179092754e-26,0.18274757268826988,4.549493369041652e-27,-0.12400035412918403,-0.07626603829400817,0.3355904529801584,1.0709240314460418,0.14941775676301428,0.19809599667101693,6.776263578034403e-24,-0.027251110222104167,0.01858471990246119,0.41961153349793706,0.12358819413085827,-5.522026336547083e-33,-5.169878828456423e-27,5.373365259144468e-24,-1.0097419586828951e-30,-1.2200914035157158e-26,1.0339757656912846e-27,0.8065674138856896,0.571513590635786,2.1196503196671335e-27,0.6010452047628138,3.2311742677852644e-29,0.5932029529206649,0.3964267684907327,-1.0339757656912846e-28,7.125940794232772e-36,0.6312847224288373,0.423514439770946,0.594087793061665,0.20780799668491065,0.6374457770547237,0.30775803650772354,0.1098960232880332,0.21664288939931484,-0.6599493427362413,0.21863811172736053,0.46477909772091347,-0.10415703398168814,-2.0117032497289633e-24,-0.07847865961998805,0.21420146583507405,0.49767238343123776,0.30301302576126055,0.7152856680326309,0.057731902901422355,-1.3788206519175186,1.7319094075329018e-27,1.9025154088719636e-26,0.3121486094787976,-0.022242498778523852,-0.07845598072649491,-7.031035206700736e-27,0.13685510499009196,0.28585967264732254,-0.0038956786129616125,-8.077935669463161e-31,0.6151429420204237,-3.877409121342317e-28,0.2619960380915988,0.2866067265334009,-1.0058516248644816e-24,7.754818242684635e-29,-8.602678370551488e-25,-2.958228394578794e-32,0.04459344992333897,0.019921870241480934,0.2102078934451055,1.4136387421560532e-30,-0.17774287367601038,-4.218621124020441e-26,9.370405376577267e-29,2.5516867536035797e-23,5.363749284523539e-28,2.6821270777514403e-31,0.23648090193959184,0.2502899316700016,-1.262177448353619e-32,0.057468317385087835,-1.0727498569047078e-27,0.4138852572871711,0.564027352485149,-2.195560136601449e-35,0.19132555522936706,4.2005265481208435e-29,-2.7263032884438168e-30,0.0542655474026161,0.29957424416933864,8.204153414298522e-32,-9.531964089966529e-29,-3.697785493223493e-35,-9.774302160050424e-29,0.3989859590705702,-2.5849394142282115e-29,0.4158856666578675,-6.342441677976935e-31,0.41222972580546224,-1.1555579666323415e-36,3.004992069040296e-28,0.5394539191606201,0.5653911579402197,0.1861869738993815,0.11897991783369931,0.2361074091727754,4.140749380432557e-36,0.6490148227081108,0.5671825562890674,0.37440235930526694,0.62438304005181,-0.17033039141488626,0.5728859579821707,-0.3578444626225153,0.4345454464802935,0.5513025007135467,0.1033116982516961,0.10196647782959348,1.0231502829557191e-36,-0.09629178472450205,0.6266194305790523,3.069450848867157e-37,0.40458142553802123,0.007963710511471333,0.06945340202912378,-0.00022003894496129108,0.6136320294962921,2.888894916580854e-37,0.6388344533067822,0.057441299542706985,0.47383045181394373,0.8413962506568466,-4.694454239443887e-37,0.19789220948582442,0.12003031051038554,1.925929944387236e-36,-5.854691731421724e-21,-3.3101920919155616e-37,-1.0202082774649712,-3.9481563859938337e-36,0.494110542097892,-8.802101698957288e-37,-0.01794090620342209,-6.740754805355326e-37,-5.537048590113303e-37,-3.6412113011071177e-37,-5.296307347064898e-37,-1.0472244072605594e-36,1.4544622940012404e-33,-7.222237291452135e-38,0.25293300703086224,0.15013247107115568,0.4432166060132628,0.06781367538347545,0.46094785328957577,0.26468554722594057,0.20157915718105895,-7.222237291452135e-38,2.949080227342955e-37,9.14816723583937e-37,3.9120451995365726e-38,-0.19927749796064015,4.3935276856333815e-37,1.035379938102578e-33,0.24782171874469894,0.7358518952605945,0.5783964715601478,-1.852884572118782e-25,0.5986777231956899,1.09859925104699e-27,-5.777789833161708e-37,0.5734377574155929,1.0874016118383163,0.18081367778398277,0.4270466884585654,0.22513692355186102,0.456860886155257,0.32891766830019237,0.0038840931079658463,0.026535901812935005,0.18762303470327157,-0.07900743089640222,0.03527038180741394,1.444447458290427e-37,0.35422085792967273,0.06240702938080033,-1.2037062152420224e-37,-0.5199299768076924,0.021002767881454523,0.6250953301648579,-0.19062945361285602,-1.564818079814629e-37,4.935195482492292e-37,0.4887221749404117,7.222237291452135e-38,-2.407412430484045e-38,0.040101556487533406,-1.4865771758238977e-36,-1.1555579666323415e-36,7.944461020597348e-37,0.10716776719153236,0.5710421528832884,1.2037062152420224e-37,0.17164349467271664,0.4586315634122743,-3.851859888774472e-37,0.17806925909566934,5.537048590113303e-37,0.20137242072061826,-0.5193743659526309,-9.62964972193618e-38,-3.5810259903450165e-37,0.20147606095800347,1.925929944387236e-37,9.62964972193618e-37,-5.777789833161708e-37,1.6851887013388314e-37,0.6010346771048204,0.3715501778532403,-1.8055593228630335e-37,-6.815758221109542e-31,1.1916691530896022e-36,1.1134282490988707e-37,0.720763621546737,0.7050059992953454,-1.444447458290427e-37,1.0518520303987158,0.12478069698339883,3.972230510298674e-37,-6.018531076210112e-38,2.888894916580854e-37,0.18646527248931266,1.116910493729646,3.009265538105056e-37,1.6851887013388314e-37,-2.407412430484045e-38,0.5873034245447758,-3.129636159629258e-37,7.101866669927932e-37,0.5749034987766451,7.222237291452134e-37,-0.10511178883753054,0.40964713047945045,0.7398150595166981,3.009265538105056e-37,0.0642043250104371,-7.222237291452135e-38,0.549014406426642,5.085658759397545e-37,0.599351807160396,0.3332338894417958,-2.3472271197219437e-37,-3.129636159629258e-37,2.256949153578792e-37,0.16702190751882834,0.027186170189816315,0.4381049622177934,-0.037307475837811445,1.5949107351956796e-37,-1.1435209044799213e-37,0.4141471484255492,-9.027796614315168e-38,-1.564818079814629e-37,-0.16472215981817276,0.016245843673534984,0.7939346466266023,0.6147102475297306,-1.7453740121009326e-37,-2.888894916580854e-37,-0.8755377484743911,0.6281512635438284,7.222237291452134e-37,4.81482486096809e-38,-0.01709299211011764,0.7696321457379739,0.30725692440324587,0.4345199643643259,-0.051177973471581054,0.6188262267328459,-0.7833613157929883,1.504632769052528e-38,-2.4951363410466953,6.620384183831123e-38,-4.81482486096809e-38,0.4900023251113539,-2.1064858766735394e-37,-0.12090191985383911,0.2024774788244903,0.5391787973722981,0.15263743308725652,0.5858982461706526,-0.18958736165903992,7.222237291452135e-38,0.9194748500514134,0.1409815152453991,0.4088265475089438,0.47869907045730387,1.5979645003692715,-6.379642940782719e-37,0.35481879883151785,-7.101866669927932e-37,0.41790317587139236,-2.557875707389298e-37,1.390280678604536e-36,-0.09101311466504008,-5.175936725540696e-37,0.6323397768460159,-3.7314892672502694e-37,0.022270301300325188,0.6646796001029794,0.052886004481294824,0.3012099094519202,0.6206521620730889,0.6334137095185951,1.8055593228630335e-37,-6.138901697734314e-37,-2.1064858766735394e-37,0.1384248599707475,-7.52316384526264e-39,0.23500808138337112,9.62964972193618e-38,0.15885270191180242,1.6851887013388314e-37,1.08333559371782e-37,3.009265538105056e-37,1.108223927109134,1.1775781588012695,-1.08333559371782e-37,-1.444447458290427e-37,7.222237291452135e-38,-1.08333559371782e-37,-7.297468929904761e-38,-1.5347254244335785e-37,-1.444447458290427e-37,-6.500013562306921e-37,2.2268564981977413e-37,9.14816723583937e-37,2.888894916580854e-37,-6.018531076210112e-38,0.2251291725053441,0.600524159879057,0.3990342762105918,2.9340338996524296e-38,-1.4519706221356896e-37,0.2017283999697828,1.8356519782440841e-37,0.8465007279386341,4.2129717533470785e-38,4.513898307157584e-37,-6.018531076210112e-38,0.05701181116649771,5.854827030937197e-35,0.5787527053075532,-0.018697639640303028,1.0351160884802906,-0.23832928717239352,8.425943506694157e-38,-0.0419568227986679,2.7685242950566515e-37,0.590947956724338,-3.370377402677663e-37,-0.20370561930964076,0.6517180685209714,1.1419918522977464,0.35687481948861993,0.12120946225918552,0.7890219257254569,0.22192462095797952,0.42886682874094734,0.11576858599909567,0.17694331036213506,0.17286346417008006,0.16026803109443463,0.3959914268890647,0.23699817699420275,8.614022602825723e-38,0.5951090946530927,1.1134282490988707e-37,0.11616711088455302,-1.2037062152420224e-38,1.1435209044799213e-37,-0.07696952461586307,-0.03950905397836231,0.4343648519926328,4.81482486096809e-38,4.965288137873343e-38,0.3744959219264992,-1.0231502829557191e-37,0.2833734592300279,-6.620384183831123e-38,-0.17944700939833083,-6.018531076210112e-38,2.3547502835672063e-37,0.1285700301269674,2.2419028258882666e-37,-0.08700414986101476,0.8095166142155826,0.10119956634011383,-1.1435209044799213e-37,0.41126411112575534,0.8244198028372114,0.23875340268986686,-3.9120451995365726e-38,4.513898307157584e-39,0.4829411394837132,1.233798870623073e-37,-3.6111186457260673e-38,0.24935715404993394,0.6231418195150069,9.103028252767794e-38,-1.0231502829557191e-37,0.69330410286531,0.5763684596022217,-6.018531076210112e-38,-6.018531076210112e-38,-2.2870418089598425e-37,0.13538867397995297,2.407412430484045e-38,0.3391714233319336,-1.8055593228630336e-38,8.425943506694157e-38,0.10769098362162412,0.5708407926542479,-9.027796614315168e-39,1.7303276844104072e-38,4.2129717533470785e-38,1.034207390790813,0.805880485181541,0.2022718698829802,-1.5347254244335785e-37,1.8055593228630335e-37,0.36764703468751786,0.8186945448759517,-3.9120451995365726e-38,-9.027796614315168e-39,0.4171265779741937,-0.05136414704324941,3.009265538105056e-38,0.04896429596719177,1.195920097607652,0.37546613160731923,-1.504632769052528e-38,0.15976185855386146,2.407412430484045e-38,0.11370760599560698,7.52316384526264e-39,0.06484976215797036,-0.0026537136238777713,1.9560225997682863e-38,4.0248926572155123e-38,0.016906061328519646,7.899322037525773e-39,0.5954005336809879,5.567141245494353e-38,0.31930524119877873,0.17681827749129583,0.023460061803644162,-3.009265538105056e-39,0.6413097397038592,7.824090399073145e-38,1.1304326480876223,7.071774014546882e-38,0.9123023758903588,0.19450817022835976,-0.33320619014887687,-1.504632769052528e-38,0.618121847946462,0.6320530748382801,0.22105354495935428,-2.6331073458419243e-38,-1.2638915260041236e-37,0.3609512928350808,3.3101920919155614e-38,-0.041875544616120766,0.6447899683055357,-1.354169492147275e-38,0.7273254466694115,-2.256949153578792e-38,1.0532429383367696e-38,6.319457630020618e-38,5.64237288394698e-39,2.858802261199803e-38,-0.11689711549708458,-1.2037062152420224e-38,6.018531076210112e-39,-6.52634463576534e-38,9.930576275746685e-38,0.0,-8.125016952883651e-38,-3.76158192263132e-39,0.35172354068530476,-2.557875707389298e-38,0.031677948227607854,-2.1064858766735393e-38,3.009265538105056e-39,3.4606553688208144e-38,-8.162632772109964e-38,2.7835706227471767e-38,-1.504632769052528e-39,3.6111186457260673e-38,-1.4294011305999016e-38,0.26238283976284754,-2.1064858766735393e-38,-0.9331431345422938,3.3478079111418747e-38,-3.3101920919155614e-38,5.266214691683848e-39,0.04704166101634601,3.122112995783996e-38,0.2286741258919044,-1.4294011305999016e-38,-1.354169492147275e-38,3.234960453462935e-38,-0.24839882192897303,0.660971613874024,-3.3101920919155614e-38,-4.81482486096809e-38,-1.1002627123696612e-38,-1.504632769052528e-38,2.82118644197349e-39,0.608100521224421,3.4606553688208144e-38,0.5442714897548258,1.8055593228630336e-38,0.022329840396388263,7.673627122167892e-38,5.717604522399606e-38,-2.7835706227471767e-38,2.858802261199803e-38,3.009265538105056e-39,0.6169837906237877,0.49892552263939577,0.215458711642898,-2.0312542382209128e-38,-2.2005254247393223e-38,0.5687156202498745,5.407274013782523e-39,-9.4039548065783e-40,-0.06994470570591105,-2.557875707389298e-38,-4.2129717533470785e-38,-2.557875707389298e-38,-3.009265538105056e-38,2.82118644197349e-39,0.7458587766862631,2.1064858766735393e-38,2.76476271313402e-38,0.08220121308341424,0.13628527820311923,-3.009265538105056e-38,0.598142058296884,1.0532429383367696e-38,1.2037062152420224e-38,0.6200494075167466,-2.191121469932744e-38,0.6564838773884297,1.6550960459577807e-38,9.215875710446734e-39,0.13069937617405547,0.31147184819698365,8.651638422052036e-39,2.858802261199803e-38,0.6336655801237895,1.6550960459577807e-38,2.3321807920314184e-38,0.2980387018085977,1.1660903960157092e-38,9.780112998841432e-39,0.5699150294843731,0.8459909692766121,-0.07619611246024231,-4.513898307157584e-39,-2.407412430484045e-38,-5.830451980078546e-39,0.2588575155956045,-4.890056499420716e-39,-9.215875710446734e-39,-3.573502826499754e-39,-7.52316384526264e-39,0.5848850573747983,9.780112998841432e-39,0.05174116018091904,0.20934599122892844,-1.8243672324761903e-38,0.03410920425396541,0.5512694857487335,0.23339277416544907,-0.015935319506413737,-3.76158192263132e-40,-3.855621470697103e-39,1.504632769052528e-39,5.454293787815414e-39,6.770847460736376e-39,-1.128474576789396e-39,-9.4039548065783e-40,-2.6142994362287677e-38,1.443507062809769e-38,-6.206610172341678e-39,-2.3980084756774664e-39,-9.592033902709865e-39,3.385423730368188e-39,1.7961553680564553e-38,7.711242941394206e-39,0.6211564610351431,-6.770847460736376e-39,5.64237288394698e-39,-1.88079096131566e-39,-5.64237288394698e-39,-1.0908587575630829e-38,1.222514124855179e-39,-4.137740114894452e-39,-1.598672317118311e-39,-5.266214691683848e-39,-4.137740114894452e-39,0.4056904687727676,0.2481814853895517,3.009265538105056e-39,-2.82118644197349e-39,-0.24565387789088705,-1.128474576789396e-39,0.1841316540967721,1.233182697214054,-4.231779662960235e-39,0.0,-0.11263171411874003,-3.76158192263132e-39,0.6139304040213058,6.770847460736376e-39,0.5649408963104475,0.5643198703662595,0.2297509328750512,3.7263170921066514e-39,-0.03671249046752137,0.6197400264905631,-4.70197740328915e-40,0.610089627126656,1.222514124855179e-39,3.009265538105056e-39,-0.2031492532953376,-2.7741666679405984e-39,0.07665750734152241,9.027796614315168e-39,0.7741854110141231,-8.698658196084927e-40,-1.3635734469538536e-39,0.2697504728309574,-6.394689268473245e-39,-0.5985739355484677,-1.410593220986745e-39,0.5986852474435541,-2.633107345841924e-39,0.22630948537285842,0.14920073657956834,-3.949661018762886e-39,-7.52316384526264e-40,-7.758262715427098e-40,-1.88079096131566e-40,0.3086458245978059,-1.034435028723613e-39,2.068870057447226e-39,-2.82118644197349e-39,1.234269068363402e-40,-1.8367099231598243e-42,2.938735877055719e-41,0.2337096846136313,-1.4693679385278594e-41,0.4266057451978204,-1.410593220986745e-39,-1.4693679385278594e-42,0.6132885151831585,6.171345341817009e-40,-2.7741666679405984e-39,-6.465218929522581e-41,1.4693679385278594e-42,0.5970406027490403,-1.4693679385278594e-42,0.17761011365704785,3.5264830524668626e-41,0.6109408683587737,-1.0814548027565045e-39,5.078135595552282e-39,0.3426336396302057,-4.70197740328915e-41,-2.938735877055719e-42,-9.110081218872728e-40,0.23545279048549725,-9.550891600431086e-42,1.910178320086217e-41,0.2232725121682168,-3.5264830524668626e-41,-7.52316384526264e-40,2.204051907791789e-42,-1.4349296274686127e-44,0.11832699272818678,2.7395838278445007e-53,3.7752801530052265e-53,4.484155085839415e-46,2.2718500035783665e-53,-8.609577764811676e-45,0.0,0.012179396381999193,-5.913491921078983e-53,-4.543700007156733e-53,4.343242653899818e-53,4.926439913641935e-50,-1.269563237293793e-53,-1.2891945871788317e-46,-1.0691058840368783e-53,1.313717310304516e-49,-0.203434325801749,1.3775324423698682e-43,3.3409558876152447e-53,6.180768392088202e-54,-6.726232628759122e-47,-4.591774807899561e-44,-1.7516230804060214e-48,1.0947644252537634e-49,0.2091189607108361,-9.408131779524528e-52,0.6329832163606757,0.39301796617250007,-3.6734198463196485e-42,4.484155085839415e-47,-1.4693679385278594e-42,-3.3409558876152446e-54,1.3196775756080216e-53,-1.0858106634749544e-54,-6.681911775230489e-55,3.842099270757531e-54,-7.684198541515062e-54,4.343242653899818e-54,6.180768392088202e-54,1.0858106634749544e-54,-3.3409558876152446e-54,-6.514863980849727e-54,1.044048714879764e-54,-6.01372059770744e-54,2.0045735325691468e-54,8.352389719038112e-54,-3.508003681996007e-54,-2.25514522414029e-54,-2.0045735325691468e-54,2.6727647100921957e-54,1.6704779438076223e-54,0.49099185186207434,-1.0356963251607258e-53,-7.684198541515062e-54,7.350102952753538e-54,0.5817407432578455,-4.343242653899818e-54,-4.7608621398517237e-54,6.347816186468965e-54,4.844386037042105e-54,-6.681911775230489e-54,-7.183055158372775e-54,0.0,-4.019587552287091e-55,3.654170502079174e-56,-6.681911775230489e-55,-3.236551016127268e-55,-8.352389719038112e-56,1.2528584578557167e-55,-8.247984847550135e-55,-5.742267931838701e-56,4.802624088446914e-55,-2.923336401663339e-55,-1.4616682008316695e-55,0.3295455737371089,-2.714526658687386e-55,-3.5497656305911976e-55,-5.22024357439882e-57,0.4020688341288184,0.1769572026248134,-2.4535144799674452e-55,-6.264292289278583e-55,-2.923336401663339e-55,2.61012178719941e-55,-8.352389719038112e-56,-2.61012178719941e-55,0.588424060332371,0.5697624350576393,-3.236551016127268e-55,-0.22653015549564345,0.0714551081885594,2.3491096084794687e-56,-1.044048714879764e-56,3.497563194847209e-55,8.1484739544131575e-56,0.28038055930030215,6.786316646718465e-56,-3.654170502079174e-56,0.6402412631260264,6.655810557358495e-56,-0.09733996979473898,-5.742267931838701e-56,-2.2186035191194985e-56,9.657450612637816e-56,0.3957024470043296,4.119098445424069e-56,-2.2447047369914923e-55,-3.2626522339992624e-56,-1.879287686783575e-55,9.918462791357757e-56,7.569353182878289e-56,3.89071278904412e-56,-1.1745548042397343e-56,-4.698219216958937e-56,-7.569353182878289e-56,0.14920158289512164,-8.352389719038112e-56,1.044048714879764e-56,-2.675374831879395e-56,2.463302436669443e-56,-7.83036536159823e-57,-2.512242220179432e-56,-3.9151826807991146e-56,5.481255753118761e-56,1.6965791616796163e-56,1.207181326579727e-56,3.0668930999593065e-56,-6.525304467998525e-58,-1.3703139382796902e-56,1.9249648180595646e-56,-1.6313261169996312e-56,3.0016400552793212e-56,-1.9575913403995574e-57,1.044048714879764e-56,1.305060893599705e-56,7.708015902823257e-57,3.915182680799115e-57,2.251230041459491e-56,-2.039157646249539e-59,-5.750424562423699e-57,2.936387010599336e-57,1.9575913403995574e-57,2.153350474439513e-56,-1.305060893599705e-57,1.8760250345495758e-57,3.2626522339992623e-57,9.135426255197935e-57,-1.1908680654097307e-56,0.0,-1.566073072319646e-56,1.305060893599705e-57,2.8548207047493545e-58,4.8939783509988935e-58,-8.156630584998156e-58,4.404580515899004e-57,2.936387010599336e-57,-1.3866271994496866e-57,7.504100138198303e-57,-6.831178114935956e-57,-9.787956701997786e-57,1.044048714879764e-56,-2.936387010599336e-57,2.2838565637994836e-57,8.156630584998156e-59,-4.078315292499078e-58,0.0,-6.929949813426167e-59,8.921314702341733e-60,-1.433782720019207e-59,2.7719799253704668e-59,7.00960440898279e-60,9.359414977903157e-61,3.026874631151659e-60,-3.410212372267906e-61,-1.5383293766872742e-60,-1.0195788231247695e-59,1.035509742236094e-60,-3.1861838222649046e-61,2.0311921866938765e-60,7.965459555662262e-62,2.708256248925169e-60,-3.34549301337815e-60,-3.982729777831131e-61,-1.2346462311276505e-60,-3.982729777831131e-61,1.4736100177975183e-60,6.338975355178699e-74,1.7205790249770753e-73,0.0,0.0,0.0,0.0,0.0,0.0,0.0,0.0,0.0,0.0,0.0,0.0,0.0,0.0,0.06232560797364088,-1.5930919111324523e-60,0.0,0.20194769421411973,0.0,0.0,0.6036978496656923,0.0,0.0,0.0,0.0,0.0,0.0,0.0,0.0,0.0,0.0,0.0,0.0,0.0,0.0,0.0,0.0,0.0,0.0,0.0,0.0,0.0,0.0,0.0,0.0,0.0,0.0,0.0,0.0,0.0,0.0,0.0,0.0,0.0,0.0,0.0,0.0,0.0,0.0,0.0,0.0,0.0,0.0,0.0,0.0,0.0,0.0,0.0,0.0,0.0,0.0,0.0,0.0,0.0,0.0,0.0,0.0,0.0,0.0,0.0,0.0,0.0,0.0,0.0,0.0,0.0,0.10207020138855884,0.0,0.0,0.0,0.0,0.0,0.0,-0.15849685722097082],\"yaxis\":\"y\",\"type\":\"scattergl\"}],                        {\"template\":{\"data\":{\"histogram2dcontour\":[{\"type\":\"histogram2dcontour\",\"colorbar\":{\"outlinewidth\":0,\"ticks\":\"\"},\"colorscale\":[[0.0,\"#0d0887\"],[0.1111111111111111,\"#46039f\"],[0.2222222222222222,\"#7201a8\"],[0.3333333333333333,\"#9c179e\"],[0.4444444444444444,\"#bd3786\"],[0.5555555555555556,\"#d8576b\"],[0.6666666666666666,\"#ed7953\"],[0.7777777777777778,\"#fb9f3a\"],[0.8888888888888888,\"#fdca26\"],[1.0,\"#f0f921\"]]}],\"choropleth\":[{\"type\":\"choropleth\",\"colorbar\":{\"outlinewidth\":0,\"ticks\":\"\"}}],\"histogram2d\":[{\"type\":\"histogram2d\",\"colorbar\":{\"outlinewidth\":0,\"ticks\":\"\"},\"colorscale\":[[0.0,\"#0d0887\"],[0.1111111111111111,\"#46039f\"],[0.2222222222222222,\"#7201a8\"],[0.3333333333333333,\"#9c179e\"],[0.4444444444444444,\"#bd3786\"],[0.5555555555555556,\"#d8576b\"],[0.6666666666666666,\"#ed7953\"],[0.7777777777777778,\"#fb9f3a\"],[0.8888888888888888,\"#fdca26\"],[1.0,\"#f0f921\"]]}],\"heatmap\":[{\"type\":\"heatmap\",\"colorbar\":{\"outlinewidth\":0,\"ticks\":\"\"},\"colorscale\":[[0.0,\"#0d0887\"],[0.1111111111111111,\"#46039f\"],[0.2222222222222222,\"#7201a8\"],[0.3333333333333333,\"#9c179e\"],[0.4444444444444444,\"#bd3786\"],[0.5555555555555556,\"#d8576b\"],[0.6666666666666666,\"#ed7953\"],[0.7777777777777778,\"#fb9f3a\"],[0.8888888888888888,\"#fdca26\"],[1.0,\"#f0f921\"]]}],\"heatmapgl\":[{\"type\":\"heatmapgl\",\"colorbar\":{\"outlinewidth\":0,\"ticks\":\"\"},\"colorscale\":[[0.0,\"#0d0887\"],[0.1111111111111111,\"#46039f\"],[0.2222222222222222,\"#7201a8\"],[0.3333333333333333,\"#9c179e\"],[0.4444444444444444,\"#bd3786\"],[0.5555555555555556,\"#d8576b\"],[0.6666666666666666,\"#ed7953\"],[0.7777777777777778,\"#fb9f3a\"],[0.8888888888888888,\"#fdca26\"],[1.0,\"#f0f921\"]]}],\"contourcarpet\":[{\"type\":\"contourcarpet\",\"colorbar\":{\"outlinewidth\":0,\"ticks\":\"\"}}],\"contour\":[{\"type\":\"contour\",\"colorbar\":{\"outlinewidth\":0,\"ticks\":\"\"},\"colorscale\":[[0.0,\"#0d0887\"],[0.1111111111111111,\"#46039f\"],[0.2222222222222222,\"#7201a8\"],[0.3333333333333333,\"#9c179e\"],[0.4444444444444444,\"#bd3786\"],[0.5555555555555556,\"#d8576b\"],[0.6666666666666666,\"#ed7953\"],[0.7777777777777778,\"#fb9f3a\"],[0.8888888888888888,\"#fdca26\"],[1.0,\"#f0f921\"]]}],\"surface\":[{\"type\":\"surface\",\"colorbar\":{\"outlinewidth\":0,\"ticks\":\"\"},\"colorscale\":[[0.0,\"#0d0887\"],[0.1111111111111111,\"#46039f\"],[0.2222222222222222,\"#7201a8\"],[0.3333333333333333,\"#9c179e\"],[0.4444444444444444,\"#bd3786\"],[0.5555555555555556,\"#d8576b\"],[0.6666666666666666,\"#ed7953\"],[0.7777777777777778,\"#fb9f3a\"],[0.8888888888888888,\"#fdca26\"],[1.0,\"#f0f921\"]]}],\"mesh3d\":[{\"type\":\"mesh3d\",\"colorbar\":{\"outlinewidth\":0,\"ticks\":\"\"}}],\"scatter\":[{\"fillpattern\":{\"fillmode\":\"overlay\",\"size\":10,\"solidity\":0.2},\"type\":\"scatter\"}],\"parcoords\":[{\"type\":\"parcoords\",\"line\":{\"colorbar\":{\"outlinewidth\":0,\"ticks\":\"\"}}}],\"scatterpolargl\":[{\"type\":\"scatterpolargl\",\"marker\":{\"colorbar\":{\"outlinewidth\":0,\"ticks\":\"\"}}}],\"bar\":[{\"error_x\":{\"color\":\"#2a3f5f\"},\"error_y\":{\"color\":\"#2a3f5f\"},\"marker\":{\"line\":{\"color\":\"#E5ECF6\",\"width\":0.5},\"pattern\":{\"fillmode\":\"overlay\",\"size\":10,\"solidity\":0.2}},\"type\":\"bar\"}],\"scattergeo\":[{\"type\":\"scattergeo\",\"marker\":{\"colorbar\":{\"outlinewidth\":0,\"ticks\":\"\"}}}],\"scatterpolar\":[{\"type\":\"scatterpolar\",\"marker\":{\"colorbar\":{\"outlinewidth\":0,\"ticks\":\"\"}}}],\"histogram\":[{\"marker\":{\"pattern\":{\"fillmode\":\"overlay\",\"size\":10,\"solidity\":0.2}},\"type\":\"histogram\"}],\"scattergl\":[{\"type\":\"scattergl\",\"marker\":{\"colorbar\":{\"outlinewidth\":0,\"ticks\":\"\"}}}],\"scatter3d\":[{\"type\":\"scatter3d\",\"line\":{\"colorbar\":{\"outlinewidth\":0,\"ticks\":\"\"}},\"marker\":{\"colorbar\":{\"outlinewidth\":0,\"ticks\":\"\"}}}],\"scattermapbox\":[{\"type\":\"scattermapbox\",\"marker\":{\"colorbar\":{\"outlinewidth\":0,\"ticks\":\"\"}}}],\"scatterternary\":[{\"type\":\"scatterternary\",\"marker\":{\"colorbar\":{\"outlinewidth\":0,\"ticks\":\"\"}}}],\"scattercarpet\":[{\"type\":\"scattercarpet\",\"marker\":{\"colorbar\":{\"outlinewidth\":0,\"ticks\":\"\"}}}],\"carpet\":[{\"aaxis\":{\"endlinecolor\":\"#2a3f5f\",\"gridcolor\":\"white\",\"linecolor\":\"white\",\"minorgridcolor\":\"white\",\"startlinecolor\":\"#2a3f5f\"},\"baxis\":{\"endlinecolor\":\"#2a3f5f\",\"gridcolor\":\"white\",\"linecolor\":\"white\",\"minorgridcolor\":\"white\",\"startlinecolor\":\"#2a3f5f\"},\"type\":\"carpet\"}],\"table\":[{\"cells\":{\"fill\":{\"color\":\"#EBF0F8\"},\"line\":{\"color\":\"white\"}},\"header\":{\"fill\":{\"color\":\"#C8D4E3\"},\"line\":{\"color\":\"white\"}},\"type\":\"table\"}],\"barpolar\":[{\"marker\":{\"line\":{\"color\":\"#E5ECF6\",\"width\":0.5},\"pattern\":{\"fillmode\":\"overlay\",\"size\":10,\"solidity\":0.2}},\"type\":\"barpolar\"}],\"pie\":[{\"automargin\":true,\"type\":\"pie\"}]},\"layout\":{\"autotypenumbers\":\"strict\",\"colorway\":[\"#636efa\",\"#EF553B\",\"#00cc96\",\"#ab63fa\",\"#FFA15A\",\"#19d3f3\",\"#FF6692\",\"#B6E880\",\"#FF97FF\",\"#FECB52\"],\"font\":{\"color\":\"#2a3f5f\"},\"hovermode\":\"closest\",\"hoverlabel\":{\"align\":\"left\"},\"paper_bgcolor\":\"white\",\"plot_bgcolor\":\"#E5ECF6\",\"polar\":{\"bgcolor\":\"#E5ECF6\",\"angularaxis\":{\"gridcolor\":\"white\",\"linecolor\":\"white\",\"ticks\":\"\"},\"radialaxis\":{\"gridcolor\":\"white\",\"linecolor\":\"white\",\"ticks\":\"\"}},\"ternary\":{\"bgcolor\":\"#E5ECF6\",\"aaxis\":{\"gridcolor\":\"white\",\"linecolor\":\"white\",\"ticks\":\"\"},\"baxis\":{\"gridcolor\":\"white\",\"linecolor\":\"white\",\"ticks\":\"\"},\"caxis\":{\"gridcolor\":\"white\",\"linecolor\":\"white\",\"ticks\":\"\"}},\"coloraxis\":{\"colorbar\":{\"outlinewidth\":0,\"ticks\":\"\"}},\"colorscale\":{\"sequential\":[[0.0,\"#0d0887\"],[0.1111111111111111,\"#46039f\"],[0.2222222222222222,\"#7201a8\"],[0.3333333333333333,\"#9c179e\"],[0.4444444444444444,\"#bd3786\"],[0.5555555555555556,\"#d8576b\"],[0.6666666666666666,\"#ed7953\"],[0.7777777777777778,\"#fb9f3a\"],[0.8888888888888888,\"#fdca26\"],[1.0,\"#f0f921\"]],\"sequentialminus\":[[0.0,\"#0d0887\"],[0.1111111111111111,\"#46039f\"],[0.2222222222222222,\"#7201a8\"],[0.3333333333333333,\"#9c179e\"],[0.4444444444444444,\"#bd3786\"],[0.5555555555555556,\"#d8576b\"],[0.6666666666666666,\"#ed7953\"],[0.7777777777777778,\"#fb9f3a\"],[0.8888888888888888,\"#fdca26\"],[1.0,\"#f0f921\"]],\"diverging\":[[0,\"#8e0152\"],[0.1,\"#c51b7d\"],[0.2,\"#de77ae\"],[0.3,\"#f1b6da\"],[0.4,\"#fde0ef\"],[0.5,\"#f7f7f7\"],[0.6,\"#e6f5d0\"],[0.7,\"#b8e186\"],[0.8,\"#7fbc41\"],[0.9,\"#4d9221\"],[1,\"#276419\"]]},\"xaxis\":{\"gridcolor\":\"white\",\"linecolor\":\"white\",\"ticks\":\"\",\"title\":{\"standoff\":15},\"zerolinecolor\":\"white\",\"automargin\":true,\"zerolinewidth\":2},\"yaxis\":{\"gridcolor\":\"white\",\"linecolor\":\"white\",\"ticks\":\"\",\"title\":{\"standoff\":15},\"zerolinecolor\":\"white\",\"automargin\":true,\"zerolinewidth\":2},\"scene\":{\"xaxis\":{\"backgroundcolor\":\"#E5ECF6\",\"gridcolor\":\"white\",\"linecolor\":\"white\",\"showbackground\":true,\"ticks\":\"\",\"zerolinecolor\":\"white\",\"gridwidth\":2},\"yaxis\":{\"backgroundcolor\":\"#E5ECF6\",\"gridcolor\":\"white\",\"linecolor\":\"white\",\"showbackground\":true,\"ticks\":\"\",\"zerolinecolor\":\"white\",\"gridwidth\":2},\"zaxis\":{\"backgroundcolor\":\"#E5ECF6\",\"gridcolor\":\"white\",\"linecolor\":\"white\",\"showbackground\":true,\"ticks\":\"\",\"zerolinecolor\":\"white\",\"gridwidth\":2}},\"shapedefaults\":{\"line\":{\"color\":\"#2a3f5f\"}},\"annotationdefaults\":{\"arrowcolor\":\"#2a3f5f\",\"arrowhead\":0,\"arrowwidth\":1},\"geo\":{\"bgcolor\":\"white\",\"landcolor\":\"#E5ECF6\",\"subunitcolor\":\"white\",\"showland\":true,\"showlakes\":true,\"lakecolor\":\"white\"},\"title\":{\"x\":0.05},\"mapbox\":{\"style\":\"light\"}}},\"xaxis\":{\"anchor\":\"y\",\"domain\":[0.0,1.0],\"title\":{\"text\":\"x\"}},\"yaxis\":{\"anchor\":\"x\",\"domain\":[0.0,1.0],\"title\":{\"text\":\"y\"}},\"coloraxis\":{\"colorbar\":{\"title\":{\"text\":\"bpm\"}},\"colorscale\":[[0.0,\"#0d0887\"],[0.1111111111111111,\"#46039f\"],[0.2222222222222222,\"#7201a8\"],[0.3333333333333333,\"#9c179e\"],[0.4444444444444444,\"#bd3786\"],[0.5555555555555556,\"#d8576b\"],[0.6666666666666666,\"#ed7953\"],[0.7777777777777778,\"#fb9f3a\"],[0.8888888888888888,\"#fdca26\"],[1.0,\"#f0f921\"]]},\"legend\":{\"tracegroupgap\":0,\"itemsizing\":\"constant\"},\"title\":{\"text\":\"bpm\"}},                        {\"responsive\": true}                    ).then(function(){\n",
       "                            \n",
       "var gd = document.getElementById('83d6708f-b288-40eb-8821-081b01ad6edd');\n",
       "var x = new MutationObserver(function (mutations, observer) {{\n",
       "        var display = window.getComputedStyle(gd).display;\n",
       "        if (!display || display === 'none') {{\n",
       "            console.log([gd, 'removed!']);\n",
       "            Plotly.purge(gd);\n",
       "            observer.disconnect();\n",
       "        }}\n",
       "}});\n",
       "\n",
       "// Listen for the removal of the full notebook cells\n",
       "var notebookContainer = gd.closest('#notebook-container');\n",
       "if (notebookContainer) {{\n",
       "    x.observe(notebookContainer, {childList: true});\n",
       "}}\n",
       "\n",
       "// Listen for the clearing of the current output cell\n",
       "var outputEl = gd.closest('.output');\n",
       "if (outputEl) {{\n",
       "    x.observe(outputEl, {childList: true});\n",
       "}}\n",
       "\n",
       "                        })                };                });            </script>        </div>"
      ]
     },
     "metadata": {},
     "output_type": "display_data"
    }
   ],
   "source": [
    "plot_scatter(df, rotated_means_results, \"bpm,stl,fg3m\", \"mixed\",\"bpm\", 0, \"gaussian\", \"minutes,minutes,fg3a\")"
   ]
  },
  {
   "cell_type": "code",
   "execution_count": 67,
   "metadata": {},
   "outputs": [],
   "source": [
    "\n",
    "from scipy.spatial import KDTree\n",
    "def plot_trajectories(data_frame, player, num_k, metric, latent_space):\n",
    "    name_map = data_frame[[\"id\",\"name\"]].drop_duplicates().reset_index()[[\"id\",\"name\"]]\n",
    "    player_index = name_map.index[name_map[\"name\"] == player][0]\n",
    "    point = latent_space[player_index,:]\n",
    "    _, indices = KDTree(latent_space).query(point, k = num_k)\n",
    "    nearest_neighbors_names = name_map.loc[indices][\"name\"]\n",
    "    trajectory_df = data_frame[data_frame[\"name\"].isin(nearest_neighbors_names)][[\"name\",metric,\"age\"]]\n",
    "    fig = px.line(trajectory_df, x='age', y=metric, color='name', labels={metric: metric, 'name': 'Player'})\n",
    "    fig.update_layout(title=f'{metric} over time for {num_k -1} neighbors of {player}')\n",
    "    fig.show()\n",
    "\n"
   ]
  },
  {
   "cell_type": "code",
   "execution_count": 68,
   "metadata": {},
   "outputs": [],
   "source": [
    "def get_neighbors(data_frame, player, num_k, latent_space):\n",
    "    name_map = data_frame[[\"id\",\"name\"]].drop_duplicates().reset_index()[[\"id\",\"name\"]]\n",
    "    player_index = name_map.index[name_map[\"name\"] == player][0]\n",
    "    point = latent_space[player_index,:]\n",
    "    _, indices = KDTree(latent_space).query(point, k = num_k)\n",
    "    nearest_neighbors_names = name_map.loc[indices][\"name\"]\n",
    "    return nearest_neighbors_names"
   ]
  },
  {
   "cell_type": "code",
   "execution_count": 73,
   "metadata": {},
   "outputs": [
    {
     "data": {
      "text/plain": [
       "489     Tracy McGrady\n",
       "1458     Kyrie Irving\n",
       "894       Dwyane Wade\n",
       "1472    Kawhi Leonard\n",
       "1339      Jeff Teague\n",
       "1323     James Harden\n",
       "Name: name, dtype: object"
      ]
     },
     "execution_count": 73,
     "metadata": {},
     "output_type": "execute_result"
    }
   ],
   "source": [
    "get_neighbors(df, \"Tracy McGrady\", 6, rotated_means_results[\"mixed_bpm,stl,fg3m_rflvm\"])"
   ]
  },
  {
   "cell_type": "code",
   "execution_count": 36,
   "metadata": {},
   "outputs": [
    {
     "data": {
      "application/vnd.plotly.v1+json": {
       "config": {
        "plotlyServerURL": "https://plot.ly"
       },
       "data": [
        {
         "hovertemplate": "Player=Robert Horry<br>age=%{x}<br>bpm=%{y}<extra></extra>",
         "legendgroup": "Robert Horry",
         "line": {
          "color": "#636efa",
          "dash": "solid"
         },
         "marker": {
          "symbol": "circle"
         },
         "mode": "lines",
         "name": "Robert Horry",
         "orientation": "v",
         "showlegend": true,
         "type": "scatter",
         "x": [
          26,
          27,
          28,
          29,
          30,
          31,
          32,
          33,
          34,
          35,
          36,
          37
         ],
         "xaxis": "x",
         "y": [
          1.3,
          2.5,
          1.9,
          3,
          -0.4,
          3.5,
          0.6,
          2.7,
          3,
          3.1,
          2.1,
          0.4
         ],
         "yaxis": "y"
        },
        {
         "hovertemplate": "Player=Hakeem Olajuwon<br>age=%{x}<br>bpm=%{y}<extra></extra>",
         "legendgroup": "Hakeem Olajuwon",
         "line": {
          "color": "#EF553B",
          "dash": "solid"
         },
         "marker": {
          "symbol": "circle"
         },
         "mode": "lines",
         "name": "Hakeem Olajuwon",
         "orientation": "v",
         "showlegend": true,
         "type": "scatter",
         "x": [
          34,
          35,
          36,
          37,
          38,
          39
         ],
         "xaxis": "x",
         "y": [
          3.5,
          3,
          3.2,
          0.4,
          2.8,
          -0.4
         ],
         "yaxis": "y"
        },
        {
         "hovertemplate": "Player=Michael Jordan<br>age=%{x}<br>bpm=%{y}<extra></extra>",
         "legendgroup": "Michael Jordan",
         "line": {
          "color": "#00cc96",
          "dash": "solid"
         },
         "marker": {
          "symbol": "circle"
         },
         "mode": "lines",
         "name": "Michael Jordan",
         "orientation": "v",
         "showlegend": true,
         "type": "scatter",
         "x": [
          33,
          34,
          38,
          39
         ],
         "xaxis": "x",
         "y": [
          8.9,
          6.9,
          3.1,
          1.7
         ],
         "yaxis": "y"
        },
        {
         "hovertemplate": "Player=Andrew Bynum<br>age=%{x}<br>bpm=%{y}<extra></extra>",
         "legendgroup": "Andrew Bynum",
         "line": {
          "color": "#ab63fa",
          "dash": "solid"
         },
         "marker": {
          "symbol": "circle"
         },
         "mode": "lines",
         "name": "Andrew Bynum",
         "orientation": "v",
         "showlegend": true,
         "type": "scatter",
         "x": [
          18,
          19,
          20,
          21,
          22,
          23,
          24,
          26
         ],
         "xaxis": "x",
         "y": [
          -6.9,
          -1,
          4.2,
          1.1,
          1.5,
          3.2,
          2.9,
          -1.9
         ],
         "yaxis": "y"
        },
        {
         "hovertemplate": "Player=Ben Simmons<br>age=%{x}<br>bpm=%{y}<extra></extra>",
         "legendgroup": "Ben Simmons",
         "line": {
          "color": "#FFA15A",
          "dash": "solid"
         },
         "marker": {
          "symbol": "circle"
         },
         "mode": "lines",
         "name": "Ben Simmons",
         "orientation": "v",
         "showlegend": true,
         "type": "scatter",
         "x": [
          21,
          22,
          23,
          24
         ],
         "xaxis": "x",
         "y": [
          4.5,
          3.6,
          3.6,
          2.9
         ],
         "yaxis": "y"
        },
        {
         "hovertemplate": "Player=Chris Boucher<br>age=%{x}<br>bpm=%{y}<extra></extra>",
         "legendgroup": "Chris Boucher",
         "line": {
          "color": "#19d3f3",
          "dash": "solid"
         },
         "marker": {
          "symbol": "circle"
         },
         "mode": "lines",
         "name": "Chris Boucher",
         "orientation": "v",
         "showlegend": true,
         "type": "scatter",
         "x": [
          25,
          26,
          27,
          28
         ],
         "xaxis": "x",
         "y": [
          -33.1,
          2.6,
          2,
          3.3
         ],
         "yaxis": "y"
        }
       ],
       "layout": {
        "legend": {
         "title": {
          "text": "Player"
         },
         "tracegroupgap": 0
        },
        "margin": {
         "t": 60
        },
        "template": {
         "data": {
          "bar": [
           {
            "error_x": {
             "color": "#2a3f5f"
            },
            "error_y": {
             "color": "#2a3f5f"
            },
            "marker": {
             "line": {
              "color": "#E5ECF6",
              "width": 0.5
             },
             "pattern": {
              "fillmode": "overlay",
              "size": 10,
              "solidity": 0.2
             }
            },
            "type": "bar"
           }
          ],
          "barpolar": [
           {
            "marker": {
             "line": {
              "color": "#E5ECF6",
              "width": 0.5
             },
             "pattern": {
              "fillmode": "overlay",
              "size": 10,
              "solidity": 0.2
             }
            },
            "type": "barpolar"
           }
          ],
          "carpet": [
           {
            "aaxis": {
             "endlinecolor": "#2a3f5f",
             "gridcolor": "white",
             "linecolor": "white",
             "minorgridcolor": "white",
             "startlinecolor": "#2a3f5f"
            },
            "baxis": {
             "endlinecolor": "#2a3f5f",
             "gridcolor": "white",
             "linecolor": "white",
             "minorgridcolor": "white",
             "startlinecolor": "#2a3f5f"
            },
            "type": "carpet"
           }
          ],
          "choropleth": [
           {
            "colorbar": {
             "outlinewidth": 0,
             "ticks": ""
            },
            "type": "choropleth"
           }
          ],
          "contour": [
           {
            "colorbar": {
             "outlinewidth": 0,
             "ticks": ""
            },
            "colorscale": [
             [
              0,
              "#0d0887"
             ],
             [
              0.1111111111111111,
              "#46039f"
             ],
             [
              0.2222222222222222,
              "#7201a8"
             ],
             [
              0.3333333333333333,
              "#9c179e"
             ],
             [
              0.4444444444444444,
              "#bd3786"
             ],
             [
              0.5555555555555556,
              "#d8576b"
             ],
             [
              0.6666666666666666,
              "#ed7953"
             ],
             [
              0.7777777777777778,
              "#fb9f3a"
             ],
             [
              0.8888888888888888,
              "#fdca26"
             ],
             [
              1,
              "#f0f921"
             ]
            ],
            "type": "contour"
           }
          ],
          "contourcarpet": [
           {
            "colorbar": {
             "outlinewidth": 0,
             "ticks": ""
            },
            "type": "contourcarpet"
           }
          ],
          "heatmap": [
           {
            "colorbar": {
             "outlinewidth": 0,
             "ticks": ""
            },
            "colorscale": [
             [
              0,
              "#0d0887"
             ],
             [
              0.1111111111111111,
              "#46039f"
             ],
             [
              0.2222222222222222,
              "#7201a8"
             ],
             [
              0.3333333333333333,
              "#9c179e"
             ],
             [
              0.4444444444444444,
              "#bd3786"
             ],
             [
              0.5555555555555556,
              "#d8576b"
             ],
             [
              0.6666666666666666,
              "#ed7953"
             ],
             [
              0.7777777777777778,
              "#fb9f3a"
             ],
             [
              0.8888888888888888,
              "#fdca26"
             ],
             [
              1,
              "#f0f921"
             ]
            ],
            "type": "heatmap"
           }
          ],
          "heatmapgl": [
           {
            "colorbar": {
             "outlinewidth": 0,
             "ticks": ""
            },
            "colorscale": [
             [
              0,
              "#0d0887"
             ],
             [
              0.1111111111111111,
              "#46039f"
             ],
             [
              0.2222222222222222,
              "#7201a8"
             ],
             [
              0.3333333333333333,
              "#9c179e"
             ],
             [
              0.4444444444444444,
              "#bd3786"
             ],
             [
              0.5555555555555556,
              "#d8576b"
             ],
             [
              0.6666666666666666,
              "#ed7953"
             ],
             [
              0.7777777777777778,
              "#fb9f3a"
             ],
             [
              0.8888888888888888,
              "#fdca26"
             ],
             [
              1,
              "#f0f921"
             ]
            ],
            "type": "heatmapgl"
           }
          ],
          "histogram": [
           {
            "marker": {
             "pattern": {
              "fillmode": "overlay",
              "size": 10,
              "solidity": 0.2
             }
            },
            "type": "histogram"
           }
          ],
          "histogram2d": [
           {
            "colorbar": {
             "outlinewidth": 0,
             "ticks": ""
            },
            "colorscale": [
             [
              0,
              "#0d0887"
             ],
             [
              0.1111111111111111,
              "#46039f"
             ],
             [
              0.2222222222222222,
              "#7201a8"
             ],
             [
              0.3333333333333333,
              "#9c179e"
             ],
             [
              0.4444444444444444,
              "#bd3786"
             ],
             [
              0.5555555555555556,
              "#d8576b"
             ],
             [
              0.6666666666666666,
              "#ed7953"
             ],
             [
              0.7777777777777778,
              "#fb9f3a"
             ],
             [
              0.8888888888888888,
              "#fdca26"
             ],
             [
              1,
              "#f0f921"
             ]
            ],
            "type": "histogram2d"
           }
          ],
          "histogram2dcontour": [
           {
            "colorbar": {
             "outlinewidth": 0,
             "ticks": ""
            },
            "colorscale": [
             [
              0,
              "#0d0887"
             ],
             [
              0.1111111111111111,
              "#46039f"
             ],
             [
              0.2222222222222222,
              "#7201a8"
             ],
             [
              0.3333333333333333,
              "#9c179e"
             ],
             [
              0.4444444444444444,
              "#bd3786"
             ],
             [
              0.5555555555555556,
              "#d8576b"
             ],
             [
              0.6666666666666666,
              "#ed7953"
             ],
             [
              0.7777777777777778,
              "#fb9f3a"
             ],
             [
              0.8888888888888888,
              "#fdca26"
             ],
             [
              1,
              "#f0f921"
             ]
            ],
            "type": "histogram2dcontour"
           }
          ],
          "mesh3d": [
           {
            "colorbar": {
             "outlinewidth": 0,
             "ticks": ""
            },
            "type": "mesh3d"
           }
          ],
          "parcoords": [
           {
            "line": {
             "colorbar": {
              "outlinewidth": 0,
              "ticks": ""
             }
            },
            "type": "parcoords"
           }
          ],
          "pie": [
           {
            "automargin": true,
            "type": "pie"
           }
          ],
          "scatter": [
           {
            "fillpattern": {
             "fillmode": "overlay",
             "size": 10,
             "solidity": 0.2
            },
            "type": "scatter"
           }
          ],
          "scatter3d": [
           {
            "line": {
             "colorbar": {
              "outlinewidth": 0,
              "ticks": ""
             }
            },
            "marker": {
             "colorbar": {
              "outlinewidth": 0,
              "ticks": ""
             }
            },
            "type": "scatter3d"
           }
          ],
          "scattercarpet": [
           {
            "marker": {
             "colorbar": {
              "outlinewidth": 0,
              "ticks": ""
             }
            },
            "type": "scattercarpet"
           }
          ],
          "scattergeo": [
           {
            "marker": {
             "colorbar": {
              "outlinewidth": 0,
              "ticks": ""
             }
            },
            "type": "scattergeo"
           }
          ],
          "scattergl": [
           {
            "marker": {
             "colorbar": {
              "outlinewidth": 0,
              "ticks": ""
             }
            },
            "type": "scattergl"
           }
          ],
          "scattermapbox": [
           {
            "marker": {
             "colorbar": {
              "outlinewidth": 0,
              "ticks": ""
             }
            },
            "type": "scattermapbox"
           }
          ],
          "scatterpolar": [
           {
            "marker": {
             "colorbar": {
              "outlinewidth": 0,
              "ticks": ""
             }
            },
            "type": "scatterpolar"
           }
          ],
          "scatterpolargl": [
           {
            "marker": {
             "colorbar": {
              "outlinewidth": 0,
              "ticks": ""
             }
            },
            "type": "scatterpolargl"
           }
          ],
          "scatterternary": [
           {
            "marker": {
             "colorbar": {
              "outlinewidth": 0,
              "ticks": ""
             }
            },
            "type": "scatterternary"
           }
          ],
          "surface": [
           {
            "colorbar": {
             "outlinewidth": 0,
             "ticks": ""
            },
            "colorscale": [
             [
              0,
              "#0d0887"
             ],
             [
              0.1111111111111111,
              "#46039f"
             ],
             [
              0.2222222222222222,
              "#7201a8"
             ],
             [
              0.3333333333333333,
              "#9c179e"
             ],
             [
              0.4444444444444444,
              "#bd3786"
             ],
             [
              0.5555555555555556,
              "#d8576b"
             ],
             [
              0.6666666666666666,
              "#ed7953"
             ],
             [
              0.7777777777777778,
              "#fb9f3a"
             ],
             [
              0.8888888888888888,
              "#fdca26"
             ],
             [
              1,
              "#f0f921"
             ]
            ],
            "type": "surface"
           }
          ],
          "table": [
           {
            "cells": {
             "fill": {
              "color": "#EBF0F8"
             },
             "line": {
              "color": "white"
             }
            },
            "header": {
             "fill": {
              "color": "#C8D4E3"
             },
             "line": {
              "color": "white"
             }
            },
            "type": "table"
           }
          ]
         },
         "layout": {
          "annotationdefaults": {
           "arrowcolor": "#2a3f5f",
           "arrowhead": 0,
           "arrowwidth": 1
          },
          "autotypenumbers": "strict",
          "coloraxis": {
           "colorbar": {
            "outlinewidth": 0,
            "ticks": ""
           }
          },
          "colorscale": {
           "diverging": [
            [
             0,
             "#8e0152"
            ],
            [
             0.1,
             "#c51b7d"
            ],
            [
             0.2,
             "#de77ae"
            ],
            [
             0.3,
             "#f1b6da"
            ],
            [
             0.4,
             "#fde0ef"
            ],
            [
             0.5,
             "#f7f7f7"
            ],
            [
             0.6,
             "#e6f5d0"
            ],
            [
             0.7,
             "#b8e186"
            ],
            [
             0.8,
             "#7fbc41"
            ],
            [
             0.9,
             "#4d9221"
            ],
            [
             1,
             "#276419"
            ]
           ],
           "sequential": [
            [
             0,
             "#0d0887"
            ],
            [
             0.1111111111111111,
             "#46039f"
            ],
            [
             0.2222222222222222,
             "#7201a8"
            ],
            [
             0.3333333333333333,
             "#9c179e"
            ],
            [
             0.4444444444444444,
             "#bd3786"
            ],
            [
             0.5555555555555556,
             "#d8576b"
            ],
            [
             0.6666666666666666,
             "#ed7953"
            ],
            [
             0.7777777777777778,
             "#fb9f3a"
            ],
            [
             0.8888888888888888,
             "#fdca26"
            ],
            [
             1,
             "#f0f921"
            ]
           ],
           "sequentialminus": [
            [
             0,
             "#0d0887"
            ],
            [
             0.1111111111111111,
             "#46039f"
            ],
            [
             0.2222222222222222,
             "#7201a8"
            ],
            [
             0.3333333333333333,
             "#9c179e"
            ],
            [
             0.4444444444444444,
             "#bd3786"
            ],
            [
             0.5555555555555556,
             "#d8576b"
            ],
            [
             0.6666666666666666,
             "#ed7953"
            ],
            [
             0.7777777777777778,
             "#fb9f3a"
            ],
            [
             0.8888888888888888,
             "#fdca26"
            ],
            [
             1,
             "#f0f921"
            ]
           ]
          },
          "colorway": [
           "#636efa",
           "#EF553B",
           "#00cc96",
           "#ab63fa",
           "#FFA15A",
           "#19d3f3",
           "#FF6692",
           "#B6E880",
           "#FF97FF",
           "#FECB52"
          ],
          "font": {
           "color": "#2a3f5f"
          },
          "geo": {
           "bgcolor": "white",
           "lakecolor": "white",
           "landcolor": "#E5ECF6",
           "showlakes": true,
           "showland": true,
           "subunitcolor": "white"
          },
          "hoverlabel": {
           "align": "left"
          },
          "hovermode": "closest",
          "mapbox": {
           "style": "light"
          },
          "paper_bgcolor": "white",
          "plot_bgcolor": "#E5ECF6",
          "polar": {
           "angularaxis": {
            "gridcolor": "white",
            "linecolor": "white",
            "ticks": ""
           },
           "bgcolor": "#E5ECF6",
           "radialaxis": {
            "gridcolor": "white",
            "linecolor": "white",
            "ticks": ""
           }
          },
          "scene": {
           "xaxis": {
            "backgroundcolor": "#E5ECF6",
            "gridcolor": "white",
            "gridwidth": 2,
            "linecolor": "white",
            "showbackground": true,
            "ticks": "",
            "zerolinecolor": "white"
           },
           "yaxis": {
            "backgroundcolor": "#E5ECF6",
            "gridcolor": "white",
            "gridwidth": 2,
            "linecolor": "white",
            "showbackground": true,
            "ticks": "",
            "zerolinecolor": "white"
           },
           "zaxis": {
            "backgroundcolor": "#E5ECF6",
            "gridcolor": "white",
            "gridwidth": 2,
            "linecolor": "white",
            "showbackground": true,
            "ticks": "",
            "zerolinecolor": "white"
           }
          },
          "shapedefaults": {
           "line": {
            "color": "#2a3f5f"
           }
          },
          "ternary": {
           "aaxis": {
            "gridcolor": "white",
            "linecolor": "white",
            "ticks": ""
           },
           "baxis": {
            "gridcolor": "white",
            "linecolor": "white",
            "ticks": ""
           },
           "bgcolor": "#E5ECF6",
           "caxis": {
            "gridcolor": "white",
            "linecolor": "white",
            "ticks": ""
           }
          },
          "title": {
           "x": 0.05
          },
          "xaxis": {
           "automargin": true,
           "gridcolor": "white",
           "linecolor": "white",
           "ticks": "",
           "title": {
            "standoff": 15
           },
           "zerolinecolor": "white",
           "zerolinewidth": 2
          },
          "yaxis": {
           "automargin": true,
           "gridcolor": "white",
           "linecolor": "white",
           "ticks": "",
           "title": {
            "standoff": 15
           },
           "zerolinecolor": "white",
           "zerolinewidth": 2
          }
         }
        },
        "title": {
         "text": "bpm over time for 5 neighbors of Michael Jordan"
        },
        "xaxis": {
         "anchor": "y",
         "domain": [
          0,
          1
         ],
         "title": {
          "text": "age"
         }
        },
        "yaxis": {
         "anchor": "x",
         "domain": [
          0,
          1
         ],
         "title": {
          "text": "bpm"
         }
        }
       }
      },
      "text/html": [
       "<div>                            <div id=\"6daa04c0-041c-43d9-91eb-cc96679d4ade\" class=\"plotly-graph-div\" style=\"height:525px; width:100%;\"></div>            <script type=\"text/javascript\">                require([\"plotly\"], function(Plotly) {                    window.PLOTLYENV=window.PLOTLYENV || {};                                    if (document.getElementById(\"6daa04c0-041c-43d9-91eb-cc96679d4ade\")) {                    Plotly.newPlot(                        \"6daa04c0-041c-43d9-91eb-cc96679d4ade\",                        [{\"hovertemplate\":\"Player=Robert Horry<br>age=%{x}<br>bpm=%{y}<extra></extra>\",\"legendgroup\":\"Robert Horry\",\"line\":{\"color\":\"#636efa\",\"dash\":\"solid\"},\"marker\":{\"symbol\":\"circle\"},\"mode\":\"lines\",\"name\":\"Robert Horry\",\"orientation\":\"v\",\"showlegend\":true,\"x\":[26,27,28,29,30,31,32,33,34,35,36,37],\"xaxis\":\"x\",\"y\":[1.3,2.5,1.9,3.0,-0.4,3.5,0.6,2.7,3.0,3.1,2.1,0.4],\"yaxis\":\"y\",\"type\":\"scatter\"},{\"hovertemplate\":\"Player=Hakeem Olajuwon<br>age=%{x}<br>bpm=%{y}<extra></extra>\",\"legendgroup\":\"Hakeem Olajuwon\",\"line\":{\"color\":\"#EF553B\",\"dash\":\"solid\"},\"marker\":{\"symbol\":\"circle\"},\"mode\":\"lines\",\"name\":\"Hakeem Olajuwon\",\"orientation\":\"v\",\"showlegend\":true,\"x\":[34,35,36,37,38,39],\"xaxis\":\"x\",\"y\":[3.5,3.0,3.2,0.4,2.8,-0.4],\"yaxis\":\"y\",\"type\":\"scatter\"},{\"hovertemplate\":\"Player=Michael Jordan<br>age=%{x}<br>bpm=%{y}<extra></extra>\",\"legendgroup\":\"Michael Jordan\",\"line\":{\"color\":\"#00cc96\",\"dash\":\"solid\"},\"marker\":{\"symbol\":\"circle\"},\"mode\":\"lines\",\"name\":\"Michael Jordan\",\"orientation\":\"v\",\"showlegend\":true,\"x\":[33,34,38,39],\"xaxis\":\"x\",\"y\":[8.9,6.9,3.1,1.7],\"yaxis\":\"y\",\"type\":\"scatter\"},{\"hovertemplate\":\"Player=Andrew Bynum<br>age=%{x}<br>bpm=%{y}<extra></extra>\",\"legendgroup\":\"Andrew Bynum\",\"line\":{\"color\":\"#ab63fa\",\"dash\":\"solid\"},\"marker\":{\"symbol\":\"circle\"},\"mode\":\"lines\",\"name\":\"Andrew Bynum\",\"orientation\":\"v\",\"showlegend\":true,\"x\":[18,19,20,21,22,23,24,26],\"xaxis\":\"x\",\"y\":[-6.9,-1.0,4.2,1.1,1.5,3.2,2.9,-1.9],\"yaxis\":\"y\",\"type\":\"scatter\"},{\"hovertemplate\":\"Player=Ben Simmons<br>age=%{x}<br>bpm=%{y}<extra></extra>\",\"legendgroup\":\"Ben Simmons\",\"line\":{\"color\":\"#FFA15A\",\"dash\":\"solid\"},\"marker\":{\"symbol\":\"circle\"},\"mode\":\"lines\",\"name\":\"Ben Simmons\",\"orientation\":\"v\",\"showlegend\":true,\"x\":[21,22,23,24],\"xaxis\":\"x\",\"y\":[4.5,3.6,3.6,2.9],\"yaxis\":\"y\",\"type\":\"scatter\"},{\"hovertemplate\":\"Player=Chris Boucher<br>age=%{x}<br>bpm=%{y}<extra></extra>\",\"legendgroup\":\"Chris Boucher\",\"line\":{\"color\":\"#19d3f3\",\"dash\":\"solid\"},\"marker\":{\"symbol\":\"circle\"},\"mode\":\"lines\",\"name\":\"Chris Boucher\",\"orientation\":\"v\",\"showlegend\":true,\"x\":[25,26,27,28],\"xaxis\":\"x\",\"y\":[-33.1,2.6,2.0,3.3],\"yaxis\":\"y\",\"type\":\"scatter\"}],                        {\"template\":{\"data\":{\"histogram2dcontour\":[{\"type\":\"histogram2dcontour\",\"colorbar\":{\"outlinewidth\":0,\"ticks\":\"\"},\"colorscale\":[[0.0,\"#0d0887\"],[0.1111111111111111,\"#46039f\"],[0.2222222222222222,\"#7201a8\"],[0.3333333333333333,\"#9c179e\"],[0.4444444444444444,\"#bd3786\"],[0.5555555555555556,\"#d8576b\"],[0.6666666666666666,\"#ed7953\"],[0.7777777777777778,\"#fb9f3a\"],[0.8888888888888888,\"#fdca26\"],[1.0,\"#f0f921\"]]}],\"choropleth\":[{\"type\":\"choropleth\",\"colorbar\":{\"outlinewidth\":0,\"ticks\":\"\"}}],\"histogram2d\":[{\"type\":\"histogram2d\",\"colorbar\":{\"outlinewidth\":0,\"ticks\":\"\"},\"colorscale\":[[0.0,\"#0d0887\"],[0.1111111111111111,\"#46039f\"],[0.2222222222222222,\"#7201a8\"],[0.3333333333333333,\"#9c179e\"],[0.4444444444444444,\"#bd3786\"],[0.5555555555555556,\"#d8576b\"],[0.6666666666666666,\"#ed7953\"],[0.7777777777777778,\"#fb9f3a\"],[0.8888888888888888,\"#fdca26\"],[1.0,\"#f0f921\"]]}],\"heatmap\":[{\"type\":\"heatmap\",\"colorbar\":{\"outlinewidth\":0,\"ticks\":\"\"},\"colorscale\":[[0.0,\"#0d0887\"],[0.1111111111111111,\"#46039f\"],[0.2222222222222222,\"#7201a8\"],[0.3333333333333333,\"#9c179e\"],[0.4444444444444444,\"#bd3786\"],[0.5555555555555556,\"#d8576b\"],[0.6666666666666666,\"#ed7953\"],[0.7777777777777778,\"#fb9f3a\"],[0.8888888888888888,\"#fdca26\"],[1.0,\"#f0f921\"]]}],\"heatmapgl\":[{\"type\":\"heatmapgl\",\"colorbar\":{\"outlinewidth\":0,\"ticks\":\"\"},\"colorscale\":[[0.0,\"#0d0887\"],[0.1111111111111111,\"#46039f\"],[0.2222222222222222,\"#7201a8\"],[0.3333333333333333,\"#9c179e\"],[0.4444444444444444,\"#bd3786\"],[0.5555555555555556,\"#d8576b\"],[0.6666666666666666,\"#ed7953\"],[0.7777777777777778,\"#fb9f3a\"],[0.8888888888888888,\"#fdca26\"],[1.0,\"#f0f921\"]]}],\"contourcarpet\":[{\"type\":\"contourcarpet\",\"colorbar\":{\"outlinewidth\":0,\"ticks\":\"\"}}],\"contour\":[{\"type\":\"contour\",\"colorbar\":{\"outlinewidth\":0,\"ticks\":\"\"},\"colorscale\":[[0.0,\"#0d0887\"],[0.1111111111111111,\"#46039f\"],[0.2222222222222222,\"#7201a8\"],[0.3333333333333333,\"#9c179e\"],[0.4444444444444444,\"#bd3786\"],[0.5555555555555556,\"#d8576b\"],[0.6666666666666666,\"#ed7953\"],[0.7777777777777778,\"#fb9f3a\"],[0.8888888888888888,\"#fdca26\"],[1.0,\"#f0f921\"]]}],\"surface\":[{\"type\":\"surface\",\"colorbar\":{\"outlinewidth\":0,\"ticks\":\"\"},\"colorscale\":[[0.0,\"#0d0887\"],[0.1111111111111111,\"#46039f\"],[0.2222222222222222,\"#7201a8\"],[0.3333333333333333,\"#9c179e\"],[0.4444444444444444,\"#bd3786\"],[0.5555555555555556,\"#d8576b\"],[0.6666666666666666,\"#ed7953\"],[0.7777777777777778,\"#fb9f3a\"],[0.8888888888888888,\"#fdca26\"],[1.0,\"#f0f921\"]]}],\"mesh3d\":[{\"type\":\"mesh3d\",\"colorbar\":{\"outlinewidth\":0,\"ticks\":\"\"}}],\"scatter\":[{\"fillpattern\":{\"fillmode\":\"overlay\",\"size\":10,\"solidity\":0.2},\"type\":\"scatter\"}],\"parcoords\":[{\"type\":\"parcoords\",\"line\":{\"colorbar\":{\"outlinewidth\":0,\"ticks\":\"\"}}}],\"scatterpolargl\":[{\"type\":\"scatterpolargl\",\"marker\":{\"colorbar\":{\"outlinewidth\":0,\"ticks\":\"\"}}}],\"bar\":[{\"error_x\":{\"color\":\"#2a3f5f\"},\"error_y\":{\"color\":\"#2a3f5f\"},\"marker\":{\"line\":{\"color\":\"#E5ECF6\",\"width\":0.5},\"pattern\":{\"fillmode\":\"overlay\",\"size\":10,\"solidity\":0.2}},\"type\":\"bar\"}],\"scattergeo\":[{\"type\":\"scattergeo\",\"marker\":{\"colorbar\":{\"outlinewidth\":0,\"ticks\":\"\"}}}],\"scatterpolar\":[{\"type\":\"scatterpolar\",\"marker\":{\"colorbar\":{\"outlinewidth\":0,\"ticks\":\"\"}}}],\"histogram\":[{\"marker\":{\"pattern\":{\"fillmode\":\"overlay\",\"size\":10,\"solidity\":0.2}},\"type\":\"histogram\"}],\"scattergl\":[{\"type\":\"scattergl\",\"marker\":{\"colorbar\":{\"outlinewidth\":0,\"ticks\":\"\"}}}],\"scatter3d\":[{\"type\":\"scatter3d\",\"line\":{\"colorbar\":{\"outlinewidth\":0,\"ticks\":\"\"}},\"marker\":{\"colorbar\":{\"outlinewidth\":0,\"ticks\":\"\"}}}],\"scattermapbox\":[{\"type\":\"scattermapbox\",\"marker\":{\"colorbar\":{\"outlinewidth\":0,\"ticks\":\"\"}}}],\"scatterternary\":[{\"type\":\"scatterternary\",\"marker\":{\"colorbar\":{\"outlinewidth\":0,\"ticks\":\"\"}}}],\"scattercarpet\":[{\"type\":\"scattercarpet\",\"marker\":{\"colorbar\":{\"outlinewidth\":0,\"ticks\":\"\"}}}],\"carpet\":[{\"aaxis\":{\"endlinecolor\":\"#2a3f5f\",\"gridcolor\":\"white\",\"linecolor\":\"white\",\"minorgridcolor\":\"white\",\"startlinecolor\":\"#2a3f5f\"},\"baxis\":{\"endlinecolor\":\"#2a3f5f\",\"gridcolor\":\"white\",\"linecolor\":\"white\",\"minorgridcolor\":\"white\",\"startlinecolor\":\"#2a3f5f\"},\"type\":\"carpet\"}],\"table\":[{\"cells\":{\"fill\":{\"color\":\"#EBF0F8\"},\"line\":{\"color\":\"white\"}},\"header\":{\"fill\":{\"color\":\"#C8D4E3\"},\"line\":{\"color\":\"white\"}},\"type\":\"table\"}],\"barpolar\":[{\"marker\":{\"line\":{\"color\":\"#E5ECF6\",\"width\":0.5},\"pattern\":{\"fillmode\":\"overlay\",\"size\":10,\"solidity\":0.2}},\"type\":\"barpolar\"}],\"pie\":[{\"automargin\":true,\"type\":\"pie\"}]},\"layout\":{\"autotypenumbers\":\"strict\",\"colorway\":[\"#636efa\",\"#EF553B\",\"#00cc96\",\"#ab63fa\",\"#FFA15A\",\"#19d3f3\",\"#FF6692\",\"#B6E880\",\"#FF97FF\",\"#FECB52\"],\"font\":{\"color\":\"#2a3f5f\"},\"hovermode\":\"closest\",\"hoverlabel\":{\"align\":\"left\"},\"paper_bgcolor\":\"white\",\"plot_bgcolor\":\"#E5ECF6\",\"polar\":{\"bgcolor\":\"#E5ECF6\",\"angularaxis\":{\"gridcolor\":\"white\",\"linecolor\":\"white\",\"ticks\":\"\"},\"radialaxis\":{\"gridcolor\":\"white\",\"linecolor\":\"white\",\"ticks\":\"\"}},\"ternary\":{\"bgcolor\":\"#E5ECF6\",\"aaxis\":{\"gridcolor\":\"white\",\"linecolor\":\"white\",\"ticks\":\"\"},\"baxis\":{\"gridcolor\":\"white\",\"linecolor\":\"white\",\"ticks\":\"\"},\"caxis\":{\"gridcolor\":\"white\",\"linecolor\":\"white\",\"ticks\":\"\"}},\"coloraxis\":{\"colorbar\":{\"outlinewidth\":0,\"ticks\":\"\"}},\"colorscale\":{\"sequential\":[[0.0,\"#0d0887\"],[0.1111111111111111,\"#46039f\"],[0.2222222222222222,\"#7201a8\"],[0.3333333333333333,\"#9c179e\"],[0.4444444444444444,\"#bd3786\"],[0.5555555555555556,\"#d8576b\"],[0.6666666666666666,\"#ed7953\"],[0.7777777777777778,\"#fb9f3a\"],[0.8888888888888888,\"#fdca26\"],[1.0,\"#f0f921\"]],\"sequentialminus\":[[0.0,\"#0d0887\"],[0.1111111111111111,\"#46039f\"],[0.2222222222222222,\"#7201a8\"],[0.3333333333333333,\"#9c179e\"],[0.4444444444444444,\"#bd3786\"],[0.5555555555555556,\"#d8576b\"],[0.6666666666666666,\"#ed7953\"],[0.7777777777777778,\"#fb9f3a\"],[0.8888888888888888,\"#fdca26\"],[1.0,\"#f0f921\"]],\"diverging\":[[0,\"#8e0152\"],[0.1,\"#c51b7d\"],[0.2,\"#de77ae\"],[0.3,\"#f1b6da\"],[0.4,\"#fde0ef\"],[0.5,\"#f7f7f7\"],[0.6,\"#e6f5d0\"],[0.7,\"#b8e186\"],[0.8,\"#7fbc41\"],[0.9,\"#4d9221\"],[1,\"#276419\"]]},\"xaxis\":{\"gridcolor\":\"white\",\"linecolor\":\"white\",\"ticks\":\"\",\"title\":{\"standoff\":15},\"zerolinecolor\":\"white\",\"automargin\":true,\"zerolinewidth\":2},\"yaxis\":{\"gridcolor\":\"white\",\"linecolor\":\"white\",\"ticks\":\"\",\"title\":{\"standoff\":15},\"zerolinecolor\":\"white\",\"automargin\":true,\"zerolinewidth\":2},\"scene\":{\"xaxis\":{\"backgroundcolor\":\"#E5ECF6\",\"gridcolor\":\"white\",\"linecolor\":\"white\",\"showbackground\":true,\"ticks\":\"\",\"zerolinecolor\":\"white\",\"gridwidth\":2},\"yaxis\":{\"backgroundcolor\":\"#E5ECF6\",\"gridcolor\":\"white\",\"linecolor\":\"white\",\"showbackground\":true,\"ticks\":\"\",\"zerolinecolor\":\"white\",\"gridwidth\":2},\"zaxis\":{\"backgroundcolor\":\"#E5ECF6\",\"gridcolor\":\"white\",\"linecolor\":\"white\",\"showbackground\":true,\"ticks\":\"\",\"zerolinecolor\":\"white\",\"gridwidth\":2}},\"shapedefaults\":{\"line\":{\"color\":\"#2a3f5f\"}},\"annotationdefaults\":{\"arrowcolor\":\"#2a3f5f\",\"arrowhead\":0,\"arrowwidth\":1},\"geo\":{\"bgcolor\":\"white\",\"landcolor\":\"#E5ECF6\",\"subunitcolor\":\"white\",\"showland\":true,\"showlakes\":true,\"lakecolor\":\"white\"},\"title\":{\"x\":0.05},\"mapbox\":{\"style\":\"light\"}}},\"xaxis\":{\"anchor\":\"y\",\"domain\":[0.0,1.0],\"title\":{\"text\":\"age\"}},\"yaxis\":{\"anchor\":\"x\",\"domain\":[0.0,1.0],\"title\":{\"text\":\"bpm\"}},\"legend\":{\"title\":{\"text\":\"Player\"},\"tracegroupgap\":0},\"margin\":{\"t\":60},\"title\":{\"text\":\"bpm over time for 5 neighbors of Michael Jordan\"}},                        {\"responsive\": true}                    ).then(function(){\n",
       "                            \n",
       "var gd = document.getElementById('6daa04c0-041c-43d9-91eb-cc96679d4ade');\n",
       "var x = new MutationObserver(function (mutations, observer) {{\n",
       "        var display = window.getComputedStyle(gd).display;\n",
       "        if (!display || display === 'none') {{\n",
       "            console.log([gd, 'removed!']);\n",
       "            Plotly.purge(gd);\n",
       "            observer.disconnect();\n",
       "        }}\n",
       "}});\n",
       "\n",
       "// Listen for the removal of the full notebook cells\n",
       "var notebookContainer = gd.closest('#notebook-container');\n",
       "if (notebookContainer) {{\n",
       "    x.observe(notebookContainer, {childList: true});\n",
       "}}\n",
       "\n",
       "// Listen for the clearing of the current output cell\n",
       "var outputEl = gd.closest('.output');\n",
       "if (outputEl) {{\n",
       "    x.observe(outputEl, {childList: true});\n",
       "}}\n",
       "\n",
       "                        })                };                });            </script>        </div>"
      ]
     },
     "metadata": {},
     "output_type": "display_data"
    }
   ],
   "source": [
    "plot_trajectories(df, \"Michael Jordan\", 6, \"bpm\", rotated_means_results[\"gaussian_bpm_rflvm\"])"
   ]
  },
  {
   "cell_type": "code",
   "execution_count": 37,
   "metadata": {},
   "outputs": [],
   "source": [
    "experiment_model_result = {}\n",
    "for file in os.listdir(\"experiments\"):\n",
    "    if file.endswith(\"model_rflvm.pickle\"):\n",
    "        with open(f\"experiments/{file}\",\"rb\") as f:\n",
    "            data = pickle.load(f)\n",
    "        f.close()\n",
    "        experiment_model_result[file.split(\".\")[0]] = data"
   ]
  },
  {
   "cell_type": "code",
   "execution_count": 54,
   "metadata": {},
   "outputs": [],
   "source": [
    "bpm_preds = experiment_model_result[\"gaussian_bpm_model_rflvm\"].predict(experiment_result[\"gaussian_bpm_rflvm\"][\"X\"][-1,:,:])"
   ]
  },
  {
   "cell_type": "code",
   "execution_count": 56,
   "metadata": {},
   "outputs": [
    {
     "data": {
      "text/plain": [
       "(2332, 27)"
      ]
     },
     "execution_count": 56,
     "metadata": {},
     "output_type": "execute_result"
    }
   ],
   "source": [
    "bpm_preds.shape"
   ]
  },
  {
   "cell_type": "code",
   "execution_count": 58,
   "metadata": {},
   "outputs": [],
   "source": [
    "bpm_preds_df = pd.DataFrame(bpm_preds, columns=list(range(18,45)))"
   ]
  },
  {
   "cell_type": "code",
   "execution_count": 70,
   "metadata": {},
   "outputs": [],
   "source": [
    "bpm_preds_df[\"name\"] = df[[\"name\",\"id\"]].drop_duplicates()[\"name\"].values\n",
    "bpm_preds_df[\"id\"] = df[[\"name\",\"id\"]].drop_duplicates()[\"id\"].values"
   ]
  },
  {
   "cell_type": "code",
   "execution_count": 71,
   "metadata": {},
   "outputs": [],
   "source": [
    "bpm_preds_df_long = bpm_preds_df.melt(id_vars=[\"name\",\"id\"], var_name=\"age\", value_name=\"bpm\")\n"
   ]
  },
  {
   "cell_type": "code",
   "execution_count": 73,
   "metadata": {},
   "outputs": [
    {
     "data": {
      "application/vnd.plotly.v1+json": {
       "config": {
        "plotlyServerURL": "https://plot.ly"
       },
       "data": [
        {
         "hovertemplate": "Player=Robert Horry<br>age=%{x}<br>bpm=%{y}<extra></extra>",
         "legendgroup": "Robert Horry",
         "line": {
          "color": "#636efa",
          "dash": "solid"
         },
         "marker": {
          "symbol": "circle"
         },
         "mode": "lines",
         "name": "Robert Horry",
         "orientation": "v",
         "showlegend": true,
         "type": "scatter",
         "x": [
          18,
          19,
          20,
          21,
          22,
          23,
          24,
          25,
          26,
          27,
          28,
          29,
          30,
          31,
          32,
          33,
          34,
          35,
          36,
          37,
          38,
          39,
          40,
          41,
          42,
          43,
          44
         ],
         "xaxis": "x",
         "y": [
          -4.464899514676869,
          -1.9594076010259627,
          -1.7511647453382768,
          -1.3715497266555723,
          -1.5447667548272017,
          -3.057094511302413,
          -1.6731692806898995,
          -1.4095058804293041,
          -2.132112332459583,
          -2.4289737129500755,
          -0.05889933638025439,
          -0.25250650885765885,
          0.8913145386921392,
          0.7433024946143352,
          0.6612855027727351,
          1.1383886467725535,
          0.9249249035884209,
          0.04217799400464782,
          -0.7819464683013779,
          -1.6544100827750727,
          -1.8455170137353236,
          -2.1531959085280556,
          -0.16974687299994343,
          -0.44802863115029895,
          -2.9435875026291676,
          -3.241539946170422,
          -7.556613103610006
         ],
         "yaxis": "y"
        },
        {
         "hovertemplate": "Player=Hakeem Olajuwon<br>age=%{x}<br>bpm=%{y}<extra></extra>",
         "legendgroup": "Hakeem Olajuwon",
         "line": {
          "color": "#EF553B",
          "dash": "solid"
         },
         "marker": {
          "symbol": "circle"
         },
         "mode": "lines",
         "name": "Hakeem Olajuwon",
         "orientation": "v",
         "showlegend": true,
         "type": "scatter",
         "x": [
          18,
          19,
          20,
          21,
          22,
          23,
          24,
          25,
          26,
          27,
          28,
          29,
          30,
          31,
          32,
          33,
          34,
          35,
          36,
          37,
          38,
          39,
          40,
          41,
          42,
          43,
          44
         ],
         "xaxis": "x",
         "y": [
          -3.4133466977618188,
          -1.231458255672194,
          -2.337804344631273,
          -2.3502264625305176,
          -3.4281060919160455,
          -2.087072619485471,
          -3.085850454625491,
          -2.2727561994358876,
          -1.638508477395552,
          -1.9695902542276318,
          -1.1069662173518728,
          -1.9095178469542236,
          -1.1508356431368063,
          -0.43762068125860537,
          -0.9977517345119652,
          1.1270260415465678,
          1.9252674603054973,
          1.0832186445330159,
          0.3413487158263578,
          -0.05493267482391778,
          -0.8544675864775706,
          -1.7083853527688193,
          -0.12910631071606174,
          -0.2042658862501485,
          -2.5364383285866428,
          -2.4071219735183242,
          -6.190061267430727
         ],
         "yaxis": "y"
        },
        {
         "hovertemplate": "Player=Michael Jordan<br>age=%{x}<br>bpm=%{y}<extra></extra>",
         "legendgroup": "Michael Jordan",
         "line": {
          "color": "#00cc96",
          "dash": "solid"
         },
         "marker": {
          "symbol": "circle"
         },
         "mode": "lines",
         "name": "Michael Jordan",
         "orientation": "v",
         "showlegend": true,
         "type": "scatter",
         "x": [
          18,
          19,
          20,
          21,
          22,
          23,
          24,
          25,
          26,
          27,
          28,
          29,
          30,
          31,
          32,
          33,
          34,
          35,
          36,
          37,
          38,
          39,
          40,
          41,
          42,
          43,
          44
         ],
         "xaxis": "x",
         "y": [
          0.45882460128654123,
          0.5201182512378278,
          -0.21015664018671454,
          0.21765985083880707,
          2.3604826301319375,
          3.659078009858671,
          2.7254402715498953,
          3.32312558013641,
          4.530090140254072,
          3.6256537064186083,
          2.185742185497919,
          3.974085156980882,
          -0.43401840477548936,
          -0.09266257275565248,
          -1.5190223145394226,
          -1.043882140270723,
          -0.4575255168891777,
          -0.7170193118558639,
          0.8318108785512717,
          0.8384363591387304,
          1.2921815491448825,
          1.0364285742757795,
          1.1791743331816043,
          -0.1005601845756707,
          0.9679725569702248,
          0.41106875552416566,
          1.5964961315090087
         ],
         "yaxis": "y"
        },
        {
         "hovertemplate": "Player=Andrew Bynum<br>age=%{x}<br>bpm=%{y}<extra></extra>",
         "legendgroup": "Andrew Bynum",
         "line": {
          "color": "#ab63fa",
          "dash": "solid"
         },
         "marker": {
          "symbol": "circle"
         },
         "mode": "lines",
         "name": "Andrew Bynum",
         "orientation": "v",
         "showlegend": true,
         "type": "scatter",
         "x": [
          18,
          19,
          20,
          21,
          22,
          23,
          24,
          25,
          26,
          27,
          28,
          29,
          30,
          31,
          32,
          33,
          34,
          35,
          36,
          37,
          38,
          39,
          40,
          41,
          42,
          43,
          44
         ],
         "xaxis": "x",
         "y": [
          -4.807092977134533,
          -3.044149913789524,
          -3.1554453148829946,
          -3.2335330690774455,
          -3.7625613412025407,
          -4.1099308115870175,
          -3.2916857655220477,
          -0.3380890912651893,
          -2.0801295704806084,
          -1.1077308426845358,
          -0.8288883030454839,
          0.9087843093981238,
          -0.5897228039813037,
          -0.2708862260741689,
          1.6473489917623665,
          1.7646466452159995,
          2.2481472093167527,
          1.4945878771694852,
          -0.08427557323295032,
          -2.598211568561171,
          -1.9138391169829527,
          -1.6279288490400265,
          -0.020068844013600897,
          -0.43730707833566385,
          -4.042983050271397,
          -3.1309699026008646,
          -7.711471849346109
         ],
         "yaxis": "y"
        },
        {
         "hovertemplate": "Player=Ben Simmons<br>age=%{x}<br>bpm=%{y}<extra></extra>",
         "legendgroup": "Ben Simmons",
         "line": {
          "color": "#FFA15A",
          "dash": "solid"
         },
         "marker": {
          "symbol": "circle"
         },
         "mode": "lines",
         "name": "Ben Simmons",
         "orientation": "v",
         "showlegend": true,
         "type": "scatter",
         "x": [
          18,
          19,
          20,
          21,
          22,
          23,
          24,
          25,
          26,
          27,
          28,
          29,
          30,
          31,
          32,
          33,
          34,
          35,
          36,
          37,
          38,
          39,
          40,
          41,
          42,
          43,
          44
         ],
         "xaxis": "x",
         "y": [
          -5.315816896125632,
          -2.6273053254900027,
          -2.4558937720941123,
          -2.147476442565537,
          -1.7113671781952255,
          -3.7401774683798314,
          -1.9316944191886765,
          -1.0112521628003115,
          -2.1918460265745296,
          -1.028218481058547,
          -0.1589712074675166,
          -0.33214425696518435,
          -0.3968667695768426,
          -0.7156656993004256,
          0.6205587839902091,
          2.0016765113105404,
          3.0733482222741495,
          2.9202939132325825,
          1.3282860769924754,
          -1.1734103286229551,
          -2.1657086994896786,
          -1.9644327394237844,
          -0.10006765521677202,
          -0.6042070237982884,
          -4.425897512206905,
          -3.3318228396321774,
          -8.322401981011849
         ],
         "yaxis": "y"
        },
        {
         "hovertemplate": "Player=Chris Boucher<br>age=%{x}<br>bpm=%{y}<extra></extra>",
         "legendgroup": "Chris Boucher",
         "line": {
          "color": "#19d3f3",
          "dash": "solid"
         },
         "marker": {
          "symbol": "circle"
         },
         "mode": "lines",
         "name": "Chris Boucher",
         "orientation": "v",
         "showlegend": true,
         "type": "scatter",
         "x": [
          18,
          19,
          20,
          21,
          22,
          23,
          24,
          25,
          26,
          27,
          28,
          29,
          30,
          31,
          32,
          33,
          34,
          35,
          36,
          37,
          38,
          39,
          40,
          41,
          42,
          43,
          44
         ],
         "xaxis": "x",
         "y": [
          -4.842319666079233,
          -2.8834747072554094,
          -2.8918961022711605,
          -3.061734050803778,
          -1.9451735249725406,
          -1.1373448741347238,
          -1.7298170361180072,
          -0.05548705383075372,
          -1.2166444664493643,
          0.006696500627726011,
          0.06664691390762939,
          0.6282017915427818,
          0.9056058553694973,
          0.7677537462880241,
          1.5560345791004684,
          0.9660707028488237,
          -0.12242307723940891,
          -0.24071857494461169,
          -1.7184684754950421,
          -2.790039114077714,
          -1.8580135794075736,
          -2.1221251457490355,
          -0.25775848393069445,
          -0.38723391750832803,
          -3.2173496089966624,
          -3.5779458915502484,
          -8.018854293987665
         ],
         "yaxis": "y"
        }
       ],
       "layout": {
        "legend": {
         "title": {
          "text": "Player"
         },
         "tracegroupgap": 0
        },
        "margin": {
         "t": 60
        },
        "template": {
         "data": {
          "bar": [
           {
            "error_x": {
             "color": "#2a3f5f"
            },
            "error_y": {
             "color": "#2a3f5f"
            },
            "marker": {
             "line": {
              "color": "#E5ECF6",
              "width": 0.5
             },
             "pattern": {
              "fillmode": "overlay",
              "size": 10,
              "solidity": 0.2
             }
            },
            "type": "bar"
           }
          ],
          "barpolar": [
           {
            "marker": {
             "line": {
              "color": "#E5ECF6",
              "width": 0.5
             },
             "pattern": {
              "fillmode": "overlay",
              "size": 10,
              "solidity": 0.2
             }
            },
            "type": "barpolar"
           }
          ],
          "carpet": [
           {
            "aaxis": {
             "endlinecolor": "#2a3f5f",
             "gridcolor": "white",
             "linecolor": "white",
             "minorgridcolor": "white",
             "startlinecolor": "#2a3f5f"
            },
            "baxis": {
             "endlinecolor": "#2a3f5f",
             "gridcolor": "white",
             "linecolor": "white",
             "minorgridcolor": "white",
             "startlinecolor": "#2a3f5f"
            },
            "type": "carpet"
           }
          ],
          "choropleth": [
           {
            "colorbar": {
             "outlinewidth": 0,
             "ticks": ""
            },
            "type": "choropleth"
           }
          ],
          "contour": [
           {
            "colorbar": {
             "outlinewidth": 0,
             "ticks": ""
            },
            "colorscale": [
             [
              0,
              "#0d0887"
             ],
             [
              0.1111111111111111,
              "#46039f"
             ],
             [
              0.2222222222222222,
              "#7201a8"
             ],
             [
              0.3333333333333333,
              "#9c179e"
             ],
             [
              0.4444444444444444,
              "#bd3786"
             ],
             [
              0.5555555555555556,
              "#d8576b"
             ],
             [
              0.6666666666666666,
              "#ed7953"
             ],
             [
              0.7777777777777778,
              "#fb9f3a"
             ],
             [
              0.8888888888888888,
              "#fdca26"
             ],
             [
              1,
              "#f0f921"
             ]
            ],
            "type": "contour"
           }
          ],
          "contourcarpet": [
           {
            "colorbar": {
             "outlinewidth": 0,
             "ticks": ""
            },
            "type": "contourcarpet"
           }
          ],
          "heatmap": [
           {
            "colorbar": {
             "outlinewidth": 0,
             "ticks": ""
            },
            "colorscale": [
             [
              0,
              "#0d0887"
             ],
             [
              0.1111111111111111,
              "#46039f"
             ],
             [
              0.2222222222222222,
              "#7201a8"
             ],
             [
              0.3333333333333333,
              "#9c179e"
             ],
             [
              0.4444444444444444,
              "#bd3786"
             ],
             [
              0.5555555555555556,
              "#d8576b"
             ],
             [
              0.6666666666666666,
              "#ed7953"
             ],
             [
              0.7777777777777778,
              "#fb9f3a"
             ],
             [
              0.8888888888888888,
              "#fdca26"
             ],
             [
              1,
              "#f0f921"
             ]
            ],
            "type": "heatmap"
           }
          ],
          "heatmapgl": [
           {
            "colorbar": {
             "outlinewidth": 0,
             "ticks": ""
            },
            "colorscale": [
             [
              0,
              "#0d0887"
             ],
             [
              0.1111111111111111,
              "#46039f"
             ],
             [
              0.2222222222222222,
              "#7201a8"
             ],
             [
              0.3333333333333333,
              "#9c179e"
             ],
             [
              0.4444444444444444,
              "#bd3786"
             ],
             [
              0.5555555555555556,
              "#d8576b"
             ],
             [
              0.6666666666666666,
              "#ed7953"
             ],
             [
              0.7777777777777778,
              "#fb9f3a"
             ],
             [
              0.8888888888888888,
              "#fdca26"
             ],
             [
              1,
              "#f0f921"
             ]
            ],
            "type": "heatmapgl"
           }
          ],
          "histogram": [
           {
            "marker": {
             "pattern": {
              "fillmode": "overlay",
              "size": 10,
              "solidity": 0.2
             }
            },
            "type": "histogram"
           }
          ],
          "histogram2d": [
           {
            "colorbar": {
             "outlinewidth": 0,
             "ticks": ""
            },
            "colorscale": [
             [
              0,
              "#0d0887"
             ],
             [
              0.1111111111111111,
              "#46039f"
             ],
             [
              0.2222222222222222,
              "#7201a8"
             ],
             [
              0.3333333333333333,
              "#9c179e"
             ],
             [
              0.4444444444444444,
              "#bd3786"
             ],
             [
              0.5555555555555556,
              "#d8576b"
             ],
             [
              0.6666666666666666,
              "#ed7953"
             ],
             [
              0.7777777777777778,
              "#fb9f3a"
             ],
             [
              0.8888888888888888,
              "#fdca26"
             ],
             [
              1,
              "#f0f921"
             ]
            ],
            "type": "histogram2d"
           }
          ],
          "histogram2dcontour": [
           {
            "colorbar": {
             "outlinewidth": 0,
             "ticks": ""
            },
            "colorscale": [
             [
              0,
              "#0d0887"
             ],
             [
              0.1111111111111111,
              "#46039f"
             ],
             [
              0.2222222222222222,
              "#7201a8"
             ],
             [
              0.3333333333333333,
              "#9c179e"
             ],
             [
              0.4444444444444444,
              "#bd3786"
             ],
             [
              0.5555555555555556,
              "#d8576b"
             ],
             [
              0.6666666666666666,
              "#ed7953"
             ],
             [
              0.7777777777777778,
              "#fb9f3a"
             ],
             [
              0.8888888888888888,
              "#fdca26"
             ],
             [
              1,
              "#f0f921"
             ]
            ],
            "type": "histogram2dcontour"
           }
          ],
          "mesh3d": [
           {
            "colorbar": {
             "outlinewidth": 0,
             "ticks": ""
            },
            "type": "mesh3d"
           }
          ],
          "parcoords": [
           {
            "line": {
             "colorbar": {
              "outlinewidth": 0,
              "ticks": ""
             }
            },
            "type": "parcoords"
           }
          ],
          "pie": [
           {
            "automargin": true,
            "type": "pie"
           }
          ],
          "scatter": [
           {
            "fillpattern": {
             "fillmode": "overlay",
             "size": 10,
             "solidity": 0.2
            },
            "type": "scatter"
           }
          ],
          "scatter3d": [
           {
            "line": {
             "colorbar": {
              "outlinewidth": 0,
              "ticks": ""
             }
            },
            "marker": {
             "colorbar": {
              "outlinewidth": 0,
              "ticks": ""
             }
            },
            "type": "scatter3d"
           }
          ],
          "scattercarpet": [
           {
            "marker": {
             "colorbar": {
              "outlinewidth": 0,
              "ticks": ""
             }
            },
            "type": "scattercarpet"
           }
          ],
          "scattergeo": [
           {
            "marker": {
             "colorbar": {
              "outlinewidth": 0,
              "ticks": ""
             }
            },
            "type": "scattergeo"
           }
          ],
          "scattergl": [
           {
            "marker": {
             "colorbar": {
              "outlinewidth": 0,
              "ticks": ""
             }
            },
            "type": "scattergl"
           }
          ],
          "scattermapbox": [
           {
            "marker": {
             "colorbar": {
              "outlinewidth": 0,
              "ticks": ""
             }
            },
            "type": "scattermapbox"
           }
          ],
          "scatterpolar": [
           {
            "marker": {
             "colorbar": {
              "outlinewidth": 0,
              "ticks": ""
             }
            },
            "type": "scatterpolar"
           }
          ],
          "scatterpolargl": [
           {
            "marker": {
             "colorbar": {
              "outlinewidth": 0,
              "ticks": ""
             }
            },
            "type": "scatterpolargl"
           }
          ],
          "scatterternary": [
           {
            "marker": {
             "colorbar": {
              "outlinewidth": 0,
              "ticks": ""
             }
            },
            "type": "scatterternary"
           }
          ],
          "surface": [
           {
            "colorbar": {
             "outlinewidth": 0,
             "ticks": ""
            },
            "colorscale": [
             [
              0,
              "#0d0887"
             ],
             [
              0.1111111111111111,
              "#46039f"
             ],
             [
              0.2222222222222222,
              "#7201a8"
             ],
             [
              0.3333333333333333,
              "#9c179e"
             ],
             [
              0.4444444444444444,
              "#bd3786"
             ],
             [
              0.5555555555555556,
              "#d8576b"
             ],
             [
              0.6666666666666666,
              "#ed7953"
             ],
             [
              0.7777777777777778,
              "#fb9f3a"
             ],
             [
              0.8888888888888888,
              "#fdca26"
             ],
             [
              1,
              "#f0f921"
             ]
            ],
            "type": "surface"
           }
          ],
          "table": [
           {
            "cells": {
             "fill": {
              "color": "#EBF0F8"
             },
             "line": {
              "color": "white"
             }
            },
            "header": {
             "fill": {
              "color": "#C8D4E3"
             },
             "line": {
              "color": "white"
             }
            },
            "type": "table"
           }
          ]
         },
         "layout": {
          "annotationdefaults": {
           "arrowcolor": "#2a3f5f",
           "arrowhead": 0,
           "arrowwidth": 1
          },
          "autotypenumbers": "strict",
          "coloraxis": {
           "colorbar": {
            "outlinewidth": 0,
            "ticks": ""
           }
          },
          "colorscale": {
           "diverging": [
            [
             0,
             "#8e0152"
            ],
            [
             0.1,
             "#c51b7d"
            ],
            [
             0.2,
             "#de77ae"
            ],
            [
             0.3,
             "#f1b6da"
            ],
            [
             0.4,
             "#fde0ef"
            ],
            [
             0.5,
             "#f7f7f7"
            ],
            [
             0.6,
             "#e6f5d0"
            ],
            [
             0.7,
             "#b8e186"
            ],
            [
             0.8,
             "#7fbc41"
            ],
            [
             0.9,
             "#4d9221"
            ],
            [
             1,
             "#276419"
            ]
           ],
           "sequential": [
            [
             0,
             "#0d0887"
            ],
            [
             0.1111111111111111,
             "#46039f"
            ],
            [
             0.2222222222222222,
             "#7201a8"
            ],
            [
             0.3333333333333333,
             "#9c179e"
            ],
            [
             0.4444444444444444,
             "#bd3786"
            ],
            [
             0.5555555555555556,
             "#d8576b"
            ],
            [
             0.6666666666666666,
             "#ed7953"
            ],
            [
             0.7777777777777778,
             "#fb9f3a"
            ],
            [
             0.8888888888888888,
             "#fdca26"
            ],
            [
             1,
             "#f0f921"
            ]
           ],
           "sequentialminus": [
            [
             0,
             "#0d0887"
            ],
            [
             0.1111111111111111,
             "#46039f"
            ],
            [
             0.2222222222222222,
             "#7201a8"
            ],
            [
             0.3333333333333333,
             "#9c179e"
            ],
            [
             0.4444444444444444,
             "#bd3786"
            ],
            [
             0.5555555555555556,
             "#d8576b"
            ],
            [
             0.6666666666666666,
             "#ed7953"
            ],
            [
             0.7777777777777778,
             "#fb9f3a"
            ],
            [
             0.8888888888888888,
             "#fdca26"
            ],
            [
             1,
             "#f0f921"
            ]
           ]
          },
          "colorway": [
           "#636efa",
           "#EF553B",
           "#00cc96",
           "#ab63fa",
           "#FFA15A",
           "#19d3f3",
           "#FF6692",
           "#B6E880",
           "#FF97FF",
           "#FECB52"
          ],
          "font": {
           "color": "#2a3f5f"
          },
          "geo": {
           "bgcolor": "white",
           "lakecolor": "white",
           "landcolor": "#E5ECF6",
           "showlakes": true,
           "showland": true,
           "subunitcolor": "white"
          },
          "hoverlabel": {
           "align": "left"
          },
          "hovermode": "closest",
          "mapbox": {
           "style": "light"
          },
          "paper_bgcolor": "white",
          "plot_bgcolor": "#E5ECF6",
          "polar": {
           "angularaxis": {
            "gridcolor": "white",
            "linecolor": "white",
            "ticks": ""
           },
           "bgcolor": "#E5ECF6",
           "radialaxis": {
            "gridcolor": "white",
            "linecolor": "white",
            "ticks": ""
           }
          },
          "scene": {
           "xaxis": {
            "backgroundcolor": "#E5ECF6",
            "gridcolor": "white",
            "gridwidth": 2,
            "linecolor": "white",
            "showbackground": true,
            "ticks": "",
            "zerolinecolor": "white"
           },
           "yaxis": {
            "backgroundcolor": "#E5ECF6",
            "gridcolor": "white",
            "gridwidth": 2,
            "linecolor": "white",
            "showbackground": true,
            "ticks": "",
            "zerolinecolor": "white"
           },
           "zaxis": {
            "backgroundcolor": "#E5ECF6",
            "gridcolor": "white",
            "gridwidth": 2,
            "linecolor": "white",
            "showbackground": true,
            "ticks": "",
            "zerolinecolor": "white"
           }
          },
          "shapedefaults": {
           "line": {
            "color": "#2a3f5f"
           }
          },
          "ternary": {
           "aaxis": {
            "gridcolor": "white",
            "linecolor": "white",
            "ticks": ""
           },
           "baxis": {
            "gridcolor": "white",
            "linecolor": "white",
            "ticks": ""
           },
           "bgcolor": "#E5ECF6",
           "caxis": {
            "gridcolor": "white",
            "linecolor": "white",
            "ticks": ""
           }
          },
          "title": {
           "x": 0.05
          },
          "xaxis": {
           "automargin": true,
           "gridcolor": "white",
           "linecolor": "white",
           "ticks": "",
           "title": {
            "standoff": 15
           },
           "zerolinecolor": "white",
           "zerolinewidth": 2
          },
          "yaxis": {
           "automargin": true,
           "gridcolor": "white",
           "linecolor": "white",
           "ticks": "",
           "title": {
            "standoff": 15
           },
           "zerolinecolor": "white",
           "zerolinewidth": 2
          }
         }
        },
        "title": {
         "text": "bpm over time for 5 neighbors of Michael Jordan"
        },
        "xaxis": {
         "anchor": "y",
         "domain": [
          0,
          1
         ],
         "title": {
          "text": "age"
         }
        },
        "yaxis": {
         "anchor": "x",
         "domain": [
          0,
          1
         ],
         "title": {
          "text": "bpm"
         }
        }
       }
      },
      "text/html": [
       "<div>                            <div id=\"002f56cf-e314-4894-98db-c3e0cf082f68\" class=\"plotly-graph-div\" style=\"height:525px; width:100%;\"></div>            <script type=\"text/javascript\">                require([\"plotly\"], function(Plotly) {                    window.PLOTLYENV=window.PLOTLYENV || {};                                    if (document.getElementById(\"002f56cf-e314-4894-98db-c3e0cf082f68\")) {                    Plotly.newPlot(                        \"002f56cf-e314-4894-98db-c3e0cf082f68\",                        [{\"hovertemplate\":\"Player=Robert Horry<br>age=%{x}<br>bpm=%{y}<extra></extra>\",\"legendgroup\":\"Robert Horry\",\"line\":{\"color\":\"#636efa\",\"dash\":\"solid\"},\"marker\":{\"symbol\":\"circle\"},\"mode\":\"lines\",\"name\":\"Robert Horry\",\"orientation\":\"v\",\"showlegend\":true,\"x\":[18,19,20,21,22,23,24,25,26,27,28,29,30,31,32,33,34,35,36,37,38,39,40,41,42,43,44],\"xaxis\":\"x\",\"y\":[-4.464899514676869,-1.9594076010259627,-1.7511647453382768,-1.3715497266555723,-1.5447667548272017,-3.057094511302413,-1.6731692806898995,-1.4095058804293041,-2.132112332459583,-2.4289737129500755,-0.05889933638025439,-0.25250650885765885,0.8913145386921392,0.7433024946143352,0.6612855027727351,1.1383886467725535,0.9249249035884209,0.04217799400464782,-0.7819464683013779,-1.6544100827750727,-1.8455170137353236,-2.1531959085280556,-0.16974687299994343,-0.44802863115029895,-2.9435875026291676,-3.241539946170422,-7.556613103610006],\"yaxis\":\"y\",\"type\":\"scatter\"},{\"hovertemplate\":\"Player=Hakeem Olajuwon<br>age=%{x}<br>bpm=%{y}<extra></extra>\",\"legendgroup\":\"Hakeem Olajuwon\",\"line\":{\"color\":\"#EF553B\",\"dash\":\"solid\"},\"marker\":{\"symbol\":\"circle\"},\"mode\":\"lines\",\"name\":\"Hakeem Olajuwon\",\"orientation\":\"v\",\"showlegend\":true,\"x\":[18,19,20,21,22,23,24,25,26,27,28,29,30,31,32,33,34,35,36,37,38,39,40,41,42,43,44],\"xaxis\":\"x\",\"y\":[-3.4133466977618188,-1.231458255672194,-2.337804344631273,-2.3502264625305176,-3.4281060919160455,-2.087072619485471,-3.085850454625491,-2.2727561994358876,-1.638508477395552,-1.9695902542276318,-1.1069662173518728,-1.9095178469542236,-1.1508356431368063,-0.43762068125860537,-0.9977517345119652,1.1270260415465678,1.9252674603054973,1.0832186445330159,0.3413487158263578,-0.05493267482391778,-0.8544675864775706,-1.7083853527688193,-0.12910631071606174,-0.2042658862501485,-2.5364383285866428,-2.4071219735183242,-6.190061267430727],\"yaxis\":\"y\",\"type\":\"scatter\"},{\"hovertemplate\":\"Player=Michael Jordan<br>age=%{x}<br>bpm=%{y}<extra></extra>\",\"legendgroup\":\"Michael Jordan\",\"line\":{\"color\":\"#00cc96\",\"dash\":\"solid\"},\"marker\":{\"symbol\":\"circle\"},\"mode\":\"lines\",\"name\":\"Michael Jordan\",\"orientation\":\"v\",\"showlegend\":true,\"x\":[18,19,20,21,22,23,24,25,26,27,28,29,30,31,32,33,34,35,36,37,38,39,40,41,42,43,44],\"xaxis\":\"x\",\"y\":[0.45882460128654123,0.5201182512378278,-0.21015664018671454,0.21765985083880707,2.3604826301319375,3.659078009858671,2.7254402715498953,3.32312558013641,4.530090140254072,3.6256537064186083,2.185742185497919,3.974085156980882,-0.43401840477548936,-0.09266257275565248,-1.5190223145394226,-1.043882140270723,-0.4575255168891777,-0.7170193118558639,0.8318108785512717,0.8384363591387304,1.2921815491448825,1.0364285742757795,1.1791743331816043,-0.1005601845756707,0.9679725569702248,0.41106875552416566,1.5964961315090087],\"yaxis\":\"y\",\"type\":\"scatter\"},{\"hovertemplate\":\"Player=Andrew Bynum<br>age=%{x}<br>bpm=%{y}<extra></extra>\",\"legendgroup\":\"Andrew Bynum\",\"line\":{\"color\":\"#ab63fa\",\"dash\":\"solid\"},\"marker\":{\"symbol\":\"circle\"},\"mode\":\"lines\",\"name\":\"Andrew Bynum\",\"orientation\":\"v\",\"showlegend\":true,\"x\":[18,19,20,21,22,23,24,25,26,27,28,29,30,31,32,33,34,35,36,37,38,39,40,41,42,43,44],\"xaxis\":\"x\",\"y\":[-4.807092977134533,-3.044149913789524,-3.1554453148829946,-3.2335330690774455,-3.7625613412025407,-4.1099308115870175,-3.2916857655220477,-0.3380890912651893,-2.0801295704806084,-1.1077308426845358,-0.8288883030454839,0.9087843093981238,-0.5897228039813037,-0.2708862260741689,1.6473489917623665,1.7646466452159995,2.2481472093167527,1.4945878771694852,-0.08427557323295032,-2.598211568561171,-1.9138391169829527,-1.6279288490400265,-0.020068844013600897,-0.43730707833566385,-4.042983050271397,-3.1309699026008646,-7.711471849346109],\"yaxis\":\"y\",\"type\":\"scatter\"},{\"hovertemplate\":\"Player=Ben Simmons<br>age=%{x}<br>bpm=%{y}<extra></extra>\",\"legendgroup\":\"Ben Simmons\",\"line\":{\"color\":\"#FFA15A\",\"dash\":\"solid\"},\"marker\":{\"symbol\":\"circle\"},\"mode\":\"lines\",\"name\":\"Ben Simmons\",\"orientation\":\"v\",\"showlegend\":true,\"x\":[18,19,20,21,22,23,24,25,26,27,28,29,30,31,32,33,34,35,36,37,38,39,40,41,42,43,44],\"xaxis\":\"x\",\"y\":[-5.315816896125632,-2.6273053254900027,-2.4558937720941123,-2.147476442565537,-1.7113671781952255,-3.7401774683798314,-1.9316944191886765,-1.0112521628003115,-2.1918460265745296,-1.028218481058547,-0.1589712074675166,-0.33214425696518435,-0.3968667695768426,-0.7156656993004256,0.6205587839902091,2.0016765113105404,3.0733482222741495,2.9202939132325825,1.3282860769924754,-1.1734103286229551,-2.1657086994896786,-1.9644327394237844,-0.10006765521677202,-0.6042070237982884,-4.425897512206905,-3.3318228396321774,-8.322401981011849],\"yaxis\":\"y\",\"type\":\"scatter\"},{\"hovertemplate\":\"Player=Chris Boucher<br>age=%{x}<br>bpm=%{y}<extra></extra>\",\"legendgroup\":\"Chris Boucher\",\"line\":{\"color\":\"#19d3f3\",\"dash\":\"solid\"},\"marker\":{\"symbol\":\"circle\"},\"mode\":\"lines\",\"name\":\"Chris Boucher\",\"orientation\":\"v\",\"showlegend\":true,\"x\":[18,19,20,21,22,23,24,25,26,27,28,29,30,31,32,33,34,35,36,37,38,39,40,41,42,43,44],\"xaxis\":\"x\",\"y\":[-4.842319666079233,-2.8834747072554094,-2.8918961022711605,-3.061734050803778,-1.9451735249725406,-1.1373448741347238,-1.7298170361180072,-0.05548705383075372,-1.2166444664493643,0.006696500627726011,0.06664691390762939,0.6282017915427818,0.9056058553694973,0.7677537462880241,1.5560345791004684,0.9660707028488237,-0.12242307723940891,-0.24071857494461169,-1.7184684754950421,-2.790039114077714,-1.8580135794075736,-2.1221251457490355,-0.25775848393069445,-0.38723391750832803,-3.2173496089966624,-3.5779458915502484,-8.018854293987665],\"yaxis\":\"y\",\"type\":\"scatter\"}],                        {\"template\":{\"data\":{\"histogram2dcontour\":[{\"type\":\"histogram2dcontour\",\"colorbar\":{\"outlinewidth\":0,\"ticks\":\"\"},\"colorscale\":[[0.0,\"#0d0887\"],[0.1111111111111111,\"#46039f\"],[0.2222222222222222,\"#7201a8\"],[0.3333333333333333,\"#9c179e\"],[0.4444444444444444,\"#bd3786\"],[0.5555555555555556,\"#d8576b\"],[0.6666666666666666,\"#ed7953\"],[0.7777777777777778,\"#fb9f3a\"],[0.8888888888888888,\"#fdca26\"],[1.0,\"#f0f921\"]]}],\"choropleth\":[{\"type\":\"choropleth\",\"colorbar\":{\"outlinewidth\":0,\"ticks\":\"\"}}],\"histogram2d\":[{\"type\":\"histogram2d\",\"colorbar\":{\"outlinewidth\":0,\"ticks\":\"\"},\"colorscale\":[[0.0,\"#0d0887\"],[0.1111111111111111,\"#46039f\"],[0.2222222222222222,\"#7201a8\"],[0.3333333333333333,\"#9c179e\"],[0.4444444444444444,\"#bd3786\"],[0.5555555555555556,\"#d8576b\"],[0.6666666666666666,\"#ed7953\"],[0.7777777777777778,\"#fb9f3a\"],[0.8888888888888888,\"#fdca26\"],[1.0,\"#f0f921\"]]}],\"heatmap\":[{\"type\":\"heatmap\",\"colorbar\":{\"outlinewidth\":0,\"ticks\":\"\"},\"colorscale\":[[0.0,\"#0d0887\"],[0.1111111111111111,\"#46039f\"],[0.2222222222222222,\"#7201a8\"],[0.3333333333333333,\"#9c179e\"],[0.4444444444444444,\"#bd3786\"],[0.5555555555555556,\"#d8576b\"],[0.6666666666666666,\"#ed7953\"],[0.7777777777777778,\"#fb9f3a\"],[0.8888888888888888,\"#fdca26\"],[1.0,\"#f0f921\"]]}],\"heatmapgl\":[{\"type\":\"heatmapgl\",\"colorbar\":{\"outlinewidth\":0,\"ticks\":\"\"},\"colorscale\":[[0.0,\"#0d0887\"],[0.1111111111111111,\"#46039f\"],[0.2222222222222222,\"#7201a8\"],[0.3333333333333333,\"#9c179e\"],[0.4444444444444444,\"#bd3786\"],[0.5555555555555556,\"#d8576b\"],[0.6666666666666666,\"#ed7953\"],[0.7777777777777778,\"#fb9f3a\"],[0.8888888888888888,\"#fdca26\"],[1.0,\"#f0f921\"]]}],\"contourcarpet\":[{\"type\":\"contourcarpet\",\"colorbar\":{\"outlinewidth\":0,\"ticks\":\"\"}}],\"contour\":[{\"type\":\"contour\",\"colorbar\":{\"outlinewidth\":0,\"ticks\":\"\"},\"colorscale\":[[0.0,\"#0d0887\"],[0.1111111111111111,\"#46039f\"],[0.2222222222222222,\"#7201a8\"],[0.3333333333333333,\"#9c179e\"],[0.4444444444444444,\"#bd3786\"],[0.5555555555555556,\"#d8576b\"],[0.6666666666666666,\"#ed7953\"],[0.7777777777777778,\"#fb9f3a\"],[0.8888888888888888,\"#fdca26\"],[1.0,\"#f0f921\"]]}],\"surface\":[{\"type\":\"surface\",\"colorbar\":{\"outlinewidth\":0,\"ticks\":\"\"},\"colorscale\":[[0.0,\"#0d0887\"],[0.1111111111111111,\"#46039f\"],[0.2222222222222222,\"#7201a8\"],[0.3333333333333333,\"#9c179e\"],[0.4444444444444444,\"#bd3786\"],[0.5555555555555556,\"#d8576b\"],[0.6666666666666666,\"#ed7953\"],[0.7777777777777778,\"#fb9f3a\"],[0.8888888888888888,\"#fdca26\"],[1.0,\"#f0f921\"]]}],\"mesh3d\":[{\"type\":\"mesh3d\",\"colorbar\":{\"outlinewidth\":0,\"ticks\":\"\"}}],\"scatter\":[{\"fillpattern\":{\"fillmode\":\"overlay\",\"size\":10,\"solidity\":0.2},\"type\":\"scatter\"}],\"parcoords\":[{\"type\":\"parcoords\",\"line\":{\"colorbar\":{\"outlinewidth\":0,\"ticks\":\"\"}}}],\"scatterpolargl\":[{\"type\":\"scatterpolargl\",\"marker\":{\"colorbar\":{\"outlinewidth\":0,\"ticks\":\"\"}}}],\"bar\":[{\"error_x\":{\"color\":\"#2a3f5f\"},\"error_y\":{\"color\":\"#2a3f5f\"},\"marker\":{\"line\":{\"color\":\"#E5ECF6\",\"width\":0.5},\"pattern\":{\"fillmode\":\"overlay\",\"size\":10,\"solidity\":0.2}},\"type\":\"bar\"}],\"scattergeo\":[{\"type\":\"scattergeo\",\"marker\":{\"colorbar\":{\"outlinewidth\":0,\"ticks\":\"\"}}}],\"scatterpolar\":[{\"type\":\"scatterpolar\",\"marker\":{\"colorbar\":{\"outlinewidth\":0,\"ticks\":\"\"}}}],\"histogram\":[{\"marker\":{\"pattern\":{\"fillmode\":\"overlay\",\"size\":10,\"solidity\":0.2}},\"type\":\"histogram\"}],\"scattergl\":[{\"type\":\"scattergl\",\"marker\":{\"colorbar\":{\"outlinewidth\":0,\"ticks\":\"\"}}}],\"scatter3d\":[{\"type\":\"scatter3d\",\"line\":{\"colorbar\":{\"outlinewidth\":0,\"ticks\":\"\"}},\"marker\":{\"colorbar\":{\"outlinewidth\":0,\"ticks\":\"\"}}}],\"scattermapbox\":[{\"type\":\"scattermapbox\",\"marker\":{\"colorbar\":{\"outlinewidth\":0,\"ticks\":\"\"}}}],\"scatterternary\":[{\"type\":\"scatterternary\",\"marker\":{\"colorbar\":{\"outlinewidth\":0,\"ticks\":\"\"}}}],\"scattercarpet\":[{\"type\":\"scattercarpet\",\"marker\":{\"colorbar\":{\"outlinewidth\":0,\"ticks\":\"\"}}}],\"carpet\":[{\"aaxis\":{\"endlinecolor\":\"#2a3f5f\",\"gridcolor\":\"white\",\"linecolor\":\"white\",\"minorgridcolor\":\"white\",\"startlinecolor\":\"#2a3f5f\"},\"baxis\":{\"endlinecolor\":\"#2a3f5f\",\"gridcolor\":\"white\",\"linecolor\":\"white\",\"minorgridcolor\":\"white\",\"startlinecolor\":\"#2a3f5f\"},\"type\":\"carpet\"}],\"table\":[{\"cells\":{\"fill\":{\"color\":\"#EBF0F8\"},\"line\":{\"color\":\"white\"}},\"header\":{\"fill\":{\"color\":\"#C8D4E3\"},\"line\":{\"color\":\"white\"}},\"type\":\"table\"}],\"barpolar\":[{\"marker\":{\"line\":{\"color\":\"#E5ECF6\",\"width\":0.5},\"pattern\":{\"fillmode\":\"overlay\",\"size\":10,\"solidity\":0.2}},\"type\":\"barpolar\"}],\"pie\":[{\"automargin\":true,\"type\":\"pie\"}]},\"layout\":{\"autotypenumbers\":\"strict\",\"colorway\":[\"#636efa\",\"#EF553B\",\"#00cc96\",\"#ab63fa\",\"#FFA15A\",\"#19d3f3\",\"#FF6692\",\"#B6E880\",\"#FF97FF\",\"#FECB52\"],\"font\":{\"color\":\"#2a3f5f\"},\"hovermode\":\"closest\",\"hoverlabel\":{\"align\":\"left\"},\"paper_bgcolor\":\"white\",\"plot_bgcolor\":\"#E5ECF6\",\"polar\":{\"bgcolor\":\"#E5ECF6\",\"angularaxis\":{\"gridcolor\":\"white\",\"linecolor\":\"white\",\"ticks\":\"\"},\"radialaxis\":{\"gridcolor\":\"white\",\"linecolor\":\"white\",\"ticks\":\"\"}},\"ternary\":{\"bgcolor\":\"#E5ECF6\",\"aaxis\":{\"gridcolor\":\"white\",\"linecolor\":\"white\",\"ticks\":\"\"},\"baxis\":{\"gridcolor\":\"white\",\"linecolor\":\"white\",\"ticks\":\"\"},\"caxis\":{\"gridcolor\":\"white\",\"linecolor\":\"white\",\"ticks\":\"\"}},\"coloraxis\":{\"colorbar\":{\"outlinewidth\":0,\"ticks\":\"\"}},\"colorscale\":{\"sequential\":[[0.0,\"#0d0887\"],[0.1111111111111111,\"#46039f\"],[0.2222222222222222,\"#7201a8\"],[0.3333333333333333,\"#9c179e\"],[0.4444444444444444,\"#bd3786\"],[0.5555555555555556,\"#d8576b\"],[0.6666666666666666,\"#ed7953\"],[0.7777777777777778,\"#fb9f3a\"],[0.8888888888888888,\"#fdca26\"],[1.0,\"#f0f921\"]],\"sequentialminus\":[[0.0,\"#0d0887\"],[0.1111111111111111,\"#46039f\"],[0.2222222222222222,\"#7201a8\"],[0.3333333333333333,\"#9c179e\"],[0.4444444444444444,\"#bd3786\"],[0.5555555555555556,\"#d8576b\"],[0.6666666666666666,\"#ed7953\"],[0.7777777777777778,\"#fb9f3a\"],[0.8888888888888888,\"#fdca26\"],[1.0,\"#f0f921\"]],\"diverging\":[[0,\"#8e0152\"],[0.1,\"#c51b7d\"],[0.2,\"#de77ae\"],[0.3,\"#f1b6da\"],[0.4,\"#fde0ef\"],[0.5,\"#f7f7f7\"],[0.6,\"#e6f5d0\"],[0.7,\"#b8e186\"],[0.8,\"#7fbc41\"],[0.9,\"#4d9221\"],[1,\"#276419\"]]},\"xaxis\":{\"gridcolor\":\"white\",\"linecolor\":\"white\",\"ticks\":\"\",\"title\":{\"standoff\":15},\"zerolinecolor\":\"white\",\"automargin\":true,\"zerolinewidth\":2},\"yaxis\":{\"gridcolor\":\"white\",\"linecolor\":\"white\",\"ticks\":\"\",\"title\":{\"standoff\":15},\"zerolinecolor\":\"white\",\"automargin\":true,\"zerolinewidth\":2},\"scene\":{\"xaxis\":{\"backgroundcolor\":\"#E5ECF6\",\"gridcolor\":\"white\",\"linecolor\":\"white\",\"showbackground\":true,\"ticks\":\"\",\"zerolinecolor\":\"white\",\"gridwidth\":2},\"yaxis\":{\"backgroundcolor\":\"#E5ECF6\",\"gridcolor\":\"white\",\"linecolor\":\"white\",\"showbackground\":true,\"ticks\":\"\",\"zerolinecolor\":\"white\",\"gridwidth\":2},\"zaxis\":{\"backgroundcolor\":\"#E5ECF6\",\"gridcolor\":\"white\",\"linecolor\":\"white\",\"showbackground\":true,\"ticks\":\"\",\"zerolinecolor\":\"white\",\"gridwidth\":2}},\"shapedefaults\":{\"line\":{\"color\":\"#2a3f5f\"}},\"annotationdefaults\":{\"arrowcolor\":\"#2a3f5f\",\"arrowhead\":0,\"arrowwidth\":1},\"geo\":{\"bgcolor\":\"white\",\"landcolor\":\"#E5ECF6\",\"subunitcolor\":\"white\",\"showland\":true,\"showlakes\":true,\"lakecolor\":\"white\"},\"title\":{\"x\":0.05},\"mapbox\":{\"style\":\"light\"}}},\"xaxis\":{\"anchor\":\"y\",\"domain\":[0.0,1.0],\"title\":{\"text\":\"age\"}},\"yaxis\":{\"anchor\":\"x\",\"domain\":[0.0,1.0],\"title\":{\"text\":\"bpm\"}},\"legend\":{\"title\":{\"text\":\"Player\"},\"tracegroupgap\":0},\"margin\":{\"t\":60},\"title\":{\"text\":\"bpm over time for 5 neighbors of Michael Jordan\"}},                        {\"responsive\": true}                    ).then(function(){\n",
       "                            \n",
       "var gd = document.getElementById('002f56cf-e314-4894-98db-c3e0cf082f68');\n",
       "var x = new MutationObserver(function (mutations, observer) {{\n",
       "        var display = window.getComputedStyle(gd).display;\n",
       "        if (!display || display === 'none') {{\n",
       "            console.log([gd, 'removed!']);\n",
       "            Plotly.purge(gd);\n",
       "            observer.disconnect();\n",
       "        }}\n",
       "}});\n",
       "\n",
       "// Listen for the removal of the full notebook cells\n",
       "var notebookContainer = gd.closest('#notebook-container');\n",
       "if (notebookContainer) {{\n",
       "    x.observe(notebookContainer, {childList: true});\n",
       "}}\n",
       "\n",
       "// Listen for the clearing of the current output cell\n",
       "var outputEl = gd.closest('.output');\n",
       "if (outputEl) {{\n",
       "    x.observe(outputEl, {childList: true});\n",
       "}}\n",
       "\n",
       "                        })                };                });            </script>        </div>"
      ]
     },
     "metadata": {},
     "output_type": "display_data"
    }
   ],
   "source": [
    "plot_trajectories(bpm_preds_df_long, \"Michael Jordan\", 6, \"bpm\", experiment_result[\"gaussian_bpm_rflvm\"][\"X\"][-1,:,:],)"
   ]
  },
  {
   "cell_type": "code",
   "execution_count": 72,
   "metadata": {},
   "outputs": [
    {
     "data": {
      "text/html": [
       "<div>\n",
       "<style scoped>\n",
       "    .dataframe tbody tr th:only-of-type {\n",
       "        vertical-align: middle;\n",
       "    }\n",
       "\n",
       "    .dataframe tbody tr th {\n",
       "        vertical-align: top;\n",
       "    }\n",
       "\n",
       "    .dataframe thead th {\n",
       "        text-align: right;\n",
       "    }\n",
       "</style>\n",
       "<table border=\"1\" class=\"dataframe\">\n",
       "  <thead>\n",
       "    <tr style=\"text-align: right;\">\n",
       "      <th></th>\n",
       "      <th>name</th>\n",
       "      <th>id</th>\n",
       "      <th>age</th>\n",
       "      <th>bpm</th>\n",
       "    </tr>\n",
       "  </thead>\n",
       "  <tbody>\n",
       "    <tr>\n",
       "      <th>0</th>\n",
       "      <td>Byron Scott</td>\n",
       "      <td>2</td>\n",
       "      <td>18</td>\n",
       "      <td>-4.810454</td>\n",
       "    </tr>\n",
       "    <tr>\n",
       "      <th>1</th>\n",
       "      <td>Grant Long</td>\n",
       "      <td>3</td>\n",
       "      <td>18</td>\n",
       "      <td>-5.224247</td>\n",
       "    </tr>\n",
       "    <tr>\n",
       "      <th>2</th>\n",
       "      <td>Dan Schayes</td>\n",
       "      <td>7</td>\n",
       "      <td>18</td>\n",
       "      <td>-5.348480</td>\n",
       "    </tr>\n",
       "    <tr>\n",
       "      <th>3</th>\n",
       "      <td>Sedale Threatt</td>\n",
       "      <td>9</td>\n",
       "      <td>18</td>\n",
       "      <td>-5.272296</td>\n",
       "    </tr>\n",
       "    <tr>\n",
       "      <th>4</th>\n",
       "      <td>Chris King</td>\n",
       "      <td>12</td>\n",
       "      <td>18</td>\n",
       "      <td>-5.359851</td>\n",
       "    </tr>\n",
       "    <tr>\n",
       "      <th>...</th>\n",
       "      <td>...</td>\n",
       "      <td>...</td>\n",
       "      <td>...</td>\n",
       "      <td>...</td>\n",
       "    </tr>\n",
       "    <tr>\n",
       "      <th>62959</th>\n",
       "      <td>Facundo Campazzo</td>\n",
       "      <td>1630267</td>\n",
       "      <td>44</td>\n",
       "      <td>-8.478789</td>\n",
       "    </tr>\n",
       "    <tr>\n",
       "      <th>62960</th>\n",
       "      <td>Nate Darling</td>\n",
       "      <td>1630268</td>\n",
       "      <td>44</td>\n",
       "      <td>-8.507473</td>\n",
       "    </tr>\n",
       "    <tr>\n",
       "      <th>62961</th>\n",
       "      <td>Brodric Thomas</td>\n",
       "      <td>1630271</td>\n",
       "      <td>44</td>\n",
       "      <td>-8.526915</td>\n",
       "    </tr>\n",
       "    <tr>\n",
       "      <th>62962</th>\n",
       "      <td>Freddie Gillespie</td>\n",
       "      <td>1630273</td>\n",
       "      <td>44</td>\n",
       "      <td>-8.535514</td>\n",
       "    </tr>\n",
       "    <tr>\n",
       "      <th>62963</th>\n",
       "      <td>Gabriel Deck</td>\n",
       "      <td>1630466</td>\n",
       "      <td>44</td>\n",
       "      <td>-8.477044</td>\n",
       "    </tr>\n",
       "  </tbody>\n",
       "</table>\n",
       "<p>62964 rows × 4 columns</p>\n",
       "</div>"
      ],
      "text/plain": [
       "                    name       id age       bpm\n",
       "0            Byron Scott        2  18 -4.810454\n",
       "1             Grant Long        3  18 -5.224247\n",
       "2            Dan Schayes        7  18 -5.348480\n",
       "3         Sedale Threatt        9  18 -5.272296\n",
       "4             Chris King       12  18 -5.359851\n",
       "...                  ...      ...  ..       ...\n",
       "62959   Facundo Campazzo  1630267  44 -8.478789\n",
       "62960       Nate Darling  1630268  44 -8.507473\n",
       "62961     Brodric Thomas  1630271  44 -8.526915\n",
       "62962  Freddie Gillespie  1630273  44 -8.535514\n",
       "62963       Gabriel Deck  1630466  44 -8.477044\n",
       "\n",
       "[62964 rows x 4 columns]"
      ]
     },
     "execution_count": 72,
     "metadata": {},
     "output_type": "execute_result"
    }
   ],
   "source": [
    "bpm_preds_df_long"
   ]
  },
  {
   "cell_type": "code",
   "execution_count": 77,
   "metadata": {},
   "outputs": [],
   "source": [
    "blk_preds = experiment_model_result[\"poisson_blk_model_rflvm\"].predict(experiment_result[\"poisson_blk_rflvm\"][\"X\"][-1,:,:])"
   ]
  },
  {
   "cell_type": "code",
   "execution_count": 78,
   "metadata": {},
   "outputs": [],
   "source": [
    "blk_preds_df = pd.DataFrame(blk_preds, columns=list(range(18,45)))\n",
    "blk_preds_df[\"name\"] = df[[\"name\",\"id\"]].drop_duplicates()[\"name\"].values\n",
    "blk_preds_df[\"id\"] = df[[\"name\",\"id\"]].drop_duplicates()[\"id\"].values"
   ]
  },
  {
   "cell_type": "code",
   "execution_count": 79,
   "metadata": {},
   "outputs": [],
   "source": [
    "blk_preds_df_long = blk_preds_df.melt(id_vars=[\"name\",\"id\"], var_name=\"age\", value_name=\"blk\")\n"
   ]
  },
  {
   "cell_type": "code",
   "execution_count": 81,
   "metadata": {},
   "outputs": [
    {
     "data": {
      "application/vnd.plotly.v1+json": {
       "config": {
        "plotlyServerURL": "https://plot.ly"
       },
       "data": [
        {
         "hovertemplate": "Player=Theo Ratliff<br>age=%{x}<br>blk=%{y}<extra></extra>",
         "legendgroup": "Theo Ratliff",
         "line": {
          "color": "#636efa",
          "dash": "solid"
         },
         "marker": {
          "symbol": "circle"
         },
         "mode": "lines",
         "name": "Theo Ratliff",
         "orientation": "v",
         "showlegend": true,
         "type": "scatter",
         "x": [
          18,
          19,
          20,
          21,
          22,
          23,
          24,
          25,
          26,
          27,
          28,
          29,
          30,
          31,
          32,
          33,
          34,
          35,
          36,
          37,
          38,
          39,
          40,
          41,
          42,
          43,
          44
         ],
         "xaxis": "x",
         "y": [
          0.5173132034809219,
          0.06518172451087945,
          0.05076414996235451,
          0.09025025996454665,
          0.024680529995909632,
          55.277344729572846,
          38.30538605599318,
          49.008695044506965,
          59.3824595664659,
          41.15825919260616,
          2.393688947355218,
          106.9503717159701,
          74.53676049728553,
          47.96697886390922,
          51.17554208302127,
          1.7079388258738901,
          33.7560836515161,
          68.98831167106162,
          273.0661655503719,
          38.48679511524988,
          0.6617994151942839,
          0.5792590491201396,
          0.6171039361488325,
          0.8232113112658717,
          0.7270559373412111,
          0.5671537472968659,
          0.7538068308519629
         ],
         "yaxis": "y"
        },
        {
         "hovertemplate": "Player=Ben Wallace<br>age=%{x}<br>blk=%{y}<extra></extra>",
         "legendgroup": "Ben Wallace",
         "line": {
          "color": "#EF553B",
          "dash": "solid"
         },
         "marker": {
          "symbol": "circle"
         },
         "mode": "lines",
         "name": "Ben Wallace",
         "orientation": "v",
         "showlegend": true,
         "type": "scatter",
         "x": [
          18,
          19,
          20,
          21,
          22,
          23,
          24,
          25,
          26,
          27,
          28,
          29,
          30,
          31,
          32,
          33,
          34,
          35,
          36,
          37,
          38,
          39,
          40,
          41,
          42,
          43,
          44
         ],
         "xaxis": "x",
         "y": [
          0.4074758263015945,
          0.216425139495628,
          0.06373292747004794,
          0.07512066094874588,
          18.034212827826543,
          76.43962537241403,
          68.3623053264805,
          214.42174363722955,
          146.70406813819514,
          169.62827956072664,
          167.64187141752635,
          128.79067120994236,
          116.82748197048184,
          122.58894165876495,
          56.826207197111636,
          87.7778159174067,
          108.09885585202788,
          174.9196052714671,
          96.79489258720776,
          73.26470335148493,
          0.9128847295025034,
          1.0502101872524647,
          0.9958324384464023,
          0.74788160261534,
          0.6951762766648988,
          0.6344401000180698,
          0.6469811310441572
         ],
         "yaxis": "y"
        },
        {
         "hovertemplate": "Player=Tim Duncan<br>age=%{x}<br>blk=%{y}<extra></extra>",
         "legendgroup": "Tim Duncan",
         "line": {
          "color": "#00cc96",
          "dash": "solid"
         },
         "marker": {
          "symbol": "circle"
         },
         "mode": "lines",
         "name": "Tim Duncan",
         "orientation": "v",
         "showlegend": true,
         "type": "scatter",
         "x": [
          18,
          19,
          20,
          21,
          22,
          23,
          24,
          25,
          26,
          27,
          28,
          29,
          30,
          31,
          32,
          33,
          34,
          35,
          36,
          37,
          38,
          39,
          40,
          41,
          42,
          43,
          44
         ],
         "xaxis": "x",
         "y": [
          0.40770233930761474,
          0.04994925424190828,
          0.03912846759628027,
          197.84290845652606,
          69.20131064784177,
          154.73199626252617,
          101.00322920655441,
          241.9086996253319,
          200.77708813227596,
          88.00208850070852,
          59.82403088673954,
          82.66772582712666,
          54.79514001352657,
          57.68449781758411,
          60.19823617902232,
          91.67487432171482,
          177.17829596533338,
          173.21115404178738,
          483.53141553419243,
          818.4329075337623,
          1519.0894929844712,
          890.4608959827007,
          0.5587790716648894,
          0.7640134608918919,
          0.6727849438061148,
          0.5304915283652051,
          0.6605600748997302
         ],
         "yaxis": "y"
        },
        {
         "hovertemplate": "Player=Samuel Dalembert<br>age=%{x}<br>blk=%{y}<extra></extra>",
         "legendgroup": "Samuel Dalembert",
         "line": {
          "color": "#ab63fa",
          "dash": "solid"
         },
         "marker": {
          "symbol": "circle"
         },
         "mode": "lines",
         "name": "Samuel Dalembert",
         "orientation": "v",
         "showlegend": true,
         "type": "scatter",
         "x": [
          18,
          19,
          20,
          21,
          22,
          23,
          24,
          25,
          26,
          27,
          28,
          29,
          30,
          31,
          32,
          33,
          34,
          35,
          36,
          37,
          38,
          39,
          40,
          41,
          42,
          43,
          44
         ],
         "xaxis": "x",
         "y": [
          0.6737019281861308,
          0.17916678079476675,
          25.695258791470312,
          0.038432304052923666,
          64.35319824977961,
          164.7639870652794,
          237.1544000497384,
          338.6024183895318,
          344.7231777050323,
          166.82605408459588,
          198.07172549037287,
          165.53831760248846,
          107.61648673775665,
          84.59665016926968,
          66.85813477746224,
          38.57168271978479,
          0.05558939341066516,
          0.05894238173561712,
          0.08025176900331561,
          0.1075388087554259,
          0.4713547174444879,
          0.2978834194690189,
          0.4143422266805487,
          0.6069607807655186,
          0.571763944116979,
          0.5632616621581625,
          0.7761784564087749
         ],
         "yaxis": "y"
        },
        {
         "hovertemplate": "Player=Serge Ibaka<br>age=%{x}<br>blk=%{y}<extra></extra>",
         "legendgroup": "Serge Ibaka",
         "line": {
          "color": "#FFA15A",
          "dash": "solid"
         },
         "marker": {
          "symbol": "circle"
         },
         "mode": "lines",
         "name": "Serge Ibaka",
         "orientation": "v",
         "showlegend": true,
         "type": "scatter",
         "x": [
          18,
          19,
          20,
          21,
          22,
          23,
          24,
          25,
          26,
          27,
          28,
          29,
          30,
          31,
          32,
          33,
          34,
          35,
          36,
          37,
          38,
          39,
          40,
          41,
          42,
          43,
          44
         ],
         "xaxis": "x",
         "y": [
          0.5134590642427871,
          0.14417836084816582,
          166.4254675347362,
          66.2030810090986,
          60.1427074042053,
          231.27212210522714,
          319.5482011057492,
          347.79217675812953,
          401.9701002800166,
          247.9930886596771,
          197.4703388260113,
          174.95240201546534,
          136.9017307487823,
          112.23836227154916,
          0.04300299528594715,
          0.0823949595019777,
          0.06308247259017281,
          0.05935683040666631,
          0.06808398038237877,
          0.09159057657782639,
          0.4559257386806612,
          0.25634893190568314,
          0.37809652901455104,
          0.5799707836766471,
          0.5379794240017113,
          0.5159087184850263,
          0.6934718905754481
         ],
         "yaxis": "y"
        },
        {
         "hovertemplate": "Player=Derrick Favors<br>age=%{x}<br>blk=%{y}<extra></extra>",
         "legendgroup": "Derrick Favors",
         "line": {
          "color": "#19d3f3",
          "dash": "solid"
         },
         "marker": {
          "symbol": "circle"
         },
         "mode": "lines",
         "name": "Derrick Favors",
         "orientation": "v",
         "showlegend": true,
         "type": "scatter",
         "x": [
          18,
          19,
          20,
          21,
          22,
          23,
          24,
          25,
          26,
          27,
          28,
          29,
          30,
          31,
          32,
          33,
          34,
          35,
          36,
          37,
          38,
          39,
          40,
          41,
          42,
          43,
          44
         ],
         "xaxis": "x",
         "y": [
          0.22364228536770803,
          748.9856429068219,
          256.8486272828816,
          250.06548420600703,
          728.6229559889762,
          153.9091773024623,
          75.62166499524166,
          246.51902999111903,
          708.4698758489071,
          229.32374497598673,
          192.30879231389744,
          186.5278373171912,
          0.29492436976764325,
          0.26538956048397855,
          0.09466919699763134,
          0.1678089934495124,
          0.335054465339404,
          0.33385380932144515,
          0.13316409851823402,
          0.045728756309586456,
          0.27848195994049957,
          0.3960284857800917,
          0.32233253914290666,
          0.3285655659830964,
          0.29217869654816264,
          0.2930015720940217,
          0.3950567327382483
         ],
         "yaxis": "y"
        }
       ],
       "layout": {
        "legend": {
         "title": {
          "text": "Player"
         },
         "tracegroupgap": 0
        },
        "margin": {
         "t": 60
        },
        "template": {
         "data": {
          "bar": [
           {
            "error_x": {
             "color": "#2a3f5f"
            },
            "error_y": {
             "color": "#2a3f5f"
            },
            "marker": {
             "line": {
              "color": "#E5ECF6",
              "width": 0.5
             },
             "pattern": {
              "fillmode": "overlay",
              "size": 10,
              "solidity": 0.2
             }
            },
            "type": "bar"
           }
          ],
          "barpolar": [
           {
            "marker": {
             "line": {
              "color": "#E5ECF6",
              "width": 0.5
             },
             "pattern": {
              "fillmode": "overlay",
              "size": 10,
              "solidity": 0.2
             }
            },
            "type": "barpolar"
           }
          ],
          "carpet": [
           {
            "aaxis": {
             "endlinecolor": "#2a3f5f",
             "gridcolor": "white",
             "linecolor": "white",
             "minorgridcolor": "white",
             "startlinecolor": "#2a3f5f"
            },
            "baxis": {
             "endlinecolor": "#2a3f5f",
             "gridcolor": "white",
             "linecolor": "white",
             "minorgridcolor": "white",
             "startlinecolor": "#2a3f5f"
            },
            "type": "carpet"
           }
          ],
          "choropleth": [
           {
            "colorbar": {
             "outlinewidth": 0,
             "ticks": ""
            },
            "type": "choropleth"
           }
          ],
          "contour": [
           {
            "colorbar": {
             "outlinewidth": 0,
             "ticks": ""
            },
            "colorscale": [
             [
              0,
              "#0d0887"
             ],
             [
              0.1111111111111111,
              "#46039f"
             ],
             [
              0.2222222222222222,
              "#7201a8"
             ],
             [
              0.3333333333333333,
              "#9c179e"
             ],
             [
              0.4444444444444444,
              "#bd3786"
             ],
             [
              0.5555555555555556,
              "#d8576b"
             ],
             [
              0.6666666666666666,
              "#ed7953"
             ],
             [
              0.7777777777777778,
              "#fb9f3a"
             ],
             [
              0.8888888888888888,
              "#fdca26"
             ],
             [
              1,
              "#f0f921"
             ]
            ],
            "type": "contour"
           }
          ],
          "contourcarpet": [
           {
            "colorbar": {
             "outlinewidth": 0,
             "ticks": ""
            },
            "type": "contourcarpet"
           }
          ],
          "heatmap": [
           {
            "colorbar": {
             "outlinewidth": 0,
             "ticks": ""
            },
            "colorscale": [
             [
              0,
              "#0d0887"
             ],
             [
              0.1111111111111111,
              "#46039f"
             ],
             [
              0.2222222222222222,
              "#7201a8"
             ],
             [
              0.3333333333333333,
              "#9c179e"
             ],
             [
              0.4444444444444444,
              "#bd3786"
             ],
             [
              0.5555555555555556,
              "#d8576b"
             ],
             [
              0.6666666666666666,
              "#ed7953"
             ],
             [
              0.7777777777777778,
              "#fb9f3a"
             ],
             [
              0.8888888888888888,
              "#fdca26"
             ],
             [
              1,
              "#f0f921"
             ]
            ],
            "type": "heatmap"
           }
          ],
          "heatmapgl": [
           {
            "colorbar": {
             "outlinewidth": 0,
             "ticks": ""
            },
            "colorscale": [
             [
              0,
              "#0d0887"
             ],
             [
              0.1111111111111111,
              "#46039f"
             ],
             [
              0.2222222222222222,
              "#7201a8"
             ],
             [
              0.3333333333333333,
              "#9c179e"
             ],
             [
              0.4444444444444444,
              "#bd3786"
             ],
             [
              0.5555555555555556,
              "#d8576b"
             ],
             [
              0.6666666666666666,
              "#ed7953"
             ],
             [
              0.7777777777777778,
              "#fb9f3a"
             ],
             [
              0.8888888888888888,
              "#fdca26"
             ],
             [
              1,
              "#f0f921"
             ]
            ],
            "type": "heatmapgl"
           }
          ],
          "histogram": [
           {
            "marker": {
             "pattern": {
              "fillmode": "overlay",
              "size": 10,
              "solidity": 0.2
             }
            },
            "type": "histogram"
           }
          ],
          "histogram2d": [
           {
            "colorbar": {
             "outlinewidth": 0,
             "ticks": ""
            },
            "colorscale": [
             [
              0,
              "#0d0887"
             ],
             [
              0.1111111111111111,
              "#46039f"
             ],
             [
              0.2222222222222222,
              "#7201a8"
             ],
             [
              0.3333333333333333,
              "#9c179e"
             ],
             [
              0.4444444444444444,
              "#bd3786"
             ],
             [
              0.5555555555555556,
              "#d8576b"
             ],
             [
              0.6666666666666666,
              "#ed7953"
             ],
             [
              0.7777777777777778,
              "#fb9f3a"
             ],
             [
              0.8888888888888888,
              "#fdca26"
             ],
             [
              1,
              "#f0f921"
             ]
            ],
            "type": "histogram2d"
           }
          ],
          "histogram2dcontour": [
           {
            "colorbar": {
             "outlinewidth": 0,
             "ticks": ""
            },
            "colorscale": [
             [
              0,
              "#0d0887"
             ],
             [
              0.1111111111111111,
              "#46039f"
             ],
             [
              0.2222222222222222,
              "#7201a8"
             ],
             [
              0.3333333333333333,
              "#9c179e"
             ],
             [
              0.4444444444444444,
              "#bd3786"
             ],
             [
              0.5555555555555556,
              "#d8576b"
             ],
             [
              0.6666666666666666,
              "#ed7953"
             ],
             [
              0.7777777777777778,
              "#fb9f3a"
             ],
             [
              0.8888888888888888,
              "#fdca26"
             ],
             [
              1,
              "#f0f921"
             ]
            ],
            "type": "histogram2dcontour"
           }
          ],
          "mesh3d": [
           {
            "colorbar": {
             "outlinewidth": 0,
             "ticks": ""
            },
            "type": "mesh3d"
           }
          ],
          "parcoords": [
           {
            "line": {
             "colorbar": {
              "outlinewidth": 0,
              "ticks": ""
             }
            },
            "type": "parcoords"
           }
          ],
          "pie": [
           {
            "automargin": true,
            "type": "pie"
           }
          ],
          "scatter": [
           {
            "fillpattern": {
             "fillmode": "overlay",
             "size": 10,
             "solidity": 0.2
            },
            "type": "scatter"
           }
          ],
          "scatter3d": [
           {
            "line": {
             "colorbar": {
              "outlinewidth": 0,
              "ticks": ""
             }
            },
            "marker": {
             "colorbar": {
              "outlinewidth": 0,
              "ticks": ""
             }
            },
            "type": "scatter3d"
           }
          ],
          "scattercarpet": [
           {
            "marker": {
             "colorbar": {
              "outlinewidth": 0,
              "ticks": ""
             }
            },
            "type": "scattercarpet"
           }
          ],
          "scattergeo": [
           {
            "marker": {
             "colorbar": {
              "outlinewidth": 0,
              "ticks": ""
             }
            },
            "type": "scattergeo"
           }
          ],
          "scattergl": [
           {
            "marker": {
             "colorbar": {
              "outlinewidth": 0,
              "ticks": ""
             }
            },
            "type": "scattergl"
           }
          ],
          "scattermapbox": [
           {
            "marker": {
             "colorbar": {
              "outlinewidth": 0,
              "ticks": ""
             }
            },
            "type": "scattermapbox"
           }
          ],
          "scatterpolar": [
           {
            "marker": {
             "colorbar": {
              "outlinewidth": 0,
              "ticks": ""
             }
            },
            "type": "scatterpolar"
           }
          ],
          "scatterpolargl": [
           {
            "marker": {
             "colorbar": {
              "outlinewidth": 0,
              "ticks": ""
             }
            },
            "type": "scatterpolargl"
           }
          ],
          "scatterternary": [
           {
            "marker": {
             "colorbar": {
              "outlinewidth": 0,
              "ticks": ""
             }
            },
            "type": "scatterternary"
           }
          ],
          "surface": [
           {
            "colorbar": {
             "outlinewidth": 0,
             "ticks": ""
            },
            "colorscale": [
             [
              0,
              "#0d0887"
             ],
             [
              0.1111111111111111,
              "#46039f"
             ],
             [
              0.2222222222222222,
              "#7201a8"
             ],
             [
              0.3333333333333333,
              "#9c179e"
             ],
             [
              0.4444444444444444,
              "#bd3786"
             ],
             [
              0.5555555555555556,
              "#d8576b"
             ],
             [
              0.6666666666666666,
              "#ed7953"
             ],
             [
              0.7777777777777778,
              "#fb9f3a"
             ],
             [
              0.8888888888888888,
              "#fdca26"
             ],
             [
              1,
              "#f0f921"
             ]
            ],
            "type": "surface"
           }
          ],
          "table": [
           {
            "cells": {
             "fill": {
              "color": "#EBF0F8"
             },
             "line": {
              "color": "white"
             }
            },
            "header": {
             "fill": {
              "color": "#C8D4E3"
             },
             "line": {
              "color": "white"
             }
            },
            "type": "table"
           }
          ]
         },
         "layout": {
          "annotationdefaults": {
           "arrowcolor": "#2a3f5f",
           "arrowhead": 0,
           "arrowwidth": 1
          },
          "autotypenumbers": "strict",
          "coloraxis": {
           "colorbar": {
            "outlinewidth": 0,
            "ticks": ""
           }
          },
          "colorscale": {
           "diverging": [
            [
             0,
             "#8e0152"
            ],
            [
             0.1,
             "#c51b7d"
            ],
            [
             0.2,
             "#de77ae"
            ],
            [
             0.3,
             "#f1b6da"
            ],
            [
             0.4,
             "#fde0ef"
            ],
            [
             0.5,
             "#f7f7f7"
            ],
            [
             0.6,
             "#e6f5d0"
            ],
            [
             0.7,
             "#b8e186"
            ],
            [
             0.8,
             "#7fbc41"
            ],
            [
             0.9,
             "#4d9221"
            ],
            [
             1,
             "#276419"
            ]
           ],
           "sequential": [
            [
             0,
             "#0d0887"
            ],
            [
             0.1111111111111111,
             "#46039f"
            ],
            [
             0.2222222222222222,
             "#7201a8"
            ],
            [
             0.3333333333333333,
             "#9c179e"
            ],
            [
             0.4444444444444444,
             "#bd3786"
            ],
            [
             0.5555555555555556,
             "#d8576b"
            ],
            [
             0.6666666666666666,
             "#ed7953"
            ],
            [
             0.7777777777777778,
             "#fb9f3a"
            ],
            [
             0.8888888888888888,
             "#fdca26"
            ],
            [
             1,
             "#f0f921"
            ]
           ],
           "sequentialminus": [
            [
             0,
             "#0d0887"
            ],
            [
             0.1111111111111111,
             "#46039f"
            ],
            [
             0.2222222222222222,
             "#7201a8"
            ],
            [
             0.3333333333333333,
             "#9c179e"
            ],
            [
             0.4444444444444444,
             "#bd3786"
            ],
            [
             0.5555555555555556,
             "#d8576b"
            ],
            [
             0.6666666666666666,
             "#ed7953"
            ],
            [
             0.7777777777777778,
             "#fb9f3a"
            ],
            [
             0.8888888888888888,
             "#fdca26"
            ],
            [
             1,
             "#f0f921"
            ]
           ]
          },
          "colorway": [
           "#636efa",
           "#EF553B",
           "#00cc96",
           "#ab63fa",
           "#FFA15A",
           "#19d3f3",
           "#FF6692",
           "#B6E880",
           "#FF97FF",
           "#FECB52"
          ],
          "font": {
           "color": "#2a3f5f"
          },
          "geo": {
           "bgcolor": "white",
           "lakecolor": "white",
           "landcolor": "#E5ECF6",
           "showlakes": true,
           "showland": true,
           "subunitcolor": "white"
          },
          "hoverlabel": {
           "align": "left"
          },
          "hovermode": "closest",
          "mapbox": {
           "style": "light"
          },
          "paper_bgcolor": "white",
          "plot_bgcolor": "#E5ECF6",
          "polar": {
           "angularaxis": {
            "gridcolor": "white",
            "linecolor": "white",
            "ticks": ""
           },
           "bgcolor": "#E5ECF6",
           "radialaxis": {
            "gridcolor": "white",
            "linecolor": "white",
            "ticks": ""
           }
          },
          "scene": {
           "xaxis": {
            "backgroundcolor": "#E5ECF6",
            "gridcolor": "white",
            "gridwidth": 2,
            "linecolor": "white",
            "showbackground": true,
            "ticks": "",
            "zerolinecolor": "white"
           },
           "yaxis": {
            "backgroundcolor": "#E5ECF6",
            "gridcolor": "white",
            "gridwidth": 2,
            "linecolor": "white",
            "showbackground": true,
            "ticks": "",
            "zerolinecolor": "white"
           },
           "zaxis": {
            "backgroundcolor": "#E5ECF6",
            "gridcolor": "white",
            "gridwidth": 2,
            "linecolor": "white",
            "showbackground": true,
            "ticks": "",
            "zerolinecolor": "white"
           }
          },
          "shapedefaults": {
           "line": {
            "color": "#2a3f5f"
           }
          },
          "ternary": {
           "aaxis": {
            "gridcolor": "white",
            "linecolor": "white",
            "ticks": ""
           },
           "baxis": {
            "gridcolor": "white",
            "linecolor": "white",
            "ticks": ""
           },
           "bgcolor": "#E5ECF6",
           "caxis": {
            "gridcolor": "white",
            "linecolor": "white",
            "ticks": ""
           }
          },
          "title": {
           "x": 0.05
          },
          "xaxis": {
           "automargin": true,
           "gridcolor": "white",
           "linecolor": "white",
           "ticks": "",
           "title": {
            "standoff": 15
           },
           "zerolinecolor": "white",
           "zerolinewidth": 2
          },
          "yaxis": {
           "automargin": true,
           "gridcolor": "white",
           "linecolor": "white",
           "ticks": "",
           "title": {
            "standoff": 15
           },
           "zerolinecolor": "white",
           "zerolinewidth": 2
          }
         }
        },
        "title": {
         "text": "blk over time for 5 neighbors of Tim Duncan"
        },
        "xaxis": {
         "anchor": "y",
         "domain": [
          0,
          1
         ],
         "title": {
          "text": "age"
         }
        },
        "yaxis": {
         "anchor": "x",
         "domain": [
          0,
          1
         ],
         "title": {
          "text": "blk"
         }
        }
       }
      },
      "text/html": [
       "<div>                            <div id=\"69911934-08c7-4d5a-847b-3e99bec9974b\" class=\"plotly-graph-div\" style=\"height:525px; width:100%;\"></div>            <script type=\"text/javascript\">                require([\"plotly\"], function(Plotly) {                    window.PLOTLYENV=window.PLOTLYENV || {};                                    if (document.getElementById(\"69911934-08c7-4d5a-847b-3e99bec9974b\")) {                    Plotly.newPlot(                        \"69911934-08c7-4d5a-847b-3e99bec9974b\",                        [{\"hovertemplate\":\"Player=Theo Ratliff<br>age=%{x}<br>blk=%{y}<extra></extra>\",\"legendgroup\":\"Theo Ratliff\",\"line\":{\"color\":\"#636efa\",\"dash\":\"solid\"},\"marker\":{\"symbol\":\"circle\"},\"mode\":\"lines\",\"name\":\"Theo Ratliff\",\"orientation\":\"v\",\"showlegend\":true,\"x\":[18,19,20,21,22,23,24,25,26,27,28,29,30,31,32,33,34,35,36,37,38,39,40,41,42,43,44],\"xaxis\":\"x\",\"y\":[0.5173132034809219,0.06518172451087945,0.05076414996235451,0.09025025996454665,0.024680529995909632,55.277344729572846,38.30538605599318,49.008695044506965,59.3824595664659,41.15825919260616,2.393688947355218,106.9503717159701,74.53676049728553,47.96697886390922,51.17554208302127,1.7079388258738901,33.7560836515161,68.98831167106162,273.0661655503719,38.48679511524988,0.6617994151942839,0.5792590491201396,0.6171039361488325,0.8232113112658717,0.7270559373412111,0.5671537472968659,0.7538068308519629],\"yaxis\":\"y\",\"type\":\"scatter\"},{\"hovertemplate\":\"Player=Ben Wallace<br>age=%{x}<br>blk=%{y}<extra></extra>\",\"legendgroup\":\"Ben Wallace\",\"line\":{\"color\":\"#EF553B\",\"dash\":\"solid\"},\"marker\":{\"symbol\":\"circle\"},\"mode\":\"lines\",\"name\":\"Ben Wallace\",\"orientation\":\"v\",\"showlegend\":true,\"x\":[18,19,20,21,22,23,24,25,26,27,28,29,30,31,32,33,34,35,36,37,38,39,40,41,42,43,44],\"xaxis\":\"x\",\"y\":[0.4074758263015945,0.216425139495628,0.06373292747004794,0.07512066094874588,18.034212827826543,76.43962537241403,68.3623053264805,214.42174363722955,146.70406813819514,169.62827956072664,167.64187141752635,128.79067120994236,116.82748197048184,122.58894165876495,56.826207197111636,87.7778159174067,108.09885585202788,174.9196052714671,96.79489258720776,73.26470335148493,0.9128847295025034,1.0502101872524647,0.9958324384464023,0.74788160261534,0.6951762766648988,0.6344401000180698,0.6469811310441572],\"yaxis\":\"y\",\"type\":\"scatter\"},{\"hovertemplate\":\"Player=Tim Duncan<br>age=%{x}<br>blk=%{y}<extra></extra>\",\"legendgroup\":\"Tim Duncan\",\"line\":{\"color\":\"#00cc96\",\"dash\":\"solid\"},\"marker\":{\"symbol\":\"circle\"},\"mode\":\"lines\",\"name\":\"Tim Duncan\",\"orientation\":\"v\",\"showlegend\":true,\"x\":[18,19,20,21,22,23,24,25,26,27,28,29,30,31,32,33,34,35,36,37,38,39,40,41,42,43,44],\"xaxis\":\"x\",\"y\":[0.40770233930761474,0.04994925424190828,0.03912846759628027,197.84290845652606,69.20131064784177,154.73199626252617,101.00322920655441,241.9086996253319,200.77708813227596,88.00208850070852,59.82403088673954,82.66772582712666,54.79514001352657,57.68449781758411,60.19823617902232,91.67487432171482,177.17829596533338,173.21115404178738,483.53141553419243,818.4329075337623,1519.0894929844712,890.4608959827007,0.5587790716648894,0.7640134608918919,0.6727849438061148,0.5304915283652051,0.6605600748997302],\"yaxis\":\"y\",\"type\":\"scatter\"},{\"hovertemplate\":\"Player=Samuel Dalembert<br>age=%{x}<br>blk=%{y}<extra></extra>\",\"legendgroup\":\"Samuel Dalembert\",\"line\":{\"color\":\"#ab63fa\",\"dash\":\"solid\"},\"marker\":{\"symbol\":\"circle\"},\"mode\":\"lines\",\"name\":\"Samuel Dalembert\",\"orientation\":\"v\",\"showlegend\":true,\"x\":[18,19,20,21,22,23,24,25,26,27,28,29,30,31,32,33,34,35,36,37,38,39,40,41,42,43,44],\"xaxis\":\"x\",\"y\":[0.6737019281861308,0.17916678079476675,25.695258791470312,0.038432304052923666,64.35319824977961,164.7639870652794,237.1544000497384,338.6024183895318,344.7231777050323,166.82605408459588,198.07172549037287,165.53831760248846,107.61648673775665,84.59665016926968,66.85813477746224,38.57168271978479,0.05558939341066516,0.05894238173561712,0.08025176900331561,0.1075388087554259,0.4713547174444879,0.2978834194690189,0.4143422266805487,0.6069607807655186,0.571763944116979,0.5632616621581625,0.7761784564087749],\"yaxis\":\"y\",\"type\":\"scatter\"},{\"hovertemplate\":\"Player=Serge Ibaka<br>age=%{x}<br>blk=%{y}<extra></extra>\",\"legendgroup\":\"Serge Ibaka\",\"line\":{\"color\":\"#FFA15A\",\"dash\":\"solid\"},\"marker\":{\"symbol\":\"circle\"},\"mode\":\"lines\",\"name\":\"Serge Ibaka\",\"orientation\":\"v\",\"showlegend\":true,\"x\":[18,19,20,21,22,23,24,25,26,27,28,29,30,31,32,33,34,35,36,37,38,39,40,41,42,43,44],\"xaxis\":\"x\",\"y\":[0.5134590642427871,0.14417836084816582,166.4254675347362,66.2030810090986,60.1427074042053,231.27212210522714,319.5482011057492,347.79217675812953,401.9701002800166,247.9930886596771,197.4703388260113,174.95240201546534,136.9017307487823,112.23836227154916,0.04300299528594715,0.0823949595019777,0.06308247259017281,0.05935683040666631,0.06808398038237877,0.09159057657782639,0.4559257386806612,0.25634893190568314,0.37809652901455104,0.5799707836766471,0.5379794240017113,0.5159087184850263,0.6934718905754481],\"yaxis\":\"y\",\"type\":\"scatter\"},{\"hovertemplate\":\"Player=Derrick Favors<br>age=%{x}<br>blk=%{y}<extra></extra>\",\"legendgroup\":\"Derrick Favors\",\"line\":{\"color\":\"#19d3f3\",\"dash\":\"solid\"},\"marker\":{\"symbol\":\"circle\"},\"mode\":\"lines\",\"name\":\"Derrick Favors\",\"orientation\":\"v\",\"showlegend\":true,\"x\":[18,19,20,21,22,23,24,25,26,27,28,29,30,31,32,33,34,35,36,37,38,39,40,41,42,43,44],\"xaxis\":\"x\",\"y\":[0.22364228536770803,748.9856429068219,256.8486272828816,250.06548420600703,728.6229559889762,153.9091773024623,75.62166499524166,246.51902999111903,708.4698758489071,229.32374497598673,192.30879231389744,186.5278373171912,0.29492436976764325,0.26538956048397855,0.09466919699763134,0.1678089934495124,0.335054465339404,0.33385380932144515,0.13316409851823402,0.045728756309586456,0.27848195994049957,0.3960284857800917,0.32233253914290666,0.3285655659830964,0.29217869654816264,0.2930015720940217,0.3950567327382483],\"yaxis\":\"y\",\"type\":\"scatter\"}],                        {\"template\":{\"data\":{\"histogram2dcontour\":[{\"type\":\"histogram2dcontour\",\"colorbar\":{\"outlinewidth\":0,\"ticks\":\"\"},\"colorscale\":[[0.0,\"#0d0887\"],[0.1111111111111111,\"#46039f\"],[0.2222222222222222,\"#7201a8\"],[0.3333333333333333,\"#9c179e\"],[0.4444444444444444,\"#bd3786\"],[0.5555555555555556,\"#d8576b\"],[0.6666666666666666,\"#ed7953\"],[0.7777777777777778,\"#fb9f3a\"],[0.8888888888888888,\"#fdca26\"],[1.0,\"#f0f921\"]]}],\"choropleth\":[{\"type\":\"choropleth\",\"colorbar\":{\"outlinewidth\":0,\"ticks\":\"\"}}],\"histogram2d\":[{\"type\":\"histogram2d\",\"colorbar\":{\"outlinewidth\":0,\"ticks\":\"\"},\"colorscale\":[[0.0,\"#0d0887\"],[0.1111111111111111,\"#46039f\"],[0.2222222222222222,\"#7201a8\"],[0.3333333333333333,\"#9c179e\"],[0.4444444444444444,\"#bd3786\"],[0.5555555555555556,\"#d8576b\"],[0.6666666666666666,\"#ed7953\"],[0.7777777777777778,\"#fb9f3a\"],[0.8888888888888888,\"#fdca26\"],[1.0,\"#f0f921\"]]}],\"heatmap\":[{\"type\":\"heatmap\",\"colorbar\":{\"outlinewidth\":0,\"ticks\":\"\"},\"colorscale\":[[0.0,\"#0d0887\"],[0.1111111111111111,\"#46039f\"],[0.2222222222222222,\"#7201a8\"],[0.3333333333333333,\"#9c179e\"],[0.4444444444444444,\"#bd3786\"],[0.5555555555555556,\"#d8576b\"],[0.6666666666666666,\"#ed7953\"],[0.7777777777777778,\"#fb9f3a\"],[0.8888888888888888,\"#fdca26\"],[1.0,\"#f0f921\"]]}],\"heatmapgl\":[{\"type\":\"heatmapgl\",\"colorbar\":{\"outlinewidth\":0,\"ticks\":\"\"},\"colorscale\":[[0.0,\"#0d0887\"],[0.1111111111111111,\"#46039f\"],[0.2222222222222222,\"#7201a8\"],[0.3333333333333333,\"#9c179e\"],[0.4444444444444444,\"#bd3786\"],[0.5555555555555556,\"#d8576b\"],[0.6666666666666666,\"#ed7953\"],[0.7777777777777778,\"#fb9f3a\"],[0.8888888888888888,\"#fdca26\"],[1.0,\"#f0f921\"]]}],\"contourcarpet\":[{\"type\":\"contourcarpet\",\"colorbar\":{\"outlinewidth\":0,\"ticks\":\"\"}}],\"contour\":[{\"type\":\"contour\",\"colorbar\":{\"outlinewidth\":0,\"ticks\":\"\"},\"colorscale\":[[0.0,\"#0d0887\"],[0.1111111111111111,\"#46039f\"],[0.2222222222222222,\"#7201a8\"],[0.3333333333333333,\"#9c179e\"],[0.4444444444444444,\"#bd3786\"],[0.5555555555555556,\"#d8576b\"],[0.6666666666666666,\"#ed7953\"],[0.7777777777777778,\"#fb9f3a\"],[0.8888888888888888,\"#fdca26\"],[1.0,\"#f0f921\"]]}],\"surface\":[{\"type\":\"surface\",\"colorbar\":{\"outlinewidth\":0,\"ticks\":\"\"},\"colorscale\":[[0.0,\"#0d0887\"],[0.1111111111111111,\"#46039f\"],[0.2222222222222222,\"#7201a8\"],[0.3333333333333333,\"#9c179e\"],[0.4444444444444444,\"#bd3786\"],[0.5555555555555556,\"#d8576b\"],[0.6666666666666666,\"#ed7953\"],[0.7777777777777778,\"#fb9f3a\"],[0.8888888888888888,\"#fdca26\"],[1.0,\"#f0f921\"]]}],\"mesh3d\":[{\"type\":\"mesh3d\",\"colorbar\":{\"outlinewidth\":0,\"ticks\":\"\"}}],\"scatter\":[{\"fillpattern\":{\"fillmode\":\"overlay\",\"size\":10,\"solidity\":0.2},\"type\":\"scatter\"}],\"parcoords\":[{\"type\":\"parcoords\",\"line\":{\"colorbar\":{\"outlinewidth\":0,\"ticks\":\"\"}}}],\"scatterpolargl\":[{\"type\":\"scatterpolargl\",\"marker\":{\"colorbar\":{\"outlinewidth\":0,\"ticks\":\"\"}}}],\"bar\":[{\"error_x\":{\"color\":\"#2a3f5f\"},\"error_y\":{\"color\":\"#2a3f5f\"},\"marker\":{\"line\":{\"color\":\"#E5ECF6\",\"width\":0.5},\"pattern\":{\"fillmode\":\"overlay\",\"size\":10,\"solidity\":0.2}},\"type\":\"bar\"}],\"scattergeo\":[{\"type\":\"scattergeo\",\"marker\":{\"colorbar\":{\"outlinewidth\":0,\"ticks\":\"\"}}}],\"scatterpolar\":[{\"type\":\"scatterpolar\",\"marker\":{\"colorbar\":{\"outlinewidth\":0,\"ticks\":\"\"}}}],\"histogram\":[{\"marker\":{\"pattern\":{\"fillmode\":\"overlay\",\"size\":10,\"solidity\":0.2}},\"type\":\"histogram\"}],\"scattergl\":[{\"type\":\"scattergl\",\"marker\":{\"colorbar\":{\"outlinewidth\":0,\"ticks\":\"\"}}}],\"scatter3d\":[{\"type\":\"scatter3d\",\"line\":{\"colorbar\":{\"outlinewidth\":0,\"ticks\":\"\"}},\"marker\":{\"colorbar\":{\"outlinewidth\":0,\"ticks\":\"\"}}}],\"scattermapbox\":[{\"type\":\"scattermapbox\",\"marker\":{\"colorbar\":{\"outlinewidth\":0,\"ticks\":\"\"}}}],\"scatterternary\":[{\"type\":\"scatterternary\",\"marker\":{\"colorbar\":{\"outlinewidth\":0,\"ticks\":\"\"}}}],\"scattercarpet\":[{\"type\":\"scattercarpet\",\"marker\":{\"colorbar\":{\"outlinewidth\":0,\"ticks\":\"\"}}}],\"carpet\":[{\"aaxis\":{\"endlinecolor\":\"#2a3f5f\",\"gridcolor\":\"white\",\"linecolor\":\"white\",\"minorgridcolor\":\"white\",\"startlinecolor\":\"#2a3f5f\"},\"baxis\":{\"endlinecolor\":\"#2a3f5f\",\"gridcolor\":\"white\",\"linecolor\":\"white\",\"minorgridcolor\":\"white\",\"startlinecolor\":\"#2a3f5f\"},\"type\":\"carpet\"}],\"table\":[{\"cells\":{\"fill\":{\"color\":\"#EBF0F8\"},\"line\":{\"color\":\"white\"}},\"header\":{\"fill\":{\"color\":\"#C8D4E3\"},\"line\":{\"color\":\"white\"}},\"type\":\"table\"}],\"barpolar\":[{\"marker\":{\"line\":{\"color\":\"#E5ECF6\",\"width\":0.5},\"pattern\":{\"fillmode\":\"overlay\",\"size\":10,\"solidity\":0.2}},\"type\":\"barpolar\"}],\"pie\":[{\"automargin\":true,\"type\":\"pie\"}]},\"layout\":{\"autotypenumbers\":\"strict\",\"colorway\":[\"#636efa\",\"#EF553B\",\"#00cc96\",\"#ab63fa\",\"#FFA15A\",\"#19d3f3\",\"#FF6692\",\"#B6E880\",\"#FF97FF\",\"#FECB52\"],\"font\":{\"color\":\"#2a3f5f\"},\"hovermode\":\"closest\",\"hoverlabel\":{\"align\":\"left\"},\"paper_bgcolor\":\"white\",\"plot_bgcolor\":\"#E5ECF6\",\"polar\":{\"bgcolor\":\"#E5ECF6\",\"angularaxis\":{\"gridcolor\":\"white\",\"linecolor\":\"white\",\"ticks\":\"\"},\"radialaxis\":{\"gridcolor\":\"white\",\"linecolor\":\"white\",\"ticks\":\"\"}},\"ternary\":{\"bgcolor\":\"#E5ECF6\",\"aaxis\":{\"gridcolor\":\"white\",\"linecolor\":\"white\",\"ticks\":\"\"},\"baxis\":{\"gridcolor\":\"white\",\"linecolor\":\"white\",\"ticks\":\"\"},\"caxis\":{\"gridcolor\":\"white\",\"linecolor\":\"white\",\"ticks\":\"\"}},\"coloraxis\":{\"colorbar\":{\"outlinewidth\":0,\"ticks\":\"\"}},\"colorscale\":{\"sequential\":[[0.0,\"#0d0887\"],[0.1111111111111111,\"#46039f\"],[0.2222222222222222,\"#7201a8\"],[0.3333333333333333,\"#9c179e\"],[0.4444444444444444,\"#bd3786\"],[0.5555555555555556,\"#d8576b\"],[0.6666666666666666,\"#ed7953\"],[0.7777777777777778,\"#fb9f3a\"],[0.8888888888888888,\"#fdca26\"],[1.0,\"#f0f921\"]],\"sequentialminus\":[[0.0,\"#0d0887\"],[0.1111111111111111,\"#46039f\"],[0.2222222222222222,\"#7201a8\"],[0.3333333333333333,\"#9c179e\"],[0.4444444444444444,\"#bd3786\"],[0.5555555555555556,\"#d8576b\"],[0.6666666666666666,\"#ed7953\"],[0.7777777777777778,\"#fb9f3a\"],[0.8888888888888888,\"#fdca26\"],[1.0,\"#f0f921\"]],\"diverging\":[[0,\"#8e0152\"],[0.1,\"#c51b7d\"],[0.2,\"#de77ae\"],[0.3,\"#f1b6da\"],[0.4,\"#fde0ef\"],[0.5,\"#f7f7f7\"],[0.6,\"#e6f5d0\"],[0.7,\"#b8e186\"],[0.8,\"#7fbc41\"],[0.9,\"#4d9221\"],[1,\"#276419\"]]},\"xaxis\":{\"gridcolor\":\"white\",\"linecolor\":\"white\",\"ticks\":\"\",\"title\":{\"standoff\":15},\"zerolinecolor\":\"white\",\"automargin\":true,\"zerolinewidth\":2},\"yaxis\":{\"gridcolor\":\"white\",\"linecolor\":\"white\",\"ticks\":\"\",\"title\":{\"standoff\":15},\"zerolinecolor\":\"white\",\"automargin\":true,\"zerolinewidth\":2},\"scene\":{\"xaxis\":{\"backgroundcolor\":\"#E5ECF6\",\"gridcolor\":\"white\",\"linecolor\":\"white\",\"showbackground\":true,\"ticks\":\"\",\"zerolinecolor\":\"white\",\"gridwidth\":2},\"yaxis\":{\"backgroundcolor\":\"#E5ECF6\",\"gridcolor\":\"white\",\"linecolor\":\"white\",\"showbackground\":true,\"ticks\":\"\",\"zerolinecolor\":\"white\",\"gridwidth\":2},\"zaxis\":{\"backgroundcolor\":\"#E5ECF6\",\"gridcolor\":\"white\",\"linecolor\":\"white\",\"showbackground\":true,\"ticks\":\"\",\"zerolinecolor\":\"white\",\"gridwidth\":2}},\"shapedefaults\":{\"line\":{\"color\":\"#2a3f5f\"}},\"annotationdefaults\":{\"arrowcolor\":\"#2a3f5f\",\"arrowhead\":0,\"arrowwidth\":1},\"geo\":{\"bgcolor\":\"white\",\"landcolor\":\"#E5ECF6\",\"subunitcolor\":\"white\",\"showland\":true,\"showlakes\":true,\"lakecolor\":\"white\"},\"title\":{\"x\":0.05},\"mapbox\":{\"style\":\"light\"}}},\"xaxis\":{\"anchor\":\"y\",\"domain\":[0.0,1.0],\"title\":{\"text\":\"age\"}},\"yaxis\":{\"anchor\":\"x\",\"domain\":[0.0,1.0],\"title\":{\"text\":\"blk\"}},\"legend\":{\"title\":{\"text\":\"Player\"},\"tracegroupgap\":0},\"margin\":{\"t\":60},\"title\":{\"text\":\"blk over time for 5 neighbors of Tim Duncan\"}},                        {\"responsive\": true}                    ).then(function(){\n",
       "                            \n",
       "var gd = document.getElementById('69911934-08c7-4d5a-847b-3e99bec9974b');\n",
       "var x = new MutationObserver(function (mutations, observer) {{\n",
       "        var display = window.getComputedStyle(gd).display;\n",
       "        if (!display || display === 'none') {{\n",
       "            console.log([gd, 'removed!']);\n",
       "            Plotly.purge(gd);\n",
       "            observer.disconnect();\n",
       "        }}\n",
       "}});\n",
       "\n",
       "// Listen for the removal of the full notebook cells\n",
       "var notebookContainer = gd.closest('#notebook-container');\n",
       "if (notebookContainer) {{\n",
       "    x.observe(notebookContainer, {childList: true});\n",
       "}}\n",
       "\n",
       "// Listen for the clearing of the current output cell\n",
       "var outputEl = gd.closest('.output');\n",
       "if (outputEl) {{\n",
       "    x.observe(outputEl, {childList: true});\n",
       "}}\n",
       "\n",
       "                        })                };                });            </script>        </div>"
      ]
     },
     "metadata": {},
     "output_type": "display_data"
    }
   ],
   "source": [
    "plot_trajectories(blk_preds_df_long, \"Tim Duncan\", 6, \"blk\", experiment_result[\"poisson_blk_rflvm\"][\"X\"][-1,:,:],)"
   ]
  },
  {
   "cell_type": "code",
   "execution_count": 82,
   "metadata": {},
   "outputs": [
    {
     "data": {
      "application/vnd.plotly.v1+json": {
       "config": {
        "plotlyServerURL": "https://plot.ly"
       },
       "data": [
        {
         "hovertemplate": "Player=Theo Ratliff<br>age=%{x}<br>blk=%{y}<extra></extra>",
         "legendgroup": "Theo Ratliff",
         "line": {
          "color": "#636efa",
          "dash": "solid"
         },
         "marker": {
          "symbol": "circle"
         },
         "mode": "lines",
         "name": "Theo Ratliff",
         "orientation": "v",
         "showlegend": true,
         "type": "scatter",
         "x": [
          23,
          24,
          25,
          26,
          27,
          28,
          29,
          30,
          31,
          32,
          33,
          34,
          35,
          36,
          37
         ],
         "xaxis": "x",
         "y": [
          111,
          258,
          149,
          171,
          187,
          8,
          262,
          307,
          158,
          88,
          3,
          37,
          47,
          61,
          5
         ],
         "yaxis": "y"
        },
        {
         "hovertemplate": "Player=Ben Wallace<br>age=%{x}<br>blk=%{y}<extra></extra>",
         "legendgroup": "Ben Wallace",
         "line": {
          "color": "#EF553B",
          "dash": "solid"
         },
         "marker": {
          "symbol": "circle"
         },
         "mode": "lines",
         "name": "Ben Wallace",
         "orientation": "v",
         "showlegend": true,
         "type": "scatter",
         "x": [
          22,
          23,
          24,
          25,
          26,
          27,
          28,
          29,
          30,
          31,
          32,
          33,
          34,
          35,
          36,
          37
         ],
         "xaxis": "x",
         "y": [
          11,
          72,
          90,
          130,
          186,
          278,
          230,
          246,
          176,
          181,
          156,
          117,
          75,
          84,
          54,
          51
         ],
         "yaxis": "y"
        },
        {
         "hovertemplate": "Player=Tim Duncan<br>age=%{x}<br>blk=%{y}<extra></extra>",
         "legendgroup": "Tim Duncan",
         "line": {
          "color": "#00cc96",
          "dash": "solid"
         },
         "marker": {
          "symbol": "circle"
         },
         "mode": "lines",
         "name": "Tim Duncan",
         "orientation": "v",
         "showlegend": true,
         "type": "scatter",
         "x": [
          21,
          22,
          23,
          24,
          25,
          26,
          27,
          28,
          29,
          30,
          31,
          32,
          33,
          34,
          35,
          36,
          37,
          38,
          39
         ],
         "xaxis": "x",
         "y": [
          206,
          126,
          165,
          192,
          203,
          237,
          185,
          174,
          162,
          190,
          152,
          126,
          117,
          146,
          88,
          183,
          139,
          151,
          78
         ],
         "yaxis": "y"
        },
        {
         "hovertemplate": "Player=Samuel Dalembert<br>age=%{x}<br>blk=%{y}<extra></extra>",
         "legendgroup": "Samuel Dalembert",
         "line": {
          "color": "#ab63fa",
          "dash": "solid"
         },
         "marker": {
          "symbol": "circle"
         },
         "mode": "lines",
         "name": "Samuel Dalembert",
         "orientation": "v",
         "showlegend": true,
         "type": "scatter",
         "x": [
          20,
          22,
          23,
          24,
          25,
          26,
          27,
          28,
          29,
          30,
          31,
          32,
          33
         ],
         "xaxis": "x",
         "y": [
          13,
          189,
          121,
          160,
          159,
          192,
          146,
          151,
          116,
          111,
          53,
          94,
          41
         ],
         "yaxis": "y"
        },
        {
         "hovertemplate": "Player=Serge Ibaka<br>age=%{x}<br>blk=%{y}<extra></extra>",
         "legendgroup": "Serge Ibaka",
         "line": {
          "color": "#FFA15A",
          "dash": "solid"
         },
         "marker": {
          "symbol": "circle"
         },
         "mode": "lines",
         "name": "Serge Ibaka",
         "orientation": "v",
         "showlegend": true,
         "type": "scatter",
         "x": [
          20,
          21,
          22,
          23,
          24,
          25,
          26,
          27,
          28,
          29,
          30,
          31
         ],
         "xaxis": "x",
         "y": [
          97,
          198,
          241,
          242,
          219,
          155,
          148,
          124,
          99,
          103,
          46,
          47
         ],
         "yaxis": "y"
        },
        {
         "hovertemplate": "Player=Derrick Favors<br>age=%{x}<br>blk=%{y}<extra></extra>",
         "legendgroup": "Derrick Favors",
         "line": {
          "color": "#19d3f3",
          "dash": "solid"
         },
         "marker": {
          "symbol": "circle"
         },
         "mode": "lines",
         "name": "Derrick Favors",
         "orientation": "v",
         "showlegend": true,
         "type": "scatter",
         "x": [
          19,
          20,
          21,
          22,
          23,
          24,
          25,
          26,
          27,
          28,
          29
         ],
         "xaxis": "x",
         "y": [
          68,
          65,
          130,
          108,
          123,
          91,
          40,
          82,
          106,
          46,
          68
         ],
         "yaxis": "y"
        }
       ],
       "layout": {
        "legend": {
         "title": {
          "text": "Player"
         },
         "tracegroupgap": 0
        },
        "margin": {
         "t": 60
        },
        "template": {
         "data": {
          "bar": [
           {
            "error_x": {
             "color": "#2a3f5f"
            },
            "error_y": {
             "color": "#2a3f5f"
            },
            "marker": {
             "line": {
              "color": "#E5ECF6",
              "width": 0.5
             },
             "pattern": {
              "fillmode": "overlay",
              "size": 10,
              "solidity": 0.2
             }
            },
            "type": "bar"
           }
          ],
          "barpolar": [
           {
            "marker": {
             "line": {
              "color": "#E5ECF6",
              "width": 0.5
             },
             "pattern": {
              "fillmode": "overlay",
              "size": 10,
              "solidity": 0.2
             }
            },
            "type": "barpolar"
           }
          ],
          "carpet": [
           {
            "aaxis": {
             "endlinecolor": "#2a3f5f",
             "gridcolor": "white",
             "linecolor": "white",
             "minorgridcolor": "white",
             "startlinecolor": "#2a3f5f"
            },
            "baxis": {
             "endlinecolor": "#2a3f5f",
             "gridcolor": "white",
             "linecolor": "white",
             "minorgridcolor": "white",
             "startlinecolor": "#2a3f5f"
            },
            "type": "carpet"
           }
          ],
          "choropleth": [
           {
            "colorbar": {
             "outlinewidth": 0,
             "ticks": ""
            },
            "type": "choropleth"
           }
          ],
          "contour": [
           {
            "colorbar": {
             "outlinewidth": 0,
             "ticks": ""
            },
            "colorscale": [
             [
              0,
              "#0d0887"
             ],
             [
              0.1111111111111111,
              "#46039f"
             ],
             [
              0.2222222222222222,
              "#7201a8"
             ],
             [
              0.3333333333333333,
              "#9c179e"
             ],
             [
              0.4444444444444444,
              "#bd3786"
             ],
             [
              0.5555555555555556,
              "#d8576b"
             ],
             [
              0.6666666666666666,
              "#ed7953"
             ],
             [
              0.7777777777777778,
              "#fb9f3a"
             ],
             [
              0.8888888888888888,
              "#fdca26"
             ],
             [
              1,
              "#f0f921"
             ]
            ],
            "type": "contour"
           }
          ],
          "contourcarpet": [
           {
            "colorbar": {
             "outlinewidth": 0,
             "ticks": ""
            },
            "type": "contourcarpet"
           }
          ],
          "heatmap": [
           {
            "colorbar": {
             "outlinewidth": 0,
             "ticks": ""
            },
            "colorscale": [
             [
              0,
              "#0d0887"
             ],
             [
              0.1111111111111111,
              "#46039f"
             ],
             [
              0.2222222222222222,
              "#7201a8"
             ],
             [
              0.3333333333333333,
              "#9c179e"
             ],
             [
              0.4444444444444444,
              "#bd3786"
             ],
             [
              0.5555555555555556,
              "#d8576b"
             ],
             [
              0.6666666666666666,
              "#ed7953"
             ],
             [
              0.7777777777777778,
              "#fb9f3a"
             ],
             [
              0.8888888888888888,
              "#fdca26"
             ],
             [
              1,
              "#f0f921"
             ]
            ],
            "type": "heatmap"
           }
          ],
          "heatmapgl": [
           {
            "colorbar": {
             "outlinewidth": 0,
             "ticks": ""
            },
            "colorscale": [
             [
              0,
              "#0d0887"
             ],
             [
              0.1111111111111111,
              "#46039f"
             ],
             [
              0.2222222222222222,
              "#7201a8"
             ],
             [
              0.3333333333333333,
              "#9c179e"
             ],
             [
              0.4444444444444444,
              "#bd3786"
             ],
             [
              0.5555555555555556,
              "#d8576b"
             ],
             [
              0.6666666666666666,
              "#ed7953"
             ],
             [
              0.7777777777777778,
              "#fb9f3a"
             ],
             [
              0.8888888888888888,
              "#fdca26"
             ],
             [
              1,
              "#f0f921"
             ]
            ],
            "type": "heatmapgl"
           }
          ],
          "histogram": [
           {
            "marker": {
             "pattern": {
              "fillmode": "overlay",
              "size": 10,
              "solidity": 0.2
             }
            },
            "type": "histogram"
           }
          ],
          "histogram2d": [
           {
            "colorbar": {
             "outlinewidth": 0,
             "ticks": ""
            },
            "colorscale": [
             [
              0,
              "#0d0887"
             ],
             [
              0.1111111111111111,
              "#46039f"
             ],
             [
              0.2222222222222222,
              "#7201a8"
             ],
             [
              0.3333333333333333,
              "#9c179e"
             ],
             [
              0.4444444444444444,
              "#bd3786"
             ],
             [
              0.5555555555555556,
              "#d8576b"
             ],
             [
              0.6666666666666666,
              "#ed7953"
             ],
             [
              0.7777777777777778,
              "#fb9f3a"
             ],
             [
              0.8888888888888888,
              "#fdca26"
             ],
             [
              1,
              "#f0f921"
             ]
            ],
            "type": "histogram2d"
           }
          ],
          "histogram2dcontour": [
           {
            "colorbar": {
             "outlinewidth": 0,
             "ticks": ""
            },
            "colorscale": [
             [
              0,
              "#0d0887"
             ],
             [
              0.1111111111111111,
              "#46039f"
             ],
             [
              0.2222222222222222,
              "#7201a8"
             ],
             [
              0.3333333333333333,
              "#9c179e"
             ],
             [
              0.4444444444444444,
              "#bd3786"
             ],
             [
              0.5555555555555556,
              "#d8576b"
             ],
             [
              0.6666666666666666,
              "#ed7953"
             ],
             [
              0.7777777777777778,
              "#fb9f3a"
             ],
             [
              0.8888888888888888,
              "#fdca26"
             ],
             [
              1,
              "#f0f921"
             ]
            ],
            "type": "histogram2dcontour"
           }
          ],
          "mesh3d": [
           {
            "colorbar": {
             "outlinewidth": 0,
             "ticks": ""
            },
            "type": "mesh3d"
           }
          ],
          "parcoords": [
           {
            "line": {
             "colorbar": {
              "outlinewidth": 0,
              "ticks": ""
             }
            },
            "type": "parcoords"
           }
          ],
          "pie": [
           {
            "automargin": true,
            "type": "pie"
           }
          ],
          "scatter": [
           {
            "fillpattern": {
             "fillmode": "overlay",
             "size": 10,
             "solidity": 0.2
            },
            "type": "scatter"
           }
          ],
          "scatter3d": [
           {
            "line": {
             "colorbar": {
              "outlinewidth": 0,
              "ticks": ""
             }
            },
            "marker": {
             "colorbar": {
              "outlinewidth": 0,
              "ticks": ""
             }
            },
            "type": "scatter3d"
           }
          ],
          "scattercarpet": [
           {
            "marker": {
             "colorbar": {
              "outlinewidth": 0,
              "ticks": ""
             }
            },
            "type": "scattercarpet"
           }
          ],
          "scattergeo": [
           {
            "marker": {
             "colorbar": {
              "outlinewidth": 0,
              "ticks": ""
             }
            },
            "type": "scattergeo"
           }
          ],
          "scattergl": [
           {
            "marker": {
             "colorbar": {
              "outlinewidth": 0,
              "ticks": ""
             }
            },
            "type": "scattergl"
           }
          ],
          "scattermapbox": [
           {
            "marker": {
             "colorbar": {
              "outlinewidth": 0,
              "ticks": ""
             }
            },
            "type": "scattermapbox"
           }
          ],
          "scatterpolar": [
           {
            "marker": {
             "colorbar": {
              "outlinewidth": 0,
              "ticks": ""
             }
            },
            "type": "scatterpolar"
           }
          ],
          "scatterpolargl": [
           {
            "marker": {
             "colorbar": {
              "outlinewidth": 0,
              "ticks": ""
             }
            },
            "type": "scatterpolargl"
           }
          ],
          "scatterternary": [
           {
            "marker": {
             "colorbar": {
              "outlinewidth": 0,
              "ticks": ""
             }
            },
            "type": "scatterternary"
           }
          ],
          "surface": [
           {
            "colorbar": {
             "outlinewidth": 0,
             "ticks": ""
            },
            "colorscale": [
             [
              0,
              "#0d0887"
             ],
             [
              0.1111111111111111,
              "#46039f"
             ],
             [
              0.2222222222222222,
              "#7201a8"
             ],
             [
              0.3333333333333333,
              "#9c179e"
             ],
             [
              0.4444444444444444,
              "#bd3786"
             ],
             [
              0.5555555555555556,
              "#d8576b"
             ],
             [
              0.6666666666666666,
              "#ed7953"
             ],
             [
              0.7777777777777778,
              "#fb9f3a"
             ],
             [
              0.8888888888888888,
              "#fdca26"
             ],
             [
              1,
              "#f0f921"
             ]
            ],
            "type": "surface"
           }
          ],
          "table": [
           {
            "cells": {
             "fill": {
              "color": "#EBF0F8"
             },
             "line": {
              "color": "white"
             }
            },
            "header": {
             "fill": {
              "color": "#C8D4E3"
             },
             "line": {
              "color": "white"
             }
            },
            "type": "table"
           }
          ]
         },
         "layout": {
          "annotationdefaults": {
           "arrowcolor": "#2a3f5f",
           "arrowhead": 0,
           "arrowwidth": 1
          },
          "autotypenumbers": "strict",
          "coloraxis": {
           "colorbar": {
            "outlinewidth": 0,
            "ticks": ""
           }
          },
          "colorscale": {
           "diverging": [
            [
             0,
             "#8e0152"
            ],
            [
             0.1,
             "#c51b7d"
            ],
            [
             0.2,
             "#de77ae"
            ],
            [
             0.3,
             "#f1b6da"
            ],
            [
             0.4,
             "#fde0ef"
            ],
            [
             0.5,
             "#f7f7f7"
            ],
            [
             0.6,
             "#e6f5d0"
            ],
            [
             0.7,
             "#b8e186"
            ],
            [
             0.8,
             "#7fbc41"
            ],
            [
             0.9,
             "#4d9221"
            ],
            [
             1,
             "#276419"
            ]
           ],
           "sequential": [
            [
             0,
             "#0d0887"
            ],
            [
             0.1111111111111111,
             "#46039f"
            ],
            [
             0.2222222222222222,
             "#7201a8"
            ],
            [
             0.3333333333333333,
             "#9c179e"
            ],
            [
             0.4444444444444444,
             "#bd3786"
            ],
            [
             0.5555555555555556,
             "#d8576b"
            ],
            [
             0.6666666666666666,
             "#ed7953"
            ],
            [
             0.7777777777777778,
             "#fb9f3a"
            ],
            [
             0.8888888888888888,
             "#fdca26"
            ],
            [
             1,
             "#f0f921"
            ]
           ],
           "sequentialminus": [
            [
             0,
             "#0d0887"
            ],
            [
             0.1111111111111111,
             "#46039f"
            ],
            [
             0.2222222222222222,
             "#7201a8"
            ],
            [
             0.3333333333333333,
             "#9c179e"
            ],
            [
             0.4444444444444444,
             "#bd3786"
            ],
            [
             0.5555555555555556,
             "#d8576b"
            ],
            [
             0.6666666666666666,
             "#ed7953"
            ],
            [
             0.7777777777777778,
             "#fb9f3a"
            ],
            [
             0.8888888888888888,
             "#fdca26"
            ],
            [
             1,
             "#f0f921"
            ]
           ]
          },
          "colorway": [
           "#636efa",
           "#EF553B",
           "#00cc96",
           "#ab63fa",
           "#FFA15A",
           "#19d3f3",
           "#FF6692",
           "#B6E880",
           "#FF97FF",
           "#FECB52"
          ],
          "font": {
           "color": "#2a3f5f"
          },
          "geo": {
           "bgcolor": "white",
           "lakecolor": "white",
           "landcolor": "#E5ECF6",
           "showlakes": true,
           "showland": true,
           "subunitcolor": "white"
          },
          "hoverlabel": {
           "align": "left"
          },
          "hovermode": "closest",
          "mapbox": {
           "style": "light"
          },
          "paper_bgcolor": "white",
          "plot_bgcolor": "#E5ECF6",
          "polar": {
           "angularaxis": {
            "gridcolor": "white",
            "linecolor": "white",
            "ticks": ""
           },
           "bgcolor": "#E5ECF6",
           "radialaxis": {
            "gridcolor": "white",
            "linecolor": "white",
            "ticks": ""
           }
          },
          "scene": {
           "xaxis": {
            "backgroundcolor": "#E5ECF6",
            "gridcolor": "white",
            "gridwidth": 2,
            "linecolor": "white",
            "showbackground": true,
            "ticks": "",
            "zerolinecolor": "white"
           },
           "yaxis": {
            "backgroundcolor": "#E5ECF6",
            "gridcolor": "white",
            "gridwidth": 2,
            "linecolor": "white",
            "showbackground": true,
            "ticks": "",
            "zerolinecolor": "white"
           },
           "zaxis": {
            "backgroundcolor": "#E5ECF6",
            "gridcolor": "white",
            "gridwidth": 2,
            "linecolor": "white",
            "showbackground": true,
            "ticks": "",
            "zerolinecolor": "white"
           }
          },
          "shapedefaults": {
           "line": {
            "color": "#2a3f5f"
           }
          },
          "ternary": {
           "aaxis": {
            "gridcolor": "white",
            "linecolor": "white",
            "ticks": ""
           },
           "baxis": {
            "gridcolor": "white",
            "linecolor": "white",
            "ticks": ""
           },
           "bgcolor": "#E5ECF6",
           "caxis": {
            "gridcolor": "white",
            "linecolor": "white",
            "ticks": ""
           }
          },
          "title": {
           "x": 0.05
          },
          "xaxis": {
           "automargin": true,
           "gridcolor": "white",
           "linecolor": "white",
           "ticks": "",
           "title": {
            "standoff": 15
           },
           "zerolinecolor": "white",
           "zerolinewidth": 2
          },
          "yaxis": {
           "automargin": true,
           "gridcolor": "white",
           "linecolor": "white",
           "ticks": "",
           "title": {
            "standoff": 15
           },
           "zerolinecolor": "white",
           "zerolinewidth": 2
          }
         }
        },
        "title": {
         "text": "blk over time for 5 neighbors of Tim Duncan"
        },
        "xaxis": {
         "anchor": "y",
         "domain": [
          0,
          1
         ],
         "title": {
          "text": "age"
         }
        },
        "yaxis": {
         "anchor": "x",
         "domain": [
          0,
          1
         ],
         "title": {
          "text": "blk"
         }
        }
       }
      },
      "text/html": [
       "<div>                            <div id=\"3ff21ef2-2e29-45a8-87b5-db21142f0ef1\" class=\"plotly-graph-div\" style=\"height:525px; width:100%;\"></div>            <script type=\"text/javascript\">                require([\"plotly\"], function(Plotly) {                    window.PLOTLYENV=window.PLOTLYENV || {};                                    if (document.getElementById(\"3ff21ef2-2e29-45a8-87b5-db21142f0ef1\")) {                    Plotly.newPlot(                        \"3ff21ef2-2e29-45a8-87b5-db21142f0ef1\",                        [{\"hovertemplate\":\"Player=Theo Ratliff<br>age=%{x}<br>blk=%{y}<extra></extra>\",\"legendgroup\":\"Theo Ratliff\",\"line\":{\"color\":\"#636efa\",\"dash\":\"solid\"},\"marker\":{\"symbol\":\"circle\"},\"mode\":\"lines\",\"name\":\"Theo Ratliff\",\"orientation\":\"v\",\"showlegend\":true,\"x\":[23,24,25,26,27,28,29,30,31,32,33,34,35,36,37],\"xaxis\":\"x\",\"y\":[111,258,149,171,187,8,262,307,158,88,3,37,47,61,5],\"yaxis\":\"y\",\"type\":\"scatter\"},{\"hovertemplate\":\"Player=Ben Wallace<br>age=%{x}<br>blk=%{y}<extra></extra>\",\"legendgroup\":\"Ben Wallace\",\"line\":{\"color\":\"#EF553B\",\"dash\":\"solid\"},\"marker\":{\"symbol\":\"circle\"},\"mode\":\"lines\",\"name\":\"Ben Wallace\",\"orientation\":\"v\",\"showlegend\":true,\"x\":[22,23,24,25,26,27,28,29,30,31,32,33,34,35,36,37],\"xaxis\":\"x\",\"y\":[11,72,90,130,186,278,230,246,176,181,156,117,75,84,54,51],\"yaxis\":\"y\",\"type\":\"scatter\"},{\"hovertemplate\":\"Player=Tim Duncan<br>age=%{x}<br>blk=%{y}<extra></extra>\",\"legendgroup\":\"Tim Duncan\",\"line\":{\"color\":\"#00cc96\",\"dash\":\"solid\"},\"marker\":{\"symbol\":\"circle\"},\"mode\":\"lines\",\"name\":\"Tim Duncan\",\"orientation\":\"v\",\"showlegend\":true,\"x\":[21,22,23,24,25,26,27,28,29,30,31,32,33,34,35,36,37,38,39],\"xaxis\":\"x\",\"y\":[206,126,165,192,203,237,185,174,162,190,152,126,117,146,88,183,139,151,78],\"yaxis\":\"y\",\"type\":\"scatter\"},{\"hovertemplate\":\"Player=Samuel Dalembert<br>age=%{x}<br>blk=%{y}<extra></extra>\",\"legendgroup\":\"Samuel Dalembert\",\"line\":{\"color\":\"#ab63fa\",\"dash\":\"solid\"},\"marker\":{\"symbol\":\"circle\"},\"mode\":\"lines\",\"name\":\"Samuel Dalembert\",\"orientation\":\"v\",\"showlegend\":true,\"x\":[20,22,23,24,25,26,27,28,29,30,31,32,33],\"xaxis\":\"x\",\"y\":[13,189,121,160,159,192,146,151,116,111,53,94,41],\"yaxis\":\"y\",\"type\":\"scatter\"},{\"hovertemplate\":\"Player=Serge Ibaka<br>age=%{x}<br>blk=%{y}<extra></extra>\",\"legendgroup\":\"Serge Ibaka\",\"line\":{\"color\":\"#FFA15A\",\"dash\":\"solid\"},\"marker\":{\"symbol\":\"circle\"},\"mode\":\"lines\",\"name\":\"Serge Ibaka\",\"orientation\":\"v\",\"showlegend\":true,\"x\":[20,21,22,23,24,25,26,27,28,29,30,31],\"xaxis\":\"x\",\"y\":[97,198,241,242,219,155,148,124,99,103,46,47],\"yaxis\":\"y\",\"type\":\"scatter\"},{\"hovertemplate\":\"Player=Derrick Favors<br>age=%{x}<br>blk=%{y}<extra></extra>\",\"legendgroup\":\"Derrick Favors\",\"line\":{\"color\":\"#19d3f3\",\"dash\":\"solid\"},\"marker\":{\"symbol\":\"circle\"},\"mode\":\"lines\",\"name\":\"Derrick Favors\",\"orientation\":\"v\",\"showlegend\":true,\"x\":[19,20,21,22,23,24,25,26,27,28,29],\"xaxis\":\"x\",\"y\":[68,65,130,108,123,91,40,82,106,46,68],\"yaxis\":\"y\",\"type\":\"scatter\"}],                        {\"template\":{\"data\":{\"histogram2dcontour\":[{\"type\":\"histogram2dcontour\",\"colorbar\":{\"outlinewidth\":0,\"ticks\":\"\"},\"colorscale\":[[0.0,\"#0d0887\"],[0.1111111111111111,\"#46039f\"],[0.2222222222222222,\"#7201a8\"],[0.3333333333333333,\"#9c179e\"],[0.4444444444444444,\"#bd3786\"],[0.5555555555555556,\"#d8576b\"],[0.6666666666666666,\"#ed7953\"],[0.7777777777777778,\"#fb9f3a\"],[0.8888888888888888,\"#fdca26\"],[1.0,\"#f0f921\"]]}],\"choropleth\":[{\"type\":\"choropleth\",\"colorbar\":{\"outlinewidth\":0,\"ticks\":\"\"}}],\"histogram2d\":[{\"type\":\"histogram2d\",\"colorbar\":{\"outlinewidth\":0,\"ticks\":\"\"},\"colorscale\":[[0.0,\"#0d0887\"],[0.1111111111111111,\"#46039f\"],[0.2222222222222222,\"#7201a8\"],[0.3333333333333333,\"#9c179e\"],[0.4444444444444444,\"#bd3786\"],[0.5555555555555556,\"#d8576b\"],[0.6666666666666666,\"#ed7953\"],[0.7777777777777778,\"#fb9f3a\"],[0.8888888888888888,\"#fdca26\"],[1.0,\"#f0f921\"]]}],\"heatmap\":[{\"type\":\"heatmap\",\"colorbar\":{\"outlinewidth\":0,\"ticks\":\"\"},\"colorscale\":[[0.0,\"#0d0887\"],[0.1111111111111111,\"#46039f\"],[0.2222222222222222,\"#7201a8\"],[0.3333333333333333,\"#9c179e\"],[0.4444444444444444,\"#bd3786\"],[0.5555555555555556,\"#d8576b\"],[0.6666666666666666,\"#ed7953\"],[0.7777777777777778,\"#fb9f3a\"],[0.8888888888888888,\"#fdca26\"],[1.0,\"#f0f921\"]]}],\"heatmapgl\":[{\"type\":\"heatmapgl\",\"colorbar\":{\"outlinewidth\":0,\"ticks\":\"\"},\"colorscale\":[[0.0,\"#0d0887\"],[0.1111111111111111,\"#46039f\"],[0.2222222222222222,\"#7201a8\"],[0.3333333333333333,\"#9c179e\"],[0.4444444444444444,\"#bd3786\"],[0.5555555555555556,\"#d8576b\"],[0.6666666666666666,\"#ed7953\"],[0.7777777777777778,\"#fb9f3a\"],[0.8888888888888888,\"#fdca26\"],[1.0,\"#f0f921\"]]}],\"contourcarpet\":[{\"type\":\"contourcarpet\",\"colorbar\":{\"outlinewidth\":0,\"ticks\":\"\"}}],\"contour\":[{\"type\":\"contour\",\"colorbar\":{\"outlinewidth\":0,\"ticks\":\"\"},\"colorscale\":[[0.0,\"#0d0887\"],[0.1111111111111111,\"#46039f\"],[0.2222222222222222,\"#7201a8\"],[0.3333333333333333,\"#9c179e\"],[0.4444444444444444,\"#bd3786\"],[0.5555555555555556,\"#d8576b\"],[0.6666666666666666,\"#ed7953\"],[0.7777777777777778,\"#fb9f3a\"],[0.8888888888888888,\"#fdca26\"],[1.0,\"#f0f921\"]]}],\"surface\":[{\"type\":\"surface\",\"colorbar\":{\"outlinewidth\":0,\"ticks\":\"\"},\"colorscale\":[[0.0,\"#0d0887\"],[0.1111111111111111,\"#46039f\"],[0.2222222222222222,\"#7201a8\"],[0.3333333333333333,\"#9c179e\"],[0.4444444444444444,\"#bd3786\"],[0.5555555555555556,\"#d8576b\"],[0.6666666666666666,\"#ed7953\"],[0.7777777777777778,\"#fb9f3a\"],[0.8888888888888888,\"#fdca26\"],[1.0,\"#f0f921\"]]}],\"mesh3d\":[{\"type\":\"mesh3d\",\"colorbar\":{\"outlinewidth\":0,\"ticks\":\"\"}}],\"scatter\":[{\"fillpattern\":{\"fillmode\":\"overlay\",\"size\":10,\"solidity\":0.2},\"type\":\"scatter\"}],\"parcoords\":[{\"type\":\"parcoords\",\"line\":{\"colorbar\":{\"outlinewidth\":0,\"ticks\":\"\"}}}],\"scatterpolargl\":[{\"type\":\"scatterpolargl\",\"marker\":{\"colorbar\":{\"outlinewidth\":0,\"ticks\":\"\"}}}],\"bar\":[{\"error_x\":{\"color\":\"#2a3f5f\"},\"error_y\":{\"color\":\"#2a3f5f\"},\"marker\":{\"line\":{\"color\":\"#E5ECF6\",\"width\":0.5},\"pattern\":{\"fillmode\":\"overlay\",\"size\":10,\"solidity\":0.2}},\"type\":\"bar\"}],\"scattergeo\":[{\"type\":\"scattergeo\",\"marker\":{\"colorbar\":{\"outlinewidth\":0,\"ticks\":\"\"}}}],\"scatterpolar\":[{\"type\":\"scatterpolar\",\"marker\":{\"colorbar\":{\"outlinewidth\":0,\"ticks\":\"\"}}}],\"histogram\":[{\"marker\":{\"pattern\":{\"fillmode\":\"overlay\",\"size\":10,\"solidity\":0.2}},\"type\":\"histogram\"}],\"scattergl\":[{\"type\":\"scattergl\",\"marker\":{\"colorbar\":{\"outlinewidth\":0,\"ticks\":\"\"}}}],\"scatter3d\":[{\"type\":\"scatter3d\",\"line\":{\"colorbar\":{\"outlinewidth\":0,\"ticks\":\"\"}},\"marker\":{\"colorbar\":{\"outlinewidth\":0,\"ticks\":\"\"}}}],\"scattermapbox\":[{\"type\":\"scattermapbox\",\"marker\":{\"colorbar\":{\"outlinewidth\":0,\"ticks\":\"\"}}}],\"scatterternary\":[{\"type\":\"scatterternary\",\"marker\":{\"colorbar\":{\"outlinewidth\":0,\"ticks\":\"\"}}}],\"scattercarpet\":[{\"type\":\"scattercarpet\",\"marker\":{\"colorbar\":{\"outlinewidth\":0,\"ticks\":\"\"}}}],\"carpet\":[{\"aaxis\":{\"endlinecolor\":\"#2a3f5f\",\"gridcolor\":\"white\",\"linecolor\":\"white\",\"minorgridcolor\":\"white\",\"startlinecolor\":\"#2a3f5f\"},\"baxis\":{\"endlinecolor\":\"#2a3f5f\",\"gridcolor\":\"white\",\"linecolor\":\"white\",\"minorgridcolor\":\"white\",\"startlinecolor\":\"#2a3f5f\"},\"type\":\"carpet\"}],\"table\":[{\"cells\":{\"fill\":{\"color\":\"#EBF0F8\"},\"line\":{\"color\":\"white\"}},\"header\":{\"fill\":{\"color\":\"#C8D4E3\"},\"line\":{\"color\":\"white\"}},\"type\":\"table\"}],\"barpolar\":[{\"marker\":{\"line\":{\"color\":\"#E5ECF6\",\"width\":0.5},\"pattern\":{\"fillmode\":\"overlay\",\"size\":10,\"solidity\":0.2}},\"type\":\"barpolar\"}],\"pie\":[{\"automargin\":true,\"type\":\"pie\"}]},\"layout\":{\"autotypenumbers\":\"strict\",\"colorway\":[\"#636efa\",\"#EF553B\",\"#00cc96\",\"#ab63fa\",\"#FFA15A\",\"#19d3f3\",\"#FF6692\",\"#B6E880\",\"#FF97FF\",\"#FECB52\"],\"font\":{\"color\":\"#2a3f5f\"},\"hovermode\":\"closest\",\"hoverlabel\":{\"align\":\"left\"},\"paper_bgcolor\":\"white\",\"plot_bgcolor\":\"#E5ECF6\",\"polar\":{\"bgcolor\":\"#E5ECF6\",\"angularaxis\":{\"gridcolor\":\"white\",\"linecolor\":\"white\",\"ticks\":\"\"},\"radialaxis\":{\"gridcolor\":\"white\",\"linecolor\":\"white\",\"ticks\":\"\"}},\"ternary\":{\"bgcolor\":\"#E5ECF6\",\"aaxis\":{\"gridcolor\":\"white\",\"linecolor\":\"white\",\"ticks\":\"\"},\"baxis\":{\"gridcolor\":\"white\",\"linecolor\":\"white\",\"ticks\":\"\"},\"caxis\":{\"gridcolor\":\"white\",\"linecolor\":\"white\",\"ticks\":\"\"}},\"coloraxis\":{\"colorbar\":{\"outlinewidth\":0,\"ticks\":\"\"}},\"colorscale\":{\"sequential\":[[0.0,\"#0d0887\"],[0.1111111111111111,\"#46039f\"],[0.2222222222222222,\"#7201a8\"],[0.3333333333333333,\"#9c179e\"],[0.4444444444444444,\"#bd3786\"],[0.5555555555555556,\"#d8576b\"],[0.6666666666666666,\"#ed7953\"],[0.7777777777777778,\"#fb9f3a\"],[0.8888888888888888,\"#fdca26\"],[1.0,\"#f0f921\"]],\"sequentialminus\":[[0.0,\"#0d0887\"],[0.1111111111111111,\"#46039f\"],[0.2222222222222222,\"#7201a8\"],[0.3333333333333333,\"#9c179e\"],[0.4444444444444444,\"#bd3786\"],[0.5555555555555556,\"#d8576b\"],[0.6666666666666666,\"#ed7953\"],[0.7777777777777778,\"#fb9f3a\"],[0.8888888888888888,\"#fdca26\"],[1.0,\"#f0f921\"]],\"diverging\":[[0,\"#8e0152\"],[0.1,\"#c51b7d\"],[0.2,\"#de77ae\"],[0.3,\"#f1b6da\"],[0.4,\"#fde0ef\"],[0.5,\"#f7f7f7\"],[0.6,\"#e6f5d0\"],[0.7,\"#b8e186\"],[0.8,\"#7fbc41\"],[0.9,\"#4d9221\"],[1,\"#276419\"]]},\"xaxis\":{\"gridcolor\":\"white\",\"linecolor\":\"white\",\"ticks\":\"\",\"title\":{\"standoff\":15},\"zerolinecolor\":\"white\",\"automargin\":true,\"zerolinewidth\":2},\"yaxis\":{\"gridcolor\":\"white\",\"linecolor\":\"white\",\"ticks\":\"\",\"title\":{\"standoff\":15},\"zerolinecolor\":\"white\",\"automargin\":true,\"zerolinewidth\":2},\"scene\":{\"xaxis\":{\"backgroundcolor\":\"#E5ECF6\",\"gridcolor\":\"white\",\"linecolor\":\"white\",\"showbackground\":true,\"ticks\":\"\",\"zerolinecolor\":\"white\",\"gridwidth\":2},\"yaxis\":{\"backgroundcolor\":\"#E5ECF6\",\"gridcolor\":\"white\",\"linecolor\":\"white\",\"showbackground\":true,\"ticks\":\"\",\"zerolinecolor\":\"white\",\"gridwidth\":2},\"zaxis\":{\"backgroundcolor\":\"#E5ECF6\",\"gridcolor\":\"white\",\"linecolor\":\"white\",\"showbackground\":true,\"ticks\":\"\",\"zerolinecolor\":\"white\",\"gridwidth\":2}},\"shapedefaults\":{\"line\":{\"color\":\"#2a3f5f\"}},\"annotationdefaults\":{\"arrowcolor\":\"#2a3f5f\",\"arrowhead\":0,\"arrowwidth\":1},\"geo\":{\"bgcolor\":\"white\",\"landcolor\":\"#E5ECF6\",\"subunitcolor\":\"white\",\"showland\":true,\"showlakes\":true,\"lakecolor\":\"white\"},\"title\":{\"x\":0.05},\"mapbox\":{\"style\":\"light\"}}},\"xaxis\":{\"anchor\":\"y\",\"domain\":[0.0,1.0],\"title\":{\"text\":\"age\"}},\"yaxis\":{\"anchor\":\"x\",\"domain\":[0.0,1.0],\"title\":{\"text\":\"blk\"}},\"legend\":{\"title\":{\"text\":\"Player\"},\"tracegroupgap\":0},\"margin\":{\"t\":60},\"title\":{\"text\":\"blk over time for 5 neighbors of Tim Duncan\"}},                        {\"responsive\": true}                    ).then(function(){\n",
       "                            \n",
       "var gd = document.getElementById('3ff21ef2-2e29-45a8-87b5-db21142f0ef1');\n",
       "var x = new MutationObserver(function (mutations, observer) {{\n",
       "        var display = window.getComputedStyle(gd).display;\n",
       "        if (!display || display === 'none') {{\n",
       "            console.log([gd, 'removed!']);\n",
       "            Plotly.purge(gd);\n",
       "            observer.disconnect();\n",
       "        }}\n",
       "}});\n",
       "\n",
       "// Listen for the removal of the full notebook cells\n",
       "var notebookContainer = gd.closest('#notebook-container');\n",
       "if (notebookContainer) {{\n",
       "    x.observe(notebookContainer, {childList: true});\n",
       "}}\n",
       "\n",
       "// Listen for the clearing of the current output cell\n",
       "var outputEl = gd.closest('.output');\n",
       "if (outputEl) {{\n",
       "    x.observe(outputEl, {childList: true});\n",
       "}}\n",
       "\n",
       "                        })                };                });            </script>        </div>"
      ]
     },
     "metadata": {},
     "output_type": "display_data"
    }
   ],
   "source": [
    "plot_trajectories(df, \"Tim Duncan\", 6, \"blk\", experiment_result[\"poisson_blk_rflvm\"][\"X\"][-1,:,:],)"
   ]
  },
  {
   "cell_type": "code",
   "execution_count": null,
   "metadata": {},
   "outputs": [],
   "source": []
  }
 ],
 "metadata": {
  "kernelspec": {
   "display_name": "base",
   "language": "python",
   "name": "python3"
  },
  "language_info": {
   "codemirror_mode": {
    "name": "ipython",
    "version": 3
   },
   "file_extension": ".py",
   "mimetype": "text/x-python",
   "name": "python",
   "nbconvert_exporter": "python",
   "pygments_lexer": "ipython3",
   "version": "3.10.9"
  },
  "orig_nbformat": 4
 },
 "nbformat": 4,
 "nbformat_minor": 2
}
